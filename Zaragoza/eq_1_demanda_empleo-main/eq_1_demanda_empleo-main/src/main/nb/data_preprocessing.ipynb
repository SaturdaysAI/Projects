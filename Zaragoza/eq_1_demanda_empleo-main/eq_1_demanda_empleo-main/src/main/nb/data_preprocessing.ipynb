{
 "cells": [
  {
   "cell_type": "code",
   "execution_count": null,
   "id": "341c0d13",
   "metadata": {},
   "outputs": [],
   "source": [
    "import pandas as pd\n",
    "import os\n",
    "from collections import OrderedDict"
   ]
  },
  {
   "cell_type": "code",
   "execution_count": null,
   "id": "464dde87",
   "metadata": {},
   "outputs": [],
   "source": [
    "pd.set_option('display.max_rows', None)\n",
    "pd.set_option('display.max_columns', None)\n",
    "# pd.set_option('display.max_colwidth', None)\n",
    "\n",
    "ROOT_PATH = '...'"
   ]
  },
  {
   "cell_type": "markdown",
   "id": "8a59109d",
   "metadata": {},
   "source": [
    "# Extracting information"
   ]
  },
  {
   "cell_type": "code",
   "execution_count": null,
   "id": "539a8a88",
   "metadata": {},
   "outputs": [],
   "source": [
    "preprocessed_path=ROOT_PATH+'eq_1_demanda_empleo/resources/data/preprocessed/'\n",
    "\n",
    "# Extracting information from CSV files:\n",
    "for subdir, dirs, files in os.walk(preprocessed_path):\n",
    "    df_list=[]\n",
    "    print('Number of CSV files: ', len(files))\n",
    "    for file in files:\n",
    "        file_csv_path=os.path.join(subdir, file)\n",
    "        # print(file_csv_path)\n",
    "        preprocessed_data_df  = pd.read_csv(file_csv_path,sep=',',encoding='utf-8',header=None,skiprows=[0])  \n",
    "        # display(preprocessed_data_df)\n",
    "        df_list.append(preprocessed_data_df)\n",
    "    df_data = pd.concat(df_list, axis=0, ignore_index=True)\n",
    "    df_data.rename({0:'sector',1:'id_job',2:'date',3:'job',4:'city',5:'province',6:'office',7:'content',8:'description',9:'task',10:'requirement',11:'english_level',12:'condition',13:'number'}, axis=1, inplace=True)\n",
    "\n",
    "print('Number of offers: ', df_data.shape[0])\n",
    "print('Number of columns: ', df_data.shape[1])"
   ]
  },
  {
   "cell_type": "code",
   "execution_count": null,
   "id": "1f5052d6",
   "metadata": {},
   "outputs": [],
   "source": [
    "# Removing duplicated rows:\n",
    "df_data.drop_duplicates(subset='id_job', keep=\"last\", inplace=True)\n",
    "print('Number of offers sin duplicados: ', df_data.shape[0])\n",
    "print('Number of columns: ', df_data.shape[1])"
   ]
  },
  {
   "cell_type": "code",
   "execution_count": null,
   "id": "b6696b69",
   "metadata": {},
   "outputs": [],
   "source": [
    "# Column names:\n",
    "column_name_list = df_data.columns.tolist()\n",
    "print('Column names: ', column_name_list)"
   ]
  },
  {
   "cell_type": "markdown",
   "id": "124d8c99",
   "metadata": {},
   "source": [
    "# Analyzing the extracted information"
   ]
  },
  {
   "cell_type": "code",
   "execution_count": null,
   "id": "c5e9450b",
   "metadata": {},
   "outputs": [],
   "source": [
    "# Analyzing unique values by column:\n",
    "for column_name in column_name_list:\n",
    "    print('----------------------------------------')\n",
    "    print('COLUMN NAME: ', column_name)\n",
    "    unique_data_list = df_data[column_name].unique().tolist()\n",
    "    print('Number of unique values: ', len(unique_data_list))\n",
    "    print('Unique values: ', unique_data_list)    "
   ]
  },
  {
   "cell_type": "markdown",
   "id": "892da30d",
   "metadata": {},
   "source": [
    "# Preprocessing texts by column"
   ]
  },
  {
   "cell_type": "code",
   "execution_count": null,
   "id": "84ad26e9",
   "metadata": {},
   "outputs": [],
   "source": [
    "# Cleaning \"province\" column:\n",
    "BAD_PROVINCE_LIST = ['CID Puertomingalvo','MERCAZARAGOZA','MORA DE RUBIELOS Mora De Rubielos']\n",
    "\n",
    "for bad_province in BAD_PROVINCE_LIST:\n",
    "    df_data['province']=df_data['province'].astype(str).str.replace(bad_province,'')\n",
    "    df_data['province']=df_data['province'].astype(str).str.strip()\n",
    "    \n",
    "df_data['province']=df_data['province'].astype(str).str.replace('HUSCA','HUESCA')\n",
    "df_data['province']=df_data['province'].astype(str).str.replace('Zaragoza','ZARAGOZA')\n",
    "\n",
    "print('Unique values: ', df_data['province'].unique().tolist())\n",
    "df_province = df_data.groupby(['province']).size().reset_index(name='count')\n",
    "display(df_province)"
   ]
  },
  {
   "cell_type": "code",
   "execution_count": null,
   "id": "ff1c916f",
   "metadata": {},
   "outputs": [],
   "source": [
    "# Cleaning \"city\" column:\n",
    "BAD_LOCATION_LIST = ['S-MARMITONES', 'S-AJUSTADORES DEL AUTOMÓVIL, EN GENERAL.', 'A-MÓVIL', 'A-MOVIL', 'S-OPERADORES DE HORMIGONERA', 'S-OPERADORES DE GRÚA EN CAMIÓN.', 'S-REPARADORES DE PALETS DE MADERA', 'A- OFICIAL DE PRIMERA', '-EMPLEO PÚBLICO-', 'C@S', 'S-PINTORES DE VEHÍCULOS', '- AJUSTADOR/A DEL AUTOMÓVIL', 'A-ELECTRICISTA Y/O ELECTRÓNICO/A DE AUTOMOCIÓN', 'S-AYUDANTES-FREGAPLATOS', 'A-TELEFONISTA', 'R@S Y AYUDANTES DE COCINA', 'R@', 'S-REPOSTEROS', 'N-CARRETILLERO', 'I@ - TRABAJADOR/A APÍCOLA', '- DEPENDIENTE DE FRUTERÍA', 'A-CARNICERO/A', 'A-CAFETERÍA', 'I@', '- TRABAJADOR/A APÍCOLA', 'S-ELECTRICISTAS', 'A-DEPENDIENTE/A INFORMÁTICA', '- RECAMBISTAS', 'C@ MANTENIMIENTO', 'O-COMERCIALES', '-EMPLEO PÚBLICO-', 'G-MAG, TORNEROS-FRESADORES, MECÁNICOS DE MAQUINARIA PESADA, MECATRÓNICOS, ELECTRICISTAS DE AUTOMOCIÓN', 'S-CRISTALEROS', 'G-MAG', 'N-REPARTO MERCANCIA']\n",
    "BAD_LOCATION_TUPLE_LIST = [('Maria de Huerva','María de Huerva'),('Villanueva de G‡llego','Villamayor de Gállego'),('ƒpila','Épila'),('Alca–iz', 'Alcañiz'), ('A’nsa-Sobrarbe', 'Aínsa-Sobrarbe'), ('BinŽfar', 'Binéfar'), ('Gra–Žn', 'Grañén'), ('H’jar', 'Híjar'), ('La Puebla de AlfindŽn', 'La Puebla de Alfindén'), ('Monz—n', 'Monzón'), ('Sabi–‡nigo', 'Sabiñánigo'), ('Sallent de G‡llego', 'Sallent de Gállego'), ('Villamayor de G‡llego', 'Villamayor de Gállego'), ('Andorra', 'Andorra, Teruel'), ('Andorra, Teruel, Teruel', 'Andorra, Teruel'), ('Alfajar’n', 'Alfajarín'), ('Mazale—n', 'Mazaleón'), ('Caba–as de Ebro', 'Cabañas de Ebro'), ('ATECA', 'Ateca'), ('BARBASTRO', 'Barbastro'), ('HUESCA', 'Huesca'), ('MONZîN', 'Monzón'), ('Sari–ena', 'Sariñena'), ('TARAZONA', 'Tarazona'), ('TERUEL', 'Teruel'), ('ZARAGOZA', 'Zaragoza')]\n",
    "\n",
    "for bad_location in BAD_LOCATION_LIST:\n",
    "    df_data['city']=df_data['city'].astype(str).str.replace(bad_location,'')\n",
    "    \n",
    "for bad_location_tuple in BAD_LOCATION_TUPLE_LIST:\n",
    "    #df_data['city'].astype(str).str\n",
    "    #print(df_data['city'].astype(str).str)\n",
    "    #df_data['city']=' '.join(bad_location_tuple[1] if word == bad_location_tuple[0] else word for word in df_data['city'].astype(str).str.split())\n",
    "    df_data['city']=df_data['city'].astype(str).str.replace(bad_location_tuple[0],bad_location_tuple[1])    \n",
    "    df_data['city']=df_data['city'].astype(str).str.strip()\n",
    "\n",
    "df_data['city']=df_data['city'].astype(str).str.replace('A-ORDESA','Ordesa')\n",
    "\n",
    "print('Unique values: ', df_data['city'].unique().tolist())\n",
    "df_city = df_data.groupby(['city']).size().reset_index(name='count')\n",
    "display(df_city)"
   ]
  },
  {
   "cell_type": "code",
   "execution_count": null,
   "id": "9ee426d5",
   "metadata": {},
   "outputs": [],
   "source": [
    "# Cleaning \"office\" column:\n",
    "BAD_OFFICE_LIST = [('Sabi–‡nigo', 'SABIÑANIGO'), ('SABI„ANIGO', 'SABIÑANIGO'), ('Alca–iz', 'ALCAÑIZ'), ('MONZON', 'MONZÓN'), ('CASPE', 'ZARAGOZA-COMPROMISO DE CASPE'), ('ZARAGOZA-COMPROMISO DE', 'ZARAGOZA-COMPROMISO DE CASPE'), ('EJEA', 'EJEA DE LOS CABALLEROS'), ('ANDORRA', 'ANDORRA, TERUEL'), ('ZARAGORA-CENTRO', 'ZARAGOZA-CENTRO'),('ANDORRA, TERUEL, TERUEL','ANDORRA, TERUEL')]\n",
    "for bad_office in BAD_OFFICE_LIST:\n",
    "    df_data['office']=df_data['office'].astype(str).str.replace(bad_office[0], bad_office[1])\n",
    "    df_data['office']=(df_data['office'].str.split().apply(lambda x: OrderedDict.fromkeys(x).keys()).str.join(' '))\n",
    "    df_data['office']=df_data['office'].astype(str).str.strip()\n",
    "\n",
    "print('Unique values: ', df_data['office'].unique().tolist())\n",
    "df_city = df_data.groupby(['office']).size().reset_index(name='count')\n",
    "display(df_city)"
   ]
  },
  {
   "cell_type": "markdown",
   "id": "dd296256",
   "metadata": {},
   "source": [
    "# Saving cleaned data"
   ]
  },
  {
   "cell_type": "code",
   "execution_count": null,
   "id": "a2f94e4c",
   "metadata": {},
   "outputs": [],
   "source": [
    "cleaned_path=ROOT_PATH+'eq_1_demanda_empleo/resources/data/cleaned/df_data.csv'\n",
    "\n",
    "df_data.to_csv(cleaned_path, index=False)"
   ]
  },
  {
   "cell_type": "code",
   "execution_count": null,
   "id": "d03b518e",
   "metadata": {},
   "outputs": [],
   "source": []
  }
 ],
 "metadata": {
  "kernelspec": {
   "display_name": "Python (saturdays_env)",
   "language": "python",
   "name": "saturdays_env"
  },
  "language_info": {
   "codemirror_mode": {
    "name": "ipython",
    "version": 3
   },
   "file_extension": ".py",
   "mimetype": "text/x-python",
   "name": "python",
   "nbconvert_exporter": "python",
   "pygments_lexer": "ipython3",
   "version": "3.8.3"
  }
 },
 "nbformat": 4,
 "nbformat_minor": 5
}
