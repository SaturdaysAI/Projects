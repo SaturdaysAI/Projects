{
 "cells": [
  {
   "cell_type": "code",
   "execution_count": null,
   "id": "86327b36",
   "metadata": {},
   "outputs": [],
   "source": [
    "import pandas as pd\n",
    "import numpy as np\n",
    "import warnings\n",
    "warnings.simplefilter(action='ignore', category=FutureWarning)\n",
    "\n",
    "ROOT_PATH='...'"
   ]
  },
  {
   "cell_type": "code",
   "execution_count": null,
   "id": "97f01a5b",
   "metadata": {},
   "outputs": [],
   "source": [
    "# pd.set_option('display.max_rows', None)\n",
    "pd.set_option('display.max_columns', None)\n",
    "# pd.set_option('display.max_colwidth', None)"
   ]
  },
  {
   "cell_type": "markdown",
   "id": "db8c6477",
   "metadata": {},
   "source": [
    "# Getting scraping information"
   ]
  },
  {
   "cell_type": "code",
   "execution_count": null,
   "id": "968e8726",
   "metadata": {},
   "outputs": [],
   "source": [
    "scraper_csv_path = ROOT_PATH+'/resources/data/raw/scraping.csv'\n",
    "s_data_df  = pd.read_csv(scraper_csv_path,sep=',',encoding='utf-8')  # header=None,skiprows=[0]\n",
    "s_data_df.drop(['web-scraper-order', 'web-scraper-start-url', 'web-scraper-start-url', 'ofertalink-href', 'page', 'page-href', 'ofertalink'], axis=1, inplace=True)\n",
    "\n",
    "s_data_df['numerooferta'] = s_data_df['numerooferta'].astype(str).str.replace('Datos de la oferta número:', '')\n",
    "\n",
    "s_data_df['contract'] = s_data_df['contract'].astype(str).str.replace('Duración del contrato:', '')\n",
    "s_data_df['contract'] = s_data_df['contract'].astype(str).str.strip()\n",
    "\n",
    "s_data_df['cityandprovince'] = s_data_df['cityandprovince'].astype(str).str.replace('Localidad de Ubicación del Puesto:', '')\n",
    "s_data_df['cityandprovince'] = s_data_df['cityandprovince'].astype(str).str.replace('\\n', '')\n",
    "s_data_df['cityandprovince'] = s_data_df['cityandprovince'].astype(str).str.replace('\\t', '')\n",
    "s_data_df['cityandprovince'] = s_data_df['cityandprovince'].astype(str).str.strip()\n",
    "\n",
    "s_data_df['datosadicionales'] = s_data_df['datosadicionales'].astype(str).str.replace('\\n', '')\n",
    "s_data_df['datosadicionales'] = s_data_df['datosadicionales'].astype(str).str.replace('\\t', '')\n",
    "s_data_df['datosadicionales'] = s_data_df['datosadicionales'].astype(str).str.strip()\n",
    "\n",
    "s_data_df['contract'] = s_data_df['contract'].astype(str).str.replace('días', '')\n",
    "s_data_df['contract'] = s_data_df['contract'].astype(str).str.strip()\n",
    "\n",
    "s_data_df['fecha'] = s_data_df['fecha'].astype(str).str.replace('Fecha de inicio:', '')\n",
    "s_data_df['fecha'] = s_data_df['fecha'].astype(str).str.strip()\n",
    "\n",
    "s_data_df['province'] = s_data_df['province'].astype(str).str.replace('Provincia:', '')\n",
    "s_data_df['province'] = s_data_df['province'].astype(str).str.strip()\n",
    "\n",
    "print('Number of recovered records: ', s_data_df.shape[0])\n",
    "\n",
    "s_data_df = s_data_df.sort_values('numerooferta')\n",
    "\n",
    "#printing all duplicates\n",
    "col_list = s_data_df.columns.tolist()\n",
    "s_data_df = s_data_df.replace('nan',np.nan,regex=True).groupby('numerooferta').apply(lambda x : x.ffill().bfill())\n",
    "\n",
    "s_data_df = s_data_df.drop_duplicates(subset=['numerooferta'], keep='first')\n",
    "\n",
    "s_data_df[['city','province_aux']] = s_data_df['cityandprovince'].astype(str).str.split(\"(\", expand=True,)\n",
    "\n",
    "s_data_df['province_aux'] = s_data_df['province_aux'].astype(str).str.replace(')', '')\n",
    "s_data_df['province_aux'] = s_data_df['province_aux'].astype(str).str.strip()\n",
    "\n",
    "s_data_df.drop(['cityandprovince', 'province_aux'], axis=1, inplace=True)\n",
    "\n",
    "s_data_df.rename(columns={'numerooferta':'id_job', 'datosadicionales': 'description_additional', 'nivelprofesionalbuscado': 'professional_level', 'requerimientos': 'requirement', 'contract': 'contract_duration', 'oferta': 'job', 'fecha':'date'}, inplace=True)\n",
    "\n",
    "print('Number of preprocessed records: ', s_data_df.shape[0])\n",
    "display(s_data_df.head(3))"
   ]
  },
  {
   "cell_type": "markdown",
   "id": "98e9dab7",
   "metadata": {},
   "source": [
    "# Getting PDF information"
   ]
  },
  {
   "cell_type": "code",
   "execution_count": null,
   "id": "cdc15d43",
   "metadata": {},
   "outputs": [],
   "source": [
    "file_csv_path = ROOT_PATH+'/resources/data/cleaned/df_data_pdf.csv'\n",
    "data_df  = pd.read_csv(file_csv_path,sep=',',encoding='utf-8')  # header=None,skiprows=[0]\n",
    "data_df.drop(['english_level'], axis=1, inplace=True)\n",
    "data_df.drop(['number'], axis=1, inplace=True)\n",
    "\n",
    "print('Number of rows: ', data_df.shape[0])\n",
    "data_df.head(3)"
   ]
  },
  {
   "cell_type": "markdown",
   "id": "77f42515",
   "metadata": {},
   "source": [
    "# Mixing both df"
   ]
  },
  {
   "cell_type": "code",
   "execution_count": null,
   "id": "f7616b05",
   "metadata": {},
   "outputs": [],
   "source": [
    "s_data_df['id_job']=s_data_df['id_job'].astype(int)\n",
    "unified_data_df = pd.merge(data_df, s_data_df, on=['id_job', 'job', 'date'], how='outer')\n",
    "unified_data_df = unified_data_df.sort_values('province_x')\n",
    "\n",
    "display(unified_data_df.head(3))\n",
    "print(unified_data_df.shape)"
   ]
  },
  {
   "cell_type": "code",
   "execution_count": null,
   "id": "0c2b25e2",
   "metadata": {},
   "outputs": [],
   "source": [
    "unified_data_df.to_csv(ROOT_PATH+'/resources/data/cleaned/df_data_unified.csv', index=False)"
   ]
  },
  {
   "cell_type": "markdown",
   "id": "1c2faf04",
   "metadata": {},
   "source": [
    "# Preprocessing unified data"
   ]
  },
  {
   "cell_type": "code",
   "execution_count": null,
   "id": "3724df22",
   "metadata": {},
   "outputs": [],
   "source": [
    "df_data_unified = pd.read_excel(ROOT_PATH+'/src/main/nb/df_data_unified.xlsx')  \n",
    "display(df_data_unified.head(3))\n",
    "\n",
    "pd.set_option('display.max_rows', None)"
   ]
  },
  {
   "cell_type": "code",
   "execution_count": null,
   "id": "61683887",
   "metadata": {},
   "outputs": [],
   "source": [
    "# City to upper case:\n",
    "df_data_unified['city'] = df_data_unified['city'].astype(str).str.upper()\n",
    "df_data_unified['city']=df_data_unified['city'].astype(str).str.replace('ALAGON','ALAGÓN')\n",
    "df_data_unified['city']=df_data_unified['city'].astype(str).str.replace('ALMUDEVAR','ALMUDÉVAR')\n",
    "df_data_unified['city']=df_data_unified['city'].astype(str).str.replace('ALMUNIA DE DOÑA GODINA, LA','LA ALMUNIA DE DOÑA GODINA')\n",
    "df_data_unified['city']=df_data_unified['city'].astype(str).str.replace('ALQUEZAR','ALQUÉZAR')\n",
    "df_data_unified['city']=df_data_unified['city'].astype(str).str.replace('ANDORRA,TERUEL','ANDORRA, TERUEL')\n",
    "df_data_unified['city']=df_data_unified['city'].astype(str).str.replace('BINEFAR','BINÉFAR')\n",
    "df_data_unified['city']=df_data_unified['city'].astype(str).str.replace('BURGO DE EBRO, EL','EL BURGO DE EBRO')\n",
    "df_data_unified['city']=df_data_unified['city'].astype(str).str.replace('GINEBROSA, LA','LA GINEBROSA')\n",
    "df_data_unified['city']=df_data_unified['city'].astype(str).str.replace('GRAÑEN','GRAÑÉN')\n",
    "df_data_unified['city']=df_data_unified['city'].astype(str).str.replace('GRADO, EL','EL GRADO')\n",
    "df_data_unified['city']=df_data_unified['city'].astype(str).str.replace('IGRIES','IGRIÉS')\n",
    "df_data_unified['city']=df_data_unified['city'].astype(str).str.replace('JOYOSA, LA','LA JOYOSA')\n",
    "df_data_unified['city']=df_data_unified['city'].astype(str).str.replace('MAGALLON','MAGALLÓN')\n",
    "df_data_unified['city']=df_data_unified['city'].astype(str).str.replace('MARIA DE HUERVA','MARÍA DE HUERVA')\n",
    "df_data_unified['city']=df_data_unified['city'].astype(str).str.replace('MAZALEON','MAZALEÓN')\n",
    "df_data_unified['city']=df_data_unified['city'].astype(str).str.replace('MONZON','MONZÓN')\n",
    "df_data_unified['city']=df_data_unified['city'].astype(str).str.replace('MAZALEON','MAZALEÓN')\n",
    "df_data_unified['city']=df_data_unified['city'].astype(str).str.replace('PUEBLA DE ALFINDEN, LA','LA PUEBLA DE ALFINDEN')\n",
    "df_data_unified['city']=df_data_unified['city'].astype(str).str.replace('PUEBLA DE VALVERDE, LA','LA PUEBLA DE VALVERDE')\n",
    "df_data_unified['city']=df_data_unified['city'].astype(str).str.replace('SABIÑANIGO','SABIÑÁNIGO')\n",
    "df_data_unified['city']=df_data_unified['city'].astype(str).str.replace('SARRION','SARRIÓN')\n",
    "df_data_unified['city']=df_data_unified['city'].astype(str).str.replace('SOTONERA, LA','LA SOTONERA')\n",
    "df_data_unified['city']=df_data_unified['city'].astype(str).str.replace('VILLANUEVA DE GALLEGO','VILLANUEVA DE GÁLLEGO')\n",
    "df_data_unified['city']=df_data_unified['city'].astype(str).str.replace('VILLANUA','VILLANÚA')\n",
    "df_data_unified['city']=df_data_unified['city'].astype(str).str.replace('EPILA','ÉPILA')\n",
    "\n",
    "df_data_unified.groupby(['city']).size().reset_index(name='count')"
   ]
  },
  {
   "cell_type": "code",
   "execution_count": null,
   "id": "bcc65360",
   "metadata": {
    "scrolled": true
   },
   "outputs": [],
   "source": [
    "# Office:\n",
    "df_data_unified['office']=df_data_unified['office'].astype(str).str.replace('SABIÑANIGO','SABIÑÁNIGO')\n",
    "df_data_unified['office']=df_data_unified['office'].astype(str).str.replace('BINEFAR','BINÉFAR')\n",
    "df_data_unified['office']=df_data_unified['office'].astype(str).str.replace('ZARAGOZA-SANTANDER','ZARAGOZA-CALLE SANTANDER')\n",
    "\n",
    "df_data_unified.groupby(['office']).size().reset_index(name='count')"
   ]
  },
  {
   "cell_type": "code",
   "execution_count": null,
   "id": "6ea8c323",
   "metadata": {},
   "outputs": [],
   "source": [
    "# Province:\n",
    "df_data_unified.groupby(['province']).size().reset_index(name='count')"
   ]
  },
  {
   "cell_type": "code",
   "execution_count": null,
   "id": "4f9327fa",
   "metadata": {},
   "outputs": [],
   "source": [
    "# Job:\n",
    "df_data_unified['office']=df_data_unified['office'].astype(str).str.replace('ADMINISTRATIVOS-CONTABLES','ADMINISTRATIVOS CONTABLES')\n",
    "\n",
    "df_data_unified.groupby(['job']).size().reset_index(name='count')"
   ]
  },
  {
   "cell_type": "code",
   "execution_count": null,
   "id": "26107216",
   "metadata": {},
   "outputs": [],
   "source": [
    "# Sector:\n",
    "df_data_unified.groupby(['sector']).size().reset_index(name='count')"
   ]
  },
  {
   "cell_type": "code",
   "execution_count": null,
   "id": "e1ce505e",
   "metadata": {},
   "outputs": [],
   "source": [
    "df_data_unified.to_csv(ROOT_PATH+'/src/main/nb/df_data_unified.csv', index=False)"
   ]
  },
  {
   "cell_type": "code",
   "execution_count": null,
   "id": "438947f7",
   "metadata": {},
   "outputs": [],
   "source": []
  }
 ],
 "metadata": {
  "kernelspec": {
   "display_name": "Python (saturdays_env)",
   "language": "python",
   "name": "saturdays_env"
  },
  "language_info": {
   "codemirror_mode": {
    "name": "ipython",
    "version": 3
   },
   "file_extension": ".py",
   "mimetype": "text/x-python",
   "name": "python",
   "nbconvert_exporter": "python",
   "pygments_lexer": "ipython3",
   "version": "3.8.3"
  }
 },
 "nbformat": 4,
 "nbformat_minor": 5
}
