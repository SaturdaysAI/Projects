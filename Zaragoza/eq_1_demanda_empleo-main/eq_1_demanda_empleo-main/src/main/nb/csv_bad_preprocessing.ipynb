{
 "cells": [
  {
   "cell_type": "code",
   "execution_count": null,
   "id": "f214489d",
   "metadata": {},
   "outputs": [],
   "source": [
    "import pandas as pd"
   ]
  },
  {
   "cell_type": "code",
   "execution_count": null,
   "id": "ff81cc35",
   "metadata": {},
   "outputs": [],
   "source": [
    "BAD_WORD_LIST = [('PòBLICAS','PÚBLICAS'),('ALBA„IL','ALBAÑIL'),('ALBA„ILERÍA','ALBAÑILERÍA'),('ESTA„O','ESTAÑO'),('ALBA„ILES','ALBAÑILES'),('ç', 'Á'), ('ƒ', 'É'), ('ê', 'Í'), ('î', 'Ó'), ('SE„ORAS', 'SEÑORAS'), ('DISE„ADOR', 'DISEÑADOR'), ('DISE„ADORES', 'DISEÑADORES'), ('DISE„O', 'DISEÑO'), ('ALCA„IZ', 'ALCAÑIZ'), ('Alca–iz', 'ALCAÑIZ'), ('Tarazona', 'TARAZONA'), ('Sabi–‡nigo', 'SABIÑANIGO'), ('SABI„ANIGO', 'SABIÑANIGO')]"
   ]
  },
  {
   "cell_type": "code",
   "execution_count": null,
   "id": "2a44f3a0",
   "metadata": {},
   "outputs": [],
   "source": [
    "ROOT_PATH = '...'\n",
    "folder_path = ROOT_PATH+'/eq_1_demanda_empleo/src/main/nb/'\n",
    "\n",
    "file_name_list = ['ofertas_S17S20_4.2_bad.csv', 'ofertas_S21_4.2_bad.csv', 'ofertas_S22_4.2_bad.csv','ofertas_S7_14.2_bad.csv']\n",
    "\n",
    "for file_name in file_name_list:\n",
    "    df_data  = pd.read_csv(folder_path+file_name, sep=';', encoding='cp1252', header=None, skiprows=[0])  \n",
    "    df_data.rename({0:'sector',1:'id_job',2:'date',3:'job',4:'city',5:'province',6:'office',7:'content',8:'description',9:'task',10:'requirement',11:'english_level',12:'condition',13:'number'}, axis=1, inplace=True)\n",
    "\n",
    "    for BAD_WORD in BAD_WORD_LIST: \n",
    "        df_data['job']=df_data['job'].astype(str).str.replace(BAD_WORD[0], BAD_WORD[1])\n",
    "        df_data['office']=df_data['office'].astype(str).str.replace(BAD_WORD[0], BAD_WORD[1])  \n",
    "        df_data['sector']=df_data['sector'].astype(str).str.replace(BAD_WORD[0], BAD_WORD[1]) \n",
    "    unique_job_list = df_data['job'].unique().tolist()\n",
    "    unique_office_list = df_data['office'].unique().tolist()\n",
    "    unique_sector_list = df_data['sector'].unique().tolist()\n",
    "    print('unique_job_list: ', unique_job_list)\n",
    "    print('unique_office_list: ', unique_office_list)\n",
    "    print('unique_sector_list: ', unique_sector_list)\n",
    "       \n",
    "    new_file_name = file_name.replace('_bad', '')\n",
    "    df_data.to_csv(folder_path+new_file_name, index=False, encoding='utf-8')\n",
    "\n",
    "    # display(df_data.head(5))\n",
    "    display(df_data.shape)"
   ]
  },
  {
   "cell_type": "code",
   "execution_count": null,
   "id": "2b5a507e",
   "metadata": {},
   "outputs": [],
   "source": []
  },
  {
   "cell_type": "code",
   "execution_count": null,
   "id": "f77ba82c",
   "metadata": {},
   "outputs": [],
   "source": []
  }
 ],
 "metadata": {
  "kernelspec": {
   "display_name": "Python (saturdays_env)",
   "language": "python",
   "name": "saturdays_env"
  },
  "language_info": {
   "codemirror_mode": {
    "name": "ipython",
    "version": 3
   },
   "file_extension": ".py",
   "mimetype": "text/x-python",
   "name": "python",
   "nbconvert_exporter": "python",
   "pygments_lexer": "ipython3",
   "version": "3.8.3"
  }
 },
 "nbformat": 4,
 "nbformat_minor": 5
}
