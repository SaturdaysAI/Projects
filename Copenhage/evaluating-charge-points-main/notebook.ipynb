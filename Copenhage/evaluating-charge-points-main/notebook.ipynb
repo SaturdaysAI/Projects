{
 "cells": [
  {
   "cell_type": "code",
   "execution_count": null,
   "id": "fea139e7",
   "metadata": {},
   "outputs": [],
   "source": [
    "import numpy as np\n",
    "import pandas as pd\n",
    "\n",
    "# libraries to filter warnings in some algorithms\n",
    "import warnings\n",
    "warnings.filterwarnings(\"ignore\")\n",
    "\n",
    "#Plotly for graphing\n",
    "import plotly.graph_objects as go\n",
    "import plotly.express as px"
   ]
  },
  {
   "cell_type": "code",
   "execution_count": null,
   "id": "d71c9e18",
   "metadata": {},
   "outputs": [],
   "source": [
    "df_charge = pd.read_csv(\"df_charge5.csv\")\n"
   ]
  },
  {
   "cell_type": "code",
   "execution_count": null,
   "id": "f88642f0",
   "metadata": {},
   "outputs": [],
   "source": [
    "df_charge.head()"
   ]
  },
  {
   "cell_type": "code",
   "execution_count": null,
   "id": "92a2ce49",
   "metadata": {},
   "outputs": [],
   "source": [
    "df2 = df_charge[['id', 'team_price_group']].copy()\n",
    "df2.head()"
   ]
  },
  {
   "cell_type": "code",
   "execution_count": null,
   "id": "9b2e7d35",
   "metadata": {},
   "outputs": [],
   "source": [
    "df2 = df2.astype(object).replace(np.nan, 'None')"
   ]
  },
  {
   "cell_type": "code",
   "execution_count": null,
   "id": "0751c0fb",
   "metadata": {},
   "outputs": [],
   "source": [
    "df2['id'] = df2['id'].astype('string')\n",
    "df2['team_price_group'] = df2['team_price_group'].astype('string')"
   ]
  },
  {
   "cell_type": "code",
   "execution_count": null,
   "id": "b3ddd11e",
   "metadata": {},
   "outputs": [],
   "source": [
    "df2.head()"
   ]
  },
  {
   "cell_type": "code",
   "execution_count": null,
   "id": "66858315",
   "metadata": {},
   "outputs": [],
   "source": [
    "df2.dtypes"
   ]
  },
  {
   "cell_type": "code",
   "execution_count": null,
   "id": "192d8ff3",
   "metadata": {},
   "outputs": [],
   "source": [
    "df2['team_price_group'] = df2[['id', 'team_price_group']].apply(lambda x: '|'.join(x), axis=1)"
   ]
  },
  {
   "cell_type": "code",
   "execution_count": null,
   "id": "267e7bc8",
   "metadata": {},
   "outputs": [],
   "source": [
    "df2.head()"
   ]
  },
  {
   "cell_type": "code",
   "execution_count": null,
   "id": "b8ab95b6",
   "metadata": {},
   "outputs": [],
   "source": [
    "df3 = pd.DataFrame(df2[\"team_price_group\"].str.split('|', expand=True).values,\n",
    "                  columns=['id','team', 'kwh_price', 'charger', 'other'])"
   ]
  },
  {
   "cell_type": "code",
   "execution_count": null,
   "id": "085c77b7",
   "metadata": {},
   "outputs": [],
   "source": [
    "df3.head()"
   ]
  },
  {
   "cell_type": "code",
   "execution_count": null,
   "id": "08a7a8b0",
   "metadata": {},
   "outputs": [],
   "source": [
    "df3.drop(['team', 'kwh_price', 'other'], axis=1, inplace=True)\n",
    "df3.head()"
   ]
  },
  {
   "cell_type": "code",
   "execution_count": null,
   "id": "e1952e65",
   "metadata": {},
   "outputs": [],
   "source": [
    "df3.groupby(by=['charger']).count()"
   ]
  },
  {
   "cell_type": "code",
   "execution_count": null,
   "id": "90f9b7af",
   "metadata": {},
   "outputs": [],
   "source": [
    "df3.id = pd.to_numeric(df3.id, errors='coerce').fillna(0).astype(np.int64)\n",
    "df3.head()"
   ]
  },
  {
   "cell_type": "code",
   "execution_count": null,
   "id": "bce2c3ad",
   "metadata": {},
   "outputs": [],
   "source": [
    "df3.dtypes"
   ]
  },
  {
   "cell_type": "code",
   "execution_count": null,
   "id": "c3844206",
   "metadata": {},
   "outputs": [],
   "source": [
    "df_charge = pd.merge(df_charge, df3, on=['id'], how='left')\n",
    "df_charge.head()"
   ]
  },
  {
   "cell_type": "raw",
   "id": "c9b40272",
   "metadata": {},
   "source": []
  },
  {
   "cell_type": "code",
   "execution_count": null,
   "id": "3aad3986",
   "metadata": {},
   "outputs": [],
   "source": [
    "df_charge.set_index('id')\n",
    "df_charge.head()"
   ]
  },
  {
   "cell_type": "markdown",
   "id": "71c56b20",
   "metadata": {},
   "source": [
    "<font color=\"red\">Charge_point is to be added after the cklustering is done, we want it for the analysis not for the clustering itself. For instance: histogram of cluster by charge_point_id.</font>"
   ]
  },
  {
   "cell_type": "code",
   "execution_count": null,
   "id": "73c2cdcb",
   "metadata": {},
   "outputs": [],
   "source": [
    "# ADD Coordinates\n",
    "\n",
    "\"\"\"ADD COORDINATES for the clustering. \n",
    "Before dropping charge_point_id use it to concatenate the coordinates into the dataset\"\"\"\n",
    "\n",
    "df_points = pd.read_csv(\"charge_points.csv\")\n",
    "df_points.head()"
   ]
  },
  {
   "cell_type": "code",
   "execution_count": null,
   "id": "e548b612",
   "metadata": {},
   "outputs": [],
   "source": [
    "df_points_merge = pd.DataFrame(zip(df_points.id, df_points.lat, df_points.lng))\n",
    "df_points_merge.head()"
   ]
  },
  {
   "cell_type": "code",
   "execution_count": null,
   "id": "767849f5",
   "metadata": {},
   "outputs": [],
   "source": [
    "df_points_merge = df_points_merge.rename(columns={0 : 'charge_point_id', 1 : 'lat', 2 :'lng'})\n",
    "df_points_merge.head()"
   ]
  },
  {
   "cell_type": "code",
   "execution_count": null,
   "id": "265c74ab",
   "metadata": {},
   "outputs": [],
   "source": [
    "df_charge = pd.merge(df_charge, df_points_merge, on=['charge_point_id'], how='left')\n",
    "df_charge.head()"
   ]
  },
  {
   "cell_type": "code",
   "execution_count": null,
   "id": "2096bf88",
   "metadata": {},
   "outputs": [],
   "source": [
    "#in the futre get the team_price_group\n",
    "charge_point = df_charge['charge_point_id']\n",
    "df_charge.drop(['state', 'vehicle', 'failed_at', 'failed_reason', 'end_meter_kwh', 'scheduled_stop_at', 'start_meter_kwh', 'native_schedule', 'stopped_by_user', 'start_after', 'team_price_group', 'soc', 'socs', 'created', 'kwh_limit', 'Unnamed: 0', 'cable_plugged_in_at', 'last_stop_attempt_at','currency', 'charge_point_id', 'start_source'], axis=1, inplace=True)"
   ]
  },
  {
   "cell_type": "code",
   "execution_count": null,
   "id": "afe9b4a4",
   "metadata": {},
   "outputs": [],
   "source": [
    "#df_charge['charge_point_id'] = df_charge['charge_point_id'].astype('category')\n",
    "#df_charge.info()"
   ]
  },
  {
   "cell_type": "code",
   "execution_count": null,
   "id": "fe46e17d",
   "metadata": {},
   "outputs": [],
   "source": [
    "df_charge.head()"
   ]
  },
  {
   "cell_type": "code",
   "execution_count": null,
   "id": "0d68da66",
   "metadata": {},
   "outputs": [],
   "source": [
    "df_charge = pd.get_dummies(df_charge)\n",
    "df_charge.head()"
   ]
  },
  {
   "cell_type": "code",
   "execution_count": null,
   "id": "3344dfaf",
   "metadata": {},
   "outputs": [],
   "source": [
    "norm = df_charge.copy()\n",
    "nmax = norm.max()\n",
    "nmin = norm.min()\n",
    "norm = (norm-nmin)/(nmax-nmin)\n",
    "norm.shape"
   ]
  },
  {
   "cell_type": "code",
   "execution_count": null,
   "id": "c84b23f2",
   "metadata": {},
   "outputs": [],
   "source": [
    "from sklearn.decomposition import PCA\n",
    "import matplotlib.pyplot as plt"
   ]
  },
  {
   "cell_type": "code",
   "execution_count": null,
   "id": "8f88fad2",
   "metadata": {},
   "outputs": [],
   "source": [
    "pca = PCA().fit(norm.values)\n",
    "plt.plot(np.cumsum(pca.explained_variance_ratio_))\n",
    "plt.xlabel('number of components')\n",
    "plt.ylabel('cumulative explained variance');"
   ]
  },
  {
   "cell_type": "code",
   "execution_count": null,
   "id": "0edf55eb",
   "metadata": {},
   "outputs": [],
   "source": [
    "pca = PCA(13)\n",
    "projected = pca.fit_transform(norm.values)\n",
    "print(norm.values.shape)\n",
    "print(projected.shape)"
   ]
  },
  {
   "cell_type": "code",
   "execution_count": null,
   "id": "432a5cb2",
   "metadata": {},
   "outputs": [],
   "source": [
    "plt.scatter(projected[:,0], projected[:, 1],\n",
    "           c=norm.index, edgecolor='none', alpha=0.5,\n",
    "           cmap=plt.cm.get_cmap('BrBG', 10))\n",
    "\n",
    "plt.xlabel('component 1')\n",
    "plt.ylabel('component 2')\n",
    "#plt.zlabel('component 3')\n",
    "plt.colorbar();"
   ]
  },
  {
   "cell_type": "code",
   "execution_count": null,
   "id": "95a78ca5",
   "metadata": {},
   "outputs": [],
   "source": [
    "from sklearn.cluster import KMeans"
   ]
  },
  {
   "cell_type": "code",
   "execution_count": null,
   "id": "087683ca",
   "metadata": {},
   "outputs": [],
   "source": [
    "pca = PCA(n_components=13)\n",
    "pca.fit(norm)\n",
    "\n",
    "scores_pca = pca.transform(norm)"
   ]
  },
  {
   "cell_type": "code",
   "execution_count": null,
   "id": "5a35dd0f",
   "metadata": {},
   "outputs": [],
   "source": [
    "wcss=[]\n",
    "\n",
    "for i in range(1,21):\n",
    "    kmeans_pca = KMeans(n_clusters = i, init = 'k-means++', random_state = 42)\n",
    "    kmeans_pca.fit(scores_pca)\n",
    "    wcss.append(kmeans_pca.inertia_)"
   ]
  },
  {
   "cell_type": "code",
   "execution_count": null,
   "id": "f91bf0fa",
   "metadata": {},
   "outputs": [],
   "source": [
    "plt.figure(figsize = (10,8))\n",
    "plt.plot(range(1,21), wcss, marker = 'X', linestyle = '--')\n",
    "plt.xlabel('Number of Clusters')\n",
    "plt.ylabel('K-means with PCA Clustering')\n",
    "plt.show()"
   ]
  },
  {
   "cell_type": "code",
   "execution_count": null,
   "id": "9364a0d2",
   "metadata": {},
   "outputs": [],
   "source": [
    "n_clus = 15\n",
    "kmeans_pca = KMeans(n_clusters = n_clus, init = 'k-means++', random_state = 42)"
   ]
  },
  {
   "cell_type": "code",
   "execution_count": null,
   "id": "aa182625",
   "metadata": {},
   "outputs": [],
   "source": [
    "kmeans_pca.fit(scores_pca)"
   ]
  },
  {
   "cell_type": "markdown",
   "id": "72eb1dd8",
   "metadata": {},
   "source": [
    "# Dataset with Clusters"
   ]
  },
  {
   "cell_type": "markdown",
   "id": "fd9bf7a7",
   "metadata": {},
   "source": [
    "Missing to add back in the charge_point"
   ]
  },
  {
   "cell_type": "code",
   "execution_count": null,
   "id": "cfe1e061",
   "metadata": {
    "scrolled": true
   },
   "outputs": [],
   "source": [
    "df_segm_pca_kmeans = pd.concat([df_charge.reset_index(drop=False), pd.DataFrame(scores_pca)], axis=1)\n",
    "df_segm_pca_kmeans.columns.values[-13:] = ['Component_1', 'Component_2', 'Component_3', 'Component_4', 'Component_5', 'Component_6',\n",
    "                                          'Component_7', 'Component_8', 'Compent_9', 'Component_10', 'Component_11', 'Compent_12'\n",
    "                                          , 'Component_13']\n",
    "df_segm_pca_kmeans['Segment K-means PCA'] = kmeans_pca.labels_"
   ]
  },
  {
   "cell_type": "code",
   "execution_count": null,
   "id": "a13cc63a",
   "metadata": {},
   "outputs": [],
   "source": [
    "df_segm_pca_kmeans.head()"
   ]
  },
  {
   "cell_type": "code",
   "execution_count": null,
   "id": "6be3c7f8",
   "metadata": {},
   "outputs": [],
   "source": [
    "df_segm_pca_kmeans['Segment'] = df_segm_pca_kmeans['Segment K-means PCA'].map({0:'first',\n",
    "                                                                              1: 'second',\n",
    "                                                                              2: 'third',\n",
    "                                                                              3: 'fourth',\n",
    "                                                                              4: 'fifth',\n",
    "                                                                              5: 'sixth',\n",
    "                                                                              6: 'seventh',\n",
    "                                                                              7: 'eigth',\n",
    "                                                                              8: '9',\n",
    "                                                                              9: '10',\n",
    "                                                                              10: '11', \n",
    "                                                                              11: '12',\n",
    "                                                                              12: '13',\n",
    "                                                                              13: '14',\n",
    "                                                                              14: '15'})\n",
    "\n",
    "df_segm_pca_kmeans['Segment'].head()"
   ]
  },
  {
   "cell_type": "code",
   "execution_count": null,
   "id": "d63dae1c",
   "metadata": {},
   "outputs": [],
   "source": []
  },
  {
   "cell_type": "code",
   "execution_count": null,
   "id": "85ffd29f",
   "metadata": {},
   "outputs": [],
   "source": [
    "import seaborn as sns\n",
    "x_axis = df_segm_pca_kmeans['Component_2']\n",
    "y_axis = df_segm_pca_kmeans['Component_1']\n",
    "plt.figure(figsize = (10, 8))\n",
    "sns.scatterplot(x_axis, y_axis, hue = df_segm_pca_kmeans['Segment'])\n",
    "plt.title('Clusters by PCA Components')\n",
    "plt.show()"
   ]
  },
  {
   "cell_type": "code",
   "execution_count": null,
   "id": "7bc3d61c",
   "metadata": {},
   "outputs": [],
   "source": [
    "x_axis = df_segm_pca_kmeans['price']\n",
    "y_axis = df_segm_pca_kmeans['kwh']\n",
    "plt.figure(figsize = (10, 8))\n",
    "sns.scatterplot(x_axis, y_axis, hue = df_segm_pca_kmeans['Segment'])\n",
    "plt.title('Clusters by PCA Components')\n",
    "plt.show()"
   ]
  },
  {
   "cell_type": "code",
   "execution_count": null,
   "id": "c7b8f45e",
   "metadata": {},
   "outputs": [],
   "source": [
    "fig = px.scatter_3d(df_segm_pca_kmeans, x='Component_2', y='Component_1', z='Component_3',\n",
    "              color='Segment')\n",
    "fig.show()"
   ]
  },
  {
   "cell_type": "code",
   "execution_count": null,
   "id": "6936dd2a",
   "metadata": {},
   "outputs": [],
   "source": [
    "fig = px.scatter_3d(df_segm_pca_kmeans, x='Component_8', y='Component_1', z='Component_7',\n",
    "              color='Segment')\n",
    "fig.show()"
   ]
  },
  {
   "cell_type": "code",
   "execution_count": null,
   "id": "5c6e755a",
   "metadata": {},
   "outputs": [],
   "source": [
    "import plotly.express as px\n",
    "#df = px.data.iris()\n",
    "fig = px.scatter(df_segm_pca_kmeans, x=\"Component_2\", y=\"Component_1\", color=\"Segment\",\n",
    "                 size='duration', hover_data=['price'])\n",
    "fig.show()"
   ]
  },
  {
   "cell_type": "code",
   "execution_count": null,
   "id": "5d0dbdb8",
   "metadata": {},
   "outputs": [],
   "source": [
    "import plotly.express as px\n",
    "#df = px.data.iris()\n",
    "fig = px.scatter(df_segm_pca_kmeans, x=\"Component_4\", y=\"Component_3\", color=\"Segment\",\n",
    "                 size='duration', hover_data=['price'])\n",
    "fig.show()"
   ]
  },
  {
   "cell_type": "code",
   "execution_count": null,
   "id": "1a65dd59",
   "metadata": {},
   "outputs": [],
   "source": [
    "import plotly.express as px\n",
    "#df = px.data.iris()\n",
    "fig = px.scatter(df_segm_pca_kmeans, x=\"Component_6\", y=\"Component_5\", color=\"Segment\",\n",
    "                 size='duration', hover_data=['price'])\n",
    "fig.show()"
   ]
  },
  {
   "cell_type": "code",
   "execution_count": null,
   "id": "f6900722",
   "metadata": {},
   "outputs": [],
   "source": [
    "import plotly.express as px\n",
    "#df = px.data.iris()\n",
    "fig = px.scatter(df_segm_pca_kmeans, x=\"Component_8\", y=\"Component_7\", color=\"Segment\",\n",
    "                 size='duration', hover_data=['price'])\n",
    "fig.show()"
   ]
  },
  {
   "cell_type": "markdown",
   "id": "5c7cfca8",
   "metadata": {},
   "source": [
    "Charge_point is to be added after the cklustering is done, we want it for the analysis not for the clustering itself. For instance: histogram of cluster by charge_point_id."
   ]
  },
  {
   "cell_type": "code",
   "execution_count": null,
   "id": "6be2d9bb",
   "metadata": {},
   "outputs": [],
   "source": [
    "#adding back charge points id\n",
    "df_segm_pca_kmeans = df_segm_pca_kmeans.join(charge_point)\n",
    "\n",
    "\n",
    "df_segm_pca_kmeans.head()"
   ]
  },
  {
   "cell_type": "markdown",
   "id": "dbfbc078",
   "metadata": {},
   "source": [
    "# Data Exploration of the Clusters"
   ]
  },
  {
   "cell_type": "code",
   "execution_count": null,
   "id": "6ee435a7",
   "metadata": {},
   "outputs": [],
   "source": [
    "# just checking out how many charges by segment\n",
    "df_segm_pca_kmeans.groupby(by=['Segment']).count()"
   ]
  },
  {
   "cell_type": "markdown",
   "id": "426dc802",
   "metadata": {},
   "source": []
  },
  {
   "cell_type": "markdown",
   "id": "ee1c27b8",
   "metadata": {},
   "source": [
    "# First Cluster"
   ]
  },
  {
   "cell_type": "code",
   "execution_count": null,
   "id": "e3b43160",
   "metadata": {},
   "outputs": [],
   "source": [
    "#creating a dataframe based off of the first cluster\n",
    "first_clus = df_segm_pca_kmeans[df_segm_pca_kmeans['Segment']=='first']\n",
    "\n",
    "first_clus.head()"
   ]
  },
  {
   "cell_type": "code",
   "execution_count": null,
   "id": "16e49c1e",
   "metadata": {},
   "outputs": [],
   "source": [
    "first_clus.describe()"
   ]
  },
  {
   "cell_type": "code",
   "execution_count": null,
   "id": "cd9f32cf",
   "metadata": {},
   "outputs": [],
   "source": [
    "first_clus.sum()"
   ]
  },
  {
   "cell_type": "code",
   "execution_count": null,
   "id": "cbf8dbf4",
   "metadata": {},
   "outputs": [],
   "source": [
    "fig = px.scatter_3d(df_segm_pca_kmeans, x='price', y='kwh', z='duration',\n",
    "              color='Segment')\n",
    "fig.show()"
   ]
  },
  {
   "cell_type": "markdown",
   "id": "efcc0c83",
   "metadata": {},
   "source": [
    "# Second Cluster"
   ]
  },
  {
   "cell_type": "code",
   "execution_count": null,
   "id": "740f92e5",
   "metadata": {},
   "outputs": [],
   "source": [
    "#creating a dataframe based off of the second cluster\n",
    "\n",
    "second_clus = df_segm_pca_kmeans[df_segm_pca_kmeans['Segment']=='second']\n",
    "\n",
    "\n",
    "second_clus.head()"
   ]
  },
  {
   "cell_type": "code",
   "execution_count": null,
   "id": "714f21dc",
   "metadata": {},
   "outputs": [],
   "source": [
    "second_clus.describe()"
   ]
  },
  {
   "cell_type": "code",
   "execution_count": null,
   "id": "94bcb1c0",
   "metadata": {},
   "outputs": [],
   "source": [
    "second_clus.sum()"
   ]
  },
  {
   "cell_type": "code",
   "execution_count": null,
   "id": "3442f198",
   "metadata": {},
   "outputs": [],
   "source": [
    "fig = px.scatter_3d(df_segm_pca_kmeans, x='start_source_api', y='price', z='duration',\n",
    "              color='Segment')\n",
    "fig.show()"
   ]
  },
  {
   "cell_type": "markdown",
   "id": "86ccbd41",
   "metadata": {},
   "source": [
    "# Third Cluster"
   ]
  },
  {
   "cell_type": "code",
   "execution_count": null,
   "id": "66efc3b1",
   "metadata": {},
   "outputs": [],
   "source": [
    "#creating a dataframe based off of the first cluster\n",
    "third_clus = df_segm_pca_kmeans[df_segm_pca_kmeans['Segment']=='third']\n",
    "\n",
    "third_clus.head()"
   ]
  },
  {
   "cell_type": "code",
   "execution_count": null,
   "id": "342b729a",
   "metadata": {},
   "outputs": [],
   "source": [
    "third_clus.describe()"
   ]
  },
  {
   "cell_type": "code",
   "execution_count": null,
   "id": "f83f60dc",
   "metadata": {},
   "outputs": [],
   "source": [
    "third_clus.sum()"
   ]
  },
  {
   "cell_type": "code",
   "execution_count": null,
   "id": "a98eb57a",
   "metadata": {},
   "outputs": [],
   "source": [
    "fig = px.scatter_3d(df_segm_pca_kmeans, x='charge_point_id', y='price', z='duration',\n",
    "              color='Segment')\n",
    "fig.show()"
   ]
  },
  {
   "cell_type": "code",
   "execution_count": null,
   "id": "04e285e3",
   "metadata": {},
   "outputs": [],
   "source": [
    "third_cG=third_clus.groupby(['charge_point_id']).count()\n",
    "\n",
    "third_cG.head()"
   ]
  },
  {
   "cell_type": "code",
   "execution_count": null,
   "id": "863edd62",
   "metadata": {},
   "outputs": [],
   "source": [
    "third_cG.rank(self, axis=0, method='average', numeric_only=None, na_option='keep', ascending=True, pct=False)"
   ]
  },
  {
   "cell_type": "code",
   "execution_count": null,
   "id": "eb82c036",
   "metadata": {},
   "outputs": [],
   "source": [
    "third_cG['pop_charge_pts'] = third_cG['id'].rank(method='max')\n",
    "third_cG.head()"
   ]
  },
  {
   "cell_type": "markdown",
   "id": "aac24469",
   "metadata": {},
   "source": [
    "# Fourth Cluster"
   ]
  },
  {
   "cell_type": "code",
   "execution_count": null,
   "id": "338944a2",
   "metadata": {},
   "outputs": [],
   "source": [
    "fourth_clus = df_segm_pca_kmeans[df_segm_pca_kmeans['Segment']=='fourth']\n",
    "\n",
    "fourth_clus.head()"
   ]
  },
  {
   "cell_type": "code",
   "execution_count": null,
   "id": "e58bd1f4",
   "metadata": {},
   "outputs": [],
   "source": [
    "fourth_clus.describe()"
   ]
  },
  {
   "cell_type": "code",
   "execution_count": null,
   "id": "bb278c72",
   "metadata": {},
   "outputs": [],
   "source": [
    "fourth_clus.sum()"
   ]
  },
  {
   "cell_type": "code",
   "execution_count": null,
   "id": "b0cfcf50",
   "metadata": {},
   "outputs": [],
   "source": [
    "#spot for graph of fourth segment, but made up of four different start types"
   ]
  },
  {
   "cell_type": "markdown",
   "id": "eaf4fcd1",
   "metadata": {},
   "source": [
    "# Adding a few columns to the dataset to make data easier to understand"
   ]
  },
  {
   "cell_type": "code",
   "execution_count": null,
   "id": "8614acb6",
   "metadata": {},
   "outputs": [],
   "source": [
    "#adding hours and minutes conversions for duration\n",
    "df_segm_pca_kmeans['duration_hours'] = (df_segm_pca_kmeans['duration'] / 3600).round(2)\n",
    "\n",
    "df_segm_pca_kmeans['duration_minutes'] = (df_segm_pca_kmeans['duration'] / 60).round(2)"
   ]
  },
  {
   "cell_type": "code",
   "execution_count": null,
   "id": "c9655eca",
   "metadata": {},
   "outputs": [],
   "source": [
    "#adding price per kwh column\n",
    "df_segm_pca_kmeans['price_kwh'] = (df_segm_pca_kmeans['price'] / df_segm_pca_kmeans['kwh']).round(2)"
   ]
  },
  {
   "cell_type": "code",
   "execution_count": null,
   "id": "9a1d580f",
   "metadata": {},
   "outputs": [],
   "source": [
    "df_segm_pca_kmeans.head()"
   ]
  },
  {
   "cell_type": "markdown",
   "id": "204a5ed4",
   "metadata": {},
   "source": [
    "# Comparing the Four Segments"
   ]
  },
  {
   "cell_type": "code",
   "execution_count": null,
   "id": "9daa8715",
   "metadata": {},
   "outputs": [],
   "source": [
    "fig = px.violin(df_segm_pca_kmeans, y=\"duration_hours\", color=\"Segment\", box=True, points=\"all\",\n",
    "          hover_data=df_segm_pca_kmeans.columns, title=\"Duration Hours by Segment\")\n",
    "fig.show()"
   ]
  },
  {
   "cell_type": "code",
   "execution_count": null,
   "id": "97d70fd1",
   "metadata": {},
   "outputs": [],
   "source": [
    "fig = px.violin(df_segm_pca_kmeans, y=\"price\", color=\"Segment\", box=True, points=\"all\",\n",
    "          hover_data=df_segm_pca_kmeans.columns, title = \"Total Price by Segment\")\n",
    "fig.show()"
   ]
  },
  {
   "cell_type": "code",
   "execution_count": null,
   "id": "5cac764c",
   "metadata": {},
   "outputs": [],
   "source": [
    "fig = px.violin(df_segm_pca_kmeans, y=\"price_kwh\", color=\"Segment\", box=True, points=\"all\",\n",
    "          hover_data=df_segm_pca_kmeans.columns, title = \"Price per KWH by Segment\")\n",
    "fig.show()"
   ]
  },
  {
   "cell_type": "code",
   "execution_count": null,
   "id": "f9b5d904",
   "metadata": {},
   "outputs": [],
   "source": [
    "fig = px.violin(df_segm_pca_kmeans, y=\"duration\", color=\"Segment\", box=True, points=\"all\",\n",
    "          hover_data=df_segm_pca_kmeans.columns, title=\"Charge Duration by Segment\")\n",
    "fig.show()"
   ]
  },
  {
   "cell_type": "code",
   "execution_count": null,
   "id": "c0fe21d7",
   "metadata": {},
   "outputs": [],
   "source": [
    "fig = px.violin(df_segm_pca_kmeans, y=\"id\", color=\"Segment\", box=True, points=\"all\",\n",
    "          hover_data=df_segm_pca_kmeans.columns, title = \"Price per KWH by Segment\")\n",
    "fig.show()"
   ]
  },
  {
   "cell_type": "code",
   "execution_count": null,
   "id": "9caa376f",
   "metadata": {},
   "outputs": [],
   "source": []
  },
  {
   "cell_type": "markdown",
   "id": "3f8489db",
   "metadata": {},
   "source": [
    "# Other graphs"
   ]
  },
  {
   "cell_type": "code",
   "execution_count": null,
   "id": "59b57144",
   "metadata": {},
   "outputs": [],
   "source": [
    "fig = px.scatter(df_segm_pca_kmeans, x=(df_segm_pca_kmeans.Component_1), y=df_segm_pca_kmeans.duration, color=df_segm_pca_kmeans.Segment, \n",
    "                 size=df_segm_pca_kmeans.duration)\n",
    "fig.show()"
   ]
  },
  {
   "cell_type": "code",
   "execution_count": null,
   "id": "ae0b28df",
   "metadata": {},
   "outputs": [],
   "source": [
    "fig = px.scatter(df_segm_pca_kmeans, x=(df_segm_pca_kmeans.Component_1), y=df_segm_pca_kmeans.kwh, color=df_segm_pca_kmeans.Segment, \n",
    "                 size=df_segm_pca_kmeans.duration)\n",
    "fig.show()"
   ]
  },
  {
   "cell_type": "code",
   "execution_count": null,
   "id": "7daaa674",
   "metadata": {},
   "outputs": [],
   "source": [
    "fig = px.scatter(df_segm_pca_kmeans, x=df_segm_pca_kmeans.lng, y=df_segm_pca_kmeans.lat, color=df_segm_pca_kmeans.Segment, \n",
    "                 size=df_segm_pca_kmeans.duration_hours)\n",
    "fig.show()"
   ]
  },
  {
   "cell_type": "code",
   "execution_count": null,
   "id": "9bc05a49",
   "metadata": {},
   "outputs": [],
   "source": [
    "fig = px.scatter(df_segm_pca_kmeans, x=df_segm_pca_kmeans.kwh, y=df_segm_pca_kmeans.duration,  color=df_segm_pca_kmeans.Segment, \n",
    "                 size=df_segm_pca_kmeans.duration)\n",
    "fig.show()"
   ]
  },
  {
   "cell_type": "code",
   "execution_count": null,
   "id": "27535a4a",
   "metadata": {},
   "outputs": [],
   "source": [
    "fig = px.scatter(df_segm_pca_kmeans, x=df_segm_pca_kmeans.price, y=df_segm_pca_kmeans.duration,  color=df_segm_pca_kmeans.Segment, \n",
    "                 size=df_segm_pca_kmeans.duration)\n",
    "fig.show()"
   ]
  },
  {
   "cell_type": "code",
   "execution_count": null,
   "id": "e6e538c7",
   "metadata": {},
   "outputs": [],
   "source": [
    "fig = px.scatter_3d(df_segm_pca_kmeans, x='Segment', y='duration', z='kwh',\n",
    "              color='price')\n",
    "fig.show()"
   ]
  },
  {
   "cell_type": "code",
   "execution_count": null,
   "id": "2586cccc",
   "metadata": {},
   "outputs": [],
   "source": [
    "fig = px.scatter_3d(df_segm_pca_kmeans, x='charge_point_id', y='duration', z='kwh',\n",
    "              color='Segment')\n",
    "fig.show()"
   ]
  },
  {
   "cell_type": "code",
   "execution_count": null,
   "id": "27d8f659",
   "metadata": {},
   "outputs": [],
   "source": []
  },
  {
   "cell_type": "code",
   "execution_count": null,
   "id": "ddaec26f",
   "metadata": {},
   "outputs": [],
   "source": []
  },
  {
   "cell_type": "code",
   "execution_count": null,
   "id": "866dabc5",
   "metadata": {},
   "outputs": [],
   "source": []
  },
  {
   "cell_type": "code",
   "execution_count": null,
   "id": "7b88217b",
   "metadata": {},
   "outputs": [],
   "source": [
    "import plotly.express as px\n",
    "df = px.data.tips()\n",
    "fig1 = px.bar(df_segm_pca_kmeans, x='day', y='Segment', height=300,\n",
    "              title='Stacked Bar Chart - Hover on individual items')\n",
    "fig2 = px.histogram(df_segm_pca_kmeans, x='charge_point_id', y='Segment', histfunc='sum', height=300,\n",
    "                    title='Histogram Chart')\n",
    "fig1.show()\n",
    "fig2.show()"
   ]
  },
  {
   "cell_type": "code",
   "execution_count": null,
   "id": "6c35e224",
   "metadata": {},
   "outputs": [],
   "source": [
    "from datetime import datetime\n",
    "\n",
    "date = datetime.now().strftime(\"%Y_%m_%d-%I_%M__%p\")\n",
    "df_segm_pca_kmeans.to_csv(f'df_segm_pca_kmeans{n_clus}_{date}.csv')"
   ]
  },
  {
   "cell_type": "code",
   "execution_count": null,
   "id": "7b3a0c0f",
   "metadata": {},
   "outputs": [],
   "source": []
  },
  {
   "cell_type": "code",
   "execution_count": null,
   "id": "29f59cdb",
   "metadata": {},
   "outputs": [],
   "source": []
  }
 ],
 "metadata": {
  "kernelspec": {
   "display_name": "Python 3 (ipykernel)",
   "language": "python",
   "name": "python3"
  },
  "language_info": {
   "codemirror_mode": {
    "name": "ipython",
    "version": 3
   },
   "file_extension": ".py",
   "mimetype": "text/x-python",
   "name": "python",
   "nbconvert_exporter": "python",
   "pygments_lexer": "ipython3",
   "version": "3.9.7"
  },
  "toc": {
   "base_numbering": 1,
   "nav_menu": {},
   "number_sections": true,
   "sideBar": true,
   "skip_h1_title": false,
   "title_cell": "Table of Contents",
   "title_sidebar": "Contents",
   "toc_cell": false,
   "toc_position": {},
   "toc_section_display": true,
   "toc_window_display": false
  }
 },
 "nbformat": 4,
 "nbformat_minor": 5
}
