import torch

# Load the .pth file (checkpoint)
checkpoint = torch.load("best_model.pth", map_location=torch.device('cpu'))

# Print the keys in the checkpoint to see what it contains
print("Checkpoint content:")
for key in checkpoint.keys():
    print(f"{key}: {type(checkpoint[key])}")
