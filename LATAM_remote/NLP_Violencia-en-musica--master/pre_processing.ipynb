{
 "cells": [
  {
   "cell_type": "code",
   "execution_count": 1,
   "metadata": {
    "pycharm": {
     "is_executing": false
    }
   },
   "outputs": [],
   "source": [
    "import pandas as pd\n",
    "import os\n",
    "import glob"
   ]
  },
  {
   "cell_type": "code",
   "execution_count": 2,
   "metadata": {
    "pycharm": {
     "is_executing": false,
     "name": "#%%\n"
    }
   },
   "outputs": [],
   "source": [
    "raw_data_path = os.path.join('data', 'raw')\n",
    "clean_filename = os.path.join('data', 'clean', 'data.csv')"
   ]
  },
  {
   "cell_type": "markdown",
   "metadata": {},
   "source": [
    "# Read data"
   ]
  },
  {
   "cell_type": "code",
   "execution_count": 3,
   "metadata": {
    "pycharm": {
     "is_executing": false,
     "name": "#%%\n"
    }
   },
   "outputs": [
    {
     "data": {
      "text/html": [
       "<div>\n",
       "<style scoped>\n",
       "    .dataframe tbody tr th:only-of-type {\n",
       "        vertical-align: middle;\n",
       "    }\n",
       "\n",
       "    .dataframe tbody tr th {\n",
       "        vertical-align: top;\n",
       "    }\n",
       "\n",
       "    .dataframe thead th {\n",
       "        text-align: right;\n",
       "    }\n",
       "</style>\n",
       "<table border=\"1\" class=\"dataframe\">\n",
       "  <thead>\n",
       "    <tr style=\"text-align: right;\">\n",
       "      <th></th>\n",
       "      <th>artists</th>\n",
       "      <th>explicit</th>\n",
       "      <th>genre</th>\n",
       "      <th>lyric</th>\n",
       "      <th>musixmatch_rating</th>\n",
       "      <th>rank</th>\n",
       "      <th>title</th>\n",
       "    </tr>\n",
       "  </thead>\n",
       "  <tbody>\n",
       "    <tr>\n",
       "      <th>0</th>\n",
       "      <td>MALUMA                                        ...</td>\n",
       "      <td></td>\n",
       "      <td></td>\n",
       "      <td>...</td>\n",
       "      <td></td>\n",
       "      <td>1</td>\n",
       "      <td>HAWAI</td>\n",
       "    </tr>\n",
       "    <tr>\n",
       "      <th>1</th>\n",
       "      <td>SECH, DADDY YANKEE, J BALVIN FEATURING ROSALIA...</td>\n",
       "      <td>1.0</td>\n",
       "      <td></td>\n",
       "      <td>Ahora todo cambió, le toca a ella\\r\\nLatino ga...</td>\n",
       "      <td>90.0</td>\n",
       "      <td>2</td>\n",
       "      <td>RELACION</td>\n",
       "    </tr>\n",
       "    <tr>\n",
       "      <th>2</th>\n",
       "      <td>J BALVIN, DUA LIPA, BAD BUNNY &amp; TAINY         ...</td>\n",
       "      <td></td>\n",
       "      <td></td>\n",
       "      <td>...</td>\n",
       "      <td></td>\n",
       "      <td>3</td>\n",
       "      <td>UN DIA (ONE DAY)</td>\n",
       "    </tr>\n",
       "    <tr>\n",
       "      <th>3</th>\n",
       "      <td>OZUNA                                         ...</td>\n",
       "      <td>0.0</td>\n",
       "      <td>Latin / Pop in Spanish</td>\n",
       "      <td>Woh-oh-oh-oh (Dime, ma')\\r\\nBaby, baby\\r\\nOzun...</td>\n",
       "      <td>79.0</td>\n",
       "      <td>4</td>\n",
       "      <td>CARAMELO</td>\n",
       "    </tr>\n",
       "    <tr>\n",
       "      <th>4</th>\n",
       "      <td>NIO GARCIA X ANUEL AA X MYKE TOWERS X BRRAY X ...</td>\n",
       "      <td></td>\n",
       "      <td></td>\n",
       "      <td>...</td>\n",
       "      <td></td>\n",
       "      <td>5</td>\n",
       "      <td>LA JEEPETA</td>\n",
       "    </tr>\n",
       "  </tbody>\n",
       "</table>\n",
       "</div>"
      ],
      "text/plain": [
       "  artists                                                                            \\\n",
       "0  MALUMA                                        ...                                  \n",
       "1  SECH, DADDY YANKEE, J BALVIN FEATURING ROSALIA...                                  \n",
       "2  J BALVIN, DUA LIPA, BAD BUNNY & TAINY         ...                                  \n",
       "3  OZUNA                                         ...                                  \n",
       "4  NIO GARCIA X ANUEL AA X MYKE TOWERS X BRRAY X ...                                  \n",
       "\n",
       "     explicit  genre                                 \\\n",
       "0                                                     \n",
       "1  1.0                                                \n",
       "2                                                     \n",
       "3  0.0         Latin / Pop in Spanish                 \n",
       "4                                                     \n",
       "\n",
       "  lyric                                                                                                                                       \\\n",
       "0                                                ...                                                                                           \n",
       "1  Ahora todo cambió, le toca a ella\\r\\nLatino ga...                                                                                           \n",
       "2                                                ...                                                                                           \n",
       "3  Woh-oh-oh-oh (Dime, ma')\\r\\nBaby, baby\\r\\nOzun...                                                                                           \n",
       "4                                                ...                                                                                           \n",
       "\n",
       "     musixmatch_rating  rank             title  \n",
       "0                          1             HAWAI  \n",
       "1  90.0                    2          RELACION  \n",
       "2                          3  UN DIA (ONE DAY)  \n",
       "3  79.0                    4          CARAMELO  \n",
       "4                          5        LA JEEPETA  "
      ]
     },
     "execution_count": 3,
     "metadata": {},
     "output_type": "execute_result"
    }
   ],
   "source": [
    "all_files = glob.glob(raw_data_path + \"/top_songs_with_lyrics.csv\")\n",
    "raw_data = pd.concat(pd.read_csv(f) for f in all_files)\n",
    "raw_data.head()"
   ]
  },
  {
   "cell_type": "markdown",
   "metadata": {},
   "source": [
    "# Pre processing"
   ]
  },
  {
   "cell_type": "code",
   "execution_count": 4,
   "metadata": {},
   "outputs": [
    {
     "name": "stderr",
     "output_type": "stream",
     "text": [
      "[nltk_data] Downloading package punkt to\n",
      "[nltk_data]     C:\\Users\\leow_\\AppData\\Roaming\\nltk_data...\n",
      "[nltk_data]   Package punkt is already up-to-date!\n",
      "[nltk_data] Downloading package stopwords to\n",
      "[nltk_data]     C:\\Users\\leow_\\AppData\\Roaming\\nltk_data...\n",
      "[nltk_data]   Package stopwords is already up-to-date!\n"
     ]
    },
    {
     "data": {
      "text/plain": [
       "True"
      ]
     },
     "execution_count": 4,
     "metadata": {},
     "output_type": "execute_result"
    }
   ],
   "source": [
    "import re\n",
    "import string\n",
    "\n",
    "import nltk\n",
    "from nltk.corpus import stopwords \n",
    "from nltk.tokenize import word_tokenize \n",
    "nltk.download('punkt')\n",
    "nltk.download('stopwords')\n"
   ]
  },
  {
   "cell_type": "code",
   "execution_count": 5,
   "metadata": {},
   "outputs": [],
   "source": [
    "#Puntuaction Removing [!”#$%&’()*+,-./:;<=>?@[\\]^_`{|}~]:\n",
    "def clean_puntuaction(input_df):\n",
    "    result=input_df\n",
    "    for idx in range(result.shape[0]):\n",
    "        result[idx]=result[idx].replace(\"'\",\"\")\n",
    "        result[idx]=result[idx].replace(\"\\r\",\" \")\n",
    "        result[idx]=result[idx].replace(\"\\n\",\"\")\n",
    "        result[idx]= re.sub(\"[\\(\\[].*?[\\)\\]]\", \"\", result[idx])\n",
    "        result[idx]= re.sub(r'[^\\w\\s]', '', result[idx])\n",
    "    return result"
   ]
  },
  {
   "cell_type": "code",
   "execution_count": null,
   "metadata": {},
   "outputs": [],
   "source": [
    "def remove_accents(input_str):\n",
    "    \"\"\"\n",
    "    remueve acentos, aunque al ser un texto en inglés no deberían existir acentos\n",
    "    \"\"\"\n",
    "    nfkd_form = unicodedata.normalize('NFKD', input_str )\n",
    "    return u\"\".join([c for c in nfkd_form if not unicodedata.combining(c)])\n",
    "\n",
    "#Puntuaction Removing [!”#$%&’()*+,-./:;<=>?@[\\]^_`{|}~]:\n",
    "def clean_puntuaction(input_df):\n",
    "    result=input_df\n",
    "    print(result.shape)\n",
    "    #for idx in range(result.shape[0]):\n",
    "#    for idx in result:\n",
    "#        idx=idx+1\n",
    "#        if(result[idx]==\"\"):\n",
    "#            continue\n",
    "#        result[idx]=result[idx].replace(\"'\",\"\")\n",
    "#        result[idx]=result[idx].replace(\"\\r\",\" \")\n",
    "#        result[idx]=result[idx].replace(\"\\n\",\"\")\n",
    "#        result[idx]= re.sub(\"[\\(\\[].*?[\\)\\]]\", \"\", result[idx])\n",
    "#        result[idx]= re.sub(r'[^\\w\\s]', '', result[idx])\n",
    "#        result[idx]= remove_accents(result[idx])\n",
    "    cont=1\n",
    "    for idx in result.values:\n",
    "        \n",
    "        #idx=idx+1\n",
    "        #if(result[idx]==\"\"):\n",
    "        #    continue\n",
    "        idx=idx.replace(\"'\",\"\")\n",
    "        idx=idx.replace(\"\\r\",\" \")\n",
    "        idx=idx.replace(\"\\n\",\" \")\n",
    "        idx= re.sub(\"[\\(\\[].*?[\\)\\]]\", \"\", idx)\n",
    "        idx= re.sub(r'[^\\w\\s]', '', idx)\n",
    "        idx= remove_accents(idx)\n",
    "        print(cont)\n",
    "        print (idx)\n",
    "        result[cont]=idx\n",
    "        cont=cont+1\n",
    "    return result\n",
    "\n",
    "def clean_str_puntuaction(input_df):\n",
    "    input_df=input_df.replace(\"'\",\"\")\n",
    "    input_df=input_df.replace(\"\\r\",\" \")\n",
    "    input_df=input_df.replace(\"\\n\",\" \")\n",
    "    input_df=input_df.replace(\"-\",\" \")\n",
    "    input_df= re.sub(\"[\\(\\[].*?[\\)\\]]\", \"\", input_df)\n",
    "    input_df= re.sub(r'[^\\w\\s]', '', input_df)\n",
    "    input_df= remove_accents(input_df)\n",
    "    return input_df"
   ]
  },
  {
   "cell_type": "code",
   "execution_count": 6,
   "metadata": {},
   "outputs": [],
   "source": [
    "def remove_stopwords(input_df):\n",
    "    result=input_df\n",
    "    for idx in range(result.shape[0]):\n",
    "        tokens = word_tokenize(result[idx])\n",
    "        stop_words = stopwords.words('spanish')\n",
    "        more_stopwords = ['si', 'pa', 'sé', 'solo', 'yeah', 'yeh', 'oh', 'i', 'to', 'va', 'the', 'aunque', 'you', 'eh', 'cómo','ma']\n",
    "        total_stopwords = stop_words + more_stopwords\n",
    "        result[idx] = [i for i in tokens if not i in total_stopwords]\n",
    "    return result"
   ]
  },
  {
   "cell_type": "code",
   "execution_count": 7,
   "metadata": {
    "pycharm": {
     "is_executing": false,
     "name": "#%%\n"
    },
    "tags": []
   },
   "outputs": [],
   "source": [
    "# TODO: Perform cleaning\n",
    "\n",
    "data_filename = 'data/raw/top_songs_with_lyrics.csv'\n",
    "dataset = pd.read_csv(data_filename)\n",
    "dataset.columns.tolist()\n",
    "#dataset.iloc[:,0]\n",
    "#df=dataset[['artists                                                                          ','title','lyric                                         \n",
    "# lowercase                                                                                            ']]\n",
    "df=dataset['lyric                                                                                                                                     '].str.lower()\n",
    "\n",
    "df=clean_puntuaction(df)\n",
    "df=remove_stopwords(df)\n",
    "#df[1]\n",
    "\n",
    "#freq = nltk.FreqDist(tokens)\n",
    "\n"
   ]
  },
  {
   "cell_type": "code",
   "execution_count": 8,
   "metadata": {
    "pycharm": {
     "is_executing": false,
     "name": "#%%\n"
    }
   },
   "outputs": [],
   "source": [
    "clean_data = pd.DataFrame(data={'dummy': [1, 2]})\n",
    "clean_data.to_csv(clean_filename, index=False)"
   ]
  },
  {
   "cell_type": "code",
   "execution_count": null,
   "metadata": {},
   "outputs": [],
   "source": []
  }
 ],
 "metadata": {
  "kernelspec": {
   "display_name": "Python 3",
   "language": "python",
   "name": "python3"
  },
  "language_info": {
   "codemirror_mode": {
    "name": "ipython",
    "version": 3
   },
   "file_extension": ".py",
   "mimetype": "text/x-python",
   "name": "python",
   "nbconvert_exporter": "python",
   "pygments_lexer": "ipython3",
   "version": "3.7.6"
  },
  "pycharm": {
   "stem_cell": {
    "cell_type": "raw",
    "metadata": {
     "collapsed": false
    },
    "source": []
   }
  }
 },
 "nbformat": 4,
 "nbformat_minor": 1
}
