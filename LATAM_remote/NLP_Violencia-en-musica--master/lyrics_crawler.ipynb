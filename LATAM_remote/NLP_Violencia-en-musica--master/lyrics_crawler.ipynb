{
 "cells": [
  {
   "cell_type": "code",
   "execution_count": null,
   "metadata": {
    "pycharm": {
     "is_executing": false,
     "name": "#%%\n"
    }
   },
   "outputs": [],
   "source": [
    "import os\n",
    "import glob\n",
    "import pandas as pd\n",
    "import csv\n",
    "import requests\n",
    "import time\n",
    "import random\n",
    "from bs4 import BeautifulSoup"
   ]
  },
  {
   "cell_type": "code",
   "execution_count": null,
   "metadata": {
    "pycharm": {
     "is_executing": false
    }
   },
   "outputs": [],
   "source": [
    "seed_path = os.path.join('data', 'seed')\n",
    "top_songs_filename = os.path.join('data', 'raw', 'top_songs_with_lyrics.csv')"
   ]
  },
  {
   "cell_type": "markdown",
   "metadata": {},
   "source": [
    "# Read data"
   ]
  },
  {
   "cell_type": "code",
   "execution_count": null,
   "metadata": {
    "pycharm": {
     "is_executing": false
    }
   },
   "outputs": [],
   "source": [
    "all_files = glob.glob(seed_path + \"/*.csv\")\n",
    "song_data = pd.concat(pd.read_csv(f) for f in all_files)\n",
    "song_data.head()"
   ]
  },
  {
   "cell_type": "code",
   "execution_count": null,
   "metadata": {
    "pycharm": {
     "is_executing": false
    }
   },
   "outputs": [],
   "source": [
    "# Normalize artist and title and drop duplicate rows\n",
    "song_data['artists'] = song_data['artists'].str.upper() \n",
    "song_data['title'] = song_data['title'].str.upper() \n",
    "song_data.drop_duplicates(subset=['title', 'artists'], keep='first', inplace=True)\n",
    "\n",
    "song_data.head()"
   ]
  },
  {
   "cell_type": "markdown",
   "metadata": {},
   "source": [
    "# Get lyrics from MusicMatch api"
   ]
  },
  {
   "cell_type": "code",
   "execution_count": null,
   "metadata": {
    "pycharm": {
     "is_executing": false
    }
   },
   "outputs": [],
   "source": [
    "# TODO: Ignorar las canciones que no tienen lyrics\n",
    "# Referencia de como usar el api de music match https://youtu.be/WFRzKmpepj4\n",
    "base_url= 'https://api.musixmatch.com/ws/1.1/'\n",
    "api_key = \"3950aca40989ee9f7d05723278e3fdfd\""
   ]
  },
  {
   "cell_type": "code",
   "execution_count": null,
   "metadata": {
    "pycharm": {
     "is_executing": false
    }
   },
   "outputs": [],
   "source": [
    "def get_lyric(row):\n",
    "    title = row['title']\n",
    "    artist = row['artists']\n",
    "    lyric_matcher = 'matcher.lyrics.get?format=json&callback=callback'\n",
    "    url = f\"{base_url}/{lyric_matcher}&q_track={title}&q_artist={artist}&apikey={api_key}\"\n",
    "    # print(title, artist, url)\n",
    "    \n",
    "    response = requests.get(url)\n",
    "    data = response.json() # lee la información en json (cuidado con jsonp, se tiene que hacer mayor procesamiento)\n",
    "    if data['message']['header']['status_code'] == 200:\n",
    "        lyric = data['message']['body']['lyrics']['lyrics_body'].replace('******* This Lyrics is NOT for Commercial use *******', '')\n",
    "        # print(lyric)\n",
    "        \n",
    "        row['lyric'] = lyric.replace('(1409620732275)',' ')\n",
    "        row['explicit'] = data['message']['body']['lyrics']['explicit']\n",
    "        row['lyric_provider'] = 'MusicMatch'\n",
    "    return row\n",
    "\n",
    "def get_music_genre(row):\n",
    "    title = row['title']\n",
    "    artist = row['artists']\n",
    "    url = f\"{base_url}/matcher.track.get?format=json&callback=callback&q_track={title}&q_artist={artist}&apikey={api_key}\"\n",
    "    # print(title, artist, url)\n",
    "    \n",
    "    response = requests.get(url)\n",
    "    data = response.json()\n",
    "    # print(data)\n",
    "    if data['message']['header']['status_code'] == 200:\n",
    "        track = data['message']['body']['track']\n",
    "        # print(track)\n",
    "        \n",
    "        row['musixmatch_rating'] = track['track_rating']\n",
    "        # row['artist_name'] = track['artist_name']\n",
    "        # row['track_name'] = track['track_name']\n",
    "\n",
    "        if len(track['primary_genres']['music_genre_list']) > 0:\n",
    "            row['genre'] = track['primary_genres']['music_genre_list'][0]['music_genre']['music_genre_name_extended']\n",
    "    return row"
   ]
  },
  {
   "cell_type": "code",
   "execution_count": null,
   "metadata": {
    "pycharm": {
     "is_executing": false
    }
   },
   "outputs": [],
   "source": [
    "song_data = song_data.apply(get_lyric, axis=1)\n",
    "song_data = song_data.apply(get_music_genre, axis=1)"
   ]
  },
  {
   "cell_type": "markdown",
   "metadata": {},
   "source": [
    "# Get lyrics from Google api"
   ]
  },
  {
   "cell_type": "code",
   "execution_count": null,
   "metadata": {
    "pycharm": {
     "is_executing": false,
     "name": "#%%\n"
    }
   },
   "outputs": [],
   "source": [
    "def get_google_lyrics(row):\n",
    "    # Simulate chrome, this prevent that google does not sent g-expandable-content elements\n",
    "    headers = {\n",
    "        # 'User-Agent': 'Mozilla/5.0 (Windows NT 6.2; Win64; x64) AppleWebKit/537.36 (KHTML, like Gecko) Chrome/75.0.3770.100 Safari/537.36'\n",
    "        'User-Agent': 'Mozilla/5.0 (Macintosh; Intel Mac OS X 10_10_1) AppleWebKit/537.36 (KHTML, like Gecko) Chrome/39.0.2171.95 Safari/537.36'\n",
    "    }\n",
    "    \n",
    "    # Generate google url\n",
    "    title = row['title']\n",
    "    artist = row['artists']\n",
    "    page = requests.get(f\"https://www.google.com/search?q={artist}-{title}\", headers=headers)\n",
    "    \n",
    "    # if does not return response 200 exit\n",
    "    if page.status_code != 200:\n",
    "        print('Blocked: ', page.status_code)\n",
    "        return row\n",
    "    \n",
    "    # Parse html\n",
    "    html = BeautifulSoup(page.text, 'html.parser')\n",
    "     \n",
    "    # Find Lyrics google\n",
    "    lyrics_select = html.select(\"div[data-lyricid] > g-expandable-content:nth-child(2)\")#\n",
    "    if len(lyrics_select) > 0:  # If google use LyricFind\n",
    "        lyrics_container = lyrics_select[0]\n",
    "        # print(title, artist, \"Find Lyric\")\n",
    "        \n",
    "        google_lyric = []\n",
    "        for prose in lyrics_container.select(\"div\"):\n",
    "            for verse in prose.select(\"span\"):\n",
    "                google_lyric.append(verse.text + '\\n')  # End of verse\n",
    "            google_lyric.append('\\n')  # End of prose\n",
    "        google_lyric = ''.join(google_lyric) \n",
    "\n",
    "        row['lyric'] = google_lyric\n",
    "        row['lyric_provider'] = 'Google'\n",
    "    else:  # Todo: other Google lyrics provider\n",
    "            pass  \n",
    "    \n",
    "    # Se agrega timer ramdom para que no se bloquee le IP, sinembargo se bloquea \n",
    "    time.sleep(random.uniform(1, 3))\n",
    "    return row"
   ]
  },
  {
   "cell_type": "code",
   "execution_count": null,
   "metadata": {
    "pycharm": {
     "is_executing": false,
     "name": "#%%\n"
    }
   },
   "outputs": [],
   "source": [
    "song_data = song_data.apply(get_google_lyrics, axis=1)"
   ]
  },
  {
   "cell_type": "code",
   "execution_count": null,
   "metadata": {
    "pycharm": {
     "is_executing": false
    }
   },
   "outputs": [],
   "source": [
    "song_data.head(50)"
   ]
  },
  {
   "cell_type": "markdown",
   "metadata": {},
   "source": [
    "# Export lyrics data"
   ]
  },
  {
   "cell_type": "code",
   "execution_count": null,
   "metadata": {
    "pycharm": {
     "is_executing": false
    }
   },
   "outputs": [],
   "source": [
    "song_data.to_csv(\n",
    "    top_songs_filename, \n",
    "    index=False, \n",
    "    quoting=csv.QUOTE_NONNUMERIC  # Prevent errors on strings with , and \\n characters\n",
    ")"
   ]
  }
 ],
 "metadata": {
  "kernelspec": {
   "display_name": "Python 3",
   "language": "python",
   "name": "python3"
  },
  "language_info": {
   "codemirror_mode": {
    "name": "ipython",
    "version": 3
   },
   "file_extension": ".py",
   "mimetype": "text/x-python",
   "name": "python",
   "nbconvert_exporter": "python",
   "pygments_lexer": "ipython3",
   "version": "3.7.4"
  },
  "pycharm": {
   "stem_cell": {
    "cell_type": "raw",
    "metadata": {
     "collapsed": false
    },
    "source": []
   }
  }
 },
 "nbformat": 4,
 "nbformat_minor": 1
}
