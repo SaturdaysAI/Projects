{
 "cells": [
  {
   "cell_type": "markdown",
   "metadata": {
    "id": "JQUm8GQK8dCt"
   },
   "source": []
  },
  {
   "cell_type": "markdown",
   "metadata": {
    "id": "XQeMUSlz8dmV"
   },
   "source": [
    "#Adquisición de canciones mediante API "
   ]
  },
  {
   "cell_type": "code",
   "execution_count": null,
   "metadata": {
    "executionInfo": {
     "elapsed": 746,
     "status": "ok",
     "timestamp": 1602904092352,
     "user": {
      "displayName": "Héctor Manuel Ramírez Contreras",
      "photoUrl": "",
      "userId": "00510271929714586445"
     },
     "user_tz": 300
    },
    "id": "9qthGrIl8j33"
   },
   "outputs": [],
   "source": [
    "import requests\n",
    "import json\n",
    "import os\n",
    "import pandas as pd"
   ]
  },
  {
   "cell_type": "code",
   "execution_count": null,
   "metadata": {
    "executionInfo": {
     "elapsed": 789,
     "status": "ok",
     "timestamp": 1602904274675,
     "user": {
      "displayName": "Héctor Manuel Ramírez Contreras",
      "photoUrl": "",
      "userId": "00510271929714586445"
     },
     "user_tz": 300
    },
    "id": "9kLuCCEECgTn"
   },
   "outputs": [],
   "source": [
    "#TODO: Ignorar las canciones que no tienen lyrics\n",
    "#TODO: Usar la bandera de Explicit en caso de que ya se tenga \n",
    "#TODO: Extraer genero musical (se puede extraer el sub-genero )\n",
    "#Referencia de como usar el api de music match https://youtu.be/WFRzKmpepj4\n",
    "base_url= 'https://api.musixmatch.com/ws/1.1/'\n",
    "api_key = \"3950aca40989ee9f7d05723278e3fdfd\"\n",
    "lyric_matcher = 'matcher.lyrics.get?format=json&callback=callback' #nos permitirá hacer la búsqueda de la canción por artista y título "
   ]
  },
  {
   "cell_type": "code",
   "execution_count": null,
   "metadata": {
    "colab": {
     "base_uri": "https://localhost:8080/",
     "height": 34
    },
    "executionInfo": {
     "elapsed": 483,
     "status": "ok",
     "timestamp": 1602904420636,
     "user": {
      "displayName": "Héctor Manuel Ramírez Contreras",
      "photoUrl": "",
      "userId": "00510271929714586445"
     },
     "user_tz": 300
    },
    "id": "hwVNUNpNGNFn",
    "outputId": "0a1d9f75-b6df-4f84-fc43-1ae2ff13e1c9",
    "tags": []
   },
   "outputs": [],
   "source": [
    "data=[]\n",
    "artist= ['enjambre','slipknot','interpol']\n",
    "lyric = ['madrugada','Nero forte','c mere']\n",
    "\n",
    "for i in range(len(lyric)):#TODO Descubrir por qué en este loop no se necesita el -1 y en otro sí \n",
    "    j=i\n",
    "    url = f\"{base_url}/{lyric_matcher}&q_track={lyric[j]}&q_artist={artist[j]}&apikey={api_key}\"\n",
    "    print(url)\n",
    "    data.append(requests.get(url))\n",
    "    data[j]= data[j].json()\n",
    "    # print(data[j])\n",
    "\n",
    "#data = requests.get('https://api.musixmatch.com/ws/1.1/matcher.lyrics.get?format=json&callback=callback&q_track=before%20I%20forget%20&q_artist=slipknot&apikey=3950aca40989ee9f7d05723278e3fdfd')"
   ]
  },
  {
   "cell_type": "code",
   "execution_count": null,
   "metadata": {
    "colab": {
     "base_uri": "https://localhost:8080/",
     "height": 291
    },
    "executionInfo": {
     "elapsed": 496,
     "status": "error",
     "timestamp": 1602904441713,
     "user": {
      "displayName": "Héctor Manuel Ramírez Contreras",
      "photoUrl": "",
      "userId": "00510271929714586445"
     },
     "user_tz": 300
    },
    "id": "rg_KBmRKi2S3",
    "outputId": "fa82291c-21f2-44dc-9190-b715d8698c42"
   },
   "outputs": [],
   "source": [
    "for i in range(len(lyric)):\n",
    "    j=i-1\n",
    "    data[j] = data[j]['message']['body']['lyrics']['lyrics_body']\n",
    "    print(data[j])"
   ]
  },
  {
   "cell_type": "code",
   "execution_count": null,
   "metadata": {
    "executionInfo": {
     "elapsed": 1046,
     "status": "aborted",
     "timestamp": 1602904092674,
     "user": {
      "displayName": "Héctor Manuel Ramírez Contreras",
      "photoUrl": "",
      "userId": "00510271929714586445"
     },
     "user_tz": 300
    },
    "id": "U6ZjZyvIXN3I"
   },
   "outputs": [],
   "source": [
    "#data = data[0]['message']['body']['lyrics']\n",
    "#print(data['lyrics_body'])"
   ]
  }
 ],
 "metadata": {
  "colab": {
   "authorship_tag": "ABX9TyM05gfmdefzb5Azh4r7Pz8N",
   "name": "Lyrics_API.ipynb",
   "provenance": []
  },
  "kernelspec": {
   "display_name": "Python 3",
   "language": "python",
   "name": "python3"
  },
  "language_info": {
   "codemirror_mode": {
    "name": "ipython",
    "version": 3
   },
   "file_extension": ".py",
   "mimetype": "text/x-python",
   "name": "python",
   "nbconvert_exporter": "python",
   "pygments_lexer": "ipython3",
   "version": "3.7.4"
  }
 },
 "nbformat": 4,
 "nbformat_minor": 4
}
