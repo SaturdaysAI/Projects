{
 "cells": [
  {
   "cell_type": "markdown",
   "metadata": {
    "colab_type": "text",
    "id": "view-in-github"
   },
   "source": [
    "<a href=\"https://colab.research.google.com/github/Hecramco/NLP_Violencia-en-musica-/blob/master/Lyrics_API_Lib.ipynb\" target=\"_parent\"><img src=\"https://colab.research.google.com/assets/colab-badge.svg\" alt=\"Open In Colab\"/></a>"
   ]
  },
  {
   "cell_type": "markdown",
   "metadata": {
    "id": "JQUm8GQK8dCt"
   },
   "source": []
  },
  {
   "cell_type": "markdown",
   "metadata": {
    "id": "XQeMUSlz8dmV"
   },
   "source": [
    "#Adquisición de canciones mediante API "
   ]
  },
  {
   "cell_type": "code",
   "execution_count": null,
   "metadata": {
    "id": "9qthGrIl8j33"
   },
   "outputs": [],
   "source": [
    "import requests\n",
    "import json"
   ]
  },
  {
   "cell_type": "code",
   "execution_count": null,
   "metadata": {
    "id": "9kLuCCEECgTn"
   },
   "outputs": [],
   "source": [
    "#TODO: Ignorar las canciones que no tienen lyrics\n",
    "#TODO: Extraer genero musical (se puede extraer el sub-genero )\n",
    "#Referencia de como usar el api de music match https://youtu.be/WFRzKmpepj4\n",
    "artist= ['enjambre','slipknot','interpol']\n",
    "lyric = ['madrugada','Nero forte','c mere']\n",
    "\n",
    "def get_lyric(song_name,artist):\n",
    "    base_url= 'https://api.musixmatch.com/ws/1.1/'\n",
    "    api_key = \"&apikey=3950aca40989ee9f7d05723278e3fdfd\"\n",
    "    q_track = '&q_track='\n",
    "    q_artist = '&q_artist='\n",
    "    lyric_matcher = 'matcher.lyrics.get?format=json&callback=callback' #nos permitirá hacer la búsqueda de la canción por artista y título \n",
    "    data = requests.get(base_url+lyric_matcher+q_track+ song_name +q_artist+ artist +api_key)\n",
    "    data = data.json() #lee la información en json (cuidado con jsonp, se tiene que hacer mayor procesamiento)\n",
    "    data = data['message']['body']['lyrics']['lyrics_body'].replace('******* This Lyrics is NOT for Commercial use *******', '')\n",
    "    data = data.replace('(1409620732275)',' ')\n",
    "    return data\n",
    "  \n",
    "def get_explicit_label(song_name,artist):\n",
    "    base_url= 'https://api.musixmatch.com/ws/1.1/'\n",
    "    api_key = \"&apikey=3950aca40989ee9f7d05723278e3fdfd\"\n",
    "    q_track = '&q_track='\n",
    "    q_artist = '&q_artist='\n",
    "    lyric_matcher = 'matcher.lyrics.get?format=json&callback=callback' #nos permitirá hacer la búsqueda de la canción por artista y título \n",
    "    data = requests.get(base_url+lyric_matcher+q_track+ song_name +q_artist+ artist +api_key)\n",
    "    data = data.json()\n",
    "    data = data['message']['body']['lyrics']['explicit']\n",
    "    return data\n",
    "\n",
    "def get_music_gender(song_name,artist):\n",
    "    base_url= 'https://api.musixmatch.com/ws/1.1/'\n",
    "    api_key = \"&apikey=3950aca40989ee9f7d05723278e3fdfd\"\n",
    "    q_track = '&q_track='\n",
    "    q_artist = '&q_artist='\n",
    "    track_matcher = 'matcher.track.get?format=json&callback=callback'\n",
    "    data = requests.get(base_url + track_matcher + q_artist + artist + q_track + song_name + api_key)\n",
    "    data = data.json()\n",
    "    data = data['message']['body']['track']['primary_genres']['music_genre_list'][0]['music_genre']['music_genre_name']\n",
    "    return data\n"
   ]
  },
  {
   "cell_type": "code",
   "execution_count": null,
   "metadata": {
    "colab": {
     "base_uri": "https://localhost:8080/",
     "height": 1000
    },
    "id": "hwVNUNpNGNFn",
    "outputId": "afb379a8-91ef-4a1d-daf7-6c8fe40a0c8b",
    "tags": []
   },
   "outputs": [],
   "source": [
    "data=[]\n",
    "for i in range(len(lyric)):\n",
    "    data.append(get_lyric(lyric[i],artist[i]))\n",
    "    data.append(get_explicit_label(lyric[i],artist[i]))\n",
    "    data.append(get_music_gender(lyric[i],artist[i]))\n",
    "\n",
    "for j in data:\n",
    "    print(j)"
   ]
  },
  {
   "cell_type": "code",
   "execution_count": null,
   "metadata": {
    "id": "6C1_qLKInNYR"
   },
   "outputs": [],
   "source": [
    "  #data = requests.get('https://api.musixmatch.com/ws/1.1/matcher.lyrics.get?format=json&callback=callback&q_track=before%20I%20forget%20&q_artist=slipknot&apikey=3950aca40989ee9f7d05723278e3fdfd')\n",
    "#get_music_gender(lyric[0],artist[0])"
   ]
  }
 ],
 "metadata": {
  "colab": {
   "include_colab_link": true,
   "name": "Lyrics_API_Lib.ipynb",
   "provenance": []
  },
  "kernelspec": {
   "display_name": "Python 3",
   "language": "python",
   "name": "python3"
  },
  "language_info": {
   "codemirror_mode": {
    "name": "ipython",
    "version": 3
   },
   "file_extension": ".py",
   "mimetype": "text/x-python",
   "name": "python",
   "nbconvert_exporter": "python",
   "pygments_lexer": "ipython3",
   "version": "3.7.4"
  }
 },
 "nbformat": 4,
 "nbformat_minor": 1
}
