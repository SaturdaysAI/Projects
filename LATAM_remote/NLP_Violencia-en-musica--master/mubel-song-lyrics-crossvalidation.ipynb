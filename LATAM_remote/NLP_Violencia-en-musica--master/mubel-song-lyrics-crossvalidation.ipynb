{
 "cells": [
  {
   "cell_type": "code",
   "execution_count": 123,
   "metadata": {},
   "outputs": [],
   "source": [
    "import pandas as pd\n",
    "import numpy as np\n",
    "import seaborn as sns\n",
    "import matplotlib.pyplot as plt\n",
    "import json\n",
    "from nltk.corpus import stopwords \n",
    "from sklearn.feature_extraction.text import CountVectorizer\n",
    "from sklearn.feature_extraction.text import TfidfVectorizer  \n",
    "import unicodedata\n",
    "from sklearn.model_selection import train_test_split\n",
    "from sklearn.metrics import classification_report, confusion_matrix\n",
    "\n",
    "import os\n",
    "import glob"
   ]
  },
  {
   "cell_type": "code",
   "execution_count": 124,
   "metadata": {},
   "outputs": [],
   "source": [
    "raw_data_path = os.path.join('data', 'raw')\n",
    "all_files = glob.glob(raw_data_path +\"/prov_top_songs_with_lyrics.csv\")\n",
    "lyrics_df = pd.concat(pd.read_csv(f) for f in all_files)\n",
    "#tweets_df = pd.read_csv('data/raw/top_songs_with_lyrics.csv', encoding = 'latin1')\n",
    "columnLyric='lyric'"
   ]
  },
  {
   "cell_type": "code",
   "execution_count": 125,
   "metadata": {},
   "outputs": [],
   "source": [
    "lyrics_df = lyrics_df[lyrics_df[columnLyric].isnull()==False]\n"
   ]
  },
  {
   "cell_type": "markdown",
   "metadata": {},
   "source": [
    "PREPROCESING"
   ]
  },
  {
   "cell_type": "code",
   "execution_count": 126,
   "metadata": {},
   "outputs": [
    {
     "name": "stdout",
     "output_type": "stream",
     "text": [
      "Collecting es_core_news_md\n",
      "\u001b[31m  ERROR: Could not find a version that satisfies the requirement es_core_news_md (from versions: none)\u001b[0m\n",
      "\u001b[31mERROR: No matching distribution found for es_core_news_md\u001b[0m\n",
      "\u001b[33mWARNING: You are using pip version 19.2.3, however version 20.2.4 is available.\n",
      "You should consider upgrading via the 'pip install --upgrade pip' command.\u001b[0m\n",
      "Requirement already satisfied: es_core_news_md==2.2.5 from https://github.com/explosion/spacy-models/releases/download/es_core_news_md-2.2.5/es_core_news_md-2.2.5.tar.gz#egg=es_core_news_md==2.2.5 in /Users/leobardomorales/miniconda3/envs/actumlogos-cpu/lib/python3.7/site-packages (2.2.5)\n",
      "Requirement already satisfied: spacy>=2.2.2 in /Users/leobardomorales/miniconda3/envs/actumlogos-cpu/lib/python3.7/site-packages (from es_core_news_md==2.2.5) (2.2.4)\n",
      "Requirement already satisfied: cymem<2.1.0,>=2.0.2 in /Users/leobardomorales/miniconda3/envs/actumlogos-cpu/lib/python3.7/site-packages (from spacy>=2.2.2->es_core_news_md==2.2.5) (2.0.3)\n",
      "Requirement already satisfied: murmurhash<1.1.0,>=0.28.0 in /Users/leobardomorales/miniconda3/envs/actumlogos-cpu/lib/python3.7/site-packages (from spacy>=2.2.2->es_core_news_md==2.2.5) (0.28.0)\n",
      "Requirement already satisfied: preshed<3.1.0,>=3.0.2 in /Users/leobardomorales/miniconda3/envs/actumlogos-cpu/lib/python3.7/site-packages (from spacy>=2.2.2->es_core_news_md==2.2.5) (3.0.2)\n",
      "Requirement already satisfied: wasabi<1.1.0,>=0.4.0 in /Users/leobardomorales/miniconda3/envs/actumlogos-cpu/lib/python3.7/site-packages (from spacy>=2.2.2->es_core_news_md==2.2.5) (0.6.0)\n",
      "Requirement already satisfied: setuptools in /Users/leobardomorales/miniconda3/envs/actumlogos-cpu/lib/python3.7/site-packages (from spacy>=2.2.2->es_core_news_md==2.2.5) (46.4.0.post20200518)\n",
      "Requirement already satisfied: numpy>=1.15.0 in /Users/leobardomorales/miniconda3/envs/actumlogos-cpu/lib/python3.7/site-packages (from spacy>=2.2.2->es_core_news_md==2.2.5) (1.18.1)\n",
      "Requirement already satisfied: blis<0.5.0,>=0.4.0 in /Users/leobardomorales/miniconda3/envs/actumlogos-cpu/lib/python3.7/site-packages (from spacy>=2.2.2->es_core_news_md==2.2.5) (0.4.1)\n",
      "Requirement already satisfied: catalogue<1.1.0,>=0.0.7 in /Users/leobardomorales/miniconda3/envs/actumlogos-cpu/lib/python3.7/site-packages (from spacy>=2.2.2->es_core_news_md==2.2.5) (1.0.0)\n",
      "Requirement already satisfied: tqdm<5.0.0,>=4.38.0 in /Users/leobardomorales/miniconda3/envs/actumlogos-cpu/lib/python3.7/site-packages (from spacy>=2.2.2->es_core_news_md==2.2.5) (4.46.0)\n",
      "Requirement already satisfied: requests<3.0.0,>=2.13.0 in /Users/leobardomorales/miniconda3/envs/actumlogos-cpu/lib/python3.7/site-packages (from spacy>=2.2.2->es_core_news_md==2.2.5) (2.23.0)\n",
      "Requirement already satisfied: plac<1.2.0,>=0.9.6 in /Users/leobardomorales/miniconda3/envs/actumlogos-cpu/lib/python3.7/site-packages (from spacy>=2.2.2->es_core_news_md==2.2.5) (0.9.6)\n",
      "Requirement already satisfied: thinc==7.4.0 in /Users/leobardomorales/miniconda3/envs/actumlogos-cpu/lib/python3.7/site-packages (from spacy>=2.2.2->es_core_news_md==2.2.5) (7.4.0)\n",
      "Requirement already satisfied: srsly<1.1.0,>=1.0.2 in /Users/leobardomorales/miniconda3/envs/actumlogos-cpu/lib/python3.7/site-packages (from spacy>=2.2.2->es_core_news_md==2.2.5) (1.0.2)\n",
      "Requirement already satisfied: importlib-metadata>=0.20; python_version < \"3.8\" in /Users/leobardomorales/miniconda3/envs/actumlogos-cpu/lib/python3.7/site-packages (from catalogue<1.1.0,>=0.0.7->spacy>=2.2.2->es_core_news_md==2.2.5) (1.5.0)\n",
      "Requirement already satisfied: urllib3!=1.25.0,!=1.25.1,<1.26,>=1.21.1 in /Users/leobardomorales/miniconda3/envs/actumlogos-cpu/lib/python3.7/site-packages (from requests<3.0.0,>=2.13.0->spacy>=2.2.2->es_core_news_md==2.2.5) (1.25.8)\n",
      "Requirement already satisfied: chardet<4,>=3.0.2 in /Users/leobardomorales/miniconda3/envs/actumlogos-cpu/lib/python3.7/site-packages (from requests<3.0.0,>=2.13.0->spacy>=2.2.2->es_core_news_md==2.2.5) (3.0.4)\n",
      "Requirement already satisfied: certifi>=2017.4.17 in /Users/leobardomorales/miniconda3/envs/actumlogos-cpu/lib/python3.7/site-packages (from requests<3.0.0,>=2.13.0->spacy>=2.2.2->es_core_news_md==2.2.5) (2020.6.20)\n",
      "Requirement already satisfied: idna<3,>=2.5 in /Users/leobardomorales/miniconda3/envs/actumlogos-cpu/lib/python3.7/site-packages (from requests<3.0.0,>=2.13.0->spacy>=2.2.2->es_core_news_md==2.2.5) (2.9)\n",
      "Requirement already satisfied: zipp>=0.5 in /Users/leobardomorales/miniconda3/envs/actumlogos-cpu/lib/python3.7/site-packages (from importlib-metadata>=0.20; python_version < \"3.8\"->catalogue<1.1.0,>=0.0.7->spacy>=2.2.2->es_core_news_md==2.2.5) (3.1.0)\n",
      "\u001b[38;5;2m✔ Download and installation successful\u001b[0m\n",
      "You can now load the model via spacy.load('es_core_news_md')\n"
     ]
    }
   ],
   "source": [
    "!pip3 install es_core_news_md\n",
    "!python -m spacy download es_core_news_md\n",
    "#import spacy\n",
    "#nlp = spacy.load('es_core_news_md')"
   ]
  },
  {
   "cell_type": "code",
   "execution_count": 127,
   "metadata": {},
   "outputs": [
    {
     "name": "stderr",
     "output_type": "stream",
     "text": [
      "[nltk_data] Downloading package punkt to\n",
      "[nltk_data]     /Users/leobardomorales/nltk_data...\n",
      "[nltk_data]   Package punkt is already up-to-date!\n",
      "[nltk_data] Downloading package stopwords to\n",
      "[nltk_data]     /Users/leobardomorales/nltk_data...\n",
      "[nltk_data]   Package stopwords is already up-to-date!\n"
     ]
    }
   ],
   "source": [
    "import re\n",
    "import string\n",
    "\n",
    "import nltk\n",
    "from nltk.corpus import stopwords \n",
    "from nltk.tokenize import word_tokenize \n",
    "nltk.download('punkt')\n",
    "nltk.download('stopwords')\n",
    "\n",
    "import es_core_news_md\n",
    "\n",
    "nlp = es_core_news_md.load()"
   ]
  },
  {
   "cell_type": "code",
   "execution_count": 128,
   "metadata": {},
   "outputs": [],
   "source": [
    "import spacy\n",
    "import es_core_news_md\n",
    "\n",
    "nlp = es_core_news_md.load()\n",
    "#doc = nlp(\"ahora todo cambió le toca a ella latino gang  ayer la vi perreando solita  se ve má bonita ahora que no está\")\n",
    "#for token in doc: print(token.text, \"|\", token.lemma_, '|', token.pos_)"
   ]
  },
  {
   "cell_type": "code",
   "execution_count": 129,
   "metadata": {},
   "outputs": [],
   "source": [
    "## Agregar Lematizacion o Stemming \n",
    "## Agregar remover acentos \n",
    "## completar lista de stop words \n",
    "\n",
    "def lemmatize(lyric):\n",
    "    tk = nlp(lyric)\n",
    "    tk_lemmatize = \"\"\n",
    "    for word in tk:\n",
    "        tk_lemmatize = tk_lemmatize +\" \"+word.lemma_\n",
    "    return tk_lemmatize\n",
    "    \n",
    "\n",
    "def token_clean_stopwords(message):\n",
    "    stop_words = stopwords.words('spanish') + stopwords.words('english')\n",
    "    more_stopwords = ['rhythm','ovy','ay','hey','woh','si', 'pa', 'sé', 'solo', 'yeah', 'yeh', 'oh', 'i', 'to', 'va', 'the', 'aunque', 'you', 'eh', 'cómo','ma']\n",
    "    total_stopwords = stop_words + more_stopwords\n",
    "    text_token_stopwords = [word for word in message.split() if ((word.lower() not in total_stopwords) and (len(word)>4))]\n",
    "    #    Test_punc_removed_join_clean = [word for word in Test_punc_removed_join.split() if word.lower() not in stopwords.words('spanish')]\n",
    "\n",
    "\n",
    "    return text_token_stopwords\n",
    "\n",
    "def remove_puntuation(message):\n",
    "    Test_punc_removed = [char for char in message if char not in string.punctuation]\n",
    "    Test_punc_removed_join = ''.join(Test_punc_removed)\n",
    "    Test_punc_removed_join = remove_accents(Test_punc_removed_join)\n",
    "    return Test_punc_removed_join\n",
    "\n",
    "def remove_accents(input_str):\n",
    "    \"\"\"\n",
    "    remueve acentos, aunque al ser un texto en inglés no deberían existir acentos\n",
    "    \"\"\"\n",
    "    nfkd_form = unicodedata.normalize('NFKD', input_str )\n",
    "    return u\"\".join([c for c in nfkd_form if not unicodedata.combining(c)])\n",
    "\n",
    "def clean_str_puntuaction(input_df):\n",
    "    input_df=input_df.replace(\"'\",\"\")\n",
    "    input_df=input_df.replace(\"\\r\",\" \")\n",
    "    input_df=input_df.replace(\"\\n\",\" \")\n",
    "    input_df=input_df.replace(\"-\",\" \")\n",
    "    input_df= re.sub(\"[\\(\\[].*?[\\)\\]]\", \"\", input_df)\n",
    "    input_df= re.sub(r'[^\\w\\s]', '', input_df)\n",
    "    #input_df= remove_accents(input_df)\n",
    "    return input_df\n",
    "\n",
    "def clean_lyric(input_lyric):\n",
    "    input_lyric = clean_str_puntuaction(input_lyric)\n",
    "    #input_lyric = remove_puntuation(input_lyric)\n",
    "    \n",
    "    input_lyric = lemmatize(input_lyric)\n",
    "    \n",
    "    input_lyric = remove_accents(input_lyric)\n",
    "    \n",
    "    input_lyric = token_clean_stopwords(input_lyric)\n",
    "    \n",
    "    \n",
    "    return input_lyric\n",
    "    \n",
    "    "
   ]
  },
  {
   "cell_type": "markdown",
   "metadata": {},
   "source": [
    "# Vectorizar texto sin preprocesar"
   ]
  },
  {
   "cell_type": "code",
   "execution_count": 130,
   "metadata": {},
   "outputs": [],
   "source": [
    "# Texto sin preprocesar\n",
    "from sklearn.feature_extraction.text import CountVectorizer\n",
    "# Define the cleaning pipeline we defined earlier\n",
    "vectorizer = CountVectorizer(analyzer = clean_lyric)\n",
    "lyrics_countvectorizer = vectorizer.fit_transform(lyrics_df['lyric'])"
   ]
  },
  {
   "cell_type": "code",
   "execution_count": 131,
   "metadata": {},
   "outputs": [
    {
     "name": "stdout",
     "output_type": "stream",
     "text": [
      "['Abranle', 'Abusa', 'Aceptalo', 'Aclaremos', 'Acompaname', 'Acordando', 'Acostumbrado', 'Acostumbrandome', 'Acura', 'Adentro', 'Adida', 'Admitelo', 'Adoro', 'Afortunado', 'Agradecido', 'Agradezco', 'Aguantate', 'Ahora', 'Alann', 'Alaska', 'Alguien', 'Algun', 'Amenaza', 'Amigos', 'Amistades', 'Analizando', 'Andamo', 'Andando', 'Angeles', 'Animate', 'Anitta', 'Anoche', 'Anton', 'Aparentemente', 'Apenas', 'Aplicamos', 'Apoco', 'Aposte', 'Aprendi', 'Aprendimos', 'Apuesto', 'Aquel', 'Aquella', 'Aquellas', 'Aquellos', 'Arcangel', 'Arriba', 'Arturo', 'Aullando', 'Avanzan', 'Aviso', 'Azules', 'BUSCO', 'Baila', 'Bailamos', 'Bailando', 'Bajale', 'Balvin', 'Barquillero', 'Batalle', 'Beach', 'Bebecita', 'Beber', 'Bebiendo', 'Bella', 'Benji', 'Besando', 'Bienvenidos', 'Blanca', 'Bloods', 'Bohemia', 'Brasil', 'Bravo', 'Brinca', 'Burlesco', 'Busca', 'Buscaras', 'CUATRO', 'Cabron', 'Cachetes', 'California', 'Callaita', 'Callao', 'Callate', 'Cambio', 'Caminando', 'Camine', 'Caminen', 'Camino', 'Canelo', 'Cantantes', 'Capsuleando', 'Caras', 'Caricias', 'Carlitos', 'Carnales', 'Cartel', 'Causando', 'Chalito', 'Champan', 'Chaparrita', 'Chona', 'Christian', 'Chucho', 'Clandestinos', 'Colombia', 'Color', 'Colores', 'Comenzo', 'Compa', 'Complementa', 'Comprende', 'Conmigo', 'Conoce', 'Conocer', 'Conocerte', 'Conocete', 'Conociendo', 'Conozco', 'Conseguimos', 'Considero', 'Conste', 'Contare', 'Contero', 'Contesta', 'Contigo', 'Continuamos', 'Convenceme', 'Converti', 'Conviertes', 'Cooperando', 'Corazon', 'Corriendo', 'Cosas', 'Coscu', 'Cosculluela', 'Creciendo', 'Creeme', 'Cruzaria', 'Cuales', 'Cualquier', 'Cualquiera', 'Cuantas', 'Cuanto', 'Cuantos', 'Cuentan', 'Cuerpo', 'Cuidate', 'Cumbia', 'Cupido', 'Dalecio', 'Damos', 'Dapres', 'Darell', 'Debes', 'Debio', 'Decidete', 'Decidimos', 'Decirle', 'Decirte', 'Definitivamente', 'Dejame', 'Dejamos', 'Dejate', 'Dejemosno', 'Demosle', 'Desafiando', 'Descifrando', 'Descubri', 'Deseando', 'Deseo', 'Desmadroso', 'Desnuda', 'Despacio', 'Despertarte', 'Desperte', 'Desperto', 'Despiertan', 'Despues', 'Desvelate', 'Detalles', 'Diamantes', 'Diario', 'Dicen', 'Dices', 'Diciendo', 'Digamos', 'Dijeron', 'Dimelo', 'Disculpame', 'Disculpe', 'Disfruto', 'Disque', 'Dizque', 'Djadja', 'Dolce', 'Drums', 'Duele', 'Dulce', 'ESCUCHAR', 'Edwin', 'Electro', 'Elidian', 'Empece', 'Empezamo', 'Empiezo', 'Encantadora', 'Encontre', 'Enganemoslo', 'Ensename', 'Enterate', 'Entiende', 'Entiendo', 'Entonce', 'Entregarlo', 'Escondidos', 'Escucha', 'Espectativa', 'Espera', 'Esperando', 'Espero', 'Estabamos', 'Estara', 'Estaras', 'Estare', 'Excepto', 'Expectativa', 'Explicame', 'Extraviarme', 'Fantasticos', 'Fernandez', 'Ferrari', 'Festin', 'Fidelidad', 'Finge', 'Fingiendo', 'Fiona', 'Flores', 'Forcejeando', 'Franco', 'Frente', 'Fuego', 'Fumando', 'Gamma', 'Gaspar', 'Generoso', 'Genre', 'Gente', 'Gimmе', 'Glock', 'Goodfella', 'Gotas', 'Graban', 'Gracia', 'Gracias', 'Gucci', 'Habia', 'Hablan', 'Hablando', 'Hablandome', 'Hablaste', 'Hablo', 'Hacemos', 'Haces', 'Hacia', 'Haciendo', 'Haciendolo', 'Haciendote', 'Hagan', 'Halloween', 'Harian', 'Hazle', 'Hennessy', 'Hollow', 'Hombres', 'Homeboy', 'Huentitan', 'Huevos', 'Humildemente', 'Icono', 'Ignoraba', 'Ignorandome', 'Ignorarlas', 'Igual', 'Imaginate', 'Imagino', 'Imparables', 'Inaguantablemente', 'Inbrincable', 'Incluso', 'Incondicional', 'Inmigrante', 'Insaciables', 'Insinuas', 'Insoportablemente', 'Intenciones', 'Intensamente', 'Intente', 'Intentemoslo', 'Inventando', 'Inventarles', 'Invitados', 'Iremos', 'Irnos', 'Jacob', 'Jaimes', 'Jalamos', 'Jalese', 'Jalisco', 'Jamas', 'Jeday', 'Jerry', 'Jesucristo', 'Jetski', 'Jodedores', 'Jowell', 'Jpourrais', 'Jsuis', 'Juana', 'Jueves', 'Jugar', 'Junto', 'Juntos', 'Juramos', 'Justo', 'Karol', 'Kassino', 'LETRAS', 'Labios', 'Lambebicho', 'Lambo', 'Lamento', 'Latino', 'Legendarios', 'Leggo', 'Lejos', 'Lenin', 'Lentamente', 'Levantamos', 'Levantarme', 'Levis', 'Linda', 'Listos', 'Literal', 'Llamame', 'Llega', 'Llegarian', 'Llegas', 'Llego', 'Llegue', 'Llevamos', 'Llevarte', 'Llevo', 'Llorando', 'Llorar', 'Lloraras', 'Llorare', 'Lloro', 'Lluvia', 'Lograste', 'Louis', 'Lucho', 'Lucky', 'Luego', 'Lujan', 'MANANA', 'Madrecita', 'Madrid', 'Maldiciendote', 'Maldita', 'Maluma', 'Mamacita', 'Manana', 'Manuel', 'Maquillaje', 'Maria', 'Marquele', 'Martin', 'Maybach', 'Medusa', 'Mejor', 'Menos', 'Mente', 'Mentiras', 'Mercedes', 'Merdece', 'Metele', 'Mexico', 'Miami', 'Mienteme', 'Mientra', 'Mientras', 'Mille', 'Millie', 'Mirarte', 'Modelame', 'Monterrey', 'Morir', 'Muchas', 'Muerte', 'Mueve', 'Muevete', 'Mutilado', 'Nacha', 'Nacido', 'Nadie', 'Nakamura', 'Natti', 'Navidad', 'Necesito', 'Nicky', 'Nieves', 'Nomas', 'Nuevo', 'Nunca', 'Observando', 'Obviamente', 'Odiar', 'Ojala', 'Olvidando', 'Olvidate', 'Ozuna', 'Pajarillo', 'Palabra', 'Palabras', 'Pancho', 'Parce', 'Parece', 'Pareciera', 'Party', 'Pasabamos', 'Pasajero', 'Pasan', 'Pasaste', 'Peine', 'Pelea', 'Peligroso', 'Pelinegra', 'Pensando', 'Pensaste', 'Pense', 'Perdi', 'Perdiendo', 'Perdiste', 'Perdon', 'Perdona', 'Perdoname', 'Perfecta', 'Perfil', 'Permiteme', 'Perreamos', 'Perro', 'Pideme', 'Pidiendo', 'Piensa', 'Pierdo', 'Pinto', 'Planeo', 'Platicandole', 'Pluton', 'Pocas', 'Pocos', 'Podra', 'Podria', 'Pongan', 'Poniendome', 'Ponte', 'Precisamente', 'Prende', 'Presenti', 'Pretendo', 'Primero', 'Probaste', 'Promesas', 'Pronto', 'Protegido', 'Prueba', 'Puede', 'Pueden', 'Puedo', 'Puras', 'Quedamos', 'Quedarse', 'Quedate', 'Quede', 'Quedo', 'Quererte', 'Queria', 'Quiera', 'Quiere', 'Quierelo', 'Quiereme', 'Quieren', 'Quieres', 'Quiero', 'Quimico', 'Quisiera', 'Quisieran', 'Quita', 'Quitame', 'Quitandote', 'Quiza', 'Quizas', 'RESUMEN', 'Ramona', 'Randy', 'Ransom', 'Rapeo', 'Rascabicho', 'Raymix', 'Realidad', 'Rebajalo', 'Reconozco', 'Recordar', 'Recordarla', 'Recorrer', 'Recorri', 'Recuerda', 'Recuerdo', 'Reebook', 'Regaladas', 'Regalale', 'Regalame', 'Regresa', 'Regresaras', 'Regresas', 'Reirnos', 'Renacio', 'Renuncio', 'Rescatar', 'Respirando', 'Respirar', 'Richard', 'Ricky', 'Ritmo', 'Robas', 'Rodman', 'Rolls', 'Romantico', 'Rompemo', 'Rosalia', 'Royce', 'Rudeboyz', 'Rumbale', 'Rusia', 'Sabemos', 'Saben', 'Sabes', 'Sabia', 'Sabiendo', 'Sabor', 'Sabras', 'Sacare', 'Sagrada', 'Salen', 'Saliendo', 'Salio', 'Salucita', 'Salud', 'Santa', 'Saquense', 'Seducidos', 'Seducirte', 'Seguir', 'Segun', 'Segura', 'Seguramente', 'Seguro', 'Seiko', 'Senorita', 'Senoritas', 'Seria', 'Shaquille', 'Siempre', 'Siendo', 'Siento', 'Significabas', 'Sigue', 'Sigues', 'Simpatice', 'Simplemente', 'Skillz', 'Socio', 'Solamente', 'Subestimaron', 'Subir', 'Suele', 'Suenos', 'Sugiero', 'Supongamo', 'TAMBIEN', 'Talvez', 'Tambien', 'Tamos', 'Tampoco', 'Tantas', 'Tendre', 'Tendria', 'Tenerte', 'Tentacion', 'Termino', 'Tiendes', 'Tierra', 'Todas', 'Todavia', 'Todito', 'Tomando', 'Tomare', 'Toronto', 'Total', 'Traigo', 'Trakalosa', 'Tranquilamente', 'Tratando', 'Trato', 'Trepate', 'Tribu', 'Trick', 'Tropece', 'Trueno', 'Turizo', 'Ujuuu', 'Ultima', 'Unico', 'Usted', 'Ustedes', 'Vacation', 'Vacilando', 'Valentino', 'Vamonos', 'Vamos', 'Veces', 'Vegas', 'Veias', 'Velala', 'Vendanme', 'Vendran', 'Vengo', 'Vente', 'Verdad', 'Verte', 'Vestida', 'Vicente', 'Victor', 'Viendo', 'Vieras', 'Viernes', 'Virgen', 'Viviendo', 'Vivir', 'Volteo', 'Volver', 'Volvera', 'Volvere', 'Vuelve', 'Vuitton', 'Whenever', 'Whisky', 'Wisin', 'Yaguaru', 'Yandel', 'Yankee', 'Youre', 'abajar', 'abandonar', 'abismar', 'abogar', 'abrazar', 'abrazarme', 'abrazarte', 'abrazo', 'abrigar', 'abrir', 'abrirte', 'absurdo', 'abuelo', 'abusadora', 'abusar', 'acabandose', 'acabar', 'acalambrar', 'acariciar', 'acaso', 'acceso', 'aceleralo', 'aceptalo', 'aceptar', 'aceptarlo', 'acepto', 'acerar', 'acercar', 'acercate', 'aclarar', 'acomodar', 'acompaname', 'acompanar', 'acompanarte', 'acordar', 'acorralar', 'acosar', 'acostumbrar', 'actitud', 'actuar', 'adelanta', 'adelantar', 'adentrar', 'adiccion', 'adicion', 'adicto', 'adios', 'admirador', 'admirar', 'admitelo', 'adorar', 'adornar', 'adrenalina', 'aduenarse', 'afectar', 'aferrar', 'aforar', 'afortunado', 'agarrar', 'agarrarlo', 'agonia', 'agotar', 'agradar', 'agradecer', 'aguantar', 'aguantarme', 'aguar', 'aguerrir', 'ahogar', 'ahogarme', 'ahora', 'ahorita', 'ahorrar', 'ahumar', 'ajeno', 'ajustar', 'alargar', 'alarmar', 'alborotar', 'alcancia', 'alcanzar', 'alcohol', 'alegrar', 'alegrarnos', 'alegria', 'alejar', 'alejarte', 'alentar', 'alguien', 'alguno', 'alimentar', 'alivianar', 'aliviar', 'almohada', 'alteracion', 'alterar', 'altura', 'alucinar', 'alucinarte', 'alumbrar', 'alzar', 'amandote', 'amanecer', 'amanerar', 'amante', 'amarar', 'amargar', 'amargo', 'amarillo', 'amarme', 'amarrar', 'amarte', 'amenazar', 'america', 'ameritar', 'amigar', 'amigo', 'amiguera', 'amistad', 'amistar', 'amonos', 'amore', 'andamo', 'andar', 'andarme', 'andarte', 'anecdota', 'anestesiar', 'angel', 'angustiar', 'anhelar', 'anillar', 'animal', 'animar', 'aniquilar', 'anoche', 'anorar', 'ansiedad', 'ansioso', 'antojar', 'antojo', 'antro', 'apagar', 'apapachen', 'aparecer', 'aparentar', 'apartar', 'apellidar', 'apenar', 'apocalipsis', 'apodar', 'apoderar', 'apostarle', 'apoyar', 'apoyarte', 'apreciar', 'aprender', 'aprendi', 'apreta', 'apretadita', 'apretar', 'aprovechar', 'apuntar', 'aquel', 'aquietar', 'arbol', 'arbolito', 'arder', 'arenar', 'argumentar', 'armao', 'armar', 'arrancar', 'arrancarte', 'arranque', 'arrastrar', 'arrebatao', 'arrebatar', 'arreglamo', 'arreglar', 'arremangar', 'arrepentimiento', 'arrepentir', 'arribar', 'arriesgar', 'arriesgarme', 'arrugar', 'arruinarlo', 'arrullar', 'artista', 'asegurar', 'asesino', 'asomar', 'asombrar', 'aspecto', 'astucia', 'asustar', 'atencion', 'atender', 'atener', 'atorar', 'atrabancar', 'atractivo', 'atrapar', 'atras', 'atrasar', 'atrever', 'atrevido', 'ausencia', 'ausentar', 'automatico', 'avanzar', 'aventar', 'avion', 'avisar', 'ayudar', 'ayudarte', 'azotar', 'bahamas', 'bailador', 'bailar', 'bailarla', 'baile', 'bajame', 'bajar', 'bajarte', 'bajartela', 'bajon', 'balancear', 'balanza', 'balar', 'balcon', 'banandose', 'banar', 'banco', 'banda', 'bando', 'bandolero', 'bandona', 'banqueta', 'barbar', 'barbaridad', 'barco', 'barquito', 'barreno', 'barrer', 'barrio', 'basar', 'bastante', 'bastar', 'basto', 'basura', 'batallar', 'beber', 'beberla', 'belleza', 'bello', 'bendecir', 'bendicion', 'besar', 'besarle', 'besarnos', 'besarte', 'besito', 'besitos', 'besuquear', 'bichar', 'bichote', 'bienvenido', 'bikini', 'billete', 'billeton', 'blanco', 'blanquita', 'bloqueador', 'blusa', 'boleto', 'bolita', 'bolsillo', 'bonito', 'booty', 'boquita', 'bordar', 'borrachera', 'borracho', 'borrar', 'borrarte', 'botar', 'botella', 'botelleo', 'botellita', 'bravo', 'braza', 'brazo', 'break', 'brillante', 'brillar', 'brincar', 'brindar', 'brisa', 'bromar', 'bronceandose', 'bronco', 'brotar', 'buchon', 'buenazo', 'bueno', 'bully', 'bulto', 'burlanote', 'burro', 'buscar', 'buscarle', 'buscarme', 'buscarte', 'buscate', 'buzon', 'caballero', 'caballo', 'cabellar', 'caber', 'cabeza', 'cabron', 'cabrone', 'cacahuate', 'cacerio', 'cachar', 'cacharte', 'cadera', 'calar', 'calentar', 'califa', 'california', 'callar', 'callarme', 'calle', 'calmo', 'calor', 'calzoncillo', 'camaron', 'cambiar', 'cambiate', 'caminar', 'caminarse', 'camino', 'camioneton', 'camisa', 'campante', 'cancion', 'cancione', 'candela', 'canguro', 'canoso', 'cansar', 'cansarme', 'cantante', 'cantar', 'cantarles', 'cantina', 'cantinero', 'canto', 'capacidad', 'capar', 'capaz', 'capital', 'capitulo', 'capricho', 'caracter', 'carajo', 'caramelo', 'carcajada', 'carencia', 'cargar', 'caricia', 'carinito', 'carino', 'carinoso', 'carita', 'carnala', 'carpir', 'carro', 'carta', 'casar', 'casita', 'castigar', 'casualida', 'casualidad', 'catalogar', 'catchana', 'catin', 'causar', 'cautivar', 'ceder', 'cederme', 'cejar', 'celar', 'celoso', 'celular', 'cementerio', 'cenar', 'cenizo', 'centrar', 'cercar', 'cereza', 'cerquita', 'cerrar', 'cerre', 'cerrojo', 'cervecitas', 'cerveza', 'chamaco', 'chanate', 'chapulineada', 'charlar', 'chatear', 'chelas', 'chicloso', 'chico', 'chilling', 'chimbo', 'chingar', 'chingo', 'chiquitito', 'chivar', 'chivita', 'chocar', 'chocolate', 'cholo', 'chotear', 'chueco', 'chulada', 'chulita', 'chulo', 'chupar', 'cicatriz', 'cicatrizar', 'ciclar', 'cielo', 'cierto', 'cigarrito', 'cigarro', 'cinico', 'cintura', 'cinturita', 'circo', 'cirquito', 'citar', 'ciudad', 'claridad', 'clarinete', 'clarito', 'claro', 'clasico', 'clasu', 'claus', 'clavar', 'claxon', 'cobarde', 'cobardia', 'cobrar', 'coche', 'codigo', 'coger', 'coincidir', 'colchon', 'colego', 'colgar', 'colonia', 'color', 'coloradita', 'combar', 'combi', 'comenzar', 'comer', 'comerme', 'comerte', 'cometer', 'comiendote', 'comment', 'compa', 'compadrar', 'companero', 'compania', 'comparar', 'compararte', 'compartir', 'compas', 'competir', 'complacerme', 'complacerte', 'complaciendote', 'complaciente', 'complejo', 'complementar', 'completar', 'complicar', 'componer', 'comportamiento', 'comprar', 'comprarte', 'comprender', 'comprobar', 'compromiso', 'comunicacion', 'concentrarme', 'concertar', 'condicion', 'confesar', 'confesartelo', 'confia', 'confianza', 'confiar', 'confidente', 'conformar', 'confundir', 'confusion', 'confuso', 'conmigo', 'conocemo', 'conocer', 'conocerte', 'conoci', 'conquistandome', 'conquistar', 'conquistarla', 'conquistarte', 'consciencia', 'consciente', 'consecuencia', 'conseguir', 'consejo', 'consentir', 'conservar', 'consolacion', 'consolar', 'consolarme', 'constante', 'constar', 'construido', 'construir', 'consumir', 'contabilizar', 'contar', 'contaria', 'contarle', 'contarlo', 'contarte', 'contemplarte', 'contentar', 'contento', 'contestar', 'contestarte', 'contigo', 'continuar', 'continuo', 'contrario', 'contratar', 'control', 'convencer', 'convencerte', 'convenir', 'conversacion', 'convertir', 'convertirlo', 'copar', 'coquetear', 'coraje', 'corazon', 'cordura', 'corillo', 'coronamo', 'coronar', 'correcto', 'correr', 'corresponder', 'corretiar', 'corridazo', 'corrido', 'corriente', 'cortar', 'corto', 'coser', 'cosita', 'costar', 'costo', 'costumbre', 'cotorrear', 'crack', 'crecer', 'creer', 'crema', 'criar', 'criminal', 'criterio', 'criticar', 'croyais', 'crucero', 'crudo', 'cruel', 'cruzar', 'cruzarme', 'cualquiera', 'cuanto', 'cuarenta', 'cuartar', 'cuartitos', 'cuatro', 'cubano', 'cubrir', 'cucaracha', 'cuchillo', 'cuenta', 'cuento', 'cuerdo', 'cuerno', 'cuero', 'cuerpito', 'cuerpo', 'cuestion', 'cuestionar', 'cuetes', 'cuidar', 'cuidarte', 'culiacan', 'culito', 'culpable', 'culpar', 'culparme', 'cumbia', 'cumpleanos', 'cumplio', 'cumplir', 'cumplirlas', 'cumplirse', 'cupido', 'curar', 'curiosidad', 'cursi', 'curtir', 'danar', 'darle', 'darme', 'darte', 'datar', 'debajo', 'deber', 'deberas', 'decente', 'decepcion', 'decepcionar', 'decia', 'decias', 'decidete', 'decidir', 'decir', 'decirle', 'decirlo', 'decirme', 'decirnos', 'decirte', 'decirtelo', 'decision', 'decorar', 'decretar', 'dedicar', 'defecto', 'defender', 'defenderme', 'defiendete', 'definitivo', 'deidad', 'dejalo', 'dejar', 'dejaramo', 'dejarlos', 'dejarme', 'dejarte', 'delante', 'delatar', 'delgado', 'delire', 'delirio', 'delito', 'demas', 'demasiar', 'demente', 'demonio', 'demosle', 'demostrar', 'demostrarlo', 'demuestrame', 'dentro', 'depender', 'depravar', 'depresion', 'depresivo', 'derecho', 'derivar', 'derretir', 'derrotar', 'derrumbar', 'desabotonar', 'desamor', 'desaparecer', 'desarmar', 'desatar', 'descalzar', 'descansar', 'descarar', 'desconocer', 'desconocia', 'describirte', 'descubrir', 'descuidar', 'descuidarte', 'desear', 'desearte', 'desechar', 'desencajar', 'deseo', 'desesperar', 'desfile', 'desgastar', 'desgraciar', 'desies', 'desilusion', 'desinquieto', 'desmadrar', 'desnudar', 'desnudarte', 'desnudo', 'desorden', 'desorientar', 'despacio', 'despechar', 'despedir', 'despedirte', 'despeinar', 'despejar', 'despertar', 'despertarme', 'despertarte', 'despierto', 'despistar', 'despreciar', 'desprecio', 'desprenderse', 'despue', 'despues', 'destiempo', 'destinar', 'destrampo', 'destrozar', 'destruir', 'desvelar', 'desvestir', 'desvivir', 'detallar', 'detalle', 'detener', 'detenerte', 'detestar', 'detras', 'devastador', 'devolver', 'devorar', 'devuelveme', 'diabetes', 'diablo', 'diamantar', 'diario', 'dichoso', 'diciendoselo', 'dictador', 'dictadura', 'diente', 'diferente', 'dificil', 'digame', 'dijistes', 'dimelo', 'dinamitar', 'dinerito', 'dinero', 'directo', 'dirigir', 'dirijiera', 'disco', 'discoteca', 'disculpandote', 'disculpar', 'discutir', 'disfrazar', 'disfrutar', 'disfrutarlo', 'disimular', 'disparar', 'disponer', 'disponible', 'disquera', 'distanciar', 'distante', 'distar', 'distinguir', 'distinto', 'disturbio', 'divertir', 'diviendo', 'divino', 'dizque', 'doblar', 'doler', 'doliendome', 'dolor', 'domiciliar', 'dominar', 'domingo', 'dondequiera', 'dormir', 'dormitorio', 'dosis', 'dudar', 'duela', 'dueno', 'dulce', 'dulzura', 'durar', 'echar', 'echese', 'echizado', 'electricidad', 'electrocumbia', 'elegancia', 'elegante', 'elegir', 'elementar', 'elevar', 'embargar', 'emborracharme', 'embriagar', 'embustero', 'emocion', 'emocionar', 'empenar', 'empeorar', 'empezamo', 'empezao', 'empezar', 'enamoradizo', 'enamorar', 'enamorarme', 'enamorarte', 'encajar', 'encajoso', 'encantador', 'encantar', 'encanto', 'encargar', 'encelar', 'encender', 'encerrar', 'encimar', 'encontramo', 'encontrar', 'encontrarme', 'encontrarte', 'endemoniao', 'endiablar', 'enemigo', 'enero', 'enfiesto', 'enfrentar', 'enfrentarlo', 'enganandome', 'enganar', 'enganarme', 'enganoso', 'enloquecer', 'enloquecerse', 'enojar', 'enojo', 'enredar', 'enredarme', 'enrolar', 'enseguida', 'ensenar', 'enseriar', 'entender', 'enterar', 'entero', 'enterrar', 'entramar', 'entrar', 'entrarle', 'entregar', 'entregarte', 'entumir', 'enviar', 'envidiar', 'envidiarte', 'envidioso', 'envolviendome', 'equipar', 'equivocar', 'equivocarme', 'error', 'escalar', 'escalofrio', 'escapar', 'escarchar', 'escena', 'escenario', 'esclavo', 'escoger', 'esconder', 'esconderse', 'escotar', 'escribimos', 'escribir', 'escribirte', 'escuchar', 'escucharte', 'escuela', 'esencia', 'esforzar', 'esmog', 'espalda', 'espantar', 'especial', 'especifico', 'espejar', 'esperandote', 'esperanzar', 'esperar', 'esperarse', 'espinar', 'esposar', 'esposo', 'espumar', 'esqui', 'esquinar', 'estallar', 'estamo', 'estilar', 'estilista', 'estirar', 'estoico', 'estorbar', 'estrana', 'estrellar', 'estrenar', 'estres', 'estresaba', 'estropear', 'estudiar', 'estupidez', 'estupidos', 'eternamente', 'eternidad', 'eterno', 'europa', 'evangelio', 'evidenciar', 'evidente', 'evitar', 'exacto', 'exceder', 'excepcional', 'exclusivo', 'excusar', 'exigiendole', 'exigir', 'existir', 'expectativa', 'experiencia', 'experto', 'expirar', 'explicacion', 'explicame', 'explicar', 'explosivo', 'expresar', 'extensione', 'extranandote', 'extranar', 'extranarme', 'extranarte', 'extrano', 'extremar', 'extremo', 'facil', 'facilitar', 'facturar', 'falda', 'faldita', 'fallar', 'fallir', 'fallo', 'falsedad', 'falso', 'faltar', 'falto', 'familia', 'famoso', 'fanatico', 'fantasia', 'fantasma', 'fantasmee', 'farra', 'fascinar', 'fatal', 'favor', 'favorito', 'febrero', 'fecho', 'felicidad', 'felicitar', 'feliz', 'femenino', 'fenix', 'feriar', 'ferrar', 'festejar', 'ficcion', 'fiesta', 'fieston', 'figurar', 'fijacion', 'fijar', 'final', 'finar', 'fingir', 'finiquera', 'finish', 'fintar', 'fisico', 'flaco', 'flechar', 'flojo', 'fondo', 'formal', 'formar', 'fortuna', 'forza', 'forzar', 'fotografiar', 'fracasar', 'fracaso', 'fragil', 'frase', 'freir', 'frenar', 'frente', 'friends', 'fronteando', 'fronteo', 'frontero', 'fucking', 'fuego', 'fueguillo', 'fuente', 'fuerte', 'fuerza', 'fugao', 'fugaz', 'fuistes', 'fulanito', 'fumar', 'funcion', 'funcionar', 'fundiendose', 'fundir', 'fusionao', 'futbol', 'futuro', 'gacho', 'gallar', 'galopar', 'ganao', 'ganar', 'gangsta', 'garaje', 'gastamo', 'gastar', 'gemelo', 'generacion', 'genio', 'gente', 'gesto', 'gimme', 'gistro', 'gloria', 'godin', 'golpe', 'gordo', 'gordura', 'gorilita', 'gozar', 'gozarla', 'gozatelo', 'grabamo', 'grabar', 'gracia', 'granarlos', 'grande', 'grandeza', 'granel', 'grillar', 'gringo', 'grise', 'gritar', 'gritarle', 'groseria', 'grupo', 'guardar', 'guardarme', 'guardia', 'guaya', 'guayarte', 'gueritas', 'guerra', 'guiar', 'guinar', 'guitarra', 'gustar', 'gusto', 'haber', 'haberle', 'haberme', 'habermela', 'haberte', 'habian', 'habitacion', 'hablame', 'hablao', 'hablar', 'hablarme', 'hablarnos', 'hablarte', 'hacemo', 'hacer', 'hacerla', 'hacerle', 'hacerlo', 'hacerme', 'hacernos', 'hacerte', 'hacia', 'hacian', 'halagar', 'halcon', 'hallar', 'hambre', 'hartar', 'hazme', 'hechar', 'hecho', 'helar', 'hembra', 'herir', 'hermanar', 'hermano', 'hermoso', 'hermosura', 'hervir', 'hicimo', 'hiedra', 'hipnotizarme', 'hipocresia', 'hipocrita', 'hiriente', 'historia', 'holla', 'hombre', 'homeboys', 'homenaje', 'honesto', 'honor', 'honorar', 'hookah', 'horario', 'hormona', 'horno', 'hospedar', 'huarache', 'huella', 'hueso', 'huevo', 'humanar', 'humeda', 'humildad', 'humilde', 'humillar', 'humillarme', 'hundir', 'identificar', 'idilio', 'idiota', 'idiotez', 'idiotizar', 'ignorar', 'ignorarme', 'igual', 'igualar', 'igualito', 'iluminar', 'ilusionar', 'imagen', 'imaginacion', 'imaginandote', 'imaginar', 'impactar', 'imponer', 'importante', 'importar', 'imposible', 'inaceptable', 'inalcanzable', 'incentivo', 'incierto', 'incitar', 'incluir', 'incluso', 'incondicional', 'inconveniente', 'increible', 'incurable', 'indeciso', 'indicar', 'indiferencia', 'indiferente', 'inevitable', 'infeliz', 'infidelidad', 'infiel', 'infierno', 'infinito', 'ingenieria', 'inimaginable', 'inmensamente', 'inocente', 'inolvidable', 'inseguro', 'insensible', 'insinuacion', 'insistir', 'inspiracion', 'inspirar', 'instante', 'instinto', 'inteligente', 'intencion', 'intencione', 'intensamente', 'intensar', 'intentar', 'intento', 'interes', 'interesante', 'interesar', 'interferir', 'interior', 'internacional', 'internet', 'intimidar', 'introducir', 'intruso', 'inundar', 'invadir', 'inventar', 'inventariar', 'invertir', 'invitacion', 'invitar', 'invitarte', 'ironia', 'irreal', 'irresponsable', 'irritarme', 'izquierdo', 'jalar', 'jalarle', 'jamais', 'jamar', 'jamas', 'jangueando', 'janguear', 'jangueo', 'jardin', 'jetski', 'jodedera', 'jodemo', 'joder', 'jodio', 'jornada', 'joven', 'jueguito', 'jueve', 'jugar', 'jugoso', 'juguete', 'juntar', 'junto', 'juramento', 'jurar', 'justamente', 'justar', 'karma', 'kickin', 'killer', 'krippy', 'labio', 'ladear', 'ladrale', 'lagrima', 'lagrimar', 'lamentar', 'lamentarnos', 'largar', 'largate', 'largo', 'lasintura', 'lastimar', 'lastimarme', 'lastimarnos', 'lastimarte', 'latigazo', 'latino', 'latir', 'lazar', 'lease', 'leccion', 'legal', 'leggo', 'legua', 'lejos', 'lente', 'lento', 'levantar', 'levantarme', 'leyenda', 'libertar', 'librar', 'limite', 'limpiar', 'lindar', 'lindo', 'listar', 'listo', 'liston', 'llamame', 'llamar', 'llamarle', 'llamarte', 'llanto', 'llave', 'llegar', 'llenadera', 'llenar', 'llenarte', 'llendo', 'lleno', 'llevar', 'llevarla', 'llevarme', 'llevarsela', 'llevarte', 'llorar', 'llorarme', 'llorarte', 'llover', 'lluvia', 'locura', 'lograr', 'loquita', 'lucesitas', 'lucir', 'lucirla', 'luego', 'lueguito', 'lugar', 'lujoso', 'lujuriar', 'lunar', 'lunes', 'machacar', 'machar', 'macizar', 'maderar', 'madre', 'madresita', 'madrugar', 'madurar', 'maduro', 'maestro', 'mafia', 'magia', 'malabar', 'malandron', 'maldad', 'maldecir', 'maldicion', 'maldito', 'maleante', 'maleta', 'malherir', 'maliciar', 'maltratar', 'mamacita', 'mamar', 'manana', 'mandar', 'manera', 'manir', 'manoso', 'mantener', 'mantenla', 'manzana', 'maquillaje', 'maquillar', 'marcar', 'marchar', 'marcharme', 'marchitar', 'marear', 'margen', 'mariachi', 'maridar', 'marihuana', 'mariposa', 'martirio', 'matador', 'matame', 'matamo', 'matar', 'matarme', 'material', 'mecer', 'mediar', 'medir', 'mejilla', 'mejor', 'memolesta', 'memoria', 'mendigar', 'menear', 'menos', 'mensaje', 'mental', 'mentar', 'mente', 'mentias', 'mentir', 'mentira', 'merecer', 'merecerte', 'mesar', 'meter', 'mexicano', 'mezclar', 'mhija', 'miedo', 'miente', 'mientra', 'mientras', 'milesima', 'millo', 'millon', 'mimar', 'minutar', 'mirar', 'mirarla', 'mirarme', 'mirarte', 'mision', 'mismo', 'mitad', 'mocoso', 'mojar', 'molestarte', 'momento', 'mondar', 'monstruo', 'montar', 'monton', 'moral', 'morar', 'morenitas', 'moreno', 'morir', 'morirme', 'morirse', 'morirte', 'morra', 'morro', 'mosca', 'mostrar', 'motel', 'motivar', 'motivo', 'motor', 'mover', 'moverme', 'moverte', 'movie', 'movil', 'movimiento', 'moyen', 'muchachito', 'muchacho', 'muerte', 'mujer', 'mujere', 'mundo', 'muneco', 'munequita', 'murmurar', 'music', 'musico', 'muslo', 'nacer', 'nadar', 'nadie', 'nalga', 'natural', 'navegar', 'necesario', 'necesidad', 'necesitar', 'negar', 'negarlo', 'negociacion', 'negociar', 'negocio', 'negrito', 'negro', 'nervioso', 'nevar', 'night', 'ninguno', 'nivel', 'nivelar', 'noche', 'nocion', 'nomas', 'nombrar', 'normal', 'nosotro', 'nostalgia', 'notar', 'noticiar', 'novecientas', 'novelar', 'noventa', 'novio', 'nublo', 'nuevamente', 'nueve', 'nuevo', 'number', 'numero', 'nunca', 'objetivar', 'obligar', 'obscenidad', 'obscuridad', 'observarte', 'obsesion', 'obsesionante', 'obsesionarme', 'obviar', 'ocasion', 'ocklan', 'oculto', 'ocupar', 'odiar', 'odiarte', 'ofender', 'ofensa', 'oficial', 'oficiar', 'ofrecer', 'ojito', 'olvidar', 'olvidarias', 'olvidarme', 'olvidarte', 'olvidemo', 'ombligo', 'omerta', 'omiso', 'ondear', 'opcion', 'opinar', 'opinion', 'oponer', 'oportunidad', 'orden', 'oreja', 'organizar', 'orgullo', 'orgulloso', 'orillar', 'oscurecer', 'oscuridad', 'oscuro', 'paciencia', 'padre', 'pagar', 'paisaje', 'pajarillo', 'pajaron', 'palabra', 'palante', 'pancita', 'paniqueados', 'panorama', 'pantalon', 'pantie', 'panza', 'panzon', 'papel', 'paragua', 'parar', 'parecer', 'parecias', 'pared', 'parejo', 'pariente', 'parir', 'parque', 'parranda', 'partie', 'partir', 'party', 'pasajero', 'pasar', 'pasarla', 'pasear', 'pasearte', 'paseselo', 'pasion', 'pasito', 'patan', 'patear', 'patra', 'patron', 'patrone', 'payaso', 'pecar', 'pechar', 'pedazo', 'peder', 'pedestal', 'pedir', 'pedirle', 'pegaditos', 'pegajoso', 'pegalo', 'pegar', 'peinar', 'pelar', 'peleamo', 'pelear', 'pelicula', 'peligrar', 'peligro', 'peligroso', 'penar', 'pendejo', 'pendiente', 'penetrar', 'pensamiento', 'pensandote', 'pensar', 'pensarlo', 'pensarte', 'pequeno', 'perdedor', 'perder', 'perderlo', 'perderme', 'perderte', 'perdidamente', 'perdido', 'perdiendote', 'perdon', 'perdonar', 'perfeccion', 'perfectamente', 'perfecto', 'periodo', 'perjudicar', 'perjudicarte', 'permanente', 'permiso', 'permitir', 'perreando', 'perrear', 'perreo', 'perro', 'personaje', 'personal', 'personar', 'pertenecer', 'pesadilla', 'pesar', 'pestana', 'picar', 'piedad', 'piedra', 'piedrita', 'piensalo', 'pierna', 'pieza', 'pijama', 'pillar', 'pilotar', 'pinata', 'pintar', 'pintarte', 'piojo', 'piquete', 'pisar', 'pisarme', 'pistar', 'pistola', 'placer', 'placoso', 'planchar', 'planear', 'planie', 'plano', 'plata', 'platicar', 'plato', 'playa', 'plaza', 'plebe', 'plebitas', 'pluma', 'plural', 'poblar', 'pobre', 'pobreza', 'poder', 'poderio', 'poderlos', 'poderte', 'podria', 'poesia', 'point', 'policia', 'pollo', 'poner', 'ponerle', 'ponerme', 'ponerse', 'ponerte', 'poniendome', 'ponte', 'poquito', 'poreso', 'porres', 'portar', 'posible', 'posicion', 'posicionar', 'positivo', 'posteamo', 'postura', 'potrillo', 'potro', 'power', 'precaucionar', 'precaver', 'preciar', 'precioso', 'precisar', 'preferir', 'preguntale', 'preguntar', 'preguntarme', 'preguntarte', 'prejuicio', 'premiar', 'prender', 'prendia', 'preocupacion', 'preocupar', 'prepa', 'preparar', 'prepotente', 'presenciar', 'presentar', 'presentarme', 'presentimiento', 'presentir', 'presion', 'preso', 'prestar', 'prestigiar', 'presto', 'presumir', 'pretender', 'pretextar', 'prever', 'primavera', 'primero', 'princecita', 'princesa', 'principiante', 'principiar', 'principio', 'prioridad', 'prisa', 'prision', 'probable', 'probaita', 'probar', 'problema', 'problematico', 'procesar', 'profesion', 'profundar', 'programar', 'prohibir', 'prohibirme', 'promesa', 'prometer', 'prometio', 'promocion', 'promotor', 'pronto', 'propio', 'proponer', 'prospero', 'protagonista', 'proteccion', 'protegernos', 'provecho', 'provocar', 'provocativo', 'publicar', 'puerta', 'puneta', 'punto', 'pupilentes', 'pupilo', 'quebrar', 'quedar', 'quedarme', 'quedarse', 'quedarte', 'quedo', 'quejarme', 'quemar', 'querer', 'quererte', 'queso', 'quincena', 'quitar', 'quitarlo', 'quitarme', 'quitate', 'quito', 'rajar', 'ranchero', 'rapido', 'rastrillar', 'ratero', 'ratito', 'rayar', 'razon', 'razonar', 'reaccion', 'reaccionar', 'ready', 'realidad', 'rebajarte', 'rebotar', 'recetar', 'rechazar', 'recibir', 'reclamar', 'reclamarme', 'reclamarte', 'reclamo', 'recompensar', 'reconocer', 'recontar', 'recordar', 'recordarlo', 'recordarte', 'recorrer', 'recorrerla', 'recuerdate', 'recuerdo', 'recuperar', 'redar', 'redondita', 'reemplazar', 'referir', 'reflejar', 'refran', 'regalao', 'regalar', 'regalo', 'regar', 'reggaeton', 'reggaetone', 'reggaetonera', 'reglar', 'regresar', 'regreso', 'regresso', 'rehab', 'reinar', 'reintentarlo', 'relacion', 'relacionar', 'relajar', 'relampago', 'religion', 'reloj', 'remediar', 'remix', 'remordimiento', 'rencor', 'rendir', 'rendirte', 'rentar', 'reojo', 'repartir', 'repente', 'repetir', 'repitele', 'reposar', 'reprochar', 'requisito', 'resaltar', 'rescatarlo', 'residir', 'resignar', 'resignarme', 'resistir', 'respectivo', 'respetar', 'respeto', 'respetuoso', 'respiracion', 'respirar', 'responde', 'responder', 'responderse', 'respuesta', 'resquicio', 'restaurante', 'resultar', 'resumir', 'retar', 'retomar', 'retumbar', 'revancha', 'reventar', 'rever', 'revolcar', 'revolver', 'reyna', 'rezar', 'ricura', 'rienda', 'rincon', 'riqueza', 'ritmar', 'robar', 'robarse', 'rodar', 'rodilla', 'rogar', 'rogarme', 'rogarte', 'rolar', 'romantico', 'rompemo', 'romper', 'roncar', 'rondar', 'rosado', 'rostro', 'rotar', 'rozar', 'rriba', 'ruego', 'ruido', 'ruleta', 'rumba', 'rumbear', 'rumeurs', 'sabado', 'saber', 'saberlo', 'sabiduria', 'sabio', 'sabor', 'saborcito', 'saborear', 'saborearme', 'sabroso', 'sabrosura', 'sacar', 'sacarle', 'sacarme', 'sacarte', 'sacerdote', 'saciar', 'sacramentar', 'sacrificarlo', 'sacudete', 'sacudiendome', 'salar', 'salir', 'salivar', 'saltar', 'salud', 'saludar', 'saludarnos', 'saludarte', 'salvaje', 'salvo', 'sanar', 'sanarme', 'sangrar', 'santo', 'sativo', 'sauce', 'sazon', 'school', 'screamin', 'secretar', 'secreto', 'secundar', 'sedar', 'sediento', 'sedieron', 'seducirla', 'seductor', 'seguimo', 'seguir', 'segun', 'segundar', 'seguro', 'selecto', 'semana', 'semejanza', 'senal', 'sencillez', 'sencillo', 'senor', 'sensacion', 'sensualidad', 'sentar', 'sentimental', 'sentimiento', 'sentir', 'sentirle', 'sentirme', 'sentirse', 'separar', 'sepelio', 'septimo', 'sepultar', 'serenar', 'serenata', 'serial', 'seriamente', 'seriar', 'serio', 'serle', 'servir', 'shorty', 'siempre', 'sientate', 'siglo', 'siguiente', 'silenciar', 'silla', 'sillon', 'simple', 'simplemente', 'sincerar', 'sincero', 'siquiera', 'sirvanme', 'sirvio', 'situacion', 'sobornar', 'sobrar', 'sobrevivir', 'socio', 'solamente', 'solear', 'soledad', 'soler', 'solicitar', 'solita', 'solitario', 'soltar', 'soltarte', 'soltero', 'solucion', 'sombrar', 'sombrero', 'sonador', 'sonar', 'sonarte', 'sonreir', 'sonriente', 'sonrisa', 'sonsacar', 'soplapote', 'soportar', 'sorprender', 'sorpresa', 'sortija', 'sospechar', 'sostener', 'spend', 'sport', 'spray', 'stress', 'subconsciente', 'subestimar', 'subir', 'subrayar', 'suceder', 'sucio', 'sudar', 'suegro', 'suelto', 'suenalo', 'sueno', 'suerte', 'suficiente', 'sufrimiento', 'sufrir', 'superar', 'superarlo', 'superarte', 'superior', 'suponer', 'supuestamente', 'sushi', 'suspirar', 'suspiro', 'tacuache', 'tacuaches', 'tafficher', 'takeover', 'taladrar', 'talento', 'talentoso', 'tamano', 'tambien', 'tambora', 'tampoco', 'tantito', 'tardar', 'tarde', 'tarea', 'tatuar', 'teatro', 'teflon', 'telefono', 'televisor', 'temblar', 'tembloroso', 'temer', 'temor', 'tempestad', 'temporada', 'temporal', 'tenemo', 'tener', 'tenerme', 'tenerse', 'tenerte', 'tenes', 'tenia', 'teniendote', 'tensar', 'tentar', 'tequila', 'tercero', 'terminamo', 'terminar', 'ternura', 'terremoto', 'terreno', 'tesoro', 'testigo', 'thats', 'tibieza', 'tiempo', 'tierno', 'timar', 'timon', 'tipico', 'tirar', 'tocar', 'tocarla', 'tocarnos', 'todavia', 'toddler', 'todito', 'tomandose', 'tomar', 'tomarla', 'tomarme', 'tomarnos', 'tomarte', 'tonights', 'tonteria', 'tonto', 'toooooos', 'topar', 'tormento', 'torturar', 'totalmente', 'totito', 'toxico', 'trabajar', 'trabajo', 'trabar', 'track', 'traer', 'trafico', 'tragar', 'trago', 'tragon', 'traia', 'traiba', 'traicion', 'traicionar', 'tramar', 'trampa', 'transmitir', 'trastornar', 'tratar', 'tratarla', 'traumada', 'traves', 'travesura', 'travieso', 'treat', 'tremendo', 'trenzar', 'trick', 'trili', 'triste', 'tristeza', 'triunfador', 'triunfo', 'troca', 'trocas', 'tronar', 'trono', 'tropezar', 'tropezarme', 'tropical', 'tsunami', 'tumbar', 'turnar', 'tusar', 'tutear', 'ultimamente', 'ultimo', 'unicamente', 'unico', 'unirlas', 'vacante', 'vaciar', 'vacilar', 'vacilon', 'vacio', 'vagabundo', 'vagar', 'valentia', 'valer', 'valia', 'valiente', 'vallar', 'vallenato', 'valor', 'valorar', 'vamosle', 'vanidad', 'vanidoso', 'varios', 'veinte', 'veintiuno', 'velar', 'vencer', 'vender', 'veneno', 'venganza', 'vengarte', 'venir', 'ventajoso', 'ventana', 'vente', 'verano', 'verda', 'verdad', 'verdadero', 'verde', 'verga', 'vergazo', 'verguenza', 'verla', 'verme', 'vernos', 'verrait', 'version', 'versionar', 'verte', 'vestidito', 'vestir', 'vestirse', 'vetar', 'viada', 'viajar', 'viajero', 'vibrar', 'vicio', 'victoria', 'videos', 'viejo', 'viejon', 'viento', 'vierne', 'virao', 'virar', 'virgen', 'virtud', 'visitar', 'visualizar', 'viudo', 'vivencia', 'vividor', 'vivir', 'vivirla', 'volar', 'volcan', 'voltear', 'volumen', 'voluntad', 'volvemo', 'volver', 'volverme', 'volverte', 'volvistes', 'voraz', 'vuelta', 'vueltecita', 'vueltita', 'vuelvela', 'vulgar', 'waistline', 'wheeleando', 'yegua', 'zumbar']\n"
     ]
    }
   ],
   "source": [
    "print(vectorizer.get_feature_names())"
   ]
  },
  {
   "cell_type": "code",
   "execution_count": 132,
   "metadata": {},
   "outputs": [
    {
     "name": "stdout",
     "output_type": "stream",
     "text": [
      "[[0 0 0 ... 0 0 0]\n",
      " [0 0 0 ... 0 0 0]\n",
      " [0 0 0 ... 0 0 0]\n",
      " ...\n",
      " [0 0 0 ... 0 0 0]\n",
      " [0 0 0 ... 0 0 0]\n",
      " [0 0 0 ... 0 0 0]]\n"
     ]
    }
   ],
   "source": [
    "print(lyrics_countvectorizer.toarray())  "
   ]
  },
  {
   "cell_type": "markdown",
   "metadata": {},
   "source": [
    "# Ejecutar desde aquí "
   ]
  },
  {
   "cell_type": "code",
   "execution_count": 133,
   "metadata": {},
   "outputs": [],
   "source": [
    "\n",
    "lyrics = pd.DataFrame(lyrics_countvectorizer.toarray())\n",
    "\n",
    "lyrics.reset_index(drop=True, inplace=True)\n"
   ]
  },
  {
   "cell_type": "code",
   "execution_count": 134,
   "metadata": {},
   "outputs": [],
   "source": [
    "X = lyrics"
   ]
  },
  {
   "cell_type": "code",
   "execution_count": 135,
   "metadata": {},
   "outputs": [
    {
     "data": {
      "text/plain": [
       "(412, 3035)"
      ]
     },
     "execution_count": 135,
     "metadata": {},
     "output_type": "execute_result"
    }
   ],
   "source": [
    "X.shape\n"
   ]
  },
  {
   "cell_type": "code",
   "execution_count": 136,
   "metadata": {},
   "outputs": [
    {
     "data": {
      "text/html": [
       "<div>\n",
       "<style scoped>\n",
       "    .dataframe tbody tr th:only-of-type {\n",
       "        vertical-align: middle;\n",
       "    }\n",
       "\n",
       "    .dataframe tbody tr th {\n",
       "        vertical-align: top;\n",
       "    }\n",
       "\n",
       "    .dataframe thead th {\n",
       "        text-align: right;\n",
       "    }\n",
       "</style>\n",
       "<table border=\"1\" class=\"dataframe\">\n",
       "  <thead>\n",
       "    <tr style=\"text-align: right;\">\n",
       "      <th></th>\n",
       "      <th>0</th>\n",
       "      <th>1</th>\n",
       "      <th>2</th>\n",
       "      <th>3</th>\n",
       "      <th>4</th>\n",
       "      <th>5</th>\n",
       "      <th>6</th>\n",
       "      <th>7</th>\n",
       "      <th>8</th>\n",
       "      <th>9</th>\n",
       "      <th>...</th>\n",
       "      <th>3025</th>\n",
       "      <th>3026</th>\n",
       "      <th>3027</th>\n",
       "      <th>3028</th>\n",
       "      <th>3029</th>\n",
       "      <th>3030</th>\n",
       "      <th>3031</th>\n",
       "      <th>3032</th>\n",
       "      <th>3033</th>\n",
       "      <th>3034</th>\n",
       "    </tr>\n",
       "  </thead>\n",
       "  <tbody>\n",
       "    <tr>\n",
       "      <th>0</th>\n",
       "      <td>0</td>\n",
       "      <td>0</td>\n",
       "      <td>0</td>\n",
       "      <td>0</td>\n",
       "      <td>0</td>\n",
       "      <td>0</td>\n",
       "      <td>0</td>\n",
       "      <td>0</td>\n",
       "      <td>0</td>\n",
       "      <td>0</td>\n",
       "      <td>...</td>\n",
       "      <td>0</td>\n",
       "      <td>0</td>\n",
       "      <td>0</td>\n",
       "      <td>0</td>\n",
       "      <td>0</td>\n",
       "      <td>0</td>\n",
       "      <td>0</td>\n",
       "      <td>0</td>\n",
       "      <td>0</td>\n",
       "      <td>0</td>\n",
       "    </tr>\n",
       "    <tr>\n",
       "      <th>1</th>\n",
       "      <td>0</td>\n",
       "      <td>0</td>\n",
       "      <td>0</td>\n",
       "      <td>0</td>\n",
       "      <td>0</td>\n",
       "      <td>0</td>\n",
       "      <td>0</td>\n",
       "      <td>0</td>\n",
       "      <td>0</td>\n",
       "      <td>0</td>\n",
       "      <td>...</td>\n",
       "      <td>0</td>\n",
       "      <td>0</td>\n",
       "      <td>0</td>\n",
       "      <td>0</td>\n",
       "      <td>0</td>\n",
       "      <td>0</td>\n",
       "      <td>0</td>\n",
       "      <td>0</td>\n",
       "      <td>0</td>\n",
       "      <td>0</td>\n",
       "    </tr>\n",
       "    <tr>\n",
       "      <th>2</th>\n",
       "      <td>0</td>\n",
       "      <td>0</td>\n",
       "      <td>0</td>\n",
       "      <td>0</td>\n",
       "      <td>0</td>\n",
       "      <td>0</td>\n",
       "      <td>0</td>\n",
       "      <td>0</td>\n",
       "      <td>0</td>\n",
       "      <td>0</td>\n",
       "      <td>...</td>\n",
       "      <td>0</td>\n",
       "      <td>0</td>\n",
       "      <td>0</td>\n",
       "      <td>0</td>\n",
       "      <td>0</td>\n",
       "      <td>0</td>\n",
       "      <td>0</td>\n",
       "      <td>0</td>\n",
       "      <td>0</td>\n",
       "      <td>0</td>\n",
       "    </tr>\n",
       "    <tr>\n",
       "      <th>3</th>\n",
       "      <td>0</td>\n",
       "      <td>0</td>\n",
       "      <td>0</td>\n",
       "      <td>0</td>\n",
       "      <td>0</td>\n",
       "      <td>0</td>\n",
       "      <td>0</td>\n",
       "      <td>0</td>\n",
       "      <td>0</td>\n",
       "      <td>0</td>\n",
       "      <td>...</td>\n",
       "      <td>0</td>\n",
       "      <td>0</td>\n",
       "      <td>0</td>\n",
       "      <td>0</td>\n",
       "      <td>0</td>\n",
       "      <td>0</td>\n",
       "      <td>0</td>\n",
       "      <td>0</td>\n",
       "      <td>0</td>\n",
       "      <td>0</td>\n",
       "    </tr>\n",
       "    <tr>\n",
       "      <th>4</th>\n",
       "      <td>0</td>\n",
       "      <td>0</td>\n",
       "      <td>0</td>\n",
       "      <td>0</td>\n",
       "      <td>0</td>\n",
       "      <td>0</td>\n",
       "      <td>0</td>\n",
       "      <td>0</td>\n",
       "      <td>0</td>\n",
       "      <td>0</td>\n",
       "      <td>...</td>\n",
       "      <td>0</td>\n",
       "      <td>0</td>\n",
       "      <td>0</td>\n",
       "      <td>0</td>\n",
       "      <td>0</td>\n",
       "      <td>0</td>\n",
       "      <td>0</td>\n",
       "      <td>0</td>\n",
       "      <td>0</td>\n",
       "      <td>0</td>\n",
       "    </tr>\n",
       "  </tbody>\n",
       "</table>\n",
       "<p>5 rows × 3035 columns</p>\n",
       "</div>"
      ],
      "text/plain": [
       "   0     1     2     3     4     5     6     7     8     9     ...  3025  \\\n",
       "0     0     0     0     0     0     0     0     0     0     0  ...     0   \n",
       "1     0     0     0     0     0     0     0     0     0     0  ...     0   \n",
       "2     0     0     0     0     0     0     0     0     0     0  ...     0   \n",
       "3     0     0     0     0     0     0     0     0     0     0  ...     0   \n",
       "4     0     0     0     0     0     0     0     0     0     0  ...     0   \n",
       "\n",
       "   3026  3027  3028  3029  3030  3031  3032  3033  3034  \n",
       "0     0     0     0     0     0     0     0     0     0  \n",
       "1     0     0     0     0     0     0     0     0     0  \n",
       "2     0     0     0     0     0     0     0     0     0  \n",
       "3     0     0     0     0     0     0     0     0     0  \n",
       "4     0     0     0     0     0     0     0     0     0  \n",
       "\n",
       "[5 rows x 3035 columns]"
      ]
     },
     "execution_count": 136,
     "metadata": {},
     "output_type": "execute_result"
    }
   ],
   "source": [
    "X.head()"
   ]
  },
  {
   "cell_type": "code",
   "execution_count": 137,
   "metadata": {},
   "outputs": [],
   "source": [
    "\n",
    "y=lyrics_df['clase']\n"
   ]
  },
  {
   "cell_type": "code",
   "execution_count": 138,
   "metadata": {},
   "outputs": [
    {
     "data": {
      "text/plain": [
       "(412,)"
      ]
     },
     "execution_count": 138,
     "metadata": {},
     "output_type": "execute_result"
    }
   ],
   "source": [
    "y.shape"
   ]
  },
  {
   "cell_type": "code",
   "execution_count": 139,
   "metadata": {},
   "outputs": [],
   "source": [
    "#Dividir el dataset en Entrenamiento y Test\n",
    "X_train, X_test, y_train, y_test = train_test_split(X, y, test_size=0.15)"
   ]
  },
  {
   "cell_type": "markdown",
   "metadata": {},
   "source": [
    "# Funcion mostrar resultados"
   ]
  },
  {
   "cell_type": "code",
   "execution_count": 150,
   "metadata": {},
   "outputs": [],
   "source": [
    "#definimos funciona para mostrar los resultados\n",
    "def mostrar_resultados(y_test, pred_y):\n",
    "    conf_matrix = confusion_matrix(y_test, pred_y)\n",
    "    plt.figure(figsize=(10, 10))\n",
    "    sns.heatmap(conf_matrix, annot=True, fmt=\"d\", cmap=\"YlGnBu\");\n",
    "    plt.title(\"Matriz de Confusión\")\n",
    "    plt.ylabel('Clase Verdadera')\n",
    "    plt.xlabel('Clase Predicha')\n",
    "    plt.show()\n",
    "    print (classification_report(y_test, pred_y))"
   ]
  },
  {
   "cell_type": "markdown",
   "metadata": {},
   "source": [
    "# Probar distintos Algoritmos"
   ]
  },
  {
   "cell_type": "markdown",
   "metadata": {},
   "source": [
    "# Naive Bayes"
   ]
  },
  {
   "cell_type": "code",
   "execution_count": 191,
   "metadata": {},
   "outputs": [
    {
     "name": "stdout",
     "output_type": "stream",
     "text": [
      "Metrica del modelo 0.9514285714285714\n",
      "Metricas cross_validation [0.5042735  0.48717949 0.51724138]\n",
      "Media de cross_validation 0.5028981235877787\n"
     ]
    }
   ],
   "source": [
    "from sklearn import datasets, metrics\n",
    "from sklearn.model_selection import cross_val_score\n",
    "from sklearn.model_selection import KFold, StratifiedKFold\n",
    "\n",
    "from sklearn.naive_bayes import MultinomialNB\n",
    "\n",
    "NB_classifier = MultinomialNB(alpha=3.0, class_prior=None, fit_prior=False)\n",
    "NB_classifier.fit(X_train, y_train)\n",
    "score = NB_classifier.score(X_train, y_train)\n",
    "print(\"Metrica del modelo\", score)\n",
    "skf = StratifiedKFold(n_splits=3)\n",
    "scores = cross_val_score(NB_classifier, X_train, y_train, cv=skf, scoring=\"accuracy\")\n",
    "print(\"Metricas cross_validation\", scores)\n",
    "print(\"Media de cross_validation\", scores.mean())"
   ]
  },
  {
   "cell_type": "code",
   "execution_count": 192,
   "metadata": {},
   "outputs": [
    {
     "data": {
      "image/png": "[encoded data removed]",
      "text/plain": [
       "<Figure size 720x720 with 2 Axes>"
      ]
     },
     "metadata": {
      "needs_background": "light"
     },
     "output_type": "display_data"
    },
    {
     "name": "stdout",
     "output_type": "stream",
     "text": [
      "              precision    recall  f1-score   support\n",
      "\n",
      "           0       0.51      0.69      0.59        32\n",
      "           1       0.47      0.30      0.37        30\n",
      "\n",
      "    accuracy                           0.50        62\n",
      "   macro avg       0.49      0.49      0.48        62\n",
      "weighted avg       0.49      0.50      0.48        62\n",
      "\n"
     ]
    }
   ],
   "source": [
    "# Cambiar nombre del clasificador\n",
    "y_predict_test = NB_classifier.predict(X_test)\n",
    "mostrar_resultados(y_test, y_predict_test)\n"
   ]
  },
  {
   "cell_type": "markdown",
   "metadata": {},
   "source": [
    "# Random Forest"
   ]
  },
  {
   "cell_type": "code",
   "execution_count": 193,
   "metadata": {},
   "outputs": [
    {
     "data": {
      "image/png": "[encoded data removed]",
      "text/plain": [
       "<Figure size 432x288 with 1 Axes>"
      ]
     },
     "metadata": {
      "needs_background": "light"
     },
     "output_type": "display_data"
    },
    {
     "name": "stdout",
     "output_type": "stream",
     "text": [
      "Metrica del modelo 0.94\n",
      "Metricas cross_validation [0.56410256 0.54700855 0.49137931]\n",
      "Media de cross_validation 0.5341634738186463\n"
     ]
    }
   ],
   "source": [
    "from sklearn import tree\n",
    "from sklearn.ensemble import RandomForestClassifier\n",
    "\n",
    "rndmf = RandomForestClassifier(max_depth= 20, random_state= 0)\n",
    "rndmf= rndmf.fit(X_train, y_train)\n",
    "tree.plot_tree(rndmf.estimators_[9], filled = True)\n",
    "plt.show()\n",
    "\n",
    "score = rndmf.score(X_train, y_train)\n",
    "print(\"Metrica del modelo\", score)\n",
    "skf = StratifiedKFold(n_splits=3)\n",
    "scores = cross_val_score(rndmf, X_train, y_train, cv=skf, scoring=\"accuracy\")\n",
    "print(\"Metricas cross_validation\", scores)\n",
    "print(\"Media de cross_validation\", scores.mean())"
   ]
  },
  {
   "cell_type": "code",
   "execution_count": 194,
   "metadata": {},
   "outputs": [
    {
     "data": {
      "image/png": "[encoded data removed]",
      "text/plain": [
       "<Figure size 720x720 with 2 Axes>"
      ]
     },
     "metadata": {
      "needs_background": "light"
     },
     "output_type": "display_data"
    },
    {
     "name": "stdout",
     "output_type": "stream",
     "text": [
      "              precision    recall  f1-score   support\n",
      "\n",
      "           0       0.51      0.91      0.65        32\n",
      "           1       0.40      0.07      0.11        30\n",
      "\n",
      "    accuracy                           0.50        62\n",
      "   macro avg       0.45      0.49      0.38        62\n",
      "weighted avg       0.46      0.50      0.39        62\n",
      "\n"
     ]
    }
   ],
   "source": [
    "y_predict_test = rndmf.predict(X_test)\n",
    "mostrar_resultados(y_test, y_predict_test)\n"
   ]
  },
  {
   "cell_type": "markdown",
   "metadata": {},
   "source": [
    "# Decision Tree "
   ]
  },
  {
   "cell_type": "code",
   "execution_count": 195,
   "metadata": {},
   "outputs": [
    {
     "name": "stdout",
     "output_type": "stream",
     "text": [
      "Metrica del modelo 0.6971428571428572\n",
      "Metricas cross_validation [0.5042735  0.42735043 0.46551724]\n",
      "Media de cross_validation 0.465713724334414\n"
     ]
    }
   ],
   "source": [
    "# Poner algoritmo aqui\n",
    "from sklearn import tree\n",
    "from sklearn.tree import DecisionTreeClassifier, plot_tree\n",
    "\n",
    "tree = tree.DecisionTreeClassifier(criterion='gini',\n",
    "                                   #min_samples_split=20,\n",
    "                                   min_samples_leaf=5,\n",
    "                                   max_depth = 30,\n",
    "                                   class_weight={1:4})\n",
    "tree = tree.fit(X_train, y_train)\n",
    "\n",
    "#tree.plot_tree(arbol, filled= True)\n",
    "#plt.show()\n",
    "score = tree.score(X_train, y_train)\n",
    "print(\"Metrica del modelo\", score)\n",
    "skf = StratifiedKFold(n_splits=3)\n",
    "scores = cross_val_score(tree, X_train, y_train, cv=skf, scoring=\"accuracy\")\n",
    "print(\"Metricas cross_validation\", scores)\n",
    "print(\"Media de cross_validation\", scores.mean())"
   ]
  },
  {
   "cell_type": "code",
   "execution_count": 196,
   "metadata": {},
   "outputs": [
    {
     "data": {
      "image/png": "[encoded data removed]",
      "text/plain": [
       "<Figure size 720x720 with 2 Axes>"
      ]
     },
     "metadata": {
      "needs_background": "light"
     },
     "output_type": "display_data"
    },
    {
     "name": "stdout",
     "output_type": "stream",
     "text": [
      "              precision    recall  f1-score   support\n",
      "\n",
      "           0       0.59      0.41      0.48        32\n",
      "           1       0.53      0.70      0.60        30\n",
      "\n",
      "    accuracy                           0.55        62\n",
      "   macro avg       0.56      0.55      0.54        62\n",
      "weighted avg       0.56      0.55      0.54        62\n",
      "\n"
     ]
    }
   ],
   "source": [
    "y_predict_test = tree.predict(X_test)\n",
    "mostrar_resultados(y_test, y_predict_test)"
   ]
  },
  {
   "cell_type": "code",
   "execution_count": 185,
   "metadata": {},
   "outputs": [
    {
     "name": "stdout",
     "output_type": "stream",
     "text": [
      "Metrica del modelo 0.9914285714285714\n",
      "Metricas cross_validation [0.55555556 0.57264957 0.52586207]\n",
      "Media de cross_validation 0.5513557323902152\n"
     ]
    }
   ],
   "source": [
    "from sklearn.ensemble import RandomForestClassifier\n",
    "from sklearn.datasets import make_classification\n",
    "\n",
    "clf = RandomForestClassifier(max_depth=200, random_state=0, n_estimators=200)\n",
    "clf.fit(X_train, y_train)\n",
    "\n",
    "score = clf.score(X_train, y_train)\n",
    "print(\"Metrica del modelo\", score)\n",
    "#kf = KFold(n_splits=5)\n",
    "skf = StratifiedKFold(n_splits=3)\n",
    "scores = cross_val_score(clf, X_train, y_train, cv=skf, scoring=\"accuracy\")\n",
    "print(\"Metricas cross_validation\", scores)\n",
    "print(\"Media de cross_validation\", scores.mean())\n"
   ]
  },
  {
   "cell_type": "code",
   "execution_count": 186,
   "metadata": {},
   "outputs": [
    {
     "data": {
      "image/png": "[encoded data removed]",
      "text/plain": [
       "<Figure size 720x720 with 2 Axes>"
      ]
     },
     "metadata": {
      "needs_background": "light"
     },
     "output_type": "display_data"
    },
    {
     "name": "stdout",
     "output_type": "stream",
     "text": [
      "              precision    recall  f1-score   support\n",
      "\n",
      "           0       0.52      0.88      0.65        32\n",
      "           1       0.50      0.13      0.21        30\n",
      "\n",
      "    accuracy                           0.52        62\n",
      "   macro avg       0.51      0.50      0.43        62\n",
      "weighted avg       0.51      0.52      0.44        62\n",
      "\n"
     ]
    }
   ],
   "source": [
    "y_predict_test = clf.predict(X_test)\n",
    "mostrar_resultados(y_test, y_predict_test)"
   ]
  },
  {
   "cell_type": "code",
   "execution_count": 197,
   "metadata": {},
   "outputs": [
    {
     "name": "stdout",
     "output_type": "stream",
     "text": [
      "Metrica del modelo 0.9171428571428571\n",
      "Metricas cross_validation [0.61538462 0.52991453 0.5       ]\n",
      "Media de cross_validation 0.5484330484330484\n"
     ]
    }
   ],
   "source": [
    "from sklearn import svm\n",
    "clf_svm = svm.SVC()\n",
    "clf_svm.fit(X_train, y_train)\n",
    "\n",
    "score = clf_svm.score(X_train, y_train)\n",
    "print(\"Metrica del modelo\", score)\n",
    "skf = StratifiedKFold(n_splits=3)\n",
    "scores = cross_val_score(clf_svm, X_train, y_train, cv=skf, scoring=\"accuracy\")\n",
    "print(\"Metricas cross_validation\", scores)\n",
    "print(\"Media de cross_validation\", scores.mean())"
   ]
  },
  {
   "cell_type": "code",
   "execution_count": 188,
   "metadata": {},
   "outputs": [
    {
     "data": {
      "image/png": "[encoded data removed]",
      "text/plain": [
       "<Figure size 720x720 with 2 Axes>"
      ]
     },
     "metadata": {
      "needs_background": "light"
     },
     "output_type": "display_data"
    },
    {
     "name": "stdout",
     "output_type": "stream",
     "text": [
      "              precision    recall  f1-score   support\n",
      "\n",
      "           0       0.52      0.88      0.65        32\n",
      "           1       0.50      0.13      0.21        30\n",
      "\n",
      "    accuracy                           0.52        62\n",
      "   macro avg       0.51      0.50      0.43        62\n",
      "weighted avg       0.51      0.52      0.44        62\n",
      "\n"
     ]
    }
   ],
   "source": [
    "y_predict_test = clf.predict(X_test)\n",
    "mostrar_resultados(y_test, y_predict_test)"
   ]
  },
  {
   "cell_type": "code",
   "execution_count": 198,
   "metadata": {},
   "outputs": [
    {
     "name": "stdout",
     "output_type": "stream",
     "text": [
      "Metrica del modelo 0.9285714285714286\n",
      "Metricas cross_validation [0.52136752 0.52991453 0.50862069]\n",
      "Media de cross_validation 0.5199675803124079\n"
     ]
    },
    {
     "name": "stderr",
     "output_type": "stream",
     "text": [
      "/Users/leobardomorales/miniconda3/envs/actumlogos-cpu/lib/python3.7/site-packages/sklearn/linear_model/_stochastic_gradient.py:557: ConvergenceWarning: Maximum number of iteration reached before convergence. Consider increasing max_iter to improve the fit.\n",
      "  ConvergenceWarning)\n",
      "/Users/leobardomorales/miniconda3/envs/actumlogos-cpu/lib/python3.7/site-packages/sklearn/linear_model/_stochastic_gradient.py:557: ConvergenceWarning: Maximum number of iteration reached before convergence. Consider increasing max_iter to improve the fit.\n",
      "  ConvergenceWarning)\n",
      "/Users/leobardomorales/miniconda3/envs/actumlogos-cpu/lib/python3.7/site-packages/sklearn/linear_model/_stochastic_gradient.py:557: ConvergenceWarning: Maximum number of iteration reached before convergence. Consider increasing max_iter to improve the fit.\n",
      "  ConvergenceWarning)\n",
      "/Users/leobardomorales/miniconda3/envs/actumlogos-cpu/lib/python3.7/site-packages/sklearn/linear_model/_stochastic_gradient.py:557: ConvergenceWarning: Maximum number of iteration reached before convergence. Consider increasing max_iter to improve the fit.\n",
      "  ConvergenceWarning)\n"
     ]
    }
   ],
   "source": [
    "from sklearn.linear_model import SGDClassifier\n",
    "clf_sgd = SGDClassifier(loss=\"hinge\", penalty=\"l2\", max_iter=5)\n",
    "clf_sgd.fit(X_train, y_train)\n",
    "\n",
    "score = clf_sgd.score(X_train, y_train)\n",
    "print(\"Metrica del modelo\", score)\n",
    "skf = StratifiedKFold(n_splits=3)\n",
    "scores = cross_val_score(clf_sgd, X_train, y_train, cv=skf, scoring=\"accuracy\")\n",
    "print(\"Metricas cross_validation\", scores)\n",
    "print(\"Media de cross_validation\", scores.mean())"
   ]
  },
  {
   "cell_type": "code",
   "execution_count": 199,
   "metadata": {},
   "outputs": [
    {
     "data": {
      "image/png": "[encoded data removed]",
      "text/plain": [
       "<Figure size 720x720 with 2 Axes>"
      ]
     },
     "metadata": {
      "needs_background": "light"
     },
     "output_type": "display_data"
    },
    {
     "name": "stdout",
     "output_type": "stream",
     "text": [
      "              precision    recall  f1-score   support\n",
      "\n",
      "           0       0.52      0.88      0.65        32\n",
      "           1       0.50      0.13      0.21        30\n",
      "\n",
      "    accuracy                           0.52        62\n",
      "   macro avg       0.51      0.50      0.43        62\n",
      "weighted avg       0.51      0.52      0.44        62\n",
      "\n"
     ]
    }
   ],
   "source": [
    "y_predict_test = clf.predict(X_test)\n",
    "mostrar_resultados(y_test, y_predict_test)"
   ]
  },
  {
   "cell_type": "code",
   "execution_count": null,
   "metadata": {},
   "outputs": [],
   "source": []
  },
  {
   "cell_type": "code",
   "execution_count": null,
   "metadata": {},
   "outputs": [],
   "source": []
  }
 ],
 "metadata": {
  "kernelspec": {
   "display_name": "Python 3",
   "language": "python",
   "name": "python3"
  },
  "language_info": {
   "codemirror_mode": {
    "name": "ipython",
    "version": 3
   },
   "file_extension": ".py",
   "mimetype": "text/x-python",
   "name": "python",
   "nbconvert_exporter": "python",
   "pygments_lexer": "ipython3",
   "version": "3.7.7"
  }
 },
 "nbformat": 4,
 "nbformat_minor": 4
}
