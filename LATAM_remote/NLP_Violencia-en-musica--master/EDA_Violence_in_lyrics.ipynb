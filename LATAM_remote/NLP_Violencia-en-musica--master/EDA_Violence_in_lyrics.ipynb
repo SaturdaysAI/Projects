{
  "nbformat": 4,
  "nbformat_minor": 0,
  "metadata": {
    "colab": {
      "name": "EDA_Violence in lyrics.ipynb",
      "provenance": [],
      "authorship_tag": "ABX9TyPKipiTYt7TogiOTtPD9vf5",
      "include_colab_link": true
    },
    "kernelspec": {
      "name": "python3",
      "display_name": "Python 3"
    }
  },
  "cells": [
    {
      "cell_type": "markdown",
      "metadata": {
        "id": "view-in-github",
        "colab_type": "text"
      },
      "source": [
        "<a href=\"https://colab.research.google.com/github/Hecramco/NLP_Violencia-en-musica-/blob/master/EDA_Violence_in_lyrics.ipynb\" target=\"_parent\"><img src=\"https://colab.research.google.com/assets/colab-badge.svg\" alt=\"Open In Colab\"/></a>"
      ]
    },
    {
      "cell_type": "markdown",
      "metadata": {
        "id": "8DKbq2bisFhn"
      },
      "source": [
        "# Tipos de violencia "
      ]
    },
    {
      "cell_type": "code",
      "metadata": {
        "id": "Z4wl-eeokkD9"
      },
      "source": [
        "import pandas as pd \n",
        "import seaborn as sns \n",
        "import plotly as ptly \n"
      ],
      "execution_count": null,
      "outputs": []
    },
    {
      "cell_type": "code",
      "metadata": {
        "id": "sIpOJM2elPl0",
        "outputId": "87496c2d-caa2-4f33-ca7f-adcffe6a39ce",
        "colab": {
          "base_uri": "https://localhost:8080/",
          "height": 534
        }
      },
      "source": [
        "hls_df = pd.read_csv(\"/Hot_Latinsongs_lables.csv\")\n",
        "hls_df.head()"
      ],
      "execution_count": null,
      "outputs": [
        {
          "output_type": "execute_result",
          "data": {
            "text/html": [
              "<div>\n",
              "<style scoped>\n",
              "    .dataframe tbody tr th:only-of-type {\n",
              "        vertical-align: middle;\n",
              "    }\n",
              "\n",
              "    .dataframe tbody tr th {\n",
              "        vertical-align: top;\n",
              "    }\n",
              "\n",
              "    .dataframe thead th {\n",
              "        text-align: right;\n",
              "    }\n",
              "</style>\n",
              "<table border=\"1\" class=\"dataframe\">\n",
              "  <thead>\n",
              "    <tr style=\"text-align: right;\">\n",
              "      <th></th>\n",
              "      <th>rank</th>\n",
              "      <th>artists</th>\n",
              "      <th>title</th>\n",
              "      <th>subgénero</th>\n",
              "      <th>genre</th>\n",
              "      <th>lyric</th>\n",
              "      <th>Violencia verbal</th>\n",
              "      <th>Violencia Física</th>\n",
              "      <th>Violencia Psicológica</th>\n",
              "      <th>Violencia Sexual</th>\n",
              "      <th>VIolencia Económica</th>\n",
              "      <th>Violencia Simbólica</th>\n",
              "      <th>Apto para niñxs</th>\n",
              "      <th>CONTENIDO PARA GENTE ADULTA</th>\n",
              "      <th>OBSERVACION</th>\n",
              "      <th>Fuente</th>\n",
              "    </tr>\n",
              "  </thead>\n",
              "  <tbody>\n",
              "    <tr>\n",
              "      <th>0</th>\n",
              "      <td>1</td>\n",
              "      <td>Maluma</td>\n",
              "      <td>Hawai</td>\n",
              "      <td>Reggeaton</td>\n",
              "      <td>HOT LATIN SONGS</td>\n",
              "      <td>https://www.musixmatch.com/es/letras/Maluma/Ha...</td>\n",
              "      <td>0.0</td>\n",
              "      <td>0.0</td>\n",
              "      <td>1.0</td>\n",
              "      <td>0.0</td>\n",
              "      <td>0.0</td>\n",
              "      <td>0.0</td>\n",
              "      <td>0.0</td>\n",
              "      <td>NaN</td>\n",
              "      <td>NaN</td>\n",
              "      <td>Billboard</td>\n",
              "    </tr>\n",
              "    <tr>\n",
              "      <th>1</th>\n",
              "      <td>2</td>\n",
              "      <td>Sech, Daddy Yankee, J Balvin Featuring ROSALIA...</td>\n",
              "      <td>Relacion</td>\n",
              "      <td>Reggeaton</td>\n",
              "      <td>HOT LATIN SONGS</td>\n",
              "      <td>https://www.musixmatch.com/es/letras/Sech/Rela...</td>\n",
              "      <td>0.0</td>\n",
              "      <td>0.0</td>\n",
              "      <td>1.0</td>\n",
              "      <td>0.0</td>\n",
              "      <td>0.0</td>\n",
              "      <td>0.0</td>\n",
              "      <td>0.0</td>\n",
              "      <td>NaN</td>\n",
              "      <td>NaN</td>\n",
              "      <td>Billboard</td>\n",
              "    </tr>\n",
              "    <tr>\n",
              "      <th>2</th>\n",
              "      <td>3</td>\n",
              "      <td>J Balvin, Dua Lipa, Bad Bunny &amp; Tainy</td>\n",
              "      <td>Un Dia (One Day)</td>\n",
              "      <td>Reggeaton</td>\n",
              "      <td>HOT LATIN SONGS</td>\n",
              "      <td>https://www.musixmatch.com/es/letras/J-Balvin-...</td>\n",
              "      <td>0.0</td>\n",
              "      <td>0.0</td>\n",
              "      <td>1.0</td>\n",
              "      <td>0.0</td>\n",
              "      <td>0.0</td>\n",
              "      <td>0.0</td>\n",
              "      <td>0.0</td>\n",
              "      <td>NaN</td>\n",
              "      <td>NaN</td>\n",
              "      <td>Billboard</td>\n",
              "    </tr>\n",
              "    <tr>\n",
              "      <th>3</th>\n",
              "      <td>4</td>\n",
              "      <td>Ozuna</td>\n",
              "      <td>Caramelo</td>\n",
              "      <td>Reggeaton</td>\n",
              "      <td>HOT LATIN SONGS</td>\n",
              "      <td>https://www.musixmatch.com/es/letras/Ozuna/Car...</td>\n",
              "      <td>0.0</td>\n",
              "      <td>0.0</td>\n",
              "      <td>1.0</td>\n",
              "      <td>0.0</td>\n",
              "      <td>0.0</td>\n",
              "      <td>0.0</td>\n",
              "      <td>0.0</td>\n",
              "      <td>NaN</td>\n",
              "      <td>NaN</td>\n",
              "      <td>Billboard</td>\n",
              "    </tr>\n",
              "    <tr>\n",
              "      <th>4</th>\n",
              "      <td>5</td>\n",
              "      <td>Nio Garcia x Anuel AA x Myke Towers x Brray x ...</td>\n",
              "      <td>La Jeepeta</td>\n",
              "      <td>Reggeaton</td>\n",
              "      <td>HOT LATIN SONGS</td>\n",
              "      <td>https://www.musixmatch.com/es/letras/Nio-Garci...</td>\n",
              "      <td>0.0</td>\n",
              "      <td>0.0</td>\n",
              "      <td>0.0</td>\n",
              "      <td>1.0</td>\n",
              "      <td>0.0</td>\n",
              "      <td>0.0</td>\n",
              "      <td>0.0</td>\n",
              "      <td>NaN</td>\n",
              "      <td>NaN</td>\n",
              "      <td>Billboard</td>\n",
              "    </tr>\n",
              "  </tbody>\n",
              "</table>\n",
              "</div>"
            ],
            "text/plain": [
              "   rank  ...     Fuente \n",
              "0     1  ...  Billboard \n",
              "1     2  ...  Billboard \n",
              "2     3  ...  Billboard \n",
              "3     4  ...  Billboard \n",
              "4     5  ...  Billboard \n",
              "\n",
              "[5 rows x 16 columns]"
            ]
          },
          "metadata": {
            "tags": []
          },
          "execution_count": 8
        }
      ]
    },
    {
      "cell_type": "code",
      "metadata": {
        "id": "efT9i2hrnL4t",
        "outputId": "8e6d21e7-f703-445b-9d45-e8cbb47b8f1f",
        "colab": {
          "base_uri": "https://localhost:8080/",
          "height": 195
        }
      },
      "source": [
        "violence_label = hls_df[['subgénero','Violencia verbal'\t,'Violencia Física'\t,'Violencia Psicológica'\t,'Violencia Sexual'\t,'VIolencia Económica'\t,'Violencia Simbólica']]\n",
        "violence_label.head()"
      ],
      "execution_count": null,
      "outputs": [
        {
          "output_type": "execute_result",
          "data": {
            "text/html": [
              "<div>\n",
              "<style scoped>\n",
              "    .dataframe tbody tr th:only-of-type {\n",
              "        vertical-align: middle;\n",
              "    }\n",
              "\n",
              "    .dataframe tbody tr th {\n",
              "        vertical-align: top;\n",
              "    }\n",
              "\n",
              "    .dataframe thead th {\n",
              "        text-align: right;\n",
              "    }\n",
              "</style>\n",
              "<table border=\"1\" class=\"dataframe\">\n",
              "  <thead>\n",
              "    <tr style=\"text-align: right;\">\n",
              "      <th></th>\n",
              "      <th>subgénero</th>\n",
              "      <th>Violencia verbal</th>\n",
              "      <th>Violencia Física</th>\n",
              "      <th>Violencia Psicológica</th>\n",
              "      <th>Violencia Sexual</th>\n",
              "      <th>VIolencia Económica</th>\n",
              "      <th>Violencia Simbólica</th>\n",
              "    </tr>\n",
              "  </thead>\n",
              "  <tbody>\n",
              "    <tr>\n",
              "      <th>0</th>\n",
              "      <td>Reggeaton</td>\n",
              "      <td>0.0</td>\n",
              "      <td>0.0</td>\n",
              "      <td>1.0</td>\n",
              "      <td>0.0</td>\n",
              "      <td>0.0</td>\n",
              "      <td>0.0</td>\n",
              "    </tr>\n",
              "    <tr>\n",
              "      <th>1</th>\n",
              "      <td>Reggeaton</td>\n",
              "      <td>0.0</td>\n",
              "      <td>0.0</td>\n",
              "      <td>1.0</td>\n",
              "      <td>0.0</td>\n",
              "      <td>0.0</td>\n",
              "      <td>0.0</td>\n",
              "    </tr>\n",
              "    <tr>\n",
              "      <th>2</th>\n",
              "      <td>Reggeaton</td>\n",
              "      <td>0.0</td>\n",
              "      <td>0.0</td>\n",
              "      <td>1.0</td>\n",
              "      <td>0.0</td>\n",
              "      <td>0.0</td>\n",
              "      <td>0.0</td>\n",
              "    </tr>\n",
              "    <tr>\n",
              "      <th>3</th>\n",
              "      <td>Reggeaton</td>\n",
              "      <td>0.0</td>\n",
              "      <td>0.0</td>\n",
              "      <td>1.0</td>\n",
              "      <td>0.0</td>\n",
              "      <td>0.0</td>\n",
              "      <td>0.0</td>\n",
              "    </tr>\n",
              "    <tr>\n",
              "      <th>4</th>\n",
              "      <td>Reggeaton</td>\n",
              "      <td>0.0</td>\n",
              "      <td>0.0</td>\n",
              "      <td>0.0</td>\n",
              "      <td>1.0</td>\n",
              "      <td>0.0</td>\n",
              "      <td>0.0</td>\n",
              "    </tr>\n",
              "  </tbody>\n",
              "</table>\n",
              "</div>"
            ],
            "text/plain": [
              "    subgénero  Violencia verbal  ...  VIolencia Económica  Violencia Simbólica\n",
              "0  Reggeaton                0.0  ...                  0.0                  0.0\n",
              "1  Reggeaton                0.0  ...                  0.0                  0.0\n",
              "2  Reggeaton                0.0  ...                  0.0                  0.0\n",
              "3  Reggeaton                0.0  ...                  0.0                  0.0\n",
              "4  Reggeaton                0.0  ...                  0.0                  0.0\n",
              "\n",
              "[5 rows x 7 columns]"
            ]
          },
          "metadata": {
            "tags": []
          },
          "execution_count": 41
        }
      ]
    },
    {
      "cell_type": "code",
      "metadata": {
        "id": "SeDtqNo2oKTk",
        "outputId": "3a35551a-4104-4531-e6b2-a41d709012cc",
        "colab": {
          "base_uri": "https://localhost:8080/",
          "height": 513
        }
      },
      "source": [
        "Violence_type=violence_label.sum().sort_values()\n",
        "print(Violence_type)\n",
        "Violence_type.plot.bar()"
      ],
      "execution_count": null,
      "outputs": [
        {
          "output_type": "stream",
          "text": [
            "Violencia Física          1.0\n",
            "VIolencia Económica       1.0\n",
            "Violencia Psicológica     5.0\n",
            "Violencia verbal          7.0\n",
            "Violencia Sexual          7.0\n",
            "Violencia Simbólica      17.0\n",
            "dtype: float64\n"
          ],
          "name": "stdout"
        },
        {
          "output_type": "execute_result",
          "data": {
            "text/plain": [
              "<matplotlib.axes._subplots.AxesSubplot at 0x7fcec46ec940>"
            ]
          },
          "metadata": {
            "tags": []
          },
          "execution_count": 42
        },
        {
          "output_type": "display_data",
          "data": {
            "image/png": "[encoded data removed]",
            "text/plain": [
              "<Figure size 432x288 with 1 Axes>"
            ]
          },
          "metadata": {
            "tags": []
          }
        }
      ]
    },
    {
      "cell_type": "code",
      "metadata": {
        "id": "4M-5w-UEqzS4",
        "outputId": "45794bf5-813a-4f0b-c44d-f97935e1cbe8",
        "colab": {
          "base_uri": "https://localhost:8080/",
          "height": 401
        }
      },
      "source": [
        "violence_label.groupby(by='subgénero').sum().plot.bar()"
      ],
      "execution_count": null,
      "outputs": [
        {
          "output_type": "execute_result",
          "data": {
            "text/plain": [
              "<matplotlib.axes._subplots.AxesSubplot at 0x7fcec418e828>"
            ]
          },
          "metadata": {
            "tags": []
          },
          "execution_count": 60
        },
        {
          "output_type": "display_data",
          "data": {
            "image/png": "[encoded data removed]",
            "text/plain": [
              "<Figure size 432x288 with 1 Axes>"
            ]
          },
          "metadata": {
            "tags": []
          }
        }
      ]
    },
    {
      "cell_type": "code",
      "metadata": {
        "id": "6ZHTD4Cmv8tS"
      },
      "source": [
        ""
      ],
      "execution_count": null,
      "outputs": []
    },
    {
      "cell_type": "markdown",
      "metadata": {
        "id": "5Y4JMqPwzjAN"
      },
      "source": [
        "# Palabras Recurrentes "
      ]
    },
    {
      "cell_type": "code",
      "metadata": {
        "id": "8-vgB7xUzmZR"
      },
      "source": [
        ""
      ],
      "execution_count": null,
      "outputs": []
    }
  ]
}