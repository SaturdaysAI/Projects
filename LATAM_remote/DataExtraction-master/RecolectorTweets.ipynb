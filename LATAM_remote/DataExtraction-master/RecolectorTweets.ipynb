{
  "nbformat": 4,
  "nbformat_minor": 0,
  "metadata": {
    "kernelspec": {
      "display_name": "Python 3",
      "language": "python",
      "name": "python3"
    },
    "language_info": {
      "codemirror_mode": {
        "name": "ipython",
        "version": 3
      },
      "file_extension": ".py",
      "mimetype": "text/x-python",
      "name": "python",
      "nbconvert_exporter": "python",
      "pygments_lexer": "ipython3",
      "version": "3.6.8"
    },
    "colab": {
      "name": "Copia de covid-19-tweets.ipynb",
      "provenance": [],
      "toc_visible": true,
      "include_colab_link": true
    }
  },
  "cells": [
    {
      "cell_type": "markdown",
      "metadata": {
        "id": "view-in-github",
        "colab_type": "text"
      },
      "source": [
        "<a href=\"https://colab.research.google.com/github/SaturdaysAI-LATAM/Extraccion/blob/master/RecolectorTweets.ipynb\" target=\"_parent\"><img src=\"https://colab.research.google.com/assets/colab-badge.svg\" alt=\"Open In Colab\"/></a>"
      ]
    },
    {
      "cell_type": "markdown",
      "metadata": {
        "id": "F59hWj0XVLxd"
      },
      "source": [
        "# Recolector de tweets\n",
        "\n",
        "Este notebook sirve para recolectar tweets utilizando el API de Twitter.\n",
        "\n",
        "El propósito es para recolectar datos para el proyecto de Saturdays AI edición LATAM (Equipo Verde).\n"
      ]
    },
    {
      "cell_type": "markdown",
      "metadata": {
        "id": "eHvD4Mif1wHP"
      },
      "source": [
        "## Importar librerias\n",
        "\n",
        "Primero importamos las librerías que vamos a necesitar.\n",
        "\n",
        "- Tweepy: Wrapper para interactuar con la API de Twitter.\n",
        "- Pandas: Para crear DataFrames de los datos.\n",
        "- Tqdm: Es una animación de barra cargando para ver progreso de un loop.\n"
      ]
    },
    {
      "cell_type": "code",
      "metadata": {
        "id": "hLQC5G1C1wHQ",
        "outputId": "4c8c36ae-afce-4e2b-9735-83d0ec7ccd8a",
        "colab": {
          "base_uri": "https://localhost:8080/",
          "height": 187
        }
      },
      "source": [
        "!pip install tweepy"
      ],
      "execution_count": null,
      "outputs": [
        {
          "output_type": "stream",
          "text": [
            "Requirement already satisfied: tweepy in /usr/local/lib/python3.6/dist-packages (3.6.0)\n",
            "Requirement already satisfied: requests>=2.11.1 in /usr/local/lib/python3.6/dist-packages (from tweepy) (2.23.0)\n",
            "Requirement already satisfied: PySocks>=1.5.7 in /usr/local/lib/python3.6/dist-packages (from tweepy) (1.7.1)\n",
            "Requirement already satisfied: requests-oauthlib>=0.7.0 in /usr/local/lib/python3.6/dist-packages (from tweepy) (1.3.0)\n",
            "Requirement already satisfied: six>=1.10.0 in /usr/local/lib/python3.6/dist-packages (from tweepy) (1.15.0)\n",
            "Requirement already satisfied: chardet<4,>=3.0.2 in /usr/local/lib/python3.6/dist-packages (from requests>=2.11.1->tweepy) (3.0.4)\n",
            "Requirement already satisfied: idna<3,>=2.5 in /usr/local/lib/python3.6/dist-packages (from requests>=2.11.1->tweepy) (2.10)\n",
            "Requirement already satisfied: urllib3!=1.25.0,!=1.25.1,<1.26,>=1.21.1 in /usr/local/lib/python3.6/dist-packages (from requests>=2.11.1->tweepy) (1.24.3)\n",
            "Requirement already satisfied: certifi>=2017.4.17 in /usr/local/lib/python3.6/dist-packages (from requests>=2.11.1->tweepy) (2020.6.20)\n",
            "Requirement already satisfied: oauthlib>=3.0.0 in /usr/local/lib/python3.6/dist-packages (from requests-oauthlib>=0.7.0->tweepy) (3.1.0)\n"
          ],
          "name": "stdout"
        }
      ]
    },
    {
      "cell_type": "code",
      "metadata": {
        "id": "LmrJ_ej21wHT"
      },
      "source": [
        "import os\n",
        "import tweepy as tw\n",
        "import pandas as pd\n",
        "from tqdm import tqdm, notebook"
      ],
      "execution_count": 1,
      "outputs": []
    },
    {
      "cell_type": "markdown",
      "metadata": {
        "id": "DhD4rlUM1wHX"
      },
      "source": [
        "## Autenticación API Twitter\n",
        "\n",
        "Para comenzar a utilizar tweepy, debemos de crear un objeto de OAuth con nuestras credenciales, estas las podemos obtener en [https://developer.twitter.com/apps](https://developer.twitter.com/apps)."
      ]
    },
    {
      "cell_type": "code",
      "metadata": {
        "id": "dyDwKEfG1wHX"
      },
      "source": [
        "consumer_api_key = \"05NZN9fXm1w1pWKNScVZNT1iz\"\n",
        "consumer_api_secret = \"IMf59ucljLNOumOOExfTVCX9XQBTTztrYjNwiYeM7lMWnM5gX5\""
      ],
      "execution_count": 2,
      "outputs": []
    },
    {
      "cell_type": "code",
      "metadata": {
        "id": "eNrecq6l1wHb"
      },
      "source": [
        "auth = tw.OAuthHandler(consumer_api_key, consumer_api_secret)"
      ],
      "execution_count": 3,
      "outputs": []
    },
    {
      "cell_type": "code",
      "metadata": {
        "id": "XWBzCPpM1wHk"
      },
      "source": [
        "# Objeto API sirve para hacer consultas\n",
        "api = tw.API(auth, wait_on_rate_limit=True)"
      ],
      "execution_count": 4,
      "outputs": []
    },
    {
      "cell_type": "markdown",
      "metadata": {
        "id": "qRgYEo6O1wHm"
      },
      "source": [
        "## Consultas a la API\n",
        "\n",
        "### Definición de las consultas\n",
        "\n",
        "Antes de empezar a consumir datos del API, tenemos que saber qué tweets queremos consumir, para ello se crea un objeto *Cursor* que tiene como atributos los filtros y operadores que necesitamos."
      ]
    },
    {
      "cell_type": "markdown",
      "metadata": {
        "id": "bZGPBNx3W6By"
      },
      "source": [
        "Para filtrar por ciudad, hice un diccionario donde la llave es la ciudad y el valor es `latitud,longitud,radio`, este lo usaremos como atributo en el Cursor."
      ]
    },
    {
      "cell_type": "code",
      "metadata": {
        "id": "LD-BI3X1EnKk"
      },
      "source": [
        "places = {\n",
        "    'Aguascalientes': \"21.886876,-102.289806,10mi\",\n",
        "    'San Francisco' : \"37.781157,-122.398720,10mi\",\n",
        "    'Oklahoma': \"35.418006,-97.262495,10mi\"\n",
        "}"
      ],
      "execution_count": 5,
      "outputs": []
    },
    {
      "cell_type": "markdown",
      "metadata": {
        "id": "QseXcvoQXKIA"
      },
      "source": [
        "Al Cursor le vamos a pasar los filtros para los tweets, los cuales son los siguientes:\n",
        "- Se excluyen retweets\n",
        "- Debe contener el término \"covid\"\n",
        "- Publicado a partir del 1 de septiembre\n",
        "- Publicado en un radio de 10 millas de San Francisco\n",
        "- Tweet está en inglés\n",
        "\n",
        "Y finalmente el número de tweets que queremos recolectar.\n",
        "\n",
        "**NOTA:** Si los filtros son muy estrictos, es más probable que tarden los resultados en cargar.\n"
      ]
    },
    {
      "cell_type": "code",
      "metadata": {
        "id": "Lx-YQtMN1wHn"
      },
      "source": [
        "search_words = \"-filter:retweets covid\"\n",
        "date_since = \"2020-09-01\"\n",
        "place = places[\"San Francisco\"]\n",
        "total_items = 1000\n",
        "\n",
        "\n",
        "# Cursor para filtrar tweets\n",
        "tweets = tw.Cursor(api.search,\n",
        "              q=search_words,\n",
        "              geocode=place,\n",
        "              lang=\"en\",\n",
        "              since=date_since).items(total_items)"
      ],
      "execution_count": 6,
      "outputs": []
    },
    {
      "cell_type": "markdown",
      "metadata": {
        "id": "5OaVYyZE1wHr"
      },
      "source": [
        "## Obtener los tweets y guardarlos en memoria\n",
        "Se guardan los tweets en un array y se imprime el progreso."
      ]
    },
    {
      "cell_type": "code",
      "metadata": {
        "scrolled": false,
        "id": "_Jp-L--b1wHt",
        "outputId": "78e047bc-6435-4d62-baff-0c8b15bf1295",
        "colab": {
          "base_uri": "https://localhost:8080/",
          "height": 34
        }
      },
      "source": [
        "tweets_copy = []\n",
        "for tweet in tqdm(tweets):\n",
        "     tweets_copy.append(tweet)"
      ],
      "execution_count": 7,
      "outputs": [
        {
          "output_type": "stream",
          "text": [
            "1000it [00:09, 107.99it/s]\n"
          ],
          "name": "stderr"
        }
      ]
    },
    {
      "cell_type": "markdown",
      "metadata": {
        "id": "_5meuAAa1wH1"
      },
      "source": [
        "## Construcción del dataset\n",
        "\n",
        "Los tweets por sí solos vienen con muchos metadatos, aquí se seleccionan los datos más importantes y se insertan en un DataFrame.\n",
        "\n",
        "Igualmente se muestra el progreso."
      ]
    },
    {
      "cell_type": "code",
      "metadata": {
        "scrolled": false,
        "id": "hrtPNL921wH2",
        "outputId": "65356f59-60c3-4922-fd1f-61397fbc976e",
        "colab": {
          "base_uri": "https://localhost:8080/",
          "height": 34
        }
      },
      "source": [
        "tweets_df = pd.DataFrame()\n",
        "for tweet in tqdm(tweets_copy):\n",
        "    tweets_df = tweets_df.append(pd.DataFrame({'user_name': tweet.user.name, \n",
        "                                               'tweet_id': tweet.id,\n",
        "                                               'user_location': tweet.user.location,\\\n",
        "                                               'user_description': tweet.user.description,\n",
        "                                               'user_created': tweet.user.created_at,\n",
        "                                               'user_followers': tweet.user.followers_count,\n",
        "                                               'retweets': tweet.retweet_count,\n",
        "                                               'favorites': tweet.favorite_count,\n",
        "                                               'user_verified': tweet.user.verified,\n",
        "                                               'date': tweet.created_at,\n",
        "                                               'text': tweet.text, \n",
        "                                               'source': tweet.source,\n",
        "                                               'is_quote_status': tweet.is_quote_status,\n",
        "                                               'is_retweet': tweet.retweeted}, index=[0]))"
      ],
      "execution_count": 8,
      "outputs": [
        {
          "output_type": "stream",
          "text": [
            "100%|██████████| 1000/1000 [00:06<00:00, 147.71it/s]\n"
          ],
          "name": "stderr"
        }
      ]
    },
    {
      "cell_type": "markdown",
      "metadata": {
        "id": "7Ce8d7YaZtOV"
      },
      "source": [
        "Se ordenan los datos por número de likes y los visualizamos."
      ]
    },
    {
      "cell_type": "code",
      "metadata": {
        "id": "y-h5BSCj1wH5"
      },
      "source": [
        "tweets_df = tweets_df.sort_values(\"favorites\", ascending=False)"
      ],
      "execution_count": 9,
      "outputs": []
    },
    {
      "cell_type": "code",
      "metadata": {
        "id": "B13qSZzRZ3LA",
        "outputId": "b93a8225-3695-4c65-a220-e08b78d4fdb4",
        "colab": {
          "base_uri": "https://localhost:8080/",
          "height": 394
        }
      },
      "source": [
        "tweets_df.head()"
      ],
      "execution_count": 10,
      "outputs": [
        {
          "output_type": "execute_result",
          "data": {
            "text/html": [
              "<div>\n",
              "<style scoped>\n",
              "    .dataframe tbody tr th:only-of-type {\n",
              "        vertical-align: middle;\n",
              "    }\n",
              "\n",
              "    .dataframe tbody tr th {\n",
              "        vertical-align: top;\n",
              "    }\n",
              "\n",
              "    .dataframe thead th {\n",
              "        text-align: right;\n",
              "    }\n",
              "</style>\n",
              "<table border=\"1\" class=\"dataframe\">\n",
              "  <thead>\n",
              "    <tr style=\"text-align: right;\">\n",
              "      <th></th>\n",
              "      <th>user_name</th>\n",
              "      <th>tweet_id</th>\n",
              "      <th>user_location</th>\n",
              "      <th>user_description</th>\n",
              "      <th>user_created</th>\n",
              "      <th>user_followers</th>\n",
              "      <th>retweets</th>\n",
              "      <th>favorites</th>\n",
              "      <th>user_verified</th>\n",
              "      <th>date</th>\n",
              "      <th>text</th>\n",
              "      <th>source</th>\n",
              "      <th>is_quote_status</th>\n",
              "      <th>is_retweet</th>\n",
              "    </tr>\n",
              "  </thead>\n",
              "  <tbody>\n",
              "    <tr>\n",
              "      <th>0</th>\n",
              "      <td>Robert Reich</td>\n",
              "      <td>1309946854868529153</td>\n",
              "      <td>Berkeley, CA</td>\n",
              "      <td>Berkeley prof, frmr Sec of Labor. Cofounder, I...</td>\n",
              "      <td>2010-05-26 23:17:10</td>\n",
              "      <td>1044765</td>\n",
              "      <td>306</td>\n",
              "      <td>665</td>\n",
              "      <td>True</td>\n",
              "      <td>2020-09-26 20:04:02</td>\n",
              "      <td>Covid surging in Wisconsin. Was Trump rally pa...</td>\n",
              "      <td>Twitter for iPhone</td>\n",
              "      <td>False</td>\n",
              "      <td>False</td>\n",
              "    </tr>\n",
              "    <tr>\n",
              "      <th>0</th>\n",
              "      <td>Lenny Teytelman</td>\n",
              "      <td>1309601869476503553</td>\n",
              "      <td>Berkeley, CA</td>\n",
              "      <td>Biologist, cofounder and CEO of @protocolsIO (...</td>\n",
              "      <td>2013-04-10 23:49:48</td>\n",
              "      <td>8096</td>\n",
              "      <td>71</td>\n",
              "      <td>273</td>\n",
              "      <td>False</td>\n",
              "      <td>2020-09-25 21:13:11</td>\n",
              "      <td>Reminder:\\n\\nYou can find a scientist who does...</td>\n",
              "      <td>Twitter Web App</td>\n",
              "      <td>False</td>\n",
              "      <td>False</td>\n",
              "    </tr>\n",
              "    <tr>\n",
              "      <th>0</th>\n",
              "      <td>Bob Wachter</td>\n",
              "      <td>1309861192081399809</td>\n",
              "      <td>San Francisco</td>\n",
              "      <td>Chair, UCSF Dept of Medicine. Career: What hap...</td>\n",
              "      <td>2011-01-17 02:51:39</td>\n",
              "      <td>113268</td>\n",
              "      <td>108</td>\n",
              "      <td>271</td>\n",
              "      <td>True</td>\n",
              "      <td>2020-09-26 14:23:38</td>\n",
              "      <td>Very informative thread on aerosols by the ess...</td>\n",
              "      <td>Twitter Web App</td>\n",
              "      <td>True</td>\n",
              "      <td>False</td>\n",
              "    </tr>\n",
              "    <tr>\n",
              "      <th>0</th>\n",
              "      <td>actually it’s good</td>\n",
              "      <td>1309607187908456448</td>\n",
              "      <td>San Francisco, CA</td>\n",
              "      <td>talking shit, posting fit</td>\n",
              "      <td>2012-01-20 22:16:22</td>\n",
              "      <td>38900</td>\n",
              "      <td>10</td>\n",
              "      <td>263</td>\n",
              "      <td>False</td>\n",
              "      <td>2020-09-25 21:34:19</td>\n",
              "      <td>yeah I have COVID...\\n\\nC asual \\nO uterwear\\n...</td>\n",
              "      <td>Twitter for iPhone</td>\n",
              "      <td>False</td>\n",
              "      <td>False</td>\n",
              "    </tr>\n",
              "    <tr>\n",
              "      <th>0</th>\n",
              "      <td>Francisco</td>\n",
              "      <td>1309699913404444672</td>\n",
              "      <td>San Francisco, CA</td>\n",
              "      <td>🇳🇮🇲🇽</td>\n",
              "      <td>2011-04-05 01:54:59</td>\n",
              "      <td>1442</td>\n",
              "      <td>14</td>\n",
              "      <td>136</td>\n",
              "      <td>False</td>\n",
              "      <td>2020-09-26 03:42:47</td>\n",
              "      <td>Vegas said COVID who? https://t.co/SlcmexlhmV</td>\n",
              "      <td>Twitter for iPhone</td>\n",
              "      <td>False</td>\n",
              "      <td>False</td>\n",
              "    </tr>\n",
              "  </tbody>\n",
              "</table>\n",
              "</div>"
            ],
            "text/plain": [
              "            user_name             tweet_id  ... is_quote_status is_retweet\n",
              "0        Robert Reich  1309946854868529153  ...           False      False\n",
              "0     Lenny Teytelman  1309601869476503553  ...           False      False\n",
              "0         Bob Wachter  1309861192081399809  ...            True      False\n",
              "0  actually it’s good  1309607187908456448  ...           False      False\n",
              "0           Francisco  1309699913404444672  ...           False      False\n",
              "\n",
              "[5 rows x 14 columns]"
            ]
          },
          "metadata": {
            "tags": []
          },
          "execution_count": 10
        }
      ]
    },
    {
      "cell_type": "markdown",
      "metadata": {
        "id": "qG5882Up1wIL"
      },
      "source": [
        "### Creación del csv\n",
        "\n",
        "Cuando tenemos el DataFrame listo, guardamos los datos en un csv.\n",
        "\n",
        "La nomenclatura es: `ciudad_fechainicio_fechafin.csv`"
      ]
    },
    {
      "cell_type": "code",
      "metadata": {
        "id": "TQzx3kw31wIL"
      },
      "source": [
        "tweets_df.to_csv(\"covid19_tweets.csv\", index=False)"
      ],
      "execution_count": null,
      "outputs": []
    }
  ]
}