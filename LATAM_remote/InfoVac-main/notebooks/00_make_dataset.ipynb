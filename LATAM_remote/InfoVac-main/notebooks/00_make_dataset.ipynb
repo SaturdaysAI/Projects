{
  "nbformat": 4,
  "nbformat_minor": 0,
  "metadata": {
    "colab": {
      "name": "make_dataset.ipynb",
      "provenance": [],
      "collapsed_sections": []
    },
    "kernelspec": {
      "name": "python3",
      "display_name": "Python 3"
    }
  },
  "cells": [
    {
      "cell_type": "markdown",
      "metadata": {
        "id": "QBszRJKex8mP"
      },
      "source": [
        "# **LIMPIEZA DE DATOS**"
      ]
    },
    {
      "cell_type": "markdown",
      "metadata": {
        "id": "vR2Vnqj6xQlj"
      },
      "source": [
        "### Notebook que explica el procedimiento seguido para la limpieza de los datos que se obtuvieron utilizando Web Scraping en páginas como Google Facts, Chequeado, CNN.\n",
        "\n",
        "El resultado final es una primera versión del dataset final que se utilizará para la creación de nuestro modelo de aprendizaje automático"
      ]
    },
    {
      "cell_type": "code",
      "metadata": {
        "id": "81Nf9ALqThzO",
        "outputId": "d63d7194-462a-434d-c304-77a752daa43f",
        "colab": {
          "base_uri": "https://localhost:8080/",
          "height": 35
        }
      },
      "source": [
        "# Instalación de modulo para eliminar símbolos en los textos \n",
        "!pip install unidecode"
      ],
      "execution_count": 1097,
      "outputs": [
        {
          "output_type": "stream",
          "text": [
            "Requirement already satisfied: unidecode in /usr/local/lib/python3.6/dist-packages (1.1.1)\n"
          ],
          "name": "stdout"
        }
      ]
    },
    {
      "cell_type": "code",
      "metadata": {
        "id": "ABmJgGK4UeUu"
      },
      "source": [
        "import pandas as pd\n",
        "import numpy as np\n",
        "import matplotlib.pyplot as plt\n",
        "import seaborn as sns"
      ],
      "execution_count": 1098,
      "outputs": []
    },
    {
      "cell_type": "markdown",
      "metadata": {
        "id": "y5rYB0xOUlMH"
      },
      "source": [
        "# Google Facts"
      ]
    },
    {
      "cell_type": "code",
      "metadata": {
        "id": "Rh1d0zwtQp4d",
        "outputId": "e3f79f49-df21-46cf-9e50-407a02331395",
        "colab": {
          "base_uri": "https://localhost:8080/",
          "height": 625
        }
      },
      "source": [
        "data = 'https://raw.githubusercontent.com/christianvadillo/InfoVac/main/data/raw/google_facts_api.csv'\n",
        "df_google = pd.read_csv(data)\n",
        "df_google.head(3)"
      ],
      "execution_count": 1099,
      "outputs": [
        {
          "output_type": "execute_result",
          "data": {
            "text/html": [
              "<div>\n",
              "<style scoped>\n",
              "    .dataframe tbody tr th:only-of-type {\n",
              "        vertical-align: middle;\n",
              "    }\n",
              "\n",
              "    .dataframe tbody tr th {\n",
              "        vertical-align: top;\n",
              "    }\n",
              "\n",
              "    .dataframe thead th {\n",
              "        text-align: right;\n",
              "    }\n",
              "</style>\n",
              "<table border=\"1\" class=\"dataframe\">\n",
              "  <thead>\n",
              "    <tr style=\"text-align: right;\">\n",
              "      <th></th>\n",
              "      <th>url</th>\n",
              "      <th>reviewDate</th>\n",
              "      <th>textualRating</th>\n",
              "      <th>languageCode</th>\n",
              "      <th>publisher.name</th>\n",
              "      <th>publisher.site</th>\n",
              "      <th>title</th>\n",
              "      <th>text</th>\n",
              "      <th>claimant</th>\n",
              "      <th>claimDate</th>\n",
              "    </tr>\n",
              "  </thead>\n",
              "  <tbody>\n",
              "    <tr>\n",
              "      <th>0</th>\n",
              "      <td>https://www.newtral.es/bulos-coronavirus-pcr-kary-mullis-videos/20201013/</td>\n",
              "      <td>2020-10-13T00:00:00Z</td>\n",
              "      <td>Falso</td>\n",
              "      <td>es</td>\n",
              "      <td>Newtral</td>\n",
              "      <td>newtral.es</td>\n",
              "      <td>NaN</td>\n",
              "      <td>Estos vídeos de Kary Mullis, inventor del PCR, dejan muy claro que el test no sirve para detectar virus. Desmontan la herramienta que usan nuestro...</td>\n",
              "      <td>NaN</td>\n",
              "      <td>NaN</td>\n",
              "    </tr>\n",
              "    <tr>\n",
              "      <th>1</th>\n",
              "      <td>https://colombiacheck.com/chequeos/no-ecuador-no-encontro-la-cura-para-el-covid-19-ni-mando-al-carajo-la-oms</td>\n",
              "      <td>2020-10-08T18:36:17Z</td>\n",
              "      <td>Falso</td>\n",
              "      <td>es</td>\n",
              "      <td>ColombiaCheck</td>\n",
              "      <td>colombiacheck.com</td>\n",
              "      <td>No, Ecuador no encontró la cura para el COVID-19 ni ‘mandó al carajo a la OMS’</td>\n",
              "      <td>Ecuador venció al coronavirus</td>\n",
              "      <td>NaN</td>\n",
              "      <td>NaN</td>\n",
              "    </tr>\n",
              "    <tr>\n",
              "      <th>2</th>\n",
              "      <td>https://www.telemundo.com/noticias/noticias-telemundo/elecciones-eeuu-2020/las-afirmaciones-falsas-y-enganosas-que-verificamos-durante-el-debate-e...</td>\n",
              "      <td>2020-10-08T00:00:00Z</td>\n",
              "      <td>Falso</td>\n",
              "      <td>es</td>\n",
              "      <td>Telemundo</td>\n",
              "      <td>telemundo.com</td>\n",
              "      <td>Las afirmaciones falsas y engañosas del debate entre Harris y Pence</td>\n",
              "      <td>\"Trump llamó al coronavirus un \"fraude\".</td>\n",
              "      <td>Kamala Harris</td>\n",
              "      <td>2020-10-07T00:00:00Z</td>\n",
              "    </tr>\n",
              "  </tbody>\n",
              "</table>\n",
              "</div>"
            ],
            "text/plain": [
              "                                                                                                                                                     url  ...             claimDate\n",
              "0                                                                              https://www.newtral.es/bulos-coronavirus-pcr-kary-mullis-videos/20201013/  ...                   NaN\n",
              "1                                           https://colombiacheck.com/chequeos/no-ecuador-no-encontro-la-cura-para-el-covid-19-ni-mando-al-carajo-la-oms  ...                   NaN\n",
              "2  https://www.telemundo.com/noticias/noticias-telemundo/elecciones-eeuu-2020/las-afirmaciones-falsas-y-enganosas-que-verificamos-durante-el-debate-e...  ...  2020-10-07T00:00:00Z\n",
              "\n",
              "[3 rows x 10 columns]"
            ]
          },
          "metadata": {
            "tags": []
          },
          "execution_count": 1099
        }
      ]
    },
    {
      "cell_type": "code",
      "metadata": {
        "id": "Dd3ZIzUzKbHh",
        "outputId": "0101a6fc-933e-4beb-bb3c-d011992eb78d",
        "colab": {
          "base_uri": "https://localhost:8080/",
          "height": 326
        }
      },
      "source": [
        "df_google.info()"
      ],
      "execution_count": 1100,
      "outputs": [
        {
          "output_type": "stream",
          "text": [
            "<class 'pandas.core.frame.DataFrame'>\n",
            "RangeIndex: 1587 entries, 0 to 1586\n",
            "Data columns (total 10 columns):\n",
            " #   Column          Non-Null Count  Dtype \n",
            "---  ------          --------------  ----- \n",
            " 0   url             1587 non-null   object\n",
            " 1   reviewDate      1482 non-null   object\n",
            " 2   textualRating   1587 non-null   object\n",
            " 3   languageCode    1587 non-null   object\n",
            " 4   publisher.name  1587 non-null   object\n",
            " 5   publisher.site  1587 non-null   object\n",
            " 6   title           1448 non-null   object\n",
            " 7   text            1534 non-null   object\n",
            " 8   claimant        764 non-null    object\n",
            " 9   claimDate       877 non-null    object\n",
            "dtypes: object(10)\n",
            "memory usage: 124.1+ KB\n"
          ],
          "name": "stdout"
        }
      ]
    },
    {
      "cell_type": "code",
      "metadata": {
        "id": "k9LavAijKfUW",
        "outputId": "c66df8f1-442b-4dfb-d3df-d79b59cd35ff",
        "colab": {
          "base_uri": "https://localhost:8080/",
          "height": 326
        }
      },
      "source": [
        "df_google = df_google.convert_dtypes()\n",
        "df_google.info()"
      ],
      "execution_count": 1101,
      "outputs": [
        {
          "output_type": "stream",
          "text": [
            "<class 'pandas.core.frame.DataFrame'>\n",
            "RangeIndex: 1587 entries, 0 to 1586\n",
            "Data columns (total 10 columns):\n",
            " #   Column          Non-Null Count  Dtype \n",
            "---  ------          --------------  ----- \n",
            " 0   url             1587 non-null   string\n",
            " 1   reviewDate      1482 non-null   string\n",
            " 2   textualRating   1587 non-null   string\n",
            " 3   languageCode    1587 non-null   string\n",
            " 4   publisher.name  1587 non-null   string\n",
            " 5   publisher.site  1587 non-null   string\n",
            " 6   title           1448 non-null   string\n",
            " 7   text            1534 non-null   string\n",
            " 8   claimant        764 non-null    string\n",
            " 9   claimDate       877 non-null    string\n",
            "dtypes: string(10)\n",
            "memory usage: 124.1 KB\n"
          ],
          "name": "stdout"
        }
      ]
    },
    {
      "cell_type": "markdown",
      "metadata": {
        "id": "cfS5dGW7YlmT"
      },
      "source": [
        "Una primera revisión nos señala que hay datos faltantes. Además, todas las columnas son detectadas como 'string', pero se sabe que hay columnas con fechas."
      ]
    },
    {
      "cell_type": "markdown",
      "metadata": {
        "id": "WQB8U8_2-l_a"
      },
      "source": [
        "## Duplicados?"
      ]
    },
    {
      "cell_type": "code",
      "metadata": {
        "id": "cMVix36e-oqH",
        "outputId": "6ea5b112-223f-467f-eef8-6c6c2660aa4b",
        "colab": {
          "base_uri": "https://localhost:8080/",
          "height": 126
        }
      },
      "source": [
        "df_google['title'].value_counts()[:5]"
      ],
      "execution_count": 1102,
      "outputs": [
        {
          "output_type": "execute_result",
          "data": {
            "text/plain": [
              "Non, 96,3% des morts du Covid-19 en Italie ne sont pas \"décédés d'autres pathologies\"    8\n",
              "Usar mascarillas no provoca falta de oxígeno                                             8\n",
              "El coronavirus de Wuhan: epidemia mundial de bulos (XIV) | Newtral                       7\n",
              "These are test kits made in South Korea, not a 'cure' for COVID-19                       6\n",
              "COVID-19: epidemia mundial de bulos (XVI) | Newtral                                      6\n",
              "Name: title, dtype: Int64"
            ]
          },
          "metadata": {
            "tags": []
          },
          "execution_count": 1102
        }
      ]
    },
    {
      "cell_type": "markdown",
      "metadata": {
        "id": "2UtVu0ijY4SP"
      },
      "source": [
        "Con 'value_counts()' podemos ver que hay títulos o artículos repetidos en nuestro conjunto de datos. "
      ]
    },
    {
      "cell_type": "code",
      "metadata": {
        "id": "nB6kgRxX_hYo"
      },
      "source": [
        "# Eliminando duplicados\n",
        "df_google.drop_duplicates('title', keep='first', inplace=True)"
      ],
      "execution_count": 1103,
      "outputs": []
    },
    {
      "cell_type": "code",
      "metadata": {
        "id": "qXdIDo0LJeYD",
        "outputId": "12facdad-f21b-48ac-ba3f-2648d53bdab7",
        "colab": {
          "base_uri": "https://localhost:8080/",
          "height": 146
        }
      },
      "source": [
        "# Verificando \n",
        "df_google['title'].value_counts()[:5]"
      ],
      "execution_count": 1104,
      "outputs": [
        {
          "output_type": "execute_result",
          "data": {
            "text/plain": [
              "AMLO sí dijo “hay que abrazarse”, pero antes de que la OMS declarara pandemia al nuevo coronavirus    1\n",
              "El video con el maniquí muestra un simulacro de transporte de pacientes con covid-19 en España        1\n",
              "El coronavirus COVID-19 no se cura con gárgaras de bicarbonato caliente, como dice supuesta médica    1\n",
              "La revista Muy Interesante no predijo el COVID-19 en 2014                                             1\n",
              "Ningún test de la COVID-19 para hacer en casa tiene garantías sanitarias                              1\n",
              "Name: title, dtype: Int64"
            ]
          },
          "metadata": {
            "tags": []
          },
          "execution_count": 1104
        }
      ]
    },
    {
      "cell_type": "markdown",
      "metadata": {
        "id": "Q4mxqpxy-gUB"
      },
      "source": [
        "## Datos faltantes?"
      ]
    },
    {
      "cell_type": "code",
      "metadata": {
        "id": "tmB9gSn5UsSy",
        "outputId": "a8ee5886-f29f-432a-d917-dcca345a0135",
        "colab": {
          "base_uri": "https://localhost:8080/",
          "height": 217
        }
      },
      "source": [
        "df_google.isnull().sum() / len(df_google) * 100"
      ],
      "execution_count": 1105,
      "outputs": [
        {
          "output_type": "execute_result",
          "data": {
            "text/plain": [
              "url                0.000000\n",
              "reviewDate         6.886228\n",
              "textualRating      0.000000\n",
              "languageCode       0.000000\n",
              "publisher.name     0.000000\n",
              "publisher.site     0.000000\n",
              "title              0.099800\n",
              "text               3.892216\n",
              "claimant          50.199601\n",
              "claimDate         44.710579\n",
              "dtype: float64"
            ]
          },
          "metadata": {
            "tags": []
          },
          "execution_count": 1105
        }
      ]
    },
    {
      "cell_type": "markdown",
      "metadata": {
        "id": "-6sq9pRiZ_8e"
      },
      "source": [
        "Tenemos datos faltantes en un par de columnas. Para tratar con 'claimDate' que tiene un porcentaje alto de valores faltantes podemos:\n",
        "\n",
        "\n",
        "1.   Realizar una busqueda manual de los artículos para extraer la fecha faltante\n",
        "2.   Utilizar 'reviewDate' como alternativa a 'claimDate'\n",
        "\n"
      ]
    },
    {
      "cell_type": "markdown",
      "metadata": {
        "id": "sFvJU0oAKCI4"
      },
      "source": [
        "##Noticias no relacionadas?\n",
        "\n",
        "Durante una primera exploración se observó que durante el proceso de Web Scraping se recolectaron noticias que no tienen relación con la temática de este proyecto. Por tanto, se requiere filtrar estas noticias fuera de contexto para no perjudicar al modelo final."
      ]
    },
    {
      "cell_type": "code",
      "metadata": {
        "id": "CKRJcrotTLyC"
      },
      "source": [
        "from unidecode import unidecode"
      ],
      "execution_count": 1106,
      "outputs": []
    },
    {
      "cell_type": "code",
      "metadata": {
        "id": "PSqLJwujPAgG"
      },
      "source": [
        "# Rellenando titulos y textos faltantes para evitar errores\n",
        "df_google['title'].fillna('no title', inplace=True)\n",
        "df_google['text'].fillna('no text', inplace=True)"
      ],
      "execution_count": 1107,
      "outputs": []
    },
    {
      "cell_type": "code",
      "metadata": {
        "id": "hqOXtq_1cStV"
      },
      "source": [
        "  COVID_WORDS = ['covid', 'coronavirus', 'vacuna', 'virus',\n",
        "           'pandemia', 'sars-cov', 'cuarentena', 'infectado',\n",
        "           'salud', 'oms', 'hospital', 'medico', 'dioxido', 'cloro', \n",
        "           'termometro', 'infrarojo', \n",
        "           'asinto', 'pcr', 'mascar', 'tapaboca', 'cubreboca', 'oximetro',\n",
        "           'respira', 'contagi', 'desinfecta', 'dieta']\n",
        "  "
      ],
      "execution_count": 1108,
      "outputs": []
    },
    {
      "cell_type": "code",
      "metadata": {
        "id": "uKoktGOsKCI5"
      },
      "source": [
        "def out_of_context(row: pd.Series) -> bool:\n",
        "  \"\"\" Función que dado un título y una descripción, devuelve\n",
        "  un booleano indicando si está fuera de contexto o no lo está \"\"\"\n",
        "\n",
        "  title, text = row['title'], row['text']\n",
        "  for w in COVID_WORDS:\n",
        "    if ((w in unidecode(text).lower()) or (w in unidecode(title).lower())):\n",
        "      return False\n",
        "  return True\n"
      ],
      "execution_count": 1109,
      "outputs": []
    },
    {
      "cell_type": "code",
      "metadata": {
        "id": "h_hjEyDNKCI-"
      },
      "source": [
        "# Creamos una nueva columna y aplicamos la función definida\n",
        "df_google['out_of_context'] = df_google.apply(lambda row: out_of_context(row), axis=1)\n"
      ],
      "execution_count": 1110,
      "outputs": []
    },
    {
      "cell_type": "code",
      "metadata": {
        "id": "fHPnQ0-7KCJC",
        "outputId": "a0549f81-8582-4e23-d9c0-1559218dd01e",
        "colab": {
          "base_uri": "https://localhost:8080/",
          "height": 165
        }
      },
      "source": [
        "# Visualicemos las noticias fuera de contexto\n",
        "for title in df_google[df_google['out_of_context']]['title']:\n",
        "  print(title)"
      ],
      "execution_count": 1111,
      "outputs": [
        {
          "output_type": "stream",
          "text": [
            "Esta concejal no dijo que los ancianos son un “lastre” ni es de Uruguay, sino de Canarias, España\n",
            "El presidente de México no propuso un impuesto a mascotas, era una nota satírica\n",
            "El falso mensaje sobre supermercados y esterilización de productos con el secador de pelo\n",
            "Ni Felipe VI ni Pedro Sánchez copiaron un discurso de una novela, fue su autora la que se inspiró en un texto de 2017 del rey español\n",
            "Los supermercados que abren a las 07h00 a mayores de 65 años están en Argentina, no en España\n",
            "Fotos de grandes fiestas tecno para desinformar sobre la marcha negacionista de Berlín\n",
            "No hay pruebas de que evitar cosas heladas y dulces prevenga ...\n"
          ],
          "name": "stdout"
        }
      ]
    },
    {
      "cell_type": "code",
      "metadata": {
        "id": "FrvmQS2ud4sK",
        "outputId": "99c685f3-5b6d-4f0d-a5a8-0a26bde11d38",
        "colab": {
          "base_uri": "https://localhost:8080/",
          "height": 235
        }
      },
      "source": [
        "df_google['out_of_context']"
      ],
      "execution_count": 1112,
      "outputs": [
        {
          "output_type": "execute_result",
          "data": {
            "text/plain": [
              "0       False\n",
              "1       False\n",
              "2       False\n",
              "3       False\n",
              "4       False\n",
              "        ...  \n",
              "1505    False\n",
              "1526    False\n",
              "1578    False\n",
              "1581    False\n",
              "1583    False\n",
              "Name: out_of_context, Length: 1002, dtype: bool"
            ]
          },
          "metadata": {
            "tags": []
          },
          "execution_count": 1112
        }
      ]
    },
    {
      "cell_type": "code",
      "metadata": {
        "id": "g004-Hfodv_s"
      },
      "source": [
        "# Filtremos para descartar estas noticias\n",
        "# 'out_of_context' está formado por booleanos indicando con 'True' si una fila\n",
        "# está fuera de contexto. Para filtrar y dejar las filas que si tienen relación\n",
        "# con el tema de COVID-19, podemos negar la columna, es decir, cada 'True' se\n",
        "# haga 'False' y todo 'False' se vuelva 'True'. Utilizamos el símbolo '~' para\n",
        "# realizar esta operación\n",
        "df_google = df_google[~df_google['out_of_context']]"
      ],
      "execution_count": 1113,
      "outputs": []
    },
    {
      "cell_type": "markdown",
      "metadata": {
        "id": "OVujagMtnz8X"
      },
      "source": [
        "## Verificando la coherencia en 'reviewDate'"
      ]
    },
    {
      "cell_type": "code",
      "metadata": {
        "id": "tiiXkAY0n_r6",
        "outputId": "8a0ff18f-f896-441a-fc0a-c46b681cad53",
        "colab": {
          "base_uri": "https://localhost:8080/",
          "height": 126
        }
      },
      "source": [
        "df_google['reviewDate'][:5]"
      ],
      "execution_count": 1114,
      "outputs": [
        {
          "output_type": "execute_result",
          "data": {
            "text/plain": [
              "0    2020-10-13T00:00:00Z\n",
              "1    2020-10-08T18:36:17Z\n",
              "2    2020-10-08T00:00:00Z\n",
              "3    2020-10-07T18:36:00Z\n",
              "4    2020-10-07T00:00:00Z\n",
              "Name: reviewDate, dtype: string"
            ]
          },
          "metadata": {
            "tags": []
          },
          "execution_count": 1114
        }
      ]
    },
    {
      "cell_type": "code",
      "metadata": {
        "id": "hBldU8W8ldKy",
        "outputId": "ae7ec178-59c0-443d-faa4-bcf3196cfea5",
        "colab": {
          "base_uri": "https://localhost:8080/",
          "height": 35
        }
      },
      "source": [
        "len(df_google['reviewDate'][0])"
      ],
      "execution_count": 1115,
      "outputs": [
        {
          "output_type": "execute_result",
          "data": {
            "text/plain": [
              "20"
            ]
          },
          "metadata": {
            "tags": []
          },
          "execution_count": 1115
        }
      ]
    },
    {
      "cell_type": "markdown",
      "metadata": {
        "id": "voEc_c5Olb53"
      },
      "source": [
        "Se observa que cada fecha tiene una longitud de 20 caracteres. Verifiquemos que no exista fechas mayor o menor a esta cantidad"
      ]
    },
    {
      "cell_type": "code",
      "metadata": {
        "id": "4Qy9Qt4M7D9k",
        "outputId": "be141968-35ca-4dff-dbd3-e2d82a368b10",
        "colab": {
          "base_uri": "https://localhost:8080/",
          "height": 1000
        }
      },
      "source": [
        "df_google[df_google['reviewDate'].apply(lambda x: len(str(x))<20)]"
      ],
      "execution_count": 1116,
      "outputs": [
        {
          "output_type": "execute_result",
          "data": {
            "text/html": [
              "<div>\n",
              "<style scoped>\n",
              "    .dataframe tbody tr th:only-of-type {\n",
              "        vertical-align: middle;\n",
              "    }\n",
              "\n",
              "    .dataframe tbody tr th {\n",
              "        vertical-align: top;\n",
              "    }\n",
              "\n",
              "    .dataframe thead th {\n",
              "        text-align: right;\n",
              "    }\n",
              "</style>\n",
              "<table border=\"1\" class=\"dataframe\">\n",
              "  <thead>\n",
              "    <tr style=\"text-align: right;\">\n",
              "      <th></th>\n",
              "      <th>url</th>\n",
              "      <th>reviewDate</th>\n",
              "      <th>textualRating</th>\n",
              "      <th>languageCode</th>\n",
              "      <th>publisher.name</th>\n",
              "      <th>publisher.site</th>\n",
              "      <th>title</th>\n",
              "      <th>text</th>\n",
              "      <th>claimant</th>\n",
              "      <th>claimDate</th>\n",
              "      <th>out_of_context</th>\n",
              "    </tr>\n",
              "  </thead>\n",
              "  <tbody>\n",
              "    <tr>\n",
              "      <th>7</th>\n",
              "      <td>https://maldita.es/malditobulo/2020/10/06/no-ni-la-gripe-mata-mas-que-la-covid19-ni-el-coronavirus-se-ha-saltado-suecia-como-dice-este-video/</td>\n",
              "      <td>&lt;NA&gt;</td>\n",
              "      <td>Falso</td>\n",
              "      <td>es</td>\n",
              "      <td>Maldita.es</td>\n",
              "      <td>maldita.es</td>\n",
              "      <td>No, ni el coronavirus 'se ha saltado' Suecia ni la gripe mata más que la COVID-19 como dice este vídeo</td>\n",
              "      <td>La gripe mata más que el coronavirus y la COVID-19 se ha saltado Suecia</td>\n",
              "      <td>Redes sociales</td>\n",
              "      <td>2020-09-21T00:00:00Z</td>\n",
              "      <td>False</td>\n",
              "    </tr>\n",
              "    <tr>\n",
              "      <th>17</th>\n",
              "      <td>https://maldita.es/malditobulo/2020/10/02/ecuador-cura-coronavirus-ministerio-salud-enfermedad-bacteria-5g/</td>\n",
              "      <td>&lt;NA&gt;</td>\n",
              "      <td>Falso</td>\n",
              "      <td>es</td>\n",
              "      <td>Maldita.es</td>\n",
              "      <td>maldita.es</td>\n",
              "      <td>No, Ecuador no ha descubierto la cura del coronavirus ni el Ministerio de Salud ecuatoriano ha dicho que la causa de la enfermedad es una bacteria...</td>\n",
              "      <td>Ecuador ha descubierto la cura del coronavirus y el Ministerio de Salud ecuatoriano sostiene que la causa de la enfermedad es una bacteria amplifi...</td>\n",
              "      <td>Redes sociales</td>\n",
              "      <td>2020-07-22T00:00:00Z</td>\n",
              "      <td>False</td>\n",
              "    </tr>\n",
              "    <tr>\n",
              "      <th>23</th>\n",
              "      <td>https://maldita.es/malditobulo/2020/09/25/bill-gates-confirmado-implantar-chips-vacunas-covid-19/</td>\n",
              "      <td>&lt;NA&gt;</td>\n",
              "      <td>Falso</td>\n",
              "      <td>es</td>\n",
              "      <td>Maldita.es</td>\n",
              "      <td>maldita.es</td>\n",
              "      <td>No, Bill Gates no ha confirmado que van a \"implantar chips\" en las vacunas de la COVID-19</td>\n",
              "      <td>Bill Gates confirma que van a implantar chips en las vacunas del SARS-CoV-2</td>\n",
              "      <td>Redes sociales</td>\n",
              "      <td>2020-10-02T00:00:00Z</td>\n",
              "      <td>False</td>\n",
              "    </tr>\n",
              "    <tr>\n",
              "      <th>27</th>\n",
              "      <td>https://maldita.es/malditobulo/2020/09/23/cuidado-con-este-video-difundido-como-si-nos-estuvieran-enganando-haciendo-pasar-un-maniqui-por-un-pacie...</td>\n",
              "      <td>&lt;NA&gt;</td>\n",
              "      <td>Falso</td>\n",
              "      <td>es</td>\n",
              "      <td>Maldita.es</td>\n",
              "      <td>maldita.es</td>\n",
              "      <td>Cuidado con este vídeo difundido como si estuvieran haciendo pasar un maniquí por un paciente con coronavirus: es una simulación realizada en un t...</td>\n",
              "      <td>Hacen pasar un maniquí por un paciente de coronavirus</td>\n",
              "      <td>Redes sociales</td>\n",
              "      <td>2020-08-31T00:00:00Z</td>\n",
              "      <td>False</td>\n",
              "    </tr>\n",
              "    <tr>\n",
              "      <th>28</th>\n",
              "      <td>https://maldita.es/malditobulo/2020/09/21/servicio-cardiovascular-hospital-virgen-macarena-sevilla-positivo-coronavirus/</td>\n",
              "      <td>&lt;NA&gt;</td>\n",
              "      <td>Falso</td>\n",
              "      <td>es</td>\n",
              "      <td>Maldita.es</td>\n",
              "      <td>maldita.es</td>\n",
              "      <td>No, no es cierto que todo el servicio de Cardiología y Cirugía Cardiovascular del Hospital Virgen Macarena de Sevilla haya dado positivo en corona...</td>\n",
              "      <td>En el Hospital Virgen Macarena de Sevilla el servicio de cardiovascular entero ha dado positivo por coronavirus junto a varios enfermeros de urgen...</td>\n",
              "      <td>Redes sociales</td>\n",
              "      <td>2020-09-21T00:00:00Z</td>\n",
              "      <td>False</td>\n",
              "    </tr>\n",
              "    <tr>\n",
              "      <th>...</th>\n",
              "      <td>...</td>\n",
              "      <td>...</td>\n",
              "      <td>...</td>\n",
              "      <td>...</td>\n",
              "      <td>...</td>\n",
              "      <td>...</td>\n",
              "      <td>...</td>\n",
              "      <td>...</td>\n",
              "      <td>...</td>\n",
              "      <td>...</td>\n",
              "      <td>...</td>\n",
              "    </tr>\n",
              "    <tr>\n",
              "      <th>1004</th>\n",
              "      <td>https://maldita.es/malditatecnologia/2020/06/24/cadena-google-una-app-covid-secretamente-actualizacion-rastreo-contactos/</td>\n",
              "      <td>&lt;NA&gt;</td>\n",
              "      <td>Falso</td>\n",
              "      <td>es</td>\n",
              "      <td>Maldita.es</td>\n",
              "      <td>maldita.es</td>\n",
              "      <td>La cadena de WhatsApp que dice que Google está instalando una app de COVID secretamente: es una actualización para que funcionen las apps de rastr...</td>\n",
              "      <td>El banano bloquea la entrada del COVID-19 al cuerpo humano</td>\n",
              "      <td>Varias fuentes</td>\n",
              "      <td>2020-05-05T00:00:00Z</td>\n",
              "      <td>False</td>\n",
              "    </tr>\n",
              "    <tr>\n",
              "      <th>1017</th>\n",
              "      <td>https://maldita.es/malditobulo/2020/06/19/video-torre-eiffel-espectaculo-luces-homenaje-victimas-covid-19/</td>\n",
              "      <td>&lt;NA&gt;</td>\n",
              "      <td>Falso</td>\n",
              "      <td>es</td>\n",
              "      <td>Maldita.es</td>\n",
              "      <td>maldita.es</td>\n",
              "      <td>No, este vídeo de un espectáculo de luces en la Torre Eiffel no es actual ni es un homenaje a las víctimas de la COVID-19: es de 2019 por el 130º ...</td>\n",
              "      <td>Organización Mundial de la Salud lanzó una advertencia sobre el virus Nipah “más mortal que la COVID-19”</td>\n",
              "      <td>Redes sociales</td>\n",
              "      <td>2020-06-17T20:25:02Z</td>\n",
              "      <td>False</td>\n",
              "    </tr>\n",
              "    <tr>\n",
              "      <th>1034</th>\n",
              "      <td>https://maldita.es/malditobulo/2020/06/11/huye-hospital-covid-19-curen-mano/</td>\n",
              "      <td>&lt;NA&gt;</td>\n",
              "      <td>Falso</td>\n",
              "      <td>es</td>\n",
              "      <td>Maldita.es</td>\n",
              "      <td>maldita.es</td>\n",
              "      <td>No, esta persona no huye del hospital porque lo van a ingresar por COVID-19 tras ir a que le curen una mano: son imágenes de 2019 de un presunto r...</td>\n",
              "      <td>El 5G está relacionado con el coronavirus</td>\n",
              "      <td>&lt;NA&gt;</td>\n",
              "      <td>&lt;NA&gt;</td>\n",
              "      <td>False</td>\n",
              "    </tr>\n",
              "    <tr>\n",
              "      <th>1039</th>\n",
              "      <td>https://maldita.es/malditobulo/2020/06/09/cura-bebida-jengibre-limon-aspirina-canela-miel-ajo-cebolla-coronavirus/</td>\n",
              "      <td>&lt;NA&gt;</td>\n",
              "      <td>Falso</td>\n",
              "      <td>es</td>\n",
              "      <td>Maldita.es</td>\n",
              "      <td>maldita.es</td>\n",
              "      <td>No, la COVID-19 no se cura con una bebida de jengibre, limón, aspirina, canela, miel, ajo y cebolla: ninguna bebida cura o previene el coronavirus</td>\n",
              "      <td>Ningún ministro de Podemos asiste al minuto de silencio en Moncloa por los muertos por COVID-19</td>\n",
              "      <td>Varias fuentes</td>\n",
              "      <td>2020-05-27T00:00:00Z</td>\n",
              "      <td>False</td>\n",
              "    </tr>\n",
              "    <tr>\n",
              "      <th>1044</th>\n",
              "      <td>https://maldita.es/malditatecnologia/2020/06/08/gobierno-aplicacion-covid-19-google-telefonos-android/</td>\n",
              "      <td>&lt;NA&gt;</td>\n",
              "      <td>Falso</td>\n",
              "      <td>es</td>\n",
              "      <td>Maldita.es</td>\n",
              "      <td>maldita.es</td>\n",
              "      <td>No, el Gobierno no sabe dónde estamos gracias a una aplicación de COVID-19 de Google y tampoco la ha instalado sin que lo sepamos en los teléfonos...</td>\n",
              "      <td>El drenaje postural de pulmones puede sustituir a los ventiladores en pacientes con COVID-19</td>\n",
              "      <td>Varias fuentes</td>\n",
              "      <td>2020-04-29T00:00:00Z</td>\n",
              "      <td>False</td>\n",
              "    </tr>\n",
              "  </tbody>\n",
              "</table>\n",
              "<p>69 rows × 11 columns</p>\n",
              "</div>"
            ],
            "text/plain": [
              "                                                                                                                                                        url  ... out_of_context\n",
              "7             https://maldita.es/malditobulo/2020/10/06/no-ni-la-gripe-mata-mas-que-la-covid19-ni-el-coronavirus-se-ha-saltado-suecia-como-dice-este-video/  ...          False\n",
              "17                                              https://maldita.es/malditobulo/2020/10/02/ecuador-cura-coronavirus-ministerio-salud-enfermedad-bacteria-5g/  ...          False\n",
              "23                                                        https://maldita.es/malditobulo/2020/09/25/bill-gates-confirmado-implantar-chips-vacunas-covid-19/  ...          False\n",
              "27    https://maldita.es/malditobulo/2020/09/23/cuidado-con-este-video-difundido-como-si-nos-estuvieran-enganando-haciendo-pasar-un-maniqui-por-un-pacie...  ...          False\n",
              "28                                 https://maldita.es/malditobulo/2020/09/21/servicio-cardiovascular-hospital-virgen-macarena-sevilla-positivo-coronavirus/  ...          False\n",
              "...                                                                                                                                                     ...  ...            ...\n",
              "1004                              https://maldita.es/malditatecnologia/2020/06/24/cadena-google-una-app-covid-secretamente-actualizacion-rastreo-contactos/  ...          False\n",
              "1017                                             https://maldita.es/malditobulo/2020/06/19/video-torre-eiffel-espectaculo-luces-homenaje-victimas-covid-19/  ...          False\n",
              "1034                                                                           https://maldita.es/malditobulo/2020/06/11/huye-hospital-covid-19-curen-mano/  ...          False\n",
              "1039                                     https://maldita.es/malditobulo/2020/06/09/cura-bebida-jengibre-limon-aspirina-canela-miel-ajo-cebolla-coronavirus/  ...          False\n",
              "1044                                                 https://maldita.es/malditatecnologia/2020/06/08/gobierno-aplicacion-covid-19-google-telefonos-android/  ...          False\n",
              "\n",
              "[69 rows x 11 columns]"
            ]
          },
          "metadata": {
            "tags": []
          },
          "execution_count": 1116
        }
      ]
    },
    {
      "cell_type": "code",
      "metadata": {
        "id": "BhyxQa4BmEAn",
        "outputId": "0cb60d5e-adc4-4f01-b599-b9e4676afe61",
        "colab": {
          "base_uri": "https://localhost:8080/",
          "height": 68
        }
      },
      "source": [
        "df_google[df_google['reviewDate'].apply(lambda x: len(str(x))>20)]"
      ],
      "execution_count": 1117,
      "outputs": [
        {
          "output_type": "execute_result",
          "data": {
            "text/html": [
              "<div>\n",
              "<style scoped>\n",
              "    .dataframe tbody tr th:only-of-type {\n",
              "        vertical-align: middle;\n",
              "    }\n",
              "\n",
              "    .dataframe tbody tr th {\n",
              "        vertical-align: top;\n",
              "    }\n",
              "\n",
              "    .dataframe thead th {\n",
              "        text-align: right;\n",
              "    }\n",
              "</style>\n",
              "<table border=\"1\" class=\"dataframe\">\n",
              "  <thead>\n",
              "    <tr style=\"text-align: right;\">\n",
              "      <th></th>\n",
              "      <th>url</th>\n",
              "      <th>reviewDate</th>\n",
              "      <th>textualRating</th>\n",
              "      <th>languageCode</th>\n",
              "      <th>publisher.name</th>\n",
              "      <th>publisher.site</th>\n",
              "      <th>title</th>\n",
              "      <th>text</th>\n",
              "      <th>claimant</th>\n",
              "      <th>claimDate</th>\n",
              "      <th>out_of_context</th>\n",
              "    </tr>\n",
              "  </thead>\n",
              "  <tbody>\n",
              "  </tbody>\n",
              "</table>\n",
              "</div>"
            ],
            "text/plain": [
              "Empty DataFrame\n",
              "Columns: [url, reviewDate, textualRating, languageCode, publisher.name, publisher.site, title, text, claimant, claimDate, out_of_context]\n",
              "Index: []"
            ]
          },
          "metadata": {
            "tags": []
          },
          "execution_count": 1117
        }
      ]
    },
    {
      "cell_type": "markdown",
      "metadata": {
        "id": "x9kgh2nJfO4h"
      },
      "source": [
        "Observamos que, en general, la columna es consistente. También se obervan datos faltantes."
      ]
    },
    {
      "cell_type": "code",
      "metadata": {
        "id": "-KV-w2w973qd"
      },
      "source": [
        "# Extrayendo las filas en el que 'reviewDate' tiene NaN\n",
        "rows_missing_date = df_google['reviewDate'].isnull()"
      ],
      "execution_count": 1118,
      "outputs": []
    },
    {
      "cell_type": "code",
      "metadata": {
        "id": "Ceu0r33gmb7F",
        "outputId": "c3014482-e37e-4b1d-8876-0a7c0dd34d04",
        "colab": {
          "base_uri": "https://localhost:8080/",
          "height": 1000
        }
      },
      "source": [
        "for u in df_google[rows_missing_date]['url']:\n",
        "  print(u)"
      ],
      "execution_count": 1119,
      "outputs": [
        {
          "output_type": "stream",
          "text": [
            "https://maldita.es/malditobulo/2020/10/06/no-ni-la-gripe-mata-mas-que-la-covid19-ni-el-coronavirus-se-ha-saltado-suecia-como-dice-este-video/\n",
            "https://maldita.es/malditobulo/2020/10/02/ecuador-cura-coronavirus-ministerio-salud-enfermedad-bacteria-5g/\n",
            "https://maldita.es/malditobulo/2020/09/25/bill-gates-confirmado-implantar-chips-vacunas-covid-19/\n",
            "https://maldita.es/malditobulo/2020/09/23/cuidado-con-este-video-difundido-como-si-nos-estuvieran-enganando-haciendo-pasar-un-maniqui-por-un-paciente-con-coronavirus-es-una-simulacion-realizada-en-un-tren-medicalizado/\n",
            "https://maldita.es/malditobulo/2020/09/21/servicio-cardiovascular-hospital-virgen-macarena-sevilla-positivo-coronavirus/\n",
            "https://maldita.es/malditobulo/2020/09/21/juegos-olimpicos-londres-2012-predijo-coronavirus-feretros/\n",
            "https://maldita.es/malditobulo/2020/09/21/coronavirus-revista-muy-interesante-2014-actual/\n",
            "https://maldita.es/malditobulo/2020/09/19/foto-colegio-padres-distancia-seguridad-rumania/\n",
            "https://maldita.es/malditobulo/2020/09/02/manifestacion-negacionista-coronavirus-covid-19-polonia-29-agosto/\n",
            "https://maldita.es/malditobulo/2020/09/01/video-manifestacion-corea-del-sur-falsa-pandemia-coronavirus/\n",
            "https://maldita.es/malditobulo/2020/08/31/foto-festival-coronavirus-covid-berlin-manifestaciones/\n",
            "https://maldita.es/malditobulo/2020/08/31/fotos-manifestacion-mascarillas-coronavirus-berlin/\n",
            "https://maldita.es/malditobulo/2020/08/31/insituto-salud-carlos-iii-pandemia-coronavirus-terminado/\n",
            "https://maldita.es/malditobulo/2020/08/18/pedro-sanchez-playa-sin-mascarilla/\n",
            "https://maldita.es/malditobulo/2020/08/17/pedro-sanchez-playa-leyendo-libro-vacaciones/\n",
            "https://maldita.es/malditobulo/2020/08/13/ha-escapado-inmigrante-coronavirus-centro-internamiento-extranjeros-el-matorral-fuerteventura/\n",
            "https://maldita.es/malditobulo/2020/08/12/ministerio-salud-japon-pulmones-fibrosis-coronavirus-aguantar-respiracion-10-segundos/\n",
            "https://maldita.es/malditobulo/2020/08/11/marcos-vargas-fallecio-hospital-muniz-buenos-aires-jordi/\n",
            "https://maldita.es/malditobulo/2020/08/10/video-manifestacion-protesta-confinamiento-aranda-de-duero/\n",
            "https://maldita.es/malditobulo/2020/08/05/fotos-manifestacion-1-agosto-berlin-alemania-coronavirus/\n",
            "https://maldita.es/malditobulo/2020/08/04/foto-manifestacion-berlin-antimascarillas-alemania-coronavirus-loveparade/\n",
            "https://maldita.es/malditobulo/2020/07/28/nino-muere-tres-veces-coronavirus/\n",
            "https://maldita.es/malditobulo/no-susan-george-no-ha-dicho-que-los-espanoles-son-como-ratas-de-laboratorio-en-relacion-a-la-crisis-del-coronavirus-la-frase-sale-de-una-entrevista-realizada-en-2012\n",
            "https://maldita.es/malditaciencia/2020/07/09/exosoma-james-hildreth-coronavirus/\n",
            "https://maldita.es/malditobulo/2020/07/06/mural-mascarillas-banderas-1994/\n",
            "https://maldita.es/malditobulo/2020/07/03/inmigrantes-coronavirus-escapan-fuerteventura-confinamiento/\n",
            "https://maldita.es/malditobulo/2020/06/30/gobierno-permite-celebracion-orgullo-gay/\n",
            "https://maldita.es/malditobulo/2020/06/30/diputado-descubre-hospital-vacio-brasil/\n",
            "https://maldita.es/malditobulo/2020/06/24/comunidad-china-usera-madrid-este-cerrando-comercios-embajada-china-recomendado/\n",
            "https://maldita.es/malditobulo/2020/06/24/pedro-sanchez-generar-dinero-bitcoin/\n",
            "https://maldita.es/malditobulo/2020/06/24/video-editado-croma-brasil-fallecidos-coronavirus/\n",
            "https://maldita.es/malditaciencia/2020/06/22/video-medico-no-hay-pandemia-coronavirus/\n",
            "https://maldita.es/malditobulo/2020/06/18/no-este-video-de-una-pelea-en-una-terraza-no-esta-grabado-durante-la-crisis-por-el-coronavirus-fue-en-piera-barcelona-en-2016/\n",
            "https://maldita.es/malditobulo/2020/06/18/cura-covid-19-limon-aspirinas-enfermedad/\n",
            "https://maldita.es/malditobulo/2020/06/16/bill-gates-700000-personas-morir-vacuna-coronavirus/\n",
            "https://maldita.es/malditaciencia/2020/06/16/no-la-oms-no-ha-alertado-ahora-sobre-el-virus-nipah-que-es-mas-mortal-que-la-covid-es-una-noticia-de-2018-que-se-mueve-como-actual/\n",
            "https://maldita.es/malditobulo/2020/06/09/nino-indio-abhigya-anand-predijo-coronavirus/\n",
            "https://maldita.es/malditobulo/2020/06/05/coronavirus-bacteria-5g-autopsias-italia/\n",
            "https://maldita.es/malditobulo/2020/05/31/edificio-valencia-banderas-espana-albacete/\n",
            "https://maldita.es/malditobulo/2020/05/22/resultado-positivo-covid-19-donald-trump/\n",
            "https://maldita.es/malditobulo/2020/05/19/illa-sanitarios-protesta-primera-ministra-belga/\n",
            "https://maldita.es/malditobulo/2020/05/13/imagen-policia-deteniendo-anciana-coronavirus/\n",
            "https://maldita.es/malditobulo/2020/05/13/informe-europeo-culpa-sanchez-iglesias-gobierno-illa-graficos-muertes-coronavirus/\n",
            "https://maldita.es/malditobulo/2020/05/11/canal-venecia-cisnes-rosados-coronavirus/\n",
            "https://maldita.es/malditobulo/2020/05/08/lampara-ultravioleta-elimina-coronavirus-cinco-segundos-5/\n",
            "https://maldita.es/malditaciencia/2020/09/25/no-consumir-alimentos-alcalinos-no-ayuda-a-combatir-el-coronavirus/\n",
            "https://maldita.es/malditobulo/2020/09/25/video-presidente-guinea-golpea-ministro-salud-robar-dinero-covid-19/\n",
            "https://maldita.es/malditobulo/2020/09/22/militares-franceses-covid-19-guerra-poblacion-mundial/\n",
            "https://maldita.es/malditobulo/2020/09/17/video-cadaveres-covid-19-rusia/\n",
            "https://maldita.es/malditobulo/2020/09/16/pedro-cavadas-prefiere-morir-covid-ponerse-vacuna/\n",
            "https://maldita.es/malditobulo/2020/09/14/contener-respiracion-tiempo-punto-rojo-a-b-libres-covid-19/\n",
            "https://maldita.es/malditobulo/2020/09/11/banco-mundial-2018-covid19-tabla/\n",
            "https://maldita.es/malditaciencia/2020/09/06/video-afirmaciones-falsas-relaciona-pandemia-covid-19-vacuna-gripe/\n",
            "https://maldita.es/malditobulo/2020/09/03/bolsa-cadaveres-cuerpos-coronavirus-falsos/\n",
            "https://maldita.es/malditobulo/2020/09/01/foto-manifestaciones-negacionistas-covid-19-berlin-columna-victoria/\n",
            "https://maldita.es/malditobulo/2020/08/28/fernandosimon-cierredemadrid-falso/\n",
            "https://maldita.es/malditobulo/2020/08/19/video-patera-desembarcando-playa-chiclana-cadiz-pandemia-covid-19/\n",
            "https://maldita.es/malditobulo/2020/08/05/video-fallecido-covid-19-levantando-brazo-bolivia/\n",
            "https://maldita.es/malditobulo/2020/07/29/guardia-civil-inmigrante-huido-calpe-alicante-covid-falsa-alarma/\n",
            "https://maldita.es/malditobulo/2020/07/17/miembros-podemos-espalda-homenaje-estado-victimas-covid-19/\n",
            "https://maldita.es/malditobulo/2020/07/13/foto-jair-bolsonaro-sonda-covid-19/\n",
            "https://maldita.es/malditobulo/2020/07/03/rey-felipe-vi-500000-euros-coche-crisis-covid-19/\n",
            "https://maldita.es/malditobulo/2020/07/03/malaga-hoy-brote-bar-coronavirus/\n",
            "https://maldita.es/malditaciencia/2020/06/26/por-que-el-estudio-del-hospital-de-barbastro-no-demuestra-cientificamente-una-relacion-entre-la-covid-19-y-la-vacuna-de-la-gripe/\n",
            "https://maldita.es/malditatecnologia/2020/06/24/cadena-google-una-app-covid-secretamente-actualizacion-rastreo-contactos/\n",
            "https://maldita.es/malditobulo/2020/06/19/video-torre-eiffel-espectaculo-luces-homenaje-victimas-covid-19/\n",
            "https://maldita.es/malditobulo/2020/06/11/huye-hospital-covid-19-curen-mano/\n",
            "https://maldita.es/malditobulo/2020/06/09/cura-bebida-jengibre-limon-aspirina-canela-miel-ajo-cebolla-coronavirus/\n",
            "https://maldita.es/malditatecnologia/2020/06/08/gobierno-aplicacion-covid-19-google-telefonos-android/\n"
          ],
          "name": "stdout"
        }
      ]
    },
    {
      "cell_type": "markdown",
      "metadata": {
        "id": "u33gVrAQf3Uk"
      },
      "source": [
        "Otro punto que se observó es que todos los registros faltantes provienen del mismo dominio (maldita.es). Exceptuando: \n",
        "\n",
        ">` https://maldita.es/malditobulo/no-susan-george-no-ha-dicho-que-los-espanoles-son-como-ratas-de-laboratorio-en-relacion-a-la-crisis-del-coronavirus-la-frase-sale-de-una-entrevista-realizada-en-2012`\n",
        "\n",
        "\n",
        "\n",
        "\n",
        "\n",
        " Además, es posible obtener las fechas faltantes usando información de la columna 'url'.\n",
        "\n",
        "> `https://maldita.es/malditobulo/2020/06/09/....'`\n",
        "\n",
        "Para esto, dividimos el string de la url utilizando como referencia el símbolo '/' y extraemos el año, mes y día mediante las posiciones correspondientes"
      ]
    },
    {
      "cell_type": "code",
      "metadata": {
        "id": "rlEbUG9pnPCK",
        "outputId": "a9e2ee42-d9fb-4668-f49a-c8a5d3eeb16a",
        "colab": {
          "base_uri": "https://localhost:8080/",
          "height": 181
        }
      },
      "source": [
        "'https://maldita.es/malditobulo/2020/06/11/huye-hospital-covid-19-curen-mano/'.split('/')"
      ],
      "execution_count": 1120,
      "outputs": [
        {
          "output_type": "execute_result",
          "data": {
            "text/plain": [
              "['https:',\n",
              " '',\n",
              " 'maldita.es',\n",
              " 'malditobulo',\n",
              " '2020',\n",
              " '06',\n",
              " '11',\n",
              " 'huye-hospital-covid-19-curen-mano',\n",
              " '']"
            ]
          },
          "metadata": {
            "tags": []
          },
          "execution_count": 1120
        }
      ]
    },
    {
      "cell_type": "code",
      "metadata": {
        "id": "009nPj4b8dw2"
      },
      "source": [
        "def extract_date_from_url(url: str) -> str:\n",
        "  \"\"\" Función que extrae una fecha dado una url del dominio\n",
        "  maldita.es/malditobulo/2020 \"\"\"\n",
        "  splited_text = url.split('/')\n",
        "  if len(splited_text) > 5:\n",
        "    return '/'.join(splited_text[4:7])\n",
        "  return ' '\n",
        "  "
      ],
      "execution_count": 1121,
      "outputs": []
    },
    {
      "cell_type": "code",
      "metadata": {
        "id": "ilEwJ9A29BUH"
      },
      "source": [
        "# Aplicamos la función en las filas con valores nulos de la columna 'reviewDate'\n",
        "df_google.loc[rows_missing_date, 'reviewDate'] = df_google[rows_missing_date]['url'].apply(extract_date_from_url)"
      ],
      "execution_count": 1122,
      "outputs": []
    },
    {
      "cell_type": "code",
      "metadata": {
        "id": "ou010Pgi9mXy",
        "outputId": "aab8d0f7-39c5-467b-f554-37b6418bf215",
        "colab": {
          "base_uri": "https://localhost:8080/",
          "height": 1000
        }
      },
      "source": [
        "# Verificamos el resultado\n",
        "df_google[rows_missing_date]"
      ],
      "execution_count": 1123,
      "outputs": [
        {
          "output_type": "execute_result",
          "data": {
            "text/html": [
              "<div>\n",
              "<style scoped>\n",
              "    .dataframe tbody tr th:only-of-type {\n",
              "        vertical-align: middle;\n",
              "    }\n",
              "\n",
              "    .dataframe tbody tr th {\n",
              "        vertical-align: top;\n",
              "    }\n",
              "\n",
              "    .dataframe thead th {\n",
              "        text-align: right;\n",
              "    }\n",
              "</style>\n",
              "<table border=\"1\" class=\"dataframe\">\n",
              "  <thead>\n",
              "    <tr style=\"text-align: right;\">\n",
              "      <th></th>\n",
              "      <th>url</th>\n",
              "      <th>reviewDate</th>\n",
              "      <th>textualRating</th>\n",
              "      <th>languageCode</th>\n",
              "      <th>publisher.name</th>\n",
              "      <th>publisher.site</th>\n",
              "      <th>title</th>\n",
              "      <th>text</th>\n",
              "      <th>claimant</th>\n",
              "      <th>claimDate</th>\n",
              "      <th>out_of_context</th>\n",
              "    </tr>\n",
              "  </thead>\n",
              "  <tbody>\n",
              "    <tr>\n",
              "      <th>7</th>\n",
              "      <td>https://maldita.es/malditobulo/2020/10/06/no-ni-la-gripe-mata-mas-que-la-covid19-ni-el-coronavirus-se-ha-saltado-suecia-como-dice-este-video/</td>\n",
              "      <td>2020/10/06</td>\n",
              "      <td>Falso</td>\n",
              "      <td>es</td>\n",
              "      <td>Maldita.es</td>\n",
              "      <td>maldita.es</td>\n",
              "      <td>No, ni el coronavirus 'se ha saltado' Suecia ni la gripe mata más que la COVID-19 como dice este vídeo</td>\n",
              "      <td>La gripe mata más que el coronavirus y la COVID-19 se ha saltado Suecia</td>\n",
              "      <td>Redes sociales</td>\n",
              "      <td>2020-09-21T00:00:00Z</td>\n",
              "      <td>False</td>\n",
              "    </tr>\n",
              "    <tr>\n",
              "      <th>17</th>\n",
              "      <td>https://maldita.es/malditobulo/2020/10/02/ecuador-cura-coronavirus-ministerio-salud-enfermedad-bacteria-5g/</td>\n",
              "      <td>2020/10/02</td>\n",
              "      <td>Falso</td>\n",
              "      <td>es</td>\n",
              "      <td>Maldita.es</td>\n",
              "      <td>maldita.es</td>\n",
              "      <td>No, Ecuador no ha descubierto la cura del coronavirus ni el Ministerio de Salud ecuatoriano ha dicho que la causa de la enfermedad es una bacteria...</td>\n",
              "      <td>Ecuador ha descubierto la cura del coronavirus y el Ministerio de Salud ecuatoriano sostiene que la causa de la enfermedad es una bacteria amplifi...</td>\n",
              "      <td>Redes sociales</td>\n",
              "      <td>2020-07-22T00:00:00Z</td>\n",
              "      <td>False</td>\n",
              "    </tr>\n",
              "    <tr>\n",
              "      <th>23</th>\n",
              "      <td>https://maldita.es/malditobulo/2020/09/25/bill-gates-confirmado-implantar-chips-vacunas-covid-19/</td>\n",
              "      <td>2020/09/25</td>\n",
              "      <td>Falso</td>\n",
              "      <td>es</td>\n",
              "      <td>Maldita.es</td>\n",
              "      <td>maldita.es</td>\n",
              "      <td>No, Bill Gates no ha confirmado que van a \"implantar chips\" en las vacunas de la COVID-19</td>\n",
              "      <td>Bill Gates confirma que van a implantar chips en las vacunas del SARS-CoV-2</td>\n",
              "      <td>Redes sociales</td>\n",
              "      <td>2020-10-02T00:00:00Z</td>\n",
              "      <td>False</td>\n",
              "    </tr>\n",
              "    <tr>\n",
              "      <th>27</th>\n",
              "      <td>https://maldita.es/malditobulo/2020/09/23/cuidado-con-este-video-difundido-como-si-nos-estuvieran-enganando-haciendo-pasar-un-maniqui-por-un-pacie...</td>\n",
              "      <td>2020/09/23</td>\n",
              "      <td>Falso</td>\n",
              "      <td>es</td>\n",
              "      <td>Maldita.es</td>\n",
              "      <td>maldita.es</td>\n",
              "      <td>Cuidado con este vídeo difundido como si estuvieran haciendo pasar un maniquí por un paciente con coronavirus: es una simulación realizada en un t...</td>\n",
              "      <td>Hacen pasar un maniquí por un paciente de coronavirus</td>\n",
              "      <td>Redes sociales</td>\n",
              "      <td>2020-08-31T00:00:00Z</td>\n",
              "      <td>False</td>\n",
              "    </tr>\n",
              "    <tr>\n",
              "      <th>28</th>\n",
              "      <td>https://maldita.es/malditobulo/2020/09/21/servicio-cardiovascular-hospital-virgen-macarena-sevilla-positivo-coronavirus/</td>\n",
              "      <td>2020/09/21</td>\n",
              "      <td>Falso</td>\n",
              "      <td>es</td>\n",
              "      <td>Maldita.es</td>\n",
              "      <td>maldita.es</td>\n",
              "      <td>No, no es cierto que todo el servicio de Cardiología y Cirugía Cardiovascular del Hospital Virgen Macarena de Sevilla haya dado positivo en corona...</td>\n",
              "      <td>En el Hospital Virgen Macarena de Sevilla el servicio de cardiovascular entero ha dado positivo por coronavirus junto a varios enfermeros de urgen...</td>\n",
              "      <td>Redes sociales</td>\n",
              "      <td>2020-09-21T00:00:00Z</td>\n",
              "      <td>False</td>\n",
              "    </tr>\n",
              "    <tr>\n",
              "      <th>...</th>\n",
              "      <td>...</td>\n",
              "      <td>...</td>\n",
              "      <td>...</td>\n",
              "      <td>...</td>\n",
              "      <td>...</td>\n",
              "      <td>...</td>\n",
              "      <td>...</td>\n",
              "      <td>...</td>\n",
              "      <td>...</td>\n",
              "      <td>...</td>\n",
              "      <td>...</td>\n",
              "    </tr>\n",
              "    <tr>\n",
              "      <th>1004</th>\n",
              "      <td>https://maldita.es/malditatecnologia/2020/06/24/cadena-google-una-app-covid-secretamente-actualizacion-rastreo-contactos/</td>\n",
              "      <td>2020/06/24</td>\n",
              "      <td>Falso</td>\n",
              "      <td>es</td>\n",
              "      <td>Maldita.es</td>\n",
              "      <td>maldita.es</td>\n",
              "      <td>La cadena de WhatsApp que dice que Google está instalando una app de COVID secretamente: es una actualización para que funcionen las apps de rastr...</td>\n",
              "      <td>El banano bloquea la entrada del COVID-19 al cuerpo humano</td>\n",
              "      <td>Varias fuentes</td>\n",
              "      <td>2020-05-05T00:00:00Z</td>\n",
              "      <td>False</td>\n",
              "    </tr>\n",
              "    <tr>\n",
              "      <th>1017</th>\n",
              "      <td>https://maldita.es/malditobulo/2020/06/19/video-torre-eiffel-espectaculo-luces-homenaje-victimas-covid-19/</td>\n",
              "      <td>2020/06/19</td>\n",
              "      <td>Falso</td>\n",
              "      <td>es</td>\n",
              "      <td>Maldita.es</td>\n",
              "      <td>maldita.es</td>\n",
              "      <td>No, este vídeo de un espectáculo de luces en la Torre Eiffel no es actual ni es un homenaje a las víctimas de la COVID-19: es de 2019 por el 130º ...</td>\n",
              "      <td>Organización Mundial de la Salud lanzó una advertencia sobre el virus Nipah “más mortal que la COVID-19”</td>\n",
              "      <td>Redes sociales</td>\n",
              "      <td>2020-06-17T20:25:02Z</td>\n",
              "      <td>False</td>\n",
              "    </tr>\n",
              "    <tr>\n",
              "      <th>1034</th>\n",
              "      <td>https://maldita.es/malditobulo/2020/06/11/huye-hospital-covid-19-curen-mano/</td>\n",
              "      <td>2020/06/11</td>\n",
              "      <td>Falso</td>\n",
              "      <td>es</td>\n",
              "      <td>Maldita.es</td>\n",
              "      <td>maldita.es</td>\n",
              "      <td>No, esta persona no huye del hospital porque lo van a ingresar por COVID-19 tras ir a que le curen una mano: son imágenes de 2019 de un presunto r...</td>\n",
              "      <td>El 5G está relacionado con el coronavirus</td>\n",
              "      <td>&lt;NA&gt;</td>\n",
              "      <td>&lt;NA&gt;</td>\n",
              "      <td>False</td>\n",
              "    </tr>\n",
              "    <tr>\n",
              "      <th>1039</th>\n",
              "      <td>https://maldita.es/malditobulo/2020/06/09/cura-bebida-jengibre-limon-aspirina-canela-miel-ajo-cebolla-coronavirus/</td>\n",
              "      <td>2020/06/09</td>\n",
              "      <td>Falso</td>\n",
              "      <td>es</td>\n",
              "      <td>Maldita.es</td>\n",
              "      <td>maldita.es</td>\n",
              "      <td>No, la COVID-19 no se cura con una bebida de jengibre, limón, aspirina, canela, miel, ajo y cebolla: ninguna bebida cura o previene el coronavirus</td>\n",
              "      <td>Ningún ministro de Podemos asiste al minuto de silencio en Moncloa por los muertos por COVID-19</td>\n",
              "      <td>Varias fuentes</td>\n",
              "      <td>2020-05-27T00:00:00Z</td>\n",
              "      <td>False</td>\n",
              "    </tr>\n",
              "    <tr>\n",
              "      <th>1044</th>\n",
              "      <td>https://maldita.es/malditatecnologia/2020/06/08/gobierno-aplicacion-covid-19-google-telefonos-android/</td>\n",
              "      <td>2020/06/08</td>\n",
              "      <td>Falso</td>\n",
              "      <td>es</td>\n",
              "      <td>Maldita.es</td>\n",
              "      <td>maldita.es</td>\n",
              "      <td>No, el Gobierno no sabe dónde estamos gracias a una aplicación de COVID-19 de Google y tampoco la ha instalado sin que lo sepamos en los teléfonos...</td>\n",
              "      <td>El drenaje postural de pulmones puede sustituir a los ventiladores en pacientes con COVID-19</td>\n",
              "      <td>Varias fuentes</td>\n",
              "      <td>2020-04-29T00:00:00Z</td>\n",
              "      <td>False</td>\n",
              "    </tr>\n",
              "  </tbody>\n",
              "</table>\n",
              "<p>69 rows × 11 columns</p>\n",
              "</div>"
            ],
            "text/plain": [
              "                                                                                                                                                        url  ... out_of_context\n",
              "7             https://maldita.es/malditobulo/2020/10/06/no-ni-la-gripe-mata-mas-que-la-covid19-ni-el-coronavirus-se-ha-saltado-suecia-como-dice-este-video/  ...          False\n",
              "17                                              https://maldita.es/malditobulo/2020/10/02/ecuador-cura-coronavirus-ministerio-salud-enfermedad-bacteria-5g/  ...          False\n",
              "23                                                        https://maldita.es/malditobulo/2020/09/25/bill-gates-confirmado-implantar-chips-vacunas-covid-19/  ...          False\n",
              "27    https://maldita.es/malditobulo/2020/09/23/cuidado-con-este-video-difundido-como-si-nos-estuvieran-enganando-haciendo-pasar-un-maniqui-por-un-pacie...  ...          False\n",
              "28                                 https://maldita.es/malditobulo/2020/09/21/servicio-cardiovascular-hospital-virgen-macarena-sevilla-positivo-coronavirus/  ...          False\n",
              "...                                                                                                                                                     ...  ...            ...\n",
              "1004                              https://maldita.es/malditatecnologia/2020/06/24/cadena-google-una-app-covid-secretamente-actualizacion-rastreo-contactos/  ...          False\n",
              "1017                                             https://maldita.es/malditobulo/2020/06/19/video-torre-eiffel-espectaculo-luces-homenaje-victimas-covid-19/  ...          False\n",
              "1034                                                                           https://maldita.es/malditobulo/2020/06/11/huye-hospital-covid-19-curen-mano/  ...          False\n",
              "1039                                     https://maldita.es/malditobulo/2020/06/09/cura-bebida-jengibre-limon-aspirina-canela-miel-ajo-cebolla-coronavirus/  ...          False\n",
              "1044                                                 https://maldita.es/malditatecnologia/2020/06/08/gobierno-aplicacion-covid-19-google-telefonos-android/  ...          False\n",
              "\n",
              "[69 rows x 11 columns]"
            ]
          },
          "metadata": {
            "tags": []
          },
          "execution_count": 1123
        }
      ]
    },
    {
      "cell_type": "code",
      "metadata": {
        "id": "_1rWuZHij4la",
        "outputId": "724d102b-dc1c-489c-ca13-86d0de9a5085",
        "colab": {
          "base_uri": "https://localhost:8080/",
          "height": 340
        }
      },
      "source": [
        "df_google[df_google['reviewDate'].apply(lambda x: len(str(x))<10)]"
      ],
      "execution_count": 1124,
      "outputs": [
        {
          "output_type": "execute_result",
          "data": {
            "text/html": [
              "<div>\n",
              "<style scoped>\n",
              "    .dataframe tbody tr th:only-of-type {\n",
              "        vertical-align: middle;\n",
              "    }\n",
              "\n",
              "    .dataframe tbody tr th {\n",
              "        vertical-align: top;\n",
              "    }\n",
              "\n",
              "    .dataframe thead th {\n",
              "        text-align: right;\n",
              "    }\n",
              "</style>\n",
              "<table border=\"1\" class=\"dataframe\">\n",
              "  <thead>\n",
              "    <tr style=\"text-align: right;\">\n",
              "      <th></th>\n",
              "      <th>url</th>\n",
              "      <th>reviewDate</th>\n",
              "      <th>textualRating</th>\n",
              "      <th>languageCode</th>\n",
              "      <th>publisher.name</th>\n",
              "      <th>publisher.site</th>\n",
              "      <th>title</th>\n",
              "      <th>text</th>\n",
              "      <th>claimant</th>\n",
              "      <th>claimDate</th>\n",
              "      <th>out_of_context</th>\n",
              "    </tr>\n",
              "  </thead>\n",
              "  <tbody>\n",
              "    <tr>\n",
              "      <th>104</th>\n",
              "      <td>https://maldita.es/malditobulo/no-susan-george-no-ha-dicho-que-los-espanoles-son-como-ratas-de-laboratorio-en-relacion-a-la-crisis-del-coronavirus...</td>\n",
              "      <td></td>\n",
              "      <td>Falso</td>\n",
              "      <td>es</td>\n",
              "      <td>Maldita.es</td>\n",
              "      <td>maldita.es</td>\n",
              "      <td>No, Susan George no ha dicho que 'los españoles son como ratas de laboratorio' en relación a la crisis del coronavirus: la frase sale de una entre...</td>\n",
              "      <td>Inhalar eucalipto previene y elimina el nuevo coronavirus</td>\n",
              "      <td>&lt;NA&gt;</td>\n",
              "      <td>2020-07-07T00:00:00Z</td>\n",
              "      <td>False</td>\n",
              "    </tr>\n",
              "  </tbody>\n",
              "</table>\n",
              "</div>"
            ],
            "text/plain": [
              "                                                                                                                                                       url  ... out_of_context\n",
              "104  https://maldita.es/malditobulo/no-susan-george-no-ha-dicho-que-los-espanoles-son-como-ratas-de-laboratorio-en-relacion-a-la-crisis-del-coronavirus...  ...          False\n",
              "\n",
              "[1 rows x 11 columns]"
            ]
          },
          "metadata": {
            "tags": []
          },
          "execution_count": 1124
        }
      ]
    },
    {
      "cell_type": "markdown",
      "metadata": {
        "id": "P5x5Aaedq5P8"
      },
      "source": [
        "Agregamos manualmente la fecha del artículo restante"
      ]
    },
    {
      "cell_type": "code",
      "metadata": {
        "id": "amG63xsYrCTO"
      },
      "source": [
        "df_google.loc[104, 'reviewDate'] = '2020/07/22'"
      ],
      "execution_count": 1125,
      "outputs": []
    },
    {
      "cell_type": "markdown",
      "metadata": {
        "id": "5w_YngPejaIe"
      },
      "source": [
        "Transformemos la columna 'reviewDate' de string a un tipo 'datetime' y visualicemos el rango de valores."
      ]
    },
    {
      "cell_type": "code",
      "metadata": {
        "id": "_aXRR40fnz8Y",
        "outputId": "3cb19bcc-53b1-470d-dde9-50f3dded90b3",
        "colab": {
          "base_uri": "https://localhost:8080/",
          "height": 307
        }
      },
      "source": [
        "# Convert to datetime\n",
        "df_google['reviewDate'] = pd.to_datetime(df_google['reviewDate'], yearfirst=True, utc=True)\n",
        "# Group by reviewDate for the visualization\n",
        "df_google.groupby('reviewDate').count()['title'].plot(figsize=(16, 6))\n",
        "plt.text(x=df_google['reviewDate'].min(), \n",
        "         y=8, s=f\"MIN: {df_google['reviewDate'].min()}\", rotation=0);\n",
        "plt.text(x=df_google['reviewDate'].max()-np.timedelta64(50, 'D'), \n",
        "         y=8, s=f\"MAX: {df_google['reviewDate'].max()}\", rotation=0);"
      ],
      "execution_count": 1126,
      "outputs": [
        {
          "output_type": "display_data",
          "data": {
            "image/png": "[encoded data removed]",
            "text/plain": [
              "<Figure size 1152x432 with 1 Axes>"
            ]
          },
          "metadata": {
            "tags": [],
            "needs_background": "light"
          }
        }
      ]
    },
    {
      "cell_type": "markdown",
      "metadata": {
        "id": "10ZwNA4zlRYV"
      },
      "source": [
        "El rango es acorde a las fechas de inicio y actual"
      ]
    },
    {
      "cell_type": "markdown",
      "metadata": {
        "id": "Jh0W6zf2oala"
      },
      "source": [
        "# Chequeado\n",
        "Se realizó un procedimiendo similar al descrito en la sección previa"
      ]
    },
    {
      "cell_type": "code",
      "metadata": {
        "id": "t1tDDg-Cocjb",
        "outputId": "817c75de-c3d7-4e61-90bd-e0754a2c9eff",
        "colab": {
          "base_uri": "https://localhost:8080/",
          "height": 1000
        }
      },
      "source": [
        "data = 'https://raw.githubusercontent.com/christianvadillo/InfoVac/main/data/raw/chequeado_articles.csv'\n",
        "df_cheq = pd.read_csv(data, na_values=' ')\n",
        "df_cheq"
      ],
      "execution_count": 1127,
      "outputs": [
        {
          "output_type": "execute_result",
          "data": {
            "text/html": [
              "<div>\n",
              "<style scoped>\n",
              "    .dataframe tbody tr th:only-of-type {\n",
              "        vertical-align: middle;\n",
              "    }\n",
              "\n",
              "    .dataframe tbody tr th {\n",
              "        vertical-align: top;\n",
              "    }\n",
              "\n",
              "    .dataframe thead th {\n",
              "        text-align: right;\n",
              "    }\n",
              "</style>\n",
              "<table border=\"1\" class=\"dataframe\">\n",
              "  <thead>\n",
              "    <tr style=\"text-align: right;\">\n",
              "      <th></th>\n",
              "      <th>pais</th>\n",
              "      <th>titulo</th>\n",
              "      <th>calificacion</th>\n",
              "      <th>descripcion</th>\n",
              "      <th>fecha del chequeo</th>\n",
              "      <th>organizacion</th>\n",
              "      <th>link al chequeo</th>\n",
              "      <th>tipo de informacion</th>\n",
              "      <th>formato de la desinformacion</th>\n",
              "      <th>tipo de nota</th>\n",
              "      <th>link a la desinformacion</th>\n",
              "      <th>fecha deteccion desinformacion</th>\n",
              "      <th>origen</th>\n",
              "      <th>persona</th>\n",
              "      <th>actualizaciones</th>\n",
              "      <th>circulo en otros paises</th>\n",
              "      <th>extra</th>\n",
              "    </tr>\n",
              "  </thead>\n",
              "  <tbody>\n",
              "    <tr>\n",
              "      <th>0</th>\n",
              "      <td>Argentina</td>\n",
              "      <td>Confirmado un caso de Coronavirus en Santiago del Estero</td>\n",
              "      <td>Falso</td>\n",
              "      <td>El Ministerio de Salud de la provincia afirmó que se trataba de una desinformación.</td>\n",
              "      <td>27/02/2020</td>\n",
              "      <td>Chequeado</td>\n",
              "      <td>https://chequeado.com/verificacionfb/no-no-se-confirmo-un-caso-de-coronavirus-en-santiago-del-estero/</td>\n",
              "      <td>Situación de un país</td>\n",
              "      <td>Imagen</td>\n",
              "      <td>Desinformación viral</td>\n",
              "      <td>https://drive.google.com/file/d/18MViCcWRoVVVgzBOSmdBiV4FNYIRzT0M/view</td>\n",
              "      <td>26/02/2020</td>\n",
              "      <td>Facebook</td>\n",
              "      <td>Desconocido</td>\n",
              "      <td>NaN</td>\n",
              "      <td>\\n</td>\n",
              "      <td>NaN</td>\n",
              "    </tr>\n",
              "    <tr>\n",
              "      <th>1</th>\n",
              "      <td>Argentina</td>\n",
              "      <td>Confirmado un caso de Coronavirus en Chaco.</td>\n",
              "      <td>Falso</td>\n",
              "      <td>El Ministerio de Salud de la provincia afirmó que se trataba de una desinformación.</td>\n",
              "      <td>27/02/2020</td>\n",
              "      <td>Chequeado</td>\n",
              "      <td>https://chequeado.com/verificacionfb/es-falso-que-se-confirmo-un-caso-de-coronavirus-en-chaco/</td>\n",
              "      <td>Situación de un país</td>\n",
              "      <td>Imagen</td>\n",
              "      <td>Desinformación viral</td>\n",
              "      <td>https://drive.google.com/file/d/1SJ2-A3WCr-vodR1jwoJz5wEfIOo2-70T/view</td>\n",
              "      <td>NaN</td>\n",
              "      <td>Facebook</td>\n",
              "      <td>Desconocido</td>\n",
              "      <td>NaN</td>\n",
              "      <td>\\n</td>\n",
              "      <td>NaN</td>\n",
              "    </tr>\n",
              "    <tr>\n",
              "      <th>2</th>\n",
              "      <td>Argentina</td>\n",
              "      <td>Un médico argentino descubrió y está aplicando una vacuna contra el coronavirus en España.</td>\n",
              "      <td>Falso</td>\n",
              "      <td>La OMS informa que hasta el momento no existe una vacuna o medicamento antiviral específico para prevenir o tratar el Coronavirus</td>\n",
              "      <td>27/02/2020</td>\n",
              "      <td>Chequeado</td>\n",
              "      <td>https://chequeado.com/verificacionfb/es-falso-que-un-medico-argentino-descubrio-y-esta-aplicando-una-vacuna-contra-el-coronavirus-en-espana/</td>\n",
              "      <td>Curas</td>\n",
              "      <td>Imagen, Texto</td>\n",
              "      <td>Desinformación viral</td>\n",
              "      <td>https://drive.google.com/file/d/1FYpMz5CN3ZyySHa8w8wQsea6ap_Bq2Mc/view</td>\n",
              "      <td>NaN</td>\n",
              "      <td>Redes sociales, Whatsapp</td>\n",
              "      <td>Desconocido</td>\n",
              "      <td>NaN</td>\n",
              "      <td>España \\n</td>\n",
              "      <td>NaN</td>\n",
              "    </tr>\n",
              "    <tr>\n",
              "      <th>3</th>\n",
              "      <td>Argentina</td>\n",
              "      <td>Presidente de Argentina, Alberto Fernández: “La OMS recomienda que uno tome muchas bebidas calientes porque el calor mata al virus”.</td>\n",
              "      <td>Falso</td>\n",
              "      <td>La OMS no emitió ninguna recomendación sobre el consumo de bebidas para la prevención del Coronavirus y especialistas hasta dicen que podría llega...</td>\n",
              "      <td>12/03/2020</td>\n",
              "      <td>Chequeado</td>\n",
              "      <td>https://chequeado.com/ultimas-noticias/alberto-fernandez-la-organizacion-mundial-de-la-salud-entre-las-cosas-que-recomienda-es-que-uno-tome-muchas...</td>\n",
              "      <td>Curas</td>\n",
              "      <td>Audio</td>\n",
              "      <td>Chequeo a figuras públicas</td>\n",
              "      <td>NaN</td>\n",
              "      <td>12/03/2020</td>\n",
              "      <td>Otros</td>\n",
              "      <td>Alberto Fernández (presidente de Argentina)</td>\n",
              "      <td>NaN</td>\n",
              "      <td>España, Hong Kong, Colombia \\n</td>\n",
              "      <td>NaN</td>\n",
              "    </tr>\n",
              "    <tr>\n",
              "      <th>4</th>\n",
              "      <td>Argentina</td>\n",
              "      <td>El presidente de Argentina, Alberto Fernández, dijo que el coronavirus muere a los 26° C en el ambiente.</td>\n",
              "      <td>Insostenible</td>\n",
              "      <td>Todavía no hay un consenso científico sobre el impacto de la temperatura ambiente en este virus en particular.</td>\n",
              "      <td>12/03/2020</td>\n",
              "      <td>Chequeado</td>\n",
              "      <td>https://chequeado.com/ultimas-noticias/alberto-fernandez-dijo-que-el-coronavirus-muere-a-los-26-c-pero-no-hay-pruebas-de-eso/</td>\n",
              "      <td>Características del virus</td>\n",
              "      <td>Audio</td>\n",
              "      <td>Chequeo a figuras públicas</td>\n",
              "      <td>NaN</td>\n",
              "      <td>12/03/2020</td>\n",
              "      <td>Otros</td>\n",
              "      <td>Alberto Fernández (presidente de Argentina)</td>\n",
              "      <td>NaN</td>\n",
              "      <td>México \\n</td>\n",
              "      <td>NaN</td>\n",
              "    </tr>\n",
              "    <tr>\n",
              "      <th>...</th>\n",
              "      <td>...</td>\n",
              "      <td>...</td>\n",
              "      <td>...</td>\n",
              "      <td>...</td>\n",
              "      <td>...</td>\n",
              "      <td>...</td>\n",
              "      <td>...</td>\n",
              "      <td>...</td>\n",
              "      <td>...</td>\n",
              "      <td>...</td>\n",
              "      <td>...</td>\n",
              "      <td>...</td>\n",
              "      <td>...</td>\n",
              "      <td>...</td>\n",
              "      <td>...</td>\n",
              "      <td>...</td>\n",
              "      <td>...</td>\n",
              "    </tr>\n",
              "    <tr>\n",
              "      <th>3061</th>\n",
              "      <td>España</td>\n",
              "      <td>El chalet de Aravaca (Madrid, España) que desalojó la Policía Nacional por una fiesta con 200 personas es del ex presidente español José Luis Rodr...</td>\n",
              "      <td>Falso</td>\n",
              "      <td>El ex presidente español Zapatero no es el propietario, su casa está en otro lugar y la policía lo negó.</td>\n",
              "      <td>05/10/2020</td>\n",
              "      <td>Maldita.es</td>\n",
              "      <td>https://maldita.es/malditobulo/2020/10/05/fiesta-aravaca-200-personas-chalet-zapatero-psoe-desalojada-policia-nacional-madrid/</td>\n",
              "      <td>Otros</td>\n",
              "      <td>Texto</td>\n",
              "      <td>Desinformación viral</td>\n",
              "      <td>https://maldita.es/app/uploads/2020/10/BULO.jpg</td>\n",
              "      <td>NaN</td>\n",
              "      <td>Facebook, Twitter</td>\n",
              "      <td>Desconocido</td>\n",
              "      <td>NaN</td>\n",
              "      <td>\\n</td>\n",
              "      <td>NaN</td>\n",
              "    </tr>\n",
              "    <tr>\n",
              "      <th>3062</th>\n",
              "      <td>España</td>\n",
              "      <td>Una imagen de teléfonos descolgados en un centro sanitario en España</td>\n",
              "      <td>Falso</td>\n",
              "      <td>No es España, es Polonia. En la foto aparece el logo de un Health Fond en Polonia.</td>\n",
              "      <td>05/10/2020</td>\n",
              "      <td>Maldita.es</td>\n",
              "      <td>https://maldita.es/malditobulo/2020/10/05/telefonos-descolgados-centro-sanitario/</td>\n",
              "      <td>Otros</td>\n",
              "      <td>Imagen</td>\n",
              "      <td>Desinformación viral</td>\n",
              "      <td>https://maldita.es/app/uploads/2020/10/BULO-no-cogen-tel%C3%A9fono-centro-salud.jpg</td>\n",
              "      <td>NaN</td>\n",
              "      <td>Twitter</td>\n",
              "      <td>Desconocido</td>\n",
              "      <td>NaN</td>\n",
              "      <td>\\n</td>\n",
              "      <td>NaN</td>\n",
              "    </tr>\n",
              "    <tr>\n",
              "      <th>3063</th>\n",
              "      <td>España</td>\n",
              "      <td>The Lancet ha negado la existencia de la COVID-19 y se ha vuelto  conspiracionista</td>\n",
              "      <td>Falso</td>\n",
              "      <td>The Lancet no niega que haya una pandemia, solo usa otro nombre que incluye pandemia y otros elementos.</td>\n",
              "      <td>05/10/2020</td>\n",
              "      <td>Maldita.es</td>\n",
              "      <td>https://maldita.es/malditaciencia/2020/10/05/the-lancet-no-niega-existencia-covid19-no-conspiracionista-cambio-pandemia-sindemia-factores/</td>\n",
              "      <td>Otros</td>\n",
              "      <td>Imagen</td>\n",
              "      <td>Desinformación viral</td>\n",
              "      <td>NaN</td>\n",
              "      <td>NaN</td>\n",
              "      <td>Redes sociales</td>\n",
              "      <td>Desconocido</td>\n",
              "      <td>NaN</td>\n",
              "      <td>\\n</td>\n",
              "      <td>NaN</td>\n",
              "    </tr>\n",
              "    <tr>\n",
              "      <th>3064</th>\n",
              "      <td>España</td>\n",
              "      <td>Una imagen de una patente en Países Bajos de un método para «testear el COVID-19» desde 2015</td>\n",
              "      <td>Falso</td>\n",
              "      <td>Un bulo en redes sociales indica que, en 2015, la familia Rothschild registró una patente para hacer tests de “COVID-19”. Es falso, se trata de la...</td>\n",
              "      <td>05/10/2020</td>\n",
              "      <td>Newtral.es</td>\n",
              "      <td>https://www.newtral.es/bulo-paises-bajos-patente-datos-covid-19/20201005/</td>\n",
              "      <td>Pruebas</td>\n",
              "      <td>Imagen</td>\n",
              "      <td>Desinformación viral</td>\n",
              "      <td>https://www.newtral.es/wp-content/uploads/2020/10/paises-bajos-1200x672.jpg</td>\n",
              "      <td>NaN</td>\n",
              "      <td>Facebook</td>\n",
              "      <td>Desconocido</td>\n",
              "      <td>NaN</td>\n",
              "      <td>\\n</td>\n",
              "      <td>NaN</td>\n",
              "    </tr>\n",
              "    <tr>\n",
              "      <th>3065</th>\n",
              "      <td>España</td>\n",
              "      <td>Imágenes sobre un supuesto levantamiento social en Canadá por las medidas anti COVID19</td>\n",
              "      <td>Engañoso</td>\n",
              "      <td>El vídeo, manipulado, mezcla imágenes de manifestaciones estudiantiles en 2013 con protestas actuales contra las medidas aprobadas por el gobierno...</td>\n",
              "      <td>06/10/2020</td>\n",
              "      <td>Newtral.es</td>\n",
              "      <td>https://www.newtral.es/imagenes-falsean-levantamiento-canada-medidas-coronavirus/20201006/</td>\n",
              "      <td>Situación de un país</td>\n",
              "      <td>Video</td>\n",
              "      <td>Desinformación viral</td>\n",
              "      <td>NaN</td>\n",
              "      <td>NaN</td>\n",
              "      <td>Facebook</td>\n",
              "      <td>Desconocido</td>\n",
              "      <td>Canadá</td>\n",
              "      <td>NaN</td>\n",
              "      <td>NaN</td>\n",
              "    </tr>\n",
              "  </tbody>\n",
              "</table>\n",
              "<p>3066 rows × 17 columns</p>\n",
              "</div>"
            ],
            "text/plain": [
              "             pais  ... extra\n",
              "0      Argentina   ...   NaN\n",
              "1      Argentina   ...   NaN\n",
              "2      Argentina   ...   NaN\n",
              "3      Argentina   ...   NaN\n",
              "4      Argentina   ...   NaN\n",
              "...           ...  ...   ...\n",
              "3061      España   ...   NaN\n",
              "3062      España   ...   NaN\n",
              "3063      España   ...   NaN\n",
              "3064      España   ...   NaN\n",
              "3065      España   ...   NaN\n",
              "\n",
              "[3066 rows x 17 columns]"
            ]
          },
          "metadata": {
            "tags": []
          },
          "execution_count": 1127
        }
      ]
    },
    {
      "cell_type": "code",
      "metadata": {
        "id": "etNolOOEpWIz"
      },
      "source": [
        "df_cheq = df_cheq.convert_dtypes()"
      ],
      "execution_count": 1128,
      "outputs": []
    },
    {
      "cell_type": "markdown",
      "metadata": {
        "id": "Yuklb8U2pWI2"
      },
      "source": [
        "## Duplicados? "
      ]
    },
    {
      "cell_type": "code",
      "metadata": {
        "id": "q_KTwLtypWI3",
        "outputId": "18d0590c-9dc9-4041-927e-356e1693dac3",
        "colab": {
          "base_uri": "https://localhost:8080/",
          "height": 35
        }
      },
      "source": [
        "df_cheq['descripcion'].duplicated().sum()"
      ],
      "execution_count": 1129,
      "outputs": [
        {
          "output_type": "execute_result",
          "data": {
            "text/plain": [
              "25"
            ]
          },
          "metadata": {
            "tags": []
          },
          "execution_count": 1129
        }
      ]
    },
    {
      "cell_type": "code",
      "metadata": {
        "id": "N18gzc5YpWI5"
      },
      "source": [
        "df_cheq.drop_duplicates('descripcion', keep='first', inplace=True)"
      ],
      "execution_count": 1130,
      "outputs": []
    },
    {
      "cell_type": "code",
      "metadata": {
        "id": "76ksiH8spWI9",
        "outputId": "85d54556-dcb3-48fe-e3a1-11d4b8d5d6de",
        "colab": {
          "base_uri": "https://localhost:8080/",
          "height": 35
        }
      },
      "source": [
        "df_cheq['descripcion'].duplicated().sum()"
      ],
      "execution_count": 1131,
      "outputs": [
        {
          "output_type": "execute_result",
          "data": {
            "text/plain": [
              "0"
            ]
          },
          "metadata": {
            "tags": []
          },
          "execution_count": 1131
        }
      ]
    },
    {
      "cell_type": "markdown",
      "metadata": {
        "id": "AxWAnEpzpWJC"
      },
      "source": [
        "## Datos faltantes?"
      ]
    },
    {
      "cell_type": "code",
      "metadata": {
        "id": "s_onS0GCpWJC",
        "outputId": "1e2ef41d-a3e9-4ad5-9d2c-ccf3d5aa392d",
        "colab": {
          "base_uri": "https://localhost:8080/",
          "height": 345
        }
      },
      "source": [
        "df_cheq.isnull().sum() / len(df_cheq) * 100"
      ],
      "execution_count": 1132,
      "outputs": [
        {
          "output_type": "execute_result",
          "data": {
            "text/plain": [
              "pais                               0.000000\n",
              "titulo                             0.000000\n",
              "calificacion                      19.960539\n",
              "descripcion                        0.032884\n",
              "fecha del chequeo                  0.098652\n",
              "organizacion                       0.000000\n",
              "link al chequeo                    0.000000\n",
              "tipo de informacion                0.000000\n",
              "formato de la desinformacion      18.151924\n",
              "tipo de nota                       0.131536\n",
              "link a la desinformacion          71.029267\n",
              "fecha deteccion desinformacion    92.338047\n",
              "origen                            18.941138\n",
              "persona                           19.072673\n",
              "actualizaciones                   98.914831\n",
              "circulo en otros paises            0.230187\n",
              "extra                             99.802696\n",
              "dtype: float64"
            ]
          },
          "metadata": {
            "tags": []
          },
          "execution_count": 1132
        }
      ]
    },
    {
      "cell_type": "markdown",
      "metadata": {
        "id": "Wl3xKG66t1z_"
      },
      "source": [
        "Encontramos que hay columnas con muchos valores faltantes. Analicemos primero la columna 'calificación'"
      ]
    },
    {
      "cell_type": "code",
      "metadata": {
        "id": "erNVIlzbDXT7",
        "outputId": "a957258c-7cc5-4cb1-e519-fe7b7a92d419",
        "colab": {
          "base_uri": "https://localhost:8080/",
          "height": 1000
        }
      },
      "source": [
        "df_cheq[df_cheq['calificacion'].isnull()]"
      ],
      "execution_count": 1133,
      "outputs": [
        {
          "output_type": "execute_result",
          "data": {
            "text/html": [
              "<div>\n",
              "<style scoped>\n",
              "    .dataframe tbody tr th:only-of-type {\n",
              "        vertical-align: middle;\n",
              "    }\n",
              "\n",
              "    .dataframe tbody tr th {\n",
              "        vertical-align: top;\n",
              "    }\n",
              "\n",
              "    .dataframe thead th {\n",
              "        text-align: right;\n",
              "    }\n",
              "</style>\n",
              "<table border=\"1\" class=\"dataframe\">\n",
              "  <thead>\n",
              "    <tr style=\"text-align: right;\">\n",
              "      <th></th>\n",
              "      <th>pais</th>\n",
              "      <th>titulo</th>\n",
              "      <th>calificacion</th>\n",
              "      <th>descripcion</th>\n",
              "      <th>fecha del chequeo</th>\n",
              "      <th>organizacion</th>\n",
              "      <th>link al chequeo</th>\n",
              "      <th>tipo de informacion</th>\n",
              "      <th>formato de la desinformacion</th>\n",
              "      <th>tipo de nota</th>\n",
              "      <th>link a la desinformacion</th>\n",
              "      <th>fecha deteccion desinformacion</th>\n",
              "      <th>origen</th>\n",
              "      <th>persona</th>\n",
              "      <th>actualizaciones</th>\n",
              "      <th>circulo en otros paises</th>\n",
              "      <th>extra</th>\n",
              "    </tr>\n",
              "  </thead>\n",
              "  <tbody>\n",
              "    <tr>\n",
              "      <th>107</th>\n",
              "      <td>España</td>\n",
              "      <td>Una sanitaria habla de pacientes jóvenes, sin patología, que van a morir por coronavirus en la Fundación Jiménez Díaz</td>\n",
              "      <td>&lt;NA&gt;</td>\n",
              "      <td>El jefe de la UCI de la Fundación Jiménez Díaz ha afirmado en una circular interna que es falso que los jóvenes tengan ninguna patología asociada ...</td>\n",
              "      <td>12/03/2020</td>\n",
              "      <td>Maldita.es</td>\n",
              "      <td>https://maldita.es/malditobulo/2020/03/16/coronavirus-jovenes-jimenez-diaz-se-van-a-morir-whatsapp/</td>\n",
              "      <td>Situación de un país</td>\n",
              "      <td>Audio</td>\n",
              "      <td>Explicador</td>\n",
              "      <td>&lt;NA&gt;</td>\n",
              "      <td>&lt;NA&gt;</td>\n",
              "      <td>Whatsapp</td>\n",
              "      <td>Desconocido</td>\n",
              "      <td>&lt;NA&gt;</td>\n",
              "      <td></td>\n",
              "      <td>&lt;NA&gt;</td>\n",
              "    </tr>\n",
              "    <tr>\n",
              "      <th>111</th>\n",
              "      <td>España</td>\n",
              "      <td>El coronavirus y el calor: ¿COVID-19 desaparecerá por las temperaturas altas?</td>\n",
              "      <td>&lt;NA&gt;</td>\n",
              "      <td>Cuando se publicó esta verificación, aún no había evidencia científica suficiente para demostrar que el virus podría desaparecer con altas tempera...</td>\n",
              "      <td>28/02/2020</td>\n",
              "      <td>Maldita.es</td>\n",
              "      <td>https://maldita.es/malditaciencia/2020/03/25/coronavirus-calor-temperatura/</td>\n",
              "      <td>Curas</td>\n",
              "      <td>Otro</td>\n",
              "      <td>Explicador</td>\n",
              "      <td>&lt;NA&gt;</td>\n",
              "      <td>&lt;NA&gt;</td>\n",
              "      <td>&lt;NA&gt;</td>\n",
              "      <td>&lt;NA&gt;</td>\n",
              "      <td>&lt;NA&gt;</td>\n",
              "      <td></td>\n",
              "      <td>&lt;NA&gt;</td>\n",
              "    </tr>\n",
              "    <tr>\n",
              "      <th>112</th>\n",
              "      <td>España</td>\n",
              "      <td>Cartas y paquetes enviados de China podrían transmitir el virus.</td>\n",
              "      <td>&lt;NA&gt;</td>\n",
              "      <td>Según la OMS, los coronavirus no sobreviven mucho tiempo en objetos, como las cartas o los paquetes.</td>\n",
              "      <td>26/02/2020</td>\n",
              "      <td>Maldita.es</td>\n",
              "      <td>https://maldita.es/malditaciencia/2020/03/26/coronavirus-vivos-superficies-proteccion-infeccion/</td>\n",
              "      <td>Características del virus</td>\n",
              "      <td>Otro</td>\n",
              "      <td>Explicador</td>\n",
              "      <td>&lt;NA&gt;</td>\n",
              "      <td>&lt;NA&gt;</td>\n",
              "      <td>&lt;NA&gt;</td>\n",
              "      <td>&lt;NA&gt;</td>\n",
              "      <td>&lt;NA&gt;</td>\n",
              "      <td></td>\n",
              "      <td>&lt;NA&gt;</td>\n",
              "    </tr>\n",
              "    <tr>\n",
              "      <th>113</th>\n",
              "      <td>España</td>\n",
              "      <td>Cuándo deben usarse mascarillas con el coronavirus Covid-19.</td>\n",
              "      <td>&lt;NA&gt;</td>\n",
              "      <td>Salvo excepciones, las mascarillas no están entre las medidas de protección y prevención que recomienda el Ministerio de Sanidad y la Organización...</td>\n",
              "      <td>26/02/2020</td>\n",
              "      <td>Maldita.es</td>\n",
              "      <td>https://maldita.es/malditaciencia/2020/03/11/mascarillas-coronavirus-proteccion/</td>\n",
              "      <td>Prevención</td>\n",
              "      <td>Otro</td>\n",
              "      <td>Explicador</td>\n",
              "      <td>&lt;NA&gt;</td>\n",
              "      <td>&lt;NA&gt;</td>\n",
              "      <td>&lt;NA&gt;</td>\n",
              "      <td>&lt;NA&gt;</td>\n",
              "      <td>&lt;NA&gt;</td>\n",
              "      <td></td>\n",
              "      <td>&lt;NA&gt;</td>\n",
              "    </tr>\n",
              "    <tr>\n",
              "      <th>115</th>\n",
              "      <td>España</td>\n",
              "      <td>¿Qué sabemos sobre la sopa de murciélago y su relación con el origen del coronavirus?</td>\n",
              "      <td>&lt;NA&gt;</td>\n",
              "      <td>Aunque los murciélagos sí pueden ser conductores del coronavirus, no estaba confirmado en el momento de la verificación que la pandemia se haya or...</td>\n",
              "      <td>30/01/2020</td>\n",
              "      <td>Maldita.es</td>\n",
              "      <td>https://maldita.es/malditaciencia/2020/01/30/que-sabemos-sobre-la-sopa-de-murcielago-y-su-relacion-con-el-origen-del-coronavirus/</td>\n",
              "      <td>Origen del virus</td>\n",
              "      <td>Video</td>\n",
              "      <td>Explicador</td>\n",
              "      <td>&lt;NA&gt;</td>\n",
              "      <td>&lt;NA&gt;</td>\n",
              "      <td>&lt;NA&gt;</td>\n",
              "      <td>&lt;NA&gt;</td>\n",
              "      <td>&lt;NA&gt;</td>\n",
              "      <td></td>\n",
              "      <td>&lt;NA&gt;</td>\n",
              "    </tr>\n",
              "    <tr>\n",
              "      <th>...</th>\n",
              "      <td>...</td>\n",
              "      <td>...</td>\n",
              "      <td>...</td>\n",
              "      <td>...</td>\n",
              "      <td>...</td>\n",
              "      <td>...</td>\n",
              "      <td>...</td>\n",
              "      <td>...</td>\n",
              "      <td>...</td>\n",
              "      <td>...</td>\n",
              "      <td>...</td>\n",
              "      <td>...</td>\n",
              "      <td>...</td>\n",
              "      <td>...</td>\n",
              "      <td>...</td>\n",
              "      <td>...</td>\n",
              "      <td>...</td>\n",
              "    </tr>\n",
              "    <tr>\n",
              "      <th>3025</th>\n",
              "      <td>España</td>\n",
              "      <td>Qué dice la evidencia científica sobre el cierre de parques y jardines para evitar contagios</td>\n",
              "      <td>&lt;NA&gt;</td>\n",
              "      <td>Ha vuelto a pasar: muchos parques han cerrado y muchos otros lo harán si se aprueba el borrador de la propuesta que el ministro de Sanidad, Salvad...</td>\n",
              "      <td>30/09/2020</td>\n",
              "      <td>Maldita.es</td>\n",
              "      <td>https://maldita.es/malditaciencia/2020/10/05/cerrar-parques-no-medida-prioritaria-evidencias-cientificas/</td>\n",
              "      <td>Contagios</td>\n",
              "      <td>&lt;NA&gt;</td>\n",
              "      <td>Explicador</td>\n",
              "      <td>&lt;NA&gt;</td>\n",
              "      <td>&lt;NA&gt;</td>\n",
              "      <td>&lt;NA&gt;</td>\n",
              "      <td>&lt;NA&gt;</td>\n",
              "      <td>&lt;NA&gt;</td>\n",
              "      <td></td>\n",
              "      <td>&lt;NA&gt;</td>\n",
              "    </tr>\n",
              "    <tr>\n",
              "      <th>3026</th>\n",
              "      <td>España</td>\n",
              "      <td>Por qué no hace falta quitarse la mascarilla periódicamente para tomar oxígeno ni para ventilar el rostro</td>\n",
              "      <td>&lt;NA&gt;</td>\n",
              "      <td>En las últimas semanas, diferentes medios se han referido a si es recomendable realizar descansos periódicos cuando se usa la mascarilla para pode...</td>\n",
              "      <td>05/10/2020</td>\n",
              "      <td>Maldita.es</td>\n",
              "      <td>https://maldita.es/malditaciencia/2020/10/05/quitarse-mascarilla-periodicamente-no-tomar-oxigeno-ventilar-rostro/</td>\n",
              "      <td>Prevención</td>\n",
              "      <td>&lt;NA&gt;</td>\n",
              "      <td>Explicador</td>\n",
              "      <td>&lt;NA&gt;</td>\n",
              "      <td>&lt;NA&gt;</td>\n",
              "      <td>&lt;NA&gt;</td>\n",
              "      <td>&lt;NA&gt;</td>\n",
              "      <td>&lt;NA&gt;</td>\n",
              "      <td></td>\n",
              "      <td>&lt;NA&gt;</td>\n",
              "    </tr>\n",
              "    <tr>\n",
              "      <th>3027</th>\n",
              "      <td>España</td>\n",
              "      <td>¿Cómo varió la valoración de Jair Bolsonaro y de Boris Johnson tras dar positivo en COVID-19?</td>\n",
              "      <td>&lt;NA&gt;</td>\n",
              "      <td>El presidente de Estados Unidos Donald Trump ha dado positivo en COVID-19. Pero no es el primer líder mundial en ser infectado por el coronavirus ...</td>\n",
              "      <td>02/10/2020</td>\n",
              "      <td>Maldita.es</td>\n",
              "      <td>https://maldita.es/maldita-te-explica/2020/10/02/efecto-coronavirus-covid-encuestas-valoracion-trump-bolsonaro-johnson/</td>\n",
              "      <td>Contagios</td>\n",
              "      <td>&lt;NA&gt;</td>\n",
              "      <td>Explicador</td>\n",
              "      <td>&lt;NA&gt;</td>\n",
              "      <td>&lt;NA&gt;</td>\n",
              "      <td>&lt;NA&gt;</td>\n",
              "      <td>&lt;NA&gt;</td>\n",
              "      <td>&lt;NA&gt;</td>\n",
              "      <td></td>\n",
              "      <td>&lt;NA&gt;</td>\n",
              "    </tr>\n",
              "    <tr>\n",
              "      <th>3034</th>\n",
              "      <td>Argentina</td>\n",
              "      <td>Muertes por coronavirus: la Argentina se ubica en el puesto 19 y no primera, como tituló Infobae</td>\n",
              "      <td>&lt;NA&gt;</td>\n",
              "      <td>Circuló en redes un tuit del portal Infobae en el que se aseguraba que la Argentina fue ayer el país con mayor cantidad de muertes por coronavirus...</td>\n",
              "      <td>02/10/2020</td>\n",
              "      <td>Chequeado</td>\n",
              "      <td>https://chequeado.com/el-explicador/muertes-por-coronavirus-la-argentina-se-ubica-en-el-puesto-19-y-no-primera-como-titulo-infobae/</td>\n",
              "      <td>Situación de un país</td>\n",
              "      <td>&lt;NA&gt;</td>\n",
              "      <td>Explicador</td>\n",
              "      <td>&lt;NA&gt;</td>\n",
              "      <td>&lt;NA&gt;</td>\n",
              "      <td>&lt;NA&gt;</td>\n",
              "      <td>&lt;NA&gt;</td>\n",
              "      <td>&lt;NA&gt;</td>\n",
              "      <td></td>\n",
              "      <td>&lt;NA&gt;</td>\n",
              "    </tr>\n",
              "    <tr>\n",
              "      <th>3052</th>\n",
              "      <td>Colombia</td>\n",
              "      <td>En Filadelfia en 1918 hubo protestas contra la cuarentena</td>\n",
              "      <td>&lt;NA&gt;</td>\n",
              "      <td>Cuestionable</td>\n",
              "      <td>Una centenaria foto circula en redes sociales asegurando que fue tomada en una protesta contra las medidas de confinamiento por causa de la gripe ...</td>\n",
              "      <td>28/08/2020</td>\n",
              "      <td>Colombiacheck</td>\n",
              "      <td>https://colombiacheck.com/chequeos/en-filadelfia-en-1918-no-hubo-protestas-contra-la-cuarentena-pero-si-un-desfile-que-elevo</td>\n",
              "      <td>Otros</td>\n",
              "      <td>Imagen</td>\n",
              "      <td>Desinformación viral</td>\n",
              "      <td>https://colombiacheck.com/sites/default/files/2020-08/200828-protestas-1918-falso-portada.png</td>\n",
              "      <td>&lt;NA&gt;</td>\n",
              "      <td>Facebook</td>\n",
              "      <td>Desconocido</td>\n",
              "      <td>&lt;NA&gt;</td>\n",
              "      <td></td>\n",
              "    </tr>\n",
              "  </tbody>\n",
              "</table>\n",
              "<p>607 rows × 17 columns</p>\n",
              "</div>"
            ],
            "text/plain": [
              "             pais  ... extra\n",
              "107       España   ...  <NA>\n",
              "111       España   ...  <NA>\n",
              "112       España   ...  <NA>\n",
              "113       España   ...  <NA>\n",
              "115       España   ...  <NA>\n",
              "...           ...  ...   ...\n",
              "3025      España   ...  <NA>\n",
              "3026      España   ...  <NA>\n",
              "3027      España   ...  <NA>\n",
              "3034   Argentina   ...  <NA>\n",
              "3052    Colombia   ...     \n",
              "\n",
              "\n",
              "[607 rows x 17 columns]"
            ]
          },
          "metadata": {
            "tags": []
          },
          "execution_count": 1133
        }
      ]
    },
    {
      "cell_type": "markdown",
      "metadata": {
        "id": "2F9hZmhlulK6"
      },
      "source": [
        "Notamos que el tipo de nota es el de 'Explicador'. Asumiremos que contiene información 'confiable' "
      ]
    },
    {
      "cell_type": "code",
      "metadata": {
        "id": "AHAYa1PHLnEW"
      },
      "source": [
        "df_cheq['calificacion'].fillna('confiable', inplace=True)"
      ],
      "execution_count": 1134,
      "outputs": []
    },
    {
      "cell_type": "markdown",
      "metadata": {
        "id": "I7u9vBdSu5QO"
      },
      "source": [
        "Explorando se encontró inconcistencias en algunos registros. Por ejemplo, el 3052 tiene información mal asignada."
      ]
    },
    {
      "cell_type": "code",
      "metadata": {
        "id": "EKdRAUGfFL8d",
        "outputId": "063001f8-0e06-4fbe-9a38-4304435204b4",
        "colab": {
          "base_uri": "https://localhost:8080/",
          "height": 383
        }
      },
      "source": [
        "df_cheq.loc[3052]"
      ],
      "execution_count": 1135,
      "outputs": [
        {
          "output_type": "execute_result",
          "data": {
            "text/plain": [
              "pais                                                                                                                                                                          Colombia \n",
              "titulo                                                                                                                        En Filadelfia en 1918 hubo protestas contra la cuarentena\n",
              "calificacion                                                                                                                                                                  confiable\n",
              "descripcion                                                                                                                                                               Cuestionable \n",
              "fecha del chequeo                 Una centenaria foto circula en redes sociales asegurando que fue tomada en una protesta contra las medidas de confinamiento por causa de la gripe ...\n",
              "organizacion                                                                                                                                                                28/08/2020 \n",
              "link al chequeo                                                                                                                                                          Colombiacheck \n",
              "tipo de informacion                                       https://colombiacheck.com/chequeos/en-filadelfia-en-1918-no-hubo-protestas-contra-la-cuarentena-pero-si-un-desfile-que-elevo \n",
              "formato de la desinformacion                                                                                                                                                     Otros \n",
              "tipo de nota                                                                                                                                                                    Imagen \n",
              "link a la desinformacion                                                                                                                                          Desinformación viral \n",
              "fecha deteccion desinformacion                                                           https://colombiacheck.com/sites/default/files/2020-08/200828-protestas-1918-falso-portada.png \n",
              "origen                                                                                                                                                                             <NA>\n",
              "persona                                                                                                                                                                       Facebook \n",
              "actualizaciones                                                                                                                                                            Desconocido \n",
              "circulo en otros paises                                                                                                                                                            <NA>\n",
              "extra                                                                                                                                                                                 \n",
              "\n",
              "Name: 3052, dtype: string"
            ]
          },
          "metadata": {
            "tags": []
          },
          "execution_count": 1135
        }
      ]
    },
    {
      "cell_type": "markdown",
      "metadata": {
        "id": "seTNh6D9vDAl"
      },
      "source": [
        "Re asignemos en el orden correcto"
      ]
    },
    {
      "cell_type": "code",
      "metadata": {
        "id": "2TZiObjJDxYc"
      },
      "source": [
        "df_cheq.loc[3052, 'calificacion'] = df_cheq.loc[3052, 'descripcion']\n",
        "df_cheq.loc[3052, 'descripcion'] = df_cheq.loc[3052, 'fecha del chequeo']\n",
        "df_cheq.loc[3052, 'link a la desinformacion'] = df_cheq.loc[3052, 'fecha deteccion desinformacion']\n",
        "df_cheq.loc[3052, 'fecha del chequeo'] = df_cheq.loc[3052, 'organizacion']"
      ],
      "execution_count": 1136,
      "outputs": []
    },
    {
      "cell_type": "code",
      "metadata": {
        "id": "TCPf1XfGHYh2",
        "outputId": "e20fbbab-5911-4fa9-f67e-0fd07e4630d7",
        "colab": {
          "base_uri": "https://localhost:8080/",
          "height": 383
        }
      },
      "source": [
        "df_cheq.loc[3052]"
      ],
      "execution_count": 1137,
      "outputs": [
        {
          "output_type": "execute_result",
          "data": {
            "text/plain": [
              "pais                                                                                                                                                                          Colombia \n",
              "titulo                                                                                                                        En Filadelfia en 1918 hubo protestas contra la cuarentena\n",
              "calificacion                                                                                                                                                              Cuestionable \n",
              "descripcion                       Una centenaria foto circula en redes sociales asegurando que fue tomada en una protesta contra las medidas de confinamiento por causa de la gripe ...\n",
              "fecha del chequeo                                                                                                                                                           28/08/2020 \n",
              "organizacion                                                                                                                                                                28/08/2020 \n",
              "link al chequeo                                                                                                                                                          Colombiacheck \n",
              "tipo de informacion                                       https://colombiacheck.com/chequeos/en-filadelfia-en-1918-no-hubo-protestas-contra-la-cuarentena-pero-si-un-desfile-que-elevo \n",
              "formato de la desinformacion                                                                                                                                                     Otros \n",
              "tipo de nota                                                                                                                                                                    Imagen \n",
              "link a la desinformacion                                                                 https://colombiacheck.com/sites/default/files/2020-08/200828-protestas-1918-falso-portada.png \n",
              "fecha deteccion desinformacion                                                           https://colombiacheck.com/sites/default/files/2020-08/200828-protestas-1918-falso-portada.png \n",
              "origen                                                                                                                                                                             <NA>\n",
              "persona                                                                                                                                                                       Facebook \n",
              "actualizaciones                                                                                                                                                            Desconocido \n",
              "circulo en otros paises                                                                                                                                                            <NA>\n",
              "extra                                                                                                                                                                                 \n",
              "\n",
              "Name: 3052, dtype: string"
            ]
          },
          "metadata": {
            "tags": []
          },
          "execution_count": 1137
        }
      ]
    },
    {
      "cell_type": "markdown",
      "metadata": {
        "id": "9KSOhF8YvISX"
      },
      "source": [
        "Verifiquemos que no exista otro registro mal asignado"
      ]
    },
    {
      "cell_type": "code",
      "metadata": {
        "id": "5SttvaiGNbJz",
        "outputId": "9f385dbe-28f3-4069-fee3-f529b7229c3e",
        "colab": {
          "base_uri": "https://localhost:8080/",
          "height": 375
        }
      },
      "source": [
        "df_cheq[df_cheq['descripcion'].apply(lambda x: len(x) if pd.notnull(x) else x) < 15]"
      ],
      "execution_count": 1138,
      "outputs": [
        {
          "output_type": "execute_result",
          "data": {
            "text/html": [
              "<div>\n",
              "<style scoped>\n",
              "    .dataframe tbody tr th:only-of-type {\n",
              "        vertical-align: middle;\n",
              "    }\n",
              "\n",
              "    .dataframe tbody tr th {\n",
              "        vertical-align: top;\n",
              "    }\n",
              "\n",
              "    .dataframe thead th {\n",
              "        text-align: right;\n",
              "    }\n",
              "</style>\n",
              "<table border=\"1\" class=\"dataframe\">\n",
              "  <thead>\n",
              "    <tr style=\"text-align: right;\">\n",
              "      <th></th>\n",
              "      <th>pais</th>\n",
              "      <th>titulo</th>\n",
              "      <th>calificacion</th>\n",
              "      <th>descripcion</th>\n",
              "      <th>fecha del chequeo</th>\n",
              "      <th>organizacion</th>\n",
              "      <th>link al chequeo</th>\n",
              "      <th>tipo de informacion</th>\n",
              "      <th>formato de la desinformacion</th>\n",
              "      <th>tipo de nota</th>\n",
              "      <th>link a la desinformacion</th>\n",
              "      <th>fecha deteccion desinformacion</th>\n",
              "      <th>origen</th>\n",
              "      <th>persona</th>\n",
              "      <th>actualizaciones</th>\n",
              "      <th>circulo en otros paises</th>\n",
              "      <th>extra</th>\n",
              "    </tr>\n",
              "  </thead>\n",
              "  <tbody>\n",
              "    <tr>\n",
              "      <th>1314</th>\n",
              "      <td>Uruguay</td>\n",
              "      <td>Una pareja australiana a bordo del crucero en cuarentena por coronavirus recibió vino con un dron</td>\n",
              "      <td>confiable</td>\n",
              "      <td>Engañoso</td>\n",
              "      <td>La pareja -asombrada de que nadie confirmara la información con ellos- contó a una radio australiana que sus publicaciones sobre la entrega del vi...</td>\n",
              "      <td>19/02/2020</td>\n",
              "      <td>AFP</td>\n",
              "      <td>https://factual.afp.com/la-pareja-australiana-bordo-del-crucero-en-cuarentena-por-coronavirus-no-recibio-vino-con-un-dron</td>\n",
              "      <td>Otros</td>\n",
              "      <td>Imagen</td>\n",
              "      <td>Desinformación viral</td>\n",
              "      <td>https://factual.afp.com/sites/default/files/styles/list_xl/public/medias/factchecking/uruguay/coronavirus_vino_drone_1.jpg?itok=YWZfsx9c</td>\n",
              "      <td>&lt;NA&gt;</td>\n",
              "      <td>Redes sociales, Medios</td>\n",
              "      <td>Foto publicada en Facebook por la pareja</td>\n",
              "      <td>&lt;NA&gt;</td>\n",
              "      <td>Australia</td>\n",
              "    </tr>\n",
              "  </tbody>\n",
              "</table>\n",
              "</div>"
            ],
            "text/plain": [
              "           pais  ...        extra\n",
              "1314   Uruguay   ...  Australia \n",
              "\n",
              "\n",
              "[1 rows x 17 columns]"
            ]
          },
          "metadata": {
            "tags": []
          },
          "execution_count": 1138
        }
      ]
    },
    {
      "cell_type": "code",
      "metadata": {
        "id": "4jPqkEG0TNSQ"
      },
      "source": [
        "df_cheq.loc[1314, 'calificacion'] = df_cheq.loc[1314, 'descripcion']\n",
        "df_cheq.loc[1314, 'descripcion'] = df_cheq.loc[1314, 'fecha del chequeo']\n",
        "df_cheq.loc[1314, 'link a la desinformacion'] = df_cheq.loc[1314, 'fecha deteccion desinformacion']\n",
        "df_cheq.loc[1314, 'fecha del chequeo'] = df_cheq.loc[1314, 'organizacion']"
      ],
      "execution_count": 1139,
      "outputs": []
    },
    {
      "cell_type": "code",
      "metadata": {
        "id": "tn1BuqT-TSKY",
        "outputId": "3ce64da6-eaf9-4b7f-ce31-bf083475702b",
        "colab": {
          "base_uri": "https://localhost:8080/",
          "height": 120
        }
      },
      "source": [
        "df_cheq[df_cheq['descripcion'].apply(lambda x: len(x) if pd.notnull(x) else x) < 15]"
      ],
      "execution_count": 1140,
      "outputs": [
        {
          "output_type": "execute_result",
          "data": {
            "text/html": [
              "<div>\n",
              "<style scoped>\n",
              "    .dataframe tbody tr th:only-of-type {\n",
              "        vertical-align: middle;\n",
              "    }\n",
              "\n",
              "    .dataframe tbody tr th {\n",
              "        vertical-align: top;\n",
              "    }\n",
              "\n",
              "    .dataframe thead th {\n",
              "        text-align: right;\n",
              "    }\n",
              "</style>\n",
              "<table border=\"1\" class=\"dataframe\">\n",
              "  <thead>\n",
              "    <tr style=\"text-align: right;\">\n",
              "      <th></th>\n",
              "      <th>pais</th>\n",
              "      <th>titulo</th>\n",
              "      <th>calificacion</th>\n",
              "      <th>descripcion</th>\n",
              "      <th>fecha del chequeo</th>\n",
              "      <th>organizacion</th>\n",
              "      <th>link al chequeo</th>\n",
              "      <th>tipo de informacion</th>\n",
              "      <th>formato de la desinformacion</th>\n",
              "      <th>tipo de nota</th>\n",
              "      <th>link a la desinformacion</th>\n",
              "      <th>fecha deteccion desinformacion</th>\n",
              "      <th>origen</th>\n",
              "      <th>persona</th>\n",
              "      <th>actualizaciones</th>\n",
              "      <th>circulo en otros paises</th>\n",
              "      <th>extra</th>\n",
              "    </tr>\n",
              "  </thead>\n",
              "  <tbody>\n",
              "  </tbody>\n",
              "</table>\n",
              "</div>"
            ],
            "text/plain": [
              "Empty DataFrame\n",
              "Columns: [pais, titulo, calificacion, descripcion, fecha del chequeo, organizacion, link al chequeo, tipo de informacion, formato de la desinformacion, tipo de nota, link a la desinformacion, fecha deteccion desinformacion, origen, persona, actualizaciones, circulo en otros paises, extra]\n",
              "Index: []"
            ]
          },
          "metadata": {
            "tags": []
          },
          "execution_count": 1140
        }
      ]
    },
    {
      "cell_type": "markdown",
      "metadata": {
        "id": "yTNHtNxjaXRw"
      },
      "source": [
        "## Verificando la coherencia en 'fecha del chequeo'\n",
        "Dado que 'fecha deteccion desinformacion' tiene un aproximado de 90% de datos faltantes, tomemos la columna 'fecha del chequeo' como la columna principal para la fecha."
      ]
    },
    {
      "cell_type": "code",
      "metadata": {
        "id": "zl5hxLCsTTlr",
        "outputId": "a78c543f-38f1-4ccc-aa13-39b6cfff2720",
        "colab": {
          "base_uri": "https://localhost:8080/",
          "height": 345
        }
      },
      "source": [
        "df_cheq.isnull().sum() / len(df_cheq) *100"
      ],
      "execution_count": 1141,
      "outputs": [
        {
          "output_type": "execute_result",
          "data": {
            "text/plain": [
              "pais                               0.000000\n",
              "titulo                             0.000000\n",
              "calificacion                       0.000000\n",
              "descripcion                        0.032884\n",
              "fecha del chequeo                  0.098652\n",
              "organizacion                       0.000000\n",
              "link al chequeo                    0.000000\n",
              "tipo de informacion                0.000000\n",
              "formato de la desinformacion      18.151924\n",
              "tipo de nota                       0.131536\n",
              "link a la desinformacion          71.029267\n",
              "fecha deteccion desinformacion    92.338047\n",
              "origen                            18.941138\n",
              "persona                           19.072673\n",
              "actualizaciones                   98.914831\n",
              "circulo en otros paises            0.230187\n",
              "extra                             99.802696\n",
              "dtype: float64"
            ]
          },
          "metadata": {
            "tags": []
          },
          "execution_count": 1141
        }
      ]
    },
    {
      "cell_type": "code",
      "metadata": {
        "id": "V2o8SKuBjQDu",
        "outputId": "4f85db34-002e-47d3-82f7-8514a0344595",
        "colab": {
          "base_uri": "https://localhost:8080/",
          "height": 235
        }
      },
      "source": [
        "df_cheq['fecha del chequeo']"
      ],
      "execution_count": 1142,
      "outputs": [
        {
          "output_type": "execute_result",
          "data": {
            "text/plain": [
              "0       27/02/2020 \n",
              "2       27/02/2020 \n",
              "3       12/03/2020 \n",
              "4       12/03/2020 \n",
              "5       04/03/2020 \n",
              "           ...     \n",
              "3061    05/10/2020 \n",
              "3062    05/10/2020 \n",
              "3063    05/10/2020 \n",
              "3064    05/10/2020 \n",
              "3065    06/10/2020 \n",
              "Name: fecha del chequeo, Length: 3041, dtype: string"
            ]
          },
          "metadata": {
            "tags": []
          },
          "execution_count": 1142
        }
      ]
    },
    {
      "cell_type": "code",
      "metadata": {
        "id": "fi7GPfnxX1J8",
        "outputId": "95c3b9f5-c941-4bf3-9d22-ddb0ab458450",
        "colab": {
          "base_uri": "https://localhost:8080/",
          "height": 1000
        }
      },
      "source": [
        "df_cheq[df_cheq['fecha del chequeo'].apply(lambda x: len(str(x))<11)]"
      ],
      "execution_count": 1143,
      "outputs": [
        {
          "output_type": "execute_result",
          "data": {
            "text/html": [
              "<div>\n",
              "<style scoped>\n",
              "    .dataframe tbody tr th:only-of-type {\n",
              "        vertical-align: middle;\n",
              "    }\n",
              "\n",
              "    .dataframe tbody tr th {\n",
              "        vertical-align: top;\n",
              "    }\n",
              "\n",
              "    .dataframe thead th {\n",
              "        text-align: right;\n",
              "    }\n",
              "</style>\n",
              "<table border=\"1\" class=\"dataframe\">\n",
              "  <thead>\n",
              "    <tr style=\"text-align: right;\">\n",
              "      <th></th>\n",
              "      <th>pais</th>\n",
              "      <th>titulo</th>\n",
              "      <th>calificacion</th>\n",
              "      <th>descripcion</th>\n",
              "      <th>fecha del chequeo</th>\n",
              "      <th>organizacion</th>\n",
              "      <th>link al chequeo</th>\n",
              "      <th>tipo de informacion</th>\n",
              "      <th>formato de la desinformacion</th>\n",
              "      <th>tipo de nota</th>\n",
              "      <th>link a la desinformacion</th>\n",
              "      <th>fecha deteccion desinformacion</th>\n",
              "      <th>origen</th>\n",
              "      <th>persona</th>\n",
              "      <th>actualizaciones</th>\n",
              "      <th>circulo en otros paises</th>\n",
              "      <th>extra</th>\n",
              "    </tr>\n",
              "  </thead>\n",
              "  <tbody>\n",
              "    <tr>\n",
              "      <th>130</th>\n",
              "      <td>España</td>\n",
              "      <td>Una otorrinolaringóloga ha recomendado tomar una tableta de vitamina C y omega de la marca GNC para fortalecer el sistema inmunológico y hacer fre...</td>\n",
              "      <td>Bulo</td>\n",
              "      <td>Ningún alimento previene de la infección por coronavirus</td>\n",
              "      <td>12/2/2020</td>\n",
              "      <td>Maldita.es</td>\n",
              "      <td>https://maldita.es/malditobulo/2020/02/27/vitamina-c-omega-coronavirus/</td>\n",
              "      <td>Prevención</td>\n",
              "      <td>Texto</td>\n",
              "      <td>Desinformación viral</td>\n",
              "      <td>&lt;NA&gt;</td>\n",
              "      <td>&lt;NA&gt;</td>\n",
              "      <td>Whatsapp</td>\n",
              "      <td>Desconocido</td>\n",
              "      <td>&lt;NA&gt;</td>\n",
              "      <td></td>\n",
              "      <td>&lt;NA&gt;</td>\n",
              "    </tr>\n",
              "    <tr>\n",
              "      <th>1364</th>\n",
              "      <td>Argentina</td>\n",
              "      <td>Murió en el Hospital Muñíz un médico llamado “Marcos Vargas” por atender pacientes con COVID-19</td>\n",
              "      <td>Falso</td>\n",
              "      <td>Desde el hospital confirmaron a Chequeado que no hay ningún médico con ese nombre ni otro que haya fallecido por COVID-19. Además, la imagen que u...</td>\n",
              "      <td>&lt;NA&gt;</td>\n",
              "      <td>12/05/2020</td>\n",
              "      <td>Chequeado</td>\n",
              "      <td>https://chequeado.com/verificacionfb/no-no-murio-en-el-hospital-muniz-un-medico-llamado-marcos-vargas-por-atender-pacientes-con-covid-19/</td>\n",
              "      <td>Otros</td>\n",
              "      <td>Imagen</td>\n",
              "      <td>Desinformación viral</td>\n",
              "      <td>https://drive.google.com/file/d/10o4lD6OyRMLai3QwyAqfRpJOw7y20Gck/view?usp=sharing</td>\n",
              "      <td>&lt;NA&gt;</td>\n",
              "      <td>Facebook</td>\n",
              "      <td>Desconocido</td>\n",
              "      <td>&lt;NA&gt;</td>\n",
              "      <td>España</td>\n",
              "    </tr>\n",
              "    <tr>\n",
              "      <th>1457</th>\n",
              "      <td>Chile</td>\n",
              "      <td>“El coronavirus no nos puede dar a nosotros, porque no somos chinos”, habría dicho Karen Longaric, canciller de Bolivia, según un supuesto titular...</td>\n",
              "      <td>Falso</td>\n",
              "      <td>El titular del periódico sobre el coronavirus es un fotomontaje</td>\n",
              "      <td>&lt;NA&gt;</td>\n",
              "      <td>09/03/2020</td>\n",
              "      <td>AFP</td>\n",
              "      <td>https://factual.afp.com/el-titular-de-un-diario-con-una-frase-de-la-canciller-boliviana-sobre-el-coronavirus-es-un-montaje</td>\n",
              "      <td>Otros</td>\n",
              "      <td>Imagen, Texto</td>\n",
              "      <td>Desinformación viral</td>\n",
              "      <td>https://factual.afp.com/sites/default/files/styles/list_xl/public/medias/factchecking/chile_-_bolivia_-_peru/tachado_longaric.jpg?itok=2_zzLZN4</td>\n",
              "      <td>&lt;NA&gt;</td>\n",
              "      <td>Facebook</td>\n",
              "      <td>Desconocido</td>\n",
              "      <td>&lt;NA&gt;</td>\n",
              "      <td></td>\n",
              "    </tr>\n",
              "    <tr>\n",
              "      <th>2221</th>\n",
              "      <td>Brasil</td>\n",
              "      <td>Un video en el que un policía de San Pablo cuenta que rescató a la madre viva de una “bolsa para cadáveres”</td>\n",
              "      <td>Falso</td>\n",
              "      <td>El video muestra a un oficial de policía en Amazonas que invadió un hospital porque pensó que su madre estaba a punto de ser enterrada viva. Vio u...</td>\n",
              "      <td>&lt;NA&gt;</td>\n",
              "      <td>23/06/2020</td>\n",
              "      <td>Agência Lupa</td>\n",
              "      <td>https://piaui.folha.uol.com.br/lupa/2020/06/23/latamchequea-policia-rescato-madre-viva/</td>\n",
              "      <td>Otros</td>\n",
              "      <td>Video</td>\n",
              "      <td>Desinformación viral</td>\n",
              "      <td>&lt;NA&gt;</td>\n",
              "      <td>&lt;NA&gt;</td>\n",
              "      <td>Facebook</td>\n",
              "      <td>Desconocido</td>\n",
              "      <td>&lt;NA&gt;</td>\n",
              "      <td></td>\n",
              "    </tr>\n",
              "    <tr>\n",
              "      <th>2792</th>\n",
              "      <td>Venezuela</td>\n",
              "      <td>Douglas León Natera: “25 % de los fallecidos por COVID-19 en Venezuela pertenece al sector salud”</td>\n",
              "      <td>Verdad</td>\n",
              "      <td>El gremio y las organizaciones no gubernamentales vinculadas al sector salud muestran con cifras la alta incidencia de muertes de quienes están en...</td>\n",
              "      <td>12/082020</td>\n",
              "      <td>Cotejo.info</td>\n",
              "      <td>https://cotejo.info/2020/08/leon-natera-fallecidos-covid-19-vzla-sector-salud/</td>\n",
              "      <td>Situación de un país</td>\n",
              "      <td>&lt;NA&gt;</td>\n",
              "      <td>Chequeo a figuras públicas</td>\n",
              "      <td>&lt;NA&gt;</td>\n",
              "      <td>&lt;NA&gt;</td>\n",
              "      <td>&lt;NA&gt;</td>\n",
              "      <td>&lt;NA&gt;</td>\n",
              "      <td>&lt;NA&gt;</td>\n",
              "      <td></td>\n",
              "      <td>&lt;NA&gt;</td>\n",
              "    </tr>\n",
              "  </tbody>\n",
              "</table>\n",
              "</div>"
            ],
            "text/plain": [
              "             pais  ...     extra\n",
              "130       España   ...      <NA>\n",
              "1364   Argentina   ...  España \n",
              "\n",
              "1457       Chile   ...         \n",
              "\n",
              "2221      Brasil   ...         \n",
              "\n",
              "2792   Venezuela   ...      <NA>\n",
              "\n",
              "[5 rows x 17 columns]"
            ]
          },
          "metadata": {
            "tags": []
          },
          "execution_count": 1143
        }
      ]
    },
    {
      "cell_type": "code",
      "metadata": {
        "id": "8jbS2jLhZt3C"
      },
      "source": [
        "# Rellenando valores <NA> usando la columna organizacion\n",
        "df_cheq['fecha del chequeo'].fillna(df_cheq['organizacion'], inplace=True)"
      ],
      "execution_count": 1144,
      "outputs": []
    },
    {
      "cell_type": "code",
      "metadata": {
        "id": "O0IzDNb6Xu_-",
        "outputId": "b8d3b8b4-0436-4d7a-8816-2fe2099991f1",
        "colab": {
          "base_uri": "https://localhost:8080/",
          "height": 832
        }
      },
      "source": [
        "df_cheq[df_cheq['fecha del chequeo'].apply(lambda x: len(str(x))>11)]"
      ],
      "execution_count": 1145,
      "outputs": [
        {
          "output_type": "execute_result",
          "data": {
            "text/html": [
              "<div>\n",
              "<style scoped>\n",
              "    .dataframe tbody tr th:only-of-type {\n",
              "        vertical-align: middle;\n",
              "    }\n",
              "\n",
              "    .dataframe tbody tr th {\n",
              "        vertical-align: top;\n",
              "    }\n",
              "\n",
              "    .dataframe thead th {\n",
              "        text-align: right;\n",
              "    }\n",
              "</style>\n",
              "<table border=\"1\" class=\"dataframe\">\n",
              "  <thead>\n",
              "    <tr style=\"text-align: right;\">\n",
              "      <th></th>\n",
              "      <th>pais</th>\n",
              "      <th>titulo</th>\n",
              "      <th>calificacion</th>\n",
              "      <th>descripcion</th>\n",
              "      <th>fecha del chequeo</th>\n",
              "      <th>organizacion</th>\n",
              "      <th>link al chequeo</th>\n",
              "      <th>tipo de informacion</th>\n",
              "      <th>formato de la desinformacion</th>\n",
              "      <th>tipo de nota</th>\n",
              "      <th>link a la desinformacion</th>\n",
              "      <th>fecha deteccion desinformacion</th>\n",
              "      <th>origen</th>\n",
              "      <th>persona</th>\n",
              "      <th>actualizaciones</th>\n",
              "      <th>circulo en otros paises</th>\n",
              "      <th>extra</th>\n",
              "    </tr>\n",
              "  </thead>\n",
              "  <tbody>\n",
              "    <tr>\n",
              "      <th>1272</th>\n",
              "      <td>Guatemala</td>\n",
              "      <td>El uso prolongado de la mascarilla produce hipoxia</td>\n",
              "      <td>Bulo</td>\n",
              "      <td>Se desmiente que el uso prolongado de las mascarillas produzca condiciones respiratorias como la hipoxia</td>\n",
              "      <td>05//05/2020</td>\n",
              "      <td>Agencia Ocote</td>\n",
              "      <td>https://www.agenciaocote.com/bulo-el-uso-prolongado-de-la-mascarilla-produce-hipoxia/</td>\n",
              "      <td>Prevención</td>\n",
              "      <td>Texto</td>\n",
              "      <td>Desinformación viral</td>\n",
              "      <td>&lt;NA&gt;</td>\n",
              "      <td>04/05/2020</td>\n",
              "      <td>Whatsapp, Facebook</td>\n",
              "      <td>Desconocido</td>\n",
              "      <td>&lt;NA&gt;</td>\n",
              "      <td>México, España</td>\n",
              "      <td>&lt;NA&gt;</td>\n",
              "    </tr>\n",
              "    <tr>\n",
              "      <th>1273</th>\n",
              "      <td>Guatemala</td>\n",
              "      <td>A.Giammattei, presidente de Guatemala:  Fase de contención exitosa...estamos en una curva que no llega a los 45 grados</td>\n",
              "      <td>Engañoso</td>\n",
              "      <td>Se verifica la afirmación del presidente de Guatemala en la que dice que la curva contagios no llega a los 45 grados. Una infectóloga y un epidemi...</td>\n",
              "      <td>06//05/2020</td>\n",
              "      <td>Agencia Ocote</td>\n",
              "      <td>https://www.agenciaocote.com/a-giammattei-fase-de-contencion-exitosa-estamos-en-una-curva-que-no-llega-los-45-grados/</td>\n",
              "      <td>Situación de un país</td>\n",
              "      <td>Texto</td>\n",
              "      <td>Chequeo a figuras públicas</td>\n",
              "      <td>&lt;NA&gt;</td>\n",
              "      <td>30/04/2020</td>\n",
              "      <td>Otros</td>\n",
              "      <td>Alejandro Giammattei (presidente de Guatemala)</td>\n",
              "      <td>&lt;NA&gt;</td>\n",
              "      <td></td>\n",
              "      <td>&lt;NA&gt;</td>\n",
              "    </tr>\n",
              "    <tr>\n",
              "      <th>2217</th>\n",
              "      <td>Brasil</td>\n",
              "      <td>El gobernador de San Pablo, João Doria (PSDB), manifestó que firmó un convenio para producir y testear una vacuna china contra la COVID-19 en agos...</td>\n",
              "      <td>Falso</td>\n",
              "      <td>El texto se basa en la interpretación errónea de una afirmación del gobernador de San Pablo, João Doria. En una rueda de prensa el pasado jueves (...</td>\n",
              "      <td>22/06//2020</td>\n",
              "      <td>Agência Lupa</td>\n",
              "      <td>https://piaui.folha.uol.com.br/lupa/2020/06/22/latamchequea-doria-convenio-vacuna-covid-19/</td>\n",
              "      <td>Curas</td>\n",
              "      <td>Texto</td>\n",
              "      <td>Desinformación viral</td>\n",
              "      <td>&lt;NA&gt;</td>\n",
              "      <td>&lt;NA&gt;</td>\n",
              "      <td>Redes sociales</td>\n",
              "      <td>Desconocido</td>\n",
              "      <td>&lt;NA&gt;</td>\n",
              "      <td></td>\n",
              "      <td>&lt;NA&gt;</td>\n",
              "    </tr>\n",
              "  </tbody>\n",
              "</table>\n",
              "</div>"
            ],
            "text/plain": [
              "             pais  ... extra\n",
              "1272   Guatemala   ...  <NA>\n",
              "1273   Guatemala   ...  <NA>\n",
              "2217      Brasil   ...  <NA>\n",
              "\n",
              "[3 rows x 17 columns]"
            ]
          },
          "metadata": {
            "tags": []
          },
          "execution_count": 1145
        }
      ]
    },
    {
      "cell_type": "code",
      "metadata": {
        "id": "li6DNcfaTbxy"
      },
      "source": [
        "# Convertir los strings a tipo 'datetime'\n",
        "df_cheq['fecha del chequeo'] = pd.to_datetime(df_cheq['fecha del chequeo'],\n",
        "                                              dayfirst=True, errors='coerce')"
      ],
      "execution_count": 1146,
      "outputs": []
    },
    {
      "cell_type": "code",
      "metadata": {
        "id": "ym1pvkWuZGHJ",
        "outputId": "bb5a888d-1936-418b-94ca-8a68d8910e67",
        "colab": {
          "base_uri": "https://localhost:8080/",
          "height": 295
        }
      },
      "source": [
        "df_cheq.groupby('fecha del chequeo').count()['pais'].plot()"
      ],
      "execution_count": 1147,
      "outputs": [
        {
          "output_type": "execute_result",
          "data": {
            "text/plain": [
              "<matplotlib.axes._subplots.AxesSubplot at 0x7f4ceed6d208>"
            ]
          },
          "metadata": {
            "tags": []
          },
          "execution_count": 1147
        },
        {
          "output_type": "display_data",
          "data": {
            "image/png": "[encoded data removed]",
            "text/plain": [
              "<Figure size 432x288 with 1 Axes>"
            ]
          },
          "metadata": {
            "tags": [],
            "needs_background": "light"
          }
        }
      ]
    },
    {
      "cell_type": "markdown",
      "metadata": {
        "id": "ZaGqVPUOv1uq"
      },
      "source": [
        "La gráfica nos muestra la presencia de outliers, específicamente fechas que no tienen sentido"
      ]
    },
    {
      "cell_type": "code",
      "metadata": {
        "id": "xe-vQgIoanJs",
        "outputId": "f1210e3b-4300-4ac8-8a4e-2f888268576c",
        "colab": {
          "base_uri": "https://localhost:8080/",
          "height": 1000
        }
      },
      "source": [
        "df_cheq[df_cheq['fecha del chequeo'] > pd.to_datetime('2020/10/10')]"
      ],
      "execution_count": 1148,
      "outputs": [
        {
          "output_type": "execute_result",
          "data": {
            "text/html": [
              "<div>\n",
              "<style scoped>\n",
              "    .dataframe tbody tr th:only-of-type {\n",
              "        vertical-align: middle;\n",
              "    }\n",
              "\n",
              "    .dataframe tbody tr th {\n",
              "        vertical-align: top;\n",
              "    }\n",
              "\n",
              "    .dataframe thead th {\n",
              "        text-align: right;\n",
              "    }\n",
              "</style>\n",
              "<table border=\"1\" class=\"dataframe\">\n",
              "  <thead>\n",
              "    <tr style=\"text-align: right;\">\n",
              "      <th></th>\n",
              "      <th>pais</th>\n",
              "      <th>titulo</th>\n",
              "      <th>calificacion</th>\n",
              "      <th>descripcion</th>\n",
              "      <th>fecha del chequeo</th>\n",
              "      <th>organizacion</th>\n",
              "      <th>link al chequeo</th>\n",
              "      <th>tipo de informacion</th>\n",
              "      <th>formato de la desinformacion</th>\n",
              "      <th>tipo de nota</th>\n",
              "      <th>link a la desinformacion</th>\n",
              "      <th>fecha deteccion desinformacion</th>\n",
              "      <th>origen</th>\n",
              "      <th>persona</th>\n",
              "      <th>actualizaciones</th>\n",
              "      <th>circulo en otros paises</th>\n",
              "      <th>extra</th>\n",
              "    </tr>\n",
              "  </thead>\n",
              "  <tbody>\n",
              "    <tr>\n",
              "      <th>1345</th>\n",
              "      <td>Ecuador</td>\n",
              "      <td>La metástasis de la corrupción</td>\n",
              "      <td>confiable</td>\n",
              "      <td>La crisis sanitaria por el coronavirus ha desatado una ola de corrupción en hospitales en Ecuador. ¿Qué sucede dentro de los instituciones de salud?</td>\n",
              "      <td>2020-11-05</td>\n",
              "      <td>GK Ecuador</td>\n",
              "      <td>https://gk.city/2020/05/10/corrupcion-hospitales-ecuador/</td>\n",
              "      <td>Situación de un país</td>\n",
              "      <td>&lt;NA&gt;</td>\n",
              "      <td>Explicador</td>\n",
              "      <td>&lt;NA&gt;</td>\n",
              "      <td>&lt;NA&gt;</td>\n",
              "      <td>&lt;NA&gt;</td>\n",
              "      <td>&lt;NA&gt;</td>\n",
              "      <td>&lt;NA&gt;</td>\n",
              "      <td></td>\n",
              "      <td>&lt;NA&gt;</td>\n",
              "    </tr>\n",
              "    <tr>\n",
              "      <th>1346</th>\n",
              "      <td>Ecuador</td>\n",
              "      <td>La doble lucha por sobrevivir</td>\n",
              "      <td>confiable</td>\n",
              "      <td>Muchos pacientes oncológicos han tenido que esperar varias semanas para continuar con sus tratamientos mientras su vida pende de un hilo. ¿Cómo es...</td>\n",
              "      <td>2020-11-06</td>\n",
              "      <td>GK Ecuador</td>\n",
              "      <td>https://gk.city/2020/05/10/pacientes-cancer-coronavirus/</td>\n",
              "      <td>Otros</td>\n",
              "      <td>&lt;NA&gt;</td>\n",
              "      <td>Explicador</td>\n",
              "      <td>&lt;NA&gt;</td>\n",
              "      <td>&lt;NA&gt;</td>\n",
              "      <td>&lt;NA&gt;</td>\n",
              "      <td>&lt;NA&gt;</td>\n",
              "      <td>&lt;NA&gt;</td>\n",
              "      <td></td>\n",
              "      <td>&lt;NA&gt;</td>\n",
              "    </tr>\n",
              "    <tr>\n",
              "      <th>1347</th>\n",
              "      <td>Ecuador</td>\n",
              "      <td>No, el dióxido de cloro diluido en agua no cura el covid-19</td>\n",
              "      <td>confiable</td>\n",
              "      <td>Algunos testimonios de gente infectada con el nuevo coronavirus que dice haber mejorado tras tomar una solución de dióxido de cloro. ¿Cómo afecta ...</td>\n",
              "      <td>2020-11-07</td>\n",
              "      <td>GK Ecuador</td>\n",
              "      <td>https://gk.city/2020/05/10/dioxido-cloro-covid-19-coronavirus/</td>\n",
              "      <td>Curas</td>\n",
              "      <td>&lt;NA&gt;</td>\n",
              "      <td>Explicador</td>\n",
              "      <td>&lt;NA&gt;</td>\n",
              "      <td>&lt;NA&gt;</td>\n",
              "      <td>&lt;NA&gt;</td>\n",
              "      <td>&lt;NA&gt;</td>\n",
              "      <td>&lt;NA&gt;</td>\n",
              "      <td></td>\n",
              "      <td>&lt;NA&gt;</td>\n",
              "    </tr>\n",
              "    <tr>\n",
              "      <th>2607</th>\n",
              "      <td>Perú</td>\n",
              "      <td>Una publicación que asegura que en dos semanas se obtendrán los resultados finales de la vacuna peruana</td>\n",
              "      <td>Falso</td>\n",
              "      <td>La publicación sugiere que la vacuna inicia pruebas en humanos; sin embargo, esta recién se encuentra en la etapa final de la fase preclínica, es ...</td>\n",
              "      <td>2021-07-22</td>\n",
              "      <td>Verificador (La República)</td>\n",
              "      <td>https://larepublica.pe/verificador/2020/07/22/vacuna-peruana-es-falso-que-en-dos-semanas-se-obtengan-los-resultados-finales-de-la-vacuna-peruana/</td>\n",
              "      <td>Curas</td>\n",
              "      <td>Texto, Imagen</td>\n",
              "      <td>Desinformación viral</td>\n",
              "      <td>&lt;NA&gt;</td>\n",
              "      <td>22/07/2021</td>\n",
              "      <td>Redes sociales</td>\n",
              "      <td>Desconocido</td>\n",
              "      <td>&lt;NA&gt;</td>\n",
              "      <td></td>\n",
              "      <td>&lt;NA&gt;</td>\n",
              "    </tr>\n",
              "  </tbody>\n",
              "</table>\n",
              "</div>"
            ],
            "text/plain": [
              "           pais  ... extra\n",
              "1345   Ecuador   ...  <NA>\n",
              "1346   Ecuador   ...  <NA>\n",
              "1347   Ecuador   ...  <NA>\n",
              "2607      Perú   ...  <NA>\n",
              "\n",
              "[4 rows x 17 columns]"
            ]
          },
          "metadata": {
            "tags": []
          },
          "execution_count": 1148
        }
      ]
    },
    {
      "cell_type": "markdown",
      "metadata": {
        "id": "2dIbBPNvwezv"
      },
      "source": [
        "Corrijamos las fechas de forma manual y tomando como referencia la columna 'link al chequeo'"
      ]
    },
    {
      "cell_type": "code",
      "metadata": {
        "id": "C-2Vy7eYdmTU"
      },
      "source": [
        "df_cheq.loc[2607, 'fecha del chequeo'] = pd.to_datetime('2020/07/22')\n",
        "df_cheq.loc[1345, 'fecha del chequeo'] = pd.to_datetime('2020/05/10')\n",
        "df_cheq.loc[1346, 'fecha del chequeo'] = pd.to_datetime('2020/05/10')\n",
        "df_cheq.loc[1347, 'fecha del chequeo'] = pd.to_datetime('2020/05/10')"
      ],
      "execution_count": 1149,
      "outputs": []
    },
    {
      "cell_type": "code",
      "metadata": {
        "id": "qUjudokTgPoE",
        "outputId": "685805d5-3b86-459d-d9c0-d15bb44b8e0d",
        "colab": {
          "base_uri": "https://localhost:8080/",
          "height": 267
        }
      },
      "source": [
        "df_cheq.groupby('fecha del chequeo').count()['pais'].plot(figsize=(16, 5))\n",
        "plt.text(x=df_cheq['fecha del chequeo'].min(), \n",
        "         y=30, s=f\"MIN: {df_cheq['fecha del chequeo'].min()}\", rotation=0);\n",
        "plt.text(x=df_cheq['fecha del chequeo'].max()-np.timedelta64(50, 'D'), \n",
        "         y=30, s=f\"MAX: {df_cheq['fecha del chequeo'].max()}\", rotation=0);"
      ],
      "execution_count": 1150,
      "outputs": [
        {
          "output_type": "display_data",
          "data": {
            "image/png": "[encoded data removed]",
            "text/plain": [
              "<Figure size 1152x360 with 1 Axes>"
            ]
          },
          "metadata": {
            "tags": [],
            "needs_background": "light"
          }
        }
      ]
    },
    {
      "cell_type": "markdown",
      "metadata": {
        "id": "4E6_GWvEYKVD"
      },
      "source": [
        "# CNN"
      ]
    },
    {
      "cell_type": "code",
      "metadata": {
        "id": "X8jKTw10Vo9z",
        "outputId": "12e68c07-a1f7-459f-c970-88707a2fa275",
        "colab": {
          "base_uri": "https://localhost:8080/",
          "height": 1000
        }
      },
      "source": [
        "data = 'https://raw.githubusercontent.com/christianvadillo/InfoVac/main/data/raw/cnn_articles.csv'\n",
        "df_cnn = pd.read_csv(data, encoding='latin-1', na_values=' ')\n",
        "df_cnn"
      ],
      "execution_count": 1151,
      "outputs": [
        {
          "output_type": "execute_result",
          "data": {
            "text/html": [
              "<div>\n",
              "<style scoped>\n",
              "    .dataframe tbody tr th:only-of-type {\n",
              "        vertical-align: middle;\n",
              "    }\n",
              "\n",
              "    .dataframe tbody tr th {\n",
              "        vertical-align: top;\n",
              "    }\n",
              "\n",
              "    .dataframe thead th {\n",
              "        text-align: right;\n",
              "    }\n",
              "</style>\n",
              "<table border=\"1\" class=\"dataframe\">\n",
              "  <thead>\n",
              "    <tr style=\"text-align: right;\">\n",
              "      <th></th>\n",
              "      <th>id</th>\n",
              "      <th>url</th>\n",
              "      <th>author</th>\n",
              "      <th>date</th>\n",
              "      <th>description</th>\n",
              "      <th>sitename</th>\n",
              "      <th>title</th>\n",
              "      <th>text</th>\n",
              "      <th>categoria</th>\n",
              "    </tr>\n",
              "  </thead>\n",
              "  <tbody>\n",
              "    <tr>\n",
              "      <th>0</th>\n",
              "      <td>1</td>\n",
              "      <td>https://cnnespanol.cnn.com/2020/03/16/coronavirus-16-de-marzo-las-muertes-por-coronavirus-superan-las-6-000-en-todo-el-mundo/</td>\n",
              "      <td>CNNEspa\\u00f1ol Sebasti\\u00e1n Jim\\u00e9nez Valencia</td>\n",
              "      <td>2020-03-16</td>\n",
              "      <td>Aumenta el número de muertos a más de 7.100 personas en todo el mundo, según un cálculo de la Universidad John Hopkins, que rastrea los casos repo...</td>\n",
              "      <td>CNN</td>\n",
              "      <td>Coronavirus 16 de marzo: 87 muertes por coronavirus en EE.UU. | CNN</td>\n",
              "      <td>Aumenta el número de muertos: el nuevo coronavirus ha matado a más de 7.100 personas en todo el mundo, según un cálculo de la Universidad John Hop...</td>\n",
              "      <td>confiable</td>\n",
              "    </tr>\n",
              "    <tr>\n",
              "      <th>1</th>\n",
              "      <td>2</td>\n",
              "      <td>https://cnnespanol.cnn.com/2020/03/18/como-mata-el-coronavirus/</td>\n",
              "      <td>CNNEspa\\u00f1ol Sebasti\\u00e1n Jim\\u00e9nez Valencia</td>\n",
              "      <td>2020-03-18</td>\n",
              "      <td>Lo que hace el virus es secuestrar las células sanas y reprogramarlas para que haga más copias del virus y así comienza a expandirse la infección....</td>\n",
              "      <td>CNN</td>\n",
              "      <td>¿Cómo mata el coronavirus? | CNN</td>\n",
              "      <td>¿Cómo mata el coronavirus?\\n(CNN Español)  Sabemos de los síntomas leves del coronavirus: el dolor de cabeza y de garganta, el malestar y la tos....</td>\n",
              "      <td>confiable</td>\n",
              "    </tr>\n",
              "    <tr>\n",
              "      <th>2</th>\n",
              "      <td>3</td>\n",
              "      <td>https://cnnespanol.cnn.com/2020/07/30/muere-herman-cain-por-coronavirus/</td>\n",
              "      <td>Paula Bravo Medina</td>\n",
              "      <td>2020-07-30</td>\n",
              "      <td>Herman Cain, el ex candidato presidencial y ex presidente ejecutivo de Godfathers Pizza, murió de coronavirus, según un obituario enviado desde s...</td>\n",
              "      <td>CNN</td>\n",
              "      <td>Muere Herman Cain por coronavirus | CNN</td>\n",
              "      <td>Muere Herman Cain por coronavirus\\n(CNN)  Herman Cain, el ex candidato presidencial y ex presidente ejecutivo de Godfathers Pizza, murió de coro...</td>\n",
              "      <td>confiable</td>\n",
              "    </tr>\n",
              "    <tr>\n",
              "      <th>3</th>\n",
              "      <td>4</td>\n",
              "      <td>https://cnnespanol.cnn.com/2020/02/28/confirman-el-primer-caso-de-coronavirus-en-mexico/</td>\n",
              "      <td>Paula Bravo Medina</td>\n",
              "      <td>2020-02-28</td>\n",
              "      <td>El Gobierno de México anunció este viernes los primeros casos de coronavirus en el país. Es el segundo, tercer y cuarto casos en América Latina de...</td>\n",
              "      <td>CNN</td>\n",
              "      <td>El coronavirus llega a México | CNN</td>\n",
              "      <td>El coronavirus llega a México\\n(CNN Español)  El Gobierno de México confirmó este viernes el primer caso de coronavirus en el país. Más adelante,...</td>\n",
              "      <td>confiable</td>\n",
              "    </tr>\n",
              "    <tr>\n",
              "      <th>4</th>\n",
              "      <td>5</td>\n",
              "      <td>https://cnnespanol.cnn.com/2020/05/15/opinion-lecciones-magistrales-del-coronavirus/</td>\n",
              "      <td>Juan Andr\\u00e9s Mu\\u00f1oz</td>\n",
              "      <td>2020-05-15</td>\n",
              "      <td>El profesor Rafael Domingo Oslé presenta 10 cosas que nos ha enseñado esta crisis. | CNN Radio Argentina, Opinión | CNN</td>\n",
              "      <td>CNN</td>\n",
              "      <td>10 lecciones magistrales del coronavirus | CNN</td>\n",
              "      <td>10 lecciones magistrales del coronavirus\\nNota del editor: Rafael Domingo Oslé es profesor en el Centro de Derecho y Religión de la Universidad de...</td>\n",
              "      <td>confiable</td>\n",
              "    </tr>\n",
              "    <tr>\n",
              "      <th>...</th>\n",
              "      <td>...</td>\n",
              "      <td>...</td>\n",
              "      <td>...</td>\n",
              "      <td>...</td>\n",
              "      <td>...</td>\n",
              "      <td>...</td>\n",
              "      <td>...</td>\n",
              "      <td>...</td>\n",
              "      <td>...</td>\n",
              "    </tr>\n",
              "    <tr>\n",
              "      <th>3727</th>\n",
              "      <td>3938</td>\n",
              "      <td>https://cnnespanol.cnn.com/2020/05/15/opinion-los-restaurantes-necesitaran-un-milagro-para-sobrevivir-a-esto/</td>\n",
              "      <td>Juan Andr\\u00e9s Mu\\u00f1oz</td>\n",
              "      <td>2020-05-15</td>\n",
              "      <td>Sin acceso a las mismas opciones de financiación que las grandes cadenas corporativas, los propietarios de restaurantes como yo tienen que decidir...</td>\n",
              "      <td>CNN</td>\n",
              "      <td>OPINIÓN | Los restaurantes necesitarán un milagro para sobrevivir a esto | CNN</td>\n",
              "      <td>(CNN)  Los restaurantes, especialmente los independientes, han sido diezmados por la pandemia. Sin acceso a las mismas opciones de financiación q...</td>\n",
              "      <td>confiable</td>\n",
              "    </tr>\n",
              "    <tr>\n",
              "      <th>3728</th>\n",
              "      <td>3939</td>\n",
              "      <td>https://cnnespanol.cnn.com/2020/06/10/esta-exastronauta-se-convierte-en-la-primera-persona-en-visitar-tanto-el-espacio-como-el-lugar-mas-profundo-...</td>\n",
              "      <td>Paula Bravo Medina</td>\n",
              "      <td>2020-06-10</td>\n",
              "      <td>Solo ocho personas han llegado al Challenger Deep, el punto más profundo del océano. Más de 550 personas han visitado el espacio. Pero solo una pe...</td>\n",
              "      <td>CNN</td>\n",
              "      <td>Esta exastronauta es la primera persona que visita tanto el espacio como el lugar más profundo del océano | CNN</td>\n",
              "      <td>Los aciertos y desaciertos en la historia de SpaceX 3:20\\n(CNN)  Solo ocho personas han llegado al Challenger Deep, el punto más profundo del océ...</td>\n",
              "      <td>confiable</td>\n",
              "    </tr>\n",
              "    <tr>\n",
              "      <th>3729</th>\n",
              "      <td>3940</td>\n",
              "      <td>https://cnnespanol.cnn.com/2020/08/18/desnudos-mojigatos-y-swingers-el-hotel-hedonism-ii-se-adapta-a-la-era-de-la-pandemia/</td>\n",
              "      <td>\\u00c1ngela Reyes</td>\n",
              "      <td>2020-08-18</td>\n",
              "      <td>El hotel Hedonism II es un imán para nudistas, swingers y quienes buscan unas vacaciones al sol en la Jamaica tropical. Descubre lo que está pasan...</td>\n",
              "      <td>CNN</td>\n",
              "      <td>Desnudos, mojigatos y swingers. El hotel Hedonism II se adapta a la era de la pandemia | CNN</td>\n",
              "      <td>(CNN)  Durante el tiempo que pasé viviendo con mi esposo al lado del hotel Hedonism II en Jamaica, a menudo sospechaba que los vecinos se estaban...</td>\n",
              "      <td>confiable</td>\n",
              "    </tr>\n",
              "    <tr>\n",
              "      <th>3730</th>\n",
              "      <td>3941</td>\n",
              "      <td>https://cnnespanol.cnn.com/2014/05/10/la-oms-se-reunira-de-urgencia-por-aumento-de-casos-del-coronavirus-mers/</td>\n",
              "      <td>CNN en Espa\\u00f1ol</td>\n",
              "      <td>2014-05-10</td>\n",
              "      <td>(CNN MÉXICO) - La Organización Mundial de la Salud (OMS) celebrará el próximo martes una reunión de urgencia sobre el coronavirus MERS, ante la |...</td>\n",
              "      <td>CNN</td>\n",
              "      <td>La OMS se reunirá de urgencia por aumento de casos del coronavirus MERS | CNN</td>\n",
              "      <td>(CNN MÉXICO) - La Organización Mundial de la Salud (OMS) celebrará el próximo martes una reunión de urgencia sobre el coronavirus MERS, ante la p...</td>\n",
              "      <td>confiable</td>\n",
              "    </tr>\n",
              "    <tr>\n",
              "      <th>3731</th>\n",
              "      <td>3942</td>\n",
              "      <td>https://cnnespanol.cnn.com/cnne-underscored/2020/03/23/organizate-para-trabajar-mejor-desde-casa-con-estos-15-consejos/</td>\n",
              "      <td>Cnn Underscored</td>\n",
              "      <td>2020-03-23</td>\n",
              "      <td>El escritorio. Pasas más tiempo sentado en él de lo que te gustaría admitir, ¿no? Y lo más probable es que esté un poco desordenado. Si eres como ...</td>\n",
              "      <td>CNN</td>\n",
              "      <td>Organízate para trabajar mejor desde casa con estos 15 consejos | CNN</td>\n",
              "      <td>CNNE Underscored es la guía de productos y servicios que te ayuda a vivir una vida más inteligente, simple y satisfactoria. El contenido es genera...</td>\n",
              "      <td>confiable</td>\n",
              "    </tr>\n",
              "  </tbody>\n",
              "</table>\n",
              "<p>3732 rows × 9 columns</p>\n",
              "</div>"
            ],
            "text/plain": [
              "        id  ...  categoria\n",
              "0        1  ...  confiable\n",
              "1        2  ...  confiable\n",
              "2        3  ...  confiable\n",
              "3        4  ...  confiable\n",
              "4        5  ...  confiable\n",
              "...    ...  ...        ...\n",
              "3727  3938  ...  confiable\n",
              "3728  3939  ...  confiable\n",
              "3729  3940  ...  confiable\n",
              "3730  3941  ...  confiable\n",
              "3731  3942  ...  confiable\n",
              "\n",
              "[3732 rows x 9 columns]"
            ]
          },
          "metadata": {
            "tags": []
          },
          "execution_count": 1151
        }
      ]
    },
    {
      "cell_type": "code",
      "metadata": {
        "id": "eMrqZsXOmtIW"
      },
      "source": [
        "df_cnn = df_cnn.convert_dtypes()"
      ],
      "execution_count": 1152,
      "outputs": []
    },
    {
      "cell_type": "markdown",
      "metadata": {
        "id": "sUKJdLD_xOgM"
      },
      "source": [
        ""
      ]
    },
    {
      "cell_type": "markdown",
      "metadata": {
        "id": "tYmTcQqtYijz"
      },
      "source": [
        "## Duplicados? "
      ]
    },
    {
      "cell_type": "code",
      "metadata": {
        "id": "2BqQRmcIYVZV",
        "outputId": "c45c10b5-6b83-4edc-e69f-215f2eb95bad",
        "colab": {
          "base_uri": "https://localhost:8080/",
          "height": 35
        }
      },
      "source": [
        "df_cnn['title'].duplicated().sum()"
      ],
      "execution_count": 1153,
      "outputs": [
        {
          "output_type": "execute_result",
          "data": {
            "text/plain": [
              "203"
            ]
          },
          "metadata": {
            "tags": []
          },
          "execution_count": 1153
        }
      ]
    },
    {
      "cell_type": "code",
      "metadata": {
        "id": "ZdHZQELZYn_T"
      },
      "source": [
        "df_cnn.drop_duplicates('title', keep='first', inplace=True)"
      ],
      "execution_count": 1154,
      "outputs": []
    },
    {
      "cell_type": "code",
      "metadata": {
        "id": "oYLhi60ZZjjH",
        "outputId": "fd3544c9-a13c-41ef-aee7-03be83cd4266",
        "colab": {
          "base_uri": "https://localhost:8080/",
          "height": 35
        }
      },
      "source": [
        "df_cnn['title'].duplicated().sum()"
      ],
      "execution_count": 1155,
      "outputs": [
        {
          "output_type": "execute_result",
          "data": {
            "text/plain": [
              "0"
            ]
          },
          "metadata": {
            "tags": []
          },
          "execution_count": 1155
        }
      ]
    },
    {
      "cell_type": "markdown",
      "metadata": {
        "id": "IhD91etJZ7uh"
      },
      "source": [
        "## Datos faltantes?"
      ]
    },
    {
      "cell_type": "code",
      "metadata": {
        "id": "Zc3g73vrZzGV",
        "outputId": "3ce2221b-2ab4-4a10-dca5-825c45ee910e",
        "colab": {
          "base_uri": "https://localhost:8080/",
          "height": 199
        }
      },
      "source": [
        "df_cnn.isnull().sum()"
      ],
      "execution_count": 1156,
      "outputs": [
        {
          "output_type": "execute_result",
          "data": {
            "text/plain": [
              "id              0\n",
              "url             0\n",
              "author         74\n",
              "date            2\n",
              "description     0\n",
              "sitename        0\n",
              "title           0\n",
              "text            0\n",
              "categoria       0\n",
              "dtype: int64"
            ]
          },
          "metadata": {
            "tags": []
          },
          "execution_count": 1156
        }
      ]
    },
    {
      "cell_type": "code",
      "metadata": {
        "id": "YAgnJjS6aC58"
      },
      "source": [
        "df_cnn['author'].fillna('CNN', inplace=True)\n",
        "df_cnn['date'].fillna('2020-03-16', inplace=True)"
      ],
      "execution_count": 1157,
      "outputs": []
    },
    {
      "cell_type": "code",
      "metadata": {
        "id": "vESIyD87ajS8",
        "outputId": "cd5b6930-8366-4a61-e552-e2913c9ce4f6",
        "colab": {
          "base_uri": "https://localhost:8080/",
          "height": 199
        }
      },
      "source": [
        "df_cnn.isnull().sum()"
      ],
      "execution_count": 1158,
      "outputs": [
        {
          "output_type": "execute_result",
          "data": {
            "text/plain": [
              "id             0\n",
              "url            0\n",
              "author         0\n",
              "date           0\n",
              "description    0\n",
              "sitename       0\n",
              "title          0\n",
              "text           0\n",
              "categoria      0\n",
              "dtype: int64"
            ]
          },
          "metadata": {
            "tags": []
          },
          "execution_count": 1158
        }
      ]
    },
    {
      "cell_type": "markdown",
      "metadata": {
        "id": "AxeAPP0Io4DR"
      },
      "source": [
        "##Noticias no relacionadas?"
      ]
    },
    {
      "cell_type": "code",
      "metadata": {
        "id": "LTLT9N5apZCR"
      },
      "source": [
        "def out_of_context(row):\n",
        "  title, text = row['title'], row['text']\n",
        "  words = ['covid', 'coronavirus', 'vacuna', 'virus',\n",
        "           'pandemia', 'sars-cov', 'cuarentena', 'infectado',\n",
        "           'salud', 'oms', 'hospital', 'medico', 'dioxido', 'cloro', \n",
        "           'termometro', 'infrarojo', \n",
        "           'asinto', 'pcr', 'mascar', 'tapaboca', 'cubreboca', 'oximetro',\n",
        "           'respira', 'contagi', 'desinfecta', 'dieta']\n",
        "  for w in words:\n",
        "    if (w in unidecode(text).lower()) or (w in unidecode(title).lower()):\n",
        "      return False\n",
        "  return True\n"
      ],
      "execution_count": 1159,
      "outputs": []
    },
    {
      "cell_type": "code",
      "metadata": {
        "id": "O2jOK3MQo8jv",
        "outputId": "5dae8d6a-1e5d-448d-c960-161a2ae3b8c5",
        "colab": {
          "base_uri": "https://localhost:8080/",
          "height": 35
        }
      },
      "source": [
        "df_cnn['out_of_context'] = df_cnn.apply(lambda row: out_of_context(row), axis=1)\n",
        "df_cnn['out_of_context'].sum()"
      ],
      "execution_count": 1160,
      "outputs": [
        {
          "output_type": "execute_result",
          "data": {
            "text/plain": [
              "55"
            ]
          },
          "metadata": {
            "tags": []
          },
          "execution_count": 1160
        }
      ]
    },
    {
      "cell_type": "code",
      "metadata": {
        "id": "3OHHemIoo-Ya",
        "outputId": "c77c7323-3d51-4fdf-9511-c4e1b8c000f0",
        "colab": {
          "base_uri": "https://localhost:8080/",
          "height": 1000
        }
      },
      "source": [
        "for title in df_cnn[df_cnn['out_of_context']]['title']:\n",
        "  print(title)"
      ],
      "execution_count": 1161,
      "outputs": [
        {
          "output_type": "stream",
          "text": [
            "Mirador Mundial: últimas noticias de Mirador Mundial  CNN\n",
            "Gobierno de Colombia designa a Hezbollah como grupo terrorista y retira a las FARC de la lista | CNN\n",
            "Confiscan US$ 900.000 en dinero falsificado: todo en billetes de US$ 1 | CNN\n",
            "Estas fundas para el celular son ecológicas | CNN\n",
            "GloboTemperatura: \"La Fed procura no ser protagonista en 2020\" | CNN\n",
            "Ha sido realmente difícil: Taylor Swift revela que su mamá tiene un tumor en el cerebro | CNN\n",
            "El doctor Anthony Fauci fue operado por un pólipo en las cuerdas vocales | CNN\n",
            "Federer y Nadal baten el récord de asistencia en el tenis | CNN\n",
            "Los primeros pasos Del Potro a 48 horas de una cirugía de rodilla | CNN\n",
            "Se desploman las acciones | CNN\n",
            "Maduro pide que una comisión de la ONU acompañe el proceso electoral parlamentario | CNN\n",
            "Jorge Macri pide \"poner un manto de paciencia\" | CNN\n",
            "Hay nuevos emoji con diseños más inclusivos de género y un popular gesto italiano con la mano | CNN\n",
            "Alicia Keys rinde poderoso homenaje a Kobe Bryant en los Grammy | CNN\n",
            "Bolsonaro desata la ira de los activistas por los derechos indígenas: Cada vez más, el indígena es ser humano como nosotros | CNN\n",
            "25 ideas y regalos románticos para este San Valentín | CNN\n",
            "Margarita Stolbizer criticó la postulación de Daniel Rafecas en la Procuración General | CNN\n",
            "Cataluña adelantará sus elecciones en medio de la inestabilidad política | CNN\n",
            "¿Tiburones que caminan? Científicos descubren cuatro nuevas especies | CNN\n",
            "Las frases más inspiradoras de Kobe Bryant: liderazgo, fracaso, manejo de las críticas y más | CNN\n",
            "Hernández anuncia nuevo sistema de lucha contra la corrupción en Honduras | CNN\n",
            "Rueda la pelota en Bolivia | CNN\n",
            "¿Dónde está el invierno? Varios países acaban de vivir el enero más caliente que se ha registrado | CNN\n",
            "Guaidó y Cuba | CNN\n",
            "Champeta y niños 'enjaulados': el mensaje político de Shakira y Jennifer Lopez en el show de medio tiempo del Super Bowl | CNN\n",
            "Rusia no coordina la posible salida de Maduro, dice Lavrov | CNN\n",
            "Regalos de cinco estrellas para este San Valentín | CNN\n",
            "Diputados opositores en Venezuela sesionan en plaza pública tras denunciar presencia de grupos armados en el Palacio Legislativo | CNN\n",
            "Hallan aeronave en llamas en carretera de Quintana Roo, México, que habría sido usada para \"actividades ilícitas\" | CNN\n",
            "La selección de fútbol femenina de Brasil tendrá el mismo pago que el equipo masculino, anunció la Federación | CNN\n",
            "Mark Esper, secretario de Defensa de EE.UU., se distancia de Trump por querer usar soldados para sofocar las protestas en EE.UU. | CNN\n",
            "Ecuador emitirá el primer pasaporte electrónico por primera vez\n",
            "Colombia anuncia la captura de supuesto líder de disidencia de las FARC | CNN\n",
            "Vladimir Putin insinúa decididamente que volverá a postularse para presidente | CNN\n",
            "Multimillonario Dan Friedkin firma acuerdo para comprar la AS Roma, el gigante del fútbol italiano | CNN\n",
            "Aprueban proyecto de ley que fija el 18 de octubre como plazo máximo para elecciones en Bolivia | CNN\n",
            "Multan a Copa Airlines por \"transportar ilegalmente\" a pasajeros entre EE.UU. y Venezuela | CNN\n",
            "Siguen los operativos policiales por supuestos \"actos contra la democracia\" en Brasil | CNN\n",
            "Escenario apocalíptico: el efecto del desplome en los precios del petróleo en las empresas de EE.UU. | CNN\n",
            "Usar el microondas puede reducir la velocidad de tu internet. Estas son las formas de mantenerla | CNN\n",
            "Nueva legislación en Costa Rica sanciona con cárcel el acoso callejero | CNN\n",
            "Starbucks elimina oficialmente sus popotes (o pajillas) y presenta las tapas con boquilla bueno, en gran parte | CNN\n",
            "Un gen muy raro podría explicar por qué hay mujeres que no necesitan un alivio para el dolor del parto | CNN\n",
            "Trump firma orden para excluir inmigrantes indocumentados en el Censo 2020 | CNN\n",
            "Un hombre secuestrado de niño hace 32 años vuelve a reunirse con su familia | CNN\n",
            "Pompeo: \"La presión de EE.UU. sobre Venezuela es mayor que nunca\" | CNN\n",
            "Rob Gronkowski acuerda salir de su retiro para jugar en Tampa Bay con Tom Brady | CNN\n",
            "Sin Maduro y sin Guaidó: Pompeo revela nuevo plan de transición de Gobierno para Venezuela | CNN\n",
            "El secreto del éxito de Netflix, ¿su cultura corporativa?\n",
            "Biden niega acusación de agresión sexual: \"Eso nunca sucedió\" | CNN\n",
            "Los incendios forestales de California han consumido más de 800.000 hectáreas y han provocado cortes de energía en más de 170.000 | CNN\n",
            "\"Una fuerza mágica\": cartas de Trump y Kim Jong Un nunca antes vistas revelan detalles de su \"amistad especial\" | CNN\n",
            "¿Sabes qué significa \"latinx\"? Esta es la explicación (y la razón de las divisiones que provoca) | CNN\n",
            "Trump le pidió al presidente de China que lo ayudara a ganar las elecciones de 2020, afirma Bolton en su nuevo libro | CNN\n",
            "Necesidad de Trump de chismosear sobre armas nucleares produce ansiedad | CNN\n"
          ],
          "name": "stdout"
        }
      ]
    },
    {
      "cell_type": "markdown",
      "metadata": {
        "id": "iOFpuc9U6N29"
      },
      "source": [
        "Eliminando noticias no relacionadas"
      ]
    },
    {
      "cell_type": "code",
      "metadata": {
        "id": "Qpe-WKtwrXI7"
      },
      "source": [
        "df_cnn = df_cnn[~df_cnn['out_of_context']]"
      ],
      "execution_count": 1162,
      "outputs": []
    },
    {
      "cell_type": "markdown",
      "metadata": {
        "id": "-1t6EbNVoLZC"
      },
      "source": [
        "## Removiendo frases relacionadas a CNN"
      ]
    },
    {
      "cell_type": "markdown",
      "metadata": {
        "id": "bfsr9XyHHvnW"
      },
      "source": [
        "Explorando se encontró que en el título de ciertas noticias aparece la abreviatura CNN.\n",
        "\n",
        "\n",
        "> *Muere Herman Cain por coronavirus | CNN*\n",
        "\n"
      ]
    },
    {
      "cell_type": "code",
      "metadata": {
        "id": "raMJGY1IMIxB"
      },
      "source": [
        "pd.options.display.max_colwidth = 150"
      ],
      "execution_count": 1163,
      "outputs": []
    },
    {
      "cell_type": "code",
      "metadata": {
        "id": "dC9L2lekHVtI",
        "outputId": "9deb3757-68f6-4db3-8157-3acbf1e6dcc9",
        "colab": {
          "base_uri": "https://localhost:8080/",
          "height": 255
        }
      },
      "source": [
        "df_cnn[df_cnn['title'].apply(lambda x: 'cnn' in x.lower())]['title']"
      ],
      "execution_count": 1164,
      "outputs": [
        {
          "output_type": "execute_result",
          "data": {
            "text/plain": [
              "0                                                   Coronavirus 16 de marzo: 87 muertes por coronavirus en EE.UU. | CNN\n",
              "1                                                                                      ¿Cómo mata el coronavirus? | CNN\n",
              "2                                                                               Muere Herman Cain por coronavirus | CNN\n",
              "3                                                                                   El coronavirus llega a México | CNN\n",
              "4                                                                        10 lecciones magistrales del coronavirus | CNN\n",
              "                                                             ...                                                       \n",
              "3610    Esta exastronauta es la primera persona que visita tanto el espacio como el lugar más profundo del océano | CNN\n",
              "3611                       Desnudos, mojigatos y swingers. El hotel Hedonism II se adapta a la era de la pandemia | CNN\n",
              "3612                                      La OMS se reunirá de urgencia por aumento de casos del coronavirus MERS | CNN\n",
              "3613                                              Organízate para trabajar mejor desde casa con estos 15 consejos | CNN\n",
              "3652               Por el covid-19, esta perrita tuvo que viajar miles de kilómetros para reunirse con sus dueños | CNN\n",
              "Name: title, Length: 3173, dtype: string"
            ]
          },
          "metadata": {
            "tags": []
          },
          "execution_count": 1164
        }
      ]
    },
    {
      "cell_type": "markdown",
      "metadata": {
        "id": "S8Ze8-LPklaW"
      },
      "source": [
        "También en el texto de los artículos provenientes de la fuente CNN, se encuentra sus abreviaturas. Siguen una estructura formada por:\n",
        "> título ... (CNN) : texto...\n",
        "\n",
        "Por ejemplo: \n",
        "\n",
        "> *Científicos dicen que un nuevo virus relacionado con el SARS es el culpable del misterioso brote de neumonía en China\\n(CNN)  Según científicos c...*"
      ]
    },
    {
      "cell_type": "code",
      "metadata": {
        "id": "M37zhBrzkPNh",
        "outputId": "331d1a23-dcac-423e-ad2f-b24c0063ebf1",
        "colab": {
          "base_uri": "https://localhost:8080/",
          "height": 437
        }
      },
      "source": [
        "df_cnn[df_cnn['text'].apply(lambda x: 'cnn' in str(x).lower())]['text']"
      ],
      "execution_count": 1165,
      "outputs": [
        {
          "output_type": "execute_result",
          "data": {
            "text/plain": [
              "1       ¿Cómo mata el coronavirus?\n",
              "(CNN Español)  Sabemos de los síntomas leves del coronavirus: el dolor de cabeza y de garganta, el malestar y la tos.\n",
              "...\n",
              "2       Muere Herman Cain por coronavirus\n",
              "(CNN)  Herman Cain, el ex candidato presidencial y ex presidente ejecutivo de Godfathers Pizza, murió de coron...\n",
              "3       El coronavirus llega a México\n",
              "(CNN Español)  El Gobierno de México confirmó este viernes el primer caso de coronavirus en el país. Más adelante, ...\n",
              "4       10 lecciones magistrales del coronavirus\n",
              "Nota del editor: Rafael Domingo Oslé es profesor en el Centro de Derecho y Religión de la Universidad de ...\n",
              "5       OPINIÓN | Elecciones infectadas con coronavirus\n",
              "Nota del Editor: Patricio Morelos es consultor de comunicación política. Politólogo por el ITESM y...\n",
              "                                                                                ...                                                                          \n",
              "3609    OPINIÓN | Los restaurantes necesitarán un milagro para sobrevivir a esto\n",
              "Nota del editor: Rohini Dey es fundadora y propietaria del restaurante Ve...\n",
              "3610    Esta exastronauta es la primera persona que visita tanto el espacio como el lugar más profundo del océano\n",
              "(CNN)  Solo ocho personas han llegado a...\n",
              "3611    Desnudos, mojigatos y swingers. El hotel Hedonism II se adapta a la era de la pandemia\n",
              "(CNN)  Durante el tiempo que pasé viviendo con mi esposo a...\n",
              "3612    La OMS se reunirá de urgencia por aumento de casos del coronavirus MERS\n",
              "(CNN MÉXICO) - La Organización Mundial de la Salud (OMS) celebrará el pró...\n",
              "3652    (CNN)  Los mejores perros siempre encuentran el camino a casa. Algunas veces, como la perrita salchicha Pipsqueak, deben embarcarse en un viaje ...\n",
              "Name: text, Length: 3234, dtype: string"
            ]
          },
          "metadata": {
            "tags": []
          },
          "execution_count": 1165
        }
      ]
    },
    {
      "cell_type": "code",
      "metadata": {
        "id": "SmGKvTWalesr",
        "outputId": "6fbc5d51-89b6-49b2-8453-c41aaacbbfa6",
        "colab": {
          "base_uri": "https://localhost:8080/",
          "height": 108
        }
      },
      "source": [
        "import re \n",
        "remove_list = [\"Minuto a minuto\", \"panorama mundial:\",  \"cosas que debes saber\",\n",
        "                    \"encuesta cnn:\", \"exclusiva de cnn:\", \"Ver más artículos de opinión sobre CNN\", \n",
        "                    \"CNN Español\", \"CNN Radio Argentina\",  \"\\(CNN\\)\", \"\\| cnn\",\n",
        "                    \"\\#encuentrodigitalcnn\",  \"Ver más opinión en CNNe\\.com\\/opinion\",\n",
        "                    \"CNN Radio\", \"nota del editor\",  \"OPINIÓN \\|\", \"OPINIÓN:\", \"\\[opinión\\]\", \"\\(opinión\\)\",\n",
        "                    \"ANÁLISIS:\", \"ANÁLISIS \\|\", \"\\(análisis\\)\",\n",
        "                    \"Lea más notas como esta en cnne\\.com\\/opinión\", ]\n",
        "remove_list = [word.lower() for word in remove_list]\n",
        "exclusions = '(' + '|'.join(remove_list) + ')'\n",
        "\n",
        "exclusions"
      ],
      "execution_count": 1166,
      "outputs": [
        {
          "output_type": "execute_result",
          "data": {
            "application/vnd.google.colaboratory.intrinsic+json": {
              "type": "string"
            },
            "text/plain": [
              "'(minuto a minuto|panorama mundial:|cosas que debes saber|encuesta cnn:|exclusiva de cnn:|ver más artículos de opinión sobre cnn|cnn español|cnn radio argentina|\\\\(cnn\\\\)|\\\\| cnn|\\\\#encuentrodigitalcnn|ver más opinión en cnne\\\\.com\\\\/opinion|cnn radio|nota del editor|opinión \\\\||opinión:|\\\\[opinión\\\\]|\\\\(opinión\\\\)|análisis:|análisis \\\\||\\\\(análisis\\\\)|lea más notas como esta en cnne\\\\.com\\\\/opinión)'"
            ]
          },
          "metadata": {
            "tags": []
          },
          "execution_count": 1166
        }
      ]
    },
    {
      "cell_type": "code",
      "metadata": {
        "id": "B7ZH2HipnV5L"
      },
      "source": [
        "def remove_cnn_words(text):\n",
        "  return re.sub(exclusions, '', text.lower(), flags=re.M)\n",
        "    \n",
        "df_cnn['text'] = df_cnn['text'].apply(remove_cnn_words)\n",
        "df_cnn['title'] = df_cnn['title'].apply(remove_cnn_words)\n",
        "\n"
      ],
      "execution_count": 1167,
      "outputs": []
    },
    {
      "cell_type": "code",
      "metadata": {
        "id": "om6k4BbKwqwd",
        "outputId": "63c93064-e22b-4942-de77-784da45a5363",
        "colab": {
          "base_uri": "https://localhost:8080/",
          "height": 401
        }
      },
      "source": [
        "df_cnn[df_cnn['title'].apply(lambda x: 'cnn' in x.lower())]['title']"
      ],
      "execution_count": 1168,
      "outputs": [
        {
          "output_type": "execute_result",
          "data": {
            "text/plain": [
              "49                                                                                                   últimas noticias de panorama mundial  cnn\n",
              "105                       coronavirus 14 de julio, : américa latina supera a ee.uu. y canadá en muertes por coronavirus, según análisis de cnn \n",
              "152                                                                                 ¿por qué cnn llama pandemia al nuevo brote de coronavirus? \n",
              "242                                                                        cnn en español estrena el podcast coronavirus: realidad vs. ficción \n",
              "288                                                                                cnn en español presenta el especial 'coronavirus: pandemia' \n",
              "381                                                            cnn en español lanza un podcast sobre el coronavirus con el doctor elmer huerta \n",
              "540                                      así es cómo la inteligencia artificial ha ayudado a luchar contra el coronavirus #encuentrocnndigital \n",
              "1043                                                       deepak chopra respondió las preguntas de guillermo arduino en encuentro digital cnn \n",
              "1338                    los esteroides comunes reducen las muertes entre los pacientes gravemente enfermos con covid-19, confirma un nuevo  cnn\n",
              "1722    el covid-19 \"terminará como una de las 10 principales causas de muerte\" en 2020, dijeron a cnn especialistas en estadística de los cdc \n",
              "1781        el número de muertes, en general, aumentó en estados unidos mientras el covid-19 se propagaba en marzo y abril, según un nuevo  cnn\n",
              "1852                                                                                                       cnn realizará un foro con joe biden \n",
              "2331                                                                                              5 conclusiones del foro de cnn con joe biden \n",
              "2544                                     richard quest de cnn: \"tuve covid-19 hace dos meses. todavía estoy descubriendo nuevas áreas de daño\" \n",
              "2663                        encuesta de cnn: el enfrentamiento entre biden y trump se endurece; entusiasmo de votantes alcanza un nuevo récord \n",
              "3013                                                                    cnn en español y  lanzan el nuevo programa matutino cnn primera mañana \n",
              "3275                                     cnn y sesame street se vuelven a unir para presentar el abc del covid-19, un foro para padres e hijos \n",
              "3355                                                                                           ¿quién ganó el debate? esto dice encuesta de cnn\n",
              "3526                                                campaña de trump exige que cnn se disculpe por una encuesta que muestra a biden como líder \n",
              "Name: title, dtype: object"
            ]
          },
          "metadata": {
            "tags": []
          },
          "execution_count": 1168
        }
      ]
    },
    {
      "cell_type": "markdown",
      "metadata": {
        "id": "Gcf0KUGRlqwX"
      },
      "source": [
        "## Verificando la coherencia en 'date'"
      ]
    },
    {
      "cell_type": "code",
      "metadata": {
        "id": "ADl8rWUMlaN4",
        "outputId": "50fd547d-7296-42f2-86ef-5a97a9b55374",
        "colab": {
          "base_uri": "https://localhost:8080/",
          "height": 319
        }
      },
      "source": [
        "df_cnn['date'] = pd.to_datetime(df_cnn['date'], yearfirst=True)\n",
        "df_cnn.groupby('date').count()['title'].plot(figsize=(16, 6))"
      ],
      "execution_count": 1169,
      "outputs": [
        {
          "output_type": "execute_result",
          "data": {
            "text/plain": [
              "<matplotlib.axes._subplots.AxesSubplot at 0x7f4cfa4c99e8>"
            ]
          },
          "metadata": {
            "tags": []
          },
          "execution_count": 1169
        },
        {
          "output_type": "display_data",
          "data": {
            "image/png": "[encoded data removed]",
            "text/plain": [
              "<Figure size 1152x432 with 1 Axes>"
            ]
          },
          "metadata": {
            "tags": [],
            "needs_background": "light"
          }
        }
      ]
    },
    {
      "cell_type": "code",
      "metadata": {
        "id": "ZvvuyBM-mb5i"
      },
      "source": [
        "to_drop = df_cnn['date'] < pd.to_datetime('2020/01/01')"
      ],
      "execution_count": 1170,
      "outputs": []
    },
    {
      "cell_type": "code",
      "metadata": {
        "id": "q1Er125RnOdS"
      },
      "source": [
        "df_cnn = df_cnn[~to_drop]"
      ],
      "execution_count": 1171,
      "outputs": []
    },
    {
      "cell_type": "code",
      "metadata": {
        "id": "uDIEpx28ng6b",
        "outputId": "64902840-28e4-45e4-c06d-a0f0aae44b93",
        "colab": {
          "base_uri": "https://localhost:8080/",
          "height": 325
        }
      },
      "source": [
        "df_cnn.groupby('date').count()['title'].plot(figsize=(16, 6))"
      ],
      "execution_count": 1172,
      "outputs": [
        {
          "output_type": "execute_result",
          "data": {
            "text/plain": [
              "<matplotlib.axes._subplots.AxesSubplot at 0x7f4cef0179b0>"
            ]
          },
          "metadata": {
            "tags": []
          },
          "execution_count": 1172
        },
        {
          "output_type": "display_data",
          "data": {
            "image/png": "[encoded data removed]",
            "text/plain": [
              "<Figure size 1152x432 with 1 Axes>"
            ]
          },
          "metadata": {
            "tags": [],
            "needs_background": "light"
          }
        }
      ]
    },
    {
      "cell_type": "markdown",
      "metadata": {
        "id": "bO-D5qGjqRDs"
      },
      "source": [
        "# Unificando los conjuntos de datos"
      ]
    },
    {
      "cell_type": "code",
      "metadata": {
        "id": "YZOwfX5MqXoX",
        "outputId": "fa6eddbd-0021-4207-d3ff-3bfd53084184",
        "colab": {
          "base_uri": "https://localhost:8080/",
          "height": 217
        }
      },
      "source": [
        "df_google.columns.tolist()"
      ],
      "execution_count": 1173,
      "outputs": [
        {
          "output_type": "execute_result",
          "data": {
            "text/plain": [
              "['url',\n",
              " 'reviewDate',\n",
              " 'textualRating',\n",
              " 'languageCode',\n",
              " 'publisher.name',\n",
              " 'publisher.site',\n",
              " 'title',\n",
              " 'text',\n",
              " 'claimant',\n",
              " 'claimDate',\n",
              " 'out_of_context']"
            ]
          },
          "metadata": {
            "tags": []
          },
          "execution_count": 1173
        }
      ]
    },
    {
      "cell_type": "code",
      "metadata": {
        "id": "8oSSk187qZTO",
        "outputId": "2c220b76-2107-46bb-c1a1-27545a236bae",
        "colab": {
          "base_uri": "https://localhost:8080/",
          "height": 326
        }
      },
      "source": [
        "df_cheq.columns.tolist()"
      ],
      "execution_count": 1174,
      "outputs": [
        {
          "output_type": "execute_result",
          "data": {
            "text/plain": [
              "['pais',\n",
              " 'titulo',\n",
              " 'calificacion',\n",
              " 'descripcion',\n",
              " 'fecha del chequeo',\n",
              " 'organizacion',\n",
              " 'link al chequeo',\n",
              " 'tipo de informacion',\n",
              " 'formato de la desinformacion',\n",
              " 'tipo de nota',\n",
              " 'link a la desinformacion',\n",
              " 'fecha deteccion desinformacion',\n",
              " 'origen',\n",
              " 'persona',\n",
              " 'actualizaciones',\n",
              " 'circulo en otros paises',\n",
              " 'extra']"
            ]
          },
          "metadata": {
            "tags": []
          },
          "execution_count": 1174
        }
      ]
    },
    {
      "cell_type": "code",
      "metadata": {
        "id": "ss5AxZs6qgUE",
        "outputId": "434c5244-b6a7-427a-fa1d-e9668e4ac007",
        "colab": {
          "base_uri": "https://localhost:8080/",
          "height": 199
        }
      },
      "source": [
        "df_cnn.columns.tolist()"
      ],
      "execution_count": 1175,
      "outputs": [
        {
          "output_type": "execute_result",
          "data": {
            "text/plain": [
              "['id',\n",
              " 'url',\n",
              " 'author',\n",
              " 'date',\n",
              " 'description',\n",
              " 'sitename',\n",
              " 'title',\n",
              " 'text',\n",
              " 'categoria',\n",
              " 'out_of_context']"
            ]
          },
          "metadata": {
            "tags": []
          },
          "execution_count": 1175
        }
      ]
    },
    {
      "cell_type": "code",
      "metadata": {
        "id": "NMkc0rsg8iIJ"
      },
      "source": [
        "NORMALIZED_COLNAMES = {\n",
        "      \"url\": [\"url\", \"link al chequeo\"],\n",
        "      \"titulo\": [\"title\", \"titulo\"],\n",
        "      \"texto\": [\"text\", \"descripcion\"],\n",
        "      \"categoria\": [\"textualRating\", \"calificacion\"],\n",
        "      # \"fecha_revision\": [\"reviewDate\", \"fecha del chequeo\"],\n",
        "      \"fecha_aparicion\": [\"reviewDate\", \"fecha del chequeo\", 'date'],\n",
        "      \"organizacion\": [\"publisher.name\", \"organizacion\", 'sitename']\n",
        "      }"
      ],
      "execution_count": 1176,
      "outputs": []
    },
    {
      "cell_type": "code",
      "metadata": {
        "id": "Wz7r7g3X1tVf"
      },
      "source": [
        "def change_colnames(column):\n",
        "  for k, v in NORMALIZED_COLNAMES.items():\n",
        "    if column in v:\n",
        "      return k\n",
        "  return column"
      ],
      "execution_count": 1177,
      "outputs": []
    },
    {
      "cell_type": "code",
      "metadata": {
        "id": "d1y4GfZP5uHx"
      },
      "source": [
        "[df.rename(columns=change_colnames, inplace=True) for df in [df_google, df_cheq, df_cnn]];"
      ],
      "execution_count": 1178,
      "outputs": []
    },
    {
      "cell_type": "code",
      "metadata": {
        "id": "uUp0rFkZ73UU"
      },
      "source": [
        "columns = NORMALIZED_COLNAMES.keys()\n",
        "df = pd.concat([df_google[columns].copy(), \n",
        "                df_cheq[columns].copy(),\n",
        "                df_cnn[columns].copy()])\n"
      ],
      "execution_count": 1179,
      "outputs": []
    },
    {
      "cell_type": "code",
      "metadata": {
        "id": "gGX6nSV08cui"
      },
      "source": [
        ""
      ],
      "execution_count": 1179,
      "outputs": []
    },
    {
      "cell_type": "markdown",
      "metadata": {
        "id": "Ad5cNm5q-uXI"
      },
      "source": [
        "# Agrupando las categerías en 'confiable' y 'no confiable'"
      ]
    },
    {
      "cell_type": "code",
      "metadata": {
        "id": "IFKUMVFE3sNq"
      },
      "source": [
        "from pprint import pprint"
      ],
      "execution_count": 1180,
      "outputs": []
    },
    {
      "cell_type": "code",
      "metadata": {
        "id": "ucEjHNpT3fc1",
        "outputId": "c09556ad-017c-4031-a585-ade56175e81d",
        "colab": {
          "base_uri": "https://localhost:8080/",
          "height": 545
        }
      },
      "source": [
        "categorias = set(df['categoria'])\n",
        "pprint(sorted(categorias), width=40, compact=True)"
      ],
      "execution_count": 1181,
      "outputs": [
        {
          "output_type": "stream",
          "text": [
            "['-', 'Apresurado ', 'Bulo ',\n",
            " 'Chequeo Múltiple',\n",
            " 'Chequeo múltiple ', 'Cierto ',\n",
            " 'Cierto, pero ', 'Cuestionable',\n",
            " 'Cuestionable ', 'Desvirtuado ',\n",
            " 'Discurso falso', 'Discutible ',\n",
            " 'Dudoso ', 'Engañoso', 'Engañoso ',\n",
            " 'Exagerado ', 'Fake ', 'False',\n",
            " 'Falseta ', 'Falso', 'Falso ', 'Faux',\n",
            " 'Faux / Infondé', 'Fuera de contexto ',\n",
            " 'Impreciso', 'Impreciso ',\n",
            " 'Impreciso  ', 'Inchequeable ',\n",
            " 'Inexacto-300x72', 'Insostenible',\n",
            " 'Insostenible ', 'Manipulacja',\n",
            " 'Manipulado ', 'Media Verdad',\n",
            " 'Media verdad ', 'Mentira ', 'Montaje',\n",
            " 'No es Fake ', 'No hay certeza ',\n",
            " 'No hay evidencia',\n",
            " 'No hay evidencia ',\n",
            " 'No hay evidencias', 'No verificable ',\n",
            " 'Parcialmente falso',\n",
            " 'Parcialmente falso ',\n",
            " 'Sacado de contexto ', 'Sesat',\n",
            " 'Sin datos ', 'Sátira ', 'Verdad',\n",
            " 'Verdad ', 'Verdadero', 'Verdadero ',\n",
            " 'Verdadero pero...',\n",
            " 'Verdadero, pero ', 'Verificamos',\n",
            " 'Verificamos/Engañoso', 'Virales ',\n",
            " 'confiable', 'distorcido', 'falso']\n"
          ],
          "name": "stdout"
        }
      ]
    },
    {
      "cell_type": "code",
      "metadata": {
        "id": "OQa-_wqmo_IR"
      },
      "source": [
        "confiable = ['Cierto ', 'Cierto, pero ', 'No es Fake ', 'Verdad', 'Verdad ',\n",
        "             'Verdadero', 'Verdadero ', 'Verdadero pero...', 'Verdadero, pero ',\n",
        "             'Verificamos', 'confiable']\n",
        "             \n",
        "no_confiable = categorias.difference(confiable)"
      ],
      "execution_count": 1182,
      "outputs": []
    },
    {
      "cell_type": "code",
      "metadata": {
        "id": "WXbGvb6rHaYu"
      },
      "source": [
        "#Transformando los datos\n",
        "df['cat'] = df['categoria'].apply(lambda x: 'confiable' if x in confiable else 'no confiable')"
      ],
      "execution_count": 1183,
      "outputs": []
    },
    {
      "cell_type": "code",
      "metadata": {
        "id": "Vis65OtZ3OxR",
        "outputId": "b09d67f3-3943-478e-d310-3c38a4d874b6",
        "colab": {
          "base_uri": "https://localhost:8080/",
          "height": 72
        }
      },
      "source": [
        "df['cat'].value_counts()"
      ],
      "execution_count": 1184,
      "outputs": [
        {
          "output_type": "execute_result",
          "data": {
            "text/plain": [
              "confiable       4189\n",
              "no confiable    3313\n",
              "Name: cat, dtype: int64"
            ]
          },
          "metadata": {
            "tags": []
          },
          "execution_count": 1184
        }
      ]
    },
    {
      "cell_type": "code",
      "metadata": {
        "id": "iQAglcyy3D01",
        "outputId": "92305a46-c319-4bc3-959a-1a7bc2021786",
        "colab": {
          "base_uri": "https://localhost:8080/",
          "height": 945
        }
      },
      "source": [
        "df.query(\"cat == 'no confiable'\")['categoria'].value_counts()"
      ],
      "execution_count": 1185,
      "outputs": [
        {
          "output_type": "execute_result",
          "data": {
            "text/plain": [
              "Falso                   1628\n",
              "Falso                    731\n",
              "Bulo                     300\n",
              "Engañoso                 166\n",
              "Engañoso                 109\n",
              "Falseta                   85\n",
              "falso                     42\n",
              "Cuestionable              42\n",
              "Sacado de contexto        31\n",
              "Cuestionable              28\n",
              "Chequeo múltiple          19\n",
              "-                         17\n",
              "Insostenible              12\n",
              "Mentira                   11\n",
              "Chequeo Múltiple           8\n",
              "Media verdad               7\n",
              "Fuera de contexto          6\n",
              "Manipulado                 6\n",
              "Impreciso                  6\n",
              "Fake                       5\n",
              "Impreciso                  5\n",
              "Discutible                 4\n",
              "Parcialmente falso         4\n",
              "Parcialmente falso         4\n",
              "Impreciso                  3\n",
              "False                      3\n",
              "No hay certeza             3\n",
              "Apresurado                 3\n",
              "Sátira                     2\n",
              "Faux                       2\n",
              "No hay evidencia           2\n",
              "No hay evidencia           1\n",
              "Manipulacja                1\n",
              "Sin datos                  1\n",
              "Virales                    1\n",
              "Media Verdad               1\n",
              "Faux / Infondé             1\n",
              "Inexacto-300x72            1\n",
              "No verificable             1\n",
              "Dudoso                     1\n",
              "Desvirtuado                1\n",
              "Montaje                    1\n",
              "Sesat                      1\n",
              "Exagerado                  1\n",
              "Discurso falso             1\n",
              "Verificamos/Engañoso       1\n",
              "distorcido                 1\n",
              "Inchequeable               1\n",
              "Insostenible               1\n",
              "No hay evidencias          1\n",
              "Name: categoria, dtype: Int64"
            ]
          },
          "metadata": {
            "tags": []
          },
          "execution_count": 1185
        }
      ]
    },
    {
      "cell_type": "code",
      "metadata": {
        "id": "_FHw3FM73WWq",
        "outputId": "99df9906-9276-47dc-a321-46837cd5e5e2",
        "colab": {
          "base_uri": "https://localhost:8080/",
          "height": 235
        }
      },
      "source": [
        "df.query(\"cat == 'confiable'\")['categoria'].value_counts()"
      ],
      "execution_count": 1186,
      "outputs": [
        {
          "output_type": "execute_result",
          "data": {
            "text/plain": [
              "confiable            4071\n",
              "Verdadero              51\n",
              "Verdadero, pero        20\n",
              "Verdadero pero...      13\n",
              "Verdadero              13\n",
              "Verificamos             8\n",
              "Cierto                  5\n",
              "Verdad                  3\n",
              "No es Fake              2\n",
              "Verdad                  2\n",
              "Cierto, pero            1\n",
              "Name: categoria, dtype: Int64"
            ]
          },
          "metadata": {
            "tags": []
          },
          "execution_count": 1186
        }
      ]
    },
    {
      "cell_type": "code",
      "metadata": {
        "id": "KaVDRJoMaEvk"
      },
      "source": [
        ""
      ],
      "execution_count": 1186,
      "outputs": []
    },
    {
      "cell_type": "markdown",
      "metadata": {
        "id": "o3bRomQczH2g"
      },
      "source": [
        "## Duplicados?"
      ]
    },
    {
      "cell_type": "code",
      "metadata": {
        "id": "ZA63rbabx7d7",
        "outputId": "abec4360-aebb-4a1c-c143-e667bfc3cad5",
        "colab": {
          "base_uri": "https://localhost:8080/",
          "height": 255
        }
      },
      "source": [
        "df['texto'].value_counts()"
      ],
      "execution_count": 1187,
      "outputs": [
        {
          "output_type": "execute_result",
          "data": {
            "text/plain": [
              "no text                                                                                                                                                                                                                                                                                                                                                                                                                                                                                                                                                                                                                                                                                                                                                                                                                                                                                                                                                                                                                                                                                                                                                                                                                                                                                                                                                                                                                                                                                                                                                                                                                                                                                                                                                                                                                                                                                                                                                                                                                                                                                                                                                                                                                                                                                                                                                                                                                                                                                                                                                                                                                                                                                                                                                                                                                                                                                                                                                                                                                                                                                                                                                                                                                                                                                                                                                                                                                                                                39\n",
              "Tomar mate, la yerba mate, mejora la resistencia al coronavirus COVID-19                                                                                                                                                                                                                                                                                                                                                                                                                                                                                                                                                                                                                                                                                                                                                                                                                                                                                                                                                                                                                                                                                                                                                                                                                                                                                                                                                                                                                                                                                                                                                                                                                                                                                                                                                                                                                                                                                                                                                                                                                                                                                                                                                                                                                                                                                                                                                                                                                                                                                                                                                                                                                                                                                                                                                                                                                                                                                                                                                                                                                                                                                                                                                                                                                                                                                                                                                                                                3\n",
              "Mezclar Suavitel, vinagre, cloro y agua inactiva al coronavirus COVID-19                                                                                                                                                                                                                                                                                                                                                                                                                                                                                                                                                                                                                                                                                                                                                                                                                                                                                                                                                                                                                                                                                                                                                                                                                                                                                                                                                                                                                                                                                                                                                                                                                                                                                                                                                                                                                                                                                                                                                                                                                                                                                                                                                                                                                                                                                                                                                                                                                                                                                                                                                                                                                                                                                                                                                                                                                                                                                                                                                                                                                                                                                                                                                                                                                                                                                                                                                                                                3\n",
              "Estas imágenes muestran fotos de ataúdes con cadáveres de muertos por COVID-19 en Barcelona                                                                                                                                                                                                                                                                                                                                                                                                                                                                                                                                                                                                                                                                                                                                                                                                                                                                                                                                                                                                                                                                                                                                                                                                                                                                                                                                                                                                                                                                                                                                                                                                                                                                                                                                                                                                                                                                                                                                                                                                                                                                                                                                                                                                                                                                                                                                                                                                                                                                                                                                                                                                                                                                                                                                                                                                                                                                                                                                                                                                                                                                                                                                                                                                                                                                                                                                                                             3\n",
              "La ivermectina cura Covid-19 porque mata el coronavirus en 48 horas                                                                                                                                                                                                                                                                                                                                                                                                                                                                                                                                                                                                                                                                                                                                                                                                                                                                                                                                                                                                                                                                                                                                                                                                                                                                                                                                                                                                                                                                                                                                                                                                                                                                                                                                                                                                                                                                                                                                                                                                                                                                                                                                                                                                                                                                                                                                                                                                                                                                                                                                                                                                                                                                                                                                                                                                                                                                                                                                                                                                                                                                                                                                                                                                                                                                                                                                                                                                     2\n",
              "                                                                                                                                                                                                                                                                                                                                                                                                                                                                                                                                                                                                                                                                                                                                                                                                                                                                                                                                                                                                                                                                                                                                                                                                                                                                                                                                                                                                                                                                                                                                                                                                                                                                                                                                                                                                                                                                                                                                                                                                                                                                                                                                                                                                                                                                                                                                                                                                                                                                                                                                                                                                                                                                                                                                                                                                                                                                                                                                                                                                                                                                                                                                                                                                                                                                                                                                                                                                                                                                       ..\n",
              "una familia encuentra casi 1 millón de dólares en efectivo en medio de un camino. ahora la policía busca pistas\\n  una familia de virginia trataba de distraerse del estrés del coronavirus con un paseo en auto cuando descubrió lo que resultó ser casi 1 millón de dólares en efectivo justo en la mitad de un camino.\\nsucedió el fin de semana pasado.\\nun automóvil frente a la familia schantz esquivó lo que parecía ser una gran bolsa de basura en la carretera, según le relató a cnn el mayor scott moser, del departamento del sheriff del condado de caroline. sin embargo, los schantz no tuvieron tiempo de hacer lo mismo.\\n- mira: un hombre retira 1.700 dólares de estímulo económico y el recibo muestra 8,2 millones de dólares en su cuenta\\nentonces pasaron por encima de la bolsa. y en lugar de dejar la basura en el camino, se detuvieron, la recogieron y la pusieran en la parte trasera del vehículo, añadió moser.\\nvieron otra bolsa en una zanja cercana y también la recogieron. después de que llegaron a casa esa noche, iban a tirar lo que creían era basura en las dos bolsas.\\ncuando lo hicieron, parecía (que lo que había adentro) era correo. luego, miraron con más detalle y parecía ser dinero en efectivo, completó moser.\\nla familia schantz coincidía en la iglesia con uno de los sheriffs del condado. él les dijo que llamaran a las autoridades de su departamento.\\nfuimos a la cada y determinamos que era, de hecho, efectivo. estaba en dos bolsas y el total era cercano a 1 millón de dólares, añadió moser.\\ndentro de las dos bolsas grandes había unas más pequeñas, y cada una contenía información sobre dónde debería haberse depositado el dinero.\\ndentro de la bolsa, había bolsas de plástico y fueron marcadas con algo que decía caja fuerte, le indicó emily schantz a wtvr, afiliada de cnn.\\n- lee: un hombre de albuquerque encontró us$ 135.000 al lado de un cajero automático y en lugar de llevárselos, llamó a la policía\\nel departamento del sheriff realizó su propia investigación antes de entregarlo al servicio postal de los estados unidos, que ahora está indagando en el asunto.\\na quién pertenecía realmente, a dónde iba, explicó moser, no hemos revelado nada de eso.\\nel servicio postal ahora trabaja para devolverle el dinero a su propietario.\\nes realmente para darle crédito al carácter y la fibra de la familia, dijo moser. estoy seguro de que sería difícil tomar esa decisión. son casi 1 millón de dólares en efectivo. pero hicieron lo correcto.                                                                                                                                                                                                                                                                                                                                                                                                                                                                                                                                                                                                                                                                                                                                                                                                                                                                                1\n",
              "la vacuna de méxico y argentina podría comenzar a producirse incluso antes de ser aprobada\\n()  el proyecto de producción de una posible vacuna contra el covid-19 para distribuirse en américa latina, desarrollada por el laboratorio astrazeneca junto a la universidad de oxford y financiada por la fundación carlos slim, comienza este jueves.\\n«el proceso comenzaría mañana mismo, o sea, todo el proceso, la transferencia de tecnología, después la fabricación, la distribución, todo el proceso, pero este acuerdo se firmó anoche para empezar mañana mismo, hoy mismo», dijo arturo elías ayub, portavoz de la fundación carlos slim.\\nlas declaraciones del portavoz de la fundación carlos slim surgen horas después de que el presidente de argentina, alberto fernández, anunciara que su país y méxico producirán esta vacuna contra el covid-19, de la cual habrá, según dijo el mandatario, entre 150 y 250 millones de dosis para américa latina, con excepción de brasil.\\n- méxico y argentina llegan a acuerdo para producir vacuna contra covid-19 de astrazeneca y universidad de oxford\\n«la colaboración entre la fundación y astrazeneca es una colaboración para poder empezar a producir una cantidad importante de vacunas inclusiva antes de que esté aprobada y tomar ese riesgo para que en américa latina la vacuna esté lo antes posible y la población se la pueda poner», dijo arturo elías ayub.\\nla vacuna, que aún no ha sido aprobada y se encuentra en la fase tres de los ensayos, podría estar lista en el primer semestre de 2021. «si no se hubiera logrado este acuerdo entre astrazeneca y la fundación carlos slim, tal vez latinoamérica tardaría un año más en recibir esta vacuna», dijo el portavoz.\\n«lo que estamos haciendo es adelantarnos, tomando ese riesgo que parece que va por buen camino todo, pero siempre hay un riesgo de que no se apruebe, pero en el momento de que se apruebe, ya ir muy adelantado en la producción», añadió.\\nsegún elías ayub la farmacéutica astrazeneca buscó desde un principio un solo contacto para toda américa latina, una sola institución en la que pudiera confiar para asegurar este proceso de producción.\\n«existe una alianza con otros laboratorios de argentina y méxico que serían los que aportarían los equipos para elaborar la vacuna. la aportación de la fundación es para asegurar que se compren todos los materiales que se necesitan para la producción de la vacuna, asegurando económicamente la factibilidad de que se empiece a producir ahora asumiendo el riesgo que tenga, junto con los gobiernos de los países que tengan esta vacuna, de no ser aprobada», señaló el portavoz de la fundación slim.\\nel ministro de salud de argentina, ginés gonzález garcia, manifestó este miércoles la importancia de algunos estudios realizados que afirman la extraordinaria capacidad que tiene esta vacuna con una sola dosis.\\nvendría el líquido, digámoslo así, desde argentina y se envasaría en méxico y desde aquí se distribuye», aseguró el portavoz de la fundación carlos slim, quien añadió que en un inicio se dará prioridad al personal médico, a las personas mayores y a otros grupos de riesgo.\\nel secretario de relaciones exteriores de méxico, marcelo ebrard, anunció en twitter que su despacho y la secretaría de salud darán este jueves más detalles de los acuerdos alcanzados para contar con la vacuna.     1\n",
              "Estas son algunas formas de contagio del nuevo coronavirus                                                                                                                                                                                                                                                                                                                                                                                                                                                                                                                                                                                                                                                                                                                                                                                                                                                                                                                                                                                                                                                                                                                                                                                                                                                                                                                                                                                                                                                                                                                                                                                                                                                                                                                                                                                                                                                                                                                                                                                                                                                                                                                                                                                                                                                                                                                                                                                                                                                                                                                                                                                                                                                                                                                                                                                                                                                                                                                                                                                                                                                                                                                                                                                                                                                                                                                                                                                                              1\n",
              "Cuando Gutiérrez hizo la declaración, cuatro de las ocho regiones antes citadas ya contaban con un plan de reforzamiento de los servicios de salud y contención del Covid-19, según consta en las resoluciones de los gobiernos regionales de Ica, Piura, Áncash y Pasco.                                                                                                                                                                                                                                                                                                                                                                                                                                                                                                                                                                                                                                                                                                                                                                                                                                                                                                                                                                                                                                                                                                                                                                                                                                                                                                                                                                                                                                                                                                                                                                                                                                                                                                                                                                                                                                                                                                                                                                                                                                                                                                                                                                                                                                                                                                                                                                                                                                                                                                                                                                                                                                                                                                                                                                                                                                                                                                                                                                                                                                                                                                                                                                                               1\n",
              "No hay pruebas científicas de que los remedios caseros puedan curar covid-19, la OMS recomienda evitar la automedicación.                                                                                                                                                                                                                                                                                                                                                                                                                                                                                                                                                                                                                                                                                                                                                                                                                                                                                                                                                                                                                                                                                                                                                                                                                                                                                                                                                                                                                                                                                                                                                                                                                                                                                                                                                                                                                                                                                                                                                                                                                                                                                                                                                                                                                                                                                                                                                                                                                                                                                                                                                                                                                                                                                                                                                                                                                                                                                                                                                                                                                                                                                                                                                                                                                                                                                                                                               1\n",
              "Name: texto, Length: 7389, dtype: int64"
            ]
          },
          "metadata": {
            "tags": []
          },
          "execution_count": 1187
        }
      ]
    },
    {
      "cell_type": "code",
      "metadata": {
        "id": "MKwfDYtsyH0y"
      },
      "source": [
        "# Llenando textos faltantes\n",
        "df.loc[df['texto'] == 'no text', 'texto'] =\\\n",
        "  df.loc[df['texto'] == 'no text', 'titulo']\n",
        "\n",
        "df['texto'].fillna(df['titulo'], inplace=True)"
      ],
      "execution_count": 1188,
      "outputs": []
    },
    {
      "cell_type": "code",
      "metadata": {
        "id": "5rKsmhe5zXWm"
      },
      "source": [
        "# Eliminando duplicados\n",
        "df.drop_duplicates('texto', inplace=True)"
      ],
      "execution_count": 1189,
      "outputs": []
    },
    {
      "cell_type": "code",
      "metadata": {
        "id": "xozpWcVvaSgG",
        "outputId": "20aec3d7-98f8-4e64-bf67-162c257b5495",
        "colab": {
          "base_uri": "https://localhost:8080/",
          "height": 35
        }
      },
      "source": [
        "df['texto'].duplicated().sum()"
      ],
      "execution_count": 1194,
      "outputs": [
        {
          "output_type": "execute_result",
          "data": {
            "text/plain": [
              "0"
            ]
          },
          "metadata": {
            "tags": []
          },
          "execution_count": 1194
        }
      ]
    },
    {
      "cell_type": "markdown",
      "metadata": {
        "id": "hxVGoOG7Xcbd"
      },
      "source": [
        "# Guardar el dataset final v 0.1"
      ]
    },
    {
      "cell_type": "code",
      "metadata": {
        "id": "HqXvsM1-XlTs",
        "outputId": "a01e6a05-d419-46c6-896e-7688455a84a0",
        "colab": {
          "base_uri": "https://localhost:8080/",
          "height": 978
        }
      },
      "source": [
        "df.head()"
      ],
      "execution_count": 1190,
      "outputs": [
        {
          "output_type": "execute_result",
          "data": {
            "text/html": [
              "<div>\n",
              "<style scoped>\n",
              "    .dataframe tbody tr th:only-of-type {\n",
              "        vertical-align: middle;\n",
              "    }\n",
              "\n",
              "    .dataframe tbody tr th {\n",
              "        vertical-align: top;\n",
              "    }\n",
              "\n",
              "    .dataframe thead th {\n",
              "        text-align: right;\n",
              "    }\n",
              "</style>\n",
              "<table border=\"1\" class=\"dataframe\">\n",
              "  <thead>\n",
              "    <tr style=\"text-align: right;\">\n",
              "      <th></th>\n",
              "      <th>url</th>\n",
              "      <th>titulo</th>\n",
              "      <th>texto</th>\n",
              "      <th>categoria</th>\n",
              "      <th>fecha_aparicion</th>\n",
              "      <th>organizacion</th>\n",
              "      <th>cat</th>\n",
              "    </tr>\n",
              "  </thead>\n",
              "  <tbody>\n",
              "    <tr>\n",
              "      <th>0</th>\n",
              "      <td>https://www.newtral.es/bulos-coronavirus-pcr-kary-mullis-videos/20201013/</td>\n",
              "      <td>no title</td>\n",
              "      <td>Estos vídeos de Kary Mullis, inventor del PCR, dejan muy claro que el test no sirve para detectar virus. Desmontan la herramienta que usan nuestro...</td>\n",
              "      <td>Falso</td>\n",
              "      <td>2020-10-13 00:00:00+00:00</td>\n",
              "      <td>Newtral</td>\n",
              "      <td>no confiable</td>\n",
              "    </tr>\n",
              "    <tr>\n",
              "      <th>1</th>\n",
              "      <td>https://colombiacheck.com/chequeos/no-ecuador-no-encontro-la-cura-para-el-covid-19-ni-mando-al-carajo-la-oms</td>\n",
              "      <td>No, Ecuador no encontró la cura para el COVID-19 ni ‘mandó al carajo a la OMS’</td>\n",
              "      <td>Ecuador venció al coronavirus</td>\n",
              "      <td>Falso</td>\n",
              "      <td>2020-10-08 18:36:17+00:00</td>\n",
              "      <td>ColombiaCheck</td>\n",
              "      <td>no confiable</td>\n",
              "    </tr>\n",
              "    <tr>\n",
              "      <th>2</th>\n",
              "      <td>https://www.telemundo.com/noticias/noticias-telemundo/elecciones-eeuu-2020/las-afirmaciones-falsas-y-enganosas-que-verificamos-durante-el-debate-e...</td>\n",
              "      <td>Las afirmaciones falsas y engañosas del debate entre Harris y Pence</td>\n",
              "      <td>\"Trump llamó al coronavirus un \"fraude\".</td>\n",
              "      <td>Falso</td>\n",
              "      <td>2020-10-08 00:00:00+00:00</td>\n",
              "      <td>Telemundo</td>\n",
              "      <td>no confiable</td>\n",
              "    </tr>\n",
              "    <tr>\n",
              "      <th>3</th>\n",
              "      <td>https://factual.afp.com/la-inscripcion-en-cajas-de-tapabocas-no-prueba-que-sean-inutiles-para-frenar-la-propagacion-de-covid</td>\n",
              "      <td>La inscripción en cajas de tapabocas no prueba que sean inútiles para frenar la propagación de covid-19</td>\n",
              "      <td>La inscripción en las cajas de mascarillas prueban que estas no sirven contra el nuevo coronavirus</td>\n",
              "      <td>Falso</td>\n",
              "      <td>2020-10-07 18:36:00+00:00</td>\n",
              "      <td>AFP Factual</td>\n",
              "      <td>no confiable</td>\n",
              "    </tr>\n",
              "    <tr>\n",
              "      <th>4</th>\n",
              "      <td>https://chequeado.com/ultimas-noticias/alesso-ctera-en-los-lugares-donde-hay-pocos-casos-de-coronavirus-hay-clases/</td>\n",
              "      <td>Alesso (CTERA): “En los lugares donde hay pocos casos, hay clases”</td>\n",
              "      <td>En los lugares donde hay pocos casos de coronavirus, hay clases</td>\n",
              "      <td>Falso</td>\n",
              "      <td>2020-10-07 00:00:00+00:00</td>\n",
              "      <td>Chequeado</td>\n",
              "      <td>no confiable</td>\n",
              "    </tr>\n",
              "  </tbody>\n",
              "</table>\n",
              "</div>"
            ],
            "text/plain": [
              "                                                                                                                                                     url  ...           cat\n",
              "0                                                                              https://www.newtral.es/bulos-coronavirus-pcr-kary-mullis-videos/20201013/  ...  no confiable\n",
              "1                                           https://colombiacheck.com/chequeos/no-ecuador-no-encontro-la-cura-para-el-covid-19-ni-mando-al-carajo-la-oms  ...  no confiable\n",
              "2  https://www.telemundo.com/noticias/noticias-telemundo/elecciones-eeuu-2020/las-afirmaciones-falsas-y-enganosas-que-verificamos-durante-el-debate-e...  ...  no confiable\n",
              "3                           https://factual.afp.com/la-inscripcion-en-cajas-de-tapabocas-no-prueba-que-sean-inutiles-para-frenar-la-propagacion-de-covid  ...  no confiable\n",
              "4                                    https://chequeado.com/ultimas-noticias/alesso-ctera-en-los-lugares-donde-hay-pocos-casos-de-coronavirus-hay-clases/  ...  no confiable\n",
              "\n",
              "[5 rows x 7 columns]"
            ]
          },
          "metadata": {
            "tags": []
          },
          "execution_count": 1190
        }
      ]
    },
    {
      "cell_type": "code",
      "metadata": {
        "id": "VIsDJK3OZBp9"
      },
      "source": [
        "df.to_csv('covid_fakenews_es')"
      ],
      "execution_count": 1191,
      "outputs": []
    },
    {
      "cell_type": "code",
      "metadata": {
        "id": "VPIsd3cnZIcl",
        "outputId": "c579a4ae-5472-4844-f567-230e09e36a33",
        "colab": {
          "base_uri": "https://localhost:8080/",
          "height": 285
        }
      },
      "source": [
        "df = pd.read_csv('covid_fakenews_es')\n",
        "df['fecha_aparicion'] = pd.to_datetime(df['fecha_aparicion'], utc=True)\n",
        "df.sort_values(by='fecha_aparicion', inplace=True, ignore_index=True)\n",
        "conf = df.query(\"cat == 'confiable'\")\n",
        "no_conf = df.query(\"cat == 'no confiable'\")\n",
        "\n",
        "conf.groupby(['fecha_aparicion']).count()['cat'].rolling('7d').sum().plot(figsize=(16,5), label='Confiable')\n",
        "no_conf.groupby(['fecha_aparicion']).count()['cat'].rolling('7d').sum().plot(figsize=(16,5), label = 'No Confiable')\n",
        "plt.legend()"
      ],
      "execution_count": 1192,
      "outputs": [
        {
          "output_type": "execute_result",
          "data": {
            "text/plain": [
              "<matplotlib.legend.Legend at 0x7f4cefa8fc50>"
            ]
          },
          "metadata": {
            "tags": []
          },
          "execution_count": 1192
        },
        {
          "output_type": "display_data",
          "data": {
            "image/png": "[encoded data removed]",
            "text/plain": [
              "<Figure size 1152x360 with 1 Axes>"
            ]
          },
          "metadata": {
            "tags": [],
            "needs_background": "light"
          }
        }
      ]
    },
    {
      "cell_type": "code",
      "metadata": {
        "id": "TFxQVYLU6-fA"
      },
      "source": [
        ""
      ],
      "execution_count": 1192,
      "outputs": []
    }
  ]
}
