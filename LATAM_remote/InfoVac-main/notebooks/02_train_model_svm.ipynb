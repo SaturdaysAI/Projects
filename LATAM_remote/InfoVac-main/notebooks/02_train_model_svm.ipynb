{
  "nbformat": 4,
  "nbformat_minor": 0,
  "metadata": {
    "colab": {
      "name": "train_model_svm.ipynb",
      "provenance": [],
      "authorship_tag": "ABX9TyPBeAOvU3bqHbz5oAXjDa0W",
      "include_colab_link": true
    },
    "kernelspec": {
      "name": "python3",
      "display_name": "Python 3"
    },
    "widgets": {
      "application/vnd.jupyter.widget-state+json": {
        "513594ff1f1c434086d854904b80702b": {
          "model_module": "@jupyter-widgets/controls",
          "model_name": "VBoxModel",
          "state": {
            "_view_name": "VBoxView",
            "_dom_classes": [],
            "_model_name": "VBoxModel",
            "_view_module": "@jupyter-widgets/controls",
            "_model_module_version": "1.5.0",
            "_view_count": null,
            "_view_module_version": "1.5.0",
            "box_style": "",
            "layout": "IPY_MODEL_2f5552ac40f346e39603fba87c1d8988",
            "_model_module": "@jupyter-widgets/controls",
            "children": [
              "IPY_MODEL_744823112bfd4c20b4f8d4d847efee9f",
              "IPY_MODEL_25f1c551422f46d79a9f24dcf00ef2aa"
            ]
          }
        },
        "2f5552ac40f346e39603fba87c1d8988": {
          "model_module": "@jupyter-widgets/base",
          "model_name": "LayoutModel",
          "state": {
            "_view_name": "LayoutView",
            "grid_template_rows": null,
            "right": null,
            "justify_content": null,
            "_view_module": "@jupyter-widgets/base",
            "overflow": null,
            "_model_module_version": "1.2.0",
            "_view_count": null,
            "flex_flow": null,
            "width": null,
            "min_width": null,
            "border": null,
            "align_items": null,
            "bottom": null,
            "_model_module": "@jupyter-widgets/base",
            "top": null,
            "grid_column": null,
            "overflow_y": null,
            "overflow_x": null,
            "grid_auto_flow": null,
            "grid_area": null,
            "grid_template_columns": null,
            "flex": null,
            "_model_name": "LayoutModel",
            "justify_items": null,
            "grid_row": null,
            "max_height": null,
            "align_content": null,
            "visibility": null,
            "align_self": null,
            "height": null,
            "min_height": null,
            "padding": null,
            "grid_auto_rows": null,
            "grid_gap": null,
            "max_width": null,
            "order": null,
            "_view_module_version": "1.2.0",
            "grid_template_areas": null,
            "object_position": null,
            "object_fit": null,
            "grid_auto_columns": null,
            "margin": null,
            "display": null,
            "left": null
          }
        },
        "744823112bfd4c20b4f8d4d847efee9f": {
          "model_module": "@jupyter-widgets/controls",
          "model_name": "LabelModel",
          "state": {
            "_view_name": "LabelView",
            "style": "IPY_MODEL_884c7861ff2d4852be0b677e4fb540e2",
            "_dom_classes": [],
            "description": "",
            "_model_name": "LabelModel",
            "placeholder": "​",
            "_view_module": "@jupyter-widgets/controls",
            "_model_module_version": "1.5.0",
            "value": " 0.01MB of 0.01MB uploaded (0.00MB deduped)\r",
            "_view_count": null,
            "_view_module_version": "1.5.0",
            "description_tooltip": null,
            "_model_module": "@jupyter-widgets/controls",
            "layout": "IPY_MODEL_ca3eeaa22f214acfb53396b415c2ef47"
          }
        },
        "25f1c551422f46d79a9f24dcf00ef2aa": {
          "model_module": "@jupyter-widgets/controls",
          "model_name": "FloatProgressModel",
          "state": {
            "_view_name": "ProgressView",
            "style": "IPY_MODEL_771f180b9ad34812878d29f3f330ba50",
            "_dom_classes": [],
            "description": "",
            "_model_name": "FloatProgressModel",
            "bar_style": "",
            "max": 1,
            "_view_module": "@jupyter-widgets/controls",
            "_model_module_version": "1.5.0",
            "value": 1,
            "_view_count": null,
            "_view_module_version": "1.5.0",
            "orientation": "horizontal",
            "min": 0,
            "description_tooltip": null,
            "_model_module": "@jupyter-widgets/controls",
            "layout": "IPY_MODEL_770d057741c045d5bb80f229ad3b9fad"
          }
        },
        "884c7861ff2d4852be0b677e4fb540e2": {
          "model_module": "@jupyter-widgets/controls",
          "model_name": "DescriptionStyleModel",
          "state": {
            "_view_name": "StyleView",
            "_model_name": "DescriptionStyleModel",
            "description_width": "",
            "_view_module": "@jupyter-widgets/base",
            "_model_module_version": "1.5.0",
            "_view_count": null,
            "_view_module_version": "1.2.0",
            "_model_module": "@jupyter-widgets/controls"
          }
        },
        "ca3eeaa22f214acfb53396b415c2ef47": {
          "model_module": "@jupyter-widgets/base",
          "model_name": "LayoutModel",
          "state": {
            "_view_name": "LayoutView",
            "grid_template_rows": null,
            "right": null,
            "justify_content": null,
            "_view_module": "@jupyter-widgets/base",
            "overflow": null,
            "_model_module_version": "1.2.0",
            "_view_count": null,
            "flex_flow": null,
            "width": null,
            "min_width": null,
            "border": null,
            "align_items": null,
            "bottom": null,
            "_model_module": "@jupyter-widgets/base",
            "top": null,
            "grid_column": null,
            "overflow_y": null,
            "overflow_x": null,
            "grid_auto_flow": null,
            "grid_area": null,
            "grid_template_columns": null,
            "flex": null,
            "_model_name": "LayoutModel",
            "justify_items": null,
            "grid_row": null,
            "max_height": null,
            "align_content": null,
            "visibility": null,
            "align_self": null,
            "height": null,
            "min_height": null,
            "padding": null,
            "grid_auto_rows": null,
            "grid_gap": null,
            "max_width": null,
            "order": null,
            "_view_module_version": "1.2.0",
            "grid_template_areas": null,
            "object_position": null,
            "object_fit": null,
            "grid_auto_columns": null,
            "margin": null,
            "display": null,
            "left": null
          }
        },
        "771f180b9ad34812878d29f3f330ba50": {
          "model_module": "@jupyter-widgets/controls",
          "model_name": "ProgressStyleModel",
          "state": {
            "_view_name": "StyleView",
            "_model_name": "ProgressStyleModel",
            "description_width": "",
            "_view_module": "@jupyter-widgets/base",
            "_model_module_version": "1.5.0",
            "_view_count": null,
            "_view_module_version": "1.2.0",
            "bar_color": null,
            "_model_module": "@jupyter-widgets/controls"
          }
        },
        "770d057741c045d5bb80f229ad3b9fad": {
          "model_module": "@jupyter-widgets/base",
          "model_name": "LayoutModel",
          "state": {
            "_view_name": "LayoutView",
            "grid_template_rows": null,
            "right": null,
            "justify_content": null,
            "_view_module": "@jupyter-widgets/base",
            "overflow": null,
            "_model_module_version": "1.2.0",
            "_view_count": null,
            "flex_flow": null,
            "width": null,
            "min_width": null,
            "border": null,
            "align_items": null,
            "bottom": null,
            "_model_module": "@jupyter-widgets/base",
            "top": null,
            "grid_column": null,
            "overflow_y": null,
            "overflow_x": null,
            "grid_auto_flow": null,
            "grid_area": null,
            "grid_template_columns": null,
            "flex": null,
            "_model_name": "LayoutModel",
            "justify_items": null,
            "grid_row": null,
            "max_height": null,
            "align_content": null,
            "visibility": null,
            "align_self": null,
            "height": null,
            "min_height": null,
            "padding": null,
            "grid_auto_rows": null,
            "grid_gap": null,
            "max_width": null,
            "order": null,
            "_view_module_version": "1.2.0",
            "grid_template_areas": null,
            "object_position": null,
            "object_fit": null,
            "grid_auto_columns": null,
            "margin": null,
            "display": null,
            "left": null
          }
        },
        "7a5a5aa427a8488585bce4a19b5006d1": {
          "model_module": "@jupyter-widgets/controls",
          "model_name": "VBoxModel",
          "state": {
            "_view_name": "VBoxView",
            "_dom_classes": [],
            "_model_name": "VBoxModel",
            "_view_module": "@jupyter-widgets/controls",
            "_model_module_version": "1.5.0",
            "_view_count": null,
            "_view_module_version": "1.5.0",
            "box_style": "",
            "layout": "IPY_MODEL_21988465ccf94415b799ad556dff4de5",
            "_model_module": "@jupyter-widgets/controls",
            "children": [
              "IPY_MODEL_5ccfc5d0543b43618d78fb7bccf20578",
              "IPY_MODEL_c99a7c8ac2a144c598ae9344ab1dd71c"
            ]
          }
        },
        "21988465ccf94415b799ad556dff4de5": {
          "model_module": "@jupyter-widgets/base",
          "model_name": "LayoutModel",
          "state": {
            "_view_name": "LayoutView",
            "grid_template_rows": null,
            "right": null,
            "justify_content": null,
            "_view_module": "@jupyter-widgets/base",
            "overflow": null,
            "_model_module_version": "1.2.0",
            "_view_count": null,
            "flex_flow": null,
            "width": null,
            "min_width": null,
            "border": null,
            "align_items": null,
            "bottom": null,
            "_model_module": "@jupyter-widgets/base",
            "top": null,
            "grid_column": null,
            "overflow_y": null,
            "overflow_x": null,
            "grid_auto_flow": null,
            "grid_area": null,
            "grid_template_columns": null,
            "flex": null,
            "_model_name": "LayoutModel",
            "justify_items": null,
            "grid_row": null,
            "max_height": null,
            "align_content": null,
            "visibility": null,
            "align_self": null,
            "height": null,
            "min_height": null,
            "padding": null,
            "grid_auto_rows": null,
            "grid_gap": null,
            "max_width": null,
            "order": null,
            "_view_module_version": "1.2.0",
            "grid_template_areas": null,
            "object_position": null,
            "object_fit": null,
            "grid_auto_columns": null,
            "margin": null,
            "display": null,
            "left": null
          }
        },
        "5ccfc5d0543b43618d78fb7bccf20578": {
          "model_module": "@jupyter-widgets/controls",
          "model_name": "LabelModel",
          "state": {
            "_view_name": "LabelView",
            "style": "IPY_MODEL_ae3643562beb440dac11753ff30bffa6",
            "_dom_classes": [],
            "description": "",
            "_model_name": "LabelModel",
            "placeholder": "​",
            "_view_module": "@jupyter-widgets/controls",
            "_model_module_version": "1.5.0",
            "value": " 0.01MB of 0.01MB uploaded (0.00MB deduped)\r",
            "_view_count": null,
            "_view_module_version": "1.5.0",
            "description_tooltip": null,
            "_model_module": "@jupyter-widgets/controls",
            "layout": "IPY_MODEL_2832f7f22a5d4f26a5ff46ab4c1fd6aa"
          }
        },
        "c99a7c8ac2a144c598ae9344ab1dd71c": {
          "model_module": "@jupyter-widgets/controls",
          "model_name": "FloatProgressModel",
          "state": {
            "_view_name": "ProgressView",
            "style": "IPY_MODEL_bbee2d0d1a384d78a8dd26cb6faee26b",
            "_dom_classes": [],
            "description": "",
            "_model_name": "FloatProgressModel",
            "bar_style": "",
            "max": 1,
            "_view_module": "@jupyter-widgets/controls",
            "_model_module_version": "1.5.0",
            "value": 1,
            "_view_count": null,
            "_view_module_version": "1.5.0",
            "orientation": "horizontal",
            "min": 0,
            "description_tooltip": null,
            "_model_module": "@jupyter-widgets/controls",
            "layout": "IPY_MODEL_ec6efa25a8e841819bceb4cc74a8bf9d"
          }
        },
        "ae3643562beb440dac11753ff30bffa6": {
          "model_module": "@jupyter-widgets/controls",
          "model_name": "DescriptionStyleModel",
          "state": {
            "_view_name": "StyleView",
            "_model_name": "DescriptionStyleModel",
            "description_width": "",
            "_view_module": "@jupyter-widgets/base",
            "_model_module_version": "1.5.0",
            "_view_count": null,
            "_view_module_version": "1.2.0",
            "_model_module": "@jupyter-widgets/controls"
          }
        },
        "2832f7f22a5d4f26a5ff46ab4c1fd6aa": {
          "model_module": "@jupyter-widgets/base",
          "model_name": "LayoutModel",
          "state": {
            "_view_name": "LayoutView",
            "grid_template_rows": null,
            "right": null,
            "justify_content": null,
            "_view_module": "@jupyter-widgets/base",
            "overflow": null,
            "_model_module_version": "1.2.0",
            "_view_count": null,
            "flex_flow": null,
            "width": null,
            "min_width": null,
            "border": null,
            "align_items": null,
            "bottom": null,
            "_model_module": "@jupyter-widgets/base",
            "top": null,
            "grid_column": null,
            "overflow_y": null,
            "overflow_x": null,
            "grid_auto_flow": null,
            "grid_area": null,
            "grid_template_columns": null,
            "flex": null,
            "_model_name": "LayoutModel",
            "justify_items": null,
            "grid_row": null,
            "max_height": null,
            "align_content": null,
            "visibility": null,
            "align_self": null,
            "height": null,
            "min_height": null,
            "padding": null,
            "grid_auto_rows": null,
            "grid_gap": null,
            "max_width": null,
            "order": null,
            "_view_module_version": "1.2.0",
            "grid_template_areas": null,
            "object_position": null,
            "object_fit": null,
            "grid_auto_columns": null,
            "margin": null,
            "display": null,
            "left": null
          }
        },
        "bbee2d0d1a384d78a8dd26cb6faee26b": {
          "model_module": "@jupyter-widgets/controls",
          "model_name": "ProgressStyleModel",
          "state": {
            "_view_name": "StyleView",
            "_model_name": "ProgressStyleModel",
            "description_width": "",
            "_view_module": "@jupyter-widgets/base",
            "_model_module_version": "1.5.0",
            "_view_count": null,
            "_view_module_version": "1.2.0",
            "bar_color": null,
            "_model_module": "@jupyter-widgets/controls"
          }
        },
        "ec6efa25a8e841819bceb4cc74a8bf9d": {
          "model_module": "@jupyter-widgets/base",
          "model_name": "LayoutModel",
          "state": {
            "_view_name": "LayoutView",
            "grid_template_rows": null,
            "right": null,
            "justify_content": null,
            "_view_module": "@jupyter-widgets/base",
            "overflow": null,
            "_model_module_version": "1.2.0",
            "_view_count": null,
            "flex_flow": null,
            "width": null,
            "min_width": null,
            "border": null,
            "align_items": null,
            "bottom": null,
            "_model_module": "@jupyter-widgets/base",
            "top": null,
            "grid_column": null,
            "overflow_y": null,
            "overflow_x": null,
            "grid_auto_flow": null,
            "grid_area": null,
            "grid_template_columns": null,
            "flex": null,
            "_model_name": "LayoutModel",
            "justify_items": null,
            "grid_row": null,
            "max_height": null,
            "align_content": null,
            "visibility": null,
            "align_self": null,
            "height": null,
            "min_height": null,
            "padding": null,
            "grid_auto_rows": null,
            "grid_gap": null,
            "max_width": null,
            "order": null,
            "_view_module_version": "1.2.0",
            "grid_template_areas": null,
            "object_position": null,
            "object_fit": null,
            "grid_auto_columns": null,
            "margin": null,
            "display": null,
            "left": null
          }
        },
        "5c6e1c29f0aa4f998a1d03762faed1b5": {
          "model_module": "@jupyter-widgets/controls",
          "model_name": "VBoxModel",
          "state": {
            "_view_name": "VBoxView",
            "_dom_classes": [],
            "_model_name": "VBoxModel",
            "_view_module": "@jupyter-widgets/controls",
            "_model_module_version": "1.5.0",
            "_view_count": null,
            "_view_module_version": "1.5.0",
            "box_style": "",
            "layout": "IPY_MODEL_8e7f548144784607b7ba24bc51ba6ecb",
            "_model_module": "@jupyter-widgets/controls",
            "children": [
              "IPY_MODEL_0dcb4c3af9c147a2a59e0a7c5add9324",
              "IPY_MODEL_cd33fedc95ab42458cde5fec47ce3636"
            ]
          }
        },
        "8e7f548144784607b7ba24bc51ba6ecb": {
          "model_module": "@jupyter-widgets/base",
          "model_name": "LayoutModel",
          "state": {
            "_view_name": "LayoutView",
            "grid_template_rows": null,
            "right": null,
            "justify_content": null,
            "_view_module": "@jupyter-widgets/base",
            "overflow": null,
            "_model_module_version": "1.2.0",
            "_view_count": null,
            "flex_flow": null,
            "width": null,
            "min_width": null,
            "border": null,
            "align_items": null,
            "bottom": null,
            "_model_module": "@jupyter-widgets/base",
            "top": null,
            "grid_column": null,
            "overflow_y": null,
            "overflow_x": null,
            "grid_auto_flow": null,
            "grid_area": null,
            "grid_template_columns": null,
            "flex": null,
            "_model_name": "LayoutModel",
            "justify_items": null,
            "grid_row": null,
            "max_height": null,
            "align_content": null,
            "visibility": null,
            "align_self": null,
            "height": null,
            "min_height": null,
            "padding": null,
            "grid_auto_rows": null,
            "grid_gap": null,
            "max_width": null,
            "order": null,
            "_view_module_version": "1.2.0",
            "grid_template_areas": null,
            "object_position": null,
            "object_fit": null,
            "grid_auto_columns": null,
            "margin": null,
            "display": null,
            "left": null
          }
        },
        "0dcb4c3af9c147a2a59e0a7c5add9324": {
          "model_module": "@jupyter-widgets/controls",
          "model_name": "LabelModel",
          "state": {
            "_view_name": "LabelView",
            "style": "IPY_MODEL_385ed22a41044280a2d4cfda3935a985",
            "_dom_classes": [],
            "description": "",
            "_model_name": "LabelModel",
            "placeholder": "​",
            "_view_module": "@jupyter-widgets/controls",
            "_model_module_version": "1.5.0",
            "value": " 0.01MB of 0.01MB uploaded (0.00MB deduped)\r",
            "_view_count": null,
            "_view_module_version": "1.5.0",
            "description_tooltip": null,
            "_model_module": "@jupyter-widgets/controls",
            "layout": "IPY_MODEL_2348f82581d942d6bab0c46ffc399f6a"
          }
        },
        "cd33fedc95ab42458cde5fec47ce3636": {
          "model_module": "@jupyter-widgets/controls",
          "model_name": "FloatProgressModel",
          "state": {
            "_view_name": "ProgressView",
            "style": "IPY_MODEL_0a0d0041e1a1480db8acf1794979f16f",
            "_dom_classes": [],
            "description": "",
            "_model_name": "FloatProgressModel",
            "bar_style": "",
            "max": 1,
            "_view_module": "@jupyter-widgets/controls",
            "_model_module_version": "1.5.0",
            "value": 1,
            "_view_count": null,
            "_view_module_version": "1.5.0",
            "orientation": "horizontal",
            "min": 0,
            "description_tooltip": null,
            "_model_module": "@jupyter-widgets/controls",
            "layout": "IPY_MODEL_d13aa9a9b1a04d08ad09e0c08c4d438f"
          }
        },
        "385ed22a41044280a2d4cfda3935a985": {
          "model_module": "@jupyter-widgets/controls",
          "model_name": "DescriptionStyleModel",
          "state": {
            "_view_name": "StyleView",
            "_model_name": "DescriptionStyleModel",
            "description_width": "",
            "_view_module": "@jupyter-widgets/base",
            "_model_module_version": "1.5.0",
            "_view_count": null,
            "_view_module_version": "1.2.0",
            "_model_module": "@jupyter-widgets/controls"
          }
        },
        "2348f82581d942d6bab0c46ffc399f6a": {
          "model_module": "@jupyter-widgets/base",
          "model_name": "LayoutModel",
          "state": {
            "_view_name": "LayoutView",
            "grid_template_rows": null,
            "right": null,
            "justify_content": null,
            "_view_module": "@jupyter-widgets/base",
            "overflow": null,
            "_model_module_version": "1.2.0",
            "_view_count": null,
            "flex_flow": null,
            "width": null,
            "min_width": null,
            "border": null,
            "align_items": null,
            "bottom": null,
            "_model_module": "@jupyter-widgets/base",
            "top": null,
            "grid_column": null,
            "overflow_y": null,
            "overflow_x": null,
            "grid_auto_flow": null,
            "grid_area": null,
            "grid_template_columns": null,
            "flex": null,
            "_model_name": "LayoutModel",
            "justify_items": null,
            "grid_row": null,
            "max_height": null,
            "align_content": null,
            "visibility": null,
            "align_self": null,
            "height": null,
            "min_height": null,
            "padding": null,
            "grid_auto_rows": null,
            "grid_gap": null,
            "max_width": null,
            "order": null,
            "_view_module_version": "1.2.0",
            "grid_template_areas": null,
            "object_position": null,
            "object_fit": null,
            "grid_auto_columns": null,
            "margin": null,
            "display": null,
            "left": null
          }
        },
        "0a0d0041e1a1480db8acf1794979f16f": {
          "model_module": "@jupyter-widgets/controls",
          "model_name": "ProgressStyleModel",
          "state": {
            "_view_name": "StyleView",
            "_model_name": "ProgressStyleModel",
            "description_width": "",
            "_view_module": "@jupyter-widgets/base",
            "_model_module_version": "1.5.0",
            "_view_count": null,
            "_view_module_version": "1.2.0",
            "bar_color": null,
            "_model_module": "@jupyter-widgets/controls"
          }
        },
        "d13aa9a9b1a04d08ad09e0c08c4d438f": {
          "model_module": "@jupyter-widgets/base",
          "model_name": "LayoutModel",
          "state": {
            "_view_name": "LayoutView",
            "grid_template_rows": null,
            "right": null,
            "justify_content": null,
            "_view_module": "@jupyter-widgets/base",
            "overflow": null,
            "_model_module_version": "1.2.0",
            "_view_count": null,
            "flex_flow": null,
            "width": null,
            "min_width": null,
            "border": null,
            "align_items": null,
            "bottom": null,
            "_model_module": "@jupyter-widgets/base",
            "top": null,
            "grid_column": null,
            "overflow_y": null,
            "overflow_x": null,
            "grid_auto_flow": null,
            "grid_area": null,
            "grid_template_columns": null,
            "flex": null,
            "_model_name": "LayoutModel",
            "justify_items": null,
            "grid_row": null,
            "max_height": null,
            "align_content": null,
            "visibility": null,
            "align_self": null,
            "height": null,
            "min_height": null,
            "padding": null,
            "grid_auto_rows": null,
            "grid_gap": null,
            "max_width": null,
            "order": null,
            "_view_module_version": "1.2.0",
            "grid_template_areas": null,
            "object_position": null,
            "object_fit": null,
            "grid_auto_columns": null,
            "margin": null,
            "display": null,
            "left": null
          }
        },
        "ab8c871260f044b39ab098bbd568b48b": {
          "model_module": "@jupyter-widgets/controls",
          "model_name": "VBoxModel",
          "state": {
            "_view_name": "VBoxView",
            "_dom_classes": [],
            "_model_name": "VBoxModel",
            "_view_module": "@jupyter-widgets/controls",
            "_model_module_version": "1.5.0",
            "_view_count": null,
            "_view_module_version": "1.5.0",
            "box_style": "",
            "layout": "IPY_MODEL_80094b556cda413da3d842925719177e",
            "_model_module": "@jupyter-widgets/controls",
            "children": [
              "IPY_MODEL_9dfbb9bdc72a4339b93715438669bd14",
              "IPY_MODEL_fc37a657e0de4150a22280743ea57fb8"
            ]
          }
        },
        "80094b556cda413da3d842925719177e": {
          "model_module": "@jupyter-widgets/base",
          "model_name": "LayoutModel",
          "state": {
            "_view_name": "LayoutView",
            "grid_template_rows": null,
            "right": null,
            "justify_content": null,
            "_view_module": "@jupyter-widgets/base",
            "overflow": null,
            "_model_module_version": "1.2.0",
            "_view_count": null,
            "flex_flow": null,
            "width": null,
            "min_width": null,
            "border": null,
            "align_items": null,
            "bottom": null,
            "_model_module": "@jupyter-widgets/base",
            "top": null,
            "grid_column": null,
            "overflow_y": null,
            "overflow_x": null,
            "grid_auto_flow": null,
            "grid_area": null,
            "grid_template_columns": null,
            "flex": null,
            "_model_name": "LayoutModel",
            "justify_items": null,
            "grid_row": null,
            "max_height": null,
            "align_content": null,
            "visibility": null,
            "align_self": null,
            "height": null,
            "min_height": null,
            "padding": null,
            "grid_auto_rows": null,
            "grid_gap": null,
            "max_width": null,
            "order": null,
            "_view_module_version": "1.2.0",
            "grid_template_areas": null,
            "object_position": null,
            "object_fit": null,
            "grid_auto_columns": null,
            "margin": null,
            "display": null,
            "left": null
          }
        },
        "9dfbb9bdc72a4339b93715438669bd14": {
          "model_module": "@jupyter-widgets/controls",
          "model_name": "LabelModel",
          "state": {
            "_view_name": "LabelView",
            "style": "IPY_MODEL_25778e0842354cd0ad6e5fe6f2c234a8",
            "_dom_classes": [],
            "description": "",
            "_model_name": "LabelModel",
            "placeholder": "​",
            "_view_module": "@jupyter-widgets/controls",
            "_model_module_version": "1.5.0",
            "value": " 0.01MB of 0.01MB uploaded (0.00MB deduped)\r",
            "_view_count": null,
            "_view_module_version": "1.5.0",
            "description_tooltip": null,
            "_model_module": "@jupyter-widgets/controls",
            "layout": "IPY_MODEL_5b346f3385b44c0cb9962e5cc190fa9f"
          }
        },
        "fc37a657e0de4150a22280743ea57fb8": {
          "model_module": "@jupyter-widgets/controls",
          "model_name": "FloatProgressModel",
          "state": {
            "_view_name": "ProgressView",
            "style": "IPY_MODEL_240f66a8a9034088a50659f4b02950e7",
            "_dom_classes": [],
            "description": "",
            "_model_name": "FloatProgressModel",
            "bar_style": "",
            "max": 1,
            "_view_module": "@jupyter-widgets/controls",
            "_model_module_version": "1.5.0",
            "value": 1,
            "_view_count": null,
            "_view_module_version": "1.5.0",
            "orientation": "horizontal",
            "min": 0,
            "description_tooltip": null,
            "_model_module": "@jupyter-widgets/controls",
            "layout": "IPY_MODEL_c08c61f1b7804988a099a552d57cd032"
          }
        },
        "25778e0842354cd0ad6e5fe6f2c234a8": {
          "model_module": "@jupyter-widgets/controls",
          "model_name": "DescriptionStyleModel",
          "state": {
            "_view_name": "StyleView",
            "_model_name": "DescriptionStyleModel",
            "description_width": "",
            "_view_module": "@jupyter-widgets/base",
            "_model_module_version": "1.5.0",
            "_view_count": null,
            "_view_module_version": "1.2.0",
            "_model_module": "@jupyter-widgets/controls"
          }
        },
        "5b346f3385b44c0cb9962e5cc190fa9f": {
          "model_module": "@jupyter-widgets/base",
          "model_name": "LayoutModel",
          "state": {
            "_view_name": "LayoutView",
            "grid_template_rows": null,
            "right": null,
            "justify_content": null,
            "_view_module": "@jupyter-widgets/base",
            "overflow": null,
            "_model_module_version": "1.2.0",
            "_view_count": null,
            "flex_flow": null,
            "width": null,
            "min_width": null,
            "border": null,
            "align_items": null,
            "bottom": null,
            "_model_module": "@jupyter-widgets/base",
            "top": null,
            "grid_column": null,
            "overflow_y": null,
            "overflow_x": null,
            "grid_auto_flow": null,
            "grid_area": null,
            "grid_template_columns": null,
            "flex": null,
            "_model_name": "LayoutModel",
            "justify_items": null,
            "grid_row": null,
            "max_height": null,
            "align_content": null,
            "visibility": null,
            "align_self": null,
            "height": null,
            "min_height": null,
            "padding": null,
            "grid_auto_rows": null,
            "grid_gap": null,
            "max_width": null,
            "order": null,
            "_view_module_version": "1.2.0",
            "grid_template_areas": null,
            "object_position": null,
            "object_fit": null,
            "grid_auto_columns": null,
            "margin": null,
            "display": null,
            "left": null
          }
        },
        "240f66a8a9034088a50659f4b02950e7": {
          "model_module": "@jupyter-widgets/controls",
          "model_name": "ProgressStyleModel",
          "state": {
            "_view_name": "StyleView",
            "_model_name": "ProgressStyleModel",
            "description_width": "",
            "_view_module": "@jupyter-widgets/base",
            "_model_module_version": "1.5.0",
            "_view_count": null,
            "_view_module_version": "1.2.0",
            "bar_color": null,
            "_model_module": "@jupyter-widgets/controls"
          }
        },
        "c08c61f1b7804988a099a552d57cd032": {
          "model_module": "@jupyter-widgets/base",
          "model_name": "LayoutModel",
          "state": {
            "_view_name": "LayoutView",
            "grid_template_rows": null,
            "right": null,
            "justify_content": null,
            "_view_module": "@jupyter-widgets/base",
            "overflow": null,
            "_model_module_version": "1.2.0",
            "_view_count": null,
            "flex_flow": null,
            "width": null,
            "min_width": null,
            "border": null,
            "align_items": null,
            "bottom": null,
            "_model_module": "@jupyter-widgets/base",
            "top": null,
            "grid_column": null,
            "overflow_y": null,
            "overflow_x": null,
            "grid_auto_flow": null,
            "grid_area": null,
            "grid_template_columns": null,
            "flex": null,
            "_model_name": "LayoutModel",
            "justify_items": null,
            "grid_row": null,
            "max_height": null,
            "align_content": null,
            "visibility": null,
            "align_self": null,
            "height": null,
            "min_height": null,
            "padding": null,
            "grid_auto_rows": null,
            "grid_gap": null,
            "max_width": null,
            "order": null,
            "_view_module_version": "1.2.0",
            "grid_template_areas": null,
            "object_position": null,
            "object_fit": null,
            "grid_auto_columns": null,
            "margin": null,
            "display": null,
            "left": null
          }
        }
      }
    }
  },
  "cells": [
    {
      "cell_type": "markdown",
      "metadata": {
        "id": "view-in-github",
        "colab_type": "text"
      },
      "source": [
        "<a href=\"https://colab.research.google.com/github/christianvadillo/InfoVac/blob/main/notebooks/train_model_svm.ipynb\" target=\"_parent\"><img src=\"https://colab.research.google.com/assets/colab-badge.svg\" alt=\"Open In Colab\"/></a>"
      ]
    },
    {
      "cell_type": "markdown",
      "metadata": {
        "id": "TdRzPvDwTC8r"
      },
      "source": [
        "# Install libraries"
      ]
    },
    {
      "cell_type": "code",
      "metadata": {
        "id": "TQdQLkV-9toC",
        "outputId": "0d93a69b-a660-4d4e-b3f2-73806c6be61a",
        "colab": {
          "base_uri": "https://localhost:8080/"
        }
      },
      "source": [
        "!pip install spacy --upgrade -qqq # need 2.3 for download es_core_news_lg\n",
        "!pip install unidecode -qqq\n",
        "# Installing the W&B library\n",
        "!pip install wandb -qqq\n",
        "\n",
        "# !python -m spacy download es_core_news_lg -qqq\n",
        "# !python -m spacy download es_core_news_md -qqq\n",
        "!python -m spacy download es_core_news_sm -qqq"
      ],
      "execution_count": null,
      "outputs": [
        {
          "output_type": "stream",
          "text": [
            "\u001b[38;5;2m✔ Download and installation successful\u001b[0m\n",
            "You can now load the model via spacy.load('es_core_news_sm')\n"
          ],
          "name": "stdout"
        }
      ]
    },
    {
      "cell_type": "code",
      "metadata": {
        "id": "gXIuKroQRqep",
        "outputId": "0e17b20f-2895-4656-82b7-82be3bfb41ca",
        "colab": {
          "base_uri": "https://localhost:8080/"
        }
      },
      "source": [
        "import pandas as pd\n",
        "import numpy as np \n",
        "import re\n",
        "import itertools\n",
        "import matplotlib.pyplot as plt\n",
        "import seaborn as sns\n",
        "import warnings\n",
        "import joblib\n",
        "\n",
        "\n",
        "import spacy\n",
        "import nltk\n",
        "import unicodedata\n",
        "\n",
        "# import es_core_news_lg\n",
        "import es_core_news_sm\n",
        "\n",
        "\n",
        "from nltk.corpus import stopwords\n",
        "\n",
        "\n",
        "warnings.filterwarnings('ignore')\n",
        "nltk.download('stopwords')\n",
        "nltk.download('punkt')\n",
        "\n",
        "nlp = es_core_news_sm.load()\n",
        "\n",
        "# Build stop words list\n",
        "stop_words_es = stopwords.words('spanish')  # Spanish's stop words \n",
        "stop_words_es = stop_words_es + ['cnn', 'mas', 'si']\n",
        "sw_es = nlp.Defaults.stop_words \n",
        "stop_words_es = sw_es.union(stop_words_es)\n",
        "stop_words_es = [word for word in stop_words_es if len(word)<4]\n",
        "\n"
      ],
      "execution_count": null,
      "outputs": [
        {
          "output_type": "stream",
          "text": [
            "[nltk_data] Downloading package stopwords to /root/nltk_data...\n",
            "[nltk_data]   Package stopwords is already up-to-date!\n",
            "[nltk_data] Downloading package punkt to /root/nltk_data...\n",
            "[nltk_data]   Package punkt is already up-to-date!\n"
          ],
          "name": "stdout"
        }
      ]
    },
    {
      "cell_type": "code",
      "metadata": {
        "id": "G_dJL3kvmWhw",
        "outputId": "7d4a8fb5-0484-44e4-9b7a-6c281bee8deb",
        "colab": {
          "base_uri": "https://localhost:8080/"
        }
      },
      "source": [
        "stop_words_es"
      ],
      "execution_count": null,
      "outputs": [
        {
          "output_type": "execute_result",
          "data": {
            "text/plain": [
              "['me',\n",
              " 'mí',\n",
              " 'mía',\n",
              " 'ex',\n",
              " 'sé',\n",
              " 'yo',\n",
              " 'qué',\n",
              " 'ahí',\n",
              " 'ésa',\n",
              " 'ti',\n",
              " 'dio',\n",
              " 'qeu',\n",
              " 'dan',\n",
              " 'aun',\n",
              " 'día',\n",
              " 'mia',\n",
              " 'has',\n",
              " 'uno',\n",
              " 'hoy',\n",
              " 'se',\n",
              " 'y',\n",
              " 'al',\n",
              " 'con',\n",
              " 'ir',\n",
              " 'tal',\n",
              " 'son',\n",
              " 'da',\n",
              " 'su',\n",
              " 'mal',\n",
              " 'lo',\n",
              " 'mío',\n",
              " 'vez',\n",
              " 'las',\n",
              " 'mio',\n",
              " 'ni',\n",
              " 'la',\n",
              " 'más',\n",
              " 'una',\n",
              " 'del',\n",
              " 'si',\n",
              " 'así',\n",
              " 'el',\n",
              " 'ahi',\n",
              " 'usa',\n",
              " 'fin',\n",
              " 'sí',\n",
              " 'mas',\n",
              " 'que',\n",
              " 'un',\n",
              " 'mis',\n",
              " 'cnn',\n",
              " 'va',\n",
              " 'por',\n",
              " 'dar',\n",
              " 'dos',\n",
              " 'sea',\n",
              " 'soy',\n",
              " 'tu',\n",
              " 'sin',\n",
              " 'ya',\n",
              " 'en',\n",
              " 'a',\n",
              " 'fui',\n",
              " 'ese',\n",
              " 'dia',\n",
              " 'le',\n",
              " 'ser',\n",
              " 'asi',\n",
              " 'muy',\n",
              " 'te',\n",
              " 'es',\n",
              " 'tus',\n",
              " 'tú',\n",
              " 'fue',\n",
              " 'él',\n",
              " 'he',\n",
              " 'nos',\n",
              " 'tan',\n",
              " 'ver',\n",
              " 'era',\n",
              " 'no',\n",
              " 'e',\n",
              " 'han',\n",
              " 'esa',\n",
              " 'uso',\n",
              " 'o',\n",
              " 'eso',\n",
              " 'aún',\n",
              " 'ése',\n",
              " 'les',\n",
              " 'van',\n",
              " 'ha',\n",
              " 'mi',\n",
              " 'voy',\n",
              " 'de',\n",
              " 'sus',\n",
              " 'os',\n",
              " 'los',\n",
              " 'hay']"
            ]
          },
          "metadata": {
            "tags": []
          },
          "execution_count": 3
        }
      ]
    },
    {
      "cell_type": "code",
      "metadata": {
        "id": "K1QCpwM-KyFd"
      },
      "source": [
        "# For Reproducibility\n",
        "import os\n",
        "import random\n",
        "# Set seed for reproducability\n",
        "SEED = 88\n",
        "os.environ['PYTHONHASHSEED'] = str(SEED)\n",
        "random.seed(SEED)\n",
        "np.random.seed(SEED)\n",
        "np.random.RandomState(SEED);"
      ],
      "execution_count": null,
      "outputs": []
    },
    {
      "cell_type": "markdown",
      "metadata": {
        "id": "RzPJ4S6E-P-z"
      },
      "source": [
        "# Initialize W&B\n"
      ]
    },
    {
      "cell_type": "code",
      "metadata": {
        "id": "fhPVcPWi_EEq",
        "outputId": "48cc74b7-00eb-4b9b-fe7b-e57a7adb9177",
        "colab": {
          "base_uri": "https://localhost:8080/"
        }
      },
      "source": [
        "import wandb\n",
        "\n",
        "# Start a new run\n",
        "wandb.login()"
      ],
      "execution_count": null,
      "outputs": [
        {
          "output_type": "stream",
          "text": [
            "\u001b[34m\u001b[1mwandb\u001b[0m: Currently logged in as: \u001b[33mchristian_vadillo\u001b[0m (use `wandb login --relogin` to force relogin)\n"
          ],
          "name": "stderr"
        },
        {
          "output_type": "execute_result",
          "data": {
            "text/plain": [
              "True"
            ]
          },
          "metadata": {
            "tags": []
          },
          "execution_count": 5
        }
      ]
    },
    {
      "cell_type": "markdown",
      "metadata": {
        "id": "R8kV_ohf9bXj"
      },
      "source": [
        "# Load Data"
      ]
    },
    {
      "cell_type": "code",
      "metadata": {
        "id": "loVWbJAH9am5",
        "outputId": "15f056dc-00ed-411f-e737-cb495e436d83",
        "colab": {
          "base_uri": "https://localhost:8080/"
        }
      },
      "source": [
        "file = 'https://raw.githubusercontent.com/christianvadillo/InfoVac/main/data/processed/covid_fakenews_es_utf_21_Oct_2020_17_29.csv'\n",
        "\n",
        "df = pd.read_csv(file)\n",
        "df.head()"
      ],
      "execution_count": null,
      "outputs": [
        {
          "output_type": "execute_result",
          "data": {
            "text/html": [
              "<div>\n",
              "<style scoped>\n",
              "    .dataframe tbody tr th:only-of-type {\n",
              "        vertical-align: middle;\n",
              "    }\n",
              "\n",
              "    .dataframe tbody tr th {\n",
              "        vertical-align: top;\n",
              "    }\n",
              "\n",
              "    .dataframe thead th {\n",
              "        text-align: right;\n",
              "    }\n",
              "</style>\n",
              "<table border=\"1\" class=\"dataframe\">\n",
              "  <thead>\n",
              "    <tr style=\"text-align: right;\">\n",
              "      <th></th>\n",
              "      <th>url</th>\n",
              "      <th>titulo</th>\n",
              "      <th>texto</th>\n",
              "      <th>categoria</th>\n",
              "      <th>fecha_aparicion</th>\n",
              "      <th>organizacion</th>\n",
              "    </tr>\n",
              "  </thead>\n",
              "  <tbody>\n",
              "    <tr>\n",
              "      <th>0</th>\n",
              "      <td>https://www.newtral.es/bulos-coronavirus-pcr-k...</td>\n",
              "      <td>no title</td>\n",
              "      <td>Estos vídeos de Kary Mullis, inventor del PCR,...</td>\n",
              "      <td>no confiable</td>\n",
              "      <td>2020-10-13 00:00:00+00:00</td>\n",
              "      <td>Newtral</td>\n",
              "    </tr>\n",
              "    <tr>\n",
              "      <th>1</th>\n",
              "      <td>https://colombiacheck.com/chequeos/no-ecuador-...</td>\n",
              "      <td>No, Ecuador no encontró la cura para el COVID-...</td>\n",
              "      <td>Ecuador venció al coronavirus</td>\n",
              "      <td>no confiable</td>\n",
              "      <td>2020-10-08 18:36:17+00:00</td>\n",
              "      <td>ColombiaCheck</td>\n",
              "    </tr>\n",
              "    <tr>\n",
              "      <th>2</th>\n",
              "      <td>https://www.telemundo.com/noticias/noticias-te...</td>\n",
              "      <td>Las afirmaciones falsas y engañosas del debate...</td>\n",
              "      <td>\"Trump llamó al coronavirus un \"fraude\".</td>\n",
              "      <td>no confiable</td>\n",
              "      <td>2020-10-08 00:00:00+00:00</td>\n",
              "      <td>Telemundo</td>\n",
              "    </tr>\n",
              "    <tr>\n",
              "      <th>3</th>\n",
              "      <td>https://factual.afp.com/la-inscripcion-en-caja...</td>\n",
              "      <td>La inscripción en cajas de tapabocas no prueba...</td>\n",
              "      <td>La inscripción en las cajas de mascarillas pru...</td>\n",
              "      <td>no confiable</td>\n",
              "      <td>2020-10-07 18:36:00+00:00</td>\n",
              "      <td>AFP Factual</td>\n",
              "    </tr>\n",
              "    <tr>\n",
              "      <th>4</th>\n",
              "      <td>https://chequeado.com/ultimas-noticias/alesso-...</td>\n",
              "      <td>Alesso (CTERA): “En los lugares donde hay poco...</td>\n",
              "      <td>En los lugares donde hay pocos casos de corona...</td>\n",
              "      <td>no confiable</td>\n",
              "      <td>2020-10-07 00:00:00+00:00</td>\n",
              "      <td>Chequeado</td>\n",
              "    </tr>\n",
              "  </tbody>\n",
              "</table>\n",
              "</div>"
            ],
            "text/plain": [
              "                                                 url  ...   organizacion\n",
              "0  https://www.newtral.es/bulos-coronavirus-pcr-k...  ...        Newtral\n",
              "1  https://colombiacheck.com/chequeos/no-ecuador-...  ...  ColombiaCheck\n",
              "2  https://www.telemundo.com/noticias/noticias-te...  ...      Telemundo\n",
              "3  https://factual.afp.com/la-inscripcion-en-caja...  ...    AFP Factual\n",
              "4  https://chequeado.com/ultimas-noticias/alesso-...  ...      Chequeado\n",
              "\n",
              "[5 rows x 6 columns]"
            ]
          },
          "metadata": {
            "tags": []
          },
          "execution_count": 6
        }
      ]
    },
    {
      "cell_type": "markdown",
      "metadata": {
        "id": "QGhqk1yLPRXQ"
      },
      "source": [
        "# Metrics"
      ]
    },
    {
      "cell_type": "code",
      "metadata": {
        "id": "8a4QuG4ZPYkS"
      },
      "source": [
        "from sklearn.model_selection import cross_validate\n",
        "from sklearn.model_selection import KFold\n",
        "\n",
        "from sklearn.metrics import accuracy_score, plot_confusion_matrix\n",
        "from sklearn.metrics import average_precision_score, precision_recall_curve\n",
        "from sklearn.metrics import make_scorer\n",
        "from sklearn.metrics import auc\n",
        "from sklearn.metrics import roc_curve\n",
        "from sklearn.metrics import roc_auc_score\n",
        "from sklearn.metrics import f1_score\n",
        "\n",
        "from functools import wraps\n",
        "\n",
        "\n",
        "\n",
        "def plot_boxplot(scores, metric, ax=None):\n",
        "    \"\"\" Plot the boxplot of each model given a metric\"\"\"\n",
        "    data = [model[metric] for model in scores]\n",
        "    name = metric.split('_')[1]\n",
        "    if ax:\n",
        "        ax.boxplot(data, labels=names, showmeans=True)\n",
        "        ax.set_title(f'{name.capitalize()} scores by model')\n",
        "        ax.set_xlabel('Model')\n",
        "        ax.set_ylabel(name.capitalize())\n",
        "    else:\n",
        "        plt.boxplot(data, labels=names, showmeans=True)\n",
        "        plt.set_title(f'{name.capitalize()} scores by model')\n",
        "        plt.set_xlabel('Model')\n",
        "        plt.set_ylabel(name.capitalize())\n",
        "        plt.show()\n",
        "\n",
        "        \n",
        "def roc_auc(y_true, probs_pred):\n",
        "    \"\"\" Calculate ROC area under curve \"\"\"\n",
        "    return roc_auc_score(y_true, probs_pred)\n",
        "\n",
        "\n",
        "def pr_auc(y_true, probs_pred):\n",
        "    \"\"\"Calculate precision-recall area under curve\"\"\"\n",
        "    # calculate area under curve\n",
        "    return average_precision_score(y_true, probs_pred)\n",
        "\n",
        "\n",
        "def evaluate_model(model, x, y):\n",
        "    \"\"\" Evaluate the model using KFold \"\"\"\n",
        "    scoring = {'accuracy': make_scorer(accuracy_score),\n",
        "               'f1': make_scorer(f1_score), \n",
        "               'roc_auc': make_scorer(roc_auc, needs_proba=True),\n",
        "               'pr_auc': make_scorer(pr_auc, needs_proba=True)\n",
        "              }\n",
        "              \n",
        "    cv = KFold(n_splits=10, shuffle=True, random_state=SEED)\n",
        "    scores = cross_validate(model, x, y, cv=cv, \n",
        "                            scoring=scoring,\n",
        "                            n_jobs=-1, \n",
        "                            verbose=0)\n",
        "    \n",
        "    return scores\n",
        "\n",
        "\n",
        "def track_scores(scores):\n",
        "    # Metrics to log\n",
        "    metrics = ['test_accuracy', 'test_f1', 'test_roc_auc', 'test_pr_auc']\n",
        "    for metric in metrics:\n",
        "      for score in scores[metric]:\n",
        "        wandb.log({f'cv_score_{metric}': score})\n",
        "        wandb.log({f'mean_{metric}': scores[metric].mean()})\n",
        "      wandb.termlog(f'mean_{metric} logged')\n",
        "\n",
        "\n",
        "def display_scores(scores, metric):\n",
        "    \"\"\" Display the avg and std score of the model\"\"\"\n",
        "    print('='*60)\n",
        "    for m in metric:\n",
        "        name = 'test_'+m.lower()\n",
        "        print(f\"Metric: {m:>10} {'|':>5} Mean: {scores[name].mean():.3f} (+/- {scores[name].std()*2:.2f})\")\n",
        "\n"
      ],
      "execution_count": null,
      "outputs": []
    },
    {
      "cell_type": "markdown",
      "metadata": {
        "id": "4yBimxnQGKt6"
      },
      "source": [
        "# Support functions\n"
      ]
    },
    {
      "cell_type": "code",
      "metadata": {
        "id": "Tgb42LUll3wO"
      },
      "source": [
        "# Support libraries\n",
        "import matplotlib.pyplot as plt\n",
        "\n",
        "from sklearn.pipeline import Pipeline\n",
        "from sklearn.feature_extraction.text import TfidfTransformer\n",
        "from sklearn.feature_extraction.text import CountVectorizer\n",
        "from sklearn.base import TransformerMixin, BaseEstimator "
      ],
      "execution_count": null,
      "outputs": []
    },
    {
      "cell_type": "code",
      "metadata": {
        "id": "oLQJR6QAGNWW"
      },
      "source": [
        "def normalize_document(doc:str, rm_sw:bool=True, \n",
        "                       rm_symb:bool=True,\n",
        "                       lemmatize:bool=True) -> str:\n",
        "    '''\n",
        "    Cleans text including removal of whitespace, punctuation, accented characters,\n",
        "    special characters and transforming to lowercase. Assumes input text is string.\n",
        "    Returns clean string.\n",
        "    '''\n",
        "\n",
        "    # lower case and remove special characters\\whitespaces\n",
        "    if rm_symb:\n",
        "      # Remove accents\n",
        "      doc = unicodedata.normalize(u'NFKD', doc)\\\n",
        "                       .encode('ascii', 'ignore')\\\n",
        "                       .decode('utf8')\n",
        "      # Remove numbers and punctuations\n",
        "      doc = re.sub(r'[^a-zA-Z\\s]', '', doc)\n",
        "    # To lowercase\n",
        "    doc = doc.lower()\n",
        "    # Remove extra space\n",
        "    doc = doc.strip()\n",
        "\n",
        "    if rm_sw:\n",
        "      # tokenize document\n",
        "      tokens = nltk.word_tokenize(doc)\n",
        "      # filter stopwords out of document\n",
        "      filtered_tokens = [token for token in tokens if token not in stop_words_es]\n",
        "      # re-create document from filtered tokens\n",
        "      doc = ' '.join(filtered_tokens)\n",
        "\n",
        "    if lemmatize:\n",
        "      doc = nlp(doc)\n",
        "      tokens = [token.lemma_.strip() for token in doc]\n",
        "      doc = ' '.join(tokens)\n",
        "\n",
        "    return doc\n",
        "\n",
        "\n",
        "class DenseTransformer(BaseEstimator, TransformerMixin):\n",
        "    def fit(self, X, y=None, **fit_params):\n",
        "        return self\n",
        "\n",
        "    def transform(self, X, y=None, **fit_params):\n",
        "        return X.todense()\n",
        "\n",
        "\n",
        "class NormalizeTextTransformer(BaseEstimator, TransformerMixin):\n",
        "  def __init__ (self, **params):\n",
        "    print(params)\n",
        "    self.rm_sw = params.get('rm_sw')\n",
        "    self.rm_symb = params.get('rm_symb')\n",
        "    self.lemmatize = params.get('lemmatize')\n",
        "\n",
        "    # print(self.rm_sw, self.rm_symb, self.lemmatize)\n",
        "  def fit(self, X, y=None, **fit_params):\n",
        "    return self\n",
        "\n",
        "\n",
        "  def transform(self, X, y=None, **transf_params):\n",
        "    X_norm = normalize_corpus(X, \n",
        "                            rm_sw=self.rm_sw,\n",
        "                            rm_symb=self.rm_symb,\n",
        "                            lemmatize=self.lemmatize)\n",
        "    return X_norm\n",
        "\n",
        "normalize_corpus = np.vectorize(normalize_document)"
      ],
      "execution_count": null,
      "outputs": []
    },
    {
      "cell_type": "markdown",
      "metadata": {
        "id": "cHrxUUIvH2pT"
      },
      "source": [
        "# Splitting the data"
      ]
    },
    {
      "cell_type": "code",
      "metadata": {
        "id": "XJRgpvL1l7qg"
      },
      "source": [
        "from sklearn.utils import shuffle"
      ],
      "execution_count": null,
      "outputs": []
    },
    {
      "cell_type": "code",
      "metadata": {
        "id": "_TCaYne-JNId"
      },
      "source": [
        "df['categoria'] = df['categoria'].map({'confiable': 1, 'no confiable': 0})"
      ],
      "execution_count": null,
      "outputs": []
    },
    {
      "cell_type": "code",
      "metadata": {
        "id": "1i9_HOJDJFhZ"
      },
      "source": [
        "df = shuffle(df, random_state=SEED)\n",
        "df.reset_index(drop=True, inplace=True)\n",
        "df.to_csv('covid-es-dataset.csv', index=False)\n",
        "\n",
        "X = df['texto'].values\n",
        "y = df['categoria'].values"
      ],
      "execution_count": null,
      "outputs": []
    },
    {
      "cell_type": "code",
      "metadata": {
        "id": "9hoO_2HbIDS2",
        "outputId": "863a4eba-ed11-4d6c-f253-558048a91b23",
        "colab": {
          "base_uri": "https://localhost:8080/"
        }
      },
      "source": [
        "from sklearn.model_selection import train_test_split\n",
        "\n",
        "X_train, X_test, y_train, y_test =\\\n",
        "     train_test_split(X, y, test_size=0.2, random_state=SEED)\n",
        "\n",
        "X_train, X_val, y_train, y_val =\\\n",
        "    train_test_split(X_train, y_train, test_size=0.25, random_state=SEED)\n",
        "\n",
        "print(\"Train shapes:\", X_train.shape, y_train.shape)\n",
        "print(\"Validation shapes:\", X_val.shape, y_val.shape)\n",
        "print(\"Test shapes:\", X_test.shape, y_test.shape)"
      ],
      "execution_count": null,
      "outputs": [
        {
          "output_type": "stream",
          "text": [
            "Train shapes: (4488,) (4488,)\n",
            "Validation shapes: (1497,) (1497,)\n",
            "Test shapes: (1497,) (1497,)\n"
          ],
          "name": "stdout"
        }
      ]
    },
    {
      "cell_type": "markdown",
      "metadata": {
        "id": "W0Js8OS_lVvQ"
      },
      "source": [
        "# Train model\n"
      ]
    },
    {
      "cell_type": "code",
      "metadata": {
        "id": "pkjvFcnSK6L9"
      },
      "source": [
        ""
      ],
      "execution_count": null,
      "outputs": []
    },
    {
      "cell_type": "code",
      "metadata": {
        "id": "YfoAOrRVlr1y",
        "outputId": "87641906-283c-4779-9228-234d71e9cae8",
        "colab": {
          "base_uri": "https://localhost:8080/"
        }
      },
      "source": [
        "from sklearn.svm import SVC\n",
        "# Initial configuration for the training phase \n",
        "config = {\n",
        "    \"rm_sw\": False,            # No stopwords\n",
        "    \"rm_symb\": True,          # Remove numbers, special characters, accents\n",
        "    \"lemmatize\": True,        # Lemmatize the words\n",
        "    \"ngram_range\": (1, 1),    # Windows\n",
        "    'features': 'texto',      # Column used as the input feature\n",
        "    'random_state': SEED,     # To reproducibility\n",
        "    'kfolds': 10              # Amount of folds for evaluation\n",
        "    }\n",
        "\n",
        "\n",
        "# Pipeline\n",
        "steps = [\n",
        "         ('norm', NormalizeTextTransformer(rm_sw=config.get('rm_sw'), \n",
        "                                           rm_symb=config.get('rm_symb'),\n",
        "                                           lemmatize=config.get('lemmatize'))),\n",
        "         \n",
        "         ('vect', CountVectorizer(analyzer='word',\n",
        "                                  ngram_range=config.get('ngram_range'))),\n",
        "         ('tfidf', TfidfTransformer()),\n",
        "         ('clf', SVC(random_state=SEED, probability=True))\n",
        "        ]\n",
        "\n",
        "# model_pipe = Pipeline(steps=steps, verbose=1)\n",
        "# model_pipe.fit(X=X_train, y=y_train)"
      ],
      "execution_count": null,
      "outputs": [
        {
          "output_type": "stream",
          "text": [
            "{'rm_sw': False, 'rm_symb': True, 'lemmatize': True}\n"
          ],
          "name": "stdout"
        }
      ]
    },
    {
      "cell_type": "markdown",
      "metadata": {
        "id": "yOjsHNAV5MHb"
      },
      "source": [
        "# Get predictions"
      ]
    },
    {
      "cell_type": "code",
      "metadata": {
        "id": "uJktz0ce5Ora"
      },
      "source": [
        "# y_pred = model_pipe.predict(X_test)\n",
        "# print(accuracy_score(y_test, y_pred))\n",
        "# plot_confusion_matrix(model_pipe, X_test, y_test, values_format='.0f')"
      ],
      "execution_count": null,
      "outputs": []
    },
    {
      "cell_type": "code",
      "metadata": {
        "id": "M-LbHk0n8yJh"
      },
      "source": [
        "# model_pipe.predict_proba(X_test)"
      ],
      "execution_count": null,
      "outputs": []
    },
    {
      "cell_type": "markdown",
      "metadata": {
        "id": "2rj576MVgN7M"
      },
      "source": [
        "WANDB TRACK"
      ]
    },
    {
      "cell_type": "code",
      "metadata": {
        "id": "kDA9CvJ2aj-x",
        "outputId": "8bd7b982-a8e2-41cb-9da7-efeac66cc46b",
        "colab": {
          "base_uri": "https://localhost:8080/"
        }
      },
      "source": [
        "# initialize wandb run\n",
        "wandb.init(project='test', name='svc')\n",
        "# y_pred = model_pipe.predict(X_test)\n",
        "# wandb.sklearn.plot_confusion_matrix(y_test, y_pred, model_pipe.classes_)"
      ],
      "execution_count": null,
      "outputs": [
        {
          "output_type": "display_data",
          "data": {
            "text/html": [
              "\n",
              "                Tracking run with wandb version 0.10.9<br/>\n",
              "                Syncing run <strong style=\"color:#cdcd00\">svc</strong> to <a href=\"https://wandb.ai\" target=\"_blank\">Weights & Biases</a> <a href=\"https://docs.wandb.com/integrations/jupyter.html\" target=\"_blank\">(Documentation)</a>.<br/>\n",
              "                Project page: <a href=\"https://wandb.ai/christian_vadillo/test\" target=\"_blank\">https://wandb.ai/christian_vadillo/test</a><br/>\n",
              "                Run page: <a href=\"https://wandb.ai/christian_vadillo/test/runs/1xa0lgpg\" target=\"_blank\">https://wandb.ai/christian_vadillo/test/runs/1xa0lgpg</a><br/>\n",
              "                Run data is saved locally in <code>wandb/run-20201106_225129-1xa0lgpg</code><br/><br/>\n",
              "            "
            ],
            "text/plain": [
              "<IPython.core.display.HTML object>"
            ]
          },
          "metadata": {
            "tags": []
          }
        },
        {
          "output_type": "execute_result",
          "data": {
            "text/plain": [
              "<wandb.sdk.wandb_run.Run at 0x7fab162a9f28>"
            ],
            "text/html": [
              "<h1>Run(1xa0lgpg)</h1><p></p><iframe src=\"https://wandb.ai/christian_vadillo/test/runs/1xa0lgpg\" style=\"border:none;width:100%;height:400px\"></iframe>"
            ]
          },
          "metadata": {
            "tags": []
          },
          "execution_count": 17
        }
      ]
    },
    {
      "cell_type": "code",
      "metadata": {
        "id": "gUNu4DY_gZdd",
        "outputId": "4423208d-812d-4e6d-bc19-5f47d67d9b6c",
        "colab": {
          "base_uri": "https://localhost:8080/"
        }
      },
      "source": [
        "# Configuration for hyperparameter sweep\n",
        "sweep_config = {\n",
        "   'method': 'bayes',\n",
        "   'metric': {\n",
        "       'name': 'val_accuracy_score',\n",
        "       'goal': 'maximize', \n",
        "       'target': 0.93\n",
        "        },\n",
        "    'early_terminate':{\n",
        "        'type': 'hyperband',\n",
        "        's': 2,\n",
        "        'eta': 3,\n",
        "        'max_iter': 10\n",
        "    },\n",
        "   'parameters': {\n",
        "        \"kernel\": {\n",
        "           'distribution': 'categorical',\n",
        "           'values': ['sigmoid', 'rbf']\n",
        "       }, \n",
        "        \"C\": {\n",
        "           'distribution': 'uniform',\n",
        "           'min': 5.0,\n",
        "           'max': 15.0\n",
        "       },\n",
        "        \"gamma\": {\n",
        "           'distribution': 'log_uniform',\n",
        "           'min': -2.0,\n",
        "           'max': 0.5,\n",
        "       },\n",
        "      #  \"degree\": {\n",
        "      #      'distribution': 'int_uniform',\n",
        "      #      'min': 2,\n",
        "      #      'max': 7\n",
        "      #  }, \n",
        "      #  \"coef0\": {\n",
        "      #      'distribution': 'uniform',\n",
        "      #      'min':0.0,\n",
        "      #      'max':10.0\n",
        "      #  }\n",
        "   }\n",
        "}\n",
        "\n",
        "sweep_id = wandb.sweep(sweep_config, project='test')"
      ],
      "execution_count": null,
      "outputs": [
        {
          "output_type": "stream",
          "text": [
            "\u001b[34m\u001b[1mwandb\u001b[0m: \u001b[33mWARNING\u001b[0m Calling wandb.login() after wandb.init() has no effect.\n"
          ],
          "name": "stderr"
        },
        {
          "output_type": "stream",
          "text": [
            "Create sweep with ID: curi1gwo\n",
            "Sweep URL: https://wandb.ai/christian_vadillo/test/sweeps/curi1gwo\n"
          ],
          "name": "stdout"
        }
      ]
    },
    {
      "cell_type": "code",
      "metadata": {
        "id": "yZh2LfzIrYf4"
      },
      "source": [
        "X_train_norm = normalize_corpus(X_train)\n",
        "X_val_norm = normalize_corpus(X_val)\n",
        "X_test_norm = normalize_corpus(X_test)"
      ],
      "execution_count": null,
      "outputs": []
    },
    {
      "cell_type": "code",
      "metadata": {
        "id": "QSiuseaRqZz4"
      },
      "source": [
        "def _train():\n",
        "    # Configure and train model\n",
        "    wandb.init(name=\"SVM_sweep\")\n",
        "\n",
        "    if wandb.config.kernel is 'poly':\n",
        "      clf = SVC(C=wandb.config.C, coef0=wandb.config.coef0, kernel=wandb.config.kernel, gamma=wandb.config.gamma, \n",
        "                 degree=wandb.config.degree, random_state=SEED)\n",
        "    else:\n",
        "      clf = SVC(C=wandb.config.C, gamma=wandb.config.gamma,\n",
        "               kernel=wandb.config.kernel, random_state=SEED)\n",
        "\n",
        "    steps = [\n",
        "             ('vect', CountVectorizer(analyzer='word',\n",
        "                                      ngram_range=config.get('ngram_range'))),\n",
        "             ('tfidf', TfidfTransformer()),\n",
        "             ('clf', clf)\n",
        "        ]\n",
        "    pipe = Pipeline(steps=steps)\n",
        "    pipe.fit(X_train_norm, y_train)\n",
        "    \n",
        "    # Create predictions for evaluation\n",
        "    y_val_preds = pipe.predict(X_val_norm)\n",
        "    y_test_preds = pipe.predict(X_test_norm)\n",
        "    \n",
        "    # W&B log metrics\n",
        "    wandb.log({'val_accuracy_score': accuracy_score(y_val, y_val_preds)})\n",
        "    wandb.log({'test_accuracy_score': accuracy_score(y_test, y_test_preds)})\n",
        "\n"
      ],
      "execution_count": null,
      "outputs": []
    },
    {
      "cell_type": "code",
      "metadata": {
        "id": "z2T5dXzFsSJc",
        "outputId": "067f4e1a-5f16-4889-f6a1-34b046dbd0de",
        "colab": {
          "base_uri": "https://localhost:8080/",
          "height": 1000,
          "referenced_widgets": [
            "513594ff1f1c434086d854904b80702b",
            "2f5552ac40f346e39603fba87c1d8988",
            "744823112bfd4c20b4f8d4d847efee9f",
            "25f1c551422f46d79a9f24dcf00ef2aa",
            "884c7861ff2d4852be0b677e4fb540e2",
            "ca3eeaa22f214acfb53396b415c2ef47",
            "771f180b9ad34812878d29f3f330ba50",
            "770d057741c045d5bb80f229ad3b9fad",
            "7a5a5aa427a8488585bce4a19b5006d1",
            "21988465ccf94415b799ad556dff4de5",
            "5ccfc5d0543b43618d78fb7bccf20578",
            "c99a7c8ac2a144c598ae9344ab1dd71c",
            "ae3643562beb440dac11753ff30bffa6",
            "2832f7f22a5d4f26a5ff46ab4c1fd6aa",
            "bbee2d0d1a384d78a8dd26cb6faee26b",
            "ec6efa25a8e841819bceb4cc74a8bf9d",
            "5c6e1c29f0aa4f998a1d03762faed1b5",
            "8e7f548144784607b7ba24bc51ba6ecb",
            "0dcb4c3af9c147a2a59e0a7c5add9324",
            "cd33fedc95ab42458cde5fec47ce3636",
            "385ed22a41044280a2d4cfda3935a985",
            "2348f82581d942d6bab0c46ffc399f6a",
            "0a0d0041e1a1480db8acf1794979f16f",
            "d13aa9a9b1a04d08ad09e0c08c4d438f",
            "ab8c871260f044b39ab098bbd568b48b",
            "80094b556cda413da3d842925719177e",
            "9dfbb9bdc72a4339b93715438669bd14",
            "fc37a657e0de4150a22280743ea57fb8",
            "25778e0842354cd0ad6e5fe6f2c234a8",
            "5b346f3385b44c0cb9962e5cc190fa9f",
            "240f66a8a9034088a50659f4b02950e7",
            "c08c61f1b7804988a099a552d57cd032"
          ]
        }
      },
      "source": [
        "# Run hyperparameter sweep (grid search)\n",
        "wandb.agent(sweep_id, function=_train)"
      ],
      "execution_count": null,
      "outputs": [
        {
          "output_type": "stream",
          "text": [
            "\u001b[34m\u001b[1mwandb\u001b[0m: \u001b[33mWARNING\u001b[0m Calling wandb.login() after wandb.init() has no effect.\n",
            "\u001b[34m\u001b[1mwandb\u001b[0m: Agent Starting Run: lhk515jn with config:\n",
            "\u001b[34m\u001b[1mwandb\u001b[0m: \tC: 12.378053160166385\n",
            "\u001b[34m\u001b[1mwandb\u001b[0m: \tgamma: 1.4939607725814479\n",
            "\u001b[34m\u001b[1mwandb\u001b[0m: \tkernel: rbf\n"
          ],
          "name": "stderr"
        },
        {
          "output_type": "display_data",
          "data": {
            "text/html": [
              "\n",
              "                Tracking run with wandb version 0.10.9<br/>\n",
              "                Syncing run <strong style=\"color:#cdcd00\">SVM_sweep</strong> to <a href=\"https://wandb.ai\" target=\"_blank\">Weights & Biases</a> <a href=\"https://docs.wandb.com/integrations/jupyter.html\" target=\"_blank\">(Documentation)</a>.<br/>\n",
              "                Project page: <a href=\"https://wandb.ai/christian_vadillo/test\" target=\"_blank\">https://wandb.ai/christian_vadillo/test</a><br/>\n",
              "                Sweep page: <a href=\"https://wandb.ai/christian_vadillo/test/sweeps/curi1gwo\" target=\"_blank\">https://wandb.ai/christian_vadillo/test/sweeps/curi1gwo</a><br/>\n",
              "Run page: <a href=\"https://wandb.ai/christian_vadillo/test/runs/lhk515jn\" target=\"_blank\">https://wandb.ai/christian_vadillo/test/runs/lhk515jn</a><br/>\n",
              "                Run data is saved locally in <code>/content/wandb/run-20201106_225651-lhk515jn</code><br/><br/>\n",
              "            "
            ],
            "text/plain": [
              "<IPython.core.display.HTML object>"
            ]
          },
          "metadata": {
            "tags": []
          }
        },
        {
          "output_type": "display_data",
          "data": {
            "text/html": [
              "<br/>Waiting for W&B process to finish, PID 25497<br/>Program ended successfully."
            ],
            "text/plain": [
              "<IPython.core.display.HTML object>"
            ]
          },
          "metadata": {
            "tags": []
          }
        },
        {
          "output_type": "display_data",
          "data": {
            "application/vnd.jupyter.widget-view+json": {
              "model_id": "513594ff1f1c434086d854904b80702b",
              "version_minor": 0,
              "version_major": 2
            },
            "text/plain": [
              "VBox(children=(Label(value=' 0.00MB of 0.00MB uploaded (0.00MB deduped)\\r'), FloatProgress(value=1.0, max=1.0)…"
            ]
          },
          "metadata": {
            "tags": []
          }
        },
        {
          "output_type": "display_data",
          "data": {
            "text/html": [
              "Find user logs for this run at: <code>/content/wandb/run-20201106_225651-lhk515jn/logs/debug.log</code>"
            ],
            "text/plain": [
              "<IPython.core.display.HTML object>"
            ]
          },
          "metadata": {
            "tags": []
          }
        },
        {
          "output_type": "display_data",
          "data": {
            "text/html": [
              "Find internal logs for this run at: <code>/content/wandb/run-20201106_225651-lhk515jn/logs/debug-internal.log</code>"
            ],
            "text/plain": [
              "<IPython.core.display.HTML object>"
            ]
          },
          "metadata": {
            "tags": []
          }
        },
        {
          "output_type": "display_data",
          "data": {
            "text/html": [
              "<h3>Run summary:</h3><br/><style>\n",
              "    table.wandb td:nth-child(1) { padding: 0 10px; text-align: right }\n",
              "    </style><table class=\"wandb\">\n",
              "<tr><td>val_accuracy_score</td><td>0.91984</td></tr><tr><td>_step</td><td>1</td></tr><tr><td>_runtime</td><td>23</td></tr><tr><td>_timestamp</td><td>1604703434</td></tr><tr><td>test_accuracy_score</td><td>0.91316</td></tr></table>"
            ],
            "text/plain": [
              "<IPython.core.display.HTML object>"
            ]
          },
          "metadata": {
            "tags": []
          }
        },
        {
          "output_type": "display_data",
          "data": {
            "text/html": [
              "<h3>Run history:</h3><br/><style>\n",
              "    table.wandb td:nth-child(1) { padding: 0 10px; text-align: right }\n",
              "    </style><table class=\"wandb\">\n",
              "<tr><td>val_accuracy_score</td><td>▁</td></tr><tr><td>_step</td><td>▁█</td></tr><tr><td>_runtime</td><td>▁▁</td></tr><tr><td>_timestamp</td><td>▁▁</td></tr><tr><td>test_accuracy_score</td><td>▁</td></tr></table><br/>"
            ],
            "text/plain": [
              "<IPython.core.display.HTML object>"
            ]
          },
          "metadata": {
            "tags": []
          }
        },
        {
          "output_type": "display_data",
          "data": {
            "text/html": [
              "Synced 4 W&B file(s), 0 media file(s), 0 artifact file(s) and 0 other file(s)"
            ],
            "text/plain": [
              "<IPython.core.display.HTML object>"
            ]
          },
          "metadata": {
            "tags": []
          }
        },
        {
          "output_type": "display_data",
          "data": {
            "text/html": [
              "\n",
              "                    <br/>Synced <strong style=\"color:#cdcd00\">SVM_sweep</strong>: <a href=\"https://wandb.ai/christian_vadillo/test/runs/lhk515jn\" target=\"_blank\">https://wandb.ai/christian_vadillo/test/runs/lhk515jn</a><br/>\n",
              "                "
            ],
            "text/plain": [
              "<IPython.core.display.HTML object>"
            ]
          },
          "metadata": {
            "tags": []
          }
        },
        {
          "output_type": "stream",
          "text": [
            "\u001b[34m\u001b[1mwandb\u001b[0m: Agent Starting Run: azcbcv9e with config:\n",
            "\u001b[34m\u001b[1mwandb\u001b[0m: \tC: 6.4765811842010645\n",
            "\u001b[34m\u001b[1mwandb\u001b[0m: \tgamma: 0.1360807347104959\n",
            "\u001b[34m\u001b[1mwandb\u001b[0m: \tkernel: sigmoid\n"
          ],
          "name": "stderr"
        },
        {
          "output_type": "display_data",
          "data": {
            "text/html": [
              "\n",
              "                Tracking run with wandb version 0.10.9<br/>\n",
              "                Syncing run <strong style=\"color:#cdcd00\">SVM_sweep</strong> to <a href=\"https://wandb.ai\" target=\"_blank\">Weights & Biases</a> <a href=\"https://docs.wandb.com/integrations/jupyter.html\" target=\"_blank\">(Documentation)</a>.<br/>\n",
              "                Project page: <a href=\"https://wandb.ai/christian_vadillo/test\" target=\"_blank\">https://wandb.ai/christian_vadillo/test</a><br/>\n",
              "                Sweep page: <a href=\"https://wandb.ai/christian_vadillo/test/sweeps/curi1gwo\" target=\"_blank\">https://wandb.ai/christian_vadillo/test/sweeps/curi1gwo</a><br/>\n",
              "Run page: <a href=\"https://wandb.ai/christian_vadillo/test/runs/azcbcv9e\" target=\"_blank\">https://wandb.ai/christian_vadillo/test/runs/azcbcv9e</a><br/>\n",
              "                Run data is saved locally in <code>/content/wandb/run-20201106_225718-azcbcv9e</code><br/><br/>\n",
              "            "
            ],
            "text/plain": [
              "<IPython.core.display.HTML object>"
            ]
          },
          "metadata": {
            "tags": []
          }
        },
        {
          "output_type": "display_data",
          "data": {
            "text/html": [
              "<br/>Waiting for W&B process to finish, PID 25526<br/>Program ended successfully."
            ],
            "text/plain": [
              "<IPython.core.display.HTML object>"
            ]
          },
          "metadata": {
            "tags": []
          }
        },
        {
          "output_type": "display_data",
          "data": {
            "application/vnd.jupyter.widget-view+json": {
              "model_id": "7a5a5aa427a8488585bce4a19b5006d1",
              "version_minor": 0,
              "version_major": 2
            },
            "text/plain": [
              "VBox(children=(Label(value=' 0.00MB of 0.00MB uploaded (0.00MB deduped)\\r'), FloatProgress(value=1.0, max=1.0)…"
            ]
          },
          "metadata": {
            "tags": []
          }
        },
        {
          "output_type": "display_data",
          "data": {
            "text/html": [
              "Find user logs for this run at: <code>/content/wandb/run-20201106_225718-azcbcv9e/logs/debug.log</code>"
            ],
            "text/plain": [
              "<IPython.core.display.HTML object>"
            ]
          },
          "metadata": {
            "tags": []
          }
        },
        {
          "output_type": "display_data",
          "data": {
            "text/html": [
              "Find internal logs for this run at: <code>/content/wandb/run-20201106_225718-azcbcv9e/logs/debug-internal.log</code>"
            ],
            "text/plain": [
              "<IPython.core.display.HTML object>"
            ]
          },
          "metadata": {
            "tags": []
          }
        },
        {
          "output_type": "display_data",
          "data": {
            "text/html": [
              "<h3>Run summary:</h3><br/><style>\n",
              "    table.wandb td:nth-child(1) { padding: 0 10px; text-align: right }\n",
              "    </style><table class=\"wandb\">\n",
              "<tr><td>val_accuracy_score</td><td>0.91984</td></tr><tr><td>_step</td><td>1</td></tr><tr><td>_runtime</td><td>12</td></tr><tr><td>_timestamp</td><td>1604703450</td></tr><tr><td>test_accuracy_score</td><td>0.91717</td></tr></table>"
            ],
            "text/plain": [
              "<IPython.core.display.HTML object>"
            ]
          },
          "metadata": {
            "tags": []
          }
        },
        {
          "output_type": "display_data",
          "data": {
            "text/html": [
              "<h3>Run history:</h3><br/><style>\n",
              "    table.wandb td:nth-child(1) { padding: 0 10px; text-align: right }\n",
              "    </style><table class=\"wandb\">\n",
              "<tr><td>val_accuracy_score</td><td>▁</td></tr><tr><td>_step</td><td>▁█</td></tr><tr><td>_runtime</td><td>▁▁</td></tr><tr><td>_timestamp</td><td>▁▁</td></tr><tr><td>test_accuracy_score</td><td>▁</td></tr></table><br/>"
            ],
            "text/plain": [
              "<IPython.core.display.HTML object>"
            ]
          },
          "metadata": {
            "tags": []
          }
        },
        {
          "output_type": "display_data",
          "data": {
            "text/html": [
              "Synced 4 W&B file(s), 0 media file(s), 0 artifact file(s) and 0 other file(s)"
            ],
            "text/plain": [
              "<IPython.core.display.HTML object>"
            ]
          },
          "metadata": {
            "tags": []
          }
        },
        {
          "output_type": "display_data",
          "data": {
            "text/html": [
              "\n",
              "                    <br/>Synced <strong style=\"color:#cdcd00\">SVM_sweep</strong>: <a href=\"https://wandb.ai/christian_vadillo/test/runs/azcbcv9e\" target=\"_blank\">https://wandb.ai/christian_vadillo/test/runs/azcbcv9e</a><br/>\n",
              "                "
            ],
            "text/plain": [
              "<IPython.core.display.HTML object>"
            ]
          },
          "metadata": {
            "tags": []
          }
        },
        {
          "output_type": "stream",
          "text": [
            "\u001b[34m\u001b[1mwandb\u001b[0m: Agent Starting Run: gvpmjqqo with config:\n",
            "\u001b[34m\u001b[1mwandb\u001b[0m: \tC: 6.181978822830607\n",
            "\u001b[34m\u001b[1mwandb\u001b[0m: \tgamma: 0.26932303184368034\n",
            "\u001b[34m\u001b[1mwandb\u001b[0m: \tkernel: sigmoid\n"
          ],
          "name": "stderr"
        },
        {
          "output_type": "display_data",
          "data": {
            "text/html": [
              "\n",
              "                Tracking run with wandb version 0.10.9<br/>\n",
              "                Syncing run <strong style=\"color:#cdcd00\">SVM_sweep</strong> to <a href=\"https://wandb.ai\" target=\"_blank\">Weights & Biases</a> <a href=\"https://docs.wandb.com/integrations/jupyter.html\" target=\"_blank\">(Documentation)</a>.<br/>\n",
              "                Project page: <a href=\"https://wandb.ai/christian_vadillo/test\" target=\"_blank\">https://wandb.ai/christian_vadillo/test</a><br/>\n",
              "                Sweep page: <a href=\"https://wandb.ai/christian_vadillo/test/sweeps/curi1gwo\" target=\"_blank\">https://wandb.ai/christian_vadillo/test/sweeps/curi1gwo</a><br/>\n",
              "Run page: <a href=\"https://wandb.ai/christian_vadillo/test/runs/gvpmjqqo\" target=\"_blank\">https://wandb.ai/christian_vadillo/test/runs/gvpmjqqo</a><br/>\n",
              "                Run data is saved locally in <code>/content/wandb/run-20201106_225735-gvpmjqqo</code><br/><br/>\n",
              "            "
            ],
            "text/plain": [
              "<IPython.core.display.HTML object>"
            ]
          },
          "metadata": {
            "tags": []
          }
        },
        {
          "output_type": "display_data",
          "data": {
            "text/html": [
              "<br/>Waiting for W&B process to finish, PID 25555<br/>Program ended successfully."
            ],
            "text/plain": [
              "<IPython.core.display.HTML object>"
            ]
          },
          "metadata": {
            "tags": []
          }
        },
        {
          "output_type": "display_data",
          "data": {
            "application/vnd.jupyter.widget-view+json": {
              "model_id": "5c6e1c29f0aa4f998a1d03762faed1b5",
              "version_minor": 0,
              "version_major": 2
            },
            "text/plain": [
              "VBox(children=(Label(value=' 0.00MB of 0.00MB uploaded (0.00MB deduped)\\r'), FloatProgress(value=1.0, max=1.0)…"
            ]
          },
          "metadata": {
            "tags": []
          }
        },
        {
          "output_type": "display_data",
          "data": {
            "text/html": [
              "Find user logs for this run at: <code>/content/wandb/run-20201106_225735-gvpmjqqo/logs/debug.log</code>"
            ],
            "text/plain": [
              "<IPython.core.display.HTML object>"
            ]
          },
          "metadata": {
            "tags": []
          }
        },
        {
          "output_type": "display_data",
          "data": {
            "text/html": [
              "Find internal logs for this run at: <code>/content/wandb/run-20201106_225735-gvpmjqqo/logs/debug-internal.log</code>"
            ],
            "text/plain": [
              "<IPython.core.display.HTML object>"
            ]
          },
          "metadata": {
            "tags": []
          }
        },
        {
          "output_type": "display_data",
          "data": {
            "text/html": [
              "<h3>Run summary:</h3><br/><style>\n",
              "    table.wandb td:nth-child(1) { padding: 0 10px; text-align: right }\n",
              "    </style><table class=\"wandb\">\n",
              "<tr><td>val_accuracy_score</td><td>0.90982</td></tr><tr><td>_step</td><td>1</td></tr><tr><td>_runtime</td><td>11</td></tr><tr><td>_timestamp</td><td>1604703466</td></tr><tr><td>test_accuracy_score</td><td>0.91583</td></tr></table>"
            ],
            "text/plain": [
              "<IPython.core.display.HTML object>"
            ]
          },
          "metadata": {
            "tags": []
          }
        },
        {
          "output_type": "display_data",
          "data": {
            "text/html": [
              "<h3>Run history:</h3><br/><style>\n",
              "    table.wandb td:nth-child(1) { padding: 0 10px; text-align: right }\n",
              "    </style><table class=\"wandb\">\n",
              "<tr><td>val_accuracy_score</td><td>▁</td></tr><tr><td>_step</td><td>▁█</td></tr><tr><td>_runtime</td><td>▁▁</td></tr><tr><td>_timestamp</td><td>▁▁</td></tr><tr><td>test_accuracy_score</td><td>▁</td></tr></table><br/>"
            ],
            "text/plain": [
              "<IPython.core.display.HTML object>"
            ]
          },
          "metadata": {
            "tags": []
          }
        },
        {
          "output_type": "display_data",
          "data": {
            "text/html": [
              "Synced 4 W&B file(s), 0 media file(s), 0 artifact file(s) and 0 other file(s)"
            ],
            "text/plain": [
              "<IPython.core.display.HTML object>"
            ]
          },
          "metadata": {
            "tags": []
          }
        },
        {
          "output_type": "display_data",
          "data": {
            "text/html": [
              "\n",
              "                    <br/>Synced <strong style=\"color:#cdcd00\">SVM_sweep</strong>: <a href=\"https://wandb.ai/christian_vadillo/test/runs/gvpmjqqo\" target=\"_blank\">https://wandb.ai/christian_vadillo/test/runs/gvpmjqqo</a><br/>\n",
              "                "
            ],
            "text/plain": [
              "<IPython.core.display.HTML object>"
            ]
          },
          "metadata": {
            "tags": []
          }
        },
        {
          "output_type": "stream",
          "text": [
            "\u001b[34m\u001b[1mwandb\u001b[0m: Agent Starting Run: x8w6z79v with config:\n",
            "\u001b[34m\u001b[1mwandb\u001b[0m: \tC: 5.763184357054367\n",
            "\u001b[34m\u001b[1mwandb\u001b[0m: \tgamma: 0.16870599540189762\n",
            "\u001b[34m\u001b[1mwandb\u001b[0m: \tkernel: rbf\n"
          ],
          "name": "stderr"
        },
        {
          "output_type": "display_data",
          "data": {
            "text/html": [
              "\n",
              "                Tracking run with wandb version 0.10.9<br/>\n",
              "                Syncing run <strong style=\"color:#cdcd00\">SVM_sweep</strong> to <a href=\"https://wandb.ai\" target=\"_blank\">Weights & Biases</a> <a href=\"https://docs.wandb.com/integrations/jupyter.html\" target=\"_blank\">(Documentation)</a>.<br/>\n",
              "                Project page: <a href=\"https://wandb.ai/christian_vadillo/test\" target=\"_blank\">https://wandb.ai/christian_vadillo/test</a><br/>\n",
              "                Sweep page: <a href=\"https://wandb.ai/christian_vadillo/test/sweeps/curi1gwo\" target=\"_blank\">https://wandb.ai/christian_vadillo/test/sweeps/curi1gwo</a><br/>\n",
              "Run page: <a href=\"https://wandb.ai/christian_vadillo/test/runs/x8w6z79v\" target=\"_blank\">https://wandb.ai/christian_vadillo/test/runs/x8w6z79v</a><br/>\n",
              "                Run data is saved locally in <code>/content/wandb/run-20201106_225751-x8w6z79v</code><br/><br/>\n",
              "            "
            ],
            "text/plain": [
              "<IPython.core.display.HTML object>"
            ]
          },
          "metadata": {
            "tags": []
          }
        },
        {
          "output_type": "display_data",
          "data": {
            "text/html": [
              "<br/>Waiting for W&B process to finish, PID 25584<br/>Program ended successfully."
            ],
            "text/plain": [
              "<IPython.core.display.HTML object>"
            ]
          },
          "metadata": {
            "tags": []
          }
        },
        {
          "output_type": "display_data",
          "data": {
            "application/vnd.jupyter.widget-view+json": {
              "model_id": "ab8c871260f044b39ab098bbd568b48b",
              "version_minor": 0,
              "version_major": 2
            },
            "text/plain": [
              "VBox(children=(Label(value=' 0.00MB of 0.00MB uploaded (0.00MB deduped)\\r'), FloatProgress(value=1.0, max=1.0)…"
            ]
          },
          "metadata": {
            "tags": []
          }
        },
        {
          "output_type": "display_data",
          "data": {
            "text/html": [
              "Find user logs for this run at: <code>/content/wandb/run-20201106_225751-x8w6z79v/logs/debug.log</code>"
            ],
            "text/plain": [
              "<IPython.core.display.HTML object>"
            ]
          },
          "metadata": {
            "tags": []
          }
        },
        {
          "output_type": "display_data",
          "data": {
            "text/html": [
              "Find internal logs for this run at: <code>/content/wandb/run-20201106_225751-x8w6z79v/logs/debug-internal.log</code>"
            ],
            "text/plain": [
              "<IPython.core.display.HTML object>"
            ]
          },
          "metadata": {
            "tags": []
          }
        },
        {
          "output_type": "display_data",
          "data": {
            "text/html": [
              "<h3>Run summary:</h3><br/><style>\n",
              "    table.wandb td:nth-child(1) { padding: 0 10px; text-align: right }\n",
              "    </style><table class=\"wandb\">\n",
              "<tr><td>val_accuracy_score</td><td>0.91182</td></tr><tr><td>_step</td><td>1</td></tr><tr><td>_runtime</td><td>12</td></tr><tr><td>_timestamp</td><td>1604703483</td></tr><tr><td>test_accuracy_score</td><td>0.91717</td></tr></table>"
            ],
            "text/plain": [
              "<IPython.core.display.HTML object>"
            ]
          },
          "metadata": {
            "tags": []
          }
        },
        {
          "output_type": "display_data",
          "data": {
            "text/html": [
              "<h3>Run history:</h3><br/><style>\n",
              "    table.wandb td:nth-child(1) { padding: 0 10px; text-align: right }\n",
              "    </style><table class=\"wandb\">\n",
              "<tr><td>val_accuracy_score</td><td>▁</td></tr><tr><td>_step</td><td>▁█</td></tr><tr><td>_runtime</td><td>▁▁</td></tr><tr><td>_timestamp</td><td>▁▁</td></tr><tr><td>test_accuracy_score</td><td>▁</td></tr></table><br/>"
            ],
            "text/plain": [
              "<IPython.core.display.HTML object>"
            ]
          },
          "metadata": {
            "tags": []
          }
        },
        {
          "output_type": "display_data",
          "data": {
            "text/html": [
              "Synced 4 W&B file(s), 0 media file(s), 0 artifact file(s) and 0 other file(s)"
            ],
            "text/plain": [
              "<IPython.core.display.HTML object>"
            ]
          },
          "metadata": {
            "tags": []
          }
        },
        {
          "output_type": "display_data",
          "data": {
            "text/html": [
              "\n",
              "                    <br/>Synced <strong style=\"color:#cdcd00\">SVM_sweep</strong>: <a href=\"https://wandb.ai/christian_vadillo/test/runs/x8w6z79v\" target=\"_blank\">https://wandb.ai/christian_vadillo/test/runs/x8w6z79v</a><br/>\n",
              "                "
            ],
            "text/plain": [
              "<IPython.core.display.HTML object>"
            ]
          },
          "metadata": {
            "tags": []
          }
        },
        {
          "output_type": "stream",
          "text": [
            "\u001b[34m\u001b[1mwandb\u001b[0m: Agent Starting Run: csv4j26v with config:\n",
            "\u001b[34m\u001b[1mwandb\u001b[0m: \tC: 5.674237622936674\n",
            "\u001b[34m\u001b[1mwandb\u001b[0m: \tgamma: 0.31428246088642525\n",
            "\u001b[34m\u001b[1mwandb\u001b[0m: \tkernel: rbf\n"
          ],
          "name": "stderr"
        },
        {
          "output_type": "display_data",
          "data": {
            "text/html": [
              "\n",
              "                Tracking run with wandb version 0.10.9<br/>\n",
              "                Syncing run <strong style=\"color:#cdcd00\">SVM_sweep</strong> to <a href=\"https://wandb.ai\" target=\"_blank\">Weights & Biases</a> <a href=\"https://docs.wandb.com/integrations/jupyter.html\" target=\"_blank\">(Documentation)</a>.<br/>\n",
              "                Project page: <a href=\"https://wandb.ai/christian_vadillo/test\" target=\"_blank\">https://wandb.ai/christian_vadillo/test</a><br/>\n",
              "                Sweep page: <a href=\"https://wandb.ai/christian_vadillo/test/sweeps/curi1gwo\" target=\"_blank\">https://wandb.ai/christian_vadillo/test/sweeps/curi1gwo</a><br/>\n",
              "Run page: <a href=\"https://wandb.ai/christian_vadillo/test/runs/csv4j26v\" target=\"_blank\">https://wandb.ai/christian_vadillo/test/runs/csv4j26v</a><br/>\n",
              "                Run data is saved locally in <code>/content/wandb/run-20201106_225808-csv4j26v</code><br/><br/>\n",
              "            "
            ],
            "text/plain": [
              "<IPython.core.display.HTML object>"
            ]
          },
          "metadata": {
            "tags": []
          }
        }
      ]
    },
    {
      "cell_type": "code",
      "metadata": {
        "id": "EHWfEV3HqaDc"
      },
      "source": [
        ""
      ],
      "execution_count": null,
      "outputs": []
    }
  ]
}
