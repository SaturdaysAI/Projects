{
  "nbformat": 4,
  "nbformat_minor": 0,
  "metadata": {
    "colab": {
      "name": "train_model_iteration_0.ipynb",
      "provenance": [],
      "authorship_tag": "ABX9TyNmwrQ15Gcujiq7cYTADl0N",
      "include_colab_link": true
    },
    "kernelspec": {
      "name": "python3",
      "display_name": "Python 3"
    },
    "widgets": {
      "application/vnd.jupyter.widget-state+json": {
        "7634256b2a034693ac630f5b6a7cda5c": {
          "model_module": "@jupyter-widgets/controls",
          "model_name": "VBoxModel",
          "state": {
            "_view_name": "VBoxView",
            "_dom_classes": [],
            "_model_name": "VBoxModel",
            "_view_module": "@jupyter-widgets/controls",
            "_model_module_version": "1.5.0",
            "_view_count": null,
            "_view_module_version": "1.5.0",
            "box_style": "",
            "layout": "IPY_MODEL_f3c75aa78f024f43be9baa9ed862f10e",
            "_model_module": "@jupyter-widgets/controls",
            "children": [
              "IPY_MODEL_a1e22ca370684c4aac003184660e449c",
              "IPY_MODEL_edb2af126cf14b708c1d4378ccb58e78"
            ]
          }
        },
        "f3c75aa78f024f43be9baa9ed862f10e": {
          "model_module": "@jupyter-widgets/base",
          "model_name": "LayoutModel",
          "state": {
            "_view_name": "LayoutView",
            "grid_template_rows": null,
            "right": null,
            "justify_content": null,
            "_view_module": "@jupyter-widgets/base",
            "overflow": null,
            "_model_module_version": "1.2.0",
            "_view_count": null,
            "flex_flow": null,
            "width": null,
            "min_width": null,
            "border": null,
            "align_items": null,
            "bottom": null,
            "_model_module": "@jupyter-widgets/base",
            "top": null,
            "grid_column": null,
            "overflow_y": null,
            "overflow_x": null,
            "grid_auto_flow": null,
            "grid_area": null,
            "grid_template_columns": null,
            "flex": null,
            "_model_name": "LayoutModel",
            "justify_items": null,
            "grid_row": null,
            "max_height": null,
            "align_content": null,
            "visibility": null,
            "align_self": null,
            "height": null,
            "min_height": null,
            "padding": null,
            "grid_auto_rows": null,
            "grid_gap": null,
            "max_width": null,
            "order": null,
            "_view_module_version": "1.2.0",
            "grid_template_areas": null,
            "object_position": null,
            "object_fit": null,
            "grid_auto_columns": null,
            "margin": null,
            "display": null,
            "left": null
          }
        },
        "a1e22ca370684c4aac003184660e449c": {
          "model_module": "@jupyter-widgets/controls",
          "model_name": "LabelModel",
          "state": {
            "_view_name": "LabelView",
            "style": "IPY_MODEL_f82ee856fb834196a03a04c6a1e669c4",
            "_dom_classes": [],
            "description": "",
            "_model_name": "LabelModel",
            "placeholder": "​",
            "_view_module": "@jupyter-widgets/controls",
            "_model_module_version": "1.5.0",
            "value": " 0.09MB of 0.09MB uploaded (0.00MB deduped)\r",
            "_view_count": null,
            "_view_module_version": "1.5.0",
            "description_tooltip": null,
            "_model_module": "@jupyter-widgets/controls",
            "layout": "IPY_MODEL_6e154ef1f72b49f6bc7cb8780c96e227"
          }
        },
        "edb2af126cf14b708c1d4378ccb58e78": {
          "model_module": "@jupyter-widgets/controls",
          "model_name": "FloatProgressModel",
          "state": {
            "_view_name": "ProgressView",
            "style": "IPY_MODEL_93ed1546539f40caacff795481840fb9",
            "_dom_classes": [],
            "description": "",
            "_model_name": "FloatProgressModel",
            "bar_style": "",
            "max": 1,
            "_view_module": "@jupyter-widgets/controls",
            "_model_module_version": "1.5.0",
            "value": 1,
            "_view_count": null,
            "_view_module_version": "1.5.0",
            "orientation": "horizontal",
            "min": 0,
            "description_tooltip": null,
            "_model_module": "@jupyter-widgets/controls",
            "layout": "IPY_MODEL_c03719969c2841d8a4039be52ed5533c"
          }
        },
        "f82ee856fb834196a03a04c6a1e669c4": {
          "model_module": "@jupyter-widgets/controls",
          "model_name": "DescriptionStyleModel",
          "state": {
            "_view_name": "StyleView",
            "_model_name": "DescriptionStyleModel",
            "description_width": "",
            "_view_module": "@jupyter-widgets/base",
            "_model_module_version": "1.5.0",
            "_view_count": null,
            "_view_module_version": "1.2.0",
            "_model_module": "@jupyter-widgets/controls"
          }
        },
        "6e154ef1f72b49f6bc7cb8780c96e227": {
          "model_module": "@jupyter-widgets/base",
          "model_name": "LayoutModel",
          "state": {
            "_view_name": "LayoutView",
            "grid_template_rows": null,
            "right": null,
            "justify_content": null,
            "_view_module": "@jupyter-widgets/base",
            "overflow": null,
            "_model_module_version": "1.2.0",
            "_view_count": null,
            "flex_flow": null,
            "width": null,
            "min_width": null,
            "border": null,
            "align_items": null,
            "bottom": null,
            "_model_module": "@jupyter-widgets/base",
            "top": null,
            "grid_column": null,
            "overflow_y": null,
            "overflow_x": null,
            "grid_auto_flow": null,
            "grid_area": null,
            "grid_template_columns": null,
            "flex": null,
            "_model_name": "LayoutModel",
            "justify_items": null,
            "grid_row": null,
            "max_height": null,
            "align_content": null,
            "visibility": null,
            "align_self": null,
            "height": null,
            "min_height": null,
            "padding": null,
            "grid_auto_rows": null,
            "grid_gap": null,
            "max_width": null,
            "order": null,
            "_view_module_version": "1.2.0",
            "grid_template_areas": null,
            "object_position": null,
            "object_fit": null,
            "grid_auto_columns": null,
            "margin": null,
            "display": null,
            "left": null
          }
        },
        "93ed1546539f40caacff795481840fb9": {
          "model_module": "@jupyter-widgets/controls",
          "model_name": "ProgressStyleModel",
          "state": {
            "_view_name": "StyleView",
            "_model_name": "ProgressStyleModel",
            "description_width": "",
            "_view_module": "@jupyter-widgets/base",
            "_model_module_version": "1.5.0",
            "_view_count": null,
            "_view_module_version": "1.2.0",
            "bar_color": null,
            "_model_module": "@jupyter-widgets/controls"
          }
        },
        "c03719969c2841d8a4039be52ed5533c": {
          "model_module": "@jupyter-widgets/base",
          "model_name": "LayoutModel",
          "state": {
            "_view_name": "LayoutView",
            "grid_template_rows": null,
            "right": null,
            "justify_content": null,
            "_view_module": "@jupyter-widgets/base",
            "overflow": null,
            "_model_module_version": "1.2.0",
            "_view_count": null,
            "flex_flow": null,
            "width": null,
            "min_width": null,
            "border": null,
            "align_items": null,
            "bottom": null,
            "_model_module": "@jupyter-widgets/base",
            "top": null,
            "grid_column": null,
            "overflow_y": null,
            "overflow_x": null,
            "grid_auto_flow": null,
            "grid_area": null,
            "grid_template_columns": null,
            "flex": null,
            "_model_name": "LayoutModel",
            "justify_items": null,
            "grid_row": null,
            "max_height": null,
            "align_content": null,
            "visibility": null,
            "align_self": null,
            "height": null,
            "min_height": null,
            "padding": null,
            "grid_auto_rows": null,
            "grid_gap": null,
            "max_width": null,
            "order": null,
            "_view_module_version": "1.2.0",
            "grid_template_areas": null,
            "object_position": null,
            "object_fit": null,
            "grid_auto_columns": null,
            "margin": null,
            "display": null,
            "left": null
          }
        },
        "547f7c5ef3d04d09b91bab950a99b508": {
          "model_module": "@jupyter-widgets/controls",
          "model_name": "VBoxModel",
          "state": {
            "_view_name": "VBoxView",
            "_dom_classes": [],
            "_model_name": "VBoxModel",
            "_view_module": "@jupyter-widgets/controls",
            "_model_module_version": "1.5.0",
            "_view_count": null,
            "_view_module_version": "1.5.0",
            "box_style": "",
            "layout": "IPY_MODEL_47f35c27b95d4573a69ff2ebeb3e523f",
            "_model_module": "@jupyter-widgets/controls",
            "children": [
              "IPY_MODEL_b3b367464b844ea9a637f1cdbf2736fa",
              "IPY_MODEL_7e3572b418c74ad2b3c4f3282f01e245"
            ]
          }
        },
        "47f35c27b95d4573a69ff2ebeb3e523f": {
          "model_module": "@jupyter-widgets/base",
          "model_name": "LayoutModel",
          "state": {
            "_view_name": "LayoutView",
            "grid_template_rows": null,
            "right": null,
            "justify_content": null,
            "_view_module": "@jupyter-widgets/base",
            "overflow": null,
            "_model_module_version": "1.2.0",
            "_view_count": null,
            "flex_flow": null,
            "width": null,
            "min_width": null,
            "border": null,
            "align_items": null,
            "bottom": null,
            "_model_module": "@jupyter-widgets/base",
            "top": null,
            "grid_column": null,
            "overflow_y": null,
            "overflow_x": null,
            "grid_auto_flow": null,
            "grid_area": null,
            "grid_template_columns": null,
            "flex": null,
            "_model_name": "LayoutModel",
            "justify_items": null,
            "grid_row": null,
            "max_height": null,
            "align_content": null,
            "visibility": null,
            "align_self": null,
            "height": null,
            "min_height": null,
            "padding": null,
            "grid_auto_rows": null,
            "grid_gap": null,
            "max_width": null,
            "order": null,
            "_view_module_version": "1.2.0",
            "grid_template_areas": null,
            "object_position": null,
            "object_fit": null,
            "grid_auto_columns": null,
            "margin": null,
            "display": null,
            "left": null
          }
        },
        "b3b367464b844ea9a637f1cdbf2736fa": {
          "model_module": "@jupyter-widgets/controls",
          "model_name": "LabelModel",
          "state": {
            "_view_name": "LabelView",
            "style": "IPY_MODEL_ba9940b3a56e40b28fdb29449f1e087e",
            "_dom_classes": [],
            "description": "",
            "_model_name": "LabelModel",
            "placeholder": "​",
            "_view_module": "@jupyter-widgets/controls",
            "_model_module_version": "1.5.0",
            "value": " 0.09MB of 0.09MB uploaded (0.00MB deduped)\r",
            "_view_count": null,
            "_view_module_version": "1.5.0",
            "description_tooltip": null,
            "_model_module": "@jupyter-widgets/controls",
            "layout": "IPY_MODEL_29fccaafe90d4d1b862aecd2b51ab6bb"
          }
        },
        "7e3572b418c74ad2b3c4f3282f01e245": {
          "model_module": "@jupyter-widgets/controls",
          "model_name": "FloatProgressModel",
          "state": {
            "_view_name": "ProgressView",
            "style": "IPY_MODEL_fee7fc300adf48b5ab08c0305e64e825",
            "_dom_classes": [],
            "description": "",
            "_model_name": "FloatProgressModel",
            "bar_style": "",
            "max": 1,
            "_view_module": "@jupyter-widgets/controls",
            "_model_module_version": "1.5.0",
            "value": 1,
            "_view_count": null,
            "_view_module_version": "1.5.0",
            "orientation": "horizontal",
            "min": 0,
            "description_tooltip": null,
            "_model_module": "@jupyter-widgets/controls",
            "layout": "IPY_MODEL_07ac11ce36ba4307bf73eb73f1f641d8"
          }
        },
        "ba9940b3a56e40b28fdb29449f1e087e": {
          "model_module": "@jupyter-widgets/controls",
          "model_name": "DescriptionStyleModel",
          "state": {
            "_view_name": "StyleView",
            "_model_name": "DescriptionStyleModel",
            "description_width": "",
            "_view_module": "@jupyter-widgets/base",
            "_model_module_version": "1.5.0",
            "_view_count": null,
            "_view_module_version": "1.2.0",
            "_model_module": "@jupyter-widgets/controls"
          }
        },
        "29fccaafe90d4d1b862aecd2b51ab6bb": {
          "model_module": "@jupyter-widgets/base",
          "model_name": "LayoutModel",
          "state": {
            "_view_name": "LayoutView",
            "grid_template_rows": null,
            "right": null,
            "justify_content": null,
            "_view_module": "@jupyter-widgets/base",
            "overflow": null,
            "_model_module_version": "1.2.0",
            "_view_count": null,
            "flex_flow": null,
            "width": null,
            "min_width": null,
            "border": null,
            "align_items": null,
            "bottom": null,
            "_model_module": "@jupyter-widgets/base",
            "top": null,
            "grid_column": null,
            "overflow_y": null,
            "overflow_x": null,
            "grid_auto_flow": null,
            "grid_area": null,
            "grid_template_columns": null,
            "flex": null,
            "_model_name": "LayoutModel",
            "justify_items": null,
            "grid_row": null,
            "max_height": null,
            "align_content": null,
            "visibility": null,
            "align_self": null,
            "height": null,
            "min_height": null,
            "padding": null,
            "grid_auto_rows": null,
            "grid_gap": null,
            "max_width": null,
            "order": null,
            "_view_module_version": "1.2.0",
            "grid_template_areas": null,
            "object_position": null,
            "object_fit": null,
            "grid_auto_columns": null,
            "margin": null,
            "display": null,
            "left": null
          }
        },
        "fee7fc300adf48b5ab08c0305e64e825": {
          "model_module": "@jupyter-widgets/controls",
          "model_name": "ProgressStyleModel",
          "state": {
            "_view_name": "StyleView",
            "_model_name": "ProgressStyleModel",
            "description_width": "",
            "_view_module": "@jupyter-widgets/base",
            "_model_module_version": "1.5.0",
            "_view_count": null,
            "_view_module_version": "1.2.0",
            "bar_color": null,
            "_model_module": "@jupyter-widgets/controls"
          }
        },
        "07ac11ce36ba4307bf73eb73f1f641d8": {
          "model_module": "@jupyter-widgets/base",
          "model_name": "LayoutModel",
          "state": {
            "_view_name": "LayoutView",
            "grid_template_rows": null,
            "right": null,
            "justify_content": null,
            "_view_module": "@jupyter-widgets/base",
            "overflow": null,
            "_model_module_version": "1.2.0",
            "_view_count": null,
            "flex_flow": null,
            "width": null,
            "min_width": null,
            "border": null,
            "align_items": null,
            "bottom": null,
            "_model_module": "@jupyter-widgets/base",
            "top": null,
            "grid_column": null,
            "overflow_y": null,
            "overflow_x": null,
            "grid_auto_flow": null,
            "grid_area": null,
            "grid_template_columns": null,
            "flex": null,
            "_model_name": "LayoutModel",
            "justify_items": null,
            "grid_row": null,
            "max_height": null,
            "align_content": null,
            "visibility": null,
            "align_self": null,
            "height": null,
            "min_height": null,
            "padding": null,
            "grid_auto_rows": null,
            "grid_gap": null,
            "max_width": null,
            "order": null,
            "_view_module_version": "1.2.0",
            "grid_template_areas": null,
            "object_position": null,
            "object_fit": null,
            "grid_auto_columns": null,
            "margin": null,
            "display": null,
            "left": null
          }
        },
        "4e10919235c94549935bf35269b63f44": {
          "model_module": "@jupyter-widgets/controls",
          "model_name": "VBoxModel",
          "state": {
            "_view_name": "VBoxView",
            "_dom_classes": [],
            "_model_name": "VBoxModel",
            "_view_module": "@jupyter-widgets/controls",
            "_model_module_version": "1.5.0",
            "_view_count": null,
            "_view_module_version": "1.5.0",
            "box_style": "",
            "layout": "IPY_MODEL_43a6b9302eb04dcf849e77ada6f5f0b7",
            "_model_module": "@jupyter-widgets/controls",
            "children": [
              "IPY_MODEL_aa81db29230145fdbed561aab91f3ab8",
              "IPY_MODEL_36da5f7bd3684dee8253a8f3a3853d4f"
            ]
          }
        },
        "43a6b9302eb04dcf849e77ada6f5f0b7": {
          "model_module": "@jupyter-widgets/base",
          "model_name": "LayoutModel",
          "state": {
            "_view_name": "LayoutView",
            "grid_template_rows": null,
            "right": null,
            "justify_content": null,
            "_view_module": "@jupyter-widgets/base",
            "overflow": null,
            "_model_module_version": "1.2.0",
            "_view_count": null,
            "flex_flow": null,
            "width": null,
            "min_width": null,
            "border": null,
            "align_items": null,
            "bottom": null,
            "_model_module": "@jupyter-widgets/base",
            "top": null,
            "grid_column": null,
            "overflow_y": null,
            "overflow_x": null,
            "grid_auto_flow": null,
            "grid_area": null,
            "grid_template_columns": null,
            "flex": null,
            "_model_name": "LayoutModel",
            "justify_items": null,
            "grid_row": null,
            "max_height": null,
            "align_content": null,
            "visibility": null,
            "align_self": null,
            "height": null,
            "min_height": null,
            "padding": null,
            "grid_auto_rows": null,
            "grid_gap": null,
            "max_width": null,
            "order": null,
            "_view_module_version": "1.2.0",
            "grid_template_areas": null,
            "object_position": null,
            "object_fit": null,
            "grid_auto_columns": null,
            "margin": null,
            "display": null,
            "left": null
          }
        },
        "aa81db29230145fdbed561aab91f3ab8": {
          "model_module": "@jupyter-widgets/controls",
          "model_name": "LabelModel",
          "state": {
            "_view_name": "LabelView",
            "style": "IPY_MODEL_b8f07f0b3d8145238807bd83c8247335",
            "_dom_classes": [],
            "description": "",
            "_model_name": "LabelModel",
            "placeholder": "​",
            "_view_module": "@jupyter-widgets/controls",
            "_model_module_version": "1.5.0",
            "value": " 0.09MB of 0.09MB uploaded (0.00MB deduped)\r",
            "_view_count": null,
            "_view_module_version": "1.5.0",
            "description_tooltip": null,
            "_model_module": "@jupyter-widgets/controls",
            "layout": "IPY_MODEL_5df5bf5f4e74486cb4bef01a3c75a68a"
          }
        },
        "36da5f7bd3684dee8253a8f3a3853d4f": {
          "model_module": "@jupyter-widgets/controls",
          "model_name": "FloatProgressModel",
          "state": {
            "_view_name": "ProgressView",
            "style": "IPY_MODEL_49421f24e8c6444fac198258287d7b00",
            "_dom_classes": [],
            "description": "",
            "_model_name": "FloatProgressModel",
            "bar_style": "",
            "max": 1,
            "_view_module": "@jupyter-widgets/controls",
            "_model_module_version": "1.5.0",
            "value": 1,
            "_view_count": null,
            "_view_module_version": "1.5.0",
            "orientation": "horizontal",
            "min": 0,
            "description_tooltip": null,
            "_model_module": "@jupyter-widgets/controls",
            "layout": "IPY_MODEL_aa6205bb7237414fbabd48473e060ab8"
          }
        },
        "b8f07f0b3d8145238807bd83c8247335": {
          "model_module": "@jupyter-widgets/controls",
          "model_name": "DescriptionStyleModel",
          "state": {
            "_view_name": "StyleView",
            "_model_name": "DescriptionStyleModel",
            "description_width": "",
            "_view_module": "@jupyter-widgets/base",
            "_model_module_version": "1.5.0",
            "_view_count": null,
            "_view_module_version": "1.2.0",
            "_model_module": "@jupyter-widgets/controls"
          }
        },
        "5df5bf5f4e74486cb4bef01a3c75a68a": {
          "model_module": "@jupyter-widgets/base",
          "model_name": "LayoutModel",
          "state": {
            "_view_name": "LayoutView",
            "grid_template_rows": null,
            "right": null,
            "justify_content": null,
            "_view_module": "@jupyter-widgets/base",
            "overflow": null,
            "_model_module_version": "1.2.0",
            "_view_count": null,
            "flex_flow": null,
            "width": null,
            "min_width": null,
            "border": null,
            "align_items": null,
            "bottom": null,
            "_model_module": "@jupyter-widgets/base",
            "top": null,
            "grid_column": null,
            "overflow_y": null,
            "overflow_x": null,
            "grid_auto_flow": null,
            "grid_area": null,
            "grid_template_columns": null,
            "flex": null,
            "_model_name": "LayoutModel",
            "justify_items": null,
            "grid_row": null,
            "max_height": null,
            "align_content": null,
            "visibility": null,
            "align_self": null,
            "height": null,
            "min_height": null,
            "padding": null,
            "grid_auto_rows": null,
            "grid_gap": null,
            "max_width": null,
            "order": null,
            "_view_module_version": "1.2.0",
            "grid_template_areas": null,
            "object_position": null,
            "object_fit": null,
            "grid_auto_columns": null,
            "margin": null,
            "display": null,
            "left": null
          }
        },
        "49421f24e8c6444fac198258287d7b00": {
          "model_module": "@jupyter-widgets/controls",
          "model_name": "ProgressStyleModel",
          "state": {
            "_view_name": "StyleView",
            "_model_name": "ProgressStyleModel",
            "description_width": "",
            "_view_module": "@jupyter-widgets/base",
            "_model_module_version": "1.5.0",
            "_view_count": null,
            "_view_module_version": "1.2.0",
            "bar_color": null,
            "_model_module": "@jupyter-widgets/controls"
          }
        },
        "aa6205bb7237414fbabd48473e060ab8": {
          "model_module": "@jupyter-widgets/base",
          "model_name": "LayoutModel",
          "state": {
            "_view_name": "LayoutView",
            "grid_template_rows": null,
            "right": null,
            "justify_content": null,
            "_view_module": "@jupyter-widgets/base",
            "overflow": null,
            "_model_module_version": "1.2.0",
            "_view_count": null,
            "flex_flow": null,
            "width": null,
            "min_width": null,
            "border": null,
            "align_items": null,
            "bottom": null,
            "_model_module": "@jupyter-widgets/base",
            "top": null,
            "grid_column": null,
            "overflow_y": null,
            "overflow_x": null,
            "grid_auto_flow": null,
            "grid_area": null,
            "grid_template_columns": null,
            "flex": null,
            "_model_name": "LayoutModel",
            "justify_items": null,
            "grid_row": null,
            "max_height": null,
            "align_content": null,
            "visibility": null,
            "align_self": null,
            "height": null,
            "min_height": null,
            "padding": null,
            "grid_auto_rows": null,
            "grid_gap": null,
            "max_width": null,
            "order": null,
            "_view_module_version": "1.2.0",
            "grid_template_areas": null,
            "object_position": null,
            "object_fit": null,
            "grid_auto_columns": null,
            "margin": null,
            "display": null,
            "left": null
          }
        },
        "1d0e4ffbfc714a309f89f20f3e133b0e": {
          "model_module": "@jupyter-widgets/controls",
          "model_name": "VBoxModel",
          "state": {
            "_view_name": "VBoxView",
            "_dom_classes": [],
            "_model_name": "VBoxModel",
            "_view_module": "@jupyter-widgets/controls",
            "_model_module_version": "1.5.0",
            "_view_count": null,
            "_view_module_version": "1.5.0",
            "box_style": "",
            "layout": "IPY_MODEL_d3265e8b500348d18453ae7c4468088d",
            "_model_module": "@jupyter-widgets/controls",
            "children": [
              "IPY_MODEL_3e3d4d6797e247928537402f14ec4f59",
              "IPY_MODEL_03e8fdab1e124e908e2d4b819fca17b4"
            ]
          }
        },
        "d3265e8b500348d18453ae7c4468088d": {
          "model_module": "@jupyter-widgets/base",
          "model_name": "LayoutModel",
          "state": {
            "_view_name": "LayoutView",
            "grid_template_rows": null,
            "right": null,
            "justify_content": null,
            "_view_module": "@jupyter-widgets/base",
            "overflow": null,
            "_model_module_version": "1.2.0",
            "_view_count": null,
            "flex_flow": null,
            "width": null,
            "min_width": null,
            "border": null,
            "align_items": null,
            "bottom": null,
            "_model_module": "@jupyter-widgets/base",
            "top": null,
            "grid_column": null,
            "overflow_y": null,
            "overflow_x": null,
            "grid_auto_flow": null,
            "grid_area": null,
            "grid_template_columns": null,
            "flex": null,
            "_model_name": "LayoutModel",
            "justify_items": null,
            "grid_row": null,
            "max_height": null,
            "align_content": null,
            "visibility": null,
            "align_self": null,
            "height": null,
            "min_height": null,
            "padding": null,
            "grid_auto_rows": null,
            "grid_gap": null,
            "max_width": null,
            "order": null,
            "_view_module_version": "1.2.0",
            "grid_template_areas": null,
            "object_position": null,
            "object_fit": null,
            "grid_auto_columns": null,
            "margin": null,
            "display": null,
            "left": null
          }
        },
        "3e3d4d6797e247928537402f14ec4f59": {
          "model_module": "@jupyter-widgets/controls",
          "model_name": "LabelModel",
          "state": {
            "_view_name": "LabelView",
            "style": "IPY_MODEL_075598f5793447f1a62dae34c9aeb65a",
            "_dom_classes": [],
            "description": "",
            "_model_name": "LabelModel",
            "placeholder": "​",
            "_view_module": "@jupyter-widgets/controls",
            "_model_module_version": "1.5.0",
            "value": " 0.09MB of 0.09MB uploaded (0.00MB deduped)\r",
            "_view_count": null,
            "_view_module_version": "1.5.0",
            "description_tooltip": null,
            "_model_module": "@jupyter-widgets/controls",
            "layout": "IPY_MODEL_07a6563384184b38b7f09796f10216b3"
          }
        },
        "03e8fdab1e124e908e2d4b819fca17b4": {
          "model_module": "@jupyter-widgets/controls",
          "model_name": "FloatProgressModel",
          "state": {
            "_view_name": "ProgressView",
            "style": "IPY_MODEL_97f99162ca5e474b87885d13fbdf8c1c",
            "_dom_classes": [],
            "description": "",
            "_model_name": "FloatProgressModel",
            "bar_style": "",
            "max": 1,
            "_view_module": "@jupyter-widgets/controls",
            "_model_module_version": "1.5.0",
            "value": 1,
            "_view_count": null,
            "_view_module_version": "1.5.0",
            "orientation": "horizontal",
            "min": 0,
            "description_tooltip": null,
            "_model_module": "@jupyter-widgets/controls",
            "layout": "IPY_MODEL_7468bfba24a24f7fb6ef24f37d3f01c3"
          }
        },
        "075598f5793447f1a62dae34c9aeb65a": {
          "model_module": "@jupyter-widgets/controls",
          "model_name": "DescriptionStyleModel",
          "state": {
            "_view_name": "StyleView",
            "_model_name": "DescriptionStyleModel",
            "description_width": "",
            "_view_module": "@jupyter-widgets/base",
            "_model_module_version": "1.5.0",
            "_view_count": null,
            "_view_module_version": "1.2.0",
            "_model_module": "@jupyter-widgets/controls"
          }
        },
        "07a6563384184b38b7f09796f10216b3": {
          "model_module": "@jupyter-widgets/base",
          "model_name": "LayoutModel",
          "state": {
            "_view_name": "LayoutView",
            "grid_template_rows": null,
            "right": null,
            "justify_content": null,
            "_view_module": "@jupyter-widgets/base",
            "overflow": null,
            "_model_module_version": "1.2.0",
            "_view_count": null,
            "flex_flow": null,
            "width": null,
            "min_width": null,
            "border": null,
            "align_items": null,
            "bottom": null,
            "_model_module": "@jupyter-widgets/base",
            "top": null,
            "grid_column": null,
            "overflow_y": null,
            "overflow_x": null,
            "grid_auto_flow": null,
            "grid_area": null,
            "grid_template_columns": null,
            "flex": null,
            "_model_name": "LayoutModel",
            "justify_items": null,
            "grid_row": null,
            "max_height": null,
            "align_content": null,
            "visibility": null,
            "align_self": null,
            "height": null,
            "min_height": null,
            "padding": null,
            "grid_auto_rows": null,
            "grid_gap": null,
            "max_width": null,
            "order": null,
            "_view_module_version": "1.2.0",
            "grid_template_areas": null,
            "object_position": null,
            "object_fit": null,
            "grid_auto_columns": null,
            "margin": null,
            "display": null,
            "left": null
          }
        },
        "97f99162ca5e474b87885d13fbdf8c1c": {
          "model_module": "@jupyter-widgets/controls",
          "model_name": "ProgressStyleModel",
          "state": {
            "_view_name": "StyleView",
            "_model_name": "ProgressStyleModel",
            "description_width": "",
            "_view_module": "@jupyter-widgets/base",
            "_model_module_version": "1.5.0",
            "_view_count": null,
            "_view_module_version": "1.2.0",
            "bar_color": null,
            "_model_module": "@jupyter-widgets/controls"
          }
        },
        "7468bfba24a24f7fb6ef24f37d3f01c3": {
          "model_module": "@jupyter-widgets/base",
          "model_name": "LayoutModel",
          "state": {
            "_view_name": "LayoutView",
            "grid_template_rows": null,
            "right": null,
            "justify_content": null,
            "_view_module": "@jupyter-widgets/base",
            "overflow": null,
            "_model_module_version": "1.2.0",
            "_view_count": null,
            "flex_flow": null,
            "width": null,
            "min_width": null,
            "border": null,
            "align_items": null,
            "bottom": null,
            "_model_module": "@jupyter-widgets/base",
            "top": null,
            "grid_column": null,
            "overflow_y": null,
            "overflow_x": null,
            "grid_auto_flow": null,
            "grid_area": null,
            "grid_template_columns": null,
            "flex": null,
            "_model_name": "LayoutModel",
            "justify_items": null,
            "grid_row": null,
            "max_height": null,
            "align_content": null,
            "visibility": null,
            "align_self": null,
            "height": null,
            "min_height": null,
            "padding": null,
            "grid_auto_rows": null,
            "grid_gap": null,
            "max_width": null,
            "order": null,
            "_view_module_version": "1.2.0",
            "grid_template_areas": null,
            "object_position": null,
            "object_fit": null,
            "grid_auto_columns": null,
            "margin": null,
            "display": null,
            "left": null
          }
        },
        "8be4a38e57df4afc8999eb9a82b5d9fa": {
          "model_module": "@jupyter-widgets/controls",
          "model_name": "VBoxModel",
          "state": {
            "_view_name": "VBoxView",
            "_dom_classes": [],
            "_model_name": "VBoxModel",
            "_view_module": "@jupyter-widgets/controls",
            "_model_module_version": "1.5.0",
            "_view_count": null,
            "_view_module_version": "1.5.0",
            "box_style": "",
            "layout": "IPY_MODEL_538346b5ef4449e19b21acce05b6e2ad",
            "_model_module": "@jupyter-widgets/controls",
            "children": [
              "IPY_MODEL_db5f9584cbbb443ca9e727e00b1919f1",
              "IPY_MODEL_af8f15dd05f94c8cb748bb0d7d33541d"
            ]
          }
        },
        "538346b5ef4449e19b21acce05b6e2ad": {
          "model_module": "@jupyter-widgets/base",
          "model_name": "LayoutModel",
          "state": {
            "_view_name": "LayoutView",
            "grid_template_rows": null,
            "right": null,
            "justify_content": null,
            "_view_module": "@jupyter-widgets/base",
            "overflow": null,
            "_model_module_version": "1.2.0",
            "_view_count": null,
            "flex_flow": null,
            "width": null,
            "min_width": null,
            "border": null,
            "align_items": null,
            "bottom": null,
            "_model_module": "@jupyter-widgets/base",
            "top": null,
            "grid_column": null,
            "overflow_y": null,
            "overflow_x": null,
            "grid_auto_flow": null,
            "grid_area": null,
            "grid_template_columns": null,
            "flex": null,
            "_model_name": "LayoutModel",
            "justify_items": null,
            "grid_row": null,
            "max_height": null,
            "align_content": null,
            "visibility": null,
            "align_self": null,
            "height": null,
            "min_height": null,
            "padding": null,
            "grid_auto_rows": null,
            "grid_gap": null,
            "max_width": null,
            "order": null,
            "_view_module_version": "1.2.0",
            "grid_template_areas": null,
            "object_position": null,
            "object_fit": null,
            "grid_auto_columns": null,
            "margin": null,
            "display": null,
            "left": null
          }
        },
        "db5f9584cbbb443ca9e727e00b1919f1": {
          "model_module": "@jupyter-widgets/controls",
          "model_name": "LabelModel",
          "state": {
            "_view_name": "LabelView",
            "style": "IPY_MODEL_8790782890c14f4c8177aaec836d293d",
            "_dom_classes": [],
            "description": "",
            "_model_name": "LabelModel",
            "placeholder": "​",
            "_view_module": "@jupyter-widgets/controls",
            "_model_module_version": "1.5.0",
            "value": " 0.09MB of 0.09MB uploaded (0.00MB deduped)\r",
            "_view_count": null,
            "_view_module_version": "1.5.0",
            "description_tooltip": null,
            "_model_module": "@jupyter-widgets/controls",
            "layout": "IPY_MODEL_1bd7cd18e0ee486b84885d4c669e52d4"
          }
        },
        "af8f15dd05f94c8cb748bb0d7d33541d": {
          "model_module": "@jupyter-widgets/controls",
          "model_name": "FloatProgressModel",
          "state": {
            "_view_name": "ProgressView",
            "style": "IPY_MODEL_2d24feca94d04b9c94ca700e94c9ec05",
            "_dom_classes": [],
            "description": "",
            "_model_name": "FloatProgressModel",
            "bar_style": "",
            "max": 1,
            "_view_module": "@jupyter-widgets/controls",
            "_model_module_version": "1.5.0",
            "value": 1,
            "_view_count": null,
            "_view_module_version": "1.5.0",
            "orientation": "horizontal",
            "min": 0,
            "description_tooltip": null,
            "_model_module": "@jupyter-widgets/controls",
            "layout": "IPY_MODEL_19545eda16bd44aaa26ef8fbd3af4d68"
          }
        },
        "8790782890c14f4c8177aaec836d293d": {
          "model_module": "@jupyter-widgets/controls",
          "model_name": "DescriptionStyleModel",
          "state": {
            "_view_name": "StyleView",
            "_model_name": "DescriptionStyleModel",
            "description_width": "",
            "_view_module": "@jupyter-widgets/base",
            "_model_module_version": "1.5.0",
            "_view_count": null,
            "_view_module_version": "1.2.0",
            "_model_module": "@jupyter-widgets/controls"
          }
        },
        "1bd7cd18e0ee486b84885d4c669e52d4": {
          "model_module": "@jupyter-widgets/base",
          "model_name": "LayoutModel",
          "state": {
            "_view_name": "LayoutView",
            "grid_template_rows": null,
            "right": null,
            "justify_content": null,
            "_view_module": "@jupyter-widgets/base",
            "overflow": null,
            "_model_module_version": "1.2.0",
            "_view_count": null,
            "flex_flow": null,
            "width": null,
            "min_width": null,
            "border": null,
            "align_items": null,
            "bottom": null,
            "_model_module": "@jupyter-widgets/base",
            "top": null,
            "grid_column": null,
            "overflow_y": null,
            "overflow_x": null,
            "grid_auto_flow": null,
            "grid_area": null,
            "grid_template_columns": null,
            "flex": null,
            "_model_name": "LayoutModel",
            "justify_items": null,
            "grid_row": null,
            "max_height": null,
            "align_content": null,
            "visibility": null,
            "align_self": null,
            "height": null,
            "min_height": null,
            "padding": null,
            "grid_auto_rows": null,
            "grid_gap": null,
            "max_width": null,
            "order": null,
            "_view_module_version": "1.2.0",
            "grid_template_areas": null,
            "object_position": null,
            "object_fit": null,
            "grid_auto_columns": null,
            "margin": null,
            "display": null,
            "left": null
          }
        },
        "2d24feca94d04b9c94ca700e94c9ec05": {
          "model_module": "@jupyter-widgets/controls",
          "model_name": "ProgressStyleModel",
          "state": {
            "_view_name": "StyleView",
            "_model_name": "ProgressStyleModel",
            "description_width": "",
            "_view_module": "@jupyter-widgets/base",
            "_model_module_version": "1.5.0",
            "_view_count": null,
            "_view_module_version": "1.2.0",
            "bar_color": null,
            "_model_module": "@jupyter-widgets/controls"
          }
        },
        "19545eda16bd44aaa26ef8fbd3af4d68": {
          "model_module": "@jupyter-widgets/base",
          "model_name": "LayoutModel",
          "state": {
            "_view_name": "LayoutView",
            "grid_template_rows": null,
            "right": null,
            "justify_content": null,
            "_view_module": "@jupyter-widgets/base",
            "overflow": null,
            "_model_module_version": "1.2.0",
            "_view_count": null,
            "flex_flow": null,
            "width": null,
            "min_width": null,
            "border": null,
            "align_items": null,
            "bottom": null,
            "_model_module": "@jupyter-widgets/base",
            "top": null,
            "grid_column": null,
            "overflow_y": null,
            "overflow_x": null,
            "grid_auto_flow": null,
            "grid_area": null,
            "grid_template_columns": null,
            "flex": null,
            "_model_name": "LayoutModel",
            "justify_items": null,
            "grid_row": null,
            "max_height": null,
            "align_content": null,
            "visibility": null,
            "align_self": null,
            "height": null,
            "min_height": null,
            "padding": null,
            "grid_auto_rows": null,
            "grid_gap": null,
            "max_width": null,
            "order": null,
            "_view_module_version": "1.2.0",
            "grid_template_areas": null,
            "object_position": null,
            "object_fit": null,
            "grid_auto_columns": null,
            "margin": null,
            "display": null,
            "left": null
          }
        },
        "c5647de56e414415b876d7d3a6aada46": {
          "model_module": "@jupyter-widgets/controls",
          "model_name": "VBoxModel",
          "state": {
            "_view_name": "VBoxView",
            "_dom_classes": [],
            "_model_name": "VBoxModel",
            "_view_module": "@jupyter-widgets/controls",
            "_model_module_version": "1.5.0",
            "_view_count": null,
            "_view_module_version": "1.5.0",
            "box_style": "",
            "layout": "IPY_MODEL_87860f1c74cd4bbe95620f443d130ee3",
            "_model_module": "@jupyter-widgets/controls",
            "children": [
              "IPY_MODEL_0143e3eb4f0748c89f215f7e8a7876e6",
              "IPY_MODEL_acb948b084f54e11af49a612a8cb6203"
            ]
          }
        },
        "87860f1c74cd4bbe95620f443d130ee3": {
          "model_module": "@jupyter-widgets/base",
          "model_name": "LayoutModel",
          "state": {
            "_view_name": "LayoutView",
            "grid_template_rows": null,
            "right": null,
            "justify_content": null,
            "_view_module": "@jupyter-widgets/base",
            "overflow": null,
            "_model_module_version": "1.2.0",
            "_view_count": null,
            "flex_flow": null,
            "width": null,
            "min_width": null,
            "border": null,
            "align_items": null,
            "bottom": null,
            "_model_module": "@jupyter-widgets/base",
            "top": null,
            "grid_column": null,
            "overflow_y": null,
            "overflow_x": null,
            "grid_auto_flow": null,
            "grid_area": null,
            "grid_template_columns": null,
            "flex": null,
            "_model_name": "LayoutModel",
            "justify_items": null,
            "grid_row": null,
            "max_height": null,
            "align_content": null,
            "visibility": null,
            "align_self": null,
            "height": null,
            "min_height": null,
            "padding": null,
            "grid_auto_rows": null,
            "grid_gap": null,
            "max_width": null,
            "order": null,
            "_view_module_version": "1.2.0",
            "grid_template_areas": null,
            "object_position": null,
            "object_fit": null,
            "grid_auto_columns": null,
            "margin": null,
            "display": null,
            "left": null
          }
        },
        "0143e3eb4f0748c89f215f7e8a7876e6": {
          "model_module": "@jupyter-widgets/controls",
          "model_name": "LabelModel",
          "state": {
            "_view_name": "LabelView",
            "style": "IPY_MODEL_ddbf2149a2d5443a8e7aa370d2795c85",
            "_dom_classes": [],
            "description": "",
            "_model_name": "LabelModel",
            "placeholder": "​",
            "_view_module": "@jupyter-widgets/controls",
            "_model_module_version": "1.5.0",
            "value": " 0.09MB of 0.09MB uploaded (0.00MB deduped)\r",
            "_view_count": null,
            "_view_module_version": "1.5.0",
            "description_tooltip": null,
            "_model_module": "@jupyter-widgets/controls",
            "layout": "IPY_MODEL_c2da6afe853a4d2cbc7805b95e4474f9"
          }
        },
        "acb948b084f54e11af49a612a8cb6203": {
          "model_module": "@jupyter-widgets/controls",
          "model_name": "FloatProgressModel",
          "state": {
            "_view_name": "ProgressView",
            "style": "IPY_MODEL_34f0ad4868a547d9ae5966c4b5205591",
            "_dom_classes": [],
            "description": "",
            "_model_name": "FloatProgressModel",
            "bar_style": "",
            "max": 1,
            "_view_module": "@jupyter-widgets/controls",
            "_model_module_version": "1.5.0",
            "value": 1,
            "_view_count": null,
            "_view_module_version": "1.5.0",
            "orientation": "horizontal",
            "min": 0,
            "description_tooltip": null,
            "_model_module": "@jupyter-widgets/controls",
            "layout": "IPY_MODEL_4081b0133d3644209b80ba90d1cf3a54"
          }
        },
        "ddbf2149a2d5443a8e7aa370d2795c85": {
          "model_module": "@jupyter-widgets/controls",
          "model_name": "DescriptionStyleModel",
          "state": {
            "_view_name": "StyleView",
            "_model_name": "DescriptionStyleModel",
            "description_width": "",
            "_view_module": "@jupyter-widgets/base",
            "_model_module_version": "1.5.0",
            "_view_count": null,
            "_view_module_version": "1.2.0",
            "_model_module": "@jupyter-widgets/controls"
          }
        },
        "c2da6afe853a4d2cbc7805b95e4474f9": {
          "model_module": "@jupyter-widgets/base",
          "model_name": "LayoutModel",
          "state": {
            "_view_name": "LayoutView",
            "grid_template_rows": null,
            "right": null,
            "justify_content": null,
            "_view_module": "@jupyter-widgets/base",
            "overflow": null,
            "_model_module_version": "1.2.0",
            "_view_count": null,
            "flex_flow": null,
            "width": null,
            "min_width": null,
            "border": null,
            "align_items": null,
            "bottom": null,
            "_model_module": "@jupyter-widgets/base",
            "top": null,
            "grid_column": null,
            "overflow_y": null,
            "overflow_x": null,
            "grid_auto_flow": null,
            "grid_area": null,
            "grid_template_columns": null,
            "flex": null,
            "_model_name": "LayoutModel",
            "justify_items": null,
            "grid_row": null,
            "max_height": null,
            "align_content": null,
            "visibility": null,
            "align_self": null,
            "height": null,
            "min_height": null,
            "padding": null,
            "grid_auto_rows": null,
            "grid_gap": null,
            "max_width": null,
            "order": null,
            "_view_module_version": "1.2.0",
            "grid_template_areas": null,
            "object_position": null,
            "object_fit": null,
            "grid_auto_columns": null,
            "margin": null,
            "display": null,
            "left": null
          }
        },
        "34f0ad4868a547d9ae5966c4b5205591": {
          "model_module": "@jupyter-widgets/controls",
          "model_name": "ProgressStyleModel",
          "state": {
            "_view_name": "StyleView",
            "_model_name": "ProgressStyleModel",
            "description_width": "",
            "_view_module": "@jupyter-widgets/base",
            "_model_module_version": "1.5.0",
            "_view_count": null,
            "_view_module_version": "1.2.0",
            "bar_color": null,
            "_model_module": "@jupyter-widgets/controls"
          }
        },
        "4081b0133d3644209b80ba90d1cf3a54": {
          "model_module": "@jupyter-widgets/base",
          "model_name": "LayoutModel",
          "state": {
            "_view_name": "LayoutView",
            "grid_template_rows": null,
            "right": null,
            "justify_content": null,
            "_view_module": "@jupyter-widgets/base",
            "overflow": null,
            "_model_module_version": "1.2.0",
            "_view_count": null,
            "flex_flow": null,
            "width": null,
            "min_width": null,
            "border": null,
            "align_items": null,
            "bottom": null,
            "_model_module": "@jupyter-widgets/base",
            "top": null,
            "grid_column": null,
            "overflow_y": null,
            "overflow_x": null,
            "grid_auto_flow": null,
            "grid_area": null,
            "grid_template_columns": null,
            "flex": null,
            "_model_name": "LayoutModel",
            "justify_items": null,
            "grid_row": null,
            "max_height": null,
            "align_content": null,
            "visibility": null,
            "align_self": null,
            "height": null,
            "min_height": null,
            "padding": null,
            "grid_auto_rows": null,
            "grid_gap": null,
            "max_width": null,
            "order": null,
            "_view_module_version": "1.2.0",
            "grid_template_areas": null,
            "object_position": null,
            "object_fit": null,
            "grid_auto_columns": null,
            "margin": null,
            "display": null,
            "left": null
          }
        },
        "d81fcc0d3fc8401e969b2a0a2f4f940e": {
          "model_module": "@jupyter-widgets/controls",
          "model_name": "VBoxModel",
          "state": {
            "_view_name": "VBoxView",
            "_dom_classes": [],
            "_model_name": "VBoxModel",
            "_view_module": "@jupyter-widgets/controls",
            "_model_module_version": "1.5.0",
            "_view_count": null,
            "_view_module_version": "1.5.0",
            "box_style": "",
            "layout": "IPY_MODEL_8a45d443d77e47f79bda406166a8df38",
            "_model_module": "@jupyter-widgets/controls",
            "children": [
              "IPY_MODEL_0b8dac7182784629b4f6a3abdad45bdd",
              "IPY_MODEL_54b1674dca0842139dd15634e14fcfcd"
            ]
          }
        },
        "8a45d443d77e47f79bda406166a8df38": {
          "model_module": "@jupyter-widgets/base",
          "model_name": "LayoutModel",
          "state": {
            "_view_name": "LayoutView",
            "grid_template_rows": null,
            "right": null,
            "justify_content": null,
            "_view_module": "@jupyter-widgets/base",
            "overflow": null,
            "_model_module_version": "1.2.0",
            "_view_count": null,
            "flex_flow": null,
            "width": null,
            "min_width": null,
            "border": null,
            "align_items": null,
            "bottom": null,
            "_model_module": "@jupyter-widgets/base",
            "top": null,
            "grid_column": null,
            "overflow_y": null,
            "overflow_x": null,
            "grid_auto_flow": null,
            "grid_area": null,
            "grid_template_columns": null,
            "flex": null,
            "_model_name": "LayoutModel",
            "justify_items": null,
            "grid_row": null,
            "max_height": null,
            "align_content": null,
            "visibility": null,
            "align_self": null,
            "height": null,
            "min_height": null,
            "padding": null,
            "grid_auto_rows": null,
            "grid_gap": null,
            "max_width": null,
            "order": null,
            "_view_module_version": "1.2.0",
            "grid_template_areas": null,
            "object_position": null,
            "object_fit": null,
            "grid_auto_columns": null,
            "margin": null,
            "display": null,
            "left": null
          }
        },
        "0b8dac7182784629b4f6a3abdad45bdd": {
          "model_module": "@jupyter-widgets/controls",
          "model_name": "LabelModel",
          "state": {
            "_view_name": "LabelView",
            "style": "IPY_MODEL_c48bf7a44b0c498f913dccc3c893a422",
            "_dom_classes": [],
            "description": "",
            "_model_name": "LabelModel",
            "placeholder": "​",
            "_view_module": "@jupyter-widgets/controls",
            "_model_module_version": "1.5.0",
            "value": " 0.09MB of 0.09MB uploaded (0.00MB deduped)\r",
            "_view_count": null,
            "_view_module_version": "1.5.0",
            "description_tooltip": null,
            "_model_module": "@jupyter-widgets/controls",
            "layout": "IPY_MODEL_eb81d26baee742faa2b077d52987d47c"
          }
        },
        "54b1674dca0842139dd15634e14fcfcd": {
          "model_module": "@jupyter-widgets/controls",
          "model_name": "FloatProgressModel",
          "state": {
            "_view_name": "ProgressView",
            "style": "IPY_MODEL_ec8661d87cb34343a2ebfe64e9d51723",
            "_dom_classes": [],
            "description": "",
            "_model_name": "FloatProgressModel",
            "bar_style": "",
            "max": 1,
            "_view_module": "@jupyter-widgets/controls",
            "_model_module_version": "1.5.0",
            "value": 1,
            "_view_count": null,
            "_view_module_version": "1.5.0",
            "orientation": "horizontal",
            "min": 0,
            "description_tooltip": null,
            "_model_module": "@jupyter-widgets/controls",
            "layout": "IPY_MODEL_dbbb6d64581f4cc1b252c590735fbe16"
          }
        },
        "c48bf7a44b0c498f913dccc3c893a422": {
          "model_module": "@jupyter-widgets/controls",
          "model_name": "DescriptionStyleModel",
          "state": {
            "_view_name": "StyleView",
            "_model_name": "DescriptionStyleModel",
            "description_width": "",
            "_view_module": "@jupyter-widgets/base",
            "_model_module_version": "1.5.0",
            "_view_count": null,
            "_view_module_version": "1.2.0",
            "_model_module": "@jupyter-widgets/controls"
          }
        },
        "eb81d26baee742faa2b077d52987d47c": {
          "model_module": "@jupyter-widgets/base",
          "model_name": "LayoutModel",
          "state": {
            "_view_name": "LayoutView",
            "grid_template_rows": null,
            "right": null,
            "justify_content": null,
            "_view_module": "@jupyter-widgets/base",
            "overflow": null,
            "_model_module_version": "1.2.0",
            "_view_count": null,
            "flex_flow": null,
            "width": null,
            "min_width": null,
            "border": null,
            "align_items": null,
            "bottom": null,
            "_model_module": "@jupyter-widgets/base",
            "top": null,
            "grid_column": null,
            "overflow_y": null,
            "overflow_x": null,
            "grid_auto_flow": null,
            "grid_area": null,
            "grid_template_columns": null,
            "flex": null,
            "_model_name": "LayoutModel",
            "justify_items": null,
            "grid_row": null,
            "max_height": null,
            "align_content": null,
            "visibility": null,
            "align_self": null,
            "height": null,
            "min_height": null,
            "padding": null,
            "grid_auto_rows": null,
            "grid_gap": null,
            "max_width": null,
            "order": null,
            "_view_module_version": "1.2.0",
            "grid_template_areas": null,
            "object_position": null,
            "object_fit": null,
            "grid_auto_columns": null,
            "margin": null,
            "display": null,
            "left": null
          }
        },
        "ec8661d87cb34343a2ebfe64e9d51723": {
          "model_module": "@jupyter-widgets/controls",
          "model_name": "ProgressStyleModel",
          "state": {
            "_view_name": "StyleView",
            "_model_name": "ProgressStyleModel",
            "description_width": "",
            "_view_module": "@jupyter-widgets/base",
            "_model_module_version": "1.5.0",
            "_view_count": null,
            "_view_module_version": "1.2.0",
            "bar_color": null,
            "_model_module": "@jupyter-widgets/controls"
          }
        },
        "dbbb6d64581f4cc1b252c590735fbe16": {
          "model_module": "@jupyter-widgets/base",
          "model_name": "LayoutModel",
          "state": {
            "_view_name": "LayoutView",
            "grid_template_rows": null,
            "right": null,
            "justify_content": null,
            "_view_module": "@jupyter-widgets/base",
            "overflow": null,
            "_model_module_version": "1.2.0",
            "_view_count": null,
            "flex_flow": null,
            "width": null,
            "min_width": null,
            "border": null,
            "align_items": null,
            "bottom": null,
            "_model_module": "@jupyter-widgets/base",
            "top": null,
            "grid_column": null,
            "overflow_y": null,
            "overflow_x": null,
            "grid_auto_flow": null,
            "grid_area": null,
            "grid_template_columns": null,
            "flex": null,
            "_model_name": "LayoutModel",
            "justify_items": null,
            "grid_row": null,
            "max_height": null,
            "align_content": null,
            "visibility": null,
            "align_self": null,
            "height": null,
            "min_height": null,
            "padding": null,
            "grid_auto_rows": null,
            "grid_gap": null,
            "max_width": null,
            "order": null,
            "_view_module_version": "1.2.0",
            "grid_template_areas": null,
            "object_position": null,
            "object_fit": null,
            "grid_auto_columns": null,
            "margin": null,
            "display": null,
            "left": null
          }
        },
        "3ee34ece9ea8409c9cfb7dde9b02c45d": {
          "model_module": "@jupyter-widgets/controls",
          "model_name": "VBoxModel",
          "state": {
            "_view_name": "VBoxView",
            "_dom_classes": [],
            "_model_name": "VBoxModel",
            "_view_module": "@jupyter-widgets/controls",
            "_model_module_version": "1.5.0",
            "_view_count": null,
            "_view_module_version": "1.5.0",
            "box_style": "",
            "layout": "IPY_MODEL_78e0b21913064c42aaa0ef781d2ea1e4",
            "_model_module": "@jupyter-widgets/controls",
            "children": [
              "IPY_MODEL_badce2e44b244ce2ac914cc7d5aeb21e",
              "IPY_MODEL_00fb719f61144e85aacf0e684db04114"
            ]
          }
        },
        "78e0b21913064c42aaa0ef781d2ea1e4": {
          "model_module": "@jupyter-widgets/base",
          "model_name": "LayoutModel",
          "state": {
            "_view_name": "LayoutView",
            "grid_template_rows": null,
            "right": null,
            "justify_content": null,
            "_view_module": "@jupyter-widgets/base",
            "overflow": null,
            "_model_module_version": "1.2.0",
            "_view_count": null,
            "flex_flow": null,
            "width": null,
            "min_width": null,
            "border": null,
            "align_items": null,
            "bottom": null,
            "_model_module": "@jupyter-widgets/base",
            "top": null,
            "grid_column": null,
            "overflow_y": null,
            "overflow_x": null,
            "grid_auto_flow": null,
            "grid_area": null,
            "grid_template_columns": null,
            "flex": null,
            "_model_name": "LayoutModel",
            "justify_items": null,
            "grid_row": null,
            "max_height": null,
            "align_content": null,
            "visibility": null,
            "align_self": null,
            "height": null,
            "min_height": null,
            "padding": null,
            "grid_auto_rows": null,
            "grid_gap": null,
            "max_width": null,
            "order": null,
            "_view_module_version": "1.2.0",
            "grid_template_areas": null,
            "object_position": null,
            "object_fit": null,
            "grid_auto_columns": null,
            "margin": null,
            "display": null,
            "left": null
          }
        },
        "badce2e44b244ce2ac914cc7d5aeb21e": {
          "model_module": "@jupyter-widgets/controls",
          "model_name": "LabelModel",
          "state": {
            "_view_name": "LabelView",
            "style": "IPY_MODEL_8adc4c9a9d744c11b53b0e9ca109f0ea",
            "_dom_classes": [],
            "description": "",
            "_model_name": "LabelModel",
            "placeholder": "​",
            "_view_module": "@jupyter-widgets/controls",
            "_model_module_version": "1.5.0",
            "value": " 0.09MB of 0.09MB uploaded (0.00MB deduped)\r",
            "_view_count": null,
            "_view_module_version": "1.5.0",
            "description_tooltip": null,
            "_model_module": "@jupyter-widgets/controls",
            "layout": "IPY_MODEL_96117d5257e3402d9913602a70f13c1c"
          }
        },
        "00fb719f61144e85aacf0e684db04114": {
          "model_module": "@jupyter-widgets/controls",
          "model_name": "FloatProgressModel",
          "state": {
            "_view_name": "ProgressView",
            "style": "IPY_MODEL_5fe7342407c74d2399624b8ec9cafba5",
            "_dom_classes": [],
            "description": "",
            "_model_name": "FloatProgressModel",
            "bar_style": "",
            "max": 1,
            "_view_module": "@jupyter-widgets/controls",
            "_model_module_version": "1.5.0",
            "value": 1,
            "_view_count": null,
            "_view_module_version": "1.5.0",
            "orientation": "horizontal",
            "min": 0,
            "description_tooltip": null,
            "_model_module": "@jupyter-widgets/controls",
            "layout": "IPY_MODEL_1e5111eb72824b588a3191cdee6189d7"
          }
        },
        "8adc4c9a9d744c11b53b0e9ca109f0ea": {
          "model_module": "@jupyter-widgets/controls",
          "model_name": "DescriptionStyleModel",
          "state": {
            "_view_name": "StyleView",
            "_model_name": "DescriptionStyleModel",
            "description_width": "",
            "_view_module": "@jupyter-widgets/base",
            "_model_module_version": "1.5.0",
            "_view_count": null,
            "_view_module_version": "1.2.0",
            "_model_module": "@jupyter-widgets/controls"
          }
        },
        "96117d5257e3402d9913602a70f13c1c": {
          "model_module": "@jupyter-widgets/base",
          "model_name": "LayoutModel",
          "state": {
            "_view_name": "LayoutView",
            "grid_template_rows": null,
            "right": null,
            "justify_content": null,
            "_view_module": "@jupyter-widgets/base",
            "overflow": null,
            "_model_module_version": "1.2.0",
            "_view_count": null,
            "flex_flow": null,
            "width": null,
            "min_width": null,
            "border": null,
            "align_items": null,
            "bottom": null,
            "_model_module": "@jupyter-widgets/base",
            "top": null,
            "grid_column": null,
            "overflow_y": null,
            "overflow_x": null,
            "grid_auto_flow": null,
            "grid_area": null,
            "grid_template_columns": null,
            "flex": null,
            "_model_name": "LayoutModel",
            "justify_items": null,
            "grid_row": null,
            "max_height": null,
            "align_content": null,
            "visibility": null,
            "align_self": null,
            "height": null,
            "min_height": null,
            "padding": null,
            "grid_auto_rows": null,
            "grid_gap": null,
            "max_width": null,
            "order": null,
            "_view_module_version": "1.2.0",
            "grid_template_areas": null,
            "object_position": null,
            "object_fit": null,
            "grid_auto_columns": null,
            "margin": null,
            "display": null,
            "left": null
          }
        },
        "5fe7342407c74d2399624b8ec9cafba5": {
          "model_module": "@jupyter-widgets/controls",
          "model_name": "ProgressStyleModel",
          "state": {
            "_view_name": "StyleView",
            "_model_name": "ProgressStyleModel",
            "description_width": "",
            "_view_module": "@jupyter-widgets/base",
            "_model_module_version": "1.5.0",
            "_view_count": null,
            "_view_module_version": "1.2.0",
            "bar_color": null,
            "_model_module": "@jupyter-widgets/controls"
          }
        },
        "1e5111eb72824b588a3191cdee6189d7": {
          "model_module": "@jupyter-widgets/base",
          "model_name": "LayoutModel",
          "state": {
            "_view_name": "LayoutView",
            "grid_template_rows": null,
            "right": null,
            "justify_content": null,
            "_view_module": "@jupyter-widgets/base",
            "overflow": null,
            "_model_module_version": "1.2.0",
            "_view_count": null,
            "flex_flow": null,
            "width": null,
            "min_width": null,
            "border": null,
            "align_items": null,
            "bottom": null,
            "_model_module": "@jupyter-widgets/base",
            "top": null,
            "grid_column": null,
            "overflow_y": null,
            "overflow_x": null,
            "grid_auto_flow": null,
            "grid_area": null,
            "grid_template_columns": null,
            "flex": null,
            "_model_name": "LayoutModel",
            "justify_items": null,
            "grid_row": null,
            "max_height": null,
            "align_content": null,
            "visibility": null,
            "align_self": null,
            "height": null,
            "min_height": null,
            "padding": null,
            "grid_auto_rows": null,
            "grid_gap": null,
            "max_width": null,
            "order": null,
            "_view_module_version": "1.2.0",
            "grid_template_areas": null,
            "object_position": null,
            "object_fit": null,
            "grid_auto_columns": null,
            "margin": null,
            "display": null,
            "left": null
          }
        }
      }
    }
  },
  "cells": [
    {
      "cell_type": "markdown",
      "metadata": {
        "id": "view-in-github",
        "colab_type": "text"
      },
      "source": [
        "<a href=\"https://colab.research.google.com/github/christianvadillo/InfoVac/blob/main/train_model_iteration_0.ipynb\" target=\"_parent\"><img src=\"https://colab.research.google.com/assets/colab-badge.svg\" alt=\"Open In Colab\"/></a>"
      ]
    },
    {
      "cell_type": "markdown",
      "metadata": {
        "id": "TdRzPvDwTC8r"
      },
      "source": [
        "# Install libraries"
      ]
    },
    {
      "cell_type": "code",
      "metadata": {
        "id": "TQdQLkV-9toC",
        "outputId": "6a93ca20-c425-4a55-91db-f5a5e75869e4",
        "colab": {
          "base_uri": "https://localhost:8080/"
        }
      },
      "source": [
        "!pip install spacy --upgrade -qqq # need 2.3 for download es_core_news_lg\n",
        "!pip install unidecode -qqq\n",
        "# Installing the W&B library\n",
        "!pip install wandb -qqq\n",
        "\n",
        "# !python -m spacy download es_core_news_lg -qqq\n",
        "# !python -m spacy download es_core_news_md -qqq\n",
        "!python -m spacy download es_core_news_sm -qqq"
      ],
      "execution_count": null,
      "outputs": [
        {
          "output_type": "stream",
          "text": [
            "\u001b[K     |████████████████████████████████| 10.0MB 4.4MB/s \n",
            "\u001b[K     |████████████████████████████████| 2.1MB 32.1MB/s \n",
            "\u001b[K     |████████████████████████████████| 245kB 5.2MB/s \n",
            "\u001b[K     |████████████████████████████████| 1.7MB 5.3MB/s \n",
            "\u001b[K     |████████████████████████████████| 102kB 8.3MB/s \n",
            "\u001b[K     |████████████████████████████████| 102kB 10.3MB/s \n",
            "\u001b[K     |████████████████████████████████| 163kB 35.6MB/s \n",
            "\u001b[K     |████████████████████████████████| 122kB 45.8MB/s \n",
            "\u001b[K     |████████████████████████████████| 71kB 5.8MB/s \n",
            "\u001b[?25h  Building wheel for watchdog (setup.py) ... \u001b[?25l\u001b[?25hdone\n",
            "  Building wheel for subprocess32 (setup.py) ... \u001b[?25l\u001b[?25hdone\n",
            "  Building wheel for pathtools (setup.py) ... \u001b[?25l\u001b[?25hdone\n",
            "\u001b[K     |████████████████████████████████| 16.2MB 1.3MB/s \n",
            "\u001b[?25h  Building wheel for es-core-news-sm (setup.py) ... \u001b[?25l\u001b[?25hdone\n",
            "\u001b[38;5;2m✔ Download and installation successful\u001b[0m\n",
            "You can now load the model via spacy.load('es_core_news_sm')\n"
          ],
          "name": "stdout"
        }
      ]
    },
    {
      "cell_type": "code",
      "metadata": {
        "id": "gXIuKroQRqep",
        "outputId": "3602bafd-4bb5-4a1a-a6ba-e19e217bdcb8",
        "colab": {
          "base_uri": "https://localhost:8080/"
        }
      },
      "source": [
        "import pandas as pd\n",
        "import numpy as np \n",
        "import re\n",
        "import itertools\n",
        "import matplotlib.pyplot as plt\n",
        "import seaborn as sns\n",
        "import warnings\n",
        "import joblib\n",
        "\n",
        "\n",
        "import spacy\n",
        "import nltk\n",
        "import unicodedata\n",
        "\n",
        "# import es_core_news_lg\n",
        "import es_core_news_sm\n",
        "\n",
        "from nltk.corpus import stopwords\n",
        "\n",
        "\n",
        "warnings.filterwarnings('ignore')\n",
        "nltk.download('stopwords')\n",
        "nltk.download('punkt')\n",
        "\n",
        "nlp = es_core_news_sm.load()\n",
        "\n",
        "# Build stop words list\n",
        "stop_words_es = stopwords.words('spanish')  # Spanish's stop words \n",
        "stop_words_es = stop_words_es + ['cnn', 'mas', 'si']\n",
        "sw_es = nlp.Defaults.stop_words \n",
        "stop_words_es = sw_es.union(stop_words_es)\n",
        "stop_words_es = [word for word in stop_words_es if len(word)<4]\n",
        "\n"
      ],
      "execution_count": null,
      "outputs": [
        {
          "output_type": "stream",
          "text": [
            "[nltk_data] Downloading package stopwords to /root/nltk_data...\n",
            "[nltk_data]   Unzipping corpora/stopwords.zip.\n",
            "[nltk_data] Downloading package punkt to /root/nltk_data...\n",
            "[nltk_data]   Unzipping tokenizers/punkt.zip.\n"
          ],
          "name": "stdout"
        }
      ]
    },
    {
      "cell_type": "code",
      "metadata": {
        "id": "K1QCpwM-KyFd"
      },
      "source": [
        "# For Reproducibility\n",
        "import os\n",
        "import random\n",
        "# Set seed for reproducability\n",
        "SEED = 88\n",
        "os.environ['PYTHONHASHSEED'] = str(SEED)\n",
        "random.seed(SEED)\n",
        "np.random.seed(SEED)\n",
        "np.random.RandomState(SEED);"
      ],
      "execution_count": null,
      "outputs": []
    },
    {
      "cell_type": "markdown",
      "metadata": {
        "id": "RzPJ4S6E-P-z"
      },
      "source": [
        "# Initialize W&B\n"
      ]
    },
    {
      "cell_type": "code",
      "metadata": {
        "id": "fhPVcPWi_EEq",
        "outputId": "ef1fc5ed-e544-489d-828a-0e207655bab1",
        "colab": {
          "base_uri": "https://localhost:8080/"
        }
      },
      "source": [
        "import wandb\n",
        "\n",
        "# Start a new run\n",
        "wandb.login()"
      ],
      "execution_count": null,
      "outputs": [
        {
          "output_type": "stream",
          "text": [
            "\u001b[34m\u001b[1mwandb\u001b[0m: Currently logged in as: \u001b[33mchristian_vadillo\u001b[0m (use `wandb login --relogin` to force relogin)\n"
          ],
          "name": "stderr"
        },
        {
          "output_type": "execute_result",
          "data": {
            "text/plain": [
              "True"
            ]
          },
          "metadata": {
            "tags": []
          },
          "execution_count": 6
        }
      ]
    },
    {
      "cell_type": "markdown",
      "metadata": {
        "id": "R8kV_ohf9bXj"
      },
      "source": [
        "# Load Data"
      ]
    },
    {
      "cell_type": "code",
      "metadata": {
        "id": "loVWbJAH9am5",
        "outputId": "32619e1e-2bed-4a4d-b42a-ece963679b0f",
        "colab": {
          "base_uri": "https://localhost:8080/",
          "height": 574
        }
      },
      "source": [
        "file = 'https://raw.githubusercontent.com/christianvadillo/InfoVac/main/data/processed/covid_fakenews_es_utf_21_Oct_2020_17_29.csv'\n",
        "\n",
        "df = pd.read_csv(file)\n",
        "df.head()"
      ],
      "execution_count": null,
      "outputs": [
        {
          "output_type": "execute_result",
          "data": {
            "text/html": [
              "<div>\n",
              "<style scoped>\n",
              "    .dataframe tbody tr th:only-of-type {\n",
              "        vertical-align: middle;\n",
              "    }\n",
              "\n",
              "    .dataframe tbody tr th {\n",
              "        vertical-align: top;\n",
              "    }\n",
              "\n",
              "    .dataframe thead th {\n",
              "        text-align: right;\n",
              "    }\n",
              "</style>\n",
              "<table border=\"1\" class=\"dataframe\">\n",
              "  <thead>\n",
              "    <tr style=\"text-align: right;\">\n",
              "      <th></th>\n",
              "      <th>url</th>\n",
              "      <th>titulo</th>\n",
              "      <th>texto</th>\n",
              "      <th>categoria</th>\n",
              "      <th>fecha_aparicion</th>\n",
              "      <th>organizacion</th>\n",
              "    </tr>\n",
              "  </thead>\n",
              "  <tbody>\n",
              "    <tr>\n",
              "      <th>0</th>\n",
              "      <td>https://www.newtral.es/bulos-coronavirus-pcr-k...</td>\n",
              "      <td>no title</td>\n",
              "      <td>Estos vídeos de Kary Mullis, inventor del PCR,...</td>\n",
              "      <td>no confiable</td>\n",
              "      <td>2020-10-13 00:00:00+00:00</td>\n",
              "      <td>Newtral</td>\n",
              "    </tr>\n",
              "    <tr>\n",
              "      <th>1</th>\n",
              "      <td>https://colombiacheck.com/chequeos/no-ecuador-...</td>\n",
              "      <td>No, Ecuador no encontró la cura para el COVID-...</td>\n",
              "      <td>Ecuador venció al coronavirus</td>\n",
              "      <td>no confiable</td>\n",
              "      <td>2020-10-08 18:36:17+00:00</td>\n",
              "      <td>ColombiaCheck</td>\n",
              "    </tr>\n",
              "    <tr>\n",
              "      <th>2</th>\n",
              "      <td>https://www.telemundo.com/noticias/noticias-te...</td>\n",
              "      <td>Las afirmaciones falsas y engañosas del debate...</td>\n",
              "      <td>\"Trump llamó al coronavirus un \"fraude\".</td>\n",
              "      <td>no confiable</td>\n",
              "      <td>2020-10-08 00:00:00+00:00</td>\n",
              "      <td>Telemundo</td>\n",
              "    </tr>\n",
              "    <tr>\n",
              "      <th>3</th>\n",
              "      <td>https://factual.afp.com/la-inscripcion-en-caja...</td>\n",
              "      <td>La inscripción en cajas de tapabocas no prueba...</td>\n",
              "      <td>La inscripción en las cajas de mascarillas pru...</td>\n",
              "      <td>no confiable</td>\n",
              "      <td>2020-10-07 18:36:00+00:00</td>\n",
              "      <td>AFP Factual</td>\n",
              "    </tr>\n",
              "    <tr>\n",
              "      <th>4</th>\n",
              "      <td>https://chequeado.com/ultimas-noticias/alesso-...</td>\n",
              "      <td>Alesso (CTERA): “En los lugares donde hay poco...</td>\n",
              "      <td>En los lugares donde hay pocos casos de corona...</td>\n",
              "      <td>no confiable</td>\n",
              "      <td>2020-10-07 00:00:00+00:00</td>\n",
              "      <td>Chequeado</td>\n",
              "    </tr>\n",
              "  </tbody>\n",
              "</table>\n",
              "</div>"
            ],
            "text/plain": [
              "                                                 url  ...   organizacion\n",
              "0  https://www.newtral.es/bulos-coronavirus-pcr-k...  ...        Newtral\n",
              "1  https://colombiacheck.com/chequeos/no-ecuador-...  ...  ColombiaCheck\n",
              "2  https://www.telemundo.com/noticias/noticias-te...  ...      Telemundo\n",
              "3  https://factual.afp.com/la-inscripcion-en-caja...  ...    AFP Factual\n",
              "4  https://chequeado.com/ultimas-noticias/alesso-...  ...      Chequeado\n",
              "\n",
              "[5 rows x 6 columns]"
            ]
          },
          "metadata": {
            "tags": []
          },
          "execution_count": 73
        }
      ]
    },
    {
      "cell_type": "markdown",
      "metadata": {
        "id": "QGhqk1yLPRXQ"
      },
      "source": [
        "# Metrics"
      ]
    },
    {
      "cell_type": "code",
      "metadata": {
        "id": "8a4QuG4ZPYkS"
      },
      "source": [
        "from sklearn.model_selection import cross_validate\n",
        "from sklearn.model_selection import KFold\n",
        "\n",
        "from sklearn.metrics import accuracy_score, plot_confusion_matrix\n",
        "from sklearn.metrics import average_precision_score, precision_recall_curve\n",
        "from sklearn.metrics import make_scorer\n",
        "from sklearn.metrics import auc\n",
        "from sklearn.metrics import roc_curve\n",
        "from sklearn.metrics import roc_auc_score\n",
        "from sklearn.metrics import f1_score\n",
        "\n",
        "from functools import wraps\n",
        "\n",
        "\n",
        "\n",
        "def plot_boxplot(scores, metric, ax=None):\n",
        "    \"\"\" Plot the boxplot of each model given a metric\"\"\"\n",
        "    data = [model[metric] for model in scores]\n",
        "    name = metric.split('_')[1]\n",
        "    if ax:\n",
        "        ax.boxplot(data, labels=names, showmeans=True)\n",
        "        ax.set_title(f'{name.capitalize()} scores by model')\n",
        "        ax.set_xlabel('Model')\n",
        "        ax.set_ylabel(name.capitalize())\n",
        "    else:\n",
        "        plt.boxplot(data, labels=names, showmeans=True)\n",
        "        plt.set_title(f'{name.capitalize()} scores by model')\n",
        "        plt.set_xlabel('Model')\n",
        "        plt.set_ylabel(name.capitalize())\n",
        "        plt.show()\n",
        "\n",
        "        \n",
        "def roc_auc(y_true, probs_pred):\n",
        "    \"\"\" Calculate ROC area under curve \"\"\"\n",
        "    return roc_auc_score(y_true, probs_pred)\n",
        "\n",
        "\n",
        "def pr_auc(y_true, probs_pred):\n",
        "    \"\"\"Calculate precision-recall area under curve\"\"\"\n",
        "    # calculate area under curve\n",
        "    return average_precision_score(y_true, probs_pred)\n",
        "\n",
        "\n",
        "def evaluate_model(model, x, y):\n",
        "    \"\"\" Evaluate the model using KFold \"\"\"\n",
        "    scoring = {'accuracy': make_scorer(accuracy_score),\n",
        "               'f1': make_scorer(f1_score), \n",
        "               'roc_auc': make_scorer(roc_auc, needs_proba=True),\n",
        "               'pr_auc': make_scorer(pr_auc, needs_proba=True)\n",
        "              }\n",
        "              \n",
        "    cv = KFold(n_splits=10, shuffle=True, random_state=SEED)\n",
        "    scores = cross_validate(model, x, y, cv=cv, \n",
        "                            scoring=scoring,\n",
        "                            n_jobs=-1, \n",
        "                            verbose=0)\n",
        "    \n",
        "    return scores\n",
        "\n",
        "\n",
        "def track_scores(scores):\n",
        "    # Metrics to log\n",
        "    metrics = ['test_accuracy', 'test_f1', 'test_roc_auc', 'test_pr_auc']\n",
        "    for metric in metrics:\n",
        "      for score in scores[metric]:\n",
        "        wandb.log({f'cv_score_{metric}': score})\n",
        "        wandb.log({f'mean_{metric}': scores[metric].mean()})\n",
        "      wandb.termlog(f'mean_{metric} logged')\n",
        "\n",
        "\n",
        "def display_scores(scores, metric):\n",
        "    \"\"\" Display the avg and std score of the model\"\"\"\n",
        "    print('='*60)\n",
        "    for m in metric:\n",
        "        name = 'test_'+m.lower()\n",
        "        print(f\"Metric: {m:>10} {'|':>5} Mean: {scores[name].mean():.3f} (+/- {scores[name].std()*2:.2f})\")\n",
        "\n"
      ],
      "execution_count": null,
      "outputs": []
    },
    {
      "cell_type": "markdown",
      "metadata": {
        "id": "4yBimxnQGKt6"
      },
      "source": [
        "# Support functions\n"
      ]
    },
    {
      "cell_type": "code",
      "metadata": {
        "id": "Tgb42LUll3wO"
      },
      "source": [
        "# Support libraries\n",
        "import matplotlib.pyplot as plt\n",
        "\n",
        "from sklearn.pipeline import Pipeline\n",
        "from sklearn.feature_extraction.text import TfidfTransformer\n",
        "from sklearn.feature_extraction.text import CountVectorizer\n",
        "from sklearn.base import TransformerMixin, BaseEstimator "
      ],
      "execution_count": null,
      "outputs": []
    },
    {
      "cell_type": "code",
      "metadata": {
        "id": "oLQJR6QAGNWW"
      },
      "source": [
        "def normalize_document(doc:str, rm_sw:bool=True, \n",
        "                       rm_symb:bool=True,\n",
        "                       lemmatize:bool=True) -> str:\n",
        "    '''\n",
        "    Cleans text including removal of whitespace, punctuation, accented characters,\n",
        "    special characters and transforming to lowercase. Assumes input text is string.\n",
        "    Returns clean string.\n",
        "    '''\n",
        "\n",
        "    # lower case and remove special characters\\whitespaces\n",
        "    if rm_symb:\n",
        "      # Remove accents\n",
        "      doc = unicodedata.normalize(u'NFKD', doc)\\\n",
        "                       .encode('ascii', 'ignore')\\\n",
        "                       .decode('utf8')\n",
        "      # Remove numbers and punctuations\n",
        "      doc = re.sub(r'[^a-zA-Z\\s]', '', doc)\n",
        "    # To lowercase\n",
        "    doc = doc.lower()\n",
        "    # Remove extra space\n",
        "    doc = doc.strip()\n",
        "\n",
        "    if rm_sw:\n",
        "      # tokenize document\n",
        "      tokens = nltk.word_tokenize(doc)\n",
        "      # filter stopwords out of document\n",
        "      filtered_tokens = [token for token in tokens if token not in stop_words_es]\n",
        "      # re-create document from filtered tokens\n",
        "      doc = ' '.join(filtered_tokens)\n",
        "\n",
        "    if lemmatize:\n",
        "      doc = nlp(doc)\n",
        "      tokens = [token.lemma_.strip() for token in doc]\n",
        "      doc = ' '.join(tokens)\n",
        "\n",
        "    return doc\n",
        "\n",
        "\n",
        "class DenseTransformer(BaseEstimator, TransformerMixin):\n",
        "    def fit(self, X, y=None, **fit_params):\n",
        "        return self\n",
        "\n",
        "    def transform(self, X, y=None, **fit_params):\n",
        "        return X.todense()\n",
        "\n",
        "\n",
        "class NormalizeTextTransformer(BaseEstimator, TransformerMixin):\n",
        "  def __init__ (self, **params):\n",
        "    print(params)\n",
        "    self.rm_sw = params.get('rm_sw')\n",
        "    self.rm_symb = params.get('rm_symb')\n",
        "    self.lemmatize = params.get('lemmatize')\n",
        "\n",
        "    # print(self.rm_sw, self.rm_symb, self.lemmatize)\n",
        "  def fit(self, X, y=None, **fit_params):\n",
        "    return self\n",
        "\n",
        "\n",
        "  def transform(self, X, y=None, **transf_params):\n",
        "    X_norm = normalize_corpus(X, \n",
        "                            rm_sw=self.rm_sw,\n",
        "                            rm_symb=self.rm_symb,\n",
        "                            lemmatize=self.lemmatize)\n",
        "    return X_norm\n",
        "\n",
        "normalize_corpus = np.vectorize(normalize_document)"
      ],
      "execution_count": null,
      "outputs": []
    },
    {
      "cell_type": "markdown",
      "metadata": {
        "id": "cHrxUUIvH2pT"
      },
      "source": [
        "# Splitting the data"
      ]
    },
    {
      "cell_type": "code",
      "metadata": {
        "id": "XJRgpvL1l7qg"
      },
      "source": [
        "from sklearn.utils import shuffle"
      ],
      "execution_count": null,
      "outputs": []
    },
    {
      "cell_type": "code",
      "metadata": {
        "id": "_TCaYne-JNId"
      },
      "source": [
        "df['categoria'] = df['categoria'].map({'confiable': 1, 'no confiable': 0})"
      ],
      "execution_count": null,
      "outputs": []
    },
    {
      "cell_type": "code",
      "metadata": {
        "id": "1i9_HOJDJFhZ"
      },
      "source": [
        "df = shuffle(df, random_state=SEED)\n",
        "df.reset_index(drop=True, inplace=True)\n",
        "df.to_csv('covid-es-dataset.csv', index=False)\n",
        "\n",
        "X = df['texto'].values\n",
        "y = df['categoria'].values"
      ],
      "execution_count": null,
      "outputs": []
    },
    {
      "cell_type": "code",
      "metadata": {
        "id": "9hoO_2HbIDS2",
        "outputId": "f7ad9235-633f-45cc-bb0a-601e53770dab",
        "colab": {
          "base_uri": "https://localhost:8080/"
        }
      },
      "source": [
        "from sklearn.model_selection import train_test_split\n",
        "\n",
        "X_train, X_test, y_train, y_test =\\\n",
        "     train_test_split(X, y, test_size=0.2, random_state=SEED)\n",
        "\n",
        "X_train, X_val, y_train, y_val =\\\n",
        "    train_test_split(X_train, y_train, test_size=0.25, random_state=SEED)\n",
        "\n",
        "print(\"Train shapes:\", X_train.shape, y_train.shape)\n",
        "print(\"Validation shapes:\", X_val.shape, y_val.shape)\n",
        "print(\"Test shapes:\", X_test.shape, y_test.shape)"
      ],
      "execution_count": null,
      "outputs": [
        {
          "output_type": "stream",
          "text": [
            "Train shapes: (4488,) (4488,)\n",
            "Validation shapes: (1497,) (1497,)\n",
            "Test shapes: (1497,) (1497,)\n"
          ],
          "name": "stdout"
        }
      ]
    },
    {
      "cell_type": "code",
      "metadata": {
        "id": "qZcghvQscO4K"
      },
      "source": [
        "# from functools import partial\n",
        "\n",
        "# # Partial functions allow one to derive a function with x parameters to a\n",
        "# # function with fewer parameters and fixed values set for the more limited function.\n",
        "# # evaluate_model = partial(evaluate_model, x=X_train, y=y_train)\n",
        "# display_scores = partial(display_scores, metric=['accuracy', 'f1', 'roc_auc', 'pr_auc'])\n"
      ],
      "execution_count": null,
      "outputs": []
    },
    {
      "cell_type": "markdown",
      "metadata": {
        "id": "W0Js8OS_lVvQ"
      },
      "source": [
        "# Train models\n"
      ]
    },
    {
      "cell_type": "code",
      "metadata": {
        "id": "YfoAOrRVlr1y"
      },
      "source": [
        "# Models\n",
        "from lightgbm import LGBMClassifier\n",
        "from xgboost import XGBClassifier\n",
        "from sklearn.dummy import DummyClassifier\n",
        "from sklearn.ensemble import RandomForestClassifier\n",
        "from sklearn.naive_bayes import GaussianNB\n",
        "from sklearn.neighbors import KNeighborsClassifier\n",
        "from sklearn.linear_model import LogisticRegression\n",
        "from sklearn.linear_model import SGDClassifier\n",
        "from sklearn.calibration import CalibratedClassifierCV\n",
        "from sklearn.svm import SVC\n"
      ],
      "execution_count": null,
      "outputs": []
    },
    {
      "cell_type": "code",
      "metadata": {
        "id": "V2elTW7Hm_fv"
      },
      "source": [
        "def get_default_model():\n",
        "  \"\"\" Function that return pipelines of the models defined \"\"\"\n",
        "  models = [\n",
        "        # ('BASE', DummyClassifier(strategy='most_frequent', random_state=SEED)),\n",
        "        ('LGBM', LGBMClassifier(random_state=SEED)),\n",
        "        ('XGB', XGBClassifier(random_state=SEED)),\n",
        "        ('RF', RandomForestClassifier(random_state=SEED)),\n",
        "        ('NB', GaussianNB()),\n",
        "        ('SGD', CalibratedClassifierCV(base_estimator=SGDClassifier(random_state=SEED))),\n",
        "        ('LR', LogisticRegression(random_state=SEED)),\n",
        "        ('KNN', KNeighborsClassifier()),\n",
        "        ('SVM', SVC(probability=True, random_state=SEED))]\n",
        "  \n",
        "  for model in models:\n",
        "    steps = [\n",
        "            #  ('norm', NormalizeTextTransformer(rm_sw=config.get('rm_sw'), \n",
        "            #                                    rm_symb=config.get('rm_symb'),\n",
        "            #                                    lemmatize=config.get('lemmatize'))),\n",
        "             ('vect', CountVectorizer(ngram_range=config.get('ngram_range'))),\n",
        "             ('tfidf', TfidfTransformer())]\n",
        "\n",
        "    if model[0] == 'NB':\n",
        "      steps.append(('toDense', DenseTransformer()))\n",
        "\n",
        "    steps.append(model)\n",
        "    base_p = Pipeline(steps=steps, verbose=1)\n",
        "    yield model[0], base_p"
      ],
      "execution_count": null,
      "outputs": []
    },
    {
      "cell_type": "code",
      "metadata": {
        "id": "umQRufGYnw-V"
      },
      "source": [
        "def run_experiment(config, model, X, y):\n",
        "  scores_all, names = [], []\n",
        "  name = model.steps[-1][0]\n",
        "  \n",
        "  #Initialize the experiment\n",
        "  run = wandb.init(project='InfoVac', job_type='train', config=config, name=name, tags=[name])\n",
        "  \n",
        "  # Versioning Dataset\n",
        "  artifact = wandb.Artifact('covid-es-dataset', type='dataset', \n",
        "                            metadata={'created_date': '21/10/2020',\n",
        "                                      'srcs': 'Google Facts Checker,\\\n",
        "                                       Chequeado, CNN Español'})\n",
        "\n",
        "  # Add a file to the artifact's contents\n",
        "  artifact.add_file('/content/covid-es-dataset.csv')\n",
        "  # Save the artifact version to W&B and mark it as the output of this run\n",
        "  run.log_artifact(artifact)\n",
        "\n",
        "  scores = evaluate_model(model, x=X, y=y)\n",
        "  scores_all.append(scores)\n",
        "  names.append(name)\n",
        "  # display_scores(scores)\n",
        "  track_scores(scores)    # W&B tracker\n",
        "  \n",
        "  # end the current run\n",
        "  wandb.join()"
      ],
      "execution_count": null,
      "outputs": []
    },
    {
      "cell_type": "code",
      "metadata": {
        "id": "nMAoWnYxUdpa",
        "outputId": "42d153cd-4921-48c7-f92d-5f54f3d2035d",
        "colab": {
          "base_uri": "https://localhost:8080/",
          "height": 1000,
          "referenced_widgets": [
            "7634256b2a034693ac630f5b6a7cda5c",
            "f3c75aa78f024f43be9baa9ed862f10e",
            "a1e22ca370684c4aac003184660e449c",
            "edb2af126cf14b708c1d4378ccb58e78",
            "f82ee856fb834196a03a04c6a1e669c4",
            "6e154ef1f72b49f6bc7cb8780c96e227",
            "93ed1546539f40caacff795481840fb9",
            "c03719969c2841d8a4039be52ed5533c",
            "547f7c5ef3d04d09b91bab950a99b508",
            "47f35c27b95d4573a69ff2ebeb3e523f",
            "b3b367464b844ea9a637f1cdbf2736fa",
            "7e3572b418c74ad2b3c4f3282f01e245",
            "ba9940b3a56e40b28fdb29449f1e087e",
            "29fccaafe90d4d1b862aecd2b51ab6bb",
            "fee7fc300adf48b5ab08c0305e64e825",
            "07ac11ce36ba4307bf73eb73f1f641d8",
            "4e10919235c94549935bf35269b63f44",
            "43a6b9302eb04dcf849e77ada6f5f0b7",
            "aa81db29230145fdbed561aab91f3ab8",
            "36da5f7bd3684dee8253a8f3a3853d4f",
            "b8f07f0b3d8145238807bd83c8247335",
            "5df5bf5f4e74486cb4bef01a3c75a68a",
            "49421f24e8c6444fac198258287d7b00",
            "aa6205bb7237414fbabd48473e060ab8",
            "1d0e4ffbfc714a309f89f20f3e133b0e",
            "d3265e8b500348d18453ae7c4468088d",
            "3e3d4d6797e247928537402f14ec4f59",
            "03e8fdab1e124e908e2d4b819fca17b4",
            "075598f5793447f1a62dae34c9aeb65a",
            "07a6563384184b38b7f09796f10216b3",
            "97f99162ca5e474b87885d13fbdf8c1c",
            "7468bfba24a24f7fb6ef24f37d3f01c3",
            "8be4a38e57df4afc8999eb9a82b5d9fa",
            "538346b5ef4449e19b21acce05b6e2ad",
            "db5f9584cbbb443ca9e727e00b1919f1",
            "af8f15dd05f94c8cb748bb0d7d33541d",
            "8790782890c14f4c8177aaec836d293d",
            "1bd7cd18e0ee486b84885d4c669e52d4",
            "2d24feca94d04b9c94ca700e94c9ec05",
            "19545eda16bd44aaa26ef8fbd3af4d68",
            "c5647de56e414415b876d7d3a6aada46",
            "87860f1c74cd4bbe95620f443d130ee3",
            "0143e3eb4f0748c89f215f7e8a7876e6",
            "acb948b084f54e11af49a612a8cb6203",
            "ddbf2149a2d5443a8e7aa370d2795c85",
            "c2da6afe853a4d2cbc7805b95e4474f9",
            "34f0ad4868a547d9ae5966c4b5205591",
            "4081b0133d3644209b80ba90d1cf3a54",
            "d81fcc0d3fc8401e969b2a0a2f4f940e",
            "8a45d443d77e47f79bda406166a8df38",
            "0b8dac7182784629b4f6a3abdad45bdd",
            "54b1674dca0842139dd15634e14fcfcd",
            "c48bf7a44b0c498f913dccc3c893a422",
            "eb81d26baee742faa2b077d52987d47c",
            "ec8661d87cb34343a2ebfe64e9d51723",
            "dbbb6d64581f4cc1b252c590735fbe16",
            "3ee34ece9ea8409c9cfb7dde9b02c45d",
            "78e0b21913064c42aaa0ef781d2ea1e4",
            "badce2e44b244ce2ac914cc7d5aeb21e",
            "00fb719f61144e85aacf0e684db04114",
            "8adc4c9a9d744c11b53b0e9ca109f0ea",
            "96117d5257e3402d9913602a70f13c1c",
            "5fe7342407c74d2399624b8ec9cafba5",
            "1e5111eb72824b588a3191cdee6189d7"
          ]
        }
      },
      "source": [
        "# Initial configuration for the training phase \n",
        "config = {\n",
        "    \"rm_sw\": False,            # No stopwords\n",
        "    \"rm_symb\": True,          # Remove numbers, special characters, accents\n",
        "    \"lemmatize\": True,        # Lemmatize the words\n",
        "    \"ngram_range\": (1, 1),    # Windows\n",
        "    'features': 'texto',      # Column used as the input feature\n",
        "    'random_state': SEED,     # To reproducibility\n",
        "    'kfolds': 10              # Amount of folds for evaluation\n",
        "    }\n",
        "\n",
        "# Normalize the text \n",
        "X = np.concatenate([X_train, X_val], axis=0)\n",
        "y = np.concatenate([y_train, y_val], axis=0)\n",
        "\n",
        "X_norm = normalize_corpus(X, rm_sw=config.get('rm_sw'),\n",
        "                          rm_symb=config.get('rm_symb'),\n",
        "                          lemmatize=config.get('lemmatize'))\n",
        "\n",
        "# Run experiments\n",
        "for name, model in get_default_model():\n",
        "    config['model'] = name\n",
        "    run_experiment(config, model, X_norm, y)"
      ],
      "execution_count": null,
      "outputs": [
        {
          "output_type": "display_data",
          "data": {
            "text/html": [
              "\n",
              "                Tracking run with wandb version 0.10.8<br/>\n",
              "                Syncing run <strong style=\"color:#cdcd00\">LGBM</strong> to <a href=\"https://wandb.ai\" target=\"_blank\">Weights & Biases</a> <a href=\"https://docs.wandb.com/integrations/jupyter.html\" target=\"_blank\">(Documentation)</a>.<br/>\n",
              "                Project page: <a href=\"https://wandb.ai/christian_vadillo/InfoVac\" target=\"_blank\">https://wandb.ai/christian_vadillo/InfoVac</a><br/>\n",
              "                Run page: <a href=\"https://wandb.ai/christian_vadillo/InfoVac/runs/58l4zzhr\" target=\"_blank\">https://wandb.ai/christian_vadillo/InfoVac/runs/58l4zzhr</a><br/>\n",
              "                Run data is saved locally in <code>wandb/run-20201029_163850-58l4zzhr</code><br/><br/>\n",
              "            "
            ],
            "text/plain": [
              "<IPython.core.display.HTML object>"
            ]
          },
          "metadata": {
            "tags": []
          }
        },
        {
          "output_type": "stream",
          "text": [
            "\u001b[34m\u001b[1mwandb\u001b[0m: mean_test_accuracy logged\n",
            "\u001b[34m\u001b[1mwandb\u001b[0m: mean_test_f1 logged\n",
            "\u001b[34m\u001b[1mwandb\u001b[0m: mean_test_roc_auc logged\n",
            "\u001b[34m\u001b[1mwandb\u001b[0m: mean_test_pr_auc logged\n"
          ],
          "name": "stderr"
        },
        {
          "output_type": "display_data",
          "data": {
            "text/html": [
              "<br/>Waiting for W&B process to finish, PID 1654<br/>Program ended successfully."
            ],
            "text/plain": [
              "<IPython.core.display.HTML object>"
            ]
          },
          "metadata": {
            "tags": []
          }
        },
        {
          "output_type": "display_data",
          "data": {
            "application/vnd.jupyter.widget-view+json": {
              "model_id": "7634256b2a034693ac630f5b6a7cda5c",
              "version_minor": 0,
              "version_major": 2
            },
            "text/plain": [
              "VBox(children=(Label(value=' 0.00MB of 0.00MB uploaded (0.00MB deduped)\\r'), FloatProgress(value=1.0, max=1.0)…"
            ]
          },
          "metadata": {
            "tags": []
          }
        },
        {
          "output_type": "display_data",
          "data": {
            "text/html": [
              "Find user logs for this run at: <code>wandb/run-20201029_163850-58l4zzhr/logs/debug.log</code>"
            ],
            "text/plain": [
              "<IPython.core.display.HTML object>"
            ]
          },
          "metadata": {
            "tags": []
          }
        },
        {
          "output_type": "display_data",
          "data": {
            "text/html": [
              "Find internal logs for this run at: <code>wandb/run-20201029_163850-58l4zzhr/logs/debug-internal.log</code>"
            ],
            "text/plain": [
              "<IPython.core.display.HTML object>"
            ]
          },
          "metadata": {
            "tags": []
          }
        },
        {
          "output_type": "display_data",
          "data": {
            "text/html": [
              "<h3>Run summary:</h3><br/><style>\n",
              "    table.wandb td:nth-child(1) { padding: 0 10px; text-align: right }\n",
              "    </style><table class=\"wandb\">\n",
              "<tr><td>cv_score_test_accuracy</td><td>0.90803</td></tr><tr><td>_step</td><td>79</td></tr><tr><td>_runtime</td><td>165</td></tr><tr><td>_timestamp</td><td>1603989695</td></tr><tr><td>mean_test_accuracy</td><td>0.91579</td></tr><tr><td>cv_score_test_f1</td><td>0.91551</td></tr><tr><td>mean_test_f1</td><td>0.92209</td></tr><tr><td>cv_score_test_roc_auc</td><td>0.96475</td></tr><tr><td>mean_test_roc_auc</td><td>0.96895</td></tr><tr><td>cv_score_test_pr_auc</td><td>0.97838</td></tr><tr><td>mean_test_pr_auc</td><td>0.98075</td></tr></table>"
            ],
            "text/plain": [
              "<IPython.core.display.HTML object>"
            ]
          },
          "metadata": {
            "tags": []
          }
        },
        {
          "output_type": "display_data",
          "data": {
            "text/html": [
              "<h3>Run history:</h3><br/><style>\n",
              "    table.wandb td:nth-child(1) { padding: 0 10px; text-align: right }\n",
              "    </style><table class=\"wandb\">\n",
              "<tr><td>cv_score_test_accuracy</td><td>▄▂█▁▆▄▂█▂▂</td></tr><tr><td>_step</td><td>▁▁▁▂▂▂▂▂▂▃▃▃▃▃▃▄▄▄▄▄▅▅▅▅▅▅▆▆▆▆▆▆▇▇▇▇▇███</td></tr><tr><td>_runtime</td><td>▁▁▁▁▁▁▁▁▁▁▁▁▁▁▁▁▁▁▁▁▁▁▁▁▁▁▁▁▁▁▁▁▁▁▁▁▁▁▁▁</td></tr><tr><td>_timestamp</td><td>▁▁▁▁▁▁▁▁▁▁▁▁▁▁▁▁▁▁▁▁▁▁▁▁▁▁▁▁▁▁▁▁▁▁▁▁▁▁▁▁</td></tr><tr><td>mean_test_accuracy</td><td>▁▁▁▁▁▁▁▁▁▁</td></tr><tr><td>cv_score_test_f1</td><td>▄▄▇▁▅▄▄█▂▃</td></tr><tr><td>mean_test_f1</td><td>▁▁▁▁▁▁▁▁▁▁</td></tr><tr><td>cv_score_test_roc_auc</td><td>▆▆█▁▇▄▇█▁▃</td></tr><tr><td>mean_test_roc_auc</td><td>▁▁▁▁▁▁▁▁▁▁</td></tr><tr><td>cv_score_test_pr_auc</td><td>▅▇▇▁▆▄▇█▂▄</td></tr><tr><td>mean_test_pr_auc</td><td>▁▁▁▁▁▁▁▁▁▁</td></tr></table><br/>"
            ],
            "text/plain": [
              "<IPython.core.display.HTML object>"
            ]
          },
          "metadata": {
            "tags": []
          }
        },
        {
          "output_type": "display_data",
          "data": {
            "text/html": [
              "Synced 5 W&B file(s), 0 media file(s), 0 artifact file(s) and 1 other file(s)"
            ],
            "text/plain": [
              "<IPython.core.display.HTML object>"
            ]
          },
          "metadata": {
            "tags": []
          }
        },
        {
          "output_type": "display_data",
          "data": {
            "text/html": [
              "\n",
              "                    <br/>Synced <strong style=\"color:#cdcd00\">LGBM</strong>: <a href=\"https://wandb.ai/christian_vadillo/InfoVac/runs/58l4zzhr\" target=\"_blank\">https://wandb.ai/christian_vadillo/InfoVac/runs/58l4zzhr</a><br/>\n",
              "                "
            ],
            "text/plain": [
              "<IPython.core.display.HTML object>"
            ]
          },
          "metadata": {
            "tags": []
          }
        },
        {
          "output_type": "display_data",
          "data": {
            "text/html": [
              "\n",
              "                Tracking run with wandb version 0.10.8<br/>\n",
              "                Syncing run <strong style=\"color:#cdcd00\">XGB</strong> to <a href=\"https://wandb.ai\" target=\"_blank\">Weights & Biases</a> <a href=\"https://docs.wandb.com/integrations/jupyter.html\" target=\"_blank\">(Documentation)</a>.<br/>\n",
              "                Project page: <a href=\"https://wandb.ai/christian_vadillo/InfoVac\" target=\"_blank\">https://wandb.ai/christian_vadillo/InfoVac</a><br/>\n",
              "                Run page: <a href=\"https://wandb.ai/christian_vadillo/InfoVac/runs/39wi4hxq\" target=\"_blank\">https://wandb.ai/christian_vadillo/InfoVac/runs/39wi4hxq</a><br/>\n",
              "                Run data is saved locally in <code>wandb/run-20201029_164141-39wi4hxq</code><br/><br/>\n",
              "            "
            ],
            "text/plain": [
              "<IPython.core.display.HTML object>"
            ]
          },
          "metadata": {
            "tags": []
          }
        },
        {
          "output_type": "stream",
          "text": [
            "\u001b[34m\u001b[1mwandb\u001b[0m: mean_test_accuracy logged\n",
            "\u001b[34m\u001b[1mwandb\u001b[0m: mean_test_f1 logged\n",
            "\u001b[34m\u001b[1mwandb\u001b[0m: mean_test_roc_auc logged\n",
            "\u001b[34m\u001b[1mwandb\u001b[0m: mean_test_pr_auc logged\n"
          ],
          "name": "stderr"
        },
        {
          "output_type": "display_data",
          "data": {
            "text/html": [
              "<br/>Waiting for W&B process to finish, PID 1709<br/>Program ended successfully."
            ],
            "text/plain": [
              "<IPython.core.display.HTML object>"
            ]
          },
          "metadata": {
            "tags": []
          }
        },
        {
          "output_type": "display_data",
          "data": {
            "application/vnd.jupyter.widget-view+json": {
              "model_id": "547f7c5ef3d04d09b91bab950a99b508",
              "version_minor": 0,
              "version_major": 2
            },
            "text/plain": [
              "VBox(children=(Label(value=' 0.00MB of 0.00MB uploaded (0.00MB deduped)\\r'), FloatProgress(value=1.0, max=1.0)…"
            ]
          },
          "metadata": {
            "tags": []
          }
        },
        {
          "output_type": "display_data",
          "data": {
            "text/html": [
              "Find user logs for this run at: <code>wandb/run-20201029_164141-39wi4hxq/logs/debug.log</code>"
            ],
            "text/plain": [
              "<IPython.core.display.HTML object>"
            ]
          },
          "metadata": {
            "tags": []
          }
        },
        {
          "output_type": "display_data",
          "data": {
            "text/html": [
              "Find internal logs for this run at: <code>wandb/run-20201029_164141-39wi4hxq/logs/debug-internal.log</code>"
            ],
            "text/plain": [
              "<IPython.core.display.HTML object>"
            ]
          },
          "metadata": {
            "tags": []
          }
        },
        {
          "output_type": "display_data",
          "data": {
            "text/html": [
              "<h3>Run summary:</h3><br/><style>\n",
              "    table.wandb td:nth-child(1) { padding: 0 10px; text-align: right }\n",
              "    </style><table class=\"wandb\">\n",
              "<tr><td>cv_score_test_accuracy</td><td>0.89465</td></tr><tr><td>_step</td><td>79</td></tr><tr><td>_runtime</td><td>118</td></tr><tr><td>_timestamp</td><td>1603989819</td></tr><tr><td>mean_test_accuracy</td><td>0.90426</td></tr><tr><td>cv_score_test_f1</td><td>0.8992</td></tr><tr><td>mean_test_f1</td><td>0.9091</td></tr><tr><td>cv_score_test_roc_auc</td><td>0.95652</td></tr><tr><td>mean_test_roc_auc</td><td>0.95789</td></tr><tr><td>cv_score_test_pr_auc</td><td>0.97356</td></tr><tr><td>mean_test_pr_auc</td><td>0.97419</td></tr></table>"
            ],
            "text/plain": [
              "<IPython.core.display.HTML object>"
            ]
          },
          "metadata": {
            "tags": []
          }
        },
        {
          "output_type": "display_data",
          "data": {
            "text/html": [
              "<h3>Run history:</h3><br/><style>\n",
              "    table.wandb td:nth-child(1) { padding: 0 10px; text-align: right }\n",
              "    </style><table class=\"wandb\">\n",
              "<tr><td>cv_score_test_accuracy</td><td>▇▅▇▄▇▅▆█▁▃</td></tr><tr><td>_step</td><td>▁▁▁▂▂▂▂▂▂▃▃▃▃▃▃▄▄▄▄▄▅▅▅▅▅▅▆▆▆▆▆▆▇▇▇▇▇███</td></tr><tr><td>_runtime</td><td>▁▁▁▁▁▁▁▁▁▁▁▁▁▁▁▁▁▁▁▁▁▁▁▁▁▁▁▁▁▁▁▁▁▁▁▁▁▁▁▁</td></tr><tr><td>_timestamp</td><td>▁▁▁▁▁▁▁▁▁▁▁▁▁▁▁▁▁▁▁▁▁▁▁▁▁▁▁▁▁▁▁▁▁▁▁▁▁▁▁▁</td></tr><tr><td>mean_test_accuracy</td><td>▁▁▁▁▁▁▁▁▁▁</td></tr><tr><td>cv_score_test_f1</td><td>▆▆▆▄▆▅▇█▁▃</td></tr><tr><td>mean_test_f1</td><td>▁▁▁▁▁▁▁▁▁▁</td></tr><tr><td>cv_score_test_roc_auc</td><td>▄▆▅▁▇▃▆█▂▄</td></tr><tr><td>mean_test_roc_auc</td><td>▁▁▁▁▁▁▁▁▁▁</td></tr><tr><td>cv_score_test_pr_auc</td><td>▄▇▅▁▆▃▆█▁▄</td></tr><tr><td>mean_test_pr_auc</td><td>▁▁▁▁▁▁▁▁▁▁</td></tr></table><br/>"
            ],
            "text/plain": [
              "<IPython.core.display.HTML object>"
            ]
          },
          "metadata": {
            "tags": []
          }
        },
        {
          "output_type": "display_data",
          "data": {
            "text/html": [
              "Synced 5 W&B file(s), 0 media file(s), 0 artifact file(s) and 1 other file(s)"
            ],
            "text/plain": [
              "<IPython.core.display.HTML object>"
            ]
          },
          "metadata": {
            "tags": []
          }
        },
        {
          "output_type": "display_data",
          "data": {
            "text/html": [
              "\n",
              "                    <br/>Synced <strong style=\"color:#cdcd00\">XGB</strong>: <a href=\"https://wandb.ai/christian_vadillo/InfoVac/runs/39wi4hxq\" target=\"_blank\">https://wandb.ai/christian_vadillo/InfoVac/runs/39wi4hxq</a><br/>\n",
              "                "
            ],
            "text/plain": [
              "<IPython.core.display.HTML object>"
            ]
          },
          "metadata": {
            "tags": []
          }
        },
        {
          "output_type": "display_data",
          "data": {
            "text/html": [
              "\n",
              "                Tracking run with wandb version 0.10.8<br/>\n",
              "                Syncing run <strong style=\"color:#cdcd00\">RF</strong> to <a href=\"https://wandb.ai\" target=\"_blank\">Weights & Biases</a> <a href=\"https://docs.wandb.com/integrations/jupyter.html\" target=\"_blank\">(Documentation)</a>.<br/>\n",
              "                Project page: <a href=\"https://wandb.ai/christian_vadillo/InfoVac\" target=\"_blank\">https://wandb.ai/christian_vadillo/InfoVac</a><br/>\n",
              "                Run page: <a href=\"https://wandb.ai/christian_vadillo/InfoVac/runs/v570pjx1\" target=\"_blank\">https://wandb.ai/christian_vadillo/InfoVac/runs/v570pjx1</a><br/>\n",
              "                Run data is saved locally in <code>wandb/run-20201029_164343-v570pjx1</code><br/><br/>\n",
              "            "
            ],
            "text/plain": [
              "<IPython.core.display.HTML object>"
            ]
          },
          "metadata": {
            "tags": []
          }
        },
        {
          "output_type": "stream",
          "text": [
            "\u001b[34m\u001b[1mwandb\u001b[0m: mean_test_accuracy logged\n",
            "\u001b[34m\u001b[1mwandb\u001b[0m: mean_test_f1 logged\n",
            "\u001b[34m\u001b[1mwandb\u001b[0m: mean_test_roc_auc logged\n",
            "\u001b[34m\u001b[1mwandb\u001b[0m: mean_test_pr_auc logged\n"
          ],
          "name": "stderr"
        },
        {
          "output_type": "display_data",
          "data": {
            "text/html": [
              "<br/>Waiting for W&B process to finish, PID 1738<br/>Program ended successfully."
            ],
            "text/plain": [
              "<IPython.core.display.HTML object>"
            ]
          },
          "metadata": {
            "tags": []
          }
        },
        {
          "output_type": "display_data",
          "data": {
            "application/vnd.jupyter.widget-view+json": {
              "model_id": "4e10919235c94549935bf35269b63f44",
              "version_minor": 0,
              "version_major": 2
            },
            "text/plain": [
              "VBox(children=(Label(value=' 0.00MB of 0.00MB uploaded (0.00MB deduped)\\r'), FloatProgress(value=1.0, max=1.0)…"
            ]
          },
          "metadata": {
            "tags": []
          }
        },
        {
          "output_type": "display_data",
          "data": {
            "text/html": [
              "Find user logs for this run at: <code>wandb/run-20201029_164343-v570pjx1/logs/debug.log</code>"
            ],
            "text/plain": [
              "<IPython.core.display.HTML object>"
            ]
          },
          "metadata": {
            "tags": []
          }
        },
        {
          "output_type": "display_data",
          "data": {
            "text/html": [
              "Find internal logs for this run at: <code>wandb/run-20201029_164343-v570pjx1/logs/debug-internal.log</code>"
            ],
            "text/plain": [
              "<IPython.core.display.HTML object>"
            ]
          },
          "metadata": {
            "tags": []
          }
        },
        {
          "output_type": "display_data",
          "data": {
            "text/html": [
              "<h3>Run summary:</h3><br/><style>\n",
              "    table.wandb td:nth-child(1) { padding: 0 10px; text-align: right }\n",
              "    </style><table class=\"wandb\">\n",
              "<tr><td>cv_score_test_accuracy</td><td>0.90134</td></tr><tr><td>_step</td><td>79</td></tr><tr><td>_runtime</td><td>78</td></tr><tr><td>_timestamp</td><td>1603989901</td></tr><tr><td>mean_test_accuracy</td><td>0.90626</td></tr><tr><td>cv_score_test_f1</td><td>0.90407</td></tr><tr><td>mean_test_f1</td><td>0.90897</td></tr><tr><td>cv_score_test_roc_auc</td><td>0.97569</td></tr><tr><td>mean_test_roc_auc</td><td>0.96819</td></tr><tr><td>cv_score_test_pr_auc</td><td>0.98384</td></tr><tr><td>mean_test_pr_auc</td><td>0.97956</td></tr></table>"
            ],
            "text/plain": [
              "<IPython.core.display.HTML object>"
            ]
          },
          "metadata": {
            "tags": []
          }
        },
        {
          "output_type": "display_data",
          "data": {
            "text/html": [
              "<h3>Run history:</h3><br/><style>\n",
              "    table.wandb td:nth-child(1) { padding: 0 10px; text-align: right }\n",
              "    </style><table class=\"wandb\">\n",
              "<tr><td>cv_score_test_accuracy</td><td>▆▅▆▅█▄▁▆▁▃</td></tr><tr><td>_step</td><td>▁▁▁▂▂▂▂▂▂▃▃▃▃▃▃▄▄▄▄▄▅▅▅▅▅▅▆▆▆▆▆▆▇▇▇▇▇███</td></tr><tr><td>_runtime</td><td>▁▁▁▁▁▁▁▁▁▁▁▁▁▁▁▁▁▁▁▁▁▁▁▁▁▁▁▁▁▁▁▁▁▁▁▁▁▁▁▁</td></tr><tr><td>_timestamp</td><td>▁▁▁▁▁▁▁▁▁▁▁▁▁▁▁▁▁▁▁▁▁▁▁▁▁▁▁▁▁▁▁▁▁▁▁▁▁▁▁▁</td></tr><tr><td>mean_test_accuracy</td><td>▁▁▁▁▁▁▁▁▁▁</td></tr><tr><td>cv_score_test_f1</td><td>▆▇▅▄█▅▄█▁▄</td></tr><tr><td>mean_test_f1</td><td>▁▁▁▁▁▁▁▁▁▁</td></tr><tr><td>cv_score_test_roc_auc</td><td>▅▄▄▁█▃▄▆▁▆</td></tr><tr><td>mean_test_roc_auc</td><td>▁▁▁▁▁▁▁▁▁▁</td></tr><tr><td>cv_score_test_pr_auc</td><td>▅▆▅▁█▄▆▇▁▇</td></tr><tr><td>mean_test_pr_auc</td><td>▁▁▁▁▁▁▁▁▁▁</td></tr></table><br/>"
            ],
            "text/plain": [
              "<IPython.core.display.HTML object>"
            ]
          },
          "metadata": {
            "tags": []
          }
        },
        {
          "output_type": "display_data",
          "data": {
            "text/html": [
              "Synced 5 W&B file(s), 0 media file(s), 0 artifact file(s) and 1 other file(s)"
            ],
            "text/plain": [
              "<IPython.core.display.HTML object>"
            ]
          },
          "metadata": {
            "tags": []
          }
        },
        {
          "output_type": "display_data",
          "data": {
            "text/html": [
              "\n",
              "                    <br/>Synced <strong style=\"color:#cdcd00\">RF</strong>: <a href=\"https://wandb.ai/christian_vadillo/InfoVac/runs/v570pjx1\" target=\"_blank\">https://wandb.ai/christian_vadillo/InfoVac/runs/v570pjx1</a><br/>\n",
              "                "
            ],
            "text/plain": [
              "<IPython.core.display.HTML object>"
            ]
          },
          "metadata": {
            "tags": []
          }
        },
        {
          "output_type": "display_data",
          "data": {
            "text/html": [
              "\n",
              "                Tracking run with wandb version 0.10.8<br/>\n",
              "                Syncing run <strong style=\"color:#cdcd00\">NB</strong> to <a href=\"https://wandb.ai\" target=\"_blank\">Weights & Biases</a> <a href=\"https://docs.wandb.com/integrations/jupyter.html\" target=\"_blank\">(Documentation)</a>.<br/>\n",
              "                Project page: <a href=\"https://wandb.ai/christian_vadillo/InfoVac\" target=\"_blank\">https://wandb.ai/christian_vadillo/InfoVac</a><br/>\n",
              "                Run page: <a href=\"https://wandb.ai/christian_vadillo/InfoVac/runs/c8t1mtzb\" target=\"_blank\">https://wandb.ai/christian_vadillo/InfoVac/runs/c8t1mtzb</a><br/>\n",
              "                Run data is saved locally in <code>wandb/run-20201029_164506-c8t1mtzb</code><br/><br/>\n",
              "            "
            ],
            "text/plain": [
              "<IPython.core.display.HTML object>"
            ]
          },
          "metadata": {
            "tags": []
          }
        },
        {
          "output_type": "stream",
          "text": [
            "\u001b[34m\u001b[1mwandb\u001b[0m: mean_test_accuracy logged\n",
            "\u001b[34m\u001b[1mwandb\u001b[0m: mean_test_f1 logged\n",
            "\u001b[34m\u001b[1mwandb\u001b[0m: mean_test_roc_auc logged\n",
            "\u001b[34m\u001b[1mwandb\u001b[0m: mean_test_pr_auc logged\n"
          ],
          "name": "stderr"
        },
        {
          "output_type": "display_data",
          "data": {
            "text/html": [
              "<br/>Waiting for W&B process to finish, PID 1767<br/>Program ended successfully."
            ],
            "text/plain": [
              "<IPython.core.display.HTML object>"
            ]
          },
          "metadata": {
            "tags": []
          }
        },
        {
          "output_type": "display_data",
          "data": {
            "application/vnd.jupyter.widget-view+json": {
              "model_id": "1d0e4ffbfc714a309f89f20f3e133b0e",
              "version_minor": 0,
              "version_major": 2
            },
            "text/plain": [
              "VBox(children=(Label(value=' 0.00MB of 0.00MB uploaded (0.00MB deduped)\\r'), FloatProgress(value=1.0, max=1.0)…"
            ]
          },
          "metadata": {
            "tags": []
          }
        },
        {
          "output_type": "display_data",
          "data": {
            "text/html": [
              "Find user logs for this run at: <code>wandb/run-20201029_164506-c8t1mtzb/logs/debug.log</code>"
            ],
            "text/plain": [
              "<IPython.core.display.HTML object>"
            ]
          },
          "metadata": {
            "tags": []
          }
        },
        {
          "output_type": "display_data",
          "data": {
            "text/html": [
              "Find internal logs for this run at: <code>wandb/run-20201029_164506-c8t1mtzb/logs/debug-internal.log</code>"
            ],
            "text/plain": [
              "<IPython.core.display.HTML object>"
            ]
          },
          "metadata": {
            "tags": []
          }
        },
        {
          "output_type": "display_data",
          "data": {
            "text/html": [
              "<h3>Run summary:</h3><br/><style>\n",
              "    table.wandb td:nth-child(1) { padding: 0 10px; text-align: right }\n",
              "    </style><table class=\"wandb\">\n",
              "<tr><td>cv_score_test_accuracy</td><td>0.78763</td></tr><tr><td>_step</td><td>79</td></tr><tr><td>_runtime</td><td>68</td></tr><tr><td>_timestamp</td><td>1603989974</td></tr><tr><td>mean_test_accuracy</td><td>0.77828</td></tr><tr><td>cv_score_test_f1</td><td>0.83571</td></tr><tr><td>mean_test_f1</td><td>0.82655</td></tr><tr><td>cv_score_test_roc_auc</td><td>0.7631</td></tr><tr><td>mean_test_roc_auc</td><td>0.75516</td></tr><tr><td>cv_score_test_pr_auc</td><td>0.73227</td></tr><tr><td>mean_test_pr_auc</td><td>0.72574</td></tr></table>"
            ],
            "text/plain": [
              "<IPython.core.display.HTML object>"
            ]
          },
          "metadata": {
            "tags": []
          }
        },
        {
          "output_type": "display_data",
          "data": {
            "text/html": [
              "<h3>Run history:</h3><br/><style>\n",
              "    table.wandb td:nth-child(1) { padding: 0 10px; text-align: right }\n",
              "    </style><table class=\"wandb\">\n",
              "<tr><td>cv_score_test_accuracy</td><td>▁▅▅▂▅▄██▂▆</td></tr><tr><td>_step</td><td>▁▁▁▂▂▂▂▂▂▃▃▃▃▃▃▄▄▄▄▄▅▅▅▅▅▅▆▆▆▆▆▆▇▇▇▇▇███</td></tr><tr><td>_runtime</td><td>▁▁▁▁▁▁▁▁▁▁▁▁▁▁▁▁▁▁▁▁▁▁▁▁▁▁▁▁▁▁▁▁▁▁▁▁▁▁▁▁</td></tr><tr><td>_timestamp</td><td>▁▁▁▁▁▁▁▁▁▁▁▁▁▁▁▁▁▁▁▁▁▁▁▁▁▁▁▁▁▁▁▁▁▁▁▁▁▁▁▁</td></tr><tr><td>mean_test_accuracy</td><td>▁▁▁▁▁▁▁▁▁▁</td></tr><tr><td>cv_score_test_f1</td><td>▁▆▄▂▄▄██▂▆</td></tr><tr><td>mean_test_f1</td><td>▁▁▁▁▁▁▁▁▁▁</td></tr><tr><td>cv_score_test_roc_auc</td><td>▁▂▇▄▆▄██▄▆</td></tr><tr><td>mean_test_roc_auc</td><td>▁▁▁▁▁▁▁▁▁▁</td></tr><tr><td>cv_score_test_pr_auc</td><td>▁▅▃▁▃▄█▇▁▅</td></tr><tr><td>mean_test_pr_auc</td><td>▁▁▁▁▁▁▁▁▁▁</td></tr></table><br/>"
            ],
            "text/plain": [
              "<IPython.core.display.HTML object>"
            ]
          },
          "metadata": {
            "tags": []
          }
        },
        {
          "output_type": "display_data",
          "data": {
            "text/html": [
              "Synced 5 W&B file(s), 0 media file(s), 0 artifact file(s) and 1 other file(s)"
            ],
            "text/plain": [
              "<IPython.core.display.HTML object>"
            ]
          },
          "metadata": {
            "tags": []
          }
        },
        {
          "output_type": "display_data",
          "data": {
            "text/html": [
              "\n",
              "                    <br/>Synced <strong style=\"color:#cdcd00\">NB</strong>: <a href=\"https://wandb.ai/christian_vadillo/InfoVac/runs/c8t1mtzb\" target=\"_blank\">https://wandb.ai/christian_vadillo/InfoVac/runs/c8t1mtzb</a><br/>\n",
              "                "
            ],
            "text/plain": [
              "<IPython.core.display.HTML object>"
            ]
          },
          "metadata": {
            "tags": []
          }
        },
        {
          "output_type": "display_data",
          "data": {
            "text/html": [
              "\n",
              "                Tracking run with wandb version 0.10.8<br/>\n",
              "                Syncing run <strong style=\"color:#cdcd00\">SGD</strong> to <a href=\"https://wandb.ai\" target=\"_blank\">Weights & Biases</a> <a href=\"https://docs.wandb.com/integrations/jupyter.html\" target=\"_blank\">(Documentation)</a>.<br/>\n",
              "                Project page: <a href=\"https://wandb.ai/christian_vadillo/InfoVac\" target=\"_blank\">https://wandb.ai/christian_vadillo/InfoVac</a><br/>\n",
              "                Run page: <a href=\"https://wandb.ai/christian_vadillo/InfoVac/runs/10vvwc37\" target=\"_blank\">https://wandb.ai/christian_vadillo/InfoVac/runs/10vvwc37</a><br/>\n",
              "                Run data is saved locally in <code>wandb/run-20201029_164620-10vvwc37</code><br/><br/>\n",
              "            "
            ],
            "text/plain": [
              "<IPython.core.display.HTML object>"
            ]
          },
          "metadata": {
            "tags": []
          }
        },
        {
          "output_type": "stream",
          "text": [
            "\u001b[34m\u001b[1mwandb\u001b[0m: mean_test_accuracy logged\n",
            "\u001b[34m\u001b[1mwandb\u001b[0m: mean_test_f1 logged\n",
            "\u001b[34m\u001b[1mwandb\u001b[0m: mean_test_roc_auc logged\n",
            "\u001b[34m\u001b[1mwandb\u001b[0m: mean_test_pr_auc logged\n"
          ],
          "name": "stderr"
        },
        {
          "output_type": "display_data",
          "data": {
            "text/html": [
              "<br/>Waiting for W&B process to finish, PID 1800<br/>Program ended successfully."
            ],
            "text/plain": [
              "<IPython.core.display.HTML object>"
            ]
          },
          "metadata": {
            "tags": []
          }
        },
        {
          "output_type": "display_data",
          "data": {
            "application/vnd.jupyter.widget-view+json": {
              "model_id": "8be4a38e57df4afc8999eb9a82b5d9fa",
              "version_minor": 0,
              "version_major": 2
            },
            "text/plain": [
              "VBox(children=(Label(value=' 0.00MB of 0.00MB uploaded (0.00MB deduped)\\r'), FloatProgress(value=1.0, max=1.0)…"
            ]
          },
          "metadata": {
            "tags": []
          }
        },
        {
          "output_type": "display_data",
          "data": {
            "text/html": [
              "Find user logs for this run at: <code>wandb/run-20201029_164620-10vvwc37/logs/debug.log</code>"
            ],
            "text/plain": [
              "<IPython.core.display.HTML object>"
            ]
          },
          "metadata": {
            "tags": []
          }
        },
        {
          "output_type": "display_data",
          "data": {
            "text/html": [
              "Find internal logs for this run at: <code>wandb/run-20201029_164620-10vvwc37/logs/debug-internal.log</code>"
            ],
            "text/plain": [
              "<IPython.core.display.HTML object>"
            ]
          },
          "metadata": {
            "tags": []
          }
        },
        {
          "output_type": "display_data",
          "data": {
            "text/html": [
              "<h3>Run summary:</h3><br/><style>\n",
              "    table.wandb td:nth-child(1) { padding: 0 10px; text-align: right }\n",
              "    </style><table class=\"wandb\">\n",
              "<tr><td>cv_score_test_accuracy</td><td>0.91806</td></tr><tr><td>_step</td><td>79</td></tr><tr><td>_runtime</td><td>31</td></tr><tr><td>_timestamp</td><td>1603990011</td></tr><tr><td>mean_test_accuracy</td><td>0.9193</td></tr><tr><td>cv_score_test_f1</td><td>0.92542</td></tr><tr><td>mean_test_f1</td><td>0.92655</td></tr><tr><td>cv_score_test_roc_auc</td><td>0.97353</td></tr><tr><td>mean_test_roc_auc</td><td>0.97169</td></tr><tr><td>cv_score_test_pr_auc</td><td>0.98253</td></tr><tr><td>mean_test_pr_auc</td><td>0.9821</td></tr></table>"
            ],
            "text/plain": [
              "<IPython.core.display.HTML object>"
            ]
          },
          "metadata": {
            "tags": []
          }
        },
        {
          "output_type": "display_data",
          "data": {
            "text/html": [
              "<h3>Run history:</h3><br/><style>\n",
              "    table.wandb td:nth-child(1) { padding: 0 10px; text-align: right }\n",
              "    </style><table class=\"wandb\">\n",
              "<tr><td>cv_score_test_accuracy</td><td>▅▃█▁▆▄▄▅▂▄</td></tr><tr><td>_step</td><td>▁▁▁▂▂▂▂▂▂▃▃▃▃▃▃▄▄▄▄▄▅▅▅▅▅▅▆▆▆▆▆▆▇▇▇▇▇███</td></tr><tr><td>_runtime</td><td>▁▁▁▁▁▁▁▁▁▁▁▁▁▁▁▁▁▁▁▁▁▁▁▁▁▁▁▁▁▁▁▁▁▁▁▁▁▁▁▁</td></tr><tr><td>_timestamp</td><td>▁▁▁▁▁▁▁▁▁▁▁▁▁▁▁▁▁▁▁▁▁▁▁▁▁▁▁▁▁▁▁▁▁▁▁▁▁▁▁▁</td></tr><tr><td>mean_test_accuracy</td><td>▁▁▁▁▁▁▁▁▁▁</td></tr><tr><td>cv_score_test_f1</td><td>▅▅█▁▇▅▅▆▂▅</td></tr><tr><td>mean_test_f1</td><td>▁▁▁▁▁▁▁▁▁▁</td></tr><tr><td>cv_score_test_roc_auc</td><td>▄▆█▁▅▂▆▆▁▅</td></tr><tr><td>mean_test_roc_auc</td><td>▁▁▁▁▁▁▁▁▁▁</td></tr><tr><td>cv_score_test_pr_auc</td><td>▅▇█▁▅▄▇▇▂▅</td></tr><tr><td>mean_test_pr_auc</td><td>▁▁▁▁▁▁▁▁▁▁</td></tr></table><br/>"
            ],
            "text/plain": [
              "<IPython.core.display.HTML object>"
            ]
          },
          "metadata": {
            "tags": []
          }
        },
        {
          "output_type": "display_data",
          "data": {
            "text/html": [
              "Synced 5 W&B file(s), 0 media file(s), 0 artifact file(s) and 1 other file(s)"
            ],
            "text/plain": [
              "<IPython.core.display.HTML object>"
            ]
          },
          "metadata": {
            "tags": []
          }
        },
        {
          "output_type": "display_data",
          "data": {
            "text/html": [
              "\n",
              "                    <br/>Synced <strong style=\"color:#cdcd00\">SGD</strong>: <a href=\"https://wandb.ai/christian_vadillo/InfoVac/runs/10vvwc37\" target=\"_blank\">https://wandb.ai/christian_vadillo/InfoVac/runs/10vvwc37</a><br/>\n",
              "                "
            ],
            "text/plain": [
              "<IPython.core.display.HTML object>"
            ]
          },
          "metadata": {
            "tags": []
          }
        },
        {
          "output_type": "display_data",
          "data": {
            "text/html": [
              "\n",
              "                Tracking run with wandb version 0.10.8<br/>\n",
              "                Syncing run <strong style=\"color:#cdcd00\">LR</strong> to <a href=\"https://wandb.ai\" target=\"_blank\">Weights & Biases</a> <a href=\"https://docs.wandb.com/integrations/jupyter.html\" target=\"_blank\">(Documentation)</a>.<br/>\n",
              "                Project page: <a href=\"https://wandb.ai/christian_vadillo/InfoVac\" target=\"_blank\">https://wandb.ai/christian_vadillo/InfoVac</a><br/>\n",
              "                Run page: <a href=\"https://wandb.ai/christian_vadillo/InfoVac/runs/1wzctzb4\" target=\"_blank\">https://wandb.ai/christian_vadillo/InfoVac/runs/1wzctzb4</a><br/>\n",
              "                Run data is saved locally in <code>wandb/run-20201029_164654-1wzctzb4</code><br/><br/>\n",
              "            "
            ],
            "text/plain": [
              "<IPython.core.display.HTML object>"
            ]
          },
          "metadata": {
            "tags": []
          }
        },
        {
          "output_type": "stream",
          "text": [
            "\u001b[34m\u001b[1mwandb\u001b[0m: mean_test_accuracy logged\n",
            "\u001b[34m\u001b[1mwandb\u001b[0m: mean_test_f1 logged\n",
            "\u001b[34m\u001b[1mwandb\u001b[0m: mean_test_roc_auc logged\n",
            "\u001b[34m\u001b[1mwandb\u001b[0m: mean_test_pr_auc logged\n"
          ],
          "name": "stderr"
        },
        {
          "output_type": "display_data",
          "data": {
            "text/html": [
              "<br/>Waiting for W&B process to finish, PID 1829<br/>Program ended successfully."
            ],
            "text/plain": [
              "<IPython.core.display.HTML object>"
            ]
          },
          "metadata": {
            "tags": []
          }
        },
        {
          "output_type": "display_data",
          "data": {
            "application/vnd.jupyter.widget-view+json": {
              "model_id": "c5647de56e414415b876d7d3a6aada46",
              "version_minor": 0,
              "version_major": 2
            },
            "text/plain": [
              "VBox(children=(Label(value=' 0.00MB of 0.00MB uploaded (0.00MB deduped)\\r'), FloatProgress(value=1.0, max=1.0)…"
            ]
          },
          "metadata": {
            "tags": []
          }
        },
        {
          "output_type": "display_data",
          "data": {
            "text/html": [
              "Find user logs for this run at: <code>wandb/run-20201029_164654-1wzctzb4/logs/debug.log</code>"
            ],
            "text/plain": [
              "<IPython.core.display.HTML object>"
            ]
          },
          "metadata": {
            "tags": []
          }
        },
        {
          "output_type": "display_data",
          "data": {
            "text/html": [
              "Find internal logs for this run at: <code>wandb/run-20201029_164654-1wzctzb4/logs/debug-internal.log</code>"
            ],
            "text/plain": [
              "<IPython.core.display.HTML object>"
            ]
          },
          "metadata": {
            "tags": []
          }
        },
        {
          "output_type": "display_data",
          "data": {
            "text/html": [
              "<h3>Run summary:</h3><br/><style>\n",
              "    table.wandb td:nth-child(1) { padding: 0 10px; text-align: right }\n",
              "    </style><table class=\"wandb\">\n",
              "<tr><td>cv_score_test_accuracy</td><td>0.90803</td></tr><tr><td>_step</td><td>79</td></tr><tr><td>_runtime</td><td>32</td></tr><tr><td>_timestamp</td><td>1603990046</td></tr><tr><td>mean_test_accuracy</td><td>0.90827</td></tr><tr><td>cv_score_test_f1</td><td>0.91499</td></tr><tr><td>mean_test_f1</td><td>0.91539</td></tr><tr><td>cv_score_test_roc_auc</td><td>0.96809</td></tr><tr><td>mean_test_roc_auc</td><td>0.96535</td></tr><tr><td>cv_score_test_pr_auc</td><td>0.97976</td></tr><tr><td>mean_test_pr_auc</td><td>0.97822</td></tr></table>"
            ],
            "text/plain": [
              "<IPython.core.display.HTML object>"
            ]
          },
          "metadata": {
            "tags": []
          }
        },
        {
          "output_type": "display_data",
          "data": {
            "text/html": [
              "<h3>Run history:</h3><br/><style>\n",
              "    table.wandb td:nth-child(1) { padding: 0 10px; text-align: right }\n",
              "    </style><table class=\"wandb\">\n",
              "<tr><td>cv_score_test_accuracy</td><td>▁▄▇▂█▅▅▃▁▄</td></tr><tr><td>_step</td><td>▁▁▁▂▂▂▂▂▂▃▃▃▃▃▃▄▄▄▄▄▅▅▅▅▅▅▆▆▆▆▆▆▇▇▇▇▇███</td></tr><tr><td>_runtime</td><td>▁▁▁▁▁▁▁▁▁▁▁▁▁▁▁▁▁▁▁▁▁▁▁▁▁▁▁▁▁▁▁▁▁▁▁▁▁▁▁▁</td></tr><tr><td>_timestamp</td><td>▁▁▁▁▁▁▁▁▁▁▁▁▁▁▁▁▁▁▁▁▁▁▁▁▁▁▁▁▁▁▁▁▁▁▁▁▁▁▁▁</td></tr><tr><td>mean_test_accuracy</td><td>▁▁▁▁▁▁▁▁▁▁</td></tr><tr><td>cv_score_test_f1</td><td>▂▅▇▂█▆▆▄▁▄</td></tr><tr><td>mean_test_f1</td><td>▁▁▁▁▁▁▁▁▁▁</td></tr><tr><td>cv_score_test_roc_auc</td><td>▅▆█▁▆▁▅█▁▆</td></tr><tr><td>mean_test_roc_auc</td><td>▁▁▁▁▁▁▁▁▁▁</td></tr><tr><td>cv_score_test_pr_auc</td><td>▄▇▇▁▆▄▆█▁▆</td></tr><tr><td>mean_test_pr_auc</td><td>▁▁▁▁▁▁▁▁▁▁</td></tr></table><br/>"
            ],
            "text/plain": [
              "<IPython.core.display.HTML object>"
            ]
          },
          "metadata": {
            "tags": []
          }
        },
        {
          "output_type": "display_data",
          "data": {
            "text/html": [
              "Synced 5 W&B file(s), 0 media file(s), 0 artifact file(s) and 1 other file(s)"
            ],
            "text/plain": [
              "<IPython.core.display.HTML object>"
            ]
          },
          "metadata": {
            "tags": []
          }
        },
        {
          "output_type": "display_data",
          "data": {
            "text/html": [
              "\n",
              "                    <br/>Synced <strong style=\"color:#cdcd00\">LR</strong>: <a href=\"https://wandb.ai/christian_vadillo/InfoVac/runs/1wzctzb4\" target=\"_blank\">https://wandb.ai/christian_vadillo/InfoVac/runs/1wzctzb4</a><br/>\n",
              "                "
            ],
            "text/plain": [
              "<IPython.core.display.HTML object>"
            ]
          },
          "metadata": {
            "tags": []
          }
        },
        {
          "output_type": "display_data",
          "data": {
            "text/html": [
              "\n",
              "                Tracking run with wandb version 0.10.8<br/>\n",
              "                Syncing run <strong style=\"color:#cdcd00\">KNN</strong> to <a href=\"https://wandb.ai\" target=\"_blank\">Weights & Biases</a> <a href=\"https://docs.wandb.com/integrations/jupyter.html\" target=\"_blank\">(Documentation)</a>.<br/>\n",
              "                Project page: <a href=\"https://wandb.ai/christian_vadillo/InfoVac\" target=\"_blank\">https://wandb.ai/christian_vadillo/InfoVac</a><br/>\n",
              "                Run page: <a href=\"https://wandb.ai/christian_vadillo/InfoVac/runs/3sgyanw8\" target=\"_blank\">https://wandb.ai/christian_vadillo/InfoVac/runs/3sgyanw8</a><br/>\n",
              "                Run data is saved locally in <code>wandb/run-20201029_164729-3sgyanw8</code><br/><br/>\n",
              "            "
            ],
            "text/plain": [
              "<IPython.core.display.HTML object>"
            ]
          },
          "metadata": {
            "tags": []
          }
        },
        {
          "output_type": "stream",
          "text": [
            "\u001b[34m\u001b[1mwandb\u001b[0m: mean_test_accuracy logged\n",
            "\u001b[34m\u001b[1mwandb\u001b[0m: mean_test_f1 logged\n",
            "\u001b[34m\u001b[1mwandb\u001b[0m: mean_test_roc_auc logged\n",
            "\u001b[34m\u001b[1mwandb\u001b[0m: mean_test_pr_auc logged\n"
          ],
          "name": "stderr"
        },
        {
          "output_type": "display_data",
          "data": {
            "text/html": [
              "<br/>Waiting for W&B process to finish, PID 1858<br/>Program ended successfully."
            ],
            "text/plain": [
              "<IPython.core.display.HTML object>"
            ]
          },
          "metadata": {
            "tags": []
          }
        },
        {
          "output_type": "display_data",
          "data": {
            "application/vnd.jupyter.widget-view+json": {
              "model_id": "d81fcc0d3fc8401e969b2a0a2f4f940e",
              "version_minor": 0,
              "version_major": 2
            },
            "text/plain": [
              "VBox(children=(Label(value=' 0.00MB of 0.00MB uploaded (0.00MB deduped)\\r'), FloatProgress(value=1.0, max=1.0)…"
            ]
          },
          "metadata": {
            "tags": []
          }
        },
        {
          "output_type": "display_data",
          "data": {
            "text/html": [
              "Find user logs for this run at: <code>wandb/run-20201029_164729-3sgyanw8/logs/debug.log</code>"
            ],
            "text/plain": [
              "<IPython.core.display.HTML object>"
            ]
          },
          "metadata": {
            "tags": []
          }
        },
        {
          "output_type": "display_data",
          "data": {
            "text/html": [
              "Find internal logs for this run at: <code>wandb/run-20201029_164729-3sgyanw8/logs/debug-internal.log</code>"
            ],
            "text/plain": [
              "<IPython.core.display.HTML object>"
            ]
          },
          "metadata": {
            "tags": []
          }
        },
        {
          "output_type": "display_data",
          "data": {
            "text/html": [
              "<h3>Run summary:</h3><br/><style>\n",
              "    table.wandb td:nth-child(1) { padding: 0 10px; text-align: right }\n",
              "    </style><table class=\"wandb\">\n",
              "<tr><td>cv_score_test_accuracy</td><td>0.81438</td></tr><tr><td>_step</td><td>79</td></tr><tr><td>_runtime</td><td>34</td></tr><tr><td>_timestamp</td><td>1603990083</td></tr><tr><td>mean_test_accuracy</td><td>0.80769</td></tr><tr><td>cv_score_test_f1</td><td>0.85452</td></tr><tr><td>mean_test_f1</td><td>0.8493</td></tr><tr><td>cv_score_test_roc_auc</td><td>0.91794</td></tr><tr><td>mean_test_roc_auc</td><td>0.89759</td></tr><tr><td>cv_score_test_pr_auc</td><td>0.89924</td></tr><tr><td>mean_test_pr_auc</td><td>0.87431</td></tr></table>"
            ],
            "text/plain": [
              "<IPython.core.display.HTML object>"
            ]
          },
          "metadata": {
            "tags": []
          }
        },
        {
          "output_type": "display_data",
          "data": {
            "text/html": [
              "<h3>Run history:</h3><br/><style>\n",
              "    table.wandb td:nth-child(1) { padding: 0 10px; text-align: right }\n",
              "    </style><table class=\"wandb\">\n",
              "<tr><td>cv_score_test_accuracy</td><td>▃▃▆▃▃▄██▁▅</td></tr><tr><td>_step</td><td>▁▁▁▂▂▂▂▂▂▃▃▃▃▃▃▄▄▄▄▄▅▅▅▅▅▅▆▆▆▆▆▆▇▇▇▇▇███</td></tr><tr><td>_runtime</td><td>▁▁▁▁▁▁▁▁▁▁▁▁▁▁▁▁▁▁▁▁▁▁▁▁▁▁▁▁▁▁▁▁▁▁▁▁▁▁▁▁</td></tr><tr><td>_timestamp</td><td>▁▁▁▁▁▁▁▁▁▁▁▁▁▁▁▁▁▁▁▁▁▁▁▁▁▁▁▁▁▁▁▁▁▁▁▁▁▁▁▁</td></tr><tr><td>mean_test_accuracy</td><td>▁▁▁▁▁▁▁▁▁▁</td></tr><tr><td>cv_score_test_f1</td><td>▃▄▅▂▃▄██▁▅</td></tr><tr><td>mean_test_f1</td><td>▁▁▁▁▁▁▁▁▁▁</td></tr><tr><td>cv_score_test_roc_auc</td><td>▃▁▇▅▅▂▅█▃█</td></tr><tr><td>mean_test_roc_auc</td><td>▁▁▁▁▁▁▁▁▁▁</td></tr><tr><td>cv_score_test_pr_auc</td><td>▂▂▄▃▄▂▆█▁▇</td></tr><tr><td>mean_test_pr_auc</td><td>▁▁▁▁▁▁▁▁▁▁</td></tr></table><br/>"
            ],
            "text/plain": [
              "<IPython.core.display.HTML object>"
            ]
          },
          "metadata": {
            "tags": []
          }
        },
        {
          "output_type": "display_data",
          "data": {
            "text/html": [
              "Synced 5 W&B file(s), 0 media file(s), 0 artifact file(s) and 1 other file(s)"
            ],
            "text/plain": [
              "<IPython.core.display.HTML object>"
            ]
          },
          "metadata": {
            "tags": []
          }
        },
        {
          "output_type": "display_data",
          "data": {
            "text/html": [
              "\n",
              "                    <br/>Synced <strong style=\"color:#cdcd00\">KNN</strong>: <a href=\"https://wandb.ai/christian_vadillo/InfoVac/runs/3sgyanw8\" target=\"_blank\">https://wandb.ai/christian_vadillo/InfoVac/runs/3sgyanw8</a><br/>\n",
              "                "
            ],
            "text/plain": [
              "<IPython.core.display.HTML object>"
            ]
          },
          "metadata": {
            "tags": []
          }
        },
        {
          "output_type": "display_data",
          "data": {
            "text/html": [
              "\n",
              "                Tracking run with wandb version 0.10.8<br/>\n",
              "                Syncing run <strong style=\"color:#cdcd00\">SVM</strong> to <a href=\"https://wandb.ai\" target=\"_blank\">Weights & Biases</a> <a href=\"https://docs.wandb.com/integrations/jupyter.html\" target=\"_blank\">(Documentation)</a>.<br/>\n",
              "                Project page: <a href=\"https://wandb.ai/christian_vadillo/InfoVac\" target=\"_blank\">https://wandb.ai/christian_vadillo/InfoVac</a><br/>\n",
              "                Run page: <a href=\"https://wandb.ai/christian_vadillo/InfoVac/runs/2s001yeo\" target=\"_blank\">https://wandb.ai/christian_vadillo/InfoVac/runs/2s001yeo</a><br/>\n",
              "                Run data is saved locally in <code>wandb/run-20201029_164807-2s001yeo</code><br/><br/>\n",
              "            "
            ],
            "text/plain": [
              "<IPython.core.display.HTML object>"
            ]
          },
          "metadata": {
            "tags": []
          }
        },
        {
          "output_type": "stream",
          "text": [
            "\u001b[34m\u001b[1mwandb\u001b[0m: mean_test_accuracy logged\n",
            "\u001b[34m\u001b[1mwandb\u001b[0m: mean_test_f1 logged\n",
            "\u001b[34m\u001b[1mwandb\u001b[0m: mean_test_roc_auc logged\n",
            "\u001b[34m\u001b[1mwandb\u001b[0m: mean_test_pr_auc logged\n"
          ],
          "name": "stderr"
        },
        {
          "output_type": "display_data",
          "data": {
            "text/html": [
              "<br/>Waiting for W&B process to finish, PID 1887<br/>Program ended successfully."
            ],
            "text/plain": [
              "<IPython.core.display.HTML object>"
            ]
          },
          "metadata": {
            "tags": []
          }
        },
        {
          "output_type": "display_data",
          "data": {
            "application/vnd.jupyter.widget-view+json": {
              "model_id": "3ee34ece9ea8409c9cfb7dde9b02c45d",
              "version_minor": 0,
              "version_major": 2
            },
            "text/plain": [
              "VBox(children=(Label(value=' 0.00MB of 0.00MB uploaded (0.00MB deduped)\\r'), FloatProgress(value=1.0, max=1.0)…"
            ]
          },
          "metadata": {
            "tags": []
          }
        },
        {
          "output_type": "display_data",
          "data": {
            "text/html": [
              "Find user logs for this run at: <code>wandb/run-20201029_164807-2s001yeo/logs/debug.log</code>"
            ],
            "text/plain": [
              "<IPython.core.display.HTML object>"
            ]
          },
          "metadata": {
            "tags": []
          }
        },
        {
          "output_type": "display_data",
          "data": {
            "text/html": [
              "Find internal logs for this run at: <code>wandb/run-20201029_164807-2s001yeo/logs/debug-internal.log</code>"
            ],
            "text/plain": [
              "<IPython.core.display.HTML object>"
            ]
          },
          "metadata": {
            "tags": []
          }
        },
        {
          "output_type": "display_data",
          "data": {
            "text/html": [
              "<h3>Run summary:</h3><br/><style>\n",
              "    table.wandb td:nth-child(1) { padding: 0 10px; text-align: right }\n",
              "    </style><table class=\"wandb\">\n",
              "<tr><td>cv_score_test_accuracy</td><td>0.91472</td></tr><tr><td>_step</td><td>79</td></tr><tr><td>_runtime</td><td>374</td></tr><tr><td>_timestamp</td><td>1603990461</td></tr><tr><td>mean_test_accuracy</td><td>0.91729</td></tr><tr><td>cv_score_test_f1</td><td>0.91969</td></tr><tr><td>mean_test_f1</td><td>0.92233</td></tr><tr><td>cv_score_test_roc_auc</td><td>0.97394</td></tr><tr><td>mean_test_roc_auc</td><td>0.97085</td></tr><tr><td>cv_score_test_pr_auc</td><td>0.98317</td></tr><tr><td>mean_test_pr_auc</td><td>0.98169</td></tr></table>"
            ],
            "text/plain": [
              "<IPython.core.display.HTML object>"
            ]
          },
          "metadata": {
            "tags": []
          }
        },
        {
          "output_type": "display_data",
          "data": {
            "text/html": [
              "<h3>Run history:</h3><br/><style>\n",
              "    table.wandb td:nth-child(1) { padding: 0 10px; text-align: right }\n",
              "    </style><table class=\"wandb\">\n",
              "<tr><td>cv_score_test_accuracy</td><td>▄▅▆▁█▅▃▄▁▄</td></tr><tr><td>_step</td><td>▁▁▁▂▂▂▂▂▂▃▃▃▃▃▃▄▄▄▄▄▅▅▅▅▅▅▆▆▆▆▆▆▇▇▇▇▇███</td></tr><tr><td>_runtime</td><td>▁▁▁▁▁▁▁▁▁▁▁▁▁▁▁▁▁▁▁▁▁▁▁▁▁▁▁▁▁▁▁▁▁▁▁▁▁▁▁▁</td></tr><tr><td>_timestamp</td><td>▁▁▁▁▁▁▁▁▁▁▁▁▁▁▁▁▁▁▁▁▁▁▁▁▁▁▁▁▁▁▁▁▁▁▁▁▁▁▁▁</td></tr><tr><td>mean_test_accuracy</td><td>▁▁▁▁▁▁▁▁▁▁</td></tr><tr><td>cv_score_test_f1</td><td>▅▆▆▁█▆▅▅▁▄</td></tr><tr><td>mean_test_f1</td><td>▁▁▁▁▁▁▁▁▁▁</td></tr><tr><td>cv_score_test_roc_auc</td><td>▄▆█▁▅▁▅▇▂▅</td></tr><tr><td>mean_test_roc_auc</td><td>▁▁▁▁▁▁▁▁▁▁</td></tr><tr><td>cv_score_test_pr_auc</td><td>▅▇█▁▆▄▇█▂▆</td></tr><tr><td>mean_test_pr_auc</td><td>▁▁▁▁▁▁▁▁▁▁</td></tr></table><br/>"
            ],
            "text/plain": [
              "<IPython.core.display.HTML object>"
            ]
          },
          "metadata": {
            "tags": []
          }
        },
        {
          "output_type": "display_data",
          "data": {
            "text/html": [
              "Synced 5 W&B file(s), 0 media file(s), 0 artifact file(s) and 1 other file(s)"
            ],
            "text/plain": [
              "<IPython.core.display.HTML object>"
            ]
          },
          "metadata": {
            "tags": []
          }
        },
        {
          "output_type": "display_data",
          "data": {
            "text/html": [
              "\n",
              "                    <br/>Synced <strong style=\"color:#cdcd00\">SVM</strong>: <a href=\"https://wandb.ai/christian_vadillo/InfoVac/runs/2s001yeo\" target=\"_blank\">https://wandb.ai/christian_vadillo/InfoVac/runs/2s001yeo</a><br/>\n",
              "                "
            ],
            "text/plain": [
              "<IPython.core.display.HTML object>"
            ]
          },
          "metadata": {
            "tags": []
          }
        }
      ]
    },
    {
      "cell_type": "markdown",
      "metadata": {
        "id": "yU9uz6vYqt9Q"
      },
      "source": [
        "Individual run"
      ]
    },
    {
      "cell_type": "code",
      "metadata": {
        "id": "dlk_Es9EWBoJ"
      },
      "source": [
        "# # Initial configuration for the training phase \n",
        "# config = {\n",
        "#     \"rm_sw\": False,\n",
        "#     \"rm_symb\": False,\n",
        "#     \"lemmatize\": True,\n",
        "#     \"ngram_range\": (1, 1),\n",
        "#     'features': 'title',\n",
        "#     'random_state': SEED,\n",
        "#     'kfolds': 10\n",
        "#     }\n",
        "\n",
        "# config['model'] = 'KNN'\n",
        "\n",
        "# steps = [('norm', NormalizeTextTransformer(rm_sw=config.get('rm_sw'), \n",
        "#                                            rm_symb=config.get('rm_symb'),\n",
        "#                                            lemmatize=config.get('lemmatize'))),\n",
        "#          ('vect', CountVectorizer(ngram_range=config.get('ngram_range'))),\n",
        "#          ('tfidf', TfidfTransformer()),\n",
        "#          ('KNN', KNeighborsClassifier())]\n",
        "\n",
        "# pipe = Pipeline(steps=steps)\n",
        "# run_experiment(config, pipe, X, y)"
      ],
      "execution_count": null,
      "outputs": []
    },
    {
      "cell_type": "code",
      "metadata": {
        "id": "RT6RBUM5qmQd",
        "outputId": "e35e8d9a-03c8-4198-d464-e1b1ed4cdd28",
        "colab": {
          "base_uri": "https://localhost:8080/",
          "height": 584
        }
      },
      "source": [
        "fig, axs = plt.subplots(2, 2, sharex=False, sharey=False, figsize=(10,8))\n",
        "axs = axs.ravel()  # To get a flattened array\n",
        "\n",
        "for i, m in enumerate(['test_accuracy', 'test_f1', 'test_roc_auc', 'test_pr_auc']):\n",
        "    plot_boxplot(scores_all, m, axs[i])\n",
        "plt.tight_layout()"
      ],
      "execution_count": null,
      "outputs": [
        {
          "output_type": "display_data",
          "data": {
            "image/png": "[encoded data removed]",
            "text/plain": [
              "<Figure size 720x576 with 4 Axes>"
            ]
          },
          "metadata": {
            "tags": [],
            "needs_background": "light"
          }
        }
      ]
    },
    {
      "cell_type": "code",
      "metadata": {
        "id": "Q5dR008_q85V"
      },
      "source": [
        ""
      ],
      "execution_count": null,
      "outputs": []
    }
  ]
}
