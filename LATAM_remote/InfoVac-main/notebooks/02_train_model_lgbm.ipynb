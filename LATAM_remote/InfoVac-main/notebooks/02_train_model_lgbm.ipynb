{
  "nbformat": 4,
  "nbformat_minor": 0,
  "metadata": {
    "colab": {
      "name": "train_model_lgbm.ipynb",
      "provenance": [],
      "collapsed_sections": [
        "W0Js8OS_lVvQ"
      ],
      "authorship_tag": "ABX9TyPS5TzZyrh6HyjswEFMbSyq",
      "include_colab_link": true
    },
    "kernelspec": {
      "name": "python3",
      "display_name": "Python 3"
    },
    "widgets": {
      "application/vnd.jupyter.widget-state+json": {
        "be9ad88ac7684e60b0e6d0c11b74411b": {
          "model_module": "@jupyter-widgets/controls",
          "model_name": "VBoxModel",
          "state": {
            "_view_name": "VBoxView",
            "_dom_classes": [],
            "_model_name": "VBoxModel",
            "_view_module": "@jupyter-widgets/controls",
            "_model_module_version": "1.5.0",
            "_view_count": null,
            "_view_module_version": "1.5.0",
            "box_style": "",
            "layout": "IPY_MODEL_eb1b2b578603402aa324ab59836fe658",
            "_model_module": "@jupyter-widgets/controls",
            "children": [
              "IPY_MODEL_9814d27bc8b14c289344d05e2f37a743",
              "IPY_MODEL_41eae55dcfbe47e4aa1a9ed03ca34808"
            ]
          }
        },
        "eb1b2b578603402aa324ab59836fe658": {
          "model_module": "@jupyter-widgets/base",
          "model_name": "LayoutModel",
          "state": {
            "_view_name": "LayoutView",
            "grid_template_rows": null,
            "right": null,
            "justify_content": null,
            "_view_module": "@jupyter-widgets/base",
            "overflow": null,
            "_model_module_version": "1.2.0",
            "_view_count": null,
            "flex_flow": null,
            "width": null,
            "min_width": null,
            "border": null,
            "align_items": null,
            "bottom": null,
            "_model_module": "@jupyter-widgets/base",
            "top": null,
            "grid_column": null,
            "overflow_y": null,
            "overflow_x": null,
            "grid_auto_flow": null,
            "grid_area": null,
            "grid_template_columns": null,
            "flex": null,
            "_model_name": "LayoutModel",
            "justify_items": null,
            "grid_row": null,
            "max_height": null,
            "align_content": null,
            "visibility": null,
            "align_self": null,
            "height": null,
            "min_height": null,
            "padding": null,
            "grid_auto_rows": null,
            "grid_gap": null,
            "max_width": null,
            "order": null,
            "_view_module_version": "1.2.0",
            "grid_template_areas": null,
            "object_position": null,
            "object_fit": null,
            "grid_auto_columns": null,
            "margin": null,
            "display": null,
            "left": null
          }
        },
        "9814d27bc8b14c289344d05e2f37a743": {
          "model_module": "@jupyter-widgets/controls",
          "model_name": "LabelModel",
          "state": {
            "_view_name": "LabelView",
            "style": "IPY_MODEL_4373c6009c3041a7a6bb8560ffe6b15e",
            "_dom_classes": [],
            "description": "",
            "_model_name": "LabelModel",
            "placeholder": "​",
            "_view_module": "@jupyter-widgets/controls",
            "_model_module_version": "1.5.0",
            "value": " 0.01MB of 0.01MB uploaded (0.00MB deduped)\r",
            "_view_count": null,
            "_view_module_version": "1.5.0",
            "description_tooltip": null,
            "_model_module": "@jupyter-widgets/controls",
            "layout": "IPY_MODEL_69591c1d55fc405096d951398e7925be"
          }
        },
        "41eae55dcfbe47e4aa1a9ed03ca34808": {
          "model_module": "@jupyter-widgets/controls",
          "model_name": "FloatProgressModel",
          "state": {
            "_view_name": "ProgressView",
            "style": "IPY_MODEL_40d87a1833cf4704b7acb7c72c4d9c0a",
            "_dom_classes": [],
            "description": "",
            "_model_name": "FloatProgressModel",
            "bar_style": "",
            "max": 1,
            "_view_module": "@jupyter-widgets/controls",
            "_model_module_version": "1.5.0",
            "value": 1,
            "_view_count": null,
            "_view_module_version": "1.5.0",
            "orientation": "horizontal",
            "min": 0,
            "description_tooltip": null,
            "_model_module": "@jupyter-widgets/controls",
            "layout": "IPY_MODEL_7482b7914c09413ab14633730e9507c5"
          }
        },
        "4373c6009c3041a7a6bb8560ffe6b15e": {
          "model_module": "@jupyter-widgets/controls",
          "model_name": "DescriptionStyleModel",
          "state": {
            "_view_name": "StyleView",
            "_model_name": "DescriptionStyleModel",
            "description_width": "",
            "_view_module": "@jupyter-widgets/base",
            "_model_module_version": "1.5.0",
            "_view_count": null,
            "_view_module_version": "1.2.0",
            "_model_module": "@jupyter-widgets/controls"
          }
        },
        "69591c1d55fc405096d951398e7925be": {
          "model_module": "@jupyter-widgets/base",
          "model_name": "LayoutModel",
          "state": {
            "_view_name": "LayoutView",
            "grid_template_rows": null,
            "right": null,
            "justify_content": null,
            "_view_module": "@jupyter-widgets/base",
            "overflow": null,
            "_model_module_version": "1.2.0",
            "_view_count": null,
            "flex_flow": null,
            "width": null,
            "min_width": null,
            "border": null,
            "align_items": null,
            "bottom": null,
            "_model_module": "@jupyter-widgets/base",
            "top": null,
            "grid_column": null,
            "overflow_y": null,
            "overflow_x": null,
            "grid_auto_flow": null,
            "grid_area": null,
            "grid_template_columns": null,
            "flex": null,
            "_model_name": "LayoutModel",
            "justify_items": null,
            "grid_row": null,
            "max_height": null,
            "align_content": null,
            "visibility": null,
            "align_self": null,
            "height": null,
            "min_height": null,
            "padding": null,
            "grid_auto_rows": null,
            "grid_gap": null,
            "max_width": null,
            "order": null,
            "_view_module_version": "1.2.0",
            "grid_template_areas": null,
            "object_position": null,
            "object_fit": null,
            "grid_auto_columns": null,
            "margin": null,
            "display": null,
            "left": null
          }
        },
        "40d87a1833cf4704b7acb7c72c4d9c0a": {
          "model_module": "@jupyter-widgets/controls",
          "model_name": "ProgressStyleModel",
          "state": {
            "_view_name": "StyleView",
            "_model_name": "ProgressStyleModel",
            "description_width": "",
            "_view_module": "@jupyter-widgets/base",
            "_model_module_version": "1.5.0",
            "_view_count": null,
            "_view_module_version": "1.2.0",
            "bar_color": null,
            "_model_module": "@jupyter-widgets/controls"
          }
        },
        "7482b7914c09413ab14633730e9507c5": {
          "model_module": "@jupyter-widgets/base",
          "model_name": "LayoutModel",
          "state": {
            "_view_name": "LayoutView",
            "grid_template_rows": null,
            "right": null,
            "justify_content": null,
            "_view_module": "@jupyter-widgets/base",
            "overflow": null,
            "_model_module_version": "1.2.0",
            "_view_count": null,
            "flex_flow": null,
            "width": null,
            "min_width": null,
            "border": null,
            "align_items": null,
            "bottom": null,
            "_model_module": "@jupyter-widgets/base",
            "top": null,
            "grid_column": null,
            "overflow_y": null,
            "overflow_x": null,
            "grid_auto_flow": null,
            "grid_area": null,
            "grid_template_columns": null,
            "flex": null,
            "_model_name": "LayoutModel",
            "justify_items": null,
            "grid_row": null,
            "max_height": null,
            "align_content": null,
            "visibility": null,
            "align_self": null,
            "height": null,
            "min_height": null,
            "padding": null,
            "grid_auto_rows": null,
            "grid_gap": null,
            "max_width": null,
            "order": null,
            "_view_module_version": "1.2.0",
            "grid_template_areas": null,
            "object_position": null,
            "object_fit": null,
            "grid_auto_columns": null,
            "margin": null,
            "display": null,
            "left": null
          }
        },
        "8df35fe3f5ca4bee9ece5c3c96248991": {
          "model_module": "@jupyter-widgets/controls",
          "model_name": "VBoxModel",
          "state": {
            "_view_name": "VBoxView",
            "_dom_classes": [],
            "_model_name": "VBoxModel",
            "_view_module": "@jupyter-widgets/controls",
            "_model_module_version": "1.5.0",
            "_view_count": null,
            "_view_module_version": "1.5.0",
            "box_style": "",
            "layout": "IPY_MODEL_2a22499dc69e4533a620506913065ada",
            "_model_module": "@jupyter-widgets/controls",
            "children": [
              "IPY_MODEL_91491812864047e9a6aed4f9f43957d6",
              "IPY_MODEL_27354478d9ab41a29d6da6c017e66cb3"
            ]
          }
        },
        "2a22499dc69e4533a620506913065ada": {
          "model_module": "@jupyter-widgets/base",
          "model_name": "LayoutModel",
          "state": {
            "_view_name": "LayoutView",
            "grid_template_rows": null,
            "right": null,
            "justify_content": null,
            "_view_module": "@jupyter-widgets/base",
            "overflow": null,
            "_model_module_version": "1.2.0",
            "_view_count": null,
            "flex_flow": null,
            "width": null,
            "min_width": null,
            "border": null,
            "align_items": null,
            "bottom": null,
            "_model_module": "@jupyter-widgets/base",
            "top": null,
            "grid_column": null,
            "overflow_y": null,
            "overflow_x": null,
            "grid_auto_flow": null,
            "grid_area": null,
            "grid_template_columns": null,
            "flex": null,
            "_model_name": "LayoutModel",
            "justify_items": null,
            "grid_row": null,
            "max_height": null,
            "align_content": null,
            "visibility": null,
            "align_self": null,
            "height": null,
            "min_height": null,
            "padding": null,
            "grid_auto_rows": null,
            "grid_gap": null,
            "max_width": null,
            "order": null,
            "_view_module_version": "1.2.0",
            "grid_template_areas": null,
            "object_position": null,
            "object_fit": null,
            "grid_auto_columns": null,
            "margin": null,
            "display": null,
            "left": null
          }
        },
        "91491812864047e9a6aed4f9f43957d6": {
          "model_module": "@jupyter-widgets/controls",
          "model_name": "LabelModel",
          "state": {
            "_view_name": "LabelView",
            "style": "IPY_MODEL_b3f6b1eab214448394cbde5fea7348c9",
            "_dom_classes": [],
            "description": "",
            "_model_name": "LabelModel",
            "placeholder": "​",
            "_view_module": "@jupyter-widgets/controls",
            "_model_module_version": "1.5.0",
            "value": " 0.01MB of 0.01MB uploaded (0.00MB deduped)\r",
            "_view_count": null,
            "_view_module_version": "1.5.0",
            "description_tooltip": null,
            "_model_module": "@jupyter-widgets/controls",
            "layout": "IPY_MODEL_45310a92b990418aae2107b9a0b74742"
          }
        },
        "27354478d9ab41a29d6da6c017e66cb3": {
          "model_module": "@jupyter-widgets/controls",
          "model_name": "FloatProgressModel",
          "state": {
            "_view_name": "ProgressView",
            "style": "IPY_MODEL_73bb4078ecbb46419a549f1236a4523d",
            "_dom_classes": [],
            "description": "",
            "_model_name": "FloatProgressModel",
            "bar_style": "",
            "max": 1,
            "_view_module": "@jupyter-widgets/controls",
            "_model_module_version": "1.5.0",
            "value": 1,
            "_view_count": null,
            "_view_module_version": "1.5.0",
            "orientation": "horizontal",
            "min": 0,
            "description_tooltip": null,
            "_model_module": "@jupyter-widgets/controls",
            "layout": "IPY_MODEL_8de2e23d3cb14a7d93f79d488f9ff690"
          }
        },
        "b3f6b1eab214448394cbde5fea7348c9": {
          "model_module": "@jupyter-widgets/controls",
          "model_name": "DescriptionStyleModel",
          "state": {
            "_view_name": "StyleView",
            "_model_name": "DescriptionStyleModel",
            "description_width": "",
            "_view_module": "@jupyter-widgets/base",
            "_model_module_version": "1.5.0",
            "_view_count": null,
            "_view_module_version": "1.2.0",
            "_model_module": "@jupyter-widgets/controls"
          }
        },
        "45310a92b990418aae2107b9a0b74742": {
          "model_module": "@jupyter-widgets/base",
          "model_name": "LayoutModel",
          "state": {
            "_view_name": "LayoutView",
            "grid_template_rows": null,
            "right": null,
            "justify_content": null,
            "_view_module": "@jupyter-widgets/base",
            "overflow": null,
            "_model_module_version": "1.2.0",
            "_view_count": null,
            "flex_flow": null,
            "width": null,
            "min_width": null,
            "border": null,
            "align_items": null,
            "bottom": null,
            "_model_module": "@jupyter-widgets/base",
            "top": null,
            "grid_column": null,
            "overflow_y": null,
            "overflow_x": null,
            "grid_auto_flow": null,
            "grid_area": null,
            "grid_template_columns": null,
            "flex": null,
            "_model_name": "LayoutModel",
            "justify_items": null,
            "grid_row": null,
            "max_height": null,
            "align_content": null,
            "visibility": null,
            "align_self": null,
            "height": null,
            "min_height": null,
            "padding": null,
            "grid_auto_rows": null,
            "grid_gap": null,
            "max_width": null,
            "order": null,
            "_view_module_version": "1.2.0",
            "grid_template_areas": null,
            "object_position": null,
            "object_fit": null,
            "grid_auto_columns": null,
            "margin": null,
            "display": null,
            "left": null
          }
        },
        "73bb4078ecbb46419a549f1236a4523d": {
          "model_module": "@jupyter-widgets/controls",
          "model_name": "ProgressStyleModel",
          "state": {
            "_view_name": "StyleView",
            "_model_name": "ProgressStyleModel",
            "description_width": "",
            "_view_module": "@jupyter-widgets/base",
            "_model_module_version": "1.5.0",
            "_view_count": null,
            "_view_module_version": "1.2.0",
            "bar_color": null,
            "_model_module": "@jupyter-widgets/controls"
          }
        },
        "8de2e23d3cb14a7d93f79d488f9ff690": {
          "model_module": "@jupyter-widgets/base",
          "model_name": "LayoutModel",
          "state": {
            "_view_name": "LayoutView",
            "grid_template_rows": null,
            "right": null,
            "justify_content": null,
            "_view_module": "@jupyter-widgets/base",
            "overflow": null,
            "_model_module_version": "1.2.0",
            "_view_count": null,
            "flex_flow": null,
            "width": null,
            "min_width": null,
            "border": null,
            "align_items": null,
            "bottom": null,
            "_model_module": "@jupyter-widgets/base",
            "top": null,
            "grid_column": null,
            "overflow_y": null,
            "overflow_x": null,
            "grid_auto_flow": null,
            "grid_area": null,
            "grid_template_columns": null,
            "flex": null,
            "_model_name": "LayoutModel",
            "justify_items": null,
            "grid_row": null,
            "max_height": null,
            "align_content": null,
            "visibility": null,
            "align_self": null,
            "height": null,
            "min_height": null,
            "padding": null,
            "grid_auto_rows": null,
            "grid_gap": null,
            "max_width": null,
            "order": null,
            "_view_module_version": "1.2.0",
            "grid_template_areas": null,
            "object_position": null,
            "object_fit": null,
            "grid_auto_columns": null,
            "margin": null,
            "display": null,
            "left": null
          }
        }
      }
    }
  },
  "cells": [
    {
      "cell_type": "markdown",
      "metadata": {
        "id": "view-in-github",
        "colab_type": "text"
      },
      "source": [
        "<a href=\"https://colab.research.google.com/github/christianvadillo/InfoVac/blob/main/train_model_lgbm.ipynb\" target=\"_parent\"><img src=\"https://colab.research.google.com/assets/colab-badge.svg\" alt=\"Open In Colab\"/></a>"
      ]
    },
    {
      "cell_type": "markdown",
      "metadata": {
        "id": "TdRzPvDwTC8r"
      },
      "source": [
        "# Install libraries"
      ]
    },
    {
      "cell_type": "code",
      "metadata": {
        "id": "TQdQLkV-9toC",
        "outputId": "1ed892e3-4823-4177-ba72-b74a11438e0c",
        "colab": {
          "base_uri": "https://localhost:8080/"
        }
      },
      "source": [
        "!pip install spacy --upgrade -qqq # need 2.3 for download es_core_news_lg\n",
        "!pip install unidecode -qqq\n",
        "# Installing the W&B library\n",
        "!pip install wandb -qqq\n",
        "\n",
        "# !python -m spacy download es_core_news_lg -qqq\n",
        "# !python -m spacy download es_core_news_md -qqq\n",
        "!python -m spacy download es_core_news_sm -qqq"
      ],
      "execution_count": null,
      "outputs": [
        {
          "output_type": "stream",
          "text": [
            "\u001b[38;5;2m✔ Download and installation successful\u001b[0m\n",
            "You can now load the model via spacy.load('es_core_news_sm')\n"
          ],
          "name": "stdout"
        }
      ]
    },
    {
      "cell_type": "code",
      "metadata": {
        "id": "gXIuKroQRqep",
        "outputId": "ff749009-0239-42fd-bdd0-5a770cacc461",
        "colab": {
          "base_uri": "https://localhost:8080/"
        }
      },
      "source": [
        "import pandas as pd\n",
        "import numpy as np \n",
        "import re\n",
        "import itertools\n",
        "import matplotlib.pyplot as plt\n",
        "import seaborn as sns\n",
        "import warnings\n",
        "import joblib\n",
        "\n",
        "\n",
        "import spacy\n",
        "import nltk\n",
        "import unicodedata\n",
        "\n",
        "# import es_core_news_lg\n",
        "import es_core_news_sm\n",
        "\n",
        "from nltk.corpus import stopwords\n",
        "\n",
        "\n",
        "warnings.filterwarnings('ignore')\n",
        "nltk.download('stopwords')\n",
        "nltk.download('punkt')\n",
        "\n",
        "nlp = es_core_news_sm.load()\n",
        "\n",
        "# Build stop words list\n",
        "stop_words_es = stopwords.words('spanish')  # Spanish's stop words \n",
        "stop_words_es = stop_words_es + ['cnn', 'mas', 'si']\n",
        "sw_es = nlp.Defaults.stop_words \n",
        "stop_words_es = sw_es.union(stop_words_es)\n",
        "stop_words_es = [word for word in stop_words_es if len(word)<4]\n",
        "\n"
      ],
      "execution_count": null,
      "outputs": [
        {
          "output_type": "stream",
          "text": [
            "[nltk_data] Downloading package stopwords to /root/nltk_data...\n",
            "[nltk_data]   Package stopwords is already up-to-date!\n",
            "[nltk_data] Downloading package punkt to /root/nltk_data...\n",
            "[nltk_data]   Package punkt is already up-to-date!\n"
          ],
          "name": "stdout"
        }
      ]
    },
    {
      "cell_type": "code",
      "metadata": {
        "id": "G_dJL3kvmWhw",
        "outputId": "a68ec021-47bf-4495-ee9e-ed66c02ef00c",
        "colab": {
          "base_uri": "https://localhost:8080/"
        }
      },
      "source": [
        "stop_words_es"
      ],
      "execution_count": null,
      "outputs": [
        {
          "output_type": "execute_result",
          "data": {
            "text/plain": [
              "['tus',\n",
              " 'el',\n",
              " 'hoy',\n",
              " 'mis',\n",
              " 'ha',\n",
              " 'le',\n",
              " 'y',\n",
              " 'un',\n",
              " 'mi',\n",
              " 'así',\n",
              " 'he',\n",
              " 'ver',\n",
              " 'uno',\n",
              " 'más',\n",
              " 'dio',\n",
              " 'con',\n",
              " 'e',\n",
              " 'te',\n",
              " 'ex',\n",
              " 'las',\n",
              " 'ir',\n",
              " 'qué',\n",
              " 'día',\n",
              " 'os',\n",
              " 'mia',\n",
              " 'cnn',\n",
              " 'mal',\n",
              " 'sus',\n",
              " 'ni',\n",
              " 'ser',\n",
              " 'ti',\n",
              " 'voy',\n",
              " 'tal',\n",
              " 'no',\n",
              " 'hay',\n",
              " 'tú',\n",
              " 'van',\n",
              " 'son',\n",
              " 'fin',\n",
              " 'por',\n",
              " 'ahí',\n",
              " 'tu',\n",
              " 'es',\n",
              " 'eso',\n",
              " 'vez',\n",
              " 'en',\n",
              " 'tan',\n",
              " 'se',\n",
              " 'yo',\n",
              " 'da',\n",
              " 'sea',\n",
              " 'ya',\n",
              " 'que',\n",
              " 'de',\n",
              " 'nos',\n",
              " 'muy',\n",
              " 'me',\n",
              " 'sé',\n",
              " 'mio',\n",
              " 'lo',\n",
              " 'has',\n",
              " 'al',\n",
              " 'dia',\n",
              " 'del',\n",
              " 'mí',\n",
              " 'asi',\n",
              " 'ese',\n",
              " 'fui',\n",
              " 'ahi',\n",
              " 'les',\n",
              " 'mas',\n",
              " 'mío',\n",
              " 'esa',\n",
              " 'sí',\n",
              " 'soy',\n",
              " 'una',\n",
              " 'fue',\n",
              " 'o',\n",
              " 'usa',\n",
              " 'va',\n",
              " 'era',\n",
              " 'ésa',\n",
              " 'mía',\n",
              " 'aun',\n",
              " 'ése',\n",
              " 'sin',\n",
              " 'dan',\n",
              " 'su',\n",
              " 'si',\n",
              " 'los',\n",
              " 'aún',\n",
              " 'la',\n",
              " 'qeu',\n",
              " 'él',\n",
              " 'a',\n",
              " 'dar',\n",
              " 'dos',\n",
              " 'uso',\n",
              " 'han']"
            ]
          },
          "metadata": {
            "tags": []
          },
          "execution_count": 3
        }
      ]
    },
    {
      "cell_type": "code",
      "metadata": {
        "id": "K1QCpwM-KyFd"
      },
      "source": [
        "# For Reproducibility\n",
        "import os\n",
        "import random\n",
        "# Set seed for reproducability\n",
        "SEED = 88\n",
        "os.environ['PYTHONHASHSEED'] = str(SEED)\n",
        "random.seed(SEED)\n",
        "np.random.seed(SEED)\n",
        "np.random.RandomState(SEED);"
      ],
      "execution_count": null,
      "outputs": []
    },
    {
      "cell_type": "markdown",
      "metadata": {
        "id": "RzPJ4S6E-P-z"
      },
      "source": [
        "# Initialize W&B\n"
      ]
    },
    {
      "cell_type": "code",
      "metadata": {
        "id": "fhPVcPWi_EEq",
        "outputId": "29cc4b8d-a579-4e2e-da7c-177821a53861",
        "colab": {
          "base_uri": "https://localhost:8080/"
        }
      },
      "source": [
        "import wandb\n",
        "\n",
        "# Start a new run\n",
        "wandb.login()"
      ],
      "execution_count": null,
      "outputs": [
        {
          "output_type": "stream",
          "text": [
            "\u001b[34m\u001b[1mwandb\u001b[0m: Currently logged in as: \u001b[33mchristian_vadillo\u001b[0m (use `wandb login --relogin` to force relogin)\n"
          ],
          "name": "stderr"
        },
        {
          "output_type": "execute_result",
          "data": {
            "text/plain": [
              "True"
            ]
          },
          "metadata": {
            "tags": []
          },
          "execution_count": 5
        }
      ]
    },
    {
      "cell_type": "markdown",
      "metadata": {
        "id": "R8kV_ohf9bXj"
      },
      "source": [
        "# Load Data"
      ]
    },
    {
      "cell_type": "code",
      "metadata": {
        "id": "loVWbJAH9am5",
        "outputId": "3bdcb211-f964-4e29-a007-b4fe51b1565f",
        "colab": {
          "base_uri": "https://localhost:8080/",
          "height": 193
        }
      },
      "source": [
        "file = 'https://raw.githubusercontent.com/christianvadillo/InfoVac/main/data/processed/covid_fakenews_es_utf_21_Oct_2020_17_29.csv'\n",
        "\n",
        "df = pd.read_csv(file)\n",
        "df.head()"
      ],
      "execution_count": null,
      "outputs": [
        {
          "output_type": "execute_result",
          "data": {
            "text/html": [
              "<div>\n",
              "<style scoped>\n",
              "    .dataframe tbody tr th:only-of-type {\n",
              "        vertical-align: middle;\n",
              "    }\n",
              "\n",
              "    .dataframe tbody tr th {\n",
              "        vertical-align: top;\n",
              "    }\n",
              "\n",
              "    .dataframe thead th {\n",
              "        text-align: right;\n",
              "    }\n",
              "</style>\n",
              "<table border=\"1\" class=\"dataframe\">\n",
              "  <thead>\n",
              "    <tr style=\"text-align: right;\">\n",
              "      <th></th>\n",
              "      <th>url</th>\n",
              "      <th>titulo</th>\n",
              "      <th>texto</th>\n",
              "      <th>categoria</th>\n",
              "      <th>fecha_aparicion</th>\n",
              "      <th>organizacion</th>\n",
              "    </tr>\n",
              "  </thead>\n",
              "  <tbody>\n",
              "    <tr>\n",
              "      <th>0</th>\n",
              "      <td>https://www.newtral.es/bulos-coronavirus-pcr-k...</td>\n",
              "      <td>no title</td>\n",
              "      <td>Estos vídeos de Kary Mullis, inventor del PCR,...</td>\n",
              "      <td>no confiable</td>\n",
              "      <td>2020-10-13 00:00:00+00:00</td>\n",
              "      <td>Newtral</td>\n",
              "    </tr>\n",
              "    <tr>\n",
              "      <th>1</th>\n",
              "      <td>https://colombiacheck.com/chequeos/no-ecuador-...</td>\n",
              "      <td>No, Ecuador no encontró la cura para el COVID-...</td>\n",
              "      <td>Ecuador venció al coronavirus</td>\n",
              "      <td>no confiable</td>\n",
              "      <td>2020-10-08 18:36:17+00:00</td>\n",
              "      <td>ColombiaCheck</td>\n",
              "    </tr>\n",
              "    <tr>\n",
              "      <th>2</th>\n",
              "      <td>https://www.telemundo.com/noticias/noticias-te...</td>\n",
              "      <td>Las afirmaciones falsas y engañosas del debate...</td>\n",
              "      <td>\"Trump llamó al coronavirus un \"fraude\".</td>\n",
              "      <td>no confiable</td>\n",
              "      <td>2020-10-08 00:00:00+00:00</td>\n",
              "      <td>Telemundo</td>\n",
              "    </tr>\n",
              "    <tr>\n",
              "      <th>3</th>\n",
              "      <td>https://factual.afp.com/la-inscripcion-en-caja...</td>\n",
              "      <td>La inscripción en cajas de tapabocas no prueba...</td>\n",
              "      <td>La inscripción en las cajas de mascarillas pru...</td>\n",
              "      <td>no confiable</td>\n",
              "      <td>2020-10-07 18:36:00+00:00</td>\n",
              "      <td>AFP Factual</td>\n",
              "    </tr>\n",
              "    <tr>\n",
              "      <th>4</th>\n",
              "      <td>https://chequeado.com/ultimas-noticias/alesso-...</td>\n",
              "      <td>Alesso (CTERA): “En los lugares donde hay poco...</td>\n",
              "      <td>En los lugares donde hay pocos casos de corona...</td>\n",
              "      <td>no confiable</td>\n",
              "      <td>2020-10-07 00:00:00+00:00</td>\n",
              "      <td>Chequeado</td>\n",
              "    </tr>\n",
              "  </tbody>\n",
              "</table>\n",
              "</div>"
            ],
            "text/plain": [
              "                                                 url  ...   organizacion\n",
              "0  https://www.newtral.es/bulos-coronavirus-pcr-k...  ...        Newtral\n",
              "1  https://colombiacheck.com/chequeos/no-ecuador-...  ...  ColombiaCheck\n",
              "2  https://www.telemundo.com/noticias/noticias-te...  ...      Telemundo\n",
              "3  https://factual.afp.com/la-inscripcion-en-caja...  ...    AFP Factual\n",
              "4  https://chequeado.com/ultimas-noticias/alesso-...  ...      Chequeado\n",
              "\n",
              "[5 rows x 6 columns]"
            ]
          },
          "metadata": {
            "tags": []
          },
          "execution_count": 6
        }
      ]
    },
    {
      "cell_type": "markdown",
      "metadata": {
        "id": "QGhqk1yLPRXQ"
      },
      "source": [
        "# Metrics"
      ]
    },
    {
      "cell_type": "code",
      "metadata": {
        "id": "8a4QuG4ZPYkS"
      },
      "source": [
        "from sklearn.model_selection import cross_validate\n",
        "from sklearn.model_selection import KFold\n",
        "\n",
        "from sklearn.metrics import accuracy_score, plot_confusion_matrix\n",
        "from sklearn.metrics import average_precision_score, precision_recall_curve\n",
        "from sklearn.metrics import make_scorer\n",
        "from sklearn.metrics import auc\n",
        "from sklearn.metrics import roc_curve\n",
        "from sklearn.metrics import roc_auc_score\n",
        "from sklearn.metrics import f1_score\n",
        "\n",
        "from functools import wraps\n",
        "\n",
        "\n",
        "\n",
        "def plot_boxplot(scores, metric, ax=None):\n",
        "    \"\"\" Plot the boxplot of each model given a metric\"\"\"\n",
        "    data = [model[metric] for model in scores]\n",
        "    name = metric.split('_')[1]\n",
        "    if ax:\n",
        "        ax.boxplot(data, labels=names, showmeans=True)\n",
        "        ax.set_title(f'{name.capitalize()} scores by model')\n",
        "        ax.set_xlabel('Model')\n",
        "        ax.set_ylabel(name.capitalize())\n",
        "    else:\n",
        "        plt.boxplot(data, labels=names, showmeans=True)\n",
        "        plt.set_title(f'{name.capitalize()} scores by model')\n",
        "        plt.set_xlabel('Model')\n",
        "        plt.set_ylabel(name.capitalize())\n",
        "        plt.show()\n",
        "\n",
        "        \n",
        "def roc_auc(y_true, probs_pred):\n",
        "    \"\"\" Calculate ROC area under curve \"\"\"\n",
        "    return roc_auc_score(y_true, probs_pred)\n",
        "\n",
        "\n",
        "def pr_auc(y_true, probs_pred):\n",
        "    \"\"\"Calculate precision-recall area under curve\"\"\"\n",
        "    # calculate area under curve\n",
        "    return average_precision_score(y_true, probs_pred)\n",
        "\n",
        "\n",
        "def evaluate_model(model, x, y):\n",
        "    \"\"\" Evaluate the model using KFold \"\"\"\n",
        "    scoring = {'accuracy': make_scorer(accuracy_score),\n",
        "               'f1': make_scorer(f1_score), \n",
        "               'roc_auc': make_scorer(roc_auc, needs_proba=True),\n",
        "               'pr_auc': make_scorer(pr_auc, needs_proba=True)\n",
        "              }\n",
        "              \n",
        "    cv = KFold(n_splits=10, shuffle=True, random_state=SEED)\n",
        "    scores = cross_validate(model, x, y, cv=cv, \n",
        "                            scoring=scoring,\n",
        "                            n_jobs=-1, \n",
        "                            verbose=0)\n",
        "    \n",
        "    return scores\n",
        "\n",
        "\n",
        "def track_scores(scores):\n",
        "    # Metrics to log\n",
        "    metrics = ['test_accuracy', 'test_f1', 'test_roc_auc', 'test_pr_auc']\n",
        "    for metric in metrics:\n",
        "      for score in scores[metric]:\n",
        "        wandb.log({f'cv_score_{metric}': score})\n",
        "        wandb.log({f'mean_{metric}': scores[metric].mean()})\n",
        "      wandb.termlog(f'mean_{metric} logged')\n",
        "\n",
        "\n",
        "def display_scores(scores, metric):\n",
        "    \"\"\" Display the avg and std score of the model\"\"\"\n",
        "    print('='*60)\n",
        "    for m in metric:\n",
        "        name = 'test_'+m.lower()\n",
        "        print(f\"Metric: {m:>10} {'|':>5} Mean: {scores[name].mean():.3f} (+/- {scores[name].std()*2:.2f})\")\n",
        "\n"
      ],
      "execution_count": null,
      "outputs": []
    },
    {
      "cell_type": "markdown",
      "metadata": {
        "id": "4yBimxnQGKt6"
      },
      "source": [
        "# Support functions\n"
      ]
    },
    {
      "cell_type": "code",
      "metadata": {
        "id": "Tgb42LUll3wO"
      },
      "source": [
        "# Support libraries\n",
        "import matplotlib.pyplot as plt\n",
        "\n",
        "from sklearn.pipeline import Pipeline\n",
        "from sklearn.feature_extraction.text import TfidfTransformer\n",
        "from sklearn.feature_extraction.text import CountVectorizer\n",
        "from sklearn.base import TransformerMixin, BaseEstimator "
      ],
      "execution_count": null,
      "outputs": []
    },
    {
      "cell_type": "code",
      "metadata": {
        "id": "oLQJR6QAGNWW"
      },
      "source": [
        "def normalize_document(doc:str, rm_sw:bool=True, \n",
        "                       rm_symb:bool=True,\n",
        "                       lemmatize:bool=True) -> str:\n",
        "    '''\n",
        "    Cleans text including removal of whitespace, punctuation, accented characters,\n",
        "    special characters and transforming to lowercase. Assumes input text is string.\n",
        "    Returns clean string.\n",
        "    '''\n",
        "\n",
        "    # lower case and remove special characters\\whitespaces\n",
        "    if rm_symb:\n",
        "      # Remove accents\n",
        "      doc = unicodedata.normalize(u'NFKD', doc)\\\n",
        "                       .encode('ascii', 'ignore')\\\n",
        "                       .decode('utf8')\n",
        "      # Remove numbers and punctuations\n",
        "      doc = re.sub(r'[^a-zA-Z\\s]', '', doc)\n",
        "    # To lowercase\n",
        "    doc = doc.lower()\n",
        "    # Remove extra space\n",
        "    doc = doc.strip()\n",
        "\n",
        "    if rm_sw:\n",
        "      # tokenize document\n",
        "      tokens = nltk.word_tokenize(doc)\n",
        "      # filter stopwords out of document\n",
        "      filtered_tokens = [token for token in tokens if token not in stop_words_es]\n",
        "      # re-create document from filtered tokens\n",
        "      doc = ' '.join(filtered_tokens)\n",
        "\n",
        "    if lemmatize:\n",
        "      doc = nlp(doc)\n",
        "      tokens = [token.lemma_.strip() for token in doc]\n",
        "      doc = ' '.join(tokens)\n",
        "\n",
        "    return doc\n",
        "\n",
        "\n",
        "class DenseTransformer(BaseEstimator, TransformerMixin):\n",
        "    def fit(self, X, y=None, **fit_params):\n",
        "        return self\n",
        "\n",
        "    def transform(self, X, y=None, **fit_params):\n",
        "        return X.todense()\n",
        "\n",
        "\n",
        "class NormalizeTextTransformer(BaseEstimator, TransformerMixin):\n",
        "  def __init__ (self, **params):\n",
        "    print(params)\n",
        "    self.rm_sw = params.get('rm_sw')\n",
        "    self.rm_symb = params.get('rm_symb')\n",
        "    self.lemmatize = params.get('lemmatize')\n",
        "\n",
        "    # print(self.rm_sw, self.rm_symb, self.lemmatize)\n",
        "  def fit(self, X, y=None, **fit_params):\n",
        "    return self\n",
        "\n",
        "\n",
        "  def transform(self, X, y=None, **transf_params):\n",
        "    X_norm = normalize_corpus(X, \n",
        "                            rm_sw=self.rm_sw,\n",
        "                            rm_symb=self.rm_symb,\n",
        "                            lemmatize=self.lemmatize)\n",
        "    return X_norm\n",
        "\n",
        "normalize_corpus = np.vectorize(normalize_document)"
      ],
      "execution_count": null,
      "outputs": []
    },
    {
      "cell_type": "markdown",
      "metadata": {
        "id": "cHrxUUIvH2pT"
      },
      "source": [
        "# Splitting the data"
      ]
    },
    {
      "cell_type": "code",
      "metadata": {
        "id": "XJRgpvL1l7qg"
      },
      "source": [
        "from sklearn.utils import shuffle"
      ],
      "execution_count": null,
      "outputs": []
    },
    {
      "cell_type": "code",
      "metadata": {
        "id": "_TCaYne-JNId"
      },
      "source": [
        "df['categoria'] = df['categoria'].map({'confiable': 1, 'no confiable': 0})"
      ],
      "execution_count": null,
      "outputs": []
    },
    {
      "cell_type": "code",
      "metadata": {
        "id": "1i9_HOJDJFhZ"
      },
      "source": [
        "df = shuffle(df, random_state=SEED)\n",
        "df.reset_index(drop=True, inplace=True)\n",
        "df.to_csv('covid-es-dataset.csv', index=False)\n",
        "\n",
        "X = df['texto'].values\n",
        "y = df['categoria'].values"
      ],
      "execution_count": null,
      "outputs": []
    },
    {
      "cell_type": "code",
      "metadata": {
        "id": "9hoO_2HbIDS2",
        "outputId": "58f5c72f-4130-45ac-b8fe-c147cc5a5338",
        "colab": {
          "base_uri": "https://localhost:8080/"
        }
      },
      "source": [
        "from sklearn.model_selection import train_test_split\n",
        "\n",
        "X_train, X_test, y_train, y_test =\\\n",
        "     train_test_split(X, y, test_size=0.2, random_state=SEED)\n",
        "\n",
        "X_train, X_val, y_train, y_val =\\\n",
        "    train_test_split(X_train, y_train, test_size=0.25, random_state=SEED)\n",
        "\n",
        "print(\"Train shapes:\", X_train.shape, y_train.shape)\n",
        "print(\"Validation shapes:\", X_val.shape, y_val.shape)\n",
        "print(\"Test shapes:\", X_test.shape, y_test.shape)"
      ],
      "execution_count": null,
      "outputs": [
        {
          "output_type": "stream",
          "text": [
            "Train shapes: (4488,) (4488,)\n",
            "Validation shapes: (1497,) (1497,)\n",
            "Test shapes: (1497,) (1497,)\n"
          ],
          "name": "stdout"
        }
      ]
    },
    {
      "cell_type": "markdown",
      "metadata": {
        "id": "W0Js8OS_lVvQ"
      },
      "source": [
        "# Train model\n"
      ]
    },
    {
      "cell_type": "code",
      "metadata": {
        "id": "YfoAOrRVlr1y",
        "outputId": "5d49d996-04d9-45e2-f3e0-fabc695fa555",
        "colab": {
          "base_uri": "https://localhost:8080/"
        }
      },
      "source": [
        "from lightgbm import LGBMClassifier\n",
        "\n",
        "# Initial configuration for the training phase \n",
        "config = {\n",
        "    \"rm_sw\": False,            # No stopwords\n",
        "    \"rm_symb\": True,          # Remove numbers, special characters, accents\n",
        "    \"lemmatize\": True,        # Lemmatize the words\n",
        "    \"ngram_range\": (1, 1),    # Windows\n",
        "    'features': 'texto',      # Column used as the input feature\n",
        "    'random_state': SEED,     # To reproducibility\n",
        "    'kfolds': 10              # Amount of folds for evaluation\n",
        "    }\n",
        "\n",
        "\n",
        "# Pipeline\n",
        "steps = [\n",
        "         ('norm', NormalizeTextTransformer(rm_sw=config.get('rm_sw'), \n",
        "                                           rm_symb=config.get('rm_symb'),\n",
        "                                           lemmatize=config.get('lemmatize'))),\n",
        "         \n",
        "         ('vect', CountVectorizer(analyzer='word',\n",
        "                                  ngram_range=config.get('ngram_range'))),\n",
        "         ('tfidf', TfidfTransformer()),\n",
        "         ('clf', LGBMClassifier(random_state=SEED, n_jobs=-1))\n",
        "        ]\n",
        "\n",
        "# model_pipe = Pipeline(steps=steps, verbose=1)\n",
        "# model_pipe.fit(X=X_train, y=y_train)"
      ],
      "execution_count": null,
      "outputs": [
        {
          "output_type": "stream",
          "text": [
            "{'rm_sw': False, 'rm_symb': True, 'lemmatize': True}\n"
          ],
          "name": "stdout"
        }
      ]
    },
    {
      "cell_type": "code",
      "metadata": {
        "id": "ywERuDxpepoy"
      },
      "source": [
        ""
      ],
      "execution_count": null,
      "outputs": []
    },
    {
      "cell_type": "markdown",
      "metadata": {
        "id": "yOjsHNAV5MHb"
      },
      "source": [
        "# Get predictions"
      ]
    },
    {
      "cell_type": "code",
      "metadata": {
        "id": "uJktz0ce5Ora"
      },
      "source": [
        "# y_pred = model_pipe.predict(X_test)\n",
        "# print(accuracy_score(y_test, y_pred))\n",
        "# plot_confusion_matrix(model_pipe, X_test, y_test, values_format='.0f')"
      ],
      "execution_count": null,
      "outputs": []
    },
    {
      "cell_type": "code",
      "metadata": {
        "id": "M-LbHk0n8yJh"
      },
      "source": [
        "# model_pipe.predict_proba(X_test)"
      ],
      "execution_count": null,
      "outputs": []
    },
    {
      "cell_type": "markdown",
      "metadata": {
        "id": "2rj576MVgN7M"
      },
      "source": [
        "WANDB TRACK"
      ]
    },
    {
      "cell_type": "code",
      "metadata": {
        "id": "kDA9CvJ2aj-x",
        "outputId": "a100c7cd-7f6d-4690-d0de-2a230a6e42be",
        "colab": {
          "base_uri": "https://localhost:8080/",
          "height": 582
        }
      },
      "source": [
        "# initialize wandb run\n",
        "wandb.init(project='test')\n",
        "# y_pred = model_pipe.predict(X_test)\n",
        "# wandb.sklearn.plot_confusion_matrix(y_test, y_pred, model_pipe.classes_)"
      ],
      "execution_count": null,
      "outputs": [
        {
          "output_type": "display_data",
          "data": {
            "text/html": [
              "\n",
              "                Tracking run with wandb version 0.10.9<br/>\n",
              "                Syncing run <strong style=\"color:#cdcd00\">royal-bird-2565</strong> to <a href=\"https://wandb.ai\" target=\"_blank\">Weights & Biases</a> <a href=\"https://docs.wandb.com/integrations/jupyter.html\" target=\"_blank\">(Documentation)</a>.<br/>\n",
              "                Project page: <a href=\"https://wandb.ai/christian_vadillo/test\" target=\"_blank\">https://wandb.ai/christian_vadillo/test</a><br/>\n",
              "                Run page: <a href=\"https://wandb.ai/christian_vadillo/test/runs/162a046h\" target=\"_blank\">https://wandb.ai/christian_vadillo/test/runs/162a046h</a><br/>\n",
              "                Run data is saved locally in <code>wandb/run-20201106_225419-162a046h</code><br/><br/>\n",
              "            "
            ],
            "text/plain": [
              "<IPython.core.display.HTML object>"
            ]
          },
          "metadata": {
            "tags": []
          }
        },
        {
          "output_type": "execute_result",
          "data": {
            "text/plain": [
              "<wandb.sdk.wandb_run.Run at 0x7f5522cbc9e8>"
            ],
            "text/html": [
              "<h1>Run(162a046h)</h1><p></p><iframe src=\"https://wandb.ai/christian_vadillo/test/runs/162a046h\" style=\"border:none;width:100%;height:400px\"></iframe>"
            ]
          },
          "metadata": {
            "tags": []
          },
          "execution_count": 17
        }
      ]
    },
    {
      "cell_type": "code",
      "metadata": {
        "id": "gUNu4DY_gZdd",
        "outputId": "c9683271-a529-4dd2-ae15-aa48c15a9133",
        "colab": {
          "base_uri": "https://localhost:8080/"
        }
      },
      "source": [
        "# Configuration for hyperparameter sweep\n",
        "sweep_config = {\n",
        "   'method': 'bayes',\n",
        "   'metric': {\n",
        "       'name': 'val_accuracy_score',\n",
        "       'goal': 'maximize', \n",
        "       'target': 0.93\n",
        "        },\n",
        "    'early_terminate':{\n",
        "        'type': 'hyperband',\n",
        "        's': 2,\n",
        "        'eta': 3,\n",
        "        'max_iter': 27\n",
        "    },\n",
        "    #https://neptune.ai/blog/lightgbm-parameters-guide\n",
        "    #early stopping does not work with 'dart', 'goss' boosting, try it in a separate run\n",
        "    #without early stopping\n",
        "   'parameters': {\n",
        "        \"boosting_type\": {\n",
        "           'distribution': 'categorical',\n",
        "           'values': ['dart']\n",
        "       }, \n",
        "        \"n_estimators\": {\n",
        "           'distribution': 'int_uniform',\n",
        "           'min': 200,\n",
        "           'max': 400\n",
        "       }, \n",
        "        \"max_depth\": {\n",
        "           'distribution': 'int_uniform',\n",
        "           'min': 25,\n",
        "           'max': 35,\n",
        "       },\n",
        "       \"num_leaves\": {\n",
        "           'distribution': 'int_uniform',\n",
        "           'min': 10,\n",
        "           'max': 30\n",
        "       }, \n",
        "       \"learning_rate\": {\n",
        "           'distribution': 'log_uniform',\n",
        "           'min': -2.5,\n",
        "           'max': 0.5\n",
        "       },\n",
        "       \"reg_lambda\": {\n",
        "           'distribution': 'uniform',\n",
        "           'min': 1,\n",
        "           'max': 6\n",
        "       },\n",
        "        \"reg_alpha\": {\n",
        "           'distribution': 'uniform',\n",
        "           'min': 3,\n",
        "           'max': 6\n",
        "       },\n",
        "        \"colsample_bytree\": {\n",
        "           'distribution': 'uniform',\n",
        "           'min': 0.1,\n",
        "           'max': 1.0\n",
        "        },\n",
        "        \"subsample_for_bin\": {\n",
        "           'distribution': 'int_uniform',\n",
        "           'min': 200000,\n",
        "           'max': 800000\n",
        "        },\n",
        "        \"subsample\": {\n",
        "           'distribution': 'uniform',\n",
        "           'min': 0.6,\n",
        "           'max': 1.0\n",
        "        },\n",
        "        \"min_child_weight\": {\n",
        "           'distribution': 'int_uniform',\n",
        "           'min': 1,\n",
        "           'max': 5\n",
        "        },\n",
        "\n",
        "   }\n",
        "}\n",
        "\n",
        "sweep_id = wandb.sweep(sweep_config, project='test')"
      ],
      "execution_count": null,
      "outputs": [
        {
          "output_type": "stream",
          "text": [
            "\u001b[34m\u001b[1mwandb\u001b[0m: \u001b[33mWARNING\u001b[0m Calling wandb.login() after wandb.init() has no effect.\n"
          ],
          "name": "stderr"
        },
        {
          "output_type": "stream",
          "text": [
            "Create sweep with ID: lntzcr95\n",
            "Sweep URL: https://wandb.ai/christian_vadillo/test/sweeps/lntzcr95\n"
          ],
          "name": "stdout"
        }
      ]
    },
    {
      "cell_type": "code",
      "metadata": {
        "id": "yZh2LfzIrYf4"
      },
      "source": [
        "X_train_norm = normalize_corpus(X_train)\n",
        "X_val_norm = normalize_corpus(X_val)\n",
        "X_test_norm = normalize_corpus(X_test)"
      ],
      "execution_count": null,
      "outputs": []
    },
    {
      "cell_type": "code",
      "metadata": {
        "id": "QSiuseaRqZz4"
      },
      "source": [
        "# Prepare data for LightGBM\n",
        "# dtrain = lgb.Dataset(X_train.values, label=y_train.values)\n",
        "# dvalid = lgb.Dataset(X_test.values, label=y_test.values)\n",
        "# watchlist = [dtrain, dvalid]\n",
        "\n",
        "\n",
        "def _train():\n",
        "    # Configure and train model\n",
        "    wandb.init(name=\"LightGBM_sweep\")\n",
        "\n",
        "\n",
        "    clf = LGBMClassifier(boosting_type=wandb.config.boosting_type,\n",
        "                          n_estimators=wandb.config.n_estimators,                 \n",
        "                          max_depth=wandb.config.max_depth,\n",
        "                          learning_rate=wandb.config.learning_rate,\n",
        "                          num_leaves=wandb.config.num_leaves,\n",
        "                          min_child_weight=wandb.config.min_child_weight,\n",
        "                          subsample=wandb.config.subsample,\n",
        "                          reg_alpha=wandb.config.reg_alpha,\n",
        "                          reg_lambda=wandb.config.reg_lambda,\n",
        "                          colsample_bytree=wandb.config.colsample_bytree,\n",
        "                          subsample_for_bin=wandb.config.subsample_for_bin,\n",
        "                          n_jobs=-1, random_state=SEED)\n",
        "\n",
        "    steps = [\n",
        "             ('vect', CountVectorizer(analyzer='word',\n",
        "                                      ngram_range=config.get('ngram_range'))),\n",
        "             ('tfidf', TfidfTransformer()),\n",
        "             ('clf', clf)\n",
        "        ]\n",
        "    pipe = Pipeline(steps=steps)\n",
        "    pipe.fit(X_train_norm, y_train)\n",
        "\n",
        "    # lgbm_config = {\"num_leaves\": wandb.config.num_leaves,\n",
        "    #                'boosting': wandb.config.boosting,\n",
        "    #                \"max_depth\": wandb.config.max_depth, \n",
        "    #                \"learning_rate\": wandb.config.learning_rate,\n",
        "    #                \"bagging_freq\": wandb.config.bagging_freq, \n",
        "    #                \"bagging_fraction\": wandb.config.bagging_fraction,\n",
        "    #                \"feature_fraction\": wandb.config.feature_fraction,\n",
        "    #                \"metric\": ['mse','accuracy'],\n",
        "    #                \"random_state\": seed}\n",
        "\n",
        "    # lgbm_model = lgb.train(lgbm_config, \n",
        "    #                        train_set=dtrain, \n",
        "    #                        num_boost_round=999,\n",
        "    #                        valid_sets=watchlist, \n",
        "    #                        callbacks=[wandb_callback()],\n",
        "    #                        verbose_eval=100,\n",
        "    #                        early_stopping_rounds=10)\n",
        "    \n",
        "    # Create predictions for evaluation\n",
        "    y_val_preds = pipe.predict(X_val_norm)\n",
        "    y_test_preds = pipe.predict(X_test_norm)\n",
        "    \n",
        "    # W&B log metrics\n",
        "    wandb.log({'val_accuracy_score': accuracy_score(y_val, y_val_preds)})\n",
        "    wandb.log({'test_accuracy_score': accuracy_score(y_test, y_test_preds)})\n"
      ],
      "execution_count": null,
      "outputs": []
    },
    {
      "cell_type": "code",
      "metadata": {
        "id": "z2T5dXzFsSJc",
        "outputId": "33594dbc-bd3d-4662-9858-fb3a32ed4145",
        "colab": {
          "base_uri": "https://localhost:8080/",
          "height": 1000,
          "referenced_widgets": [
            "be9ad88ac7684e60b0e6d0c11b74411b",
            "eb1b2b578603402aa324ab59836fe658",
            "9814d27bc8b14c289344d05e2f37a743",
            "41eae55dcfbe47e4aa1a9ed03ca34808",
            "4373c6009c3041a7a6bb8560ffe6b15e",
            "69591c1d55fc405096d951398e7925be",
            "40d87a1833cf4704b7acb7c72c4d9c0a",
            "7482b7914c09413ab14633730e9507c5",
            "8df35fe3f5ca4bee9ece5c3c96248991",
            "2a22499dc69e4533a620506913065ada",
            "91491812864047e9a6aed4f9f43957d6",
            "27354478d9ab41a29d6da6c017e66cb3",
            "b3f6b1eab214448394cbde5fea7348c9",
            "45310a92b990418aae2107b9a0b74742",
            "73bb4078ecbb46419a549f1236a4523d",
            "8de2e23d3cb14a7d93f79d488f9ff690"
          ]
        }
      },
      "source": [
        "# Run hyperparameter sweep (grid search)\n",
        "wandb.agent(sweep_id, function=_train)"
      ],
      "execution_count": null,
      "outputs": [
        {
          "output_type": "stream",
          "text": [
            "\u001b[34m\u001b[1mwandb\u001b[0m: \u001b[33mWARNING\u001b[0m Calling wandb.login() after wandb.init() has no effect.\n",
            "\u001b[34m\u001b[1mwandb\u001b[0m: Agent Starting Run: 9nvdvsfv with config:\n",
            "\u001b[34m\u001b[1mwandb\u001b[0m: \tboosting_type: dart\n",
            "\u001b[34m\u001b[1mwandb\u001b[0m: \tcolsample_bytree: 0.5441965326524222\n",
            "\u001b[34m\u001b[1mwandb\u001b[0m: \tlearning_rate: 0.5565163570942929\n",
            "\u001b[34m\u001b[1mwandb\u001b[0m: \tmax_depth: 33\n",
            "\u001b[34m\u001b[1mwandb\u001b[0m: \tmin_child_weight: 2\n",
            "\u001b[34m\u001b[1mwandb\u001b[0m: \tn_estimators: 311\n",
            "\u001b[34m\u001b[1mwandb\u001b[0m: \tnum_leaves: 15\n",
            "\u001b[34m\u001b[1mwandb\u001b[0m: \treg_alpha: 5.7059618388530895\n",
            "\u001b[34m\u001b[1mwandb\u001b[0m: \treg_lambda: 1.883514542070742\n",
            "\u001b[34m\u001b[1mwandb\u001b[0m: \tsubsample: 0.9347514977946791\n",
            "\u001b[34m\u001b[1mwandb\u001b[0m: \tsubsample_for_bin: 311964\n"
          ],
          "name": "stderr"
        },
        {
          "output_type": "display_data",
          "data": {
            "text/html": [
              "\n",
              "                Tracking run with wandb version 0.10.9<br/>\n",
              "                Syncing run <strong style=\"color:#cdcd00\">LightGBM_sweep</strong> to <a href=\"https://wandb.ai\" target=\"_blank\">Weights & Biases</a> <a href=\"https://docs.wandb.com/integrations/jupyter.html\" target=\"_blank\">(Documentation)</a>.<br/>\n",
              "                Project page: <a href=\"https://wandb.ai/christian_vadillo/test\" target=\"_blank\">https://wandb.ai/christian_vadillo/test</a><br/>\n",
              "                Sweep page: <a href=\"https://wandb.ai/christian_vadillo/test/sweeps/lntzcr95\" target=\"_blank\">https://wandb.ai/christian_vadillo/test/sweeps/lntzcr95</a><br/>\n",
              "Run page: <a href=\"https://wandb.ai/christian_vadillo/test/runs/9nvdvsfv\" target=\"_blank\">https://wandb.ai/christian_vadillo/test/runs/9nvdvsfv</a><br/>\n",
              "                Run data is saved locally in <code>/content/wandb/run-20201106_225957-9nvdvsfv</code><br/><br/>\n",
              "            "
            ],
            "text/plain": [
              "<IPython.core.display.HTML object>"
            ]
          },
          "metadata": {
            "tags": []
          }
        },
        {
          "output_type": "display_data",
          "data": {
            "text/html": [
              "<br/>Waiting for W&B process to finish, PID 20261<br/>Program ended successfully."
            ],
            "text/plain": [
              "<IPython.core.display.HTML object>"
            ]
          },
          "metadata": {
            "tags": []
          }
        },
        {
          "output_type": "display_data",
          "data": {
            "application/vnd.jupyter.widget-view+json": {
              "model_id": "be9ad88ac7684e60b0e6d0c11b74411b",
              "version_minor": 0,
              "version_major": 2
            },
            "text/plain": [
              "VBox(children=(Label(value=' 0.00MB of 0.00MB uploaded (0.00MB deduped)\\r'), FloatProgress(value=1.0, max=1.0)…"
            ]
          },
          "metadata": {
            "tags": []
          }
        },
        {
          "output_type": "display_data",
          "data": {
            "text/html": [
              "Find user logs for this run at: <code>/content/wandb/run-20201106_225957-9nvdvsfv/logs/debug.log</code>"
            ],
            "text/plain": [
              "<IPython.core.display.HTML object>"
            ]
          },
          "metadata": {
            "tags": []
          }
        },
        {
          "output_type": "display_data",
          "data": {
            "text/html": [
              "Find internal logs for this run at: <code>/content/wandb/run-20201106_225957-9nvdvsfv/logs/debug-internal.log</code>"
            ],
            "text/plain": [
              "<IPython.core.display.HTML object>"
            ]
          },
          "metadata": {
            "tags": []
          }
        },
        {
          "output_type": "display_data",
          "data": {
            "text/html": [
              "<h3>Run summary:</h3><br/><style>\n",
              "    table.wandb td:nth-child(1) { padding: 0 10px; text-align: right }\n",
              "    </style><table class=\"wandb\">\n",
              "<tr><td>val_accuracy_score</td><td>0.91784</td></tr><tr><td>_step</td><td>1</td></tr><tr><td>_runtime</td><td>13</td></tr><tr><td>_timestamp</td><td>1604703610</td></tr><tr><td>test_accuracy_score</td><td>0.90648</td></tr></table>"
            ],
            "text/plain": [
              "<IPython.core.display.HTML object>"
            ]
          },
          "metadata": {
            "tags": []
          }
        },
        {
          "output_type": "display_data",
          "data": {
            "text/html": [
              "<h3>Run history:</h3><br/><style>\n",
              "    table.wandb td:nth-child(1) { padding: 0 10px; text-align: right }\n",
              "    </style><table class=\"wandb\">\n",
              "<tr><td>val_accuracy_score</td><td>▁</td></tr><tr><td>_step</td><td>▁█</td></tr><tr><td>_runtime</td><td>▁▁</td></tr><tr><td>_timestamp</td><td>▁▁</td></tr><tr><td>test_accuracy_score</td><td>▁</td></tr></table><br/>"
            ],
            "text/plain": [
              "<IPython.core.display.HTML object>"
            ]
          },
          "metadata": {
            "tags": []
          }
        },
        {
          "output_type": "display_data",
          "data": {
            "text/html": [
              "Synced 4 W&B file(s), 0 media file(s), 0 artifact file(s) and 0 other file(s)"
            ],
            "text/plain": [
              "<IPython.core.display.HTML object>"
            ]
          },
          "metadata": {
            "tags": []
          }
        },
        {
          "output_type": "display_data",
          "data": {
            "text/html": [
              "\n",
              "                    <br/>Synced <strong style=\"color:#cdcd00\">LightGBM_sweep</strong>: <a href=\"https://wandb.ai/christian_vadillo/test/runs/9nvdvsfv\" target=\"_blank\">https://wandb.ai/christian_vadillo/test/runs/9nvdvsfv</a><br/>\n",
              "                "
            ],
            "text/plain": [
              "<IPython.core.display.HTML object>"
            ]
          },
          "metadata": {
            "tags": []
          }
        },
        {
          "output_type": "stream",
          "text": [
            "\u001b[34m\u001b[1mwandb\u001b[0m: Agent Starting Run: jd8sqyot with config:\n",
            "\u001b[34m\u001b[1mwandb\u001b[0m: \tboosting_type: dart\n",
            "\u001b[34m\u001b[1mwandb\u001b[0m: \tcolsample_bytree: 0.13300907499877512\n",
            "\u001b[34m\u001b[1mwandb\u001b[0m: \tlearning_rate: 0.3146544241014905\n",
            "\u001b[34m\u001b[1mwandb\u001b[0m: \tmax_depth: 27\n",
            "\u001b[34m\u001b[1mwandb\u001b[0m: \tmin_child_weight: 5\n",
            "\u001b[34m\u001b[1mwandb\u001b[0m: \tn_estimators: 348\n",
            "\u001b[34m\u001b[1mwandb\u001b[0m: \tnum_leaves: 18\n",
            "\u001b[34m\u001b[1mwandb\u001b[0m: \treg_alpha: 3.131946422340626\n",
            "\u001b[34m\u001b[1mwandb\u001b[0m: \treg_lambda: 2.4578824606997207\n",
            "\u001b[34m\u001b[1mwandb\u001b[0m: \tsubsample: 0.6998829680702567\n",
            "\u001b[34m\u001b[1mwandb\u001b[0m: \tsubsample_for_bin: 538058\n"
          ],
          "name": "stderr"
        },
        {
          "output_type": "display_data",
          "data": {
            "text/html": [
              "\n",
              "                Tracking run with wandb version 0.10.9<br/>\n",
              "                Syncing run <strong style=\"color:#cdcd00\">LightGBM_sweep</strong> to <a href=\"https://wandb.ai\" target=\"_blank\">Weights & Biases</a> <a href=\"https://docs.wandb.com/integrations/jupyter.html\" target=\"_blank\">(Documentation)</a>.<br/>\n",
              "                Project page: <a href=\"https://wandb.ai/christian_vadillo/test\" target=\"_blank\">https://wandb.ai/christian_vadillo/test</a><br/>\n",
              "                Sweep page: <a href=\"https://wandb.ai/christian_vadillo/test/sweeps/lntzcr95\" target=\"_blank\">https://wandb.ai/christian_vadillo/test/sweeps/lntzcr95</a><br/>\n",
              "Run page: <a href=\"https://wandb.ai/christian_vadillo/test/runs/jd8sqyot\" target=\"_blank\">https://wandb.ai/christian_vadillo/test/runs/jd8sqyot</a><br/>\n",
              "                Run data is saved locally in <code>/content/wandb/run-20201106_230014-jd8sqyot</code><br/><br/>\n",
              "            "
            ],
            "text/plain": [
              "<IPython.core.display.HTML object>"
            ]
          },
          "metadata": {
            "tags": []
          }
        },
        {
          "output_type": "display_data",
          "data": {
            "text/html": [
              "<br/>Waiting for W&B process to finish, PID 20291<br/>Program ended successfully."
            ],
            "text/plain": [
              "<IPython.core.display.HTML object>"
            ]
          },
          "metadata": {
            "tags": []
          }
        },
        {
          "output_type": "display_data",
          "data": {
            "application/vnd.jupyter.widget-view+json": {
              "model_id": "8df35fe3f5ca4bee9ece5c3c96248991",
              "version_minor": 0,
              "version_major": 2
            },
            "text/plain": [
              "VBox(children=(Label(value=' 0.00MB of 0.00MB uploaded (0.00MB deduped)\\r'), FloatProgress(value=1.0, max=1.0)…"
            ]
          },
          "metadata": {
            "tags": []
          }
        },
        {
          "output_type": "display_data",
          "data": {
            "text/html": [
              "Find user logs for this run at: <code>/content/wandb/run-20201106_230014-jd8sqyot/logs/debug.log</code>"
            ],
            "text/plain": [
              "<IPython.core.display.HTML object>"
            ]
          },
          "metadata": {
            "tags": []
          }
        },
        {
          "output_type": "display_data",
          "data": {
            "text/html": [
              "Find internal logs for this run at: <code>/content/wandb/run-20201106_230014-jd8sqyot/logs/debug-internal.log</code>"
            ],
            "text/plain": [
              "<IPython.core.display.HTML object>"
            ]
          },
          "metadata": {
            "tags": []
          }
        },
        {
          "output_type": "display_data",
          "data": {
            "text/html": [
              "<h3>Run summary:</h3><br/><style>\n",
              "    table.wandb td:nth-child(1) { padding: 0 10px; text-align: right }\n",
              "    </style><table class=\"wandb\">\n",
              "<tr><td>val_accuracy_score</td><td>0.92251</td></tr><tr><td>_step</td><td>1</td></tr><tr><td>_runtime</td><td>11</td></tr><tr><td>_timestamp</td><td>1604703625</td></tr><tr><td>test_accuracy_score</td><td>0.9018</td></tr></table>"
            ],
            "text/plain": [
              "<IPython.core.display.HTML object>"
            ]
          },
          "metadata": {
            "tags": []
          }
        },
        {
          "output_type": "display_data",
          "data": {
            "text/html": [
              "<h3>Run history:</h3><br/><style>\n",
              "    table.wandb td:nth-child(1) { padding: 0 10px; text-align: right }\n",
              "    </style><table class=\"wandb\">\n",
              "<tr><td>val_accuracy_score</td><td>▁</td></tr><tr><td>_step</td><td>▁█</td></tr><tr><td>_runtime</td><td>▁▁</td></tr><tr><td>_timestamp</td><td>▁▁</td></tr><tr><td>test_accuracy_score</td><td>▁</td></tr></table><br/>"
            ],
            "text/plain": [
              "<IPython.core.display.HTML object>"
            ]
          },
          "metadata": {
            "tags": []
          }
        },
        {
          "output_type": "display_data",
          "data": {
            "text/html": [
              "Synced 4 W&B file(s), 0 media file(s), 0 artifact file(s) and 0 other file(s)"
            ],
            "text/plain": [
              "<IPython.core.display.HTML object>"
            ]
          },
          "metadata": {
            "tags": []
          }
        },
        {
          "output_type": "display_data",
          "data": {
            "text/html": [
              "\n",
              "                    <br/>Synced <strong style=\"color:#cdcd00\">LightGBM_sweep</strong>: <a href=\"https://wandb.ai/christian_vadillo/test/runs/jd8sqyot\" target=\"_blank\">https://wandb.ai/christian_vadillo/test/runs/jd8sqyot</a><br/>\n",
              "                "
            ],
            "text/plain": [
              "<IPython.core.display.HTML object>"
            ]
          },
          "metadata": {
            "tags": []
          }
        },
        {
          "output_type": "stream",
          "text": [
            "\u001b[34m\u001b[1mwandb\u001b[0m: Agent Starting Run: 7hrri35t with config:\n",
            "\u001b[34m\u001b[1mwandb\u001b[0m: \tboosting_type: dart\n",
            "\u001b[34m\u001b[1mwandb\u001b[0m: \tcolsample_bytree: 0.6495472318621289\n",
            "\u001b[34m\u001b[1mwandb\u001b[0m: \tlearning_rate: 0.09626151938740096\n",
            "\u001b[34m\u001b[1mwandb\u001b[0m: \tmax_depth: 29\n",
            "\u001b[34m\u001b[1mwandb\u001b[0m: \tmin_child_weight: 3\n",
            "\u001b[34m\u001b[1mwandb\u001b[0m: \tn_estimators: 334\n",
            "\u001b[34m\u001b[1mwandb\u001b[0m: \tnum_leaves: 17\n",
            "\u001b[34m\u001b[1mwandb\u001b[0m: \treg_alpha: 4.540320489843758\n",
            "\u001b[34m\u001b[1mwandb\u001b[0m: \treg_lambda: 4.97721486071872\n",
            "\u001b[34m\u001b[1mwandb\u001b[0m: \tsubsample: 0.6578055175852378\n",
            "\u001b[34m\u001b[1mwandb\u001b[0m: \tsubsample_for_bin: 633325\n"
          ],
          "name": "stderr"
        },
        {
          "output_type": "display_data",
          "data": {
            "text/html": [
              "\n",
              "                Tracking run with wandb version 0.10.9<br/>\n",
              "                Syncing run <strong style=\"color:#cdcd00\">LightGBM_sweep</strong> to <a href=\"https://wandb.ai\" target=\"_blank\">Weights & Biases</a> <a href=\"https://docs.wandb.com/integrations/jupyter.html\" target=\"_blank\">(Documentation)</a>.<br/>\n",
              "                Project page: <a href=\"https://wandb.ai/christian_vadillo/test\" target=\"_blank\">https://wandb.ai/christian_vadillo/test</a><br/>\n",
              "                Sweep page: <a href=\"https://wandb.ai/christian_vadillo/test/sweeps/lntzcr95\" target=\"_blank\">https://wandb.ai/christian_vadillo/test/sweeps/lntzcr95</a><br/>\n",
              "Run page: <a href=\"https://wandb.ai/christian_vadillo/test/runs/7hrri35t\" target=\"_blank\">https://wandb.ai/christian_vadillo/test/runs/7hrri35t</a><br/>\n",
              "                Run data is saved locally in <code>/content/wandb/run-20201106_230031-7hrri35t</code><br/><br/>\n",
              "            "
            ],
            "text/plain": [
              "<IPython.core.display.HTML object>"
            ]
          },
          "metadata": {
            "tags": []
          }
        }
      ]
    },
    {
      "cell_type": "markdown",
      "metadata": {
        "id": "yU9uz6vYqt9Q"
      },
      "source": [
        "Individual run"
      ]
    },
    {
      "cell_type": "code",
      "metadata": {
        "id": "dlk_Es9EWBoJ"
      },
      "source": [
        "# # Initial configuration for the training phase \n",
        "# config = {\n",
        "#     \"rm_sw\": False,\n",
        "#     \"rm_symb\": False,\n",
        "#     \"lemmatize\": True,\n",
        "#     \"ngram_range\": (1, 1),\n",
        "#     'features': 'title',\n",
        "#     'random_state': SEED,\n",
        "#     'kfolds': 10\n",
        "#     }\n",
        "\n",
        "# config['model'] = 'KNN'\n",
        "\n",
        "# steps = [('norm', NormalizeTextTransformer(rm_sw=config.get('rm_sw'), \n",
        "#                                            rm_symb=config.get('rm_symb'),\n",
        "#                                            lemmatize=config.get('lemmatize'))),\n",
        "#          ('vect', CountVectorizer(ngram_range=config.get('ngram_range'))),\n",
        "#          ('tfidf', TfidfTransformer()),\n",
        "#          ('KNN', KNeighborsClassifier())]\n",
        "\n",
        "# pipe = Pipeline(steps=steps)\n",
        "# run_experiment(config, pipe, X, y)"
      ],
      "execution_count": null,
      "outputs": []
    },
    {
      "cell_type": "code",
      "metadata": {
        "id": "RT6RBUM5qmQd"
      },
      "source": [
        "fig, axs = plt.subplots(2, 2, sharex=False, sharey=False, figsize=(10,8))\n",
        "axs = axs.ravel()  # To get a flattened array\n",
        "\n",
        "for i, m in enumerate(['test_accuracy', 'test_f1', 'test_roc_auc', 'test_pr_auc']):\n",
        "    plot_boxplot(scores_all, m, axs[i])\n",
        "plt.tight_layout()"
      ],
      "execution_count": null,
      "outputs": []
    }
  ]
}
