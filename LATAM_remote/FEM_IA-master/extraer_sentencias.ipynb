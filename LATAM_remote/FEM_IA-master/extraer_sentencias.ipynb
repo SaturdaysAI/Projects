{
  "nbformat": 4,
  "nbformat_minor": 0,
  "metadata": {
    "colab": {
      "name": "extraer sentencias.ipynb",
      "provenance": [],
      "authorship_tag": "ABX9TyOsqLyulLkACEulPgCIYGhw",
      "include_colab_link": true
    },
    "kernelspec": {
      "name": "python3",
      "display_name": "Python 3"
    }
  },
  "cells": [
    {
      "cell_type": "markdown",
      "metadata": {
        "id": "view-in-github",
        "colab_type": "text"
      },
      "source": [
        "<a href=\"https://colab.research.google.com/github/femIA2020/FEM_IA/blob/master/extraer_sentencias.ipynb\" target=\"_parent\"><img src=\"https://colab.research.google.com/assets/colab-badge.svg\" alt=\"Open In Colab\"/></a>"
      ]
    },
    {
      "cell_type": "code",
      "metadata": {
        "id": "066p3OCxW4ZQ"
      },
      "source": [
        ""
      ],
      "execution_count": null,
      "outputs": []
    },
    {
      "cell_type": "code",
      "metadata": {
        "id": "3-fQ-Oa897EV",
        "colab": {
          "base_uri": "https://localhost:8080/"
        },
        "outputId": "36ecf933-d60e-40f4-d614-c2824bf8bcf1"
      },
      "source": [
        "import numpy as np\n",
        "\n",
        "import requests\n",
        "import logging\n",
        "from bs4 import BeautifulSoup\n",
        "import urllib\n",
        "from urllib.parse import urljoin\n",
        "from requests.models import Response\n",
        "\n",
        "FORMAT = '%(asctime)-15s  %(message)s'\n",
        "URL = \"https://www.scjn.gob.mx/igualdad-de-genero/igualdadsentencias?page=0\"\n",
        "URl_BASE='https://www.scjn.gob.mx'\n",
        "logging.basicConfig(format=FORMAT)\n",
        "logging.getLogger('crawler').setLevel(logging.INFO)\n",
        "logger = logging.getLogger('crawler')\n",
        "page = requests.get(URL)\n",
        "soup = BeautifulSoup(page.content, 'html.parser')\n",
        "logger.info(\"Status {}\".format(page.status_code))\n",
        "# logger.info(\"Content {}\".format(page.content))\n",
        "# logger.info(\"HTML Content {}\".format(soup.prettify()))\n",
        "sentence_table = soup.find('table')\n",
        "lista_sentencias=[]\n",
        "for row in sentence_table.find_all('tr'):\n",
        "    tds_sentencia = row.find_all('td')\n",
        "\n",
        "    if len(tds_sentencia) > 0:\n",
        "        link = tds_sentencia[1].find('a').get(\"href\")\n",
        "        lista_sentencias.append(urljoin(URl_BASE,link))\n",
        "\n",
        "        print(\"Perioddo: {} Materia: {} Tema: {} \\n Enlace:{} \".format(tds_sentencia[0].text,\n",
        "                                                                     tds_sentencia[2].text,\n",
        "                                                                     tds_sentencia[3].text,\n",
        "                                                                     link))"
      ],
      "execution_count": null,
      "outputs": [
        {
          "output_type": "stream",
          "text": [
            "2020-11-21 14:19:01,980  Status 200\n"
          ],
          "name": "stderr"
        },
        {
          "output_type": "stream",
          "text": [
            "Perioddo: Año: 2016  Materia: Administrativa           Tema: Omisión por parte de la autoridad de dar respuesta a una queja administrativa por acoso sexual del superior jerárquico. Derecho de petición, seguridad jurídica, acceso a la justicia, principio pro persona, derecho de las víctimas, violencia contra la mujer.           \n",
            " Enlace:/sites/default/files/igualdad/sentencias/documento/2017-08/110%20ADMINISTRATIVA%20NACIONAL%202%20%283E%29.pdf \n",
            "Perioddo: Año: 2014  Materia: Administrativa           Tema: Omisión por parte de la autoridad de dar respuesta a una queja administrativa por acoso sexual del superior jerárquico. Derecho de petición, seguridad jurídica, acceso a la justicia, principio pro persona, derecho de las víctimas, violencia contra la mujer.           \n",
            " Enlace:/sites/default/files/igualdad/sentencias/documento/2017-08/117%20ADMINISTRATIVO%20NACIONAL%201%20%283E%29.pdf \n",
            "Perioddo: Año: 2013  Materia: Administrativa           Tema: Condición de género para establecer el monto de la pensión jubilatoria.  Reevaluación del valor porcentual de las jubilaciones. Igualdad ante la ley.           \n",
            " Enlace:/sites/default/files/igualdad/sentencias/documento/2017-08/56%20ADMINISTRATIVA%20Sentencia%20AR%20231-2013%20II.pdf \n",
            "Perioddo: Año: 2013  Materia: Administrativa           Tema: Faltas de probidad y honradez           \n",
            " Enlace:/sites/default/files/igualdad/sentencias/documento/2016-12/659-2013%20ADMINISTRATIVA.pdf \n",
            "Perioddo: Año: 2015  Materia: Administrativa           Tema: Designación de puestos. Derecho a la igualdad y no discriminación; derecho a la  efectiva participación en la vida política y al desarrollo de la persona.           \n",
            " Enlace:/sites/default/files/igualdad/sentencias/documento/2016-12/Sentencia%20Administrativa%20Internacional%20%28Argentina%29.pdf \n",
            "Perioddo: Año: 2016  Materia: Administrativa           Tema: Pensión por viudez. Igualdad, seguridad y previsión social (mayores requisitos al varón supérstite).           \n",
            " Enlace:/sites/default/files/igualdad/sentencias/documento/2016-12/Sentencia%20Administrativa%20Nacional%202.pdf \n",
            "Perioddo: Año: 2016  Materia: Administrativa           Tema: No discriminación, igualdad entre hombre y mujer, seguridad social, interés superior del menor.           \n",
            " Enlace:/sites/default/files/igualdad/sentencias/documento/2016-12/Sentencia%20Administrativa%20Nacional.pdf \n",
            "Perioddo: Año: 2010  Materia: Administrativo           Tema: Mujer víctima de discriminación laboral al no ser contratada como vigilante en la Batería Santa Clara de ECOPETROL por su condición de mujer. (Discriminación laboral por razón de género, principio de igualdad, derechos fundamentales, acceso a la justicia - COLOMBIA)           \n",
            " Enlace:/sites/default/files/igualdad/sentencias/documento/2017-08/36%20ADMINSITRATIVO%202%20COLOMBIA%20Sent%20_esp.pdf \n",
            "Perioddo: Año: 2017  Materia: Administrativo           Tema: Se juzga con perspectiva de género un caso de pensiones de las trabajadoras de la España Franquista, SOVI. \r\n",
            "(Discriminación indirecta, discriminación por asociación o por vinculación, juzgar con perspectiva de género - ESPAÑA, CANARIAS)           \n",
            " Enlace:/sites/default/files/igualdad/sentencias/documento/2017-08/34%20ADMINISTRATIVO%201%20ESPA%C3%91A%20Sent%20_esp.pdf \n",
            "Perioddo: Año: 2014  Materia: Administrativo           Tema: Discriminación por embarazo en contra de una médica, estudiante de una especialidad en medicina.           \n",
            " Enlace:/sites/default/files/igualdad/sentencias/documento/2017-08/ADMINISTRATIVO%20NACIONAL.pdf \n",
            "Perioddo: Año: 2015  Materia: Administrativo           Tema: Violencia institucional contra una mujer. Derecho de acceso a la vivienda. (Argentina)           \n",
            " Enlace:/sites/default/files/igualdad/sentencias/documento/2017-08/ADMINISTRATIVO%20INTERNACIONAL.pdf \n",
            "Perioddo: Año: 2015  Materia: Administrativo           Tema: Obligación de garantizar el interés fiscal por los derechos de agua reclamados. Derechos a la igualdad, a la no discriminación, al acceso al agua. Adultos mayores como grupo vulnerable.           \n",
            " Enlace:/sites/default/files/igualdad/sentencias/documento/2016-12/1%20ADMINISTRATIVA%2012AMIJ.pdf \n",
            "Perioddo: Año: 2016  Materia: Adminsitrativa           Tema: MIGRANTES (ESPAÑA) - Internas de un CIE sin ropa suficiente ni artículos de higiene (Derecho a la dignidad personal, a la salud, relacionado con el derecho a la vida y a la integridad física, no discriminación por razón de sexo).           \n",
            " Enlace:/sites/default/files/igualdad/sentencias/documento/2017-08/10%20MIGRANTES%20ESPA%C3%91A%20AUTO%20DE%20JUZGADO%20CIE_esp.pdf \n",
            "Perioddo: Año: 2014  Materia: Civil           Tema: Responsabilidad extracontractual del Estado y daño moral por omisión ante un feminicidio (violencia familiar, feminicidio, derecho a la vida, integridad física y moral, acceso a la justicia, responsabilidad civil del Estado. -ARGENTINA)           \n",
            " Enlace:/sites/default/files/igualdad/sentencias/documento/2017-08/18%20CIVIL%20ARGENTINA%20Sent%20122%20_esp.pdf \n",
            "Perioddo: Año: 2016  Materia: Civil           Tema: El derecho de percibir alimentos le asiste, en principio al cónyuge que teniendo la necesidad de recibirlos, durante el matrimonio se haya dedicado preponderantemente al hogar y al cuidado de los hijos.  Al marido le corresponde demostrar que la cónyuge sí está en condiciones de satisfacer sus necesidades alimentarias.           \n",
            " Enlace:/sites/default/files/igualdad/sentencias/documento/2017-08/94%20CIVIL%20NACIONAL%20%283E%29.pdf \n"
          ],
          "name": "stdout"
        }
      ]
    },
    {
      "cell_type": "code",
      "metadata": {
        "id": "7fDguaD4D8rb"
      },
      "source": [
        "response= requests.get(pdf_lince)"
      ],
      "execution_count": null,
      "outputs": []
    },
    {
      "cell_type": "code",
      "metadata": {
        "id": "4T7yzv419Mvs"
      },
      "source": [
        "ruta=\"/content/drive/MyDrive/Colab Notebooks/saturday ia/justicia abierta/sentencias_sjn/pdfs/\"\n",
        "\n",
        "with open(ruta+\"sal.pdf\",'wb') as f:\n",
        "  f.write(response.content)"
      ],
      "execution_count": null,
      "outputs": []
    },
    {
      "cell_type": "code",
      "metadata": {
        "id": "Ue4GTFvcTuQY"
      },
      "source": [
        "for i,url_pdf in enumerate(lista_sentencias):\n",
        "  pdf_file=url_pdf.split(\"/\")[-1].replace(\"%20\",\"_\")\n",
        "  response= requests.get(url_pdf)\n",
        "  with open(ruta+str(i)+\".pdf\",\"wb\") as f:\n",
        "    f.write(response.content)\n",
        "  "
      ],
      "execution_count": null,
      "outputs": []
    },
    {
      "cell_type": "code",
      "metadata": {
        "id": "EgtqVhKObDom",
        "colab": {
          "base_uri": "https://localhost:8080/"
        },
        "outputId": "a9226580-3167-437b-95a1-6fc2dcd90b7f"
      },
      "source": [
        "!sudo apt-get install poppler-utils\n",
        "!sudo apt install build-essential libpoppler-cpp-dev pkg-config python3-dev"
      ],
      "execution_count": null,
      "outputs": [
        {
          "output_type": "stream",
          "text": [
            "Reading package lists... Done\n",
            "Building dependency tree       \n",
            "Reading state information... Done\n",
            "The following NEW packages will be installed:\n",
            "  poppler-utils\n",
            "0 upgraded, 1 newly installed, 0 to remove and 14 not upgraded.\n",
            "Need to get 154 kB of archives.\n",
            "After this operation, 613 kB of additional disk space will be used.\n",
            "Get:1 http://archive.ubuntu.com/ubuntu bionic-updates/main amd64 poppler-utils amd64 0.62.0-2ubuntu2.10 [154 kB]\n",
            "Fetched 154 kB in 0s (2,317 kB/s)\n",
            "debconf: unable to initialize frontend: Dialog\n",
            "debconf: (No usable dialog-like program is installed, so the dialog based frontend cannot be used. at /usr/share/perl5/Debconf/FrontEnd/Dialog.pm line 76, <> line 1.)\n",
            "debconf: falling back to frontend: Readline\n",
            "debconf: unable to initialize frontend: Readline\n",
            "debconf: (This frontend requires a controlling tty.)\n",
            "debconf: falling back to frontend: Teletype\n",
            "dpkg-preconfigure: unable to re-open stdin: \n",
            "Selecting previously unselected package poppler-utils.\n",
            "(Reading database ... 145256 files and directories currently installed.)\n",
            "Preparing to unpack .../poppler-utils_0.62.0-2ubuntu2.10_amd64.deb ...\n",
            "Unpacking poppler-utils (0.62.0-2ubuntu2.10) ...\n",
            "Setting up poppler-utils (0.62.0-2ubuntu2.10) ...\n",
            "Processing triggers for man-db (2.8.3-2ubuntu0.1) ...\n",
            "Reading package lists... Done\n",
            "Building dependency tree       \n",
            "Reading state information... Done\n",
            "build-essential is already the newest version (12.4ubuntu1).\n",
            "pkg-config is already the newest version (0.29.1-0ubuntu2).\n",
            "python3-dev is already the newest version (3.6.7-1~18.04).\n",
            "The following additional packages will be installed:\n",
            "  libpoppler-cpp0v5 libpoppler-dev\n",
            "The following NEW packages will be installed:\n",
            "  libpoppler-cpp-dev libpoppler-cpp0v5 libpoppler-dev\n",
            "0 upgraded, 3 newly installed, 0 to remove and 14 not upgraded.\n",
            "Need to get 41.3 kB of archives.\n",
            "After this operation, 233 kB of additional disk space will be used.\n",
            "Get:1 http://archive.ubuntu.com/ubuntu bionic-updates/main amd64 libpoppler-cpp0v5 amd64 0.62.0-2ubuntu2.10 [28.0 kB]\n",
            "Get:2 http://archive.ubuntu.com/ubuntu bionic-updates/main amd64 libpoppler-dev amd64 0.62.0-2ubuntu2.10 [4,608 B]\n",
            "Get:3 http://archive.ubuntu.com/ubuntu bionic-updates/main amd64 libpoppler-cpp-dev amd64 0.62.0-2ubuntu2.10 [8,684 B]\n",
            "Fetched 41.3 kB in 0s (642 kB/s)\n",
            "debconf: unable to initialize frontend: Dialog\n",
            "debconf: (No usable dialog-like program is installed, so the dialog based frontend cannot be used. at /usr/share/perl5/Debconf/FrontEnd/Dialog.pm line 76, <> line 3.)\n",
            "debconf: falling back to frontend: Readline\n",
            "debconf: unable to initialize frontend: Readline\n",
            "debconf: (This frontend requires a controlling tty.)\n",
            "debconf: falling back to frontend: Teletype\n",
            "dpkg-preconfigure: unable to re-open stdin: \n",
            "Selecting previously unselected package libpoppler-cpp0v5:amd64.\n",
            "(Reading database ... 145284 files and directories currently installed.)\n",
            "Preparing to unpack .../libpoppler-cpp0v5_0.62.0-2ubuntu2.10_amd64.deb ...\n",
            "Unpacking libpoppler-cpp0v5:amd64 (0.62.0-2ubuntu2.10) ...\n",
            "Selecting previously unselected package libpoppler-dev:amd64.\n",
            "Preparing to unpack .../libpoppler-dev_0.62.0-2ubuntu2.10_amd64.deb ...\n",
            "Unpacking libpoppler-dev:amd64 (0.62.0-2ubuntu2.10) ...\n",
            "Selecting previously unselected package libpoppler-cpp-dev:amd64.\n",
            "Preparing to unpack .../libpoppler-cpp-dev_0.62.0-2ubuntu2.10_amd64.deb ...\n",
            "Unpacking libpoppler-cpp-dev:amd64 (0.62.0-2ubuntu2.10) ...\n",
            "Setting up libpoppler-dev:amd64 (0.62.0-2ubuntu2.10) ...\n",
            "Setting up libpoppler-cpp0v5:amd64 (0.62.0-2ubuntu2.10) ...\n",
            "Setting up libpoppler-cpp-dev:amd64 (0.62.0-2ubuntu2.10) ...\n",
            "Processing triggers for libc-bin (2.27-3ubuntu1.2) ...\n",
            "/sbin/ldconfig.real: /usr/local/lib/python3.6/dist-packages/ideep4py/lib/libmkldnn.so.0 is not a symbolic link\n",
            "\n"
          ],
          "name": "stdout"
        }
      ]
    },
    {
      "cell_type": "code",
      "metadata": {
        "id": "qbBIDR5JeJIk",
        "colab": {
          "base_uri": "https://localhost:8080/"
        },
        "outputId": "319862ac-e14f-48bc-caca-f89e1bf80d6e"
      },
      "source": [
        "!pip install pdftotext"
      ],
      "execution_count": null,
      "outputs": [
        {
          "output_type": "stream",
          "text": [
            "Collecting pdftotext\n",
            "\u001b[?25l  Downloading https://files.pythonhosted.org/packages/df/ad/87e0429c74f50721b90e0f4b5700d66b2ba2e5bf3d3a59acf1bb81dfac7a/pdftotext-2.1.5.tar.gz (98kB)\n",
            "\r\u001b[K     |███▎                            | 10kB 18.3MB/s eta 0:00:01\r\u001b[K     |██████▋                         | 20kB 22.3MB/s eta 0:00:01\r\u001b[K     |██████████                      | 30kB 16.3MB/s eta 0:00:01\r\u001b[K     |█████████████▎                  | 40kB 15.5MB/s eta 0:00:01\r\u001b[K     |████████████████▋               | 51kB 16.3MB/s eta 0:00:01\r\u001b[K     |████████████████████            | 61kB 18.3MB/s eta 0:00:01\r\u001b[K     |███████████████████████▏        | 71kB 12.3MB/s eta 0:00:01\r\u001b[K     |██████████████████████████▌     | 81kB 13.1MB/s eta 0:00:01\r\u001b[K     |█████████████████████████████▉  | 92kB 11.9MB/s eta 0:00:01\r\u001b[K     |████████████████████████████████| 102kB 6.0MB/s \n",
            "\u001b[?25hBuilding wheels for collected packages: pdftotext\n",
            "  Building wheel for pdftotext (setup.py) ... \u001b[?25l\u001b[?25hdone\n",
            "  Created wheel for pdftotext: filename=pdftotext-2.1.5-cp36-cp36m-linux_x86_64.whl size=54105 sha256=4182d9f20a053ec7c2a2db2f36b44d08158ec10028fade98812da33eed110097\n",
            "  Stored in directory: /root/.cache/pip/wheels/59/1d/72/339d726f6737b281a498eb05203256a30f19c54193738996bc\n",
            "Successfully built pdftotext\n",
            "Installing collected packages: pdftotext\n",
            "Successfully installed pdftotext-2.1.5\n"
          ],
          "name": "stdout"
        }
      ]
    },
    {
      "cell_type": "code",
      "metadata": {
        "id": "jdmzEs0htzTV"
      },
      "source": [
        "import os\n",
        "import pdftotext\n",
        " "
      ],
      "execution_count": null,
      "outputs": []
    },
    {
      "cell_type": "code",
      "metadata": {
        "id": "4sz2UOa5tjWI",
        "colab": {
          "base_uri": "https://localhost:8080/",
          "height": 37
        },
        "outputId": "394246a8-2875-4369-b719-609522a72eda"
      },
      "source": [
        "ruta_pdfs=\"/content/drive/MyDrive/Colab Notebooks/saturday ia/justicia abierta/sentencias_sjn/pdfs/\"\n",
        "ruta_txt_sjn=\"/content/drive/MyDrive/Colab Notebooks/saturday ia/justicia abierta/sentencias_sjn/txt_sentencias_sjn/\"\n",
        "local_download_path = os.path.expanduser(ruta_pdfs)\n",
        "local_download_path"
      ],
      "execution_count": null,
      "outputs": [
        {
          "output_type": "execute_result",
          "data": {
            "application/vnd.google.colaboratory.intrinsic+json": {
              "type": "string"
            },
            "text/plain": [
              "'/content/drive/MyDrive/Colab Notebooks/saturday ia/justicia abierta/sentencias_sjn/pdfs/'"
            ]
          },
          "metadata": {
            "tags": []
          },
          "execution_count": 29
        }
      ]
    },
    {
      "cell_type": "code",
      "metadata": {
        "id": "iw2gFef4t55e",
        "colab": {
          "base_uri": "https://localhost:8080/"
        },
        "outputId": "85d073a7-2229-47d1-c17a-d384233d4593"
      },
      "source": [
        "for file in os.listdir(local_download_path):\n",
        "  file_txt =ruta_txt_sjn+file.split(\".\")[0]+\".txt\"\n",
        "  \n",
        "  file_pdf=ruta_pdfs+file\n",
        "  \n",
        "  convertir_pdf_txt(file_pdf,file_txt)\n",
        "  "
      ],
      "execution_count": null,
      "outputs": [
        {
          "output_type": "stream",
          "text": [
            "No se pudo convertir /content/drive/MyDrive/Colab Notebooks/saturday ia/justicia abierta/sentencias_sjn/pdfs/0.pdf\n",
            "<_io.BufferedReader name='/content/drive/MyDrive/Colab Notebooks/saturday ia/justicia abierta/sentencias_sjn/pdfs/1.pdf'>\n",
            "Procesando /content/drive/MyDrive/Colab Notebooks/saturday ia/justicia abierta/sentencias_sjn/txt_sentencias_sjn/1.txt\n",
            "<_io.BufferedReader name='/content/drive/MyDrive/Colab Notebooks/saturday ia/justicia abierta/sentencias_sjn/pdfs/2.pdf'>\n",
            "Procesando /content/drive/MyDrive/Colab Notebooks/saturday ia/justicia abierta/sentencias_sjn/txt_sentencias_sjn/2.txt\n",
            "<_io.BufferedReader name='/content/drive/MyDrive/Colab Notebooks/saturday ia/justicia abierta/sentencias_sjn/pdfs/3.pdf'>\n",
            "Procesando /content/drive/MyDrive/Colab Notebooks/saturday ia/justicia abierta/sentencias_sjn/txt_sentencias_sjn/3.txt\n",
            "<_io.BufferedReader name='/content/drive/MyDrive/Colab Notebooks/saturday ia/justicia abierta/sentencias_sjn/pdfs/4.pdf'>\n",
            "Procesando /content/drive/MyDrive/Colab Notebooks/saturday ia/justicia abierta/sentencias_sjn/txt_sentencias_sjn/4.txt\n",
            "<_io.BufferedReader name='/content/drive/MyDrive/Colab Notebooks/saturday ia/justicia abierta/sentencias_sjn/pdfs/5.pdf'>\n",
            "Procesando /content/drive/MyDrive/Colab Notebooks/saturday ia/justicia abierta/sentencias_sjn/txt_sentencias_sjn/5.txt\n",
            "<_io.BufferedReader name='/content/drive/MyDrive/Colab Notebooks/saturday ia/justicia abierta/sentencias_sjn/pdfs/6.pdf'>\n",
            "Procesando /content/drive/MyDrive/Colab Notebooks/saturday ia/justicia abierta/sentencias_sjn/txt_sentencias_sjn/6.txt\n",
            "<_io.BufferedReader name='/content/drive/MyDrive/Colab Notebooks/saturday ia/justicia abierta/sentencias_sjn/pdfs/7.pdf'>\n",
            "Procesando /content/drive/MyDrive/Colab Notebooks/saturday ia/justicia abierta/sentencias_sjn/txt_sentencias_sjn/7.txt\n",
            "<_io.BufferedReader name='/content/drive/MyDrive/Colab Notebooks/saturday ia/justicia abierta/sentencias_sjn/pdfs/8.pdf'>\n",
            "Procesando /content/drive/MyDrive/Colab Notebooks/saturday ia/justicia abierta/sentencias_sjn/txt_sentencias_sjn/8.txt\n",
            "<_io.BufferedReader name='/content/drive/MyDrive/Colab Notebooks/saturday ia/justicia abierta/sentencias_sjn/pdfs/9.pdf'>\n",
            "Procesando /content/drive/MyDrive/Colab Notebooks/saturday ia/justicia abierta/sentencias_sjn/txt_sentencias_sjn/9.txt\n",
            "<_io.BufferedReader name='/content/drive/MyDrive/Colab Notebooks/saturday ia/justicia abierta/sentencias_sjn/pdfs/10.pdf'>\n",
            "Procesando /content/drive/MyDrive/Colab Notebooks/saturday ia/justicia abierta/sentencias_sjn/txt_sentencias_sjn/10.txt\n",
            "<_io.BufferedReader name='/content/drive/MyDrive/Colab Notebooks/saturday ia/justicia abierta/sentencias_sjn/pdfs/11.pdf'>\n",
            "Procesando /content/drive/MyDrive/Colab Notebooks/saturday ia/justicia abierta/sentencias_sjn/txt_sentencias_sjn/11.txt\n",
            "<_io.BufferedReader name='/content/drive/MyDrive/Colab Notebooks/saturday ia/justicia abierta/sentencias_sjn/pdfs/12.pdf'>\n",
            "Procesando /content/drive/MyDrive/Colab Notebooks/saturday ia/justicia abierta/sentencias_sjn/txt_sentencias_sjn/12.txt\n",
            "<_io.BufferedReader name='/content/drive/MyDrive/Colab Notebooks/saturday ia/justicia abierta/sentencias_sjn/pdfs/13.pdf'>\n",
            "Procesando /content/drive/MyDrive/Colab Notebooks/saturday ia/justicia abierta/sentencias_sjn/txt_sentencias_sjn/13.txt\n",
            "<_io.BufferedReader name='/content/drive/MyDrive/Colab Notebooks/saturday ia/justicia abierta/sentencias_sjn/pdfs/14.pdf'>\n",
            "Procesando /content/drive/MyDrive/Colab Notebooks/saturday ia/justicia abierta/sentencias_sjn/txt_sentencias_sjn/14.txt\n",
            "<_io.BufferedReader name='/content/drive/MyDrive/Colab Notebooks/saturday ia/justicia abierta/sentencias_sjn/pdfs/sal.pdf'>\n",
            "Procesando /content/drive/MyDrive/Colab Notebooks/saturday ia/justicia abierta/sentencias_sjn/txt_sentencias_sjn/sal.txt\n"
          ],
          "name": "stdout"
        }
      ]
    },
    {
      "cell_type": "code",
      "metadata": {
        "id": "h5GuACuYa3GL",
        "colab": {
          "base_uri": "https://localhost:8080/"
        },
        "outputId": "9cc70c21-15f7-4372-fdb6-9b8e2e272e66"
      },
      "source": [
        "import pdftotext\n",
        " \n",
        "# Load your PDF\n",
        "with open(\"/content/drive/MyDrive/Colab Notebooks/saturday ia/justicia abierta/sentencias_sjn/pdfs/2.pdf\", \"rb\") as f:\n",
        "    pdf = pdftotext.PDF(f)\n",
        "with open('output.txt', 'w') as f:\n",
        "    f.write(\"\\n\\n\".join(pdf))\n",
        "\n",
        "print (pdf)"
      ],
      "execution_count": null,
      "outputs": [
        {
          "output_type": "stream",
          "text": [
            "<pdftotext.PDF object at 0x7f4d0843ebc0>\n"
          ],
          "name": "stdout"
        }
      ]
    },
    {
      "cell_type": "code",
      "metadata": {
        "id": "oVplmdzuuGjJ"
      },
      "source": [
        ""
      ],
      "execution_count": null,
      "outputs": []
    },
    {
      "cell_type": "code",
      "metadata": {
        "id": "Y5itkWEQuGPL"
      },
      "source": [
        ""
      ],
      "execution_count": null,
      "outputs": []
    },
    {
      "cell_type": "code",
      "metadata": {
        "id": "2b6j1KVtqHGN"
      },
      "source": [
        "def convertir_pdf_txt(rutapdf,rutatxt):\n",
        "  try:\n",
        "    with open(rutapdf,\"rb\") as f:\n",
        "      pdf= pdftotext.PDF(f)\n",
        "      print (f)\n",
        "    with open(rutatxt,'w') as f:\n",
        "      f.write(\"\\n\".join(pdf))\n",
        "      print (\"Procesando {}\".format(rutatxt))\n",
        "  except:\n",
        "    print (\"No se pudo convertir {}\".format(rutapdf))\n",
        " "
      ],
      "execution_count": null,
      "outputs": []
    }
  ]
}