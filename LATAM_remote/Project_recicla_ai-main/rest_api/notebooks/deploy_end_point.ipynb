{
  "nbformat": 4,
  "nbformat_minor": 0,
  "metadata": {
    "kernelspec": {
      "display_name": "conda_tensorflow2_p36",
      "language": "python",
      "name": "conda_tensorflow2_p36"
    },
    "language_info": {
      "codemirror_mode": {
        "name": "ipython",
        "version": 3
      },
      "file_extension": ".py",
      "mimetype": "text/x-python",
      "name": "python",
      "nbconvert_exporter": "python",
      "pygments_lexer": "ipython3",
      "version": "3.6.10"
    },
    "colab": {
      "name": "deploy_end_point.ipynb",
      "provenance": []
    }
  },
  "cells": [
    {
      "cell_type": "markdown",
      "metadata": {
        "id": "whNWZde7a-6i"
      },
      "source": [
        "# Despliegue del endpoint de inferencia de SageMaker\n",
        "\n",
        "Previo a la ejecución de este notebook, debe descomprimir el contenido del archivo [export.zip](https://github.com/DoradoReciclaAI/Project_recicla_ai/blob/main/rest_api/model/export.zip) dentro de este contenedor."
      ]
    },
    {
      "cell_type": "markdown",
      "metadata": {
        "id": "E3hXANMsa-6i"
      },
      "source": [
        "## Despliegue\n",
        "\n",
        "Este paso desplegará el Modelo exportado y generará un EndPoint de inferencia para dicho modelo."
      ]
    },
    {
      "cell_type": "code",
      "metadata": {
        "id": "JHBtZDc6a-6j"
      },
      "source": [
        "import tarfile\n",
        "import sagemaker\n",
        "from sagemaker.tensorflow.model import TensorFlowModel\n",
        "from sagemaker import get_execution_role"
      ],
      "execution_count": null,
      "outputs": []
    },
    {
      "cell_type": "code",
      "metadata": {
        "id": "mXAZjcWna-6j"
      },
      "source": [
        "role = get_execution_role()\n",
        "\n",
        "with tarfile.open('model.tar.gz', mode='w:gz') as archive:\n",
        "    archive.add('export', recursive=True)\n",
        "    \n",
        "sagemaker_session = sagemaker.Session()\n",
        "inputs = sagemaker_session.upload_data(path='model.tar.gz', key_prefix='model')\n",
        "\n",
        "!touch train.py\n",
        "\n",
        "sagemaker_model = TensorFlowModel(model_data = 's3://' + sagemaker_session.default_bucket() + '/model/model.tar.gz',\n",
        "                                  role = role,\n",
        "                                  framework_version = '2.1',\n",
        "                                  entry_point = 'train.py')"
      ],
      "execution_count": null,
      "outputs": []
    },
    {
      "cell_type": "code",
      "metadata": {
        "id": "mC1HWPQta-6k",
        "outputId": "81bb9d59-d46a-4ad0-cd9d-05dace8a075f"
      },
      "source": [
        "%%time\n",
        "predictor = sagemaker_model.deploy(initial_instance_count=1,\n",
        "                                   instance_type='ml.t2.medium')"
      ],
      "execution_count": null,
      "outputs": [
        {
          "output_type": "stream",
          "text": [
            "update_endpoint is a no-op in sagemaker>=2.\n",
            "See: https://sagemaker.readthedocs.io/en/stable/v2.html for details.\n"
          ],
          "name": "stderr"
        },
        {
          "output_type": "stream",
          "text": [
            "---------------!CPU times: user 4.22 s, sys: 258 ms, total: 4.48 s\n",
            "Wall time: 7min 37s\n"
          ],
          "name": "stdout"
        }
      ]
    },
    {
      "cell_type": "markdown",
      "metadata": {
        "id": "dSMwsUUNa-6l"
      },
      "source": [
        "#### Copiar el nombre del end point creado\n",
        "Cuáno finalice la creació del EndPoint, vaya en SageMaker a la sección correspondiente y copie el nombre de dicho EndPoint para poder invocarlo."
      ]
    },
    {
      "cell_type": "code",
      "metadata": {
        "id": "op2Y0_fAa-6l"
      },
      "source": [
        "endpoint_name = 'tensorflow-inference-2020-11-16-02-33-02-323'"
      ],
      "execution_count": null,
      "outputs": []
    },
    {
      "cell_type": "markdown",
      "metadata": {
        "id": "tTOAJczCa-6l"
      },
      "source": [
        "## Probar el End Point Creado\n",
        "\n",
        "Se debe subir la imágen de prueba correspondiente. En el ejemplo es images/O_12569.jpg pero puede ser cualquier otra imágen."
      ]
    },
    {
      "cell_type": "code",
      "metadata": {
        "id": "spouRCqha-6l",
        "outputId": "2d4e1955-80b5-4e46-c97c-6fe4a30ad197"
      },
      "source": [
        "import json\n",
        "import boto3\n",
        "import numpy as np\n",
        "from PIL import Image\n",
        "\n",
        "classes = ['cardboard', 'glass', 'metal', 'organic', 'paper', 'plastic', 'trash']\n",
        "runtime= boto3.client('runtime.sagemaker')\n",
        "\n",
        "img_name = 'images/O_12569.jpg'\n",
        "\n",
        "data_s = Image.open(img_name)\n",
        "image_res = data_s.resize((224,224), Image.BILINEAR)\n",
        "image_dim = np.array(image_res)\n",
        "image_dim = np.expand_dims(image_dim, axis=0)\n",
        "\n",
        "\n",
        "payload = json.dumps(image_dim.tolist())\n",
        "\n",
        "prediction = runtime.invoke_endpoint(EndpointName=endpoint_name,\n",
        "                                   ContentType='application/json',\n",
        "                                   Body=payload)\n",
        "\n",
        "results = json.loads(prediction['Body'].read().decode())['predictions'][0]\n",
        "\n",
        "print('Class: ' + classes[np.argmax(results)] + ' ' + str(round(np.amax(results)*100, 2)) + ' %')"
      ],
      "execution_count": null,
      "outputs": [
        {
          "output_type": "stream",
          "text": [
            "Class: organic 100.0 %\n"
          ],
          "name": "stdout"
        }
      ]
    }
  ]
}
