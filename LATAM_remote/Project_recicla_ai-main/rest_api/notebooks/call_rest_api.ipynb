{
 "cells": [
  {
   "cell_type": "code",
   "execution_count": 1,
   "metadata": {},
   "outputs": [
    {
     "name": "stdout",
     "output_type": "stream",
     "text": [
      "The pastebin URL is:{\"class\": \"trash\", \"probability\": \"69.43\"}\n"
     ]
    }
   ],
   "source": [
    "import requests \n",
    "  \n",
    "API_ENDPOINT = \"https://4b4cj4hei4.execute-api.us-east-2.amazonaws.com/beta\"\n",
    "\n",
    "image='images/metal.jpg'\n",
    "\n",
    "data = open(image,  \"rb\").read()\n",
    "headers={'Content-Type':'image/jpeg'}\n",
    "\n",
    "response = requests.post(url = API_ENDPOINT, headers=headers, data=data) \n",
    "  \n",
    "pastebin_url = r.text \n",
    "print(\"The pastebin URL is:%s\"%pastebin_url) "
   ]
  }
 ],
 "metadata": {
  "kernelspec": {
   "display_name": "conda_python3",
   "language": "python",
   "name": "conda_python3"
  },
  "language_info": {
   "codemirror_mode": {
    "name": "ipython",
    "version": 3
   },
   "file_extension": ".py",
   "mimetype": "text/x-python",
   "name": "python",
   "nbconvert_exporter": "python",
   "pygments_lexer": "ipython3",
   "version": "3.6.10"
  }
 },
 "nbformat": 4,
 "nbformat_minor": 4
}
