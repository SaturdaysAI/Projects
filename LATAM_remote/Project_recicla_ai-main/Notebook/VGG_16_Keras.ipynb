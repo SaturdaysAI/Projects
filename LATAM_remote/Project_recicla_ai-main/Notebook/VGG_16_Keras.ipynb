{
  "nbformat": 4,
  "nbformat_minor": 0,
  "metadata": {
    "colab": {
      "name": "VGG-16-Keras.ipynb",
      "provenance": [],
      "collapsed_sections": []
    },
    "kernelspec": {
      "name": "python3",
      "display_name": "Python 3"
    },
    "accelerator": "GPU"
  },
  "cells": [
    {
      "cell_type": "code",
      "metadata": {
        "id": "-0I-022HK9SB"
      },
      "source": [
        "import keras\n",
        "from keras.models import Model\n",
        "from keras.layers import Dense\n",
        "from keras import optimizers\n",
        "from keras.preprocessing.image import ImageDataGenerator\n",
        "from keras.preprocessing import image"
      ],
      "execution_count": null,
      "outputs": []
    },
    {
      "cell_type": "code",
      "metadata": {
        "id": "t-PHJUfwfAX5",
        "colab": {
          "base_uri": "https://localhost:8080/"
        },
        "outputId": "ce30257c-3dbe-4d43-d1e1-32cc060afca7"
      },
      "source": [
        "trdata = ImageDataGenerator()\n",
        "traindata = trdata.flow_from_directory(directory=\"/content/drive/My Drive/SAI/Waste_Images_exper/train\",target_size=(224,224))\n",
        "tsdata = ImageDataGenerator()\n",
        "testdata = tsdata.flow_from_directory(directory=\"/content/drive/My Drive/SAI/Waste_Images_exper/test\", target_size=(224,224))\n",
        "vadata = ImageDataGenerator()\n",
        "valdata = tsdata.flow_from_directory(directory=\"/content/drive/My Drive/SAI/Waste_Images_exper/valid\", target_size=(224,224))"
      ],
      "execution_count": null,
      "outputs": [
        {
          "output_type": "stream",
          "text": [
            "Found 1521 images belonging to 6 classes.\n",
            "Found 503 images belonging to 6 classes.\n",
            "Found 503 images belonging to 6 classes.\n"
          ],
          "name": "stdout"
        }
      ]
    },
    {
      "cell_type": "code",
      "metadata": {
        "id": "BHHbCi3Ufmf_"
      },
      "source": [
        "from keras.applications.vgg16 import VGG16\n",
        "vggmodel = VGG16(weights='imagenet', include_top=True)"
      ],
      "execution_count": null,
      "outputs": []
    },
    {
      "cell_type": "code",
      "metadata": {
        "id": "Jhx_nOk6fuH-",
        "colab": {
          "base_uri": "https://localhost:8080/"
        },
        "outputId": "6ec89c9e-cba7-4e97-d01f-0ee2880c427a"
      },
      "source": [
        "vggmodel.summary()"
      ],
      "execution_count": null,
      "outputs": [
        {
          "output_type": "stream",
          "text": [
            "Model: \"vgg16\"\n",
            "_________________________________________________________________\n",
            "Layer (type)                 Output Shape              Param #   \n",
            "=================================================================\n",
            "input_1 (InputLayer)         [(None, 224, 224, 3)]     0         \n",
            "_________________________________________________________________\n",
            "block1_conv1 (Conv2D)        (None, 224, 224, 64)      1792      \n",
            "_________________________________________________________________\n",
            "block1_conv2 (Conv2D)        (None, 224, 224, 64)      36928     \n",
            "_________________________________________________________________\n",
            "block1_pool (MaxPooling2D)   (None, 112, 112, 64)      0         \n",
            "_________________________________________________________________\n",
            "block2_conv1 (Conv2D)        (None, 112, 112, 128)     73856     \n",
            "_________________________________________________________________\n",
            "block2_conv2 (Conv2D)        (None, 112, 112, 128)     147584    \n",
            "_________________________________________________________________\n",
            "block2_pool (MaxPooling2D)   (None, 56, 56, 128)       0         \n",
            "_________________________________________________________________\n",
            "block3_conv1 (Conv2D)        (None, 56, 56, 256)       295168    \n",
            "_________________________________________________________________\n",
            "block3_conv2 (Conv2D)        (None, 56, 56, 256)       590080    \n",
            "_________________________________________________________________\n",
            "block3_conv3 (Conv2D)        (None, 56, 56, 256)       590080    \n",
            "_________________________________________________________________\n",
            "block3_pool (MaxPooling2D)   (None, 28, 28, 256)       0         \n",
            "_________________________________________________________________\n",
            "block4_conv1 (Conv2D)        (None, 28, 28, 512)       1180160   \n",
            "_________________________________________________________________\n",
            "block4_conv2 (Conv2D)        (None, 28, 28, 512)       2359808   \n",
            "_________________________________________________________________\n",
            "block4_conv3 (Conv2D)        (None, 28, 28, 512)       2359808   \n",
            "_________________________________________________________________\n",
            "block4_pool (MaxPooling2D)   (None, 14, 14, 512)       0         \n",
            "_________________________________________________________________\n",
            "block5_conv1 (Conv2D)        (None, 14, 14, 512)       2359808   \n",
            "_________________________________________________________________\n",
            "block5_conv2 (Conv2D)        (None, 14, 14, 512)       2359808   \n",
            "_________________________________________________________________\n",
            "block5_conv3 (Conv2D)        (None, 14, 14, 512)       2359808   \n",
            "_________________________________________________________________\n",
            "block5_pool (MaxPooling2D)   (None, 7, 7, 512)         0         \n",
            "_________________________________________________________________\n",
            "flatten (Flatten)            (None, 25088)             0         \n",
            "_________________________________________________________________\n",
            "fc1 (Dense)                  (None, 4096)              102764544 \n",
            "_________________________________________________________________\n",
            "fc2 (Dense)                  (None, 4096)              16781312  \n",
            "_________________________________________________________________\n",
            "predictions (Dense)          (None, 1000)              4097000   \n",
            "=================================================================\n",
            "Total params: 138,357,544\n",
            "Trainable params: 138,357,544\n",
            "Non-trainable params: 0\n",
            "_________________________________________________________________\n"
          ],
          "name": "stdout"
        }
      ]
    },
    {
      "cell_type": "code",
      "metadata": {
        "id": "4V8YAyPWf3Qg",
        "colab": {
          "base_uri": "https://localhost:8080/"
        },
        "outputId": "ddbd01fd-abe5-4562-cc48-afad3a21d699"
      },
      "source": [
        "for layers in (vggmodel.layers)[:19]:\n",
        "    print(layers)\n",
        "    layers.trainable = False"
      ],
      "execution_count": null,
      "outputs": [
        {
          "output_type": "stream",
          "text": [
            "<tensorflow.python.keras.engine.input_layer.InputLayer object at 0x7fd21eb23160>\n",
            "<tensorflow.python.keras.layers.convolutional.Conv2D object at 0x7fd21eaca630>\n",
            "<tensorflow.python.keras.layers.convolutional.Conv2D object at 0x7fd21ea87b70>\n",
            "<tensorflow.python.keras.layers.pooling.MaxPooling2D object at 0x7fd21ea40940>\n",
            "<tensorflow.python.keras.layers.convolutional.Conv2D object at 0x7fd21ea4e5c0>\n",
            "<tensorflow.python.keras.layers.convolutional.Conv2D object at 0x7fd460c4cc50>\n",
            "<tensorflow.python.keras.layers.pooling.MaxPooling2D object at 0x7fd460c4cba8>\n",
            "<tensorflow.python.keras.layers.convolutional.Conv2D object at 0x7fd460c53898>\n",
            "<tensorflow.python.keras.layers.convolutional.Conv2D object at 0x7fd460c58710>\n",
            "<tensorflow.python.keras.layers.convolutional.Conv2D object at 0x7fd460c587b8>\n",
            "<tensorflow.python.keras.layers.pooling.MaxPooling2D object at 0x7fd460c5e710>\n",
            "<tensorflow.python.keras.layers.convolutional.Conv2D object at 0x7fd460c5eef0>\n",
            "<tensorflow.python.keras.layers.convolutional.Conv2D object at 0x7fd460c69d68>\n",
            "<tensorflow.python.keras.layers.convolutional.Conv2D object at 0x7fd460c73748>\n",
            "<tensorflow.python.keras.layers.pooling.MaxPooling2D object at 0x7fd460c73a58>\n",
            "<tensorflow.python.keras.layers.convolutional.Conv2D object at 0x7fd460c79588>\n",
            "<tensorflow.python.keras.layers.convolutional.Conv2D object at 0x7fd460c02400>\n",
            "<tensorflow.python.keras.layers.convolutional.Conv2D object at 0x7fd460c02828>\n",
            "<tensorflow.python.keras.layers.pooling.MaxPooling2D object at 0x7fd460c0a400>\n"
          ],
          "name": "stdout"
        }
      ]
    },
    {
      "cell_type": "code",
      "metadata": {
        "id": "8Y2-IW9hf7tO"
      },
      "source": [
        "X= vggmodel.layers[-2].output\n",
        "predictions = Dense(6, activation=\"softmax\")(X)\n",
        "model_final = Model(vggmodel.input, predictions)"
      ],
      "execution_count": null,
      "outputs": []
    },
    {
      "cell_type": "code",
      "metadata": {
        "id": "7TcCGRcDjnsJ"
      },
      "source": [
        "model_final.compile(loss = \"categorical_crossentropy\", optimizer = optimizers.SGD(lr=0.0001, momentum=0.9), metrics=[\"accuracy\"])"
      ],
      "execution_count": null,
      "outputs": []
    },
    {
      "cell_type": "code",
      "metadata": {
        "id": "ev3V1Qc1jsa3",
        "colab": {
          "base_uri": "https://localhost:8080/"
        },
        "outputId": "350c3549-bd56-4136-c749-a0eadf041d42"
      },
      "source": [
        "model_final.summary()"
      ],
      "execution_count": null,
      "outputs": [
        {
          "output_type": "stream",
          "text": [
            "Model: \"functional_3\"\n",
            "_________________________________________________________________\n",
            "Layer (type)                 Output Shape              Param #   \n",
            "=================================================================\n",
            "input_2 (InputLayer)         [(None, 224, 224, 3)]     0         \n",
            "_________________________________________________________________\n",
            "block1_conv1 (Conv2D)        (None, 224, 224, 64)      1792      \n",
            "_________________________________________________________________\n",
            "block1_conv2 (Conv2D)        (None, 224, 224, 64)      36928     \n",
            "_________________________________________________________________\n",
            "block1_pool (MaxPooling2D)   (None, 112, 112, 64)      0         \n",
            "_________________________________________________________________\n",
            "block2_conv1 (Conv2D)        (None, 112, 112, 128)     73856     \n",
            "_________________________________________________________________\n",
            "block2_conv2 (Conv2D)        (None, 112, 112, 128)     147584    \n",
            "_________________________________________________________________\n",
            "block2_pool (MaxPooling2D)   (None, 56, 56, 128)       0         \n",
            "_________________________________________________________________\n",
            "block3_conv1 (Conv2D)        (None, 56, 56, 256)       295168    \n",
            "_________________________________________________________________\n",
            "block3_conv2 (Conv2D)        (None, 56, 56, 256)       590080    \n",
            "_________________________________________________________________\n",
            "block3_conv3 (Conv2D)        (None, 56, 56, 256)       590080    \n",
            "_________________________________________________________________\n",
            "block3_pool (MaxPooling2D)   (None, 28, 28, 256)       0         \n",
            "_________________________________________________________________\n",
            "block4_conv1 (Conv2D)        (None, 28, 28, 512)       1180160   \n",
            "_________________________________________________________________\n",
            "block4_conv2 (Conv2D)        (None, 28, 28, 512)       2359808   \n",
            "_________________________________________________________________\n",
            "block4_conv3 (Conv2D)        (None, 28, 28, 512)       2359808   \n",
            "_________________________________________________________________\n",
            "block4_pool (MaxPooling2D)   (None, 14, 14, 512)       0         \n",
            "_________________________________________________________________\n",
            "block5_conv1 (Conv2D)        (None, 14, 14, 512)       2359808   \n",
            "_________________________________________________________________\n",
            "block5_conv2 (Conv2D)        (None, 14, 14, 512)       2359808   \n",
            "_________________________________________________________________\n",
            "block5_conv3 (Conv2D)        (None, 14, 14, 512)       2359808   \n",
            "_________________________________________________________________\n",
            "block5_pool (MaxPooling2D)   (None, 7, 7, 512)         0         \n",
            "_________________________________________________________________\n",
            "flatten (Flatten)            (None, 25088)             0         \n",
            "_________________________________________________________________\n",
            "fc1 (Dense)                  (None, 4096)              102764544 \n",
            "_________________________________________________________________\n",
            "fc2 (Dense)                  (None, 4096)              16781312  \n",
            "_________________________________________________________________\n",
            "dense_1 (Dense)              (None, 6)                 24582     \n",
            "=================================================================\n",
            "Total params: 134,285,126\n",
            "Trainable params: 119,570,438\n",
            "Non-trainable params: 14,714,688\n",
            "_________________________________________________________________\n"
          ],
          "name": "stdout"
        }
      ]
    },
    {
      "cell_type": "code",
      "metadata": {
        "id": "NDXUEEojj3bz",
        "colab": {
          "base_uri": "https://localhost:8080/"
        },
        "outputId": "283fc587-889b-4f08-ec8c-bf9310d129d9"
      },
      "source": [
        "from keras.callbacks import ModelCheckpoint, EarlyStopping\n",
        "checkpoint = ModelCheckpoint(\"vgg16_keras_1.h5\", monitor='val_accuracy', verbose=1, save_best_only=True, save_weights_only=False, mode='auto')\n",
        "early = EarlyStopping(monitor='val_acc', min_delta=0, patience=40, verbose=1, mode='auto')\n",
        "hist = model_final.fit(x=traindata, steps_per_epoch=40, validation_steps=10, validation_data=valdata, epochs=20, verbose=1)\n",
        "model_final.save_weights(\"vgg16_keras_1.h5\")"
      ],
      "execution_count": null,
      "outputs": [
        {
          "output_type": "stream",
          "text": [
            "Epoch 1/20\n",
            "40/40 [==============================] - 9s 233ms/step - loss: 0.0096 - accuracy: 1.0000 - val_loss: 0.5006 - val_accuracy: 0.8250\n",
            "Epoch 2/20\n",
            "40/40 [==============================] - 9s 230ms/step - loss: 0.0091 - accuracy: 1.0000 - val_loss: 0.4935 - val_accuracy: 0.8188\n",
            "Epoch 3/20\n",
            "40/40 [==============================] - 9s 232ms/step - loss: 0.0087 - accuracy: 1.0000 - val_loss: 0.5234 - val_accuracy: 0.8375\n",
            "Epoch 4/20\n",
            "40/40 [==============================] - 9s 234ms/step - loss: 0.0100 - accuracy: 0.9992 - val_loss: 0.5893 - val_accuracy: 0.8094\n",
            "Epoch 5/20\n",
            "40/40 [==============================] - 9s 237ms/step - loss: 0.0089 - accuracy: 0.9992 - val_loss: 0.5024 - val_accuracy: 0.8219\n",
            "Epoch 6/20\n",
            "40/40 [==============================] - 10s 239ms/step - loss: 0.0090 - accuracy: 0.9992 - val_loss: 0.5518 - val_accuracy: 0.8281\n",
            "Epoch 7/20\n",
            "40/40 [==============================] - 9s 235ms/step - loss: 0.0081 - accuracy: 0.9992 - val_loss: 0.5494 - val_accuracy: 0.8406\n",
            "Epoch 8/20\n",
            "40/40 [==============================] - 9s 232ms/step - loss: 0.0072 - accuracy: 1.0000 - val_loss: 0.4812 - val_accuracy: 0.8469\n",
            "Epoch 9/20\n",
            "40/40 [==============================] - 9s 231ms/step - loss: 0.0090 - accuracy: 0.9992 - val_loss: 0.5030 - val_accuracy: 0.8375\n",
            "Epoch 10/20\n",
            "40/40 [==============================] - 9s 232ms/step - loss: 0.0081 - accuracy: 0.9984 - val_loss: 0.6218 - val_accuracy: 0.8094\n",
            "Epoch 11/20\n",
            "40/40 [==============================] - 9s 229ms/step - loss: 0.0073 - accuracy: 0.9984 - val_loss: 0.5611 - val_accuracy: 0.8250\n",
            "Epoch 12/20\n",
            "40/40 [==============================] - 9s 230ms/step - loss: 0.0074 - accuracy: 0.9984 - val_loss: 0.4839 - val_accuracy: 0.8188\n",
            "Epoch 13/20\n",
            "40/40 [==============================] - 9s 233ms/step - loss: 0.0070 - accuracy: 0.9992 - val_loss: 0.6391 - val_accuracy: 0.8031\n",
            "Epoch 14/20\n",
            "40/40 [==============================] - 9s 228ms/step - loss: 0.0061 - accuracy: 1.0000 - val_loss: 0.5782 - val_accuracy: 0.8219\n",
            "Epoch 15/20\n",
            "40/40 [==============================] - 9s 231ms/step - loss: 0.0054 - accuracy: 1.0000 - val_loss: 0.5374 - val_accuracy: 0.8281\n",
            "Epoch 16/20\n",
            "40/40 [==============================] - 9s 229ms/step - loss: 0.0070 - accuracy: 0.9992 - val_loss: 0.5932 - val_accuracy: 0.8062\n",
            "Epoch 17/20\n",
            "40/40 [==============================] - 9s 231ms/step - loss: 0.0056 - accuracy: 1.0000 - val_loss: 0.5495 - val_accuracy: 0.8031\n",
            "Epoch 18/20\n",
            "40/40 [==============================] - 9s 230ms/step - loss: 0.0067 - accuracy: 0.9992 - val_loss: 0.6057 - val_accuracy: 0.8031\n",
            "Epoch 19/20\n",
            "40/40 [==============================] - 9s 231ms/step - loss: 0.0062 - accuracy: 0.9984 - val_loss: 0.5877 - val_accuracy: 0.8031\n",
            "Epoch 20/20\n",
            "40/40 [==============================] - 10s 238ms/step - loss: 0.0063 - accuracy: 0.9992 - val_loss: 0.4625 - val_accuracy: 0.8500\n"
          ],
          "name": "stdout"
        }
      ]
    },
    {
      "cell_type": "code",
      "metadata": {
        "id": "tlr2B7ILWbNo",
        "colab": {
          "base_uri": "https://localhost:8080/",
          "height": 295
        },
        "outputId": "fc266d76-da6a-4984-d8a7-8bf92a319dfd"
      },
      "source": [
        "import matplotlib.pyplot as plt\n",
        "plt.plot(hist.history[\"accuracy\"])\n",
        "plt.plot(hist.history['val_accuracy'])\n",
        "plt.plot(hist.history['loss'])\n",
        "plt.plot(hist.history['val_loss'])\n",
        "plt.title(\"model accuracy\")\n",
        "plt.ylabel(\"Accuracy\")\n",
        "plt.xlabel(\"Epoch\")\n",
        "plt.legend([\"Accuracy\",\"Validation Accuracy\",\"loss\",\"Validation Loss\"])\n",
        "plt.show()"
      ],
      "execution_count": null,
      "outputs": [
        {
          "output_type": "display_data",
          "data": {
            "image/png": "[encoded data removed]",
            "text/plain": [
              "<Figure size 432x288 with 1 Axes>"
            ]
          },
          "metadata": {
            "tags": [],
            "needs_background": "light"
          }
        }
      ]
    },
    {
      "cell_type": "code",
      "metadata": {
        "id": "P_SoyC67hPo-",
        "colab": {
          "base_uri": "https://localhost:8080/"
        },
        "outputId": "648cbe12-34c7-461d-822f-b429434690c8"
      },
      "source": [
        "predictions = model_final.predict(x=testdata, verbose=1, steps=16)"
      ],
      "execution_count": null,
      "outputs": [
        {
          "output_type": "stream",
          "text": [
            " 2/16 [==>...........................] - ETA: 1sWARNING:tensorflow:Callbacks method `on_predict_batch_end` is slow compared to the batch time (batch time: 0.0341s vs `on_predict_batch_end` time: 0.1061s). Check your callbacks.\n",
            "16/16 [==============================] - 3s 173ms/step\n"
          ],
          "name": "stdout"
        }
      ]
    },
    {
      "cell_type": "code",
      "metadata": {
        "id": "4ilQo8SzjGTF",
        "colab": {
          "base_uri": "https://localhost:8080/"
        },
        "outputId": "e33db612-7abf-4e3c-9cf3-45a929ab0f70"
      },
      "source": [
        "import numpy as np\n",
        "np.round(predictions)"
      ],
      "execution_count": null,
      "outputs": [
        {
          "output_type": "execute_result",
          "data": {
            "text/plain": [
              "array([[0., 1., 0., 0., 0., 0.],\n",
              "       [0., 1., 0., 0., 0., 0.],\n",
              "       [0., 0., 0., 0., 1., 0.],\n",
              "       ...,\n",
              "       [0., 0., 0., 1., 0., 0.],\n",
              "       [0., 0., 0., 1., 0., 0.],\n",
              "       [0., 0., 0., 1., 0., 0.]], dtype=float32)"
            ]
          },
          "metadata": {
            "tags": []
          },
          "execution_count": 77
        }
      ]
    },
    {
      "cell_type": "code",
      "metadata": {
        "id": "VyASi_jojJPC"
      },
      "source": [
        "from sklearn.metrics import confusion_matrix\n",
        "cm = confusion_matrix(y_true=testdata.classes, y_pred=np.argmax(predictions, axis=-1))"
      ],
      "execution_count": null,
      "outputs": []
    },
    {
      "cell_type": "code",
      "metadata": {
        "id": "3Oe7jkUDjLEZ"
      },
      "source": [
        "def plot_confusion_matrix(cm, classes,\n",
        "                          normalize=False,\n",
        "                          title='Confusion matrix',\n",
        "                          cmap=plt.cm.Blues):\n",
        "    \"\"\"\n",
        "    This function prints and plots the confusion matrix.\n",
        "    Normalization can be applied by setting `normalize=True`.\n",
        "    \"\"\"\n",
        "    plt.imshow(cm, interpolation='nearest', cmap=cmap)\n",
        "    plt.title(title)\n",
        "    plt.colorbar()\n",
        "    tick_marks = np.arange(len(classes))\n",
        "    plt.xticks(tick_marks, classes, rotation=45)\n",
        "    plt.yticks(tick_marks, classes)\n",
        "\n",
        "    if normalize:\n",
        "        cm = cm.astype('float') / cm.sum(axis=1)[:, np.newaxis]\n",
        "        print(\"Normalized confusion matrix\")\n",
        "    else:\n",
        "        print('Confusion matrix, without normalization')\n",
        "\n",
        "    print(cm)\n",
        "\n",
        "    thresh = cm.max() / 2.\n",
        "    for i, j in itertools.product(range(cm.shape[0]), range(cm.shape[1])):\n",
        "        plt.text(j, i, cm[i, j],\n",
        "                 horizontalalignment=\"center\",\n",
        "                 color=\"white\" if cm[i, j] > thresh else \"black\")\n",
        "\n",
        "    plt.tight_layout()\n",
        "    plt.ylabel('True label')\n",
        "    plt.xlabel('Predicted label')"
      ],
      "execution_count": null,
      "outputs": []
    },
    {
      "cell_type": "code",
      "metadata": {
        "id": "GsZKeu5JjOmM",
        "colab": {
          "base_uri": "https://localhost:8080/"
        },
        "outputId": "f802e9db-d706-40a9-e19c-5634df84f312"
      },
      "source": [
        "testdata.class_indices"
      ],
      "execution_count": null,
      "outputs": [
        {
          "output_type": "execute_result",
          "data": {
            "text/plain": [
              "{'cardboard': 0, 'glass': 1, 'metal': 2, 'paper': 3, 'plastic': 4, 'trash': 5}"
            ]
          },
          "metadata": {
            "tags": []
          },
          "execution_count": 80
        }
      ]
    },
    {
      "cell_type": "code",
      "metadata": {
        "id": "UBp0qJj6jPQO",
        "colab": {
          "base_uri": "https://localhost:8080/",
          "height": 430
        },
        "outputId": "a8985865-5720-40b9-a559-1243fbf58d61"
      },
      "source": [
        "import itertools\n",
        "cm_plot_labels = ['glass', 'paper', 'cardboard', 'plastic', 'metal', 'trash']\n",
        "plot_confusion_matrix(cm=cm, classes=cm_plot_labels, title='Confussion Matrix')"
      ],
      "execution_count": null,
      "outputs": [
        {
          "output_type": "stream",
          "text": [
            "Confusion matrix, without normalization\n",
            "[[13 16 14 21 13  3]\n",
            " [14 21 20 28 16  1]\n",
            " [13 19 11 22 15  2]\n",
            " [24 27 13 29 21  4]\n",
            " [12 21 22 22 11  8]\n",
            " [ 3  4  6  9  4  1]]\n"
          ],
          "name": "stdout"
        },
        {
          "output_type": "display_data",
          "data": {
            "image/png": "[encoded data removed]",
            "text/plain": [
              "<Figure size 432x288 with 2 Axes>"
            ]
          },
          "metadata": {
            "tags": [],
            "needs_background": "light"
          }
        }
      ]
    }
  ]
}