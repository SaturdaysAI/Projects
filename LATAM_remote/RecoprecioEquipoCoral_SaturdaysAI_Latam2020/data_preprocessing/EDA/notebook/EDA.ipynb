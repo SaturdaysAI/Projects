{
 "cells": [
  {
   "cell_type": "markdown",
   "metadata": {},
   "source": []
  },
  {
   "cell_type": "markdown",
   "metadata": {},
   "source": [
    "**Problema:** ¿Cuál será el precio de mercado recomendado para los productos que están en México?"
   ]
  },
  {
   "cell_type": "code",
   "execution_count": null,
   "metadata": {},
   "outputs": [],
   "source": []
  },
  {
   "cell_type": "code",
   "execution_count": null,
   "metadata": {},
   "outputs": [],
   "source": [
    "!pip install xlrd"
   ]
  },
  {
   "cell_type": "code",
   "execution_count": 76,
   "metadata": {},
   "outputs": [],
   "source": [
    "import pandas as pd\n",
    "import numpy as np\n",
    "import matplotlib.pyplot as plt\n",
    "%matplotlib inline\n",
    "import seaborn as sns\n"
   ]
  },
  {
   "cell_type": "markdown",
   "metadata": {},
   "source": [
    "##### **Overview**\n",
    "\n",
    "Este dataset consiste en un conjunto de información de precios de los productos que se venden en México. El objetivo en sí, es recomendar que precio es mas economico dependiendo la zona en la que se encuentre el vendedor.\n"
   ]
  },
  {
   "cell_type": "code",
   "execution_count": 77,
   "metadata": {},
   "outputs": [],
   "source": [
    "dataframe=pd.read_excel('D:\\SaturdaysIA\\EquipoCoral_RecoprecioIA\\data_preprocessing\\EDA\\data\\leer.xls',skiprows=7)"
   ]
  },
  {
   "cell_type": "code",
   "execution_count": 78,
   "metadata": {},
   "outputs": [],
   "source": [
    "columns=dataframe.columns"
   ]
  },
  {
   "cell_type": "code",
   "execution_count": 79,
   "metadata": {},
   "outputs": [
    {
     "data": {
      "text/html": [
       "<div>\n",
       "<style scoped>\n",
       "    .dataframe tbody tr th:only-of-type {\n",
       "        vertical-align: middle;\n",
       "    }\n",
       "\n",
       "    .dataframe tbody tr th {\n",
       "        vertical-align: top;\n",
       "    }\n",
       "\n",
       "    .dataframe thead th {\n",
       "        text-align: right;\n",
       "    }\n",
       "</style>\n",
       "<table border=\"1\" class=\"dataframe\">\n",
       "  <thead>\n",
       "    <tr style=\"text-align: right;\">\n",
       "      <th></th>\n",
       "      <th>Año</th>\n",
       "      <th>Mes</th>\n",
       "      <th>Fecha_Pub_DOF</th>\n",
       "      <th>Clave ciudad</th>\n",
       "      <th>Nombre ciudad</th>\n",
       "      <th>División</th>\n",
       "      <th>Grupo</th>\n",
       "      <th>Clase</th>\n",
       "      <th>Subclase</th>\n",
       "      <th>Clave generico</th>\n",
       "      <th>Generico</th>\n",
       "      <th>Consecutivo</th>\n",
       "      <th>Especificación</th>\n",
       "      <th>Precio promedio</th>\n",
       "      <th>Cantidad</th>\n",
       "      <th>Unidad</th>\n",
       "      <th>Estatus</th>\n",
       "    </tr>\n",
       "  </thead>\n",
       "  <tbody>\n",
       "    <tr>\n",
       "      <th>0</th>\n",
       "      <td>2020</td>\n",
       "      <td>10</td>\n",
       "      <td>NaN</td>\n",
       "      <td>1</td>\n",
       "      <td>Área Met. de la Cd. de México</td>\n",
       "      <td>1. Alimentos, bebidas y tabaco</td>\n",
       "      <td>1.1. Alimentos</td>\n",
       "      <td>1.1.1. Pan, tortillas y cereales</td>\n",
       "      <td>04 Arroz y cereales preparados</td>\n",
       "      <td>1</td>\n",
       "      <td>Arroz</td>\n",
       "      <td>1</td>\n",
       "      <td>VERDE VALLE, INTEGRAL, BOLSA DE 900 GR</td>\n",
       "      <td>32.00</td>\n",
       "      <td>1</td>\n",
       "      <td>KG</td>\n",
       "      <td>NaN</td>\n",
       "    </tr>\n",
       "    <tr>\n",
       "      <th>1</th>\n",
       "      <td>2020</td>\n",
       "      <td>10</td>\n",
       "      <td>NaN</td>\n",
       "      <td>1</td>\n",
       "      <td>Área Met. de la Cd. de México</td>\n",
       "      <td>1. Alimentos, bebidas y tabaco</td>\n",
       "      <td>1.1. Alimentos</td>\n",
       "      <td>1.1.1. Pan, tortillas y cereales</td>\n",
       "      <td>04 Arroz y cereales preparados</td>\n",
       "      <td>1</td>\n",
       "      <td>Arroz</td>\n",
       "      <td>2</td>\n",
       "      <td>VERDE VALLE, BLANCO, SUPER EXTRA, BOLSA DE 1 KG</td>\n",
       "      <td>36.23</td>\n",
       "      <td>1</td>\n",
       "      <td>KG</td>\n",
       "      <td>NaN</td>\n",
       "    </tr>\n",
       "    <tr>\n",
       "      <th>2</th>\n",
       "      <td>2020</td>\n",
       "      <td>10</td>\n",
       "      <td>NaN</td>\n",
       "      <td>1</td>\n",
       "      <td>Área Met. de la Cd. de México</td>\n",
       "      <td>1. Alimentos, bebidas y tabaco</td>\n",
       "      <td>1.1. Alimentos</td>\n",
       "      <td>1.1.1. Pan, tortillas y cereales</td>\n",
       "      <td>04 Arroz y cereales preparados</td>\n",
       "      <td>1</td>\n",
       "      <td>Arroz</td>\n",
       "      <td>3</td>\n",
       "      <td>MORELOS, BLANCO, SUPER EXTRA, BOLSA DE 1 KG</td>\n",
       "      <td>34.00</td>\n",
       "      <td>1</td>\n",
       "      <td>KG</td>\n",
       "      <td>NaN</td>\n",
       "    </tr>\n",
       "    <tr>\n",
       "      <th>3</th>\n",
       "      <td>2020</td>\n",
       "      <td>10</td>\n",
       "      <td>NaN</td>\n",
       "      <td>1</td>\n",
       "      <td>Área Met. de la Cd. de México</td>\n",
       "      <td>1. Alimentos, bebidas y tabaco</td>\n",
       "      <td>1.1. Alimentos</td>\n",
       "      <td>1.1.1. Pan, tortillas y cereales</td>\n",
       "      <td>04 Arroz y cereales preparados</td>\n",
       "      <td>1</td>\n",
       "      <td>Arroz</td>\n",
       "      <td>4</td>\n",
       "      <td>MP, BLANCO, SUPER EXTRA, BOLSA DE 900 GR</td>\n",
       "      <td>21.94</td>\n",
       "      <td>1</td>\n",
       "      <td>KG</td>\n",
       "      <td>NaN</td>\n",
       "    </tr>\n",
       "    <tr>\n",
       "      <th>4</th>\n",
       "      <td>2020</td>\n",
       "      <td>10</td>\n",
       "      <td>NaN</td>\n",
       "      <td>1</td>\n",
       "      <td>Área Met. de la Cd. de México</td>\n",
       "      <td>1. Alimentos, bebidas y tabaco</td>\n",
       "      <td>1.1. Alimentos</td>\n",
       "      <td>1.1.1. Pan, tortillas y cereales</td>\n",
       "      <td>04 Arroz y cereales preparados</td>\n",
       "      <td>1</td>\n",
       "      <td>Arroz</td>\n",
       "      <td>5</td>\n",
       "      <td>VALLE VERDE, BLANCO, SUPER EXTRA, BOLSA DE 900 GR</td>\n",
       "      <td>44.44</td>\n",
       "      <td>1</td>\n",
       "      <td>KG</td>\n",
       "      <td>NaN</td>\n",
       "    </tr>\n",
       "  </tbody>\n",
       "</table>\n",
       "</div>"
      ],
      "text/plain": [
       "    Año  Mes  Fecha_Pub_DOF  Clave ciudad                  Nombre ciudad  \\\n",
       "0  2020   10            NaN             1  Área Met. de la Cd. de México   \n",
       "1  2020   10            NaN             1  Área Met. de la Cd. de México   \n",
       "2  2020   10            NaN             1  Área Met. de la Cd. de México   \n",
       "3  2020   10            NaN             1  Área Met. de la Cd. de México   \n",
       "4  2020   10            NaN             1  Área Met. de la Cd. de México   \n",
       "\n",
       "                         División           Grupo  \\\n",
       "0  1. Alimentos, bebidas y tabaco  1.1. Alimentos   \n",
       "1  1. Alimentos, bebidas y tabaco  1.1. Alimentos   \n",
       "2  1. Alimentos, bebidas y tabaco  1.1. Alimentos   \n",
       "3  1. Alimentos, bebidas y tabaco  1.1. Alimentos   \n",
       "4  1. Alimentos, bebidas y tabaco  1.1. Alimentos   \n",
       "\n",
       "                              Clase                        Subclase  \\\n",
       "0  1.1.1. Pan, tortillas y cereales  04 Arroz y cereales preparados   \n",
       "1  1.1.1. Pan, tortillas y cereales  04 Arroz y cereales preparados   \n",
       "2  1.1.1. Pan, tortillas y cereales  04 Arroz y cereales preparados   \n",
       "3  1.1.1. Pan, tortillas y cereales  04 Arroz y cereales preparados   \n",
       "4  1.1.1. Pan, tortillas y cereales  04 Arroz y cereales preparados   \n",
       "\n",
       "   Clave generico Generico  Consecutivo  \\\n",
       "0               1    Arroz            1   \n",
       "1               1    Arroz            2   \n",
       "2               1    Arroz            3   \n",
       "3               1    Arroz            4   \n",
       "4               1    Arroz            5   \n",
       "\n",
       "                                      Especificación  Precio promedio  \\\n",
       "0             VERDE VALLE, INTEGRAL, BOLSA DE 900 GR            32.00   \n",
       "1    VERDE VALLE, BLANCO, SUPER EXTRA, BOLSA DE 1 KG            36.23   \n",
       "2        MORELOS, BLANCO, SUPER EXTRA, BOLSA DE 1 KG            34.00   \n",
       "3           MP, BLANCO, SUPER EXTRA, BOLSA DE 900 GR            21.94   \n",
       "4  VALLE VERDE, BLANCO, SUPER EXTRA, BOLSA DE 900 GR            44.44   \n",
       "\n",
       "   Cantidad Unidad Estatus  \n",
       "0         1     KG     NaN  \n",
       "1         1     KG     NaN  \n",
       "2         1     KG     NaN  \n",
       "3         1     KG     NaN  \n",
       "4         1     KG     NaN  "
      ]
     },
     "execution_count": 79,
     "metadata": {},
     "output_type": "execute_result"
    }
   ],
   "source": [
    "dataframe.head()"
   ]
  },
  {
   "cell_type": "code",
   "execution_count": 80,
   "metadata": {},
   "outputs": [
    {
     "data": {
      "text/plain": [
       "(65528, 17)"
      ]
     },
     "execution_count": 80,
     "metadata": {},
     "output_type": "execute_result"
    }
   ],
   "source": [
    "# Dimensiones del dataframe\n",
    "dataframe.shape"
   ]
  },
  {
   "cell_type": "code",
   "execution_count": 81,
   "metadata": {},
   "outputs": [
    {
     "name": "stdout",
     "output_type": "stream",
     "text": [
      "<class 'pandas.core.frame.DataFrame'>\n",
      "RangeIndex: 65528 entries, 0 to 65527\n",
      "Data columns (total 17 columns):\n",
      " #   Column           Non-Null Count  Dtype  \n",
      "---  ------           --------------  -----  \n",
      " 0   Año              65528 non-null  int64  \n",
      " 1   Mes              65528 non-null  int64  \n",
      " 2   Fecha_Pub_DOF    0 non-null      float64\n",
      " 3   Clave ciudad     65528 non-null  int64  \n",
      " 4   Nombre ciudad    65528 non-null  object \n",
      " 5   División         65528 non-null  object \n",
      " 6   Grupo            65528 non-null  object \n",
      " 7   Clase            65528 non-null  object \n",
      " 8   Subclase         65528 non-null  object \n",
      " 9   Clave generico   65528 non-null  int64  \n",
      " 10  Generico         65528 non-null  object \n",
      " 11  Consecutivo      65528 non-null  int64  \n",
      " 12  Especificación   65528 non-null  object \n",
      " 13  Precio promedio  65528 non-null  float64\n",
      " 14  Cantidad         65528 non-null  int64  \n",
      " 15  Unidad           65528 non-null  object \n",
      " 16  Estatus          1226 non-null   object \n",
      "dtypes: float64(2), int64(6), object(9)\n",
      "memory usage: 8.5+ MB\n"
     ]
    }
   ],
   "source": [
    "dataframe.info()"
   ]
  },
  {
   "cell_type": "markdown",
   "metadata": {},
   "source": [
    "### 2. Características generales"
   ]
  },
  {
   "cell_type": "markdown",
   "metadata": {},
   "source": [
    "##### 2.1 Relación de tipo de datos"
   ]
  },
  {
   "cell_type": "markdown",
   "metadata": {},
   "source": [
    "Mostrando la proporción de tipos de datos en un gráfico circular"
   ]
  },
  {
   "cell_type": "code",
   "execution_count": 82,
   "metadata": {},
   "outputs": [
    {
     "data": {
      "image/png": "[encoded data removed]",
      "text/plain": [
       "<Figure size 432x432 with 1 Axes>"
      ]
     },
     "metadata": {},
     "output_type": "display_data"
    }
   ],
   "source": [
    "dtype, count = np.unique(dataframe.dtypes.values, return_counts=True)\n",
    "df = pd.DataFrame(data={'count': count}, index=dtype)\n",
    "ax = df.plot.pie(y='count', autopct=\"%1.1f%%\", figsize=(6,6), legend=False)\n",
    "ax.set_ylabel('')\n",
    "ax.set_title('Relación de tipo de datos', fontsize=18);"
   ]
  },
  {
   "cell_type": "markdown",
   "metadata": {},
   "source": [
    "##### 2.2 Valores faltantes"
   ]
  },
  {
   "cell_type": "markdown",
   "metadata": {},
   "source": [
    "Mostrando la cantidad de los valores faltantes"
   ]
  },
  {
   "cell_type": "code",
   "execution_count": 83,
   "metadata": {},
   "outputs": [
    {
     "data": {
      "text/plain": [
       "Año                    0\n",
       "Mes                    0\n",
       "Fecha_Pub_DOF      65528\n",
       "Clave ciudad           0\n",
       "Nombre ciudad          0\n",
       "División               0\n",
       "Grupo                  0\n",
       "Clase                  0\n",
       "Subclase               0\n",
       "Clave generico         0\n",
       "Generico               0\n",
       "Consecutivo            0\n",
       "Especificación         0\n",
       "Precio promedio        0\n",
       "Cantidad               0\n",
       "Unidad                 0\n",
       "Estatus            64302\n",
       "dtype: int64"
      ]
     },
     "execution_count": 83,
     "metadata": {},
     "output_type": "execute_result"
    }
   ],
   "source": [
    "# obteniendo el número de puntos de datos faltantes por columna\n",
    "missing_values_count = dataframe.isnull().sum()\n",
    "# Para observar el número de puntos faltantes en las primeras nueve columnas\n",
    "missing_values_count[0:17]"
   ]
  },
  {
   "cell_type": "markdown",
   "metadata": {},
   "source": [
    "### 3. Funciones numéricas"
   ]
  },
  {
   "cell_type": "markdown",
   "metadata": {},
   "source": [
    "##### 3.1 Data Encoding: Label Encoder"
   ]
  },
  {
   "cell_type": "markdown",
   "metadata": {},
   "source": [
    "Por defecto cualquier campo no numérico será de tipo 'object'"
   ]
  },
  {
   "cell_type": "code",
   "execution_count": 84,
   "metadata": {},
   "outputs": [
    {
     "data": {
      "text/plain": [
       "Año                  int64\n",
       "Mes                  int64\n",
       "Fecha_Pub_DOF      float64\n",
       "Clave ciudad         int64\n",
       "Nombre ciudad       object\n",
       "División            object\n",
       "Grupo               object\n",
       "Clase               object\n",
       "Subclase            object\n",
       "Clave generico       int64\n",
       "Generico            object\n",
       "Consecutivo          int64\n",
       "Especificación      object\n",
       "Precio promedio    float64\n",
       "Cantidad             int64\n",
       "Unidad              object\n",
       "Estatus             object\n",
       "dtype: object"
      ]
     },
     "execution_count": 84,
     "metadata": {},
     "output_type": "execute_result"
    }
   ],
   "source": [
    "dataframe.dtypes"
   ]
  },
  {
   "cell_type": "markdown",
   "metadata": {},
   "source": [
    "Las **características categóricas** toman un número fijo de valores. Cada uno de estos valores asigna una observación a un grupo correspondiente, conocido como categoría, que refleja alguna propiedad cualitativa de este ejemplo. "
   ]
  },
  {
   "cell_type": "code",
   "execution_count": 85,
   "metadata": {},
   "outputs": [
    {
     "data": {
      "text/plain": [
       "Año                False\n",
       "Mes                False\n",
       "Fecha_Pub_DOF      False\n",
       "Clave ciudad       False\n",
       "Nombre ciudad       True\n",
       "División            True\n",
       "Grupo               True\n",
       "Clase               True\n",
       "Subclase            True\n",
       "Clave generico     False\n",
       "Generico            True\n",
       "Consecutivo        False\n",
       "Especificación      True\n",
       "Precio promedio    False\n",
       "Cantidad           False\n",
       "Unidad              True\n",
       "Estatus             True\n",
       "dtype: bool"
      ]
     },
     "execution_count": 85,
     "metadata": {},
     "output_type": "execute_result"
    }
   ],
   "source": [
    "# columnas categoricas\n",
    "dataframe.dtypes == object"
   ]
  },
  {
   "cell_type": "code",
   "execution_count": 86,
   "metadata": {},
   "outputs": [
    {
     "data": {
      "text/plain": [
       "Año                False\n",
       "Mes                False\n",
       "Fecha_Pub_DOF       True\n",
       "Clave ciudad       False\n",
       "Nombre ciudad      False\n",
       "División           False\n",
       "Grupo              False\n",
       "Clase              False\n",
       "Subclase           False\n",
       "Clave generico     False\n",
       "Generico           False\n",
       "Consecutivo        False\n",
       "Especificación     False\n",
       "Precio promedio     True\n",
       "Cantidad           False\n",
       "Unidad             False\n",
       "Estatus            False\n",
       "dtype: bool"
      ]
     },
     "execution_count": 86,
     "metadata": {},
     "output_type": "execute_result"
    }
   ],
   "source": [
    "# columnas númericas\n",
    "dataframe.dtypes == float"
   ]
  },
  {
   "cell_type": "markdown",
   "metadata": {},
   "source": [
    "Dado que se tienen texto en las columnas de interes, se procede a generar el reemplazo de los valores categóricos (textuales) por los valores númericos, por lo que se utilizar el Label Encoder, el cual se va a encargar de agrupar de forma que los registros cuenten con la misma palabra para poder identificarlos por un númeral."
   ]
  },
  {
   "cell_type": "code",
   "execution_count": 87,
   "metadata": {},
   "outputs": [],
   "source": [
    "# Categorical boolean mask, de esta forma realizamos un cambio al tipo de dato\n",
    "# lo 'enmascaramos' como un tipo categórico para poderlo tratar.\n",
    "categorical_feature_mask = dataframe.dtypes==object\n",
    "# filter categorical columns using mask and turn it into a list\n",
    "categorical_cols = dataframe.columns[categorical_feature_mask].tolist()"
   ]
  },
  {
   "cell_type": "code",
   "execution_count": 88,
   "metadata": {},
   "outputs": [
    {
     "data": {
      "text/html": [
       "<div>\n",
       "<style scoped>\n",
       "    .dataframe tbody tr th:only-of-type {\n",
       "        vertical-align: middle;\n",
       "    }\n",
       "\n",
       "    .dataframe tbody tr th {\n",
       "        vertical-align: top;\n",
       "    }\n",
       "\n",
       "    .dataframe thead th {\n",
       "        text-align: right;\n",
       "    }\n",
       "</style>\n",
       "<table border=\"1\" class=\"dataframe\">\n",
       "  <thead>\n",
       "    <tr style=\"text-align: right;\">\n",
       "      <th></th>\n",
       "      <th>Nombre ciudad</th>\n",
       "      <th>División</th>\n",
       "      <th>Grupo</th>\n",
       "      <th>Clase</th>\n",
       "      <th>Subclase</th>\n",
       "      <th>Generico</th>\n",
       "      <th>Especificación</th>\n",
       "      <th>Unidad</th>\n",
       "    </tr>\n",
       "  </thead>\n",
       "  <tbody>\n",
       "    <tr>\n",
       "      <th>65518</th>\n",
       "      <td>34</td>\n",
       "      <td>2</td>\n",
       "      <td>5</td>\n",
       "      <td>17</td>\n",
       "      <td>42</td>\n",
       "      <td>138</td>\n",
       "      <td>26443</td>\n",
       "      <td>30</td>\n",
       "    </tr>\n",
       "    <tr>\n",
       "      <th>65519</th>\n",
       "      <td>34</td>\n",
       "      <td>2</td>\n",
       "      <td>5</td>\n",
       "      <td>17</td>\n",
       "      <td>42</td>\n",
       "      <td>138</td>\n",
       "      <td>14868</td>\n",
       "      <td>30</td>\n",
       "    </tr>\n",
       "    <tr>\n",
       "      <th>65520</th>\n",
       "      <td>34</td>\n",
       "      <td>2</td>\n",
       "      <td>5</td>\n",
       "      <td>17</td>\n",
       "      <td>42</td>\n",
       "      <td>138</td>\n",
       "      <td>26427</td>\n",
       "      <td>30</td>\n",
       "    </tr>\n",
       "    <tr>\n",
       "      <th>65521</th>\n",
       "      <td>34</td>\n",
       "      <td>2</td>\n",
       "      <td>5</td>\n",
       "      <td>17</td>\n",
       "      <td>42</td>\n",
       "      <td>138</td>\n",
       "      <td>3725</td>\n",
       "      <td>30</td>\n",
       "    </tr>\n",
       "    <tr>\n",
       "      <th>65522</th>\n",
       "      <td>34</td>\n",
       "      <td>2</td>\n",
       "      <td>6</td>\n",
       "      <td>18</td>\n",
       "      <td>45</td>\n",
       "      <td>9</td>\n",
       "      <td>36846</td>\n",
       "      <td>22</td>\n",
       "    </tr>\n",
       "    <tr>\n",
       "      <th>65523</th>\n",
       "      <td>34</td>\n",
       "      <td>2</td>\n",
       "      <td>6</td>\n",
       "      <td>18</td>\n",
       "      <td>45</td>\n",
       "      <td>9</td>\n",
       "      <td>7886</td>\n",
       "      <td>11</td>\n",
       "    </tr>\n",
       "    <tr>\n",
       "      <th>65524</th>\n",
       "      <td>34</td>\n",
       "      <td>2</td>\n",
       "      <td>6</td>\n",
       "      <td>18</td>\n",
       "      <td>45</td>\n",
       "      <td>9</td>\n",
       "      <td>12022</td>\n",
       "      <td>22</td>\n",
       "    </tr>\n",
       "    <tr>\n",
       "      <th>65525</th>\n",
       "      <td>34</td>\n",
       "      <td>2</td>\n",
       "      <td>6</td>\n",
       "      <td>18</td>\n",
       "      <td>45</td>\n",
       "      <td>9</td>\n",
       "      <td>6275</td>\n",
       "      <td>22</td>\n",
       "    </tr>\n",
       "    <tr>\n",
       "      <th>65526</th>\n",
       "      <td>34</td>\n",
       "      <td>2</td>\n",
       "      <td>6</td>\n",
       "      <td>18</td>\n",
       "      <td>45</td>\n",
       "      <td>14</td>\n",
       "      <td>35573</td>\n",
       "      <td>11</td>\n",
       "    </tr>\n",
       "    <tr>\n",
       "      <th>65527</th>\n",
       "      <td>34</td>\n",
       "      <td>2</td>\n",
       "      <td>6</td>\n",
       "      <td>18</td>\n",
       "      <td>45</td>\n",
       "      <td>14</td>\n",
       "      <td>6256</td>\n",
       "      <td>11</td>\n",
       "    </tr>\n",
       "  </tbody>\n",
       "</table>\n",
       "</div>"
      ],
      "text/plain": [
       "       Nombre ciudad  División  Grupo  Clase  Subclase  Generico  \\\n",
       "65518             34         2      5     17        42       138   \n",
       "65519             34         2      5     17        42       138   \n",
       "65520             34         2      5     17        42       138   \n",
       "65521             34         2      5     17        42       138   \n",
       "65522             34         2      6     18        45         9   \n",
       "65523             34         2      6     18        45         9   \n",
       "65524             34         2      6     18        45         9   \n",
       "65525             34         2      6     18        45         9   \n",
       "65526             34         2      6     18        45        14   \n",
       "65527             34         2      6     18        45        14   \n",
       "\n",
       "       Especificación  Unidad  \n",
       "65518           26443      30  \n",
       "65519           14868      30  \n",
       "65520           26427      30  \n",
       "65521            3725      30  \n",
       "65522           36846      22  \n",
       "65523            7886      11  \n",
       "65524           12022      22  \n",
       "65525            6275      22  \n",
       "65526           35573      11  \n",
       "65527            6256      11  "
      ]
     },
     "execution_count": 88,
     "metadata": {},
     "output_type": "execute_result"
    }
   ],
   "source": [
    "# import labelencoder\n",
    "from sklearn.preprocessing import LabelEncoder# instantiate labelencoder object\n",
    "le = LabelEncoder()\n",
    "# A cada columna de tipo categórica le aplicamos la transformación\n",
    "# bien podríamos realizarlo con una columna en específico de forma:\n",
    "# df['ColumnaNueva'] = le.fit_transform(bridge_df['ColumnaAnterior'])\n",
    "dataframe[['Nombre ciudad','División','Grupo','Clase','Subclase','Generico','Especificación', 'Unidad']] = dataframe[['Nombre ciudad','División','Grupo','Clase','Subclase','Generico','Especificación', 'Unidad']].apply(lambda col: le.fit_transform(col))\n",
    "dataframe[['Nombre ciudad','División','Grupo','Clase','Subclase','Generico','Especificación', 'Unidad']].tail(10)"
   ]
  },
  {
   "cell_type": "code",
   "execution_count": 89,
   "metadata": {},
   "outputs": [
    {
     "data": {
      "text/html": [
       "<div>\n",
       "<style scoped>\n",
       "    .dataframe tbody tr th:only-of-type {\n",
       "        vertical-align: middle;\n",
       "    }\n",
       "\n",
       "    .dataframe tbody tr th {\n",
       "        vertical-align: top;\n",
       "    }\n",
       "\n",
       "    .dataframe thead th {\n",
       "        text-align: right;\n",
       "    }\n",
       "</style>\n",
       "<table border=\"1\" class=\"dataframe\">\n",
       "  <thead>\n",
       "    <tr style=\"text-align: right;\">\n",
       "      <th></th>\n",
       "      <th>Año</th>\n",
       "      <th>Mes</th>\n",
       "      <th>Fecha_Pub_DOF</th>\n",
       "      <th>Clave ciudad</th>\n",
       "      <th>Nombre ciudad</th>\n",
       "      <th>División</th>\n",
       "      <th>Grupo</th>\n",
       "      <th>Clase</th>\n",
       "      <th>Subclase</th>\n",
       "      <th>Clave generico</th>\n",
       "      <th>Generico</th>\n",
       "      <th>Consecutivo</th>\n",
       "      <th>Especificación</th>\n",
       "      <th>Precio promedio</th>\n",
       "      <th>Cantidad</th>\n",
       "      <th>Unidad</th>\n",
       "      <th>Estatus</th>\n",
       "    </tr>\n",
       "  </thead>\n",
       "  <tbody>\n",
       "    <tr>\n",
       "      <th>0</th>\n",
       "      <td>2020</td>\n",
       "      <td>10</td>\n",
       "      <td>NaN</td>\n",
       "      <td>1</td>\n",
       "      <td>43</td>\n",
       "      <td>0</td>\n",
       "      <td>0</td>\n",
       "      <td>0</td>\n",
       "      <td>3</td>\n",
       "      <td>1</td>\n",
       "      <td>7</td>\n",
       "      <td>1</td>\n",
       "      <td>36462</td>\n",
       "      <td>32.00</td>\n",
       "      <td>1</td>\n",
       "      <td>12</td>\n",
       "      <td>NaN</td>\n",
       "    </tr>\n",
       "    <tr>\n",
       "      <th>1</th>\n",
       "      <td>2020</td>\n",
       "      <td>10</td>\n",
       "      <td>NaN</td>\n",
       "      <td>1</td>\n",
       "      <td>43</td>\n",
       "      <td>0</td>\n",
       "      <td>0</td>\n",
       "      <td>0</td>\n",
       "      <td>3</td>\n",
       "      <td>1</td>\n",
       "      <td>7</td>\n",
       "      <td>2</td>\n",
       "      <td>36439</td>\n",
       "      <td>36.23</td>\n",
       "      <td>1</td>\n",
       "      <td>12</td>\n",
       "      <td>NaN</td>\n",
       "    </tr>\n",
       "    <tr>\n",
       "      <th>2</th>\n",
       "      <td>2020</td>\n",
       "      <td>10</td>\n",
       "      <td>NaN</td>\n",
       "      <td>1</td>\n",
       "      <td>43</td>\n",
       "      <td>0</td>\n",
       "      <td>0</td>\n",
       "      <td>0</td>\n",
       "      <td>3</td>\n",
       "      <td>1</td>\n",
       "      <td>7</td>\n",
       "      <td>3</td>\n",
       "      <td>23385</td>\n",
       "      <td>34.00</td>\n",
       "      <td>1</td>\n",
       "      <td>12</td>\n",
       "      <td>NaN</td>\n",
       "    </tr>\n",
       "    <tr>\n",
       "      <th>3</th>\n",
       "      <td>2020</td>\n",
       "      <td>10</td>\n",
       "      <td>NaN</td>\n",
       "      <td>1</td>\n",
       "      <td>43</td>\n",
       "      <td>0</td>\n",
       "      <td>0</td>\n",
       "      <td>0</td>\n",
       "      <td>3</td>\n",
       "      <td>1</td>\n",
       "      <td>7</td>\n",
       "      <td>4</td>\n",
       "      <td>23554</td>\n",
       "      <td>21.94</td>\n",
       "      <td>1</td>\n",
       "      <td>12</td>\n",
       "      <td>NaN</td>\n",
       "    </tr>\n",
       "    <tr>\n",
       "      <th>4</th>\n",
       "      <td>2020</td>\n",
       "      <td>10</td>\n",
       "      <td>NaN</td>\n",
       "      <td>1</td>\n",
       "      <td>43</td>\n",
       "      <td>0</td>\n",
       "      <td>0</td>\n",
       "      <td>0</td>\n",
       "      <td>3</td>\n",
       "      <td>1</td>\n",
       "      <td>7</td>\n",
       "      <td>5</td>\n",
       "      <td>36212</td>\n",
       "      <td>44.44</td>\n",
       "      <td>1</td>\n",
       "      <td>12</td>\n",
       "      <td>NaN</td>\n",
       "    </tr>\n",
       "  </tbody>\n",
       "</table>\n",
       "</div>"
      ],
      "text/plain": [
       "    Año  Mes  Fecha_Pub_DOF  Clave ciudad  Nombre ciudad  División  Grupo  \\\n",
       "0  2020   10            NaN             1             43         0      0   \n",
       "1  2020   10            NaN             1             43         0      0   \n",
       "2  2020   10            NaN             1             43         0      0   \n",
       "3  2020   10            NaN             1             43         0      0   \n",
       "4  2020   10            NaN             1             43         0      0   \n",
       "\n",
       "   Clase  Subclase  Clave generico  Generico  Consecutivo  Especificación  \\\n",
       "0      0         3               1         7            1           36462   \n",
       "1      0         3               1         7            2           36439   \n",
       "2      0         3               1         7            3           23385   \n",
       "3      0         3               1         7            4           23554   \n",
       "4      0         3               1         7            5           36212   \n",
       "\n",
       "   Precio promedio  Cantidad  Unidad Estatus  \n",
       "0            32.00         1      12     NaN  \n",
       "1            36.23         1      12     NaN  \n",
       "2            34.00         1      12     NaN  \n",
       "3            21.94         1      12     NaN  \n",
       "4            44.44         1      12     NaN  "
      ]
     },
     "execution_count": 89,
     "metadata": {},
     "output_type": "execute_result"
    }
   ],
   "source": [
    "dataframe.head()"
   ]
  },
  {
   "cell_type": "code",
   "execution_count": 90,
   "metadata": {},
   "outputs": [
    {
     "name": "stdout",
     "output_type": "stream",
     "text": [
      "<class 'pandas.core.frame.DataFrame'>\n",
      "RangeIndex: 65528 entries, 0 to 65527\n",
      "Data columns (total 9 columns):\n",
      " #   Column          Non-Null Count  Dtype \n",
      "---  ------          --------------  ----- \n",
      " 0   Nombre ciudad   65528 non-null  int32 \n",
      " 1   División        65528 non-null  int32 \n",
      " 2   Grupo           65528 non-null  int32 \n",
      " 3   Clase           65528 non-null  int32 \n",
      " 4   Subclase        65528 non-null  int32 \n",
      " 5   Generico        65528 non-null  int32 \n",
      " 6   Especificación  65528 non-null  int32 \n",
      " 7   Unidad          65528 non-null  int32 \n",
      " 8   Estatus         1226 non-null   object\n",
      "dtypes: int32(8), object(1)\n",
      "memory usage: 2.5+ MB\n"
     ]
    }
   ],
   "source": [
    "dataframe[categorical_cols].info()"
   ]
  },
  {
   "cell_type": "markdown",
   "metadata": {},
   "source": [
    "##### 3.2 Importancia de las funciones"
   ]
  },
  {
   "cell_type": "markdown",
   "metadata": {},
   "source": [
    "Mostrando la importancia de las características en un gráfico de barras y los datos numéricos y categóricos están codificados por colores"
   ]
  },
  {
   "cell_type": "code",
   "execution_count": 91,
   "metadata": {},
   "outputs": [
    {
     "data": {
      "text/html": [
       "<div>\n",
       "<style scoped>\n",
       "    .dataframe tbody tr th:only-of-type {\n",
       "        vertical-align: middle;\n",
       "    }\n",
       "\n",
       "    .dataframe tbody tr th {\n",
       "        vertical-align: top;\n",
       "    }\n",
       "\n",
       "    .dataframe thead th {\n",
       "        text-align: right;\n",
       "    }\n",
       "</style>\n",
       "<table border=\"1\" class=\"dataframe\">\n",
       "  <thead>\n",
       "    <tr style=\"text-align: right;\">\n",
       "      <th></th>\n",
       "      <th>Año</th>\n",
       "      <th>Mes</th>\n",
       "      <th>Fecha_Pub_DOF</th>\n",
       "      <th>Clave ciudad</th>\n",
       "      <th>Nombre ciudad</th>\n",
       "      <th>División</th>\n",
       "      <th>Grupo</th>\n",
       "      <th>Clase</th>\n",
       "      <th>Subclase</th>\n",
       "      <th>Clave generico</th>\n",
       "      <th>Generico</th>\n",
       "      <th>Consecutivo</th>\n",
       "      <th>Especificación</th>\n",
       "      <th>Precio promedio</th>\n",
       "      <th>Cantidad</th>\n",
       "      <th>Unidad</th>\n",
       "    </tr>\n",
       "  </thead>\n",
       "  <tbody>\n",
       "    <tr>\n",
       "      <th>count</th>\n",
       "      <td>65528.0</td>\n",
       "      <td>65528.0</td>\n",
       "      <td>0.0</td>\n",
       "      <td>65528.000000</td>\n",
       "      <td>65528.000000</td>\n",
       "      <td>65528.000000</td>\n",
       "      <td>65528.000000</td>\n",
       "      <td>65528.000000</td>\n",
       "      <td>65528.000000</td>\n",
       "      <td>65528.000000</td>\n",
       "      <td>65528.000000</td>\n",
       "      <td>65528.000000</td>\n",
       "      <td>65528.000000</td>\n",
       "      <td>65528.000000</td>\n",
       "      <td>65528.0</td>\n",
       "      <td>65528.000000</td>\n",
       "    </tr>\n",
       "    <tr>\n",
       "      <th>mean</th>\n",
       "      <td>2020.0</td>\n",
       "      <td>10.0</td>\n",
       "      <td>NaN</td>\n",
       "      <td>20.964702</td>\n",
       "      <td>22.227140</td>\n",
       "      <td>0.590358</td>\n",
       "      <td>1.584529</td>\n",
       "      <td>8.175009</td>\n",
       "      <td>23.175559</td>\n",
       "      <td>96.597424</td>\n",
       "      <td>96.418005</td>\n",
       "      <td>7.045828</td>\n",
       "      <td>18050.519640</td>\n",
       "      <td>664.151854</td>\n",
       "      <td>1.0</td>\n",
       "      <td>16.233412</td>\n",
       "    </tr>\n",
       "    <tr>\n",
       "      <th>std</th>\n",
       "      <td>0.0</td>\n",
       "      <td>0.0</td>\n",
       "      <td>NaN</td>\n",
       "      <td>13.314300</td>\n",
       "      <td>13.231954</td>\n",
       "      <td>0.795387</td>\n",
       "      <td>2.182915</td>\n",
       "      <td>5.994451</td>\n",
       "      <td>14.043699</td>\n",
       "      <td>66.809207</td>\n",
       "      <td>55.151602</td>\n",
       "      <td>10.706662</td>\n",
       "      <td>11329.904489</td>\n",
       "      <td>2459.623632</td>\n",
       "      <td>0.0</td>\n",
       "      <td>5.938004</td>\n",
       "    </tr>\n",
       "    <tr>\n",
       "      <th>min</th>\n",
       "      <td>2020.0</td>\n",
       "      <td>10.0</td>\n",
       "      <td>NaN</td>\n",
       "      <td>1.000000</td>\n",
       "      <td>0.000000</td>\n",
       "      <td>0.000000</td>\n",
       "      <td>0.000000</td>\n",
       "      <td>0.000000</td>\n",
       "      <td>0.000000</td>\n",
       "      <td>1.000000</td>\n",
       "      <td>0.000000</td>\n",
       "      <td>1.000000</td>\n",
       "      <td>0.000000</td>\n",
       "      <td>0.420000</td>\n",
       "      <td>1.0</td>\n",
       "      <td>0.000000</td>\n",
       "    </tr>\n",
       "    <tr>\n",
       "      <th>25%</th>\n",
       "      <td>2020.0</td>\n",
       "      <td>10.0</td>\n",
       "      <td>NaN</td>\n",
       "      <td>9.000000</td>\n",
       "      <td>10.000000</td>\n",
       "      <td>0.000000</td>\n",
       "      <td>0.000000</td>\n",
       "      <td>3.000000</td>\n",
       "      <td>12.000000</td>\n",
       "      <td>43.000000</td>\n",
       "      <td>46.000000</td>\n",
       "      <td>2.000000</td>\n",
       "      <td>7804.750000</td>\n",
       "      <td>31.090000</td>\n",
       "      <td>1.0</td>\n",
       "      <td>12.000000</td>\n",
       "    </tr>\n",
       "    <tr>\n",
       "      <th>50%</th>\n",
       "      <td>2020.0</td>\n",
       "      <td>10.0</td>\n",
       "      <td>NaN</td>\n",
       "      <td>21.000000</td>\n",
       "      <td>23.000000</td>\n",
       "      <td>0.000000</td>\n",
       "      <td>0.000000</td>\n",
       "      <td>6.000000</td>\n",
       "      <td>20.000000</td>\n",
       "      <td>87.000000</td>\n",
       "      <td>99.000000</td>\n",
       "      <td>4.000000</td>\n",
       "      <td>18009.500000</td>\n",
       "      <td>84.410000</td>\n",
       "      <td>1.0</td>\n",
       "      <td>12.000000</td>\n",
       "    </tr>\n",
       "    <tr>\n",
       "      <th>75%</th>\n",
       "      <td>2020.0</td>\n",
       "      <td>10.0</td>\n",
       "      <td>NaN</td>\n",
       "      <td>33.000000</td>\n",
       "      <td>34.000000</td>\n",
       "      <td>1.000000</td>\n",
       "      <td>2.000000</td>\n",
       "      <td>13.000000</td>\n",
       "      <td>36.000000</td>\n",
       "      <td>133.000000</td>\n",
       "      <td>146.000000</td>\n",
       "      <td>8.000000</td>\n",
       "      <td>27839.250000</td>\n",
       "      <td>240.000000</td>\n",
       "      <td>1.0</td>\n",
       "      <td>22.000000</td>\n",
       "    </tr>\n",
       "    <tr>\n",
       "      <th>max</th>\n",
       "      <td>2020.0</td>\n",
       "      <td>10.0</td>\n",
       "      <td>NaN</td>\n",
       "      <td>44.000000</td>\n",
       "      <td>43.000000</td>\n",
       "      <td>2.000000</td>\n",
       "      <td>6.000000</td>\n",
       "      <td>19.000000</td>\n",
       "      <td>47.000000</td>\n",
       "      <td>294.000000</td>\n",
       "      <td>191.000000</td>\n",
       "      <td>187.000000</td>\n",
       "      <td>38326.000000</td>\n",
       "      <td>79443.000000</td>\n",
       "      <td>1.0</td>\n",
       "      <td>32.000000</td>\n",
       "    </tr>\n",
       "  </tbody>\n",
       "</table>\n",
       "</div>"
      ],
      "text/plain": [
       "           Año      Mes  Fecha_Pub_DOF  Clave ciudad  Nombre ciudad  \\\n",
       "count  65528.0  65528.0            0.0  65528.000000   65528.000000   \n",
       "mean    2020.0     10.0            NaN     20.964702      22.227140   \n",
       "std        0.0      0.0            NaN     13.314300      13.231954   \n",
       "min     2020.0     10.0            NaN      1.000000       0.000000   \n",
       "25%     2020.0     10.0            NaN      9.000000      10.000000   \n",
       "50%     2020.0     10.0            NaN     21.000000      23.000000   \n",
       "75%     2020.0     10.0            NaN     33.000000      34.000000   \n",
       "max     2020.0     10.0            NaN     44.000000      43.000000   \n",
       "\n",
       "           División         Grupo         Clase      Subclase  Clave generico  \\\n",
       "count  65528.000000  65528.000000  65528.000000  65528.000000    65528.000000   \n",
       "mean       0.590358      1.584529      8.175009     23.175559       96.597424   \n",
       "std        0.795387      2.182915      5.994451     14.043699       66.809207   \n",
       "min        0.000000      0.000000      0.000000      0.000000        1.000000   \n",
       "25%        0.000000      0.000000      3.000000     12.000000       43.000000   \n",
       "50%        0.000000      0.000000      6.000000     20.000000       87.000000   \n",
       "75%        1.000000      2.000000     13.000000     36.000000      133.000000   \n",
       "max        2.000000      6.000000     19.000000     47.000000      294.000000   \n",
       "\n",
       "           Generico   Consecutivo  Especificación  Precio promedio  Cantidad  \\\n",
       "count  65528.000000  65528.000000    65528.000000     65528.000000   65528.0   \n",
       "mean      96.418005      7.045828    18050.519640       664.151854       1.0   \n",
       "std       55.151602     10.706662    11329.904489      2459.623632       0.0   \n",
       "min        0.000000      1.000000        0.000000         0.420000       1.0   \n",
       "25%       46.000000      2.000000     7804.750000        31.090000       1.0   \n",
       "50%       99.000000      4.000000    18009.500000        84.410000       1.0   \n",
       "75%      146.000000      8.000000    27839.250000       240.000000       1.0   \n",
       "max      191.000000    187.000000    38326.000000     79443.000000       1.0   \n",
       "\n",
       "             Unidad  \n",
       "count  65528.000000  \n",
       "mean      16.233412  \n",
       "std        5.938004  \n",
       "min        0.000000  \n",
       "25%       12.000000  \n",
       "50%       12.000000  \n",
       "75%       22.000000  \n",
       "max       32.000000  "
      ]
     },
     "execution_count": 91,
     "metadata": {},
     "output_type": "execute_result"
    }
   ],
   "source": [
    "# Descripción estadistica\n",
    "dataframe.describe()"
   ]
  },
  {
   "cell_type": "code",
   "execution_count": 92,
   "metadata": {},
   "outputs": [
    {
     "data": {
      "image/png": "[encoded data removed]",
      "text/plain": [
       "<Figure size 1080x1080 with 16 Axes>"
      ]
     },
     "metadata": {
      "needs_background": "light"
     },
     "output_type": "display_data"
    }
   ],
   "source": [
    "# Visualizando los datos\n",
    "dataframe.hist(figsize = (15,15))\n",
    "plt.show()"
   ]
  },
  {
   "cell_type": "code",
   "execution_count": 93,
   "metadata": {},
   "outputs": [
    {
     "data": {
      "text/plain": [
       "<function matplotlib.pyplot.show(*args, **kw)>"
      ]
     },
     "execution_count": 93,
     "metadata": {},
     "output_type": "execute_result"
    },
    {
     "data": {
      "image/png": "[encoded data removed]",
      "text/plain": [
       "<Figure size 1080x1080 with 16 Axes>"
      ]
     },
     "metadata": {
      "needs_background": "light"
     },
     "output_type": "display_data"
    }
   ],
   "source": [
    "#Diagrama de cajas \n",
    "dataframe.plot(kind='box', subplots = True, layout = (4,4), sharex = False, sharey = False, figsize = (15,15))\n",
    "plt.show"
   ]
  },
  {
   "cell_type": "code",
   "execution_count": null,
   "metadata": {},
   "outputs": [],
   "source": []
  },
  {
   "cell_type": "code",
   "execution_count": null,
   "metadata": {},
   "outputs": [],
   "source": []
  },
  {
   "cell_type": "code",
   "execution_count": null,
   "metadata": {},
   "outputs": [],
   "source": []
  },
  {
   "cell_type": "code",
   "execution_count": null,
   "metadata": {},
   "outputs": [],
   "source": []
  },
  {
   "cell_type": "code",
   "execution_count": null,
   "metadata": {},
   "outputs": [],
   "source": []
  }
 ],
 "metadata": {
  "kernelspec": {
   "display_name": "Python 3",
   "language": "python",
   "name": "python3"
  },
  "language_info": {
   "codemirror_mode": {
    "name": "ipython",
    "version": 3
   },
   "file_extension": ".py",
   "mimetype": "text/x-python",
   "name": "python",
   "nbconvert_exporter": "python",
   "pygments_lexer": "ipython3",
   "version": "3.7.6"
  }
 },
 "nbformat": 4,
 "nbformat_minor": 4
}
