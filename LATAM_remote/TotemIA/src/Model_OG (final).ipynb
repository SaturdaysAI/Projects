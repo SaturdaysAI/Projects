{
 "cells": [
  {
   "cell_type": "markdown",
   "metadata": {},
   "source": [
    "TAREAS DE LIMPIEZA DE DATOS\n",
    "1. **Cambiar las abreviaturas -> ejem: \"u\"->you \"ur->\"your\"**\n",
    "2. Buscar  caracteres Nulls y Remplazar con valor \"0\" (El cero debe ser valor String). Igual queda en Duda y se debria preguntar al tutor y o demas compa;eros\n",
    "3. Buscar las palabras con mayor frecuencia y hacer un grafica o Datavisualitation.\n",
    "4. **Quitar stopwords ejem: the, and, that, a, any, an, be, with...**\n",
    "5. eliminar emojis, URL, hashtags, contracciones."
   ]
  },
  {
   "cell_type": "code",
   "execution_count": 1,
   "metadata": {},
   "outputs": [],
   "source": [
    "import pandas as pd\n",
    "import numpy as np\n",
    "import string"
   ]
  },
  {
   "cell_type": "code",
   "execution_count": 2,
   "metadata": {},
   "outputs": [],
   "source": [
    "df = pd.read_csv('prueba.csv', delimiter = ';', names = ['Conversation_Id', 'Authors', 'Class', 'Conversation' ])"
   ]
  },
  {
   "cell_type": "code",
   "execution_count": 3,
   "metadata": {},
   "outputs": [],
   "source": [
    "df_conv = df['Conversation'].dropna()"
   ]
  },
  {
   "cell_type": "markdown",
   "metadata": {},
   "source": [
    "Reemplazar | por un espacio ya que solo consideraremos las palabras presentes más no las secuencias de palabras"
   ]
  },
  {
   "cell_type": "code",
   "execution_count": 4,
   "metadata": {},
   "outputs": [],
   "source": [
    "df_conv = df_conv.apply(lambda x: x.replace('|', ' '))"
   ]
  },
  {
   "cell_type": "markdown",
   "metadata": {},
   "source": [
    "Eliminar puntuación"
   ]
  },
  {
   "cell_type": "code",
   "execution_count": 5,
   "metadata": {},
   "outputs": [],
   "source": [
    "df_conv = df_conv.apply(lambda x: x.translate(str.maketrans('', '', string.punctuation)))"
   ]
  },
  {
   "cell_type": "markdown",
   "metadata": {},
   "source": [
    "Convertir números a palabras"
   ]
  },
  {
   "cell_type": "code",
   "execution_count": 6,
   "metadata": {},
   "outputs": [],
   "source": [
    "from num2words import num2words\n",
    "df_conv = df_conv.apply(lambda x: ' '.join([num2words(word) if word.isnumeric() and int(word)<1000000000 else word for message in x.split('|') for word in message.split(' ')]))"
   ]
  },
  {
   "cell_type": "markdown",
   "metadata": {},
   "source": [
    "Reemplazar doble espacio con uno solo"
   ]
  },
  {
   "cell_type": "code",
   "execution_count": 7,
   "metadata": {},
   "outputs": [],
   "source": [
    "df_conv = df_conv.apply(lambda x: ' '.join([word.lower() for word in x.split(' ') if word]))"
   ]
  },
  {
   "cell_type": "markdown",
   "metadata": {},
   "source": [
    "Eliminar abreviaciones del texto"
   ]
  },
  {
   "cell_type": "code",
   "execution_count": 8,
   "metadata": {},
   "outputs": [],
   "source": [
    "abbr_dict={\n",
    "    \"u\": \"you\",\n",
    "    \"ur\": \"your\",\n",
    "    \"what's\":\"what is\",\n",
    "    \"what're\":\"what are\",\n",
    "    \"who's\":\"who is\",\n",
    "    \"who're\":\"who are\",\n",
    "    \"where's\":\"where is\",\n",
    "    \"where're\":\"where are\",\n",
    "    \"when's\":\"when is\",\n",
    "    \"when're\":\"when are\",\n",
    "    \"how's\":\"how is\",\n",
    "    \"how're\":\"how are\",\n",
    "    \"whats\":\"what is\",\n",
    "    \"whatre\":\"what are\",\n",
    "    \"whos\":\"who is\",\n",
    "    \"whore\":\"who are\",\n",
    "    \"wheres\":\"where is\",\n",
    "    \"wherere\":\"where are\",\n",
    "    \"whens\":\"when is\",\n",
    "    \"whenre\":\"when are\",\n",
    "    \"hows\":\"how is\",\n",
    "    \"howre\":\"how are\",\n",
    "\n",
    "    \"i'm\":\"i am\",\n",
    "    \"we're\":\"we are\",\n",
    "    \"you're\":\"you are\",\n",
    "    \"they're\":\"they are\",\n",
    "    \"it's\":\"it is\",\n",
    "    \"he's\":\"he is\",\n",
    "    \"she's\":\"she is\",\n",
    "    \"that's\":\"that is\",\n",
    "    \"there's\":\"there is\",\n",
    "    \"there're\":\"there are\",\n",
    "    \"im\":\"i am\",\n",
    "    #\"were\":\"we are\",\n",
    "    \"youre\":\"you are\",\n",
    "    \"theyre\":\"they are\",\n",
    "    \"hes\":\"he is\",\n",
    "    \"shes\":\"she is\",\n",
    "    \"thats\":\"that is\",\n",
    "    \"theres\":\"there is\",\n",
    "    \"therere\":\"there are\",\n",
    "\n",
    "    \"i've\":\"i have\",\n",
    "    \"we've\":\"we have\",\n",
    "    \"you've\":\"you have\",\n",
    "    \"they've\":\"they have\",\n",
    "    \"who've\":\"who have\",\n",
    "    \"would've\":\"would have\",\n",
    "    \"not've\":\"not have\",\n",
    "    \"ive\":\"i have\",\n",
    "    \"weve\":\"we have\",\n",
    "    \"youve\":\"you have\",\n",
    "    \"theyve\":\"they have\",\n",
    "    \"whove\":\"who have\",\n",
    "    \"wouldve\":\"would have\",\n",
    "    \"notve\":\"not have\",\n",
    "\n",
    "    \"i'll\":\"i will\",\n",
    "    \"we'll\":\"we will\",\n",
    "    \"you'll\":\"you will\",\n",
    "    \"he'll\":\"he will\",\n",
    "    \"she'll\":\"she will\",\n",
    "    \"it'll\":\"it will\",\n",
    "    \"they'll\":\"they will\",\n",
    "    \"ill\":\"i will\",\n",
    "    #\"well\":\"we will\",\n",
    "    \"youll\":\"you will\",\n",
    "    \"hell\":\"he will\",\n",
    "    \"shell\":\"she will\",\n",
    "    \"itll\":\"it will\",\n",
    "    \"theyll\":\"they will\",\n",
    "\n",
    "    \"isn't\":\"is not\",\n",
    "    \"wasn't\":\"was not\",\n",
    "    \"aren't\":\"are not\",\n",
    "    \"weren't\":\"were not\",\n",
    "    \"can't\":\"can not\",\n",
    "    \"couldn't\":\"could not\",\n",
    "    \"don't\":\"do not\",\n",
    "    \"didn't\":\"did not\",\n",
    "    \"shouldn't\":\"should not\",\n",
    "    \"wouldn't\":\"would not\",\n",
    "    \"doesn't\":\"does not\",\n",
    "    \"haven't\":\"have not\",\n",
    "    \"hasn't\":\"has not\",\n",
    "    \"hadn't\":\"had not\",\n",
    "    \"won't\":\"will not\",\n",
    "    \"isnt\":\"is not\",\n",
    "    \"wasnt\":\"was not\",\n",
    "    \"arent\":\"are not\",\n",
    "    \"werent\":\"were not\",\n",
    "    \"cant\":\"can not\",\n",
    "    \"couldnt\":\"could not\",\n",
    "    \"dont\":\"do not\",\n",
    "    \"didnt\":\"did not\",\n",
    "    \"shouldnt\":\"should not\",\n",
    "    \"wouldnt\":\"would not\",\n",
    "    \"doesnt\":\"does not\",\n",
    "    \"havent\":\"have not\",\n",
    "    \"hasnt\":\"has not\",\n",
    "    \"hadnt\":\"had not\",\n",
    "    \"wont\":\"will not\",\n",
    "\n",
    "    \"2mrw\": \"tomorrow\",\n",
    "    \"aka\": \"also known as\",\n",
    "    \"asap\": \"as soon as possible\",\n",
    "    \"a/s/l\": \"age sex location\",\n",
    "    \"ayt\": \"are you there\",\n",
    "    \"b4\": \"before\",\n",
    "    \"bbs\": \"be back soon\",\n",
    "    \"bf\": \"boyfriend\",\n",
    "    \"gf\": \"girlfriend\",\n",
    "    \"brb\": \"be right back\",\n",
    "    \"cmb\": \"call me back\",\n",
    "    \"cu l8r\": \"see you later\",\n",
    "    \"cul8r\": \"see you later\",\n",
    "    \"cuz\": \"because\",\n",
    "    \"cos\": \"because\",\n",
    "    \"cwyl\": \"chat with you later\",\n",
    "    \"dm\": \"direct message\",\n",
    "    \"f2f\": \"face to face\",\n",
    "    \"fb\": \"facebook\",\n",
    "    \"ig\": \"instagram\",\n",
    "    \"fyeo\": \"for your eyes only\",\n",
    "    \"fyi\": \"for your information\",\n",
    "    \"diy\": \"do it yourself\",\n",
    "    \"stfu\": \"shut the fuck up\",\n",
    "    \"lmk\": \"let me know\",\n",
    "    \"ily\": \"ily\",\n",
    "    \"yolo\": \"you only live once\",\n",
    "    \"lmfao\": \"laughing my freaking ass off\",\n",
    "    \"nvm\": \"never mind\",\n",
    "    \"ikr\": \"i know right\",\n",
    "    \"ofc\": \"of course\",\n",
    "    \"ttyl\": \"talk to you later\",\n",
    "    \"lol\": \"laughing out loud\",\n",
    "    \"k\": \"okay\",\n",
    "    \"r\": \"are\",\n",
    "    \"n\": \"and\",\n",
    "    \"b\": \"be\",\n",
    "    \"wat\": \"what\",\n",
    "    \"ya\": \"you\",\n",
    "    \"dunno\": \"do not know\",\n",
    "    \"yea\": \"yeah\",\n",
    "    \"ok\": \"okay\",\n",
    "    \"kewl\": \"cool\",\n",
    "    \"nite\": \"night\",\n",
    "    \"yep\": \"yes\"\n",
    "}"
   ]
  },
  {
   "cell_type": "code",
   "execution_count": 9,
   "metadata": {},
   "outputs": [],
   "source": [
    "df_conv = df_conv.apply(lambda x: ' '.join([abbr_dict[word] if word in abbr_dict.keys() else word for word in x.split(' ') ]))"
   ]
  },
  {
   "cell_type": "markdown",
   "metadata": {},
   "source": [
    "Eliminar stopwords"
   ]
  },
  {
   "cell_type": "code",
   "execution_count": 10,
   "metadata": {},
   "outputs": [],
   "source": [
    "from nltk.corpus import stopwords\n",
    "stop = stopwords.words('english')\n",
    "df_conv = df_conv.apply(lambda x: ' '.join([word for word in x.split() if word not in (stop)]))"
   ]
  },
  {
   "cell_type": "markdown",
   "metadata": {},
   "source": [
    "Eliminar puntuación de nuevo"
   ]
  },
  {
   "cell_type": "code",
   "execution_count": 11,
   "metadata": {},
   "outputs": [],
   "source": [
    "df_conv = df_conv.apply(lambda x: x.translate(str.maketrans('', '', string.punctuation)))"
   ]
  },
  {
   "cell_type": "markdown",
   "metadata": {},
   "source": [
    "Eliminar valores alfanumericos"
   ]
  },
  {
   "cell_type": "code",
   "execution_count": 12,
   "metadata": {},
   "outputs": [],
   "source": [
    "df_conv = df_conv.apply(lambda x: ' '.join([word for word in x.split(' ') if word.isalpha()]))"
   ]
  },
  {
   "cell_type": "markdown",
   "metadata": {},
   "source": [
    "Lematización"
   ]
  },
  {
   "cell_type": "code",
   "execution_count": 13,
   "metadata": {},
   "outputs": [],
   "source": [
    "import nltk\n",
    "from nltk.stem import WordNetLemmatizer\n",
    "wordnet_lemmatizer = WordNetLemmatizer()\n",
    "df_conv = df_conv.apply(lambda x: ' '.join([wordnet_lemmatizer.lemmatize(word, pos='v') for word in x.split(' ')]))"
   ]
  },
  {
   "cell_type": "code",
   "execution_count": 14,
   "metadata": {},
   "outputs": [],
   "source": [
    "df['Conversation'] = df_conv"
   ]
  },
  {
   "cell_type": "code",
   "execution_count": 15,
   "metadata": {},
   "outputs": [
    {
     "name": "stdout",
     "output_type": "stream",
     "text": [
      "None\n"
     ]
    }
   ],
   "source": [
    "print(df.dropna(inplace=True))"
   ]
  },
  {
   "cell_type": "code",
   "execution_count": 16,
   "metadata": {},
   "outputs": [],
   "source": [
    "from sklearn import model_selection, naive_bayes, svm\n",
    "x = df['Conversation']\n",
    "y = df['Class']\n",
    "xtrain, xtest, ytrain, ytest = model_selection.train_test_split(x, y, test_size = 0.2, stratify = y, random_state = 1)"
   ]
  },
  {
   "cell_type": "code",
   "execution_count": 17,
   "metadata": {},
   "outputs": [
    {
     "data": {
      "text/plain": [
       "0    0.969887\n",
       "1    0.030113\n",
       "Name: Class, dtype: float64"
      ]
     },
     "execution_count": 17,
     "metadata": {},
     "output_type": "execute_result"
    }
   ],
   "source": [
    "ytrain.value_counts(normalize = True)"
   ]
  },
  {
   "cell_type": "code",
   "execution_count": 18,
   "metadata": {
    "scrolled": false
   },
   "outputs": [
    {
     "data": {
      "text/plain": [
       "0    0.969887\n",
       "1    0.030113\n",
       "Name: Class, dtype: float64"
      ]
     },
     "execution_count": 18,
     "metadata": {},
     "output_type": "execute_result"
    }
   ],
   "source": [
    "ytest.value_counts(normalize = True)"
   ]
  },
  {
   "cell_type": "markdown",
   "metadata": {},
   "source": [
    "## Tranformación texto a vectores"
   ]
  },
  {
   "cell_type": "code",
   "execution_count": 19,
   "metadata": {},
   "outputs": [],
   "source": [
    "from sklearn.feature_extraction.text import CountVectorizer, TfidfVectorizer\n",
    "\n",
    "vectorizer = TfidfVectorizer()\n",
    "\n",
    "Xtrain = vectorizer.fit_transform(xtrain)\n",
    "Xtest = vectorizer.transform(xtest)\n",
    "\n",
    "#vectorizer.fit(x)\n",
    "#Xtrain = vectorizer.transform(xtrain)\n",
    "#Xtest = vectorizer.transform(xtest)"
   ]
  },
  {
   "cell_type": "code",
   "execution_count": 64,
   "metadata": {},
   "outputs": [
    {
     "data": {
      "text/plain": [
       "['vectorizer.joblib']"
      ]
     },
     "execution_count": 64,
     "metadata": {},
     "output_type": "execute_result"
    }
   ],
   "source": [
    "joblib.dump(vectorizer, 'vectorizer.joblib')"
   ]
  },
  {
   "cell_type": "code",
   "execution_count": 20,
   "metadata": {
    "scrolled": false
   },
   "outputs": [
    {
     "data": {
      "text/plain": [
       "131908"
      ]
     },
     "execution_count": 20,
     "metadata": {},
     "output_type": "execute_result"
    }
   ],
   "source": [
    "len(vectorizer.vocabulary_)"
   ]
  },
  {
   "cell_type": "code",
   "execution_count": 21,
   "metadata": {
    "scrolled": true
   },
   "outputs": [
    {
     "name": "stdout",
     "output_type": "stream",
     "text": [
      "13383\n"
     ]
    }
   ],
   "source": [
    "print(len(xtest))"
   ]
  },
  {
   "cell_type": "markdown",
   "metadata": {},
   "source": [
    "## SVM con kernel lineal"
   ]
  },
  {
   "cell_type": "code",
   "execution_count": 22,
   "metadata": {},
   "outputs": [],
   "source": [
    "SVM = svm.SVC(C=1, kernel='linear')#, class_weight='balanced')\n",
    "Trained = SVM.fit(Xtrain,ytrain)\n",
    "y_pred = SVM.predict(Xtest)"
   ]
  },
  {
   "cell_type": "code",
   "execution_count": 23,
   "metadata": {
    "scrolled": true
   },
   "outputs": [
    {
     "name": "stdout",
     "output_type": "stream",
     "text": [
      "              precision    recall  f1-score   support\n",
      "\n",
      "           0       0.99      1.00      0.99     12980\n",
      "           1       0.86      0.62      0.72       403\n",
      "\n",
      "    accuracy                           0.99     13383\n",
      "   macro avg       0.92      0.81      0.85     13383\n",
      "weighted avg       0.98      0.99      0.98     13383\n",
      "\n"
     ]
    }
   ],
   "source": [
    "from sklearn.metrics import precision_score, recall_score, accuracy_score, classification_report, confusion_matrix\n",
    "print(classification_report(ytest,y_pred))"
   ]
  },
  {
   "cell_type": "code",
   "execution_count": 62,
   "metadata": {},
   "outputs": [],
   "source": [
    "import joblib"
   ]
  },
  {
   "cell_type": "code",
   "execution_count": 63,
   "metadata": {},
   "outputs": [
    {
     "data": {
      "text/plain": [
       "['modeloOG.joblib']"
      ]
     },
     "execution_count": 63,
     "metadata": {},
     "output_type": "execute_result"
    }
   ],
   "source": [
    "joblib.dump(Trained, 'modeloOG.joblib')"
   ]
  },
  {
   "cell_type": "code",
   "execution_count": 24,
   "metadata": {},
   "outputs": [
    {
     "data": {
      "text/plain": [
       "<sklearn.metrics._plot.confusion_matrix.ConfusionMatrixDisplay at 0x7ff2e9b741c0>"
      ]
     },
     "execution_count": 24,
     "metadata": {},
     "output_type": "execute_result"
    },
    {
     "data": {
      "image/png": "[encoded data removed]",
      "text/plain": [
       "<Figure size 432x288 with 2 Axes>"
      ]
     },
     "metadata": {
      "needs_background": "light"
     },
     "output_type": "display_data"
    }
   ],
   "source": [
    "import matplotlib.pyplot as plt\n",
    "from sklearn.metrics import plot_roc_curve, plot_confusion_matrix\n",
    "plot_confusion_matrix(Trained, Xtest, ytest)"
   ]
  },
  {
   "cell_type": "markdown",
   "metadata": {},
   "source": [
    "#### Cros-validation (SVM Lineal)"
   ]
  },
  {
   "cell_type": "code",
   "execution_count": 26,
   "metadata": {},
   "outputs": [],
   "source": [
    "from sklearn.model_selection import cross_val_score, KFold, cross_validate, StratifiedKFold\n",
    "kfold = StratifiedKFold(n_splits=10)\n",
    "scoring = ['f1_macro', 'precision_macro', 'recall_macro']\n",
    "cv_results = cross_validate(SVM, Xtrain, ytrain, cv=kfold, scoring=scoring)"
   ]
  },
  {
   "cell_type": "code",
   "execution_count": 27,
   "metadata": {},
   "outputs": [
    {
     "data": {
      "text/plain": [
       "['fit_time',\n",
       " 'score_time',\n",
       " 'test_f1_macro',\n",
       " 'test_precision_macro',\n",
       " 'test_recall_macro']"
      ]
     },
     "execution_count": 27,
     "metadata": {},
     "output_type": "execute_result"
    }
   ],
   "source": [
    "sorted(cv_results.keys())"
   ]
  },
  {
   "cell_type": "code",
   "execution_count": 28,
   "metadata": {},
   "outputs": [
    {
     "name": "stdout",
     "output_type": "stream",
     "text": [
      "0.85 F1-score with a standard deviation of 0.01\n"
     ]
    }
   ],
   "source": [
    "print(\"%0.2f F1-score with a standard deviation of %0.2f\" % (cv_results['test_f1_macro'].mean(), cv_results['test_f1_macro'].std()))"
   ]
  },
  {
   "cell_type": "code",
   "execution_count": 29,
   "metadata": {},
   "outputs": [
    {
     "name": "stdout",
     "output_type": "stream",
     "text": [
      "0.93 precision with a standard deviation of 0.01\n"
     ]
    }
   ],
   "source": [
    "print(\"%0.2f precision with a standard deviation of %0.2f\" % (cv_results['test_precision_macro'].mean(), cv_results['test_precision_macro'].std()))"
   ]
  },
  {
   "cell_type": "code",
   "execution_count": 30,
   "metadata": {},
   "outputs": [
    {
     "name": "stdout",
     "output_type": "stream",
     "text": [
      "0.80 recall with a standard deviation of 0.01\n"
     ]
    }
   ],
   "source": [
    "print(\"%0.2f recall with a standard deviation of %0.2f\" % (cv_results['test_recall_macro'].mean(), cv_results['test_recall_macro'].std()))"
   ]
  },
  {
   "cell_type": "markdown",
   "metadata": {},
   "source": [
    "## Baseline con DummyClassifier"
   ]
  },
  {
   "cell_type": "code",
   "execution_count": 42,
   "metadata": {
    "scrolled": true
   },
   "outputs": [
    {
     "name": "stdout",
     "output_type": "stream",
     "text": [
      "              precision    recall  f1-score   support\n",
      "\n",
      "           0       0.97      0.97      0.97     12980\n",
      "           1       0.03      0.04      0.04       403\n",
      "\n",
      "    accuracy                           0.94     13383\n",
      "   macro avg       0.50      0.50      0.50     13383\n",
      "weighted avg       0.94      0.94      0.94     13383\n",
      "\n"
     ]
    }
   ],
   "source": [
    "from sklearn.dummy import DummyClassifier\n",
    "dummy_clf = DummyClassifier(strategy=\"stratified\")\n",
    "dummy_clf.fit(Xtrain, ytrain)\n",
    "dummy_pred = dummy_clf.predict(Xtest)\n",
    "print(classification_report(ytest,dummy_pred))"
   ]
  },
  {
   "cell_type": "markdown",
   "metadata": {},
   "source": [
    "## SVM con kernel RBF"
   ]
  },
  {
   "cell_type": "code",
   "execution_count": 43,
   "metadata": {},
   "outputs": [],
   "source": [
    "SVM3 = svm.SVC(C=10, kernel='rbf', gamma = 'scale')\n",
    "Trained2 = SVM3.fit(Xtrain,ytrain)\n",
    "y_pred3 = SVM3.predict(Xtest)"
   ]
  },
  {
   "cell_type": "code",
   "execution_count": 44,
   "metadata": {
    "scrolled": true
   },
   "outputs": [
    {
     "name": "stdout",
     "output_type": "stream",
     "text": [
      "              precision    recall  f1-score   support\n",
      "\n",
      "           0       0.99      1.00      0.99     12980\n",
      "           1       0.89      0.61      0.73       403\n",
      "\n",
      "    accuracy                           0.99     13383\n",
      "   macro avg       0.94      0.81      0.86     13383\n",
      "weighted avg       0.99      0.99      0.98     13383\n",
      "\n"
     ]
    }
   ],
   "source": [
    "print(classification_report(ytest,y_pred3))"
   ]
  },
  {
   "cell_type": "code",
   "execution_count": 45,
   "metadata": {},
   "outputs": [
    {
     "data": {
      "text/plain": [
       "<sklearn.metrics._plot.confusion_matrix.ConfusionMatrixDisplay at 0x7ff2d36c59a0>"
      ]
     },
     "execution_count": 45,
     "metadata": {},
     "output_type": "execute_result"
    },
    {
     "data": {
      "image/png": "[encoded data removed]",
      "text/plain": [
       "<Figure size 432x288 with 2 Axes>"
      ]
     },
     "metadata": {
      "needs_background": "light"
     },
     "output_type": "display_data"
    }
   ],
   "source": [
    "plot_confusion_matrix(Trained2, Xtest, ytest)"
   ]
  },
  {
   "cell_type": "code",
   "execution_count": 1,
   "metadata": {},
   "outputs": [
    {
     "ename": "NameError",
     "evalue": "name 'cross_validate' is not defined",
     "output_type": "error",
     "traceback": [
      "\u001b[0;31m---------------------------------------------------------------------------\u001b[0m",
      "\u001b[0;31mNameError\u001b[0m                                 Traceback (most recent call last)",
      "\u001b[0;32m<ipython-input-1-6a2790708f72>\u001b[0m in \u001b[0;36m<module>\u001b[0;34m\u001b[0m\n\u001b[0;32m----> 1\u001b[0;31m \u001b[0mcv_results3\u001b[0m \u001b[0;34m=\u001b[0m \u001b[0mcross_validate\u001b[0m\u001b[0;34m(\u001b[0m\u001b[0mSVM3\u001b[0m\u001b[0;34m,\u001b[0m \u001b[0mXtest\u001b[0m\u001b[0;34m,\u001b[0m \u001b[0mytest\u001b[0m\u001b[0;34m,\u001b[0m \u001b[0mcv\u001b[0m\u001b[0;34m=\u001b[0m\u001b[0mkfold\u001b[0m\u001b[0;34m,\u001b[0m \u001b[0mscoring\u001b[0m\u001b[0;34m=\u001b[0m\u001b[0mscoring\u001b[0m\u001b[0;34m)\u001b[0m\u001b[0;34m\u001b[0m\u001b[0;34m\u001b[0m\u001b[0m\n\u001b[0m",
      "\u001b[0;31mNameError\u001b[0m: name 'cross_validate' is not defined"
     ]
    }
   ],
   "source": [
    "cv_results3 = cross_validate(SVM3, Xtrain, ytrain, cv=kfold, scoring=scoring)"
   ]
  },
  {
   "cell_type": "code",
   "execution_count": 72,
   "metadata": {},
   "outputs": [
    {
     "data": {
      "text/plain": [
       "['fit_time',\n",
       " 'score_time',\n",
       " 'test_f1_macro',\n",
       " 'test_precision_macro',\n",
       " 'test_recall_macro']"
      ]
     },
     "execution_count": 72,
     "metadata": {},
     "output_type": "execute_result"
    }
   ],
   "source": [
    "sorted(cv_results3.keys())"
   ]
  },
  {
   "cell_type": "code",
   "execution_count": 73,
   "metadata": {},
   "outputs": [
    {
     "name": "stdout",
     "output_type": "stream",
     "text": [
      "0.85 F1-score with a standard deviation of 0.02\n"
     ]
    }
   ],
   "source": [
    "print(\"%0.2f F1-score with a standard deviation of %0.2f\" % (cv_results3['test_f1_macro'].mean(), cv_results3['test_f1_macro'].std()))"
   ]
  },
  {
   "cell_type": "code",
   "execution_count": 74,
   "metadata": {},
   "outputs": [
    {
     "name": "stdout",
     "output_type": "stream",
     "text": [
      "0.93 precision with a standard deviation of 0.02\n"
     ]
    }
   ],
   "source": [
    "print(\"%0.2f precision with a standard deviation of %0.2f\" % (cv_results3['test_precision_macro'].mean(), cv_results3['test_precision_macro'].std()))"
   ]
  },
  {
   "cell_type": "code",
   "execution_count": 75,
   "metadata": {},
   "outputs": [
    {
     "name": "stdout",
     "output_type": "stream",
     "text": [
      "0.80 recall with a standard deviation of 0.02\n"
     ]
    }
   ],
   "source": [
    "print(\"%0.2f recall with a standard deviation of %0.2f\" % (cv_results3['test_recall_macro'].mean(), cv_results3['test_recall_macro'].std()))"
   ]
  },
  {
   "cell_type": "markdown",
   "metadata": {},
   "source": [
    "## Corriendo el modelo con los datos de entrenamiento para analizar overfitting"
   ]
  },
  {
   "cell_type": "code",
   "execution_count": 46,
   "metadata": {},
   "outputs": [],
   "source": [
    "y_pred4 = SVM3.predict(Xtrain)"
   ]
  },
  {
   "cell_type": "code",
   "execution_count": 47,
   "metadata": {
    "scrolled": true
   },
   "outputs": [
    {
     "name": "stdout",
     "output_type": "stream",
     "text": [
      "              precision    recall  f1-score   support\n",
      "\n",
      "           0       1.00      1.00      1.00     51919\n",
      "           1       0.99      0.87      0.92      1612\n",
      "\n",
      "    accuracy                           1.00     53531\n",
      "   macro avg       0.99      0.93      0.96     53531\n",
      "weighted avg       1.00      1.00      1.00     53531\n",
      "\n"
     ]
    }
   ],
   "source": [
    "print(classification_report(ytrain,y_pred4))"
   ]
  },
  {
   "cell_type": "markdown",
   "metadata": {},
   "source": [
    "## Corriendo el modelo con otro data set"
   ]
  },
  {
   "cell_type": "code",
   "execution_count": 48,
   "metadata": {},
   "outputs": [],
   "source": [
    "df2 = pd.read_csv('test.csv', delimiter = ';', names = ['Conversation_Id', 'Authors', 'Class', 'Conversation' ])"
   ]
  },
  {
   "cell_type": "code",
   "execution_count": 49,
   "metadata": {},
   "outputs": [],
   "source": [
    "df_conv2 = df2['Conversation'].dropna()\n",
    "df_conv2 = df_conv2.apply(lambda x: x.replace('|', ' '))\n",
    "df_conv2 = df_conv2.apply(lambda x: x.translate(str.maketrans('', '', string.punctuation)))"
   ]
  },
  {
   "cell_type": "code",
   "execution_count": 50,
   "metadata": {
    "scrolled": true
   },
   "outputs": [],
   "source": [
    "df_conv2 = df_conv2.apply(lambda x: ' '.join([num2words(word) if word.isnumeric() and int(word)<1000000000 else word for message in x.split('|') for word in message.split(' ')]))"
   ]
  },
  {
   "cell_type": "code",
   "execution_count": 51,
   "metadata": {},
   "outputs": [],
   "source": [
    "df_conv2 = df_conv2.apply(lambda x: ' '.join([word.lower() for word in x.split(' ') if word]))\n",
    "df_conv2 = df_conv2.apply(lambda x: ' '.join([abbr_dict[word] if word in abbr_dict.keys() else word for word in x.split(' ') ]))\n",
    "df_conv2 = df_conv2.apply(lambda x: ' '.join([word for word in x.split() if word not in (stop)]))\n",
    "df_conv2 = df_conv2.apply(lambda x: x.translate(str.maketrans('', '', string.punctuation)))\n",
    "df_conv2 = df_conv2.apply(lambda x: ' '.join([word for word in x.split(' ') if word.isalpha()]))\n",
    "df_conv2 = df_conv2.apply(lambda x: ' '.join([wordnet_lemmatizer.lemmatize(word, pos='v') for word in x.split(' ')]))\n",
    "df2['Conversation'] = df_conv2"
   ]
  },
  {
   "cell_type": "code",
   "execution_count": 52,
   "metadata": {},
   "outputs": [
    {
     "name": "stdout",
     "output_type": "stream",
     "text": [
      "None\n"
     ]
    }
   ],
   "source": [
    "print(df2.dropna(inplace=True))"
   ]
  },
  {
   "cell_type": "code",
   "execution_count": 53,
   "metadata": {},
   "outputs": [],
   "source": [
    "x2 = df2['Conversation']\n",
    "y2 = df2['Class']"
   ]
  },
  {
   "cell_type": "code",
   "execution_count": 54,
   "metadata": {},
   "outputs": [],
   "source": [
    "Xtest2 = vectorizer.transform(x2)"
   ]
  },
  {
   "cell_type": "code",
   "execution_count": 55,
   "metadata": {
    "scrolled": true
   },
   "outputs": [
    {
     "data": {
      "text/plain": [
       "(155100, 131908)"
      ]
     },
     "execution_count": 55,
     "metadata": {},
     "output_type": "execute_result"
    }
   ],
   "source": [
    "Xtest2.shape"
   ]
  },
  {
   "cell_type": "code",
   "execution_count": 58,
   "metadata": {},
   "outputs": [],
   "source": [
    "y_hat = SVM3.predict(Xtest2)"
   ]
  },
  {
   "cell_type": "code",
   "execution_count": 59,
   "metadata": {
    "scrolled": true
   },
   "outputs": [
    {
     "name": "stdout",
     "output_type": "stream",
     "text": [
      "              precision    recall  f1-score   support\n",
      "\n",
      "         0.0       0.99      1.00      0.99    151376\n",
      "         1.0       0.84      0.55      0.67      3724\n",
      "\n",
      "    accuracy                           0.99    155100\n",
      "   macro avg       0.91      0.77      0.83    155100\n",
      "weighted avg       0.99      0.99      0.99    155100\n",
      "\n"
     ]
    }
   ],
   "source": [
    "print(classification_report(y2,y_hat))"
   ]
  },
  {
   "cell_type": "code",
   "execution_count": 60,
   "metadata": {
    "scrolled": true
   },
   "outputs": [],
   "source": [
    "y_hat2 = SVM.predict(Xtest2)"
   ]
  },
  {
   "cell_type": "code",
   "execution_count": 61,
   "metadata": {},
   "outputs": [
    {
     "name": "stdout",
     "output_type": "stream",
     "text": [
      "              precision    recall  f1-score   support\n",
      "\n",
      "         0.0       0.99      1.00      0.99    151376\n",
      "         1.0       0.84      0.57      0.68      3724\n",
      "\n",
      "    accuracy                           0.99    155100\n",
      "   macro avg       0.91      0.78      0.84    155100\n",
      "weighted avg       0.99      0.99      0.99    155100\n",
      "\n"
     ]
    }
   ],
   "source": [
    "print(classification_report(y2,y_hat2))"
   ]
  }
 ],
 "metadata": {
  "interpreter": {
   "hash": "7ec4eee48a1b90125fedd080afd04f965bb6f28dbf2886da6c5cfcc343d0a26d"
  },
  "kernelspec": {
   "display_name": "Python 3",
   "language": "python",
   "name": "python3"
  },
  "language_info": {
   "codemirror_mode": {
    "name": "ipython",
    "version": 3
   },
   "file_extension": ".py",
   "mimetype": "text/x-python",
   "name": "python",
   "nbconvert_exporter": "python",
   "pygments_lexer": "ipython3",
   "version": "3.8.8"
  }
 },
 "nbformat": 4,
 "nbformat_minor": 2
}
