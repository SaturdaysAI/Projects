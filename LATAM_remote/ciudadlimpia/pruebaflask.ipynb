{
  "cells": [
    {
      "cell_type": "code",
      "execution_count": 1,
      "metadata": {
        "id": "_BtPISamgdnb"
      },
      "outputs": [],
      "source": [
        "import pandas as pd\n",
        "import numpy as np\n",
        "import sklearn"
      ]
    },
    {
      "cell_type": "code",
      "execution_count": 2,
      "metadata": {
        "id": "W9X8G5rNblAh"
      },
      "outputs": [],
      "source": [
        "import tensorflow as tf \n",
        "from tensorflow import keras\n",
        "from tensorflow.keras.layers import Dense\n",
        "from tensorflow.keras.layers import Flatten\n",
        "from tensorflow.keras.preprocessing.image import ImageDataGenerator\n",
        "from tensorflow.keras.callbacks import ModelCheckpoint, EarlyStopping\n",
        "from  tensorflow.keras import models, optimizers, regularizers\n",
        "from tensorflow.keras import regularizers\n",
        "from tensorflow.keras.models import Sequential\n",
        "from tensorflow.keras.layers import Conv2D,MaxPooling2D, Flatten, Dense, Dropout, Activation, BatchNormalization\n",
        "import numpy as np\n",
        "import matplotlib.pyplot as plt "
      ]
    },
    {
      "cell_type": "code",
      "execution_count": 3,
      "metadata": {
        "colab": {
          "base_uri": "https://localhost:8080/"
        },
        "id": "4zFNJdIpgin3",
        "outputId": "a89be42e-be28-43ec-d871-18012a086608"
      },
      "outputs": [
        {
          "output_type": "stream",
          "name": "stdout",
          "text": [
            "Collecting flask-ngrok\n",
            "  Downloading flask_ngrok-0.0.25-py3-none-any.whl (3.1 kB)\n",
            "Requirement already satisfied: requests in /usr/local/lib/python3.7/dist-packages (from flask-ngrok) (2.23.0)\n",
            "Requirement already satisfied: Flask>=0.8 in /usr/local/lib/python3.7/dist-packages (from flask-ngrok) (1.1.4)\n",
            "Requirement already satisfied: itsdangerous<2.0,>=0.24 in /usr/local/lib/python3.7/dist-packages (from Flask>=0.8->flask-ngrok) (1.1.0)\n",
            "Requirement already satisfied: Jinja2<3.0,>=2.10.1 in /usr/local/lib/python3.7/dist-packages (from Flask>=0.8->flask-ngrok) (2.11.3)\n",
            "Requirement already satisfied: click<8.0,>=5.1 in /usr/local/lib/python3.7/dist-packages (from Flask>=0.8->flask-ngrok) (7.1.2)\n",
            "Requirement already satisfied: Werkzeug<2.0,>=0.15 in /usr/local/lib/python3.7/dist-packages (from Flask>=0.8->flask-ngrok) (1.0.1)\n",
            "Requirement already satisfied: MarkupSafe>=0.23 in /usr/local/lib/python3.7/dist-packages (from Jinja2<3.0,>=2.10.1->Flask>=0.8->flask-ngrok) (2.0.1)\n",
            "Requirement already satisfied: certifi>=2017.4.17 in /usr/local/lib/python3.7/dist-packages (from requests->flask-ngrok) (2021.10.8)\n",
            "Requirement already satisfied: urllib3!=1.25.0,!=1.25.1,<1.26,>=1.21.1 in /usr/local/lib/python3.7/dist-packages (from requests->flask-ngrok) (1.24.3)\n",
            "Requirement already satisfied: idna<3,>=2.5 in /usr/local/lib/python3.7/dist-packages (from requests->flask-ngrok) (2.10)\n",
            "Requirement already satisfied: chardet<4,>=3.0.2 in /usr/local/lib/python3.7/dist-packages (from requests->flask-ngrok) (3.0.4)\n",
            "Installing collected packages: flask-ngrok\n",
            "Successfully installed flask-ngrok-0.0.25\n"
          ]
        }
      ],
      "source": [
        "!pip install flask-ngrok"
      ]
    },
    {
      "cell_type": "code",
      "execution_count": 4,
      "metadata": {
        "id": "6mwrY8A4hna0"
      },
      "outputs": [],
      "source": [
        "import PIL.Image as Image\n",
        "import io\n",
        "import base64\n",
        "#from data import byte_data"
      ]
    },
    {
      "cell_type": "code",
      "execution_count": 5,
      "metadata": {
        "colab": {
          "base_uri": "https://localhost:8080/"
        },
        "id": "RCKGdk4VKvLP",
        "outputId": "69ffe9e0-61ac-47af-d038-51cc7fec136f"
      },
      "outputs": [
        {
          "output_type": "stream",
          "name": "stdout",
          "text": [
            "Mounted at /content/drive\n"
          ]
        }
      ],
      "source": [
        "from google.colab import drive\n",
        "from google.colab import auth\n",
        "auth.authenticate_user()\n",
        "import gspread\n",
        "from oauth2client.client import GoogleCredentials\n",
        "gc = gspread.authorize(GoogleCredentials.get_application_default())\n",
        "drive.mount('/content/drive')"
      ]
    },
    {
      "cell_type": "markdown",
      "metadata": {
        "id": "ytKClHZabCtX"
      },
      "source": [
        "\n",
        "Leer ubicaciones de las imagenes y del modelo"
      ]
    },
    {
      "cell_type": "code",
      "execution_count": 6,
      "metadata": {
        "id": "Mvqy4aMfLTHT"
      },
      "outputs": [],
      "source": [
        "path_img='/content/drive/MyDrive/ciudadlimpia/uploadImages/'\n",
        "#path_model='/content/drive/MyDrive/ciudadlimpia/model/my_model2.h5'\n",
        "path_model='/content/drive/MyDrive/ciudadlimpia/model/my_modelincp5.h5'\n",
        "path_results='/content/drive/MyDrive/ciudadlimpia/resultsImages/'"
      ]
    },
    {
      "cell_type": "code",
      "execution_count": 7,
      "metadata": {
        "id": "ItIJsvARa0KI"
      },
      "outputs": [],
      "source": [
        "# y para cara cargarlo utilizamos el mismo metodo \n",
        "model_complete4 = tf.keras.models.load_model(path_model)"
      ]
    },
    {
      "cell_type": "code",
      "execution_count": 8,
      "metadata": {
        "id": "buquymFCtlEm"
      },
      "outputs": [],
      "source": [
        "#pasarle la ruta de la imagen del drive para llevarlo a un objeto tensor\n",
        "#para poder realizar la prediccion\n",
        "#con el metodo predict del modelo\n",
        "def imageToTensorImagen(img_path ,target_size_var, axis):\n",
        "    img = keras.preprocessing.image.load_img(img_path, target_size = target_size_var )\n",
        "    ggArregloNumpyImagen = keras.preprocessing.image.img_to_array(img)\n",
        "    ggTensorImgenPrediccion=tf.expand_dims(ggArregloNumpyImagen,axis)\n",
        "    return(ggTensorImgenPrediccion/255)"
      ]
    },
    {
      "cell_type": "code",
      "execution_count": 9,
      "metadata": {
        "id": "Iq2UqgwabWYj"
      },
      "outputs": [],
      "source": [
        "def model_predict(model, imagePath):\n",
        "    # test_datagen = ImageDataGenerator(rescale=1./255,validation_split= 0.2)\n",
        "    test_dir= imagePath\n",
        "\n",
        "    test_img_resize = imageToTensorImagen(imagePath,(150, 150),0)\n",
        "    predict=model.predict(test_img_resize)\n",
        "    predict=transfor_predict(predict,0.50)\n",
        "    return(str(predict))\n"
      ]
    },
    {
      "cell_type": "code",
      "execution_count": 10,
      "metadata": {
        "id": "5jat9FMEb8nw"
      },
      "outputs": [],
      "source": [
        "def transfor_predict(predict,umbral):\n",
        "  x=0\n",
        "  for y in predict:\n",
        "    if y > umbral :\n",
        "      x=1\n",
        "    else:\n",
        "      x=0\n",
        "  return(x) "
      ]
    },
    {
      "cell_type": "code",
      "execution_count": null,
      "metadata": {
        "colab": {
          "base_uri": "https://localhost:8080/"
        },
        "id": "CU5dWqyVnUTk",
        "outputId": "cab8d583-fc7b-4800-c37a-c2074b2b876f"
      },
      "outputs": [
        {
          "output_type": "stream",
          "name": "stdout",
          "text": [
            " * Serving Flask app \"__main__\" (lazy loading)\n",
            " * Environment: production\n",
            "\u001b[31m   WARNING: This is a development server. Do not use it in a production deployment.\u001b[0m\n",
            "\u001b[2m   Use a production WSGI server instead.\u001b[0m\n",
            " * Debug mode: off\n"
          ]
        },
        {
          "output_type": "stream",
          "name": "stderr",
          "text": [
            " * Running on http://127.0.0.1:5000/ (Press CTRL+C to quit)\n"
          ]
        },
        {
          "output_type": "stream",
          "name": "stdout",
          "text": [
            " * Running on http://c3b3-34-80-251-100.ngrok.io\n",
            " * Traffic stats available on http://127.0.0.1:4040\n"
          ]
        },
        {
          "output_type": "stream",
          "name": "stderr",
          "text": [
            "127.0.0.1 - - [06/Feb/2022 22:22:46] \"\u001b[37mPOST / HTTP/1.1\u001b[0m\" 200 -\n",
            "127.0.0.1 - - [06/Feb/2022 22:23:06] \"\u001b[37mPOST / HTTP/1.1\u001b[0m\" 200 -\n",
            "127.0.0.1 - - [06/Feb/2022 22:29:37] \"\u001b[37mPOST / HTTP/1.1\u001b[0m\" 200 -\n",
            "127.0.0.1 - - [06/Feb/2022 22:32:09] \"\u001b[37mPOST / HTTP/1.1\u001b[0m\" 200 -\n",
            "127.0.0.1 - - [06/Feb/2022 22:32:47] \"\u001b[37mPOST / HTTP/1.1\u001b[0m\" 200 -\n",
            "127.0.0.1 - - [06/Feb/2022 22:39:40] \"\u001b[37mPOST / HTTP/1.1\u001b[0m\" 200 -\n",
            "127.0.0.1 - - [06/Feb/2022 22:45:35] \"\u001b[37mPOST / HTTP/1.1\u001b[0m\" 200 -\n",
            "127.0.0.1 - - [06/Feb/2022 22:57:02] \"\u001b[37mPOST / HTTP/1.1\u001b[0m\" 200 -\n",
            "127.0.0.1 - - [06/Feb/2022 22:57:15] \"\u001b[37mPOST / HTTP/1.1\u001b[0m\" 200 -\n",
            "127.0.0.1 - - [06/Feb/2022 22:59:15] \"\u001b[37mPOST / HTTP/1.1\u001b[0m\" 200 -\n",
            "127.0.0.1 - - [06/Feb/2022 23:02:46] \"\u001b[37mPOST / HTTP/1.1\u001b[0m\" 200 -\n",
            "127.0.0.1 - - [06/Feb/2022 23:03:03] \"\u001b[37mPOST / HTTP/1.1\u001b[0m\" 200 -\n",
            "127.0.0.1 - - [06/Feb/2022 23:05:56] \"\u001b[37mPOST / HTTP/1.1\u001b[0m\" 200 -\n",
            "127.0.0.1 - - [06/Feb/2022 23:06:11] \"\u001b[37mPOST / HTTP/1.1\u001b[0m\" 200 -\n"
          ]
        }
      ],
      "source": [
        "from flask_ngrok import run_with_ngrok\n",
        "from flask import Flask,jsonify, render_template,request\n",
        "app = Flask(__name__)\n",
        "run_with_ngrok(app) #starts ngrok when the app is running\n",
        "\n",
        "@app.route('/', methods=['GET','POST'])\n",
        "def home():\n",
        "    if request.method=='GET':\n",
        "\n",
        "        resultado = {\"result':'voila\"}\n",
        "        return resultado\n",
        "    if request.method=='POST':\n",
        "        results_paths = path_results + 'resultados.csv'\n",
        "        imageID = request.form.get('filename')\n",
        "        Byte_Im = request.form.get('file')\n",
        "        fechacompleta = request.form.get('fecha')\n",
        "        latitud = request.form.get('latitud')\n",
        "        longitud = request.form.get('longitud')\n",
        "\n",
        "        imagenpath = path_img + imageID\n",
        "        #*************  decodificar para pasarlo a imagen a la carpeta\n",
        "        image2bytes = Byte_Im.encode('utf-8')\n",
        "        #image2bytes = Byte_Im\n",
        "        with open(imagenpath,'wb') as file_to_save:\n",
        "            decoded_image_data = base64.decodebytes(image2bytes)\n",
        "            file_to_save.write(decoded_image_data)\n",
        "        #************\n",
        "        prediccion=model_predict(model_complete4,imagenpath)\n",
        "        \n",
        "\n",
        "        cadenainsert = fechacompleta + ',' + fechacompleta + ',' + latitud + ',' + longitud + ',' + prediccion + ',' + imagenpath\n",
        "\n",
        "        # Open a file with access mode 'a'\n",
        "        with open(results_paths,'a') as results_to_save:\n",
        "            # Append 'hello' at the end of file\n",
        "            results_to_save.write(cadenainsert+\"\\n\")\n",
        "            \n",
        "        #************\n",
        "        resultado = {\"result\":prediccion}\n",
        "        return resultado\n",
        "    else:\n",
        "      resultado = {\"result\":\"NOPOST\"}\n",
        "      return resultado \n",
        "\n",
        "app.run()"
      ]
    },
    {
      "cell_type": "code",
      "execution_count": null,
      "metadata": {
        "id": "7UaoZu57Moaa"
      },
      "outputs": [],
      "source": [
        ""
      ]
    },
    {
      "cell_type": "code",
      "execution_count": null,
      "metadata": {
        "id": "8e0G_lvIMo3m"
      },
      "outputs": [],
      "source": [
        ""
      ]
    },
    {
      "cell_type": "markdown",
      "metadata": {
        "id": "TBJeA_63Mp1Z"
      },
      "source": [
        ""
      ]
    },
    {
      "cell_type": "code",
      "execution_count": null,
      "metadata": {
        "id": "qTzze4eVP4Y8"
      },
      "outputs": [],
      "source": [
        ""
      ]
    }
  ],
  "metadata": {
    "colab": {
      "collapsed_sections": [],
      "name": "pruebaflask.ipynb",
      "provenance": []
    },
    "kernelspec": {
      "display_name": "Python 3 (ipykernel)",
      "language": "python",
      "name": "python3"
    },
    "language_info": {
      "codemirror_mode": {
        "name": "ipython",
        "version": 3
      },
      "file_extension": ".py",
      "mimetype": "text/x-python",
      "name": "python",
      "nbconvert_exporter": "python",
      "pygments_lexer": "ipython3",
      "version": "3.8.12"
    },
    "accelerator": "GPU"
  },
  "nbformat": 4,
  "nbformat_minor": 0
}