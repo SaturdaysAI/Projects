{
 "cells": [
  {
   "cell_type": "code",
   "execution_count": 1,
   "metadata": {},
   "outputs": [],
   "source": [
    "import json\n",
    "import pandas as pd\n",
    "import numpy as np\n",
    "\n",
    "import os\n",
    "import os.path\n",
    "import shutil"
   ]
  },
  {
   "cell_type": "markdown",
   "metadata": {},
   "source": [
    "# Leer datos"
   ]
  },
  {
   "cell_type": "code",
   "execution_count": 2,
   "metadata": {},
   "outputs": [],
   "source": [
    "#Subir un directorio\n",
    "os.chdir(\"..\")"
   ]
  },
  {
   "cell_type": "code",
   "execution_count": 3,
   "metadata": {},
   "outputs": [],
   "source": [
    "#Abrir json\n",
    "json_df = pd.read_json('data/places_details.json')"
   ]
  },
  {
   "cell_type": "code",
   "execution_count": 4,
   "metadata": {},
   "outputs": [],
   "source": [
    "# Quedarnos con la columna que nos interesa\n",
    "place_details = json_df['result']"
   ]
  },
  {
   "cell_type": "code",
   "execution_count": 5,
   "metadata": {},
   "outputs": [],
   "source": [
    "# concertir en lista\n",
    "places_list = []\n",
    "for i in place_details:\n",
    "    place_dict = dict(i)\n",
    "    places_list.append(place_dict)"
   ]
  },
  {
   "cell_type": "markdown",
   "metadata": {},
   "source": [
    "# Crear tabla"
   ]
  },
  {
   "cell_type": "code",
   "execution_count": 24,
   "metadata": {},
   "outputs": [
    {
     "data": {
      "text/plain": [
       "{'close': {'day': 0, 'time': '1900'}, 'open': {'day': 0, 'time': '1000'}}"
      ]
     },
     "execution_count": 24,
     "metadata": {},
     "output_type": "execute_result"
    }
   ],
   "source": [
    "places_list[0]['opening_hours']['periods'][0]#['close']['time']"
   ]
  },
  {
   "cell_type": "code",
   "execution_count": 67,
   "metadata": {},
   "outputs": [],
   "source": [
    "df = pd.DataFrame()\n",
    "\n",
    "for i in range(0, len(places_list)):\n",
    "    temp_row = []\n",
    "    try: \n",
    "        business_status = places_list[i]['business_status']\n",
    "    except:\n",
    "        business_status = ''\n",
    "    try:    \n",
    "        formatted_address = places_list[i]['formatted_address']\n",
    "    except:\n",
    "        formatted_address = ''\n",
    "    try:\n",
    "        formatted_phone_number = places_list[i]['formatted_phone_number']\n",
    "    except:\n",
    "        formatted_phone_number = ''\n",
    "    try:\n",
    "        latitude = places_list[i]['geometry']['location']['lat']\n",
    "    except:\n",
    "        latitude = ''\n",
    "    try:\n",
    "        longitude = places_list[i]['geometry']['location']['lng']\n",
    "    except:\n",
    "        longitude = ''\n",
    "    try:\n",
    "        name = places_list[i]['name']\n",
    "    except:\n",
    "        name = ''\n",
    "    try:\n",
    "        place_id = places_list[i]['place_id']\n",
    "    except:\n",
    "        place_id = ''\n",
    "    try:\n",
    "        rating = places_list[i]['rating']\n",
    "    except:\n",
    "        rating = ''\n",
    "    try:\n",
    "        user_ratings_total = places_list[i]['user_ratings_total']\n",
    "    except:\n",
    "        user_ratings_total = ''\n",
    "    try:\n",
    "        types = places_list[i]['types']\n",
    "    except:\n",
    "        types = ''    \n",
    "    try:\n",
    "        website = places_list[i]['website'] \n",
    "    except:\n",
    "        website = ''\n",
    "    try:\n",
    "        price_level = places_list[i]['price_level']      \n",
    "    except:\n",
    "        price_level = float('nan')\n",
    "    try:\n",
    "        opening_hours = places_list[i]['opening_hours']['periods']  \n",
    "    except:\n",
    "        opening_hours = ''\n",
    "    try:\n",
    "        photos = places_list[i]['photos']\n",
    "    except:\n",
    "        photos = ''\n",
    "    try:\n",
    "        reviews = places_list[i]['reviews']\n",
    "    except:\n",
    "        reviews = ''\n",
    "\n",
    "    temp_row.append(business_status)\n",
    "    temp_row.append(formatted_address)\n",
    "    temp_row.append(formatted_phone_number)\n",
    "    temp_row.append(latitude)\n",
    "    temp_row.append(longitude)\n",
    "    temp_row.append(name)\n",
    "    temp_row.append(place_id)\n",
    "    temp_row.append(rating)\n",
    "    temp_row.append(user_ratings_total)\n",
    "    temp_row.append(website)\n",
    "    temp_row.append(types)\n",
    "    temp_row.append(price_level)\n",
    "    temp_row.append(opening_hours)\n",
    "    temp_row.append(photos)\n",
    "    temp_row.append(reviews)\n",
    "    \n",
    "    # Opening hours\n",
    "    monday_open = 0\n",
    "    monday_close = 0\n",
    "    tuesday_open = 0\n",
    "    tuesday_close = 0\n",
    "    wednesday_open = 0\n",
    "    wednesday_close = 0\n",
    "    thursday_open = 0\n",
    "    thursday_close = 0\n",
    "    friday_open = 0\n",
    "    friday_close = 0\n",
    "    saturday_open = 0\n",
    "    saturday_close = 0\n",
    "    sunday_open = 0\n",
    "    sunday_close = 0\n",
    "    \n",
    "    try:\n",
    "        for j in range(0, len(places_list[i]['opening_hours']['periods'])):\n",
    "            day = places_list[i]['opening_hours']['periods'][j]['close']['day']\n",
    "            if day == 0:\n",
    "                sunday_open = int(places_list[i]['opening_hours']['periods'][j]['open']['time'])\n",
    "                sunday_close = int(places_list[i]['opening_hours']['periods'][j]['close']['time'])\n",
    "            if day == 1:\n",
    "                monday_open = int(places_list[i]['opening_hours']['periods'][j]['open']['time'])\n",
    "                monday_close = int(places_list[i]['opening_hours']['periods'][j]['close']['time'])\n",
    "            if day == 2:\n",
    "                tuesday_open = int(places_list[i]['opening_hours']['periods'][j]['open']['time'])\n",
    "                tuesday_close = int(places_list[i]['opening_hours']['periods'][j]['close']['time'])\n",
    "            if day == 3:\n",
    "                wednesday_open = int(places_list[i]['opening_hours']['periods'][j]['open']['time'])\n",
    "                wednesday_close = int(places_list[i]['opening_hours']['periods'][j]['close']['time'])\n",
    "            if day == 4:\n",
    "                thursday_open = int(places_list[i]['opening_hours']['periods'][j]['open']['time'])\n",
    "                thursday_close = int(places_list[i]['opening_hours']['periods'][j]['close']['time'])\n",
    "            if day == 5:\n",
    "                friday_open = int(places_list[i]['opening_hours']['periods'][j]['open']['time'])\n",
    "                friday_close = int(places_list[i]['opening_hours']['periods'][j]['close']['time'])\n",
    "            if day == 6:\n",
    "                saturday_open = int(places_list[i]['opening_hours']['periods'][j]['open']['time'])\n",
    "                saturday_close = int(places_list[i]['opening_hours']['periods'][j]['close']['time'])\n",
    "    except:\n",
    "        None\n",
    "    \n",
    "    temp_row.append(sunday_open)\n",
    "    temp_row.append(sunday_close)\n",
    "    temp_row.append(monday_open)\n",
    "    temp_row.append(monday_close)\n",
    "    temp_row.append(tuesday_open)\n",
    "    temp_row.append(tuesday_close)\n",
    "    temp_row.append(wednesday_open)\n",
    "    temp_row.append(wednesday_close)\n",
    "    temp_row.append(thursday_open)\n",
    "    temp_row.append(thursday_close)\n",
    "    temp_row.append(friday_open)\n",
    "    temp_row.append(friday_close)\n",
    "    temp_row.append(saturday_open)\n",
    "    temp_row.append(saturday_close)\n",
    "    \n",
    "    df_temp = pd.DataFrame([temp_row], columns=['business_status', 'formatted_address', 'formatted_address',\n",
    "                                                'latitude', 'longitude', 'name', 'place_id',\n",
    "                                                'rating', 'user_ratings_total', 'website', \n",
    "                                                'types', 'price_level', 'opening_hours',\n",
    "                                                'photos', 'reviews','sunday_open', 'sunday_close',\n",
    "                                                'monday_open', 'monday_close', 'tuesday_open', 'tuesday_close',\n",
    "                                                'wednesday_open', 'wednesday_close', 'thursday_open', 'thursday_close',\n",
    "                                                'friday_open', 'friday_close', 'saturday_open', 'saturday_close',\n",
    "                                               ])\n",
    "    df = pd.concat([df, df_temp])"
   ]
  },
  {
   "cell_type": "markdown",
   "metadata": {},
   "source": [
    "# Guardar datos"
   ]
  },
  {
   "cell_type": "code",
   "execution_count": 71,
   "metadata": {},
   "outputs": [],
   "source": [
    "df.to_csv('data/places_details_table.csv', index=False)"
   ]
  },
  {
   "cell_type": "markdown",
   "metadata": {},
   "source": [
    "# Fotos"
   ]
  },
  {
   "cell_type": "code",
   "execution_count": 14,
   "metadata": {},
   "outputs": [
    {
     "data": {
      "text/plain": [
       "'CmRaAAAAEOLWANQUGmifg3uER5CjOIwdGJssA12Kva1WEweDBGsW9xVIUCBKxhueUZrSSQuoOGMU6VQJPTIMbc1mmSbnRhOGdl615UKuKxz2TonDWKruuSOPJudlnjcVXzTNMMocEhAm8STkgSYku_2er0gBt3fKGhQC-FPEDrfPLPaMkNEbtWgeGxweSQ'"
      ]
     },
     "execution_count": 14,
     "metadata": {},
     "output_type": "execute_result"
    }
   ],
   "source": [
    "places_list[0]['photos'][0]['photo_reference']"
   ]
  },
  {
   "cell_type": "code",
   "execution_count": 25,
   "metadata": {},
   "outputs": [],
   "source": [
    "df = pd.DataFrame()\n",
    "\n",
    "for i in range(0, len(places_list)):\n",
    "    \n",
    "    \n",
    "    photos_list = []\n",
    "    try:\n",
    "        for j in range(0, len(places_list[i]['photos'])):\n",
    "            photo_ref = place_id = places_list[i]['photos'][j]['photo_reference']\n",
    "            photos_list.append(photo_ref)\n",
    "    except:\n",
    "        None\n",
    "\n",
    "    df_temp = pd.DataFrame(photos_list, columns=['photo_ref'])\n",
    "    df_temp['place_id'] = places_list[i]['place_id']\n",
    "\n",
    "    df = pd.concat([df, df_temp])"
   ]
  },
  {
   "cell_type": "code",
   "execution_count": 28,
   "metadata": {},
   "outputs": [],
   "source": [
    "df.to_csv('data/places_photos.csv', index=False)"
   ]
  },
  {
   "cell_type": "code",
   "execution_count": null,
   "metadata": {},
   "outputs": [],
   "source": []
  }
 ],
 "metadata": {
  "kernelspec": {
   "display_name": "Python 3",
   "language": "python",
   "name": "python3"
  },
  "language_info": {
   "codemirror_mode": {
    "name": "ipython",
    "version": 3
   },
   "file_extension": ".py",
   "mimetype": "text/x-python",
   "name": "python",
   "nbconvert_exporter": "python",
   "pygments_lexer": "ipython3",
   "version": "3.7.6"
  }
 },
 "nbformat": 4,
 "nbformat_minor": 4
}
