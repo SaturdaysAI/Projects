{
 "cells": [
  {
   "cell_type": "code",
   "execution_count": 1,
   "metadata": {},
   "outputs": [],
   "source": [
    "import pandas as pd\n",
    "import numpy as np\n",
    "import os\n",
    "import matplotlib.pyplot as plt"
   ]
  },
  {
   "cell_type": "markdown",
   "metadata": {},
   "source": [
    "# Datos"
   ]
  },
  {
   "cell_type": "code",
   "execution_count": 2,
   "metadata": {},
   "outputs": [],
   "source": [
    "#Subir un directorio\n",
    "os.chdir(\"..\")"
   ]
  },
  {
   "cell_type": "code",
   "execution_count": 3,
   "metadata": {},
   "outputs": [],
   "source": [
    "eco = pd.read_csv('resultados/ecoturismo_results.csv')\n",
    "res = pd.read_csv('resultados/restaurantes_results.csv')\n",
    "master = pd.read_csv('modelo/base_final_lugares.csv')"
   ]
  },
  {
   "cell_type": "markdown",
   "metadata": {},
   "source": [
    "# Modificaciones"
   ]
  },
  {
   "cell_type": "code",
   "execution_count": 4,
   "metadata": {},
   "outputs": [],
   "source": [
    "df = master.copy()\n",
    "#Pegar predicciones de restaurantes y ecoturismo\n",
    "df_temp = pd.concat([eco, res])\n",
    "df = pd.merge(master, df_temp, how='left', on='place_id')"
   ]
  },
  {
   "cell_type": "code",
   "execution_count": 5,
   "metadata": {},
   "outputs": [
    {
     "data": {
      "text/plain": [
       "array(['Museo', 'Comida mexicana', 'Templo', 'Teatro', 'Ecoturismo',\n",
       "       'Pirámides'], dtype=object)"
      ]
     },
     "execution_count": 5,
     "metadata": {},
     "output_type": "execute_result"
    }
   ],
   "source": [
    "df['tipo_lugar'].unique()"
   ]
  },
  {
   "cell_type": "code",
   "execution_count": 6,
   "metadata": {},
   "outputs": [],
   "source": [
    "df.loc[df['tipo_lugar']=='Templo', 'pred'] = 1\n",
    "df.loc[df['tipo_lugar']=='Museo', 'pred'] = 2\n",
    "df.loc[df['tipo_lugar']=='Teatro', 'pred'] = 3\n",
    "df.loc[df['tipo_lugar']=='Pirámides', 'pred'] = 4"
   ]
  },
  {
   "cell_type": "markdown",
   "metadata": {},
   "source": [
    "# Variables"
   ]
  },
  {
   "cell_type": "code",
   "execution_count": 11,
   "metadata": {},
   "outputs": [],
   "source": [
    "# índice de satisfacción: Ratings + variable de satisfacción\n",
    "df['rating_scaled'] = (df['rating'] - df['rating'].min()) / (df['rating'].max()-df['rating'].min())\n",
    "df['satisfaccion_scaled'] = (df['satisfaccion_norm'] - df['satisfaccion_norm'].min()) / (df['satisfaccion_norm'].max()-df['satisfaccion_norm'].min())"
   ]
  },
  {
   "cell_type": "code",
   "execution_count": 17,
   "metadata": {},
   "outputs": [
    {
     "data": {
      "text/plain": [
       "(array([ 3., 13., 17., 39., 80., 62., 35., 17.,  0.,  4.]),\n",
       " array([0.05555556, 0.13306375, 0.21057194, 0.28808014, 0.36558833,\n",
       "        0.44309653, 0.52060472, 0.59811291, 0.67562111, 0.7531293 ,\n",
       "        0.8306375 ]),\n",
       " <BarContainer object of 10 artists>)"
      ]
     },
     "execution_count": 17,
     "metadata": {},
     "output_type": "execute_result"
    },
    {
     "data": {
      "image/png": "[encoded data removed]",
      "text/plain": [
       "<Figure size 432x288 with 1 Axes>"
      ]
     },
     "metadata": {
      "needs_background": "light"
     },
     "output_type": "display_data"
    }
   ],
   "source": [
    "plt.hist(df['satisfaction_index'])"
   ]
  },
  {
   "cell_type": "code",
   "execution_count": 16,
   "metadata": {},
   "outputs": [],
   "source": [
    "df['satisfaction_index'] = (df['satisfaccion_scaled'] + df['rating_scaled'] )/2"
   ]
  },
  {
   "cell_type": "markdown",
   "metadata": {},
   "source": [
    "# Tabla final"
   ]
  },
  {
   "cell_type": "code",
   "execution_count": 18,
   "metadata": {},
   "outputs": [],
   "source": [
    "df.to_csv('resultados/base_final.csv')"
   ]
  },
  {
   "cell_type": "code",
   "execution_count": null,
   "metadata": {},
   "outputs": [],
   "source": []
  }
 ],
 "metadata": {
  "kernelspec": {
   "display_name": "Python 3",
   "language": "python",
   "name": "python3"
  },
  "language_info": {
   "codemirror_mode": {
    "name": "ipython",
    "version": 3
   },
   "file_extension": ".py",
   "mimetype": "text/x-python",
   "name": "python",
   "nbconvert_exporter": "python",
   "pygments_lexer": "ipython3",
   "version": "3.7.6"
  }
 },
 "nbformat": 4,
 "nbformat_minor": 4
}
