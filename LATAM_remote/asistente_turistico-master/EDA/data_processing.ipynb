{
 "cells": [
  {
   "cell_type": "code",
   "execution_count": 1,
   "metadata": {},
   "outputs": [],
   "source": [
    "import pandas as pd\n",
    "import numpy as np\n",
    "import os\n",
    "import ast"
   ]
  },
  {
   "cell_type": "markdown",
   "metadata": {},
   "source": [
    "# Datos"
   ]
  },
  {
   "cell_type": "code",
   "execution_count": 2,
   "metadata": {},
   "outputs": [],
   "source": [
    "#Subir un directorio\n",
    "os.chdir(\"..\")"
   ]
  },
  {
   "cell_type": "code",
   "execution_count": 3,
   "metadata": {},
   "outputs": [],
   "source": [
    "places_details = pd.read_csv('data/places_details_table.csv')\n",
    "places_reviews = pd.read_csv('data/reviews_google_final.csv')"
   ]
  },
  {
   "cell_type": "code",
   "execution_count": 22,
   "metadata": {},
   "outputs": [],
   "source": [
    "external_types = pd.read_csv('data/places_types.csv')"
   ]
  },
  {
   "cell_type": "markdown",
   "metadata": {},
   "source": [
    "# Formatear tablas"
   ]
  },
  {
   "cell_type": "markdown",
   "metadata": {},
   "source": [
    "## Places reviews"
   ]
  },
  {
   "cell_type": "code",
   "execution_count": 4,
   "metadata": {},
   "outputs": [],
   "source": [
    "places_reviews_final = places_reviews.copy()\n",
    "places_reviews_final = places_reviews_final[['place_id', 'url','datetime', 'rating', 'language', 'text', 'reviewer'\n",
    "                                            ]]"
   ]
  },
  {
   "cell_type": "code",
   "execution_count": 5,
   "metadata": {},
   "outputs": [],
   "source": [
    "#Parsear columna de fecha\n",
    "places_reviews_final['timestamp'] = pd.to_datetime(places_reviews_final['datetime'])"
   ]
  },
  {
   "cell_type": "code",
   "execution_count": 6,
   "metadata": {},
   "outputs": [],
   "source": [
    "places_reviews_final['date'] = places_reviews_final['timestamp'].dt.date"
   ]
  },
  {
   "cell_type": "code",
   "execution_count": 7,
   "metadata": {},
   "outputs": [],
   "source": [
    "places_reviews_final['time'] = places_reviews_final['timestamp'].dt.time"
   ]
  },
  {
   "cell_type": "code",
   "execution_count": 8,
   "metadata": {},
   "outputs": [],
   "source": [
    "#Tirar columnas no necesarias\n",
    "places_reviews_final = places_reviews_final.drop(columns=['datetime'])"
   ]
  },
  {
   "cell_type": "code",
   "execution_count": 9,
   "metadata": {},
   "outputs": [],
   "source": [
    "#Guardar\n",
    "places_reviews_final.to_csv('data/places_reviews_processed.csv', index=False)"
   ]
  },
  {
   "cell_type": "markdown",
   "metadata": {},
   "source": [
    "## Obtener estadísticas de reviews"
   ]
  },
  {
   "cell_type": "code",
   "execution_count": 10,
   "metadata": {},
   "outputs": [],
   "source": [
    "places_reviews_final_grouped = places_reviews_final.groupby(['place_id',\n",
    "                                                             'rating']).agg({'url':'count'}).reset_index()"
   ]
  },
  {
   "cell_type": "code",
   "execution_count": 11,
   "metadata": {},
   "outputs": [],
   "source": [
    "places_reviews_final_pivot = pd.pivot_table(places_reviews_final_grouped, values='url', index=['place_id'],\n",
    "                                        columns=['rating'], aggfunc=np.sum).reset_index()"
   ]
  },
  {
   "cell_type": "code",
   "execution_count": 12,
   "metadata": {},
   "outputs": [],
   "source": [
    "#Substituir nulos\n",
    "places_reviews_final_pivot = places_reviews_final_pivot.fillna(0)"
   ]
  },
  {
   "cell_type": "code",
   "execution_count": 13,
   "metadata": {},
   "outputs": [],
   "source": [
    "places_reviews_final_pivot['total_reviews'] = places_reviews_final_pivot['1']+places_reviews_final_pivot['2']+places_reviews_final_pivot['3']+places_reviews_final_pivot['4']+places_reviews_final_pivot['5']"
   ]
  },
  {
   "cell_type": "code",
   "execution_count": 14,
   "metadata": {},
   "outputs": [],
   "source": [
    "places_reviews_final_pivot['5_percent_total'] = places_reviews_final_pivot['5']/places_reviews_final_pivot['total_reviews']"
   ]
  },
  {
   "cell_type": "code",
   "execution_count": 15,
   "metadata": {},
   "outputs": [],
   "source": [
    "top_rated = places_reviews_final_pivot[['place_id', '5_percent_total']]"
   ]
  },
  {
   "cell_type": "markdown",
   "metadata": {},
   "source": [
    "## Places details"
   ]
  },
  {
   "cell_type": "code",
   "execution_count": 16,
   "metadata": {},
   "outputs": [],
   "source": [
    "places_details_final = places_details.copy()\n",
    "places_details_final = places_details_final.rename(columns={'formatted_address.1':'contact_number'})"
   ]
  },
  {
   "cell_type": "code",
   "execution_count": 17,
   "metadata": {},
   "outputs": [],
   "source": [
    "places_details_final = places_details_final[['place_id', 'name','business_status', 'latitude', 'longitude',\n",
    "                                             'user_ratings_total', 'rating', 'website', 'price_level',\n",
    "                                             'photos', 'sunday_open', 'sunday_close', 'monday_open', \n",
    "                                             'monday_close', 'tuesday_open', 'tuesday_close',\n",
    "                                             'wednesday_open', 'wednesday_close','thursday_open', \n",
    "                                             'thursday_close', 'friday_open', 'friday_close',\n",
    "                                             'saturday_open', 'saturday_close'\n",
    "                                            ]]"
   ]
  },
  {
   "cell_type": "code",
   "execution_count": 18,
   "metadata": {},
   "outputs": [],
   "source": [
    "places_details_final = places_details_final.fillna('')"
   ]
  },
  {
   "cell_type": "markdown",
   "metadata": {},
   "source": [
    "# Types"
   ]
  },
  {
   "cell_type": "code",
   "execution_count": 19,
   "metadata": {},
   "outputs": [],
   "source": [
    "types = places_details.copy()\n",
    "types = types[['place_id', 'types']]"
   ]
  },
  {
   "cell_type": "code",
   "execution_count": 20,
   "metadata": {},
   "outputs": [],
   "source": [
    "types_df = pd.DataFrame()\n",
    "\n",
    "for i in range(0, len(types)):\n",
    "    x = ast.literal_eval(types['types'][i])\n",
    "    place_id = types['place_id'][i]\n",
    "    temp_list = [place_id]\n",
    "    try:\n",
    "        temp_list.append(x[0])\n",
    "    except:\n",
    "        temp_list.append('')\n",
    "    try:\n",
    "        temp_list.append(x[1])\n",
    "    except:\n",
    "        temp_list.append('')\n",
    "    try:\n",
    "        temp_list.append(x[2])\n",
    "    except:\n",
    "        temp_list.append('')\n",
    "    try:\n",
    "        temp_list.append(x[3])\n",
    "    except:\n",
    "        temp_list.append('')\n",
    "    \n",
    "    temp_df = pd.DataFrame(columns=['place_id', 'type_1', 'type_2', 'type_3', 'type_4'])\n",
    "    a_series = pd.Series(temp_list, index = temp_df.columns)\n",
    "    types_df = types_df.append(a_series, ignore_index=True)\n"
   ]
  },
  {
   "cell_type": "markdown",
   "metadata": {},
   "source": [
    "## Unir tablas"
   ]
  },
  {
   "cell_type": "code",
   "execution_count": 24,
   "metadata": {},
   "outputs": [],
   "source": [
    "# Top rated\n",
    "places_details_final_2 = pd.merge(places_details_final, top_rated, on='place_id', how='left')"
   ]
  },
  {
   "cell_type": "code",
   "execution_count": 25,
   "metadata": {},
   "outputs": [],
   "source": [
    "#Types\n",
    "places_details_final_2 = pd.merge(places_details_final, types_df, on='place_id', how='left')"
   ]
  },
  {
   "cell_type": "code",
   "execution_count": 26,
   "metadata": {},
   "outputs": [],
   "source": [
    "#External types\n",
    "places_details_final_2 = pd.merge(places_details_final, external_types, on='place_id', how='left')"
   ]
  },
  {
   "cell_type": "code",
   "execution_count": 29,
   "metadata": {},
   "outputs": [],
   "source": [
    "# Tirar duplicados \n",
    "places_details_final_2 = places_details_final_2.drop_duplicates(subset=['place_id'])\n",
    "#Tirar nas\n",
    "places_details_final_2 = places_details_final_2.dropna(subset=['tipo_lugar'])"
   ]
  },
  {
   "cell_type": "code",
   "execution_count": 31,
   "metadata": {},
   "outputs": [],
   "source": [
    "places_details_final_2.to_csv('data/places_details_processed.csv', index=False)"
   ]
  },
  {
   "cell_type": "code",
   "execution_count": null,
   "metadata": {},
   "outputs": [],
   "source": []
  }
 ],
 "metadata": {
  "kernelspec": {
   "display_name": "Python 3",
   "language": "python",
   "name": "python3"
  },
  "language_info": {
   "codemirror_mode": {
    "name": "ipython",
    "version": 3
   },
   "file_extension": ".py",
   "mimetype": "text/x-python",
   "name": "python",
   "nbconvert_exporter": "python",
   "pygments_lexer": "ipython3",
   "version": "3.7.6"
  }
 },
 "nbformat": 4,
 "nbformat_minor": 4
}
