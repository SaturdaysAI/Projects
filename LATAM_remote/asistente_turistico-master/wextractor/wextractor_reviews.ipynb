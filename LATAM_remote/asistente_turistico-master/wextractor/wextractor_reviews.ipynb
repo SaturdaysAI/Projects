{
 "cells": [
  {
   "cell_type": "code",
   "execution_count": 1,
   "metadata": {},
   "outputs": [],
   "source": [
    "import json\n",
    "import requests\n",
    "import pandas as pd\n",
    "from time import sleep"
   ]
  },
  {
   "cell_type": "markdown",
   "metadata": {},
   "source": [
    "# Extracción"
   ]
  },
  {
   "cell_type": "code",
   "execution_count": 5,
   "metadata": {},
   "outputs": [],
   "source": [
    "def reviews_extraction(place_id:str, offset: int, api_key:str):\n",
    "    endpoint_url = \"https://wextractor.com/api/v1/reviews\"\n",
    "    \n",
    "    params = {\n",
    "        'auth_token': api_key,\n",
    "        'id': place_id,\n",
    "        'offset': offset,\n",
    "        'sort': 'recency'\n",
    "    }\n",
    "    res = requests.get(endpoint_url, params = params)\n",
    "    #Petición\n",
    "    results =  json.loads(res.content)\n",
    "    \n",
    "    #Crear DataFrame\n",
    "    df_temp = pd.DataFrame(results['reviews'])\n",
    "    df_temp['place_id'] = place_id\n",
    "    \n",
    "    return df_temp"
   ]
  }
 ],
 "metadata": {
  "kernelspec": {
   "display_name": "Python 3",
   "language": "python",
   "name": "python3"
  },
  "language_info": {
   "codemirror_mode": {
    "name": "ipython",
    "version": 3
   },
   "file_extension": ".py",
   "mimetype": "text/x-python",
   "name": "python",
   "nbconvert_exporter": "python",
   "pygments_lexer": "ipython3",
   "version": "3.7.6"
  }
 },
 "nbformat": 4,
 "nbformat_minor": 4
}
