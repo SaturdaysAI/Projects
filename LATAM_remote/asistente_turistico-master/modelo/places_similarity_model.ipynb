{
 "cells": [
  {
   "cell_type": "code",
   "execution_count": 78,
   "metadata": {},
   "outputs": [],
   "source": [
    "import numpy as np\n",
    "import pandas as pd\n",
    "from sklearn.impute import KNNImputer\n",
    "from sklearn.preprocessing import MinMaxScaler"
   ]
  },
  {
   "cell_type": "markdown",
   "metadata": {},
   "source": [
    "# Datos"
   ]
  },
  {
   "cell_type": "code",
   "execution_count": 3,
   "metadata": {},
   "outputs": [],
   "source": [
    "ratings = pd.read_csv('users_ratings_table.csv')\n",
    "places = pd.read_csv('base_final_lugares.csv ')"
   ]
  },
  {
   "cell_type": "code",
   "execution_count": 19,
   "metadata": {},
   "outputs": [
    {
     "name": "stderr",
     "output_type": "stream",
     "text": [
      "C:\\Users\\josel\\anaconda3\\lib\\site-packages\\ipykernel_launcher.py:3: SettingWithCopyWarning: \n",
      "A value is trying to be set on a copy of a slice from a DataFrame.\n",
      "Try using .loc[row_indexer,col_indexer] = value instead\n",
      "\n",
      "See the caveats in the documentation: https://pandas.pydata.org/pandas-docs/stable/user_guide/indexing.html#returning-a-view-versus-a-copy\n",
      "  This is separate from the ipykernel package so we can avoid doing imports until\n"
     ]
    }
   ],
   "source": [
    "# Formato\n",
    "ratings = ratings[ratings['rating']!='None']\n",
    "ratings['rating'] = ratings['rating'].astype('int')"
   ]
  },
  {
   "cell_type": "markdown",
   "metadata": {},
   "source": [
    "# Modelo"
   ]
  },
  {
   "cell_type": "markdown",
   "metadata": {},
   "source": [
    "### Primero se filtra para un usuario"
   ]
  },
  {
   "cell_type": "code",
   "execution_count": 6,
   "metadata": {},
   "outputs": [],
   "source": [
    "users_list = ratings['reviewer_id'].unique().tolist()"
   ]
  },
  {
   "cell_type": "code",
   "execution_count": 26,
   "metadata": {},
   "outputs": [],
   "source": [
    "def get_users_ratings(data: pd.DataFrame, user_id):\n",
    "    data_subset = data[data['reviewer_id']==user_id]\n",
    "    #Agrupar por place_id\n",
    "    data_grouped = data_subset.groupby('place_id').agg({'rating':['count', 'mean']}).reset_index()\n",
    "    data_grouped.columns = data_grouped.columns.map('_'.join).str.strip('_')\n",
    "    #Poner usuario\n",
    "    data_grouped['user_id'] = user_id\n",
    "    \n",
    "    return data_grouped"
   ]
  },
  {
   "cell_type": "code",
   "execution_count": 27,
   "metadata": {},
   "outputs": [],
   "source": [
    "users_rating = get_users_ratings(ratings, users_list[0])"
   ]
  },
  {
   "cell_type": "markdown",
   "metadata": {},
   "source": [
    "### Filtrar para una experiencia"
   ]
  },
  {
   "cell_type": "code",
   "execution_count": 51,
   "metadata": {},
   "outputs": [],
   "source": [
    "def get_experience_to_analyze(user_data: pd.DataFrame, places_data: pd.DataFrame, experience_type: str):\n",
    "    places_details =  places_data[['place_id', 'tipo_lugar']]\n",
    "    #Pegar tipo de lugar a los reviews\n",
    "    user_data = pd.merge(user_data, places_details, how='left', on='place_id')\n",
    "    #Filtrar para la experiencia requerida\n",
    "    user_data_subset = user_data[user_data['tipo_lugar']==experience_type]\n",
    "    # Tomar la experiencia a analizar\n",
    "    ## El método por definir \n",
    "    user_data_sorted = user_data_subset.sort_values(by=['rating_mean', 'rating_count'], ascending=False)\n",
    "    top_place = user_data_sorted.head(1)['place_id'].values[0]\n",
    "    \n",
    "    return top_place"
   ]
  },
  {
   "cell_type": "code",
   "execution_count": 53,
   "metadata": {},
   "outputs": [],
   "source": [
    "experience = get_experience_to_analyze(users_rating, places, 'Comida mexicana')"
   ]
  },
  {
   "cell_type": "markdown",
   "metadata": {},
   "source": [
    "### Obtener lugares similares"
   ]
  },
  {
   "cell_type": "code",
   "execution_count": 153,
   "metadata": {},
   "outputs": [],
   "source": [
    "def similar_experiences(places_data: pd.DataFrame, experience: str, characteristics: list):\n",
    "    type_of_experience = places_data[places_data['place_id']==experience]['tipo_lugar'].values[0]\n",
    "    #Filtrar base de lugares \n",
    "    places_data_subset = places_data[places_data['tipo_lugar']==type_of_experience]\n",
    "    \n",
    "    #Encontrar los top 3 lugares similares\n",
    "    ## Filtrar columnas que queremos\n",
    "    variables = ['place_id']+characteristics\n",
    "    data = places_data_subset[variables]\n",
    "    ## Separar label de valores\n",
    "    label = data[['place_id']].reset_index(drop=True)\n",
    "    variables = data[characteristics]\n",
    "    ## Imputar nulos\n",
    "    ### define imputer\n",
    "    imputer = KNNImputer(n_neighbors=5, weights='uniform', metric='nan_euclidean')\n",
    "    ### fit/transform on the dataset\n",
    "    variables_imputed = imputer.fit_transform(variables)\n",
    "    ## Escalar valores\n",
    "    scaler = MinMaxScaler()\n",
    "    variables_imputed_scaled = scaler.fit_transform(variables_imputed)\n",
    "    ##Regresar a df\n",
    "    final_data = pd.DataFrame(variables_imputed_scaled, columns=characteristics)\n",
    "    final_data = pd.concat([label, final_data], axis=1)\n",
    "    \n",
    "    ## Separar experiencia a analizar del dataset\n",
    "    experience_user = final_data[final_data['place_id']==experience]\n",
    "    experience_other = final_data[final_data['place_id']!=experience]\n",
    "    experience_user_variables = experience_user[characteristics]\n",
    "    experience_other_variables = experience_other[characteristics]\n",
    "    \n",
    "    #Calcular la distancia entre el valor del usuario y el resto de experiencias\n",
    "    dist_list = []\n",
    "\n",
    "    for _, i in experience_other_variables.iterrows():\n",
    "        dist = np.linalg.norm(i-np.squeeze(experience_user_variables,0))\n",
    "        dist_list.append(dist)\n",
    "    experience_other = experience_other.copy()\n",
    "    experience_other['similarity'] = dist_list\n",
    "    #Obtener top 3\n",
    "    rec = experience_other.sort_values(by='similarity').tail(3)['place_id'].tolist()\n",
    "    \n",
    "    return rec"
   ]
  },
  {
   "cell_type": "code",
   "execution_count": 154,
   "metadata": {},
   "outputs": [
    {
     "data": {
      "text/plain": [
       "['ChIJs29OZZH40YUR73753MLhEnc',\n",
       " 'ChIJ0RedUVYCzoURQcJ0Bo5LJew',\n",
       " 'ChIJ0-IjfKoDzoURrhSoInEmyrs']"
      ]
     },
     "execution_count": 154,
     "metadata": {},
     "output_type": "execute_result"
    }
   ],
   "source": [
    "columns_to_consider = ['price_level', 'comida_norm', 'servicio_norm', 'ambiente_norm']\n",
    "similar_experiences(places, experience, columns_to_consider)"
   ]
  }
 ],
 "metadata": {
  "kernelspec": {
   "display_name": "Python 3",
   "language": "python",
   "name": "python3"
  },
  "language_info": {
   "codemirror_mode": {
    "name": "ipython",
    "version": 3
   },
   "file_extension": ".py",
   "mimetype": "text/x-python",
   "name": "python",
   "nbconvert_exporter": "python",
   "pygments_lexer": "ipython3",
   "version": "3.7.6"
  }
 },
 "nbformat": 4,
 "nbformat_minor": 4
}
