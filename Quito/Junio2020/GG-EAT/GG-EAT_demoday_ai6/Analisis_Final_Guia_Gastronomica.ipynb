{
  "nbformat": 4,
  "nbformat_minor": 0,
  "metadata": {
    "colab": {
      "name": "Analisis Final - Guia Gastronomica.ipynb",
      "provenance": [],
      "collapsed_sections": [
        "c_x5ZNdOp53K",
        "QoJCXapHq1If",
        "7lEoukAq-4jO",
        "YoO_tVWRtR2i",
        "2nKoRm_7laTo",
        "5DtUJyOfFy2g",
        "73DMHLGzmqfK",
        "hME64dRsJ7Of"
      ],
      "toc_visible": true
    },
    "kernelspec": {
      "name": "python3",
      "display_name": "Python 3"
    }
  },
  "cells": [
    {
      "cell_type": "markdown",
      "metadata": {
        "id": "G17osD1op00M",
        "colab_type": "text"
      },
      "source": [
        "# **Proyecto Guia Gastronomica**"
      ]
    },
    {
      "cell_type": "markdown",
      "metadata": {
        "id": "3koE27EwprXZ",
        "colab_type": "text"
      },
      "source": [
        "![imagen.png](data:image/png;base64,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)"
      ]
    },
    {
      "cell_type": "markdown",
      "metadata": {
        "id": "KhSMl_KJo-P3",
        "colab_type": "text"
      },
      "source": [
        "**Integrantes:**\n",
        "\n",
        "* Fabio Burbano\n",
        "* Danny Cuichan\n",
        "* Paul Cuichan\n",
        "* Alex German Chicaiza\n",
        "* David Sagñay\n",
        "* Cristian Yunga\n",
        "\n"
      ]
    },
    {
      "cell_type": "markdown",
      "metadata": {
        "id": "c_x5ZNdOp53K",
        "colab_type": "text"
      },
      "source": [
        "## **1. Importacion de Recursos**"
      ]
    },
    {
      "cell_type": "markdown",
      "metadata": {
        "id": "jg4oQLGBqYRX",
        "colab_type": "text"
      },
      "source": [
        "### **1.1 Librerias**"
      ]
    },
    {
      "cell_type": "code",
      "metadata": {
        "id": "EAh1EveCqIUk",
        "colab_type": "code",
        "colab": {}
      },
      "source": [
        "import numpy as np\n",
        "import pandas as pd\n",
        "import seaborn as sns\n",
        "\n",
        "import matplotlib.pyplot as plt\n",
        "plt.style.use('ggplot')\n",
        "%matplotlib inline\n",
        "\n",
        "import graphviz\n",
        "from yellowbrick.classifier import ConfusionMatrix\n",
        "from yellowbrick.classifier import ClassificationReport\n",
        "\n",
        "#SobreMuestreo\n",
        "from imblearn.over_sampling import SMOTE\n",
        "\n",
        "#Regresion Lineal\n",
        "from sklearn.feature_selection import RFE\n",
        "from sklearn.linear_model import LogisticRegression\n",
        "import statsmodels.api as sm\n",
        "\n",
        "#Arbol de Decision\n",
        "from sklearn import metrics\n",
        "from sklearn.model_selection import train_test_split, cross_val_score, GridSearchCV\n",
        "from sklearn.tree import DecisionTreeRegressor\n",
        "from sklearn import tree\n",
        "from sklearn.metrics import mean_squared_error, r2_score\n",
        "from sklearn.tree import DecisionTreeClassifier\n",
        "\n",
        "#BAYES\n",
        "from sklearn.naive_bayes import GaussianNB, MultinomialNB\n",
        "from sklearn.model_selection import train_test_split\n",
        "from sklearn.metrics import confusion_matrix\n",
        "\n",
        "#Random Forest\n",
        "from sklearn.ensemble import RandomForestClassifier\n",
        "from sklearn.ensemble import RandomForestRegressor\n",
        "\n",
        "#Exportacion de datos\n",
        "#import joblib\n",
        "import pickle"
      ],
      "execution_count": 0,
      "outputs": []
    },
    {
      "cell_type": "markdown",
      "metadata": {
        "id": "r6peoloOqnaY",
        "colab_type": "text"
      },
      "source": [
        "### **1.2 DatataSet**"
      ]
    },
    {
      "cell_type": "code",
      "metadata": {
        "id": "oLHhRzJsqvIg",
        "colab_type": "code",
        "outputId": "5d4760c1-443b-470f-a4cd-c896d2464b56",
        "colab": {
          "base_uri": "https://localhost:8080/"
        }
      },
      "source": [
        "url='https://raw.githubusercontent.com/AlexGermancw/-Gastronomic_Guide/master/Data/data_gustos.csv'\n",
        "data=pd.read_csv(url,sep=';')\n",
        "data.head()"
      ],
      "execution_count": 0,
      "outputs": [
        {
          "output_type": "execute_result",
          "data": {
            "text/html": [
              "<div>\n",
              "<style scoped>\n",
              "    .dataframe tbody tr th:only-of-type {\n",
              "        vertical-align: middle;\n",
              "    }\n",
              "\n",
              "    .dataframe tbody tr th {\n",
              "        vertical-align: top;\n",
              "    }\n",
              "\n",
              "    .dataframe thead th {\n",
              "        text-align: right;\n",
              "    }\n",
              "</style>\n",
              "<table border=\"1\" class=\"dataframe\">\n",
              "  <thead>\n",
              "    <tr style=\"text-align: right;\">\n",
              "      <th></th>\n",
              "      <th>id_restaurante</th>\n",
              "      <th>tipo</th>\n",
              "      <th>nombre</th>\n",
              "      <th>latitud</th>\n",
              "      <th>longitud</th>\n",
              "      <th>raiting</th>\n",
              "      <th>direccion</th>\n",
              "      <th>status</th>\n",
              "      <th>price_level</th>\n",
              "      <th>id_persona</th>\n",
              "      <th>nombre.1</th>\n",
              "      <th>genero</th>\n",
              "      <th>ambiente</th>\n",
              "      <th>vegetariana</th>\n",
              "      <th>carne</th>\n",
              "      <th>pollo</th>\n",
              "      <th>pez</th>\n",
              "      <th>lacteos</th>\n",
              "      <th>mariscos</th>\n",
              "      <th>menu</th>\n",
              "      <th>comida_rapida</th>\n",
              "      <th>menestra</th>\n",
              "      <th>jugo</th>\n",
              "      <th>gaseosa</th>\n",
              "      <th>bebida</th>\n",
              "      <th>cafe</th>\n",
              "      <th>te</th>\n",
              "      <th>gustar</th>\n",
              "    </tr>\n",
              "  </thead>\n",
              "  <tbody>\n",
              "    <tr>\n",
              "      <th>0</th>\n",
              "      <td>86</td>\n",
              "      <td>cafe</td>\n",
              "      <td>Anaconda</td>\n",
              "      <td>-0.207061</td>\n",
              "      <td>-78.491673</td>\n",
              "      <td>4.4</td>\n",
              "      <td>Jeronimo Carrion E9-41, Quito</td>\n",
              "      <td>OPERATIONAL</td>\n",
              "      <td>2</td>\n",
              "      <td>123</td>\n",
              "      <td>alex</td>\n",
              "      <td>1</td>\n",
              "      <td>abierto</td>\n",
              "      <td>0</td>\n",
              "      <td>1</td>\n",
              "      <td>1</td>\n",
              "      <td>1</td>\n",
              "      <td>1</td>\n",
              "      <td>1</td>\n",
              "      <td>0</td>\n",
              "      <td>1</td>\n",
              "      <td>1</td>\n",
              "      <td>0</td>\n",
              "      <td>1</td>\n",
              "      <td>2</td>\n",
              "      <td>0</td>\n",
              "      <td>1</td>\n",
              "      <td>0</td>\n",
              "    </tr>\n",
              "    <tr>\n",
              "      <th>1</th>\n",
              "      <td>379</td>\n",
              "      <td>meal_takeaway</td>\n",
              "      <td>Beerman</td>\n",
              "      <td>-0.183650</td>\n",
              "      <td>-78.478547</td>\n",
              "      <td>4.5</td>\n",
              "      <td>Quito</td>\n",
              "      <td>OPERATIONAL</td>\n",
              "      <td>3</td>\n",
              "      <td>123</td>\n",
              "      <td>alex</td>\n",
              "      <td>1</td>\n",
              "      <td>abierto</td>\n",
              "      <td>0</td>\n",
              "      <td>1</td>\n",
              "      <td>1</td>\n",
              "      <td>1</td>\n",
              "      <td>1</td>\n",
              "      <td>1</td>\n",
              "      <td>0</td>\n",
              "      <td>1</td>\n",
              "      <td>1</td>\n",
              "      <td>0</td>\n",
              "      <td>1</td>\n",
              "      <td>2</td>\n",
              "      <td>0</td>\n",
              "      <td>1</td>\n",
              "      <td>0</td>\n",
              "    </tr>\n",
              "    <tr>\n",
              "      <th>2</th>\n",
              "      <td>11</td>\n",
              "      <td>bakery</td>\n",
              "      <td>Cyrano</td>\n",
              "      <td>-0.196434</td>\n",
              "      <td>-78.478475</td>\n",
              "      <td>4.6</td>\n",
              "      <td>Avenida GonzÃ¡lez SuÃ¡rez, GonzÃ¡lez SuÃ¡rez N...</td>\n",
              "      <td>OPERATIONAL</td>\n",
              "      <td>3</td>\n",
              "      <td>123</td>\n",
              "      <td>alex</td>\n",
              "      <td>1</td>\n",
              "      <td>abierto</td>\n",
              "      <td>0</td>\n",
              "      <td>1</td>\n",
              "      <td>1</td>\n",
              "      <td>1</td>\n",
              "      <td>1</td>\n",
              "      <td>1</td>\n",
              "      <td>0</td>\n",
              "      <td>1</td>\n",
              "      <td>1</td>\n",
              "      <td>0</td>\n",
              "      <td>1</td>\n",
              "      <td>2</td>\n",
              "      <td>0</td>\n",
              "      <td>1</td>\n",
              "      <td>0</td>\n",
              "    </tr>\n",
              "    <tr>\n",
              "      <th>3</th>\n",
              "      <td>19</td>\n",
              "      <td>bakery</td>\n",
              "      <td>Dulssini</td>\n",
              "      <td>-0.208866</td>\n",
              "      <td>-78.492119</td>\n",
              "      <td>3.9</td>\n",
              "      <td>La Mariscal, Edificio Mariana de JesÃºs, Avenu...</td>\n",
              "      <td>OPERATIONAL</td>\n",
              "      <td>1</td>\n",
              "      <td>123</td>\n",
              "      <td>alex</td>\n",
              "      <td>1</td>\n",
              "      <td>abierto</td>\n",
              "      <td>0</td>\n",
              "      <td>1</td>\n",
              "      <td>1</td>\n",
              "      <td>1</td>\n",
              "      <td>1</td>\n",
              "      <td>1</td>\n",
              "      <td>0</td>\n",
              "      <td>1</td>\n",
              "      <td>1</td>\n",
              "      <td>0</td>\n",
              "      <td>1</td>\n",
              "      <td>2</td>\n",
              "      <td>0</td>\n",
              "      <td>1</td>\n",
              "      <td>1</td>\n",
              "    </tr>\n",
              "    <tr>\n",
              "      <th>4</th>\n",
              "      <td>387</td>\n",
              "      <td>meal_takeaway</td>\n",
              "      <td>El Hornero</td>\n",
              "      <td>-0.202156</td>\n",
              "      <td>-78.494419</td>\n",
              "      <td>4.5</td>\n",
              "      <td>La Mariscal, Calle, Avenida General Ignacio de...</td>\n",
              "      <td>OPERATIONAL</td>\n",
              "      <td>2</td>\n",
              "      <td>123</td>\n",
              "      <td>alex</td>\n",
              "      <td>1</td>\n",
              "      <td>abierto</td>\n",
              "      <td>0</td>\n",
              "      <td>1</td>\n",
              "      <td>1</td>\n",
              "      <td>1</td>\n",
              "      <td>1</td>\n",
              "      <td>1</td>\n",
              "      <td>0</td>\n",
              "      <td>1</td>\n",
              "      <td>1</td>\n",
              "      <td>0</td>\n",
              "      <td>1</td>\n",
              "      <td>2</td>\n",
              "      <td>0</td>\n",
              "      <td>1</td>\n",
              "      <td>0</td>\n",
              "    </tr>\n",
              "  </tbody>\n",
              "</table>\n",
              "</div>"
            ],
            "text/plain": [
              "   id_restaurante           tipo      nombre  ...  cafe  te  gustar\n",
              "0              86           cafe    Anaconda  ...     0   1       0\n",
              "1             379  meal_takeaway     Beerman  ...     0   1       0\n",
              "2              11         bakery      Cyrano  ...     0   1       0\n",
              "3              19         bakery    Dulssini  ...     0   1       1\n",
              "4             387  meal_takeaway  El Hornero  ...     0   1       0\n",
              "\n",
              "[5 rows x 28 columns]"
            ]
          },
          "metadata": {
            "tags": []
          },
          "execution_count": 26
        }
      ]
    },
    {
      "cell_type": "markdown",
      "metadata": {
        "id": "QoJCXapHq1If",
        "colab_type": "text"
      },
      "source": [
        "## **2. Adecuacion del DataSet**"
      ]
    },
    {
      "cell_type": "markdown",
      "metadata": {
        "id": "Vw_pslHMrBiX",
        "colab_type": "text"
      },
      "source": [
        "### **2.1 Categorizacion de Acuerdo al Raiting**"
      ]
    },
    {
      "cell_type": "code",
      "metadata": {
        "id": "5cnSYvWvq6wS",
        "colab_type": "code",
        "outputId": "7f1975eb-d4aa-4511-ac7d-d50b38faddfc",
        "colab": {
          "base_uri": "https://localhost:8080/"
        }
      },
      "source": [
        "data.loc[(data['raiting'] > -1) & (data['raiting'] <= 1), \"cat\"] =1 \n",
        "data.loc[(data['raiting'] > 1) & (data['raiting'] <= 2), \"cat\"] =2\n",
        "data.loc[(data['raiting'] > 2) & (data['raiting'] <= 3), \"cat\"] =3 \n",
        "data.loc[(data['raiting'] > 3) & (data['raiting'] <= 4), \"cat\"] =4 \n",
        "data.loc[(data['raiting'] > 4) & (data['raiting'] <= 5), \"cat\"] =5 \n",
        "data.head()"
      ],
      "execution_count": 0,
      "outputs": [
        {
          "output_type": "execute_result",
          "data": {
            "text/html": [
              "<div>\n",
              "<style scoped>\n",
              "    .dataframe tbody tr th:only-of-type {\n",
              "        vertical-align: middle;\n",
              "    }\n",
              "\n",
              "    .dataframe tbody tr th {\n",
              "        vertical-align: top;\n",
              "    }\n",
              "\n",
              "    .dataframe thead th {\n",
              "        text-align: right;\n",
              "    }\n",
              "</style>\n",
              "<table border=\"1\" class=\"dataframe\">\n",
              "  <thead>\n",
              "    <tr style=\"text-align: right;\">\n",
              "      <th></th>\n",
              "      <th>id_restaurante</th>\n",
              "      <th>tipo</th>\n",
              "      <th>nombre</th>\n",
              "      <th>latitud</th>\n",
              "      <th>longitud</th>\n",
              "      <th>raiting</th>\n",
              "      <th>direccion</th>\n",
              "      <th>status</th>\n",
              "      <th>price_level</th>\n",
              "      <th>id_persona</th>\n",
              "      <th>nombre.1</th>\n",
              "      <th>genero</th>\n",
              "      <th>ambiente</th>\n",
              "      <th>vegetariana</th>\n",
              "      <th>carne</th>\n",
              "      <th>pollo</th>\n",
              "      <th>pez</th>\n",
              "      <th>lacteos</th>\n",
              "      <th>mariscos</th>\n",
              "      <th>menu</th>\n",
              "      <th>comida_rapida</th>\n",
              "      <th>menestra</th>\n",
              "      <th>jugo</th>\n",
              "      <th>gaseosa</th>\n",
              "      <th>bebida</th>\n",
              "      <th>cafe</th>\n",
              "      <th>te</th>\n",
              "      <th>gustar</th>\n",
              "      <th>cat</th>\n",
              "    </tr>\n",
              "  </thead>\n",
              "  <tbody>\n",
              "    <tr>\n",
              "      <th>0</th>\n",
              "      <td>86</td>\n",
              "      <td>cafe</td>\n",
              "      <td>Anaconda</td>\n",
              "      <td>-0.207061</td>\n",
              "      <td>-78.491673</td>\n",
              "      <td>4.4</td>\n",
              "      <td>Jeronimo Carrion E9-41, Quito</td>\n",
              "      <td>OPERATIONAL</td>\n",
              "      <td>2</td>\n",
              "      <td>123</td>\n",
              "      <td>alex</td>\n",
              "      <td>1</td>\n",
              "      <td>abierto</td>\n",
              "      <td>0</td>\n",
              "      <td>1</td>\n",
              "      <td>1</td>\n",
              "      <td>1</td>\n",
              "      <td>1</td>\n",
              "      <td>1</td>\n",
              "      <td>0</td>\n",
              "      <td>1</td>\n",
              "      <td>1</td>\n",
              "      <td>0</td>\n",
              "      <td>1</td>\n",
              "      <td>2</td>\n",
              "      <td>0</td>\n",
              "      <td>1</td>\n",
              "      <td>0</td>\n",
              "      <td>5.0</td>\n",
              "    </tr>\n",
              "    <tr>\n",
              "      <th>1</th>\n",
              "      <td>379</td>\n",
              "      <td>meal_takeaway</td>\n",
              "      <td>Beerman</td>\n",
              "      <td>-0.183650</td>\n",
              "      <td>-78.478547</td>\n",
              "      <td>4.5</td>\n",
              "      <td>Quito</td>\n",
              "      <td>OPERATIONAL</td>\n",
              "      <td>3</td>\n",
              "      <td>123</td>\n",
              "      <td>alex</td>\n",
              "      <td>1</td>\n",
              "      <td>abierto</td>\n",
              "      <td>0</td>\n",
              "      <td>1</td>\n",
              "      <td>1</td>\n",
              "      <td>1</td>\n",
              "      <td>1</td>\n",
              "      <td>1</td>\n",
              "      <td>0</td>\n",
              "      <td>1</td>\n",
              "      <td>1</td>\n",
              "      <td>0</td>\n",
              "      <td>1</td>\n",
              "      <td>2</td>\n",
              "      <td>0</td>\n",
              "      <td>1</td>\n",
              "      <td>0</td>\n",
              "      <td>5.0</td>\n",
              "    </tr>\n",
              "    <tr>\n",
              "      <th>2</th>\n",
              "      <td>11</td>\n",
              "      <td>bakery</td>\n",
              "      <td>Cyrano</td>\n",
              "      <td>-0.196434</td>\n",
              "      <td>-78.478475</td>\n",
              "      <td>4.6</td>\n",
              "      <td>Avenida GonzÃ¡lez SuÃ¡rez, GonzÃ¡lez SuÃ¡rez N...</td>\n",
              "      <td>OPERATIONAL</td>\n",
              "      <td>3</td>\n",
              "      <td>123</td>\n",
              "      <td>alex</td>\n",
              "      <td>1</td>\n",
              "      <td>abierto</td>\n",
              "      <td>0</td>\n",
              "      <td>1</td>\n",
              "      <td>1</td>\n",
              "      <td>1</td>\n",
              "      <td>1</td>\n",
              "      <td>1</td>\n",
              "      <td>0</td>\n",
              "      <td>1</td>\n",
              "      <td>1</td>\n",
              "      <td>0</td>\n",
              "      <td>1</td>\n",
              "      <td>2</td>\n",
              "      <td>0</td>\n",
              "      <td>1</td>\n",
              "      <td>0</td>\n",
              "      <td>5.0</td>\n",
              "    </tr>\n",
              "    <tr>\n",
              "      <th>3</th>\n",
              "      <td>19</td>\n",
              "      <td>bakery</td>\n",
              "      <td>Dulssini</td>\n",
              "      <td>-0.208866</td>\n",
              "      <td>-78.492119</td>\n",
              "      <td>3.9</td>\n",
              "      <td>La Mariscal, Edificio Mariana de JesÃºs, Avenu...</td>\n",
              "      <td>OPERATIONAL</td>\n",
              "      <td>1</td>\n",
              "      <td>123</td>\n",
              "      <td>alex</td>\n",
              "      <td>1</td>\n",
              "      <td>abierto</td>\n",
              "      <td>0</td>\n",
              "      <td>1</td>\n",
              "      <td>1</td>\n",
              "      <td>1</td>\n",
              "      <td>1</td>\n",
              "      <td>1</td>\n",
              "      <td>0</td>\n",
              "      <td>1</td>\n",
              "      <td>1</td>\n",
              "      <td>0</td>\n",
              "      <td>1</td>\n",
              "      <td>2</td>\n",
              "      <td>0</td>\n",
              "      <td>1</td>\n",
              "      <td>1</td>\n",
              "      <td>4.0</td>\n",
              "    </tr>\n",
              "    <tr>\n",
              "      <th>4</th>\n",
              "      <td>387</td>\n",
              "      <td>meal_takeaway</td>\n",
              "      <td>El Hornero</td>\n",
              "      <td>-0.202156</td>\n",
              "      <td>-78.494419</td>\n",
              "      <td>4.5</td>\n",
              "      <td>La Mariscal, Calle, Avenida General Ignacio de...</td>\n",
              "      <td>OPERATIONAL</td>\n",
              "      <td>2</td>\n",
              "      <td>123</td>\n",
              "      <td>alex</td>\n",
              "      <td>1</td>\n",
              "      <td>abierto</td>\n",
              "      <td>0</td>\n",
              "      <td>1</td>\n",
              "      <td>1</td>\n",
              "      <td>1</td>\n",
              "      <td>1</td>\n",
              "      <td>1</td>\n",
              "      <td>0</td>\n",
              "      <td>1</td>\n",
              "      <td>1</td>\n",
              "      <td>0</td>\n",
              "      <td>1</td>\n",
              "      <td>2</td>\n",
              "      <td>0</td>\n",
              "      <td>1</td>\n",
              "      <td>0</td>\n",
              "      <td>5.0</td>\n",
              "    </tr>\n",
              "  </tbody>\n",
              "</table>\n",
              "</div>"
            ],
            "text/plain": [
              "   id_restaurante           tipo      nombre   latitud  ...  cafe  te gustar  cat\n",
              "0              86           cafe    Anaconda -0.207061  ...     0   1      0  5.0\n",
              "1             379  meal_takeaway     Beerman -0.183650  ...     0   1      0  5.0\n",
              "2              11         bakery      Cyrano -0.196434  ...     0   1      0  5.0\n",
              "3              19         bakery    Dulssini -0.208866  ...     0   1      1  4.0\n",
              "4             387  meal_takeaway  El Hornero -0.202156  ...     0   1      0  5.0\n",
              "\n",
              "[5 rows x 29 columns]"
            ]
          },
          "metadata": {
            "tags": []
          },
          "execution_count": 27
        }
      ]
    },
    {
      "cell_type": "markdown",
      "metadata": {
        "id": "YFgxvGR6rVKB",
        "colab_type": "text"
      },
      "source": [
        "### **2.2 Cuantificar Variables Cualitativas** "
      ]
    },
    {
      "cell_type": "markdown",
      "metadata": {
        "id": "hnbJ3OZpsGKB",
        "colab_type": "text"
      },
      "source": [
        "#### *2.2.1 Tipo*"
      ]
    },
    {
      "cell_type": "code",
      "metadata": {
        "id": "Ku6sIVvsr3sC",
        "colab_type": "code",
        "outputId": "107dc21e-5603-421d-8133-1b195960aae3",
        "colab": {
          "base_uri": "https://localhost:8080/"
        }
      },
      "source": [
        "data['tipo'].value_counts()"
      ],
      "execution_count": 0,
      "outputs": [
        {
          "output_type": "execute_result",
          "data": {
            "text/plain": [
              "meal_takeaway    9\n",
              "bakery           9\n",
              "cafe             9\n",
              "restaurant       9\n",
              "food             6\n",
              "Name: tipo, dtype: int64"
            ]
          },
          "metadata": {
            "tags": []
          },
          "execution_count": 28
        }
      ]
    },
    {
      "cell_type": "markdown",
      "metadata": {
        "id": "zNfKNWalr6hU",
        "colab_type": "text"
      },
      "source": [
        "REEMPLAZAMOS LAS CATEGORIAS DIFERENTES QUE TENEMOS EN VARIABLE **tipo**  \n",
        "  \n",
        "  cafe_____________ 1  \n",
        "  bakery___________ 2  \n",
        "  food_____________ 3  \n",
        "  meal_takeaway__ 4  \n",
        "  restaurant_______ 5  "
      ]
    },
    {
      "cell_type": "code",
      "metadata": {
        "id": "T8Ypbt_kqxId",
        "colab_type": "code",
        "outputId": "ae6c91b2-52e9-4266-a3d9-4a348c524462",
        "colab": {
          "base_uri": "https://localhost:8080/"
        }
      },
      "source": [
        "tipo=['cafe','bakery','food','meal_takeaway','restaurant']\n",
        "remplace_tipo=[1,2,3,4,5]\n",
        "data['tipo'].replace(tipo,remplace_tipo,inplace=True)\n",
        "data['tipo'].value_counts()"
      ],
      "execution_count": 0,
      "outputs": [
        {
          "output_type": "execute_result",
          "data": {
            "text/plain": [
              "5    9\n",
              "4    9\n",
              "2    9\n",
              "1    9\n",
              "3    6\n",
              "Name: tipo, dtype: int64"
            ]
          },
          "metadata": {
            "tags": []
          },
          "execution_count": 29
        }
      ]
    },
    {
      "cell_type": "markdown",
      "metadata": {
        "id": "cPsDyVKtsX5R",
        "colab_type": "text"
      },
      "source": [
        "#### *2.2.2 Ambiente*"
      ]
    },
    {
      "cell_type": "code",
      "metadata": {
        "id": "hjyGCErRsAEJ",
        "colab_type": "code",
        "outputId": "32a74aa7-a7f8-4f11-9536-6f1e3e8d5baf",
        "colab": {
          "base_uri": "https://localhost:8080/"
        }
      },
      "source": [
        "data['ambiente'].value_counts()"
      ],
      "execution_count": 0,
      "outputs": [
        {
          "output_type": "execute_result",
          "data": {
            "text/plain": [
              "abierto    28\n",
              "cerrado    14\n",
              "Name: ambiente, dtype: int64"
            ]
          },
          "metadata": {
            "tags": []
          },
          "execution_count": 30
        }
      ]
    },
    {
      "cell_type": "markdown",
      "metadata": {
        "id": "oyUlHUbVsrhF",
        "colab_type": "text"
      },
      "source": [
        "REEMPLAZAMOS LAS CATEGORIAS DIFERENTES QUE TENEMOS EN VARIABLE **ambiente**  \n",
        "  \n",
        "  cerrado__________ 0   \n",
        "  abierto__________ 1  "
      ]
    },
    {
      "cell_type": "code",
      "metadata": {
        "id": "hXmkkWPPsiT_",
        "colab_type": "code",
        "outputId": "3f254759-cf33-4d4e-a752-61a1d2b7bcac",
        "colab": {
          "base_uri": "https://localhost:8080/"
        }
      },
      "source": [
        "ambiente=['cerrado','abierto']\n",
        "remplace_ambiente=[0,1]\n",
        "data['ambiente'].replace(ambiente,remplace_ambiente,inplace=True)\n",
        "data['ambiente'].value_counts()"
      ],
      "execution_count": 0,
      "outputs": [
        {
          "output_type": "execute_result",
          "data": {
            "text/plain": [
              "1    28\n",
              "0    14\n",
              "Name: ambiente, dtype: int64"
            ]
          },
          "metadata": {
            "tags": []
          },
          "execution_count": 31
        }
      ]
    },
    {
      "cell_type": "markdown",
      "metadata": {
        "id": "7lEoukAq-4jO",
        "colab_type": "text"
      },
      "source": [
        "## **2.3 Normalizacion de Valores**\n",
        "Se normalizan valores. Ejemplo: Si una variable contiene valores del 1 al 2, se normaliza a 0 y 1"
      ]
    },
    {
      "cell_type": "markdown",
      "metadata": {
        "id": "xsqSUTYf_KWN",
        "colab_type": "text"
      },
      "source": [
        "### *2.3.1 Bebida*"
      ]
    },
    {
      "cell_type": "code",
      "metadata": {
        "id": "_XOV-UzS_LK1",
        "colab_type": "code",
        "outputId": "e93f2f06-00bc-4c3a-a08c-2e6719bab06e",
        "colab": {
          "base_uri": "https://localhost:8080/"
        }
      },
      "source": [
        "data['bebida'].value_counts()"
      ],
      "execution_count": 0,
      "outputs": [
        {
          "output_type": "execute_result",
          "data": {
            "text/plain": [
              "1    28\n",
              "2    14\n",
              "Name: bebida, dtype: int64"
            ]
          },
          "metadata": {
            "tags": []
          },
          "execution_count": 32
        }
      ]
    },
    {
      "cell_type": "markdown",
      "metadata": {
        "id": "oERop7WQ_X6Z",
        "colab_type": "text"
      },
      "source": [
        "NORMALIZAMOS LOS VALORES QUE TENEMOS EN LA VARIABLE **bebida**  \n",
        "  \n",
        "  1__________ 0   \n",
        "  2__________ 1  \n"
      ]
    },
    {
      "cell_type": "code",
      "metadata": {
        "id": "Esv7fTzH_sWr",
        "colab_type": "code",
        "outputId": "aad439a1-c737-4052-c4fe-ed6bf1abd544",
        "colab": {
          "base_uri": "https://localhost:8080/"
        }
      },
      "source": [
        "bebida=[1,2]\n",
        "remplace_bebida=[0,1]\n",
        "data['bebida'].replace(bebida,remplace_bebida,inplace=True)\n",
        "data['bebida'].value_counts()"
      ],
      "execution_count": 0,
      "outputs": [
        {
          "output_type": "execute_result",
          "data": {
            "text/plain": [
              "0    28\n",
              "1    14\n",
              "Name: bebida, dtype: int64"
            ]
          },
          "metadata": {
            "tags": []
          },
          "execution_count": 33
        }
      ]
    },
    {
      "cell_type": "markdown",
      "metadata": {
        "id": "YoO_tVWRtR2i",
        "colab_type": "text"
      },
      "source": [
        "## **2.4 Eliminacion de variables no numericas**\n",
        "Considerando que hay una variable numerica que representa lo mismo"
      ]
    },
    {
      "cell_type": "code",
      "metadata": {
        "id": "h3q9jZqvtKXu",
        "colab_type": "code",
        "outputId": "2e87ea0a-0ef7-4873-b3e7-9cfdb021e6bd",
        "colab": {
          "base_uri": "https://localhost:8080/"
        }
      },
      "source": [
        "data.head()"
      ],
      "execution_count": 0,
      "outputs": [
        {
          "output_type": "execute_result",
          "data": {
            "text/html": [
              "<div>\n",
              "<style scoped>\n",
              "    .dataframe tbody tr th:only-of-type {\n",
              "        vertical-align: middle;\n",
              "    }\n",
              "\n",
              "    .dataframe tbody tr th {\n",
              "        vertical-align: top;\n",
              "    }\n",
              "\n",
              "    .dataframe thead th {\n",
              "        text-align: right;\n",
              "    }\n",
              "</style>\n",
              "<table border=\"1\" class=\"dataframe\">\n",
              "  <thead>\n",
              "    <tr style=\"text-align: right;\">\n",
              "      <th></th>\n",
              "      <th>id_restaurante</th>\n",
              "      <th>tipo</th>\n",
              "      <th>nombre</th>\n",
              "      <th>latitud</th>\n",
              "      <th>longitud</th>\n",
              "      <th>raiting</th>\n",
              "      <th>direccion</th>\n",
              "      <th>status</th>\n",
              "      <th>price_level</th>\n",
              "      <th>id_persona</th>\n",
              "      <th>nombre.1</th>\n",
              "      <th>genero</th>\n",
              "      <th>ambiente</th>\n",
              "      <th>vegetariana</th>\n",
              "      <th>carne</th>\n",
              "      <th>pollo</th>\n",
              "      <th>pez</th>\n",
              "      <th>lacteos</th>\n",
              "      <th>mariscos</th>\n",
              "      <th>menu</th>\n",
              "      <th>comida_rapida</th>\n",
              "      <th>menestra</th>\n",
              "      <th>jugo</th>\n",
              "      <th>gaseosa</th>\n",
              "      <th>bebida</th>\n",
              "      <th>cafe</th>\n",
              "      <th>te</th>\n",
              "      <th>gustar</th>\n",
              "      <th>cat</th>\n",
              "    </tr>\n",
              "  </thead>\n",
              "  <tbody>\n",
              "    <tr>\n",
              "      <th>0</th>\n",
              "      <td>86</td>\n",
              "      <td>1</td>\n",
              "      <td>Anaconda</td>\n",
              "      <td>-0.207061</td>\n",
              "      <td>-78.491673</td>\n",
              "      <td>4.4</td>\n",
              "      <td>Jeronimo Carrion E9-41, Quito</td>\n",
              "      <td>OPERATIONAL</td>\n",
              "      <td>2</td>\n",
              "      <td>123</td>\n",
              "      <td>alex</td>\n",
              "      <td>1</td>\n",
              "      <td>1</td>\n",
              "      <td>0</td>\n",
              "      <td>1</td>\n",
              "      <td>1</td>\n",
              "      <td>1</td>\n",
              "      <td>1</td>\n",
              "      <td>1</td>\n",
              "      <td>0</td>\n",
              "      <td>1</td>\n",
              "      <td>1</td>\n",
              "      <td>0</td>\n",
              "      <td>1</td>\n",
              "      <td>1</td>\n",
              "      <td>0</td>\n",
              "      <td>1</td>\n",
              "      <td>0</td>\n",
              "      <td>5.0</td>\n",
              "    </tr>\n",
              "    <tr>\n",
              "      <th>1</th>\n",
              "      <td>379</td>\n",
              "      <td>4</td>\n",
              "      <td>Beerman</td>\n",
              "      <td>-0.183650</td>\n",
              "      <td>-78.478547</td>\n",
              "      <td>4.5</td>\n",
              "      <td>Quito</td>\n",
              "      <td>OPERATIONAL</td>\n",
              "      <td>3</td>\n",
              "      <td>123</td>\n",
              "      <td>alex</td>\n",
              "      <td>1</td>\n",
              "      <td>1</td>\n",
              "      <td>0</td>\n",
              "      <td>1</td>\n",
              "      <td>1</td>\n",
              "      <td>1</td>\n",
              "      <td>1</td>\n",
              "      <td>1</td>\n",
              "      <td>0</td>\n",
              "      <td>1</td>\n",
              "      <td>1</td>\n",
              "      <td>0</td>\n",
              "      <td>1</td>\n",
              "      <td>1</td>\n",
              "      <td>0</td>\n",
              "      <td>1</td>\n",
              "      <td>0</td>\n",
              "      <td>5.0</td>\n",
              "    </tr>\n",
              "    <tr>\n",
              "      <th>2</th>\n",
              "      <td>11</td>\n",
              "      <td>2</td>\n",
              "      <td>Cyrano</td>\n",
              "      <td>-0.196434</td>\n",
              "      <td>-78.478475</td>\n",
              "      <td>4.6</td>\n",
              "      <td>Avenida GonzÃ¡lez SuÃ¡rez, GonzÃ¡lez SuÃ¡rez N...</td>\n",
              "      <td>OPERATIONAL</td>\n",
              "      <td>3</td>\n",
              "      <td>123</td>\n",
              "      <td>alex</td>\n",
              "      <td>1</td>\n",
              "      <td>1</td>\n",
              "      <td>0</td>\n",
              "      <td>1</td>\n",
              "      <td>1</td>\n",
              "      <td>1</td>\n",
              "      <td>1</td>\n",
              "      <td>1</td>\n",
              "      <td>0</td>\n",
              "      <td>1</td>\n",
              "      <td>1</td>\n",
              "      <td>0</td>\n",
              "      <td>1</td>\n",
              "      <td>1</td>\n",
              "      <td>0</td>\n",
              "      <td>1</td>\n",
              "      <td>0</td>\n",
              "      <td>5.0</td>\n",
              "    </tr>\n",
              "    <tr>\n",
              "      <th>3</th>\n",
              "      <td>19</td>\n",
              "      <td>2</td>\n",
              "      <td>Dulssini</td>\n",
              "      <td>-0.208866</td>\n",
              "      <td>-78.492119</td>\n",
              "      <td>3.9</td>\n",
              "      <td>La Mariscal, Edificio Mariana de JesÃºs, Avenu...</td>\n",
              "      <td>OPERATIONAL</td>\n",
              "      <td>1</td>\n",
              "      <td>123</td>\n",
              "      <td>alex</td>\n",
              "      <td>1</td>\n",
              "      <td>1</td>\n",
              "      <td>0</td>\n",
              "      <td>1</td>\n",
              "      <td>1</td>\n",
              "      <td>1</td>\n",
              "      <td>1</td>\n",
              "      <td>1</td>\n",
              "      <td>0</td>\n",
              "      <td>1</td>\n",
              "      <td>1</td>\n",
              "      <td>0</td>\n",
              "      <td>1</td>\n",
              "      <td>1</td>\n",
              "      <td>0</td>\n",
              "      <td>1</td>\n",
              "      <td>1</td>\n",
              "      <td>4.0</td>\n",
              "    </tr>\n",
              "    <tr>\n",
              "      <th>4</th>\n",
              "      <td>387</td>\n",
              "      <td>4</td>\n",
              "      <td>El Hornero</td>\n",
              "      <td>-0.202156</td>\n",
              "      <td>-78.494419</td>\n",
              "      <td>4.5</td>\n",
              "      <td>La Mariscal, Calle, Avenida General Ignacio de...</td>\n",
              "      <td>OPERATIONAL</td>\n",
              "      <td>2</td>\n",
              "      <td>123</td>\n",
              "      <td>alex</td>\n",
              "      <td>1</td>\n",
              "      <td>1</td>\n",
              "      <td>0</td>\n",
              "      <td>1</td>\n",
              "      <td>1</td>\n",
              "      <td>1</td>\n",
              "      <td>1</td>\n",
              "      <td>1</td>\n",
              "      <td>0</td>\n",
              "      <td>1</td>\n",
              "      <td>1</td>\n",
              "      <td>0</td>\n",
              "      <td>1</td>\n",
              "      <td>1</td>\n",
              "      <td>0</td>\n",
              "      <td>1</td>\n",
              "      <td>0</td>\n",
              "      <td>5.0</td>\n",
              "    </tr>\n",
              "  </tbody>\n",
              "</table>\n",
              "</div>"
            ],
            "text/plain": [
              "   id_restaurante  tipo      nombre   latitud  ...  cafe  te gustar  cat\n",
              "0              86     1    Anaconda -0.207061  ...     0   1      0  5.0\n",
              "1             379     4     Beerman -0.183650  ...     0   1      0  5.0\n",
              "2              11     2      Cyrano -0.196434  ...     0   1      0  5.0\n",
              "3              19     2    Dulssini -0.208866  ...     0   1      1  4.0\n",
              "4             387     4  El Hornero -0.202156  ...     0   1      0  5.0\n",
              "\n",
              "[5 rows x 29 columns]"
            ]
          },
          "metadata": {
            "tags": []
          },
          "execution_count": 34
        }
      ]
    },
    {
      "cell_type": "code",
      "metadata": {
        "id": "eP7u9N8Xtm-d",
        "colab_type": "code",
        "outputId": "1920cc88-d026-4809-8249-7b612035fd73",
        "colab": {
          "base_uri": "https://localhost:8080/"
        }
      },
      "source": [
        "data.drop(['nombre','direccion','status','nombre.1','id_persona'], axis = 1, inplace=True)\n",
        "data.head()"
      ],
      "execution_count": 0,
      "outputs": [
        {
          "output_type": "execute_result",
          "data": {
            "text/html": [
              "<div>\n",
              "<style scoped>\n",
              "    .dataframe tbody tr th:only-of-type {\n",
              "        vertical-align: middle;\n",
              "    }\n",
              "\n",
              "    .dataframe tbody tr th {\n",
              "        vertical-align: top;\n",
              "    }\n",
              "\n",
              "    .dataframe thead th {\n",
              "        text-align: right;\n",
              "    }\n",
              "</style>\n",
              "<table border=\"1\" class=\"dataframe\">\n",
              "  <thead>\n",
              "    <tr style=\"text-align: right;\">\n",
              "      <th></th>\n",
              "      <th>id_restaurante</th>\n",
              "      <th>tipo</th>\n",
              "      <th>latitud</th>\n",
              "      <th>longitud</th>\n",
              "      <th>raiting</th>\n",
              "      <th>price_level</th>\n",
              "      <th>genero</th>\n",
              "      <th>ambiente</th>\n",
              "      <th>vegetariana</th>\n",
              "      <th>carne</th>\n",
              "      <th>pollo</th>\n",
              "      <th>pez</th>\n",
              "      <th>lacteos</th>\n",
              "      <th>mariscos</th>\n",
              "      <th>menu</th>\n",
              "      <th>comida_rapida</th>\n",
              "      <th>menestra</th>\n",
              "      <th>jugo</th>\n",
              "      <th>gaseosa</th>\n",
              "      <th>bebida</th>\n",
              "      <th>cafe</th>\n",
              "      <th>te</th>\n",
              "      <th>gustar</th>\n",
              "      <th>cat</th>\n",
              "    </tr>\n",
              "  </thead>\n",
              "  <tbody>\n",
              "    <tr>\n",
              "      <th>0</th>\n",
              "      <td>86</td>\n",
              "      <td>1</td>\n",
              "      <td>-0.207061</td>\n",
              "      <td>-78.491673</td>\n",
              "      <td>4.4</td>\n",
              "      <td>2</td>\n",
              "      <td>1</td>\n",
              "      <td>1</td>\n",
              "      <td>0</td>\n",
              "      <td>1</td>\n",
              "      <td>1</td>\n",
              "      <td>1</td>\n",
              "      <td>1</td>\n",
              "      <td>1</td>\n",
              "      <td>0</td>\n",
              "      <td>1</td>\n",
              "      <td>1</td>\n",
              "      <td>0</td>\n",
              "      <td>1</td>\n",
              "      <td>1</td>\n",
              "      <td>0</td>\n",
              "      <td>1</td>\n",
              "      <td>0</td>\n",
              "      <td>5.0</td>\n",
              "    </tr>\n",
              "    <tr>\n",
              "      <th>1</th>\n",
              "      <td>379</td>\n",
              "      <td>4</td>\n",
              "      <td>-0.183650</td>\n",
              "      <td>-78.478547</td>\n",
              "      <td>4.5</td>\n",
              "      <td>3</td>\n",
              "      <td>1</td>\n",
              "      <td>1</td>\n",
              "      <td>0</td>\n",
              "      <td>1</td>\n",
              "      <td>1</td>\n",
              "      <td>1</td>\n",
              "      <td>1</td>\n",
              "      <td>1</td>\n",
              "      <td>0</td>\n",
              "      <td>1</td>\n",
              "      <td>1</td>\n",
              "      <td>0</td>\n",
              "      <td>1</td>\n",
              "      <td>1</td>\n",
              "      <td>0</td>\n",
              "      <td>1</td>\n",
              "      <td>0</td>\n",
              "      <td>5.0</td>\n",
              "    </tr>\n",
              "    <tr>\n",
              "      <th>2</th>\n",
              "      <td>11</td>\n",
              "      <td>2</td>\n",
              "      <td>-0.196434</td>\n",
              "      <td>-78.478475</td>\n",
              "      <td>4.6</td>\n",
              "      <td>3</td>\n",
              "      <td>1</td>\n",
              "      <td>1</td>\n",
              "      <td>0</td>\n",
              "      <td>1</td>\n",
              "      <td>1</td>\n",
              "      <td>1</td>\n",
              "      <td>1</td>\n",
              "      <td>1</td>\n",
              "      <td>0</td>\n",
              "      <td>1</td>\n",
              "      <td>1</td>\n",
              "      <td>0</td>\n",
              "      <td>1</td>\n",
              "      <td>1</td>\n",
              "      <td>0</td>\n",
              "      <td>1</td>\n",
              "      <td>0</td>\n",
              "      <td>5.0</td>\n",
              "    </tr>\n",
              "    <tr>\n",
              "      <th>3</th>\n",
              "      <td>19</td>\n",
              "      <td>2</td>\n",
              "      <td>-0.208866</td>\n",
              "      <td>-78.492119</td>\n",
              "      <td>3.9</td>\n",
              "      <td>1</td>\n",
              "      <td>1</td>\n",
              "      <td>1</td>\n",
              "      <td>0</td>\n",
              "      <td>1</td>\n",
              "      <td>1</td>\n",
              "      <td>1</td>\n",
              "      <td>1</td>\n",
              "      <td>1</td>\n",
              "      <td>0</td>\n",
              "      <td>1</td>\n",
              "      <td>1</td>\n",
              "      <td>0</td>\n",
              "      <td>1</td>\n",
              "      <td>1</td>\n",
              "      <td>0</td>\n",
              "      <td>1</td>\n",
              "      <td>1</td>\n",
              "      <td>4.0</td>\n",
              "    </tr>\n",
              "    <tr>\n",
              "      <th>4</th>\n",
              "      <td>387</td>\n",
              "      <td>4</td>\n",
              "      <td>-0.202156</td>\n",
              "      <td>-78.494419</td>\n",
              "      <td>4.5</td>\n",
              "      <td>2</td>\n",
              "      <td>1</td>\n",
              "      <td>1</td>\n",
              "      <td>0</td>\n",
              "      <td>1</td>\n",
              "      <td>1</td>\n",
              "      <td>1</td>\n",
              "      <td>1</td>\n",
              "      <td>1</td>\n",
              "      <td>0</td>\n",
              "      <td>1</td>\n",
              "      <td>1</td>\n",
              "      <td>0</td>\n",
              "      <td>1</td>\n",
              "      <td>1</td>\n",
              "      <td>0</td>\n",
              "      <td>1</td>\n",
              "      <td>0</td>\n",
              "      <td>5.0</td>\n",
              "    </tr>\n",
              "  </tbody>\n",
              "</table>\n",
              "</div>"
            ],
            "text/plain": [
              "   id_restaurante  tipo   latitud   longitud  ...  cafe  te  gustar  cat\n",
              "0              86     1 -0.207061 -78.491673  ...     0   1       0  5.0\n",
              "1             379     4 -0.183650 -78.478547  ...     0   1       0  5.0\n",
              "2              11     2 -0.196434 -78.478475  ...     0   1       0  5.0\n",
              "3              19     2 -0.208866 -78.492119  ...     0   1       1  4.0\n",
              "4             387     4 -0.202156 -78.494419  ...     0   1       0  5.0\n",
              "\n",
              "[5 rows x 24 columns]"
            ]
          },
          "metadata": {
            "tags": []
          },
          "execution_count": 35
        }
      ]
    },
    {
      "cell_type": "code",
      "metadata": {
        "id": "NT0a7UYetpMM",
        "colab_type": "code",
        "outputId": "7b1ed863-992d-468d-8d68-0db68be95fe4",
        "colab": {
          "base_uri": "https://localhost:8080/"
        }
      },
      "source": [
        "data.dtypes"
      ],
      "execution_count": 0,
      "outputs": [
        {
          "output_type": "execute_result",
          "data": {
            "text/plain": [
              "id_restaurante      int64\n",
              "tipo                int64\n",
              "latitud           float64\n",
              "longitud          float64\n",
              "raiting           float64\n",
              "price_level         int64\n",
              "genero              int64\n",
              "ambiente            int64\n",
              "vegetariana         int64\n",
              "carne               int64\n",
              "pollo               int64\n",
              "pez                 int64\n",
              "lacteos             int64\n",
              "mariscos            int64\n",
              "menu                int64\n",
              "comida_rapida       int64\n",
              "menestra            int64\n",
              "jugo                int64\n",
              "gaseosa             int64\n",
              "bebida              int64\n",
              "cafe                int64\n",
              "te                  int64\n",
              "gustar              int64\n",
              "cat               float64\n",
              "dtype: object"
            ]
          },
          "metadata": {
            "tags": []
          },
          "execution_count": 36
        }
      ]
    },
    {
      "cell_type": "code",
      "metadata": {
        "id": "JjkSZ67Rl3mQ",
        "colab_type": "code",
        "outputId": "00c490ad-ebca-44f8-8390-c85a34c5aa5f",
        "colab": {
          "base_uri": "https://localhost:8080/"
        }
      },
      "source": [
        "data.describe()"
      ],
      "execution_count": 0,
      "outputs": [
        {
          "output_type": "execute_result",
          "data": {
            "text/html": [
              "<div>\n",
              "<style scoped>\n",
              "    .dataframe tbody tr th:only-of-type {\n",
              "        vertical-align: middle;\n",
              "    }\n",
              "\n",
              "    .dataframe tbody tr th {\n",
              "        vertical-align: top;\n",
              "    }\n",
              "\n",
              "    .dataframe thead th {\n",
              "        text-align: right;\n",
              "    }\n",
              "</style>\n",
              "<table border=\"1\" class=\"dataframe\">\n",
              "  <thead>\n",
              "    <tr style=\"text-align: right;\">\n",
              "      <th></th>\n",
              "      <th>id_restaurante</th>\n",
              "      <th>tipo</th>\n",
              "      <th>latitud</th>\n",
              "      <th>longitud</th>\n",
              "      <th>raiting</th>\n",
              "      <th>price_level</th>\n",
              "      <th>genero</th>\n",
              "      <th>ambiente</th>\n",
              "      <th>vegetariana</th>\n",
              "      <th>carne</th>\n",
              "      <th>pollo</th>\n",
              "      <th>pez</th>\n",
              "      <th>lacteos</th>\n",
              "      <th>mariscos</th>\n",
              "      <th>menu</th>\n",
              "      <th>comida_rapida</th>\n",
              "      <th>menestra</th>\n",
              "      <th>jugo</th>\n",
              "      <th>gaseosa</th>\n",
              "      <th>bebida</th>\n",
              "      <th>cafe</th>\n",
              "      <th>te</th>\n",
              "      <th>gustar</th>\n",
              "      <th>cat</th>\n",
              "    </tr>\n",
              "  </thead>\n",
              "  <tbody>\n",
              "    <tr>\n",
              "      <th>count</th>\n",
              "      <td>42.000000</td>\n",
              "      <td>42.000000</td>\n",
              "      <td>42.000000</td>\n",
              "      <td>42.000000</td>\n",
              "      <td>42.000000</td>\n",
              "      <td>42.000000</td>\n",
              "      <td>42.000000</td>\n",
              "      <td>42.000000</td>\n",
              "      <td>42.000000</td>\n",
              "      <td>42.000000</td>\n",
              "      <td>42.000000</td>\n",
              "      <td>42.000000</td>\n",
              "      <td>42.000000</td>\n",
              "      <td>42.000000</td>\n",
              "      <td>42.000000</td>\n",
              "      <td>42.000000</td>\n",
              "      <td>42.000000</td>\n",
              "      <td>42.000000</td>\n",
              "      <td>42.000000</td>\n",
              "      <td>42.000000</td>\n",
              "      <td>42.000000</td>\n",
              "      <td>42.000000</td>\n",
              "      <td>42.000000</td>\n",
              "      <td>42.000000</td>\n",
              "    </tr>\n",
              "    <tr>\n",
              "      <th>mean</th>\n",
              "      <td>253.428571</td>\n",
              "      <td>3.000000</td>\n",
              "      <td>-0.201763</td>\n",
              "      <td>-78.484903</td>\n",
              "      <td>4.350000</td>\n",
              "      <td>1.928571</td>\n",
              "      <td>0.666667</td>\n",
              "      <td>0.666667</td>\n",
              "      <td>0.333333</td>\n",
              "      <td>0.666667</td>\n",
              "      <td>0.666667</td>\n",
              "      <td>0.333333</td>\n",
              "      <td>0.666667</td>\n",
              "      <td>0.333333</td>\n",
              "      <td>0.333333</td>\n",
              "      <td>0.666667</td>\n",
              "      <td>0.666667</td>\n",
              "      <td>0.666667</td>\n",
              "      <td>0.333333</td>\n",
              "      <td>0.333333</td>\n",
              "      <td>0.333333</td>\n",
              "      <td>0.666667</td>\n",
              "      <td>0.619048</td>\n",
              "      <td>4.928571</td>\n",
              "    </tr>\n",
              "    <tr>\n",
              "      <th>std</th>\n",
              "      <td>167.846495</td>\n",
              "      <td>1.481594</td>\n",
              "      <td>0.006700</td>\n",
              "      <td>0.005479</td>\n",
              "      <td>0.222239</td>\n",
              "      <td>0.808276</td>\n",
              "      <td>0.477119</td>\n",
              "      <td>0.477119</td>\n",
              "      <td>0.477119</td>\n",
              "      <td>0.477119</td>\n",
              "      <td>0.477119</td>\n",
              "      <td>0.477119</td>\n",
              "      <td>0.477119</td>\n",
              "      <td>0.477119</td>\n",
              "      <td>0.477119</td>\n",
              "      <td>0.477119</td>\n",
              "      <td>0.477119</td>\n",
              "      <td>0.477119</td>\n",
              "      <td>0.477119</td>\n",
              "      <td>0.477119</td>\n",
              "      <td>0.477119</td>\n",
              "      <td>0.477119</td>\n",
              "      <td>0.491507</td>\n",
              "      <td>0.260661</td>\n",
              "    </tr>\n",
              "    <tr>\n",
              "      <th>min</th>\n",
              "      <td>11.000000</td>\n",
              "      <td>1.000000</td>\n",
              "      <td>-0.210622</td>\n",
              "      <td>-78.494419</td>\n",
              "      <td>3.900000</td>\n",
              "      <td>1.000000</td>\n",
              "      <td>0.000000</td>\n",
              "      <td>0.000000</td>\n",
              "      <td>0.000000</td>\n",
              "      <td>0.000000</td>\n",
              "      <td>0.000000</td>\n",
              "      <td>0.000000</td>\n",
              "      <td>0.000000</td>\n",
              "      <td>0.000000</td>\n",
              "      <td>0.000000</td>\n",
              "      <td>0.000000</td>\n",
              "      <td>0.000000</td>\n",
              "      <td>0.000000</td>\n",
              "      <td>0.000000</td>\n",
              "      <td>0.000000</td>\n",
              "      <td>0.000000</td>\n",
              "      <td>0.000000</td>\n",
              "      <td>0.000000</td>\n",
              "      <td>4.000000</td>\n",
              "    </tr>\n",
              "    <tr>\n",
              "      <th>25%</th>\n",
              "      <td>86.000000</td>\n",
              "      <td>2.000000</td>\n",
              "      <td>-0.206758</td>\n",
              "      <td>-78.488673</td>\n",
              "      <td>4.100000</td>\n",
              "      <td>1.000000</td>\n",
              "      <td>0.000000</td>\n",
              "      <td>0.000000</td>\n",
              "      <td>0.000000</td>\n",
              "      <td>0.000000</td>\n",
              "      <td>0.000000</td>\n",
              "      <td>0.000000</td>\n",
              "      <td>0.000000</td>\n",
              "      <td>0.000000</td>\n",
              "      <td>0.000000</td>\n",
              "      <td>0.000000</td>\n",
              "      <td>0.000000</td>\n",
              "      <td>0.000000</td>\n",
              "      <td>0.000000</td>\n",
              "      <td>0.000000</td>\n",
              "      <td>0.000000</td>\n",
              "      <td>0.000000</td>\n",
              "      <td>0.000000</td>\n",
              "      <td>5.000000</td>\n",
              "    </tr>\n",
              "    <tr>\n",
              "      <th>50%</th>\n",
              "      <td>296.500000</td>\n",
              "      <td>3.000000</td>\n",
              "      <td>-0.202706</td>\n",
              "      <td>-78.484480</td>\n",
              "      <td>4.400000</td>\n",
              "      <td>2.000000</td>\n",
              "      <td>1.000000</td>\n",
              "      <td>1.000000</td>\n",
              "      <td>0.000000</td>\n",
              "      <td>1.000000</td>\n",
              "      <td>1.000000</td>\n",
              "      <td>0.000000</td>\n",
              "      <td>1.000000</td>\n",
              "      <td>0.000000</td>\n",
              "      <td>0.000000</td>\n",
              "      <td>1.000000</td>\n",
              "      <td>1.000000</td>\n",
              "      <td>1.000000</td>\n",
              "      <td>0.000000</td>\n",
              "      <td>0.000000</td>\n",
              "      <td>0.000000</td>\n",
              "      <td>1.000000</td>\n",
              "      <td>1.000000</td>\n",
              "      <td>5.000000</td>\n",
              "    </tr>\n",
              "    <tr>\n",
              "      <th>75%</th>\n",
              "      <td>393.000000</td>\n",
              "      <td>4.000000</td>\n",
              "      <td>-0.198305</td>\n",
              "      <td>-78.479424</td>\n",
              "      <td>4.500000</td>\n",
              "      <td>3.000000</td>\n",
              "      <td>1.000000</td>\n",
              "      <td>1.000000</td>\n",
              "      <td>1.000000</td>\n",
              "      <td>1.000000</td>\n",
              "      <td>1.000000</td>\n",
              "      <td>1.000000</td>\n",
              "      <td>1.000000</td>\n",
              "      <td>1.000000</td>\n",
              "      <td>1.000000</td>\n",
              "      <td>1.000000</td>\n",
              "      <td>1.000000</td>\n",
              "      <td>1.000000</td>\n",
              "      <td>1.000000</td>\n",
              "      <td>1.000000</td>\n",
              "      <td>1.000000</td>\n",
              "      <td>1.000000</td>\n",
              "      <td>1.000000</td>\n",
              "      <td>5.000000</td>\n",
              "    </tr>\n",
              "    <tr>\n",
              "      <th>max</th>\n",
              "      <td>481.000000</td>\n",
              "      <td>5.000000</td>\n",
              "      <td>-0.183650</td>\n",
              "      <td>-78.477604</td>\n",
              "      <td>4.600000</td>\n",
              "      <td>3.000000</td>\n",
              "      <td>1.000000</td>\n",
              "      <td>1.000000</td>\n",
              "      <td>1.000000</td>\n",
              "      <td>1.000000</td>\n",
              "      <td>1.000000</td>\n",
              "      <td>1.000000</td>\n",
              "      <td>1.000000</td>\n",
              "      <td>1.000000</td>\n",
              "      <td>1.000000</td>\n",
              "      <td>1.000000</td>\n",
              "      <td>1.000000</td>\n",
              "      <td>1.000000</td>\n",
              "      <td>1.000000</td>\n",
              "      <td>1.000000</td>\n",
              "      <td>1.000000</td>\n",
              "      <td>1.000000</td>\n",
              "      <td>1.000000</td>\n",
              "      <td>5.000000</td>\n",
              "    </tr>\n",
              "  </tbody>\n",
              "</table>\n",
              "</div>"
            ],
            "text/plain": [
              "       id_restaurante       tipo    latitud  ...         te     gustar        cat\n",
              "count       42.000000  42.000000  42.000000  ...  42.000000  42.000000  42.000000\n",
              "mean       253.428571   3.000000  -0.201763  ...   0.666667   0.619048   4.928571\n",
              "std        167.846495   1.481594   0.006700  ...   0.477119   0.491507   0.260661\n",
              "min         11.000000   1.000000  -0.210622  ...   0.000000   0.000000   4.000000\n",
              "25%         86.000000   2.000000  -0.206758  ...   0.000000   0.000000   5.000000\n",
              "50%        296.500000   3.000000  -0.202706  ...   1.000000   1.000000   5.000000\n",
              "75%        393.000000   4.000000  -0.198305  ...   1.000000   1.000000   5.000000\n",
              "max        481.000000   5.000000  -0.183650  ...   1.000000   1.000000   5.000000\n",
              "\n",
              "[8 rows x 24 columns]"
            ]
          },
          "metadata": {
            "tags": []
          },
          "execution_count": 37
        }
      ]
    },
    {
      "cell_type": "markdown",
      "metadata": {
        "id": "NJQLZ3Hsk7hu",
        "colab_type": "text"
      },
      "source": [
        "# **3. Correlaciones entre variables**"
      ]
    },
    {
      "cell_type": "markdown",
      "metadata": {
        "id": "2nKoRm_7laTo",
        "colab_type": "text"
      },
      "source": [
        "## **3.1 Grafica de Correlaciones**\n",
        "Se Crea una funcion para graficar la correlacion en un mapa de calor"
      ]
    },
    {
      "cell_type": "code",
      "metadata": {
        "id": "0GGorpfPuWTL",
        "colab_type": "code",
        "outputId": "bfb2ff86-40c1-4f7a-9dd3-ebdef40f278e",
        "colab": {
          "base_uri": "https://localhost:8080/"
        }
      },
      "source": [
        "def dibuja_Correlacion(df):\n",
        "  sns.set(style=\"white\",font_scale=0.75)\n",
        "  corr = df.corr('pearson')\n",
        "  sns.heatmap(corr, \n",
        "            xticklabels=corr.columns.values, \n",
        "            yticklabels=corr.columns.values, \n",
        "            cmap=\"YlGnBu\",\n",
        "            annot=True,\n",
        "            center=0,)\n",
        "dibuja_Correlacion(data)"
      ],
      "execution_count": 0,
      "outputs": [
        {
          "output_type": "display_data",
          "data": {
            "image/png": "[encoded data removed]",
            "text/plain": [
              "<Figure size 432x288 with 2 Axes>"
            ]
          },
          "metadata": {
            "tags": []
          }
        }
      ]
    },
    {
      "cell_type": "markdown",
      "metadata": {
        "id": "oUWs2ecVmCIa",
        "colab_type": "text"
      },
      "source": [
        "**Conclusion:** Se va a analizar en 2 diferentes bloques. y se elimina la variable fast_food  \n",
        "*Bloque1:* id_restaurante, tipo, latitud, longitud, rating, price level, gustar y cat  \n",
        "*Bloque 2:* id_persona, genero, ambiente, vegetariana, carne, pollo, pez, lacteos, mariscos, menu, menestra, jugo, gaseosa, cafe, te, gustar"
      ]
    },
    {
      "cell_type": "code",
      "metadata": {
        "id": "fNZZw6Tbl1AR",
        "colab_type": "code",
        "outputId": "dd03c11d-9543-448c-956b-bbf40d2da2cf",
        "colab": {
          "base_uri": "https://localhost:8080/"
        }
      },
      "source": [
        "bloque1=data[['id_restaurante', 'tipo', 'latitud', 'longitud', 'raiting', 'price_level', 'gustar', 'cat']]\n",
        "dibuja_Correlacion(bloque1)"
      ],
      "execution_count": 0,
      "outputs": [
        {
          "output_type": "display_data",
          "data": {
            "image/png": "[encoded data removed]",
            "text/plain": [
              "<Figure size 432x288 with 2 Axes>"
            ]
          },
          "metadata": {
            "tags": []
          }
        }
      ]
    },
    {
      "cell_type": "code",
      "metadata": {
        "id": "X12RrvSRmJfE",
        "colab_type": "code",
        "outputId": "e3d75bca-26d0-4a7c-d6e2-42e00bfc6a42",
        "colab": {
          "base_uri": "https://localhost:8080/"
        }
      },
      "source": [
        "bloque2=data.drop(['id_restaurante', 'tipo', 'latitud', 'longitud', 'raiting', 'price_level', 'cat'],axis=1)\n",
        "dibuja_Correlacion(bloque2)"
      ],
      "execution_count": 0,
      "outputs": [
        {
          "output_type": "display_data",
          "data": {
            "image/png": "[encoded data removed]",
            "text/plain": [
              "<Figure size 432x288 with 2 Axes>"
            ]
          },
          "metadata": {
            "tags": []
          }
        }
      ]
    },
    {
      "cell_type": "code",
      "metadata": {
        "id": "1xK5joDKma1l",
        "colab_type": "code",
        "outputId": "a9ba496d-a91f-492f-e399-85cb5db792dc",
        "colab": {
          "base_uri": "https://localhost:8080/"
        }
      },
      "source": [
        "corr = data.corr()\n",
        "corr[['gustar']].sort_values(by = 'gustar',ascending = False).style.background_gradient()"
      ],
      "execution_count": 0,
      "outputs": [
        {
          "output_type": "execute_result",
          "data": {
            "text/html": [
              "<style  type=\"text/css\" >\n",
              "    #T_8e087a60_9ca1_11ea_baec_0242ac1c0002row0_col0 {\n",
              "            background-color:  #023858;\n",
              "            color:  #f1f1f1;\n",
              "        }    #T_8e087a60_9ca1_11ea_baec_0242ac1c0002row1_col0 {\n",
              "            background-color:  #1379b5;\n",
              "            color:  #f1f1f1;\n",
              "        }    #T_8e087a60_9ca1_11ea_baec_0242ac1c0002row2_col0 {\n",
              "            background-color:  #1379b5;\n",
              "            color:  #f1f1f1;\n",
              "        }    #T_8e087a60_9ca1_11ea_baec_0242ac1c0002row3_col0 {\n",
              "            background-color:  #4094c3;\n",
              "            color:  #000000;\n",
              "        }    #T_8e087a60_9ca1_11ea_baec_0242ac1c0002row4_col0 {\n",
              "            background-color:  #4094c3;\n",
              "            color:  #000000;\n",
              "        }    #T_8e087a60_9ca1_11ea_baec_0242ac1c0002row5_col0 {\n",
              "            background-color:  #81aed2;\n",
              "            color:  #000000;\n",
              "        }    #T_8e087a60_9ca1_11ea_baec_0242ac1c0002row6_col0 {\n",
              "            background-color:  #acc0dd;\n",
              "            color:  #000000;\n",
              "        }    #T_8e087a60_9ca1_11ea_baec_0242ac1c0002row7_col0 {\n",
              "            background-color:  #b3c3de;\n",
              "            color:  #000000;\n",
              "        }    #T_8e087a60_9ca1_11ea_baec_0242ac1c0002row8_col0 {\n",
              "            background-color:  #bbc7e0;\n",
              "            color:  #000000;\n",
              "        }    #T_8e087a60_9ca1_11ea_baec_0242ac1c0002row9_col0 {\n",
              "            background-color:  #c6cce3;\n",
              "            color:  #000000;\n",
              "        }    #T_8e087a60_9ca1_11ea_baec_0242ac1c0002row10_col0 {\n",
              "            background-color:  #d0d1e6;\n",
              "            color:  #000000;\n",
              "        }    #T_8e087a60_9ca1_11ea_baec_0242ac1c0002row11_col0 {\n",
              "            background-color:  #d2d2e7;\n",
              "            color:  #000000;\n",
              "        }    #T_8e087a60_9ca1_11ea_baec_0242ac1c0002row12_col0 {\n",
              "            background-color:  #d2d2e7;\n",
              "            color:  #000000;\n",
              "        }    #T_8e087a60_9ca1_11ea_baec_0242ac1c0002row13_col0 {\n",
              "            background-color:  #d2d2e7;\n",
              "            color:  #000000;\n",
              "        }    #T_8e087a60_9ca1_11ea_baec_0242ac1c0002row14_col0 {\n",
              "            background-color:  #d2d2e7;\n",
              "            color:  #000000;\n",
              "        }    #T_8e087a60_9ca1_11ea_baec_0242ac1c0002row15_col0 {\n",
              "            background-color:  #dddbec;\n",
              "            color:  #000000;\n",
              "        }    #T_8e087a60_9ca1_11ea_baec_0242ac1c0002row16_col0 {\n",
              "            background-color:  #dfddec;\n",
              "            color:  #000000;\n",
              "        }    #T_8e087a60_9ca1_11ea_baec_0242ac1c0002row17_col0 {\n",
              "            background-color:  #eee9f3;\n",
              "            color:  #000000;\n",
              "        }    #T_8e087a60_9ca1_11ea_baec_0242ac1c0002row18_col0 {\n",
              "            background-color:  #fff7fb;\n",
              "            color:  #000000;\n",
              "        }    #T_8e087a60_9ca1_11ea_baec_0242ac1c0002row19_col0 {\n",
              "            background-color:  #fff7fb;\n",
              "            color:  #000000;\n",
              "        }    #T_8e087a60_9ca1_11ea_baec_0242ac1c0002row20_col0 {\n",
              "            background-color:  #fff7fb;\n",
              "            color:  #000000;\n",
              "        }    #T_8e087a60_9ca1_11ea_baec_0242ac1c0002row21_col0 {\n",
              "            background-color:  #fff7fb;\n",
              "            color:  #000000;\n",
              "        }    #T_8e087a60_9ca1_11ea_baec_0242ac1c0002row22_col0 {\n",
              "            background-color:  #fff7fb;\n",
              "            color:  #000000;\n",
              "        }    #T_8e087a60_9ca1_11ea_baec_0242ac1c0002row23_col0 {\n",
              "            background-color:  #fff7fb;\n",
              "            color:  #000000;\n",
              "        }</style><table id=\"T_8e087a60_9ca1_11ea_baec_0242ac1c0002\" ><thead>    <tr>        <th class=\"blank level0\" ></th>        <th class=\"col_heading level0 col0\" >gustar</th>    </tr></thead><tbody>\n",
              "                <tr>\n",
              "                        <th id=\"T_8e087a60_9ca1_11ea_baec_0242ac1c0002level0_row0\" class=\"row_heading level0 row0\" >gustar</th>\n",
              "                        <td id=\"T_8e087a60_9ca1_11ea_baec_0242ac1c0002row0_col0\" class=\"data row0 col0\" >1.000000</td>\n",
              "            </tr>\n",
              "            <tr>\n",
              "                        <th id=\"T_8e087a60_9ca1_11ea_baec_0242ac1c0002level0_row1\" class=\"row_heading level0 row1\" >menu</th>\n",
              "                        <td id=\"T_8e087a60_9ca1_11ea_baec_0242ac1c0002row1_col0\" class=\"data row1 col0\" >0.554700</td>\n",
              "            </tr>\n",
              "            <tr>\n",
              "                        <th id=\"T_8e087a60_9ca1_11ea_baec_0242ac1c0002level0_row2\" class=\"row_heading level0 row2\" >vegetariana</th>\n",
              "                        <td id=\"T_8e087a60_9ca1_11ea_baec_0242ac1c0002row2_col0\" class=\"data row2 col0\" >0.554700</td>\n",
              "            </tr>\n",
              "            <tr>\n",
              "                        <th id=\"T_8e087a60_9ca1_11ea_baec_0242ac1c0002level0_row3\" class=\"row_heading level0 row3\" >ambiente</th>\n",
              "                        <td id=\"T_8e087a60_9ca1_11ea_baec_0242ac1c0002row3_col0\" class=\"data row3 col0\" >0.381356</td>\n",
              "            </tr>\n",
              "            <tr>\n",
              "                        <th id=\"T_8e087a60_9ca1_11ea_baec_0242ac1c0002level0_row4\" class=\"row_heading level0 row4\" >te</th>\n",
              "                        <td id=\"T_8e087a60_9ca1_11ea_baec_0242ac1c0002row4_col0\" class=\"data row4 col0\" >0.381356</td>\n",
              "            </tr>\n",
              "            <tr>\n",
              "                        <th id=\"T_8e087a60_9ca1_11ea_baec_0242ac1c0002level0_row5\" class=\"row_heading level0 row5\" >jugo</th>\n",
              "                        <td id=\"T_8e087a60_9ca1_11ea_baec_0242ac1c0002row5_col0\" class=\"data row5 col0\" >0.173344</td>\n",
              "            </tr>\n",
              "            <tr>\n",
              "                        <th id=\"T_8e087a60_9ca1_11ea_baec_0242ac1c0002level0_row6\" class=\"row_heading level0 row6\" >id_restaurante</th>\n",
              "                        <td id=\"T_8e087a60_9ca1_11ea_baec_0242ac1c0002row6_col0\" class=\"data row6 col0\" >-0.001520</td>\n",
              "            </tr>\n",
              "            <tr>\n",
              "                        <th id=\"T_8e087a60_9ca1_11ea_baec_0242ac1c0002level0_row7\" class=\"row_heading level0 row7\" >cat</th>\n",
              "                        <td id=\"T_8e087a60_9ca1_11ea_baec_0242ac1c0002row7_col0\" class=\"data row7 col0\" >-0.027196</td>\n",
              "            </tr>\n",
              "            <tr>\n",
              "                        <th id=\"T_8e087a60_9ca1_11ea_baec_0242ac1c0002level0_row8\" class=\"row_heading level0 row8\" >tipo</th>\n",
              "                        <td id=\"T_8e087a60_9ca1_11ea_baec_0242ac1c0002row8_col0\" class=\"data row8 col0\" >-0.066986</td>\n",
              "            </tr>\n",
              "            <tr>\n",
              "                        <th id=\"T_8e087a60_9ca1_11ea_baec_0242ac1c0002level0_row9\" class=\"row_heading level0 row9\" >longitud</th>\n",
              "                        <td id=\"T_8e087a60_9ca1_11ea_baec_0242ac1c0002row9_col0\" class=\"data row9 col0\" >-0.118607</td>\n",
              "            </tr>\n",
              "            <tr>\n",
              "                        <th id=\"T_8e087a60_9ca1_11ea_baec_0242ac1c0002level0_row10\" class=\"row_heading level0 row10\" >latitud</th>\n",
              "                        <td id=\"T_8e087a60_9ca1_11ea_baec_0242ac1c0002row10_col0\" class=\"data row10 col0\" >-0.164414</td>\n",
              "            </tr>\n",
              "            <tr>\n",
              "                        <th id=\"T_8e087a60_9ca1_11ea_baec_0242ac1c0002level0_row11\" class=\"row_heading level0 row11\" >pez</th>\n",
              "                        <td id=\"T_8e087a60_9ca1_11ea_baec_0242ac1c0002row11_col0\" class=\"data row11 col0\" >-0.173344</td>\n",
              "            </tr>\n",
              "            <tr>\n",
              "                        <th id=\"T_8e087a60_9ca1_11ea_baec_0242ac1c0002level0_row12\" class=\"row_heading level0 row12\" >mariscos</th>\n",
              "                        <td id=\"T_8e087a60_9ca1_11ea_baec_0242ac1c0002row12_col0\" class=\"data row12 col0\" >-0.173344</td>\n",
              "            </tr>\n",
              "            <tr>\n",
              "                        <th id=\"T_8e087a60_9ca1_11ea_baec_0242ac1c0002level0_row13\" class=\"row_heading level0 row13\" >gaseosa</th>\n",
              "                        <td id=\"T_8e087a60_9ca1_11ea_baec_0242ac1c0002row13_col0\" class=\"data row13 col0\" >-0.173344</td>\n",
              "            </tr>\n",
              "            <tr>\n",
              "                        <th id=\"T_8e087a60_9ca1_11ea_baec_0242ac1c0002level0_row14\" class=\"row_heading level0 row14\" >bebida</th>\n",
              "                        <td id=\"T_8e087a60_9ca1_11ea_baec_0242ac1c0002row14_col0\" class=\"data row14 col0\" >-0.173344</td>\n",
              "            </tr>\n",
              "            <tr>\n",
              "                        <th id=\"T_8e087a60_9ca1_11ea_baec_0242ac1c0002level0_row15\" class=\"row_heading level0 row15\" >price_level</th>\n",
              "                        <td id=\"T_8e087a60_9ca1_11ea_baec_0242ac1c0002row15_col0\" class=\"data row15 col0\" >-0.254347</td>\n",
              "            </tr>\n",
              "            <tr>\n",
              "                        <th id=\"T_8e087a60_9ca1_11ea_baec_0242ac1c0002level0_row16\" class=\"row_heading level0 row16\" >raiting</th>\n",
              "                        <td id=\"T_8e087a60_9ca1_11ea_baec_0242ac1c0002row16_col0\" class=\"data row16 col0\" >-0.267946</td>\n",
              "            </tr>\n",
              "            <tr>\n",
              "                        <th id=\"T_8e087a60_9ca1_11ea_baec_0242ac1c0002level0_row17\" class=\"row_heading level0 row17\" >cafe</th>\n",
              "                        <td id=\"T_8e087a60_9ca1_11ea_baec_0242ac1c0002row17_col0\" class=\"data row17 col0\" >-0.381356</td>\n",
              "            </tr>\n",
              "            <tr>\n",
              "                        <th id=\"T_8e087a60_9ca1_11ea_baec_0242ac1c0002level0_row18\" class=\"row_heading level0 row18\" >genero</th>\n",
              "                        <td id=\"T_8e087a60_9ca1_11ea_baec_0242ac1c0002row18_col0\" class=\"data row18 col0\" >-0.554700</td>\n",
              "            </tr>\n",
              "            <tr>\n",
              "                        <th id=\"T_8e087a60_9ca1_11ea_baec_0242ac1c0002level0_row19\" class=\"row_heading level0 row19\" >carne</th>\n",
              "                        <td id=\"T_8e087a60_9ca1_11ea_baec_0242ac1c0002row19_col0\" class=\"data row19 col0\" >-0.554700</td>\n",
              "            </tr>\n",
              "            <tr>\n",
              "                        <th id=\"T_8e087a60_9ca1_11ea_baec_0242ac1c0002level0_row20\" class=\"row_heading level0 row20\" >pollo</th>\n",
              "                        <td id=\"T_8e087a60_9ca1_11ea_baec_0242ac1c0002row20_col0\" class=\"data row20 col0\" >-0.554700</td>\n",
              "            </tr>\n",
              "            <tr>\n",
              "                        <th id=\"T_8e087a60_9ca1_11ea_baec_0242ac1c0002level0_row21\" class=\"row_heading level0 row21\" >comida_rapida</th>\n",
              "                        <td id=\"T_8e087a60_9ca1_11ea_baec_0242ac1c0002row21_col0\" class=\"data row21 col0\" >-0.554700</td>\n",
              "            </tr>\n",
              "            <tr>\n",
              "                        <th id=\"T_8e087a60_9ca1_11ea_baec_0242ac1c0002level0_row22\" class=\"row_heading level0 row22\" >menestra</th>\n",
              "                        <td id=\"T_8e087a60_9ca1_11ea_baec_0242ac1c0002row22_col0\" class=\"data row22 col0\" >-0.554700</td>\n",
              "            </tr>\n",
              "            <tr>\n",
              "                        <th id=\"T_8e087a60_9ca1_11ea_baec_0242ac1c0002level0_row23\" class=\"row_heading level0 row23\" >lacteos</th>\n",
              "                        <td id=\"T_8e087a60_9ca1_11ea_baec_0242ac1c0002row23_col0\" class=\"data row23 col0\" >-0.554700</td>\n",
              "            </tr>\n",
              "    </tbody></table>"
            ],
            "text/plain": [
              "<pandas.io.formats.style.Styler at 0x7f21fb895048>"
            ]
          },
          "metadata": {
            "tags": []
          },
          "execution_count": 41
        }
      ]
    },
    {
      "cell_type": "markdown",
      "metadata": {
        "id": "jcxlpwzOm-93",
        "colab_type": "text"
      },
      "source": [
        "## **3.2 Datos Finales**\n",
        "Se eliminan las variables poco correlacionadas y se crea una copia Original"
      ]
    },
    {
      "cell_type": "code",
      "metadata": {
        "id": "xU6PEQhEnFrD",
        "colab_type": "code",
        "colab": {}
      },
      "source": [
        "se_elimina=[\n",
        "            'jugo',\n",
        "            'id_restaurante',\n",
        "            'cat',\n",
        "            'tipo',\n",
        "            'longitud',\n",
        "            'latitud',\n",
        "            'pez',\n",
        "            'mariscos',\n",
        "            'gaseosa',\n",
        "            'bebida',\n",
        "            'price_level',\n",
        "            'raiting',   \n",
        "            'cafe',\n",
        "            'te',         \n",
        "            ]\n",
        "data.drop(se_elimina,axis=1,inplace=True)\n",
        "data_original=data.copy()\n",
        "data_original.to_csv('GG_data.csv')"
      ],
      "execution_count": 0,
      "outputs": []
    },
    {
      "cell_type": "markdown",
      "metadata": {
        "colab_type": "text",
        "id": "cViG0b_zGId7"
      },
      "source": [
        "### *3.2.1 Resumen y verificacion de Datos*"
      ]
    },
    {
      "cell_type": "code",
      "metadata": {
        "colab_type": "code",
        "id": "2qMXy-n0GDQ1",
        "outputId": "f2974178-7369-4eb9-8e37-9d92e126b566",
        "colab": {
          "base_uri": "https://localhost:8080/",
          "height": 370
        }
      },
      "source": [
        "def print_prob(df,variable):\n",
        "  cont_vive=len(df[df[variable]==1])\n",
        "  cont_no_vive=len(df[df[variable]==0])\n",
        "  cont_total=len(df[variable])\n",
        "  prob_vive=cont_vive/(cont_total)\n",
        "  prob_no_vive=cont_no_vive/(cont_total)\n",
        "\n",
        "  print('probabilidad de ',variable,' ', prob_vive*100,'%')\n",
        "  print('probabilidad de NO',variable,' ', prob_no_vive*100,'%')\n",
        "\n",
        "def resumen_datos(df,variable):\n",
        "  print(\"El total de Datos es \",len(df))\n",
        "  print(\"Numero de \",variable,' ',len(df[df[variable]==1]))\n",
        "  print(\"Numero de NO\",variable,' ',len(df[df[variable]==0]))\n",
        "  print_prob(df,variable)\n",
        "  sns.countplot(x=variable,data=df)\n",
        "\n",
        "resumen_datos(data,'gustar')"
      ],
      "execution_count": 0,
      "outputs": [
        {
          "output_type": "stream",
          "text": [
            "El total de Datos es  42\n",
            "Numero de  gustar   26\n",
            "Numero de NO gustar   16\n",
            "probabilidad de  gustar   61.904761904761905 %\n",
            "probabilidad de NO gustar   38.095238095238095 %\n"
          ],
          "name": "stdout"
        },
        {
          "output_type": "display_data",
          "data": {
            "image/png": "[encoded data removed]",
            "text/plain": [
              "<Figure size 432x288 with 1 Axes>"
            ]
          },
          "metadata": {
            "tags": []
          }
        }
      ]
    },
    {
      "cell_type": "markdown",
      "metadata": {
        "colab_type": "text",
        "id": "En7wtUzsGDRs"
      },
      "source": [
        "### *3.2.2 Separamiento de datos de entrenamiento y test*\n",
        "Por la cantidad de datos, se ejecuta el codigo hasta que las probabilidades sean similares al resumen de datos completo"
      ]
    },
    {
      "cell_type": "code",
      "metadata": {
        "colab_type": "code",
        "id": "93E422-yGDRz",
        "outputId": "6fbb8a65-1282-4b7d-a515-79183dab1f2d",
        "colab": {
          "base_uri": "https://localhost:8080/",
          "height": 457
        }
      },
      "source": [
        "while True:\n",
        "  msk = np.random.rand(len(data)) < 0.7\n",
        "  data_train = data[msk]\n",
        "  data_test = data[~msk]\n",
        "  \n",
        "  if len(data_train[data_train['gustar']==1])==18 and len(data_train[data_train['gustar']==0])==11 :\n",
        "    break\n",
        "\n",
        "resumen_datos(data_train,'gustar')\n",
        "resumen_datos(data_test,'gustar')"
      ],
      "execution_count": 0,
      "outputs": [
        {
          "output_type": "stream",
          "text": [
            "El total de Datos es  29\n",
            "Numero de  gustar   18\n",
            "Numero de NO gustar   11\n",
            "probabilidad de  gustar   62.06896551724138 %\n",
            "probabilidad de NO gustar   37.93103448275862 %\n",
            "El total de Datos es  13\n",
            "Numero de  gustar   8\n",
            "Numero de NO gustar   5\n",
            "probabilidad de  gustar   61.53846153846154 %\n",
            "probabilidad de NO gustar   38.46153846153847 %\n"
          ],
          "name": "stdout"
        },
        {
          "output_type": "display_data",
          "data": {
            "image/png": "[encoded data removed]",
            "text/plain": [
              "<Figure size 432x288 with 1 Axes>"
            ]
          },
          "metadata": {
            "tags": []
          }
        }
      ]
    },
    {
      "cell_type": "markdown",
      "metadata": {
        "colab_type": "text",
        "id": "ij1ldUagGDSS"
      },
      "source": [
        "### *3.2.3 Separamiento de Y y X de un dataset*"
      ]
    },
    {
      "cell_type": "code",
      "metadata": {
        "colab_type": "code",
        "id": "MYq1k4r3GDSX",
        "colab": {}
      },
      "source": [
        "def obtener_YX(df,variableY):\n",
        "  X = df.loc[:, df.columns != variableY]\n",
        "  Y = df.loc[:, df.columns == variableY]\n",
        "  return(Y,X)"
      ],
      "execution_count": 0,
      "outputs": []
    },
    {
      "cell_type": "markdown",
      "metadata": {
        "id": "5DtUJyOfFy2g",
        "colab_type": "text"
      },
      "source": [
        "# **4. Regresion Logistica**"
      ]
    },
    {
      "cell_type": "markdown",
      "metadata": {
        "id": "nmLYO6KWrQQA",
        "colab_type": "text"
      },
      "source": [
        "## **4.4 Sobremuestreo de Datos**\n",
        "Debido a que los datos totales muestran una probabilidad cercanas a 60% y 40%, se realiza un sobremuestreo de datos para que las probabilidades se igualen"
      ]
    },
    {
      "cell_type": "code",
      "metadata": {
        "id": "p57u3fSTrOin",
        "colab_type": "code",
        "outputId": "81397359-a587-4b6a-d619-8a5e7b2272fd",
        "colab": {
          "base_uri": "https://localhost:8080/",
          "height": 106
        }
      },
      "source": [
        "os = SMOTE(random_state=0)\n",
        "\n",
        "Y_train,X_train=obtener_YX(data_train,'gustar')\n",
        "\n",
        "#X_train.drop(['id_restaurante', 'tipo', 'latitud', 'longitud', 'raiting', 'price_level', 'cat'],axis=1,inplace=True)\n",
        "\n",
        "os_data_X,os_data_Y=os.fit_sample(X_train, Y_train)\n",
        "os_data_X = pd.DataFrame(data=os_data_X,columns=X_train.columns)\n",
        "os_data_Y = pd.DataFrame(data=os_data_Y,columns=Y_train.columns)"
      ],
      "execution_count": 0,
      "outputs": [
        {
          "output_type": "stream",
          "text": [
            "/usr/local/lib/python3.6/dist-packages/sklearn/utils/validation.py:760: DataConversionWarning: A column-vector y was passed when a 1d array was expected. Please change the shape of y to (n_samples, ), for example using ravel().\n",
            "  y = column_or_1d(y, warn=True)\n",
            "/usr/local/lib/python3.6/dist-packages/sklearn/utils/deprecation.py:87: FutureWarning: Function safe_indexing is deprecated; safe_indexing is deprecated in version 0.22 and will be removed in version 0.24.\n",
            "  warnings.warn(msg, category=FutureWarning)\n"
          ],
          "name": "stderr"
        }
      ]
    },
    {
      "cell_type": "code",
      "metadata": {
        "id": "hPibGf01p-YD",
        "colab_type": "code",
        "outputId": "567d23fc-7d8b-416a-b050-1114e9cd6798",
        "colab": {
          "base_uri": "https://localhost:8080/",
          "height": 370
        }
      },
      "source": [
        "resumen_datos(os_data_Y,'gustar')\n"
      ],
      "execution_count": 0,
      "outputs": [
        {
          "output_type": "stream",
          "text": [
            "El total de Datos es  36\n",
            "Numero de  gustar   18\n",
            "Numero de NO gustar   18\n",
            "probabilidad de  gustar   50.0 %\n",
            "probabilidad de NO gustar   50.0 %\n"
          ],
          "name": "stdout"
        },
        {
          "output_type": "display_data",
          "data": {
            "image/png": "[encoded data removed]",
            "text/plain": [
              "<Figure size 432x288 with 1 Axes>"
            ]
          },
          "metadata": {
            "tags": []
          }
        }
      ]
    },
    {
      "cell_type": "markdown",
      "metadata": {
        "id": "LT1jEBANvZaL",
        "colab_type": "text"
      },
      "source": [
        "## **4.5 Verificacion de Datos Utiles para la Regresion Logistica**"
      ]
    },
    {
      "cell_type": "code",
      "metadata": {
        "id": "VatCxZ6rvUoz",
        "colab_type": "code",
        "outputId": "55e6dd0e-081b-48fb-8368-c57232d835e1",
        "colab": {
          "base_uri": "https://localhost:8080/",
          "height": 241
        }
      },
      "source": [
        "logreg = LogisticRegression()\n",
        "rfe = RFE(logreg, 20)\n",
        "rfe = rfe.fit(os_data_X, os_data_Y.values.ravel())\n",
        "print(rfe.support_)\n",
        "print(rfe.ranking_)\n",
        "X_train_LR=X_train[X_train.columns[rfe.support_]]\n",
        "Y_train_LR=Y_train\n",
        "X_train_LR.head()"
      ],
      "execution_count": 0,
      "outputs": [
        {
          "output_type": "stream",
          "text": [
            "[ True  True  True  True  True  True  True  True  True]\n",
            "[1 1 1 1 1 1 1 1 1]\n"
          ],
          "name": "stdout"
        },
        {
          "output_type": "execute_result",
          "data": {
            "text/html": [
              "<div>\n",
              "<style scoped>\n",
              "    .dataframe tbody tr th:only-of-type {\n",
              "        vertical-align: middle;\n",
              "    }\n",
              "\n",
              "    .dataframe tbody tr th {\n",
              "        vertical-align: top;\n",
              "    }\n",
              "\n",
              "    .dataframe thead th {\n",
              "        text-align: right;\n",
              "    }\n",
              "</style>\n",
              "<table border=\"1\" class=\"dataframe\">\n",
              "  <thead>\n",
              "    <tr style=\"text-align: right;\">\n",
              "      <th></th>\n",
              "      <th>genero</th>\n",
              "      <th>ambiente</th>\n",
              "      <th>vegetariana</th>\n",
              "      <th>carne</th>\n",
              "      <th>pollo</th>\n",
              "      <th>lacteos</th>\n",
              "      <th>menu</th>\n",
              "      <th>comida_rapida</th>\n",
              "      <th>menestra</th>\n",
              "    </tr>\n",
              "  </thead>\n",
              "  <tbody>\n",
              "    <tr>\n",
              "      <th>1</th>\n",
              "      <td>1</td>\n",
              "      <td>1</td>\n",
              "      <td>0</td>\n",
              "      <td>1</td>\n",
              "      <td>1</td>\n",
              "      <td>1</td>\n",
              "      <td>0</td>\n",
              "      <td>1</td>\n",
              "      <td>1</td>\n",
              "    </tr>\n",
              "    <tr>\n",
              "      <th>2</th>\n",
              "      <td>1</td>\n",
              "      <td>1</td>\n",
              "      <td>0</td>\n",
              "      <td>1</td>\n",
              "      <td>1</td>\n",
              "      <td>1</td>\n",
              "      <td>0</td>\n",
              "      <td>1</td>\n",
              "      <td>1</td>\n",
              "    </tr>\n",
              "    <tr>\n",
              "      <th>3</th>\n",
              "      <td>1</td>\n",
              "      <td>1</td>\n",
              "      <td>0</td>\n",
              "      <td>1</td>\n",
              "      <td>1</td>\n",
              "      <td>1</td>\n",
              "      <td>0</td>\n",
              "      <td>1</td>\n",
              "      <td>1</td>\n",
              "    </tr>\n",
              "    <tr>\n",
              "      <th>5</th>\n",
              "      <td>1</td>\n",
              "      <td>1</td>\n",
              "      <td>0</td>\n",
              "      <td>1</td>\n",
              "      <td>1</td>\n",
              "      <td>1</td>\n",
              "      <td>0</td>\n",
              "      <td>1</td>\n",
              "      <td>1</td>\n",
              "    </tr>\n",
              "    <tr>\n",
              "      <th>6</th>\n",
              "      <td>1</td>\n",
              "      <td>1</td>\n",
              "      <td>0</td>\n",
              "      <td>1</td>\n",
              "      <td>1</td>\n",
              "      <td>1</td>\n",
              "      <td>0</td>\n",
              "      <td>1</td>\n",
              "      <td>1</td>\n",
              "    </tr>\n",
              "  </tbody>\n",
              "</table>\n",
              "</div>"
            ],
            "text/plain": [
              "   genero  ambiente  vegetariana  carne  ...  lacteos  menu  comida_rapida  menestra\n",
              "1       1         1            0      1  ...        1     0              1         1\n",
              "2       1         1            0      1  ...        1     0              1         1\n",
              "3       1         1            0      1  ...        1     0              1         1\n",
              "5       1         1            0      1  ...        1     0              1         1\n",
              "6       1         1            0      1  ...        1     0              1         1\n",
              "\n",
              "[5 rows x 9 columns]"
            ]
          },
          "metadata": {
            "tags": []
          },
          "execution_count": 48
        }
      ]
    },
    {
      "cell_type": "code",
      "metadata": {
        "id": "hlJQuIQtwoPF",
        "colab_type": "code",
        "outputId": "d52963ca-e7f0-4509-f351-fd2e4c7141ae",
        "colab": {
          "base_uri": "https://localhost:8080/",
          "height": 86
        }
      },
      "source": [
        "\"\"\"\n",
        "METODOS:\n",
        "  newton ---> for Newton-Raphson, ‘nm’ for Nelder-Mead\n",
        "\n",
        "  bfgs ---> for Broyden-Fletcher-Goldfarb-Shanno (BFGS)\n",
        "\n",
        "  lbfgs ---> for limited-memory BFGS with optional box constraints\n",
        "\n",
        "  powell ---> for modified Powell’s method\n",
        "\n",
        "  cg ---> for conjugate gradient\n",
        "\n",
        "  ncg ---> for Newton-conjugate gradient\n",
        "\n",
        "  basinhopping ---> for global basin-hopping solver\n",
        "\n",
        "  minimize ---> for generic wrapper of scipy minimize (BFGS by default)\n",
        "\"\"\"\n",
        "metodo_LR='newton'\n",
        "try:\n",
        "  logit_model=sm.Logit(Y_train_LR,X_train_LR)#.drop(se_elimina,axis=1))\n",
        "  result=logit_model.fit(method=metodo_LR)\n",
        "  print(result.summary2())\n",
        "except:\n",
        "  print(\"Error por datos -----> Matriz Singular\") \n"
      ],
      "execution_count": 0,
      "outputs": [
        {
          "output_type": "stream",
          "text": [
            "Optimization terminated successfully.\n",
            "         Current function value: 0.461826\n",
            "         Iterations 33\n",
            "Error por datos -----> Matriz Singular\n"
          ],
          "name": "stdout"
        }
      ]
    },
    {
      "cell_type": "code",
      "metadata": {
        "id": "jVbPFKQSwlOh",
        "colab_type": "code",
        "outputId": "725d29bc-2948-4254-8185-c5928033b7f6",
        "colab": {
          "base_uri": "https://localhost:8080/",
          "height": 86
        }
      },
      "source": [
        "se_elimina=[\n",
        "            #'tipo',\n",
        "            #'latitud',\n",
        "            #'longitud',\n",
        "            #'raiting',\n",
        "            #'price_level',\n",
        "            #'genero',\n",
        "            #'ambiente',\n",
        "            #'vegetariana',\n",
        "            #'carne',\n",
        "            #'pollo',\n",
        "            #'pez',\n",
        "            #'lacteos',\n",
        "            #'mariscos',\n",
        "            #'menu',\n",
        "            #'comida_rapida',\n",
        "            #'menestra',\n",
        "            #'jugo'\n",
        "            #'gaseosa',\n",
        "            #'bebida',\n",
        "            #'cafe',\n",
        "            #'te',\n",
        "            #'cat',\n",
        "            ]\n",
        "try:\n",
        "  logit_model=sm.Logit(Y_train_LR,X_train_LR)#.drop(se_elimina,axis=1))\n",
        "  result=logit_model.fit(method=metodo_LR)\n",
        "  print(result.summary2())\n",
        "except:\n",
        "  print(\"Error por datos -> Matriz Singular\") \n"
      ],
      "execution_count": 0,
      "outputs": [
        {
          "output_type": "stream",
          "text": [
            "Optimization terminated successfully.\n",
            "         Current function value: 0.461826\n",
            "         Iterations 33\n",
            "Error por datos -> Matriz Singular\n"
          ],
          "name": "stdout"
        }
      ]
    },
    {
      "cell_type": "markdown",
      "metadata": {
        "id": "9Ki2s7rQH2o0",
        "colab_type": "text"
      },
      "source": [
        "## **4.6 Conclusiones**\n",
        "Es necesario una mayor cantidad de datos para que la regresion logistica encuentre un patron, en este caso nos da error de matriz singular de forma aleatoria."
      ]
    },
    {
      "cell_type": "markdown",
      "metadata": {
        "id": "73DMHLGzmqfK",
        "colab_type": "text"
      },
      "source": [
        "# **5. Arbol de Decision**"
      ]
    },
    {
      "cell_type": "markdown",
      "metadata": {
        "id": "q3BRBOXqoLxZ",
        "colab_type": "text"
      },
      "source": [
        "## **5.1 Obtencion de datos de entrenamiento y test**"
      ]
    },
    {
      "cell_type": "code",
      "metadata": {
        "colab_type": "code",
        "id": "_psmVFpRJZs7",
        "colab": {}
      },
      "source": [
        "Y_train,X_train=obtener_YX(data_train,'gustar')\n",
        "Y_test,X_test=obtener_YX(data_test,'gustar')\n",
        "\n"
      ],
      "execution_count": 0,
      "outputs": []
    },
    {
      "cell_type": "markdown",
      "metadata": {
        "id": "RhWx4tvCJoMl",
        "colab_type": "text"
      },
      "source": [
        "## **5.2 Entrenamiento y Obtencion de Resultados**"
      ]
    },
    {
      "cell_type": "code",
      "metadata": {
        "id": "JHbKazseLzfg",
        "colab_type": "code",
        "colab": {}
      },
      "source": [
        "decision_tree = DecisionTreeClassifier() \n",
        "decision_tree_fitted = decision_tree.fit(X_train, Y_train)\n",
        "\n",
        "Y_pred = decision_tree.predict(X_test) "
      ],
      "execution_count": 0,
      "outputs": []
    },
    {
      "cell_type": "code",
      "metadata": {
        "id": "m-No3Pe6MCcC",
        "colab_type": "code",
        "outputId": "0bc79306-a0ce-4e72-b790-19f6f8f24507",
        "colab": {
          "base_uri": "https://localhost:8080/"
        }
      },
      "source": [
        "acc_decision_tree = round(decision_tree.score(X_train, Y_train) * 100, 5)\n",
        "print (\"El accuracy con los datos de entrenamiento es: \\n\",acc_decision_tree)\n",
        "\n",
        "acc_decision_tree_test = round(decision_tree.score(X_test, Y_test) * 100, 5)\n",
        "print (\"El accuracy con los datos de validación es: \\n\",acc_decision_tree_test)"
      ],
      "execution_count": 0,
      "outputs": [
        {
          "output_type": "stream",
          "text": [
            "El accuracy con los datos de entrenamiento es: \n",
            " 72.41379\n",
            "El accuracy con los datos de validación es: \n",
            " 69.23077\n"
          ],
          "name": "stdout"
        }
      ]
    },
    {
      "cell_type": "markdown",
      "metadata": {
        "id": "hME64dRsJ7Of",
        "colab_type": "text"
      },
      "source": [
        "# **6. Random Forest**"
      ]
    },
    {
      "cell_type": "markdown",
      "metadata": {
        "colab_type": "text",
        "id": "WDhBpvJnKEi4"
      },
      "source": [
        "## **6.1 Obtencion de datos de entrenamiento y test**"
      ]
    },
    {
      "cell_type": "code",
      "metadata": {
        "colab_type": "code",
        "id": "UNB7TP8hKEjC",
        "colab": {}
      },
      "source": [
        "Y_train,X_train=obtener_YX(data_train,'gustar')\n",
        "Y_test,X_test=obtener_YX(data_test,'gustar')"
      ],
      "execution_count": 0,
      "outputs": []
    },
    {
      "cell_type": "markdown",
      "metadata": {
        "id": "wuR1ilGdKLq8",
        "colab_type": "text"
      },
      "source": [
        "## **6.2 Entrenamiento y Obtencion de Resultados**"
      ]
    },
    {
      "cell_type": "code",
      "metadata": {
        "id": "apsvWa0JKJTZ",
        "colab_type": "code",
        "outputId": "13c17c58-9438-4a96-b5c3-eeb64aa525ac",
        "colab": {
          "base_uri": "https://localhost:8080/"
        }
      },
      "source": [
        "random_forest = RandomForestClassifier()\n",
        "random_forest.fit(X_train, Y_train)\n",
        "\n",
        "Y_prediction = random_forest.predict(X_test)\n",
        "\n",
        "random_forest.score(X_train, Y_train)\n",
        "\n",
        "\n",
        "acc_random_forest = round(random_forest.score(X_train, Y_train) * 100, 2)\n",
        "print(\"El accuracy con los datos de entrenamiento es: \",acc_random_forest)\n",
        "\n",
        "acc_random_forest_test = round(random_forest.score(X_test, Y_test) * 100, 2)\n",
        "print(\"El accuracy con los datos de validación es: \",acc_random_forest_test)"
      ],
      "execution_count": 0,
      "outputs": [
        {
          "output_type": "stream",
          "text": [
            "/usr/local/lib/python3.6/dist-packages/ipykernel_launcher.py:2: DataConversionWarning: A column-vector y was passed when a 1d array was expected. Please change the shape of y to (n_samples,), for example using ravel().\n",
            "  \n"
          ],
          "name": "stderr"
        },
        {
          "output_type": "stream",
          "text": [
            "El accuracy con los datos de entrenamiento es:  72.41\n",
            "El accuracy con los datos de validación es:  69.23\n"
          ],
          "name": "stdout"
        }
      ]
    },
    {
      "cell_type": "markdown",
      "metadata": {
        "id": "araAKFfKKRUi",
        "colab_type": "text"
      },
      "source": [
        "# **7. Bayes**"
      ]
    },
    {
      "cell_type": "markdown",
      "metadata": {
        "colab_type": "text",
        "id": "MycnLn7dKX1A"
      },
      "source": [
        "## **7.1 Obtencion de datos de entrenamiento y test**"
      ]
    },
    {
      "cell_type": "code",
      "metadata": {
        "colab_type": "code",
        "id": "Vg6PsjVVKX1T",
        "colab": {}
      },
      "source": [
        "Y_train,X_train=obtener_YX(data_train,'gustar')\n",
        "Y_test,X_test=obtener_YX(data_test,'gustar')"
      ],
      "execution_count": 0,
      "outputs": []
    },
    {
      "cell_type": "markdown",
      "metadata": {
        "colab_type": "text",
        "id": "OmPGnxTFKocV"
      },
      "source": [
        "## **7.2 Entrenamiento y Obtencion de Resultados**"
      ]
    },
    {
      "cell_type": "code",
      "metadata": {
        "id": "QFNKBYMlKjw-",
        "colab_type": "code",
        "outputId": "c5eb4c2c-a4e2-41eb-c95d-74f693053645",
        "colab": {
          "base_uri": "https://localhost:8080/",
          "height": 72
        }
      },
      "source": [
        "NB = GaussianNB()\n",
        "NB_ajustado = NB.fit(X_train, Y_train)\n",
        "\n",
        "y_pred = NB_ajustado.predict(X_test)"
      ],
      "execution_count": 0,
      "outputs": [
        {
          "output_type": "stream",
          "text": [
            "/usr/local/lib/python3.6/dist-packages/sklearn/naive_bayes.py:206: DataConversionWarning: A column-vector y was passed when a 1d array was expected. Please change the shape of y to (n_samples, ), for example using ravel().\n",
            "  y = column_or_1d(y, warn=True)\n"
          ],
          "name": "stderr"
        }
      ]
    },
    {
      "cell_type": "code",
      "metadata": {
        "id": "OojHKVegKkVm",
        "colab_type": "code",
        "outputId": "29e92d8a-b07d-4db2-d1a7-a1184fbe2279",
        "colab": {
          "base_uri": "https://localhost:8080/",
          "height": 156
        }
      },
      "source": [
        "cnf_matrix = metrics.confusion_matrix(Y_test, y_pred)\n",
        "print(\"La matriz de confusión es: \\n\",cnf_matrix,\"\\n\")\n",
        "\n",
        "acc_NB = round(NB.score(X_train, Y_train) * 100, 2)\n",
        "print (\"El accuracy de los datos de entrenamiento es: \\n\",acc_NB)\n",
        "\n",
        "acc_NB_test = round(NB.score(X_test, Y_test) * 100, 2)\n",
        "print (\"El accuracy con los datos de validación modelo es: \\n\",acc_NB_test)"
      ],
      "execution_count": 0,
      "outputs": [
        {
          "output_type": "stream",
          "text": [
            "La matriz de confusión es: \n",
            " [[5 0]\n",
            " [3 5]] \n",
            "\n",
            "El accuracy de los datos de entrenamiento es: \n",
            " 68.97\n",
            "El accuracy con los datos de validación modelo es: \n",
            " 76.92\n"
          ],
          "name": "stdout"
        }
      ]
    },
    {
      "cell_type": "markdown",
      "metadata": {
        "id": "OYRBDtPZXR-I",
        "colab_type": "text"
      },
      "source": [
        "# **8. Exportacion del modelo** "
      ]
    },
    {
      "cell_type": "code",
      "metadata": {
        "id": "6igK8ux8Xady",
        "colab_type": "code",
        "colab": {}
      },
      "source": [
        "import pickle\n",
        " \n",
        "pickle_file = open('GG_Bayes.sav', 'wb')\n",
        "pickle.dump(NB_ajustado, pickle_file)\n",
        "pickle_file.close()"
      ],
      "execution_count": 0,
      "outputs": []
    },
    {
      "cell_type": "code",
      "metadata": {
        "id": "YSyKfZP9gSYi",
        "colab_type": "code",
        "outputId": "748341dd-288d-4075-c26c-61d285bb1d38",
        "colab": {
          "base_uri": "https://localhost:8080/",
          "height": 1000
        }
      },
      "source": [
        "data_original"
      ],
      "execution_count": 0,
      "outputs": [
        {
          "output_type": "execute_result",
          "data": {
            "text/html": [
              "<div>\n",
              "<style scoped>\n",
              "    .dataframe tbody tr th:only-of-type {\n",
              "        vertical-align: middle;\n",
              "    }\n",
              "\n",
              "    .dataframe tbody tr th {\n",
              "        vertical-align: top;\n",
              "    }\n",
              "\n",
              "    .dataframe thead th {\n",
              "        text-align: right;\n",
              "    }\n",
              "</style>\n",
              "<table border=\"1\" class=\"dataframe\">\n",
              "  <thead>\n",
              "    <tr style=\"text-align: right;\">\n",
              "      <th></th>\n",
              "      <th>genero</th>\n",
              "      <th>ambiente</th>\n",
              "      <th>vegetariana</th>\n",
              "      <th>carne</th>\n",
              "      <th>pollo</th>\n",
              "      <th>lacteos</th>\n",
              "      <th>menu</th>\n",
              "      <th>comida_rapida</th>\n",
              "      <th>menestra</th>\n",
              "      <th>gustar</th>\n",
              "    </tr>\n",
              "  </thead>\n",
              "  <tbody>\n",
              "    <tr>\n",
              "      <th>0</th>\n",
              "      <td>1</td>\n",
              "      <td>1</td>\n",
              "      <td>0</td>\n",
              "      <td>1</td>\n",
              "      <td>1</td>\n",
              "      <td>1</td>\n",
              "      <td>0</td>\n",
              "      <td>1</td>\n",
              "      <td>1</td>\n",
              "      <td>0</td>\n",
              "    </tr>\n",
              "    <tr>\n",
              "      <th>1</th>\n",
              "      <td>1</td>\n",
              "      <td>1</td>\n",
              "      <td>0</td>\n",
              "      <td>1</td>\n",
              "      <td>1</td>\n",
              "      <td>1</td>\n",
              "      <td>0</td>\n",
              "      <td>1</td>\n",
              "      <td>1</td>\n",
              "      <td>0</td>\n",
              "    </tr>\n",
              "    <tr>\n",
              "      <th>2</th>\n",
              "      <td>1</td>\n",
              "      <td>1</td>\n",
              "      <td>0</td>\n",
              "      <td>1</td>\n",
              "      <td>1</td>\n",
              "      <td>1</td>\n",
              "      <td>0</td>\n",
              "      <td>1</td>\n",
              "      <td>1</td>\n",
              "      <td>0</td>\n",
              "    </tr>\n",
              "    <tr>\n",
              "      <th>3</th>\n",
              "      <td>1</td>\n",
              "      <td>1</td>\n",
              "      <td>0</td>\n",
              "      <td>1</td>\n",
              "      <td>1</td>\n",
              "      <td>1</td>\n",
              "      <td>0</td>\n",
              "      <td>1</td>\n",
              "      <td>1</td>\n",
              "      <td>1</td>\n",
              "    </tr>\n",
              "    <tr>\n",
              "      <th>4</th>\n",
              "      <td>1</td>\n",
              "      <td>1</td>\n",
              "      <td>0</td>\n",
              "      <td>1</td>\n",
              "      <td>1</td>\n",
              "      <td>1</td>\n",
              "      <td>0</td>\n",
              "      <td>1</td>\n",
              "      <td>1</td>\n",
              "      <td>0</td>\n",
              "    </tr>\n",
              "    <tr>\n",
              "      <th>5</th>\n",
              "      <td>1</td>\n",
              "      <td>1</td>\n",
              "      <td>0</td>\n",
              "      <td>1</td>\n",
              "      <td>1</td>\n",
              "      <td>1</td>\n",
              "      <td>0</td>\n",
              "      <td>1</td>\n",
              "      <td>1</td>\n",
              "      <td>1</td>\n",
              "    </tr>\n",
              "    <tr>\n",
              "      <th>6</th>\n",
              "      <td>1</td>\n",
              "      <td>1</td>\n",
              "      <td>0</td>\n",
              "      <td>1</td>\n",
              "      <td>1</td>\n",
              "      <td>1</td>\n",
              "      <td>0</td>\n",
              "      <td>1</td>\n",
              "      <td>1</td>\n",
              "      <td>1</td>\n",
              "    </tr>\n",
              "    <tr>\n",
              "      <th>7</th>\n",
              "      <td>1</td>\n",
              "      <td>1</td>\n",
              "      <td>0</td>\n",
              "      <td>1</td>\n",
              "      <td>1</td>\n",
              "      <td>1</td>\n",
              "      <td>0</td>\n",
              "      <td>1</td>\n",
              "      <td>1</td>\n",
              "      <td>0</td>\n",
              "    </tr>\n",
              "    <tr>\n",
              "      <th>8</th>\n",
              "      <td>1</td>\n",
              "      <td>1</td>\n",
              "      <td>0</td>\n",
              "      <td>1</td>\n",
              "      <td>1</td>\n",
              "      <td>1</td>\n",
              "      <td>0</td>\n",
              "      <td>1</td>\n",
              "      <td>1</td>\n",
              "      <td>0</td>\n",
              "    </tr>\n",
              "    <tr>\n",
              "      <th>9</th>\n",
              "      <td>1</td>\n",
              "      <td>1</td>\n",
              "      <td>0</td>\n",
              "      <td>1</td>\n",
              "      <td>1</td>\n",
              "      <td>1</td>\n",
              "      <td>0</td>\n",
              "      <td>1</td>\n",
              "      <td>1</td>\n",
              "      <td>0</td>\n",
              "    </tr>\n",
              "    <tr>\n",
              "      <th>10</th>\n",
              "      <td>1</td>\n",
              "      <td>1</td>\n",
              "      <td>0</td>\n",
              "      <td>1</td>\n",
              "      <td>1</td>\n",
              "      <td>1</td>\n",
              "      <td>0</td>\n",
              "      <td>1</td>\n",
              "      <td>1</td>\n",
              "      <td>1</td>\n",
              "    </tr>\n",
              "    <tr>\n",
              "      <th>11</th>\n",
              "      <td>1</td>\n",
              "      <td>1</td>\n",
              "      <td>0</td>\n",
              "      <td>1</td>\n",
              "      <td>1</td>\n",
              "      <td>1</td>\n",
              "      <td>0</td>\n",
              "      <td>1</td>\n",
              "      <td>1</td>\n",
              "      <td>1</td>\n",
              "    </tr>\n",
              "    <tr>\n",
              "      <th>12</th>\n",
              "      <td>1</td>\n",
              "      <td>1</td>\n",
              "      <td>0</td>\n",
              "      <td>1</td>\n",
              "      <td>1</td>\n",
              "      <td>1</td>\n",
              "      <td>0</td>\n",
              "      <td>1</td>\n",
              "      <td>1</td>\n",
              "      <td>1</td>\n",
              "    </tr>\n",
              "    <tr>\n",
              "      <th>13</th>\n",
              "      <td>1</td>\n",
              "      <td>1</td>\n",
              "      <td>0</td>\n",
              "      <td>1</td>\n",
              "      <td>1</td>\n",
              "      <td>1</td>\n",
              "      <td>0</td>\n",
              "      <td>1</td>\n",
              "      <td>1</td>\n",
              "      <td>1</td>\n",
              "    </tr>\n",
              "    <tr>\n",
              "      <th>14</th>\n",
              "      <td>1</td>\n",
              "      <td>0</td>\n",
              "      <td>0</td>\n",
              "      <td>1</td>\n",
              "      <td>1</td>\n",
              "      <td>1</td>\n",
              "      <td>0</td>\n",
              "      <td>1</td>\n",
              "      <td>1</td>\n",
              "      <td>1</td>\n",
              "    </tr>\n",
              "    <tr>\n",
              "      <th>15</th>\n",
              "      <td>1</td>\n",
              "      <td>0</td>\n",
              "      <td>0</td>\n",
              "      <td>1</td>\n",
              "      <td>1</td>\n",
              "      <td>1</td>\n",
              "      <td>0</td>\n",
              "      <td>1</td>\n",
              "      <td>1</td>\n",
              "      <td>0</td>\n",
              "    </tr>\n",
              "    <tr>\n",
              "      <th>16</th>\n",
              "      <td>1</td>\n",
              "      <td>0</td>\n",
              "      <td>0</td>\n",
              "      <td>1</td>\n",
              "      <td>1</td>\n",
              "      <td>1</td>\n",
              "      <td>0</td>\n",
              "      <td>1</td>\n",
              "      <td>1</td>\n",
              "      <td>0</td>\n",
              "    </tr>\n",
              "    <tr>\n",
              "      <th>17</th>\n",
              "      <td>1</td>\n",
              "      <td>0</td>\n",
              "      <td>0</td>\n",
              "      <td>1</td>\n",
              "      <td>1</td>\n",
              "      <td>1</td>\n",
              "      <td>0</td>\n",
              "      <td>1</td>\n",
              "      <td>1</td>\n",
              "      <td>0</td>\n",
              "    </tr>\n",
              "    <tr>\n",
              "      <th>18</th>\n",
              "      <td>1</td>\n",
              "      <td>0</td>\n",
              "      <td>0</td>\n",
              "      <td>1</td>\n",
              "      <td>1</td>\n",
              "      <td>1</td>\n",
              "      <td>0</td>\n",
              "      <td>1</td>\n",
              "      <td>1</td>\n",
              "      <td>0</td>\n",
              "    </tr>\n",
              "    <tr>\n",
              "      <th>19</th>\n",
              "      <td>1</td>\n",
              "      <td>0</td>\n",
              "      <td>0</td>\n",
              "      <td>1</td>\n",
              "      <td>1</td>\n",
              "      <td>1</td>\n",
              "      <td>0</td>\n",
              "      <td>1</td>\n",
              "      <td>1</td>\n",
              "      <td>0</td>\n",
              "    </tr>\n",
              "    <tr>\n",
              "      <th>20</th>\n",
              "      <td>1</td>\n",
              "      <td>0</td>\n",
              "      <td>0</td>\n",
              "      <td>1</td>\n",
              "      <td>1</td>\n",
              "      <td>1</td>\n",
              "      <td>0</td>\n",
              "      <td>1</td>\n",
              "      <td>1</td>\n",
              "      <td>0</td>\n",
              "    </tr>\n",
              "    <tr>\n",
              "      <th>21</th>\n",
              "      <td>1</td>\n",
              "      <td>0</td>\n",
              "      <td>0</td>\n",
              "      <td>1</td>\n",
              "      <td>1</td>\n",
              "      <td>1</td>\n",
              "      <td>0</td>\n",
              "      <td>1</td>\n",
              "      <td>1</td>\n",
              "      <td>0</td>\n",
              "    </tr>\n",
              "    <tr>\n",
              "      <th>22</th>\n",
              "      <td>1</td>\n",
              "      <td>0</td>\n",
              "      <td>0</td>\n",
              "      <td>1</td>\n",
              "      <td>1</td>\n",
              "      <td>1</td>\n",
              "      <td>0</td>\n",
              "      <td>1</td>\n",
              "      <td>1</td>\n",
              "      <td>1</td>\n",
              "    </tr>\n",
              "    <tr>\n",
              "      <th>23</th>\n",
              "      <td>1</td>\n",
              "      <td>0</td>\n",
              "      <td>0</td>\n",
              "      <td>1</td>\n",
              "      <td>1</td>\n",
              "      <td>1</td>\n",
              "      <td>0</td>\n",
              "      <td>1</td>\n",
              "      <td>1</td>\n",
              "      <td>0</td>\n",
              "    </tr>\n",
              "    <tr>\n",
              "      <th>24</th>\n",
              "      <td>1</td>\n",
              "      <td>0</td>\n",
              "      <td>0</td>\n",
              "      <td>1</td>\n",
              "      <td>1</td>\n",
              "      <td>1</td>\n",
              "      <td>0</td>\n",
              "      <td>1</td>\n",
              "      <td>1</td>\n",
              "      <td>1</td>\n",
              "    </tr>\n",
              "    <tr>\n",
              "      <th>25</th>\n",
              "      <td>1</td>\n",
              "      <td>0</td>\n",
              "      <td>0</td>\n",
              "      <td>1</td>\n",
              "      <td>1</td>\n",
              "      <td>1</td>\n",
              "      <td>0</td>\n",
              "      <td>1</td>\n",
              "      <td>1</td>\n",
              "      <td>1</td>\n",
              "    </tr>\n",
              "    <tr>\n",
              "      <th>26</th>\n",
              "      <td>1</td>\n",
              "      <td>0</td>\n",
              "      <td>0</td>\n",
              "      <td>1</td>\n",
              "      <td>1</td>\n",
              "      <td>1</td>\n",
              "      <td>0</td>\n",
              "      <td>1</td>\n",
              "      <td>1</td>\n",
              "      <td>0</td>\n",
              "    </tr>\n",
              "    <tr>\n",
              "      <th>27</th>\n",
              "      <td>1</td>\n",
              "      <td>0</td>\n",
              "      <td>0</td>\n",
              "      <td>1</td>\n",
              "      <td>1</td>\n",
              "      <td>1</td>\n",
              "      <td>0</td>\n",
              "      <td>1</td>\n",
              "      <td>1</td>\n",
              "      <td>1</td>\n",
              "    </tr>\n",
              "    <tr>\n",
              "      <th>28</th>\n",
              "      <td>0</td>\n",
              "      <td>1</td>\n",
              "      <td>1</td>\n",
              "      <td>0</td>\n",
              "      <td>0</td>\n",
              "      <td>0</td>\n",
              "      <td>1</td>\n",
              "      <td>0</td>\n",
              "      <td>0</td>\n",
              "      <td>1</td>\n",
              "    </tr>\n",
              "    <tr>\n",
              "      <th>29</th>\n",
              "      <td>0</td>\n",
              "      <td>1</td>\n",
              "      <td>1</td>\n",
              "      <td>0</td>\n",
              "      <td>0</td>\n",
              "      <td>0</td>\n",
              "      <td>1</td>\n",
              "      <td>0</td>\n",
              "      <td>0</td>\n",
              "      <td>1</td>\n",
              "    </tr>\n",
              "    <tr>\n",
              "      <th>30</th>\n",
              "      <td>0</td>\n",
              "      <td>1</td>\n",
              "      <td>1</td>\n",
              "      <td>0</td>\n",
              "      <td>0</td>\n",
              "      <td>0</td>\n",
              "      <td>1</td>\n",
              "      <td>0</td>\n",
              "      <td>0</td>\n",
              "      <td>1</td>\n",
              "    </tr>\n",
              "    <tr>\n",
              "      <th>31</th>\n",
              "      <td>0</td>\n",
              "      <td>1</td>\n",
              "      <td>1</td>\n",
              "      <td>0</td>\n",
              "      <td>0</td>\n",
              "      <td>0</td>\n",
              "      <td>1</td>\n",
              "      <td>0</td>\n",
              "      <td>0</td>\n",
              "      <td>1</td>\n",
              "    </tr>\n",
              "    <tr>\n",
              "      <th>32</th>\n",
              "      <td>0</td>\n",
              "      <td>1</td>\n",
              "      <td>1</td>\n",
              "      <td>0</td>\n",
              "      <td>0</td>\n",
              "      <td>0</td>\n",
              "      <td>1</td>\n",
              "      <td>0</td>\n",
              "      <td>0</td>\n",
              "      <td>1</td>\n",
              "    </tr>\n",
              "    <tr>\n",
              "      <th>33</th>\n",
              "      <td>0</td>\n",
              "      <td>1</td>\n",
              "      <td>1</td>\n",
              "      <td>0</td>\n",
              "      <td>0</td>\n",
              "      <td>0</td>\n",
              "      <td>1</td>\n",
              "      <td>0</td>\n",
              "      <td>0</td>\n",
              "      <td>1</td>\n",
              "    </tr>\n",
              "    <tr>\n",
              "      <th>34</th>\n",
              "      <td>0</td>\n",
              "      <td>1</td>\n",
              "      <td>1</td>\n",
              "      <td>0</td>\n",
              "      <td>0</td>\n",
              "      <td>0</td>\n",
              "      <td>1</td>\n",
              "      <td>0</td>\n",
              "      <td>0</td>\n",
              "      <td>1</td>\n",
              "    </tr>\n",
              "    <tr>\n",
              "      <th>35</th>\n",
              "      <td>0</td>\n",
              "      <td>1</td>\n",
              "      <td>1</td>\n",
              "      <td>0</td>\n",
              "      <td>0</td>\n",
              "      <td>0</td>\n",
              "      <td>1</td>\n",
              "      <td>0</td>\n",
              "      <td>0</td>\n",
              "      <td>1</td>\n",
              "    </tr>\n",
              "    <tr>\n",
              "      <th>36</th>\n",
              "      <td>0</td>\n",
              "      <td>1</td>\n",
              "      <td>1</td>\n",
              "      <td>0</td>\n",
              "      <td>0</td>\n",
              "      <td>0</td>\n",
              "      <td>1</td>\n",
              "      <td>0</td>\n",
              "      <td>0</td>\n",
              "      <td>1</td>\n",
              "    </tr>\n",
              "    <tr>\n",
              "      <th>37</th>\n",
              "      <td>0</td>\n",
              "      <td>1</td>\n",
              "      <td>1</td>\n",
              "      <td>0</td>\n",
              "      <td>0</td>\n",
              "      <td>0</td>\n",
              "      <td>1</td>\n",
              "      <td>0</td>\n",
              "      <td>0</td>\n",
              "      <td>1</td>\n",
              "    </tr>\n",
              "    <tr>\n",
              "      <th>38</th>\n",
              "      <td>0</td>\n",
              "      <td>1</td>\n",
              "      <td>1</td>\n",
              "      <td>0</td>\n",
              "      <td>0</td>\n",
              "      <td>0</td>\n",
              "      <td>1</td>\n",
              "      <td>0</td>\n",
              "      <td>0</td>\n",
              "      <td>1</td>\n",
              "    </tr>\n",
              "    <tr>\n",
              "      <th>39</th>\n",
              "      <td>0</td>\n",
              "      <td>1</td>\n",
              "      <td>1</td>\n",
              "      <td>0</td>\n",
              "      <td>0</td>\n",
              "      <td>0</td>\n",
              "      <td>1</td>\n",
              "      <td>0</td>\n",
              "      <td>0</td>\n",
              "      <td>1</td>\n",
              "    </tr>\n",
              "    <tr>\n",
              "      <th>40</th>\n",
              "      <td>0</td>\n",
              "      <td>1</td>\n",
              "      <td>1</td>\n",
              "      <td>0</td>\n",
              "      <td>0</td>\n",
              "      <td>0</td>\n",
              "      <td>1</td>\n",
              "      <td>0</td>\n",
              "      <td>0</td>\n",
              "      <td>1</td>\n",
              "    </tr>\n",
              "    <tr>\n",
              "      <th>41</th>\n",
              "      <td>0</td>\n",
              "      <td>1</td>\n",
              "      <td>1</td>\n",
              "      <td>0</td>\n",
              "      <td>0</td>\n",
              "      <td>0</td>\n",
              "      <td>1</td>\n",
              "      <td>0</td>\n",
              "      <td>0</td>\n",
              "      <td>1</td>\n",
              "    </tr>\n",
              "  </tbody>\n",
              "</table>\n",
              "</div>"
            ],
            "text/plain": [
              "    genero  ambiente  vegetariana  carne  ...  menu  comida_rapida  menestra  gustar\n",
              "0        1         1            0      1  ...     0              1         1       0\n",
              "1        1         1            0      1  ...     0              1         1       0\n",
              "2        1         1            0      1  ...     0              1         1       0\n",
              "3        1         1            0      1  ...     0              1         1       1\n",
              "4        1         1            0      1  ...     0              1         1       0\n",
              "5        1         1            0      1  ...     0              1         1       1\n",
              "6        1         1            0      1  ...     0              1         1       1\n",
              "7        1         1            0      1  ...     0              1         1       0\n",
              "8        1         1            0      1  ...     0              1         1       0\n",
              "9        1         1            0      1  ...     0              1         1       0\n",
              "10       1         1            0      1  ...     0              1         1       1\n",
              "11       1         1            0      1  ...     0              1         1       1\n",
              "12       1         1            0      1  ...     0              1         1       1\n",
              "13       1         1            0      1  ...     0              1         1       1\n",
              "14       1         0            0      1  ...     0              1         1       1\n",
              "15       1         0            0      1  ...     0              1         1       0\n",
              "16       1         0            0      1  ...     0              1         1       0\n",
              "17       1         0            0      1  ...     0              1         1       0\n",
              "18       1         0            0      1  ...     0              1         1       0\n",
              "19       1         0            0      1  ...     0              1         1       0\n",
              "20       1         0            0      1  ...     0              1         1       0\n",
              "21       1         0            0      1  ...     0              1         1       0\n",
              "22       1         0            0      1  ...     0              1         1       1\n",
              "23       1         0            0      1  ...     0              1         1       0\n",
              "24       1         0            0      1  ...     0              1         1       1\n",
              "25       1         0            0      1  ...     0              1         1       1\n",
              "26       1         0            0      1  ...     0              1         1       0\n",
              "27       1         0            0      1  ...     0              1         1       1\n",
              "28       0         1            1      0  ...     1              0         0       1\n",
              "29       0         1            1      0  ...     1              0         0       1\n",
              "30       0         1            1      0  ...     1              0         0       1\n",
              "31       0         1            1      0  ...     1              0         0       1\n",
              "32       0         1            1      0  ...     1              0         0       1\n",
              "33       0         1            1      0  ...     1              0         0       1\n",
              "34       0         1            1      0  ...     1              0         0       1\n",
              "35       0         1            1      0  ...     1              0         0       1\n",
              "36       0         1            1      0  ...     1              0         0       1\n",
              "37       0         1            1      0  ...     1              0         0       1\n",
              "38       0         1            1      0  ...     1              0         0       1\n",
              "39       0         1            1      0  ...     1              0         0       1\n",
              "40       0         1            1      0  ...     1              0         0       1\n",
              "41       0         1            1      0  ...     1              0         0       1\n",
              "\n",
              "[42 rows x 10 columns]"
            ]
          },
          "metadata": {
            "tags": []
          },
          "execution_count": 60
        }
      ]
    },
    {
      "cell_type": "code",
      "metadata": {
        "id": "oukJDlDZgSxr",
        "colab_type": "code",
        "outputId": "8eff392a-6b37-491b-ceba-1a6a315857ae",
        "colab": {
          "base_uri": "https://localhost:8080/",
          "height": 330
        }
      },
      "source": [
        "import sklearn; sklearn.show_versions()"
      ],
      "execution_count": 0,
      "outputs": [
        {
          "output_type": "stream",
          "text": [
            "\n",
            "System:\n",
            "    python: 3.6.9 (default, Apr 18 2020, 01:56:04)  [GCC 8.4.0]\n",
            "executable: /usr/bin/python3\n",
            "   machine: Linux-4.19.104+-x86_64-with-Ubuntu-18.04-bionic\n",
            "\n",
            "Python dependencies:\n",
            "       pip: 19.3.1\n",
            "setuptools: 46.3.0\n",
            "   sklearn: 0.22.2.post1\n",
            "     numpy: 1.18.4\n",
            "     scipy: 1.4.1\n",
            "    Cython: 0.29.18\n",
            "    pandas: 1.0.3\n",
            "matplotlib: 3.2.1\n",
            "    joblib: 0.15.1\n",
            "\n",
            "Built with OpenMP: True\n"
          ],
          "name": "stdout"
        }
      ]
    },
    {
      "cell_type": "code",
      "metadata": {
        "id": "r8JCH54dZ2pw",
        "colab_type": "code",
        "outputId": "16413354-9fda-4d86-cb4e-6f2ec53a9fb5",
        "colab": {
          "base_uri": "https://localhost:8080/",
          "height": 104
        }
      },
      "source": [
        "!pip install -U sklearn\n"
      ],
      "execution_count": 0,
      "outputs": [
        {
          "output_type": "stream",
          "text": [
            "Requirement already up-to-date: sklearn in /usr/local/lib/python3.6/dist-packages (0.0)\n",
            "Requirement already satisfied, skipping upgrade: scikit-learn in /usr/local/lib/python3.6/dist-packages (from sklearn) (0.22.2.post1)\n",
            "Requirement already satisfied, skipping upgrade: numpy>=1.11.0 in /usr/local/lib/python3.6/dist-packages (from scikit-learn->sklearn) (1.18.4)\n",
            "Requirement already satisfied, skipping upgrade: scipy>=0.17.0 in /usr/local/lib/python3.6/dist-packages (from scikit-learn->sklearn) (1.4.1)\n",
            "Requirement already satisfied, skipping upgrade: joblib>=0.11 in /usr/local/lib/python3.6/dist-packages (from scikit-learn->sklearn) (0.15.1)\n"
          ],
          "name": "stdout"
        }
      ]
    },
    {
      "cell_type": "code",
      "metadata": {
        "id": "IKSEeLQWa-tZ",
        "colab_type": "code",
        "colab": {}
      },
      "source": [
        "#!pip install six"
      ],
      "execution_count": 0,
      "outputs": []
    },
    {
      "cell_type": "code",
      "metadata": {
        "id": "6jg_B2jtbXfV",
        "colab_type": "code",
        "outputId": "64f8d3e4-2a11-4593-d0aa-97ad20d52686",
        "colab": {
          "base_uri": "https://localhost:8080/",
          "height": 314
        }
      },
      "source": [
        "!pip install -U imbalanced-learn"
      ],
      "execution_count": 0,
      "outputs": [
        {
          "output_type": "stream",
          "text": [
            "Collecting imbalanced-learn\n",
            "\u001b[?25l  Downloading https://files.pythonhosted.org/packages/c8/73/36a13185c2acff44d601dc6107b5347e075561a49e15ddd4e69988414c3e/imbalanced_learn-0.6.2-py3-none-any.whl (163kB)\n",
            "\r\u001b[K     |██                              | 10kB 15.2MB/s eta 0:00:01\r\u001b[K     |████                            | 20kB 3.3MB/s eta 0:00:01\r\u001b[K     |██████                          | 30kB 4.3MB/s eta 0:00:01\r\u001b[K     |████████                        | 40kB 4.6MB/s eta 0:00:01\r\u001b[K     |██████████                      | 51kB 3.7MB/s eta 0:00:01\r\u001b[K     |████████████                    | 61kB 4.1MB/s eta 0:00:01\r\u001b[K     |██████████████                  | 71kB 4.5MB/s eta 0:00:01\r\u001b[K     |████████████████                | 81kB 4.9MB/s eta 0:00:01\r\u001b[K     |██████████████████              | 92kB 5.2MB/s eta 0:00:01\r\u001b[K     |████████████████████            | 102kB 5.0MB/s eta 0:00:01\r\u001b[K     |██████████████████████          | 112kB 5.0MB/s eta 0:00:01\r\u001b[K     |████████████████████████▏       | 122kB 5.0MB/s eta 0:00:01\r\u001b[K     |██████████████████████████▏     | 133kB 5.0MB/s eta 0:00:01\r\u001b[K     |████████████████████████████▏   | 143kB 5.0MB/s eta 0:00:01\r\u001b[K     |██████████████████████████████▏ | 153kB 5.0MB/s eta 0:00:01\r\u001b[K     |████████████████████████████████| 163kB 5.0MB/s \n",
            "\u001b[?25hRequirement already satisfied, skipping upgrade: joblib>=0.11 in /usr/local/lib/python3.6/dist-packages (from imbalanced-learn) (0.15.1)\n",
            "Requirement already satisfied, skipping upgrade: scipy>=0.17 in /usr/local/lib/python3.6/dist-packages (from imbalanced-learn) (1.4.1)\n",
            "Requirement already satisfied, skipping upgrade: scikit-learn>=0.22 in /usr/local/lib/python3.6/dist-packages (from imbalanced-learn) (0.22.2.post1)\n",
            "Requirement already satisfied, skipping upgrade: numpy>=1.11 in /usr/local/lib/python3.6/dist-packages (from imbalanced-learn) (1.18.4)\n",
            "Installing collected packages: imbalanced-learn\n",
            "  Found existing installation: imbalanced-learn 0.4.3\n",
            "    Uninstalling imbalanced-learn-0.4.3:\n",
            "      Successfully uninstalled imbalanced-learn-0.4.3\n",
            "Successfully installed imbalanced-learn-0.6.2\n"
          ],
          "name": "stdout"
        },
        {
          "output_type": "display_data",
          "data": {
            "application/vnd.colab-display-data+json": {
              "pip_warning": {
                "packages": [
                  "imblearn"
                ]
              }
            }
          },
          "metadata": {
            "tags": []
          }
        }
      ]
    },
    {
      "cell_type": "code",
      "metadata": {
        "id": "OfAchfCkf5w_",
        "colab_type": "code",
        "colab": {}
      },
      "source": [
        "import pickle\n",
        "\n",
        "infile = open('GG_Bayes.sav','rb')\n",
        "NB_ajustado = pickle.load(infile)\n",
        "infile.close()"
      ],
      "execution_count": 0,
      "outputs": []
    }
  ]
}