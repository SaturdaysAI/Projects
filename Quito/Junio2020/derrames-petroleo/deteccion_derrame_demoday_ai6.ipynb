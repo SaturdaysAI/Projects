{
  "nbformat": 4,
  "nbformat_minor": 0,
  "metadata": {
    "colab": {
      "name": "Oil_spill_project.ipynb",
      "provenance": [],
      "collapsed_sections": []
    },
    "kernelspec": {
      "display_name": "Python 3",
      "language": "python",
      "name": "python3"
    },
    "language_info": {
      "codemirror_mode": {
        "name": "ipython",
        "version": 3
      },
      "file_extension": ".py",
      "mimetype": "text/x-python",
      "name": "python",
      "nbconvert_exporter": "python",
      "pygments_lexer": "ipython3",
      "version": "3.7.6"
    },
    "latex_envs": {
      "LaTeX_envs_menu_present": true,
      "autoclose": true,
      "autocomplete": true,
      "bibliofile": "biblio.bib",
      "cite_by": "apalike",
      "current_citInitial": 1,
      "eqLabelWithNumbers": true,
      "eqNumInitial": 1,
      "hotkeys": {
        "equation": "Ctrl-E",
        "itemize": "Ctrl-I"
      },
      "labels_anchors": false,
      "latex_user_defs": false,
      "report_style_numbering": false,
      "user_envs_cfg": false
    },
    "toc": {
      "base_numbering": 1,
      "nav_menu": {},
      "number_sections": true,
      "sideBar": true,
      "skip_h1_title": false,
      "title_cell": "Table of Contents",
      "title_sidebar": "Contents",
      "toc_cell": false,
      "toc_position": {},
      "toc_section_display": true,
      "toc_window_display": false
    },
    "varInspector": {
      "cols": {
        "lenName": 16,
        "lenType": 16,
        "lenVar": 40
      },
      "kernels_config": {
        "python": {
          "delete_cmd_postfix": "",
          "delete_cmd_prefix": "del ",
          "library": "var_list.py",
          "varRefreshCmd": "print(var_dic_list())"
        },
        "r": {
          "delete_cmd_postfix": ") ",
          "delete_cmd_prefix": "rm(",
          "library": "var_list.r",
          "varRefreshCmd": "cat(var_dic_list()) "
        }
      },
      "types_to_exclude": [
        "module",
        "function",
        "builtin_function_or_method",
        "instance",
        "_Feature"
      ],
      "window_display": false
    }
  },
  "cells": [
    {
      "cell_type": "markdown",
      "metadata": {
        "colab_type": "text",
        "id": "OsoP-oi-Su8E"
      },
      "source": [
        "# **Detección de Derrames de Petróleo Offshore**\n",
        "Este proyecto fue desarrollado durante las últimas semanas de 3 meses de aprendizaje junto a Saturdays AI Quito. Este proyecto se diseñó utilizando Google Earth Engine, una plataforma basada en la nube que proporciona soporte para análisis geoespacional a escala planetaria. [Gorelick et al. (2017)](https://doi.org/10.1016/j.rse.2017.06.031)\n",
        "\n",
        "**Integrantes:**\n",
        "> Juan Carlos Cedeño, Diego Yanez, Pablo Quilachamin, María Belén Bedoya, Karla Uvidia Zambrano"
      ]
    },
    {
      "cell_type": "markdown",
      "metadata": {
        "id": "EN26yJsYr30m",
        "colab_type": "text"
      },
      "source": [
        "**Instalar dependencias necesarias**"
      ]
    },
    {
      "cell_type": "code",
      "metadata": {
        "id": "AWbkbbjoXPP9",
        "colab_type": "code",
        "colab": {}
      },
      "source": [
        "!pip3 install earthengine-api --upgrade\n",
        "!pip3 install mapbox\n",
        "!pip3 install cmocean"
      ],
      "execution_count": null,
      "outputs": []
    },
    {
      "cell_type": "markdown",
      "metadata": {
        "colab_type": "text",
        "id": "U4Hy8LupOde6"
      },
      "source": [
        "**Importar dependencias**"
      ]
    },
    {
      "cell_type": "code",
      "metadata": {
        "colab_type": "code",
        "id": "lCHXXKJIT15A",
        "colab": {}
      },
      "source": [
        "# Procesamiento\n",
        "import ee # Google Earth Engine, procesamiento geoespacial\n",
        "import numpy as np #\n",
        "import pandas as pd\n",
        "\n",
        "# Visualización\n",
        "import matplotlib.pyplot as plt # \n",
        "import cmocean.cm as cmo # Rampas de colores científicos\n",
        "\n",
        "# Decodificación\n",
        "import json\n",
        "from io import BytesIO\n",
        "\n",
        "# Maps\n",
        "import folium\n",
        "from mapbox import Uploader\n",
        "from folium.plugins import MiniMap\n",
        "from datetime import datetime, timedelta"
      ],
      "execution_count": 35,
      "outputs": []
    },
    {
      "cell_type": "markdown",
      "metadata": {
        "colab_type": "text",
        "id": "siJvloNFOgk0"
      },
      "source": [
        "**Autentificación de Google Earth Engine**"
      ]
    },
    {
      "cell_type": "code",
      "metadata": {
        "colab_type": "code",
        "id": "O1AT9LigHs2C",
        "colab": {}
      },
      "source": [
        "try:\n",
        "    ee.Initialize()\n",
        "except Exception as e:\n",
        "    ee.Authenticate()\n",
        "    ee.Initialize()"
      ],
      "execution_count": 36,
      "outputs": []
    },
    {
      "cell_type": "markdown",
      "metadata": {
        "id": "3COmQUtRCBTR",
        "colab_type": "text"
      },
      "source": [
        "## **AOI**\n",
        "El Área de Interés (AOI) fue Kuwait, un país árabe del Golfo Pérsico. El 10 de agosto de 2017, se dió un evento de derrame de petróleo de aproximadamente 35.000 barriles frente a su costa sur."
      ]
    },
    {
      "cell_type": "code",
      "metadata": {
        "id": "doVmPfr-CAf7",
        "colab_type": "code",
        "colab": {}
      },
      "source": [
        "# Kuwait, Golfo Pérsico. WGS84 Lat 28.51 Lon 48.56, 2017:08:[09-11] (S1)\n",
        "lat, lon = [28.6, 48.6]\n",
        "start, end = ['2017-08-09', '2017-08-11']\n",
        "proj = 'EPSG:4326'\n",
        "roi = ee.Geometry.Point([lon, lat], proj)\n",
        "aoi = ee.Geometry.Rectangle(48.4023, 28.7623, 48.69, 28.48)"
      ],
      "execution_count": 37,
      "outputs": []
    },
    {
      "cell_type": "markdown",
      "metadata": {
        "colab_type": "text",
        "id": "nh5qTfBVQ_0V"
      },
      "source": [
        "## **Adquirir datos desde la constelación de Copérnicus: Sentinel-1**\n",
        "Google Earth Engine cuenta con toda la constelación de satélites desarrollados por la Agencia Espacial Europea (ESA) para el programa de Copernicus, y son de nuestro interés los satélites de Sentinel-1A y 1B."
      ]
    },
    {
      "cell_type": "code",
      "metadata": {
        "colab_type": "code",
        "id": "oNUakeWKtBua",
        "colab": {}
      },
      "source": [
        "# colección de Sentinel-1 acotada en espacio, tiempo, polarización y resolución\n",
        "collection = (ee.ImageCollection('COPERNICUS/S1_GRD')\n",
        "              .filter(ee.Filter.eq('transmitterReceiverPolarisation', ['VV', 'VH']))\n",
        "              .filter(ee.Filter.eq('instrumentMode', 'IW'))\n",
        "              .filterDate(start , end)\n",
        "              .filterBounds(roi)\n",
        "              .filterMetadata('resolution_meters', 'equals', 10))"
      ],
      "execution_count": 38,
      "outputs": []
    },
    {
      "cell_type": "markdown",
      "metadata": {
        "id": "SXWQX7T7CGkh",
        "colab_type": "text"
      },
      "source": [
        "### **Fecha de adquisitión de la imagen satelital**"
      ]
    },
    {
      "cell_type": "code",
      "metadata": {
        "colab_type": "code",
        "id": "8l4U45iRYqa1",
        "colab": {
          "base_uri": "https://localhost:8080/",
          "height": 34
        },
        "outputId": "85f28b8a-943f-4cd2-e4cc-7c6c565faf6c"
      },
      "source": [
        "def acquisition_date(image_collection):\n",
        "    \"\"\"Extrae la fecha de adquisición de la imagen SAR usando la nomenclatura del producto (ID) de Sentinel-1\"\"\"\n",
        "\n",
        "    # formatear el string a ISO 8601 (tiempo)\n",
        "    def parse_time(t):\n",
        "        return datetime.strptime(t, '%Y%m%dT%H%M%S')\n",
        "\n",
        "    # almacenar identificador\n",
        "    dict_id = collection.first().getInfo()['id']\n",
        "    # lista de comprensión para extraer solo fechas del paso del satélite\n",
        "    datetime_iso = [parse_time(i) for i in dict_id.split('_') if len(i) == 15]\n",
        "\n",
        "    return datetime_iso[0]\n",
        "\n",
        "print('Fecha de adquisición de la imagen SAR: {}'.format(\n",
        "    acquisition_date(collection)))"
      ],
      "execution_count": 39,
      "outputs": [
        {
          "output_type": "stream",
          "text": [
            "Fecha de adquisición de la imagen SAR: 2017-08-10 02:47:14\n"
          ],
          "name": "stdout"
        }
      ]
    },
    {
      "cell_type": "markdown",
      "metadata": {
        "colab_type": "text",
        "id": "1az1DqY5Sfz_"
      },
      "source": [
        "## **Corrección del ángulo de incidencia**\n",
        "\n",
        "Un efecto que puede restringir el análisis de las imágenes de SAR, principalmente en aplicaciones oceanográficas que asocian los procesos oceánicos y las características de la superficie del mar con objetivos oscuros (ej: derrames de petróleo), es la tendencia de disminución de la señal de retropropagación $\\sigma°$ a medida que el ángulo de incidencia ($\\theta$) incrementa. ([Alpers y Huang, 2011](https://doi.org/10.1109/TGRS.2010.2072930); [Singha, Vespe, y Trieschmann, 2013](https://doi.org/10.1016/j.marpolbul.2013.05.022))\n",
        "\n",
        "El método utilizado para este trabajo se conoce como Square Cosine Correction (SCC), y asume que $\\sigma°$ es una función del cuadrado del coseno de $\\theta$."
      ]
    },
    {
      "cell_type": "code",
      "metadata": {
        "colab_type": "code",
        "id": "oYGiHFg6u8pR",
        "colab": {}
      },
      "source": [
        "def square_angle_correction(image):\n",
        "    \"\"\"Método de corrección de ángulo cuadrado\"\"\"\n",
        "    return image.multiply(image.select('angle').multiply(np.pi/180).cos().pow(ee.Image(2)))"
      ],
      "execution_count": 40,
      "outputs": []
    },
    {
      "cell_type": "markdown",
      "metadata": {
        "id": "UK8YdiwdHupz",
        "colab_type": "text"
      },
      "source": [
        "## **Subset**\n",
        "Subset es una operación común en los Sistemas de Información Geográfica, utilizada para focalizar el área de estudio, su función es recortar los ráster usando una extensión definida."
      ]
    },
    {
      "cell_type": "code",
      "metadata": {
        "id": "lQQQSs8wHup0",
        "colab_type": "code",
        "colab": {}
      },
      "source": [
        "def subset(image):\n",
        "    \"\"\"Método de corrección de ángulo cuadrado\"\"\"\n",
        "    return image.clip(aoi)"
      ],
      "execution_count": 41,
      "outputs": []
    },
    {
      "cell_type": "markdown",
      "metadata": {
        "colab_type": "text",
        "id": "YvbwW-3iOnfG"
      },
      "source": [
        "## **La máscara offshore**\n",
        "El objetivo es detectar los eventos **offshore**, es decir aquellos derrames de petróleo que se han dado costa fuera, por tanto es necesario retirar todo lo relacionado a la plataforma continental. \n",
        "\n",
        "Dentro del catálogo de imágenes satelitales de Google Earth Engine, podemos encontrar máscaras de agua, tales como: MOD44W V6, un producto que combina los datos de Shuttle Radar Topography Mision (SRTM) y Moderate Resolution Imaging Spectroradiometer (MODIS) de la NASA, para mapear la superficie de agua a nivel global con una resolución de 250 metros.\n"
      ]
    },
    {
      "cell_type": "code",
      "metadata": {
        "colab_type": "code",
        "id": "Fl3T76wp3ZfM",
        "colab": {}
      },
      "source": [
        "def ocean_mod44w_mask(image):\n",
        "    \"\"\"El MOD44W V6 Land/Water Mask es un producto derivado de MODIS basado en un clasificador de árbol de decisión\n",
        "     y validado con el producto MOD44W V5.\"\"\"\n",
        "    # colección de MOD44W.006, 2015 última máscara disponible\n",
        "    mod44w = ee.ImageCollection('MODIS/006/MOD44W').filterDate('2015-01-01', '2015-05-01')\n",
        "    # seleccionar la banda de calidad \n",
        "    qa = mod44w.select(['water_mask_QA']).mosaic()\n",
        "    # bit 4 es la máscara de océano para water_mask_QA\n",
        "    ocean_bitmask = 4\n",
        "\n",
        "    return image.updateMask(qa.eq(ocean_bitmask))"
      ],
      "execution_count": 42,
      "outputs": []
    },
    {
      "cell_type": "code",
      "metadata": {
        "colab_type": "code",
        "id": "8IGlaOofOxwN",
        "colab": {}
      },
      "source": [
        "collection = collection.map(subset).map(ocean_mod44w_mask).map(square_angle_correction)"
      ],
      "execution_count": 43,
      "outputs": []
    },
    {
      "cell_type": "markdown",
      "metadata": {
        "colab_type": "text",
        "id": "F-Vcbqq2ZoNr"
      },
      "source": [
        "## **El efecto sal pimienta y el filtro refinado de Lee (RLF)**\n",
        "El efecto sal y pimienta es el responsable de dar el aspecto granular de variación espacial aleatoria a las imágenes de SAR, como consecuencia de los principios de medición, y es considerado un ruido complejo. Actualmente, existen diversas técnicas de filtración que tienen como propósito eliminar este ruido, uno de estos es el Filtro Refinado de Lee (RLF) propuesto por [Yommy, Liu y Wu (2015)](https://ieeexplore.ieee.org/document/7334965). Estos autores introducen una mejora usando el algoritmo de K-Nearest Neighbour, logrando reducir el ruido mientras aseguran al mismo tiempo que los bordes, texturas y otras características de la imagen SAR se conserven.  "
      ]
    },
    {
      "cell_type": "code",
      "metadata": {
        "colab_type": "code",
        "id": "qoYmioqGKzCG",
        "colab": {}
      },
      "source": [
        "def refined_lee(image):\n",
        "    \"\"\"Método de despeckling conocido como Filtro Refinado de Lee (RLF), basado en el método de Lee y el algoritmo de K-Nearest Neighbour (KNN). \n",
        "        Esta es una adaptación para la API de Python del algoritmo desarrollado por Guido Lemoine.\"\"\"\n",
        "\n",
        "    # establecer los pesos\n",
        "    weight = ee.List.repeat(ee.List.repeat(1, 3), 3)\n",
        "\n",
        "    # crear un kernel 3x3 : width, height, weights, x, y, normalize\n",
        "    kernel = ee.Kernel.fixed(3, 3, weight, 1, 1, normalize=False)\n",
        "\n",
        "    # calcular la media y variancia en el kernel 3x3\n",
        "    mean = image.reduceNeighborhood(ee.Reducer.mean(), kernel)\n",
        "    var = image.reduceNeighborhood(ee.Reducer.variance(), kernel)\n",
        "\n",
        "    # determinar los gradientes y las direcciones usando una ventana de 3x3 en el kernel 7x7\n",
        "    sample_weight = ee.List([[0, 0, 0, 0, 0, 0, 0], [0, 1, 0, 1, 0, 1, 0],\n",
        "                             [0, 0, 0, 0, 0, 0, 0], [0, 1, 0, 1, 0, 1, 0],\n",
        "                             [0, 0, 0, 0, 0, 0, 0], [0, 1, 0, 1, 0, 1, 0],\n",
        "                             [0, 0, 0, 0, 0, 0, 0]])\n",
        "\n",
        "    # muestra de 3x3 en el kernel 7x7\n",
        "    sample_kernel = ee.Kernel.fixed(7, 7, sample_weight, 3, 3, normalize=False)\n",
        "\n",
        "    # calcular la media y variancia en el kernel 7x7 y convertir los vecinos cercanos en múltiples bandas\n",
        "    sample_mean = mean.neighborhoodToBands(sample_kernel)\n",
        "    sample_var = var.neighborhoodToBands(sample_kernel)\n",
        "\n",
        "    # determinar 4 gradientes para la ventana de sampleo\n",
        "    gradients = sample_mean.select(1).subtract(sample_mean.select(7).abs())\n",
        "    gradients = gradients.addBands(sample_mean.select(6).subtract(sample_mean.select(2)).abs())\n",
        "    gradients = gradients.addBands(sample_mean.select(3).subtract(sample_mean.select(5)).abs())\n",
        "    gradients = gradients.addBands(sample_mean.select(0).subtract(sample_mean.select(8)).abs())\n",
        "\n",
        "    # encontrar el gradiente máximo a lo largo del gradiente de las bandas\n",
        "    max_gradient = gradients.reduce(ee.Reducer.max())\n",
        "\n",
        "    # crear una mascara para las bandas donde los píxeles sean el máximo gradiente\n",
        "    gradient_mask = gradients.eq(max_gradient)\n",
        "\n",
        "    # duplicamos para representar 2 direcciones\n",
        "    gradient_mask = gradient_mask.addBands(gradient_mask)\n",
        "\n",
        "    # determinar las 8 direcciones\n",
        "    directions = sample_mean.select(1).subtract(sample_mean.select(4)).gt(sample_mean.select(4).subtract(sample_mean.select(7))).multiply(1)\n",
        "    directions = directions.addBands(sample_mean.select(6).subtract(sample_mean.select(4)).gt(sample_mean.select(4).subtract(sample_mean.select(2))).multiply(2))\n",
        "    directions = directions.addBands(sample_mean.select(3).subtract(sample_mean.select(4)).gt(sample_mean.select(4).subtract(sample_mean.select(5))).multiply(3))\n",
        "    directions = directions.addBands(sample_mean.select(0).subtract(sample_mean.select(4)).gt(sample_mean.select(4).subtract(sample_mean.select(8))).multiply(4))\n",
        "\n",
        "    # las siguiente son not() de las 4 previas\n",
        "    directions = directions.addBands(directions.select(0).Not().multiply(5))\n",
        "    directions = directions.addBands(directions.select(1).Not().multiply(6))\n",
        "    directions = directions.addBands(directions.select(2).Not().multiply(7))\n",
        "    directions = directions.addBands(directions.select(3).Not().multiply(8))\n",
        "\n",
        "    # enmascarar los valores que no son 1-8\n",
        "    directions = directions.updateMask(gradient_mask)\n",
        "\n",
        "    # colapsar el stack a una banda\n",
        "    directions = directions.reduce(ee.Reducer.sum())\n",
        "\n",
        "    # calcular las estadísticas locales\n",
        "    sample_stats = sample_var.divide(sample_mean.multiply(sample_mean))\n",
        "\n",
        "    # calcular la variancia local del ruido\n",
        "    sigma_v = sample_stats.toArray().arraySort().arraySlice(0, 0, 5).arrayReduce(ee.Reducer.mean(), [0])\n",
        "\n",
        "    # configurar el kernel 7x7 para todas las direcciones\n",
        "    rect_weight = ee.List.repeat(ee.List.repeat(0, 7), 3).cat(ee.List.repeat(ee.List.repeat(1, 7), 4))\n",
        "\n",
        "    diag_weight = ee.List([[1, 0, 0, 0, 0, 0, 0], [1, 1, 0, 0, 0, 0, 0],\n",
        "                           [1, 1, 1, 0, 0, 0, 0], [1, 1, 1, 1, 0, 0, 0],\n",
        "                           [1, 1, 1, 1, 1, 0, 0], [1, 1, 1, 1, 1, 1, 0],\n",
        "                           [1, 1, 1, 1, 1, 1, 1]])\n",
        "\n",
        "    rect_kernel = ee.Kernel.fixed(7, 7, rect_weight, 3, 3, False)\n",
        "    diag_kernel = ee.Kernel.fixed(7, 7, diag_weight, 3, 3, False)\n",
        "\n",
        "    # crear un stack para la media y variancia usando el kernel original\n",
        "    dir_mean = image.reduceNeighborhood(ee.Reducer.mean(), rect_kernel).updateMask(directions.eq(1))\n",
        "    dir_var = image.reduceNeighborhood(ee.Reducer.variance(), rect_kernel).updateMask(directions.eq(1))\n",
        "\n",
        "    dir_mean = dir_mean.addBands(image.reduceNeighborhood(ee.Reducer.mean(), diag_kernel).updateMask(directions.eq(2)))\n",
        "    dir_var = dir_var.addBands(image.reduceNeighborhood(ee.Reducer.variance(), diag_kernel).updateMask(directions.eq(2)))\n",
        "\n",
        "    # añadir bandas y rotar los kernels\n",
        "    for i in range(1, 4):\n",
        "        dir_mean = dir_mean.addBands(image.reduceNeighborhood(ee.Reducer.mean(), rect_kernel.rotate(i)).updateMask(directions.eq(2 * i + 1)))\n",
        "        dir_var = dir_var.addBands(image.reduceNeighborhood(ee.Reducer.variance(), rect_kernel.rotate(i)).updateMask(directions.eq(2 * i + 1)))\n",
        "        dir_mean = dir_mean.addBands(image.reduceNeighborhood(ee.Reducer.mean(), diag_kernel.rotate(i)).updateMask(directions.eq(2 * i + 2)))\n",
        "        dir_var = dir_var.addBands(image.reduceNeighborhood(ee.Reducer.variance(), diag_kernel.rotate(i)).updateMask(directions.eq(2 * i + 2)))\n",
        "\n",
        "    # colapsar el stack en una sola banda\n",
        "    dir_mean = dir_mean.reduce(ee.Reducer.sum())\n",
        "    dir_var = dir_var.reduce(ee.Reducer.sum())\n",
        "\n",
        "    # generamos los valores filtrados\n",
        "    var_x = dir_var.subtract(dir_mean.multiply(dir_mean).multiply(sigma_v)).divide(sigma_v.add(1.0))\n",
        "    b = var_x.divide(dir_var)\n",
        "    result = dir_mean.add(b.multiply(image.subtract(dir_mean)))\n",
        "\n",
        "    return result.arrayFlatten([['sum']])\n",
        "    # return result"
      ],
      "execution_count": 44,
      "outputs": []
    },
    {
      "cell_type": "markdown",
      "metadata": {
        "colab_type": "text",
        "id": "yCI8YX71O97N"
      },
      "source": [
        "Hay que considerar que el filtro RLF opera sobre unidades de sigma naught ($\\sigma°$), por lo que se debe **convertir las unidades de SAR** de decibeles (dB) a $\\sigma°$ para computar el filtro.\n"
      ]
    },
    {
      "cell_type": "code",
      "metadata": {
        "colab_type": "code",
        "id": "frXgdRJrOAxK",
        "colab": {}
      },
      "source": [
        "def to_sigma0(image):\n",
        "    \"\"\"Convertir unidades en decibeles a sigma naught\"\"\"\n",
        "    return ee.Image(10.0).pow(image.divide(ee.Number(10.0)))\n",
        "\n",
        "def to_db(image):\n",
        "    \"\"\"Convertir unidades en sigma naught a decibeles\"\"\"\n",
        "    return image.log10().multiply(ee.Number(10))"
      ],
      "execution_count": 45,
      "outputs": []
    },
    {
      "cell_type": "code",
      "metadata": {
        "colab_type": "code",
        "id": "3mhudnFpOLn1",
        "colab": {}
      },
      "source": [
        "collection = collection.select('VV').map(to_sigma0).map(refined_lee).map(to_db).map(lambda img: img.rename('VV'))"
      ],
      "execution_count": 46,
      "outputs": []
    },
    {
      "cell_type": "markdown",
      "metadata": {
        "colab_type": "text",
        "id": "0zCSC1h900tJ"
      },
      "source": [
        "## **Colección de texturas**\n",
        "La Matriz de Co-Ocurrencia de Niveles Grises (GLCM) es una técnica que permite incrementar el número de dimensiones de nuestro de conjunto de datos usando las propiedades texturales de los objetos y la dependencia espacial de los niveles de grises. Esta implementación fue propuesta por [Haralick (1973)](http://doi.org/10.1109/TSMC.1973.4309314) y [Conners, et al (1984)](http://doi.org/10.1016/0734-189X(84)90197-X).\n"
      ]
    },
    {
      "cell_type": "code",
      "metadata": {
        "id": "bZekBXUNHuqP",
        "colab_type": "code",
        "colab": {}
      },
      "source": [
        "def texture_metrics(image):\n",
        "    \"\"\"Devuelve métricas de textura a partir de la Matriz de Gray Level Co-occurrence Matrix para cada banda.\"\"\"\n",
        "    kernel = ee.Kernel.circle(1)\n",
        "    return image.unitScale(0, 1).int32().glcmTexture(3, kernel)"
      ],
      "execution_count": 47,
      "outputs": []
    },
    {
      "cell_type": "code",
      "metadata": {
        "id": "bjDnLX7mA0UE",
        "colab_type": "code",
        "colab": {}
      },
      "source": [
        "texture = collection.map(texture_metrics)\n",
        "collection = collection.combine(texture)"
      ],
      "execution_count": 48,
      "outputs": []
    },
    {
      "cell_type": "code",
      "metadata": {
        "id": "NxhW3MbHjsdv",
        "colab_type": "code",
        "colab": {}
      },
      "source": [
        "def lowpass_filter(image):\n",
        "    kernel = ee.Kernel.square(7, 'pixels', True)\n",
        "    return image.convolve(kernel)"
      ],
      "execution_count": 49,
      "outputs": []
    },
    {
      "cell_type": "code",
      "metadata": {
        "id": "JtL0brseoMyf",
        "colab_type": "code",
        "colab": {}
      },
      "source": [
        "collection = collection.map(lowpass_filter)"
      ],
      "execution_count": 50,
      "outputs": []
    },
    {
      "cell_type": "markdown",
      "metadata": {
        "id": "sSBhNyXDHuqp",
        "colab_type": "text"
      },
      "source": [
        "## **Segmentación basada en clusterización**"
      ]
    },
    {
      "cell_type": "code",
      "metadata": {
        "id": "INF2uQbrQGyC",
        "colab_type": "code",
        "colab": {}
      },
      "source": [
        "def features_to_numpy(feature_collection, bands):\n",
        "    size = len(bands)\n",
        "    input_dict = feature_collection.reduceColumns(ee.Reducer.toList().repeat(size), bands)\n",
        "    input_list = ee.List(input_dict.get('list')).getInfo()\n",
        "    return np.array(input_list).T"
      ],
      "execution_count": 51,
      "outputs": []
    },
    {
      "cell_type": "code",
      "metadata": {
        "id": "ujW4H5vcHuqZ",
        "colab_type": "code",
        "colab": {}
      },
      "source": [
        "def get_bandname(collection):\n",
        "    band_id = collection.toBands().bandNames().getInfo()\n",
        "    slide = lambda band_id: band_id[68:]\n",
        "    band_names = [slide(i) for i in band_id]\n",
        "    \n",
        "    return band_names"
      ],
      "execution_count": 52,
      "outputs": []
    },
    {
      "cell_type": "markdown",
      "metadata": {
        "id": "fvMmBxnsb_gh",
        "colab_type": "text"
      },
      "source": [
        "### **Preparación de datos**"
      ]
    },
    {
      "cell_type": "code",
      "metadata": {
        "id": "_AJBWMrzHuqq",
        "colab_type": "code",
        "colab": {}
      },
      "source": [
        "# preparar el input\n",
        "bandname = get_bandname(collection)\n",
        "training_bands = ['VV', 'VV_asm', 'VV_contrast', 'VV_var', 'VV_ent', 'VV_idm', 'VV_diss', 'VV_inertia']\n",
        "input = collection.toBands().rename(bandname).select(training_bands)\n",
        "training = input.sample(region= aoi, scale= 10, numPixels= 1e5)"
      ],
      "execution_count": 53,
      "outputs": []
    },
    {
      "cell_type": "code",
      "metadata": {
        "id": "kKlhtoGhuKlg",
        "colab_type": "code",
        "colab": {
          "base_uri": "https://localhost:8080/",
          "height": 212
        },
        "outputId": "029f43a2-5fd7-43e2-9054-0b40d39520f5"
      },
      "source": [
        "df = features_to_numpy(feature_collection = training, bands = training_bands)\n",
        "df = pd.DataFrame(data= df, columns=training_bands) \n",
        "display(df.head(5), df.shape)"
      ],
      "execution_count": 54,
      "outputs": [
        {
          "output_type": "display_data",
          "data": {
            "text/html": [
              "<div>\n",
              "<style scoped>\n",
              "    .dataframe tbody tr th:only-of-type {\n",
              "        vertical-align: middle;\n",
              "    }\n",
              "\n",
              "    .dataframe tbody tr th {\n",
              "        vertical-align: top;\n",
              "    }\n",
              "\n",
              "    .dataframe thead th {\n",
              "        text-align: right;\n",
              "    }\n",
              "</style>\n",
              "<table border=\"1\" class=\"dataframe\">\n",
              "  <thead>\n",
              "    <tr style=\"text-align: right;\">\n",
              "      <th></th>\n",
              "      <th>VV</th>\n",
              "      <th>VV_asm</th>\n",
              "      <th>VV_contrast</th>\n",
              "      <th>VV_var</th>\n",
              "      <th>VV_ent</th>\n",
              "      <th>VV_idm</th>\n",
              "      <th>VV_diss</th>\n",
              "      <th>VV_inertia</th>\n",
              "    </tr>\n",
              "  </thead>\n",
              "  <tbody>\n",
              "    <tr>\n",
              "      <th>0</th>\n",
              "      <td>-13.101998</td>\n",
              "      <td>0.157851</td>\n",
              "      <td>0.870106</td>\n",
              "      <td>1.114735</td>\n",
              "      <td>2.263351</td>\n",
              "      <td>0.712013</td>\n",
              "      <td>0.624286</td>\n",
              "      <td>0.870106</td>\n",
              "    </tr>\n",
              "    <tr>\n",
              "      <th>1</th>\n",
              "      <td>-12.590091</td>\n",
              "      <td>0.249400</td>\n",
              "      <td>0.580053</td>\n",
              "      <td>0.560155</td>\n",
              "      <td>1.875519</td>\n",
              "      <td>0.771751</td>\n",
              "      <td>0.477090</td>\n",
              "      <td>0.580053</td>\n",
              "    </tr>\n",
              "    <tr>\n",
              "      <th>2</th>\n",
              "      <td>-12.929841</td>\n",
              "      <td>0.146724</td>\n",
              "      <td>0.850423</td>\n",
              "      <td>1.066222</td>\n",
              "      <td>2.271129</td>\n",
              "      <td>0.723744</td>\n",
              "      <td>0.601640</td>\n",
              "      <td>0.850423</td>\n",
              "    </tr>\n",
              "    <tr>\n",
              "      <th>3</th>\n",
              "      <td>-12.739207</td>\n",
              "      <td>0.144670</td>\n",
              "      <td>0.827037</td>\n",
              "      <td>1.045271</td>\n",
              "      <td>2.314578</td>\n",
              "      <td>0.717522</td>\n",
              "      <td>0.608413</td>\n",
              "      <td>0.827037</td>\n",
              "    </tr>\n",
              "    <tr>\n",
              "      <th>4</th>\n",
              "      <td>-12.949391</td>\n",
              "      <td>0.222920</td>\n",
              "      <td>0.655238</td>\n",
              "      <td>0.762306</td>\n",
              "      <td>1.947986</td>\n",
              "      <td>0.768254</td>\n",
              "      <td>0.495450</td>\n",
              "      <td>0.655238</td>\n",
              "    </tr>\n",
              "  </tbody>\n",
              "</table>\n",
              "</div>"
            ],
            "text/plain": [
              "          VV    VV_asm  VV_contrast  ...    VV_idm   VV_diss  VV_inertia\n",
              "0 -13.101998  0.157851     0.870106  ...  0.712013  0.624286    0.870106\n",
              "1 -12.590091  0.249400     0.580053  ...  0.771751  0.477090    0.580053\n",
              "2 -12.929841  0.146724     0.850423  ...  0.723744  0.601640    0.850423\n",
              "3 -12.739207  0.144670     0.827037  ...  0.717522  0.608413    0.827037\n",
              "4 -12.949391  0.222920     0.655238  ...  0.768254  0.495450    0.655238\n",
              "\n",
              "[5 rows x 8 columns]"
            ]
          },
          "metadata": {
            "tags": []
          }
        },
        {
          "output_type": "display_data",
          "data": {
            "text/plain": [
              "(93965, 8)"
            ]
          },
          "metadata": {
            "tags": []
          }
        }
      ]
    },
    {
      "cell_type": "markdown",
      "metadata": {
        "id": "9DNF9oXzcPVe",
        "colab_type": "text"
      },
      "source": [
        "## **Prueba de tendencia de agrupamiento**\n",
        "\n",
        "Los algoritmos de agrupamiento tienden a generar clusters incluso cuando son aplicados sobre datos aleatorios [Dubes y Jain (1979)](https://doi.org/10.1016/0031-3203(79)90034-7). Es por esto, que la validación de la tendencia de agrupamiento natural en un conjunto de datos resulta en un paso de vital importancia. La prueba estadística utilizada es la de Hopkins, propuesta por [Banerjee y Dave (2004)](https://doi.org/10.1109/FUZZY.2004.1375706)\n",
        "\n"
      ]
    },
    {
      "cell_type": "code",
      "metadata": {
        "id": "ZKzio0qHA2ZX",
        "colab_type": "code",
        "colab": {}
      },
      "source": [
        "def hopkins(X):\n",
        "    from sklearn.neighbors import NearestNeighbors\n",
        "    from random import sample\n",
        "    \n",
        "    n, d = X.shape\n",
        "    m = int(0.1 * n) # heuristic\n",
        "\n",
        "    # Cada punto xi ∈ D, encuentra su vecino cercano xj\n",
        "    nbrs = NearestNeighbors(n_neighbors=1).fit(X.values)\n",
        "    rand = np.random.choice(n, m)\n",
        "  \n",
        "    uj = []\n",
        "    wj = []\n",
        "    for j in range(0, m):\n",
        "      u_dist, _ = nbrs.kneighbors(np.random.uniform(np.amin(X, axis=0), np.amax(X, axis=0), d).reshape(1, -1), 2, return_distance=True)\n",
        "      uj.append(u_dist[0][1])\n",
        "      w_dist, _ = nbrs.kneighbors(X.iloc[rand[j]].values.reshape(1, -1), 2, return_distance=True)\n",
        "      wj.append(w_dist[0][1])\n",
        "    \n",
        "    H = np.sum(uj) / (np.sum(uj) + np.sum(wj))\n",
        "  \n",
        "    return H"
      ],
      "execution_count": 55,
      "outputs": []
    },
    {
      "cell_type": "code",
      "metadata": {
        "id": "OPBOm-Bgevaj",
        "colab_type": "code",
        "colab": {
          "base_uri": "https://localhost:8080/",
          "height": 34
        },
        "outputId": "560ef68f-3bdf-4b37-8075-e0fda0a7b8c4"
      },
      "source": [
        "hopkins(df)"
      ],
      "execution_count": 56,
      "outputs": [
        {
          "output_type": "execute_result",
          "data": {
            "text/plain": [
              "0.9919238830251714"
            ]
          },
          "metadata": {
            "tags": []
          },
          "execution_count": 56
        }
      ]
    },
    {
      "cell_type": "markdown",
      "metadata": {
        "id": "6k7hUS2Xa4Nq",
        "colab_type": "text"
      },
      "source": [
        "## **Modelo de Clustering**"
      ]
    },
    {
      "cell_type": "markdown",
      "metadata": {
        "id": "lr0Neea3sudF",
        "colab_type": "text"
      },
      "source": [
        "**Algoritmo Learning Vector Quantization (LVQ)**\n",
        "\n",
        "**Parámetros del modelo**\n",
        "> - **numClusters** : El número de clusters debe ser mayor a 0. Un cluster es una solución trivial, por lo que el mínimo deben ser 2. \n",
        "> - **learningRate** : El ratio de aprendizaje debe ser mayor a 0.01 y menor a 1. \n",
        "> - **epochs** : El número de épocas debe ser mayor a 1. Se establece por defecto 1000 épocas.\n"
      ]
    },
    {
      "cell_type": "code",
      "metadata": {
        "id": "2tZrdKTv2aDG",
        "colab_type": "code",
        "colab": {}
      },
      "source": [
        "clusterer = ee.Clusterer.wekaLVQ(numClusters=3, \n",
        "                                 learningRate=0.01, \n",
        "                                 epochs=1e3, \n",
        "                                 normalizeInput=True)\\\n",
        "                                 .train(training)"
      ],
      "execution_count": 57,
      "outputs": []
    },
    {
      "cell_type": "code",
      "metadata": {
        "id": "BtSjMwRDFIBz",
        "colab_type": "code",
        "colab": {
          "base_uri": "https://localhost:8080/",
          "height": 34
        },
        "outputId": "120b0cef-093c-4503-a25c-464f4757b47e"
      },
      "source": [
        "print('Variables de entrada de LVQ: {}'.format(clusterer.schema().getInfo()))"
      ],
      "execution_count": 58,
      "outputs": [
        {
          "output_type": "stream",
          "text": [
            "Variables de entrada de LVQ: ['VV', 'VV_asm', 'VV_contrast', 'VV_var', 'VV_ent', 'VV_idm', 'VV_diss', 'VV_inertia']\n"
          ],
          "name": "stdout"
        }
      ]
    },
    {
      "cell_type": "markdown",
      "metadata": {
        "id": "SQTx7cOqE3dZ",
        "colab_type": "text"
      },
      "source": [
        "### **Implementación**"
      ]
    },
    {
      "cell_type": "code",
      "metadata": {
        "id": "9VRXLd_5E2Ml",
        "colab_type": "code",
        "colab": {}
      },
      "source": [
        "clusters = input.cluster(clusterer)"
      ],
      "execution_count": 59,
      "outputs": []
    },
    {
      "cell_type": "markdown",
      "metadata": {
        "id": "UL5VlJUMu0xC",
        "colab_type": "text"
      },
      "source": [
        "### **Vectorización**\n",
        "\n",
        "Google Earth Engine opera de forma piramidal, esta premisa es importante, puesto que las salidas del algoritmo de clustering se dan en teselas, que varían en función de la escala de visualización, resultando conveniente su transformación a vector, estableciendo la escala deseada."
      ]
    },
    {
      "cell_type": "code",
      "metadata": {
        "id": "JPdtUCV3mSTh",
        "colab_type": "code",
        "colab": {}
      },
      "source": [
        "cluster_vector = clusters.eq(1).selfMask().reduceToVectors(scale=10)"
      ],
      "execution_count": 65,
      "outputs": []
    },
    {
      "cell_type": "markdown",
      "metadata": {
        "id": "U0chlLdqlT5s",
        "colab_type": "text"
      },
      "source": [
        "## **Mapa interactivo**"
      ]
    },
    {
      "cell_type": "code",
      "metadata": {
        "id": "RzulgnOK1Fqq",
        "colab_type": "code",
        "colab": {
          "base_uri": "https://localhost:8080/",
          "height": 866
        },
        "outputId": "64767798-6bab-48d7-c61e-363700c9e72e"
      },
      "source": [
        "# Configurar el token y atribución de Mapbox\n",
        "basemap = 'https://api.mapbox.com/styles/v1/juancn95/ck8rm02y905bc1jmkwjbfd4ag/tiles/256/{z}/{x}/{y}@2x?access_token=pk.eyJ1IjoianVhbmNuOTUiLCJhIjoiY2s4NTBrZ3FuMDF5bzNpcDF6MnN3Y3h3MCJ9.GM4l-z4U70YMLHd2KCVitQ'\n",
        "attribution = '© <a href=\"https://www.mapbox.com/about/maps/\">Mapbox</a> © <a href=\"http://www.openstreetmap.org/copyright\">OpenStreetMap</a>'\n",
        "\n",
        "# Crear un mapa\n",
        "map = folium.Map(location=[lat, lon], \n",
        "                 height='100%',\n",
        "                 width='100%',\n",
        "                 tiles= basemap,\n",
        "                 attr= attribution,\n",
        "                 zoom_start=10,\n",
        "                 prefer_canvas=True)\n",
        "\n",
        "# Crear un TileLayer para el minimap\n",
        "basemap_mini = folium.raster_layers.TileLayer(tiles= basemap, \n",
        "                                              attr= attribution)\n",
        "# Crear un minimap\n",
        "mini_map = MiniMap(tile_layer = basemap_mini,\n",
        "                   collapsed_width=50,\n",
        "                   zoom_level_offset=-6,\n",
        "                   width=300, \n",
        "                   height=100)\n",
        "# Añadir el minimapa\n",
        "map.add_child(mini_map)\n",
        "\n",
        "# Añadimos el vector de Google Earth Engine\n",
        "cluster_vector = clusters.eq(1).selfMask().reduceToVectors(scale=10)\n",
        "draw = cluster_vector.draw(color=\"red\", strokeWidth=1).getMapId()\n",
        "fet = draw[\"tile_fetcher\"].url_format\n",
        "folium.raster_layers.TileLayer(tiles=fet,\n",
        "                                attr='Google Earth Engine',\n",
        "                                name='Cluster').add_to(map)\n",
        "\n",
        "map"
      ],
      "execution_count": 66,
      "outputs": [
        {
          "output_type": "execute_result",
          "data": {
            "text/html": [
              "<div style=\"width:100%;\"><div style=\"position:relative;width:100%;height:0;padding-bottom:60%;\"><span style=\"color:#565656\">Make this Notebook Trusted to load map: File -> Trust Notebook</span><iframe src=\"about:blank\" style=\"position:absolute;width:100%;height:100%;left:0;top:0;border:none !important;\" data-html=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 onload=\"this.contentDocument.open();this.contentDocument.write(atob(this.getAttribute('data-html')));this.contentDocument.close();\" allowfullscreen webkitallowfullscreen mozallowfullscreen></iframe></div></div>"
            ],
            "text/plain": [
              "<folium.folium.Map at 0x7efd3f334780>"
            ]
          },
          "metadata": {
            "tags": []
          },
          "execution_count": 66
        }
      ]
    },
    {
      "cell_type": "markdown",
      "metadata": {
        "id": "jOizyTrR86fA",
        "colab_type": "text"
      },
      "source": [
        "# **Referencias Bibliográficas**\n",
        "\n",
        "- Gorelick, N., Hancher, M., Dixon, M., Ilyushchenko, S., Thau, D., & Moore, R. (2017). Google Earth Engine: Planetary-scale geospatial analysis for everyone. Remote sensing of Environment, 202, 18-27.\n",
        "- Alpers, W., & Huang, W. (2010). On the discrimination of radar signatures of atmospheric gravity waves and oceanic internal waves on synthetic aperture radar images of the sea surface. IEEE Transactions on Geoscience and Remote Sensing, 49(3), 1114-1126.\n",
        "- Singha, S., Vespe, M., & Trieschmann, O. (2013). Automatic Synthetic Aperture Radar based oil spill detection and performance estimation via a semi-automatic operational service benchmark. Marine pollution bulletin, 73(1), 199-209.\n",
        "- Yommy, A. S., Liu, R., & Wu, S. (2015). SAR image despeckling using refined Lee filter. In 2015 7th International Conference on Intelligent Human-Machine Systems and Cybernetics (Vol. 2, pp. 260-265). IEEE.\n",
        "- Robert, H., Shanmugan, K., & Dinstein, I. (1973). Textural features for image classification.\n",
        "- Conners, R. W., Trivedi, M. M., & Harlow, C. A. (1984). Segmentation of a high-resolution urban scene using texture operators. Computer vision, graphics, and image processing, 25(3), 273-310.\n",
        "- Dubes, R., & Jain, A. K. (1979). Validity studies in clustering methodologies. Pattern recognition, 11(4), 235-254.\n",
        "- Banerjee, A., & Dave, R. N. (2004). Validating clusters using the Hopkins statistic. In 2004 IEEE International conference on fuzzy systems (IEEE Cat. No. 04CH37542) (Vol. 1, pp. 149-153). IEEE.\n",
        "- T. Kohonen. (2003). \"Learning Vector Quantization\". The Handbook of Brain Theory and Neural Networks. MIT Press, 631-634.\n"
      ]
    },
    {
      "cell_type": "code",
      "metadata": {
        "id": "GUyPhP9Up3Ry",
        "colab_type": "code",
        "colab": {}
      },
      "source": [
        ""
      ],
      "execution_count": null,
      "outputs": []
    }
  ]
}