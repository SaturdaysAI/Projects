{
 "cells": [
  {
   "cell_type": "code",
   "execution_count": 1,
   "metadata": {},
   "outputs": [
    {
     "data": {
      "text/html": [
       "<div>\n",
       "<style scoped>\n",
       "    .dataframe tbody tr th:only-of-type {\n",
       "        vertical-align: middle;\n",
       "    }\n",
       "\n",
       "    .dataframe tbody tr th {\n",
       "        vertical-align: top;\n",
       "    }\n",
       "\n",
       "    .dataframe thead th {\n",
       "        text-align: right;\n",
       "    }\n",
       "</style>\n",
       "<table border=\"1\" class=\"dataframe\">\n",
       "  <thead>\n",
       "    <tr style=\"text-align: right;\">\n",
       "      <th></th>\n",
       "      <th>tweet.created_at</th>\n",
       "      <th>tweet.user.screen_name</th>\n",
       "      <th>tweet.user.location</th>\n",
       "      <th>tweet_full_text</th>\n",
       "      <th>Depresivo</th>\n",
       "      <th>Cadena_depres</th>\n",
       "      <th>titular</th>\n",
       "    </tr>\n",
       "  </thead>\n",
       "  <tbody>\n",
       "    <tr>\n",
       "      <th>0</th>\n",
       "      <td>2020-05-19 05:23:16</td>\n",
       "      <td>_carolinaromero</td>\n",
       "      <td>Guayaquil</td>\n",
       "      <td>veo tanta gente quejandose servicio internet f...</td>\n",
       "      <td>0</td>\n",
       "      <td>0</td>\n",
       "      <td>doc1</td>\n",
       "    </tr>\n",
       "    <tr>\n",
       "      <th>1</th>\n",
       "      <td>2020-05-24 20:24:12</td>\n",
       "      <td>_emigar</td>\n",
       "      <td>Guayaquil</td>\n",
       "      <td>expresoec lenin incapaces donar mes trabajados...</td>\n",
       "      <td>0</td>\n",
       "      <td>0</td>\n",
       "      <td>doc2</td>\n",
       "    </tr>\n",
       "    <tr>\n",
       "      <th>2</th>\n",
       "      <td>2020-05-17 22:35:40</td>\n",
       "      <td>_emigar</td>\n",
       "      <td>Guayaquil</td>\n",
       "      <td>twitter lenin obituario farandula pandemia</td>\n",
       "      <td>0</td>\n",
       "      <td>0</td>\n",
       "      <td>doc3</td>\n",
       "    </tr>\n",
       "    <tr>\n",
       "      <th>3</th>\n",
       "      <td>2020-05-19 02:35:18</td>\n",
       "      <td>_fbsc</td>\n",
       "      <td>Guayaquil</td>\n",
       "      <td>mashirafael favor comparte</td>\n",
       "      <td>0</td>\n",
       "      <td>0</td>\n",
       "      <td>doc4</td>\n",
       "    </tr>\n",
       "    <tr>\n",
       "      <th>4</th>\n",
       "      <td>2020-05-19 02:32:52</td>\n",
       "      <td>_fbsc</td>\n",
       "      <td>Guayaquil</td>\n",
       "      <td>krncita favor comparte</td>\n",
       "      <td>0</td>\n",
       "      <td>0</td>\n",
       "      <td>doc5</td>\n",
       "    </tr>\n",
       "  </tbody>\n",
       "</table>\n",
       "</div>"
      ],
      "text/plain": [
       "     tweet.created_at tweet.user.screen_name tweet.user.location  \\\n",
       "0 2020-05-19 05:23:16        _carolinaromero           Guayaquil   \n",
       "1 2020-05-24 20:24:12                _emigar           Guayaquil   \n",
       "2 2020-05-17 22:35:40                _emigar           Guayaquil   \n",
       "3 2020-05-19 02:35:18                  _fbsc           Guayaquil   \n",
       "4 2020-05-19 02:32:52                  _fbsc           Guayaquil   \n",
       "\n",
       "                                     tweet_full_text  Depresivo  \\\n",
       "0  veo tanta gente quejandose servicio internet f...          0   \n",
       "1  expresoec lenin incapaces donar mes trabajados...          0   \n",
       "2         twitter lenin obituario farandula pandemia          0   \n",
       "3                         mashirafael favor comparte          0   \n",
       "4                             krncita favor comparte          0   \n",
       "\n",
       "   Cadena_depres titular  \n",
       "0              0    doc1  \n",
       "1              0    doc2  \n",
       "2              0    doc3  \n",
       "3              0    doc4  \n",
       "4              0    doc5  "
      ]
     },
     "metadata": {},
     "output_type": "display_data"
    }
   ],
   "source": [
    "import pandas as pd\n",
    "\n",
    "test = pd.read_excel(\"covid_guayaquil_limpio.xlsx\")\n",
    "display(test.head(5))\n"
   ]
  },
  {
   "cell_type": "code",
   "execution_count": 2,
   "metadata": {},
   "outputs": [],
   "source": [
    "anterior=test[\"tweet.user.screen_name\"][0]\n",
    "matr=[]\n",
    "aux=[]\n",
    "long=len(test[\"tweet.user.screen_name\"])"
   ]
  },
  {
   "cell_type": "code",
   "execution_count": 3,
   "metadata": {},
   "outputs": [],
   "source": [
    "for i in range(long):\n",
    "    usuario=test[\"tweet.user.screen_name\"][i]\n",
    "    #print(f\"{usuario} y {anterior}\")\n",
    "    if test[\"tweet.user.screen_name\"][i] == anterior:\n",
    "        aux.append(test[\"Depresivo\"][i])\n",
    "    else:\n",
    "        if aux==[]:\n",
    "            aux.append(test[\"Depresivo\"][i])\n",
    "        matr.append(aux)\n",
    "        aux=[]\n",
    "        aux.append(test[\"Depresivo\"][i])\n",
    "    if i == long-1:\n",
    "        aux=[]\n",
    "        aux.append(test[\"Depresivo\"][i])\n",
    "        matr.append(aux)\n",
    "    anterior=test[\"tweet.user.screen_name\"][i] \n",
    "    "
   ]
  },
  {
   "cell_type": "code",
   "execution_count": 4,
   "metadata": {},
   "outputs": [
    {
     "name": "stdout",
     "output_type": "stream",
     "text": [
      "95\n"
     ]
    }
   ],
   "source": [
    "leng=[]\n",
    "for i in range(len(matr)):\n",
    "    leng.append(len(matr[i]))\n",
    "maxim=max(leng)\n",
    "print(maxim)"
   ]
  },
  {
   "cell_type": "code",
   "execution_count": 5,
   "metadata": {},
   "outputs": [
    {
     "data": {
      "text/plain": [
       "[1805]"
      ]
     },
     "execution_count": 5,
     "metadata": {},
     "output_type": "execute_result"
    }
   ],
   "source": [
    "m = max(leng)\n",
    "[i for i, j in enumerate(leng) if j == m]"
   ]
  },
  {
   "cell_type": "code",
   "execution_count": 6,
   "metadata": {},
   "outputs": [],
   "source": [
    "for i in range(len(matr)):\n",
    "    if len(matr[i])<10:\n",
    "        while len(matr[i])<10:\n",
    "            matr[i].append(0)\n",
    "    elif len(matr[i])>10: \n",
    "        #print(f\"prev en {matr[i]}\")\n",
    "        matr[i]=matr[i][0:10]\n",
    "        #print(f\"aft en {matr[i]}\")\n",
    "#print(matr)"
   ]
  },
  {
   "cell_type": "code",
   "execution_count": 7,
   "metadata": {},
   "outputs": [
    {
     "name": "stdout",
     "output_type": "stream",
     "text": [
      "10\n",
      "10\n"
     ]
    }
   ],
   "source": [
    "leng=[]\n",
    "for i in range(len(matr)):\n",
    "    leng.append(len(matr[i]))\n",
    "maxim=max(leng)\n",
    "print(maxim)\n",
    "\n",
    "leng=[]\n",
    "for i in range(len(matr)):\n",
    "    leng.append(len(matr[i]))\n",
    "maxim=max(leng)\n",
    "print(maxim)"
   ]
  },
  {
   "cell_type": "code",
   "execution_count": 8,
   "metadata": {},
   "outputs": [],
   "source": [
    "X=matr"
   ]
  },
  {
   "cell_type": "code",
   "execution_count": 9,
   "metadata": {},
   "outputs": [],
   "source": [
    "anteriorY=test[\"tweet.user.screen_name\"][0]\n",
    "matrY=[]\n",
    "auxY=[]\n",
    "longY=len(test[\"tweet.user.screen_name\"])"
   ]
  },
  {
   "cell_type": "code",
   "execution_count": 10,
   "metadata": {},
   "outputs": [],
   "source": [
    "for i in range(longY):\n",
    "    usuarioY=test[\"tweet.user.screen_name\"][i]\n",
    "    #print(f\"{usuario} y {anterior}\")\n",
    "    if test[\"tweet.user.screen_name\"][i] == anteriorY:\n",
    "        auxY.append(test[\"Cadena_depres\"][i])\n",
    "    else:\n",
    "        if auxY==[]:\n",
    "            auxY.append(test[\"Cadena_depres\"][i])\n",
    "        matrY.append(auxY)\n",
    "        auxY=[]\n",
    "        auxY.append(test[\"Cadena_depres\"][i])\n",
    "    if i == longY-1:\n",
    "        auxY=[]\n",
    "        auxY.append(test[\"Cadena_depres\"][i])\n",
    "        matrY.append(auxY)\n",
    "    anteriorY=test[\"tweet.user.screen_name\"][i] "
   ]
  },
  {
   "cell_type": "code",
   "execution_count": 11,
   "metadata": {},
   "outputs": [],
   "source": [
    "#print(matrY)\n",
    "Y=[]\n",
    "for i in matrY:\n",
    "    Y.append(i[0])"
   ]
  },
  {
   "cell_type": "code",
   "execution_count": 12,
   "metadata": {},
   "outputs": [],
   "source": [
    "from sklearn.feature_extraction.text import CountVectorizer\n",
    "from sklearn import metrics\n",
    "from sklearn.naive_bayes import MultinomialNB\n",
    "from sklearn import metrics\n",
    "from sklearn import preprocessing\n",
    "import numpy as np"
   ]
  },
  {
   "cell_type": "code",
   "execution_count": 13,
   "metadata": {},
   "outputs": [
    {
     "name": "stdout",
     "output_type": "stream",
     "text": [
      "['veo', 'tanta', 'gente', 'quejandose', 'servicio', 'internet', 'fijo', 'cnt', 'tvcable', 'agradezco', 'cielo', 'habernos', 'cambiado', 'servicio', 'empezado', 'pandemia']\n"
     ]
    }
   ],
   "source": [
    "#tweet_full_text\n",
    "tex=[]\n",
    "var=\"\"\n",
    "for i in test[\"tweet_full_text\"]:\n",
    "    var=str(i).split()\n",
    "    tex.append(var)\n",
    "print(tex[0])"
   ]
  },
  {
   "cell_type": "code",
   "execution_count": 14,
   "metadata": {},
   "outputs": [],
   "source": [
    "palab=[]\n",
    "t=0\n",
    "for i in tex:\n",
    "    for j in i:\n",
    "        palab.append(j)\n",
    "        t+=1\n",
    "dic=set(palab)\n",
    "pal=[]\n",
    "for i in dic:\n",
    "    pal.append(i)"
   ]
  },
  {
   "cell_type": "code",
   "execution_count": 15,
   "metadata": {},
   "outputs": [
    {
     "data": {
      "text/plain": [
       "LabelEncoder()"
      ]
     },
     "execution_count": 15,
     "metadata": {},
     "output_type": "execute_result"
    }
   ],
   "source": [
    "le=preprocessing.LabelEncoder()\n",
    "le.fit(pal)"
   ]
  },
  {
   "cell_type": "code",
   "execution_count": 16,
   "metadata": {},
   "outputs": [
    {
     "name": "stdout",
     "output_type": "stream",
     "text": [
      "[[0. 0. 0. 0. 0. 0. 0. 0. 0. 0. 0. 0. 0. 0. 0. 0.]\n",
      " [0. 0. 0. 0. 0. 0. 0. 0. 0. 0. 0. 0. 0. 0. 0. 0.]\n",
      " [0. 0. 0. 0. 0. 0. 0. 0. 0. 0. 0. 0. 0. 0. 0. 0.]\n",
      " [0. 0. 0. 0. 0. 0. 0. 0. 0. 0. 0. 0. 0. 0. 0. 0.]\n",
      " [0. 0. 0. 0. 0. 0. 0. 0. 0. 0. 0. 0. 0. 0. 0. 0.]\n",
      " [0. 0. 0. 0. 0. 0. 0. 0. 0. 0. 0. 0. 0. 0. 0. 0.]\n",
      " [0. 0. 0. 0. 0. 0. 0. 0. 0. 0. 0. 0. 0. 0. 0. 0.]]\n"
     ]
    }
   ],
   "source": [
    "X_train=[]\n",
    "tex_test=[['no','me','siento','bien','maldita','depresion','hdp','soledad','mala',],\n",
    "        ['que','bien','feliz','siento','trabajo','linea','mejor'],\n",
    "        ['corrupcion','ratas','gobierno','saben','hacen'],\n",
    "        ['pruebas','covid','tratamiento','hospital','mascarillas'],\n",
    "        ['depresion','real','mal','siento','triste','llanto'],\n",
    "        ['musica','vida'],\n",
    "        ['solo','mal','depresion','loco','soledad']]\n",
    "anadir=np.zeros([7,16])\n",
    "X_test=[]\n",
    "Y_test=[1,0,0,0,1,0,1]\n",
    "tem=[]\n",
    "for i in range(len(tex)):\n",
    "    tem=le.transform(tex[i])\n",
    "    X_train.append(tem)\n",
    "tem=[]\n",
    "for i in range(len(tex_test)):\n",
    "    tem=le.transform(tex[i])\n",
    "    X_test.append(tem)\n",
    "#print(anadir)"
   ]
  },
  {
   "cell_type": "code",
   "execution_count": 17,
   "metadata": {},
   "outputs": [],
   "source": [
    "y_train=[]\n",
    "for i in test[\"Depresivo\"]:\n",
    "    y_train.append(i)\n",
    "#print(y_train)"
   ]
  },
  {
   "cell_type": "code",
   "execution_count": 18,
   "metadata": {},
   "outputs": [
    {
     "data": {
      "text/html": [
       "<div>\n",
       "<style scoped>\n",
       "    .dataframe tbody tr th:only-of-type {\n",
       "        vertical-align: middle;\n",
       "    }\n",
       "\n",
       "    .dataframe tbody tr th {\n",
       "        vertical-align: top;\n",
       "    }\n",
       "\n",
       "    .dataframe thead th {\n",
       "        text-align: right;\n",
       "    }\n",
       "</style>\n",
       "<table border=\"1\" class=\"dataframe\">\n",
       "  <thead>\n",
       "    <tr style=\"text-align: right;\">\n",
       "      <th></th>\n",
       "      <th>0</th>\n",
       "      <th>1</th>\n",
       "      <th>2</th>\n",
       "      <th>3</th>\n",
       "      <th>4</th>\n",
       "      <th>5</th>\n",
       "      <th>6</th>\n",
       "      <th>7</th>\n",
       "      <th>8</th>\n",
       "      <th>9</th>\n",
       "      <th>...</th>\n",
       "      <th>23</th>\n",
       "      <th>24</th>\n",
       "      <th>25</th>\n",
       "      <th>26</th>\n",
       "      <th>27</th>\n",
       "      <th>28</th>\n",
       "      <th>29</th>\n",
       "      <th>30</th>\n",
       "      <th>31</th>\n",
       "      <th>32</th>\n",
       "    </tr>\n",
       "  </thead>\n",
       "  <tbody>\n",
       "    <tr>\n",
       "      <th>0</th>\n",
       "      <td>13052</td>\n",
       "      <td>12281.0</td>\n",
       "      <td>5877.0</td>\n",
       "      <td>10531.0</td>\n",
       "      <td>11764.0</td>\n",
       "      <td>6956.0</td>\n",
       "      <td>5537.0</td>\n",
       "      <td>2343.0</td>\n",
       "      <td>12752.0</td>\n",
       "      <td>399.0</td>\n",
       "      <td>...</td>\n",
       "      <td>0.0</td>\n",
       "      <td>0.0</td>\n",
       "      <td>0.0</td>\n",
       "      <td>0.0</td>\n",
       "      <td>0.0</td>\n",
       "      <td>0.0</td>\n",
       "      <td>0.0</td>\n",
       "      <td>0.0</td>\n",
       "      <td>0.0</td>\n",
       "      <td>0.0</td>\n",
       "    </tr>\n",
       "    <tr>\n",
       "      <th>1</th>\n",
       "      <td>5290</td>\n",
       "      <td>7554.0</td>\n",
       "      <td>6576.0</td>\n",
       "      <td>4216.0</td>\n",
       "      <td>8283.0</td>\n",
       "      <td>12589.0</td>\n",
       "      <td>9261.0</td>\n",
       "      <td>0.0</td>\n",
       "      <td>0.0</td>\n",
       "      <td>0.0</td>\n",
       "      <td>...</td>\n",
       "      <td>0.0</td>\n",
       "      <td>0.0</td>\n",
       "      <td>0.0</td>\n",
       "      <td>0.0</td>\n",
       "      <td>0.0</td>\n",
       "      <td>0.0</td>\n",
       "      <td>0.0</td>\n",
       "      <td>0.0</td>\n",
       "      <td>0.0</td>\n",
       "      <td>0.0</td>\n",
       "    </tr>\n",
       "    <tr>\n",
       "      <th>2</th>\n",
       "      <td>12765</td>\n",
       "      <td>7554.0</td>\n",
       "      <td>8895.0</td>\n",
       "      <td>5422.0</td>\n",
       "      <td>9261.0</td>\n",
       "      <td>0.0</td>\n",
       "      <td>0.0</td>\n",
       "      <td>0.0</td>\n",
       "      <td>0.0</td>\n",
       "      <td>0.0</td>\n",
       "      <td>...</td>\n",
       "      <td>0.0</td>\n",
       "      <td>0.0</td>\n",
       "      <td>0.0</td>\n",
       "      <td>0.0</td>\n",
       "      <td>0.0</td>\n",
       "      <td>0.0</td>\n",
       "      <td>0.0</td>\n",
       "      <td>0.0</td>\n",
       "      <td>0.0</td>\n",
       "      <td>0.0</td>\n",
       "    </tr>\n",
       "    <tr>\n",
       "      <th>3</th>\n",
       "      <td>8107</td>\n",
       "      <td>5443.0</td>\n",
       "      <td>2521.0</td>\n",
       "      <td>0.0</td>\n",
       "      <td>0.0</td>\n",
       "      <td>0.0</td>\n",
       "      <td>0.0</td>\n",
       "      <td>0.0</td>\n",
       "      <td>0.0</td>\n",
       "      <td>0.0</td>\n",
       "      <td>...</td>\n",
       "      <td>0.0</td>\n",
       "      <td>0.0</td>\n",
       "      <td>0.0</td>\n",
       "      <td>0.0</td>\n",
       "      <td>0.0</td>\n",
       "      <td>0.0</td>\n",
       "      <td>0.0</td>\n",
       "      <td>0.0</td>\n",
       "      <td>0.0</td>\n",
       "      <td>0.0</td>\n",
       "    </tr>\n",
       "    <tr>\n",
       "      <th>4</th>\n",
       "      <td>7392</td>\n",
       "      <td>5443.0</td>\n",
       "      <td>2521.0</td>\n",
       "      <td>0.0</td>\n",
       "      <td>0.0</td>\n",
       "      <td>0.0</td>\n",
       "      <td>0.0</td>\n",
       "      <td>0.0</td>\n",
       "      <td>0.0</td>\n",
       "      <td>0.0</td>\n",
       "      <td>...</td>\n",
       "      <td>0.0</td>\n",
       "      <td>0.0</td>\n",
       "      <td>0.0</td>\n",
       "      <td>0.0</td>\n",
       "      <td>0.0</td>\n",
       "      <td>0.0</td>\n",
       "      <td>0.0</td>\n",
       "      <td>0.0</td>\n",
       "      <td>0.0</td>\n",
       "      <td>0.0</td>\n",
       "    </tr>\n",
       "  </tbody>\n",
       "</table>\n",
       "<p>5 rows × 33 columns</p>\n",
       "</div>"
      ],
      "text/plain": [
       "      0        1       2        3        4        5       6       7        8   \\\n",
       "0  13052  12281.0  5877.0  10531.0  11764.0   6956.0  5537.0  2343.0  12752.0   \n",
       "1   5290   7554.0  6576.0   4216.0   8283.0  12589.0  9261.0     0.0      0.0   \n",
       "2  12765   7554.0  8895.0   5422.0   9261.0      0.0     0.0     0.0      0.0   \n",
       "3   8107   5443.0  2521.0      0.0      0.0      0.0     0.0     0.0      0.0   \n",
       "4   7392   5443.0  2521.0      0.0      0.0      0.0     0.0     0.0      0.0   \n",
       "\n",
       "      9  ...    23   24   25   26   27   28   29   30   31   32  \n",
       "0  399.0 ...   0.0  0.0  0.0  0.0  0.0  0.0  0.0  0.0  0.0  0.0  \n",
       "1    0.0 ...   0.0  0.0  0.0  0.0  0.0  0.0  0.0  0.0  0.0  0.0  \n",
       "2    0.0 ...   0.0  0.0  0.0  0.0  0.0  0.0  0.0  0.0  0.0  0.0  \n",
       "3    0.0 ...   0.0  0.0  0.0  0.0  0.0  0.0  0.0  0.0  0.0  0.0  \n",
       "4    0.0 ...   0.0  0.0  0.0  0.0  0.0  0.0  0.0  0.0  0.0  0.0  \n",
       "\n",
       "[5 rows x 33 columns]"
      ]
     },
     "metadata": {},
     "output_type": "display_data"
    },
    {
     "data": {
      "text/plain": [
       "MultinomialNB(alpha=1.0, class_prior=None, fit_prior=True)"
      ]
     },
     "execution_count": 18,
     "metadata": {},
     "output_type": "execute_result"
    }
   ],
   "source": [
    "from sklearn.naive_bayes import MultinomialNB\n",
    "from sklearn.feature_extraction.text import CountVectorizer\n",
    "from sklearn import metrics\n",
    "\n",
    "df2=pd.DataFrame(X_train)\n",
    "df2=df2.fillna(0)\n",
    "display(df2.head(5))\n",
    "\n",
    "\n",
    "nb = MultinomialNB()\n",
    "nb.fit(df2,y_train)"
   ]
  },
  {
   "cell_type": "code",
   "execution_count": 19,
   "metadata": {},
   "outputs": [
    {
     "name": "stdout",
     "output_type": "stream",
     "text": [
      "[array([13052, 12281,  5877, 10531, 11764,  6956,  5537,  2343, 12752,\n",
      "         399,  2220,  6095,  1788, 11764,  4573,  9261], dtype=int64), array([ 5290,  7554,  6576,  4216,  8283, 12589,  9261], dtype=int64), array([12765,  7554,  8895,  5422,  9261], dtype=int64), array([8107, 5443, 2521], dtype=int64), array([7392, 5443, 2521], dtype=int64), array([ 1679,  8559, 11920,  7833, 13285,  9398, 11930,  5623,  7877,\n",
      "       12579,  3785, 10192, 11160,  3193,  3055,  8792,  4329],\n",
      "      dtype=int64), array([ 4196,  6339, 11815, 12710, 10555,  7764, 11475,  7429, 11853],\n",
      "      dtype=int64)]\n"
     ]
    }
   ],
   "source": [
    "for i in X_test:\n",
    "    while len(i)<32:\n",
    "        i=np.append(i,0, axis=None)\n",
    "print(X_test)"
   ]
  },
  {
   "cell_type": "code",
   "execution_count": null,
   "metadata": {},
   "outputs": [],
   "source": []
  }
 ],
 "metadata": {
  "kernelspec": {
   "display_name": "Python 3",
   "language": "python",
   "name": "python3"
  },
  "language_info": {
   "codemirror_mode": {
    "name": "ipython",
    "version": 3
   },
   "file_extension": ".py",
   "mimetype": "text/x-python",
   "name": "python",
   "nbconvert_exporter": "python",
   "pygments_lexer": "ipython3",
   "version": "3.7.1"
  }
 },
 "nbformat": 4,
 "nbformat_minor": 2
}
