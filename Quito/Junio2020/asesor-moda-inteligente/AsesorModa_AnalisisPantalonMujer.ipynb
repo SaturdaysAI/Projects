{
 "cells": [
  {
   "cell_type": "markdown",
   "metadata": {},
   "source": [
    "<font color='#d90fa0'><b>ASESOR DE MODA - PREDICCIÓN DE PANTALON MUJER</b></font>\n",
    "\n",
    "Para el análisis del asesor de moda se generará el archivo resultante de la predicción la prenda tipo PANTALON_MUJER por tipo de cuerpo en ésta sección.\n",
    "\n",
    "Agregar librerías"
   ]
  },
  {
   "cell_type": "code",
   "execution_count": 1,
   "metadata": {},
   "outputs": [],
   "source": [
    "import pandas as pd\n",
    "import seaborn as sns\n",
    "from sklearn.linear_model import LogisticRegression\n",
    "from sklearn.svm import SVC, LinearSVC\n",
    "from sklearn.ensemble import RandomForestClassifier\n",
    "from sklearn.neighbors import KNeighborsClassifier\n",
    "from sklearn.naive_bayes import GaussianNB\n",
    "from sklearn.linear_model import Perceptron\n",
    "from sklearn.linear_model import SGDClassifier\n",
    "from sklearn.tree import DecisionTreeClassifier"
   ]
  },
  {
   "cell_type": "markdown",
   "metadata": {},
   "source": [
    "Lectura y revisión de archivo de datos"
   ]
  },
  {
   "cell_type": "code",
   "execution_count": 2,
   "metadata": {},
   "outputs": [
    {
     "name": "stdout",
     "output_type": "stream",
     "text": [
      "(80, 14)\n"
     ]
    }
   ],
   "source": [
    "#Leer archivo\n",
    "datoscsv = pd.read_csv(\"C:\\\\Users\\\\Syslan\\\\Curso AI\\\\DemoDayAsesorModa\\\\dataset\\\\DSPantWoman.csv\",encoding='unicode_escape')\n",
    "print(datoscsv.shape)"
   ]
  },
  {
   "cell_type": "code",
   "execution_count": 3,
   "metadata": {},
   "outputs": [
    {
     "name": "stdout",
     "output_type": "stream",
     "text": [
      "<class 'pandas.core.frame.DataFrame'>\n",
      "RangeIndex: 80 entries, 0 to 79\n",
      "Data columns (total 14 columns):\n",
      " #   Column        Non-Null Count  Dtype \n",
      "---  ------        --------------  ----- \n",
      " 0   SEXO          80 non-null     object\n",
      " 1   IDSEXO        80 non-null     int64 \n",
      " 2   TIPOCUERPO    80 non-null     object\n",
      " 3   IDTIPOCUERPO  80 non-null     int64 \n",
      " 4   TIPOPRENDA    80 non-null     object\n",
      " 5   IDTIPOPRENDA  80 non-null     int64 \n",
      " 6   MODELO        80 non-null     object\n",
      " 7   IDMODELO      80 non-null     int64 \n",
      " 8   LONGITUD      80 non-null     object\n",
      " 9   CORTE         80 non-null     object\n",
      " 10  BOLSILLOS     80 non-null     object\n",
      " 11  ELASTICOS     80 non-null     object\n",
      " 12  ESTATURA      80 non-null     object\n",
      " 13  PRENDAAPTA    80 non-null     int64 \n",
      "dtypes: int64(5), object(9)\n",
      "memory usage: 8.9+ KB\n"
     ]
    }
   ],
   "source": [
    "#Reviso estructura de información\n",
    "datoscsv.info()"
   ]
  },
  {
   "cell_type": "code",
   "execution_count": 4,
   "metadata": {},
   "outputs": [
    {
     "data": {
      "text/html": [
       "<div>\n",
       "<style scoped>\n",
       "    .dataframe tbody tr th:only-of-type {\n",
       "        vertical-align: middle;\n",
       "    }\n",
       "\n",
       "    .dataframe tbody tr th {\n",
       "        vertical-align: top;\n",
       "    }\n",
       "\n",
       "    .dataframe thead th {\n",
       "        text-align: right;\n",
       "    }\n",
       "</style>\n",
       "<table border=\"1\" class=\"dataframe\">\n",
       "  <thead>\n",
       "    <tr style=\"text-align: right;\">\n",
       "      <th></th>\n",
       "      <th>SEXO</th>\n",
       "      <th>IDSEXO</th>\n",
       "      <th>TIPOCUERPO</th>\n",
       "      <th>IDTIPOCUERPO</th>\n",
       "      <th>TIPOPRENDA</th>\n",
       "      <th>IDTIPOPRENDA</th>\n",
       "      <th>MODELO</th>\n",
       "      <th>IDMODELO</th>\n",
       "      <th>LONGITUD</th>\n",
       "      <th>CORTE</th>\n",
       "      <th>BOLSILLOS</th>\n",
       "      <th>ELASTICOS</th>\n",
       "      <th>ESTATURA</th>\n",
       "      <th>PRENDAAPTA</th>\n",
       "    </tr>\n",
       "  </thead>\n",
       "  <tbody>\n",
       "    <tr>\n",
       "      <th>0</th>\n",
       "      <td>MUJER</td>\n",
       "      <td>1</td>\n",
       "      <td>Triangulo Invertido</td>\n",
       "      <td>1</td>\n",
       "      <td>PANTALON</td>\n",
       "      <td>2</td>\n",
       "      <td>RECTO</td>\n",
       "      <td>1</td>\n",
       "      <td>LARGO</td>\n",
       "      <td>NORMAL</td>\n",
       "      <td>POCO</td>\n",
       "      <td>NO</td>\n",
       "      <td>TODAS</td>\n",
       "      <td>1</td>\n",
       "    </tr>\n",
       "    <tr>\n",
       "      <th>1</th>\n",
       "      <td>MUJER</td>\n",
       "      <td>1</td>\n",
       "      <td>Triangulo Invertido</td>\n",
       "      <td>1</td>\n",
       "      <td>PANTALON</td>\n",
       "      <td>2</td>\n",
       "      <td>PITILLO</td>\n",
       "      <td>2</td>\n",
       "      <td>LARGO</td>\n",
       "      <td>AJUSTADO</td>\n",
       "      <td>NADA</td>\n",
       "      <td>A VECES</td>\n",
       "      <td>TODAS</td>\n",
       "      <td>0</td>\n",
       "    </tr>\n",
       "    <tr>\n",
       "      <th>2</th>\n",
       "      <td>MUJER</td>\n",
       "      <td>1</td>\n",
       "      <td>Triangulo Invertido</td>\n",
       "      <td>1</td>\n",
       "      <td>PANTALON</td>\n",
       "      <td>2</td>\n",
       "      <td>PATA DE ELEFANTE</td>\n",
       "      <td>3</td>\n",
       "      <td>LARGO</td>\n",
       "      <td>HOLGADO</td>\n",
       "      <td>POCO</td>\n",
       "      <td>NO</td>\n",
       "      <td>ALTA</td>\n",
       "      <td>1</td>\n",
       "    </tr>\n",
       "    <tr>\n",
       "      <th>3</th>\n",
       "      <td>MUJER</td>\n",
       "      <td>1</td>\n",
       "      <td>Triangulo Invertido</td>\n",
       "      <td>1</td>\n",
       "      <td>PANTALON</td>\n",
       "      <td>2</td>\n",
       "      <td>BOMBACHO</td>\n",
       "      <td>4</td>\n",
       "      <td>MEDIO</td>\n",
       "      <td>HOLGADO</td>\n",
       "      <td>POCO</td>\n",
       "      <td>SI</td>\n",
       "      <td>ALTA</td>\n",
       "      <td>0</td>\n",
       "    </tr>\n",
       "    <tr>\n",
       "      <th>4</th>\n",
       "      <td>MUJER</td>\n",
       "      <td>1</td>\n",
       "      <td>Triangulo Invertido</td>\n",
       "      <td>1</td>\n",
       "      <td>PANTALON</td>\n",
       "      <td>2</td>\n",
       "      <td>CARGO</td>\n",
       "      <td>5</td>\n",
       "      <td>LARGO</td>\n",
       "      <td>HOLGADO</td>\n",
       "      <td>MUCHO</td>\n",
       "      <td>A VECES</td>\n",
       "      <td>TODAS</td>\n",
       "      <td>1</td>\n",
       "    </tr>\n",
       "  </tbody>\n",
       "</table>\n",
       "</div>"
      ],
      "text/plain": [
       "    SEXO  IDSEXO           TIPOCUERPO  IDTIPOCUERPO TIPOPRENDA  IDTIPOPRENDA  \\\n",
       "0  MUJER       1  Triangulo Invertido             1  PANTALON              2   \n",
       "1  MUJER       1  Triangulo Invertido             1  PANTALON              2   \n",
       "2  MUJER       1  Triangulo Invertido             1  PANTALON              2   \n",
       "3  MUJER       1  Triangulo Invertido             1  PANTALON              2   \n",
       "4  MUJER       1  Triangulo Invertido             1  PANTALON              2   \n",
       "\n",
       "             MODELO  IDMODELO LONGITUD     CORTE BOLSILLOS ELASTICOS ESTATURA  \\\n",
       "0             RECTO         1    LARGO    NORMAL      POCO        NO    TODAS   \n",
       "1           PITILLO         2    LARGO  AJUSTADO      NADA   A VECES    TODAS   \n",
       "2  PATA DE ELEFANTE         3    LARGO   HOLGADO      POCO        NO     ALTA   \n",
       "3          BOMBACHO         4    MEDIO   HOLGADO      POCO        SI     ALTA   \n",
       "4             CARGO         5    LARGO   HOLGADO     MUCHO   A VECES    TODAS   \n",
       "\n",
       "   PRENDAAPTA  \n",
       "0           1  \n",
       "1           0  \n",
       "2           1  \n",
       "3           0  \n",
       "4           1  "
      ]
     },
     "execution_count": 4,
     "metadata": {},
     "output_type": "execute_result"
    }
   ],
   "source": [
    "#Reviso datos de archivo desde cabecera\n",
    "datoscsv.head()"
   ]
  },
  {
   "cell_type": "markdown",
   "metadata": {},
   "source": [
    "<b>Análisis de datos</b>"
   ]
  },
  {
   "cell_type": "code",
   "execution_count": 5,
   "metadata": {},
   "outputs": [],
   "source": [
    "#armo mi dataset temporal que me ayudará a cambiar los valores string por valores numéricos\n",
    "FullDataSet = [datoscsv]"
   ]
  },
  {
   "cell_type": "markdown",
   "metadata": {},
   "source": [
    "1. Reviso si existen datos nulos o vacíos"
   ]
  },
  {
   "cell_type": "code",
   "execution_count": 6,
   "metadata": {},
   "outputs": [
    {
     "name": "stdout",
     "output_type": "stream",
     "text": [
      "Empty DataFrame\n",
      "Columns: [DATASET]\n",
      "Index: []\n"
     ]
    }
   ],
   "source": [
    "#reviso los campos en busca de valores Nulos (Nan)\n",
    "campoConNulos = pd.concat([datoscsv.isnull().sum()], axis=1, keys=['DATASET']) \n",
    "print(campoConNulos[campoConNulos.sum(axis=1) > 0])"
   ]
  },
  {
   "cell_type": "markdown",
   "metadata": {},
   "source": [
    "**Nota:** No existen datos vacíos"
   ]
  },
  {
   "cell_type": "markdown",
   "metadata": {},
   "source": [
    "2. Análisis sexo vs prendaapta"
   ]
  },
  {
   "cell_type": "code",
   "execution_count": 7,
   "metadata": {},
   "outputs": [
    {
     "data": {
      "text/html": [
       "<div>\n",
       "<style scoped>\n",
       "    .dataframe tbody tr th:only-of-type {\n",
       "        vertical-align: middle;\n",
       "    }\n",
       "\n",
       "    .dataframe tbody tr th {\n",
       "        vertical-align: top;\n",
       "    }\n",
       "\n",
       "    .dataframe thead th {\n",
       "        text-align: right;\n",
       "    }\n",
       "</style>\n",
       "<table border=\"1\" class=\"dataframe\">\n",
       "  <thead>\n",
       "    <tr style=\"text-align: right;\">\n",
       "      <th></th>\n",
       "      <th>IDSEXO</th>\n",
       "      <th>PRENDAAPTA</th>\n",
       "    </tr>\n",
       "  </thead>\n",
       "  <tbody>\n",
       "    <tr>\n",
       "      <th>0</th>\n",
       "      <td>1</td>\n",
       "      <td>0.5</td>\n",
       "    </tr>\n",
       "  </tbody>\n",
       "</table>\n",
       "</div>"
      ],
      "text/plain": [
       "   IDSEXO  PRENDAAPTA\n",
       "0       1         0.5"
      ]
     },
     "execution_count": 7,
     "metadata": {},
     "output_type": "execute_result"
    }
   ],
   "source": [
    "#analiza sexo vs prendaapta\n",
    "datoscsv[['IDSEXO', 'PRENDAAPTA']].groupby(['IDSEXO'], as_index=False).mean().sort_values(by='PRENDAAPTA', ascending=False)"
   ]
  },
  {
   "cell_type": "markdown",
   "metadata": {},
   "source": [
    "**Nota:** Existe relación entre el sexo y el campo prendaapta"
   ]
  },
  {
   "cell_type": "markdown",
   "metadata": {},
   "source": [
    "3. Análisis tipo de cuerpo vs prendaapta"
   ]
  },
  {
   "cell_type": "code",
   "execution_count": 8,
   "metadata": {},
   "outputs": [
    {
     "data": {
      "text/html": [
       "<div>\n",
       "<style scoped>\n",
       "    .dataframe tbody tr th:only-of-type {\n",
       "        vertical-align: middle;\n",
       "    }\n",
       "\n",
       "    .dataframe tbody tr th {\n",
       "        vertical-align: top;\n",
       "    }\n",
       "\n",
       "    .dataframe thead th {\n",
       "        text-align: right;\n",
       "    }\n",
       "</style>\n",
       "<table border=\"1\" class=\"dataframe\">\n",
       "  <thead>\n",
       "    <tr style=\"text-align: right;\">\n",
       "      <th></th>\n",
       "      <th>IDTIPOCUERPO</th>\n",
       "      <th>PRENDAAPTA</th>\n",
       "    </tr>\n",
       "  </thead>\n",
       "  <tbody>\n",
       "    <tr>\n",
       "      <th>1</th>\n",
       "      <td>2</td>\n",
       "      <td>0.8750</td>\n",
       "    </tr>\n",
       "    <tr>\n",
       "      <th>0</th>\n",
       "      <td>1</td>\n",
       "      <td>0.5625</td>\n",
       "    </tr>\n",
       "    <tr>\n",
       "      <th>4</th>\n",
       "      <td>5</td>\n",
       "      <td>0.4375</td>\n",
       "    </tr>\n",
       "    <tr>\n",
       "      <th>2</th>\n",
       "      <td>3</td>\n",
       "      <td>0.3125</td>\n",
       "    </tr>\n",
       "    <tr>\n",
       "      <th>3</th>\n",
       "      <td>4</td>\n",
       "      <td>0.3125</td>\n",
       "    </tr>\n",
       "  </tbody>\n",
       "</table>\n",
       "</div>"
      ],
      "text/plain": [
       "   IDTIPOCUERPO  PRENDAAPTA\n",
       "1             2      0.8750\n",
       "0             1      0.5625\n",
       "4             5      0.4375\n",
       "2             3      0.3125\n",
       "3             4      0.3125"
      ]
     },
     "execution_count": 8,
     "metadata": {},
     "output_type": "execute_result"
    }
   ],
   "source": [
    "#analiza tipo de cuerpo vs prendaapta\n",
    "datoscsv[['IDTIPOCUERPO', 'PRENDAAPTA']].groupby(['IDTIPOCUERPO'], as_index=False).mean().sort_values(by='PRENDAAPTA', ascending=False)"
   ]
  },
  {
   "cell_type": "markdown",
   "metadata": {},
   "source": [
    "**Nota:** Existe relación entre tipo de cuerpo 1 y 2"
   ]
  },
  {
   "cell_type": "markdown",
   "metadata": {},
   "source": [
    "4. Análisis de campo pantalon vs prendaapta"
   ]
  },
  {
   "cell_type": "code",
   "execution_count": 9,
   "metadata": {},
   "outputs": [
    {
     "data": {
      "text/html": [
       "<div>\n",
       "<style scoped>\n",
       "    .dataframe tbody tr th:only-of-type {\n",
       "        vertical-align: middle;\n",
       "    }\n",
       "\n",
       "    .dataframe tbody tr th {\n",
       "        vertical-align: top;\n",
       "    }\n",
       "\n",
       "    .dataframe thead th {\n",
       "        text-align: right;\n",
       "    }\n",
       "</style>\n",
       "<table border=\"1\" class=\"dataframe\">\n",
       "  <thead>\n",
       "    <tr style=\"text-align: right;\">\n",
       "      <th></th>\n",
       "      <th>IDTIPOPRENDA</th>\n",
       "      <th>PRENDAAPTA</th>\n",
       "    </tr>\n",
       "  </thead>\n",
       "  <tbody>\n",
       "    <tr>\n",
       "      <th>0</th>\n",
       "      <td>2</td>\n",
       "      <td>0.5</td>\n",
       "    </tr>\n",
       "  </tbody>\n",
       "</table>\n",
       "</div>"
      ],
      "text/plain": [
       "   IDTIPOPRENDA  PRENDAAPTA\n",
       "0             2         0.5"
      ]
     },
     "execution_count": 9,
     "metadata": {},
     "output_type": "execute_result"
    }
   ],
   "source": [
    "#analiza tipo de prenda vs prendaapta\n",
    "datoscsv[['IDTIPOPRENDA', 'PRENDAAPTA']].groupby(['IDTIPOPRENDA'], as_index=False).mean().sort_values(by='PRENDAAPTA', ascending=False)"
   ]
  },
  {
   "cell_type": "markdown",
   "metadata": {},
   "source": [
    "**Nota:** existe relación entre tipo de modelo y el campo prendaapta"
   ]
  },
  {
   "cell_type": "markdown",
   "metadata": {},
   "source": [
    "5. Análisis de modelo de pantalon vs predaapta"
   ]
  },
  {
   "cell_type": "code",
   "execution_count": 10,
   "metadata": {},
   "outputs": [
    {
     "data": {
      "text/html": [
       "<div>\n",
       "<style scoped>\n",
       "    .dataframe tbody tr th:only-of-type {\n",
       "        vertical-align: middle;\n",
       "    }\n",
       "\n",
       "    .dataframe tbody tr th {\n",
       "        vertical-align: top;\n",
       "    }\n",
       "\n",
       "    .dataframe thead th {\n",
       "        text-align: right;\n",
       "    }\n",
       "</style>\n",
       "<table border=\"1\" class=\"dataframe\">\n",
       "  <thead>\n",
       "    <tr style=\"text-align: right;\">\n",
       "      <th></th>\n",
       "      <th>IDMODELO</th>\n",
       "      <th>PRENDAAPTA</th>\n",
       "    </tr>\n",
       "  </thead>\n",
       "  <tbody>\n",
       "    <tr>\n",
       "      <th>0</th>\n",
       "      <td>1</td>\n",
       "      <td>0.8</td>\n",
       "    </tr>\n",
       "    <tr>\n",
       "      <th>2</th>\n",
       "      <td>3</td>\n",
       "      <td>0.8</td>\n",
       "    </tr>\n",
       "    <tr>\n",
       "      <th>8</th>\n",
       "      <td>9</td>\n",
       "      <td>0.8</td>\n",
       "    </tr>\n",
       "    <tr>\n",
       "      <th>9</th>\n",
       "      <td>10</td>\n",
       "      <td>0.8</td>\n",
       "    </tr>\n",
       "    <tr>\n",
       "      <th>5</th>\n",
       "      <td>6</td>\n",
       "      <td>0.6</td>\n",
       "    </tr>\n",
       "    <tr>\n",
       "      <th>10</th>\n",
       "      <td>11</td>\n",
       "      <td>0.6</td>\n",
       "    </tr>\n",
       "    <tr>\n",
       "      <th>14</th>\n",
       "      <td>15</td>\n",
       "      <td>0.6</td>\n",
       "    </tr>\n",
       "    <tr>\n",
       "      <th>3</th>\n",
       "      <td>4</td>\n",
       "      <td>0.4</td>\n",
       "    </tr>\n",
       "    <tr>\n",
       "      <th>4</th>\n",
       "      <td>5</td>\n",
       "      <td>0.4</td>\n",
       "    </tr>\n",
       "    <tr>\n",
       "      <th>6</th>\n",
       "      <td>7</td>\n",
       "      <td>0.4</td>\n",
       "    </tr>\n",
       "    <tr>\n",
       "      <th>12</th>\n",
       "      <td>13</td>\n",
       "      <td>0.4</td>\n",
       "    </tr>\n",
       "    <tr>\n",
       "      <th>13</th>\n",
       "      <td>14</td>\n",
       "      <td>0.4</td>\n",
       "    </tr>\n",
       "    <tr>\n",
       "      <th>15</th>\n",
       "      <td>16</td>\n",
       "      <td>0.4</td>\n",
       "    </tr>\n",
       "    <tr>\n",
       "      <th>1</th>\n",
       "      <td>2</td>\n",
       "      <td>0.2</td>\n",
       "    </tr>\n",
       "    <tr>\n",
       "      <th>7</th>\n",
       "      <td>8</td>\n",
       "      <td>0.2</td>\n",
       "    </tr>\n",
       "    <tr>\n",
       "      <th>11</th>\n",
       "      <td>12</td>\n",
       "      <td>0.2</td>\n",
       "    </tr>\n",
       "  </tbody>\n",
       "</table>\n",
       "</div>"
      ],
      "text/plain": [
       "    IDMODELO  PRENDAAPTA\n",
       "0          1         0.8\n",
       "2          3         0.8\n",
       "8          9         0.8\n",
       "9         10         0.8\n",
       "5          6         0.6\n",
       "10        11         0.6\n",
       "14        15         0.6\n",
       "3          4         0.4\n",
       "4          5         0.4\n",
       "6          7         0.4\n",
       "12        13         0.4\n",
       "13        14         0.4\n",
       "15        16         0.4\n",
       "1          2         0.2\n",
       "7          8         0.2\n",
       "11        12         0.2"
      ]
     },
     "execution_count": 10,
     "metadata": {},
     "output_type": "execute_result"
    }
   ],
   "source": [
    "#analiza tipo de prenda vs prendaapta\n",
    "datoscsv[['IDMODELO', 'PRENDAAPTA']].groupby(['IDMODELO'], as_index=False).mean().sort_values(by='PRENDAAPTA', ascending=False)"
   ]
  },
  {
   "cell_type": "markdown",
   "metadata": {},
   "source": [
    "**Nota:** si existe relación entre el modelo de pantalon y el campo prendaapta"
   ]
  },
  {
   "cell_type": "markdown",
   "metadata": {},
   "source": [
    "6. Análisis de altura vs prendaapta. El campo altura posee valores tipo string, por lo que deben transformarse en campo entero."
   ]
  },
  {
   "cell_type": "code",
   "execution_count": 11,
   "metadata": {},
   "outputs": [],
   "source": [
    "#cambio valores string por numéricos\n",
    "for dataset in FullDataSet:\n",
    "    dataset.loc[ dataset['LONGITUD'] == 'CORTO', 'LONGITUD'] = int(1)\n",
    "    dataset.loc[ dataset['LONGITUD'] == \"MEDIO\", 'LONGITUD'] = int(2)\n",
    "    dataset.loc[ dataset['LONGITUD'] == \"LARGO\", 'LONGITUD'] = int(3)"
   ]
  },
  {
   "cell_type": "code",
   "execution_count": 12,
   "metadata": {},
   "outputs": [
    {
     "data": {
      "text/html": [
       "<div>\n",
       "<style scoped>\n",
       "    .dataframe tbody tr th:only-of-type {\n",
       "        vertical-align: middle;\n",
       "    }\n",
       "\n",
       "    .dataframe tbody tr th {\n",
       "        vertical-align: top;\n",
       "    }\n",
       "\n",
       "    .dataframe thead th {\n",
       "        text-align: right;\n",
       "    }\n",
       "</style>\n",
       "<table border=\"1\" class=\"dataframe\">\n",
       "  <thead>\n",
       "    <tr style=\"text-align: right;\">\n",
       "      <th></th>\n",
       "      <th>SEXO</th>\n",
       "      <th>IDSEXO</th>\n",
       "      <th>TIPOCUERPO</th>\n",
       "      <th>IDTIPOCUERPO</th>\n",
       "      <th>TIPOPRENDA</th>\n",
       "      <th>IDTIPOPRENDA</th>\n",
       "      <th>MODELO</th>\n",
       "      <th>IDMODELO</th>\n",
       "      <th>LONGITUD</th>\n",
       "      <th>CORTE</th>\n",
       "      <th>BOLSILLOS</th>\n",
       "      <th>ELASTICOS</th>\n",
       "      <th>ESTATURA</th>\n",
       "      <th>PRENDAAPTA</th>\n",
       "    </tr>\n",
       "  </thead>\n",
       "  <tbody>\n",
       "    <tr>\n",
       "      <th>0</th>\n",
       "      <td>MUJER</td>\n",
       "      <td>1</td>\n",
       "      <td>Triangulo Invertido</td>\n",
       "      <td>1</td>\n",
       "      <td>PANTALON</td>\n",
       "      <td>2</td>\n",
       "      <td>RECTO</td>\n",
       "      <td>1</td>\n",
       "      <td>3</td>\n",
       "      <td>NORMAL</td>\n",
       "      <td>POCO</td>\n",
       "      <td>NO</td>\n",
       "      <td>TODAS</td>\n",
       "      <td>1</td>\n",
       "    </tr>\n",
       "    <tr>\n",
       "      <th>1</th>\n",
       "      <td>MUJER</td>\n",
       "      <td>1</td>\n",
       "      <td>Triangulo Invertido</td>\n",
       "      <td>1</td>\n",
       "      <td>PANTALON</td>\n",
       "      <td>2</td>\n",
       "      <td>PITILLO</td>\n",
       "      <td>2</td>\n",
       "      <td>3</td>\n",
       "      <td>AJUSTADO</td>\n",
       "      <td>NADA</td>\n",
       "      <td>A VECES</td>\n",
       "      <td>TODAS</td>\n",
       "      <td>0</td>\n",
       "    </tr>\n",
       "    <tr>\n",
       "      <th>2</th>\n",
       "      <td>MUJER</td>\n",
       "      <td>1</td>\n",
       "      <td>Triangulo Invertido</td>\n",
       "      <td>1</td>\n",
       "      <td>PANTALON</td>\n",
       "      <td>2</td>\n",
       "      <td>PATA DE ELEFANTE</td>\n",
       "      <td>3</td>\n",
       "      <td>3</td>\n",
       "      <td>HOLGADO</td>\n",
       "      <td>POCO</td>\n",
       "      <td>NO</td>\n",
       "      <td>ALTA</td>\n",
       "      <td>1</td>\n",
       "    </tr>\n",
       "    <tr>\n",
       "      <th>3</th>\n",
       "      <td>MUJER</td>\n",
       "      <td>1</td>\n",
       "      <td>Triangulo Invertido</td>\n",
       "      <td>1</td>\n",
       "      <td>PANTALON</td>\n",
       "      <td>2</td>\n",
       "      <td>BOMBACHO</td>\n",
       "      <td>4</td>\n",
       "      <td>2</td>\n",
       "      <td>HOLGADO</td>\n",
       "      <td>POCO</td>\n",
       "      <td>SI</td>\n",
       "      <td>ALTA</td>\n",
       "      <td>0</td>\n",
       "    </tr>\n",
       "    <tr>\n",
       "      <th>4</th>\n",
       "      <td>MUJER</td>\n",
       "      <td>1</td>\n",
       "      <td>Triangulo Invertido</td>\n",
       "      <td>1</td>\n",
       "      <td>PANTALON</td>\n",
       "      <td>2</td>\n",
       "      <td>CARGO</td>\n",
       "      <td>5</td>\n",
       "      <td>3</td>\n",
       "      <td>HOLGADO</td>\n",
       "      <td>MUCHO</td>\n",
       "      <td>A VECES</td>\n",
       "      <td>TODAS</td>\n",
       "      <td>1</td>\n",
       "    </tr>\n",
       "  </tbody>\n",
       "</table>\n",
       "</div>"
      ],
      "text/plain": [
       "    SEXO  IDSEXO           TIPOCUERPO  IDTIPOCUERPO TIPOPRENDA  IDTIPOPRENDA  \\\n",
       "0  MUJER       1  Triangulo Invertido             1  PANTALON              2   \n",
       "1  MUJER       1  Triangulo Invertido             1  PANTALON              2   \n",
       "2  MUJER       1  Triangulo Invertido             1  PANTALON              2   \n",
       "3  MUJER       1  Triangulo Invertido             1  PANTALON              2   \n",
       "4  MUJER       1  Triangulo Invertido             1  PANTALON              2   \n",
       "\n",
       "             MODELO  IDMODELO LONGITUD     CORTE BOLSILLOS ELASTICOS ESTATURA  \\\n",
       "0             RECTO         1        3    NORMAL      POCO        NO    TODAS   \n",
       "1           PITILLO         2        3  AJUSTADO      NADA   A VECES    TODAS   \n",
       "2  PATA DE ELEFANTE         3        3   HOLGADO      POCO        NO     ALTA   \n",
       "3          BOMBACHO         4        2   HOLGADO      POCO        SI     ALTA   \n",
       "4             CARGO         5        3   HOLGADO     MUCHO   A VECES    TODAS   \n",
       "\n",
       "   PRENDAAPTA  \n",
       "0           1  \n",
       "1           0  \n",
       "2           1  \n",
       "3           0  \n",
       "4           1  "
      ]
     },
     "execution_count": 12,
     "metadata": {},
     "output_type": "execute_result"
    }
   ],
   "source": [
    "#reviso que dataset tenga nuevos valores\n",
    "datoscsv.head()"
   ]
  },
  {
   "cell_type": "code",
   "execution_count": 13,
   "metadata": {},
   "outputs": [
    {
     "data": {
      "text/html": [
       "<div>\n",
       "<style scoped>\n",
       "    .dataframe tbody tr th:only-of-type {\n",
       "        vertical-align: middle;\n",
       "    }\n",
       "\n",
       "    .dataframe tbody tr th {\n",
       "        vertical-align: top;\n",
       "    }\n",
       "\n",
       "    .dataframe thead th {\n",
       "        text-align: right;\n",
       "    }\n",
       "</style>\n",
       "<table border=\"1\" class=\"dataframe\">\n",
       "  <thead>\n",
       "    <tr style=\"text-align: right;\">\n",
       "      <th></th>\n",
       "      <th>LONGITUD</th>\n",
       "      <th>PRENDAAPTA</th>\n",
       "    </tr>\n",
       "  </thead>\n",
       "  <tbody>\n",
       "    <tr>\n",
       "      <th>2</th>\n",
       "      <td>3</td>\n",
       "      <td>0.56</td>\n",
       "    </tr>\n",
       "    <tr>\n",
       "      <th>1</th>\n",
       "      <td>2</td>\n",
       "      <td>0.45</td>\n",
       "    </tr>\n",
       "    <tr>\n",
       "      <th>0</th>\n",
       "      <td>1</td>\n",
       "      <td>0.30</td>\n",
       "    </tr>\n",
       "  </tbody>\n",
       "</table>\n",
       "</div>"
      ],
      "text/plain": [
       "   LONGITUD  PRENDAAPTA\n",
       "2         3        0.56\n",
       "1         2        0.45\n",
       "0         1        0.30"
      ]
     },
     "execution_count": 13,
     "metadata": {},
     "output_type": "execute_result"
    }
   ],
   "source": [
    "#longitud vs prendaapta\n",
    "datoscsv[['LONGITUD', 'PRENDAAPTA']].groupby(['LONGITUD'], as_index=False).mean().sort_values(by='PRENDAAPTA', ascending=False)"
   ]
  },
  {
   "cell_type": "markdown",
   "metadata": {},
   "source": [
    "**Nota:** La longitud si tiene relación con el campo prendaapta en pantalon de longitud largo"
   ]
  },
  {
   "cell_type": "markdown",
   "metadata": {},
   "source": [
    "7. Análisis de relación de tipo de cuerpo, longitud y prendaapta"
   ]
  },
  {
   "cell_type": "code",
   "execution_count": 14,
   "metadata": {},
   "outputs": [
    {
     "data": {
      "text/html": [
       "<div>\n",
       "<style scoped>\n",
       "    .dataframe tbody tr th:only-of-type {\n",
       "        vertical-align: middle;\n",
       "    }\n",
       "\n",
       "    .dataframe tbody tr th {\n",
       "        vertical-align: top;\n",
       "    }\n",
       "\n",
       "    .dataframe thead th {\n",
       "        text-align: right;\n",
       "    }\n",
       "</style>\n",
       "<table border=\"1\" class=\"dataframe\">\n",
       "  <thead>\n",
       "    <tr style=\"text-align: right;\">\n",
       "      <th></th>\n",
       "      <th>IDTIPOCUERPO</th>\n",
       "      <th>LONGITUD</th>\n",
       "      <th>PRENDAAPTA</th>\n",
       "    </tr>\n",
       "  </thead>\n",
       "  <tbody>\n",
       "    <tr>\n",
       "      <th>12</th>\n",
       "      <td>5</td>\n",
       "      <td>1</td>\n",
       "      <td>0.00</td>\n",
       "    </tr>\n",
       "    <tr>\n",
       "      <th>13</th>\n",
       "      <td>5</td>\n",
       "      <td>2</td>\n",
       "      <td>0.25</td>\n",
       "    </tr>\n",
       "    <tr>\n",
       "      <th>14</th>\n",
       "      <td>5</td>\n",
       "      <td>3</td>\n",
       "      <td>0.60</td>\n",
       "    </tr>\n",
       "    <tr>\n",
       "      <th>9</th>\n",
       "      <td>4</td>\n",
       "      <td>1</td>\n",
       "      <td>0.00</td>\n",
       "    </tr>\n",
       "    <tr>\n",
       "      <th>10</th>\n",
       "      <td>4</td>\n",
       "      <td>2</td>\n",
       "      <td>0.00</td>\n",
       "    </tr>\n",
       "    <tr>\n",
       "      <th>11</th>\n",
       "      <td>4</td>\n",
       "      <td>3</td>\n",
       "      <td>0.50</td>\n",
       "    </tr>\n",
       "    <tr>\n",
       "      <th>6</th>\n",
       "      <td>3</td>\n",
       "      <td>1</td>\n",
       "      <td>0.00</td>\n",
       "    </tr>\n",
       "    <tr>\n",
       "      <th>7</th>\n",
       "      <td>3</td>\n",
       "      <td>2</td>\n",
       "      <td>0.75</td>\n",
       "    </tr>\n",
       "    <tr>\n",
       "      <th>8</th>\n",
       "      <td>3</td>\n",
       "      <td>3</td>\n",
       "      <td>0.20</td>\n",
       "    </tr>\n",
       "    <tr>\n",
       "      <th>3</th>\n",
       "      <td>2</td>\n",
       "      <td>1</td>\n",
       "      <td>1.00</td>\n",
       "    </tr>\n",
       "    <tr>\n",
       "      <th>4</th>\n",
       "      <td>2</td>\n",
       "      <td>2</td>\n",
       "      <td>0.75</td>\n",
       "    </tr>\n",
       "    <tr>\n",
       "      <th>5</th>\n",
       "      <td>2</td>\n",
       "      <td>3</td>\n",
       "      <td>0.90</td>\n",
       "    </tr>\n",
       "    <tr>\n",
       "      <th>0</th>\n",
       "      <td>1</td>\n",
       "      <td>1</td>\n",
       "      <td>0.50</td>\n",
       "    </tr>\n",
       "    <tr>\n",
       "      <th>1</th>\n",
       "      <td>1</td>\n",
       "      <td>2</td>\n",
       "      <td>0.50</td>\n",
       "    </tr>\n",
       "    <tr>\n",
       "      <th>2</th>\n",
       "      <td>1</td>\n",
       "      <td>3</td>\n",
       "      <td>0.60</td>\n",
       "    </tr>\n",
       "  </tbody>\n",
       "</table>\n",
       "</div>"
      ],
      "text/plain": [
       "    IDTIPOCUERPO  LONGITUD  PRENDAAPTA\n",
       "12             5         1        0.00\n",
       "13             5         2        0.25\n",
       "14             5         3        0.60\n",
       "9              4         1        0.00\n",
       "10             4         2        0.00\n",
       "11             4         3        0.50\n",
       "6              3         1        0.00\n",
       "7              3         2        0.75\n",
       "8              3         3        0.20\n",
       "3              2         1        1.00\n",
       "4              2         2        0.75\n",
       "5              2         3        0.90\n",
       "0              1         1        0.50\n",
       "1              1         2        0.50\n",
       "2              1         3        0.60"
      ]
     },
     "execution_count": 14,
     "metadata": {},
     "output_type": "execute_result"
    }
   ],
   "source": [
    "#tipo de cuerpo, altura y prendaapta\n",
    "datoscsv[['IDTIPOCUERPO','LONGITUD','PRENDAAPTA']].groupby(['IDTIPOCUERPO','LONGITUD'], as_index=False).mean().sort_values(by='IDTIPOCUERPO', ascending=False)"
   ]
  },
  {
   "cell_type": "markdown",
   "metadata": {},
   "source": [
    "**Nota:** El campo longitud si tiene relación directa contra el campo tipo de cuerpo y prendaapta"
   ]
  },
  {
   "cell_type": "code",
   "execution_count": 15,
   "metadata": {},
   "outputs": [
    {
     "name": "stderr",
     "output_type": "stream",
     "text": [
      "C:\\Users\\Syslan\\anaconda3\\lib\\site-packages\\seaborn\\axisgrid.py:243: UserWarning: The `size` parameter has been renamed to `height`; please update your code.\n",
      "  warnings.warn(msg, UserWarning)\n",
      "C:\\Users\\Syslan\\anaconda3\\lib\\site-packages\\seaborn\\axisgrid.py:728: UserWarning: Using the pointplot function without specifying `order` is likely to produce an incorrect plot.\n",
      "  warnings.warn(warning)\n",
      "C:\\Users\\Syslan\\anaconda3\\lib\\site-packages\\seaborn\\axisgrid.py:733: UserWarning: Using the pointplot function without specifying `hue_order` is likely to produce an incorrect plot.\n",
      "  warnings.warn(warning)\n"
     ]
    },
    {
     "data": {
      "text/plain": [
       "<seaborn.axisgrid.FacetGrid at 0x2178b028708>"
      ]
     },
     "execution_count": 15,
     "metadata": {},
     "output_type": "execute_result"
    },
    {
     "data": {
      "image/png": "[encoded data removed]",
      "text/plain": [
       "<Figure size 295.815x792 with 5 Axes>"
      ]
     },
     "metadata": {
      "needs_background": "light"
     },
     "output_type": "display_data"
    }
   ],
   "source": [
    "grid = sns.FacetGrid(datoscsv, row='IDTIPOCUERPO', size=2.2, aspect=1.6)\n",
    "grid.map(sns.pointplot, 'LONGITUD', 'PRENDAAPTA', 'IDTIPOPRENDA', palette='deep')\n",
    "grid.add_legend()"
   ]
  },
  {
   "cell_type": "markdown",
   "metadata": {},
   "source": [
    "**Nota:** El tipo de cuerpo si tiene relación con la LONGITUD y el campo prendaapta"
   ]
  },
  {
   "cell_type": "markdown",
   "metadata": {},
   "source": [
    "8. Análisis de forma vs prendaapta. El campo forma posee valores tipo string, por lo que deben transformarse en campo entero."
   ]
  },
  {
   "cell_type": "code",
   "execution_count": 16,
   "metadata": {},
   "outputs": [],
   "source": [
    "#cambio valores string por numéricos\n",
    "for dataset in FullDataSet:\n",
    "    dataset.loc[ dataset['CORTE'] == 'AJUSTADO', 'CORTE'] = int(1)\n",
    "    dataset.loc[ dataset['CORTE'] == \"NORMAL\", 'CORTE'] = int(2)\n",
    "    dataset.loc[ dataset['CORTE'] == \"HOLGADO\", 'CORTE'] = int(3)\n",
    "    "
   ]
  },
  {
   "cell_type": "code",
   "execution_count": 17,
   "metadata": {},
   "outputs": [
    {
     "data": {
      "text/html": [
       "<div>\n",
       "<style scoped>\n",
       "    .dataframe tbody tr th:only-of-type {\n",
       "        vertical-align: middle;\n",
       "    }\n",
       "\n",
       "    .dataframe tbody tr th {\n",
       "        vertical-align: top;\n",
       "    }\n",
       "\n",
       "    .dataframe thead th {\n",
       "        text-align: right;\n",
       "    }\n",
       "</style>\n",
       "<table border=\"1\" class=\"dataframe\">\n",
       "  <thead>\n",
       "    <tr style=\"text-align: right;\">\n",
       "      <th></th>\n",
       "      <th>SEXO</th>\n",
       "      <th>IDSEXO</th>\n",
       "      <th>TIPOCUERPO</th>\n",
       "      <th>IDTIPOCUERPO</th>\n",
       "      <th>TIPOPRENDA</th>\n",
       "      <th>IDTIPOPRENDA</th>\n",
       "      <th>MODELO</th>\n",
       "      <th>IDMODELO</th>\n",
       "      <th>LONGITUD</th>\n",
       "      <th>CORTE</th>\n",
       "      <th>BOLSILLOS</th>\n",
       "      <th>ELASTICOS</th>\n",
       "      <th>ESTATURA</th>\n",
       "      <th>PRENDAAPTA</th>\n",
       "    </tr>\n",
       "  </thead>\n",
       "  <tbody>\n",
       "    <tr>\n",
       "      <th>0</th>\n",
       "      <td>MUJER</td>\n",
       "      <td>1</td>\n",
       "      <td>Triangulo Invertido</td>\n",
       "      <td>1</td>\n",
       "      <td>PANTALON</td>\n",
       "      <td>2</td>\n",
       "      <td>RECTO</td>\n",
       "      <td>1</td>\n",
       "      <td>3</td>\n",
       "      <td>2</td>\n",
       "      <td>POCO</td>\n",
       "      <td>NO</td>\n",
       "      <td>TODAS</td>\n",
       "      <td>1</td>\n",
       "    </tr>\n",
       "    <tr>\n",
       "      <th>1</th>\n",
       "      <td>MUJER</td>\n",
       "      <td>1</td>\n",
       "      <td>Triangulo Invertido</td>\n",
       "      <td>1</td>\n",
       "      <td>PANTALON</td>\n",
       "      <td>2</td>\n",
       "      <td>PITILLO</td>\n",
       "      <td>2</td>\n",
       "      <td>3</td>\n",
       "      <td>1</td>\n",
       "      <td>NADA</td>\n",
       "      <td>A VECES</td>\n",
       "      <td>TODAS</td>\n",
       "      <td>0</td>\n",
       "    </tr>\n",
       "    <tr>\n",
       "      <th>2</th>\n",
       "      <td>MUJER</td>\n",
       "      <td>1</td>\n",
       "      <td>Triangulo Invertido</td>\n",
       "      <td>1</td>\n",
       "      <td>PANTALON</td>\n",
       "      <td>2</td>\n",
       "      <td>PATA DE ELEFANTE</td>\n",
       "      <td>3</td>\n",
       "      <td>3</td>\n",
       "      <td>3</td>\n",
       "      <td>POCO</td>\n",
       "      <td>NO</td>\n",
       "      <td>ALTA</td>\n",
       "      <td>1</td>\n",
       "    </tr>\n",
       "    <tr>\n",
       "      <th>3</th>\n",
       "      <td>MUJER</td>\n",
       "      <td>1</td>\n",
       "      <td>Triangulo Invertido</td>\n",
       "      <td>1</td>\n",
       "      <td>PANTALON</td>\n",
       "      <td>2</td>\n",
       "      <td>BOMBACHO</td>\n",
       "      <td>4</td>\n",
       "      <td>2</td>\n",
       "      <td>3</td>\n",
       "      <td>POCO</td>\n",
       "      <td>SI</td>\n",
       "      <td>ALTA</td>\n",
       "      <td>0</td>\n",
       "    </tr>\n",
       "    <tr>\n",
       "      <th>4</th>\n",
       "      <td>MUJER</td>\n",
       "      <td>1</td>\n",
       "      <td>Triangulo Invertido</td>\n",
       "      <td>1</td>\n",
       "      <td>PANTALON</td>\n",
       "      <td>2</td>\n",
       "      <td>CARGO</td>\n",
       "      <td>5</td>\n",
       "      <td>3</td>\n",
       "      <td>3</td>\n",
       "      <td>MUCHO</td>\n",
       "      <td>A VECES</td>\n",
       "      <td>TODAS</td>\n",
       "      <td>1</td>\n",
       "    </tr>\n",
       "  </tbody>\n",
       "</table>\n",
       "</div>"
      ],
      "text/plain": [
       "    SEXO  IDSEXO           TIPOCUERPO  IDTIPOCUERPO TIPOPRENDA  IDTIPOPRENDA  \\\n",
       "0  MUJER       1  Triangulo Invertido             1  PANTALON              2   \n",
       "1  MUJER       1  Triangulo Invertido             1  PANTALON              2   \n",
       "2  MUJER       1  Triangulo Invertido             1  PANTALON              2   \n",
       "3  MUJER       1  Triangulo Invertido             1  PANTALON              2   \n",
       "4  MUJER       1  Triangulo Invertido             1  PANTALON              2   \n",
       "\n",
       "             MODELO  IDMODELO LONGITUD CORTE BOLSILLOS ELASTICOS ESTATURA  \\\n",
       "0             RECTO         1        3     2      POCO        NO    TODAS   \n",
       "1           PITILLO         2        3     1      NADA   A VECES    TODAS   \n",
       "2  PATA DE ELEFANTE         3        3     3      POCO        NO     ALTA   \n",
       "3          BOMBACHO         4        2     3      POCO        SI     ALTA   \n",
       "4             CARGO         5        3     3     MUCHO   A VECES    TODAS   \n",
       "\n",
       "   PRENDAAPTA  \n",
       "0           1  \n",
       "1           0  \n",
       "2           1  \n",
       "3           0  \n",
       "4           1  "
      ]
     },
     "execution_count": 17,
     "metadata": {},
     "output_type": "execute_result"
    }
   ],
   "source": [
    "#reviso que dataset tenga nuevos valores\n",
    "datoscsv.head()"
   ]
  },
  {
   "cell_type": "code",
   "execution_count": 18,
   "metadata": {},
   "outputs": [
    {
     "data": {
      "text/html": [
       "<div>\n",
       "<style scoped>\n",
       "    .dataframe tbody tr th:only-of-type {\n",
       "        vertical-align: middle;\n",
       "    }\n",
       "\n",
       "    .dataframe tbody tr th {\n",
       "        vertical-align: top;\n",
       "    }\n",
       "\n",
       "    .dataframe thead th {\n",
       "        text-align: right;\n",
       "    }\n",
       "</style>\n",
       "<table border=\"1\" class=\"dataframe\">\n",
       "  <thead>\n",
       "    <tr style=\"text-align: right;\">\n",
       "      <th></th>\n",
       "      <th>CORTE</th>\n",
       "      <th>PRENDAAPTA</th>\n",
       "    </tr>\n",
       "  </thead>\n",
       "  <tbody>\n",
       "    <tr>\n",
       "      <th>2</th>\n",
       "      <td>3</td>\n",
       "      <td>0.600000</td>\n",
       "    </tr>\n",
       "    <tr>\n",
       "      <th>1</th>\n",
       "      <td>2</td>\n",
       "      <td>0.466667</td>\n",
       "    </tr>\n",
       "    <tr>\n",
       "      <th>0</th>\n",
       "      <td>1</td>\n",
       "      <td>0.400000</td>\n",
       "    </tr>\n",
       "  </tbody>\n",
       "</table>\n",
       "</div>"
      ],
      "text/plain": [
       "   CORTE  PRENDAAPTA\n",
       "2      3    0.600000\n",
       "1      2    0.466667\n",
       "0      1    0.400000"
      ]
     },
     "execution_count": 18,
     "metadata": {},
     "output_type": "execute_result"
    }
   ],
   "source": [
    "#analiza forma vs prendaapta\n",
    "datoscsv[['CORTE','PRENDAAPTA']].groupby(['CORTE'], as_index=False).mean().sort_values(by='PRENDAAPTA', ascending=False)"
   ]
  },
  {
   "cell_type": "markdown",
   "metadata": {},
   "source": [
    "**Nota:** La forma de la prenda si tiene relación con el campo prendaapta."
   ]
  },
  {
   "cell_type": "code",
   "execution_count": 19,
   "metadata": {},
   "outputs": [
    {
     "data": {
      "text/html": [
       "<div>\n",
       "<style scoped>\n",
       "    .dataframe tbody tr th:only-of-type {\n",
       "        vertical-align: middle;\n",
       "    }\n",
       "\n",
       "    .dataframe tbody tr th {\n",
       "        vertical-align: top;\n",
       "    }\n",
       "\n",
       "    .dataframe thead th {\n",
       "        text-align: right;\n",
       "    }\n",
       "</style>\n",
       "<table border=\"1\" class=\"dataframe\">\n",
       "  <thead>\n",
       "    <tr style=\"text-align: right;\">\n",
       "      <th></th>\n",
       "      <th>IDTIPOCUERPO</th>\n",
       "      <th>CORTE</th>\n",
       "      <th>PRENDAAPTA</th>\n",
       "    </tr>\n",
       "  </thead>\n",
       "  <tbody>\n",
       "    <tr>\n",
       "      <th>12</th>\n",
       "      <td>5</td>\n",
       "      <td>1</td>\n",
       "      <td>0.000000</td>\n",
       "    </tr>\n",
       "    <tr>\n",
       "      <th>13</th>\n",
       "      <td>5</td>\n",
       "      <td>2</td>\n",
       "      <td>0.333333</td>\n",
       "    </tr>\n",
       "    <tr>\n",
       "      <th>14</th>\n",
       "      <td>5</td>\n",
       "      <td>3</td>\n",
       "      <td>0.833333</td>\n",
       "    </tr>\n",
       "    <tr>\n",
       "      <th>9</th>\n",
       "      <td>4</td>\n",
       "      <td>1</td>\n",
       "      <td>0.000000</td>\n",
       "    </tr>\n",
       "    <tr>\n",
       "      <th>10</th>\n",
       "      <td>4</td>\n",
       "      <td>2</td>\n",
       "      <td>0.333333</td>\n",
       "    </tr>\n",
       "    <tr>\n",
       "      <th>11</th>\n",
       "      <td>4</td>\n",
       "      <td>3</td>\n",
       "      <td>0.500000</td>\n",
       "    </tr>\n",
       "    <tr>\n",
       "      <th>6</th>\n",
       "      <td>3</td>\n",
       "      <td>1</td>\n",
       "      <td>1.000000</td>\n",
       "    </tr>\n",
       "    <tr>\n",
       "      <th>7</th>\n",
       "      <td>3</td>\n",
       "      <td>2</td>\n",
       "      <td>0.166667</td>\n",
       "    </tr>\n",
       "    <tr>\n",
       "      <th>8</th>\n",
       "      <td>3</td>\n",
       "      <td>3</td>\n",
       "      <td>0.000000</td>\n",
       "    </tr>\n",
       "    <tr>\n",
       "      <th>3</th>\n",
       "      <td>2</td>\n",
       "      <td>1</td>\n",
       "      <td>0.500000</td>\n",
       "    </tr>\n",
       "    <tr>\n",
       "      <th>4</th>\n",
       "      <td>2</td>\n",
       "      <td>2</td>\n",
       "      <td>1.000000</td>\n",
       "    </tr>\n",
       "    <tr>\n",
       "      <th>5</th>\n",
       "      <td>2</td>\n",
       "      <td>3</td>\n",
       "      <td>1.000000</td>\n",
       "    </tr>\n",
       "    <tr>\n",
       "      <th>0</th>\n",
       "      <td>1</td>\n",
       "      <td>1</td>\n",
       "      <td>0.500000</td>\n",
       "    </tr>\n",
       "    <tr>\n",
       "      <th>1</th>\n",
       "      <td>1</td>\n",
       "      <td>2</td>\n",
       "      <td>0.500000</td>\n",
       "    </tr>\n",
       "    <tr>\n",
       "      <th>2</th>\n",
       "      <td>1</td>\n",
       "      <td>3</td>\n",
       "      <td>0.666667</td>\n",
       "    </tr>\n",
       "  </tbody>\n",
       "</table>\n",
       "</div>"
      ],
      "text/plain": [
       "    IDTIPOCUERPO  CORTE  PRENDAAPTA\n",
       "12             5      1    0.000000\n",
       "13             5      2    0.333333\n",
       "14             5      3    0.833333\n",
       "9              4      1    0.000000\n",
       "10             4      2    0.333333\n",
       "11             4      3    0.500000\n",
       "6              3      1    1.000000\n",
       "7              3      2    0.166667\n",
       "8              3      3    0.000000\n",
       "3              2      1    0.500000\n",
       "4              2      2    1.000000\n",
       "5              2      3    1.000000\n",
       "0              1      1    0.500000\n",
       "1              1      2    0.500000\n",
       "2              1      3    0.666667"
      ]
     },
     "execution_count": 19,
     "metadata": {},
     "output_type": "execute_result"
    }
   ],
   "source": [
    "#analiza tipo de cuerpo,forma,prendaapta\n",
    "datoscsv[['IDTIPOCUERPO','CORTE','PRENDAAPTA']].groupby(['IDTIPOCUERPO','CORTE'], as_index=False).mean().sort_values(by='IDTIPOCUERPO', ascending=False)"
   ]
  },
  {
   "cell_type": "code",
   "execution_count": 20,
   "metadata": {},
   "outputs": [
    {
     "name": "stderr",
     "output_type": "stream",
     "text": [
      "C:\\Users\\Syslan\\anaconda3\\lib\\site-packages\\seaborn\\axisgrid.py:243: UserWarning: The `size` parameter has been renamed to `height`; please update your code.\n",
      "  warnings.warn(msg, UserWarning)\n",
      "C:\\Users\\Syslan\\anaconda3\\lib\\site-packages\\seaborn\\axisgrid.py:728: UserWarning: Using the pointplot function without specifying `order` is likely to produce an incorrect plot.\n",
      "  warnings.warn(warning)\n",
      "C:\\Users\\Syslan\\anaconda3\\lib\\site-packages\\seaborn\\axisgrid.py:733: UserWarning: Using the pointplot function without specifying `hue_order` is likely to produce an incorrect plot.\n",
      "  warnings.warn(warning)\n"
     ]
    },
    {
     "data": {
      "text/plain": [
       "<seaborn.axisgrid.FacetGrid at 0x2178b2f4ec8>"
      ]
     },
     "execution_count": 20,
     "metadata": {},
     "output_type": "execute_result"
    },
    {
     "data": {
      "image/png": "[encoded data removed]",
      "text/plain": [
       "<Figure size 295.815x792 with 5 Axes>"
      ]
     },
     "metadata": {
      "needs_background": "light"
     },
     "output_type": "display_data"
    }
   ],
   "source": [
    "grid = sns.FacetGrid(datoscsv, row='IDTIPOCUERPO', size=2.2, aspect=1.6)\n",
    "grid.map(sns.pointplot, 'CORTE', 'PRENDAAPTA', 'IDTIPOPRENDA', palette='deep')\n",
    "grid.add_legend()"
   ]
  },
  {
   "cell_type": "markdown",
   "metadata": {},
   "source": [
    "**Nota:** El tipo de cuerpo si tiene relación con el corte de la prenda y el campo prendaapta."
   ]
  },
  {
   "cell_type": "markdown",
   "metadata": {},
   "source": [
    "9. Análisis de pliegues vs prendaapta. El campo bolsillos posee valores tipo string, por lo que deben transformarse en campo entero."
   ]
  },
  {
   "cell_type": "code",
   "execution_count": 21,
   "metadata": {},
   "outputs": [],
   "source": [
    "#cambio valores string por numéricos\n",
    "for dataset in FullDataSet:\n",
    "    dataset.loc[ dataset['BOLSILLOS'] == 'NADA', 'BOLSILLOS'] = 0\n",
    "    dataset.loc[ dataset['BOLSILLOS'] == \"POCO\", 'BOLSILLOS'] = 1\n",
    "    dataset.loc[ dataset['BOLSILLOS'] == 'MUCHO', 'BOLSILLOS'] = 2"
   ]
  },
  {
   "cell_type": "code",
   "execution_count": 22,
   "metadata": {},
   "outputs": [
    {
     "data": {
      "text/html": [
       "<div>\n",
       "<style scoped>\n",
       "    .dataframe tbody tr th:only-of-type {\n",
       "        vertical-align: middle;\n",
       "    }\n",
       "\n",
       "    .dataframe tbody tr th {\n",
       "        vertical-align: top;\n",
       "    }\n",
       "\n",
       "    .dataframe thead th {\n",
       "        text-align: right;\n",
       "    }\n",
       "</style>\n",
       "<table border=\"1\" class=\"dataframe\">\n",
       "  <thead>\n",
       "    <tr style=\"text-align: right;\">\n",
       "      <th></th>\n",
       "      <th>SEXO</th>\n",
       "      <th>IDSEXO</th>\n",
       "      <th>TIPOCUERPO</th>\n",
       "      <th>IDTIPOCUERPO</th>\n",
       "      <th>TIPOPRENDA</th>\n",
       "      <th>IDTIPOPRENDA</th>\n",
       "      <th>MODELO</th>\n",
       "      <th>IDMODELO</th>\n",
       "      <th>LONGITUD</th>\n",
       "      <th>CORTE</th>\n",
       "      <th>BOLSILLOS</th>\n",
       "      <th>ELASTICOS</th>\n",
       "      <th>ESTATURA</th>\n",
       "      <th>PRENDAAPTA</th>\n",
       "    </tr>\n",
       "  </thead>\n",
       "  <tbody>\n",
       "    <tr>\n",
       "      <th>0</th>\n",
       "      <td>MUJER</td>\n",
       "      <td>1</td>\n",
       "      <td>Triangulo Invertido</td>\n",
       "      <td>1</td>\n",
       "      <td>PANTALON</td>\n",
       "      <td>2</td>\n",
       "      <td>RECTO</td>\n",
       "      <td>1</td>\n",
       "      <td>3</td>\n",
       "      <td>2</td>\n",
       "      <td>1</td>\n",
       "      <td>NO</td>\n",
       "      <td>TODAS</td>\n",
       "      <td>1</td>\n",
       "    </tr>\n",
       "    <tr>\n",
       "      <th>1</th>\n",
       "      <td>MUJER</td>\n",
       "      <td>1</td>\n",
       "      <td>Triangulo Invertido</td>\n",
       "      <td>1</td>\n",
       "      <td>PANTALON</td>\n",
       "      <td>2</td>\n",
       "      <td>PITILLO</td>\n",
       "      <td>2</td>\n",
       "      <td>3</td>\n",
       "      <td>1</td>\n",
       "      <td>0</td>\n",
       "      <td>A VECES</td>\n",
       "      <td>TODAS</td>\n",
       "      <td>0</td>\n",
       "    </tr>\n",
       "    <tr>\n",
       "      <th>2</th>\n",
       "      <td>MUJER</td>\n",
       "      <td>1</td>\n",
       "      <td>Triangulo Invertido</td>\n",
       "      <td>1</td>\n",
       "      <td>PANTALON</td>\n",
       "      <td>2</td>\n",
       "      <td>PATA DE ELEFANTE</td>\n",
       "      <td>3</td>\n",
       "      <td>3</td>\n",
       "      <td>3</td>\n",
       "      <td>1</td>\n",
       "      <td>NO</td>\n",
       "      <td>ALTA</td>\n",
       "      <td>1</td>\n",
       "    </tr>\n",
       "    <tr>\n",
       "      <th>3</th>\n",
       "      <td>MUJER</td>\n",
       "      <td>1</td>\n",
       "      <td>Triangulo Invertido</td>\n",
       "      <td>1</td>\n",
       "      <td>PANTALON</td>\n",
       "      <td>2</td>\n",
       "      <td>BOMBACHO</td>\n",
       "      <td>4</td>\n",
       "      <td>2</td>\n",
       "      <td>3</td>\n",
       "      <td>1</td>\n",
       "      <td>SI</td>\n",
       "      <td>ALTA</td>\n",
       "      <td>0</td>\n",
       "    </tr>\n",
       "    <tr>\n",
       "      <th>4</th>\n",
       "      <td>MUJER</td>\n",
       "      <td>1</td>\n",
       "      <td>Triangulo Invertido</td>\n",
       "      <td>1</td>\n",
       "      <td>PANTALON</td>\n",
       "      <td>2</td>\n",
       "      <td>CARGO</td>\n",
       "      <td>5</td>\n",
       "      <td>3</td>\n",
       "      <td>3</td>\n",
       "      <td>2</td>\n",
       "      <td>A VECES</td>\n",
       "      <td>TODAS</td>\n",
       "      <td>1</td>\n",
       "    </tr>\n",
       "  </tbody>\n",
       "</table>\n",
       "</div>"
      ],
      "text/plain": [
       "    SEXO  IDSEXO           TIPOCUERPO  IDTIPOCUERPO TIPOPRENDA  IDTIPOPRENDA  \\\n",
       "0  MUJER       1  Triangulo Invertido             1  PANTALON              2   \n",
       "1  MUJER       1  Triangulo Invertido             1  PANTALON              2   \n",
       "2  MUJER       1  Triangulo Invertido             1  PANTALON              2   \n",
       "3  MUJER       1  Triangulo Invertido             1  PANTALON              2   \n",
       "4  MUJER       1  Triangulo Invertido             1  PANTALON              2   \n",
       "\n",
       "             MODELO  IDMODELO LONGITUD CORTE BOLSILLOS ELASTICOS ESTATURA  \\\n",
       "0             RECTO         1        3     2         1        NO    TODAS   \n",
       "1           PITILLO         2        3     1         0   A VECES    TODAS   \n",
       "2  PATA DE ELEFANTE         3        3     3         1        NO     ALTA   \n",
       "3          BOMBACHO         4        2     3         1        SI     ALTA   \n",
       "4             CARGO         5        3     3         2   A VECES    TODAS   \n",
       "\n",
       "   PRENDAAPTA  \n",
       "0           1  \n",
       "1           0  \n",
       "2           1  \n",
       "3           0  \n",
       "4           1  "
      ]
     },
     "execution_count": 22,
     "metadata": {},
     "output_type": "execute_result"
    }
   ],
   "source": [
    "#reviso que dataset tenga nuevos valores\n",
    "datoscsv.head()"
   ]
  },
  {
   "cell_type": "code",
   "execution_count": 23,
   "metadata": {},
   "outputs": [
    {
     "data": {
      "text/html": [
       "<div>\n",
       "<style scoped>\n",
       "    .dataframe tbody tr th:only-of-type {\n",
       "        vertical-align: middle;\n",
       "    }\n",
       "\n",
       "    .dataframe tbody tr th {\n",
       "        vertical-align: top;\n",
       "    }\n",
       "\n",
       "    .dataframe thead th {\n",
       "        text-align: right;\n",
       "    }\n",
       "</style>\n",
       "<table border=\"1\" class=\"dataframe\">\n",
       "  <thead>\n",
       "    <tr style=\"text-align: right;\">\n",
       "      <th></th>\n",
       "      <th>BOLSILLOS</th>\n",
       "      <th>PRENDAAPTA</th>\n",
       "    </tr>\n",
       "  </thead>\n",
       "  <tbody>\n",
       "    <tr>\n",
       "      <th>1</th>\n",
       "      <td>1</td>\n",
       "      <td>0.566667</td>\n",
       "    </tr>\n",
       "    <tr>\n",
       "      <th>2</th>\n",
       "      <td>2</td>\n",
       "      <td>0.400000</td>\n",
       "    </tr>\n",
       "    <tr>\n",
       "      <th>0</th>\n",
       "      <td>0</td>\n",
       "      <td>0.200000</td>\n",
       "    </tr>\n",
       "  </tbody>\n",
       "</table>\n",
       "</div>"
      ],
      "text/plain": [
       "   BOLSILLOS  PRENDAAPTA\n",
       "1          1    0.566667\n",
       "2          2    0.400000\n",
       "0          0    0.200000"
      ]
     },
     "execution_count": 23,
     "metadata": {},
     "output_type": "execute_result"
    }
   ],
   "source": [
    "#analiza pliegues vs prendaapta\n",
    "datoscsv[['BOLSILLOS','PRENDAAPTA']].groupby(['BOLSILLOS'], as_index=False).mean().sort_values(by='PRENDAAPTA', ascending=False)"
   ]
  },
  {
   "cell_type": "markdown",
   "metadata": {},
   "source": [
    "**Nota:** Los pliegues de la prenda no tienen mayor peso relacionado directamente con el campo prendaapta"
   ]
  },
  {
   "cell_type": "code",
   "execution_count": 24,
   "metadata": {},
   "outputs": [
    {
     "data": {
      "text/html": [
       "<div>\n",
       "<style scoped>\n",
       "    .dataframe tbody tr th:only-of-type {\n",
       "        vertical-align: middle;\n",
       "    }\n",
       "\n",
       "    .dataframe tbody tr th {\n",
       "        vertical-align: top;\n",
       "    }\n",
       "\n",
       "    .dataframe thead th {\n",
       "        text-align: right;\n",
       "    }\n",
       "</style>\n",
       "<table border=\"1\" class=\"dataframe\">\n",
       "  <thead>\n",
       "    <tr style=\"text-align: right;\">\n",
       "      <th></th>\n",
       "      <th>IDTIPOCUERPO</th>\n",
       "      <th>BOLSILLOS</th>\n",
       "      <th>PRENDAAPTA</th>\n",
       "    </tr>\n",
       "  </thead>\n",
       "  <tbody>\n",
       "    <tr>\n",
       "      <th>12</th>\n",
       "      <td>5</td>\n",
       "      <td>0</td>\n",
       "      <td>0.000000</td>\n",
       "    </tr>\n",
       "    <tr>\n",
       "      <th>13</th>\n",
       "      <td>5</td>\n",
       "      <td>1</td>\n",
       "      <td>0.500000</td>\n",
       "    </tr>\n",
       "    <tr>\n",
       "      <th>14</th>\n",
       "      <td>5</td>\n",
       "      <td>2</td>\n",
       "      <td>0.500000</td>\n",
       "    </tr>\n",
       "    <tr>\n",
       "      <th>9</th>\n",
       "      <td>4</td>\n",
       "      <td>0</td>\n",
       "      <td>0.000000</td>\n",
       "    </tr>\n",
       "    <tr>\n",
       "      <th>10</th>\n",
       "      <td>4</td>\n",
       "      <td>1</td>\n",
       "      <td>0.416667</td>\n",
       "    </tr>\n",
       "    <tr>\n",
       "      <th>11</th>\n",
       "      <td>4</td>\n",
       "      <td>2</td>\n",
       "      <td>0.000000</td>\n",
       "    </tr>\n",
       "    <tr>\n",
       "      <th>6</th>\n",
       "      <td>3</td>\n",
       "      <td>0</td>\n",
       "      <td>1.000000</td>\n",
       "    </tr>\n",
       "    <tr>\n",
       "      <th>7</th>\n",
       "      <td>3</td>\n",
       "      <td>1</td>\n",
       "      <td>0.250000</td>\n",
       "    </tr>\n",
       "    <tr>\n",
       "      <th>8</th>\n",
       "      <td>3</td>\n",
       "      <td>2</td>\n",
       "      <td>0.000000</td>\n",
       "    </tr>\n",
       "    <tr>\n",
       "      <th>3</th>\n",
       "      <td>2</td>\n",
       "      <td>0</td>\n",
       "      <td>0.000000</td>\n",
       "    </tr>\n",
       "    <tr>\n",
       "      <th>4</th>\n",
       "      <td>2</td>\n",
       "      <td>1</td>\n",
       "      <td>1.000000</td>\n",
       "    </tr>\n",
       "    <tr>\n",
       "      <th>5</th>\n",
       "      <td>2</td>\n",
       "      <td>2</td>\n",
       "      <td>1.000000</td>\n",
       "    </tr>\n",
       "    <tr>\n",
       "      <th>0</th>\n",
       "      <td>1</td>\n",
       "      <td>0</td>\n",
       "      <td>0.000000</td>\n",
       "    </tr>\n",
       "    <tr>\n",
       "      <th>1</th>\n",
       "      <td>1</td>\n",
       "      <td>1</td>\n",
       "      <td>0.666667</td>\n",
       "    </tr>\n",
       "    <tr>\n",
       "      <th>2</th>\n",
       "      <td>1</td>\n",
       "      <td>2</td>\n",
       "      <td>0.500000</td>\n",
       "    </tr>\n",
       "  </tbody>\n",
       "</table>\n",
       "</div>"
      ],
      "text/plain": [
       "    IDTIPOCUERPO  BOLSILLOS  PRENDAAPTA\n",
       "12             5          0    0.000000\n",
       "13             5          1    0.500000\n",
       "14             5          2    0.500000\n",
       "9              4          0    0.000000\n",
       "10             4          1    0.416667\n",
       "11             4          2    0.000000\n",
       "6              3          0    1.000000\n",
       "7              3          1    0.250000\n",
       "8              3          2    0.000000\n",
       "3              2          0    0.000000\n",
       "4              2          1    1.000000\n",
       "5              2          2    1.000000\n",
       "0              1          0    0.000000\n",
       "1              1          1    0.666667\n",
       "2              1          2    0.500000"
      ]
     },
     "execution_count": 24,
     "metadata": {},
     "output_type": "execute_result"
    }
   ],
   "source": [
    "#analiza tipo de cuerpo,pliegues,prendaapta\n",
    "datoscsv[['IDTIPOCUERPO','BOLSILLOS','PRENDAAPTA']].groupby(['IDTIPOCUERPO','BOLSILLOS'], as_index=False).mean().sort_values(by='IDTIPOCUERPO', ascending=False)"
   ]
  },
  {
   "cell_type": "code",
   "execution_count": 25,
   "metadata": {},
   "outputs": [
    {
     "name": "stderr",
     "output_type": "stream",
     "text": [
      "C:\\Users\\Syslan\\anaconda3\\lib\\site-packages\\seaborn\\axisgrid.py:243: UserWarning: The `size` parameter has been renamed to `height`; please update your code.\n",
      "  warnings.warn(msg, UserWarning)\n",
      "C:\\Users\\Syslan\\anaconda3\\lib\\site-packages\\seaborn\\axisgrid.py:728: UserWarning: Using the pointplot function without specifying `order` is likely to produce an incorrect plot.\n",
      "  warnings.warn(warning)\n",
      "C:\\Users\\Syslan\\anaconda3\\lib\\site-packages\\seaborn\\axisgrid.py:733: UserWarning: Using the pointplot function without specifying `hue_order` is likely to produce an incorrect plot.\n",
      "  warnings.warn(warning)\n"
     ]
    },
    {
     "data": {
      "text/plain": [
       "<seaborn.axisgrid.FacetGrid at 0x2178b513fc8>"
      ]
     },
     "execution_count": 25,
     "metadata": {},
     "output_type": "execute_result"
    },
    {
     "data": {
      "image/png": "[encoded data removed]",
      "text/plain": [
       "<Figure size 295.815x792 with 5 Axes>"
      ]
     },
     "metadata": {
      "needs_background": "light"
     },
     "output_type": "display_data"
    }
   ],
   "source": [
    "grid = sns.FacetGrid(datoscsv, row='IDTIPOCUERPO', size=2.2, aspect=1.6)\n",
    "grid.map(sns.pointplot, 'BOLSILLOS', 'PRENDAAPTA', 'IDTIPOPRENDA', palette='deep')\n",
    "grid.add_legend()\n",
    "##################################3"
   ]
  },
  {
   "cell_type": "markdown",
   "metadata": {},
   "source": [
    "**Nota:** El tipo de cuerpo si tiene relación con los BOLSILLOS de la prenda y el campo prendaapta."
   ]
  },
  {
   "cell_type": "markdown",
   "metadata": {},
   "source": [
    "10. Análisis de ELASTICOS vs prendaapta. El campo vuelos posee valores tipo string, por lo que deben transformarse en campo entero."
   ]
  },
  {
   "cell_type": "code",
   "execution_count": 26,
   "metadata": {},
   "outputs": [],
   "source": [
    "#cambio valores string por numéricos\n",
    "for dataset in FullDataSet:\n",
    "    dataset.loc[ dataset['ELASTICOS'] == 'SI', 'ELASTICOS'] = 1\n",
    "    dataset.loc[ dataset['ELASTICOS'] == \"NO\", 'ELASTICOS'] = 0\n",
    "    dataset.loc[ dataset['ELASTICOS'] == \"A VECES\", 'ELASTICOS'] = 2"
   ]
  },
  {
   "cell_type": "code",
   "execution_count": 27,
   "metadata": {},
   "outputs": [
    {
     "data": {
      "text/html": [
       "<div>\n",
       "<style scoped>\n",
       "    .dataframe tbody tr th:only-of-type {\n",
       "        vertical-align: middle;\n",
       "    }\n",
       "\n",
       "    .dataframe tbody tr th {\n",
       "        vertical-align: top;\n",
       "    }\n",
       "\n",
       "    .dataframe thead th {\n",
       "        text-align: right;\n",
       "    }\n",
       "</style>\n",
       "<table border=\"1\" class=\"dataframe\">\n",
       "  <thead>\n",
       "    <tr style=\"text-align: right;\">\n",
       "      <th></th>\n",
       "      <th>SEXO</th>\n",
       "      <th>IDSEXO</th>\n",
       "      <th>TIPOCUERPO</th>\n",
       "      <th>IDTIPOCUERPO</th>\n",
       "      <th>TIPOPRENDA</th>\n",
       "      <th>IDTIPOPRENDA</th>\n",
       "      <th>MODELO</th>\n",
       "      <th>IDMODELO</th>\n",
       "      <th>LONGITUD</th>\n",
       "      <th>CORTE</th>\n",
       "      <th>BOLSILLOS</th>\n",
       "      <th>ELASTICOS</th>\n",
       "      <th>ESTATURA</th>\n",
       "      <th>PRENDAAPTA</th>\n",
       "    </tr>\n",
       "  </thead>\n",
       "  <tbody>\n",
       "    <tr>\n",
       "      <th>0</th>\n",
       "      <td>MUJER</td>\n",
       "      <td>1</td>\n",
       "      <td>Triangulo Invertido</td>\n",
       "      <td>1</td>\n",
       "      <td>PANTALON</td>\n",
       "      <td>2</td>\n",
       "      <td>RECTO</td>\n",
       "      <td>1</td>\n",
       "      <td>3</td>\n",
       "      <td>2</td>\n",
       "      <td>1</td>\n",
       "      <td>0</td>\n",
       "      <td>TODAS</td>\n",
       "      <td>1</td>\n",
       "    </tr>\n",
       "    <tr>\n",
       "      <th>1</th>\n",
       "      <td>MUJER</td>\n",
       "      <td>1</td>\n",
       "      <td>Triangulo Invertido</td>\n",
       "      <td>1</td>\n",
       "      <td>PANTALON</td>\n",
       "      <td>2</td>\n",
       "      <td>PITILLO</td>\n",
       "      <td>2</td>\n",
       "      <td>3</td>\n",
       "      <td>1</td>\n",
       "      <td>0</td>\n",
       "      <td>2</td>\n",
       "      <td>TODAS</td>\n",
       "      <td>0</td>\n",
       "    </tr>\n",
       "    <tr>\n",
       "      <th>2</th>\n",
       "      <td>MUJER</td>\n",
       "      <td>1</td>\n",
       "      <td>Triangulo Invertido</td>\n",
       "      <td>1</td>\n",
       "      <td>PANTALON</td>\n",
       "      <td>2</td>\n",
       "      <td>PATA DE ELEFANTE</td>\n",
       "      <td>3</td>\n",
       "      <td>3</td>\n",
       "      <td>3</td>\n",
       "      <td>1</td>\n",
       "      <td>0</td>\n",
       "      <td>ALTA</td>\n",
       "      <td>1</td>\n",
       "    </tr>\n",
       "    <tr>\n",
       "      <th>3</th>\n",
       "      <td>MUJER</td>\n",
       "      <td>1</td>\n",
       "      <td>Triangulo Invertido</td>\n",
       "      <td>1</td>\n",
       "      <td>PANTALON</td>\n",
       "      <td>2</td>\n",
       "      <td>BOMBACHO</td>\n",
       "      <td>4</td>\n",
       "      <td>2</td>\n",
       "      <td>3</td>\n",
       "      <td>1</td>\n",
       "      <td>1</td>\n",
       "      <td>ALTA</td>\n",
       "      <td>0</td>\n",
       "    </tr>\n",
       "    <tr>\n",
       "      <th>4</th>\n",
       "      <td>MUJER</td>\n",
       "      <td>1</td>\n",
       "      <td>Triangulo Invertido</td>\n",
       "      <td>1</td>\n",
       "      <td>PANTALON</td>\n",
       "      <td>2</td>\n",
       "      <td>CARGO</td>\n",
       "      <td>5</td>\n",
       "      <td>3</td>\n",
       "      <td>3</td>\n",
       "      <td>2</td>\n",
       "      <td>2</td>\n",
       "      <td>TODAS</td>\n",
       "      <td>1</td>\n",
       "    </tr>\n",
       "  </tbody>\n",
       "</table>\n",
       "</div>"
      ],
      "text/plain": [
       "    SEXO  IDSEXO           TIPOCUERPO  IDTIPOCUERPO TIPOPRENDA  IDTIPOPRENDA  \\\n",
       "0  MUJER       1  Triangulo Invertido             1  PANTALON              2   \n",
       "1  MUJER       1  Triangulo Invertido             1  PANTALON              2   \n",
       "2  MUJER       1  Triangulo Invertido             1  PANTALON              2   \n",
       "3  MUJER       1  Triangulo Invertido             1  PANTALON              2   \n",
       "4  MUJER       1  Triangulo Invertido             1  PANTALON              2   \n",
       "\n",
       "             MODELO  IDMODELO LONGITUD CORTE BOLSILLOS ELASTICOS ESTATURA  \\\n",
       "0             RECTO         1        3     2         1         0    TODAS   \n",
       "1           PITILLO         2        3     1         0         2    TODAS   \n",
       "2  PATA DE ELEFANTE         3        3     3         1         0     ALTA   \n",
       "3          BOMBACHO         4        2     3         1         1     ALTA   \n",
       "4             CARGO         5        3     3         2         2    TODAS   \n",
       "\n",
       "   PRENDAAPTA  \n",
       "0           1  \n",
       "1           0  \n",
       "2           1  \n",
       "3           0  \n",
       "4           1  "
      ]
     },
     "execution_count": 27,
     "metadata": {},
     "output_type": "execute_result"
    }
   ],
   "source": [
    "#reviso que dataset tenga nuevos valores\n",
    "datoscsv.head()"
   ]
  },
  {
   "cell_type": "code",
   "execution_count": 28,
   "metadata": {},
   "outputs": [
    {
     "data": {
      "text/html": [
       "<div>\n",
       "<style scoped>\n",
       "    .dataframe tbody tr th:only-of-type {\n",
       "        vertical-align: middle;\n",
       "    }\n",
       "\n",
       "    .dataframe tbody tr th {\n",
       "        vertical-align: top;\n",
       "    }\n",
       "\n",
       "    .dataframe thead th {\n",
       "        text-align: right;\n",
       "    }\n",
       "</style>\n",
       "<table border=\"1\" class=\"dataframe\">\n",
       "  <thead>\n",
       "    <tr style=\"text-align: right;\">\n",
       "      <th></th>\n",
       "      <th>ELASTICOS</th>\n",
       "      <th>PRENDAAPTA</th>\n",
       "    </tr>\n",
       "  </thead>\n",
       "  <tbody>\n",
       "    <tr>\n",
       "      <th>0</th>\n",
       "      <td>0</td>\n",
       "      <td>0.657143</td>\n",
       "    </tr>\n",
       "    <tr>\n",
       "      <th>1</th>\n",
       "      <td>1</td>\n",
       "      <td>0.400000</td>\n",
       "    </tr>\n",
       "    <tr>\n",
       "      <th>2</th>\n",
       "      <td>2</td>\n",
       "      <td>0.366667</td>\n",
       "    </tr>\n",
       "  </tbody>\n",
       "</table>\n",
       "</div>"
      ],
      "text/plain": [
       "   ELASTICOS  PRENDAAPTA\n",
       "0          0    0.657143\n",
       "1          1    0.400000\n",
       "2          2    0.366667"
      ]
     },
     "execution_count": 28,
     "metadata": {},
     "output_type": "execute_result"
    }
   ],
   "source": [
    "#analiza ELASTICOS vs prendaapta\n",
    "datoscsv[['ELASTICOS','PRENDAAPTA']].groupby(['ELASTICOS'], as_index=False).mean().sort_values(by='PRENDAAPTA', ascending=False)"
   ]
  },
  {
   "cell_type": "markdown",
   "metadata": {},
   "source": [
    "**Nota:** Los ELASTICOS de la prenda no tienen mayor peso relacionado directamente con el campo prendaapta"
   ]
  },
  {
   "cell_type": "code",
   "execution_count": 29,
   "metadata": {},
   "outputs": [
    {
     "data": {
      "text/html": [
       "<div>\n",
       "<style scoped>\n",
       "    .dataframe tbody tr th:only-of-type {\n",
       "        vertical-align: middle;\n",
       "    }\n",
       "\n",
       "    .dataframe tbody tr th {\n",
       "        vertical-align: top;\n",
       "    }\n",
       "\n",
       "    .dataframe thead th {\n",
       "        text-align: right;\n",
       "    }\n",
       "</style>\n",
       "<table border=\"1\" class=\"dataframe\">\n",
       "  <thead>\n",
       "    <tr style=\"text-align: right;\">\n",
       "      <th></th>\n",
       "      <th>IDTIPOCUERPO</th>\n",
       "      <th>ELASTICOS</th>\n",
       "      <th>PRENDAAPTA</th>\n",
       "    </tr>\n",
       "  </thead>\n",
       "  <tbody>\n",
       "    <tr>\n",
       "      <th>12</th>\n",
       "      <td>5</td>\n",
       "      <td>0</td>\n",
       "      <td>0.714286</td>\n",
       "    </tr>\n",
       "    <tr>\n",
       "      <th>13</th>\n",
       "      <td>5</td>\n",
       "      <td>1</td>\n",
       "      <td>0.333333</td>\n",
       "    </tr>\n",
       "    <tr>\n",
       "      <th>14</th>\n",
       "      <td>5</td>\n",
       "      <td>2</td>\n",
       "      <td>0.166667</td>\n",
       "    </tr>\n",
       "    <tr>\n",
       "      <th>9</th>\n",
       "      <td>4</td>\n",
       "      <td>0</td>\n",
       "      <td>0.714286</td>\n",
       "    </tr>\n",
       "    <tr>\n",
       "      <th>10</th>\n",
       "      <td>4</td>\n",
       "      <td>1</td>\n",
       "      <td>0.000000</td>\n",
       "    </tr>\n",
       "    <tr>\n",
       "      <th>11</th>\n",
       "      <td>4</td>\n",
       "      <td>2</td>\n",
       "      <td>0.000000</td>\n",
       "    </tr>\n",
       "    <tr>\n",
       "      <th>6</th>\n",
       "      <td>3</td>\n",
       "      <td>0</td>\n",
       "      <td>0.142857</td>\n",
       "    </tr>\n",
       "    <tr>\n",
       "      <th>7</th>\n",
       "      <td>3</td>\n",
       "      <td>1</td>\n",
       "      <td>0.666667</td>\n",
       "    </tr>\n",
       "    <tr>\n",
       "      <th>8</th>\n",
       "      <td>3</td>\n",
       "      <td>2</td>\n",
       "      <td>0.333333</td>\n",
       "    </tr>\n",
       "    <tr>\n",
       "      <th>3</th>\n",
       "      <td>2</td>\n",
       "      <td>0</td>\n",
       "      <td>1.000000</td>\n",
       "    </tr>\n",
       "    <tr>\n",
       "      <th>4</th>\n",
       "      <td>2</td>\n",
       "      <td>1</td>\n",
       "      <td>0.666667</td>\n",
       "    </tr>\n",
       "    <tr>\n",
       "      <th>5</th>\n",
       "      <td>2</td>\n",
       "      <td>2</td>\n",
       "      <td>0.833333</td>\n",
       "    </tr>\n",
       "    <tr>\n",
       "      <th>0</th>\n",
       "      <td>1</td>\n",
       "      <td>0</td>\n",
       "      <td>0.714286</td>\n",
       "    </tr>\n",
       "    <tr>\n",
       "      <th>1</th>\n",
       "      <td>1</td>\n",
       "      <td>1</td>\n",
       "      <td>0.333333</td>\n",
       "    </tr>\n",
       "    <tr>\n",
       "      <th>2</th>\n",
       "      <td>1</td>\n",
       "      <td>2</td>\n",
       "      <td>0.500000</td>\n",
       "    </tr>\n",
       "  </tbody>\n",
       "</table>\n",
       "</div>"
      ],
      "text/plain": [
       "    IDTIPOCUERPO  ELASTICOS  PRENDAAPTA\n",
       "12             5          0    0.714286\n",
       "13             5          1    0.333333\n",
       "14             5          2    0.166667\n",
       "9              4          0    0.714286\n",
       "10             4          1    0.000000\n",
       "11             4          2    0.000000\n",
       "6              3          0    0.142857\n",
       "7              3          1    0.666667\n",
       "8              3          2    0.333333\n",
       "3              2          0    1.000000\n",
       "4              2          1    0.666667\n",
       "5              2          2    0.833333\n",
       "0              1          0    0.714286\n",
       "1              1          1    0.333333\n",
       "2              1          2    0.500000"
      ]
     },
     "execution_count": 29,
     "metadata": {},
     "output_type": "execute_result"
    }
   ],
   "source": [
    "#tipo de cuerpo,vuelos,prendaapta\n",
    "datoscsv[['IDTIPOCUERPO','ELASTICOS','PRENDAAPTA']].groupby(['IDTIPOCUERPO','ELASTICOS'], as_index=False).mean().sort_values(by='IDTIPOCUERPO', ascending=False)"
   ]
  },
  {
   "cell_type": "code",
   "execution_count": 30,
   "metadata": {},
   "outputs": [
    {
     "name": "stderr",
     "output_type": "stream",
     "text": [
      "C:\\Users\\Syslan\\anaconda3\\lib\\site-packages\\seaborn\\axisgrid.py:243: UserWarning: The `size` parameter has been renamed to `height`; please update your code.\n",
      "  warnings.warn(msg, UserWarning)\n",
      "C:\\Users\\Syslan\\anaconda3\\lib\\site-packages\\seaborn\\axisgrid.py:728: UserWarning: Using the pointplot function without specifying `order` is likely to produce an incorrect plot.\n",
      "  warnings.warn(warning)\n",
      "C:\\Users\\Syslan\\anaconda3\\lib\\site-packages\\seaborn\\axisgrid.py:733: UserWarning: Using the pointplot function without specifying `hue_order` is likely to produce an incorrect plot.\n",
      "  warnings.warn(warning)\n"
     ]
    },
    {
     "data": {
      "text/plain": [
       "<seaborn.axisgrid.FacetGrid at 0x2178b71c208>"
      ]
     },
     "execution_count": 30,
     "metadata": {},
     "output_type": "execute_result"
    },
    {
     "data": {
      "image/png": "[encoded data removed]",
      "text/plain": [
       "<Figure size 295.815x792 with 5 Axes>"
      ]
     },
     "metadata": {
      "needs_background": "light"
     },
     "output_type": "display_data"
    }
   ],
   "source": [
    "grid = sns.FacetGrid(datoscsv, row='IDTIPOCUERPO', size=2.2, aspect=1.6)\n",
    "grid.map(sns.pointplot, 'ELASTICOS', 'PRENDAAPTA', 'IDTIPOPRENDA', palette='deep')\n",
    "grid.add_legend()"
   ]
  },
  {
   "cell_type": "markdown",
   "metadata": {},
   "source": [
    "**Nota:** El tipo de cuerpo si tiene relación con los ELASTICOS de la prenda y el campo prendaapta."
   ]
  },
  {
   "cell_type": "markdown",
   "metadata": {},
   "source": [
    "11. Análisis de capas vs prendaapta. El campo capas posee valores tipo string, por lo que deben transformarse en campo entero."
   ]
  },
  {
   "cell_type": "code",
   "execution_count": 31,
   "metadata": {},
   "outputs": [],
   "source": [
    "#cambio valores string por numéricos\n",
    "for dataset in FullDataSet:\n",
    "    dataset.loc[ dataset['ESTATURA'] == 'ALTA', 'ESTATURA'] = int(1)\n",
    "    dataset.loc[ dataset['ESTATURA'] == \"TODAS\", 'ESTATURA'] = int(0)"
   ]
  },
  {
   "cell_type": "code",
   "execution_count": 32,
   "metadata": {},
   "outputs": [
    {
     "data": {
      "text/html": [
       "<div>\n",
       "<style scoped>\n",
       "    .dataframe tbody tr th:only-of-type {\n",
       "        vertical-align: middle;\n",
       "    }\n",
       "\n",
       "    .dataframe tbody tr th {\n",
       "        vertical-align: top;\n",
       "    }\n",
       "\n",
       "    .dataframe thead th {\n",
       "        text-align: right;\n",
       "    }\n",
       "</style>\n",
       "<table border=\"1\" class=\"dataframe\">\n",
       "  <thead>\n",
       "    <tr style=\"text-align: right;\">\n",
       "      <th></th>\n",
       "      <th>SEXO</th>\n",
       "      <th>IDSEXO</th>\n",
       "      <th>TIPOCUERPO</th>\n",
       "      <th>IDTIPOCUERPO</th>\n",
       "      <th>TIPOPRENDA</th>\n",
       "      <th>IDTIPOPRENDA</th>\n",
       "      <th>MODELO</th>\n",
       "      <th>IDMODELO</th>\n",
       "      <th>LONGITUD</th>\n",
       "      <th>CORTE</th>\n",
       "      <th>BOLSILLOS</th>\n",
       "      <th>ELASTICOS</th>\n",
       "      <th>ESTATURA</th>\n",
       "      <th>PRENDAAPTA</th>\n",
       "    </tr>\n",
       "  </thead>\n",
       "  <tbody>\n",
       "    <tr>\n",
       "      <th>0</th>\n",
       "      <td>MUJER</td>\n",
       "      <td>1</td>\n",
       "      <td>Triangulo Invertido</td>\n",
       "      <td>1</td>\n",
       "      <td>PANTALON</td>\n",
       "      <td>2</td>\n",
       "      <td>RECTO</td>\n",
       "      <td>1</td>\n",
       "      <td>3</td>\n",
       "      <td>2</td>\n",
       "      <td>1</td>\n",
       "      <td>0</td>\n",
       "      <td>0</td>\n",
       "      <td>1</td>\n",
       "    </tr>\n",
       "    <tr>\n",
       "      <th>1</th>\n",
       "      <td>MUJER</td>\n",
       "      <td>1</td>\n",
       "      <td>Triangulo Invertido</td>\n",
       "      <td>1</td>\n",
       "      <td>PANTALON</td>\n",
       "      <td>2</td>\n",
       "      <td>PITILLO</td>\n",
       "      <td>2</td>\n",
       "      <td>3</td>\n",
       "      <td>1</td>\n",
       "      <td>0</td>\n",
       "      <td>2</td>\n",
       "      <td>0</td>\n",
       "      <td>0</td>\n",
       "    </tr>\n",
       "    <tr>\n",
       "      <th>2</th>\n",
       "      <td>MUJER</td>\n",
       "      <td>1</td>\n",
       "      <td>Triangulo Invertido</td>\n",
       "      <td>1</td>\n",
       "      <td>PANTALON</td>\n",
       "      <td>2</td>\n",
       "      <td>PATA DE ELEFANTE</td>\n",
       "      <td>3</td>\n",
       "      <td>3</td>\n",
       "      <td>3</td>\n",
       "      <td>1</td>\n",
       "      <td>0</td>\n",
       "      <td>1</td>\n",
       "      <td>1</td>\n",
       "    </tr>\n",
       "    <tr>\n",
       "      <th>3</th>\n",
       "      <td>MUJER</td>\n",
       "      <td>1</td>\n",
       "      <td>Triangulo Invertido</td>\n",
       "      <td>1</td>\n",
       "      <td>PANTALON</td>\n",
       "      <td>2</td>\n",
       "      <td>BOMBACHO</td>\n",
       "      <td>4</td>\n",
       "      <td>2</td>\n",
       "      <td>3</td>\n",
       "      <td>1</td>\n",
       "      <td>1</td>\n",
       "      <td>1</td>\n",
       "      <td>0</td>\n",
       "    </tr>\n",
       "    <tr>\n",
       "      <th>4</th>\n",
       "      <td>MUJER</td>\n",
       "      <td>1</td>\n",
       "      <td>Triangulo Invertido</td>\n",
       "      <td>1</td>\n",
       "      <td>PANTALON</td>\n",
       "      <td>2</td>\n",
       "      <td>CARGO</td>\n",
       "      <td>5</td>\n",
       "      <td>3</td>\n",
       "      <td>3</td>\n",
       "      <td>2</td>\n",
       "      <td>2</td>\n",
       "      <td>0</td>\n",
       "      <td>1</td>\n",
       "    </tr>\n",
       "  </tbody>\n",
       "</table>\n",
       "</div>"
      ],
      "text/plain": [
       "    SEXO  IDSEXO           TIPOCUERPO  IDTIPOCUERPO TIPOPRENDA  IDTIPOPRENDA  \\\n",
       "0  MUJER       1  Triangulo Invertido             1  PANTALON              2   \n",
       "1  MUJER       1  Triangulo Invertido             1  PANTALON              2   \n",
       "2  MUJER       1  Triangulo Invertido             1  PANTALON              2   \n",
       "3  MUJER       1  Triangulo Invertido             1  PANTALON              2   \n",
       "4  MUJER       1  Triangulo Invertido             1  PANTALON              2   \n",
       "\n",
       "             MODELO  IDMODELO LONGITUD CORTE BOLSILLOS ELASTICOS ESTATURA  \\\n",
       "0             RECTO         1        3     2         1         0        0   \n",
       "1           PITILLO         2        3     1         0         2        0   \n",
       "2  PATA DE ELEFANTE         3        3     3         1         0        1   \n",
       "3          BOMBACHO         4        2     3         1         1        1   \n",
       "4             CARGO         5        3     3         2         2        0   \n",
       "\n",
       "   PRENDAAPTA  \n",
       "0           1  \n",
       "1           0  \n",
       "2           1  \n",
       "3           0  \n",
       "4           1  "
      ]
     },
     "execution_count": 32,
     "metadata": {},
     "output_type": "execute_result"
    }
   ],
   "source": [
    "#reviso que dataset tenga nuevos valores\n",
    "datoscsv.head()"
   ]
  },
  {
   "cell_type": "code",
   "execution_count": 33,
   "metadata": {},
   "outputs": [
    {
     "data": {
      "text/html": [
       "<div>\n",
       "<style scoped>\n",
       "    .dataframe tbody tr th:only-of-type {\n",
       "        vertical-align: middle;\n",
       "    }\n",
       "\n",
       "    .dataframe tbody tr th {\n",
       "        vertical-align: top;\n",
       "    }\n",
       "\n",
       "    .dataframe thead th {\n",
       "        text-align: right;\n",
       "    }\n",
       "</style>\n",
       "<table border=\"1\" class=\"dataframe\">\n",
       "  <thead>\n",
       "    <tr style=\"text-align: right;\">\n",
       "      <th></th>\n",
       "      <th>ESTATURA</th>\n",
       "      <th>PRENDAAPTA</th>\n",
       "    </tr>\n",
       "  </thead>\n",
       "  <tbody>\n",
       "    <tr>\n",
       "      <th>1</th>\n",
       "      <td>1</td>\n",
       "      <td>0.575</td>\n",
       "    </tr>\n",
       "    <tr>\n",
       "      <th>0</th>\n",
       "      <td>0</td>\n",
       "      <td>0.425</td>\n",
       "    </tr>\n",
       "  </tbody>\n",
       "</table>\n",
       "</div>"
      ],
      "text/plain": [
       "   ESTATURA  PRENDAAPTA\n",
       "1         1       0.575\n",
       "0         0       0.425"
      ]
     },
     "execution_count": 33,
     "metadata": {},
     "output_type": "execute_result"
    }
   ],
   "source": [
    "#analiza capas vs prendaapta\n",
    "datoscsv[['ESTATURA','PRENDAAPTA']].groupby(['ESTATURA'], as_index=False).mean().sort_values(by='PRENDAAPTA', ascending=False)"
   ]
  },
  {
   "cell_type": "markdown",
   "metadata": {},
   "source": [
    "**Nota:** Las estatura de la prenda si tienen relación con el campo prendaapta"
   ]
  },
  {
   "cell_type": "code",
   "execution_count": 34,
   "metadata": {},
   "outputs": [
    {
     "data": {
      "text/html": [
       "<div>\n",
       "<style scoped>\n",
       "    .dataframe tbody tr th:only-of-type {\n",
       "        vertical-align: middle;\n",
       "    }\n",
       "\n",
       "    .dataframe tbody tr th {\n",
       "        vertical-align: top;\n",
       "    }\n",
       "\n",
       "    .dataframe thead th {\n",
       "        text-align: right;\n",
       "    }\n",
       "</style>\n",
       "<table border=\"1\" class=\"dataframe\">\n",
       "  <thead>\n",
       "    <tr style=\"text-align: right;\">\n",
       "      <th></th>\n",
       "      <th>IDTIPOCUERPO</th>\n",
       "      <th>ESTATURA</th>\n",
       "      <th>PRENDAAPTA</th>\n",
       "    </tr>\n",
       "  </thead>\n",
       "  <tbody>\n",
       "    <tr>\n",
       "      <th>8</th>\n",
       "      <td>5</td>\n",
       "      <td>0</td>\n",
       "      <td>0.250</td>\n",
       "    </tr>\n",
       "    <tr>\n",
       "      <th>9</th>\n",
       "      <td>5</td>\n",
       "      <td>1</td>\n",
       "      <td>0.625</td>\n",
       "    </tr>\n",
       "    <tr>\n",
       "      <th>6</th>\n",
       "      <td>4</td>\n",
       "      <td>0</td>\n",
       "      <td>0.250</td>\n",
       "    </tr>\n",
       "    <tr>\n",
       "      <th>7</th>\n",
       "      <td>4</td>\n",
       "      <td>1</td>\n",
       "      <td>0.375</td>\n",
       "    </tr>\n",
       "    <tr>\n",
       "      <th>4</th>\n",
       "      <td>3</td>\n",
       "      <td>0</td>\n",
       "      <td>0.250</td>\n",
       "    </tr>\n",
       "    <tr>\n",
       "      <th>5</th>\n",
       "      <td>3</td>\n",
       "      <td>1</td>\n",
       "      <td>0.375</td>\n",
       "    </tr>\n",
       "    <tr>\n",
       "      <th>2</th>\n",
       "      <td>2</td>\n",
       "      <td>0</td>\n",
       "      <td>0.875</td>\n",
       "    </tr>\n",
       "    <tr>\n",
       "      <th>3</th>\n",
       "      <td>2</td>\n",
       "      <td>1</td>\n",
       "      <td>0.875</td>\n",
       "    </tr>\n",
       "    <tr>\n",
       "      <th>0</th>\n",
       "      <td>1</td>\n",
       "      <td>0</td>\n",
       "      <td>0.500</td>\n",
       "    </tr>\n",
       "    <tr>\n",
       "      <th>1</th>\n",
       "      <td>1</td>\n",
       "      <td>1</td>\n",
       "      <td>0.625</td>\n",
       "    </tr>\n",
       "  </tbody>\n",
       "</table>\n",
       "</div>"
      ],
      "text/plain": [
       "   IDTIPOCUERPO  ESTATURA  PRENDAAPTA\n",
       "8             5         0       0.250\n",
       "9             5         1       0.625\n",
       "6             4         0       0.250\n",
       "7             4         1       0.375\n",
       "4             3         0       0.250\n",
       "5             3         1       0.375\n",
       "2             2         0       0.875\n",
       "3             2         1       0.875\n",
       "0             1         0       0.500\n",
       "1             1         1       0.625"
      ]
     },
     "execution_count": 34,
     "metadata": {},
     "output_type": "execute_result"
    }
   ],
   "source": [
    "#analiza tipos de cuerpo,capas,prendaapta\n",
    "datoscsv[['IDTIPOCUERPO','ESTATURA','PRENDAAPTA']].groupby(['IDTIPOCUERPO','ESTATURA'], as_index=False).mean().sort_values(by='IDTIPOCUERPO', ascending=False)"
   ]
  },
  {
   "cell_type": "code",
   "execution_count": 35,
   "metadata": {},
   "outputs": [
    {
     "name": "stderr",
     "output_type": "stream",
     "text": [
      "C:\\Users\\Syslan\\anaconda3\\lib\\site-packages\\seaborn\\axisgrid.py:243: UserWarning: The `size` parameter has been renamed to `height`; please update your code.\n",
      "  warnings.warn(msg, UserWarning)\n",
      "C:\\Users\\Syslan\\anaconda3\\lib\\site-packages\\seaborn\\axisgrid.py:728: UserWarning: Using the pointplot function without specifying `order` is likely to produce an incorrect plot.\n",
      "  warnings.warn(warning)\n",
      "C:\\Users\\Syslan\\anaconda3\\lib\\site-packages\\seaborn\\axisgrid.py:733: UserWarning: Using the pointplot function without specifying `hue_order` is likely to produce an incorrect plot.\n",
      "  warnings.warn(warning)\n"
     ]
    },
    {
     "data": {
      "text/plain": [
       "<seaborn.axisgrid.FacetGrid at 0x2178b8ffac8>"
      ]
     },
     "execution_count": 35,
     "metadata": {},
     "output_type": "execute_result"
    },
    {
     "data": {
      "image/png": "[encoded data removed]",
      "text/plain": [
       "<Figure size 295.815x792 with 5 Axes>"
      ]
     },
     "metadata": {
      "needs_background": "light"
     },
     "output_type": "display_data"
    }
   ],
   "source": [
    "grid = sns.FacetGrid(datoscsv, row='IDTIPOCUERPO', size=2.2, aspect=1.6)\n",
    "grid.map(sns.pointplot, 'ESTATURA', 'PRENDAAPTA', 'IDTIPOPRENDA', palette='deep')\n",
    "grid.add_legend()"
   ]
  },
  {
   "cell_type": "markdown",
   "metadata": {},
   "source": [
    "**Nota:** El tipo de cuerpo si tiene relación con las capas de la prenda y el campo prendaapta."
   ]
  },
  {
   "cell_type": "markdown",
   "metadata": {},
   "source": [
    "12. Limpieza de campos tipo string de dataset de análisis final"
   ]
  },
  {
   "cell_type": "code",
   "execution_count": 36,
   "metadata": {},
   "outputs": [],
   "source": [
    "#elimino campos tipo string de dataset\n",
    "datoscsv = datoscsv.drop(['SEXO', 'TIPOCUERPO', 'TIPOPRENDA', 'MODELO'], axis=1)"
   ]
  },
  {
   "cell_type": "code",
   "execution_count": 37,
   "metadata": {},
   "outputs": [
    {
     "name": "stdout",
     "output_type": "stream",
     "text": [
      "<class 'pandas.core.frame.DataFrame'>\n",
      "RangeIndex: 80 entries, 0 to 79\n",
      "Data columns (total 10 columns):\n",
      " #   Column        Non-Null Count  Dtype \n",
      "---  ------        --------------  ----- \n",
      " 0   IDSEXO        80 non-null     int64 \n",
      " 1   IDTIPOCUERPO  80 non-null     int64 \n",
      " 2   IDTIPOPRENDA  80 non-null     int64 \n",
      " 3   IDMODELO      80 non-null     int64 \n",
      " 4   LONGITUD      80 non-null     object\n",
      " 5   CORTE         80 non-null     object\n",
      " 6   BOLSILLOS     80 non-null     object\n",
      " 7   ELASTICOS     80 non-null     object\n",
      " 8   ESTATURA      80 non-null     object\n",
      " 9   PRENDAAPTA    80 non-null     int64 \n",
      "dtypes: int64(5), object(5)\n",
      "memory usage: 6.4+ KB\n"
     ]
    }
   ],
   "source": [
    "#reviso tipo de datos final\n",
    "datoscsv.info()"
   ]
  },
  {
   "cell_type": "markdown",
   "metadata": {},
   "source": [
    "**Definición de Variables**"
   ]
  },
  {
   "cell_type": "code",
   "execution_count": 38,
   "metadata": {},
   "outputs": [
    {
     "name": "stdout",
     "output_type": "stream",
     "text": [
      "['IDSEXO' 'IDTIPOCUERPO' 'IDTIPOPRENDA' 'IDMODELO' 'LONGITUD' 'CORTE'\n",
      " 'BOLSILLOS' 'ELASTICOS' 'ESTATURA' 'PRENDAAPTA']\n"
     ]
    }
   ],
   "source": [
    "#revisión de columnas de dataset\n",
    "print(datoscsv.columns.values)"
   ]
  },
  {
   "cell_type": "code",
   "execution_count": 39,
   "metadata": {},
   "outputs": [],
   "source": [
    "#establecer dataset de variables a predecir\n",
    "X_train = datoscsv.drop(\"PRENDAAPTA\", axis=1)\n",
    "Y_train = datoscsv[\"PRENDAAPTA\"]\n",
    "X_test = datoscsv.drop(\"IDTIPOCUERPO\", axis=1).copy()"
   ]
  },
  {
   "cell_type": "code",
   "execution_count": 40,
   "metadata": {},
   "outputs": [
    {
     "data": {
      "text/plain": [
       "((80, 9), (80,), (80, 9))"
      ]
     },
     "execution_count": 40,
     "metadata": {},
     "output_type": "execute_result"
    }
   ],
   "source": [
    "#presento filas y columnas de dataset a predecir\n",
    "X_train.shape, Y_train.shape, X_test.shape"
   ]
  },
  {
   "cell_type": "markdown",
   "metadata": {},
   "source": [
    "**Análisis de Algoritmos**\n",
    "\n",
    "Busco algoritmo que tenga mejor porcentaje de predicción\n",
    "\n",
    "**Logistic Regression**"
   ]
  },
  {
   "cell_type": "code",
   "execution_count": 41,
   "metadata": {},
   "outputs": [],
   "source": [
    "logreg = LogisticRegression()\n",
    "logreg.fit(X_train, Y_train)\n",
    "Y_pred = logreg.predict(X_test)\n",
    "acc_log = round(logreg.score(X_train, Y_train) * 100, 2)"
   ]
  },
  {
   "cell_type": "markdown",
   "metadata": {},
   "source": [
    "**SVC**"
   ]
  },
  {
   "cell_type": "code",
   "execution_count": 42,
   "metadata": {},
   "outputs": [],
   "source": [
    "svc = SVC()\n",
    "svc.fit(X_train, Y_train)\n",
    "Y_pred = svc.predict(X_test)\n",
    "acc_svc = round(svc.score(X_train, Y_train) * 100, 2)"
   ]
  },
  {
   "cell_type": "markdown",
   "metadata": {},
   "source": [
    "**KNeighborsClassifier**"
   ]
  },
  {
   "cell_type": "code",
   "execution_count": 43,
   "metadata": {},
   "outputs": [],
   "source": [
    "knn = KNeighborsClassifier(n_neighbors = 3)\n",
    "knn.fit(X_train, Y_train)\n",
    "Y_pred = knn.predict(X_test)\n",
    "acc_knn = round(knn.score(X_train, Y_train) * 100, 2)"
   ]
  },
  {
   "cell_type": "markdown",
   "metadata": {},
   "source": [
    "**GaussianNB**"
   ]
  },
  {
   "cell_type": "code",
   "execution_count": 44,
   "metadata": {},
   "outputs": [],
   "source": [
    "gaussian = GaussianNB()\n",
    "gaussian.fit(X_train, Y_train)\n",
    "Y_pred = gaussian.predict(X_test)\n",
    "acc_gaussian = round(gaussian.score(X_train, Y_train) * 100, 2)"
   ]
  },
  {
   "cell_type": "markdown",
   "metadata": {},
   "source": [
    "**Perceptron**"
   ]
  },
  {
   "cell_type": "code",
   "execution_count": 45,
   "metadata": {},
   "outputs": [],
   "source": [
    "perceptron = Perceptron()\n",
    "perceptron.fit(X_train, Y_train)\n",
    "Y_pred = perceptron.predict(X_test)\n",
    "acc_perceptron = round(perceptron.score(X_train, Y_train) * 100, 2)"
   ]
  },
  {
   "cell_type": "markdown",
   "metadata": {},
   "source": [
    "**DecisionTreeClassifier**"
   ]
  },
  {
   "cell_type": "code",
   "execution_count": 46,
   "metadata": {},
   "outputs": [],
   "source": [
    "decision_tree = DecisionTreeClassifier()\n",
    "decision_tree.fit(X_train, Y_train)\n",
    "Y_pred = decision_tree.predict(X_test)\n",
    "acc_decision_tree = round(decision_tree.score(X_train, Y_train) * 100, 2)"
   ]
  },
  {
   "cell_type": "markdown",
   "metadata": {},
   "source": [
    "**RandomForestClassifier**"
   ]
  },
  {
   "cell_type": "code",
   "execution_count": 47,
   "metadata": {},
   "outputs": [],
   "source": [
    "random_forest = RandomForestClassifier(n_estimators=50)\n",
    "random_forest.fit(X_train, Y_train)\n",
    "Y_pred = random_forest.predict(X_test)\n",
    "random_forest.score(X_train, Y_train)\n",
    "acc_random_forest = round(random_forest.score(X_train, Y_train) * 100, 2)"
   ]
  },
  {
   "cell_type": "code",
   "execution_count": 48,
   "metadata": {},
   "outputs": [
    {
     "data": {
      "text/html": [
       "<div>\n",
       "<style scoped>\n",
       "    .dataframe tbody tr th:only-of-type {\n",
       "        vertical-align: middle;\n",
       "    }\n",
       "\n",
       "    .dataframe tbody tr th {\n",
       "        vertical-align: top;\n",
       "    }\n",
       "\n",
       "    .dataframe thead th {\n",
       "        text-align: right;\n",
       "    }\n",
       "</style>\n",
       "<table border=\"1\" class=\"dataframe\">\n",
       "  <thead>\n",
       "    <tr style=\"text-align: right;\">\n",
       "      <th></th>\n",
       "      <th>Model</th>\n",
       "      <th>Score</th>\n",
       "    </tr>\n",
       "  </thead>\n",
       "  <tbody>\n",
       "    <tr>\n",
       "      <th>3</th>\n",
       "      <td>Random Forest</td>\n",
       "      <td>100.00</td>\n",
       "    </tr>\n",
       "    <tr>\n",
       "      <th>6</th>\n",
       "      <td>Decision Tree</td>\n",
       "      <td>100.00</td>\n",
       "    </tr>\n",
       "    <tr>\n",
       "      <th>1</th>\n",
       "      <td>KNN</td>\n",
       "      <td>80.00</td>\n",
       "    </tr>\n",
       "    <tr>\n",
       "      <th>2</th>\n",
       "      <td>Logistic Regression</td>\n",
       "      <td>70.00</td>\n",
       "    </tr>\n",
       "    <tr>\n",
       "      <th>4</th>\n",
       "      <td>Naive Bayes</td>\n",
       "      <td>66.25</td>\n",
       "    </tr>\n",
       "    <tr>\n",
       "      <th>0</th>\n",
       "      <td>Support Vector Machines</td>\n",
       "      <td>62.50</td>\n",
       "    </tr>\n",
       "    <tr>\n",
       "      <th>5</th>\n",
       "      <td>Perceptron</td>\n",
       "      <td>62.50</td>\n",
       "    </tr>\n",
       "  </tbody>\n",
       "</table>\n",
       "</div>"
      ],
      "text/plain": [
       "                     Model   Score\n",
       "3            Random Forest  100.00\n",
       "6            Decision Tree  100.00\n",
       "1                      KNN   80.00\n",
       "2      Logistic Regression   70.00\n",
       "4              Naive Bayes   66.25\n",
       "0  Support Vector Machines   62.50\n",
       "5               Perceptron   62.50"
      ]
     },
     "execution_count": 48,
     "metadata": {},
     "output_type": "execute_result"
    }
   ],
   "source": [
    "#Agrupo resultados en una variable para seleccionar el modelo que usaré para la predicción final\n",
    "models = pd.DataFrame({\n",
    "    'Model': ['Support Vector Machines', 'KNN', 'Logistic Regression', \n",
    "              'Random Forest', 'Naive Bayes', 'Perceptron', \n",
    "              'Decision Tree'],\n",
    "    'Score': [acc_svc, acc_knn, acc_log, \n",
    "              acc_random_forest, acc_gaussian, acc_perceptron, \n",
    "              acc_decision_tree]})\n",
    "#Ordeno por resultado\n",
    "models.sort_values(by='Score', ascending=False)"
   ]
  },
  {
   "cell_type": "markdown",
   "metadata": {},
   "source": [
    "**Resultado:**\n",
    "\n",
    "De los modelos analizados 2 se aplican mejor a la predicción pero elegiré para la aplicación final a <font color=\"green\">Random Forest</font>"
   ]
  },
  {
   "cell_type": "code",
   "execution_count": 49,
   "metadata": {},
   "outputs": [
    {
     "name": "stdout",
     "output_type": "stream",
     "text": [
      "Archivo generado\n"
     ]
    }
   ],
   "source": [
    "#genero archivo de resultados del modelo que será leído luego de la ejecución del botón click \"Generar\" de la aplicación\n",
    "submission = pd.DataFrame({\n",
    "        \"IDMODELO\": datoscsv[\"IDMODELO\"],\n",
    "        \"IDTIPOCUERPO\": datoscsv[\"IDTIPOCUERPO\"],\n",
    "        \"PRENDAAPTA\": Y_pred\n",
    "    })\n",
    "submission.to_csv(\"C:\\\\Users\\\\Syslan\\\\Curso AI\\\\DemoDayAsesorModa\\\\dataset\\\\DSPantalonmujer.csv\", index=False)\n",
    "\n",
    "print('Archivo generado')"
   ]
  },
  {
   "cell_type": "code",
   "execution_count": null,
   "metadata": {},
   "outputs": [],
   "source": []
  }
 ],
 "metadata": {
  "kernelspec": {
   "display_name": "Python 3",
   "language": "python",
   "name": "python3"
  },
  "language_info": {
   "codemirror_mode": {
    "name": "ipython",
    "version": 3
   },
   "file_extension": ".py",
   "mimetype": "text/x-python",
   "name": "python",
   "nbconvert_exporter": "python",
   "pygments_lexer": "ipython3",
   "version": "3.7.6"
  }
 },
 "nbformat": 4,
 "nbformat_minor": 4
}
