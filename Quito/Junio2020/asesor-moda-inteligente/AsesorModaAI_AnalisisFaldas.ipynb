{
 "cells": [
  {
   "cell_type": "markdown",
   "metadata": {},
   "source": [
    "<font color='#d90fa0'><b>ASESOR DE MODA - PREDICCIÓN DE FALDAS</b></font>\n",
    "\n",
    "Para el análisis del asesor de moda se generará el archivo resultante de la predicción la prenda tipo FALDA por tipo de cuerpo en ésta sección.\n",
    "\n",
    "Agregar librerías"
   ]
  },
  {
   "cell_type": "code",
   "execution_count": 232,
   "metadata": {},
   "outputs": [],
   "source": [
    "import pandas as pd\n",
    "import seaborn as sns\n",
    "from sklearn.linear_model import LogisticRegression\n",
    "from sklearn.svm import SVC, LinearSVC\n",
    "from sklearn.ensemble import RandomForestClassifier\n",
    "from sklearn.neighbors import KNeighborsClassifier\n",
    "from sklearn.naive_bayes import GaussianNB\n",
    "from sklearn.linear_model import Perceptron\n",
    "from sklearn.linear_model import SGDClassifier\n",
    "from sklearn.tree import DecisionTreeClassifier"
   ]
  },
  {
   "cell_type": "markdown",
   "metadata": {},
   "source": [
    "Lectura y revisión de archivo de datos"
   ]
  },
  {
   "cell_type": "code",
   "execution_count": 233,
   "metadata": {},
   "outputs": [
    {
     "name": "stdout",
     "output_type": "stream",
     "text": [
      "(85, 14)\n"
     ]
    }
   ],
   "source": [
    "#Leer archivo\n",
    "datoscsv = pd.read_csv(\"C:\\\\Users\\\\Syslan\\\\Curso AI\\\\DemoDayAsesorModa\\\\dataset\\\\DSFaldas.csv\",encoding='unicode_escape')\n",
    "print(datoscsv.shape)"
   ]
  },
  {
   "cell_type": "code",
   "execution_count": 234,
   "metadata": {},
   "outputs": [
    {
     "name": "stdout",
     "output_type": "stream",
     "text": [
      "<class 'pandas.core.frame.DataFrame'>\n",
      "RangeIndex: 85 entries, 0 to 84\n",
      "Data columns (total 14 columns):\n",
      " #   Column        Non-Null Count  Dtype \n",
      "---  ------        --------------  ----- \n",
      " 0   SEXO          85 non-null     object\n",
      " 1   IDSEXO        85 non-null     int64 \n",
      " 2   TIPOCUERPO    85 non-null     object\n",
      " 3   IDTIPOCUERPO  85 non-null     int64 \n",
      " 4   TIPO          85 non-null     object\n",
      " 5   IDTIPO        85 non-null     int64 \n",
      " 6   MODELO        85 non-null     object\n",
      " 7   IDMODELO      85 non-null     int64 \n",
      " 8   ALTURA        85 non-null     object\n",
      " 9   FORMA         85 non-null     object\n",
      " 10  PLIEGUES      85 non-null     object\n",
      " 11  VUELOS        85 non-null     object\n",
      " 12  CAPAS         85 non-null     object\n",
      " 13  PRENDAAPTA    85 non-null     int64 \n",
      "dtypes: int64(5), object(9)\n",
      "memory usage: 9.4+ KB\n"
     ]
    }
   ],
   "source": [
    "#Reviso estructura de información\n",
    "datoscsv.info()"
   ]
  },
  {
   "cell_type": "code",
   "execution_count": 235,
   "metadata": {},
   "outputs": [
    {
     "data": {
      "text/html": [
       "<div>\n",
       "<style scoped>\n",
       "    .dataframe tbody tr th:only-of-type {\n",
       "        vertical-align: middle;\n",
       "    }\n",
       "\n",
       "    .dataframe tbody tr th {\n",
       "        vertical-align: top;\n",
       "    }\n",
       "\n",
       "    .dataframe thead th {\n",
       "        text-align: right;\n",
       "    }\n",
       "</style>\n",
       "<table border=\"1\" class=\"dataframe\">\n",
       "  <thead>\n",
       "    <tr style=\"text-align: right;\">\n",
       "      <th></th>\n",
       "      <th>SEXO</th>\n",
       "      <th>IDSEXO</th>\n",
       "      <th>TIPOCUERPO</th>\n",
       "      <th>IDTIPOCUERPO</th>\n",
       "      <th>TIPO</th>\n",
       "      <th>IDTIPO</th>\n",
       "      <th>MODELO</th>\n",
       "      <th>IDMODELO</th>\n",
       "      <th>ALTURA</th>\n",
       "      <th>FORMA</th>\n",
       "      <th>PLIEGUES</th>\n",
       "      <th>VUELOS</th>\n",
       "      <th>CAPAS</th>\n",
       "      <th>PRENDAAPTA</th>\n",
       "    </tr>\n",
       "  </thead>\n",
       "  <tbody>\n",
       "    <tr>\n",
       "      <th>0</th>\n",
       "      <td>MUJER</td>\n",
       "      <td>1</td>\n",
       "      <td>TRIANGULO INVERTIDO</td>\n",
       "      <td>1</td>\n",
       "      <td>FALDA</td>\n",
       "      <td>1</td>\n",
       "      <td>TABLEADA</td>\n",
       "      <td>1</td>\n",
       "      <td>LARGO</td>\n",
       "      <td>A</td>\n",
       "      <td>SI</td>\n",
       "      <td>NO</td>\n",
       "      <td>NO</td>\n",
       "      <td>0</td>\n",
       "    </tr>\n",
       "    <tr>\n",
       "      <th>1</th>\n",
       "      <td>MUJER</td>\n",
       "      <td>1</td>\n",
       "      <td>TRIANGULO INVERTIDO</td>\n",
       "      <td>1</td>\n",
       "      <td>FALDA</td>\n",
       "      <td>1</td>\n",
       "      <td>LAPIZ</td>\n",
       "      <td>2</td>\n",
       "      <td>LARGO</td>\n",
       "      <td>RECTO</td>\n",
       "      <td>NO</td>\n",
       "      <td>NO</td>\n",
       "      <td>NO</td>\n",
       "      <td>0</td>\n",
       "    </tr>\n",
       "    <tr>\n",
       "      <th>2</th>\n",
       "      <td>MUJER</td>\n",
       "      <td>1</td>\n",
       "      <td>TRIANGULO INVERTIDO</td>\n",
       "      <td>1</td>\n",
       "      <td>FALDA</td>\n",
       "      <td>1</td>\n",
       "      <td>ASIMÉTRICA</td>\n",
       "      <td>3</td>\n",
       "      <td>LARGO</td>\n",
       "      <td>A</td>\n",
       "      <td>NO</td>\n",
       "      <td>SI</td>\n",
       "      <td>NO</td>\n",
       "      <td>0</td>\n",
       "    </tr>\n",
       "    <tr>\n",
       "      <th>3</th>\n",
       "      <td>MUJER</td>\n",
       "      <td>1</td>\n",
       "      <td>TRIANGULO INVERTIDO</td>\n",
       "      <td>1</td>\n",
       "      <td>FALDA</td>\n",
       "      <td>1</td>\n",
       "      <td>GODETS</td>\n",
       "      <td>4</td>\n",
       "      <td>MEDIO</td>\n",
       "      <td>RECTO</td>\n",
       "      <td>SI</td>\n",
       "      <td>NO</td>\n",
       "      <td>NO</td>\n",
       "      <td>0</td>\n",
       "    </tr>\n",
       "    <tr>\n",
       "      <th>4</th>\n",
       "      <td>MUJER</td>\n",
       "      <td>1</td>\n",
       "      <td>TRIANGULO INVERTIDO</td>\n",
       "      <td>1</td>\n",
       "      <td>FALDA</td>\n",
       "      <td>1</td>\n",
       "      <td>SIRENA</td>\n",
       "      <td>5</td>\n",
       "      <td>LARGO</td>\n",
       "      <td>SIRENA</td>\n",
       "      <td>NO</td>\n",
       "      <td>SI</td>\n",
       "      <td>NO</td>\n",
       "      <td>0</td>\n",
       "    </tr>\n",
       "  </tbody>\n",
       "</table>\n",
       "</div>"
      ],
      "text/plain": [
       "    SEXO  IDSEXO           TIPOCUERPO  IDTIPOCUERPO   TIPO  IDTIPO  \\\n",
       "0  MUJER       1  TRIANGULO INVERTIDO             1  FALDA       1   \n",
       "1  MUJER       1  TRIANGULO INVERTIDO             1  FALDA       1   \n",
       "2  MUJER       1  TRIANGULO INVERTIDO             1  FALDA       1   \n",
       "3  MUJER       1  TRIANGULO INVERTIDO             1  FALDA       1   \n",
       "4  MUJER       1  TRIANGULO INVERTIDO             1  FALDA       1   \n",
       "\n",
       "       MODELO  IDMODELO ALTURA   FORMA PLIEGUES VUELOS CAPAS  PRENDAAPTA  \n",
       "0    TABLEADA         1  LARGO       A       SI     NO    NO           0  \n",
       "1       LAPIZ         2  LARGO   RECTO       NO     NO    NO           0  \n",
       "2  ASIMÉTRICA         3  LARGO       A       NO     SI    NO           0  \n",
       "3      GODETS         4  MEDIO   RECTO       SI     NO    NO           0  \n",
       "4      SIRENA         5  LARGO  SIRENA       NO     SI    NO           0  "
      ]
     },
     "execution_count": 235,
     "metadata": {},
     "output_type": "execute_result"
    }
   ],
   "source": [
    "#Reviso datos de archivo desde cabecera\n",
    "datoscsv.head()"
   ]
  },
  {
   "cell_type": "markdown",
   "metadata": {},
   "source": [
    "<b>Análisis de datos</b>"
   ]
  },
  {
   "cell_type": "code",
   "execution_count": 236,
   "metadata": {},
   "outputs": [],
   "source": [
    "#armo mi dataset temporal que me ayudará a cambiar los valores string por valores numéricos\n",
    "FullDataSet = [datoscsv]"
   ]
  },
  {
   "cell_type": "markdown",
   "metadata": {},
   "source": [
    "1. Reviso si existen datos nulos o vacíos"
   ]
  },
  {
   "cell_type": "code",
   "execution_count": 237,
   "metadata": {},
   "outputs": [
    {
     "name": "stdout",
     "output_type": "stream",
     "text": [
      "Empty DataFrame\n",
      "Columns: [DATASET]\n",
      "Index: []\n"
     ]
    }
   ],
   "source": [
    "#reviso los campos en busca de valores Nulos (Nan)\n",
    "campoConNulos = pd.concat([datoscsv.isnull().sum()], axis=1, keys=['DATASET']) \n",
    "print(campoConNulos[campoConNulos.sum(axis=1) > 0])"
   ]
  },
  {
   "cell_type": "markdown",
   "metadata": {},
   "source": [
    "**Nota:** No existen datos vacíos"
   ]
  },
  {
   "cell_type": "markdown",
   "metadata": {},
   "source": [
    "2. Análisis sexo vs prendaapta"
   ]
  },
  {
   "cell_type": "code",
   "execution_count": 238,
   "metadata": {},
   "outputs": [
    {
     "data": {
      "text/html": [
       "<div>\n",
       "<style scoped>\n",
       "    .dataframe tbody tr th:only-of-type {\n",
       "        vertical-align: middle;\n",
       "    }\n",
       "\n",
       "    .dataframe tbody tr th {\n",
       "        vertical-align: top;\n",
       "    }\n",
       "\n",
       "    .dataframe thead th {\n",
       "        text-align: right;\n",
       "    }\n",
       "</style>\n",
       "<table border=\"1\" class=\"dataframe\">\n",
       "  <thead>\n",
       "    <tr style=\"text-align: right;\">\n",
       "      <th></th>\n",
       "      <th>IDSEXO</th>\n",
       "      <th>PRENDAAPTA</th>\n",
       "    </tr>\n",
       "  </thead>\n",
       "  <tbody>\n",
       "    <tr>\n",
       "      <th>0</th>\n",
       "      <td>1</td>\n",
       "      <td>0.352941</td>\n",
       "    </tr>\n",
       "  </tbody>\n",
       "</table>\n",
       "</div>"
      ],
      "text/plain": [
       "   IDSEXO  PRENDAAPTA\n",
       "0       1    0.352941"
      ]
     },
     "execution_count": 238,
     "metadata": {},
     "output_type": "execute_result"
    }
   ],
   "source": [
    "#analiza sexo vs prendaapta\n",
    "datoscsv[['IDSEXO', 'PRENDAAPTA']].groupby(['IDSEXO'], as_index=False).mean().sort_values(by='PRENDAAPTA', ascending=False)"
   ]
  },
  {
   "cell_type": "markdown",
   "metadata": {},
   "source": [
    "**Nota:** No existe mayor relación entre el sexo y el campo prendaapta"
   ]
  },
  {
   "cell_type": "markdown",
   "metadata": {},
   "source": [
    "3. Análisis tipo de cuerpo vs prendaapta"
   ]
  },
  {
   "cell_type": "code",
   "execution_count": 239,
   "metadata": {},
   "outputs": [
    {
     "data": {
      "text/html": [
       "<div>\n",
       "<style scoped>\n",
       "    .dataframe tbody tr th:only-of-type {\n",
       "        vertical-align: middle;\n",
       "    }\n",
       "\n",
       "    .dataframe tbody tr th {\n",
       "        vertical-align: top;\n",
       "    }\n",
       "\n",
       "    .dataframe thead th {\n",
       "        text-align: right;\n",
       "    }\n",
       "</style>\n",
       "<table border=\"1\" class=\"dataframe\">\n",
       "  <thead>\n",
       "    <tr style=\"text-align: right;\">\n",
       "      <th></th>\n",
       "      <th>IDTIPOCUERPO</th>\n",
       "      <th>PRENDAAPTA</th>\n",
       "    </tr>\n",
       "  </thead>\n",
       "  <tbody>\n",
       "    <tr>\n",
       "      <th>0</th>\n",
       "      <td>1</td>\n",
       "      <td>0.411765</td>\n",
       "    </tr>\n",
       "    <tr>\n",
       "      <th>2</th>\n",
       "      <td>3</td>\n",
       "      <td>0.352941</td>\n",
       "    </tr>\n",
       "    <tr>\n",
       "      <th>3</th>\n",
       "      <td>4</td>\n",
       "      <td>0.352941</td>\n",
       "    </tr>\n",
       "    <tr>\n",
       "      <th>4</th>\n",
       "      <td>5</td>\n",
       "      <td>0.352941</td>\n",
       "    </tr>\n",
       "    <tr>\n",
       "      <th>1</th>\n",
       "      <td>2</td>\n",
       "      <td>0.294118</td>\n",
       "    </tr>\n",
       "  </tbody>\n",
       "</table>\n",
       "</div>"
      ],
      "text/plain": [
       "   IDTIPOCUERPO  PRENDAAPTA\n",
       "0             1    0.411765\n",
       "2             3    0.352941\n",
       "3             4    0.352941\n",
       "4             5    0.352941\n",
       "1             2    0.294118"
      ]
     },
     "execution_count": 239,
     "metadata": {},
     "output_type": "execute_result"
    }
   ],
   "source": [
    "#analiza tipo de cuerpo vs prendaapta\n",
    "datoscsv[['IDTIPOCUERPO', 'PRENDAAPTA']].groupby(['IDTIPOCUERPO'], as_index=False).mean().sort_values(by='PRENDAAPTA', ascending=False)"
   ]
  },
  {
   "cell_type": "markdown",
   "metadata": {},
   "source": [
    "**Nota:** No existe mayor relación entre tipo de cuerpo y el campo prendaapta"
   ]
  },
  {
   "cell_type": "markdown",
   "metadata": {},
   "source": [
    "4. Análisis de campo falda vs prendaapta"
   ]
  },
  {
   "cell_type": "code",
   "execution_count": 240,
   "metadata": {},
   "outputs": [
    {
     "data": {
      "text/html": [
       "<div>\n",
       "<style scoped>\n",
       "    .dataframe tbody tr th:only-of-type {\n",
       "        vertical-align: middle;\n",
       "    }\n",
       "\n",
       "    .dataframe tbody tr th {\n",
       "        vertical-align: top;\n",
       "    }\n",
       "\n",
       "    .dataframe thead th {\n",
       "        text-align: right;\n",
       "    }\n",
       "</style>\n",
       "<table border=\"1\" class=\"dataframe\">\n",
       "  <thead>\n",
       "    <tr style=\"text-align: right;\">\n",
       "      <th></th>\n",
       "      <th>IDTIPO</th>\n",
       "      <th>PRENDAAPTA</th>\n",
       "    </tr>\n",
       "  </thead>\n",
       "  <tbody>\n",
       "    <tr>\n",
       "      <th>0</th>\n",
       "      <td>1</td>\n",
       "      <td>0.352941</td>\n",
       "    </tr>\n",
       "  </tbody>\n",
       "</table>\n",
       "</div>"
      ],
      "text/plain": [
       "   IDTIPO  PRENDAAPTA\n",
       "0       1    0.352941"
      ]
     },
     "execution_count": 240,
     "metadata": {},
     "output_type": "execute_result"
    }
   ],
   "source": [
    "#analiza tipo de prenda vs prendaapta\n",
    "datoscsv[['IDTIPO', 'PRENDAAPTA']].groupby(['IDTIPO'], as_index=False).mean().sort_values(by='PRENDAAPTA', ascending=False)"
   ]
  },
  {
   "cell_type": "markdown",
   "metadata": {},
   "source": [
    "**Nota:** No existe mayor relación entre tipo de modelo y el campo prendaapta"
   ]
  },
  {
   "cell_type": "markdown",
   "metadata": {},
   "source": [
    "5. Análisis de modelo de falda vs predaapta"
   ]
  },
  {
   "cell_type": "code",
   "execution_count": 241,
   "metadata": {},
   "outputs": [
    {
     "data": {
      "text/html": [
       "<div>\n",
       "<style scoped>\n",
       "    .dataframe tbody tr th:only-of-type {\n",
       "        vertical-align: middle;\n",
       "    }\n",
       "\n",
       "    .dataframe tbody tr th {\n",
       "        vertical-align: top;\n",
       "    }\n",
       "\n",
       "    .dataframe thead th {\n",
       "        text-align: right;\n",
       "    }\n",
       "</style>\n",
       "<table border=\"1\" class=\"dataframe\">\n",
       "  <thead>\n",
       "    <tr style=\"text-align: right;\">\n",
       "      <th></th>\n",
       "      <th>IDMODELO</th>\n",
       "      <th>PRENDAAPTA</th>\n",
       "    </tr>\n",
       "  </thead>\n",
       "  <tbody>\n",
       "    <tr>\n",
       "      <th>5</th>\n",
       "      <td>6</td>\n",
       "      <td>0.8</td>\n",
       "    </tr>\n",
       "    <tr>\n",
       "      <th>0</th>\n",
       "      <td>1</td>\n",
       "      <td>0.6</td>\n",
       "    </tr>\n",
       "    <tr>\n",
       "      <th>2</th>\n",
       "      <td>3</td>\n",
       "      <td>0.6</td>\n",
       "    </tr>\n",
       "    <tr>\n",
       "      <th>14</th>\n",
       "      <td>15</td>\n",
       "      <td>0.6</td>\n",
       "    </tr>\n",
       "    <tr>\n",
       "      <th>13</th>\n",
       "      <td>14</td>\n",
       "      <td>0.6</td>\n",
       "    </tr>\n",
       "    <tr>\n",
       "      <th>15</th>\n",
       "      <td>16</td>\n",
       "      <td>0.4</td>\n",
       "    </tr>\n",
       "    <tr>\n",
       "      <th>1</th>\n",
       "      <td>2</td>\n",
       "      <td>0.4</td>\n",
       "    </tr>\n",
       "    <tr>\n",
       "      <th>10</th>\n",
       "      <td>11</td>\n",
       "      <td>0.2</td>\n",
       "    </tr>\n",
       "    <tr>\n",
       "      <th>12</th>\n",
       "      <td>13</td>\n",
       "      <td>0.2</td>\n",
       "    </tr>\n",
       "    <tr>\n",
       "      <th>11</th>\n",
       "      <td>12</td>\n",
       "      <td>0.2</td>\n",
       "    </tr>\n",
       "    <tr>\n",
       "      <th>8</th>\n",
       "      <td>9</td>\n",
       "      <td>0.2</td>\n",
       "    </tr>\n",
       "    <tr>\n",
       "      <th>9</th>\n",
       "      <td>10</td>\n",
       "      <td>0.2</td>\n",
       "    </tr>\n",
       "    <tr>\n",
       "      <th>7</th>\n",
       "      <td>8</td>\n",
       "      <td>0.2</td>\n",
       "    </tr>\n",
       "    <tr>\n",
       "      <th>6</th>\n",
       "      <td>7</td>\n",
       "      <td>0.2</td>\n",
       "    </tr>\n",
       "    <tr>\n",
       "      <th>4</th>\n",
       "      <td>5</td>\n",
       "      <td>0.2</td>\n",
       "    </tr>\n",
       "    <tr>\n",
       "      <th>3</th>\n",
       "      <td>4</td>\n",
       "      <td>0.2</td>\n",
       "    </tr>\n",
       "    <tr>\n",
       "      <th>16</th>\n",
       "      <td>17</td>\n",
       "      <td>0.2</td>\n",
       "    </tr>\n",
       "  </tbody>\n",
       "</table>\n",
       "</div>"
      ],
      "text/plain": [
       "    IDMODELO  PRENDAAPTA\n",
       "5          6         0.8\n",
       "0          1         0.6\n",
       "2          3         0.6\n",
       "14        15         0.6\n",
       "13        14         0.6\n",
       "15        16         0.4\n",
       "1          2         0.4\n",
       "10        11         0.2\n",
       "12        13         0.2\n",
       "11        12         0.2\n",
       "8          9         0.2\n",
       "9         10         0.2\n",
       "7          8         0.2\n",
       "6          7         0.2\n",
       "4          5         0.2\n",
       "3          4         0.2\n",
       "16        17         0.2"
      ]
     },
     "execution_count": 241,
     "metadata": {},
     "output_type": "execute_result"
    }
   ],
   "source": [
    "#analiza tipo de prenda vs prendaapta\n",
    "datoscsv[['IDMODELO', 'PRENDAAPTA']].groupby(['IDMODELO'], as_index=False).mean().sort_values(by='PRENDAAPTA', ascending=False)"
   ]
  },
  {
   "cell_type": "markdown",
   "metadata": {},
   "source": [
    "**Nota:** si existe relación entre el modelo de falda y el campo prendaapta"
   ]
  },
  {
   "cell_type": "markdown",
   "metadata": {},
   "source": [
    "6. Análisis de altura vs prendaapta. El campo altura posee valores tipo string, por lo que deben transformarse en campo entero."
   ]
  },
  {
   "cell_type": "code",
   "execution_count": 242,
   "metadata": {},
   "outputs": [],
   "source": [
    "#cambio valores string por numéricos\n",
    "for dataset in FullDataSet:\n",
    "    dataset.loc[ dataset['ALTURA'] == 'CORTO', 'ALTURA'] = int(1)\n",
    "    dataset.loc[ dataset['ALTURA'] == \"MEDIO\", 'ALTURA'] = int(2)\n",
    "    dataset.loc[ dataset['ALTURA'] == \"LARGO\", 'ALTURA'] = int(3)"
   ]
  },
  {
   "cell_type": "code",
   "execution_count": 243,
   "metadata": {},
   "outputs": [
    {
     "data": {
      "text/html": [
       "<div>\n",
       "<style scoped>\n",
       "    .dataframe tbody tr th:only-of-type {\n",
       "        vertical-align: middle;\n",
       "    }\n",
       "\n",
       "    .dataframe tbody tr th {\n",
       "        vertical-align: top;\n",
       "    }\n",
       "\n",
       "    .dataframe thead th {\n",
       "        text-align: right;\n",
       "    }\n",
       "</style>\n",
       "<table border=\"1\" class=\"dataframe\">\n",
       "  <thead>\n",
       "    <tr style=\"text-align: right;\">\n",
       "      <th></th>\n",
       "      <th>SEXO</th>\n",
       "      <th>IDSEXO</th>\n",
       "      <th>TIPOCUERPO</th>\n",
       "      <th>IDTIPOCUERPO</th>\n",
       "      <th>TIPO</th>\n",
       "      <th>IDTIPO</th>\n",
       "      <th>MODELO</th>\n",
       "      <th>IDMODELO</th>\n",
       "      <th>ALTURA</th>\n",
       "      <th>FORMA</th>\n",
       "      <th>PLIEGUES</th>\n",
       "      <th>VUELOS</th>\n",
       "      <th>CAPAS</th>\n",
       "      <th>PRENDAAPTA</th>\n",
       "    </tr>\n",
       "  </thead>\n",
       "  <tbody>\n",
       "    <tr>\n",
       "      <th>0</th>\n",
       "      <td>MUJER</td>\n",
       "      <td>1</td>\n",
       "      <td>TRIANGULO INVERTIDO</td>\n",
       "      <td>1</td>\n",
       "      <td>FALDA</td>\n",
       "      <td>1</td>\n",
       "      <td>TABLEADA</td>\n",
       "      <td>1</td>\n",
       "      <td>3</td>\n",
       "      <td>A</td>\n",
       "      <td>SI</td>\n",
       "      <td>NO</td>\n",
       "      <td>NO</td>\n",
       "      <td>0</td>\n",
       "    </tr>\n",
       "    <tr>\n",
       "      <th>1</th>\n",
       "      <td>MUJER</td>\n",
       "      <td>1</td>\n",
       "      <td>TRIANGULO INVERTIDO</td>\n",
       "      <td>1</td>\n",
       "      <td>FALDA</td>\n",
       "      <td>1</td>\n",
       "      <td>LAPIZ</td>\n",
       "      <td>2</td>\n",
       "      <td>3</td>\n",
       "      <td>RECTO</td>\n",
       "      <td>NO</td>\n",
       "      <td>NO</td>\n",
       "      <td>NO</td>\n",
       "      <td>0</td>\n",
       "    </tr>\n",
       "    <tr>\n",
       "      <th>2</th>\n",
       "      <td>MUJER</td>\n",
       "      <td>1</td>\n",
       "      <td>TRIANGULO INVERTIDO</td>\n",
       "      <td>1</td>\n",
       "      <td>FALDA</td>\n",
       "      <td>1</td>\n",
       "      <td>ASIMÉTRICA</td>\n",
       "      <td>3</td>\n",
       "      <td>3</td>\n",
       "      <td>A</td>\n",
       "      <td>NO</td>\n",
       "      <td>SI</td>\n",
       "      <td>NO</td>\n",
       "      <td>0</td>\n",
       "    </tr>\n",
       "    <tr>\n",
       "      <th>3</th>\n",
       "      <td>MUJER</td>\n",
       "      <td>1</td>\n",
       "      <td>TRIANGULO INVERTIDO</td>\n",
       "      <td>1</td>\n",
       "      <td>FALDA</td>\n",
       "      <td>1</td>\n",
       "      <td>GODETS</td>\n",
       "      <td>4</td>\n",
       "      <td>2</td>\n",
       "      <td>RECTO</td>\n",
       "      <td>SI</td>\n",
       "      <td>NO</td>\n",
       "      <td>NO</td>\n",
       "      <td>0</td>\n",
       "    </tr>\n",
       "    <tr>\n",
       "      <th>4</th>\n",
       "      <td>MUJER</td>\n",
       "      <td>1</td>\n",
       "      <td>TRIANGULO INVERTIDO</td>\n",
       "      <td>1</td>\n",
       "      <td>FALDA</td>\n",
       "      <td>1</td>\n",
       "      <td>SIRENA</td>\n",
       "      <td>5</td>\n",
       "      <td>3</td>\n",
       "      <td>SIRENA</td>\n",
       "      <td>NO</td>\n",
       "      <td>SI</td>\n",
       "      <td>NO</td>\n",
       "      <td>0</td>\n",
       "    </tr>\n",
       "  </tbody>\n",
       "</table>\n",
       "</div>"
      ],
      "text/plain": [
       "    SEXO  IDSEXO           TIPOCUERPO  IDTIPOCUERPO   TIPO  IDTIPO  \\\n",
       "0  MUJER       1  TRIANGULO INVERTIDO             1  FALDA       1   \n",
       "1  MUJER       1  TRIANGULO INVERTIDO             1  FALDA       1   \n",
       "2  MUJER       1  TRIANGULO INVERTIDO             1  FALDA       1   \n",
       "3  MUJER       1  TRIANGULO INVERTIDO             1  FALDA       1   \n",
       "4  MUJER       1  TRIANGULO INVERTIDO             1  FALDA       1   \n",
       "\n",
       "       MODELO  IDMODELO ALTURA   FORMA PLIEGUES VUELOS CAPAS  PRENDAAPTA  \n",
       "0    TABLEADA         1      3       A       SI     NO    NO           0  \n",
       "1       LAPIZ         2      3   RECTO       NO     NO    NO           0  \n",
       "2  ASIMÉTRICA         3      3       A       NO     SI    NO           0  \n",
       "3      GODETS         4      2   RECTO       SI     NO    NO           0  \n",
       "4      SIRENA         5      3  SIRENA       NO     SI    NO           0  "
      ]
     },
     "execution_count": 243,
     "metadata": {},
     "output_type": "execute_result"
    }
   ],
   "source": [
    "#reviso que dataset tenga nuevos valores\n",
    "datoscsv.head()"
   ]
  },
  {
   "cell_type": "code",
   "execution_count": 244,
   "metadata": {},
   "outputs": [
    {
     "data": {
      "text/html": [
       "<div>\n",
       "<style scoped>\n",
       "    .dataframe tbody tr th:only-of-type {\n",
       "        vertical-align: middle;\n",
       "    }\n",
       "\n",
       "    .dataframe tbody tr th {\n",
       "        vertical-align: top;\n",
       "    }\n",
       "\n",
       "    .dataframe thead th {\n",
       "        text-align: right;\n",
       "    }\n",
       "</style>\n",
       "<table border=\"1\" class=\"dataframe\">\n",
       "  <thead>\n",
       "    <tr style=\"text-align: right;\">\n",
       "      <th></th>\n",
       "      <th>ALTURA</th>\n",
       "      <th>PRENDAAPTA</th>\n",
       "    </tr>\n",
       "  </thead>\n",
       "  <tbody>\n",
       "    <tr>\n",
       "      <th>2</th>\n",
       "      <td>3</td>\n",
       "      <td>0.400</td>\n",
       "    </tr>\n",
       "    <tr>\n",
       "      <th>1</th>\n",
       "      <td>2</td>\n",
       "      <td>0.375</td>\n",
       "    </tr>\n",
       "    <tr>\n",
       "      <th>0</th>\n",
       "      <td>1</td>\n",
       "      <td>0.200</td>\n",
       "    </tr>\n",
       "  </tbody>\n",
       "</table>\n",
       "</div>"
      ],
      "text/plain": [
       "   ALTURA  PRENDAAPTA\n",
       "2       3       0.400\n",
       "1       2       0.375\n",
       "0       1       0.200"
      ]
     },
     "execution_count": 244,
     "metadata": {},
     "output_type": "execute_result"
    }
   ],
   "source": [
    "#altura vs prendaapta\n",
    "datoscsv[['ALTURA', 'PRENDAAPTA']].groupby(['ALTURA'], as_index=False).mean().sort_values(by='PRENDAAPTA', ascending=False)"
   ]
  },
  {
   "cell_type": "markdown",
   "metadata": {},
   "source": [
    "**Nota:** La altura si tiene relación con el campo prendaapta"
   ]
  },
  {
   "cell_type": "markdown",
   "metadata": {},
   "source": [
    "7. Análisis de relación de tipo de cuerpo, altura y prendaapta"
   ]
  },
  {
   "cell_type": "code",
   "execution_count": 245,
   "metadata": {},
   "outputs": [
    {
     "data": {
      "text/html": [
       "<div>\n",
       "<style scoped>\n",
       "    .dataframe tbody tr th:only-of-type {\n",
       "        vertical-align: middle;\n",
       "    }\n",
       "\n",
       "    .dataframe tbody tr th {\n",
       "        vertical-align: top;\n",
       "    }\n",
       "\n",
       "    .dataframe thead th {\n",
       "        text-align: right;\n",
       "    }\n",
       "</style>\n",
       "<table border=\"1\" class=\"dataframe\">\n",
       "  <thead>\n",
       "    <tr style=\"text-align: right;\">\n",
       "      <th></th>\n",
       "      <th>IDTIPOCUERPO</th>\n",
       "      <th>ALTURA</th>\n",
       "      <th>PRENDAAPTA</th>\n",
       "    </tr>\n",
       "  </thead>\n",
       "  <tbody>\n",
       "    <tr>\n",
       "      <th>12</th>\n",
       "      <td>5</td>\n",
       "      <td>1</td>\n",
       "      <td>0.000000</td>\n",
       "    </tr>\n",
       "    <tr>\n",
       "      <th>13</th>\n",
       "      <td>5</td>\n",
       "      <td>2</td>\n",
       "      <td>0.250000</td>\n",
       "    </tr>\n",
       "    <tr>\n",
       "      <th>14</th>\n",
       "      <td>5</td>\n",
       "      <td>3</td>\n",
       "      <td>0.666667</td>\n",
       "    </tr>\n",
       "    <tr>\n",
       "      <th>9</th>\n",
       "      <td>4</td>\n",
       "      <td>1</td>\n",
       "      <td>0.000000</td>\n",
       "    </tr>\n",
       "    <tr>\n",
       "      <th>10</th>\n",
       "      <td>4</td>\n",
       "      <td>2</td>\n",
       "      <td>0.375000</td>\n",
       "    </tr>\n",
       "    <tr>\n",
       "      <th>11</th>\n",
       "      <td>4</td>\n",
       "      <td>3</td>\n",
       "      <td>0.500000</td>\n",
       "    </tr>\n",
       "    <tr>\n",
       "      <th>6</th>\n",
       "      <td>3</td>\n",
       "      <td>1</td>\n",
       "      <td>0.000000</td>\n",
       "    </tr>\n",
       "    <tr>\n",
       "      <th>7</th>\n",
       "      <td>3</td>\n",
       "      <td>2</td>\n",
       "      <td>0.375000</td>\n",
       "    </tr>\n",
       "    <tr>\n",
       "      <th>8</th>\n",
       "      <td>3</td>\n",
       "      <td>3</td>\n",
       "      <td>0.500000</td>\n",
       "    </tr>\n",
       "    <tr>\n",
       "      <th>3</th>\n",
       "      <td>2</td>\n",
       "      <td>1</td>\n",
       "      <td>0.333333</td>\n",
       "    </tr>\n",
       "    <tr>\n",
       "      <th>4</th>\n",
       "      <td>2</td>\n",
       "      <td>2</td>\n",
       "      <td>0.250000</td>\n",
       "    </tr>\n",
       "    <tr>\n",
       "      <th>5</th>\n",
       "      <td>2</td>\n",
       "      <td>3</td>\n",
       "      <td>0.333333</td>\n",
       "    </tr>\n",
       "    <tr>\n",
       "      <th>0</th>\n",
       "      <td>1</td>\n",
       "      <td>1</td>\n",
       "      <td>0.666667</td>\n",
       "    </tr>\n",
       "    <tr>\n",
       "      <th>1</th>\n",
       "      <td>1</td>\n",
       "      <td>2</td>\n",
       "      <td>0.625000</td>\n",
       "    </tr>\n",
       "    <tr>\n",
       "      <th>2</th>\n",
       "      <td>1</td>\n",
       "      <td>3</td>\n",
       "      <td>0.000000</td>\n",
       "    </tr>\n",
       "  </tbody>\n",
       "</table>\n",
       "</div>"
      ],
      "text/plain": [
       "    IDTIPOCUERPO  ALTURA  PRENDAAPTA\n",
       "12             5       1    0.000000\n",
       "13             5       2    0.250000\n",
       "14             5       3    0.666667\n",
       "9              4       1    0.000000\n",
       "10             4       2    0.375000\n",
       "11             4       3    0.500000\n",
       "6              3       1    0.000000\n",
       "7              3       2    0.375000\n",
       "8              3       3    0.500000\n",
       "3              2       1    0.333333\n",
       "4              2       2    0.250000\n",
       "5              2       3    0.333333\n",
       "0              1       1    0.666667\n",
       "1              1       2    0.625000\n",
       "2              1       3    0.000000"
      ]
     },
     "execution_count": 245,
     "metadata": {},
     "output_type": "execute_result"
    }
   ],
   "source": [
    "#tipo de cuerpo, altura y prendaapta\n",
    "datoscsv[['IDTIPOCUERPO','ALTURA','PRENDAAPTA']].groupby(['IDTIPOCUERPO','ALTURA'], as_index=False).mean().sort_values(by='IDTIPOCUERPO', ascending=False)"
   ]
  },
  {
   "cell_type": "markdown",
   "metadata": {},
   "source": [
    "**Nota:** El campo altura si tiene relación"
   ]
  },
  {
   "cell_type": "code",
   "execution_count": 246,
   "metadata": {},
   "outputs": [
    {
     "name": "stderr",
     "output_type": "stream",
     "text": [
      "C:\\Users\\Syslan\\anaconda3\\lib\\site-packages\\seaborn\\axisgrid.py:243: UserWarning: The `size` parameter has been renamed to `height`; please update your code.\n",
      "  warnings.warn(msg, UserWarning)\n",
      "C:\\Users\\Syslan\\anaconda3\\lib\\site-packages\\seaborn\\axisgrid.py:728: UserWarning: Using the pointplot function without specifying `order` is likely to produce an incorrect plot.\n",
      "  warnings.warn(warning)\n",
      "C:\\Users\\Syslan\\anaconda3\\lib\\site-packages\\seaborn\\axisgrid.py:733: UserWarning: Using the pointplot function without specifying `hue_order` is likely to produce an incorrect plot.\n",
      "  warnings.warn(warning)\n"
     ]
    },
    {
     "data": {
      "text/plain": [
       "<seaborn.axisgrid.FacetGrid at 0x18128e27d08>"
      ]
     },
     "execution_count": 246,
     "metadata": {},
     "output_type": "execute_result"
    },
    {
     "data": {
      "image/png": "[encoded data removed]",
      "text/plain": [
       "<Figure size 295.815x792 with 5 Axes>"
      ]
     },
     "metadata": {
      "needs_background": "light"
     },
     "output_type": "display_data"
    }
   ],
   "source": [
    "grid = sns.FacetGrid(datoscsv, row='IDTIPOCUERPO', size=2.2, aspect=1.6)\n",
    "grid.map(sns.pointplot, 'ALTURA', 'PRENDAAPTA', 'IDTIPO', palette='deep')\n",
    "grid.add_legend()"
   ]
  },
  {
   "cell_type": "markdown",
   "metadata": {},
   "source": [
    "**Nota:** El tipo de cuerpo si tiene relación con la altura y el campo prendaapta"
   ]
  },
  {
   "cell_type": "markdown",
   "metadata": {},
   "source": [
    "8. Análisis de forma vs prendaapta. El campo forma posee valores tipo string, por lo que deben transformarse en campo entero."
   ]
  },
  {
   "cell_type": "code",
   "execution_count": 247,
   "metadata": {},
   "outputs": [],
   "source": [
    "#cambio valores string por numéricos\n",
    "for dataset in FullDataSet:\n",
    "    dataset.loc[ dataset['FORMA'] == 'A', 'FORMA'] = int(1)\n",
    "    dataset.loc[ dataset['FORMA'] == \"CIRCULAR\", 'FORMA'] = int(2)\n",
    "    dataset.loc[ dataset['FORMA'] == \"RECTO\", 'FORMA'] = int(3)\n",
    "    dataset.loc[ dataset['FORMA'] == \"SIRENA\", 'FORMA'] = int(3)"
   ]
  },
  {
   "cell_type": "code",
   "execution_count": 248,
   "metadata": {},
   "outputs": [
    {
     "data": {
      "text/html": [
       "<div>\n",
       "<style scoped>\n",
       "    .dataframe tbody tr th:only-of-type {\n",
       "        vertical-align: middle;\n",
       "    }\n",
       "\n",
       "    .dataframe tbody tr th {\n",
       "        vertical-align: top;\n",
       "    }\n",
       "\n",
       "    .dataframe thead th {\n",
       "        text-align: right;\n",
       "    }\n",
       "</style>\n",
       "<table border=\"1\" class=\"dataframe\">\n",
       "  <thead>\n",
       "    <tr style=\"text-align: right;\">\n",
       "      <th></th>\n",
       "      <th>SEXO</th>\n",
       "      <th>IDSEXO</th>\n",
       "      <th>TIPOCUERPO</th>\n",
       "      <th>IDTIPOCUERPO</th>\n",
       "      <th>TIPO</th>\n",
       "      <th>IDTIPO</th>\n",
       "      <th>MODELO</th>\n",
       "      <th>IDMODELO</th>\n",
       "      <th>ALTURA</th>\n",
       "      <th>FORMA</th>\n",
       "      <th>PLIEGUES</th>\n",
       "      <th>VUELOS</th>\n",
       "      <th>CAPAS</th>\n",
       "      <th>PRENDAAPTA</th>\n",
       "    </tr>\n",
       "  </thead>\n",
       "  <tbody>\n",
       "    <tr>\n",
       "      <th>0</th>\n",
       "      <td>MUJER</td>\n",
       "      <td>1</td>\n",
       "      <td>TRIANGULO INVERTIDO</td>\n",
       "      <td>1</td>\n",
       "      <td>FALDA</td>\n",
       "      <td>1</td>\n",
       "      <td>TABLEADA</td>\n",
       "      <td>1</td>\n",
       "      <td>3</td>\n",
       "      <td>1</td>\n",
       "      <td>SI</td>\n",
       "      <td>NO</td>\n",
       "      <td>NO</td>\n",
       "      <td>0</td>\n",
       "    </tr>\n",
       "    <tr>\n",
       "      <th>1</th>\n",
       "      <td>MUJER</td>\n",
       "      <td>1</td>\n",
       "      <td>TRIANGULO INVERTIDO</td>\n",
       "      <td>1</td>\n",
       "      <td>FALDA</td>\n",
       "      <td>1</td>\n",
       "      <td>LAPIZ</td>\n",
       "      <td>2</td>\n",
       "      <td>3</td>\n",
       "      <td>3</td>\n",
       "      <td>NO</td>\n",
       "      <td>NO</td>\n",
       "      <td>NO</td>\n",
       "      <td>0</td>\n",
       "    </tr>\n",
       "    <tr>\n",
       "      <th>2</th>\n",
       "      <td>MUJER</td>\n",
       "      <td>1</td>\n",
       "      <td>TRIANGULO INVERTIDO</td>\n",
       "      <td>1</td>\n",
       "      <td>FALDA</td>\n",
       "      <td>1</td>\n",
       "      <td>ASIMÉTRICA</td>\n",
       "      <td>3</td>\n",
       "      <td>3</td>\n",
       "      <td>1</td>\n",
       "      <td>NO</td>\n",
       "      <td>SI</td>\n",
       "      <td>NO</td>\n",
       "      <td>0</td>\n",
       "    </tr>\n",
       "    <tr>\n",
       "      <th>3</th>\n",
       "      <td>MUJER</td>\n",
       "      <td>1</td>\n",
       "      <td>TRIANGULO INVERTIDO</td>\n",
       "      <td>1</td>\n",
       "      <td>FALDA</td>\n",
       "      <td>1</td>\n",
       "      <td>GODETS</td>\n",
       "      <td>4</td>\n",
       "      <td>2</td>\n",
       "      <td>3</td>\n",
       "      <td>SI</td>\n",
       "      <td>NO</td>\n",
       "      <td>NO</td>\n",
       "      <td>0</td>\n",
       "    </tr>\n",
       "    <tr>\n",
       "      <th>4</th>\n",
       "      <td>MUJER</td>\n",
       "      <td>1</td>\n",
       "      <td>TRIANGULO INVERTIDO</td>\n",
       "      <td>1</td>\n",
       "      <td>FALDA</td>\n",
       "      <td>1</td>\n",
       "      <td>SIRENA</td>\n",
       "      <td>5</td>\n",
       "      <td>3</td>\n",
       "      <td>3</td>\n",
       "      <td>NO</td>\n",
       "      <td>SI</td>\n",
       "      <td>NO</td>\n",
       "      <td>0</td>\n",
       "    </tr>\n",
       "  </tbody>\n",
       "</table>\n",
       "</div>"
      ],
      "text/plain": [
       "    SEXO  IDSEXO           TIPOCUERPO  IDTIPOCUERPO   TIPO  IDTIPO  \\\n",
       "0  MUJER       1  TRIANGULO INVERTIDO             1  FALDA       1   \n",
       "1  MUJER       1  TRIANGULO INVERTIDO             1  FALDA       1   \n",
       "2  MUJER       1  TRIANGULO INVERTIDO             1  FALDA       1   \n",
       "3  MUJER       1  TRIANGULO INVERTIDO             1  FALDA       1   \n",
       "4  MUJER       1  TRIANGULO INVERTIDO             1  FALDA       1   \n",
       "\n",
       "       MODELO  IDMODELO ALTURA FORMA PLIEGUES VUELOS CAPAS  PRENDAAPTA  \n",
       "0    TABLEADA         1      3     1       SI     NO    NO           0  \n",
       "1       LAPIZ         2      3     3       NO     NO    NO           0  \n",
       "2  ASIMÉTRICA         3      3     1       NO     SI    NO           0  \n",
       "3      GODETS         4      2     3       SI     NO    NO           0  \n",
       "4      SIRENA         5      3     3       NO     SI    NO           0  "
      ]
     },
     "execution_count": 248,
     "metadata": {},
     "output_type": "execute_result"
    }
   ],
   "source": [
    "#reviso que dataset tenga nuevos valores\n",
    "datoscsv.head()"
   ]
  },
  {
   "cell_type": "code",
   "execution_count": 249,
   "metadata": {},
   "outputs": [
    {
     "data": {
      "text/html": [
       "<div>\n",
       "<style scoped>\n",
       "    .dataframe tbody tr th:only-of-type {\n",
       "        vertical-align: middle;\n",
       "    }\n",
       "\n",
       "    .dataframe tbody tr th {\n",
       "        vertical-align: top;\n",
       "    }\n",
       "\n",
       "    .dataframe thead th {\n",
       "        text-align: right;\n",
       "    }\n",
       "</style>\n",
       "<table border=\"1\" class=\"dataframe\">\n",
       "  <thead>\n",
       "    <tr style=\"text-align: right;\">\n",
       "      <th></th>\n",
       "      <th>FORMA</th>\n",
       "      <th>PRENDAAPTA</th>\n",
       "    </tr>\n",
       "  </thead>\n",
       "  <tbody>\n",
       "    <tr>\n",
       "      <th>0</th>\n",
       "      <td>1</td>\n",
       "      <td>0.542857</td>\n",
       "    </tr>\n",
       "    <tr>\n",
       "      <th>2</th>\n",
       "      <td>3</td>\n",
       "      <td>0.222222</td>\n",
       "    </tr>\n",
       "    <tr>\n",
       "      <th>1</th>\n",
       "      <td>2</td>\n",
       "      <td>0.200000</td>\n",
       "    </tr>\n",
       "  </tbody>\n",
       "</table>\n",
       "</div>"
      ],
      "text/plain": [
       "   FORMA  PRENDAAPTA\n",
       "0      1    0.542857\n",
       "2      3    0.222222\n",
       "1      2    0.200000"
      ]
     },
     "execution_count": 249,
     "metadata": {},
     "output_type": "execute_result"
    }
   ],
   "source": [
    "#analiza forma vs prendaapta\n",
    "datoscsv[['FORMA','PRENDAAPTA']].groupby(['FORMA'], as_index=False).mean().sort_values(by='PRENDAAPTA', ascending=False)"
   ]
  },
  {
   "cell_type": "markdown",
   "metadata": {},
   "source": [
    "**Nota:** La forma de la prenda si tiene relación con el campo prendaapta."
   ]
  },
  {
   "cell_type": "code",
   "execution_count": 250,
   "metadata": {},
   "outputs": [
    {
     "data": {
      "text/html": [
       "<div>\n",
       "<style scoped>\n",
       "    .dataframe tbody tr th:only-of-type {\n",
       "        vertical-align: middle;\n",
       "    }\n",
       "\n",
       "    .dataframe tbody tr th {\n",
       "        vertical-align: top;\n",
       "    }\n",
       "\n",
       "    .dataframe thead th {\n",
       "        text-align: right;\n",
       "    }\n",
       "</style>\n",
       "<table border=\"1\" class=\"dataframe\">\n",
       "  <thead>\n",
       "    <tr style=\"text-align: right;\">\n",
       "      <th></th>\n",
       "      <th>IDTIPOCUERPO</th>\n",
       "      <th>FORMA</th>\n",
       "      <th>PRENDAAPTA</th>\n",
       "    </tr>\n",
       "  </thead>\n",
       "  <tbody>\n",
       "    <tr>\n",
       "      <th>12</th>\n",
       "      <td>5</td>\n",
       "      <td>1</td>\n",
       "      <td>0.428571</td>\n",
       "    </tr>\n",
       "    <tr>\n",
       "      <th>13</th>\n",
       "      <td>5</td>\n",
       "      <td>2</td>\n",
       "      <td>0.000000</td>\n",
       "    </tr>\n",
       "    <tr>\n",
       "      <th>14</th>\n",
       "      <td>5</td>\n",
       "      <td>3</td>\n",
       "      <td>0.333333</td>\n",
       "    </tr>\n",
       "    <tr>\n",
       "      <th>9</th>\n",
       "      <td>4</td>\n",
       "      <td>1</td>\n",
       "      <td>0.857143</td>\n",
       "    </tr>\n",
       "    <tr>\n",
       "      <th>10</th>\n",
       "      <td>4</td>\n",
       "      <td>2</td>\n",
       "      <td>0.000000</td>\n",
       "    </tr>\n",
       "    <tr>\n",
       "      <th>11</th>\n",
       "      <td>4</td>\n",
       "      <td>3</td>\n",
       "      <td>0.000000</td>\n",
       "    </tr>\n",
       "    <tr>\n",
       "      <th>6</th>\n",
       "      <td>3</td>\n",
       "      <td>1</td>\n",
       "      <td>0.857143</td>\n",
       "    </tr>\n",
       "    <tr>\n",
       "      <th>7</th>\n",
       "      <td>3</td>\n",
       "      <td>2</td>\n",
       "      <td>0.000000</td>\n",
       "    </tr>\n",
       "    <tr>\n",
       "      <th>8</th>\n",
       "      <td>3</td>\n",
       "      <td>3</td>\n",
       "      <td>0.000000</td>\n",
       "    </tr>\n",
       "    <tr>\n",
       "      <th>3</th>\n",
       "      <td>2</td>\n",
       "      <td>1</td>\n",
       "      <td>0.000000</td>\n",
       "    </tr>\n",
       "    <tr>\n",
       "      <th>4</th>\n",
       "      <td>2</td>\n",
       "      <td>2</td>\n",
       "      <td>0.000000</td>\n",
       "    </tr>\n",
       "    <tr>\n",
       "      <th>5</th>\n",
       "      <td>2</td>\n",
       "      <td>3</td>\n",
       "      <td>0.555556</td>\n",
       "    </tr>\n",
       "    <tr>\n",
       "      <th>0</th>\n",
       "      <td>1</td>\n",
       "      <td>1</td>\n",
       "      <td>0.571429</td>\n",
       "    </tr>\n",
       "    <tr>\n",
       "      <th>1</th>\n",
       "      <td>1</td>\n",
       "      <td>2</td>\n",
       "      <td>1.000000</td>\n",
       "    </tr>\n",
       "    <tr>\n",
       "      <th>2</th>\n",
       "      <td>1</td>\n",
       "      <td>3</td>\n",
       "      <td>0.222222</td>\n",
       "    </tr>\n",
       "  </tbody>\n",
       "</table>\n",
       "</div>"
      ],
      "text/plain": [
       "    IDTIPOCUERPO  FORMA  PRENDAAPTA\n",
       "12             5      1    0.428571\n",
       "13             5      2    0.000000\n",
       "14             5      3    0.333333\n",
       "9              4      1    0.857143\n",
       "10             4      2    0.000000\n",
       "11             4      3    0.000000\n",
       "6              3      1    0.857143\n",
       "7              3      2    0.000000\n",
       "8              3      3    0.000000\n",
       "3              2      1    0.000000\n",
       "4              2      2    0.000000\n",
       "5              2      3    0.555556\n",
       "0              1      1    0.571429\n",
       "1              1      2    1.000000\n",
       "2              1      3    0.222222"
      ]
     },
     "execution_count": 250,
     "metadata": {},
     "output_type": "execute_result"
    }
   ],
   "source": [
    "#analiza tipo de cuerpo,forma,prendaapta\n",
    "datoscsv[['IDTIPOCUERPO','FORMA','PRENDAAPTA']].groupby(['IDTIPOCUERPO','FORMA'], as_index=False).mean().sort_values(by='IDTIPOCUERPO', ascending=False)"
   ]
  },
  {
   "cell_type": "code",
   "execution_count": 251,
   "metadata": {},
   "outputs": [
    {
     "name": "stderr",
     "output_type": "stream",
     "text": [
      "C:\\Users\\Syslan\\anaconda3\\lib\\site-packages\\seaborn\\axisgrid.py:243: UserWarning: The `size` parameter has been renamed to `height`; please update your code.\n",
      "  warnings.warn(msg, UserWarning)\n",
      "C:\\Users\\Syslan\\anaconda3\\lib\\site-packages\\seaborn\\axisgrid.py:728: UserWarning: Using the pointplot function without specifying `order` is likely to produce an incorrect plot.\n",
      "  warnings.warn(warning)\n",
      "C:\\Users\\Syslan\\anaconda3\\lib\\site-packages\\seaborn\\axisgrid.py:733: UserWarning: Using the pointplot function without specifying `hue_order` is likely to produce an incorrect plot.\n",
      "  warnings.warn(warning)\n"
     ]
    },
    {
     "data": {
      "text/plain": [
       "<seaborn.axisgrid.FacetGrid at 0x18129fe19c8>"
      ]
     },
     "execution_count": 251,
     "metadata": {},
     "output_type": "execute_result"
    },
    {
     "data": {
      "image/png": "[encoded data removed]",
      "text/plain": [
       "<Figure size 295.815x792 with 5 Axes>"
      ]
     },
     "metadata": {
      "needs_background": "light"
     },
     "output_type": "display_data"
    }
   ],
   "source": [
    "grid = sns.FacetGrid(datoscsv, row='IDTIPOCUERPO', size=2.2, aspect=1.6)\n",
    "grid.map(sns.pointplot, 'FORMA', 'PRENDAAPTA', 'IDTIPO', palette='deep')\n",
    "grid.add_legend()"
   ]
  },
  {
   "cell_type": "markdown",
   "metadata": {},
   "source": [
    "**Nota:** El tipo de cuerpo si tiene relación con la forma de la prenda y el campo prendaapta."
   ]
  },
  {
   "cell_type": "markdown",
   "metadata": {},
   "source": [
    "9. Análisis de pliegues vs prendaapta. El campo pliegues posee valores tipo string, por lo que deben transformarse en campo entero."
   ]
  },
  {
   "cell_type": "code",
   "execution_count": 252,
   "metadata": {},
   "outputs": [],
   "source": [
    "#cambio valores string por numéricos\n",
    "for dataset in FullDataSet:\n",
    "    dataset.loc[ dataset['PLIEGUES'] == 'SI', 'PLIEGUES'] = 1\n",
    "    dataset.loc[ dataset['PLIEGUES'] == \"NO\", 'PLIEGUES'] = 0"
   ]
  },
  {
   "cell_type": "code",
   "execution_count": 253,
   "metadata": {},
   "outputs": [
    {
     "data": {
      "text/html": [
       "<div>\n",
       "<style scoped>\n",
       "    .dataframe tbody tr th:only-of-type {\n",
       "        vertical-align: middle;\n",
       "    }\n",
       "\n",
       "    .dataframe tbody tr th {\n",
       "        vertical-align: top;\n",
       "    }\n",
       "\n",
       "    .dataframe thead th {\n",
       "        text-align: right;\n",
       "    }\n",
       "</style>\n",
       "<table border=\"1\" class=\"dataframe\">\n",
       "  <thead>\n",
       "    <tr style=\"text-align: right;\">\n",
       "      <th></th>\n",
       "      <th>SEXO</th>\n",
       "      <th>IDSEXO</th>\n",
       "      <th>TIPOCUERPO</th>\n",
       "      <th>IDTIPOCUERPO</th>\n",
       "      <th>TIPO</th>\n",
       "      <th>IDTIPO</th>\n",
       "      <th>MODELO</th>\n",
       "      <th>IDMODELO</th>\n",
       "      <th>ALTURA</th>\n",
       "      <th>FORMA</th>\n",
       "      <th>PLIEGUES</th>\n",
       "      <th>VUELOS</th>\n",
       "      <th>CAPAS</th>\n",
       "      <th>PRENDAAPTA</th>\n",
       "    </tr>\n",
       "  </thead>\n",
       "  <tbody>\n",
       "    <tr>\n",
       "      <th>0</th>\n",
       "      <td>MUJER</td>\n",
       "      <td>1</td>\n",
       "      <td>TRIANGULO INVERTIDO</td>\n",
       "      <td>1</td>\n",
       "      <td>FALDA</td>\n",
       "      <td>1</td>\n",
       "      <td>TABLEADA</td>\n",
       "      <td>1</td>\n",
       "      <td>3</td>\n",
       "      <td>1</td>\n",
       "      <td>1</td>\n",
       "      <td>NO</td>\n",
       "      <td>NO</td>\n",
       "      <td>0</td>\n",
       "    </tr>\n",
       "    <tr>\n",
       "      <th>1</th>\n",
       "      <td>MUJER</td>\n",
       "      <td>1</td>\n",
       "      <td>TRIANGULO INVERTIDO</td>\n",
       "      <td>1</td>\n",
       "      <td>FALDA</td>\n",
       "      <td>1</td>\n",
       "      <td>LAPIZ</td>\n",
       "      <td>2</td>\n",
       "      <td>3</td>\n",
       "      <td>3</td>\n",
       "      <td>0</td>\n",
       "      <td>NO</td>\n",
       "      <td>NO</td>\n",
       "      <td>0</td>\n",
       "    </tr>\n",
       "    <tr>\n",
       "      <th>2</th>\n",
       "      <td>MUJER</td>\n",
       "      <td>1</td>\n",
       "      <td>TRIANGULO INVERTIDO</td>\n",
       "      <td>1</td>\n",
       "      <td>FALDA</td>\n",
       "      <td>1</td>\n",
       "      <td>ASIMÉTRICA</td>\n",
       "      <td>3</td>\n",
       "      <td>3</td>\n",
       "      <td>1</td>\n",
       "      <td>0</td>\n",
       "      <td>SI</td>\n",
       "      <td>NO</td>\n",
       "      <td>0</td>\n",
       "    </tr>\n",
       "    <tr>\n",
       "      <th>3</th>\n",
       "      <td>MUJER</td>\n",
       "      <td>1</td>\n",
       "      <td>TRIANGULO INVERTIDO</td>\n",
       "      <td>1</td>\n",
       "      <td>FALDA</td>\n",
       "      <td>1</td>\n",
       "      <td>GODETS</td>\n",
       "      <td>4</td>\n",
       "      <td>2</td>\n",
       "      <td>3</td>\n",
       "      <td>1</td>\n",
       "      <td>NO</td>\n",
       "      <td>NO</td>\n",
       "      <td>0</td>\n",
       "    </tr>\n",
       "    <tr>\n",
       "      <th>4</th>\n",
       "      <td>MUJER</td>\n",
       "      <td>1</td>\n",
       "      <td>TRIANGULO INVERTIDO</td>\n",
       "      <td>1</td>\n",
       "      <td>FALDA</td>\n",
       "      <td>1</td>\n",
       "      <td>SIRENA</td>\n",
       "      <td>5</td>\n",
       "      <td>3</td>\n",
       "      <td>3</td>\n",
       "      <td>0</td>\n",
       "      <td>SI</td>\n",
       "      <td>NO</td>\n",
       "      <td>0</td>\n",
       "    </tr>\n",
       "  </tbody>\n",
       "</table>\n",
       "</div>"
      ],
      "text/plain": [
       "    SEXO  IDSEXO           TIPOCUERPO  IDTIPOCUERPO   TIPO  IDTIPO  \\\n",
       "0  MUJER       1  TRIANGULO INVERTIDO             1  FALDA       1   \n",
       "1  MUJER       1  TRIANGULO INVERTIDO             1  FALDA       1   \n",
       "2  MUJER       1  TRIANGULO INVERTIDO             1  FALDA       1   \n",
       "3  MUJER       1  TRIANGULO INVERTIDO             1  FALDA       1   \n",
       "4  MUJER       1  TRIANGULO INVERTIDO             1  FALDA       1   \n",
       "\n",
       "       MODELO  IDMODELO ALTURA FORMA PLIEGUES VUELOS CAPAS  PRENDAAPTA  \n",
       "0    TABLEADA         1      3     1        1     NO    NO           0  \n",
       "1       LAPIZ         2      3     3        0     NO    NO           0  \n",
       "2  ASIMÉTRICA         3      3     1        0     SI    NO           0  \n",
       "3      GODETS         4      2     3        1     NO    NO           0  \n",
       "4      SIRENA         5      3     3        0     SI    NO           0  "
      ]
     },
     "execution_count": 253,
     "metadata": {},
     "output_type": "execute_result"
    }
   ],
   "source": [
    "#reviso que dataset tenga nuevos valores\n",
    "datoscsv.head()"
   ]
  },
  {
   "cell_type": "code",
   "execution_count": 254,
   "metadata": {},
   "outputs": [
    {
     "data": {
      "text/html": [
       "<div>\n",
       "<style scoped>\n",
       "    .dataframe tbody tr th:only-of-type {\n",
       "        vertical-align: middle;\n",
       "    }\n",
       "\n",
       "    .dataframe tbody tr th {\n",
       "        vertical-align: top;\n",
       "    }\n",
       "\n",
       "    .dataframe thead th {\n",
       "        text-align: right;\n",
       "    }\n",
       "</style>\n",
       "<table border=\"1\" class=\"dataframe\">\n",
       "  <thead>\n",
       "    <tr style=\"text-align: right;\">\n",
       "      <th></th>\n",
       "      <th>PLIEGUES</th>\n",
       "      <th>PRENDAAPTA</th>\n",
       "    </tr>\n",
       "  </thead>\n",
       "  <tbody>\n",
       "    <tr>\n",
       "      <th>0</th>\n",
       "      <td>0</td>\n",
       "      <td>0.420000</td>\n",
       "    </tr>\n",
       "    <tr>\n",
       "      <th>1</th>\n",
       "      <td>1</td>\n",
       "      <td>0.257143</td>\n",
       "    </tr>\n",
       "  </tbody>\n",
       "</table>\n",
       "</div>"
      ],
      "text/plain": [
       "   PLIEGUES  PRENDAAPTA\n",
       "0         0    0.420000\n",
       "1         1    0.257143"
      ]
     },
     "execution_count": 254,
     "metadata": {},
     "output_type": "execute_result"
    }
   ],
   "source": [
    "#analiza pliegues vs prendaapta\n",
    "datoscsv[['PLIEGUES','PRENDAAPTA']].groupby(['PLIEGUES'], as_index=False).mean().sort_values(by='PRENDAAPTA', ascending=False)"
   ]
  },
  {
   "cell_type": "markdown",
   "metadata": {},
   "source": [
    "**Nota:** Los pliegues de la prenda no tienen mayor peso relacionado directamente con el campo prendaapta"
   ]
  },
  {
   "cell_type": "code",
   "execution_count": 255,
   "metadata": {},
   "outputs": [
    {
     "data": {
      "text/html": [
       "<div>\n",
       "<style scoped>\n",
       "    .dataframe tbody tr th:only-of-type {\n",
       "        vertical-align: middle;\n",
       "    }\n",
       "\n",
       "    .dataframe tbody tr th {\n",
       "        vertical-align: top;\n",
       "    }\n",
       "\n",
       "    .dataframe thead th {\n",
       "        text-align: right;\n",
       "    }\n",
       "</style>\n",
       "<table border=\"1\" class=\"dataframe\">\n",
       "  <thead>\n",
       "    <tr style=\"text-align: right;\">\n",
       "      <th></th>\n",
       "      <th>IDTIPOCUERPO</th>\n",
       "      <th>PLIEGUES</th>\n",
       "      <th>PRENDAAPTA</th>\n",
       "    </tr>\n",
       "  </thead>\n",
       "  <tbody>\n",
       "    <tr>\n",
       "      <th>8</th>\n",
       "      <td>5</td>\n",
       "      <td>0</td>\n",
       "      <td>0.400000</td>\n",
       "    </tr>\n",
       "    <tr>\n",
       "      <th>9</th>\n",
       "      <td>5</td>\n",
       "      <td>1</td>\n",
       "      <td>0.285714</td>\n",
       "    </tr>\n",
       "    <tr>\n",
       "      <th>6</th>\n",
       "      <td>4</td>\n",
       "      <td>0</td>\n",
       "      <td>0.500000</td>\n",
       "    </tr>\n",
       "    <tr>\n",
       "      <th>7</th>\n",
       "      <td>4</td>\n",
       "      <td>1</td>\n",
       "      <td>0.142857</td>\n",
       "    </tr>\n",
       "    <tr>\n",
       "      <th>4</th>\n",
       "      <td>3</td>\n",
       "      <td>0</td>\n",
       "      <td>0.500000</td>\n",
       "    </tr>\n",
       "    <tr>\n",
       "      <th>5</th>\n",
       "      <td>3</td>\n",
       "      <td>1</td>\n",
       "      <td>0.142857</td>\n",
       "    </tr>\n",
       "    <tr>\n",
       "      <th>2</th>\n",
       "      <td>2</td>\n",
       "      <td>0</td>\n",
       "      <td>0.300000</td>\n",
       "    </tr>\n",
       "    <tr>\n",
       "      <th>3</th>\n",
       "      <td>2</td>\n",
       "      <td>1</td>\n",
       "      <td>0.285714</td>\n",
       "    </tr>\n",
       "    <tr>\n",
       "      <th>0</th>\n",
       "      <td>1</td>\n",
       "      <td>0</td>\n",
       "      <td>0.400000</td>\n",
       "    </tr>\n",
       "    <tr>\n",
       "      <th>1</th>\n",
       "      <td>1</td>\n",
       "      <td>1</td>\n",
       "      <td>0.428571</td>\n",
       "    </tr>\n",
       "  </tbody>\n",
       "</table>\n",
       "</div>"
      ],
      "text/plain": [
       "   IDTIPOCUERPO  PLIEGUES  PRENDAAPTA\n",
       "8             5         0    0.400000\n",
       "9             5         1    0.285714\n",
       "6             4         0    0.500000\n",
       "7             4         1    0.142857\n",
       "4             3         0    0.500000\n",
       "5             3         1    0.142857\n",
       "2             2         0    0.300000\n",
       "3             2         1    0.285714\n",
       "0             1         0    0.400000\n",
       "1             1         1    0.428571"
      ]
     },
     "execution_count": 255,
     "metadata": {},
     "output_type": "execute_result"
    }
   ],
   "source": [
    "#analiza tipo de cuerpo,pliegues,prendaapta\n",
    "datoscsv[['IDTIPOCUERPO','PLIEGUES','PRENDAAPTA']].groupby(['IDTIPOCUERPO','PLIEGUES'], as_index=False).mean().sort_values(by='IDTIPOCUERPO', ascending=False)"
   ]
  },
  {
   "cell_type": "code",
   "execution_count": 256,
   "metadata": {},
   "outputs": [
    {
     "name": "stderr",
     "output_type": "stream",
     "text": [
      "C:\\Users\\Syslan\\anaconda3\\lib\\site-packages\\seaborn\\axisgrid.py:243: UserWarning: The `size` parameter has been renamed to `height`; please update your code.\n",
      "  warnings.warn(msg, UserWarning)\n",
      "C:\\Users\\Syslan\\anaconda3\\lib\\site-packages\\seaborn\\axisgrid.py:728: UserWarning: Using the pointplot function without specifying `order` is likely to produce an incorrect plot.\n",
      "  warnings.warn(warning)\n",
      "C:\\Users\\Syslan\\anaconda3\\lib\\site-packages\\seaborn\\axisgrid.py:733: UserWarning: Using the pointplot function without specifying `hue_order` is likely to produce an incorrect plot.\n",
      "  warnings.warn(warning)\n"
     ]
    },
    {
     "data": {
      "text/plain": [
       "<seaborn.axisgrid.FacetGrid at 0x1812a1cfe88>"
      ]
     },
     "execution_count": 256,
     "metadata": {},
     "output_type": "execute_result"
    },
    {
     "data": {
      "image/png": "[encoded data removed]",
      "text/plain": [
       "<Figure size 295.815x792 with 5 Axes>"
      ]
     },
     "metadata": {
      "needs_background": "light"
     },
     "output_type": "display_data"
    }
   ],
   "source": [
    "grid = sns.FacetGrid(datoscsv, row='IDTIPOCUERPO', size=2.2, aspect=1.6)\n",
    "grid.map(sns.pointplot, 'PLIEGUES', 'PRENDAAPTA', 'IDTIPO', palette='deep')\n",
    "grid.add_legend()"
   ]
  },
  {
   "cell_type": "markdown",
   "metadata": {},
   "source": [
    "**Nota:** El tipo de cuerpo si tiene relación con los pliegues de la prenda y el campo prendaapta."
   ]
  },
  {
   "cell_type": "markdown",
   "metadata": {},
   "source": [
    "10. Análisis de vuelos vs prendaapta. El campo vuelos posee valores tipo string, por lo que deben transformarse en campo entero."
   ]
  },
  {
   "cell_type": "code",
   "execution_count": 257,
   "metadata": {},
   "outputs": [],
   "source": [
    "#cambio valores string por numéricos\n",
    "for dataset in FullDataSet:\n",
    "    dataset.loc[ dataset['VUELOS'] == 'SI', 'VUELOS'] = 1\n",
    "    dataset.loc[ dataset['VUELOS'] == \"NO\", 'VUELOS'] = 0"
   ]
  },
  {
   "cell_type": "code",
   "execution_count": 258,
   "metadata": {},
   "outputs": [
    {
     "data": {
      "text/html": [
       "<div>\n",
       "<style scoped>\n",
       "    .dataframe tbody tr th:only-of-type {\n",
       "        vertical-align: middle;\n",
       "    }\n",
       "\n",
       "    .dataframe tbody tr th {\n",
       "        vertical-align: top;\n",
       "    }\n",
       "\n",
       "    .dataframe thead th {\n",
       "        text-align: right;\n",
       "    }\n",
       "</style>\n",
       "<table border=\"1\" class=\"dataframe\">\n",
       "  <thead>\n",
       "    <tr style=\"text-align: right;\">\n",
       "      <th></th>\n",
       "      <th>SEXO</th>\n",
       "      <th>IDSEXO</th>\n",
       "      <th>TIPOCUERPO</th>\n",
       "      <th>IDTIPOCUERPO</th>\n",
       "      <th>TIPO</th>\n",
       "      <th>IDTIPO</th>\n",
       "      <th>MODELO</th>\n",
       "      <th>IDMODELO</th>\n",
       "      <th>ALTURA</th>\n",
       "      <th>FORMA</th>\n",
       "      <th>PLIEGUES</th>\n",
       "      <th>VUELOS</th>\n",
       "      <th>CAPAS</th>\n",
       "      <th>PRENDAAPTA</th>\n",
       "    </tr>\n",
       "  </thead>\n",
       "  <tbody>\n",
       "    <tr>\n",
       "      <th>0</th>\n",
       "      <td>MUJER</td>\n",
       "      <td>1</td>\n",
       "      <td>TRIANGULO INVERTIDO</td>\n",
       "      <td>1</td>\n",
       "      <td>FALDA</td>\n",
       "      <td>1</td>\n",
       "      <td>TABLEADA</td>\n",
       "      <td>1</td>\n",
       "      <td>3</td>\n",
       "      <td>1</td>\n",
       "      <td>1</td>\n",
       "      <td>0</td>\n",
       "      <td>NO</td>\n",
       "      <td>0</td>\n",
       "    </tr>\n",
       "    <tr>\n",
       "      <th>1</th>\n",
       "      <td>MUJER</td>\n",
       "      <td>1</td>\n",
       "      <td>TRIANGULO INVERTIDO</td>\n",
       "      <td>1</td>\n",
       "      <td>FALDA</td>\n",
       "      <td>1</td>\n",
       "      <td>LAPIZ</td>\n",
       "      <td>2</td>\n",
       "      <td>3</td>\n",
       "      <td>3</td>\n",
       "      <td>0</td>\n",
       "      <td>0</td>\n",
       "      <td>NO</td>\n",
       "      <td>0</td>\n",
       "    </tr>\n",
       "    <tr>\n",
       "      <th>2</th>\n",
       "      <td>MUJER</td>\n",
       "      <td>1</td>\n",
       "      <td>TRIANGULO INVERTIDO</td>\n",
       "      <td>1</td>\n",
       "      <td>FALDA</td>\n",
       "      <td>1</td>\n",
       "      <td>ASIMÉTRICA</td>\n",
       "      <td>3</td>\n",
       "      <td>3</td>\n",
       "      <td>1</td>\n",
       "      <td>0</td>\n",
       "      <td>1</td>\n",
       "      <td>NO</td>\n",
       "      <td>0</td>\n",
       "    </tr>\n",
       "    <tr>\n",
       "      <th>3</th>\n",
       "      <td>MUJER</td>\n",
       "      <td>1</td>\n",
       "      <td>TRIANGULO INVERTIDO</td>\n",
       "      <td>1</td>\n",
       "      <td>FALDA</td>\n",
       "      <td>1</td>\n",
       "      <td>GODETS</td>\n",
       "      <td>4</td>\n",
       "      <td>2</td>\n",
       "      <td>3</td>\n",
       "      <td>1</td>\n",
       "      <td>0</td>\n",
       "      <td>NO</td>\n",
       "      <td>0</td>\n",
       "    </tr>\n",
       "    <tr>\n",
       "      <th>4</th>\n",
       "      <td>MUJER</td>\n",
       "      <td>1</td>\n",
       "      <td>TRIANGULO INVERTIDO</td>\n",
       "      <td>1</td>\n",
       "      <td>FALDA</td>\n",
       "      <td>1</td>\n",
       "      <td>SIRENA</td>\n",
       "      <td>5</td>\n",
       "      <td>3</td>\n",
       "      <td>3</td>\n",
       "      <td>0</td>\n",
       "      <td>1</td>\n",
       "      <td>NO</td>\n",
       "      <td>0</td>\n",
       "    </tr>\n",
       "  </tbody>\n",
       "</table>\n",
       "</div>"
      ],
      "text/plain": [
       "    SEXO  IDSEXO           TIPOCUERPO  IDTIPOCUERPO   TIPO  IDTIPO  \\\n",
       "0  MUJER       1  TRIANGULO INVERTIDO             1  FALDA       1   \n",
       "1  MUJER       1  TRIANGULO INVERTIDO             1  FALDA       1   \n",
       "2  MUJER       1  TRIANGULO INVERTIDO             1  FALDA       1   \n",
       "3  MUJER       1  TRIANGULO INVERTIDO             1  FALDA       1   \n",
       "4  MUJER       1  TRIANGULO INVERTIDO             1  FALDA       1   \n",
       "\n",
       "       MODELO  IDMODELO ALTURA FORMA PLIEGUES VUELOS CAPAS  PRENDAAPTA  \n",
       "0    TABLEADA         1      3     1        1      0    NO           0  \n",
       "1       LAPIZ         2      3     3        0      0    NO           0  \n",
       "2  ASIMÉTRICA         3      3     1        0      1    NO           0  \n",
       "3      GODETS         4      2     3        1      0    NO           0  \n",
       "4      SIRENA         5      3     3        0      1    NO           0  "
      ]
     },
     "execution_count": 258,
     "metadata": {},
     "output_type": "execute_result"
    }
   ],
   "source": [
    "#reviso que dataset tenga nuevos valores\n",
    "datoscsv.head()"
   ]
  },
  {
   "cell_type": "code",
   "execution_count": 259,
   "metadata": {},
   "outputs": [
    {
     "data": {
      "text/html": [
       "<div>\n",
       "<style scoped>\n",
       "    .dataframe tbody tr th:only-of-type {\n",
       "        vertical-align: middle;\n",
       "    }\n",
       "\n",
       "    .dataframe tbody tr th {\n",
       "        vertical-align: top;\n",
       "    }\n",
       "\n",
       "    .dataframe thead th {\n",
       "        text-align: right;\n",
       "    }\n",
       "</style>\n",
       "<table border=\"1\" class=\"dataframe\">\n",
       "  <thead>\n",
       "    <tr style=\"text-align: right;\">\n",
       "      <th></th>\n",
       "      <th>VUELOS</th>\n",
       "      <th>PRENDAAPTA</th>\n",
       "    </tr>\n",
       "  </thead>\n",
       "  <tbody>\n",
       "    <tr>\n",
       "      <th>1</th>\n",
       "      <td>1</td>\n",
       "      <td>0.440000</td>\n",
       "    </tr>\n",
       "    <tr>\n",
       "      <th>0</th>\n",
       "      <td>0</td>\n",
       "      <td>0.316667</td>\n",
       "    </tr>\n",
       "  </tbody>\n",
       "</table>\n",
       "</div>"
      ],
      "text/plain": [
       "   VUELOS  PRENDAAPTA\n",
       "1       1    0.440000\n",
       "0       0    0.316667"
      ]
     },
     "execution_count": 259,
     "metadata": {},
     "output_type": "execute_result"
    }
   ],
   "source": [
    "#analiza vuelos vs prendaapta\n",
    "datoscsv[['VUELOS','PRENDAAPTA']].groupby(['VUELOS'], as_index=False).mean().sort_values(by='PRENDAAPTA', ascending=False)"
   ]
  },
  {
   "cell_type": "markdown",
   "metadata": {},
   "source": [
    "**Nota:** Los vuelos de la prenda no tienen mayor peso relacionado directamente con el campo prendaapta"
   ]
  },
  {
   "cell_type": "code",
   "execution_count": 260,
   "metadata": {},
   "outputs": [
    {
     "data": {
      "text/html": [
       "<div>\n",
       "<style scoped>\n",
       "    .dataframe tbody tr th:only-of-type {\n",
       "        vertical-align: middle;\n",
       "    }\n",
       "\n",
       "    .dataframe tbody tr th {\n",
       "        vertical-align: top;\n",
       "    }\n",
       "\n",
       "    .dataframe thead th {\n",
       "        text-align: right;\n",
       "    }\n",
       "</style>\n",
       "<table border=\"1\" class=\"dataframe\">\n",
       "  <thead>\n",
       "    <tr style=\"text-align: right;\">\n",
       "      <th></th>\n",
       "      <th>IDTIPOCUERPO</th>\n",
       "      <th>VUELOS</th>\n",
       "      <th>PRENDAAPTA</th>\n",
       "    </tr>\n",
       "  </thead>\n",
       "  <tbody>\n",
       "    <tr>\n",
       "      <th>8</th>\n",
       "      <td>5</td>\n",
       "      <td>0</td>\n",
       "      <td>0.250000</td>\n",
       "    </tr>\n",
       "    <tr>\n",
       "      <th>9</th>\n",
       "      <td>5</td>\n",
       "      <td>1</td>\n",
       "      <td>0.600000</td>\n",
       "    </tr>\n",
       "    <tr>\n",
       "      <th>6</th>\n",
       "      <td>4</td>\n",
       "      <td>0</td>\n",
       "      <td>0.250000</td>\n",
       "    </tr>\n",
       "    <tr>\n",
       "      <th>7</th>\n",
       "      <td>4</td>\n",
       "      <td>1</td>\n",
       "      <td>0.600000</td>\n",
       "    </tr>\n",
       "    <tr>\n",
       "      <th>4</th>\n",
       "      <td>3</td>\n",
       "      <td>0</td>\n",
       "      <td>0.250000</td>\n",
       "    </tr>\n",
       "    <tr>\n",
       "      <th>5</th>\n",
       "      <td>3</td>\n",
       "      <td>1</td>\n",
       "      <td>0.600000</td>\n",
       "    </tr>\n",
       "    <tr>\n",
       "      <th>2</th>\n",
       "      <td>2</td>\n",
       "      <td>0</td>\n",
       "      <td>0.416667</td>\n",
       "    </tr>\n",
       "    <tr>\n",
       "      <th>3</th>\n",
       "      <td>2</td>\n",
       "      <td>1</td>\n",
       "      <td>0.000000</td>\n",
       "    </tr>\n",
       "    <tr>\n",
       "      <th>0</th>\n",
       "      <td>1</td>\n",
       "      <td>0</td>\n",
       "      <td>0.416667</td>\n",
       "    </tr>\n",
       "    <tr>\n",
       "      <th>1</th>\n",
       "      <td>1</td>\n",
       "      <td>1</td>\n",
       "      <td>0.400000</td>\n",
       "    </tr>\n",
       "  </tbody>\n",
       "</table>\n",
       "</div>"
      ],
      "text/plain": [
       "   IDTIPOCUERPO  VUELOS  PRENDAAPTA\n",
       "8             5       0    0.250000\n",
       "9             5       1    0.600000\n",
       "6             4       0    0.250000\n",
       "7             4       1    0.600000\n",
       "4             3       0    0.250000\n",
       "5             3       1    0.600000\n",
       "2             2       0    0.416667\n",
       "3             2       1    0.000000\n",
       "0             1       0    0.416667\n",
       "1             1       1    0.400000"
      ]
     },
     "execution_count": 260,
     "metadata": {},
     "output_type": "execute_result"
    }
   ],
   "source": [
    "#tipo de cuerpo,vuelos,prendaapta\n",
    "datoscsv[['IDTIPOCUERPO','VUELOS','PRENDAAPTA']].groupby(['IDTIPOCUERPO','VUELOS'], as_index=False).mean().sort_values(by='IDTIPOCUERPO', ascending=False)"
   ]
  },
  {
   "cell_type": "code",
   "execution_count": 261,
   "metadata": {},
   "outputs": [
    {
     "name": "stderr",
     "output_type": "stream",
     "text": [
      "C:\\Users\\Syslan\\anaconda3\\lib\\site-packages\\seaborn\\axisgrid.py:243: UserWarning: The `size` parameter has been renamed to `height`; please update your code.\n",
      "  warnings.warn(msg, UserWarning)\n",
      "C:\\Users\\Syslan\\anaconda3\\lib\\site-packages\\seaborn\\axisgrid.py:728: UserWarning: Using the pointplot function without specifying `order` is likely to produce an incorrect plot.\n",
      "  warnings.warn(warning)\n",
      "C:\\Users\\Syslan\\anaconda3\\lib\\site-packages\\seaborn\\axisgrid.py:733: UserWarning: Using the pointplot function without specifying `hue_order` is likely to produce an incorrect plot.\n",
      "  warnings.warn(warning)\n"
     ]
    },
    {
     "data": {
      "text/plain": [
       "<seaborn.axisgrid.FacetGrid at 0x1812a3ab108>"
      ]
     },
     "execution_count": 261,
     "metadata": {},
     "output_type": "execute_result"
    },
    {
     "data": {
      "image/png": "[encoded data removed]",
      "text/plain": [
       "<Figure size 295.815x792 with 5 Axes>"
      ]
     },
     "metadata": {
      "needs_background": "light"
     },
     "output_type": "display_data"
    }
   ],
   "source": [
    "grid = sns.FacetGrid(datoscsv, row='IDTIPOCUERPO', size=2.2, aspect=1.6)\n",
    "grid.map(sns.pointplot, 'VUELOS', 'PRENDAAPTA', 'IDTIPO', palette='deep')\n",
    "grid.add_legend()"
   ]
  },
  {
   "cell_type": "markdown",
   "metadata": {},
   "source": [
    "**Nota:** El tipo de cuerpo si tiene relación con los vuelos de la prenda y el campo prendaapta."
   ]
  },
  {
   "cell_type": "markdown",
   "metadata": {},
   "source": [
    "11. Análisis de capas vs prendaapta. El campo capas posee valores tipo string, por lo que deben transformarse en campo entero."
   ]
  },
  {
   "cell_type": "code",
   "execution_count": 262,
   "metadata": {},
   "outputs": [],
   "source": [
    "#cambio valores string por numéricos\n",
    "for dataset in FullDataSet:\n",
    "    dataset.loc[ dataset['CAPAS'] == 'SI', 'CAPAS'] = 1\n",
    "    dataset.loc[ dataset['CAPAS'] == \"NO\", 'CAPAS'] = 0"
   ]
  },
  {
   "cell_type": "code",
   "execution_count": 263,
   "metadata": {},
   "outputs": [
    {
     "data": {
      "text/html": [
       "<div>\n",
       "<style scoped>\n",
       "    .dataframe tbody tr th:only-of-type {\n",
       "        vertical-align: middle;\n",
       "    }\n",
       "\n",
       "    .dataframe tbody tr th {\n",
       "        vertical-align: top;\n",
       "    }\n",
       "\n",
       "    .dataframe thead th {\n",
       "        text-align: right;\n",
       "    }\n",
       "</style>\n",
       "<table border=\"1\" class=\"dataframe\">\n",
       "  <thead>\n",
       "    <tr style=\"text-align: right;\">\n",
       "      <th></th>\n",
       "      <th>SEXO</th>\n",
       "      <th>IDSEXO</th>\n",
       "      <th>TIPOCUERPO</th>\n",
       "      <th>IDTIPOCUERPO</th>\n",
       "      <th>TIPO</th>\n",
       "      <th>IDTIPO</th>\n",
       "      <th>MODELO</th>\n",
       "      <th>IDMODELO</th>\n",
       "      <th>ALTURA</th>\n",
       "      <th>FORMA</th>\n",
       "      <th>PLIEGUES</th>\n",
       "      <th>VUELOS</th>\n",
       "      <th>CAPAS</th>\n",
       "      <th>PRENDAAPTA</th>\n",
       "    </tr>\n",
       "  </thead>\n",
       "  <tbody>\n",
       "    <tr>\n",
       "      <th>0</th>\n",
       "      <td>MUJER</td>\n",
       "      <td>1</td>\n",
       "      <td>TRIANGULO INVERTIDO</td>\n",
       "      <td>1</td>\n",
       "      <td>FALDA</td>\n",
       "      <td>1</td>\n",
       "      <td>TABLEADA</td>\n",
       "      <td>1</td>\n",
       "      <td>3</td>\n",
       "      <td>1</td>\n",
       "      <td>1</td>\n",
       "      <td>0</td>\n",
       "      <td>0</td>\n",
       "      <td>0</td>\n",
       "    </tr>\n",
       "    <tr>\n",
       "      <th>1</th>\n",
       "      <td>MUJER</td>\n",
       "      <td>1</td>\n",
       "      <td>TRIANGULO INVERTIDO</td>\n",
       "      <td>1</td>\n",
       "      <td>FALDA</td>\n",
       "      <td>1</td>\n",
       "      <td>LAPIZ</td>\n",
       "      <td>2</td>\n",
       "      <td>3</td>\n",
       "      <td>3</td>\n",
       "      <td>0</td>\n",
       "      <td>0</td>\n",
       "      <td>0</td>\n",
       "      <td>0</td>\n",
       "    </tr>\n",
       "    <tr>\n",
       "      <th>2</th>\n",
       "      <td>MUJER</td>\n",
       "      <td>1</td>\n",
       "      <td>TRIANGULO INVERTIDO</td>\n",
       "      <td>1</td>\n",
       "      <td>FALDA</td>\n",
       "      <td>1</td>\n",
       "      <td>ASIMÉTRICA</td>\n",
       "      <td>3</td>\n",
       "      <td>3</td>\n",
       "      <td>1</td>\n",
       "      <td>0</td>\n",
       "      <td>1</td>\n",
       "      <td>0</td>\n",
       "      <td>0</td>\n",
       "    </tr>\n",
       "    <tr>\n",
       "      <th>3</th>\n",
       "      <td>MUJER</td>\n",
       "      <td>1</td>\n",
       "      <td>TRIANGULO INVERTIDO</td>\n",
       "      <td>1</td>\n",
       "      <td>FALDA</td>\n",
       "      <td>1</td>\n",
       "      <td>GODETS</td>\n",
       "      <td>4</td>\n",
       "      <td>2</td>\n",
       "      <td>3</td>\n",
       "      <td>1</td>\n",
       "      <td>0</td>\n",
       "      <td>0</td>\n",
       "      <td>0</td>\n",
       "    </tr>\n",
       "    <tr>\n",
       "      <th>4</th>\n",
       "      <td>MUJER</td>\n",
       "      <td>1</td>\n",
       "      <td>TRIANGULO INVERTIDO</td>\n",
       "      <td>1</td>\n",
       "      <td>FALDA</td>\n",
       "      <td>1</td>\n",
       "      <td>SIRENA</td>\n",
       "      <td>5</td>\n",
       "      <td>3</td>\n",
       "      <td>3</td>\n",
       "      <td>0</td>\n",
       "      <td>1</td>\n",
       "      <td>0</td>\n",
       "      <td>0</td>\n",
       "    </tr>\n",
       "  </tbody>\n",
       "</table>\n",
       "</div>"
      ],
      "text/plain": [
       "    SEXO  IDSEXO           TIPOCUERPO  IDTIPOCUERPO   TIPO  IDTIPO  \\\n",
       "0  MUJER       1  TRIANGULO INVERTIDO             1  FALDA       1   \n",
       "1  MUJER       1  TRIANGULO INVERTIDO             1  FALDA       1   \n",
       "2  MUJER       1  TRIANGULO INVERTIDO             1  FALDA       1   \n",
       "3  MUJER       1  TRIANGULO INVERTIDO             1  FALDA       1   \n",
       "4  MUJER       1  TRIANGULO INVERTIDO             1  FALDA       1   \n",
       "\n",
       "       MODELO  IDMODELO ALTURA FORMA PLIEGUES VUELOS CAPAS  PRENDAAPTA  \n",
       "0    TABLEADA         1      3     1        1      0     0           0  \n",
       "1       LAPIZ         2      3     3        0      0     0           0  \n",
       "2  ASIMÉTRICA         3      3     1        0      1     0           0  \n",
       "3      GODETS         4      2     3        1      0     0           0  \n",
       "4      SIRENA         5      3     3        0      1     0           0  "
      ]
     },
     "execution_count": 263,
     "metadata": {},
     "output_type": "execute_result"
    }
   ],
   "source": [
    "#reviso que dataset tenga nuevos valores\n",
    "datoscsv.head()"
   ]
  },
  {
   "cell_type": "code",
   "execution_count": 264,
   "metadata": {},
   "outputs": [
    {
     "data": {
      "text/html": [
       "<div>\n",
       "<style scoped>\n",
       "    .dataframe tbody tr th:only-of-type {\n",
       "        vertical-align: middle;\n",
       "    }\n",
       "\n",
       "    .dataframe tbody tr th {\n",
       "        vertical-align: top;\n",
       "    }\n",
       "\n",
       "    .dataframe thead th {\n",
       "        text-align: right;\n",
       "    }\n",
       "</style>\n",
       "<table border=\"1\" class=\"dataframe\">\n",
       "  <thead>\n",
       "    <tr style=\"text-align: right;\">\n",
       "      <th></th>\n",
       "      <th>CAPAS</th>\n",
       "      <th>PRENDAAPTA</th>\n",
       "    </tr>\n",
       "  </thead>\n",
       "  <tbody>\n",
       "    <tr>\n",
       "      <th>1</th>\n",
       "      <td>1</td>\n",
       "      <td>0.60</td>\n",
       "    </tr>\n",
       "    <tr>\n",
       "      <th>0</th>\n",
       "      <td>0</td>\n",
       "      <td>0.32</td>\n",
       "    </tr>\n",
       "  </tbody>\n",
       "</table>\n",
       "</div>"
      ],
      "text/plain": [
       "   CAPAS  PRENDAAPTA\n",
       "1      1        0.60\n",
       "0      0        0.32"
      ]
     },
     "execution_count": 264,
     "metadata": {},
     "output_type": "execute_result"
    }
   ],
   "source": [
    "#analiza capas vs prendaapta\n",
    "datoscsv[['CAPAS','PRENDAAPTA']].groupby(['CAPAS'], as_index=False).mean().sort_values(by='PRENDAAPTA', ascending=False)"
   ]
  },
  {
   "cell_type": "markdown",
   "metadata": {},
   "source": [
    "**Nota:** Las capas de la prenda si tienen relación con el campo prendaapta"
   ]
  },
  {
   "cell_type": "code",
   "execution_count": 265,
   "metadata": {},
   "outputs": [
    {
     "data": {
      "text/html": [
       "<div>\n",
       "<style scoped>\n",
       "    .dataframe tbody tr th:only-of-type {\n",
       "        vertical-align: middle;\n",
       "    }\n",
       "\n",
       "    .dataframe tbody tr th {\n",
       "        vertical-align: top;\n",
       "    }\n",
       "\n",
       "    .dataframe thead th {\n",
       "        text-align: right;\n",
       "    }\n",
       "</style>\n",
       "<table border=\"1\" class=\"dataframe\">\n",
       "  <thead>\n",
       "    <tr style=\"text-align: right;\">\n",
       "      <th></th>\n",
       "      <th>IDTIPOCUERPO</th>\n",
       "      <th>CAPAS</th>\n",
       "      <th>PRENDAAPTA</th>\n",
       "    </tr>\n",
       "  </thead>\n",
       "  <tbody>\n",
       "    <tr>\n",
       "      <th>8</th>\n",
       "      <td>5</td>\n",
       "      <td>0</td>\n",
       "      <td>0.400000</td>\n",
       "    </tr>\n",
       "    <tr>\n",
       "      <th>9</th>\n",
       "      <td>5</td>\n",
       "      <td>1</td>\n",
       "      <td>0.000000</td>\n",
       "    </tr>\n",
       "    <tr>\n",
       "      <th>6</th>\n",
       "      <td>4</td>\n",
       "      <td>0</td>\n",
       "      <td>0.266667</td>\n",
       "    </tr>\n",
       "    <tr>\n",
       "      <th>7</th>\n",
       "      <td>4</td>\n",
       "      <td>1</td>\n",
       "      <td>1.000000</td>\n",
       "    </tr>\n",
       "    <tr>\n",
       "      <th>4</th>\n",
       "      <td>3</td>\n",
       "      <td>0</td>\n",
       "      <td>0.266667</td>\n",
       "    </tr>\n",
       "    <tr>\n",
       "      <th>5</th>\n",
       "      <td>3</td>\n",
       "      <td>1</td>\n",
       "      <td>1.000000</td>\n",
       "    </tr>\n",
       "    <tr>\n",
       "      <th>2</th>\n",
       "      <td>2</td>\n",
       "      <td>0</td>\n",
       "      <td>0.333333</td>\n",
       "    </tr>\n",
       "    <tr>\n",
       "      <th>3</th>\n",
       "      <td>2</td>\n",
       "      <td>1</td>\n",
       "      <td>0.000000</td>\n",
       "    </tr>\n",
       "    <tr>\n",
       "      <th>0</th>\n",
       "      <td>1</td>\n",
       "      <td>0</td>\n",
       "      <td>0.333333</td>\n",
       "    </tr>\n",
       "    <tr>\n",
       "      <th>1</th>\n",
       "      <td>1</td>\n",
       "      <td>1</td>\n",
       "      <td>1.000000</td>\n",
       "    </tr>\n",
       "  </tbody>\n",
       "</table>\n",
       "</div>"
      ],
      "text/plain": [
       "   IDTIPOCUERPO  CAPAS  PRENDAAPTA\n",
       "8             5      0    0.400000\n",
       "9             5      1    0.000000\n",
       "6             4      0    0.266667\n",
       "7             4      1    1.000000\n",
       "4             3      0    0.266667\n",
       "5             3      1    1.000000\n",
       "2             2      0    0.333333\n",
       "3             2      1    0.000000\n",
       "0             1      0    0.333333\n",
       "1             1      1    1.000000"
      ]
     },
     "execution_count": 265,
     "metadata": {},
     "output_type": "execute_result"
    }
   ],
   "source": [
    "#analiza tipos de cuerpo,capas,prendaapta\n",
    "datoscsv[['IDTIPOCUERPO','CAPAS','PRENDAAPTA']].groupby(['IDTIPOCUERPO','CAPAS'], as_index=False).mean().sort_values(by='IDTIPOCUERPO', ascending=False)"
   ]
  },
  {
   "cell_type": "code",
   "execution_count": 266,
   "metadata": {},
   "outputs": [
    {
     "name": "stderr",
     "output_type": "stream",
     "text": [
      "C:\\Users\\Syslan\\anaconda3\\lib\\site-packages\\seaborn\\axisgrid.py:243: UserWarning: The `size` parameter has been renamed to `height`; please update your code.\n",
      "  warnings.warn(msg, UserWarning)\n",
      "C:\\Users\\Syslan\\anaconda3\\lib\\site-packages\\seaborn\\axisgrid.py:728: UserWarning: Using the pointplot function without specifying `order` is likely to produce an incorrect plot.\n",
      "  warnings.warn(warning)\n",
      "C:\\Users\\Syslan\\anaconda3\\lib\\site-packages\\seaborn\\axisgrid.py:733: UserWarning: Using the pointplot function without specifying `hue_order` is likely to produce an incorrect plot.\n",
      "  warnings.warn(warning)\n"
     ]
    },
    {
     "data": {
      "text/plain": [
       "<seaborn.axisgrid.FacetGrid at 0x1812a5a7b88>"
      ]
     },
     "execution_count": 266,
     "metadata": {},
     "output_type": "execute_result"
    },
    {
     "data": {
      "image/png": "[encoded data removed]",
      "text/plain": [
       "<Figure size 295.815x792 with 5 Axes>"
      ]
     },
     "metadata": {
      "needs_background": "light"
     },
     "output_type": "display_data"
    }
   ],
   "source": [
    "grid = sns.FacetGrid(datoscsv, row='IDTIPOCUERPO', size=2.2, aspect=1.6)\n",
    "grid.map(sns.pointplot, 'CAPAS', 'PRENDAAPTA', 'IDTIPO', palette='deep')\n",
    "grid.add_legend()"
   ]
  },
  {
   "cell_type": "markdown",
   "metadata": {},
   "source": [
    "**Nota:** El tipo de cuerpo si tiene relación con las capas de la prenda y el campo prendaapta."
   ]
  },
  {
   "cell_type": "markdown",
   "metadata": {},
   "source": [
    "12. Limpieza de campos tipo string de dataset de análisis final"
   ]
  },
  {
   "cell_type": "code",
   "execution_count": 267,
   "metadata": {},
   "outputs": [],
   "source": [
    "#elimino campos tipo string de dataset\n",
    "datoscsv = datoscsv.drop(['SEXO', 'TIPOCUERPO', 'TIPO', 'MODELO'], axis=1)"
   ]
  },
  {
   "cell_type": "code",
   "execution_count": 268,
   "metadata": {},
   "outputs": [
    {
     "name": "stdout",
     "output_type": "stream",
     "text": [
      "<class 'pandas.core.frame.DataFrame'>\n",
      "RangeIndex: 85 entries, 0 to 84\n",
      "Data columns (total 10 columns):\n",
      " #   Column        Non-Null Count  Dtype \n",
      "---  ------        --------------  ----- \n",
      " 0   IDSEXO        85 non-null     int64 \n",
      " 1   IDTIPOCUERPO  85 non-null     int64 \n",
      " 2   IDTIPO        85 non-null     int64 \n",
      " 3   IDMODELO      85 non-null     int64 \n",
      " 4   ALTURA        85 non-null     object\n",
      " 5   FORMA         85 non-null     object\n",
      " 6   PLIEGUES      85 non-null     object\n",
      " 7   VUELOS        85 non-null     object\n",
      " 8   CAPAS         85 non-null     object\n",
      " 9   PRENDAAPTA    85 non-null     int64 \n",
      "dtypes: int64(5), object(5)\n",
      "memory usage: 6.8+ KB\n"
     ]
    }
   ],
   "source": [
    "#reviso tipo de datos final\n",
    "datoscsv.info()"
   ]
  },
  {
   "cell_type": "markdown",
   "metadata": {},
   "source": [
    "**Definición de Variables**"
   ]
  },
  {
   "cell_type": "code",
   "execution_count": 269,
   "metadata": {},
   "outputs": [
    {
     "name": "stdout",
     "output_type": "stream",
     "text": [
      "['IDSEXO' 'IDTIPOCUERPO' 'IDTIPO' 'IDMODELO' 'ALTURA' 'FORMA' 'PLIEGUES'\n",
      " 'VUELOS' 'CAPAS' 'PRENDAAPTA']\n"
     ]
    }
   ],
   "source": [
    "#revisión de columnas de dataset\n",
    "print(datoscsv.columns.values)"
   ]
  },
  {
   "cell_type": "code",
   "execution_count": 270,
   "metadata": {},
   "outputs": [],
   "source": [
    "#establecer dataset de variables a predecir\n",
    "X_train = datoscsv.drop(\"PRENDAAPTA\", axis=1)\n",
    "Y_train = datoscsv[\"PRENDAAPTA\"]\n",
    "X_test = datoscsv.drop(\"IDTIPOCUERPO\", axis=1).copy()"
   ]
  },
  {
   "cell_type": "code",
   "execution_count": 271,
   "metadata": {},
   "outputs": [
    {
     "data": {
      "text/plain": [
       "((85, 9), (85,), (85, 9))"
      ]
     },
     "execution_count": 271,
     "metadata": {},
     "output_type": "execute_result"
    }
   ],
   "source": [
    "#presento filas y columnas de dataset a predecir\n",
    "X_train.shape, Y_train.shape, X_test.shape"
   ]
  },
  {
   "cell_type": "markdown",
   "metadata": {},
   "source": [
    "**Análisis de Algoritmos**\n",
    "\n",
    "Busco algoritmo que tenga mejor porcentaje de predicción\n",
    "\n",
    "**Logistic Regression**"
   ]
  },
  {
   "cell_type": "code",
   "execution_count": 272,
   "metadata": {},
   "outputs": [],
   "source": [
    "logreg = LogisticRegression()\n",
    "logreg.fit(X_train, Y_train)\n",
    "Y_pred = logreg.predict(X_test)\n",
    "acc_log = round(logreg.score(X_train, Y_train) * 100, 2)"
   ]
  },
  {
   "cell_type": "markdown",
   "metadata": {},
   "source": [
    "**SVC**"
   ]
  },
  {
   "cell_type": "code",
   "execution_count": 273,
   "metadata": {},
   "outputs": [],
   "source": [
    "svc = SVC()\n",
    "svc.fit(X_train, Y_train)\n",
    "Y_pred = svc.predict(X_test)\n",
    "acc_svc = round(svc.score(X_train, Y_train) * 100, 2)"
   ]
  },
  {
   "cell_type": "markdown",
   "metadata": {},
   "source": [
    "**KNeighborsClassifier**"
   ]
  },
  {
   "cell_type": "code",
   "execution_count": 274,
   "metadata": {},
   "outputs": [],
   "source": [
    "knn = KNeighborsClassifier(n_neighbors = 3)\n",
    "knn.fit(X_train, Y_train)\n",
    "Y_pred = knn.predict(X_test)\n",
    "acc_knn = round(knn.score(X_train, Y_train) * 100, 2)"
   ]
  },
  {
   "cell_type": "markdown",
   "metadata": {},
   "source": [
    "**GaussianNB**"
   ]
  },
  {
   "cell_type": "code",
   "execution_count": 275,
   "metadata": {},
   "outputs": [],
   "source": [
    "gaussian = GaussianNB()\n",
    "gaussian.fit(X_train, Y_train)\n",
    "Y_pred = gaussian.predict(X_test)\n",
    "acc_gaussian = round(gaussian.score(X_train, Y_train) * 100, 2)"
   ]
  },
  {
   "cell_type": "markdown",
   "metadata": {},
   "source": [
    "**Perceptron**"
   ]
  },
  {
   "cell_type": "code",
   "execution_count": 276,
   "metadata": {},
   "outputs": [],
   "source": [
    "perceptron = Perceptron()\n",
    "perceptron.fit(X_train, Y_train)\n",
    "Y_pred = perceptron.predict(X_test)\n",
    "acc_perceptron = round(perceptron.score(X_train, Y_train) * 100, 2)"
   ]
  },
  {
   "cell_type": "markdown",
   "metadata": {},
   "source": [
    "**DecisionTreeClassifier**"
   ]
  },
  {
   "cell_type": "code",
   "execution_count": 277,
   "metadata": {},
   "outputs": [],
   "source": [
    "decision_tree = DecisionTreeClassifier()\n",
    "decision_tree.fit(X_train, Y_train)\n",
    "Y_pred = decision_tree.predict(X_test)\n",
    "acc_decision_tree = round(decision_tree.score(X_train, Y_train) * 100, 2)"
   ]
  },
  {
   "cell_type": "markdown",
   "metadata": {},
   "source": [
    "**RandomForestClassifier**"
   ]
  },
  {
   "cell_type": "code",
   "execution_count": 284,
   "metadata": {},
   "outputs": [],
   "source": [
    "random_forest = RandomForestClassifier(n_estimators=75)\n",
    "random_forest.fit(X_train, Y_train)\n",
    "Y_pred = random_forest.predict(X_test)\n",
    "random_forest.score(X_train, Y_train)\n",
    "acc_random_forest = round(random_forest.score(X_train, Y_train) * 100, 2)"
   ]
  },
  {
   "cell_type": "code",
   "execution_count": 285,
   "metadata": {},
   "outputs": [
    {
     "data": {
      "text/html": [
       "<div>\n",
       "<style scoped>\n",
       "    .dataframe tbody tr th:only-of-type {\n",
       "        vertical-align: middle;\n",
       "    }\n",
       "\n",
       "    .dataframe tbody tr th {\n",
       "        vertical-align: top;\n",
       "    }\n",
       "\n",
       "    .dataframe thead th {\n",
       "        text-align: right;\n",
       "    }\n",
       "</style>\n",
       "<table border=\"1\" class=\"dataframe\">\n",
       "  <thead>\n",
       "    <tr style=\"text-align: right;\">\n",
       "      <th></th>\n",
       "      <th>Model</th>\n",
       "      <th>Score</th>\n",
       "    </tr>\n",
       "  </thead>\n",
       "  <tbody>\n",
       "    <tr>\n",
       "      <th>3</th>\n",
       "      <td>Random Forest</td>\n",
       "      <td>100.00</td>\n",
       "    </tr>\n",
       "    <tr>\n",
       "      <th>6</th>\n",
       "      <td>Decision Tree</td>\n",
       "      <td>100.00</td>\n",
       "    </tr>\n",
       "    <tr>\n",
       "      <th>1</th>\n",
       "      <td>KNN</td>\n",
       "      <td>85.88</td>\n",
       "    </tr>\n",
       "    <tr>\n",
       "      <th>2</th>\n",
       "      <td>Logistic Regression</td>\n",
       "      <td>72.94</td>\n",
       "    </tr>\n",
       "    <tr>\n",
       "      <th>4</th>\n",
       "      <td>Naive Bayes</td>\n",
       "      <td>70.59</td>\n",
       "    </tr>\n",
       "    <tr>\n",
       "      <th>0</th>\n",
       "      <td>Support Vector Machines</td>\n",
       "      <td>65.88</td>\n",
       "    </tr>\n",
       "    <tr>\n",
       "      <th>5</th>\n",
       "      <td>Perceptron</td>\n",
       "      <td>35.29</td>\n",
       "    </tr>\n",
       "  </tbody>\n",
       "</table>\n",
       "</div>"
      ],
      "text/plain": [
       "                     Model   Score\n",
       "3            Random Forest  100.00\n",
       "6            Decision Tree  100.00\n",
       "1                      KNN   85.88\n",
       "2      Logistic Regression   72.94\n",
       "4              Naive Bayes   70.59\n",
       "0  Support Vector Machines   65.88\n",
       "5               Perceptron   35.29"
      ]
     },
     "execution_count": 285,
     "metadata": {},
     "output_type": "execute_result"
    }
   ],
   "source": [
    "#Agrupo resultados en una variable para seleccionar el modelo que usaré para la predicción final\n",
    "models = pd.DataFrame({\n",
    "    'Model': ['Support Vector Machines', 'KNN', 'Logistic Regression', \n",
    "              'Random Forest', 'Naive Bayes', 'Perceptron', \n",
    "              'Decision Tree'],\n",
    "    'Score': [acc_svc, acc_knn, acc_log, \n",
    "              acc_random_forest, acc_gaussian, acc_perceptron, \n",
    "              acc_decision_tree]})\n",
    "#Ordeno por resultado\n",
    "models.sort_values(by='Score', ascending=False)"
   ]
  },
  {
   "cell_type": "markdown",
   "metadata": {},
   "source": [
    "**Resultado:**\n",
    "\n",
    "De los modelos analizados 2 se aplican mejor a la predicción pero elegiré para la aplicación final a <font color=\"green\">Random Forest</font>"
   ]
  },
  {
   "cell_type": "code",
   "execution_count": 286,
   "metadata": {},
   "outputs": [
    {
     "name": "stdout",
     "output_type": "stream",
     "text": [
      "Archivo generado\n"
     ]
    }
   ],
   "source": [
    "#genero archivo de resultados del modelo que será leído luego de la ejecución del botón click \"Generar\" de la aplicación\n",
    "submission = pd.DataFrame({\n",
    "        \"IDMODELO\": datoscsv[\"IDMODELO\"],\n",
    "        \"IDTIPOCUERPO\": datoscsv[\"IDTIPOCUERPO\"],\n",
    "        \"PRENDAAPTA\": Y_pred\n",
    "    })\n",
    "submission.to_csv('C:\\\\Users\\\\Syslan\\\\Curso AI\\\\DemoDayAsesorModa\\\\resultados\\\\DSFaldasResultados.csv', index=False)\n",
    "\n",
    "print('Archivo generado')"
   ]
  },
  {
   "cell_type": "code",
   "execution_count": null,
   "metadata": {},
   "outputs": [],
   "source": []
  }
 ],
 "metadata": {
  "kernelspec": {
   "display_name": "Python 3",
   "language": "python",
   "name": "python3"
  },
  "language_info": {
   "codemirror_mode": {
    "name": "ipython",
    "version": 3
   },
   "file_extension": ".py",
   "mimetype": "text/x-python",
   "name": "python",
   "nbconvert_exporter": "python",
   "pygments_lexer": "ipython3",
   "version": "3.7.6"
  }
 },
 "nbformat": 4,
 "nbformat_minor": 4
}
