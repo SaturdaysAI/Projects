{
 "cells": [
  {
   "cell_type": "markdown",
   "metadata": {},
   "source": [
    "<font color='#d90fa0'><b>ASESOR DE MODA - PREDICCIÓN DE PANTALON HOMBRE</b></font>\n",
    "\n",
    "Para el análisis del asesor de moda se generará el archivo resultante de la predicción la prenda tipo PANTALON_HOMBRE por tipo de cuerpo en ésta sección.\n",
    "\n",
    "Agregar librerías"
   ]
  },
  {
   "cell_type": "code",
   "execution_count": 4,
   "metadata": {},
   "outputs": [],
   "source": [
    "import pandas as pd\n",
    "import seaborn as sns\n",
    "from sklearn.linear_model import LogisticRegression\n",
    "from sklearn.svm import SVC, LinearSVC\n",
    "from sklearn.ensemble import RandomForestClassifier\n",
    "from sklearn.neighbors import KNeighborsClassifier\n",
    "from sklearn.naive_bayes import GaussianNB\n",
    "from sklearn.linear_model import Perceptron\n",
    "from sklearn.linear_model import SGDClassifier\n",
    "from sklearn.tree import DecisionTreeClassifier"
   ]
  },
  {
   "cell_type": "markdown",
   "metadata": {},
   "source": [
    "Lectura y revisión de archivo de datos"
   ]
  },
  {
   "cell_type": "code",
   "execution_count": 11,
   "metadata": {},
   "outputs": [
    {
     "name": "stdout",
     "output_type": "stream",
     "text": [
      "(24, 13)\n"
     ]
    }
   ],
   "source": [
    "#Leer archivo\n",
    "datoscsv = pd.read_csv(\"C:/Users/David/Dropbox/AI SATURDAYS 2020/PROYECTO FINAL/DSPantMan.csv\",encoding='unicode_escape')\n",
    "print(datoscsv.shape)"
   ]
  },
  {
   "cell_type": "code",
   "execution_count": 12,
   "metadata": {},
   "outputs": [
    {
     "name": "stdout",
     "output_type": "stream",
     "text": [
      "<class 'pandas.core.frame.DataFrame'>\n",
      "RangeIndex: 24 entries, 0 to 23\n",
      "Data columns (total 13 columns):\n",
      "SEXO             24 non-null object\n",
      "IDSEXO           24 non-null int64\n",
      "TIPOCUERPO       24 non-null object\n",
      "IDTIPOCUERPO     24 non-null int64\n",
      "TIPO             24 non-null object\n",
      "IDTIPO           24 non-null int64\n",
      "MODELO           24 non-null object\n",
      "IDMODELO         24 non-null int64\n",
      "LONGITUD         24 non-null object\n",
      "CORTE            24 non-null object\n",
      "ANCHURA          24 non-null object\n",
      "EFECTOVISUAL     24 non-null object\n",
      "PRENDAAPTA       24 non-null int64\n",
      "dtypes: int64(5), object(8)\n",
      "memory usage: 2.6+ KB\n"
     ]
    }
   ],
   "source": [
    "#Reviso estructura de información\n",
    "datoscsv.info()"
   ]
  },
  {
   "cell_type": "code",
   "execution_count": 13,
   "metadata": {},
   "outputs": [
    {
     "data": {
      "text/html": [
       "<div>\n",
       "<style scoped>\n",
       "    .dataframe tbody tr th:only-of-type {\n",
       "        vertical-align: middle;\n",
       "    }\n",
       "\n",
       "    .dataframe tbody tr th {\n",
       "        vertical-align: top;\n",
       "    }\n",
       "\n",
       "    .dataframe thead th {\n",
       "        text-align: right;\n",
       "    }\n",
       "</style>\n",
       "<table border=\"1\" class=\"dataframe\">\n",
       "  <thead>\n",
       "    <tr style=\"text-align: right;\">\n",
       "      <th></th>\n",
       "      <th>SEXO</th>\n",
       "      <th>IDSEXO</th>\n",
       "      <th>TIPOCUERPO</th>\n",
       "      <th>IDTIPOCUERPO</th>\n",
       "      <th>TIPO</th>\n",
       "      <th>IDTIPO</th>\n",
       "      <th>MODELO</th>\n",
       "      <th>IDMODELO</th>\n",
       "      <th>LONGITUD</th>\n",
       "      <th>CORTE</th>\n",
       "      <th>ANCHURA</th>\n",
       "      <th>EFECTOVISUAL</th>\n",
       "      <th>PRENDAAPTA</th>\n",
       "    </tr>\n",
       "  </thead>\n",
       "  <tbody>\n",
       "    <tr>\n",
       "      <td>0</td>\n",
       "      <td>HOMBRE</td>\n",
       "      <td>0</td>\n",
       "      <td>TIPO V</td>\n",
       "      <td>6</td>\n",
       "      <td>PANTALON</td>\n",
       "      <td>5</td>\n",
       "      <td>PITILLO</td>\n",
       "      <td>1</td>\n",
       "      <td>NORMAL</td>\n",
       "      <td>ESTRECHO</td>\n",
       "      <td>SIMILAR EN RODILLA Y PIERNA</td>\n",
       "      <td>ACENTUAR LAS PIERNAS</td>\n",
       "      <td>1</td>\n",
       "    </tr>\n",
       "    <tr>\n",
       "      <td>1</td>\n",
       "      <td>HOMBRE</td>\n",
       "      <td>0</td>\n",
       "      <td>TIPO V</td>\n",
       "      <td>6</td>\n",
       "      <td>PANTALON</td>\n",
       "      <td>5</td>\n",
       "      <td>RECTO</td>\n",
       "      <td>2</td>\n",
       "      <td>NORMAL</td>\n",
       "      <td>AJUSTADO</td>\n",
       "      <td>SIMILAR EN TODA SU LONGITUD</td>\n",
       "      <td>ADELGAZAR A LA PERSONA</td>\n",
       "      <td>0</td>\n",
       "    </tr>\n",
       "    <tr>\n",
       "      <td>2</td>\n",
       "      <td>HOMBRE</td>\n",
       "      <td>0</td>\n",
       "      <td>TIPO V</td>\n",
       "      <td>6</td>\n",
       "      <td>PANTALON</td>\n",
       "      <td>5</td>\n",
       "      <td>ANCHO</td>\n",
       "      <td>3</td>\n",
       "      <td>NORMAL</td>\n",
       "      <td>HOLGADO</td>\n",
       "      <td>SIMILAR EN TODA SU LONGITUD</td>\n",
       "      <td>ANCHURA SOBRE LA PERSONA</td>\n",
       "      <td>0</td>\n",
       "    </tr>\n",
       "    <tr>\n",
       "      <td>3</td>\n",
       "      <td>HOMBRE</td>\n",
       "      <td>0</td>\n",
       "      <td>TIPO V</td>\n",
       "      <td>6</td>\n",
       "      <td>PANTALON</td>\n",
       "      <td>5</td>\n",
       "      <td>TIRO ALTO</td>\n",
       "      <td>4</td>\n",
       "      <td>NORMAL</td>\n",
       "      <td>AJUSTADO</td>\n",
       "      <td>SIMILAR EN LA CADERA Y PIERNA</td>\n",
       "      <td>DEFINE LA FORMA DEL CUERPO DE LA PERSONA</td>\n",
       "      <td>1</td>\n",
       "    </tr>\n",
       "    <tr>\n",
       "      <td>4</td>\n",
       "      <td>HOMBRE</td>\n",
       "      <td>0</td>\n",
       "      <td>TIPO V</td>\n",
       "      <td>6</td>\n",
       "      <td>PANTALON</td>\n",
       "      <td>5</td>\n",
       "      <td>TIRO BAJO</td>\n",
       "      <td>5</td>\n",
       "      <td>NORMAL</td>\n",
       "      <td>RECTO</td>\n",
       "      <td>SIMILAR EN TODA SU LONGITUD</td>\n",
       "      <td>NO PRODUCE EFECTOS</td>\n",
       "      <td>1</td>\n",
       "    </tr>\n",
       "  </tbody>\n",
       "</table>\n",
       "</div>"
      ],
      "text/plain": [
       "     SEXO  IDSEXO TIPOCUERPO  IDTIPOCUERPO       TIPO  IDTIPO     MODELO  \\\n",
       "0  HOMBRE       0     TIPO V             6  PANTALON        5    PITILLO   \n",
       "1  HOMBRE       0     TIPO V             6  PANTALON        5      RECTO   \n",
       "2  HOMBRE       0     TIPO V             6  PANTALON        5      ANCHO   \n",
       "3  HOMBRE       0     TIPO V             6  PANTALON        5  TIRO ALTO   \n",
       "4  HOMBRE       0     TIPO V             6  PANTALON        5  TIRO BAJO   \n",
       "\n",
       "   IDMODELO LONGITUD     CORTE                       ANCHURA   \\\n",
       "0         1   NORMAL  ESTRECHO    SIMILAR EN RODILLA Y PIERNA   \n",
       "1         2   NORMAL  AJUSTADO    SIMILAR EN TODA SU LONGITUD   \n",
       "2         3   NORMAL   HOLGADO    SIMILAR EN TODA SU LONGITUD   \n",
       "3         4   NORMAL  AJUSTADO  SIMILAR EN LA CADERA Y PIERNA   \n",
       "4         5   NORMAL     RECTO    SIMILAR EN TODA SU LONGITUD   \n",
       "\n",
       "                              EFECTOVISUAL   PRENDAAPTA  \n",
       "0                      ACENTUAR LAS PIERNAS           1  \n",
       "1                    ADELGAZAR A LA PERSONA           0  \n",
       "2                  ANCHURA SOBRE LA PERSONA           0  \n",
       "3  DEFINE LA FORMA DEL CUERPO DE LA PERSONA           1  \n",
       "4                       NO PRODUCE EFECTOS            1  "
      ]
     },
     "execution_count": 13,
     "metadata": {},
     "output_type": "execute_result"
    }
   ],
   "source": [
    "#Reviso datos de archivo desde cabecera\n",
    "datoscsv.head()"
   ]
  },
  {
   "cell_type": "markdown",
   "metadata": {},
   "source": [
    "<b>Análisis de datos</b>"
   ]
  },
  {
   "cell_type": "code",
   "execution_count": 15,
   "metadata": {},
   "outputs": [],
   "source": [
    "#armo mi dataset temporal que me ayudará a cambiar los valores string por valores numéricos\n",
    "FullDataSet = [datoscsv]"
   ]
  },
  {
   "cell_type": "markdown",
   "metadata": {},
   "source": [
    "1. Reviso si existen datos nulos o vacíos"
   ]
  },
  {
   "cell_type": "code",
   "execution_count": 16,
   "metadata": {},
   "outputs": [
    {
     "name": "stdout",
     "output_type": "stream",
     "text": [
      "Empty DataFrame\n",
      "Columns: [DATASET]\n",
      "Index: []\n"
     ]
    }
   ],
   "source": [
    "#reviso los campos en busca de valores Nulos (Nan)\n",
    "campoConNulos = pd.concat([datoscsv.isnull().sum()], axis=1, keys=['DATASET']) \n",
    "print(campoConNulos[campoConNulos.sum(axis=1) > 0])"
   ]
  },
  {
   "cell_type": "markdown",
   "metadata": {},
   "source": [
    "**Nota:** No existen datos vacíos"
   ]
  },
  {
   "cell_type": "markdown",
   "metadata": {},
   "source": [
    "2. Análisis sexo vs prendaapta"
   ]
  },
  {
   "cell_type": "code",
   "execution_count": 17,
   "metadata": {},
   "outputs": [
    {
     "data": {
      "text/html": [
       "<div>\n",
       "<style scoped>\n",
       "    .dataframe tbody tr th:only-of-type {\n",
       "        vertical-align: middle;\n",
       "    }\n",
       "\n",
       "    .dataframe tbody tr th {\n",
       "        vertical-align: top;\n",
       "    }\n",
       "\n",
       "    .dataframe thead th {\n",
       "        text-align: right;\n",
       "    }\n",
       "</style>\n",
       "<table border=\"1\" class=\"dataframe\">\n",
       "  <thead>\n",
       "    <tr style=\"text-align: right;\">\n",
       "      <th></th>\n",
       "      <th>IDSEXO</th>\n",
       "      <th>PRENDAAPTA</th>\n",
       "    </tr>\n",
       "  </thead>\n",
       "  <tbody>\n",
       "    <tr>\n",
       "      <td>0</td>\n",
       "      <td>0</td>\n",
       "      <td>0.708333</td>\n",
       "    </tr>\n",
       "  </tbody>\n",
       "</table>\n",
       "</div>"
      ],
      "text/plain": [
       "   IDSEXO  PRENDAAPTA\n",
       "0       0    0.708333"
      ]
     },
     "execution_count": 17,
     "metadata": {},
     "output_type": "execute_result"
    }
   ],
   "source": [
    "#analiza sexo vs prendaapta\n",
    "datoscsv[['IDSEXO', 'PRENDAAPTA']].groupby(['IDSEXO'], as_index=False).mean().sort_values(by='PRENDAAPTA', ascending=False)"
   ]
  },
  {
   "cell_type": "markdown",
   "metadata": {},
   "source": [
    "**Nota:** Existe relación entre el sexo y el campo prendaapta"
   ]
  },
  {
   "cell_type": "markdown",
   "metadata": {},
   "source": [
    "3. Análisis tipo de cuerpo vs prendaapta"
   ]
  },
  {
   "cell_type": "code",
   "execution_count": 18,
   "metadata": {},
   "outputs": [
    {
     "data": {
      "text/html": [
       "<div>\n",
       "<style scoped>\n",
       "    .dataframe tbody tr th:only-of-type {\n",
       "        vertical-align: middle;\n",
       "    }\n",
       "\n",
       "    .dataframe tbody tr th {\n",
       "        vertical-align: top;\n",
       "    }\n",
       "\n",
       "    .dataframe thead th {\n",
       "        text-align: right;\n",
       "    }\n",
       "</style>\n",
       "<table border=\"1\" class=\"dataframe\">\n",
       "  <thead>\n",
       "    <tr style=\"text-align: right;\">\n",
       "      <th></th>\n",
       "      <th>IDTIPOCUERPO</th>\n",
       "      <th>PRENDAAPTA</th>\n",
       "    </tr>\n",
       "  </thead>\n",
       "  <tbody>\n",
       "    <tr>\n",
       "      <td>2</td>\n",
       "      <td>8</td>\n",
       "      <td>1.000000</td>\n",
       "    </tr>\n",
       "    <tr>\n",
       "      <td>0</td>\n",
       "      <td>6</td>\n",
       "      <td>0.666667</td>\n",
       "    </tr>\n",
       "    <tr>\n",
       "      <td>3</td>\n",
       "      <td>9</td>\n",
       "      <td>0.666667</td>\n",
       "    </tr>\n",
       "    <tr>\n",
       "      <td>1</td>\n",
       "      <td>7</td>\n",
       "      <td>0.500000</td>\n",
       "    </tr>\n",
       "  </tbody>\n",
       "</table>\n",
       "</div>"
      ],
      "text/plain": [
       "   IDTIPOCUERPO  PRENDAAPTA\n",
       "2             8    1.000000\n",
       "0             6    0.666667\n",
       "3             9    0.666667\n",
       "1             7    0.500000"
      ]
     },
     "execution_count": 18,
     "metadata": {},
     "output_type": "execute_result"
    }
   ],
   "source": [
    "#analiza tipo de cuerpo vs prendaapta\n",
    "datoscsv[['IDTIPOCUERPO', 'PRENDAAPTA']].groupby(['IDTIPOCUERPO'], as_index=False).mean().sort_values(by='PRENDAAPTA', ascending=False)"
   ]
  },
  {
   "cell_type": "markdown",
   "metadata": {},
   "source": [
    "**Nota:** Existe relación entre todos los tipos de cuerpo "
   ]
  },
  {
   "cell_type": "markdown",
   "metadata": {},
   "source": [
    "4. Análisis de campo pantalon vs prendaapta"
   ]
  },
  {
   "cell_type": "code",
   "execution_count": 20,
   "metadata": {},
   "outputs": [
    {
     "data": {
      "text/html": [
       "<div>\n",
       "<style scoped>\n",
       "    .dataframe tbody tr th:only-of-type {\n",
       "        vertical-align: middle;\n",
       "    }\n",
       "\n",
       "    .dataframe tbody tr th {\n",
       "        vertical-align: top;\n",
       "    }\n",
       "\n",
       "    .dataframe thead th {\n",
       "        text-align: right;\n",
       "    }\n",
       "</style>\n",
       "<table border=\"1\" class=\"dataframe\">\n",
       "  <thead>\n",
       "    <tr style=\"text-align: right;\">\n",
       "      <th></th>\n",
       "      <th>IDTIPO</th>\n",
       "      <th>PRENDAAPTA</th>\n",
       "    </tr>\n",
       "  </thead>\n",
       "  <tbody>\n",
       "    <tr>\n",
       "      <td>0</td>\n",
       "      <td>5</td>\n",
       "      <td>0.708333</td>\n",
       "    </tr>\n",
       "  </tbody>\n",
       "</table>\n",
       "</div>"
      ],
      "text/plain": [
       "   IDTIPO  PRENDAAPTA\n",
       "0       5    0.708333"
      ]
     },
     "execution_count": 20,
     "metadata": {},
     "output_type": "execute_result"
    }
   ],
   "source": [
    "#analiza tipo de prenda vs prendaapta\n",
    "datoscsv[['IDTIPO', 'PRENDAAPTA']].groupby(['IDTIPO'], as_index=False).mean().sort_values(by='PRENDAAPTA', ascending=False)"
   ]
  },
  {
   "cell_type": "markdown",
   "metadata": {},
   "source": [
    "**Nota:** existe relación entre tipo de modelo y el campo prendaapta"
   ]
  },
  {
   "cell_type": "markdown",
   "metadata": {},
   "source": [
    "5. Análisis de modelo de pantalon vs predaapta"
   ]
  },
  {
   "cell_type": "code",
   "execution_count": 21,
   "metadata": {},
   "outputs": [
    {
     "data": {
      "text/html": [
       "<div>\n",
       "<style scoped>\n",
       "    .dataframe tbody tr th:only-of-type {\n",
       "        vertical-align: middle;\n",
       "    }\n",
       "\n",
       "    .dataframe tbody tr th {\n",
       "        vertical-align: top;\n",
       "    }\n",
       "\n",
       "    .dataframe thead th {\n",
       "        text-align: right;\n",
       "    }\n",
       "</style>\n",
       "<table border=\"1\" class=\"dataframe\">\n",
       "  <thead>\n",
       "    <tr style=\"text-align: right;\">\n",
       "      <th></th>\n",
       "      <th>IDMODELO</th>\n",
       "      <th>PRENDAAPTA</th>\n",
       "    </tr>\n",
       "  </thead>\n",
       "  <tbody>\n",
       "    <tr>\n",
       "      <td>4</td>\n",
       "      <td>5</td>\n",
       "      <td>1.00</td>\n",
       "    </tr>\n",
       "    <tr>\n",
       "      <td>0</td>\n",
       "      <td>1</td>\n",
       "      <td>0.75</td>\n",
       "    </tr>\n",
       "    <tr>\n",
       "      <td>3</td>\n",
       "      <td>4</td>\n",
       "      <td>0.75</td>\n",
       "    </tr>\n",
       "    <tr>\n",
       "      <td>5</td>\n",
       "      <td>6</td>\n",
       "      <td>0.75</td>\n",
       "    </tr>\n",
       "    <tr>\n",
       "      <td>1</td>\n",
       "      <td>2</td>\n",
       "      <td>0.50</td>\n",
       "    </tr>\n",
       "    <tr>\n",
       "      <td>2</td>\n",
       "      <td>3</td>\n",
       "      <td>0.50</td>\n",
       "    </tr>\n",
       "  </tbody>\n",
       "</table>\n",
       "</div>"
      ],
      "text/plain": [
       "   IDMODELO  PRENDAAPTA\n",
       "4         5        1.00\n",
       "0         1        0.75\n",
       "3         4        0.75\n",
       "5         6        0.75\n",
       "1         2        0.50\n",
       "2         3        0.50"
      ]
     },
     "execution_count": 21,
     "metadata": {},
     "output_type": "execute_result"
    }
   ],
   "source": [
    "#analiza tipo de prenda vs prendaapta\n",
    "datoscsv[['IDMODELO', 'PRENDAAPTA']].groupby(['IDMODELO'], as_index=False).mean().sort_values(by='PRENDAAPTA', ascending=False)"
   ]
  },
  {
   "cell_type": "markdown",
   "metadata": {},
   "source": [
    "**Nota:** si existe relación entre el modelo de pantalon y el campo prendaapta"
   ]
  },
  {
   "cell_type": "markdown",
   "metadata": {},
   "source": [
    "6. Análisis de altura vs prendaapta. El campo altura posee valores tipo string, por lo que deben transformarse en campo entero."
   ]
  },
  {
   "cell_type": "code",
   "execution_count": 22,
   "metadata": {},
   "outputs": [],
   "source": [
    "#cambio valores string por numéricos\n",
    "for dataset in FullDataSet:\n",
    "    dataset.loc[ dataset['LONGITUD'] == 'CORTO', 'LONGITUD'] = int(1)\n",
    "    dataset.loc[ dataset['LONGITUD'] == \"NORMAL\", 'LONGITUD'] = int(2)"
   ]
  },
  {
   "cell_type": "code",
   "execution_count": 23,
   "metadata": {},
   "outputs": [
    {
     "data": {
      "text/html": [
       "<div>\n",
       "<style scoped>\n",
       "    .dataframe tbody tr th:only-of-type {\n",
       "        vertical-align: middle;\n",
       "    }\n",
       "\n",
       "    .dataframe tbody tr th {\n",
       "        vertical-align: top;\n",
       "    }\n",
       "\n",
       "    .dataframe thead th {\n",
       "        text-align: right;\n",
       "    }\n",
       "</style>\n",
       "<table border=\"1\" class=\"dataframe\">\n",
       "  <thead>\n",
       "    <tr style=\"text-align: right;\">\n",
       "      <th></th>\n",
       "      <th>SEXO</th>\n",
       "      <th>IDSEXO</th>\n",
       "      <th>TIPOCUERPO</th>\n",
       "      <th>IDTIPOCUERPO</th>\n",
       "      <th>TIPO</th>\n",
       "      <th>IDTIPO</th>\n",
       "      <th>MODELO</th>\n",
       "      <th>IDMODELO</th>\n",
       "      <th>LONGITUD</th>\n",
       "      <th>CORTE</th>\n",
       "      <th>ANCHURA</th>\n",
       "      <th>EFECTOVISUAL</th>\n",
       "      <th>PRENDAAPTA</th>\n",
       "    </tr>\n",
       "  </thead>\n",
       "  <tbody>\n",
       "    <tr>\n",
       "      <td>0</td>\n",
       "      <td>HOMBRE</td>\n",
       "      <td>0</td>\n",
       "      <td>TIPO V</td>\n",
       "      <td>6</td>\n",
       "      <td>PANTALON</td>\n",
       "      <td>5</td>\n",
       "      <td>PITILLO</td>\n",
       "      <td>1</td>\n",
       "      <td>2</td>\n",
       "      <td>ESTRECHO</td>\n",
       "      <td>SIMILAR EN RODILLA Y PIERNA</td>\n",
       "      <td>ACENTUAR LAS PIERNAS</td>\n",
       "      <td>1</td>\n",
       "    </tr>\n",
       "    <tr>\n",
       "      <td>1</td>\n",
       "      <td>HOMBRE</td>\n",
       "      <td>0</td>\n",
       "      <td>TIPO V</td>\n",
       "      <td>6</td>\n",
       "      <td>PANTALON</td>\n",
       "      <td>5</td>\n",
       "      <td>RECTO</td>\n",
       "      <td>2</td>\n",
       "      <td>2</td>\n",
       "      <td>AJUSTADO</td>\n",
       "      <td>SIMILAR EN TODA SU LONGITUD</td>\n",
       "      <td>ADELGAZAR A LA PERSONA</td>\n",
       "      <td>0</td>\n",
       "    </tr>\n",
       "    <tr>\n",
       "      <td>2</td>\n",
       "      <td>HOMBRE</td>\n",
       "      <td>0</td>\n",
       "      <td>TIPO V</td>\n",
       "      <td>6</td>\n",
       "      <td>PANTALON</td>\n",
       "      <td>5</td>\n",
       "      <td>ANCHO</td>\n",
       "      <td>3</td>\n",
       "      <td>2</td>\n",
       "      <td>HOLGADO</td>\n",
       "      <td>SIMILAR EN TODA SU LONGITUD</td>\n",
       "      <td>ANCHURA SOBRE LA PERSONA</td>\n",
       "      <td>0</td>\n",
       "    </tr>\n",
       "    <tr>\n",
       "      <td>3</td>\n",
       "      <td>HOMBRE</td>\n",
       "      <td>0</td>\n",
       "      <td>TIPO V</td>\n",
       "      <td>6</td>\n",
       "      <td>PANTALON</td>\n",
       "      <td>5</td>\n",
       "      <td>TIRO ALTO</td>\n",
       "      <td>4</td>\n",
       "      <td>2</td>\n",
       "      <td>AJUSTADO</td>\n",
       "      <td>SIMILAR EN LA CADERA Y PIERNA</td>\n",
       "      <td>DEFINE LA FORMA DEL CUERPO DE LA PERSONA</td>\n",
       "      <td>1</td>\n",
       "    </tr>\n",
       "    <tr>\n",
       "      <td>4</td>\n",
       "      <td>HOMBRE</td>\n",
       "      <td>0</td>\n",
       "      <td>TIPO V</td>\n",
       "      <td>6</td>\n",
       "      <td>PANTALON</td>\n",
       "      <td>5</td>\n",
       "      <td>TIRO BAJO</td>\n",
       "      <td>5</td>\n",
       "      <td>2</td>\n",
       "      <td>RECTO</td>\n",
       "      <td>SIMILAR EN TODA SU LONGITUD</td>\n",
       "      <td>NO PRODUCE EFECTOS</td>\n",
       "      <td>1</td>\n",
       "    </tr>\n",
       "  </tbody>\n",
       "</table>\n",
       "</div>"
      ],
      "text/plain": [
       "     SEXO  IDSEXO TIPOCUERPO  IDTIPOCUERPO       TIPO  IDTIPO     MODELO  \\\n",
       "0  HOMBRE       0     TIPO V             6  PANTALON        5    PITILLO   \n",
       "1  HOMBRE       0     TIPO V             6  PANTALON        5      RECTO   \n",
       "2  HOMBRE       0     TIPO V             6  PANTALON        5      ANCHO   \n",
       "3  HOMBRE       0     TIPO V             6  PANTALON        5  TIRO ALTO   \n",
       "4  HOMBRE       0     TIPO V             6  PANTALON        5  TIRO BAJO   \n",
       "\n",
       "   IDMODELO  LONGITUD     CORTE                       ANCHURA   \\\n",
       "0         1         2  ESTRECHO    SIMILAR EN RODILLA Y PIERNA   \n",
       "1         2         2  AJUSTADO    SIMILAR EN TODA SU LONGITUD   \n",
       "2         3         2   HOLGADO    SIMILAR EN TODA SU LONGITUD   \n",
       "3         4         2  AJUSTADO  SIMILAR EN LA CADERA Y PIERNA   \n",
       "4         5         2     RECTO    SIMILAR EN TODA SU LONGITUD   \n",
       "\n",
       "                              EFECTOVISUAL   PRENDAAPTA  \n",
       "0                      ACENTUAR LAS PIERNAS           1  \n",
       "1                    ADELGAZAR A LA PERSONA           0  \n",
       "2                  ANCHURA SOBRE LA PERSONA           0  \n",
       "3  DEFINE LA FORMA DEL CUERPO DE LA PERSONA           1  \n",
       "4                       NO PRODUCE EFECTOS            1  "
      ]
     },
     "execution_count": 23,
     "metadata": {},
     "output_type": "execute_result"
    }
   ],
   "source": [
    "#reviso que dataset tenga nuevos valores\n",
    "datoscsv.head()"
   ]
  },
  {
   "cell_type": "code",
   "execution_count": 24,
   "metadata": {},
   "outputs": [
    {
     "data": {
      "text/html": [
       "<div>\n",
       "<style scoped>\n",
       "    .dataframe tbody tr th:only-of-type {\n",
       "        vertical-align: middle;\n",
       "    }\n",
       "\n",
       "    .dataframe tbody tr th {\n",
       "        vertical-align: top;\n",
       "    }\n",
       "\n",
       "    .dataframe thead th {\n",
       "        text-align: right;\n",
       "    }\n",
       "</style>\n",
       "<table border=\"1\" class=\"dataframe\">\n",
       "  <thead>\n",
       "    <tr style=\"text-align: right;\">\n",
       "      <th></th>\n",
       "      <th>LONGITUD</th>\n",
       "      <th>PRENDAAPTA</th>\n",
       "    </tr>\n",
       "  </thead>\n",
       "  <tbody>\n",
       "    <tr>\n",
       "      <td>0</td>\n",
       "      <td>1</td>\n",
       "      <td>0.75</td>\n",
       "    </tr>\n",
       "    <tr>\n",
       "      <td>1</td>\n",
       "      <td>2</td>\n",
       "      <td>0.70</td>\n",
       "    </tr>\n",
       "  </tbody>\n",
       "</table>\n",
       "</div>"
      ],
      "text/plain": [
       "   LONGITUD  PRENDAAPTA\n",
       "0         1        0.75\n",
       "1         2        0.70"
      ]
     },
     "execution_count": 24,
     "metadata": {},
     "output_type": "execute_result"
    }
   ],
   "source": [
    "#longitud vs prendaapta\n",
    "datoscsv[['LONGITUD', 'PRENDAAPTA']].groupby(['LONGITUD'], as_index=False).mean().sort_values(by='PRENDAAPTA', ascending=False)"
   ]
  },
  {
   "cell_type": "markdown",
   "metadata": {},
   "source": [
    "**Nota:** La longitud si tiene relación con el campo prendaapta en pantalon de longitud CORTO y NORMAL"
   ]
  },
  {
   "cell_type": "markdown",
   "metadata": {},
   "source": [
    "7. Análisis de relación de tipo de cuerpo, longitud y prendaapta"
   ]
  },
  {
   "cell_type": "code",
   "execution_count": 25,
   "metadata": {},
   "outputs": [
    {
     "data": {
      "text/html": [
       "<div>\n",
       "<style scoped>\n",
       "    .dataframe tbody tr th:only-of-type {\n",
       "        vertical-align: middle;\n",
       "    }\n",
       "\n",
       "    .dataframe tbody tr th {\n",
       "        vertical-align: top;\n",
       "    }\n",
       "\n",
       "    .dataframe thead th {\n",
       "        text-align: right;\n",
       "    }\n",
       "</style>\n",
       "<table border=\"1\" class=\"dataframe\">\n",
       "  <thead>\n",
       "    <tr style=\"text-align: right;\">\n",
       "      <th></th>\n",
       "      <th>IDTIPOCUERPO</th>\n",
       "      <th>LONGITUD</th>\n",
       "      <th>PRENDAAPTA</th>\n",
       "    </tr>\n",
       "  </thead>\n",
       "  <tbody>\n",
       "    <tr>\n",
       "      <td>6</td>\n",
       "      <td>9</td>\n",
       "      <td>1</td>\n",
       "      <td>1.0</td>\n",
       "    </tr>\n",
       "    <tr>\n",
       "      <td>7</td>\n",
       "      <td>9</td>\n",
       "      <td>2</td>\n",
       "      <td>0.6</td>\n",
       "    </tr>\n",
       "    <tr>\n",
       "      <td>4</td>\n",
       "      <td>8</td>\n",
       "      <td>1</td>\n",
       "      <td>1.0</td>\n",
       "    </tr>\n",
       "    <tr>\n",
       "      <td>5</td>\n",
       "      <td>8</td>\n",
       "      <td>2</td>\n",
       "      <td>1.0</td>\n",
       "    </tr>\n",
       "    <tr>\n",
       "      <td>2</td>\n",
       "      <td>7</td>\n",
       "      <td>1</td>\n",
       "      <td>0.0</td>\n",
       "    </tr>\n",
       "    <tr>\n",
       "      <td>3</td>\n",
       "      <td>7</td>\n",
       "      <td>2</td>\n",
       "      <td>0.6</td>\n",
       "    </tr>\n",
       "    <tr>\n",
       "      <td>0</td>\n",
       "      <td>6</td>\n",
       "      <td>1</td>\n",
       "      <td>1.0</td>\n",
       "    </tr>\n",
       "    <tr>\n",
       "      <td>1</td>\n",
       "      <td>6</td>\n",
       "      <td>2</td>\n",
       "      <td>0.6</td>\n",
       "    </tr>\n",
       "  </tbody>\n",
       "</table>\n",
       "</div>"
      ],
      "text/plain": [
       "   IDTIPOCUERPO  LONGITUD  PRENDAAPTA\n",
       "6             9         1         1.0\n",
       "7             9         2         0.6\n",
       "4             8         1         1.0\n",
       "5             8         2         1.0\n",
       "2             7         1         0.0\n",
       "3             7         2         0.6\n",
       "0             6         1         1.0\n",
       "1             6         2         0.6"
      ]
     },
     "execution_count": 25,
     "metadata": {},
     "output_type": "execute_result"
    }
   ],
   "source": [
    "#tipo de cuerpo, altura y prendaapta\n",
    "datoscsv[['IDTIPOCUERPO','LONGITUD','PRENDAAPTA']].groupby(['IDTIPOCUERPO','LONGITUD'], as_index=False).mean().sort_values(by='IDTIPOCUERPO', ascending=False)"
   ]
  },
  {
   "cell_type": "markdown",
   "metadata": {},
   "source": [
    "**Nota:** El campo altura si tiene relación   ???"
   ]
  },
  {
   "cell_type": "code",
   "execution_count": 27,
   "metadata": {},
   "outputs": [
    {
     "name": "stderr",
     "output_type": "stream",
     "text": [
      "C:\\Users\\David\\Anaconda3\\lib\\site-packages\\seaborn\\axisgrid.py:230: UserWarning: The `size` paramter has been renamed to `height`; please update your code.\n",
      "  warnings.warn(msg, UserWarning)\n",
      "C:\\Users\\David\\Anaconda3\\lib\\site-packages\\seaborn\\axisgrid.py:715: UserWarning: Using the pointplot function without specifying `order` is likely to produce an incorrect plot.\n",
      "  warnings.warn(warning)\n",
      "C:\\Users\\David\\Anaconda3\\lib\\site-packages\\seaborn\\axisgrid.py:720: UserWarning: Using the pointplot function without specifying `hue_order` is likely to produce an incorrect plot.\n",
      "  warnings.warn(warning)\n",
      "C:\\Users\\David\\Anaconda3\\lib\\site-packages\\scipy\\stats\\stats.py:1713: FutureWarning: Using a non-tuple sequence for multidimensional indexing is deprecated; use `arr[tuple(seq)]` instead of `arr[seq]`. In the future this will be interpreted as an array index, `arr[np.array(seq)]`, which will result either in an error or a different result.\n",
      "  return np.add.reduce(sorted[indexer] * weights, axis=axis) / sumval\n"
     ]
    },
    {
     "data": {
      "text/plain": [
       "<seaborn.axisgrid.FacetGrid at 0x2533a7edac8>"
      ]
     },
     "execution_count": 27,
     "metadata": {},
     "output_type": "execute_result"
    },
    {
     "data": {
      "image/png": "[encoded data removed]",
      "text/plain": [
       "<Figure size 295.815x633.6 with 4 Axes>"
      ]
     },
     "metadata": {
      "needs_background": "light"
     },
     "output_type": "display_data"
    }
   ],
   "source": [
    "grid = sns.FacetGrid(datoscsv, row='IDTIPOCUERPO', size=2.2, aspect=1.6)\n",
    "grid.map(sns.pointplot, 'LONGITUD', 'PRENDAAPTA', 'IDTIPO', palette='deep')\n",
    "grid.add_legend()"
   ]
  },
  {
   "cell_type": "markdown",
   "metadata": {},
   "source": [
    "**Nota:** El tipo de cuerpo si tiene relación con la LONGITUD y el campo prendaapta"
   ]
  },
  {
   "cell_type": "markdown",
   "metadata": {},
   "source": [
    "8. Análisis de forma vs prendaapta. El campo forma posee valores tipo string, por lo que deben transformarse en campo entero."
   ]
  },
  {
   "cell_type": "code",
   "execution_count": 28,
   "metadata": {},
   "outputs": [],
   "source": [
    "#cambio valores string por numéricos\n",
    "for dataset in FullDataSet:\n",
    "    dataset.loc[ dataset['CORTE'] == 'ESTRECHO', 'CORTE'] = int(1)\n",
    "    dataset.loc[ dataset['CORTE'] == \"AJUSTADO\", 'CORTE'] = int(2)\n",
    "    dataset.loc[ dataset['CORTE'] == \"HOLGADO\", 'CORTE'] = int(3)\n",
    "    dataset.loc[ dataset['CORTE'] == \"RECTO\", 'CORTE'] = int(4)    "
   ]
  },
  {
   "cell_type": "code",
   "execution_count": 29,
   "metadata": {},
   "outputs": [
    {
     "data": {
      "text/html": [
       "<div>\n",
       "<style scoped>\n",
       "    .dataframe tbody tr th:only-of-type {\n",
       "        vertical-align: middle;\n",
       "    }\n",
       "\n",
       "    .dataframe tbody tr th {\n",
       "        vertical-align: top;\n",
       "    }\n",
       "\n",
       "    .dataframe thead th {\n",
       "        text-align: right;\n",
       "    }\n",
       "</style>\n",
       "<table border=\"1\" class=\"dataframe\">\n",
       "  <thead>\n",
       "    <tr style=\"text-align: right;\">\n",
       "      <th></th>\n",
       "      <th>SEXO</th>\n",
       "      <th>IDSEXO</th>\n",
       "      <th>TIPOCUERPO</th>\n",
       "      <th>IDTIPOCUERPO</th>\n",
       "      <th>TIPO</th>\n",
       "      <th>IDTIPO</th>\n",
       "      <th>MODELO</th>\n",
       "      <th>IDMODELO</th>\n",
       "      <th>LONGITUD</th>\n",
       "      <th>CORTE</th>\n",
       "      <th>ANCHURA</th>\n",
       "      <th>EFECTOVISUAL</th>\n",
       "      <th>PRENDAAPTA</th>\n",
       "    </tr>\n",
       "  </thead>\n",
       "  <tbody>\n",
       "    <tr>\n",
       "      <td>0</td>\n",
       "      <td>HOMBRE</td>\n",
       "      <td>0</td>\n",
       "      <td>TIPO V</td>\n",
       "      <td>6</td>\n",
       "      <td>PANTALON</td>\n",
       "      <td>5</td>\n",
       "      <td>PITILLO</td>\n",
       "      <td>1</td>\n",
       "      <td>2</td>\n",
       "      <td>1</td>\n",
       "      <td>SIMILAR EN RODILLA Y PIERNA</td>\n",
       "      <td>ACENTUAR LAS PIERNAS</td>\n",
       "      <td>1</td>\n",
       "    </tr>\n",
       "    <tr>\n",
       "      <td>1</td>\n",
       "      <td>HOMBRE</td>\n",
       "      <td>0</td>\n",
       "      <td>TIPO V</td>\n",
       "      <td>6</td>\n",
       "      <td>PANTALON</td>\n",
       "      <td>5</td>\n",
       "      <td>RECTO</td>\n",
       "      <td>2</td>\n",
       "      <td>2</td>\n",
       "      <td>2</td>\n",
       "      <td>SIMILAR EN TODA SU LONGITUD</td>\n",
       "      <td>ADELGAZAR A LA PERSONA</td>\n",
       "      <td>0</td>\n",
       "    </tr>\n",
       "    <tr>\n",
       "      <td>2</td>\n",
       "      <td>HOMBRE</td>\n",
       "      <td>0</td>\n",
       "      <td>TIPO V</td>\n",
       "      <td>6</td>\n",
       "      <td>PANTALON</td>\n",
       "      <td>5</td>\n",
       "      <td>ANCHO</td>\n",
       "      <td>3</td>\n",
       "      <td>2</td>\n",
       "      <td>3</td>\n",
       "      <td>SIMILAR EN TODA SU LONGITUD</td>\n",
       "      <td>ANCHURA SOBRE LA PERSONA</td>\n",
       "      <td>0</td>\n",
       "    </tr>\n",
       "    <tr>\n",
       "      <td>3</td>\n",
       "      <td>HOMBRE</td>\n",
       "      <td>0</td>\n",
       "      <td>TIPO V</td>\n",
       "      <td>6</td>\n",
       "      <td>PANTALON</td>\n",
       "      <td>5</td>\n",
       "      <td>TIRO ALTO</td>\n",
       "      <td>4</td>\n",
       "      <td>2</td>\n",
       "      <td>2</td>\n",
       "      <td>SIMILAR EN LA CADERA Y PIERNA</td>\n",
       "      <td>DEFINE LA FORMA DEL CUERPO DE LA PERSONA</td>\n",
       "      <td>1</td>\n",
       "    </tr>\n",
       "    <tr>\n",
       "      <td>4</td>\n",
       "      <td>HOMBRE</td>\n",
       "      <td>0</td>\n",
       "      <td>TIPO V</td>\n",
       "      <td>6</td>\n",
       "      <td>PANTALON</td>\n",
       "      <td>5</td>\n",
       "      <td>TIRO BAJO</td>\n",
       "      <td>5</td>\n",
       "      <td>2</td>\n",
       "      <td>4</td>\n",
       "      <td>SIMILAR EN TODA SU LONGITUD</td>\n",
       "      <td>NO PRODUCE EFECTOS</td>\n",
       "      <td>1</td>\n",
       "    </tr>\n",
       "  </tbody>\n",
       "</table>\n",
       "</div>"
      ],
      "text/plain": [
       "     SEXO  IDSEXO TIPOCUERPO  IDTIPOCUERPO       TIPO  IDTIPO     MODELO  \\\n",
       "0  HOMBRE       0     TIPO V             6  PANTALON        5    PITILLO   \n",
       "1  HOMBRE       0     TIPO V             6  PANTALON        5      RECTO   \n",
       "2  HOMBRE       0     TIPO V             6  PANTALON        5      ANCHO   \n",
       "3  HOMBRE       0     TIPO V             6  PANTALON        5  TIRO ALTO   \n",
       "4  HOMBRE       0     TIPO V             6  PANTALON        5  TIRO BAJO   \n",
       "\n",
       "   IDMODELO  LONGITUD  CORTE                       ANCHURA   \\\n",
       "0         1         2      1    SIMILAR EN RODILLA Y PIERNA   \n",
       "1         2         2      2    SIMILAR EN TODA SU LONGITUD   \n",
       "2         3         2      3    SIMILAR EN TODA SU LONGITUD   \n",
       "3         4         2      2  SIMILAR EN LA CADERA Y PIERNA   \n",
       "4         5         2      4    SIMILAR EN TODA SU LONGITUD   \n",
       "\n",
       "                              EFECTOVISUAL   PRENDAAPTA  \n",
       "0                      ACENTUAR LAS PIERNAS           1  \n",
       "1                    ADELGAZAR A LA PERSONA           0  \n",
       "2                  ANCHURA SOBRE LA PERSONA           0  \n",
       "3  DEFINE LA FORMA DEL CUERPO DE LA PERSONA           1  \n",
       "4                       NO PRODUCE EFECTOS            1  "
      ]
     },
     "execution_count": 29,
     "metadata": {},
     "output_type": "execute_result"
    }
   ],
   "source": [
    "#reviso que dataset tenga nuevos valores\n",
    "datoscsv.head()"
   ]
  },
  {
   "cell_type": "code",
   "execution_count": 30,
   "metadata": {},
   "outputs": [
    {
     "data": {
      "text/html": [
       "<div>\n",
       "<style scoped>\n",
       "    .dataframe tbody tr th:only-of-type {\n",
       "        vertical-align: middle;\n",
       "    }\n",
       "\n",
       "    .dataframe tbody tr th {\n",
       "        vertical-align: top;\n",
       "    }\n",
       "\n",
       "    .dataframe thead th {\n",
       "        text-align: right;\n",
       "    }\n",
       "</style>\n",
       "<table border=\"1\" class=\"dataframe\">\n",
       "  <thead>\n",
       "    <tr style=\"text-align: right;\">\n",
       "      <th></th>\n",
       "      <th>CORTE</th>\n",
       "      <th>PRENDAAPTA</th>\n",
       "    </tr>\n",
       "  </thead>\n",
       "  <tbody>\n",
       "    <tr>\n",
       "      <td>3</td>\n",
       "      <td>4</td>\n",
       "      <td>1.000</td>\n",
       "    </tr>\n",
       "    <tr>\n",
       "      <td>0</td>\n",
       "      <td>1</td>\n",
       "      <td>0.750</td>\n",
       "    </tr>\n",
       "    <tr>\n",
       "      <td>1</td>\n",
       "      <td>2</td>\n",
       "      <td>0.625</td>\n",
       "    </tr>\n",
       "    <tr>\n",
       "      <td>2</td>\n",
       "      <td>3</td>\n",
       "      <td>0.625</td>\n",
       "    </tr>\n",
       "  </tbody>\n",
       "</table>\n",
       "</div>"
      ],
      "text/plain": [
       "   CORTE  PRENDAAPTA\n",
       "3      4       1.000\n",
       "0      1       0.750\n",
       "1      2       0.625\n",
       "2      3       0.625"
      ]
     },
     "execution_count": 30,
     "metadata": {},
     "output_type": "execute_result"
    }
   ],
   "source": [
    "#analiza forma vs prendaapta\n",
    "datoscsv[['CORTE','PRENDAAPTA']].groupby(['CORTE'], as_index=False).mean().sort_values(by='PRENDAAPTA', ascending=False)"
   ]
  },
  {
   "cell_type": "markdown",
   "metadata": {},
   "source": [
    "**Nota:** La forma de la prenda si tiene relación con el campo prendaapta."
   ]
  },
  {
   "cell_type": "code",
   "execution_count": 31,
   "metadata": {},
   "outputs": [
    {
     "data": {
      "text/html": [
       "<div>\n",
       "<style scoped>\n",
       "    .dataframe tbody tr th:only-of-type {\n",
       "        vertical-align: middle;\n",
       "    }\n",
       "\n",
       "    .dataframe tbody tr th {\n",
       "        vertical-align: top;\n",
       "    }\n",
       "\n",
       "    .dataframe thead th {\n",
       "        text-align: right;\n",
       "    }\n",
       "</style>\n",
       "<table border=\"1\" class=\"dataframe\">\n",
       "  <thead>\n",
       "    <tr style=\"text-align: right;\">\n",
       "      <th></th>\n",
       "      <th>IDTIPOCUERPO</th>\n",
       "      <th>CORTE</th>\n",
       "      <th>PRENDAAPTA</th>\n",
       "    </tr>\n",
       "  </thead>\n",
       "  <tbody>\n",
       "    <tr>\n",
       "      <td>12</td>\n",
       "      <td>9</td>\n",
       "      <td>1</td>\n",
       "      <td>1.0</td>\n",
       "    </tr>\n",
       "    <tr>\n",
       "      <td>13</td>\n",
       "      <td>9</td>\n",
       "      <td>2</td>\n",
       "      <td>0.5</td>\n",
       "    </tr>\n",
       "    <tr>\n",
       "      <td>14</td>\n",
       "      <td>9</td>\n",
       "      <td>3</td>\n",
       "      <td>0.5</td>\n",
       "    </tr>\n",
       "    <tr>\n",
       "      <td>15</td>\n",
       "      <td>9</td>\n",
       "      <td>4</td>\n",
       "      <td>1.0</td>\n",
       "    </tr>\n",
       "    <tr>\n",
       "      <td>8</td>\n",
       "      <td>8</td>\n",
       "      <td>1</td>\n",
       "      <td>1.0</td>\n",
       "    </tr>\n",
       "    <tr>\n",
       "      <td>9</td>\n",
       "      <td>8</td>\n",
       "      <td>2</td>\n",
       "      <td>1.0</td>\n",
       "    </tr>\n",
       "    <tr>\n",
       "      <td>10</td>\n",
       "      <td>8</td>\n",
       "      <td>3</td>\n",
       "      <td>1.0</td>\n",
       "    </tr>\n",
       "    <tr>\n",
       "      <td>11</td>\n",
       "      <td>8</td>\n",
       "      <td>4</td>\n",
       "      <td>1.0</td>\n",
       "    </tr>\n",
       "    <tr>\n",
       "      <td>4</td>\n",
       "      <td>7</td>\n",
       "      <td>1</td>\n",
       "      <td>0.0</td>\n",
       "    </tr>\n",
       "    <tr>\n",
       "      <td>5</td>\n",
       "      <td>7</td>\n",
       "      <td>2</td>\n",
       "      <td>0.5</td>\n",
       "    </tr>\n",
       "    <tr>\n",
       "      <td>6</td>\n",
       "      <td>7</td>\n",
       "      <td>3</td>\n",
       "      <td>0.5</td>\n",
       "    </tr>\n",
       "    <tr>\n",
       "      <td>7</td>\n",
       "      <td>7</td>\n",
       "      <td>4</td>\n",
       "      <td>1.0</td>\n",
       "    </tr>\n",
       "    <tr>\n",
       "      <td>0</td>\n",
       "      <td>6</td>\n",
       "      <td>1</td>\n",
       "      <td>1.0</td>\n",
       "    </tr>\n",
       "    <tr>\n",
       "      <td>1</td>\n",
       "      <td>6</td>\n",
       "      <td>2</td>\n",
       "      <td>0.5</td>\n",
       "    </tr>\n",
       "    <tr>\n",
       "      <td>2</td>\n",
       "      <td>6</td>\n",
       "      <td>3</td>\n",
       "      <td>0.5</td>\n",
       "    </tr>\n",
       "    <tr>\n",
       "      <td>3</td>\n",
       "      <td>6</td>\n",
       "      <td>4</td>\n",
       "      <td>1.0</td>\n",
       "    </tr>\n",
       "  </tbody>\n",
       "</table>\n",
       "</div>"
      ],
      "text/plain": [
       "    IDTIPOCUERPO  CORTE  PRENDAAPTA\n",
       "12             9      1         1.0\n",
       "13             9      2         0.5\n",
       "14             9      3         0.5\n",
       "15             9      4         1.0\n",
       "8              8      1         1.0\n",
       "9              8      2         1.0\n",
       "10             8      3         1.0\n",
       "11             8      4         1.0\n",
       "4              7      1         0.0\n",
       "5              7      2         0.5\n",
       "6              7      3         0.5\n",
       "7              7      4         1.0\n",
       "0              6      1         1.0\n",
       "1              6      2         0.5\n",
       "2              6      3         0.5\n",
       "3              6      4         1.0"
      ]
     },
     "execution_count": 31,
     "metadata": {},
     "output_type": "execute_result"
    }
   ],
   "source": [
    "#analiza tipo de cuerpo,forma,prendaapta\n",
    "datoscsv[['IDTIPOCUERPO','CORTE','PRENDAAPTA']].groupby(['IDTIPOCUERPO','CORTE'], as_index=False).mean().sort_values(by='IDTIPOCUERPO', ascending=False)"
   ]
  },
  {
   "cell_type": "code",
   "execution_count": 33,
   "metadata": {},
   "outputs": [
    {
     "name": "stderr",
     "output_type": "stream",
     "text": [
      "C:\\Users\\David\\Anaconda3\\lib\\site-packages\\seaborn\\axisgrid.py:715: UserWarning: Using the pointplot function without specifying `order` is likely to produce an incorrect plot.\n",
      "  warnings.warn(warning)\n",
      "C:\\Users\\David\\Anaconda3\\lib\\site-packages\\seaborn\\axisgrid.py:720: UserWarning: Using the pointplot function without specifying `hue_order` is likely to produce an incorrect plot.\n",
      "  warnings.warn(warning)\n"
     ]
    },
    {
     "data": {
      "text/plain": [
       "<seaborn.axisgrid.FacetGrid at 0x2533ab64b38>"
      ]
     },
     "execution_count": 33,
     "metadata": {},
     "output_type": "execute_result"
    },
    {
     "data": {
      "image/png": "[encoded data removed]",
      "text/plain": [
       "<Figure size 295.815x633.6 with 4 Axes>"
      ]
     },
     "metadata": {
      "needs_background": "light"
     },
     "output_type": "display_data"
    }
   ],
   "source": [
    "grid = sns.FacetGrid(datoscsv, row='IDTIPOCUERPO', height=2.2, aspect=1.6)\n",
    "grid.map(sns.pointplot, 'CORTE', 'PRENDAAPTA', 'IDTIPO', palette='deep')\n",
    "grid.add_legend()"
   ]
  },
  {
   "cell_type": "markdown",
   "metadata": {},
   "source": [
    "**Nota:** El tipo de cuerpo si tiene relación con el corte de la prenda y el campo prendaapta."
   ]
  },
  {
   "cell_type": "markdown",
   "metadata": {},
   "source": [
    "9. Análisis de ANCHO DEL PANTALON vs prendaapta. El campo ANCHURA posee valores tipo string, por lo que deben transformarse en campo entero"
   ]
  },
  {
   "cell_type": "code",
   "execution_count": 35,
   "metadata": {},
   "outputs": [],
   "source": [
    "#cambio valores string por numéricos\n",
    "for dataset in FullDataSet:\n",
    "    dataset.loc[ dataset['ANCHURA '] == 'SIMILAR EN RODILLA Y PIERNA', 'ANCHURA '] = 0\n",
    "    dataset.loc[ dataset['ANCHURA '] == \"SIMILAR EN TODA SU LONGITUD\", 'ANCHURA '] = 1\n",
    "    dataset.loc[ dataset['ANCHURA '] == 'SIMILAR EN LA CADERA Y PIERNA', 'ANCHURA '] = 2"
   ]
  },
  {
   "cell_type": "code",
   "execution_count": 36,
   "metadata": {},
   "outputs": [
    {
     "data": {
      "text/html": [
       "<div>\n",
       "<style scoped>\n",
       "    .dataframe tbody tr th:only-of-type {\n",
       "        vertical-align: middle;\n",
       "    }\n",
       "\n",
       "    .dataframe tbody tr th {\n",
       "        vertical-align: top;\n",
       "    }\n",
       "\n",
       "    .dataframe thead th {\n",
       "        text-align: right;\n",
       "    }\n",
       "</style>\n",
       "<table border=\"1\" class=\"dataframe\">\n",
       "  <thead>\n",
       "    <tr style=\"text-align: right;\">\n",
       "      <th></th>\n",
       "      <th>SEXO</th>\n",
       "      <th>IDSEXO</th>\n",
       "      <th>TIPOCUERPO</th>\n",
       "      <th>IDTIPOCUERPO</th>\n",
       "      <th>TIPO</th>\n",
       "      <th>IDTIPO</th>\n",
       "      <th>MODELO</th>\n",
       "      <th>IDMODELO</th>\n",
       "      <th>LONGITUD</th>\n",
       "      <th>CORTE</th>\n",
       "      <th>ANCHURA</th>\n",
       "      <th>EFECTOVISUAL</th>\n",
       "      <th>PRENDAAPTA</th>\n",
       "    </tr>\n",
       "  </thead>\n",
       "  <tbody>\n",
       "    <tr>\n",
       "      <td>0</td>\n",
       "      <td>HOMBRE</td>\n",
       "      <td>0</td>\n",
       "      <td>TIPO V</td>\n",
       "      <td>6</td>\n",
       "      <td>PANTALON</td>\n",
       "      <td>5</td>\n",
       "      <td>PITILLO</td>\n",
       "      <td>1</td>\n",
       "      <td>2</td>\n",
       "      <td>1</td>\n",
       "      <td>0</td>\n",
       "      <td>ACENTUAR LAS PIERNAS</td>\n",
       "      <td>1</td>\n",
       "    </tr>\n",
       "    <tr>\n",
       "      <td>1</td>\n",
       "      <td>HOMBRE</td>\n",
       "      <td>0</td>\n",
       "      <td>TIPO V</td>\n",
       "      <td>6</td>\n",
       "      <td>PANTALON</td>\n",
       "      <td>5</td>\n",
       "      <td>RECTO</td>\n",
       "      <td>2</td>\n",
       "      <td>2</td>\n",
       "      <td>2</td>\n",
       "      <td>1</td>\n",
       "      <td>ADELGAZAR A LA PERSONA</td>\n",
       "      <td>0</td>\n",
       "    </tr>\n",
       "    <tr>\n",
       "      <td>2</td>\n",
       "      <td>HOMBRE</td>\n",
       "      <td>0</td>\n",
       "      <td>TIPO V</td>\n",
       "      <td>6</td>\n",
       "      <td>PANTALON</td>\n",
       "      <td>5</td>\n",
       "      <td>ANCHO</td>\n",
       "      <td>3</td>\n",
       "      <td>2</td>\n",
       "      <td>3</td>\n",
       "      <td>1</td>\n",
       "      <td>ANCHURA SOBRE LA PERSONA</td>\n",
       "      <td>0</td>\n",
       "    </tr>\n",
       "    <tr>\n",
       "      <td>3</td>\n",
       "      <td>HOMBRE</td>\n",
       "      <td>0</td>\n",
       "      <td>TIPO V</td>\n",
       "      <td>6</td>\n",
       "      <td>PANTALON</td>\n",
       "      <td>5</td>\n",
       "      <td>TIRO ALTO</td>\n",
       "      <td>4</td>\n",
       "      <td>2</td>\n",
       "      <td>2</td>\n",
       "      <td>2</td>\n",
       "      <td>DEFINE LA FORMA DEL CUERPO DE LA PERSONA</td>\n",
       "      <td>1</td>\n",
       "    </tr>\n",
       "    <tr>\n",
       "      <td>4</td>\n",
       "      <td>HOMBRE</td>\n",
       "      <td>0</td>\n",
       "      <td>TIPO V</td>\n",
       "      <td>6</td>\n",
       "      <td>PANTALON</td>\n",
       "      <td>5</td>\n",
       "      <td>TIRO BAJO</td>\n",
       "      <td>5</td>\n",
       "      <td>2</td>\n",
       "      <td>4</td>\n",
       "      <td>1</td>\n",
       "      <td>NO PRODUCE EFECTOS</td>\n",
       "      <td>1</td>\n",
       "    </tr>\n",
       "  </tbody>\n",
       "</table>\n",
       "</div>"
      ],
      "text/plain": [
       "     SEXO  IDSEXO TIPOCUERPO  IDTIPOCUERPO       TIPO  IDTIPO     MODELO  \\\n",
       "0  HOMBRE       0     TIPO V             6  PANTALON        5    PITILLO   \n",
       "1  HOMBRE       0     TIPO V             6  PANTALON        5      RECTO   \n",
       "2  HOMBRE       0     TIPO V             6  PANTALON        5      ANCHO   \n",
       "3  HOMBRE       0     TIPO V             6  PANTALON        5  TIRO ALTO   \n",
       "4  HOMBRE       0     TIPO V             6  PANTALON        5  TIRO BAJO   \n",
       "\n",
       "   IDMODELO  LONGITUD  CORTE  ANCHURA   \\\n",
       "0         1         2      1         0   \n",
       "1         2         2      2         1   \n",
       "2         3         2      3         1   \n",
       "3         4         2      2         2   \n",
       "4         5         2      4         1   \n",
       "\n",
       "                              EFECTOVISUAL   PRENDAAPTA  \n",
       "0                      ACENTUAR LAS PIERNAS           1  \n",
       "1                    ADELGAZAR A LA PERSONA           0  \n",
       "2                  ANCHURA SOBRE LA PERSONA           0  \n",
       "3  DEFINE LA FORMA DEL CUERPO DE LA PERSONA           1  \n",
       "4                       NO PRODUCE EFECTOS            1  "
      ]
     },
     "execution_count": 36,
     "metadata": {},
     "output_type": "execute_result"
    }
   ],
   "source": [
    "#reviso que dataset tenga nuevos valores\n",
    "datoscsv.head()"
   ]
  },
  {
   "cell_type": "code",
   "execution_count": 37,
   "metadata": {},
   "outputs": [
    {
     "data": {
      "text/html": [
       "<div>\n",
       "<style scoped>\n",
       "    .dataframe tbody tr th:only-of-type {\n",
       "        vertical-align: middle;\n",
       "    }\n",
       "\n",
       "    .dataframe tbody tr th {\n",
       "        vertical-align: top;\n",
       "    }\n",
       "\n",
       "    .dataframe thead th {\n",
       "        text-align: right;\n",
       "    }\n",
       "</style>\n",
       "<table border=\"1\" class=\"dataframe\">\n",
       "  <thead>\n",
       "    <tr style=\"text-align: right;\">\n",
       "      <th></th>\n",
       "      <th>ANCHURA</th>\n",
       "      <th>PRENDAAPTA</th>\n",
       "    </tr>\n",
       "  </thead>\n",
       "  <tbody>\n",
       "    <tr>\n",
       "      <td>0</td>\n",
       "      <td>0</td>\n",
       "      <td>0.750000</td>\n",
       "    </tr>\n",
       "    <tr>\n",
       "      <td>2</td>\n",
       "      <td>2</td>\n",
       "      <td>0.750000</td>\n",
       "    </tr>\n",
       "    <tr>\n",
       "      <td>1</td>\n",
       "      <td>1</td>\n",
       "      <td>0.666667</td>\n",
       "    </tr>\n",
       "  </tbody>\n",
       "</table>\n",
       "</div>"
      ],
      "text/plain": [
       "   ANCHURA   PRENDAAPTA\n",
       "0         0    0.750000\n",
       "2         2    0.750000\n",
       "1         1    0.666667"
      ]
     },
     "execution_count": 37,
     "metadata": {},
     "output_type": "execute_result"
    }
   ],
   "source": [
    "#analiza pliegues vs prendaapta\n",
    "datoscsv[['ANCHURA ','PRENDAAPTA']].groupby(['ANCHURA '], as_index=False).mean().sort_values(by='PRENDAAPTA', ascending=False)"
   ]
  },
  {
   "cell_type": "markdown",
   "metadata": {},
   "source": [
    "**Nota:** El ancho del pantalon si tienen mayor peso relacionado directamente con el campo prendaapta"
   ]
  },
  {
   "cell_type": "code",
   "execution_count": 38,
   "metadata": {},
   "outputs": [
    {
     "data": {
      "text/html": [
       "<div>\n",
       "<style scoped>\n",
       "    .dataframe tbody tr th:only-of-type {\n",
       "        vertical-align: middle;\n",
       "    }\n",
       "\n",
       "    .dataframe tbody tr th {\n",
       "        vertical-align: top;\n",
       "    }\n",
       "\n",
       "    .dataframe thead th {\n",
       "        text-align: right;\n",
       "    }\n",
       "</style>\n",
       "<table border=\"1\" class=\"dataframe\">\n",
       "  <thead>\n",
       "    <tr style=\"text-align: right;\">\n",
       "      <th></th>\n",
       "      <th>IDTIPOCUERPO</th>\n",
       "      <th>ANCHURA</th>\n",
       "      <th>PRENDAAPTA</th>\n",
       "    </tr>\n",
       "  </thead>\n",
       "  <tbody>\n",
       "    <tr>\n",
       "      <td>9</td>\n",
       "      <td>9</td>\n",
       "      <td>0</td>\n",
       "      <td>1.000000</td>\n",
       "    </tr>\n",
       "    <tr>\n",
       "      <td>10</td>\n",
       "      <td>9</td>\n",
       "      <td>1</td>\n",
       "      <td>0.333333</td>\n",
       "    </tr>\n",
       "    <tr>\n",
       "      <td>11</td>\n",
       "      <td>9</td>\n",
       "      <td>2</td>\n",
       "      <td>1.000000</td>\n",
       "    </tr>\n",
       "    <tr>\n",
       "      <td>6</td>\n",
       "      <td>8</td>\n",
       "      <td>0</td>\n",
       "      <td>1.000000</td>\n",
       "    </tr>\n",
       "    <tr>\n",
       "      <td>7</td>\n",
       "      <td>8</td>\n",
       "      <td>1</td>\n",
       "      <td>1.000000</td>\n",
       "    </tr>\n",
       "    <tr>\n",
       "      <td>8</td>\n",
       "      <td>8</td>\n",
       "      <td>2</td>\n",
       "      <td>1.000000</td>\n",
       "    </tr>\n",
       "    <tr>\n",
       "      <td>3</td>\n",
       "      <td>7</td>\n",
       "      <td>0</td>\n",
       "      <td>0.000000</td>\n",
       "    </tr>\n",
       "    <tr>\n",
       "      <td>4</td>\n",
       "      <td>7</td>\n",
       "      <td>1</td>\n",
       "      <td>1.000000</td>\n",
       "    </tr>\n",
       "    <tr>\n",
       "      <td>5</td>\n",
       "      <td>7</td>\n",
       "      <td>2</td>\n",
       "      <td>0.000000</td>\n",
       "    </tr>\n",
       "    <tr>\n",
       "      <td>0</td>\n",
       "      <td>6</td>\n",
       "      <td>0</td>\n",
       "      <td>1.000000</td>\n",
       "    </tr>\n",
       "    <tr>\n",
       "      <td>1</td>\n",
       "      <td>6</td>\n",
       "      <td>1</td>\n",
       "      <td>0.333333</td>\n",
       "    </tr>\n",
       "    <tr>\n",
       "      <td>2</td>\n",
       "      <td>6</td>\n",
       "      <td>2</td>\n",
       "      <td>1.000000</td>\n",
       "    </tr>\n",
       "  </tbody>\n",
       "</table>\n",
       "</div>"
      ],
      "text/plain": [
       "    IDTIPOCUERPO  ANCHURA   PRENDAAPTA\n",
       "9              9         0    1.000000\n",
       "10             9         1    0.333333\n",
       "11             9         2    1.000000\n",
       "6              8         0    1.000000\n",
       "7              8         1    1.000000\n",
       "8              8         2    1.000000\n",
       "3              7         0    0.000000\n",
       "4              7         1    1.000000\n",
       "5              7         2    0.000000\n",
       "0              6         0    1.000000\n",
       "1              6         1    0.333333\n",
       "2              6         2    1.000000"
      ]
     },
     "execution_count": 38,
     "metadata": {},
     "output_type": "execute_result"
    }
   ],
   "source": [
    "#analiza tipo de cuerpo,pliegues,prendaapta\n",
    "datoscsv[['IDTIPOCUERPO','ANCHURA ','PRENDAAPTA']].groupby(['IDTIPOCUERPO','ANCHURA '], as_index=False).mean().sort_values(by='IDTIPOCUERPO', ascending=False)"
   ]
  },
  {
   "cell_type": "code",
   "execution_count": 40,
   "metadata": {},
   "outputs": [
    {
     "name": "stderr",
     "output_type": "stream",
     "text": [
      "C:\\Users\\David\\Anaconda3\\lib\\site-packages\\seaborn\\axisgrid.py:715: UserWarning: Using the pointplot function without specifying `order` is likely to produce an incorrect plot.\n",
      "  warnings.warn(warning)\n",
      "C:\\Users\\David\\Anaconda3\\lib\\site-packages\\seaborn\\axisgrid.py:720: UserWarning: Using the pointplot function without specifying `hue_order` is likely to produce an incorrect plot.\n",
      "  warnings.warn(warning)\n"
     ]
    },
    {
     "data": {
      "text/plain": [
       "<seaborn.axisgrid.FacetGrid at 0x2533aed9d68>"
      ]
     },
     "execution_count": 40,
     "metadata": {},
     "output_type": "execute_result"
    },
    {
     "data": {
      "image/png": "[encoded data removed]",
      "text/plain": [
       "<Figure size 295.815x633.6 with 4 Axes>"
      ]
     },
     "metadata": {
      "needs_background": "light"
     },
     "output_type": "display_data"
    }
   ],
   "source": [
    "grid = sns.FacetGrid(datoscsv, row='IDTIPOCUERPO', height=2.2, aspect=1.6)\n",
    "grid.map(sns.pointplot, 'ANCHURA ', 'PRENDAAPTA', 'IDTIPO', palette='deep')\n",
    "grid.add_legend()\n",
    "##################################3"
   ]
  },
  {
   "cell_type": "markdown",
   "metadata": {},
   "source": [
    "**Nota:** El tipo de cuerpo si tiene relación con los ANCHURA de la prenda y el campo prendaapta."
   ]
  },
  {
   "cell_type": "markdown",
   "metadata": {},
   "source": [
    "10. Análisis de EFECTOVISUAL vs prendaapta. El campo posee valores tipo string, por lo que deben transformarse en campo entero."
   ]
  },
  {
   "cell_type": "code",
   "execution_count": 44,
   "metadata": {},
   "outputs": [],
   "source": [
    "#cambio valores string por numéricos\n",
    "for dataset in FullDataSet:\n",
    "    dataset.loc[ dataset['EFECTOVISUAL '] == 'ACENTUAR LAS PIERNAS', 'EFECTOVISUAL '] = 0\n",
    "    dataset.loc[ dataset['EFECTOVISUAL '] == \"ADELGAZAR A LA PERSONA\", 'EFECTOVISUAL '] = 1\n",
    "    dataset.loc[ dataset['EFECTOVISUAL '] == \"ANCHURA SOBRE LA PERSONA\", 'EFECTOVISUAL '] = 2\n",
    "    dataset.loc[ dataset['EFECTOVISUAL '] == \"DEFINE LA FORMA DEL CUERPO DE LA PERSONA\", 'EFECTOVISUAL '] = 3\n",
    "    dataset.loc[ dataset['EFECTOVISUAL '] == \"NO PRODUCE EFECTOS \", 'EFECTOVISUAL '] = 4"
   ]
  },
  {
   "cell_type": "code",
   "execution_count": 45,
   "metadata": {},
   "outputs": [
    {
     "data": {
      "text/html": [
       "<div>\n",
       "<style scoped>\n",
       "    .dataframe tbody tr th:only-of-type {\n",
       "        vertical-align: middle;\n",
       "    }\n",
       "\n",
       "    .dataframe tbody tr th {\n",
       "        vertical-align: top;\n",
       "    }\n",
       "\n",
       "    .dataframe thead th {\n",
       "        text-align: right;\n",
       "    }\n",
       "</style>\n",
       "<table border=\"1\" class=\"dataframe\">\n",
       "  <thead>\n",
       "    <tr style=\"text-align: right;\">\n",
       "      <th></th>\n",
       "      <th>SEXO</th>\n",
       "      <th>IDSEXO</th>\n",
       "      <th>TIPOCUERPO</th>\n",
       "      <th>IDTIPOCUERPO</th>\n",
       "      <th>TIPO</th>\n",
       "      <th>IDTIPO</th>\n",
       "      <th>MODELO</th>\n",
       "      <th>IDMODELO</th>\n",
       "      <th>LONGITUD</th>\n",
       "      <th>CORTE</th>\n",
       "      <th>ANCHURA</th>\n",
       "      <th>EFECTOVISUAL</th>\n",
       "      <th>PRENDAAPTA</th>\n",
       "    </tr>\n",
       "  </thead>\n",
       "  <tbody>\n",
       "    <tr>\n",
       "      <td>0</td>\n",
       "      <td>HOMBRE</td>\n",
       "      <td>0</td>\n",
       "      <td>TIPO V</td>\n",
       "      <td>6</td>\n",
       "      <td>PANTALON</td>\n",
       "      <td>5</td>\n",
       "      <td>PITILLO</td>\n",
       "      <td>1</td>\n",
       "      <td>2</td>\n",
       "      <td>1</td>\n",
       "      <td>0</td>\n",
       "      <td>0</td>\n",
       "      <td>1</td>\n",
       "    </tr>\n",
       "    <tr>\n",
       "      <td>1</td>\n",
       "      <td>HOMBRE</td>\n",
       "      <td>0</td>\n",
       "      <td>TIPO V</td>\n",
       "      <td>6</td>\n",
       "      <td>PANTALON</td>\n",
       "      <td>5</td>\n",
       "      <td>RECTO</td>\n",
       "      <td>2</td>\n",
       "      <td>2</td>\n",
       "      <td>2</td>\n",
       "      <td>1</td>\n",
       "      <td>1</td>\n",
       "      <td>0</td>\n",
       "    </tr>\n",
       "    <tr>\n",
       "      <td>2</td>\n",
       "      <td>HOMBRE</td>\n",
       "      <td>0</td>\n",
       "      <td>TIPO V</td>\n",
       "      <td>6</td>\n",
       "      <td>PANTALON</td>\n",
       "      <td>5</td>\n",
       "      <td>ANCHO</td>\n",
       "      <td>3</td>\n",
       "      <td>2</td>\n",
       "      <td>3</td>\n",
       "      <td>1</td>\n",
       "      <td>2</td>\n",
       "      <td>0</td>\n",
       "    </tr>\n",
       "    <tr>\n",
       "      <td>3</td>\n",
       "      <td>HOMBRE</td>\n",
       "      <td>0</td>\n",
       "      <td>TIPO V</td>\n",
       "      <td>6</td>\n",
       "      <td>PANTALON</td>\n",
       "      <td>5</td>\n",
       "      <td>TIRO ALTO</td>\n",
       "      <td>4</td>\n",
       "      <td>2</td>\n",
       "      <td>2</td>\n",
       "      <td>2</td>\n",
       "      <td>3</td>\n",
       "      <td>1</td>\n",
       "    </tr>\n",
       "    <tr>\n",
       "      <td>4</td>\n",
       "      <td>HOMBRE</td>\n",
       "      <td>0</td>\n",
       "      <td>TIPO V</td>\n",
       "      <td>6</td>\n",
       "      <td>PANTALON</td>\n",
       "      <td>5</td>\n",
       "      <td>TIRO BAJO</td>\n",
       "      <td>5</td>\n",
       "      <td>2</td>\n",
       "      <td>4</td>\n",
       "      <td>1</td>\n",
       "      <td>4</td>\n",
       "      <td>1</td>\n",
       "    </tr>\n",
       "  </tbody>\n",
       "</table>\n",
       "</div>"
      ],
      "text/plain": [
       "     SEXO  IDSEXO TIPOCUERPO  IDTIPOCUERPO       TIPO  IDTIPO     MODELO  \\\n",
       "0  HOMBRE       0     TIPO V             6  PANTALON        5    PITILLO   \n",
       "1  HOMBRE       0     TIPO V             6  PANTALON        5      RECTO   \n",
       "2  HOMBRE       0     TIPO V             6  PANTALON        5      ANCHO   \n",
       "3  HOMBRE       0     TIPO V             6  PANTALON        5  TIRO ALTO   \n",
       "4  HOMBRE       0     TIPO V             6  PANTALON        5  TIRO BAJO   \n",
       "\n",
       "   IDMODELO  LONGITUD  CORTE  ANCHURA   EFECTOVISUAL   PRENDAAPTA  \n",
       "0         1         2      1         0              0           1  \n",
       "1         2         2      2         1              1           0  \n",
       "2         3         2      3         1              2           0  \n",
       "3         4         2      2         2              3           1  \n",
       "4         5         2      4         1              4           1  "
      ]
     },
     "execution_count": 45,
     "metadata": {},
     "output_type": "execute_result"
    }
   ],
   "source": [
    "#reviso que dataset tenga nuevos valores\n",
    "datoscsv.head()"
   ]
  },
  {
   "cell_type": "code",
   "execution_count": 46,
   "metadata": {},
   "outputs": [
    {
     "data": {
      "text/html": [
       "<div>\n",
       "<style scoped>\n",
       "    .dataframe tbody tr th:only-of-type {\n",
       "        vertical-align: middle;\n",
       "    }\n",
       "\n",
       "    .dataframe tbody tr th {\n",
       "        vertical-align: top;\n",
       "    }\n",
       "\n",
       "    .dataframe thead th {\n",
       "        text-align: right;\n",
       "    }\n",
       "</style>\n",
       "<table border=\"1\" class=\"dataframe\">\n",
       "  <thead>\n",
       "    <tr style=\"text-align: right;\">\n",
       "      <th></th>\n",
       "      <th>EFECTOVISUAL</th>\n",
       "      <th>PRENDAAPTA</th>\n",
       "    </tr>\n",
       "  </thead>\n",
       "  <tbody>\n",
       "    <tr>\n",
       "      <td>4</td>\n",
       "      <td>4</td>\n",
       "      <td>1.00</td>\n",
       "    </tr>\n",
       "    <tr>\n",
       "      <td>0</td>\n",
       "      <td>0</td>\n",
       "      <td>0.75</td>\n",
       "    </tr>\n",
       "    <tr>\n",
       "      <td>3</td>\n",
       "      <td>3</td>\n",
       "      <td>0.75</td>\n",
       "    </tr>\n",
       "    <tr>\n",
       "      <td>1</td>\n",
       "      <td>1</td>\n",
       "      <td>0.50</td>\n",
       "    </tr>\n",
       "    <tr>\n",
       "      <td>2</td>\n",
       "      <td>2</td>\n",
       "      <td>0.50</td>\n",
       "    </tr>\n",
       "  </tbody>\n",
       "</table>\n",
       "</div>"
      ],
      "text/plain": [
       "   EFECTOVISUAL   PRENDAAPTA\n",
       "4              4        1.00\n",
       "0              0        0.75\n",
       "3              3        0.75\n",
       "1              1        0.50\n",
       "2              2        0.50"
      ]
     },
     "execution_count": 46,
     "metadata": {},
     "output_type": "execute_result"
    }
   ],
   "source": [
    "#analiza EFECTOS vs prendaapta\n",
    "datoscsv[['EFECTOVISUAL ','PRENDAAPTA']].groupby(['EFECTOVISUAL '], as_index=False).mean().sort_values(by='PRENDAAPTA', ascending=False)"
   ]
  },
  {
   "cell_type": "markdown",
   "metadata": {},
   "source": [
    "**Nota:** Los EFECTOS de la prenda SI tienen mayor peso relacionado directamente con el campo prendaapta"
   ]
  },
  {
   "cell_type": "code",
   "execution_count": 47,
   "metadata": {},
   "outputs": [
    {
     "data": {
      "text/html": [
       "<div>\n",
       "<style scoped>\n",
       "    .dataframe tbody tr th:only-of-type {\n",
       "        vertical-align: middle;\n",
       "    }\n",
       "\n",
       "    .dataframe tbody tr th {\n",
       "        vertical-align: top;\n",
       "    }\n",
       "\n",
       "    .dataframe thead th {\n",
       "        text-align: right;\n",
       "    }\n",
       "</style>\n",
       "<table border=\"1\" class=\"dataframe\">\n",
       "  <thead>\n",
       "    <tr style=\"text-align: right;\">\n",
       "      <th></th>\n",
       "      <th>IDTIPOCUERPO</th>\n",
       "      <th>EFECTOVISUAL</th>\n",
       "      <th>PRENDAAPTA</th>\n",
       "    </tr>\n",
       "  </thead>\n",
       "  <tbody>\n",
       "    <tr>\n",
       "      <td>19</td>\n",
       "      <td>9</td>\n",
       "      <td>4</td>\n",
       "      <td>1</td>\n",
       "    </tr>\n",
       "    <tr>\n",
       "      <td>18</td>\n",
       "      <td>9</td>\n",
       "      <td>3</td>\n",
       "      <td>1</td>\n",
       "    </tr>\n",
       "    <tr>\n",
       "      <td>17</td>\n",
       "      <td>9</td>\n",
       "      <td>2</td>\n",
       "      <td>0</td>\n",
       "    </tr>\n",
       "    <tr>\n",
       "      <td>16</td>\n",
       "      <td>9</td>\n",
       "      <td>1</td>\n",
       "      <td>0</td>\n",
       "    </tr>\n",
       "    <tr>\n",
       "      <td>15</td>\n",
       "      <td>9</td>\n",
       "      <td>0</td>\n",
       "      <td>1</td>\n",
       "    </tr>\n",
       "    <tr>\n",
       "      <td>11</td>\n",
       "      <td>8</td>\n",
       "      <td>1</td>\n",
       "      <td>1</td>\n",
       "    </tr>\n",
       "    <tr>\n",
       "      <td>14</td>\n",
       "      <td>8</td>\n",
       "      <td>4</td>\n",
       "      <td>1</td>\n",
       "    </tr>\n",
       "    <tr>\n",
       "      <td>13</td>\n",
       "      <td>8</td>\n",
       "      <td>3</td>\n",
       "      <td>1</td>\n",
       "    </tr>\n",
       "    <tr>\n",
       "      <td>12</td>\n",
       "      <td>8</td>\n",
       "      <td>2</td>\n",
       "      <td>1</td>\n",
       "    </tr>\n",
       "    <tr>\n",
       "      <td>10</td>\n",
       "      <td>8</td>\n",
       "      <td>0</td>\n",
       "      <td>1</td>\n",
       "    </tr>\n",
       "    <tr>\n",
       "      <td>9</td>\n",
       "      <td>7</td>\n",
       "      <td>4</td>\n",
       "      <td>1</td>\n",
       "    </tr>\n",
       "    <tr>\n",
       "      <td>8</td>\n",
       "      <td>7</td>\n",
       "      <td>3</td>\n",
       "      <td>0</td>\n",
       "    </tr>\n",
       "    <tr>\n",
       "      <td>7</td>\n",
       "      <td>7</td>\n",
       "      <td>2</td>\n",
       "      <td>1</td>\n",
       "    </tr>\n",
       "    <tr>\n",
       "      <td>6</td>\n",
       "      <td>7</td>\n",
       "      <td>1</td>\n",
       "      <td>1</td>\n",
       "    </tr>\n",
       "    <tr>\n",
       "      <td>5</td>\n",
       "      <td>7</td>\n",
       "      <td>0</td>\n",
       "      <td>0</td>\n",
       "    </tr>\n",
       "    <tr>\n",
       "      <td>1</td>\n",
       "      <td>6</td>\n",
       "      <td>1</td>\n",
       "      <td>0</td>\n",
       "    </tr>\n",
       "    <tr>\n",
       "      <td>4</td>\n",
       "      <td>6</td>\n",
       "      <td>4</td>\n",
       "      <td>1</td>\n",
       "    </tr>\n",
       "    <tr>\n",
       "      <td>3</td>\n",
       "      <td>6</td>\n",
       "      <td>3</td>\n",
       "      <td>1</td>\n",
       "    </tr>\n",
       "    <tr>\n",
       "      <td>2</td>\n",
       "      <td>6</td>\n",
       "      <td>2</td>\n",
       "      <td>0</td>\n",
       "    </tr>\n",
       "    <tr>\n",
       "      <td>0</td>\n",
       "      <td>6</td>\n",
       "      <td>0</td>\n",
       "      <td>1</td>\n",
       "    </tr>\n",
       "  </tbody>\n",
       "</table>\n",
       "</div>"
      ],
      "text/plain": [
       "    IDTIPOCUERPO  EFECTOVISUAL   PRENDAAPTA\n",
       "19             9              4           1\n",
       "18             9              3           1\n",
       "17             9              2           0\n",
       "16             9              1           0\n",
       "15             9              0           1\n",
       "11             8              1           1\n",
       "14             8              4           1\n",
       "13             8              3           1\n",
       "12             8              2           1\n",
       "10             8              0           1\n",
       "9              7              4           1\n",
       "8              7              3           0\n",
       "7              7              2           1\n",
       "6              7              1           1\n",
       "5              7              0           0\n",
       "1              6              1           0\n",
       "4              6              4           1\n",
       "3              6              3           1\n",
       "2              6              2           0\n",
       "0              6              0           1"
      ]
     },
     "execution_count": 47,
     "metadata": {},
     "output_type": "execute_result"
    }
   ],
   "source": [
    "#tipo de cuerpo,vuelos,prendaapta\n",
    "datoscsv[['IDTIPOCUERPO','EFECTOVISUAL ','PRENDAAPTA']].groupby(['IDTIPOCUERPO','EFECTOVISUAL '], as_index=False).mean().sort_values(by='IDTIPOCUERPO', ascending=False)"
   ]
  },
  {
   "cell_type": "code",
   "execution_count": 50,
   "metadata": {},
   "outputs": [
    {
     "name": "stderr",
     "output_type": "stream",
     "text": [
      "C:\\Users\\David\\Anaconda3\\lib\\site-packages\\seaborn\\axisgrid.py:715: UserWarning: Using the pointplot function without specifying `order` is likely to produce an incorrect plot.\n",
      "  warnings.warn(warning)\n",
      "C:\\Users\\David\\Anaconda3\\lib\\site-packages\\seaborn\\axisgrid.py:720: UserWarning: Using the pointplot function without specifying `hue_order` is likely to produce an incorrect plot.\n",
      "  warnings.warn(warning)\n"
     ]
    },
    {
     "data": {
      "text/plain": [
       "<seaborn.axisgrid.FacetGrid at 0x2533c225978>"
      ]
     },
     "execution_count": 50,
     "metadata": {},
     "output_type": "execute_result"
    },
    {
     "data": {
      "image/png": "[encoded data removed]",
      "text/plain": [
       "<Figure size 295.815x633.6 with 4 Axes>"
      ]
     },
     "metadata": {
      "needs_background": "light"
     },
     "output_type": "display_data"
    }
   ],
   "source": [
    "grid = sns.FacetGrid(datoscsv, row='IDTIPOCUERPO', height=2.2, aspect=1.6)\n",
    "grid.map(sns.pointplot, 'EFECTOVISUAL ', 'PRENDAAPTA', 'IDTIPO', palette='deep')\n",
    "grid.add_legend()"
   ]
  },
  {
   "cell_type": "markdown",
   "metadata": {},
   "source": [
    "**Nota:** El tipo de cuerpo si tiene relación con los EFECTOS de la prenda y el campo prendaapta."
   ]
  },
  {
   "cell_type": "markdown",
   "metadata": {},
   "source": [
    "12. Limpieza de campos tipo string de dataset de análisis final"
   ]
  },
  {
   "cell_type": "code",
   "execution_count": 51,
   "metadata": {},
   "outputs": [],
   "source": [
    "#elimino campos tipo string de dataset\n",
    "datoscsv = datoscsv.drop(['SEXO', 'TIPOCUERPO', 'TIPO', 'MODELO'], axis=1)"
   ]
  },
  {
   "cell_type": "code",
   "execution_count": 52,
   "metadata": {},
   "outputs": [
    {
     "name": "stdout",
     "output_type": "stream",
     "text": [
      "<class 'pandas.core.frame.DataFrame'>\n",
      "RangeIndex: 24 entries, 0 to 23\n",
      "Data columns (total 9 columns):\n",
      "IDSEXO           24 non-null int64\n",
      "IDTIPOCUERPO     24 non-null int64\n",
      "IDTIPO           24 non-null int64\n",
      "IDMODELO         24 non-null int64\n",
      "LONGITUD         24 non-null int64\n",
      "CORTE            24 non-null int64\n",
      "ANCHURA          24 non-null int64\n",
      "EFECTOVISUAL     24 non-null int64\n",
      "PRENDAAPTA       24 non-null int64\n",
      "dtypes: int64(9)\n",
      "memory usage: 1.8 KB\n"
     ]
    }
   ],
   "source": [
    "#reviso tipo de datos final\n",
    "datoscsv.info()"
   ]
  },
  {
   "cell_type": "markdown",
   "metadata": {},
   "source": [
    "**Definición de Variables**"
   ]
  },
  {
   "cell_type": "code",
   "execution_count": 53,
   "metadata": {},
   "outputs": [
    {
     "name": "stdout",
     "output_type": "stream",
     "text": [
      "['IDSEXO' 'IDTIPOCUERPO' 'IDTIPO' 'IDMODELO' 'LONGITUD' 'CORTE' 'ANCHURA '\n",
      " 'EFECTOVISUAL ' 'PRENDAAPTA']\n"
     ]
    }
   ],
   "source": [
    "#revisión de columnas de dataset\n",
    "print(datoscsv.columns.values)"
   ]
  },
  {
   "cell_type": "code",
   "execution_count": 54,
   "metadata": {},
   "outputs": [],
   "source": [
    "#establecer dataset de variables a predecir\n",
    "X_train = datoscsv.drop(\"PRENDAAPTA\", axis=1)\n",
    "Y_train = datoscsv[\"PRENDAAPTA\"]\n",
    "X_test = datoscsv.drop(\"IDTIPOCUERPO\", axis=1).copy()"
   ]
  },
  {
   "cell_type": "code",
   "execution_count": 55,
   "metadata": {},
   "outputs": [
    {
     "data": {
      "text/plain": [
       "((24, 8), (24,), (24, 8))"
      ]
     },
     "execution_count": 55,
     "metadata": {},
     "output_type": "execute_result"
    }
   ],
   "source": [
    "#presento filas y columnas de dataset a predecir\n",
    "X_train.shape, Y_train.shape, X_test.shape"
   ]
  },
  {
   "cell_type": "markdown",
   "metadata": {},
   "source": [
    "**Análisis de Algoritmos**\n",
    "\n",
    "Busco algoritmo que tenga mejor porcentaje de predicción\n",
    "\n",
    "**Logistic Regression**"
   ]
  },
  {
   "cell_type": "code",
   "execution_count": 56,
   "metadata": {},
   "outputs": [
    {
     "name": "stderr",
     "output_type": "stream",
     "text": [
      "C:\\Users\\David\\Anaconda3\\lib\\site-packages\\sklearn\\linear_model\\logistic.py:433: FutureWarning: Default solver will be changed to 'lbfgs' in 0.22. Specify a solver to silence this warning.\n",
      "  FutureWarning)\n"
     ]
    }
   ],
   "source": [
    "logreg = LogisticRegression()\n",
    "logreg.fit(X_train, Y_train)\n",
    "Y_pred = logreg.predict(X_test)\n",
    "acc_log = round(logreg.score(X_train, Y_train) * 100, 2)"
   ]
  },
  {
   "cell_type": "markdown",
   "metadata": {},
   "source": [
    "**SVC**"
   ]
  },
  {
   "cell_type": "code",
   "execution_count": 57,
   "metadata": {},
   "outputs": [
    {
     "name": "stderr",
     "output_type": "stream",
     "text": [
      "C:\\Users\\David\\Anaconda3\\lib\\site-packages\\sklearn\\svm\\base.py:196: FutureWarning: The default value of gamma will change from 'auto' to 'scale' in version 0.22 to account better for unscaled features. Set gamma explicitly to 'auto' or 'scale' to avoid this warning.\n",
      "  \"avoid this warning.\", FutureWarning)\n"
     ]
    }
   ],
   "source": [
    "svc = SVC()\n",
    "svc.fit(X_train, Y_train)\n",
    "Y_pred = svc.predict(X_test)\n",
    "acc_svc = round(svc.score(X_train, Y_train) * 100, 2)"
   ]
  },
  {
   "cell_type": "markdown",
   "metadata": {},
   "source": [
    "**KNeighborsClassifier**"
   ]
  },
  {
   "cell_type": "code",
   "execution_count": 58,
   "metadata": {},
   "outputs": [],
   "source": [
    "knn = KNeighborsClassifier(n_neighbors = 3)\n",
    "knn.fit(X_train, Y_train)\n",
    "Y_pred = knn.predict(X_test)\n",
    "acc_knn = round(knn.score(X_train, Y_train) * 100, 2)"
   ]
  },
  {
   "cell_type": "markdown",
   "metadata": {},
   "source": [
    "**GaussianNB**"
   ]
  },
  {
   "cell_type": "code",
   "execution_count": 59,
   "metadata": {},
   "outputs": [],
   "source": [
    "gaussian = GaussianNB()\n",
    "gaussian.fit(X_train, Y_train)\n",
    "Y_pred = gaussian.predict(X_test)\n",
    "acc_gaussian = round(gaussian.score(X_train, Y_train) * 100, 2)"
   ]
  },
  {
   "cell_type": "markdown",
   "metadata": {},
   "source": [
    "**Perceptron**"
   ]
  },
  {
   "cell_type": "code",
   "execution_count": 60,
   "metadata": {},
   "outputs": [
    {
     "name": "stderr",
     "output_type": "stream",
     "text": [
      "C:\\Users\\David\\Anaconda3\\lib\\site-packages\\sklearn\\linear_model\\stochastic_gradient.py:166: FutureWarning: max_iter and tol parameters have been added in Perceptron in 0.19. If both are left unset, they default to max_iter=5 and tol=None. If tol is not None, max_iter defaults to max_iter=1000. From 0.21, default max_iter will be 1000, and default tol will be 1e-3.\n",
      "  FutureWarning)\n"
     ]
    }
   ],
   "source": [
    "perceptron = Perceptron()\n",
    "perceptron.fit(X_train, Y_train)\n",
    "Y_pred = perceptron.predict(X_test)\n",
    "acc_perceptron = round(perceptron.score(X_train, Y_train) * 100, 2)"
   ]
  },
  {
   "cell_type": "markdown",
   "metadata": {},
   "source": [
    "**DecisionTreeClassifier**"
   ]
  },
  {
   "cell_type": "code",
   "execution_count": 61,
   "metadata": {},
   "outputs": [],
   "source": [
    "decision_tree = DecisionTreeClassifier()\n",
    "decision_tree.fit(X_train, Y_train)\n",
    "Y_pred = decision_tree.predict(X_test)\n",
    "acc_decision_tree = round(decision_tree.score(X_train, Y_train) * 100, 2)"
   ]
  },
  {
   "cell_type": "markdown",
   "metadata": {},
   "source": [
    "**RandomForestClassifier**"
   ]
  },
  {
   "cell_type": "code",
   "execution_count": 62,
   "metadata": {},
   "outputs": [],
   "source": [
    "random_forest = RandomForestClassifier(n_estimators=100)\n",
    "random_forest.fit(X_train, Y_train)\n",
    "Y_pred = random_forest.predict(X_test)\n",
    "random_forest.score(X_train, Y_train)\n",
    "acc_random_forest = round(random_forest.score(X_train, Y_train) * 100, 2)"
   ]
  },
  {
   "cell_type": "code",
   "execution_count": 64,
   "metadata": {},
   "outputs": [
    {
     "data": {
      "text/html": [
       "<div>\n",
       "<style scoped>\n",
       "    .dataframe tbody tr th:only-of-type {\n",
       "        vertical-align: middle;\n",
       "    }\n",
       "\n",
       "    .dataframe tbody tr th {\n",
       "        vertical-align: top;\n",
       "    }\n",
       "\n",
       "    .dataframe thead th {\n",
       "        text-align: right;\n",
       "    }\n",
       "</style>\n",
       "<table border=\"1\" class=\"dataframe\">\n",
       "  <thead>\n",
       "    <tr style=\"text-align: right;\">\n",
       "      <th></th>\n",
       "      <th>Model</th>\n",
       "      <th>Score</th>\n",
       "    </tr>\n",
       "  </thead>\n",
       "  <tbody>\n",
       "    <tr>\n",
       "      <td>3</td>\n",
       "      <td>Random Forest</td>\n",
       "      <td>100.00</td>\n",
       "    </tr>\n",
       "    <tr>\n",
       "      <td>6</td>\n",
       "      <td>Decision Tree</td>\n",
       "      <td>100.00</td>\n",
       "    </tr>\n",
       "    <tr>\n",
       "      <td>1</td>\n",
       "      <td>KNN</td>\n",
       "      <td>79.17</td>\n",
       "    </tr>\n",
       "    <tr>\n",
       "      <td>0</td>\n",
       "      <td>Support Vector Machines</td>\n",
       "      <td>70.83</td>\n",
       "    </tr>\n",
       "    <tr>\n",
       "      <td>2</td>\n",
       "      <td>Logistic Regression</td>\n",
       "      <td>70.83</td>\n",
       "    </tr>\n",
       "    <tr>\n",
       "      <td>4</td>\n",
       "      <td>Naive Bayes</td>\n",
       "      <td>70.83</td>\n",
       "    </tr>\n",
       "    <tr>\n",
       "      <td>5</td>\n",
       "      <td>Perceptron</td>\n",
       "      <td>70.83</td>\n",
       "    </tr>\n",
       "  </tbody>\n",
       "</table>\n",
       "</div>"
      ],
      "text/plain": [
       "                     Model   Score\n",
       "3            Random Forest  100.00\n",
       "6            Decision Tree  100.00\n",
       "1                      KNN   79.17\n",
       "0  Support Vector Machines   70.83\n",
       "2      Logistic Regression   70.83\n",
       "4              Naive Bayes   70.83\n",
       "5               Perceptron   70.83"
      ]
     },
     "execution_count": 64,
     "metadata": {},
     "output_type": "execute_result"
    }
   ],
   "source": [
    "#Agrupo resultados en una variable para seleccionar el modelo que usaré para la predicción final\n",
    "models = pd.DataFrame({\n",
    "    'Model': ['Support Vector Machines', 'KNN', 'Logistic Regression', \n",
    "              'Random Forest', 'Naive Bayes', 'Perceptron', \n",
    "              'Decision Tree'],\n",
    "    'Score': [acc_svc, acc_knn, acc_log, \n",
    "              acc_random_forest, acc_gaussian, acc_perceptron, \n",
    "              acc_decision_tree]})\n",
    "#Ordeno por resultado\n",
    "models.sort_values(by='Score', ascending=False)"
   ]
  },
  {
   "cell_type": "markdown",
   "metadata": {},
   "source": [
    "**Resultado:**\n",
    "\n",
    "De los modelos analizados 2 se aplican mejor a la predicción pero elegiré para la aplicación final a <font color=\"green\">Random Forest</font>"
   ]
  },
  {
   "cell_type": "code",
   "execution_count": 65,
   "metadata": {},
   "outputs": [
    {
     "name": "stdout",
     "output_type": "stream",
     "text": [
      "Archivo generado\n"
     ]
    }
   ],
   "source": [
    "#genero archivo de resultados del modelo que será leído luego de la ejecución del botón click \"Generar\" de la aplicación\n",
    "submission = pd.DataFrame({\n",
    "        \"IDMODELO\": datoscsv[\"IDMODELO\"],\n",
    "        \"IDTIPOCUERPO\": datoscsv[\"IDTIPOCUERPO\"],\n",
    "        \"PRENDAAPTA\": Y_pred\n",
    "    })\n",
    "submission.to_csv('C:/Users/David/Dropbox/AI SATURDAYS 2020/PROYECTO FINAL/DSPantManPredicted.csv', index=False)\n",
    "\n",
    "\n",
    "print('Archivo generado')"
   ]
  }
 ],
 "metadata": {
  "kernelspec": {
   "display_name": "Python 3",
   "language": "python",
   "name": "python3"
  },
  "language_info": {
   "codemirror_mode": {
    "name": "ipython",
    "version": 3
   },
   "file_extension": ".py",
   "mimetype": "text/x-python",
   "name": "python",
   "nbconvert_exporter": "python",
   "pygments_lexer": "ipython3",
   "version": "3.7.6"
  }
 },
 "nbformat": 4,
 "nbformat_minor": 4
}
