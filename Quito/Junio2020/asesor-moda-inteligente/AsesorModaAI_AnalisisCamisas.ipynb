{
 "cells": [
  {
   "cell_type": "markdown",
   "metadata": {},
   "source": [
    "<font color='#d90fa0'><b>ASESOR DE MODA - PREDICCIÓN DE CAMISA DE HOMBRE</b></font>\n",
    "\n",
    "Para el análisis del asesor de moda se generará el archivo resultante de la predicción la prenda tipo CAMISA_HOMBRE por tipo de cuerpo en ésta sección.\n",
    "\n",
    "Agregar librerías"
   ]
  },
  {
   "cell_type": "code",
   "execution_count": 220,
   "metadata": {},
   "outputs": [],
   "source": [
    "#Importamos librerías\n",
    "\n",
    "import pandas as pd\n",
    "import seaborn as sns\n",
    "from sklearn.linear_model import LogisticRegression\n",
    "from sklearn.svm import SVC, LinearSVC\n",
    "from sklearn.ensemble import RandomForestClassifier\n",
    "from sklearn.neighbors import KNeighborsClassifier\n",
    "from sklearn.naive_bayes import GaussianNB\n",
    "from sklearn.linear_model import Perceptron\n",
    "from sklearn.linear_model import SGDClassifier\n",
    "from sklearn.tree import DecisionTreeClassifier\n",
    "from sklearn.metrics import mean_absolute_error\n",
    "from sklearn.model_selection import train_test_split"
   ]
  },
  {
   "cell_type": "code",
   "execution_count": 221,
   "metadata": {},
   "outputs": [
    {
     "name": "stdout",
     "output_type": "stream",
     "text": [
      "(360, 15)\n"
     ]
    }
   ],
   "source": [
    "#Leer archivo\n",
    "datoscsv = pd.read_csv(\"C:\\\\Users\\\\Marco Chiluiza DELL\\\\Desktop\\\\Asesor de moda\\\\asesor_moda_demoday_ai6\\\\DemoDayAsesorModa\\\\dataset\\DsGCamisa.csv\",encoding='unicode_escape')\n",
    "print(datoscsv.shape)"
   ]
  },
  {
   "cell_type": "code",
   "execution_count": 222,
   "metadata": {},
   "outputs": [
    {
     "name": "stdout",
     "output_type": "stream",
     "text": [
      "<class 'pandas.core.frame.DataFrame'>\n",
      "RangeIndex: 360 entries, 0 to 359\n",
      "Data columns (total 15 columns):\n",
      "SEXO              360 non-null object\n",
      "ID_SEXO           360 non-null int64\n",
      "TIPO_CUERPO       360 non-null object\n",
      "ID_TIPO_CUERPO    360 non-null int64\n",
      "TIPO              360 non-null object\n",
      "ID_TIPO           360 non-null int64\n",
      "MODELO            360 non-null object\n",
      "ID_MODELO         360 non-null int64\n",
      "PATRON            360 non-null object\n",
      "ID_PATRON         360 non-null int64\n",
      "CORTE             360 non-null object\n",
      "ID_CORTE          360 non-null int64\n",
      "TONO/COLOR        360 non-null object\n",
      "ID_TONO           360 non-null int64\n",
      "PRENDA_APTA       360 non-null int64\n",
      "dtypes: int64(8), object(7)\n",
      "memory usage: 42.3+ KB\n"
     ]
    }
   ],
   "source": [
    "#Reviso estructura de información\n",
    "datoscsv.info()"
   ]
  },
  {
   "cell_type": "code",
   "execution_count": 223,
   "metadata": {},
   "outputs": [
    {
     "data": {
      "text/html": [
       "<div>\n",
       "<style scoped>\n",
       "    .dataframe tbody tr th:only-of-type {\n",
       "        vertical-align: middle;\n",
       "    }\n",
       "\n",
       "    .dataframe tbody tr th {\n",
       "        vertical-align: top;\n",
       "    }\n",
       "\n",
       "    .dataframe thead th {\n",
       "        text-align: right;\n",
       "    }\n",
       "</style>\n",
       "<table border=\"1\" class=\"dataframe\">\n",
       "  <thead>\n",
       "    <tr style=\"text-align: right;\">\n",
       "      <th></th>\n",
       "      <th>SEXO</th>\n",
       "      <th>ID_SEXO</th>\n",
       "      <th>TIPO_CUERPO</th>\n",
       "      <th>ID_TIPO_CUERPO</th>\n",
       "      <th>TIPO</th>\n",
       "      <th>ID_TIPO</th>\n",
       "      <th>MODELO</th>\n",
       "      <th>ID_MODELO</th>\n",
       "      <th>PATRON</th>\n",
       "      <th>ID_PATRON</th>\n",
       "      <th>CORTE</th>\n",
       "      <th>ID_CORTE</th>\n",
       "      <th>TONO/COLOR</th>\n",
       "      <th>ID_TONO</th>\n",
       "      <th>PRENDA_APTA</th>\n",
       "    </tr>\n",
       "  </thead>\n",
       "  <tbody>\n",
       "    <tr>\n",
       "      <td>0</td>\n",
       "      <td>HOMBRE</td>\n",
       "      <td>0</td>\n",
       "      <td>TIPO V</td>\n",
       "      <td>6</td>\n",
       "      <td>CAMISA</td>\n",
       "      <td>6</td>\n",
       "      <td>Llano Classic fit Brillante 1</td>\n",
       "      <td>1</td>\n",
       "      <td>Llano</td>\n",
       "      <td>1</td>\n",
       "      <td>Classic fit</td>\n",
       "      <td>1</td>\n",
       "      <td>Brillante</td>\n",
       "      <td>1</td>\n",
       "      <td>0</td>\n",
       "    </tr>\n",
       "    <tr>\n",
       "      <td>1</td>\n",
       "      <td>HOMBRE</td>\n",
       "      <td>0</td>\n",
       "      <td>TIPO V</td>\n",
       "      <td>6</td>\n",
       "      <td>CAMISA</td>\n",
       "      <td>6</td>\n",
       "      <td>Llano Classic fit Oscuro 2</td>\n",
       "      <td>2</td>\n",
       "      <td>Llano</td>\n",
       "      <td>1</td>\n",
       "      <td>Classic fit</td>\n",
       "      <td>1</td>\n",
       "      <td>Oscuro</td>\n",
       "      <td>2</td>\n",
       "      <td>0</td>\n",
       "    </tr>\n",
       "    <tr>\n",
       "      <td>2</td>\n",
       "      <td>HOMBRE</td>\n",
       "      <td>0</td>\n",
       "      <td>TIPO V</td>\n",
       "      <td>6</td>\n",
       "      <td>CAMISA</td>\n",
       "      <td>6</td>\n",
       "      <td>Llano Classic fit Neutro 3</td>\n",
       "      <td>3</td>\n",
       "      <td>Llano</td>\n",
       "      <td>1</td>\n",
       "      <td>Classic fit</td>\n",
       "      <td>1</td>\n",
       "      <td>Neutro</td>\n",
       "      <td>3</td>\n",
       "      <td>0</td>\n",
       "    </tr>\n",
       "    <tr>\n",
       "      <td>3</td>\n",
       "      <td>HOMBRE</td>\n",
       "      <td>0</td>\n",
       "      <td>TIPO V</td>\n",
       "      <td>6</td>\n",
       "      <td>CAMISA</td>\n",
       "      <td>6</td>\n",
       "      <td>Llano Regular fit Brillante 4</td>\n",
       "      <td>4</td>\n",
       "      <td>Llano</td>\n",
       "      <td>1</td>\n",
       "      <td>Regular fit</td>\n",
       "      <td>2</td>\n",
       "      <td>Brillante</td>\n",
       "      <td>1</td>\n",
       "      <td>1</td>\n",
       "    </tr>\n",
       "    <tr>\n",
       "      <td>4</td>\n",
       "      <td>HOMBRE</td>\n",
       "      <td>0</td>\n",
       "      <td>TIPO V</td>\n",
       "      <td>6</td>\n",
       "      <td>CAMISA</td>\n",
       "      <td>6</td>\n",
       "      <td>Llano Regular fit Oscuro 5</td>\n",
       "      <td>5</td>\n",
       "      <td>Llano</td>\n",
       "      <td>1</td>\n",
       "      <td>Regular fit</td>\n",
       "      <td>2</td>\n",
       "      <td>Oscuro</td>\n",
       "      <td>2</td>\n",
       "      <td>1</td>\n",
       "    </tr>\n",
       "  </tbody>\n",
       "</table>\n",
       "</div>"
      ],
      "text/plain": [
       "     SEXO  ID_SEXO TIPO_CUERPO  ID_TIPO_CUERPO    TIPO  ID_TIPO  \\\n",
       "0  HOMBRE        0      TIPO V               6  CAMISA        6   \n",
       "1  HOMBRE        0      TIPO V               6  CAMISA        6   \n",
       "2  HOMBRE        0      TIPO V               6  CAMISA        6   \n",
       "3  HOMBRE        0      TIPO V               6  CAMISA        6   \n",
       "4  HOMBRE        0      TIPO V               6  CAMISA        6   \n",
       "\n",
       "                          MODELO  ID_MODELO PATRON  ID_PATRON        CORTE  \\\n",
       "0  Llano Classic fit Brillante 1          1  Llano          1  Classic fit   \n",
       "1     Llano Classic fit Oscuro 2          2  Llano          1  Classic fit   \n",
       "2     Llano Classic fit Neutro 3          3  Llano          1  Classic fit   \n",
       "3  Llano Regular fit Brillante 4          4  Llano          1  Regular fit   \n",
       "4     Llano Regular fit Oscuro 5          5  Llano          1  Regular fit   \n",
       "\n",
       "   ID_CORTE TONO/COLOR  ID_TONO  PRENDA_APTA  \n",
       "0         1  Brillante        1            0  \n",
       "1         1     Oscuro        2            0  \n",
       "2         1     Neutro        3            0  \n",
       "3         2  Brillante        1            1  \n",
       "4         2     Oscuro        2            1  "
      ]
     },
     "execution_count": 223,
     "metadata": {},
     "output_type": "execute_result"
    }
   ],
   "source": [
    "#Reviso datos de archivo desde cabecera\n",
    "datoscsv.head()"
   ]
  },
  {
   "cell_type": "code",
   "execution_count": 224,
   "metadata": {},
   "outputs": [],
   "source": [
    "#armo mi dataset temporal que me ayudará a cambiar los valores string por valores numéricos\n",
    "FullDataSet = [datoscsv]"
   ]
  },
  {
   "cell_type": "code",
   "execution_count": 225,
   "metadata": {},
   "outputs": [
    {
     "name": "stdout",
     "output_type": "stream",
     "text": [
      "Empty DataFrame\n",
      "Columns: [DATASET]\n",
      "Index: []\n"
     ]
    }
   ],
   "source": [
    "#reviso los campos en busca de valores Nulos (Nan)\n",
    "campoConNulos = pd.concat([datoscsv.isnull().sum()], axis=1, keys=['DATASET']) \n",
    "print(campoConNulos[campoConNulos.sum(axis=1) > 0])"
   ]
  },
  {
   "cell_type": "code",
   "execution_count": 226,
   "metadata": {},
   "outputs": [],
   "source": [
    "#elimino campos tipo string de dataset\n",
    "#datoscsv = datoscsv.drop(['SEXO', 'TIPO_CUERPO', 'TIPO', 'MODELO', \"PATRON\", \"CORTE\",\"TONO/COLOR\"], axis=1)"
   ]
  },
  {
   "cell_type": "code",
   "execution_count": 227,
   "metadata": {},
   "outputs": [],
   "source": [
    "#reviso tipo de datos final\n",
    "#datoscsv.info()"
   ]
  },
  {
   "cell_type": "code",
   "execution_count": 228,
   "metadata": {},
   "outputs": [
    {
     "name": "stdout",
     "output_type": "stream",
     "text": [
      "['SEXO' 'ID_SEXO' 'TIPO_CUERPO' 'ID_TIPO_CUERPO' 'TIPO' 'ID_TIPO' 'MODELO'\n",
      " 'ID_MODELO' 'PATRON' 'ID_PATRON' 'CORTE' 'ID_CORTE' 'TONO/COLOR'\n",
      " 'ID_TONO' 'PRENDA_APTA']\n"
     ]
    }
   ],
   "source": [
    "#revisión de columnas de dataset\n",
    "print(datoscsv.columns.values)"
   ]
  },
  {
   "cell_type": "code",
   "execution_count": 229,
   "metadata": {},
   "outputs": [],
   "source": [
    "#Subdividimos en #Seleccionamos las variables que vamos a utilizar\n",
    "\n",
    "features_forX = ['ID_SEXO', 'ID_TIPO_CUERPO' ,'ID_TIPO', 'ID_MODELO', 'ID_PATRON', 'ID_CORTE', 'ID_TONO' ]"
   ]
  },
  {
   "cell_type": "code",
   "execution_count": 230,
   "metadata": {},
   "outputs": [],
   "source": [
    "#Establecemos data set de variables a predecir\n",
    "X=datoscsv[features_forX]\n",
    "y=datoscsv[\"PRENDA_APTA\"]\n",
    "X_train, X_test, Y_train, Y_test = train_test_split(X, y,  test_size=0.2, random_state=42)"
   ]
  },
  {
   "cell_type": "code",
   "execution_count": 231,
   "metadata": {},
   "outputs": [],
   "source": [
    "#Análisis de Algoritmos"
   ]
  },
  {
   "cell_type": "code",
   "execution_count": 232,
   "metadata": {},
   "outputs": [
    {
     "name": "stderr",
     "output_type": "stream",
     "text": [
      "C:\\Users\\Marco Chiluiza DELL\\Anaconda3\\lib\\site-packages\\sklearn\\linear_model\\logistic.py:432: FutureWarning: Default solver will be changed to 'lbfgs' in 0.22. Specify a solver to silence this warning.\n",
      "  FutureWarning)\n"
     ]
    }
   ],
   "source": [
    "#Logistic Regression\n",
    "logreg = LogisticRegression()\n",
    "logreg.fit(X_train, Y_train)\n",
    "Y_pred = logreg.predict(X_test)\n",
    "acc_log = round(logreg.score(X_train, Y_train) * 100, 2)\n",
    "mean_absolute_error_log=mean_absolute_error(Y_test,Y_pred)"
   ]
  },
  {
   "cell_type": "code",
   "execution_count": 233,
   "metadata": {},
   "outputs": [
    {
     "name": "stderr",
     "output_type": "stream",
     "text": [
      "C:\\Users\\Marco Chiluiza DELL\\Anaconda3\\lib\\site-packages\\sklearn\\svm\\base.py:193: FutureWarning: The default value of gamma will change from 'auto' to 'scale' in version 0.22 to account better for unscaled features. Set gamma explicitly to 'auto' or 'scale' to avoid this warning.\n",
      "  \"avoid this warning.\", FutureWarning)\n"
     ]
    }
   ],
   "source": [
    "#SVC\n",
    "svc = SVC()\n",
    "svc.fit(X_train, Y_train)\n",
    "Y_pred = svc.predict(X_test)\n",
    "acc_svc = round(svc.score(X_train, Y_train) * 100, 2)\n",
    "mean_absolute_error_svc=mean_absolute_error(Y_test,Y_pred)"
   ]
  },
  {
   "cell_type": "code",
   "execution_count": 234,
   "metadata": {},
   "outputs": [],
   "source": [
    "#KNeighborsClassifier\n",
    "knn = KNeighborsClassifier(n_neighbors = 5)\n",
    "knn.fit(X_train, Y_train)\n",
    "Y_pred = knn.predict(X_test)\n",
    "acc_knn = round(knn.score(X_train, Y_train) * 100, 2)\n",
    "mean_absolute_error_knn=mean_absolute_error(Y_test,Y_pred)"
   ]
  },
  {
   "cell_type": "code",
   "execution_count": 235,
   "metadata": {},
   "outputs": [],
   "source": [
    "#GaussianNB\n",
    "gaussian = GaussianNB()\n",
    "gaussian.fit(X_train, Y_train)\n",
    "Y_pred = gaussian.predict(X_test)\n",
    "acc_gaussian = round(gaussian.score(X_train, Y_train) * 100, 2)\n",
    "mean_absolute_error_gaussian=mean_absolute_error(Y_test,Y_pred)"
   ]
  },
  {
   "cell_type": "code",
   "execution_count": 236,
   "metadata": {},
   "outputs": [],
   "source": [
    "#Perceptron\n",
    "perceptron = Perceptron()\n",
    "perceptron.fit(X_train, Y_train)\n",
    "Y_pred = perceptron.predict(X_test)\n",
    "acc_perceptron = round(perceptron.score(X_train, Y_train) * 100, 2)\n",
    "mean_absolute_error_perceptron=mean_absolute_error(Y_test,Y_pred)"
   ]
  },
  {
   "cell_type": "code",
   "execution_count": 237,
   "metadata": {},
   "outputs": [],
   "source": [
    "#DecisionTreeClassifier\n",
    "decision_tree = DecisionTreeClassifier()\n",
    "decision_tree.fit(X_train, Y_train)\n",
    "Y_pred = decision_tree.predict(X_test)\n",
    "acc_decision_tree = round(decision_tree.score(X_train, Y_train) * 100, 2)\n",
    "mean_absolute_error_decision_tree=mean_absolute_error(Y_test,Y_pred)"
   ]
  },
  {
   "cell_type": "code",
   "execution_count": 238,
   "metadata": {},
   "outputs": [],
   "source": [
    "#RandomForestClassifier\n",
    "random_forest = RandomForestClassifier(n_estimators=100)\n",
    "random_forest.fit(X_train, Y_train)\n",
    "Y_pred = random_forest.predict(X_test)\n",
    "random_forest.score(X_train, Y_train)\n",
    "acc_random_forest = round(random_forest.score(X_train, Y_train) * 100, 2)\n",
    "mean_absolute_error_random_forest=mean_absolute_error(Y_test,Y_pred)"
   ]
  },
  {
   "cell_type": "code",
   "execution_count": 239,
   "metadata": {},
   "outputs": [
    {
     "data": {
      "text/html": [
       "<div>\n",
       "<style scoped>\n",
       "    .dataframe tbody tr th:only-of-type {\n",
       "        vertical-align: middle;\n",
       "    }\n",
       "\n",
       "    .dataframe tbody tr th {\n",
       "        vertical-align: top;\n",
       "    }\n",
       "\n",
       "    .dataframe thead th {\n",
       "        text-align: right;\n",
       "    }\n",
       "</style>\n",
       "<table border=\"1\" class=\"dataframe\">\n",
       "  <thead>\n",
       "    <tr style=\"text-align: right;\">\n",
       "      <th></th>\n",
       "      <th>Model</th>\n",
       "      <th>Score</th>\n",
       "      <th>Mean Absolute Error</th>\n",
       "    </tr>\n",
       "  </thead>\n",
       "  <tbody>\n",
       "    <tr>\n",
       "      <td>3</td>\n",
       "      <td>Random Forest</td>\n",
       "      <td>100.00</td>\n",
       "      <td>0.125000</td>\n",
       "    </tr>\n",
       "    <tr>\n",
       "      <td>6</td>\n",
       "      <td>Decision Tree</td>\n",
       "      <td>100.00</td>\n",
       "      <td>0.083333</td>\n",
       "    </tr>\n",
       "    <tr>\n",
       "      <td>0</td>\n",
       "      <td>Support Vector Machines</td>\n",
       "      <td>79.17</td>\n",
       "      <td>0.319444</td>\n",
       "    </tr>\n",
       "    <tr>\n",
       "      <td>4</td>\n",
       "      <td>Naive Bayes</td>\n",
       "      <td>76.04</td>\n",
       "      <td>0.291667</td>\n",
       "    </tr>\n",
       "    <tr>\n",
       "      <td>1</td>\n",
       "      <td>KNN</td>\n",
       "      <td>75.00</td>\n",
       "      <td>0.263889</td>\n",
       "    </tr>\n",
       "    <tr>\n",
       "      <td>2</td>\n",
       "      <td>Logistic Regression</td>\n",
       "      <td>73.96</td>\n",
       "      <td>0.305556</td>\n",
       "    </tr>\n",
       "    <tr>\n",
       "      <td>5</td>\n",
       "      <td>Perceptron</td>\n",
       "      <td>32.99</td>\n",
       "      <td>0.583333</td>\n",
       "    </tr>\n",
       "  </tbody>\n",
       "</table>\n",
       "</div>"
      ],
      "text/plain": [
       "                     Model   Score  Mean Absolute Error\n",
       "3            Random Forest  100.00             0.125000\n",
       "6            Decision Tree  100.00             0.083333\n",
       "0  Support Vector Machines   79.17             0.319444\n",
       "4              Naive Bayes   76.04             0.291667\n",
       "1                      KNN   75.00             0.263889\n",
       "2      Logistic Regression   73.96             0.305556\n",
       "5               Perceptron   32.99             0.583333"
      ]
     },
     "execution_count": 239,
     "metadata": {},
     "output_type": "execute_result"
    }
   ],
   "source": [
    "#Agrupo resultados en una variable para seleccionar el modelo que usaré para la predicción final\n",
    "models = pd.DataFrame({\n",
    "    'Model': ['Support Vector Machines',\n",
    "              'KNN',\n",
    "              'Logistic Regression',\n",
    "              'Random Forest',\n",
    "              'Naive Bayes',\n",
    "              'Perceptron', \n",
    "              'Decision Tree'],\n",
    "    'Score': [acc_svc,\n",
    "              acc_knn, \n",
    "              acc_log, \n",
    "              acc_random_forest, \n",
    "              acc_gaussian, \n",
    "              acc_perceptron, \n",
    "              acc_decision_tree],\n",
    "    'Mean Absolute Error': [mean_absolute_error_svc, \n",
    "                            mean_absolute_error_knn, \n",
    "                            mean_absolute_error_log,\n",
    "                            mean_absolute_error_random_forest, \n",
    "                            mean_absolute_error_gaussian, \n",
    "                            mean_absolute_error_perceptron,\n",
    "                            mean_absolute_error_decision_tree]})\n",
    "#Ordeno por resultado\n",
    "models.sort_values(by='Score', ascending=False)"
   ]
  },
  {
   "cell_type": "code",
   "execution_count": 240,
   "metadata": {},
   "outputs": [
    {
     "name": "stdout",
     "output_type": "stream",
     "text": [
      "0.016666666666666666\n"
     ]
    }
   ],
   "source": [
    "#Resultado: Se trabajará con el modelo de Decision Tree debido a que \n",
    "#posee un buen accurancy del 100 % y un mae de 0.09, es decir tiene mejor\n",
    "#desempeño que el modelo de Random Forest. \n",
    "\n",
    "Y_final = decision_tree.predict(X)\n",
    "mean_absolute_error_final=mean_absolute_error(y,Y_final)\n",
    "print(mean_absolute_error_final)"
   ]
  },
  {
   "cell_type": "code",
   "execution_count": 242,
   "metadata": {},
   "outputs": [
    {
     "name": "stdout",
     "output_type": "stream",
     "text": [
      "Archivo generado\n"
     ]
    }
   ],
   "source": [
    "#genero archivo de resultados del modelo que será leído luego de la ejecución del botón click \"Generar\" de la aplicación\n",
    "submission = pd.DataFrame({\n",
    "        \"ID_TIPO_CUERPO\": datoscsv[\"ID_TIPO_CUERPO\"],\n",
    "        \"ID_MODELO\": datoscsv[\"ID_MODELO\"],\n",
    "        \"MODELO\": datoscsv[\"MODELO\"],\n",
    "        \"PRENDA_APTA\": Y_final\n",
    "    })\n",
    "submission.to_csv(\"C:\\\\Users\\\\Marco Chiluiza DELL\\\\Desktop\\\\Asesor de moda\\\\asesor_moda_demoday_ai6\\\\DemoDayAsesorModa\\\\dataset\\DsGCamisa_ModeloDecissionTree.csv\", index=False)\n",
    "\n",
    "print('Archivo generado')"
   ]
  }
 ],
 "metadata": {
  "kernelspec": {
   "display_name": "Python 3",
   "language": "python",
   "name": "python3"
  },
  "language_info": {
   "codemirror_mode": {
    "name": "ipython",
    "version": 3
   },
   "file_extension": ".py",
   "mimetype": "text/x-python",
   "name": "python",
   "nbconvert_exporter": "python",
   "pygments_lexer": "ipython3",
   "version": "3.7.6"
  }
 },
 "nbformat": 4,
 "nbformat_minor": 2
}
