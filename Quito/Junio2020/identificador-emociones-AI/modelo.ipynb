{
  "nbformat": 4,
  "nbformat_minor": 0,
  "metadata": {
    "colab": {
      "name": "Copia de Copia de 4.4 Final Model_2D CNN_Log Mel Spectogram_4L_65.ipynb",
      "provenance": [],
      "collapsed_sections": []
    },
    "kernelspec": {
      "display_name": "Python 3",
      "language": "python",
      "name": "python3"
    },
    "language_info": {
      "codemirror_mode": {
        "name": "ipython",
        "version": 3
      },
      "file_extension": ".py",
      "mimetype": "text/x-python",
      "name": "python",
      "nbconvert_exporter": "python",
      "pygments_lexer": "ipython3",
      "version": "3.7.4"
    },
    "widgets": {
      "application/vnd.jupyter.widget-state+json": {
        "9c06e37d3d2f464587647f589e8ddb01": {
          "model_module": "@jupyter-widgets/controls",
          "model_name": "HBoxModel",
          "state": {
            "_view_name": "HBoxView",
            "_dom_classes": [],
            "_model_name": "HBoxModel",
            "_view_module": "@jupyter-widgets/controls",
            "_model_module_version": "1.5.0",
            "_view_count": null,
            "_view_module_version": "1.5.0",
            "box_style": "",
            "layout": "IPY_MODEL_8035fe90b7ef4e408f1fb768f4fa0a40",
            "_model_module": "@jupyter-widgets/controls",
            "children": [
              "IPY_MODEL_4dc8b23682614072b165b38c6cf53439",
              "IPY_MODEL_8dfddb4d9b064d4b8e0508cb40b55d10"
            ]
          }
        },
        "8035fe90b7ef4e408f1fb768f4fa0a40": {
          "model_module": "@jupyter-widgets/base",
          "model_name": "LayoutModel",
          "state": {
            "_view_name": "LayoutView",
            "grid_template_rows": null,
            "right": null,
            "justify_content": null,
            "_view_module": "@jupyter-widgets/base",
            "overflow": null,
            "_model_module_version": "1.2.0",
            "_view_count": null,
            "flex_flow": null,
            "width": null,
            "min_width": null,
            "border": null,
            "align_items": null,
            "bottom": null,
            "_model_module": "@jupyter-widgets/base",
            "top": null,
            "grid_column": null,
            "overflow_y": null,
            "overflow_x": null,
            "grid_auto_flow": null,
            "grid_area": null,
            "grid_template_columns": null,
            "flex": null,
            "_model_name": "LayoutModel",
            "justify_items": null,
            "grid_row": null,
            "max_height": null,
            "align_content": null,
            "visibility": null,
            "align_self": null,
            "height": null,
            "min_height": null,
            "padding": null,
            "grid_auto_rows": null,
            "grid_gap": null,
            "max_width": null,
            "order": null,
            "_view_module_version": "1.2.0",
            "grid_template_areas": null,
            "object_position": null,
            "object_fit": null,
            "grid_auto_columns": null,
            "margin": null,
            "display": null,
            "left": null
          }
        },
        "4dc8b23682614072b165b38c6cf53439": {
          "model_module": "@jupyter-widgets/controls",
          "model_name": "FloatProgressModel",
          "state": {
            "_view_name": "ProgressView",
            "style": "IPY_MODEL_45d001198be0490a97854c78f5000c99",
            "_dom_classes": [],
            "description": "100%",
            "_model_name": "FloatProgressModel",
            "bar_style": "success",
            "max": 1248,
            "_view_module": "@jupyter-widgets/controls",
            "_model_module_version": "1.5.0",
            "value": 1248,
            "_view_count": null,
            "_view_module_version": "1.5.0",
            "orientation": "horizontal",
            "min": 0,
            "description_tooltip": null,
            "_model_module": "@jupyter-widgets/controls",
            "layout": "IPY_MODEL_7b48408b085340f49102a603d21ac616"
          }
        },
        "8dfddb4d9b064d4b8e0508cb40b55d10": {
          "model_module": "@jupyter-widgets/controls",
          "model_name": "HTMLModel",
          "state": {
            "_view_name": "HTMLView",
            "style": "IPY_MODEL_3d578a04ee6d4ca9818f407e52de5617",
            "_dom_classes": [],
            "description": "",
            "_model_name": "HTMLModel",
            "placeholder": "​",
            "_view_module": "@jupyter-widgets/controls",
            "_model_module_version": "1.5.0",
            "value": " 1248/1248 [14:51&lt;00:00,  1.40it/s]",
            "_view_count": null,
            "_view_module_version": "1.5.0",
            "description_tooltip": null,
            "_model_module": "@jupyter-widgets/controls",
            "layout": "IPY_MODEL_f9626e42a193480ea3173cd636c5bcf4"
          }
        },
        "45d001198be0490a97854c78f5000c99": {
          "model_module": "@jupyter-widgets/controls",
          "model_name": "ProgressStyleModel",
          "state": {
            "_view_name": "StyleView",
            "_model_name": "ProgressStyleModel",
            "description_width": "initial",
            "_view_module": "@jupyter-widgets/base",
            "_model_module_version": "1.5.0",
            "_view_count": null,
            "_view_module_version": "1.2.0",
            "bar_color": null,
            "_model_module": "@jupyter-widgets/controls"
          }
        },
        "7b48408b085340f49102a603d21ac616": {
          "model_module": "@jupyter-widgets/base",
          "model_name": "LayoutModel",
          "state": {
            "_view_name": "LayoutView",
            "grid_template_rows": null,
            "right": null,
            "justify_content": null,
            "_view_module": "@jupyter-widgets/base",
            "overflow": null,
            "_model_module_version": "1.2.0",
            "_view_count": null,
            "flex_flow": null,
            "width": null,
            "min_width": null,
            "border": null,
            "align_items": null,
            "bottom": null,
            "_model_module": "@jupyter-widgets/base",
            "top": null,
            "grid_column": null,
            "overflow_y": null,
            "overflow_x": null,
            "grid_auto_flow": null,
            "grid_area": null,
            "grid_template_columns": null,
            "flex": null,
            "_model_name": "LayoutModel",
            "justify_items": null,
            "grid_row": null,
            "max_height": null,
            "align_content": null,
            "visibility": null,
            "align_self": null,
            "height": null,
            "min_height": null,
            "padding": null,
            "grid_auto_rows": null,
            "grid_gap": null,
            "max_width": null,
            "order": null,
            "_view_module_version": "1.2.0",
            "grid_template_areas": null,
            "object_position": null,
            "object_fit": null,
            "grid_auto_columns": null,
            "margin": null,
            "display": null,
            "left": null
          }
        },
        "3d578a04ee6d4ca9818f407e52de5617": {
          "model_module": "@jupyter-widgets/controls",
          "model_name": "DescriptionStyleModel",
          "state": {
            "_view_name": "StyleView",
            "_model_name": "DescriptionStyleModel",
            "description_width": "",
            "_view_module": "@jupyter-widgets/base",
            "_model_module_version": "1.5.0",
            "_view_count": null,
            "_view_module_version": "1.2.0",
            "_model_module": "@jupyter-widgets/controls"
          }
        },
        "f9626e42a193480ea3173cd636c5bcf4": {
          "model_module": "@jupyter-widgets/base",
          "model_name": "LayoutModel",
          "state": {
            "_view_name": "LayoutView",
            "grid_template_rows": null,
            "right": null,
            "justify_content": null,
            "_view_module": "@jupyter-widgets/base",
            "overflow": null,
            "_model_module_version": "1.2.0",
            "_view_count": null,
            "flex_flow": null,
            "width": null,
            "min_width": null,
            "border": null,
            "align_items": null,
            "bottom": null,
            "_model_module": "@jupyter-widgets/base",
            "top": null,
            "grid_column": null,
            "overflow_y": null,
            "overflow_x": null,
            "grid_auto_flow": null,
            "grid_area": null,
            "grid_template_columns": null,
            "flex": null,
            "_model_name": "LayoutModel",
            "justify_items": null,
            "grid_row": null,
            "max_height": null,
            "align_content": null,
            "visibility": null,
            "align_self": null,
            "height": null,
            "min_height": null,
            "padding": null,
            "grid_auto_rows": null,
            "grid_gap": null,
            "max_width": null,
            "order": null,
            "_view_module_version": "1.2.0",
            "grid_template_areas": null,
            "object_position": null,
            "object_fit": null,
            "grid_auto_columns": null,
            "margin": null,
            "display": null,
            "left": null
          }
        }
      }
    }
  },
  "cells": [
    {
      "cell_type": "code",
      "metadata": {
        "colab_type": "code",
        "id": "svLyJ6kWeh0u",
        "outputId": "ebc8b88e-80f3-4556-8f26-4dabf0f86dc2",
        "colab": {
          "base_uri": "https://localhost:8080/",
          "height": 34
        }
      },
      "source": [
        "## Python\n",
        "import os\n",
        "import random\n",
        "import sys\n",
        "import warnings\n",
        "warnings.filterwarnings('ignore')\n",
        "\n",
        "\n",
        "## Package\n",
        "import glob \n",
        "import keras\n",
        "import IPython.display as ipd\n",
        "import librosa\n",
        "\n",
        "import librosa.display\n",
        "import matplotlib.pyplot as plt\n",
        "import numpy as np\n",
        "import pandas as pd\n",
        "import plotly.graph_objs as go\n",
        "import plotly.offline as py\n",
        "import plotly.tools as tls\n",
        "import seaborn as sns\n",
        "import scipy.io.wavfile\n",
        "import tensorflow as tf\n",
        "py.init_notebook_mode(connected=True)\n",
        "\n",
        "\n",
        "## Keras\n",
        "from keras import regularizers\n",
        "from keras.callbacks import ModelCheckpoint, LearningRateScheduler, EarlyStopping\n",
        "from keras.callbacks import  History, ReduceLROnPlateau, CSVLogger\n",
        "from keras.models import Model, Sequential\n",
        "from keras.layers import Dense, Embedding, LSTM\n",
        "from keras.layers import Input, Flatten, Dropout, Activation, BatchNormalization\n",
        "from keras.layers import Conv1D, MaxPooling1D, AveragePooling1D\n",
        "from keras.preprocessing import sequence\n",
        "from keras.preprocessing.sequence import pad_sequences\n",
        "from keras.preprocessing.text import Tokenizer\n",
        "from keras.utils import np_utils\n",
        "from keras.utils import to_categorical\n",
        "\n",
        "from keras.models import Model, Sequential\n",
        "from keras import optimizers\n",
        "from keras.layers import Input, Conv1D, Conv2D,BatchNormalization, MaxPooling1D,MaxPooling2D, LSTM, Dense, Activation, Layer,Reshape\n",
        "\n",
        "from keras.utils import to_categorical\n",
        "import keras.backend as K\n",
        "from keras.callbacks import EarlyStopping\n",
        "from keras.callbacks import ModelCheckpoint\n",
        "from keras.models import load_model\n",
        "\n",
        "\n",
        "## Sklearn\n",
        "from sklearn.metrics import confusion_matrix\n",
        "from sklearn.preprocessing import LabelEncoder\n",
        "from sklearn.model_selection import train_test_split\n",
        "\n",
        "\n",
        "## Rest\n",
        "from scipy.fftpack import fft\n",
        "from scipy import signal\n",
        "from scipy.io import wavfile\n",
        "from tqdm import tqdm_notebook as tqdm\n",
        "\n",
        "input_duration=3\n",
        "# % pylab inline"
      ],
      "execution_count": 0,
      "outputs": [
        {
          "output_type": "stream",
          "text": [
            "Using TensorFlow backend.\n"
          ],
          "name": "stderr"
        },
        {
          "output_type": "display_data",
          "data": {
            "text/html": [
              "        <script type=\"text/javascript\">\n",
              "        window.PlotlyConfig = {MathJaxConfig: 'local'};\n",
              "        if (window.MathJax) {MathJax.Hub.Config({SVG: {font: \"STIX-Web\"}});}\n",
              "        if (typeof require !== 'undefined') {\n",
              "        require.undef(\"plotly\");\n",
              "        requirejs.config({\n",
              "            paths: {\n",
              "                'plotly': ['https://cdn.plot.ly/plotly-latest.min']\n",
              "            }\n",
              "        });\n",
              "        require(['plotly'], function(Plotly) {\n",
              "            window._Plotly = Plotly;\n",
              "        });\n",
              "        }\n",
              "        </script>\n",
              "        "
            ]
          },
          "metadata": {
            "tags": []
          }
        }
      ]
    },
    {
      "cell_type": "code",
      "metadata": {
        "colab_type": "code",
        "id": "dfug9KpWepnp",
        "outputId": "e93ac6af-3ec4-434a-f54e-80cf3df42de2",
        "colab": {
          "base_uri": "https://localhost:8080/",
          "height": 122
        }
      },
      "source": [
        "from google.colab import drive\n",
        "drive.mount('/content/gdrive')"
      ],
      "execution_count": 0,
      "outputs": [
        {
          "output_type": "stream",
          "text": [
            "Go to this URL in a browser: https://accounts.google.com/o/oauth2/auth?client_id=947318989803-6bn6qk8qdgf4n4g3pfee6491hc0brc4i.apps.googleusercontent.com&redirect_uri=urn%3aietf%3awg%3aoauth%3a2.0%3aoob&response_type=code&scope=email%20https%3a%2f%2fwww.googleapis.com%2fauth%2fdocs.test%20https%3a%2f%2fwww.googleapis.com%2fauth%2fdrive%20https%3a%2f%2fwww.googleapis.com%2fauth%2fdrive.photos.readonly%20https%3a%2f%2fwww.googleapis.com%2fauth%2fpeopleapi.readonly\n",
            "\n",
            "Enter your authorization code:\n",
            "··········\n",
            "Mounted at /content/gdrive\n"
          ],
          "name": "stdout"
        }
      ]
    },
    {
      "cell_type": "markdown",
      "metadata": {
        "colab_type": "text",
        "id": "IE-sj8kzeh06"
      },
      "source": [
        "### RAVDESS DATASET"
      ]
    },
    {
      "cell_type": "code",
      "metadata": {
        "colab_type": "code",
        "id": "2vp3kOiHeh07",
        "outputId": "53d9f858-3704-4c01-f4ab-1214ee4bf1cf",
        "colab": {
          "base_uri": "https://localhost:8080/",
          "height": 54
        }
      },
      "source": [
        "# Data Directory\n",
        "# Please edit according to your directory change.\n",
        "Ravdess_paths= np.array((\"/content/gdrive/My Drive/Colab Notebooks/sound file/\"))\n",
        "dir_list = os.listdir(\"/content/gdrive/My Drive/Colab Notebooks/sound file/\")\n",
        "dir_list.sort()\n",
        "print (dir_list)"
      ],
      "execution_count": 0,
      "outputs": [
        {
          "output_type": "stream",
          "text": [
            "['Actor_01', 'Actor_02', 'Actor_03', 'Actor_04', 'Actor_05', 'Actor_06', 'Actor_07', 'Actor_08', 'Actor_09', 'Actor_10', 'Actor_11', 'Actor_12', 'Actor_13', 'Actor_14', 'Actor_15', 'Actor_16', 'Actor_17', 'Actor_18', 'Actor_19', 'Actor_20', 'Actor_21', 'Actor_22', 'Actor_23', 'Actor_24']\n"
          ],
          "name": "stdout"
        }
      ]
    },
    {
      "cell_type": "code",
      "metadata": {
        "colab_type": "code",
        "id": "-TLgCudzeh0-",
        "colab": {}
      },
      "source": [
        "# Create DataFrame for Data intel\n",
        "ravdess_db = pd.DataFrame(columns=['path','source','actor', 'gender', 'emotion','emotion_lb'])\n",
        "count = 0\n",
        "#for data_path in Ravdess_paths:\n",
        " #   dir_list = os.listdir(data_path)\n",
        "  #  dir_list.sort()\n",
        "for i in dir_list:\n",
        "        file_list = os.listdir(\"/content/gdrive/My Drive/Colab Notebooks/sound file/\" + i)\n",
        "        for f in file_list:\n",
        "            nm = f.split('.')[0].split('-')\n",
        "            path = \"/content/gdrive/My Drive/Colab Notebooks/sound file/\" + i + '/' + f\n",
        "            src = int(nm[1])\n",
        "            actor = int(nm[-1])\n",
        "            emotion = int(nm[2])\n",
        "            source = \"Ravdess\"\n",
        "\n",
        "            if int(actor)%2 == 0:\n",
        "                gender = \"female\"\n",
        "            else:\n",
        "                gender = \"male\"\n",
        "\n",
        "            if nm[3] == '01':\n",
        "                intensity = 0\n",
        "            else:\n",
        "                intensity = 1\n",
        "\n",
        "            if nm[4] == '01':\n",
        "                statement = 0\n",
        "            else:\n",
        "                statement = 1\n",
        "\n",
        "            if nm[5] == '01':\n",
        "                repeat = 0\n",
        "            else:\n",
        "                repeat = 1\n",
        "\n",
        "            if emotion == 1:\n",
        "                lb = \"neutral\"\n",
        "            elif emotion == 2:\n",
        "                lb = \"calm\"\n",
        "            elif emotion == 3:\n",
        "                lb = \"happy\"\n",
        "            elif emotion == 4:\n",
        "                lb = \"sad\"\n",
        "            elif emotion == 5:\n",
        "                lb = \"angry\"\n",
        "            elif emotion == 6:\n",
        "                lb = \"fearful\"\n",
        "            elif emotion == 7:\n",
        "                lb = \"disgust\"\n",
        "            elif emotion == 8:\n",
        "                lb = \"surprised\"\n",
        "            else:\n",
        "                lb = \"none\"\n",
        "\n",
        "            ravdess_db.loc[count] = [path,source,actor, gender, emotion,lb]\n",
        "            count += 1"
      ],
      "execution_count": 0,
      "outputs": []
    },
    {
      "cell_type": "code",
      "metadata": {
        "colab_type": "code",
        "id": "2WLe001Beh1A",
        "outputId": "248ed91d-c907-4b71-e833-fd1e543f95f4",
        "colab": {
          "base_uri": "https://localhost:8080/",
          "height": 204
        }
      },
      "source": [
        "ravdess_db.head()"
      ],
      "execution_count": 0,
      "outputs": [
        {
          "output_type": "execute_result",
          "data": {
            "text/html": [
              "<div>\n",
              "<style scoped>\n",
              "    .dataframe tbody tr th:only-of-type {\n",
              "        vertical-align: middle;\n",
              "    }\n",
              "\n",
              "    .dataframe tbody tr th {\n",
              "        vertical-align: top;\n",
              "    }\n",
              "\n",
              "    .dataframe thead th {\n",
              "        text-align: right;\n",
              "    }\n",
              "</style>\n",
              "<table border=\"1\" class=\"dataframe\">\n",
              "  <thead>\n",
              "    <tr style=\"text-align: right;\">\n",
              "      <th></th>\n",
              "      <th>path</th>\n",
              "      <th>source</th>\n",
              "      <th>actor</th>\n",
              "      <th>gender</th>\n",
              "      <th>emotion</th>\n",
              "      <th>emotion_lb</th>\n",
              "    </tr>\n",
              "  </thead>\n",
              "  <tbody>\n",
              "    <tr>\n",
              "      <th>0</th>\n",
              "      <td>/content/gdrive/My Drive/Colab Notebooks/sound...</td>\n",
              "      <td>Ravdess</td>\n",
              "      <td>1</td>\n",
              "      <td>male</td>\n",
              "      <td>1</td>\n",
              "      <td>neutral</td>\n",
              "    </tr>\n",
              "    <tr>\n",
              "      <th>1</th>\n",
              "      <td>/content/gdrive/My Drive/Colab Notebooks/sound...</td>\n",
              "      <td>Ravdess</td>\n",
              "      <td>1</td>\n",
              "      <td>male</td>\n",
              "      <td>4</td>\n",
              "      <td>sad</td>\n",
              "    </tr>\n",
              "    <tr>\n",
              "      <th>2</th>\n",
              "      <td>/content/gdrive/My Drive/Colab Notebooks/sound...</td>\n",
              "      <td>Ravdess</td>\n",
              "      <td>1</td>\n",
              "      <td>male</td>\n",
              "      <td>7</td>\n",
              "      <td>disgust</td>\n",
              "    </tr>\n",
              "    <tr>\n",
              "      <th>3</th>\n",
              "      <td>/content/gdrive/My Drive/Colab Notebooks/sound...</td>\n",
              "      <td>Ravdess</td>\n",
              "      <td>1</td>\n",
              "      <td>male</td>\n",
              "      <td>4</td>\n",
              "      <td>sad</td>\n",
              "    </tr>\n",
              "    <tr>\n",
              "      <th>4</th>\n",
              "      <td>/content/gdrive/My Drive/Colab Notebooks/sound...</td>\n",
              "      <td>Ravdess</td>\n",
              "      <td>1</td>\n",
              "      <td>male</td>\n",
              "      <td>2</td>\n",
              "      <td>calm</td>\n",
              "    </tr>\n",
              "  </tbody>\n",
              "</table>\n",
              "</div>"
            ],
            "text/plain": [
              "                                                path  ... emotion_lb\n",
              "0  /content/gdrive/My Drive/Colab Notebooks/sound...  ...    neutral\n",
              "1  /content/gdrive/My Drive/Colab Notebooks/sound...  ...        sad\n",
              "2  /content/gdrive/My Drive/Colab Notebooks/sound...  ...    disgust\n",
              "3  /content/gdrive/My Drive/Colab Notebooks/sound...  ...        sad\n",
              "4  /content/gdrive/My Drive/Colab Notebooks/sound...  ...       calm\n",
              "\n",
              "[5 rows x 6 columns]"
            ]
          },
          "metadata": {
            "tags": []
          },
          "execution_count": 5
        }
      ]
    },
    {
      "cell_type": "code",
      "metadata": {
        "colab_type": "code",
        "id": "PDe7cKqBJYTM",
        "colab": {}
      },
      "source": [
        "ravdess_db.to_csv(\"/content/gdrive/My Drive/Colab Notebooks/list.csv\")"
      ],
      "execution_count": 0,
      "outputs": []
    },
    {
      "cell_type": "code",
      "metadata": {
        "colab_type": "code",
        "id": "_gpkCT_Veh1G",
        "colab": {}
      },
      "source": [
        "ravdess_db['split'] =  np.where((ravdess_db.actor ==23) | (ravdess_db.actor ==24), 'Test', \n",
        "                                (np.where((ravdess_db.actor ==21) | (ravdess_db.actor ==22),'Val','Train')))"
      ],
      "execution_count": 0,
      "outputs": []
    },
    {
      "cell_type": "code",
      "metadata": {
        "colab_type": "code",
        "id": "YkcwYEdAeh1N",
        "outputId": "8b6f86c7-791c-4f55-f5e8-4944e8f2ecfb",
        "scrolled": true,
        "colab": {
          "base_uri": "https://localhost:8080/",
          "height": 85
        }
      },
      "source": [
        "ravdess_db['split'].value_counts()"
      ],
      "execution_count": 0,
      "outputs": [
        {
          "output_type": "execute_result",
          "data": {
            "text/plain": [
              "Train    1200\n",
              "Val       120\n",
              "Test      120\n",
              "Name: split, dtype: int64"
            ]
          },
          "metadata": {
            "tags": []
          },
          "execution_count": 8
        }
      ]
    },
    {
      "cell_type": "code",
      "metadata": {
        "colab_type": "code",
        "id": "BfDFYdUBeh1w",
        "colab": {}
      },
      "source": [
        "ravdess_db.drop(ravdess_db.index[ravdess_db['emotion_lb'] == 'surprised'], inplace = True)\n",
        "ravdess_db.loc[ravdess_db.emotion_lb=='calm',['emotion','emotion_lb']]= 1,'neutral'"
      ],
      "execution_count": 0,
      "outputs": []
    },
    {
      "cell_type": "code",
      "metadata": {
        "colab_type": "code",
        "id": "V9C6dPaBeh1y",
        "outputId": "e682fed3-571a-4bcb-e7da-2fb99aa0004b",
        "scrolled": true,
        "colab": {
          "base_uri": "https://localhost:8080/",
          "height": 136
        }
      },
      "source": [
        "ravdess_db.emotion_lb.value_counts()"
      ],
      "execution_count": 0,
      "outputs": [
        {
          "output_type": "execute_result",
          "data": {
            "text/plain": [
              "neutral    288\n",
              "sad        192\n",
              "disgust    192\n",
              "fearful    192\n",
              "angry      192\n",
              "happy      192\n",
              "Name: emotion_lb, dtype: int64"
            ]
          },
          "metadata": {
            "tags": []
          },
          "execution_count": 10
        }
      ]
    },
    {
      "cell_type": "code",
      "metadata": {
        "colab_type": "code",
        "id": "nGPMzh--eh12",
        "colab": {}
      },
      "source": [
        "dataset_db = ravdess_db.copy()"
      ],
      "execution_count": 0,
      "outputs": []
    },
    {
      "cell_type": "code",
      "metadata": {
        "colab_type": "code",
        "id": "AbGx6rnOeh14",
        "scrolled": true,
        "colab": {}
      },
      "source": [
        "dataset_db.emotion_lb = dataset_db.gender+\"_\"+dataset_db.emotion_lb"
      ],
      "execution_count": 0,
      "outputs": []
    },
    {
      "cell_type": "code",
      "metadata": {
        "colab_type": "code",
        "id": "8d01OXvFeh19",
        "colab": {}
      },
      "source": [
        "dataset_db.index=range(len(dataset_db.index))"
      ],
      "execution_count": 0,
      "outputs": []
    },
    {
      "cell_type": "code",
      "metadata": {
        "colab_type": "code",
        "id": "ao4u5EyCv8dj",
        "colab": {}
      },
      "source": [
        "dataset_db.to_csv(\"/content/gdrive/My Drive/Colab Notebooks/list2.csv\")"
      ],
      "execution_count": 0,
      "outputs": []
    },
    {
      "cell_type": "code",
      "metadata": {
        "colab_type": "code",
        "id": "FGGpdTc7eh2B",
        "outputId": "e24532e8-94f5-4729-a228-9726b80c4008",
        "scrolled": false,
        "colab": {
          "base_uri": "https://localhost:8080/",
          "height": 204
        }
      },
      "source": [
        "dataset_db.emotion_lb.value_counts()\n",
        "dataset_db.sort_values(by=['path'], inplace=True)\n",
        "dataset_db.head()"
      ],
      "execution_count": 0,
      "outputs": [
        {
          "output_type": "execute_result",
          "data": {
            "text/html": [
              "<div>\n",
              "<style scoped>\n",
              "    .dataframe tbody tr th:only-of-type {\n",
              "        vertical-align: middle;\n",
              "    }\n",
              "\n",
              "    .dataframe tbody tr th {\n",
              "        vertical-align: top;\n",
              "    }\n",
              "\n",
              "    .dataframe thead th {\n",
              "        text-align: right;\n",
              "    }\n",
              "</style>\n",
              "<table border=\"1\" class=\"dataframe\">\n",
              "  <thead>\n",
              "    <tr style=\"text-align: right;\">\n",
              "      <th></th>\n",
              "      <th>path</th>\n",
              "      <th>source</th>\n",
              "      <th>actor</th>\n",
              "      <th>gender</th>\n",
              "      <th>emotion</th>\n",
              "      <th>emotion_lb</th>\n",
              "      <th>split</th>\n",
              "    </tr>\n",
              "  </thead>\n",
              "  <tbody>\n",
              "    <tr>\n",
              "      <th>29</th>\n",
              "      <td>/content/gdrive/My Drive/Colab Notebooks/sound...</td>\n",
              "      <td>Ravdess</td>\n",
              "      <td>1</td>\n",
              "      <td>male</td>\n",
              "      <td>1</td>\n",
              "      <td>male_neutral</td>\n",
              "      <td>Train</td>\n",
              "    </tr>\n",
              "    <tr>\n",
              "      <th>0</th>\n",
              "      <td>/content/gdrive/My Drive/Colab Notebooks/sound...</td>\n",
              "      <td>Ravdess</td>\n",
              "      <td>1</td>\n",
              "      <td>male</td>\n",
              "      <td>1</td>\n",
              "      <td>male_neutral</td>\n",
              "      <td>Train</td>\n",
              "    </tr>\n",
              "    <tr>\n",
              "      <th>17</th>\n",
              "      <td>/content/gdrive/My Drive/Colab Notebooks/sound...</td>\n",
              "      <td>Ravdess</td>\n",
              "      <td>1</td>\n",
              "      <td>male</td>\n",
              "      <td>1</td>\n",
              "      <td>male_neutral</td>\n",
              "      <td>Train</td>\n",
              "    </tr>\n",
              "    <tr>\n",
              "      <th>7</th>\n",
              "      <td>/content/gdrive/My Drive/Colab Notebooks/sound...</td>\n",
              "      <td>Ravdess</td>\n",
              "      <td>1</td>\n",
              "      <td>male</td>\n",
              "      <td>1</td>\n",
              "      <td>male_neutral</td>\n",
              "      <td>Train</td>\n",
              "    </tr>\n",
              "    <tr>\n",
              "      <th>16</th>\n",
              "      <td>/content/gdrive/My Drive/Colab Notebooks/sound...</td>\n",
              "      <td>Ravdess</td>\n",
              "      <td>1</td>\n",
              "      <td>male</td>\n",
              "      <td>1</td>\n",
              "      <td>male_neutral</td>\n",
              "      <td>Train</td>\n",
              "    </tr>\n",
              "  </tbody>\n",
              "</table>\n",
              "</div>"
            ],
            "text/plain": [
              "                                                 path  ...  split\n",
              "29  /content/gdrive/My Drive/Colab Notebooks/sound...  ...  Train\n",
              "0   /content/gdrive/My Drive/Colab Notebooks/sound...  ...  Train\n",
              "17  /content/gdrive/My Drive/Colab Notebooks/sound...  ...  Train\n",
              "7   /content/gdrive/My Drive/Colab Notebooks/sound...  ...  Train\n",
              "16  /content/gdrive/My Drive/Colab Notebooks/sound...  ...  Train\n",
              "\n",
              "[5 rows x 7 columns]"
            ]
          },
          "metadata": {
            "tags": []
          },
          "execution_count": 15
        }
      ]
    },
    {
      "cell_type": "code",
      "metadata": {
        "colab_type": "code",
        "id": "DmL2My64eh2G",
        "colab": {}
      },
      "source": [
        "dataset_db.index = range(len(dataset_db.index))"
      ],
      "execution_count": 0,
      "outputs": []
    },
    {
      "cell_type": "code",
      "metadata": {
        "colab_type": "code",
        "id": "URLrbF5X2SxY",
        "outputId": "b0722d5a-a509-4918-aa2e-73b37985feed",
        "colab": {
          "base_uri": "https://localhost:8080/",
          "height": 34
        }
      },
      "source": [
        "dataset_db.shape"
      ],
      "execution_count": 0,
      "outputs": [
        {
          "output_type": "execute_result",
          "data": {
            "text/plain": [
              "(1248, 7)"
            ]
          },
          "metadata": {
            "tags": []
          },
          "execution_count": 17
        }
      ]
    },
    {
      "cell_type": "code",
      "metadata": {
        "colab_type": "code",
        "id": "Hviz76lreh2I",
        "colab": {}
      },
      "source": [
        "audio_duration = 3\n",
        "sampling_rate = 22050*2\n",
        "input_length = sampling_rate * audio_duration\n",
        "n_mfcc = 20"
      ],
      "execution_count": 0,
      "outputs": []
    },
    {
      "cell_type": "code",
      "metadata": {
        "colab_type": "code",
        "id": "7E2_Bp0Peh2L",
        "colab": {}
      },
      "source": [
        "data_sample= np.zeros(input_length)\n",
        "MFCC = librosa.feature.mfcc(data_sample, sr=sampling_rate, n_mfcc=n_mfcc)"
      ],
      "execution_count": 0,
      "outputs": []
    },
    {
      "cell_type": "code",
      "metadata": {
        "colab_type": "code",
        "id": "v6H7b2mBeh2O",
        "outputId": "eb13a1d6-b9d3-476b-9965-7c78e521c997",
        "colab": {
          "base_uri": "https://localhost:8080/",
          "height": 34
        }
      },
      "source": [
        "MFCC.shape"
      ],
      "execution_count": 0,
      "outputs": [
        {
          "output_type": "execute_result",
          "data": {
            "text/plain": [
              "(20, 259)"
            ]
          },
          "metadata": {
            "tags": []
          },
          "execution_count": 20
        }
      ]
    },
    {
      "cell_type": "code",
      "metadata": {
        "colab_type": "code",
        "id": "KWRCrxUmeh2Q",
        "outputId": "5c81ec87-0b45-4fdc-a013-3531d241b464",
        "colab": {
          "base_uri": "https://localhost:8080/",
          "height": 85
        }
      },
      "source": [
        "dataset_db.split.value_counts()"
      ],
      "execution_count": 0,
      "outputs": [
        {
          "output_type": "execute_result",
          "data": {
            "text/plain": [
              "Train    1040\n",
              "Val       104\n",
              "Test      104\n",
              "Name: split, dtype: int64"
            ]
          },
          "metadata": {
            "tags": []
          },
          "execution_count": 21
        }
      ]
    },
    {
      "cell_type": "code",
      "metadata": {
        "colab_type": "code",
        "id": "2a2ivi85eh2S",
        "colab": {}
      },
      "source": [
        "from tqdm import tqdm_notebook as tqdm"
      ],
      "execution_count": 0,
      "outputs": []
    },
    {
      "cell_type": "code",
      "metadata": {
        "colab_type": "code",
        "id": "e3HP7hukHisx",
        "colab": {}
      },
      "source": [
        "signal, sample_rate = librosa.load(dataset_db.path[0], res_type='kaiser_fast',sr=sampling_rate)\n",
        "signal,index = librosa.effects.trim(signal,top_db = 25)\n",
        "signal = scipy.signal.wiener(signal)\n",
        "\n",
        "if len(signal) > input_length:\n",
        "    signal = signal[0:input_length]\n",
        "elif  input_length > len(signal):\n",
        "    max_offset = input_length - len(signal)  \n",
        "    signal = np.pad(signal, (0, max_offset), \"constant\")"
      ],
      "execution_count": 0,
      "outputs": []
    },
    {
      "cell_type": "code",
      "metadata": {
        "colab_type": "code",
        "id": "HHSJ8J8TKs3v",
        "colab": {}
      },
      "source": [
        "signal = np.array(signal).reshape(-1,1)\n"
      ],
      "execution_count": 0,
      "outputs": []
    },
    {
      "cell_type": "code",
      "metadata": {
        "colab_type": "code",
        "id": "OYKhNIv9KxsU",
        "outputId": "67093922-f282-4db2-ae67-ea11f74427c1",
        "colab": {
          "base_uri": "https://localhost:8080/",
          "height": 34
        }
      },
      "source": [
        "signal.shape"
      ],
      "execution_count": 0,
      "outputs": [
        {
          "output_type": "execute_result",
          "data": {
            "text/plain": [
              "(132300, 1)"
            ]
          },
          "metadata": {
            "tags": []
          },
          "execution_count": 25
        }
      ]
    },
    {
      "cell_type": "code",
      "metadata": {
        "colab_type": "code",
        "id": "dIOIFLbOeh2T",
        "outputId": "4cb966e8-9b2e-437f-948c-6bf442d778cb",
        "colab": {
          "base_uri": "https://localhost:8080/",
          "height": 66,
          "referenced_widgets": [
            "9c06e37d3d2f464587647f589e8ddb01",
            "8035fe90b7ef4e408f1fb768f4fa0a40",
            "4dc8b23682614072b165b38c6cf53439",
            "8dfddb4d9b064d4b8e0508cb40b55d10",
            "45d001198be0490a97854c78f5000c99",
            "7b48408b085340f49102a603d21ac616",
            "3d578a04ee6d4ca9818f407e52de5617",
            "f9626e42a193480ea3173cd636c5bcf4"
          ]
        }
      },
      "source": [
        "audios= np.empty(shape=(dataset_db.shape[0],128, MFCC.shape[1], 1))\n",
        "\n",
        "count=0\n",
        "for i in tqdm(range(len(dataset_db))):\n",
        "    signal, sample_rate = librosa.load(dataset_db.path[i], res_type='kaiser_fast',sr=sampling_rate)\n",
        "    signal,index = librosa.effects.trim(signal,top_db = 25)\n",
        "    signal = scipy.signal.wiener(signal)\n",
        "    \n",
        "    if len(signal) > input_length:\n",
        "        signal = signal[0:input_length]\n",
        "    elif  input_length > len(signal):\n",
        "        max_offset = input_length - len(signal)  \n",
        "        signal = np.pad(signal, (0, max_offset), \"constant\")\n",
        "\n",
        "    melspec = librosa.feature.melspectrogram(signal, sr=sample_rate, n_mels=128,n_fft=2048,hop_length=512)   \n",
        "    logspec = librosa.amplitude_to_db(melspec)\n",
        "    logspec = np.expand_dims(logspec, axis=-1)\n",
        "    audios[count,] = logspec \n",
        "    count+=1"
      ],
      "execution_count": 0,
      "outputs": [
        {
          "output_type": "display_data",
          "data": {
            "application/vnd.jupyter.widget-view+json": {
              "model_id": "9c06e37d3d2f464587647f589e8ddb01",
              "version_minor": 0,
              "version_major": 2
            },
            "text/plain": [
              "HBox(children=(FloatProgress(value=0.0, max=1248.0), HTML(value='')))"
            ]
          },
          "metadata": {
            "tags": []
          }
        },
        {
          "output_type": "stream",
          "text": [
            "\n"
          ],
          "name": "stdout"
        }
      ]
    },
    {
      "cell_type": "code",
      "metadata": {
        "colab_type": "code",
        "id": "BFIXVcKUnsIe",
        "outputId": "f47e9e2a-5090-46f9-a09c-0cdea70e9528",
        "colab": {
          "base_uri": "https://localhost:8080/",
          "height": 34
        }
      },
      "source": [
        "audios.shape"
      ],
      "execution_count": 0,
      "outputs": [
        {
          "output_type": "execute_result",
          "data": {
            "text/plain": [
              "(1248, 128, 259, 1)"
            ]
          },
          "metadata": {
            "tags": []
          },
          "execution_count": 27
        }
      ]
    },
    {
      "cell_type": "code",
      "metadata": {
        "colab_type": "code",
        "id": "pf7FJpYUnaEs",
        "colab": {}
      },
      "source": [
        "import h5py\n",
        "with h5py.File('/content/gdrive/My Drive/Colab Notebooks/Ravdess_audio_Mel_spec.h5', 'w') as hf:\n",
        "    hf.create_dataset(\"Ravdess_audio_Mel_spec\",  data=audios)"
      ],
      "execution_count": 0,
      "outputs": []
    },
    {
      "cell_type": "code",
      "metadata": {
        "colab_type": "code",
        "id": "TYq1wfuxAMxb",
        "colab": {}
      },
      "source": [
        "import h5py\n",
        "with h5py.File('/content/gdrive/My Drive/Colab Notebooks/Ravdess_audio_Mel_spec.h5', 'r') as hf:\n",
        "  audios = hf['Ravdess_audio_Mel_spec'][:]"
      ],
      "execution_count": 0,
      "outputs": []
    },
    {
      "cell_type": "code",
      "metadata": {
        "colab_type": "code",
        "id": "QS41tJuxeh2Y",
        "outputId": "3e43f239-15d1-4da3-f6a1-41b60dd56b28",
        "scrolled": false,
        "colab": {
          "base_uri": "https://localhost:8080/",
          "height": 269
        }
      },
      "source": [
        "librosa.display.specshow(audios[0].reshape(128,259))"
      ],
      "execution_count": 0,
      "outputs": [
        {
          "output_type": "execute_result",
          "data": {
            "text/plain": [
              "<matplotlib.axes._subplots.AxesSubplot at 0x7f24a85e7fd0>"
            ]
          },
          "metadata": {
            "tags": []
          },
          "execution_count": 30
        },
        {
          "output_type": "display_data",
          "data": {
            "image/png": "[encoded data removed]",
            "text/plain": [
              "<Figure size 432x288 with 1 Axes>"
            ]
          },
          "metadata": {
            "tags": []
          }
        }
      ]
    },
    {
      "cell_type": "code",
      "metadata": {
        "colab_type": "code",
        "id": "iaECITyBeh2a",
        "outputId": "c946b3c6-b030-443f-eb8f-53b7dfdaec8a",
        "colab": {
          "base_uri": "https://localhost:8080/",
          "height": 34
        }
      },
      "source": [
        "x_train = audios[(dataset_db['split'] == 'Train')]\n",
        "y_train = dataset_db.emotion_lb[(dataset_db['split'] == 'Train')]\n",
        "\n",
        "print(x_train.shape,y_train.shape)"
      ],
      "execution_count": 0,
      "outputs": [
        {
          "output_type": "stream",
          "text": [
            "(1040, 128, 259, 1) (1040,)\n"
          ],
          "name": "stdout"
        }
      ]
    },
    {
      "cell_type": "code",
      "metadata": {
        "colab_type": "code",
        "id": "JIuqk3fReh2c",
        "outputId": "a20addab-8f23-42bc-99ce-9a0000869f89",
        "colab": {
          "base_uri": "https://localhost:8080/",
          "height": 34
        }
      },
      "source": [
        "x_test = audios[(dataset_db['split'] == 'Val')]\n",
        "y_test = dataset_db.emotion_lb[(dataset_db['split'] == 'Val')]\n",
        "\n",
        "print(x_test.shape,y_test.shape)"
      ],
      "execution_count": 0,
      "outputs": [
        {
          "output_type": "stream",
          "text": [
            "(104, 128, 259, 1) (104,)\n"
          ],
          "name": "stdout"
        }
      ]
    },
    {
      "cell_type": "code",
      "metadata": {
        "colab_type": "code",
        "id": "A3__PmcEeh2f",
        "scrolled": true,
        "colab": {}
      },
      "source": [
        "x_train = np.array(x_train)\n",
        "y_train = np.array(y_train)\n",
        "x_test = np.array(x_test)\n",
        "y_test = np.array(y_test)\n",
        "\n",
        "lb = LabelEncoder()\n",
        "y_train = np_utils.to_categorical(lb.fit_transform(y_train))\n",
        "y_test = np_utils.to_categorical(lb.fit_transform(y_test))"
      ],
      "execution_count": 0,
      "outputs": []
    },
    {
      "cell_type": "code",
      "metadata": {
        "colab_type": "code",
        "id": "dR6onpBTeh2h",
        "colab": {}
      },
      "source": [
        "x_traincnn = x_train\n",
        "x_testcnn = x_test"
      ],
      "execution_count": 0,
      "outputs": []
    },
    {
      "cell_type": "code",
      "metadata": {
        "colab_type": "code",
        "id": "oLyUCqhneh2j",
        "outputId": "37cc1dd9-ddd8-4240-a010-715e0224ea96",
        "colab": {
          "base_uri": "https://localhost:8080/",
          "height": 34
        }
      },
      "source": [
        "x_traincnn.shape,x_testcnn.shape,y_train.shape,y_test.shape"
      ],
      "execution_count": 0,
      "outputs": [
        {
          "output_type": "execute_result",
          "data": {
            "text/plain": [
              "((1040, 128, 259, 1), (104, 128, 259, 1), (1040, 12), (104, 12))"
            ]
          },
          "metadata": {
            "tags": []
          },
          "execution_count": 35
        }
      ]
    },
    {
      "cell_type": "code",
      "metadata": {
        "colab_type": "code",
        "id": "nsSlO2i-eh2l",
        "colab": {}
      },
      "source": [
        "# CNN I/P Config\n",
        "num_classes = len(np.unique(np.argmax(y_train, 1)))\n",
        "input_shape = x_traincnn.shape[1:]\n",
        "learning_rate = 0.0001\n",
        "decay = 1e-6\n",
        "momentum = 0.9\n",
        "\n",
        "#LSTM Configuration\n",
        "num_lstm = 256\n"
      ],
      "execution_count": 0,
      "outputs": []
    },
    {
      "cell_type": "code",
      "metadata": {
        "colab_type": "code",
        "id": "VXw47eYgMzSm",
        "outputId": "186f654d-2b7d-48f0-9697-a19d570e7d10",
        "colab": {
          "base_uri": "https://localhost:8080/",
          "height": 34
        }
      },
      "source": [
        "input_shape"
      ],
      "execution_count": 0,
      "outputs": [
        {
          "output_type": "execute_result",
          "data": {
            "text/plain": [
              "(128, 259, 1)"
            ]
          },
          "metadata": {
            "tags": []
          },
          "execution_count": 37
        }
      ]
    },
    {
      "cell_type": "code",
      "metadata": {
        "colab_type": "code",
        "id": "xc2yNEtfeh2n",
        "colab": {}
      },
      "source": [
        "model = Sequential(name='Audio_CNN_2D')\n",
        "\n",
        "# LFLB1\n",
        "model.add(Conv2D(filters=128, kernel_size=(3,3), strides=(1,1), padding='same', data_format='channels_last',input_shape=input_shape))\n",
        "model.add(BatchNormalization())\n",
        "model.add(Activation('elu'))\n",
        "model.add(MaxPooling2D(pool_size=(2,2), strides=(2,2)))\n",
        "model.add(Dropout(0.5))\n",
        "\n",
        "model.add(Conv2D(filters=64, kernel_size=(3,3), strides=(1,1), padding='same'))\n",
        "model.add(BatchNormalization())\n",
        "model.add(Activation('elu'))\n",
        "model.add(MaxPooling2D(pool_size=(4,4), strides=(4,4)))\n",
        "model.add(Dropout(0.25))\n",
        "\n",
        "model.add(Conv2D(filters=64, kernel_size=(3,3), strides=(1,1), padding='same'))\n",
        "model.add(BatchNormalization())\n",
        "model.add(Activation('elu'))\n",
        "model.add(MaxPooling2D(pool_size=(4,4), strides=(4,4)))\n",
        "model.add(Dropout(0.25))\n",
        "\n",
        "model.add(Conv2D(filters=64, kernel_size=(3,3), strides=(1,1), padding='same'))\n",
        "model.add(BatchNormalization())\n",
        "model.add(Activation('elu'))\n",
        "model.add(MaxPooling2D(pool_size=(4,4), strides=(4,4)))\n",
        "model.add(Dropout(0.25))\n",
        "\n",
        "model.add(Flatten())\n",
        "# FC\n",
        "model.add(Dense(units=num_classes, activation='softmax'))\n",
        "\n",
        "# Model compilation\n",
        "opt = optimizers.Adam(lr=0.001, beta_1=0.9,  beta_2=0.999, amsgrad=False)\n",
        "model.compile(optimizer=opt, loss='categorical_crossentropy', metrics=['categorical_accuracy'])"
      ],
      "execution_count": 0,
      "outputs": []
    },
    {
      "cell_type": "code",
      "metadata": {
        "colab_type": "code",
        "id": "HPT_J4beeh2q",
        "outputId": "45a3cac6-d309-4ef1-ec61-b29dcefe4e2d",
        "colab": {
          "base_uri": "https://localhost:8080/",
          "height": 901
        }
      },
      "source": [
        "model.summary()"
      ],
      "execution_count": 0,
      "outputs": [
        {
          "output_type": "stream",
          "text": [
            "Model: \"Audio_CNN_2D\"\n",
            "_________________________________________________________________\n",
            "Layer (type)                 Output Shape              Param #   \n",
            "=================================================================\n",
            "conv2d_1 (Conv2D)            (None, 128, 259, 128)     1280      \n",
            "_________________________________________________________________\n",
            "batch_normalization_1 (Batch (None, 128, 259, 128)     512       \n",
            "_________________________________________________________________\n",
            "activation_1 (Activation)    (None, 128, 259, 128)     0         \n",
            "_________________________________________________________________\n",
            "max_pooling2d_1 (MaxPooling2 (None, 64, 129, 128)      0         \n",
            "_________________________________________________________________\n",
            "dropout_1 (Dropout)          (None, 64, 129, 128)      0         \n",
            "_________________________________________________________________\n",
            "conv2d_2 (Conv2D)            (None, 64, 129, 64)       73792     \n",
            "_________________________________________________________________\n",
            "batch_normalization_2 (Batch (None, 64, 129, 64)       256       \n",
            "_________________________________________________________________\n",
            "activation_2 (Activation)    (None, 64, 129, 64)       0         \n",
            "_________________________________________________________________\n",
            "max_pooling2d_2 (MaxPooling2 (None, 16, 32, 64)        0         \n",
            "_________________________________________________________________\n",
            "dropout_2 (Dropout)          (None, 16, 32, 64)        0         \n",
            "_________________________________________________________________\n",
            "conv2d_3 (Conv2D)            (None, 16, 32, 64)        36928     \n",
            "_________________________________________________________________\n",
            "batch_normalization_3 (Batch (None, 16, 32, 64)        256       \n",
            "_________________________________________________________________\n",
            "activation_3 (Activation)    (None, 16, 32, 64)        0         \n",
            "_________________________________________________________________\n",
            "max_pooling2d_3 (MaxPooling2 (None, 4, 8, 64)          0         \n",
            "_________________________________________________________________\n",
            "dropout_3 (Dropout)          (None, 4, 8, 64)          0         \n",
            "_________________________________________________________________\n",
            "conv2d_4 (Conv2D)            (None, 4, 8, 64)          36928     \n",
            "_________________________________________________________________\n",
            "batch_normalization_4 (Batch (None, 4, 8, 64)          256       \n",
            "_________________________________________________________________\n",
            "activation_4 (Activation)    (None, 4, 8, 64)          0         \n",
            "_________________________________________________________________\n",
            "max_pooling2d_4 (MaxPooling2 (None, 1, 2, 64)          0         \n",
            "_________________________________________________________________\n",
            "dropout_4 (Dropout)          (None, 1, 2, 64)          0         \n",
            "_________________________________________________________________\n",
            "flatten_1 (Flatten)          (None, 128)               0         \n",
            "_________________________________________________________________\n",
            "dense_1 (Dense)              (None, 12)                1548      \n",
            "=================================================================\n",
            "Total params: 151,756\n",
            "Trainable params: 151,116\n",
            "Non-trainable params: 640\n",
            "_________________________________________________________________\n"
          ],
          "name": "stdout"
        }
      ]
    },
    {
      "cell_type": "code",
      "metadata": {
        "colab_type": "code",
        "id": "jAfzd2kweh2t",
        "outputId": "d9096372-7362-4866-aecc-c52c637b162f",
        "scrolled": true,
        "colab": {
          "base_uri": "https://localhost:8080/",
          "height": 1000
        }
      },
      "source": [
        "#Train Config\n",
        "\n",
        "batch_size = 16\n",
        "num_epochs = 100\n",
        "\n",
        "# Model Training\n",
        "lr_reduce = ReduceLROnPlateau(monitor='val_loss', factor=0.9, patience=20, min_lr=0.000001)\n",
        "# Please change the model name accordingly.\n",
        "mcp_save = ModelCheckpoint('/content/gdrive/My Drive/Colab Notebooks/Models/Audio_2DCNN_4L.h5', save_best_only=True, monitor='val_categorical_accuracy', mode='max')\n",
        "cnnhistory=model.fit(x_traincnn, y_train, batch_size=batch_size, epochs=num_epochs,validation_data=(x_testcnn, y_test), callbacks=[mcp_save, lr_reduce])\n"
      ],
      "execution_count": 0,
      "outputs": [
        {
          "output_type": "stream",
          "text": [
            "Train on 1040 samples, validate on 104 samples\n",
            "Epoch 1/100\n",
            "1040/1040 [==============================] - 220s 211ms/step - loss: 2.9848 - categorical_accuracy: 0.1519 - val_loss: 3.4803 - val_categorical_accuracy: 0.1346\n",
            "Epoch 2/100\n",
            "1040/1040 [==============================] - 214s 206ms/step - loss: 2.4395 - categorical_accuracy: 0.1894 - val_loss: 1.9946 - val_categorical_accuracy: 0.3558\n",
            "Epoch 3/100\n",
            "1040/1040 [==============================] - 216s 208ms/step - loss: 2.2203 - categorical_accuracy: 0.2769 - val_loss: 1.7550 - val_categorical_accuracy: 0.4423\n",
            "Epoch 4/100\n",
            "1040/1040 [==============================] - 213s 204ms/step - loss: 2.1225 - categorical_accuracy: 0.2760 - val_loss: 1.6057 - val_categorical_accuracy: 0.4615\n",
            "Epoch 5/100\n",
            "1040/1040 [==============================] - 216s 208ms/step - loss: 1.9913 - categorical_accuracy: 0.3096 - val_loss: 1.5525 - val_categorical_accuracy: 0.4519\n",
            "Epoch 6/100\n",
            "1040/1040 [==============================] - 219s 210ms/step - loss: 1.9399 - categorical_accuracy: 0.3077 - val_loss: 1.8275 - val_categorical_accuracy: 0.3077\n",
            "Epoch 7/100\n",
            "1040/1040 [==============================] - 217s 208ms/step - loss: 1.8825 - categorical_accuracy: 0.3077 - val_loss: 1.9797 - val_categorical_accuracy: 0.1538\n",
            "Epoch 8/100\n",
            "1040/1040 [==============================] - 214s 205ms/step - loss: 1.7885 - categorical_accuracy: 0.3337 - val_loss: 1.8887 - val_categorical_accuracy: 0.2500\n",
            "Epoch 9/100\n",
            "1040/1040 [==============================] - 215s 207ms/step - loss: 1.7727 - categorical_accuracy: 0.3538 - val_loss: 1.5462 - val_categorical_accuracy: 0.4135\n",
            "Epoch 10/100\n",
            "1040/1040 [==============================] - 214s 206ms/step - loss: 1.7357 - categorical_accuracy: 0.3615 - val_loss: 3.0583 - val_categorical_accuracy: 0.0769\n",
            "Epoch 11/100\n",
            "1040/1040 [==============================] - 215s 207ms/step - loss: 1.6753 - categorical_accuracy: 0.3750 - val_loss: 1.9730 - val_categorical_accuracy: 0.2115\n",
            "Epoch 12/100\n",
            "1040/1040 [==============================] - 218s 210ms/step - loss: 1.6094 - categorical_accuracy: 0.4231 - val_loss: 1.7154 - val_categorical_accuracy: 0.3365\n",
            "Epoch 13/100\n",
            "1040/1040 [==============================] - 215s 207ms/step - loss: 1.6276 - categorical_accuracy: 0.3990 - val_loss: 2.6925 - val_categorical_accuracy: 0.1058\n",
            "Epoch 14/100\n",
            "1040/1040 [==============================] - 215s 207ms/step - loss: 1.5408 - categorical_accuracy: 0.4221 - val_loss: 2.0411 - val_categorical_accuracy: 0.1635\n",
            "Epoch 15/100\n",
            "1040/1040 [==============================] - 219s 211ms/step - loss: 1.5754 - categorical_accuracy: 0.3990 - val_loss: 1.4277 - val_categorical_accuracy: 0.4808\n",
            "Epoch 16/100\n",
            "1040/1040 [==============================] - 218s 210ms/step - loss: 1.4881 - categorical_accuracy: 0.4337 - val_loss: 1.9072 - val_categorical_accuracy: 0.2212\n",
            "Epoch 17/100\n",
            "1040/1040 [==============================] - 220s 212ms/step - loss: 1.4248 - categorical_accuracy: 0.4962 - val_loss: 2.2811 - val_categorical_accuracy: 0.1923\n",
            "Epoch 18/100\n",
            "1040/1040 [==============================] - 218s 210ms/step - loss: 1.4200 - categorical_accuracy: 0.4692 - val_loss: 2.2855 - val_categorical_accuracy: 0.1731\n",
            "Epoch 19/100\n",
            "1040/1040 [==============================] - 217s 209ms/step - loss: 1.4580 - categorical_accuracy: 0.4692 - val_loss: 2.3725 - val_categorical_accuracy: 0.2308\n",
            "Epoch 20/100\n",
            "1040/1040 [==============================] - 221s 213ms/step - loss: 1.4184 - categorical_accuracy: 0.4587 - val_loss: 2.0126 - val_categorical_accuracy: 0.2115\n",
            "Epoch 21/100\n",
            "1040/1040 [==============================] - 215s 207ms/step - loss: 1.3870 - categorical_accuracy: 0.4712 - val_loss: 2.0666 - val_categorical_accuracy: 0.1923\n",
            "Epoch 22/100\n",
            "1040/1040 [==============================] - 214s 206ms/step - loss: 1.3305 - categorical_accuracy: 0.5096 - val_loss: 1.3528 - val_categorical_accuracy: 0.4904\n",
            "Epoch 23/100\n",
            "1040/1040 [==============================] - 217s 208ms/step - loss: 1.3259 - categorical_accuracy: 0.5154 - val_loss: 1.8409 - val_categorical_accuracy: 0.2308\n",
            "Epoch 24/100\n",
            "1040/1040 [==============================] - 215s 207ms/step - loss: 1.2958 - categorical_accuracy: 0.5154 - val_loss: 2.3536 - val_categorical_accuracy: 0.2500\n",
            "Epoch 25/100\n",
            "1040/1040 [==============================] - 214s 206ms/step - loss: 1.2467 - categorical_accuracy: 0.5433 - val_loss: 1.9897 - val_categorical_accuracy: 0.3750\n",
            "Epoch 26/100\n",
            "1040/1040 [==============================] - 216s 207ms/step - loss: 1.2284 - categorical_accuracy: 0.5510 - val_loss: 1.9945 - val_categorical_accuracy: 0.2404\n",
            "Epoch 27/100\n",
            "1040/1040 [==============================] - 212s 204ms/step - loss: 1.2308 - categorical_accuracy: 0.5404 - val_loss: 1.4041 - val_categorical_accuracy: 0.4615\n",
            "Epoch 28/100\n",
            "1040/1040 [==============================] - 211s 203ms/step - loss: 1.1725 - categorical_accuracy: 0.5635 - val_loss: 2.2138 - val_categorical_accuracy: 0.2212\n",
            "Epoch 29/100\n",
            "1040/1040 [==============================] - 214s 206ms/step - loss: 1.1738 - categorical_accuracy: 0.5596 - val_loss: 1.3081 - val_categorical_accuracy: 0.5288\n",
            "Epoch 30/100\n",
            "1040/1040 [==============================] - 211s 203ms/step - loss: 1.1239 - categorical_accuracy: 0.5779 - val_loss: 1.3972 - val_categorical_accuracy: 0.4327\n",
            "Epoch 31/100\n",
            "1040/1040 [==============================] - 212s 204ms/step - loss: 1.0992 - categorical_accuracy: 0.5952 - val_loss: 1.6656 - val_categorical_accuracy: 0.5000\n",
            "Epoch 32/100\n",
            "1040/1040 [==============================] - 214s 206ms/step - loss: 1.1217 - categorical_accuracy: 0.5923 - val_loss: 2.3495 - val_categorical_accuracy: 0.2788\n",
            "Epoch 33/100\n",
            "1040/1040 [==============================] - 211s 203ms/step - loss: 1.0695 - categorical_accuracy: 0.6115 - val_loss: 1.8017 - val_categorical_accuracy: 0.3846\n",
            "Epoch 34/100\n",
            "1040/1040 [==============================] - 216s 208ms/step - loss: 1.0772 - categorical_accuracy: 0.5923 - val_loss: 1.7439 - val_categorical_accuracy: 0.3462\n",
            "Epoch 35/100\n",
            "1040/1040 [==============================] - 213s 205ms/step - loss: 1.0903 - categorical_accuracy: 0.5933 - val_loss: 1.4092 - val_categorical_accuracy: 0.4808\n",
            "Epoch 36/100\n",
            "1040/1040 [==============================] - 211s 203ms/step - loss: 1.0336 - categorical_accuracy: 0.6250 - val_loss: 1.2973 - val_categorical_accuracy: 0.5385\n",
            "Epoch 37/100\n",
            "1040/1040 [==============================] - 214s 205ms/step - loss: 1.0046 - categorical_accuracy: 0.6365 - val_loss: 1.9351 - val_categorical_accuracy: 0.3269\n",
            "Epoch 38/100\n",
            "1040/1040 [==============================] - 212s 203ms/step - loss: 1.0001 - categorical_accuracy: 0.6269 - val_loss: 1.5035 - val_categorical_accuracy: 0.3942\n",
            "Epoch 39/100\n",
            "1040/1040 [==============================] - 213s 204ms/step - loss: 0.9847 - categorical_accuracy: 0.6317 - val_loss: 1.4183 - val_categorical_accuracy: 0.5096\n",
            "Epoch 40/100\n",
            "1040/1040 [==============================] - 214s 206ms/step - loss: 0.9510 - categorical_accuracy: 0.6644 - val_loss: 1.7145 - val_categorical_accuracy: 0.3558\n",
            "Epoch 41/100\n",
            "1040/1040 [==============================] - 212s 204ms/step - loss: 0.9539 - categorical_accuracy: 0.6356 - val_loss: 1.4512 - val_categorical_accuracy: 0.4519\n",
            "Epoch 42/100\n",
            "1040/1040 [==============================] - 213s 204ms/step - loss: 0.8669 - categorical_accuracy: 0.6760 - val_loss: 1.4638 - val_categorical_accuracy: 0.4327\n",
            "Epoch 43/100\n",
            "1040/1040 [==============================] - 215s 206ms/step - loss: 0.8981 - categorical_accuracy: 0.6740 - val_loss: 1.3122 - val_categorical_accuracy: 0.5096\n",
            "Epoch 44/100\n",
            "1040/1040 [==============================] - 213s 205ms/step - loss: 0.8667 - categorical_accuracy: 0.7019 - val_loss: 1.3843 - val_categorical_accuracy: 0.4615\n",
            "Epoch 45/100\n",
            "1040/1040 [==============================] - 212s 204ms/step - loss: 0.8594 - categorical_accuracy: 0.6712 - val_loss: 1.6184 - val_categorical_accuracy: 0.3173\n",
            "Epoch 46/100\n",
            "1040/1040 [==============================] - 215s 207ms/step - loss: 0.8543 - categorical_accuracy: 0.6817 - val_loss: 1.5439 - val_categorical_accuracy: 0.3942\n",
            "Epoch 47/100\n",
            "1040/1040 [==============================] - 213s 205ms/step - loss: 0.7959 - categorical_accuracy: 0.7077 - val_loss: 1.5010 - val_categorical_accuracy: 0.4135\n",
            "Epoch 48/100\n",
            "1040/1040 [==============================] - 213s 205ms/step - loss: 0.8645 - categorical_accuracy: 0.6769 - val_loss: 1.2887 - val_categorical_accuracy: 0.4808\n",
            "Epoch 49/100\n",
            "1040/1040 [==============================] - 216s 207ms/step - loss: 0.7805 - categorical_accuracy: 0.7067 - val_loss: 1.5477 - val_categorical_accuracy: 0.4519\n",
            "Epoch 50/100\n",
            "1040/1040 [==============================] - 214s 206ms/step - loss: 0.7444 - categorical_accuracy: 0.7163 - val_loss: 2.0192 - val_categorical_accuracy: 0.2596\n",
            "Epoch 51/100\n",
            "1040/1040 [==============================] - 213s 205ms/step - loss: 0.8051 - categorical_accuracy: 0.7029 - val_loss: 1.3452 - val_categorical_accuracy: 0.5000\n",
            "Epoch 52/100\n",
            "1040/1040 [==============================] - 215s 207ms/step - loss: 0.7640 - categorical_accuracy: 0.7125 - val_loss: 1.5680 - val_categorical_accuracy: 0.4904\n",
            "Epoch 53/100\n",
            "1040/1040 [==============================] - 214s 205ms/step - loss: 0.7255 - categorical_accuracy: 0.7413 - val_loss: 1.6290 - val_categorical_accuracy: 0.4519\n",
            "Epoch 54/100\n",
            "1040/1040 [==============================] - 217s 209ms/step - loss: 0.6905 - categorical_accuracy: 0.7529 - val_loss: 1.3853 - val_categorical_accuracy: 0.5000\n",
            "Epoch 55/100\n",
            "1040/1040 [==============================] - 212s 204ms/step - loss: 0.6921 - categorical_accuracy: 0.7615 - val_loss: 1.3111 - val_categorical_accuracy: 0.4904\n",
            "Epoch 56/100\n",
            "1040/1040 [==============================] - 211s 203ms/step - loss: 0.6589 - categorical_accuracy: 0.7548 - val_loss: 1.4686 - val_categorical_accuracy: 0.4231\n",
            "Epoch 57/100\n",
            "1040/1040 [==============================] - 213s 205ms/step - loss: 0.6697 - categorical_accuracy: 0.7567 - val_loss: 1.3335 - val_categorical_accuracy: 0.5192\n",
            "Epoch 58/100\n",
            "1040/1040 [==============================] - 211s 203ms/step - loss: 0.6339 - categorical_accuracy: 0.7788 - val_loss: 1.4330 - val_categorical_accuracy: 0.4904\n",
            "Epoch 59/100\n",
            "1040/1040 [==============================] - 211s 203ms/step - loss: 0.6378 - categorical_accuracy: 0.7587 - val_loss: 1.4473 - val_categorical_accuracy: 0.4519\n",
            "Epoch 60/100\n",
            "1040/1040 [==============================] - 213s 205ms/step - loss: 0.6590 - categorical_accuracy: 0.7817 - val_loss: 1.8345 - val_categorical_accuracy: 0.3750\n",
            "Epoch 61/100\n",
            "1040/1040 [==============================] - 211s 203ms/step - loss: 0.6015 - categorical_accuracy: 0.7769 - val_loss: 1.8338 - val_categorical_accuracy: 0.2885\n",
            "Epoch 62/100\n",
            "1040/1040 [==============================] - 211s 203ms/step - loss: 0.5705 - categorical_accuracy: 0.8000 - val_loss: 2.2522 - val_categorical_accuracy: 0.2404\n",
            "Epoch 63/100\n",
            "1040/1040 [==============================] - 213s 205ms/step - loss: 0.5757 - categorical_accuracy: 0.7933 - val_loss: 1.4309 - val_categorical_accuracy: 0.5288\n",
            "Epoch 64/100\n",
            "1040/1040 [==============================] - 211s 203ms/step - loss: 0.5833 - categorical_accuracy: 0.7933 - val_loss: 1.2892 - val_categorical_accuracy: 0.5673\n",
            "Epoch 65/100\n",
            "1040/1040 [==============================] - 212s 204ms/step - loss: 0.4878 - categorical_accuracy: 0.8298 - val_loss: 2.0143 - val_categorical_accuracy: 0.3462\n",
            "Epoch 66/100\n",
            "1040/1040 [==============================] - 214s 205ms/step - loss: 0.5171 - categorical_accuracy: 0.8144 - val_loss: 2.0500 - val_categorical_accuracy: 0.4135\n",
            "Epoch 67/100\n",
            "1040/1040 [==============================] - 212s 204ms/step - loss: 0.5146 - categorical_accuracy: 0.8154 - val_loss: 1.6018 - val_categorical_accuracy: 0.4808\n",
            "Epoch 68/100\n",
            "1040/1040 [==============================] - 212s 204ms/step - loss: 0.4764 - categorical_accuracy: 0.8433 - val_loss: 1.9734 - val_categorical_accuracy: 0.3558\n",
            "Epoch 69/100\n",
            "1040/1040 [==============================] - 216s 208ms/step - loss: 0.4635 - categorical_accuracy: 0.8423 - val_loss: 1.5505 - val_categorical_accuracy: 0.4423\n",
            "Epoch 70/100\n",
            "1040/1040 [==============================] - 211s 203ms/step - loss: 0.4302 - categorical_accuracy: 0.8471 - val_loss: 1.3888 - val_categorical_accuracy: 0.5481\n",
            "Epoch 71/100\n",
            "1040/1040 [==============================] - 211s 203ms/step - loss: 0.4472 - categorical_accuracy: 0.8481 - val_loss: 1.6917 - val_categorical_accuracy: 0.4423\n",
            "Epoch 72/100\n",
            "1040/1040 [==============================] - 213s 205ms/step - loss: 0.4292 - categorical_accuracy: 0.8490 - val_loss: 1.6239 - val_categorical_accuracy: 0.4904\n",
            "Epoch 73/100\n",
            "1040/1040 [==============================] - 211s 203ms/step - loss: 0.4482 - categorical_accuracy: 0.8298 - val_loss: 1.3984 - val_categorical_accuracy: 0.5288\n",
            "Epoch 74/100\n",
            "1040/1040 [==============================] - 212s 204ms/step - loss: 0.3956 - categorical_accuracy: 0.8548 - val_loss: 1.6870 - val_categorical_accuracy: 0.4712\n",
            "Epoch 75/100\n",
            "1040/1040 [==============================] - 213s 205ms/step - loss: 0.3985 - categorical_accuracy: 0.8635 - val_loss: 1.4474 - val_categorical_accuracy: 0.5288\n",
            "Epoch 76/100\n",
            "1040/1040 [==============================] - 211s 203ms/step - loss: 0.4514 - categorical_accuracy: 0.8375 - val_loss: 1.3841 - val_categorical_accuracy: 0.5288\n",
            "Epoch 77/100\n",
            "1040/1040 [==============================] - 213s 205ms/step - loss: 0.3989 - categorical_accuracy: 0.8644 - val_loss: 1.4948 - val_categorical_accuracy: 0.5577\n",
            "Epoch 78/100\n",
            "1040/1040 [==============================] - 212s 203ms/step - loss: 0.3719 - categorical_accuracy: 0.8692 - val_loss: 3.0584 - val_categorical_accuracy: 0.2788\n",
            "Epoch 79/100\n",
            "1040/1040 [==============================] - 211s 203ms/step - loss: 0.4002 - categorical_accuracy: 0.8596 - val_loss: 1.4854 - val_categorical_accuracy: 0.4808\n",
            "Epoch 80/100\n",
            "1040/1040 [==============================] - 213s 205ms/step - loss: 0.3495 - categorical_accuracy: 0.8808 - val_loss: 1.6609 - val_categorical_accuracy: 0.4615\n",
            "Epoch 81/100\n",
            "1040/1040 [==============================] - 212s 204ms/step - loss: 0.3120 - categorical_accuracy: 0.8894 - val_loss: 1.7001 - val_categorical_accuracy: 0.4904\n",
            "Epoch 82/100\n",
            "1040/1040 [==============================] - 212s 204ms/step - loss: 0.2927 - categorical_accuracy: 0.9048 - val_loss: 1.5583 - val_categorical_accuracy: 0.4904\n",
            "Epoch 83/100\n",
            "1040/1040 [==============================] - 214s 206ms/step - loss: 0.2881 - categorical_accuracy: 0.9019 - val_loss: 1.3688 - val_categorical_accuracy: 0.5192\n",
            "Epoch 84/100\n",
            "1040/1040 [==============================] - 214s 206ms/step - loss: 0.3146 - categorical_accuracy: 0.8942 - val_loss: 2.5456 - val_categorical_accuracy: 0.3846\n",
            "Epoch 85/100\n",
            "1040/1040 [==============================] - 212s 204ms/step - loss: 0.3266 - categorical_accuracy: 0.8808 - val_loss: 1.8548 - val_categorical_accuracy: 0.4904\n",
            "Epoch 86/100\n",
            "1040/1040 [==============================] - 217s 209ms/step - loss: 0.3420 - categorical_accuracy: 0.8856 - val_loss: 1.9789 - val_categorical_accuracy: 0.4327\n",
            "Epoch 87/100\n",
            "1040/1040 [==============================] - 212s 204ms/step - loss: 0.2986 - categorical_accuracy: 0.8885 - val_loss: 1.4800 - val_categorical_accuracy: 0.5673\n",
            "Epoch 88/100\n",
            "1040/1040 [==============================] - 212s 204ms/step - loss: 0.2829 - categorical_accuracy: 0.9163 - val_loss: 1.4126 - val_categorical_accuracy: 0.4615\n",
            "Epoch 89/100\n",
            "1040/1040 [==============================] - 214s 206ms/step - loss: 0.3058 - categorical_accuracy: 0.9038 - val_loss: 1.6313 - val_categorical_accuracy: 0.5481\n",
            "Epoch 90/100\n",
            "1040/1040 [==============================] - 212s 204ms/step - loss: 0.2658 - categorical_accuracy: 0.9144 - val_loss: 1.6144 - val_categorical_accuracy: 0.6154\n",
            "Epoch 91/100\n",
            "1040/1040 [==============================] - 212s 204ms/step - loss: 0.2676 - categorical_accuracy: 0.9087 - val_loss: 1.5578 - val_categorical_accuracy: 0.5000\n",
            "Epoch 92/100\n",
            "1040/1040 [==============================] - 214s 206ms/step - loss: 0.2409 - categorical_accuracy: 0.9231 - val_loss: 1.4158 - val_categorical_accuracy: 0.5481\n",
            "Epoch 93/100\n",
            "1040/1040 [==============================] - 212s 204ms/step - loss: 0.2398 - categorical_accuracy: 0.9202 - val_loss: 2.1725 - val_categorical_accuracy: 0.3750\n",
            "Epoch 94/100\n",
            "1040/1040 [==============================] - 212s 204ms/step - loss: 0.2150 - categorical_accuracy: 0.9327 - val_loss: 1.6924 - val_categorical_accuracy: 0.5192\n",
            "Epoch 95/100\n",
            "1040/1040 [==============================] - 214s 206ms/step - loss: 0.2175 - categorical_accuracy: 0.9365 - val_loss: 1.6606 - val_categorical_accuracy: 0.4904\n",
            "Epoch 96/100\n",
            "1040/1040 [==============================] - 212s 204ms/step - loss: 0.2074 - categorical_accuracy: 0.9298 - val_loss: 1.6892 - val_categorical_accuracy: 0.4808\n",
            "Epoch 97/100\n",
            "1040/1040 [==============================] - 212s 204ms/step - loss: 0.2292 - categorical_accuracy: 0.9250 - val_loss: 1.6769 - val_categorical_accuracy: 0.4712\n",
            "Epoch 98/100\n",
            "1040/1040 [==============================] - 214s 206ms/step - loss: 0.2107 - categorical_accuracy: 0.9327 - val_loss: 1.6412 - val_categorical_accuracy: 0.5192\n",
            "Epoch 99/100\n",
            "1040/1040 [==============================] - 212s 204ms/step - loss: 0.1927 - categorical_accuracy: 0.9404 - val_loss: 1.5275 - val_categorical_accuracy: 0.5481\n",
            "Epoch 100/100\n",
            "1040/1040 [==============================] - 214s 206ms/step - loss: 0.2015 - categorical_accuracy: 0.9337 - val_loss: 1.8521 - val_categorical_accuracy: 0.4808\n"
          ],
          "name": "stdout"
        }
      ]
    },
    {
      "cell_type": "code",
      "metadata": {
        "colab_type": "code",
        "id": "TCeIDtKreh2v",
        "outputId": "ee61b61d-e95a-457f-dd6b-9a5dc0ceef61",
        "colab": {
          "base_uri": "https://localhost:8080/",
          "height": 34
        }
      },
      "source": [
        "max(cnnhistory.history['val_categorical_accuracy'])"
      ],
      "execution_count": 0,
      "outputs": [
        {
          "output_type": "execute_result",
          "data": {
            "text/plain": [
              "0.6153846383094788"
            ]
          },
          "metadata": {
            "tags": []
          },
          "execution_count": 41
        }
      ]
    },
    {
      "cell_type": "code",
      "metadata": {
        "colab_type": "code",
        "id": "LADRzUEGeh2x",
        "outputId": "aa3830bc-740e-4cff-ce14-94cc9e52a524",
        "colab": {
          "base_uri": "https://localhost:8080/",
          "height": 295
        }
      },
      "source": [
        "# Plotting the Train Valid Loss Graph\n",
        "\n",
        "plt.plot(cnnhistory.history['categorical_accuracy'])\n",
        "plt.plot(cnnhistory.history['val_categorical_accuracy'])\n",
        "plt.title('model accuracy')\n",
        "plt.ylabel('accuracy')\n",
        "plt.xlabel('epoch')\n",
        "plt.legend(['train', 'test'], loc='upper left')\n",
        "plt.show()"
      ],
      "execution_count": 0,
      "outputs": [
        {
          "output_type": "display_data",
          "data": {
            "image/png": "[encoded data removed]",
            "text/plain": [
              "<Figure size 432x288 with 1 Axes>"
            ]
          },
          "metadata": {
            "tags": [],
            "needs_background": "light"
          }
        }
      ]
    },
    {
      "cell_type": "code",
      "metadata": {
        "colab_type": "code",
        "id": "fLkrqjUceh2z",
        "outputId": "f94e031a-fde6-4ccb-a8be-4f1bd8a6ac6e",
        "colab": {
          "base_uri": "https://localhost:8080/",
          "height": 295
        }
      },
      "source": [
        "# Plotting the Train Valid Loss Graph\n",
        "\n",
        "plt.plot(cnnhistory.history['loss'])\n",
        "plt.plot(cnnhistory.history['val_loss'])\n",
        "plt.title('model loss')\n",
        "plt.ylabel('loss')\n",
        "plt.xlabel('epoch')\n",
        "plt.legend(['train', 'test'], loc='upper left')\n",
        "plt.show()"
      ],
      "execution_count": 0,
      "outputs": [
        {
          "output_type": "display_data",
          "data": {
            "image/png": "[encoded data removed]",
            "text/plain": [
              "<Figure size 432x288 with 1 Axes>"
            ]
          },
          "metadata": {
            "tags": [],
            "needs_background": "light"
          }
        }
      ]
    },
    {
      "cell_type": "code",
      "metadata": {
        "colab_type": "code",
        "id": "Vzo2e-xm-8P7",
        "colab": {}
      },
      "source": [
        "# Saving the model.json\n",
        "\n",
        "import json\n",
        "model_json = model.to_json()\n",
        "with open(\"/content/gdrive/My Drive/Colab Notebooks/Models/Audio_2DCNN_LogMelModel_4L.json\", \"w\") as json_file:\n",
        "    json_file.write(model_json)\n"
      ],
      "execution_count": 0,
      "outputs": []
    },
    {
      "cell_type": "code",
      "metadata": {
        "colab_type": "code",
        "id": "yyYxUZue_Bm4",
        "colab": {}
      },
      "source": [
        "# loading json and creating model\n",
        "from keras.models import model_from_json\n",
        "json_file = open('/content/gdrive/My Drive/Colab Notebooks/Models/Audio_2DCNN_LogMelModel_4L.json', 'r')\n",
        "loaded_model_json = json_file.read()\n",
        "json_file.close()\n",
        "loaded_model = model_from_json(loaded_model_json)"
      ],
      "execution_count": 0,
      "outputs": []
    },
    {
      "cell_type": "code",
      "metadata": {
        "colab_type": "code",
        "id": "lvYqDXAj_UAo",
        "colab": {}
      },
      "source": [
        "from keras.models import load_model\n",
        "\n",
        "# Returns a compiled model identical to the previous one\n",
        "loaded_model.load_weights('/content/gdrive/My Drive/Colab Notebooks/Models/Audio_2DCNN_4L.h5')"
      ],
      "execution_count": 0,
      "outputs": []
    },
    {
      "cell_type": "code",
      "metadata": {
        "colab_type": "code",
        "id": "rdApLIbv_X7t",
        "outputId": "03b271dd-a166-4355-ee78-366f70e95ff8",
        "colab": {
          "base_uri": "https://localhost:8080/",
          "height": 34
        }
      },
      "source": [
        "# evaluate loaded model on test data\n",
        "loaded_model.compile(loss='categorical_crossentropy', optimizer=opt, metrics=['accuracy'])\n",
        "score = loaded_model.evaluate(x_testcnn, y_test, verbose=0)\n",
        "print(\"%s: %.2f%%\" % (loaded_model.metrics_names[1], score[1]*100))"
      ],
      "execution_count": 0,
      "outputs": [
        {
          "output_type": "stream",
          "text": [
            "accuracy: 61.54%\n"
          ],
          "name": "stdout"
        }
      ]
    },
    {
      "cell_type": "code",
      "metadata": {
        "colab_type": "code",
        "id": "P1lIIK63_Y1a",
        "outputId": "1e3f6c5d-e00b-44ab-a111-41bddf297daa",
        "colab": {
          "base_uri": "https://localhost:8080/",
          "height": 34
        }
      },
      "source": [
        "x_test_data = audios[(dataset_db['split'] == 'Test')]\n",
        "y_test_data = dataset_db.emotion_lb[(dataset_db['split'] == 'Test')]\n",
        "\n",
        "print(x_test_data.shape,y_test_data.shape)"
      ],
      "execution_count": 0,
      "outputs": [
        {
          "output_type": "stream",
          "text": [
            "(104, 128, 259, 1) (104,)\n"
          ],
          "name": "stdout"
        }
      ]
    },
    {
      "cell_type": "code",
      "metadata": {
        "colab_type": "code",
        "id": "eW4V6sag_bYD",
        "outputId": "64bf6f2d-00f3-44f0-87fc-9a5d63bd2443",
        "colab": {
          "base_uri": "https://localhost:8080/",
          "height": 34
        }
      },
      "source": [
        "preds = loaded_model.predict(x_test_data,batch_size=16,verbose=1)\n",
        "preds1=preds.argmax(axis=1)\n",
        "abc = preds1.astype(int).flatten()\n",
        "predictions = (lb.inverse_transform((abc)))"
      ],
      "execution_count": 0,
      "outputs": [
        {
          "output_type": "stream",
          "text": [
            "104/104 [==============================] - 6s 55ms/step\n"
          ],
          "name": "stdout"
        }
      ]
    },
    {
      "cell_type": "code",
      "metadata": {
        "colab_type": "code",
        "id": "qbEbajpM_dkO",
        "outputId": "d67cfc2c-9fe4-48f1-d834-1bb0df996dcb",
        "colab": {
          "base_uri": "https://localhost:8080/",
          "height": 359
        }
      },
      "source": [
        "preddf = pd.DataFrame({'predictedvalues': predictions})\n",
        "preddf[:10]"
      ],
      "execution_count": 0,
      "outputs": [
        {
          "output_type": "execute_result",
          "data": {
            "text/html": [
              "<div>\n",
              "<style scoped>\n",
              "    .dataframe tbody tr th:only-of-type {\n",
              "        vertical-align: middle;\n",
              "    }\n",
              "\n",
              "    .dataframe tbody tr th {\n",
              "        vertical-align: top;\n",
              "    }\n",
              "\n",
              "    .dataframe thead th {\n",
              "        text-align: right;\n",
              "    }\n",
              "</style>\n",
              "<table border=\"1\" class=\"dataframe\">\n",
              "  <thead>\n",
              "    <tr style=\"text-align: right;\">\n",
              "      <th></th>\n",
              "      <th>predictedvalues</th>\n",
              "    </tr>\n",
              "  </thead>\n",
              "  <tbody>\n",
              "    <tr>\n",
              "      <th>0</th>\n",
              "      <td>male_neutral</td>\n",
              "    </tr>\n",
              "    <tr>\n",
              "      <th>1</th>\n",
              "      <td>male_neutral</td>\n",
              "    </tr>\n",
              "    <tr>\n",
              "      <th>2</th>\n",
              "      <td>male_happy</td>\n",
              "    </tr>\n",
              "    <tr>\n",
              "      <th>3</th>\n",
              "      <td>male_sad</td>\n",
              "    </tr>\n",
              "    <tr>\n",
              "      <th>4</th>\n",
              "      <td>male_neutral</td>\n",
              "    </tr>\n",
              "    <tr>\n",
              "      <th>5</th>\n",
              "      <td>male_neutral</td>\n",
              "    </tr>\n",
              "    <tr>\n",
              "      <th>6</th>\n",
              "      <td>male_neutral</td>\n",
              "    </tr>\n",
              "    <tr>\n",
              "      <th>7</th>\n",
              "      <td>male_neutral</td>\n",
              "    </tr>\n",
              "    <tr>\n",
              "      <th>8</th>\n",
              "      <td>male_neutral</td>\n",
              "    </tr>\n",
              "    <tr>\n",
              "      <th>9</th>\n",
              "      <td>male_neutral</td>\n",
              "    </tr>\n",
              "  </tbody>\n",
              "</table>\n",
              "</div>"
            ],
            "text/plain": [
              "  predictedvalues\n",
              "0    male_neutral\n",
              "1    male_neutral\n",
              "2      male_happy\n",
              "3        male_sad\n",
              "4    male_neutral\n",
              "5    male_neutral\n",
              "6    male_neutral\n",
              "7    male_neutral\n",
              "8    male_neutral\n",
              "9    male_neutral"
            ]
          },
          "metadata": {
            "tags": []
          },
          "execution_count": 50
        }
      ]
    },
    {
      "cell_type": "code",
      "metadata": {
        "colab_type": "code",
        "id": "nwMrum2c_fOV",
        "colab": {}
      },
      "source": [
        "actualdf = pd.DataFrame({'actualvalues': y_test_data})\n",
        "actualdf[:10]\n",
        "actualdf.index = range(len(actualdf.index))"
      ],
      "execution_count": 0,
      "outputs": []
    },
    {
      "cell_type": "code",
      "metadata": {
        "colab_type": "code",
        "id": "913HR0Jn_h_9",
        "outputId": "9976d3ef-a2bb-47af-a40b-6f0bfd33bb95",
        "colab": {
          "base_uri": "https://localhost:8080/",
          "height": 204
        }
      },
      "source": [
        "finaldf = pd.concat([actualdf,preddf],axis=1)\n",
        "finaldf.head()"
      ],
      "execution_count": 0,
      "outputs": [
        {
          "output_type": "execute_result",
          "data": {
            "text/html": [
              "<div>\n",
              "<style scoped>\n",
              "    .dataframe tbody tr th:only-of-type {\n",
              "        vertical-align: middle;\n",
              "    }\n",
              "\n",
              "    .dataframe tbody tr th {\n",
              "        vertical-align: top;\n",
              "    }\n",
              "\n",
              "    .dataframe thead th {\n",
              "        text-align: right;\n",
              "    }\n",
              "</style>\n",
              "<table border=\"1\" class=\"dataframe\">\n",
              "  <thead>\n",
              "    <tr style=\"text-align: right;\">\n",
              "      <th></th>\n",
              "      <th>actualvalues</th>\n",
              "      <th>predictedvalues</th>\n",
              "    </tr>\n",
              "  </thead>\n",
              "  <tbody>\n",
              "    <tr>\n",
              "      <th>0</th>\n",
              "      <td>male_neutral</td>\n",
              "      <td>male_neutral</td>\n",
              "    </tr>\n",
              "    <tr>\n",
              "      <th>1</th>\n",
              "      <td>male_neutral</td>\n",
              "      <td>male_neutral</td>\n",
              "    </tr>\n",
              "    <tr>\n",
              "      <th>2</th>\n",
              "      <td>male_neutral</td>\n",
              "      <td>male_happy</td>\n",
              "    </tr>\n",
              "    <tr>\n",
              "      <th>3</th>\n",
              "      <td>male_neutral</td>\n",
              "      <td>male_sad</td>\n",
              "    </tr>\n",
              "    <tr>\n",
              "      <th>4</th>\n",
              "      <td>male_neutral</td>\n",
              "      <td>male_neutral</td>\n",
              "    </tr>\n",
              "  </tbody>\n",
              "</table>\n",
              "</div>"
            ],
            "text/plain": [
              "   actualvalues predictedvalues\n",
              "0  male_neutral    male_neutral\n",
              "1  male_neutral    male_neutral\n",
              "2  male_neutral      male_happy\n",
              "3  male_neutral        male_sad\n",
              "4  male_neutral    male_neutral"
            ]
          },
          "metadata": {
            "tags": []
          },
          "execution_count": 52
        }
      ]
    },
    {
      "cell_type": "code",
      "metadata": {
        "colab_type": "code",
        "id": "sj6bveb8_jt7",
        "colab": {}
      },
      "source": [
        "def print_confusion_matrix(confusion_matrix, class_names, figsize = (9,6), fontsize=14):\n",
        "    \"\"\"Prints a confusion matrix, as returned by sklearn.metrics.confusion_matrix, as a heatmap.\n",
        "    \n",
        "    Arguments\n",
        "    ---------\n",
        "    confusion_matrix: numpy.ndarray\n",
        "        The numpy.ndarray object returned from a call to sklearn.metrics.confusion_matrix. \n",
        "        Similarly constructed ndarrays can also be used.\n",
        "    class_names: list\n",
        "        An ordered list of class names, in the order they index the given confusion matrix.\n",
        "    figsize: tuple\n",
        "        A 2-long tuple, the first value determining the horizontal size of the ouputted figure,\n",
        "        the second determining the vertical size. Defaults to (10,7).\n",
        "    fontsize: int\n",
        "        Font size for axes labels. Defaults to 14.\n",
        "        \n",
        "    Returns\n",
        "    -------\n",
        "    matplotlib.figure.Figure\n",
        "        The resulting confusion matrix figure\n",
        "    \"\"\"\n",
        "    df_cm = pd.DataFrame(\n",
        "        confusion_matrix, index=class_names, columns=class_names, \n",
        "    )\n",
        "    fig = plt.figure(figsize=figsize)\n",
        "    try:\n",
        "        heatmap = sns.heatmap(df_cm, annot=True, fmt=\"d\")\n",
        "    except ValueError:\n",
        "        raise ValueError(\"Confusion matrix values must be integers.\")\n",
        "        \n",
        "    heatmap.yaxis.set_ticklabels(heatmap.yaxis.get_ticklabels(), rotation=0, ha='right', fontsize=fontsize)\n",
        "    heatmap.xaxis.set_ticklabels(heatmap.xaxis.get_ticklabels(), rotation=45, ha='right', fontsize=fontsize)\n",
        "    plt.ylabel('True label')\n",
        "    plt.xlabel('Predicted label')\n",
        "    "
      ],
      "execution_count": 0,
      "outputs": []
    },
    {
      "cell_type": "code",
      "metadata": {
        "colab_type": "code",
        "id": "NEF9S2OQ_lvM",
        "outputId": "abdcdd2b-f8fa-4902-a44b-61afe20075b6",
        "colab": {
          "base_uri": "https://localhost:8080/",
          "height": 34
        }
      },
      "source": [
        "from sklearn.metrics import accuracy_score\n",
        "y_true = finaldf.actualvalues\n",
        "y_pred = finaldf.predictedvalues\n",
        "accuracy_score(y_true, y_pred)*100"
      ],
      "execution_count": 0,
      "outputs": [
        {
          "output_type": "execute_result",
          "data": {
            "text/plain": [
              "51.92307692307693"
            ]
          },
          "metadata": {
            "tags": []
          },
          "execution_count": 54
        }
      ]
    },
    {
      "cell_type": "code",
      "metadata": {
        "colab_type": "code",
        "id": "2PtZ0ISY_ndf",
        "outputId": "ef1d9e38-42ec-4246-88d9-24beead7398b",
        "colab": {
          "base_uri": "https://localhost:8080/",
          "height": 34
        }
      },
      "source": [
        "from sklearn.metrics import f1_score\n",
        "f1_score(y_true, y_pred, average='macro') *100"
      ],
      "execution_count": 0,
      "outputs": [
        {
          "output_type": "execute_result",
          "data": {
            "text/plain": [
              "44.89475558554506"
            ]
          },
          "metadata": {
            "tags": []
          },
          "execution_count": 55
        }
      ]
    },
    {
      "cell_type": "code",
      "metadata": {
        "colab_type": "code",
        "id": "4dfKl7AE_ouJ",
        "outputId": "086118ee-235c-466b-943b-89b64924971f",
        "colab": {
          "base_uri": "https://localhost:8080/",
          "height": 221
        }
      },
      "source": [
        "from sklearn.metrics import confusion_matrix\n",
        "c = confusion_matrix(y_true, y_pred)\n",
        "c"
      ],
      "execution_count": 0,
      "outputs": [
        {
          "output_type": "execute_result",
          "data": {
            "text/plain": [
              "array([[ 8,  0,  0,  0,  0,  0,  0,  0,  0,  0,  0,  0],\n",
              "       [ 5,  3,  0,  0,  0,  0,  0,  0,  0,  0,  0,  0],\n",
              "       [ 3,  1,  2,  1,  0,  1,  0,  0,  0,  0,  0,  0],\n",
              "       [ 2,  0,  0,  3,  3,  0,  0,  0,  0,  0,  0,  0],\n",
              "       [ 0,  1,  0,  0, 11,  0,  0,  0,  0,  0,  0,  0],\n",
              "       [ 1,  5,  0,  0,  2,  0,  0,  0,  0,  0,  0,  0],\n",
              "       [ 1,  0,  1,  0,  0,  0,  1,  0,  5,  0,  0,  0],\n",
              "       [ 0,  0,  0,  0,  0,  0,  0,  7,  1,  0,  0,  0],\n",
              "       [ 0,  0,  0,  0,  0,  0,  0,  0,  4,  0,  2,  2],\n",
              "       [ 0,  0,  2,  0,  0,  0,  0,  0,  1,  5,  0,  0],\n",
              "       [ 0,  0,  0,  0,  0,  0,  0,  0,  0,  1, 10,  1],\n",
              "       [ 0,  1,  0,  0,  0,  0,  0,  1,  2,  0,  4,  0]])"
            ]
          },
          "metadata": {
            "tags": []
          },
          "execution_count": 56
        }
      ]
    },
    {
      "cell_type": "code",
      "metadata": {
        "colab_type": "code",
        "id": "RxWb1An4_qQF",
        "outputId": "a887d527-7046-4f90-b233-c05d34e4e901",
        "colab": {
          "base_uri": "https://localhost:8080/",
          "height": 463
        }
      },
      "source": [
        "class_names=sorted(set(finaldf.actualvalues))\n",
        "print_confusion_matrix(c, class_names)\n"
      ],
      "execution_count": 0,
      "outputs": [
        {
          "output_type": "display_data",
          "data": {
            "image/png": "[encoded data removed]",
            "text/plain": [
              "<Figure size 648x432 with 2 Axes>"
            ]
          },
          "metadata": {
            "tags": [],
            "needs_background": "light"
          }
        }
      ]
    }
  ]
}