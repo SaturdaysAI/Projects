{
  "nbformat": 4,
  "nbformat_minor": 0,
  "metadata": {
    "colab": {
      "provenance": []
    },
    "kernelspec": {
      "name": "python3",
      "display_name": "Python 3"
    },
    "language_info": {
      "name": "python"
    }
  },
  "cells": [
    {
      "cell_type": "code",
      "source": [
        "import pandas as pd\n",
        "\n",
        "def analizar_valores_unicos(df, campo):\n",
        "    \"\"\"\n",
        "    Función para analizar los valores únicos en una columna específica de un DataFrame.\n",
        "\n",
        "    Parámetros:\n",
        "    - df: DataFrame de Pandas\n",
        "    - campo: Nombre de la columna a analizar\n",
        "\n",
        "    Imprime los conteos de valores únicos en el campo especificado.\n",
        "    \"\"\"\n",
        "    print(f\"\\n--- Analizando valores únicos en el campo '{campo}' ---\\n\")\n",
        "    registros = df[campo].value_counts()\n",
        "\n",
        "    print(f\"Conteos de valores únicos en la columna '{campo}':\")\n",
        "    for valor, cuenta in registros.items():\n",
        "        print(f\"{valor} -> {cuenta}\")\n"
      ],
      "metadata": {
        "id": "3iMQ6CkZZAkN"
      },
      "execution_count": null,
      "outputs": []
    },
    {
      "cell_type": "code",
      "source": [
        "from google.colab import drive\n",
        "drive.mount('/content/drive/')\n",
        "\n",
        "# Cargar el archivo CSV en un DataFrame de pandas\n",
        "input_path_train = '/content/drive/My Drive/0. JOSE IES SV/Entrenamiento_hasta_2017.csv'\n",
        "df_train_csv = pd.read_csv(input_path_train)\n",
        "\n",
        "input_path_test= '/content/drive/My Drive/0. JOSE IES SV/Test_2018.csv'\n",
        "df_test_csv = pd.read_csv(input_path_test)"
      ],
      "metadata": {
        "colab": {
          "base_uri": "https://localhost:8080/"
        },
        "id": "2Ah82tFWiiPt",
        "outputId": "2d21427d-2efe-4e4f-af78-23e85ad765cb"
      },
      "execution_count": null,
      "outputs": [
        {
          "output_type": "stream",
          "name": "stdout",
          "text": [
            "Drive already mounted at /content/drive/; to attempt to forcibly remount, call drive.mount(\"/content/drive/\", force_remount=True).\n"
          ]
        }
      ]
    },
    {
      "cell_type": "code",
      "source": [
        "# Encontrar las columnas que tienen un solo valor, no nos sirven de nada para la clasificación\n",
        "\n",
        "print('---1. Encontrar las columnas que tienen un solo valor en train y test para eliminarlas después ----')\n",
        "print(\"\")\n",
        "\n",
        "print(\" ------ Columnas con un solo valor en train -------------------\")\n",
        "print(\"\")\n",
        "print(\"Columnas con un solo valor en train:\")\n",
        "print(\"\")\n",
        "\n",
        "columnas_con_un_valor_train = df_train_csv.columns[df_train_csv.nunique() == 1].tolist()\n",
        "for columna in columnas_con_un_valor_train:\n",
        "    valor_unico = df_train_csv[columna].unique()[0]\n",
        "    print(f\"Columna: {columna}, Valor único: {valor_unico}\")\n",
        "\n",
        "print(\"\")\n",
        "print(\" ------ Columnas con un solo valor en test  -------------------\")\n",
        "print(\"\")\n",
        "print(\"Columnas con un solo valor en test:\")\n",
        "print(\"\")\n",
        "columnas_con_un_valor_test = df_test_csv.columns[df_test_csv.nunique() == 1].tolist()\n",
        "for columna in columnas_con_un_valor_test:\n",
        "    valor_unico = df_test_csv[columna].unique()[0]\n",
        "    print(f\"Columna: {columna}, Valor único: {valor_unico}\")\n",
        "print('---------------------------------------------------------')\n"
      ],
      "metadata": {
        "id": "ACQPnv6Di1td",
        "colab": {
          "base_uri": "https://localhost:8080/"
        },
        "outputId": "e0eef4b1-7939-4dba-9f82-44258aeb986b"
      },
      "execution_count": null,
      "outputs": [
        {
          "output_type": "stream",
          "name": "stdout",
          "text": [
            "---1. Encontrar las columnas que tienen un solo valor en train y test para eliminarlas después ----\n",
            "\n",
            " ------ Columnas con un solo valor en train -------------------\n",
            "\n",
            "Columnas con un solo valor en train:\n",
            "\n",
            "Columna: procedureAnalysedMedia, Valor único: water\n",
            "\n",
            " ------ Columnas con un solo valor en test  -------------------\n",
            "\n",
            "Columnas con un solo valor en test:\n",
            "\n",
            "Columna: procedureAnalysedMedia, Valor único: water\n",
            "---------------------------------------------------------\n"
          ]
        }
      ]
    },
    {
      "cell_type": "code",
      "source": [
        "# Eliminar columna procedureAnalysedMedia, dado el paso anterior\n",
        "columnas_eliminar = ['procedureAnalysedMedia']\n",
        "df_train_csv = df_train_csv.drop(columns=columnas_eliminar)\n",
        "df_test_csv = df_test_csv.drop(columns=columnas_eliminar)\n",
        "print(df_train_csv.columns)\n",
        "print(df_test_csv.columns)"
      ],
      "metadata": {
        "id": "IvZgbdCQkEoc",
        "colab": {
          "base_uri": "https://localhost:8080/"
        },
        "outputId": "a3880009-dc6a-4a51-d792-5c599840d7c7"
      },
      "execution_count": null,
      "outputs": [
        {
          "output_type": "stream",
          "name": "stdout",
          "text": [
            "Index(['monitoringSiteIdentifier', 'parameterWaterBodyCategory',\n",
            "       'observedPropertyDeterminandCode', 'resultUom',\n",
            "       'phenomenonTimeSamplingDate', 'resultObservedValue',\n",
            "       'resultQualityObservedValueBelowLOQ', 'procedureLOQValue',\n",
            "       'procedureAnalyticalMethod', 'parameterSampleDepth',\n",
            "       'resultObservationStatus', 'metadata_statements'],\n",
            "      dtype='object')\n",
            "Index(['monitoringSiteIdentifier', 'parameterWaterBodyCategory',\n",
            "       'observedPropertyDeterminandCode', 'resultUom',\n",
            "       'phenomenonTimeSamplingDate', 'resultObservedValue',\n",
            "       'resultQualityObservedValueBelowLOQ', 'procedureLOQValue',\n",
            "       'procedureAnalyticalMethod', 'parameterSampleDepth',\n",
            "       'resultObservationStatus', 'metadata_statements'],\n",
            "      dtype='object')\n"
          ]
        }
      ]
    },
    {
      "cell_type": "code",
      "source": [
        "# Filtrar filas donde 'resultObservationStatus' es igual a 'A' (registro confirmado como correcto)\n",
        "# solo nos interesan los registros válidos\n",
        "df_train_csv = df_train_csv[df_train_csv['resultObservationStatus'] == 'A']\n",
        "df_test_csv = df_test_csv[df_test_csv['resultObservationStatus'] == 'A']\n",
        "\n",
        "# Se filtran filas donde 'procedureLOQValue' <= 'resultObservedValue' , puede así detectar fallos\n",
        "\n",
        "df_train_csv['procedureLOQValue'].fillna(0, inplace=True)\n",
        "df_test_csv['procedureLOQValue'].fillna(0, inplace=True)\n",
        "\n",
        "df_train_csv =  df_train_csv[df_train_csv['procedureLOQValue'] <= df_train_csv['resultObservedValue'] ]\n",
        "df_test_csv =  df_test_csv[df_test_csv['procedureLOQValue'] <= df_test_csv['resultObservedValue'] ]\n",
        "\n",
        "# df_train_csv =  df_train_csv[df_train_csv['procedureLOQValue'].notna()]\n",
        "# df_test_csv =  df_test_csv[df_test_csv['procedureLOQValue'].notna()]\n",
        "\n",
        "# Encontrar las columnas que tienen valores NaN\n",
        "columnas_con_nan_train = df_train_csv.loc[:, df_train_csv.isna().any()].columns.tolist()\n",
        "columnas_con_nan_test = df_test_csv.loc[:, df_test_csv.isna().any()].columns.tolist()\n",
        "print(columnas_con_nan_train)\n",
        "print(columnas_con_nan_test)\n"
      ],
      "metadata": {
        "id": "vtuRa-_xkoZT",
        "colab": {
          "base_uri": "https://localhost:8080/"
        },
        "outputId": "8c9c33b4-2111-4684-c3e9-f62877156bf3"
      },
      "execution_count": null,
      "outputs": [
        {
          "output_type": "stream",
          "name": "stderr",
          "text": [
            "<ipython-input-53-859c0d97140f>:8: SettingWithCopyWarning: \n",
            "A value is trying to be set on a copy of a slice from a DataFrame\n",
            "\n",
            "See the caveats in the documentation: https://pandas.pydata.org/pandas-docs/stable/user_guide/indexing.html#returning-a-view-versus-a-copy\n",
            "  df_train_csv['procedureLOQValue'].fillna(0, inplace=True)\n",
            "<ipython-input-53-859c0d97140f>:9: SettingWithCopyWarning: \n",
            "A value is trying to be set on a copy of a slice from a DataFrame\n",
            "\n",
            "See the caveats in the documentation: https://pandas.pydata.org/pandas-docs/stable/user_guide/indexing.html#returning-a-view-versus-a-copy\n",
            "  df_test_csv['procedureLOQValue'].fillna(0, inplace=True)\n"
          ]
        },
        {
          "output_type": "stream",
          "name": "stdout",
          "text": [
            "['metadata_statements']\n",
            "['metadata_statements']\n"
          ]
        }
      ]
    },
    {
      "cell_type": "code",
      "source": [
        "# metadata_statements son metadatos que no tienen importancia en el análisis, se tenía que haber eliminado antes\n",
        "\n",
        "# Ya filtrado'resultObservationStatus' es igual a 'A' (registro confirmado como correcto)\n",
        "# con lo que también eliminamos esa columna\n",
        "columnas_eliminar = ['resultObservationStatus','metadata_statements']\n",
        "df_train_csv = df_train_csv.drop(columns=columnas_eliminar)\n",
        "df_test_csv = df_test_csv.drop(columns=columnas_eliminar)\n",
        "\n",
        "# Encontrar las columnas que siguen teniendo valores NaN\n",
        "columnas_con_nan_train = df_train_csv.loc[:, df_train_csv.isna().any()].columns.tolist()\n",
        "columnas_con_nan_test = df_test_csv.loc[:, df_test_csv.isna().any()].columns.tolist()\n",
        "print(\"\")\n",
        "print(\" --- 1. Columnas que siguen teniendo valores NaN en train ---\")\n",
        "print(\"\")\n",
        "print(columnas_con_nan_train)\n",
        "print(\"\")\n",
        "print(\" --- 2. Columnas que siguen teniendo valores NaN en test ---\")\n",
        "print(\"\")\n",
        "print(columnas_con_nan_test)\n"
      ],
      "metadata": {
        "id": "E3d_WtYplpSS",
        "colab": {
          "base_uri": "https://localhost:8080/"
        },
        "outputId": "8675c207-64ca-44d7-d505-ad7a1d053e6c"
      },
      "execution_count": null,
      "outputs": [
        {
          "output_type": "stream",
          "name": "stdout",
          "text": [
            "\n",
            " --- 1. Columnas que siguen teniendo valores NaN en train ---\n",
            "\n",
            "[]\n",
            "\n",
            " --- 2. Columnas que siguen teniendo valores NaN en test ---\n",
            "\n",
            "[]\n"
          ]
        }
      ]
    },
    {
      "cell_type": "code",
      "source": [
        "# Hay dos valores importantes, resultUom (tipo de unidad de medida) y observedPropertyDeterminandCode (propiedad a medir)\n",
        "# Analizamos que valores son diferentes en resultUom\n",
        "\n",
        "analizar_valores_unicos(df_train_csv,'resultUom')\n",
        "analizar_valores_unicos(df_test_csv,'resultUom')\n",
        "\n"
      ],
      "metadata": {
        "id": "cdvJqQory40h",
        "colab": {
          "base_uri": "https://localhost:8080/"
        },
        "outputId": "03f2d001-1b1d-4066-e49d-813c7ddf4046"
      },
      "execution_count": null,
      "outputs": [
        {
          "output_type": "stream",
          "name": "stdout",
          "text": [
            "\n",
            "--- Analizando valores únicos en el campo 'resultUom' ---\n",
            "\n",
            "Conteos de valores únicos en la columna 'resultUom':\n",
            "ug/L -> 696434\n",
            "mg/L -> 115054\n",
            "mg{P}/L -> 79139\n",
            "mg{N}/L -> 62730\n",
            "mg{NH4}/L -> 50577\n",
            "mg{NO3}/L -> 47966\n",
            "[pH] -> 41534\n",
            "uS/cm -> 38398\n",
            "Cel -> 35449\n",
            "% -> 34515\n",
            "mg{NO2}/L -> 32730\n",
            "mg{O2}/L -> 32351\n",
            "mg{C}/L -> 31139\n",
            "m -> 16702\n",
            "mg{Si}/L -> 13350\n",
            "mg{NH3}/L -> 9477\n",
            "mg{CaCO3}/L -> 6442\n",
            "mmol/L -> 5350\n",
            "ug{TEQ}/kg -> 2110\n",
            "mg{S}/L -> 84\n",
            "\n",
            "--- Analizando valores únicos en el campo 'resultUom' ---\n",
            "\n",
            "Conteos de valores únicos en la columna 'resultUom':\n",
            "ug/L -> 598\n",
            "mg/L -> 27\n",
            "Cel -> 17\n",
            "[pH] -> 17\n",
            "uS/cm -> 16\n"
          ]
        }
      ]
    },
    {
      "cell_type": "code",
      "source": [
        "# El modelo tiene que aprender del train y del test con estas columnas\n",
        "\n",
        "print(df_train_csv.columns)\n",
        "print(df_test_csv.columns)"
      ],
      "metadata": {
        "colab": {
          "base_uri": "https://localhost:8080/"
        },
        "id": "QNx14mYqz1k7",
        "outputId": "d6bdecb0-65aa-4a0e-e8a2-55a8d7a9b744"
      },
      "execution_count": null,
      "outputs": [
        {
          "output_type": "stream",
          "name": "stdout",
          "text": [
            "Index(['monitoringSiteIdentifier', 'parameterWaterBodyCategory',\n",
            "       'observedPropertyDeterminandCode', 'resultUom',\n",
            "       'phenomenonTimeSamplingDate', 'resultObservedValue',\n",
            "       'resultQualityObservedValueBelowLOQ', 'procedureLOQValue',\n",
            "       'procedureAnalyticalMethod', 'parameterSampleDepth'],\n",
            "      dtype='object')\n",
            "Index(['monitoringSiteIdentifier', 'parameterWaterBodyCategory',\n",
            "       'observedPropertyDeterminandCode', 'resultUom',\n",
            "       'phenomenonTimeSamplingDate', 'resultObservedValue',\n",
            "       'resultQualityObservedValueBelowLOQ', 'procedureLOQValue',\n",
            "       'procedureAnalyticalMethod', 'parameterSampleDepth'],\n",
            "      dtype='object')\n"
          ]
        }
      ]
    },
    {
      "cell_type": "code",
      "source": [
        "# Volvemos a encontrar las columnas que tienen un solo valor, no nos sirven de nada para la clasificación\n",
        "# Lo volvemos a verificar\n",
        "\n",
        "print('---1. Encontrar las columnas que tienen un solo valor en train y test para eliminarlas después ----')\n",
        "print(\"\")\n",
        "\n",
        "print(\" ------ Columnas con un solo valor en train -------------------\")\n",
        "print(\"\")\n",
        "print(\"Columnas con un solo valor en train:\")\n",
        "print(\"\")\n",
        "\n",
        "columnas_con_un_valor_train = df_train_csv.columns[df_train_csv.nunique() == 1].tolist()\n",
        "for columna in columnas_con_un_valor_train:\n",
        "    valor_unico = df_train_csv[columna].unique()[0]\n",
        "    print(f\"Columna: {columna}, Valor único: {valor_unico}\")\n",
        "\n",
        "print(\"\")\n",
        "print(\" ------ Columnas con un solo valor en test  -------------------\")\n",
        "print(\"\")\n",
        "print(\"Columnas con un solo valor en test:\")\n",
        "print(\"\")\n",
        "columnas_con_un_valor_test = df_test_csv.columns[df_test_csv.nunique() == 1].tolist()\n",
        "for columna in columnas_con_un_valor_test:\n",
        "    valor_unico = df_test_csv[columna].unique()[0]\n",
        "    print(f\"Columna: {columna}, Valor único: {valor_unico}\")\n",
        "print('---------------------------------------------------------')\n",
        "\n",
        "\n"
      ],
      "metadata": {
        "id": "HgXHY-wW3IeO",
        "colab": {
          "base_uri": "https://localhost:8080/"
        },
        "outputId": "39df9317-3c70-47e1-ff65-8b4f9fd59857"
      },
      "execution_count": null,
      "outputs": [
        {
          "output_type": "stream",
          "name": "stdout",
          "text": [
            "---1. Encontrar las columnas que tienen un solo valor en train y test para eliminarlas después ----\n",
            "\n",
            " ------ Columnas con un solo valor en train -------------------\n",
            "\n",
            "Columnas con un solo valor en train:\n",
            "\n",
            "\n",
            " ------ Columnas con un solo valor en test  -------------------\n",
            "\n",
            "Columnas con un solo valor en test:\n",
            "\n",
            "---------------------------------------------------------\n"
          ]
        }
      ]
    },
    {
      "cell_type": "code",
      "source": [
        "# Salvar los archivos dataFrame de pandas en archivos CSV\n",
        "\n",
        "output_path = '/content/drive/My Drive/0. JOSE IES SV/Entrenamiento_hasta_2017_(simplificado).csv'\n",
        "df_train_csv.to_csv(output_path,index=False)\n",
        "\n",
        "output_path = '/content/drive/My Drive/0. JOSE IES SV/Test_2018_(simplificado).csv'\n",
        "df_test_csv.to_csv(output_path,index=False)\n"
      ],
      "metadata": {
        "id": "sBGveaPP3T6i"
      },
      "execution_count": null,
      "outputs": []
    },
    {
      "cell_type": "code",
      "source": [],
      "metadata": {
        "id": "0gQOsPQt3otC"
      },
      "execution_count": null,
      "outputs": []
    }
  ]
}