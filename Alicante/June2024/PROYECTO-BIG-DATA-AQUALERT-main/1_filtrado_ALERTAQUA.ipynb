{
  "nbformat": 4,
  "nbformat_minor": 0,
  "metadata": {
    "colab": {
      "provenance": [],
      "gpuType": "V28"
    },
    "kernelspec": {
      "name": "python3",
      "display_name": "Python 3"
    },
    "language_info": {
      "name": "python"
    },
    "accelerator": "TPU"
  },
  "cells": [
    {
      "cell_type": "code",
      "execution_count": null,
      "metadata": {
        "id": "m0cN_h4zKoAe"
      },
      "outputs": [],
      "source": []
    },
    {
      "cell_type": "markdown",
      "source": [
        "CARGA DEL ARCHIVO CSV"
      ],
      "metadata": {
        "id": "EoceoZolMhmB"
      }
    },
    {
      "cell_type": "markdown",
      "source": [],
      "metadata": {
        "id": "OLWfr9YXMfZ6"
      }
    },
    {
      "cell_type": "code",
      "source": [
        "from google.colab import drive\n",
        "drive.mount('/content/drive/')\n"
      ],
      "metadata": {
        "colab": {
          "base_uri": "https://localhost:8080/"
        },
        "id": "tHaZS74zMnPK",
        "outputId": "e5ead8ca-74df-460d-9d40-2b6a6a24397f"
      },
      "execution_count": null,
      "outputs": [
        {
          "output_type": "stream",
          "name": "stdout",
          "text": [
            "Mounted at /content/drive/\n"
          ]
        }
      ]
    },
    {
      "cell_type": "code",
      "source": [
        "import os\n",
        "\n",
        "# Listar archivos y carpetas en el directorio principal de My Drive\n",
        "drive_path = '/content/drive/My Drive/0._JUAN_CARLOS_Y_JOSE'\n",
        "files_and_folders = os.listdir(drive_path)\n",
        "\n",
        "# Mostrar la lista de archivos y carpetas\n",
        "for item in files_and_folders:\n",
        "    print(item)\n"
      ],
      "metadata": {
        "colab": {
          "base_uri": "https://localhost:8080/"
        },
        "id": "9gXdLqMtQvqf",
        "outputId": "ed3aa195-e00d-48e2-c713-6feaf293b15c"
      },
      "execution_count": null,
      "outputs": [
        {
          "output_type": "stream",
          "name": "stdout",
          "text": [
            "5. DisaggregatedData.csv\n",
            "5. (DEF CAST) DisaggregatedData.xls\n",
            "6. (DEF CAST) MonitoringSite_DerivedData.xls\n",
            "5. DEF_DisaggregatedData.docx\n",
            "4. DEF_BiologyEQRData.docx\n",
            "3. DEF_BiologyEQRClassificationProcedure.docx\n",
            "6. DEF_MonitoringSite_DerivedData.docx\n",
            "4. DEF_BiologyEQRData.txt\n",
            "5. DEF_DisaggregatedData.txt\n",
            "6. DEF_MonitoringSite_DerivedData.txt\n",
            "0. TXT DEF\n",
            "Objetivo Proyecto.txt\n",
            "CAMPOS DEFINITIVOS\n",
            "Proyectos SAI 2024.gsheet\n",
            "fichero_filtrado_1.csv\n"
          ]
        }
      ]
    },
    {
      "cell_type": "code",
      "source": [
        "import pandas as pd\n",
        "\n",
        "# Especificar la ruta del archivo CSV\n",
        "file_path = '/content/drive/My Drive/0._JUAN_CARLOS_Y_JOSE/5. DisaggregatedData.csv'  # Actualiza con la ruta correcta\n",
        "\n",
        "# Cargar el archivo CSV en un DataFrame de pandas\n",
        "df = pd.read_csv(file_path)"
      ],
      "metadata": {
        "colab": {
          "base_uri": "https://localhost:8080/"
        },
        "id": "ZoazZVE7Ry0y",
        "outputId": "3045ffcc-7802-4b29-e413-e0d17c4f21c2"
      },
      "execution_count": null,
      "outputs": [
        {
          "output_type": "stream",
          "name": "stderr",
          "text": [
            "<ipython-input-3-e86b2231aba8>:7: DtypeWarning: Columns (11,13,14,19) have mixed types. Specify dtype option on import or set low_memory=False.\n",
            "  df = pd.read_csv(file_path)\n"
          ]
        }
      ]
    },
    {
      "cell_type": "code",
      "source": [
        "# Mostrar las cabeceras (nombres de las columnas)\n",
        "print(df.columns)"
      ],
      "metadata": {
        "colab": {
          "base_uri": "https://localhost:8080/"
        },
        "id": "WLa2XsYUVQsZ",
        "outputId": "fe3be8f8-a475-45be-c0e2-22e5336a7cf9"
      },
      "execution_count": null,
      "outputs": [
        {
          "output_type": "stream",
          "name": "stdout",
          "text": [
            "Index(['monitoringSiteIdentifier', 'monitoringSiteIdentifierScheme',\n",
            "       'parameterWaterBodyCategory', 'observedPropertyDeterminandCode',\n",
            "       'procedureAnalysedFraction', 'procedureAnalysedMedia', 'resultUom',\n",
            "       'phenomenonTimeSamplingDate', 'resultObservedValue',\n",
            "       'resultQualityObservedValueBelowLOQ', 'procedureLOQValue',\n",
            "       'procedureAnalyticalMethod', 'parameterSampleDepth',\n",
            "       'resultObservationStatus', 'Remarks', 'metadata_versionId',\n",
            "       'metadata_beginLifeSpanVersion', 'metadata_statusCode',\n",
            "       'metadata_observationStatus', 'metadata_statements', 'UID'],\n",
            "      dtype='object')\n"
          ]
        }
      ]
    },
    {
      "cell_type": "code",
      "source": [
        "# Obtener la cantidad de registros (filas)\n",
        "num_registros = len(df)\n",
        "\n",
        "# Mostrar la cantidad de registros\n",
        "print(f'La cantidad de registros es: {num_registros}')"
      ],
      "metadata": {
        "colab": {
          "base_uri": "https://localhost:8080/"
        },
        "id": "hKwwv50cWJDC",
        "outputId": "0060905e-5005-418e-c590-b55dafc85b4c"
      },
      "execution_count": null,
      "outputs": [
        {
          "output_type": "stream",
          "name": "stdout",
          "text": [
            "La cantidad de registros es: 33848578\n"
          ]
        }
      ]
    },
    {
      "cell_type": "code",
      "source": [
        "# Filtrar filas donde 'metadata_observationStatus' es igual a 'A'\n",
        "df_filtrado = df[df['metadata_observationStatus'] == 'A']"
      ],
      "metadata": {
        "id": "4uRBtJMJW84k"
      },
      "execution_count": null,
      "outputs": []
    },
    {
      "cell_type": "code",
      "source": [
        "# Obtener la cantidad de registros (filas)\n",
        "num_registros = len(df_filtrado)\n",
        "\n",
        "# Mostrar la cantidad de registros\n",
        "print(f'La cantidad de registros es: {num_registros}')"
      ],
      "metadata": {
        "colab": {
          "base_uri": "https://localhost:8080/"
        },
        "id": "Hnhmc00vXA4L",
        "outputId": "065dd98f-5d46-4d14-849d-792a3819ed7a"
      },
      "execution_count": null,
      "outputs": [
        {
          "output_type": "stream",
          "name": "stdout",
          "text": [
            "La cantidad de registros es: 33051438\n"
          ]
        }
      ]
    },
    {
      "cell_type": "code",
      "source": [
        "df_filtrado_3 =  df_filtrado[df_filtrado['procedureAnalyticalMethod'] != '-']\n",
        "df_filtrado_4 =  df_filtrado_3[df_filtrado_3['procedureAnalyticalMethod'].notna()]\n",
        "\n",
        "# Obtener la cantidad de registros (filas)\n",
        "num_registros_3 = len(df_filtrado_3)\n",
        "num_registros_4 = len(df_filtrado_4)\n",
        "\n",
        "# Mostrar la cantidad de registros\n",
        "print(f'La cantidad de registros es: {num_registros_3}')\n",
        "print(f'La cantidad de registros es: {num_registros_4}')\n"
      ],
      "metadata": {
        "colab": {
          "base_uri": "https://localhost:8080/"
        },
        "id": "l5av_lfOe4Te",
        "outputId": "c1924820-002b-4765-ff49-b89e59d19d77"
      },
      "execution_count": null,
      "outputs": [
        {
          "output_type": "stream",
          "name": "stdout",
          "text": [
            "La cantidad de registros es: 33051403\n",
            "La cantidad de registros es: 3825379\n"
          ]
        }
      ]
    },
    {
      "cell_type": "code",
      "source": [
        "df_filtrado_5 =  df_filtrado_4[df_filtrado_4['parameterSampleDepth'] >= 0]\n",
        "\n",
        "# Obtener la cantidad de registros (filas)\n",
        "num_registros_5 = len(df_filtrado_5)\n",
        "\n",
        "# Mostrar la cantidad de registros\n",
        "print(f'La cantidad de registros es: {num_registros_5}')"
      ],
      "metadata": {
        "colab": {
          "base_uri": "https://localhost:8080/"
        },
        "id": "w9VbImJHbiIG",
        "outputId": "71cc18f6-0795-4f46-dbd4-fbb9b9d035d3"
      },
      "execution_count": null,
      "outputs": [
        {
          "output_type": "stream",
          "name": "stdout",
          "text": [
            "La cantidad de registros es: 2857359\n"
          ]
        }
      ]
    },
    {
      "cell_type": "code",
      "source": [
        "df_filtrado_6 =  df_filtrado_5[df_filtrado_5['metadata_statusCode'] != 'experimental']\n",
        "\n",
        "# Obtener la cantidad de registros (filas)\n",
        "num_registros_6 = len(df_filtrado_6)\n",
        "\n",
        "# Mostrar la cantidad de registros\n",
        "print(f'La cantidad de registros es: {num_registros_6}')"
      ],
      "metadata": {
        "colab": {
          "base_uri": "https://localhost:8080/"
        },
        "id": "KcIAQoHQtInl",
        "outputId": "cd43d3f8-b4b2-499b-d32f-9c2e55849272"
      },
      "execution_count": null,
      "outputs": [
        {
          "output_type": "stream",
          "name": "stdout",
          "text": [
            "La cantidad de registros es: 2148584\n"
          ]
        }
      ]
    },
    {
      "cell_type": "code",
      "source": [
        "\n",
        "# Lista de columnas a eliminar\n",
        "columnas_eliminar = ['monitoringSiteIdentifierScheme', 'procedureAnalysedFraction','Remarks','metadata_versionId','metadata_beginLifeSpanVersion','metadata_statusCode','metadata_observationStatus','UID']\n",
        "df_filtrado_7 = df_filtrado_6.drop(columns=columnas_eliminar)\n",
        "\n"
      ],
      "metadata": {
        "id": "5CG4Pdoet_d3"
      },
      "execution_count": null,
      "outputs": []
    },
    {
      "cell_type": "code",
      "source": [
        "# Mostrar las primeras 10 líneas del campo 'phenomenonTimeSamplingDate'\n",
        "print(df_filtrado_7['phenomenonTimeSamplingDate'].head(10))\n",
        "df_filtrado_7['phenomenonTimeSamplingDate'] = pd.to_datetime(df_filtrado_7['phenomenonTimeSamplingDate'], format='%Y-%m-%d %H:%M:%S.%f')\n",
        "\n",
        "# Filtrar el DataFrame para fechas antes de 2018\n",
        "df_filtrado_8 = df_filtrado_7[df_filtrado_7['phenomenonTimeSamplingDate'] < '2018-01-01 00:00:00.000']\n",
        "print(df_filtrado_8['phenomenonTimeSamplingDate'].head(10))\n",
        "\n",
        "# Filtrar el DataFrame para fechas después de 2017\n",
        "df_filtrado_9 = df_filtrado_7[df_filtrado_7['phenomenonTimeSamplingDate'] >= '2018-01-01 00:00:00.000']\n",
        "print(df_filtrado_9['phenomenonTimeSamplingDate'].head(10))\n",
        "\n"
      ],
      "metadata": {
        "id": "r-komJ9jyWAy",
        "colab": {
          "base_uri": "https://localhost:8080/"
        },
        "outputId": "62c058f3-1dcd-4fb1-bbd6-462e9e36217f"
      },
      "execution_count": null,
      "outputs": [
        {
          "output_type": "stream",
          "name": "stdout",
          "text": [
            "248   2015-07-06\n",
            "250   2015-06-01\n",
            "251   2015-04-07\n",
            "254   2015-05-20\n",
            "256   2015-06-15\n",
            "260   2015-08-11\n",
            "261   2015-08-17\n",
            "262   2015-09-07\n",
            "263   2015-06-15\n",
            "264   2015-05-05\n",
            "Name: phenomenonTimeSamplingDate, dtype: datetime64[ns]\n",
            "248   2015-07-06\n",
            "250   2015-06-01\n",
            "251   2015-04-07\n",
            "254   2015-05-20\n",
            "256   2015-06-15\n",
            "260   2015-08-11\n",
            "261   2015-08-17\n",
            "262   2015-09-07\n",
            "263   2015-06-15\n",
            "264   2015-05-05\n",
            "Name: phenomenonTimeSamplingDate, dtype: datetime64[ns]\n",
            "27758850   2018-03-05\n",
            "27758851   2018-03-07\n",
            "27758852   2018-03-13\n",
            "27758853   2018-03-20\n",
            "27758854   2018-03-05\n",
            "27758855   2018-03-07\n",
            "27758856   2018-03-13\n",
            "27758857   2018-03-20\n",
            "27758858   2018-03-05\n",
            "27758859   2018-03-07\n",
            "Name: phenomenonTimeSamplingDate, dtype: datetime64[ns]\n"
          ]
        }
      ]
    },
    {
      "cell_type": "code",
      "source": [
        "output_path = '/content/drive/My Drive/0._JUAN_CARLOS_Y_JOSE/fichero_filtrado_1.csv'\n",
        "df_filtrado_7.to_csv(output_path,index=False)\n",
        "output_path = '/content/drive/My Drive/0._JUAN_CARLOS_Y_JOSE/Entrenamiento_hasta_2017.csv'\n",
        "df_filtrado_8.to_csv(output_path,index=False)\n",
        "output_path = '/content/drive/My Drive/0._JUAN_CARLOS_Y_JOSE/Test_2018.csv'\n",
        "df_filtrado_9.to_csv(output_path,index=False)"
      ],
      "metadata": {
        "id": "-22Ks-1Jp5Am"
      },
      "execution_count": null,
      "outputs": []
    },
    {
      "cell_type": "code",
      "source": [],
      "metadata": {
        "id": "kjSqk6VVybXE"
      },
      "execution_count": null,
      "outputs": []
    },
    {
      "cell_type": "markdown",
      "source": [],
      "metadata": {
        "id": "3bakqsYWyaoR"
      }
    },
    {
      "cell_type": "markdown",
      "source": [],
      "metadata": {
        "id": "slVlV4q7yaUS"
      }
    }
  ]
}