{
  "cells": [
    {
      "cell_type": "markdown",
      "metadata": {
        "colab_type": "text",
        "id": "view-in-github"
      },
      "source": [
        "<a href=\"https://colab.research.google.com/github/sergiolms/smartbite/blob/main/google-collab/SmartBite_Training_phase.ipynb\" target=\"_parent\"><img src=\"https://colab.research.google.com/assets/colab-badge.svg\" alt=\"Open In Colab\"/></a>"
      ]
    },
    {
      "cell_type": "markdown",
      "metadata": {
        "id": "I2xbw6zoOFsv"
      },
      "source": [
        "# SmartBite 🍏\n",
        "The AI tool that makes you eat wiser."
      ]
    },
    {
      "cell_type": "markdown",
      "metadata": {
        "id": "qZXR9WOpVSNr"
      },
      "source": [
        "## 🥫 Dataset used\n",
        "- Dataset Food101 extracted from [Kaggle](https://www.kaggle.com/datasets/dansbecker/food-101).\n",
        "  - This dataset contains 101 folders of food & dishes with a thousand pictures each.\n",
        "\n",
        "- For the food information, due to time limitations we initially used ChatGPT to obtain the list of ingredients & nutritional information based on a recommended portion in grams.\n",
        "  - As a follow up task, we intend to use the [Open Food Facts database](https://world.openfoodfacts.org/data), a ~10GB database of food and ingredients with their nutritional information and healthy score. This will give us a more precise and adjusted result of the nutritional information of the dish."
      ]
    },
    {
      "cell_type": "markdown",
      "metadata": {
        "id": "UUa-GOzN6HNI"
      },
      "source": [
        "## 🍽 Project Setup\n",
        "Install dependencies, make imports and mount Google Drive"
      ]
    },
    {
      "cell_type": "code",
      "execution_count": null,
      "metadata": {
        "colab": {
          "base_uri": "https://localhost:8080/"
        },
        "id": "MIXv4IA25KrV",
        "outputId": "fc07e695-ed8d-48d7-dbac-956f4f3b24c7"
      },
      "outputs": [],
      "source": [
        "import os\n",
        "import json\n",
        "import numpy as np\n",
        "import pandas as pd\n",
        "import tensorflow as tf\n",
        "\n",
        "from tensorflow.keras.preprocessing.image import ImageDataGenerator\n",
        "from tensorflow.keras import regularizers\n",
        "from tensorflow.keras.models import Model\n",
        "from tensorflow.keras.layers import Dense, Dropout\n",
        "from tensorflow.keras.layers import GlobalAveragePooling2D\n",
        "from tensorflow.keras.optimizers import SGD\n",
        "from tensorflow.keras.callbacks import ModelCheckpoint, CSVLogger\n",
        "\n",
        "from google.colab import drive\n",
        "\n",
        "# Mount the drive\n",
        "drive.mount('/content/drive')\n",
        "# Here we load our project folder, that has the following structure:\n",
        "# - root folder (\"smartbite_project\")\n",
        "# |-- datasource // Contains the nutritional information JSON file\n",
        "#   |-- food_info // Contains the nutritional information JSON file\n",
        "#   |-- images // Contains all images\n",
        "#   |-- meta // Contains metadata files, such as training & test data and classes\n",
        "# |-- model\n",
        "#   |-- model_trained_3class.keras // This is the model trained\n",
        "# Change this path to the location of this project in your Drive\n",
        "base_dir = '/content/drive/MyDrive/smartbite_project/'"
      ]
    },
    {
      "cell_type": "markdown",
      "metadata": {
        "id": "6E45sApb6Lam"
      },
      "source": [
        "## 📂 Load metadata"
      ]
    },
    {
      "cell_type": "code",
      "execution_count": 10,
      "metadata": {
        "id": "7TxNatCtOTcN"
      },
      "outputs": [],
      "source": [
        "images_dir = os.path.join(base_dir,\"datasource/images\")\n",
        "\n",
        "# This is a list of food that have a folder with the exact same name as it appears here. Eg.: \"bread_pudding\", \"bruschetta\", \"caesar_salad\"\n",
        "with open(os.path.join(base_dir,\"datasource/meta/classes.txt\"), 'r') as f:\n",
        "    food_folders = f.read().strip().split('\\n')\n",
        "\n",
        "# This is a list with the user-friendly name of the food in the same order as the previous file. Eg.: \"Bread pudding\", \"Bruschetta\", \"Caesar salad\"\n",
        "with open(os.path.join(base_dir,\"datasource/meta/labels.txt\"), 'r') as f:\n",
        "    food_names = f.read().strip().split('\\n')\n",
        "\n",
        "total_classes = len(food_folders)"
      ]
    },
    {
      "cell_type": "markdown",
      "metadata": {
        "id": "efzZhANxfAcs"
      },
      "source": [
        "### ☝️🤓 Train & Validation\n",
        "\n",
        "The whole dataset is made of 101 dishes with 1000 pictures for each. That makes a total of 101000 pictures to process.\n",
        "\n",
        "The following files contain a partition of 75% train data, 25% validation data.\n",
        "\n",
        "That is:\n",
        "- 75750 pictures used for training\n",
        "- 25250 pictures used for validation (test)."
      ]
    },
    {
      "cell_type": "code",
      "execution_count": 11,
      "metadata": {
        "id": "LTfYYlOQfAws"
      },
      "outputs": [],
      "source": [
        "train_data = json.load(open(os.path.join(base_dir,\"datasource/meta/train.json\")))\n",
        "test_data = json.load(open(os.path.join(base_dir,\"datasource/meta/test.json\")))"
      ]
    },
    {
      "cell_type": "markdown",
      "metadata": {
        "id": "Y-zLkdJejUKt"
      },
      "source": [
        "# 📊 Data preprocessing"
      ]
    },
    {
      "cell_type": "markdown",
      "metadata": {
        "id": "8ePCfGIA6RWM"
      },
      "source": [
        "## 🔡 Create a Dataframe from data"
      ]
    },
    {
      "cell_type": "code",
      "execution_count": 12,
      "metadata": {
        "id": "ZbC6qYIthUak"
      },
      "outputs": [],
      "source": [
        "def create_dataframe(data):\n",
        "    X = []\n",
        "    y = []\n",
        "    for key in data:\n",
        "      for item in data[key]:\n",
        "          X.append(item.strip()+\".jpg\") # Image\n",
        "          y.append(key.strip()) # Category\n",
        "    X = np.array(X)\n",
        "    y = np.array(y)\n",
        "    df = pd.DataFrame()\n",
        "    df['filename'] = X\n",
        "    df['label'] = y\n",
        "    return df"
      ]
    },
    {
      "cell_type": "code",
      "execution_count": 13,
      "metadata": {
        "colab": {
          "base_uri": "https://localhost:8080/",
          "height": 206
        },
        "id": "OMI5RA-_hsZ6",
        "outputId": "40dd7b41-8801-433d-e197-638b9a3bbd3b"
      },
      "outputs": [
        {
          "data": {
            "application/vnd.google.colaboratory.intrinsic+json": {
              "summary": "{\n  \"name\": \"df_train\",\n  \"rows\": 75750,\n  \"fields\": [\n    {\n      \"column\": \"filename\",\n      \"properties\": {\n        \"dtype\": \"string\",\n        \"num_unique_values\": 75750,\n        \"samples\": [\n          \"frozen_yogurt/2584688.jpg\",\n          \"donuts/3570357.jpg\",\n          \"omelette/3520398.jpg\"\n        ],\n        \"semantic_type\": \"\",\n        \"description\": \"\"\n      }\n    },\n    {\n      \"column\": \"label\",\n      \"properties\": {\n        \"dtype\": \"category\",\n        \"num_unique_values\": 101,\n        \"samples\": [\n          \"hot_dog\",\n          \"guacamole\",\n          \"spaghetti_carbonara\"\n        ],\n        \"semantic_type\": \"\",\n        \"description\": \"\"\n      }\n    }\n  ]\n}",
              "type": "dataframe",
              "variable_name": "df_train"
            },
            "text/html": [
              "\n",
              "  <div id=\"df-0a2e1593-c110-4c85-9493-1f7649913666\" class=\"colab-df-container\">\n",
              "    <div>\n",
              "<style scoped>\n",
              "    .dataframe tbody tr th:only-of-type {\n",
              "        vertical-align: middle;\n",
              "    }\n",
              "\n",
              "    .dataframe tbody tr th {\n",
              "        vertical-align: top;\n",
              "    }\n",
              "\n",
              "    .dataframe thead th {\n",
              "        text-align: right;\n",
              "    }\n",
              "</style>\n",
              "<table border=\"1\" class=\"dataframe\">\n",
              "  <thead>\n",
              "    <tr style=\"text-align: right;\">\n",
              "      <th></th>\n",
              "      <th>filename</th>\n",
              "      <th>label</th>\n",
              "    </tr>\n",
              "  </thead>\n",
              "  <tbody>\n",
              "    <tr>\n",
              "      <th>0</th>\n",
              "      <td>churros/1004234.jpg</td>\n",
              "      <td>churros</td>\n",
              "    </tr>\n",
              "    <tr>\n",
              "      <th>1</th>\n",
              "      <td>churros/1013460.jpg</td>\n",
              "      <td>churros</td>\n",
              "    </tr>\n",
              "    <tr>\n",
              "      <th>2</th>\n",
              "      <td>churros/1016791.jpg</td>\n",
              "      <td>churros</td>\n",
              "    </tr>\n",
              "    <tr>\n",
              "      <th>3</th>\n",
              "      <td>churros/102100.jpg</td>\n",
              "      <td>churros</td>\n",
              "    </tr>\n",
              "    <tr>\n",
              "      <th>4</th>\n",
              "      <td>churros/1025494.jpg</td>\n",
              "      <td>churros</td>\n",
              "    </tr>\n",
              "  </tbody>\n",
              "</table>\n",
              "</div>\n",
              "    <div class=\"colab-df-buttons\">\n",
              "\n",
              "  <div class=\"colab-df-container\">\n",
              "    <button class=\"colab-df-convert\" onclick=\"convertToInteractive('df-0a2e1593-c110-4c85-9493-1f7649913666')\"\n",
              "            title=\"Convert this dataframe to an interactive table.\"\n",
              "            style=\"display:none;\">\n",
              "\n",
              "  <svg xmlns=\"http://www.w3.org/2000/svg\" height=\"24px\" viewBox=\"0 -960 960 960\">\n",
              "    <path d=\"M120-120v-720h720v720H120Zm60-500h600v-160H180v160Zm220 220h160v-160H400v160Zm0 220h160v-160H400v160ZM180-400h160v-160H180v160Zm440 0h160v-160H620v160ZM180-180h160v-160H180v160Zm440 0h160v-160H620v160Z\"/>\n",
              "  </svg>\n",
              "    </button>\n",
              "\n",
              "  <style>\n",
              "    .colab-df-container {\n",
              "      display:flex;\n",
              "      gap: 12px;\n",
              "    }\n",
              "\n",
              "    .colab-df-convert {\n",
              "      background-color: #E8F0FE;\n",
              "      border: none;\n",
              "      border-radius: 50%;\n",
              "      cursor: pointer;\n",
              "      display: none;\n",
              "      fill: #1967D2;\n",
              "      height: 32px;\n",
              "      padding: 0 0 0 0;\n",
              "      width: 32px;\n",
              "    }\n",
              "\n",
              "    .colab-df-convert:hover {\n",
              "      background-color: #E2EBFA;\n",
              "      box-shadow: 0px 1px 2px rgba(60, 64, 67, 0.3), 0px 1px 3px 1px rgba(60, 64, 67, 0.15);\n",
              "      fill: #174EA6;\n",
              "    }\n",
              "\n",
              "    .colab-df-buttons div {\n",
              "      margin-bottom: 4px;\n",
              "    }\n",
              "\n",
              "    [theme=dark] .colab-df-convert {\n",
              "      background-color: #3B4455;\n",
              "      fill: #D2E3FC;\n",
              "    }\n",
              "\n",
              "    [theme=dark] .colab-df-convert:hover {\n",
              "      background-color: #434B5C;\n",
              "      box-shadow: 0px 1px 3px 1px rgba(0, 0, 0, 0.15);\n",
              "      filter: drop-shadow(0px 1px 2px rgba(0, 0, 0, 0.3));\n",
              "      fill: #FFFFFF;\n",
              "    }\n",
              "  </style>\n",
              "\n",
              "    <script>\n",
              "      const buttonEl =\n",
              "        document.querySelector('#df-0a2e1593-c110-4c85-9493-1f7649913666 button.colab-df-convert');\n",
              "      buttonEl.style.display =\n",
              "        google.colab.kernel.accessAllowed ? 'block' : 'none';\n",
              "\n",
              "      async function convertToInteractive(key) {\n",
              "        const element = document.querySelector('#df-0a2e1593-c110-4c85-9493-1f7649913666');\n",
              "        const dataTable =\n",
              "          await google.colab.kernel.invokeFunction('convertToInteractive',\n",
              "                                                    [key], {});\n",
              "        if (!dataTable) return;\n",
              "\n",
              "        const docLinkHtml = 'Like what you see? Visit the ' +\n",
              "          '<a target=\"_blank\" href=https://colab.research.google.com/notebooks/data_table.ipynb>data table notebook</a>'\n",
              "          + ' to learn more about interactive tables.';\n",
              "        element.innerHTML = '';\n",
              "        dataTable['output_type'] = 'display_data';\n",
              "        await google.colab.output.renderOutput(dataTable, element);\n",
              "        const docLink = document.createElement('div');\n",
              "        docLink.innerHTML = docLinkHtml;\n",
              "        element.appendChild(docLink);\n",
              "      }\n",
              "    </script>\n",
              "  </div>\n",
              "\n",
              "\n",
              "<div id=\"df-76c5aa66-b192-417b-b66e-461466241501\">\n",
              "  <button class=\"colab-df-quickchart\" onclick=\"quickchart('df-76c5aa66-b192-417b-b66e-461466241501')\"\n",
              "            title=\"Suggest charts\"\n",
              "            style=\"display:none;\">\n",
              "\n",
              "<svg xmlns=\"http://www.w3.org/2000/svg\" height=\"24px\"viewBox=\"0 0 24 24\"\n",
              "     width=\"24px\">\n",
              "    <g>\n",
              "        <path d=\"M19 3H5c-1.1 0-2 .9-2 2v14c0 1.1.9 2 2 2h14c1.1 0 2-.9 2-2V5c0-1.1-.9-2-2-2zM9 17H7v-7h2v7zm4 0h-2V7h2v10zm4 0h-2v-4h2v4z\"/>\n",
              "    </g>\n",
              "</svg>\n",
              "  </button>\n",
              "\n",
              "<style>\n",
              "  .colab-df-quickchart {\n",
              "      --bg-color: #E8F0FE;\n",
              "      --fill-color: #1967D2;\n",
              "      --hover-bg-color: #E2EBFA;\n",
              "      --hover-fill-color: #174EA6;\n",
              "      --disabled-fill-color: #AAA;\n",
              "      --disabled-bg-color: #DDD;\n",
              "  }\n",
              "\n",
              "  [theme=dark] .colab-df-quickchart {\n",
              "      --bg-color: #3B4455;\n",
              "      --fill-color: #D2E3FC;\n",
              "      --hover-bg-color: #434B5C;\n",
              "      --hover-fill-color: #FFFFFF;\n",
              "      --disabled-bg-color: #3B4455;\n",
              "      --disabled-fill-color: #666;\n",
              "  }\n",
              "\n",
              "  .colab-df-quickchart {\n",
              "    background-color: var(--bg-color);\n",
              "    border: none;\n",
              "    border-radius: 50%;\n",
              "    cursor: pointer;\n",
              "    display: none;\n",
              "    fill: var(--fill-color);\n",
              "    height: 32px;\n",
              "    padding: 0;\n",
              "    width: 32px;\n",
              "  }\n",
              "\n",
              "  .colab-df-quickchart:hover {\n",
              "    background-color: var(--hover-bg-color);\n",
              "    box-shadow: 0 1px 2px rgba(60, 64, 67, 0.3), 0 1px 3px 1px rgba(60, 64, 67, 0.15);\n",
              "    fill: var(--button-hover-fill-color);\n",
              "  }\n",
              "\n",
              "  .colab-df-quickchart-complete:disabled,\n",
              "  .colab-df-quickchart-complete:disabled:hover {\n",
              "    background-color: var(--disabled-bg-color);\n",
              "    fill: var(--disabled-fill-color);\n",
              "    box-shadow: none;\n",
              "  }\n",
              "\n",
              "  .colab-df-spinner {\n",
              "    border: 2px solid var(--fill-color);\n",
              "    border-color: transparent;\n",
              "    border-bottom-color: var(--fill-color);\n",
              "    animation:\n",
              "      spin 1s steps(1) infinite;\n",
              "  }\n",
              "\n",
              "  @keyframes spin {\n",
              "    0% {\n",
              "      border-color: transparent;\n",
              "      border-bottom-color: var(--fill-color);\n",
              "      border-left-color: var(--fill-color);\n",
              "    }\n",
              "    20% {\n",
              "      border-color: transparent;\n",
              "      border-left-color: var(--fill-color);\n",
              "      border-top-color: var(--fill-color);\n",
              "    }\n",
              "    30% {\n",
              "      border-color: transparent;\n",
              "      border-left-color: var(--fill-color);\n",
              "      border-top-color: var(--fill-color);\n",
              "      border-right-color: var(--fill-color);\n",
              "    }\n",
              "    40% {\n",
              "      border-color: transparent;\n",
              "      border-right-color: var(--fill-color);\n",
              "      border-top-color: var(--fill-color);\n",
              "    }\n",
              "    60% {\n",
              "      border-color: transparent;\n",
              "      border-right-color: var(--fill-color);\n",
              "    }\n",
              "    80% {\n",
              "      border-color: transparent;\n",
              "      border-right-color: var(--fill-color);\n",
              "      border-bottom-color: var(--fill-color);\n",
              "    }\n",
              "    90% {\n",
              "      border-color: transparent;\n",
              "      border-bottom-color: var(--fill-color);\n",
              "    }\n",
              "  }\n",
              "</style>\n",
              "\n",
              "  <script>\n",
              "    async function quickchart(key) {\n",
              "      const quickchartButtonEl =\n",
              "        document.querySelector('#' + key + ' button');\n",
              "      quickchartButtonEl.disabled = true;  // To prevent multiple clicks.\n",
              "      quickchartButtonEl.classList.add('colab-df-spinner');\n",
              "      try {\n",
              "        const charts = await google.colab.kernel.invokeFunction(\n",
              "            'suggestCharts', [key], {});\n",
              "      } catch (error) {\n",
              "        console.error('Error during call to suggestCharts:', error);\n",
              "      }\n",
              "      quickchartButtonEl.classList.remove('colab-df-spinner');\n",
              "      quickchartButtonEl.classList.add('colab-df-quickchart-complete');\n",
              "    }\n",
              "    (() => {\n",
              "      let quickchartButtonEl =\n",
              "        document.querySelector('#df-76c5aa66-b192-417b-b66e-461466241501 button');\n",
              "      quickchartButtonEl.style.display =\n",
              "        google.colab.kernel.accessAllowed ? 'block' : 'none';\n",
              "    })();\n",
              "  </script>\n",
              "</div>\n",
              "    </div>\n",
              "  </div>\n"
            ],
            "text/plain": [
              "              filename    label\n",
              "0  churros/1004234.jpg  churros\n",
              "1  churros/1013460.jpg  churros\n",
              "2  churros/1016791.jpg  churros\n",
              "3   churros/102100.jpg  churros\n",
              "4  churros/1025494.jpg  churros"
            ]
          },
          "execution_count": 13,
          "metadata": {},
          "output_type": "execute_result"
        }
      ],
      "source": [
        "# Dataset for training\n",
        "df_train = create_dataframe(train_data)\n",
        "# Dataset for validation\n",
        "df_test = create_dataframe(test_data)\n",
        "df_train.head()"
      ]
    },
    {
      "cell_type": "markdown",
      "metadata": {
        "id": "Cdrr0zWric0P"
      },
      "source": [
        "## 🌅 Create ImageDataGenerator artifacts"
      ]
    },
    {
      "cell_type": "code",
      "execution_count": null,
      "metadata": {
        "id": "tgpR8iKEh6t6"
      },
      "outputs": [],
      "source": [
        "img_width, img_height = 299, 299\n",
        "\n",
        "# We create an ImageDataGenerator for test and training data\n",
        "datagen = ImageDataGenerator(\n",
        "    rescale=1. / 255,\n",
        "    validation_split=0.2\n",
        ")\n",
        "\n",
        "# We use the JSON files and folders to create the generator\n",
        "train_generator = datagen.flow_from_dataframe(\n",
        "    df_train,\n",
        "    directory=images_dir,\n",
        "    x_col='filename',\n",
        "    y_col='label',\n",
        "    class_mode='categorical',\n",
        "    target_size=(img_height, img_width),\n",
        ")\n",
        "\n",
        "test_generator = datagen.flow_from_dataframe(\n",
        "    df_test,\n",
        "    directory=images_dir,\n",
        "    x_col='filename',\n",
        "    y_col='label',\n",
        "    class_mode='categorical',\n",
        "    target_size=(img_height, img_width),\n",
        ")"
      ]
    },
    {
      "cell_type": "markdown",
      "metadata": {
        "id": "vWiOtmiFBbGa"
      },
      "source": [
        "# ⚙️ Model configuration"
      ]
    },
    {
      "cell_type": "code",
      "execution_count": null,
      "metadata": {
        "id": "6QAFXV75jiJY"
      },
      "outputs": [],
      "source": [
        "batch_size = 32\n",
        "\n",
        "# Initialize the pretrained Model\n",
        "inception = tf.keras.applications.inception_v3.InceptionV3(weights='imagenet', include_top=False)\n",
        "\n",
        "# Set layers\n",
        "x = inception.output\n",
        "x = GlobalAveragePooling2D()(x)\n",
        "x = Dense(128, activation='relu')(x)\n",
        "x = Dropout(0.2)(x)\n",
        "\n",
        "predictions = Dense(\n",
        "    total_classes,\n",
        "    kernel_regularizer=regularizers.l2(0.005),\n",
        "    activation='softmax'\n",
        ")(x)\n",
        "\n",
        "# Create model & compile it\n",
        "model = Model(inputs=inception.input, outputs=predictions)\n",
        "model.compile(\n",
        "    optimizer=SGD(learning_rate=0.0001, momentum=0.9),\n",
        "    loss='categorical_crossentropy',\n",
        "    metrics=['accuracy']\n",
        ")\n",
        "\n",
        "# Add checkpoints, store only the best model in each epoc\n",
        "checkpointer = ModelCheckpoint(\n",
        "    filepath='best_model.keras',\n",
        "    verbose=1,\n",
        "    save_best_only=True\n",
        ")\n",
        "\n",
        "csv_logger = CSVLogger('history.log')\n",
        "\n",
        "# Display a summary of the model we're going to use\n",
        "model.summary()"
      ]
    },
    {
      "cell_type": "markdown",
      "metadata": {
        "id": "-uCoIFFIfLWQ"
      },
      "source": [
        "## 🏋🏻‍♂️ Train model"
      ]
    },
    {
      "cell_type": "code",
      "execution_count": null,
      "metadata": {
        "id": "He1eO3eBmD9-"
      },
      "outputs": [],
      "source": [
        "# Train the model with data (each epoc took ~9h, so I suggest you to skip this step :P)\n",
        "history = model.fit(\n",
        "    train_generator,\n",
        "    validation_data=test_generator,\n",
        "    batch_size=batch_size,\n",
        "    epochs=30,\n",
        "    verbose=1,\n",
        "    callbacks=[csv_logger, checkpointer])\n",
        "\n",
        "# Save the entire model as a SavedModel.\n",
        "model.save('model_trained.keras')"
      ]
    },
    {
      "cell_type": "markdown",
      "metadata": {
        "id": "e_6Q-lHVVABx"
      },
      "source": [
        "### 🔄 Pause & resume training\n",
        "\n",
        "Since each epoch may take ~9h to process, sometimes we needed to stop and resume the training later.\n",
        "If you run this from Google Collab, your session may end when it hits 12h or so.\n",
        "\n",
        "The following block is displayed as a demonstration on how resuming a training works. However, it's not necessary to run if you already were patient enough to run the whole training. 😀"
      ]
    },
    {
      "cell_type": "code",
      "execution_count": null,
      "metadata": {
        "id": "HAysfvRgVABx"
      },
      "outputs": [],
      "source": [
        "# Load the last (best) version of the model we have\n",
        "model = load_model('best_model.keras')\n",
        "\n",
        "# Load the training history\n",
        "history_df = pd.read_csv('history.log')\n",
        "\n",
        "# Get the number of epoch completed\n",
        "initial_epoch = len(history_df)\n",
        "\n",
        "# Set the checkpoints up again, we still want to save the best models from next epochs\n",
        "checkpointer = ModelCheckpoint(filepath='best_model.keras', verbose=1, save_best_only=True)\n",
        "csv_logger = CSVLogger('history.log', append=True)\n",
        "\n",
        "# Continue training the model\n",
        "history = model.fit(train_generator,\n",
        "    validation_data=test_generator,\n",
        "    batch_size=batch_size,\n",
        "    initial_epoch=initial_epoch, # Continue from last epoch\n",
        "    epochs=30,\n",
        "    verbose=1,\n",
        "    callbacks=[csv_logger, checkpointer])\n",
        "\n",
        "model.save('model_trained.keras')"
      ]
    }
  ],
  "metadata": {
    "accelerator": "GPU",
    "colab": {
      "gpuType": "T4",
      "include_colab_link": true,
      "provenance": [],
      "toc_visible": true
    },
    "kernelspec": {
      "display_name": "Python 3",
      "name": "python3"
    },
    "language_info": {
      "codemirror_mode": {
        "name": "ipython",
        "version": 3
      },
      "file_extension": ".py",
      "mimetype": "text/x-python",
      "name": "python",
      "nbconvert_exporter": "python",
      "pygments_lexer": "ipython3",
      "version": "3.12.1"
    }
  },
  "nbformat": 4,
  "nbformat_minor": 0
}
