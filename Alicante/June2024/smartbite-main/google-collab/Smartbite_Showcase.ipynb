{
  "cells": [
    {
      "cell_type": "markdown",
      "metadata": {
        "colab_type": "text",
        "id": "view-in-github"
      },
      "source": [
        "<a href=\"https://colab.research.google.com/github/sergiolms/smartbite/blob/main/google-collab/Smartbite_Showcase.ipynb\" target=\"_parent\"><img src=\"https://colab.research.google.com/assets/colab-badge.svg\" alt=\"Open In Colab\"/></a>"
      ]
    },
    {
      "cell_type": "markdown",
      "metadata": {
        "id": "NEAvajk_J2hU"
      },
      "source": [
        "# SmartBite 🍏\n",
        "The AI tool that makes you eat wiser."
      ]
    },
    {
      "cell_type": "markdown",
      "metadata": {
        "id": "KDQR5l5tEXni"
      },
      "source": [
        "## 🥫 Dataset used\n",
        "- Dataset Food101 extracted from [Kaggle](https://www.kaggle.com/datasets/dansbecker/food-101).\n",
        "  - This dataset contains 101 folders of food & dishes with a thousand pictures each.\n",
        "\n",
        "- For the food information, due to time limitations we initially used ChatGPT to obtain the list of ingredients & nutritional information based on a recommended portion in grams.\n",
        "  - As a follow up task, we intend to use the [Open Food Facts database](https://world.openfoodfacts.org/data), a ~10GB database of food and ingredients with their nutritional information and healthy score. This will give us a more precise and adjusted result of the nutritional information of the dish."
      ]
    },
    {
      "cell_type": "markdown",
      "metadata": {
        "id": "btGaeNn8KHzu"
      },
      "source": [
        "## 🍽 Project Setup\n",
        "Install dependencies, make imports and mount Google Drive"
      ]
    },
    {
      "cell_type": "code",
      "execution_count": null,
      "metadata": {
        "id": "Nlz1Su5kop4y"
      },
      "outputs": [],
      "source": [
        "# Check your tensorflow version. If it's 2.15, run the following fragment\n",
        "import tensorflow as tf\n",
        "print(tf.__version__)"
      ]
    },
    {
      "cell_type": "code",
      "execution_count": null,
      "metadata": {
        "collapsed": true,
        "id": "kcfp_uH5kORe"
      },
      "outputs": [],
      "source": [
        "# Uninstall Tensorflow v2.15 and install v2.16.1\n",
        "!pip uninstall tensorflow -y\n",
        "!pip install tensorflow==2.16.1"
      ]
    },
    {
      "cell_type": "code",
      "execution_count": null,
      "metadata": {
        "id": "20P2RbqLoiaF"
      },
      "outputs": [],
      "source": [
        "# Run this if it's your first time. The system needs to install gradio to generate the interface.\n",
        "!pip install gradio"
      ]
    },
    {
      "cell_type": "code",
      "execution_count": 3,
      "metadata": {
        "id": "v0bpk4oCiorc"
      },
      "outputs": [],
      "source": [
        "import os\n",
        "import json\n",
        "import tensorflow as tf\n",
        "import gradio as gr\n",
        "import numpy as np\n",
        "from tensorflow.keras import models\n",
        "from tensorflow.keras.preprocessing import image\n",
        "\n",
        "from google.colab import drive"
      ]
    },
    {
      "cell_type": "code",
      "execution_count": 9,
      "metadata": {
        "colab": {
          "base_uri": "https://localhost:8080/"
        },
        "id": "0-OrXmq0ozRd",
        "outputId": "8dbb7fd4-c421-4e86-c891-aa61e87c9aa0"
      },
      "outputs": [
        {
          "name": "stdout",
          "output_type": "stream",
          "text": [
            "Mounted at /content/drive\n"
          ]
        }
      ],
      "source": [
        "# Mount the drive\n",
        "drive.mount('/content/drive')\n",
        "# Here we load our project folder, that has the following structure:\n",
        "# - root folder (\"smartbite_project\")\n",
        "# |-- datasource // Contains the nutritional information JSON file\n",
        "#   |-- food_info // Contains the nutritional information JSON file\n",
        "#   |-- images // Contains all images\n",
        "#   |-- meta // Contains metadata files, such as training & test data and classes\n",
        "# |-- model\n",
        "#   |-- model_trained_3class.keras // This is the model trained\n",
        "# Change this path to the location of this project in your Drive\n",
        "base_folder = '/content/drive/MyDrive/smartbite_project/'\n",
        "model_name = 'model/model_trained_3class.hdf5'"
      ]
    },
    {
      "cell_type": "markdown",
      "metadata": {
        "id": "3DBsNcW5JvHx"
      },
      "source": [
        "## ☕️ Function declaration\n",
        "In this section we will declare some methods that will help us in the process"
      ]
    },
    {
      "cell_type": "code",
      "execution_count": 6,
      "metadata": {
        "id": "5_jpoqmzcaGz"
      },
      "outputs": [],
      "source": [
        "# Read a JSON file and return its contents\n",
        "def get_info_json(file):\n",
        "  with open(file, \"r\", encoding=\"UTF-8\") as f:\n",
        "    info_food = json.load(f)\n",
        "  return info_food\n",
        "\n",
        "# Get the category name from the numeric representation returned by the model\n",
        "def get_category(label_numeric, labels_strings_food):\n",
        "  if label_numeric >= 0 and label_numeric < len(labels_strings_food):\n",
        "    return labels_strings_food[label_numeric]\n",
        "\n",
        "# Given an image, process it and make a prediction with the model\n",
        "def predict_class(model, img):\n",
        "  # Process image\n",
        "  img = image.load_img(img, target_size=(299, 299))\n",
        "  img = image.img_to_array(img)\n",
        "  img = np.expand_dims(img, axis=0)\n",
        "  img /= 255.\n",
        "\n",
        "  # Generate prediction\n",
        "  return np.argmax(model.predict(img))\n",
        "\n",
        "def display_nutritional_information(imagen):\n",
        "    prediction = predict_class(model, imagen)\n",
        "    guessed_food = get_category(int(prediction), labels_strings_food)\n",
        "    data = info_food[guessed_food]\n",
        "    return \"\\n\".join(f\"{key}: {value}\" for key, value in data.items())"
      ]
    },
    {
      "cell_type": "markdown",
      "metadata": {
        "id": "o_wlGJhYNTNf"
      },
      "source": [
        "## 🧑🏻‍🍳 Load the model & categories"
      ]
    },
    {
      "cell_type": "code",
      "execution_count": 10,
      "metadata": {
        "id": "eOIZXaXEicw8"
      },
      "outputs": [],
      "source": [
        "# Load the trained model\n",
        "model = models.load_model(os.path.join(base_folder, model_name), compile=False)"
      ]
    },
    {
      "cell_type": "code",
      "execution_count": 11,
      "metadata": {
        "id": "NgJj2_O1icw8"
      },
      "outputs": [],
      "source": [
        "# Get the nutritional information JSON file\n",
        "info_food = get_info_json(os.path.join(base_folder, \"datasource/food_info/food_info.json\"))\n",
        "\n",
        "# Store keys in a sorted array\n",
        "labels_strings_food = []\n",
        "for key in info_food:\n",
        "    labels_strings_food.append(key)\n",
        "labels_strings_food.sort()"
      ]
    },
    {
      "cell_type": "markdown",
      "metadata": {
        "id": "-gKModYANdy9"
      },
      "source": [
        "## 🍪 Demo time! 💥"
      ]
    },
    {
      "cell_type": "code",
      "execution_count": null,
      "metadata": {
        "id": "ryNXlPrRSzpy"
      },
      "outputs": [],
      "source": [
        "demo = gr.Interface(\n",
        "    fn=display_nutritional_information, # On image sent, run this fn\n",
        "    inputs=gr.Image(type=\"filepath\", label=\"Take a photo or upload a picture of your dish\"),\n",
        "    outputs=[\"text\"],\n",
        "    title=\"SmartBite\",\n",
        "    description=\"Upload a picture of your dish to see its nutritional information.\"\n",
        ")\n",
        "\n",
        "demo.launch()"
      ]
    }
  ],
  "metadata": {
    "accelerator": "GPU",
    "colab": {
      "gpuType": "T4",
      "include_colab_link": true,
      "provenance": []
    },
    "kernelspec": {
      "display_name": "Python 3",
      "name": "python3"
    },
    "language_info": {
      "codemirror_mode": {
        "name": "ipython",
        "version": 3
      },
      "file_extension": ".py",
      "mimetype": "text/x-python",
      "name": "python",
      "nbconvert_exporter": "python",
      "pygments_lexer": "ipython3",
      "version": "3.12.1"
    }
  },
  "nbformat": 4,
  "nbformat_minor": 0
}
