{
 "cells": [
  {
   "cell_type": "code",
   "execution_count": 2,
   "metadata": {},
   "outputs": [],
   "source": [
    "from gtts import gTTS\n",
    "from pathlib import Path\n",
    "from moviepy.editor import AudioFileClip, concatenate_audioclips\n",
    "import os"
   ]
  },
  {
   "cell_type": "code",
   "execution_count": 3,
   "metadata": {},
   "outputs": [
    {
     "name": "stdout",
     "output_type": "stream",
     "text": [
      "Guardado: ..\\..\\data\\output\\output_audio_test\\description\\Chapter01\\page1_img\\panel_1.mp3\n",
      "Guardado: ..\\..\\data\\output\\output_audio_test\\description\\Chapter01\\page1_img\\panel_2.mp3\n",
      "Guardado: ..\\..\\data\\output\\output_audio_test\\description\\Chapter01\\page1_img\\panel_3.mp3\n",
      "Guardado: ..\\..\\data\\output\\output_audio_test\\description\\Chapter01\\page1_img\\panel_4.mp3\n",
      "Guardado: ..\\..\\data\\output\\output_audio_test\\description\\Chapter01\\page1_img\\panel_5.mp3\n",
      "Guardado: ..\\..\\data\\output\\output_audio_test\\description\\Chapter01\\page2_img\\panel_1.mp3\n",
      "Guardado: ..\\..\\data\\output\\output_audio_test\\description\\Chapter01\\page2_img\\panel_2.mp3\n",
      "Guardado: ..\\..\\data\\output\\output_audio_test\\description\\Chapter01\\page2_img\\panel_3.mp3\n",
      "Guardado: ..\\..\\data\\output\\output_audio_test\\description\\Chapter01\\page2_img\\panel_4.mp3\n",
      "Guardado: ..\\..\\data\\output\\output_audio_test\\description\\Chapter01\\page2_img\\panel_5.mp3\n",
      "Guardado: ..\\..\\data\\output\\output_audio_test\\description\\Chapter01\\page3_img\\panel_1.mp3\n",
      "Guardado: ..\\..\\data\\output\\output_audio_test\\description\\Chapter01\\page3_img\\panel_2.mp3\n",
      "Guardado: ..\\..\\data\\output\\output_audio_test\\description\\Chapter01\\page3_img\\panel_3.mp3\n",
      "Guardado: ..\\..\\data\\output\\output_audio_test\\description\\Chapter01\\page3_img\\panel_4.mp3\n",
      "Guardado: ..\\..\\data\\output\\output_audio_test\\description\\Chapter01\\page3_img\\panel_5.mp3\n",
      "Guardado: ..\\..\\data\\output\\output_audio_test\\description\\Chapter01\\page3_img\\panel_6.mp3\n",
      "Guardado: ..\\..\\data\\output\\output_audio_test\\description\\Chapter01\\page3_img\\panel_7.mp3\n",
      "Guardado: ..\\..\\data\\output\\output_audio_test\\description\\Chapter01\\page3_img\\panel_8.mp3\n",
      "Guardado: ..\\..\\data\\output\\output_audio_test\\description\\Chapter01\\page4_img\\panel_1.mp3\n",
      "Guardado: ..\\..\\data\\output\\output_audio_test\\description\\Chapter01\\page4_img\\panel_2.mp3\n",
      "Guardado: ..\\..\\data\\output\\output_audio_test\\description\\Chapter01\\page4_img\\panel_3.mp3\n",
      "Guardado: ..\\..\\data\\output\\output_audio_test\\description\\Chapter01\\page4_img\\panel_4.mp3\n",
      "Guardado: ..\\..\\data\\output\\output_audio_test\\description\\Chapter01\\page4_img\\panel_5.mp3\n",
      "Guardado: ..\\..\\data\\output\\output_audio_test\\description\\Chapter01\\page4_img\\panel_6.mp3\n",
      "Guardado: ..\\..\\data\\output\\output_audio_test\\description\\Chapter03\\page1_img\\panel_1.mp3\n",
      "Guardado: ..\\..\\data\\output\\output_audio_test\\description\\Chapter03\\page1_img\\panel_2.mp3\n",
      "Guardado: ..\\..\\data\\output\\output_audio_test\\description\\Chapter03\\page1_img\\panel_3.mp3\n",
      "Guardado: ..\\..\\data\\output\\output_audio_test\\description\\Chapter03\\page2_img\\panel_1.mp3\n",
      "Guardado: ..\\..\\data\\output\\output_audio_test\\description\\Chapter03\\page2_img\\panel_2.mp3\n",
      "Guardado: ..\\..\\data\\output\\output_audio_test\\description\\Chapter03\\page2_img\\panel_3.mp3\n",
      "Guardado: ..\\..\\data\\output\\output_audio_test\\description\\Chapter03\\page2_img\\panel_4.mp3\n",
      "Guardado: ..\\..\\data\\output\\output_audio_test\\description\\Chapter03\\page2_img\\panel_5.mp3\n",
      "Guardado: ..\\..\\data\\output\\output_audio_test\\description\\Chapter03\\page2_img\\panel_6.mp3\n",
      "Guardado: ..\\..\\data\\output\\output_audio_test\\description\\Chapter03\\page2_img\\panel_7.mp3\n",
      "Guardado: ..\\..\\data\\output\\output_audio_test\\description\\Chapter03\\page3_img\\panel_1.mp3\n",
      "Guardado: ..\\..\\data\\output\\output_audio_test\\description\\Chapter03\\page3_img\\panel_2.mp3\n",
      "Guardado: ..\\..\\data\\output\\output_audio_test\\description\\Chapter03\\page4_img\\panel_1.mp3\n",
      "Guardado: ..\\..\\data\\output\\output_audio_test\\description\\Chapter03\\page4_img\\panel_2.mp3\n",
      "Guardado: ..\\..\\data\\output\\output_audio_test\\description\\Chapter03\\page4_img\\panel_3.mp3\n",
      "Guardado: ..\\..\\data\\output\\output_audio_test\\description\\Chapter03\\page4_img\\panel_4.mp3\n",
      "Guardado: ..\\..\\data\\output\\output_audio_test\\description\\Chapter03\\page4_img\\panel_5.mp3\n",
      "Guardado: ..\\..\\data\\output\\output_audio_test\\description\\Chapter03\\page4_img\\panel_6.mp3\n",
      "Guardado: ..\\..\\data\\output\\output_audio_test\\description\\Chapter03\\page4_img\\panel_7.mp3\n",
      "Guardado: ..\\..\\data\\output\\output_audio_test\\description\\Chapter03\\page4_img\\panel_8.mp3\n",
      "Audio de descripciones finalizado\n"
     ]
    }
   ],
   "source": [
    "def text_to_audio(file_path, output_path, lang='es'):\n",
    "    # Lee el contenido del archivo de texto\n",
    "    with open(file_path, 'r', encoding='utf-8') as file:\n",
    "        text = file.read().strip()  # Lee y elimina espacios en blanco adicionales\n",
    "    \n",
    "    # Verifica si el texto está vacío\n",
    "    if not text:\n",
    "        header_text = \"La viñeta solo contiene texto\"\n",
    "    else:\n",
    "        # Agrega el encabezado al texto\n",
    "        header_text = f\"La viñeta contiene:    {text}\"\n",
    "    \n",
    "    # Genera el objeto gTTS con el acento especificado\n",
    "    tts = gTTS(text=header_text, lang=lang)\n",
    "    \n",
    "    # Define el nombre del archivo de salida\n",
    "    audio_file = output_path.with_suffix('.mp3')\n",
    "    \n",
    "    # Crea el directorio de salida si no existe\n",
    "    audio_file.parent.mkdir(parents=True, exist_ok=True)\n",
    "    \n",
    "    # Guarda el archivo de audio\n",
    "    tts.save(audio_file)\n",
    "    \n",
    "    print(f\"Guardado: {audio_file}\")\n",
    "\n",
    "def process_directory(input_dir, output_dir, lang='es'):\n",
    "    input_path = Path(input_dir)\n",
    "    output_path = Path(output_dir)\n",
    "\n",
    "    for text_file in input_path.rglob('*.txt'):\n",
    "        # Calcula la ruta de salida\n",
    "        relative_path = text_file.relative_to(input_path)\n",
    "        output_file = output_path / relative_path.with_suffix('.mp3')  # Ajusta la extensión\n",
    "        text_to_audio(text_file, output_file, lang)\n",
    "\n",
    "# Directorio de entrada\n",
    "input_directory_description = r'..\\..\\data\\output\\output_description_translate_test'\n",
    "\n",
    "# Directorio de salida\n",
    "output_directory = r'..\\..\\data\\output\\output_audio_test\\description'\n",
    "\n",
    "# Llama a la función para procesar el directorio\n",
    "process_directory(input_directory_description, output_directory)\n",
    "\n",
    "print(\"Audio de descripciones finalizado\")"
   ]
  },
  {
   "cell_type": "code",
   "execution_count": 4,
   "metadata": {},
   "outputs": [
    {
     "name": "stdout",
     "output_type": "stream",
     "text": [
      "Guardado: ..\\..\\data\\output\\output_audio_test\\text\\Chapter01\\page1_img\\panel_1.mp3\n",
      "Guardado: ..\\..\\data\\output\\output_audio_test\\text\\Chapter01\\page1_img\\panel_2.mp3\n",
      "Guardado: ..\\..\\data\\output\\output_audio_test\\text\\Chapter01\\page1_img\\panel_3.mp3\n",
      "Guardado: ..\\..\\data\\output\\output_audio_test\\text\\Chapter01\\page1_img\\panel_4.mp3\n",
      "Guardado: ..\\..\\data\\output\\output_audio_test\\text\\Chapter01\\page1_img\\panel_5.mp3\n",
      "Guardado: ..\\..\\data\\output\\output_audio_test\\text\\Chapter01\\page2_img\\panel_1.mp3\n",
      "Guardado: ..\\..\\data\\output\\output_audio_test\\text\\Chapter01\\page2_img\\panel_2.mp3\n",
      "Guardado: ..\\..\\data\\output\\output_audio_test\\text\\Chapter01\\page2_img\\panel_3.mp3\n",
      "Guardado: ..\\..\\data\\output\\output_audio_test\\text\\Chapter01\\page2_img\\panel_4.mp3\n",
      "Guardado: ..\\..\\data\\output\\output_audio_test\\text\\Chapter01\\page2_img\\panel_5.mp3\n",
      "Guardado: ..\\..\\data\\output\\output_audio_test\\text\\Chapter01\\page3_img\\panel_1.mp3\n",
      "Guardado: ..\\..\\data\\output\\output_audio_test\\text\\Chapter01\\page3_img\\panel_2.mp3\n",
      "Guardado: ..\\..\\data\\output\\output_audio_test\\text\\Chapter01\\page3_img\\panel_3.mp3\n",
      "Guardado: ..\\..\\data\\output\\output_audio_test\\text\\Chapter01\\page3_img\\panel_4.mp3\n",
      "Guardado: ..\\..\\data\\output\\output_audio_test\\text\\Chapter01\\page3_img\\panel_5.mp3\n",
      "Guardado: ..\\..\\data\\output\\output_audio_test\\text\\Chapter01\\page3_img\\panel_6.mp3\n",
      "Guardado: ..\\..\\data\\output\\output_audio_test\\text\\Chapter01\\page3_img\\panel_7.mp3\n",
      "Guardado: ..\\..\\data\\output\\output_audio_test\\text\\Chapter01\\page3_img\\panel_8.mp3\n",
      "Guardado: ..\\..\\data\\output\\output_audio_test\\text\\Chapter01\\page4_img\\panel_1.mp3\n",
      "Guardado: ..\\..\\data\\output\\output_audio_test\\text\\Chapter01\\page4_img\\panel_2.mp3\n",
      "Guardado: ..\\..\\data\\output\\output_audio_test\\text\\Chapter01\\page4_img\\panel_3.mp3\n",
      "Guardado: ..\\..\\data\\output\\output_audio_test\\text\\Chapter01\\page4_img\\panel_4.mp3\n",
      "Guardado: ..\\..\\data\\output\\output_audio_test\\text\\Chapter01\\page4_img\\panel_5.mp3\n",
      "Guardado: ..\\..\\data\\output\\output_audio_test\\text\\Chapter01\\page4_img\\panel_6.mp3\n",
      "Guardado: ..\\..\\data\\output\\output_audio_test\\text\\Chapter03\\page1_img\\panel_1.mp3\n",
      "Guardado: ..\\..\\data\\output\\output_audio_test\\text\\Chapter03\\page1_img\\panel_2.mp3\n",
      "Guardado: ..\\..\\data\\output\\output_audio_test\\text\\Chapter03\\page1_img\\panel_3.mp3\n",
      "Guardado: ..\\..\\data\\output\\output_audio_test\\text\\Chapter03\\page2_img\\panel_1.mp3\n",
      "Guardado: ..\\..\\data\\output\\output_audio_test\\text\\Chapter03\\page2_img\\panel_2.mp3\n",
      "Guardado: ..\\..\\data\\output\\output_audio_test\\text\\Chapter03\\page2_img\\panel_3.mp3\n",
      "Guardado: ..\\..\\data\\output\\output_audio_test\\text\\Chapter03\\page2_img\\panel_4.mp3\n",
      "Guardado: ..\\..\\data\\output\\output_audio_test\\text\\Chapter03\\page2_img\\panel_5.mp3\n",
      "Guardado: ..\\..\\data\\output\\output_audio_test\\text\\Chapter03\\page2_img\\panel_6.mp3\n",
      "Guardado: ..\\..\\data\\output\\output_audio_test\\text\\Chapter03\\page2_img\\panel_7.mp3\n",
      "Guardado: ..\\..\\data\\output\\output_audio_test\\text\\Chapter03\\page3_img\\panel_1.mp3\n",
      "Guardado: ..\\..\\data\\output\\output_audio_test\\text\\Chapter03\\page3_img\\panel_2.mp3\n",
      "Guardado: ..\\..\\data\\output\\output_audio_test\\text\\Chapter03\\page4_img\\panel_1.mp3\n",
      "Guardado: ..\\..\\data\\output\\output_audio_test\\text\\Chapter03\\page4_img\\panel_2.mp3\n",
      "Guardado: ..\\..\\data\\output\\output_audio_test\\text\\Chapter03\\page4_img\\panel_3.mp3\n",
      "Guardado: ..\\..\\data\\output\\output_audio_test\\text\\Chapter03\\page4_img\\panel_4.mp3\n",
      "Guardado: ..\\..\\data\\output\\output_audio_test\\text\\Chapter03\\page4_img\\panel_5.mp3\n",
      "Guardado: ..\\..\\data\\output\\output_audio_test\\text\\Chapter03\\page4_img\\panel_6.mp3\n",
      "Guardado: ..\\..\\data\\output\\output_audio_test\\text\\Chapter03\\page4_img\\panel_7.mp3\n",
      "Guardado: ..\\..\\data\\output\\output_audio_test\\text\\Chapter03\\page4_img\\panel_8.mp3\n",
      "Audio de texto finalizado\n"
     ]
    }
   ],
   "source": [
    "def text_to_audio(file_path, output_path, lang='es'):\n",
    "    # Lee el contenido del archivo de texto\n",
    "    with open(file_path, 'r', encoding='utf-8') as file:\n",
    "        text = file.read().strip()  # Lee y elimina espacios en blanco adicionales\n",
    "    \n",
    "    # Verifica si el texto está vacío\n",
    "    if not text:\n",
    "        header_text = \"La viñeta no contiene texto\"\n",
    "    else:\n",
    "        # Agrega el encabezado al texto\n",
    "        header_text = f\"El texto de la viñeta es:    {text}\"\n",
    "    \n",
    "    # Genera el objeto gTTS con el acento especificado\n",
    "    tts = gTTS(text=header_text, lang=lang)\n",
    "    \n",
    "    # Define el nombre del archivo de salida\n",
    "    audio_file = output_path.with_suffix('.mp3')\n",
    "    \n",
    "    # Crea el directorio de salida si no existe\n",
    "    audio_file.parent.mkdir(parents=True, exist_ok=True)\n",
    "    \n",
    "    # Guarda el archivo de audio\n",
    "    tts.save(audio_file)\n",
    "    \n",
    "    print(f\"Guardado: {audio_file}\")\n",
    "\n",
    "def process_directory(input_dir, output_dir, lang='es'):\n",
    "    input_path = Path(input_dir)\n",
    "    output_path = Path(output_dir)\n",
    "\n",
    "    for text_file in input_path.rglob('*.txt'):\n",
    "        # Calcula la ruta de salida\n",
    "        relative_path = text_file.relative_to(input_path)\n",
    "        output_file = output_path / relative_path.with_suffix('.mp3')  # Ajusta la extensión\n",
    "        text_to_audio(text_file, output_file, lang)\n",
    "\n",
    "# Directorio de entrada\n",
    "input_directory_description = r'..\\..\\data\\output\\output_text_test'\n",
    "\n",
    "# Directorio de salida\n",
    "output_directory = r'..\\..\\data\\output\\output_audio_test\\text'\n",
    "\n",
    "# Llama a la función para procesar el directorio\n",
    "process_directory(input_directory_description, output_directory)\n",
    "\n",
    "print(\"Audio de texto finalizado\")"
   ]
  },
  {
   "cell_type": "code",
   "execution_count": 5,
   "metadata": {},
   "outputs": [
    {
     "name": "stdout",
     "output_type": "stream",
     "text": [
      "MoviePy - Writing audio in ..\\..\\data\\output\\output_audio_test\\combined\\Chapter01\\page1_img\\panel_1.mp3\n"
     ]
    },
    {
     "name": "stderr",
     "output_type": "stream",
     "text": [
      "                                                                   \r"
     ]
    },
    {
     "name": "stdout",
     "output_type": "stream",
     "text": [
      "MoviePy - Done.\n",
      "Audio combinado guardado: ..\\..\\data\\output\\output_audio_test\\combined\\Chapter01\\page1_img\\panel_1.mp3\n",
      "MoviePy - Writing audio in ..\\..\\data\\output\\output_audio_test\\combined\\Chapter01\\page1_img\\panel_2.mp3\n"
     ]
    },
    {
     "name": "stderr",
     "output_type": "stream",
     "text": [
      "                                                                    \r"
     ]
    },
    {
     "name": "stdout",
     "output_type": "stream",
     "text": [
      "MoviePy - Done.\n",
      "Audio combinado guardado: ..\\..\\data\\output\\output_audio_test\\combined\\Chapter01\\page1_img\\panel_2.mp3\n",
      "MoviePy - Writing audio in ..\\..\\data\\output\\output_audio_test\\combined\\Chapter01\\page1_img\\panel_3.mp3\n"
     ]
    },
    {
     "name": "stderr",
     "output_type": "stream",
     "text": [
      "                                                                    \r"
     ]
    },
    {
     "name": "stdout",
     "output_type": "stream",
     "text": [
      "MoviePy - Done.\n",
      "Audio combinado guardado: ..\\..\\data\\output\\output_audio_test\\combined\\Chapter01\\page1_img\\panel_3.mp3\n",
      "MoviePy - Writing audio in ..\\..\\data\\output\\output_audio_test\\combined\\Chapter01\\page1_img\\panel_4.mp3\n"
     ]
    },
    {
     "name": "stderr",
     "output_type": "stream",
     "text": [
      "                                                                    \r"
     ]
    },
    {
     "name": "stdout",
     "output_type": "stream",
     "text": [
      "MoviePy - Done.\n",
      "Audio combinado guardado: ..\\..\\data\\output\\output_audio_test\\combined\\Chapter01\\page1_img\\panel_4.mp3\n",
      "MoviePy - Writing audio in ..\\..\\data\\output\\output_audio_test\\combined\\Chapter01\\page1_img\\panel_5.mp3\n"
     ]
    },
    {
     "name": "stderr",
     "output_type": "stream",
     "text": [
      "                                                                   \r"
     ]
    },
    {
     "name": "stdout",
     "output_type": "stream",
     "text": [
      "MoviePy - Done.\n",
      "Audio combinado guardado: ..\\..\\data\\output\\output_audio_test\\combined\\Chapter01\\page1_img\\panel_5.mp3\n",
      "MoviePy - Writing audio in ..\\..\\data\\output\\output_audio_test\\combined\\Chapter01\\page2_img\\panel_1.mp3\n"
     ]
    },
    {
     "name": "stderr",
     "output_type": "stream",
     "text": [
      "                                                                    \r"
     ]
    },
    {
     "name": "stdout",
     "output_type": "stream",
     "text": [
      "MoviePy - Done.\n",
      "Audio combinado guardado: ..\\..\\data\\output\\output_audio_test\\combined\\Chapter01\\page2_img\\panel_1.mp3\n",
      "MoviePy - Writing audio in ..\\..\\data\\output\\output_audio_test\\combined\\Chapter01\\page2_img\\panel_2.mp3\n"
     ]
    },
    {
     "name": "stderr",
     "output_type": "stream",
     "text": [
      "                                                                    \r"
     ]
    },
    {
     "name": "stdout",
     "output_type": "stream",
     "text": [
      "MoviePy - Done.\n",
      "Audio combinado guardado: ..\\..\\data\\output\\output_audio_test\\combined\\Chapter01\\page2_img\\panel_2.mp3\n",
      "MoviePy - Writing audio in ..\\..\\data\\output\\output_audio_test\\combined\\Chapter01\\page2_img\\panel_3.mp3\n"
     ]
    },
    {
     "name": "stderr",
     "output_type": "stream",
     "text": [
      "                                                                   \r"
     ]
    },
    {
     "name": "stdout",
     "output_type": "stream",
     "text": [
      "MoviePy - Done.\n",
      "Audio combinado guardado: ..\\..\\data\\output\\output_audio_test\\combined\\Chapter01\\page2_img\\panel_3.mp3\n",
      "MoviePy - Writing audio in ..\\..\\data\\output\\output_audio_test\\combined\\Chapter01\\page2_img\\panel_4.mp3\n"
     ]
    },
    {
     "name": "stderr",
     "output_type": "stream",
     "text": [
      "                                                                  \r"
     ]
    },
    {
     "name": "stdout",
     "output_type": "stream",
     "text": [
      "MoviePy - Done.\n",
      "Audio combinado guardado: ..\\..\\data\\output\\output_audio_test\\combined\\Chapter01\\page2_img\\panel_4.mp3\n",
      "MoviePy - Writing audio in ..\\..\\data\\output\\output_audio_test\\combined\\Chapter01\\page2_img\\panel_5.mp3\n"
     ]
    },
    {
     "name": "stderr",
     "output_type": "stream",
     "text": [
      "                                                                  \r"
     ]
    },
    {
     "name": "stdout",
     "output_type": "stream",
     "text": [
      "MoviePy - Done.\n",
      "Audio combinado guardado: ..\\..\\data\\output\\output_audio_test\\combined\\Chapter01\\page2_img\\panel_5.mp3\n",
      "MoviePy - Writing audio in ..\\..\\data\\output\\output_audio_test\\combined\\Chapter01\\page3_img\\panel_1.mp3\n"
     ]
    },
    {
     "name": "stderr",
     "output_type": "stream",
     "text": [
      "                                                                   \r"
     ]
    },
    {
     "name": "stdout",
     "output_type": "stream",
     "text": [
      "MoviePy - Done.\n",
      "Audio combinado guardado: ..\\..\\data\\output\\output_audio_test\\combined\\Chapter01\\page3_img\\panel_1.mp3\n",
      "MoviePy - Writing audio in ..\\..\\data\\output\\output_audio_test\\combined\\Chapter01\\page3_img\\panel_2.mp3\n"
     ]
    },
    {
     "name": "stderr",
     "output_type": "stream",
     "text": [
      "                                                                    \r"
     ]
    },
    {
     "name": "stdout",
     "output_type": "stream",
     "text": [
      "MoviePy - Done.\n",
      "Audio combinado guardado: ..\\..\\data\\output\\output_audio_test\\combined\\Chapter01\\page3_img\\panel_2.mp3\n",
      "MoviePy - Writing audio in ..\\..\\data\\output\\output_audio_test\\combined\\Chapter01\\page3_img\\panel_3.mp3\n"
     ]
    },
    {
     "name": "stderr",
     "output_type": "stream",
     "text": [
      "                                                                   \r"
     ]
    },
    {
     "name": "stdout",
     "output_type": "stream",
     "text": [
      "MoviePy - Done.\n",
      "Audio combinado guardado: ..\\..\\data\\output\\output_audio_test\\combined\\Chapter01\\page3_img\\panel_3.mp3\n",
      "MoviePy - Writing audio in ..\\..\\data\\output\\output_audio_test\\combined\\Chapter01\\page3_img\\panel_4.mp3\n"
     ]
    },
    {
     "name": "stderr",
     "output_type": "stream",
     "text": [
      "                                                                   \r"
     ]
    },
    {
     "name": "stdout",
     "output_type": "stream",
     "text": [
      "MoviePy - Done.\n",
      "Audio combinado guardado: ..\\..\\data\\output\\output_audio_test\\combined\\Chapter01\\page3_img\\panel_4.mp3\n",
      "MoviePy - Writing audio in ..\\..\\data\\output\\output_audio_test\\combined\\Chapter01\\page3_img\\panel_5.mp3\n"
     ]
    },
    {
     "name": "stderr",
     "output_type": "stream",
     "text": [
      "                                                                   \r"
     ]
    },
    {
     "name": "stdout",
     "output_type": "stream",
     "text": [
      "MoviePy - Done.\n",
      "Audio combinado guardado: ..\\..\\data\\output\\output_audio_test\\combined\\Chapter01\\page3_img\\panel_5.mp3\n",
      "MoviePy - Writing audio in ..\\..\\data\\output\\output_audio_test\\combined\\Chapter01\\page3_img\\panel_6.mp3\n"
     ]
    },
    {
     "name": "stderr",
     "output_type": "stream",
     "text": [
      "                                                                   \r"
     ]
    },
    {
     "name": "stdout",
     "output_type": "stream",
     "text": [
      "MoviePy - Done.\n",
      "Audio combinado guardado: ..\\..\\data\\output\\output_audio_test\\combined\\Chapter01\\page3_img\\panel_6.mp3\n",
      "MoviePy - Writing audio in ..\\..\\data\\output\\output_audio_test\\combined\\Chapter01\\page3_img\\panel_7.mp3\n"
     ]
    },
    {
     "name": "stderr",
     "output_type": "stream",
     "text": [
      "                                                                   \r"
     ]
    },
    {
     "name": "stdout",
     "output_type": "stream",
     "text": [
      "MoviePy - Done.\n",
      "Audio combinado guardado: ..\\..\\data\\output\\output_audio_test\\combined\\Chapter01\\page3_img\\panel_7.mp3\n",
      "MoviePy - Writing audio in ..\\..\\data\\output\\output_audio_test\\combined\\Chapter01\\page3_img\\panel_8.mp3\n"
     ]
    },
    {
     "name": "stderr",
     "output_type": "stream",
     "text": [
      "                                                                    \r"
     ]
    },
    {
     "name": "stdout",
     "output_type": "stream",
     "text": [
      "MoviePy - Done.\n",
      "Audio combinado guardado: ..\\..\\data\\output\\output_audio_test\\combined\\Chapter01\\page3_img\\panel_8.mp3\n",
      "MoviePy - Writing audio in ..\\..\\data\\output\\output_audio_test\\combined\\Chapter01\\page4_img\\panel_1.mp3\n"
     ]
    },
    {
     "name": "stderr",
     "output_type": "stream",
     "text": [
      "                                                                   \r"
     ]
    },
    {
     "name": "stdout",
     "output_type": "stream",
     "text": [
      "MoviePy - Done.\n",
      "Audio combinado guardado: ..\\..\\data\\output\\output_audio_test\\combined\\Chapter01\\page4_img\\panel_1.mp3\n",
      "MoviePy - Writing audio in ..\\..\\data\\output\\output_audio_test\\combined\\Chapter01\\page4_img\\panel_2.mp3\n"
     ]
    },
    {
     "name": "stderr",
     "output_type": "stream",
     "text": [
      "                                                                   \r"
     ]
    },
    {
     "name": "stdout",
     "output_type": "stream",
     "text": [
      "MoviePy - Done.\n",
      "Audio combinado guardado: ..\\..\\data\\output\\output_audio_test\\combined\\Chapter01\\page4_img\\panel_2.mp3\n",
      "MoviePy - Writing audio in ..\\..\\data\\output\\output_audio_test\\combined\\Chapter01\\page4_img\\panel_3.mp3\n"
     ]
    },
    {
     "name": "stderr",
     "output_type": "stream",
     "text": [
      "                                                                   \r"
     ]
    },
    {
     "name": "stdout",
     "output_type": "stream",
     "text": [
      "MoviePy - Done.\n",
      "Audio combinado guardado: ..\\..\\data\\output\\output_audio_test\\combined\\Chapter01\\page4_img\\panel_3.mp3\n",
      "MoviePy - Writing audio in ..\\..\\data\\output\\output_audio_test\\combined\\Chapter01\\page4_img\\panel_4.mp3\n"
     ]
    },
    {
     "name": "stderr",
     "output_type": "stream",
     "text": [
      "                                                                   \r"
     ]
    },
    {
     "name": "stdout",
     "output_type": "stream",
     "text": [
      "MoviePy - Done.\n",
      "Audio combinado guardado: ..\\..\\data\\output\\output_audio_test\\combined\\Chapter01\\page4_img\\panel_4.mp3\n",
      "MoviePy - Writing audio in ..\\..\\data\\output\\output_audio_test\\combined\\Chapter01\\page4_img\\panel_5.mp3\n"
     ]
    },
    {
     "name": "stderr",
     "output_type": "stream",
     "text": [
      "                                                                    \r"
     ]
    },
    {
     "name": "stdout",
     "output_type": "stream",
     "text": [
      "MoviePy - Done.\n",
      "Audio combinado guardado: ..\\..\\data\\output\\output_audio_test\\combined\\Chapter01\\page4_img\\panel_5.mp3\n",
      "MoviePy - Writing audio in ..\\..\\data\\output\\output_audio_test\\combined\\Chapter01\\page4_img\\panel_6.mp3\n"
     ]
    },
    {
     "name": "stderr",
     "output_type": "stream",
     "text": [
      "                                                                    \r"
     ]
    },
    {
     "name": "stdout",
     "output_type": "stream",
     "text": [
      "MoviePy - Done.\n",
      "Audio combinado guardado: ..\\..\\data\\output\\output_audio_test\\combined\\Chapter01\\page4_img\\panel_6.mp3\n",
      "MoviePy - Writing audio in ..\\..\\data\\output\\output_audio_test\\combined\\Chapter03\\page1_img\\panel_1.mp3\n"
     ]
    },
    {
     "name": "stderr",
     "output_type": "stream",
     "text": [
      "                                                                    \r"
     ]
    },
    {
     "name": "stdout",
     "output_type": "stream",
     "text": [
      "MoviePy - Done.\n",
      "Audio combinado guardado: ..\\..\\data\\output\\output_audio_test\\combined\\Chapter03\\page1_img\\panel_1.mp3\n",
      "MoviePy - Writing audio in ..\\..\\data\\output\\output_audio_test\\combined\\Chapter03\\page1_img\\panel_2.mp3\n"
     ]
    },
    {
     "name": "stderr",
     "output_type": "stream",
     "text": [
      "                                                                      \r"
     ]
    },
    {
     "name": "stdout",
     "output_type": "stream",
     "text": [
      "MoviePy - Done.\n",
      "Audio combinado guardado: ..\\..\\data\\output\\output_audio_test\\combined\\Chapter03\\page1_img\\panel_2.mp3\n",
      "MoviePy - Writing audio in ..\\..\\data\\output\\output_audio_test\\combined\\Chapter03\\page1_img\\panel_3.mp3\n"
     ]
    },
    {
     "name": "stderr",
     "output_type": "stream",
     "text": [
      "                                                                    \r"
     ]
    },
    {
     "name": "stdout",
     "output_type": "stream",
     "text": [
      "MoviePy - Done.\n",
      "Audio combinado guardado: ..\\..\\data\\output\\output_audio_test\\combined\\Chapter03\\page1_img\\panel_3.mp3\n",
      "MoviePy - Writing audio in ..\\..\\data\\output\\output_audio_test\\combined\\Chapter03\\page2_img\\panel_1.mp3\n"
     ]
    },
    {
     "name": "stderr",
     "output_type": "stream",
     "text": [
      "                                                                    \r"
     ]
    },
    {
     "name": "stdout",
     "output_type": "stream",
     "text": [
      "MoviePy - Done.\n",
      "Audio combinado guardado: ..\\..\\data\\output\\output_audio_test\\combined\\Chapter03\\page2_img\\panel_1.mp3\n",
      "MoviePy - Writing audio in ..\\..\\data\\output\\output_audio_test\\combined\\Chapter03\\page2_img\\panel_2.mp3\n"
     ]
    },
    {
     "name": "stderr",
     "output_type": "stream",
     "text": [
      "                                                                    \r"
     ]
    },
    {
     "name": "stdout",
     "output_type": "stream",
     "text": [
      "MoviePy - Done.\n",
      "Audio combinado guardado: ..\\..\\data\\output\\output_audio_test\\combined\\Chapter03\\page2_img\\panel_2.mp3\n",
      "MoviePy - Writing audio in ..\\..\\data\\output\\output_audio_test\\combined\\Chapter03\\page2_img\\panel_3.mp3\n"
     ]
    },
    {
     "name": "stderr",
     "output_type": "stream",
     "text": [
      "                                                                   \r"
     ]
    },
    {
     "name": "stdout",
     "output_type": "stream",
     "text": [
      "MoviePy - Done.\n",
      "Audio combinado guardado: ..\\..\\data\\output\\output_audio_test\\combined\\Chapter03\\page2_img\\panel_3.mp3\n",
      "MoviePy - Writing audio in ..\\..\\data\\output\\output_audio_test\\combined\\Chapter03\\page2_img\\panel_4.mp3\n"
     ]
    },
    {
     "name": "stderr",
     "output_type": "stream",
     "text": [
      "                                                                    \r"
     ]
    },
    {
     "name": "stdout",
     "output_type": "stream",
     "text": [
      "MoviePy - Done.\n",
      "Audio combinado guardado: ..\\..\\data\\output\\output_audio_test\\combined\\Chapter03\\page2_img\\panel_4.mp3\n",
      "MoviePy - Writing audio in ..\\..\\data\\output\\output_audio_test\\combined\\Chapter03\\page2_img\\panel_5.mp3\n"
     ]
    },
    {
     "name": "stderr",
     "output_type": "stream",
     "text": [
      "                                                                      \r"
     ]
    },
    {
     "name": "stdout",
     "output_type": "stream",
     "text": [
      "MoviePy - Done.\n",
      "Audio combinado guardado: ..\\..\\data\\output\\output_audio_test\\combined\\Chapter03\\page2_img\\panel_5.mp3\n",
      "MoviePy - Writing audio in ..\\..\\data\\output\\output_audio_test\\combined\\Chapter03\\page2_img\\panel_6.mp3\n"
     ]
    },
    {
     "name": "stderr",
     "output_type": "stream",
     "text": [
      "                                                                    \r"
     ]
    },
    {
     "name": "stdout",
     "output_type": "stream",
     "text": [
      "MoviePy - Done.\n",
      "Audio combinado guardado: ..\\..\\data\\output\\output_audio_test\\combined\\Chapter03\\page2_img\\panel_6.mp3\n",
      "MoviePy - Writing audio in ..\\..\\data\\output\\output_audio_test\\combined\\Chapter03\\page2_img\\panel_7.mp3\n"
     ]
    },
    {
     "name": "stderr",
     "output_type": "stream",
     "text": [
      "                                                                    \r"
     ]
    },
    {
     "name": "stdout",
     "output_type": "stream",
     "text": [
      "MoviePy - Done.\n",
      "Audio combinado guardado: ..\\..\\data\\output\\output_audio_test\\combined\\Chapter03\\page2_img\\panel_7.mp3\n",
      "MoviePy - Writing audio in ..\\..\\data\\output\\output_audio_test\\combined\\Chapter03\\page3_img\\panel_1.mp3\n"
     ]
    },
    {
     "name": "stderr",
     "output_type": "stream",
     "text": [
      "                                                                    \r"
     ]
    },
    {
     "name": "stdout",
     "output_type": "stream",
     "text": [
      "MoviePy - Done.\n",
      "Audio combinado guardado: ..\\..\\data\\output\\output_audio_test\\combined\\Chapter03\\page3_img\\panel_1.mp3\n",
      "MoviePy - Writing audio in ..\\..\\data\\output\\output_audio_test\\combined\\Chapter03\\page3_img\\panel_2.mp3\n"
     ]
    },
    {
     "name": "stderr",
     "output_type": "stream",
     "text": [
      "                                                                    \r"
     ]
    },
    {
     "name": "stdout",
     "output_type": "stream",
     "text": [
      "MoviePy - Done.\n",
      "Audio combinado guardado: ..\\..\\data\\output\\output_audio_test\\combined\\Chapter03\\page3_img\\panel_2.mp3\n",
      "MoviePy - Writing audio in ..\\..\\data\\output\\output_audio_test\\combined\\Chapter03\\page4_img\\panel_1.mp3\n"
     ]
    },
    {
     "name": "stderr",
     "output_type": "stream",
     "text": [
      "                                                                   \r"
     ]
    },
    {
     "name": "stdout",
     "output_type": "stream",
     "text": [
      "MoviePy - Done.\n",
      "Audio combinado guardado: ..\\..\\data\\output\\output_audio_test\\combined\\Chapter03\\page4_img\\panel_1.mp3\n",
      "MoviePy - Writing audio in ..\\..\\data\\output\\output_audio_test\\combined\\Chapter03\\page4_img\\panel_2.mp3\n"
     ]
    },
    {
     "name": "stderr",
     "output_type": "stream",
     "text": [
      "                                                                    \r"
     ]
    },
    {
     "name": "stdout",
     "output_type": "stream",
     "text": [
      "MoviePy - Done.\n",
      "Audio combinado guardado: ..\\..\\data\\output\\output_audio_test\\combined\\Chapter03\\page4_img\\panel_2.mp3\n",
      "MoviePy - Writing audio in ..\\..\\data\\output\\output_audio_test\\combined\\Chapter03\\page4_img\\panel_3.mp3\n"
     ]
    },
    {
     "name": "stderr",
     "output_type": "stream",
     "text": [
      "                                                                   \r"
     ]
    },
    {
     "name": "stdout",
     "output_type": "stream",
     "text": [
      "MoviePy - Done.\n",
      "Audio combinado guardado: ..\\..\\data\\output\\output_audio_test\\combined\\Chapter03\\page4_img\\panel_3.mp3\n",
      "MoviePy - Writing audio in ..\\..\\data\\output\\output_audio_test\\combined\\Chapter03\\page4_img\\panel_4.mp3\n"
     ]
    },
    {
     "name": "stderr",
     "output_type": "stream",
     "text": [
      "                                                                    \r"
     ]
    },
    {
     "name": "stdout",
     "output_type": "stream",
     "text": [
      "MoviePy - Done.\n",
      "Audio combinado guardado: ..\\..\\data\\output\\output_audio_test\\combined\\Chapter03\\page4_img\\panel_4.mp3\n",
      "MoviePy - Writing audio in ..\\..\\data\\output\\output_audio_test\\combined\\Chapter03\\page4_img\\panel_5.mp3\n"
     ]
    },
    {
     "name": "stderr",
     "output_type": "stream",
     "text": [
      "                                                                    \r"
     ]
    },
    {
     "name": "stdout",
     "output_type": "stream",
     "text": [
      "MoviePy - Done.\n",
      "Audio combinado guardado: ..\\..\\data\\output\\output_audio_test\\combined\\Chapter03\\page4_img\\panel_5.mp3\n",
      "MoviePy - Writing audio in ..\\..\\data\\output\\output_audio_test\\combined\\Chapter03\\page4_img\\panel_6.mp3\n"
     ]
    },
    {
     "name": "stderr",
     "output_type": "stream",
     "text": [
      "                                                                    \r"
     ]
    },
    {
     "name": "stdout",
     "output_type": "stream",
     "text": [
      "MoviePy - Done.\n",
      "Audio combinado guardado: ..\\..\\data\\output\\output_audio_test\\combined\\Chapter03\\page4_img\\panel_6.mp3\n",
      "MoviePy - Writing audio in ..\\..\\data\\output\\output_audio_test\\combined\\Chapter03\\page4_img\\panel_7.mp3\n"
     ]
    },
    {
     "name": "stderr",
     "output_type": "stream",
     "text": [
      "                                                                    \r"
     ]
    },
    {
     "name": "stdout",
     "output_type": "stream",
     "text": [
      "MoviePy - Done.\n",
      "Audio combinado guardado: ..\\..\\data\\output\\output_audio_test\\combined\\Chapter03\\page4_img\\panel_7.mp3\n",
      "MoviePy - Writing audio in ..\\..\\data\\output\\output_audio_test\\combined\\Chapter03\\page4_img\\panel_8.mp3\n"
     ]
    },
    {
     "name": "stderr",
     "output_type": "stream",
     "text": [
      "                                                                    "
     ]
    },
    {
     "name": "stdout",
     "output_type": "stream",
     "text": [
      "MoviePy - Done.\n",
      "Audio combinado guardado: ..\\..\\data\\output\\output_audio_test\\combined\\Chapter03\\page4_img\\panel_8.mp3\n",
      "Audio combinado finalizado\n"
     ]
    },
    {
     "name": "stderr",
     "output_type": "stream",
     "text": [
      "\r"
     ]
    }
   ],
   "source": [
    "def merge_audios(description_audio_file, text_audio_file, output_file):\n",
    "    try:\n",
    "        description_audio = AudioFileClip(description_audio_file)\n",
    "        text_audio = AudioFileClip(text_audio_file)\n",
    "        combined_audio = concatenate_audioclips([description_audio, text_audio])\n",
    "        combined_audio.write_audiofile(output_file, codec='mp3')\n",
    "        print(f\"Audio combinado guardado: {output_file}\")\n",
    "    except Exception as e:\n",
    "        print(f\"Error al combinar audios: {e}\")\n",
    "\n",
    "def process_and_merge(input_directory_description_audio, input_directory_text_audio, output_directory_combined):\n",
    "    if not os.path.exists(output_directory_combined):\n",
    "        os.makedirs(output_directory_combined)\n",
    "    \n",
    "    for root, _, files in os.walk(input_directory_description_audio):\n",
    "        for file in files:\n",
    "            if file.endswith(\".mp3\"):\n",
    "                description_file_path = os.path.join(root, file)\n",
    "                relative_path = os.path.relpath(description_file_path, input_directory_description_audio)\n",
    "                text_file_path = os.path.join(input_directory_text_audio, relative_path)\n",
    "\n",
    "                if os.path.exists(text_file_path):\n",
    "                    output_file_path = os.path.join(output_directory_combined, relative_path)\n",
    "                    output_file_dir = os.path.dirname(output_file_path)\n",
    "                    if not os.path.exists(output_file_dir):\n",
    "                        os.makedirs(output_file_dir)\n",
    "                    merge_audios(description_file_path, text_file_path, output_file_path)\n",
    "                else:\n",
    "                    print(f\"No se encontró el archivo de texto correspondiente para: {description_file_path}\")\n",
    "\n",
    "# Directorios de entrada\n",
    "input_directory_description_audio = r'..\\..\\data\\output\\output_audio_test\\description'\n",
    "input_directory_text_audio = r'..\\..\\data\\output\\output_audio_test\\text'\n",
    "\n",
    "# Directorio de salida\n",
    "output_directory_combined = r'..\\..\\data\\output\\output_audio_test\\combined'\n",
    "\n",
    "# Llama a la función para procesar y combinar los audios\n",
    "process_and_merge(input_directory_description_audio, input_directory_text_audio, output_directory_combined)\n",
    "\n",
    "print(\"Audio combinado finalizado\")"
   ]
  }
 ],
 "metadata": {
  "kernelspec": {
   "display_name": "SATURDAYS-2",
   "language": "python",
   "name": "python3"
  },
  "language_info": {
   "codemirror_mode": {
    "name": "ipython",
    "version": 3
   },
   "file_extension": ".py",
   "mimetype": "text/x-python",
   "name": "python",
   "nbconvert_exporter": "python",
   "pygments_lexer": "ipython3",
   "version": "3.12.3"
  }
 },
 "nbformat": 4,
 "nbformat_minor": 2
}
