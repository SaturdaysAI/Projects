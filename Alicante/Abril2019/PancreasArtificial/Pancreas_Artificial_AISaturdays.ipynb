{
  "nbformat": 4,
  "nbformat_minor": 0,
  "metadata": {
    "colab": {
      "name": "Pancreas_Artificial_AISaturdays.ipynb",
      "version": "0.3.2",
      "provenance": [],
      "collapsed_sections": [],
      "include_colab_link": true
    },
    "kernelspec": {
      "name": "python3",
      "display_name": "Python 3"
    },
    "accelerator": "GPU"
  },
  "cells": [
    {
      "cell_type": "markdown",
      "metadata": {
        "id": "view-in-github",
        "colab_type": "text"
      },
      "source": [
        "<a href=\"https://colab.research.google.com/github/Spisor/PancreasArtificial/blob/master/Pancreas_Artificial_AISaturdays.ipynb\" target=\"_parent\"><img src=\"https://colab.research.google.com/assets/colab-badge.svg\" alt=\"Open In Colab\"/></a>"
      ]
    },
    {
      "cell_type": "markdown",
      "metadata": {
        "id": "dSDJJltSWhQ4",
        "colab_type": "text"
      },
      "source": [
        "# 0.-PREPARACION DE LOS DATOS"
      ]
    },
    {
      "cell_type": "markdown",
      "metadata": {
        "id": "jJRWBKRyWoMM",
        "colab_type": "text"
      },
      "source": [
        "##0.1.- Parseo de los archivos .json de origen"
      ]
    },
    {
      "cell_type": "code",
      "metadata": {
        "id": "w-9mwnGaW2Az",
        "colab_type": "code",
        "colab": {}
      },
      "source": [
        "import pandas as pd\n",
        "\n",
        "\n",
        "def saveCSV():\n",
        "\tentries.to_csv('entries.csv')\n",
        "\tdeviceStatus.to_csv('devicestatus.csv')\n",
        "\ttreatments.to_csv('treatments.csv')\n",
        "\n",
        "entries = pd.read_json('entries.json', lines=True)\n",
        "deviceStatus = pd.read_json('devicestatus.json', lines=True)\n",
        "treatments = pd.read_json('treatments.json', lines=True)\n",
        "\n",
        "deviceStatus = pd.concat([deviceStatus.drop(['pump'], axis=1), deviceStatus['pump'].apply(pd.Series)], axis=1)\n",
        "deviceStatus = pd.concat([deviceStatus.drop(['iob'], axis=1), deviceStatus['iob'].apply(pd.Series)], axis=1)\n",
        "deviceStatus = pd.concat([deviceStatus.drop(['status'], axis=1), deviceStatus['status'].apply(pd.Series)], axis=1)\n",
        "deviceStatus = deviceStatus.drop([0], axis=1)\n",
        "\n",
        "saveCSV()"
      ],
      "execution_count": 0,
      "outputs": []
    },
    {
      "cell_type": "markdown",
      "metadata": {
        "id": "P-eIbP60XBb4",
        "colab_type": "text"
      },
      "source": [
        "Una vez generadoslos .csv, utilizamos la herramiena KNIME para todas las operaciones de ETL hasta obtener el DataSet. La aplicación de escritorio es completamente gratuita y 100% funcional.\n",
        "\n",
        "[https://www.knime.com/]\n",
        "\n",
        "A continuación se muestra el workflow programado hasta obtener el DataSet final. Una copia del workflow esta disponible en el GitHub del proyecto.\n",
        "\n",
        "\n",
        "\n",
        "\n"
      ]
    },
    {
      "cell_type": "markdown",
      "metadata": {
        "id": "ptORc3JxhgaA",
        "colab_type": "text"
      },
      "source": [
        "![texto alternativo](https://)\n",
        "IMAGEN"
      ]
    },
    {
      "cell_type": "markdown",
      "metadata": {
        "id": "f5FVdC57mx4e",
        "colab_type": "text"
      },
      "source": [
        "#1.- PREPARACIÓN DEL ENTORNO DE TRABAJO"
      ]
    },
    {
      "cell_type": "markdown",
      "metadata": {
        "id": "QqK9TW_ym6jq",
        "colab_type": "text"
      },
      "source": [
        "##1.1.- Instalar Librerías fastai"
      ]
    },
    {
      "cell_type": "code",
      "metadata": {
        "id": "W7fZfrEiu-nb",
        "colab_type": "code",
        "outputId": "c21a70af-0a17-4cf3-d289-dfad0d60e84a",
        "colab": {
          "base_uri": "https://localhost:8080/",
          "height": 34
        }
      },
      "source": [
        "!pip install fastai==0.7.0 > /dev/null"
      ],
      "execution_count": 0,
      "outputs": [
        {
          "output_type": "stream",
          "text": [
            "\u001b[31mERROR: torchvision 0.3.0 has requirement torch>=1.1.0, but you'll have torch 0.3.1 which is incompatible.\u001b[0m\n"
          ],
          "name": "stdout"
        }
      ]
    },
    {
      "cell_type": "code",
      "metadata": {
        "id": "OgfDNiS6RbNd",
        "colab_type": "code",
        "colab": {}
      },
      "source": [
        "!pip install treeinterpreter==0.2.2 > /dev/null"
      ],
      "execution_count": 0,
      "outputs": []
    },
    {
      "cell_type": "markdown",
      "metadata": {
        "id": "S2edEj2loQwI",
        "colab_type": "text"
      },
      "source": [
        "##1.2.- Importar modulos y librerías necesarios"
      ]
    },
    {
      "cell_type": "code",
      "metadata": {
        "id": "SQ4o3GxFwaGg",
        "colab_type": "code",
        "colab": {}
      },
      "source": [
        "from fastai.imports import *\n",
        "from fastai.structured import *\n",
        "\n",
        "from pandas_summary import DataFrameSummary\n",
        "from sklearn.ensemble import RandomForestRegressor, RandomForestClassifier\n",
        "from IPython.display import display\n",
        "\n",
        "from sklearn import metrics\n",
        "import pandas as pd\n",
        "import numpy as np\n",
        "import datetime"
      ],
      "execution_count": 0,
      "outputs": []
    },
    {
      "cell_type": "markdown",
      "metadata": {
        "id": "FoWQnOcTok2O",
        "colab_type": "text"
      },
      "source": [
        "##1.3.- Código para cargar archivo dataset desde disco local\n",
        "\n",
        "Una vez ejecutada la celda es necesario seleccionar Elegir archivo y seleccionarlo desde la ubicación local"
      ]
    },
    {
      "cell_type": "code",
      "metadata": {
        "id": "O5mwiHLdNNc5",
        "colab_type": "code",
        "outputId": "31f1db9e-8e7d-491e-87af-db947d9576c5",
        "colab": {
          "resources": {
            "http://localhost:8080/nbextensions/google.colab/files.js": {
              "data": "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",
              "ok": true,
              "headers": [
                [
                  "content-type",
                  "application/javascript"
                ]
              ],
              "status": 200,
              "status_text": ""
            }
          },
          "base_uri": "https://localhost:8080/",
          "height": 74
        }
      },
      "source": [
        "from google.colab import files \n",
        "uploaded = files.upload()"
      ],
      "execution_count": 0,
      "outputs": [
        {
          "output_type": "display_data",
          "data": {
            "text/html": [
              "\n",
              "     <input type=\"file\" id=\"files-7a994bfc-33a2-409a-a6be-db535cd945de\" name=\"files[]\" multiple disabled />\n",
              "     <output id=\"result-7a994bfc-33a2-409a-a6be-db535cd945de\">\n",
              "      Upload widget is only available when the cell has been executed in the\n",
              "      current browser session. Please rerun this cell to enable.\n",
              "      </output>\n",
              "      <script src=\"/nbextensions/google.colab/files.js\"></script> "
            ],
            "text/plain": [
              "<IPython.core.display.HTML object>"
            ]
          },
          "metadata": {
            "tags": []
          }
        },
        {
          "output_type": "stream",
          "text": [
            "Saving pancreas_nuevo_dataset_3_con_historic.csv to pancreas_nuevo_dataset_3_con_historic.csv\n"
          ],
          "name": "stdout"
        }
      ]
    },
    {
      "cell_type": "markdown",
      "metadata": {
        "id": "G1fHCk2ro6VN",
        "colab_type": "text"
      },
      "source": [
        "El siguiente código  ejecuta órdenes del entorno IPython. Lo que se solicita con dichas ordenes es que el entorno recargue los módulos necesarios cada vez que se ejecute código\n",
        "\n"
      ]
    },
    {
      "cell_type": "code",
      "metadata": {
        "id": "cN1ve_4IvHl4",
        "colab_type": "code",
        "outputId": "e98a3e98-a2e0-49cb-bb0a-c1fbdf4353b6",
        "colab": {
          "base_uri": "https://localhost:8080/",
          "height": 52
        }
      },
      "source": [
        "%load_ext autoreload\n",
        "%autoreload 2\n",
        "\n",
        "%matplotlib inline"
      ],
      "execution_count": 0,
      "outputs": [
        {
          "output_type": "stream",
          "text": [
            "The autoreload extension is already loaded. To reload it, use:\n",
            "  %reload_ext autoreload\n"
          ],
          "name": "stdout"
        }
      ]
    },
    {
      "cell_type": "markdown",
      "metadata": {
        "id": "TIfa4PCSpWCT",
        "colab_type": "text"
      },
      "source": [
        "Comprobamos que el fichero se ha almacenado correctamente"
      ]
    },
    {
      "cell_type": "code",
      "metadata": {
        "id": "ypPSvK-m17SG",
        "colab_type": "code",
        "outputId": "1d1dde2d-44a0-454a-8cb1-c1059c30c385",
        "colab": {
          "base_uri": "https://localhost:8080/",
          "height": 70
        }
      },
      "source": [
        "!ls -l\n"
      ],
      "execution_count": 0,
      "outputs": [
        {
          "output_type": "stream",
          "text": [
            "total 608\n",
            "-rw-r--r-- 1 root root 616573 Jul 10 08:33 pancreas_nuevo_dataset_3_con_historic.csv\n",
            "drwxr-xr-x 1 root root   4096 Jul  3 16:14 sample_data\n"
          ],
          "name": "stdout"
        }
      ]
    },
    {
      "cell_type": "markdown",
      "metadata": {
        "id": "pbH4ZIlkpdAx",
        "colab_type": "text"
      },
      "source": [
        "Finalmente, cargamos el fichero en un objeto DataFrame de Pandas."
      ]
    },
    {
      "cell_type": "code",
      "metadata": {
        "id": "wliHdvP2rG-r",
        "colab_type": "code",
        "colab": {}
      },
      "source": [
        "df = pd.read_csv('pancreas_nuevo_dataset_3_con_historic.csv')"
      ],
      "execution_count": 0,
      "outputs": []
    },
    {
      "cell_type": "code",
      "metadata": {
        "id": "DYL2p3_Mswk3",
        "colab_type": "code",
        "outputId": "c19d6344-36e4-413f-dd09-c7173ca37952",
        "colab": {
          "base_uri": "https://localhost:8080/",
          "height": 214
        }
      },
      "source": [
        "df.head()"
      ],
      "execution_count": 0,
      "outputs": [
        {
          "output_type": "execute_result",
          "data": {
            "text/html": [
              "<div>\n",
              "<style scoped>\n",
              "    .dataframe tbody tr th:only-of-type {\n",
              "        vertical-align: middle;\n",
              "    }\n",
              "\n",
              "    .dataframe tbody tr th {\n",
              "        vertical-align: top;\n",
              "    }\n",
              "\n",
              "    .dataframe thead th {\n",
              "        text-align: right;\n",
              "    }\n",
              "</style>\n",
              "<table border=\"1\" class=\"dataframe\">\n",
              "  <thead>\n",
              "    <tr style=\"text-align: right;\">\n",
              "      <th></th>\n",
              "      <th>insulin</th>\n",
              "      <th>bolusiob</th>\n",
              "      <th>sgv</th>\n",
              "      <th>Tendencia (#1)</th>\n",
              "      <th>Year</th>\n",
              "      <th>Month (number)</th>\n",
              "      <th>Week</th>\n",
              "      <th>Day of week (number)</th>\n",
              "      <th>Hour</th>\n",
              "      <th>Minute</th>\n",
              "      <th>insulin-5</th>\n",
              "      <th>insulin-4</th>\n",
              "      <th>insulin-3</th>\n",
              "      <th>insulin-2</th>\n",
              "      <th>insulin-1</th>\n",
              "      <th>sgv-5</th>\n",
              "      <th>sgv-4</th>\n",
              "      <th>sgv-3</th>\n",
              "      <th>sgv-2</th>\n",
              "      <th>sgv-1</th>\n",
              "    </tr>\n",
              "  </thead>\n",
              "  <tbody>\n",
              "    <tr>\n",
              "      <th>0</th>\n",
              "      <td>25.0</td>\n",
              "      <td>0.114437</td>\n",
              "      <td>142</td>\n",
              "      <td>Flat</td>\n",
              "      <td>2019</td>\n",
              "      <td>5</td>\n",
              "      <td>20</td>\n",
              "      <td>3</td>\n",
              "      <td>6</td>\n",
              "      <td>9</td>\n",
              "      <td>75.0</td>\n",
              "      <td>50.0</td>\n",
              "      <td>75.0</td>\n",
              "      <td>50.0</td>\n",
              "      <td>75.0</td>\n",
              "      <td>151</td>\n",
              "      <td>150</td>\n",
              "      <td>149</td>\n",
              "      <td>147</td>\n",
              "      <td>145</td>\n",
              "    </tr>\n",
              "    <tr>\n",
              "      <th>1</th>\n",
              "      <td>75.0</td>\n",
              "      <td>0.112676</td>\n",
              "      <td>137</td>\n",
              "      <td>Flat</td>\n",
              "      <td>2019</td>\n",
              "      <td>5</td>\n",
              "      <td>20</td>\n",
              "      <td>3</td>\n",
              "      <td>6</td>\n",
              "      <td>19</td>\n",
              "      <td>50.0</td>\n",
              "      <td>75.0</td>\n",
              "      <td>50.0</td>\n",
              "      <td>75.0</td>\n",
              "      <td>25.0</td>\n",
              "      <td>150</td>\n",
              "      <td>149</td>\n",
              "      <td>147</td>\n",
              "      <td>145</td>\n",
              "      <td>142</td>\n",
              "    </tr>\n",
              "    <tr>\n",
              "      <th>2</th>\n",
              "      <td>50.0</td>\n",
              "      <td>0.110915</td>\n",
              "      <td>144</td>\n",
              "      <td>Flat</td>\n",
              "      <td>2019</td>\n",
              "      <td>5</td>\n",
              "      <td>20</td>\n",
              "      <td>3</td>\n",
              "      <td>6</td>\n",
              "      <td>34</td>\n",
              "      <td>75.0</td>\n",
              "      <td>50.0</td>\n",
              "      <td>75.0</td>\n",
              "      <td>25.0</td>\n",
              "      <td>75.0</td>\n",
              "      <td>149</td>\n",
              "      <td>147</td>\n",
              "      <td>145</td>\n",
              "      <td>142</td>\n",
              "      <td>137</td>\n",
              "    </tr>\n",
              "    <tr>\n",
              "      <th>3</th>\n",
              "      <td>50.0</td>\n",
              "      <td>0.109155</td>\n",
              "      <td>140</td>\n",
              "      <td>Flat</td>\n",
              "      <td>2019</td>\n",
              "      <td>5</td>\n",
              "      <td>20</td>\n",
              "      <td>3</td>\n",
              "      <td>6</td>\n",
              "      <td>39</td>\n",
              "      <td>50.0</td>\n",
              "      <td>75.0</td>\n",
              "      <td>25.0</td>\n",
              "      <td>75.0</td>\n",
              "      <td>50.0</td>\n",
              "      <td>147</td>\n",
              "      <td>145</td>\n",
              "      <td>142</td>\n",
              "      <td>137</td>\n",
              "      <td>144</td>\n",
              "    </tr>\n",
              "    <tr>\n",
              "      <th>4</th>\n",
              "      <td>75.0</td>\n",
              "      <td>0.107394</td>\n",
              "      <td>139</td>\n",
              "      <td>Flat</td>\n",
              "      <td>2019</td>\n",
              "      <td>5</td>\n",
              "      <td>20</td>\n",
              "      <td>3</td>\n",
              "      <td>6</td>\n",
              "      <td>44</td>\n",
              "      <td>75.0</td>\n",
              "      <td>25.0</td>\n",
              "      <td>75.0</td>\n",
              "      <td>50.0</td>\n",
              "      <td>50.0</td>\n",
              "      <td>145</td>\n",
              "      <td>142</td>\n",
              "      <td>137</td>\n",
              "      <td>144</td>\n",
              "      <td>140</td>\n",
              "    </tr>\n",
              "  </tbody>\n",
              "</table>\n",
              "</div>"
            ],
            "text/plain": [
              "   insulin  bolusiob  sgv Tendencia (#1)  ...  sgv-4  sgv-3  sgv-2  sgv-1\n",
              "0     25.0  0.114437  142           Flat  ...    150    149    147    145\n",
              "1     75.0  0.112676  137           Flat  ...    149    147    145    142\n",
              "2     50.0  0.110915  144           Flat  ...    147    145    142    137\n",
              "3     50.0  0.109155  140           Flat  ...    145    142    137    144\n",
              "4     75.0  0.107394  139           Flat  ...    142    137    144    140\n",
              "\n",
              "[5 rows x 20 columns]"
            ]
          },
          "metadata": {
            "tags": []
          },
          "execution_count": 167
        }
      ]
    },
    {
      "cell_type": "markdown",
      "metadata": {
        "colab_type": "text",
        "id": "GDjVD0hEueY2"
      },
      "source": [
        "A continuación se hace una breve descripción de las variables que componen el DataSet:\n",
        "\n",
        "**- insulin:** Es la variable objetivo y representa la cantidad de insulina basal que la bomba insufla cada 5 minutos(1).\n",
        "\n",
        "**- bolusiob:** Se trata de una estimación dada por el sistema del total de la insulina 'activa' existente en el organismo del paciente.\n",
        "\n",
        "**- sgv:** Es el valor de nivel de glucosa detectado por el sensor de medición.\n",
        "\n",
        "**- Tendencia (1):** Es un indicador generado en base a la especificación del fabricante de la bomba y da una estimación de lo\"rapido\" o \"lento\" que varía el nivel de glucosa.\n",
        "\n",
        "    *Flat:* indica\n",
        "    *+++, ---:*\n",
        "    *++, --:*\n",
        "    *+,-:*\n",
        "    \n",
        "**- Year, Month, Week, Day of week, Hour, Minute:** Fecha-Hora correspondiente a los eventos que aportan la información reflejada.\n",
        "\n",
        "**- insulin-1 - insulin -5:** Valores de insulina insuflados en los 5 anteriores eventos temporales.\n",
        "\n",
        "**- sgv-1- insulin - 5:** Valores de glucosa medidos en los 5 anteriores eventos temporales.\n",
        "\n",
        "\n",
        "\n",
        "*(1) Pueden aparecer eventos intermedios correspondientes a mensajes procedentes de la misma bomba o dispositivos complementarios, como el medidor de insulina en sangre.*"
      ]
    },
    {
      "cell_type": "code",
      "metadata": {
        "id": "h0hgRwF1tstU",
        "colab_type": "code",
        "outputId": "fdeba615-ab30-4106-8c7f-78db12284f90",
        "colab": {
          "base_uri": "https://localhost:8080/",
          "height": 105
        }
      },
      "source": [
        "df.columns"
      ],
      "execution_count": 0,
      "outputs": [
        {
          "output_type": "execute_result",
          "data": {
            "text/plain": [
              "Index(['insulin', 'bolusiob', 'sgv', 'Tendencia (#1)', 'Year',\n",
              "       'Month (number)', 'Week', 'Day of week (number)', 'Hour', 'Minute',\n",
              "       'insulin-5', 'insulin-4', 'insulin-3', 'insulin-2', 'insulin-1',\n",
              "       'sgv-5', 'sgv-4', 'sgv-3', 'sgv-2', 'sgv-1'],\n",
              "      dtype='object')"
            ]
          },
          "metadata": {
            "tags": []
          },
          "execution_count": 168
        }
      ]
    },
    {
      "cell_type": "markdown",
      "metadata": {
        "id": "l19Q_JbrWQe6",
        "colab_type": "text"
      },
      "source": [
        "Estas variables son las correspondientesa los datos aportados por la bomba de insulina, referentes a los elementos que componen el sistema.\n",
        "\n",
        "Además, se han generado nuevas variables:\n",
        "\n"
      ]
    },
    {
      "cell_type": "markdown",
      "metadata": {
        "id": "ZBmYOvs_XLNk",
        "colab_type": "text"
      },
      "source": [
        "#1.3.1 Nuevas variables"
      ]
    },
    {
      "cell_type": "markdown",
      "metadata": {
        "id": "21VyoV0bXbjO",
        "colab_type": "text"
      },
      "source": [
        "Las nuevas variables han sido extraidas de un trabajo similar, que se puede consular en:\n",
        "https://nbviewer.jupyter.org/gist/mariusae/18a62db9cc32d09dc691fd4f78dcdbfa\n",
        "\n",
        "Las variables son:\n",
        "\n",
        "**- deltasgv:** El cambio de la glucosa cada 5 minutos.\n",
        "\n",
        "**- mendeltagv:** Es la media desplazada de los cambios de los valores de la glucosa.\n",
        "\n",
        "**- prevmeandeltasgv:** Valor medio del nivel de azucar en el instante anterior\n",
        "\n"
      ]
    },
    {
      "cell_type": "code",
      "metadata": {
        "id": "5VunEL0LXJns",
        "colab_type": "code",
        "outputId": "d205767a-368e-4439-d9dd-9b3c7ff968e7",
        "colab": {
          "base_uri": "https://localhost:8080/",
          "height": 251
        }
      },
      "source": [
        "maxdelta = 15\n",
        "df['deltasgv'] = df['sgv'] - df['sgv'].shift(1)\n",
        "df['deltasgv'] = np.maximum(np.minimum(df['deltasgv'], maxdelta), -maxdelta)\n",
        "\n",
        "df['meandeltasgv'] = df['deltasgv'].rolling(window=4, min_periods=1).mean()\n",
        "df['prevmeandeltasgv'] = df['meandeltasgv'].shift(1)\n",
        "df[np.isfinite(df['sgv'])].tail(5)"
      ],
      "execution_count": 0,
      "outputs": [
        {
          "output_type": "execute_result",
          "data": {
            "text/html": [
              "<div>\n",
              "<style scoped>\n",
              "    .dataframe tbody tr th:only-of-type {\n",
              "        vertical-align: middle;\n",
              "    }\n",
              "\n",
              "    .dataframe tbody tr th {\n",
              "        vertical-align: top;\n",
              "    }\n",
              "\n",
              "    .dataframe thead th {\n",
              "        text-align: right;\n",
              "    }\n",
              "</style>\n",
              "<table border=\"1\" class=\"dataframe\">\n",
              "  <thead>\n",
              "    <tr style=\"text-align: right;\">\n",
              "      <th></th>\n",
              "      <th>insulin</th>\n",
              "      <th>bolusiob</th>\n",
              "      <th>sgv</th>\n",
              "      <th>Tendencia (#1)</th>\n",
              "      <th>Year</th>\n",
              "      <th>Month (number)</th>\n",
              "      <th>Week</th>\n",
              "      <th>Day of week (number)</th>\n",
              "      <th>Hour</th>\n",
              "      <th>Minute</th>\n",
              "      <th>insulin-5</th>\n",
              "      <th>insulin-4</th>\n",
              "      <th>insulin-3</th>\n",
              "      <th>insulin-2</th>\n",
              "      <th>insulin-1</th>\n",
              "      <th>sgv-5</th>\n",
              "      <th>sgv-4</th>\n",
              "      <th>sgv-3</th>\n",
              "      <th>sgv-2</th>\n",
              "      <th>sgv-1</th>\n",
              "      <th>deltasgv</th>\n",
              "      <th>meandeltasgv</th>\n",
              "      <th>prevmeandeltasgv</th>\n",
              "    </tr>\n",
              "  </thead>\n",
              "  <tbody>\n",
              "    <tr>\n",
              "      <th>6741</th>\n",
              "      <td>50.0</td>\n",
              "      <td>0.0</td>\n",
              "      <td>120</td>\n",
              "      <td>Flat</td>\n",
              "      <td>2019</td>\n",
              "      <td>6</td>\n",
              "      <td>26</td>\n",
              "      <td>2</td>\n",
              "      <td>20</td>\n",
              "      <td>7</td>\n",
              "      <td>75.0</td>\n",
              "      <td>75.0</td>\n",
              "      <td>75.0</td>\n",
              "      <td>75.0</td>\n",
              "      <td>75.0</td>\n",
              "      <td>112</td>\n",
              "      <td>114</td>\n",
              "      <td>115</td>\n",
              "      <td>117</td>\n",
              "      <td>120</td>\n",
              "      <td>0.0</td>\n",
              "      <td>1.50</td>\n",
              "      <td>2.00</td>\n",
              "    </tr>\n",
              "    <tr>\n",
              "      <th>6742</th>\n",
              "      <td>25.0</td>\n",
              "      <td>0.0</td>\n",
              "      <td>120</td>\n",
              "      <td>Flat</td>\n",
              "      <td>2019</td>\n",
              "      <td>6</td>\n",
              "      <td>26</td>\n",
              "      <td>2</td>\n",
              "      <td>20</td>\n",
              "      <td>12</td>\n",
              "      <td>75.0</td>\n",
              "      <td>75.0</td>\n",
              "      <td>75.0</td>\n",
              "      <td>75.0</td>\n",
              "      <td>50.0</td>\n",
              "      <td>114</td>\n",
              "      <td>115</td>\n",
              "      <td>117</td>\n",
              "      <td>120</td>\n",
              "      <td>120</td>\n",
              "      <td>0.0</td>\n",
              "      <td>1.25</td>\n",
              "      <td>1.50</td>\n",
              "    </tr>\n",
              "    <tr>\n",
              "      <th>6743</th>\n",
              "      <td>25.0</td>\n",
              "      <td>0.0</td>\n",
              "      <td>118</td>\n",
              "      <td>Flat</td>\n",
              "      <td>2019</td>\n",
              "      <td>6</td>\n",
              "      <td>26</td>\n",
              "      <td>2</td>\n",
              "      <td>20</td>\n",
              "      <td>17</td>\n",
              "      <td>75.0</td>\n",
              "      <td>75.0</td>\n",
              "      <td>75.0</td>\n",
              "      <td>50.0</td>\n",
              "      <td>25.0</td>\n",
              "      <td>115</td>\n",
              "      <td>117</td>\n",
              "      <td>120</td>\n",
              "      <td>120</td>\n",
              "      <td>120</td>\n",
              "      <td>-2.0</td>\n",
              "      <td>0.25</td>\n",
              "      <td>1.25</td>\n",
              "    </tr>\n",
              "    <tr>\n",
              "      <th>6744</th>\n",
              "      <td>25.0</td>\n",
              "      <td>0.0</td>\n",
              "      <td>115</td>\n",
              "      <td>Flat</td>\n",
              "      <td>2019</td>\n",
              "      <td>6</td>\n",
              "      <td>26</td>\n",
              "      <td>2</td>\n",
              "      <td>20</td>\n",
              "      <td>28</td>\n",
              "      <td>75.0</td>\n",
              "      <td>75.0</td>\n",
              "      <td>50.0</td>\n",
              "      <td>25.0</td>\n",
              "      <td>25.0</td>\n",
              "      <td>117</td>\n",
              "      <td>120</td>\n",
              "      <td>120</td>\n",
              "      <td>120</td>\n",
              "      <td>118</td>\n",
              "      <td>-3.0</td>\n",
              "      <td>-1.25</td>\n",
              "      <td>0.25</td>\n",
              "    </tr>\n",
              "    <tr>\n",
              "      <th>6745</th>\n",
              "      <td>25.0</td>\n",
              "      <td>0.0</td>\n",
              "      <td>114</td>\n",
              "      <td>Flat</td>\n",
              "      <td>2019</td>\n",
              "      <td>6</td>\n",
              "      <td>26</td>\n",
              "      <td>2</td>\n",
              "      <td>20</td>\n",
              "      <td>32</td>\n",
              "      <td>75.0</td>\n",
              "      <td>50.0</td>\n",
              "      <td>25.0</td>\n",
              "      <td>25.0</td>\n",
              "      <td>25.0</td>\n",
              "      <td>120</td>\n",
              "      <td>120</td>\n",
              "      <td>120</td>\n",
              "      <td>118</td>\n",
              "      <td>115</td>\n",
              "      <td>-1.0</td>\n",
              "      <td>-1.50</td>\n",
              "      <td>-1.25</td>\n",
              "    </tr>\n",
              "  </tbody>\n",
              "</table>\n",
              "</div>"
            ],
            "text/plain": [
              "      insulin  bolusiob  sgv  ... deltasgv  meandeltasgv  prevmeandeltasgv\n",
              "6741     50.0       0.0  120  ...      0.0          1.50              2.00\n",
              "6742     25.0       0.0  120  ...      0.0          1.25              1.50\n",
              "6743     25.0       0.0  118  ...     -2.0          0.25              1.25\n",
              "6744     25.0       0.0  115  ...     -3.0         -1.25              0.25\n",
              "6745     25.0       0.0  114  ...     -1.0         -1.50             -1.25\n",
              "\n",
              "[5 rows x 23 columns]"
            ]
          },
          "metadata": {
            "tags": []
          },
          "execution_count": 169
        }
      ]
    },
    {
      "cell_type": "code",
      "metadata": {
        "id": "kKMxXenwaTCx",
        "colab_type": "code",
        "outputId": "08a6b1da-7d1f-4c03-f873-d4e64395c78b",
        "colab": {
          "base_uri": "https://localhost:8080/",
          "height": 251
        }
      },
      "source": [
        "df.head()"
      ],
      "execution_count": 0,
      "outputs": [
        {
          "output_type": "execute_result",
          "data": {
            "text/html": [
              "<div>\n",
              "<style scoped>\n",
              "    .dataframe tbody tr th:only-of-type {\n",
              "        vertical-align: middle;\n",
              "    }\n",
              "\n",
              "    .dataframe tbody tr th {\n",
              "        vertical-align: top;\n",
              "    }\n",
              "\n",
              "    .dataframe thead th {\n",
              "        text-align: right;\n",
              "    }\n",
              "</style>\n",
              "<table border=\"1\" class=\"dataframe\">\n",
              "  <thead>\n",
              "    <tr style=\"text-align: right;\">\n",
              "      <th></th>\n",
              "      <th>insulin</th>\n",
              "      <th>bolusiob</th>\n",
              "      <th>sgv</th>\n",
              "      <th>Tendencia (#1)</th>\n",
              "      <th>Year</th>\n",
              "      <th>Month (number)</th>\n",
              "      <th>Week</th>\n",
              "      <th>Day of week (number)</th>\n",
              "      <th>Hour</th>\n",
              "      <th>Minute</th>\n",
              "      <th>insulin-5</th>\n",
              "      <th>insulin-4</th>\n",
              "      <th>insulin-3</th>\n",
              "      <th>insulin-2</th>\n",
              "      <th>insulin-1</th>\n",
              "      <th>sgv-5</th>\n",
              "      <th>sgv-4</th>\n",
              "      <th>sgv-3</th>\n",
              "      <th>sgv-2</th>\n",
              "      <th>sgv-1</th>\n",
              "      <th>deltasgv</th>\n",
              "      <th>meandeltasgv</th>\n",
              "      <th>prevmeandeltasgv</th>\n",
              "    </tr>\n",
              "  </thead>\n",
              "  <tbody>\n",
              "    <tr>\n",
              "      <th>0</th>\n",
              "      <td>25.0</td>\n",
              "      <td>0.114437</td>\n",
              "      <td>142</td>\n",
              "      <td>Flat</td>\n",
              "      <td>2019</td>\n",
              "      <td>5</td>\n",
              "      <td>20</td>\n",
              "      <td>3</td>\n",
              "      <td>6</td>\n",
              "      <td>9</td>\n",
              "      <td>75.0</td>\n",
              "      <td>50.0</td>\n",
              "      <td>75.0</td>\n",
              "      <td>50.0</td>\n",
              "      <td>75.0</td>\n",
              "      <td>151</td>\n",
              "      <td>150</td>\n",
              "      <td>149</td>\n",
              "      <td>147</td>\n",
              "      <td>145</td>\n",
              "      <td>NaN</td>\n",
              "      <td>NaN</td>\n",
              "      <td>NaN</td>\n",
              "    </tr>\n",
              "    <tr>\n",
              "      <th>1</th>\n",
              "      <td>75.0</td>\n",
              "      <td>0.112676</td>\n",
              "      <td>137</td>\n",
              "      <td>Flat</td>\n",
              "      <td>2019</td>\n",
              "      <td>5</td>\n",
              "      <td>20</td>\n",
              "      <td>3</td>\n",
              "      <td>6</td>\n",
              "      <td>19</td>\n",
              "      <td>50.0</td>\n",
              "      <td>75.0</td>\n",
              "      <td>50.0</td>\n",
              "      <td>75.0</td>\n",
              "      <td>25.0</td>\n",
              "      <td>150</td>\n",
              "      <td>149</td>\n",
              "      <td>147</td>\n",
              "      <td>145</td>\n",
              "      <td>142</td>\n",
              "      <td>-5.0</td>\n",
              "      <td>-5.000000</td>\n",
              "      <td>NaN</td>\n",
              "    </tr>\n",
              "    <tr>\n",
              "      <th>2</th>\n",
              "      <td>50.0</td>\n",
              "      <td>0.110915</td>\n",
              "      <td>144</td>\n",
              "      <td>Flat</td>\n",
              "      <td>2019</td>\n",
              "      <td>5</td>\n",
              "      <td>20</td>\n",
              "      <td>3</td>\n",
              "      <td>6</td>\n",
              "      <td>34</td>\n",
              "      <td>75.0</td>\n",
              "      <td>50.0</td>\n",
              "      <td>75.0</td>\n",
              "      <td>25.0</td>\n",
              "      <td>75.0</td>\n",
              "      <td>149</td>\n",
              "      <td>147</td>\n",
              "      <td>145</td>\n",
              "      <td>142</td>\n",
              "      <td>137</td>\n",
              "      <td>7.0</td>\n",
              "      <td>1.000000</td>\n",
              "      <td>-5.000000</td>\n",
              "    </tr>\n",
              "    <tr>\n",
              "      <th>3</th>\n",
              "      <td>50.0</td>\n",
              "      <td>0.109155</td>\n",
              "      <td>140</td>\n",
              "      <td>Flat</td>\n",
              "      <td>2019</td>\n",
              "      <td>5</td>\n",
              "      <td>20</td>\n",
              "      <td>3</td>\n",
              "      <td>6</td>\n",
              "      <td>39</td>\n",
              "      <td>50.0</td>\n",
              "      <td>75.0</td>\n",
              "      <td>25.0</td>\n",
              "      <td>75.0</td>\n",
              "      <td>50.0</td>\n",
              "      <td>147</td>\n",
              "      <td>145</td>\n",
              "      <td>142</td>\n",
              "      <td>137</td>\n",
              "      <td>144</td>\n",
              "      <td>-4.0</td>\n",
              "      <td>-0.666667</td>\n",
              "      <td>1.000000</td>\n",
              "    </tr>\n",
              "    <tr>\n",
              "      <th>4</th>\n",
              "      <td>75.0</td>\n",
              "      <td>0.107394</td>\n",
              "      <td>139</td>\n",
              "      <td>Flat</td>\n",
              "      <td>2019</td>\n",
              "      <td>5</td>\n",
              "      <td>20</td>\n",
              "      <td>3</td>\n",
              "      <td>6</td>\n",
              "      <td>44</td>\n",
              "      <td>75.0</td>\n",
              "      <td>25.0</td>\n",
              "      <td>75.0</td>\n",
              "      <td>50.0</td>\n",
              "      <td>50.0</td>\n",
              "      <td>145</td>\n",
              "      <td>142</td>\n",
              "      <td>137</td>\n",
              "      <td>144</td>\n",
              "      <td>140</td>\n",
              "      <td>-1.0</td>\n",
              "      <td>-0.750000</td>\n",
              "      <td>-0.666667</td>\n",
              "    </tr>\n",
              "  </tbody>\n",
              "</table>\n",
              "</div>"
            ],
            "text/plain": [
              "   insulin  bolusiob  sgv  ... deltasgv  meandeltasgv  prevmeandeltasgv\n",
              "0     25.0  0.114437  142  ...      NaN           NaN               NaN\n",
              "1     75.0  0.112676  137  ...     -5.0     -5.000000               NaN\n",
              "2     50.0  0.110915  144  ...      7.0      1.000000         -5.000000\n",
              "3     50.0  0.109155  140  ...     -4.0     -0.666667          1.000000\n",
              "4     75.0  0.107394  139  ...     -1.0     -0.750000         -0.666667\n",
              "\n",
              "[5 rows x 23 columns]"
            ]
          },
          "metadata": {
            "tags": []
          },
          "execution_count": 170
        }
      ]
    },
    {
      "cell_type": "code",
      "metadata": {
        "id": "id8Vp1l5lmzs",
        "colab_type": "code",
        "colab": {}
      },
      "source": [
        "df = df.fillna(df.mean()) # Rellenamos los NaN con la media"
      ],
      "execution_count": 0,
      "outputs": []
    },
    {
      "cell_type": "markdown",
      "metadata": {
        "id": "w4n3hXUBZLiD",
        "colab_type": "text"
      },
      "source": [
        "Por ultimo añadimos un parámetro relacionado con la insulina actuva en cada instante. Esta variable, además, añade la naturaleza farmacológica de la insulina utilizada.\n",
        "\n",
        "**-ai:** Insulina activa\n"
      ]
    },
    {
      "cell_type": "code",
      "metadata": {
        "id": "8_nnC_5LZp0F",
        "colab_type": "code",
        "colab": {}
      },
      "source": [
        "df['ubi']=0 # No hay aportaciones de insulina lenta"
      ],
      "execution_count": 0,
      "outputs": []
    },
    {
      "cell_type": "code",
      "metadata": {
        "id": "1JUseZklZ77I",
        "colab_type": "code",
        "outputId": "b086d8db-feb7-47ec-d64e-9fd27c31b2e9",
        "colab": {
          "base_uri": "https://localhost:8080/",
          "height": 268
        }
      },
      "source": [
        "def expia(t, tp, td):\n",
        "    \"\"\"Exponential insulin curve, parameterized by peak and duration, \n",
        "    due to Dragan Maksimovic (@dm61).\n",
        "    Worked by Pete (@ps2) in the notebook\n",
        "    \thttps://github.com/ps2/LoopIOB/blob/master/ScalableExp.ipynb\n",
        "    Reworked here to be vectorized by numpy.\n",
        "    \"\"\"\n",
        "    tau = tp*(1-tp/td)/(1-2*tp/td)\n",
        "    a = 2*(tau/td)\n",
        "    S = 1/(1-a+(1+a)*np.exp(-td/tau))\n",
        "    return np.maximum(0., (S/np.power(tau,2))*t*(1-t/td)*np.exp(-t/tau))\n",
        "\n",
        "# W is the window of history that we consider. \n",
        "# Our periods are 5 minutes, so 12*6 = 6 hours.\n",
        "W = 12*6\n",
        "Wtime = np.linspace(0., 1.*W, W, endpoint=False, dtype='float32')\n",
        "humalog_coeffs = expia(Wtime, 13., 48.)  # 1:05h peak, 4h duration\n",
        "fiasp_coeffs = expia(Wtime, 7., 45.)  # 35m peak, 3:45h duration\n",
        "\n",
        "# We flip them because we're going to be applying these to \"trailing\" data.\n",
        "humalog_coeffs = np.flip(humalog_coeffs, 0)\n",
        "fiasp_coeffs = np.flip(fiasp_coeffs, 0)\n",
        "\n",
        "# Ia indicates insulin activity. This is computed by adding up the \n",
        "# contributions of each delivery over a rolling window. Conveniently,\n",
        "# this is equivalent to taking the dot product of the deliveries in the\n",
        "# window with the coefficients computed above.\n",
        "df['ia'] = df['insulin'].rolling(window=W).apply(lambda pids: np.dot(pids, humalog_coeffs)) + \\\n",
        "    df['ubi'].rolling(window=W).apply(lambda pids: np.dot(pids, fiasp_coeffs))\n",
        "df[np.isfinite(df['sgv'])].tail(5)"
      ],
      "execution_count": 0,
      "outputs": [
        {
          "output_type": "stream",
          "text": [
            "/usr/local/lib/python3.6/dist-packages/ipykernel_launcher.py:28: FutureWarning: Currently, 'apply' passes the values as ndarrays to the applied function. In the future, this will change to passing it as Series objects. You need to specify 'raw=True' to keep the current behaviour, and you can pass 'raw=False' to silence this warning\n"
          ],
          "name": "stderr"
        },
        {
          "output_type": "execute_result",
          "data": {
            "text/html": [
              "<div>\n",
              "<style scoped>\n",
              "    .dataframe tbody tr th:only-of-type {\n",
              "        vertical-align: middle;\n",
              "    }\n",
              "\n",
              "    .dataframe tbody tr th {\n",
              "        vertical-align: top;\n",
              "    }\n",
              "\n",
              "    .dataframe thead th {\n",
              "        text-align: right;\n",
              "    }\n",
              "</style>\n",
              "<table border=\"1\" class=\"dataframe\">\n",
              "  <thead>\n",
              "    <tr style=\"text-align: right;\">\n",
              "      <th></th>\n",
              "      <th>insulin</th>\n",
              "      <th>bolusiob</th>\n",
              "      <th>sgv</th>\n",
              "      <th>Tendencia (#1)</th>\n",
              "      <th>Year</th>\n",
              "      <th>Month (number)</th>\n",
              "      <th>Week</th>\n",
              "      <th>Day of week (number)</th>\n",
              "      <th>Hour</th>\n",
              "      <th>Minute</th>\n",
              "      <th>insulin-5</th>\n",
              "      <th>insulin-4</th>\n",
              "      <th>insulin-3</th>\n",
              "      <th>insulin-2</th>\n",
              "      <th>insulin-1</th>\n",
              "      <th>sgv-5</th>\n",
              "      <th>sgv-4</th>\n",
              "      <th>sgv-3</th>\n",
              "      <th>sgv-2</th>\n",
              "      <th>sgv-1</th>\n",
              "      <th>deltasgv</th>\n",
              "      <th>meandeltasgv</th>\n",
              "      <th>prevmeandeltasgv</th>\n",
              "      <th>ubi</th>\n",
              "      <th>ia</th>\n",
              "    </tr>\n",
              "  </thead>\n",
              "  <tbody>\n",
              "    <tr>\n",
              "      <th>6741</th>\n",
              "      <td>50.0</td>\n",
              "      <td>0.0</td>\n",
              "      <td>120</td>\n",
              "      <td>Flat</td>\n",
              "      <td>2019</td>\n",
              "      <td>6</td>\n",
              "      <td>26</td>\n",
              "      <td>2</td>\n",
              "      <td>20</td>\n",
              "      <td>7</td>\n",
              "      <td>75.0</td>\n",
              "      <td>75.0</td>\n",
              "      <td>75.0</td>\n",
              "      <td>75.0</td>\n",
              "      <td>75.0</td>\n",
              "      <td>112</td>\n",
              "      <td>114</td>\n",
              "      <td>115</td>\n",
              "      <td>117</td>\n",
              "      <td>120</td>\n",
              "      <td>0.0</td>\n",
              "      <td>1.50</td>\n",
              "      <td>2.00</td>\n",
              "      <td>0</td>\n",
              "      <td>48.439181</td>\n",
              "    </tr>\n",
              "    <tr>\n",
              "      <th>6742</th>\n",
              "      <td>25.0</td>\n",
              "      <td>0.0</td>\n",
              "      <td>120</td>\n",
              "      <td>Flat</td>\n",
              "      <td>2019</td>\n",
              "      <td>6</td>\n",
              "      <td>26</td>\n",
              "      <td>2</td>\n",
              "      <td>20</td>\n",
              "      <td>12</td>\n",
              "      <td>75.0</td>\n",
              "      <td>75.0</td>\n",
              "      <td>75.0</td>\n",
              "      <td>75.0</td>\n",
              "      <td>50.0</td>\n",
              "      <td>114</td>\n",
              "      <td>115</td>\n",
              "      <td>117</td>\n",
              "      <td>120</td>\n",
              "      <td>120</td>\n",
              "      <td>0.0</td>\n",
              "      <td>1.25</td>\n",
              "      <td>1.50</td>\n",
              "      <td>0</td>\n",
              "      <td>48.970269</td>\n",
              "    </tr>\n",
              "    <tr>\n",
              "      <th>6743</th>\n",
              "      <td>25.0</td>\n",
              "      <td>0.0</td>\n",
              "      <td>118</td>\n",
              "      <td>Flat</td>\n",
              "      <td>2019</td>\n",
              "      <td>6</td>\n",
              "      <td>26</td>\n",
              "      <td>2</td>\n",
              "      <td>20</td>\n",
              "      <td>17</td>\n",
              "      <td>75.0</td>\n",
              "      <td>75.0</td>\n",
              "      <td>75.0</td>\n",
              "      <td>50.0</td>\n",
              "      <td>25.0</td>\n",
              "      <td>115</td>\n",
              "      <td>117</td>\n",
              "      <td>120</td>\n",
              "      <td>120</td>\n",
              "      <td>120</td>\n",
              "      <td>-2.0</td>\n",
              "      <td>0.25</td>\n",
              "      <td>1.25</td>\n",
              "      <td>0</td>\n",
              "      <td>49.256509</td>\n",
              "    </tr>\n",
              "    <tr>\n",
              "      <th>6744</th>\n",
              "      <td>25.0</td>\n",
              "      <td>0.0</td>\n",
              "      <td>115</td>\n",
              "      <td>Flat</td>\n",
              "      <td>2019</td>\n",
              "      <td>6</td>\n",
              "      <td>26</td>\n",
              "      <td>2</td>\n",
              "      <td>20</td>\n",
              "      <td>28</td>\n",
              "      <td>75.0</td>\n",
              "      <td>75.0</td>\n",
              "      <td>50.0</td>\n",
              "      <td>25.0</td>\n",
              "      <td>25.0</td>\n",
              "      <td>117</td>\n",
              "      <td>120</td>\n",
              "      <td>120</td>\n",
              "      <td>120</td>\n",
              "      <td>118</td>\n",
              "      <td>-3.0</td>\n",
              "      <td>-1.25</td>\n",
              "      <td>0.25</td>\n",
              "      <td>0</td>\n",
              "      <td>49.343943</td>\n",
              "    </tr>\n",
              "    <tr>\n",
              "      <th>6745</th>\n",
              "      <td>25.0</td>\n",
              "      <td>0.0</td>\n",
              "      <td>114</td>\n",
              "      <td>Flat</td>\n",
              "      <td>2019</td>\n",
              "      <td>6</td>\n",
              "      <td>26</td>\n",
              "      <td>2</td>\n",
              "      <td>20</td>\n",
              "      <td>32</td>\n",
              "      <td>75.0</td>\n",
              "      <td>50.0</td>\n",
              "      <td>25.0</td>\n",
              "      <td>25.0</td>\n",
              "      <td>25.0</td>\n",
              "      <td>120</td>\n",
              "      <td>120</td>\n",
              "      <td>120</td>\n",
              "      <td>118</td>\n",
              "      <td>115</td>\n",
              "      <td>-1.0</td>\n",
              "      <td>-1.50</td>\n",
              "      <td>-1.25</td>\n",
              "      <td>0</td>\n",
              "      <td>49.257783</td>\n",
              "    </tr>\n",
              "  </tbody>\n",
              "</table>\n",
              "</div>"
            ],
            "text/plain": [
              "      insulin  bolusiob  sgv  ... prevmeandeltasgv  ubi         ia\n",
              "6741     50.0       0.0  120  ...             2.00    0  48.439181\n",
              "6742     25.0       0.0  120  ...             1.50    0  48.970269\n",
              "6743     25.0       0.0  118  ...             1.25    0  49.256509\n",
              "6744     25.0       0.0  115  ...             0.25    0  49.343943\n",
              "6745     25.0       0.0  114  ...            -1.25    0  49.257783\n",
              "\n",
              "[5 rows x 25 columns]"
            ]
          },
          "metadata": {
            "tags": []
          },
          "execution_count": 173
        }
      ]
    },
    {
      "cell_type": "markdown",
      "metadata": {
        "id": "hCYHX9ixa9kW",
        "colab_type": "text"
      },
      "source": [
        "Este parámetro tambien genera valores NaN, eliminandose de la misma forma"
      ]
    },
    {
      "cell_type": "code",
      "metadata": {
        "id": "Pp4K8MXva8l0",
        "colab_type": "code",
        "colab": {}
      },
      "source": [
        "df = df.fillna(df.mean()) # Rellenamos los NaN con la media"
      ],
      "execution_count": 0,
      "outputs": []
    },
    {
      "cell_type": "markdown",
      "metadata": {
        "id": "HmobEl8WvV-9",
        "colab_type": "text"
      },
      "source": [
        "##1.4.- Tratamiento de variables categóricas.##"
      ]
    },
    {
      "cell_type": "code",
      "metadata": {
        "id": "2Mz3jWwtxgM1",
        "colab_type": "code",
        "outputId": "8c988dca-eee9-45b7-9f28-4df99ed6406e",
        "colab": {
          "base_uri": "https://localhost:8080/",
          "height": 34
        }
      },
      "source": [
        "df['Tendencia (#1)'].unique()"
      ],
      "execution_count": 0,
      "outputs": [
        {
          "output_type": "execute_result",
          "data": {
            "text/plain": [
              "array(['Flat', '++', '-', '+', '---', '--', '+++'], dtype=object)"
            ]
          },
          "metadata": {
            "tags": []
          },
          "execution_count": 175
        }
      ]
    },
    {
      "cell_type": "code",
      "metadata": {
        "id": "M5N2XdNL0IAv",
        "colab_type": "code",
        "colab": {}
      },
      "source": [
        "df['Tendencia (#1)'] = df['Tendencia (#1)'].astype('category').values"
      ],
      "execution_count": 0,
      "outputs": []
    },
    {
      "cell_type": "code",
      "metadata": {
        "id": "ALKwv19H3EGq",
        "colab_type": "code",
        "colab": {}
      },
      "source": [
        "df['Tendencia (#1)'].cat.set_categories(['+', '++', '+++', '-', '--', '---', 'Flat'], ordered=True, inplace=True)\n",
        "df['Tendencia (#1)'] = df['Tendencia (#1)'].cat.codes"
      ],
      "execution_count": 0,
      "outputs": []
    },
    {
      "cell_type": "code",
      "metadata": {
        "id": "X1qlulyA2wpl",
        "colab_type": "code",
        "outputId": "51695c97-56fa-4176-92fd-c99e9617aaac",
        "colab": {
          "base_uri": "https://localhost:8080/",
          "height": 123
        }
      },
      "source": [
        "df['Tendencia (#1)'].head()"
      ],
      "execution_count": 0,
      "outputs": [
        {
          "output_type": "execute_result",
          "data": {
            "text/plain": [
              "0    6\n",
              "1    6\n",
              "2    6\n",
              "3    6\n",
              "4    6\n",
              "Name: Tendencia (#1), dtype: int8"
            ]
          },
          "metadata": {
            "tags": []
          },
          "execution_count": 178
        }
      ]
    },
    {
      "cell_type": "markdown",
      "metadata": {
        "id": "Fs-OsrqVvmpq",
        "colab_type": "text"
      },
      "source": [
        "##1.5 Primer contacto con la naturaleza de los datos. Estadísticos generales##"
      ]
    },
    {
      "cell_type": "code",
      "metadata": {
        "id": "dVnxwX9r4CvG",
        "colab_type": "code",
        "outputId": "f68b794d-fe27-4344-c952-037c320d5924",
        "colab": {
          "base_uri": "https://localhost:8080/",
          "height": 341
        }
      },
      "source": [
        "df.describe()"
      ],
      "execution_count": 0,
      "outputs": [
        {
          "output_type": "execute_result",
          "data": {
            "text/html": [
              "<div>\n",
              "<style scoped>\n",
              "    .dataframe tbody tr th:only-of-type {\n",
              "        vertical-align: middle;\n",
              "    }\n",
              "\n",
              "    .dataframe tbody tr th {\n",
              "        vertical-align: top;\n",
              "    }\n",
              "\n",
              "    .dataframe thead th {\n",
              "        text-align: right;\n",
              "    }\n",
              "</style>\n",
              "<table border=\"1\" class=\"dataframe\">\n",
              "  <thead>\n",
              "    <tr style=\"text-align: right;\">\n",
              "      <th></th>\n",
              "      <th>insulin</th>\n",
              "      <th>bolusiob</th>\n",
              "      <th>sgv</th>\n",
              "      <th>Tendencia (#1)</th>\n",
              "      <th>Year</th>\n",
              "      <th>Month (number)</th>\n",
              "      <th>Week</th>\n",
              "      <th>Day of week (number)</th>\n",
              "      <th>Hour</th>\n",
              "      <th>Minute</th>\n",
              "      <th>insulin-5</th>\n",
              "      <th>insulin-4</th>\n",
              "      <th>insulin-3</th>\n",
              "      <th>insulin-2</th>\n",
              "      <th>insulin-1</th>\n",
              "      <th>sgv-5</th>\n",
              "      <th>sgv-4</th>\n",
              "      <th>sgv-3</th>\n",
              "      <th>sgv-2</th>\n",
              "      <th>sgv-1</th>\n",
              "      <th>deltasgv</th>\n",
              "      <th>meandeltasgv</th>\n",
              "      <th>prevmeandeltasgv</th>\n",
              "      <th>ubi</th>\n",
              "      <th>ia</th>\n",
              "    </tr>\n",
              "  </thead>\n",
              "  <tbody>\n",
              "    <tr>\n",
              "      <th>count</th>\n",
              "      <td>6746.000000</td>\n",
              "      <td>6746.000000</td>\n",
              "      <td>6746.000000</td>\n",
              "      <td>6746.000000</td>\n",
              "      <td>6746.0</td>\n",
              "      <td>6746.000000</td>\n",
              "      <td>6746.000000</td>\n",
              "      <td>6746.000000</td>\n",
              "      <td>6746.000000</td>\n",
              "      <td>6746.000000</td>\n",
              "      <td>6746.000000</td>\n",
              "      <td>6746.000000</td>\n",
              "      <td>6746.000000</td>\n",
              "      <td>6746.000000</td>\n",
              "      <td>6746.000000</td>\n",
              "      <td>6746.000000</td>\n",
              "      <td>6746.000000</td>\n",
              "      <td>6746.000000</td>\n",
              "      <td>6746.000000</td>\n",
              "      <td>6746.000000</td>\n",
              "      <td>6746.000000</td>\n",
              "      <td>6746.000000</td>\n",
              "      <td>6746.000000</td>\n",
              "      <td>6746.0</td>\n",
              "      <td>6746.000000</td>\n",
              "    </tr>\n",
              "    <tr>\n",
              "      <th>mean</th>\n",
              "      <td>68.703676</td>\n",
              "      <td>0.755228</td>\n",
              "      <td>149.678624</td>\n",
              "      <td>4.996739</td>\n",
              "      <td>2019.0</td>\n",
              "      <td>5.588349</td>\n",
              "      <td>22.752742</td>\n",
              "      <td>3.933887</td>\n",
              "      <td>10.517344</td>\n",
              "      <td>29.314260</td>\n",
              "      <td>68.729618</td>\n",
              "      <td>68.725912</td>\n",
              "      <td>68.722206</td>\n",
              "      <td>68.714794</td>\n",
              "      <td>68.711088</td>\n",
              "      <td>149.701601</td>\n",
              "      <td>149.697006</td>\n",
              "      <td>149.692559</td>\n",
              "      <td>149.687963</td>\n",
              "      <td>149.683220</td>\n",
              "      <td>0.477391</td>\n",
              "      <td>0.477292</td>\n",
              "      <td>0.477585</td>\n",
              "      <td>0.0</td>\n",
              "      <td>68.882861</td>\n",
              "    </tr>\n",
              "    <tr>\n",
              "      <th>std</th>\n",
              "      <td>34.349161</td>\n",
              "      <td>1.108875</td>\n",
              "      <td>36.537746</td>\n",
              "      <td>2.092803</td>\n",
              "      <td>0.0</td>\n",
              "      <td>0.492169</td>\n",
              "      <td>1.751144</td>\n",
              "      <td>2.007418</td>\n",
              "      <td>7.163416</td>\n",
              "      <td>17.300132</td>\n",
              "      <td>34.333672</td>\n",
              "      <td>34.334344</td>\n",
              "      <td>34.337715</td>\n",
              "      <td>34.341755</td>\n",
              "      <td>34.345124</td>\n",
              "      <td>36.527168</td>\n",
              "      <td>36.528955</td>\n",
              "      <td>36.530744</td>\n",
              "      <td>36.532781</td>\n",
              "      <td>36.535207</td>\n",
              "      <td>5.202052</td>\n",
              "      <td>3.553006</td>\n",
              "      <td>3.552924</td>\n",
              "      <td>0.0</td>\n",
              "      <td>17.425730</td>\n",
              "    </tr>\n",
              "    <tr>\n",
              "      <th>min</th>\n",
              "      <td>0.000000</td>\n",
              "      <td>0.000000</td>\n",
              "      <td>5.000000</td>\n",
              "      <td>0.000000</td>\n",
              "      <td>2019.0</td>\n",
              "      <td>5.000000</td>\n",
              "      <td>20.000000</td>\n",
              "      <td>1.000000</td>\n",
              "      <td>0.000000</td>\n",
              "      <td>0.000000</td>\n",
              "      <td>0.000000</td>\n",
              "      <td>0.000000</td>\n",
              "      <td>0.000000</td>\n",
              "      <td>0.000000</td>\n",
              "      <td>0.000000</td>\n",
              "      <td>5.000000</td>\n",
              "      <td>5.000000</td>\n",
              "      <td>5.000000</td>\n",
              "      <td>5.000000</td>\n",
              "      <td>5.000000</td>\n",
              "      <td>-15.000000</td>\n",
              "      <td>-12.750000</td>\n",
              "      <td>-12.750000</td>\n",
              "      <td>0.0</td>\n",
              "      <td>0.000000</td>\n",
              "    </tr>\n",
              "    <tr>\n",
              "      <th>25%</th>\n",
              "      <td>50.000000</td>\n",
              "      <td>0.000000</td>\n",
              "      <td>122.000000</td>\n",
              "      <td>6.000000</td>\n",
              "      <td>2019.0</td>\n",
              "      <td>5.000000</td>\n",
              "      <td>21.000000</td>\n",
              "      <td>2.000000</td>\n",
              "      <td>4.000000</td>\n",
              "      <td>14.000000</td>\n",
              "      <td>50.000000</td>\n",
              "      <td>50.000000</td>\n",
              "      <td>50.000000</td>\n",
              "      <td>50.000000</td>\n",
              "      <td>50.000000</td>\n",
              "      <td>122.000000</td>\n",
              "      <td>122.000000</td>\n",
              "      <td>122.000000</td>\n",
              "      <td>122.000000</td>\n",
              "      <td>122.000000</td>\n",
              "      <td>-2.000000</td>\n",
              "      <td>-1.750000</td>\n",
              "      <td>-1.750000</td>\n",
              "      <td>0.0</td>\n",
              "      <td>57.174580</td>\n",
              "    </tr>\n",
              "    <tr>\n",
              "      <th>50%</th>\n",
              "      <td>75.000000</td>\n",
              "      <td>0.273580</td>\n",
              "      <td>147.000000</td>\n",
              "      <td>6.000000</td>\n",
              "      <td>2019.0</td>\n",
              "      <td>6.000000</td>\n",
              "      <td>23.000000</td>\n",
              "      <td>4.000000</td>\n",
              "      <td>10.000000</td>\n",
              "      <td>29.000000</td>\n",
              "      <td>75.000000</td>\n",
              "      <td>75.000000</td>\n",
              "      <td>75.000000</td>\n",
              "      <td>75.000000</td>\n",
              "      <td>75.000000</td>\n",
              "      <td>147.000000</td>\n",
              "      <td>147.000000</td>\n",
              "      <td>147.000000</td>\n",
              "      <td>147.000000</td>\n",
              "      <td>147.000000</td>\n",
              "      <td>0.000000</td>\n",
              "      <td>0.250000</td>\n",
              "      <td>0.250000</td>\n",
              "      <td>0.0</td>\n",
              "      <td>67.885310</td>\n",
              "    </tr>\n",
              "    <tr>\n",
              "      <th>75%</th>\n",
              "      <td>100.000000</td>\n",
              "      <td>1.031758</td>\n",
              "      <td>173.000000</td>\n",
              "      <td>6.000000</td>\n",
              "      <td>2019.0</td>\n",
              "      <td>6.000000</td>\n",
              "      <td>24.000000</td>\n",
              "      <td>6.000000</td>\n",
              "      <td>17.000000</td>\n",
              "      <td>44.000000</td>\n",
              "      <td>100.000000</td>\n",
              "      <td>100.000000</td>\n",
              "      <td>100.000000</td>\n",
              "      <td>100.000000</td>\n",
              "      <td>100.000000</td>\n",
              "      <td>173.000000</td>\n",
              "      <td>173.000000</td>\n",
              "      <td>173.000000</td>\n",
              "      <td>173.000000</td>\n",
              "      <td>173.000000</td>\n",
              "      <td>3.000000</td>\n",
              "      <td>2.500000</td>\n",
              "      <td>2.500000</td>\n",
              "      <td>0.0</td>\n",
              "      <td>80.770320</td>\n",
              "    </tr>\n",
              "    <tr>\n",
              "      <th>max</th>\n",
              "      <td>175.000000</td>\n",
              "      <td>8.837500</td>\n",
              "      <td>335.000000</td>\n",
              "      <td>6.000000</td>\n",
              "      <td>2019.0</td>\n",
              "      <td>6.000000</td>\n",
              "      <td>26.000000</td>\n",
              "      <td>7.000000</td>\n",
              "      <td>23.000000</td>\n",
              "      <td>59.000000</td>\n",
              "      <td>175.000000</td>\n",
              "      <td>175.000000</td>\n",
              "      <td>175.000000</td>\n",
              "      <td>175.000000</td>\n",
              "      <td>175.000000</td>\n",
              "      <td>335.000000</td>\n",
              "      <td>335.000000</td>\n",
              "      <td>335.000000</td>\n",
              "      <td>335.000000</td>\n",
              "      <td>335.000000</td>\n",
              "      <td>15.000000</td>\n",
              "      <td>13.500000</td>\n",
              "      <td>13.500000</td>\n",
              "      <td>0.0</td>\n",
              "      <td>124.463906</td>\n",
              "    </tr>\n",
              "  </tbody>\n",
              "</table>\n",
              "</div>"
            ],
            "text/plain": [
              "           insulin     bolusiob  ...     ubi           ia\n",
              "count  6746.000000  6746.000000  ...  6746.0  6746.000000\n",
              "mean     68.703676     0.755228  ...     0.0    68.882861\n",
              "std      34.349161     1.108875  ...     0.0    17.425730\n",
              "min       0.000000     0.000000  ...     0.0     0.000000\n",
              "25%      50.000000     0.000000  ...     0.0    57.174580\n",
              "50%      75.000000     0.273580  ...     0.0    67.885310\n",
              "75%     100.000000     1.031758  ...     0.0    80.770320\n",
              "max     175.000000     8.837500  ...     0.0   124.463906\n",
              "\n",
              "[8 rows x 25 columns]"
            ]
          },
          "metadata": {
            "tags": []
          },
          "execution_count": 179
        }
      ]
    },
    {
      "cell_type": "code",
      "metadata": {
        "id": "brVPuSriJsHm",
        "colab_type": "code",
        "outputId": "008f8112-acc6-48bc-adca-40c9dc5554c9",
        "colab": {
          "base_uri": "https://localhost:8080/",
          "height": 34
        }
      },
      "source": [
        "df.sgv.var()"
      ],
      "execution_count": 0,
      "outputs": [
        {
          "output_type": "execute_result",
          "data": {
            "text/plain": [
              "1335.006858062888"
            ]
          },
          "metadata": {
            "tags": []
          },
          "execution_count": 97
        }
      ]
    },
    {
      "cell_type": "markdown",
      "metadata": {
        "id": "br8HEcIov-sd",
        "colab_type": "text"
      },
      "source": [
        "##1.6.- Información sobre las variables. Tipos## "
      ]
    },
    {
      "cell_type": "code",
      "metadata": {
        "id": "HBMojlqyH6Zl",
        "colab_type": "code",
        "outputId": "260d1563-4b19-4202-9249-ebade490f658",
        "colab": {
          "base_uri": "https://localhost:8080/",
          "height": 550
        }
      },
      "source": [
        "df.info()"
      ],
      "execution_count": 0,
      "outputs": [
        {
          "output_type": "stream",
          "text": [
            "<class 'pandas.core.frame.DataFrame'>\n",
            "RangeIndex: 6746 entries, 0 to 6745\n",
            "Data columns (total 25 columns):\n",
            "insulin                 6746 non-null float64\n",
            "bolusiob                6746 non-null float64\n",
            "sgv                     6746 non-null int64\n",
            "Tendencia (#1)          6746 non-null int8\n",
            "Year                    6746 non-null int64\n",
            "Month (number)          6746 non-null int64\n",
            "Week                    6746 non-null int64\n",
            "Day of week (number)    6746 non-null int64\n",
            "Hour                    6746 non-null int64\n",
            "Minute                  6746 non-null int64\n",
            "insulin-5               6746 non-null float64\n",
            "insulin-4               6746 non-null float64\n",
            "insulin-3               6746 non-null float64\n",
            "insulin-2               6746 non-null float64\n",
            "insulin-1               6746 non-null float64\n",
            "sgv-5                   6746 non-null int64\n",
            "sgv-4                   6746 non-null int64\n",
            "sgv-3                   6746 non-null int64\n",
            "sgv-2                   6746 non-null int64\n",
            "sgv-1                   6746 non-null int64\n",
            "deltasgv                6746 non-null float64\n",
            "meandeltasgv            6746 non-null float64\n",
            "prevmeandeltasgv        6746 non-null float64\n",
            "ubi                     6746 non-null int64\n",
            "ia                      6746 non-null float64\n",
            "dtypes: float64(11), int64(13), int8(1)\n",
            "memory usage: 1.2 MB\n"
          ],
          "name": "stdout"
        }
      ]
    },
    {
      "cell_type": "markdown",
      "metadata": {
        "id": "249tUyTt6sVS",
        "colab_type": "text"
      },
      "source": [
        "# Normalizacion"
      ]
    },
    {
      "cell_type": "code",
      "metadata": {
        "id": "Tyfc2v-184so",
        "colab_type": "code",
        "outputId": "1ca6a369-9e70-4d16-a2e8-c6c8fefe5a84",
        "colab": {
          "base_uri": "https://localhost:8080/",
          "height": 251
        }
      },
      "source": [
        "df.head()"
      ],
      "execution_count": 0,
      "outputs": [
        {
          "output_type": "execute_result",
          "data": {
            "text/html": [
              "<div>\n",
              "<style scoped>\n",
              "    .dataframe tbody tr th:only-of-type {\n",
              "        vertical-align: middle;\n",
              "    }\n",
              "\n",
              "    .dataframe tbody tr th {\n",
              "        vertical-align: top;\n",
              "    }\n",
              "\n",
              "    .dataframe thead th {\n",
              "        text-align: right;\n",
              "    }\n",
              "</style>\n",
              "<table border=\"1\" class=\"dataframe\">\n",
              "  <thead>\n",
              "    <tr style=\"text-align: right;\">\n",
              "      <th></th>\n",
              "      <th>insulin</th>\n",
              "      <th>bolusiob</th>\n",
              "      <th>sgv</th>\n",
              "      <th>Tendencia (#1)</th>\n",
              "      <th>Year</th>\n",
              "      <th>Month (number)</th>\n",
              "      <th>Week</th>\n",
              "      <th>Day of week (number)</th>\n",
              "      <th>Hour</th>\n",
              "      <th>Minute</th>\n",
              "      <th>insulin-5</th>\n",
              "      <th>insulin-4</th>\n",
              "      <th>insulin-3</th>\n",
              "      <th>insulin-2</th>\n",
              "      <th>insulin-1</th>\n",
              "      <th>sgv-5</th>\n",
              "      <th>sgv-4</th>\n",
              "      <th>sgv-3</th>\n",
              "      <th>sgv-2</th>\n",
              "      <th>sgv-1</th>\n",
              "      <th>deltasgv</th>\n",
              "      <th>meandeltasgv</th>\n",
              "      <th>prevmeandeltasgv</th>\n",
              "      <th>ubi</th>\n",
              "      <th>ia</th>\n",
              "    </tr>\n",
              "  </thead>\n",
              "  <tbody>\n",
              "    <tr>\n",
              "      <th>0</th>\n",
              "      <td>25.0</td>\n",
              "      <td>0.114437</td>\n",
              "      <td>142</td>\n",
              "      <td>6</td>\n",
              "      <td>2019</td>\n",
              "      <td>5</td>\n",
              "      <td>20</td>\n",
              "      <td>3</td>\n",
              "      <td>6</td>\n",
              "      <td>9</td>\n",
              "      <td>75.0</td>\n",
              "      <td>50.0</td>\n",
              "      <td>75.0</td>\n",
              "      <td>50.0</td>\n",
              "      <td>75.0</td>\n",
              "      <td>151</td>\n",
              "      <td>150</td>\n",
              "      <td>149</td>\n",
              "      <td>147</td>\n",
              "      <td>145</td>\n",
              "      <td>0.477391</td>\n",
              "      <td>0.477292</td>\n",
              "      <td>0.477585</td>\n",
              "      <td>0</td>\n",
              "      <td>68.882861</td>\n",
              "    </tr>\n",
              "    <tr>\n",
              "      <th>1</th>\n",
              "      <td>75.0</td>\n",
              "      <td>0.112676</td>\n",
              "      <td>137</td>\n",
              "      <td>6</td>\n",
              "      <td>2019</td>\n",
              "      <td>5</td>\n",
              "      <td>20</td>\n",
              "      <td>3</td>\n",
              "      <td>6</td>\n",
              "      <td>19</td>\n",
              "      <td>50.0</td>\n",
              "      <td>75.0</td>\n",
              "      <td>50.0</td>\n",
              "      <td>75.0</td>\n",
              "      <td>25.0</td>\n",
              "      <td>150</td>\n",
              "      <td>149</td>\n",
              "      <td>147</td>\n",
              "      <td>145</td>\n",
              "      <td>142</td>\n",
              "      <td>-5.000000</td>\n",
              "      <td>-5.000000</td>\n",
              "      <td>0.477585</td>\n",
              "      <td>0</td>\n",
              "      <td>68.882861</td>\n",
              "    </tr>\n",
              "    <tr>\n",
              "      <th>2</th>\n",
              "      <td>50.0</td>\n",
              "      <td>0.110915</td>\n",
              "      <td>144</td>\n",
              "      <td>6</td>\n",
              "      <td>2019</td>\n",
              "      <td>5</td>\n",
              "      <td>20</td>\n",
              "      <td>3</td>\n",
              "      <td>6</td>\n",
              "      <td>34</td>\n",
              "      <td>75.0</td>\n",
              "      <td>50.0</td>\n",
              "      <td>75.0</td>\n",
              "      <td>25.0</td>\n",
              "      <td>75.0</td>\n",
              "      <td>149</td>\n",
              "      <td>147</td>\n",
              "      <td>145</td>\n",
              "      <td>142</td>\n",
              "      <td>137</td>\n",
              "      <td>7.000000</td>\n",
              "      <td>1.000000</td>\n",
              "      <td>-5.000000</td>\n",
              "      <td>0</td>\n",
              "      <td>68.882861</td>\n",
              "    </tr>\n",
              "    <tr>\n",
              "      <th>3</th>\n",
              "      <td>50.0</td>\n",
              "      <td>0.109155</td>\n",
              "      <td>140</td>\n",
              "      <td>6</td>\n",
              "      <td>2019</td>\n",
              "      <td>5</td>\n",
              "      <td>20</td>\n",
              "      <td>3</td>\n",
              "      <td>6</td>\n",
              "      <td>39</td>\n",
              "      <td>50.0</td>\n",
              "      <td>75.0</td>\n",
              "      <td>25.0</td>\n",
              "      <td>75.0</td>\n",
              "      <td>50.0</td>\n",
              "      <td>147</td>\n",
              "      <td>145</td>\n",
              "      <td>142</td>\n",
              "      <td>137</td>\n",
              "      <td>144</td>\n",
              "      <td>-4.000000</td>\n",
              "      <td>-0.666667</td>\n",
              "      <td>1.000000</td>\n",
              "      <td>0</td>\n",
              "      <td>68.882861</td>\n",
              "    </tr>\n",
              "    <tr>\n",
              "      <th>4</th>\n",
              "      <td>75.0</td>\n",
              "      <td>0.107394</td>\n",
              "      <td>139</td>\n",
              "      <td>6</td>\n",
              "      <td>2019</td>\n",
              "      <td>5</td>\n",
              "      <td>20</td>\n",
              "      <td>3</td>\n",
              "      <td>6</td>\n",
              "      <td>44</td>\n",
              "      <td>75.0</td>\n",
              "      <td>25.0</td>\n",
              "      <td>75.0</td>\n",
              "      <td>50.0</td>\n",
              "      <td>50.0</td>\n",
              "      <td>145</td>\n",
              "      <td>142</td>\n",
              "      <td>137</td>\n",
              "      <td>144</td>\n",
              "      <td>140</td>\n",
              "      <td>-1.000000</td>\n",
              "      <td>-0.750000</td>\n",
              "      <td>-0.666667</td>\n",
              "      <td>0</td>\n",
              "      <td>68.882861</td>\n",
              "    </tr>\n",
              "  </tbody>\n",
              "</table>\n",
              "</div>"
            ],
            "text/plain": [
              "   insulin  bolusiob  sgv  ...  prevmeandeltasgv  ubi         ia\n",
              "0     25.0  0.114437  142  ...          0.477585    0  68.882861\n",
              "1     75.0  0.112676  137  ...          0.477585    0  68.882861\n",
              "2     50.0  0.110915  144  ...         -5.000000    0  68.882861\n",
              "3     50.0  0.109155  140  ...          1.000000    0  68.882861\n",
              "4     75.0  0.107394  139  ...         -0.666667    0  68.882861\n",
              "\n",
              "[5 rows x 25 columns]"
            ]
          },
          "metadata": {
            "tags": []
          },
          "execution_count": 181
        }
      ]
    },
    {
      "cell_type": "markdown",
      "metadata": {
        "id": "JIQ-3zH-wS3R",
        "colab_type": "text"
      },
      "source": [
        "#2.- GENERACION DEL MODELO: RANDOM FOREST#"
      ]
    },
    {
      "cell_type": "markdown",
      "metadata": {
        "id": "j-jLgflKxKYY",
        "colab_type": "text"
      },
      "source": [
        "##2.1.- Preparación de los datos#"
      ]
    },
    {
      "cell_type": "markdown",
      "metadata": {
        "id": "3teT_4cnwrbT",
        "colab_type": "text"
      },
      "source": [
        "Separamos la variable objetivo *(insulin)* de las variables predictoras."
      ]
    },
    {
      "cell_type": "code",
      "metadata": {
        "id": "8tWfLhho4uIl",
        "colab_type": "code",
        "colab": {}
      },
      "source": [
        "Y = df.insulin\n",
        "X = df.drop('insulin', axis=1)"
      ],
      "execution_count": 0,
      "outputs": []
    },
    {
      "cell_type": "markdown",
      "metadata": {
        "id": "1YIlBHDkw0FQ",
        "colab_type": "text"
      },
      "source": [
        "Generamos los conjuntos de datos de entrenamiento *(trn)* y validación *(valid)*."
      ]
    },
    {
      "cell_type": "code",
      "metadata": {
        "id": "WzXYPZcm78vg",
        "colab_type": "code",
        "outputId": "b2eaabd6-6feb-4a35-aa09-5ccc995af287",
        "colab": {
          "base_uri": "https://localhost:8080/",
          "height": 34
        }
      },
      "source": [
        "def split_vals(a,n): return a[:n].copy(), a[n:].copy()\n",
        "\n",
        "n_valid = 1200  # same as Kaggle's test set size\n",
        "n_trn = len(df)-n_valid\n",
        "raw_train, raw_valid = split_vals(df, n_trn)\n",
        "X_train, X_valid = split_vals(X, n_trn)\n",
        "y_train, y_valid = split_vals(Y, n_trn)\n",
        "\n",
        "X_train.shape, y_train.shape, X_valid.shape, y_valid.shape"
      ],
      "execution_count": 0,
      "outputs": [
        {
          "output_type": "execute_result",
          "data": {
            "text/plain": [
              "((5546, 24), (5546,), (1200, 24), (1200,))"
            ]
          },
          "metadata": {
            "tags": []
          },
          "execution_count": 183
        }
      ]
    },
    {
      "cell_type": "markdown",
      "metadata": {
        "id": "cKZ0d688xG6K",
        "colab_type": "text"
      },
      "source": [
        "##2.2.- Métrica#"
      ]
    },
    {
      "cell_type": "markdown",
      "metadata": {
        "id": "RSBWimIlxlve",
        "colab_type": "text"
      },
      "source": [
        "En este caso se a elegido *RMSE (Raiz del Error Cuadrático Medio)*.\n",
        "El codigo a continuación define la función para el cálculo del estimador así como la función para el calculo de scores del modelo."
      ]
    },
    {
      "cell_type": "code",
      "metadata": {
        "id": "6CJk6FYv7sof",
        "colab_type": "code",
        "colab": {}
      },
      "source": [
        "def rmse(x,y): return math.sqrt(((x-y)**2).mean())\n",
        "\n",
        "def print_score(model):\n",
        "    res = [rmse(model.predict(X_train), y_train), rmse(model.predict(X_valid), y_valid),\n",
        "                model.score(X_train, y_train), model.score(X_valid, y_valid)]\n",
        "    print('Error Muestras Entrenamiento:',res[0])\n",
        "    print('Error Muestras Test:',res[1])\n",
        "    print('R2 Muestras Entrenamiento:',res[2])\n",
        "    print('R2 Muestras Test:',res[3])\n",
        "    if hasattr(model, 'oob_score_'): res.append(model.oob_score_)\n",
        "    print(res)"
      ],
      "execution_count": 0,
      "outputs": []
    },
    {
      "cell_type": "markdown",
      "metadata": {
        "colab_type": "text",
        "id": "oDDlZu750vaN"
      },
      "source": [
        "##2.3.- Primer modelo y primer arbol#"
      ]
    },
    {
      "cell_type": "code",
      "metadata": {
        "id": "dxchB0cc6gk0",
        "colab_type": "code",
        "outputId": "9549d6c6-8b5e-406e-d2a3-c440171f40d5",
        "colab": {
          "base_uri": "https://localhost:8080/",
          "height": 105
        }
      },
      "source": [
        "model = RandomForestRegressor(n_estimators=1, n_jobs=-1, max_depth=3, bootstrap=False)\n",
        "model.fit(X_train, y_train)\n",
        "print_score(model)"
      ],
      "execution_count": 0,
      "outputs": [
        {
          "output_type": "stream",
          "text": [
            "Error Muestras Entrenamiento: 24.79178689801134\n",
            "Error Muestras Test: 23.698457951620174\n",
            "R2 Muestras Entrenamiento: 0.5073522199892525\n",
            "R2 Muestras Test: 0.35090777075898183\n",
            "[24.79178689801134, 23.698457951620174, 0.5073522199892525, 0.35090777075898183]\n"
          ],
          "name": "stdout"
        }
      ]
    },
    {
      "cell_type": "code",
      "metadata": {
        "id": "IFc5RrkSX2Dg",
        "colab_type": "code",
        "outputId": "7741aa3f-2226-4a5f-a932-0a687e7661e7",
        "colab": {
          "base_uri": "https://localhost:8080/",
          "height": 600
        }
      },
      "source": [
        "draw_tree(model.estimators_[0], X_train, precision=3)"
      ],
      "execution_count": 0,
      "outputs": [
        {
          "output_type": "display_data",
          "data": {
            "text/plain": [
              "<graphviz.files.Source at 0x7fa6a1725e10>"
            ],
            "image/svg+xml": "<?xml version=\"1.0\" encoding=\"UTF-8\" standalone=\"no\"?>\n<!DOCTYPE svg PUBLIC \"-//W3C//DTD SVG 1.1//EN\"\n \"http://www.w3.org/Graphics/SVG/1.1/DTD/svg11.dtd\">\n<!-- Generated by graphviz version 2.40.1 (20161225.0304)\n -->\n<!-- Title: Tree Pages: 1 -->\n<svg width=\"720pt\" height=\"434pt\"\n viewBox=\"0.00 0.00 720.00 434.49\" xmlns=\"http://www.w3.org/2000/svg\" xmlns:xlink=\"http://www.w3.org/1999/xlink\">\n<g id=\"graph0\" class=\"graph\" transform=\"scale(.7787 .7787) rotate(0) translate(4 554)\">\n<title>Tree</title>\n<polygon fill=\"#ffffff\" stroke=\"transparent\" points=\"-4,4 -4,-554 920.6667,-554 920.6667,4 -4,4\"/>\n<!-- 0 -->\n<g id=\"node1\" class=\"node\">\n<title>0</title>\n<polygon fill=\"#f0b88f\" stroke=\"#000000\" points=\"145.6667,-336.5 35.6667,-336.5 35.6667,-268.5 145.6667,-268.5 145.6667,-336.5\"/>\n<text text-anchor=\"start\" x=\"44.1667\" y=\"-321.3\" font-family=\"Times,serif\" font-size=\"14.00\" fill=\"#000000\">insulin&#45;1 ≤ 87.5</text>\n<text text-anchor=\"start\" x=\"43.6667\" y=\"-306.3\" font-family=\"Times,serif\" font-size=\"14.00\" fill=\"#000000\">mse = 1247.611</text>\n<text text-anchor=\"start\" x=\"45.1667\" y=\"-291.3\" font-family=\"Times,serif\" font-size=\"14.00\" fill=\"#000000\">samples = 5546</text>\n<text text-anchor=\"start\" x=\"46.6667\" y=\"-276.3\" font-family=\"Times,serif\" font-size=\"14.00\" fill=\"#000000\">value = 68.558</text>\n</g>\n<!-- 1 -->\n<g id=\"node2\" class=\"node\">\n<title>1</title>\n<polygon fill=\"#f4c8a9\" stroke=\"#000000\" points=\"386.1667,-372.5 277.1667,-372.5 277.1667,-304.5 386.1667,-304.5 386.1667,-372.5\"/>\n<text text-anchor=\"start\" x=\"285.1667\" y=\"-357.3\" font-family=\"Times,serif\" font-size=\"14.00\" fill=\"#000000\">insulin&#45;1 ≤ 37.5</text>\n<text text-anchor=\"start\" x=\"287.6667\" y=\"-342.3\" font-family=\"Times,serif\" font-size=\"14.00\" fill=\"#000000\">mse = 826.859</text>\n<text text-anchor=\"start\" x=\"286.1667\" y=\"-327.3\" font-family=\"Times,serif\" font-size=\"14.00\" fill=\"#000000\">samples = 3741</text>\n<text text-anchor=\"start\" x=\"287.6667\" y=\"-312.3\" font-family=\"Times,serif\" font-size=\"14.00\" fill=\"#000000\">value = 54.143</text>\n</g>\n<!-- 0&#45;&gt;1 -->\n<g id=\"edge1\" class=\"edge\">\n<title>0&#45;&gt;1</title>\n<path fill=\"none\" stroke=\"#000000\" d=\"M145.9569,-310.7591C182.0587,-316.1519 229.3354,-323.214 267.1526,-328.863\"/>\n<polygon fill=\"#000000\" stroke=\"#000000\" points=\"266.6421,-332.3255 277.0495,-330.3414 267.6763,-325.4024 266.6421,-332.3255\"/>\n<text text-anchor=\"middle\" x=\"256.9541\" y=\"-341.5134\" font-family=\"Times,serif\" font-size=\"14.00\" fill=\"#000000\">True</text>\n</g>\n<!-- 8 -->\n<g id=\"node9\" class=\"node\">\n<title>8</title>\n<polygon fill=\"#e9975b\" stroke=\"#000000\" points=\"385.1667,-245.5 278.1667,-245.5 278.1667,-177.5 385.1667,-177.5 385.1667,-245.5\"/>\n<text text-anchor=\"start\" x=\"288.6667\" y=\"-230.3\" font-family=\"Times,serif\" font-size=\"14.00\" fill=\"#000000\">deltasgv ≤ &#45;0.5</text>\n<text text-anchor=\"start\" x=\"287.6667\" y=\"-215.3\" font-family=\"Times,serif\" font-size=\"14.00\" fill=\"#000000\">mse = 796.373</text>\n<text text-anchor=\"start\" x=\"286.1667\" y=\"-200.3\" font-family=\"Times,serif\" font-size=\"14.00\" fill=\"#000000\">samples = 1805</text>\n<text text-anchor=\"start\" x=\"287.6667\" y=\"-185.3\" font-family=\"Times,serif\" font-size=\"14.00\" fill=\"#000000\">value = 98.435</text>\n</g>\n<!-- 0&#45;&gt;8 -->\n<g id=\"edge8\" class=\"edge\">\n<title>0&#45;&gt;8</title>\n<path fill=\"none\" stroke=\"#000000\" d=\"M145.9569,-281.6228C182.4685,-267.8362 230.4103,-249.7338 268.4369,-235.3752\"/>\n<polygon fill=\"#000000\" stroke=\"#000000\" points=\"269.7591,-238.6172 277.878,-231.8102 267.2863,-232.0684 269.7591,-238.6172\"/>\n<text text-anchor=\"middle\" x=\"255.0954\" y=\"-217.8169\" font-family=\"Times,serif\" font-size=\"14.00\" fill=\"#000000\">False</text>\n</g>\n<!-- 2 -->\n<g id=\"node3\" class=\"node\">\n<title>2</title>\n<polygon fill=\"#f7dac4\" stroke=\"#000000\" points=\"632.1667,-486.5 523.1667,-486.5 523.1667,-418.5 632.1667,-418.5 632.1667,-486.5\"/>\n<text text-anchor=\"start\" x=\"531.1667\" y=\"-471.3\" font-family=\"Times,serif\" font-size=\"14.00\" fill=\"#000000\">insulin&#45;1 ≤ 12.5</text>\n<text text-anchor=\"start\" x=\"533.6667\" y=\"-456.3\" font-family=\"Times,serif\" font-size=\"14.00\" fill=\"#000000\">mse = 636.958</text>\n<text text-anchor=\"start\" x=\"532.1667\" y=\"-441.3\" font-family=\"Times,serif\" font-size=\"14.00\" fill=\"#000000\">samples = 1304</text>\n<text text-anchor=\"start\" x=\"533.6667\" y=\"-426.3\" font-family=\"Times,serif\" font-size=\"14.00\" fill=\"#000000\">value = 38.209</text>\n</g>\n<!-- 1&#45;&gt;2 -->\n<g id=\"edge2\" class=\"edge\">\n<title>1&#45;&gt;2</title>\n<path fill=\"none\" stroke=\"#000000\" d=\"M386.262,-363.8003C423.8718,-381.2292 473.9926,-404.4559 513.511,-422.7693\"/>\n<polygon fill=\"#000000\" stroke=\"#000000\" points=\"512.2544,-426.0445 522.7991,-427.0736 515.1976,-419.6933 512.2544,-426.0445\"/>\n</g>\n<!-- 5 -->\n<g id=\"node6\" class=\"node\">\n<title>5</title>\n<polygon fill=\"#f2be9a\" stroke=\"#000000\" points=\"631.1667,-372.5 524.1667,-372.5 524.1667,-304.5 631.1667,-304.5 631.1667,-372.5\"/>\n<text text-anchor=\"start\" x=\"534.6667\" y=\"-357.3\" font-family=\"Times,serif\" font-size=\"14.00\" fill=\"#000000\">deltasgv ≤ &#45;1.5</text>\n<text text-anchor=\"start\" x=\"533.6667\" y=\"-342.3\" font-family=\"Times,serif\" font-size=\"14.00\" fill=\"#000000\">mse = 719.927</text>\n<text text-anchor=\"start\" x=\"532.1667\" y=\"-327.3\" font-family=\"Times,serif\" font-size=\"14.00\" fill=\"#000000\">samples = 2437</text>\n<text text-anchor=\"start\" x=\"533.6667\" y=\"-312.3\" font-family=\"Times,serif\" font-size=\"14.00\" fill=\"#000000\">value = 62.669</text>\n</g>\n<!-- 1&#45;&gt;5 -->\n<g id=\"edge5\" class=\"edge\">\n<title>1&#45;&gt;5</title>\n<path fill=\"none\" stroke=\"#000000\" d=\"M386.262,-338.5C424.0244,-338.5 474.3996,-338.5 513.9915,-338.5\"/>\n<polygon fill=\"#000000\" stroke=\"#000000\" points=\"514.0703,-342.0001 524.0703,-338.5 514.0703,-335.0001 514.0703,-342.0001\"/>\n</g>\n<!-- 3 -->\n<g id=\"node4\" class=\"node\">\n<title>3</title>\n<polygon fill=\"#ffffff\" stroke=\"#000000\" points=\"876.6667,-550 772.6667,-550 772.6667,-497 876.6667,-497 876.6667,-550\"/>\n<text text-anchor=\"start\" x=\"780.6667\" y=\"-534.8\" font-family=\"Times,serif\" font-size=\"14.00\" fill=\"#000000\">mse = 292.641</text>\n<text text-anchor=\"start\" x=\"782.6667\" y=\"-519.8\" font-family=\"Times,serif\" font-size=\"14.00\" fill=\"#000000\">samples = 127</text>\n<text text-anchor=\"start\" x=\"784.1667\" y=\"-504.8\" font-family=\"Times,serif\" font-size=\"14.00\" fill=\"#000000\">value = 4.724</text>\n</g>\n<!-- 2&#45;&gt;3 -->\n<g id=\"edge3\" class=\"edge\">\n<title>2&#45;&gt;3</title>\n<path fill=\"none\" stroke=\"#000000\" d=\"M632.1776,-468.1691C670.7641,-479.2608 722.58,-494.1552 762.7308,-505.6966\"/>\n<polygon fill=\"#000000\" stroke=\"#000000\" points=\"761.8328,-509.0801 772.4105,-508.479 763.7667,-502.3525 761.8328,-509.0801\"/>\n</g>\n<!-- 4 -->\n<g id=\"node5\" class=\"node\">\n<title>4</title>\n<polygon fill=\"#f6d6be\" stroke=\"#000000\" points=\"878.1667,-479 771.1667,-479 771.1667,-426 878.1667,-426 878.1667,-479\"/>\n<text text-anchor=\"start\" x=\"780.6667\" y=\"-463.8\" font-family=\"Times,serif\" font-size=\"14.00\" fill=\"#000000\">mse = 540.073</text>\n<text text-anchor=\"start\" x=\"779.1667\" y=\"-448.8\" font-family=\"Times,serif\" font-size=\"14.00\" fill=\"#000000\">samples = 1177</text>\n<text text-anchor=\"start\" x=\"780.6667\" y=\"-433.8\" font-family=\"Times,serif\" font-size=\"14.00\" fill=\"#000000\">value = 41.822</text>\n</g>\n<!-- 2&#45;&gt;4 -->\n<g id=\"edge4\" class=\"edge\">\n<title>2&#45;&gt;4</title>\n<path fill=\"none\" stroke=\"#000000\" d=\"M632.1776,-452.5C670.2089,-452.5 721.0915,-452.5 760.9904,-452.5\"/>\n<polygon fill=\"#000000\" stroke=\"#000000\" points=\"761.1445,-456.0001 771.1445,-452.5 761.1444,-449.0001 761.1445,-456.0001\"/>\n</g>\n<!-- 6 -->\n<g id=\"node7\" class=\"node\">\n<title>6</title>\n<polygon fill=\"#f5ccaf\" stroke=\"#000000\" points=\"876.1667,-408 773.1667,-408 773.1667,-355 876.1667,-355 876.1667,-408\"/>\n<text text-anchor=\"start\" x=\"781.1667\" y=\"-392.8\" font-family=\"Times,serif\" font-size=\"14.00\" fill=\"#000000\">mse = 587.113</text>\n<text text-anchor=\"start\" x=\"782.6667\" y=\"-377.8\" font-family=\"Times,serif\" font-size=\"14.00\" fill=\"#000000\">samples = 645</text>\n<text text-anchor=\"start\" x=\"784.1667\" y=\"-362.8\" font-family=\"Times,serif\" font-size=\"14.00\" fill=\"#000000\">value = 50.31</text>\n</g>\n<!-- 5&#45;&gt;6 -->\n<g id=\"edge6\" class=\"edge\">\n<title>5&#45;&gt;6</title>\n<path fill=\"none\" stroke=\"#000000\" d=\"M631.262,-347.8304C669.9786,-354.5705 722.3622,-363.6899 762.8476,-370.738\"/>\n<polygon fill=\"#000000\" stroke=\"#000000\" points=\"762.4164,-374.2155 772.8686,-372.4825 763.617,-367.3192 762.4164,-374.2155\"/>\n</g>\n<!-- 7 -->\n<g id=\"node8\" class=\"node\">\n<title>7</title>\n<polygon fill=\"#f1ba92\" stroke=\"#000000\" points=\"878.1667,-337 771.1667,-337 771.1667,-284 878.1667,-284 878.1667,-337\"/>\n<text text-anchor=\"start\" x=\"780.6667\" y=\"-321.8\" font-family=\"Times,serif\" font-size=\"14.00\" fill=\"#000000\">mse = 692.962</text>\n<text text-anchor=\"start\" x=\"779.1667\" y=\"-306.8\" font-family=\"Times,serif\" font-size=\"14.00\" fill=\"#000000\">samples = 1792</text>\n<text text-anchor=\"start\" x=\"780.6667\" y=\"-291.8\" font-family=\"Times,serif\" font-size=\"14.00\" fill=\"#000000\">value = 67.118</text>\n</g>\n<!-- 5&#45;&gt;7 -->\n<g id=\"edge7\" class=\"edge\">\n<title>5&#45;&gt;7</title>\n<path fill=\"none\" stroke=\"#000000\" d=\"M631.262,-332.4244C669.3246,-328.1096 720.5964,-322.2974 760.7859,-317.7415\"/>\n<polygon fill=\"#000000\" stroke=\"#000000\" points=\"761.2079,-321.2162 770.75,-316.612 760.4194,-314.2608 761.2079,-321.2162\"/>\n</g>\n<!-- 9 -->\n<g id=\"node10\" class=\"node\">\n<title>9</title>\n<polygon fill=\"#eda775\" stroke=\"#000000\" points=\"629.6667,-245.5 525.6667,-245.5 525.6667,-177.5 629.6667,-177.5 629.6667,-245.5\"/>\n<text text-anchor=\"start\" x=\"542.6667\" y=\"-230.3\" font-family=\"Times,serif\" font-size=\"14.00\" fill=\"#000000\">sgv ≤ 138.5</text>\n<text text-anchor=\"start\" x=\"533.6667\" y=\"-215.3\" font-family=\"Times,serif\" font-size=\"14.00\" fill=\"#000000\">mse = 885.346</text>\n<text text-anchor=\"start\" x=\"535.6667\" y=\"-200.3\" font-family=\"Times,serif\" font-size=\"14.00\" fill=\"#000000\">samples = 538</text>\n<text text-anchor=\"start\" x=\"533.6667\" y=\"-185.3\" font-family=\"Times,serif\" font-size=\"14.00\" fill=\"#000000\">value = 83.411</text>\n</g>\n<!-- 8&#45;&gt;9 -->\n<g id=\"edge9\" class=\"edge\">\n<title>8&#45;&gt;9</title>\n<path fill=\"none\" stroke=\"#000000\" d=\"M385.3484,-211.5C423.5837,-211.5 475.0877,-211.5 515.1735,-211.5\"/>\n<polygon fill=\"#000000\" stroke=\"#000000\" points=\"515.3659,-215.0001 525.3659,-211.5 515.3658,-208.0001 515.3659,-215.0001\"/>\n</g>\n<!-- 12 -->\n<g id=\"node13\" class=\"node\">\n<title>12</title>\n<polygon fill=\"#e89050\" stroke=\"#000000\" points=\"635.6667,-131.5 519.6667,-131.5 519.6667,-63.5 635.6667,-63.5 635.6667,-131.5\"/>\n<text text-anchor=\"start\" x=\"527.6667\" y=\"-116.3\" font-family=\"Times,serif\" font-size=\"14.00\" fill=\"#000000\">insulin&#45;2 ≤ 112.5</text>\n<text text-anchor=\"start\" x=\"533.6667\" y=\"-101.3\" font-family=\"Times,serif\" font-size=\"14.00\" fill=\"#000000\">mse = 622.045</text>\n<text text-anchor=\"start\" x=\"532.1667\" y=\"-86.3\" font-family=\"Times,serif\" font-size=\"14.00\" fill=\"#000000\">samples = 1267</text>\n<text text-anchor=\"start\" x=\"529.6667\" y=\"-71.3\" font-family=\"Times,serif\" font-size=\"14.00\" fill=\"#000000\">value = 104.815</text>\n</g>\n<!-- 8&#45;&gt;12 -->\n<g id=\"edge12\" class=\"edge\">\n<title>8&#45;&gt;12</title>\n<path fill=\"none\" stroke=\"#000000\" d=\"M385.3484,-186.6231C421.9949,-169.6406 470.8303,-147.0095 510.1191,-128.8026\"/>\n<polygon fill=\"#000000\" stroke=\"#000000\" points=\"511.7715,-131.8944 519.373,-124.5142 508.8282,-125.5432 511.7715,-131.8944\"/>\n</g>\n<!-- 10 -->\n<g id=\"node11\" class=\"node\">\n<title>10</title>\n<polygon fill=\"#f5cfb4\" stroke=\"#000000\" points=\"876.6667,-266 772.6667,-266 772.6667,-213 876.6667,-213 876.6667,-266\"/>\n<text text-anchor=\"start\" x=\"780.6667\" y=\"-250.8\" font-family=\"Times,serif\" font-size=\"14.00\" fill=\"#000000\">mse = 908.685</text>\n<text text-anchor=\"start\" x=\"786.6667\" y=\"-235.8\" font-family=\"Times,serif\" font-size=\"14.00\" fill=\"#000000\">samples = 41</text>\n<text text-anchor=\"start\" x=\"780.6667\" y=\"-220.8\" font-family=\"Times,serif\" font-size=\"14.00\" fill=\"#000000\">value = 47.561</text>\n</g>\n<!-- 9&#45;&gt;10 -->\n<g id=\"edge10\" class=\"edge\">\n<title>9&#45;&gt;10</title>\n<path fill=\"none\" stroke=\"#000000\" d=\"M629.7472,-217.4039C668.4996,-221.7969 721.5463,-227.8102 762.5173,-232.4547\"/>\n<polygon fill=\"#000000\" stroke=\"#000000\" points=\"762.3268,-235.9555 772.6574,-233.6042 763.1153,-229 762.3268,-235.9555\"/>\n</g>\n<!-- 11 -->\n<g id=\"node12\" class=\"node\">\n<title>11</title>\n<polygon fill=\"#eca470\" stroke=\"#000000\" points=\"876.6667,-195 772.6667,-195 772.6667,-142 876.6667,-142 876.6667,-195\"/>\n<text text-anchor=\"start\" x=\"780.6667\" y=\"-179.8\" font-family=\"Times,serif\" font-size=\"14.00\" fill=\"#000000\">mse = 768.651</text>\n<text text-anchor=\"start\" x=\"782.6667\" y=\"-164.8\" font-family=\"Times,serif\" font-size=\"14.00\" fill=\"#000000\">samples = 497</text>\n<text text-anchor=\"start\" x=\"780.6667\" y=\"-149.8\" font-family=\"Times,serif\" font-size=\"14.00\" fill=\"#000000\">value = 86.368</text>\n</g>\n<!-- 9&#45;&gt;11 -->\n<g id=\"edge11\" class=\"edge\">\n<title>9&#45;&gt;11</title>\n<path fill=\"none\" stroke=\"#000000\" d=\"M629.7472,-202.4333C668.5817,-195.6727 721.7711,-186.413 762.7775,-179.2742\"/>\n<polygon fill=\"#000000\" stroke=\"#000000\" points=\"763.4059,-182.7176 772.6574,-177.5542 762.2052,-175.8213 763.4059,-182.7176\"/>\n</g>\n<!-- 13 -->\n<g id=\"node14\" class=\"node\">\n<title>13</title>\n<polygon fill=\"#e9965a\" stroke=\"#000000\" points=\"874.6667,-124 774.6667,-124 774.6667,-71 874.6667,-71 874.6667,-124\"/>\n<text text-anchor=\"start\" x=\"784.6667\" y=\"-108.8\" font-family=\"Times,serif\" font-size=\"14.00\" fill=\"#000000\">mse = 519.13</text>\n<text text-anchor=\"start\" x=\"782.6667\" y=\"-93.8\" font-family=\"Times,serif\" font-size=\"14.00\" fill=\"#000000\">samples = 890</text>\n<text text-anchor=\"start\" x=\"784.1667\" y=\"-78.8\" font-family=\"Times,serif\" font-size=\"14.00\" fill=\"#000000\">value = 99.27</text>\n</g>\n<!-- 12&#45;&gt;13 -->\n<g id=\"edge13\" class=\"edge\">\n<title>12&#45;&gt;13</title>\n<path fill=\"none\" stroke=\"#000000\" d=\"M635.8894,-97.5C674.5124,-97.5 725.0886,-97.5 764.1692,-97.5\"/>\n<polygon fill=\"#000000\" stroke=\"#000000\" points=\"764.354,-101.0001 774.354,-97.5 764.3539,-94.0001 764.354,-101.0001\"/>\n</g>\n<!-- 14 -->\n<g id=\"node15\" class=\"node\">\n<title>14</title>\n<polygon fill=\"#e58139\" stroke=\"#000000\" points=\"880.1667,-53 769.1667,-53 769.1667,0 880.1667,0 880.1667,-53\"/>\n<text text-anchor=\"start\" x=\"780.6667\" y=\"-37.8\" font-family=\"Times,serif\" font-size=\"14.00\" fill=\"#000000\">mse = 621.073</text>\n<text text-anchor=\"start\" x=\"782.6667\" y=\"-22.8\" font-family=\"Times,serif\" font-size=\"14.00\" fill=\"#000000\">samples = 377</text>\n<text text-anchor=\"start\" x=\"777.1667\" y=\"-7.8\" font-family=\"Times,serif\" font-size=\"14.00\" fill=\"#000000\">value = 117.905</text>\n</g>\n<!-- 12&#45;&gt;14 -->\n<g id=\"edge14\" class=\"edge\">\n<title>12&#45;&gt;14</title>\n<path fill=\"none\" stroke=\"#000000\" d=\"M635.8894,-80.7639C672.8104,-70.151 720.6542,-56.3983 758.9376,-45.3938\"/>\n<polygon fill=\"#000000\" stroke=\"#000000\" points=\"760.3133,-48.6401 768.9572,-42.5137 758.3794,-41.9126 760.3133,-48.6401\"/>\n</g>\n</g>\n</svg>\n"
          },
          "metadata": {
            "tags": []
          }
        }
      ]
    },
    {
      "cell_type": "markdown",
      "metadata": {
        "id": "ScPFFUQl3NsD",
        "colab_type": "text"
      },
      "source": [
        "Este es un ejemplo del arbol de decisión obtenido, a continuación se muestra el error de cada uno de los árboles generados con el conjunto de entrenamiento, que da como resultado el valor mostrado anteriormente."
      ]
    },
    {
      "cell_type": "markdown",
      "metadata": {
        "id": "c0fXaG6O6DJR",
        "colab_type": "text"
      },
      "source": [
        "##2.4.- Bagging"
      ]
    },
    {
      "cell_type": "markdown",
      "metadata": {
        "id": "E8aReyH36Hd7",
        "colab_type": "text"
      },
      "source": [
        "Vamos a utilizar la técnica del anidamiento de árboles ( Bagging), para mejorarlos indicadores del modelo."
      ]
    },
    {
      "cell_type": "code",
      "metadata": {
        "id": "IyemPp8W6lrL",
        "colab_type": "code",
        "outputId": "eb461ca1-45c9-434c-85cd-db0490a06c87",
        "colab": {
          "base_uri": "https://localhost:8080/",
          "height": 105
        }
      },
      "source": [
        "model = RandomForestRegressor (n_jobs = -1, n_estimators=40)  # Si se omite n_esimators, se toma 10\n",
        "model.fit (X_train, y_train) \n",
        "print_score (model)"
      ],
      "execution_count": 0,
      "outputs": [
        {
          "output_type": "stream",
          "text": [
            "Error Muestras Entrenamiento: 7.767738249027789\n",
            "Error Muestras Test: 20.803309094248284\n",
            "R2 Muestras Entrenamiento: 0.9516373560955808\n",
            "R2 Muestras Test: 0.49981452219714073\n",
            "[7.767738249027789, 20.803309094248284, 0.9516373560955808, 0.49981452219714073]\n"
          ],
          "name": "stdout"
        }
      ]
    },
    {
      "cell_type": "markdown",
      "metadata": {
        "id": "XQPo8SEU31Kd",
        "colab_type": "text"
      },
      "source": [
        "Con el fin de  tener una idea del número de estimadores, podemos representar como varía parametro R2 a medida que se añaden estimadores. Vemos como a partir de 10, R2 se estabiliza."
      ]
    },
    {
      "cell_type": "code",
      "metadata": {
        "id": "MMWqjnTBHkq_",
        "colab_type": "code",
        "outputId": "37dcf706-9056-44bf-f64f-bf33fe3e224a",
        "colab": {
          "base_uri": "https://localhost:8080/",
          "height": 70
        }
      },
      "source": [
        "preds = np.stack([t.predict(X_valid) for t in model.estimators_])\n",
        "preds.shape\n",
        "preds[:,0], np.mean(preds[:,0])"
      ],
      "execution_count": 0,
      "outputs": [
        {
          "output_type": "execute_result",
          "data": {
            "text/plain": [
              "(array([ 75.,  75., 100.,  75.,  75., 100.,  75.,  75., 100.,  75.,  75.,  25.,  25., 100.,  75.,  75.,  75.,\n",
              "         75.,  75.,  75.,  75., 100., 100.,  75.,  75., 100., 100.,  75.,  75.,  75., 100.,  75.,  75.,  75.,\n",
              "         75.,  75.,  75.,  75.,  75.,  75.]), 78.125)"
            ]
          },
          "metadata": {
            "tags": []
          },
          "execution_count": 188
        }
      ]
    },
    {
      "cell_type": "code",
      "metadata": {
        "id": "AfWMOSOubhga",
        "colab_type": "code",
        "outputId": "a941f012-c86a-4cac-a6f4-b616df02d759",
        "colab": {
          "base_uri": "https://localhost:8080/",
          "height": 286
        }
      },
      "source": [
        "plt.plot([metrics.r2_score(y_valid, np.mean(preds[:i+1], axis=0)) for i in range(60)], \"o\")"
      ],
      "execution_count": 0,
      "outputs": [
        {
          "output_type": "execute_result",
          "data": {
            "text/plain": [
              "[<matplotlib.lines.Line2D at 0x7fa6a16ec358>]"
            ]
          },
          "metadata": {
            "tags": []
          },
          "execution_count": 189
        },
        {
          "output_type": "display_data",
          "data": {
            "image/png": "[encoded data removed]",
            "text/plain": [
              "<Figure size 432x288 with 1 Axes>"
            ]
          },
          "metadata": {
            "tags": []
          }
        }
      ]
    },
    {
      "cell_type": "markdown",
      "metadata": {
        "id": "w4R2C3w98sYx",
        "colab_type": "text"
      },
      "source": [
        "##2.5.- OOB Out of bang Score\n",
        "\n",
        "Vamos a plicar la técnica OOB para mejorarlos indicadores del modelo"
      ]
    },
    {
      "cell_type": "code",
      "metadata": {
        "id": "1WacZD-QpUN2",
        "colab_type": "code",
        "outputId": "dbdb223f-0878-4659-d8d1-dde8e3455764",
        "colab": {
          "base_uri": "https://localhost:8080/",
          "height": 161
        }
      },
      "source": [
        "model = RandomForestRegressor(n_estimators=10, n_jobs=-1, oob_score=True)\n",
        "model.fit(X_train, y_train)\n",
        "print_score(model)"
      ],
      "execution_count": 0,
      "outputs": [
        {
          "output_type": "stream",
          "text": [
            "/usr/local/lib/python3.6/dist-packages/sklearn/ensemble/forest.py:737: UserWarning: Some inputs do not have OOB scores. This probably means too few trees were used to compute any reliable oob estimates.\n",
            "  warn(\"Some inputs do not have OOB scores. \"\n"
          ],
          "name": "stderr"
        },
        {
          "output_type": "stream",
          "text": [
            "Error Muestras Entrenamiento: 8.857366372414257\n",
            "Error Muestras Test: 22.03985499801061\n",
            "R2 Muestras Entrenamiento: 0.9371174582608515\n",
            "R2 Muestras Test: 0.4385854025583146\n",
            "[8.857366372414257, 22.03985499801061, 0.9371174582608515, 0.4385854025583146, 0.5177273110927444]\n"
          ],
          "name": "stdout"
        }
      ]
    },
    {
      "cell_type": "markdown",
      "metadata": {
        "id": "f1pX18aQ9DbK",
        "colab_type": "text"
      },
      "source": [
        "Sigue habiendo sobreestimación. Llegados aquí, vamos a aplicar submuestreo para ver si se puede mejorar los parámetros del modelo.\n",
        "\n",
        "\n"
      ]
    },
    {
      "cell_type": "code",
      "metadata": {
        "id": "nN7MtyUMrLr5",
        "colab_type": "code",
        "colab": {}
      },
      "source": [
        "set_rf_samples(2000)"
      ],
      "execution_count": 0,
      "outputs": []
    },
    {
      "cell_type": "code",
      "metadata": {
        "id": "yG7MC4g9sJZa",
        "colab_type": "code",
        "outputId": "2a76399b-eff7-4903-ede6-ef2885c636c7",
        "colab": {
          "base_uri": "https://localhost:8080/",
          "height": 141
        }
      },
      "source": [
        "model = RandomForestRegressor(n_estimators=40, n_jobs=-1, oob_score=True)\n",
        "%time model.fit(X_train, y_train)\n",
        "print_score(model)"
      ],
      "execution_count": 0,
      "outputs": [
        {
          "output_type": "stream",
          "text": [
            "CPU times: user 1.2 s, sys: 6.27 ms, total: 1.2 s\n",
            "Wall time: 660 ms\n",
            "Error Muestras Entrenamiento: 14.35786277207428\n",
            "Error Muestras Test: 20.295569867584405\n",
            "R2 Muestras Entrenamiento: 0.8347656006598386\n",
            "R2 Muestras Test: 0.5239322799097066\n",
            "[14.35786277207428, 20.295569867584405, 0.8347656006598386, 0.5239322799097066, 0.665993065517251]\n"
          ],
          "name": "stdout"
        }
      ]
    },
    {
      "cell_type": "markdown",
      "metadata": {
        "id": "2-QziT7I93rv",
        "colab_type": "text"
      },
      "source": [
        "Vemos como a bajado la sobreestimación, pero ha aumentado el error del modelo de entrenamiento."
      ]
    },
    {
      "cell_type": "markdown",
      "metadata": {
        "id": "YKMvtI-_-HP6",
        "colab_type": "text"
      },
      "source": [
        "##2.6.- Estimacion de los parámetros del modelos"
      ]
    },
    {
      "cell_type": "markdown",
      "metadata": {
        "id": "xPSblCLS-5kt",
        "colab_type": "text"
      },
      "source": [
        "##2.6.1.- Profundidad máxima"
      ]
    },
    {
      "cell_type": "code",
      "metadata": {
        "id": "6lGsFxjQsS3_",
        "colab_type": "code",
        "colab": {}
      },
      "source": [
        "def dectree_max_depth(tree):\n",
        "    children_left = tree.children_left\n",
        "    children_right = tree.children_right\n",
        "\n",
        "    def walk(node_id):\n",
        "        if (children_left[node_id] != children_right[node_id]):\n",
        "            left_max = 1 + walk(children_left[node_id])\n",
        "            right_max = 1 + walk(children_right[node_id])\n",
        "            return max(left_max, right_max)\n",
        "        else: # leaf\n",
        "            return 1\n",
        "\n",
        "    root_node_id = 0\n",
        "    return walk(root_node_id)"
      ],
      "execution_count": 0,
      "outputs": []
    },
    {
      "cell_type": "markdown",
      "metadata": {
        "id": "Y4RK30ex-ptF",
        "colab_type": "text"
      },
      "source": [
        "Tomaremos de nuevo todo el set de muestras"
      ]
    },
    {
      "cell_type": "code",
      "metadata": {
        "id": "9W_WN80d-kep",
        "colab_type": "code",
        "colab": {}
      },
      "source": [
        "reset_rf_samples()"
      ],
      "execution_count": 0,
      "outputs": []
    },
    {
      "cell_type": "code",
      "metadata": {
        "id": "hyJxK1GGtk5Y",
        "colab_type": "code",
        "outputId": "127076fe-7568-4e99-a995-3d7358df5fca",
        "colab": {
          "base_uri": "https://localhost:8080/",
          "height": 105
        }
      },
      "source": [
        "model = RandomForestRegressor(n_estimators=100, n_jobs=-1, max_depth=10, oob_score=True)\n",
        "model.fit(X_train, y_train)\n",
        "print_score(model)"
      ],
      "execution_count": 0,
      "outputs": [
        {
          "output_type": "stream",
          "text": [
            "Error Muestras Entrenamiento: 13.708888437472297\n",
            "Error Muestras Test: 20.380667364759347\n",
            "R2 Muestras Entrenamiento: 0.84936518651892\n",
            "R2 Muestras Test: 0.5199316922273614\n",
            "[13.708888437472297, 20.380667364759347, 0.84936518651892, 0.5199316922273614, 0.6721864403309925]\n"
          ],
          "name": "stdout"
        }
      ]
    },
    {
      "cell_type": "code",
      "metadata": {
        "id": "Nn7paaXgto-_",
        "colab_type": "code",
        "colab": {}
      },
      "source": [
        "t=model.estimators_[0].tree_"
      ],
      "execution_count": 0,
      "outputs": []
    },
    {
      "cell_type": "code",
      "metadata": {
        "id": "Vk2Z_gb7tvoG",
        "colab_type": "code",
        "outputId": "e3be44bf-06d4-4aca-c10a-6711446d4117",
        "colab": {
          "base_uri": "https://localhost:8080/",
          "height": 34
        }
      },
      "source": [
        "dectree_max_depth(t)"
      ],
      "execution_count": 0,
      "outputs": [
        {
          "output_type": "execute_result",
          "data": {
            "text/plain": [
              "11"
            ]
          },
          "metadata": {
            "tags": []
          },
          "execution_count": 197
        }
      ]
    },
    {
      "cell_type": "markdown",
      "metadata": {
        "id": "NlaRFt7X_YOv",
        "colab_type": "text"
      },
      "source": [
        "##2.6.1.- min_samples_leaf"
      ]
    },
    {
      "cell_type": "markdown",
      "metadata": {
        "id": "V1SfYFNB_fbY",
        "colab_type": "text"
      },
      "source": [
        "Para reducir la sobreestimación, vamos a aumentar el número mínimo de eventos en cada final de rama."
      ]
    },
    {
      "cell_type": "code",
      "metadata": {
        "id": "0dlG3gX0tyV2",
        "colab_type": "code",
        "outputId": "13bdac9a-16fa-4aae-b8e5-5419a30c59cf",
        "colab": {
          "base_uri": "https://localhost:8080/",
          "height": 161
        }
      },
      "source": [
        "model = RandomForestRegressor(n_estimators=12, min_samples_leaf=20, n_jobs=-1, max_depth=11, oob_score=True, max_features=None)\n",
        "model.fit(X_train, y_train)\n",
        "print_score(model)\n"
      ],
      "execution_count": 0,
      "outputs": [
        {
          "output_type": "stream",
          "text": [
            "/usr/local/lib/python3.6/dist-packages/sklearn/ensemble/forest.py:737: UserWarning: Some inputs do not have OOB scores. This probably means too few trees were used to compute any reliable oob estimates.\n",
            "  warn(\"Some inputs do not have OOB scores. \"\n"
          ],
          "name": "stderr"
        },
        {
          "output_type": "stream",
          "text": [
            "Error Muestras Entrenamiento: 18.49354767353633\n",
            "Error Muestras Test: 20.380991615592546\n",
            "R2 Muestras Entrenamiento: 0.7258669916547719\n",
            "R2 Muestras Test: 0.5199164165953837\n",
            "[18.49354767353633, 20.380991615592546, 0.7258669916547719, 0.5199164165953837, 0.6236614265826954]\n"
          ],
          "name": "stdout"
        }
      ]
    },
    {
      "cell_type": "code",
      "metadata": {
        "id": "wGlpdeeqAMm-",
        "colab_type": "code",
        "colab": {}
      },
      "source": [
        "t=model.estimators_[0].tree_"
      ],
      "execution_count": 0,
      "outputs": []
    },
    {
      "cell_type": "code",
      "metadata": {
        "id": "fBeJrDVRAR_X",
        "colab_type": "code",
        "outputId": "3b815aca-b2e7-460e-85a0-2bb5ea18b1e5",
        "colab": {
          "base_uri": "https://localhost:8080/",
          "height": 34
        }
      },
      "source": [
        "dectree_max_depth(t)"
      ],
      "execution_count": 0,
      "outputs": [
        {
          "output_type": "execute_result",
          "data": {
            "text/plain": [
              "12"
            ]
          },
          "metadata": {
            "tags": []
          },
          "execution_count": 200
        }
      ]
    },
    {
      "cell_type": "markdown",
      "metadata": {
        "id": "vg1VGtQ5A9s9",
        "colab_type": "text"
      },
      "source": [
        "#3.- Estudio de variables principales.\n",
        "\n"
      ]
    },
    {
      "cell_type": "code",
      "metadata": {
        "id": "HCeCLl34Cskj",
        "colab_type": "code",
        "outputId": "a8d578c9-d2d6-4ea2-a14c-349d5aaed4f7",
        "colab": {
          "base_uri": "https://localhost:8080/",
          "height": 767
        }
      },
      "source": [
        "fi = rf_feat_importance(model, X_train);fi[:25]"
      ],
      "execution_count": 0,
      "outputs": [
        {
          "output_type": "execute_result",
          "data": {
            "text/html": [
              "<div>\n",
              "<style scoped>\n",
              "    .dataframe tbody tr th:only-of-type {\n",
              "        vertical-align: middle;\n",
              "    }\n",
              "\n",
              "    .dataframe tbody tr th {\n",
              "        vertical-align: top;\n",
              "    }\n",
              "\n",
              "    .dataframe thead th {\n",
              "        text-align: right;\n",
              "    }\n",
              "</style>\n",
              "<table border=\"1\" class=\"dataframe\">\n",
              "  <thead>\n",
              "    <tr style=\"text-align: right;\">\n",
              "      <th></th>\n",
              "      <th>cols</th>\n",
              "      <th>imp</th>\n",
              "    </tr>\n",
              "  </thead>\n",
              "  <tbody>\n",
              "    <tr>\n",
              "      <th>13</th>\n",
              "      <td>insulin-1</td>\n",
              "      <td>0.632563</td>\n",
              "    </tr>\n",
              "    <tr>\n",
              "      <th>19</th>\n",
              "      <td>deltasgv</td>\n",
              "      <td>0.122818</td>\n",
              "    </tr>\n",
              "    <tr>\n",
              "      <th>1</th>\n",
              "      <td>sgv</td>\n",
              "      <td>0.082215</td>\n",
              "    </tr>\n",
              "    <tr>\n",
              "      <th>12</th>\n",
              "      <td>insulin-2</td>\n",
              "      <td>0.033734</td>\n",
              "    </tr>\n",
              "    <tr>\n",
              "      <th>23</th>\n",
              "      <td>ia</td>\n",
              "      <td>0.017220</td>\n",
              "    </tr>\n",
              "    <tr>\n",
              "      <th>9</th>\n",
              "      <td>insulin-5</td>\n",
              "      <td>0.011342</td>\n",
              "    </tr>\n",
              "    <tr>\n",
              "      <th>0</th>\n",
              "      <td>bolusiob</td>\n",
              "      <td>0.010007</td>\n",
              "    </tr>\n",
              "    <tr>\n",
              "      <th>2</th>\n",
              "      <td>Tendencia (#1)</td>\n",
              "      <td>0.009482</td>\n",
              "    </tr>\n",
              "    <tr>\n",
              "      <th>5</th>\n",
              "      <td>Week</td>\n",
              "      <td>0.009024</td>\n",
              "    </tr>\n",
              "    <tr>\n",
              "      <th>6</th>\n",
              "      <td>Day of week (number)</td>\n",
              "      <td>0.008092</td>\n",
              "    </tr>\n",
              "    <tr>\n",
              "      <th>7</th>\n",
              "      <td>Hour</td>\n",
              "      <td>0.007434</td>\n",
              "    </tr>\n",
              "    <tr>\n",
              "      <th>18</th>\n",
              "      <td>sgv-1</td>\n",
              "      <td>0.007302</td>\n",
              "    </tr>\n",
              "    <tr>\n",
              "      <th>21</th>\n",
              "      <td>prevmeandeltasgv</td>\n",
              "      <td>0.006702</td>\n",
              "    </tr>\n",
              "    <tr>\n",
              "      <th>15</th>\n",
              "      <td>sgv-4</td>\n",
              "      <td>0.006259</td>\n",
              "    </tr>\n",
              "    <tr>\n",
              "      <th>16</th>\n",
              "      <td>sgv-3</td>\n",
              "      <td>0.006169</td>\n",
              "    </tr>\n",
              "    <tr>\n",
              "      <th>14</th>\n",
              "      <td>sgv-5</td>\n",
              "      <td>0.006133</td>\n",
              "    </tr>\n",
              "    <tr>\n",
              "      <th>20</th>\n",
              "      <td>meandeltasgv</td>\n",
              "      <td>0.006116</td>\n",
              "    </tr>\n",
              "    <tr>\n",
              "      <th>11</th>\n",
              "      <td>insulin-3</td>\n",
              "      <td>0.004762</td>\n",
              "    </tr>\n",
              "    <tr>\n",
              "      <th>10</th>\n",
              "      <td>insulin-4</td>\n",
              "      <td>0.003825</td>\n",
              "    </tr>\n",
              "    <tr>\n",
              "      <th>8</th>\n",
              "      <td>Minute</td>\n",
              "      <td>0.003716</td>\n",
              "    </tr>\n",
              "    <tr>\n",
              "      <th>17</th>\n",
              "      <td>sgv-2</td>\n",
              "      <td>0.003577</td>\n",
              "    </tr>\n",
              "    <tr>\n",
              "      <th>4</th>\n",
              "      <td>Month (number)</td>\n",
              "      <td>0.001509</td>\n",
              "    </tr>\n",
              "    <tr>\n",
              "      <th>3</th>\n",
              "      <td>Year</td>\n",
              "      <td>0.000000</td>\n",
              "    </tr>\n",
              "    <tr>\n",
              "      <th>22</th>\n",
              "      <td>ubi</td>\n",
              "      <td>0.000000</td>\n",
              "    </tr>\n",
              "  </tbody>\n",
              "</table>\n",
              "</div>"
            ],
            "text/plain": [
              "                    cols       imp\n",
              "13             insulin-1  0.632563\n",
              "19              deltasgv  0.122818\n",
              "1                    sgv  0.082215\n",
              "12             insulin-2  0.033734\n",
              "23                    ia  0.017220\n",
              "9              insulin-5  0.011342\n",
              "0               bolusiob  0.010007\n",
              "2         Tendencia (#1)  0.009482\n",
              "5                   Week  0.009024\n",
              "6   Day of week (number)  0.008092\n",
              "7                   Hour  0.007434\n",
              "18                 sgv-1  0.007302\n",
              "21      prevmeandeltasgv  0.006702\n",
              "15                 sgv-4  0.006259\n",
              "16                 sgv-3  0.006169\n",
              "14                 sgv-5  0.006133\n",
              "20          meandeltasgv  0.006116\n",
              "11             insulin-3  0.004762\n",
              "10             insulin-4  0.003825\n",
              "8                 Minute  0.003716\n",
              "17                 sgv-2  0.003577\n",
              "4         Month (number)  0.001509\n",
              "3                   Year  0.000000\n",
              "22                   ubi  0.000000"
            ]
          },
          "metadata": {
            "tags": []
          },
          "execution_count": 202
        }
      ]
    },
    {
      "cell_type": "code",
      "metadata": {
        "id": "RP9GOxURxs0D",
        "colab_type": "code",
        "outputId": "c3be90e0-4eff-46c3-c29b-8bf7e3eb90b0",
        "colab": {
          "base_uri": "https://localhost:8080/",
          "height": 410
        }
      },
      "source": [
        "fi.plot('cols', 'imp', figsize=(10,6), legend=False)"
      ],
      "execution_count": 0,
      "outputs": [
        {
          "output_type": "execute_result",
          "data": {
            "text/plain": [
              "<matplotlib.axes._subplots.AxesSubplot at 0x7fa6a32460f0>"
            ]
          },
          "metadata": {
            "tags": []
          },
          "execution_count": 203
        },
        {
          "output_type": "display_data",
          "data": {
            "image/png": "[encoded data removed]",
            "text/plain": [
              "<Figure size 720x432 with 1 Axes>"
            ]
          },
          "metadata": {
            "tags": []
          }
        }
      ]
    },
    {
      "cell_type": "code",
      "metadata": {
        "id": "zp81qR36v-WO",
        "colab_type": "code",
        "colab": {}
      },
      "source": [
        "def plot_fi(fi): return fi.plot('cols', 'imp', 'barh', figsize=(12,7), legend=False)"
      ],
      "execution_count": 0,
      "outputs": []
    },
    {
      "cell_type": "code",
      "metadata": {
        "id": "Hd29aUUnDk0z",
        "colab_type": "code",
        "outputId": "48037f49-ac08-4b7c-e87d-aac43131dad3",
        "colab": {
          "base_uri": "https://localhost:8080/",
          "height": 432
        }
      },
      "source": [
        "plot_fi(fi[:26]);"
      ],
      "execution_count": 0,
      "outputs": [
        {
          "output_type": "display_data",
          "data": {
            "image/png": "[encoded data removed]",
            "text/plain": [
              "<Figure size 864x504 with 1 Axes>"
            ]
          },
          "metadata": {
            "tags": []
          }
        }
      ]
    },
    {
      "cell_type": "code",
      "metadata": {
        "id": "mSLrhsx9D4ab",
        "colab_type": "code",
        "outputId": "ad61307e-acde-4b40-b43b-7c25f89e0967",
        "colab": {
          "base_uri": "https://localhost:8080/",
          "height": 34
        }
      },
      "source": [
        "to_keep = fi[fi.imp>0.005].cols; len(to_keep)"
      ],
      "execution_count": 0,
      "outputs": [
        {
          "output_type": "execute_result",
          "data": {
            "text/plain": [
              "17"
            ]
          },
          "metadata": {
            "tags": []
          },
          "execution_count": 211
        }
      ]
    },
    {
      "cell_type": "code",
      "metadata": {
        "id": "2zd7mH5gEAKc",
        "colab_type": "code",
        "colab": {}
      },
      "source": [
        "df_keep = X[to_keep].copy()\n",
        "X_train, X_valid = split_vals(df_keep, n_trn)"
      ],
      "execution_count": 0,
      "outputs": []
    },
    {
      "cell_type": "code",
      "metadata": {
        "id": "r-eieW6lH_-b",
        "colab_type": "code",
        "outputId": "414da092-76d9-4b71-c7da-86b757be70cc",
        "colab": {
          "base_uri": "https://localhost:8080/",
          "height": 34
        }
      },
      "source": [
        "df_keep.shape"
      ],
      "execution_count": 0,
      "outputs": [
        {
          "output_type": "execute_result",
          "data": {
            "text/plain": [
              "(6746, 17)"
            ]
          },
          "metadata": {
            "tags": []
          },
          "execution_count": 213
        }
      ]
    },
    {
      "cell_type": "code",
      "metadata": {
        "id": "BKVtuDSbolJ7",
        "colab_type": "code",
        "outputId": "2d97eeca-c0a0-400c-de4a-1f53b430befa",
        "colab": {
          "base_uri": "https://localhost:8080/",
          "height": 161
        }
      },
      "source": [
        "model = RandomForestRegressor(n_estimators=12, min_samples_leaf=20, n_jobs=-1, max_depth=11, oob_score=True, max_features=0.5)\n",
        "model.fit(X_train, y_train)\n",
        "print_score(model)"
      ],
      "execution_count": 0,
      "outputs": [
        {
          "output_type": "stream",
          "text": [
            "/usr/local/lib/python3.6/dist-packages/sklearn/ensemble/forest.py:737: UserWarning: Some inputs do not have OOB scores. This probably means too few trees were used to compute any reliable oob estimates.\n",
            "  warn(\"Some inputs do not have OOB scores. \"\n"
          ],
          "name": "stderr"
        },
        {
          "output_type": "stream",
          "text": [
            "Error Muestras Entrenamiento: 18.78534213612086\n",
            "Error Muestras Test: 20.096645123843164\n",
            "R2 Muestras Entrenamiento: 0.7171481079292492\n",
            "R2 Muestras Test: 0.5332187937705442\n",
            "[18.78534213612086, 20.096645123843164, 0.7171481079292492, 0.5332187937705442, 0.6175382662860491]\n"
          ],
          "name": "stdout"
        }
      ]
    },
    {
      "cell_type": "code",
      "metadata": {
        "id": "qRCiX8wCo0r8",
        "colab_type": "code",
        "outputId": "cccf4f94-38c5-47a6-b6f0-e1d5be04ac95",
        "colab": {
          "base_uri": "https://localhost:8080/",
          "height": 432
        }
      },
      "source": [
        "fi = rf_feat_importance(model, df_keep)\n",
        "plot_fi(fi);"
      ],
      "execution_count": 0,
      "outputs": [
        {
          "output_type": "display_data",
          "data": {
            "image/png": "[encoded data removed]",
            "text/plain": [
              "<Figure size 864x504 with 1 Axes>"
            ]
          },
          "metadata": {
            "tags": []
          }
        }
      ]
    },
    {
      "cell_type": "markdown",
      "metadata": {
        "id": "gLNfYZOosk5p",
        "colab_type": "text"
      },
      "source": [
        "##4.- Eliminando variables redundantes"
      ]
    },
    {
      "cell_type": "markdown",
      "metadata": {
        "id": "zcvXiOi5su7h",
        "colab_type": "text"
      },
      "source": [
        "Se va a identificar variables. El grafico (endograma) se agrupan variables que tienen las mismas características. Aquellas variables que quedan solas, no tienen relacion de comportamiento con otras. Las que se muestran compartidas se pueden eliminar y dejar sólo una ."
      ]
    },
    {
      "cell_type": "code",
      "metadata": {
        "id": "zzr4IatEszST",
        "colab_type": "code",
        "colab": {}
      },
      "source": [
        "from scipy.cluster import hierarchy as hc"
      ],
      "execution_count": 0,
      "outputs": []
    },
    {
      "cell_type": "code",
      "metadata": {
        "id": "1nGeu01xs2Rc",
        "colab_type": "code",
        "outputId": "bc33b44e-c891-4c73-a942-5dd362868fff",
        "colab": {
          "base_uri": "https://localhost:8080/",
          "height": 594
        }
      },
      "source": [
        "corr = np.round(scipy.stats.spearmanr(df_keep).correlation, 4)\n",
        "corr_condensed = hc.distance.squareform(1-corr)\n",
        "z = hc.linkage(corr_condensed, method='average')\n",
        "fig = plt.figure(figsize=(16,10))\n",
        "dendrogram = hc.dendrogram(z, labels=df_keep.columns, orientation='left', leaf_font_size=16)\n",
        "plt.show()"
      ],
      "execution_count": 0,
      "outputs": [
        {
          "output_type": "display_data",
          "data": {
            "image/png": "[encoded data removed]",
            "text/plain": [
              "<Figure size 1152x720 with 1 Axes>"
            ]
          },
          "metadata": {
            "tags": []
          }
        }
      ]
    },
    {
      "cell_type": "markdown",
      "metadata": {
        "id": "BNZB_glUtTSy",
        "colab_type": "text"
      },
      "source": [
        "El modelo no presenta variables redundantes."
      ]
    },
    {
      "cell_type": "markdown",
      "metadata": {
        "id": "Bd--ArbWvGyO",
        "colab_type": "text"
      },
      "source": [
        "##5.- TREE INTERPRETER"
      ]
    },
    {
      "cell_type": "code",
      "metadata": {
        "id": "dqN1zvoLQ8mq",
        "colab_type": "code",
        "colab": {}
      },
      "source": [
        "from treeinterpreter import treeinterpreter as ti"
      ],
      "execution_count": 0,
      "outputs": []
    },
    {
      "cell_type": "code",
      "metadata": {
        "id": "PBAiD41kRDWW",
        "colab_type": "code",
        "colab": {}
      },
      "source": [
        "df_train, df_valid = split_vals(df, n_trn)"
      ],
      "execution_count": 0,
      "outputs": []
    },
    {
      "cell_type": "code",
      "metadata": {
        "id": "7qhNfWoARDuW",
        "colab_type": "code",
        "outputId": "0fb4c4e8-2ca4-4941-eabc-4b374a951b1c",
        "colab": {
          "base_uri": "https://localhost:8080/",
          "height": 52
        }
      },
      "source": [
        "row = X_valid.values[None,0]; row"
      ],
      "execution_count": 0,
      "outputs": [
        {
          "output_type": "execute_result",
          "data": {
            "text/plain": [
              "array([[100.     ,  -2.     , 200.     ,  75.     ,  83.37167,  75.     ,   0.76   ,   6.     ,  25.     ,\n",
              "          1.     ,  20.     , 202.     ,   2.     , 196.     , 198.     , 194.     ,   1.     ]])"
            ]
          },
          "metadata": {
            "tags": []
          },
          "execution_count": 220
        }
      ]
    },
    {
      "cell_type": "code",
      "metadata": {
        "id": "jBLTxNULREBE",
        "colab_type": "code",
        "colab": {}
      },
      "source": [
        "prediction, bias, contributions = ti.predict(model, row)"
      ],
      "execution_count": 0,
      "outputs": []
    },
    {
      "cell_type": "code",
      "metadata": {
        "id": "aMwdfI9FRKWy",
        "colab_type": "code",
        "outputId": "6251f863-b540-41b0-e940-dc7596ab709b",
        "colab": {
          "base_uri": "https://localhost:8080/",
          "height": 34
        }
      },
      "source": [
        "prediction[0], bias[0]"
      ],
      "execution_count": 0,
      "outputs": [
        {
          "output_type": "execute_result",
          "data": {
            "text/plain": [
              "(array([76.89012]), 68.39726830147855)"
            ]
          },
          "metadata": {
            "tags": []
          },
          "execution_count": 222
        }
      ]
    },
    {
      "cell_type": "code",
      "metadata": {
        "id": "KwNLDJdiRKs-",
        "colab_type": "code",
        "colab": {}
      },
      "source": [
        "idxs = np.argsort(contributions[0])"
      ],
      "execution_count": 0,
      "outputs": []
    },
    {
      "cell_type": "code",
      "metadata": {
        "id": "cT2aUjqCRLAO",
        "colab_type": "code",
        "outputId": "e83f55b4-2f77-4a1b-98a0-bf1ff8632143",
        "colab": {
          "base_uri": "https://localhost:8080/",
          "height": 318
        }
      },
      "source": [
        "[o for o in zip(df_keep.columns[idxs], df_valid.iloc[0][idxs], contributions[0][idxs])]"
      ],
      "execution_count": 0,
      "outputs": [
        {
          "output_type": "execute_result",
          "data": {
            "text/plain": [
              "[('insulin-2', 6.0, -8.959948881412224),\n",
              " ('deltasgv', 0.76, -7.667347720544735),\n",
              " ('insulin-5', 6.0, -2.342163664524216),\n",
              " ('prevmeandeltasgv', 100.0, -2.112623193502511),\n",
              " ('Day of week (number)', 56.0, -0.9722018636629954),\n",
              " ('bolusiob', 25.0, -0.9667951943110958),\n",
              " ('Tendencia (#1)', 1.0, -0.6405760227650816),\n",
              " ('ia', 2019.0, -0.2539720422927303),\n",
              " ('Week', 20.0, -0.1929889986907535),\n",
              " ('sgv-3', 100.0, 0.0),\n",
              " ('Hour', 75.0, 0.0),\n",
              " ('sgv-5', 194.0, 0.32835447263017414),\n",
              " ('meandeltasgv', 196.0, 0.5299049474736842),\n",
              " ('sgv-4', 75.0, 1.3167976080086614),\n",
              " ('sgv-1', 100.0, 2.299252580165417),\n",
              " ('sgv', 200.0, 4.932576445696474),\n",
              " ('insulin-1', 100.0, 23.1945841447947)]"
            ]
          },
          "metadata": {
            "tags": []
          },
          "execution_count": 224
        }
      ]
    },
    {
      "cell_type": "code",
      "metadata": {
        "id": "kfn457-oRET5",
        "colab_type": "code",
        "outputId": "f18233a7-7cc1-4fd9-cc6b-b803dc5eb1ab",
        "colab": {
          "base_uri": "https://localhost:8080/",
          "height": 34
        }
      },
      "source": [
        "contributions[0].sum()"
      ],
      "execution_count": 0,
      "outputs": [
        {
          "output_type": "execute_result",
          "data": {
            "text/plain": [
              "8.492852617062766"
            ]
          },
          "metadata": {
            "tags": []
          },
          "execution_count": 225
        }
      ]
    },
    {
      "cell_type": "markdown",
      "metadata": {
        "id": "jpB31LYfU3Rc",
        "colab_type": "text"
      },
      "source": [
        "##6.- EXTRAPOLACION"
      ]
    },
    {
      "cell_type": "code",
      "metadata": {
        "id": "gDmffecMU9wK",
        "colab_type": "code",
        "outputId": "2e06dad7-cfbc-4a6a-8e05-d9d4f81f1edf",
        "colab": {
          "base_uri": "https://localhost:8080/",
          "height": 105
        }
      },
      "source": [
        "df_ext = df_keep.copy()\n",
        "df_ext['is_valid'] = 1\n",
        "df_ext.is_valid[:n_trn] = 0\n",
        "x, y, nas = proc_df(df_ext, 'is_valid')"
      ],
      "execution_count": 0,
      "outputs": [
        {
          "output_type": "stream",
          "text": [
            "/usr/local/lib/python3.6/dist-packages/ipykernel_launcher.py:3: SettingWithCopyWarning: \n",
            "A value is trying to be set on a copy of a slice from a DataFrame\n",
            "\n",
            "See the caveats in the documentation: http://pandas.pydata.org/pandas-docs/stable/indexing.html#indexing-view-versus-copy\n",
            "  This is separate from the ipykernel package so we can avoid doing imports until\n"
          ],
          "name": "stderr"
        }
      ]
    },
    {
      "cell_type": "code",
      "metadata": {
        "id": "kfDhggc8Zs2g",
        "colab_type": "code",
        "outputId": "97eaca02-f52b-4fec-c438-e8323f6f95e8",
        "colab": {
          "base_uri": "https://localhost:8080/",
          "height": 214
        }
      },
      "source": [
        "df_keep.head()"
      ],
      "execution_count": 0,
      "outputs": [
        {
          "output_type": "execute_result",
          "data": {
            "text/html": [
              "<div>\n",
              "<style scoped>\n",
              "    .dataframe tbody tr th:only-of-type {\n",
              "        vertical-align: middle;\n",
              "    }\n",
              "\n",
              "    .dataframe tbody tr th {\n",
              "        vertical-align: top;\n",
              "    }\n",
              "\n",
              "    .dataframe thead th {\n",
              "        text-align: right;\n",
              "    }\n",
              "</style>\n",
              "<table border=\"1\" class=\"dataframe\">\n",
              "  <thead>\n",
              "    <tr style=\"text-align: right;\">\n",
              "      <th></th>\n",
              "      <th>insulin-1</th>\n",
              "      <th>deltasgv</th>\n",
              "      <th>sgv</th>\n",
              "      <th>insulin-2</th>\n",
              "      <th>ia</th>\n",
              "      <th>insulin-5</th>\n",
              "      <th>bolusiob</th>\n",
              "      <th>Tendencia (#1)</th>\n",
              "      <th>Week</th>\n",
              "      <th>Day of week (number)</th>\n",
              "      <th>Hour</th>\n",
              "      <th>sgv-1</th>\n",
              "      <th>prevmeandeltasgv</th>\n",
              "      <th>sgv-4</th>\n",
              "      <th>sgv-3</th>\n",
              "      <th>sgv-5</th>\n",
              "      <th>meandeltasgv</th>\n",
              "    </tr>\n",
              "  </thead>\n",
              "  <tbody>\n",
              "    <tr>\n",
              "      <th>0</th>\n",
              "      <td>75.0</td>\n",
              "      <td>0.477391</td>\n",
              "      <td>142</td>\n",
              "      <td>50.0</td>\n",
              "      <td>68.882861</td>\n",
              "      <td>75.0</td>\n",
              "      <td>0.114437</td>\n",
              "      <td>6</td>\n",
              "      <td>20</td>\n",
              "      <td>3</td>\n",
              "      <td>6</td>\n",
              "      <td>145</td>\n",
              "      <td>0.477585</td>\n",
              "      <td>150</td>\n",
              "      <td>149</td>\n",
              "      <td>151</td>\n",
              "      <td>0.477292</td>\n",
              "    </tr>\n",
              "    <tr>\n",
              "      <th>1</th>\n",
              "      <td>25.0</td>\n",
              "      <td>-5.000000</td>\n",
              "      <td>137</td>\n",
              "      <td>75.0</td>\n",
              "      <td>68.882861</td>\n",
              "      <td>50.0</td>\n",
              "      <td>0.112676</td>\n",
              "      <td>6</td>\n",
              "      <td>20</td>\n",
              "      <td>3</td>\n",
              "      <td>6</td>\n",
              "      <td>142</td>\n",
              "      <td>0.477585</td>\n",
              "      <td>149</td>\n",
              "      <td>147</td>\n",
              "      <td>150</td>\n",
              "      <td>-5.000000</td>\n",
              "    </tr>\n",
              "    <tr>\n",
              "      <th>2</th>\n",
              "      <td>75.0</td>\n",
              "      <td>7.000000</td>\n",
              "      <td>144</td>\n",
              "      <td>25.0</td>\n",
              "      <td>68.882861</td>\n",
              "      <td>75.0</td>\n",
              "      <td>0.110915</td>\n",
              "      <td>6</td>\n",
              "      <td>20</td>\n",
              "      <td>3</td>\n",
              "      <td>6</td>\n",
              "      <td>137</td>\n",
              "      <td>-5.000000</td>\n",
              "      <td>147</td>\n",
              "      <td>145</td>\n",
              "      <td>149</td>\n",
              "      <td>1.000000</td>\n",
              "    </tr>\n",
              "    <tr>\n",
              "      <th>3</th>\n",
              "      <td>50.0</td>\n",
              "      <td>-4.000000</td>\n",
              "      <td>140</td>\n",
              "      <td>75.0</td>\n",
              "      <td>68.882861</td>\n",
              "      <td>50.0</td>\n",
              "      <td>0.109155</td>\n",
              "      <td>6</td>\n",
              "      <td>20</td>\n",
              "      <td>3</td>\n",
              "      <td>6</td>\n",
              "      <td>144</td>\n",
              "      <td>1.000000</td>\n",
              "      <td>145</td>\n",
              "      <td>142</td>\n",
              "      <td>147</td>\n",
              "      <td>-0.666667</td>\n",
              "    </tr>\n",
              "    <tr>\n",
              "      <th>4</th>\n",
              "      <td>50.0</td>\n",
              "      <td>-1.000000</td>\n",
              "      <td>139</td>\n",
              "      <td>50.0</td>\n",
              "      <td>68.882861</td>\n",
              "      <td>75.0</td>\n",
              "      <td>0.107394</td>\n",
              "      <td>6</td>\n",
              "      <td>20</td>\n",
              "      <td>3</td>\n",
              "      <td>6</td>\n",
              "      <td>140</td>\n",
              "      <td>-0.666667</td>\n",
              "      <td>142</td>\n",
              "      <td>137</td>\n",
              "      <td>145</td>\n",
              "      <td>-0.750000</td>\n",
              "    </tr>\n",
              "  </tbody>\n",
              "</table>\n",
              "</div>"
            ],
            "text/plain": [
              "   insulin-1  deltasgv  sgv  insulin-2  ...  sgv-4  sgv-3  sgv-5  meandeltasgv\n",
              "0       75.0  0.477391  142       50.0  ...    150    149    151      0.477292\n",
              "1       25.0 -5.000000  137       75.0  ...    149    147    150     -5.000000\n",
              "2       75.0  7.000000  144       25.0  ...    147    145    149      1.000000\n",
              "3       50.0 -4.000000  140       75.0  ...    145    142    147     -0.666667\n",
              "4       50.0 -1.000000  139       50.0  ...    142    137    145     -0.750000\n",
              "\n",
              "[5 rows x 17 columns]"
            ]
          },
          "metadata": {
            "tags": []
          },
          "execution_count": 247
        }
      ]
    },
    {
      "cell_type": "code",
      "metadata": {
        "id": "h6VdB4WlZ4MS",
        "colab_type": "code",
        "outputId": "91ee03c8-6aef-4aaa-e6ee-db398b35ed71",
        "colab": {
          "base_uri": "https://localhost:8080/",
          "height": 34
        }
      },
      "source": [
        "X_train.shape, X_valid.shape, df.shape"
      ],
      "execution_count": 0,
      "outputs": [
        {
          "output_type": "execute_result",
          "data": {
            "text/plain": [
              "((5546, 17), (1200, 17), (6746, 25))"
            ]
          },
          "metadata": {
            "tags": []
          },
          "execution_count": 248
        }
      ]
    },
    {
      "cell_type": "code",
      "metadata": {
        "id": "Gk7--p3WVB9r",
        "colab_type": "code",
        "outputId": "9a0f986b-73a2-4adc-e36a-bdf6206cbf98",
        "colab": {
          "base_uri": "https://localhost:8080/",
          "height": 90
        }
      },
      "source": [
        "model = RandomForestRegressor(n_estimators=12, min_samples_leaf=20, n_jobs=-1, max_depth=11, oob_score=True, max_features=0.5)\n",
        "model.fit(x, y)\n",
        "model.oob_score_"
      ],
      "execution_count": 0,
      "outputs": [
        {
          "output_type": "stream",
          "text": [
            "/usr/local/lib/python3.6/dist-packages/sklearn/ensemble/forest.py:737: UserWarning: Some inputs do not have OOB scores. This probably means too few trees were used to compute any reliable oob estimates.\n",
            "  warn(\"Some inputs do not have OOB scores. \"\n"
          ],
          "name": "stderr"
        },
        {
          "output_type": "execute_result",
          "data": {
            "text/plain": [
              "0.9790953691835937"
            ]
          },
          "metadata": {
            "tags": []
          },
          "execution_count": 249
        }
      ]
    },
    {
      "cell_type": "code",
      "metadata": {
        "id": "BQNeVlfsVCZN",
        "colab_type": "code",
        "outputId": "f5ab7f79-997b-41d6-fec4-52ba3d6b5613",
        "colab": {
          "base_uri": "https://localhost:8080/",
          "height": 34
        }
      },
      "source": [
        "model = RandomForestRegressor(n_estimators=40, min_samples_leaf=20, n_jobs=-1, max_depth=11, oob_score=True, max_features=0.5)\n",
        "model.fit(x, y)\n",
        "model.oob_score_"
      ],
      "execution_count": 0,
      "outputs": [
        {
          "output_type": "execute_result",
          "data": {
            "text/plain": [
              "0.9820394762999486"
            ]
          },
          "metadata": {
            "tags": []
          },
          "execution_count": 250
        }
      ]
    },
    {
      "cell_type": "code",
      "metadata": {
        "id": "Ei8kgMWrVCuP",
        "colab_type": "code",
        "outputId": "216d217b-1192-404d-c0d7-0018bbc1896a",
        "colab": {
          "base_uri": "https://localhost:8080/",
          "height": 437
        }
      },
      "source": [
        "fi = rf_feat_importance(model, x); fi[:13]"
      ],
      "execution_count": 0,
      "outputs": [
        {
          "output_type": "execute_result",
          "data": {
            "text/html": [
              "<div>\n",
              "<style scoped>\n",
              "    .dataframe tbody tr th:only-of-type {\n",
              "        vertical-align: middle;\n",
              "    }\n",
              "\n",
              "    .dataframe tbody tr th {\n",
              "        vertical-align: top;\n",
              "    }\n",
              "\n",
              "    .dataframe thead th {\n",
              "        text-align: right;\n",
              "    }\n",
              "</style>\n",
              "<table border=\"1\" class=\"dataframe\">\n",
              "  <thead>\n",
              "    <tr style=\"text-align: right;\">\n",
              "      <th></th>\n",
              "      <th>cols</th>\n",
              "      <th>imp</th>\n",
              "    </tr>\n",
              "  </thead>\n",
              "  <tbody>\n",
              "    <tr>\n",
              "      <th>8</th>\n",
              "      <td>Week</td>\n",
              "      <td>0.859668</td>\n",
              "    </tr>\n",
              "    <tr>\n",
              "      <th>9</th>\n",
              "      <td>Day of week (number)</td>\n",
              "      <td>0.079123</td>\n",
              "    </tr>\n",
              "    <tr>\n",
              "      <th>6</th>\n",
              "      <td>bolusiob</td>\n",
              "      <td>0.020235</td>\n",
              "    </tr>\n",
              "    <tr>\n",
              "      <th>4</th>\n",
              "      <td>ia</td>\n",
              "      <td>0.009244</td>\n",
              "    </tr>\n",
              "    <tr>\n",
              "      <th>15</th>\n",
              "      <td>sgv-5</td>\n",
              "      <td>0.007445</td>\n",
              "    </tr>\n",
              "    <tr>\n",
              "      <th>10</th>\n",
              "      <td>Hour</td>\n",
              "      <td>0.006583</td>\n",
              "    </tr>\n",
              "    <tr>\n",
              "      <th>13</th>\n",
              "      <td>sgv-4</td>\n",
              "      <td>0.003957</td>\n",
              "    </tr>\n",
              "    <tr>\n",
              "      <th>2</th>\n",
              "      <td>sgv</td>\n",
              "      <td>0.003329</td>\n",
              "    </tr>\n",
              "    <tr>\n",
              "      <th>11</th>\n",
              "      <td>sgv-1</td>\n",
              "      <td>0.003086</td>\n",
              "    </tr>\n",
              "    <tr>\n",
              "      <th>14</th>\n",
              "      <td>sgv-3</td>\n",
              "      <td>0.002498</td>\n",
              "    </tr>\n",
              "    <tr>\n",
              "      <th>5</th>\n",
              "      <td>insulin-5</td>\n",
              "      <td>0.001515</td>\n",
              "    </tr>\n",
              "    <tr>\n",
              "      <th>0</th>\n",
              "      <td>insulin-1</td>\n",
              "      <td>0.001332</td>\n",
              "    </tr>\n",
              "    <tr>\n",
              "      <th>3</th>\n",
              "      <td>insulin-2</td>\n",
              "      <td>0.001159</td>\n",
              "    </tr>\n",
              "  </tbody>\n",
              "</table>\n",
              "</div>"
            ],
            "text/plain": [
              "                    cols       imp\n",
              "8                   Week  0.859668\n",
              "9   Day of week (number)  0.079123\n",
              "6               bolusiob  0.020235\n",
              "4                     ia  0.009244\n",
              "15                 sgv-5  0.007445\n",
              "10                  Hour  0.006583\n",
              "13                 sgv-4  0.003957\n",
              "2                    sgv  0.003329\n",
              "11                 sgv-1  0.003086\n",
              "14                 sgv-3  0.002498\n",
              "5              insulin-5  0.001515\n",
              "0              insulin-1  0.001332\n",
              "3              insulin-2  0.001159"
            ]
          },
          "metadata": {
            "tags": []
          },
          "execution_count": 251
        }
      ]
    },
    {
      "cell_type": "code",
      "metadata": {
        "id": "z4xDfPjaVDD0",
        "colab_type": "code",
        "colab": {}
      },
      "source": [
        "feats=['Week', 'Day of week (number)', 'bolusiob']"
      ],
      "execution_count": 0,
      "outputs": []
    },
    {
      "cell_type": "code",
      "metadata": {
        "id": "X-nmrQapVDb1",
        "colab_type": "code",
        "outputId": "fea038fd-9690-43dd-c70b-c5a8891825e2",
        "colab": {
          "base_uri": "https://localhost:8080/",
          "height": 287
        }
      },
      "source": [
        "(X_train[feats]/1000).describe()"
      ],
      "execution_count": 0,
      "outputs": [
        {
          "output_type": "execute_result",
          "data": {
            "text/html": [
              "<div>\n",
              "<style scoped>\n",
              "    .dataframe tbody tr th:only-of-type {\n",
              "        vertical-align: middle;\n",
              "    }\n",
              "\n",
              "    .dataframe tbody tr th {\n",
              "        vertical-align: top;\n",
              "    }\n",
              "\n",
              "    .dataframe thead th {\n",
              "        text-align: right;\n",
              "    }\n",
              "</style>\n",
              "<table border=\"1\" class=\"dataframe\">\n",
              "  <thead>\n",
              "    <tr style=\"text-align: right;\">\n",
              "      <th></th>\n",
              "      <th>Week</th>\n",
              "      <th>Day of week (number)</th>\n",
              "      <th>bolusiob</th>\n",
              "    </tr>\n",
              "  </thead>\n",
              "  <tbody>\n",
              "    <tr>\n",
              "      <th>count</th>\n",
              "      <td>5546.000000</td>\n",
              "      <td>5546.000000</td>\n",
              "      <td>5546.000000</td>\n",
              "    </tr>\n",
              "    <tr>\n",
              "      <th>mean</th>\n",
              "      <td>0.022221</td>\n",
              "      <td>0.003981</td>\n",
              "      <td>0.000710</td>\n",
              "    </tr>\n",
              "    <tr>\n",
              "      <th>std</th>\n",
              "      <td>0.001450</td>\n",
              "      <td>0.002009</td>\n",
              "      <td>0.001102</td>\n",
              "    </tr>\n",
              "    <tr>\n",
              "      <th>min</th>\n",
              "      <td>0.020000</td>\n",
              "      <td>0.001000</td>\n",
              "      <td>0.000000</td>\n",
              "    </tr>\n",
              "    <tr>\n",
              "      <th>25%</th>\n",
              "      <td>0.021000</td>\n",
              "      <td>0.002000</td>\n",
              "      <td>0.000000</td>\n",
              "    </tr>\n",
              "    <tr>\n",
              "      <th>50%</th>\n",
              "      <td>0.022000</td>\n",
              "      <td>0.004000</td>\n",
              "      <td>0.000220</td>\n",
              "    </tr>\n",
              "    <tr>\n",
              "      <th>75%</th>\n",
              "      <td>0.023000</td>\n",
              "      <td>0.006000</td>\n",
              "      <td>0.000917</td>\n",
              "    </tr>\n",
              "    <tr>\n",
              "      <th>max</th>\n",
              "      <td>0.025000</td>\n",
              "      <td>0.007000</td>\n",
              "      <td>0.008500</td>\n",
              "    </tr>\n",
              "  </tbody>\n",
              "</table>\n",
              "</div>"
            ],
            "text/plain": [
              "              Week  Day of week (number)     bolusiob\n",
              "count  5546.000000           5546.000000  5546.000000\n",
              "mean      0.022221              0.003981     0.000710\n",
              "std       0.001450              0.002009     0.001102\n",
              "min       0.020000              0.001000     0.000000\n",
              "25%       0.021000              0.002000     0.000000\n",
              "50%       0.022000              0.004000     0.000220\n",
              "75%       0.023000              0.006000     0.000917\n",
              "max       0.025000              0.007000     0.008500"
            ]
          },
          "metadata": {
            "tags": []
          },
          "execution_count": 253
        }
      ]
    },
    {
      "cell_type": "code",
      "metadata": {
        "id": "yR9YhQkSVDxH",
        "colab_type": "code",
        "outputId": "649931bb-4e55-4749-9257-039abbd22c72",
        "colab": {
          "base_uri": "https://localhost:8080/",
          "height": 287
        }
      },
      "source": [
        "(X_valid[feats]/1000).describe()"
      ],
      "execution_count": 0,
      "outputs": [
        {
          "output_type": "execute_result",
          "data": {
            "text/html": [
              "<div>\n",
              "<style scoped>\n",
              "    .dataframe tbody tr th:only-of-type {\n",
              "        vertical-align: middle;\n",
              "    }\n",
              "\n",
              "    .dataframe tbody tr th {\n",
              "        vertical-align: top;\n",
              "    }\n",
              "\n",
              "    .dataframe thead th {\n",
              "        text-align: right;\n",
              "    }\n",
              "</style>\n",
              "<table border=\"1\" class=\"dataframe\">\n",
              "  <thead>\n",
              "    <tr style=\"text-align: right;\">\n",
              "      <th></th>\n",
              "      <th>Week</th>\n",
              "      <th>Day of week (number)</th>\n",
              "      <th>bolusiob</th>\n",
              "    </tr>\n",
              "  </thead>\n",
              "  <tbody>\n",
              "    <tr>\n",
              "      <th>count</th>\n",
              "      <td>1200.000000</td>\n",
              "      <td>1200.000000</td>\n",
              "      <td>1200.000000</td>\n",
              "    </tr>\n",
              "    <tr>\n",
              "      <th>mean</th>\n",
              "      <td>0.025212</td>\n",
              "      <td>0.003715</td>\n",
              "      <td>0.000963</td>\n",
              "    </tr>\n",
              "    <tr>\n",
              "      <th>std</th>\n",
              "      <td>0.000409</td>\n",
              "      <td>0.001984</td>\n",
              "      <td>0.001118</td>\n",
              "    </tr>\n",
              "    <tr>\n",
              "      <th>min</th>\n",
              "      <td>0.025000</td>\n",
              "      <td>0.001000</td>\n",
              "      <td>0.000000</td>\n",
              "    </tr>\n",
              "    <tr>\n",
              "      <th>25%</th>\n",
              "      <td>0.025000</td>\n",
              "      <td>0.002000</td>\n",
              "      <td>0.000112</td>\n",
              "    </tr>\n",
              "    <tr>\n",
              "      <th>50%</th>\n",
              "      <td>0.025000</td>\n",
              "      <td>0.004000</td>\n",
              "      <td>0.000600</td>\n",
              "    </tr>\n",
              "    <tr>\n",
              "      <th>75%</th>\n",
              "      <td>0.025000</td>\n",
              "      <td>0.005000</td>\n",
              "      <td>0.001483</td>\n",
              "    </tr>\n",
              "    <tr>\n",
              "      <th>max</th>\n",
              "      <td>0.026000</td>\n",
              "      <td>0.007000</td>\n",
              "      <td>0.008837</td>\n",
              "    </tr>\n",
              "  </tbody>\n",
              "</table>\n",
              "</div>"
            ],
            "text/plain": [
              "              Week  Day of week (number)     bolusiob\n",
              "count  1200.000000           1200.000000  1200.000000\n",
              "mean      0.025212              0.003715     0.000963\n",
              "std       0.000409              0.001984     0.001118\n",
              "min       0.025000              0.001000     0.000000\n",
              "25%       0.025000              0.002000     0.000112\n",
              "50%       0.025000              0.004000     0.000600\n",
              "75%       0.025000              0.005000     0.001483\n",
              "max       0.026000              0.007000     0.008837"
            ]
          },
          "metadata": {
            "tags": []
          },
          "execution_count": 254
        }
      ]
    },
    {
      "cell_type": "code",
      "metadata": {
        "id": "e-eVSEuMI-Wy",
        "colab_type": "code",
        "outputId": "9edc5c58-88f8-47ad-c6fb-d89b66800aba",
        "colab": {
          "base_uri": "https://localhost:8080/",
          "height": 34
        }
      },
      "source": [
        "x.shape"
      ],
      "execution_count": 0,
      "outputs": [
        {
          "output_type": "execute_result",
          "data": {
            "text/plain": [
              "(6746, 17)"
            ]
          },
          "metadata": {
            "tags": []
          },
          "execution_count": 255
        }
      ]
    },
    {
      "cell_type": "code",
      "metadata": {
        "id": "IRiGIJayMvBU",
        "colab_type": "code",
        "colab": {}
      },
      "source": [
        "x_drop = x.copy()"
      ],
      "execution_count": 0,
      "outputs": []
    },
    {
      "cell_type": "code",
      "metadata": {
        "id": "vR1p423wVEjD",
        "colab_type": "code",
        "colab": {}
      },
      "source": [
        "x_drop.drop(feats, axis=1, inplace=True)\n"
      ],
      "execution_count": 0,
      "outputs": []
    },
    {
      "cell_type": "code",
      "metadata": {
        "id": "GS3IuoHcMEFD",
        "colab_type": "code",
        "outputId": "9b6d7302-39d4-4e9f-fc1f-6a36310c9e88",
        "colab": {
          "base_uri": "https://localhost:8080/",
          "height": 197
        }
      },
      "source": [
        "x_drop.head()"
      ],
      "execution_count": 0,
      "outputs": [
        {
          "output_type": "execute_result",
          "data": {
            "text/html": [
              "<div>\n",
              "<style scoped>\n",
              "    .dataframe tbody tr th:only-of-type {\n",
              "        vertical-align: middle;\n",
              "    }\n",
              "\n",
              "    .dataframe tbody tr th {\n",
              "        vertical-align: top;\n",
              "    }\n",
              "\n",
              "    .dataframe thead th {\n",
              "        text-align: right;\n",
              "    }\n",
              "</style>\n",
              "<table border=\"1\" class=\"dataframe\">\n",
              "  <thead>\n",
              "    <tr style=\"text-align: right;\">\n",
              "      <th></th>\n",
              "      <th>insulin-1</th>\n",
              "      <th>deltasgv</th>\n",
              "      <th>sgv</th>\n",
              "      <th>insulin-2</th>\n",
              "      <th>ia</th>\n",
              "      <th>insulin-5</th>\n",
              "      <th>Tendencia (#1)</th>\n",
              "      <th>Hour</th>\n",
              "      <th>sgv-1</th>\n",
              "      <th>prevmeandeltasgv</th>\n",
              "      <th>sgv-4</th>\n",
              "      <th>sgv-3</th>\n",
              "      <th>sgv-5</th>\n",
              "      <th>meandeltasgv</th>\n",
              "    </tr>\n",
              "  </thead>\n",
              "  <tbody>\n",
              "    <tr>\n",
              "      <th>0</th>\n",
              "      <td>75.0</td>\n",
              "      <td>0.477391</td>\n",
              "      <td>142</td>\n",
              "      <td>50.0</td>\n",
              "      <td>68.882861</td>\n",
              "      <td>75.0</td>\n",
              "      <td>6</td>\n",
              "      <td>6</td>\n",
              "      <td>145</td>\n",
              "      <td>0.477585</td>\n",
              "      <td>150</td>\n",
              "      <td>149</td>\n",
              "      <td>151</td>\n",
              "      <td>0.477292</td>\n",
              "    </tr>\n",
              "    <tr>\n",
              "      <th>1</th>\n",
              "      <td>25.0</td>\n",
              "      <td>-5.000000</td>\n",
              "      <td>137</td>\n",
              "      <td>75.0</td>\n",
              "      <td>68.882861</td>\n",
              "      <td>50.0</td>\n",
              "      <td>6</td>\n",
              "      <td>6</td>\n",
              "      <td>142</td>\n",
              "      <td>0.477585</td>\n",
              "      <td>149</td>\n",
              "      <td>147</td>\n",
              "      <td>150</td>\n",
              "      <td>-5.000000</td>\n",
              "    </tr>\n",
              "    <tr>\n",
              "      <th>2</th>\n",
              "      <td>75.0</td>\n",
              "      <td>7.000000</td>\n",
              "      <td>144</td>\n",
              "      <td>25.0</td>\n",
              "      <td>68.882861</td>\n",
              "      <td>75.0</td>\n",
              "      <td>6</td>\n",
              "      <td>6</td>\n",
              "      <td>137</td>\n",
              "      <td>-5.000000</td>\n",
              "      <td>147</td>\n",
              "      <td>145</td>\n",
              "      <td>149</td>\n",
              "      <td>1.000000</td>\n",
              "    </tr>\n",
              "    <tr>\n",
              "      <th>3</th>\n",
              "      <td>50.0</td>\n",
              "      <td>-4.000000</td>\n",
              "      <td>140</td>\n",
              "      <td>75.0</td>\n",
              "      <td>68.882861</td>\n",
              "      <td>50.0</td>\n",
              "      <td>6</td>\n",
              "      <td>6</td>\n",
              "      <td>144</td>\n",
              "      <td>1.000000</td>\n",
              "      <td>145</td>\n",
              "      <td>142</td>\n",
              "      <td>147</td>\n",
              "      <td>-0.666667</td>\n",
              "    </tr>\n",
              "    <tr>\n",
              "      <th>4</th>\n",
              "      <td>50.0</td>\n",
              "      <td>-1.000000</td>\n",
              "      <td>139</td>\n",
              "      <td>50.0</td>\n",
              "      <td>68.882861</td>\n",
              "      <td>75.0</td>\n",
              "      <td>6</td>\n",
              "      <td>6</td>\n",
              "      <td>140</td>\n",
              "      <td>-0.666667</td>\n",
              "      <td>142</td>\n",
              "      <td>137</td>\n",
              "      <td>145</td>\n",
              "      <td>-0.750000</td>\n",
              "    </tr>\n",
              "  </tbody>\n",
              "</table>\n",
              "</div>"
            ],
            "text/plain": [
              "   insulin-1  deltasgv  sgv  insulin-2  ...  sgv-4  sgv-3  sgv-5  meandeltasgv\n",
              "0       75.0  0.477391  142       50.0  ...    150    149    151      0.477292\n",
              "1       25.0 -5.000000  137       75.0  ...    149    147    150     -5.000000\n",
              "2       75.0  7.000000  144       25.0  ...    147    145    149      1.000000\n",
              "3       50.0 -4.000000  140       75.0  ...    145    142    147     -0.666667\n",
              "4       50.0 -1.000000  139       50.0  ...    142    137    145     -0.750000\n",
              "\n",
              "[5 rows x 14 columns]"
            ]
          },
          "metadata": {
            "tags": []
          },
          "execution_count": 258
        }
      ]
    },
    {
      "cell_type": "code",
      "metadata": {
        "id": "xvyZyvQwXSl6",
        "colab_type": "code",
        "outputId": "1f82aeb7-4e5d-4cac-d6cb-3a2bc4a872a8",
        "colab": {
          "base_uri": "https://localhost:8080/",
          "height": 34
        }
      },
      "source": [
        "model = RandomForestRegressor(n_estimators=40, min_samples_leaf=20, n_jobs=-1, max_depth=11, oob_score=True, max_features=0.5)\n",
        "model.fit(x_drop, y)\n",
        "model.oob_score_"
      ],
      "execution_count": 0,
      "outputs": [
        {
          "output_type": "execute_result",
          "data": {
            "text/plain": [
              "0.21863389271959466"
            ]
          },
          "metadata": {
            "tags": []
          },
          "execution_count": 259
        }
      ]
    },
    {
      "cell_type": "code",
      "metadata": {
        "id": "681Snz-KXS-a",
        "colab_type": "code",
        "outputId": "f567953a-51e0-4011-c86e-774b3792d0d2",
        "colab": {
          "base_uri": "https://localhost:8080/",
          "height": 347
        }
      },
      "source": [
        "fi = rf_feat_importance(model, x); fi[:20]"
      ],
      "execution_count": 0,
      "outputs": [
        {
          "output_type": "execute_result",
          "data": {
            "text/html": [
              "<div>\n",
              "<style scoped>\n",
              "    .dataframe tbody tr th:only-of-type {\n",
              "        vertical-align: middle;\n",
              "    }\n",
              "\n",
              "    .dataframe tbody tr th {\n",
              "        vertical-align: top;\n",
              "    }\n",
              "\n",
              "    .dataframe thead th {\n",
              "        text-align: right;\n",
              "    }\n",
              "</style>\n",
              "<table border=\"1\" class=\"dataframe\">\n",
              "  <thead>\n",
              "    <tr style=\"text-align: right;\">\n",
              "      <th></th>\n",
              "      <th>cols</th>\n",
              "      <th>imp</th>\n",
              "    </tr>\n",
              "  </thead>\n",
              "  <tbody>\n",
              "    <tr>\n",
              "      <th>4</th>\n",
              "      <td>ia</td>\n",
              "      <td>0.232266</td>\n",
              "    </tr>\n",
              "    <tr>\n",
              "      <th>2</th>\n",
              "      <td>sgv</td>\n",
              "      <td>0.124730</td>\n",
              "    </tr>\n",
              "    <tr>\n",
              "      <th>6</th>\n",
              "      <td>sgv-5</td>\n",
              "      <td>0.122934</td>\n",
              "    </tr>\n",
              "    <tr>\n",
              "      <th>8</th>\n",
              "      <td>prevmeandeltasgv</td>\n",
              "      <td>0.107560</td>\n",
              "    </tr>\n",
              "    <tr>\n",
              "      <th>5</th>\n",
              "      <td>sgv-1</td>\n",
              "      <td>0.089356</td>\n",
              "    </tr>\n",
              "    <tr>\n",
              "      <th>3</th>\n",
              "      <td>insulin-2</td>\n",
              "      <td>0.079416</td>\n",
              "    </tr>\n",
              "    <tr>\n",
              "      <th>0</th>\n",
              "      <td>insulin-1</td>\n",
              "      <td>0.074961</td>\n",
              "    </tr>\n",
              "    <tr>\n",
              "      <th>1</th>\n",
              "      <td>deltasgv</td>\n",
              "      <td>0.072236</td>\n",
              "    </tr>\n",
              "    <tr>\n",
              "      <th>9</th>\n",
              "      <td>insulin-5</td>\n",
              "      <td>0.068212</td>\n",
              "    </tr>\n",
              "    <tr>\n",
              "      <th>7</th>\n",
              "      <td>Tendencia (#1)</td>\n",
              "      <td>0.028327</td>\n",
              "    </tr>\n",
              "  </tbody>\n",
              "</table>\n",
              "</div>"
            ],
            "text/plain": [
              "               cols       imp\n",
              "4                ia  0.232266\n",
              "2               sgv  0.124730\n",
              "6             sgv-5  0.122934\n",
              "8  prevmeandeltasgv  0.107560\n",
              "5             sgv-1  0.089356\n",
              "3         insulin-2  0.079416\n",
              "0         insulin-1  0.074961\n",
              "1          deltasgv  0.072236\n",
              "9         insulin-5  0.068212\n",
              "7    Tendencia (#1)  0.028327"
            ]
          },
          "metadata": {
            "tags": []
          },
          "execution_count": 160
        }
      ]
    },
    {
      "cell_type": "code",
      "metadata": {
        "id": "u1ths3CwJM-R",
        "colab_type": "code",
        "outputId": "2f53dd2b-8219-4783-a30f-d0b0b5ad7a95",
        "colab": {
          "base_uri": "https://localhost:8080/",
          "height": 34
        }
      },
      "source": [
        "df_keep.shape"
      ],
      "execution_count": 0,
      "outputs": [
        {
          "output_type": "execute_result",
          "data": {
            "text/plain": [
              "(6746, 17)"
            ]
          },
          "metadata": {
            "tags": []
          },
          "execution_count": 264
        }
      ]
    },
    {
      "cell_type": "code",
      "metadata": {
        "id": "g-Eq6uamXTVe",
        "colab_type": "code",
        "colab": {}
      },
      "source": [
        "feats=['Hour', 'ia', 'sgv-5','Week', 'Day of week (number)', 'bolusiob']"
      ],
      "execution_count": 0,
      "outputs": []
    },
    {
      "cell_type": "code",
      "metadata": {
        "id": "LsuWeEMOXTvO",
        "colab_type": "code",
        "outputId": "23192662-82c6-4380-b89a-cf8ca3136187",
        "colab": {
          "base_uri": "https://localhost:8080/",
          "height": 105
        }
      },
      "source": [
        "X_train, X_valid = split_vals(df_keep, n_trn)\n",
        "model = RandomForestRegressor(n_estimators=25, min_samples_leaf=20, n_jobs=-1, max_depth=11, oob_score=True, max_features=0.5)\n",
        "model.fit(X_train, y_train)\n",
        "print_score(model)"
      ],
      "execution_count": 0,
      "outputs": [
        {
          "output_type": "stream",
          "text": [
            "Error Muestras Entrenamiento: 18.702991925091542\n",
            "Error Muestras Test: 19.813215230305083\n",
            "R2 Muestras Entrenamiento: 0.7196225752772654\n",
            "R2 Muestras Test: 0.5462923005545246\n",
            "[18.702991925091542, 19.813215230305083, 0.7196225752772654, 0.5462923005545246, 0.6496118690801904]\n"
          ],
          "name": "stdout"
        }
      ]
    },
    {
      "cell_type": "code",
      "metadata": {
        "id": "velCq_qvOWMT",
        "colab_type": "code",
        "outputId": "6037543b-2081-4687-c6b3-3fdd5b9a56a8",
        "colab": {
          "base_uri": "https://localhost:8080/",
          "height": 656
        }
      },
      "source": [
        "for f in feats:\n",
        "    df_subs = df_keep.drop(f, axis=1)\n",
        "    X_train, X_valid = split_vals(df_subs, n_trn)\n",
        "    model = RandomForestRegressor(n_estimators=25, min_samples_leaf=20, n_jobs=-1, max_depth=11, oob_score=True, max_features=0.5)\n",
        "    model.fit(X_train, y_train)\n",
        "    print(f)\n",
        "    print_score(model)"
      ],
      "execution_count": 0,
      "outputs": [
        {
          "output_type": "stream",
          "text": [
            "Hour\n",
            "Error Muestras Entrenamiento: 18.705800198552684\n",
            "Error Muestras Test: 20.29029901213864\n",
            "R2 Muestras Entrenamiento: 0.7195383710390558\n",
            "R2 Muestras Test: 0.5241795218757987\n",
            "[18.705800198552684, 20.29029901213864, 0.7195383710390558, 0.5241795218757987, 0.6540218570459546]\n",
            "ia\n",
            "Error Muestras Entrenamiento: 18.786156947439085\n",
            "Error Muestras Test: 19.937351939588776\n",
            "R2 Muestras Entrenamiento: 0.7171235700826996\n",
            "R2 Muestras Test: 0.540589216230545\n",
            "[18.786156947439085, 19.937351939588776, 0.7171235700826996, 0.540589216230545, 0.6509560163976693]\n",
            "sgv-5\n",
            "Error Muestras Entrenamiento: 18.66209999373827\n",
            "Error Muestras Test: 20.117418577433607\n",
            "R2 Muestras Entrenamiento: 0.7208472606977495\n",
            "R2 Muestras Test: 0.5322532923871972\n",
            "[18.66209999373827, 20.117418577433607, 0.7208472606977495, 0.5322532923871972, 0.6553531790837672]\n",
            "Week\n",
            "Error Muestras Entrenamiento: 18.796830934760212\n",
            "Error Muestras Test: 19.98593902233833\n",
            "R2 Muestras Entrenamiento: 0.7168020272331199\n",
            "R2 Muestras Test: 0.5383473309129376\n",
            "[18.796830934760212, 19.98593902233833, 0.7168020272331199, 0.5383473309129376, 0.6535620734344351]\n",
            "Day of week (number)\n",
            "Error Muestras Entrenamiento: 18.783423939278848\n",
            "Error Muestras Test: 19.914311171073223\n",
            "R2 Muestras Entrenamiento: 0.7172058697630388\n",
            "R2 Muestras Test: 0.5416504465413413\n",
            "[18.783423939278848, 19.914311171073223, 0.7172058697630388, 0.5416504465413413, 0.64925645863591]\n",
            "bolusiob\n",
            "Error Muestras Entrenamiento: 18.802596578448465\n",
            "Error Muestras Test: 20.081853695162387\n",
            "R2 Muestras Entrenamiento: 0.7166282671954746\n",
            "R2 Muestras Test: 0.5339056566795469\n",
            "[18.802596578448465, 20.081853695162387, 0.7166282671954746, 0.5339056566795469, 0.6505368681196652]\n"
          ],
          "name": "stdout"
        }
      ]
    },
    {
      "cell_type": "code",
      "metadata": {
        "id": "oWDY1eieJfu6",
        "colab_type": "code",
        "colab": {}
      },
      "source": [
        "reset_rf_samples()"
      ],
      "execution_count": 0,
      "outputs": []
    },
    {
      "cell_type": "code",
      "metadata": {
        "id": "yF_wjcJrOyUJ",
        "colab_type": "code",
        "outputId": "e9ff6931-f7b9-4506-f95e-2e7c1b1c7f1b",
        "colab": {
          "base_uri": "https://localhost:8080/",
          "height": 105
        }
      },
      "source": [
        "df_subs = df_keep.drop(['bolusiob','Day of week (number)','Week','sgv-5','ia','Hour'], axis=1)\n",
        "X_train, X_valid = split_vals(df_subs, n_trn)\n",
        "model = RandomForestRegressor(n_estimators=25, min_samples_leaf=20, n_jobs=-1, max_depth=11, oob_score=True, max_features=0.5)\n",
        "model.fit(X_train, y_train)\n",
        "print_score(model)"
      ],
      "execution_count": 0,
      "outputs": [
        {
          "output_type": "stream",
          "text": [
            "Error Muestras Entrenamiento: 19.338009360982642\n",
            "Error Muestras Test: 20.2916854843928\n",
            "R2 Muestras Entrenamiento: 0.7002602077555196\n",
            "R2 Muestras Test: 0.5241144923333432\n",
            "[19.338009360982642, 20.2916854843928, 0.7002602077555196, 0.5241144923333432, 0.6479966031356655]\n"
          ],
          "name": "stdout"
        }
      ]
    },
    {
      "cell_type": "markdown",
      "metadata": {
        "id": "kxvTSXSRvRj7",
        "colab_type": "text"
      },
      "source": [
        ""
      ]
    },
    {
      "cell_type": "code",
      "metadata": {
        "id": "7j1rPS982e8_",
        "colab_type": "code",
        "outputId": "7b748bf2-2d0b-4912-88a1-6c76f4952daa",
        "colab": {
          "base_uri": "https://localhost:8080/",
          "height": 432
        }
      },
      "source": [
        "plot_fi(rf_feat_importance(model, X_train));"
      ],
      "execution_count": 0,
      "outputs": [
        {
          "output_type": "display_data",
          "data": {
            "image/png": "[encoded data removed]",
            "text/plain": [
              "<Figure size 864x504 with 1 Axes>"
            ]
          },
          "metadata": {
            "tags": []
          }
        }
      ]
    },
    {
      "cell_type": "code",
      "metadata": {
        "id": "ra3Mfd7GUu4e",
        "colab_type": "code",
        "outputId": "08e4f8b6-c427-430b-b62c-863977f55792",
        "colab": {
          "base_uri": "https://localhost:8080/",
          "height": 597
        }
      },
      "source": [
        "draw_tree(model.estimators_[0], X_train, precision=3)"
      ],
      "execution_count": 0,
      "outputs": [
        {
          "output_type": "display_data",
          "data": {
            "text/plain": [
              "<graphviz.files.Source at 0x7fa6a306bb38>"
            ],
            "image/svg+xml": "<?xml version=\"1.0\" encoding=\"UTF-8\" standalone=\"no\"?>\n<!DOCTYPE svg PUBLIC \"-//W3C//DTD SVG 1.1//EN\"\n \"http://www.w3.org/Graphics/SVG/1.1/DTD/svg11.dtd\">\n<!-- Generated by graphviz version 2.40.1 (20161225.0304)\n -->\n<!-- Title: Tree Pages: 1 -->\n<svg width=\"720pt\" height=\"432pt\"\n viewBox=\"0.00 0.00 720.00 432.30\" xmlns=\"http://www.w3.org/2000/svg\" xmlns:xlink=\"http://www.w3.org/1999/xlink\">\n<g id=\"graph0\" class=\"graph\" transform=\"scale(.0923 .0923) rotate(0) translate(4 4682)\">\n<title>Tree</title>\n<polygon fill=\"#ffffff\" stroke=\"transparent\" points=\"-4,4 -4,-4682 7800.6667,-4682 7800.6667,4 -4,4\"/>\n<!-- 0 -->\n<g id=\"node1\" class=\"node\">\n<title>0</title>\n<polygon fill=\"#f2c19d\" stroke=\"#000000\" points=\"259.1667,-1916.5 148.1667,-1916.5 148.1667,-1848.5 259.1667,-1848.5 259.1667,-1916.5\"/>\n<text text-anchor=\"start\" x=\"157.1667\" y=\"-1901.3\" font-family=\"Times,serif\" font-size=\"14.00\" fill=\"#000000\">insulin&#45;2 ≤ 87.5</text>\n<text text-anchor=\"start\" x=\"156.1667\" y=\"-1886.3\" font-family=\"Times,serif\" font-size=\"14.00\" fill=\"#000000\">mse = 1291.458</text>\n<text text-anchor=\"start\" x=\"158.1667\" y=\"-1871.3\" font-family=\"Times,serif\" font-size=\"14.00\" fill=\"#000000\">samples = 3503</text>\n<text text-anchor=\"start\" x=\"159.6667\" y=\"-1856.3\" font-family=\"Times,serif\" font-size=\"14.00\" fill=\"#000000\">value = 69.253</text>\n</g>\n<!-- 1 -->\n<g id=\"node2\" class=\"node\">\n<title>1</title>\n<polygon fill=\"#f5ccaf\" stroke=\"#000000\" points=\"792.1667,-2237.5 685.1667,-2237.5 685.1667,-2169.5 792.1667,-2169.5 792.1667,-2237.5\"/>\n<text text-anchor=\"start\" x=\"697.6667\" y=\"-2222.3\" font-family=\"Times,serif\" font-size=\"14.00\" fill=\"#000000\">deltasgv ≤ 1.5</text>\n<text text-anchor=\"start\" x=\"694.6667\" y=\"-2207.3\" font-family=\"Times,serif\" font-size=\"14.00\" fill=\"#000000\">mse = 955.476</text>\n<text text-anchor=\"start\" x=\"693.1667\" y=\"-2192.3\" font-family=\"Times,serif\" font-size=\"14.00\" fill=\"#000000\">samples = 2361</text>\n<text text-anchor=\"start\" x=\"694.6667\" y=\"-2177.3\" font-family=\"Times,serif\" font-size=\"14.00\" fill=\"#000000\">value = 56.498</text>\n</g>\n<!-- 0&#45;&gt;1 -->\n<g id=\"edge1\" class=\"edge\">\n<title>0&#45;&gt;1</title>\n<path fill=\"none\" stroke=\"#000000\" d=\"M259.407,-1915.9442C360.0178,-1976.3107 571.2573,-2103.0544 676.4288,-2166.1573\"/>\n<polygon fill=\"#000000\" stroke=\"#000000\" points=\"674.6667,-2169.1817 685.0424,-2171.3254 678.2682,-2163.1792 674.6667,-2169.1817\"/>\n<text text-anchor=\"middle\" x=\"660.7888\" y=\"-2173.6888\" font-family=\"Times,serif\" font-size=\"14.00\" fill=\"#000000\">True</text>\n</g>\n<!-- 182 -->\n<g id=\"node183\" class=\"node\">\n<title>182</title>\n<polygon fill=\"#edaa79\" stroke=\"#000000\" points=\"793.1667,-1266.5 684.1667,-1266.5 684.1667,-1198.5 793.1667,-1198.5 793.1667,-1266.5\"/>\n<text text-anchor=\"start\" x=\"692.1667\" y=\"-1251.3\" font-family=\"Times,serif\" font-size=\"14.00\" fill=\"#000000\">insulin&#45;1 ≤ 87.5</text>\n<text text-anchor=\"start\" x=\"694.6667\" y=\"-1236.3\" font-family=\"Times,serif\" font-size=\"14.00\" fill=\"#000000\">mse = 984.526</text>\n<text text-anchor=\"start\" x=\"693.1667\" y=\"-1221.3\" font-family=\"Times,serif\" font-size=\"14.00\" fill=\"#000000\">samples = 1142</text>\n<text text-anchor=\"start\" x=\"694.6667\" y=\"-1206.3\" font-family=\"Times,serif\" font-size=\"14.00\" fill=\"#000000\">value = 94.837</text>\n</g>\n<!-- 0&#45;&gt;182 -->\n<g id=\"edge182\" class=\"edge\">\n<title>0&#45;&gt;182</title>\n<path fill=\"none\" stroke=\"#000000\" d=\"M231.6773,-1848.4684C321.9459,-1738.7962 605.0902,-1394.7891 704.0839,-1274.5165\"/>\n<polygon fill=\"#000000\" stroke=\"#000000\" points=\"706.9587,-1276.5312 710.6114,-1266.5859 701.554,-1272.0826 706.9587,-1276.5312\"/>\n<text text-anchor=\"middle\" x=\"685.7283\" y=\"-1265.3007\" font-family=\"Times,serif\" font-size=\"14.00\" fill=\"#000000\">False</text>\n</g>\n<!-- 2 -->\n<g id=\"node3\" class=\"node\">\n<title>2</title>\n<polygon fill=\"#f6d4bb\" stroke=\"#000000\" points=\"1331.1667,-3145.5 1222.1667,-3145.5 1222.1667,-3077.5 1331.1667,-3077.5 1331.1667,-3145.5\"/>\n<text text-anchor=\"start\" x=\"1230.1667\" y=\"-3130.3\" font-family=\"Times,serif\" font-size=\"14.00\" fill=\"#000000\">insulin&#45;1 ≤ 37.5</text>\n<text text-anchor=\"start\" x=\"1232.6667\" y=\"-3115.3\" font-family=\"Times,serif\" font-size=\"14.00\" fill=\"#000000\">mse = 733.186</text>\n<text text-anchor=\"start\" x=\"1231.1667\" y=\"-3100.3\" font-family=\"Times,serif\" font-size=\"14.00\" fill=\"#000000\">samples = 1513</text>\n<text text-anchor=\"start\" x=\"1232.6667\" y=\"-3085.3\" font-family=\"Times,serif\" font-size=\"14.00\" fill=\"#000000\">value = 48.037</text>\n</g>\n<!-- 1&#45;&gt;2 -->\n<g id=\"edge2\" class=\"edge\">\n<title>1&#45;&gt;2</title>\n<path fill=\"none\" stroke=\"#000000\" d=\"M758.9372,-2237.7112C842.3308,-2378.4574 1158.8771,-2912.7028 1251.2301,-3068.57\"/>\n<polygon fill=\"#000000\" stroke=\"#000000\" points=\"1248.3701,-3070.6091 1256.4787,-3077.4282 1254.3923,-3067.0408 1248.3701,-3070.6091\"/>\n</g>\n<!-- 119 -->\n<g id=\"node120\" class=\"node\">\n<title>119</title>\n<polygon fill=\"#f2bf9a\" stroke=\"#000000\" points=\"1328.6667,-2237.5 1224.6667,-2237.5 1224.6667,-2169.5 1328.6667,-2169.5 1328.6667,-2237.5\"/>\n<text text-anchor=\"start\" x=\"1241.6667\" y=\"-2222.3\" font-family=\"Times,serif\" font-size=\"14.00\" fill=\"#000000\">sgv ≤ 109.5</text>\n<text text-anchor=\"start\" x=\"1232.6667\" y=\"-2207.3\" font-family=\"Times,serif\" font-size=\"14.00\" fill=\"#000000\">mse = 994.167</text>\n<text text-anchor=\"start\" x=\"1234.6667\" y=\"-2192.3\" font-family=\"Times,serif\" font-size=\"14.00\" fill=\"#000000\">samples = 848</text>\n<text text-anchor=\"start\" x=\"1232.6667\" y=\"-2177.3\" font-family=\"Times,serif\" font-size=\"14.00\" fill=\"#000000\">value = 71.778</text>\n</g>\n<!-- 1&#45;&gt;119 -->\n<g id=\"edge119\" class=\"edge\">\n<title>1&#45;&gt;119</title>\n<path fill=\"none\" stroke=\"#000000\" d=\"M792.2191,-2203.5C892.4053,-2203.5 1107.6567,-2203.5 1214.2414,-2203.5\"/>\n<polygon fill=\"#000000\" stroke=\"#000000\" points=\"1214.5194,-2207.0001 1224.5194,-2203.5 1214.5194,-2200.0001 1214.5194,-2207.0001\"/>\n</g>\n<!-- 3 -->\n<g id=\"node4\" class=\"node\">\n<title>3</title>\n<polygon fill=\"#f9e2d1\" stroke=\"#000000\" points=\"1873.1667,-4124.5 1764.1667,-4124.5 1764.1667,-4056.5 1873.1667,-4056.5 1873.1667,-4124.5\"/>\n<text text-anchor=\"start\" x=\"1772.1667\" y=\"-4109.3\" font-family=\"Times,serif\" font-size=\"14.00\" fill=\"#000000\">insulin&#45;1 ≤ 12.5</text>\n<text text-anchor=\"start\" x=\"1774.6667\" y=\"-4094.3\" font-family=\"Times,serif\" font-size=\"14.00\" fill=\"#000000\">mse = 454.244</text>\n<text text-anchor=\"start\" x=\"1776.6667\" y=\"-4079.3\" font-family=\"Times,serif\" font-size=\"14.00\" fill=\"#000000\">samples = 586</text>\n<text text-anchor=\"start\" x=\"1774.6667\" y=\"-4064.3\" font-family=\"Times,serif\" font-size=\"14.00\" fill=\"#000000\">value = 32.636</text>\n</g>\n<!-- 2&#45;&gt;3 -->\n<g id=\"edge3\" class=\"edge\">\n<title>2&#45;&gt;3</title>\n<path fill=\"none\" stroke=\"#000000\" d=\"M1295.6389,-3145.7691C1377.8824,-3294.3233 1703.5372,-3882.5447 1794.7873,-4047.3674\"/>\n<polygon fill=\"#000000\" stroke=\"#000000\" points=\"1791.8025,-4049.2023 1799.7082,-4056.2558 1797.9266,-4045.8118 1791.8025,-4049.2023\"/>\n</g>\n<!-- 48 -->\n<g id=\"node49\" class=\"node\">\n<title>48</title>\n<polygon fill=\"#f4cbad\" stroke=\"#000000\" points=\"1870.6667,-3145.5 1766.6667,-3145.5 1766.6667,-3077.5 1870.6667,-3077.5 1870.6667,-3145.5\"/>\n<text text-anchor=\"start\" x=\"1783.6667\" y=\"-3130.3\" font-family=\"Times,serif\" font-size=\"14.00\" fill=\"#000000\">sgv ≤ 144.5</text>\n<text text-anchor=\"start\" x=\"1774.6667\" y=\"-3115.3\" font-family=\"Times,serif\" font-size=\"14.00\" fill=\"#000000\">mse = 654.559</text>\n<text text-anchor=\"start\" x=\"1776.6667\" y=\"-3100.3\" font-family=\"Times,serif\" font-size=\"14.00\" fill=\"#000000\">samples = 927</text>\n<text text-anchor=\"start\" x=\"1774.6667\" y=\"-3085.3\" font-family=\"Times,serif\" font-size=\"14.00\" fill=\"#000000\">value = 58.363</text>\n</g>\n<!-- 2&#45;&gt;48 -->\n<g id=\"edge48\" class=\"edge\">\n<title>2&#45;&gt;48</title>\n<path fill=\"none\" stroke=\"#000000\" d=\"M1331.368,-3111.5C1432.6862,-3111.5 1648.9481,-3111.5 1755.9873,-3111.5\"/>\n<polygon fill=\"#000000\" stroke=\"#000000\" points=\"1756.3088,-3115.0001 1766.3088,-3111.5 1756.3087,-3108.0001 1756.3088,-3115.0001\"/>\n</g>\n<!-- 4 -->\n<g id=\"node5\" class=\"node\">\n<title>4</title>\n<polygon fill=\"#fef8f4\" stroke=\"#000000\" points=\"2479.6667,-4433.5 2375.6667,-4433.5 2375.6667,-4365.5 2479.6667,-4365.5 2479.6667,-4433.5\"/>\n<text text-anchor=\"start\" x=\"2386.6667\" y=\"-4418.3\" font-family=\"Times,serif\" font-size=\"14.00\" fill=\"#000000\">sgv&#45;1 ≤ 128.5</text>\n<text text-anchor=\"start\" x=\"2383.6667\" y=\"-4403.3\" font-family=\"Times,serif\" font-size=\"14.00\" fill=\"#000000\">mse = 617.484</text>\n<text text-anchor=\"start\" x=\"2389.6667\" y=\"-4388.3\" font-family=\"Times,serif\" font-size=\"14.00\" fill=\"#000000\">samples = 69</text>\n<text text-anchor=\"start\" x=\"2387.1667\" y=\"-4373.3\" font-family=\"Times,serif\" font-size=\"14.00\" fill=\"#000000\">value = 7.992</text>\n</g>\n<!-- 3&#45;&gt;4 -->\n<g id=\"edge4\" class=\"edge\">\n<title>3&#45;&gt;4</title>\n<path fill=\"none\" stroke=\"#000000\" d=\"M1873.2473,-4118.1936C1986.7786,-4175.7982 2247.6735,-4308.1734 2366.5925,-4368.5116\"/>\n<polygon fill=\"#000000\" stroke=\"#000000\" points=\"2365.0911,-4371.6746 2375.5926,-4373.0782 2368.2585,-4365.4321 2365.0911,-4371.6746\"/>\n</g>\n<!-- 9 -->\n<g id=\"node10\" class=\"node\">\n<title>9</title>\n<polygon fill=\"#f8decc\" stroke=\"#000000\" points=\"2479.6667,-4124.5 2375.6667,-4124.5 2375.6667,-4056.5 2479.6667,-4056.5 2479.6667,-4124.5\"/>\n<text text-anchor=\"start\" x=\"2392.6667\" y=\"-4109.3\" font-family=\"Times,serif\" font-size=\"14.00\" fill=\"#000000\">sgv ≤ 125.5</text>\n<text text-anchor=\"start\" x=\"2383.6667\" y=\"-4094.3\" font-family=\"Times,serif\" font-size=\"14.00\" fill=\"#000000\">mse = 328.526</text>\n<text text-anchor=\"start\" x=\"2385.6667\" y=\"-4079.3\" font-family=\"Times,serif\" font-size=\"14.00\" fill=\"#000000\">samples = 517</text>\n<text text-anchor=\"start\" x=\"2383.6667\" y=\"-4064.3\" font-family=\"Times,serif\" font-size=\"14.00\" fill=\"#000000\">value = 36.241</text>\n</g>\n<!-- 3&#45;&gt;9 -->\n<g id=\"edge9\" class=\"edge\">\n<title>3&#45;&gt;9</title>\n<path fill=\"none\" stroke=\"#000000\" d=\"M1873.2473,-4090.5C1986.4374,-4090.5 2246.1063,-4090.5 2365.5162,-4090.5\"/>\n<polygon fill=\"#000000\" stroke=\"#000000\" points=\"2365.5926,-4094.0001 2375.5926,-4090.5 2365.5925,-4087.0001 2365.5926,-4094.0001\"/>\n</g>\n<!-- 5 -->\n<g id=\"node6\" class=\"node\">\n<title>5</title>\n<polygon fill=\"#fffdfb\" stroke=\"#000000\" points=\"3235.1667,-4515.5 3062.1667,-4515.5 3062.1667,-4447.5 3235.1667,-4447.5 3235.1667,-4515.5\"/>\n<text text-anchor=\"start\" x=\"3070.1667\" y=\"-4500.3\" font-family=\"Times,serif\" font-size=\"14.00\" fill=\"#000000\">prevmeandeltasgv ≤ &#45;2.125</text>\n<text text-anchor=\"start\" x=\"3104.6667\" y=\"-4485.3\" font-family=\"Times,serif\" font-size=\"14.00\" fill=\"#000000\">mse = 121.631</text>\n<text text-anchor=\"start\" x=\"3110.6667\" y=\"-4470.3\" font-family=\"Times,serif\" font-size=\"14.00\" fill=\"#000000\">samples = 47</text>\n<text text-anchor=\"start\" x=\"3108.1667\" y=\"-4455.3\" font-family=\"Times,serif\" font-size=\"14.00\" fill=\"#000000\">value = 2.564</text>\n</g>\n<!-- 4&#45;&gt;5 -->\n<g id=\"edge5\" class=\"edge\">\n<title>4&#45;&gt;5</title>\n<path fill=\"none\" stroke=\"#000000\" d=\"M2479.8092,-4405.4302C2599.9291,-4419.0916 2897.6524,-4452.9519 3052.1645,-4470.5247\"/>\n<polygon fill=\"#000000\" stroke=\"#000000\" points=\"3051.8,-4474.0057 3062.1315,-4471.6583 3052.591,-4467.0506 3051.8,-4474.0057\"/>\n</g>\n<!-- 8 -->\n<g id=\"node9\" class=\"node\">\n<title>8</title>\n<polygon fill=\"#fcefe6\" stroke=\"#000000\" points=\"3204.1667,-4426 3093.1667,-4426 3093.1667,-4373 3204.1667,-4373 3204.1667,-4426\"/>\n<text text-anchor=\"start\" x=\"3101.1667\" y=\"-4410.8\" font-family=\"Times,serif\" font-size=\"14.00\" fill=\"#000000\">mse = 1351.692</text>\n<text text-anchor=\"start\" x=\"3110.6667\" y=\"-4395.8\" font-family=\"Times,serif\" font-size=\"14.00\" fill=\"#000000\">samples = 22</text>\n<text text-anchor=\"start\" x=\"3104.6667\" y=\"-4380.8\" font-family=\"Times,serif\" font-size=\"14.00\" fill=\"#000000\">value = 17.614</text>\n</g>\n<!-- 4&#45;&gt;8 -->\n<g id=\"edge8\" class=\"edge\">\n<title>4&#45;&gt;8</title>\n<path fill=\"none\" stroke=\"#000000\" d=\"M2479.8092,-4399.5C2608.4056,-4399.5 2940.5553,-4399.5 3082.6225,-4399.5\"/>\n<polygon fill=\"#000000\" stroke=\"#000000\" points=\"3082.9249,-4403.0001 3092.9249,-4399.5 3082.9248,-4396.0001 3082.9249,-4403.0001\"/>\n</g>\n<!-- 6 -->\n<g id=\"node7\" class=\"node\">\n<title>6</title>\n<polygon fill=\"#fefaf7\" stroke=\"#000000\" points=\"3966.6667,-4579 3862.6667,-4579 3862.6667,-4526 3966.6667,-4526 3966.6667,-4579\"/>\n<text text-anchor=\"start\" x=\"3870.6667\" y=\"-4563.8\" font-family=\"Times,serif\" font-size=\"14.00\" fill=\"#000000\">mse = 253.061</text>\n<text text-anchor=\"start\" x=\"3876.6667\" y=\"-4548.8\" font-family=\"Times,serif\" font-size=\"14.00\" fill=\"#000000\">samples = 20</text>\n<text text-anchor=\"start\" x=\"3874.1667\" y=\"-4533.8\" font-family=\"Times,serif\" font-size=\"14.00\" fill=\"#000000\">value = 5.714</text>\n</g>\n<!-- 5&#45;&gt;6 -->\n<g id=\"edge6\" class=\"edge\">\n<title>5&#45;&gt;6</title>\n<path fill=\"none\" stroke=\"#000000\" d=\"M3235.4189,-4489.541C3391.3643,-4503.9955 3715.4938,-4534.0388 3851.957,-4546.6875\"/>\n<polygon fill=\"#000000\" stroke=\"#000000\" points=\"3851.9537,-4550.2021 3862.234,-4547.6401 3852.5998,-4543.232 3851.9537,-4550.2021\"/>\n</g>\n<!-- 7 -->\n<g id=\"node8\" class=\"node\">\n<title>7</title>\n<polygon fill=\"#ffffff\" stroke=\"#000000\" points=\"3960.6667,-4508 3868.6667,-4508 3868.6667,-4455 3960.6667,-4455 3960.6667,-4508\"/>\n<text text-anchor=\"start\" x=\"3885.6667\" y=\"-4492.8\" font-family=\"Times,serif\" font-size=\"14.00\" fill=\"#000000\">mse = 0.0</text>\n<text text-anchor=\"start\" x=\"3876.6667\" y=\"-4477.8\" font-family=\"Times,serif\" font-size=\"14.00\" fill=\"#000000\">samples = 27</text>\n<text text-anchor=\"start\" x=\"3881.6667\" y=\"-4462.8\" font-family=\"Times,serif\" font-size=\"14.00\" fill=\"#000000\">value = 0.0</text>\n</g>\n<!-- 5&#45;&gt;7 -->\n<g id=\"edge7\" class=\"edge\">\n<title>5&#45;&gt;7</title>\n<path fill=\"none\" stroke=\"#000000\" d=\"M3235.4189,-4481.5C3393.6869,-4481.5 3725.1862,-4481.5 3857.9283,-4481.5\"/>\n<polygon fill=\"#000000\" stroke=\"#000000\" points=\"3858.2681,-4485.0001 3868.2681,-4481.5 3858.2681,-4478.0001 3858.2681,-4485.0001\"/>\n</g>\n<!-- 10 -->\n<g id=\"node11\" class=\"node\">\n<title>10</title>\n<polygon fill=\"#f9e2d2\" stroke=\"#000000\" points=\"3200.6667,-4271.5 3096.6667,-4271.5 3096.6667,-4203.5 3200.6667,-4203.5 3200.6667,-4271.5\"/>\n<text text-anchor=\"start\" x=\"3108.1667\" y=\"-4256.3\" font-family=\"Times,serif\" font-size=\"14.00\" fill=\"#000000\">sgv&#45;4 ≤ 115.5</text>\n<text text-anchor=\"start\" x=\"3104.6667\" y=\"-4241.3\" font-family=\"Times,serif\" font-size=\"14.00\" fill=\"#000000\">mse = 141.441</text>\n<text text-anchor=\"start\" x=\"3106.6667\" y=\"-4226.3\" font-family=\"Times,serif\" font-size=\"14.00\" fill=\"#000000\">samples = 313</text>\n<text text-anchor=\"start\" x=\"3104.6667\" y=\"-4211.3\" font-family=\"Times,serif\" font-size=\"14.00\" fill=\"#000000\">value = 31.858</text>\n</g>\n<!-- 9&#45;&gt;10 -->\n<g id=\"edge10\" class=\"edge\">\n<title>9&#45;&gt;10</title>\n<path fill=\"none\" stroke=\"#000000\" d=\"M2479.8092,-4101.131C2609.5101,-4127.5749 2946.276,-4196.2359 3086.2408,-4224.7724\"/>\n<polygon fill=\"#000000\" stroke=\"#000000\" points=\"3085.8749,-4228.2697 3096.3726,-4226.8381 3087.2734,-4221.4108 3085.8749,-4228.2697\"/>\n</g>\n<!-- 33 -->\n<g id=\"node34\" class=\"node\">\n<title>33</title>\n<polygon fill=\"#f7d8c2\" stroke=\"#000000\" points=\"3200.6667,-4036.5 3096.6667,-4036.5 3096.6667,-3968.5 3200.6667,-3968.5 3200.6667,-4036.5\"/>\n<text text-anchor=\"start\" x=\"3107.6667\" y=\"-4021.3\" font-family=\"Times,serif\" font-size=\"14.00\" fill=\"#000000\">sgv&#45;3 ≤ 173.5</text>\n<text text-anchor=\"start\" x=\"3104.6667\" y=\"-4006.3\" font-family=\"Times,serif\" font-size=\"14.00\" fill=\"#000000\">mse = 548.608</text>\n<text text-anchor=\"start\" x=\"3106.6667\" y=\"-3991.3\" font-family=\"Times,serif\" font-size=\"14.00\" fill=\"#000000\">samples = 204</text>\n<text text-anchor=\"start\" x=\"3104.6667\" y=\"-3976.3\" font-family=\"Times,serif\" font-size=\"14.00\" fill=\"#000000\">value = 43.281</text>\n</g>\n<!-- 9&#45;&gt;33 -->\n<g id=\"edge33\" class=\"edge\">\n<title>9&#45;&gt;33</title>\n<path fill=\"none\" stroke=\"#000000\" d=\"M2479.8092,-4084.1359C2609.5101,-4068.3055 2946.276,-4027.2023 3086.2408,-4010.1193\"/>\n<polygon fill=\"#000000\" stroke=\"#000000\" points=\"3086.8703,-4013.5685 3096.3726,-4008.8826 3086.0222,-4006.62 3086.8703,-4013.5685\"/>\n</g>\n<!-- 11 -->\n<g id=\"node12\" class=\"node\">\n<title>11</title>\n<polygon fill=\"#fae5d6\" stroke=\"#000000\" points=\"4001.1667,-4436.5 3828.1667,-4436.5 3828.1667,-4368.5 4001.1667,-4368.5 4001.1667,-4436.5\"/>\n<text text-anchor=\"start\" x=\"3836.1667\" y=\"-4421.3\" font-family=\"Times,serif\" font-size=\"14.00\" fill=\"#000000\">prevmeandeltasgv ≤ &#45;0.625</text>\n<text text-anchor=\"start\" x=\"3879.1667\" y=\"-4406.3\" font-family=\"Times,serif\" font-size=\"14.00\" fill=\"#000000\">mse = 111.8</text>\n<text text-anchor=\"start\" x=\"3873.1667\" y=\"-4391.3\" font-family=\"Times,serif\" font-size=\"14.00\" fill=\"#000000\">samples = 113</text>\n<text text-anchor=\"start\" x=\"3874.1667\" y=\"-4376.3\" font-family=\"Times,serif\" font-size=\"14.00\" fill=\"#000000\">value = 29.36</text>\n</g>\n<!-- 10&#45;&gt;11 -->\n<g id=\"edge11\" class=\"edge\">\n<title>10&#45;&gt;11</title>\n<path fill=\"none\" stroke=\"#000000\" d=\"M3200.7147,-4248.7114C3327.5325,-4276.0285 3654.0812,-4346.3687 3817.909,-4381.6579\"/>\n<polygon fill=\"#000000\" stroke=\"#000000\" points=\"3817.4691,-4385.1434 3827.9819,-4383.8277 3818.9432,-4378.3004 3817.4691,-4385.1434\"/>\n</g>\n<!-- 20 -->\n<g id=\"node21\" class=\"node\">\n<title>20</title>\n<polygon fill=\"#f9e1d0\" stroke=\"#000000\" points=\"3966.6667,-4271.5 3862.6667,-4271.5 3862.6667,-4203.5 3966.6667,-4203.5 3966.6667,-4271.5\"/>\n<text text-anchor=\"start\" x=\"3873.6667\" y=\"-4256.3\" font-family=\"Times,serif\" font-size=\"14.00\" fill=\"#000000\">deltasgv ≤ 0.5</text>\n<text text-anchor=\"start\" x=\"3870.6667\" y=\"-4241.3\" font-family=\"Times,serif\" font-size=\"14.00\" fill=\"#000000\">mse = 151.633</text>\n<text text-anchor=\"start\" x=\"3872.6667\" y=\"-4226.3\" font-family=\"Times,serif\" font-size=\"14.00\" fill=\"#000000\">samples = 200</text>\n<text text-anchor=\"start\" x=\"3870.6667\" y=\"-4211.3\" font-family=\"Times,serif\" font-size=\"14.00\" fill=\"#000000\">value = 33.114</text>\n</g>\n<!-- 10&#45;&gt;20 -->\n<g id=\"edge20\" class=\"edge\">\n<title>10&#45;&gt;20</title>\n<path fill=\"none\" stroke=\"#000000\" d=\"M3200.7147,-4237.5C3337.1828,-4237.5 3704.9356,-4237.5 3852.3222,-4237.5\"/>\n<polygon fill=\"#000000\" stroke=\"#000000\" points=\"3852.547,-4241.0001 3862.547,-4237.5 3852.547,-4234.0001 3852.547,-4241.0001\"/>\n</g>\n<!-- 12 -->\n<g id=\"node13\" class=\"node\">\n<title>12</title>\n<polygon fill=\"#fae8db\" stroke=\"#000000\" points=\"4725.6667,-4614.5 4621.6667,-4614.5 4621.6667,-4546.5 4725.6667,-4546.5 4725.6667,-4614.5\"/>\n<text text-anchor=\"start\" x=\"4630.6667\" y=\"-4599.3\" font-family=\"Times,serif\" font-size=\"14.00\" fill=\"#000000\">deltasgv ≤ &#45;0.5</text>\n<text text-anchor=\"start\" x=\"4633.6667\" y=\"-4584.3\" font-family=\"Times,serif\" font-size=\"14.00\" fill=\"#000000\">mse = 70.918</text>\n<text text-anchor=\"start\" x=\"4635.6667\" y=\"-4569.3\" font-family=\"Times,serif\" font-size=\"14.00\" fill=\"#000000\">samples = 44</text>\n<text text-anchor=\"start\" x=\"4629.6667\" y=\"-4554.3\" font-family=\"Times,serif\" font-size=\"14.00\" fill=\"#000000\">value = 25.714</text>\n</g>\n<!-- 11&#45;&gt;12 -->\n<g id=\"edge12\" class=\"edge\">\n<title>11&#45;&gt;12</title>\n<path fill=\"none\" stroke=\"#000000\" d=\"M4001.3638,-4422.8321C4156.1866,-4459.141 4476.6124,-4534.287 4611.5829,-4565.9402\"/>\n<polygon fill=\"#000000\" stroke=\"#000000\" points=\"4610.8269,-4569.3578 4621.3619,-4568.2335 4612.4252,-4562.5427 4610.8269,-4569.3578\"/>\n</g>\n<!-- 15 -->\n<g id=\"node16\" class=\"node\">\n<title>15</title>\n<polygon fill=\"#f9e2d2\" stroke=\"#000000\" points=\"4745.1667,-4456.5 4602.1667,-4456.5 4602.1667,-4388.5 4745.1667,-4388.5 4745.1667,-4456.5\"/>\n<text text-anchor=\"start\" x=\"4610.1667\" y=\"-4441.3\" font-family=\"Times,serif\" font-size=\"14.00\" fill=\"#000000\">meandeltasgv ≤ 0.625</text>\n<text text-anchor=\"start\" x=\"4629.6667\" y=\"-4426.3\" font-family=\"Times,serif\" font-size=\"14.00\" fill=\"#000000\">mse = 124.471</text>\n<text text-anchor=\"start\" x=\"4635.6667\" y=\"-4411.3\" font-family=\"Times,serif\" font-size=\"14.00\" fill=\"#000000\">samples = 69</text>\n<text text-anchor=\"start\" x=\"4629.6667\" y=\"-4396.3\" font-family=\"Times,serif\" font-size=\"14.00\" fill=\"#000000\">value = 31.863</text>\n</g>\n<!-- 11&#45;&gt;15 -->\n<g id=\"edge15\" class=\"edge\">\n<title>11&#45;&gt;15</title>\n<path fill=\"none\" stroke=\"#000000\" d=\"M4001.3638,-4404.7845C4149.1245,-4408.6781 4447.725,-4416.5463 4591.9889,-4420.3478\"/>\n<polygon fill=\"#000000\" stroke=\"#000000\" points=\"4592.0162,-4423.8496 4602.105,-4420.6143 4592.2007,-4416.852 4592.0162,-4423.8496\"/>\n</g>\n<!-- 13 -->\n<g id=\"node14\" class=\"node\">\n<title>13</title>\n<polygon fill=\"#fbebdf\" stroke=\"#000000\" points=\"5484.6667,-4678 5380.6667,-4678 5380.6667,-4625 5484.6667,-4625 5484.6667,-4678\"/>\n<text text-anchor=\"start\" x=\"5392.6667\" y=\"-4662.8\" font-family=\"Times,serif\" font-size=\"14.00\" fill=\"#000000\">mse = 51.653</text>\n<text text-anchor=\"start\" x=\"5394.6667\" y=\"-4647.8\" font-family=\"Times,serif\" font-size=\"14.00\" fill=\"#000000\">samples = 21</text>\n<text text-anchor=\"start\" x=\"5388.6667\" y=\"-4632.8\" font-family=\"Times,serif\" font-size=\"14.00\" fill=\"#000000\">value = 22.727</text>\n</g>\n<!-- 12&#45;&gt;13 -->\n<g id=\"edge13\" class=\"edge\">\n<title>12&#45;&gt;13</title>\n<path fill=\"none\" stroke=\"#000000\" d=\"M4725.8358,-4585.3801C4861.407,-4598.062 5224.4131,-4632.0191 5370.4982,-4645.6845\"/>\n<polygon fill=\"#000000\" stroke=\"#000000\" points=\"5370.3528,-4649.1861 5380.6353,-4646.6328 5371.0048,-4642.2165 5370.3528,-4649.1861\"/>\n</g>\n<!-- 14 -->\n<g id=\"node15\" class=\"node\">\n<title>14</title>\n<polygon fill=\"#fae6d7\" stroke=\"#000000\" points=\"5484.6667,-4607 5380.6667,-4607 5380.6667,-4554 5484.6667,-4554 5484.6667,-4607\"/>\n<text text-anchor=\"start\" x=\"5392.6667\" y=\"-4591.8\" font-family=\"Times,serif\" font-size=\"14.00\" fill=\"#000000\">mse = 73.046</text>\n<text text-anchor=\"start\" x=\"5394.6667\" y=\"-4576.8\" font-family=\"Times,serif\" font-size=\"14.00\" fill=\"#000000\">samples = 23</text>\n<text text-anchor=\"start\" x=\"5388.6667\" y=\"-4561.8\" font-family=\"Times,serif\" font-size=\"14.00\" fill=\"#000000\">value = 28.378</text>\n</g>\n<!-- 12&#45;&gt;14 -->\n<g id=\"edge14\" class=\"edge\">\n<title>12&#45;&gt;14</title>\n<path fill=\"none\" stroke=\"#000000\" d=\"M4725.8358,-4580.5C4861.407,-4580.5 5224.4131,-4580.5 5370.4982,-4580.5\"/>\n<polygon fill=\"#000000\" stroke=\"#000000\" points=\"5370.6353,-4584.0001 5380.6353,-4580.5 5370.6353,-4577.0001 5370.6353,-4584.0001\"/>\n</g>\n<!-- 16 -->\n<g id=\"node17\" class=\"node\">\n<title>16</title>\n<polygon fill=\"#f9e4d5\" stroke=\"#000000\" points=\"5484.6667,-4535.5 5380.6667,-4535.5 5380.6667,-4467.5 5484.6667,-4467.5 5484.6667,-4535.5\"/>\n<text text-anchor=\"start\" x=\"5391.6667\" y=\"-4520.3\" font-family=\"Times,serif\" font-size=\"14.00\" fill=\"#000000\">sgv&#45;1 ≤ 108.5</text>\n<text text-anchor=\"start\" x=\"5392.6667\" y=\"-4505.3\" font-family=\"Times,serif\" font-size=\"14.00\" fill=\"#000000\">mse = 98.858</text>\n<text text-anchor=\"start\" x=\"5394.6667\" y=\"-4490.3\" font-family=\"Times,serif\" font-size=\"14.00\" fill=\"#000000\">samples = 47</text>\n<text text-anchor=\"start\" x=\"5388.6667\" y=\"-4475.3\" font-family=\"Times,serif\" font-size=\"14.00\" fill=\"#000000\">value = 29.924</text>\n</g>\n<!-- 15&#45;&gt;16 -->\n<g id=\"edge16\" class=\"edge\">\n<title>15&#45;&gt;16</title>\n<path fill=\"none\" stroke=\"#000000\" d=\"M4745.4133,-4429.9677C4893.4036,-4445.3712 5230.352,-4480.4422 5370.1166,-4494.9895\"/>\n<polygon fill=\"#000000\" stroke=\"#000000\" points=\"5369.9243,-4498.4883 5380.2329,-4496.0425 5370.649,-4491.5259 5369.9243,-4498.4883\"/>\n</g>\n<!-- 19 -->\n<g id=\"node20\" class=\"node\">\n<title>19</title>\n<polygon fill=\"#f8dfcd\" stroke=\"#000000\" points=\"5484.6667,-4449 5380.6667,-4449 5380.6667,-4396 5484.6667,-4396 5484.6667,-4449\"/>\n<text text-anchor=\"start\" x=\"5392.6667\" y=\"-4433.8\" font-family=\"Times,serif\" font-size=\"14.00\" fill=\"#000000\">mse = 151.91</text>\n<text text-anchor=\"start\" x=\"5394.6667\" y=\"-4418.8\" font-family=\"Times,serif\" font-size=\"14.00\" fill=\"#000000\">samples = 22</text>\n<text text-anchor=\"start\" x=\"5388.6667\" y=\"-4403.8\" font-family=\"Times,serif\" font-size=\"14.00\" fill=\"#000000\">value = 35.417</text>\n</g>\n<!-- 15&#45;&gt;19 -->\n<g id=\"edge19\" class=\"edge\">\n<title>15&#45;&gt;19</title>\n<path fill=\"none\" stroke=\"#000000\" d=\"M4745.4133,-4422.5C4893.4036,-4422.5 5230.352,-4422.5 5370.1166,-4422.5\"/>\n<polygon fill=\"#000000\" stroke=\"#000000\" points=\"5370.2329,-4426.0001 5380.2329,-4422.5 5370.2329,-4419.0001 5370.2329,-4426.0001\"/>\n</g>\n<!-- 17 -->\n<g id=\"node18\" class=\"node\">\n<title>17</title>\n<polygon fill=\"#fae6d7\" stroke=\"#000000\" points=\"6244.6667,-4599 6140.6667,-4599 6140.6667,-4546 6244.6667,-4546 6244.6667,-4599\"/>\n<text text-anchor=\"start\" x=\"6152.6667\" y=\"-4583.8\" font-family=\"Times,serif\" font-size=\"14.00\" fill=\"#000000\">mse = 70.239</text>\n<text text-anchor=\"start\" x=\"6154.6667\" y=\"-4568.8\" font-family=\"Times,serif\" font-size=\"14.00\" fill=\"#000000\">samples = 25</text>\n<text text-anchor=\"start\" x=\"6148.6667\" y=\"-4553.8\" font-family=\"Times,serif\" font-size=\"14.00\" fill=\"#000000\">value = 28.226</text>\n</g>\n<!-- 16&#45;&gt;17 -->\n<g id=\"edge17\" class=\"edge\">\n<title>16&#45;&gt;17</title>\n<path fill=\"none\" stroke=\"#000000\" d=\"M5484.9045,-4506.3801C5620.6543,-4519.062 5984.1387,-4553.0191 6130.4163,-4566.6845\"/>\n<polygon fill=\"#000000\" stroke=\"#000000\" points=\"6130.2845,-4570.1873 6140.5668,-4567.6328 6130.9357,-4563.2177 6130.2845,-4570.1873\"/>\n</g>\n<!-- 18 -->\n<g id=\"node19\" class=\"node\">\n<title>18</title>\n<polygon fill=\"#f9e3d3\" stroke=\"#000000\" points=\"6244.6667,-4528 6140.6667,-4528 6140.6667,-4475 6244.6667,-4475 6244.6667,-4528\"/>\n<text text-anchor=\"start\" x=\"6149.1667\" y=\"-4512.8\" font-family=\"Times,serif\" font-size=\"14.00\" fill=\"#000000\">mse = 119.388</text>\n<text text-anchor=\"start\" x=\"6154.6667\" y=\"-4497.8\" font-family=\"Times,serif\" font-size=\"14.00\" fill=\"#000000\">samples = 22</text>\n<text text-anchor=\"start\" x=\"6148.6667\" y=\"-4482.8\" font-family=\"Times,serif\" font-size=\"14.00\" fill=\"#000000\">value = 31.429</text>\n</g>\n<!-- 16&#45;&gt;18 -->\n<g id=\"edge18\" class=\"edge\">\n<title>16&#45;&gt;18</title>\n<path fill=\"none\" stroke=\"#000000\" d=\"M5484.9045,-4501.5C5620.6543,-4501.5 5984.1387,-4501.5 6130.4163,-4501.5\"/>\n<polygon fill=\"#000000\" stroke=\"#000000\" points=\"6130.5668,-4505.0001 6140.5668,-4501.5 6130.5667,-4498.0001 6130.5668,-4505.0001\"/>\n</g>\n<!-- 21 -->\n<g id=\"node22\" class=\"node\">\n<title>21</title>\n<polygon fill=\"#f9e2d2\" stroke=\"#000000\" points=\"4725.6667,-4311.5 4621.6667,-4311.5 4621.6667,-4243.5 4725.6667,-4243.5 4725.6667,-4311.5\"/>\n<text text-anchor=\"start\" x=\"4633.1667\" y=\"-4296.3\" font-family=\"Times,serif\" font-size=\"14.00\" fill=\"#000000\">sgv&#45;1 ≤ 118.5</text>\n<text text-anchor=\"start\" x=\"4629.6667\" y=\"-4281.3\" font-family=\"Times,serif\" font-size=\"14.00\" fill=\"#000000\">mse = 124.228</text>\n<text text-anchor=\"start\" x=\"4631.6667\" y=\"-4266.3\" font-family=\"Times,serif\" font-size=\"14.00\" fill=\"#000000\">samples = 170</text>\n<text text-anchor=\"start\" x=\"4629.6667\" y=\"-4251.3\" font-family=\"Times,serif\" font-size=\"14.00\" fill=\"#000000\">value = 31.841</text>\n</g>\n<!-- 20&#45;&gt;21 -->\n<g id=\"edge21\" class=\"edge\">\n<title>20&#45;&gt;21</title>\n<path fill=\"none\" stroke=\"#000000\" d=\"M3966.8358,-4240.2494C4102.407,-4247.3941 4465.4131,-4266.5248 4611.4982,-4274.2237\"/>\n<polygon fill=\"#000000\" stroke=\"#000000\" points=\"4611.4649,-4277.7267 4621.6353,-4274.7579 4611.8334,-4270.7364 4611.4649,-4277.7267\"/>\n</g>\n<!-- 32 -->\n<g id=\"node33\" class=\"node\">\n<title>32</title>\n<polygon fill=\"#f7dac5\" stroke=\"#000000\" points=\"4725.6667,-4225 4621.6667,-4225 4621.6667,-4172 4725.6667,-4172 4725.6667,-4225\"/>\n<text text-anchor=\"start\" x=\"4629.6667\" y=\"-4209.8\" font-family=\"Times,serif\" font-size=\"14.00\" fill=\"#000000\">mse = 250.473</text>\n<text text-anchor=\"start\" x=\"4635.6667\" y=\"-4194.8\" font-family=\"Times,serif\" font-size=\"14.00\" fill=\"#000000\">samples = 30</text>\n<text text-anchor=\"start\" x=\"4629.6667\" y=\"-4179.8\" font-family=\"Times,serif\" font-size=\"14.00\" fill=\"#000000\">value = 41.304</text>\n</g>\n<!-- 20&#45;&gt;32 -->\n<g id=\"edge32\" class=\"edge\">\n<title>20&#45;&gt;32</title>\n<path fill=\"none\" stroke=\"#000000\" d=\"M3966.8358,-4234.8194C4102.407,-4227.8533 4465.4131,-4209.2008 4611.4982,-4201.6944\"/>\n<polygon fill=\"#000000\" stroke=\"#000000\" points=\"4611.8281,-4205.1822 4621.6353,-4201.1735 4611.4688,-4198.1914 4611.8281,-4205.1822\"/>\n</g>\n<!-- 22 -->\n<g id=\"node23\" class=\"node\">\n<title>22</title>\n<polygon fill=\"#fae5d6\" stroke=\"#000000\" points=\"5487.1667,-4377.5 5378.1667,-4377.5 5378.1667,-4309.5 5487.1667,-4309.5 5487.1667,-4377.5\"/>\n<text text-anchor=\"start\" x=\"5386.1667\" y=\"-4362.3\" font-family=\"Times,serif\" font-size=\"14.00\" fill=\"#000000\">insulin&#45;5 ≤ 62.5</text>\n<text text-anchor=\"start\" x=\"5392.6667\" y=\"-4347.3\" font-family=\"Times,serif\" font-size=\"14.00\" fill=\"#000000\">mse = 84.356</text>\n<text text-anchor=\"start\" x=\"5394.6667\" y=\"-4332.3\" font-family=\"Times,serif\" font-size=\"14.00\" fill=\"#000000\">samples = 78</text>\n<text text-anchor=\"start\" x=\"5388.6667\" y=\"-4317.3\" font-family=\"Times,serif\" font-size=\"14.00\" fill=\"#000000\">value = 29.021</text>\n</g>\n<!-- 21&#45;&gt;22 -->\n<g id=\"edge22\" class=\"edge\">\n<title>21&#45;&gt;22</title>\n<path fill=\"none\" stroke=\"#000000\" d=\"M4725.8358,-4282.0364C4860.5893,-4293.7541 5220.0425,-4325.0109 5367.8313,-4337.8621\"/>\n<polygon fill=\"#000000\" stroke=\"#000000\" points=\"5367.8347,-4341.3756 5378.1003,-4338.7551 5368.4411,-4334.4019 5367.8347,-4341.3756\"/>\n</g>\n<!-- 27 -->\n<g id=\"node28\" class=\"node\">\n<title>27</title>\n<polygon fill=\"#f9e0ce\" stroke=\"#000000\" points=\"5487.1667,-4291.5 5378.1667,-4291.5 5378.1667,-4223.5 5487.1667,-4223.5 5487.1667,-4291.5\"/>\n<text text-anchor=\"start\" x=\"5386.1667\" y=\"-4276.3\" font-family=\"Times,serif\" font-size=\"14.00\" fill=\"#000000\">insulin&#45;5 ≤ 62.5</text>\n<text text-anchor=\"start\" x=\"5389.1667\" y=\"-4261.3\" font-family=\"Times,serif\" font-size=\"14.00\" fill=\"#000000\">mse = 147.112</text>\n<text text-anchor=\"start\" x=\"5394.6667\" y=\"-4246.3\" font-family=\"Times,serif\" font-size=\"14.00\" fill=\"#000000\">samples = 92</text>\n<text text-anchor=\"start\" x=\"5388.6667\" y=\"-4231.3\" font-family=\"Times,serif\" font-size=\"14.00\" fill=\"#000000\">value = 34.477</text>\n</g>\n<!-- 21&#45;&gt;27 -->\n<g id=\"edge27\" class=\"edge\">\n<title>21&#45;&gt;27</title>\n<path fill=\"none\" stroke=\"#000000\" d=\"M4725.8358,-4276.1253C4860.5893,-4272.5745 5220.0425,-4263.1027 5367.8313,-4259.2084\"/>\n<polygon fill=\"#000000\" stroke=\"#000000\" points=\"5368.196,-4262.7001 5378.1003,-4258.9378 5368.0116,-4255.7026 5368.196,-4262.7001\"/>\n</g>\n<!-- 23 -->\n<g id=\"node24\" class=\"node\">\n<title>23</title>\n<polygon fill=\"#fae7d9\" stroke=\"#000000\" points=\"6244.6667,-4456.5 6140.6667,-4456.5 6140.6667,-4388.5 6244.6667,-4388.5 6244.6667,-4456.5\"/>\n<text text-anchor=\"start\" x=\"6151.6667\" y=\"-4441.3\" font-family=\"Times,serif\" font-size=\"14.00\" fill=\"#000000\">sgv&#45;4 ≤ 122.5</text>\n<text text-anchor=\"start\" x=\"6152.6667\" y=\"-4426.3\" font-family=\"Times,serif\" font-size=\"14.00\" fill=\"#000000\">mse = 50.617</text>\n<text text-anchor=\"start\" x=\"6154.6667\" y=\"-4411.3\" font-family=\"Times,serif\" font-size=\"14.00\" fill=\"#000000\">samples = 45</text>\n<text text-anchor=\"start\" x=\"6148.6667\" y=\"-4396.3\" font-family=\"Times,serif\" font-size=\"14.00\" fill=\"#000000\">value = 27.222</text>\n</g>\n<!-- 22&#45;&gt;23 -->\n<g id=\"edge23\" class=\"edge\">\n<title>22&#45;&gt;23</title>\n<path fill=\"none\" stroke=\"#000000\" d=\"M5487.324,-4349.1815C5624.928,-4363.4851 5985.0219,-4400.9159 6130.43,-4416.0307\"/>\n<polygon fill=\"#000000\" stroke=\"#000000\" points=\"6130.214,-4419.527 6140.5223,-4417.0797 6130.9378,-4412.5645 6130.214,-4419.527\"/>\n</g>\n<!-- 26 -->\n<g id=\"node27\" class=\"node\">\n<title>26</title>\n<polygon fill=\"#f9e2d2\" stroke=\"#000000\" points=\"6244.6667,-4370 6140.6667,-4370 6140.6667,-4317 6244.6667,-4317 6244.6667,-4370\"/>\n<text text-anchor=\"start\" x=\"6148.6667\" y=\"-4354.8\" font-family=\"Times,serif\" font-size=\"14.00\" fill=\"#000000\">mse = 126.824</text>\n<text text-anchor=\"start\" x=\"6154.6667\" y=\"-4339.8\" font-family=\"Times,serif\" font-size=\"14.00\" fill=\"#000000\">samples = 33</text>\n<text text-anchor=\"start\" x=\"6148.6667\" y=\"-4324.8\" font-family=\"Times,serif\" font-size=\"14.00\" fill=\"#000000\">value = 32.075</text>\n</g>\n<!-- 22&#45;&gt;26 -->\n<g id=\"edge26\" class=\"edge\">\n<title>22&#45;&gt;26</title>\n<path fill=\"none\" stroke=\"#000000\" d=\"M5487.324,-4343.5C5624.928,-4343.5 5985.0219,-4343.5 6130.43,-4343.5\"/>\n<polygon fill=\"#000000\" stroke=\"#000000\" points=\"6130.5224,-4347.0001 6140.5223,-4343.5 6130.5223,-4340.0001 6130.5224,-4347.0001\"/>\n</g>\n<!-- 24 -->\n<g id=\"node25\" class=\"node\">\n<title>24</title>\n<polygon fill=\"#fae5d6\" stroke=\"#000000\" points=\"6995.6667,-4484 6891.6667,-4484 6891.6667,-4431 6995.6667,-4431 6995.6667,-4484\"/>\n<text text-anchor=\"start\" x=\"6903.6667\" y=\"-4468.8\" font-family=\"Times,serif\" font-size=\"14.00\" fill=\"#000000\">mse = 83.613</text>\n<text text-anchor=\"start\" x=\"6905.6667\" y=\"-4453.8\" font-family=\"Times,serif\" font-size=\"14.00\" fill=\"#000000\">samples = 24</text>\n<text text-anchor=\"start\" x=\"6899.6667\" y=\"-4438.8\" font-family=\"Times,serif\" font-size=\"14.00\" fill=\"#000000\">value = 28.977</text>\n</g>\n<!-- 23&#45;&gt;24 -->\n<g id=\"edge24\" class=\"edge\">\n<title>23&#45;&gt;24</title>\n<path fill=\"none\" stroke=\"#000000\" d=\"M6244.8793,-4424.9333C6379.2821,-4431.1971 6736.7451,-4447.8565 6881.5018,-4454.6028\"/>\n<polygon fill=\"#000000\" stroke=\"#000000\" points=\"6881.3986,-4458.1017 6891.5507,-4455.0712 6881.7245,-4451.1093 6881.3986,-4458.1017\"/>\n</g>\n<!-- 25 -->\n<g id=\"node26\" class=\"node\">\n<title>25</title>\n<polygon fill=\"#fae8db\" stroke=\"#000000\" points=\"6995.6667,-4413 6891.6667,-4413 6891.6667,-4360 6995.6667,-4360 6995.6667,-4413\"/>\n<text text-anchor=\"start\" x=\"6903.6667\" y=\"-4397.8\" font-family=\"Times,serif\" font-size=\"14.00\" fill=\"#000000\">mse = 13.292</text>\n<text text-anchor=\"start\" x=\"6905.6667\" y=\"-4382.8\" font-family=\"Times,serif\" font-size=\"14.00\" fill=\"#000000\">samples = 21</text>\n<text text-anchor=\"start\" x=\"6899.6667\" y=\"-4367.8\" font-family=\"Times,serif\" font-size=\"14.00\" fill=\"#000000\">value = 25.543</text>\n</g>\n<!-- 23&#45;&gt;25 -->\n<g id=\"edge25\" class=\"edge\">\n<title>23&#45;&gt;25</title>\n<path fill=\"none\" stroke=\"#000000\" d=\"M6244.8793,-4419.9971C6379.2821,-4413.5544 6736.7451,-4396.419 6881.5018,-4389.4799\"/>\n<polygon fill=\"#000000\" stroke=\"#000000\" points=\"6881.7298,-4392.9731 6891.5507,-4388.9982 6881.3946,-4385.9812 6881.7298,-4392.9731\"/>\n</g>\n<!-- 28 -->\n<g id=\"node29\" class=\"node\">\n<title>28</title>\n<polygon fill=\"#f9e2d1\" stroke=\"#000000\" points=\"6244.6667,-4298.5 6140.6667,-4298.5 6140.6667,-4230.5 6244.6667,-4230.5 6244.6667,-4298.5\"/>\n<text text-anchor=\"start\" x=\"6151.6667\" y=\"-4283.3\" font-family=\"Times,serif\" font-size=\"14.00\" fill=\"#000000\">sgv&#45;4 ≤ 125.5</text>\n<text text-anchor=\"start\" x=\"6148.6667\" y=\"-4268.3\" font-family=\"Times,serif\" font-size=\"14.00\" fill=\"#000000\">mse = 134.425</text>\n<text text-anchor=\"start\" x=\"6154.6667\" y=\"-4253.3\" font-family=\"Times,serif\" font-size=\"14.00\" fill=\"#000000\">samples = 58</text>\n<text text-anchor=\"start\" x=\"6148.6667\" y=\"-4238.3\" font-family=\"Times,serif\" font-size=\"14.00\" fill=\"#000000\">value = 32.828</text>\n</g>\n<!-- 27&#45;&gt;28 -->\n<g id=\"edge28\" class=\"edge\">\n<title>27&#45;&gt;28</title>\n<path fill=\"none\" stroke=\"#000000\" d=\"M5487.324,-4258.0034C5624.928,-4259.2708 5985.0219,-4262.5875 6130.43,-4263.9268\"/>\n<polygon fill=\"#000000\" stroke=\"#000000\" points=\"6130.4905,-4267.4274 6140.5223,-4264.0197 6130.555,-4260.4277 6130.4905,-4267.4274\"/>\n</g>\n<!-- 31 -->\n<g id=\"node32\" class=\"node\">\n<title>31</title>\n<polygon fill=\"#f8ddca\" stroke=\"#000000\" points=\"6240.6667,-4212 6144.6667,-4212 6144.6667,-4159 6240.6667,-4159 6240.6667,-4212\"/>\n<text text-anchor=\"start\" x=\"6152.6667\" y=\"-4196.8\" font-family=\"Times,serif\" font-size=\"14.00\" fill=\"#000000\">mse = 156.25</text>\n<text text-anchor=\"start\" x=\"6154.6667\" y=\"-4181.8\" font-family=\"Times,serif\" font-size=\"14.00\" fill=\"#000000\">samples = 34</text>\n<text text-anchor=\"start\" x=\"6156.1667\" y=\"-4166.8\" font-family=\"Times,serif\" font-size=\"14.00\" fill=\"#000000\">value = 37.5</text>\n</g>\n<!-- 27&#45;&gt;31 -->\n<g id=\"edge31\" class=\"edge\">\n<title>27&#45;&gt;31</title>\n<path fill=\"none\" stroke=\"#000000\" d=\"M5487.324,-4252.3219C5626.1185,-4239.173 5991.2698,-4204.5797 6134.1558,-4191.0431\"/>\n<polygon fill=\"#000000\" stroke=\"#000000\" points=\"6134.833,-4194.4947 6144.4583,-4190.0671 6134.1728,-4187.5259 6134.833,-4194.4947\"/>\n</g>\n<!-- 29 -->\n<g id=\"node30\" class=\"node\">\n<title>29</title>\n<polygon fill=\"#f9e4d4\" stroke=\"#000000\" points=\"6995.6667,-4316 6891.6667,-4316 6891.6667,-4263 6995.6667,-4263 6995.6667,-4316\"/>\n<text text-anchor=\"start\" x=\"6899.6667\" y=\"-4300.8\" font-family=\"Times,serif\" font-size=\"14.00\" fill=\"#000000\">mse = 108.025</text>\n<text text-anchor=\"start\" x=\"6905.6667\" y=\"-4285.8\" font-family=\"Times,serif\" font-size=\"14.00\" fill=\"#000000\">samples = 24</text>\n<text text-anchor=\"start\" x=\"6899.6667\" y=\"-4270.8\" font-family=\"Times,serif\" font-size=\"14.00\" fill=\"#000000\">value = 30.556</text>\n</g>\n<!-- 28&#45;&gt;29 -->\n<g id=\"edge29\" class=\"edge\">\n<title>28&#45;&gt;29</title>\n<path fill=\"none\" stroke=\"#000000\" d=\"M6244.8793,-4266.2381C6379.2821,-4270.7122 6736.7451,-4282.6118 6881.5018,-4287.4306\"/>\n<polygon fill=\"#000000\" stroke=\"#000000\" points=\"6881.4398,-4290.9304 6891.5507,-4287.7651 6881.6727,-4283.9343 6881.4398,-4290.9304\"/>\n</g>\n<!-- 30 -->\n<g id=\"node31\" class=\"node\">\n<title>30</title>\n<polygon fill=\"#f9e0ce\" stroke=\"#000000\" points=\"6995.6667,-4245 6891.6667,-4245 6891.6667,-4192 6995.6667,-4192 6995.6667,-4245\"/>\n<text text-anchor=\"start\" x=\"6899.6667\" y=\"-4229.8\" font-family=\"Times,serif\" font-size=\"14.00\" fill=\"#000000\">mse = 148.534</text>\n<text text-anchor=\"start\" x=\"6905.6667\" y=\"-4214.8\" font-family=\"Times,serif\" font-size=\"14.00\" fill=\"#000000\">samples = 34</text>\n<text text-anchor=\"start\" x=\"6899.6667\" y=\"-4199.8\" font-family=\"Times,serif\" font-size=\"14.00\" fill=\"#000000\">value = 34.722</text>\n</g>\n<!-- 28&#45;&gt;30 -->\n<g id=\"edge30\" class=\"edge\">\n<title>28&#45;&gt;30</title>\n<path fill=\"none\" stroke=\"#000000\" d=\"M6244.8793,-4261.3019C6379.2821,-4253.0695 6736.7451,-4231.1743 6881.5018,-4222.3077\"/>\n<polygon fill=\"#000000\" stroke=\"#000000\" points=\"6881.7834,-4225.7971 6891.5507,-4221.6922 6881.3554,-4218.8102 6881.7834,-4225.7971\"/>\n</g>\n<!-- 34 -->\n<g id=\"node35\" class=\"node\">\n<title>34</title>\n<polygon fill=\"#f8dbc7\" stroke=\"#000000\" points=\"3969.1667,-4036.5 3860.1667,-4036.5 3860.1667,-3968.5 3969.1667,-3968.5 3969.1667,-4036.5\"/>\n<text text-anchor=\"start\" x=\"3868.1667\" y=\"-4021.3\" font-family=\"Times,serif\" font-size=\"14.00\" fill=\"#000000\">insulin&#45;5 ≤ 62.5</text>\n<text text-anchor=\"start\" x=\"3874.6667\" y=\"-4006.3\" font-family=\"Times,serif\" font-size=\"14.00\" fill=\"#000000\">mse = 426.41</text>\n<text text-anchor=\"start\" x=\"3872.6667\" y=\"-3991.3\" font-family=\"Times,serif\" font-size=\"14.00\" fill=\"#000000\">samples = 159</text>\n<text text-anchor=\"start\" x=\"3878.1667\" y=\"-3976.3\" font-family=\"Times,serif\" font-size=\"14.00\" fill=\"#000000\">value = 39.7</text>\n</g>\n<!-- 33&#45;&gt;34 -->\n<g id=\"edge34\" class=\"edge\">\n<title>33&#45;&gt;34</title>\n<path fill=\"none\" stroke=\"#000000\" d=\"M3200.7147,-4002.5C3336.3607,-4002.5 3700.5132,-4002.5 3849.6347,-4002.5\"/>\n<polygon fill=\"#000000\" stroke=\"#000000\" points=\"3849.9938,-4006.0001 3859.9937,-4002.5 3849.9937,-3999.0001 3849.9938,-4006.0001\"/>\n</g>\n<!-- 45 -->\n<g id=\"node46\" class=\"node\">\n<title>45</title>\n<polygon fill=\"#f5cdb0\" stroke=\"#000000\" points=\"4001.1667,-3911.5 3828.1667,-3911.5 3828.1667,-3843.5 4001.1667,-3843.5 4001.1667,-3911.5\"/>\n<text text-anchor=\"start\" x=\"3836.1667\" y=\"-3896.3\" font-family=\"Times,serif\" font-size=\"14.00\" fill=\"#000000\">prevmeandeltasgv ≤ &#45;3.375</text>\n<text text-anchor=\"start\" x=\"3870.6667\" y=\"-3881.3\" font-family=\"Times,serif\" font-size=\"14.00\" fill=\"#000000\">mse = 775.638</text>\n<text text-anchor=\"start\" x=\"3876.6667\" y=\"-3866.3\" font-family=\"Times,serif\" font-size=\"14.00\" fill=\"#000000\">samples = 45</text>\n<text text-anchor=\"start\" x=\"3870.6667\" y=\"-3851.3\" font-family=\"Times,serif\" font-size=\"14.00\" fill=\"#000000\">value = 56.071</text>\n</g>\n<!-- 33&#45;&gt;45 -->\n<g id=\"edge45\" class=\"edge\">\n<title>33&#45;&gt;45</title>\n<path fill=\"none\" stroke=\"#000000\" d=\"M3200.7147,-3994.0065C3327.5325,-3973.3117 3654.0812,-3920.0237 3817.909,-3893.2894\"/>\n<polygon fill=\"#000000\" stroke=\"#000000\" points=\"3818.6762,-3896.7106 3827.9819,-3891.6457 3817.5487,-3889.802 3818.6762,-3896.7106\"/>\n</g>\n<!-- 35 -->\n<g id=\"node36\" class=\"node\">\n<title>35</title>\n<polygon fill=\"#f9e0ce\" stroke=\"#000000\" points=\"4725.6667,-4076.5 4621.6667,-4076.5 4621.6667,-4008.5 4725.6667,-4008.5 4725.6667,-4076.5\"/>\n<text text-anchor=\"start\" x=\"4632.6667\" y=\"-4061.3\" font-family=\"Times,serif\" font-size=\"14.00\" fill=\"#000000\">sgv&#45;4 ≤ 157.0</text>\n<text text-anchor=\"start\" x=\"4629.6667\" y=\"-4046.3\" font-family=\"Times,serif\" font-size=\"14.00\" fill=\"#000000\">mse = 333.225</text>\n<text text-anchor=\"start\" x=\"4635.6667\" y=\"-4031.3\" font-family=\"Times,serif\" font-size=\"14.00\" fill=\"#000000\">samples = 76</text>\n<text text-anchor=\"start\" x=\"4629.6667\" y=\"-4016.3\" font-family=\"Times,serif\" font-size=\"14.00\" fill=\"#000000\">value = 34.504</text>\n</g>\n<!-- 34&#45;&gt;35 -->\n<g id=\"edge35\" class=\"edge\">\n<title>34&#45;&gt;35</title>\n<path fill=\"none\" stroke=\"#000000\" d=\"M3969.2521,-4005.3767C4106.675,-4012.619 4466.2952,-4031.5713 4611.5119,-4039.2244\"/>\n<polygon fill=\"#000000\" stroke=\"#000000\" points=\"4611.4206,-4042.7243 4621.591,-4039.7556 4611.789,-4035.734 4611.4206,-4042.7243\"/>\n</g>\n<!-- 40 -->\n<g id=\"node41\" class=\"node\">\n<title>40</title>\n<polygon fill=\"#f7d7c0\" stroke=\"#000000\" points=\"4725.6667,-3990.5 4621.6667,-3990.5 4621.6667,-3922.5 4725.6667,-3922.5 4725.6667,-3990.5\"/>\n<text text-anchor=\"start\" x=\"4632.6667\" y=\"-3975.3\" font-family=\"Times,serif\" font-size=\"14.00\" fill=\"#000000\">sgv&#45;1 ≤ 156.5</text>\n<text text-anchor=\"start\" x=\"4629.6667\" y=\"-3960.3\" font-family=\"Times,serif\" font-size=\"14.00\" fill=\"#000000\">mse = 464.741</text>\n<text text-anchor=\"start\" x=\"4635.6667\" y=\"-3945.3\" font-family=\"Times,serif\" font-size=\"14.00\" fill=\"#000000\">samples = 83</text>\n<text text-anchor=\"start\" x=\"4629.6667\" y=\"-3930.3\" font-family=\"Times,serif\" font-size=\"14.00\" fill=\"#000000\">value = 44.574</text>\n</g>\n<!-- 34&#45;&gt;40 -->\n<g id=\"edge40\" class=\"edge\">\n<title>34&#45;&gt;40</title>\n<path fill=\"none\" stroke=\"#000000\" d=\"M3969.2521,-3999.1918C4106.675,-3990.8631 4466.2952,-3969.068 4611.5119,-3960.267\"/>\n<polygon fill=\"#000000\" stroke=\"#000000\" points=\"4611.821,-3963.7547 4621.591,-3959.6561 4611.3975,-3956.7676 4611.821,-3963.7547\"/>\n</g>\n<!-- 36 -->\n<g id=\"node37\" class=\"node\">\n<title>36</title>\n<polygon fill=\"#f8decb\" stroke=\"#000000\" points=\"5484.6667,-4148.5 5380.6667,-4148.5 5380.6667,-4080.5 5484.6667,-4080.5 5484.6667,-4148.5\"/>\n<text text-anchor=\"start\" x=\"5397.6667\" y=\"-4133.3\" font-family=\"Times,serif\" font-size=\"14.00\" fill=\"#000000\">sgv ≤ 136.5</text>\n<text text-anchor=\"start\" x=\"5392.6667\" y=\"-4118.3\" font-family=\"Times,serif\" font-size=\"14.00\" fill=\"#000000\">mse = 412.07</text>\n<text text-anchor=\"start\" x=\"5394.6667\" y=\"-4103.3\" font-family=\"Times,serif\" font-size=\"14.00\" fill=\"#000000\">samples = 54</text>\n<text text-anchor=\"start\" x=\"5388.6667\" y=\"-4088.3\" font-family=\"Times,serif\" font-size=\"14.00\" fill=\"#000000\">value = 37.048</text>\n</g>\n<!-- 35&#45;&gt;36 -->\n<g id=\"edge36\" class=\"edge\">\n<title>35&#45;&gt;36</title>\n<path fill=\"none\" stroke=\"#000000\" d=\"M4725.8358,-4047.4489C4861.407,-4060.3094 5224.4131,-4094.7447 5370.4982,-4108.6026\"/>\n<polygon fill=\"#000000\" stroke=\"#000000\" points=\"5370.3494,-4112.1041 5380.6353,-4109.5642 5371.0106,-4105.1354 5370.3494,-4112.1041\"/>\n</g>\n<!-- 39 -->\n<g id=\"node40\" class=\"node\">\n<title>39</title>\n<polygon fill=\"#fae5d6\" stroke=\"#000000\" points=\"5484.6667,-4062 5380.6667,-4062 5380.6667,-4009 5484.6667,-4009 5484.6667,-4062\"/>\n<text text-anchor=\"start\" x=\"5389.1667\" y=\"-4046.8\" font-family=\"Times,serif\" font-size=\"14.00\" fill=\"#000000\">mse = 115.997</text>\n<text text-anchor=\"start\" x=\"5394.6667\" y=\"-4031.8\" font-family=\"Times,serif\" font-size=\"14.00\" fill=\"#000000\">samples = 22</text>\n<text text-anchor=\"start\" x=\"5388.6667\" y=\"-4016.8\" font-family=\"Times,serif\" font-size=\"14.00\" fill=\"#000000\">value = 28.947</text>\n</g>\n<!-- 35&#45;&gt;39 -->\n<g id=\"edge39\" class=\"edge\">\n<title>35&#45;&gt;39</title>\n<path fill=\"none\" stroke=\"#000000\" d=\"M4725.8358,-4042.0189C4861.407,-4040.7685 5224.4131,-4037.4207 5370.4982,-4036.0734\"/>\n<polygon fill=\"#000000\" stroke=\"#000000\" points=\"5370.668,-4039.572 5380.6353,-4035.9799 5370.6034,-4032.5723 5370.668,-4039.572\"/>\n</g>\n<!-- 37 -->\n<g id=\"node38\" class=\"node\">\n<title>37</title>\n<polygon fill=\"#f9e2d1\" stroke=\"#000000\" points=\"6244.6667,-4141 6140.6667,-4141 6140.6667,-4088 6244.6667,-4088 6244.6667,-4141\"/>\n<text text-anchor=\"start\" x=\"6149.1667\" y=\"-4125.8\" font-family=\"Times,serif\" font-size=\"14.00\" fill=\"#000000\">mse = 257.113</text>\n<text text-anchor=\"start\" x=\"6154.6667\" y=\"-4110.8\" font-family=\"Times,serif\" font-size=\"14.00\" fill=\"#000000\">samples = 33</text>\n<text text-anchor=\"start\" x=\"6148.6667\" y=\"-4095.8\" font-family=\"Times,serif\" font-size=\"14.00\" fill=\"#000000\">value = 32.843</text>\n</g>\n<!-- 36&#45;&gt;37 -->\n<g id=\"edge37\" class=\"edge\">\n<title>36&#45;&gt;37</title>\n<path fill=\"none\" stroke=\"#000000\" d=\"M5484.9045,-4114.5C5620.6543,-4114.5 5984.1387,-4114.5 6130.4163,-4114.5\"/>\n<polygon fill=\"#000000\" stroke=\"#000000\" points=\"6130.5668,-4118.0001 6140.5668,-4114.5 6130.5667,-4111.0001 6130.5668,-4118.0001\"/>\n</g>\n<!-- 38 -->\n<g id=\"node39\" class=\"node\">\n<title>38</title>\n<polygon fill=\"#f7d8c1\" stroke=\"#000000\" points=\"6244.6667,-4070 6140.6667,-4070 6140.6667,-4017 6244.6667,-4017 6244.6667,-4070\"/>\n<text text-anchor=\"start\" x=\"6148.6667\" y=\"-4054.8\" font-family=\"Times,serif\" font-size=\"14.00\" fill=\"#000000\">mse = 585.938</text>\n<text text-anchor=\"start\" x=\"6154.6667\" y=\"-4039.8\" font-family=\"Times,serif\" font-size=\"14.00\" fill=\"#000000\">samples = 21</text>\n<text text-anchor=\"start\" x=\"6152.1667\" y=\"-4024.8\" font-family=\"Times,serif\" font-size=\"14.00\" fill=\"#000000\">value = 43.75</text>\n</g>\n<!-- 36&#45;&gt;38 -->\n<g id=\"edge38\" class=\"edge\">\n<title>36&#45;&gt;38</title>\n<path fill=\"none\" stroke=\"#000000\" d=\"M5484.9045,-4109.6199C5620.6543,-4096.938 5984.1387,-4062.9809 6130.4163,-4049.3155\"/>\n<polygon fill=\"#000000\" stroke=\"#000000\" points=\"6130.9357,-4052.7823 6140.5668,-4048.3672 6130.2845,-4045.8127 6130.9357,-4052.7823\"/>\n</g>\n<!-- 41 -->\n<g id=\"node42\" class=\"node\">\n<title>41</title>\n<polygon fill=\"#f6d5bd\" stroke=\"#000000\" points=\"5484.6667,-3990.5 5380.6667,-3990.5 5380.6667,-3922.5 5484.6667,-3922.5 5484.6667,-3990.5\"/>\n<text text-anchor=\"start\" x=\"5389.6667\" y=\"-3975.3\" font-family=\"Times,serif\" font-size=\"14.00\" fill=\"#000000\">deltasgv ≤ &#45;1.5</text>\n<text text-anchor=\"start\" x=\"5389.1667\" y=\"-3960.3\" font-family=\"Times,serif\" font-size=\"14.00\" fill=\"#000000\">mse = 372.117</text>\n<text text-anchor=\"start\" x=\"5394.6667\" y=\"-3945.3\" font-family=\"Times,serif\" font-size=\"14.00\" fill=\"#000000\">samples = 62</text>\n<text text-anchor=\"start\" x=\"5388.6667\" y=\"-3930.3\" font-family=\"Times,serif\" font-size=\"14.00\" fill=\"#000000\">value = 47.165</text>\n</g>\n<!-- 40&#45;&gt;41 -->\n<g id=\"edge41\" class=\"edge\">\n<title>40&#45;&gt;41</title>\n<path fill=\"none\" stroke=\"#000000\" d=\"M4725.8358,-3956.5C4861.407,-3956.5 5224.4131,-3956.5 5370.4982,-3956.5\"/>\n<polygon fill=\"#000000\" stroke=\"#000000\" points=\"5370.6353,-3960.0001 5380.6353,-3956.5 5370.6353,-3953.0001 5370.6353,-3960.0001\"/>\n</g>\n<!-- 44 -->\n<g id=\"node45\" class=\"node\">\n<title>44</title>\n<polygon fill=\"#f8decb\" stroke=\"#000000\" points=\"5484.6667,-3904 5380.6667,-3904 5380.6667,-3851 5484.6667,-3851 5484.6667,-3904\"/>\n<text text-anchor=\"start\" x=\"5388.6667\" y=\"-3888.8\" font-family=\"Times,serif\" font-size=\"14.00\" fill=\"#000000\">mse = 663.452</text>\n<text text-anchor=\"start\" x=\"5394.6667\" y=\"-3873.8\" font-family=\"Times,serif\" font-size=\"14.00\" fill=\"#000000\">samples = 21</text>\n<text text-anchor=\"start\" x=\"5388.6667\" y=\"-3858.8\" font-family=\"Times,serif\" font-size=\"14.00\" fill=\"#000000\">value = 36.719</text>\n</g>\n<!-- 40&#45;&gt;44 -->\n<g id=\"edge44\" class=\"edge\">\n<title>40&#45;&gt;44</title>\n<path fill=\"none\" stroke=\"#000000\" d=\"M4725.8358,-3951.07C4861.407,-3936.9592 5224.4131,-3899.1759 5370.4982,-3883.9708\"/>\n<polygon fill=\"#000000\" stroke=\"#000000\" points=\"5371.0514,-3887.4322 5380.6353,-3882.9156 5370.3267,-3880.4698 5371.0514,-3887.4322\"/>\n</g>\n<!-- 42 -->\n<g id=\"node43\" class=\"node\">\n<title>42</title>\n<polygon fill=\"#f8ddc9\" stroke=\"#000000\" points=\"6244.6667,-3999 6140.6667,-3999 6140.6667,-3946 6244.6667,-3946 6244.6667,-3999\"/>\n<text text-anchor=\"start\" x=\"6148.6667\" y=\"-3983.8\" font-family=\"Times,serif\" font-size=\"14.00\" fill=\"#000000\">mse = 238.889</text>\n<text text-anchor=\"start\" x=\"6154.6667\" y=\"-3968.8\" font-family=\"Times,serif\" font-size=\"14.00\" fill=\"#000000\">samples = 23</text>\n<text text-anchor=\"start\" x=\"6148.6667\" y=\"-3953.8\" font-family=\"Times,serif\" font-size=\"14.00\" fill=\"#000000\">value = 38.333</text>\n</g>\n<!-- 41&#45;&gt;42 -->\n<g id=\"edge42\" class=\"edge\">\n<title>41&#45;&gt;42</title>\n<path fill=\"none\" stroke=\"#000000\" d=\"M5484.9045,-3957.5997C5620.6543,-3960.4576 5984.1387,-3968.1099 6130.4163,-3971.1895\"/>\n<polygon fill=\"#000000\" stroke=\"#000000\" points=\"6130.4953,-3974.6918 6140.5668,-3971.4032 6130.6427,-3967.6934 6130.4953,-3974.6918\"/>\n</g>\n<!-- 43 -->\n<g id=\"node44\" class=\"node\">\n<title>43</title>\n<polygon fill=\"#f6d1b7\" stroke=\"#000000\" points=\"6244.6667,-3928 6140.6667,-3928 6140.6667,-3875 6244.6667,-3875 6244.6667,-3928\"/>\n<text text-anchor=\"start\" x=\"6152.6667\" y=\"-3912.8\" font-family=\"Times,serif\" font-size=\"14.00\" fill=\"#000000\">mse = 381.21</text>\n<text text-anchor=\"start\" x=\"6154.6667\" y=\"-3897.8\" font-family=\"Times,serif\" font-size=\"14.00\" fill=\"#000000\">samples = 39</text>\n<text text-anchor=\"start\" x=\"6148.6667\" y=\"-3882.8\" font-family=\"Times,serif\" font-size=\"14.00\" fill=\"#000000\">value = 51.119</text>\n</g>\n<!-- 41&#45;&gt;43 -->\n<g id=\"edge43\" class=\"edge\">\n<title>41&#45;&gt;43</title>\n<path fill=\"none\" stroke=\"#000000\" d=\"M5484.9045,-3952.7196C5620.6543,-3942.8956 5984.1387,-3916.5908 6130.4163,-3906.005\"/>\n<polygon fill=\"#000000\" stroke=\"#000000\" points=\"6130.8455,-3909.4831 6140.5668,-3905.2704 6130.3402,-3902.5014 6130.8455,-3909.4831\"/>\n</g>\n<!-- 46 -->\n<g id=\"node47\" class=\"node\">\n<title>46</title>\n<polygon fill=\"#f3c4a2\" stroke=\"#000000\" points=\"4725.6667,-3904 4621.6667,-3904 4621.6667,-3851 4725.6667,-3851 4725.6667,-3904\"/>\n<text text-anchor=\"start\" x=\"4629.6667\" y=\"-3888.8\" font-family=\"Times,serif\" font-size=\"14.00\" fill=\"#000000\">mse = 750.689</text>\n<text text-anchor=\"start\" x=\"4635.6667\" y=\"-3873.8\" font-family=\"Times,serif\" font-size=\"14.00\" fill=\"#000000\">samples = 22</text>\n<text text-anchor=\"start\" x=\"4629.6667\" y=\"-3858.8\" font-family=\"Times,serif\" font-size=\"14.00\" fill=\"#000000\">value = 65.909</text>\n</g>\n<!-- 45&#45;&gt;46 -->\n<g id=\"edge46\" class=\"edge\">\n<title>45&#45;&gt;46</title>\n<path fill=\"none\" stroke=\"#000000\" d=\"M4001.3638,-3877.5C4156.0317,-3877.5 4475.9711,-3877.5 4611.1771,-3877.5\"/>\n<polygon fill=\"#000000\" stroke=\"#000000\" points=\"4611.362,-3881.0001 4621.3619,-3877.5 4611.3619,-3874.0001 4611.362,-3881.0001\"/>\n</g>\n<!-- 47 -->\n<g id=\"node48\" class=\"node\">\n<title>47</title>\n<polygon fill=\"#f6d5bc\" stroke=\"#000000\" points=\"4725.6667,-3833 4621.6667,-3833 4621.6667,-3780 4725.6667,-3780 4725.6667,-3833\"/>\n<text text-anchor=\"start\" x=\"4629.6667\" y=\"-3817.8\" font-family=\"Times,serif\" font-size=\"14.00\" fill=\"#000000\">mse = 634.587</text>\n<text text-anchor=\"start\" x=\"4635.6667\" y=\"-3802.8\" font-family=\"Times,serif\" font-size=\"14.00\" fill=\"#000000\">samples = 23</text>\n<text text-anchor=\"start\" x=\"4629.6667\" y=\"-3787.8\" font-family=\"Times,serif\" font-size=\"14.00\" fill=\"#000000\">value = 47.297</text>\n</g>\n<!-- 45&#45;&gt;47 -->\n<g id=\"edge47\" class=\"edge\">\n<title>45&#45;&gt;47</title>\n<path fill=\"none\" stroke=\"#000000\" d=\"M4001.3638,-3869.39C4156.0317,-3854.9217 4475.9711,-3824.9933 4611.1771,-3812.3455\"/>\n<polygon fill=\"#000000\" stroke=\"#000000\" points=\"4611.7314,-3815.8091 4621.3619,-3811.3928 4611.0794,-3808.8395 4611.7314,-3815.8091\"/>\n</g>\n<!-- 49 -->\n<g id=\"node50\" class=\"node\">\n<title>49</title>\n<polygon fill=\"#f6d4bb\" stroke=\"#000000\" points=\"2482.1667,-3339.5 2373.1667,-3339.5 2373.1667,-3271.5 2482.1667,-3271.5 2482.1667,-3339.5\"/>\n<text text-anchor=\"start\" x=\"2381.1667\" y=\"-3324.3\" font-family=\"Times,serif\" font-size=\"14.00\" fill=\"#000000\">insulin&#45;1 ≤ 62.5</text>\n<text text-anchor=\"start\" x=\"2383.6667\" y=\"-3309.3\" font-family=\"Times,serif\" font-size=\"14.00\" fill=\"#000000\">mse = 512.994</text>\n<text text-anchor=\"start\" x=\"2385.6667\" y=\"-3294.3\" font-family=\"Times,serif\" font-size=\"14.00\" fill=\"#000000\">samples = 475</text>\n<text text-anchor=\"start\" x=\"2387.1667\" y=\"-3279.3\" font-family=\"Times,serif\" font-size=\"14.00\" fill=\"#000000\">value = 48.49</text>\n</g>\n<!-- 48&#45;&gt;49 -->\n<g id=\"edge49\" class=\"edge\">\n<title>48&#45;&gt;49</title>\n<path fill=\"none\" stroke=\"#000000\" d=\"M1870.8529,-3128.1242C1982.0654,-3163.5515 2242.1239,-3246.3944 2363.3449,-3285.01\"/>\n<polygon fill=\"#000000\" stroke=\"#000000\" points=\"2362.2915,-3288.3477 2372.8821,-3288.0481 2364.4162,-3281.6779 2362.2915,-3288.3477\"/>\n</g>\n<!-- 86 -->\n<g id=\"node87\" class=\"node\">\n<title>86</title>\n<polygon fill=\"#f2c29f\" stroke=\"#000000\" points=\"2479.6667,-3031.5 2375.6667,-3031.5 2375.6667,-2963.5 2479.6667,-2963.5 2479.6667,-3031.5\"/>\n<text text-anchor=\"start\" x=\"2384.6667\" y=\"-3016.3\" font-family=\"Times,serif\" font-size=\"14.00\" fill=\"#000000\">deltasgv ≤ &#45;2.5</text>\n<text text-anchor=\"start\" x=\"2383.6667\" y=\"-3001.3\" font-family=\"Times,serif\" font-size=\"14.00\" fill=\"#000000\">mse = 601.618</text>\n<text text-anchor=\"start\" x=\"2385.6667\" y=\"-2986.3\" font-family=\"Times,serif\" font-size=\"14.00\" fill=\"#000000\">samples = 452</text>\n<text text-anchor=\"start\" x=\"2383.6667\" y=\"-2971.3\" font-family=\"Times,serif\" font-size=\"14.00\" fill=\"#000000\">value = 68.207</text>\n</g>\n<!-- 48&#45;&gt;86 -->\n<g id=\"edge86\" class=\"edge\">\n<title>48&#45;&gt;86</title>\n<path fill=\"none\" stroke=\"#000000\" d=\"M1870.8529,-3101.7311C1982.6821,-3080.7976 2245.0125,-3031.6914 2365.3485,-3009.1655\"/>\n<polygon fill=\"#000000\" stroke=\"#000000\" points=\"2366.316,-3012.5452 2375.5012,-3007.265 2365.028,-3005.6648 2366.316,-3012.5452\"/>\n</g>\n<!-- 50 -->\n<g id=\"node51\" class=\"node\">\n<title>50</title>\n<polygon fill=\"#f7d8c2\" stroke=\"#000000\" points=\"3203.1667,-3462.5 3094.1667,-3462.5 3094.1667,-3394.5 3203.1667,-3394.5 3203.1667,-3462.5\"/>\n<text text-anchor=\"start\" x=\"3102.1667\" y=\"-3447.3\" font-family=\"Times,serif\" font-size=\"14.00\" fill=\"#000000\">insulin&#45;5 ≤ 62.5</text>\n<text text-anchor=\"start\" x=\"3104.6667\" y=\"-3432.3\" font-family=\"Times,serif\" font-size=\"14.00\" fill=\"#000000\">mse = 405.317</text>\n<text text-anchor=\"start\" x=\"3106.6667\" y=\"-3417.3\" font-family=\"Times,serif\" font-size=\"14.00\" fill=\"#000000\">samples = 304</text>\n<text text-anchor=\"start\" x=\"3104.6667\" y=\"-3402.3\" font-family=\"Times,serif\" font-size=\"14.00\" fill=\"#000000\">value = 43.573</text>\n</g>\n<!-- 49&#45;&gt;50 -->\n<g id=\"edge50\" class=\"edge\">\n<title>49&#45;&gt;50</title>\n<path fill=\"none\" stroke=\"#000000\" d=\"M2482.4506,-3314.8459C2613.2562,-3337.1609 2943.329,-3393.4701 3083.7838,-3417.4312\"/>\n<polygon fill=\"#000000\" stroke=\"#000000\" points=\"3083.5199,-3420.9367 3093.9661,-3419.1683 3084.6971,-3414.0364 3083.5199,-3420.9367\"/>\n</g>\n<!-- 73 -->\n<g id=\"node74\" class=\"node\">\n<title>73</title>\n<polygon fill=\"#f4cbae\" stroke=\"#000000\" points=\"3200.6667,-3339.5 3096.6667,-3339.5 3096.6667,-3271.5 3200.6667,-3271.5 3200.6667,-3339.5\"/>\n<text text-anchor=\"start\" x=\"3108.1667\" y=\"-3324.3\" font-family=\"Times,serif\" font-size=\"14.00\" fill=\"#000000\">sgv&#45;1 ≤ 119.5</text>\n<text text-anchor=\"start\" x=\"3104.6667\" y=\"-3309.3\" font-family=\"Times,serif\" font-size=\"14.00\" fill=\"#000000\">mse = 584.898</text>\n<text text-anchor=\"start\" x=\"3106.6667\" y=\"-3294.3\" font-family=\"Times,serif\" font-size=\"14.00\" fill=\"#000000\">samples = 171</text>\n<text text-anchor=\"start\" x=\"3104.6667\" y=\"-3279.3\" font-family=\"Times,serif\" font-size=\"14.00\" fill=\"#000000\">value = 57.411</text>\n</g>\n<!-- 49&#45;&gt;73 -->\n<g id=\"edge73\" class=\"edge\">\n<title>49&#45;&gt;73</title>\n<path fill=\"none\" stroke=\"#000000\" d=\"M2482.4506,-3305.5C2614.0577,-3305.5 2947.3815,-3305.5 3086.3442,-3305.5\"/>\n<polygon fill=\"#000000\" stroke=\"#000000\" points=\"3086.4055,-3309.0001 3096.4055,-3305.5 3086.4055,-3302.0001 3086.4055,-3309.0001\"/>\n</g>\n<!-- 51 -->\n<g id=\"node52\" class=\"node\">\n<title>51</title>\n<polygon fill=\"#f7dac5\" stroke=\"#000000\" points=\"3966.6667,-3588.5 3862.6667,-3588.5 3862.6667,-3520.5 3966.6667,-3520.5 3966.6667,-3588.5\"/>\n<text text-anchor=\"start\" x=\"3880.1667\" y=\"-3573.3\" font-family=\"Times,serif\" font-size=\"14.00\" fill=\"#000000\">sgv ≤ 119.5</text>\n<text text-anchor=\"start\" x=\"3870.6667\" y=\"-3558.3\" font-family=\"Times,serif\" font-size=\"14.00\" fill=\"#000000\">mse = 355.456</text>\n<text text-anchor=\"start\" x=\"3872.6667\" y=\"-3543.3\" font-family=\"Times,serif\" font-size=\"14.00\" fill=\"#000000\">samples = 206</text>\n<text text-anchor=\"start\" x=\"3874.1667\" y=\"-3528.3\" font-family=\"Times,serif\" font-size=\"14.00\" fill=\"#000000\">value = 41.23</text>\n</g>\n<!-- 50&#45;&gt;51 -->\n<g id=\"edge51\" class=\"edge\">\n<title>50&#45;&gt;51</title>\n<path fill=\"none\" stroke=\"#000000\" d=\"M3203.4481,-3437.511C3342.0544,-3460.3105 3706.039,-3520.1827 3852.4008,-3544.2578\"/>\n<polygon fill=\"#000000\" stroke=\"#000000\" points=\"3852.1212,-3547.7588 3862.5567,-3545.9284 3853.2574,-3540.8516 3852.1212,-3547.7588\"/>\n</g>\n<!-- 66 -->\n<g id=\"node67\" class=\"node\">\n<title>66</title>\n<polygon fill=\"#f6d4bb\" stroke=\"#000000\" points=\"3966.6667,-3462.5 3862.6667,-3462.5 3862.6667,-3394.5 3966.6667,-3394.5 3966.6667,-3462.5\"/>\n<text text-anchor=\"start\" x=\"3873.6667\" y=\"-3447.3\" font-family=\"Times,serif\" font-size=\"14.00\" fill=\"#000000\">sgv&#45;4 ≤ 148.5</text>\n<text text-anchor=\"start\" x=\"3870.6667\" y=\"-3432.3\" font-family=\"Times,serif\" font-size=\"14.00\" fill=\"#000000\">mse = 471.649</text>\n<text text-anchor=\"start\" x=\"3876.6667\" y=\"-3417.3\" font-family=\"Times,serif\" font-size=\"14.00\" fill=\"#000000\">samples = 98</text>\n<text text-anchor=\"start\" x=\"3870.6667\" y=\"-3402.3\" font-family=\"Times,serif\" font-size=\"14.00\" fill=\"#000000\">value = 48.214</text>\n</g>\n<!-- 50&#45;&gt;66 -->\n<g id=\"edge66\" class=\"edge\">\n<title>50&#45;&gt;66</title>\n<path fill=\"none\" stroke=\"#000000\" d=\"M3203.4481,-3428.5C3342.0544,-3428.5 3706.039,-3428.5 3852.4008,-3428.5\"/>\n<polygon fill=\"#000000\" stroke=\"#000000\" points=\"3852.5567,-3432.0001 3862.5567,-3428.5 3852.5567,-3425.0001 3852.5567,-3432.0001\"/>\n</g>\n<!-- 52 -->\n<g id=\"node53\" class=\"node\">\n<title>52</title>\n<polygon fill=\"#f8ddca\" stroke=\"#000000\" points=\"4747.6667,-3706.5 4599.6667,-3706.5 4599.6667,-3638.5 4747.6667,-3638.5 4747.6667,-3706.5\"/>\n<text text-anchor=\"start\" x=\"4607.6667\" y=\"-3691.3\" font-family=\"Times,serif\" font-size=\"14.00\" fill=\"#000000\">meandeltasgv ≤ &#45;0.375</text>\n<text text-anchor=\"start\" x=\"4629.6667\" y=\"-3676.3\" font-family=\"Times,serif\" font-size=\"14.00\" fill=\"#000000\">mse = 229.301</text>\n<text text-anchor=\"start\" x=\"4632.6667\" y=\"-3661.3\" font-family=\"Times,serif\" font-size=\"14.00\" fill=\"#000000\">samples = 111</text>\n<text text-anchor=\"start\" x=\"4629.6667\" y=\"-3646.3\" font-family=\"Times,serif\" font-size=\"14.00\" fill=\"#000000\">value = 37.719</text>\n</g>\n<!-- 51&#45;&gt;52 -->\n<g id=\"edge52\" class=\"edge\">\n<title>51&#45;&gt;52</title>\n<path fill=\"none\" stroke=\"#000000\" d=\"M3966.8358,-3562.6106C4096.0417,-3582.698 4431.8269,-3634.9017 4589.5327,-3659.4199\"/>\n<polygon fill=\"#000000\" stroke=\"#000000\" points=\"4589.2399,-3662.9163 4599.6589,-3660.9942 4590.3153,-3655.9994 4589.2399,-3662.9163\"/>\n</g>\n<!-- 59 -->\n<g id=\"node60\" class=\"node\">\n<title>59</title>\n<polygon fill=\"#f7d6bf\" stroke=\"#000000\" points=\"4725.6667,-3588.5 4621.6667,-3588.5 4621.6667,-3520.5 4725.6667,-3520.5 4725.6667,-3588.5\"/>\n<text text-anchor=\"start\" x=\"4632.6667\" y=\"-3573.3\" font-family=\"Times,serif\" font-size=\"14.00\" fill=\"#000000\">sgv&#45;3 ≤ 125.5</text>\n<text text-anchor=\"start\" x=\"4629.6667\" y=\"-3558.3\" font-family=\"Times,serif\" font-size=\"14.00\" fill=\"#000000\">mse = 480.654</text>\n<text text-anchor=\"start\" x=\"4635.6667\" y=\"-3543.3\" font-family=\"Times,serif\" font-size=\"14.00\" fill=\"#000000\">samples = 95</text>\n<text text-anchor=\"start\" x=\"4629.6667\" y=\"-3528.3\" font-family=\"Times,serif\" font-size=\"14.00\" fill=\"#000000\">value = 45.709</text>\n</g>\n<!-- 51&#45;&gt;59 -->\n<g id=\"edge59\" class=\"edge\">\n<title>51&#45;&gt;59</title>\n<path fill=\"none\" stroke=\"#000000\" d=\"M3966.8358,-3554.5C4102.407,-3554.5 4465.4131,-3554.5 4611.4982,-3554.5\"/>\n<polygon fill=\"#000000\" stroke=\"#000000\" points=\"4611.6353,-3558.0001 4621.6353,-3554.5 4611.6353,-3551.0001 4611.6353,-3558.0001\"/>\n</g>\n<!-- 53 -->\n<g id=\"node54\" class=\"node\">\n<title>53</title>\n<polygon fill=\"#f8dfcc\" stroke=\"#000000\" points=\"5487.1667,-3793.5 5378.1667,-3793.5 5378.1667,-3725.5 5487.1667,-3725.5 5487.1667,-3793.5\"/>\n<text text-anchor=\"start\" x=\"5386.1667\" y=\"-3778.3\" font-family=\"Times,serif\" font-size=\"14.00\" fill=\"#000000\">insulin&#45;5 ≤ 37.5</text>\n<text text-anchor=\"start\" x=\"5388.6667\" y=\"-3763.3\" font-family=\"Times,serif\" font-size=\"14.00\" fill=\"#000000\">mse = 277.143</text>\n<text text-anchor=\"start\" x=\"5394.6667\" y=\"-3748.3\" font-family=\"Times,serif\" font-size=\"14.00\" fill=\"#000000\">samples = 40</text>\n<text text-anchor=\"start\" x=\"5388.6667\" y=\"-3733.3\" font-family=\"Times,serif\" font-size=\"14.00\" fill=\"#000000\">value = 36.066</text>\n</g>\n<!-- 52&#45;&gt;53 -->\n<g id=\"edge53\" class=\"edge\">\n<title>52&#45;&gt;53</title>\n<path fill=\"none\" stroke=\"#000000\" d=\"M4747.8247,-3681.0003C4896.1176,-3697.9983 5227.0136,-3735.9271 5367.536,-3752.0344\"/>\n<polygon fill=\"#000000\" stroke=\"#000000\" points=\"5367.3886,-3755.5404 5377.7222,-3753.202 5368.1858,-3748.5859 5367.3886,-3755.5404\"/>\n</g>\n<!-- 56 -->\n<g id=\"node57\" class=\"node\">\n<title>56</title>\n<polygon fill=\"#f8dcc9\" stroke=\"#000000\" points=\"5487.1667,-3706.5 5378.1667,-3706.5 5378.1667,-3638.5 5487.1667,-3638.5 5487.1667,-3706.5\"/>\n<text text-anchor=\"start\" x=\"5386.1667\" y=\"-3691.3\" font-family=\"Times,serif\" font-size=\"14.00\" fill=\"#000000\">insulin&#45;5 ≤ 37.5</text>\n<text text-anchor=\"start\" x=\"5388.6667\" y=\"-3676.3\" font-family=\"Times,serif\" font-size=\"14.00\" fill=\"#000000\">mse = 200.413</text>\n<text text-anchor=\"start\" x=\"5394.6667\" y=\"-3661.3\" font-family=\"Times,serif\" font-size=\"14.00\" fill=\"#000000\">samples = 71</text>\n<text text-anchor=\"start\" x=\"5388.6667\" y=\"-3646.3\" font-family=\"Times,serif\" font-size=\"14.00\" fill=\"#000000\">value = 38.636</text>\n</g>\n<!-- 52&#45;&gt;56 -->\n<g id=\"edge56\" class=\"edge\">\n<title>52&#45;&gt;56</title>\n<path fill=\"none\" stroke=\"#000000\" d=\"M4747.8247,-3672.5C4896.1176,-3672.5 5227.0136,-3672.5 5367.536,-3672.5\"/>\n<polygon fill=\"#000000\" stroke=\"#000000\" points=\"5367.7222,-3676.0001 5377.7222,-3672.5 5367.7222,-3669.0001 5367.7222,-3676.0001\"/>\n</g>\n<!-- 54 -->\n<g id=\"node55\" class=\"node\">\n<title>54</title>\n<polygon fill=\"#f8dcc9\" stroke=\"#000000\" points=\"6244.6667,-3857 6140.6667,-3857 6140.6667,-3804 6244.6667,-3804 6244.6667,-3857\"/>\n<text text-anchor=\"start\" x=\"6148.6667\" y=\"-3841.8\" font-family=\"Times,serif\" font-size=\"14.00\" fill=\"#000000\">mse = 344.353</text>\n<text text-anchor=\"start\" x=\"6154.6667\" y=\"-3826.8\" font-family=\"Times,serif\" font-size=\"14.00\" fill=\"#000000\">samples = 20</text>\n<text text-anchor=\"start\" x=\"6148.6667\" y=\"-3811.8\" font-family=\"Times,serif\" font-size=\"14.00\" fill=\"#000000\">value = 38.636</text>\n</g>\n<!-- 53&#45;&gt;54 -->\n<g id=\"edge54\" class=\"edge\">\n<title>53&#45;&gt;54</title>\n<path fill=\"none\" stroke=\"#000000\" d=\"M5487.324,-3764.6061C5624.928,-3777.4613 5985.0219,-3811.1016 6130.43,-3824.6858\"/>\n<polygon fill=\"#000000\" stroke=\"#000000\" points=\"6130.2401,-3828.1832 6140.5223,-3825.6286 6130.8913,-3821.2135 6130.2401,-3828.1832\"/>\n</g>\n<!-- 55 -->\n<g id=\"node56\" class=\"node\">\n<title>55</title>\n<polygon fill=\"#f9e1d0\" stroke=\"#000000\" points=\"6244.6667,-3786 6140.6667,-3786 6140.6667,-3733 6244.6667,-3733 6244.6667,-3786\"/>\n<text text-anchor=\"start\" x=\"6148.6667\" y=\"-3770.8\" font-family=\"Times,serif\" font-size=\"14.00\" fill=\"#000000\">mse = 180.963</text>\n<text text-anchor=\"start\" x=\"6154.6667\" y=\"-3755.8\" font-family=\"Times,serif\" font-size=\"14.00\" fill=\"#000000\">samples = 20</text>\n<text text-anchor=\"start\" x=\"6148.6667\" y=\"-3740.8\" font-family=\"Times,serif\" font-size=\"14.00\" fill=\"#000000\">value = 33.036</text>\n</g>\n<!-- 53&#45;&gt;55 -->\n<g id=\"edge55\" class=\"edge\">\n<title>53&#45;&gt;55</title>\n<path fill=\"none\" stroke=\"#000000\" d=\"M5487.324,-3759.5C5624.928,-3759.5 5985.0219,-3759.5 6130.43,-3759.5\"/>\n<polygon fill=\"#000000\" stroke=\"#000000\" points=\"6130.5224,-3763.0001 6140.5223,-3759.5 6130.5223,-3756.0001 6130.5224,-3763.0001\"/>\n</g>\n<!-- 57 -->\n<g id=\"node58\" class=\"node\">\n<title>57</title>\n<polygon fill=\"#f8dfcc\" stroke=\"#000000\" points=\"6244.6667,-3715 6140.6667,-3715 6140.6667,-3662 6244.6667,-3662 6244.6667,-3715\"/>\n<text text-anchor=\"start\" x=\"6148.6667\" y=\"-3699.8\" font-family=\"Times,serif\" font-size=\"14.00\" fill=\"#000000\">mse = 219.683</text>\n<text text-anchor=\"start\" x=\"6154.6667\" y=\"-3684.8\" font-family=\"Times,serif\" font-size=\"14.00\" fill=\"#000000\">samples = 39</text>\n<text text-anchor=\"start\" x=\"6148.6667\" y=\"-3669.8\" font-family=\"Times,serif\" font-size=\"14.00\" fill=\"#000000\">value = 35.965</text>\n</g>\n<!-- 56&#45;&gt;57 -->\n<g id=\"edge57\" class=\"edge\">\n<title>56&#45;&gt;57</title>\n<path fill=\"none\" stroke=\"#000000\" d=\"M5487.324,-3673.6507C5624.928,-3676.5476 5985.0219,-3684.1285 6130.43,-3687.1898\"/>\n<polygon fill=\"#000000\" stroke=\"#000000\" points=\"6130.4509,-3690.6909 6140.5223,-3687.4022 6130.5983,-3683.6924 6130.4509,-3690.6909\"/>\n</g>\n<!-- 58 -->\n<g id=\"node59\" class=\"node\">\n<title>58</title>\n<polygon fill=\"#f7dac4\" stroke=\"#000000\" points=\"6244.6667,-3644 6140.6667,-3644 6140.6667,-3591 6244.6667,-3591 6244.6667,-3644\"/>\n<text text-anchor=\"start\" x=\"6148.6667\" y=\"-3628.8\" font-family=\"Times,serif\" font-size=\"14.00\" fill=\"#000000\">mse = 163.759</text>\n<text text-anchor=\"start\" x=\"6154.6667\" y=\"-3613.8\" font-family=\"Times,serif\" font-size=\"14.00\" fill=\"#000000\">samples = 32</text>\n<text text-anchor=\"start\" x=\"6148.6667\" y=\"-3598.8\" font-family=\"Times,serif\" font-size=\"14.00\" fill=\"#000000\">value = 41.509</text>\n</g>\n<!-- 56&#45;&gt;58 -->\n<g id=\"edge58\" class=\"edge\">\n<title>56&#45;&gt;58</title>\n<path fill=\"none\" stroke=\"#000000\" d=\"M5487.324,-3668.5445C5624.928,-3658.5864 5985.0219,-3632.5269 6130.43,-3622.004\"/>\n<polygon fill=\"#000000\" stroke=\"#000000\" points=\"6130.8011,-3625.4864 6140.5223,-3621.2736 6130.2958,-3618.5046 6130.8011,-3625.4864\"/>\n</g>\n<!-- 60 -->\n<g id=\"node61\" class=\"node\">\n<title>60</title>\n<polygon fill=\"#f4cbad\" stroke=\"#000000\" points=\"5484.6667,-3618 5380.6667,-3618 5380.6667,-3565 5484.6667,-3565 5484.6667,-3618\"/>\n<text text-anchor=\"start\" x=\"5388.6667\" y=\"-3602.8\" font-family=\"Times,serif\" font-size=\"14.00\" fill=\"#000000\">mse = 523.504</text>\n<text text-anchor=\"start\" x=\"5394.6667\" y=\"-3587.8\" font-family=\"Times,serif\" font-size=\"14.00\" fill=\"#000000\">samples = 28</text>\n<text text-anchor=\"start\" x=\"5388.6667\" y=\"-3572.8\" font-family=\"Times,serif\" font-size=\"14.00\" fill=\"#000000\">value = 58.333</text>\n</g>\n<!-- 59&#45;&gt;60 -->\n<g id=\"edge60\" class=\"edge\">\n<title>59&#45;&gt;60</title>\n<path fill=\"none\" stroke=\"#000000\" d=\"M4725.8358,-3557.0432C4861.407,-3563.652 5224.4131,-3581.348 5370.4982,-3588.4694\"/>\n<polygon fill=\"#000000\" stroke=\"#000000\" points=\"5370.4767,-3591.9724 5380.6353,-3588.9636 5370.8176,-3584.9807 5370.4767,-3591.9724\"/>\n</g>\n<!-- 61 -->\n<g id=\"node62\" class=\"node\">\n<title>61</title>\n<polygon fill=\"#f7dbc6\" stroke=\"#000000\" points=\"5484.6667,-3546.5 5380.6667,-3546.5 5380.6667,-3478.5 5484.6667,-3478.5 5484.6667,-3546.5\"/>\n<text text-anchor=\"start\" x=\"5397.6667\" y=\"-3531.3\" font-family=\"Times,serif\" font-size=\"14.00\" fill=\"#000000\">sgv ≤ 130.5</text>\n<text text-anchor=\"start\" x=\"5388.6667\" y=\"-3516.3\" font-family=\"Times,serif\" font-size=\"14.00\" fill=\"#000000\">mse = 370.776</text>\n<text text-anchor=\"start\" x=\"5394.6667\" y=\"-3501.3\" font-family=\"Times,serif\" font-size=\"14.00\" fill=\"#000000\">samples = 67</text>\n<text text-anchor=\"start\" x=\"5388.6667\" y=\"-3486.3\" font-family=\"Times,serif\" font-size=\"14.00\" fill=\"#000000\">value = 40.526</text>\n</g>\n<!-- 59&#45;&gt;61 -->\n<g id=\"edge61\" class=\"edge\">\n<title>59&#45;&gt;61</title>\n<path fill=\"none\" stroke=\"#000000\" d=\"M4725.8358,-3551.6132C4861.407,-3544.1112 5224.4131,-3524.0239 5370.4982,-3515.9402\"/>\n<polygon fill=\"#000000\" stroke=\"#000000\" points=\"5370.844,-3519.4265 5380.6353,-3515.3792 5370.4572,-3512.4372 5370.844,-3519.4265\"/>\n</g>\n<!-- 62 -->\n<g id=\"node63\" class=\"node\">\n<title>62</title>\n<polygon fill=\"#f9e3d3\" stroke=\"#000000\" points=\"6244.6667,-3573 6140.6667,-3573 6140.6667,-3520 6244.6667,-3520 6244.6667,-3573\"/>\n<text text-anchor=\"start\" x=\"6148.6667\" y=\"-3557.8\" font-family=\"Times,serif\" font-size=\"14.00\" fill=\"#000000\">mse = 152.663</text>\n<text text-anchor=\"start\" x=\"6154.6667\" y=\"-3542.8\" font-family=\"Times,serif\" font-size=\"14.00\" fill=\"#000000\">samples = 23</text>\n<text text-anchor=\"start\" x=\"6148.6667\" y=\"-3527.8\" font-family=\"Times,serif\" font-size=\"14.00\" fill=\"#000000\">value = 31.061</text>\n</g>\n<!-- 61&#45;&gt;62 -->\n<g id=\"edge62\" class=\"edge\">\n<title>61&#45;&gt;62</title>\n<path fill=\"none\" stroke=\"#000000\" d=\"M5484.9045,-3514.837C5620.6543,-3520.91 5984.1387,-3537.1711 6130.4163,-3543.7151\"/>\n<polygon fill=\"#000000\" stroke=\"#000000\" points=\"6130.4203,-3547.2187 6140.5668,-3544.1692 6130.7332,-3540.2257 6130.4203,-3547.2187\"/>\n</g>\n<!-- 63 -->\n<g id=\"node64\" class=\"node\">\n<title>63</title>\n<polygon fill=\"#f7d6bf\" stroke=\"#000000\" points=\"6244.6667,-3501.5 6140.6667,-3501.5 6140.6667,-3433.5 6244.6667,-3433.5 6244.6667,-3501.5\"/>\n<text text-anchor=\"start\" x=\"6151.6667\" y=\"-3486.3\" font-family=\"Times,serif\" font-size=\"14.00\" fill=\"#000000\">sgv&#45;1 ≤ 138.5</text>\n<text text-anchor=\"start\" x=\"6148.6667\" y=\"-3471.3\" font-family=\"Times,serif\" font-size=\"14.00\" fill=\"#000000\">mse = 413.794</text>\n<text text-anchor=\"start\" x=\"6154.6667\" y=\"-3456.3\" font-family=\"Times,serif\" font-size=\"14.00\" fill=\"#000000\">samples = 44</text>\n<text text-anchor=\"start\" x=\"6148.6667\" y=\"-3441.3\" font-family=\"Times,serif\" font-size=\"14.00\" fill=\"#000000\">value = 45.565</text>\n</g>\n<!-- 61&#45;&gt;63 -->\n<g id=\"edge63\" class=\"edge\">\n<title>61&#45;&gt;63</title>\n<path fill=\"none\" stroke=\"#000000\" d=\"M5484.9045,-3509.407C5620.6543,-3501.3692 5984.1387,-3479.847 6130.4163,-3471.1859\"/>\n<polygon fill=\"#000000\" stroke=\"#000000\" points=\"6130.7911,-3474.6699 6140.5668,-3470.5849 6130.3773,-3467.6821 6130.7911,-3474.6699\"/>\n</g>\n<!-- 64 -->\n<g id=\"node65\" class=\"node\">\n<title>64</title>\n<polygon fill=\"#f5d0b6\" stroke=\"#000000\" points=\"6989.6667,-3529 6897.6667,-3529 6897.6667,-3476 6989.6667,-3476 6989.6667,-3529\"/>\n<text text-anchor=\"start\" x=\"6907.1667\" y=\"-3513.8\" font-family=\"Times,serif\" font-size=\"14.00\" fill=\"#000000\">mse = 546.0</text>\n<text text-anchor=\"start\" x=\"6905.6667\" y=\"-3498.8\" font-family=\"Times,serif\" font-size=\"14.00\" fill=\"#000000\">samples = 20</text>\n<text text-anchor=\"start\" x=\"6907.1667\" y=\"-3483.8\" font-family=\"Times,serif\" font-size=\"14.00\" fill=\"#000000\">value = 52.0</text>\n</g>\n<!-- 63&#45;&gt;64 -->\n<g id=\"edge64\" class=\"edge\">\n<title>63&#45;&gt;64</title>\n<path fill=\"none\" stroke=\"#000000\" d=\"M6244.8793,-3469.9333C6381.1759,-3476.2854 6746.8632,-3493.3281 6887.4931,-3499.8821\"/>\n<polygon fill=\"#000000\" stroke=\"#000000\" points=\"6887.4688,-3503.3846 6897.6209,-3500.3541 6887.7947,-3496.3922 6887.4688,-3503.3846\"/>\n</g>\n<!-- 65 -->\n<g id=\"node66\" class=\"node\">\n<title>65</title>\n<polygon fill=\"#f7dac5\" stroke=\"#000000\" points=\"6995.6667,-3458 6891.6667,-3458 6891.6667,-3405 6995.6667,-3405 6995.6667,-3458\"/>\n<text text-anchor=\"start\" x=\"6899.6667\" y=\"-3442.8\" font-family=\"Times,serif\" font-size=\"14.00\" fill=\"#000000\">mse = 277.575</text>\n<text text-anchor=\"start\" x=\"6905.6667\" y=\"-3427.8\" font-family=\"Times,serif\" font-size=\"14.00\" fill=\"#000000\">samples = 24</text>\n<text text-anchor=\"start\" x=\"6899.6667\" y=\"-3412.8\" font-family=\"Times,serif\" font-size=\"14.00\" fill=\"#000000\">value = 41.216</text>\n</g>\n<!-- 63&#45;&gt;65 -->\n<g id=\"edge65\" class=\"edge\">\n<title>63&#45;&gt;65</title>\n<path fill=\"none\" stroke=\"#000000\" d=\"M6244.8793,-3464.9971C6379.2821,-3458.5544 6736.7451,-3441.419 6881.5018,-3434.4799\"/>\n<polygon fill=\"#000000\" stroke=\"#000000\" points=\"6881.7298,-3437.9731 6891.5507,-3433.9982 6881.3946,-3430.9812 6881.7298,-3437.9731\"/>\n</g>\n<!-- 67 -->\n<g id=\"node68\" class=\"node\">\n<title>67</title>\n<polygon fill=\"#f6d2b8\" stroke=\"#000000\" points=\"4725.6667,-3463.5 4621.6667,-3463.5 4621.6667,-3395.5 4725.6667,-3395.5 4725.6667,-3463.5\"/>\n<text text-anchor=\"start\" x=\"4630.6667\" y=\"-3448.3\" font-family=\"Times,serif\" font-size=\"14.00\" fill=\"#000000\">deltasgv ≤ &#45;1.5</text>\n<text text-anchor=\"start\" x=\"4629.6667\" y=\"-3433.3\" font-family=\"Times,serif\" font-size=\"14.00\" fill=\"#000000\">mse = 418.306</text>\n<text text-anchor=\"start\" x=\"4635.6667\" y=\"-3418.3\" font-family=\"Times,serif\" font-size=\"14.00\" fill=\"#000000\">samples = 78</text>\n<text text-anchor=\"start\" x=\"4629.6667\" y=\"-3403.3\" font-family=\"Times,serif\" font-size=\"14.00\" fill=\"#000000\">value = 50.202</text>\n</g>\n<!-- 66&#45;&gt;67 -->\n<g id=\"edge67\" class=\"edge\">\n<title>66&#45;&gt;67</title>\n<path fill=\"none\" stroke=\"#000000\" d=\"M3966.8358,-3428.5687C4102.407,-3428.7474 4465.4131,-3429.2256 4611.4982,-3429.4181\"/>\n<polygon fill=\"#000000\" stroke=\"#000000\" points=\"4611.6307,-3432.9182 4621.6353,-3429.4314 4611.64,-3425.9182 4611.6307,-3432.9182\"/>\n</g>\n<!-- 72 -->\n<g id=\"node73\" class=\"node\">\n<title>72</title>\n<polygon fill=\"#f8dbc7\" stroke=\"#000000\" points=\"4725.6667,-3377 4621.6667,-3377 4621.6667,-3324 4725.6667,-3324 4725.6667,-3377\"/>\n<text text-anchor=\"start\" x=\"4629.6667\" y=\"-3361.8\" font-family=\"Times,serif\" font-size=\"14.00\" fill=\"#000000\">mse = 608.333</text>\n<text text-anchor=\"start\" x=\"4635.6667\" y=\"-3346.8\" font-family=\"Times,serif\" font-size=\"14.00\" fill=\"#000000\">samples = 20</text>\n<text text-anchor=\"start\" x=\"4637.1667\" y=\"-3331.8\" font-family=\"Times,serif\" font-size=\"14.00\" fill=\"#000000\">value = 40.0</text>\n</g>\n<!-- 66&#45;&gt;72 -->\n<g id=\"edge72\" class=\"edge\">\n<title>66&#45;&gt;72</title>\n<path fill=\"none\" stroke=\"#000000\" d=\"M3966.8358,-3423.1387C4102.407,-3409.2065 4465.4131,-3371.9016 4611.4982,-3356.8889\"/>\n<polygon fill=\"#000000\" stroke=\"#000000\" points=\"4612.0455,-3360.3511 4621.6353,-3355.8471 4611.3299,-3353.3878 4612.0455,-3360.3511\"/>\n</g>\n<!-- 68 -->\n<g id=\"node69\" class=\"node\">\n<title>68</title>\n<polygon fill=\"#f7dac5\" stroke=\"#000000\" points=\"5484.6667,-3457 5380.6667,-3457 5380.6667,-3404 5484.6667,-3404 5484.6667,-3457\"/>\n<text text-anchor=\"start\" x=\"5388.6667\" y=\"-3441.8\" font-family=\"Times,serif\" font-size=\"14.00\" fill=\"#000000\">mse = 349.334</text>\n<text text-anchor=\"start\" x=\"5394.6667\" y=\"-3426.8\" font-family=\"Times,serif\" font-size=\"14.00\" fill=\"#000000\">samples = 32</text>\n<text text-anchor=\"start\" x=\"5388.6667\" y=\"-3411.8\" font-family=\"Times,serif\" font-size=\"14.00\" fill=\"#000000\">value = 40.816</text>\n</g>\n<!-- 67&#45;&gt;68 -->\n<g id=\"edge68\" class=\"edge\">\n<title>67&#45;&gt;68</title>\n<path fill=\"none\" stroke=\"#000000\" d=\"M4725.8358,-3429.5687C4861.407,-3429.7474 5224.4131,-3430.2256 5370.4982,-3430.4181\"/>\n<polygon fill=\"#000000\" stroke=\"#000000\" points=\"5370.6307,-3433.9182 5380.6353,-3430.4314 5370.64,-3426.9182 5370.6307,-3433.9182\"/>\n</g>\n<!-- 69 -->\n<g id=\"node70\" class=\"node\">\n<title>69</title>\n<polygon fill=\"#f5ccb0\" stroke=\"#000000\" points=\"5484.6667,-3385.5 5380.6667,-3385.5 5380.6667,-3317.5 5484.6667,-3317.5 5484.6667,-3385.5\"/>\n<text text-anchor=\"start\" x=\"5391.6667\" y=\"-3370.3\" font-family=\"Times,serif\" font-size=\"14.00\" fill=\"#000000\">sgv&#45;3 ≤ 130.5</text>\n<text text-anchor=\"start\" x=\"5388.6667\" y=\"-3355.3\" font-family=\"Times,serif\" font-size=\"14.00\" fill=\"#000000\">mse = 368.222</text>\n<text text-anchor=\"start\" x=\"5394.6667\" y=\"-3340.3\" font-family=\"Times,serif\" font-size=\"14.00\" fill=\"#000000\">samples = 46</text>\n<text text-anchor=\"start\" x=\"5388.6667\" y=\"-3325.3\" font-family=\"Times,serif\" font-size=\"14.00\" fill=\"#000000\">value = 56.333</text>\n</g>\n<!-- 67&#45;&gt;69 -->\n<g id=\"edge69\" class=\"edge\">\n<title>67&#45;&gt;69</title>\n<path fill=\"none\" stroke=\"#000000\" d=\"M4725.8358,-3424.1387C4861.407,-3410.2065 5224.4131,-3372.9016 5370.4982,-3357.8889\"/>\n<polygon fill=\"#000000\" stroke=\"#000000\" points=\"5371.0455,-3361.3511 5380.6353,-3356.8471 5370.3299,-3354.3878 5371.0455,-3361.3511\"/>\n</g>\n<!-- 70 -->\n<g id=\"node71\" class=\"node\">\n<title>70</title>\n<polygon fill=\"#f6d2b9\" stroke=\"#000000\" points=\"6244.6667,-3415 6140.6667,-3415 6140.6667,-3362 6244.6667,-3362 6244.6667,-3415\"/>\n<text text-anchor=\"start\" x=\"6148.6667\" y=\"-3399.8\" font-family=\"Times,serif\" font-size=\"14.00\" fill=\"#000000\">mse = 386.905</text>\n<text text-anchor=\"start\" x=\"6154.6667\" y=\"-3384.8\" font-family=\"Times,serif\" font-size=\"14.00\" fill=\"#000000\">samples = 23</text>\n<text text-anchor=\"start\" x=\"6156.1667\" y=\"-3369.8\" font-family=\"Times,serif\" font-size=\"14.00\" fill=\"#000000\">value = 50.0</text>\n</g>\n<!-- 69&#45;&gt;70 -->\n<g id=\"edge70\" class=\"edge\">\n<title>69&#45;&gt;70</title>\n<path fill=\"none\" stroke=\"#000000\" d=\"M5484.9045,-3354.0432C5620.6543,-3360.652 5984.1387,-3378.348 6130.4163,-3385.4694\"/>\n<polygon fill=\"#000000\" stroke=\"#000000\" points=\"6130.4084,-3388.9731 6140.5668,-3385.9636 6130.7488,-3381.9813 6130.4084,-3388.9731\"/>\n</g>\n<!-- 71 -->\n<g id=\"node72\" class=\"node\">\n<title>71</title>\n<polygon fill=\"#f3c5a4\" stroke=\"#000000\" points=\"6244.6667,-3344 6140.6667,-3344 6140.6667,-3291 6244.6667,-3291 6244.6667,-3344\"/>\n<text text-anchor=\"start\" x=\"6148.6667\" y=\"-3328.8\" font-family=\"Times,serif\" font-size=\"14.00\" fill=\"#000000\">mse = 228.421</text>\n<text text-anchor=\"start\" x=\"6154.6667\" y=\"-3313.8\" font-family=\"Times,serif\" font-size=\"14.00\" fill=\"#000000\">samples = 23</text>\n<text text-anchor=\"start\" x=\"6148.6667\" y=\"-3298.8\" font-family=\"Times,serif\" font-size=\"14.00\" fill=\"#000000\">value = 64.394</text>\n</g>\n<!-- 69&#45;&gt;71 -->\n<g id=\"edge71\" class=\"edge\">\n<title>69&#45;&gt;71</title>\n<path fill=\"none\" stroke=\"#000000\" d=\"M5484.9045,-3349.163C5620.6543,-3343.09 5984.1387,-3326.8289 6130.4163,-3320.2849\"/>\n<polygon fill=\"#000000\" stroke=\"#000000\" points=\"6130.7332,-3323.7743 6140.5668,-3319.8308 6130.4203,-3316.7813 6130.7332,-3323.7743\"/>\n</g>\n<!-- 74 -->\n<g id=\"node75\" class=\"node\">\n<title>74</title>\n<polygon fill=\"#f7d8c1\" stroke=\"#000000\" points=\"3966.6667,-3372 3862.6667,-3372 3862.6667,-3319 3966.6667,-3319 3966.6667,-3372\"/>\n<text text-anchor=\"start\" x=\"3870.6667\" y=\"-3356.8\" font-family=\"Times,serif\" font-size=\"14.00\" fill=\"#000000\">mse = 299.479</text>\n<text text-anchor=\"start\" x=\"3876.6667\" y=\"-3341.8\" font-family=\"Times,serif\" font-size=\"14.00\" fill=\"#000000\">samples = 27</text>\n<text text-anchor=\"start\" x=\"3874.1667\" y=\"-3326.8\" font-family=\"Times,serif\" font-size=\"14.00\" fill=\"#000000\">value = 43.75</text>\n</g>\n<!-- 73&#45;&gt;74 -->\n<g id=\"edge74\" class=\"edge\">\n<title>73&#45;&gt;74</title>\n<path fill=\"none\" stroke=\"#000000\" d=\"M3200.7147,-3308.2179C3337.1828,-3315.3442 3704.9356,-3334.548 3852.3222,-3342.2444\"/>\n<polygon fill=\"#000000\" stroke=\"#000000\" points=\"3852.3781,-3345.752 3862.547,-3342.7783 3852.7432,-3338.7615 3852.3781,-3345.752\"/>\n</g>\n<!-- 75 -->\n<g id=\"node76\" class=\"node\">\n<title>75</title>\n<polygon fill=\"#f4c9aa\" stroke=\"#000000\" points=\"3966.6667,-3300.5 3862.6667,-3300.5 3862.6667,-3232.5 3966.6667,-3232.5 3966.6667,-3300.5\"/>\n<text text-anchor=\"start\" x=\"3871.6667\" y=\"-3285.3\" font-family=\"Times,serif\" font-size=\"14.00\" fill=\"#000000\">deltasgv ≤ &#45;0.5</text>\n<text text-anchor=\"start\" x=\"3870.6667\" y=\"-3270.3\" font-family=\"Times,serif\" font-size=\"14.00\" fill=\"#000000\">mse = 597.799</text>\n<text text-anchor=\"start\" x=\"3872.6667\" y=\"-3255.3\" font-family=\"Times,serif\" font-size=\"14.00\" fill=\"#000000\">samples = 144</text>\n<text text-anchor=\"start\" x=\"3874.1667\" y=\"-3240.3\" font-family=\"Times,serif\" font-size=\"14.00\" fill=\"#000000\">value = 60.61</text>\n</g>\n<!-- 73&#45;&gt;75 -->\n<g id=\"edge75\" class=\"edge\">\n<title>73&#45;&gt;75</title>\n<path fill=\"none\" stroke=\"#000000\" d=\"M3200.7147,-3302.85C3337.1828,-3295.9019 3704.9356,-3277.1782 3852.3222,-3269.6742\"/>\n<polygon fill=\"#000000\" stroke=\"#000000\" points=\"3852.7379,-3273.1577 3862.547,-3269.1536 3852.3819,-3266.1667 3852.7379,-3273.1577\"/>\n</g>\n<!-- 76 -->\n<g id=\"node77\" class=\"node\">\n<title>76</title>\n<polygon fill=\"#f6d2b8\" stroke=\"#000000\" points=\"4728.1667,-3303.5 4619.1667,-3303.5 4619.1667,-3235.5 4728.1667,-3235.5 4728.1667,-3303.5\"/>\n<text text-anchor=\"start\" x=\"4627.1667\" y=\"-3288.3\" font-family=\"Times,serif\" font-size=\"14.00\" fill=\"#000000\">insulin&#45;5 ≤ 62.5</text>\n<text text-anchor=\"start\" x=\"4629.6667\" y=\"-3273.3\" font-family=\"Times,serif\" font-size=\"14.00\" fill=\"#000000\">mse = 437.593</text>\n<text text-anchor=\"start\" x=\"4635.6667\" y=\"-3258.3\" font-family=\"Times,serif\" font-size=\"14.00\" fill=\"#000000\">samples = 76</text>\n<text text-anchor=\"start\" x=\"4629.6667\" y=\"-3243.3\" font-family=\"Times,serif\" font-size=\"14.00\" fill=\"#000000\">value = 50.701</text>\n</g>\n<!-- 75&#45;&gt;76 -->\n<g id=\"edge76\" class=\"edge\">\n<title>75&#45;&gt;76</title>\n<path fill=\"none\" stroke=\"#000000\" d=\"M3966.8358,-3266.7062C4101.5893,-3267.2388 4461.0425,-3268.6596 4608.8313,-3269.2437\"/>\n<polygon fill=\"#000000\" stroke=\"#000000\" points=\"4609.0865,-3272.7447 4619.1003,-3269.2843 4609.1143,-3265.7447 4609.0865,-3272.7447\"/>\n</g>\n<!-- 81 -->\n<g id=\"node82\" class=\"node\">\n<title>81</title>\n<polygon fill=\"#f2bf9a\" stroke=\"#000000\" points=\"4725.6667,-3217.5 4621.6667,-3217.5 4621.6667,-3149.5 4725.6667,-3149.5 4725.6667,-3217.5\"/>\n<text text-anchor=\"start\" x=\"4632.6667\" y=\"-3202.3\" font-family=\"Times,serif\" font-size=\"14.00\" fill=\"#000000\">sgv&#45;1 ≤ 135.5</text>\n<text text-anchor=\"start\" x=\"4629.6667\" y=\"-3187.3\" font-family=\"Times,serif\" font-size=\"14.00\" fill=\"#000000\">mse = 548.469</text>\n<text text-anchor=\"start\" x=\"4635.6667\" y=\"-3172.3\" font-family=\"Times,serif\" font-size=\"14.00\" fill=\"#000000\">samples = 68</text>\n<text text-anchor=\"start\" x=\"4629.6667\" y=\"-3157.3\" font-family=\"Times,serif\" font-size=\"14.00\" fill=\"#000000\">value = 71.429</text>\n</g>\n<!-- 75&#45;&gt;81 -->\n<g id=\"edge81\" class=\"edge\">\n<title>75&#45;&gt;81</title>\n<path fill=\"none\" stroke=\"#000000\" d=\"M3966.8358,-3260.7951C4102.407,-3245.9698 4465.4131,-3206.2734 4611.4982,-3190.2984\"/>\n<polygon fill=\"#000000\" stroke=\"#000000\" points=\"4612.0751,-3193.7563 4621.6353,-3189.1899 4611.3141,-3186.7978 4612.0751,-3193.7563\"/>\n</g>\n<!-- 77 -->\n<g id=\"node78\" class=\"node\">\n<title>77</title>\n<polygon fill=\"#f7d9c3\" stroke=\"#000000\" points=\"5484.6667,-3297 5380.6667,-3297 5380.6667,-3244 5484.6667,-3244 5484.6667,-3297\"/>\n<text text-anchor=\"start\" x=\"5388.6667\" y=\"-3281.8\" font-family=\"Times,serif\" font-size=\"14.00\" fill=\"#000000\">mse = 293.023</text>\n<text text-anchor=\"start\" x=\"5394.6667\" y=\"-3266.8\" font-family=\"Times,serif\" font-size=\"14.00\" fill=\"#000000\">samples = 25</text>\n<text text-anchor=\"start\" x=\"5388.6667\" y=\"-3251.8\" font-family=\"Times,serif\" font-size=\"14.00\" fill=\"#000000\">value = 42.763</text>\n</g>\n<!-- 76&#45;&gt;77 -->\n<g id=\"edge77\" class=\"edge\">\n<title>76&#45;&gt;77</title>\n<path fill=\"none\" stroke=\"#000000\" d=\"M4728.2521,-3269.5719C4865.675,-3269.753 5225.2952,-3270.2268 5370.5119,-3270.4181\"/>\n<polygon fill=\"#000000\" stroke=\"#000000\" points=\"5370.5863,-3273.9181 5380.591,-3270.4314 5370.5956,-3266.9181 5370.5863,-3273.9181\"/>\n</g>\n<!-- 78 -->\n<g id=\"node79\" class=\"node\">\n<title>78</title>\n<polygon fill=\"#f5ceb1\" stroke=\"#000000\" points=\"5484.6667,-3225.5 5380.6667,-3225.5 5380.6667,-3157.5 5484.6667,-3157.5 5484.6667,-3225.5\"/>\n<text text-anchor=\"start\" x=\"5391.6667\" y=\"-3210.3\" font-family=\"Times,serif\" font-size=\"14.00\" fill=\"#000000\">sgv&#45;1 ≤ 138.5</text>\n<text text-anchor=\"start\" x=\"5388.6667\" y=\"-3195.3\" font-family=\"Times,serif\" font-size=\"14.00\" fill=\"#000000\">mse = 463.401</text>\n<text text-anchor=\"start\" x=\"5394.6667\" y=\"-3180.3\" font-family=\"Times,serif\" font-size=\"14.00\" fill=\"#000000\">samples = 51</text>\n<text text-anchor=\"start\" x=\"5388.6667\" y=\"-3165.3\" font-family=\"Times,serif\" font-size=\"14.00\" fill=\"#000000\">value = 55.072</text>\n</g>\n<!-- 76&#45;&gt;78 -->\n<g id=\"edge78\" class=\"edge\">\n<title>76&#45;&gt;78</title>\n<path fill=\"none\" stroke=\"#000000\" d=\"M4728.2521,-3263.8904C4865.675,-3249.7679 5225.2952,-3212.8109 5370.5119,-3197.8874\"/>\n<polygon fill=\"#000000\" stroke=\"#000000\" points=\"5371.0012,-3201.3557 5380.591,-3196.8517 5370.2855,-3194.3924 5371.0012,-3201.3557\"/>\n</g>\n<!-- 79 -->\n<g id=\"node80\" class=\"node\">\n<title>79</title>\n<polygon fill=\"#f4c9aa\" stroke=\"#000000\" points=\"6244.6667,-3273 6140.6667,-3273 6140.6667,-3220 6244.6667,-3220 6244.6667,-3273\"/>\n<text text-anchor=\"start\" x=\"6148.6667\" y=\"-3257.8\" font-family=\"Times,serif\" font-size=\"14.00\" fill=\"#000000\">mse = 435.176</text>\n<text text-anchor=\"start\" x=\"6154.6667\" y=\"-3242.8\" font-family=\"Times,serif\" font-size=\"14.00\" fill=\"#000000\">samples = 30</text>\n<text text-anchor=\"start\" x=\"6148.6667\" y=\"-3227.8\" font-family=\"Times,serif\" font-size=\"14.00\" fill=\"#000000\">value = 60.227</text>\n</g>\n<!-- 78&#45;&gt;79 -->\n<g id=\"edge79\" class=\"edge\">\n<title>78&#45;&gt;79</title>\n<path fill=\"none\" stroke=\"#000000\" d=\"M5484.9045,-3195.2804C5620.6543,-3205.1044 5984.1387,-3231.4092 6130.4163,-3241.995\"/>\n<polygon fill=\"#000000\" stroke=\"#000000\" points=\"6130.3402,-3245.4986 6140.5668,-3242.7296 6130.8455,-3238.5169 6130.3402,-3245.4986\"/>\n</g>\n<!-- 80 -->\n<g id=\"node81\" class=\"node\">\n<title>80</title>\n<polygon fill=\"#f6d6be\" stroke=\"#000000\" points=\"6238.6667,-3202 6146.6667,-3202 6146.6667,-3149 6238.6667,-3149 6238.6667,-3202\"/>\n<text text-anchor=\"start\" x=\"6156.1667\" y=\"-3186.8\" font-family=\"Times,serif\" font-size=\"14.00\" fill=\"#000000\">mse = 384.0</text>\n<text text-anchor=\"start\" x=\"6154.6667\" y=\"-3171.8\" font-family=\"Times,serif\" font-size=\"14.00\" fill=\"#000000\">samples = 21</text>\n<text text-anchor=\"start\" x=\"6156.1667\" y=\"-3156.8\" font-family=\"Times,serif\" font-size=\"14.00\" fill=\"#000000\">value = 46.0</text>\n</g>\n<!-- 78&#45;&gt;80 -->\n<g id=\"edge80\" class=\"edge\">\n<title>78&#45;&gt;80</title>\n<path fill=\"none\" stroke=\"#000000\" d=\"M5484.9045,-3190.4003C5622.4816,-3187.5039 5993.9656,-3179.6832 6136.2041,-3176.6887\"/>\n<polygon fill=\"#000000\" stroke=\"#000000\" points=\"6136.5207,-3180.1829 6146.4448,-3176.4731 6136.3733,-3173.1844 6136.5207,-3180.1829\"/>\n</g>\n<!-- 82 -->\n<g id=\"node83\" class=\"node\">\n<title>82</title>\n<polygon fill=\"#f3c3a0\" stroke=\"#000000\" points=\"5504.1667,-3139.5 5361.1667,-3139.5 5361.1667,-3071.5 5504.1667,-3071.5 5504.1667,-3139.5\"/>\n<text text-anchor=\"start\" x=\"5369.1667\" y=\"-3124.3\" font-family=\"Times,serif\" font-size=\"14.00\" fill=\"#000000\">meandeltasgv ≤ 0.125</text>\n<text text-anchor=\"start\" x=\"5388.6667\" y=\"-3109.3\" font-family=\"Times,serif\" font-size=\"14.00\" fill=\"#000000\">mse = 397.739</text>\n<text text-anchor=\"start\" x=\"5394.6667\" y=\"-3094.3\" font-family=\"Times,serif\" font-size=\"14.00\" fill=\"#000000\">samples = 48</text>\n<text text-anchor=\"start\" x=\"5388.6667\" y=\"-3079.3\" font-family=\"Times,serif\" font-size=\"14.00\" fill=\"#000000\">value = 67.254</text>\n</g>\n<!-- 81&#45;&gt;82 -->\n<g id=\"edge82\" class=\"edge\">\n<title>81&#45;&gt;82</title>\n<path fill=\"none\" stroke=\"#000000\" d=\"M4725.8358,-3178.1387C4855.6971,-3164.7933 5194.2391,-3130.0024 5350.919,-3113.9009\"/>\n<polygon fill=\"#000000\" stroke=\"#000000\" points=\"5351.3823,-3117.3719 5360.9721,-3112.8678 5350.6667,-3110.4085 5351.3823,-3117.3719\"/>\n</g>\n<!-- 85 -->\n<g id=\"node86\" class=\"node\">\n<title>85</title>\n<polygon fill=\"#f0b58b\" stroke=\"#000000\" points=\"5484.6667,-3053 5380.6667,-3053 5380.6667,-3000 5484.6667,-3000 5484.6667,-3053\"/>\n<text text-anchor=\"start\" x=\"5388.6667\" y=\"-3037.8\" font-family=\"Times,serif\" font-size=\"14.00\" fill=\"#000000\">mse = 778.464</text>\n<text text-anchor=\"start\" x=\"5394.6667\" y=\"-3022.8\" font-family=\"Times,serif\" font-size=\"14.00\" fill=\"#000000\">samples = 20</text>\n<text text-anchor=\"start\" x=\"5388.6667\" y=\"-3007.8\" font-family=\"Times,serif\" font-size=\"14.00\" fill=\"#000000\">value = 82.407</text>\n</g>\n<!-- 81&#45;&gt;85 -->\n<g id=\"edge85\" class=\"edge\">\n<title>81&#45;&gt;85</title>\n<path fill=\"none\" stroke=\"#000000\" d=\"M4725.8358,-3172.7088C4861.407,-3144.6657 5224.4131,-3069.5775 5370.4982,-3039.3596\"/>\n<polygon fill=\"#000000\" stroke=\"#000000\" points=\"5371.5516,-3042.7159 5380.6353,-3037.2627 5370.1336,-3035.861 5371.5516,-3042.7159\"/>\n</g>\n<!-- 83 -->\n<g id=\"node84\" class=\"node\">\n<title>83</title>\n<polygon fill=\"#f2c09d\" stroke=\"#000000\" points=\"6244.6667,-3131 6140.6667,-3131 6140.6667,-3078 6244.6667,-3078 6244.6667,-3131\"/>\n<text text-anchor=\"start\" x=\"6148.6667\" y=\"-3115.8\" font-family=\"Times,serif\" font-size=\"14.00\" fill=\"#000000\">mse = 543.361</text>\n<text text-anchor=\"start\" x=\"6154.6667\" y=\"-3100.8\" font-family=\"Times,serif\" font-size=\"14.00\" fill=\"#000000\">samples = 26</text>\n<text text-anchor=\"start\" x=\"6148.6667\" y=\"-3085.8\" font-family=\"Times,serif\" font-size=\"14.00\" fill=\"#000000\">value = 69.853</text>\n</g>\n<!-- 82&#45;&gt;83 -->\n<g id=\"edge83\" class=\"edge\">\n<title>82&#45;&gt;83</title>\n<path fill=\"none\" stroke=\"#000000\" d=\"M5504.5079,-3105.4055C5652.8736,-3105.2103 5990.9077,-3104.7655 6130.5447,-3104.5817\"/>\n<polygon fill=\"#000000\" stroke=\"#000000\" points=\"6130.6538,-3108.0817 6140.6491,-3104.5684 6130.6445,-3101.0817 6130.6538,-3108.0817\"/>\n</g>\n<!-- 84 -->\n<g id=\"node85\" class=\"node\">\n<title>84</title>\n<polygon fill=\"#f3c5a4\" stroke=\"#000000\" points=\"6244.6667,-3060 6140.6667,-3060 6140.6667,-3007 6244.6667,-3007 6244.6667,-3060\"/>\n<text text-anchor=\"start\" x=\"6148.6667\" y=\"-3044.8\" font-family=\"Times,serif\" font-size=\"14.00\" fill=\"#000000\">mse = 252.009</text>\n<text text-anchor=\"start\" x=\"6154.6667\" y=\"-3029.8\" font-family=\"Times,serif\" font-size=\"14.00\" fill=\"#000000\">samples = 22</text>\n<text text-anchor=\"start\" x=\"6148.6667\" y=\"-3014.8\" font-family=\"Times,serif\" font-size=\"14.00\" fill=\"#000000\">value = 64.865</text>\n</g>\n<!-- 82&#45;&gt;84 -->\n<g id=\"edge84\" class=\"edge\">\n<title>82&#45;&gt;84</title>\n<path fill=\"none\" stroke=\"#000000\" d=\"M5504.5079,-3098.694C5652.8736,-3084.6383 5990.9077,-3052.614 6130.5447,-3039.3852\"/>\n<polygon fill=\"#000000\" stroke=\"#000000\" points=\"6131.0238,-3042.8556 6140.6491,-3038.428 6130.3636,-3035.8868 6131.0238,-3042.8556\"/>\n</g>\n<!-- 87 -->\n<g id=\"node88\" class=\"node\">\n<title>87</title>\n<polygon fill=\"#f5d0b5\" stroke=\"#000000\" points=\"3200.6667,-3031.5 3096.6667,-3031.5 3096.6667,-2963.5 3200.6667,-2963.5 3200.6667,-3031.5\"/>\n<text text-anchor=\"start\" x=\"3107.6667\" y=\"-3016.3\" font-family=\"Times,serif\" font-size=\"14.00\" fill=\"#000000\">sgv&#45;4 ≤ 167.5</text>\n<text text-anchor=\"start\" x=\"3104.6667\" y=\"-3001.3\" font-family=\"Times,serif\" font-size=\"14.00\" fill=\"#000000\">mse = 499.841</text>\n<text text-anchor=\"start\" x=\"3106.6667\" y=\"-2986.3\" font-family=\"Times,serif\" font-size=\"14.00\" fill=\"#000000\">samples = 124</text>\n<text text-anchor=\"start\" x=\"3104.6667\" y=\"-2971.3\" font-family=\"Times,serif\" font-size=\"14.00\" fill=\"#000000\">value = 52.679</text>\n</g>\n<!-- 86&#45;&gt;87 -->\n<g id=\"edge87\" class=\"edge\">\n<title>86&#45;&gt;87</title>\n<path fill=\"none\" stroke=\"#000000\" d=\"M2479.8092,-2997.5C2609.5101,-2997.5 2946.276,-2997.5 3086.2408,-2997.5\"/>\n<polygon fill=\"#000000\" stroke=\"#000000\" points=\"3086.3726,-3001.0001 3096.3726,-2997.5 3086.3725,-2994.0001 3086.3726,-3001.0001\"/>\n</g>\n<!-- 96 -->\n<g id=\"node97\" class=\"node\">\n<title>96</title>\n<polygon fill=\"#f1bd97\" stroke=\"#000000\" points=\"3206.6667,-2827.5 3090.6667,-2827.5 3090.6667,-2759.5 3206.6667,-2759.5 3206.6667,-2827.5\"/>\n<text text-anchor=\"start\" x=\"3098.6667\" y=\"-2812.3\" font-family=\"Times,serif\" font-size=\"14.00\" fill=\"#000000\">insulin&#45;5 ≤ 112.5</text>\n<text text-anchor=\"start\" x=\"3104.6667\" y=\"-2797.3\" font-family=\"Times,serif\" font-size=\"14.00\" fill=\"#000000\">mse = 514.362</text>\n<text text-anchor=\"start\" x=\"3106.6667\" y=\"-2782.3\" font-family=\"Times,serif\" font-size=\"14.00\" fill=\"#000000\">samples = 328</text>\n<text text-anchor=\"start\" x=\"3104.6667\" y=\"-2767.3\" font-family=\"Times,serif\" font-size=\"14.00\" fill=\"#000000\">value = 74.083</text>\n</g>\n<!-- 86&#45;&gt;96 -->\n<g id=\"edge96\" class=\"edge\">\n<title>86&#45;&gt;96</title>\n<path fill=\"none\" stroke=\"#000000\" d=\"M2479.8092,-2982.7468C2607.8235,-2946.5264 2937.5529,-2853.2326 3080.6818,-2812.7357\"/>\n<polygon fill=\"#000000\" stroke=\"#000000\" points=\"3081.9899,-2816.003 3090.6593,-2809.9126 3080.0841,-2809.2674 3081.9899,-2816.003\"/>\n</g>\n<!-- 88 -->\n<g id=\"node89\" class=\"node\">\n<title>88</title>\n<polygon fill=\"#f7d7c0\" stroke=\"#000000\" points=\"3966.6667,-3074.5 3862.6667,-3074.5 3862.6667,-3006.5 3966.6667,-3006.5 3966.6667,-3074.5\"/>\n<text text-anchor=\"start\" x=\"3879.6667\" y=\"-3059.3\" font-family=\"Times,serif\" font-size=\"14.00\" fill=\"#000000\">sgv ≤ 151.0</text>\n<text text-anchor=\"start\" x=\"3870.6667\" y=\"-3044.3\" font-family=\"Times,serif\" font-size=\"14.00\" fill=\"#000000\">mse = 361.177</text>\n<text text-anchor=\"start\" x=\"3876.6667\" y=\"-3029.3\" font-family=\"Times,serif\" font-size=\"14.00\" fill=\"#000000\">samples = 41</text>\n<text text-anchor=\"start\" x=\"3870.6667\" y=\"-3014.3\" font-family=\"Times,serif\" font-size=\"14.00\" fill=\"#000000\">value = 44.828</text>\n</g>\n<!-- 87&#45;&gt;88 -->\n<g id=\"edge88\" class=\"edge\">\n<title>87&#45;&gt;88</title>\n<path fill=\"none\" stroke=\"#000000\" d=\"M3200.7147,-3000.4218C3337.1828,-3008.0825 3704.9356,-3028.7266 3852.3222,-3037.0002\"/>\n<polygon fill=\"#000000\" stroke=\"#000000\" points=\"3852.3665,-3040.5082 3862.547,-3037.5742 3852.7589,-3033.5192 3852.3665,-3040.5082\"/>\n</g>\n<!-- 91 -->\n<g id=\"node92\" class=\"node\">\n<title>91</title>\n<polygon fill=\"#f5cdb0\" stroke=\"#000000\" points=\"3983.1667,-2988.5 3846.1667,-2988.5 3846.1667,-2920.5 3983.1667,-2920.5 3983.1667,-2988.5\"/>\n<text text-anchor=\"start\" x=\"3854.1667\" y=\"-2973.3\" font-family=\"Times,serif\" font-size=\"14.00\" fill=\"#000000\">Tendencia (#1) ≤ 4.5</text>\n<text text-anchor=\"start\" x=\"3870.6667\" y=\"-2958.3\" font-family=\"Times,serif\" font-size=\"14.00\" fill=\"#000000\">mse = 521.326</text>\n<text text-anchor=\"start\" x=\"3876.6667\" y=\"-2943.3\" font-family=\"Times,serif\" font-size=\"14.00\" fill=\"#000000\">samples = 83</text>\n<text text-anchor=\"start\" x=\"3870.6667\" y=\"-2928.3\" font-family=\"Times,serif\" font-size=\"14.00\" fill=\"#000000\">value = 55.978</text>\n</g>\n<!-- 87&#45;&gt;91 -->\n<g id=\"edge91\" class=\"edge\">\n<title>87&#45;&gt;91</title>\n<path fill=\"none\" stroke=\"#000000\" d=\"M3200.7147,-2994.5782C3332.3485,-2987.1889 3679.1712,-2967.7197 3835.8496,-2958.9245\"/>\n<polygon fill=\"#000000\" stroke=\"#000000\" points=\"3836.1023,-2962.4159 3845.8904,-2958.3608 3835.71,-2955.4269 3836.1023,-2962.4159\"/>\n</g>\n<!-- 89 -->\n<g id=\"node90\" class=\"node\">\n<title>89</title>\n<polygon fill=\"#f7dac5\" stroke=\"#000000\" points=\"4725.6667,-3131 4621.6667,-3131 4621.6667,-3078 4725.6667,-3078 4725.6667,-3131\"/>\n<text text-anchor=\"start\" x=\"4633.6667\" y=\"-3115.8\" font-family=\"Times,serif\" font-size=\"14.00\" fill=\"#000000\">mse = 304.37</text>\n<text text-anchor=\"start\" x=\"4635.6667\" y=\"-3100.8\" font-family=\"Times,serif\" font-size=\"14.00\" fill=\"#000000\">samples = 21</text>\n<text text-anchor=\"start\" x=\"4629.6667\" y=\"-3085.8\" font-family=\"Times,serif\" font-size=\"14.00\" fill=\"#000000\">value = 41.129</text>\n</g>\n<!-- 88&#45;&gt;89 -->\n<g id=\"edge89\" class=\"edge\">\n<title>88&#45;&gt;89</title>\n<path fill=\"none\" stroke=\"#000000\" d=\"M3966.8358,-3044.899C4102.407,-3056.3305 4465.4131,-3086.9398 4611.4982,-3099.2579\"/>\n<polygon fill=\"#000000\" stroke=\"#000000\" points=\"4611.3766,-3102.7599 4621.6353,-3100.1126 4611.9648,-3095.7847 4611.3766,-3102.7599\"/>\n</g>\n<!-- 90 -->\n<g id=\"node91\" class=\"node\">\n<title>90</title>\n<polygon fill=\"#f6d3ba\" stroke=\"#000000\" points=\"4725.6667,-3060 4621.6667,-3060 4621.6667,-3007 4725.6667,-3007 4725.6667,-3060\"/>\n<text text-anchor=\"start\" x=\"4629.6667\" y=\"-3044.8\" font-family=\"Times,serif\" font-size=\"14.00\" fill=\"#000000\">mse = 392.661</text>\n<text text-anchor=\"start\" x=\"4635.6667\" y=\"-3029.8\" font-family=\"Times,serif\" font-size=\"14.00\" fill=\"#000000\">samples = 20</text>\n<text text-anchor=\"start\" x=\"4629.6667\" y=\"-3014.8\" font-family=\"Times,serif\" font-size=\"14.00\" fill=\"#000000\">value = 49.074</text>\n</g>\n<!-- 88&#45;&gt;90 -->\n<g id=\"edge90\" class=\"edge\">\n<title>88&#45;&gt;90</title>\n<path fill=\"none\" stroke=\"#000000\" d=\"M3966.8358,-3040.0189C4102.407,-3038.7685 4465.4131,-3035.4207 4611.4982,-3034.0734\"/>\n<polygon fill=\"#000000\" stroke=\"#000000\" points=\"4611.668,-3037.572 4621.6353,-3033.9799 4611.6034,-3030.5723 4611.668,-3037.572\"/>\n</g>\n<!-- 92 -->\n<g id=\"node93\" class=\"node\">\n<title>92</title>\n<polygon fill=\"#f6d5bc\" stroke=\"#000000\" points=\"4725.6667,-2989 4621.6667,-2989 4621.6667,-2936 4725.6667,-2936 4725.6667,-2989\"/>\n<text text-anchor=\"start\" x=\"4633.6667\" y=\"-2973.8\" font-family=\"Times,serif\" font-size=\"14.00\" fill=\"#000000\">mse = 490.57</text>\n<text text-anchor=\"start\" x=\"4635.6667\" y=\"-2958.8\" font-family=\"Times,serif\" font-size=\"14.00\" fill=\"#000000\">samples = 33</text>\n<text text-anchor=\"start\" x=\"4629.6667\" y=\"-2943.8\" font-family=\"Times,serif\" font-size=\"14.00\" fill=\"#000000\">value = 47.266</text>\n</g>\n<!-- 91&#45;&gt;92 -->\n<g id=\"edge92\" class=\"edge\">\n<title>91&#45;&gt;92</title>\n<path fill=\"none\" stroke=\"#000000\" d=\"M3983.3615,-2955.2241C4129.6786,-2956.7663 4470.1891,-2960.3553 4610.9966,-2961.8394\"/>\n<polygon fill=\"#000000\" stroke=\"#000000\" points=\"4611.15,-2965.3412 4621.1863,-2961.9468 4611.2238,-2958.3415 4611.15,-2965.3412\"/>\n</g>\n<!-- 93 -->\n<g id=\"node94\" class=\"node\">\n<title>93</title>\n<polygon fill=\"#f3c6a5\" stroke=\"#000000\" points=\"4725.6667,-2917.5 4621.6667,-2917.5 4621.6667,-2849.5 4725.6667,-2849.5 4725.6667,-2917.5\"/>\n<text text-anchor=\"start\" x=\"4638.6667\" y=\"-2902.3\" font-family=\"Times,serif\" font-size=\"14.00\" fill=\"#000000\">sgv ≤ 173.5</text>\n<text text-anchor=\"start\" x=\"4629.6667\" y=\"-2887.3\" font-family=\"Times,serif\" font-size=\"14.00\" fill=\"#000000\">mse = 425.493</text>\n<text text-anchor=\"start\" x=\"4635.6667\" y=\"-2872.3\" font-family=\"Times,serif\" font-size=\"14.00\" fill=\"#000000\">samples = 50</text>\n<text text-anchor=\"start\" x=\"4629.6667\" y=\"-2857.3\" font-family=\"Times,serif\" font-size=\"14.00\" fill=\"#000000\">value = 63.514</text>\n</g>\n<!-- 91&#45;&gt;93 -->\n<g id=\"edge93\" class=\"edge\">\n<title>91&#45;&gt;93</title>\n<path fill=\"none\" stroke=\"#000000\" d=\"M3983.3615,-2948.074C4129.6786,-2934.3869 4470.1891,-2902.5341 4610.9966,-2889.3624\"/>\n<polygon fill=\"#000000\" stroke=\"#000000\" points=\"4611.5558,-2892.8255 4621.1863,-2888.4092 4610.9038,-2885.8559 4611.5558,-2892.8255\"/>\n</g>\n<!-- 94 -->\n<g id=\"node95\" class=\"node\">\n<title>94</title>\n<polygon fill=\"#f4cbae\" stroke=\"#000000\" points=\"5478.6667,-2982 5386.6667,-2982 5386.6667,-2929 5478.6667,-2929 5478.6667,-2982\"/>\n<text text-anchor=\"start\" x=\"5396.1667\" y=\"-2966.8\" font-family=\"Times,serif\" font-size=\"14.00\" fill=\"#000000\">mse = 537.5</text>\n<text text-anchor=\"start\" x=\"5394.6667\" y=\"-2951.8\" font-family=\"Times,serif\" font-size=\"14.00\" fill=\"#000000\">samples = 27</text>\n<text text-anchor=\"start\" x=\"5396.1667\" y=\"-2936.8\" font-family=\"Times,serif\" font-size=\"14.00\" fill=\"#000000\">value = 57.5</text>\n</g>\n<!-- 93&#45;&gt;94 -->\n<g id=\"edge94\" class=\"edge\">\n<title>93&#45;&gt;94</title>\n<path fill=\"none\" stroke=\"#000000\" d=\"M4725.8358,-2888.4489C4863.2319,-2901.4825 5234.227,-2936.6757 5376.2784,-2950.1509\"/>\n<polygon fill=\"#000000\" stroke=\"#000000\" points=\"5376.2197,-2953.661 5386.5056,-2951.1211 5376.8808,-2946.6923 5376.2197,-2953.661\"/>\n</g>\n<!-- 95 -->\n<g id=\"node96\" class=\"node\">\n<title>95</title>\n<polygon fill=\"#f2c09b\" stroke=\"#000000\" points=\"5484.6667,-2911 5380.6667,-2911 5380.6667,-2858 5484.6667,-2858 5484.6667,-2911\"/>\n<text text-anchor=\"start\" x=\"5388.6667\" y=\"-2895.8\" font-family=\"Times,serif\" font-size=\"14.00\" fill=\"#000000\">mse = 201.125</text>\n<text text-anchor=\"start\" x=\"5394.6667\" y=\"-2880.8\" font-family=\"Times,serif\" font-size=\"14.00\" fill=\"#000000\">samples = 23</text>\n<text text-anchor=\"start\" x=\"5388.6667\" y=\"-2865.8\" font-family=\"Times,serif\" font-size=\"14.00\" fill=\"#000000\">value = 70.588</text>\n</g>\n<!-- 93&#45;&gt;95 -->\n<g id=\"edge95\" class=\"edge\">\n<title>93&#45;&gt;95</title>\n<path fill=\"none\" stroke=\"#000000\" d=\"M4725.8358,-2883.5687C4861.407,-2883.7474 5224.4131,-2884.2256 5370.4982,-2884.4181\"/>\n<polygon fill=\"#000000\" stroke=\"#000000\" points=\"5370.6307,-2887.9182 5380.6353,-2884.4314 5370.64,-2880.9182 5370.6307,-2887.9182\"/>\n</g>\n<!-- 97 -->\n<g id=\"node98\" class=\"node\">\n<title>97</title>\n<polygon fill=\"#f2be99\" stroke=\"#000000\" points=\"3969.1667,-2827.5 3860.1667,-2827.5 3860.1667,-2759.5 3969.1667,-2759.5 3969.1667,-2827.5\"/>\n<text text-anchor=\"start\" x=\"3868.1667\" y=\"-2812.3\" font-family=\"Times,serif\" font-size=\"14.00\" fill=\"#000000\">insulin&#45;1 ≤ 87.5</text>\n<text text-anchor=\"start\" x=\"3870.6667\" y=\"-2797.3\" font-family=\"Times,serif\" font-size=\"14.00\" fill=\"#000000\">mse = 484.208</text>\n<text text-anchor=\"start\" x=\"3872.6667\" y=\"-2782.3\" font-family=\"Times,serif\" font-size=\"14.00\" fill=\"#000000\">samples = 304</text>\n<text text-anchor=\"start\" x=\"3870.6667\" y=\"-2767.3\" font-family=\"Times,serif\" font-size=\"14.00\" fill=\"#000000\">value = 72.327</text>\n</g>\n<!-- 96&#45;&gt;97 -->\n<g id=\"edge97\" class=\"edge\">\n<title>96&#45;&gt;97</title>\n<path fill=\"none\" stroke=\"#000000\" d=\"M3206.8699,-2793.5C3347.1719,-2793.5 3703.2572,-2793.5 3849.9705,-2793.5\"/>\n<polygon fill=\"#000000\" stroke=\"#000000\" points=\"3850.1662,-2797.0001 3860.1662,-2793.5 3850.1662,-2790.0001 3850.1662,-2797.0001\"/>\n</g>\n<!-- 118 -->\n<g id=\"node119\" class=\"node\">\n<title>118</title>\n<polygon fill=\"#eeaa7a\" stroke=\"#000000\" points=\"3966.6667,-2741 3862.6667,-2741 3862.6667,-2688 3966.6667,-2688 3966.6667,-2741\"/>\n<text text-anchor=\"start\" x=\"3871.1667\" y=\"-2725.8\" font-family=\"Times,serif\" font-size=\"14.00\" fill=\"#000000\">mse = 411.957</text>\n<text text-anchor=\"start\" x=\"3876.6667\" y=\"-2710.8\" font-family=\"Times,serif\" font-size=\"14.00\" fill=\"#000000\">samples = 24</text>\n<text text-anchor=\"start\" x=\"3870.6667\" y=\"-2695.8\" font-family=\"Times,serif\" font-size=\"14.00\" fill=\"#000000\">value = 94.512</text>\n</g>\n<!-- 96&#45;&gt;118 -->\n<g id=\"edge118\" class=\"edge\">\n<title>96&#45;&gt;118</title>\n<path fill=\"none\" stroke=\"#000000\" d=\"M3206.8699,-2787.4973C3347.9391,-2772.9484 3707.1576,-2735.9011 3852.3582,-2720.9261\"/>\n<polygon fill=\"#000000\" stroke=\"#000000\" points=\"3852.8487,-2724.3941 3862.4369,-2719.8866 3852.1306,-2717.4311 3852.8487,-2724.3941\"/>\n</g>\n<!-- 98 -->\n<g id=\"node99\" class=\"node\">\n<title>98</title>\n<polygon fill=\"#f2c2a0\" stroke=\"#000000\" points=\"4728.1667,-2827.5 4619.1667,-2827.5 4619.1667,-2759.5 4728.1667,-2759.5 4728.1667,-2827.5\"/>\n<text text-anchor=\"start\" x=\"4627.1667\" y=\"-2812.3\" font-family=\"Times,serif\" font-size=\"14.00\" fill=\"#000000\">insulin&#45;2 ≤ 62.5</text>\n<text text-anchor=\"start\" x=\"4629.6667\" y=\"-2797.3\" font-family=\"Times,serif\" font-size=\"14.00\" fill=\"#000000\">mse = 438.673</text>\n<text text-anchor=\"start\" x=\"4631.6667\" y=\"-2782.3\" font-family=\"Times,serif\" font-size=\"14.00\" fill=\"#000000\">samples = 213</text>\n<text text-anchor=\"start\" x=\"4629.6667\" y=\"-2767.3\" font-family=\"Times,serif\" font-size=\"14.00\" fill=\"#000000\">value = 67.634</text>\n</g>\n<!-- 97&#45;&gt;98 -->\n<g id=\"edge98\" class=\"edge\">\n<title>97&#45;&gt;98</title>\n<path fill=\"none\" stroke=\"#000000\" d=\"M3969.2521,-2793.5C4105.8451,-2793.5 4461.96,-2793.5 4608.8578,-2793.5\"/>\n<polygon fill=\"#000000\" stroke=\"#000000\" points=\"4609.067,-2797.0001 4619.067,-2793.5 4609.0669,-2790.0001 4609.067,-2797.0001\"/>\n</g>\n<!-- 113 -->\n<g id=\"node114\" class=\"node\">\n<title>113</title>\n<polygon fill=\"#f0b489\" stroke=\"#000000\" points=\"4758.1667,-2605.5 4589.1667,-2605.5 4589.1667,-2537.5 4758.1667,-2537.5 4758.1667,-2605.5\"/>\n<text text-anchor=\"start\" x=\"4597.1667\" y=\"-2590.3\" font-family=\"Times,serif\" font-size=\"14.00\" fill=\"#000000\">prevmeandeltasgv ≤ 1.375</text>\n<text text-anchor=\"start\" x=\"4629.6667\" y=\"-2575.3\" font-family=\"Times,serif\" font-size=\"14.00\" fill=\"#000000\">mse = 415.158</text>\n<text text-anchor=\"start\" x=\"4635.6667\" y=\"-2560.3\" font-family=\"Times,serif\" font-size=\"14.00\" fill=\"#000000\">samples = 91</text>\n<text text-anchor=\"start\" x=\"4629.6667\" y=\"-2545.3\" font-family=\"Times,serif\" font-size=\"14.00\" fill=\"#000000\">value = 83.511</text>\n</g>\n<!-- 97&#45;&gt;113 -->\n<g id=\"edge113\" class=\"edge\">\n<title>97&#45;&gt;113</title>\n<path fill=\"none\" stroke=\"#000000\" d=\"M3969.2521,-2777.5343C4097.3489,-2740.0673 4418.5079,-2646.1314 4579.121,-2599.1537\"/>\n<polygon fill=\"#000000\" stroke=\"#000000\" points=\"4580.3797,-2602.4322 4588.995,-2596.2656 4578.4145,-2595.7137 4580.3797,-2602.4322\"/>\n</g>\n<!-- 99 -->\n<g id=\"node100\" class=\"node\">\n<title>99</title>\n<polygon fill=\"#f3c7a7\" stroke=\"#000000\" points=\"5484.6667,-2839.5 5380.6667,-2839.5 5380.6667,-2771.5 5484.6667,-2771.5 5484.6667,-2839.5\"/>\n<text text-anchor=\"start\" x=\"5389.6667\" y=\"-2824.3\" font-family=\"Times,serif\" font-size=\"14.00\" fill=\"#000000\">deltasgv ≤ &#45;0.5</text>\n<text text-anchor=\"start\" x=\"5388.6667\" y=\"-2809.3\" font-family=\"Times,serif\" font-size=\"14.00\" fill=\"#000000\">mse = 392.931</text>\n<text text-anchor=\"start\" x=\"5391.1667\" y=\"-2794.3\" font-family=\"Times,serif\" font-size=\"14.00\" fill=\"#000000\">samples = 113</text>\n<text text-anchor=\"start\" x=\"5388.6667\" y=\"-2779.3\" font-family=\"Times,serif\" font-size=\"14.00\" fill=\"#000000\">value = 62.574</text>\n</g>\n<!-- 98&#45;&gt;99 -->\n<g id=\"edge99\" class=\"edge\">\n<title>98&#45;&gt;99</title>\n<path fill=\"none\" stroke=\"#000000\" d=\"M4728.2521,-2794.363C4865.675,-2796.5357 5225.2952,-2802.2214 5370.5119,-2804.5173\"/>\n<polygon fill=\"#000000\" stroke=\"#000000\" points=\"5370.5368,-2808.0181 5380.591,-2804.6767 5370.6476,-2801.0189 5370.5368,-2808.0181\"/>\n</g>\n<!-- 106 -->\n<g id=\"node107\" class=\"node\">\n<title>106</title>\n<polygon fill=\"#f2be98\" stroke=\"#000000\" points=\"5484.6667,-2753.5 5380.6667,-2753.5 5380.6667,-2685.5 5484.6667,-2685.5 5484.6667,-2753.5\"/>\n<text text-anchor=\"start\" x=\"5397.6667\" y=\"-2738.3\" font-family=\"Times,serif\" font-size=\"14.00\" fill=\"#000000\">sgv ≤ 153.5</text>\n<text text-anchor=\"start\" x=\"5388.6667\" y=\"-2723.3\" font-family=\"Times,serif\" font-size=\"14.00\" fill=\"#000000\">mse = 432.832</text>\n<text text-anchor=\"start\" x=\"5390.6667\" y=\"-2708.3\" font-family=\"Times,serif\" font-size=\"14.00\" fill=\"#000000\">samples = 100</text>\n<text text-anchor=\"start\" x=\"5388.6667\" y=\"-2693.3\" font-family=\"Times,serif\" font-size=\"14.00\" fill=\"#000000\">value = 72.754</text>\n</g>\n<!-- 98&#45;&gt;106 -->\n<g id=\"edge106\" class=\"edge\">\n<title>98&#45;&gt;106</title>\n<path fill=\"none\" stroke=\"#000000\" d=\"M4728.2521,-2788.1781C4865.675,-2774.7798 5225.2952,-2739.718 5370.5119,-2725.5599\"/>\n<polygon fill=\"#000000\" stroke=\"#000000\" points=\"5370.9778,-2729.0311 5380.591,-2724.5772 5370.2985,-2722.0642 5370.9778,-2729.0311\"/>\n</g>\n<!-- 100 -->\n<g id=\"node101\" class=\"node\">\n<title>100</title>\n<polygon fill=\"#f4caac\" stroke=\"#000000\" points=\"6244.6667,-2926.5 6140.6667,-2926.5 6140.6667,-2858.5 6244.6667,-2858.5 6244.6667,-2926.5\"/>\n<text text-anchor=\"start\" x=\"6157.6667\" y=\"-2911.3\" font-family=\"Times,serif\" font-size=\"14.00\" fill=\"#000000\">sgv ≤ 156.5</text>\n<text text-anchor=\"start\" x=\"6148.6667\" y=\"-2896.3\" font-family=\"Times,serif\" font-size=\"14.00\" fill=\"#000000\">mse = 380.634</text>\n<text text-anchor=\"start\" x=\"6154.6667\" y=\"-2881.3\" font-family=\"Times,serif\" font-size=\"14.00\" fill=\"#000000\">samples = 56</text>\n<text text-anchor=\"start\" x=\"6148.6667\" y=\"-2866.3\" font-family=\"Times,serif\" font-size=\"14.00\" fill=\"#000000\">value = 58.708</text>\n</g>\n<!-- 99&#45;&gt;100 -->\n<g id=\"edge100\" class=\"edge\">\n<title>99&#45;&gt;100</title>\n<path fill=\"none\" stroke=\"#000000\" d=\"M5484.9045,-2811.4799C5620.6543,-2827.0196 5984.1387,-2868.629 6130.4163,-2885.374\"/>\n<polygon fill=\"#000000\" stroke=\"#000000\" points=\"6130.2335,-2888.8758 6140.5668,-2886.5359 6131.0297,-2881.9212 6130.2335,-2888.8758\"/>\n</g>\n<!-- 103 -->\n<g id=\"node104\" class=\"node\">\n<title>103</title>\n<polygon fill=\"#f3c3a1\" stroke=\"#000000\" points=\"6264.1667,-2840.5 6121.1667,-2840.5 6121.1667,-2772.5 6264.1667,-2772.5 6264.1667,-2840.5\"/>\n<text text-anchor=\"start\" x=\"6129.1667\" y=\"-2825.3\" font-family=\"Times,serif\" font-size=\"14.00\" fill=\"#000000\">meandeltasgv ≤ 0.875</text>\n<text text-anchor=\"start\" x=\"6148.6667\" y=\"-2810.3\" font-family=\"Times,serif\" font-size=\"14.00\" fill=\"#000000\">mse = 371.484</text>\n<text text-anchor=\"start\" x=\"6154.6667\" y=\"-2795.3\" font-family=\"Times,serif\" font-size=\"14.00\" fill=\"#000000\">samples = 57</text>\n<text text-anchor=\"start\" x=\"6148.6667\" y=\"-2780.3\" font-family=\"Times,serif\" font-size=\"14.00\" fill=\"#000000\">value = 66.875</text>\n</g>\n<!-- 99&#45;&gt;103 -->\n<g id=\"edge103\" class=\"edge\">\n<title>99&#45;&gt;103</title>\n<path fill=\"none\" stroke=\"#000000\" d=\"M5484.9045,-2805.5687C5615.019,-2805.7399 5954.3528,-2806.1864 6111.108,-2806.3927\"/>\n<polygon fill=\"#000000\" stroke=\"#000000\" points=\"6111.1604,-2809.8927 6121.165,-2806.4059 6111.1697,-2802.8927 6111.1604,-2809.8927\"/>\n</g>\n<!-- 101 -->\n<g id=\"node102\" class=\"node\">\n<title>101</title>\n<polygon fill=\"#f5cfb4\" stroke=\"#000000\" points=\"6995.6667,-2986 6891.6667,-2986 6891.6667,-2933 6995.6667,-2933 6995.6667,-2986\"/>\n<text text-anchor=\"start\" x=\"6903.6667\" y=\"-2970.8\" font-family=\"Times,serif\" font-size=\"14.00\" fill=\"#000000\">mse = 246.73</text>\n<text text-anchor=\"start\" x=\"6905.6667\" y=\"-2955.8\" font-family=\"Times,serif\" font-size=\"14.00\" fill=\"#000000\">samples = 20</text>\n<text text-anchor=\"start\" x=\"6899.6667\" y=\"-2940.8\" font-family=\"Times,serif\" font-size=\"14.00\" fill=\"#000000\">value = 53.448</text>\n</g>\n<!-- 100&#45;&gt;101 -->\n<g id=\"edge101\" class=\"edge\">\n<title>100&#45;&gt;101</title>\n<path fill=\"none\" stroke=\"#000000\" d=\"M6244.8793,-2897.1581C6379.2821,-2909.1488 6736.7451,-2941.0396 6881.5018,-2953.954\"/>\n<polygon fill=\"#000000\" stroke=\"#000000\" points=\"6881.2792,-2957.448 6891.5507,-2954.8505 6881.9013,-2950.4757 6881.2792,-2957.448\"/>\n</g>\n<!-- 102 -->\n<g id=\"node103\" class=\"node\">\n<title>102</title>\n<polygon fill=\"#f4c8a9\" stroke=\"#000000\" points=\"6995.6667,-2915 6891.6667,-2915 6891.6667,-2862 6995.6667,-2862 6995.6667,-2915\"/>\n<text text-anchor=\"start\" x=\"6899.6667\" y=\"-2899.8\" font-family=\"Times,serif\" font-size=\"14.00\" fill=\"#000000\">mse = 425.521</text>\n<text text-anchor=\"start\" x=\"6905.6667\" y=\"-2884.8\" font-family=\"Times,serif\" font-size=\"14.00\" fill=\"#000000\">samples = 36</text>\n<text text-anchor=\"start\" x=\"6903.1667\" y=\"-2869.8\" font-family=\"Times,serif\" font-size=\"14.00\" fill=\"#000000\">value = 61.25</text>\n</g>\n<!-- 100&#45;&gt;102 -->\n<g id=\"edge102\" class=\"edge\">\n<title>100&#45;&gt;102</title>\n<path fill=\"none\" stroke=\"#000000\" d=\"M6244.8793,-2892.2219C6379.2821,-2891.506 6736.7451,-2889.6021 6881.5018,-2888.8311\"/>\n<polygon fill=\"#000000\" stroke=\"#000000\" points=\"6881.5695,-2892.3309 6891.5507,-2888.7776 6881.5322,-2885.331 6881.5695,-2892.3309\"/>\n</g>\n<!-- 104 -->\n<g id=\"node105\" class=\"node\">\n<title>104</title>\n<polygon fill=\"#f1bd97\" stroke=\"#000000\" points=\"6995.6667,-2837 6891.6667,-2837 6891.6667,-2784 6995.6667,-2784 6995.6667,-2837\"/>\n<text text-anchor=\"start\" x=\"6899.6667\" y=\"-2821.8\" font-family=\"Times,serif\" font-size=\"14.00\" fill=\"#000000\">mse = 344.613</text>\n<text text-anchor=\"start\" x=\"6905.6667\" y=\"-2806.8\" font-family=\"Times,serif\" font-size=\"14.00\" fill=\"#000000\">samples = 35</text>\n<text text-anchor=\"start\" x=\"6899.6667\" y=\"-2791.8\" font-family=\"Times,serif\" font-size=\"14.00\" fill=\"#000000\">value = 73.936</text>\n</g>\n<!-- 103&#45;&gt;104 -->\n<g id=\"edge104\" class=\"edge\">\n<title>103&#45;&gt;104</title>\n<path fill=\"none\" stroke=\"#000000\" d=\"M6264.3355,-2806.8817C6410.9852,-2807.6628 6743.111,-2809.4318 6881.41,-2810.1684\"/>\n<polygon fill=\"#000000\" stroke=\"#000000\" points=\"6881.4042,-2813.6683 6891.4227,-2810.2217 6881.4415,-2806.6684 6881.4042,-2813.6683\"/>\n</g>\n<!-- 105 -->\n<g id=\"node106\" class=\"node\">\n<title>105</title>\n<polygon fill=\"#f4ccaf\" stroke=\"#000000\" points=\"6995.6667,-2766 6891.6667,-2766 6891.6667,-2713 6995.6667,-2713 6995.6667,-2766\"/>\n<text text-anchor=\"start\" x=\"6899.6667\" y=\"-2750.8\" font-family=\"Times,serif\" font-size=\"14.00\" fill=\"#000000\">mse = 237.603</text>\n<text text-anchor=\"start\" x=\"6905.6667\" y=\"-2735.8\" font-family=\"Times,serif\" font-size=\"14.00\" fill=\"#000000\">samples = 22</text>\n<text text-anchor=\"start\" x=\"6899.6667\" y=\"-2720.8\" font-family=\"Times,serif\" font-size=\"14.00\" fill=\"#000000\">value = 56.818</text>\n</g>\n<!-- 103&#45;&gt;105 -->\n<g id=\"edge105\" class=\"edge\">\n<title>103&#45;&gt;105</title>\n<path fill=\"none\" stroke=\"#000000\" d=\"M6264.3355,-2800.1061C6410.9852,-2787.0228 6743.111,-2757.3925 6881.41,-2745.0542\"/>\n<polygon fill=\"#000000\" stroke=\"#000000\" points=\"6881.7733,-2748.5358 6891.4227,-2744.1609 6881.1512,-2741.5635 6881.7733,-2748.5358\"/>\n</g>\n<!-- 107 -->\n<g id=\"node108\" class=\"node\">\n<title>107</title>\n<polygon fill=\"#f4caab\" stroke=\"#000000\" points=\"6244.6667,-2754 6140.6667,-2754 6140.6667,-2701 6244.6667,-2701 6244.6667,-2754\"/>\n<text text-anchor=\"start\" x=\"6148.6667\" y=\"-2738.8\" font-family=\"Times,serif\" font-size=\"14.00\" fill=\"#000000\">mse = 263.672</text>\n<text text-anchor=\"start\" x=\"6154.6667\" y=\"-2723.8\" font-family=\"Times,serif\" font-size=\"14.00\" fill=\"#000000\">samples = 22</text>\n<text text-anchor=\"start\" x=\"6148.6667\" y=\"-2708.8\" font-family=\"Times,serif\" font-size=\"14.00\" fill=\"#000000\">value = 59.375</text>\n</g>\n<!-- 106&#45;&gt;107 -->\n<g id=\"edge107\" class=\"edge\">\n<title>106&#45;&gt;107</title>\n<path fill=\"none\" stroke=\"#000000\" d=\"M5484.9045,-2720.0499C5620.6543,-2721.4788 5984.1387,-2725.305 6130.4163,-2726.8447\"/>\n<polygon fill=\"#000000\" stroke=\"#000000\" points=\"6130.5304,-2730.346 6140.5668,-2726.9516 6130.6042,-2723.3464 6130.5304,-2730.346\"/>\n</g>\n<!-- 108 -->\n<g id=\"node109\" class=\"node\">\n<title>108</title>\n<polygon fill=\"#f1bb94\" stroke=\"#000000\" points=\"6247.1667,-2682.5 6138.1667,-2682.5 6138.1667,-2614.5 6247.1667,-2614.5 6247.1667,-2682.5\"/>\n<text text-anchor=\"start\" x=\"6146.1667\" y=\"-2667.3\" font-family=\"Times,serif\" font-size=\"14.00\" fill=\"#000000\">insulin&#45;1 ≤ 62.5</text>\n<text text-anchor=\"start\" x=\"6148.6667\" y=\"-2652.3\" font-family=\"Times,serif\" font-size=\"14.00\" fill=\"#000000\">mse = 420.439</text>\n<text text-anchor=\"start\" x=\"6154.6667\" y=\"-2637.3\" font-family=\"Times,serif\" font-size=\"14.00\" fill=\"#000000\">samples = 78</text>\n<text text-anchor=\"start\" x=\"6148.6667\" y=\"-2622.3\" font-family=\"Times,serif\" font-size=\"14.00\" fill=\"#000000\">value = 75.926</text>\n</g>\n<!-- 106&#45;&gt;108 -->\n<g id=\"edge108\" class=\"edge\">\n<title>106&#45;&gt;108</title>\n<path fill=\"none\" stroke=\"#000000\" d=\"M5484.9045,-2714.6199C5619.8356,-2702.0145 5979.7624,-2668.3897 6127.7459,-2654.565\"/>\n<polygon fill=\"#000000\" stroke=\"#000000\" points=\"6128.3974,-2658.0194 6138.0284,-2653.6044 6127.7462,-2651.0498 6128.3974,-2658.0194\"/>\n</g>\n<!-- 109 -->\n<g id=\"node110\" class=\"node\">\n<title>109</title>\n<polygon fill=\"#f2c09b\" stroke=\"#000000\" points=\"7024.1667,-2688.5 6863.1667,-2688.5 6863.1667,-2620.5 7024.1667,-2620.5 7024.1667,-2688.5\"/>\n<text text-anchor=\"start\" x=\"6871.1667\" y=\"-2673.3\" font-family=\"Times,serif\" font-size=\"14.00\" fill=\"#000000\">prevmeandeltasgv ≤ 0.25</text>\n<text text-anchor=\"start\" x=\"6900.1667\" y=\"-2658.3\" font-family=\"Times,serif\" font-size=\"14.00\" fill=\"#000000\">mse = 293.211</text>\n<text text-anchor=\"start\" x=\"6905.6667\" y=\"-2643.3\" font-family=\"Times,serif\" font-size=\"14.00\" fill=\"#000000\">samples = 42</text>\n<text text-anchor=\"start\" x=\"6899.6667\" y=\"-2628.3\" font-family=\"Times,serif\" font-size=\"14.00\" fill=\"#000000\">value = 70.608</text>\n</g>\n<!-- 108&#45;&gt;109 -->\n<g id=\"edge109\" class=\"edge\">\n<title>108&#45;&gt;109</title>\n<path fill=\"none\" stroke=\"#000000\" d=\"M6247.2817,-2648.9363C6375.1839,-2649.9582 6695.2072,-2652.515 6852.9169,-2653.775\"/>\n<polygon fill=\"#000000\" stroke=\"#000000\" points=\"6853.0388,-2657.276 6863.0665,-2653.8561 6853.0948,-2650.2762 6853.0388,-2657.276\"/>\n</g>\n<!-- 112 -->\n<g id=\"node113\" class=\"node\">\n<title>112</title>\n<polygon fill=\"#f0b58b\" stroke=\"#000000\" points=\"6995.6667,-2602 6891.6667,-2602 6891.6667,-2549 6995.6667,-2549 6995.6667,-2602\"/>\n<text text-anchor=\"start\" x=\"6899.6667\" y=\"-2586.8\" font-family=\"Times,serif\" font-size=\"14.00\" fill=\"#000000\">mse = 498.858</text>\n<text text-anchor=\"start\" x=\"6905.6667\" y=\"-2571.8\" font-family=\"Times,serif\" font-size=\"14.00\" fill=\"#000000\">samples = 36</text>\n<text text-anchor=\"start\" x=\"6899.6667\" y=\"-2556.8\" font-family=\"Times,serif\" font-size=\"14.00\" fill=\"#000000\">value = 82.377</text>\n</g>\n<!-- 108&#45;&gt;112 -->\n<g id=\"edge112\" class=\"edge\">\n<title>108&#45;&gt;112</title>\n<path fill=\"none\" stroke=\"#000000\" d=\"M6247.2817,-2643.1912C6383.4165,-2629.9584 6737.2003,-2595.5693 6881.2584,-2581.5663\"/>\n<polygon fill=\"#000000\" stroke=\"#000000\" points=\"6881.6478,-2585.0451 6891.2622,-2580.5939 6880.9705,-2578.0779 6881.6478,-2585.0451\"/>\n</g>\n<!-- 110 -->\n<g id=\"node111\" class=\"node\">\n<title>110</title>\n<polygon fill=\"#f1bb94\" stroke=\"#000000\" points=\"7643.6667,-2716 7539.6667,-2716 7539.6667,-2663 7643.6667,-2663 7643.6667,-2716\"/>\n<text text-anchor=\"start\" x=\"7547.6667\" y=\"-2700.8\" font-family=\"Times,serif\" font-size=\"14.00\" fill=\"#000000\">mse = 233.984</text>\n<text text-anchor=\"start\" x=\"7553.6667\" y=\"-2685.8\" font-family=\"Times,serif\" font-size=\"14.00\" fill=\"#000000\">samples = 22</text>\n<text text-anchor=\"start\" x=\"7547.6667\" y=\"-2670.8\" font-family=\"Times,serif\" font-size=\"14.00\" fill=\"#000000\">value = 75.625</text>\n</g>\n<!-- 109&#45;&gt;110 -->\n<g id=\"edge110\" class=\"edge\">\n<title>109&#45;&gt;110</title>\n<path fill=\"none\" stroke=\"#000000\" d=\"M7024.4261,-2658.862C7155.3361,-2665.9328 7411.0949,-2679.7469 7529.1751,-2686.1247\"/>\n<polygon fill=\"#000000\" stroke=\"#000000\" points=\"7529.3087,-2689.6369 7539.483,-2686.6814 7529.6863,-2682.6471 7529.3087,-2689.6369\"/>\n</g>\n<!-- 111 -->\n<g id=\"node112\" class=\"node\">\n<title>111</title>\n<polygon fill=\"#f3c5a4\" stroke=\"#000000\" points=\"7643.6667,-2645 7539.6667,-2645 7539.6667,-2592 7643.6667,-2592 7643.6667,-2645\"/>\n<text text-anchor=\"start\" x=\"7547.6667\" y=\"-2629.8\" font-family=\"Times,serif\" font-size=\"14.00\" fill=\"#000000\">mse = 298.443</text>\n<text text-anchor=\"start\" x=\"7553.6667\" y=\"-2614.8\" font-family=\"Times,serif\" font-size=\"14.00\" fill=\"#000000\">samples = 20</text>\n<text text-anchor=\"start\" x=\"7547.6667\" y=\"-2599.8\" font-family=\"Times,serif\" font-size=\"14.00\" fill=\"#000000\">value = 64.706</text>\n</g>\n<!-- 109&#45;&gt;111 -->\n<g id=\"edge111\" class=\"edge\">\n<title>109&#45;&gt;111</title>\n<path fill=\"none\" stroke=\"#000000\" d=\"M7024.4261,-2650.0134C7155.3361,-2642.7406 7411.0949,-2628.5318 7529.1751,-2621.9718\"/>\n<polygon fill=\"#000000\" stroke=\"#000000\" points=\"7529.6925,-2625.4485 7539.483,-2621.3991 7529.3042,-2618.4593 7529.6925,-2625.4485\"/>\n</g>\n<!-- 114 -->\n<g id=\"node115\" class=\"node\">\n<title>114</title>\n<polygon fill=\"#efb184\" stroke=\"#000000\" points=\"5519.1667,-2605.5 5346.1667,-2605.5 5346.1667,-2537.5 5519.1667,-2537.5 5519.1667,-2605.5\"/>\n<text text-anchor=\"start\" x=\"5354.1667\" y=\"-2590.3\" font-family=\"Times,serif\" font-size=\"14.00\" fill=\"#000000\">prevmeandeltasgv ≤ &#45;0.625</text>\n<text text-anchor=\"start\" x=\"5388.6667\" y=\"-2575.3\" font-family=\"Times,serif\" font-size=\"14.00\" fill=\"#000000\">mse = 385.595</text>\n<text text-anchor=\"start\" x=\"5394.6667\" y=\"-2560.3\" font-family=\"Times,serif\" font-size=\"14.00\" fill=\"#000000\">samples = 71</text>\n<text text-anchor=\"start\" x=\"5388.6667\" y=\"-2545.3\" font-family=\"Times,serif\" font-size=\"14.00\" fill=\"#000000\">value = 87.385</text>\n</g>\n<!-- 113&#45;&gt;114 -->\n<g id=\"edge114\" class=\"edge\">\n<title>113&#45;&gt;114</title>\n<path fill=\"none\" stroke=\"#000000\" d=\"M4758.5243,-2571.5C4900.7065,-2571.5 5186.1698,-2571.5 5335.9229,-2571.5\"/>\n<polygon fill=\"#000000\" stroke=\"#000000\" points=\"5336.0273,-2575.0001 5346.0272,-2571.5 5336.0272,-2568.0001 5336.0273,-2575.0001\"/>\n</g>\n<!-- 117 -->\n<g id=\"node118\" class=\"node\">\n<title>117</title>\n<polygon fill=\"#f2c09c\" stroke=\"#000000\" points=\"5484.6667,-2519 5380.6667,-2519 5380.6667,-2466 5484.6667,-2466 5484.6667,-2519\"/>\n<text text-anchor=\"start\" x=\"5388.6667\" y=\"-2503.8\" font-family=\"Times,serif\" font-size=\"14.00\" fill=\"#000000\">mse = 290.527</text>\n<text text-anchor=\"start\" x=\"5394.6667\" y=\"-2488.8\" font-family=\"Times,serif\" font-size=\"14.00\" fill=\"#000000\">samples = 20</text>\n<text text-anchor=\"start\" x=\"5388.6667\" y=\"-2473.8\" font-family=\"Times,serif\" font-size=\"14.00\" fill=\"#000000\">value = 70.312</text>\n</g>\n<!-- 113&#45;&gt;117 -->\n<g id=\"edge117\" class=\"edge\">\n<title>113&#45;&gt;117</title>\n<path fill=\"none\" stroke=\"#000000\" d=\"M4758.5243,-2562.6677C4912.5332,-2546.6377 5234.6509,-2513.1103 5370.3149,-2498.9898\"/>\n<polygon fill=\"#000000\" stroke=\"#000000\" points=\"5370.9481,-2502.4429 5380.532,-2497.9264 5370.2233,-2495.4805 5370.9481,-2502.4429\"/>\n</g>\n<!-- 115 -->\n<g id=\"node116\" class=\"node\">\n<title>115</title>\n<polygon fill=\"#eeae80\" stroke=\"#000000\" points=\"6244.6667,-2596 6140.6667,-2596 6140.6667,-2543 6244.6667,-2543 6244.6667,-2596\"/>\n<text text-anchor=\"start\" x=\"6148.6667\" y=\"-2580.8\" font-family=\"Times,serif\" font-size=\"14.00\" fill=\"#000000\">mse = 481.076</text>\n<text text-anchor=\"start\" x=\"6154.6667\" y=\"-2565.8\" font-family=\"Times,serif\" font-size=\"14.00\" fill=\"#000000\">samples = 37</text>\n<text text-anchor=\"start\" x=\"6148.6667\" y=\"-2550.8\" font-family=\"Times,serif\" font-size=\"14.00\" fill=\"#000000\">value = 90.417</text>\n</g>\n<!-- 114&#45;&gt;115 -->\n<g id=\"edge115\" class=\"edge\">\n<title>114&#45;&gt;115</title>\n<path fill=\"none\" stroke=\"#000000\" d=\"M5519.478,-2571.2715C5674.3497,-2570.864 5994.7106,-2570.0209 6130.0947,-2569.6647\"/>\n<polygon fill=\"#000000\" stroke=\"#000000\" points=\"6130.3023,-2573.1642 6140.293,-2569.6378 6130.2838,-2566.1643 6130.3023,-2573.1642\"/>\n</g>\n<!-- 116 -->\n<g id=\"node117\" class=\"node\">\n<title>116</title>\n<polygon fill=\"#f0b489\" stroke=\"#000000\" points=\"6244.6667,-2525 6140.6667,-2525 6140.6667,-2472 6244.6667,-2472 6244.6667,-2525\"/>\n<text text-anchor=\"start\" x=\"6148.6667\" y=\"-2509.8\" font-family=\"Times,serif\" font-size=\"14.00\" fill=\"#000000\">mse = 243.648</text>\n<text text-anchor=\"start\" x=\"6154.6667\" y=\"-2494.8\" font-family=\"Times,serif\" font-size=\"14.00\" fill=\"#000000\">samples = 34</text>\n<text text-anchor=\"start\" x=\"6148.6667\" y=\"-2479.8\" font-family=\"Times,serif\" font-size=\"14.00\" fill=\"#000000\">value = 83.673</text>\n</g>\n<!-- 114&#45;&gt;116 -->\n<g id=\"edge116\" class=\"edge\">\n<title>114&#45;&gt;116</title>\n<path fill=\"none\" stroke=\"#000000\" d=\"M5519.478,-2563.1615C5674.3497,-2548.2857 5994.7106,-2517.5142 6130.0947,-2504.5102\"/>\n<polygon fill=\"#000000\" stroke=\"#000000\" points=\"6130.6735,-2507.9708 6140.293,-2503.5306 6130.0041,-2501.0029 6130.6735,-2507.9708\"/>\n</g>\n<!-- 120 -->\n<g id=\"node121\" class=\"node\">\n<title>120</title>\n<polygon fill=\"#f7dac4\" stroke=\"#000000\" points=\"1870.6667,-2487.5 1766.6667,-2487.5 1766.6667,-2419.5 1870.6667,-2419.5 1870.6667,-2487.5\"/>\n<text text-anchor=\"start\" x=\"1781.6667\" y=\"-2472.3\" font-family=\"Times,serif\" font-size=\"14.00\" fill=\"#000000\">sgv&#45;4 ≤ 84.5</text>\n<text text-anchor=\"start\" x=\"1774.6667\" y=\"-2457.3\" font-family=\"Times,serif\" font-size=\"14.00\" fill=\"#000000\">mse = 306.719</text>\n<text text-anchor=\"start\" x=\"1776.6667\" y=\"-2442.3\" font-family=\"Times,serif\" font-size=\"14.00\" fill=\"#000000\">samples = 164</text>\n<text text-anchor=\"start\" x=\"1774.6667\" y=\"-2427.3\" font-family=\"Times,serif\" font-size=\"14.00\" fill=\"#000000\">value = 41.795</text>\n</g>\n<!-- 119&#45;&gt;120 -->\n<g id=\"edge120\" class=\"edge\">\n<title>119&#45;&gt;120</title>\n<path fill=\"none\" stroke=\"#000000\" d=\"M1329.1284,-2227.6982C1429.9331,-2274.1948 1650.1915,-2375.79 1757.4861,-2425.2802\"/>\n<polygon fill=\"#000000\" stroke=\"#000000\" points=\"1756.0274,-2428.4617 1766.574,-2429.472 1758.9594,-2422.1053 1756.0274,-2428.4617\"/>\n</g>\n<!-- 131 -->\n<g id=\"node132\" class=\"node\">\n<title>131</title>\n<polygon fill=\"#f0b88f\" stroke=\"#000000\" points=\"1873.1667,-2100.5 1764.1667,-2100.5 1764.1667,-2032.5 1873.1667,-2032.5 1873.1667,-2100.5\"/>\n<text text-anchor=\"start\" x=\"1772.1667\" y=\"-2085.3\" font-family=\"Times,serif\" font-size=\"14.00\" fill=\"#000000\">insulin&#45;1 ≤ 87.5</text>\n<text text-anchor=\"start\" x=\"1774.6667\" y=\"-2070.3\" font-family=\"Times,serif\" font-size=\"14.00\" fill=\"#000000\">mse = 888.819</text>\n<text text-anchor=\"start\" x=\"1776.6667\" y=\"-2055.3\" font-family=\"Times,serif\" font-size=\"14.00\" fill=\"#000000\">samples = 684</text>\n<text text-anchor=\"start\" x=\"1774.6667\" y=\"-2040.3\" font-family=\"Times,serif\" font-size=\"14.00\" fill=\"#000000\">value = 79.104</text>\n</g>\n<!-- 119&#45;&gt;131 -->\n<g id=\"edge131\" class=\"edge\">\n<title>119&#45;&gt;131</title>\n<path fill=\"none\" stroke=\"#000000\" d=\"M1329.1284,-2190.2394C1428.8288,-2165.0384 1645.38,-2110.3012 1753.9195,-2082.866\"/>\n<polygon fill=\"#000000\" stroke=\"#000000\" points=\"1754.9249,-2086.222 1763.7622,-2080.3781 1753.2094,-2079.4355 1754.9249,-2086.222\"/>\n</g>\n<!-- 121 -->\n<g id=\"node122\" class=\"node\">\n<title>121</title>\n<polygon fill=\"#fbece2\" stroke=\"#000000\" points=\"2479.6667,-2559 2375.6667,-2559 2375.6667,-2506 2479.6667,-2506 2479.6667,-2559\"/>\n<text text-anchor=\"start\" x=\"2383.6667\" y=\"-2543.8\" font-family=\"Times,serif\" font-size=\"14.00\" fill=\"#000000\">mse = 660.204</text>\n<text text-anchor=\"start\" x=\"2389.6667\" y=\"-2528.8\" font-family=\"Times,serif\" font-size=\"14.00\" fill=\"#000000\">samples = 22</text>\n<text text-anchor=\"start\" x=\"2383.6667\" y=\"-2513.8\" font-family=\"Times,serif\" font-size=\"14.00\" fill=\"#000000\">value = 20.714</text>\n</g>\n<!-- 120&#45;&gt;121 -->\n<g id=\"edge121\" class=\"edge\">\n<title>120&#45;&gt;121</title>\n<path fill=\"none\" stroke=\"#000000\" d=\"M1870.8529,-2460.2696C1982.6821,-2474.7762 2245.0125,-2508.8059 2365.3485,-2524.416\"/>\n<polygon fill=\"#000000\" stroke=\"#000000\" points=\"2365.1341,-2527.9175 2375.5012,-2525.7331 2366.0346,-2520.9756 2365.1341,-2527.9175\"/>\n</g>\n<!-- 122 -->\n<g id=\"node123\" class=\"node\">\n<title>122</title>\n<polygon fill=\"#f7d7bf\" stroke=\"#000000\" points=\"2482.1667,-2487.5 2373.1667,-2487.5 2373.1667,-2419.5 2482.1667,-2419.5 2482.1667,-2487.5\"/>\n<text text-anchor=\"start\" x=\"2381.1667\" y=\"-2472.3\" font-family=\"Times,serif\" font-size=\"14.00\" fill=\"#000000\">insulin&#45;1 ≤ 37.5</text>\n<text text-anchor=\"start\" x=\"2383.6667\" y=\"-2457.3\" font-family=\"Times,serif\" font-size=\"14.00\" fill=\"#000000\">mse = 171.197</text>\n<text text-anchor=\"start\" x=\"2385.6667\" y=\"-2442.3\" font-family=\"Times,serif\" font-size=\"14.00\" fill=\"#000000\">samples = 142</text>\n<text text-anchor=\"start\" x=\"2383.6667\" y=\"-2427.3\" font-family=\"Times,serif\" font-size=\"14.00\" fill=\"#000000\">value = 45.089</text>\n</g>\n<!-- 120&#45;&gt;122 -->\n<g id=\"edge122\" class=\"edge\">\n<title>120&#45;&gt;122</title>\n<path fill=\"none\" stroke=\"#000000\" d=\"M1870.8529,-2453.5C1981.8423,-2453.5 2241.0811,-2453.5 2362.6137,-2453.5\"/>\n<polygon fill=\"#000000\" stroke=\"#000000\" points=\"2362.8821,-2457.0001 2372.8821,-2453.5 2362.8821,-2450.0001 2362.8821,-2457.0001\"/>\n</g>\n<!-- 123 -->\n<g id=\"node124\" class=\"node\">\n<title>123</title>\n<polygon fill=\"#f8dcc8\" stroke=\"#000000\" points=\"3200.6667,-2605.5 3096.6667,-2605.5 3096.6667,-2537.5 3200.6667,-2537.5 3200.6667,-2605.5\"/>\n<text text-anchor=\"start\" x=\"3107.6667\" y=\"-2590.3\" font-family=\"Times,serif\" font-size=\"14.00\" fill=\"#000000\">sgv&#45;3 ≤ 107.5</text>\n<text text-anchor=\"start\" x=\"3104.6667\" y=\"-2575.3\" font-family=\"Times,serif\" font-size=\"14.00\" fill=\"#000000\">mse = 220.193</text>\n<text text-anchor=\"start\" x=\"3110.6667\" y=\"-2560.3\" font-family=\"Times,serif\" font-size=\"14.00\" fill=\"#000000\">samples = 61</text>\n<text text-anchor=\"start\" x=\"3104.6667\" y=\"-2545.3\" font-family=\"Times,serif\" font-size=\"14.00\" fill=\"#000000\">value = 39.096</text>\n</g>\n<!-- 122&#45;&gt;123 -->\n<g id=\"edge123\" class=\"edge\">\n<title>122&#45;&gt;123</title>\n<path fill=\"none\" stroke=\"#000000\" d=\"M2482.4506,-2462.466C2614.0577,-2484.0051 2947.3815,-2538.5573 3086.3442,-2561.3002\"/>\n<polygon fill=\"#000000\" stroke=\"#000000\" points=\"3085.9715,-2564.7857 3096.4055,-2562.9469 3087.1021,-2557.8776 3085.9715,-2564.7857\"/>\n</g>\n<!-- 126 -->\n<g id=\"node127\" class=\"node\">\n<title>126</title>\n<polygon fill=\"#f6d3b9\" stroke=\"#000000\" points=\"3217.1667,-2487.5 3080.1667,-2487.5 3080.1667,-2419.5 3217.1667,-2419.5 3217.1667,-2487.5\"/>\n<text text-anchor=\"start\" x=\"3088.1667\" y=\"-2472.3\" font-family=\"Times,serif\" font-size=\"14.00\" fill=\"#000000\">Tendencia (#1) ≤ 1.5</text>\n<text text-anchor=\"start\" x=\"3108.6667\" y=\"-2457.3\" font-family=\"Times,serif\" font-size=\"14.00\" fill=\"#000000\">mse = 91.013</text>\n<text text-anchor=\"start\" x=\"3110.6667\" y=\"-2442.3\" font-family=\"Times,serif\" font-size=\"14.00\" fill=\"#000000\">samples = 81</text>\n<text text-anchor=\"start\" x=\"3104.6667\" y=\"-2427.3\" font-family=\"Times,serif\" font-size=\"14.00\" fill=\"#000000\">value = 49.423</text>\n</g>\n<!-- 122&#45;&gt;126 -->\n<g id=\"edge126\" class=\"edge\">\n<title>122&#45;&gt;126</title>\n<path fill=\"none\" stroke=\"#000000\" d=\"M2482.4506,-2453.5C2609.0547,-2453.5 2922.3305,-2453.5 3069.6754,-2453.5\"/>\n<polygon fill=\"#000000\" stroke=\"#000000\" points=\"3069.9927,-2457.0001 3079.9926,-2453.5 3069.9926,-2450.0001 3069.9927,-2457.0001\"/>\n</g>\n<!-- 124 -->\n<g id=\"node125\" class=\"node\">\n<title>124</title>\n<polygon fill=\"#f7d8c1\" stroke=\"#000000\" points=\"3966.6667,-2669 3862.6667,-2669 3862.6667,-2616 3966.6667,-2616 3966.6667,-2669\"/>\n<text text-anchor=\"start\" x=\"3870.6667\" y=\"-2653.8\" font-family=\"Times,serif\" font-size=\"14.00\" fill=\"#000000\">mse = 229.981</text>\n<text text-anchor=\"start\" x=\"3876.6667\" y=\"-2638.8\" font-family=\"Times,serif\" font-size=\"14.00\" fill=\"#000000\">samples = 38</text>\n<text text-anchor=\"start\" x=\"3870.6667\" y=\"-2623.8\" font-family=\"Times,serif\" font-size=\"14.00\" fill=\"#000000\">value = 43.981</text>\n</g>\n<!-- 123&#45;&gt;124 -->\n<g id=\"edge124\" class=\"edge\">\n<title>123&#45;&gt;124</title>\n<path fill=\"none\" stroke=\"#000000\" d=\"M3200.7147,-2576.3243C3337.1828,-2588.9734 3704.9356,-2623.0602 3852.3222,-2636.7213\"/>\n<polygon fill=\"#000000\" stroke=\"#000000\" points=\"3852.2666,-2640.2311 3862.547,-2637.6691 3852.9127,-2633.261 3852.2666,-2640.2311\"/>\n</g>\n<!-- 125 -->\n<g id=\"node126\" class=\"node\">\n<title>125</title>\n<polygon fill=\"#f9e2d1\" stroke=\"#000000\" points=\"3962.6667,-2598 3866.6667,-2598 3866.6667,-2545 3962.6667,-2545 3962.6667,-2598\"/>\n<text text-anchor=\"start\" x=\"3874.6667\" y=\"-2582.8\" font-family=\"Times,serif\" font-size=\"14.00\" fill=\"#000000\">mse = 131.25</text>\n<text text-anchor=\"start\" x=\"3876.6667\" y=\"-2567.8\" font-family=\"Times,serif\" font-size=\"14.00\" fill=\"#000000\">samples = 23</text>\n<text text-anchor=\"start\" x=\"3878.1667\" y=\"-2552.8\" font-family=\"Times,serif\" font-size=\"14.00\" fill=\"#000000\">value = 32.5</text>\n</g>\n<!-- 123&#45;&gt;125 -->\n<g id=\"edge125\" class=\"edge\">\n<title>123&#45;&gt;125</title>\n<path fill=\"none\" stroke=\"#000000\" d=\"M3200.7147,-2571.5C3338.4981,-2571.5 3712.0463,-2571.5 3856.5222,-2571.5\"/>\n<polygon fill=\"#000000\" stroke=\"#000000\" points=\"3856.5222,-2575.0001 3866.5222,-2571.5 3856.5221,-2568.0001 3856.5222,-2575.0001\"/>\n</g>\n<!-- 127 -->\n<g id=\"node128\" class=\"node\">\n<title>127</title>\n<polygon fill=\"#f5ceb2\" stroke=\"#000000\" points=\"3966.6667,-2527 3862.6667,-2527 3862.6667,-2474 3966.6667,-2474 3966.6667,-2527\"/>\n<text text-anchor=\"start\" x=\"3874.6667\" y=\"-2511.8\" font-family=\"Times,serif\" font-size=\"14.00\" fill=\"#000000\">mse = 92.975</text>\n<text text-anchor=\"start\" x=\"3876.6667\" y=\"-2496.8\" font-family=\"Times,serif\" font-size=\"14.00\" fill=\"#000000\">samples = 25</text>\n<text text-anchor=\"start\" x=\"3870.6667\" y=\"-2481.8\" font-family=\"Times,serif\" font-size=\"14.00\" fill=\"#000000\">value = 54.545</text>\n</g>\n<!-- 126&#45;&gt;127 -->\n<g id=\"edge127\" class=\"edge\">\n<title>126&#45;&gt;127</title>\n<path fill=\"none\" stroke=\"#000000\" d=\"M3217.3182,-2457.7123C3364.9182,-2466.7687 3710.5432,-2487.9755 3852.3129,-2496.6741\"/>\n<polygon fill=\"#000000\" stroke=\"#000000\" points=\"3852.3713,-2500.1842 3862.567,-2497.3033 3852.8001,-2493.1973 3852.3713,-2500.1842\"/>\n</g>\n<!-- 128 -->\n<g id=\"node129\" class=\"node\">\n<title>128</title>\n<polygon fill=\"#f6d4bc\" stroke=\"#000000\" points=\"3986.1667,-2455.5 3843.1667,-2455.5 3843.1667,-2387.5 3986.1667,-2387.5 3986.1667,-2455.5\"/>\n<text text-anchor=\"start\" x=\"3851.1667\" y=\"-2440.3\" font-family=\"Times,serif\" font-size=\"14.00\" fill=\"#000000\">meandeltasgv ≤ 1.625</text>\n<text text-anchor=\"start\" x=\"3874.6667\" y=\"-2425.3\" font-family=\"Times,serif\" font-size=\"14.00\" fill=\"#000000\">mse = 78.382</text>\n<text text-anchor=\"start\" x=\"3876.6667\" y=\"-2410.3\" font-family=\"Times,serif\" font-size=\"14.00\" fill=\"#000000\">samples = 56</text>\n<text text-anchor=\"start\" x=\"3874.1667\" y=\"-2395.3\" font-family=\"Times,serif\" font-size=\"14.00\" fill=\"#000000\">value = 47.68</text>\n</g>\n<!-- 126&#45;&gt;128 -->\n<g id=\"edge128\" class=\"edge\">\n<title>126&#45;&gt;128</title>\n<path fill=\"none\" stroke=\"#000000\" d=\"M3217.3182,-2450.6321C3358.5728,-2444.7311 3681.1918,-2431.2535 3832.9301,-2424.9146\"/>\n<polygon fill=\"#000000\" stroke=\"#000000\" points=\"3833.2695,-2428.4036 3843.1147,-2424.4891 3832.9773,-2421.4097 3833.2695,-2428.4036\"/>\n</g>\n<!-- 129 -->\n<g id=\"node130\" class=\"node\">\n<title>129</title>\n<polygon fill=\"#f6d6be\" stroke=\"#000000\" points=\"4722.1667,-2519 4625.1667,-2519 4625.1667,-2466 4722.1667,-2466 4722.1667,-2519\"/>\n<text text-anchor=\"start\" x=\"4633.6667\" y=\"-2503.8\" font-family=\"Times,serif\" font-size=\"14.00\" fill=\"#000000\">mse = 79.688</text>\n<text text-anchor=\"start\" x=\"4635.6667\" y=\"-2488.8\" font-family=\"Times,serif\" font-size=\"14.00\" fill=\"#000000\">samples = 36</text>\n<text text-anchor=\"start\" x=\"4633.1667\" y=\"-2473.8\" font-family=\"Times,serif\" font-size=\"14.00\" fill=\"#000000\">value = 46.25</text>\n</g>\n<!-- 128&#45;&gt;129 -->\n<g id=\"edge129\" class=\"edge\">\n<title>128&#45;&gt;129</title>\n<path fill=\"none\" stroke=\"#000000\" d=\"M3986.4133,-2428.2115C4135.696,-2442.176 4477.2519,-2474.1266 4614.7331,-2486.9871\"/>\n<polygon fill=\"#000000\" stroke=\"#000000\" points=\"4614.773,-2490.506 4625.0556,-2487.9527 4615.4251,-2483.5365 4614.773,-2490.506\"/>\n</g>\n<!-- 130 -->\n<g id=\"node131\" class=\"node\">\n<title>130</title>\n<polygon fill=\"#f6d2b9\" stroke=\"#000000\" points=\"4721.6667,-2448 4625.6667,-2448 4625.6667,-2395 4721.6667,-2395 4721.6667,-2448\"/>\n<text text-anchor=\"start\" x=\"4633.6667\" y=\"-2432.8\" font-family=\"Times,serif\" font-size=\"14.00\" fill=\"#000000\">mse = 67.568</text>\n<text text-anchor=\"start\" x=\"4635.6667\" y=\"-2417.8\" font-family=\"Times,serif\" font-size=\"14.00\" fill=\"#000000\">samples = 20</text>\n<text text-anchor=\"start\" x=\"4637.1667\" y=\"-2402.8\" font-family=\"Times,serif\" font-size=\"14.00\" fill=\"#000000\">value = 50.0</text>\n</g>\n<!-- 128&#45;&gt;130 -->\n<g id=\"edge130\" class=\"edge\">\n<title>128&#45;&gt;130</title>\n<path fill=\"none\" stroke=\"#000000\" d=\"M3986.4133,-2421.5C4135.8761,-2421.5 4478.0762,-2421.5 4615.2297,-2421.5\"/>\n<polygon fill=\"#000000\" stroke=\"#000000\" points=\"4615.5246,-2425.0001 4625.5246,-2421.5 4615.5246,-2418.0001 4615.5246,-2425.0001\"/>\n</g>\n<!-- 132 -->\n<g id=\"node133\" class=\"node\">\n<title>132</title>\n<polygon fill=\"#f2be99\" stroke=\"#000000\" points=\"2479.6667,-2100.5 2375.6667,-2100.5 2375.6667,-2032.5 2479.6667,-2032.5 2479.6667,-2100.5\"/>\n<text text-anchor=\"start\" x=\"2386.6667\" y=\"-2085.3\" font-family=\"Times,serif\" font-size=\"14.00\" fill=\"#000000\">deltasgv ≤ 3.5</text>\n<text text-anchor=\"start\" x=\"2387.6667\" y=\"-2070.3\" font-family=\"Times,serif\" font-size=\"14.00\" fill=\"#000000\">mse = 797.13</text>\n<text text-anchor=\"start\" x=\"2385.6667\" y=\"-2055.3\" font-family=\"Times,serif\" font-size=\"14.00\" fill=\"#000000\">samples = 518</text>\n<text text-anchor=\"start\" x=\"2383.6667\" y=\"-2040.3\" font-family=\"Times,serif\" font-size=\"14.00\" fill=\"#000000\">value = 72.484</text>\n</g>\n<!-- 131&#45;&gt;132 -->\n<g id=\"edge132\" class=\"edge\">\n<title>131&#45;&gt;132</title>\n<path fill=\"none\" stroke=\"#000000\" d=\"M1873.2473,-2066.5C1986.4374,-2066.5 2246.1063,-2066.5 2365.5162,-2066.5\"/>\n<polygon fill=\"#000000\" stroke=\"#000000\" points=\"2365.5926,-2070.0001 2375.5926,-2066.5 2365.5925,-2063.0001 2365.5926,-2070.0001\"/>\n</g>\n<!-- 169 -->\n<g id=\"node170\" class=\"node\">\n<title>169</title>\n<polygon fill=\"#eda673\" stroke=\"#000000\" points=\"2496.1667,-1722.5 2359.1667,-1722.5 2359.1667,-1654.5 2496.1667,-1654.5 2496.1667,-1722.5\"/>\n<text text-anchor=\"start\" x=\"2367.1667\" y=\"-1707.3\" font-family=\"Times,serif\" font-size=\"14.00\" fill=\"#000000\">Tendencia (#1) ≤ 4.0</text>\n<text text-anchor=\"start\" x=\"2383.6667\" y=\"-1692.3\" font-family=\"Times,serif\" font-size=\"14.00\" fill=\"#000000\">mse = 638.074</text>\n<text text-anchor=\"start\" x=\"2385.6667\" y=\"-1677.3\" font-family=\"Times,serif\" font-size=\"14.00\" fill=\"#000000\">samples = 166</text>\n<text text-anchor=\"start\" x=\"2383.6667\" y=\"-1662.3\" font-family=\"Times,serif\" font-size=\"14.00\" fill=\"#000000\">value = 98.962</text>\n</g>\n<!-- 131&#45;&gt;169 -->\n<g id=\"edge169\" class=\"edge\">\n<title>131&#45;&gt;169</title>\n<path fill=\"none\" stroke=\"#000000\" d=\"M1873.2473,-2032.6224C1985.8955,-1962.7028 2243.6235,-1802.7337 2363.7917,-1728.1465\"/>\n<polygon fill=\"#000000\" stroke=\"#000000\" points=\"2365.8999,-1730.9574 2372.5505,-1722.71 2362.2083,-1725.01 2365.8999,-1730.9574\"/>\n</g>\n<!-- 133 -->\n<g id=\"node134\" class=\"node\">\n<title>133</title>\n<polygon fill=\"#f3c3a1\" stroke=\"#000000\" points=\"3203.1667,-2161.5 3094.1667,-2161.5 3094.1667,-2093.5 3203.1667,-2093.5 3203.1667,-2161.5\"/>\n<text text-anchor=\"start\" x=\"3102.1667\" y=\"-2146.3\" font-family=\"Times,serif\" font-size=\"14.00\" fill=\"#000000\">insulin&#45;2 ≤ 37.5</text>\n<text text-anchor=\"start\" x=\"3104.6667\" y=\"-2131.3\" font-family=\"Times,serif\" font-size=\"14.00\" fill=\"#000000\">mse = 598.425</text>\n<text text-anchor=\"start\" x=\"3106.6667\" y=\"-2116.3\" font-family=\"Times,serif\" font-size=\"14.00\" fill=\"#000000\">samples = 221</text>\n<text text-anchor=\"start\" x=\"3104.6667\" y=\"-2101.3\" font-family=\"Times,serif\" font-size=\"14.00\" fill=\"#000000\">value = 66.739</text>\n</g>\n<!-- 132&#45;&gt;133 -->\n<g id=\"edge133\" class=\"edge\">\n<title>132&#45;&gt;133</title>\n<path fill=\"none\" stroke=\"#000000\" d=\"M2479.8092,-2070.9115C2608.7211,-2081.8181 2942.1868,-2110.0308 3083.6649,-2122.0005\"/>\n<polygon fill=\"#000000\" stroke=\"#000000\" points=\"3083.66,-2125.5125 3093.9195,-2122.8681 3084.2502,-2118.5375 3083.66,-2125.5125\"/>\n</g>\n<!-- 150 -->\n<g id=\"node151\" class=\"node\">\n<title>150</title>\n<polygon fill=\"#f1ba93\" stroke=\"#000000\" points=\"3233.1667,-2039.5 3064.1667,-2039.5 3064.1667,-1971.5 3233.1667,-1971.5 3233.1667,-2039.5\"/>\n<text text-anchor=\"start\" x=\"3072.1667\" y=\"-2024.3\" font-family=\"Times,serif\" font-size=\"14.00\" fill=\"#000000\">prevmeandeltasgv ≤ 4.875</text>\n<text text-anchor=\"start\" x=\"3104.6667\" y=\"-2009.3\" font-family=\"Times,serif\" font-size=\"14.00\" fill=\"#000000\">mse = 904.765</text>\n<text text-anchor=\"start\" x=\"3106.6667\" y=\"-1994.3\" font-family=\"Times,serif\" font-size=\"14.00\" fill=\"#000000\">samples = 297</text>\n<text text-anchor=\"start\" x=\"3104.6667\" y=\"-1979.3\" font-family=\"Times,serif\" font-size=\"14.00\" fill=\"#000000\">value = 76.889</text>\n</g>\n<!-- 132&#45;&gt;150 -->\n<g id=\"edge150\" class=\"edge\">\n<title>132&#45;&gt;150</title>\n<path fill=\"none\" stroke=\"#000000\" d=\"M2479.8092,-2062.0885C2600.2836,-2051.8958 2899.4109,-2026.5882 3053.5285,-2013.5491\"/>\n<polygon fill=\"#000000\" stroke=\"#000000\" points=\"3054.2491,-2017.0008 3063.9184,-2012.6701 3053.6589,-2010.0257 3054.2491,-2017.0008\"/>\n</g>\n<!-- 134 -->\n<g id=\"node135\" class=\"node\">\n<title>134</title>\n<polygon fill=\"#f4cbae\" stroke=\"#000000\" points=\"3966.6667,-2305.5 3862.6667,-2305.5 3862.6667,-2237.5 3966.6667,-2237.5 3966.6667,-2305.5\"/>\n<text text-anchor=\"start\" x=\"3880.1667\" y=\"-2290.3\" font-family=\"Times,serif\" font-size=\"14.00\" fill=\"#000000\">sgv ≤ 117.5</text>\n<text text-anchor=\"start\" x=\"3870.6667\" y=\"-2275.3\" font-family=\"Times,serif\" font-size=\"14.00\" fill=\"#000000\">mse = 703.474</text>\n<text text-anchor=\"start\" x=\"3876.6667\" y=\"-2260.3\" font-family=\"Times,serif\" font-size=\"14.00\" fill=\"#000000\">samples = 75</text>\n<text text-anchor=\"start\" x=\"3870.6667\" y=\"-2245.3\" font-family=\"Times,serif\" font-size=\"14.00\" fill=\"#000000\">value = 57.812</text>\n</g>\n<!-- 133&#45;&gt;134 -->\n<g id=\"edge134\" class=\"edge\">\n<title>133&#45;&gt;134</title>\n<path fill=\"none\" stroke=\"#000000\" d=\"M3203.4481,-2137.7983C3342.0544,-2163.8549 3706.039,-2232.2802 3852.4008,-2259.7947\"/>\n<polygon fill=\"#000000\" stroke=\"#000000\" points=\"3852.0822,-2263.296 3862.5567,-2261.7039 3853.3755,-2256.4165 3852.0822,-2263.296\"/>\n</g>\n<!-- 139 -->\n<g id=\"node140\" class=\"node\">\n<title>139</title>\n<polygon fill=\"#f2bf9b\" stroke=\"#000000\" points=\"3986.1667,-2161.5 3843.1667,-2161.5 3843.1667,-2093.5 3986.1667,-2093.5 3986.1667,-2161.5\"/>\n<text text-anchor=\"start\" x=\"3851.1667\" y=\"-2146.3\" font-family=\"Times,serif\" font-size=\"14.00\" fill=\"#000000\">meandeltasgv ≤ 3.875</text>\n<text text-anchor=\"start\" x=\"3870.6667\" y=\"-2131.3\" font-family=\"Times,serif\" font-size=\"14.00\" fill=\"#000000\">mse = 491.214</text>\n<text text-anchor=\"start\" x=\"3872.6667\" y=\"-2116.3\" font-family=\"Times,serif\" font-size=\"14.00\" fill=\"#000000\">samples = 146</text>\n<text text-anchor=\"start\" x=\"3874.1667\" y=\"-2101.3\" font-family=\"Times,serif\" font-size=\"14.00\" fill=\"#000000\">value = 71.03</text>\n</g>\n<!-- 133&#45;&gt;139 -->\n<g id=\"edge139\" class=\"edge\">\n<title>133&#45;&gt;139</title>\n<path fill=\"none\" stroke=\"#000000\" d=\"M3203.4481,-2127.5C3336.3005,-2127.5 3676.2075,-2127.5 3833.0798,-2127.5\"/>\n<polygon fill=\"#000000\" stroke=\"#000000\" points=\"3833.1439,-2131.0001 3843.1439,-2127.5 3833.1439,-2124.0001 3833.1439,-2131.0001\"/>\n</g>\n<!-- 135 -->\n<g id=\"node136\" class=\"node\">\n<title>135</title>\n<polygon fill=\"#f3c3a1\" stroke=\"#000000\" points=\"4725.6667,-2377 4621.6667,-2377 4621.6667,-2324 4725.6667,-2324 4725.6667,-2377\"/>\n<text text-anchor=\"start\" x=\"4629.6667\" y=\"-2361.8\" font-family=\"Times,serif\" font-size=\"14.00\" fill=\"#000000\">mse = 614.728</text>\n<text text-anchor=\"start\" x=\"4635.6667\" y=\"-2346.8\" font-family=\"Times,serif\" font-size=\"14.00\" fill=\"#000000\">samples = 23</text>\n<text text-anchor=\"start\" x=\"4629.6667\" y=\"-2331.8\" font-family=\"Times,serif\" font-size=\"14.00\" fill=\"#000000\">value = 66.912</text>\n</g>\n<!-- 134&#45;&gt;135 -->\n<g id=\"edge135\" class=\"edge\">\n<title>134&#45;&gt;135</title>\n<path fill=\"none\" stroke=\"#000000\" d=\"M3966.8358,-2276.93C4102.407,-2291.0408 4465.4131,-2328.8241 4611.4982,-2344.0292\"/>\n<polygon fill=\"#000000\" stroke=\"#000000\" points=\"4611.3267,-2347.5302 4621.6353,-2345.0844 4612.0514,-2340.5678 4611.3267,-2347.5302\"/>\n</g>\n<!-- 136 -->\n<g id=\"node137\" class=\"node\">\n<title>136</title>\n<polygon fill=\"#f5cfb3\" stroke=\"#000000\" points=\"4728.1667,-2305.5 4619.1667,-2305.5 4619.1667,-2237.5 4728.1667,-2237.5 4728.1667,-2305.5\"/>\n<text text-anchor=\"start\" x=\"4627.1667\" y=\"-2290.3\" font-family=\"Times,serif\" font-size=\"14.00\" fill=\"#000000\">insulin&#45;5 ≤ 37.5</text>\n<text text-anchor=\"start\" x=\"4629.6667\" y=\"-2275.3\" font-family=\"Times,serif\" font-size=\"14.00\" fill=\"#000000\">mse = 690.335</text>\n<text text-anchor=\"start\" x=\"4635.6667\" y=\"-2260.3\" font-family=\"Times,serif\" font-size=\"14.00\" fill=\"#000000\">samples = 52</text>\n<text text-anchor=\"start\" x=\"4629.6667\" y=\"-2245.3\" font-family=\"Times,serif\" font-size=\"14.00\" fill=\"#000000\">value = 53.846</text>\n</g>\n<!-- 134&#45;&gt;136 -->\n<g id=\"edge136\" class=\"edge\">\n<title>134&#45;&gt;136</title>\n<path fill=\"none\" stroke=\"#000000\" d=\"M3966.8358,-2271.5C4101.5893,-2271.5 4461.0425,-2271.5 4608.8313,-2271.5\"/>\n<polygon fill=\"#000000\" stroke=\"#000000\" points=\"4609.1004,-2275.0001 4619.1003,-2271.5 4609.1003,-2268.0001 4609.1004,-2275.0001\"/>\n</g>\n<!-- 137 -->\n<g id=\"node138\" class=\"node\">\n<title>137</title>\n<polygon fill=\"#f7d6bf\" stroke=\"#000000\" points=\"5484.6667,-2401 5380.6667,-2401 5380.6667,-2348 5484.6667,-2348 5484.6667,-2401\"/>\n<text text-anchor=\"start\" x=\"5388.6667\" y=\"-2385.8\" font-family=\"Times,serif\" font-size=\"14.00\" fill=\"#000000\">mse = 462.293</text>\n<text text-anchor=\"start\" x=\"5394.6667\" y=\"-2370.8\" font-family=\"Times,serif\" font-size=\"14.00\" fill=\"#000000\">samples = 26</text>\n<text text-anchor=\"start\" x=\"5388.6667\" y=\"-2355.8\" font-family=\"Times,serif\" font-size=\"14.00\" fill=\"#000000\">value = 45.455</text>\n</g>\n<!-- 136&#45;&gt;137 -->\n<g id=\"edge137\" class=\"edge\">\n<title>136&#45;&gt;137</title>\n<path fill=\"none\" stroke=\"#000000\" d=\"M4728.2521,-2278.9075C4865.675,-2297.5565 5225.2952,-2346.3587 5370.5119,-2366.0653\"/>\n<polygon fill=\"#000000\" stroke=\"#000000\" points=\"5370.2111,-2369.5565 5380.591,-2367.4331 5371.1525,-2362.6201 5370.2111,-2369.5565\"/>\n</g>\n<!-- 138 -->\n<g id=\"node139\" class=\"node\">\n<title>138</title>\n<polygon fill=\"#f3c5a4\" stroke=\"#000000\" points=\"5484.6667,-2330 5380.6667,-2330 5380.6667,-2277 5484.6667,-2277 5484.6667,-2330\"/>\n<text text-anchor=\"start\" x=\"5388.6667\" y=\"-2314.8\" font-family=\"Times,serif\" font-size=\"14.00\" fill=\"#000000\">mse = 776.384</text>\n<text text-anchor=\"start\" x=\"5394.6667\" y=\"-2299.8\" font-family=\"Times,serif\" font-size=\"14.00\" fill=\"#000000\">samples = 26</text>\n<text text-anchor=\"start\" x=\"5388.6667\" y=\"-2284.8\" font-family=\"Times,serif\" font-size=\"14.00\" fill=\"#000000\">value = 64.706</text>\n</g>\n<!-- 136&#45;&gt;138 -->\n<g id=\"edge138\" class=\"edge\">\n<title>136&#45;&gt;138</title>\n<path fill=\"none\" stroke=\"#000000\" d=\"M4728.2521,-2273.8014C4865.675,-2279.5952 5225.2952,-2294.7571 5370.5119,-2300.8795\"/>\n<polygon fill=\"#000000\" stroke=\"#000000\" points=\"5370.4524,-2304.38 5380.591,-2301.3044 5370.7473,-2297.3862 5370.4524,-2304.38\"/>\n</g>\n<!-- 140 -->\n<g id=\"node141\" class=\"node\">\n<title>140</title>\n<polygon fill=\"#f1bd97\" stroke=\"#000000\" points=\"4725.6667,-2219.5 4621.6667,-2219.5 4621.6667,-2151.5 4725.6667,-2151.5 4725.6667,-2219.5\"/>\n<text text-anchor=\"start\" x=\"4638.6667\" y=\"-2204.3\" font-family=\"Times,serif\" font-size=\"14.00\" fill=\"#000000\">sgv ≤ 163.5</text>\n<text text-anchor=\"start\" x=\"4633.6667\" y=\"-2189.3\" font-family=\"Times,serif\" font-size=\"14.00\" fill=\"#000000\">mse = 452.99</text>\n<text text-anchor=\"start\" x=\"4631.6667\" y=\"-2174.3\" font-family=\"Times,serif\" font-size=\"14.00\" fill=\"#000000\">samples = 124</text>\n<text text-anchor=\"start\" x=\"4629.6667\" y=\"-2159.3\" font-family=\"Times,serif\" font-size=\"14.00\" fill=\"#000000\">value = 74.005</text>\n</g>\n<!-- 139&#45;&gt;140 -->\n<g id=\"edge140\" class=\"edge\">\n<title>139&#45;&gt;140</title>\n<path fill=\"none\" stroke=\"#000000\" d=\"M3986.4133,-2132.9826C4134.4036,-2144.2915 4471.352,-2170.0399 4611.1166,-2180.7202\"/>\n<polygon fill=\"#000000\" stroke=\"#000000\" points=\"4610.9953,-2184.221 4621.2329,-2181.4932 4611.5287,-2177.2413 4610.9953,-2184.221\"/>\n</g>\n<!-- 149 -->\n<g id=\"node150\" class=\"node\">\n<title>149</title>\n<polygon fill=\"#f5d0b5\" stroke=\"#000000\" points=\"4725.6667,-2133 4621.6667,-2133 4621.6667,-2080 4725.6667,-2080 4725.6667,-2133\"/>\n<text text-anchor=\"start\" x=\"4629.6667\" y=\"-2117.8\" font-family=\"Times,serif\" font-size=\"14.00\" fill=\"#000000\">mse = 326.538</text>\n<text text-anchor=\"start\" x=\"4635.6667\" y=\"-2102.8\" font-family=\"Times,serif\" font-size=\"14.00\" fill=\"#000000\">samples = 22</text>\n<text text-anchor=\"start\" x=\"4629.6667\" y=\"-2087.8\" font-family=\"Times,serif\" font-size=\"14.00\" fill=\"#000000\">value = 52.344</text>\n</g>\n<!-- 139&#45;&gt;149 -->\n<g id=\"edge149\" class=\"edge\">\n<title>139&#45;&gt;149</title>\n<path fill=\"none\" stroke=\"#000000\" d=\"M3986.4133,-2125.5149C4134.4036,-2121.4203 4471.352,-2112.0976 4611.1166,-2108.2306\"/>\n<polygon fill=\"#000000\" stroke=\"#000000\" points=\"4611.3336,-2111.7261 4621.2329,-2107.9507 4611.1399,-2104.7287 4611.3336,-2111.7261\"/>\n</g>\n<!-- 141 -->\n<g id=\"node142\" class=\"node\">\n<title>141</title>\n<polygon fill=\"#f1bb94\" stroke=\"#000000\" points=\"5484.6667,-2258.5 5380.6667,-2258.5 5380.6667,-2190.5 5484.6667,-2190.5 5484.6667,-2258.5\"/>\n<text text-anchor=\"start\" x=\"5391.6667\" y=\"-2243.3\" font-family=\"Times,serif\" font-size=\"14.00\" fill=\"#000000\">deltasgv ≤ 2.5</text>\n<text text-anchor=\"start\" x=\"5388.6667\" y=\"-2228.3\" font-family=\"Times,serif\" font-size=\"14.00\" fill=\"#000000\">mse = 457.959</text>\n<text text-anchor=\"start\" x=\"5394.6667\" y=\"-2213.3\" font-family=\"Times,serif\" font-size=\"14.00\" fill=\"#000000\">samples = 98</text>\n<text text-anchor=\"start\" x=\"5388.6667\" y=\"-2198.3\" font-family=\"Times,serif\" font-size=\"14.00\" fill=\"#000000\">value = 75.949</text>\n</g>\n<!-- 140&#45;&gt;141 -->\n<g id=\"edge141\" class=\"edge\">\n<title>140&#45;&gt;141</title>\n<path fill=\"none\" stroke=\"#000000\" d=\"M4725.8358,-2188.1806C4861.407,-2195.1467 5224.4131,-2213.7992 5370.4982,-2221.3056\"/>\n<polygon fill=\"#000000\" stroke=\"#000000\" points=\"5370.4688,-2224.8086 5380.6353,-2221.8265 5370.8281,-2217.8178 5370.4688,-2224.8086\"/>\n</g>\n<!-- 148 -->\n<g id=\"node149\" class=\"node\">\n<title>148</title>\n<polygon fill=\"#f3c3a1\" stroke=\"#000000\" points=\"5484.6667,-2172 5380.6667,-2172 5380.6667,-2119 5484.6667,-2119 5484.6667,-2172\"/>\n<text text-anchor=\"start\" x=\"5388.6667\" y=\"-2156.8\" font-family=\"Times,serif\" font-size=\"14.00\" fill=\"#000000\">mse = 369.794</text>\n<text text-anchor=\"start\" x=\"5394.6667\" y=\"-2141.8\" font-family=\"Times,serif\" font-size=\"14.00\" fill=\"#000000\">samples = 26</text>\n<text text-anchor=\"start\" x=\"5392.1667\" y=\"-2126.8\" font-family=\"Times,serif\" font-size=\"14.00\" fill=\"#000000\">value = 66.86</text>\n</g>\n<!-- 140&#45;&gt;148 -->\n<g id=\"edge148\" class=\"edge\">\n<title>140&#45;&gt;148</title>\n<path fill=\"none\" stroke=\"#000000\" d=\"M4725.8358,-2182.7506C4861.407,-2175.6059 5224.4131,-2156.4752 5370.4982,-2148.7763\"/>\n<polygon fill=\"#000000\" stroke=\"#000000\" points=\"5370.8334,-2152.2636 5380.6353,-2148.2421 5370.4649,-2145.2733 5370.8334,-2152.2636\"/>\n</g>\n<!-- 142 -->\n<g id=\"node143\" class=\"node\">\n<title>142</title>\n<polygon fill=\"#f0b890\" stroke=\"#000000\" points=\"6241.6667,-2307.5 6143.6667,-2307.5 6143.6667,-2239.5 6241.6667,-2239.5 6241.6667,-2307.5\"/>\n<text text-anchor=\"start\" x=\"6151.6667\" y=\"-2292.3\" font-family=\"Times,serif\" font-size=\"14.00\" fill=\"#000000\">sgv&#45;1 ≤ 130.5</text>\n<text text-anchor=\"start\" x=\"6156.1667\" y=\"-2277.3\" font-family=\"Times,serif\" font-size=\"14.00\" fill=\"#000000\">mse = 259.6</text>\n<text text-anchor=\"start\" x=\"6154.6667\" y=\"-2262.3\" font-family=\"Times,serif\" font-size=\"14.00\" fill=\"#000000\">samples = 54</text>\n<text text-anchor=\"start\" x=\"6152.1667\" y=\"-2247.3\" font-family=\"Times,serif\" font-size=\"14.00\" fill=\"#000000\">value = 79.07</text>\n</g>\n<!-- 141&#45;&gt;142 -->\n<g id=\"edge142\" class=\"edge\">\n<title>141&#45;&gt;142</title>\n<path fill=\"none\" stroke=\"#000000\" d=\"M5484.9045,-2227.868C5621.6368,-2236.6836 5989.4122,-2260.3954 6133.5581,-2269.6891\"/>\n<polygon fill=\"#000000\" stroke=\"#000000\" points=\"6133.3393,-2273.1821 6143.5439,-2270.3329 6133.7898,-2266.1966 6133.3393,-2273.1821\"/>\n</g>\n<!-- 145 -->\n<g id=\"node146\" class=\"node\">\n<title>145</title>\n<polygon fill=\"#f2be99\" stroke=\"#000000\" points=\"6244.6667,-2221.5 6140.6667,-2221.5 6140.6667,-2153.5 6244.6667,-2153.5 6244.6667,-2221.5\"/>\n<text text-anchor=\"start\" x=\"6157.6667\" y=\"-2206.3\" font-family=\"Times,serif\" font-size=\"14.00\" fill=\"#000000\">sgv ≤ 131.0</text>\n<text text-anchor=\"start\" x=\"6148.6667\" y=\"-2191.3\" font-family=\"Times,serif\" font-size=\"14.00\" fill=\"#000000\">mse = 669.367</text>\n<text text-anchor=\"start\" x=\"6154.6667\" y=\"-2176.3\" font-family=\"Times,serif\" font-size=\"14.00\" fill=\"#000000\">samples = 44</text>\n<text text-anchor=\"start\" x=\"6148.6667\" y=\"-2161.3\" font-family=\"Times,serif\" font-size=\"14.00\" fill=\"#000000\">value = 72.222</text>\n</g>\n<!-- 141&#45;&gt;145 -->\n<g id=\"edge145\" class=\"edge\">\n<title>141&#45;&gt;145</title>\n<path fill=\"none\" stroke=\"#000000\" d=\"M5484.9045,-2221.9568C5620.6543,-2215.348 5984.1387,-2197.652 6130.4163,-2190.5306\"/>\n<polygon fill=\"#000000\" stroke=\"#000000\" points=\"6130.7488,-2194.0187 6140.5668,-2190.0364 6130.4084,-2187.0269 6130.7488,-2194.0187\"/>\n</g>\n<!-- 143 -->\n<g id=\"node144\" class=\"node\">\n<title>143</title>\n<polygon fill=\"#f1bc96\" stroke=\"#000000\" points=\"6995.6667,-2367 6891.6667,-2367 6891.6667,-2314 6995.6667,-2314 6995.6667,-2367\"/>\n<text text-anchor=\"start\" x=\"6899.6667\" y=\"-2351.8\" font-family=\"Times,serif\" font-size=\"14.00\" fill=\"#000000\">mse = 160.204</text>\n<text text-anchor=\"start\" x=\"6905.6667\" y=\"-2336.8\" font-family=\"Times,serif\" font-size=\"14.00\" fill=\"#000000\">samples = 24</text>\n<text text-anchor=\"start\" x=\"6899.6667\" y=\"-2321.8\" font-family=\"Times,serif\" font-size=\"14.00\" fill=\"#000000\">value = 74.286</text>\n</g>\n<!-- 142&#45;&gt;143 -->\n<g id=\"edge143\" class=\"edge\">\n<title>142&#45;&gt;143</title>\n<path fill=\"none\" stroke=\"#000000\" d=\"M6241.9419,-2277.8961C6373.8732,-2289.6662 6734.9974,-2321.8837 6881.0899,-2334.9172\"/>\n<polygon fill=\"#000000\" stroke=\"#000000\" points=\"6880.9593,-2338.4194 6891.2308,-2335.822 6881.5814,-2331.4471 6880.9593,-2338.4194\"/>\n</g>\n<!-- 144 -->\n<g id=\"node145\" class=\"node\">\n<title>144</title>\n<polygon fill=\"#f0b58b\" stroke=\"#000000\" points=\"6995.6667,-2296 6891.6667,-2296 6891.6667,-2243 6995.6667,-2243 6995.6667,-2296\"/>\n<text text-anchor=\"start\" x=\"6899.6667\" y=\"-2280.8\" font-family=\"Times,serif\" font-size=\"14.00\" fill=\"#000000\">mse = 301.326</text>\n<text text-anchor=\"start\" x=\"6905.6667\" y=\"-2265.8\" font-family=\"Times,serif\" font-size=\"14.00\" fill=\"#000000\">samples = 30</text>\n<text text-anchor=\"start\" x=\"6899.6667\" y=\"-2250.8\" font-family=\"Times,serif\" font-size=\"14.00\" fill=\"#000000\">value = 82.353</text>\n</g>\n<!-- 142&#45;&gt;144 -->\n<g id=\"edge144\" class=\"edge\">\n<title>142&#45;&gt;144</title>\n<path fill=\"none\" stroke=\"#000000\" d=\"M6241.9419,-2273.2375C6373.8732,-2272.5349 6734.9974,-2270.6114 6881.0899,-2269.8333\"/>\n<polygon fill=\"#000000\" stroke=\"#000000\" points=\"6881.2496,-2273.3326 6891.2308,-2269.7793 6881.2123,-2266.3327 6881.2496,-2273.3326\"/>\n</g>\n<!-- 146 -->\n<g id=\"node147\" class=\"node\">\n<title>146</title>\n<polygon fill=\"#f1bc95\" stroke=\"#000000\" points=\"6995.6667,-2218 6891.6667,-2218 6891.6667,-2165 6995.6667,-2165 6995.6667,-2218\"/>\n<text text-anchor=\"start\" x=\"6899.6667\" y=\"-2202.8\" font-family=\"Times,serif\" font-size=\"14.00\" fill=\"#000000\">mse = 675.676</text>\n<text text-anchor=\"start\" x=\"6905.6667\" y=\"-2187.8\" font-family=\"Times,serif\" font-size=\"14.00\" fill=\"#000000\">samples = 24</text>\n<text text-anchor=\"start\" x=\"6907.1667\" y=\"-2172.8\" font-family=\"Times,serif\" font-size=\"14.00\" fill=\"#000000\">value = 75.0</text>\n</g>\n<!-- 145&#45;&gt;146 -->\n<g id=\"edge146\" class=\"edge\">\n<title>145&#45;&gt;146</title>\n<path fill=\"none\" stroke=\"#000000\" d=\"M6244.8793,-2187.7781C6379.2821,-2188.494 6736.7451,-2190.3979 6881.5018,-2191.1689\"/>\n<polygon fill=\"#000000\" stroke=\"#000000\" points=\"6881.5322,-2194.669 6891.5507,-2191.2224 6881.5695,-2187.6691 6881.5322,-2194.669\"/>\n</g>\n<!-- 147 -->\n<g id=\"node148\" class=\"node\">\n<title>147</title>\n<polygon fill=\"#f2c19d\" stroke=\"#000000\" points=\"6995.6667,-2147 6891.6667,-2147 6891.6667,-2094 6995.6667,-2094 6995.6667,-2147\"/>\n<text text-anchor=\"start\" x=\"6899.6667\" y=\"-2131.8\" font-family=\"Times,serif\" font-size=\"14.00\" fill=\"#000000\">mse = 645.918</text>\n<text text-anchor=\"start\" x=\"6905.6667\" y=\"-2116.8\" font-family=\"Times,serif\" font-size=\"14.00\" fill=\"#000000\">samples = 20</text>\n<text text-anchor=\"start\" x=\"6899.6667\" y=\"-2101.8\" font-family=\"Times,serif\" font-size=\"14.00\" fill=\"#000000\">value = 69.286</text>\n</g>\n<!-- 145&#45;&gt;147 -->\n<g id=\"edge147\" class=\"edge\">\n<title>145&#45;&gt;147</title>\n<path fill=\"none\" stroke=\"#000000\" d=\"M6244.8793,-2182.8419C6379.2821,-2170.8512 6736.7451,-2138.9604 6881.5018,-2126.046\"/>\n<polygon fill=\"#000000\" stroke=\"#000000\" points=\"6881.9013,-2129.5243 6891.5507,-2125.1495 6881.2792,-2122.552 6881.9013,-2129.5243\"/>\n</g>\n<!-- 151 -->\n<g id=\"node152\" class=\"node\">\n<title>151</title>\n<polygon fill=\"#f0b78e\" stroke=\"#000000\" points=\"3983.1667,-2039.5 3846.1667,-2039.5 3846.1667,-1971.5 3983.1667,-1971.5 3983.1667,-2039.5\"/>\n<text text-anchor=\"start\" x=\"3854.1667\" y=\"-2024.3\" font-family=\"Times,serif\" font-size=\"14.00\" fill=\"#000000\">Tendencia (#1) ≤ 4.0</text>\n<text text-anchor=\"start\" x=\"3870.6667\" y=\"-2009.3\" font-family=\"Times,serif\" font-size=\"14.00\" fill=\"#000000\">mse = 994.726</text>\n<text text-anchor=\"start\" x=\"3872.6667\" y=\"-1994.3\" font-family=\"Times,serif\" font-size=\"14.00\" fill=\"#000000\">samples = 229</text>\n<text text-anchor=\"start\" x=\"3870.6667\" y=\"-1979.3\" font-family=\"Times,serif\" font-size=\"14.00\" fill=\"#000000\">value = 80.057</text>\n</g>\n<!-- 150&#45;&gt;151 -->\n<g id=\"edge151\" class=\"edge\">\n<title>150&#45;&gt;151</title>\n<path fill=\"none\" stroke=\"#000000\" d=\"M3233.2007,-2005.5C3382.5278,-2005.5 3690.8909,-2005.5 3835.9628,-2005.5\"/>\n<polygon fill=\"#000000\" stroke=\"#000000\" points=\"3836.1214,-2009.0001 3846.1213,-2005.5 3836.1213,-2002.0001 3836.1214,-2009.0001\"/>\n</g>\n<!-- 166 -->\n<g id=\"node167\" class=\"node\">\n<title>166</title>\n<polygon fill=\"#f3c4a2\" stroke=\"#000000\" points=\"3966.6667,-1896.5 3862.6667,-1896.5 3862.6667,-1828.5 3966.6667,-1828.5 3966.6667,-1896.5\"/>\n<text text-anchor=\"start\" x=\"3873.6667\" y=\"-1881.3\" font-family=\"Times,serif\" font-size=\"14.00\" fill=\"#000000\">sgv&#45;1 ≤ 152.5</text>\n<text text-anchor=\"start\" x=\"3870.6667\" y=\"-1866.3\" font-family=\"Times,serif\" font-size=\"14.00\" fill=\"#000000\">mse = 424.064</text>\n<text text-anchor=\"start\" x=\"3876.6667\" y=\"-1851.3\" font-family=\"Times,serif\" font-size=\"14.00\" fill=\"#000000\">samples = 68</text>\n<text text-anchor=\"start\" x=\"3870.6667\" y=\"-1836.3\" font-family=\"Times,serif\" font-size=\"14.00\" fill=\"#000000\">value = 65.657</text>\n</g>\n<!-- 150&#45;&gt;166 -->\n<g id=\"edge166\" class=\"edge\">\n<title>150&#45;&gt;166</title>\n<path fill=\"none\" stroke=\"#000000\" d=\"M3233.2007,-1989.7188C3388.4519,-1960.7359 3715.6078,-1899.6611 3852.4374,-1874.1172\"/>\n<polygon fill=\"#000000\" stroke=\"#000000\" points=\"3853.1588,-1877.5431 3862.3467,-1872.2673 3851.8742,-1870.662 3853.1588,-1877.5431\"/>\n</g>\n<!-- 152 -->\n<g id=\"node153\" class=\"node\">\n<title>152</title>\n<polygon fill=\"#efb185\" stroke=\"#000000\" points=\"4729.1667,-2061.5 4618.1667,-2061.5 4618.1667,-1993.5 4729.1667,-1993.5 4729.1667,-2061.5\"/>\n<text text-anchor=\"start\" x=\"4638.6667\" y=\"-2046.3\" font-family=\"Times,serif\" font-size=\"14.00\" fill=\"#000000\">sgv ≤ 120.5</text>\n<text text-anchor=\"start\" x=\"4626.1667\" y=\"-2031.3\" font-family=\"Times,serif\" font-size=\"14.00\" fill=\"#000000\">mse = 1015.495</text>\n<text text-anchor=\"start\" x=\"4631.6667\" y=\"-2016.3\" font-family=\"Times,serif\" font-size=\"14.00\" fill=\"#000000\">samples = 139</text>\n<text text-anchor=\"start\" x=\"4629.6667\" y=\"-2001.3\" font-family=\"Times,serif\" font-size=\"14.00\" fill=\"#000000\">value = 86.395</text>\n</g>\n<!-- 151&#45;&gt;152 -->\n<g id=\"edge152\" class=\"edge\">\n<title>151&#45;&gt;152</title>\n<path fill=\"none\" stroke=\"#000000\" d=\"M3983.3615,-2007.4912C4128.5216,-2011.6987 4464.8161,-2021.4464 4607.619,-2025.5856\"/>\n<polygon fill=\"#000000\" stroke=\"#000000\" points=\"4607.8731,-2029.0943 4617.9704,-2025.8856 4608.076,-2022.0973 4607.8731,-2029.0943\"/>\n</g>\n<!-- 161 -->\n<g id=\"node162\" class=\"node\">\n<title>161</title>\n<polygon fill=\"#f2c09c\" stroke=\"#000000\" points=\"4725.6667,-1975.5 4621.6667,-1975.5 4621.6667,-1907.5 4725.6667,-1907.5 4725.6667,-1975.5\"/>\n<text text-anchor=\"start\" x=\"4632.6667\" y=\"-1960.3\" font-family=\"Times,serif\" font-size=\"14.00\" fill=\"#000000\">deltasgv ≤ 6.5</text>\n<text text-anchor=\"start\" x=\"4629.6667\" y=\"-1945.3\" font-family=\"Times,serif\" font-size=\"14.00\" fill=\"#000000\">mse = 797.977</text>\n<text text-anchor=\"start\" x=\"4635.6667\" y=\"-1930.3\" font-family=\"Times,serif\" font-size=\"14.00\" fill=\"#000000\">samples = 90</text>\n<text text-anchor=\"start\" x=\"4629.6667\" y=\"-1915.3\" font-family=\"Times,serif\" font-size=\"14.00\" fill=\"#000000\">value = 70.037</text>\n</g>\n<!-- 151&#45;&gt;161 -->\n<g id=\"edge161\" class=\"edge\">\n<title>151&#45;&gt;161</title>\n<path fill=\"none\" stroke=\"#000000\" d=\"M3983.3615,-1999.7075C4129.6786,-1987.3699 4470.1891,-1958.6575 4610.9966,-1946.7844\"/>\n<polygon fill=\"#000000\" stroke=\"#000000\" points=\"4611.5158,-1950.2532 4621.1863,-1945.9252 4610.9276,-1943.2779 4611.5158,-1950.2532\"/>\n</g>\n<!-- 153 -->\n<g id=\"node154\" class=\"node\">\n<title>153</title>\n<polygon fill=\"#eca571\" stroke=\"#000000\" points=\"5488.6667,-2101 5376.6667,-2101 5376.6667,-2048 5488.6667,-2048 5488.6667,-2101\"/>\n<text text-anchor=\"start\" x=\"5388.6667\" y=\"-2085.8\" font-family=\"Times,serif\" font-size=\"14.00\" fill=\"#000000\">mse = 846.083</text>\n<text text-anchor=\"start\" x=\"5394.6667\" y=\"-2070.8\" font-family=\"Times,serif\" font-size=\"14.00\" fill=\"#000000\">samples = 33</text>\n<text text-anchor=\"start\" x=\"5384.6667\" y=\"-2055.8\" font-family=\"Times,serif\" font-size=\"14.00\" fill=\"#000000\">value = 100.521</text>\n</g>\n<!-- 152&#45;&gt;153 -->\n<g id=\"edge153\" class=\"edge\">\n<title>152&#45;&gt;153</title>\n<path fill=\"none\" stroke=\"#000000\" d=\"M4729.1702,-2030.937C4865.9163,-2039.4048 5218.6131,-2061.245 5366.1897,-2070.3835\"/>\n<polygon fill=\"#000000\" stroke=\"#000000\" points=\"5366.2577,-2073.8943 5376.4549,-2071.0192 5366.6904,-2066.9077 5366.2577,-2073.8943\"/>\n</g>\n<!-- 154 -->\n<g id=\"node155\" class=\"node\">\n<title>154</title>\n<polygon fill=\"#f0b58b\" stroke=\"#000000\" points=\"5484.6667,-2029.5 5380.6667,-2029.5 5380.6667,-1961.5 5484.6667,-1961.5 5484.6667,-2029.5\"/>\n<text text-anchor=\"start\" x=\"5391.6667\" y=\"-2014.3\" font-family=\"Times,serif\" font-size=\"14.00\" fill=\"#000000\">sgv&#45;1 ≤ 125.5</text>\n<text text-anchor=\"start\" x=\"5388.6667\" y=\"-1999.3\" font-family=\"Times,serif\" font-size=\"14.00\" fill=\"#000000\">mse = 990.355</text>\n<text text-anchor=\"start\" x=\"5390.6667\" y=\"-1984.3\" font-family=\"Times,serif\" font-size=\"14.00\" fill=\"#000000\">samples = 106</text>\n<text text-anchor=\"start\" x=\"5388.6667\" y=\"-1969.3\" font-family=\"Times,serif\" font-size=\"14.00\" fill=\"#000000\">value = 82.335</text>\n</g>\n<!-- 152&#45;&gt;154 -->\n<g id=\"edge154\" class=\"edge\">\n<title>152&#45;&gt;154</title>\n<path fill=\"none\" stroke=\"#000000\" d=\"M4729.1702,-2025.1599C4867.2512,-2019.3383 5225.5197,-2004.2335 5370.4526,-1998.123\"/>\n<polygon fill=\"#000000\" stroke=\"#000000\" points=\"5370.6695,-2001.6171 5380.5131,-1997.6988 5370.3746,-1994.6233 5370.6695,-2001.6171\"/>\n</g>\n<!-- 155 -->\n<g id=\"node156\" class=\"node\">\n<title>155</title>\n<polygon fill=\"#f1bd98\" stroke=\"#000000\" points=\"6248.1667,-2098 6137.1667,-2098 6137.1667,-2045 6248.1667,-2045 6248.1667,-2098\"/>\n<text text-anchor=\"start\" x=\"6145.1667\" y=\"-2082.8\" font-family=\"Times,serif\" font-size=\"14.00\" fill=\"#000000\">mse = 1097.885</text>\n<text text-anchor=\"start\" x=\"6154.6667\" y=\"-2067.8\" font-family=\"Times,serif\" font-size=\"14.00\" fill=\"#000000\">samples = 29</text>\n<text text-anchor=\"start\" x=\"6152.1667\" y=\"-2052.8\" font-family=\"Times,serif\" font-size=\"14.00\" fill=\"#000000\">value = 73.37</text>\n</g>\n<!-- 154&#45;&gt;155 -->\n<g id=\"edge155\" class=\"edge\">\n<title>154&#45;&gt;155</title>\n<path fill=\"none\" stroke=\"#000000\" d=\"M5484.9045,-2000.7238C5619.5081,-2014.1841 5978.0165,-2050.035 6126.6646,-2064.8998\"/>\n<polygon fill=\"#000000\" stroke=\"#000000\" points=\"6126.7,-2068.4207 6136.9986,-2065.9332 6127.3966,-2061.4554 6126.7,-2068.4207\"/>\n</g>\n<!-- 156 -->\n<g id=\"node157\" class=\"node\">\n<title>156</title>\n<polygon fill=\"#efb286\" stroke=\"#000000\" points=\"6247.1667,-2026.5 6138.1667,-2026.5 6138.1667,-1958.5 6247.1667,-1958.5 6247.1667,-2026.5\"/>\n<text text-anchor=\"start\" x=\"6146.1667\" y=\"-2011.3\" font-family=\"Times,serif\" font-size=\"14.00\" fill=\"#000000\">insulin&#45;5 ≤ 62.5</text>\n<text text-anchor=\"start\" x=\"6148.6667\" y=\"-1996.3\" font-family=\"Times,serif\" font-size=\"14.00\" fill=\"#000000\">mse = 907.298</text>\n<text text-anchor=\"start\" x=\"6154.6667\" y=\"-1981.3\" font-family=\"Times,serif\" font-size=\"14.00\" fill=\"#000000\">samples = 77</text>\n<text text-anchor=\"start\" x=\"6148.6667\" y=\"-1966.3\" font-family=\"Times,serif\" font-size=\"14.00\" fill=\"#000000\">value = 85.744</text>\n</g>\n<!-- 154&#45;&gt;156 -->\n<g id=\"edge156\" class=\"edge\">\n<title>154&#45;&gt;156</title>\n<path fill=\"none\" stroke=\"#000000\" d=\"M5484.9045,-1995.2938C5619.8356,-1994.7612 5979.7624,-1993.3404 6127.7459,-1992.7563\"/>\n<polygon fill=\"#000000\" stroke=\"#000000\" points=\"6128.0424,-1996.2552 6138.0284,-1992.7157 6128.0147,-1989.2553 6128.0424,-1996.2552\"/>\n</g>\n<!-- 157 -->\n<g id=\"node158\" class=\"node\">\n<title>157</title>\n<polygon fill=\"#f0b890\" stroke=\"#000000\" points=\"6995.6667,-2050.5 6891.6667,-2050.5 6891.6667,-1982.5 6995.6667,-1982.5 6995.6667,-2050.5\"/>\n<text text-anchor=\"start\" x=\"6902.6667\" y=\"-2035.3\" font-family=\"Times,serif\" font-size=\"14.00\" fill=\"#000000\">sgv&#45;1 ≤ 134.5</text>\n<text text-anchor=\"start\" x=\"6899.6667\" y=\"-2020.3\" font-family=\"Times,serif\" font-size=\"14.00\" fill=\"#000000\">mse = 808.391</text>\n<text text-anchor=\"start\" x=\"6905.6667\" y=\"-2005.3\" font-family=\"Times,serif\" font-size=\"14.00\" fill=\"#000000\">samples = 44</text>\n<text text-anchor=\"start\" x=\"6899.6667\" y=\"-1990.3\" font-family=\"Times,serif\" font-size=\"14.00\" fill=\"#000000\">value = 78.986</text>\n</g>\n<!-- 156&#45;&gt;157 -->\n<g id=\"edge157\" class=\"edge\">\n<title>156&#45;&gt;157</title>\n<path fill=\"none\" stroke=\"#000000\" d=\"M6247.2817,-1994.2454C6383.4165,-1998.5959 6737.2003,-2009.9019 6881.2584,-2014.5056\"/>\n<polygon fill=\"#000000\" stroke=\"#000000\" points=\"6881.1555,-2018.004 6891.2622,-2014.8253 6881.3792,-2011.0076 6881.1555,-2018.004\"/>\n</g>\n<!-- 160 -->\n<g id=\"node161\" class=\"node\">\n<title>160</title>\n<polygon fill=\"#edaa79\" stroke=\"#000000\" points=\"6995.6667,-1964 6891.6667,-1964 6891.6667,-1911 6995.6667,-1911 6995.6667,-1964\"/>\n<text text-anchor=\"start\" x=\"6899.6667\" y=\"-1948.8\" font-family=\"Times,serif\" font-size=\"14.00\" fill=\"#000000\">mse = 897.513</text>\n<text text-anchor=\"start\" x=\"6905.6667\" y=\"-1933.8\" font-family=\"Times,serif\" font-size=\"14.00\" fill=\"#000000\">samples = 33</text>\n<text text-anchor=\"start\" x=\"6899.6667\" y=\"-1918.8\" font-family=\"Times,serif\" font-size=\"14.00\" fill=\"#000000\">value = 94.712</text>\n</g>\n<!-- 156&#45;&gt;160 -->\n<g id=\"edge160\" class=\"edge\">\n<title>156&#45;&gt;160</title>\n<path fill=\"none\" stroke=\"#000000\" d=\"M6247.2817,-1988.5002C6383.4165,-1978.5303 6737.2003,-1952.6207 6881.2584,-1942.0705\"/>\n<polygon fill=\"#000000\" stroke=\"#000000\" points=\"6881.5446,-1945.559 6891.2622,-1941.3379 6881.0333,-1938.5777 6881.5446,-1945.559\"/>\n</g>\n<!-- 158 -->\n<g id=\"node159\" class=\"node\">\n<title>158</title>\n<polygon fill=\"#eeae80\" stroke=\"#000000\" points=\"7643.6667,-2078 7539.6667,-2078 7539.6667,-2025 7643.6667,-2025 7643.6667,-2078\"/>\n<text text-anchor=\"start\" x=\"7547.6667\" y=\"-2062.8\" font-family=\"Times,serif\" font-size=\"14.00\" fill=\"#000000\">mse = 914.412</text>\n<text text-anchor=\"start\" x=\"7553.6667\" y=\"-2047.8\" font-family=\"Times,serif\" font-size=\"14.00\" fill=\"#000000\">samples = 20</text>\n<text text-anchor=\"start\" x=\"7547.6667\" y=\"-2032.8\" font-family=\"Times,serif\" font-size=\"14.00\" fill=\"#000000\">value = 90.323</text>\n</g>\n<!-- 157&#45;&gt;158 -->\n<g id=\"edge158\" class=\"edge\">\n<title>157&#45;&gt;158</title>\n<path fill=\"none\" stroke=\"#000000\" d=\"M6995.8728,-2019.3198C7114.0793,-2025.7044 7401.7858,-2041.2441 7529.1865,-2048.1253\"/>\n<polygon fill=\"#000000\" stroke=\"#000000\" points=\"7529.3695,-2051.6402 7539.5438,-2048.6847 7529.7471,-2044.6504 7529.3695,-2051.6402\"/>\n</g>\n<!-- 159 -->\n<g id=\"node160\" class=\"node\">\n<title>159</title>\n<polygon fill=\"#f2c09d\" stroke=\"#000000\" points=\"7643.6667,-2007 7539.6667,-2007 7539.6667,-1954 7643.6667,-1954 7643.6667,-2007\"/>\n<text text-anchor=\"start\" x=\"7551.6667\" y=\"-1991.8\" font-family=\"Times,serif\" font-size=\"14.00\" fill=\"#000000\">mse = 531.51</text>\n<text text-anchor=\"start\" x=\"7553.6667\" y=\"-1976.8\" font-family=\"Times,serif\" font-size=\"14.00\" fill=\"#000000\">samples = 24</text>\n<text text-anchor=\"start\" x=\"7547.6667\" y=\"-1961.8\" font-family=\"Times,serif\" font-size=\"14.00\" fill=\"#000000\">value = 69.737</text>\n</g>\n<!-- 157&#45;&gt;159 -->\n<g id=\"edge159\" class=\"edge\">\n<title>157&#45;&gt;159</title>\n<path fill=\"none\" stroke=\"#000000\" d=\"M6995.8728,-2013.5997C7114.0793,-2007.0326 7401.7858,-1991.0489 7529.1865,-1983.9711\"/>\n<polygon fill=\"#000000\" stroke=\"#000000\" points=\"7529.7533,-1987.4451 7539.5438,-1983.3957 7529.365,-1980.4559 7529.7533,-1987.4451\"/>\n</g>\n<!-- 162 -->\n<g id=\"node163\" class=\"node\">\n<title>162</title>\n<polygon fill=\"#f1bd97\" stroke=\"#000000\" points=\"5484.6667,-1943.5 5380.6667,-1943.5 5380.6667,-1875.5 5484.6667,-1875.5 5484.6667,-1943.5\"/>\n<text text-anchor=\"start\" x=\"5397.6667\" y=\"-1928.3\" font-family=\"Times,serif\" font-size=\"14.00\" fill=\"#000000\">sgv ≤ 141.0</text>\n<text text-anchor=\"start\" x=\"5388.6667\" y=\"-1913.3\" font-family=\"Times,serif\" font-size=\"14.00\" fill=\"#000000\">mse = 676.957</text>\n<text text-anchor=\"start\" x=\"5394.6667\" y=\"-1898.3\" font-family=\"Times,serif\" font-size=\"14.00\" fill=\"#000000\">samples = 64</text>\n<text text-anchor=\"start\" x=\"5388.6667\" y=\"-1883.3\" font-family=\"Times,serif\" font-size=\"14.00\" fill=\"#000000\">value = 73.656</text>\n</g>\n<!-- 161&#45;&gt;162 -->\n<g id=\"edge162\" class=\"edge\">\n<title>161&#45;&gt;162</title>\n<path fill=\"none\" stroke=\"#000000\" d=\"M4725.8358,-1939.3005C4861.407,-1933.5847 5224.4131,-1918.2801 5370.4982,-1912.1211\"/>\n<polygon fill=\"#000000\" stroke=\"#000000\" points=\"5370.7916,-1915.6119 5380.6353,-1911.6937 5370.4967,-1908.6181 5370.7916,-1915.6119\"/>\n</g>\n<!-- 165 -->\n<g id=\"node166\" class=\"node\">\n<title>165</title>\n<polygon fill=\"#f3c7a7\" stroke=\"#000000\" points=\"5484.6667,-1857 5380.6667,-1857 5380.6667,-1804 5484.6667,-1804 5484.6667,-1857\"/>\n<text text-anchor=\"start\" x=\"5389.1667\" y=\"-1841.8\" font-family=\"Times,serif\" font-size=\"14.00\" fill=\"#000000\">mse = 970.119</text>\n<text text-anchor=\"start\" x=\"5394.6667\" y=\"-1826.8\" font-family=\"Times,serif\" font-size=\"14.00\" fill=\"#000000\">samples = 26</text>\n<text text-anchor=\"start\" x=\"5388.6667\" y=\"-1811.8\" font-family=\"Times,serif\" font-size=\"14.00\" fill=\"#000000\">value = 62.209</text>\n</g>\n<!-- 161&#45;&gt;165 -->\n<g id=\"edge165\" class=\"edge\">\n<title>161&#45;&gt;165</title>\n<path fill=\"none\" stroke=\"#000000\" d=\"M4725.8358,-1933.8705C4861.407,-1914.0439 5224.4131,-1860.9561 5370.4982,-1839.5918\"/>\n<polygon fill=\"#000000\" stroke=\"#000000\" points=\"5371.2471,-1843.0196 5380.6353,-1838.1093 5370.2341,-1836.0933 5371.2471,-1843.0196\"/>\n</g>\n<!-- 163 -->\n<g id=\"node164\" class=\"node\">\n<title>163</title>\n<polygon fill=\"#f2c19d\" stroke=\"#000000\" points=\"6244.6667,-1938 6140.6667,-1938 6140.6667,-1885 6244.6667,-1885 6244.6667,-1938\"/>\n<text text-anchor=\"start\" x=\"6148.6667\" y=\"-1922.8\" font-family=\"Times,serif\" font-size=\"14.00\" fill=\"#000000\">mse = 571.415</text>\n<text text-anchor=\"start\" x=\"6154.6667\" y=\"-1907.8\" font-family=\"Times,serif\" font-size=\"14.00\" fill=\"#000000\">samples = 35</text>\n<text text-anchor=\"start\" x=\"6148.6667\" y=\"-1892.8\" font-family=\"Times,serif\" font-size=\"14.00\" fill=\"#000000\">value = 69.608</text>\n</g>\n<!-- 162&#45;&gt;163 -->\n<g id=\"edge163\" class=\"edge\">\n<title>162&#45;&gt;163</title>\n<path fill=\"none\" stroke=\"#000000\" d=\"M5484.9045,-1909.6375C5620.6543,-1909.9947 5984.1387,-1910.9512 6130.4163,-1911.3362\"/>\n<polygon fill=\"#000000\" stroke=\"#000000\" points=\"6130.5575,-1914.8365 6140.5668,-1911.3629 6130.576,-1907.8365 6130.5575,-1914.8365\"/>\n</g>\n<!-- 164 -->\n<g id=\"node165\" class=\"node\">\n<title>164</title>\n<polygon fill=\"#f0b990\" stroke=\"#000000\" points=\"6244.6667,-1867 6140.6667,-1867 6140.6667,-1814 6244.6667,-1814 6244.6667,-1867\"/>\n<text text-anchor=\"start\" x=\"6148.6667\" y=\"-1851.8\" font-family=\"Times,serif\" font-size=\"14.00\" fill=\"#000000\">mse = 761.054</text>\n<text text-anchor=\"start\" x=\"6154.6667\" y=\"-1836.8\" font-family=\"Times,serif\" font-size=\"14.00\" fill=\"#000000\">samples = 29</text>\n<text text-anchor=\"start\" x=\"6148.6667\" y=\"-1821.8\" font-family=\"Times,serif\" font-size=\"14.00\" fill=\"#000000\">value = 78.571</text>\n</g>\n<!-- 162&#45;&gt;164 -->\n<g id=\"edge164\" class=\"edge\">\n<title>162&#45;&gt;164</title>\n<path fill=\"none\" stroke=\"#000000\" d=\"M5484.9045,-1904.7574C5620.6543,-1892.4327 5984.1387,-1859.4321 6130.4163,-1846.1517\"/>\n<polygon fill=\"#000000\" stroke=\"#000000\" points=\"6130.9242,-1849.6201 6140.5668,-1845.2301 6130.2912,-1842.6487 6130.9242,-1849.6201\"/>\n</g>\n<!-- 167 -->\n<g id=\"node168\" class=\"node\">\n<title>167</title>\n<polygon fill=\"#f4c8a8\" stroke=\"#000000\" points=\"4725.6667,-1889 4621.6667,-1889 4621.6667,-1836 4725.6667,-1836 4725.6667,-1889\"/>\n<text text-anchor=\"start\" x=\"4629.6667\" y=\"-1873.8\" font-family=\"Times,serif\" font-size=\"14.00\" fill=\"#000000\">mse = 581.145</text>\n<text text-anchor=\"start\" x=\"4635.6667\" y=\"-1858.8\" font-family=\"Times,serif\" font-size=\"14.00\" fill=\"#000000\">samples = 31</text>\n<text text-anchor=\"start\" x=\"4629.6667\" y=\"-1843.8\" font-family=\"Times,serif\" font-size=\"14.00\" fill=\"#000000\">value = 61.702</text>\n</g>\n<!-- 166&#45;&gt;167 -->\n<g id=\"edge167\" class=\"edge\">\n<title>166&#45;&gt;167</title>\n<path fill=\"none\" stroke=\"#000000\" d=\"M3966.8358,-1862.5C4102.407,-1862.5 4465.4131,-1862.5 4611.4982,-1862.5\"/>\n<polygon fill=\"#000000\" stroke=\"#000000\" points=\"4611.6353,-1866.0001 4621.6353,-1862.5 4611.6353,-1859.0001 4611.6353,-1866.0001\"/>\n</g>\n<!-- 168 -->\n<g id=\"node169\" class=\"node\">\n<title>168</title>\n<polygon fill=\"#f2c19d\" stroke=\"#000000\" points=\"4725.6667,-1818 4621.6667,-1818 4621.6667,-1765 4725.6667,-1765 4725.6667,-1818\"/>\n<text text-anchor=\"start\" x=\"4629.6667\" y=\"-1802.8\" font-family=\"Times,serif\" font-size=\"14.00\" fill=\"#000000\">mse = 255.178</text>\n<text text-anchor=\"start\" x=\"4635.6667\" y=\"-1787.8\" font-family=\"Times,serif\" font-size=\"14.00\" fill=\"#000000\">samples = 37</text>\n<text text-anchor=\"start\" x=\"4629.6667\" y=\"-1772.8\" font-family=\"Times,serif\" font-size=\"14.00\" fill=\"#000000\">value = 69.231</text>\n</g>\n<!-- 166&#45;&gt;168 -->\n<g id=\"edge168\" class=\"edge\">\n<title>166&#45;&gt;168</title>\n<path fill=\"none\" stroke=\"#000000\" d=\"M3966.8358,-1857.6199C4102.407,-1844.938 4465.4131,-1810.9809 4611.4982,-1797.3155\"/>\n<polygon fill=\"#000000\" stroke=\"#000000\" points=\"4612.0048,-1800.7835 4621.6353,-1796.3672 4611.3528,-1793.8139 4612.0048,-1800.7835\"/>\n</g>\n<!-- 170 -->\n<g id=\"node171\" class=\"node\">\n<title>170</title>\n<polygon fill=\"#eb9d65\" stroke=\"#000000\" points=\"3204.6667,-1722.5 3092.6667,-1722.5 3092.6667,-1654.5 3204.6667,-1654.5 3204.6667,-1722.5\"/>\n<text text-anchor=\"start\" x=\"3107.6667\" y=\"-1707.3\" font-family=\"Times,serif\" font-size=\"14.00\" fill=\"#000000\">sgv&#45;4 ≤ 138.0</text>\n<text text-anchor=\"start\" x=\"3108.6667\" y=\"-1692.3\" font-family=\"Times,serif\" font-size=\"14.00\" fill=\"#000000\">mse = 517.52</text>\n<text text-anchor=\"start\" x=\"3110.6667\" y=\"-1677.3\" font-family=\"Times,serif\" font-size=\"14.00\" fill=\"#000000\">samples = 65</text>\n<text text-anchor=\"start\" x=\"3100.6667\" y=\"-1662.3\" font-family=\"Times,serif\" font-size=\"14.00\" fill=\"#000000\">value = 109.135</text>\n</g>\n<!-- 169&#45;&gt;170 -->\n<g id=\"edge170\" class=\"edge\">\n<title>169&#45;&gt;170</title>\n<path fill=\"none\" stroke=\"#000000\" d=\"M2496.4726,-1688.5C2634.8934,-1688.5 2945.4346,-1688.5 3082.0331,-1688.5\"/>\n<polygon fill=\"#000000\" stroke=\"#000000\" points=\"3082.3489,-1692.0001 3092.3488,-1688.5 3082.3488,-1685.0001 3082.3489,-1692.0001\"/>\n</g>\n<!-- 175 -->\n<g id=\"node176\" class=\"node\">\n<title>175</title>\n<polygon fill=\"#eeac7d\" stroke=\"#000000\" points=\"3200.6667,-1600.5 3096.6667,-1600.5 3096.6667,-1532.5 3200.6667,-1532.5 3200.6667,-1600.5\"/>\n<text text-anchor=\"start\" x=\"3107.6667\" y=\"-1585.3\" font-family=\"Times,serif\" font-size=\"14.00\" fill=\"#000000\">sgv&#45;1 ≤ 171.5</text>\n<text text-anchor=\"start\" x=\"3104.6667\" y=\"-1570.3\" font-family=\"Times,serif\" font-size=\"14.00\" fill=\"#000000\">mse = 605.928</text>\n<text text-anchor=\"start\" x=\"3106.6667\" y=\"-1555.3\" font-family=\"Times,serif\" font-size=\"14.00\" fill=\"#000000\">samples = 101</text>\n<text text-anchor=\"start\" x=\"3104.6667\" y=\"-1540.3\" font-family=\"Times,serif\" font-size=\"14.00\" fill=\"#000000\">value = 92.391</text>\n</g>\n<!-- 169&#45;&gt;175 -->\n<g id=\"edge175\" class=\"edge\">\n<title>169&#45;&gt;175</title>\n<path fill=\"none\" stroke=\"#000000\" d=\"M2496.4726,-1676.8574C2636.4371,-1653.1741 2952.3826,-1599.7131 3086.5379,-1577.0128\"/>\n<polygon fill=\"#000000\" stroke=\"#000000\" points=\"3087.3706,-1580.4217 3096.6465,-1575.3023 3086.2027,-1573.5198 3087.3706,-1580.4217\"/>\n</g>\n<!-- 171 -->\n<g id=\"node172\" class=\"node\">\n<title>171</title>\n<polygon fill=\"#ea985d\" stroke=\"#000000\" points=\"3970.1667,-1758.5 3859.1667,-1758.5 3859.1667,-1690.5 3970.1667,-1690.5 3970.1667,-1758.5\"/>\n<text text-anchor=\"start\" x=\"3874.1667\" y=\"-1743.3\" font-family=\"Times,serif\" font-size=\"14.00\" fill=\"#000000\">sgv&#45;3 ≤ 114.5</text>\n<text text-anchor=\"start\" x=\"3870.6667\" y=\"-1728.3\" font-family=\"Times,serif\" font-size=\"14.00\" fill=\"#000000\">mse = 427.375</text>\n<text text-anchor=\"start\" x=\"3876.6667\" y=\"-1713.3\" font-family=\"Times,serif\" font-size=\"14.00\" fill=\"#000000\">samples = 41</text>\n<text text-anchor=\"start\" x=\"3867.1667\" y=\"-1698.3\" font-family=\"Times,serif\" font-size=\"14.00\" fill=\"#000000\">value = 115.079</text>\n</g>\n<!-- 170&#45;&gt;171 -->\n<g id=\"edge171\" class=\"edge\">\n<title>170&#45;&gt;171</title>\n<path fill=\"none\" stroke=\"#000000\" d=\"M3204.6821,-1691.1326C3343.0261,-1697.6344 3700.3776,-1714.429 3848.6634,-1721.398\"/>\n<polygon fill=\"#000000\" stroke=\"#000000\" points=\"3848.8194,-1724.9091 3858.9727,-1721.8825 3849.1481,-1717.9168 3848.8194,-1724.9091\"/>\n</g>\n<!-- 174 -->\n<g id=\"node175\" class=\"node\">\n<title>174</title>\n<polygon fill=\"#eca572\" stroke=\"#000000\" points=\"3966.6667,-1672 3862.6667,-1672 3862.6667,-1619 3966.6667,-1619 3966.6667,-1672\"/>\n<text text-anchor=\"start\" x=\"3870.6667\" y=\"-1656.8\" font-family=\"Times,serif\" font-size=\"14.00\" fill=\"#000000\">mse = 518.293</text>\n<text text-anchor=\"start\" x=\"3876.6667\" y=\"-1641.8\" font-family=\"Times,serif\" font-size=\"14.00\" fill=\"#000000\">samples = 24</text>\n<text text-anchor=\"start\" x=\"3874.1667\" y=\"-1626.8\" font-family=\"Times,serif\" font-size=\"14.00\" fill=\"#000000\">value = 100.0</text>\n</g>\n<!-- 170&#45;&gt;174 -->\n<g id=\"edge174\" class=\"edge\">\n<title>170&#45;&gt;174</title>\n<path fill=\"none\" stroke=\"#000000\" d=\"M3204.6821,-1685.3555C3344.1208,-1677.528 3706.0463,-1657.2111 3852.1437,-1649.0098\"/>\n<polygon fill=\"#000000\" stroke=\"#000000\" points=\"3852.4957,-1652.4956 3862.2837,-1648.4406 3852.1033,-1645.5066 3852.4957,-1652.4956\"/>\n</g>\n<!-- 172 -->\n<g id=\"node173\" class=\"node\">\n<title>172</title>\n<polygon fill=\"#ea9b62\" stroke=\"#000000\" points=\"4725.1667,-1747 4622.1667,-1747 4622.1667,-1694 4725.1667,-1694 4725.1667,-1747\"/>\n<text text-anchor=\"start\" x=\"4637.1667\" y=\"-1731.8\" font-family=\"Times,serif\" font-size=\"14.00\" fill=\"#000000\">mse = 356.4</text>\n<text text-anchor=\"start\" x=\"4635.6667\" y=\"-1716.8\" font-family=\"Times,serif\" font-size=\"14.00\" fill=\"#000000\">samples = 20</text>\n<text text-anchor=\"start\" x=\"4630.1667\" y=\"-1701.8\" font-family=\"Times,serif\" font-size=\"14.00\" fill=\"#000000\">value = 111.29</text>\n</g>\n<!-- 171&#45;&gt;172 -->\n<g id=\"edge172\" class=\"edge\">\n<title>171&#45;&gt;172</title>\n<path fill=\"none\" stroke=\"#000000\" d=\"M3970.1702,-1724.2075C4108.3346,-1723.4794 4466.9528,-1721.5894 4611.7151,-1720.8265\"/>\n<polygon fill=\"#000000\" stroke=\"#000000\" points=\"4611.7811,-1724.3263 4621.7624,-1720.7735 4611.7441,-1717.3264 4611.7811,-1724.3263\"/>\n</g>\n<!-- 173 -->\n<g id=\"node174\" class=\"node\">\n<title>173</title>\n<polygon fill=\"#e99458\" stroke=\"#000000\" points=\"4725.6667,-1676 4621.6667,-1676 4621.6667,-1623 4725.6667,-1623 4725.6667,-1676\"/>\n<text text-anchor=\"start\" x=\"4633.6667\" y=\"-1660.8\" font-family=\"Times,serif\" font-size=\"14.00\" fill=\"#000000\">mse = 468.75</text>\n<text text-anchor=\"start\" x=\"4635.6667\" y=\"-1645.8\" font-family=\"Times,serif\" font-size=\"14.00\" fill=\"#000000\">samples = 21</text>\n<text text-anchor=\"start\" x=\"4629.6667\" y=\"-1630.8\" font-family=\"Times,serif\" font-size=\"14.00\" fill=\"#000000\">value = 118.75</text>\n</g>\n<!-- 171&#45;&gt;173 -->\n<g id=\"edge173\" class=\"edge\">\n<title>171&#45;&gt;173</title>\n<path fill=\"none\" stroke=\"#000000\" d=\"M3970.1702,-1719.0155C4108.2512,-1705.3711 4466.5197,-1669.9691 4611.4526,-1655.6476\"/>\n<polygon fill=\"#000000\" stroke=\"#000000\" points=\"4611.9058,-1659.12 4621.5131,-1654.6535 4611.2174,-1652.1539 4611.9058,-1659.12\"/>\n</g>\n<!-- 176 -->\n<g id=\"node177\" class=\"node\">\n<title>176</title>\n<polygon fill=\"#eeaa7a\" stroke=\"#000000\" points=\"3966.6667,-1600.5 3862.6667,-1600.5 3862.6667,-1532.5 3966.6667,-1532.5 3966.6667,-1600.5\"/>\n<text text-anchor=\"start\" x=\"3874.1667\" y=\"-1585.3\" font-family=\"Times,serif\" font-size=\"14.00\" fill=\"#000000\">sgv&#45;4 ≤ 119.5</text>\n<text text-anchor=\"start\" x=\"3870.6667\" y=\"-1570.3\" font-family=\"Times,serif\" font-size=\"14.00\" fill=\"#000000\">mse = 602.187</text>\n<text text-anchor=\"start\" x=\"3876.6667\" y=\"-1555.3\" font-family=\"Times,serif\" font-size=\"14.00\" fill=\"#000000\">samples = 79</text>\n<text text-anchor=\"start\" x=\"3870.6667\" y=\"-1540.3\" font-family=\"Times,serif\" font-size=\"14.00\" fill=\"#000000\">value = 94.318</text>\n</g>\n<!-- 175&#45;&gt;176 -->\n<g id=\"edge176\" class=\"edge\">\n<title>175&#45;&gt;176</title>\n<path fill=\"none\" stroke=\"#000000\" d=\"M3200.7147,-1566.5C3337.1828,-1566.5 3704.9356,-1566.5 3852.3222,-1566.5\"/>\n<polygon fill=\"#000000\" stroke=\"#000000\" points=\"3852.547,-1570.0001 3862.547,-1566.5 3852.547,-1563.0001 3852.547,-1570.0001\"/>\n</g>\n<!-- 181 -->\n<g id=\"node182\" class=\"node\">\n<title>181</title>\n<polygon fill=\"#f0b489\" stroke=\"#000000\" points=\"3966.6667,-1514 3862.6667,-1514 3862.6667,-1461 3966.6667,-1461 3966.6667,-1514\"/>\n<text text-anchor=\"start\" x=\"3870.6667\" y=\"-1498.8\" font-family=\"Times,serif\" font-size=\"14.00\" fill=\"#000000\">mse = 529.132</text>\n<text text-anchor=\"start\" x=\"3876.6667\" y=\"-1483.8\" font-family=\"Times,serif\" font-size=\"14.00\" fill=\"#000000\">samples = 22</text>\n<text text-anchor=\"start\" x=\"3870.6667\" y=\"-1468.8\" font-family=\"Times,serif\" font-size=\"14.00\" fill=\"#000000\">value = 83.621</text>\n</g>\n<!-- 175&#45;&gt;181 -->\n<g id=\"edge181\" class=\"edge\">\n<title>175&#45;&gt;181</title>\n<path fill=\"none\" stroke=\"#000000\" d=\"M3200.7147,-1561.1321C3337.1828,-1547.0577 3704.9356,-1509.1302 3852.3222,-1493.9298\"/>\n<polygon fill=\"#000000\" stroke=\"#000000\" points=\"3852.9589,-1497.3828 3862.547,-1492.8753 3852.2407,-1490.4197 3852.9589,-1497.3828\"/>\n</g>\n<!-- 177 -->\n<g id=\"node178\" class=\"node\">\n<title>177</title>\n<polygon fill=\"#efb082\" stroke=\"#000000\" points=\"4725.6667,-1597 4621.6667,-1597 4621.6667,-1544 4725.6667,-1544 4725.6667,-1597\"/>\n<text text-anchor=\"start\" x=\"4629.6667\" y=\"-1581.8\" font-family=\"Times,serif\" font-size=\"14.00\" fill=\"#000000\">mse = 571.832</text>\n<text text-anchor=\"start\" x=\"4635.6667\" y=\"-1566.8\" font-family=\"Times,serif\" font-size=\"14.00\" fill=\"#000000\">samples = 28</text>\n<text text-anchor=\"start\" x=\"4629.6667\" y=\"-1551.8\" font-family=\"Times,serif\" font-size=\"14.00\" fill=\"#000000\">value = 88.542</text>\n</g>\n<!-- 176&#45;&gt;177 -->\n<g id=\"edge177\" class=\"edge\">\n<title>176&#45;&gt;177</title>\n<path fill=\"none\" stroke=\"#000000\" d=\"M3966.8358,-1566.7749C4102.407,-1567.4894 4465.4131,-1569.4025 4611.4982,-1570.1724\"/>\n<polygon fill=\"#000000\" stroke=\"#000000\" points=\"4611.617,-1573.6729 4621.6353,-1570.2258 4611.6539,-1566.673 4611.617,-1573.6729\"/>\n</g>\n<!-- 178 -->\n<g id=\"node179\" class=\"node\">\n<title>178</title>\n<polygon fill=\"#eda775\" stroke=\"#000000\" points=\"4745.1667,-1525.5 4602.1667,-1525.5 4602.1667,-1457.5 4745.1667,-1457.5 4745.1667,-1525.5\"/>\n<text text-anchor=\"start\" x=\"4610.1667\" y=\"-1510.3\" font-family=\"Times,serif\" font-size=\"14.00\" fill=\"#000000\">meandeltasgv ≤ 1.375</text>\n<text text-anchor=\"start\" x=\"4629.6667\" y=\"-1495.3\" font-family=\"Times,serif\" font-size=\"14.00\" fill=\"#000000\">mse = 589.569</text>\n<text text-anchor=\"start\" x=\"4635.6667\" y=\"-1480.3\" font-family=\"Times,serif\" font-size=\"14.00\" fill=\"#000000\">samples = 51</text>\n<text text-anchor=\"start\" x=\"4629.6667\" y=\"-1465.3\" font-family=\"Times,serif\" font-size=\"14.00\" fill=\"#000000\">value = 97.619</text>\n</g>\n<!-- 176&#45;&gt;178 -->\n<g id=\"edge178\" class=\"edge\">\n<title>176&#45;&gt;178</title>\n<path fill=\"none\" stroke=\"#000000\" d=\"M3966.8358,-1561.3449C4096.6971,-1548.5128 4435.2391,-1515.06 4591.919,-1499.5778\"/>\n<polygon fill=\"#000000\" stroke=\"#000000\" points=\"4592.3648,-1503.0509 4601.9721,-1498.5844 4591.6764,-1496.0848 4592.3648,-1503.0509\"/>\n</g>\n<!-- 179 -->\n<g id=\"node180\" class=\"node\">\n<title>179</title>\n<polygon fill=\"#eeab7b\" stroke=\"#000000\" points=\"5484.6667,-1554 5380.6667,-1554 5380.6667,-1501 5484.6667,-1501 5484.6667,-1554\"/>\n<text text-anchor=\"start\" x=\"5388.6667\" y=\"-1538.8\" font-family=\"Times,serif\" font-size=\"14.00\" fill=\"#000000\">mse = 476.531</text>\n<text text-anchor=\"start\" x=\"5394.6667\" y=\"-1523.8\" font-family=\"Times,serif\" font-size=\"14.00\" fill=\"#000000\">samples = 21</text>\n<text text-anchor=\"start\" x=\"5388.6667\" y=\"-1508.8\" font-family=\"Times,serif\" font-size=\"14.00\" fill=\"#000000\">value = 93.571</text>\n</g>\n<!-- 178&#45;&gt;179 -->\n<g id=\"edge179\" class=\"edge\">\n<title>178&#45;&gt;179</title>\n<path fill=\"none\" stroke=\"#000000\" d=\"M4745.4133,-1494.903C4893.4036,-1501.9223 5230.352,-1517.904 5370.1166,-1524.5332\"/>\n<polygon fill=\"#000000\" stroke=\"#000000\" points=\"5370.0783,-1528.0352 5380.2329,-1525.013 5370.41,-1521.0431 5370.0783,-1528.0352\"/>\n</g>\n<!-- 180 -->\n<g id=\"node181\" class=\"node\">\n<title>180</title>\n<polygon fill=\"#eca571\" stroke=\"#000000\" points=\"5484.6667,-1483 5380.6667,-1483 5380.6667,-1430 5484.6667,-1430 5484.6667,-1483\"/>\n<text text-anchor=\"start\" x=\"5392.6667\" y=\"-1467.8\" font-family=\"Times,serif\" font-size=\"14.00\" fill=\"#000000\">mse = 650.25</text>\n<text text-anchor=\"start\" x=\"5394.6667\" y=\"-1452.8\" font-family=\"Times,serif\" font-size=\"14.00\" fill=\"#000000\">samples = 30</text>\n<text text-anchor=\"start\" x=\"5388.6667\" y=\"-1437.8\" font-family=\"Times,serif\" font-size=\"14.00\" fill=\"#000000\">value = 100.51</text>\n</g>\n<!-- 178&#45;&gt;180 -->\n<g id=\"edge180\" class=\"edge\">\n<title>178&#45;&gt;180</title>\n<path fill=\"none\" stroke=\"#000000\" d=\"M4745.4133,-1488.1915C4893.4036,-1481.3672 5230.352,-1465.8294 5370.1166,-1459.3844\"/>\n<polygon fill=\"#000000\" stroke=\"#000000\" points=\"5370.4048,-1462.8749 5380.2329,-1458.9179 5370.0823,-1455.8823 5370.4048,-1462.8749\"/>\n</g>\n<!-- 183 -->\n<g id=\"node184\" class=\"node\">\n<title>183</title>\n<polygon fill=\"#f2c29f\" stroke=\"#000000\" points=\"1331.1667,-1266.5 1222.1667,-1266.5 1222.1667,-1198.5 1331.1667,-1198.5 1331.1667,-1266.5\"/>\n<text text-anchor=\"start\" x=\"1230.1667\" y=\"-1251.3\" font-family=\"Times,serif\" font-size=\"14.00\" fill=\"#000000\">insulin&#45;1 ≤ 62.5</text>\n<text text-anchor=\"start\" x=\"1232.6667\" y=\"-1236.3\" font-family=\"Times,serif\" font-size=\"14.00\" fill=\"#000000\">mse = 857.918</text>\n<text text-anchor=\"start\" x=\"1235.1667\" y=\"-1221.3\" font-family=\"Times,serif\" font-size=\"14.00\" fill=\"#000000\">samples = 311</text>\n<text text-anchor=\"start\" x=\"1232.6667\" y=\"-1206.3\" font-family=\"Times,serif\" font-size=\"14.00\" fill=\"#000000\">value = 68.454</text>\n</g>\n<!-- 182&#45;&gt;183 -->\n<g id=\"edge183\" class=\"edge\">\n<title>182&#45;&gt;183</title>\n<path fill=\"none\" stroke=\"#000000\" d=\"M793.2137,-1232.5C893.107,-1232.5 1104.9637,-1232.5 1211.9558,-1232.5\"/>\n<polygon fill=\"#000000\" stroke=\"#000000\" points=\"1211.9753,-1236.0001 1221.9753,-1232.5 1211.9752,-1229.0001 1211.9753,-1236.0001\"/>\n</g>\n<!-- 206 -->\n<g id=\"node207\" class=\"node\">\n<title>206</title>\n<polygon fill=\"#eca16c\" stroke=\"#000000\" points=\"1332.6667,-932.5 1220.6667,-932.5 1220.6667,-864.5 1332.6667,-864.5 1332.6667,-932.5\"/>\n<text text-anchor=\"start\" x=\"1233.6667\" y=\"-917.3\" font-family=\"Times,serif\" font-size=\"14.00\" fill=\"#000000\">deltasgv ≤ &#45;2.5</text>\n<text text-anchor=\"start\" x=\"1232.6667\" y=\"-902.3\" font-family=\"Times,serif\" font-size=\"14.00\" fill=\"#000000\">mse = 692.906</text>\n<text text-anchor=\"start\" x=\"1234.6667\" y=\"-887.3\" font-family=\"Times,serif\" font-size=\"14.00\" fill=\"#000000\">samples = 831</text>\n<text text-anchor=\"start\" x=\"1228.6667\" y=\"-872.3\" font-family=\"Times,serif\" font-size=\"14.00\" fill=\"#000000\">value = 104.246</text>\n</g>\n<!-- 182&#45;&gt;206 -->\n<g id=\"edge206\" class=\"edge\">\n<title>182&#45;&gt;206</title>\n<path fill=\"none\" stroke=\"#000000\" d=\"M793.2137,-1198.6362C893.3799,-1136.4513 1106.122,-1004.3772 1212.8303,-938.1308\"/>\n<polygon fill=\"#000000\" stroke=\"#000000\" points=\"1214.9237,-940.9508 1221.5735,-932.7028 1211.2316,-935.0037 1214.9237,-940.9508\"/>\n</g>\n<!-- 184 -->\n<g id=\"node185\" class=\"node\">\n<title>184</title>\n<polygon fill=\"#f5d0b6\" stroke=\"#000000\" points=\"1870.6667,-1309.5 1766.6667,-1309.5 1766.6667,-1241.5 1870.6667,-1241.5 1870.6667,-1309.5\"/>\n<text text-anchor=\"start\" x=\"1775.6667\" y=\"-1294.3\" font-family=\"Times,serif\" font-size=\"14.00\" fill=\"#000000\">deltasgv ≤ &#45;3.5</text>\n<text text-anchor=\"start\" x=\"1774.6667\" y=\"-1279.3\" font-family=\"Times,serif\" font-size=\"14.00\" fill=\"#000000\">mse = 825.451</text>\n<text text-anchor=\"start\" x=\"1780.6667\" y=\"-1264.3\" font-family=\"Times,serif\" font-size=\"14.00\" fill=\"#000000\">samples = 98</text>\n<text text-anchor=\"start\" x=\"1774.6667\" y=\"-1249.3\" font-family=\"Times,serif\" font-size=\"14.00\" fill=\"#000000\">value = 52.006</text>\n</g>\n<!-- 183&#45;&gt;184 -->\n<g id=\"edge184\" class=\"edge\">\n<title>183&#45;&gt;184</title>\n<path fill=\"none\" stroke=\"#000000\" d=\"M1331.368,-1236.8398C1432.7885,-1244.886 1649.3847,-1262.0699 1756.311,-1270.553\"/>\n<polygon fill=\"#000000\" stroke=\"#000000\" points=\"1756.0632,-1274.0442 1766.3088,-1271.3461 1756.6169,-1267.0661 1756.0632,-1274.0442\"/>\n</g>\n<!-- 191 -->\n<g id=\"node192\" class=\"node\">\n<title>191</title>\n<polygon fill=\"#f1ba93\" stroke=\"#000000\" points=\"1870.6667,-1223.5 1766.6667,-1223.5 1766.6667,-1155.5 1870.6667,-1155.5 1870.6667,-1223.5\"/>\n<text text-anchor=\"start\" x=\"1775.6667\" y=\"-1208.3\" font-family=\"Times,serif\" font-size=\"14.00\" fill=\"#000000\">deltasgv ≤ &#45;3.5</text>\n<text text-anchor=\"start\" x=\"1774.6667\" y=\"-1193.3\" font-family=\"Times,serif\" font-size=\"14.00\" fill=\"#000000\">mse = 670.475</text>\n<text text-anchor=\"start\" x=\"1776.6667\" y=\"-1178.3\" font-family=\"Times,serif\" font-size=\"14.00\" fill=\"#000000\">samples = 213</text>\n<text text-anchor=\"start\" x=\"1774.6667\" y=\"-1163.3\" font-family=\"Times,serif\" font-size=\"14.00\" fill=\"#000000\">value = 76.703</text>\n</g>\n<!-- 183&#45;&gt;191 -->\n<g id=\"edge191\" class=\"edge\">\n<title>183&#45;&gt;191</title>\n<path fill=\"none\" stroke=\"#000000\" d=\"M1331.368,-1228.1602C1432.7885,-1220.114 1649.3847,-1202.9301 1756.311,-1194.447\"/>\n<polygon fill=\"#000000\" stroke=\"#000000\" points=\"1756.6169,-1197.9339 1766.3088,-1193.6539 1756.0632,-1190.9558 1756.6169,-1197.9339\"/>\n</g>\n<!-- 185 -->\n<g id=\"node186\" class=\"node\">\n<title>185</title>\n<polygon fill=\"#f9e2d1\" stroke=\"#000000\" points=\"2475.6667,-1380 2379.6667,-1380 2379.6667,-1327 2475.6667,-1327 2475.6667,-1380\"/>\n<text text-anchor=\"start\" x=\"2387.6667\" y=\"-1364.8\" font-family=\"Times,serif\" font-size=\"14.00\" fill=\"#000000\">mse = 181.25</text>\n<text text-anchor=\"start\" x=\"2389.6667\" y=\"-1349.8\" font-family=\"Times,serif\" font-size=\"14.00\" fill=\"#000000\">samples = 33</text>\n<text text-anchor=\"start\" x=\"2391.1667\" y=\"-1334.8\" font-family=\"Times,serif\" font-size=\"14.00\" fill=\"#000000\">value = 32.5</text>\n</g>\n<!-- 184&#45;&gt;185 -->\n<g id=\"edge185\" class=\"edge\">\n<title>184&#45;&gt;185</title>\n<path fill=\"none\" stroke=\"#000000\" d=\"M1870.8529,-1282.184C1983.9418,-1296.6682 2250.9414,-1330.8652 2369.3605,-1346.0322\"/>\n<polygon fill=\"#000000\" stroke=\"#000000\" points=\"2368.9649,-1349.5101 2379.3286,-1347.3089 2369.8543,-1342.5668 2368.9649,-1349.5101\"/>\n</g>\n<!-- 186 -->\n<g id=\"node187\" class=\"node\">\n<title>186</title>\n<polygon fill=\"#f4c9a9\" stroke=\"#000000\" points=\"2479.6667,-1308.5 2375.6667,-1308.5 2375.6667,-1240.5 2479.6667,-1240.5 2479.6667,-1308.5\"/>\n<text text-anchor=\"start\" x=\"2386.6667\" y=\"-1293.3\" font-family=\"Times,serif\" font-size=\"14.00\" fill=\"#000000\">sgv&#45;3 ≤ 154.5</text>\n<text text-anchor=\"start\" x=\"2383.6667\" y=\"-1278.3\" font-family=\"Times,serif\" font-size=\"14.00\" fill=\"#000000\">mse = 867.347</text>\n<text text-anchor=\"start\" x=\"2389.6667\" y=\"-1263.3\" font-family=\"Times,serif\" font-size=\"14.00\" fill=\"#000000\">samples = 65</text>\n<text text-anchor=\"start\" x=\"2383.6667\" y=\"-1248.3\" font-family=\"Times,serif\" font-size=\"14.00\" fill=\"#000000\">value = 60.714</text>\n</g>\n<!-- 184&#45;&gt;186 -->\n<g id=\"edge186\" class=\"edge\">\n<title>184&#45;&gt;186</title>\n<path fill=\"none\" stroke=\"#000000\" d=\"M1870.8529,-1275.4143C1982.6821,-1275.2307 2245.0125,-1274.7999 2365.3485,-1274.6023\"/>\n<polygon fill=\"#000000\" stroke=\"#000000\" points=\"2365.507,-1278.1022 2375.5012,-1274.5857 2365.4955,-1271.1022 2365.507,-1278.1022\"/>\n</g>\n<!-- 187 -->\n<g id=\"node188\" class=\"node\">\n<title>187</title>\n<polygon fill=\"#f5ceb3\" stroke=\"#000000\" points=\"3200.6667,-1386.5 3096.6667,-1386.5 3096.6667,-1318.5 3200.6667,-1318.5 3200.6667,-1386.5\"/>\n<text text-anchor=\"start\" x=\"3107.6667\" y=\"-1371.3\" font-family=\"Times,serif\" font-size=\"14.00\" fill=\"#000000\">sgv&#45;1 ≤ 134.5</text>\n<text text-anchor=\"start\" x=\"3104.6667\" y=\"-1356.3\" font-family=\"Times,serif\" font-size=\"14.00\" fill=\"#000000\">mse = 920.139</text>\n<text text-anchor=\"start\" x=\"3110.6667\" y=\"-1341.3\" font-family=\"Times,serif\" font-size=\"14.00\" fill=\"#000000\">samples = 44</text>\n<text text-anchor=\"start\" x=\"3104.6667\" y=\"-1326.3\" font-family=\"Times,serif\" font-size=\"14.00\" fill=\"#000000\">value = 54.167</text>\n</g>\n<!-- 186&#45;&gt;187 -->\n<g id=\"edge187\" class=\"edge\">\n<title>186&#45;&gt;187</title>\n<path fill=\"none\" stroke=\"#000000\" d=\"M2479.8092,-1280.1409C2609.5101,-1294.1724 2946.276,-1330.6048 3086.2408,-1345.7466\"/>\n<polygon fill=\"#000000\" stroke=\"#000000\" points=\"3086.0541,-1349.2467 3096.3726,-1346.8427 3086.807,-1342.2873 3086.0541,-1349.2467\"/>\n</g>\n<!-- 190 -->\n<g id=\"node191\" class=\"node\">\n<title>190</title>\n<polygon fill=\"#f2c09c\" stroke=\"#000000\" points=\"3200.6667,-1300 3096.6667,-1300 3096.6667,-1247 3200.6667,-1247 3200.6667,-1300\"/>\n<text text-anchor=\"start\" x=\"3104.6667\" y=\"-1284.8\" font-family=\"Times,serif\" font-size=\"14.00\" fill=\"#000000\">mse = 641.836</text>\n<text text-anchor=\"start\" x=\"3110.6667\" y=\"-1269.8\" font-family=\"Times,serif\" font-size=\"14.00\" fill=\"#000000\">samples = 21</text>\n<text text-anchor=\"start\" x=\"3104.6667\" y=\"-1254.8\" font-family=\"Times,serif\" font-size=\"14.00\" fill=\"#000000\">value = 70.109</text>\n</g>\n<!-- 186&#45;&gt;190 -->\n<g id=\"edge190\" class=\"edge\">\n<title>186&#45;&gt;190</title>\n<path fill=\"none\" stroke=\"#000000\" d=\"M2479.8092,-1274.4277C2609.5101,-1274.2478 2946.276,-1273.7807 3086.2408,-1273.5866\"/>\n<polygon fill=\"#000000\" stroke=\"#000000\" points=\"3086.3775,-1277.0865 3096.3726,-1273.5725 3086.3677,-1270.0865 3086.3775,-1277.0865\"/>\n</g>\n<!-- 188 -->\n<g id=\"node189\" class=\"node\">\n<title>188</title>\n<polygon fill=\"#f7d8c1\" stroke=\"#000000\" points=\"3966.6667,-1443 3862.6667,-1443 3862.6667,-1390 3966.6667,-1390 3966.6667,-1443\"/>\n<text text-anchor=\"start\" x=\"3870.6667\" y=\"-1427.8\" font-family=\"Times,serif\" font-size=\"14.00\" fill=\"#000000\">mse = 342.057</text>\n<text text-anchor=\"start\" x=\"3876.6667\" y=\"-1412.8\" font-family=\"Times,serif\" font-size=\"14.00\" fill=\"#000000\">samples = 23</text>\n<text text-anchor=\"start\" x=\"3870.6667\" y=\"-1397.8\" font-family=\"Times,serif\" font-size=\"14.00\" fill=\"#000000\">value = 43.939</text>\n</g>\n<!-- 187&#45;&gt;188 -->\n<g id=\"edge188\" class=\"edge\">\n<title>187&#45;&gt;188</title>\n<path fill=\"none\" stroke=\"#000000\" d=\"M3200.7147,-1356.8487C3337.1828,-1368.2507 3704.9356,-1398.9768 3852.3222,-1411.2911\"/>\n<polygon fill=\"#000000\" stroke=\"#000000\" points=\"3852.2903,-1414.8005 3862.547,-1412.1454 3852.8732,-1407.8248 3852.2903,-1414.8005\"/>\n</g>\n<!-- 189 -->\n<g id=\"node190\" class=\"node\">\n<title>189</title>\n<polygon fill=\"#f3c5a4\" stroke=\"#000000\" points=\"3970.1667,-1372 3859.1667,-1372 3859.1667,-1319 3970.1667,-1319 3970.1667,-1372\"/>\n<text text-anchor=\"start\" x=\"3867.1667\" y=\"-1356.8\" font-family=\"Times,serif\" font-size=\"14.00\" fill=\"#000000\">mse = 1289.027</text>\n<text text-anchor=\"start\" x=\"3876.6667\" y=\"-1341.8\" font-family=\"Times,serif\" font-size=\"14.00\" fill=\"#000000\">samples = 21</text>\n<text text-anchor=\"start\" x=\"3870.6667\" y=\"-1326.8\" font-family=\"Times,serif\" font-size=\"14.00\" fill=\"#000000\">value = 64.394</text>\n</g>\n<!-- 187&#45;&gt;189 -->\n<g id=\"edge189\" class=\"edge\">\n<title>187&#45;&gt;189</title>\n<path fill=\"none\" stroke=\"#000000\" d=\"M3200.7147,-1352.0244C3336.0319,-1350.7878 3698.749,-1347.4731 3848.5464,-1346.1042\"/>\n<polygon fill=\"#000000\" stroke=\"#000000\" points=\"3848.9902,-1349.6004 3858.9578,-1346.0091 3848.9262,-1342.6007 3848.9902,-1349.6004\"/>\n</g>\n<!-- 192 -->\n<g id=\"node193\" class=\"node\">\n<title>192</title>\n<polygon fill=\"#f5ceb1\" stroke=\"#000000\" points=\"2479.6667,-1217 2375.6667,-1217 2375.6667,-1164 2479.6667,-1164 2479.6667,-1217\"/>\n<text text-anchor=\"start\" x=\"2383.6667\" y=\"-1201.8\" font-family=\"Times,serif\" font-size=\"14.00\" fill=\"#000000\">mse = 687.103</text>\n<text text-anchor=\"start\" x=\"2389.6667\" y=\"-1186.8\" font-family=\"Times,serif\" font-size=\"14.00\" fill=\"#000000\">samples = 40</text>\n<text text-anchor=\"start\" x=\"2383.6667\" y=\"-1171.8\" font-family=\"Times,serif\" font-size=\"14.00\" fill=\"#000000\">value = 55.078</text>\n</g>\n<!-- 191&#45;&gt;192 -->\n<g id=\"edge192\" class=\"edge\">\n<title>191&#45;&gt;192</title>\n<path fill=\"none\" stroke=\"#000000\" d=\"M1870.8529,-1189.5857C1982.6821,-1189.7693 2245.0125,-1190.2001 2365.3485,-1190.3977\"/>\n<polygon fill=\"#000000\" stroke=\"#000000\" points=\"2365.4955,-1193.8978 2375.5012,-1190.4143 2365.507,-1186.8978 2365.4955,-1193.8978\"/>\n</g>\n<!-- 193 -->\n<g id=\"node194\" class=\"node\">\n<title>193</title>\n<polygon fill=\"#f0b58b\" stroke=\"#000000\" points=\"2479.6667,-1145.5 2375.6667,-1145.5 2375.6667,-1077.5 2479.6667,-1077.5 2479.6667,-1145.5\"/>\n<text text-anchor=\"start\" x=\"2386.6667\" y=\"-1130.3\" font-family=\"Times,serif\" font-size=\"14.00\" fill=\"#000000\">sgv&#45;1 ≤ 157.5</text>\n<text text-anchor=\"start\" x=\"2387.6667\" y=\"-1115.3\" font-family=\"Times,serif\" font-size=\"14.00\" fill=\"#000000\">mse = 522.26</text>\n<text text-anchor=\"start\" x=\"2385.6667\" y=\"-1100.3\" font-family=\"Times,serif\" font-size=\"14.00\" fill=\"#000000\">samples = 173</text>\n<text text-anchor=\"start\" x=\"2383.6667\" y=\"-1085.3\" font-family=\"Times,serif\" font-size=\"14.00\" fill=\"#000000\">value = 82.046</text>\n</g>\n<!-- 191&#45;&gt;193 -->\n<g id=\"edge193\" class=\"edge\">\n<title>191&#45;&gt;193</title>\n<path fill=\"none\" stroke=\"#000000\" d=\"M1870.8529,-1182.816C1982.6821,-1168.4931 2245.0125,-1134.8941 2365.3485,-1119.4816\"/>\n<polygon fill=\"#000000\" stroke=\"#000000\" points=\"2366.0269,-1122.9234 2375.5012,-1118.1813 2365.1376,-1115.9801 2366.0269,-1122.9234\"/>\n</g>\n<!-- 194 -->\n<g id=\"node195\" class=\"node\">\n<title>194</title>\n<polygon fill=\"#f1bc96\" stroke=\"#000000\" points=\"3200.6667,-1228.5 3096.6667,-1228.5 3096.6667,-1160.5 3200.6667,-1160.5 3200.6667,-1228.5\"/>\n<text text-anchor=\"start\" x=\"3107.6667\" y=\"-1213.3\" font-family=\"Times,serif\" font-size=\"14.00\" fill=\"#000000\">deltasgv ≤ 1.5</text>\n<text text-anchor=\"start\" x=\"3108.6667\" y=\"-1198.3\" font-family=\"Times,serif\" font-size=\"14.00\" fill=\"#000000\">mse = 546.12</text>\n<text text-anchor=\"start\" x=\"3110.6667\" y=\"-1183.3\" font-family=\"Times,serif\" font-size=\"14.00\" fill=\"#000000\">samples = 71</text>\n<text text-anchor=\"start\" x=\"3104.6667\" y=\"-1168.3\" font-family=\"Times,serif\" font-size=\"14.00\" fill=\"#000000\">value = 74.775</text>\n</g>\n<!-- 193&#45;&gt;194 -->\n<g id=\"edge194\" class=\"edge\">\n<title>193&#45;&gt;194</title>\n<path fill=\"none\" stroke=\"#000000\" d=\"M2479.8092,-1117.5025C2609.5101,-1132.4334 2946.276,-1171.2012 3086.2408,-1187.3137\"/>\n<polygon fill=\"#000000\" stroke=\"#000000\" points=\"3086.0379,-1190.8133 3096.3726,-1188.48 3086.8385,-1183.8593 3086.0379,-1190.8133\"/>\n</g>\n<!-- 199 -->\n<g id=\"node200\" class=\"node\">\n<title>199</title>\n<polygon fill=\"#efb184\" stroke=\"#000000\" points=\"3200.6667,-1142.5 3096.6667,-1142.5 3096.6667,-1074.5 3200.6667,-1074.5 3200.6667,-1142.5\"/>\n<text text-anchor=\"start\" x=\"3105.6667\" y=\"-1127.3\" font-family=\"Times,serif\" font-size=\"14.00\" fill=\"#000000\">deltasgv ≤ &#45;1.5</text>\n<text text-anchor=\"start\" x=\"3104.6667\" y=\"-1112.3\" font-family=\"Times,serif\" font-size=\"14.00\" fill=\"#000000\">mse = 434.966</text>\n<text text-anchor=\"start\" x=\"3106.6667\" y=\"-1097.3\" font-family=\"Times,serif\" font-size=\"14.00\" fill=\"#000000\">samples = 102</text>\n<text text-anchor=\"start\" x=\"3112.1667\" y=\"-1082.3\" font-family=\"Times,serif\" font-size=\"14.00\" fill=\"#000000\">value = 87.5</text>\n</g>\n<!-- 193&#45;&gt;199 -->\n<g id=\"edge199\" class=\"edge\">\n<title>193&#45;&gt;199</title>\n<path fill=\"none\" stroke=\"#000000\" d=\"M2479.8092,-1111.283C2609.5101,-1110.7434 2946.276,-1109.3421 3086.2408,-1108.7597\"/>\n<polygon fill=\"#000000\" stroke=\"#000000\" points=\"3086.3872,-1112.2593 3096.3726,-1108.7176 3086.358,-1105.2593 3086.3872,-1112.2593\"/>\n</g>\n<!-- 195 -->\n<g id=\"node196\" class=\"node\">\n<title>195</title>\n<polygon fill=\"#f2c29f\" stroke=\"#000000\" points=\"3966.6667,-1300.5 3862.6667,-1300.5 3862.6667,-1232.5 3966.6667,-1232.5 3966.6667,-1300.5\"/>\n<text text-anchor=\"start\" x=\"3879.6667\" y=\"-1285.3\" font-family=\"Times,serif\" font-size=\"14.00\" fill=\"#000000\">sgv ≤ 146.5</text>\n<text text-anchor=\"start\" x=\"3870.6667\" y=\"-1270.3\" font-family=\"Times,serif\" font-size=\"14.00\" fill=\"#000000\">mse = 403.525</text>\n<text text-anchor=\"start\" x=\"3876.6667\" y=\"-1255.3\" font-family=\"Times,serif\" font-size=\"14.00\" fill=\"#000000\">samples = 51</text>\n<text text-anchor=\"start\" x=\"3870.6667\" y=\"-1240.3\" font-family=\"Times,serif\" font-size=\"14.00\" fill=\"#000000\">value = 67.857</text>\n</g>\n<!-- 194&#45;&gt;195 -->\n<g id=\"edge195\" class=\"edge\">\n<title>194&#45;&gt;195</title>\n<path fill=\"none\" stroke=\"#000000\" d=\"M3200.7147,-1199.3922C3337.1828,-1212.2195 3704.9356,-1246.7864 3852.3222,-1260.6399\"/>\n<polygon fill=\"#000000\" stroke=\"#000000\" points=\"3852.2633,-1264.1498 3862.547,-1261.601 3852.9185,-1257.1805 3852.2633,-1264.1498\"/>\n</g>\n<!-- 198 -->\n<g id=\"node199\" class=\"node\">\n<title>198</title>\n<polygon fill=\"#eeae80\" stroke=\"#000000\" points=\"3966.6667,-1214 3862.6667,-1214 3862.6667,-1161 3966.6667,-1161 3966.6667,-1214\"/>\n<text text-anchor=\"start\" x=\"3870.6667\" y=\"-1198.8\" font-family=\"Times,serif\" font-size=\"14.00\" fill=\"#000000\">mse = 515.247</text>\n<text text-anchor=\"start\" x=\"3876.6667\" y=\"-1183.8\" font-family=\"Times,serif\" font-size=\"14.00\" fill=\"#000000\">samples = 20</text>\n<text text-anchor=\"start\" x=\"3870.6667\" y=\"-1168.8\" font-family=\"Times,serif\" font-size=\"14.00\" fill=\"#000000\">value = 90.441</text>\n</g>\n<!-- 194&#45;&gt;198 -->\n<g id=\"edge198\" class=\"edge\">\n<title>194&#45;&gt;198</title>\n<path fill=\"none\" stroke=\"#000000\" d=\"M3200.7147,-1194.0244C3337.1828,-1192.7773 3704.9356,-1189.4166 3852.3222,-1188.0697\"/>\n<polygon fill=\"#000000\" stroke=\"#000000\" points=\"3852.5794,-1191.5676 3862.547,-1187.9763 3852.5154,-1184.5679 3852.5794,-1191.5676\"/>\n</g>\n<!-- 196 -->\n<g id=\"node197\" class=\"node\">\n<title>196</title>\n<polygon fill=\"#f3c6a6\" stroke=\"#000000\" points=\"4725.6667,-1328 4621.6667,-1328 4621.6667,-1275 4725.6667,-1275 4725.6667,-1328\"/>\n<text text-anchor=\"start\" x=\"4633.6667\" y=\"-1312.8\" font-family=\"Times,serif\" font-size=\"14.00\" fill=\"#000000\">mse = 400.52</text>\n<text text-anchor=\"start\" x=\"4635.6667\" y=\"-1297.8\" font-family=\"Times,serif\" font-size=\"14.00\" fill=\"#000000\">samples = 29</text>\n<text text-anchor=\"start\" x=\"4629.6667\" y=\"-1282.8\" font-family=\"Times,serif\" font-size=\"14.00\" fill=\"#000000\">value = 63.043</text>\n</g>\n<!-- 195&#45;&gt;196 -->\n<g id=\"edge196\" class=\"edge\">\n<title>195&#45;&gt;196</title>\n<path fill=\"none\" stroke=\"#000000\" d=\"M3966.8358,-1268.9057C4102.407,-1275.1573 4465.4131,-1291.8967 4611.4982,-1298.6332\"/>\n<polygon fill=\"#000000\" stroke=\"#000000\" points=\"4611.4847,-1302.1362 4621.6353,-1299.1007 4611.8072,-1295.1436 4611.4847,-1302.1362\"/>\n</g>\n<!-- 197 -->\n<g id=\"node198\" class=\"node\">\n<title>197</title>\n<polygon fill=\"#f1bc95\" stroke=\"#000000\" points=\"4725.6667,-1257 4621.6667,-1257 4621.6667,-1204 4725.6667,-1204 4725.6667,-1257\"/>\n<text text-anchor=\"start\" x=\"4629.6667\" y=\"-1241.8\" font-family=\"Times,serif\" font-size=\"14.00\" fill=\"#000000\">mse = 322.581</text>\n<text text-anchor=\"start\" x=\"4635.6667\" y=\"-1226.8\" font-family=\"Times,serif\" font-size=\"14.00\" fill=\"#000000\">samples = 22</text>\n<text text-anchor=\"start\" x=\"4637.1667\" y=\"-1211.8\" font-family=\"Times,serif\" font-size=\"14.00\" fill=\"#000000\">value = 75.0</text>\n</g>\n<!-- 195&#45;&gt;197 -->\n<g id=\"edge197\" class=\"edge\">\n<title>195&#45;&gt;197</title>\n<path fill=\"none\" stroke=\"#000000\" d=\"M3966.8358,-1264.0256C4102.407,-1257.5953 4465.4131,-1240.3776 4611.4982,-1233.4487\"/>\n<polygon fill=\"#000000\" stroke=\"#000000\" points=\"4611.8124,-1236.9378 4621.6353,-1232.9679 4611.4807,-1229.9457 4611.8124,-1236.9378\"/>\n</g>\n<!-- 200 -->\n<g id=\"node201\" class=\"node\">\n<title>200</title>\n<polygon fill=\"#f0b58a\" stroke=\"#000000\" points=\"3966.6667,-1143 3862.6667,-1143 3862.6667,-1090 3966.6667,-1090 3966.6667,-1143\"/>\n<text text-anchor=\"start\" x=\"3870.6667\" y=\"-1127.8\" font-family=\"Times,serif\" font-size=\"14.00\" fill=\"#000000\">mse = 440.214</text>\n<text text-anchor=\"start\" x=\"3876.6667\" y=\"-1112.8\" font-family=\"Times,serif\" font-size=\"14.00\" fill=\"#000000\">samples = 29</text>\n<text text-anchor=\"start\" x=\"3870.6667\" y=\"-1097.8\" font-family=\"Times,serif\" font-size=\"14.00\" fill=\"#000000\">value = 82.927</text>\n</g>\n<!-- 199&#45;&gt;200 -->\n<g id=\"edge200\" class=\"edge\">\n<title>199&#45;&gt;200</title>\n<path fill=\"none\" stroke=\"#000000\" d=\"M3200.7147,-1109.0436C3337.1828,-1110.4688 3704.9356,-1114.3096 3852.3222,-1115.8489\"/>\n<polygon fill=\"#000000\" stroke=\"#000000\" points=\"3852.511,-1119.3509 3862.547,-1115.9557 3852.5841,-1112.3513 3852.511,-1119.3509\"/>\n</g>\n<!-- 201 -->\n<g id=\"node202\" class=\"node\">\n<title>201</title>\n<polygon fill=\"#eeaf81\" stroke=\"#000000\" points=\"3966.6667,-1071.5 3862.6667,-1071.5 3862.6667,-1003.5 3966.6667,-1003.5 3966.6667,-1071.5\"/>\n<text text-anchor=\"start\" x=\"3873.6667\" y=\"-1056.3\" font-family=\"Times,serif\" font-size=\"14.00\" fill=\"#000000\">sgv&#45;3 ≤ 166.5</text>\n<text text-anchor=\"start\" x=\"3870.6667\" y=\"-1041.3\" font-family=\"Times,serif\" font-size=\"14.00\" fill=\"#000000\">mse = 421.871</text>\n<text text-anchor=\"start\" x=\"3876.6667\" y=\"-1026.3\" font-family=\"Times,serif\" font-size=\"14.00\" fill=\"#000000\">samples = 73</text>\n<text text-anchor=\"start\" x=\"3870.6667\" y=\"-1011.3\" font-family=\"Times,serif\" font-size=\"14.00\" fill=\"#000000\">value = 89.252</text>\n</g>\n<!-- 199&#45;&gt;201 -->\n<g id=\"edge201\" class=\"edge\">\n<title>199&#45;&gt;201</title>\n<path fill=\"none\" stroke=\"#000000\" d=\"M3200.7147,-1103.6757C3337.1828,-1091.0266 3704.9356,-1056.9398 3852.3222,-1043.2787\"/>\n<polygon fill=\"#000000\" stroke=\"#000000\" points=\"3852.9127,-1046.739 3862.547,-1042.3309 3852.2666,-1039.7689 3852.9127,-1046.739\"/>\n</g>\n<!-- 202 -->\n<g id=\"node203\" class=\"node\">\n<title>202</title>\n<polygon fill=\"#f0b68c\" stroke=\"#000000\" points=\"4725.6667,-1143 4621.6667,-1143 4621.6667,-1090 4725.6667,-1090 4725.6667,-1143\"/>\n<text text-anchor=\"start\" x=\"4629.6667\" y=\"-1127.8\" font-family=\"Times,serif\" font-size=\"14.00\" fill=\"#000000\">mse = 820.312</text>\n<text text-anchor=\"start\" x=\"4635.6667\" y=\"-1112.8\" font-family=\"Times,serif\" font-size=\"14.00\" fill=\"#000000\">samples = 21</text>\n<text text-anchor=\"start\" x=\"4633.1667\" y=\"-1097.8\" font-family=\"Times,serif\" font-size=\"14.00\" fill=\"#000000\">value = 81.25</text>\n</g>\n<!-- 201&#45;&gt;202 -->\n<g id=\"edge202\" class=\"edge\">\n<title>201&#45;&gt;202</title>\n<path fill=\"none\" stroke=\"#000000\" d=\"M3966.8358,-1042.93C4102.407,-1057.0408 4465.4131,-1094.8241 4611.4982,-1110.0292\"/>\n<polygon fill=\"#000000\" stroke=\"#000000\" points=\"4611.3267,-1113.5302 4621.6353,-1111.0844 4612.0514,-1106.5678 4611.3267,-1113.5302\"/>\n</g>\n<!-- 203 -->\n<g id=\"node204\" class=\"node\">\n<title>203</title>\n<polygon fill=\"#eeac7c\" stroke=\"#000000\" points=\"4725.6667,-1071.5 4621.6667,-1071.5 4621.6667,-1003.5 4725.6667,-1003.5 4725.6667,-1071.5\"/>\n<text text-anchor=\"start\" x=\"4632.6667\" y=\"-1056.3\" font-family=\"Times,serif\" font-size=\"14.00\" fill=\"#000000\">sgv&#45;4 ≤ 188.0</text>\n<text text-anchor=\"start\" x=\"4629.6667\" y=\"-1041.3\" font-family=\"Times,serif\" font-size=\"14.00\" fill=\"#000000\">mse = 212.889</text>\n<text text-anchor=\"start\" x=\"4635.6667\" y=\"-1026.3\" font-family=\"Times,serif\" font-size=\"14.00\" fill=\"#000000\">samples = 52</text>\n<text text-anchor=\"start\" x=\"4629.6667\" y=\"-1011.3\" font-family=\"Times,serif\" font-size=\"14.00\" fill=\"#000000\">value = 92.667</text>\n</g>\n<!-- 201&#45;&gt;203 -->\n<g id=\"edge203\" class=\"edge\">\n<title>201&#45;&gt;203</title>\n<path fill=\"none\" stroke=\"#000000\" d=\"M3966.8358,-1037.5C4102.407,-1037.5 4465.4131,-1037.5 4611.4982,-1037.5\"/>\n<polygon fill=\"#000000\" stroke=\"#000000\" points=\"4611.6353,-1041.0001 4621.6353,-1037.5 4611.6353,-1034.0001 4611.6353,-1041.0001\"/>\n</g>\n<!-- 204 -->\n<g id=\"node205\" class=\"node\">\n<title>204</title>\n<polygon fill=\"#eda877\" stroke=\"#000000\" points=\"5484.6667,-1135 5380.6667,-1135 5380.6667,-1082 5484.6667,-1082 5484.6667,-1135\"/>\n<text text-anchor=\"start\" x=\"5388.6667\" y=\"-1119.8\" font-family=\"Times,serif\" font-size=\"14.00\" fill=\"#000000\">mse = 183.673</text>\n<text text-anchor=\"start\" x=\"5394.6667\" y=\"-1104.8\" font-family=\"Times,serif\" font-size=\"14.00\" fill=\"#000000\">samples = 23</text>\n<text text-anchor=\"start\" x=\"5388.6667\" y=\"-1089.8\" font-family=\"Times,serif\" font-size=\"14.00\" fill=\"#000000\">value = 96.429</text>\n</g>\n<!-- 203&#45;&gt;204 -->\n<g id=\"edge204\" class=\"edge\">\n<title>203&#45;&gt;204</title>\n<path fill=\"none\" stroke=\"#000000\" d=\"M4725.8358,-1042.3801C4861.407,-1055.062 5224.4131,-1089.0191 5370.4982,-1102.6845\"/>\n<polygon fill=\"#000000\" stroke=\"#000000\" points=\"5370.3528,-1106.1861 5380.6353,-1103.6328 5371.0048,-1099.2165 5370.3528,-1106.1861\"/>\n</g>\n<!-- 205 -->\n<g id=\"node206\" class=\"node\">\n<title>205</title>\n<polygon fill=\"#eeaf81\" stroke=\"#000000\" points=\"5484.6667,-1064 5380.6667,-1064 5380.6667,-1011 5484.6667,-1011 5484.6667,-1064\"/>\n<text text-anchor=\"start\" x=\"5388.6667\" y=\"-1048.8\" font-family=\"Times,serif\" font-size=\"14.00\" fill=\"#000000\">mse = 215.234</text>\n<text text-anchor=\"start\" x=\"5394.6667\" y=\"-1033.8\" font-family=\"Times,serif\" font-size=\"14.00\" fill=\"#000000\">samples = 29</text>\n<text text-anchor=\"start\" x=\"5388.6667\" y=\"-1018.8\" font-family=\"Times,serif\" font-size=\"14.00\" fill=\"#000000\">value = 89.375</text>\n</g>\n<!-- 203&#45;&gt;205 -->\n<g id=\"edge205\" class=\"edge\">\n<title>203&#45;&gt;205</title>\n<path fill=\"none\" stroke=\"#000000\" d=\"M4725.8358,-1037.5C4861.407,-1037.5 5224.4131,-1037.5 5370.4982,-1037.5\"/>\n<polygon fill=\"#000000\" stroke=\"#000000\" points=\"5370.6353,-1041.0001 5380.6353,-1037.5 5370.6353,-1034.0001 5370.6353,-1041.0001\"/>\n</g>\n<!-- 207 -->\n<g id=\"node208\" class=\"node\">\n<title>207</title>\n<polygon fill=\"#f0b990\" stroke=\"#000000\" points=\"1870.6667,-932.5 1766.6667,-932.5 1766.6667,-864.5 1870.6667,-864.5 1870.6667,-932.5\"/>\n<text text-anchor=\"start\" x=\"1783.6667\" y=\"-917.3\" font-family=\"Times,serif\" font-size=\"14.00\" fill=\"#000000\">sgv ≤ 204.5</text>\n<text text-anchor=\"start\" x=\"1774.6667\" y=\"-902.3\" font-family=\"Times,serif\" font-size=\"14.00\" fill=\"#000000\">mse = 930.827</text>\n<text text-anchor=\"start\" x=\"1776.6667\" y=\"-887.3\" font-family=\"Times,serif\" font-size=\"14.00\" fill=\"#000000\">samples = 123</text>\n<text text-anchor=\"start\" x=\"1774.6667\" y=\"-872.3\" font-family=\"Times,serif\" font-size=\"14.00\" fill=\"#000000\">value = 78.403</text>\n</g>\n<!-- 206&#45;&gt;207 -->\n<g id=\"edge207\" class=\"edge\">\n<title>206&#45;&gt;207</title>\n<path fill=\"none\" stroke=\"#000000\" d=\"M1332.8823,-898.5C1434.9602,-898.5 1650.0424,-898.5 1756.4063,-898.5\"/>\n<polygon fill=\"#000000\" stroke=\"#000000\" points=\"1756.6622,-902.0001 1766.6621,-898.5 1756.6621,-895.0001 1756.6622,-902.0001\"/>\n</g>\n<!-- 214 -->\n<g id=\"node215\" class=\"node\">\n<title>214</title>\n<polygon fill=\"#eb9e66\" stroke=\"#000000\" points=\"1874.6667,-752.5 1762.6667,-752.5 1762.6667,-684.5 1874.6667,-684.5 1874.6667,-752.5\"/>\n<text text-anchor=\"start\" x=\"1777.6667\" y=\"-737.3\" font-family=\"Times,serif\" font-size=\"14.00\" fill=\"#000000\">deltasgv ≤ 1.5</text>\n<text text-anchor=\"start\" x=\"1774.6667\" y=\"-722.3\" font-family=\"Times,serif\" font-size=\"14.00\" fill=\"#000000\">mse = 527.082</text>\n<text text-anchor=\"start\" x=\"1776.6667\" y=\"-707.3\" font-family=\"Times,serif\" font-size=\"14.00\" fill=\"#000000\">samples = 708</text>\n<text text-anchor=\"start\" x=\"1770.6667\" y=\"-692.3\" font-family=\"Times,serif\" font-size=\"14.00\" fill=\"#000000\">value = 108.469</text>\n</g>\n<!-- 206&#45;&gt;214 -->\n<g id=\"edge214\" class=\"edge\">\n<title>206&#45;&gt;214</title>\n<path fill=\"none\" stroke=\"#000000\" d=\"M1332.8823,-879.8306C1433.7219,-846.3414 1644.8407,-776.2282 1752.4878,-740.4782\"/>\n<polygon fill=\"#000000\" stroke=\"#000000\" points=\"1753.8734,-743.7061 1762.2606,-737.2327 1751.6671,-737.0629 1753.8734,-743.7061\"/>\n</g>\n<!-- 208 -->\n<g id=\"node209\" class=\"node\">\n<title>208</title>\n<polygon fill=\"#f2be99\" stroke=\"#000000\" points=\"2501.6667,-972.5 2353.6667,-972.5 2353.6667,-904.5 2501.6667,-904.5 2501.6667,-972.5\"/>\n<text text-anchor=\"start\" x=\"2361.6667\" y=\"-957.3\" font-family=\"Times,serif\" font-size=\"14.00\" fill=\"#000000\">meandeltasgv ≤ &#45;1.625</text>\n<text text-anchor=\"start\" x=\"2383.6667\" y=\"-942.3\" font-family=\"Times,serif\" font-size=\"14.00\" fill=\"#000000\">mse = 945.975</text>\n<text text-anchor=\"start\" x=\"2389.6667\" y=\"-927.3\" font-family=\"Times,serif\" font-size=\"14.00\" fill=\"#000000\">samples = 89</text>\n<text text-anchor=\"start\" x=\"2383.6667\" y=\"-912.3\" font-family=\"Times,serif\" font-size=\"14.00\" fill=\"#000000\">value = 72.263</text>\n</g>\n<!-- 207&#45;&gt;208 -->\n<g id=\"edge208\" class=\"edge\">\n<title>207&#45;&gt;208</title>\n<path fill=\"none\" stroke=\"#000000\" d=\"M1870.8529,-901.9277C1976.3155,-908.8546 2215.6305,-924.5732 2343.469,-932.9698\"/>\n<polygon fill=\"#000000\" stroke=\"#000000\" points=\"2343.397,-936.4725 2353.6049,-933.6355 2343.8558,-929.4875 2343.397,-936.4725\"/>\n</g>\n<!-- 213 -->\n<g id=\"node214\" class=\"node\">\n<title>213</title>\n<polygon fill=\"#eeab7b\" stroke=\"#000000\" points=\"2479.6667,-886 2375.6667,-886 2375.6667,-833 2479.6667,-833 2479.6667,-886\"/>\n<text text-anchor=\"start\" x=\"2383.6667\" y=\"-870.8\" font-family=\"Times,serif\" font-size=\"14.00\" fill=\"#000000\">mse = 554.055</text>\n<text text-anchor=\"start\" x=\"2389.6667\" y=\"-855.8\" font-family=\"Times,serif\" font-size=\"14.00\" fill=\"#000000\">samples = 34</text>\n<text text-anchor=\"start\" x=\"2383.6667\" y=\"-840.8\" font-family=\"Times,serif\" font-size=\"14.00\" fill=\"#000000\">value = 93.981</text>\n</g>\n<!-- 207&#45;&gt;213 -->\n<g id=\"edge213\" class=\"edge\">\n<title>207&#45;&gt;213</title>\n<path fill=\"none\" stroke=\"#000000\" d=\"M1870.8529,-895.158C1982.6821,-887.9965 2245.0125,-871.1971 2365.3485,-863.4908\"/>\n<polygon fill=\"#000000\" stroke=\"#000000\" points=\"2365.7454,-866.9727 2375.5012,-862.8406 2365.298,-859.987 2365.7454,-866.9727\"/>\n</g>\n<!-- 209 -->\n<g id=\"node210\" class=\"node\">\n<title>209</title>\n<polygon fill=\"#f6d4bb\" stroke=\"#000000\" points=\"3200.6667,-1004 3096.6667,-1004 3096.6667,-951 3200.6667,-951 3200.6667,-1004\"/>\n<text text-anchor=\"start\" x=\"3104.6667\" y=\"-988.8\" font-family=\"Times,serif\" font-size=\"14.00\" fill=\"#000000\">mse = 592.888</text>\n<text text-anchor=\"start\" x=\"3110.6667\" y=\"-973.8\" font-family=\"Times,serif\" font-size=\"14.00\" fill=\"#000000\">samples = 31</text>\n<text text-anchor=\"start\" x=\"3104.6667\" y=\"-958.8\" font-family=\"Times,serif\" font-size=\"14.00\" fill=\"#000000\">value = 48.256</text>\n</g>\n<!-- 208&#45;&gt;209 -->\n<g id=\"edge209\" class=\"edge\">\n<title>208&#45;&gt;209</title>\n<path fill=\"none\" stroke=\"#000000\" d=\"M2501.774,-942.5086C2644.1729,-950.2112 2953.649,-966.9512 3086.28,-974.1254\"/>\n<polygon fill=\"#000000\" stroke=\"#000000\" points=\"3086.4851,-977.6415 3096.6596,-974.6869 3086.8632,-970.6517 3086.4851,-977.6415\"/>\n</g>\n<!-- 210 -->\n<g id=\"node211\" class=\"node\">\n<title>210</title>\n<polygon fill=\"#f0b48a\" stroke=\"#000000\" points=\"3200.6667,-932.5 3096.6667,-932.5 3096.6667,-864.5 3200.6667,-864.5 3200.6667,-932.5\"/>\n<text text-anchor=\"start\" x=\"3107.6667\" y=\"-917.3\" font-family=\"Times,serif\" font-size=\"14.00\" fill=\"#000000\">sgv&#45;4 ≤ 167.0</text>\n<text text-anchor=\"start\" x=\"3104.6667\" y=\"-902.3\" font-family=\"Times,serif\" font-size=\"14.00\" fill=\"#000000\">mse = 723.249</text>\n<text text-anchor=\"start\" x=\"3110.6667\" y=\"-887.3\" font-family=\"Times,serif\" font-size=\"14.00\" fill=\"#000000\">samples = 58</text>\n<text text-anchor=\"start\" x=\"3104.6667\" y=\"-872.3\" font-family=\"Times,serif\" font-size=\"14.00\" fill=\"#000000\">value = 83.245</text>\n</g>\n<!-- 208&#45;&gt;210 -->\n<g id=\"edge210\" class=\"edge\">\n<title>208&#45;&gt;210</title>\n<path fill=\"none\" stroke=\"#000000\" d=\"M2501.774,-934.3886C2644.1729,-926.4886 2953.649,-909.3193 3086.28,-901.9611\"/>\n<polygon fill=\"#000000\" stroke=\"#000000\" points=\"3086.8688,-905.4339 3096.6596,-901.3853 3086.481,-898.4447 3086.8688,-905.4339\"/>\n</g>\n<!-- 211 -->\n<g id=\"node212\" class=\"node\">\n<title>211</title>\n<polygon fill=\"#f1bd97\" stroke=\"#000000\" points=\"3966.6667,-961 3862.6667,-961 3862.6667,-908 3966.6667,-908 3966.6667,-961\"/>\n<text text-anchor=\"start\" x=\"3870.6667\" y=\"-945.8\" font-family=\"Times,serif\" font-size=\"14.00\" fill=\"#000000\">mse = 589.724</text>\n<text text-anchor=\"start\" x=\"3876.6667\" y=\"-930.8\" font-family=\"Times,serif\" font-size=\"14.00\" fill=\"#000000\">samples = 36</text>\n<text text-anchor=\"start\" x=\"3870.6667\" y=\"-915.8\" font-family=\"Times,serif\" font-size=\"14.00\" fill=\"#000000\">value = 73.661</text>\n</g>\n<!-- 210&#45;&gt;211 -->\n<g id=\"edge211\" class=\"edge\">\n<title>210&#45;&gt;211</title>\n<path fill=\"none\" stroke=\"#000000\" d=\"M3200.7147,-900.9461C3337.1828,-907.3598 3704.9356,-924.6432 3852.3222,-931.57\"/>\n<polygon fill=\"#000000\" stroke=\"#000000\" points=\"3852.3937,-935.0771 3862.547,-932.0505 3852.7224,-928.0848 3852.3937,-935.0771\"/>\n</g>\n<!-- 212 -->\n<g id=\"node213\" class=\"node\">\n<title>212</title>\n<polygon fill=\"#eda876\" stroke=\"#000000\" points=\"3966.6667,-890 3862.6667,-890 3862.6667,-837 3966.6667,-837 3966.6667,-890\"/>\n<text text-anchor=\"start\" x=\"3874.6667\" y=\"-874.8\" font-family=\"Times,serif\" font-size=\"14.00\" fill=\"#000000\">mse = 585.18</text>\n<text text-anchor=\"start\" x=\"3876.6667\" y=\"-859.8\" font-family=\"Times,serif\" font-size=\"14.00\" fill=\"#000000\">samples = 22</text>\n<text text-anchor=\"start\" x=\"3870.6667\" y=\"-844.8\" font-family=\"Times,serif\" font-size=\"14.00\" fill=\"#000000\">value = 97.368</text>\n</g>\n<!-- 210&#45;&gt;212 -->\n<g id=\"edge212\" class=\"edge\">\n<title>210&#45;&gt;212</title>\n<path fill=\"none\" stroke=\"#000000\" d=\"M3200.7147,-896.1218C3337.1828,-889.8863 3704.9356,-873.083 3852.3222,-866.3486\"/>\n<polygon fill=\"#000000\" stroke=\"#000000\" points=\"3852.7172,-869.8343 3862.547,-865.8814 3852.3976,-862.8416 3852.7172,-869.8343\"/>\n</g>\n<!-- 215 -->\n<g id=\"node216\" class=\"node\">\n<title>215</title>\n<polygon fill=\"#eca470\" stroke=\"#000000\" points=\"2483.6667,-752.5 2371.6667,-752.5 2371.6667,-684.5 2483.6667,-684.5 2483.6667,-752.5\"/>\n<text text-anchor=\"start\" x=\"2386.6667\" y=\"-737.3\" font-family=\"Times,serif\" font-size=\"14.00\" fill=\"#000000\">sgv&#45;3 ≤ 139.5</text>\n<text text-anchor=\"start\" x=\"2383.6667\" y=\"-722.3\" font-family=\"Times,serif\" font-size=\"14.00\" fill=\"#000000\">mse = 565.675</text>\n<text text-anchor=\"start\" x=\"2385.6667\" y=\"-707.3\" font-family=\"Times,serif\" font-size=\"14.00\" fill=\"#000000\">samples = 328</text>\n<text text-anchor=\"start\" x=\"2379.6667\" y=\"-692.3\" font-family=\"Times,serif\" font-size=\"14.00\" fill=\"#000000\">value = 101.614</text>\n</g>\n<!-- 214&#45;&gt;215 -->\n<g id=\"edge215\" class=\"edge\">\n<title>214&#45;&gt;215</title>\n<path fill=\"none\" stroke=\"#000000\" d=\"M1874.8683,-718.5C1987.5997,-718.5 2240.8202,-718.5 2361.4023,-718.5\"/>\n<polygon fill=\"#000000\" stroke=\"#000000\" points=\"2361.6009,-722.0001 2371.6008,-718.5 2361.6008,-715.0001 2361.6009,-722.0001\"/>\n</g>\n<!-- 238 -->\n<g id=\"node239\" class=\"node\">\n<title>238</title>\n<polygon fill=\"#ea985d\" stroke=\"#000000\" points=\"2485.6667,-408.5 2369.6667,-408.5 2369.6667,-340.5 2485.6667,-340.5 2485.6667,-408.5\"/>\n<text text-anchor=\"start\" x=\"2377.6667\" y=\"-393.3\" font-family=\"Times,serif\" font-size=\"14.00\" fill=\"#000000\">insulin&#45;2 ≤ 112.5</text>\n<text text-anchor=\"start\" x=\"2383.6667\" y=\"-378.3\" font-family=\"Times,serif\" font-size=\"14.00\" fill=\"#000000\">mse = 401.381</text>\n<text text-anchor=\"start\" x=\"2385.6667\" y=\"-363.3\" font-family=\"Times,serif\" font-size=\"14.00\" fill=\"#000000\">samples = 380</text>\n<text text-anchor=\"start\" x=\"2380.1667\" y=\"-348.3\" font-family=\"Times,serif\" font-size=\"14.00\" fill=\"#000000\">value = 115.059</text>\n</g>\n<!-- 214&#45;&gt;238 -->\n<g id=\"edge238\" class=\"edge\">\n<title>214&#45;&gt;238</title>\n<path fill=\"none\" stroke=\"#000000\" d=\"M1874.8683,-686.7539C1987.3347,-623.2261 2239.6305,-480.7142 2360.5498,-412.4117\"/>\n<polygon fill=\"#000000\" stroke=\"#000000\" points=\"2362.3911,-415.3914 2369.3767,-407.4257 2358.9483,-409.2965 2362.3911,-415.3914\"/>\n</g>\n<!-- 216 -->\n<g id=\"node217\" class=\"node\">\n<title>216</title>\n<polygon fill=\"#f1bd98\" stroke=\"#000000\" points=\"3200.6667,-785 3096.6667,-785 3096.6667,-732 3200.6667,-732 3200.6667,-785\"/>\n<text text-anchor=\"start\" x=\"3104.6667\" y=\"-769.8\" font-family=\"Times,serif\" font-size=\"14.00\" fill=\"#000000\">mse = 970.795</text>\n<text text-anchor=\"start\" x=\"3110.6667\" y=\"-754.8\" font-family=\"Times,serif\" font-size=\"14.00\" fill=\"#000000\">samples = 28</text>\n<text text-anchor=\"start\" x=\"3104.6667\" y=\"-739.8\" font-family=\"Times,serif\" font-size=\"14.00\" fill=\"#000000\">value = 73.256</text>\n</g>\n<!-- 215&#45;&gt;216 -->\n<g id=\"edge216\" class=\"edge\">\n<title>215&#45;&gt;216</title>\n<path fill=\"none\" stroke=\"#000000\" d=\"M2483.942,-721.6221C2616.506,-728.9765 2947.6397,-747.3473 3086.1789,-755.0333\"/>\n<polygon fill=\"#000000\" stroke=\"#000000\" points=\"3086.0332,-758.5305 3096.2117,-755.5899 3086.421,-751.5412 3086.0332,-758.5305\"/>\n</g>\n<!-- 217 -->\n<g id=\"node218\" class=\"node\">\n<title>217</title>\n<polygon fill=\"#eca26d\" stroke=\"#000000\" points=\"3206.6667,-713.5 3090.6667,-713.5 3090.6667,-645.5 3206.6667,-645.5 3206.6667,-713.5\"/>\n<text text-anchor=\"start\" x=\"3098.6667\" y=\"-698.3\" font-family=\"Times,serif\" font-size=\"14.00\" fill=\"#000000\">insulin&#45;2 ≤ 112.5</text>\n<text text-anchor=\"start\" x=\"3104.6667\" y=\"-683.3\" font-family=\"Times,serif\" font-size=\"14.00\" fill=\"#000000\">mse = 462.266</text>\n<text text-anchor=\"start\" x=\"3106.6667\" y=\"-668.3\" font-family=\"Times,serif\" font-size=\"14.00\" fill=\"#000000\">samples = 300</text>\n<text text-anchor=\"start\" x=\"3100.6667\" y=\"-653.3\" font-family=\"Times,serif\" font-size=\"14.00\" fill=\"#000000\">value = 103.915</text>\n</g>\n<!-- 215&#45;&gt;217 -->\n<g id=\"edge217\" class=\"edge\">\n<title>215&#45;&gt;217</title>\n<path fill=\"none\" stroke=\"#000000\" d=\"M2483.942,-715.456C2614.6469,-708.386 2938.3909,-690.8741 3080.2375,-683.2014\"/>\n<polygon fill=\"#000000\" stroke=\"#000000\" points=\"3080.7427,-686.6793 3090.5391,-682.6442 3080.3646,-679.6895 3080.7427,-686.6793\"/>\n</g>\n<!-- 218 -->\n<g id=\"node219\" class=\"node\">\n<title>218</title>\n<polygon fill=\"#eda673\" stroke=\"#000000\" points=\"3966.6667,-795.5 3862.6667,-795.5 3862.6667,-727.5 3966.6667,-727.5 3966.6667,-795.5\"/>\n<text text-anchor=\"start\" x=\"3879.6667\" y=\"-780.3\" font-family=\"Times,serif\" font-size=\"14.00\" fill=\"#000000\">sgv ≤ 170.5</text>\n<text text-anchor=\"start\" x=\"3871.1667\" y=\"-765.3\" font-family=\"Times,serif\" font-size=\"14.00\" fill=\"#000000\">mse = 318.118</text>\n<text text-anchor=\"start\" x=\"3872.6667\" y=\"-750.3\" font-family=\"Times,serif\" font-size=\"14.00\" fill=\"#000000\">samples = 197</text>\n<text text-anchor=\"start\" x=\"3870.6667\" y=\"-735.3\" font-family=\"Times,serif\" font-size=\"14.00\" fill=\"#000000\">value = 99.217</text>\n</g>\n<!-- 217&#45;&gt;218 -->\n<g id=\"edge218\" class=\"edge\">\n<title>217&#45;&gt;218</title>\n<path fill=\"none\" stroke=\"#000000\" d=\"M3206.8699,-685.7306C3347.9391,-700.832 3707.1576,-739.2862 3852.3582,-754.8299\"/>\n<polygon fill=\"#000000\" stroke=\"#000000\" points=\"3852.1211,-758.3244 3862.4369,-755.9088 3852.8663,-751.3642 3852.1211,-758.3244\"/>\n</g>\n<!-- 231 -->\n<g id=\"node232\" class=\"node\">\n<title>231</title>\n<polygon fill=\"#ea9a60\" stroke=\"#000000\" points=\"3972.6667,-652.5 3856.6667,-652.5 3856.6667,-584.5 3972.6667,-584.5 3972.6667,-652.5\"/>\n<text text-anchor=\"start\" x=\"3864.6667\" y=\"-637.3\" font-family=\"Times,serif\" font-size=\"14.00\" fill=\"#000000\">insulin&#45;1 ≤ 112.5</text>\n<text text-anchor=\"start\" x=\"3870.6667\" y=\"-622.3\" font-family=\"Times,serif\" font-size=\"14.00\" fill=\"#000000\">mse = 616.749</text>\n<text text-anchor=\"start\" x=\"3872.6667\" y=\"-607.3\" font-family=\"Times,serif\" font-size=\"14.00\" fill=\"#000000\">samples = 103</text>\n<text text-anchor=\"start\" x=\"3867.1667\" y=\"-592.3\" font-family=\"Times,serif\" font-size=\"14.00\" fill=\"#000000\">value = 113.128</text>\n</g>\n<!-- 217&#45;&gt;231 -->\n<g id=\"edge231\" class=\"edge\">\n<title>217&#45;&gt;231</title>\n<path fill=\"none\" stroke=\"#000000\" d=\"M3206.8699,-674.865C3345.9786,-663.7872 3697.2154,-635.8166 3846.1817,-623.9538\"/>\n<polygon fill=\"#000000\" stroke=\"#000000\" points=\"3846.8615,-627.4108 3856.552,-623.1279 3846.3057,-620.4329 3846.8615,-627.4108\"/>\n</g>\n<!-- 219 -->\n<g id=\"node220\" class=\"node\">\n<title>219</title>\n<polygon fill=\"#eeaa7a\" stroke=\"#000000\" points=\"4725.6667,-913.5 4621.6667,-913.5 4621.6667,-845.5 4725.6667,-845.5 4725.6667,-913.5\"/>\n<text text-anchor=\"start\" x=\"4632.6667\" y=\"-898.3\" font-family=\"Times,serif\" font-size=\"14.00\" fill=\"#000000\">deltasgv ≤ 0.5</text>\n<text text-anchor=\"start\" x=\"4629.6667\" y=\"-883.3\" font-family=\"Times,serif\" font-size=\"14.00\" fill=\"#000000\">mse = 305.245</text>\n<text text-anchor=\"start\" x=\"4635.6667\" y=\"-868.3\" font-family=\"Times,serif\" font-size=\"14.00\" fill=\"#000000\">samples = 98</text>\n<text text-anchor=\"start\" x=\"4629.6667\" y=\"-853.3\" font-family=\"Times,serif\" font-size=\"14.00\" fill=\"#000000\">value = 94.429</text>\n</g>\n<!-- 218&#45;&gt;219 -->\n<g id=\"edge219\" class=\"edge\">\n<title>218&#45;&gt;219</title>\n<path fill=\"none\" stroke=\"#000000\" d=\"M3966.8358,-769.6106C4102.407,-790.6876 4465.4131,-847.1233 4611.4982,-869.8348\"/>\n<polygon fill=\"#000000\" stroke=\"#000000\" points=\"4611.2163,-873.333 4621.6353,-871.4108 4612.2917,-866.416 4611.2163,-873.333\"/>\n</g>\n<!-- 226 -->\n<g id=\"node227\" class=\"node\">\n<title>226</title>\n<polygon fill=\"#eca16c\" stroke=\"#000000\" points=\"4729.6667,-795.5 4617.6667,-795.5 4617.6667,-727.5 4729.6667,-727.5 4729.6667,-795.5\"/>\n<text text-anchor=\"start\" x=\"4630.6667\" y=\"-780.3\" font-family=\"Times,serif\" font-size=\"14.00\" fill=\"#000000\">deltasgv ≤ &#45;0.5</text>\n<text text-anchor=\"start\" x=\"4629.6667\" y=\"-765.3\" font-family=\"Times,serif\" font-size=\"14.00\" fill=\"#000000\">mse = 279.232</text>\n<text text-anchor=\"start\" x=\"4635.6667\" y=\"-750.3\" font-family=\"Times,serif\" font-size=\"14.00\" fill=\"#000000\">samples = 99</text>\n<text text-anchor=\"start\" x=\"4625.6667\" y=\"-735.3\" font-family=\"Times,serif\" font-size=\"14.00\" fill=\"#000000\">value = 104.491</text>\n</g>\n<!-- 218&#45;&gt;226 -->\n<g id=\"edge226\" class=\"edge\">\n<title>218&#45;&gt;226</title>\n<path fill=\"none\" stroke=\"#000000\" d=\"M3966.8358,-761.5C4101.0987,-761.5 4458.4281,-761.5 4607.2087,-761.5\"/>\n<polygon fill=\"#000000\" stroke=\"#000000\" points=\"4607.5546,-765.0001 4617.5546,-761.5 4607.5545,-758.0001 4607.5546,-765.0001\"/>\n</g>\n<!-- 220 -->\n<g id=\"node221\" class=\"node\">\n<title>220</title>\n<polygon fill=\"#eead7e\" stroke=\"#000000\" points=\"5484.6667,-992.5 5380.6667,-992.5 5380.6667,-924.5 5484.6667,-924.5 5484.6667,-992.5\"/>\n<text text-anchor=\"start\" x=\"5391.6667\" y=\"-977.3\" font-family=\"Times,serif\" font-size=\"14.00\" fill=\"#000000\">sgv&#45;3 ≤ 159.5</text>\n<text text-anchor=\"start\" x=\"5388.6667\" y=\"-962.3\" font-family=\"Times,serif\" font-size=\"14.00\" fill=\"#000000\">mse = 342.141</text>\n<text text-anchor=\"start\" x=\"5394.6667\" y=\"-947.3\" font-family=\"Times,serif\" font-size=\"14.00\" fill=\"#000000\">samples = 64</text>\n<text text-anchor=\"start\" x=\"5388.6667\" y=\"-932.3\" font-family=\"Times,serif\" font-size=\"14.00\" fill=\"#000000\">value = 91.667</text>\n</g>\n<!-- 219&#45;&gt;220 -->\n<g id=\"edge220\" class=\"edge\">\n<title>219&#45;&gt;220</title>\n<path fill=\"none\" stroke=\"#000000\" d=\"M4725.8358,-884.93C4861.407,-899.0408 5224.4131,-936.8241 5370.4982,-952.0292\"/>\n<polygon fill=\"#000000\" stroke=\"#000000\" points=\"5370.3267,-955.5302 5380.6353,-953.0844 5371.0514,-948.5678 5370.3267,-955.5302\"/>\n</g>\n<!-- 225 -->\n<g id=\"node226\" class=\"node\">\n<title>225</title>\n<polygon fill=\"#eca572\" stroke=\"#000000\" points=\"5484.6667,-906 5380.6667,-906 5380.6667,-853 5484.6667,-853 5484.6667,-906\"/>\n<text text-anchor=\"start\" x=\"5388.6667\" y=\"-890.8\" font-family=\"Times,serif\" font-size=\"14.00\" fill=\"#000000\">mse = 184.426</text>\n<text text-anchor=\"start\" x=\"5394.6667\" y=\"-875.8\" font-family=\"Times,serif\" font-size=\"14.00\" fill=\"#000000\">samples = 34</text>\n<text text-anchor=\"start\" x=\"5392.1667\" y=\"-860.8\" font-family=\"Times,serif\" font-size=\"14.00\" fill=\"#000000\">value = 100.0</text>\n</g>\n<!-- 219&#45;&gt;225 -->\n<g id=\"edge225\" class=\"edge\">\n<title>219&#45;&gt;225</title>\n<path fill=\"none\" stroke=\"#000000\" d=\"M4725.8358,-879.5C4861.407,-879.5 5224.4131,-879.5 5370.4982,-879.5\"/>\n<polygon fill=\"#000000\" stroke=\"#000000\" points=\"5370.6353,-883.0001 5380.6353,-879.5 5370.6353,-876.0001 5370.6353,-883.0001\"/>\n</g>\n<!-- 221 -->\n<g id=\"node222\" class=\"node\">\n<title>221</title>\n<polygon fill=\"#eeab7b\" stroke=\"#000000\" points=\"6277.1667,-1031.5 6108.1667,-1031.5 6108.1667,-963.5 6277.1667,-963.5 6277.1667,-1031.5\"/>\n<text text-anchor=\"start\" x=\"6116.1667\" y=\"-1016.3\" font-family=\"Times,serif\" font-size=\"14.00\" fill=\"#000000\">prevmeandeltasgv ≤ 0.125</text>\n<text text-anchor=\"start\" x=\"6148.6667\" y=\"-1001.3\" font-family=\"Times,serif\" font-size=\"14.00\" fill=\"#000000\">mse = 324.121</text>\n<text text-anchor=\"start\" x=\"6154.6667\" y=\"-986.3\" font-family=\"Times,serif\" font-size=\"14.00\" fill=\"#000000\">samples = 41</text>\n<text text-anchor=\"start\" x=\"6148.6667\" y=\"-971.3\" font-family=\"Times,serif\" font-size=\"14.00\" fill=\"#000000\">value = 93.438</text>\n</g>\n<!-- 220&#45;&gt;221 -->\n<g id=\"edge221\" class=\"edge\">\n<title>220&#45;&gt;221</title>\n<path fill=\"none\" stroke=\"#000000\" d=\"M5484.9045,-961.1806C5611.4092,-967.6723 5935.6857,-984.3128 6097.6484,-992.6241\"/>\n<polygon fill=\"#000000\" stroke=\"#000000\" points=\"6097.9118,-996.1421 6108.078,-993.1593 6098.2706,-989.1513 6097.9118,-996.1421\"/>\n</g>\n<!-- 224 -->\n<g id=\"node225\" class=\"node\">\n<title>224</title>\n<polygon fill=\"#efb082\" stroke=\"#000000\" points=\"6244.6667,-945 6140.6667,-945 6140.6667,-892 6244.6667,-892 6244.6667,-945\"/>\n<text text-anchor=\"start\" x=\"6148.6667\" y=\"-929.8\" font-family=\"Times,serif\" font-size=\"14.00\" fill=\"#000000\">mse = 358.978</text>\n<text text-anchor=\"start\" x=\"6154.6667\" y=\"-914.8\" font-family=\"Times,serif\" font-size=\"14.00\" fill=\"#000000\">samples = 23</text>\n<text text-anchor=\"start\" x=\"6148.6667\" y=\"-899.8\" font-family=\"Times,serif\" font-size=\"14.00\" fill=\"#000000\">value = 88.372</text>\n</g>\n<!-- 220&#45;&gt;224 -->\n<g id=\"edge224\" class=\"edge\">\n<title>220&#45;&gt;224</title>\n<path fill=\"none\" stroke=\"#000000\" d=\"M5484.9045,-955.7506C5620.6543,-948.6059 5984.1387,-929.4752 6130.4163,-921.7763\"/>\n<polygon fill=\"#000000\" stroke=\"#000000\" points=\"6130.7646,-925.2629 6140.5668,-921.2421 6130.3966,-918.2726 6130.7646,-925.2629\"/>\n</g>\n<!-- 222 -->\n<g id=\"node223\" class=\"node\">\n<title>222</title>\n<polygon fill=\"#eda877\" stroke=\"#000000\" points=\"6995.6667,-1059 6891.6667,-1059 6891.6667,-1006 6995.6667,-1006 6995.6667,-1059\"/>\n<text text-anchor=\"start\" x=\"6899.6667\" y=\"-1043.8\" font-family=\"Times,serif\" font-size=\"14.00\" fill=\"#000000\">mse = 255.102</text>\n<text text-anchor=\"start\" x=\"6905.6667\" y=\"-1028.8\" font-family=\"Times,serif\" font-size=\"14.00\" fill=\"#000000\">samples = 21</text>\n<text text-anchor=\"start\" x=\"6899.6667\" y=\"-1013.8\" font-family=\"Times,serif\" font-size=\"14.00\" fill=\"#000000\">value = 96.429</text>\n</g>\n<!-- 221&#45;&gt;222 -->\n<g id=\"edge222\" class=\"edge\">\n<title>221&#45;&gt;222</title>\n<path fill=\"none\" stroke=\"#000000\" d=\"M6277.3561,-1001.4469C6429.7059,-1008.5471 6746.6191,-1023.3167 6881.1271,-1029.5854\"/>\n<polygon fill=\"#000000\" stroke=\"#000000\" points=\"6881.1101,-1033.0883 6891.2622,-1030.0577 6881.436,-1026.0959 6881.1101,-1033.0883\"/>\n</g>\n<!-- 223 -->\n<g id=\"node224\" class=\"node\">\n<title>223</title>\n<polygon fill=\"#eeae80\" stroke=\"#000000\" points=\"6995.6667,-988 6891.6667,-988 6891.6667,-935 6995.6667,-935 6995.6667,-988\"/>\n<text text-anchor=\"start\" x=\"6899.6667\" y=\"-972.8\" font-family=\"Times,serif\" font-size=\"14.00\" fill=\"#000000\">mse = 379.588</text>\n<text text-anchor=\"start\" x=\"6905.6667\" y=\"-957.8\" font-family=\"Times,serif\" font-size=\"14.00\" fill=\"#000000\">samples = 20</text>\n<text text-anchor=\"start\" x=\"6899.6667\" y=\"-942.8\" font-family=\"Times,serif\" font-size=\"14.00\" fill=\"#000000\">value = 90.132</text>\n</g>\n<!-- 221&#45;&gt;223 -->\n<g id=\"edge223\" class=\"edge\">\n<title>221&#45;&gt;223</title>\n<path fill=\"none\" stroke=\"#000000\" d=\"M6277.3561,-993.4403C6429.7059,-986.1373 6746.6191,-970.9457 6881.1271,-964.4979\"/>\n<polygon fill=\"#000000\" stroke=\"#000000\" points=\"6881.4413,-967.987 6891.2622,-964.0121 6881.1061,-960.995 6881.4413,-967.987\"/>\n</g>\n<!-- 227 -->\n<g id=\"node228\" class=\"node\">\n<title>227</title>\n<polygon fill=\"#eda774\" stroke=\"#000000\" points=\"5484.6667,-835 5380.6667,-835 5380.6667,-782 5484.6667,-782 5484.6667,-835\"/>\n<text text-anchor=\"start\" x=\"5388.6667\" y=\"-819.8\" font-family=\"Times,serif\" font-size=\"14.00\" fill=\"#000000\">mse = 150.201</text>\n<text text-anchor=\"start\" x=\"5394.6667\" y=\"-804.8\" font-family=\"Times,serif\" font-size=\"14.00\" fill=\"#000000\">samples = 38</text>\n<text text-anchor=\"start\" x=\"5388.6667\" y=\"-789.8\" font-family=\"Times,serif\" font-size=\"14.00\" fill=\"#000000\">value = 98.649</text>\n</g>\n<!-- 226&#45;&gt;227 -->\n<g id=\"edge227\" class=\"edge\">\n<title>226&#45;&gt;227</title>\n<path fill=\"none\" stroke=\"#000000\" d=\"M4729.786,-764.9751C4868.3567,-773.5559 5225.9585,-795.6999 5370.5885,-804.6559\"/>\n<polygon fill=\"#000000\" stroke=\"#000000\" points=\"5370.4306,-808.1527 5380.6279,-805.2776 5370.8633,-801.1661 5370.4306,-808.1527\"/>\n</g>\n<!-- 228 -->\n<g id=\"node229\" class=\"node\">\n<title>228</title>\n<polygon fill=\"#eb9d65\" stroke=\"#000000\" points=\"5484.6667,-763.5 5380.6667,-763.5 5380.6667,-695.5 5484.6667,-695.5 5484.6667,-763.5\"/>\n<text text-anchor=\"start\" x=\"5391.6667\" y=\"-748.3\" font-family=\"Times,serif\" font-size=\"14.00\" fill=\"#000000\">deltasgv ≤ 0.5</text>\n<text text-anchor=\"start\" x=\"5388.6667\" y=\"-733.3\" font-family=\"Times,serif\" font-size=\"14.00\" fill=\"#000000\">mse = 333.131</text>\n<text text-anchor=\"start\" x=\"5394.6667\" y=\"-718.3\" font-family=\"Times,serif\" font-size=\"14.00\" fill=\"#000000\">samples = 61</text>\n<text text-anchor=\"start\" x=\"5388.6667\" y=\"-703.3\" font-family=\"Times,serif\" font-size=\"14.00\" fill=\"#000000\">value = 109.14</text>\n</g>\n<!-- 226&#45;&gt;228 -->\n<g id=\"edge228\" class=\"edge\">\n<title>226&#45;&gt;228</title>\n<path fill=\"none\" stroke=\"#000000\" d=\"M4729.786,-759.134C4868.3567,-753.2917 5225.9585,-738.215 5370.5885,-732.1173\"/>\n<polygon fill=\"#000000\" stroke=\"#000000\" points=\"5370.7842,-735.6122 5380.6279,-731.694 5370.4893,-728.6184 5370.7842,-735.6122\"/>\n</g>\n<!-- 229 -->\n<g id=\"node230\" class=\"node\">\n<title>229</title>\n<polygon fill=\"#ea9a61\" stroke=\"#000000\" points=\"6248.1667,-792 6137.1667,-792 6137.1667,-739 6248.1667,-739 6248.1667,-792\"/>\n<text text-anchor=\"start\" x=\"6148.6667\" y=\"-776.8\" font-family=\"Times,serif\" font-size=\"14.00\" fill=\"#000000\">mse = 202.332</text>\n<text text-anchor=\"start\" x=\"6154.6667\" y=\"-761.8\" font-family=\"Times,serif\" font-size=\"14.00\" fill=\"#000000\">samples = 35</text>\n<text text-anchor=\"start\" x=\"6145.1667\" y=\"-746.8\" font-family=\"Times,serif\" font-size=\"14.00\" fill=\"#000000\">value = 112.037</text>\n</g>\n<!-- 228&#45;&gt;229 -->\n<g id=\"edge229\" class=\"edge\">\n<title>228&#45;&gt;229</title>\n<path fill=\"none\" stroke=\"#000000\" d=\"M5484.9045,-731.9744C5619.5081,-738.3504 5978.0165,-755.3324 6126.6646,-762.3736\"/>\n<polygon fill=\"#000000\" stroke=\"#000000\" points=\"6126.8442,-765.8859 6136.9986,-762.8631 6127.1755,-758.8938 6126.8442,-765.8859\"/>\n</g>\n<!-- 230 -->\n<g id=\"node231\" class=\"node\">\n<title>230</title>\n<polygon fill=\"#eca16b\" stroke=\"#000000\" points=\"6248.6667,-721 6136.6667,-721 6136.6667,-668 6248.6667,-668 6248.6667,-721\"/>\n<text text-anchor=\"start\" x=\"6148.6667\" y=\"-705.8\" font-family=\"Times,serif\" font-size=\"14.00\" fill=\"#000000\">mse = 486.522</text>\n<text text-anchor=\"start\" x=\"6154.6667\" y=\"-690.8\" font-family=\"Times,serif\" font-size=\"14.00\" fill=\"#000000\">samples = 26</text>\n<text text-anchor=\"start\" x=\"6144.6667\" y=\"-675.8\" font-family=\"Times,serif\" font-size=\"14.00\" fill=\"#000000\">value = 105.128</text>\n</g>\n<!-- 228&#45;&gt;230 -->\n<g id=\"edge230\" class=\"edge\">\n<title>228&#45;&gt;230</title>\n<path fill=\"none\" stroke=\"#000000\" d=\"M5484.9045,-727.0943C5619.3443,-720.903 5977.1445,-704.4254 6126.1212,-697.5646\"/>\n<polygon fill=\"#000000\" stroke=\"#000000\" points=\"6126.6523,-701.0439 6136.4807,-697.0875 6126.3302,-694.0514 6126.6523,-701.0439\"/>\n</g>\n<!-- 232 -->\n<g id=\"node233\" class=\"node\">\n<title>232</title>\n<polygon fill=\"#eb9f68\" stroke=\"#000000\" points=\"4725.6667,-652.5 4621.6667,-652.5 4621.6667,-584.5 4725.6667,-584.5 4725.6667,-652.5\"/>\n<text text-anchor=\"start\" x=\"4638.6667\" y=\"-637.3\" font-family=\"Times,serif\" font-size=\"14.00\" fill=\"#000000\">sgv ≤ 184.0</text>\n<text text-anchor=\"start\" x=\"4629.6667\" y=\"-622.3\" font-family=\"Times,serif\" font-size=\"14.00\" fill=\"#000000\">mse = 291.188</text>\n<text text-anchor=\"start\" x=\"4635.6667\" y=\"-607.3\" font-family=\"Times,serif\" font-size=\"14.00\" fill=\"#000000\">samples = 54</text>\n<text text-anchor=\"start\" x=\"4629.6667\" y=\"-592.3\" font-family=\"Times,serif\" font-size=\"14.00\" fill=\"#000000\">value = 107.25</text>\n</g>\n<!-- 231&#45;&gt;232 -->\n<g id=\"edge232\" class=\"edge\">\n<title>231&#45;&gt;232</title>\n<path fill=\"none\" stroke=\"#000000\" d=\"M3972.9638,-618.5C4112.9674,-618.5 4467.2042,-618.5 4611.2802,-618.5\"/>\n<polygon fill=\"#000000\" stroke=\"#000000\" points=\"4611.2847,-622.0001 4621.2847,-618.5 4611.2847,-615.0001 4611.2847,-622.0001\"/>\n</g>\n<!-- 235 -->\n<g id=\"node236\" class=\"node\">\n<title>235</title>\n<polygon fill=\"#e99355\" stroke=\"#000000\" points=\"4745.1667,-542.5 4602.1667,-542.5 4602.1667,-474.5 4745.1667,-474.5 4745.1667,-542.5\"/>\n<text text-anchor=\"start\" x=\"4610.1667\" y=\"-527.3\" font-family=\"Times,serif\" font-size=\"14.00\" fill=\"#000000\">meandeltasgv ≤ 0.875</text>\n<text text-anchor=\"start\" x=\"4629.6667\" y=\"-512.3\" font-family=\"Times,serif\" font-size=\"14.00\" fill=\"#000000\">mse = 929.739</text>\n<text text-anchor=\"start\" x=\"4635.6667\" y=\"-497.3\" font-family=\"Times,serif\" font-size=\"14.00\" fill=\"#000000\">samples = 49</text>\n<text text-anchor=\"start\" x=\"4629.6667\" y=\"-482.3\" font-family=\"Times,serif\" font-size=\"14.00\" fill=\"#000000\">value = 120.57</text>\n</g>\n<!-- 231&#45;&gt;235 -->\n<g id=\"edge235\" class=\"edge\">\n<title>231&#45;&gt;235</title>\n<path fill=\"none\" stroke=\"#000000\" d=\"M3972.9638,-610.0511C4106.9995,-590.6257 4437.3933,-542.7425 4591.7428,-520.373\"/>\n<polygon fill=\"#000000\" stroke=\"#000000\" points=\"4592.7044,-523.7703 4602.099,-518.8721 4591.7003,-516.8427 4592.7044,-523.7703\"/>\n</g>\n<!-- 233 -->\n<g id=\"node234\" class=\"node\">\n<title>233</title>\n<polygon fill=\"#eca470\" stroke=\"#000000\" points=\"5484.6667,-677 5380.6667,-677 5380.6667,-624 5484.6667,-624 5484.6667,-677\"/>\n<text text-anchor=\"start\" x=\"5388.6667\" y=\"-661.8\" font-family=\"Times,serif\" font-size=\"14.00\" fill=\"#000000\">mse = 290.875</text>\n<text text-anchor=\"start\" x=\"5394.6667\" y=\"-646.8\" font-family=\"Times,serif\" font-size=\"14.00\" fill=\"#000000\">samples = 32</text>\n<text text-anchor=\"start\" x=\"5388.6667\" y=\"-631.8\" font-family=\"Times,serif\" font-size=\"14.00\" fill=\"#000000\">value = 101.21</text>\n</g>\n<!-- 232&#45;&gt;233 -->\n<g id=\"edge233\" class=\"edge\">\n<title>232&#45;&gt;233</title>\n<path fill=\"none\" stroke=\"#000000\" d=\"M4725.8358,-620.6995C4861.407,-626.4153 5224.4131,-641.7199 5370.4982,-647.8789\"/>\n<polygon fill=\"#000000\" stroke=\"#000000\" points=\"5370.4967,-651.3819 5380.6353,-648.3063 5370.7916,-644.3881 5370.4967,-651.3819\"/>\n</g>\n<!-- 234 -->\n<g id=\"node235\" class=\"node\">\n<title>234</title>\n<polygon fill=\"#e9965a\" stroke=\"#000000\" points=\"5488.1667,-606 5377.1667,-606 5377.1667,-553 5488.1667,-553 5488.1667,-606\"/>\n<text text-anchor=\"start\" x=\"5388.6667\" y=\"-590.8\" font-family=\"Times,serif\" font-size=\"14.00\" fill=\"#000000\">mse = 135.042</text>\n<text text-anchor=\"start\" x=\"5394.6667\" y=\"-575.8\" font-family=\"Times,serif\" font-size=\"14.00\" fill=\"#000000\">samples = 22</text>\n<text text-anchor=\"start\" x=\"5385.1667\" y=\"-560.8\" font-family=\"Times,serif\" font-size=\"14.00\" fill=\"#000000\">value = 117.105</text>\n</g>\n<!-- 232&#45;&gt;234 -->\n<g id=\"edge234\" class=\"edge\">\n<title>232&#45;&gt;234</title>\n<path fill=\"none\" stroke=\"#000000\" d=\"M4725.8358,-615.8194C4860.2622,-608.9121 5218.2989,-590.5149 5366.7514,-582.8869\"/>\n<polygon fill=\"#000000\" stroke=\"#000000\" points=\"5367.2647,-586.3653 5377.0719,-582.3566 5366.9054,-579.3745 5367.2647,-586.3653\"/>\n</g>\n<!-- 236 -->\n<g id=\"node237\" class=\"node\">\n<title>236</title>\n<polygon fill=\"#e78c4a\" stroke=\"#000000\" points=\"5488.6667,-535 5376.6667,-535 5376.6667,-482 5488.6667,-482 5488.6667,-535\"/>\n<text text-anchor=\"start\" x=\"5388.6667\" y=\"-519.8\" font-family=\"Times,serif\" font-size=\"14.00\" fill=\"#000000\">mse = 520.562</text>\n<text text-anchor=\"start\" x=\"5394.6667\" y=\"-504.8\" font-family=\"Times,serif\" font-size=\"14.00\" fill=\"#000000\">samples = 28</text>\n<text text-anchor=\"start\" x=\"5384.6667\" y=\"-489.8\" font-family=\"Times,serif\" font-size=\"14.00\" fill=\"#000000\">value = 128.646</text>\n</g>\n<!-- 235&#45;&gt;236 -->\n<g id=\"edge236\" class=\"edge\">\n<title>235&#45;&gt;236</title>\n<path fill=\"none\" stroke=\"#000000\" d=\"M4745.4133,-508.5C4892.0516,-508.5 5224.2116,-508.5 5366.2372,-508.5\"/>\n<polygon fill=\"#000000\" stroke=\"#000000\" points=\"5366.5367,-512.0001 5376.5367,-508.5 5366.5366,-505.0001 5366.5367,-512.0001\"/>\n</g>\n<!-- 237 -->\n<g id=\"node238\" class=\"node\">\n<title>237</title>\n<polygon fill=\"#eb9e67\" stroke=\"#000000\" points=\"5488.6667,-464 5376.6667,-464 5376.6667,-411 5488.6667,-411 5488.6667,-464\"/>\n<text text-anchor=\"start\" x=\"5385.1667\" y=\"-448.8\" font-family=\"Times,serif\" font-size=\"14.00\" fill=\"#000000\">mse = 1305.931</text>\n<text text-anchor=\"start\" x=\"5394.6667\" y=\"-433.8\" font-family=\"Times,serif\" font-size=\"14.00\" fill=\"#000000\">samples = 21</text>\n<text text-anchor=\"start\" x=\"5384.6667\" y=\"-418.8\" font-family=\"Times,serif\" font-size=\"14.00\" fill=\"#000000\">value = 108.065</text>\n</g>\n<!-- 235&#45;&gt;237 -->\n<g id=\"edge237\" class=\"edge\">\n<title>235&#45;&gt;237</title>\n<path fill=\"none\" stroke=\"#000000\" d=\"M4745.4133,-501.7885C4892.0516,-488.0714 5224.2116,-456.9997 5366.2372,-443.7141\"/>\n<polygon fill=\"#000000\" stroke=\"#000000\" points=\"5366.9061,-447.1669 5376.5367,-442.7506 5366.2541,-440.1973 5366.9061,-447.1669\"/>\n</g>\n<!-- 239 -->\n<g id=\"node240\" class=\"node\">\n<title>239</title>\n<polygon fill=\"#eb9f68\" stroke=\"#000000\" points=\"3220.1667,-408.5 3077.1667,-408.5 3077.1667,-340.5 3220.1667,-340.5 3220.1667,-408.5\"/>\n<text text-anchor=\"start\" x=\"3085.1667\" y=\"-393.3\" font-family=\"Times,serif\" font-size=\"14.00\" fill=\"#000000\">meandeltasgv ≤ 1.375</text>\n<text text-anchor=\"start\" x=\"3104.6667\" y=\"-378.3\" font-family=\"Times,serif\" font-size=\"14.00\" fill=\"#000000\">mse = 296.283</text>\n<text text-anchor=\"start\" x=\"3106.6667\" y=\"-363.3\" font-family=\"Times,serif\" font-size=\"14.00\" fill=\"#000000\">samples = 213</text>\n<text text-anchor=\"start\" x=\"3100.6667\" y=\"-348.3\" font-family=\"Times,serif\" font-size=\"14.00\" fill=\"#000000\">value = 107.078</text>\n</g>\n<!-- 238&#45;&gt;239 -->\n<g id=\"edge239\" class=\"edge\">\n<title>238&#45;&gt;239</title>\n<path fill=\"none\" stroke=\"#000000\" d=\"M2485.754,-374.5C2613.556,-374.5 2919.4327,-374.5 3066.6967,-374.5\"/>\n<polygon fill=\"#000000\" stroke=\"#000000\" points=\"3067.021,-378.0001 3077.021,-374.5 3067.021,-371.0001 3067.021,-378.0001\"/>\n</g>\n<!-- 254 -->\n<g id=\"node255\" class=\"node\">\n<title>254</title>\n<polygon fill=\"#e88f4f\" stroke=\"#000000\" points=\"3206.6667,-250.5 3090.6667,-250.5 3090.6667,-182.5 3206.6667,-182.5 3206.6667,-250.5\"/>\n<text text-anchor=\"start\" x=\"3098.6667\" y=\"-235.3\" font-family=\"Times,serif\" font-size=\"14.00\" fill=\"#000000\">insulin&#45;2 ≤ 137.5</text>\n<text text-anchor=\"start\" x=\"3104.6667\" y=\"-220.3\" font-family=\"Times,serif\" font-size=\"14.00\" fill=\"#000000\">mse = 352.737</text>\n<text text-anchor=\"start\" x=\"3106.6667\" y=\"-205.3\" font-family=\"Times,serif\" font-size=\"14.00\" fill=\"#000000\">samples = 167</text>\n<text text-anchor=\"start\" x=\"3100.6667\" y=\"-190.3\" font-family=\"Times,serif\" font-size=\"14.00\" fill=\"#000000\">value = 125.095</text>\n</g>\n<!-- 238&#45;&gt;254 -->\n<g id=\"edge254\" class=\"edge\">\n<title>238&#45;&gt;254</title>\n<path fill=\"none\" stroke=\"#000000\" d=\"M2485.754,-361.7707C2617.7235,-332.8509 2939.5705,-262.3213 3080.5854,-231.4193\"/>\n<polygon fill=\"#000000\" stroke=\"#000000\" points=\"3081.4018,-234.8236 3090.4208,-229.264 3079.9034,-227.9858 3081.4018,-234.8236\"/>\n</g>\n<!-- 240 -->\n<g id=\"node241\" class=\"node\">\n<title>240</title>\n<polygon fill=\"#eca470\" stroke=\"#000000\" points=\"3966.6667,-440 3862.6667,-440 3862.6667,-387 3966.6667,-387 3966.6667,-440\"/>\n<text text-anchor=\"start\" x=\"3870.6667\" y=\"-424.8\" font-family=\"Times,serif\" font-size=\"14.00\" fill=\"#000000\">mse = 150.952</text>\n<text text-anchor=\"start\" x=\"3876.6667\" y=\"-409.8\" font-family=\"Times,serif\" font-size=\"14.00\" fill=\"#000000\">samples = 28</text>\n<text text-anchor=\"start\" x=\"3870.6667\" y=\"-394.8\" font-family=\"Times,serif\" font-size=\"14.00\" fill=\"#000000\">value = 101.22</text>\n</g>\n<!-- 239&#45;&gt;240 -->\n<g id=\"edge240\" class=\"edge\">\n<title>239&#45;&gt;240</title>\n<path fill=\"none\" stroke=\"#000000\" d=\"M3220.3858,-378.1515C3369.6943,-385.7534 3711.7014,-403.1663 3852.4271,-410.3311\"/>\n<polygon fill=\"#000000\" stroke=\"#000000\" points=\"3852.4427,-413.8364 3862.6077,-410.8495 3852.7987,-406.8454 3852.4427,-413.8364\"/>\n</g>\n<!-- 241 -->\n<g id=\"node242\" class=\"node\">\n<title>241</title>\n<polygon fill=\"#eb9e67\" stroke=\"#000000\" points=\"3972.6667,-368.5 3856.6667,-368.5 3856.6667,-300.5 3972.6667,-300.5 3972.6667,-368.5\"/>\n<text text-anchor=\"start\" x=\"3864.6667\" y=\"-353.3\" font-family=\"Times,serif\" font-size=\"14.00\" fill=\"#000000\">insulin&#45;5 ≤ 112.5</text>\n<text text-anchor=\"start\" x=\"3871.1667\" y=\"-338.3\" font-family=\"Times,serif\" font-size=\"14.00\" fill=\"#000000\">mse = 311.242</text>\n<text text-anchor=\"start\" x=\"3872.6667\" y=\"-323.3\" font-family=\"Times,serif\" font-size=\"14.00\" fill=\"#000000\">samples = 185</text>\n<text text-anchor=\"start\" x=\"3866.6667\" y=\"-308.3\" font-family=\"Times,serif\" font-size=\"14.00\" fill=\"#000000\">value = 107.904</text>\n</g>\n<!-- 239&#45;&gt;241 -->\n<g id=\"edge241\" class=\"edge\">\n<title>239&#45;&gt;241</title>\n<path fill=\"none\" stroke=\"#000000\" d=\"M3220.3858,-370.7549C3367.6646,-363.0641 3702.4382,-345.5824 3846.5772,-338.0556\"/>\n<polygon fill=\"#000000\" stroke=\"#000000\" points=\"3846.8168,-341.5479 3856.6206,-337.5311 3846.4517,-334.5575 3846.8168,-341.5479\"/>\n</g>\n<!-- 242 -->\n<g id=\"node243\" class=\"node\">\n<title>242</title>\n<polygon fill=\"#eba06a\" stroke=\"#000000\" points=\"4758.1667,-400.5 4589.1667,-400.5 4589.1667,-332.5 4758.1667,-332.5 4758.1667,-400.5\"/>\n<text text-anchor=\"start\" x=\"4597.1667\" y=\"-385.3\" font-family=\"Times,serif\" font-size=\"14.00\" fill=\"#000000\">prevmeandeltasgv ≤ 1.875</text>\n<text text-anchor=\"start\" x=\"4629.6667\" y=\"-370.3\" font-family=\"Times,serif\" font-size=\"14.00\" fill=\"#000000\">mse = 295.425</text>\n<text text-anchor=\"start\" x=\"4631.6667\" y=\"-355.3\" font-family=\"Times,serif\" font-size=\"14.00\" fill=\"#000000\">samples = 154</text>\n<text text-anchor=\"start\" x=\"4629.6667\" y=\"-340.3\" font-family=\"Times,serif\" font-size=\"14.00\" fill=\"#000000\">value = 105.38</text>\n</g>\n<!-- 241&#45;&gt;242 -->\n<g id=\"edge242\" class=\"edge\">\n<title>241&#45;&gt;242</title>\n<path fill=\"none\" stroke=\"#000000\" d=\"M3972.9638,-336.9579C4103.3121,-342.4534 4419.3633,-355.7784 4578.6122,-362.4924\"/>\n<polygon fill=\"#000000\" stroke=\"#000000\" points=\"4578.7327,-366.0005 4588.8713,-362.925 4579.0276,-359.0067 4578.7327,-366.0005\"/>\n</g>\n<!-- 253 -->\n<g id=\"node254\" class=\"node\">\n<title>253</title>\n<polygon fill=\"#e99457\" stroke=\"#000000\" points=\"4729.1667,-314 4618.1667,-314 4618.1667,-261 4729.1667,-261 4729.1667,-314\"/>\n<text text-anchor=\"start\" x=\"4629.6667\" y=\"-298.8\" font-family=\"Times,serif\" font-size=\"14.00\" fill=\"#000000\">mse = 229.981</text>\n<text text-anchor=\"start\" x=\"4635.6667\" y=\"-283.8\" font-family=\"Times,serif\" font-size=\"14.00\" fill=\"#000000\">samples = 31</text>\n<text text-anchor=\"start\" x=\"4626.1667\" y=\"-268.8\" font-family=\"Times,serif\" font-size=\"14.00\" fill=\"#000000\">value = 118.981</text>\n</g>\n<!-- 241&#45;&gt;253 -->\n<g id=\"edge253\" class=\"edge\">\n<title>241&#45;&gt;253</title>\n<path fill=\"none\" stroke=\"#000000\" d=\"M3972.9638,-330.89C4111.8657,-322.2887 4461.6423,-300.6293 4607.8401,-291.5762\"/>\n<polygon fill=\"#000000\" stroke=\"#000000\" points=\"4608.2443,-295.058 4618.0088,-290.9465 4607.8116,-288.0714 4608.2443,-295.058\"/>\n</g>\n<!-- 243 -->\n<g id=\"node244\" class=\"node\">\n<title>243</title>\n<polygon fill=\"#ea9b62\" stroke=\"#000000\" points=\"5487.6667,-393 5377.6667,-393 5377.6667,-340 5487.6667,-340 5487.6667,-393\"/>\n<text text-anchor=\"start\" x=\"5388.6667\" y=\"-377.8\" font-family=\"Times,serif\" font-size=\"14.00\" fill=\"#000000\">mse = 333.673</text>\n<text text-anchor=\"start\" x=\"5394.6667\" y=\"-362.8\" font-family=\"Times,serif\" font-size=\"14.00\" fill=\"#000000\">samples = 26</text>\n<text text-anchor=\"start\" x=\"5385.6667\" y=\"-347.8\" font-family=\"Times,serif\" font-size=\"14.00\" fill=\"#000000\">value = 111.429</text>\n</g>\n<!-- 242&#45;&gt;243 -->\n<g id=\"edge243\" class=\"edge\">\n<title>242&#45;&gt;243</title>\n<path fill=\"none\" stroke=\"#000000\" d=\"M4758.5243,-366.5C4911.4022,-366.5 5229.9287,-366.5 5367.2959,-366.5\"/>\n<polygon fill=\"#000000\" stroke=\"#000000\" points=\"5367.6571,-370.0001 5377.6571,-366.5 5367.657,-363.0001 5367.6571,-370.0001\"/>\n</g>\n<!-- 244 -->\n<g id=\"node245\" class=\"node\">\n<title>244</title>\n<polygon fill=\"#eca16c\" stroke=\"#000000\" points=\"5517.1667,-321.5 5348.1667,-321.5 5348.1667,-253.5 5517.1667,-253.5 5517.1667,-321.5\"/>\n<text text-anchor=\"start\" x=\"5356.1667\" y=\"-306.3\" font-family=\"Times,serif\" font-size=\"14.00\" fill=\"#000000\">prevmeandeltasgv ≤ 4.125</text>\n<text text-anchor=\"start\" x=\"5392.6667\" y=\"-291.3\" font-family=\"Times,serif\" font-size=\"14.00\" fill=\"#000000\">mse = 281.36</text>\n<text text-anchor=\"start\" x=\"5390.6667\" y=\"-276.3\" font-family=\"Times,serif\" font-size=\"14.00\" fill=\"#000000\">samples = 128</text>\n<text text-anchor=\"start\" x=\"5384.6667\" y=\"-261.3\" font-family=\"Times,serif\" font-size=\"14.00\" fill=\"#000000\">value = 104.332</text>\n</g>\n<!-- 242&#45;&gt;244 -->\n<g id=\"edge244\" class=\"edge\">\n<title>242&#45;&gt;244</title>\n<path fill=\"none\" stroke=\"#000000\" d=\"M4758.5243,-357.6677C4901.3683,-342.7998 5188.8301,-312.8796 5338.005,-297.3528\"/>\n<polygon fill=\"#000000\" stroke=\"#000000\" points=\"5338.4815,-300.8222 5348.0654,-296.3057 5337.7567,-293.8598 5338.4815,-300.8222\"/>\n</g>\n<!-- 245 -->\n<g id=\"node246\" class=\"node\">\n<title>245</title>\n<polygon fill=\"#eca46f\" stroke=\"#000000\" points=\"6264.1667,-386.5 6121.1667,-386.5 6121.1667,-318.5 6264.1667,-318.5 6264.1667,-386.5\"/>\n<text text-anchor=\"start\" x=\"6129.1667\" y=\"-371.3\" font-family=\"Times,serif\" font-size=\"14.00\" fill=\"#000000\">meandeltasgv ≤ 3.125</text>\n<text text-anchor=\"start\" x=\"6148.6667\" y=\"-356.3\" font-family=\"Times,serif\" font-size=\"14.00\" fill=\"#000000\">mse = 231.674</text>\n<text text-anchor=\"start\" x=\"6154.6667\" y=\"-341.3\" font-family=\"Times,serif\" font-size=\"14.00\" fill=\"#000000\">samples = 56</text>\n<text text-anchor=\"start\" x=\"6144.6667\" y=\"-326.3\" font-family=\"Times,serif\" font-size=\"14.00\" fill=\"#000000\">value = 101.882</text>\n</g>\n<!-- 244&#45;&gt;245 -->\n<g id=\"edge245\" class=\"edge\">\n<title>244&#45;&gt;245</title>\n<path fill=\"none\" stroke=\"#000000\" d=\"M5517.2696,-294.7358C5664.4389,-307.3226 5965.7047,-333.0888 6110.8811,-345.5052\"/>\n<polygon fill=\"#000000\" stroke=\"#000000\" points=\"6110.7979,-349.0108 6121.0598,-346.3757 6111.3945,-342.0362 6110.7979,-349.0108\"/>\n</g>\n<!-- 248 -->\n<g id=\"node249\" class=\"node\">\n<title>248</title>\n<polygon fill=\"#eba069\" stroke=\"#000000\" points=\"6250.6667,-300.5 6134.6667,-300.5 6134.6667,-232.5 6250.6667,-232.5 6250.6667,-300.5\"/>\n<text text-anchor=\"start\" x=\"6142.6667\" y=\"-285.3\" font-family=\"Times,serif\" font-size=\"14.00\" fill=\"#000000\">insulin&#45;1 ≤ 112.5</text>\n<text text-anchor=\"start\" x=\"6148.6667\" y=\"-270.3\" font-family=\"Times,serif\" font-size=\"14.00\" fill=\"#000000\">mse = 314.262</text>\n<text text-anchor=\"start\" x=\"6154.6667\" y=\"-255.3\" font-family=\"Times,serif\" font-size=\"14.00\" fill=\"#000000\">samples = 72</text>\n<text text-anchor=\"start\" x=\"6144.6667\" y=\"-240.3\" font-family=\"Times,serif\" font-size=\"14.00\" fill=\"#000000\">value = 106.422</text>\n</g>\n<!-- 244&#45;&gt;248 -->\n<g id=\"edge248\" class=\"edge\">\n<title>244&#45;&gt;248</title>\n<path fill=\"none\" stroke=\"#000000\" d=\"M5517.2696,-285.1623C5669.1988,-280.9642 5985.3534,-272.2284 6124.467,-268.3845\"/>\n<polygon fill=\"#000000\" stroke=\"#000000\" points=\"6124.6735,-271.8802 6134.573,-268.1052 6124.4801,-264.8829 6124.6735,-271.8802\"/>\n</g>\n<!-- 246 -->\n<g id=\"node247\" class=\"node\">\n<title>246</title>\n<polygon fill=\"#eda775\" stroke=\"#000000\" points=\"6995.6667,-448 6891.6667,-448 6891.6667,-395 6995.6667,-395 6995.6667,-448\"/>\n<text text-anchor=\"start\" x=\"6899.6667\" y=\"-432.8\" font-family=\"Times,serif\" font-size=\"14.00\" fill=\"#000000\">mse = 160.502</text>\n<text text-anchor=\"start\" x=\"6905.6667\" y=\"-417.8\" font-family=\"Times,serif\" font-size=\"14.00\" fill=\"#000000\">samples = 24</text>\n<text text-anchor=\"start\" x=\"6899.6667\" y=\"-402.8\" font-family=\"Times,serif\" font-size=\"14.00\" fill=\"#000000\">value = 98.214</text>\n</g>\n<!-- 245&#45;&gt;246 -->\n<g id=\"edge246\" class=\"edge\">\n<title>245&#45;&gt;246</title>\n<path fill=\"none\" stroke=\"#000000\" d=\"M6264.3355,-359.0848C6410.9852,-372.5586 6743.111,-403.0734 6881.41,-415.78\"/>\n<polygon fill=\"#000000\" stroke=\"#000000\" points=\"6881.1444,-419.2703 6891.4227,-416.7 6881.7849,-412.2996 6881.1444,-419.2703\"/>\n</g>\n<!-- 247 -->\n<g id=\"node248\" class=\"node\">\n<title>247</title>\n<polygon fill=\"#eca16b\" stroke=\"#000000\" points=\"6999.6667,-377 6887.6667,-377 6887.6667,-324 6999.6667,-324 6999.6667,-377\"/>\n<text text-anchor=\"start\" x=\"6899.6667\" y=\"-361.8\" font-family=\"Times,serif\" font-size=\"14.00\" fill=\"#000000\">mse = 270.088</text>\n<text text-anchor=\"start\" x=\"6905.6667\" y=\"-346.8\" font-family=\"Times,serif\" font-size=\"14.00\" fill=\"#000000\">samples = 32</text>\n<text text-anchor=\"start\" x=\"6895.6667\" y=\"-331.8\" font-family=\"Times,serif\" font-size=\"14.00\" fill=\"#000000\">value = 104.902</text>\n</g>\n<!-- 245&#45;&gt;247 -->\n<g id=\"edge247\" class=\"edge\">\n<title>245&#45;&gt;247</title>\n<path fill=\"none\" stroke=\"#000000\" d=\"M6264.3355,-352.3091C6409.5545,-351.9224 6736.6481,-351.0513 6877.3072,-350.6767\"/>\n<polygon fill=\"#000000\" stroke=\"#000000\" points=\"6877.5205,-354.1763 6887.5112,-350.6495 6877.5018,-347.1763 6877.5205,-354.1763\"/>\n</g>\n<!-- 249 -->\n<g id=\"node250\" class=\"node\">\n<title>249</title>\n<polygon fill=\"#eb9c64\" stroke=\"#000000\" points=\"7028.1667,-302.5 6859.1667,-302.5 6859.1667,-234.5 7028.1667,-234.5 7028.1667,-302.5\"/>\n<text text-anchor=\"start\" x=\"6867.1667\" y=\"-287.3\" font-family=\"Times,serif\" font-size=\"14.00\" fill=\"#000000\">prevmeandeltasgv ≤ 5.625</text>\n<text text-anchor=\"start\" x=\"6899.6667\" y=\"-272.3\" font-family=\"Times,serif\" font-size=\"14.00\" fill=\"#000000\">mse = 281.795</text>\n<text text-anchor=\"start\" x=\"6905.6667\" y=\"-257.3\" font-family=\"Times,serif\" font-size=\"14.00\" fill=\"#000000\">samples = 41</text>\n<text text-anchor=\"start\" x=\"6895.6667\" y=\"-242.3\" font-family=\"Times,serif\" font-size=\"14.00\" fill=\"#000000\">value = 109.848</text>\n</g>\n<!-- 248&#45;&gt;249 -->\n<g id=\"edge249\" class=\"edge\">\n<title>248&#45;&gt;249</title>\n<path fill=\"none\" stroke=\"#000000\" d=\"M6250.9715,-266.6553C6380.1291,-266.9992 6691.3442,-267.828 6848.8924,-268.2476\"/>\n<polygon fill=\"#000000\" stroke=\"#000000\" points=\"6849.0347,-271.7479 6859.044,-268.2746 6849.0534,-264.7479 6849.0347,-271.7479\"/>\n</g>\n<!-- 252 -->\n<g id=\"node253\" class=\"node\">\n<title>252</title>\n<polygon fill=\"#eca470\" stroke=\"#000000\" points=\"6999.6667,-216 6887.6667,-216 6887.6667,-163 6999.6667,-163 6999.6667,-216\"/>\n<text text-anchor=\"start\" x=\"6899.6667\" y=\"-200.8\" font-family=\"Times,serif\" font-size=\"14.00\" fill=\"#000000\">mse = 318.415</text>\n<text text-anchor=\"start\" x=\"6905.6667\" y=\"-185.8\" font-family=\"Times,serif\" font-size=\"14.00\" fill=\"#000000\">samples = 31</text>\n<text text-anchor=\"start\" x=\"6895.6667\" y=\"-170.8\" font-family=\"Times,serif\" font-size=\"14.00\" fill=\"#000000\">value = 101.163</text>\n</g>\n<!-- 248&#45;&gt;252 -->\n<g id=\"edge252\" class=\"edge\">\n<title>248&#45;&gt;252</title>\n<path fill=\"none\" stroke=\"#000000\" d=\"M6250.9715,-260.522C6388.4534,-246.426 6732.2165,-211.18 6877.3499,-196.2995\"/>\n<polygon fill=\"#000000\" stroke=\"#000000\" points=\"6877.8598,-199.7656 6887.4506,-195.2638 6877.1458,-192.8021 6877.8598,-199.7656\"/>\n</g>\n<!-- 250 -->\n<g id=\"node251\" class=\"node\">\n<title>250</title>\n<polygon fill=\"#ea9b61\" stroke=\"#000000\" points=\"7646.6667,-331 7536.6667,-331 7536.6667,-278 7646.6667,-278 7646.6667,-331\"/>\n<text text-anchor=\"start\" x=\"7547.6667\" y=\"-315.8\" font-family=\"Times,serif\" font-size=\"14.00\" fill=\"#000000\">mse = 155.709</text>\n<text text-anchor=\"start\" x=\"7553.6667\" y=\"-300.8\" font-family=\"Times,serif\" font-size=\"14.00\" fill=\"#000000\">samples = 20</text>\n<text text-anchor=\"start\" x=\"7544.6667\" y=\"-285.8\" font-family=\"Times,serif\" font-size=\"14.00\" fill=\"#000000\">value = 111.765</text>\n</g>\n<!-- 249&#45;&gt;250 -->\n<g id=\"edge250\" class=\"edge\">\n<title>249&#45;&gt;250</title>\n<path fill=\"none\" stroke=\"#000000\" d=\"M7028.3814,-273.2064C7159.2551,-280.4771 7407.8167,-294.2861 7526.034,-300.8537\"/>\n<polygon fill=\"#000000\" stroke=\"#000000\" points=\"7526.196,-304.3681 7536.3748,-301.4282 7526.5844,-297.3788 7526.196,-304.3681\"/>\n</g>\n<!-- 251 -->\n<g id=\"node252\" class=\"node\">\n<title>251</title>\n<polygon fill=\"#eb9e67\" stroke=\"#000000\" points=\"7647.6667,-260 7535.6667,-260 7535.6667,-207 7647.6667,-207 7647.6667,-260\"/>\n<text text-anchor=\"start\" x=\"7547.6667\" y=\"-244.8\" font-family=\"Times,serif\" font-size=\"14.00\" fill=\"#000000\">mse = 407.715</text>\n<text text-anchor=\"start\" x=\"7553.6667\" y=\"-229.8\" font-family=\"Times,serif\" font-size=\"14.00\" fill=\"#000000\">samples = 21</text>\n<text text-anchor=\"start\" x=\"7543.6667\" y=\"-214.8\" font-family=\"Times,serif\" font-size=\"14.00\" fill=\"#000000\">value = 107.812</text>\n</g>\n<!-- 249&#45;&gt;251 -->\n<g id=\"edge251\" class=\"edge\">\n<title>249&#45;&gt;251</title>\n<path fill=\"none\" stroke=\"#000000\" d=\"M7028.3814,-263.9244C7159.0534,-256.8665 7407.0508,-243.4715 7525.4866,-237.0745\"/>\n<polygon fill=\"#000000\" stroke=\"#000000\" points=\"7525.7093,-240.5677 7535.506,-236.5334 7525.3317,-233.5779 7525.7093,-240.5677\"/>\n</g>\n<!-- 255 -->\n<g id=\"node256\" class=\"node\">\n<title>255</title>\n<polygon fill=\"#e99254\" stroke=\"#000000\" points=\"3999.1667,-250.5 3830.1667,-250.5 3830.1667,-182.5 3999.1667,-182.5 3999.1667,-250.5\"/>\n<text text-anchor=\"start\" x=\"3838.1667\" y=\"-235.3\" font-family=\"Times,serif\" font-size=\"14.00\" fill=\"#000000\">prevmeandeltasgv ≤ 2.625</text>\n<text text-anchor=\"start\" x=\"3870.6667\" y=\"-220.3\" font-family=\"Times,serif\" font-size=\"14.00\" fill=\"#000000\">mse = 268.509</text>\n<text text-anchor=\"start\" x=\"3872.6667\" y=\"-205.3\" font-family=\"Times,serif\" font-size=\"14.00\" fill=\"#000000\">samples = 136</text>\n<text text-anchor=\"start\" x=\"3866.6667\" y=\"-190.3\" font-family=\"Times,serif\" font-size=\"14.00\" fill=\"#000000\">value = 121.053</text>\n</g>\n<!-- 254&#45;&gt;255 -->\n<g id=\"edge255\" class=\"edge\">\n<title>254&#45;&gt;255</title>\n<path fill=\"none\" stroke=\"#000000\" d=\"M3206.8699,-216.5C3338.3138,-216.5 3659.1537,-216.5 3819.785,-216.5\"/>\n<polygon fill=\"#000000\" stroke=\"#000000\" points=\"3820.1302,-220.0001 3830.1301,-216.5 3820.1301,-213.0001 3820.1302,-220.0001\"/>\n</g>\n<!-- 264 -->\n<g id=\"node265\" class=\"node\">\n<title>264</title>\n<polygon fill=\"#e58139\" stroke=\"#000000\" points=\"3970.6667,-164 3858.6667,-164 3858.6667,-111 3970.6667,-111 3970.6667,-164\"/>\n<text text-anchor=\"start\" x=\"3870.6667\" y=\"-148.8\" font-family=\"Times,serif\" font-size=\"14.00\" fill=\"#000000\">mse = 374.793</text>\n<text text-anchor=\"start\" x=\"3876.6667\" y=\"-133.8\" font-family=\"Times,serif\" font-size=\"14.00\" fill=\"#000000\">samples = 31</text>\n<text text-anchor=\"start\" x=\"3866.6667\" y=\"-118.8\" font-family=\"Times,serif\" font-size=\"14.00\" fill=\"#000000\">value = 140.455</text>\n</g>\n<!-- 254&#45;&gt;264 -->\n<g id=\"edge264\" class=\"edge\">\n<title>254&#45;&gt;264</title>\n<path fill=\"none\" stroke=\"#000000\" d=\"M3206.8699,-210.4973C3346.6605,-196.0803 3700.664,-159.5708 3848.3578,-144.3386\"/>\n<polygon fill=\"#000000\" stroke=\"#000000\" points=\"3849.0413,-147.7868 3858.6294,-143.2793 3848.3231,-140.8237 3849.0413,-147.7868\"/>\n</g>\n<!-- 256 -->\n<g id=\"node257\" class=\"node\">\n<title>256</title>\n<polygon fill=\"#e88e4e\" stroke=\"#000000\" points=\"4729.6667,-243 4617.6667,-243 4617.6667,-190 4729.6667,-190 4729.6667,-243\"/>\n<text text-anchor=\"start\" x=\"4629.6667\" y=\"-227.8\" font-family=\"Times,serif\" font-size=\"14.00\" fill=\"#000000\">mse = 290.762</text>\n<text text-anchor=\"start\" x=\"4635.6667\" y=\"-212.8\" font-family=\"Times,serif\" font-size=\"14.00\" fill=\"#000000\">samples = 36</text>\n<text text-anchor=\"start\" x=\"4625.6667\" y=\"-197.8\" font-family=\"Times,serif\" font-size=\"14.00\" fill=\"#000000\">value = 125.431</text>\n</g>\n<!-- 255&#45;&gt;256 -->\n<g id=\"edge256\" class=\"edge\">\n<title>255&#45;&gt;256</title>\n<path fill=\"none\" stroke=\"#000000\" d=\"M3999.5243,-216.5C4151.9893,-216.5 4469.2093,-216.5 4607.179,-216.5\"/>\n<polygon fill=\"#000000\" stroke=\"#000000\" points=\"4607.1949,-220.0001 4617.1949,-216.5 4607.1949,-213.0001 4607.1949,-220.0001\"/>\n</g>\n<!-- 257 -->\n<g id=\"node258\" class=\"node\">\n<title>257</title>\n<polygon fill=\"#e99457\" stroke=\"#000000\" points=\"4729.1667,-171.5 4618.1667,-171.5 4618.1667,-103.5 4729.1667,-103.5 4729.1667,-171.5\"/>\n<text text-anchor=\"start\" x=\"4638.6667\" y=\"-156.3\" font-family=\"Times,serif\" font-size=\"14.00\" fill=\"#000000\">sgv ≤ 151.5</text>\n<text text-anchor=\"start\" x=\"4633.6667\" y=\"-141.3\" font-family=\"Times,serif\" font-size=\"14.00\" fill=\"#000000\">mse = 249.77</text>\n<text text-anchor=\"start\" x=\"4631.6667\" y=\"-126.3\" font-family=\"Times,serif\" font-size=\"14.00\" fill=\"#000000\">samples = 100</text>\n<text text-anchor=\"start\" x=\"4626.1667\" y=\"-111.3\" font-family=\"Times,serif\" font-size=\"14.00\" fill=\"#000000\">value = 119.371</text>\n</g>\n<!-- 255&#45;&gt;257 -->\n<g id=\"edge257\" class=\"edge\">\n<title>255&#45;&gt;257</title>\n<path fill=\"none\" stroke=\"#000000\" d=\"M3999.5243,-207.6677C4152.178,-191.7788 4469.9948,-158.6991 4607.6904,-144.3671\"/>\n<polygon fill=\"#000000\" stroke=\"#000000\" points=\"4608.1002,-147.8434 4617.6841,-143.3269 4607.3755,-140.8811 4608.1002,-147.8434\"/>\n</g>\n<!-- 258 -->\n<g id=\"node259\" class=\"node\">\n<title>258</title>\n<polygon fill=\"#e89051\" stroke=\"#000000\" points=\"5488.6667,-186 5376.6667,-186 5376.6667,-133 5488.6667,-133 5488.6667,-186\"/>\n<text text-anchor=\"start\" x=\"5388.6667\" y=\"-170.8\" font-family=\"Times,serif\" font-size=\"14.00\" fill=\"#000000\">mse = 367.555</text>\n<text text-anchor=\"start\" x=\"5394.6667\" y=\"-155.8\" font-family=\"Times,serif\" font-size=\"14.00\" fill=\"#000000\">samples = 32</text>\n<text text-anchor=\"start\" x=\"5384.6667\" y=\"-140.8\" font-family=\"Times,serif\" font-size=\"14.00\" fill=\"#000000\">value = 123.469</text>\n</g>\n<!-- 257&#45;&gt;258 -->\n<g id=\"edge258\" class=\"edge\">\n<title>257&#45;&gt;258</title>\n<path fill=\"none\" stroke=\"#000000\" d=\"M4729.1702,-139.1088C4865.9163,-143.0725 5218.6131,-153.2955 5366.1897,-157.5731\"/>\n<polygon fill=\"#000000\" stroke=\"#000000\" points=\"5366.3577,-161.0794 5376.4549,-157.8707 5366.5606,-154.0823 5366.3577,-161.0794\"/>\n</g>\n<!-- 259 -->\n<g id=\"node260\" class=\"node\">\n<title>259</title>\n<polygon fill=\"#e99659\" stroke=\"#000000\" points=\"5488.1667,-114.5 5377.1667,-114.5 5377.1667,-46.5 5488.1667,-46.5 5488.1667,-114.5\"/>\n<text text-anchor=\"start\" x=\"5391.6667\" y=\"-99.3\" font-family=\"Times,serif\" font-size=\"14.00\" fill=\"#000000\">sgv&#45;4 ≤ 142.5</text>\n<text text-anchor=\"start\" x=\"5392.6667\" y=\"-84.3\" font-family=\"Times,serif\" font-size=\"14.00\" fill=\"#000000\">mse = 181.24</text>\n<text text-anchor=\"start\" x=\"5394.6667\" y=\"-69.3\" font-family=\"Times,serif\" font-size=\"14.00\" fill=\"#000000\">samples = 68</text>\n<text text-anchor=\"start\" x=\"5385.1667\" y=\"-54.3\" font-family=\"Times,serif\" font-size=\"14.00\" fill=\"#000000\">value = 117.402</text>\n</g>\n<!-- 257&#45;&gt;259 -->\n<g id=\"edge259\" class=\"edge\">\n<title>257&#45;&gt;259</title>\n<path fill=\"none\" stroke=\"#000000\" d=\"M4729.1702,-133.3317C4866.0832,-123.0498 5219.4742,-96.5105 5366.729,-85.4518\"/>\n<polygon fill=\"#000000\" stroke=\"#000000\" points=\"5367.2596,-88.9219 5376.9693,-84.6828 5366.7353,-81.9416 5367.2596,-88.9219\"/>\n</g>\n<!-- 260 -->\n<g id=\"node261\" class=\"node\">\n<title>260</title>\n<polygon fill=\"#eb9c64\" stroke=\"#000000\" points=\"6244.6667,-186 6140.6667,-186 6140.6667,-133 6244.6667,-133 6244.6667,-186\"/>\n<text text-anchor=\"start\" x=\"6148.6667\" y=\"-170.8\" font-family=\"Times,serif\" font-size=\"14.00\" fill=\"#000000\">mse = 191.667</text>\n<text text-anchor=\"start\" x=\"6154.6667\" y=\"-155.8\" font-family=\"Times,serif\" font-size=\"14.00\" fill=\"#000000\">samples = 20</text>\n<text text-anchor=\"start\" x=\"6152.6667\" y=\"-140.8\" font-family=\"Times,serif\" font-size=\"14.00\" fill=\"#000000\">value = 110.0</text>\n</g>\n<!-- 259&#45;&gt;260 -->\n<g id=\"edge260\" class=\"edge\">\n<title>259&#45;&gt;260</title>\n<path fill=\"none\" stroke=\"#000000\" d=\"M5488.2434,-86.2771C5626.5063,-100.6491 5985.2468,-137.9393 6130.3706,-153.0245\"/>\n<polygon fill=\"#000000\" stroke=\"#000000\" points=\"6130.1361,-156.5189 6140.4444,-154.0716 6130.8599,-149.5564 6130.1361,-156.5189\"/>\n</g>\n<!-- 261 -->\n<g id=\"node262\" class=\"node\">\n<title>261</title>\n<polygon fill=\"#e99355\" stroke=\"#000000\" points=\"6250.6667,-114.5 6134.6667,-114.5 6134.6667,-46.5 6250.6667,-46.5 6250.6667,-114.5\"/>\n<text text-anchor=\"start\" x=\"6142.6667\" y=\"-99.3\" font-family=\"Times,serif\" font-size=\"14.00\" fill=\"#000000\">insulin&#45;5 ≤ 112.5</text>\n<text text-anchor=\"start\" x=\"6148.6667\" y=\"-84.3\" font-family=\"Times,serif\" font-size=\"14.00\" fill=\"#000000\">mse = 144.555</text>\n<text text-anchor=\"start\" x=\"6154.6667\" y=\"-69.3\" font-family=\"Times,serif\" font-size=\"14.00\" fill=\"#000000\">samples = 48</text>\n<text text-anchor=\"start\" x=\"6144.6667\" y=\"-54.3\" font-family=\"Times,serif\" font-size=\"14.00\" fill=\"#000000\">value = 120.486</text>\n</g>\n<!-- 259&#45;&gt;261 -->\n<g id=\"edge261\" class=\"edge\">\n<title>259&#45;&gt;261</title>\n<path fill=\"none\" stroke=\"#000000\" d=\"M5488.2434,-80.5C5624.5848,-80.5 5975.3184,-80.5 6124.1976,-80.5\"/>\n<polygon fill=\"#000000\" stroke=\"#000000\" points=\"6124.5623,-84.0001 6134.5623,-80.5 6124.5623,-77.0001 6124.5623,-84.0001\"/>\n</g>\n<!-- 262 -->\n<g id=\"node263\" class=\"node\">\n<title>262</title>\n<polygon fill=\"#e9975b\" stroke=\"#000000\" points=\"6999.1667,-124 6888.1667,-124 6888.1667,-71 6999.1667,-71 6999.1667,-124\"/>\n<text text-anchor=\"start\" x=\"6899.6667\" y=\"-108.8\" font-family=\"Times,serif\" font-size=\"14.00\" fill=\"#000000\">mse = 176.531</text>\n<text text-anchor=\"start\" x=\"6905.6667\" y=\"-93.8\" font-family=\"Times,serif\" font-size=\"14.00\" fill=\"#000000\">samples = 25</text>\n<text text-anchor=\"start\" x=\"6896.1667\" y=\"-78.8\" font-family=\"Times,serif\" font-size=\"14.00\" fill=\"#000000\">value = 116.429</text>\n</g>\n<!-- 261&#45;&gt;262 -->\n<g id=\"edge262\" class=\"edge\">\n<title>261&#45;&gt;262</title>\n<path fill=\"none\" stroke=\"#000000\" d=\"M6250.9715,-81.8198C6388.6217,-84.9357 6733.0584,-92.7326 6877.8819,-96.0109\"/>\n<polygon fill=\"#000000\" stroke=\"#000000\" points=\"6877.8819,-99.5117 6887.9586,-96.239 6878.0404,-92.5135 6877.8819,-99.5117\"/>\n</g>\n<!-- 263 -->\n<g id=\"node264\" class=\"node\">\n<title>263</title>\n<polygon fill=\"#e88f50\" stroke=\"#000000\" points=\"6999.6667,-53 6887.6667,-53 6887.6667,0 6999.6667,0 6999.6667,-53\"/>\n<text text-anchor=\"start\" x=\"6903.6667\" y=\"-37.8\" font-family=\"Times,serif\" font-size=\"14.00\" fill=\"#000000\">mse = 84.003</text>\n<text text-anchor=\"start\" x=\"6905.6667\" y=\"-22.8\" font-family=\"Times,serif\" font-size=\"14.00\" fill=\"#000000\">samples = 23</text>\n<text text-anchor=\"start\" x=\"6895.6667\" y=\"-7.8\" font-family=\"Times,serif\" font-size=\"14.00\" fill=\"#000000\">value = 124.324</text>\n</g>\n<!-- 261&#45;&gt;263 -->\n<g id=\"edge263\" class=\"edge\">\n<title>261&#45;&gt;263</title>\n<path fill=\"none\" stroke=\"#000000\" d=\"M6250.9715,-76.3076C6388.4534,-66.4221 6732.2165,-41.7041 6877.3499,-31.2685\"/>\n<polygon fill=\"#000000\" stroke=\"#000000\" points=\"6877.7274,-34.7504 6887.4506,-30.5422 6877.2253,-27.7685 6877.7274,-34.7504\"/>\n</g>\n</g>\n</svg>\n"
          },
          "metadata": {
            "tags": []
          }
        }
      ]
    },
    {
      "cell_type": "code",
      "metadata": {
        "id": "ZOb_HQ2Y1Qpo",
        "colab_type": "code",
        "outputId": "1cd22b16-5d17-4717-d542-1d8cc3ef8cde",
        "colab": {
          "base_uri": "https://localhost:8080/",
          "height": 776
        }
      },
      "source": [
        "plt.figure(1, figsize=(20,10), dpi=90)\n",
        "\n",
        "plt.plot(np.linspace(0,1,200),y_valid[:200], label='Insulina Real')\n",
        "plt.plot(np.linspace(0,1,200),model.predict(X_valid)[:200], label='Insulina Predicción')\n",
        "plt.plot(np.linspace(0,1,200),X_valid['sgv'].T.to_numpy()[:200], label='Nivel Glucosa')\n",
        "#plt.legend(loc=2)\n",
        "#plt.title='erwgfergergthtrhrte'\n"
      ],
      "execution_count": 0,
      "outputs": [
        {
          "output_type": "execute_result",
          "data": {
            "text/plain": [
              "[<matplotlib.lines.Line2D at 0x7fa6a2bd00b8>]"
            ]
          },
          "metadata": {
            "tags": []
          },
          "execution_count": 304
        },
        {
          "output_type": "display_data",
          "data": {
            "image/png": "[encoded data removed]",
            "text/plain": [
              "<Figure size 1800x900 with 1 Axes>"
            ]
          },
          "metadata": {
            "tags": []
          }
        }
      ]
    },
    {
      "cell_type": "code",
      "metadata": {
        "id": "O7EQNQJNSKw0",
        "colab_type": "code",
        "colab": {}
      },
      "source": [
        "prediccion = pd.DataFrame(model.predict(X_valid))"
      ],
      "execution_count": 0,
      "outputs": []
    },
    {
      "cell_type": "code",
      "metadata": {
        "id": "0lsC6hvDRpuA",
        "colab_type": "code",
        "colab": {}
      },
      "source": [
        "def cuantificador(val):\n",
        "  cociente = val//25\n",
        "  resto = val % 25\n",
        "  if resto > 12.5:\n",
        "    resultado = 25*(cociente+1)\n",
        "  else:\n",
        "    resultado = 25*cociente\n",
        "  return (resultado)"
      ],
      "execution_count": 0,
      "outputs": []
    },
    {
      "cell_type": "code",
      "metadata": {
        "id": "AD3bpa3KVjSf",
        "colab_type": "code",
        "colab": {}
      },
      "source": [
        "prediccion['cuantif']=prediccion[0].apply(lambda x: cuantificador(x))"
      ],
      "execution_count": 0,
      "outputs": []
    },
    {
      "cell_type": "code",
      "metadata": {
        "id": "NSHgzA75VyAF",
        "colab_type": "code",
        "outputId": "6f94110d-1355-40f7-84a5-974d2e8fb89b",
        "colab": {
          "base_uri": "https://localhost:8080/",
          "height": 756
        }
      },
      "source": [
        "plt.figure(1, figsize=(20,10), dpi=90)\n",
        "\n",
        "plt.plot(np.linspace(0,200,200),y_valid[:200], label='Insulina Real')\n",
        "plt.plot(np.linspace(0,200,200),model.predict(X_valid)[:200], label='Insulina Predicción')\n",
        "plt.plot(np.linspace(0,200,200),prediccion.cuantif[:200], 'o', label='Insulina Prediccion Cuantificada')\n",
        "plt.plot(np.linspace(0,200,200),X_valid['sgv'].T.to_numpy()[:200], label='Nivel Glucosa')\n",
        "#plt.legend(loc=2)\n",
        "#plt.title='erwgfergergthtrhrte'"
      ],
      "execution_count": 0,
      "outputs": [
        {
          "output_type": "execute_result",
          "data": {
            "text/plain": [
              "[<matplotlib.lines.Line2D at 0x7fa6a2af2da0>]"
            ]
          },
          "metadata": {
            "tags": []
          },
          "execution_count": 318
        },
        {
          "output_type": "display_data",
          "data": {
            "image/png": "[encoded data removed]",
            "text/plain": [
              "<Figure size 1800x900 with 1 Axes>"
            ]
          },
          "metadata": {
            "tags": []
          }
        }
      ]
    },
    {
      "cell_type": "code",
      "metadata": {
        "id": "QzzpKy45dVkB",
        "colab_type": "code",
        "outputId": "218f4cbe-8fd8-431d-b4d4-1fc86e5a7972",
        "colab": {
          "base_uri": "https://localhost:8080/",
          "height": 34
        }
      },
      "source": [
        "prediccion['cuantif'][:200].sum()/1000"
      ],
      "execution_count": 0,
      "outputs": [
        {
          "output_type": "execute_result",
          "data": {
            "text/plain": [
              "14.9"
            ]
          },
          "metadata": {
            "tags": []
          },
          "execution_count": 319
        }
      ]
    },
    {
      "cell_type": "code",
      "metadata": {
        "id": "_EOFkgncdjsz",
        "colab_type": "code",
        "outputId": "a0d75cd8-7e05-4658-889e-56141731fbe8",
        "colab": {
          "base_uri": "https://localhost:8080/",
          "height": 34
        }
      },
      "source": [
        "model.predict(X_valid)[:200].sum()/1000"
      ],
      "execution_count": 0,
      "outputs": [
        {
          "output_type": "execute_result",
          "data": {
            "text/plain": [
              "14.940064072399494"
            ]
          },
          "metadata": {
            "tags": []
          },
          "execution_count": 320
        }
      ]
    },
    {
      "cell_type": "code",
      "metadata": {
        "id": "vx1bbkh5eAba",
        "colab_type": "code",
        "outputId": "5f75ce87-ea08-4d37-b219-cd05086c63ba",
        "colab": {
          "base_uri": "https://localhost:8080/",
          "height": 34
        }
      },
      "source": [
        "y_valid[:200].sum()/1000"
      ],
      "execution_count": 0,
      "outputs": [
        {
          "output_type": "execute_result",
          "data": {
            "text/plain": [
              "15.2"
            ]
          },
          "metadata": {
            "tags": []
          },
          "execution_count": 322
        }
      ]
    }
  ]
}