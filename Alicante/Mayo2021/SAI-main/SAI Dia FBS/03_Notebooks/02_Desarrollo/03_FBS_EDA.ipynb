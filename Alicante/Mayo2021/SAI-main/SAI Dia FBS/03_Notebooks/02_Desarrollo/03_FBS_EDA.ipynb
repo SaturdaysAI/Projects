{
 "cells": [
  {
   "cell_type": "markdown",
   "id": "d31dea65",
   "metadata": {},
   "source": [
    "# EDA"
   ]
  },
  {
   "cell_type": "markdown",
   "id": "swiss-fault",
   "metadata": {},
   "source": [
    "## IMPORTAR PAQUETES"
   ]
  },
  {
   "cell_type": "code",
   "execution_count": 1,
   "id": "adjacent-toddler",
   "metadata": {},
   "outputs": [],
   "source": [
    "import numpy as np\n",
    "import pandas as pd\n",
    "import matplotlib.pyplot as plt\n",
    "%matplotlib inline\n",
    "\n",
    "#Automcompletar rápido\n",
    "%config IPCompleter.greedy=True"
   ]
  },
  {
   "cell_type": "markdown",
   "id": "graduate-compensation",
   "metadata": {},
   "source": [
    "## IMPORTAR LOS DATOS"
   ]
  },
  {
   "cell_type": "markdown",
   "id": "3a5b94ef",
   "metadata": {},
   "source": [
    "Sustituir la ruta del proyecto."
   ]
  },
  {
   "cell_type": "code",
   "execution_count": 2,
   "id": "f9d2de58",
   "metadata": {},
   "outputs": [],
   "source": [
    "ruta_proyecto = 'C:/Users/Usuario/miniconda3/SAI Dia FBS/'"
   ]
  },
  {
   "cell_type": "markdown",
   "id": "c3363765",
   "metadata": {},
   "source": [
    "Nombres de los ficheros de datos."
   ]
  },
  {
   "cell_type": "code",
   "execution_count": 3,
   "id": "a9e2e04a",
   "metadata": {},
   "outputs": [],
   "source": [
    "nombre = 'trabajo_resultado_calidad.pickle'"
   ]
  },
  {
   "cell_type": "markdown",
   "id": "b9825018",
   "metadata": {},
   "source": [
    "Cargar los datos."
   ]
  },
  {
   "cell_type": "code",
   "execution_count": 4,
   "id": "cab6ebcd",
   "metadata": {},
   "outputs": [
    {
     "data": {
      "text/html": [
       "<div>\n",
       "<style scoped>\n",
       "    .dataframe tbody tr th:only-of-type {\n",
       "        vertical-align: middle;\n",
       "    }\n",
       "\n",
       "    .dataframe tbody tr th {\n",
       "        vertical-align: top;\n",
       "    }\n",
       "\n",
       "    .dataframe thead th {\n",
       "        text-align: right;\n",
       "    }\n",
       "</style>\n",
       "<table border=\"1\" class=\"dataframe\">\n",
       "  <thead>\n",
       "    <tr style=\"text-align: right;\">\n",
       "      <th></th>\n",
       "      <th>id</th>\n",
       "      <th>cno</th>\n",
       "      <th>titulo_oferta</th>\n",
       "      <th>detalle_oferta</th>\n",
       "      <th>empresa_oferta</th>\n",
       "      <th>categoria</th>\n",
       "    </tr>\n",
       "  </thead>\n",
       "  <tbody>\n",
       "    <tr>\n",
       "      <th>0</th>\n",
       "      <td>1763217793</td>\n",
       "      <td>5220</td>\n",
       "      <td>Se necesita ayudante de dependienta</td>\n",
       "      <td>Horario partido de comercio en centro Madrid</td>\n",
       "      <td>Fritos El Cisne SL</td>\n",
       "      <td>Agricultura/jardinería/alimentación -\\r\\nConse...</td>\n",
       "    </tr>\n",
       "    <tr>\n",
       "      <th>1</th>\n",
       "      <td>1763583482</td>\n",
       "      <td>4111</td>\n",
       "      <td>Administrativo marketing/vo</td>\n",
       "      <td>Edad: Que encaje en un contrato de formación.\\...</td>\n",
       "      <td>AUTOFER SL</td>\n",
       "      <td>Administración -\\r\\nAdministrativos\\r\\nEmplead...</td>\n",
       "    </tr>\n",
       "    <tr>\n",
       "      <th>4</th>\n",
       "      <td>1764322624</td>\n",
       "      <td>4301</td>\n",
       "      <td>Administrativo</td>\n",
       "      <td>nominas, contratos, seguros sociales- departam...</td>\n",
       "      <td>ORGADEM,SL</td>\n",
       "      <td>Administración -\\r\\nRecursos Humanos/personal\\...</td>\n",
       "    </tr>\n",
       "    <tr>\n",
       "      <th>5</th>\n",
       "      <td>1765500539</td>\n",
       "      <td>7221</td>\n",
       "      <td>Fontanero - calefactor</td>\n",
       "      <td>FONTANERO CALEFACTOR CON EXPERIENCIA EN MONTAJ...</td>\n",
       "      <td>TERCALOR</td>\n",
       "      <td>Fábricas/industria -\\r\\nMontadores Y Ensamblad...</td>\n",
       "    </tr>\n",
       "    <tr>\n",
       "      <th>6</th>\n",
       "      <td>1764985510</td>\n",
       "      <td>5120</td>\n",
       "      <td>Camarero con experiencia</td>\n",
       "      <td>Camarero con experiencia, jornada completa, tu...</td>\n",
       "      <td>MARINELA LIVIA CUREAN</td>\n",
       "      <td>Hostelería/turismo -\\r\\nCamareros\\r\\nCamareros...</td>\n",
       "    </tr>\n",
       "  </tbody>\n",
       "</table>\n",
       "</div>"
      ],
      "text/plain": [
       "           id   cno                        titulo_oferta  \\\n",
       "0  1763217793  5220  Se necesita ayudante de dependienta   \n",
       "1  1763583482  4111          Administrativo marketing/vo   \n",
       "4  1764322624  4301                       Administrativo   \n",
       "5  1765500539  7221               Fontanero - calefactor   \n",
       "6  1764985510  5120             Camarero con experiencia   \n",
       "\n",
       "                                      detalle_oferta         empresa_oferta  \\\n",
       "0       Horario partido de comercio en centro Madrid     Fritos El Cisne SL   \n",
       "1  Edad: Que encaje en un contrato de formación.\\...             AUTOFER SL   \n",
       "4  nominas, contratos, seguros sociales- departam...             ORGADEM,SL   \n",
       "5  FONTANERO CALEFACTOR CON EXPERIENCIA EN MONTAJ...               TERCALOR   \n",
       "6  Camarero con experiencia, jornada completa, tu...  MARINELA LIVIA CUREAN   \n",
       "\n",
       "                                           categoria  \n",
       "0  Agricultura/jardinería/alimentación -\\r\\nConse...  \n",
       "1  Administración -\\r\\nAdministrativos\\r\\nEmplead...  \n",
       "4  Administración -\\r\\nRecursos Humanos/personal\\...  \n",
       "5  Fábricas/industria -\\r\\nMontadores Y Ensamblad...  \n",
       "6  Hostelería/turismo -\\r\\nCamareros\\r\\nCamareros...  "
      ]
     },
     "execution_count": 4,
     "metadata": {},
     "output_type": "execute_result"
    }
   ],
   "source": [
    "df = pd.read_pickle(ruta_proyecto + '/02_Datos/03_Trabajo/' + nombre)\n",
    "df.head()"
   ]
  },
  {
   "cell_type": "markdown",
   "id": "9790d322",
   "metadata": {},
   "source": [
    "## EDA"
   ]
  },
  {
   "cell_type": "markdown",
   "id": "f1fa5201",
   "metadata": {},
   "source": [
    "### Análisis estadístico"
   ]
  },
  {
   "cell_type": "code",
   "execution_count": 5,
   "id": "f0d59a37",
   "metadata": {},
   "outputs": [
    {
     "data": {
      "text/plain": [
       "(5718, 6)"
      ]
     },
     "execution_count": 5,
     "metadata": {},
     "output_type": "execute_result"
    }
   ],
   "source": [
    "df.shape"
   ]
  },
  {
   "cell_type": "code",
   "execution_count": 6,
   "id": "12c404c4",
   "metadata": {},
   "outputs": [
    {
     "data": {
      "text/plain": [
       "<bound method NDFrame.describe of               id   cno                              titulo_oferta  \\\n",
       "0     1763217793  5220        Se necesita ayudante de dependienta   \n",
       "1     1763583482  4111                Administrativo marketing/vo   \n",
       "4     1764322624  4301                             Administrativo   \n",
       "5     1765500539  7221                     Fontanero - calefactor   \n",
       "6     1764985510  5120                   Camarero con experiencia   \n",
       "...          ...   ...                                        ...   \n",
       "8242  1764696353  5120                              Work/location   \n",
       "8244  1764647825  8432                              Work/location   \n",
       "8245  1764647755  2121           Enfermeros de cuidados generales   \n",
       "8248  1764696486  3820                              Work/location   \n",
       "8251  1764696096  8432  Conductores-operadores de camión volquete   \n",
       "\n",
       "                                         detalle_oferta  \\\n",
       "0          Horario partido de comercio en centro Madrid   \n",
       "1     Edad: Que encaje en un contrato de formación.\\...   \n",
       "4     nominas, contratos, seguros sociales- departam...   \n",
       "5     FONTANERO CALEFACTOR CON EXPERIENCIA EN MONTAJ...   \n",
       "6     Camarero con experiencia, jornada completa, tu...   \n",
       "...                                                 ...   \n",
       "8242  DESDE TEMPORING SELECCIONAMOS CAMAREROS/AS PAR...   \n",
       "8244  EN RECERCA PERRUQUER/A PER A TREBALLAR A EMPRE...   \n",
       "8245  OFERTA Nº 3095 DE ENFERMERA/O PARA RESIDENCIA ...   \n",
       "8248  SE PRECISA PROGRAMADOR/A INFORMÁTICO/A JUNIOR ...   \n",
       "8251  SE BUSCA CONDUCTOR CAMIÓN / SECTOR CONSTRUCCIÓ...   \n",
       "\n",
       "             empresa_oferta                                          categoria  \n",
       "0        Fritos El Cisne SL  Agricultura/jardinería/alimentación -\\r\\nConse...  \n",
       "1                AUTOFER SL  Administración -\\r\\nAdministrativos\\r\\nEmplead...  \n",
       "4                ORGADEM,SL  Administración -\\r\\nRecursos Humanos/personal\\...  \n",
       "5                  TERCALOR  Fábricas/industria -\\r\\nMontadores Y Ensamblad...  \n",
       "6     MARINELA LIVIA CUREAN  Hostelería/turismo -\\r\\nCamareros\\r\\nCamareros...  \n",
       "...                     ...                                                ...  \n",
       "8242                    NaN  Hostelería/turismo -\\r\\nAyudantes De Cocina/co...  \n",
       "8244                    NaN  Peluquería/estética -\\r\\nEstética\\r\\nConductor...  \n",
       "8245                    NaN  Salud/deporte -\\r\\nEnfermería\\r\\nEnfermeros No...  \n",
       "8248                    NaN  Informática/telecomunicaciones -\\r\\nAnalistas/...  \n",
       "8251                    NaN  Construcción -\\r\\nGrúas/excavadoras/maquinaria...  \n",
       "\n",
       "[5718 rows x 6 columns]>"
      ]
     },
     "execution_count": 6,
     "metadata": {},
     "output_type": "execute_result"
    }
   ],
   "source": [
    "df.describe"
   ]
  },
  {
   "cell_type": "code",
   "execution_count": 7,
   "id": "02607b69",
   "metadata": {},
   "outputs": [],
   "source": [
    "def frecuencias(df):\n",
    "    resultado = df.apply(lambda x: x.value_counts(normalize = True)).T.stack()\\\n",
    "                .to_frame().reset_index()\\\n",
    "                .rename(columns={'level_0':'Variable','level_1':'Valor',0: \"Frecuencia\"})\\\n",
    "                .sort_values(by = ['Variable','Frecuencia'])\n",
    "    return(resultado)"
   ]
  },
  {
   "cell_type": "code",
   "execution_count": 8,
   "id": "41c44a8e",
   "metadata": {},
   "outputs": [
    {
     "data": {
      "text/html": [
       "<div>\n",
       "<style scoped>\n",
       "    .dataframe tbody tr th:only-of-type {\n",
       "        vertical-align: middle;\n",
       "    }\n",
       "\n",
       "    .dataframe tbody tr th {\n",
       "        vertical-align: top;\n",
       "    }\n",
       "\n",
       "    .dataframe thead th {\n",
       "        text-align: right;\n",
       "    }\n",
       "</style>\n",
       "<table border=\"1\" class=\"dataframe\">\n",
       "  <thead>\n",
       "    <tr style=\"text-align: right;\">\n",
       "      <th></th>\n",
       "      <th>Variable</th>\n",
       "      <th>Valor</th>\n",
       "      <th>Frecuencia</th>\n",
       "    </tr>\n",
       "  </thead>\n",
       "  <tbody>\n",
       "    <tr>\n",
       "      <th>17016</th>\n",
       "      <td>categoria</td>\n",
       "      <td>-\\r\\nAnalistas Y Diseñadores De Software Y Mul...</td>\n",
       "      <td>0.000175</td>\n",
       "    </tr>\n",
       "    <tr>\n",
       "      <th>17017</th>\n",
       "      <td>categoria</td>\n",
       "      <td>-\\r\\nArquitectos (excepto Arquitectos Paisajis...</td>\n",
       "      <td>0.000175</td>\n",
       "    </tr>\n",
       "    <tr>\n",
       "      <th>17018</th>\n",
       "      <td>categoria</td>\n",
       "      <td>-\\r\\nArquitectos (excepto Arquitectos Paisajis...</td>\n",
       "      <td>0.000175</td>\n",
       "    </tr>\n",
       "    <tr>\n",
       "      <th>17019</th>\n",
       "      <td>categoria</td>\n",
       "      <td>-\\r\\nArquitectos (excepto Arquitectos Paisajis...</td>\n",
       "      <td>0.000175</td>\n",
       "    </tr>\n",
       "    <tr>\n",
       "      <th>17020</th>\n",
       "      <td>categoria</td>\n",
       "      <td>-\\r\\nArquitectos (excepto Arquitectos Paisajis...</td>\n",
       "      <td>0.000175</td>\n",
       "    </tr>\n",
       "    <tr>\n",
       "      <th>...</th>\n",
       "      <td>...</td>\n",
       "      <td>...</td>\n",
       "      <td>...</td>\n",
       "    </tr>\n",
       "    <tr>\n",
       "      <th>6875</th>\n",
       "      <td>titulo_oferta</td>\n",
       "      <td>Camarero/a</td>\n",
       "      <td>0.004197</td>\n",
       "    </tr>\n",
       "    <tr>\n",
       "      <th>7886</th>\n",
       "      <td>titulo_oferta</td>\n",
       "      <td>Enfermeros de cuidados generales</td>\n",
       "      <td>0.005247</td>\n",
       "    </tr>\n",
       "    <tr>\n",
       "      <th>7022</th>\n",
       "      <td>titulo_oferta</td>\n",
       "      <td>Comercial</td>\n",
       "      <td>0.005421</td>\n",
       "    </tr>\n",
       "    <tr>\n",
       "      <th>10541</th>\n",
       "      <td>titulo_oferta</td>\n",
       "      <td>Work/location</td>\n",
       "      <td>0.008395</td>\n",
       "    </tr>\n",
       "    <tr>\n",
       "      <th>10393</th>\n",
       "      <td>titulo_oferta</td>\n",
       "      <td>Técnico/a de radiología con alemán para coloni...</td>\n",
       "      <td>0.012067</td>\n",
       "    </tr>\n",
       "  </tbody>\n",
       "</table>\n",
       "<p>21675 rows × 3 columns</p>\n",
       "</div>"
      ],
      "text/plain": [
       "            Variable                                              Valor  \\\n",
       "17016      categoria  -\\r\\nAnalistas Y Diseñadores De Software Y Mul...   \n",
       "17017      categoria  -\\r\\nArquitectos (excepto Arquitectos Paisajis...   \n",
       "17018      categoria  -\\r\\nArquitectos (excepto Arquitectos Paisajis...   \n",
       "17019      categoria  -\\r\\nArquitectos (excepto Arquitectos Paisajis...   \n",
       "17020      categoria  -\\r\\nArquitectos (excepto Arquitectos Paisajis...   \n",
       "...              ...                                                ...   \n",
       "6875   titulo_oferta                                         Camarero/a   \n",
       "7886   titulo_oferta                   Enfermeros de cuidados generales   \n",
       "7022   titulo_oferta                                          Comercial   \n",
       "10541  titulo_oferta                                      Work/location   \n",
       "10393  titulo_oferta  Técnico/a de radiología con alemán para coloni...   \n",
       "\n",
       "       Frecuencia  \n",
       "17016    0.000175  \n",
       "17017    0.000175  \n",
       "17018    0.000175  \n",
       "17019    0.000175  \n",
       "17020    0.000175  \n",
       "...           ...  \n",
       "6875     0.004197  \n",
       "7886     0.005247  \n",
       "7022     0.005421  \n",
       "10541    0.008395  \n",
       "10393    0.012067  \n",
       "\n",
       "[21675 rows x 3 columns]"
      ]
     },
     "execution_count": 8,
     "metadata": {},
     "output_type": "execute_result"
    }
   ],
   "source": [
    "frecuencias(df)"
   ]
  },
  {
   "cell_type": "code",
   "execution_count": 9,
   "id": "4d71a842",
   "metadata": {},
   "outputs": [
    {
     "data": {
      "text/plain": [
       "3811    398\n",
       "3820    192\n",
       "2461    183\n",
       "2713    178\n",
       "5120    154\n",
       "       ... \n",
       "7321      1\n",
       "3523      1\n",
       "6430      1\n",
       "4411      1\n",
       "5893      1\n",
       "Name: cno, Length: 285, dtype: int64"
      ]
     },
     "execution_count": 9,
     "metadata": {},
     "output_type": "execute_result"
    }
   ],
   "source": [
    "df_cno = df['cno'].value_counts()\n",
    "df_cno"
   ]
  },
  {
   "cell_type": "code",
   "execution_count": 10,
   "id": "27bbacb8",
   "metadata": {},
   "outputs": [
    {
     "data": {
      "text/plain": [
       "Técnico/a de radiología con alemán para colonia/alemania                   69\n",
       "Work/location                                                              48\n",
       "Comercial                                                                  31\n",
       "Enfermeros de cuidados generales                                           30\n",
       "Camarero/a                                                                 24\n",
       "                                                                           ..\n",
       "Programador java / spring boot, 100% en remoto                              1\n",
       "Ingeniero de proyectos y jefe de obra de instalaciones eléctricas (h/m)     1\n",
       "Responsable permisos canalización fibra óptica alemania                     1\n",
       "Ingeniero/a proyectos de obra en insatlaciones - gerona                     1\n",
       "Conductores-operadores de camión volquete                                   1\n",
       "Name: titulo_oferta, Length: 4546, dtype: int64"
      ]
     },
     "execution_count": 10,
     "metadata": {},
     "output_type": "execute_result"
    }
   ],
   "source": [
    "df['titulo_oferta'].value_counts()"
   ]
  },
  {
   "cell_type": "code",
   "execution_count": 11,
   "id": "4956bc89",
   "metadata": {},
   "outputs": [
    {
     "data": {
      "text/plain": [
       "0            Horario partido de comercio en centro Madrid\n",
       "1       Edad: Que encaje en un contrato de formación.\\...\n",
       "4       nominas, contratos, seguros sociales- departam...\n",
       "5       FONTANERO CALEFACTOR CON EXPERIENCIA EN MONTAJ...\n",
       "6       Camarero con experiencia, jornada completa, tu...\n",
       "                              ...                        \n",
       "8242    DESDE TEMPORING SELECCIONAMOS CAMAREROS/AS PAR...\n",
       "8244    EN RECERCA PERRUQUER/A PER A TREBALLAR A EMPRE...\n",
       "8245    OFERTA Nº 3095 DE ENFERMERA/O PARA RESIDENCIA ...\n",
       "8248    SE PRECISA PROGRAMADOR/A INFORMÁTICO/A JUNIOR ...\n",
       "8251    SE BUSCA CONDUCTOR CAMIÓN / SECTOR CONSTRUCCIÓ...\n",
       "Name: detalle_oferta, Length: 5718, dtype: object"
      ]
     },
     "execution_count": 11,
     "metadata": {},
     "output_type": "execute_result"
    }
   ],
   "source": [
    "df['detalle_oferta']"
   ]
  },
  {
   "cell_type": "code",
   "execution_count": 12,
   "id": "38a385b4",
   "metadata": {},
   "outputs": [
    {
     "data": {
      "text/plain": [
       "id                                                       1763217793\n",
       "cno                                                            5220\n",
       "titulo_oferta                   Se necesita ayudante de dependienta\n",
       "detalle_oferta         Horario partido de comercio en centro Madrid\n",
       "empresa_oferta                                   Fritos El Cisne SL\n",
       "categoria         Agricultura/jardinería/alimentación -\\r\\nConse...\n",
       "Name: 0, dtype: object"
      ]
     },
     "execution_count": 12,
     "metadata": {},
     "output_type": "execute_result"
    }
   ],
   "source": [
    "df.iloc[0,:]"
   ]
  },
  {
   "cell_type": "markdown",
   "id": "87434e0c",
   "metadata": {},
   "source": [
    "## GUARDAR DATASETS TRAS CALIDAD DE DATOS"
   ]
  },
  {
   "cell_type": "markdown",
   "id": "7656ba95",
   "metadata": {},
   "source": [
    "Guarda los avances en cat y num con un sufijo para poder guardar o recuperar avances del proyecto.\n",
    "\n",
    "En formato pickle para no perder las modificaciones de metadatos.\n",
    "\n",
    "*NOTA: En algunos casos no hay cambios en los ficheros en esta fase, así que este paso es opcional.Pero si no guardas estos ficheros acuérdate de modificar la importación en el siguiente notebook.*"
   ]
  },
  {
   "cell_type": "code",
   "execution_count": 13,
   "id": "782bf43c",
   "metadata": {},
   "outputs": [],
   "source": [
    "#Definir los nombres de los archivos\n",
    "ruta = ruta_proyecto + '/02_Datos/03_Trabajo/' + 'df_resultado_eda.pickle'"
   ]
  },
  {
   "cell_type": "code",
   "execution_count": 14,
   "id": "44c7dd60",
   "metadata": {},
   "outputs": [],
   "source": [
    "#Guardar los archivos\n",
    "df.to_pickle(ruta)"
   ]
  }
 ],
 "metadata": {
  "kernelspec": {
   "display_name": "Python 3 (ipykernel)",
   "language": "python",
   "name": "python3"
  },
  "language_info": {
   "codemirror_mode": {
    "name": "ipython",
    "version": 3
   },
   "file_extension": ".py",
   "mimetype": "text/x-python",
   "name": "python",
   "nbconvert_exporter": "python",
   "pygments_lexer": "ipython3",
   "version": "3.9.7"
  },
  "toc": {
   "base_numbering": 1,
   "nav_menu": {},
   "number_sections": true,
   "sideBar": true,
   "skip_h1_title": false,
   "title_cell": "Table of Contents",
   "title_sidebar": "Contents",
   "toc_cell": false,
   "toc_position": {
    "height": "calc(100% - 180px)",
    "left": "10px",
    "top": "150px",
    "width": "253.95px"
   },
   "toc_section_display": true,
   "toc_window_display": true
  },
  "varInspector": {
   "cols": {
    "lenName": 16,
    "lenType": 16,
    "lenVar": 40
   },
   "kernels_config": {
    "python": {
     "delete_cmd_postfix": "",
     "delete_cmd_prefix": "del ",
     "library": "var_list.py",
     "varRefreshCmd": "print(var_dic_list())"
    },
    "r": {
     "delete_cmd_postfix": ") ",
     "delete_cmd_prefix": "rm(",
     "library": "var_list.r",
     "varRefreshCmd": "cat(var_dic_list()) "
    }
   },
   "position": {
    "height": "546.85px",
    "left": "680.75px",
    "right": "20px",
    "top": "118px",
    "width": "350px"
   },
   "types_to_exclude": [
    "module",
    "function",
    "builtin_function_or_method",
    "instance",
    "_Feature"
   ],
   "window_display": false
  }
 },
 "nbformat": 4,
 "nbformat_minor": 5
}
