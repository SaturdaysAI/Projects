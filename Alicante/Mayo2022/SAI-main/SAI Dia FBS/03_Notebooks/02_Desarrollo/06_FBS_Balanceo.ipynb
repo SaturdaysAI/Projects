{
 "cells": [
  {
   "cell_type": "markdown",
   "id": "d31dea65",
   "metadata": {},
   "source": [
    "# PLANTILLA BALANCEO"
   ]
  },
  {
   "cell_type": "markdown",
   "id": "a18ebc17",
   "metadata": {},
   "source": [
    "**IMPORTANTE**: Recuerda hacer una copia de esta plantilla para no machacar la original."
   ]
  },
  {
   "cell_type": "markdown",
   "id": "swiss-fault",
   "metadata": {},
   "source": [
    "## IMPORTAR PAQUETES"
   ]
  },
  {
   "cell_type": "code",
   "execution_count": 1,
   "id": "adjacent-toddler",
   "metadata": {},
   "outputs": [],
   "source": [
    "import numpy as np\n",
    "import pandas as pd\n",
    "import matplotlib.pyplot as plt\n",
    "%matplotlib inline\n",
    "\n",
    "from imblearn.under_sampling import RandomUnderSampler\n",
    "from imblearn.over_sampling import RandomOverSampler\n",
    "from imblearn.under_sampling import TomekLinks\n",
    "from imblearn.over_sampling import SMOTE\n",
    "from imblearn.combine import SMOTETomek\n",
    "\n",
    "from sklearn.model_selection import train_test_split\n",
    "\n",
    "from sklearn.linear_model import LogisticRegression\n",
    "\n",
    "from sklearn.metrics import roc_auc_score\n",
    "\n",
    "#Automcompletar rápido\n",
    "%config IPCompleter.greedy=True"
   ]
  },
  {
   "cell_type": "markdown",
   "id": "graduate-compensation",
   "metadata": {},
   "source": [
    "## IMPORTAR LOS DATOS"
   ]
  },
  {
   "cell_type": "markdown",
   "id": "3a5b94ef",
   "metadata": {},
   "source": [
    "Sustituir la ruta del proyecto."
   ]
  },
  {
   "cell_type": "code",
   "execution_count": 2,
   "id": "f9d2de58",
   "metadata": {},
   "outputs": [],
   "source": [
    "ruta_proyecto = 'C:/Users/isaac/Google Drive/DS4B/CursoMachineLearningPython/03_MACHINE_LEARNING/08_CASOS/00_PROYECTO1'"
   ]
  },
  {
   "cell_type": "markdown",
   "id": "c3363765",
   "metadata": {},
   "source": [
    "Nombres de los ficheros de datos."
   ]
  },
  {
   "cell_type": "code",
   "execution_count": 3,
   "id": "a9e2e04a",
   "metadata": {},
   "outputs": [],
   "source": [
    "nombre_x = 'x_preseleccionado.pickle'\n",
    "nombre_y = 'y_preseleccionado.pickle'"
   ]
  },
  {
   "cell_type": "markdown",
   "id": "b9825018",
   "metadata": {},
   "source": [
    "Cargar los datos."
   ]
  },
  {
   "cell_type": "code",
   "execution_count": 4,
   "id": "cab6ebcd",
   "metadata": {},
   "outputs": [],
   "source": [
    "x = pd.read_pickle(ruta_proyecto + '/02_Datos/03_Trabajo/' + nombre_x)\n",
    "y = pd.read_pickle(ruta_proyecto + '/02_Datos/03_Trabajo/' + nombre_y)"
   ]
  },
  {
   "cell_type": "markdown",
   "id": "9790d322",
   "metadata": {},
   "source": [
    "## BALANCEO"
   ]
  },
  {
   "cell_type": "markdown",
   "id": "19b25807",
   "metadata": {},
   "source": [
    "El objetivo es probar si el balanceo mejora la predicción en el dataset.\n",
    "\n",
    "Para ello hay que probar diferentes métodos y al final elegir uno (incluyendo la opción de no balancear)."
   ]
  },
  {
   "cell_type": "markdown",
   "id": "f1fa5201",
   "metadata": {},
   "source": [
    "### Sin balanceo"
   ]
  },
  {
   "cell_type": "markdown",
   "id": "930f685f",
   "metadata": {},
   "source": [
    "#### Crear train y test"
   ]
  },
  {
   "cell_type": "code",
   "execution_count": 5,
   "id": "84b6fd41",
   "metadata": {},
   "outputs": [],
   "source": [
    "train_x,test_x,train_y,test_y = train_test_split(x,y,test_size=0.3)"
   ]
  },
  {
   "cell_type": "markdown",
   "id": "e915c866",
   "metadata": {},
   "source": [
    "#### Instanciar el modelo"
   ]
  },
  {
   "cell_type": "code",
   "execution_count": 6,
   "id": "39073022",
   "metadata": {},
   "outputs": [],
   "source": [
    "rl_sin_balanceo = LogisticRegression(n_jobs = -1)"
   ]
  },
  {
   "cell_type": "markdown",
   "id": "ce4b603a",
   "metadata": {},
   "source": [
    "#### Entrenar"
   ]
  },
  {
   "cell_type": "code",
   "execution_count": 7,
   "id": "1e0348db",
   "metadata": {},
   "outputs": [
    {
     "data": {
      "text/plain": [
       "LogisticRegression(n_jobs=-1)"
      ]
     },
     "execution_count": 7,
     "metadata": {},
     "output_type": "execute_result"
    }
   ],
   "source": [
    "rl_sin_balanceo.fit(train_x,train_y)"
   ]
  },
  {
   "cell_type": "markdown",
   "id": "4b94b921",
   "metadata": {},
   "source": [
    "#### Aplicar"
   ]
  },
  {
   "cell_type": "code",
   "execution_count": 8,
   "id": "863933d9",
   "metadata": {},
   "outputs": [],
   "source": [
    "pred_rl_sin_balanceo = rl_sin_balanceo.predict_proba(test_x)[:,1]"
   ]
  },
  {
   "cell_type": "markdown",
   "id": "260baa98",
   "metadata": {},
   "source": [
    "#### Evaluar"
   ]
  },
  {
   "cell_type": "code",
   "execution_count": 10,
   "id": "aa3a10d5",
   "metadata": {},
   "outputs": [
    {
     "data": {
      "text/plain": [
       "0.7482532548972767"
      ]
     },
     "execution_count": 10,
     "metadata": {},
     "output_type": "execute_result"
    }
   ],
   "source": [
    "roc_rl_sin_balanceo = roc_auc_score(test_y, pred_rl_sin_balanceo)\n",
    "\n",
    "roc_rl_sin_balanceo"
   ]
  },
  {
   "cell_type": "markdown",
   "id": "fee22dd5",
   "metadata": {},
   "source": [
    "### Crear dataset balanceado mediante undersampling"
   ]
  },
  {
   "cell_type": "markdown",
   "id": "c54c48e7",
   "metadata": {},
   "source": [
    "#### Instanciar el undersampler"
   ]
  },
  {
   "cell_type": "code",
   "execution_count": 11,
   "id": "7216c083",
   "metadata": {},
   "outputs": [],
   "source": [
    "rus = RandomUnderSampler(sampling_strategy= 1)"
   ]
  },
  {
   "cell_type": "markdown",
   "id": "904c4b70",
   "metadata": {},
   "source": [
    "#### Entrenar y aplicar el undersampler"
   ]
  },
  {
   "cell_type": "code",
   "execution_count": 12,
   "id": "68ab4ec0",
   "metadata": {},
   "outputs": [],
   "source": [
    "x_rus, y_rus = rus.fit_resample(x,y)"
   ]
  },
  {
   "cell_type": "markdown",
   "id": "57320f17",
   "metadata": {},
   "source": [
    "#### Crear train y test"
   ]
  },
  {
   "cell_type": "code",
   "execution_count": 13,
   "id": "ea3dc85f",
   "metadata": {},
   "outputs": [],
   "source": [
    "train_x_rus,test_x_rus,train_y_rus,test_y_rus = train_test_split(x_rus,y_rus,test_size=0.3)"
   ]
  },
  {
   "cell_type": "markdown",
   "id": "fb435c9e",
   "metadata": {},
   "source": [
    "#### Instanciar el modelo"
   ]
  },
  {
   "cell_type": "code",
   "execution_count": 14,
   "id": "9f285f5e",
   "metadata": {},
   "outputs": [],
   "source": [
    "rl_rus = LogisticRegression(n_jobs = -1)"
   ]
  },
  {
   "cell_type": "markdown",
   "id": "7e0344f7",
   "metadata": {},
   "source": [
    "#### Entrenar"
   ]
  },
  {
   "cell_type": "code",
   "execution_count": 15,
   "id": "16e20a05",
   "metadata": {},
   "outputs": [
    {
     "data": {
      "text/plain": [
       "LogisticRegression(n_jobs=-1)"
      ]
     },
     "execution_count": 15,
     "metadata": {},
     "output_type": "execute_result"
    }
   ],
   "source": [
    "rl_rus.fit(train_x_rus,train_y_rus)"
   ]
  },
  {
   "cell_type": "markdown",
   "id": "8cce89bb",
   "metadata": {},
   "source": [
    "#### Aplicar"
   ]
  },
  {
   "cell_type": "code",
   "execution_count": 16,
   "id": "9ae5c698",
   "metadata": {},
   "outputs": [],
   "source": [
    "pred_rl_rus = rl_rus.predict_proba(test_x)[:,1]"
   ]
  },
  {
   "cell_type": "markdown",
   "id": "ff3f6024",
   "metadata": {},
   "source": [
    "#### Evaluar"
   ]
  },
  {
   "cell_type": "code",
   "execution_count": 18,
   "id": "ba53f521",
   "metadata": {},
   "outputs": [
    {
     "data": {
      "text/plain": [
       "0.7488830327281416"
      ]
     },
     "execution_count": 18,
     "metadata": {},
     "output_type": "execute_result"
    }
   ],
   "source": [
    "roc_rl_rus = roc_auc_score(test_y, pred_rl_rus)\n",
    "\n",
    "roc_rl_rus"
   ]
  },
  {
   "cell_type": "markdown",
   "id": "c540e3d9",
   "metadata": {},
   "source": [
    "### Crear dataset balanceado mediante oversampling"
   ]
  },
  {
   "cell_type": "markdown",
   "id": "83fee5ee",
   "metadata": {},
   "source": [
    "#### Instanciar el oversampler"
   ]
  },
  {
   "cell_type": "code",
   "execution_count": 19,
   "id": "90fcd19b",
   "metadata": {},
   "outputs": [],
   "source": [
    "ros = RandomOverSampler(sampling_strategy= 1)"
   ]
  },
  {
   "cell_type": "markdown",
   "id": "780ca4b6",
   "metadata": {},
   "source": [
    "#### Entrenar y aplicar el oversampler"
   ]
  },
  {
   "cell_type": "code",
   "execution_count": 20,
   "id": "3ff9f74a",
   "metadata": {},
   "outputs": [],
   "source": [
    "x_ros, y_ros = ros.fit_resample(x,y)"
   ]
  },
  {
   "cell_type": "markdown",
   "id": "db337f9d",
   "metadata": {},
   "source": [
    "#### Crear train y test"
   ]
  },
  {
   "cell_type": "code",
   "execution_count": 21,
   "id": "472493ec",
   "metadata": {},
   "outputs": [],
   "source": [
    "train_x_ros,test_x_ros,train_y_ros,test_y_ros = train_test_split(x_ros,y_ros,test_size=0.3)"
   ]
  },
  {
   "cell_type": "markdown",
   "id": "696bae6c",
   "metadata": {},
   "source": [
    "#### Instanciar el modelo"
   ]
  },
  {
   "cell_type": "code",
   "execution_count": 22,
   "id": "cf25adb0",
   "metadata": {},
   "outputs": [],
   "source": [
    "rl_ros = LogisticRegression(n_jobs = -1)"
   ]
  },
  {
   "cell_type": "markdown",
   "id": "aed614cd",
   "metadata": {},
   "source": [
    "#### Entrenar"
   ]
  },
  {
   "cell_type": "code",
   "execution_count": 23,
   "id": "0f5c6f3e",
   "metadata": {},
   "outputs": [
    {
     "data": {
      "text/plain": [
       "LogisticRegression(n_jobs=-1)"
      ]
     },
     "execution_count": 23,
     "metadata": {},
     "output_type": "execute_result"
    }
   ],
   "source": [
    "rl_ros.fit(train_x_ros,train_y_ros)"
   ]
  },
  {
   "cell_type": "markdown",
   "id": "f0ca91ad",
   "metadata": {},
   "source": [
    "#### Aplicar"
   ]
  },
  {
   "cell_type": "code",
   "execution_count": 24,
   "id": "d171a92d",
   "metadata": {},
   "outputs": [],
   "source": [
    "pred_rl_ros = rl_ros.predict_proba(test_x)[:,1]"
   ]
  },
  {
   "cell_type": "markdown",
   "id": "de9edbaf",
   "metadata": {},
   "source": [
    "#### Evaluar"
   ]
  },
  {
   "cell_type": "code",
   "execution_count": 25,
   "id": "29380e9e",
   "metadata": {},
   "outputs": [
    {
     "data": {
      "text/plain": [
       "0.7487098363592929"
      ]
     },
     "execution_count": 25,
     "metadata": {},
     "output_type": "execute_result"
    }
   ],
   "source": [
    "roc_rl_ros = roc_auc_score(test_y, pred_rl_ros)\n",
    "\n",
    "roc_rl_ros"
   ]
  },
  {
   "cell_type": "markdown",
   "id": "f0c6fe2a",
   "metadata": {},
   "source": [
    "### Crear dataset balanceado mediante SMOTE-Tomek"
   ]
  },
  {
   "cell_type": "markdown",
   "id": "39c44bf5",
   "metadata": {},
   "source": [
    "#### Instanciar un Tomek y un SMOTE"
   ]
  },
  {
   "cell_type": "code",
   "execution_count": 26,
   "id": "07fe8365",
   "metadata": {},
   "outputs": [],
   "source": [
    "tom = TomekLinks(n_jobs = -1)\n",
    "\n",
    "smo = SMOTE(sampling_strategy = 1, n_jobs = -1)"
   ]
  },
  {
   "cell_type": "markdown",
   "id": "ea48084f",
   "metadata": {},
   "source": [
    "#### Instanciar el SMOTE-Tomek"
   ]
  },
  {
   "cell_type": "code",
   "execution_count": 27,
   "id": "f025a8ca",
   "metadata": {},
   "outputs": [],
   "source": [
    "sto = SMOTETomek(sampling_strategy = 1, \n",
    "                 smote = smo,\n",
    "                 tomek = tom,\n",
    "                 n_jobs = -1)"
   ]
  },
  {
   "cell_type": "markdown",
   "id": "b9092cad",
   "metadata": {},
   "source": [
    "#### Entrenar y aplicar el SMOTE-Tomek"
   ]
  },
  {
   "cell_type": "code",
   "execution_count": 28,
   "id": "02886423",
   "metadata": {},
   "outputs": [],
   "source": [
    "x_sto, y_sto = sto.fit_resample(x,y)"
   ]
  },
  {
   "cell_type": "markdown",
   "id": "75cffb40",
   "metadata": {},
   "source": [
    "#### Crear train y test"
   ]
  },
  {
   "cell_type": "code",
   "execution_count": 29,
   "id": "ba957ceb",
   "metadata": {},
   "outputs": [],
   "source": [
    "train_x_sto,test_x_sto,train_y_sto,test_y_sto = train_test_split(x_sto,y_sto,test_size=0.3)"
   ]
  },
  {
   "cell_type": "markdown",
   "id": "ab121c20",
   "metadata": {},
   "source": [
    "#### Instanciar el modelo"
   ]
  },
  {
   "cell_type": "code",
   "execution_count": 30,
   "id": "fd476981",
   "metadata": {},
   "outputs": [],
   "source": [
    "rl_sto = LogisticRegression(n_jobs = -1)"
   ]
  },
  {
   "cell_type": "markdown",
   "id": "b2473ca6",
   "metadata": {},
   "source": [
    "#### Entrenar"
   ]
  },
  {
   "cell_type": "code",
   "execution_count": 31,
   "id": "ba03d854",
   "metadata": {},
   "outputs": [
    {
     "data": {
      "text/plain": [
       "LogisticRegression(n_jobs=-1)"
      ]
     },
     "execution_count": 31,
     "metadata": {},
     "output_type": "execute_result"
    }
   ],
   "source": [
    "rl_sto.fit(train_x_sto,train_y_sto)"
   ]
  },
  {
   "cell_type": "markdown",
   "id": "81d113ea",
   "metadata": {},
   "source": [
    "#### Aplicar"
   ]
  },
  {
   "cell_type": "code",
   "execution_count": 32,
   "id": "685d603c",
   "metadata": {},
   "outputs": [],
   "source": [
    "pred_rl_sto = rl_sto.predict_proba(test_x)[:,1]"
   ]
  },
  {
   "cell_type": "markdown",
   "id": "e39a2d5d",
   "metadata": {},
   "source": [
    "#### Evaluar"
   ]
  },
  {
   "cell_type": "code",
   "execution_count": 33,
   "id": "ad4f8660",
   "metadata": {},
   "outputs": [
    {
     "data": {
      "text/plain": [
       "0.7484954311992356"
      ]
     },
     "execution_count": 33,
     "metadata": {},
     "output_type": "execute_result"
    }
   ],
   "source": [
    "roc_rl_sto = roc_auc_score(test_y, pred_rl_sto)\n",
    "\n",
    "roc_rl_sto"
   ]
  },
  {
   "cell_type": "markdown",
   "id": "87434e0c",
   "metadata": {},
   "source": [
    "## GUARDAR DATASET TRAS PRESELECCION DE VARIABLES"
   ]
  },
  {
   "cell_type": "markdown",
   "id": "7656ba95",
   "metadata": {},
   "source": [
    "Descomentar el método de balanceo elegido y dejar comentados el resto."
   ]
  },
  {
   "cell_type": "code",
   "execution_count": 37,
   "id": "c5112d5d",
   "metadata": {},
   "outputs": [],
   "source": [
    "x_final = x\n",
    "y_final = y\n",
    "\n",
    "# x_final = x_rus\n",
    "# y_final = y_rus\n",
    "\n",
    "# x_final = x_ros\n",
    "# y_final = y_ros\n",
    "\n",
    "# x_final = x_sto\n",
    "# y_final = y_sto"
   ]
  },
  {
   "cell_type": "code",
   "execution_count": 38,
   "id": "782bf43c",
   "metadata": {},
   "outputs": [],
   "source": [
    "#Definir los nombres de los archivos\n",
    "nombre_x_final = ruta_proyecto + '/02_Datos/03_Trabajo/' + 'x_final.pickle'\n",
    "nombre_y_final = ruta_proyecto + '/02_Datos/03_Trabajo/' + 'y_final.pickle'"
   ]
  },
  {
   "cell_type": "code",
   "execution_count": 39,
   "id": "44c7dd60",
   "metadata": {},
   "outputs": [],
   "source": [
    "#Guardar los archivos\n",
    "x_final.to_pickle(nombre_x_final)\n",
    "y_final.to_pickle(nombre_y_final)"
   ]
  }
 ],
 "metadata": {
  "kernelspec": {
   "display_name": "Python 3 (ipykernel)",
   "language": "python",
   "name": "python3"
  },
  "language_info": {
   "codemirror_mode": {
    "name": "ipython",
    "version": 3
   },
   "file_extension": ".py",
   "mimetype": "text/x-python",
   "name": "python",
   "nbconvert_exporter": "python",
   "pygments_lexer": "ipython3",
   "version": "3.7.11"
  },
  "toc": {
   "base_numbering": 1,
   "nav_menu": {},
   "number_sections": true,
   "sideBar": true,
   "skip_h1_title": false,
   "title_cell": "Table of Contents",
   "title_sidebar": "Contents",
   "toc_cell": false,
   "toc_position": {
    "height": "calc(100% - 180px)",
    "left": "10px",
    "top": "150px",
    "width": "302.35px"
   },
   "toc_section_display": true,
   "toc_window_display": true
  },
  "varInspector": {
   "cols": {
    "lenName": 16,
    "lenType": 16,
    "lenVar": 40
   },
   "kernels_config": {
    "python": {
     "delete_cmd_postfix": "",
     "delete_cmd_prefix": "del ",
     "library": "var_list.py",
     "varRefreshCmd": "print(var_dic_list())"
    },
    "r": {
     "delete_cmd_postfix": ") ",
     "delete_cmd_prefix": "rm(",
     "library": "var_list.r",
     "varRefreshCmd": "cat(var_dic_list()) "
    }
   },
   "position": {
    "height": "546.85px",
    "left": "1531.75px",
    "right": "20px",
    "top": "115px",
    "width": "350px"
   },
   "types_to_exclude": [
    "module",
    "function",
    "builtin_function_or_method",
    "instance",
    "_Feature"
   ],
   "window_display": true
  }
 },
 "nbformat": 4,
 "nbformat_minor": 5
}
