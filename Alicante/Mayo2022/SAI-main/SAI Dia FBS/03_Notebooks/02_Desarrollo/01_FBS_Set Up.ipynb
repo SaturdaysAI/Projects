{
 "cells": [
  {
   "cell_type": "markdown",
   "id": "88094b04",
   "metadata": {},
   "source": [
    "# SET UP"
   ]
  },
  {
   "cell_type": "markdown",
   "id": "2cc6b0de",
   "metadata": {},
   "source": [
    "## CREAR EL ENTORNO PARA EL PROYECTO"
   ]
  },
  {
   "cell_type": "markdown",
   "id": "ec2c52fc",
   "metadata": {},
   "source": [
    "Crear un nuevo entorno e instalar los paquetes básicos:\n",
    "\n",
    "1. Ir al prompt o terminal\n",
    "2. Copiar y poner la línea inferior:\n",
    "\n",
    "conda create --name proyecto1 python numpy pandas matplotlib seaborn scikit-learn scipy sqlalchemy xgboost jupyter\n",
    "\n",
    "3. Activar el nuevo entorno:\n",
    "\n",
    "conda activate proyecto1\n",
    "\n",
    "4. Instalar los paquetes que están en otros canales:\n",
    "\n",
    "conda install -c conda-forge pyjanitor scikit-plot yellowbrick imbalanced-learn jupyter_contrib_nbextensions cloudpickle\n",
    "\n",
    "conda install -c districtdatalabs yellowbrick\n",
    "\n",
    "pip install category_encoders\n",
    "\n",
    "5. Crear el environment.yml\n",
    "\n",
    "conda env export > proyecto1.yml\n",
    "\n",
    "*Nota: es posible que te lo haya creado en C:\\Users\\tu_usuario, más adelante moveremos este archivo al directorio del proyecto*"
   ]
  },
  {
   "cell_type": "markdown",
   "id": "234469e4",
   "metadata": {},
   "source": [
    "## IMPORTAR PAQUETES"
   ]
  },
  {
   "cell_type": "code",
   "execution_count": 1,
   "id": "18dab684",
   "metadata": {},
   "outputs": [],
   "source": [
    "import os\n",
    "import numpy as np\n",
    "import pandas as pd\n",
    "\n",
    "#Automcompletar rápido\n",
    "%config IPCompleter.greedy=True"
   ]
  },
  {
   "cell_type": "markdown",
   "id": "aa2291ac",
   "metadata": {},
   "source": [
    "## CREAR EL DIRECTORIO DEL PROYECTO"
   ]
  },
  {
   "cell_type": "markdown",
   "id": "9b376a0e",
   "metadata": {},
   "source": [
    "### Definir el directorio raiz donde vamos a crear el proyecto"
   ]
  },
  {
   "cell_type": "code",
   "execution_count": 2,
   "id": "ff896569",
   "metadata": {},
   "outputs": [],
   "source": [
    "raiz = 'C:\\\\Users\\\\Usuario\\\\miniconda3\\\\SAI Dia '"
   ]
  },
  {
   "cell_type": "markdown",
   "id": "ded3d58c",
   "metadata": {},
   "source": [
    "### Definir el nombre del proyecto"
   ]
  },
  {
   "cell_type": "code",
   "execution_count": 3,
   "id": "3b7dece1",
   "metadata": {},
   "outputs": [],
   "source": [
    "nombre_dir = 'FBS'"
   ]
  },
  {
   "cell_type": "markdown",
   "id": "e98c881a",
   "metadata": {},
   "source": [
    "### Crear el directorio y la estructura del proyecto"
   ]
  },
  {
   "cell_type": "code",
   "execution_count": 4,
   "id": "ea789940",
   "metadata": {},
   "outputs": [
    {
     "name": "stdout",
     "output_type": "stream",
     "text": [
      "La creación del directorio C:\\Users\\Usuario\\miniconda3\\SAI Dia FBS ha fallado\n"
     ]
    }
   ],
   "source": [
    "path = raiz + nombre_dir\n",
    "\n",
    "try:\n",
    "    os.mkdir(path)\n",
    "    os.mkdir(path + '/01_Documentos')\n",
    "    os.mkdir(path + '/02_Datos')\n",
    "    os.mkdir(path + '/02_Datos/01_Originales')\n",
    "    os.mkdir(path + '/02_Datos/02_Validacion')\n",
    "    os.mkdir(path + '/02_Datos/03_Trabajo')\n",
    "    os.mkdir(path + '/02_Datos/04_Caches')\n",
    "    os.mkdir(path + '/03_Notebooks')\n",
    "    os.mkdir(path + '/03_Notebooks/01_Funciones')\n",
    "    os.mkdir(path + '/03_Notebooks/02_Desarrollo')\n",
    "    os.mkdir(path + '/03_Notebooks/03_Sistema')\n",
    "    os.mkdir(path + '/04_Modelos')\n",
    "    os.mkdir(path + '/05_Resultados')\n",
    "    os.mkdir(path + '/09_Otros')\n",
    "    \n",
    "except OSError:\n",
    "    print (\"La creación del directorio %s ha fallado\" % path)\n",
    "else:\n",
    "    print (\"Se ha creado satisfactoriamente el directorio %s \" % path)"
   ]
  },
  {
   "cell_type": "markdown",
   "id": "fbdda974",
   "metadata": {},
   "source": [
    "### Situar el directorio de trabajo en el proyecto"
   ]
  },
  {
   "cell_type": "code",
   "execution_count": 5,
   "id": "6cf7027a",
   "metadata": {},
   "outputs": [],
   "source": [
    "os.chdir(path)"
   ]
  },
  {
   "cell_type": "code",
   "execution_count": 6,
   "id": "3cc49d92",
   "metadata": {},
   "outputs": [
    {
     "data": {
      "text/plain": [
       "['01_Documentos',\n",
       " '02_Datos',\n",
       " '03_Notebooks',\n",
       " '04_Modelos',\n",
       " '05_Resultados',\n",
       " '09_Otros']"
      ]
     },
     "execution_count": 6,
     "metadata": {},
     "output_type": "execute_result"
    }
   ],
   "source": [
    "os.listdir(path)"
   ]
  },
  {
   "cell_type": "markdown",
   "id": "c80bcf5b",
   "metadata": {},
   "source": [
    "### Mover el environment.yml"
   ]
  },
  {
   "cell_type": "markdown",
   "id": "5cfd72fa",
   "metadata": {},
   "source": [
    "Buscar manualmente el archivo proyecto1.yml, que posiblemente lo haya ubicado en C:\\Users\\tu_usuario y moverlo a la carpeta /01_Documentos'"
   ]
  },
  {
   "cell_type": "markdown",
   "id": "eaae5ba8",
   "metadata": {},
   "source": [
    "## CREAR LOS DATASETS INICIALES"
   ]
  },
  {
   "cell_type": "markdown",
   "id": "18e327d2",
   "metadata": {},
   "source": [
    "Poner los datos originales en la carpeta '/02_Datos/01_Originales'"
   ]
  },
  {
   "cell_type": "markdown",
   "id": "7e6b4179",
   "metadata": {},
   "source": [
    "### Importar los datos"
   ]
  },
  {
   "cell_type": "markdown",
   "id": "a0aada6d",
   "metadata": {},
   "source": [
    "Sustituir el nombre_fichero_datos."
   ]
  },
  {
   "cell_type": "code",
   "execution_count": 7,
   "id": "a991faf3",
   "metadata": {},
   "outputs": [],
   "source": [
    "nombre_fichero_datos = 'ofertas_empleo.csv'"
   ]
  },
  {
   "cell_type": "markdown",
   "id": "6f69525e",
   "metadata": {},
   "source": [
    "Cargar los datos."
   ]
  },
  {
   "cell_type": "code",
   "execution_count": 8,
   "id": "0af0f484",
   "metadata": {},
   "outputs": [
    {
     "data": {
      "text/html": [
       "<div>\n",
       "<style scoped>\n",
       "    .dataframe tbody tr th:only-of-type {\n",
       "        vertical-align: middle;\n",
       "    }\n",
       "\n",
       "    .dataframe tbody tr th {\n",
       "        vertical-align: top;\n",
       "    }\n",
       "\n",
       "    .dataframe thead th {\n",
       "        text-align: right;\n",
       "    }\n",
       "</style>\n",
       "<table border=\"1\" class=\"dataframe\">\n",
       "  <thead>\n",
       "    <tr style=\"text-align: right;\">\n",
       "      <th></th>\n",
       "      <th>Unnamed: 0</th>\n",
       "      <th>ID</th>\n",
       "      <th>LINK</th>\n",
       "      <th>CNO</th>\n",
       "      <th>TITULO OFERTA</th>\n",
       "      <th>DETALLE OFERTA</th>\n",
       "      <th>FIN OFERTA</th>\n",
       "      <th>EMPRESA OFERTA</th>\n",
       "      <th>CABECERA</th>\n",
       "    </tr>\n",
       "  </thead>\n",
       "  <tbody>\n",
       "    <tr>\n",
       "      <th>0</th>\n",
       "      <td>0</td>\n",
       "      <td>1765454317</td>\n",
       "      <td>https://www.empleate.gob.es/empleo/#/oferta/17...</td>\n",
       "      <td>7312</td>\n",
       "      <td>Oficial de primera soldador para soto del real...</td>\n",
       "      <td>Transfesa Logistics, multinacional de logístic...</td>\n",
       "      <td>24/03/2022</td>\n",
       "      <td>TRANSFESA LOGISTICS</td>\n",
       "      <td>Metal/mecánica -\\r\\nSoldadura/calderería/chapa...</td>\n",
       "    </tr>\n",
       "    <tr>\n",
       "      <th>1</th>\n",
       "      <td>1</td>\n",
       "      <td>1763261290</td>\n",
       "      <td>https://www.empleate.gob.es/empleo/#/oferta/17...</td>\n",
       "      <td>3329</td>\n",
       "      <td>Gerocultor/a</td>\n",
       "      <td>Aseo e higiene, alimentación, cambios postural...</td>\n",
       "      <td>2022-08-02 00:00:00</td>\n",
       "      <td>Intercentros Ballesol, S.A</td>\n",
       "      <td>Salud/deporte -\\r\\nEnfermería\\r\\nTécnicos De L...</td>\n",
       "    </tr>\n",
       "    <tr>\n",
       "      <th>2</th>\n",
       "      <td>2</td>\n",
       "      <td>1765787917</td>\n",
       "      <td>https://www.empleate.gob.es/empleo/#/oferta/17...</td>\n",
       "      <td>4500</td>\n",
       "      <td>Auxiliar administrativa recepcionista</td>\n",
       "      <td>Atención presencial: acogida y orientación de ...</td>\n",
       "      <td>31/03/2022</td>\n",
       "      <td>IRITEB SL</td>\n",
       "      <td>Salud/deporte -\\r\\nFisioterapia/deporte/manten...</td>\n",
       "    </tr>\n",
       "    <tr>\n",
       "      <th>3</th>\n",
       "      <td>3</td>\n",
       "      <td>1764206303</td>\n",
       "      <td>https://www.empleate.gob.es/empleo/#/oferta/17...</td>\n",
       "      <td>2923</td>\n",
       "      <td>Traductor italiano</td>\n",
       "      <td>Nozama Solutions somos la plataforma de gestió...</td>\n",
       "      <td>28/02/2022</td>\n",
       "      <td>Nozama Solutions</td>\n",
       "      <td>Administración -\\r\\nAdministrativos\\r\\nFilólog...</td>\n",
       "    </tr>\n",
       "    <tr>\n",
       "      <th>4</th>\n",
       "      <td>4</td>\n",
       "      <td>1763217793</td>\n",
       "      <td>https://www.empleate.gob.es/empleo/#/oferta/17...</td>\n",
       "      <td>5220</td>\n",
       "      <td>Se necesita ayudante de dependienta</td>\n",
       "      <td>Horario partido de comercio en centro Madrid</td>\n",
       "      <td>2022-07-02 00:00:00</td>\n",
       "      <td>Fritos El Cisne SL</td>\n",
       "      <td>Agricultura/jardinería/alimentación -\\r\\nConse...</td>\n",
       "    </tr>\n",
       "    <tr>\n",
       "      <th>...</th>\n",
       "      <td>...</td>\n",
       "      <td>...</td>\n",
       "      <td>...</td>\n",
       "      <td>...</td>\n",
       "      <td>...</td>\n",
       "      <td>...</td>\n",
       "      <td>...</td>\n",
       "      <td>...</td>\n",
       "      <td>...</td>\n",
       "    </tr>\n",
       "    <tr>\n",
       "      <th>11785</th>\n",
       "      <td>11785</td>\n",
       "      <td>1764647727</td>\n",
       "      <td>https://www.empleate.gob.es/empleo/#/oferta/17...</td>\n",
       "      <td>CNO no informado</td>\n",
       "      <td>Work/location</td>\n",
       "      <td>EYTON ES UNA MULTINACIONAL FRANCESA LÍDER ESPE...</td>\n",
       "      <td>2022-08-03 00:00:00</td>\n",
       "      <td>NaN</td>\n",
       "      <td>Dependientes/información -\\r\\nTeleoperadores\\r...</td>\n",
       "    </tr>\n",
       "    <tr>\n",
       "      <th>11786</th>\n",
       "      <td>11786</td>\n",
       "      <td>1764696417</td>\n",
       "      <td>https://www.empleate.gob.es/empleo/#/oferta/17...</td>\n",
       "      <td>CNO no informado</td>\n",
       "      <td>Work/location</td>\n",
       "      <td>ESDE BARNALABOR MARTORELL SELECCIONAMOS PARA M...</td>\n",
       "      <td>2022-09-03 00:00:00</td>\n",
       "      <td>NaN</td>\n",
       "      <td>Construcción -\\r\\nGrúas/excavadoras/maquinaria...</td>\n",
       "    </tr>\n",
       "    <tr>\n",
       "      <th>11787</th>\n",
       "      <td>11787</td>\n",
       "      <td>1756654345</td>\n",
       "      <td>https://www.empleate.gob.es/empleo/#/oferta/17...</td>\n",
       "      <td>5812</td>\n",
       "      <td>Esteticista,manicurista</td>\n",
       "      <td>Se requiere Esteticista,manicurista</td>\n",
       "      <td>14/09/2021</td>\n",
       "      <td>NaN</td>\n",
       "      <td>Peluquería/estética -\\r\\nEstética\\r\\nEspeciali...</td>\n",
       "    </tr>\n",
       "    <tr>\n",
       "      <th>11788</th>\n",
       "      <td>11788</td>\n",
       "      <td>1764696096</td>\n",
       "      <td>https://www.empleate.gob.es/empleo/#/oferta/17...</td>\n",
       "      <td>8432</td>\n",
       "      <td>Conductores-operadores de camión volquete</td>\n",
       "      <td>SE BUSCA CONDUCTOR CAMIÓN / SECTOR CONSTRUCCIÓ...</td>\n",
       "      <td>2022-02-03 00:00:00</td>\n",
       "      <td>NaN</td>\n",
       "      <td>Construcción -\\r\\nGrúas/excavadoras/maquinaria...</td>\n",
       "    </tr>\n",
       "    <tr>\n",
       "      <th>11789</th>\n",
       "      <td>11789</td>\n",
       "      <td>1764647866</td>\n",
       "      <td>https://www.empleate.gob.es/empleo/#/oferta/17...</td>\n",
       "      <td>CNO no informado</td>\n",
       "      <td>Work/location</td>\n",
       "      <td>BUSQUEM UNA PERSONA POLIVALENT PER TREBALLAR D...</td>\n",
       "      <td>2022-08-03 00:00:00</td>\n",
       "      <td>NaN</td>\n",
       "      <td>Conductores/transporte -\\r\\nMensajería\\r\\nPeti...</td>\n",
       "    </tr>\n",
       "  </tbody>\n",
       "</table>\n",
       "<p>11790 rows × 9 columns</p>\n",
       "</div>"
      ],
      "text/plain": [
       "       Unnamed: 0          ID  \\\n",
       "0               0  1765454317   \n",
       "1               1  1763261290   \n",
       "2               2  1765787917   \n",
       "3               3  1764206303   \n",
       "4               4  1763217793   \n",
       "...           ...         ...   \n",
       "11785       11785  1764647727   \n",
       "11786       11786  1764696417   \n",
       "11787       11787  1756654345   \n",
       "11788       11788  1764696096   \n",
       "11789       11789  1764647866   \n",
       "\n",
       "                                                    LINK               CNO  \\\n",
       "0      https://www.empleate.gob.es/empleo/#/oferta/17...              7312   \n",
       "1      https://www.empleate.gob.es/empleo/#/oferta/17...              3329   \n",
       "2      https://www.empleate.gob.es/empleo/#/oferta/17...              4500   \n",
       "3      https://www.empleate.gob.es/empleo/#/oferta/17...              2923   \n",
       "4      https://www.empleate.gob.es/empleo/#/oferta/17...              5220   \n",
       "...                                                  ...               ...   \n",
       "11785  https://www.empleate.gob.es/empleo/#/oferta/17...  CNO no informado   \n",
       "11786  https://www.empleate.gob.es/empleo/#/oferta/17...  CNO no informado   \n",
       "11787  https://www.empleate.gob.es/empleo/#/oferta/17...              5812   \n",
       "11788  https://www.empleate.gob.es/empleo/#/oferta/17...              8432   \n",
       "11789  https://www.empleate.gob.es/empleo/#/oferta/17...  CNO no informado   \n",
       "\n",
       "                                           TITULO OFERTA  \\\n",
       "0      Oficial de primera soldador para soto del real...   \n",
       "1                                           Gerocultor/a   \n",
       "2                  Auxiliar administrativa recepcionista   \n",
       "3                                     Traductor italiano   \n",
       "4                    Se necesita ayudante de dependienta   \n",
       "...                                                  ...   \n",
       "11785                                      Work/location   \n",
       "11786                                      Work/location   \n",
       "11787                            Esteticista,manicurista   \n",
       "11788          Conductores-operadores de camión volquete   \n",
       "11789                                      Work/location   \n",
       "\n",
       "                                          DETALLE OFERTA           FIN OFERTA  \\\n",
       "0      Transfesa Logistics, multinacional de logístic...           24/03/2022   \n",
       "1      Aseo e higiene, alimentación, cambios postural...  2022-08-02 00:00:00   \n",
       "2      Atención presencial: acogida y orientación de ...           31/03/2022   \n",
       "3      Nozama Solutions somos la plataforma de gestió...           28/02/2022   \n",
       "4           Horario partido de comercio en centro Madrid  2022-07-02 00:00:00   \n",
       "...                                                  ...                  ...   \n",
       "11785  EYTON ES UNA MULTINACIONAL FRANCESA LÍDER ESPE...  2022-08-03 00:00:00   \n",
       "11786  ESDE BARNALABOR MARTORELL SELECCIONAMOS PARA M...  2022-09-03 00:00:00   \n",
       "11787                Se requiere Esteticista,manicurista           14/09/2021   \n",
       "11788  SE BUSCA CONDUCTOR CAMIÓN / SECTOR CONSTRUCCIÓ...  2022-02-03 00:00:00   \n",
       "11789  BUSQUEM UNA PERSONA POLIVALENT PER TREBALLAR D...  2022-08-03 00:00:00   \n",
       "\n",
       "                   EMPRESA OFERTA  \\\n",
       "0             TRANSFESA LOGISTICS   \n",
       "1      Intercentros Ballesol, S.A   \n",
       "2                       IRITEB SL   \n",
       "3                Nozama Solutions   \n",
       "4              Fritos El Cisne SL   \n",
       "...                           ...   \n",
       "11785                         NaN   \n",
       "11786                         NaN   \n",
       "11787                         NaN   \n",
       "11788                         NaN   \n",
       "11789                         NaN   \n",
       "\n",
       "                                                CABECERA  \n",
       "0      Metal/mecánica -\\r\\nSoldadura/calderería/chapa...  \n",
       "1      Salud/deporte -\\r\\nEnfermería\\r\\nTécnicos De L...  \n",
       "2      Salud/deporte -\\r\\nFisioterapia/deporte/manten...  \n",
       "3      Administración -\\r\\nAdministrativos\\r\\nFilólog...  \n",
       "4      Agricultura/jardinería/alimentación -\\r\\nConse...  \n",
       "...                                                  ...  \n",
       "11785  Dependientes/información -\\r\\nTeleoperadores\\r...  \n",
       "11786  Construcción -\\r\\nGrúas/excavadoras/maquinaria...  \n",
       "11787  Peluquería/estética -\\r\\nEstética\\r\\nEspeciali...  \n",
       "11788  Construcción -\\r\\nGrúas/excavadoras/maquinaria...  \n",
       "11789  Conductores/transporte -\\r\\nMensajería\\r\\nPeti...  \n",
       "\n",
       "[11790 rows x 9 columns]"
      ]
     },
     "execution_count": 8,
     "metadata": {},
     "output_type": "execute_result"
    }
   ],
   "source": [
    "ruta_completa = path + '/02_Datos/01_Originales/' + nombre_fichero_datos\n",
    "\n",
    "datos = pd.read_csv(ruta_completa, sep=';')\n",
    "datos"
   ]
  },
  {
   "cell_type": "markdown",
   "id": "a4fedb2a",
   "metadata": {},
   "source": [
    "### Extraer y reservar el dataset de validación"
   ]
  },
  {
   "cell_type": "code",
   "execution_count": 9,
   "id": "05d2c9b5",
   "metadata": {},
   "outputs": [],
   "source": [
    "val= datos.sample(frac = 0.3)"
   ]
  },
  {
   "cell_type": "code",
   "execution_count": 10,
   "id": "db654eea",
   "metadata": {},
   "outputs": [],
   "source": [
    "nombre_fichero_validacion = 'validacion.csv'\n",
    "\n",
    "ruta_completa = path + '/02_Datos/02_Validacion/' + nombre_fichero_validacion\n",
    "\n",
    "val.to_csv(ruta_completa)"
   ]
  },
  {
   "cell_type": "markdown",
   "id": "f84e120e",
   "metadata": {},
   "source": [
    "### Extraer y guardar el dataset de trabajo"
   ]
  },
  {
   "cell_type": "code",
   "execution_count": 11,
   "id": "e0ce153c",
   "metadata": {},
   "outputs": [],
   "source": [
    "trabajo = datos.loc[~datos.index.isin(val.index)]"
   ]
  },
  {
   "cell_type": "code",
   "execution_count": 12,
   "id": "dbb79c5f",
   "metadata": {},
   "outputs": [],
   "source": [
    "nombre_fichero_trabajo = 'trabajo.csv'\n",
    "\n",
    "ruta_completa = path + '/02_Datos/03_Trabajo/' + nombre_fichero_trabajo\n",
    "\n",
    "trabajo.to_csv(ruta_completa)"
   ]
  }
 ],
 "metadata": {
  "kernelspec": {
   "display_name": "Python 3 (ipykernel)",
   "language": "python",
   "name": "python3"
  },
  "language_info": {
   "codemirror_mode": {
    "name": "ipython",
    "version": 3
   },
   "file_extension": ".py",
   "mimetype": "text/x-python",
   "name": "python",
   "nbconvert_exporter": "python",
   "pygments_lexer": "ipython3",
   "version": "3.9.7"
  },
  "toc": {
   "base_numbering": 1,
   "nav_menu": {},
   "number_sections": true,
   "sideBar": true,
   "skip_h1_title": false,
   "title_cell": "Table of Contents",
   "title_sidebar": "Contents",
   "toc_cell": false,
   "toc_position": {
    "height": "calc(100% - 180px)",
    "left": "10px",
    "top": "150px",
    "width": "208.9px"
   },
   "toc_section_display": true,
   "toc_window_display": true
  },
  "varInspector": {
   "cols": {
    "lenName": 16,
    "lenType": 16,
    "lenVar": 40
   },
   "kernels_config": {
    "python": {
     "delete_cmd_postfix": "",
     "delete_cmd_prefix": "del ",
     "library": "var_list.py",
     "varRefreshCmd": "print(var_dic_list())"
    },
    "r": {
     "delete_cmd_postfix": ") ",
     "delete_cmd_prefix": "rm(",
     "library": "var_list.r",
     "varRefreshCmd": "cat(var_dic_list()) "
    }
   },
   "types_to_exclude": [
    "module",
    "function",
    "builtin_function_or_method",
    "instance",
    "_Feature"
   ],
   "window_display": false
  }
 },
 "nbformat": 4,
 "nbformat_minor": 5
}
