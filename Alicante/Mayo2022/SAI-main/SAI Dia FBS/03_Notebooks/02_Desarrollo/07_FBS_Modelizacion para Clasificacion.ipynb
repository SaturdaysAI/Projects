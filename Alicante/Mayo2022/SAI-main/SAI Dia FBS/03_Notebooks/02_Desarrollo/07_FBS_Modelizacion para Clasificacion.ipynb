{
 "cells": [
  {
   "cell_type": "markdown",
   "id": "d31dea65",
   "metadata": {},
   "source": [
    "# MODELIZACIÓN PARA CLASIFICACIÓN"
   ]
  },
  {
   "cell_type": "markdown",
   "id": "swiss-fault",
   "metadata": {},
   "source": [
    "## IMPORTAR PAQUETES"
   ]
  },
  {
   "cell_type": "code",
   "execution_count": 81,
   "id": "adjacent-toddler",
   "metadata": {},
   "outputs": [
    {
     "name": "stderr",
     "output_type": "stream",
     "text": [
      "[nltk_data] Downloading package stopwords to\n",
      "[nltk_data]     C:\\Users\\Usuario\\AppData\\Roaming\\nltk_data...\n",
      "[nltk_data]   Package stopwords is already up-to-date!\n"
     ]
    }
   ],
   "source": [
    "import numpy as np\n",
    "import pandas as pd\n",
    "import matplotlib.pyplot as plt\n",
    "#import scikitplot as skplt\n",
    "%matplotlib inline\n",
    "import cloudpickle\n",
    "\n",
    "from sklearn.model_selection import train_test_split\n",
    "\n",
    "#    from sklearn.linear_model import LogisticRegression\n",
    "#    from sklearn.ensemble import RandomForestClassifier\n",
    "#    from xgboost import XGBClassifier\n",
    "from sklearn.ensemble import HistGradientBoostingClassifier\n",
    "from sklearn.pipeline import Pipeline\n",
    "from sklearn.multiclass import OneVsRestClassifier\n",
    "from sklearn.neighbors import KNeighborsClassifier\n",
    "from sklearn.ensemble import GradientBoostingClassifier\n",
    "from sklearn.ensemble import HistGradientBoostingClassifier\n",
    "from sklearn import metrics\n",
    "#    from sklearn.metrics.pairwise import cosine_similarity\n",
    "\n",
    "#    from sklearn.model_selection import GridSearchCV\n",
    "#    from sklearn.model_selection import RandomizedSearchCV\n",
    "\n",
    "from sklearn.metrics import roc_auc_score\n",
    "from sklearn.metrics import confusion_matrix\n",
    "from sklearn.metrics import plot_confusion_matrix\n",
    "from sklearn.metrics import classification_report\n",
    "\n",
    "from sklearn.model_selection import train_test_split\n",
    "from sklearn.feature_extraction.text import TfidfVectorizer\n",
    "\n",
    "from sklearn.metrics import plot_precision_recall_curve\n",
    "import scikitplot as skplt\n",
    "#from yellowbrick.classifier import discrimination_threshold\n",
    "\n",
    "#Autocompletar rápido\n",
    "%config IPCompleter.greedy=True\n",
    "\n",
    "#Desactivar la notación científica\n",
    "pd.options.display.float_format = '{:.2f}'.format\n",
    "\n",
    "import os\n",
    "import re\n",
    "import unidecode\n",
    "import nltk\n",
    "nltk.download('stopwords')\n",
    "from nltk.corpus import stopwords\n",
    "import seaborn as sns\n",
    "sns.set_style('darkgrid')\n",
    "import warnings\n",
    "warnings.filterwarnings('ignore')\n",
    "import re\n",
    "\n",
    "#Desactivar los warnings\n",
    "import warnings\n",
    "warnings.filterwarnings(\"ignore\")"
   ]
  },
  {
   "cell_type": "markdown",
   "id": "graduate-compensation",
   "metadata": {},
   "source": [
    "## IMPORTAR LOS DATOS"
   ]
  },
  {
   "cell_type": "markdown",
   "id": "3a5b94ef",
   "metadata": {},
   "source": [
    "Sustituir la ruta del proyecto."
   ]
  },
  {
   "cell_type": "code",
   "execution_count": 82,
   "id": "f9d2de58",
   "metadata": {},
   "outputs": [],
   "source": [
    "ruta_proyecto = 'C:/Users/Usuario/OneDrive/Documentos/Proyecto Saturdays AI/SAI Dia FBS/'"
   ]
  },
  {
   "cell_type": "markdown",
   "id": "c3363765",
   "metadata": {},
   "source": [
    "Nombres de los ficheros de datos."
   ]
  },
  {
   "cell_type": "code",
   "execution_count": 83,
   "id": "a9e2e04a",
   "metadata": {},
   "outputs": [],
   "source": [
    "nombre = 'df_transf.pickle'"
   ]
  },
  {
   "cell_type": "markdown",
   "id": "b9825018",
   "metadata": {},
   "source": [
    "Cargar los datos."
   ]
  },
  {
   "cell_type": "code",
   "execution_count": 84,
   "id": "cab6ebcd",
   "metadata": {},
   "outputs": [
    {
     "data": {
      "text/html": [
       "<div>\n",
       "<style scoped>\n",
       "    .dataframe tbody tr th:only-of-type {\n",
       "        vertical-align: middle;\n",
       "    }\n",
       "\n",
       "    .dataframe tbody tr th {\n",
       "        vertical-align: top;\n",
       "    }\n",
       "\n",
       "    .dataframe thead th {\n",
       "        text-align: right;\n",
       "    }\n",
       "</style>\n",
       "<table border=\"1\" class=\"dataframe\">\n",
       "  <thead>\n",
       "    <tr style=\"text-align: right;\">\n",
       "      <th></th>\n",
       "      <th>index</th>\n",
       "      <th>id</th>\n",
       "      <th>cno</th>\n",
       "      <th>titulo_oferta</th>\n",
       "      <th>detalle_oferta</th>\n",
       "      <th>empresa_oferta</th>\n",
       "      <th>categoria</th>\n",
       "    </tr>\n",
       "  </thead>\n",
       "  <tbody>\n",
       "    <tr>\n",
       "      <th>0</th>\n",
       "      <td>9</td>\n",
       "      <td>1764985510</td>\n",
       "      <td>5120</td>\n",
       "      <td>camarero experiencia</td>\n",
       "      <td>camarero experiencia jornada completa turnos r...</td>\n",
       "      <td>MARINELA LIVIA CUREAN</td>\n",
       "      <td>hosteleria turismo camareros camareros asalari...</td>\n",
       "    </tr>\n",
       "    <tr>\n",
       "      <th>1</th>\n",
       "      <td>41</td>\n",
       "      <td>1764789141</td>\n",
       "      <td>5120</td>\n",
       "      <td>camarero</td>\n",
       "      <td>servicio sala restaurante</td>\n",
       "      <td>LERA GASTRO S.L.</td>\n",
       "      <td>hosteleria turismo camareros camareros asalari...</td>\n",
       "    </tr>\n",
       "    <tr>\n",
       "      <th>2</th>\n",
       "      <td>46</td>\n",
       "      <td>1764638874</td>\n",
       "      <td>5120</td>\n",
       "      <td>camarera</td>\n",
       "      <td>persona responsable puesto camarera experienci...</td>\n",
       "      <td>THE PHONE STORE SL</td>\n",
       "      <td>hosteleria turismo camareros camareros asalari...</td>\n",
       "    </tr>\n",
       "    <tr>\n",
       "      <th>3</th>\n",
       "      <td>51</td>\n",
       "      <td>1764094498</td>\n",
       "      <td>5120</td>\n",
       "      <td>camarero ingles barra sala</td>\n",
       "      <td>camarero ingles barra sala</td>\n",
       "      <td>PBUK BALSICAS SL</td>\n",
       "      <td>hosteleria turismo camareros camareros asalari...</td>\n",
       "    </tr>\n",
       "    <tr>\n",
       "      <th>4</th>\n",
       "      <td>71</td>\n",
       "      <td>1766018611</td>\n",
       "      <td>5120</td>\n",
       "      <td>ayudante camarero</td>\n",
       "      <td>participar alguna autonomia responsabilidad se...</td>\n",
       "      <td>HOTEL PALMERAS S.A.U</td>\n",
       "      <td>hosteleria turismo camareros camareros asalari...</td>\n",
       "    </tr>\n",
       "  </tbody>\n",
       "</table>\n",
       "</div>"
      ],
      "text/plain": [
       "   index          id   cno               titulo_oferta  \\\n",
       "0      9  1764985510  5120        camarero experiencia   \n",
       "1     41  1764789141  5120                    camarero   \n",
       "2     46  1764638874  5120                    camarera   \n",
       "3     51  1764094498  5120  camarero ingles barra sala   \n",
       "4     71  1766018611  5120           ayudante camarero   \n",
       "\n",
       "                                      detalle_oferta         empresa_oferta  \\\n",
       "0  camarero experiencia jornada completa turnos r...  MARINELA LIVIA CUREAN   \n",
       "1                          servicio sala restaurante       LERA GASTRO S.L.   \n",
       "2  persona responsable puesto camarera experienci...     THE PHONE STORE SL   \n",
       "3                         camarero ingles barra sala       PBUK BALSICAS SL   \n",
       "4  participar alguna autonomia responsabilidad se...   HOTEL PALMERAS S.A.U   \n",
       "\n",
       "                                           categoria  \n",
       "0  hosteleria turismo camareros camareros asalari...  \n",
       "1  hosteleria turismo camareros camareros asalari...  \n",
       "2  hosteleria turismo camareros camareros asalari...  \n",
       "3  hosteleria turismo camareros camareros asalari...  \n",
       "4  hosteleria turismo camareros camareros asalari...  "
      ]
     },
     "execution_count": 84,
     "metadata": {},
     "output_type": "execute_result"
    }
   ],
   "source": [
    "df = pd.read_pickle(ruta_proyecto + '/02_Datos/03_Trabajo/' + nombre)\n",
    "df.head()"
   ]
  },
  {
   "cell_type": "markdown",
   "id": "9790d322",
   "metadata": {},
   "source": [
    "## MODELIZAR"
   ]
  },
  {
   "cell_type": "markdown",
   "id": "54f12309",
   "metadata": {},
   "source": [
    "#### VECTORIZACIÓN DE TEXTOS"
   ]
  },
  {
   "cell_type": "code",
   "execution_count": 85,
   "id": "f0684227",
   "metadata": {},
   "outputs": [],
   "source": [
    "# Vectorizar los textos. \n",
    "\n",
    "Text = df['detalle_oferta'].values\n",
    "Target = df['cno'].values\n",
    "word_vectorizer = TfidfVectorizer(\n",
    "    sublinear_tf=True,\n",
    "    #stop_words='english',\n",
    "    max_features=1500)\n",
    "word_vectorizer.fit(Text)\n",
    "WordFeatures = word_vectorizer.transform(Text)"
   ]
  },
  {
   "cell_type": "markdown",
   "id": "930f685f",
   "metadata": {},
   "source": [
    "### Reservar el dataset de validacion"
   ]
  },
  {
   "cell_type": "code",
   "execution_count": 86,
   "id": "91836199",
   "metadata": {},
   "outputs": [],
   "source": [
    "# Realizamos el la separación nuestro conjunto de datos en Train (80%) y Test(20%)\n",
    "\n",
    "train_x, test_x, train_y, test_y = train_test_split(WordFeatures, Target, random_state=24, test_size=0.2)"
   ]
  },
  {
   "cell_type": "code",
   "execution_count": 87,
   "id": "e556e003",
   "metadata": {},
   "outputs": [
    {
     "data": {
      "text/html": [
       "<style>#sk-container-id-11 {color: black;background-color: white;}#sk-container-id-11 pre{padding: 0;}#sk-container-id-11 div.sk-toggleable {background-color: white;}#sk-container-id-11 label.sk-toggleable__label {cursor: pointer;display: block;width: 100%;margin-bottom: 0;padding: 0.3em;box-sizing: border-box;text-align: center;}#sk-container-id-11 label.sk-toggleable__label-arrow:before {content: \"▸\";float: left;margin-right: 0.25em;color: #696969;}#sk-container-id-11 label.sk-toggleable__label-arrow:hover:before {color: black;}#sk-container-id-11 div.sk-estimator:hover label.sk-toggleable__label-arrow:before {color: black;}#sk-container-id-11 div.sk-toggleable__content {max-height: 0;max-width: 0;overflow: hidden;text-align: left;background-color: #f0f8ff;}#sk-container-id-11 div.sk-toggleable__content pre {margin: 0.2em;color: black;border-radius: 0.25em;background-color: #f0f8ff;}#sk-container-id-11 input.sk-toggleable__control:checked~div.sk-toggleable__content {max-height: 200px;max-width: 100%;overflow: auto;}#sk-container-id-11 input.sk-toggleable__control:checked~label.sk-toggleable__label-arrow:before {content: \"▾\";}#sk-container-id-11 div.sk-estimator input.sk-toggleable__control:checked~label.sk-toggleable__label {background-color: #d4ebff;}#sk-container-id-11 div.sk-label input.sk-toggleable__control:checked~label.sk-toggleable__label {background-color: #d4ebff;}#sk-container-id-11 input.sk-hidden--visually {border: 0;clip: rect(1px 1px 1px 1px);clip: rect(1px, 1px, 1px, 1px);height: 1px;margin: -1px;overflow: hidden;padding: 0;position: absolute;width: 1px;}#sk-container-id-11 div.sk-estimator {font-family: monospace;background-color: #f0f8ff;border: 1px dotted black;border-radius: 0.25em;box-sizing: border-box;margin-bottom: 0.5em;}#sk-container-id-11 div.sk-estimator:hover {background-color: #d4ebff;}#sk-container-id-11 div.sk-parallel-item::after {content: \"\";width: 100%;border-bottom: 1px solid gray;flex-grow: 1;}#sk-container-id-11 div.sk-label:hover label.sk-toggleable__label {background-color: #d4ebff;}#sk-container-id-11 div.sk-serial::before {content: \"\";position: absolute;border-left: 1px solid gray;box-sizing: border-box;top: 0;bottom: 0;left: 50%;z-index: 0;}#sk-container-id-11 div.sk-serial {display: flex;flex-direction: column;align-items: center;background-color: white;padding-right: 0.2em;padding-left: 0.2em;position: relative;}#sk-container-id-11 div.sk-item {position: relative;z-index: 1;}#sk-container-id-11 div.sk-parallel {display: flex;align-items: stretch;justify-content: center;background-color: white;position: relative;}#sk-container-id-11 div.sk-item::before, #sk-container-id-11 div.sk-parallel-item::before {content: \"\";position: absolute;border-left: 1px solid gray;box-sizing: border-box;top: 0;bottom: 0;left: 50%;z-index: -1;}#sk-container-id-11 div.sk-parallel-item {display: flex;flex-direction: column;z-index: 1;position: relative;background-color: white;}#sk-container-id-11 div.sk-parallel-item:first-child::after {align-self: flex-end;width: 50%;}#sk-container-id-11 div.sk-parallel-item:last-child::after {align-self: flex-start;width: 50%;}#sk-container-id-11 div.sk-parallel-item:only-child::after {width: 0;}#sk-container-id-11 div.sk-dashed-wrapped {border: 1px dashed gray;margin: 0 0.4em 0.5em 0.4em;box-sizing: border-box;padding-bottom: 0.4em;background-color: white;}#sk-container-id-11 div.sk-label label {font-family: monospace;font-weight: bold;display: inline-block;line-height: 1.2em;}#sk-container-id-11 div.sk-label-container {text-align: center;}#sk-container-id-11 div.sk-container {/* jupyter's `normalize.less` sets `[hidden] { display: none; }` but bootstrap.min.css set `[hidden] { display: none !important; }` so we also need the `!important` here to be able to override the default hidden behavior on the sphinx rendered scikit-learn.org. See: https://github.com/scikit-learn/scikit-learn/issues/21755 */display: inline-block !important;position: relative;}#sk-container-id-11 div.sk-text-repr-fallback {display: none;}</style><div id=\"sk-container-id-11\" class=\"sk-top-container\"><div class=\"sk-text-repr-fallback\"><pre>OneVsRestClassifier(estimator=KNeighborsClassifier())</pre><b>In a Jupyter environment, please rerun this cell to show the HTML representation or trust the notebook. <br />On GitHub, the HTML representation is unable to render, please try loading this page with nbviewer.org.</b></div><div class=\"sk-container\" hidden><div class=\"sk-item sk-dashed-wrapped\"><div class=\"sk-label-container\"><div class=\"sk-label sk-toggleable\"><input class=\"sk-toggleable__control sk-hidden--visually\" id=\"sk-estimator-id-31\" type=\"checkbox\" ><label for=\"sk-estimator-id-31\" class=\"sk-toggleable__label sk-toggleable__label-arrow\">OneVsRestClassifier</label><div class=\"sk-toggleable__content\"><pre>OneVsRestClassifier(estimator=KNeighborsClassifier())</pre></div></div></div><div class=\"sk-parallel\"><div class=\"sk-parallel-item\"><div class=\"sk-item\"><div class=\"sk-label-container\"><div class=\"sk-label sk-toggleable\"><input class=\"sk-toggleable__control sk-hidden--visually\" id=\"sk-estimator-id-32\" type=\"checkbox\" ><label for=\"sk-estimator-id-32\" class=\"sk-toggleable__label sk-toggleable__label-arrow\">estimator: KNeighborsClassifier</label><div class=\"sk-toggleable__content\"><pre>KNeighborsClassifier()</pre></div></div></div><div class=\"sk-serial\"><div class=\"sk-item\"><div class=\"sk-estimator sk-toggleable\"><input class=\"sk-toggleable__control sk-hidden--visually\" id=\"sk-estimator-id-33\" type=\"checkbox\" ><label for=\"sk-estimator-id-33\" class=\"sk-toggleable__label sk-toggleable__label-arrow\">KNeighborsClassifier</label><div class=\"sk-toggleable__content\"><pre>KNeighborsClassifier()</pre></div></div></div></div></div></div></div></div></div></div>"
      ],
      "text/plain": [
       "OneVsRestClassifier(estimator=KNeighborsClassifier())"
      ]
     },
     "execution_count": 87,
     "metadata": {},
     "output_type": "execute_result"
    }
   ],
   "source": [
    "# Creamos el modelo y lo entrenamos\n",
    "\n",
    "model = OneVsRestClassifier(KNeighborsClassifier())\n",
    "model.fit(train_x, train_y)"
   ]
  },
  {
   "cell_type": "code",
   "execution_count": 88,
   "id": "f2fdd410",
   "metadata": {},
   "outputs": [
    {
     "data": {
      "text/html": [
       "<style>#sk-container-id-12 {color: black;background-color: white;}#sk-container-id-12 pre{padding: 0;}#sk-container-id-12 div.sk-toggleable {background-color: white;}#sk-container-id-12 label.sk-toggleable__label {cursor: pointer;display: block;width: 100%;margin-bottom: 0;padding: 0.3em;box-sizing: border-box;text-align: center;}#sk-container-id-12 label.sk-toggleable__label-arrow:before {content: \"▸\";float: left;margin-right: 0.25em;color: #696969;}#sk-container-id-12 label.sk-toggleable__label-arrow:hover:before {color: black;}#sk-container-id-12 div.sk-estimator:hover label.sk-toggleable__label-arrow:before {color: black;}#sk-container-id-12 div.sk-toggleable__content {max-height: 0;max-width: 0;overflow: hidden;text-align: left;background-color: #f0f8ff;}#sk-container-id-12 div.sk-toggleable__content pre {margin: 0.2em;color: black;border-radius: 0.25em;background-color: #f0f8ff;}#sk-container-id-12 input.sk-toggleable__control:checked~div.sk-toggleable__content {max-height: 200px;max-width: 100%;overflow: auto;}#sk-container-id-12 input.sk-toggleable__control:checked~label.sk-toggleable__label-arrow:before {content: \"▾\";}#sk-container-id-12 div.sk-estimator input.sk-toggleable__control:checked~label.sk-toggleable__label {background-color: #d4ebff;}#sk-container-id-12 div.sk-label input.sk-toggleable__control:checked~label.sk-toggleable__label {background-color: #d4ebff;}#sk-container-id-12 input.sk-hidden--visually {border: 0;clip: rect(1px 1px 1px 1px);clip: rect(1px, 1px, 1px, 1px);height: 1px;margin: -1px;overflow: hidden;padding: 0;position: absolute;width: 1px;}#sk-container-id-12 div.sk-estimator {font-family: monospace;background-color: #f0f8ff;border: 1px dotted black;border-radius: 0.25em;box-sizing: border-box;margin-bottom: 0.5em;}#sk-container-id-12 div.sk-estimator:hover {background-color: #d4ebff;}#sk-container-id-12 div.sk-parallel-item::after {content: \"\";width: 100%;border-bottom: 1px solid gray;flex-grow: 1;}#sk-container-id-12 div.sk-label:hover label.sk-toggleable__label {background-color: #d4ebff;}#sk-container-id-12 div.sk-serial::before {content: \"\";position: absolute;border-left: 1px solid gray;box-sizing: border-box;top: 0;bottom: 0;left: 50%;z-index: 0;}#sk-container-id-12 div.sk-serial {display: flex;flex-direction: column;align-items: center;background-color: white;padding-right: 0.2em;padding-left: 0.2em;position: relative;}#sk-container-id-12 div.sk-item {position: relative;z-index: 1;}#sk-container-id-12 div.sk-parallel {display: flex;align-items: stretch;justify-content: center;background-color: white;position: relative;}#sk-container-id-12 div.sk-item::before, #sk-container-id-12 div.sk-parallel-item::before {content: \"\";position: absolute;border-left: 1px solid gray;box-sizing: border-box;top: 0;bottom: 0;left: 50%;z-index: -1;}#sk-container-id-12 div.sk-parallel-item {display: flex;flex-direction: column;z-index: 1;position: relative;background-color: white;}#sk-container-id-12 div.sk-parallel-item:first-child::after {align-self: flex-end;width: 50%;}#sk-container-id-12 div.sk-parallel-item:last-child::after {align-self: flex-start;width: 50%;}#sk-container-id-12 div.sk-parallel-item:only-child::after {width: 0;}#sk-container-id-12 div.sk-dashed-wrapped {border: 1px dashed gray;margin: 0 0.4em 0.5em 0.4em;box-sizing: border-box;padding-bottom: 0.4em;background-color: white;}#sk-container-id-12 div.sk-label label {font-family: monospace;font-weight: bold;display: inline-block;line-height: 1.2em;}#sk-container-id-12 div.sk-label-container {text-align: center;}#sk-container-id-12 div.sk-container {/* jupyter's `normalize.less` sets `[hidden] { display: none; }` but bootstrap.min.css set `[hidden] { display: none !important; }` so we also need the `!important` here to be able to override the default hidden behavior on the sphinx rendered scikit-learn.org. See: https://github.com/scikit-learn/scikit-learn/issues/21755 */display: inline-block !important;position: relative;}#sk-container-id-12 div.sk-text-repr-fallback {display: none;}</style><div id=\"sk-container-id-12\" class=\"sk-top-container\"><div class=\"sk-text-repr-fallback\"><pre>OneVsRestClassifier(estimator=GradientBoostingClassifier())</pre><b>In a Jupyter environment, please rerun this cell to show the HTML representation or trust the notebook. <br />On GitHub, the HTML representation is unable to render, please try loading this page with nbviewer.org.</b></div><div class=\"sk-container\" hidden><div class=\"sk-item sk-dashed-wrapped\"><div class=\"sk-label-container\"><div class=\"sk-label sk-toggleable\"><input class=\"sk-toggleable__control sk-hidden--visually\" id=\"sk-estimator-id-34\" type=\"checkbox\" ><label for=\"sk-estimator-id-34\" class=\"sk-toggleable__label sk-toggleable__label-arrow\">OneVsRestClassifier</label><div class=\"sk-toggleable__content\"><pre>OneVsRestClassifier(estimator=GradientBoostingClassifier())</pre></div></div></div><div class=\"sk-parallel\"><div class=\"sk-parallel-item\"><div class=\"sk-item\"><div class=\"sk-label-container\"><div class=\"sk-label sk-toggleable\"><input class=\"sk-toggleable__control sk-hidden--visually\" id=\"sk-estimator-id-35\" type=\"checkbox\" ><label for=\"sk-estimator-id-35\" class=\"sk-toggleable__label sk-toggleable__label-arrow\">estimator: GradientBoostingClassifier</label><div class=\"sk-toggleable__content\"><pre>GradientBoostingClassifier()</pre></div></div></div><div class=\"sk-serial\"><div class=\"sk-item\"><div class=\"sk-estimator sk-toggleable\"><input class=\"sk-toggleable__control sk-hidden--visually\" id=\"sk-estimator-id-36\" type=\"checkbox\" ><label for=\"sk-estimator-id-36\" class=\"sk-toggleable__label sk-toggleable__label-arrow\">GradientBoostingClassifier</label><div class=\"sk-toggleable__content\"><pre>GradientBoostingClassifier()</pre></div></div></div></div></div></div></div></div></div></div>"
      ],
      "text/plain": [
       "OneVsRestClassifier(estimator=GradientBoostingClassifier())"
      ]
     },
     "execution_count": 88,
     "metadata": {},
     "output_type": "execute_result"
    }
   ],
   "source": [
    "model_GBM = OneVsRestClassifier(GradientBoostingClassifier())\n",
    "\n",
    "model_GBM.fit(train_x, train_y)"
   ]
  },
  {
   "cell_type": "code",
   "execution_count": 89,
   "id": "e97959da",
   "metadata": {},
   "outputs": [],
   "source": [
    "nombre_model_ejecucion = 'model_GBM.pkl'"
   ]
  },
  {
   "cell_type": "code",
   "execution_count": 90,
   "id": "72bd0db5",
   "metadata": {},
   "outputs": [],
   "source": [
    "ruta_model_ejecucion = ruta_proyecto + '/04_Modelos/' + nombre_model_ejecucion\n",
    "with open(ruta_model_ejecucion, mode='wb') as file:\n",
    "    cloudpickle.dump(model_GBM, file)"
   ]
  },
  {
   "cell_type": "code",
   "execution_count": 91,
   "id": "2ffe9dff",
   "metadata": {},
   "outputs": [],
   "source": [
    "# model_HGBM = HistGradientBoostingClassifier()\n",
    "\n",
    "# model_HGBM.fit(train_x, train_y)"
   ]
  },
  {
   "cell_type": "code",
   "execution_count": 92,
   "id": "23e129a9",
   "metadata": {},
   "outputs": [
    {
     "data": {
      "text/plain": [
       "array(['3811', '5120', '3820', '5120', '5120', '3820', '3811', '3811',\n",
       "       '5120', '5120', '5120', '3811', '3811', '3820', '2461', '2461',\n",
       "       '3811', '3811', '5120', '2461', '3811', '2461', '3820', '5120',\n",
       "       '2461', '2461', '2461', '5120', '2461', '5120', '3811', '3811',\n",
       "       '3820', '2461', '3811', '2461', '3811', '2461', '3811', '2461',\n",
       "       '3811', '5120', '5120', '3820', '3811', '3811', '2461', '3811',\n",
       "       '3820', '3811', '5120', '3820', '3811', '3811', '5120', '2461',\n",
       "       '5120', '3811', '3811', '2461', '2461', '3820', '3811', '3811',\n",
       "       '3820', '2461', '3811', '3811', '3811', '3820', '2461', '5120',\n",
       "       '3811', '2461', '3811', '3811', '5120', '3820', '3811', '3811',\n",
       "       '3811', '5120', '5120', '2461', '5120', '3811', '2461', '3811',\n",
       "       '3811', '5120', '5120', '5120', '3811', '3811', '3811', '3811',\n",
       "       '2461', '3820', '5120', '3820', '3811', '3811', '5120', '3811',\n",
       "       '3820', '3811', '2461', '2461', '3820', '2461', '5120', '3811',\n",
       "       '5120', '5120', '5120', '3811', '2461', '5120', '3820', '3811',\n",
       "       '2461', '3811', '3820', '3811', '3820', '3820', '3820', '3811',\n",
       "       '3820', '2461', '3820', '3811', '3820', '5120', '3811', '2461',\n",
       "       '5120', '2461', '3811', '3811', '2461', '5120', '5120', '3811',\n",
       "       '2461', '3811', '3811', '5120', '3811', '3820', '3820', '2461',\n",
       "       '2461', '5120', '3820', '2461', '3811', '2461', '2461', '5120',\n",
       "       '2461', '2461', '3811', '2461', '3820', '2461', '2461', '3820',\n",
       "       '2461', '2461', '2461', '2461', '3811', '3811', '2461', '2461',\n",
       "       '3820', '3820', '5120', '3811', '3820', '2461', '2461', '3811',\n",
       "       '3820', '3811', '3811', '3811', '3811', '3820', '3811', '5120',\n",
       "       '3811', '5120', '3820', '3811', '2461', '3820', '2461', '3820',\n",
       "       '3811', '3820', '3820', '3811', '3820', '2461', '3820', '3811',\n",
       "       '2461', '3811', '2461', '5120', '3820', '5120', '2461', '3811',\n",
       "       '5120', '2461', '3811', '3820', '3820', '3811', '5120', '5120',\n",
       "       '3811', '2461', '3820', '3811', '3811', '3820', '3811', '3811',\n",
       "       '3811', '3820', '3811', '3820', '3811', '3811', '5120', '2461',\n",
       "       '3811', '3811', '3811', '3811', '3811', '3820', '3811', '3811',\n",
       "       '2461', '3811', '3820', '3811', '5120', '2461', '3811', '3811',\n",
       "       '2461', '5120', '2461', '5120', '3820', '3820', '3820', '3811',\n",
       "       '3811', '5120', '3820', '3820', '3811', '5120', '5120', '3811',\n",
       "       '3820', '3811', '3811', '2461', '2461', '3820', '5120', '3811',\n",
       "       '3820', '3820', '2461', '3820', '2461', '3820', '3820', '3811',\n",
       "       '3811', '5120', '3820', '2461', '5120', '3811', '5120', '3820',\n",
       "       '2461', '3811', '3811', '3820', '3811', '3811', '3811', '3811',\n",
       "       '3820', '3811', '3820', '2461', '3820', '3820', '2461', '3820',\n",
       "       '3811', '3811', '3820', '2461', '3820', '3820', '3811', '3811',\n",
       "       '2461', '3811', '5120', '3820', '3811', '5120', '5120', '3811',\n",
       "       '3811', '3820', '5120', '3811', '5120', '3811', '3811', '3811',\n",
       "       '3811', '3811', '5120', '3811', '2461', '3811', '3820', '2461',\n",
       "       '3820', '3820', '3811', '3820', '3820', '3811', '3811', '3811',\n",
       "       '3811', '2461', '3811', '3811', '2461', '3811', '5120', '2461',\n",
       "       '3811', '3811', '3820', '3820', '3811', '3811', '3811', '3811',\n",
       "       '3811', '5120', '2461', '3811', '3811', '5120', '2461', '3820',\n",
       "       '3820', '3811', '3811', '3820', '3820', '3811', '3820', '3811',\n",
       "       '3820', '2461', '3811', '3811', '5120', '3811', '5120', '3820',\n",
       "       '3811', '3811', '3811', '3820', '3811', '3811', '3811', '3820',\n",
       "       '5120', '3811', '2461', '3811', '5120', '3811', '3811', '2461',\n",
       "       '3820', '3811', '3811', '2461', '3811', '3811', '5120', '3811',\n",
       "       '2461', '3811', '3820', '5120', '5120', '5120', '3811', '3811',\n",
       "       '3811', '2461', '3811', '2461', '3811', '2461', '3820', '3820',\n",
       "       '3820', '3811', '3820', '3820', '3811', '2461', '3811', '3811',\n",
       "       '3811', '3811', '5120', '3811', '2461', '3811', '5120', '3811',\n",
       "       '3811', '3811', '2461', '3811', '2461', '3811', '2461', '3811',\n",
       "       '3811', '3811', '2461', '3811', '3811', '3820', '2461', '3820',\n",
       "       '5120', '2461', '3811', '2461', '3820', '3820', '2461', '2461',\n",
       "       '2461', '3820', '5120', '2461', '3811', '5120', '5120', '5120',\n",
       "       '5120', '3811', '5120', '3820', '2461', '3811', '3820', '3820',\n",
       "       '3820', '3811', '3811', '3811', '3811', '3820', '3811', '3820',\n",
       "       '5120', '3820', '3811', '3820', '2461', '3811', '3811', '3811',\n",
       "       '3811', '3811', '3811', '5120', '3811', '5120', '5120', '3811',\n",
       "       '3811', '3811', '3820', '5120', '3820', '2461', '2461', '3811',\n",
       "       '3811', '2461', '3820', '3820', '3811', '2461', '3811', '2461',\n",
       "       '3820', '3811', '3811', '3820', '3820', '3811', '3820', '3811',\n",
       "       '3811', '3811', '5120', '3811', '3811', '3811', '3820', '2461',\n",
       "       '5120', '5120', '5120', '2461', '3811', '3820', '3811', '2461',\n",
       "       '2461', '2461', '3820', '5120', '5120', '3811', '3811', '2461',\n",
       "       '3820', '3811', '5120', '3811', '5120', '3820', '3811', '2461',\n",
       "       '5120', '3811', '3811', '3820', '3811', '3820', '2461', '3811',\n",
       "       '2461', '3811', '3811', '5120', '2461', '3820', '3811', '3811',\n",
       "       '3820', '3811', '3811', '3811', '3811', '3811', '2461', '3811',\n",
       "       '2461', '5120', '3811', '3811', '2461', '5120', '3811', '2461',\n",
       "       '5120', '3820', '5120', '2461', '3820', '3820', '5120', '2461',\n",
       "       '5120', '3811', '3820', '5120', '3820', '2461', '3820', '3811',\n",
       "       '3811', '2461', '3820', '3811', '2461', '3811', '3820', '5120',\n",
       "       '3811', '2461', '5120', '2461', '3811', '5120', '3820', '3811',\n",
       "       '3811', '5120', '3811', '3811', '2461', '3811', '3820', '3820',\n",
       "       '3811', '3811', '3811', '2461', '2461', '5120', '3811', '3811',\n",
       "       '3811', '3820', '3811', '2461', '3820', '2461', '3811', '3811',\n",
       "       '3811', '3811', '3811', '3811', '2461', '3811', '3820', '2461',\n",
       "       '2461', '3811', '3811', '2461', '5120', '5120', '2461', '3811',\n",
       "       '3811', '3811', '3811', '2461', '2461', '2461', '3820', '3811',\n",
       "       '2461', '2461', '2461', '2461', '2461', '2461', '3811', '3811',\n",
       "       '3811', '2461', '3820', '5120', '5120', '3811', '5120', '3820',\n",
       "       '5120', '2461', '3820', '5120', '3811', '3811', '2461', '3811',\n",
       "       '3820', '3811', '3811', '5120', '5120', '3811', '2461', '2461',\n",
       "       '2461', '3811', '3811', '3820', '2461', '3811', '3811', '2461',\n",
       "       '2461', '3820', '2461', '5120', '3811', '5120', '3820', '5120',\n",
       "       '2461', '5120', '2461', '3811', '3811', '2461', '2461', '3811',\n",
       "       '2461', '3811', '2461', '3811'], dtype=object)"
      ]
     },
     "execution_count": 92,
     "metadata": {},
     "output_type": "execute_result"
    }
   ],
   "source": [
    "train_y"
   ]
  },
  {
   "cell_type": "code",
   "execution_count": 85,
   "id": "7105f58e",
   "metadata": {},
   "outputs": [],
   "source": [
    "# Realizamos la prediccón para los datos de prueba\n",
    "\n",
    "pred_y = model.predict(test_x)"
   ]
  },
  {
   "cell_type": "code",
   "execution_count": 86,
   "id": "c016681c",
   "metadata": {},
   "outputs": [],
   "source": [
    "pred_y_GBM = model_GBM.predict(test_x)"
   ]
  },
  {
   "cell_type": "code",
   "execution_count": null,
   "id": "c76a8c2c",
   "metadata": {},
   "outputs": [],
   "source": []
  },
  {
   "cell_type": "code",
   "execution_count": 87,
   "id": "67d3cec5",
   "metadata": {},
   "outputs": [
    {
     "name": "stdout",
     "output_type": "stream",
     "text": [
      "---------------------------------\n",
      "| Training Accuracy   : 88.65% |\n",
      "---------------------------------\n",
      "| Validation Accuracy : 78.38% |\n",
      "---------------------------------\n"
     ]
    }
   ],
   "source": [
    "# Obtenemos el accuracy de nuestro modelo en los datos de entrenamiento y de prueba\n",
    "\n",
    "print(f'---------------------------------\\n| Training Accuracy   : {(model.score(train_x, train_y)*100).round(2)}% |')\n",
    "print(f'---------------------------------\\n| Validation Accuracy : {(model.score(test_x, test_y)*100).round(2)}% |\\n---------------------------------')"
   ]
  },
  {
   "cell_type": "code",
   "execution_count": 88,
   "id": "52355bd9",
   "metadata": {},
   "outputs": [
    {
     "name": "stdout",
     "output_type": "stream",
     "text": [
      "---------------------------------\n",
      "| Training Accuracy GBM   : 99.86% |\n",
      "---------------------------------\n",
      "| Validation Accuracy GBM : 85.41% |\n",
      "---------------------------------\n"
     ]
    }
   ],
   "source": [
    "# Obtenemos el accuracy de nuestro modelo en los datos de entrenamiento y de prueba\n",
    "\n",
    "print(f'---------------------------------\\n| Training Accuracy GBM   : {(model_GBM.score(train_x, train_y)*100).round(2)}% |')\n",
    "print(f'---------------------------------\\n| Validation Accuracy GBM : {(model_GBM.score(test_x, test_y)*100).round(2)}% |\\n---------------------------------')"
   ]
  },
  {
   "cell_type": "code",
   "execution_count": 89,
   "id": "bb191d49",
   "metadata": {
    "scrolled": true
   },
   "outputs": [
    {
     "name": "stdout",
     "output_type": "stream",
     "text": [
      "\n",
      " Classification report for classifier OneVsRestClassifier(estimator=GradientBoostingClassifier()):\n",
      "              precision    recall  f1-score   support\n",
      "\n",
      "        2461       0.92      0.90      0.91        40\n",
      "        3811       0.88      0.62      0.73        73\n",
      "        3820       0.57      0.86      0.69        43\n",
      "        5120       0.90      0.93      0.92        29\n",
      "\n",
      "    accuracy                           0.78       185\n",
      "   macro avg       0.82      0.83      0.81       185\n",
      "weighted avg       0.82      0.78      0.79       185\n",
      "\n",
      "\n"
     ]
    }
   ],
   "source": [
    "# Obtenemos conjunto de métricas para nuestro modelo. \n",
    "\n",
    "print(\"\\n Classification report for classifier %s:\\n%s\\n\" % (model_GBM, metrics.classification_report(test_y, pred_y)))"
   ]
  },
  {
   "cell_type": "code",
   "execution_count": 90,
   "id": "0b876eb1",
   "metadata": {},
   "outputs": [
    {
     "name": "stdout",
     "output_type": "stream",
     "text": [
      "\n",
      " Classification report for classifier OneVsRestClassifier(estimator=GradientBoostingClassifier()):\n",
      "              precision    recall  f1-score   support\n",
      "\n",
      "        2461       0.97      0.90      0.94        40\n",
      "        3811       0.78      0.89      0.83        73\n",
      "        3820       0.80      0.74      0.77        43\n",
      "        5120       1.00      0.86      0.93        29\n",
      "\n",
      "    accuracy                           0.85       185\n",
      "   macro avg       0.89      0.85      0.87       185\n",
      "weighted avg       0.86      0.85      0.86       185\n",
      "\n",
      "\n"
     ]
    }
   ],
   "source": [
    "# Obtenemos conjunto de métricas para nuestro modelo. \n",
    "\n",
    "print(\"\\n Classification report for classifier %s:\\n%s\\n\" % (model_GBM, metrics.classification_report(test_y, pred_y_GBM)))"
   ]
  },
  {
   "cell_type": "markdown",
   "id": "166ebc45",
   "metadata": {},
   "source": [
    "### Predición de CNO sobre un nueva entrada de datos. "
   ]
  },
  {
   "cell_type": "code",
   "execution_count": 91,
   "id": "1d2b2146",
   "metadata": {},
   "outputs": [],
   "source": [
    "stop_words_spanish = ['de',\n",
    "'la',\n",
    "'que',\n",
    "'el',\n",
    "'en',\n",
    "'y',\n",
    "'a',\n",
    "'los',\n",
    "'del',\n",
    "'se',\n",
    "'las',\n",
    "'por',\n",
    "'un',\n",
    "'para',\n",
    "'con',\n",
    "'no',\n",
    "'una',\n",
    "'su',\n",
    "'al',\n",
    "'lo',\n",
    "'como',\n",
    "'más',\n",
    "'pero',\n",
    "'sus',\n",
    "'le',\n",
    "'ya',\n",
    "'o',\n",
    "'este',\n",
    "'sí',\n",
    "'porque',\n",
    "'esta',\n",
    "'entre',\n",
    "'cuando',\n",
    "'muy',\n",
    "'sin',\n",
    "'sobre',\n",
    "'también',\n",
    "'me',\n",
    "'hasta',\n",
    "'hay',\n",
    "'donde',\n",
    "'quien',\n",
    "'desde',\n",
    "'todo',\n",
    "'nos',\n",
    "'durante',\n",
    "'todos',\n",
    "'uno',\n",
    "'les',\n",
    "'ni',\n",
    "'contra',\n",
    "'otros',\n",
    "'ese',\n",
    "'eso',\n",
    "'ante',\n",
    "'ellos',\n",
    "'e',\n",
    "'esto',\n",
    "'mí',\n",
    "'antes',\n",
    "'algunos',\n",
    "'qué',\n",
    "'unos',\n",
    "'yo',\n",
    "'otro',\n",
    "'otras',\n",
    "'otra',\n",
    "'él',\n",
    "'tanto',\n",
    "'esa',\n",
    "'estos',\n",
    "'mucho',\n",
    "'quienes',\n",
    "'nada',\n",
    "'muchos',\n",
    "'cual',\n",
    "'poco',\n",
    "'ella',\n",
    "'estar',\n",
    "'estas',\n",
    "'algunas',\n",
    "'algo',\n",
    "'nosotros',\n",
    "'mi',\n",
    "'mis',\n",
    "'tú',\n",
    "'te',\n",
    "'ti',\n",
    "'tu',\n",
    "'tus',\n",
    "'ellas',\n",
    "'nosotras',\n",
    "'vosostros',\n",
    "'vosostras',\n",
    "'os',\n",
    "'mío',\n",
    "'mía',\n",
    "'míos',\n",
    "'mías',\n",
    "'tuyo',\n",
    "'tuya',\n",
    "'tuyos',\n",
    "'tuyas',\n",
    "'suyo',\n",
    "'suya',\n",
    "'suyos',\n",
    "'suyas',\n",
    "'nuestro',\n",
    "'nuestra',\n",
    "'nuestros',\n",
    "'nuestras',\n",
    "'vuestro',\n",
    "'vuestra',\n",
    "'vuestros',\n",
    "'vuestras',\n",
    "'esos',\n",
    "'esas',\n",
    "'estoy',\n",
    "'estás',\n",
    "'está',\n",
    "'estamos',\n",
    "'estáis',\n",
    "'están',\n",
    "'esté',\n",
    "'estés',\n",
    "'estemos',\n",
    "'estéis',\n",
    "'estén',\n",
    "'estaré',\n",
    "'estarás',\n",
    "'estará',\n",
    "'estaremos',\n",
    "'estaréis',\n",
    "'estarán',\n",
    "'estaría',\n",
    "'estarías',\n",
    "'estaríamos',\n",
    "'estaríais',\n",
    "'estarían',\n",
    "'estaba',\n",
    "'estabas',\n",
    "'estábamos',\n",
    "'estabais',\n",
    "'estaban',\n",
    "'estuve',\n",
    "'estuviste',\n",
    "'estuvo',\n",
    "'estuvimos',\n",
    "'estuvisteis',\n",
    "'estuvieron',\n",
    "'estuviera',\n",
    "'estuvieras',\n",
    "'estuviéramos',\n",
    "'estuvierais',\n",
    "'estuvieran',\n",
    "'estuviese',\n",
    "'estuvieses',\n",
    "'estuviésemos',\n",
    "'estuvieseis',\n",
    "'estuviesen',\n",
    "'estando',\n",
    "'estado',\n",
    "'estada',\n",
    "'estados',\n",
    "'estadas',\n",
    "'estad',\n",
    "'he',\n",
    "'has',\n",
    "'ha',\n",
    "'hemos',\n",
    "'habéis',\n",
    "'han',\n",
    "'haya',\n",
    "'hayas',\n",
    "'hayamos',\n",
    "'hayáis',\n",
    "'hayan',\n",
    "'habré',\n",
    "'habrás',\n",
    "'habrá',\n",
    "'habremos',\n",
    "'habréis',\n",
    "'habrán',\n",
    "'habría',\n",
    "'habrías',\n",
    "'habríamos',\n",
    "'habríais',\n",
    "'habrían',\n",
    "'había',\n",
    "'habías',\n",
    "'habíamos',\n",
    "'habíais',\n",
    "'habían',\n",
    "'hube',\n",
    "'hubiste',\n",
    "'hubo',\n",
    "'hubimos',\n",
    "'hubisteis',\n",
    "'hubieron',\n",
    "'hubiera',\n",
    "'hubieras',\n",
    "'hubiéramos',\n",
    "'hubierais',\n",
    "'hubieran',\n",
    "'hubiese',\n",
    "'hubieses',\n",
    "'hubiésemos',\n",
    "'hubieseis',\n",
    "'hubiesen',\n",
    "'habiendo',\n",
    "'habido',\n",
    "'habida',\n",
    "'habidos',\n",
    "'habidas',\n",
    "'soy',\n",
    "'eres',\n",
    "'es',\n",
    "'somos',\n",
    "'sois',\n",
    "'son',\n",
    "'sea',\n",
    "'seas',\n",
    "'seamos',\n",
    "'seáis',\n",
    "'sean',\n",
    "'seré',\n",
    "'serás',\n",
    "'será',\n",
    "'seremos',\n",
    "'seréis',\n",
    "'serán',\n",
    "'sería',\n",
    "'serías',\n",
    "'seríamos',\n",
    "'seríais',\n",
    "'serían',\n",
    "'era',\n",
    "'eras',\n",
    "'éramos',\n",
    "'erais',\n",
    "'eran',\n",
    "'fui',\n",
    "'fuiste',\n",
    "'fue',\n",
    "'fuimos',\n",
    "'fuisteis',\n",
    "'fueron',\n",
    "'fuera',\n",
    "'fueras',\n",
    "'fuéramos',\n",
    "'fuerais',\n",
    "'fueran',\n",
    "'fuese',\n",
    "'fueses',\n",
    "'fuésemos',\n",
    "'fueseis',\n",
    "'fuesen',\n",
    "'sintiendo',\n",
    "'sentido',\n",
    "'sentida',\n",
    "'sentidos',\n",
    "'sentidas',\n",
    "'siente',\n",
    "'sentid',\n",
    "'tengo',\n",
    "'tienes',\n",
    "'tiene',\n",
    "'tenemos',\n",
    "'tenéis',\n",
    "'tienen',\n",
    "'tenga',\n",
    "'tengas',\n",
    "'tengamos',\n",
    "'tengáis',\n",
    "'tengan',\n",
    "'tendré',\n",
    "'tendrás',\n",
    "'tendrá',\n",
    "'tendremos',\n",
    "'tendréis',\n",
    "'tendrán',\n",
    "'tendría',\n",
    "'tendrías',\n",
    "'tendríamos',\n",
    "'tendríais',\n",
    "'tendrían',\n",
    "'tenía',\n",
    "'tenías',\n",
    "'teníamos',\n",
    "'teníais',\n",
    "'tenían',\n",
    "'tuve',\n",
    "'tuviste',\n",
    "'tuvo',\n",
    "'tuvimos',\n",
    "'tuvisteis',\n",
    "'tuvieron',\n",
    "'tuviera',\n",
    "'tuvieras',\n",
    "'tuviéramos',\n",
    "'tuvierais',\n",
    "'tuvieran',\n",
    "'tuviese',\n",
    "'tuvieses',\n",
    "'tuviésemos',\n",
    "'tuvieseis',\n",
    "'tuviesen',\n",
    "'teniendo',\n",
    "'tenido',\n",
    "'tenida',\n",
    "'tenidos',\n",
    "'tenidas',\n",
    "'tened']"
   ]
  },
  {
   "cell_type": "code",
   "execution_count": 92,
   "id": "5cc31c8f",
   "metadata": {},
   "outputs": [],
   "source": [
    "# Utilizamos la función de limpoieza de textos\n",
    "\n",
    "\n",
    "def clean(text):   \n",
    "    # Quitar las expresiones entre corchetes \n",
    "    text = re.sub(r'\\[.+?\\]', ' ', str(text))\n",
    "    # Quita las aclaraciones entre paréntesis\n",
    "    text = re.sub(r'\\(.+?\\)', ' ', text)\n",
    "    # Quitar acentos\n",
    "    # text = unidecode.unidecode(text)\n",
    "    # Quitar aquello que no sean palabras o cosa que se le parezca\n",
    "    text = re.sub(r'\\W', ' ', text)\n",
    "    # Quitar espacios extra en caso de haber\n",
    "    text = re.sub(r'\\s+', ' ', text)\n",
    "    # Quitar un conjunto de carácteres que son intelegibles y se repiten a lo largo de los campos\n",
    "    text = re.sub('\\r\\n', ' ', text)\n",
    "    # Pasa el texto a minúsulas\n",
    "    text = text.lower()\n",
    "    # Quita palabras \n",
    "    text = re.sub(r'se busca', ' ', text)\n",
    "    # Quita palabras \n",
    "    text = re.sub(r'se necesita', ' ', text)\n",
    "    # Retira stopwords\n",
    "    text = text.split()\n",
    "    text = [ word for word in text if word not in stop_words_spanish ]# stopwords.words('spanish')]\n",
    "    text = ' '.join(text)\n",
    "    return text"
   ]
  },
  {
   "cell_type": "code",
   "execution_count": 93,
   "id": "82e5b380",
   "metadata": {},
   "outputs": [],
   "source": [
    "    text = \"\"\"Análisis de proyectos de software\n",
    "        Desarrollo y programación en Python (Django)\n",
    "        Patrón rest-full-api django-rest-framework (serializers rest-routers view-sets)\n",
    "        Unit-testing Django-test-case Django-factory-boy\n",
    "        Base de datos PostgreSQL\n",
    "        Gestión de Entornos de desarrollo y Sistemas AWS\n",
    "        Gestión de desarrollo y planificación de entornos Docker\"\"\"\n",
    "\n",
    "#text = \"\"\"Sentar a los clientes en sus mesas\n",
    "#Tomar nota de sus pedidos\n",
    "#Llevar la comida y bebida a las mesas\n",
    "#Asegurarse de que los clientes están a gusto y que disponen de todo lo que necesitan\n",
    "# Recibir el pago al final de la comida\"\"\"\n",
    "\n",
    "text = [clean(text)]\n",
    "\n",
    "### word_vectorizer = TfidfVectorizer(\n",
    "    ###sublinear_tf=True,\n",
    "    ###stop_words='english',\n",
    "    ##max_features=1500)\n",
    "###word_vectorizer.fit(Text_plus_new) ###\n",
    "WordF = word_vectorizer.transform(text)\n"
   ]
  },
  {
   "cell_type": "code",
   "execution_count": 94,
   "id": "efca72fa",
   "metadata": {},
   "outputs": [
    {
     "data": {
      "text/plain": [
       "['análisis proyectos software desarrollo programación python patrón rest full api django rest framework unit testing django test case django factory boy base datos postgresql gestión entornos desarrollo sistemas aws gestión desarrollo planificación entornos docker']"
      ]
     },
     "execution_count": 94,
     "metadata": {},
     "output_type": "execute_result"
    }
   ],
   "source": [
    "text"
   ]
  },
  {
   "cell_type": "code",
   "execution_count": 95,
   "id": "4c276adf",
   "metadata": {},
   "outputs": [
    {
     "data": {
      "text/plain": [
       "array(['3811'], dtype='<U4')"
      ]
     },
     "execution_count": 95,
     "metadata": {},
     "output_type": "execute_result"
    }
   ],
   "source": [
    "model_GBM.predict(WordF)"
   ]
  },
  {
   "cell_type": "code",
   "execution_count": null,
   "id": "14bae67e",
   "metadata": {},
   "outputs": [],
   "source": []
  },
  {
   "cell_type": "code",
   "execution_count": 99,
   "id": "d5c3a34e",
   "metadata": {},
   "outputs": [
    {
     "data": {
      "text/html": [
       "<div>\n",
       "<style scoped>\n",
       "    .dataframe tbody tr th:only-of-type {\n",
       "        vertical-align: middle;\n",
       "    }\n",
       "\n",
       "    .dataframe tbody tr th {\n",
       "        vertical-align: top;\n",
       "    }\n",
       "\n",
       "    .dataframe thead th {\n",
       "        text-align: right;\n",
       "    }\n",
       "</style>\n",
       "<table border=\"1\" class=\"dataframe\">\n",
       "  <thead>\n",
       "    <tr style=\"text-align: right;\">\n",
       "      <th></th>\n",
       "      <th>0</th>\n",
       "    </tr>\n",
       "  </thead>\n",
       "  <tbody>\n",
       "    <tr>\n",
       "      <th>0</th>\n",
       "      <td>3811</td>\n",
       "    </tr>\n",
       "  </tbody>\n",
       "</table>\n",
       "</div>"
      ],
      "text/plain": [
       "      0\n",
       "0  3811"
      ]
     },
     "execution_count": 99,
     "metadata": {},
     "output_type": "execute_result"
    }
   ],
   "source": [
    "prediccion = pd.DataFrame(model_GBM.predict(WordF))\n",
    "prediccion"
   ]
  },
  {
   "cell_type": "markdown",
   "id": "f2848960",
   "metadata": {},
   "source": [
    "## REPORTING DEL MODELO"
   ]
  },
  {
   "cell_type": "markdown",
   "id": "b0f64e40",
   "metadata": {},
   "source": [
    "### ROC Chart"
   ]
  },
  {
   "cell_type": "code",
   "execution_count": 96,
   "id": "a0f575cf",
   "metadata": {},
   "outputs": [
    {
     "data": {
      "image/png": "[encoded data removed]",
      "text/plain": [
       "<Figure size 432x288 with 1 Axes>"
      ]
     },
     "metadata": {},
     "output_type": "display_data"
    }
   ],
   "source": [
    "fig, ax = plt.subplots()\n",
    "\n",
    "skplt.metrics.plot_roc(test_y, model.predict_proba(test_x), ax=ax) \n",
    "\n",
    "#Eliminamos la línea de los ceros y personalizamos la leyenda\n",
    "del ax.lines[0]                 \n",
    "del ax.lines[1] \n",
    "del ax.lines[1]\n",
    "plt.legend(labels = ['Modelo','Aleatoria']);"
   ]
  }
 ],
 "metadata": {
  "kernelspec": {
   "display_name": "Python 3 (ipykernel)",
   "language": "python",
   "name": "python3"
  },
  "language_info": {
   "codemirror_mode": {
    "name": "ipython",
    "version": 3
   },
   "file_extension": ".py",
   "mimetype": "text/x-python",
   "name": "python",
   "nbconvert_exporter": "python",
   "pygments_lexer": "ipython3",
   "version": "3.9.7"
  },
  "toc": {
   "base_numbering": 1,
   "nav_menu": {},
   "number_sections": true,
   "sideBar": true,
   "skip_h1_title": false,
   "title_cell": "Table of Contents",
   "title_sidebar": "Contents",
   "toc_cell": false,
   "toc_position": {
    "height": "calc(100% - 180px)",
    "left": "10px",
    "top": "150px",
    "width": "253.95px"
   },
   "toc_section_display": true,
   "toc_window_display": true
  },
  "varInspector": {
   "cols": {
    "lenName": 16,
    "lenType": 16,
    "lenVar": 40
   },
   "kernels_config": {
    "python": {
     "delete_cmd_postfix": "",
     "delete_cmd_prefix": "del ",
     "library": "var_list.py",
     "varRefreshCmd": "print(var_dic_list())"
    },
    "r": {
     "delete_cmd_postfix": ") ",
     "delete_cmd_prefix": "rm(",
     "library": "var_list.r",
     "varRefreshCmd": "cat(var_dic_list()) "
    }
   },
   "position": {
    "height": "546.85px",
    "left": "1531.75px",
    "right": "20px",
    "top": "115px",
    "width": "350px"
   },
   "types_to_exclude": [
    "module",
    "function",
    "builtin_function_or_method",
    "instance",
    "_Feature"
   ],
   "window_display": false
  }
 },
 "nbformat": 4,
 "nbformat_minor": 5
}
