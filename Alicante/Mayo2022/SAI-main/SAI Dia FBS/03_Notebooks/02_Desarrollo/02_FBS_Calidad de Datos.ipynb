{
 "cells": [
  {
   "cell_type": "markdown",
   "id": "d31dea65",
   "metadata": {},
   "source": [
    "# CALIDAD DE DATOS"
   ]
  },
  {
   "cell_type": "markdown",
   "id": "swiss-fault",
   "metadata": {},
   "source": [
    "## IMPORTAR PAQUETES"
   ]
  },
  {
   "cell_type": "code",
   "execution_count": 1,
   "id": "adjacent-toddler",
   "metadata": {},
   "outputs": [],
   "source": [
    "import numpy as np\n",
    "import pandas as pd\n",
    "#from janitor import clean_names\n",
    "\n",
    "#Automcompletar rápido\n",
    "%config IPCompleter.greedy=True"
   ]
  },
  {
   "cell_type": "markdown",
   "id": "graduate-compensation",
   "metadata": {},
   "source": [
    "## IMPORTAR LOS DATOS"
   ]
  },
  {
   "cell_type": "markdown",
   "id": "38bb812b",
   "metadata": {},
   "source": [
    "Sustituir la ruta del proyecto."
   ]
  },
  {
   "cell_type": "code",
   "execution_count": 2,
   "id": "28c63848",
   "metadata": {},
   "outputs": [],
   "source": [
    "ruta_proyecto = 'C:/Users/Usuario/miniconda3/SAI Dia FBS/'"
   ]
  },
  {
   "cell_type": "markdown",
   "id": "ba473b09",
   "metadata": {},
   "source": [
    "Sustituir el nombre_fichero_datos."
   ]
  },
  {
   "cell_type": "code",
   "execution_count": 3,
   "id": "5d9dc5ea",
   "metadata": {},
   "outputs": [],
   "source": [
    "nombre_fichero_datos = 'trabajo.csv'"
   ]
  },
  {
   "cell_type": "markdown",
   "id": "ae75bf0b",
   "metadata": {},
   "source": [
    "Cargar los datos."
   ]
  },
  {
   "cell_type": "code",
   "execution_count": 4,
   "id": "24ff453b",
   "metadata": {},
   "outputs": [
    {
     "data": {
      "text/html": [
       "<div>\n",
       "<style scoped>\n",
       "    .dataframe tbody tr th:only-of-type {\n",
       "        vertical-align: middle;\n",
       "    }\n",
       "\n",
       "    .dataframe tbody tr th {\n",
       "        vertical-align: top;\n",
       "    }\n",
       "\n",
       "    .dataframe thead th {\n",
       "        text-align: right;\n",
       "    }\n",
       "</style>\n",
       "<table border=\"1\" class=\"dataframe\">\n",
       "  <thead>\n",
       "    <tr style=\"text-align: right;\">\n",
       "      <th></th>\n",
       "      <th>Unnamed: 0.1</th>\n",
       "      <th>Unnamed: 0</th>\n",
       "      <th>ID</th>\n",
       "      <th>LINK</th>\n",
       "      <th>CNO</th>\n",
       "      <th>TITULO OFERTA</th>\n",
       "      <th>DETALLE OFERTA</th>\n",
       "      <th>FIN OFERTA</th>\n",
       "      <th>EMPRESA OFERTA</th>\n",
       "      <th>CABECERA</th>\n",
       "    </tr>\n",
       "  </thead>\n",
       "  <tbody>\n",
       "    <tr>\n",
       "      <th>0</th>\n",
       "      <td>4</td>\n",
       "      <td>4</td>\n",
       "      <td>1763217793</td>\n",
       "      <td>https://www.empleate.gob.es/empleo/#/oferta/17...</td>\n",
       "      <td>5220</td>\n",
       "      <td>Se necesita ayudante de dependienta</td>\n",
       "      <td>Horario partido de comercio en centro Madrid</td>\n",
       "      <td>2022-07-02 00:00:00</td>\n",
       "      <td>Fritos El Cisne SL</td>\n",
       "      <td>Agricultura/jardinería/alimentación -\\r\\nConse...</td>\n",
       "    </tr>\n",
       "    <tr>\n",
       "      <th>1</th>\n",
       "      <td>5</td>\n",
       "      <td>5</td>\n",
       "      <td>1763583482</td>\n",
       "      <td>https://www.empleate.gob.es/empleo/#/oferta/17...</td>\n",
       "      <td>4111</td>\n",
       "      <td>Administrativo marketing/vo</td>\n",
       "      <td>Edad: Que encaje en un contrato de formación.\\...</td>\n",
       "      <td>14/02/2022</td>\n",
       "      <td>AUTOFER SL</td>\n",
       "      <td>Administración -\\r\\nAdministrativos\\r\\nEmplead...</td>\n",
       "    </tr>\n",
       "    <tr>\n",
       "      <th>2</th>\n",
       "      <td>6</td>\n",
       "      <td>6</td>\n",
       "      <td>1762685353</td>\n",
       "      <td>https://www.empleate.gob.es/empleo/#/oferta/17...</td>\n",
       "      <td>CNO no informado</td>\n",
       "      <td>Experto en soporte técnico</td>\n",
       "      <td>Su área de responsabilidad\\r\\nInstalación, rep...</td>\n",
       "      <td>20/01/2022</td>\n",
       "      <td>Weinig Holz-Her España</td>\n",
       "      <td>Fábricas/industria -\\r\\nTécnicos Metalúrgicos\\...</td>\n",
       "    </tr>\n",
       "    <tr>\n",
       "      <th>3</th>\n",
       "      <td>8</td>\n",
       "      <td>8</td>\n",
       "      <td>1762857238</td>\n",
       "      <td>https://www.empleate.gob.es/empleo/#/oferta/17...</td>\n",
       "      <td>CNO no informado</td>\n",
       "      <td>Operador de sala - pause &amp; play torrecárdenas</td>\n",
       "      <td>Funciones del puesto:\\r\\n- Atención personaliz...</td>\n",
       "      <td>26/01/2022</td>\n",
       "      <td>Vision Innovation Diversion SL</td>\n",
       "      <td>Comunicación/cultura/entretenimiento -\\r\\nApue...</td>\n",
       "    </tr>\n",
       "    <tr>\n",
       "      <th>4</th>\n",
       "      <td>9</td>\n",
       "      <td>9</td>\n",
       "      <td>1764322624</td>\n",
       "      <td>https://www.empleate.gob.es/empleo/#/oferta/17...</td>\n",
       "      <td>4301</td>\n",
       "      <td>Administrativo</td>\n",
       "      <td>nominas, contratos, seguros sociales- departam...</td>\n",
       "      <td>2022-02-03 00:00:00</td>\n",
       "      <td>ORGADEM,SL</td>\n",
       "      <td>Administración -\\r\\nRecursos Humanos/personal\\...</td>\n",
       "    </tr>\n",
       "    <tr>\n",
       "      <th>...</th>\n",
       "      <td>...</td>\n",
       "      <td>...</td>\n",
       "      <td>...</td>\n",
       "      <td>...</td>\n",
       "      <td>...</td>\n",
       "      <td>...</td>\n",
       "      <td>...</td>\n",
       "      <td>...</td>\n",
       "      <td>...</td>\n",
       "      <td>...</td>\n",
       "    </tr>\n",
       "    <tr>\n",
       "      <th>8248</th>\n",
       "      <td>11784</td>\n",
       "      <td>11784</td>\n",
       "      <td>1764696486</td>\n",
       "      <td>https://www.empleate.gob.es/empleo/#/oferta/17...</td>\n",
       "      <td>3820</td>\n",
       "      <td>Work/location</td>\n",
       "      <td>SE PRECISA PROGRAMADOR/A INFORMÁTICO/A JUNIOR ...</td>\n",
       "      <td>2022-09-03 00:00:00</td>\n",
       "      <td>NaN</td>\n",
       "      <td>Informática/telecomunicaciones -\\r\\nAnalistas/...</td>\n",
       "    </tr>\n",
       "    <tr>\n",
       "      <th>8249</th>\n",
       "      <td>11785</td>\n",
       "      <td>11785</td>\n",
       "      <td>1764647727</td>\n",
       "      <td>https://www.empleate.gob.es/empleo/#/oferta/17...</td>\n",
       "      <td>CNO no informado</td>\n",
       "      <td>Work/location</td>\n",
       "      <td>EYTON ES UNA MULTINACIONAL FRANCESA LÍDER ESPE...</td>\n",
       "      <td>2022-08-03 00:00:00</td>\n",
       "      <td>NaN</td>\n",
       "      <td>Dependientes/información -\\r\\nTeleoperadores\\r...</td>\n",
       "    </tr>\n",
       "    <tr>\n",
       "      <th>8250</th>\n",
       "      <td>11786</td>\n",
       "      <td>11786</td>\n",
       "      <td>1764696417</td>\n",
       "      <td>https://www.empleate.gob.es/empleo/#/oferta/17...</td>\n",
       "      <td>CNO no informado</td>\n",
       "      <td>Work/location</td>\n",
       "      <td>ESDE BARNALABOR MARTORELL SELECCIONAMOS PARA M...</td>\n",
       "      <td>2022-09-03 00:00:00</td>\n",
       "      <td>NaN</td>\n",
       "      <td>Construcción -\\r\\nGrúas/excavadoras/maquinaria...</td>\n",
       "    </tr>\n",
       "    <tr>\n",
       "      <th>8251</th>\n",
       "      <td>11788</td>\n",
       "      <td>11788</td>\n",
       "      <td>1764696096</td>\n",
       "      <td>https://www.empleate.gob.es/empleo/#/oferta/17...</td>\n",
       "      <td>8432</td>\n",
       "      <td>Conductores-operadores de camión volquete</td>\n",
       "      <td>SE BUSCA CONDUCTOR CAMIÓN / SECTOR CONSTRUCCIÓ...</td>\n",
       "      <td>2022-02-03 00:00:00</td>\n",
       "      <td>NaN</td>\n",
       "      <td>Construcción -\\r\\nGrúas/excavadoras/maquinaria...</td>\n",
       "    </tr>\n",
       "    <tr>\n",
       "      <th>8252</th>\n",
       "      <td>11789</td>\n",
       "      <td>11789</td>\n",
       "      <td>1764647866</td>\n",
       "      <td>https://www.empleate.gob.es/empleo/#/oferta/17...</td>\n",
       "      <td>CNO no informado</td>\n",
       "      <td>Work/location</td>\n",
       "      <td>BUSQUEM UNA PERSONA POLIVALENT PER TREBALLAR D...</td>\n",
       "      <td>2022-08-03 00:00:00</td>\n",
       "      <td>NaN</td>\n",
       "      <td>Conductores/transporte -\\r\\nMensajería\\r\\nPeti...</td>\n",
       "    </tr>\n",
       "  </tbody>\n",
       "</table>\n",
       "<p>8253 rows × 10 columns</p>\n",
       "</div>"
      ],
      "text/plain": [
       "      Unnamed: 0.1  Unnamed: 0          ID  \\\n",
       "0                4           4  1763217793   \n",
       "1                5           5  1763583482   \n",
       "2                6           6  1762685353   \n",
       "3                8           8  1762857238   \n",
       "4                9           9  1764322624   \n",
       "...            ...         ...         ...   \n",
       "8248         11784       11784  1764696486   \n",
       "8249         11785       11785  1764647727   \n",
       "8250         11786       11786  1764696417   \n",
       "8251         11788       11788  1764696096   \n",
       "8252         11789       11789  1764647866   \n",
       "\n",
       "                                                   LINK               CNO  \\\n",
       "0     https://www.empleate.gob.es/empleo/#/oferta/17...              5220   \n",
       "1     https://www.empleate.gob.es/empleo/#/oferta/17...              4111   \n",
       "2     https://www.empleate.gob.es/empleo/#/oferta/17...  CNO no informado   \n",
       "3     https://www.empleate.gob.es/empleo/#/oferta/17...  CNO no informado   \n",
       "4     https://www.empleate.gob.es/empleo/#/oferta/17...              4301   \n",
       "...                                                 ...               ...   \n",
       "8248  https://www.empleate.gob.es/empleo/#/oferta/17...              3820   \n",
       "8249  https://www.empleate.gob.es/empleo/#/oferta/17...  CNO no informado   \n",
       "8250  https://www.empleate.gob.es/empleo/#/oferta/17...  CNO no informado   \n",
       "8251  https://www.empleate.gob.es/empleo/#/oferta/17...              8432   \n",
       "8252  https://www.empleate.gob.es/empleo/#/oferta/17...  CNO no informado   \n",
       "\n",
       "                                      TITULO OFERTA  \\\n",
       "0               Se necesita ayudante de dependienta   \n",
       "1                       Administrativo marketing/vo   \n",
       "2                        Experto en soporte técnico   \n",
       "3     Operador de sala - pause & play torrecárdenas   \n",
       "4                                    Administrativo   \n",
       "...                                             ...   \n",
       "8248                                  Work/location   \n",
       "8249                                  Work/location   \n",
       "8250                                  Work/location   \n",
       "8251      Conductores-operadores de camión volquete   \n",
       "8252                                  Work/location   \n",
       "\n",
       "                                         DETALLE OFERTA           FIN OFERTA  \\\n",
       "0          Horario partido de comercio en centro Madrid  2022-07-02 00:00:00   \n",
       "1     Edad: Que encaje en un contrato de formación.\\...           14/02/2022   \n",
       "2     Su área de responsabilidad\\r\\nInstalación, rep...           20/01/2022   \n",
       "3     Funciones del puesto:\\r\\n- Atención personaliz...           26/01/2022   \n",
       "4     nominas, contratos, seguros sociales- departam...  2022-02-03 00:00:00   \n",
       "...                                                 ...                  ...   \n",
       "8248  SE PRECISA PROGRAMADOR/A INFORMÁTICO/A JUNIOR ...  2022-09-03 00:00:00   \n",
       "8249  EYTON ES UNA MULTINACIONAL FRANCESA LÍDER ESPE...  2022-08-03 00:00:00   \n",
       "8250  ESDE BARNALABOR MARTORELL SELECCIONAMOS PARA M...  2022-09-03 00:00:00   \n",
       "8251  SE BUSCA CONDUCTOR CAMIÓN / SECTOR CONSTRUCCIÓ...  2022-02-03 00:00:00   \n",
       "8252  BUSQUEM UNA PERSONA POLIVALENT PER TREBALLAR D...  2022-08-03 00:00:00   \n",
       "\n",
       "                      EMPRESA OFERTA  \\\n",
       "0                 Fritos El Cisne SL   \n",
       "1                         AUTOFER SL   \n",
       "2             Weinig Holz-Her España   \n",
       "3     Vision Innovation Diversion SL   \n",
       "4                         ORGADEM,SL   \n",
       "...                              ...   \n",
       "8248                             NaN   \n",
       "8249                             NaN   \n",
       "8250                             NaN   \n",
       "8251                             NaN   \n",
       "8252                             NaN   \n",
       "\n",
       "                                               CABECERA  \n",
       "0     Agricultura/jardinería/alimentación -\\r\\nConse...  \n",
       "1     Administración -\\r\\nAdministrativos\\r\\nEmplead...  \n",
       "2     Fábricas/industria -\\r\\nTécnicos Metalúrgicos\\...  \n",
       "3     Comunicación/cultura/entretenimiento -\\r\\nApue...  \n",
       "4     Administración -\\r\\nRecursos Humanos/personal\\...  \n",
       "...                                                 ...  \n",
       "8248  Informática/telecomunicaciones -\\r\\nAnalistas/...  \n",
       "8249  Dependientes/información -\\r\\nTeleoperadores\\r...  \n",
       "8250  Construcción -\\r\\nGrúas/excavadoras/maquinaria...  \n",
       "8251  Construcción -\\r\\nGrúas/excavadoras/maquinaria...  \n",
       "8252  Conductores/transporte -\\r\\nMensajería\\r\\nPeti...  \n",
       "\n",
       "[8253 rows x 10 columns]"
      ]
     },
     "execution_count": 4,
     "metadata": {},
     "output_type": "execute_result"
    }
   ],
   "source": [
    "ruta_completa = ruta_proyecto + '/02_Datos/03_Trabajo/' + nombre_fichero_datos\n",
    "\n",
    "df = pd.read_csv(ruta_completa)\n",
    "df"
   ]
  },
  {
   "cell_type": "markdown",
   "id": "9790d322",
   "metadata": {},
   "source": [
    "## CORRECCIÓN DE NOMBRES DE VARIABLES"
   ]
  },
  {
   "cell_type": "markdown",
   "id": "f1fa5201",
   "metadata": {},
   "source": [
    "### Corrección automática"
   ]
  },
  {
   "cell_type": "code",
   "execution_count": 5,
   "id": "02607b69",
   "metadata": {},
   "outputs": [],
   "source": [
    "#df = clean_names(df)\n",
    "#df"
   ]
  },
  {
   "cell_type": "markdown",
   "id": "25bf4c99",
   "metadata": {},
   "source": [
    "### Corrección manual"
   ]
  },
  {
   "cell_type": "code",
   "execution_count": 6,
   "id": "c6d83e70",
   "metadata": {},
   "outputs": [
    {
     "data": {
      "text/html": [
       "<div>\n",
       "<style scoped>\n",
       "    .dataframe tbody tr th:only-of-type {\n",
       "        vertical-align: middle;\n",
       "    }\n",
       "\n",
       "    .dataframe tbody tr th {\n",
       "        vertical-align: top;\n",
       "    }\n",
       "\n",
       "    .dataframe thead th {\n",
       "        text-align: right;\n",
       "    }\n",
       "</style>\n",
       "<table border=\"1\" class=\"dataframe\">\n",
       "  <thead>\n",
       "    <tr style=\"text-align: right;\">\n",
       "      <th></th>\n",
       "      <th>Unnamed: 0.1</th>\n",
       "      <th>Unnamed: 0</th>\n",
       "      <th>id</th>\n",
       "      <th>link</th>\n",
       "      <th>cno</th>\n",
       "      <th>titulo_oferta</th>\n",
       "      <th>detalle_oferta</th>\n",
       "      <th>fin_oferta</th>\n",
       "      <th>empresa_oferta</th>\n",
       "      <th>categoria</th>\n",
       "    </tr>\n",
       "  </thead>\n",
       "  <tbody>\n",
       "    <tr>\n",
       "      <th>0</th>\n",
       "      <td>4</td>\n",
       "      <td>4</td>\n",
       "      <td>1763217793</td>\n",
       "      <td>https://www.empleate.gob.es/empleo/#/oferta/17...</td>\n",
       "      <td>5220</td>\n",
       "      <td>Se necesita ayudante de dependienta</td>\n",
       "      <td>Horario partido de comercio en centro Madrid</td>\n",
       "      <td>2022-07-02 00:00:00</td>\n",
       "      <td>Fritos El Cisne SL</td>\n",
       "      <td>Agricultura/jardinería/alimentación -\\r\\nConse...</td>\n",
       "    </tr>\n",
       "    <tr>\n",
       "      <th>1</th>\n",
       "      <td>5</td>\n",
       "      <td>5</td>\n",
       "      <td>1763583482</td>\n",
       "      <td>https://www.empleate.gob.es/empleo/#/oferta/17...</td>\n",
       "      <td>4111</td>\n",
       "      <td>Administrativo marketing/vo</td>\n",
       "      <td>Edad: Que encaje en un contrato de formación.\\...</td>\n",
       "      <td>14/02/2022</td>\n",
       "      <td>AUTOFER SL</td>\n",
       "      <td>Administración -\\r\\nAdministrativos\\r\\nEmplead...</td>\n",
       "    </tr>\n",
       "    <tr>\n",
       "      <th>2</th>\n",
       "      <td>6</td>\n",
       "      <td>6</td>\n",
       "      <td>1762685353</td>\n",
       "      <td>https://www.empleate.gob.es/empleo/#/oferta/17...</td>\n",
       "      <td>CNO no informado</td>\n",
       "      <td>Experto en soporte técnico</td>\n",
       "      <td>Su área de responsabilidad\\r\\nInstalación, rep...</td>\n",
       "      <td>20/01/2022</td>\n",
       "      <td>Weinig Holz-Her España</td>\n",
       "      <td>Fábricas/industria -\\r\\nTécnicos Metalúrgicos\\...</td>\n",
       "    </tr>\n",
       "    <tr>\n",
       "      <th>3</th>\n",
       "      <td>8</td>\n",
       "      <td>8</td>\n",
       "      <td>1762857238</td>\n",
       "      <td>https://www.empleate.gob.es/empleo/#/oferta/17...</td>\n",
       "      <td>CNO no informado</td>\n",
       "      <td>Operador de sala - pause &amp; play torrecárdenas</td>\n",
       "      <td>Funciones del puesto:\\r\\n- Atención personaliz...</td>\n",
       "      <td>26/01/2022</td>\n",
       "      <td>Vision Innovation Diversion SL</td>\n",
       "      <td>Comunicación/cultura/entretenimiento -\\r\\nApue...</td>\n",
       "    </tr>\n",
       "    <tr>\n",
       "      <th>4</th>\n",
       "      <td>9</td>\n",
       "      <td>9</td>\n",
       "      <td>1764322624</td>\n",
       "      <td>https://www.empleate.gob.es/empleo/#/oferta/17...</td>\n",
       "      <td>4301</td>\n",
       "      <td>Administrativo</td>\n",
       "      <td>nominas, contratos, seguros sociales- departam...</td>\n",
       "      <td>2022-02-03 00:00:00</td>\n",
       "      <td>ORGADEM,SL</td>\n",
       "      <td>Administración -\\r\\nRecursos Humanos/personal\\...</td>\n",
       "    </tr>\n",
       "    <tr>\n",
       "      <th>...</th>\n",
       "      <td>...</td>\n",
       "      <td>...</td>\n",
       "      <td>...</td>\n",
       "      <td>...</td>\n",
       "      <td>...</td>\n",
       "      <td>...</td>\n",
       "      <td>...</td>\n",
       "      <td>...</td>\n",
       "      <td>...</td>\n",
       "      <td>...</td>\n",
       "    </tr>\n",
       "    <tr>\n",
       "      <th>8248</th>\n",
       "      <td>11784</td>\n",
       "      <td>11784</td>\n",
       "      <td>1764696486</td>\n",
       "      <td>https://www.empleate.gob.es/empleo/#/oferta/17...</td>\n",
       "      <td>3820</td>\n",
       "      <td>Work/location</td>\n",
       "      <td>SE PRECISA PROGRAMADOR/A INFORMÁTICO/A JUNIOR ...</td>\n",
       "      <td>2022-09-03 00:00:00</td>\n",
       "      <td>NaN</td>\n",
       "      <td>Informática/telecomunicaciones -\\r\\nAnalistas/...</td>\n",
       "    </tr>\n",
       "    <tr>\n",
       "      <th>8249</th>\n",
       "      <td>11785</td>\n",
       "      <td>11785</td>\n",
       "      <td>1764647727</td>\n",
       "      <td>https://www.empleate.gob.es/empleo/#/oferta/17...</td>\n",
       "      <td>CNO no informado</td>\n",
       "      <td>Work/location</td>\n",
       "      <td>EYTON ES UNA MULTINACIONAL FRANCESA LÍDER ESPE...</td>\n",
       "      <td>2022-08-03 00:00:00</td>\n",
       "      <td>NaN</td>\n",
       "      <td>Dependientes/información -\\r\\nTeleoperadores\\r...</td>\n",
       "    </tr>\n",
       "    <tr>\n",
       "      <th>8250</th>\n",
       "      <td>11786</td>\n",
       "      <td>11786</td>\n",
       "      <td>1764696417</td>\n",
       "      <td>https://www.empleate.gob.es/empleo/#/oferta/17...</td>\n",
       "      <td>CNO no informado</td>\n",
       "      <td>Work/location</td>\n",
       "      <td>ESDE BARNALABOR MARTORELL SELECCIONAMOS PARA M...</td>\n",
       "      <td>2022-09-03 00:00:00</td>\n",
       "      <td>NaN</td>\n",
       "      <td>Construcción -\\r\\nGrúas/excavadoras/maquinaria...</td>\n",
       "    </tr>\n",
       "    <tr>\n",
       "      <th>8251</th>\n",
       "      <td>11788</td>\n",
       "      <td>11788</td>\n",
       "      <td>1764696096</td>\n",
       "      <td>https://www.empleate.gob.es/empleo/#/oferta/17...</td>\n",
       "      <td>8432</td>\n",
       "      <td>Conductores-operadores de camión volquete</td>\n",
       "      <td>SE BUSCA CONDUCTOR CAMIÓN / SECTOR CONSTRUCCIÓ...</td>\n",
       "      <td>2022-02-03 00:00:00</td>\n",
       "      <td>NaN</td>\n",
       "      <td>Construcción -\\r\\nGrúas/excavadoras/maquinaria...</td>\n",
       "    </tr>\n",
       "    <tr>\n",
       "      <th>8252</th>\n",
       "      <td>11789</td>\n",
       "      <td>11789</td>\n",
       "      <td>1764647866</td>\n",
       "      <td>https://www.empleate.gob.es/empleo/#/oferta/17...</td>\n",
       "      <td>CNO no informado</td>\n",
       "      <td>Work/location</td>\n",
       "      <td>BUSQUEM UNA PERSONA POLIVALENT PER TREBALLAR D...</td>\n",
       "      <td>2022-08-03 00:00:00</td>\n",
       "      <td>NaN</td>\n",
       "      <td>Conductores/transporte -\\r\\nMensajería\\r\\nPeti...</td>\n",
       "    </tr>\n",
       "  </tbody>\n",
       "</table>\n",
       "<p>8253 rows × 10 columns</p>\n",
       "</div>"
      ],
      "text/plain": [
       "      Unnamed: 0.1  Unnamed: 0          id  \\\n",
       "0                4           4  1763217793   \n",
       "1                5           5  1763583482   \n",
       "2                6           6  1762685353   \n",
       "3                8           8  1762857238   \n",
       "4                9           9  1764322624   \n",
       "...            ...         ...         ...   \n",
       "8248         11784       11784  1764696486   \n",
       "8249         11785       11785  1764647727   \n",
       "8250         11786       11786  1764696417   \n",
       "8251         11788       11788  1764696096   \n",
       "8252         11789       11789  1764647866   \n",
       "\n",
       "                                                   link               cno  \\\n",
       "0     https://www.empleate.gob.es/empleo/#/oferta/17...              5220   \n",
       "1     https://www.empleate.gob.es/empleo/#/oferta/17...              4111   \n",
       "2     https://www.empleate.gob.es/empleo/#/oferta/17...  CNO no informado   \n",
       "3     https://www.empleate.gob.es/empleo/#/oferta/17...  CNO no informado   \n",
       "4     https://www.empleate.gob.es/empleo/#/oferta/17...              4301   \n",
       "...                                                 ...               ...   \n",
       "8248  https://www.empleate.gob.es/empleo/#/oferta/17...              3820   \n",
       "8249  https://www.empleate.gob.es/empleo/#/oferta/17...  CNO no informado   \n",
       "8250  https://www.empleate.gob.es/empleo/#/oferta/17...  CNO no informado   \n",
       "8251  https://www.empleate.gob.es/empleo/#/oferta/17...              8432   \n",
       "8252  https://www.empleate.gob.es/empleo/#/oferta/17...  CNO no informado   \n",
       "\n",
       "                                      titulo_oferta  \\\n",
       "0               Se necesita ayudante de dependienta   \n",
       "1                       Administrativo marketing/vo   \n",
       "2                        Experto en soporte técnico   \n",
       "3     Operador de sala - pause & play torrecárdenas   \n",
       "4                                    Administrativo   \n",
       "...                                             ...   \n",
       "8248                                  Work/location   \n",
       "8249                                  Work/location   \n",
       "8250                                  Work/location   \n",
       "8251      Conductores-operadores de camión volquete   \n",
       "8252                                  Work/location   \n",
       "\n",
       "                                         detalle_oferta           fin_oferta  \\\n",
       "0          Horario partido de comercio en centro Madrid  2022-07-02 00:00:00   \n",
       "1     Edad: Que encaje en un contrato de formación.\\...           14/02/2022   \n",
       "2     Su área de responsabilidad\\r\\nInstalación, rep...           20/01/2022   \n",
       "3     Funciones del puesto:\\r\\n- Atención personaliz...           26/01/2022   \n",
       "4     nominas, contratos, seguros sociales- departam...  2022-02-03 00:00:00   \n",
       "...                                                 ...                  ...   \n",
       "8248  SE PRECISA PROGRAMADOR/A INFORMÁTICO/A JUNIOR ...  2022-09-03 00:00:00   \n",
       "8249  EYTON ES UNA MULTINACIONAL FRANCESA LÍDER ESPE...  2022-08-03 00:00:00   \n",
       "8250  ESDE BARNALABOR MARTORELL SELECCIONAMOS PARA M...  2022-09-03 00:00:00   \n",
       "8251  SE BUSCA CONDUCTOR CAMIÓN / SECTOR CONSTRUCCIÓ...  2022-02-03 00:00:00   \n",
       "8252  BUSQUEM UNA PERSONA POLIVALENT PER TREBALLAR D...  2022-08-03 00:00:00   \n",
       "\n",
       "                      empresa_oferta  \\\n",
       "0                 Fritos El Cisne SL   \n",
       "1                         AUTOFER SL   \n",
       "2             Weinig Holz-Her España   \n",
       "3     Vision Innovation Diversion SL   \n",
       "4                         ORGADEM,SL   \n",
       "...                              ...   \n",
       "8248                             NaN   \n",
       "8249                             NaN   \n",
       "8250                             NaN   \n",
       "8251                             NaN   \n",
       "8252                             NaN   \n",
       "\n",
       "                                              categoria  \n",
       "0     Agricultura/jardinería/alimentación -\\r\\nConse...  \n",
       "1     Administración -\\r\\nAdministrativos\\r\\nEmplead...  \n",
       "2     Fábricas/industria -\\r\\nTécnicos Metalúrgicos\\...  \n",
       "3     Comunicación/cultura/entretenimiento -\\r\\nApue...  \n",
       "4     Administración -\\r\\nRecursos Humanos/personal\\...  \n",
       "...                                                 ...  \n",
       "8248  Informática/telecomunicaciones -\\r\\nAnalistas/...  \n",
       "8249  Dependientes/información -\\r\\nTeleoperadores\\r...  \n",
       "8250  Construcción -\\r\\nGrúas/excavadoras/maquinaria...  \n",
       "8251  Construcción -\\r\\nGrúas/excavadoras/maquinaria...  \n",
       "8252  Conductores/transporte -\\r\\nMensajería\\r\\nPeti...  \n",
       "\n",
       "[8253 rows x 10 columns]"
      ]
     },
     "execution_count": 6,
     "metadata": {},
     "output_type": "execute_result"
    }
   ],
   "source": [
    "df.rename(columns = {'CABECERA':'categoria', 'ID':'id', 'LINK':'link', 'CNO':'cno', 'TITULO OFERTA':'titulo_oferta', 'DETALLE OFERTA':'detalle_oferta','FIN OFERTA':'fin_oferta','EMPRESA OFERTA':'empresa_oferta' }, inplace=True)\n",
    "df"
   ]
  },
  {
   "cell_type": "markdown",
   "id": "d2d5443c",
   "metadata": {},
   "source": [
    "## VISIÓN GENERAL"
   ]
  },
  {
   "cell_type": "code",
   "execution_count": 7,
   "id": "976c8ac6",
   "metadata": {},
   "outputs": [
    {
     "name": "stdout",
     "output_type": "stream",
     "text": [
      "<class 'pandas.core.frame.DataFrame'>\n",
      "RangeIndex: 8253 entries, 0 to 8252\n",
      "Data columns (total 10 columns):\n",
      " #   Column          Non-Null Count  Dtype \n",
      "---  ------          --------------  ----- \n",
      " 0   Unnamed: 0.1    8253 non-null   int64 \n",
      " 1   Unnamed: 0      8253 non-null   int64 \n",
      " 2   id              8253 non-null   int64 \n",
      " 3   link            8253 non-null   object\n",
      " 4   cno             8253 non-null   object\n",
      " 5   titulo_oferta   8253 non-null   object\n",
      " 6   detalle_oferta  8144 non-null   object\n",
      " 7   fin_oferta      8253 non-null   object\n",
      " 8   empresa_oferta  1996 non-null   object\n",
      " 9   categoria       8253 non-null   object\n",
      "dtypes: int64(3), object(7)\n",
      "memory usage: 644.9+ KB\n"
     ]
    }
   ],
   "source": [
    "df.info()"
   ]
  },
  {
   "cell_type": "markdown",
   "id": "158ee1d7",
   "metadata": {},
   "source": [
    "## TIPOS DE DATOS"
   ]
  },
  {
   "cell_type": "markdown",
   "id": "88162727",
   "metadata": {},
   "source": [
    "### Identificación"
   ]
  },
  {
   "cell_type": "code",
   "execution_count": 8,
   "id": "197a99c2",
   "metadata": {},
   "outputs": [
    {
     "data": {
      "text/plain": [
       "Unnamed: 0.1       int64\n",
       "Unnamed: 0         int64\n",
       "id                 int64\n",
       "link              object\n",
       "cno               object\n",
       "titulo_oferta     object\n",
       "detalle_oferta    object\n",
       "fin_oferta        object\n",
       "empresa_oferta    object\n",
       "categoria         object\n",
       "dtype: object"
      ]
     },
     "execution_count": 8,
     "metadata": {},
     "output_type": "execute_result"
    }
   ],
   "source": [
    "df.dtypes"
   ]
  },
  {
   "cell_type": "markdown",
   "id": "54f495a6",
   "metadata": {},
   "source": [
    "### Corrección"
   ]
  },
  {
   "cell_type": "markdown",
   "id": "cc8d4a22",
   "metadata": {},
   "source": [
    "## VALORES ÚNICOS"
   ]
  },
  {
   "cell_type": "markdown",
   "id": "f21f0e36",
   "metadata": {},
   "source": [
    "### Identificación"
   ]
  },
  {
   "cell_type": "code",
   "execution_count": 9,
   "id": "6e53e444",
   "metadata": {},
   "outputs": [
    {
     "data": {
      "text/plain": [
       "cno                287\n",
       "fin_oferta         614\n",
       "empresa_oferta    1383\n",
       "titulo_oferta     6551\n",
       "categoria         6611\n",
       "detalle_oferta    7518\n",
       "Unnamed: 0.1      8253\n",
       "Unnamed: 0        8253\n",
       "id                8253\n",
       "link              8253\n",
       "dtype: int64"
      ]
     },
     "execution_count": 9,
     "metadata": {},
     "output_type": "execute_result"
    }
   ],
   "source": [
    "df.nunique().sort_values()"
   ]
  },
  {
   "cell_type": "markdown",
   "id": "b1d1a668",
   "metadata": {},
   "source": [
    "### Corrección"
   ]
  },
  {
   "cell_type": "code",
   "execution_count": 10,
   "id": "62f7d14e",
   "metadata": {},
   "outputs": [
    {
     "data": {
      "text/html": [
       "<div>\n",
       "<style scoped>\n",
       "    .dataframe tbody tr th:only-of-type {\n",
       "        vertical-align: middle;\n",
       "    }\n",
       "\n",
       "    .dataframe tbody tr th {\n",
       "        vertical-align: top;\n",
       "    }\n",
       "\n",
       "    .dataframe thead th {\n",
       "        text-align: right;\n",
       "    }\n",
       "</style>\n",
       "<table border=\"1\" class=\"dataframe\">\n",
       "  <thead>\n",
       "    <tr style=\"text-align: right;\">\n",
       "      <th></th>\n",
       "      <th>id</th>\n",
       "      <th>cno</th>\n",
       "      <th>titulo_oferta</th>\n",
       "      <th>detalle_oferta</th>\n",
       "      <th>empresa_oferta</th>\n",
       "      <th>categoria</th>\n",
       "    </tr>\n",
       "  </thead>\n",
       "  <tbody>\n",
       "    <tr>\n",
       "      <th>0</th>\n",
       "      <td>1763217793</td>\n",
       "      <td>5220</td>\n",
       "      <td>Se necesita ayudante de dependienta</td>\n",
       "      <td>Horario partido de comercio en centro Madrid</td>\n",
       "      <td>Fritos El Cisne SL</td>\n",
       "      <td>Agricultura/jardinería/alimentación -\\r\\nConse...</td>\n",
       "    </tr>\n",
       "    <tr>\n",
       "      <th>1</th>\n",
       "      <td>1763583482</td>\n",
       "      <td>4111</td>\n",
       "      <td>Administrativo marketing/vo</td>\n",
       "      <td>Edad: Que encaje en un contrato de formación.\\...</td>\n",
       "      <td>AUTOFER SL</td>\n",
       "      <td>Administración -\\r\\nAdministrativos\\r\\nEmplead...</td>\n",
       "    </tr>\n",
       "    <tr>\n",
       "      <th>2</th>\n",
       "      <td>1762685353</td>\n",
       "      <td>CNO no informado</td>\n",
       "      <td>Experto en soporte técnico</td>\n",
       "      <td>Su área de responsabilidad\\r\\nInstalación, rep...</td>\n",
       "      <td>Weinig Holz-Her España</td>\n",
       "      <td>Fábricas/industria -\\r\\nTécnicos Metalúrgicos\\...</td>\n",
       "    </tr>\n",
       "    <tr>\n",
       "      <th>3</th>\n",
       "      <td>1762857238</td>\n",
       "      <td>CNO no informado</td>\n",
       "      <td>Operador de sala - pause &amp; play torrecárdenas</td>\n",
       "      <td>Funciones del puesto:\\r\\n- Atención personaliz...</td>\n",
       "      <td>Vision Innovation Diversion SL</td>\n",
       "      <td>Comunicación/cultura/entretenimiento -\\r\\nApue...</td>\n",
       "    </tr>\n",
       "    <tr>\n",
       "      <th>4</th>\n",
       "      <td>1764322624</td>\n",
       "      <td>4301</td>\n",
       "      <td>Administrativo</td>\n",
       "      <td>nominas, contratos, seguros sociales- departam...</td>\n",
       "      <td>ORGADEM,SL</td>\n",
       "      <td>Administración -\\r\\nRecursos Humanos/personal\\...</td>\n",
       "    </tr>\n",
       "  </tbody>\n",
       "</table>\n",
       "</div>"
      ],
      "text/plain": [
       "           id               cno  \\\n",
       "0  1763217793              5220   \n",
       "1  1763583482              4111   \n",
       "2  1762685353  CNO no informado   \n",
       "3  1762857238  CNO no informado   \n",
       "4  1764322624              4301   \n",
       "\n",
       "                                   titulo_oferta  \\\n",
       "0            Se necesita ayudante de dependienta   \n",
       "1                    Administrativo marketing/vo   \n",
       "2                     Experto en soporte técnico   \n",
       "3  Operador de sala - pause & play torrecárdenas   \n",
       "4                                 Administrativo   \n",
       "\n",
       "                                      detalle_oferta  \\\n",
       "0       Horario partido de comercio en centro Madrid   \n",
       "1  Edad: Que encaje en un contrato de formación.\\...   \n",
       "2  Su área de responsabilidad\\r\\nInstalación, rep...   \n",
       "3  Funciones del puesto:\\r\\n- Atención personaliz...   \n",
       "4  nominas, contratos, seguros sociales- departam...   \n",
       "\n",
       "                   empresa_oferta  \\\n",
       "0              Fritos El Cisne SL   \n",
       "1                      AUTOFER SL   \n",
       "2          Weinig Holz-Her España   \n",
       "3  Vision Innovation Diversion SL   \n",
       "4                      ORGADEM,SL   \n",
       "\n",
       "                                           categoria  \n",
       "0  Agricultura/jardinería/alimentación -\\r\\nConse...  \n",
       "1  Administración -\\r\\nAdministrativos\\r\\nEmplead...  \n",
       "2  Fábricas/industria -\\r\\nTécnicos Metalúrgicos\\...  \n",
       "3  Comunicación/cultura/entretenimiento -\\r\\nApue...  \n",
       "4  Administración -\\r\\nRecursos Humanos/personal\\...  "
      ]
     },
     "execution_count": 10,
     "metadata": {},
     "output_type": "execute_result"
    }
   ],
   "source": [
    "df.drop(columns = {'Unnamed: 0','Unnamed: 0.1', 'link','fin_oferta'  }, inplace = True)\n",
    "df.head()"
   ]
  },
  {
   "cell_type": "markdown",
   "id": "e25cfc89",
   "metadata": {},
   "source": [
    "## DUPLICADOS"
   ]
  },
  {
   "cell_type": "markdown",
   "id": "8a079ed3",
   "metadata": {},
   "source": [
    "### Identificación"
   ]
  },
  {
   "cell_type": "code",
   "execution_count": 11,
   "id": "f5b23bfc",
   "metadata": {
    "scrolled": true
   },
   "outputs": [
    {
     "data": {
      "text/plain": [
       "0"
      ]
     },
     "execution_count": 11,
     "metadata": {},
     "output_type": "execute_result"
    }
   ],
   "source": [
    "df.duplicated().sum()"
   ]
  },
  {
   "cell_type": "markdown",
   "id": "d440242b",
   "metadata": {},
   "source": [
    "### Corrección"
   ]
  },
  {
   "cell_type": "code",
   "execution_count": 12,
   "id": "a693f362",
   "metadata": {},
   "outputs": [],
   "source": [
    "df.drop_duplicates(inplace = True)"
   ]
  },
  {
   "cell_type": "markdown",
   "id": "632ec2cd",
   "metadata": {},
   "source": [
    "## SEPARAR NUMÉRICAS Y CATEGÓRICAS"
   ]
  },
  {
   "cell_type": "code",
   "execution_count": 13,
   "id": "95a8570e",
   "metadata": {},
   "outputs": [
    {
     "name": "stdout",
     "output_type": "stream",
     "text": [
      "<class 'pandas.core.frame.DataFrame'>\n",
      "Int64Index: 8253 entries, 0 to 8252\n",
      "Data columns (total 6 columns):\n",
      " #   Column          Non-Null Count  Dtype \n",
      "---  ------          --------------  ----- \n",
      " 0   id              8253 non-null   int64 \n",
      " 1   cno             8253 non-null   object\n",
      " 2   titulo_oferta   8253 non-null   object\n",
      " 3   detalle_oferta  8144 non-null   object\n",
      " 4   empresa_oferta  1996 non-null   object\n",
      " 5   categoria       8253 non-null   object\n",
      "dtypes: int64(1), object(5)\n",
      "memory usage: 451.3+ KB\n"
     ]
    }
   ],
   "source": [
    "df.info()"
   ]
  },
  {
   "cell_type": "markdown",
   "id": "5e7d8e7e",
   "metadata": {},
   "source": [
    "## GESTIÓN df"
   ]
  },
  {
   "cell_type": "markdown",
   "id": "5b5808b7",
   "metadata": {},
   "source": [
    "### Nulos"
   ]
  },
  {
   "cell_type": "markdown",
   "id": "5c08ca55",
   "metadata": {},
   "source": [
    "#### Identificación"
   ]
  },
  {
   "cell_type": "code",
   "execution_count": 14,
   "id": "da49ae63",
   "metadata": {
    "scrolled": true
   },
   "outputs": [
    {
     "data": {
      "text/plain": [
       "empresa_oferta    6257\n",
       "detalle_oferta     109\n",
       "id                   0\n",
       "cno                  0\n",
       "titulo_oferta        0\n",
       "categoria            0\n",
       "dtype: int64"
      ]
     },
     "execution_count": 14,
     "metadata": {},
     "output_type": "execute_result"
    }
   ],
   "source": [
    "df.isna().sum().sort_values(ascending = False)"
   ]
  },
  {
   "cell_type": "markdown",
   "id": "6802d575",
   "metadata": {},
   "source": [
    "#### Corrección"
   ]
  },
  {
   "cell_type": "markdown",
   "id": "cdd2db55",
   "metadata": {},
   "source": [
    "##### Eliminar registros"
   ]
  },
  {
   "cell_type": "code",
   "execution_count": 15,
   "id": "62ad5097",
   "metadata": {},
   "outputs": [],
   "source": [
    "# Eliminamos los registros donde el 'DETALLE OFERTA' es nulo. \n",
    "\n",
    "df = df.dropna(subset = ['detalle_oferta'])"
   ]
  },
  {
   "cell_type": "code",
   "execution_count": 16,
   "id": "0979fc0e",
   "metadata": {},
   "outputs": [
    {
     "data": {
      "text/html": [
       "<div>\n",
       "<style scoped>\n",
       "    .dataframe tbody tr th:only-of-type {\n",
       "        vertical-align: middle;\n",
       "    }\n",
       "\n",
       "    .dataframe tbody tr th {\n",
       "        vertical-align: top;\n",
       "    }\n",
       "\n",
       "    .dataframe thead th {\n",
       "        text-align: right;\n",
       "    }\n",
       "</style>\n",
       "<table border=\"1\" class=\"dataframe\">\n",
       "  <thead>\n",
       "    <tr style=\"text-align: right;\">\n",
       "      <th></th>\n",
       "      <th>id</th>\n",
       "      <th>cno</th>\n",
       "      <th>titulo_oferta</th>\n",
       "      <th>detalle_oferta</th>\n",
       "      <th>empresa_oferta</th>\n",
       "      <th>categoria</th>\n",
       "    </tr>\n",
       "  </thead>\n",
       "  <tbody>\n",
       "    <tr>\n",
       "      <th>0</th>\n",
       "      <td>1763217793</td>\n",
       "      <td>5220</td>\n",
       "      <td>Se necesita ayudante de dependienta</td>\n",
       "      <td>Horario partido de comercio en centro Madrid</td>\n",
       "      <td>Fritos El Cisne SL</td>\n",
       "      <td>Agricultura/jardinería/alimentación -\\r\\nConse...</td>\n",
       "    </tr>\n",
       "    <tr>\n",
       "      <th>1</th>\n",
       "      <td>1763583482</td>\n",
       "      <td>4111</td>\n",
       "      <td>Administrativo marketing/vo</td>\n",
       "      <td>Edad: Que encaje en un contrato de formación.\\...</td>\n",
       "      <td>AUTOFER SL</td>\n",
       "      <td>Administración -\\r\\nAdministrativos\\r\\nEmplead...</td>\n",
       "    </tr>\n",
       "    <tr>\n",
       "      <th>4</th>\n",
       "      <td>1764322624</td>\n",
       "      <td>4301</td>\n",
       "      <td>Administrativo</td>\n",
       "      <td>nominas, contratos, seguros sociales- departam...</td>\n",
       "      <td>ORGADEM,SL</td>\n",
       "      <td>Administración -\\r\\nRecursos Humanos/personal\\...</td>\n",
       "    </tr>\n",
       "    <tr>\n",
       "      <th>5</th>\n",
       "      <td>1765500539</td>\n",
       "      <td>7221</td>\n",
       "      <td>Fontanero - calefactor</td>\n",
       "      <td>FONTANERO CALEFACTOR CON EXPERIENCIA EN MONTAJ...</td>\n",
       "      <td>TERCALOR</td>\n",
       "      <td>Fábricas/industria -\\r\\nMontadores Y Ensamblad...</td>\n",
       "    </tr>\n",
       "    <tr>\n",
       "      <th>6</th>\n",
       "      <td>1764985510</td>\n",
       "      <td>5120</td>\n",
       "      <td>Camarero con experiencia</td>\n",
       "      <td>Camarero con experiencia, jornada completa, tu...</td>\n",
       "      <td>MARINELA LIVIA CUREAN</td>\n",
       "      <td>Hostelería/turismo -\\r\\nCamareros\\r\\nCamareros...</td>\n",
       "    </tr>\n",
       "  </tbody>\n",
       "</table>\n",
       "</div>"
      ],
      "text/plain": [
       "           id   cno                        titulo_oferta  \\\n",
       "0  1763217793  5220  Se necesita ayudante de dependienta   \n",
       "1  1763583482  4111          Administrativo marketing/vo   \n",
       "4  1764322624  4301                       Administrativo   \n",
       "5  1765500539  7221               Fontanero - calefactor   \n",
       "6  1764985510  5120             Camarero con experiencia   \n",
       "\n",
       "                                      detalle_oferta         empresa_oferta  \\\n",
       "0       Horario partido de comercio en centro Madrid     Fritos El Cisne SL   \n",
       "1  Edad: Que encaje en un contrato de formación.\\...             AUTOFER SL   \n",
       "4  nominas, contratos, seguros sociales- departam...             ORGADEM,SL   \n",
       "5  FONTANERO CALEFACTOR CON EXPERIENCIA EN MONTAJ...               TERCALOR   \n",
       "6  Camarero con experiencia, jornada completa, tu...  MARINELA LIVIA CUREAN   \n",
       "\n",
       "                                           categoria  \n",
       "0  Agricultura/jardinería/alimentación -\\r\\nConse...  \n",
       "1  Administración -\\r\\nAdministrativos\\r\\nEmplead...  \n",
       "4  Administración -\\r\\nRecursos Humanos/personal\\...  \n",
       "5  Fábricas/industria -\\r\\nMontadores Y Ensamblad...  \n",
       "6  Hostelería/turismo -\\r\\nCamareros\\r\\nCamareros...  "
      ]
     },
     "execution_count": 16,
     "metadata": {},
     "output_type": "execute_result"
    }
   ],
   "source": [
    "# Eliminamos los registros donde el 'cno' es CNO no informado. \n",
    "df = df[df.cno != 'CNO no informado']\n",
    "df.head()"
   ]
  },
  {
   "cell_type": "markdown",
   "id": "0f6b1e4a",
   "metadata": {},
   "source": [
    "## GUARDAR DATASETS TRAS CALIDAD DE DATOS"
   ]
  },
  {
   "cell_type": "markdown",
   "id": "1e211b09",
   "metadata": {},
   "source": [
    "Guarda los avances en df, cat y num con un sufijo para poder guardar o recuperar avances del proyecto.\n",
    "\n",
    "En formato pickle para no perder las modificaciones de metadatos."
   ]
  },
  {
   "cell_type": "markdown",
   "id": "abb12eef",
   "metadata": {},
   "source": [
    "### Definir los nombres de los archivos"
   ]
  },
  {
   "cell_type": "code",
   "execution_count": 17,
   "id": "f83c6f26",
   "metadata": {},
   "outputs": [],
   "source": [
    "ruta_trabajo = ruta_proyecto + '/02_Datos/03_Trabajo/' + 'trabajo_resultado_calidad.pickle'"
   ]
  },
  {
   "cell_type": "markdown",
   "id": "1699f284",
   "metadata": {},
   "source": [
    "### Guardar los archivos"
   ]
  },
  {
   "cell_type": "code",
   "execution_count": 18,
   "id": "6731887a",
   "metadata": {},
   "outputs": [],
   "source": [
    "df.to_pickle(ruta_trabajo)"
   ]
  }
 ],
 "metadata": {
  "kernelspec": {
   "display_name": "Python 3 (ipykernel)",
   "language": "python",
   "name": "python3"
  },
  "language_info": {
   "codemirror_mode": {
    "name": "ipython",
    "version": 3
   },
   "file_extension": ".py",
   "mimetype": "text/x-python",
   "name": "python",
   "nbconvert_exporter": "python",
   "pygments_lexer": "ipython3",
   "version": "3.9.7"
  },
  "toc": {
   "base_numbering": 1,
   "nav_menu": {},
   "number_sections": true,
   "sideBar": true,
   "skip_h1_title": false,
   "title_cell": "Table of Contents",
   "title_sidebar": "Contents",
   "toc_cell": false,
   "toc_position": {
    "height": "calc(100% - 180px)",
    "left": "10px",
    "top": "150px",
    "width": "288.55px"
   },
   "toc_section_display": true,
   "toc_window_display": true
  },
  "varInspector": {
   "cols": {
    "lenName": 16,
    "lenType": 16,
    "lenVar": 40
   },
   "kernels_config": {
    "python": {
     "delete_cmd_postfix": "",
     "delete_cmd_prefix": "del ",
     "library": "var_list.py",
     "varRefreshCmd": "print(var_dic_list())"
    },
    "r": {
     "delete_cmd_postfix": ") ",
     "delete_cmd_prefix": "rm(",
     "library": "var_list.r",
     "varRefreshCmd": "cat(var_dic_list()) "
    }
   },
   "position": {
    "height": "546.85px",
    "left": "680.75px",
    "right": "20px",
    "top": "118px",
    "width": "350px"
   },
   "types_to_exclude": [
    "module",
    "function",
    "builtin_function_or_method",
    "instance",
    "_Feature"
   ],
   "window_display": false
  }
 },
 "nbformat": 4,
 "nbformat_minor": 5
}
