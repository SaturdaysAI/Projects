{
 "cells": [
  {
   "cell_type": "code",
   "execution_count": 2,
   "metadata": {
    "id": "rRPbDvC-DuaQ"
   },
   "outputs": [],
   "source": [
    "import folium as fl\n",
    "import pandas as pd"
   ]
  },
  {
   "cell_type": "code",
   "execution_count": 3,
   "metadata": {
    "id": "jGMY56umD3eP"
   },
   "outputs": [],
   "source": [
    "s = fl.Map(location=[41.390205, 2.154007],\n",
    "           zoom_start=13)"
   ]
  },
  {
   "cell_type": "code",
   "execution_count": 4,
   "metadata": {
    "id": "NpYLLZMgHFpm"
   },
   "outputs": [
    {
     "ename": "FileNotFoundError",
     "evalue": "[Errno 2] No such file or directory: '/content/2021_qualitat_aire_estacions (1).csv'",
     "output_type": "error",
     "traceback": [
      "\u001b[0;31m---------------------------------------------------------------------------\u001b[0m",
      "\u001b[0;31mFileNotFoundError\u001b[0m                         Traceback (most recent call last)",
      "\u001b[0;32m/tmp/ipykernel_29178/2787170936.py\u001b[0m in \u001b[0;36m<module>\u001b[0;34m\u001b[0m\n\u001b[0;32m----> 1\u001b[0;31m \u001b[0mdata\u001b[0m \u001b[0;34m=\u001b[0m \u001b[0mpd\u001b[0m\u001b[0;34m.\u001b[0m\u001b[0mread_csv\u001b[0m\u001b[0;34m(\u001b[0m\u001b[0;34m'/content/2021_qualitat_aire_estacions (1).csv'\u001b[0m\u001b[0;34m)\u001b[0m\u001b[0;34m\u001b[0m\u001b[0;34m\u001b[0m\u001b[0m\n\u001b[0m",
      "\u001b[0;32m~/.local/lib/python3.9/site-packages/pandas/io/parsers.py\u001b[0m in \u001b[0;36mread_csv\u001b[0;34m(filepath_or_buffer, sep, delimiter, header, names, index_col, usecols, squeeze, prefix, mangle_dupe_cols, dtype, engine, converters, true_values, false_values, skipinitialspace, skiprows, skipfooter, nrows, na_values, keep_default_na, na_filter, verbose, skip_blank_lines, parse_dates, infer_datetime_format, keep_date_col, date_parser, dayfirst, cache_dates, iterator, chunksize, compression, thousands, decimal, lineterminator, quotechar, quoting, doublequote, escapechar, comment, encoding, dialect, error_bad_lines, warn_bad_lines, delim_whitespace, low_memory, memory_map, float_precision, storage_options)\u001b[0m\n\u001b[1;32m    608\u001b[0m     \u001b[0mkwds\u001b[0m\u001b[0;34m.\u001b[0m\u001b[0mupdate\u001b[0m\u001b[0;34m(\u001b[0m\u001b[0mkwds_defaults\u001b[0m\u001b[0;34m)\u001b[0m\u001b[0;34m\u001b[0m\u001b[0;34m\u001b[0m\u001b[0m\n\u001b[1;32m    609\u001b[0m \u001b[0;34m\u001b[0m\u001b[0m\n\u001b[0;32m--> 610\u001b[0;31m     \u001b[0;32mreturn\u001b[0m \u001b[0m_read\u001b[0m\u001b[0;34m(\u001b[0m\u001b[0mfilepath_or_buffer\u001b[0m\u001b[0;34m,\u001b[0m \u001b[0mkwds\u001b[0m\u001b[0;34m)\u001b[0m\u001b[0;34m\u001b[0m\u001b[0;34m\u001b[0m\u001b[0m\n\u001b[0m\u001b[1;32m    611\u001b[0m \u001b[0;34m\u001b[0m\u001b[0m\n\u001b[1;32m    612\u001b[0m \u001b[0;34m\u001b[0m\u001b[0m\n",
      "\u001b[0;32m~/.local/lib/python3.9/site-packages/pandas/io/parsers.py\u001b[0m in \u001b[0;36m_read\u001b[0;34m(filepath_or_buffer, kwds)\u001b[0m\n\u001b[1;32m    460\u001b[0m \u001b[0;34m\u001b[0m\u001b[0m\n\u001b[1;32m    461\u001b[0m     \u001b[0;31m# Create the parser.\u001b[0m\u001b[0;34m\u001b[0m\u001b[0;34m\u001b[0m\u001b[0m\n\u001b[0;32m--> 462\u001b[0;31m     \u001b[0mparser\u001b[0m \u001b[0;34m=\u001b[0m \u001b[0mTextFileReader\u001b[0m\u001b[0;34m(\u001b[0m\u001b[0mfilepath_or_buffer\u001b[0m\u001b[0;34m,\u001b[0m \u001b[0;34m**\u001b[0m\u001b[0mkwds\u001b[0m\u001b[0;34m)\u001b[0m\u001b[0;34m\u001b[0m\u001b[0;34m\u001b[0m\u001b[0m\n\u001b[0m\u001b[1;32m    463\u001b[0m \u001b[0;34m\u001b[0m\u001b[0m\n\u001b[1;32m    464\u001b[0m     \u001b[0;32mif\u001b[0m \u001b[0mchunksize\u001b[0m \u001b[0;32mor\u001b[0m \u001b[0miterator\u001b[0m\u001b[0;34m:\u001b[0m\u001b[0;34m\u001b[0m\u001b[0;34m\u001b[0m\u001b[0m\n",
      "\u001b[0;32m~/.local/lib/python3.9/site-packages/pandas/io/parsers.py\u001b[0m in \u001b[0;36m__init__\u001b[0;34m(self, f, engine, **kwds)\u001b[0m\n\u001b[1;32m    817\u001b[0m             \u001b[0mself\u001b[0m\u001b[0;34m.\u001b[0m\u001b[0moptions\u001b[0m\u001b[0;34m[\u001b[0m\u001b[0;34m\"has_index_names\"\u001b[0m\u001b[0;34m]\u001b[0m \u001b[0;34m=\u001b[0m \u001b[0mkwds\u001b[0m\u001b[0;34m[\u001b[0m\u001b[0;34m\"has_index_names\"\u001b[0m\u001b[0;34m]\u001b[0m\u001b[0;34m\u001b[0m\u001b[0;34m\u001b[0m\u001b[0m\n\u001b[1;32m    818\u001b[0m \u001b[0;34m\u001b[0m\u001b[0m\n\u001b[0;32m--> 819\u001b[0;31m         \u001b[0mself\u001b[0m\u001b[0;34m.\u001b[0m\u001b[0m_engine\u001b[0m \u001b[0;34m=\u001b[0m \u001b[0mself\u001b[0m\u001b[0;34m.\u001b[0m\u001b[0m_make_engine\u001b[0m\u001b[0;34m(\u001b[0m\u001b[0mself\u001b[0m\u001b[0;34m.\u001b[0m\u001b[0mengine\u001b[0m\u001b[0;34m)\u001b[0m\u001b[0;34m\u001b[0m\u001b[0;34m\u001b[0m\u001b[0m\n\u001b[0m\u001b[1;32m    820\u001b[0m \u001b[0;34m\u001b[0m\u001b[0m\n\u001b[1;32m    821\u001b[0m     \u001b[0;32mdef\u001b[0m \u001b[0mclose\u001b[0m\u001b[0;34m(\u001b[0m\u001b[0mself\u001b[0m\u001b[0;34m)\u001b[0m\u001b[0;34m:\u001b[0m\u001b[0;34m\u001b[0m\u001b[0;34m\u001b[0m\u001b[0m\n",
      "\u001b[0;32m~/.local/lib/python3.9/site-packages/pandas/io/parsers.py\u001b[0m in \u001b[0;36m_make_engine\u001b[0;34m(self, engine)\u001b[0m\n\u001b[1;32m   1048\u001b[0m             )\n\u001b[1;32m   1049\u001b[0m         \u001b[0;31m# error: Too many arguments for \"ParserBase\"\u001b[0m\u001b[0;34m\u001b[0m\u001b[0;34m\u001b[0m\u001b[0m\n\u001b[0;32m-> 1050\u001b[0;31m         \u001b[0;32mreturn\u001b[0m \u001b[0mmapping\u001b[0m\u001b[0;34m[\u001b[0m\u001b[0mengine\u001b[0m\u001b[0;34m]\u001b[0m\u001b[0;34m(\u001b[0m\u001b[0mself\u001b[0m\u001b[0;34m.\u001b[0m\u001b[0mf\u001b[0m\u001b[0;34m,\u001b[0m \u001b[0;34m**\u001b[0m\u001b[0mself\u001b[0m\u001b[0;34m.\u001b[0m\u001b[0moptions\u001b[0m\u001b[0;34m)\u001b[0m  \u001b[0;31m# type: ignore[call-arg]\u001b[0m\u001b[0;34m\u001b[0m\u001b[0;34m\u001b[0m\u001b[0m\n\u001b[0m\u001b[1;32m   1051\u001b[0m \u001b[0;34m\u001b[0m\u001b[0m\n\u001b[1;32m   1052\u001b[0m     \u001b[0;32mdef\u001b[0m \u001b[0m_failover_to_python\u001b[0m\u001b[0;34m(\u001b[0m\u001b[0mself\u001b[0m\u001b[0;34m)\u001b[0m\u001b[0;34m:\u001b[0m\u001b[0;34m\u001b[0m\u001b[0;34m\u001b[0m\u001b[0m\n",
      "\u001b[0;32m~/.local/lib/python3.9/site-packages/pandas/io/parsers.py\u001b[0m in \u001b[0;36m__init__\u001b[0;34m(self, src, **kwds)\u001b[0m\n\u001b[1;32m   1865\u001b[0m \u001b[0;34m\u001b[0m\u001b[0m\n\u001b[1;32m   1866\u001b[0m         \u001b[0;31m# open handles\u001b[0m\u001b[0;34m\u001b[0m\u001b[0;34m\u001b[0m\u001b[0m\n\u001b[0;32m-> 1867\u001b[0;31m         \u001b[0mself\u001b[0m\u001b[0;34m.\u001b[0m\u001b[0m_open_handles\u001b[0m\u001b[0;34m(\u001b[0m\u001b[0msrc\u001b[0m\u001b[0;34m,\u001b[0m \u001b[0mkwds\u001b[0m\u001b[0;34m)\u001b[0m\u001b[0;34m\u001b[0m\u001b[0;34m\u001b[0m\u001b[0m\n\u001b[0m\u001b[1;32m   1868\u001b[0m         \u001b[0;32massert\u001b[0m \u001b[0mself\u001b[0m\u001b[0;34m.\u001b[0m\u001b[0mhandles\u001b[0m \u001b[0;32mis\u001b[0m \u001b[0;32mnot\u001b[0m \u001b[0;32mNone\u001b[0m\u001b[0;34m\u001b[0m\u001b[0;34m\u001b[0m\u001b[0m\n\u001b[1;32m   1869\u001b[0m         \u001b[0;32mfor\u001b[0m \u001b[0mkey\u001b[0m \u001b[0;32min\u001b[0m \u001b[0;34m(\u001b[0m\u001b[0;34m\"storage_options\"\u001b[0m\u001b[0;34m,\u001b[0m \u001b[0;34m\"encoding\"\u001b[0m\u001b[0;34m,\u001b[0m \u001b[0;34m\"memory_map\"\u001b[0m\u001b[0;34m,\u001b[0m \u001b[0;34m\"compression\"\u001b[0m\u001b[0;34m)\u001b[0m\u001b[0;34m:\u001b[0m\u001b[0;34m\u001b[0m\u001b[0;34m\u001b[0m\u001b[0m\n",
      "\u001b[0;32m~/.local/lib/python3.9/site-packages/pandas/io/parsers.py\u001b[0m in \u001b[0;36m_open_handles\u001b[0;34m(self, src, kwds)\u001b[0m\n\u001b[1;32m   1360\u001b[0m         \u001b[0mLet\u001b[0m \u001b[0mthe\u001b[0m \u001b[0mreaders\u001b[0m \u001b[0mopen\u001b[0m \u001b[0mIOHanldes\u001b[0m \u001b[0mafter\u001b[0m \u001b[0mthey\u001b[0m \u001b[0mare\u001b[0m \u001b[0mdone\u001b[0m \u001b[0;32mwith\u001b[0m \u001b[0mtheir\u001b[0m \u001b[0mpotential\u001b[0m \u001b[0mraises\u001b[0m\u001b[0;34m.\u001b[0m\u001b[0;34m\u001b[0m\u001b[0;34m\u001b[0m\u001b[0m\n\u001b[1;32m   1361\u001b[0m         \"\"\"\n\u001b[0;32m-> 1362\u001b[0;31m         self.handles = get_handle(\n\u001b[0m\u001b[1;32m   1363\u001b[0m             \u001b[0msrc\u001b[0m\u001b[0;34m,\u001b[0m\u001b[0;34m\u001b[0m\u001b[0;34m\u001b[0m\u001b[0m\n\u001b[1;32m   1364\u001b[0m             \u001b[0;34m\"r\"\u001b[0m\u001b[0;34m,\u001b[0m\u001b[0;34m\u001b[0m\u001b[0;34m\u001b[0m\u001b[0m\n",
      "\u001b[0;32m~/.local/lib/python3.9/site-packages/pandas/io/common.py\u001b[0m in \u001b[0;36mget_handle\u001b[0;34m(path_or_buf, mode, encoding, compression, memory_map, is_text, errors, storage_options)\u001b[0m\n\u001b[1;32m    640\u001b[0m                 \u001b[0merrors\u001b[0m \u001b[0;34m=\u001b[0m \u001b[0;34m\"replace\"\u001b[0m\u001b[0;34m\u001b[0m\u001b[0;34m\u001b[0m\u001b[0m\n\u001b[1;32m    641\u001b[0m             \u001b[0;31m# Encoding\u001b[0m\u001b[0;34m\u001b[0m\u001b[0;34m\u001b[0m\u001b[0m\n\u001b[0;32m--> 642\u001b[0;31m             handle = open(\n\u001b[0m\u001b[1;32m    643\u001b[0m                 \u001b[0mhandle\u001b[0m\u001b[0;34m,\u001b[0m\u001b[0;34m\u001b[0m\u001b[0;34m\u001b[0m\u001b[0m\n\u001b[1;32m    644\u001b[0m                 \u001b[0mioargs\u001b[0m\u001b[0;34m.\u001b[0m\u001b[0mmode\u001b[0m\u001b[0;34m,\u001b[0m\u001b[0;34m\u001b[0m\u001b[0;34m\u001b[0m\u001b[0m\n",
      "\u001b[0;31mFileNotFoundError\u001b[0m: [Errno 2] No such file or directory: '/content/2021_qualitat_aire_estacions (1).csv'"
     ]
    }
   ],
   "source": [
    "data = pd.read_csv('/content/2021_qualitat_aire_estacions (1).csv')"
   ]
  },
  {
   "cell_type": "code",
   "execution_count": null,
   "metadata": {
    "colab": {
     "base_uri": "https://localhost:8080/"
    },
    "id": "og_papKuHNma",
    "outputId": "4b1569cc-7816-4e48-f06c-0968167fac75"
   },
   "outputs": [],
   "source": [
    "uno = data.loc[0]\n",
    "uno"
   ]
  },
  {
   "cell_type": "code",
   "execution_count": null,
   "metadata": {
    "colab": {
     "base_uri": "https://localhost:8080/"
    },
    "id": "7JptIyY3N97u",
    "outputId": "05cc9225-020f-45df-bb87-a9f20c8ee579"
   },
   "outputs": [],
   "source": [
    "data.iloc[9]"
   ]
  },
  {
   "cell_type": "code",
   "execution_count": null,
   "metadata": {
    "colab": {
     "base_uri": "https://localhost:8080/"
    },
    "id": "CfahKaDWO7jH",
    "outputId": "ee23d38d-4423-4139-c9e3-75daa3e9c1d0"
   },
   "outputs": [],
   "source": [
    "data.Estacio.value_counts()"
   ]
  },
  {
   "cell_type": "code",
   "execution_count": null,
   "metadata": {
    "colab": {
     "base_uri": "https://localhost:8080/",
     "height": 892
    },
    "id": "uep7ParVPjjo",
    "outputId": "3216c6f0-a4c4-43f4-a20b-1e08a149e25e"
   },
   "outputs": [],
   "source": [
    "for i in range(50):\n",
    "  # Guardamos el nombre de la estación\n",
    "  num = data.Estacio[i]\n",
    "  tooltip = 'Número de estación: '+ str(num)\n",
    "  popup = 'Estación: '+ str(num)\n",
    "  # Asignamos al mapa los atributos de la estación y su ubicación\n",
    "  fl.Marker([data.Latitud[i], data.Longitud[i]], popup = popup, tooltip = tooltip).add_to(s)\n",
    "\n",
    "# Visualización del mapa con las estaciones\n",
    "s"
   ]
  },
  {
   "cell_type": "markdown",
   "metadata": {
    "id": "wHr1L84N5pyQ"
   },
   "source": [
    "- Bibliografía:\n",
    "\n",
    "https://python-visualization.github.io/folium/quickstart.html#Getting-Started\n",
    "\n",
    "https://e-archivo.uc3m.es/bitstream/handle/10016/31974/TFG_Isabel-Maria_San-Jose_Garcia.pdf?sequence=1\n",
    "\n",
    "https://python-visualization.github.io/folium/modules.html\n",
    "\n",
    "https://www.kaggle.com/code/cheyenneamoroso/drawing-geojson-barcelona/notebook\n",
    "\n"
   ]
  },
  {
   "cell_type": "markdown",
   "metadata": {
    "id": "n7htqGgSrKyB"
   },
   "source": [
    "## Segunda parte. Añadimos los contaminantes que mide cada estación."
   ]
  },
  {
   "cell_type": "code",
   "execution_count": null,
   "metadata": {
    "id": "WniOhauaq2_n"
   },
   "outputs": [],
   "source": [
    "# Función que transforma los datasets y les añade una columna con el nombre\n",
    "import pandas as pd\n",
    "import numpy as np\n",
    "\n",
    "def integratemetadata():\n",
    "\t\"\"\"\n",
    "\tintegratemetadata() arregla el problema de que en las medidas de 2020-21 los contaminantes salen por código en vez de por nombre propio.\n",
    "\tdevuelve una copia de las medidas de 2020-2021 con una columna nueva (CONTAMINANTE) con el nombre del contaminante\n",
    "\t\"\"\"\n",
    "\tmedidas_str = \"2020-21.csv\"\n",
    "\tmedidas = pd.read_csv(medidas_str)\n",
    "\t\n",
    "\tmeta = \"qualitat_aire_contaminants.csv\"\n",
    "\tmeta = pd.read_csv(meta)\n",
    "\n",
    "\t# crea diccionario con código de contaminante y nombres, reemplaza la columna\n",
    "\tdic = dict(meta[[\"Codi_Contaminant\",\"Desc_Contaminant\"]].values)\n",
    "\tprint(dic)\n",
    "\t#medidas[\"CODI_CONTAMINANT\"] = medidas[\"CODI_CONTAMINANT\"].replace('nan', np.nan).fillna(0)\n",
    "\ttest = medidas[\"CODI_CONTAMINANT\"]\n",
    "\tprint(set(test))\n",
    "\tprint(medidas[\"CODI_CONTAMINANT\"])\n",
    "\tmedidas[\"CONTAMINANTE\"] = medidas[\"CODI_CONTAMINANT\"].replace(dic)\n",
    "\treturn medidas"
   ]
  },
  {
   "cell_type": "code",
   "execution_count": null,
   "metadata": {
    "id": "szwsD6xmruye"
   },
   "outputs": [],
   "source": [
    "test = integratemetadata()"
   ]
  },
  {
   "cell_type": "code",
   "execution_count": null,
   "metadata": {
    "id": "L78_rE7VsbLj"
   },
   "outputs": [],
   "source": [
    "test"
   ]
  },
  {
   "cell_type": "code",
   "execution_count": null,
   "metadata": {
    "id": "lyvlXqgOtyj7"
   },
   "outputs": [],
   "source": [
    "test.drop(['CODI_PROVINCIA','PROVINCIA', 'CODI_MUNICIPI', 'MUNICIPI'], axis='columns', inplace=True)"
   ]
  },
  {
   "cell_type": "code",
   "execution_count": null,
   "metadata": {
    "id": "hCzvKKsnvELJ"
   },
   "outputs": [],
   "source": [
    "test.columns"
   ]
  },
  {
   "cell_type": "code",
   "execution_count": null,
   "metadata": {
    "id": "TZGjzSibybRG"
   },
   "outputs": [],
   "source": [
    "test_clean = test[['ESTACIO','CODI_CONTAMINANT','CONTAMINANTE']]"
   ]
  },
  {
   "cell_type": "code",
   "execution_count": null,
   "metadata": {
    "id": "uHZrbDr2vG5q"
   },
   "outputs": [],
   "source": [
    "(test_clean['CODI_CONTAMINANT'] == test_clean['CONTAMINANTE']).value_counts()"
   ]
  },
  {
   "cell_type": "code",
   "execution_count": null,
   "metadata": {
    "id": "wrTHyj0kzCWr"
   },
   "outputs": [],
   "source": [
    "test_clean['CODI_CONTAMINANT'].isnull().value_counts()"
   ]
  },
  {
   "cell_type": "code",
   "execution_count": null,
   "metadata": {
    "id": "cEykoaA3v_OR"
   },
   "outputs": [],
   "source": [
    "test_clean['CONTAMINANTE'].isnull().value_counts()"
   ]
  },
  {
   "cell_type": "code",
   "execution_count": null,
   "metadata": {
    "id": "a8HEjYGn0PRX"
   },
   "outputs": [],
   "source": [
    "test_wo_null = test_clean.dropna()"
   ]
  },
  {
   "cell_type": "code",
   "execution_count": null,
   "metadata": {
    "id": "FMhUTH820uVY"
   },
   "outputs": [],
   "source": [
    "test_wo_null['CODI_CONTAMINANT'].isnull().value_counts()"
   ]
  },
  {
   "cell_type": "code",
   "execution_count": null,
   "metadata": {
    "id": "wFG6JifQ1Whm"
   },
   "outputs": [],
   "source": [
    "test_wo_null"
   ]
  },
  {
   "cell_type": "code",
   "execution_count": null,
   "metadata": {
    "id": "8jqAxN623iq6"
   },
   "outputs": [],
   "source": [
    "test_bef_join = test_wo_null[['ESTACIO','CONTAMINANTE']]"
   ]
  },
  {
   "cell_type": "code",
   "execution_count": null,
   "metadata": {
    "id": "cPonMKyU6A9p"
   },
   "outputs": [],
   "source": [
    "(test_wo_null['CODI_CONTAMINANT'] == test_wo_null['CONTAMINANTE']).value_counts()"
   ]
  },
  {
   "cell_type": "code",
   "execution_count": null,
   "metadata": {
    "id": "2rRxqoNB1ktE"
   },
   "outputs": [],
   "source": [
    "dat = pd.read_csv('qualitat_aire_contaminants.csv')"
   ]
  },
  {
   "cell_type": "code",
   "execution_count": null,
   "metadata": {
    "id": "WR6xUzv_13Lx"
   },
   "outputs": [],
   "source": [
    "dat"
   ]
  },
  {
   "cell_type": "code",
   "execution_count": null,
   "metadata": {
    "id": "bgb8jSCn7r6e"
   },
   "outputs": [],
   "source": [
    "test_filter = test_bef_join.drop_duplicates()"
   ]
  },
  {
   "cell_type": "code",
   "execution_count": null,
   "metadata": {
    "id": "V9SDJQyf_m_Z"
   },
   "outputs": [],
   "source": [
    "test_fil_re = test_filter.rename(columns={'CONTAMINANTE':'Codi_Contaminant'})"
   ]
  },
  {
   "cell_type": "code",
   "execution_count": null,
   "metadata": {
    "id": "pHVc5SStJY6U"
   },
   "outputs": [],
   "source": [
    "res = dat.to_dict()"
   ]
  },
  {
   "cell_type": "code",
   "execution_count": null,
   "metadata": {
    "id": "4RYR9YKWS_3j"
   },
   "outputs": [],
   "source": [
    "dat"
   ]
  },
  {
   "cell_type": "code",
   "execution_count": null,
   "metadata": {
    "id": "SKt7VW8LQtRw"
   },
   "outputs": [],
   "source": [
    "type(test_filter['CONTAMINANTE'][0])"
   ]
  },
  {
   "cell_type": "markdown",
   "metadata": {
    "id": "uji8RCjHEzE_"
   },
   "source": []
  },
  {
   "cell_type": "code",
   "execution_count": null,
   "metadata": {
    "id": "OYWQXqlBWJaV"
   },
   "outputs": [],
   "source": [
    "dat = dat[0:9]\n",
    "dat"
   ]
  },
  {
   "cell_type": "code",
   "execution_count": null,
   "metadata": {
    "id": "OSoRuUlbPG5K"
   },
   "outputs": [],
   "source": [
    "test_filter"
   ]
  },
  {
   "cell_type": "code",
   "execution_count": null,
   "metadata": {
    "id": "nQcqESyIPGuR"
   },
   "outputs": [],
   "source": [
    "test_filter = test_filter.drop(index=2583)"
   ]
  },
  {
   "cell_type": "code",
   "execution_count": null,
   "metadata": {
    "colab": {
     "base_uri": "https://localhost:8080/"
    },
    "id": "B7WSyX0Pfywv",
    "outputId": "336f6933-e806-4156-c718-8dd075d25481"
   },
   "outputs": [],
   "source": [
    "test_filter = test_filter.rename(columns={'CONTAMINANTE':'Codi_Contaminant'})\n",
    "test_filter['ESTACIO'] = test_filter['ESTACIO'].astype(int)\n",
    "test_filter['Codi_Contaminant'] = test_filter['Codi_Contaminant'].astype(int)\n",
    "type(test_filter['Codi_Contaminant'][0])\n"
   ]
  },
  {
   "cell_type": "code",
   "execution_count": null,
   "metadata": {
    "id": "SwZ6rxM9dUr2"
   },
   "outputs": [],
   "source": [
    "# Realizamos la unión de los datos\n",
    "res = test_filter.merge(dat, how='right')\n",
    "res_final = res.sort_values('ESTACIO')"
   ]
  },
  {
   "cell_type": "code",
   "execution_count": null,
   "metadata": {
    "id": "p690_SbSF3_J"
   },
   "outputs": [],
   "source": [
    "# Representación del DataFrame final\n",
    "res_final.head()"
   ]
  },
  {
   "cell_type": "markdown",
   "metadata": {
    "id": "7fwwog7dFNEj"
   },
   "source": [
    "-------------------------------- Siguiente Mapa-----------------------------"
   ]
  },
  {
   "cell_type": "code",
   "execution_count": null,
   "metadata": {
    "id": "2uEgUdMUFMoa"
   },
   "outputs": [],
   "source": [
    "map2 = fl.Map(location=[41.390205, 2.154007],\n",
    "           zoom_start=13)"
   ]
  },
  {
   "cell_type": "code",
   "execution_count": null,
   "metadata": {
    "colab": {
     "base_uri": "https://localhost:8080/"
    },
    "id": "UzBwpJpxIlmq",
    "outputId": "b7ae8e56-adcb-4833-fd32-4fea8a75a34b"
   },
   "outputs": [],
   "source": [
    "edef listado_compo(num):\n",
    "  '''\n",
    "  Devuelve una lista con los nombres de los contaminantes y sus unidades en función de la estación de medición.\n",
    "  '''\n",
    "  data_una_Estacion = res_final[res_final['ESTACIO'] == num]\n",
    "  listado = list(data_una_Estacion.iloc[:,[2,3]].values)\n",
    "  componente = ''\n",
    "  longitud = len(listado)\n",
    "  for i in range(0,longitud):\n",
    "    componente += listado[i][0] +'['+ listado[i][1] + '] '\n",
    " \n",
    "  return componente\n",
    "\n",
    "data_una_Estacion = res_final[res_final['ESTACIO'] == 42]\n",
    "listado = list(data_una_Estacion.iloc[:,[2,3]].values)\n",
    "for i in range(0,len(listado)):\n",
    "  print(listado[i][0] +' ['+ listado[i][1]+']\\n')"
   ]
  },
  {
   "cell_type": "code",
   "execution_count": null,
   "metadata": {
    "colab": {
     "base_uri": "https://localhost:8080/",
     "height": 36
    },
    "id": "UX65LE-pNm_b",
    "outputId": "af7ec241-8444-4e2a-f5cd-e01781845a20"
   },
   "outputs": [],
   "source": [
    "listado_compo(43)"
   ]
  },
  {
   "cell_type": "code",
   "execution_count": null,
   "metadata": {
    "colab": {
     "base_uri": "https://localhost:8080/",
     "height": 36
    },
    "id": "3Rl2L-7qKjGN",
    "outputId": "9413a740-d522-46cb-b9e0-c67fa7792865"
   },
   "outputs": [],
   "source": [
    "a[1][0]"
   ]
  },
  {
   "cell_type": "code",
   "execution_count": null,
   "metadata": {
    "colab": {
     "base_uri": "https://localhost:8080/",
     "height": 892
    },
    "id": "EVjkpiTRPGp2",
    "outputId": "d98ee6b7-4326-4980-f208-8daed104560d"
   },
   "outputs": [],
   "source": [
    "for i in range(50):\n",
    "  # Guardamos el nombre de la estación\n",
    "  num = data.Estacio[i]\n",
    "  tooltip = 'Número de estación: '+ str(num)\n",
    "  popup = 'Contaminantes:  '+listado_compo(num)\n",
    "  # Asignamos al mapa los atributos de la estación y su ubicación\n",
    "  fl.Marker([data.Latitud[i], data.Longitud[i]], popup = popup, tooltip = tooltip).add_to(map2)\n",
    "\n",
    "# Visualización del mapa con las estaciones\n",
    "map2"
   ]
  },
  {
   "cell_type": "markdown",
   "metadata": {
    "id": "OBtYgYglv7fA"
   },
   "source": [
    "## Algoritmo Prophet Facebook."
   ]
  },
  {
   "cell_type": "markdown",
   "metadata": {
    "id": "G03GOtcRSuDa"
   },
   "source": [
    "Enlaces para trabajar con el modelo.\n",
    "- https://medium.com/analytics-vidhya/forecasting-using-facebooks-prophet-library-ce628e76586b\n",
    "\n",
    "- https://machinelearningmastery.com/time-series-forecasting-with-prophet-in-python/\n",
    "\n"
   ]
  },
  {
   "cell_type": "code",
   "execution_count": null,
   "metadata": {
    "colab": {
     "base_uri": "https://localhost:8080/"
    },
    "id": "gKEMzRm0wvPB",
    "outputId": "5f9286f0-ed50-447e-f57b-d2fb4f1623f9"
   },
   "outputs": [],
   "source": [
    "!pip install prophet"
   ]
  },
  {
   "cell_type": "code",
   "execution_count": null,
   "metadata": {
    "id": "GcpG4AOqv_yJ"
   },
   "outputs": [],
   "source": [
    "from prophet import Prophet\n",
    "import pandas as pd\n",
    "import numpy as np"
   ]
  },
  {
   "cell_type": "code",
   "execution_count": null,
   "metadata": {
    "id": "ITR8Ile9xOrK"
   },
   "outputs": [],
   "source": [
    "model = Prophet()"
   ]
  },
  {
   "cell_type": "markdown",
   "metadata": {
    "id": "4dPoGElv2BES"
   },
   "source": [
    "Desktop/Proyecto/GreenSaturdaysAI/src/mediciones.csv"
   ]
  },
  {
   "cell_type": "code",
   "execution_count": null,
   "metadata": {
    "id": "iCdksv3cxOui"
   },
   "outputs": [],
   "source": [
    "data = pd.read_csv('mediciones.csv')"
   ]
  },
  {
   "cell_type": "code",
   "execution_count": null,
   "metadata": {
    "id": "fen6N9W3xO0d"
   },
   "outputs": [],
   "source": [
    "data = data.drop(columns=['Unnamed: 0'])"
   ]
  },
  {
   "cell_type": "code",
   "execution_count": null,
   "metadata": {
    "colab": {
     "base_uri": "https://localhost:8080/",
     "height": 424
    },
    "id": "idWNku67CoXQ",
    "outputId": "718ec005-7197-44eb-ae71-a5cf37201d98"
   },
   "outputs": [],
   "source": [
    "data"
   ]
  },
  {
   "cell_type": "code",
   "execution_count": null,
   "metadata": {
    "colab": {
     "base_uri": "https://localhost:8080/"
    },
    "id": "QzGo8nF3DEy_",
    "outputId": "a67eb464-f3d5-4cc0-eb9b-5719c53f2cad"
   },
   "outputs": [],
   "source": [
    "data.CONTAMINANTE.value_counts()"
   ]
  },
  {
   "cell_type": "code",
   "execution_count": null,
   "metadata": {
    "colab": {
     "base_uri": "https://localhost:8080/",
     "height": 424
    },
    "id": "DuYz7oVxHTfs",
    "outputId": "e4caba21-f72d-4d57-d3f6-be5da408c30e"
   },
   "outputs": [],
   "source": [
    "dat = pd.read_csv('2020-21.csv')\n",
    "dat"
   ]
  },
  {
   "cell_type": "code",
   "execution_count": null,
   "metadata": {
    "id": "3As0QhLYHyfS"
   },
   "outputs": [],
   "source": [
    "def con_fecha(dd, mm , aaaa):\n",
    "  if dd < 10:\n",
    "    dd = '0'+str(dd)\n",
    "  else:\n",
    "    dd = str(dd)\n",
    "  \n",
    "  if mm < 10:\n",
    "    mm = '0'+str(mm)\n",
    "  else:\n",
    "    mm = str(mm)\n",
    "  return dd + '-' + mm + '-' + str(aaaa)"
   ]
  },
  {
   "cell_type": "code",
   "execution_count": null,
   "metadata": {
    "colab": {
     "base_uri": "https://localhost:8080/"
    },
    "id": "lg2aLypyJs-s",
    "outputId": "67e7ec23-f0a5-4bc4-98bf-61d48cd23f79"
   },
   "outputs": [],
   "source": [
    "len(dat.ESTACIO)"
   ]
  },
  {
   "cell_type": "code",
   "execution_count": null,
   "metadata": {
    "id": "2sbojEbtIN6D"
   },
   "outputs": [],
   "source": [
    "\n",
    "fecha = []\n",
    "for i in range(len(dat.ESTACIO)):\n",
    "  fecha.append( con_fecha(dat.DIA[i], dat.MES[i], dat.ANY[i]) )"
   ]
  },
  {
   "cell_type": "code",
   "execution_count": null,
   "metadata": {
    "id": "deMOo2VMKCPH"
   },
   "outputs": [],
   "source": [
    "dat['ds'] = fecha"
   ]
  },
  {
   "cell_type": "code",
   "execution_count": null,
   "metadata": {
    "colab": {
     "base_uri": "https://localhost:8080/",
     "height": 424
    },
    "id": "pXvbsAX8KGux",
    "outputId": "143ec057-1ce5-43cd-dc5a-422cdd5a05ba"
   },
   "outputs": [],
   "source": [
    "dat"
   ]
  },
  {
   "cell_type": "code",
   "execution_count": null,
   "metadata": {
    "colab": {
     "base_uri": "https://localhost:8080/",
     "height": 373
    },
    "id": "aRo5eCdlGl4J",
    "outputId": "05b2c095-a2f5-4b25-a59d-e2a718e56edb"
   },
   "outputs": [],
   "source": [
    "print('Training prophet..')\n",
    "\n",
    "model.fit(dat)\n",
    "#%% Forecast 1 year\n",
    "years = 1\n",
    "future = model.make_future_dataframe(periods=365*years)\n",
    "future.tail()"
   ]
  },
  {
   "cell_type": "code",
   "execution_count": null,
   "metadata": {
    "id": "2DpxKzliGl63"
   },
   "outputs": [],
   "source": [
    "# Meterse en C:\\Users\\cesar\\Desktop\\Proyecto\\GreenSaturdaysAI\\src/ model o modelo - ahío esta el datafram completo de Alex"
   ]
  },
  {
   "cell_type": "markdown",
   "metadata": {
    "id": "chTZhAYFEmH-"
   },
   "source": [
    "## Transformación de los datos de medidas 2020-21"
   ]
  },
  {
   "cell_type": "code",
   "execution_count": null,
   "metadata": {
    "id": "1qDcO-OpGl9Y"
   },
   "outputs": [],
   "source": [
    "df = pd.read_csv(\"/content/2020-21.csv\")"
   ]
  },
  {
   "cell_type": "code",
   "execution_count": null,
   "metadata": {
    "colab": {
     "base_uri": "https://localhost:8080/",
     "height": 424
    },
    "id": "JZXZ0Lxwj_S5",
    "outputId": "9991bd06-5e44-4c67-e410-17003060a0be"
   },
   "outputs": [],
   "source": [
    "df"
   ]
  },
  {
   "cell_type": "code",
   "execution_count": null,
   "metadata": {
    "id": "sAD1h8eYEwx8"
   },
   "outputs": [],
   "source": [
    "# Creamos una columna que determuine las fecha en las que existia el covid\n",
    "df[\"covid\"] = 0\n",
    "# Creamos una columna con las fechas\n",
    "df[\"fecha\"] = df[[\"DIA\", \"MES\", \"ANY\"]].astype(str).agg('/'.join, axis = 1)"
   ]
  },
  {
   "cell_type": "code",
   "execution_count": null,
   "metadata": {
    "id": "rk8ioCBzEw9i"
   },
   "outputs": [],
   "source": [
    "festivos = [\"1/1/2018\",\"6/1/2018\",\"30/3/2018\",\"2/4/2018\",\"1/5/2018\",\"21/5/2018\",\"15/8/2018\",\"11/9/2018\",\"24/9/2018\",\"12/10/2018\",\"1/11/2018\",\"6/12/2018\",\"8/12/2018\",\"25/12/2018\",\"26/12/2018\",\"1/1/2019\",\"6/1/2019\",\"19/4/2019\",\"22/4/2019\",\"1/5/2019\",\"10/6/2019\",\"15/8/2019\",\"11/9/2019\",\"24/9/2019\",\"12/10/2019\",\"1/11/2019\",\"6/12/2019\",\"8/12/2019\",\"25/12/2019\",\"26/12/2019\",\"1/1/2020\",\"6/1/2020\",\"10/4/2020\",\"13/4/2020\",\"1/5/2020\",\"1/6/2020\",\"24/6/2020\",\"15/8/2020\",\"11/9/2020\",\"24/9/2020\",\"12/10/2020\",\"8/12/2020\",\"25/12/2020\",\"26/12/2020\",\"1/1/2021\",\"6/1/2021\",\"2/4/2021\",\"5/4/2021\",\"1/5/2021\",\"24/6/2021\",\"11/9/2021\",\"12/10/2021\",\"1/11/2021\",\"6/12/2021\",\"8/12/2021\",\"25/12/2021\"]\n",
    "#[lambda x: datetime.datetime.strftime(datetime.datetime.strptime(x, '%d/%m/%Y'),'%d/%m/%Y') for x in festivos]\n",
    "#[lambda x: datetime.datetime.strftime(datetime.datetime.strptime(x, '%d/%m/%Y'),'%d/%m/%Y') for x in fechas]"
   ]
  },
  {
   "cell_type": "code",
   "execution_count": null,
   "metadata": {
    "id": "VhtkbYdXEw61"
   },
   "outputs": [],
   "source": [
    "df['festivo'] = 100"
   ]
  },
  {
   "cell_type": "code",
   "execution_count": null,
   "metadata": {
    "id": "yyra3WbiEw3Z"
   },
   "outputs": [],
   "source": [
    "df['festivo'] = df['fecha'].apply(lambda x: 1 if x in festivos else 0)"
   ]
  },
  {
   "cell_type": "code",
   "execution_count": null,
   "metadata": {
    "colab": {
     "base_uri": "https://localhost:8080/",
     "height": 424
    },
    "id": "Q3fP9Cn6Juwq",
    "outputId": "592fe328-69ab-46d2-b43d-1cc206197978"
   },
   "outputs": [],
   "source": [
    "df"
   ]
  },
  {
   "cell_type": "code",
   "execution_count": null,
   "metadata": {
    "colab": {
     "base_uri": "https://localhost:8080/"
    },
    "id": "cMYuxEdoqyt6",
    "outputId": "b3daf95b-19ed-4d07-b9ab-7c6af18ca8f9"
   },
   "outputs": [],
   "source": [
    "h = df.fecha.unique()\n",
    "len(h)"
   ]
  },
  {
   "cell_type": "code",
   "execution_count": null,
   "metadata": {
    "colab": {
     "base_uri": "https://localhost:8080/"
    },
    "id": "-WS1MGMXsmEi",
    "outputId": "f05833d5-bdef-4449-a9a1-eb8e550884e2"
   },
   "outputs": [],
   "source": [
    "inicio = pd.datetime.strptime('01/01/2020', '%d/%m/%Y')\n",
    "fin = pd.datetime.strptime('31/12/2021', '%d/%m/%Y')\n",
    "\n",
    "dates = pd.date_range(start=inicio, end=fin, freq=\"D\")\n",
    "dates"
   ]
  },
  {
   "cell_type": "code",
   "execution_count": null,
   "metadata": {
    "id": "y_W4AabwvPVU"
   },
   "outputs": [],
   "source": [
    "aux_finde = []\n",
    "aux_fecha = []\n",
    "for i in range(len(dates)):\n",
    "  # Extraemos el formato fecha en string de cara al merge con el dataframe\n",
    "  aux_fecha.append(str(dates[i]).split(' ')[0])\n",
    "  # Cuantificamos el fia de la semana que es finde \n",
    "  if dates[i].day_name() == 'Saturday' or dates[i].day_name() == 'Sunday':\n",
    "    aux_finde.append(1)\n",
    "  else:\n",
    "    aux_finde.append(0)"
   ]
  },
  {
   "cell_type": "code",
   "execution_count": null,
   "metadata": {
    "colab": {
     "base_uri": "https://localhost:8080/"
    },
    "id": "EIksS9E0vjjR",
    "outputId": "6142c2a9-9803-4862-c87e-a0c1ba323c3b"
   },
   "outputs": [],
   "source": [
    "# Comprobamos que tienen la misma longitud\n",
    "print(len(aux_fecha) , len(aux_finde) )"
   ]
  },
  {
   "cell_type": "markdown",
   "metadata": {
    "id": "g3Djt9xEvwW_"
   },
   "source": [
    "Diccionario par clave-valor: (fecha : [finde SI/NO])"
   ]
  },
  {
   "cell_type": "code",
   "execution_count": null,
   "metadata": {
    "id": "tHNKTYoYvv8N"
   },
   "outputs": [],
   "source": [
    "dic_findes = dict(zip(aux_fecha , aux_finde))"
   ]
  },
  {
   "cell_type": "code",
   "execution_count": null,
   "metadata": {
    "id": "A1e6hbaeycBc"
   },
   "outputs": [],
   "source": [
    "def convert_fecha(cadena):\n",
    "  '''\n",
    "  Función que rellena los día y meses de un solo carácter para crear un formato de fecha aaaa-mm-dd\n",
    "  '''\n",
    "  dd = cadena.split('/')[0]\n",
    "  mm = cadena.split('/')[1]\n",
    "  aaaa = cadena.split('/')[2]\n",
    "\n",
    "  if int(mm) < 10:\n",
    "    mm = '0' + mm\n",
    "  if int(dd) < 10:\n",
    "    dd = '0' + dd\n",
    "\n",
    "  return aaaa + '-' + mm + '-' + dd "
   ]
  },
  {
   "cell_type": "code",
   "execution_count": null,
   "metadata": {
    "colab": {
     "base_uri": "https://localhost:8080/",
     "height": 35
    },
    "id": "mLGknaMX2Hvj",
    "outputId": "0d6680ca-89a1-49ae-fcff-8f19868b3244"
   },
   "outputs": [],
   "source": [
    "convert_fecha('9/1/2021')"
   ]
  },
  {
   "cell_type": "code",
   "execution_count": null,
   "metadata": {
    "id": "CMIyCYY8yb-9"
   },
   "outputs": [],
   "source": [
    "# Reemplazamos las '/' por '-' de cara a la comparación\n",
    "df['fecha'] = df['fecha'].apply(convert_fecha)"
   ]
  },
  {
   "cell_type": "code",
   "execution_count": null,
   "metadata": {
    "colab": {
     "base_uri": "https://localhost:8080/",
     "height": 424
    },
    "id": "zJsuI6L_yb73",
    "outputId": "5b6f157c-0aea-42f7-d1b2-50a3d6a005a8"
   },
   "outputs": [],
   "source": [
    "df"
   ]
  },
  {
   "cell_type": "code",
   "execution_count": null,
   "metadata": {
    "id": "fty04XHD8RXO"
   },
   "outputs": [],
   "source": [
    "findes = []\n",
    "for i in range(len(df.fecha)):\n",
    "  # Obtenemos la fecha \n",
    "  fecha = df.fecha[i]\n",
    "  findes.append(dic_findes.get(fecha))"
   ]
  },
  {
   "cell_type": "code",
   "execution_count": null,
   "metadata": {
    "id": "wwX8wS8S86v2"
   },
   "outputs": [],
   "source": [
    "df['findes'] = findes"
   ]
  },
  {
   "cell_type": "code",
   "execution_count": null,
   "metadata": {
    "colab": {
     "base_uri": "https://localhost:8080/"
    },
    "id": "apbpPKLR9UAa",
    "outputId": "06612481-4c9b-49d1-cf5a-98b0de396655"
   },
   "outputs": [],
   "source": [
    "df.columns"
   ]
  },
  {
   "cell_type": "code",
   "execution_count": null,
   "metadata": {
    "id": "Qw9a6Yvd9L74"
   },
   "outputs": [],
   "source": [
    "df = df.drop(columns= ['CODI_PROVINCIA', 'PROVINCIA', 'CODI_MUNICIPI', 'MUNICIPI','ANY', 'MES', 'DIA'])"
   ]
  },
  {
   "cell_type": "code",
   "execution_count": null,
   "metadata": {
    "id": "gZp8umwf_ft_"
   },
   "outputs": [],
   "source": [
    "#df.to_csv('date_cleaned.csv')"
   ]
  },
  {
   "cell_type": "code",
   "execution_count": null,
   "metadata": {
    "id": "iCuZ2PPM_nK1"
   },
   "outputs": [],
   "source": [
    "df = pd.read_csv('date_cleaned.csv')\n",
    "df = df.drop(columns=['Unnamed: 0'])"
   ]
  },
  {
   "cell_type": "markdown",
   "metadata": {
    "id": "gIMAEiZbH2KT"
   },
   "source": [
    "### Procesado de los datos Covid en la Ciudad de Barcelona\n",
    "\n",
    "Niveles de alerta covid:\n",
    "  - 1: bajo --> 25-50 casos por 100.000 hab. y ocupación UCI entre 5-10 %\n",
    "  - 2: medio --> 50-150 casos por 100.000 hab. y ocupación UCI entre 10-15 %\n",
    "  - 3: alto --> 150-250 casos por 100.000 hab. y ocupación camas convencionales de entre el 10-15 %\n",
    "  - 4: muy alto --> >250 casos por 100.000 hab., tasa positividad >15%, ocup. camas >15% y  ocupación UCI >25%"
   ]
  },
  {
   "cell_type": "markdown",
   "metadata": {
    "id": "2ZNX0deiSPAc"
   },
   "source": [
    "Mirar en C:\\Users\\cesar\\Desktop\\Proyecto\\GreenSaturdaysAI\\datasets\\covid\\AMB el dataset de incidencia acumulada por cada 100k y de ahí determinar el nivel de alerta."
   ]
  },
  {
   "cell_type": "code",
   "execution_count": null,
   "metadata": {
    "id": "32FDkxO6SOm6"
   },
   "outputs": [],
   "source": [
    "incidencia = pd.read_excel('Incidencia_limpio.xlsx')"
   ]
  },
  {
   "cell_type": "code",
   "execution_count": null,
   "metadata": {
    "colab": {
     "base_uri": "https://localhost:8080/",
     "height": 424
    },
    "id": "V1OuKWosws9C",
    "outputId": "0b48f9ff-647d-4da1-cac4-ea03e6707929"
   },
   "outputs": [],
   "source": [
    "incidencia"
   ]
  },
  {
   "cell_type": "code",
   "execution_count": null,
   "metadata": {
    "id": "plPU720ht64o"
   },
   "outputs": [],
   "source": [
    "incidencia.rename(columns = {'Fecha':'fecha' }, inplace = True)\n"
   ]
  },
  {
   "cell_type": "code",
   "execution_count": null,
   "metadata": {
    "colab": {
     "base_uri": "https://localhost:8080/",
     "height": 424
    },
    "id": "NVrdB8MruIT4",
    "outputId": "19a2ce67-1a9f-4b00-cd2d-2426cd936268"
   },
   "outputs": [],
   "source": [
    "df"
   ]
  },
  {
   "cell_type": "markdown",
   "metadata": {
    "id": "pWtPX22OzHDB"
   },
   "source": [
    "![image.png](data:image/png;base64,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)"
   ]
  },
  {
   "cell_type": "code",
   "execution_count": null,
   "metadata": {
    "id": "uGutfS0ftQvg"
   },
   "outputs": [],
   "source": [
    "findes = []\n",
    "for i in range(len(df.fecha)):\n",
    "  # Obtenemos la fecha \n",
    "  fecha = df.fecha[i]\n",
    "  findes.append(dic_findes.get(fecha))"
   ]
  },
  {
   "cell_type": "code",
   "execution_count": null,
   "metadata": {
    "id": "trCzf4S1uqms"
   },
   "outputs": [],
   "source": []
  },
  {
   "cell_type": "code",
   "execution_count": null,
   "metadata": {
    "id": "DY82PHZnuqjf"
   },
   "outputs": [],
   "source": [
    "incidencia['fecha'] = incidencia['fecha'].apply(lambda x: str(x).split(' ')[0])"
   ]
  },
  {
   "cell_type": "code",
   "execution_count": null,
   "metadata": {
    "id": "NJyKN8GawgUt"
   },
   "outputs": [],
   "source": [
    "# Diccionario\n",
    "in_dic = dict(zip(incidencia.fecha, incidencia.Acumulats))"
   ]
  },
  {
   "cell_type": "code",
   "execution_count": null,
   "metadata": {
    "id": "s68g8sv8wgRr"
   },
   "outputs": [],
   "source": [
    "val_acum = []\n",
    "for i in range(len(df.fecha)):\n",
    "  # Obtenemos la fecha \n",
    "  fecha = df.fecha[i]\n",
    "  val_acum.append(dic_findes.get(fecha))"
   ]
  },
  {
   "cell_type": "code",
   "execution_count": null,
   "metadata": {
    "id": "ImtTYI0owgOy"
   },
   "outputs": [],
   "source": []
  },
  {
   "cell_type": "code",
   "execution_count": null,
   "metadata": {
    "colab": {
     "base_uri": "https://localhost:8080/",
     "height": 424
    },
    "id": "mCizihJkwLyE",
    "outputId": "3b7e3afa-5513-4e36-cf39-f829fb5cbc0f"
   },
   "outputs": [],
   "source": [
    "prueba = df.merge(incidencia, on= 'fecha', how='left')\n",
    "prueba"
   ]
  },
  {
   "cell_type": "code",
   "execution_count": null,
   "metadata": {
    "id": "5JQ8Am-D17f2"
   },
   "outputs": [],
   "source": [
    "aux = prueba.Acumulats.iloc[0]"
   ]
  },
  {
   "cell_type": "code",
   "execution_count": null,
   "metadata": {
    "colab": {
     "base_uri": "https://localhost:8080/",
     "height": 424
    },
    "id": "Yq5lFn1m2MO5",
    "outputId": "aef4b89c-360a-4bbc-d7be-e32c610413cb"
   },
   "outputs": [],
   "source": [
    "prueba"
   ]
  },
  {
   "cell_type": "code",
   "execution_count": null,
   "metadata": {
    "id": "Q4vGcWah2MMo"
   },
   "outputs": [],
   "source": [
    "val_acum = []\n",
    "for i in range(len(prueba.fecha)):\n",
    "  if prueba.fecha.iloc[i] in in_dic.keys():\n",
    "    val_acum.append(in_dic.get(prueba.fecha.iloc[i]))\n",
    "  else:\n",
    "    val_acum.append(0)"
   ]
  },
  {
   "cell_type": "code",
   "execution_count": null,
   "metadata": {
    "colab": {
     "base_uri": "https://localhost:8080/"
    },
    "id": "D2xjX7Fk3bI8",
    "outputId": "2be79de1-8265-4081-c271-e4161c1d8c06"
   },
   "outputs": [],
   "source": [
    "len(val_acum)"
   ]
  },
  {
   "cell_type": "code",
   "execution_count": null,
   "metadata": {
    "id": "TzZy4rtm4b7L"
   },
   "outputs": [],
   "source": [
    "prueba['Acumulats'] = val_acum"
   ]
  },
  {
   "cell_type": "code",
   "execution_count": null,
   "metadata": {
    "colab": {
     "base_uri": "https://localhost:8080/",
     "height": 424
    },
    "id": "9t2PcRTU4lQ-",
    "outputId": "a53378ee-2592-4d2c-a0bd-0a5cf8a6ed74"
   },
   "outputs": [],
   "source": [
    "prueba"
   ]
  },
  {
   "cell_type": "code",
   "execution_count": null,
   "metadata": {
    "id": "fQ6KhxO84qkZ"
   },
   "outputs": [],
   "source": [
    "# Creamos una función para establecer los niveles de incidencia\n",
    "def niveles(x):\n",
    "  '''\n",
    "  Función que filtra un valor del índice acumulado y establece el nivel de incidencia.\n",
    "  '''\n",
    "\n",
    "  if x == 0:\n",
    "    res = 0\n",
    "  elif x < 50:\n",
    "    res = 1\n",
    "  elif x >= 50 and x < 100:\n",
    "    res = 2\n",
    "  elif x >= 100 and x < 300:\n",
    "    res = 3\n",
    "  elif x >= 300 and x < 500:\n",
    "    res = 4\n",
    "  elif x >= 500:\n",
    "    res = 5\n",
    "\n",
    "  return res\n"
   ]
  },
  {
   "cell_type": "code",
   "execution_count": null,
   "metadata": {
    "id": "lUoGQB2a6SgD"
   },
   "outputs": [],
   "source": [
    "df_cleaned['Niveles'] = df_cleaned['Acumulats'].apply(niveles)"
   ]
  },
  {
   "cell_type": "code",
   "execution_count": null,
   "metadata": {
    "id": "uOdM0M5F7fnj"
   },
   "outputs": [],
   "source": [
    "df_cleaned['covid'] = df_cleaned['Acumulats'].apply(lambda x: 1 if x is not 0 else 0)"
   ]
  },
  {
   "cell_type": "code",
   "execution_count": null,
   "metadata": {
    "id": "qVFCHYV17vpd"
   },
   "outputs": [],
   "source": [
    "df_cleaned.to_csv('df_cleaned.csv')"
   ]
  },
  {
   "cell_type": "code",
   "execution_count": null,
   "metadata": {
    "colab": {
     "base_uri": "https://localhost:8080/",
     "height": 424
    },
    "id": "-2gA2odf8mn2",
    "outputId": "6652f34b-0b04-430c-9ba3-e51181070879"
   },
   "outputs": [],
   "source": [
    "df_cleaned"
   ]
  },
  {
   "cell_type": "code",
   "execution_count": null,
   "metadata": {
    "colab": {
     "base_uri": "https://localhost:8080/",
     "height": 424
    },
    "id": "KUkShck-_WBH",
    "outputId": "3d3af73c-b3e8-413f-b7aa-b7a71c26b2e6"
   },
   "outputs": [],
   "source": [
    "hola = df_cleaned\n",
    "hola"
   ]
  },
  {
   "cell_type": "code",
   "execution_count": null,
   "metadata": {
    "colab": {
     "base_uri": "https://localhost:8080/",
     "height": 424
    },
    "id": "DBGv08Gu_aka",
    "outputId": "4ff9d377-372e-4f13-fefa-dff4e83af58a"
   },
   "outputs": [],
   "source": [
    "hours = [\"H01\",\"H02\",\"H03\",\"H04\",\"H05\",\"H06\",\"H07\",\"H08\",\"H09\",\"H10\",\"H11\",\"H12\",\"H13\",\"H14\",\"H15\",\"H16\",\"H17\",\"H18\",\"H19\",\"H20\",\"H21\",\"H22\",\"H23\",\"H24\"]\n",
    "\n",
    "long_mediciones = pd.melt(hola, id_vars=['ESTACIO', 'CODI_CONTAMINANT', 'covid', 'fecha',\t'festivo',\t'findes',\t'Acumulats',\t'Niveles'], value_vars=hours)\n",
    "\n",
    "long_mediciones\n"
   ]
  },
  {
   "cell_type": "code",
   "execution_count": null,
   "metadata": {
    "id": "3S57Lnx6A8ih"
   },
   "outputs": [],
   "source": [
    "#long_mediciones.to_csv('df_melt_mediciones.csv')"
   ]
  },
  {
   "cell_type": "markdown",
   "metadata": {
    "id": "5Us2nVOfpSJW"
   },
   "source": [
    " # Last_Season"
   ]
  },
  {
   "cell_type": "code",
   "execution_count": null,
   "metadata": {
    "id": "mS-YmCscBJSv"
   },
   "outputs": [],
   "source": [
    "import pandas as pd\n",
    "data = pd.read_csv('df_melt_mediciones.csv')"
   ]
  },
  {
   "cell_type": "code",
   "execution_count": null,
   "metadata": {
    "colab": {
     "base_uri": "https://localhost:8080/"
    },
    "id": "eIrPeDTVAgtF",
    "outputId": "ff269546-f8a6-4d40-9cfb-8b2da21a7184"
   },
   "outputs": [],
   "source": [
    "# Filtrar los contaminantes y los valores para determinar si hay o no contaminación.\n",
    "data.CODI_CONTAMINANT.value_counts()"
   ]
  },
  {
   "cell_type": "code",
   "execution_count": null,
   "metadata": {
    "id": "GdWNWfnXBjev"
   },
   "outputs": [],
   "source": [
    "dat_fil = data[-( (data['CODI_CONTAMINANT'] == 996) | (data['CODI_CONTAMINANT'] == 997) | (data['CODI_CONTAMINANT'] == 998) | (data['CODI_CONTAMINANT'] == 999) )]"
   ]
  },
  {
   "cell_type": "code",
   "execution_count": null,
   "metadata": {
    "colab": {
     "base_uri": "https://localhost:8080/"
    },
    "id": "a0QFUc9zFbWV",
    "outputId": "7976170c-65b2-4c61-ed32-25a1eb42903c"
   },
   "outputs": [],
   "source": [
    "dat_fil.CODI_CONTAMINANT.value_counts()"
   ]
  },
  {
   "cell_type": "code",
   "execution_count": null,
   "metadata": {
    "id": "CRH8z9diE4kf"
   },
   "outputs": [],
   "source": [
    "limp_Dat = dat_fil[-(dat_fil['value'].isna())]"
   ]
  },
  {
   "cell_type": "code",
   "execution_count": null,
   "metadata": {
    "colab": {
     "base_uri": "https://localhost:8080/",
     "height": 424
    },
    "id": "ZPDIbnYiny-v",
    "outputId": "0437f45a-019c-48e8-d379-024ba118d1c0"
   },
   "outputs": [],
   "source": [
    "limp_Dat"
   ]
  },
  {
   "cell_type": "code",
   "execution_count": null,
   "metadata": {
    "colab": {
     "base_uri": "https://localhost:8080/"
    },
    "id": "ViiBcwTZny7-",
    "outputId": "9607fda1-6331-4d84-f087-2bac59098dff"
   },
   "outputs": [],
   "source": [
    "limp_Dat.CODI_CONTAMINANT.value_counts()"
   ]
  },
  {
   "cell_type": "markdown",
   "metadata": {
    "id": "OxvstZlVvD_m"
   },
   "source": [
    "- El **carbono negro** (Black carbon - Etiqueta 22)  indica tráfico, pero no tiene un valor límite establecido según la normativa relativa a la calidad del aire ambiente. Sin embargo, sus medidas son un aporte importante en la evaluación de la calidad del aire ya quie son un bune indicador del tráfico. Su información es complementaria para la evaluación de la calidad del aire y la caracterización de las fuentes emisoras de los contaminados.\n",
    "\n",
    "https://www.catalunyapress.es/texto-diario/mostrar/2799496/2020-cumplen-objetivos-calidad-aire-todas-zonas-cataluna"
   ]
  },
  {
   "cell_type": "code",
   "execution_count": null,
   "metadata": {
    "id": "iZDCtBWcvrHh"
   },
   "outputs": [],
   "source": [
    "# Eliminamos las etiquetas correspondientes al Black carbon\n",
    "limp_Dat = limp_Dat[- (limp_Dat['CODI_CONTAMINANT'] == 22) ]"
   ]
  },
  {
   "cell_type": "code",
   "execution_count": null,
   "metadata": {
    "colab": {
     "base_uri": "https://localhost:8080/",
     "height": 424
    },
    "id": "KJZuCYfXwV42",
    "outputId": "87e89a4a-7ef7-479e-f0c1-d51bea499f38"
   },
   "outputs": [],
   "source": [
    "limp_Dat"
   ]
  },
  {
   "cell_type": "markdown",
   "metadata": {
    "id": "zZnNBY2OGjFK"
   },
   "source": [
    "![image.png](data:image/png;base64,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)"
   ]
  },
  {
   "cell_type": "markdown",
   "metadata": {
    "id": "zucLit_JLAR-"
   },
   "source": [
    "![image.png](data:image/png;base64,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)"
   ]
  },
  {
   "cell_type": "markdown",
   "metadata": {
    "id": "-dFA6abdKTEV"
   },
   "source": [
    "https://mediambient.gencat.cat/es/05_ambits_dactuacio/atmosfera/index.html\n",
    "\n",
    "https://ajuntament.barcelona.cat/qualitataire/es/qualitat-de-laire/com-es-lluita-contra-la-contaminacio/la-red-de-vigilancia-y-prevision-de-la\n",
    "\n",
    "https://ajuntament.barcelona.cat/qualitataire/es/la-contaminacio/otros-contaminantes\n",
    "\n",
    "\n",
    "https://mediambient.gencat.cat/ca/05_ambits_dactuacio/atmosfera/qualitat_de_laire/vols-saber-que-respires/\n",
    "\n"
   ]
  },
  {
   "cell_type": "code",
   "execution_count": null,
   "metadata": {
    "id": "fBRVkUg0GBbZ"
   },
   "outputs": [],
   "source": [
    "def contaminantes(tipo, valor):\n",
    "  '''\n",
    "  Función que analice el nivel de cada contaminante y devuelva si es un valor perjudicial o no.\n",
    "  1: Perjudicial\n",
    "  0 ; No perjudicial\n",
    "  '''\n",
    "  res = 0\n",
    "\n",
    "  # 1 - SO2 [ug/m2] es cont > 125\n",
    "  if tipo == 1 and valor >=125:\n",
    "    res = 1\n",
    "\n",
    "  # 6 - C0 [ug/m2] es cont > 34\n",
    "  elif tipo == 6 and valor >= 34:\n",
    "    res = 1\n",
    "\n",
    "  # 7 - NO [ug/m2] es cont >= 40\n",
    "  elif tipo == 7 and valor >= 40:\n",
    "    res = 1\n",
    "\n",
    "  # 8 - NO2 [ug/m2] es cont >= 160\n",
    "  elif tipo == 8 and valor >= 160:\n",
    "    res = 1\n",
    "\n",
    "  # 9 - PM 2,5 [ug/m2] es cont >= 25\n",
    "  elif tipo == 9 and valor >= 25:\n",
    "    res = 1\n",
    "\n",
    "  # 10 - PM10 [ug/m2] es cont >= 50\n",
    "  elif tipo == 10 and valor >= 50:\n",
    "    res = 1\n",
    "\n",
    "  # 12 - NOx [ug/m2] es cont >= 30\n",
    "  elif tipo == 12 and valor >= 30:\n",
    "    res = 1\n",
    "\n",
    "  # 14 - O3 [ug/m2] es cont >= 110\n",
    "  elif tipo == 14 and valor >= 110:\n",
    "    res = 1\n",
    "\n",
    "  return res"
   ]
  },
  {
   "cell_type": "code",
   "execution_count": null,
   "metadata": {
    "id": "UU5Is0l7IX2q"
   },
   "outputs": [],
   "source": [
    "cont_perj = []\n",
    "for i in range(len(limp_Dat)):\n",
    "  aux = contaminantes(limp_Dat.CODI_CONTAMINANT.iloc[i], limp_Dat.value.iloc[i])\n",
    "  cont_perj.append(aux)"
   ]
  },
  {
   "cell_type": "code",
   "execution_count": null,
   "metadata": {
    "colab": {
     "base_uri": "https://localhost:8080/"
    },
    "id": "oCyMfsMmIXv9",
    "outputId": "7e594a1f-6883-413e-d56d-2cf2bfc6aa84"
   },
   "outputs": [],
   "source": [
    "limp_Dat['Perjudicial'] = cont_perj"
   ]
  },
  {
   "cell_type": "code",
   "execution_count": null,
   "metadata": {
    "id": "24y4nFlpJzb6"
   },
   "outputs": [],
   "source": [
    "limp_Dat = limp_Dat.drop(columns=['Unnamed: 0'])"
   ]
  },
  {
   "cell_type": "code",
   "execution_count": null,
   "metadata": {
    "colab": {
     "base_uri": "https://localhost:8080/",
     "height": 424
    },
    "id": "ID2cZAv9KbVh",
    "outputId": "9dc45d86-dbbf-4f48-bb0f-3a049dff6514"
   },
   "outputs": [],
   "source": [
    "limp_Dat"
   ]
  },
  {
   "cell_type": "code",
   "execution_count": null,
   "metadata": {
    "id": "gX3i4qF4Kd3V"
   },
   "outputs": [],
   "source": [
    "# Guardamos los cambios realizados\n",
    "limp_Dat.to_csv('dataModel.csv')"
   ]
  },
  {
   "cell_type": "markdown",
   "metadata": {
    "id": "j6usDLCIKwHS"
   },
   "source": [
    "# Preprocesing "
   ]
  },
  {
   "cell_type": "code",
   "execution_count": null,
   "metadata": {
    "id": "jzeamOwHKybv"
   },
   "outputs": [],
   "source": [
    "data = pd.read_csv('dataModel.csv')"
   ]
  },
  {
   "cell_type": "code",
   "execution_count": null,
   "metadata": {
    "colab": {
     "base_uri": "https://localhost:8080/",
     "height": 424
    },
    "id": "_9DFAo1DK4UI",
    "outputId": "99359fa1-9de5-467e-c0a5-efb523facda5"
   },
   "outputs": [],
   "source": [
    "data = data.drop(columns=['Unnamed: 0'])\n",
    "data"
   ]
  },
  {
   "cell_type": "code",
   "execution_count": null,
   "metadata": {},
   "outputs": [],
   "source": []
  }
 ],
 "metadata": {
  "colab": {
   "collapsed_sections": [
    "OBtYgYglv7fA"
   ],
   "name": "Sat_IA.ipynb",
   "provenance": []
  },
  "kernelspec": {
   "display_name": "Python 3 (ipykernel)",
   "language": "python",
   "name": "python3"
  },
  "language_info": {
   "codemirror_mode": {
    "name": "ipython",
    "version": 3
   },
   "file_extension": ".py",
   "mimetype": "text/x-python",
   "name": "python",
   "nbconvert_exporter": "python",
   "pygments_lexer": "ipython3",
   "version": "3.9.12"
  }
 },
 "nbformat": 4,
 "nbformat_minor": 1
}
