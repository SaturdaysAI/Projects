{
 "cells": [
  {
   "cell_type": "code",
   "execution_count": 29,
   "metadata": {},
   "outputs": [],
   "source": [
    "import argostranslate.package\n",
    "import argostranslate.translate\n",
    "import pandas as pd\n",
    "from sklearn import metrics\n",
    "\n",
    "from transformers import pipeline"
   ]
  },
  {
   "cell_type": "code",
   "execution_count": 13,
   "metadata": {},
   "outputs": [
    {
     "name": "stderr",
     "output_type": "stream",
     "text": [
      "Some weights of the model checkpoint at cardiffnlp/twitter-roberta-base-sentiment-latest were not used when initializing RobertaForSequenceClassification: ['roberta.pooler.dense.bias', 'roberta.pooler.dense.weight']\n",
      "- This IS expected if you are initializing RobertaForSequenceClassification from the checkpoint of a model trained on another task or with another architecture (e.g. initializing a BertForSequenceClassification model from a BertForPreTraining model).\n",
      "- This IS NOT expected if you are initializing RobertaForSequenceClassification from the checkpoint of a model that you expect to be exactly identical (initializing a BertForSequenceClassification model from a BertForSequenceClassification model).\n"
     ]
    }
   ],
   "source": [
    "classifier = pipeline(\"sentiment-analysis\", model=\"cardiffnlp/twitter-roberta-base-sentiment-latest\", top_k=None)"
   ]
  },
  {
   "cell_type": "code",
   "execution_count": 2,
   "metadata": {},
   "outputs": [],
   "source": [
    "argostranslate.package.update_package_index()"
   ]
  },
  {
   "cell_type": "code",
   "execution_count": 3,
   "metadata": {},
   "outputs": [],
   "source": [
    "from_code = \"es\"\n",
    "to_code = \"en\"\n",
    "\n",
    "# Download and install Argos Translate package\n",
    "argostranslate.package.update_package_index()\n",
    "available_packages = argostranslate.package.get_available_packages()\n",
    "package_to_install = next(\n",
    "    filter(\n",
    "        lambda x: x.from_code == from_code and x.to_code == to_code, available_packages\n",
    "    )\n",
    ")\n",
    "argostranslate.package.install_from_path(package_to_install.download())"
   ]
  },
  {
   "cell_type": "code",
   "execution_count": 6,
   "metadata": {},
   "outputs": [],
   "source": [
    "with open(\"50000paragraphs_maincategories_filledout.csv\", \"r\", encoding=\"UTF-8\") as file:\n",
    "    df = pd.read_csv(file)\n",
    "\n",
    "df = df.rename(columns={\"Tone\": \"sentiment\", \"Paragraphs\": \"text\"})\n",
    "df = df.dropna(subset=[\"sentiment\"]).reset_index(drop=True)"
   ]
  },
  {
   "cell_type": "code",
   "execution_count": 8,
   "metadata": {},
   "outputs": [],
   "source": [
    "def translateText(text):\n",
    "    return argostranslate.translate.translate(text, from_code, to_code)"
   ]
  },
  {
   "cell_type": "code",
   "execution_count": 9,
   "metadata": {},
   "outputs": [],
   "source": [
    "df[\"textenglish\"] = df[\"text\"].apply(translateText)"
   ]
  },
  {
   "cell_type": "code",
   "execution_count": 10,
   "metadata": {},
   "outputs": [],
   "source": [
    "df.to_json(\"50000paragraphs_maincategories_english_filledout.json\", orient=\"records\", lines=True)"
   ]
  },
  {
   "cell_type": "code",
   "execution_count": 17,
   "metadata": {},
   "outputs": [
    {
     "data": {
      "text/plain": [
       "[[{'label': 'negative', 'score': 0.7221518158912659},\n",
       "  {'label': 'neutral', 'score': 0.23753465712070465},\n",
       "  {'label': 'positive', 'score': 0.0403134748339653}]]"
      ]
     },
     "execution_count": 17,
     "metadata": {},
     "output_type": "execute_result"
    }
   ],
   "source": [
    "classifier(\"I am sad\")"
   ]
  },
  {
   "cell_type": "code",
   "execution_count": 19,
   "metadata": {},
   "outputs": [],
   "source": [
    "def score(row):\n",
    "    text = row[\"textenglish\"]\n",
    "\n",
    "    labels=[\"negative\", \"neutral\", \"positive\"]\n",
    "    label_weights=[-1, 1, 0]\n",
    "\n",
    "    scoreDicts = classifier(text, padding=True, max_length=512, truncation=True)[0]\n",
    "\n",
    "    partialScore = 0\n",
    "    for scoreDict in scoreDicts:\n",
    "        label = scoreDict[\"label\"]\n",
    "        score = scoreDict[\"score\"]\n",
    "        j = labels.index(label)\n",
    "        weight = label_weights[j]\n",
    "        partialScore = partialScore + score*weight\n",
    "    \n",
    "    wordScore = scoreDicts[0][\"label\"]\n",
    "\n",
    "    row[\"negpos\"] = partialScore\n",
    "    row[\"wordnegpos\"] = wordScore\n",
    "    \n",
    "    return row"
   ]
  },
  {
   "cell_type": "code",
   "execution_count": 20,
   "metadata": {},
   "outputs": [],
   "source": [
    "df = df.apply(score, axis=1)"
   ]
  },
  {
   "cell_type": "code",
   "execution_count": 25,
   "metadata": {},
   "outputs": [],
   "source": [
    "conversiondict = {\n",
    "    \"NEG\": 0,\n",
    "    \"negative\": 0,\n",
    "    \"NEU\": 1,\n",
    "    \"neutral\": 1,\n",
    "    \"POS\": 2,\n",
    "    \"positive\": 2\n",
    "}\n",
    "\n",
    "def applyDict(x):\n",
    "    return conversiondict[x]"
   ]
  },
  {
   "cell_type": "code",
   "execution_count": 28,
   "metadata": {},
   "outputs": [],
   "source": [
    "df[\"wordnegpos\"] = df[\"wordnegpos\"].apply(applyDict)\n",
    "df[\"sentiment\"] = df[\"sentiment\"].apply(applyDict)"
   ]
  },
  {
   "cell_type": "code",
   "execution_count": 30,
   "metadata": {},
   "outputs": [
    {
     "data": {
      "text/plain": [
       "0.6462882096069869"
      ]
     },
     "execution_count": 30,
     "metadata": {},
     "output_type": "execute_result"
    }
   ],
   "source": [
    "metrics.accuracy_score(df[\"sentiment\"], df[\"wordnegpos\"])"
   ]
  },
  {
   "cell_type": "code",
   "execution_count": 33,
   "metadata": {},
   "outputs": [
    {
     "data": {
      "text/plain": [
       "array([0.39954853, 0.79932546, 0.29064039])"
      ]
     },
     "execution_count": 33,
     "metadata": {},
     "output_type": "execute_result"
    }
   ],
   "source": [
    "metrics.recall_score(df[\"sentiment\"], df[\"wordnegpos\"], average=None)"
   ]
  }
 ],
 "metadata": {
  "kernelspec": {
   "display_name": "Python 3",
   "language": "python",
   "name": "python3"
  },
  "language_info": {
   "codemirror_mode": {
    "name": "ipython",
    "version": 3
   },
   "file_extension": ".py",
   "mimetype": "text/x-python",
   "name": "python",
   "nbconvert_exporter": "python",
   "pygments_lexer": "ipython3",
   "version": "3.12.1"
  }
 },
 "nbformat": 4,
 "nbformat_minor": 2
}
