{
  "nbformat": 4,
  "nbformat_minor": 0,
  "metadata": {
    "colab": {
      "provenance": []
    },
    "kernelspec": {
      "name": "python3",
      "display_name": "Python 3"
    },
    "language_info": {
      "name": "python"
    }
  },
  "cells": [
    {
      "cell_type": "code",
      "source": [
        "import pandas as pd"
      ],
      "metadata": {
        "id": "Vj8BqvgjAOfp"
      },
      "execution_count": null,
      "outputs": []
    },
    {
      "cell_type": "code",
      "execution_count": null,
      "metadata": {
        "id": "y6f1_2oQAKCN"
      },
      "outputs": [],
      "source": [
        "from google.colab import drive\n",
        "drive.mount('/content/drive')"
      ]
    },
    {
      "cell_type": "code",
      "source": [
        "df=pd.read_excel('/content/drive/MyDrive/saturday ai/España/DatabaseAcciona.xlsx',sheet_name=1)"
      ],
      "metadata": {
        "id": "r2sAbOQrAMW-"
      },
      "execution_count": null,
      "outputs": []
    },
    {
      "cell_type": "code",
      "source": [
        "# Describir el dataset\n",
        "num_observations = df.shape[0]\n",
        "num_variables = df.shape[1]\n",
        "variables = df.columns.tolist()\n",
        "\n",
        "# Identificar variables numéricas y categóricas\n",
        "numeric_vars = df.select_dtypes(include=['number']).columns.tolist()\n",
        "categorical_vars = df.select_dtypes(include=['object']).columns.tolist()\n",
        "\n",
        "# Mostrar la descripción del dataset\n",
        "print('Número de observaciones:', num_observations)\n",
        "print('Número de variables:', num_variables)\n",
        "print('Variables:', variables)\n",
        "print('Variables numéricas:', numeric_vars)\n",
        "print('Variables categóricas:', categorical_vars)\n",
        "\n",
        "# Mostrar las primeras filas del dataset\n",
        "print(df.head())"
      ],
      "metadata": {
        "id": "6uBJDMdjARDn"
      },
      "execution_count": null,
      "outputs": []
    },
    {
      "cell_type": "code",
      "source": [
        "# Análisis descriptivo básico\n",
        "descriptive_stats = df.describe(include='all').transpose()\n",
        "descriptive_stats"
      ],
      "metadata": {
        "id": "_FDZ5XiJAXrk"
      },
      "execution_count": null,
      "outputs": []
    },
    {
      "cell_type": "code",
      "source": [
        "# Porcentaje de valores faltantes por columna\n",
        "missing_values_percentage = df.isnull().mean() * 100\n",
        "missing_values_percentage"
      ],
      "metadata": {
        "id": "JDDI9yacAZhn"
      },
      "execution_count": null,
      "outputs": []
    },
    {
      "cell_type": "code",
      "source": [
        "\n",
        "# Importar pandas y tqdm\n",
        "import pandas as pd\n",
        "from tqdm import tqdm\n",
        "\n",
        "# Configurar tqdm para trabajar con pandas\n",
        "tqdm.pandas()\n",
        "\n",
        "# Suponiendo que 'df' es tu DataFrame, 'numeric_cols' son las columnas numéricas y 'non_numeric_cols' son las no numéricas\n",
        "numeric_cols = ['ID', 'codigo', 'year', 'AñoConst', 'AñoServ', 'A0', 'AA2', 'AA',\n",
        "       'yr_construccion', 'yr_operacion', 'yr_serv', 'control', 't_group_cons',\n",
        "       't_group_oper', 'control_otrosrenovables', 'CODAUTO', 'CPRO',\n",
        "       'comarca_num', 'CODAUTO_num', 'CPRO_num', 'poblacion', '_0_14_',\n",
        "       '_15_29_', '_30_44_', '_45_64_', 'mas65_', 'rentaBruta',\n",
        "       'rentaDisponible', 'declaraciones', 'paro', 'afiliadosSS', 'MW',\n",
        "       'MW_total_cons', 'MW_total_oper', 'MW_otrosrenovables', 'lpoblacion',\n",
        "       'l_0_14_', 'l_15_29_', 'l_30_44_', 'l_45_64_', 'l_mas65_',\n",
        "       'lrentaBruta', 'lparo', 'lafiliados']\n",
        "\n",
        "non_numeric_cols = ['nombre_municipio', 'provincia', 'comarca', 'localizacion',\n",
        "       'centro_produccion', 'pais', 'CCAA_Acciona', 'provincia_acciona',\n",
        "       'localizacion_completa', 'tecnologia']\n",
        "\n",
        "# Imputar valores NA en columnas numéricas con el valor 0\n",
        "df[numeric_cols] = df[numeric_cols].progress_apply(lambda x: x.fillna(0), axis=0)\n",
        "\n",
        "# Imputar valores NA en columnas no numéricas con el valor 0\n",
        "df[non_numeric_cols] = df[non_numeric_cols].progress_apply(lambda x: x.fillna(0), axis=0)\n",
        "\n",
        "# Verificar que no queden valores NA\n",
        "after_na_counts = df.isna().sum()\n",
        "print('Valores NA después de la imputación:')\n",
        "print(after_na_counts)"
      ],
      "metadata": {
        "colab": {
          "base_uri": "https://localhost:8080/",
          "height": 222
        },
        "id": "YMeJGlDFAeh_",
        "outputId": "b932dc67-4966-4ee1-8a83-a959782181b5"
      },
      "execution_count": 1,
      "outputs": [
        {
          "output_type": "error",
          "ename": "NameError",
          "evalue": "name 'df' is not defined",
          "traceback": [
            "\u001b[0;31m---------------------------------------------------------------------------\u001b[0m",
            "\u001b[0;31mNameError\u001b[0m                                 Traceback (most recent call last)",
            "\u001b[0;32m<ipython-input-1-a1ce08ecbb45>\u001b[0m in \u001b[0;36m<cell line: 24>\u001b[0;34m()\u001b[0m\n\u001b[1;32m     22\u001b[0m \u001b[0;34m\u001b[0m\u001b[0m\n\u001b[1;32m     23\u001b[0m \u001b[0;31m# Imputar valores NA en columnas numéricas con el valor 0\u001b[0m\u001b[0;34m\u001b[0m\u001b[0;34m\u001b[0m\u001b[0m\n\u001b[0;32m---> 24\u001b[0;31m \u001b[0mdf\u001b[0m\u001b[0;34m[\u001b[0m\u001b[0mnumeric_cols\u001b[0m\u001b[0;34m]\u001b[0m \u001b[0;34m=\u001b[0m \u001b[0mdf\u001b[0m\u001b[0;34m[\u001b[0m\u001b[0mnumeric_cols\u001b[0m\u001b[0;34m]\u001b[0m\u001b[0;34m.\u001b[0m\u001b[0mprogress_apply\u001b[0m\u001b[0;34m(\u001b[0m\u001b[0;32mlambda\u001b[0m \u001b[0mx\u001b[0m\u001b[0;34m:\u001b[0m \u001b[0mx\u001b[0m\u001b[0;34m.\u001b[0m\u001b[0mfillna\u001b[0m\u001b[0;34m(\u001b[0m\u001b[0;36m0\u001b[0m\u001b[0;34m)\u001b[0m\u001b[0;34m,\u001b[0m \u001b[0maxis\u001b[0m\u001b[0;34m=\u001b[0m\u001b[0;36m0\u001b[0m\u001b[0;34m)\u001b[0m\u001b[0;34m\u001b[0m\u001b[0;34m\u001b[0m\u001b[0m\n\u001b[0m\u001b[1;32m     25\u001b[0m \u001b[0;34m\u001b[0m\u001b[0m\n\u001b[1;32m     26\u001b[0m \u001b[0;31m# Imputar valores NA en columnas no numéricas con el valor 0\u001b[0m\u001b[0;34m\u001b[0m\u001b[0;34m\u001b[0m\u001b[0m\n",
            "\u001b[0;31mNameError\u001b[0m: name 'df' is not defined"
          ]
        }
      ]
    },
    {
      "cell_type": "code",
      "source": [
        "# Variables socioeconómicas a analizar\n",
        "socioeconomic_vars = ['rentaBruta','poblacion' 'rentaDisponible', 'paro', 'afiliadosSS']\n",
        "\n",
        "# Filtrar datos por grupos de control\n",
        "acciona_renovables = df[df['control'] == 0]\n",
        "otros_renovables = df[df['control'] == 1]\n",
        "sin_renovables = df[df['control'] == 2]\n",
        "\n",
        "# Calcular medias para cada grupo\n",
        "mean_acciona = acciona_renovables[socioeconomic_vars].mean()\n",
        "mean_sin = sin_renovables[socioeconomic_vars].mean()\n",
        "\n",
        "# Calcular la diferencia porcentual\n",
        "percentage_diff = ((mean_acciona - mean_sin) / mean_sin) * 100\n",
        "\n",
        "percentage_diff"
      ],
      "metadata": {
        "id": "DdoAWS5xAmG2"
      },
      "execution_count": null,
      "outputs": []
    },
    {
      "cell_type": "code",
      "source": [
        "import matplotlib.pyplot as plt\n",
        "\n",
        "# Crear el gráfico de barras\n",
        "percentage_diff.plot(kind='bar', figsize=(10, 6), color=['skyblue', 'lightgreen', 'salmon', 'orange', 'purple'])\n",
        "\n",
        "# Añadir títulos y etiquetas\n",
        "plt.title('Diferencia Porcentual en Variables Socioeconómicas entre Municipios con y sin Renovables de Acciona')\n",
        "plt.ylabel('Diferencia Porcentual (%)')\n",
        "plt.xlabel('Variables Socioeconómicas')\n",
        "plt.grid(axis='y', linestyle='--', alpha=0.7)\n",
        "\n",
        "# Mostrar el gráfico\n",
        "plt.show()\n"
      ],
      "metadata": {
        "id": "wWvMUwN-BVim"
      },
      "execution_count": null,
      "outputs": []
    },
    {
      "cell_type": "code",
      "source": [
        "# Definir las columnas numéricas\n",
        "numeric_cols = ['ID', 'codigo', 'year', 'AñoConst', 'AñoServ', 'A0', 'AA2', 'AA',\n",
        "       'yr_construccion', 'yr_operacion', 'yr_serv', 'control', 't_group_cons',\n",
        "       't_group_oper', 'control_otrosrenovables', 'CODAUTO', 'CPRO',\n",
        "       'comarca_num', 'CODAUTO_num', 'CPRO_num', 'poblacion', '_0_14_',\n",
        "       '_15_29_', '_30_44_', '_45_64_', 'mas65_', 'rentaBruta',\n",
        "       'rentaDisponible', 'declaraciones', 'paro', 'afiliadosSS', 'MW',\n",
        "       'MW_total_cons', 'MW_total_oper', 'MW_otrosrenovables', 'lpoblacion',\n",
        "       'l_0_14_', 'l_15_29_', 'l_30_44_', 'l_45_64_', 'l_mas65_',\n",
        "       'lrentaBruta', 'lparo', 'lafiliados']\n",
        "\n",
        "# Calcular la matriz de correlación solo para las columnas numéricas\n",
        "correlacion = df[numeric_cols].corr()\n",
        "\n",
        "# Crear un mapa de calor para la matriz de correlación\n",
        "plt.figure(figsize=(20, 15))\n",
        "sns.heatmap(correlacion, annot=True, fmt=\".2f\", cmap=\"coolwarm\", linewidths=0.5)\n",
        "plt.title(\"Matriz de Correlación\")\n",
        "plt.show()"
      ],
      "metadata": {
        "colab": {
          "base_uri": "https://localhost:8080/",
          "height": 222
        },
        "id": "TF0PtNZZB4LM",
        "outputId": "c47b9c84-e0d7-4bef-bffc-44702ce4391a"
      },
      "execution_count": 2,
      "outputs": [
        {
          "output_type": "error",
          "ename": "NameError",
          "evalue": "name 'df' is not defined",
          "traceback": [
            "\u001b[0;31m---------------------------------------------------------------------------\u001b[0m",
            "\u001b[0;31mNameError\u001b[0m                                 Traceback (most recent call last)",
            "\u001b[0;32m<ipython-input-2-86ae063fb7f0>\u001b[0m in \u001b[0;36m<cell line: 13>\u001b[0;34m()\u001b[0m\n\u001b[1;32m     11\u001b[0m \u001b[0;34m\u001b[0m\u001b[0m\n\u001b[1;32m     12\u001b[0m \u001b[0;31m# Calcular la matriz de correlación solo para las columnas numéricas\u001b[0m\u001b[0;34m\u001b[0m\u001b[0;34m\u001b[0m\u001b[0m\n\u001b[0;32m---> 13\u001b[0;31m \u001b[0mcorrelacion\u001b[0m \u001b[0;34m=\u001b[0m \u001b[0mdf\u001b[0m\u001b[0;34m[\u001b[0m\u001b[0mnumeric_cols\u001b[0m\u001b[0;34m]\u001b[0m\u001b[0;34m.\u001b[0m\u001b[0mcorr\u001b[0m\u001b[0;34m(\u001b[0m\u001b[0;34m)\u001b[0m\u001b[0;34m\u001b[0m\u001b[0;34m\u001b[0m\u001b[0m\n\u001b[0m\u001b[1;32m     14\u001b[0m \u001b[0;34m\u001b[0m\u001b[0m\n\u001b[1;32m     15\u001b[0m \u001b[0;31m# Crear un mapa de calor para la matriz de correlación\u001b[0m\u001b[0;34m\u001b[0m\u001b[0;34m\u001b[0m\u001b[0m\n",
            "\u001b[0;31mNameError\u001b[0m: name 'df' is not defined"
          ]
        }
      ]
    },
    {
      "cell_type": "code",
      "source": [
        "# Variables socioeconómicas a analizar\n",
        "socioeconomic_vars = ['poblacion', 'rentaBruta', 'rentaDisponible', 'paro', 'afiliadosSS']\n",
        "\n",
        "# Calcular estadísticas descriptivas para cada grupo de control\n",
        "descriptive_stats = df.groupby('control')[socioeconomic_vars].describe()\n",
        "print(descriptive_stats)"
      ],
      "metadata": {
        "id": "INGuEERHDVY7"
      },
      "execution_count": null,
      "outputs": []
    },
    {
      "cell_type": "markdown",
      "source": [
        "haciendo un analisis descriptivo:\n",
        "Los municipios con activos renovables, tanto de Acciona como de otras empresas, tienden a tener poblaciones más grandes que los municipios sin activos renovables.\n",
        "Los municipios con activos renovables NO Acciona tienen, en promedio, las poblaciones más grandes.\n",
        "La mediana y los percentiles sugieren que en general, aunque algunos municipios tienen poblaciones muy grandes, la mayoría de los municipios tienen poblaciones más pequeñas, especialmente los que no tienen activos renovables.\n",
        "\n",
        "\n",
        "Las diferencias en la renta bruta promedio son relativamente pequeñas entre los tres tipos de municipios.\n",
        "Los municipios con activos renovables de Acciona tienen un ingreso promedio ligeramente mayor que los otros dos grupos.\n",
        "\n",
        "\n",
        "Los municipios con activos renovables NO Acciona tienen los valores más altos de desempleo registrado.\n",
        "El desempleo parece ser un problema más grave en municipios con activos renovables NO Acciona en comparación con los otros dos grupos.\n",
        "\n",
        "Los municipios con activos renovables NO Acciona tienen el mayor promedio de afiliados a la seguridad social, seguido por los municipios con activos renovables de Acciona.\n",
        "Los municipios sin activos renovables tienen, en promedio, la menor cantidad de afiliados a la seguridad social.\n",
        "Las diferencias en la mediana y los percentiles indican una mayor concentración de afiliados en los municipios con activos renovables, particularmente los NO Acciona.\n",
        "\n",
        "Población: Los municipios con activos renovables, especialmente los NO Acciona, tienden a ser más grandes en términos de población.\n",
        "Renta Bruta: Las diferencias en ingresos son menores, aunque los municipios con activos de Acciona tienen una ligera ventaja.\n",
        "Paro: El desempleo es notablemente más alto en municipios con activos renovables NO Acciona.\n",
        "Afiliados a la Seguridad Social: Los municipios con activos renovables NO Acciona tienen un mayor número de afiliados, indicando posiblemente una mayor actividad económica o mejor acceso a empleos formales."
      ],
      "metadata": {
        "id": "xDqUylZMECt8"
      }
    },
    {
      "cell_type": "code",
      "source": [
        "import seaborn as sns\n",
        "import matplotlib.pyplot as plt\n",
        "\n",
        "# Comparar la renta bruta per cápita entre los grupos\n",
        "plt.figure(figsize=(10, 6))\n",
        "sns.boxplot(x='control', y='rentaBruta', data=df)\n",
        "plt.title('Comparación de Renta Bruta per Cápita entre Grupos')\n",
        "plt.show()\n",
        "\n",
        "# Comparar el número de parados entre los grupos\n",
        "plt.figure(figsize=(10, 6))\n",
        "sns.boxplot(x='control', y='paro', data=df)\n",
        "plt.title('Comparación del Número de Parados entre Grupos')\n",
        "plt.show()\n",
        "\n",
        "# Comparar el número de afiliados a la Seguridad Social entre los grupos\n",
        "plt.figure(figsize=(10, 6))\n",
        "sns.boxplot(x='control', y='afiliadosSS', data=df)\n",
        "plt.title('Comparación del Número de Afiliados a la Seguridad Social entre Grupos')\n",
        "plt.show()\n",
        "\n",
        "# Comparar el número de poblacion entre los grupos\n",
        "plt.figure(figsize=(10, 6))\n",
        "sns.boxplot(x='control', y='poblacion', data=df)\n",
        "plt.title('Comparación del Número de Poblacion entre Grupos')\n",
        "plt.show()"
      ],
      "metadata": {
        "id": "UwCgkQGxElym"
      },
      "execution_count": null,
      "outputs": []
    },
    {
      "cell_type": "code",
      "source": [
        "# Comparar las medias de las variables socioeconómicas entre los grupos usando ANOVA\n",
        "from scipy.stats import f_oneway\n",
        "\n",
        "# Variables a comparar\n",
        "variables = ['rentaBruta', 'poblacion', 'paro', 'afiliadosSS']\n",
        "\n",
        "# Realizar ANOVA para cada variable\n",
        "for var in variables:\n",
        "    group0 = df[df['control'] == 0][var]\n",
        "    group1 = df[df['control'] == 1][var]\n",
        "    group2 = df[df['control'] == 2][var]\n",
        "\n",
        "    anova_result = f_oneway(group0, group1, group2)\n",
        "    print(f\"ANOVA result for {var}: F-value = {anova_result.statistic}, p-value = {anova_result.pvalue}\")\n"
      ],
      "metadata": {
        "id": "B1QX8Vl-FH5r"
      },
      "execution_count": null,
      "outputs": []
    },
    {
      "cell_type": "markdown",
      "source": [
        "Interpretación de los Resultados del ANOVA\n",
        "El análisis de varianza (ANOVA) se ha utilizado para comparar las medias de varias variables socioeconómicas entre los tres grupos de municipios definidos por la variable control. Aquí están los resultados y su interpretación:\n",
        "\n",
        "ANOVA para rentaBruta\n",
        "F-value: 7.398704110893988\n",
        "p-value: 0.0006122245626318528\n",
        "Interpretación:\n",
        "\n",
        "Un p-value menor a 0.05 indica que hay una diferencia significativa en la renta bruta promedio entre los tres grupos de municipios.\n",
        "Dado que el p-value es muy pequeño (0.0006), podemos rechazar la hipótesis nula de que las medias de renta bruta son iguales en todos los grupos, sugiriendo que la presencia y el tipo de activo renovable influyen en la renta bruta de los municipios.\n",
        "ANOVA para poblacion\n",
        "F-value: 1690.779039174628\n",
        "p-value: 0.0\n",
        "Interpretación:\n",
        "\n",
        "Un p-value de 0.0 indica una diferencia extremadamente significativa en la población promedio entre los tres grupos de municipios.\n",
        "La alta F-value y el p-value extremadamente bajo sugieren que la presencia y el tipo de activo renovable están fuertemente asociados con diferencias en la población de los municipios.\n",
        "ANOVA para paro\n",
        "F-value: 1674.9529748308873\n",
        "p-value: 0.0\n",
        "Interpretación:\n",
        "\n",
        "Al igual que con la población, un p-value de 0.0 indica una diferencia extremadamente significativa en el desempleo entre los tres grupos de municipios.\n",
        "Esto sugiere que la presencia y el tipo de activo renovable tienen un fuerte impacto en los niveles de desempleo en los municipios.\n",
        "ANOVA para afiliadosSS\n",
        "F-value: 894.6722568785225\n",
        "p-value: 0.0\n",
        "Interpretación:\n",
        "\n",
        "El p-value de 0.0 indica una diferencia extremadamente significativa en el número de afiliados a la seguridad social entre los tres grupos de municipios.\n",
        "Las diferencias en el número de afiliados a la seguridad social también están fuertemente asociadas con la presencia y el tipo de activo renovable.\n",
        "Resumen General\n",
        "Los resultados del ANOVA sugieren que hay diferencias significativas en las variables socioeconómicas (rentaBruta, poblacion, paro, afiliadosSS) entre los tres grupos de municipios definidos por la variable control. En particular:\n",
        "\n",
        "Renta Bruta: Existe una diferencia significativa en la renta bruta entre los municipios con activos renovables de Acciona, con activos renovables NO Acciona, y sin activos renovables.\n",
        "Población: Los municipios difieren significativamente en tamaño de población según el tipo de activo renovable presente.\n",
        "Paro: El desempleo varía significativamente entre los grupos de municipios, lo que sugiere que el tipo de activo renovable tiene un impacto en los niveles de desempleo.\n",
        "Afiliados a la Seguridad Social: El número de afiliados a la seguridad social también varía significativamente, indicando diferencias en la actividad económica formal entre los municipios.\n",
        "Estos hallazgos respaldan la idea de que la presencia y el tipo de activos renovables tienen un impacto significativo en diversos aspectos socioeconómicos de los municipios."
      ],
      "metadata": {
        "id": "sqD5K1ttFIHT"
      }
    },
    {
      "cell_type": "code",
      "source": [
        "# Variables socioeconómicas a analizar\n",
        "socioeconomic_vars = ['rentaBruta', 'poblacion', 'paro', 'afiliadosSS']\n",
        "\n",
        "# Filtrar datos por grupos de control\n",
        "acciona_renovables = df[df['control'] == 0]\n",
        "otros_renovables = df[df['control'] == 1]\n",
        "sin_renovables = df[df['control'] == 2]\n",
        "\n",
        "# Calcular medias para cada grupo\n",
        "mean_acciona = acciona_renovables[socioeconomic_vars].mean()\n",
        "mean_sin = sin_renovables[socioeconomic_vars].mean()\n",
        "\n",
        "# Calcular la diferencia porcentual\n",
        "percentage_diff = ((mean_acciona - mean_sin) / mean_sin) * 100\n",
        "\n",
        "percentage_diff"
      ],
      "metadata": {
        "id": "S8ERxwnOFjRu"
      },
      "execution_count": null,
      "outputs": []
    },
    {
      "cell_type": "markdown",
      "source": [
        "rentaBruta       4.198981\n",
        "poblacion      199.268847\n",
        "paro           200.161330\n",
        "afiliadosSS    253.759146"
      ],
      "metadata": {
        "id": "dJJ9fE6UFpWO"
      }
    },
    {
      "cell_type": "markdown",
      "source": [
        "Interpretación\n",
        "Renta Bruta:\n",
        "\n",
        "Los municipios con activos renovables de Acciona tienen una renta bruta promedio un 4.20% mayor que los municipios sin activos renovables.\n",
        "Aunque la diferencia es relativamente pequeña, es significativa, como se indicó en el análisis ANOVA.\n",
        "Población:\n",
        "\n",
        "La población en los municipios con activos renovables de Acciona es un 199.27% mayor que en los municipios sin activos renovables.\n",
        "Esta es una diferencia muy grande, lo que sugiere que los municipios con activos renovables de Acciona tienden a ser significativamente más grandes en términos de población.\n",
        "Paro:\n",
        "\n",
        "El paro en los municipios con activos renovables de Acciona es un 200.16% mayor que en los municipios sin activos renovables.\n",
        "Esta diferencia notable podría estar relacionada con la estructura del mercado laboral y la economía en estos municipios.\n",
        "Afiliados a la Seguridad Social:\n",
        "\n",
        "El número de afiliados a la seguridad social en los municipios con activos renovables de Acciona es un 253.76% mayor que en los municipios sin activos renovables.\n",
        "Esta diferencia sugiere una mayor actividad económica formal y una mayor tasa de empleo en los municipios con activos renovables de Acciona.\n",
        "Conclusiones\n",
        "Efecto Positivo en la Renta Bruta: Los municipios con activos renovables de Acciona muestran una renta bruta ligeramente mayor, lo cual es un indicador positivo aunque no drástico.\n",
        "Impacto Significativo en la Población y el Empleo: Las diferencias marcadas en la población y el número de afiliados a la seguridad social indican que los activos renovables de Acciona pueden estar asociados con un mayor desarrollo económico y demográfico.\n",
        "Mayor Paro en Municipios con Activos Renovables de Acciona: La alta diferencia en el paro podría requerir un análisis más detallado para entender las dinámicas laborales en estos municipios.\n",
        "Estos resultados sugieren que los activos renovables de Acciona tienen un impacto notable en varios aspectos socioeconómicos, especialmente en términos de población y empleo."
      ],
      "metadata": {
        "id": "y1TGc1VvFjkm"
      }
    },
    {
      "cell_type": "code",
      "source": [
        "import matplotlib.pyplot as plt\n",
        "\n",
        "# Crear el gráfico de barras\n",
        "percentage_diff.plot(kind='bar', figsize=(10, 6), color=['skyblue', 'lightgreen', 'salmon', 'orange', 'purple'])\n",
        "\n",
        "# Añadir títulos y etiquetas\n",
        "plt.title('Diferencia Porcentual en Variables Socioeconómicas entre Municipios con acciona y sin Renovables')\n",
        "plt.ylabel('Diferencia Porcentual (%)')\n",
        "plt.xlabel('Variables Socioeconómicas')\n",
        "plt.grid(axis='y', linestyle='--', alpha=0.7)\n",
        "\n",
        "# Mostrar el gráfico\n",
        "plt.show()"
      ],
      "metadata": {
        "id": "P4Q8cnTlF5nR"
      },
      "execution_count": null,
      "outputs": []
    },
    {
      "cell_type": "code",
      "source": [
        "# Variables socioeconómicas a analizar\n",
        "socioeconomic_vars = ['rentaBruta','poblacion', 'paro', 'afiliadosSS']\n",
        "\n",
        "# Filtrar datos por grupos de control\n",
        "acciona_renovables = df[df['control'] == 0]\n",
        "otros_renovables = df[df['control'] == 1]\n",
        "sin_renovables = df[df['control'] == 2]\n",
        "\n",
        "# Calcular medias para cada grupo\n",
        "mean_acciona = acciona_renovables[socioeconomic_vars].mean()\n",
        "mean_otros_renovables = otros_renovables[socioeconomic_vars].mean()\n",
        "\n",
        "# Calcular la diferencia porcentual\n",
        "percentage_diff = ((mean_acciona - mean_otros_renovables) / mean_otros_renovables) * 100\n",
        "\n",
        "percentage_diff"
      ],
      "metadata": {
        "id": "4urCoCsKGcS7"
      },
      "execution_count": null,
      "outputs": []
    },
    {
      "cell_type": "markdown",
      "source": [
        "Interpretación\n",
        "Renta Bruta:\n",
        "\n",
        "Los municipios con activos renovables de Acciona tienen una renta bruta promedio un 0.59% mayor que los municipios con otros activos renovables.\n",
        "La diferencia es pequeña, indicando que la renta bruta es similar entre estos dos grupos de municipios.\n",
        "Población:\n",
        "\n",
        "La población en los municipios con activos renovables de Acciona es un 57.33% menor que en los municipios con otros activos renovables.\n",
        "Esta diferencia significativa sugiere que los municipios con activos renovables de Acciona tienden a ser más pequeños en términos de población en comparación con aquellos con otros activos renovables.\n",
        "Paro:\n",
        "\n",
        "El paro en los municipios con activos renovables de Acciona es un 57.93% menor que en los municipios con otros activos renovables.\n",
        "Esta notable diferencia podría indicar mejores condiciones laborales o una menor tasa de desempleo en los municipios con activos renovables de Acciona.\n",
        "Afiliados a la Seguridad Social:\n",
        "\n",
        "El número de afiliados a la seguridad social en los municipios con activos renovables de Acciona es un 63.77% menor que en los municipios con otros activos renovables.\n",
        "Esta diferencia sugiere una menor actividad económica formal y una menor tasa de empleo en los municipios con activos renovables de Acciona en comparación con aquellos con otros activos renovables.\n",
        "Conclusiones\n",
        "Renta Bruta Similar: La renta bruta entre los municipios con activos renovables de Acciona y los de otros renovables es muy similar, con una diferencia mínima.\n",
        "Menor Población y Empleo en Municipios con Activos Renovables de Acciona: Los municipios con activos renovables de Acciona tienden a tener una población y un empleo significativamente menores en comparación con los municipios con otros activos renovables.\n",
        "Menor Paro en Municipios con Activos Renovables de Acciona: A pesar de la menor población y empleo, los municipios con activos renovables de Acciona muestran una menor tasa de paro, lo cual es un indicador positivo en términos de empleo."
      ],
      "metadata": {
        "id": "VAUp5aX1Gh-l"
      }
    },
    {
      "cell_type": "code",
      "source": [
        "import matplotlib.pyplot as plt\n",
        "\n",
        "# Crear el gráfico de barras\n",
        "percentage_diff.plot(kind='bar', figsize=(10, 6), color=['skyblue', 'lightgreen', 'salmon', 'orange', 'purple'])\n",
        "\n",
        "# Añadir títulos y etiquetas\n",
        "plt.title('Diferencia Porcentual en Variables Socioeconómicas entre Municipios con acciona y otros Renovables')\n",
        "plt.ylabel('Diferencia Porcentual (%)')\n",
        "plt.xlabel('Variables Socioeconómicas')\n",
        "plt.grid(axis='y', linestyle='--', alpha=0.7)\n",
        "\n",
        "# Mostrar el gráfico\n",
        "plt.show()"
      ],
      "metadata": {
        "id": "oR-WASDmG5PJ"
      },
      "execution_count": null,
      "outputs": []
    },
    {
      "cell_type": "code",
      "source": [
        "import statsmodels.api as sm\n",
        "\n",
        "# Seleccionamos las variables relevantes\n",
        "data = df[['paro', 'rentaBruta', 'poblacion', 'afiliadosSS', 'control']]\n",
        "\n",
        "# Crear matrices de diseño para el modelo de regresión\n",
        "X = sm.add_constant(data['control'])  # Matriz de diseño (incluye término constante)\n",
        "\n",
        "# Crear y ajustar modelos de regresión para cada variable dependiente\n",
        "model_paro = sm.OLS(data['paro'], X).fit()\n",
        "model_afiliadosSS = sm.OLS(data['afiliadosSS'], X).fit()\n",
        "model_rentaBruta = sm.OLS(data['rentaBruta'], X).fit()\n",
        "model_poblacion = sm.OLS(data['poblacion'], X).fit()\n",
        "\n",
        "# Imprimir los resultados\n",
        "print(\"Resultados para Paro:\")\n",
        "print(model_paro.summary())\n",
        "print(\"\\nResultados para Afiliados a la Seguridad Social:\")\n",
        "print(model_afiliadosSS.summary())\n",
        "print(\"\\nResultados para rentaBruta:\")\n",
        "print(model_rentaBruta.summary())\n",
        "print(\"\\nResultados para población:\")\n",
        "print(model_poblacion.summary())\n"
      ],
      "metadata": {
        "id": "tipu3xwrHdXx"
      },
      "execution_count": null,
      "outputs": []
    },
    {
      "cell_type": "markdown",
      "source": [
        "Conclusiones:\n",
        "Paro:\n",
        "El modelo de regresión lineal muestra que el índice de control está significativamente relacionado con la tasa de paro (p < 0.001).\n",
        "Para cada unidad de aumento en el índice de control, la tasa de paro disminuye en promedio en 666.45 personas por cada mil habitantes.\n",
        "El modelo tiene un bajo poder explicativo (R² = 0.011), lo que indica que solo el 1.1% de la variabilidad en la tasa de paro se explica por el índice de control.\n",
        "Afiliados a la Seguridad Social:\n",
        "Hay una relación significativa entre el índice de control y el número de afiliados a la Seguridad Social (p < 0.001).\n",
        "Para cada unidad de aumento en el índice de control, el número de afiliados a la Seguridad Social disminuye en promedio en 3,973 personas.\n",
        "El modelo tiene un poder explicativo muy bajo (R² = 0.006), lo que indica que solo el 0.6% de la variabilidad en el número de afiliados se explica por el índice de control.\n",
        "Renta Bruta:\n",
        "Existe una relación significativa entre el índice de control y la renta bruta (p < 0.001).\n",
        "Por cada unidad de aumento en el índice de control, la renta bruta disminuye en promedio en 191.22 unidades monetarias.\n",
        "El modelo tiene un poder explicativo muy bajo (R² = 0.000), lo que indica que la variabilidad en la renta bruta apenas se ve afectada por el índice de control.\n",
        "Población:\n",
        "Hay una relación significativa entre el índice de control y la población (p < 0.001).\n",
        "Para cada unidad de aumento en el índice de control, la población disminuye en promedio en 11,310 personas.\n",
        "El modelo tiene un bajo poder explicativo (R² = 0.011), lo que indica que solo el 1.1% de la variabilidad en la población se explica por el índice de control.\n",
        "Estos resultados sugieren que el índice de control tiene un impacto significativo pero relativamente bajo en las variables socioeconómicas analizadas. Sin embargo, el poder explicativo de los modelos es bastante bajo, lo que sugiere que otros factores no considerados en el modelo podrían estar influyendo en estas variables."
      ],
      "metadata": {
        "id": "HnyuPTldIZiI"
      }
    },
    {
      "cell_type": "code",
      "source": [
        "\n",
        "# Importar librerías necesarias\n",
        "import pandas as pd\n",
        "from scipy.stats import ttest_ind\n",
        "\n",
        "# Separar los municipios con y sin activos renovables\n",
        "municipios_con = df[df['control'] == 1]\n",
        "municipios_sin = df[df['control'] == 0]\n",
        "\n",
        "# Calcular la media de población por grupo de edad para cada grupo\n",
        "media_por_edad_con = municipios_con[['poblacion', '_0_14_', '_15_29_', '_30_44_', '_45_64_', 'mas65_']].mean()\n",
        "media_por_edad_sin = municipios_sin[['poblacion', '_0_14_', '_15_29_', '_30_44_', '_45_64_', 'mas65_']].mean()\n",
        "\n",
        "# Realizar una prueba t para la diferencia de medias\n",
        "t_stat, p_valor = ttest_ind(municipios_con['poblacion'], municipios_sin['poblacion'], equal_var=False)\n",
        "\n",
        "print(\"Media de población por grupo de edad en municipios con activos renovables:\\n\", media_por_edad_con)\n",
        "print(\"\\nMedia de población por grupo de edad en municipios sin activos renovables:\\n\", media_por_edad_sin)\n",
        "print(\"\\nPrueba t para la diferencia de medias:\")\n",
        "print(\"p-valor =\", p_valor)\n"
      ],
      "metadata": {
        "id": "FG8I3PjFJVjx"
      },
      "execution_count": null,
      "outputs": []
    },
    {
      "cell_type": "code",
      "source": [
        "import pandas as pd\n",
        "import matplotlib.pyplot as plt\n",
        "\n",
        "# Filtrar datos para población antes de la instalación de activos renovables\n",
        "poblacion_pre_renovables = df[df['control'] == 2][['_0_14_', '_15_29_', '_30_44_', '_45_64_', 'mas65_']].mean()\n",
        "\n",
        "# Filtrar datos para población después de la instalación de activos renovables\n",
        "poblacion_post_renovables = df[df['control'] == 0][['_0_14_', '_15_29_', '_30_44_', '_45_64_', 'mas65_']].mean()\n",
        "\n",
        "# Graficar\n",
        "plt.figure(figsize=(10, 6))\n",
        "\n",
        "# Población antes de la instalación de activos renovables\n",
        "plt.plot(poblacion_pre_renovables.index, poblacion_pre_renovables, label='Antes de Renovables', marker='o')\n",
        "\n",
        "# Población después de la instalación de activos renovables\n",
        "plt.plot(poblacion_post_renovables.index, poblacion_post_renovables, label='Después de Renovables', marker='o')\n",
        "\n",
        "# Etiquetas y título\n",
        "plt.xlabel('Grupo de Edad')\n",
        "plt.ylabel('Población')\n",
        "plt.title('Evolución de la Población por Grupo de Edad')\n",
        "plt.legend()\n",
        "\n",
        "# Mostrar la gráfica\n",
        "plt.xticks(rotation=45)\n",
        "plt.grid(True)\n",
        "plt.tight_layout()\n",
        "plt.show()"
      ],
      "metadata": {
        "id": "fRk79v4fJjgU"
      },
      "execution_count": null,
      "outputs": []
    },
    {
      "cell_type": "code",
      "source": [
        "\n",
        "# Filtrar datos para población antes y después de la instalación de activos renovables\n",
        "poblacion_pre_renovables = df[df['control'] == 2][['_0_14_', '_15_29_', '_30_44_', '_45_64_', 'mas65_']].mean()\n",
        "poblacion_post_renovables = df[df['control'] == 0][['_0_14_', '_15_29_', '_30_44_', '_45_64_', 'mas65_']].mean()\n",
        "\n",
        "# Filtrar datos de paro antes y después\n",
        "paro_pre_renovables = df[df['control'] == 2]['paro'].mean()\n",
        "paro_post_renovables = df[df['control'] == 0]['paro'].mean()\n",
        "\n",
        "# Filtrar datos de renta bruta antes y después\n",
        "renta_bruta_pre_renovables = df[df['control'] == 2]['rentaBruta'].mean()\n",
        "renta_bruta_post_renovables = df[df['control'] == 0]['rentaBruta'].mean()\n",
        "\n",
        "# Filtrar datos de afiliados a la Seguridad Social antes y después\n",
        "afiliadosSS_pre_renovables = df[df['control'] == 2]['afiliadosSS'].mean()\n",
        "afiliadosSS_post_renovables = df[df['control'] == 0]['afiliadosSS'].mean()\n",
        "\n",
        "# Graficar\n",
        "fig, axes = plt.subplots(2, 2, figsize=(12, 10))\n",
        "\n",
        "# Población antes y después\n",
        "axes[0, 0].plot(poblacion_pre_renovables.index, poblacion_pre_renovables, label='Antes de Renovables', marker='o')\n",
        "axes[0, 0].plot(poblacion_post_renovables.index, poblacion_post_renovables, label='Después de Renovables', marker='o')\n",
        "axes[0, 0].set_title('Evolución de la Población por Grupo de Edad')\n",
        "axes[0, 0].set_xlabel('Grupo de Edad')\n",
        "axes[0, 0].set_ylabel('Población')\n",
        "axes[0, 0].legend()\n",
        "\n",
        "# Paro antes y después\n",
        "axes[0, 1].bar(['Antes de Renovables', 'Después de Renovables'], [paro_pre_renovables, paro_post_renovables], color=['blue', 'orange'])\n",
        "axes[0, 1].set_title('Tasa de Paro')\n",
        "axes[0, 1].set_ylabel('Paro')\n",
        "\n",
        "# Renta Bruta antes y después\n",
        "axes[1, 0].bar(['Antes de Renovables', 'Después de Renovables'], [renta_bruta_pre_renovables, renta_bruta_post_renovables], color=['blue', 'orange'])\n",
        "axes[1, 0].set_title('Renta Bruta')\n",
        "axes[1, 0].set_ylabel('Renta Bruta')\n",
        "\n",
        "# Afiliados a la Seguridad Social antes y después\n",
        "axes[1, 1].bar(['Antes de Renovables', 'Después de Renovables'], [afiliadosSS_pre_renovables, afiliadosSS_post_renovables], color=['blue', 'orange'])\n",
        "axes[1, 1].set_title('Afiliados a la Seguridad Social')\n",
        "axes[1, 1].set_ylabel('Afiliados a la Seguridad Social')\n",
        "\n",
        "# Ajustar diseño\n",
        "plt.tight_layout()\n",
        "plt.show()\n"
      ],
      "metadata": {
        "id": "EwRQWTyBJyqU"
      },
      "execution_count": null,
      "outputs": []
    },
    {
      "cell_type": "code",
      "source": [
        "import pandas as pd\n",
        "import matplotlib.pyplot as plt\n",
        "\n",
        "\n",
        "# Calcular la renta bruta media por año para municipios con y sin activos renovables\n",
        "renta_bruta_pre = df[df['t_group_oper'] == 0].groupby('year')['rentaBruta'].mean()\n",
        "renta_bruta_post = df[df['t_group_oper'] == 1].groupby('year')['rentaBruta'].mean()\n",
        "\n",
        "# Graficar\n",
        "plt.figure(figsize=(10, 6))\n",
        "\n",
        "# Graficar la renta bruta antes y después\n",
        "plt.plot(renta_bruta_pre.index, renta_bruta_pre.values, marker='o', label='Antes de Renovables')\n",
        "plt.plot(renta_bruta_post.index, renta_bruta_post.values, marker='o', label='Después de Renovables')\n",
        "\n",
        "plt.title('Impacto de Renovables de Acciona en la Renta Bruta por Año')\n",
        "plt.xlabel('Año')\n",
        "plt.ylabel('Renta Bruta')\n",
        "plt.legend()\n",
        "plt.grid(True)\n",
        "plt.xticks(rotation=45)\n",
        "plt.tight_layout()\n",
        "plt.show()"
      ],
      "metadata": {
        "id": "3I282zFNKhZk"
      },
      "execution_count": null,
      "outputs": []
    },
    {
      "cell_type": "code",
      "source": [
        "# Calcular la tasa de paro media por año para municipios con y sin activos renovables\n",
        "tasa_paro_pre = df[df['t_group_oper'] == 0].groupby('year')['paro'].mean()\n",
        "tasa_paro_post = df[df['t_group_oper'] == 1].groupby('year')['paro'].mean()\n",
        "\n",
        "# Graficar\n",
        "plt.figure(figsize=(10, 6))\n",
        "plt.plot(tasa_paro_pre.index, tasa_paro_pre.values, marker='o', label='Antes de Renovables')\n",
        "plt.plot(tasa_paro_post.index, tasa_paro_post.values, marker='o', label='Después de Renovables')\n",
        "plt.title('Impacto de Renovables de Acciona en la Tasa de Paro por Año')\n",
        "plt.xlabel('Año')\n",
        "plt.ylabel('Tasa de Paro (%)')\n",
        "plt.legend()\n",
        "plt.grid(True)\n",
        "plt.xticks(rotation=45)\n",
        "plt.tight_layout()\n",
        "plt.show()"
      ],
      "metadata": {
        "id": "DOjY-LPUKkyD"
      },
      "execution_count": null,
      "outputs": []
    },
    {
      "cell_type": "code",
      "source": [
        "# Calcular la renta disponible media por año para municipios con y sin activos renovables\n",
        "renta_disponible_pre = df[df['t_group_oper'] == 0].groupby('year')['rentaDisponible'].mean()\n",
        "renta_disponible_post = df[df['t_group_oper'] == 1].groupby('year')['rentaDisponible'].mean()\n",
        "\n",
        "# Graficar\n",
        "plt.figure(figsize=(10, 6))\n",
        "plt.plot(renta_disponible_pre.index, renta_disponible_pre.values, marker='o', label='Antes de Renovables')\n",
        "plt.plot(renta_disponible_post.index, renta_disponible_post.values, marker='o', label='Después de Renovables')\n",
        "plt.title('Impacto de Renovables de Acciona en la Renta Disponible por Año')\n",
        "plt.xlabel('Año')\n",
        "plt.ylabel('Renta Disponible')\n",
        "plt.legend()\n",
        "plt.grid(True)\n",
        "plt.xticks(rotation=45)\n",
        "plt.tight_layout()\n",
        "plt.show()\n"
      ],
      "metadata": {
        "id": "Kt2KR028KoAE"
      },
      "execution_count": null,
      "outputs": []
    },
    {
      "cell_type": "code",
      "source": [
        "# Calcular la afiliación a la Seguridad Social media por año para municipios con y sin activos renovables\n",
        "afiliados_pre = df[df['t_group_oper'] == 0].groupby('year')['afiliadosSS'].mean()\n",
        "afiliados_post = df[df['t_group_oper'] == 1].groupby('year')['afiliadosSS'].mean()\n",
        "\n",
        "# Graficar\n",
        "plt.figure(figsize=(10, 6))\n",
        "plt.plot(afiliados_pre.index, afiliados_pre.values, marker='o', label='Antes de Renovables')\n",
        "plt.plot(afiliados_post.index, afiliados_post.values, marker='o', label='Después de Renovables')\n",
        "plt.xlabel('Año')\n",
        "plt.ylabel('afiliadosSS')\n",
        "plt.legend()\n",
        "plt.grid(True)\n",
        "plt.xticks(rotation=45)\n",
        "plt.tight_layout()\n",
        "plt.show()"
      ],
      "metadata": {
        "id": "SQm3QHHeKrIi"
      },
      "execution_count": null,
      "outputs": []
    },
    {
      "cell_type": "code",
      "source": [
        "import matplotlib.pyplot as plt\n",
        "import pandas as pd\n",
        "\n",
        "# Simulated dataset for demonstration purposes\n",
        "data = {\n",
        "    'year': list(range(2000, 2023)),\n",
        "    't_group_oper': [0]*10 + [1]*13,\n",
        "    'rentaBruta': [15000, 15200, 15400, 15500, 15700, 16000, 16200, 16300, 16500, 16600, 16700, 16800, 17000, 17200, 17500, 17800, 18000, 18300, 18600, 18900, 19200, 19500, 19800]\n",
        "}\n",
        "\n",
        "df = pd.DataFrame(data)\n",
        "\n",
        "# Filter data\n",
        "pre_intervencion = df[df['t_group_oper'] == 0].groupby('year')['rentaBruta'].mean()\n",
        "post_intervencion = df[df['t_group_oper'] == 1].groupby('year')['rentaBruta'].mean()\n",
        "\n",
        "# Plot\n",
        "plt.figure(figsize=(12, 6))\n",
        "plt.plot(pre_intervencion.index, pre_intervencion.values, label='Antes de Renovables', marker='o')\n",
        "plt.plot(post_intervencion.index, post_intervencion.values, label='Después de Renovables', marker='o')\n",
        "plt.axvline(x=min(df[df['t_group_oper'] == 1]['year']), color='r', linestyle='--', label='Inicio de Operación de Renovables')\n",
        "\n",
        "plt.title('Evolución de la Renta Bruta Antes y Después de la Instalación de Renovables de Acciona')\n",
        "plt.xlabel('Año')\n",
        "plt.ylabel('Renta Bruta')\n",
        "plt.legend()\n",
        "plt.grid(True)\n",
        "plt.show()\n"
      ],
      "metadata": {
        "id": "Xxu47ZJWKxN2"
      },
      "execution_count": null,
      "outputs": []
    },
    {
      "cell_type": "markdown",
      "source": [
        "analisis solo asturias"
      ],
      "metadata": {
        "id": "_PY6FcdfLG7g"
      }
    },
    {
      "cell_type": "code",
      "source": [
        "from scipy.stats import f_oneway\n",
        "\n",
        "# Filtrar los datos por los tres grupos de control\n",
        "acciona_asturias = df[(df['provincia'] == 'Asturias') & (df['control'] == 0)]\n",
        "no_acciona_asturias = df[(df['provincia'] == 'Asturias') & (df['control'] == 1)]\n",
        "sin_renovables_asturias = df[(df['provincia'] == 'Asturias') & (df['control'] == 2)]\n",
        "\n",
        "# Extraer las variables de interés\n",
        "renta_bruta_acciona = acciona_asturias['rentaBruta'].dropna()\n",
        "renta_bruta_no_acciona = no_acciona_asturias['rentaBruta'].dropna()\n",
        "renta_bruta_sin_renovables = sin_renovables_asturias['rentaBruta'].dropna()\n",
        "\n",
        "paro_acciona = acciona_asturias['paro'].dropna()\n",
        "paro_no_acciona = no_acciona_asturias['paro'].dropna()\n",
        "paro_sin_renovables = sin_renovables_asturias['paro'].dropna()\n",
        "\n",
        "afiliadosSS_acciona = acciona_asturias['afiliadosSS'].dropna()\n",
        "afiliadosSS_no_acciona = no_acciona_asturias['afiliadosSS'].dropna()\n",
        "afiliadosSS_sin_renovables = sin_renovables_asturias['afiliadosSS'].dropna()\n",
        "\n",
        "poblacion_acciona = acciona_asturias['poblacion'].dropna()\n",
        "poblacion_no_acciona = no_acciona_asturias['poblacion'].dropna()\n",
        "poblacion_sin_renovables = sin_renovables_asturias['poblacion'].dropna()\n",
        "\n",
        "\n",
        "# ANOVA para renta bruta\n",
        "renta_bruta_anova = f_oneway(renta_bruta_acciona, renta_bruta_no_acciona, renta_bruta_sin_renovables)\n",
        "print('Resultados del ANOVA para renta bruta en Asturias:')\n",
        "print(renta_bruta_anova)\n",
        "\n",
        "# ANOVA para paro\n",
        "paro_anova = f_oneway(paro_acciona, paro_no_acciona, paro_sin_renovables)\n",
        "print('Resultados del ANOVA para paro en Asturias:')\n",
        "print(paro_anova)\n",
        "\n",
        "# ANOVA para afiliados a la Seguridad Social\n",
        "afiliadosSS_anova = f_oneway(afiliadosSS_acciona, afiliadosSS_no_acciona, afiliadosSS_sin_renovables)\n",
        "print('Resultados del ANOVA para afiliados a la Seguridad Social en Asturias:')\n",
        "print(afiliadosSS_anova)\n",
        "\n",
        "\n",
        "# ANOVA para poblacion\n",
        "poblacion_anova = f_oneway(poblacion_acciona, poblacion_no_acciona, poblacion_sin_renovables)\n",
        "print('Resultados del ANOVA para poblacion en Asturias:')\n",
        "print(poblacion_anova)"
      ],
      "metadata": {
        "id": "kS5_lIRWLKlr"
      },
      "execution_count": null,
      "outputs": []
    },
    {
      "cell_type": "code",
      "source": [
        "import matplotlib.pyplot as plt\n",
        "import seaborn as sns\n",
        "\n",
        "# Configuración de estilo\n",
        "sns.set(style='whitegrid')\n",
        "\n",
        "# Crear una figura con subplots\n",
        "fig, axes = plt.subplots(4, 1, figsize=(12, 18))\n",
        "\n",
        "# Gráfico para renta bruta\n",
        "sns.boxplot(x='control', y='rentaBruta', data=df[df['provincia'] == 'Asturias'], ax=axes[0])\n",
        "axes[0].set_title('Renta Bruta en Asturias por Grupo de Control')\n",
        "axes[0].set_xlabel('Grupo de Control')\n",
        "axes[0].set_ylabel('Renta Bruta')\n",
        "axes[0].set_xticklabels(['Acciona', 'No Acciona', 'Sin Renovables'])\n",
        "\n",
        "# Gráfico para paro\n",
        "sns.boxplot(x='control', y='paro', data=df[df['provincia'] == 'Asturias'], ax=axes[1])\n",
        "axes[1].set_title('Paro en Asturias por Grupo de Control')\n",
        "axes[1].set_xlabel('Grupo de Control')\n",
        "axes[1].set_ylabel('Paro')\n",
        "axes[1].set_xticklabels(['Acciona', 'No Acciona', 'Sin Renovables'])\n",
        "\n",
        "# Gráfico para afiliados a la Seguridad Social\n",
        "sns.boxplot(x='control', y='afiliadosSS', data=df[df['provincia'] == 'Asturias'], ax=axes[2])\n",
        "axes[2].set_title('Afiliados a la Seguridad Social en Asturias por Grupo de Control')\n",
        "axes[2].set_xlabel('Grupo de Control')\n",
        "axes[2].set_ylabel('Afiliados a la Seguridad Social')\n",
        "axes[2].set_xticklabels(['Acciona', 'No Acciona', 'Sin Renovables'])\n",
        "\n",
        "sns.boxplot(x='control', y='poblacion', data=df[df['provincia'] == 'Asturias'], ax=axes[3])\n",
        "axes[3].set_title('Poblacion en Asturias por Grupo de Control')\n",
        "axes[3].set_xlabel('Grupo de Control')\n",
        "axes[3].set_ylabel('Poblacion')\n",
        "axes[3].set_xticklabels(['Acciona', 'No Acciona', 'Sin Renovables'])\n",
        "\n",
        "# Ajustar el layout\n",
        "plt.tight_layout()\n",
        "\n",
        "# Mostrar los gráficos\n",
        "plt.show()"
      ],
      "metadata": {
        "id": "MvqGC2CqLM3u"
      },
      "execution_count": null,
      "outputs": []
    }
  ]
}