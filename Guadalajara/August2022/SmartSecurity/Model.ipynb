{
 "cells": [
  {
   "cell_type": "code",
   "execution_count": 1,
   "id": "52c2b9a6",
   "metadata": {},
   "outputs": [],
   "source": [
    "import numpy as np\n",
    "import pandas as pd\n",
    "from geopy.geocoders import Nominatim\n",
    "from datetime import datetime, timedelta\n",
    "import time\n",
    "from sklearn.model_selection import train_test_split\n",
    "from sklearn.ensemble import RandomForestRegressor\n",
    "import xgboost as xgb\n",
    "import sklearn.metrics as mts\n",
    "from scipy.stats import mode\n",
    "import pickle\n",
    "from sklearn.metrics import accuracy_score, confusion_matrix, precision_score, recall_score, f1_score, roc_curve, roc_auc_score\n",
    "import seaborn as sns\n",
    "import matplotlib.pyplot as plt"
   ]
  },
  {
   "cell_type": "code",
   "execution_count": 2,
   "id": "53d35385",
   "metadata": {},
   "outputs": [],
   "source": [
    "def asignarCompetencia(delitos,d):\n",
    "    competencia = delitos.loc[delitos[\"delito\"]==d][\"competencia\"]\n",
    "    competencia= competencia.iloc[0]\n",
    "    competencia = competencia[~pd.isnull(competencia)]\n",
    "    if len(competencia)>1:\n",
    "        if \"INCOMPETENCIA\" in competencia and \"FUERO COMUN\" in competencia:\n",
    "            return \"FUERO COMUN\"\n",
    "        elif \"FUERO COMUN\" in competencia and \"HECHO NO DELICTIVO\" in competencia:\n",
    "            return \"FUERO COMUN\"\n",
    "    else :\n",
    "        return competencia\n",
    "def crime_severity_assessment(crime_description):\n",
    "  \n",
    "  severity_assessment = \"CON VIOLENCIA\"\n",
    "  severity_factor=1\n",
    "\n",
    "  crime_description = str(crime_description)\n",
    "  \n",
    "  if crime_description.find(severity_assessment, 0, len(crime_description)) >= 0:\n",
    "    severity_factor = 2\n",
    "   \n",
    "  return severity_factor\n",
    "# def crime_ocurrence_factor(category, crime):\n",
    "\n",
    "#   index_crime_by_category = (category, crime)\n",
    "#   ocurrence_factor = crime_by_category['categoria_delito'][index_crime_by_category]\n",
    "#   ocurrence_factor = (ocurrence_factor / data.shape[0]) * 100\n",
    "\n",
    "#   return ocurrence_factor\n",
    "\n",
    "def crime_ocurrence_factor(data,crime,month,zone):\n",
    "    sub  = data.loc[(data[\"alcaldia_hechos\"]==zone)&\n",
    "                         (data[\"fecha_hechos\"]<=month)&\n",
    "                         (data[\"delito\"]==crime)].reset_index(drop=True)\n",
    "    return len(sub)/len( data.loc[(data[\"alcaldia_hechos\"]==zone)&\n",
    "                         (data[\"fecha_hechos\"]<=month)].reset_index(drop=True))\n",
    "\n",
    "def addFeatures(data,col):\n",
    "    data[\"change_\"+col]=((data[col]-data[col].shift(1))/data[col].shift(1)).iloc[1:]\n",
    "    data[\"MeanChange1\"]=data[\"change_\"+col].rolling(1).mean()\n",
    "    data[\"MeanChange3\"]=data[\"change_\"+col].rolling(3).mean()\n",
    "    data[\"MeanChange6\"]=data[\"change_\"+col].rolling(6).mean()\n",
    "    data[\"MeanChange12\"]=data[\"change_\"+col].rolling(12).mean()\n",
    "    data[\"MovingSTD3Chg\"+col]=data[\"change_\"+col].rolling(3).std()\n",
    "    data[\"MovingSTD6Chg\"+col]=data[\"change_\"+col].rolling(6).std()\n",
    "    data[\"MovingSTD12Chg\"+col]=data[\"change_\"+col].rolling(12).std()\n",
    "    data[\"square_\"+col]=data[col]**2\n",
    "    data[\"cube_\"+col]=data[col]**3\n",
    "    data[\"sqrt_\"+col]= np.sqrt(data[col])\n",
    "    data[\"log_\"+col] = np.log(data[col])\n",
    "    data[\"log2_\"+col]=np.log2(data[col])\n",
    "    data[\"log10_\"+col]=np.log10(data[col])\n",
    "    data[\"exp_\"+col]= np.exp(data[col])\n",
    "    data[\"sin_\"+col]=np.sin(data[col])\n",
    "    data[\"cos_\"+col]=np.cos(data[col])\n",
    "    data[\"tan_\"+col]=np.tan(data[col])\n",
    "    data[\"tanh_\"+col] = np.tanh(data[col])\n",
    "    data[\"arctan\"+col]= np.arctan(data[col])\n",
    "    data[\"norm_\"+col]=(data[col]-data[col].mean())/np.std(data[col])\n",
    "    data[\"MinMax_\"+col]=(data[col]-data[col].min())/(data[col].max()-data[col].min())\n",
    "    data[\"MA1\"+col]=data[col].rolling(2).mean()\n",
    "    data[\"MA3\"+col]=data[col].rolling(3).mean()\n",
    "    data[\"MA6\"+col]=data[col].rolling(12).mean()\n",
    "    data[\"MA12\"+col]=data[col].rolling(12).mean()\n",
    "    data[\"MovingMedian1\"+col]=data[col].rolling(1).median()\n",
    "    data[\"MovingMedian3\"+col]=data[col].rolling(3).median()\n",
    "    data[\"MovingMedian6\"+col]=data[col].rolling(6).median()\n",
    "    data[\"MovingMedian12\"+col]=data[col].rolling(12).median()\n",
    "    #data[\"MovingInterQ12\"+col]=data[col].quantile(.75)-data[col].quantile(.25)\n",
    "    #data[\"MovingSTD1\"+col]=data[col].rolling(1).std()\n",
    "    data[\"MovingSTD3\"+col]=data[col].rolling(3).std()\n",
    "    data[\"MovingSTD6\"+col]=data[col].rolling(6).std()\n",
    "    data[\"MovingSTD12\"+col]=data[col].rolling(12).std()\n",
    "    \n",
    "    \n",
    "    data[\"FirstDiff\"+col]=data[col].diff()\n",
    "    data[\"SecondDiff\"+col]=data[col].diff(2)\n",
    "    data[\"ThridDiff\"+col]=data[col].diff(3)\n",
    "    data[\"FourthDiff\"+col]=data[col].diff(4)\n",
    "    \n",
    "    data[\"MovingMax1\"+col]=data[col].rolling(1).max()\n",
    "    data[\"MovingMax3\"+col]=data[col].rolling(3).max()\n",
    "    data[\"MovingMax6\"+col]=data[col].rolling(6).max()\n",
    "    data[\"MovingMax12\"+col]=data[col].rolling(12).max()\n",
    "    \n",
    "    data[\"MovingMin1\"+col]=data[col].rolling(1).min()\n",
    "    data[\"MovingMin3\"+col]=data[col].rolling(1).min()\n",
    "    data[\"MovingMin6\"+col]=data[col].rolling(6).min()\n",
    "    data[\"MovingMin12\"+col]=data[col].rolling(12).min()\n",
    "    \n",
    "    #data[\"movingKurtosis1\"+col]=data[col].rolling(1).kurt()\n",
    "    #data[\"movingKurtosis3\"+col]=data[col].rolling(3).kurt()\n",
    "    data[\"movingKurtosis6\"+col]=data[col].rolling(6).kurt()\n",
    "    data[\"movingKurtosis12\"+col]=data[col].rolling(12).kurt()\n",
    "    data[\"movingSkew12\"+col]=data[col].rolling(12).skew()\n",
    "    #data[\"next_risk_value\"]=data[col].shift(periods=-1)\n",
    "    \n",
    "    data[\"movingMode1\"+col]= data[col].rolling(1).apply(lambda  x: mode(x)[0])\n",
    "    data[\"movingMode3\"+col]= data[col].rolling(3).apply(lambda  x: mode(x)[0])\n",
    "    data[\"movingMode6\"+col]= data[col].rolling(6).apply(lambda  x: mode(x)[0])\n",
    "    data[\"movingMode12\"+col]= data[col].rolling(12).apply(lambda  x: mode(x)[0])\n",
    "    \n",
    "    \n",
    "    data[\"next_risk_class\"]=data[\"RiskClass\"].shift(periods=-1)\n",
    "    data = data.dropna(axis=0)\n",
    "    data = data.reset_index(drop=True)\n",
    "    \n",
    "    return data\n",
    "    \n",
    "\n",
    "def riskSituation(index,len_data):\n",
    "    if index+1<len_data*.3:\n",
    "        return 0\n",
    "    elif index+1>len_data*.3 and index+1<len_data*.9:\n",
    "        return 0\n",
    "    elif index+1>(len_data*.9):\n",
    "        return 1\n",
    "    \n",
    "    \n",
    "\n"
   ]
  },
  {
   "cell_type": "code",
   "execution_count": null,
   "id": "842be90d",
   "metadata": {},
   "outputs": [],
   "source": []
  },
  {
   "cell_type": "code",
   "execution_count": null,
   "id": "666e13bb",
   "metadata": {},
   "outputs": [],
   "source": []
  },
  {
   "cell_type": "code",
   "execution_count": 3,
   "id": "b02b0053",
   "metadata": {},
   "outputs": [
    {
     "name": "stderr",
     "output_type": "stream",
     "text": [
      "C:\\Users\\Mi Compu\\AppData\\Local\\Temp\\ipykernel_1256\\638779148.py:2: DtypeWarning: Columns (13) have mixed types. Specify dtype option on import or set low_memory=False.\n",
      "  data = pd.read_csv(path+\"/\"+\"da_carpetas_completa_septiembre_2022.csv\")\n"
     ]
    }
   ],
   "source": [
    "path = \"C:/Users/Mi Compu/Documents/Personal/SaturdaysAI/Data\"\n",
    "data = pd.read_csv(path+\"/\"+\"da_carpetas_completa_septiembre_2022.csv\")\n"
   ]
  },
  {
   "cell_type": "code",
   "execution_count": null,
   "id": "cb512367",
   "metadata": {},
   "outputs": [],
   "source": []
  },
  {
   "cell_type": "code",
   "execution_count": 4,
   "id": "b4dc91b6",
   "metadata": {},
   "outputs": [],
   "source": [
    "# fecha_prueba = data[\"fecha_hechos\"][10000]\n",
    "# alcaldia ='BENITO JUAREZ'\n",
    "# sub = data.loc[(data[\"alcaldia_hechos\"]==alcaldia)&(data[\"fecha_hechos\"]<=fecha_prueba)&(data[\"delito\"]==\"LESIONES INTENCIONALES\")]\n",
    "# fecha_prueba\n"
   ]
  },
  {
   "cell_type": "code",
   "execution_count": null,
   "id": "e9361e3b",
   "metadata": {},
   "outputs": [],
   "source": []
  },
  {
   "cell_type": "code",
   "execution_count": 5,
   "id": "ebdd6d64",
   "metadata": {},
   "outputs": [
    {
     "name": "stderr",
     "output_type": "stream",
     "text": [
      "C:\\Users\\Mi Compu\\AppData\\Local\\Temp\\ipykernel_1256\\1899460691.py:2: DtypeWarning: Columns (13) have mixed types. Specify dtype option on import or set low_memory=False.\n",
      "  data = pd.read_csv(path+\"da_carpetas_completa_septiembre_2022.csv\")\n"
     ]
    }
   ],
   "source": [
    "path = 'C:/Users/Mi Compu/Documents/Personal/SaturdaysAI/Data/'\n",
    "data = pd.read_csv(path+\"da_carpetas_completa_septiembre_2022.csv\")\n",
    "backup=data"
   ]
  },
  {
   "cell_type": "code",
   "execution_count": 6,
   "id": "c10c3dbe",
   "metadata": {},
   "outputs": [
    {
     "data": {
      "text/html": [
       "<div>\n",
       "<style scoped>\n",
       "    .dataframe tbody tr th:only-of-type {\n",
       "        vertical-align: middle;\n",
       "    }\n",
       "\n",
       "    .dataframe tbody tr th {\n",
       "        vertical-align: top;\n",
       "    }\n",
       "\n",
       "    .dataframe thead th {\n",
       "        text-align: right;\n",
       "    }\n",
       "</style>\n",
       "<table border=\"1\" class=\"dataframe\">\n",
       "  <thead>\n",
       "    <tr style=\"text-align: right;\">\n",
       "      <th></th>\n",
       "      <th>ao_hechos</th>\n",
       "      <th>mes_hechos</th>\n",
       "      <th>fecha_hechos</th>\n",
       "      <th>hora_hechos</th>\n",
       "      <th>ao_inicio</th>\n",
       "      <th>mes_inicio</th>\n",
       "      <th>fecha_inicio</th>\n",
       "      <th>hora_inicio</th>\n",
       "      <th>delito</th>\n",
       "      <th>fiscalia</th>\n",
       "      <th>agencia</th>\n",
       "      <th>unidad_investigacion</th>\n",
       "      <th>categoria_delito</th>\n",
       "      <th>competencia</th>\n",
       "      <th>longitud</th>\n",
       "      <th>latitud</th>\n",
       "      <th>alcaldia_hechos</th>\n",
       "      <th>municipio_hechos</th>\n",
       "      <th>colonia</th>\n",
       "    </tr>\n",
       "  </thead>\n",
       "  <tbody>\n",
       "    <tr>\n",
       "      <th>0</th>\n",
       "      <td>2016.0</td>\n",
       "      <td>Enero</td>\n",
       "      <td>2016-01-31</td>\n",
       "      <td>22:16:00</td>\n",
       "      <td>2016</td>\n",
       "      <td>Febrero</td>\n",
       "      <td>2016-02-01</td>\n",
       "      <td>00:25:44</td>\n",
       "      <td>DAÑO EN PROPIEDAD AJENA INTENCIONAL</td>\n",
       "      <td>INVESTIGACIÓN EN BENITO JUÁREZ</td>\n",
       "      <td>BJ-2</td>\n",
       "      <td>UI-3CD</td>\n",
       "      <td>DELITO DE BAJO IMPACTO</td>\n",
       "      <td>NaN</td>\n",
       "      <td>-99.140215</td>\n",
       "      <td>19.380315</td>\n",
       "      <td>BENITO JUAREZ</td>\n",
       "      <td>NaN</td>\n",
       "      <td>AMERICAS UNIDAS-DEL LAGO</td>\n",
       "    </tr>\n",
       "    <tr>\n",
       "      <th>1</th>\n",
       "      <td>2016.0</td>\n",
       "      <td>Enero</td>\n",
       "      <td>2016-01-31</td>\n",
       "      <td>20:50:00</td>\n",
       "      <td>2016</td>\n",
       "      <td>Febrero</td>\n",
       "      <td>2016-02-01</td>\n",
       "      <td>00:52:37</td>\n",
       "      <td>ROBO DE VEHICULO DE SERVICIO PARTICULAR CON VI...</td>\n",
       "      <td>INVESTIGACIÓN PARA LA ATENCIÓN DEL DELITO DE R...</td>\n",
       "      <td>ORIENTEII</td>\n",
       "      <td>UI-3CD</td>\n",
       "      <td>ROBO DE VEHÍCULO CON Y SIN VIOLENCIA</td>\n",
       "      <td>NaN</td>\n",
       "      <td>-99.108403</td>\n",
       "      <td>19.352859</td>\n",
       "      <td>IZTAPALAPA</td>\n",
       "      <td>NaN</td>\n",
       "      <td>LOS CIPRESES</td>\n",
       "    </tr>\n",
       "    <tr>\n",
       "      <th>2</th>\n",
       "      <td>2016.0</td>\n",
       "      <td>Febrero</td>\n",
       "      <td>2016-02-01</td>\n",
       "      <td>00:30:00</td>\n",
       "      <td>2016</td>\n",
       "      <td>Febrero</td>\n",
       "      <td>2016-02-01</td>\n",
       "      <td>01:33:26</td>\n",
       "      <td>NARCOMENUDEO POSESION SIMPLE</td>\n",
       "      <td>INVESTIGACIÓN PARA LA ATENCIÓN DE NIÑOS, NIÑAS...</td>\n",
       "      <td>57</td>\n",
       "      <td>UI-3CD</td>\n",
       "      <td>DELITO DE BAJO IMPACTO</td>\n",
       "      <td>NaN</td>\n",
       "      <td>-99.061321</td>\n",
       "      <td>19.356451</td>\n",
       "      <td>IZTAPALAPA</td>\n",
       "      <td>NaN</td>\n",
       "      <td>VICENTE GUERRERO SUPER MANZANA 7 (U HAB)</td>\n",
       "    </tr>\n",
       "    <tr>\n",
       "      <th>3</th>\n",
       "      <td>2016.0</td>\n",
       "      <td>Enero</td>\n",
       "      <td>2016-01-31</td>\n",
       "      <td>22:00:00</td>\n",
       "      <td>2016</td>\n",
       "      <td>Febrero</td>\n",
       "      <td>2016-02-01</td>\n",
       "      <td>02:09:11</td>\n",
       "      <td>ROBO A TRANSEUNTE EN VIA PUBLICA CON VIOLENCIA</td>\n",
       "      <td>INVESTIGACIÓN EN IZTAPALAPA</td>\n",
       "      <td>IZP-6</td>\n",
       "      <td>UI-3CD</td>\n",
       "      <td>ROBO A TRANSEUNTE EN VÍA PÚBLICA CON Y SIN VIO...</td>\n",
       "      <td>NaN</td>\n",
       "      <td>-98.976379</td>\n",
       "      <td>19.331633</td>\n",
       "      <td>IZTAPALAPA</td>\n",
       "      <td>NaN</td>\n",
       "      <td>CAMPESTRE POTRERO</td>\n",
       "    </tr>\n",
       "    <tr>\n",
       "      <th>4</th>\n",
       "      <td>2015.0</td>\n",
       "      <td>Diciembre</td>\n",
       "      <td>2015-12-25</td>\n",
       "      <td>12:00:00</td>\n",
       "      <td>2016</td>\n",
       "      <td>Febrero</td>\n",
       "      <td>2016-02-01</td>\n",
       "      <td>02:16:49</td>\n",
       "      <td>DENUNCIA DE HECHOS</td>\n",
       "      <td>INVESTIGACIÓN EN BENITO JUÁREZ</td>\n",
       "      <td>BJ-1</td>\n",
       "      <td>UI-3SD</td>\n",
       "      <td>HECHO NO DELICTIVO</td>\n",
       "      <td>NaN</td>\n",
       "      <td>-99.172189</td>\n",
       "      <td>19.387114</td>\n",
       "      <td>BENITO JUAREZ</td>\n",
       "      <td>NaN</td>\n",
       "      <td>DEL VALLE III</td>\n",
       "    </tr>\n",
       "  </tbody>\n",
       "</table>\n",
       "</div>"
      ],
      "text/plain": [
       "   ao_hechos mes_hechos fecha_hechos hora_hechos  ao_inicio mes_inicio  \\\n",
       "0     2016.0      Enero   2016-01-31    22:16:00       2016    Febrero   \n",
       "1     2016.0      Enero   2016-01-31    20:50:00       2016    Febrero   \n",
       "2     2016.0    Febrero   2016-02-01    00:30:00       2016    Febrero   \n",
       "3     2016.0      Enero   2016-01-31    22:00:00       2016    Febrero   \n",
       "4     2015.0  Diciembre   2015-12-25    12:00:00       2016    Febrero   \n",
       "\n",
       "  fecha_inicio hora_inicio                                             delito  \\\n",
       "0   2016-02-01    00:25:44                DAÑO EN PROPIEDAD AJENA INTENCIONAL   \n",
       "1   2016-02-01    00:52:37  ROBO DE VEHICULO DE SERVICIO PARTICULAR CON VI...   \n",
       "2   2016-02-01    01:33:26                       NARCOMENUDEO POSESION SIMPLE   \n",
       "3   2016-02-01    02:09:11     ROBO A TRANSEUNTE EN VIA PUBLICA CON VIOLENCIA   \n",
       "4   2016-02-01    02:16:49                                 DENUNCIA DE HECHOS   \n",
       "\n",
       "                                            fiscalia    agencia  \\\n",
       "0                     INVESTIGACIÓN EN BENITO JUÁREZ       BJ-2   \n",
       "1  INVESTIGACIÓN PARA LA ATENCIÓN DEL DELITO DE R...  ORIENTEII   \n",
       "2  INVESTIGACIÓN PARA LA ATENCIÓN DE NIÑOS, NIÑAS...         57   \n",
       "3                        INVESTIGACIÓN EN IZTAPALAPA      IZP-6   \n",
       "4                     INVESTIGACIÓN EN BENITO JUÁREZ       BJ-1   \n",
       "\n",
       "  unidad_investigacion                                   categoria_delito  \\\n",
       "0               UI-3CD                             DELITO DE BAJO IMPACTO   \n",
       "1               UI-3CD               ROBO DE VEHÍCULO CON Y SIN VIOLENCIA   \n",
       "2               UI-3CD                             DELITO DE BAJO IMPACTO   \n",
       "3               UI-3CD  ROBO A TRANSEUNTE EN VÍA PÚBLICA CON Y SIN VIO...   \n",
       "4               UI-3SD                                 HECHO NO DELICTIVO   \n",
       "\n",
       "  competencia   longitud    latitud alcaldia_hechos municipio_hechos  \\\n",
       "0         NaN -99.140215  19.380315   BENITO JUAREZ              NaN   \n",
       "1         NaN -99.108403  19.352859      IZTAPALAPA              NaN   \n",
       "2         NaN -99.061321  19.356451      IZTAPALAPA              NaN   \n",
       "3         NaN -98.976379  19.331633      IZTAPALAPA              NaN   \n",
       "4         NaN -99.172189  19.387114   BENITO JUAREZ              NaN   \n",
       "\n",
       "                                    colonia  \n",
       "0                  AMERICAS UNIDAS-DEL LAGO  \n",
       "1                              LOS CIPRESES  \n",
       "2  VICENTE GUERRERO SUPER MANZANA 7 (U HAB)  \n",
       "3                         CAMPESTRE POTRERO  \n",
       "4                             DEL VALLE III  "
      ]
     },
     "execution_count": 6,
     "metadata": {},
     "output_type": "execute_result"
    }
   ],
   "source": [
    "data.head()"
   ]
  },
  {
   "cell_type": "code",
   "execution_count": 7,
   "id": "55baf99d",
   "metadata": {},
   "outputs": [
    {
     "data": {
      "text/plain": [
       "alcaldia_hechos\n",
       "ALVARO OBREGON            104494\n",
       "AZCAPOTZALCO               75350\n",
       "BENITO JUAREZ             124368\n",
       "CDMX                        1074\n",
       "COYOACAN                  104038\n",
       "CUAJIMALPA DE MORELOS      23560\n",
       "CUAUHTEMOC                240022\n",
       "FUERA DE CDMX              16094\n",
       "GUSTAVO A. MADERO         155697\n",
       "IZTACALCO                  64973\n",
       "IZTAPALAPA                230063\n",
       "LA MAGDALENA CONTRERAS     26136\n",
       "MIGUEL HIDALGO             98471\n",
       "MILPA ALTA                 12205\n",
       "TLAHUAC                    40384\n",
       "TLALPAN                    91339\n",
       "VENUSTIANO CARRANZA        88284\n",
       "XOCHIMILCO                 49186\n",
       "Name: delito, dtype: int64"
      ]
     },
     "execution_count": 7,
     "metadata": {},
     "output_type": "execute_result"
    }
   ],
   "source": [
    "data.groupby([\"alcaldia_hechos\"])[\"delito\"].agg('count')"
   ]
  },
  {
   "cell_type": "code",
   "execution_count": 8,
   "id": "054db7ed",
   "metadata": {},
   "outputs": [
    {
     "data": {
      "text/plain": [
       "ao_hechos               float64\n",
       "mes_hechos               object\n",
       "fecha_hechos             object\n",
       "hora_hechos              object\n",
       "ao_inicio                 int64\n",
       "mes_inicio               object\n",
       "fecha_inicio             object\n",
       "hora_inicio              object\n",
       "delito                   object\n",
       "fiscalia                 object\n",
       "agencia                  object\n",
       "unidad_investigacion     object\n",
       "categoria_delito         object\n",
       "competencia              object\n",
       "longitud                float64\n",
       "latitud                 float64\n",
       "alcaldia_hechos          object\n",
       "municipio_hechos         object\n",
       "colonia                  object\n",
       "dtype: object"
      ]
     },
     "execution_count": 8,
     "metadata": {},
     "output_type": "execute_result"
    }
   ],
   "source": [
    "data.dtypes"
   ]
  },
  {
   "cell_type": "code",
   "execution_count": null,
   "id": "9bc3caf7",
   "metadata": {},
   "outputs": [],
   "source": []
  },
  {
   "cell_type": "code",
   "execution_count": 9,
   "id": "87a4052f",
   "metadata": {},
   "outputs": [
    {
     "data": {
      "text/plain": [
       "['BENITO JUAREZ',\n",
       " 'IZTAPALAPA',\n",
       " 'CUAUHTEMOC',\n",
       " 'TLAHUAC',\n",
       " 'IZTACALCO',\n",
       " 'GUSTAVO A. MADERO',\n",
       " 'MIGUEL HIDALGO',\n",
       " 'TLALPAN',\n",
       " 'ALVARO OBREGON',\n",
       " 'VENUSTIANO CARRANZA',\n",
       " 'AZCAPOTZALCO',\n",
       " 'CUAJIMALPA DE MORELOS',\n",
       " 'COYOACAN',\n",
       " 'XOCHIMILCO',\n",
       " 'LA MAGDALENA CONTRERAS',\n",
       " 'MILPA ALTA',\n",
       " 'FUERA DE CDMX',\n",
       " 'CDMX']"
      ]
     },
     "execution_count": 9,
     "metadata": {},
     "output_type": "execute_result"
    }
   ],
   "source": [
    "list(data[\"alcaldia_hechos\"].unique())"
   ]
  },
  {
   "cell_type": "code",
   "execution_count": 10,
   "id": "53d81715",
   "metadata": {},
   "outputs": [
    {
     "data": {
      "text/plain": [
       "['BENITO JUAREZ',\n",
       " 'IZTAPALAPA',\n",
       " 'CUAUHTEMOC',\n",
       " 'TLAHUAC',\n",
       " 'IZTACALCO',\n",
       " 'GUSTAVO A. MADERO',\n",
       " 'MIGUEL HIDALGO',\n",
       " 'TLALPAN',\n",
       " 'ALVARO OBREGON',\n",
       " 'VENUSTIANO CARRANZA',\n",
       " 'AZCAPOTZALCO',\n",
       " 'CUAJIMALPA DE MORELOS',\n",
       " 'COYOACAN',\n",
       " 'XOCHIMILCO',\n",
       " 'LA MAGDALENA CONTRERAS',\n",
       " 'MILPA ALTA']"
      ]
     },
     "execution_count": 10,
     "metadata": {},
     "output_type": "execute_result"
    }
   ],
   "source": [
    "data = data.loc[(data[\"alcaldia_hechos\"]!='CDMX')].reset_index(drop=True)\n",
    "data = data.loc[(data[\"alcaldia_hechos\"]!='FUERA DE CDMX')].reset_index(drop=True)\n",
    "list(data[\"alcaldia_hechos\"].unique())"
   ]
  },
  {
   "cell_type": "code",
   "execution_count": null,
   "id": "367424e3",
   "metadata": {},
   "outputs": [],
   "source": []
  },
  {
   "cell_type": "code",
   "execution_count": 11,
   "id": "7c732a9d",
   "metadata": {},
   "outputs": [],
   "source": [
    "data = data.loc[data[\"ao_hechos\"]>=2016].reset_index(drop=True)\n",
    "data[\"ao_hechos\"]=data[\"ao_hechos\"].astype(str)\n",
    "data[\"ao_hechos\"]=list(i.split('.')[0] for i in data[\"ao_hechos\"])"
   ]
  },
  {
   "cell_type": "code",
   "execution_count": null,
   "id": "2e53de49",
   "metadata": {},
   "outputs": [],
   "source": []
  },
  {
   "cell_type": "code",
   "execution_count": null,
   "id": "6b23e067",
   "metadata": {},
   "outputs": [],
   "source": []
  },
  {
   "cell_type": "code",
   "execution_count": 12,
   "id": "737fb0d5",
   "metadata": {},
   "outputs": [],
   "source": [
    "data= data.drop(columns=[\"municipio_hechos\"])\n",
    "data=data.sort_values(by=[\"alcaldia_hechos\",\"fecha_inicio\"]).reset_index(drop=True)\n"
   ]
  },
  {
   "cell_type": "code",
   "execution_count": 13,
   "id": "9ce4221b",
   "metadata": {},
   "outputs": [],
   "source": [
    "meses ={'Enero':'1',\n",
    "       'Febrero':'2',\n",
    "       'Marzo':'3',\n",
    "       'Abril':'4',\n",
    "       'Mayo':'5',\n",
    "       'Junio':'6',\n",
    "       'Julio':'7',\n",
    "       'Agosto':'8',\n",
    "       'Septiembre':'9',\n",
    "       'Octubre':'10',\n",
    "       'Noviembre':'11',\n",
    "       'Diciembre':'12'}"
   ]
  },
  {
   "cell_type": "code",
   "execution_count": 14,
   "id": "f21a5023",
   "metadata": {},
   "outputs": [],
   "source": [
    "data[\"mes_hechos\"] = list(meses[i] for i in data[\"mes_hechos\"])\n",
    "data[\"mes_año\"]=data[\"ao_hechos\"]+\"/\"+data[\"mes_hechos\"]"
   ]
  },
  {
   "cell_type": "code",
   "execution_count": 15,
   "id": "8642498c",
   "metadata": {},
   "outputs": [],
   "source": [
    "data[\"colonia\"]=data[\"colonia\"].fillna(method='ffill')"
   ]
  },
  {
   "cell_type": "code",
   "execution_count": 16,
   "id": "66fe32fb",
   "metadata": {},
   "outputs": [
    {
     "data": {
      "text/plain": [
       "[nan, 'FUERO COMUN', 'HECHO NO DELICTIVO', 'INCOMPETENCIA']"
      ]
     },
     "execution_count": 16,
     "metadata": {},
     "output_type": "execute_result"
    }
   ],
   "source": [
    "list(data[\"competencia\"].unique())"
   ]
  },
  {
   "cell_type": "code",
   "execution_count": 17,
   "id": "bb23c21c",
   "metadata": {},
   "outputs": [],
   "source": [
    "delitos = pd.DataFrame(data.groupby(by=[\"delito\"])[\"competencia\"].unique())\n",
    "delitos[\"delito\"]=delitos.index\n",
    "delitos = delitos.reset_index(drop=True)"
   ]
  },
  {
   "cell_type": "code",
   "execution_count": 18,
   "id": "497990ca",
   "metadata": {},
   "outputs": [],
   "source": [
    "data[\"competencia\"]= list(asignarCompetencia(delitos,data[\"delito\"][i]) if pd.isnull(data[\"competencia\"][i]) \n",
    "                          else data[\"competencia\"][i]  for i in range(len(data[\"delito\"])))"
   ]
  },
  {
   "cell_type": "code",
   "execution_count": 19,
   "id": "2b158eab",
   "metadata": {},
   "outputs": [],
   "source": [
    "data[\"fecha_inicio\"]=data[\"fecha_inicio\"].fillna(method='ffill')\n",
    "data[\"hora_inicio\"]=data[\"hora_inicio\"].fillna(method='ffill')\n",
    "data[\"unidad_investigacion\"]=data[\"unidad_investigacion\"].fillna(method='ffill')\n",
    "data[\"fiscalia\"]=data[\"fiscalia\"].fillna(method='ffill')"
   ]
  },
  {
   "cell_type": "code",
   "execution_count": 20,
   "id": "a27b9c3c",
   "metadata": {},
   "outputs": [],
   "source": [
    "crime_category_risk_values = {\n",
    "    \"HECHO NO DELICTIVO\": 1,\n",
    "    \"DELITO DE BAJO IMPACTO\": 2,\n",
    "    \"ROBO A TRANSEUNTE EN VÍA PÚBLICA CON Y SIN VIOLENCIA\": 3,\n",
    "    \"ROBO A PASAJERO A BORDO DE MICROBUS CON Y SIN VIOLENCIA\": 3,\n",
    "    \"ROBO A PASAJERO A BORDO DEL METRO CON Y SIN VIOLENCIA\": 3,\n",
    "    \"ROBO A CUENTAHABIENTE SALIENDO DEL CAJERO CON VIOLENCIA\": 4,\n",
    "    \"ROBO A PASAJERO A BORDO DE TAXI CON VIOLENCIA\": 4,\n",
    "    \"ROBO A REPARTIDOR CON Y SIN VIOLENCIA\": 5,\n",
    "    \"ROBO DE VEHÍCULO CON Y SIN VIOLENCIA\": 6,\n",
    "    \"ROBO A CASA HABITACIÓN CON VIOLENCIA\": 12,\n",
    "    \"ROBO A NEGOCIO CON VIOLENCIA\": 13,\n",
    "    \"ROBO A TRANSPORTISTA CON Y SIN VIOLENCIA\": 7,\n",
    "    \"LESIONES DOLOSAS POR DISPARO DE ARMA DE FUEGO\": 15,\n",
    "    \"PLAGIO O SECUESTRO\": 16,\n",
    "    \"SECUESTRO\": 16,\n",
    "    \"VIOLACIÓN\": 17,\n",
    "    \"FEMINICIDIO\": 18,\n",
    "    \"HOMICIDIO DOLOSO\": 19,   \n",
    "    \n",
    "}\n"
   ]
  },
  {
   "cell_type": "code",
   "execution_count": 21,
   "id": "8513d2c5",
   "metadata": {},
   "outputs": [],
   "source": [
    "\n",
    "data['categoria_delito_value'] = data['categoria_delito'].apply(lambda crime_type: crime_category_risk_values[f\"{crime_type}\"])\n"
   ]
  },
  {
   "cell_type": "code",
   "execution_count": 22,
   "id": "3518267e",
   "metadata": {},
   "outputs": [],
   "source": [
    "def crime_severity_assessment(crime_description):\n",
    "  \n",
    "  severity_assessment = \"CON VIOLENCIA\"\n",
    "  severity_factor=1\n",
    "\n",
    "  crime_description = str(crime_description)\n",
    "  \n",
    "  if crime_description.find(severity_assessment, 0, len(crime_description)) >= 0:\n",
    "    severity_factor = 2\n",
    "   \n",
    "  return severity_factor\n",
    "\n",
    "data['delito_value'] = data['delito'].apply(crime_severity_assessment)\n"
   ]
  },
  {
   "cell_type": "code",
   "execution_count": 23,
   "id": "9233fceb",
   "metadata": {},
   "outputs": [],
   "source": [
    "crime_by_category = data.groupby(['categoria_delito','delito'])[['categoria_delito','delito']].count().to_dict()\n",
    "data['severity_value'] = data['categoria_delito_value'] * data['delito_value']\n"
   ]
  },
  {
   "cell_type": "markdown",
   "id": "e496d0da",
   "metadata": {},
   "source": [
    "\n"
   ]
  },
  {
   "cell_type": "code",
   "execution_count": null,
   "id": "6db7ddee",
   "metadata": {},
   "outputs": [],
   "source": []
  },
  {
   "cell_type": "code",
   "execution_count": null,
   "id": "49dc9c00",
   "metadata": {},
   "outputs": [],
   "source": []
  },
  {
   "cell_type": "code",
   "execution_count": 39,
   "id": "185218b4",
   "metadata": {},
   "outputs": [
    {
     "data": {
      "text/html": [
       "<div>\n",
       "<style scoped>\n",
       "    .dataframe tbody tr th:only-of-type {\n",
       "        vertical-align: middle;\n",
       "    }\n",
       "\n",
       "    .dataframe tbody tr th {\n",
       "        vertical-align: top;\n",
       "    }\n",
       "\n",
       "    .dataframe thead th {\n",
       "        text-align: right;\n",
       "    }\n",
       "</style>\n",
       "<table border=\"1\" class=\"dataframe\">\n",
       "  <thead>\n",
       "    <tr style=\"text-align: right;\">\n",
       "      <th></th>\n",
       "      <th>mes_año</th>\n",
       "      <th>alcaldia_hechos</th>\n",
       "      <th>colonia</th>\n",
       "      <th>suma_delitos</th>\n",
       "      <th>ID</th>\n",
       "    </tr>\n",
       "  </thead>\n",
       "  <tbody>\n",
       "    <tr>\n",
       "      <th>0</th>\n",
       "      <td>2016/1</td>\n",
       "      <td>ALVARO OBREGON</td>\n",
       "      <td>1RA VICTORIA</td>\n",
       "      <td>1</td>\n",
       "      <td>2016/1ALVARO OBREGON1RA VICTORIA</td>\n",
       "    </tr>\n",
       "  </tbody>\n",
       "</table>\n",
       "</div>"
      ],
      "text/plain": [
       "  mes_año alcaldia_hechos       colonia  suma_delitos  \\\n",
       "0  2016/1  ALVARO OBREGON  1RA VICTORIA             1   \n",
       "\n",
       "                                 ID  \n",
       "0  2016/1ALVARO OBREGON1RA VICTORIA  "
      ]
     },
     "execution_count": 39,
     "metadata": {},
     "output_type": "execute_result"
    }
   ],
   "source": [
    "support = pd.DataFrame(data.groupby(by=[\"mes_año\",\"delito\",\"alcaldia_hechos\",\"colonia\",\"severity_value\"])[\"alcaldia_hechos\"].count())\n",
    "support = support.rename(columns={'alcaldia_hechos':'conteo_delitos'})\n",
    "support = support.reset_index()\n",
    "#support[\"fecha_hechos\"] = support[\"fecha_hechos\"].astype(\"str\")\n",
    "support[\"ID\"] = support[\"mes_año\"]+support[\"alcaldia_hechos\"]+support[\"colonia\"]\n",
    "sumaDelitos = pd.DataFrame(data.groupby(by=[\"mes_año\",\"alcaldia_hechos\",\"colonia\"])[\"alcaldia_hechos\"].count())\n",
    "sumaDelitos = sumaDelitos.rename(columns={'alcaldia_hechos':'suma_delitos'})\n",
    "\n",
    "sumaDelitos = sumaDelitos.reset_index()\n",
    "#sumaDelitos[\"fecha_hechos\"]=sumaDelitos[\"fecha_hechos\"].astype(\"str\")\n",
    "sumaDelitos[\"ID\"] = sumaDelitos[\"mes_año\"] + sumaDelitos[\"alcaldia_hechos\"]+sumaDelitos[\"colonia\"]\n",
    "sumaDelitos.head(1)"
   ]
  },
  {
   "cell_type": "code",
   "execution_count": 40,
   "id": "367bc023",
   "metadata": {},
   "outputs": [
    {
     "data": {
      "text/html": [
       "<div>\n",
       "<style scoped>\n",
       "    .dataframe tbody tr th:only-of-type {\n",
       "        vertical-align: middle;\n",
       "    }\n",
       "\n",
       "    .dataframe tbody tr th {\n",
       "        vertical-align: top;\n",
       "    }\n",
       "\n",
       "    .dataframe thead th {\n",
       "        text-align: right;\n",
       "    }\n",
       "</style>\n",
       "<table border=\"1\" class=\"dataframe\">\n",
       "  <thead>\n",
       "    <tr style=\"text-align: right;\">\n",
       "      <th></th>\n",
       "      <th>mes_año_x</th>\n",
       "      <th>delito</th>\n",
       "      <th>alcaldia_hechos_x</th>\n",
       "      <th>colonia_x</th>\n",
       "      <th>severity_value</th>\n",
       "      <th>conteo_delitos</th>\n",
       "      <th>ID</th>\n",
       "      <th>mes_año_y</th>\n",
       "      <th>alcaldia_hechos_y</th>\n",
       "      <th>colonia_y</th>\n",
       "      <th>suma_delitos</th>\n",
       "    </tr>\n",
       "  </thead>\n",
       "  <tbody>\n",
       "    <tr>\n",
       "      <th>0</th>\n",
       "      <td>2016/1</td>\n",
       "      <td>ABANDONO DE PERSONA</td>\n",
       "      <td>ALVARO OBREGON</td>\n",
       "      <td>LOMAS DE LA ERA</td>\n",
       "      <td>2</td>\n",
       "      <td>1</td>\n",
       "      <td>2016/1ALVARO OBREGONLOMAS DE LA ERA</td>\n",
       "      <td>2016/1</td>\n",
       "      <td>ALVARO OBREGON</td>\n",
       "      <td>LOMAS DE LA ERA</td>\n",
       "      <td>14</td>\n",
       "    </tr>\n",
       "    <tr>\n",
       "      <th>1</th>\n",
       "      <td>2016/1</td>\n",
       "      <td>ABANDONO DE PERSONA</td>\n",
       "      <td>ALVARO OBREGON</td>\n",
       "      <td>TLACUITLAPA</td>\n",
       "      <td>2</td>\n",
       "      <td>1</td>\n",
       "      <td>2016/1ALVARO OBREGONTLACUITLAPA</td>\n",
       "      <td>2016/1</td>\n",
       "      <td>ALVARO OBREGON</td>\n",
       "      <td>TLACUITLAPA</td>\n",
       "      <td>3</td>\n",
       "    </tr>\n",
       "    <tr>\n",
       "      <th>2</th>\n",
       "      <td>2016/1</td>\n",
       "      <td>ABANDONO DE PERSONA</td>\n",
       "      <td>AZCAPOTZALCO</td>\n",
       "      <td>PATRIMONIO FAMILIAR</td>\n",
       "      <td>2</td>\n",
       "      <td>1</td>\n",
       "      <td>2016/1AZCAPOTZALCOPATRIMONIO FAMILIAR</td>\n",
       "      <td>2016/1</td>\n",
       "      <td>AZCAPOTZALCO</td>\n",
       "      <td>PATRIMONIO FAMILIAR</td>\n",
       "      <td>2</td>\n",
       "    </tr>\n",
       "    <tr>\n",
       "      <th>3</th>\n",
       "      <td>2016/1</td>\n",
       "      <td>ABANDONO DE PERSONA</td>\n",
       "      <td>BENITO JUAREZ</td>\n",
       "      <td>PORTALES III</td>\n",
       "      <td>2</td>\n",
       "      <td>2</td>\n",
       "      <td>2016/1BENITO JUAREZPORTALES III</td>\n",
       "      <td>2016/1</td>\n",
       "      <td>BENITO JUAREZ</td>\n",
       "      <td>PORTALES III</td>\n",
       "      <td>23</td>\n",
       "    </tr>\n",
       "    <tr>\n",
       "      <th>4</th>\n",
       "      <td>2016/1</td>\n",
       "      <td>ABANDONO DE PERSONA</td>\n",
       "      <td>CUAJIMALPA DE MORELOS</td>\n",
       "      <td>SAN LORENZO ACOPILCO (PBLO)</td>\n",
       "      <td>2</td>\n",
       "      <td>1</td>\n",
       "      <td>2016/1CUAJIMALPA DE MORELOSSAN LORENZO ACOPILC...</td>\n",
       "      <td>2016/1</td>\n",
       "      <td>CUAJIMALPA DE MORELOS</td>\n",
       "      <td>SAN LORENZO ACOPILCO (PBLO)</td>\n",
       "      <td>5</td>\n",
       "    </tr>\n",
       "  </tbody>\n",
       "</table>\n",
       "</div>"
      ],
      "text/plain": [
       "  mes_año_x               delito      alcaldia_hechos_x  \\\n",
       "0    2016/1  ABANDONO DE PERSONA         ALVARO OBREGON   \n",
       "1    2016/1  ABANDONO DE PERSONA         ALVARO OBREGON   \n",
       "2    2016/1  ABANDONO DE PERSONA           AZCAPOTZALCO   \n",
       "3    2016/1  ABANDONO DE PERSONA          BENITO JUAREZ   \n",
       "4    2016/1  ABANDONO DE PERSONA  CUAJIMALPA DE MORELOS   \n",
       "\n",
       "                     colonia_x  severity_value  conteo_delitos  \\\n",
       "0              LOMAS DE LA ERA               2               1   \n",
       "1                  TLACUITLAPA               2               1   \n",
       "2          PATRIMONIO FAMILIAR               2               1   \n",
       "3                 PORTALES III               2               2   \n",
       "4  SAN LORENZO ACOPILCO (PBLO)               2               1   \n",
       "\n",
       "                                                  ID mes_año_y  \\\n",
       "0                2016/1ALVARO OBREGONLOMAS DE LA ERA    2016/1   \n",
       "1                    2016/1ALVARO OBREGONTLACUITLAPA    2016/1   \n",
       "2              2016/1AZCAPOTZALCOPATRIMONIO FAMILIAR    2016/1   \n",
       "3                    2016/1BENITO JUAREZPORTALES III    2016/1   \n",
       "4  2016/1CUAJIMALPA DE MORELOSSAN LORENZO ACOPILC...    2016/1   \n",
       "\n",
       "       alcaldia_hechos_y                    colonia_y  suma_delitos  \n",
       "0         ALVARO OBREGON              LOMAS DE LA ERA            14  \n",
       "1         ALVARO OBREGON                  TLACUITLAPA             3  \n",
       "2           AZCAPOTZALCO          PATRIMONIO FAMILIAR             2  \n",
       "3          BENITO JUAREZ                 PORTALES III            23  \n",
       "4  CUAJIMALPA DE MORELOS  SAN LORENZO ACOPILCO (PBLO)             5  "
      ]
     },
     "execution_count": 40,
     "metadata": {},
     "output_type": "execute_result"
    }
   ],
   "source": [
    "support = support.merge(sumaDelitos,how='left',on=\"ID\")\n",
    "support.head()"
   ]
  },
  {
   "cell_type": "code",
   "execution_count": null,
   "id": "404287ab",
   "metadata": {},
   "outputs": [],
   "source": []
  },
  {
   "cell_type": "code",
   "execution_count": 26,
   "id": "1fb3f997",
   "metadata": {},
   "outputs": [
    {
     "data": {
      "text/plain": [
       "984629"
      ]
     },
     "execution_count": 26,
     "metadata": {},
     "output_type": "execute_result"
    }
   ],
   "source": [
    "# support[\"suma_delitos\"] = 0\n",
    "# for i in range(len(support[\"ID\"])):\n",
    "#     for j in range(len(sumaDelitos[\"ID\"])):\n",
    "#         if support[\"ID\"][i]==sumaDelitos[\"ID\"][j]:\n",
    "#             support[\"ID\"][i]=sumaDelitos[\"ID\"][j]\n",
    "#             break\n",
    "#         else:\n",
    "#             continue\n",
    "len(support)"
   ]
  },
  {
   "cell_type": "code",
   "execution_count": null,
   "id": "94e7948c",
   "metadata": {},
   "outputs": [],
   "source": []
  },
  {
   "cell_type": "code",
   "execution_count": null,
   "id": "3d5b6615",
   "metadata": {},
   "outputs": [],
   "source": []
  },
  {
   "cell_type": "code",
   "execution_count": 41,
   "id": "0672f396",
   "metadata": {},
   "outputs": [],
   "source": [
    "support[\"ocurrence_value\"]=support[\"conteo_delitos\"]/support[\"suma_delitos\"]\n",
    "support[\"current_risk_value\"]=support['severity_value'] * support['ocurrence_value']\n",
    "support = support.rename(columns={'mes_año_x':'mes_año',\n",
    "                                 'alcaldia_hechos_x':'alcaldia_hechos',\n",
    "                                 'colonia_x':'colonia'})\n"
   ]
  },
  {
   "cell_type": "code",
   "execution_count": 42,
   "id": "17101cec",
   "metadata": {},
   "outputs": [
    {
     "data": {
      "text/plain": [
       "Index(['mes_año', 'delito', 'alcaldia_hechos', 'colonia', 'severity_value',\n",
       "       'conteo_delitos', 'ID', 'mes_año_y', 'alcaldia_hechos_y', 'colonia_y',\n",
       "       'suma_delitos', 'ocurrence_value', 'current_risk_value'],\n",
       "      dtype='object')"
      ]
     },
     "execution_count": 42,
     "metadata": {},
     "output_type": "execute_result"
    }
   ],
   "source": [
    "support.columns"
   ]
  },
  {
   "cell_type": "code",
   "execution_count": 43,
   "id": "9f1deafe",
   "metadata": {},
   "outputs": [
    {
     "data": {
      "text/plain": [
       "0         2016/1\n",
       "1         2016/1\n",
       "2         2016/1\n",
       "3         2016/1\n",
       "4         2016/1\n",
       "           ...  \n",
       "984624    2022/9\n",
       "984625    2022/9\n",
       "984626    2022/9\n",
       "984627    2022/9\n",
       "984628    2022/9\n",
       "Name: mes_año, Length: 984629, dtype: object"
      ]
     },
     "execution_count": 43,
     "metadata": {},
     "output_type": "execute_result"
    }
   ],
   "source": [
    "support[\"mes_año\"]"
   ]
  },
  {
   "cell_type": "code",
   "execution_count": 44,
   "id": "8e079ae8",
   "metadata": {},
   "outputs": [],
   "source": [
    "support[\"mes_año\"]=list(datetime.strptime(i,'%Y/%m') for i in support[\"mes_año\"])\n",
    "support[\"mes\"]=list(i.month for i in support[\"mes_año\"])\n"
   ]
  },
  {
   "cell_type": "code",
   "execution_count": 31,
   "id": "1c46912a",
   "metadata": {
    "scrolled": true
   },
   "outputs": [],
   "source": [
    "# def riskSituation(index,len_data):\n",
    "#     if index+1<len_data*.3:\n",
    "#         return 0\n",
    "#     elif index+1>len_data*.3 and index+1<len_data*.9:\n",
    "#         return 0\n",
    "#     elif index+1>(len_data*.9):\n",
    "#         return 1\n",
    "    \n",
    "    \n",
    "    \n",
    "# scores = support[[\"current_risk_value\"]]\n",
    "# scores = scores.sort_values(by='current_risk_value',ascending=True)\n",
    "# scores = scores.reset_index(drop=True)\n",
    "# scores[\"sort\"]=np.arange(0,len(scores))\n",
    "# scores[\"situation\"]=list(riskSituation(i,len(scores)) for i in range(len(scores)))\n"
   ]
  },
  {
   "cell_type": "code",
   "execution_count": null,
   "id": "6bdc40b8",
   "metadata": {},
   "outputs": [],
   "source": []
  },
  {
   "cell_type": "code",
   "execution_count": 45,
   "id": "8fafce8e",
   "metadata": {},
   "outputs": [
    {
     "data": {
      "text/html": [
       "<div>\n",
       "<style scoped>\n",
       "    .dataframe tbody tr th:only-of-type {\n",
       "        vertical-align: middle;\n",
       "    }\n",
       "\n",
       "    .dataframe tbody tr th {\n",
       "        vertical-align: top;\n",
       "    }\n",
       "\n",
       "    .dataframe thead th {\n",
       "        text-align: right;\n",
       "    }\n",
       "</style>\n",
       "<table border=\"1\" class=\"dataframe\">\n",
       "  <thead>\n",
       "    <tr style=\"text-align: right;\">\n",
       "      <th></th>\n",
       "      <th>mes_año</th>\n",
       "      <th>alcaldia_hechos</th>\n",
       "      <th>colonia</th>\n",
       "      <th>current_risk_value</th>\n",
       "    </tr>\n",
       "  </thead>\n",
       "  <tbody>\n",
       "    <tr>\n",
       "      <th>0</th>\n",
       "      <td>2016-01-01</td>\n",
       "      <td>ALVARO OBREGON</td>\n",
       "      <td>1RA VICTORIA</td>\n",
       "      <td>2.000000</td>\n",
       "    </tr>\n",
       "    <tr>\n",
       "      <th>1</th>\n",
       "      <td>2016-01-01</td>\n",
       "      <td>ALVARO OBREGON</td>\n",
       "      <td>1RA VICTORIA SECCION BOSQUES</td>\n",
       "      <td>0.666667</td>\n",
       "    </tr>\n",
       "    <tr>\n",
       "      <th>2</th>\n",
       "      <td>2016-01-01</td>\n",
       "      <td>ALVARO OBREGON</td>\n",
       "      <td>2DA  JALALPA TEPITO (AMPL)</td>\n",
       "      <td>6.000000</td>\n",
       "    </tr>\n",
       "    <tr>\n",
       "      <th>3</th>\n",
       "      <td>2016-01-01</td>\n",
       "      <td>ALVARO OBREGON</td>\n",
       "      <td>ABRAHAM GONZALEZ</td>\n",
       "      <td>2.000000</td>\n",
       "    </tr>\n",
       "    <tr>\n",
       "      <th>4</th>\n",
       "      <td>2016-01-01</td>\n",
       "      <td>ALVARO OBREGON</td>\n",
       "      <td>ACUEDUCTO</td>\n",
       "      <td>0.533333</td>\n",
       "    </tr>\n",
       "  </tbody>\n",
       "</table>\n",
       "</div>"
      ],
      "text/plain": [
       "     mes_año alcaldia_hechos                       colonia  current_risk_value\n",
       "0 2016-01-01  ALVARO OBREGON                  1RA VICTORIA            2.000000\n",
       "1 2016-01-01  ALVARO OBREGON  1RA VICTORIA SECCION BOSQUES            0.666667\n",
       "2 2016-01-01  ALVARO OBREGON    2DA  JALALPA TEPITO (AMPL)            6.000000\n",
       "3 2016-01-01  ALVARO OBREGON              ABRAHAM GONZALEZ            2.000000\n",
       "4 2016-01-01  ALVARO OBREGON                     ACUEDUCTO            0.533333"
      ]
     },
     "execution_count": 45,
     "metadata": {},
     "output_type": "execute_result"
    }
   ],
   "source": [
    "groupedData = support.groupby(by=[\"mes_año\",\n",
    "                               \"alcaldia_hechos\",\n",
    "                                \"colonia\"  \n",
    "                              \n",
    "                              ],as_index=False)[\"current_risk_value\"].mean()\n",
    "groupedData.head()"
   ]
  },
  {
   "cell_type": "code",
   "execution_count": 46,
   "id": "496d1986",
   "metadata": {},
   "outputs": [],
   "source": [
    "groupedData = groupedData.sort_values(by=\"current_risk_value\")\n",
    "groupedData = groupedData.reset_index(drop=True)"
   ]
  },
  {
   "cell_type": "code",
   "execution_count": 47,
   "id": "5ad1019c",
   "metadata": {},
   "outputs": [],
   "source": [
    "def riskSituation(index,len_data):\n",
    "    if index+1<len_data*.3:\n",
    "        return 0\n",
    "    elif index+1>len_data*.3 and index+1<len_data*.9:\n",
    "        return 0\n",
    "    elif index+1>(len_data*.9):\n",
    "        return 1\n",
    "    "
   ]
  },
  {
   "cell_type": "code",
   "execution_count": 48,
   "id": "1c50cc83",
   "metadata": {},
   "outputs": [],
   "source": [
    "groupedData[\"RiskClass\"]=list(riskSituation(i,len(groupedData)) for i in range(len(groupedData)))"
   ]
  },
  {
   "cell_type": "code",
   "execution_count": 49,
   "id": "e9d94fc4",
   "metadata": {},
   "outputs": [],
   "source": [
    "groupedData = groupedData.sort_values(by=[\"alcaldia_hechos\",\"mes_año\",\"colonia\"])\n",
    "groupedData = groupedData.reset_index(drop=True)\n"
   ]
  },
  {
   "cell_type": "code",
   "execution_count": 50,
   "id": "64fbd3a7",
   "metadata": {},
   "outputs": [
    {
     "data": {
      "text/html": [
       "<div>\n",
       "<style scoped>\n",
       "    .dataframe tbody tr th:only-of-type {\n",
       "        vertical-align: middle;\n",
       "    }\n",
       "\n",
       "    .dataframe tbody tr th {\n",
       "        vertical-align: top;\n",
       "    }\n",
       "\n",
       "    .dataframe thead th {\n",
       "        text-align: right;\n",
       "    }\n",
       "</style>\n",
       "<table border=\"1\" class=\"dataframe\">\n",
       "  <thead>\n",
       "    <tr style=\"text-align: right;\">\n",
       "      <th></th>\n",
       "      <th>mes_año</th>\n",
       "      <th>alcaldia_hechos</th>\n",
       "      <th>colonia</th>\n",
       "      <th>current_risk_value</th>\n",
       "      <th>RiskClass</th>\n",
       "    </tr>\n",
       "  </thead>\n",
       "  <tbody>\n",
       "    <tr>\n",
       "      <th>0</th>\n",
       "      <td>2016-01-01</td>\n",
       "      <td>ALVARO OBREGON</td>\n",
       "      <td>1RA VICTORIA</td>\n",
       "      <td>2.000000</td>\n",
       "      <td>0.0</td>\n",
       "    </tr>\n",
       "    <tr>\n",
       "      <th>1</th>\n",
       "      <td>2016-01-01</td>\n",
       "      <td>ALVARO OBREGON</td>\n",
       "      <td>1RA VICTORIA SECCION BOSQUES</td>\n",
       "      <td>0.666667</td>\n",
       "      <td>0.0</td>\n",
       "    </tr>\n",
       "    <tr>\n",
       "      <th>2</th>\n",
       "      <td>2016-01-01</td>\n",
       "      <td>ALVARO OBREGON</td>\n",
       "      <td>2DA  JALALPA TEPITO (AMPL)</td>\n",
       "      <td>6.000000</td>\n",
       "      <td>1.0</td>\n",
       "    </tr>\n",
       "    <tr>\n",
       "      <th>3</th>\n",
       "      <td>2016-01-01</td>\n",
       "      <td>ALVARO OBREGON</td>\n",
       "      <td>ABRAHAM GONZALEZ</td>\n",
       "      <td>2.000000</td>\n",
       "      <td>0.0</td>\n",
       "    </tr>\n",
       "    <tr>\n",
       "      <th>4</th>\n",
       "      <td>2016-01-01</td>\n",
       "      <td>ALVARO OBREGON</td>\n",
       "      <td>ACUEDUCTO</td>\n",
       "      <td>0.533333</td>\n",
       "      <td>0.0</td>\n",
       "    </tr>\n",
       "    <tr>\n",
       "      <th>...</th>\n",
       "      <td>...</td>\n",
       "      <td>...</td>\n",
       "      <td>...</td>\n",
       "      <td>...</td>\n",
       "      <td>...</td>\n",
       "    </tr>\n",
       "    <tr>\n",
       "      <th>128545</th>\n",
       "      <td>2022-09-01</td>\n",
       "      <td>XOCHIMILCO</td>\n",
       "      <td>TIERRA NUEVA</td>\n",
       "      <td>2.333333</td>\n",
       "      <td>1.0</td>\n",
       "    </tr>\n",
       "    <tr>\n",
       "      <th>128546</th>\n",
       "      <td>2022-09-01</td>\n",
       "      <td>XOCHIMILCO</td>\n",
       "      <td>TLAXOPAN</td>\n",
       "      <td>1.000000</td>\n",
       "      <td>0.0</td>\n",
       "    </tr>\n",
       "    <tr>\n",
       "      <th>128547</th>\n",
       "      <td>2022-09-01</td>\n",
       "      <td>XOCHIMILCO</td>\n",
       "      <td>VILLA XOCHIMILCO (U HAB)</td>\n",
       "      <td>2.000000</td>\n",
       "      <td>0.0</td>\n",
       "    </tr>\n",
       "    <tr>\n",
       "      <th>128548</th>\n",
       "      <td>2022-09-01</td>\n",
       "      <td>XOCHIMILCO</td>\n",
       "      <td>XALTOCAN (BARR)</td>\n",
       "      <td>0.111111</td>\n",
       "      <td>0.0</td>\n",
       "    </tr>\n",
       "    <tr>\n",
       "      <th>128549</th>\n",
       "      <td>2022-09-01</td>\n",
       "      <td>XOCHIMILCO</td>\n",
       "      <td>XICALHUACAN</td>\n",
       "      <td>1.555556</td>\n",
       "      <td>0.0</td>\n",
       "    </tr>\n",
       "  </tbody>\n",
       "</table>\n",
       "<p>128550 rows × 5 columns</p>\n",
       "</div>"
      ],
      "text/plain": [
       "          mes_año alcaldia_hechos                       colonia  \\\n",
       "0      2016-01-01  ALVARO OBREGON                  1RA VICTORIA   \n",
       "1      2016-01-01  ALVARO OBREGON  1RA VICTORIA SECCION BOSQUES   \n",
       "2      2016-01-01  ALVARO OBREGON    2DA  JALALPA TEPITO (AMPL)   \n",
       "3      2016-01-01  ALVARO OBREGON              ABRAHAM GONZALEZ   \n",
       "4      2016-01-01  ALVARO OBREGON                     ACUEDUCTO   \n",
       "...           ...             ...                           ...   \n",
       "128545 2022-09-01      XOCHIMILCO                  TIERRA NUEVA   \n",
       "128546 2022-09-01      XOCHIMILCO                      TLAXOPAN   \n",
       "128547 2022-09-01      XOCHIMILCO      VILLA XOCHIMILCO (U HAB)   \n",
       "128548 2022-09-01      XOCHIMILCO               XALTOCAN (BARR)   \n",
       "128549 2022-09-01      XOCHIMILCO                   XICALHUACAN   \n",
       "\n",
       "        current_risk_value  RiskClass  \n",
       "0                 2.000000        0.0  \n",
       "1                 0.666667        0.0  \n",
       "2                 6.000000        1.0  \n",
       "3                 2.000000        0.0  \n",
       "4                 0.533333        0.0  \n",
       "...                    ...        ...  \n",
       "128545            2.333333        1.0  \n",
       "128546            1.000000        0.0  \n",
       "128547            2.000000        0.0  \n",
       "128548            0.111111        0.0  \n",
       "128549            1.555556        0.0  \n",
       "\n",
       "[128550 rows x 5 columns]"
      ]
     },
     "execution_count": 50,
     "metadata": {},
     "output_type": "execute_result"
    }
   ],
   "source": [
    "groupedData"
   ]
  },
  {
   "cell_type": "code",
   "execution_count": 42,
   "id": "63f51cff",
   "metadata": {},
   "outputs": [],
   "source": [
    "#groupedData[\"mes_hecho\"]=list(int(groupedData[\"fecha_hechos\"][i][5:7]) for i in range(len(groupedData[\"fecha_hechos\"])))\n",
    "#groupedData=groupedData.drop(columns=[\"fecha_hechos\"])\n",
    "#groupedData.head(1)"
   ]
  },
  {
   "cell_type": "code",
   "execution_count": 43,
   "id": "bf69a443",
   "metadata": {},
   "outputs": [],
   "source": [
    "#groupedData[\"fecha\"]=groupedData[\"ao_hechos\"]+'/'+groupedData[\"mes_hechos\"]"
   ]
  },
  {
   "cell_type": "code",
   "execution_count": 44,
   "id": "62fd1b8b",
   "metadata": {},
   "outputs": [],
   "source": [
    "#groupedData[\"fecha_hechos\"]= list(datetime.strptime(i,'%Y-%m-%d') for i in groupedData[\"fecha_hechos\"])\n"
   ]
  },
  {
   "cell_type": "code",
   "execution_count": 45,
   "id": "ebfad785",
   "metadata": {},
   "outputs": [],
   "source": [
    "# groupedData[\"fecha_rezagada\"]= groupedData[\"mes_año\"] - timedelta(days=30)\n",
    "# groupedData[\"mes_rezagado\"]= list(i.month for i in groupedData[\"fecha_rezagada\"])\n",
    "# groupedData"
   ]
  },
  {
   "cell_type": "code",
   "execution_count": null,
   "id": "2b8ef036",
   "metadata": {},
   "outputs": [],
   "source": []
  },
  {
   "cell_type": "code",
   "execution_count": 83,
   "id": "6fae296a",
   "metadata": {},
   "outputs": [],
   "source": [
    "# transformedData = groupedData\n",
    "# transformedData = transformedData.sort_values(by=[\"alcaldia_hechos\"])\n",
    "\n",
    "transformedData = pd.DataFrame()\n",
    "locations  = list(groupedData[\"colonia\"].unique())\n",
    "for loc in locations:\n",
    "    colonia = groupedData.loc[groupedData[\"colonia\"]==loc].reset_index(drop=True)\n",
    "    colonia =  colonia.sort_values(by=[\"mes_año\"])\n",
    "    colonia = addFeatures(colonia,\"current_risk_value\")\n",
    "#     colonia[\"next_risk_class\"]=colonia[\"RiskClass\"].shift(periods=-1)\n",
    "    transformedData=pd.concat([transformedData,colonia])\n",
    "    transformedData = transformedData.reset_index(drop=True)\n",
    "    "
   ]
  },
  {
   "cell_type": "code",
   "execution_count": 52,
   "id": "34aaccf7",
   "metadata": {},
   "outputs": [
    {
     "data": {
      "text/html": [
       "<div>\n",
       "<style scoped>\n",
       "    .dataframe tbody tr th:only-of-type {\n",
       "        vertical-align: middle;\n",
       "    }\n",
       "\n",
       "    .dataframe tbody tr th {\n",
       "        vertical-align: top;\n",
       "    }\n",
       "\n",
       "    .dataframe thead th {\n",
       "        text-align: right;\n",
       "    }\n",
       "</style>\n",
       "<table border=\"1\" class=\"dataframe\">\n",
       "  <thead>\n",
       "    <tr style=\"text-align: right;\">\n",
       "      <th></th>\n",
       "      <th>mes_año</th>\n",
       "      <th>alcaldia_hechos</th>\n",
       "      <th>colonia</th>\n",
       "      <th>current_risk_value</th>\n",
       "      <th>RiskClass</th>\n",
       "      <th>change_current_risk_value</th>\n",
       "      <th>MeanChange1</th>\n",
       "      <th>MeanChange3</th>\n",
       "      <th>MeanChange6</th>\n",
       "      <th>MeanChange12</th>\n",
       "      <th>...</th>\n",
       "      <th>MovingMin6current_risk_value</th>\n",
       "      <th>MovingMin12current_risk_value</th>\n",
       "      <th>movingKurtosis6current_risk_value</th>\n",
       "      <th>movingKurtosis12current_risk_value</th>\n",
       "      <th>movingSkew12current_risk_value</th>\n",
       "      <th>movingMode1current_risk_value</th>\n",
       "      <th>movingMode3current_risk_value</th>\n",
       "      <th>movingMode6current_risk_value</th>\n",
       "      <th>movingMode12current_risk_value</th>\n",
       "      <th>next_risk_class</th>\n",
       "    </tr>\n",
       "  </thead>\n",
       "  <tbody>\n",
       "    <tr>\n",
       "      <th>0</th>\n",
       "      <td>2017-01-01</td>\n",
       "      <td>ALVARO OBREGON</td>\n",
       "      <td>1RA VICTORIA</td>\n",
       "      <td>0.400000</td>\n",
       "      <td>0.0</td>\n",
       "      <td>-0.984615</td>\n",
       "      <td>-0.984615</td>\n",
       "      <td>8.932906</td>\n",
       "      <td>5.955951</td>\n",
       "      <td>3.028406</td>\n",
       "      <td>...</td>\n",
       "      <td>0.40</td>\n",
       "      <td>0.40</td>\n",
       "      <td>3.293059</td>\n",
       "      <td>8.154388</td>\n",
       "      <td>2.794871</td>\n",
       "      <td>0.400000</td>\n",
       "      <td>0.400000</td>\n",
       "      <td>0.4</td>\n",
       "      <td>2.0</td>\n",
       "      <td>1.0</td>\n",
       "    </tr>\n",
       "    <tr>\n",
       "      <th>1</th>\n",
       "      <td>2017-02-01</td>\n",
       "      <td>ALVARO OBREGON</td>\n",
       "      <td>1RA VICTORIA</td>\n",
       "      <td>2.000000</td>\n",
       "      <td>1.0</td>\n",
       "      <td>4.000000</td>\n",
       "      <td>4.000000</td>\n",
       "      <td>10.421795</td>\n",
       "      <td>4.937433</td>\n",
       "      <td>3.361739</td>\n",
       "      <td>...</td>\n",
       "      <td>0.40</td>\n",
       "      <td>0.40</td>\n",
       "      <td>5.502769</td>\n",
       "      <td>8.154388</td>\n",
       "      <td>2.794871</td>\n",
       "      <td>2.000000</td>\n",
       "      <td>0.400000</td>\n",
       "      <td>0.4</td>\n",
       "      <td>2.0</td>\n",
       "      <td>0.0</td>\n",
       "    </tr>\n",
       "    <tr>\n",
       "      <th>2</th>\n",
       "      <td>2017-04-01</td>\n",
       "      <td>ALVARO OBREGON</td>\n",
       "      <td>1RA VICTORIA</td>\n",
       "      <td>0.560000</td>\n",
       "      <td>0.0</td>\n",
       "      <td>-0.720000</td>\n",
       "      <td>-0.720000</td>\n",
       "      <td>0.765128</td>\n",
       "      <td>4.904933</td>\n",
       "      <td>3.338304</td>\n",
       "      <td>...</td>\n",
       "      <td>0.40</td>\n",
       "      <td>0.40</td>\n",
       "      <td>5.920511</td>\n",
       "      <td>8.100489</td>\n",
       "      <td>2.784219</td>\n",
       "      <td>0.560000</td>\n",
       "      <td>0.400000</td>\n",
       "      <td>0.4</td>\n",
       "      <td>2.0</td>\n",
       "      <td>0.0</td>\n",
       "    </tr>\n",
       "    <tr>\n",
       "      <th>3</th>\n",
       "      <td>2017-05-01</td>\n",
       "      <td>ALVARO OBREGON</td>\n",
       "      <td>1RA VICTORIA</td>\n",
       "      <td>0.555556</td>\n",
       "      <td>0.0</td>\n",
       "      <td>-0.007937</td>\n",
       "      <td>-0.007937</td>\n",
       "      <td>1.090688</td>\n",
       "      <td>5.011797</td>\n",
       "      <td>3.371481</td>\n",
       "      <td>...</td>\n",
       "      <td>0.40</td>\n",
       "      <td>0.40</td>\n",
       "      <td>5.931525</td>\n",
       "      <td>8.088305</td>\n",
       "      <td>2.781699</td>\n",
       "      <td>0.555556</td>\n",
       "      <td>0.555556</td>\n",
       "      <td>0.4</td>\n",
       "      <td>2.0</td>\n",
       "      <td>1.0</td>\n",
       "    </tr>\n",
       "    <tr>\n",
       "      <th>4</th>\n",
       "      <td>2017-06-01</td>\n",
       "      <td>ALVARO OBREGON</td>\n",
       "      <td>1RA VICTORIA</td>\n",
       "      <td>7.000000</td>\n",
       "      <td>1.0</td>\n",
       "      <td>11.600000</td>\n",
       "      <td>11.600000</td>\n",
       "      <td>3.624021</td>\n",
       "      <td>7.022908</td>\n",
       "      <td>4.171481</td>\n",
       "      <td>...</td>\n",
       "      <td>0.40</td>\n",
       "      <td>0.40</td>\n",
       "      <td>4.650501</td>\n",
       "      <td>7.215044</td>\n",
       "      <td>2.587165</td>\n",
       "      <td>7.000000</td>\n",
       "      <td>0.555556</td>\n",
       "      <td>0.4</td>\n",
       "      <td>2.0</td>\n",
       "      <td>0.0</td>\n",
       "    </tr>\n",
       "    <tr>\n",
       "      <th>...</th>\n",
       "      <td>...</td>\n",
       "      <td>...</td>\n",
       "      <td>...</td>\n",
       "      <td>...</td>\n",
       "      <td>...</td>\n",
       "      <td>...</td>\n",
       "      <td>...</td>\n",
       "      <td>...</td>\n",
       "      <td>...</td>\n",
       "      <td>...</td>\n",
       "      <td>...</td>\n",
       "      <td>...</td>\n",
       "      <td>...</td>\n",
       "      <td>...</td>\n",
       "      <td>...</td>\n",
       "      <td>...</td>\n",
       "      <td>...</td>\n",
       "      <td>...</td>\n",
       "      <td>...</td>\n",
       "      <td>...</td>\n",
       "      <td>...</td>\n",
       "    </tr>\n",
       "    <tr>\n",
       "      <th>106177</th>\n",
       "      <td>2021-05-01</td>\n",
       "      <td>XOCHIMILCO</td>\n",
       "      <td>SAN FRANCISCO CHIQUIMOLA</td>\n",
       "      <td>2.000000</td>\n",
       "      <td>1.0</td>\n",
       "      <td>-0.800000</td>\n",
       "      <td>-0.800000</td>\n",
       "      <td>3.001212</td>\n",
       "      <td>1.500606</td>\n",
       "      <td>1.157545</td>\n",
       "      <td>...</td>\n",
       "      <td>0.88</td>\n",
       "      <td>0.88</td>\n",
       "      <td>5.658457</td>\n",
       "      <td>2.933596</td>\n",
       "      <td>1.729247</td>\n",
       "      <td>2.000000</td>\n",
       "      <td>0.880000</td>\n",
       "      <td>2.0</td>\n",
       "      <td>2.0</td>\n",
       "      <td>0.0</td>\n",
       "    </tr>\n",
       "    <tr>\n",
       "      <th>106178</th>\n",
       "      <td>2021-06-01</td>\n",
       "      <td>XOCHIMILCO</td>\n",
       "      <td>SAN FRANCISCO CHIQUIMOLA</td>\n",
       "      <td>1.000000</td>\n",
       "      <td>0.0</td>\n",
       "      <td>-0.500000</td>\n",
       "      <td>-0.500000</td>\n",
       "      <td>3.021212</td>\n",
       "      <td>1.417273</td>\n",
       "      <td>0.699212</td>\n",
       "      <td>...</td>\n",
       "      <td>0.88</td>\n",
       "      <td>0.88</td>\n",
       "      <td>5.543979</td>\n",
       "      <td>5.551444</td>\n",
       "      <td>2.273029</td>\n",
       "      <td>1.000000</td>\n",
       "      <td>1.000000</td>\n",
       "      <td>2.0</td>\n",
       "      <td>2.0</td>\n",
       "      <td>0.0</td>\n",
       "    </tr>\n",
       "    <tr>\n",
       "      <th>106179</th>\n",
       "      <td>2021-08-01</td>\n",
       "      <td>XOCHIMILCO</td>\n",
       "      <td>SAN FRANCISCO CHIQUIMOLA</td>\n",
       "      <td>1.000000</td>\n",
       "      <td>0.0</td>\n",
       "      <td>0.000000</td>\n",
       "      <td>0.000000</td>\n",
       "      <td>-0.433333</td>\n",
       "      <td>1.417273</td>\n",
       "      <td>0.709628</td>\n",
       "      <td>...</td>\n",
       "      <td>0.88</td>\n",
       "      <td>0.88</td>\n",
       "      <td>5.565153</td>\n",
       "      <td>8.676170</td>\n",
       "      <td>2.839245</td>\n",
       "      <td>1.000000</td>\n",
       "      <td>1.000000</td>\n",
       "      <td>1.0</td>\n",
       "      <td>2.0</td>\n",
       "      <td>0.0</td>\n",
       "    </tr>\n",
       "    <tr>\n",
       "      <th>106180</th>\n",
       "      <td>2021-10-01</td>\n",
       "      <td>XOCHIMILCO</td>\n",
       "      <td>SAN FRANCISCO CHIQUIMOLA</td>\n",
       "      <td>2.000000</td>\n",
       "      <td>0.0</td>\n",
       "      <td>1.000000</td>\n",
       "      <td>1.000000</td>\n",
       "      <td>0.166667</td>\n",
       "      <td>1.583939</td>\n",
       "      <td>0.812803</td>\n",
       "      <td>...</td>\n",
       "      <td>0.88</td>\n",
       "      <td>0.88</td>\n",
       "      <td>5.565153</td>\n",
       "      <td>10.775372</td>\n",
       "      <td>3.209113</td>\n",
       "      <td>2.000000</td>\n",
       "      <td>1.000000</td>\n",
       "      <td>1.0</td>\n",
       "      <td>2.0</td>\n",
       "      <td>0.0</td>\n",
       "    </tr>\n",
       "    <tr>\n",
       "      <th>106181</th>\n",
       "      <td>2022-02-01</td>\n",
       "      <td>XOCHIMILCO</td>\n",
       "      <td>SAN FRANCISCO CHIQUIMOLA</td>\n",
       "      <td>2.000000</td>\n",
       "      <td>0.0</td>\n",
       "      <td>0.000000</td>\n",
       "      <td>0.000000</td>\n",
       "      <td>0.333333</td>\n",
       "      <td>1.677273</td>\n",
       "      <td>0.875303</td>\n",
       "      <td>...</td>\n",
       "      <td>1.00</td>\n",
       "      <td>0.88</td>\n",
       "      <td>5.591667</td>\n",
       "      <td>10.906191</td>\n",
       "      <td>3.231568</td>\n",
       "      <td>2.000000</td>\n",
       "      <td>2.000000</td>\n",
       "      <td>2.0</td>\n",
       "      <td>2.0</td>\n",
       "      <td>0.0</td>\n",
       "    </tr>\n",
       "  </tbody>\n",
       "</table>\n",
       "<p>106182 rows × 58 columns</p>\n",
       "</div>"
      ],
      "text/plain": [
       "          mes_año alcaldia_hechos                   colonia  \\\n",
       "0      2017-01-01  ALVARO OBREGON              1RA VICTORIA   \n",
       "1      2017-02-01  ALVARO OBREGON              1RA VICTORIA   \n",
       "2      2017-04-01  ALVARO OBREGON              1RA VICTORIA   \n",
       "3      2017-05-01  ALVARO OBREGON              1RA VICTORIA   \n",
       "4      2017-06-01  ALVARO OBREGON              1RA VICTORIA   \n",
       "...           ...             ...                       ...   \n",
       "106177 2021-05-01      XOCHIMILCO  SAN FRANCISCO CHIQUIMOLA   \n",
       "106178 2021-06-01      XOCHIMILCO  SAN FRANCISCO CHIQUIMOLA   \n",
       "106179 2021-08-01      XOCHIMILCO  SAN FRANCISCO CHIQUIMOLA   \n",
       "106180 2021-10-01      XOCHIMILCO  SAN FRANCISCO CHIQUIMOLA   \n",
       "106181 2022-02-01      XOCHIMILCO  SAN FRANCISCO CHIQUIMOLA   \n",
       "\n",
       "        current_risk_value  RiskClass  change_current_risk_value  MeanChange1  \\\n",
       "0                 0.400000        0.0                  -0.984615    -0.984615   \n",
       "1                 2.000000        1.0                   4.000000     4.000000   \n",
       "2                 0.560000        0.0                  -0.720000    -0.720000   \n",
       "3                 0.555556        0.0                  -0.007937    -0.007937   \n",
       "4                 7.000000        1.0                  11.600000    11.600000   \n",
       "...                    ...        ...                        ...          ...   \n",
       "106177            2.000000        1.0                  -0.800000    -0.800000   \n",
       "106178            1.000000        0.0                  -0.500000    -0.500000   \n",
       "106179            1.000000        0.0                   0.000000     0.000000   \n",
       "106180            2.000000        0.0                   1.000000     1.000000   \n",
       "106181            2.000000        0.0                   0.000000     0.000000   \n",
       "\n",
       "        MeanChange3  MeanChange6  MeanChange12  ...  \\\n",
       "0          8.932906     5.955951      3.028406  ...   \n",
       "1         10.421795     4.937433      3.361739  ...   \n",
       "2          0.765128     4.904933      3.338304  ...   \n",
       "3          1.090688     5.011797      3.371481  ...   \n",
       "4          3.624021     7.022908      4.171481  ...   \n",
       "...             ...          ...           ...  ...   \n",
       "106177     3.001212     1.500606      1.157545  ...   \n",
       "106178     3.021212     1.417273      0.699212  ...   \n",
       "106179    -0.433333     1.417273      0.709628  ...   \n",
       "106180     0.166667     1.583939      0.812803  ...   \n",
       "106181     0.333333     1.677273      0.875303  ...   \n",
       "\n",
       "        MovingMin6current_risk_value  MovingMin12current_risk_value  \\\n",
       "0                               0.40                           0.40   \n",
       "1                               0.40                           0.40   \n",
       "2                               0.40                           0.40   \n",
       "3                               0.40                           0.40   \n",
       "4                               0.40                           0.40   \n",
       "...                              ...                            ...   \n",
       "106177                          0.88                           0.88   \n",
       "106178                          0.88                           0.88   \n",
       "106179                          0.88                           0.88   \n",
       "106180                          0.88                           0.88   \n",
       "106181                          1.00                           0.88   \n",
       "\n",
       "        movingKurtosis6current_risk_value  movingKurtosis12current_risk_value  \\\n",
       "0                                3.293059                            8.154388   \n",
       "1                                5.502769                            8.154388   \n",
       "2                                5.920511                            8.100489   \n",
       "3                                5.931525                            8.088305   \n",
       "4                                4.650501                            7.215044   \n",
       "...                                   ...                                 ...   \n",
       "106177                           5.658457                            2.933596   \n",
       "106178                           5.543979                            5.551444   \n",
       "106179                           5.565153                            8.676170   \n",
       "106180                           5.565153                           10.775372   \n",
       "106181                           5.591667                           10.906191   \n",
       "\n",
       "        movingSkew12current_risk_value  movingMode1current_risk_value  \\\n",
       "0                             2.794871                       0.400000   \n",
       "1                             2.794871                       2.000000   \n",
       "2                             2.784219                       0.560000   \n",
       "3                             2.781699                       0.555556   \n",
       "4                             2.587165                       7.000000   \n",
       "...                                ...                            ...   \n",
       "106177                        1.729247                       2.000000   \n",
       "106178                        2.273029                       1.000000   \n",
       "106179                        2.839245                       1.000000   \n",
       "106180                        3.209113                       2.000000   \n",
       "106181                        3.231568                       2.000000   \n",
       "\n",
       "        movingMode3current_risk_value  movingMode6current_risk_value  \\\n",
       "0                            0.400000                            0.4   \n",
       "1                            0.400000                            0.4   \n",
       "2                            0.400000                            0.4   \n",
       "3                            0.555556                            0.4   \n",
       "4                            0.555556                            0.4   \n",
       "...                               ...                            ...   \n",
       "106177                       0.880000                            2.0   \n",
       "106178                       1.000000                            2.0   \n",
       "106179                       1.000000                            1.0   \n",
       "106180                       1.000000                            1.0   \n",
       "106181                       2.000000                            2.0   \n",
       "\n",
       "        movingMode12current_risk_value  next_risk_class  \n",
       "0                                  2.0              1.0  \n",
       "1                                  2.0              0.0  \n",
       "2                                  2.0              0.0  \n",
       "3                                  2.0              1.0  \n",
       "4                                  2.0              0.0  \n",
       "...                                ...              ...  \n",
       "106177                             2.0              0.0  \n",
       "106178                             2.0              0.0  \n",
       "106179                             2.0              0.0  \n",
       "106180                             2.0              0.0  \n",
       "106181                             2.0              0.0  \n",
       "\n",
       "[106182 rows x 58 columns]"
      ]
     },
     "execution_count": 52,
     "metadata": {},
     "output_type": "execute_result"
    }
   ],
   "source": [
    "transformedData"
   ]
  },
  {
   "cell_type": "code",
   "execution_count": null,
   "id": "b83e2cfd",
   "metadata": {},
   "outputs": [],
   "source": []
  },
  {
   "cell_type": "code",
   "execution_count": null,
   "id": "8af77e41",
   "metadata": {},
   "outputs": [],
   "source": []
  },
  {
   "cell_type": "code",
   "execution_count": 48,
   "id": "3a9f4d35",
   "metadata": {},
   "outputs": [
    {
     "data": {
      "image/png": "[encoded data removed]",
      "text/plain": [
       "<Figure size 432x288 with 1 Axes>"
      ]
     },
     "metadata": {
      "needs_background": "light"
     },
     "output_type": "display_data"
    }
   ],
   "source": [
    "for i in range(0,2):\n",
    "    sub = transformedData.loc[transformedData[\"RiskClass\"]==i].reset_index(drop=True)\n",
    "    sub[\"current_risk_value\"].hist(bins=100)"
   ]
  },
  {
   "cell_type": "code",
   "execution_count": null,
   "id": "20e69660",
   "metadata": {},
   "outputs": [],
   "source": []
  },
  {
   "cell_type": "code",
   "execution_count": null,
   "id": "83a2f391",
   "metadata": {},
   "outputs": [],
   "source": []
  },
  {
   "cell_type": "code",
   "execution_count": 53,
   "id": "bdb53daa",
   "metadata": {},
   "outputs": [],
   "source": [
    "dummies = pd.get_dummies(transformedData[[\"alcaldia_hechos\",\"colonia\"]])\n",
    "transformedData = transformedData.drop([\"colonia\",\"alcaldia_hechos\"],axis=1)"
   ]
  },
  {
   "cell_type": "code",
   "execution_count": null,
   "id": "15d577b2",
   "metadata": {},
   "outputs": [],
   "source": []
  },
  {
   "cell_type": "code",
   "execution_count": 54,
   "id": "173b1d9f",
   "metadata": {},
   "outputs": [],
   "source": [
    "transformedData= pd.concat([transformedData,dummies],axis=1)"
   ]
  },
  {
   "cell_type": "code",
   "execution_count": 55,
   "id": "f5ad6fef",
   "metadata": {},
   "outputs": [
    {
     "data": {
      "text/html": [
       "<div>\n",
       "<style scoped>\n",
       "    .dataframe tbody tr th:only-of-type {\n",
       "        vertical-align: middle;\n",
       "    }\n",
       "\n",
       "    .dataframe tbody tr th {\n",
       "        vertical-align: top;\n",
       "    }\n",
       "\n",
       "    .dataframe thead th {\n",
       "        text-align: right;\n",
       "    }\n",
       "</style>\n",
       "<table border=\"1\" class=\"dataframe\">\n",
       "  <thead>\n",
       "    <tr style=\"text-align: right;\">\n",
       "      <th></th>\n",
       "      <th>mes_año</th>\n",
       "      <th>current_risk_value</th>\n",
       "      <th>RiskClass</th>\n",
       "      <th>change_current_risk_value</th>\n",
       "      <th>MeanChange1</th>\n",
       "      <th>MeanChange3</th>\n",
       "      <th>MeanChange6</th>\n",
       "      <th>MeanChange12</th>\n",
       "      <th>MovingSTD3Chgcurrent_risk_value</th>\n",
       "      <th>MovingSTD6Chgcurrent_risk_value</th>\n",
       "      <th>...</th>\n",
       "      <th>colonia_ZACATIENDA</th>\n",
       "      <th>colonia_ZAPOTE-LUIS DONALDO COLOSIO (U HABS)</th>\n",
       "      <th>colonia_ZAPOTLA</th>\n",
       "      <th>colonia_ZENON DELGADO</th>\n",
       "      <th>colonia_ZENTLAPATL</th>\n",
       "      <th>colonia_ZONA ESCOLAR I</th>\n",
       "      <th>colonia_ZONA ESCOLAR II</th>\n",
       "      <th>colonia_ZONA ESCOLAR ORIENTE</th>\n",
       "      <th>colonia_ZONA MILITAR FAVE SEDENA (U HAB)</th>\n",
       "      <th>colonia_ZOTOLTITLA</th>\n",
       "    </tr>\n",
       "  </thead>\n",
       "  <tbody>\n",
       "    <tr>\n",
       "      <th>0</th>\n",
       "      <td>2017-01-01</td>\n",
       "      <td>0.400000</td>\n",
       "      <td>0.0</td>\n",
       "      <td>-0.984615</td>\n",
       "      <td>-0.984615</td>\n",
       "      <td>8.932906</td>\n",
       "      <td>5.955951</td>\n",
       "      <td>3.028406</td>\n",
       "      <td>16.731099</td>\n",
       "      <td>11.741731</td>\n",
       "      <td>...</td>\n",
       "      <td>0</td>\n",
       "      <td>0</td>\n",
       "      <td>0</td>\n",
       "      <td>0</td>\n",
       "      <td>0</td>\n",
       "      <td>0</td>\n",
       "      <td>0</td>\n",
       "      <td>0</td>\n",
       "      <td>0</td>\n",
       "      <td>0</td>\n",
       "    </tr>\n",
       "    <tr>\n",
       "      <th>1</th>\n",
       "      <td>2017-02-01</td>\n",
       "      <td>2.000000</td>\n",
       "      <td>1.0</td>\n",
       "      <td>4.000000</td>\n",
       "      <td>4.000000</td>\n",
       "      <td>10.421795</td>\n",
       "      <td>4.937433</td>\n",
       "      <td>3.361739</td>\n",
       "      <td>15.639542</td>\n",
       "      <td>11.573049</td>\n",
       "      <td>...</td>\n",
       "      <td>0</td>\n",
       "      <td>0</td>\n",
       "      <td>0</td>\n",
       "      <td>0</td>\n",
       "      <td>0</td>\n",
       "      <td>0</td>\n",
       "      <td>0</td>\n",
       "      <td>0</td>\n",
       "      <td>0</td>\n",
       "      <td>0</td>\n",
       "    </tr>\n",
       "    <tr>\n",
       "      <th>2</th>\n",
       "      <td>2017-04-01</td>\n",
       "      <td>0.560000</td>\n",
       "      <td>0.0</td>\n",
       "      <td>-0.720000</td>\n",
       "      <td>-0.720000</td>\n",
       "      <td>0.765128</td>\n",
       "      <td>4.904933</td>\n",
       "      <td>3.338304</td>\n",
       "      <td>2.804604</td>\n",
       "      <td>11.591715</td>\n",
       "      <td>...</td>\n",
       "      <td>0</td>\n",
       "      <td>0</td>\n",
       "      <td>0</td>\n",
       "      <td>0</td>\n",
       "      <td>0</td>\n",
       "      <td>0</td>\n",
       "      <td>0</td>\n",
       "      <td>0</td>\n",
       "      <td>0</td>\n",
       "      <td>0</td>\n",
       "    </tr>\n",
       "    <tr>\n",
       "      <th>3</th>\n",
       "      <td>2017-05-01</td>\n",
       "      <td>0.555556</td>\n",
       "      <td>0.0</td>\n",
       "      <td>-0.007937</td>\n",
       "      <td>-0.007937</td>\n",
       "      <td>1.090688</td>\n",
       "      <td>5.011797</td>\n",
       "      <td>3.371481</td>\n",
       "      <td>2.544569</td>\n",
       "      <td>11.533079</td>\n",
       "      <td>...</td>\n",
       "      <td>0</td>\n",
       "      <td>0</td>\n",
       "      <td>0</td>\n",
       "      <td>0</td>\n",
       "      <td>0</td>\n",
       "      <td>0</td>\n",
       "      <td>0</td>\n",
       "      <td>0</td>\n",
       "      <td>0</td>\n",
       "      <td>0</td>\n",
       "    </tr>\n",
       "    <tr>\n",
       "      <th>4</th>\n",
       "      <td>2017-06-01</td>\n",
       "      <td>7.000000</td>\n",
       "      <td>1.0</td>\n",
       "      <td>11.600000</td>\n",
       "      <td>11.600000</td>\n",
       "      <td>3.624021</td>\n",
       "      <td>7.022908</td>\n",
       "      <td>4.171481</td>\n",
       "      <td>6.916570</td>\n",
       "      <td>11.438383</td>\n",
       "      <td>...</td>\n",
       "      <td>0</td>\n",
       "      <td>0</td>\n",
       "      <td>0</td>\n",
       "      <td>0</td>\n",
       "      <td>0</td>\n",
       "      <td>0</td>\n",
       "      <td>0</td>\n",
       "      <td>0</td>\n",
       "      <td>0</td>\n",
       "      <td>0</td>\n",
       "    </tr>\n",
       "  </tbody>\n",
       "</table>\n",
       "<p>5 rows × 1749 columns</p>\n",
       "</div>"
      ],
      "text/plain": [
       "     mes_año  current_risk_value  RiskClass  change_current_risk_value  \\\n",
       "0 2017-01-01            0.400000        0.0                  -0.984615   \n",
       "1 2017-02-01            2.000000        1.0                   4.000000   \n",
       "2 2017-04-01            0.560000        0.0                  -0.720000   \n",
       "3 2017-05-01            0.555556        0.0                  -0.007937   \n",
       "4 2017-06-01            7.000000        1.0                  11.600000   \n",
       "\n",
       "   MeanChange1  MeanChange3  MeanChange6  MeanChange12  \\\n",
       "0    -0.984615     8.932906     5.955951      3.028406   \n",
       "1     4.000000    10.421795     4.937433      3.361739   \n",
       "2    -0.720000     0.765128     4.904933      3.338304   \n",
       "3    -0.007937     1.090688     5.011797      3.371481   \n",
       "4    11.600000     3.624021     7.022908      4.171481   \n",
       "\n",
       "   MovingSTD3Chgcurrent_risk_value  MovingSTD6Chgcurrent_risk_value  ...  \\\n",
       "0                        16.731099                        11.741731  ...   \n",
       "1                        15.639542                        11.573049  ...   \n",
       "2                         2.804604                        11.591715  ...   \n",
       "3                         2.544569                        11.533079  ...   \n",
       "4                         6.916570                        11.438383  ...   \n",
       "\n",
       "   colonia_ZACATIENDA  colonia_ZAPOTE-LUIS DONALDO COLOSIO (U HABS)  \\\n",
       "0                   0                                             0   \n",
       "1                   0                                             0   \n",
       "2                   0                                             0   \n",
       "3                   0                                             0   \n",
       "4                   0                                             0   \n",
       "\n",
       "   colonia_ZAPOTLA  colonia_ZENON DELGADO  colonia_ZENTLAPATL  \\\n",
       "0                0                      0                   0   \n",
       "1                0                      0                   0   \n",
       "2                0                      0                   0   \n",
       "3                0                      0                   0   \n",
       "4                0                      0                   0   \n",
       "\n",
       "   colonia_ZONA ESCOLAR I  colonia_ZONA ESCOLAR II  \\\n",
       "0                       0                        0   \n",
       "1                       0                        0   \n",
       "2                       0                        0   \n",
       "3                       0                        0   \n",
       "4                       0                        0   \n",
       "\n",
       "   colonia_ZONA ESCOLAR ORIENTE  colonia_ZONA MILITAR FAVE SEDENA (U HAB)  \\\n",
       "0                             0                                         0   \n",
       "1                             0                                         0   \n",
       "2                             0                                         0   \n",
       "3                             0                                         0   \n",
       "4                             0                                         0   \n",
       "\n",
       "   colonia_ZOTOLTITLA  \n",
       "0                   0  \n",
       "1                   0  \n",
       "2                   0  \n",
       "3                   0  \n",
       "4                   0  \n",
       "\n",
       "[5 rows x 1749 columns]"
      ]
     },
     "execution_count": 55,
     "metadata": {},
     "output_type": "execute_result"
    }
   ],
   "source": [
    "transformedData.head()"
   ]
  },
  {
   "cell_type": "code",
   "execution_count": null,
   "id": "903d5af4",
   "metadata": {},
   "outputs": [],
   "source": [
    "\n"
   ]
  },
  {
   "cell_type": "code",
   "execution_count": null,
   "id": "44cc374c",
   "metadata": {},
   "outputs": [],
   "source": []
  },
  {
   "cell_type": "code",
   "execution_count": 56,
   "id": "02776b36",
   "metadata": {},
   "outputs": [
    {
     "data": {
      "text/plain": [
       "Timestamp('2022-09-01 00:00:00')"
      ]
     },
     "execution_count": 56,
     "metadata": {},
     "output_type": "execute_result"
    }
   ],
   "source": [
    "transformedData[\"mes_año\"].max()"
   ]
  },
  {
   "cell_type": "code",
   "execution_count": 57,
   "id": "fe246ba0",
   "metadata": {},
   "outputs": [],
   "source": [
    "cutoff = datetime(2021,9,1)\n",
    "trainWindow = transformedData.loc[transformedData[\"mes_año\"]<cutoff].reset_index(drop=True)\n",
    "oot_sample = transformedData.loc[transformedData[\"mes_año\"]>=cutoff].reset_index(drop=True) # out of time sample\n"
   ]
  },
  {
   "cell_type": "code",
   "execution_count": 58,
   "id": "583251c2",
   "metadata": {},
   "outputs": [
    {
     "data": {
      "text/plain": [
       "(Timestamp('2016-04-01 00:00:00'), Timestamp('2022-09-01 00:00:00'))"
      ]
     },
     "execution_count": 58,
     "metadata": {},
     "output_type": "execute_result"
    }
   ],
   "source": [
    "trainWindow[\"mes_año\"].min(),transformedData[\"mes_año\"].max()"
   ]
  },
  {
   "cell_type": "code",
   "execution_count": 59,
   "id": "62545e7d",
   "metadata": {},
   "outputs": [],
   "source": [
    "transformedData = transformedData.drop(columns=[\"mes_año\"])"
   ]
  },
  {
   "cell_type": "code",
   "execution_count": null,
   "id": "83eef13b",
   "metadata": {},
   "outputs": [],
   "source": []
  },
  {
   "cell_type": "markdown",
   "id": "b32557dc",
   "metadata": {},
   "source": [
    "### Train, test and validation split "
   ]
  },
  {
   "cell_type": "code",
   "execution_count": 60,
   "id": "cd0d137c",
   "metadata": {},
   "outputs": [],
   "source": [
    "trainWindow = trainWindow.drop(columns=[\"mes_año\"])"
   ]
  },
  {
   "cell_type": "code",
   "execution_count": 61,
   "id": "16e39298",
   "metadata": {},
   "outputs": [],
   "source": [
    "y = trainWindow[\"next_risk_class\"]\n",
    "x = trainWindow.drop(columns=[\"next_risk_class\"])"
   ]
  },
  {
   "cell_type": "code",
   "execution_count": 62,
   "id": "a69ed76c",
   "metadata": {},
   "outputs": [],
   "source": [
    "x_train,x_rem,y_train,y_rem =train_test_split(x,y, train_size=0.8)"
   ]
  },
  {
   "cell_type": "code",
   "execution_count": null,
   "id": "daccd01c",
   "metadata": {},
   "outputs": [],
   "source": []
  },
  {
   "cell_type": "code",
   "execution_count": 63,
   "id": "8af4d99c",
   "metadata": {},
   "outputs": [
    {
     "name": "stdout",
     "output_type": "stream",
     "text": [
      "(69639, 1747)\n",
      "(69639,)\n",
      "(8705, 1747)\n",
      "(8705,)\n",
      "(8705, 1747)\n",
      "(8705,)\n"
     ]
    },
    {
     "data": {
      "text/plain": [
       "(None, None)"
      ]
     },
     "execution_count": 63,
     "metadata": {},
     "output_type": "execute_result"
    }
   ],
   "source": [
    "test_size = 0.5\n",
    "x_valid, x_test, y_valid, y_test = train_test_split(x_rem,y_rem, test_size=0.5)\n",
    "print(x_train.shape), print(y_train.shape)\n",
    "print(x_valid.shape), print(y_valid.shape)\n",
    "print(x_test.shape), print(y_test.shape)"
   ]
  },
  {
   "cell_type": "markdown",
   "id": "74bdf9a9",
   "metadata": {},
   "source": [
    "## Ranfom forest"
   ]
  },
  {
   "cell_type": "code",
   "execution_count": 53,
   "id": "94c92f11",
   "metadata": {},
   "outputs": [],
   "source": [
    "rf_reg = RandomForestRegressor(n_estimators=4000,random_state=1)"
   ]
  },
  {
   "cell_type": "code",
   "execution_count": null,
   "id": "89a0f8c1",
   "metadata": {},
   "outputs": [],
   "source": [
    "rf_reg.fit(x_train,y_train)"
   ]
  },
  {
   "cell_type": "code",
   "execution_count": 89,
   "id": "52c1a11f",
   "metadata": {},
   "outputs": [],
   "source": [
    "fileName = \"RanfomForest.sav\"\n",
    "pickle.dump(rf_reg,open(fileName,'wb'))"
   ]
  },
  {
   "cell_type": "code",
   "execution_count": null,
   "id": "4832c79a",
   "metadata": {},
   "outputs": [],
   "source": []
  },
  {
   "cell_type": "markdown",
   "id": "40455db8",
   "metadata": {},
   "source": [
    "## Load model"
   ]
  },
  {
   "cell_type": "code",
   "execution_count": 98,
   "id": "215cb1fb",
   "metadata": {},
   "outputs": [],
   "source": [
    "loaded_model = pickle.load(open(fileName,'rb'))\n"
   ]
  },
  {
   "cell_type": "code",
   "execution_count": 55,
   "id": "0d564f4b",
   "metadata": {},
   "outputs": [
    {
     "ename": "NameError",
     "evalue": "name 'rf_reg' is not defined",
     "output_type": "error",
     "traceback": [
      "\u001b[1;31m---------------------------------------------------------------------------\u001b[0m",
      "\u001b[1;31mNameError\u001b[0m                                 Traceback (most recent call last)",
      "Input \u001b[1;32mIn [55]\u001b[0m, in \u001b[0;36m<cell line: 1>\u001b[1;34m()\u001b[0m\n\u001b[1;32m----> 1\u001b[0m y_hat \u001b[38;5;241m=\u001b[39m \u001b[43mrf_reg\u001b[49m\u001b[38;5;241m.\u001b[39mpredict(x_test)\n",
      "\u001b[1;31mNameError\u001b[0m: name 'rf_reg' is not defined"
     ]
    }
   ],
   "source": [
    "y_hat = rf_reg.predict(x_test)"
   ]
  },
  {
   "cell_type": "code",
   "execution_count": 95,
   "id": "34d71cde",
   "metadata": {},
   "outputs": [
    {
     "data": {
      "text/plain": [
       "colonia_FRESNO                                                 0.000000\n",
       "colonia_SUTIC VALLEJO (U HAB)                                  0.000000\n",
       "colonia_PREDIO LA ANGOSTURA                                    0.000000\n",
       "colonia_EL VERGEL DE COYOACAN ( INFONAVIT EL HUESO) (U HAB)    0.000000\n",
       "colonia_HORNOS DE ARAGON (U HAB)                               0.000000\n",
       "                                                                 ...   \n",
       "sin_next_risk_value                                            0.007568\n",
       "cos_next_risk_value                                            0.022030\n",
       "log_next_risk_value                                            0.318441\n",
       "exp_next_risk_value                                            0.320200\n",
       "square_                                                        0.330076\n",
       "Length: 1738, dtype: float64"
      ]
     },
     "execution_count": 95,
     "metadata": {},
     "output_type": "execute_result"
    }
   ],
   "source": [
    "importances = rf_reg.feature_importances_\n",
    "feature_names = x_test.columns\n",
    "forest_importances = pd.Series(importances, index=feature_names)\n",
    "forest_importances.sort_values()"
   ]
  },
  {
   "cell_type": "code",
   "execution_count": 92,
   "id": "64ab2f22",
   "metadata": {},
   "outputs": [
    {
     "data": {
      "text/plain": [
       "3.2607626305097516e-06"
      ]
     },
     "execution_count": 92,
     "metadata": {},
     "output_type": "execute_result"
    }
   ],
   "source": [
    "(mts.mean_squared_error(y_test,y_hat)) #R^2"
   ]
  },
  {
   "cell_type": "code",
   "execution_count": 93,
   "id": "6cc958a0",
   "metadata": {},
   "outputs": [
    {
     "data": {
      "text/plain": [
       "4.8912251311378305e-05"
      ]
     },
     "execution_count": 93,
     "metadata": {},
     "output_type": "execute_result"
    }
   ],
   "source": [
    "mts.mean_absolute_error(y_test,y_hat) #MAE"
   ]
  },
  {
   "cell_type": "code",
   "execution_count": 94,
   "id": "806f8a54",
   "metadata": {},
   "outputs": [
    {
     "data": {
      "text/plain": [
       "2.5435796367062294e-05"
      ]
     },
     "execution_count": 94,
     "metadata": {},
     "output_type": "execute_result"
    }
   ],
   "source": [
    "mts.mean_absolute_percentage_error(y_test,y_hat)"
   ]
  },
  {
   "cell_type": "code",
   "execution_count": 335,
   "id": "d65b6603",
   "metadata": {},
   "outputs": [
    {
     "data": {
      "text/plain": [
       "71081"
      ]
     },
     "execution_count": 335,
     "metadata": {},
     "output_type": "execute_result"
    }
   ],
   "source": [
    "len(y_train[y_train==0])+len(y_train[y_train==1])"
   ]
  },
  {
   "cell_type": "markdown",
   "id": "d45f001c",
   "metadata": {},
   "source": [
    "## XGBoost"
   ]
  },
  {
   "cell_type": "code",
   "execution_count": 64,
   "id": "77d080dd",
   "metadata": {},
   "outputs": [
    {
     "data": {
      "text/plain": [
       "7.967164563481844"
      ]
     },
     "execution_count": 64,
     "metadata": {},
     "output_type": "execute_result"
    }
   ],
   "source": [
    "scale_pos_weight = len(y_train[y_train==0])/len(y_train[y_train==1])\n",
    "xgb_model = xgb.XGBClassifier(n_estimators=4000,max_depth=5,learning_rate =0.01,scale_pos_weight = scale_pos_weight)\n",
    "scale_pos_weight"
   ]
  },
  {
   "cell_type": "code",
   "execution_count": 65,
   "id": "dd6b396c",
   "metadata": {},
   "outputs": [
    {
     "data": {
      "text/plain": [
       "XGBClassifier(base_score=0.5, booster='gbtree', callbacks=None,\n",
       "              colsample_bylevel=1, colsample_bynode=1, colsample_bytree=1,\n",
       "              early_stopping_rounds=None, enable_categorical=False,\n",
       "              eval_metric=None, feature_types=None, gamma=0, gpu_id=-1,\n",
       "              grow_policy='depthwise', importance_type=None,\n",
       "              interaction_constraints='', learning_rate=0.01, max_bin=256,\n",
       "              max_cat_threshold=64, max_cat_to_onehot=4, max_delta_step=0,\n",
       "              max_depth=5, max_leaves=0, min_child_weight=1, missing=nan,\n",
       "              monotone_constraints='()', n_estimators=4000, n_jobs=0,\n",
       "              num_parallel_tree=1, predictor='auto', random_state=0, ...)"
      ]
     },
     "execution_count": 65,
     "metadata": {},
     "output_type": "execute_result"
    }
   ],
   "source": [
    "xgb_model.fit(x_train,y_train)"
   ]
  },
  {
   "cell_type": "markdown",
   "id": "3760c511",
   "metadata": {},
   "source": [
    "### investigar scale_pos_weight, puede que 1 no sea lo mejor"
   ]
  },
  {
   "cell_type": "code",
   "execution_count": 66,
   "id": "b737da9d",
   "metadata": {},
   "outputs": [],
   "source": [
    "y_hat = xgb_model.predict(x_test)\n"
   ]
  },
  {
   "cell_type": "code",
   "execution_count": 67,
   "id": "e8b68b66",
   "metadata": {},
   "outputs": [
    {
     "data": {
      "text/plain": [
       "0.7470419299253303"
      ]
     },
     "execution_count": 67,
     "metadata": {},
     "output_type": "execute_result"
    }
   ],
   "source": [
    "y_hat_r = np.round(y_hat)\n",
    "accuracy_score(y_test,y_hat_r)"
   ]
  },
  {
   "cell_type": "code",
   "execution_count": 68,
   "id": "3b6fad64",
   "metadata": {},
   "outputs": [
    {
     "data": {
      "text/plain": [
       "0.28755826461097167"
      ]
     },
     "execution_count": 68,
     "metadata": {},
     "output_type": "execute_result"
    }
   ],
   "source": [
    "precision_score(y_test,y_hat_r)"
   ]
  },
  {
   "cell_type": "code",
   "execution_count": 69,
   "id": "554c6ee2",
   "metadata": {},
   "outputs": [
    {
     "data": {
      "text/plain": [
       "0.7885939036381514"
      ]
     },
     "execution_count": 69,
     "metadata": {},
     "output_type": "execute_result"
    }
   ],
   "source": [
    "recall_score(y_test,y_hat_r)"
   ]
  },
  {
   "cell_type": "code",
   "execution_count": 66,
   "id": "d8fc9cd1",
   "metadata": {
    "scrolled": true
   },
   "outputs": [
    {
     "data": {
      "text/plain": [
       "colonia_LOMAS DE GUADALUPE          0.000000\n",
       "colonia_NARVARTE IV                 0.000000\n",
       "colonia_NARVARTE III                0.000000\n",
       "colonia_NARVARTE II                 0.000000\n",
       "colonia_NARVARTE I                  0.000000\n",
       "                                      ...   \n",
       "MovingMedian6current_risk_value     0.006744\n",
       "log_current_risk_value              0.008473\n",
       "MovingMedian12current_risk_value    0.010214\n",
       "MovingMax6current_risk_value        0.015147\n",
       "MA6current_risk_value               0.035422\n",
       "Length: 1739, dtype: float32"
      ]
     },
     "execution_count": 66,
     "metadata": {},
     "output_type": "execute_result"
    }
   ],
   "source": [
    "importances = xgb_model.feature_importances_\n",
    "feature_names = x_test.columns\n",
    "forest_importances = pd.Series(importances, index=feature_names)\n",
    "forest_importances.sort_values()"
   ]
  },
  {
   "cell_type": "code",
   "execution_count": 77,
   "id": "6a7ff446",
   "metadata": {},
   "outputs": [],
   "source": [
    "cf_mat = confusion_matrix(y_test, y_hat_r)"
   ]
  },
  {
   "cell_type": "code",
   "execution_count": 83,
   "id": "a63c0eaf",
   "metadata": {},
   "outputs": [
    {
     "data": {
      "image/png": "[encoded data removed]",
      "text/plain": [
       "<Figure size 432x288 with 2 Axes>"
      ]
     },
     "metadata": {
      "needs_background": "light"
     },
     "output_type": "display_data"
    }
   ],
   "source": [
    "sns.heatmap(cf_mat,annot=True)\n",
    "plt.title('Confusion Matrix')\n",
    "plt.ylabel('True Value')\n",
    "plt.xlabel('Predicted value')\n",
    "plt.show()"
   ]
  },
  {
   "cell_type": "code",
   "execution_count": 87,
   "id": "e11502cd",
   "metadata": {},
   "outputs": [
    {
     "data": {
      "text/plain": [
       "[<matplotlib.lines.Line2D at 0x1c24328e670>]"
      ]
     },
     "execution_count": 87,
     "metadata": {},
     "output_type": "execute_result"
    },
    {
     "data": {
      "image/png": "[encoded data removed]",
      "text/plain": [
       "<Figure size 432x288 with 1 Axes>"
      ]
     },
     "metadata": {
      "needs_background": "light"
     },
     "output_type": "display_data"
    }
   ],
   "source": [
    "y_fpr, y_tpr, _ = roc_curve(y_test, y_hat)\n",
    "plt.title (\"AUC-ROC curve\")\n",
    "plt.plot(y_fpr, y_tpr, linestyle='--', label='XGBoost')\n"
   ]
  },
  {
   "cell_type": "code",
   "execution_count": 349,
   "id": "432303b8",
   "metadata": {},
   "outputs": [],
   "source": [
    "fileName = \"XGBoost.sav\"\n",
    "pickle.dump(xgb_model,open(fileName,'wb'))"
   ]
  },
  {
   "cell_type": "code",
   "execution_count": null,
   "id": "70309c56",
   "metadata": {},
   "outputs": [],
   "source": []
  },
  {
   "cell_type": "code",
   "execution_count": 75,
   "id": "8890cf90",
   "metadata": {},
   "outputs": [],
   "source": [
    "forecast = pd.DataFrame()\n",
    "forecast[\"Index\"]=x_test.index\n",
    "forecast[\"y_hat\"]=y_hat"
   ]
  },
  {
   "cell_type": "code",
   "execution_count": 85,
   "id": "064afd56",
   "metadata": {},
   "outputs": [],
   "source": [
    "transformedData[\"Index\"]=transformedData.index"
   ]
  },
  {
   "cell_type": "code",
   "execution_count": 79,
   "id": "e4ee32eb",
   "metadata": {},
   "outputs": [
    {
     "data": {
      "text/plain": [
       "106182"
      ]
     },
     "execution_count": 79,
     "metadata": {},
     "output_type": "execute_result"
    }
   ],
   "source": [
    "len(transformedData)"
   ]
  },
  {
   "cell_type": "code",
   "execution_count": 158,
   "id": "84934180",
   "metadata": {},
   "outputs": [],
   "source": [
    "x_test[\"Index\"]=x_test.index\n",
    "x_test=x_test.merge(forecast,on='Index',how='left')"
   ]
  },
  {
   "cell_type": "code",
   "execution_count": 161,
   "id": "b296ab0d",
   "metadata": {},
   "outputs": [
    {
     "data": {
      "text/html": [
       "<div>\n",
       "<style scoped>\n",
       "    .dataframe tbody tr th:only-of-type {\n",
       "        vertical-align: middle;\n",
       "    }\n",
       "\n",
       "    .dataframe tbody tr th {\n",
       "        vertical-align: top;\n",
       "    }\n",
       "\n",
       "    .dataframe thead th {\n",
       "        text-align: right;\n",
       "    }\n",
       "</style>\n",
       "<table border=\"1\" class=\"dataframe\">\n",
       "  <thead>\n",
       "    <tr style=\"text-align: right;\">\n",
       "      <th></th>\n",
       "      <th>current_risk_value</th>\n",
       "      <th>RiskClass</th>\n",
       "      <th>change_current_risk_value</th>\n",
       "      <th>MeanChange1</th>\n",
       "      <th>MeanChange3</th>\n",
       "      <th>MeanChange6</th>\n",
       "      <th>MeanChange12</th>\n",
       "      <th>MovingSTD3Chgcurrent_risk_value</th>\n",
       "      <th>MovingSTD6Chgcurrent_risk_value</th>\n",
       "      <th>MovingSTD12Chgcurrent_risk_value</th>\n",
       "      <th>...</th>\n",
       "      <th>colonia_ZENTLAPATL</th>\n",
       "      <th>colonia_ZONA ESCOLAR I</th>\n",
       "      <th>colonia_ZONA ESCOLAR II</th>\n",
       "      <th>colonia_ZONA ESCOLAR ORIENTE</th>\n",
       "      <th>colonia_ZONA MILITAR FAVE SEDENA (U HAB)</th>\n",
       "      <th>colonia_ZOTOLTITLA</th>\n",
       "      <th>newC</th>\n",
       "      <th>Delegacion</th>\n",
       "      <th>Index</th>\n",
       "      <th>y_hat</th>\n",
       "    </tr>\n",
       "  </thead>\n",
       "  <tbody>\n",
       "    <tr>\n",
       "      <th>0</th>\n",
       "      <td>0.417112</td>\n",
       "      <td>0.0</td>\n",
       "      <td>0.251337</td>\n",
       "      <td>0.251337</td>\n",
       "      <td>1.019123</td>\n",
       "      <td>0.562017</td>\n",
       "      <td>0.361920</td>\n",
       "      <td>2.151213</td>\n",
       "      <td>1.488743</td>\n",
       "      <td>1.116841</td>\n",
       "      <td>...</td>\n",
       "      <td>0</td>\n",
       "      <td>0</td>\n",
       "      <td>0</td>\n",
       "      <td>0</td>\n",
       "      <td>0</td>\n",
       "      <td>0</td>\n",
       "      <td>NONOALCO-TLATELOLCO (U HAB) III</td>\n",
       "      <td>CUAUHTEMOC</td>\n",
       "      <td>0</td>\n",
       "      <td>NaN</td>\n",
       "    </tr>\n",
       "    <tr>\n",
       "      <th>1</th>\n",
       "      <td>0.500000</td>\n",
       "      <td>0.0</td>\n",
       "      <td>-0.500000</td>\n",
       "      <td>-0.500000</td>\n",
       "      <td>-0.169935</td>\n",
       "      <td>0.631732</td>\n",
       "      <td>0.394942</td>\n",
       "      <td>0.580201</td>\n",
       "      <td>1.603196</td>\n",
       "      <td>1.237176</td>\n",
       "      <td>...</td>\n",
       "      <td>0</td>\n",
       "      <td>0</td>\n",
       "      <td>0</td>\n",
       "      <td>0</td>\n",
       "      <td>0</td>\n",
       "      <td>0</td>\n",
       "      <td>EL CENTINELA</td>\n",
       "      <td>COYOACAN</td>\n",
       "      <td>1</td>\n",
       "      <td>NaN</td>\n",
       "    </tr>\n",
       "    <tr>\n",
       "      <th>2</th>\n",
       "      <td>2.000000</td>\n",
       "      <td>0.0</td>\n",
       "      <td>0.000000</td>\n",
       "      <td>0.000000</td>\n",
       "      <td>7.872549</td>\n",
       "      <td>4.547386</td>\n",
       "      <td>2.315359</td>\n",
       "      <td>14.406552</td>\n",
       "      <td>10.028411</td>\n",
       "      <td>7.159461</td>\n",
       "      <td>...</td>\n",
       "      <td>0</td>\n",
       "      <td>0</td>\n",
       "      <td>0</td>\n",
       "      <td>0</td>\n",
       "      <td>0</td>\n",
       "      <td>0</td>\n",
       "      <td>CTM VIIA CULHUACAN (U HAB)</td>\n",
       "      <td>COYOACAN</td>\n",
       "      <td>2</td>\n",
       "      <td>1.0</td>\n",
       "    </tr>\n",
       "    <tr>\n",
       "      <th>3</th>\n",
       "      <td>0.600000</td>\n",
       "      <td>0.0</td>\n",
       "      <td>-0.550000</td>\n",
       "      <td>-0.550000</td>\n",
       "      <td>-0.094444</td>\n",
       "      <td>1.274905</td>\n",
       "      <td>0.578932</td>\n",
       "      <td>0.611086</td>\n",
       "      <td>3.360794</td>\n",
       "      <td>2.388850</td>\n",
       "      <td>...</td>\n",
       "      <td>0</td>\n",
       "      <td>0</td>\n",
       "      <td>0</td>\n",
       "      <td>0</td>\n",
       "      <td>0</td>\n",
       "      <td>0</td>\n",
       "      <td>20 DE NOVIEMBRE (AMPL)</td>\n",
       "      <td>VENUSTIANO CARRANZA</td>\n",
       "      <td>3</td>\n",
       "      <td>NaN</td>\n",
       "    </tr>\n",
       "    <tr>\n",
       "      <th>4</th>\n",
       "      <td>0.238636</td>\n",
       "      <td>0.0</td>\n",
       "      <td>-0.533333</td>\n",
       "      <td>-0.533333</td>\n",
       "      <td>-0.014993</td>\n",
       "      <td>0.042612</td>\n",
       "      <td>0.363355</td>\n",
       "      <td>0.875267</td>\n",
       "      <td>0.580610</td>\n",
       "      <td>1.503927</td>\n",
       "      <td>...</td>\n",
       "      <td>0</td>\n",
       "      <td>0</td>\n",
       "      <td>1</td>\n",
       "      <td>0</td>\n",
       "      <td>0</td>\n",
       "      <td>0</td>\n",
       "      <td>ZONA ESCOLAR II</td>\n",
       "      <td>GUSTAVO A. MADERO</td>\n",
       "      <td>4</td>\n",
       "      <td>NaN</td>\n",
       "    </tr>\n",
       "    <tr>\n",
       "      <th>...</th>\n",
       "      <td>...</td>\n",
       "      <td>...</td>\n",
       "      <td>...</td>\n",
       "      <td>...</td>\n",
       "      <td>...</td>\n",
       "      <td>...</td>\n",
       "      <td>...</td>\n",
       "      <td>...</td>\n",
       "      <td>...</td>\n",
       "      <td>...</td>\n",
       "      <td>...</td>\n",
       "      <td>...</td>\n",
       "      <td>...</td>\n",
       "      <td>...</td>\n",
       "      <td>...</td>\n",
       "      <td>...</td>\n",
       "      <td>...</td>\n",
       "      <td>...</td>\n",
       "      <td>...</td>\n",
       "      <td>...</td>\n",
       "      <td>...</td>\n",
       "    </tr>\n",
       "    <tr>\n",
       "      <th>8700</th>\n",
       "      <td>0.520000</td>\n",
       "      <td>0.0</td>\n",
       "      <td>-0.532000</td>\n",
       "      <td>-0.532000</td>\n",
       "      <td>0.500479</td>\n",
       "      <td>0.039221</td>\n",
       "      <td>0.638390</td>\n",
       "      <td>1.626173</td>\n",
       "      <td>1.192904</td>\n",
       "      <td>1.940961</td>\n",
       "      <td>...</td>\n",
       "      <td>0</td>\n",
       "      <td>0</td>\n",
       "      <td>0</td>\n",
       "      <td>0</td>\n",
       "      <td>0</td>\n",
       "      <td>0</td>\n",
       "      <td>POLVORA</td>\n",
       "      <td>ALVARO OBREGON</td>\n",
       "      <td>8700</td>\n",
       "      <td>NaN</td>\n",
       "    </tr>\n",
       "    <tr>\n",
       "      <th>8701</th>\n",
       "      <td>0.211310</td>\n",
       "      <td>0.0</td>\n",
       "      <td>0.369599</td>\n",
       "      <td>0.369599</td>\n",
       "      <td>-0.001221</td>\n",
       "      <td>0.117070</td>\n",
       "      <td>0.043241</td>\n",
       "      <td>0.443034</td>\n",
       "      <td>0.554009</td>\n",
       "      <td>0.400495</td>\n",
       "      <td>...</td>\n",
       "      <td>0</td>\n",
       "      <td>0</td>\n",
       "      <td>0</td>\n",
       "      <td>0</td>\n",
       "      <td>0</td>\n",
       "      <td>0</td>\n",
       "      <td>IRRIGACION</td>\n",
       "      <td>MIGUEL HIDALGO</td>\n",
       "      <td>8701</td>\n",
       "      <td>1.0</td>\n",
       "    </tr>\n",
       "    <tr>\n",
       "      <th>8702</th>\n",
       "      <td>2.100000</td>\n",
       "      <td>1.0</td>\n",
       "      <td>3.666667</td>\n",
       "      <td>3.666667</td>\n",
       "      <td>1.237437</td>\n",
       "      <td>0.607442</td>\n",
       "      <td>0.668271</td>\n",
       "      <td>2.151344</td>\n",
       "      <td>1.576376</td>\n",
       "      <td>1.575460</td>\n",
       "      <td>...</td>\n",
       "      <td>0</td>\n",
       "      <td>0</td>\n",
       "      <td>0</td>\n",
       "      <td>0</td>\n",
       "      <td>0</td>\n",
       "      <td>0</td>\n",
       "      <td>LOS PADRES</td>\n",
       "      <td>LA MAGDALENA CONTRERAS</td>\n",
       "      <td>8702</td>\n",
       "      <td>NaN</td>\n",
       "    </tr>\n",
       "    <tr>\n",
       "      <th>8703</th>\n",
       "      <td>0.148352</td>\n",
       "      <td>0.0</td>\n",
       "      <td>0.260989</td>\n",
       "      <td>0.260989</td>\n",
       "      <td>0.092908</td>\n",
       "      <td>0.001081</td>\n",
       "      <td>0.009825</td>\n",
       "      <td>0.271079</td>\n",
       "      <td>0.327896</td>\n",
       "      <td>0.339265</td>\n",
       "      <td>...</td>\n",
       "      <td>0</td>\n",
       "      <td>0</td>\n",
       "      <td>0</td>\n",
       "      <td>0</td>\n",
       "      <td>0</td>\n",
       "      <td>0</td>\n",
       "      <td>XOCO</td>\n",
       "      <td>COYOACAN</td>\n",
       "      <td>8703</td>\n",
       "      <td>NaN</td>\n",
       "    </tr>\n",
       "    <tr>\n",
       "      <th>8704</th>\n",
       "      <td>0.854167</td>\n",
       "      <td>0.0</td>\n",
       "      <td>0.879167</td>\n",
       "      <td>0.879167</td>\n",
       "      <td>0.569113</td>\n",
       "      <td>0.273742</td>\n",
       "      <td>0.137856</td>\n",
       "      <td>0.737539</td>\n",
       "      <td>0.575398</td>\n",
       "      <td>0.500106</td>\n",
       "      <td>...</td>\n",
       "      <td>0</td>\n",
       "      <td>0</td>\n",
       "      <td>0</td>\n",
       "      <td>0</td>\n",
       "      <td>0</td>\n",
       "      <td>0</td>\n",
       "      <td>OBSERVATORIO</td>\n",
       "      <td>MIGUEL HIDALGO</td>\n",
       "      <td>8704</td>\n",
       "      <td>NaN</td>\n",
       "    </tr>\n",
       "  </tbody>\n",
       "</table>\n",
       "<p>8705 rows × 1751 columns</p>\n",
       "</div>"
      ],
      "text/plain": [
       "      current_risk_value  RiskClass  change_current_risk_value  MeanChange1  \\\n",
       "0               0.417112        0.0                   0.251337     0.251337   \n",
       "1               0.500000        0.0                  -0.500000    -0.500000   \n",
       "2               2.000000        0.0                   0.000000     0.000000   \n",
       "3               0.600000        0.0                  -0.550000    -0.550000   \n",
       "4               0.238636        0.0                  -0.533333    -0.533333   \n",
       "...                  ...        ...                        ...          ...   \n",
       "8700            0.520000        0.0                  -0.532000    -0.532000   \n",
       "8701            0.211310        0.0                   0.369599     0.369599   \n",
       "8702            2.100000        1.0                   3.666667     3.666667   \n",
       "8703            0.148352        0.0                   0.260989     0.260989   \n",
       "8704            0.854167        0.0                   0.879167     0.879167   \n",
       "\n",
       "      MeanChange3  MeanChange6  MeanChange12  MovingSTD3Chgcurrent_risk_value  \\\n",
       "0        1.019123     0.562017      0.361920                         2.151213   \n",
       "1       -0.169935     0.631732      0.394942                         0.580201   \n",
       "2        7.872549     4.547386      2.315359                        14.406552   \n",
       "3       -0.094444     1.274905      0.578932                         0.611086   \n",
       "4       -0.014993     0.042612      0.363355                         0.875267   \n",
       "...           ...          ...           ...                              ...   \n",
       "8700     0.500479     0.039221      0.638390                         1.626173   \n",
       "8701    -0.001221     0.117070      0.043241                         0.443034   \n",
       "8702     1.237437     0.607442      0.668271                         2.151344   \n",
       "8703     0.092908     0.001081      0.009825                         0.271079   \n",
       "8704     0.569113     0.273742      0.137856                         0.737539   \n",
       "\n",
       "      MovingSTD6Chgcurrent_risk_value  MovingSTD12Chgcurrent_risk_value  ...  \\\n",
       "0                            1.488743                          1.116841  ...   \n",
       "1                            1.603196                          1.237176  ...   \n",
       "2                           10.028411                          7.159461  ...   \n",
       "3                            3.360794                          2.388850  ...   \n",
       "4                            0.580610                          1.503927  ...   \n",
       "...                               ...                               ...  ...   \n",
       "8700                         1.192904                          1.940961  ...   \n",
       "8701                         0.554009                          0.400495  ...   \n",
       "8702                         1.576376                          1.575460  ...   \n",
       "8703                         0.327896                          0.339265  ...   \n",
       "8704                         0.575398                          0.500106  ...   \n",
       "\n",
       "      colonia_ZENTLAPATL  colonia_ZONA ESCOLAR I  colonia_ZONA ESCOLAR II  \\\n",
       "0                      0                       0                        0   \n",
       "1                      0                       0                        0   \n",
       "2                      0                       0                        0   \n",
       "3                      0                       0                        0   \n",
       "4                      0                       0                        1   \n",
       "...                  ...                     ...                      ...   \n",
       "8700                   0                       0                        0   \n",
       "8701                   0                       0                        0   \n",
       "8702                   0                       0                        0   \n",
       "8703                   0                       0                        0   \n",
       "8704                   0                       0                        0   \n",
       "\n",
       "      colonia_ZONA ESCOLAR ORIENTE  colonia_ZONA MILITAR FAVE SEDENA (U HAB)  \\\n",
       "0                                0                                         0   \n",
       "1                                0                                         0   \n",
       "2                                0                                         0   \n",
       "3                                0                                         0   \n",
       "4                                0                                         0   \n",
       "...                            ...                                       ...   \n",
       "8700                             0                                         0   \n",
       "8701                             0                                         0   \n",
       "8702                             0                                         0   \n",
       "8703                             0                                         0   \n",
       "8704                             0                                         0   \n",
       "\n",
       "      colonia_ZOTOLTITLA                             newC  \\\n",
       "0                      0  NONOALCO-TLATELOLCO (U HAB) III   \n",
       "1                      0                     EL CENTINELA   \n",
       "2                      0       CTM VIIA CULHUACAN (U HAB)   \n",
       "3                      0           20 DE NOVIEMBRE (AMPL)   \n",
       "4                      0                  ZONA ESCOLAR II   \n",
       "...                  ...                              ...   \n",
       "8700                   0                          POLVORA   \n",
       "8701                   0                       IRRIGACION   \n",
       "8702                   0                       LOS PADRES   \n",
       "8703                   0                             XOCO   \n",
       "8704                   0                     OBSERVATORIO   \n",
       "\n",
       "                  Delegacion  Index  y_hat  \n",
       "0                 CUAUHTEMOC      0    NaN  \n",
       "1                   COYOACAN      1    NaN  \n",
       "2                   COYOACAN      2    1.0  \n",
       "3        VENUSTIANO CARRANZA      3    NaN  \n",
       "4          GUSTAVO A. MADERO      4    NaN  \n",
       "...                      ...    ...    ...  \n",
       "8700          ALVARO OBREGON   8700    NaN  \n",
       "8701          MIGUEL HIDALGO   8701    1.0  \n",
       "8702  LA MAGDALENA CONTRERAS   8702    NaN  \n",
       "8703                COYOACAN   8703    NaN  \n",
       "8704          MIGUEL HIDALGO   8704    NaN  \n",
       "\n",
       "[8705 rows x 1751 columns]"
      ]
     },
     "execution_count": 161,
     "metadata": {},
     "output_type": "execute_result"
    }
   ],
   "source": [
    "x_test"
   ]
  },
  {
   "cell_type": "code",
   "execution_count": 110,
   "id": "9a1df1e0",
   "metadata": {},
   "outputs": [
    {
     "name": "stderr",
     "output_type": "stream",
     "text": [
      "C:\\Users\\Mi Compu\\AppData\\Local\\Temp\\ipykernel_1256\\3876969416.py:7: SettingWithCopyWarning: \n",
      "A value is trying to be set on a copy of a slice from a DataFrame\n",
      "\n",
      "See the caveats in the documentation: https://pandas.pydata.org/pandas-docs/stable/user_guide/indexing.html#returning-a-view-versus-a-copy\n",
      "  x_test[\"newC\"][j]=c\n"
     ]
    }
   ],
   "source": [
    "x_test[\"newC\"]=''\n",
    "x_test= x_test.reset_index(drop=True)\n",
    "for c in x_test.columns:\n",
    "    if 'colonia' in c:\n",
    "        for j in range(len(x_test)):\n",
    "            if x_test[c][j]==1:\n",
    "                x_test[\"newC\"][j]=c\n",
    "                "
   ]
  },
  {
   "cell_type": "code",
   "execution_count": 114,
   "id": "51f473be",
   "metadata": {},
   "outputs": [],
   "source": [
    "x_test[\"newC\"]=list(i.split(\"_\")[1] for i in x_test[\"newC\"])"
   ]
  },
  {
   "cell_type": "code",
   "execution_count": 121,
   "id": "380d4e5b",
   "metadata": {},
   "outputs": [],
   "source": [
    "colonias = pd.DataFrame(transformedData.groupby(by=[\"alcaldia_hechos\"])[\"colonia\"].unique())\n"
   ]
  },
  {
   "cell_type": "code",
   "execution_count": 125,
   "id": "3d10be7c",
   "metadata": {},
   "outputs": [],
   "source": [
    "colonias = pd.DataFrame(colonias)"
   ]
  },
  {
   "cell_type": "code",
   "execution_count": null,
   "id": "6f04573a",
   "metadata": {},
   "outputs": [],
   "source": []
  },
  {
   "cell_type": "code",
   "execution_count": 138,
   "id": "c65ee457",
   "metadata": {},
   "outputs": [
    {
     "name": "stdout",
     "output_type": "stream",
     "text": [
      "SIUU\n"
     ]
    }
   ],
   "source": [
    "for  i in colonias[\"colonia\"][0]:\n",
    "    if '1RA VICTORIA' ==i:\n",
    "        print(\"SIUU\")"
   ]
  },
  {
   "cell_type": "code",
   "execution_count": 145,
   "id": "7140cd15",
   "metadata": {},
   "outputs": [
    {
     "name": "stderr",
     "output_type": "stream",
     "text": [
      "C:\\Users\\Mi Compu\\AppData\\Local\\Temp\\ipykernel_1256\\1564388806.py:5: SettingWithCopyWarning: \n",
      "A value is trying to be set on a copy of a slice from a DataFrame\n",
      "\n",
      "See the caveats in the documentation: https://pandas.pydata.org/pandas-docs/stable/user_guide/indexing.html#returning-a-view-versus-a-copy\n",
      "  x_test[\"Delegacion\"][i]=colonias.index[j]\n"
     ]
    }
   ],
   "source": [
    "\n",
    "x_test[\"Delegacion\"]=''\n",
    "for i in range(len(x_test[\"newC\"])):\n",
    "    for j in range(len(colonias)):\n",
    "        if x_test[\"newC\"][i] in colonias[\"colonia\"][j]:\n",
    "            x_test[\"Delegacion\"][i]=colonias.index[j]\n",
    "            \n",
    "            "
   ]
  },
  {
   "cell_type": "code",
   "execution_count": 163,
   "id": "7ed53dc2",
   "metadata": {},
   "outputs": [],
   "source": [
    "x_test = x_test.loc[pd.isnull(x_test[\"y_hat\"])==False]"
   ]
  },
  {
   "cell_type": "code",
   "execution_count": 155,
   "id": "74043b42",
   "metadata": {},
   "outputs": [
    {
     "data": {
      "text/plain": [
       "True"
      ]
     },
     "execution_count": 155,
     "metadata": {},
     "output_type": "execute_result"
    }
   ],
   "source": [
    "'LETRAN VALLE' in colonias[\"colonia\"][\"BENITO JUAREZ\"]"
   ]
  },
  {
   "cell_type": "code",
   "execution_count": 181,
   "id": "5fe319fe",
   "metadata": {},
   "outputs": [],
   "source": [
    "out = pd.DataFrame(x_test.groupby(by=[\"Delegacion\"])[\"y_hat\"].mean())"
   ]
  },
  {
   "cell_type": "code",
   "execution_count": null,
   "id": "2fc356c9",
   "metadata": {},
   "outputs": [],
   "source": []
  },
  {
   "cell_type": "code",
   "execution_count": 191,
   "id": "a57802af",
   "metadata": {},
   "outputs": [],
   "source": [
    "out[\"y_hat2\"]=list(1 if i>=.5 else 0 for i in out[\"y_hat\"])"
   ]
  },
  {
   "cell_type": "code",
   "execution_count": 193,
   "id": "697215c4",
   "metadata": {},
   "outputs": [],
   "source": [
    "out = out.drop(columns=[\"y_hat2\"])"
   ]
  },
  {
   "cell_type": "code",
   "execution_count": 194,
   "id": "c4488083",
   "metadata": {},
   "outputs": [],
   "source": [
    "out.to_excel(\"Resultados.xlsx\")"
   ]
  },
  {
   "cell_type": "code",
   "execution_count": null,
   "id": "59224166",
   "metadata": {},
   "outputs": [],
   "source": []
  }
 ],
 "metadata": {
  "kernelspec": {
   "display_name": "Python 3 (ipykernel)",
   "language": "python",
   "name": "python3"
  },
  "language_info": {
   "codemirror_mode": {
    "name": "ipython",
    "version": 3
   },
   "file_extension": ".py",
   "mimetype": "text/x-python",
   "name": "python",
   "nbconvert_exporter": "python",
   "pygments_lexer": "ipython3",
   "version": "3.9.12"
  }
 },
 "nbformat": 4,
 "nbformat_minor": 5
}
