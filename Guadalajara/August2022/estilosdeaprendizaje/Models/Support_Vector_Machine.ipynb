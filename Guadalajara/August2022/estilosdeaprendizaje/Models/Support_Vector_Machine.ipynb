{
  "nbformat": 4,
  "nbformat_minor": 0,
  "metadata": {
    "colab": {
      "provenance": [],
      "collapsed_sections": [
        "ZQCA1ATySBvB",
        "WloKr7dBOswq",
        "3PMWQSN0O5yD",
        "RMeP0Uc0O3PG",
        "PzZDVidWTC0y",
        "UrvI43aSTC05",
        "mpqJmQs1TC06",
        "PVQL3kbjTC06",
        "ENokqFyHFN8q"
      ]
    },
    "kernelspec": {
      "name": "python3",
      "display_name": "Python 3"
    },
    "language_info": {
      "name": "python"
    }
  },
  "cells": [
    {
      "cell_type": "code",
      "execution_count": 1,
      "metadata": {
        "id": "-xh_Vn1d3Ehh"
      },
      "outputs": [],
      "source": [
        "# Requerimos Python ≥3.5\n",
        "# import sys\n",
        "# assert sys.version_info >= (3, 5)\n",
        "\n",
        "# Requerimos scikit-Learn ≥0.20\n",
        "import sklearn\n",
        "assert sklearn.__version__ >= \"0.20\"\n",
        "\n",
        "# Importaciones comunes\n",
        "import numpy as np\n",
        "import os\n",
        "\n",
        "# Salidas aleatorias reproducibles\n",
        "np.random.seed(42)\n",
        "\n",
        "import matplotlib.pyplot as plt\n",
        "import seaborn as sns\n",
        "\n",
        "from sklearn.metrics import confusion_matrix\n",
        "from sklearn.metrics import classification_report\n",
        "\n",
        "# Las figuras se guardaran en la carpeta \"images\" junto al notebook\n",
        "PROJECT_ROOT_DIR = \".\"\n",
        "CHAPTER_ID = \"svm\"\n",
        "IMAGES_PATH = os.path.join(PROJECT_ROOT_DIR, \"images\", CHAPTER_ID)\n",
        "os.makedirs(IMAGES_PATH, exist_ok=True)\n",
        "\n",
        "# Funcion para guardar figuras (Falta revisión para que funcione en colab)\n",
        "def save_fig(fig_id, tight_layout=True, fig_extension=\"png\", resolution=300):\n",
        "    path = os.path.join(IMAGES_PATH, fig_id + \".\" + fig_extension)\n",
        "    print(\"Saving figure\", fig_id)\n",
        "    if tight_layout:\n",
        "        plt.tight_layout()\n",
        "    plt.savefig(path, format=fig_extension, dpi=resolution)"
      ]
    },
    {
      "cell_type": "code",
      "source": [
        "# Descarga de archivos\n",
        "from google.colab import files\n",
        "\n",
        "# Funcion para guardar dataframe como csv\n",
        "def save_df_as_cv(downloable_df, name):\n",
        "  # Descarga del df \n",
        "  downloable_df.to_csv(name + '.csv')\n",
        "  files.download(name + '.csv')"
      ],
      "metadata": {
        "id": "i9Bhzz5E9u4D"
      },
      "execution_count": 2,
      "outputs": []
    },
    {
      "cell_type": "code",
      "source": [
        "# Carga de datos\n",
        "import pandas as pd \n",
        "# Carga del dataset\n",
        "df_estilos_aprendizaje = pd.read_csv('estilos_aprendizaje_codificado.csv')\n",
        "\n",
        "df_estilos_aprendizaje.keys()"
      ],
      "metadata": {
        "colab": {
          "base_uri": "https://localhost:8080/"
        },
        "id": "5rJNzUcF6QlD",
        "outputId": "33943f88-f212-4483-bca2-8bf046ce5637"
      },
      "execution_count": 3,
      "outputs": [
        {
          "output_type": "execute_result",
          "data": {
            "text/plain": [
              "Index(['Unnamed: 0', 'timestamp', 'edad', 'v', 'a', 'k', 'v_percent',\n",
              "       'a_percent', 'k_percent', 'Bachillerato',\n",
              "       ...\n",
              "       '37_v', '38_a', '38_k', '38_v', '39_a', '39_k', '39_v', '40_a', '40_k',\n",
              "       '40_v'],\n",
              "      dtype='object', length=157)"
            ]
          },
          "metadata": {},
          "execution_count": 3
        }
      ]
    },
    {
      "cell_type": "markdown",
      "source": [
        "## Clasificacion SVM lineal"
      ],
      "metadata": {
        "id": "Cxc52ugK-Qta"
      }
    },
    {
      "cell_type": "code",
      "source": [
        "# Importar función train_test_split\n",
        "from sklearn.model_selection import train_test_split\n",
        "\n",
        "# Funcion para separar conjuntos de entrenamiento y pruebas\n",
        "def train_test_separate(X, y):\n",
        "  # 70% training and 30% test\n",
        "  return train_test_split(X, y, test_size=0.3, random_state=109)"
      ],
      "metadata": {
        "id": "EJ7K1ZGRDHEX"
      },
      "execution_count": 4,
      "outputs": []
    },
    {
      "cell_type": "code",
      "source": [
        "# Importamos Clasificador de Soporte Vectorial (SVC) de scikit-learn\n",
        "from sklearn.svm import SVC\n",
        "\n",
        "# Funcion para entrenar y predecir con el modelo\n",
        "def predcitWithSVM(X_train, y_train, X_test):\n",
        "  # Recurrimos a un modelo SVM clasificador con un kernel lineal\n",
        "  svm_clf = SVC(kernel=\"linear\", C=float(\"inf\"))\n",
        "\n",
        "  # Entrenamos el modelo\n",
        "  svm_clf.fit(X_train, y_train)\n",
        "\n",
        "  # Predecir la respuesta para el conjunto de datos de prueba\n",
        "  y_pred = svm_clf.predict(X_test)\n",
        "\n",
        "  return y_pred"
      ],
      "metadata": {
        "id": "_IeIsStf-Qt5"
      },
      "execution_count": 5,
      "outputs": []
    },
    {
      "cell_type": "code",
      "source": [
        "# Importa el módulo de métricas de scikit-learn para el cálculo de precisión\n",
        "from sklearn import metrics\n",
        "\n",
        "# Funcion para evaluar de manera simple el modelo\n",
        "def evaluateSVMSimple(y_test, y_pred, target):\n",
        "  print(\"\\nTarget Class:\", target)\n",
        "  \n",
        "  # Accuracy del modelo: ¿con qué frecuencia es correcto el clasificador?\n",
        "  print(\"Accuracy:\", round(metrics.accuracy_score(y_test, y_pred), 2) )\n",
        "\n",
        "  # Precision del modelo: ¿qué porcentaje de tuplas positivas se etiquetan como tales?\n",
        "  print(\"Precision:\", round(metrics.precision_score(y_test, y_pred), 2) )\n",
        "\n",
        "  # Recall del modelo: ¿qué porcentaje de tuplas positivas están etiquetadas como tales?\n",
        "  print(\"Recall:\", round(metrics.recall_score(y_test, y_pred), 2) )"
      ],
      "metadata": {
        "id": "5aXdc8-e_U4-"
      },
      "execution_count": 6,
      "outputs": []
    },
    {
      "cell_type": "code",
      "source": [
        "# Funcion para evaluar y mostrar matriz de confusión\n",
        "def evaluateSVM(y_test, y_pred, target):\n",
        "    conf_matrix = confusion_matrix(y_test, y_pred)\n",
        "    plt.figure(figsize=(12, 12))\n",
        "    sns.heatmap(conf_matrix, annot=True, fmt=\"d\");\n",
        "    plt.title(\"Confusion matrix class \" + target)\n",
        "    plt.ylabel('True class')\n",
        "    plt.xlabel('Predicted class')\n",
        "    plt.show()\n",
        "    print (classification_report(y_test, y_pred))"
      ],
      "metadata": {
        "id": "KfRaLKAhIvEC"
      },
      "execution_count": 7,
      "outputs": []
    },
    {
      "cell_type": "code",
      "source": [
        "# Seleccionando solo datos utiles\n",
        "# Estas contienen las preguntas extras que no corresponden al test\n",
        "preguntas = df_estilos_aprendizaje.iloc[:, 9:28]\n",
        "# Estas contienen las 40 preguntas que corresponden al test\n",
        "preguntas_test = df_estilos_aprendizaje.iloc[:, 37:157]\n",
        "\n",
        "frames_FULL = [preguntas, preguntas_test]\n",
        "frames = [preguntas_test]\n",
        "\n",
        "X_FULL = pd.concat(frames_FULL, axis=1)\n",
        "X = pd.concat(frames, axis=1)\n",
        "\n",
        "# Se definen las clases objetivo\n",
        "y_visual = df_estilos_aprendizaje[\"estilo_primario_visual\"]\n",
        "y_auditivo = df_estilos_aprendizaje[\"estilo_primario_auditivo\"]\n",
        "y_kinestesico = df_estilos_aprendizaje[\"estilo_primario_kinestesico\"]"
      ],
      "metadata": {
        "id": "BVZmpTYW-Qt9"
      },
      "execution_count": 8,
      "outputs": []
    },
    {
      "cell_type": "markdown",
      "source": [
        "## Prediciendo solo con las 40 preguntas del test"
      ],
      "metadata": {
        "id": "ZQCA1ATySBvB"
      }
    },
    {
      "cell_type": "markdown",
      "source": [
        "### Clase objetivo: VISUAL"
      ],
      "metadata": {
        "id": "WloKr7dBOswq"
      }
    },
    {
      "cell_type": "code",
      "source": [
        "##### VISUAL #####\n",
        "\n",
        "# Se divide el conjunto de datos en conjunto de entrenamiento y conjunto de prueba\n",
        "X_train, X_test, y_train, y_test = train_test_separate(X, y_visual)\n",
        "\n",
        "# Se entrena y predice \n",
        "y_pred = predcitWithSVM(X_train, y_train, X_test)\n",
        "\n",
        "# Se evalua el modelo\n",
        "evaluateSVM(y_test, y_pred, 'visual')"
      ],
      "metadata": {
        "id": "y7Ptzavu_xKk",
        "colab": {
          "base_uri": "https://localhost:8080/",
          "height": 886
        },
        "outputId": "402e11f5-ba36-40cf-ad15-6c117d398127"
      },
      "execution_count": 9,
      "outputs": [
        {
          "output_type": "display_data",
          "data": {
            "text/plain": [
              "<Figure size 864x864 with 2 Axes>"
            ],
            "image/png": "[encoded data removed]"
          },
          "metadata": {
            "needs_background": "light"
          }
        },
        {
          "output_type": "stream",
          "name": "stdout",
          "text": [
            "              precision    recall  f1-score   support\n",
            "\n",
            "           0       1.00      0.78      0.88         9\n",
            "           1       0.75      1.00      0.86         6\n",
            "\n",
            "    accuracy                           0.87        15\n",
            "   macro avg       0.88      0.89      0.87        15\n",
            "weighted avg       0.90      0.87      0.87        15\n",
            "\n"
          ]
        }
      ]
    },
    {
      "cell_type": "markdown",
      "source": [
        "### Clase objetivo: AUDITIVO"
      ],
      "metadata": {
        "id": "3PMWQSN0O5yD"
      }
    },
    {
      "cell_type": "code",
      "source": [
        "##### AUDITIVO #####\n",
        "\n",
        "# Se divide el conjunto de datos en conjunto de entrenamiento y conjunto de prueba\n",
        "X_train, X_test, y_train, y_test = train_test_separate(X, y_auditivo)\n",
        "\n",
        "# Se entrena y predice \n",
        "y_pred = predcitWithSVM(X_train, y_train, X_test)\n",
        "\n",
        "# Se evalua el modelo\n",
        "evaluateSVM(y_test, y_pred, 'auditivo')"
      ],
      "metadata": {
        "colab": {
          "base_uri": "https://localhost:8080/",
          "height": 0
        },
        "id": "fNFRWUq1D9BL",
        "outputId": "103f6adc-a679-4314-f532-f396ccd4ddab"
      },
      "execution_count": 10,
      "outputs": [
        {
          "output_type": "display_data",
          "data": {
            "text/plain": [
              "<Figure size 864x864 with 2 Axes>"
            ],
            "image/png": "[encoded data removed]"
          },
          "metadata": {
            "needs_background": "light"
          }
        },
        {
          "output_type": "stream",
          "name": "stdout",
          "text": [
            "              precision    recall  f1-score   support\n",
            "\n",
            "           0       0.86      1.00      0.92        12\n",
            "           1       1.00      0.33      0.50         3\n",
            "\n",
            "    accuracy                           0.87        15\n",
            "   macro avg       0.93      0.67      0.71        15\n",
            "weighted avg       0.89      0.87      0.84        15\n",
            "\n"
          ]
        }
      ]
    },
    {
      "cell_type": "markdown",
      "source": [
        "### Clase objetivo: KINESTESICO"
      ],
      "metadata": {
        "id": "RMeP0Uc0O3PG"
      }
    },
    {
      "cell_type": "code",
      "source": [
        "##### KINESTESICO #####\n",
        "\n",
        "# Se divide el conjunto de datos en conjunto de entrenamiento y conjunto de prueba\n",
        "X_train, X_test, y_train, y_test = train_test_separate(X, y_kinestesico)\n",
        "\n",
        "# Se entrena y predice \n",
        "y_pred = predcitWithSVM(X_train, y_train, X_test)\n",
        "\n",
        "# Se evalua el modelo\n",
        "evaluateSVM(y_test, y_pred, 'kinestesico')"
      ],
      "metadata": {
        "colab": {
          "base_uri": "https://localhost:8080/",
          "height": 0
        },
        "id": "_6NOwfrJEEiu",
        "outputId": "1456c192-187d-47ec-a3ea-a4f86fd39dc2"
      },
      "execution_count": 11,
      "outputs": [
        {
          "output_type": "display_data",
          "data": {
            "text/plain": [
              "<Figure size 864x864 with 2 Axes>"
            ],
            "image/png": "[encoded data removed]"
          },
          "metadata": {
            "needs_background": "light"
          }
        },
        {
          "output_type": "stream",
          "name": "stdout",
          "text": [
            "              precision    recall  f1-score   support\n",
            "\n",
            "           0       0.82      1.00      0.90         9\n",
            "           1       1.00      0.67      0.80         6\n",
            "\n",
            "    accuracy                           0.87        15\n",
            "   macro avg       0.91      0.83      0.85        15\n",
            "weighted avg       0.89      0.87      0.86        15\n",
            "\n"
          ]
        }
      ]
    },
    {
      "cell_type": "markdown",
      "source": [
        "## Prediciendo con las 40 preguntas del test + las preguntas extras"
      ],
      "metadata": {
        "id": "PzZDVidWTC0y"
      }
    },
    {
      "cell_type": "markdown",
      "source": [
        "### Clase objetivo: VISUAL"
      ],
      "metadata": {
        "id": "UrvI43aSTC05"
      }
    },
    {
      "cell_type": "code",
      "source": [
        "##### VISUAL #####\n",
        "\n",
        "# Se divide el conjunto de datos en conjunto de entrenamiento y conjunto de prueba\n",
        "X_train, X_test, y_train, y_test = train_test_separate(X_FULL, y_visual)\n",
        "\n",
        "# Se entrena y predice \n",
        "y_pred = predcitWithSVM(X_train, y_train, X_test)\n",
        "\n",
        "# Se evalua el modelo\n",
        "evaluateSVM(y_test, y_pred, 'visual')"
      ],
      "metadata": {
        "colab": {
          "base_uri": "https://localhost:8080/",
          "height": 0
        },
        "outputId": "ed753ab4-2e2c-44b8-ce9c-c7004e0a8928",
        "id": "CogiPH1lTC06"
      },
      "execution_count": 12,
      "outputs": [
        {
          "output_type": "display_data",
          "data": {
            "text/plain": [
              "<Figure size 864x864 with 2 Axes>"
            ],
            "image/png": "[encoded data removed]"
          },
          "metadata": {
            "needs_background": "light"
          }
        },
        {
          "output_type": "stream",
          "name": "stdout",
          "text": [
            "              precision    recall  f1-score   support\n",
            "\n",
            "           0       0.88      0.78      0.82         9\n",
            "           1       0.71      0.83      0.77         6\n",
            "\n",
            "    accuracy                           0.80        15\n",
            "   macro avg       0.79      0.81      0.80        15\n",
            "weighted avg       0.81      0.80      0.80        15\n",
            "\n"
          ]
        }
      ]
    },
    {
      "cell_type": "markdown",
      "source": [
        "### Clase objetivo: AUDITIVO"
      ],
      "metadata": {
        "id": "mpqJmQs1TC06"
      }
    },
    {
      "cell_type": "code",
      "source": [
        "##### AUDITIVO #####\n",
        "\n",
        "# Se divide el conjunto de datos en conjunto de entrenamiento y conjunto de prueba\n",
        "X_train, X_test, y_train, y_test = train_test_separate(X_FULL, y_auditivo)\n",
        "\n",
        "# Se entrena y predice \n",
        "y_pred = predcitWithSVM(X_train, y_train, X_test)\n",
        "\n",
        "# Se evalua el modelo\n",
        "evaluateSVM(y_test, y_pred, 'auditivo')"
      ],
      "metadata": {
        "colab": {
          "base_uri": "https://localhost:8080/",
          "height": 0
        },
        "outputId": "56d767bd-cfae-469a-89b6-f09571c44c0b",
        "id": "tGZJstazTC06"
      },
      "execution_count": 13,
      "outputs": [
        {
          "output_type": "display_data",
          "data": {
            "text/plain": [
              "<Figure size 864x864 with 2 Axes>"
            ],
            "image/png": "[encoded data removed]"
          },
          "metadata": {
            "needs_background": "light"
          }
        },
        {
          "output_type": "stream",
          "name": "stdout",
          "text": [
            "              precision    recall  f1-score   support\n",
            "\n",
            "           0       0.92      0.92      0.92        12\n",
            "           1       0.67      0.67      0.67         3\n",
            "\n",
            "    accuracy                           0.87        15\n",
            "   macro avg       0.79      0.79      0.79        15\n",
            "weighted avg       0.87      0.87      0.87        15\n",
            "\n"
          ]
        }
      ]
    },
    {
      "cell_type": "markdown",
      "source": [
        "### Clase objetivo: KINESTESICO"
      ],
      "metadata": {
        "id": "PVQL3kbjTC06"
      }
    },
    {
      "cell_type": "code",
      "source": [
        "##### KINESTESICO #####\n",
        "\n",
        "# Se divide el conjunto de datos en conjunto de entrenamiento y conjunto de prueba\n",
        "X_train, X_test, y_train, y_test = train_test_separate(X_FULL, y_kinestesico)\n",
        "\n",
        "# Se entrena y predice \n",
        "y_pred = predcitWithSVM(X_train, y_train, X_test)\n",
        "\n",
        "# Se evalua el modelo\n",
        "evaluateSVM(y_test, y_pred, 'kinestesico')"
      ],
      "metadata": {
        "colab": {
          "base_uri": "https://localhost:8080/",
          "height": 0
        },
        "outputId": "d8e32f5c-7d00-4cd2-9ec7-4fc7af968e42",
        "id": "L0m4J-I8TC06"
      },
      "execution_count": 14,
      "outputs": [
        {
          "output_type": "display_data",
          "data": {
            "text/plain": [
              "<Figure size 864x864 with 2 Axes>"
            ],
            "image/png": "[encoded data removed]"
          },
          "metadata": {
            "needs_background": "light"
          }
        },
        {
          "output_type": "stream",
          "name": "stdout",
          "text": [
            "              precision    recall  f1-score   support\n",
            "\n",
            "           0       0.82      1.00      0.90         9\n",
            "           1       1.00      0.67      0.80         6\n",
            "\n",
            "    accuracy                           0.87        15\n",
            "   macro avg       0.91      0.83      0.85        15\n",
            "weighted avg       0.89      0.87      0.86        15\n",
            "\n"
          ]
        }
      ]
    },
    {
      "cell_type": "markdown",
      "source": [
        "# Comparación de resultados con todas las preguntas y solo las correspondientes a las 40 del test\n"
      ],
      "metadata": {
        "id": "9SWxsGFrP1kA"
      }
    },
    {
      "cell_type": "markdown",
      "source": [
        "### Clase objetivo: VISUAL"
      ],
      "metadata": {
        "id": "7p7WIeBKQJXE"
      }
    },
    {
      "cell_type": "code",
      "source": [
        "##### VISUAL FULL #####\n",
        "\n",
        "# Se divide el conjunto de datos en conjunto de entrenamiento y conjunto de prueba\n",
        "X_train, X_test, y_train, y_test = train_test_separate(X_FULL, y_visual)\n",
        "\n",
        "# Se entrena y predice \n",
        "y_pred = predcitWithSVM(X_train, y_train, X_test)\n",
        "\n",
        "# Se evalua el modelo\n",
        "evaluateSVMSimple(y_test, y_pred, 'visual full')\n",
        "\n",
        "##### VISUAL #####\n",
        "\n",
        "# Se divide el conjunto de datos en conjunto de entrenamiento y conjunto de prueba\n",
        "X_train, X_test, y_train, y_test = train_test_separate(X, y_visual)\n",
        "\n",
        "# Se entrena y predice \n",
        "y_pred = predcitWithSVM(X_train, y_train, X_test)\n",
        "\n",
        "# Se evalua el modelo\n",
        "evaluateSVMSimple(y_test, y_pred, 'visual')"
      ],
      "metadata": {
        "colab": {
          "base_uri": "https://localhost:8080/"
        },
        "outputId": "1578f3a3-3ffb-41c2-f07e-271ed0d95f6f",
        "id": "HH6bvV3oQJXF"
      },
      "execution_count": 15,
      "outputs": [
        {
          "output_type": "stream",
          "name": "stdout",
          "text": [
            "\n",
            "Target Class: visual full\n",
            "Accuracy: 0.8\n",
            "Precision: 0.71\n",
            "Recall: 0.83\n",
            "\n",
            "Target Class: visual\n",
            "Accuracy: 0.87\n",
            "Precision: 0.75\n",
            "Recall: 1.0\n"
          ]
        }
      ]
    },
    {
      "cell_type": "markdown",
      "source": [
        "### Clase objetivo: AUDITIVO"
      ],
      "metadata": {
        "id": "PmPTvrPUQO_k"
      }
    },
    {
      "cell_type": "code",
      "source": [
        "##### AUDITIVO FULL #####\n",
        "\n",
        "# Se divide el conjunto de datos en conjunto de entrenamiento y conjunto de prueba\n",
        "X_train, X_test, y_train, y_test = train_test_separate(X_FULL, y_auditivo)\n",
        "\n",
        "# Se entrena y predice \n",
        "y_pred = predcitWithSVM(X_train, y_train, X_test)\n",
        "\n",
        "# Se evalua el modelo\n",
        "evaluateSVMSimple(y_test, y_pred, 'auditivo full')\n",
        "\n",
        "##### AUDITIVO #####\n",
        "\n",
        "# Se divide el conjunto de datos en conjunto de entrenamiento y conjunto de prueba\n",
        "X_train, X_test, y_train, y_test = train_test_separate(X, y_auditivo)\n",
        "\n",
        "# Se entrena y predice \n",
        "y_pred = predcitWithSVM(X_train, y_train, X_test)\n",
        "\n",
        "# Se evalua el modelo\n",
        "evaluateSVMSimple(y_test, y_pred, 'auditivo')"
      ],
      "metadata": {
        "colab": {
          "base_uri": "https://localhost:8080/"
        },
        "outputId": "48779977-6978-4ce9-c648-b91868fd6a41",
        "id": "od_BwHTkQO_k"
      },
      "execution_count": 16,
      "outputs": [
        {
          "output_type": "stream",
          "name": "stdout",
          "text": [
            "\n",
            "Target Class: auditivo full\n",
            "Accuracy: 0.87\n",
            "Precision: 0.67\n",
            "Recall: 0.67\n",
            "\n",
            "Target Class: auditivo\n",
            "Accuracy: 0.87\n",
            "Precision: 1.0\n",
            "Recall: 0.33\n"
          ]
        }
      ]
    },
    {
      "cell_type": "markdown",
      "source": [
        "### Clase objetivo: KINESTESICO"
      ],
      "metadata": {
        "id": "DPlxjhNgSWF6"
      }
    },
    {
      "cell_type": "code",
      "source": [
        "##### KINESTESICO FULL #####\n",
        "\n",
        "# Se divide el conjunto de datos en conjunto de entrenamiento y conjunto de prueba\n",
        "X_train, X_test, y_train, y_test = train_test_separate(X_FULL, y_kinestesico)\n",
        "\n",
        "# Se entrena y predice \n",
        "y_pred = predcitWithSVM(X_train, y_train, X_test)\n",
        "\n",
        "# Se evalua el modelo\n",
        "evaluateSVMSimple(y_test, y_pred, 'kinestesico full')\n",
        "\n",
        "##### KINESTESICO #####\n",
        "\n",
        "# Se divide el conjunto de datos en conjunto de entrenamiento y conjunto de prueba\n",
        "X_train, X_test, y_train, y_test = train_test_separate(X, y_kinestesico)\n",
        "\n",
        "# Se entrena y predice \n",
        "y_pred = predcitWithSVM(X_train, y_train, X_test)\n",
        "\n",
        "# Se evalua el modelo\n",
        "evaluateSVMSimple(y_test, y_pred, 'kinestesico')"
      ],
      "metadata": {
        "colab": {
          "base_uri": "https://localhost:8080/"
        },
        "outputId": "9dd06ad7-2563-4a8c-be6b-2377d4815838",
        "id": "O4C-vZOMQYOs"
      },
      "execution_count": 17,
      "outputs": [
        {
          "output_type": "stream",
          "name": "stdout",
          "text": [
            "\n",
            "Target Class: kinestesico full\n",
            "Accuracy: 0.87\n",
            "Precision: 1.0\n",
            "Recall: 0.67\n",
            "\n",
            "Target Class: kinestesico\n",
            "Accuracy: 0.87\n",
            "Precision: 1.0\n",
            "Recall: 0.67\n"
          ]
        }
      ]
    },
    {
      "cell_type": "markdown",
      "source": [
        "# Conclusiones"
      ],
      "metadata": {
        "id": "ENokqFyHFN8q"
      }
    },
    {
      "cell_type": "markdown",
      "source": [
        "Hemos aplicado el modelo para cada una de las clases objetivo, y también usando dos conjunto de datos donde en uno estan todos los datos completos y otro donde solo los correspondientes a las 40 preguntas del test vak.\n",
        "\n",
        "Como se puede ver para cada tipo de clase objetivo, de manera general tenemos combinaciones de alta precision con alto recall(para las clases visual y kinestesico) y alta precisión y bajo recall(para la clase auditiva).\n",
        "\n",
        "En la clase objetivo kinestesica el modelo parece ser estable en ambos  conjuntos de datos.\n",
        "Para la clase objetivo visual, con el conjunto de datos que usa todos los datos el modelo parece disminuir un poco la precision y el recall.\n",
        "\n",
        "Y para el auditivo con el conjunto de datos que usa todos los datos pierde un poco de precision pero gana un poco de recall encomparacion con el conjunto que solo tiene las 40 preguntas del test.\n",
        "\n",
        "Respecto al accuracy se puede decir que en cada clase objetivo se mantuvo estable con cada conjunto de datos."
      ],
      "metadata": {
        "id": "N-rFRsleTvAC"
      }
    }
  ]
}