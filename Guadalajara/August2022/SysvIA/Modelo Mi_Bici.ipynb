{
 "cells": [
  {
   "cell_type": "markdown",
   "id": "3f1aa910",
   "metadata": {},
   "source": [
    "# Modelo"
   ]
  },
  {
   "cell_type": "code",
   "execution_count": null,
   "id": "5be829be",
   "metadata": {},
   "outputs": [],
   "source": [
    "import pandas as pd\n",
    "import numpy as np\n",
    "import seaborn as sns\n",
    "import warnings\n",
    "import sklearn\n",
    "import pickle\n",
    "from sklearn.preprocessing import MinMaxScaler\n",
    "from sklearn.preprocessing import LabelEncoder\n",
    "from sklearn.cluster import KMeans\n",
    "from sklearn import datasets\n",
    "from sklearn.metrics import confusion_matrix\n",
    "from sklearn.model_selection import train_test_split\n",
    "import matplotlib.pyplot as plt\n",
    "import statsmodels.api as sm\n",
    "import scipy.stats as stats\n",
    "warnings.filterwarnings('ignore')\n"
   ]
  },
  {
   "cell_type": "code",
   "execution_count": null,
   "id": "a5600e32",
   "metadata": {},
   "outputs": [],
   "source": [
    "data = pd.read_csv(\"./Data.csv\", encoding='latin-1')"
   ]
  },
  {
   "cell_type": "code",
   "execution_count": null,
   "id": "4449946b",
   "metadata": {},
   "outputs": [],
   "source": [
    "data.head(2)"
   ]
  },
  {
   "cell_type": "code",
   "execution_count": null,
   "id": "d6d914c2",
   "metadata": {},
   "outputs": [],
   "source": [
    "# Transformación de datos a tipo fecha\n",
    "data['Fin_del_viaje']= pd.to_datetime(data['Fin_del_viaje'])\n",
    "data['Inicio_del_viaje']=pd.to_datetime(data['Inicio_del_viaje'])"
   ]
  },
  {
   "cell_type": "code",
   "execution_count": null,
   "id": "bed3cfaf",
   "metadata": {},
   "outputs": [],
   "source": [
    "# Ordenamiento de valores por id de usuario e inicio del viaje \n",
    "data = data.sort_values(by=['Usuario_Id', 'Inicio_del_viaje'])"
   ]
  },
  {
   "cell_type": "code",
   "execution_count": null,
   "id": "4a138fa1",
   "metadata": {},
   "outputs": [],
   "source": [
    "# Obtener un dataframe como resultado de la agrupación de las veces que ha realizado viajes\n",
    "size = pd.DataFrame(data.groupby(data[['Usuario_Id']].columns.tolist(),\n",
    "                                 as_index=False).size())\n",
    "size = size.rename(columns ={'size': 'num_reincidencia'})\n",
    "size = size.reset_index()"
   ]
  },
  {
   "cell_type": "code",
   "execution_count": null,
   "id": "836d7645",
   "metadata": {},
   "outputs": [],
   "source": [
    "# Primeros registros de los usuarios y sus viajes\n",
    "size.head(5)"
   ]
  },
  {
   "cell_type": "code",
   "execution_count": null,
   "id": "7f0e12a3",
   "metadata": {},
   "outputs": [],
   "source": [
    "# Unión del dataframe principal con la reincidencia por usuario\n",
    "data = pd.merge(data, size[['Usuario_Id','num_reincidencia']], how ='left', on='Usuario_Id')"
   ]
  },
  {
   "cell_type": "code",
   "execution_count": null,
   "id": "1f7a7ea9",
   "metadata": {},
   "outputs": [],
   "source": [
    "# Obtención de las personas que hayan tenido más de un viaje\n",
    "Days_2more = data.loc[data['num_reincidencia']>1]\n",
    "Days_2more = Days_2more.sort_values(by=['Usuario_Id', 'num_reincidencia'])\n",
    "Days_2more = Days_2more.reset_index(drop = True)\n",
    "\n",
    "# Sacar la diferencia de viajes entre el mismo usuario\n",
    "avg_dias = [Days_2more['Inicio_del_viaje'][i] - Days_2more['Inicio_del_viaje'][i-1]\n",
    "if Days_2more['Usuario_Id'][i]==Days_2more['Usuario_Id'][i-1]\n",
    "else np.nan for i in range(1,len(Days_2more))]\n",
    "\n",
    "# Agregar 0 cuando se encuentra un valor nulo\n",
    "avg_dias.insert(0,np.nan)\n",
    "\n",
    "# Obtener el número de días en su formato correcto\n",
    "Days_2more['Avg_dias'] = avg_dias\n",
    "Days_2more['Avg_dias'] = Days_2more['Avg_dias'].dt.days\n",
    "\n",
    "#Obtener la media de los dias por usuario \n",
    "Days_2more = Days_2more[['Usuario_Id', 'Avg_dias']].groupby('Usuario_Id').mean().round(2)\n",
    "Days_2more = Days_2more.reset_index()\n"
   ]
  },
  {
   "cell_type": "code",
   "execution_count": null,
   "id": "b508161a",
   "metadata": {},
   "outputs": [],
   "source": [
    "# Obtener la fecha máxima\n",
    "maxdate = data['Inicio_del_viaje'].max()\n",
    "# Obtener los registros que solo hayan tenido un viaje\n",
    "Days_1only = data.loc[data['num_reincidencia'] == 1]\n",
    "# Obtener la diferencia entre la fecha máxima y el inicio del viaje en días\n",
    "delta = (Days_1only['Inicio_del_viaje'] - maxdate).dt.days\n",
    "# Settear a 0 en caso de obtención de valores negativos\n",
    "Days_1only['Avg_dias'] =[0 if x < 0 else x for x in delta]\n",
    "Days_1only = Days_1only[['Usuario_Id', 'Avg_dias']]\n",
    "Days_1only = Days_1only.reset_index(drop= True)"
   ]
  },
  {
   "cell_type": "code",
   "execution_count": null,
   "id": "0f1d1885",
   "metadata": {},
   "outputs": [],
   "source": [
    "# Concatenación de los registros con al menos 1 o 2 más usos al día\n",
    "AVG_dias_reinc = pd.concat([Days_2more,Days_1only], axis= 0)\n",
    "AVG_dias_reinc = AVG_dias_reinc.reset_index(drop = True)"
   ]
  },
  {
   "cell_type": "code",
   "execution_count": null,
   "id": "86dea9a6",
   "metadata": {},
   "outputs": [],
   "source": [
    "# Ordenamiento de viajes por usuario y fecha de inicio de viaje\n",
    "data = data.sort_values(by = ['Usuario_Id', 'Inicio_del_viaje'])\n",
    "\n",
    "# Obtención de la fecha de último uso para obtener los días desde su último viaje\n",
    "dias_ultimo_uso = maxdate - (data[['Usuario_Id','Inicio_del_viaje']].groupby('Usuario_Id').last())\n",
    "dias_ultimo_uso['Inicio_del_viaje'] = dias_ultimo_uso['Inicio_del_viaje'].dt.days\n",
    "dias_ultimo_uso.columns = ['recency']\n",
    "dias_ultimo_uso = dias_ultimo_uso.reset_index()\n"
   ]
  },
  {
   "cell_type": "code",
   "execution_count": null,
   "id": "b2dcd5c1",
   "metadata": {},
   "outputs": [],
   "source": [
    "dias_ultimo_uso"
   ]
  },
  {
   "cell_type": "code",
   "execution_count": null,
   "id": "89389735",
   "metadata": {},
   "outputs": [],
   "source": [
    "# Consulta por usuario particular\n",
    "data.loc[data['Usuario_Id'] == 2004533]"
   ]
  },
  {
   "cell_type": "code",
   "execution_count": null,
   "id": "2879470e",
   "metadata": {},
   "outputs": [],
   "source": [
    "# Consulta de de los días que tiene sin usar el servicio\n",
    "AVG_dias_reinc.loc[AVG_dias_reinc['Usuario_Id'] == 2004533]"
   ]
  },
  {
   "cell_type": "code",
   "execution_count": null,
   "id": "07ba2188",
   "metadata": {},
   "outputs": [],
   "source": [
    "# Obtener la media de la distancia de los viajes\n",
    "distancia = pd.pivot_table(data, values = 'distancia', index = ['Usuario_Id'], aggfunc ='mean').fillna(0)\n",
    "distancia= distancia.reset_index()"
   ]
  },
  {
   "cell_type": "code",
   "execution_count": null,
   "id": "86b6717c",
   "metadata": {},
   "outputs": [],
   "source": [
    "# Obtener la media del total del uso del servicio\n",
    "tiempo = pd.pivot_table(data, values = 'total_min', index = ['Usuario_Id'], aggfunc ='mean').fillna(0)\n",
    "tiempo =tiempo.reset_index()"
   ]
  },
  {
   "cell_type": "code",
   "execution_count": null,
   "id": "40b2cd2d",
   "metadata": {},
   "outputs": [],
   "source": [
    "# Obtener el conteo de la reinicidencia por usuario\n",
    "reincidencia = pd.pivot_table(data, values = 'num_reincidencia', index = ['Usuario_Id'], aggfunc ='count').fillna(0)\n",
    "reincidencia = reincidencia.reset_index()"
   ]
  },
  {
   "cell_type": "code",
   "execution_count": null,
   "id": "eedf728c",
   "metadata": {},
   "outputs": [],
   "source": [
    "# Obtención del mes\n",
    "data['mes'] = data['Inicio_del_viaje'].dt.month"
   ]
  },
  {
   "cell_type": "code",
   "execution_count": null,
   "id": "12e0bfa0",
   "metadata": {},
   "outputs": [],
   "source": [
    "# Obtener una tabla transformando el mes / 10, consultar Proyecto_MiBici\n",
    "mes = pd.pivot_table(data, values = 'mes', index = ['Usuario_Id'], aggfunc= lambda x: len(x.unique())/10).fillna(0)\n",
    "mes = mes.reset_index()"
   ]
  },
  {
   "cell_type": "code",
   "execution_count": null,
   "id": "f9102b7f",
   "metadata": {},
   "outputs": [],
   "source": [
    "mes"
   ]
  },
  {
   "cell_type": "code",
   "execution_count": null,
   "id": "0c0a4e7c",
   "metadata": {},
   "outputs": [],
   "source": [
    "# Creación del dataset master con registros únicos para la obtención de los clústers\n",
    "Master = data['Usuario_Id']\n",
    "# Eliminación de duplicados\n",
    "Master = Master.drop_duplicates()\n",
    "Master = Master.reset_index()"
   ]
  },
  {
   "cell_type": "code",
   "execution_count": null,
   "id": "07e6a85d",
   "metadata": {},
   "outputs": [],
   "source": [
    "# Unión de las variables significativas al dateset principal en función de usuario\n",
    "Master = pd.merge(Master, dias_ultimo_uso, how='left',on='Usuario_Id')\n",
    "Master = pd.merge(Master, AVG_dias_reinc, how='left',on='Usuario_Id')\n",
    "Master = pd.merge(Master, distancia, how='left',on='Usuario_Id')\n",
    "Master = pd.merge(Master, tiempo, how='left',on='Usuario_Id')\n",
    "Master = pd.merge(Master, reincidencia, how='left',on='Usuario_Id')\n",
    "Master = pd.merge(Master, mes, how='left',on='Usuario_Id')"
   ]
  },
  {
   "cell_type": "code",
   "execution_count": null,
   "id": "41bb04c3",
   "metadata": {},
   "outputs": [],
   "source": [
    "# Variables significativas\n",
    "Master.columns"
   ]
  },
  {
   "cell_type": "code",
   "execution_count": null,
   "id": "e039452f",
   "metadata": {},
   "outputs": [],
   "source": [
    "# Formación del dataset final\n",
    "Master = Master[['Usuario_Id', 'recency', 'Avg_dias', 'distancia', 'total_min', 'num_reincidencia', 'mes']]"
   ]
  },
  {
   "cell_type": "code",
   "execution_count": null,
   "id": "342560a7",
   "metadata": {},
   "outputs": [],
   "source": [
    "Master"
   ]
  },
  {
   "cell_type": "code",
   "execution_count": null,
   "id": "cfc9d397",
   "metadata": {},
   "outputs": [],
   "source": [
    "# Obtener las columnas de tipo numérico\n",
    "# para graficarlas mediante box plots\n",
    "num_columns = Master._get_numeric_data().columns\n",
    "plt.figure(figsize=(10,20))\n",
    "for i,col in enumerate(num_columns,1):\n",
    "     plt.subplot(13,1,i)\n",
    "     sns.boxplot(Master[col])\n",
    "     plt.ylabel(col)\n",
    "plt.show()"
   ]
  },
  {
   "cell_type": "code",
   "execution_count": null,
   "id": "80485930",
   "metadata": {},
   "outputs": [],
   "source": [
    "#z = np.abs(stats.zscore(Master['recency']))\n",
    "#outliers = pd.Series(np.where(z>3, True, False),index=Master['recency'].index)\n",
    "#Master = Master.loc[outliers==False]\n",
    "#(outliers==True).sum()\n",
    "#(outliers==False).sum()\n"
   ]
  },
  {
   "cell_type": "code",
   "execution_count": null,
   "id": "d5d54022",
   "metadata": {},
   "outputs": [],
   "source": [
    "#z = np.abs(stats.zscore(Master['recency']))\n",
    "#outliers = pd.Series(np.where(z>3, True, False),index=Master['recency'].index)\n",
    "#Master = Master.loc[outliers==False]\n",
    "#(outliers==True).sum()\n",
    "#(outliers==False).sum()"
   ]
  },
  {
   "cell_type": "code",
   "execution_count": null,
   "id": "68e4bdbf",
   "metadata": {},
   "outputs": [],
   "source": [
    "# Obtención de la asimetría\n",
    "Master.skew()"
   ]
  },
  {
   "cell_type": "code",
   "execution_count": null,
   "id": "53b6ef65",
   "metadata": {},
   "outputs": [],
   "source": [
    "# Obtención de la asimetría tras agregar las columnas transformadas\n",
    "Master['recency_t']= Master['recency']**(1/3)\n",
    "Master['Avg_dias_t'] = Master['Avg_dias']**(1/5)\n",
    "Master['distancia_t'] = Master['distancia']**1\n",
    "Master['total_min_t'] = Master['total_min']**(1/3)\n",
    "Master['num_reincidencia_t'] = Master['num_reincidencia']**(1/3)\n",
    "Master['mes_t']= Master['mes']**(1)\n",
    "\n",
    "Master.skew()"
   ]
  },
  {
   "cell_type": "code",
   "execution_count": null,
   "id": "4c21d081",
   "metadata": {},
   "outputs": [],
   "source": [
    "# Obtención de la media general\n",
    "Master.mean(axis = 0)"
   ]
  },
  {
   "cell_type": "code",
   "execution_count": null,
   "id": "8157dce4",
   "metadata": {},
   "outputs": [],
   "source": [
    "# Asignación de ids\n",
    "IDs = Master['Usuario_Id']"
   ]
  },
  {
   "cell_type": "code",
   "execution_count": null,
   "id": "4db2cabd",
   "metadata": {},
   "outputs": [],
   "source": [
    "# Creación del dataset final, utilizando las variables transformadas\n",
    "Master_t = Master.drop(columns= {'Usuario_Id','recency', 'Avg_dias','distancia', 'total_min', 'num_reincidencia', 'mes'})\n",
    "Master_t.head()"
   ]
  },
  {
   "cell_type": "code",
   "execution_count": null,
   "id": "a8afdc6d",
   "metadata": {},
   "outputs": [],
   "source": [
    "# Llenar los valores nulos con 0\n",
    "Master_t = Master_t.fillna(0)\n",
    "# Estandarización de los valores\n",
    "Master_scaled = sklearn.preprocessing.StandardScaler().fit_transform(Master_t)\n",
    "Master_scaled = pd.DataFrame(Master_scaled)\n",
    "Master_scaled.columns = Master_t.columns\n",
    "Master_scaled.head()"
   ]
  },
  {
   "cell_type": "code",
   "execution_count": null,
   "id": "0246c3f5",
   "metadata": {},
   "outputs": [],
   "source": [
    "# Medias del dataset escalado\n",
    "Master_scaled.mean(axis=0)"
   ]
  },
  {
   "cell_type": "code",
   "execution_count": null,
   "id": "056cadfe",
   "metadata": {},
   "outputs": [],
   "source": [
    "# Confirmación de las columnas principales\n",
    "Master_t.columns"
   ]
  },
  {
   "cell_type": "code",
   "execution_count": null,
   "id": "5c0f8389",
   "metadata": {},
   "outputs": [],
   "source": [
    "# Obtención de los valores máximos y mínimos\n",
    "recency_min = Master_t['recency_t'].min()\n",
    "recency_max = Master_t['recency_t'].max()\n",
    "Avg_dias_min =Master_t['Avg_dias_t'].min()\n",
    "Avg_dias_max =Master_t['Avg_dias_t'].max()\n",
    "distancia_min =Master_t['distancia_t'].min()\n",
    "distancia_max =Master_t['distancia_t'].max()\n",
    "total_min_min =Master_t['total_min_t'].min()\n",
    "total_min_max =Master_t['total_min_t'].max()\n",
    "num_reincidencia_min =Master_t['num_reincidencia_t'].min()\n",
    "num_reincidencia_max =Master_t['num_reincidencia_t'].max()\n",
    "mes_min =Master_t['mes_t'].min()\n",
    "mes_max =Master_t['mes_t'].max()"
   ]
  },
  {
   "cell_type": "code",
   "execution_count": null,
   "id": "22519b09",
   "metadata": {},
   "outputs": [],
   "source": [
    "# Creación del clúster con los valores mínimos\n",
    "MinFirstCluster = Master_t[['recency_t', 'Avg_dias_t', 'distancia_t', 'total_min_t',\n",
    "       'num_reincidencia_t', 'mes_t']].min()\n",
    "MinFirstCluster = pd.DataFrame(MinFirstCluster)\n",
    "MinFirstCluster.columns = [\"Minimums\"]\n",
    "MinFirstCluster = MinFirstCluster.reset_index()\n",
    "MinFirstCluster"
   ]
  },
  {
   "cell_type": "code",
   "execution_count": null,
   "id": "2e83c262",
   "metadata": {},
   "outputs": [],
   "source": [
    "# Creación del clúster con los valores máximos\n",
    "MaxFirstCluster = Master_t[['recency_t', 'Avg_dias_t', 'distancia_t', 'total_min_t',\n",
    "       'num_reincidencia_t', 'mes_t']].max()\n",
    "MaxFirstCluster = pd.DataFrame(MaxFirstCluster)\n",
    "MaxFirstCluster.columns = [\"Maximums\"]\n",
    "MaxFirstCluster = MaxFirstCluster.reset_index()\n",
    "MaxFirstCluster"
   ]
  },
  {
   "cell_type": "code",
   "execution_count": null,
   "id": "1fa2a18a",
   "metadata": {},
   "outputs": [],
   "source": [
    "# Unión de los clústers mínimo y máximo\n",
    "MinMaxFirstCLuster = pd.merge(MinFirstCluster, MaxFirstCluster, how='left', on = 'index')\n",
    "MinMaxFirstCLuster"
   ]
  },
  {
   "cell_type": "code",
   "execution_count": null,
   "id": "ded6c3f8",
   "metadata": {},
   "outputs": [],
   "source": [
    "# Definir la transformación a realizar/realizada en el dataset\n",
    "MinMaxFirstCLuster['Cluster'] = 'Initial'\n",
    "MinMaxFirstCLuster['Transformation'] = 0\n",
    "MinMaxFirstCLuster['Transformation'][0] = 1/3\n",
    "MinMaxFirstCLuster['Transformation'][1] = 1/5\n",
    "MinMaxFirstCLuster['Transformation'][2] = 1\n",
    "MinMaxFirstCLuster['Transformation'][3] = 1/3\n",
    "MinMaxFirstCLuster['Transformation'][4] = 1/3\n",
    "MinMaxFirstCLuster['Transformation'][5] = 1\n",
    "\n",
    "MinMaxFirstCLuster"
   ]
  },
  {
   "cell_type": "code",
   "execution_count": null,
   "id": "3ffd0489",
   "metadata": {},
   "outputs": [],
   "source": [
    "# Verificar las columnas del dataset principal escalado\n",
    "Master_scaled.columns"
   ]
  },
  {
   "cell_type": "code",
   "execution_count": null,
   "id": "9c34c9ac",
   "metadata": {},
   "outputs": [],
   "source": [
    "# Aplicación del método del codo para la obtención de número de clúster óptimos\n",
    "distortions = []\n",
    "K = range(1,8)\n",
    "for k in K:\n",
    "    kmeanModel = KMeans(n_clusters=k)\n",
    "    kmeanModel.fit(Master_scaled)\n",
    "    distortions.append(kmeanModel.inertia_)\n",
    "    \n",
    "plt.figure(figsize = (16,8))\n",
    "plt.plot(K, distortions, 'bx-')\n",
    "plt.xlabel('k')\n",
    "plt.title('Grafica de codo mostrando la K optima')\n",
    "plt.show()"
   ]
  },
  {
   "cell_type": "code",
   "execution_count": null,
   "id": "8a8f9729",
   "metadata": {},
   "outputs": [],
   "source": [
    "# Creación de la instancia del modelo Kmeans \n",
    "Master_scaled = Master_scaled\n",
    "kmeans = KMeans()\n",
    "# Generar los clusters dado el dataset escalado\n",
    "Master_scaled[\"Cluster\"] = kmeans.fit_predict(Master_scaled)\n",
    "Master_scaled[\"Cluster\"] = Master_scaled[\"Cluster\"].astype(\"category\")"
   ]
  },
  {
   "cell_type": "code",
   "execution_count": null,
   "id": "66344a20",
   "metadata": {},
   "outputs": [],
   "source": [
    "# Obtención de los centeroides\n",
    "centroids = kmeans.cluster_centers_\n",
    "centroids"
   ]
  },
  {
   "cell_type": "code",
   "execution_count": null,
   "id": "76453a22",
   "metadata": {},
   "outputs": [],
   "source": [
    "# Exportar el modelo \n",
    "pickle.dump(kmeans, open('clasificador.pkl', 'wb'))"
   ]
  },
  {
   "cell_type": "code",
   "execution_count": null,
   "id": "5a8e450f",
   "metadata": {},
   "outputs": [],
   "source": [
    "# Dataset principal una vez asignado el clúster\n",
    "Master_scaled"
   ]
  },
  {
   "cell_type": "code",
   "execution_count": null,
   "id": "b389fc3e",
   "metadata": {},
   "outputs": [],
   "source": [
    "# Conteo de valores de mes_t en función de cluster\n",
    "conteo = pd.pivot_table(Master_scaled, values = 'mes_t', index = ['Cluster'], aggfunc ='count')\n",
    "conteo = conteo.reset_index()"
   ]
  },
  {
   "cell_type": "code",
   "execution_count": null,
   "id": "d90b4b47",
   "metadata": {},
   "outputs": [],
   "source": [
    "conteo"
   ]
  },
  {
   "cell_type": "code",
   "execution_count": null,
   "id": "d9f4f505",
   "metadata": {},
   "outputs": [],
   "source": [
    "# Unión del dataset principal con el cluster \n",
    "Master = pd.merge(Master, Master_scaled['Cluster'], right_index = True, left_index=True)"
   ]
  },
  {
   "cell_type": "code",
   "execution_count": null,
   "id": "e72057cf",
   "metadata": {},
   "outputs": [],
   "source": [
    "# Confirmación de las columnas finales \n",
    "Master.columns"
   ]
  },
  {
   "cell_type": "code",
   "execution_count": null,
   "id": "0cae0026",
   "metadata": {},
   "outputs": [],
   "source": [
    "# Descripción de los clusters a detalle \n",
    "Grupos = pd.pivot_table(Master, values = ['recency', 'Avg_dias', 'distancia', 'total_min', 'num_reincidencia', 'mes'],\n",
    "                        index = ['Cluster'], aggfunc ='mean')\n",
    "Grupos = Grupos.reset_index()\n",
    "Grupos"
   ]
  },
  {
   "cell_type": "code",
   "execution_count": null,
   "id": "1852f3ac",
   "metadata": {},
   "outputs": [],
   "source": [
    "# Exportación de los datos con el formato necesario para el modelo\n",
    "Master.to_csv('DataModelo.csv',encoding='UTF-8')\n",
    "print(\"Success\")"
   ]
  }
 ],
 "metadata": {
  "kernelspec": {
   "display_name": "Python 3 (ipykernel)",
   "language": "python",
   "name": "python3"
  },
  "language_info": {
   "codemirror_mode": {
    "name": "ipython",
    "version": 3
   },
   "file_extension": ".py",
   "mimetype": "text/x-python",
   "name": "python",
   "nbconvert_exporter": "python",
   "pygments_lexer": "ipython3",
   "version": "3.9.7"
  }
 },
 "nbformat": 4,
 "nbformat_minor": 5
}
