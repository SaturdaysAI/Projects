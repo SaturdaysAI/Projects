{
 "cells": [
  {
   "cell_type": "markdown",
   "id": "9ddb4a40",
   "metadata": {},
   "source": [
    "# Proyecto Mi Bici"
   ]
  },
  {
   "cell_type": "code",
   "execution_count": null,
   "id": "e977a967",
   "metadata": {},
   "outputs": [],
   "source": [
    "# Importación de librerías\n",
    "import pandas as pd\n",
    "import numpy as np\n",
    "import plotly as plt\n",
    "import seaborn as sns\n",
    "import matplotlib.pyplot as plt\n",
    "from datetime import datetime\n",
    "import warnings\n",
    "import plotly.express as px\n",
    "warnings.filterwarnings('ignore')\n",
    "from geopy.distance import geodesic"
   ]
  },
  {
   "cell_type": "code",
   "execution_count": null,
   "id": "e38f656a",
   "metadata": {},
   "outputs": [],
   "source": [
    "# Creación del dataset mediante una unión de diversos archivos \n",
    "data= pd.DataFrame()\n",
    "# Lista de meses disponibles\n",
    "months =[\"01\",\"02\",\"03\", \"04\",\"05\",\"06\",\"07\", \"08\", \"09\", \"10\"]\n",
    "for i in months:\n",
    "    path= \"datos_base/datos_abiertos_2022_\"\n",
    "    t_data=pd.read_csv(path + i +\".csv\", encoding='latin-1')\n",
    "    data= data.append(t_data)"
   ]
  },
  {
   "cell_type": "code",
   "execution_count": null,
   "id": "e7badc8e",
   "metadata": {},
   "outputs": [],
   "source": [
    "# Lectura del dataset nomenclatura, que representa las estaciones de MiBici\n",
    "path = \"datos_base/\"\n",
    "nomen = pd.read_csv(path + \"nomenclatura_2022_10.csv\", encoding='latin-1')"
   ]
  },
  {
   "cell_type": "code",
   "execution_count": null,
   "id": "6edd9c60",
   "metadata": {},
   "outputs": [],
   "source": [
    "# Datasets de estaciones MiBici\n",
    "nomen"
   ]
  },
  {
   "cell_type": "code",
   "execution_count": null,
   "id": "2eb371e3",
   "metadata": {},
   "outputs": [],
   "source": [
    "# Dataset principal\n",
    "data.head(5)\n",
    "data2 = data\n",
    "data"
   ]
  },
  {
   "cell_type": "code",
   "execution_count": null,
   "id": "7394694c",
   "metadata": {},
   "outputs": [],
   "source": [
    "# Primero 5 registros de las estaciones de MiBici\n",
    "nomen.head(5)"
   ]
  },
  {
   "cell_type": "code",
   "execution_count": null,
   "id": "cd9f341b",
   "metadata": {},
   "outputs": [],
   "source": [
    "# Detalles del dataset de viajes\n",
    "data.info()"
   ]
  },
  {
   "cell_type": "code",
   "execution_count": null,
   "id": "ff5a9bdf",
   "metadata": {},
   "outputs": [],
   "source": [
    "# Detalles del dataset de estaciones MiBici\n",
    "nomen.info()"
   ]
  },
  {
   "cell_type": "code",
   "execution_count": null,
   "id": "3414771d",
   "metadata": {},
   "outputs": [],
   "source": [
    "# Conteo de datos nules en el dataset de viajes\n",
    "data.isnull().sum()"
   ]
  },
  {
   "cell_type": "code",
   "execution_count": null,
   "id": "ebed03eb",
   "metadata": {},
   "outputs": [],
   "source": [
    "# Forma del dataset principal\n",
    "data.shape"
   ]
  },
  {
   "cell_type": "code",
   "execution_count": null,
   "id": "1d4dd576",
   "metadata": {},
   "outputs": [],
   "source": [
    "# Estadística descriptiva del dataset de viajes\n",
    "data.describe().T"
   ]
  },
  {
   "cell_type": "code",
   "execution_count": null,
   "id": "27c89c15",
   "metadata": {},
   "outputs": [],
   "source": [
    "# Obtención de diferencia del tiempo de viaje & transformación de datos a tipo fecha\n",
    "data['Fin_del_viaje']= pd.to_datetime(data['Fin_del_viaje'])\n",
    "data['Inicio_del_viaje']=pd.to_datetime(data['Inicio_del_viaje'])\n",
    "data['total_min'] = (data['Fin_del_viaje'] - data['Inicio_del_viaje'])\n",
    "data['total_min'] = data['total_min'].astype('timedelta64[m]')"
   ]
  },
  {
   "cell_type": "code",
   "execution_count": null,
   "id": "6547a353",
   "metadata": {},
   "outputs": [],
   "source": [
    "# Unión de los datos para detalle de estación de inicio\n",
    "data = pd.merge(data, nomen[['id', 'name', 'obcn', 'location', 'longitude','latitude']], how='left',left_on=['Origen_Id'],right_on=['id'])\n",
    "data.columns =['Viaje_Id', 'Usuario_Id', 'Genero', 'Año_de_nacimiento','Inicio_del_viaje', 'Fin_del_viaje', 'Origen_Id', 'Destino_Id',\n",
    "       'total_min', 'id_origen', 'name_origen', 'obcn_origen', 'location_origen', 'longitude_origen', 'latitude_origen']\n",
    "# Unión de los datos para detalle de estación de destino\n",
    "data = pd.merge(data, nomen[['id', 'name', 'obcn', 'location', 'longitude','latitude']], how='left',left_on=['Destino_Id'],right_on=['id'])\n",
    "data.columns =['Viaje_Id', 'Usuario_Id', 'Genero', 'Año_de_nacimiento','Inicio_del_viaje', 'Fin_del_viaje', 'Origen_Id', 'Destino_Id',\n",
    "       'total_min', 'id_origen', 'name_origen', 'obcn_origen', 'location_origen', 'longitude_origen', 'latitude_origen', \n",
    "               'id_destino', 'name_destino', 'obcn_destino', 'location_destino', 'longitude_destino', 'latitude_destino']"
   ]
  },
  {
   "cell_type": "code",
   "execution_count": null,
   "id": "83c35971",
   "metadata": {},
   "outputs": [],
   "source": [
    "# Resultados de la unión\n",
    "data"
   ]
  },
  {
   "cell_type": "code",
   "execution_count": null,
   "id": "2f609650",
   "metadata": {},
   "outputs": [],
   "source": [
    "# Primeros dos Registros tras la unión\n",
    "data.head(2)"
   ]
  },
  {
   "cell_type": "code",
   "execution_count": null,
   "id": "53e6739f",
   "metadata": {},
   "outputs": [],
   "source": [
    "# Transformación sugerida\n",
    "# def geodesic_calc(lat1, lng1, lat2, lng2):\n",
    "#    return geodesic((lat1,lng1), (lat2,lng2)).kilometers"
   ]
  },
  {
   "cell_type": "code",
   "execution_count": null,
   "id": "1f8c248b",
   "metadata": {},
   "outputs": [],
   "source": [
    "#data['distancia'] = data.apply(lambda row : geodesic_calc(row['latitude_origen'],row['longitude_origen'], row['latitude_destino'], row['longitude_destino']), axis = 1)"
   ]
  },
  {
   "cell_type": "code",
   "execution_count": null,
   "id": "0af7c10a",
   "metadata": {},
   "outputs": [],
   "source": [
    "# Inicialización de la característica distancia en 0\n",
    "data['distancia']=0\n",
    "# Obtención de la distancia geodésica, representada en kilómetros \n",
    "for i in range(len(data['distancia'])):\n",
    "    lat1 = data['latitude_origen'][i]\n",
    "    lon1 = data['longitude_origen'][i]\n",
    "\n",
    "    lat2 = data['latitude_destino'][i]\n",
    "    lon2 = data['longitude_destino'][i]\n",
    "\n",
    "    data['distancia'][i]= geodesic((lat1,lon1), (lat2,lon2)).kilometers"
   ]
  },
  {
   "cell_type": "code",
   "execution_count": null,
   "id": "926cab38",
   "metadata": {},
   "outputs": [],
   "source": [
    "data.total_min[6]"
   ]
  },
  {
   "cell_type": "code",
   "execution_count": null,
   "id": "4482659a",
   "metadata": {},
   "outputs": [],
   "source": [
    "# Exportar el dataset con distancias y tiempos\n",
    "data.to_csv('Data.csv',encoding='UTF-8')\n",
    "print(\"Success\")"
   ]
  },
  {
   "cell_type": "code",
   "execution_count": null,
   "id": "a92cca45",
   "metadata": {},
   "outputs": [],
   "source": [
    "# Graficación de las estaciones de MiBici\n",
    "fig_map = px.scatter_mapbox(nomen, lat=\"latitude\", \n",
    "                            lon=\"longitude\", mapbox_style=\"stamen-toner\", \n",
    "                            color_discrete_sequence=[\"red\"], zoom=11, \n",
    "                            center = {\"lat\": 20.676820, \"lon\": -103.3418228},opacity=1)\n",
    "fig_map.show()"
   ]
  },
  {
   "cell_type": "code",
   "execution_count": null,
   "id": "8c94e04c",
   "metadata": {},
   "outputs": [],
   "source": [
    "# Graficar la frecuencia del tiempo de uso en minutos\n",
    "data['total_min'].hist(bins=20, color='red',align='mid')\n",
    "plt.title('Histograma de Tiempo de uso')\n",
    "plt.xlabel('minutos')\n",
    "plt.ylabel('Frecuencia')\n",
    "\n",
    "plt.show()"
   ]
  },
  {
   "cell_type": "code",
   "execution_count": null,
   "id": "66a2cfe4",
   "metadata": {},
   "outputs": [],
   "source": [
    "# Generar una tabla con rangos de usos basados en el total de minutos de uso\n",
    "r11=data\n",
    "condition = (r11['total_min'] >1) & (r11['total_min'] <=10)\n",
    "r11.loc[condition, ['range min']] = \"0-10\"\n",
    "condition = (r11['total_min'] >10) & (r11['total_min'] <=20)\n",
    "r11.loc[condition, ['range min']] = \"20-40\"\n",
    "condition = (r11['total_min'] >20) & (r11['total_min'] <=30)\n",
    "r11.loc[condition, ['range min']] = \"20-30\"\n",
    "condition = (r11['total_min'] >30) & (r11['total_min'] <=40)\n",
    "r11.loc[condition, ['range min']] = \"30-40\"\n",
    "condition = (r11['total_min'] >40) & (r11['total_min'] <=50)\n",
    "r11.loc[condition, ['range min']] = \"40-50\"\n",
    "condition = (r11['total_min'] >50) & (r11['total_min'] <=60)\n",
    "r11.loc[condition, ['range min']] = \"40-50\"\n",
    "condition = (r11['total_min'] >60) & (r11['total_min'] <=120)\n",
    "r11.loc[condition, ['range min']] = \"60-120\"\n",
    "condition = (r11['total_min'] >120)\n",
    "r11.loc[condition, ['range min']] = \">120\"\n",
    "\n",
    "r11= pd.pivot_table(data, values = 'total_min', index = ['range min'], aggfunc ='count').fillna(0)\n"
   ]
  },
  {
   "cell_type": "code",
   "execution_count": null,
   "id": "ff090d21",
   "metadata": {},
   "outputs": [],
   "source": [
    "# Resultado de los rangos\n",
    "r11"
   ]
  },
  {
   "cell_type": "code",
   "execution_count": null,
   "id": "3caef6f0",
   "metadata": {},
   "outputs": [],
   "source": [
    "# \n",
    "fig = px.bar(r11, x= r11.index, y='total_min')\n",
    "fig.show()"
   ]
  },
  {
   "cell_type": "code",
   "execution_count": null,
   "id": "a08cf915",
   "metadata": {
    "scrolled": true
   },
   "outputs": [],
   "source": [
    "# Obtener las columnas de tipo numérico\n",
    "# para graficarlas mediante box plots\n",
    "num_columns = data._get_numeric_data().columns\n",
    "plt.figure(figsize=(10,20))\n",
    "for i,col in enumerate(num_columns,1):\n",
    "     plt.subplot(14,1,i)\n",
    "     sns.boxplot(data[col])\n",
    "     plt.ylabel(col)\n",
    "plt.show()"
   ]
  },
  {
   "cell_type": "code",
   "execution_count": null,
   "id": "6ee03197",
   "metadata": {},
   "outputs": [],
   "source": [
    "# Obtener el nombre del día \n",
    "data['dia'] = data['Inicio_del_viaje'].dt.weekday\n",
    "data['nomdia'] = 0\n",
    "days = ['Lunes', 'Martes', 'Miercoles', 'Jueves', 'Viernes', 'Sabado', 'Domingo']\n",
    "for i in range(len(data['dia'])):\n",
    "    data['nomdia'][i] = days[data['dia'][i]]"
   ]
  },
  {
   "cell_type": "code",
   "execution_count": null,
   "id": "23eb892c",
   "metadata": {},
   "outputs": [],
   "source": [
    "# Graficar frecuencia de uso de MiBici por día de la semana\n",
    "fig = px.pie(data, values='dia', names='nomdia', title='Días más frecuentes')\n",
    "fig.show()"
   ]
  },
  {
   "cell_type": "code",
   "execution_count": null,
   "id": "aa5805d5",
   "metadata": {},
   "outputs": [],
   "source": [
    "# Verificación de la nueva estructura de datos\n",
    "data.head(2)"
   ]
  },
  {
   "cell_type": "code",
   "execution_count": null,
   "id": "0c7d40c3",
   "metadata": {},
   "outputs": [],
   "source": [
    "# Nuevas Columnas\n",
    "data.columns"
   ]
  },
  {
   "cell_type": "code",
   "execution_count": null,
   "id": "234afdbd",
   "metadata": {},
   "outputs": [],
   "source": [
    "# Pivote 20 origen mas usados\n",
    "data_origen = pd.pivot_table(data, values = 'obcn_origen', index = ['id_origen'], aggfunc ='count').fillna(0)\n",
    "data_origen = data_origen.sort_values(by=['obcn_origen'], ascending=False)\n",
    "data_origen = data_origen.reset_index()\n",
    "data_origen = data_origen.loc[:15]\n",
    "fig = px.pie(data_origen, values='obcn_origen', names='id_origen', title='Origen más frecuente')\n",
    "fig.show()\n",
    "data_origen"
   ]
  },
  {
   "cell_type": "code",
   "execution_count": null,
   "id": "86fd306b",
   "metadata": {},
   "outputs": [],
   "source": [
    "# Pivote 20 destinos mas usados\n",
    "data_destino = pd.pivot_table(data, values = 'obcn_destino', index = ['id_destino'], aggfunc ='count').fillna(0)\n",
    "data_destino =data_destino.sort_values(by=['obcn_destino'], ascending=False)\n",
    "data_destino = data_destino.reset_index()\n",
    "data_destino =data_destino.loc[:15]\n",
    "fig = px.pie(data_destino, values='obcn_destino', names='id_destino', title='Destino más frecuente')\n",
    "fig.show()\n",
    "data_destino"
   ]
  },
  {
   "cell_type": "code",
   "execution_count": 1,
   "id": "c513be7a",
   "metadata": {},
   "outputs": [],
   "source": [
    "#fig_map = px.scatter_mapbox(data_origen, lat=\"latitude\", lon=\"longitude\", mapbox_style=\"stamen-toner\", color_discrete_sequence=[\"red\"],\n",
    " #                           zoom=11, center = {\"lat\": 20.676820, \"lon\": -103.3418228},opacity=1)\n",
    "#fig_map.show()"
   ]
  },
  {
   "cell_type": "code",
   "execution_count": null,
   "id": "089d4fb0",
   "metadata": {},
   "outputs": [],
   "source": [
    "#Histograma de distancia\n",
    "data['distancia'].hist(bins=20, color='red',align='mid', grid=False)\n",
    "plt.title('distancia')\n",
    "plt.show()"
   ]
  },
  {
   "cell_type": "code",
   "execution_count": null,
   "id": "ea0bf278",
   "metadata": {},
   "outputs": [],
   "source": [
    "#mapa de top 15 estaciones de origen\n",
    "data_origen['size'] = 0\n",
    "for i in range(len(data_origen)):\n",
    "    data_origen['size'][i] = i\n",
    "\n",
    "\n",
    "fig_map = px.scatter_mapbox(data_origen, lat=\"latitude\", lon=\"longitude\", mapbox_style=\"stamen-toner\", color_discrete_sequence=[\"green\"],\n",
    "                            zoom=11, center = {\"lat\": 20.676820, \"lon\": -103.3418228},opacity=1, size=\"size\")\n",
    "fig_map.show()"
   ]
  },
  {
   "cell_type": "code",
   "execution_count": null,
   "id": "27c8a307",
   "metadata": {},
   "outputs": [],
   "source": [
    "#mapa de top 15 estaciones de destino\n",
    "data_destino['size'] = 0\n",
    "for i in range(len(data_destino)):\n",
    "    data_destino['size'][i] = i\n",
    "\n",
    "fig_map = px.scatter_mapbox(data_destino, lat=\"latitude\", lon=\"longitude\", mapbox_style=\"stamen-toner\", color_discrete_sequence=[\"blue\"],\n",
    "                            zoom=11, center = {\"lat\": 20.676820, \"lon\": -103.3418228},opacity=1, size=\"size\")\n",
    "fig_map.show()"
   ]
  }
 ],
 "metadata": {
  "kernelspec": {
   "display_name": "Python 3 (ipykernel)",
   "language": "python",
   "name": "python3"
  },
  "language_info": {
   "codemirror_mode": {
    "name": "ipython",
    "version": 3
   },
   "file_extension": ".py",
   "mimetype": "text/x-python",
   "name": "python",
   "nbconvert_exporter": "python",
   "pygments_lexer": "ipython3",
   "version": "3.9.7"
  }
 },
 "nbformat": 4,
 "nbformat_minor": 5
}
