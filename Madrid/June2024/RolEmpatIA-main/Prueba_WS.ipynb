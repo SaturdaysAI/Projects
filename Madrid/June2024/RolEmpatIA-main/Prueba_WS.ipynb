{
  "nbformat": 4,
  "nbformat_minor": 0,
  "metadata": {
    "colab": {
      "provenance": []
    },
    "kernelspec": {
      "name": "python3",
      "display_name": "Python 3"
    },
    "language_info": {
      "name": "python"
    }
  },
  "cells": [
    {
      "cell_type": "code",
      "execution_count": 1,
      "metadata": {
        "colab": {
          "base_uri": "https://localhost:8080/"
        },
        "id": "cAWSVZW4qX2E",
        "outputId": "05299538-42d6-4ecd-c1d2-b0d0a7c81758"
      },
      "outputs": [
        {
          "output_type": "stream",
          "name": "stdout",
          "text": [
            "Requirement already satisfied: requests in /usr/local/lib/python3.10/dist-packages (2.31.0)\n",
            "Requirement already satisfied: charset-normalizer<4,>=2 in /usr/local/lib/python3.10/dist-packages (from requests) (3.3.2)\n",
            "Requirement already satisfied: idna<4,>=2.5 in /usr/local/lib/python3.10/dist-packages (from requests) (3.7)\n",
            "Requirement already satisfied: urllib3<3,>=1.21.1 in /usr/local/lib/python3.10/dist-packages (from requests) (2.0.7)\n",
            "Requirement already satisfied: certifi>=2017.4.17 in /usr/local/lib/python3.10/dist-packages (from requests) (2024.6.2)\n",
            "Requirement already satisfied: beautifulsoup4 in /usr/local/lib/python3.10/dist-packages (4.12.3)\n",
            "Requirement already satisfied: soupsieve>1.2 in /usr/local/lib/python3.10/dist-packages (from beautifulsoup4) (2.5)\n"
          ]
        }
      ],
      "source": [
        "!pip install requests\n",
        "!pip install beautifulsoup4\n",
        "import requests\n",
        "from bs4 import BeautifulSoup\n",
        "import pandas as pd"
      ]
    },
    {
      "cell_type": "code",
      "source": [
        "url = 'https://www.comunidadumbria.com/partida/noches-venecianas-2/capitulo-uno-los-sotanos-de-venecia?__Pg=1'\n",
        "response = requests.get(url)"
      ],
      "metadata": {
        "id": "OFp5JV82ylLT"
      },
      "execution_count": 2,
      "outputs": []
    },
    {
      "cell_type": "code",
      "source": [
        "soup = BeautifulSoup(response.text, 'html.parser')"
      ],
      "metadata": {
        "id": "MWLt3OfOywyg"
      },
      "execution_count": 3,
      "outputs": []
    },
    {
      "cell_type": "code",
      "source": [
        "# Listas para almacenar los datos extraídos\n",
        "usernames = []\n",
        "intervenciones = []\n",
        "dialogos = []\n",
        "contextos = []\n",
        "fechas_horas = []\n",
        "tiradas = []\n",
        "\n",
        "# Buscar todos los mensajes (intervenciones)\n",
        "for mensaje_div in soup.find_all('div', class_='mensaje'):\n",
        "    # Extraer el nombre de usuario\n",
        "    username_tag = mensaje_div.find(class_='username')\n",
        "    username = username_tag.text if username_tag else None\n",
        "    usernames.append(username)\n",
        "\n",
        "    # Extraer el diálogo dentro de <p><strong></strong></p> en <div class=\"texto\">\n",
        "    texto_div = mensaje_div.find('div', class_='texto')\n",
        "    if texto_div:\n",
        "        p_tag = texto_div.find('p')\n",
        "        if p_tag:\n",
        "            strong_tag = p_tag.find('strong')\n",
        "            dialogo = strong_tag.text if strong_tag else None\n",
        "        else:\n",
        "            dialogo = None\n",
        "    else:\n",
        "        dialogo = None\n",
        "    dialogos.append(dialogo)\n",
        "\n",
        "    # Extraer el contexto dentro de <p> en <div class=\"texto\">\n",
        "    contexto_tag = texto_div.find('p') if texto_div else None\n",
        "    contexto = contexto_tag.text if contexto_tag else None\n",
        "    contextos.append(contexto)\n",
        "\n",
        "    # Extraer la fecha y hora desde class=\"fecha\"\n",
        "    fecha_hora_tag = mensaje_div.find(class_='fecha')\n",
        "    fecha_hora = fecha_hora_tag.text if fecha_hora_tag else None\n",
        "    fechas_horas.append(fecha_hora)\n",
        "\n",
        "    # Extraer la tirada desde class=\"tiradas\"\n",
        "    tirada_tag = mensaje_div.find(class_='tiradas')\n",
        "    tirada = tirada_tag.text if tirada_tag else None\n",
        "    tiradas.append(tirada)\n",
        "\n"
      ],
      "metadata": {
        "id": "xzwleneEyxb1"
      },
      "execution_count": 8,
      "outputs": []
    },
    {
      "cell_type": "code",
      "source": [
        "\n",
        "# Crear un DataFrame con los datos extraídos\n",
        "df = pd.DataFrame({\n",
        "    'Usuario': usernames,\n",
        "    'Diálogo': dialogos,\n",
        "    'Contexto': contextos,\n",
        "    'Fecha_Hora': fechas_horas,\n",
        "    'Tirada': tiradas\n",
        "})\n",
        "\n",
        "\n"
      ],
      "metadata": {
        "id": "BfZmjG7hzLmy"
      },
      "execution_count": 9,
      "outputs": []
    },
    {
      "cell_type": "code",
      "source": [
        "# Exportar a CSV\n",
        "df.to_csv('foro_rol_dataset.csv', index=False)"
      ],
      "metadata": {
        "id": "Y1hv_c1P0g2w"
      },
      "execution_count": 10,
      "outputs": []
    },
    {
      "cell_type": "code",
      "source": [
        "print(df.head())"
      ],
      "metadata": {
        "colab": {
          "base_uri": "https://localhost:8080/"
        },
        "id": "iEzK-Vsr0h6D",
        "outputId": "b988b420-ea04-4146-a01a-1394cdebc1f2"
      },
      "execution_count": 11,
      "outputs": [
        {
          "output_type": "stream",
          "name": "stdout",
          "text": [
            "  Usuario Diálogo                                           Contexto  \\\n",
            "0    None    None  El aire de la posada estaba cargado del olor a...   \n",
            "1    None    None  No me gustaba el ambiente interior de aquel lu...   \n",
            "2    None    None                                               None   \n",
            "3    None    None  Francesco echo un vistazo rápido a su alrededo...   \n",
            "4    None    None  El lugar es interesante y acogedor. Está claro...   \n",
            "\n",
            "                      Fecha_Hora  \\\n",
            "0  \\n\\t\\t\\t03/04/2019, 19:52\\t\\t   \n",
            "1  \\n\\t\\t\\t05/04/2019, 09:01\\t\\t   \n",
            "2  \\n\\t\\t\\t05/04/2019, 09:19\\t\\t   \n",
            "3  \\n\\t\\t\\t05/04/2019, 10:51\\t\\t   \n",
            "4  \\n\\t\\t\\t05/04/2019, 11:09\\t\\t   \n",
            "\n",
            "                                              Tirada  \n",
            "0                                               None  \n",
            "1                                               None  \n",
            "2  \\n- Tiradas (1)\\n\\n\\nMotivo: Leer el alma (Aus...  \n",
            "3                                               None  \n",
            "4                                               None  \n"
          ]
        }
      ]
    },
    {
      "cell_type": "code",
      "source": [
        "from google.colab import drive\n",
        "drive.mount('/content/drive')"
      ],
      "metadata": {
        "colab": {
          "base_uri": "https://localhost:8080/"
        },
        "id": "HnBg-8MY5ZFW",
        "outputId": "234a3f36-2e85-48ee-a96e-c6d5413176cc"
      },
      "execution_count": 12,
      "outputs": [
        {
          "output_type": "stream",
          "name": "stdout",
          "text": [
            "Mounted at /content/drive\n"
          ]
        }
      ]
    },
    {
      "cell_type": "code",
      "source": [
        "# Ruta de la carpeta en tu Google Drive\n",
        "folder_path = '/content/drive/My Drive/Colab Notebooks/'\n",
        "\n",
        "# Guardar el archivo CSV en la carpeta especificada\n",
        "csv_pruebaws = 'foro_rol_dataset_final.csv'\n",
        "df.to_csv(folder_path + csv_pruebaws, index=False)\n",
        "\n",
        "print(f\"El archivo CSV se ha guardado correctamente en: {folder_path + csv_pruebaws}\")"
      ],
      "metadata": {
        "colab": {
          "base_uri": "https://localhost:8080/"
        },
        "id": "HJzESolG0_mB",
        "outputId": "7cb96e89-db3e-4e37-8360-c00952600e67"
      },
      "execution_count": 13,
      "outputs": [
        {
          "output_type": "stream",
          "name": "stdout",
          "text": [
            "El archivo CSV se ha guardado correctamente en: /content/drive/My Drive/Colab Notebooks/foro_rol_dataset_final.csv\n"
          ]
        }
      ]
    },
    {
      "cell_type": "code",
      "source": [],
      "metadata": {
        "id": "214qH8lC5XXr"
      },
      "execution_count": null,
      "outputs": []
    }
  ]
}