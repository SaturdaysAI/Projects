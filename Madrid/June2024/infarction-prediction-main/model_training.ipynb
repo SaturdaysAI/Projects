{
 "cells": [
  {
   "cell_type": "markdown",
   "source": [
    "# # DATA EXPLORATION AND MODELING FOR ECG DATA"
   ],
   "metadata": {
    "collapsed": false
   },
   "id": "6e329170de0a0004"
  },
  {
   "cell_type": "markdown",
   "source": [
    "## Import Libraries"
   ],
   "metadata": {
    "collapsed": false
   },
   "id": "6eaa28fdd27c7678"
  },
  {
   "cell_type": "code",
   "execution_count": 1,
   "id": "initial_id",
   "metadata": {
    "collapsed": true,
    "ExecuteTime": {
     "end_time": "2024-06-10T08:05:58.429013Z",
     "start_time": "2024-06-10T08:05:55.997020Z"
    }
   },
   "outputs": [],
   "source": [
    "import pandas as pd\n",
    "import numpy as np\n",
    "import matplotlib.pyplot as plt\n",
    "import seaborn as sns\n",
    "\n",
    "import tensorflow as tf\n",
    "from tensorflow.keras import Sequential\n",
    "from tensorflow.keras.layers import Dense, Input, Dropout, Conv1D, MaxPooling1D, Flatten, BatchNormalization, GlobalAveragePooling1D, LeakyReLU\n",
    "\n",
    "from sklearn.metrics import confusion_matrix, classification_report\n",
    "from sklearn.utils import class_weight\n",
    "from sklearn.preprocessing import StandardScaler\n",
    "\n",
    "from keras.callbacks import EarlyStopping, ModelCheckpoint, ReduceLROnPlateau\n",
    "import pickle"
   ]
  },
  {
   "cell_type": "markdown",
   "source": [
    "## Load the data"
   ],
   "metadata": {
    "collapsed": false
   },
   "id": "e996a7fdac7386f"
  },
  {
   "cell_type": "code",
   "outputs": [],
   "source": [
    "# Load the data from the directory with a sampling rate of 100 Hz using the function load_data_from_directory from data_loading_utils script\n",
    "from data_loading_utils import load_data_from_directory\n",
    "\n",
    "X, Y, df = load_data_from_directory(\"data/\", sampling_rate=100)"
   ],
   "metadata": {
    "collapsed": false,
    "ExecuteTime": {
     "end_time": "2024-06-10T08:06:22.830083Z",
     "start_time": "2024-06-10T08:05:59.094818Z"
    }
   },
   "id": "96c9a1c4235371d5",
   "execution_count": 2
  },
  {
   "cell_type": "markdown",
   "source": [
    "## Data Exploration"
   ],
   "metadata": {
    "collapsed": false
   },
   "id": "8abad7f4093f25a3"
  },
  {
   "cell_type": "code",
   "outputs": [
    {
     "data": {
      "text/plain": "                          description  diagnostic  form  rhythm  \\\nNDT    non-diagnostic T abnormalities         1.0   1.0     NaN   \nNST_          non-specific ST changes         1.0   1.0     NaN   \nDIG                  digitalis-effect         1.0   1.0     NaN   \nLNGQT                long QT-interval         1.0   1.0     NaN   \nNORM                       normal ECG         1.0   NaN     NaN   \n\n      diagnostic_class diagnostic_subclass  \\\nNDT               STTC                STTC   \nNST_              STTC                NST_   \nDIG               STTC                STTC   \nLNGQT             STTC                STTC   \nNORM              NORM                NORM   \n\n                                      Statement Category  \\\nNDT                    other ST-T descriptive statements   \nNST_   Basic roots for coding ST-T changes and abnorm...   \nDIG                    other ST-T descriptive statements   \nLNGQT                  other ST-T descriptive statements   \nNORM                                     Normal/abnormal   \n\n        SCP-ECG Statement Description  AHA code            aECG REFID  \\\nNDT    non-diagnostic T abnormalities       NaN                   NaN   \nNST_          non-specific ST changes     145.0  MDC_ECG_RHY_STHILOST   \nDIG         suggests digitalis-effect     205.0                   NaN   \nLNGQT                long QT-interval     148.0                   NaN   \nNORM                       normal ECG       1.0                   NaN   \n\n      CDISC Code DICOM Code  \nNDT          NaN        NaN  \nNST_         NaN        NaN  \nDIG          NaN        NaN  \nLNGQT        NaN        NaN  \nNORM         NaN    F-000B7  ",
      "text/html": "<div>\n<style scoped>\n    .dataframe tbody tr th:only-of-type {\n        vertical-align: middle;\n    }\n\n    .dataframe tbody tr th {\n        vertical-align: top;\n    }\n\n    .dataframe thead th {\n        text-align: right;\n    }\n</style>\n<table border=\"1\" class=\"dataframe\">\n  <thead>\n    <tr style=\"text-align: right;\">\n      <th></th>\n      <th>description</th>\n      <th>diagnostic</th>\n      <th>form</th>\n      <th>rhythm</th>\n      <th>diagnostic_class</th>\n      <th>diagnostic_subclass</th>\n      <th>Statement Category</th>\n      <th>SCP-ECG Statement Description</th>\n      <th>AHA code</th>\n      <th>aECG REFID</th>\n      <th>CDISC Code</th>\n      <th>DICOM Code</th>\n    </tr>\n  </thead>\n  <tbody>\n    <tr>\n      <th>NDT</th>\n      <td>non-diagnostic T abnormalities</td>\n      <td>1.0</td>\n      <td>1.0</td>\n      <td>NaN</td>\n      <td>STTC</td>\n      <td>STTC</td>\n      <td>other ST-T descriptive statements</td>\n      <td>non-diagnostic T abnormalities</td>\n      <td>NaN</td>\n      <td>NaN</td>\n      <td>NaN</td>\n      <td>NaN</td>\n    </tr>\n    <tr>\n      <th>NST_</th>\n      <td>non-specific ST changes</td>\n      <td>1.0</td>\n      <td>1.0</td>\n      <td>NaN</td>\n      <td>STTC</td>\n      <td>NST_</td>\n      <td>Basic roots for coding ST-T changes and abnorm...</td>\n      <td>non-specific ST changes</td>\n      <td>145.0</td>\n      <td>MDC_ECG_RHY_STHILOST</td>\n      <td>NaN</td>\n      <td>NaN</td>\n    </tr>\n    <tr>\n      <th>DIG</th>\n      <td>digitalis-effect</td>\n      <td>1.0</td>\n      <td>1.0</td>\n      <td>NaN</td>\n      <td>STTC</td>\n      <td>STTC</td>\n      <td>other ST-T descriptive statements</td>\n      <td>suggests digitalis-effect</td>\n      <td>205.0</td>\n      <td>NaN</td>\n      <td>NaN</td>\n      <td>NaN</td>\n    </tr>\n    <tr>\n      <th>LNGQT</th>\n      <td>long QT-interval</td>\n      <td>1.0</td>\n      <td>1.0</td>\n      <td>NaN</td>\n      <td>STTC</td>\n      <td>STTC</td>\n      <td>other ST-T descriptive statements</td>\n      <td>long QT-interval</td>\n      <td>148.0</td>\n      <td>NaN</td>\n      <td>NaN</td>\n      <td>NaN</td>\n    </tr>\n    <tr>\n      <th>NORM</th>\n      <td>normal ECG</td>\n      <td>1.0</td>\n      <td>NaN</td>\n      <td>NaN</td>\n      <td>NORM</td>\n      <td>NORM</td>\n      <td>Normal/abnormal</td>\n      <td>normal ECG</td>\n      <td>1.0</td>\n      <td>NaN</td>\n      <td>NaN</td>\n      <td>F-000B7</td>\n    </tr>\n  </tbody>\n</table>\n</div>"
     },
     "execution_count": 3,
     "metadata": {},
     "output_type": "execute_result"
    }
   ],
   "source": [
    "# Display the data\n",
    "df.head()"
   ],
   "metadata": {
    "collapsed": false,
    "ExecuteTime": {
     "end_time": "2024-06-10T08:06:22.848983Z",
     "start_time": "2024-06-10T08:06:22.833245Z"
    }
   },
   "id": "818ab21c42a0eb23",
   "execution_count": 3
  },
  {
   "cell_type": "code",
   "outputs": [
    {
     "data": {
      "text/plain": "        patient_id   age  sex  height  weight  nurse  site     device  \\\necg_id                                                                  \n1          15709.0  56.0    1     NaN    63.0    2.0   0.0  CS-12   E   \n2          13243.0  19.0    0     NaN    70.0    2.0   0.0  CS-12   E   \n3          20372.0  37.0    1     NaN    69.0    2.0   0.0  CS-12   E   \n4          17014.0  24.0    0     NaN    82.0    2.0   0.0  CS-12   E   \n5          17448.0  19.0    1     NaN    70.0    2.0   0.0  CS-12   E   \n\n             recording_date                                  report  ...  \\\necg_id                                                               ...   \n1       1984-11-09 09:17:34  sinusrhythmus periphere niederspannung  ...   \n2       1984-11-14 12:55:37     sinusbradykardie sonst normales ekg  ...   \n3       1984-11-15 12:49:10              sinusrhythmus normales ekg  ...   \n4       1984-11-15 13:44:57              sinusrhythmus normales ekg  ...   \n5       1984-11-17 10:43:15              sinusrhythmus normales ekg  ...   \n\n        baseline_drift static_noise burst_noise electrodes_problems  \\\necg_id                                                                \n1                  NaN    , I-V1,           NaN                 NaN   \n2                  NaN          NaN         NaN                 NaN   \n3                  NaN          NaN         NaN                 NaN   \n4         , II,III,AVF          NaN         NaN                 NaN   \n5        , III,AVR,AVF          NaN         NaN                 NaN   \n\n        extra_beats  pacemaker  strat_fold                filename_lr  \\\necg_id                                                                  \n1               NaN        NaN           3  records100/00000/00001_lr   \n2               NaN        NaN           2  records100/00000/00002_lr   \n3               NaN        NaN           5  records100/00000/00003_lr   \n4               NaN        NaN           3  records100/00000/00004_lr   \n5               NaN        NaN           4  records100/00000/00005_lr   \n\n                      filename_hr diagnostic_superclass  \necg_id                                                   \n1       records500/00000/00001_hr                [NORM]  \n2       records500/00000/00002_hr                [NORM]  \n3       records500/00000/00003_hr                [NORM]  \n4       records500/00000/00004_hr                [NORM]  \n5       records500/00000/00005_hr                [NORM]  \n\n[5 rows x 28 columns]",
      "text/html": "<div>\n<style scoped>\n    .dataframe tbody tr th:only-of-type {\n        vertical-align: middle;\n    }\n\n    .dataframe tbody tr th {\n        vertical-align: top;\n    }\n\n    .dataframe thead th {\n        text-align: right;\n    }\n</style>\n<table border=\"1\" class=\"dataframe\">\n  <thead>\n    <tr style=\"text-align: right;\">\n      <th></th>\n      <th>patient_id</th>\n      <th>age</th>\n      <th>sex</th>\n      <th>height</th>\n      <th>weight</th>\n      <th>nurse</th>\n      <th>site</th>\n      <th>device</th>\n      <th>recording_date</th>\n      <th>report</th>\n      <th>...</th>\n      <th>baseline_drift</th>\n      <th>static_noise</th>\n      <th>burst_noise</th>\n      <th>electrodes_problems</th>\n      <th>extra_beats</th>\n      <th>pacemaker</th>\n      <th>strat_fold</th>\n      <th>filename_lr</th>\n      <th>filename_hr</th>\n      <th>diagnostic_superclass</th>\n    </tr>\n    <tr>\n      <th>ecg_id</th>\n      <th></th>\n      <th></th>\n      <th></th>\n      <th></th>\n      <th></th>\n      <th></th>\n      <th></th>\n      <th></th>\n      <th></th>\n      <th></th>\n      <th></th>\n      <th></th>\n      <th></th>\n      <th></th>\n      <th></th>\n      <th></th>\n      <th></th>\n      <th></th>\n      <th></th>\n      <th></th>\n      <th></th>\n    </tr>\n  </thead>\n  <tbody>\n    <tr>\n      <th>1</th>\n      <td>15709.0</td>\n      <td>56.0</td>\n      <td>1</td>\n      <td>NaN</td>\n      <td>63.0</td>\n      <td>2.0</td>\n      <td>0.0</td>\n      <td>CS-12   E</td>\n      <td>1984-11-09 09:17:34</td>\n      <td>sinusrhythmus periphere niederspannung</td>\n      <td>...</td>\n      <td>NaN</td>\n      <td>, I-V1,</td>\n      <td>NaN</td>\n      <td>NaN</td>\n      <td>NaN</td>\n      <td>NaN</td>\n      <td>3</td>\n      <td>records100/00000/00001_lr</td>\n      <td>records500/00000/00001_hr</td>\n      <td>[NORM]</td>\n    </tr>\n    <tr>\n      <th>2</th>\n      <td>13243.0</td>\n      <td>19.0</td>\n      <td>0</td>\n      <td>NaN</td>\n      <td>70.0</td>\n      <td>2.0</td>\n      <td>0.0</td>\n      <td>CS-12   E</td>\n      <td>1984-11-14 12:55:37</td>\n      <td>sinusbradykardie sonst normales ekg</td>\n      <td>...</td>\n      <td>NaN</td>\n      <td>NaN</td>\n      <td>NaN</td>\n      <td>NaN</td>\n      <td>NaN</td>\n      <td>NaN</td>\n      <td>2</td>\n      <td>records100/00000/00002_lr</td>\n      <td>records500/00000/00002_hr</td>\n      <td>[NORM]</td>\n    </tr>\n    <tr>\n      <th>3</th>\n      <td>20372.0</td>\n      <td>37.0</td>\n      <td>1</td>\n      <td>NaN</td>\n      <td>69.0</td>\n      <td>2.0</td>\n      <td>0.0</td>\n      <td>CS-12   E</td>\n      <td>1984-11-15 12:49:10</td>\n      <td>sinusrhythmus normales ekg</td>\n      <td>...</td>\n      <td>NaN</td>\n      <td>NaN</td>\n      <td>NaN</td>\n      <td>NaN</td>\n      <td>NaN</td>\n      <td>NaN</td>\n      <td>5</td>\n      <td>records100/00000/00003_lr</td>\n      <td>records500/00000/00003_hr</td>\n      <td>[NORM]</td>\n    </tr>\n    <tr>\n      <th>4</th>\n      <td>17014.0</td>\n      <td>24.0</td>\n      <td>0</td>\n      <td>NaN</td>\n      <td>82.0</td>\n      <td>2.0</td>\n      <td>0.0</td>\n      <td>CS-12   E</td>\n      <td>1984-11-15 13:44:57</td>\n      <td>sinusrhythmus normales ekg</td>\n      <td>...</td>\n      <td>, II,III,AVF</td>\n      <td>NaN</td>\n      <td>NaN</td>\n      <td>NaN</td>\n      <td>NaN</td>\n      <td>NaN</td>\n      <td>3</td>\n      <td>records100/00000/00004_lr</td>\n      <td>records500/00000/00004_hr</td>\n      <td>[NORM]</td>\n    </tr>\n    <tr>\n      <th>5</th>\n      <td>17448.0</td>\n      <td>19.0</td>\n      <td>1</td>\n      <td>NaN</td>\n      <td>70.0</td>\n      <td>2.0</td>\n      <td>0.0</td>\n      <td>CS-12   E</td>\n      <td>1984-11-17 10:43:15</td>\n      <td>sinusrhythmus normales ekg</td>\n      <td>...</td>\n      <td>, III,AVR,AVF</td>\n      <td>NaN</td>\n      <td>NaN</td>\n      <td>NaN</td>\n      <td>NaN</td>\n      <td>NaN</td>\n      <td>4</td>\n      <td>records100/00000/00005_lr</td>\n      <td>records500/00000/00005_hr</td>\n      <td>[NORM]</td>\n    </tr>\n  </tbody>\n</table>\n<p>5 rows × 28 columns</p>\n</div>"
     },
     "execution_count": 4,
     "metadata": {},
     "output_type": "execute_result"
    }
   ],
   "source": [
    "# Check the Y data details\n",
    "Y.head()"
   ],
   "metadata": {
    "collapsed": false,
    "ExecuteTime": {
     "end_time": "2024-06-10T08:06:22.859812Z",
     "start_time": "2024-06-10T08:06:22.849611Z"
    }
   },
   "id": "b0dafedbbd533798",
   "execution_count": 4
  },
  {
   "cell_type": "code",
   "outputs": [
    {
     "name": "stdout",
     "output_type": "stream",
     "text": [
      "<class 'pandas.core.frame.DataFrame'>\n",
      "Index: 19683 entries, 1 to 21837\n",
      "Data columns (total 28 columns):\n",
      " #   Column                        Non-Null Count  Dtype  \n",
      "---  ------                        --------------  -----  \n",
      " 0   patient_id                    19683 non-null  float64\n",
      " 1   age                           19683 non-null  float64\n",
      " 2   sex                           19683 non-null  int64  \n",
      " 3   height                        6372 non-null   float64\n",
      " 4   weight                        8693 non-null   float64\n",
      " 5   nurse                         18312 non-null  float64\n",
      " 6   site                          19668 non-null  float64\n",
      " 7   device                        19683 non-null  object \n",
      " 8   recording_date                19683 non-null  object \n",
      " 9   report                        19683 non-null  object \n",
      " 10  scp_codes                     19683 non-null  object \n",
      " 11  heart_axis                    11903 non-null  object \n",
      " 12  infarction_stadium1           4479 non-null   object \n",
      " 13  infarction_stadium2           98 non-null     object \n",
      " 14  validated_by                  11195 non-null  float64\n",
      " 15  second_opinion                19683 non-null  bool   \n",
      " 16  initial_autogenerated_report  19683 non-null  bool   \n",
      " 17  validated_by_human            19683 non-null  bool   \n",
      " 18  baseline_drift                1451 non-null   object \n",
      " 19  static_noise                  2946 non-null   object \n",
      " 20  burst_noise                   560 non-null    object \n",
      " 21  electrodes_problems           29 non-null     object \n",
      " 22  extra_beats                   1852 non-null   object \n",
      " 23  pacemaker                     290 non-null    object \n",
      " 24  strat_fold                    19683 non-null  int64  \n",
      " 25  filename_lr                   19683 non-null  object \n",
      " 26  filename_hr                   19683 non-null  object \n",
      " 27  diagnostic_superclass         19683 non-null  object \n",
      "dtypes: bool(3), float64(7), int64(2), object(16)\n",
      "memory usage: 4.0+ MB\n"
     ]
    }
   ],
   "source": [
    "# Check the Y data details\n",
    "Y.info()"
   ],
   "metadata": {
    "collapsed": false,
    "ExecuteTime": {
     "end_time": "2024-06-10T08:06:22.884346Z",
     "start_time": "2024-06-10T08:06:22.861463Z"
    }
   },
   "id": "62fa09cd6a5e5294",
   "execution_count": 5
  },
  {
   "cell_type": "code",
   "outputs": [
    {
     "data": {
      "text/plain": "diagnostic_superclass\n[NORM]    8748\n[CD]      3286\n[STTC]    3093\n[MI]      3034\n[HYP]      871\n[]         651\nName: count, dtype: int64"
     },
     "execution_count": 6,
     "metadata": {},
     "output_type": "execute_result"
    }
   ],
   "source": [
    "# As a label, we will use the diagnostic_superclass column filtered by diagnostic confidence (threshold = 70)\n",
    "Y['diagnostic_superclass'].value_counts()"
   ],
   "metadata": {
    "collapsed": false,
    "ExecuteTime": {
     "end_time": "2024-06-10T08:06:28.282856Z",
     "start_time": "2024-06-10T08:06:28.272104Z"
    }
   },
   "id": "4072e281d2635e2a",
   "execution_count": 6
  },
  {
   "cell_type": "markdown",
   "source": [
    "### Cardiac Diagnoses\n",
    "\n",
    "#### NORM (Normal ECG)\n",
    "- **Description**: This diagnosis indicates a normal electrocardiogram (ECG), meaning there are no significant abnormalities in the heart's electrical activity. The heart rhythm and waveforms fall within the typical range for a healthy individual.\n",
    "\n",
    "#### MI (Myocardial Infarction)\n",
    "- **Description**: Myocardial Infarction, commonly known as a heart attack, is characterized by the interruption of blood flow to a part of the heart, causing damage to the heart muscle. On an ECG, it may present as ST elevation, T wave inversion, or the development of Q waves, among other changes.\n",
    "\n",
    "#### STTC (ST/T Change)\n",
    "- **Description**: ST/T changes refer to abnormalities in the ST segment and T wave of the ECG. These changes can indicate various conditions, such as ischemia (reduced blood flow to the heart), electrolyte imbalances, or other cardiac pathologies. The specific nature of the change provides clues about the underlying condition.\n",
    "\n",
    "#### CD (Conduction Disturbance)\n",
    "- **Description**: Conduction disturbances involve abnormalities in the electrical conduction system of the heart, which can affect the timing and coordination of heartbeats. Examples include bundle branch blocks, atrioventricular (AV) blocks, and other forms of heart block. These are reflected on the ECG as altered intervals and waveforms.\n",
    "\n",
    "#### HYP (Hypertrophy)\n",
    "- **Description**: Hypertrophy refers to the thickening of the heart muscle, typically the result of increased workload or pressure. It is commonly seen in conditions such as hypertension or valvular heart disease. On an ECG, hypertrophy may present as increased voltage of QRS complexes, prolonged QRS duration, and changes in the ST segment and T waves.\n",
    "\n",
    "This structured format categorizes the diagnoses based on their unique identifier, abbreviation, and a detailed description of each condition."
   ],
   "metadata": {
    "collapsed": false
   },
   "id": "f1095ef31b5ff160"
  },
  {
   "cell_type": "markdown",
   "source": [
    "#### Main points\n",
    "The dataset consists of 21837 ECG recordings, each with 12 leads.\n",
    "The ECGs are sampled at 100 Hz, with a duration of 10 seconds.\n",
    "The dataset includes 5 diagnostic superclass categories.\n",
    "the dataset is imbalanced, with some classes having a large number of samples, while others have very few.\n",
    "there are 651 missing values in the diagnostic superclass categories, which are represented as NaNs."
   ],
   "metadata": {
    "collapsed": false
   },
   "id": "be72870de74d413"
  },
  {
   "cell_type": "markdown",
   "source": [
    "## Data Preprocessing"
   ],
   "metadata": {
    "collapsed": false
   },
   "id": "a22cdabfd7be2901"
  },
  {
   "cell_type": "code",
   "outputs": [],
   "source": [
    "# Preprocess the data using the preprocess_data function from the data_loading_utils script\n",
    "from data_loading_utils import preprocess_data\n",
    "X, y = preprocess_data(X, Y)"
   ],
   "metadata": {
    "collapsed": false,
    "ExecuteTime": {
     "end_time": "2024-06-10T08:06:32.103705Z",
     "start_time": "2024-06-10T08:06:31.412430Z"
    }
   },
   "id": "9a85a8ea175273d6",
   "execution_count": 7
  },
  {
   "cell_type": "code",
   "outputs": [
    {
     "data": {
      "text/plain": "diagnostic_superclass\n[NORM]    8748\n[CD]      3286\n[STTC]    3093\n[MI]      3034\n[HYP]      871\nName: count, dtype: int64"
     },
     "execution_count": 8,
     "metadata": {},
     "output_type": "execute_result"
    }
   ],
   "source": [
    "# We will remove the samples with missing values (651) in the diagnostic superclass categories from the dataset.\n",
    "#According to the dataset documentation - there are 410 samples for which no diagnostic statement is given, which are mainly pacemaker ECGs. The missing values in the diagnostic superclass are equally distributed across all folds\n",
    "y['diagnostic_superclass'].value_counts()"
   ],
   "metadata": {
    "collapsed": false,
    "ExecuteTime": {
     "end_time": "2024-06-10T08:06:32.714895Z",
     "start_time": "2024-06-10T08:06:32.707545Z"
    }
   },
   "id": "d0292dbab58fc437",
   "execution_count": 8
  },
  {
   "cell_type": "code",
   "outputs": [
    {
     "data": {
      "text/plain": "diagnostic_binary\nNORMAL    15998\nMI         3034\nName: count, dtype: int64"
     },
     "execution_count": 9,
     "metadata": {},
     "output_type": "execute_result"
    }
   ],
   "source": [
    "# To simplify the problem, we will focus on binary classification between 'NORMAL' and 'MI' classes. We will filter the data to include only these classes.\n",
    "y['diagnostic_binary'].value_counts()"
   ],
   "metadata": {
    "collapsed": false,
    "ExecuteTime": {
     "end_time": "2024-06-10T08:06:37.524535Z",
     "start_time": "2024-06-10T08:06:37.518987Z"
    }
   },
   "id": "3fbda824325f9215",
   "execution_count": 9
  },
  {
   "cell_type": "markdown",
   "source": [
    "## Data Splitting"
   ],
   "metadata": {
    "collapsed": false
   },
   "id": "dbbabaf1678f3802"
  },
  {
   "cell_type": "code",
   "outputs": [],
   "source": [
    "# Import get_train_test_split function from the data_loading_utils script\n",
    "from data_loading_utils import get_train_test_split"
   ],
   "metadata": {
    "collapsed": false,
    "ExecuteTime": {
     "end_time": "2024-06-10T08:06:42.327772Z",
     "start_time": "2024-06-10T08:06:42.324988Z"
    }
   },
   "id": "4914ba2ed9557bff",
   "execution_count": 10
  },
  {
   "cell_type": "code",
   "outputs": [],
   "source": [
    "# Split the data into training, validation, and test sets\n",
    "X_train, X_test, y_train, y_test, X_val, y_val = get_train_test_split(X, y, test_fold=10, validation=True)"
   ],
   "metadata": {
    "collapsed": false,
    "ExecuteTime": {
     "end_time": "2024-06-10T08:06:44.421651Z",
     "start_time": "2024-06-10T08:06:43.227734Z"
    }
   },
   "id": "115a92e67602b72e",
   "execution_count": 11
  },
  {
   "cell_type": "code",
   "outputs": [
    {
     "data": {
      "text/plain": "((13325, 1000, 12),\n (1900, 1000, 12),\n (3807, 1000, 12),\n (13325,),\n (1900,),\n (3807,))"
     },
     "execution_count": 12,
     "metadata": {},
     "output_type": "execute_result"
    }
   ],
   "source": [
    "# Check the shape of the data\n",
    "X_train.shape, X_test.shape, X_val.shape, y_train.shape, y_test.shape, y_val.shape"
   ],
   "metadata": {
    "collapsed": false,
    "ExecuteTime": {
     "end_time": "2024-06-10T08:06:46.381406Z",
     "start_time": "2024-06-10T08:06:46.373068Z"
    }
   },
   "id": "823fbab2f1df3e36",
   "execution_count": 12
  },
  {
   "cell_type": "code",
   "outputs": [
    {
     "data": {
      "text/plain": "(diagnostic_binary\n NORMAL    11170\n MI         2155\n Name: count, dtype: int64,\n diagnostic_binary\n NORMAL    1623\n MI         277\n Name: count, dtype: int64,\n diagnostic_binary\n NORMAL    3205\n MI         602\n Name: count, dtype: int64)"
     },
     "execution_count": 13,
     "metadata": {},
     "output_type": "execute_result"
    }
   ],
   "source": [
    "# Check the distribution of classes in the training, test, and validation sets\n",
    "y_train.value_counts(), y_test.value_counts(), y_val.value_counts()"
   ],
   "metadata": {
    "collapsed": false,
    "ExecuteTime": {
     "end_time": "2024-06-10T08:06:51.076889Z",
     "start_time": "2024-06-10T08:06:51.055660Z"
    }
   },
   "id": "56c245f34b1cfb5c",
   "execution_count": 13
  },
  {
   "cell_type": "code",
   "outputs": [
    {
     "data": {
      "text/plain": "<Figure size 2000x500 with 3 Axes>",
      "image/png": "[encoded data removed]"
     },
     "metadata": {},
     "output_type": "display_data"
    }
   ],
   "source": [
    "# vizualize the distribution of the classes in the training, test and validation set\n",
    "fig, ax = plt.subplots(1, 3, figsize=(20, 5))\n",
    "sns.countplot(y_train, ax=ax[0])\n",
    "ax[0].set_title('Training Set')\n",
    "sns.countplot(y_test, ax=ax[1])\n",
    "ax[1].set_title('Test Set')\n",
    "sns.countplot(y_val, ax=ax[2])\n",
    "ax[2].set_title('Validation Set')\n",
    "plt.show()"
   ],
   "metadata": {
    "collapsed": false,
    "ExecuteTime": {
     "end_time": "2024-06-10T08:06:56.392525Z",
     "start_time": "2024-06-10T08:06:55.745172Z"
    }
   },
   "id": "6f5e58c660d3e04b",
   "execution_count": 14
  },
  {
   "cell_type": "markdown",
   "source": [
    "#### Based on the distribution of classes in the training, test, and validation sets, we can observe that the classes are imbalanced, with the 'NORMAL' class having a significantly larger number of samples compared to the 'MI' class. This imbalance can affect the model's ability to learn the underlying patterns in the data and may lead to biased predictions. To address this issue, we can use techniques such as class weighting, oversampling, or undersampling to balance the classes during training."
   ],
   "metadata": {
    "collapsed": false
   },
   "id": "9227a7c84b644ef2"
  },
  {
   "cell_type": "markdown",
   "source": [
    "## Data Normalization"
   ],
   "metadata": {
    "collapsed": false
   },
   "id": "521f8004676c8c6d"
  },
  {
   "cell_type": "code",
   "outputs": [],
   "source": [
    "#  Create a function preprocess_signals that takes the training, validation, and test signals as input and standardizes the data using the StandardScaler from scikit-learn. The function should return the standardized signals and save the StandardScaler object to a file using pickle.\n",
    "def preprocess_signals(X_train, X_validation, X_test, output_dir):\n",
    "    # Standardize data such that mean 0 and variance 1\n",
    "    ss = StandardScaler()\n",
    "    ss.fit(np.vstack(X_train).flatten()[:,np.newaxis].astype(float))\n",
    "    \n",
    "    # Save Standardizer data\n",
    "    with open(output_dir +'standard_scaler.pkl', 'wb') as ss_file:\n",
    "        pickle.dump(ss, ss_file)\n",
    "\n",
    "    return apply_standardizer(X_train, ss), apply_standardizer(X_validation, ss), apply_standardizer(X_test, ss)"
   ],
   "metadata": {
    "collapsed": false,
    "ExecuteTime": {
     "end_time": "2024-06-08T11:32:28.068175Z",
     "start_time": "2024-06-08T11:32:28.061887Z"
    }
   },
   "id": "810ccad017631b74",
   "execution_count": 22
  },
  {
   "cell_type": "code",
   "outputs": [],
   "source": [
    "# function to apply standardizer\n",
    "def apply_standardizer(X, ss):\n",
    "    X_tmp = []\n",
    "    for x in X:\n",
    "        x_shape = x.shape\n",
    "        X_tmp.append(ss.transform(x.flatten()[:,np.newaxis]).reshape(x_shape))\n",
    "    X_tmp = np.array(X_tmp)\n",
    "    return X_tmp\n"
   ],
   "metadata": {
    "collapsed": false,
    "ExecuteTime": {
     "end_time": "2024-06-10T08:07:00.167345Z",
     "start_time": "2024-06-10T08:07:00.158344Z"
    }
   },
   "id": "fca9315a8f2e346b",
   "execution_count": 15
  },
  {
   "cell_type": "markdown",
   "source": [
    "\n",
    "# load the standardizer\n",
    "# with open('models/standard_scaler.pkl', 'rb') as f:\n",
    "#     ss = pickle.load(f)\n",
    "\n",
    "# apply the standardizer\n",
    "X_train, X_val, X_test = preprocess_signals(X_train, X_val, X_test, 'models/')\n"
   ],
   "metadata": {
    "collapsed": false
   },
   "id": "d0a1965b81b0d0a9"
  },
  {
   "cell_type": "code",
   "outputs": [],
   "source": [
    "# load the standardizer\n",
    "with open('models/standard_scaler.pkl', 'rb') as f:\n",
    "    ss = pickle.load(f)\n",
    "\n",
    "# apply the standardizer\n",
    "X_train = apply_standardizer(X_train, ss)\n",
    "X_val = apply_standardizer(X_val, ss)\n",
    "X_test = apply_standardizer(X_test, ss)"
   ],
   "metadata": {
    "collapsed": false,
    "ExecuteTime": {
     "end_time": "2024-06-10T08:07:15.712470Z",
     "start_time": "2024-06-10T08:07:03.821170Z"
    }
   },
   "id": "5c483a73f7cd1625",
   "execution_count": 16
  },
  {
   "cell_type": "markdown",
   "source": [
    "## Label Encoding"
   ],
   "metadata": {
    "collapsed": false
   },
   "id": "b175a9e032e60ae9"
  },
  {
   "cell_type": "code",
   "outputs": [],
   "source": [
    "# binary encode the labels\n",
    "label_dict = {'NORMAL': 0, 'MI': 1}\n",
    "y_train_label = y_train.map(label_dict)\n",
    "y_test_label = y_test.map(label_dict)\n",
    "y_val_label = y_val.map(label_dict)"
   ],
   "metadata": {
    "collapsed": false,
    "ExecuteTime": {
     "end_time": "2024-06-10T08:07:16.025161Z",
     "start_time": "2024-06-10T08:07:16.003460Z"
    }
   },
   "id": "11e637e83a69b831",
   "execution_count": 18
  },
  {
   "cell_type": "code",
   "outputs": [
    {
     "data": {
      "text/plain": "((1000, 12), 2)"
     },
     "execution_count": 20,
     "metadata": {},
     "output_type": "execute_result"
    }
   ],
   "source": [
    "# get the input shape and number of classes\n",
    "input_shape = X_train.shape[1:]\n",
    "num_classes = y_train_label.nunique()\n",
    "input_shape, num_classes"
   ],
   "metadata": {
    "collapsed": false,
    "ExecuteTime": {
     "end_time": "2024-06-10T08:07:16.037177Z",
     "start_time": "2024-06-10T08:07:16.031396Z"
    }
   },
   "id": "6f2c2a6b8ecef08",
   "execution_count": 20
  },
  {
   "cell_type": "code",
   "outputs": [],
   "source": [
    "# Convert labels to one-hot encoding\n",
    "y_train_oh = tf.keras.utils.to_categorical(y_train_label, num_classes=num_classes)\n",
    "y_val_oh = tf.keras.utils.to_categorical(y_val_label, num_classes=num_classes)"
   ],
   "metadata": {
    "collapsed": false,
    "ExecuteTime": {
     "end_time": "2024-06-10T08:07:54.850367Z",
     "start_time": "2024-06-10T08:07:54.837679Z"
    }
   },
   "id": "84ee4fbafc5875a3",
   "execution_count": 22
  },
  {
   "cell_type": "markdown",
   "source": [
    "### Convolutional Neural Network"
   ],
   "metadata": {
    "collapsed": false
   },
   "id": "ad81bbfeddf5441e"
  },
  {
   "cell_type": "markdown",
   "source": [
    "## Class Weights"
   ],
   "metadata": {
    "collapsed": false
   },
   "id": "8af5dc530d117a86"
  },
  {
   "cell_type": "code",
   "outputs": [
    {
     "data": {
      "text/plain": "{0: 0.5964637421665174, 1: 3.0916473317865427}"
     },
     "execution_count": 23,
     "metadata": {},
     "output_type": "execute_result"
    }
   ],
   "source": [
    "# calculate class weights to handle class imbalance in the training data using the compute_class_weight function from scikit-learn\n",
    "class_weights = class_weight.compute_class_weight(class_weight='balanced', classes=np.unique(y_train_label), y=y_train_label)\n",
    "class_weights_dict = {i: class_weights[i] for i in range(num_classes)}\n",
    "class_weights_dict"
   ],
   "metadata": {
    "collapsed": false,
    "ExecuteTime": {
     "end_time": "2024-06-10T08:07:55.892860Z",
     "start_time": "2024-06-10T08:07:55.877694Z"
    }
   },
   "id": "efb66e23ab1bb6e6",
   "execution_count": 23
  },
  {
   "cell_type": "markdown",
   "source": [
    "## Model Building"
   ],
   "metadata": {
    "collapsed": false
   },
   "id": "df7fe3d5a14776e1"
  },
  {
   "cell_type": "code",
   "outputs": [],
   "source": [
    "# import regularizers from keras\n",
    "from tensorflow.keras.regularizers import l2"
   ],
   "metadata": {
    "collapsed": false,
    "ExecuteTime": {
     "end_time": "2024-06-10T14:52:26.112608Z",
     "start_time": "2024-06-10T14:52:26.097233Z"
    }
   },
   "id": "345ea2c5067ab5fe",
   "execution_count": 138
  },
  {
   "cell_type": "code",
   "outputs": [
    {
     "name": "stderr",
     "output_type": "stream",
     "text": [
      "/Users/gala/PycharmProjects/Saturdays_FP/disease-prediction/dis/lib/python3.10/site-packages/keras/src/layers/convolutional/base_conv.py:107: UserWarning: Do not pass an `input_shape`/`input_dim` argument to a layer. When using Sequential models, prefer using an `Input(shape)` object as the first layer in the model instead.\n",
      "  super().__init__(activity_regularizer=activity_regularizer, **kwargs)\n"
     ]
    }
   ],
   "source": [
    "# Build the model\n",
    "model1 = Sequential()\n",
    "\n",
    "# Add 1D convolutional layers with LeakyReLU activation\n",
    "for _ in range(5):\n",
    "    model1.add(Conv1D(filters=32, kernel_size=3, padding='same', kernel_regularizer=l2(0.01), input_shape=input_shape if _ == 0 else None))\n",
    "    model1.add(BatchNormalization())\n",
    "    model1.add(LeakyReLU(negative_slope=0.01))\n",
    "    model1.add(Dropout(0.3))\n",
    "\n",
    "# Flatten the output before the fully connected layer\n",
    "model1.add(Flatten())\n",
    "\n",
    "# Fully connected layer with softmax activation\n",
    "model1.add(Dense(units=2, activation='softmax'))  # Assuming 2 classes for the output"
   ],
   "metadata": {
    "collapsed": false,
    "ExecuteTime": {
     "end_time": "2024-06-10T08:25:27.932152Z",
     "start_time": "2024-06-10T08:25:27.691737Z"
    }
   },
   "id": "722f7fffc22842c2",
   "execution_count": 43
  },
  {
   "cell_type": "code",
   "outputs": [],
   "source": [
    "# create an optimizer\n",
    "optimizer = tf.keras.optimizers.Adam(learning_rate=0.0001)"
   ],
   "metadata": {
    "collapsed": false,
    "ExecuteTime": {
     "end_time": "2024-06-10T08:25:31.162257Z",
     "start_time": "2024-06-10T08:25:31.141153Z"
    }
   },
   "id": "2713a0622776a97",
   "execution_count": 44
  },
  {
   "cell_type": "code",
   "outputs": [],
   "source": [
    "# Compile the model\n",
    "model1.compile(optimizer=optimizer, loss='categorical_crossentropy', metrics=[tf.keras.metrics.Recall(name='Recall', thresholds=0.3), # threshold for recall is set to 0.3 to account for class imbalance\n",
    "        tf.keras.metrics.Precision(name='Precision'), \n",
    "        tf.keras.metrics.AUC(name='AUC',\n",
    "        curve=\"ROC\",\n",
    "        dtype=None,\n",
    "        thresholds=None),\n",
    "        tf.keras.metrics.FalseNegatives(name=\"fn\"),\n",
    "        tf.keras.metrics.FalsePositives(name=\"fp\"),\n",
    "        tf.keras.metrics.TrueNegatives(name=\"tn\"),\n",
    "        tf.keras.metrics.TruePositives(name=\"tp\"),\n",
    "    ])"
   ],
   "metadata": {
    "collapsed": false,
    "ExecuteTime": {
     "end_time": "2024-06-10T14:11:48.560615Z",
     "start_time": "2024-06-10T14:11:48.078757Z"
    }
   },
   "id": "c2407906f1607f6e",
   "execution_count": 110
  },
  {
   "cell_type": "code",
   "outputs": [
    {
     "data": {
      "text/plain": "\u001B[1mModel: \"sequential_3\"\u001B[0m\n",
      "text/html": "<pre style=\"white-space:pre;overflow-x:auto;line-height:normal;font-family:Menlo,'DejaVu Sans Mono',consolas,'Courier New',monospace\"><span style=\"font-weight: bold\">Model: \"sequential_3\"</span>\n</pre>\n"
     },
     "metadata": {},
     "output_type": "display_data"
    },
    {
     "data": {
      "text/plain": "┏━━━━━━━━━━━━━━━━━━━━━━━━━━━━━━━━━┳━━━━━━━━━━━━━━━━━━━━━━━━┳━━━━━━━━━━━━━━━┓\n┃\u001B[1m \u001B[0m\u001B[1mLayer (type)                   \u001B[0m\u001B[1m \u001B[0m┃\u001B[1m \u001B[0m\u001B[1mOutput Shape          \u001B[0m\u001B[1m \u001B[0m┃\u001B[1m \u001B[0m\u001B[1m      Param #\u001B[0m\u001B[1m \u001B[0m┃\n┡━━━━━━━━━━━━━━━━━━━━━━━━━━━━━━━━━╇━━━━━━━━━━━━━━━━━━━━━━━━╇━━━━━━━━━━━━━━━┩\n│ conv1d_15 (\u001B[38;5;33mConv1D\u001B[0m)              │ (\u001B[38;5;45mNone\u001B[0m, \u001B[38;5;34m1000\u001B[0m, \u001B[38;5;34m32\u001B[0m)       │         \u001B[38;5;34m1,184\u001B[0m │\n├─────────────────────────────────┼────────────────────────┼───────────────┤\n│ batch_normalization_15          │ (\u001B[38;5;45mNone\u001B[0m, \u001B[38;5;34m1000\u001B[0m, \u001B[38;5;34m32\u001B[0m)       │           \u001B[38;5;34m128\u001B[0m │\n│ (\u001B[38;5;33mBatchNormalization\u001B[0m)            │                        │               │\n├─────────────────────────────────┼────────────────────────┼───────────────┤\n│ leaky_re_lu_15 (\u001B[38;5;33mLeakyReLU\u001B[0m)      │ (\u001B[38;5;45mNone\u001B[0m, \u001B[38;5;34m1000\u001B[0m, \u001B[38;5;34m32\u001B[0m)       │             \u001B[38;5;34m0\u001B[0m │\n├─────────────────────────────────┼────────────────────────┼───────────────┤\n│ dropout_15 (\u001B[38;5;33mDropout\u001B[0m)            │ (\u001B[38;5;45mNone\u001B[0m, \u001B[38;5;34m1000\u001B[0m, \u001B[38;5;34m32\u001B[0m)       │             \u001B[38;5;34m0\u001B[0m │\n├─────────────────────────────────┼────────────────────────┼───────────────┤\n│ conv1d_16 (\u001B[38;5;33mConv1D\u001B[0m)              │ (\u001B[38;5;45mNone\u001B[0m, \u001B[38;5;34m1000\u001B[0m, \u001B[38;5;34m32\u001B[0m)       │         \u001B[38;5;34m3,104\u001B[0m │\n├─────────────────────────────────┼────────────────────────┼───────────────┤\n│ batch_normalization_16          │ (\u001B[38;5;45mNone\u001B[0m, \u001B[38;5;34m1000\u001B[0m, \u001B[38;5;34m32\u001B[0m)       │           \u001B[38;5;34m128\u001B[0m │\n│ (\u001B[38;5;33mBatchNormalization\u001B[0m)            │                        │               │\n├─────────────────────────────────┼────────────────────────┼───────────────┤\n│ leaky_re_lu_16 (\u001B[38;5;33mLeakyReLU\u001B[0m)      │ (\u001B[38;5;45mNone\u001B[0m, \u001B[38;5;34m1000\u001B[0m, \u001B[38;5;34m32\u001B[0m)       │             \u001B[38;5;34m0\u001B[0m │\n├─────────────────────────────────┼────────────────────────┼───────────────┤\n│ dropout_16 (\u001B[38;5;33mDropout\u001B[0m)            │ (\u001B[38;5;45mNone\u001B[0m, \u001B[38;5;34m1000\u001B[0m, \u001B[38;5;34m32\u001B[0m)       │             \u001B[38;5;34m0\u001B[0m │\n├─────────────────────────────────┼────────────────────────┼───────────────┤\n│ conv1d_17 (\u001B[38;5;33mConv1D\u001B[0m)              │ (\u001B[38;5;45mNone\u001B[0m, \u001B[38;5;34m1000\u001B[0m, \u001B[38;5;34m32\u001B[0m)       │         \u001B[38;5;34m3,104\u001B[0m │\n├─────────────────────────────────┼────────────────────────┼───────────────┤\n│ batch_normalization_17          │ (\u001B[38;5;45mNone\u001B[0m, \u001B[38;5;34m1000\u001B[0m, \u001B[38;5;34m32\u001B[0m)       │           \u001B[38;5;34m128\u001B[0m │\n│ (\u001B[38;5;33mBatchNormalization\u001B[0m)            │                        │               │\n├─────────────────────────────────┼────────────────────────┼───────────────┤\n│ leaky_re_lu_17 (\u001B[38;5;33mLeakyReLU\u001B[0m)      │ (\u001B[38;5;45mNone\u001B[0m, \u001B[38;5;34m1000\u001B[0m, \u001B[38;5;34m32\u001B[0m)       │             \u001B[38;5;34m0\u001B[0m │\n├─────────────────────────────────┼────────────────────────┼───────────────┤\n│ dropout_17 (\u001B[38;5;33mDropout\u001B[0m)            │ (\u001B[38;5;45mNone\u001B[0m, \u001B[38;5;34m1000\u001B[0m, \u001B[38;5;34m32\u001B[0m)       │             \u001B[38;5;34m0\u001B[0m │\n├─────────────────────────────────┼────────────────────────┼───────────────┤\n│ conv1d_18 (\u001B[38;5;33mConv1D\u001B[0m)              │ (\u001B[38;5;45mNone\u001B[0m, \u001B[38;5;34m1000\u001B[0m, \u001B[38;5;34m32\u001B[0m)       │         \u001B[38;5;34m3,104\u001B[0m │\n├─────────────────────────────────┼────────────────────────┼───────────────┤\n│ batch_normalization_18          │ (\u001B[38;5;45mNone\u001B[0m, \u001B[38;5;34m1000\u001B[0m, \u001B[38;5;34m32\u001B[0m)       │           \u001B[38;5;34m128\u001B[0m │\n│ (\u001B[38;5;33mBatchNormalization\u001B[0m)            │                        │               │\n├─────────────────────────────────┼────────────────────────┼───────────────┤\n│ leaky_re_lu_18 (\u001B[38;5;33mLeakyReLU\u001B[0m)      │ (\u001B[38;5;45mNone\u001B[0m, \u001B[38;5;34m1000\u001B[0m, \u001B[38;5;34m32\u001B[0m)       │             \u001B[38;5;34m0\u001B[0m │\n├─────────────────────────────────┼────────────────────────┼───────────────┤\n│ dropout_18 (\u001B[38;5;33mDropout\u001B[0m)            │ (\u001B[38;5;45mNone\u001B[0m, \u001B[38;5;34m1000\u001B[0m, \u001B[38;5;34m32\u001B[0m)       │             \u001B[38;5;34m0\u001B[0m │\n├─────────────────────────────────┼────────────────────────┼───────────────┤\n│ conv1d_19 (\u001B[38;5;33mConv1D\u001B[0m)              │ (\u001B[38;5;45mNone\u001B[0m, \u001B[38;5;34m1000\u001B[0m, \u001B[38;5;34m32\u001B[0m)       │         \u001B[38;5;34m3,104\u001B[0m │\n├─────────────────────────────────┼────────────────────────┼───────────────┤\n│ batch_normalization_19          │ (\u001B[38;5;45mNone\u001B[0m, \u001B[38;5;34m1000\u001B[0m, \u001B[38;5;34m32\u001B[0m)       │           \u001B[38;5;34m128\u001B[0m │\n│ (\u001B[38;5;33mBatchNormalization\u001B[0m)            │                        │               │\n├─────────────────────────────────┼────────────────────────┼───────────────┤\n│ leaky_re_lu_19 (\u001B[38;5;33mLeakyReLU\u001B[0m)      │ (\u001B[38;5;45mNone\u001B[0m, \u001B[38;5;34m1000\u001B[0m, \u001B[38;5;34m32\u001B[0m)       │             \u001B[38;5;34m0\u001B[0m │\n├─────────────────────────────────┼────────────────────────┼───────────────┤\n│ dropout_19 (\u001B[38;5;33mDropout\u001B[0m)            │ (\u001B[38;5;45mNone\u001B[0m, \u001B[38;5;34m1000\u001B[0m, \u001B[38;5;34m32\u001B[0m)       │             \u001B[38;5;34m0\u001B[0m │\n├─────────────────────────────────┼────────────────────────┼───────────────┤\n│ flatten_3 (\u001B[38;5;33mFlatten\u001B[0m)             │ (\u001B[38;5;45mNone\u001B[0m, \u001B[38;5;34m32000\u001B[0m)          │             \u001B[38;5;34m0\u001B[0m │\n├─────────────────────────────────┼────────────────────────┼───────────────┤\n│ dense_3 (\u001B[38;5;33mDense\u001B[0m)                 │ (\u001B[38;5;45mNone\u001B[0m, \u001B[38;5;34m2\u001B[0m)              │        \u001B[38;5;34m64,002\u001B[0m │\n└─────────────────────────────────┴────────────────────────┴───────────────┘\n",
      "text/html": "<pre style=\"white-space:pre;overflow-x:auto;line-height:normal;font-family:Menlo,'DejaVu Sans Mono',consolas,'Courier New',monospace\">┏━━━━━━━━━━━━━━━━━━━━━━━━━━━━━━━━━┳━━━━━━━━━━━━━━━━━━━━━━━━┳━━━━━━━━━━━━━━━┓\n┃<span style=\"font-weight: bold\"> Layer (type)                    </span>┃<span style=\"font-weight: bold\"> Output Shape           </span>┃<span style=\"font-weight: bold\">       Param # </span>┃\n┡━━━━━━━━━━━━━━━━━━━━━━━━━━━━━━━━━╇━━━━━━━━━━━━━━━━━━━━━━━━╇━━━━━━━━━━━━━━━┩\n│ conv1d_15 (<span style=\"color: #0087ff; text-decoration-color: #0087ff\">Conv1D</span>)              │ (<span style=\"color: #00d7ff; text-decoration-color: #00d7ff\">None</span>, <span style=\"color: #00af00; text-decoration-color: #00af00\">1000</span>, <span style=\"color: #00af00; text-decoration-color: #00af00\">32</span>)       │         <span style=\"color: #00af00; text-decoration-color: #00af00\">1,184</span> │\n├─────────────────────────────────┼────────────────────────┼───────────────┤\n│ batch_normalization_15          │ (<span style=\"color: #00d7ff; text-decoration-color: #00d7ff\">None</span>, <span style=\"color: #00af00; text-decoration-color: #00af00\">1000</span>, <span style=\"color: #00af00; text-decoration-color: #00af00\">32</span>)       │           <span style=\"color: #00af00; text-decoration-color: #00af00\">128</span> │\n│ (<span style=\"color: #0087ff; text-decoration-color: #0087ff\">BatchNormalization</span>)            │                        │               │\n├─────────────────────────────────┼────────────────────────┼───────────────┤\n│ leaky_re_lu_15 (<span style=\"color: #0087ff; text-decoration-color: #0087ff\">LeakyReLU</span>)      │ (<span style=\"color: #00d7ff; text-decoration-color: #00d7ff\">None</span>, <span style=\"color: #00af00; text-decoration-color: #00af00\">1000</span>, <span style=\"color: #00af00; text-decoration-color: #00af00\">32</span>)       │             <span style=\"color: #00af00; text-decoration-color: #00af00\">0</span> │\n├─────────────────────────────────┼────────────────────────┼───────────────┤\n│ dropout_15 (<span style=\"color: #0087ff; text-decoration-color: #0087ff\">Dropout</span>)            │ (<span style=\"color: #00d7ff; text-decoration-color: #00d7ff\">None</span>, <span style=\"color: #00af00; text-decoration-color: #00af00\">1000</span>, <span style=\"color: #00af00; text-decoration-color: #00af00\">32</span>)       │             <span style=\"color: #00af00; text-decoration-color: #00af00\">0</span> │\n├─────────────────────────────────┼────────────────────────┼───────────────┤\n│ conv1d_16 (<span style=\"color: #0087ff; text-decoration-color: #0087ff\">Conv1D</span>)              │ (<span style=\"color: #00d7ff; text-decoration-color: #00d7ff\">None</span>, <span style=\"color: #00af00; text-decoration-color: #00af00\">1000</span>, <span style=\"color: #00af00; text-decoration-color: #00af00\">32</span>)       │         <span style=\"color: #00af00; text-decoration-color: #00af00\">3,104</span> │\n├─────────────────────────────────┼────────────────────────┼───────────────┤\n│ batch_normalization_16          │ (<span style=\"color: #00d7ff; text-decoration-color: #00d7ff\">None</span>, <span style=\"color: #00af00; text-decoration-color: #00af00\">1000</span>, <span style=\"color: #00af00; text-decoration-color: #00af00\">32</span>)       │           <span style=\"color: #00af00; text-decoration-color: #00af00\">128</span> │\n│ (<span style=\"color: #0087ff; text-decoration-color: #0087ff\">BatchNormalization</span>)            │                        │               │\n├─────────────────────────────────┼────────────────────────┼───────────────┤\n│ leaky_re_lu_16 (<span style=\"color: #0087ff; text-decoration-color: #0087ff\">LeakyReLU</span>)      │ (<span style=\"color: #00d7ff; text-decoration-color: #00d7ff\">None</span>, <span style=\"color: #00af00; text-decoration-color: #00af00\">1000</span>, <span style=\"color: #00af00; text-decoration-color: #00af00\">32</span>)       │             <span style=\"color: #00af00; text-decoration-color: #00af00\">0</span> │\n├─────────────────────────────────┼────────────────────────┼───────────────┤\n│ dropout_16 (<span style=\"color: #0087ff; text-decoration-color: #0087ff\">Dropout</span>)            │ (<span style=\"color: #00d7ff; text-decoration-color: #00d7ff\">None</span>, <span style=\"color: #00af00; text-decoration-color: #00af00\">1000</span>, <span style=\"color: #00af00; text-decoration-color: #00af00\">32</span>)       │             <span style=\"color: #00af00; text-decoration-color: #00af00\">0</span> │\n├─────────────────────────────────┼────────────────────────┼───────────────┤\n│ conv1d_17 (<span style=\"color: #0087ff; text-decoration-color: #0087ff\">Conv1D</span>)              │ (<span style=\"color: #00d7ff; text-decoration-color: #00d7ff\">None</span>, <span style=\"color: #00af00; text-decoration-color: #00af00\">1000</span>, <span style=\"color: #00af00; text-decoration-color: #00af00\">32</span>)       │         <span style=\"color: #00af00; text-decoration-color: #00af00\">3,104</span> │\n├─────────────────────────────────┼────────────────────────┼───────────────┤\n│ batch_normalization_17          │ (<span style=\"color: #00d7ff; text-decoration-color: #00d7ff\">None</span>, <span style=\"color: #00af00; text-decoration-color: #00af00\">1000</span>, <span style=\"color: #00af00; text-decoration-color: #00af00\">32</span>)       │           <span style=\"color: #00af00; text-decoration-color: #00af00\">128</span> │\n│ (<span style=\"color: #0087ff; text-decoration-color: #0087ff\">BatchNormalization</span>)            │                        │               │\n├─────────────────────────────────┼────────────────────────┼───────────────┤\n│ leaky_re_lu_17 (<span style=\"color: #0087ff; text-decoration-color: #0087ff\">LeakyReLU</span>)      │ (<span style=\"color: #00d7ff; text-decoration-color: #00d7ff\">None</span>, <span style=\"color: #00af00; text-decoration-color: #00af00\">1000</span>, <span style=\"color: #00af00; text-decoration-color: #00af00\">32</span>)       │             <span style=\"color: #00af00; text-decoration-color: #00af00\">0</span> │\n├─────────────────────────────────┼────────────────────────┼───────────────┤\n│ dropout_17 (<span style=\"color: #0087ff; text-decoration-color: #0087ff\">Dropout</span>)            │ (<span style=\"color: #00d7ff; text-decoration-color: #00d7ff\">None</span>, <span style=\"color: #00af00; text-decoration-color: #00af00\">1000</span>, <span style=\"color: #00af00; text-decoration-color: #00af00\">32</span>)       │             <span style=\"color: #00af00; text-decoration-color: #00af00\">0</span> │\n├─────────────────────────────────┼────────────────────────┼───────────────┤\n│ conv1d_18 (<span style=\"color: #0087ff; text-decoration-color: #0087ff\">Conv1D</span>)              │ (<span style=\"color: #00d7ff; text-decoration-color: #00d7ff\">None</span>, <span style=\"color: #00af00; text-decoration-color: #00af00\">1000</span>, <span style=\"color: #00af00; text-decoration-color: #00af00\">32</span>)       │         <span style=\"color: #00af00; text-decoration-color: #00af00\">3,104</span> │\n├─────────────────────────────────┼────────────────────────┼───────────────┤\n│ batch_normalization_18          │ (<span style=\"color: #00d7ff; text-decoration-color: #00d7ff\">None</span>, <span style=\"color: #00af00; text-decoration-color: #00af00\">1000</span>, <span style=\"color: #00af00; text-decoration-color: #00af00\">32</span>)       │           <span style=\"color: #00af00; text-decoration-color: #00af00\">128</span> │\n│ (<span style=\"color: #0087ff; text-decoration-color: #0087ff\">BatchNormalization</span>)            │                        │               │\n├─────────────────────────────────┼────────────────────────┼───────────────┤\n│ leaky_re_lu_18 (<span style=\"color: #0087ff; text-decoration-color: #0087ff\">LeakyReLU</span>)      │ (<span style=\"color: #00d7ff; text-decoration-color: #00d7ff\">None</span>, <span style=\"color: #00af00; text-decoration-color: #00af00\">1000</span>, <span style=\"color: #00af00; text-decoration-color: #00af00\">32</span>)       │             <span style=\"color: #00af00; text-decoration-color: #00af00\">0</span> │\n├─────────────────────────────────┼────────────────────────┼───────────────┤\n│ dropout_18 (<span style=\"color: #0087ff; text-decoration-color: #0087ff\">Dropout</span>)            │ (<span style=\"color: #00d7ff; text-decoration-color: #00d7ff\">None</span>, <span style=\"color: #00af00; text-decoration-color: #00af00\">1000</span>, <span style=\"color: #00af00; text-decoration-color: #00af00\">32</span>)       │             <span style=\"color: #00af00; text-decoration-color: #00af00\">0</span> │\n├─────────────────────────────────┼────────────────────────┼───────────────┤\n│ conv1d_19 (<span style=\"color: #0087ff; text-decoration-color: #0087ff\">Conv1D</span>)              │ (<span style=\"color: #00d7ff; text-decoration-color: #00d7ff\">None</span>, <span style=\"color: #00af00; text-decoration-color: #00af00\">1000</span>, <span style=\"color: #00af00; text-decoration-color: #00af00\">32</span>)       │         <span style=\"color: #00af00; text-decoration-color: #00af00\">3,104</span> │\n├─────────────────────────────────┼────────────────────────┼───────────────┤\n│ batch_normalization_19          │ (<span style=\"color: #00d7ff; text-decoration-color: #00d7ff\">None</span>, <span style=\"color: #00af00; text-decoration-color: #00af00\">1000</span>, <span style=\"color: #00af00; text-decoration-color: #00af00\">32</span>)       │           <span style=\"color: #00af00; text-decoration-color: #00af00\">128</span> │\n│ (<span style=\"color: #0087ff; text-decoration-color: #0087ff\">BatchNormalization</span>)            │                        │               │\n├─────────────────────────────────┼────────────────────────┼───────────────┤\n│ leaky_re_lu_19 (<span style=\"color: #0087ff; text-decoration-color: #0087ff\">LeakyReLU</span>)      │ (<span style=\"color: #00d7ff; text-decoration-color: #00d7ff\">None</span>, <span style=\"color: #00af00; text-decoration-color: #00af00\">1000</span>, <span style=\"color: #00af00; text-decoration-color: #00af00\">32</span>)       │             <span style=\"color: #00af00; text-decoration-color: #00af00\">0</span> │\n├─────────────────────────────────┼────────────────────────┼───────────────┤\n│ dropout_19 (<span style=\"color: #0087ff; text-decoration-color: #0087ff\">Dropout</span>)            │ (<span style=\"color: #00d7ff; text-decoration-color: #00d7ff\">None</span>, <span style=\"color: #00af00; text-decoration-color: #00af00\">1000</span>, <span style=\"color: #00af00; text-decoration-color: #00af00\">32</span>)       │             <span style=\"color: #00af00; text-decoration-color: #00af00\">0</span> │\n├─────────────────────────────────┼────────────────────────┼───────────────┤\n│ flatten_3 (<span style=\"color: #0087ff; text-decoration-color: #0087ff\">Flatten</span>)             │ (<span style=\"color: #00d7ff; text-decoration-color: #00d7ff\">None</span>, <span style=\"color: #00af00; text-decoration-color: #00af00\">32000</span>)          │             <span style=\"color: #00af00; text-decoration-color: #00af00\">0</span> │\n├─────────────────────────────────┼────────────────────────┼───────────────┤\n│ dense_3 (<span style=\"color: #0087ff; text-decoration-color: #0087ff\">Dense</span>)                 │ (<span style=\"color: #00d7ff; text-decoration-color: #00d7ff\">None</span>, <span style=\"color: #00af00; text-decoration-color: #00af00\">2</span>)              │        <span style=\"color: #00af00; text-decoration-color: #00af00\">64,002</span> │\n└─────────────────────────────────┴────────────────────────┴───────────────┘\n</pre>\n"
     },
     "metadata": {},
     "output_type": "display_data"
    },
    {
     "data": {
      "text/plain": "\u001B[1m Total params: \u001B[0m\u001B[38;5;34m234,088\u001B[0m (914.41 KB)\n",
      "text/html": "<pre style=\"white-space:pre;overflow-x:auto;line-height:normal;font-family:Menlo,'DejaVu Sans Mono',consolas,'Courier New',monospace\"><span style=\"font-weight: bold\"> Total params: </span><span style=\"color: #00af00; text-decoration-color: #00af00\">234,088</span> (914.41 KB)\n</pre>\n"
     },
     "metadata": {},
     "output_type": "display_data"
    },
    {
     "data": {
      "text/plain": "\u001B[1m Trainable params: \u001B[0m\u001B[38;5;34m77,922\u001B[0m (304.38 KB)\n",
      "text/html": "<pre style=\"white-space:pre;overflow-x:auto;line-height:normal;font-family:Menlo,'DejaVu Sans Mono',consolas,'Courier New',monospace\"><span style=\"font-weight: bold\"> Trainable params: </span><span style=\"color: #00af00; text-decoration-color: #00af00\">77,922</span> (304.38 KB)\n</pre>\n"
     },
     "metadata": {},
     "output_type": "display_data"
    },
    {
     "data": {
      "text/plain": "\u001B[1m Non-trainable params: \u001B[0m\u001B[38;5;34m320\u001B[0m (1.25 KB)\n",
      "text/html": "<pre style=\"white-space:pre;overflow-x:auto;line-height:normal;font-family:Menlo,'DejaVu Sans Mono',consolas,'Courier New',monospace\"><span style=\"font-weight: bold\"> Non-trainable params: </span><span style=\"color: #00af00; text-decoration-color: #00af00\">320</span> (1.25 KB)\n</pre>\n"
     },
     "metadata": {},
     "output_type": "display_data"
    },
    {
     "data": {
      "text/plain": "\u001B[1m Optimizer params: \u001B[0m\u001B[38;5;34m155,846\u001B[0m (608.78 KB)\n",
      "text/html": "<pre style=\"white-space:pre;overflow-x:auto;line-height:normal;font-family:Menlo,'DejaVu Sans Mono',consolas,'Courier New',monospace\"><span style=\"font-weight: bold\"> Optimizer params: </span><span style=\"color: #00af00; text-decoration-color: #00af00\">155,846</span> (608.78 KB)\n</pre>\n"
     },
     "metadata": {},
     "output_type": "display_data"
    }
   ],
   "source": [
    "# Display the model summary\n",
    "model1.summary()"
   ],
   "metadata": {
    "collapsed": false,
    "ExecuteTime": {
     "end_time": "2024-06-10T19:15:12.624999Z",
     "start_time": "2024-06-10T19:15:12.524385Z"
    }
   },
   "id": "f2cd079d21080962",
   "execution_count": 142
  },
  {
   "cell_type": "markdown",
   "source": [
    "## Model Training"
   ],
   "metadata": {
    "collapsed": false
   },
   "id": "752951efeac07712"
  },
  {
   "cell_type": "code",
   "outputs": [],
   "source": [
    "# Define callbacks\n",
    "callbacks = [EarlyStopping(monitor='val_AUC', patience=20, verbose=1, restore_best_weights=True),\n",
    "             ReduceLROnPlateau(monitor='val_AUC', patience=20, verbose=1, min_lr=1e-6, restore_best_weights=True)]"
   ],
   "metadata": {
    "collapsed": false,
    "ExecuteTime": {
     "end_time": "2024-06-10T09:45:54.492302Z",
     "start_time": "2024-06-10T09:45:54.480611Z"
    }
   },
   "id": "fd8ff01ef4f55de3",
   "execution_count": 88
  },
  {
   "cell_type": "code",
   "outputs": [
    {
     "name": "stdout",
     "output_type": "stream",
     "text": [
      "Epoch 1/50\n",
      "\u001B[1m209/209\u001B[0m \u001B[32m━━━━━━━━━━━━━━━━━━━━\u001B[0m\u001B[37m\u001B[0m \u001B[1m23s\u001B[0m 89ms/step - AUC: 0.8329 - Precision: 0.8182 - Recall: 0.8583 - fn: 1195.2380 - fp: 1195.2380 - loss: 0.7188 - tn: 5555.9712 - tp: 5555.9712 - val_AUC: 0.8413 - val_Precision: 0.8411 - val_Recall: 0.8458 - val_fn: 605.0000 - val_fp: 605.0000 - val_loss: 0.6548 - val_tn: 3202.0000 - val_tp: 3202.0000 - learning_rate: 1.0000e-04\n",
      "Epoch 2/50\n",
      "\u001B[1m209/209\u001B[0m \u001B[32m━━━━━━━━━━━━━━━━━━━━\u001B[0m\u001B[37m\u001B[0m \u001B[1m13s\u001B[0m 64ms/step - AUC: 0.8444 - Precision: 0.8406 - Recall: 0.8513 - fn: 1085.6238 - fp: 1085.6238 - loss: 0.6410 - tn: 5665.5859 - tp: 5665.5859 - val_AUC: 0.8405 - val_Precision: 0.8413 - val_Recall: 0.8429 - val_fn: 604.0000 - val_fp: 604.0000 - val_loss: 0.6424 - val_tn: 3203.0000 - val_tp: 3203.0000 - learning_rate: 1.0000e-04\n",
      "Epoch 3/50\n",
      "\u001B[1m209/209\u001B[0m \u001B[32m━━━━━━━━━━━━━━━━━━━━\u001B[0m\u001B[37m\u001B[0m \u001B[1m13s\u001B[0m 62ms/step - AUC: 0.8328 - Precision: 0.8301 - Recall: 0.8423 - fn: 1127.8429 - fp: 1127.8429 - loss: 0.6571 - tn: 5623.3667 - tp: 5623.3667 - val_AUC: 0.8406 - val_Precision: 0.8421 - val_Recall: 0.8427 - val_fn: 601.0000 - val_fp: 601.0000 - val_loss: 0.6365 - val_tn: 3206.0000 - val_tp: 3206.0000 - learning_rate: 1.0000e-04\n",
      "Epoch 4/50\n",
      "\u001B[1m209/209\u001B[0m \u001B[32m━━━━━━━━━━━━━━━━━━━━\u001B[0m\u001B[37m\u001B[0m \u001B[1m14s\u001B[0m 65ms/step - AUC: 0.8526 - Precision: 0.8438 - Recall: 0.8542 - fn: 1087.7000 - fp: 1087.7000 - loss: 0.6043 - tn: 5663.5098 - tp: 5663.5098 - val_AUC: 0.8418 - val_Precision: 0.8421 - val_Recall: 0.8432 - val_fn: 601.0000 - val_fp: 601.0000 - val_loss: 0.6210 - val_tn: 3206.0000 - val_tp: 3206.0000 - learning_rate: 1.0000e-04\n",
      "Epoch 5/50\n",
      "\u001B[1m209/209\u001B[0m \u001B[32m━━━━━━━━━━━━━━━━━━━━\u001B[0m\u001B[37m\u001B[0m \u001B[1m14s\u001B[0m 68ms/step - AUC: 0.8524 - Precision: 0.8385 - Recall: 0.8481 - fn: 1086.0333 - fp: 1086.0333 - loss: 0.6015 - tn: 5665.1763 - tp: 5665.1763 - val_AUC: 0.8415 - val_Precision: 0.8421 - val_Recall: 0.8429 - val_fn: 601.0000 - val_fp: 601.0000 - val_loss: 0.6139 - val_tn: 3206.0000 - val_tp: 3206.0000 - learning_rate: 1.0000e-04\n",
      "Epoch 6/50\n",
      "\u001B[1m209/209\u001B[0m \u001B[32m━━━━━━━━━━━━━━━━━━━━\u001B[0m\u001B[37m\u001B[0m \u001B[1m14s\u001B[0m 66ms/step - AUC: 0.8579 - Precision: 0.8373 - Recall: 0.8522 - fn: 1109.3286 - fp: 1109.3286 - loss: 0.6026 - tn: 5641.8809 - tp: 5641.8809 - val_AUC: 0.8424 - val_Precision: 0.8419 - val_Recall: 0.8440 - val_fn: 602.0000 - val_fp: 602.0000 - val_loss: 0.6068 - val_tn: 3205.0000 - val_tp: 3205.0000 - learning_rate: 1.0000e-04\n",
      "Epoch 7/50\n",
      "\u001B[1m209/209\u001B[0m \u001B[32m━━━━━━━━━━━━━━━━━━━━\u001B[0m\u001B[37m\u001B[0m \u001B[1m20s\u001B[0m 94ms/step - AUC: 0.8602 - Precision: 0.8431 - Recall: 0.8532 - fn: 1076.6047 - fp: 1076.6047 - loss: 0.5746 - tn: 5674.6050 - tp: 5674.6050 - val_AUC: 0.8414 - val_Precision: 0.8421 - val_Recall: 0.8427 - val_fn: 601.0000 - val_fp: 601.0000 - val_loss: 0.6060 - val_tn: 3206.0000 - val_tp: 3206.0000 - learning_rate: 1.0000e-04\n",
      "Epoch 8/50\n",
      "\u001B[1m209/209\u001B[0m \u001B[32m━━━━━━━━━━━━━━━━━━━━\u001B[0m\u001B[37m\u001B[0m \u001B[1m18s\u001B[0m 87ms/step - AUC: 0.8522 - Precision: 0.8334 - Recall: 0.8456 - fn: 1112.8334 - fp: 1112.8334 - loss: 0.5762 - tn: 5638.3760 - tp: 5638.3760 - val_AUC: 0.8430 - val_Precision: 0.8413 - val_Recall: 0.8434 - val_fn: 604.0000 - val_fp: 604.0000 - val_loss: 0.5952 - val_tn: 3203.0000 - val_tp: 3203.0000 - learning_rate: 1.0000e-04\n",
      "Epoch 9/50\n",
      "\u001B[1m209/209\u001B[0m \u001B[32m━━━━━━━━━━━━━━━━━━━━\u001B[0m\u001B[37m\u001B[0m \u001B[1m20s\u001B[0m 93ms/step - AUC: 0.8601 - Precision: 0.8384 - Recall: 0.8555 - fn: 1086.8905 - fp: 1086.8905 - loss: 0.5551 - tn: 5664.3188 - tp: 5664.3188 - val_AUC: 0.8441 - val_Precision: 0.8403 - val_Recall: 0.8469 - val_fn: 608.0000 - val_fp: 608.0000 - val_loss: 0.5869 - val_tn: 3199.0000 - val_tp: 3199.0000 - learning_rate: 1.0000e-04\n",
      "Epoch 10/50\n",
      "\u001B[1m209/209\u001B[0m \u001B[32m━━━━━━━━━━━━━━━━━━━━\u001B[0m\u001B[37m\u001B[0m \u001B[1m14s\u001B[0m 68ms/step - AUC: 0.8650 - Precision: 0.8355 - Recall: 0.8528 - fn: 1086.8905 - fp: 1086.8905 - loss: 0.5472 - tn: 5664.3188 - tp: 5664.3188 - val_AUC: 0.8439 - val_Precision: 0.8395 - val_Recall: 0.8463 - val_fn: 611.0000 - val_fp: 611.0000 - val_loss: 0.5831 - val_tn: 3196.0000 - val_tp: 3196.0000 - learning_rate: 1.0000e-04\n",
      "Epoch 11/50\n",
      "\u001B[1m209/209\u001B[0m \u001B[32m━━━━━━━━━━━━━━━━━━━━\u001B[0m\u001B[37m\u001B[0m \u001B[1m13s\u001B[0m 64ms/step - AUC: 0.8680 - Precision: 0.8387 - Recall: 0.8581 - fn: 1094.2285 - fp: 1094.2285 - loss: 0.5236 - tn: 5656.9810 - tp: 5656.9810 - val_AUC: 0.8429 - val_Precision: 0.8395 - val_Recall: 0.8458 - val_fn: 611.0000 - val_fp: 611.0000 - val_loss: 0.5799 - val_tn: 3196.0000 - val_tp: 3196.0000 - learning_rate: 1.0000e-04\n",
      "Epoch 12/50\n",
      "\u001B[1m209/209\u001B[0m \u001B[32m━━━━━━━━━━━━━━━━━━━━\u001B[0m\u001B[37m\u001B[0m \u001B[1m17s\u001B[0m 78ms/step - AUC: 0.8678 - Precision: 0.8382 - Recall: 0.8618 - fn: 1107.2380 - fp: 1107.2380 - loss: 0.5192 - tn: 5643.9712 - tp: 5643.9712 - val_AUC: 0.8408 - val_Precision: 0.8358 - val_Recall: 0.8574 - val_fn: 625.0000 - val_fp: 625.0000 - val_loss: 0.5798 - val_tn: 3182.0000 - val_tp: 3182.0000 - learning_rate: 1.0000e-04\n",
      "Epoch 13/50\n",
      "\u001B[1m209/209\u001B[0m \u001B[32m━━━━━━━━━━━━━━━━━━━━\u001B[0m\u001B[37m\u001B[0m \u001B[1m12s\u001B[0m 59ms/step - AUC: 0.8720 - Precision: 0.8384 - Recall: 0.8689 - fn: 1102.8572 - fp: 1102.8572 - loss: 0.4973 - tn: 5648.3525 - tp: 5648.3525 - val_AUC: 0.8424 - val_Precision: 0.8387 - val_Recall: 0.8516 - val_fn: 614.0000 - val_fp: 614.0000 - val_loss: 0.5736 - val_tn: 3193.0000 - val_tp: 3193.0000 - learning_rate: 1.0000e-04\n",
      "Epoch 14/50\n",
      "\u001B[1m209/209\u001B[0m \u001B[32m━━━━━━━━━━━━━━━━━━━━\u001B[0m\u001B[37m\u001B[0m \u001B[1m15s\u001B[0m 69ms/step - AUC: 0.8728 - Precision: 0.8376 - Recall: 0.8674 - fn: 1099.1571 - fp: 1099.1571 - loss: 0.5031 - tn: 5652.0522 - tp: 5652.0522 - val_AUC: 0.8431 - val_Precision: 0.8416 - val_Recall: 0.8448 - val_fn: 603.0000 - val_fp: 603.0000 - val_loss: 0.5856 - val_tn: 3204.0000 - val_tp: 3204.0000 - learning_rate: 1.0000e-04\n",
      "Epoch 15/50\n",
      "\u001B[1m209/209\u001B[0m \u001B[32m━━━━━━━━━━━━━━━━━━━━\u001B[0m\u001B[37m\u001B[0m \u001B[1m13s\u001B[0m 63ms/step - AUC: 0.8710 - Precision: 0.8354 - Recall: 0.8659 - fn: 1102.4286 - fp: 1102.4286 - loss: 0.4879 - tn: 5648.7808 - tp: 5648.7808 - val_AUC: 0.8417 - val_Precision: 0.8392 - val_Recall: 0.8479 - val_fn: 612.0000 - val_fp: 612.0000 - val_loss: 0.5756 - val_tn: 3195.0000 - val_tp: 3195.0000 - learning_rate: 1.0000e-04\n",
      "Epoch 16/50\n",
      "\u001B[1m209/209\u001B[0m \u001B[32m━━━━━━━━━━━━━━━━━━━━\u001B[0m\u001B[37m\u001B[0m \u001B[1m13s\u001B[0m 63ms/step - AUC: 0.8774 - Precision: 0.8333 - Recall: 0.8734 - fn: 1101.7190 - fp: 1101.7190 - loss: 0.4745 - tn: 5649.4902 - tp: 5649.4902 - val_AUC: 0.8434 - val_Precision: 0.8400 - val_Recall: 0.8471 - val_fn: 609.0000 - val_fp: 609.0000 - val_loss: 0.5712 - val_tn: 3198.0000 - val_tp: 3198.0000 - learning_rate: 1.0000e-04\n",
      "Epoch 17/50\n",
      "\u001B[1m209/209\u001B[0m \u001B[32m━━━━━━━━━━━━━━━━━━━━\u001B[0m\u001B[37m\u001B[0m \u001B[1m13s\u001B[0m 60ms/step - AUC: 0.8753 - Precision: 0.8359 - Recall: 0.8713 - fn: 1111.5095 - fp: 1111.5095 - loss: 0.4706 - tn: 5639.7002 - tp: 5639.7002 - val_AUC: 0.8408 - val_Precision: 0.8306 - val_Recall: 0.8547 - val_fn: 645.0000 - val_fp: 645.0000 - val_loss: 0.5714 - val_tn: 3162.0000 - val_tp: 3162.0000 - learning_rate: 1.0000e-04\n",
      "Epoch 18/50\n",
      "\u001B[1m209/209\u001B[0m \u001B[32m━━━━━━━━━━━━━━━━━━━━\u001B[0m\u001B[37m\u001B[0m \u001B[1m13s\u001B[0m 60ms/step - AUC: 0.8806 - Precision: 0.8374 - Recall: 0.8754 - fn: 1102.3524 - fp: 1102.3524 - loss: 0.4587 - tn: 5648.8569 - tp: 5648.8569 - val_AUC: 0.8415 - val_Precision: 0.8340 - val_Recall: 0.8526 - val_fn: 632.0000 - val_fp: 632.0000 - val_loss: 0.5717 - val_tn: 3175.0000 - val_tp: 3175.0000 - learning_rate: 1.0000e-04\n",
      "Epoch 19/50\n",
      "\u001B[1m209/209\u001B[0m \u001B[32m━━━━━━━━━━━━━━━━━━━━\u001B[0m\u001B[37m\u001B[0m \u001B[1m13s\u001B[0m 62ms/step - AUC: 0.8817 - Precision: 0.8360 - Recall: 0.8788 - fn: 1097.3905 - fp: 1097.3905 - loss: 0.4504 - tn: 5653.8188 - tp: 5653.8188 - val_AUC: 0.8415 - val_Precision: 0.8327 - val_Recall: 0.8513 - val_fn: 637.0000 - val_fp: 637.0000 - val_loss: 0.5724 - val_tn: 3170.0000 - val_tp: 3170.0000 - learning_rate: 1.0000e-04\n",
      "Epoch 20/50\n",
      "\u001B[1m209/209\u001B[0m \u001B[32m━━━━━━━━━━━━━━━━━━━━\u001B[0m\u001B[37m\u001B[0m \u001B[1m12s\u001B[0m 59ms/step - AUC: 0.8835 - Precision: 0.8339 - Recall: 0.8821 - fn: 1112.4143 - fp: 1112.4143 - loss: 0.4471 - tn: 5638.7954 - tp: 5638.7954 - val_AUC: 0.8416 - val_Precision: 0.8358 - val_Recall: 0.8495 - val_fn: 625.0000 - val_fp: 625.0000 - val_loss: 0.5782 - val_tn: 3182.0000 - val_tp: 3182.0000 - learning_rate: 1.0000e-04\n",
      "Epoch 21/50\n",
      "\u001B[1m209/209\u001B[0m \u001B[32m━━━━━━━━━━━━━━━━━━━━\u001B[0m\u001B[37m\u001B[0m \u001B[1m13s\u001B[0m 61ms/step - AUC: 0.8807 - Precision: 0.8349 - Recall: 0.8760 - fn: 1099.6571 - fp: 1099.6571 - loss: 0.4455 - tn: 5651.5522 - tp: 5651.5522 - val_AUC: 0.8397 - val_Precision: 0.8285 - val_Recall: 0.8550 - val_fn: 653.0000 - val_fp: 653.0000 - val_loss: 0.5695 - val_tn: 3154.0000 - val_tp: 3154.0000 - learning_rate: 1.0000e-04\n",
      "Epoch 22/50\n",
      "\u001B[1m209/209\u001B[0m \u001B[32m━━━━━━━━━━━━━━━━━━━━\u001B[0m\u001B[37m\u001B[0m \u001B[1m12s\u001B[0m 59ms/step - AUC: 0.8836 - Precision: 0.8368 - Recall: 0.8806 - fn: 1098.2095 - fp: 1098.2095 - loss: 0.4323 - tn: 5653.0000 - tp: 5653.0000 - val_AUC: 0.8387 - val_Precision: 0.8308 - val_Recall: 0.8495 - val_fn: 644.0000 - val_fp: 644.0000 - val_loss: 0.5781 - val_tn: 3163.0000 - val_tp: 3163.0000 - learning_rate: 1.0000e-04\n",
      "Epoch 23/50\n",
      "\u001B[1m209/209\u001B[0m \u001B[32m━━━━━━━━━━━━━━━━━━━━\u001B[0m\u001B[37m\u001B[0m \u001B[1m12s\u001B[0m 59ms/step - AUC: 0.8932 - Precision: 0.8425 - Recall: 0.8874 - fn: 1087.8096 - fp: 1087.8096 - loss: 0.4112 - tn: 5663.3999 - tp: 5663.3999 - val_AUC: 0.8352 - val_Precision: 0.8180 - val_Recall: 0.8534 - val_fn: 693.0000 - val_fp: 693.0000 - val_loss: 0.5816 - val_tn: 3114.0000 - val_tp: 3114.0000 - learning_rate: 1.0000e-04\n",
      "Epoch 24/50\n",
      "\u001B[1m209/209\u001B[0m \u001B[32m━━━━━━━━━━━━━━━━━━━━\u001B[0m\u001B[37m\u001B[0m \u001B[1m13s\u001B[0m 60ms/step - AUC: 0.8882 - Precision: 0.8395 - Recall: 0.8830 - fn: 1074.1238 - fp: 1074.1238 - loss: 0.4214 - tn: 5677.0859 - tp: 5677.0859 - val_AUC: 0.8376 - val_Precision: 0.8235 - val_Recall: 0.8542 - val_fn: 672.0000 - val_fp: 672.0000 - val_loss: 0.5735 - val_tn: 3135.0000 - val_tp: 3135.0000 - learning_rate: 1.0000e-04\n",
      "Epoch 25/50\n",
      "\u001B[1m209/209\u001B[0m \u001B[32m━━━━━━━━━━━━━━━━━━━━\u001B[0m\u001B[37m\u001B[0m \u001B[1m13s\u001B[0m 64ms/step - AUC: 0.8929 - Precision: 0.8369 - Recall: 0.8862 - fn: 1084.3000 - fp: 1084.3000 - loss: 0.4074 - tn: 5666.9097 - tp: 5666.9097 - val_AUC: 0.8384 - val_Precision: 0.8258 - val_Recall: 0.8516 - val_fn: 663.0000 - val_fp: 663.0000 - val_loss: 0.5711 - val_tn: 3144.0000 - val_tp: 3144.0000 - learning_rate: 1.0000e-04\n",
      "Epoch 26/50\n",
      "\u001B[1m209/209\u001B[0m \u001B[32m━━━━━━━━━━━━━━━━━━━━\u001B[0m\u001B[37m\u001B[0m \u001B[1m13s\u001B[0m 63ms/step - AUC: 0.8941 - Precision: 0.8439 - Recall: 0.8828 - fn: 1073.0048 - fp: 1073.0048 - loss: 0.3966 - tn: 5678.2046 - tp: 5678.2046 - val_AUC: 0.8380 - val_Precision: 0.8293 - val_Recall: 0.8498 - val_fn: 650.0000 - val_fp: 650.0000 - val_loss: 0.5737 - val_tn: 3157.0000 - val_tp: 3157.0000 - learning_rate: 1.0000e-04\n",
      "Epoch 27/50\n",
      "\u001B[1m209/209\u001B[0m \u001B[32m━━━━━━━━━━━━━━━━━━━━\u001B[0m\u001B[37m\u001B[0m \u001B[1m13s\u001B[0m 62ms/step - AUC: 0.8944 - Precision: 0.8389 - Recall: 0.8877 - fn: 1087.5333 - fp: 1087.5333 - loss: 0.3972 - tn: 5663.6763 - tp: 5663.6763 - val_AUC: 0.8383 - val_Precision: 0.8287 - val_Recall: 0.8484 - val_fn: 652.0000 - val_fp: 652.0000 - val_loss: 0.5894 - val_tn: 3155.0000 - val_tp: 3155.0000 - learning_rate: 1.0000e-04\n",
      "Epoch 28/50\n",
      "\u001B[1m209/209\u001B[0m \u001B[32m━━━━━━━━━━━━━━━━━━━━\u001B[0m\u001B[37m\u001B[0m \u001B[1m12s\u001B[0m 60ms/step - AUC: 0.8939 - Precision: 0.8452 - Recall: 0.8857 - fn: 1063.7667 - fp: 1063.7667 - loss: 0.3928 - tn: 5687.4429 - tp: 5687.4429 - val_AUC: 0.8369 - val_Precision: 0.8235 - val_Recall: 0.8526 - val_fn: 672.0000 - val_fp: 672.0000 - val_loss: 0.5777 - val_tn: 3135.0000 - val_tp: 3135.0000 - learning_rate: 1.0000e-04\n",
      "Epoch 29/50\n",
      "\u001B[1m209/209\u001B[0m \u001B[32m━━━━━━━━━━━━━━━━━━━━\u001B[0m\u001B[37m\u001B[0m \u001B[1m12s\u001B[0m 58ms/step - AUC: 0.8977 - Precision: 0.8393 - Recall: 0.8892 - fn: 1090.9191 - fp: 1090.9191 - loss: 0.3897 - tn: 5660.2905 - tp: 5660.2905 - val_AUC: 0.8389 - val_Precision: 0.8274 - val_Recall: 0.8500 - val_fn: 657.0000 - val_fp: 657.0000 - val_loss: 0.5917 - val_tn: 3150.0000 - val_tp: 3150.0000 - learning_rate: 1.0000e-04\n",
      "Epoch 29: early stopping\n",
      "Restoring model weights from the end of the best epoch: 9.\n"
     ]
    },
    {
     "data": {
      "text/plain": "<keras.src.callbacks.history.History at 0x44f8cdf30>"
     },
     "execution_count": 112,
     "metadata": {},
     "output_type": "execute_result"
    }
   ],
   "source": [
    "model1.fit(X_train, y_train_oh, validation_data=(X_val, y_val_oh), epochs=50, batch_size=64, callbacks=callbacks, sample_weight= y_train_label.map(class_weights_dict))"
   ],
   "metadata": {
    "collapsed": false,
    "ExecuteTime": {
     "end_time": "2024-06-10T14:19:10.325135Z",
     "start_time": "2024-06-10T14:12:00.680358Z"
    }
   },
   "id": "b1d960bc20c6b22b",
   "execution_count": 112
  },
  {
   "cell_type": "markdown",
   "source": [
    "## Training Results Visualization"
   ],
   "metadata": {
    "collapsed": false
   },
   "id": "6af8cedc65b8f717"
  },
  {
   "cell_type": "code",
   "outputs": [
    {
     "data": {
      "text/plain": "<Figure size 640x480 with 1 Axes>",
      "image/png": "[encoded data removed]"
     },
     "metadata": {},
     "output_type": "display_data"
    }
   ],
   "source": [
    "plt. plot(model1.history.history['AUC'])\n",
    "plt.plot(model1.history.history['val_AUC'])\n",
    "plt.plot(model1.history.history['Recall'])\n",
    "plt.plot(model1.history.history['val_Recall'])\n",
    "plt.legend(['AUC', 'val_AUC', 'Recall', 'val_Recall'])\n",
    "plt.show()"
   ],
   "metadata": {
    "collapsed": false,
    "ExecuteTime": {
     "end_time": "2024-06-10T14:19:22.474281Z",
     "start_time": "2024-06-10T14:19:22.274873Z"
    }
   },
   "id": "c2e462d91d44d16",
   "execution_count": 113
  },
  {
   "cell_type": "code",
   "outputs": [
    {
     "data": {
      "text/plain": "<Figure size 640x480 with 1 Axes>",
      "image/png": "[encoded data removed]"
     },
     "metadata": {},
     "output_type": "display_data"
    }
   ],
   "source": [
    "# loss and accuracy\n",
    "plt.plot(model1.history.history['loss'])\n",
    "plt.plot(model1.history.history['val_loss'])\n",
    "plt.legend(['loss', 'val_loss'])\n",
    "plt.show()"
   ],
   "metadata": {
    "collapsed": false,
    "ExecuteTime": {
     "end_time": "2024-06-10T14:19:42.345362Z",
     "start_time": "2024-06-10T14:19:42.233288Z"
    }
   },
   "id": "5854d3e1e6818c9f",
   "execution_count": 114
  },
  {
   "cell_type": "markdown",
   "source": [
    "## Model Evaluation"
   ],
   "metadata": {
    "collapsed": false
   },
   "id": "df4cbbf53269af4"
  },
  {
   "cell_type": "code",
   "outputs": [
    {
     "name": "stdout",
     "output_type": "stream",
     "text": [
      "60/60 - 2s - 27ms/step - AUC: 0.8502 - Precision: 0.8542 - Recall: 0.8579 - fn: 277.0000 - fp: 277.0000 - loss: 0.5715 - tn: 1623.0000 - tp: 1623.0000\n"
     ]
    },
    {
     "data": {
      "text/plain": "[0.5714845657348633,\n 0.8578947186470032,\n 0.8542105555534363,\n 0.8501933813095093,\n 277.0,\n 277.0,\n 1623.0,\n 1623.0]"
     },
     "execution_count": 115,
     "metadata": {},
     "output_type": "execute_result"
    }
   ],
   "source": [
    "# Evaluate the model\n",
    "y_test_oh = tf.keras.utils.to_categorical(y_test_label, num_classes=num_classes)\n",
    "model1.evaluate(X_test, y_test_oh, verbose=2)"
   ],
   "metadata": {
    "collapsed": false,
    "ExecuteTime": {
     "end_time": "2024-06-10T14:20:30.372015Z",
     "start_time": "2024-06-10T14:20:27.281604Z"
    }
   },
   "id": "2fa3dd93bc1fb3d9",
   "execution_count": 115
  },
  {
   "cell_type": "markdown",
   "source": [
    "#### The model achieves an AUC of 0.85 on the test set, indicating acceptable performance in distinguishing between the 'NORMAL' and 'MI' classes. The recall and precision metrics are also high (0.85), suggesting that the model can effectively identify positive cases (MI) while minimizing false positives."
   ],
   "metadata": {
    "collapsed": false
   },
   "id": "4ce65bfdecec2b35"
  },
  {
   "cell_type": "markdown",
   "source": [
    "## Save Model "
   ],
   "metadata": {
    "collapsed": false
   },
   "id": "9617216be1b4718a"
  },
  {
   "cell_type": "code",
   "outputs": [
    {
     "name": "stderr",
     "output_type": "stream",
     "text": [
      "WARNING:absl:You are saving your model as an HDF5 file via `model.save()` or `keras.saving.save_model(model)`. This file format is considered legacy. We recommend using instead the native Keras format, e.g. `model.save('my_model.keras')` or `keras.saving.save_model(model, 'my_model.keras')`. \n"
     ]
    }
   ],
   "source": [
    "# save the model\n",
    "model1.save('models/cnn_model.h5')"
   ],
   "metadata": {
    "collapsed": false,
    "ExecuteTime": {
     "end_time": "2024-06-10T09:05:46.304315Z",
     "start_time": "2024-06-10T09:05:46.073174Z"
    }
   },
   "id": "7cd7939de8136b4c",
   "execution_count": 56
  },
  {
   "cell_type": "markdown",
   "source": [
    "## Model Predictions"
   ],
   "metadata": {
    "collapsed": false
   },
   "id": "a543c16f18eda6d2"
  },
  {
   "cell_type": "code",
   "outputs": [
    {
     "name": "stdout",
     "output_type": "stream",
     "text": [
      "\u001B[1m60/60\u001B[0m \u001B[32m━━━━━━━━━━━━━━━━━━━━\u001B[0m\u001B[37m\u001B[0m \u001B[1m1s\u001B[0m 10ms/step\n"
     ]
    },
    {
     "data": {
      "text/plain": "0       0\n1       0\n2       0\n3       0\n4       0\n       ..\n1895    0\n1896    0\n1897    0\n1898    0\n1899    0\nLength: 1900, dtype: int64"
     },
     "execution_count": 116,
     "metadata": {},
     "output_type": "execute_result"
    }
   ],
   "source": [
    "# predict the test data\n",
    "y_pred = model1.predict(X_test)\n",
    "y_pred = np.argmax(y_pred, axis=1)\n",
    "y_pred = pd.Series(y_pred)\n",
    "y_pred"
   ],
   "metadata": {
    "collapsed": false,
    "ExecuteTime": {
     "end_time": "2024-06-10T14:20:43.588077Z",
     "start_time": "2024-06-10T14:20:41.529253Z"
    }
   },
   "id": "770cd43a9a3d8c95",
   "execution_count": 116
  },
  {
   "cell_type": "code",
   "outputs": [
    {
     "name": "stdout",
     "output_type": "stream",
     "text": [
      "              precision    recall  f1-score   support\n",
      "\n",
      "           0       0.86      0.74      0.79      1623\n",
      "           1       0.16      0.29      0.20       277\n",
      "\n",
      "    accuracy                           0.67      1900\n",
      "   macro avg       0.51      0.51      0.50      1900\n",
      "weighted avg       0.76      0.67      0.71      1900\n"
     ]
    }
   ],
   "source": [
    "# classification report\n",
    "print(classification_report(y_test_label, y_pred))"
   ],
   "metadata": {
    "collapsed": false,
    "ExecuteTime": {
     "end_time": "2024-06-09T19:55:38.639665Z",
     "start_time": "2024-06-09T19:55:38.613029Z"
    }
   },
   "id": "bdff6dcf723b6c5",
   "execution_count": 88
  },
  {
   "cell_type": "code",
   "outputs": [
    {
     "data": {
      "text/plain": "<Figure size 800x600 with 2 Axes>",
      "image/png": "[encoded data removed]"
     },
     "metadata": {},
     "output_type": "display_data"
    }
   ],
   "source": [
    "# confusion matrix\n",
    "conf_matrix = confusion_matrix(y_test_label, y_pred)\n",
    "# plot the confusion matrix\n",
    "plt.figure(figsize=(8, 6))\n",
    "sns.heatmap(conf_matrix, annot=True, fmt='d', cmap='Blues')\n",
    "plt.xlabel('Predicted')\n",
    "plt.ylabel('Actual')\n",
    "plt.title('Confusion Matrix')\n",
    "plt.show()"
   ],
   "metadata": {
    "collapsed": false,
    "ExecuteTime": {
     "end_time": "2024-06-09T19:55:48.710938Z",
     "start_time": "2024-06-09T19:55:48.622642Z"
    }
   },
   "id": "f9b38fba887dcd0b",
   "execution_count": 89
  },
  {
   "cell_type": "code",
   "outputs": [],
   "source": [],
   "metadata": {
    "collapsed": false
   },
   "id": "a91eb973a0566522"
  }
 ],
 "metadata": {
  "kernelspec": {
   "display_name": "Python 3",
   "language": "python",
   "name": "python3"
  },
  "language_info": {
   "codemirror_mode": {
    "name": "ipython",
    "version": 2
   },
   "file_extension": ".py",
   "mimetype": "text/x-python",
   "name": "python",
   "nbconvert_exporter": "python",
   "pygments_lexer": "ipython2",
   "version": "2.7.6"
  }
 },
 "nbformat": 4,
 "nbformat_minor": 5
}
