{
 "cells": [
  {
   "cell_type": "markdown",
   "metadata": {},
   "source": [
    "# Train a InceptionResnetV1 to perform DeepFake Detection."
   ]
  },
  {
   "cell_type": "code",
   "execution_count": 1,
   "metadata": {},
   "outputs": [
    {
     "name": "stderr",
     "output_type": "stream",
     "text": [
      "/home/espasa/anaconda3/envs/pytorch/lib/python3.8/site-packages/tqdm/auto.py:22: TqdmWarning: IProgress not found. Please update jupyter and ipywidgets. See https://ipywidgets.readthedocs.io/en/stable/user_install.html\n",
      "  from .autonotebook import tqdm as notebook_tqdm\n"
     ]
    }
   ],
   "source": [
    "import os\n",
    "import torch\n",
    "import torch.utils.data as data_utils\n",
    "from torch import nn\n",
    "from torch import optim\n",
    "from facenet_pytorch import InceptionResnetV1\n",
    "from tqdm import tqdm\n",
    "from random import randint\n",
    "import matplotlib.pyplot as plt\n",
    "from utils.denormalize_image import denormalize_image\n",
    "from utils.metrics import get_accuracy\n",
    "from utils.dict_to_struct import DictStructure\n",
    "from dataset.faces import Faces"
   ]
  },
  {
   "cell_type": "code",
   "execution_count": 2,
   "metadata": {},
   "outputs": [
    {
     "name": "stdout",
     "output_type": "stream",
     "text": [
      "Running on device: CUDA:0\n"
     ]
    }
   ],
   "source": [
    "DEVICE = 'cuda:0' if torch.cuda.is_available() else 'cpu'\n",
    "print(f'Running on device: {DEVICE.upper()}')"
   ]
  },
  {
   "cell_type": "code",
   "execution_count": 3,
   "metadata": {},
   "outputs": [],
   "source": [
    "%%capture\n",
    "!pip install wandb --upgrade"
   ]
  },
  {
   "cell_type": "code",
   "execution_count": 4,
   "metadata": {},
   "outputs": [
    {
     "name": "stderr",
     "output_type": "stream",
     "text": [
      "\u001b[34m\u001b[1mwandb\u001b[0m: Currently logged in as: \u001b[33maaronespasa\u001b[0m. Use \u001b[1m`wandb login --relogin`\u001b[0m to force relogin\n"
     ]
    },
    {
     "data": {
      "text/plain": [
       "True"
      ]
     },
     "execution_count": 4,
     "metadata": {},
     "output_type": "execute_result"
    }
   ],
   "source": [
    "import wandb\n",
    "wandb.login()"
   ]
  },
  {
   "cell_type": "code",
   "execution_count": 5,
   "metadata": {},
   "outputs": [
    {
     "data": {
      "text/html": [
       "Tracking run with wandb version 0.12.18"
      ],
      "text/plain": [
       "<IPython.core.display.HTML object>"
      ]
     },
     "metadata": {},
     "output_type": "display_data"
    },
    {
     "data": {
      "text/html": [
       "Run data is saved locally in <code>/home/espasa/Documents/github/deepfake-hd-images/deepfake-detection/wandb/run-20220610_041612-3qj0dabs</code>"
      ],
      "text/plain": [
       "<IPython.core.display.HTML object>"
      ]
     },
     "metadata": {},
     "output_type": "display_data"
    },
    {
     "data": {
      "text/html": [
       "Syncing run <strong><a href=\"https://wandb.ai/aaronespasa/deepfake-detection/runs/3qj0dabs\" target=\"_blank\">usual-wildflower-13</a></strong> to <a href=\"https://wandb.ai/aaronespasa/deepfake-detection\" target=\"_blank\">Weights & Biases</a> (<a href=\"https://wandb.me/run\" target=\"_blank\">docs</a>)<br/>"
      ],
      "text/plain": [
       "<IPython.core.display.HTML object>"
      ]
     },
     "metadata": {},
     "output_type": "display_data"
    },
    {
     "data": {
      "text/html": [
       "<button onClick=\"this.nextSibling.style.display='block';this.style.display='none';\">Display W&B run</button><iframe src=\"https://wandb.ai/aaronespasa/deepfake-detection/runs/3qj0dabs?jupyter=true\" style=\"border:none;width:100%;height:420px;display:none;\"></iframe>"
      ],
      "text/plain": [
       "<wandb.sdk.wandb_run.Run at 0x7fb444101a30>"
      ]
     },
     "execution_count": 5,
     "metadata": {},
     "output_type": "execute_result"
    }
   ],
   "source": [
    "wandb.init(project=\"deepfake-detection\")"
   ]
  },
  {
   "cell_type": "markdown",
   "metadata": {},
   "source": [
    "### Track metadata & Hyperparameters"
   ]
  },
  {
   "cell_type": "code",
   "execution_count": 34,
   "metadata": {},
   "outputs": [],
   "source": [
    "config = dict(\n",
    "    epochs=80,\n",
    "    save_every=4, # save the model every 2 epochs\n",
    "    classes=1, # binary classification\n",
    "    batch_size=32,\n",
    "    learning_rate=0.001,\n",
    "    dataset=\"FaceForensics++\",\n",
    "    architecture=\"InceptionResNetV1\",\n",
    "    pretrained_dataset=\"vggface2\"\n",
    ")"
   ]
  },
  {
   "cell_type": "markdown",
   "metadata": {},
   "source": [
    "### Constants"
   ]
  },
  {
   "cell_type": "code",
   "execution_count": 35,
   "metadata": {},
   "outputs": [],
   "source": [
    "FACES_FOLDER = os.path.join(\"data\", \"faces\")\n",
    "FACES_CSV = os.path.join(FACES_FOLDER, \"faces.csv\")\n",
    "VALIDATION_SPLIT = 0.2\n",
    "CLASS_NAMES = {0: \"real\", 1: \"fake\"}"
   ]
  },
  {
   "cell_type": "markdown",
   "metadata": {},
   "source": [
    "### Create the Data Loaders, the model, the criterion & the optimizer"
   ]
  },
  {
   "cell_type": "code",
   "execution_count": 36,
   "metadata": {},
   "outputs": [],
   "source": [
    "def make(config):\n",
    "    \"\"\"Create the dataloaders, the model, the criterion & the optimizer\"\"\"\n",
    "    if isinstance(config, wandb.Config):\n",
    "        print(\"Using the configuration from wandb.config\")\n",
    "    elif isinstance(config, dict):\n",
    "        print(\"Not using the configuration from wandb.config\")\n",
    "        config = DictStructure(config)\n",
    "    else:\n",
    "        raise ValueError(\"config must be a wandb.Config or a dict\")\n",
    "\n",
    "    # Make the data\n",
    "    train_dataset = get_data(split=\"training\", transform=False, print_ds_len=True)\n",
    "    val_dataset = get_data(split=\"validation\", transform=True, print_ds_len=False)\n",
    "    train_loader = make_loader(train_dataset, batch_size=config.batch_size)\n",
    "    val_loader = make_loader(val_dataset, batch_size=config.batch_size)\n",
    "    \n",
    "    # Make the model\n",
    "    model = InceptionResnetV1(\n",
    "        pretrained=config.pretrained_dataset,\n",
    "        classify=True,\n",
    "        num_classes=config.classes,\n",
    "        device=DEVICE\n",
    "    )\n",
    "\n",
    "    # Make the loss and optimizer\n",
    "    criterion = nn.BCEWithLogitsLoss() # sigmoid + binary cross entropy\n",
    "    optimizer = optim.Adam(model.parameters(), lr=config.learning_rate)\n",
    "    \n",
    "    return model, train_loader, val_loader, criterion, optimizer"
   ]
  },
  {
   "cell_type": "markdown",
   "metadata": {},
   "source": [
    "### Data Preparation"
   ]
  },
  {
   "cell_type": "code",
   "execution_count": 37,
   "metadata": {},
   "outputs": [],
   "source": [
    "def get_data(split:str=\"training\", transform:bool=False, print_ds_len:bool=None):\n",
    "    \"\"\"Get the dataset.\n",
    "    \n",
    "    Args:\n",
    "        split (str): Split of the dataset to use: 'training' or 'validation'\n",
    "        transform (bool, optional): Perform transformations on the data or not\n",
    "        print_ds_len (bool, optional): Print the length of the original dataset\n",
    "    \"\"\"\n",
    "    # Check that the arguments are as expected\n",
    "    assert split in [\"training\", \"validation\"], \"Split must be 'training' or 'validation'\"\n",
    "    assert transform in [True, False], \"Transform must be True or False\"\n",
    "    \n",
    "    # Create the dataset\n",
    "    full_dataset = Faces(root=FACES_FOLDER, csv=FACES_CSV, split=split, transform=transform)\n",
    "    if print_ds_len: print(f\"Original dataset length: {len(full_dataset)}\")\n",
    "\n",
    "    # Set where the subsets should start and end\n",
    "    end_idx = round((1 - VALIDATION_SPLIT) * len(full_dataset)) if split == 'training' else len(full_dataset)\n",
    "    begin_idx = 0 if split == 'training' else round((1 - VALIDATION_SPLIT) * len(full_dataset))\n",
    "\n",
    "    # Create the subsets\n",
    "    subset_indices = torch.arange(begin_idx, end_idx)\n",
    "    subset_dataset = data_utils.Subset(full_dataset, subset_indices)\n",
    "\n",
    "    print(f\"{split} dataset length ({round(len(subset_dataset) / len(full_dataset), 2)*100}%): {len(subset_dataset)}\")\n",
    "\n",
    "    return subset_dataset"
   ]
  },
  {
   "cell_type": "code",
   "execution_count": 38,
   "metadata": {},
   "outputs": [],
   "source": [
    "def make_loader(dataset, batch_size):\n",
    "    \"\"\"Create the Data Loader for the dataset.\"\"\"\n",
    "    loader = data_utils.DataLoader(\n",
    "        dataset=dataset,\n",
    "        batch_size=batch_size,\n",
    "        shuffle=True,\n",
    "        pin_memory=True,\n",
    "        num_workers=2\n",
    "    )\n",
    "    return loader"
   ]
  },
  {
   "cell_type": "code",
   "execution_count": 39,
   "metadata": {},
   "outputs": [],
   "source": [
    "def plot_examples(training_dataset:data_utils.Subset, validation_dataset:data_utils.Subset):\n",
    "    \"\"\"Plot some examples of both datasets in subplots\"\"\"\n",
    "    fig, (ax1, ax2) = plt.subplots(1, 2)\n",
    "\n",
    "    train_image, train_label = training_dataset[randint(0, len(training_dataset)-1)]\n",
    "    val_image, val_label = validation_dataset[randint(0, len(validation_dataset)-1)]\n",
    "    train_image, val_image = denormalize_image(train_image), denormalize_image(val_image)\n",
    "\n",
    "    ax1.set_title(f\"Training ({CLASS_NAMES[train_label.int().item()]})\")\n",
    "    ax1.imshow(train_image)\n",
    "    ax2.set_title(f\"Validation ({CLASS_NAMES[val_label.int().item()]})\")\n",
    "    ax2.imshow(val_image)\n",
    "    plt.show()"
   ]
  },
  {
   "cell_type": "code",
   "execution_count": 45,
   "metadata": {},
   "outputs": [
    {
     "name": "stdout",
     "output_type": "stream",
     "text": [
      "Original dataset length: 26402\n",
      "training dataset length (80.0%): 21122\n",
      "validation dataset length (20.0%): 5280\n"
     ]
    },
    {
     "data": {
      "image/png": "[encoded data removed]",
      "text/plain": [
       "<Figure size 432x288 with 2 Axes>"
      ]
     },
     "metadata": {
      "needs_background": "light"
     },
     "output_type": "display_data"
    }
   ],
   "source": [
    "train_dataset = get_data(split=\"training\", transform=False, print_ds_len=True)\n",
    "val_dataset = get_data(split=\"validation\", transform=True, print_ds_len=False)\n",
    "plot_examples(train_dataset, val_dataset)"
   ]
  },
  {
   "cell_type": "markdown",
   "metadata": {},
   "source": [
    "## Training"
   ]
  },
  {
   "cell_type": "code",
   "execution_count": 40,
   "metadata": {},
   "outputs": [],
   "source": [
    "def train_batch(images, labels, model, criterion, split=\"training\", optimizer=None):\n",
    "    \"\"\"Train a batch of data.\"\"\"\n",
    "    if split == \"training\": assert optimizer is not None, \"Optimizer must be provided for training\"\n",
    "    assert split in [\"training\", \"validation\"], \"Split must be 'training' or 'validation'\"\n",
    "\n",
    "    images = images.to(device=DEVICE)\n",
    "    labels = labels.to(device=DEVICE)\n",
    "\n",
    "    # Forward pass\n",
    "    outputs = model(images).squeeze()\n",
    "\n",
    "    loss = criterion(outputs, labels)\n",
    "    acc = get_accuracy(outputs, labels)\n",
    "\n",
    "    if split == \"training\":\n",
    "        # Backward and optimize\n",
    "        optimizer.zero_grad()\n",
    "        loss.backward()\n",
    "        optimizer.step()\n",
    "\n",
    "    return loss.item(), acc"
   ]
  },
  {
   "cell_type": "markdown",
   "metadata": {},
   "source": [
    "### Overfit a single batch to see if it's learning something"
   ]
  },
  {
   "cell_type": "code",
   "execution_count": 29,
   "metadata": {},
   "outputs": [],
   "source": [
    "def overfit_single_batch():\n",
    "    \"\"\"Train just a batch to see if the model learns anything\"\"\"\n",
    "    model, _, val_loader, criterion, optimizer = make(config)\n",
    "\n",
    "    print(\"Assigning to image & label just one batch of data\")\n",
    "    image, label = None, None\n",
    "    for images, labels in val_loader:\n",
    "        image, label = images, labels\n",
    "        break\n",
    "\n",
    "    image = image.to(device=DEVICE)\n",
    "    label = label.to(device=DEVICE)\n",
    "\n",
    "    print(f\"Image shape: {image.shape}\")\n",
    "    print(f\"First 10 labels: {label[:10]}\")\n",
    "\n",
    "    total_acc = 0\n",
    "    epoch_divisions = 2\n",
    "    num_epochs = epoch_divisions*4\n",
    "    for epoch in range(num_epochs):\n",
    "        loss, acc = train_batch(image, label, model, criterion, \"training\", optimizer)\n",
    "\n",
    "        total_acc += acc\n",
    "\n",
    "        if (epoch + 1) % epoch_divisions == 0:\n",
    "            print(f'Epoch [{epoch + 1}/{num_epochs}], Loss: {loss:.4f}, Acc: {((total_acc/epoch_divisions) * 100):.2f}%')\n",
    "            total_acc = 0\n"
   ]
  },
  {
   "cell_type": "code",
   "execution_count": 16,
   "metadata": {},
   "outputs": [
    {
     "name": "stdout",
     "output_type": "stream",
     "text": [
      "Not using the configuration from wandb.config\n",
      "Original dataset length: 26402\n",
      "training dataset length (80.0%): 21122\n",
      "validation dataset length (20.0%): 5280\n",
      "Assigning to image & label just one batch of data\n",
      "Image shape: torch.Size([32, 3, 256, 256])\n",
      "First 10 labels: tensor([1., 1., 1., 1., 1., 1., 1., 1., 1., 1.], device='cuda:0')\n",
      "Epoch [2/8], Loss: 0.6545, Acc: 54.69%\n",
      "Epoch [4/8], Loss: 0.4964, Acc: 70.31%\n",
      "Epoch [6/8], Loss: 0.0681, Acc: 100.00%\n",
      "Epoch [8/8], Loss: 0.0367, Acc: 100.00%\n"
     ]
    }
   ],
   "source": [
    "overfit_single_batch()"
   ]
  },
  {
   "cell_type": "markdown",
   "metadata": {},
   "source": [
    "As we see in the result below, the loss is decreasing."
   ]
  },
  {
   "cell_type": "markdown",
   "metadata": {},
   "source": [
    "### Train the model"
   ]
  },
  {
   "cell_type": "code",
   "execution_count": 41,
   "metadata": {},
   "outputs": [],
   "source": [
    "def model_pipeline(hyperparameters):\n",
    "    # tell wandb to get started\n",
    "    with wandb.init(project=\"deepfake-detection\", entity=\"aaronespasa\", config=hyperparameters):\n",
    "      # access all HPs through wandb.config, so logging matches execution!\n",
    "      config = wandb.config\n",
    "\n",
    "      # make the model, data, and optimization problem\n",
    "      model, train_loader, val_loader, criterion, optimizer = make(config)\n",
    "\n",
    "      # and use them to train the model\n",
    "      train(model, train_loader, val_loader, criterion, optimizer, config)\n",
    "\n",
    "    return model"
   ]
  },
  {
   "cell_type": "code",
   "execution_count": 42,
   "metadata": {},
   "outputs": [],
   "source": [
    "def save_model(model, optimizer, loss, base_path, epoch):\n",
    "    torch.save({\n",
    "        'epoch': epoch,\n",
    "        'model_state_dict': model.state_dict(),\n",
    "        'optimizer_state_dict': optimizer.state_dict(),\n",
    "        'validation_loss': loss,\n",
    "        },\n",
    "        f\"{base_path}_epoch_{epoch}.pth\"\n",
    "    )"
   ]
  },
  {
   "cell_type": "code",
   "execution_count": 43,
   "metadata": {},
   "outputs": [],
   "source": [
    "def train(model, train_loader, val_loader, criterion, optimizer, config):\n",
    "    \"\"\"Train the model and save the information on Weights and Biases.\"\"\"\n",
    "    print(\"Beginning training 🎨\")\n",
    "    wandb.watch(model, criterion, log=\"all\", log_freq=10)\n",
    "\n",
    "    history = {\n",
    "        \"loss\": {\"train\": [], \"val\": []},\n",
    "        \"acc\": {\"train\": [], \"val\": []}\n",
    "    }\n",
    "    batches_seen = 0\n",
    "    base_path = \"./models/resnetinceptionv1\"\n",
    "\n",
    "    for epoch in range(config.epochs):\n",
    "        # Training\n",
    "        acc_per_epoch_train, loss_per_epoch_train = 0, 0\n",
    "        model.train()\n",
    "        for _, (images_batch, labels_batch) in enumerate(tqdm(train_loader)):\n",
    "            loss, acc = train_batch(images_batch, labels_batch, model, criterion, \"training\", optimizer)\n",
    "\n",
    "            batches_seen += 1\n",
    "            acc_per_epoch_train += acc\n",
    "            loss_per_epoch_train += loss\n",
    "        \n",
    "        # Validation\n",
    "        with torch.no_grad():\n",
    "            acc_per_epoch_val, loss_per_epoch_val = 0, 0\n",
    "            model.eval()\n",
    "            for _, (images_batch, labels_batch) in enumerate(tqdm(val_loader)):\n",
    "                loss, acc = train_batch(images_batch, labels_batch, model, criterion, \"validation\")\n",
    "\n",
    "                acc_per_epoch_val += acc\n",
    "                loss_per_epoch_val += loss\n",
    "\n",
    "        history[\"loss\"][\"train\"].append(loss_per_epoch_train / len(train_loader))\n",
    "        history[\"loss\"][\"val\"].append(loss_per_epoch_val / len(val_loader))\n",
    "        history[\"acc\"][\"train\"].append(acc_per_epoch_train / len(train_loader))\n",
    "        history[\"acc\"][\"val\"].append(acc_per_epoch_val / len(val_loader))\n",
    "\n",
    "        print(f\"Epoch [{epoch + 1}/{config.epochs}]\")\n",
    "        print(f\"\\tTrain Loss: {history['loss']['train'][epoch]:.4f}, Train Acc: {history['acc']['train'][epoch]*100:.2f}%\")\n",
    "        print(f\"\\tVal Loss: {history['loss']['val'][epoch]:.4f}, Val Acc: {history['acc']['val'][epoch]*100:.2f}%\", end=\"\\n\\n\")\n",
    "\n",
    "        wandb.log({\n",
    "            \"Epoch\": epoch + 1,\n",
    "            \"Train Loss\": history[\"loss\"][\"train\"][epoch],\n",
    "            \"Val Loss\": history[\"loss\"][\"val\"][epoch],\n",
    "            \"Train Acc\": round(history[\"acc\"][\"train\"][epoch] * 100, 2),\n",
    "            \"Val Acc\": round(history[\"acc\"][\"val\"][epoch]*100, 2)\n",
    "        }, step=batches_seen)\n",
    "        \n",
    "        if (epoch + 1) % config.save_every == 0:\n",
    "            save_model(model, optimizer, history[\"loss\"][\"val\"][epoch], base_path, epoch + 1)"
   ]
  },
  {
   "cell_type": "code",
   "execution_count": null,
   "metadata": {},
   "outputs": [
    {
     "data": {
      "text/html": [
       "Tracking run with wandb version 0.12.18"
      ],
      "text/plain": [
       "<IPython.core.display.HTML object>"
      ]
     },
     "metadata": {},
     "output_type": "display_data"
    },
    {
     "data": {
      "text/html": [
       "Run data is saved locally in <code>/home/espasa/Documents/github/deepfake-hd-images/deepfake-detection/wandb/run-20220610_043113-bmdc9fxj</code>"
      ],
      "text/plain": [
       "<IPython.core.display.HTML object>"
      ]
     },
     "metadata": {},
     "output_type": "display_data"
    },
    {
     "data": {
      "text/html": [
       "Syncing run <strong><a href=\"https://wandb.ai/aaronespasa/deepfake-detection/runs/bmdc9fxj\" target=\"_blank\">winter-lake-17</a></strong> to <a href=\"https://wandb.ai/aaronespasa/deepfake-detection\" target=\"_blank\">Weights & Biases</a> (<a href=\"https://wandb.me/run\" target=\"_blank\">docs</a>)<br/>"
      ],
      "text/plain": [
       "<IPython.core.display.HTML object>"
      ]
     },
     "metadata": {},
     "output_type": "display_data"
    },
    {
     "name": "stdout",
     "output_type": "stream",
     "text": [
      "Using the configuration from wandb.config\n",
      "Original dataset length: 26402\n",
      "training dataset length (80.0%): 21122\n",
      "validation dataset length (20.0%): 5280\n",
      "Beginning training 🎨\n"
     ]
    },
    {
     "name": "stderr",
     "output_type": "stream",
     "text": [
      "100%|███████████████████████████████████████████████████████████████████████████████████████████████████| 661/661 [07:34<00:00,  1.45it/s]\n",
      "100%|███████████████████████████████████████████████████████████████████████████████████████████████████| 165/165 [00:40<00:00,  4.09it/s]\n"
     ]
    },
    {
     "name": "stdout",
     "output_type": "stream",
     "text": [
      "Epoch [1/80]\n",
      "\tTrain Loss: 0.3277, Train Acc: 86.34%\n",
      "\tVal Loss: 0.2282, Val Acc: 91.31%\n",
      "\n"
     ]
    },
    {
     "name": "stderr",
     "output_type": "stream",
     "text": [
      "100%|███████████████████████████████████████████████████████████████████████████████████████████████████| 661/661 [08:05<00:00,  1.36it/s]\n",
      "100%|███████████████████████████████████████████████████████████████████████████████████████████████████| 165/165 [00:41<00:00,  4.01it/s]\n"
     ]
    },
    {
     "name": "stdout",
     "output_type": "stream",
     "text": [
      "Epoch [2/80]\n",
      "\tTrain Loss: 0.2110, Train Acc: 91.53%\n",
      "\tVal Loss: 1.2714, Val Acc: 90.93%\n",
      "\n"
     ]
    },
    {
     "name": "stderr",
     "output_type": "stream",
     "text": [
      "100%|███████████████████████████████████████████████████████████████████████████████████████████████████| 661/661 [08:05<00:00,  1.36it/s]\n",
      "100%|███████████████████████████████████████████████████████████████████████████████████████████████████| 165/165 [00:40<00:00,  4.04it/s]\n"
     ]
    },
    {
     "name": "stdout",
     "output_type": "stream",
     "text": [
      "Epoch [3/80]\n",
      "\tTrain Loss: 0.2139, Train Acc: 91.90%\n",
      "\tVal Loss: 0.7442, Val Acc: 67.58%\n",
      "\n"
     ]
    },
    {
     "name": "stderr",
     "output_type": "stream",
     "text": [
      "100%|███████████████████████████████████████████████████████████████████████████████████████████████████| 661/661 [08:09<00:00,  1.35it/s]\n",
      "100%|███████████████████████████████████████████████████████████████████████████████████████████████████| 165/165 [00:41<00:00,  3.95it/s]\n"
     ]
    },
    {
     "name": "stdout",
     "output_type": "stream",
     "text": [
      "Epoch [4/80]\n",
      "\tTrain Loss: 0.2023, Train Acc: 91.96%\n",
      "\tVal Loss: 0.1552, Val Acc: 93.90%\n",
      "\n"
     ]
    },
    {
     "name": "stderr",
     "output_type": "stream",
     "text": [
      "100%|███████████████████████████████████████████████████████████████████████████████████████████████████| 661/661 [08:18<00:00,  1.33it/s]\n",
      "100%|███████████████████████████████████████████████████████████████████████████████████████████████████| 165/165 [00:42<00:00,  3.87it/s]\n"
     ]
    },
    {
     "name": "stdout",
     "output_type": "stream",
     "text": [
      "Epoch [5/80]\n",
      "\tTrain Loss: 0.1866, Train Acc: 92.82%\n",
      "\tVal Loss: 0.1642, Val Acc: 92.80%\n",
      "\n"
     ]
    },
    {
     "name": "stderr",
     "output_type": "stream",
     "text": [
      "100%|███████████████████████████████████████████████████████████████████████████████████████████████████| 661/661 [08:20<00:00,  1.32it/s]\n",
      "100%|███████████████████████████████████████████████████████████████████████████████████████████████████| 165/165 [00:42<00:00,  3.90it/s]\n"
     ]
    },
    {
     "name": "stdout",
     "output_type": "stream",
     "text": [
      "Epoch [6/80]\n",
      "\tTrain Loss: 0.1805, Train Acc: 92.83%\n",
      "\tVal Loss: 0.4028, Val Acc: 84.09%\n",
      "\n"
     ]
    },
    {
     "name": "stderr",
     "output_type": "stream",
     "text": [
      "100%|███████████████████████████████████████████████████████████████████████████████████████████████████| 661/661 [08:22<00:00,  1.32it/s]\n",
      "100%|███████████████████████████████████████████████████████████████████████████████████████████████████| 165/165 [00:42<00:00,  3.91it/s]\n"
     ]
    },
    {
     "name": "stdout",
     "output_type": "stream",
     "text": [
      "Epoch [7/80]\n",
      "\tTrain Loss: 0.1686, Train Acc: 93.27%\n",
      "\tVal Loss: 0.1364, Val Acc: 94.75%\n",
      "\n"
     ]
    },
    {
     "name": "stderr",
     "output_type": "stream",
     "text": [
      "100%|███████████████████████████████████████████████████████████████████████████████████████████████████| 661/661 [08:36<00:00,  1.28it/s]\n",
      "100%|███████████████████████████████████████████████████████████████████████████████████████████████████| 165/165 [00:42<00:00,  3.91it/s]\n"
     ]
    },
    {
     "name": "stdout",
     "output_type": "stream",
     "text": [
      "Epoch [8/80]\n",
      "\tTrain Loss: 0.1711, Train Acc: 93.45%\n",
      "\tVal Loss: 0.1590, Val Acc: 93.26%\n",
      "\n"
     ]
    },
    {
     "name": "stderr",
     "output_type": "stream",
     "text": [
      "100%|███████████████████████████████████████████████████████████████████████████████████████████████████| 661/661 [08:30<00:00,  1.29it/s]\n",
      "100%|███████████████████████████████████████████████████████████████████████████████████████████████████| 165/165 [00:42<00:00,  3.91it/s]\n"
     ]
    },
    {
     "name": "stdout",
     "output_type": "stream",
     "text": [
      "Epoch [9/80]\n",
      "\tTrain Loss: 0.1671, Train Acc: 93.48%\n",
      "\tVal Loss: 0.2234, Val Acc: 90.78%\n",
      "\n"
     ]
    },
    {
     "name": "stderr",
     "output_type": "stream",
     "text": [
      "100%|███████████████████████████████████████████████████████████████████████████████████████████████████| 661/661 [08:32<00:00,  1.29it/s]\n",
      "100%|███████████████████████████████████████████████████████████████████████████████████████████████████| 165/165 [00:42<00:00,  3.86it/s]\n"
     ]
    },
    {
     "name": "stdout",
     "output_type": "stream",
     "text": [
      "Epoch [10/80]\n",
      "\tTrain Loss: 0.1435, Train Acc: 94.47%\n",
      "\tVal Loss: 0.2196, Val Acc: 90.97%\n",
      "\n"
     ]
    },
    {
     "name": "stderr",
     "output_type": "stream",
     "text": [
      "100%|███████████████████████████████████████████████████████████████████████████████████████████████████| 661/661 [08:37<00:00,  1.28it/s]\n",
      "100%|███████████████████████████████████████████████████████████████████████████████████████████████████| 165/165 [00:41<00:00,  4.00it/s]\n"
     ]
    },
    {
     "name": "stdout",
     "output_type": "stream",
     "text": [
      "Epoch [11/80]\n",
      "\tTrain Loss: 0.1254, Train Acc: 94.88%\n",
      "\tVal Loss: 0.1169, Val Acc: 95.68%\n",
      "\n"
     ]
    },
    {
     "name": "stderr",
     "output_type": "stream",
     "text": [
      "100%|███████████████████████████████████████████████████████████████████████████████████████████████████| 661/661 [08:35<00:00,  1.28it/s]\n",
      "100%|███████████████████████████████████████████████████████████████████████████████████████████████████| 165/165 [00:43<00:00,  3.78it/s]\n"
     ]
    },
    {
     "name": "stdout",
     "output_type": "stream",
     "text": [
      "Epoch [12/80]\n",
      "\tTrain Loss: 0.1259, Train Acc: 95.15%\n",
      "\tVal Loss: 0.1311, Val Acc: 95.08%\n",
      "\n"
     ]
    },
    {
     "name": "stderr",
     "output_type": "stream",
     "text": [
      "100%|███████████████████████████████████████████████████████████████████████████████████████████████████| 661/661 [08:41<00:00,  1.27it/s]\n",
      "100%|███████████████████████████████████████████████████████████████████████████████████████████████████| 165/165 [00:43<00:00,  3.83it/s]\n"
     ]
    },
    {
     "name": "stdout",
     "output_type": "stream",
     "text": [
      "Epoch [13/80]\n",
      "\tTrain Loss: 0.1052, Train Acc: 95.95%\n",
      "\tVal Loss: 0.2602, Val Acc: 91.14%\n",
      "\n"
     ]
    },
    {
     "name": "stderr",
     "output_type": "stream",
     "text": [
      "100%|███████████████████████████████████████████████████████████████████████████████████████████████████| 661/661 [08:40<00:00,  1.27it/s]\n",
      "100%|███████████████████████████████████████████████████████████████████████████████████████████████████| 165/165 [00:43<00:00,  3.79it/s]\n"
     ]
    },
    {
     "name": "stdout",
     "output_type": "stream",
     "text": [
      "Epoch [14/80]\n",
      "\tTrain Loss: 0.1109, Train Acc: 95.84%\n",
      "\tVal Loss: 0.1788, Val Acc: 94.15%\n",
      "\n"
     ]
    },
    {
     "name": "stderr",
     "output_type": "stream",
     "text": [
      "100%|███████████████████████████████████████████████████████████████████████████████████████████████████| 661/661 [08:36<00:00,  1.28it/s]\n",
      "100%|███████████████████████████████████████████████████████████████████████████████████████████████████| 165/165 [00:44<00:00,  3.72it/s]\n"
     ]
    },
    {
     "name": "stdout",
     "output_type": "stream",
     "text": [
      "Epoch [15/80]\n",
      "\tTrain Loss: 0.0945, Train Acc: 96.20%\n",
      "\tVal Loss: 0.1231, Val Acc: 95.28%\n",
      "\n"
     ]
    },
    {
     "name": "stderr",
     "output_type": "stream",
     "text": [
      "100%|███████████████████████████████████████████████████████████████████████████████████████████████████| 661/661 [08:35<00:00,  1.28it/s]\n",
      "100%|███████████████████████████████████████████████████████████████████████████████████████████████████| 165/165 [00:44<00:00,  3.74it/s]\n"
     ]
    },
    {
     "name": "stdout",
     "output_type": "stream",
     "text": [
      "Epoch [16/80]\n",
      "\tTrain Loss: 0.0905, Train Acc: 96.49%\n",
      "\tVal Loss: 0.1464, Val Acc: 94.32%\n",
      "\n"
     ]
    },
    {
     "name": "stderr",
     "output_type": "stream",
     "text": [
      "100%|███████████████████████████████████████████████████████████████████████████████████████████████████| 661/661 [08:39<00:00,  1.27it/s]\n",
      "100%|███████████████████████████████████████████████████████████████████████████████████████████████████| 165/165 [00:43<00:00,  3.82it/s]\n"
     ]
    },
    {
     "name": "stdout",
     "output_type": "stream",
     "text": [
      "Epoch [17/80]\n",
      "\tTrain Loss: 0.0882, Train Acc: 96.84%\n",
      "\tVal Loss: 0.1086, Val Acc: 95.95%\n",
      "\n"
     ]
    },
    {
     "name": "stderr",
     "output_type": "stream",
     "text": [
      "100%|███████████████████████████████████████████████████████████████████████████████████████████████████| 661/661 [08:39<00:00,  1.27it/s]\n",
      "100%|███████████████████████████████████████████████████████████████████████████████████████████████████| 165/165 [00:44<00:00,  3.71it/s]\n"
     ]
    },
    {
     "name": "stdout",
     "output_type": "stream",
     "text": [
      "Epoch [18/80]\n",
      "\tTrain Loss: 0.0792, Train Acc: 97.00%\n",
      "\tVal Loss: 0.1132, Val Acc: 95.83%\n",
      "\n"
     ]
    },
    {
     "name": "stderr",
     "output_type": "stream",
     "text": [
      "100%|███████████████████████████████████████████████████████████████████████████████████████████████████| 661/661 [08:43<00:00,  1.26it/s]\n",
      "100%|███████████████████████████████████████████████████████████████████████████████████████████████████| 165/165 [00:42<00:00,  3.86it/s]\n"
     ]
    },
    {
     "name": "stdout",
     "output_type": "stream",
     "text": [
      "Epoch [19/80]\n",
      "\tTrain Loss: 0.0712, Train Acc: 97.27%\n",
      "\tVal Loss: 0.1163, Val Acc: 95.81%\n",
      "\n"
     ]
    },
    {
     "name": "stderr",
     "output_type": "stream",
     "text": [
      "100%|███████████████████████████████████████████████████████████████████████████████████████████████████| 661/661 [08:56<00:00,  1.23it/s]\n",
      "100%|███████████████████████████████████████████████████████████████████████████████████████████████████| 165/165 [00:45<00:00,  3.63it/s]\n"
     ]
    },
    {
     "name": "stdout",
     "output_type": "stream",
     "text": [
      "Epoch [20/80]\n",
      "\tTrain Loss: 0.0521, Train Acc: 98.12%\n",
      "\tVal Loss: 0.1346, Val Acc: 95.91%\n",
      "\n"
     ]
    },
    {
     "name": "stderr",
     "output_type": "stream",
     "text": [
      "100%|███████████████████████████████████████████████████████████████████████████████████████████████████| 661/661 [09:07<00:00,  1.21it/s]\n",
      "100%|███████████████████████████████████████████████████████████████████████████████████████████████████| 165/165 [00:42<00:00,  3.86it/s]\n"
     ]
    },
    {
     "name": "stdout",
     "output_type": "stream",
     "text": [
      "Epoch [21/80]\n",
      "\tTrain Loss: 0.0511, Train Acc: 98.09%\n",
      "\tVal Loss: 0.1329, Val Acc: 95.83%\n",
      "\n"
     ]
    },
    {
     "name": "stderr",
     "output_type": "stream",
     "text": [
      "100%|███████████████████████████████████████████████████████████████████████████████████████████████████| 661/661 [09:00<00:00,  1.22it/s]\n",
      "100%|███████████████████████████████████████████████████████████████████████████████████████████████████| 165/165 [00:45<00:00,  3.65it/s]\n"
     ]
    },
    {
     "name": "stdout",
     "output_type": "stream",
     "text": [
      "Epoch [22/80]\n",
      "\tTrain Loss: 0.0423, Train Acc: 98.36%\n",
      "\tVal Loss: 0.3381, Val Acc: 89.45%\n",
      "\n"
     ]
    },
    {
     "name": "stderr",
     "output_type": "stream",
     "text": [
      "100%|███████████████████████████████████████████████████████████████████████████████████████████████████| 661/661 [08:57<00:00,  1.23it/s]\n",
      "100%|███████████████████████████████████████████████████████████████████████████████████████████████████| 165/165 [00:44<00:00,  3.71it/s]\n"
     ]
    },
    {
     "name": "stdout",
     "output_type": "stream",
     "text": [
      "Epoch [23/80]\n",
      "\tTrain Loss: 0.0433, Train Acc: 98.32%\n",
      "\tVal Loss: 0.1233, Val Acc: 95.81%\n",
      "\n"
     ]
    },
    {
     "name": "stderr",
     "output_type": "stream",
     "text": [
      "100%|███████████████████████████████████████████████████████████████████████████████████████████████████| 661/661 [09:04<00:00,  1.21it/s]\n",
      "100%|███████████████████████████████████████████████████████████████████████████████████████████████████| 165/165 [00:45<00:00,  3.66it/s]\n"
     ]
    },
    {
     "name": "stdout",
     "output_type": "stream",
     "text": [
      "Epoch [24/80]\n",
      "\tTrain Loss: 0.0408, Train Acc: 98.76%\n",
      "\tVal Loss: 0.1225, Val Acc: 95.87%\n",
      "\n"
     ]
    },
    {
     "name": "stderr",
     "output_type": "stream",
     "text": [
      "100%|███████████████████████████████████████████████████████████████████████████████████████████████████| 661/661 [09:05<00:00,  1.21it/s]\n",
      "100%|███████████████████████████████████████████████████████████████████████████████████████████████████| 165/165 [00:45<00:00,  3.63it/s]\n"
     ]
    },
    {
     "name": "stdout",
     "output_type": "stream",
     "text": [
      "Epoch [25/80]\n",
      "\tTrain Loss: 0.0352, Train Acc: 98.94%\n",
      "\tVal Loss: 0.2680, Val Acc: 94.11%\n",
      "\n"
     ]
    },
    {
     "name": "stderr",
     "output_type": "stream",
     "text": [
      "100%|███████████████████████████████████████████████████████████████████████████████████████████████████| 661/661 [09:07<00:00,  1.21it/s]\n",
      "100%|███████████████████████████████████████████████████████████████████████████████████████████████████| 165/165 [00:44<00:00,  3.69it/s]\n"
     ]
    },
    {
     "name": "stdout",
     "output_type": "stream",
     "text": [
      "Epoch [26/80]\n",
      "\tTrain Loss: 0.0411, Train Acc: 98.69%\n",
      "\tVal Loss: 0.1704, Val Acc: 95.81%\n",
      "\n"
     ]
    },
    {
     "name": "stderr",
     "output_type": "stream",
     "text": [
      "100%|███████████████████████████████████████████████████████████████████████████████████████████████████| 661/661 [09:05<00:00,  1.21it/s]\n",
      "100%|███████████████████████████████████████████████████████████████████████████████████████████████████| 165/165 [00:46<00:00,  3.54it/s]\n"
     ]
    },
    {
     "name": "stdout",
     "output_type": "stream",
     "text": [
      "Epoch [27/80]\n",
      "\tTrain Loss: 0.0257, Train Acc: 99.12%\n",
      "\tVal Loss: 0.1780, Val Acc: 94.89%\n",
      "\n"
     ]
    },
    {
     "name": "stderr",
     "output_type": "stream",
     "text": [
      "100%|███████████████████████████████████████████████████████████████████████████████████████████████████| 661/661 [09:06<00:00,  1.21it/s]\n",
      "100%|███████████████████████████████████████████████████████████████████████████████████████████████████| 165/165 [00:46<00:00,  3.56it/s]\n"
     ]
    },
    {
     "name": "stdout",
     "output_type": "stream",
     "text": [
      "Epoch [28/80]\n",
      "\tTrain Loss: 0.0259, Train Acc: 99.03%\n",
      "\tVal Loss: 0.1338, Val Acc: 96.48%\n",
      "\n"
     ]
    },
    {
     "name": "stderr",
     "output_type": "stream",
     "text": [
      "100%|███████████████████████████████████████████████████████████████████████████████████████████████████| 661/661 [09:03<00:00,  1.22it/s]\n",
      "100%|███████████████████████████████████████████████████████████████████████████████████████████████████| 165/165 [00:45<00:00,  3.62it/s]\n"
     ]
    },
    {
     "name": "stdout",
     "output_type": "stream",
     "text": [
      "Epoch [29/80]\n",
      "\tTrain Loss: 0.0322, Train Acc: 99.04%\n",
      "\tVal Loss: 0.2073, Val Acc: 94.15%\n",
      "\n"
     ]
    },
    {
     "name": "stderr",
     "output_type": "stream",
     "text": [
      "100%|███████████████████████████████████████████████████████████████████████████████████████████████████| 661/661 [09:04<00:00,  1.21it/s]\n",
      "100%|███████████████████████████████████████████████████████████████████████████████████████████████████| 165/165 [00:45<00:00,  3.64it/s]\n"
     ]
    },
    {
     "name": "stdout",
     "output_type": "stream",
     "text": [
      "Epoch [30/80]\n",
      "\tTrain Loss: 0.0217, Train Acc: 99.21%\n",
      "\tVal Loss: 0.1304, Val Acc: 96.12%\n",
      "\n"
     ]
    },
    {
     "name": "stderr",
     "output_type": "stream",
     "text": [
      "100%|███████████████████████████████████████████████████████████████████████████████████████████████████| 661/661 [09:03<00:00,  1.22it/s]\n",
      "100%|███████████████████████████████████████████████████████████████████████████████████████████████████| 165/165 [00:46<00:00,  3.57it/s]\n"
     ]
    },
    {
     "name": "stdout",
     "output_type": "stream",
     "text": [
      "Epoch [31/80]\n",
      "\tTrain Loss: 0.0204, Train Acc: 99.28%\n",
      "\tVal Loss: 0.1435, Val Acc: 96.57%\n",
      "\n"
     ]
    },
    {
     "name": "stderr",
     "output_type": "stream",
     "text": [
      "100%|███████████████████████████████████████████████████████████████████████████████████████████████████| 661/661 [09:05<00:00,  1.21it/s]\n",
      "100%|███████████████████████████████████████████████████████████████████████████████████████████████████| 165/165 [00:45<00:00,  3.66it/s]\n"
     ]
    },
    {
     "name": "stdout",
     "output_type": "stream",
     "text": [
      "Epoch [32/80]\n",
      "\tTrain Loss: 0.0235, Train Acc: 99.18%\n",
      "\tVal Loss: 0.1255, Val Acc: 96.70%\n",
      "\n"
     ]
    },
    {
     "name": "stderr",
     "output_type": "stream",
     "text": [
      "100%|███████████████████████████████████████████████████████████████████████████████████████████████████| 661/661 [09:05<00:00,  1.21it/s]\n",
      "100%|███████████████████████████████████████████████████████████████████████████████████████████████████| 165/165 [00:44<00:00,  3.70it/s]\n"
     ]
    },
    {
     "name": "stdout",
     "output_type": "stream",
     "text": [
      "Epoch [33/80]\n",
      "\tTrain Loss: 0.0175, Train Acc: 99.33%\n",
      "\tVal Loss: 0.2252, Val Acc: 95.13%\n",
      "\n"
     ]
    },
    {
     "name": "stderr",
     "output_type": "stream",
     "text": [
      "100%|███████████████████████████████████████████████████████████████████████████████████████████████████| 661/661 [08:59<00:00,  1.23it/s]\n",
      "100%|███████████████████████████████████████████████████████████████████████████████████████████████████| 165/165 [00:45<00:00,  3.60it/s]\n"
     ]
    },
    {
     "name": "stdout",
     "output_type": "stream",
     "text": [
      "Epoch [34/80]\n",
      "\tTrain Loss: 0.0163, Train Acc: 99.43%\n",
      "\tVal Loss: 0.2064, Val Acc: 94.85%\n",
      "\n"
     ]
    },
    {
     "name": "stderr",
     "output_type": "stream",
     "text": [
      "100%|███████████████████████████████████████████████████████████████████████████████████████████████████| 661/661 [08:57<00:00,  1.23it/s]\n",
      "100%|███████████████████████████████████████████████████████████████████████████████████████████████████| 165/165 [00:45<00:00,  3.63it/s]\n"
     ]
    },
    {
     "name": "stdout",
     "output_type": "stream",
     "text": [
      "Epoch [35/80]\n",
      "\tTrain Loss: 0.0143, Train Acc: 99.50%\n",
      "\tVal Loss: 0.1305, Val Acc: 97.22%\n",
      "\n"
     ]
    },
    {
     "name": "stderr",
     "output_type": "stream",
     "text": [
      "100%|███████████████████████████████████████████████████████████████████████████████████████████████████| 661/661 [09:03<00:00,  1.22it/s]\n",
      "100%|███████████████████████████████████████████████████████████████████████████████████████████████████| 165/165 [00:44<00:00,  3.71it/s]\n"
     ]
    },
    {
     "name": "stdout",
     "output_type": "stream",
     "text": [
      "Epoch [36/80]\n",
      "\tTrain Loss: 0.0175, Train Acc: 99.32%\n",
      "\tVal Loss: 0.2886, Val Acc: 93.30%\n",
      "\n"
     ]
    },
    {
     "name": "stderr",
     "output_type": "stream",
     "text": [
      "100%|███████████████████████████████████████████████████████████████████████████████████████████████████| 661/661 [09:05<00:00,  1.21it/s]\n",
      "100%|███████████████████████████████████████████████████████████████████████████████████████████████████| 165/165 [00:50<00:00,  3.28it/s]\n"
     ]
    },
    {
     "name": "stdout",
     "output_type": "stream",
     "text": [
      "Epoch [37/80]\n",
      "\tTrain Loss: 0.0130, Train Acc: 99.53%\n",
      "\tVal Loss: 0.2127, Val Acc: 94.17%\n",
      "\n"
     ]
    },
    {
     "name": "stderr",
     "output_type": "stream",
     "text": [
      "100%|███████████████████████████████████████████████████████████████████████████████████████████████████| 661/661 [09:28<00:00,  1.16it/s]\n",
      "100%|███████████████████████████████████████████████████████████████████████████████████████████████████| 165/165 [00:48<00:00,  3.42it/s]\n"
     ]
    },
    {
     "name": "stdout",
     "output_type": "stream",
     "text": [
      "Epoch [38/80]\n",
      "\tTrain Loss: 0.1627, Train Acc: 93.57%\n",
      "\tVal Loss: 0.1220, Val Acc: 95.21%\n",
      "\n"
     ]
    },
    {
     "name": "stderr",
     "output_type": "stream",
     "text": [
      "100%|███████████████████████████████████████████████████████████████████████████████████████████████████| 661/661 [09:41<00:00,  1.14it/s]\n",
      "100%|███████████████████████████████████████████████████████████████████████████████████████████████████| 165/165 [00:51<00:00,  3.22it/s]\n"
     ]
    },
    {
     "name": "stdout",
     "output_type": "stream",
     "text": [
      "Epoch [39/80]\n",
      "\tTrain Loss: 0.0612, Train Acc: 97.78%\n",
      "\tVal Loss: 0.1210, Val Acc: 96.12%\n",
      "\n"
     ]
    },
    {
     "name": "stderr",
     "output_type": "stream",
     "text": [
      "100%|███████████████████████████████████████████████████████████████████████████████████████████████████| 661/661 [09:59<00:00,  1.10it/s]\n",
      "100%|███████████████████████████████████████████████████████████████████████████████████████████████████| 165/165 [00:47<00:00,  3.44it/s]\n"
     ]
    },
    {
     "name": "stdout",
     "output_type": "stream",
     "text": [
      "Epoch [40/80]\n",
      "\tTrain Loss: 0.0260, Train Acc: 99.00%\n",
      "\tVal Loss: 0.1378, Val Acc: 96.33%\n",
      "\n"
     ]
    },
    {
     "name": "stderr",
     "output_type": "stream",
     "text": [
      "100%|███████████████████████████████████████████████████████████████████████████████████████████████████| 661/661 [09:24<00:00,  1.17it/s]\n",
      "100%|███████████████████████████████████████████████████████████████████████████████████████████████████| 165/165 [00:45<00:00,  3.59it/s]\n"
     ]
    },
    {
     "name": "stdout",
     "output_type": "stream",
     "text": [
      "Epoch [41/80]\n",
      "\tTrain Loss: 0.0142, Train Acc: 99.46%\n",
      "\tVal Loss: 0.1491, Val Acc: 96.55%\n",
      "\n"
     ]
    },
    {
     "name": "stderr",
     "output_type": "stream",
     "text": [
      "100%|███████████████████████████████████████████████████████████████████████████████████████████████████| 661/661 [09:35<00:00,  1.15it/s]\n",
      "100%|███████████████████████████████████████████████████████████████████████████████████████████████████| 165/165 [00:49<00:00,  3.32it/s]\n"
     ]
    },
    {
     "name": "stdout",
     "output_type": "stream",
     "text": [
      "Epoch [42/80]\n",
      "\tTrain Loss: 0.0083, Train Acc: 99.72%\n",
      "\tVal Loss: 0.1882, Val Acc: 96.52%\n",
      "\n"
     ]
    },
    {
     "name": "stderr",
     "output_type": "stream",
     "text": [
      "100%|███████████████████████████████████████████████████████████████████████████████████████████████████| 661/661 [09:38<00:00,  1.14it/s]\n",
      "100%|███████████████████████████████████████████████████████████████████████████████████████████████████| 165/165 [00:45<00:00,  3.64it/s]\n"
     ]
    },
    {
     "name": "stdout",
     "output_type": "stream",
     "text": [
      "Epoch [43/80]\n",
      "\tTrain Loss: 0.0073, Train Acc: 99.75%\n",
      "\tVal Loss: 0.1952, Val Acc: 96.40%\n",
      "\n"
     ]
    },
    {
     "name": "stderr",
     "output_type": "stream",
     "text": [
      "100%|███████████████████████████████████████████████████████████████████████████████████████████████████| 661/661 [09:18<00:00,  1.18it/s]\n",
      "100%|███████████████████████████████████████████████████████████████████████████████████████████████████| 165/165 [00:47<00:00,  3.49it/s]\n"
     ]
    },
    {
     "name": "stdout",
     "output_type": "stream",
     "text": [
      "Epoch [44/80]\n",
      "\tTrain Loss: 0.0091, Train Acc: 99.71%\n",
      "\tVal Loss: 0.1665, Val Acc: 96.57%\n",
      "\n"
     ]
    },
    {
     "name": "stderr",
     "output_type": "stream",
     "text": [
      "100%|███████████████████████████████████████████████████████████████████████████████████████████████████| 661/661 [09:24<00:00,  1.17it/s]\n",
      "100%|███████████████████████████████████████████████████████████████████████████████████████████████████| 165/165 [00:49<00:00,  3.33it/s]\n"
     ]
    },
    {
     "name": "stdout",
     "output_type": "stream",
     "text": [
      "Epoch [45/80]\n",
      "\tTrain Loss: 0.0088, Train Acc: 99.73%\n",
      "\tVal Loss: 0.1309, Val Acc: 96.67%\n",
      "\n"
     ]
    },
    {
     "name": "stderr",
     "output_type": "stream",
     "text": [
      "100%|███████████████████████████████████████████████████████████████████████████████████████████████████| 661/661 [09:28<00:00,  1.16it/s]\n",
      "100%|███████████████████████████████████████████████████████████████████████████████████████████████████| 165/165 [00:49<00:00,  3.33it/s]\n"
     ]
    },
    {
     "name": "stdout",
     "output_type": "stream",
     "text": [
      "Epoch [46/80]\n",
      "\tTrain Loss: 0.0067, Train Acc: 99.79%\n",
      "\tVal Loss: 0.1900, Val Acc: 96.34%\n",
      "\n"
     ]
    },
    {
     "name": "stderr",
     "output_type": "stream",
     "text": [
      "100%|███████████████████████████████████████████████████████████████████████████████████████████████████| 661/661 [09:49<00:00,  1.12it/s]\n",
      "100%|███████████████████████████████████████████████████████████████████████████████████████████████████| 165/165 [00:49<00:00,  3.34it/s]\n"
     ]
    },
    {
     "name": "stdout",
     "output_type": "stream",
     "text": [
      "Epoch [47/80]\n",
      "\tTrain Loss: 0.0090, Train Acc: 99.73%\n",
      "\tVal Loss: 0.1821, Val Acc: 96.00%\n",
      "\n"
     ]
    },
    {
     "name": "stderr",
     "output_type": "stream",
     "text": [
      "100%|███████████████████████████████████████████████████████████████████████████████████████████████████| 661/661 [09:45<00:00,  1.13it/s]\n",
      "100%|███████████████████████████████████████████████████████████████████████████████████████████████████| 165/165 [00:47<00:00,  3.47it/s]\n"
     ]
    },
    {
     "name": "stdout",
     "output_type": "stream",
     "text": [
      "Epoch [48/80]\n",
      "\tTrain Loss: 0.0100, Train Acc: 99.67%\n",
      "\tVal Loss: 0.1487, Val Acc: 96.31%\n",
      "\n"
     ]
    },
    {
     "name": "stderr",
     "output_type": "stream",
     "text": [
      "100%|███████████████████████████████████████████████████████████████████████████████████████████████████| 661/661 [09:43<00:00,  1.13it/s]\n",
      "100%|███████████████████████████████████████████████████████████████████████████████████████████████████| 165/165 [00:46<00:00,  3.52it/s]\n"
     ]
    },
    {
     "name": "stdout",
     "output_type": "stream",
     "text": [
      "Epoch [49/80]\n",
      "\tTrain Loss: 0.0100, Train Acc: 99.69%\n",
      "\tVal Loss: 0.1520, Val Acc: 96.33%\n",
      "\n"
     ]
    },
    {
     "name": "stderr",
     "output_type": "stream",
     "text": [
      "100%|███████████████████████████████████████████████████████████████████████████████████████████████████| 661/661 [09:53<00:00,  1.11it/s]\n",
      "100%|███████████████████████████████████████████████████████████████████████████████████████████████████| 165/165 [00:48<00:00,  3.42it/s]\n"
     ]
    },
    {
     "name": "stdout",
     "output_type": "stream",
     "text": [
      "Epoch [50/80]\n",
      "\tTrain Loss: 0.0097, Train Acc: 99.65%\n",
      "\tVal Loss: 0.1743, Val Acc: 95.98%\n",
      "\n"
     ]
    },
    {
     "name": "stderr",
     "output_type": "stream",
     "text": [
      "100%|███████████████████████████████████████████████████████████████████████████████████████████████████| 661/661 [09:56<00:00,  1.11it/s]\n",
      "100%|███████████████████████████████████████████████████████████████████████████████████████████████████| 165/165 [00:47<00:00,  3.44it/s]\n"
     ]
    },
    {
     "name": "stdout",
     "output_type": "stream",
     "text": [
      "Epoch [51/80]\n",
      "\tTrain Loss: 0.0093, Train Acc: 99.66%\n",
      "\tVal Loss: 0.2007, Val Acc: 95.40%\n",
      "\n"
     ]
    },
    {
     "name": "stderr",
     "output_type": "stream",
     "text": [
      " 55%|██████████████████████████████████████████████████████▌                                            | 364/661 [05:37<04:43,  1.05it/s]"
     ]
    }
   ],
   "source": [
    "model = model_pipeline(config)"
   ]
  },
  {
   "cell_type": "code",
   "execution_count": null,
   "metadata": {},
   "outputs": [],
   "source": []
  }
 ],
 "metadata": {
  "interpreter": {
   "hash": "1df8ca6470716aef7885428a3615d7cfcd80d77664baa0ca314c31299e302aab"
  },
  "kernelspec": {
   "display_name": "Python 3 (ipykernel)",
   "language": "python",
   "name": "python3"
  },
  "language_info": {
   "codemirror_mode": {
    "name": "ipython",
    "version": 3
   },
   "file_extension": ".py",
   "mimetype": "text/x-python",
   "name": "python",
   "nbconvert_exporter": "python",
   "pygments_lexer": "ipython3",
   "version": "3.8.13"
  }
 },
 "nbformat": 4,
 "nbformat_minor": 4
}
