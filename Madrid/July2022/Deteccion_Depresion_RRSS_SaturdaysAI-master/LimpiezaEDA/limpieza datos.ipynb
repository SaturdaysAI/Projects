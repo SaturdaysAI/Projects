{
 "cells": [
  {
   "cell_type": "code",
   "execution_count": 30,
   "id": "542f10d4",
   "metadata": {},
   "outputs": [],
   "source": [
    "import os\n",
    "import numpy as np\n",
    "import pandas as pd\n",
    "import re\n",
    "import time\n",
    "#import torch\n",
    "import transformers\n",
    "import emoji\n",
    "\n",
    "from sklearn.model_selection import train_test_split\n",
    "from sklearn.metrics import precision_recall_fscore_support, accuracy_score\n",
    "\n",
    "from torch.utils.data import Dataset\n",
    "from transformers import (ElectraForSequenceClassification, ElectraTokenizerFast,\n",
    "                          InputFeatures, Trainer, TrainingArguments)"
   ]
  },
  {
   "cell_type": "code",
   "execution_count": null,
   "id": "5c0a1313",
   "metadata": {},
   "outputs": [],
   "source": [
    "a = time.time()\n",
    "data = pd.read_csv('depresion twitter.csv',\n",
    "                   dtype={'Unnamed: 0': int, 'text': str, 'label': bool, 'user': str}, \n",
    "                   sep = ',').drop_duplicates()\n",
    "\n",
    "#renombro columnas y elimino las Id\n",
    "data = data.rename(columns={'text': 'texto', 'label': 'depresion', 'user': 'usuario'})\n",
    "data = data.drop('Unnamed: 0', axis = 1)\n",
    "\n",
    "#cambio los usuarios asignando un valor numérico y extiendo el conteo a los Falsos (antes volvía a llamarlos 'user0' y contaba de nuevo desde ahí)\n",
    "data['usuario'] = data['usuario'].apply(lambda x: x[-len(x) + 4:])\n",
    "data['usuario'] = data['usuario'].astype(int)\n",
    "data['usuario'][data['depresion'] == False] = data['usuario'] + 1043\n",
    "print('Cargar los datos: {}s'.format(round(time.time() - a, 2)))\n",
    "data.head()"
   ]
  },
  {
   "cell_type": "code",
   "execution_count": null,
   "id": "5a4c0f15",
   "metadata": {},
   "outputs": [],
   "source": [
    "a = time.time()\n",
    "#salvemos las ñ's, pero normalicemos lo demás\n",
    "data['texto'] = data['texto'].apply(lambda x: x.replace('ñ', '$n$'))\n",
    "print('ñ --> $n$')\n",
    "data['texto'] = data['texto'].str.normalize('NFKD').str.normalize('NFKD').str.lower().str.encode('ascii', errors = 'ignore').str.decode('utf-8')\n",
    "print('asci')\n",
    "data['texto'] = data['texto'].apply(lambda x: x.replace('$n$', 'ñ'))\n",
    "print('$n$ --> ñ')\n",
    "print('Normalización: {}s'.format(round((time.time() - a),2)))\n",
    "#data = data.drop('texto_original', axis = 1) \n",
    "data.head()"
   ]
  },
  {
   "cell_type": "code",
   "execution_count": null,
   "id": "b0627b74",
   "metadata": {},
   "outputs": [],
   "source": [
    "#Eliminamos los hagstags\n",
    "data['texto'] = data['texto'].apply(lambda x: re.sub(r'#(\\w+)', '', x))\n",
    "#eliminamos las menciones\n",
    "data['texto'] = data['texto'].apply(lambda x: re.sub(r'@(\\w+)', '', x))\n",
    "#eliminamos los enlaces a páginas web\n",
    "url_regex = r'(https?:\\/\\/)?(www\\.)?[-a-zA-Z0-9@:%._\\+~#=]{1,256}\\.[a-zA-Z0-9()]{1,6}\\b([-a-zA-Z0-9()@:%_\\+.~#?&//=]*)'\n",
    "\n",
    "data['texto'] = data['texto'].apply(lambda x: re.sub(url_regex, '', x))"
   ]
  },
  {
   "cell_type": "code",
   "execution_count": null,
   "id": "3bc3acc9",
   "metadata": {},
   "outputs": [],
   "source": [
    "def remove_emojis(data):\n",
    "    emoj = re.compile(\"[\"\n",
    "        u\"\\U0001F600-\\U0001F64F\"  # emoticons\n",
    "        u\"\\U0001F300-\\U0001F5FF\"  # symbols & pictographs\n",
    "        u\"\\U0001F680-\\U0001F6FF\"  # transport & map symbols\n",
    "        u\"\\U0001F1E0-\\U0001F1FF\"  # flags (iOS)\n",
    "        u\"\\U00002500-\\U00002BEF\"  # chinese char\n",
    "        u\"\\U00002702-\\U000027B0\"\n",
    "        u\"\\U00002702-\\U000027B0\"\n",
    "        u\"\\U000024C2-\\U0001F251\"\n",
    "        u\"\\U0001f926-\\U0001f937\"\n",
    "        u\"\\U00010000-\\U0010ffff\"\n",
    "        u\"\\u2640-\\u2642\" \n",
    "        u\"\\u2600-\\u2B55\"\n",
    "        u\"\\u200d\"\n",
    "        u\"\\u23cf\"\n",
    "        u\"\\u23e9\"\n",
    "        u\"\\u231a\"\n",
    "        u\"\\ufe0f\"  # dingbats1\n",
    "        u\"\\u3030\"\n",
    "                      \"]+\", re.UNICODE)\n",
    "    return re.sub(emoj, '', data)"
   ]
  },
  {
   "cell_type": "code",
   "execution_count": null,
   "id": "116e9884",
   "metadata": {},
   "outputs": [],
   "source": [
    "#vamos a eliminar los caracteres repetidos infinitamente y los números.\n",
    "caract_rep = r'/([a-zA-Z])\\1{3,}/gi'\n",
    "\n",
    "data['texto'] = data['texto'].apply(lambda x: re.sub(caract_rep, '', x))\n",
    "\n",
    "numeros = r'/([0])\\1{3,}/gi'\n",
    "\n",
    "data['texto'] = data['texto'].apply(lambda x: re.sub(caract_rep, '', x))"
   ]
  },
  {
   "cell_type": "code",
   "execution_count": null,
   "id": "18938594",
   "metadata": {},
   "outputs": [],
   "source": [
    "def remove_URL(headline_text):\n",
    "    url = re.compile(r'https?://\\S+|www\\.\\S+')\n",
    "    return url.sub(r'', headline_text)\n",
    "\n",
    "data['texto'] = data['texto'].apply(remove_URL)"
   ]
  },
  {
   "cell_type": "code",
   "execution_count": null,
   "id": "01697975",
   "metadata": {},
   "outputs": [],
   "source": [
    "D = data[data['depresion'] == 1].sample(100000)\n",
    "ND = data[data['depresion'] == 0].sample(100000)\n",
    "\n",
    "data = pd.concat([D, ND], axis = 0)\n",
    "\n",
    "del D, ND"
   ]
  },
  {
   "cell_type": "code",
   "execution_count": null,
   "id": "5d4c2abe",
   "metadata": {},
   "outputs": [],
   "source": [
    "data"
   ]
  },
  {
   "cell_type": "code",
   "execution_count": 29,
   "id": "3c3ed352",
   "metadata": {},
   "outputs": [],
   "source": [
    "data.to_csv('limpio.csv')"
   ]
  },
  {
   "cell_type": "code",
   "execution_count": null,
   "id": "0630be38",
   "metadata": {},
   "outputs": [],
   "source": []
  }
 ],
 "metadata": {
  "kernelspec": {
   "display_name": "Python 3 (ipykernel)",
   "language": "python",
   "name": "python3"
  },
  "language_info": {
   "codemirror_mode": {
    "name": "ipython",
    "version": 3
   },
   "file_extension": ".py",
   "mimetype": "text/x-python",
   "name": "python",
   "nbconvert_exporter": "python",
   "pygments_lexer": "ipython3",
   "version": "3.9.7"
  }
 },
 "nbformat": 4,
 "nbformat_minor": 5
}
