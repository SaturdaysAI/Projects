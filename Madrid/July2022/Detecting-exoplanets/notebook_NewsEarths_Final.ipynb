{
  "cells": [
    {
      "cell_type": "markdown",
      "source": [
        "# **notebook_NewsEarths**"
      ],
      "metadata": {
        "id": "kKM_Hco8V_LW"
      }
    },
    {
      "cell_type": "markdown",
      "source": [
        "rev2"
      ],
      "metadata": {
        "id": "DAc15JSUT-zJ"
      }
    },
    {
      "cell_type": "markdown",
      "source": [
        "# **1. Data Analysis**"
      ],
      "metadata": {
        "id": "0Vo1Bvp3Pk5a"
      }
    },
    {
      "cell_type": "markdown",
      "source": [
        "## Library Import"
      ],
      "metadata": {
        "id": "uEG6Hq4dV_Lc"
      }
    },
    {
      "cell_type": "code",
      "execution_count": 2,
      "source": [
        "import numpy as np\n",
        "import pandas as pd\n",
        "import matplotlib.pyplot as plt"
      ],
      "outputs": [],
      "metadata": {
        "id": "Os1QvOyEV_Le"
      }
    },
    {
      "cell_type": "markdown",
      "source": [
        "## Dataset Import"
      ],
      "metadata": {
        "id": "5UXDm9B8V_Lg"
      }
    },
    {
      "cell_type": "code",
      "source": [
        "# Connect with Google Drive\n",
        "from google.colab import drive\n",
        "drive.mount('/content/drive')"
      ],
      "metadata": {
        "colab": {
          "base_uri": "https://localhost:8080/"
        },
        "id": "W72t6p0jKiLo",
        "outputId": "5e0de147-f1b6-4ba1-b9a9-dbfc02748de2"
      },
      "execution_count": 4,
      "outputs": [
        {
          "output_type": "stream",
          "name": "stdout",
          "text": [
            "Mounted at /content/drive\n"
          ]
        }
      ]
    },
    {
      "cell_type": "code",
      "execution_count": 5,
      "source": [
        "data = pd.read_csv('/content/drive/MyDrive/datasets/exo_planet2/DF_PN_normal.csv')"
      ],
      "outputs": [],
      "metadata": {
        "id": "_Git2jLSV_Lg"
      }
    },
    {
      "cell_type": "code",
      "source": [
        "data.shape"
      ],
      "metadata": {
        "colab": {
          "base_uri": "https://localhost:8080/"
        },
        "id": "1RdcyCFWLS7h",
        "outputId": "ae2fd945-3da6-4818-ad8c-9c4602bec7c4"
      },
      "execution_count": 6,
      "outputs": [
        {
          "output_type": "execute_result",
          "data": {
            "text/plain": [
              "(7383, 2308)"
            ]
          },
          "metadata": {},
          "execution_count": 6
        }
      ]
    },
    {
      "cell_type": "code",
      "source": [
        "target=data['disposition']\n",
        "target"
      ],
      "metadata": {
        "colab": {
          "base_uri": "https://localhost:8080/"
        },
        "id": "IpX-0T5O02Qw",
        "outputId": "576f118e-bd16-430b-e1de-33c0b7ffd5d1"
      },
      "execution_count": 7,
      "outputs": [
        {
          "output_type": "execute_result",
          "data": {
            "text/plain": [
              "0       1\n",
              "1       1\n",
              "2       1\n",
              "3       1\n",
              "4       0\n",
              "       ..\n",
              "7378    0\n",
              "7379    0\n",
              "7380    0\n",
              "7381    0\n",
              "7382    0\n",
              "Name: disposition, Length: 7383, dtype: int64"
            ]
          },
          "metadata": {},
          "execution_count": 7
        }
      ]
    },
    {
      "cell_type": "code",
      "source": [
        "data.isna().sum().sum()"
      ],
      "metadata": {
        "colab": {
          "base_uri": "https://localhost:8080/"
        },
        "id": "-FgZ5bKi_gLH",
        "outputId": "98b41d03-8c90-4f82-fc40-e87c8ea63943"
      },
      "execution_count": 8,
      "outputs": [
        {
          "output_type": "execute_result",
          "data": {
            "text/plain": [
              "1071750"
            ]
          },
          "metadata": {},
          "execution_count": 8
        }
      ]
    },
    {
      "cell_type": "code",
      "source": [
        "data.fillna(1)\n",
        "data=data.replace(np.nan,0)\n",
        "nandespues=data.isna().sum().sum()\n",
        "nandespues"
      ],
      "metadata": {
        "colab": {
          "base_uri": "https://localhost:8080/"
        },
        "id": "HoNpymk9CW28",
        "outputId": "cfaa89f9-5316-461c-8c47-1a50c969fe55"
      },
      "execution_count": 9,
      "outputs": [
        {
          "output_type": "execute_result",
          "data": {
            "text/plain": [
              "0"
            ]
          },
          "metadata": {},
          "execution_count": 9
        }
      ]
    },
    {
      "cell_type": "code",
      "source": [
        "data.fillna(1)"
      ],
      "metadata": {
        "colab": {
          "base_uri": "https://localhost:8080/",
          "height": 487
        },
        "id": "bo2m65Uc9pzr",
        "outputId": "8d13dbed-f9b7-4dc7-8528-6c9af929100e"
      },
      "execution_count": 10,
      "outputs": [
        {
          "output_type": "execute_result",
          "data": {
            "text/plain": [
              "                    id         0         1         2         3         4  \\\n",
              "0     normal_K00001.01 -0.976351 -0.981449 -0.986742 -0.985198 -0.981156   \n",
              "1     normal_K00002.01 -1.011278 -0.991109 -0.992710 -0.996481 -0.996399   \n",
              "2     normal_K00003.01 -0.669824 -0.659515 -0.675371 -0.658662 -0.665355   \n",
              "3     normal_K00004.01 -1.123789 -1.148073 -1.259804 -1.146628 -1.136987   \n",
              "4     normal_K00005.02 -2.694310 -3.083820 -0.074319 -2.611436 -0.074319   \n",
              "...                ...       ...       ...       ...       ...       ...   \n",
              "7378  normal_K08292.01  1.028070  0.833329  1.765886 -0.660197 -0.108657   \n",
              "7379  normal_K08293.01 -1.201561 -0.271730  0.340689 -1.379382  0.033975   \n",
              "7380  normal_K08294.01  1.284993 -0.002155  0.101807 -0.496017 -1.744390   \n",
              "7381  normal_K08295.01  1.506601 -0.252102  0.017631 -1.651505  0.256784   \n",
              "7382  normal_K08296.01  1.406296 -0.023929  0.439626  1.522091 -1.248320   \n",
              "\n",
              "             5         6         7         8  ...      2040      2041  \\\n",
              "0    -0.985555 -0.981437 -0.989197 -0.980177  ... -0.162708 -0.150173   \n",
              "1    -0.996481 -0.994687 -0.996481 -1.001373  ... -0.274277 -0.279629   \n",
              "2    -0.636572 -0.664836 -0.682490 -0.666061  ... -0.005616 -0.107740   \n",
              "3    -1.176145 -1.342190 -1.347682 -1.292089  ... -0.155294 -0.155294   \n",
              "4     1.472239 -0.963032  0.085293  0.727374  ... -0.075236 -0.075236   \n",
              "...        ...       ...       ...       ...  ...       ...       ...   \n",
              "7378 -0.263316  0.234926  0.305053  0.103809  ... -0.861429  2.036626   \n",
              "7379  2.205204 -1.423160  0.750836 -0.794476  ...  0.000000  0.000000   \n",
              "7380 -2.016648 -1.591218  0.475018  0.600350  ...  1.040619 -1.132760   \n",
              "7381 -0.390017 -1.798946 -0.920726 -0.315061  ...  0.354558  0.270698   \n",
              "7382  0.807320 -0.194626 -1.033897 -1.246604  ...  0.103992 -1.606963   \n",
              "\n",
              "          2042      2043      2044      2045      2046      2047      2048  \\\n",
              "0    -0.153905 -0.153905 -0.153905 -0.153168 -0.153553 -0.136030 -0.153905   \n",
              "1    -0.267087 -0.267087 -0.264412 -0.276891 -0.274603 -0.267087 -0.262145   \n",
              "2    -0.168514 -0.158896 -0.085195 -0.089754  0.007673 -0.208945 -0.292335   \n",
              "3    -0.193756 -0.024112 -0.155294  0.105874 -0.116823  0.133229  0.179708   \n",
              "4    -0.338313 -0.888053  1.456181  3.182192 -0.240147 -0.075236 -0.881459   \n",
              "...        ...       ...       ...       ...       ...       ...       ...   \n",
              "7378  0.991252  0.755514  0.401463 -0.062864  0.951205 -0.501146  0.805009   \n",
              "7379  0.000000  0.000000  0.000000  0.000000  0.000000  0.000000  0.000000   \n",
              "7380  0.397854  1.467453 -0.009240  0.284966 -0.444428  0.787697 -2.316297   \n",
              "7381  0.260811 -1.424484 -2.567741 -0.326159 -1.631317  0.419281  0.132440   \n",
              "7382 -0.074202 -1.343438  0.004931  0.258150  0.087130 -1.193007  0.231609   \n",
              "\n",
              "      disposition  \n",
              "0               1  \n",
              "1               1  \n",
              "2               1  \n",
              "3               1  \n",
              "4               0  \n",
              "...           ...  \n",
              "7378            0  \n",
              "7379            0  \n",
              "7380            0  \n",
              "7381            0  \n",
              "7382            0  \n",
              "\n",
              "[7383 rows x 2308 columns]"
            ],
            "text/html": [
              "\n",
              "  <div id=\"df-153a1834-707a-44db-98c1-528cc9e7fa3f\">\n",
              "    <div class=\"colab-df-container\">\n",
              "      <div>\n",
              "<style scoped>\n",
              "    .dataframe tbody tr th:only-of-type {\n",
              "        vertical-align: middle;\n",
              "    }\n",
              "\n",
              "    .dataframe tbody tr th {\n",
              "        vertical-align: top;\n",
              "    }\n",
              "\n",
              "    .dataframe thead th {\n",
              "        text-align: right;\n",
              "    }\n",
              "</style>\n",
              "<table border=\"1\" class=\"dataframe\">\n",
              "  <thead>\n",
              "    <tr style=\"text-align: right;\">\n",
              "      <th></th>\n",
              "      <th>id</th>\n",
              "      <th>0</th>\n",
              "      <th>1</th>\n",
              "      <th>2</th>\n",
              "      <th>3</th>\n",
              "      <th>4</th>\n",
              "      <th>5</th>\n",
              "      <th>6</th>\n",
              "      <th>7</th>\n",
              "      <th>8</th>\n",
              "      <th>...</th>\n",
              "      <th>2040</th>\n",
              "      <th>2041</th>\n",
              "      <th>2042</th>\n",
              "      <th>2043</th>\n",
              "      <th>2044</th>\n",
              "      <th>2045</th>\n",
              "      <th>2046</th>\n",
              "      <th>2047</th>\n",
              "      <th>2048</th>\n",
              "      <th>disposition</th>\n",
              "    </tr>\n",
              "  </thead>\n",
              "  <tbody>\n",
              "    <tr>\n",
              "      <th>0</th>\n",
              "      <td>normal_K00001.01</td>\n",
              "      <td>-0.976351</td>\n",
              "      <td>-0.981449</td>\n",
              "      <td>-0.986742</td>\n",
              "      <td>-0.985198</td>\n",
              "      <td>-0.981156</td>\n",
              "      <td>-0.985555</td>\n",
              "      <td>-0.981437</td>\n",
              "      <td>-0.989197</td>\n",
              "      <td>-0.980177</td>\n",
              "      <td>...</td>\n",
              "      <td>-0.162708</td>\n",
              "      <td>-0.150173</td>\n",
              "      <td>-0.153905</td>\n",
              "      <td>-0.153905</td>\n",
              "      <td>-0.153905</td>\n",
              "      <td>-0.153168</td>\n",
              "      <td>-0.153553</td>\n",
              "      <td>-0.136030</td>\n",
              "      <td>-0.153905</td>\n",
              "      <td>1</td>\n",
              "    </tr>\n",
              "    <tr>\n",
              "      <th>1</th>\n",
              "      <td>normal_K00002.01</td>\n",
              "      <td>-1.011278</td>\n",
              "      <td>-0.991109</td>\n",
              "      <td>-0.992710</td>\n",
              "      <td>-0.996481</td>\n",
              "      <td>-0.996399</td>\n",
              "      <td>-0.996481</td>\n",
              "      <td>-0.994687</td>\n",
              "      <td>-0.996481</td>\n",
              "      <td>-1.001373</td>\n",
              "      <td>...</td>\n",
              "      <td>-0.274277</td>\n",
              "      <td>-0.279629</td>\n",
              "      <td>-0.267087</td>\n",
              "      <td>-0.267087</td>\n",
              "      <td>-0.264412</td>\n",
              "      <td>-0.276891</td>\n",
              "      <td>-0.274603</td>\n",
              "      <td>-0.267087</td>\n",
              "      <td>-0.262145</td>\n",
              "      <td>1</td>\n",
              "    </tr>\n",
              "    <tr>\n",
              "      <th>2</th>\n",
              "      <td>normal_K00003.01</td>\n",
              "      <td>-0.669824</td>\n",
              "      <td>-0.659515</td>\n",
              "      <td>-0.675371</td>\n",
              "      <td>-0.658662</td>\n",
              "      <td>-0.665355</td>\n",
              "      <td>-0.636572</td>\n",
              "      <td>-0.664836</td>\n",
              "      <td>-0.682490</td>\n",
              "      <td>-0.666061</td>\n",
              "      <td>...</td>\n",
              "      <td>-0.005616</td>\n",
              "      <td>-0.107740</td>\n",
              "      <td>-0.168514</td>\n",
              "      <td>-0.158896</td>\n",
              "      <td>-0.085195</td>\n",
              "      <td>-0.089754</td>\n",
              "      <td>0.007673</td>\n",
              "      <td>-0.208945</td>\n",
              "      <td>-0.292335</td>\n",
              "      <td>1</td>\n",
              "    </tr>\n",
              "    <tr>\n",
              "      <th>3</th>\n",
              "      <td>normal_K00004.01</td>\n",
              "      <td>-1.123789</td>\n",
              "      <td>-1.148073</td>\n",
              "      <td>-1.259804</td>\n",
              "      <td>-1.146628</td>\n",
              "      <td>-1.136987</td>\n",
              "      <td>-1.176145</td>\n",
              "      <td>-1.342190</td>\n",
              "      <td>-1.347682</td>\n",
              "      <td>-1.292089</td>\n",
              "      <td>...</td>\n",
              "      <td>-0.155294</td>\n",
              "      <td>-0.155294</td>\n",
              "      <td>-0.193756</td>\n",
              "      <td>-0.024112</td>\n",
              "      <td>-0.155294</td>\n",
              "      <td>0.105874</td>\n",
              "      <td>-0.116823</td>\n",
              "      <td>0.133229</td>\n",
              "      <td>0.179708</td>\n",
              "      <td>1</td>\n",
              "    </tr>\n",
              "    <tr>\n",
              "      <th>4</th>\n",
              "      <td>normal_K00005.02</td>\n",
              "      <td>-2.694310</td>\n",
              "      <td>-3.083820</td>\n",
              "      <td>-0.074319</td>\n",
              "      <td>-2.611436</td>\n",
              "      <td>-0.074319</td>\n",
              "      <td>1.472239</td>\n",
              "      <td>-0.963032</td>\n",
              "      <td>0.085293</td>\n",
              "      <td>0.727374</td>\n",
              "      <td>...</td>\n",
              "      <td>-0.075236</td>\n",
              "      <td>-0.075236</td>\n",
              "      <td>-0.338313</td>\n",
              "      <td>-0.888053</td>\n",
              "      <td>1.456181</td>\n",
              "      <td>3.182192</td>\n",
              "      <td>-0.240147</td>\n",
              "      <td>-0.075236</td>\n",
              "      <td>-0.881459</td>\n",
              "      <td>0</td>\n",
              "    </tr>\n",
              "    <tr>\n",
              "      <th>...</th>\n",
              "      <td>...</td>\n",
              "      <td>...</td>\n",
              "      <td>...</td>\n",
              "      <td>...</td>\n",
              "      <td>...</td>\n",
              "      <td>...</td>\n",
              "      <td>...</td>\n",
              "      <td>...</td>\n",
              "      <td>...</td>\n",
              "      <td>...</td>\n",
              "      <td>...</td>\n",
              "      <td>...</td>\n",
              "      <td>...</td>\n",
              "      <td>...</td>\n",
              "      <td>...</td>\n",
              "      <td>...</td>\n",
              "      <td>...</td>\n",
              "      <td>...</td>\n",
              "      <td>...</td>\n",
              "      <td>...</td>\n",
              "      <td>...</td>\n",
              "    </tr>\n",
              "    <tr>\n",
              "      <th>7378</th>\n",
              "      <td>normal_K08292.01</td>\n",
              "      <td>1.028070</td>\n",
              "      <td>0.833329</td>\n",
              "      <td>1.765886</td>\n",
              "      <td>-0.660197</td>\n",
              "      <td>-0.108657</td>\n",
              "      <td>-0.263316</td>\n",
              "      <td>0.234926</td>\n",
              "      <td>0.305053</td>\n",
              "      <td>0.103809</td>\n",
              "      <td>...</td>\n",
              "      <td>-0.861429</td>\n",
              "      <td>2.036626</td>\n",
              "      <td>0.991252</td>\n",
              "      <td>0.755514</td>\n",
              "      <td>0.401463</td>\n",
              "      <td>-0.062864</td>\n",
              "      <td>0.951205</td>\n",
              "      <td>-0.501146</td>\n",
              "      <td>0.805009</td>\n",
              "      <td>0</td>\n",
              "    </tr>\n",
              "    <tr>\n",
              "      <th>7379</th>\n",
              "      <td>normal_K08293.01</td>\n",
              "      <td>-1.201561</td>\n",
              "      <td>-0.271730</td>\n",
              "      <td>0.340689</td>\n",
              "      <td>-1.379382</td>\n",
              "      <td>0.033975</td>\n",
              "      <td>2.205204</td>\n",
              "      <td>-1.423160</td>\n",
              "      <td>0.750836</td>\n",
              "      <td>-0.794476</td>\n",
              "      <td>...</td>\n",
              "      <td>0.000000</td>\n",
              "      <td>0.000000</td>\n",
              "      <td>0.000000</td>\n",
              "      <td>0.000000</td>\n",
              "      <td>0.000000</td>\n",
              "      <td>0.000000</td>\n",
              "      <td>0.000000</td>\n",
              "      <td>0.000000</td>\n",
              "      <td>0.000000</td>\n",
              "      <td>0</td>\n",
              "    </tr>\n",
              "    <tr>\n",
              "      <th>7380</th>\n",
              "      <td>normal_K08294.01</td>\n",
              "      <td>1.284993</td>\n",
              "      <td>-0.002155</td>\n",
              "      <td>0.101807</td>\n",
              "      <td>-0.496017</td>\n",
              "      <td>-1.744390</td>\n",
              "      <td>-2.016648</td>\n",
              "      <td>-1.591218</td>\n",
              "      <td>0.475018</td>\n",
              "      <td>0.600350</td>\n",
              "      <td>...</td>\n",
              "      <td>1.040619</td>\n",
              "      <td>-1.132760</td>\n",
              "      <td>0.397854</td>\n",
              "      <td>1.467453</td>\n",
              "      <td>-0.009240</td>\n",
              "      <td>0.284966</td>\n",
              "      <td>-0.444428</td>\n",
              "      <td>0.787697</td>\n",
              "      <td>-2.316297</td>\n",
              "      <td>0</td>\n",
              "    </tr>\n",
              "    <tr>\n",
              "      <th>7381</th>\n",
              "      <td>normal_K08295.01</td>\n",
              "      <td>1.506601</td>\n",
              "      <td>-0.252102</td>\n",
              "      <td>0.017631</td>\n",
              "      <td>-1.651505</td>\n",
              "      <td>0.256784</td>\n",
              "      <td>-0.390017</td>\n",
              "      <td>-1.798946</td>\n",
              "      <td>-0.920726</td>\n",
              "      <td>-0.315061</td>\n",
              "      <td>...</td>\n",
              "      <td>0.354558</td>\n",
              "      <td>0.270698</td>\n",
              "      <td>0.260811</td>\n",
              "      <td>-1.424484</td>\n",
              "      <td>-2.567741</td>\n",
              "      <td>-0.326159</td>\n",
              "      <td>-1.631317</td>\n",
              "      <td>0.419281</td>\n",
              "      <td>0.132440</td>\n",
              "      <td>0</td>\n",
              "    </tr>\n",
              "    <tr>\n",
              "      <th>7382</th>\n",
              "      <td>normal_K08296.01</td>\n",
              "      <td>1.406296</td>\n",
              "      <td>-0.023929</td>\n",
              "      <td>0.439626</td>\n",
              "      <td>1.522091</td>\n",
              "      <td>-1.248320</td>\n",
              "      <td>0.807320</td>\n",
              "      <td>-0.194626</td>\n",
              "      <td>-1.033897</td>\n",
              "      <td>-1.246604</td>\n",
              "      <td>...</td>\n",
              "      <td>0.103992</td>\n",
              "      <td>-1.606963</td>\n",
              "      <td>-0.074202</td>\n",
              "      <td>-1.343438</td>\n",
              "      <td>0.004931</td>\n",
              "      <td>0.258150</td>\n",
              "      <td>0.087130</td>\n",
              "      <td>-1.193007</td>\n",
              "      <td>0.231609</td>\n",
              "      <td>0</td>\n",
              "    </tr>\n",
              "  </tbody>\n",
              "</table>\n",
              "<p>7383 rows × 2308 columns</p>\n",
              "</div>\n",
              "      <button class=\"colab-df-convert\" onclick=\"convertToInteractive('df-153a1834-707a-44db-98c1-528cc9e7fa3f')\"\n",
              "              title=\"Convert this dataframe to an interactive table.\"\n",
              "              style=\"display:none;\">\n",
              "        \n",
              "  <svg xmlns=\"http://www.w3.org/2000/svg\" height=\"24px\"viewBox=\"0 0 24 24\"\n",
              "       width=\"24px\">\n",
              "    <path d=\"M0 0h24v24H0V0z\" fill=\"none\"/>\n",
              "    <path d=\"M18.56 5.44l.94 2.06.94-2.06 2.06-.94-2.06-.94-.94-2.06-.94 2.06-2.06.94zm-11 1L8.5 8.5l.94-2.06 2.06-.94-2.06-.94L8.5 2.5l-.94 2.06-2.06.94zm10 10l.94 2.06.94-2.06 2.06-.94-2.06-.94-.94-2.06-.94 2.06-2.06.94z\"/><path d=\"M17.41 7.96l-1.37-1.37c-.4-.4-.92-.59-1.43-.59-.52 0-1.04.2-1.43.59L10.3 9.45l-7.72 7.72c-.78.78-.78 2.05 0 2.83L4 21.41c.39.39.9.59 1.41.59.51 0 1.02-.2 1.41-.59l7.78-7.78 2.81-2.81c.8-.78.8-2.07 0-2.86zM5.41 20L4 18.59l7.72-7.72 1.47 1.35L5.41 20z\"/>\n",
              "  </svg>\n",
              "      </button>\n",
              "      \n",
              "  <style>\n",
              "    .colab-df-container {\n",
              "      display:flex;\n",
              "      flex-wrap:wrap;\n",
              "      gap: 12px;\n",
              "    }\n",
              "\n",
              "    .colab-df-convert {\n",
              "      background-color: #E8F0FE;\n",
              "      border: none;\n",
              "      border-radius: 50%;\n",
              "      cursor: pointer;\n",
              "      display: none;\n",
              "      fill: #1967D2;\n",
              "      height: 32px;\n",
              "      padding: 0 0 0 0;\n",
              "      width: 32px;\n",
              "    }\n",
              "\n",
              "    .colab-df-convert:hover {\n",
              "      background-color: #E2EBFA;\n",
              "      box-shadow: 0px 1px 2px rgba(60, 64, 67, 0.3), 0px 1px 3px 1px rgba(60, 64, 67, 0.15);\n",
              "      fill: #174EA6;\n",
              "    }\n",
              "\n",
              "    [theme=dark] .colab-df-convert {\n",
              "      background-color: #3B4455;\n",
              "      fill: #D2E3FC;\n",
              "    }\n",
              "\n",
              "    [theme=dark] .colab-df-convert:hover {\n",
              "      background-color: #434B5C;\n",
              "      box-shadow: 0px 1px 3px 1px rgba(0, 0, 0, 0.15);\n",
              "      filter: drop-shadow(0px 1px 2px rgba(0, 0, 0, 0.3));\n",
              "      fill: #FFFFFF;\n",
              "    }\n",
              "  </style>\n",
              "\n",
              "      <script>\n",
              "        const buttonEl =\n",
              "          document.querySelector('#df-153a1834-707a-44db-98c1-528cc9e7fa3f button.colab-df-convert');\n",
              "        buttonEl.style.display =\n",
              "          google.colab.kernel.accessAllowed ? 'block' : 'none';\n",
              "\n",
              "        async function convertToInteractive(key) {\n",
              "          const element = document.querySelector('#df-153a1834-707a-44db-98c1-528cc9e7fa3f');\n",
              "          const dataTable =\n",
              "            await google.colab.kernel.invokeFunction('convertToInteractive',\n",
              "                                                     [key], {});\n",
              "          if (!dataTable) return;\n",
              "\n",
              "          const docLinkHtml = 'Like what you see? Visit the ' +\n",
              "            '<a target=\"_blank\" href=https://colab.research.google.com/notebooks/data_table.ipynb>data table notebook</a>'\n",
              "            + ' to learn more about interactive tables.';\n",
              "          element.innerHTML = '';\n",
              "          dataTable['output_type'] = 'display_data';\n",
              "          await google.colab.output.renderOutput(dataTable, element);\n",
              "          const docLink = document.createElement('div');\n",
              "          docLink.innerHTML = docLinkHtml;\n",
              "          element.appendChild(docLink);\n",
              "        }\n",
              "      </script>\n",
              "    </div>\n",
              "  </div>\n",
              "  "
            ]
          },
          "metadata": {},
          "execution_count": 10
        }
      ]
    },
    {
      "cell_type": "code",
      "source": [
        "data.drop(['id'],axis=1,inplace=True)"
      ],
      "metadata": {
        "id": "BO6t78LzL_wY"
      },
      "execution_count": 11,
      "outputs": []
    },
    {
      "cell_type": "code",
      "execution_count": 12,
      "source": [
        "data.shape"
      ],
      "outputs": [
        {
          "output_type": "execute_result",
          "data": {
            "text/plain": [
              "(7383, 2307)"
            ]
          },
          "metadata": {},
          "execution_count": 12
        }
      ],
      "metadata": {
        "id": "fn6GXQWoV_Li",
        "colab": {
          "base_uri": "https://localhost:8080/"
        },
        "outputId": "40e6dd5a-f65a-49af-de0c-5f3b8fb440f7"
      }
    },
    {
      "cell_type": "code",
      "execution_count": 13,
      "source": [
        "data.head()"
      ],
      "outputs": [
        {
          "output_type": "execute_result",
          "data": {
            "text/plain": [
              "          0         1         2         3         4         5         6  \\\n",
              "0 -0.976351 -0.981449 -0.986742 -0.985198 -0.981156 -0.985555 -0.981437   \n",
              "1 -1.011278 -0.991109 -0.992710 -0.996481 -0.996399 -0.996481 -0.994687   \n",
              "2 -0.669824 -0.659515 -0.675371 -0.658662 -0.665355 -0.636572 -0.664836   \n",
              "3 -1.123789 -1.148073 -1.259804 -1.146628 -1.136987 -1.176145 -1.342190   \n",
              "4 -2.694310 -3.083820 -0.074319 -2.611436 -0.074319  1.472239 -0.963032   \n",
              "\n",
              "          7         8         9  ...      2040      2041      2042      2043  \\\n",
              "0 -0.989197 -0.980177 -0.980066  ... -0.162708 -0.150173 -0.153905 -0.153905   \n",
              "1 -0.996481 -1.001373 -0.996073  ... -0.274277 -0.279629 -0.267087 -0.267087   \n",
              "2 -0.682490 -0.666061 -0.674005  ... -0.005616 -0.107740 -0.168514 -0.158896   \n",
              "3 -1.347682 -1.292089 -1.172521  ... -0.155294 -0.155294 -0.193756 -0.024112   \n",
              "4  0.085293  0.727374 -0.074319  ... -0.075236 -0.075236 -0.338313 -0.888053   \n",
              "\n",
              "       2044      2045      2046      2047      2048  disposition  \n",
              "0 -0.153905 -0.153168 -0.153553 -0.136030 -0.153905            1  \n",
              "1 -0.264412 -0.276891 -0.274603 -0.267087 -0.262145            1  \n",
              "2 -0.085195 -0.089754  0.007673 -0.208945 -0.292335            1  \n",
              "3 -0.155294  0.105874 -0.116823  0.133229  0.179708            1  \n",
              "4  1.456181  3.182192 -0.240147 -0.075236 -0.881459            0  \n",
              "\n",
              "[5 rows x 2307 columns]"
            ],
            "text/html": [
              "\n",
              "  <div id=\"df-95d40b11-a861-4736-9787-bb9ccdd4dc58\">\n",
              "    <div class=\"colab-df-container\">\n",
              "      <div>\n",
              "<style scoped>\n",
              "    .dataframe tbody tr th:only-of-type {\n",
              "        vertical-align: middle;\n",
              "    }\n",
              "\n",
              "    .dataframe tbody tr th {\n",
              "        vertical-align: top;\n",
              "    }\n",
              "\n",
              "    .dataframe thead th {\n",
              "        text-align: right;\n",
              "    }\n",
              "</style>\n",
              "<table border=\"1\" class=\"dataframe\">\n",
              "  <thead>\n",
              "    <tr style=\"text-align: right;\">\n",
              "      <th></th>\n",
              "      <th>0</th>\n",
              "      <th>1</th>\n",
              "      <th>2</th>\n",
              "      <th>3</th>\n",
              "      <th>4</th>\n",
              "      <th>5</th>\n",
              "      <th>6</th>\n",
              "      <th>7</th>\n",
              "      <th>8</th>\n",
              "      <th>9</th>\n",
              "      <th>...</th>\n",
              "      <th>2040</th>\n",
              "      <th>2041</th>\n",
              "      <th>2042</th>\n",
              "      <th>2043</th>\n",
              "      <th>2044</th>\n",
              "      <th>2045</th>\n",
              "      <th>2046</th>\n",
              "      <th>2047</th>\n",
              "      <th>2048</th>\n",
              "      <th>disposition</th>\n",
              "    </tr>\n",
              "  </thead>\n",
              "  <tbody>\n",
              "    <tr>\n",
              "      <th>0</th>\n",
              "      <td>-0.976351</td>\n",
              "      <td>-0.981449</td>\n",
              "      <td>-0.986742</td>\n",
              "      <td>-0.985198</td>\n",
              "      <td>-0.981156</td>\n",
              "      <td>-0.985555</td>\n",
              "      <td>-0.981437</td>\n",
              "      <td>-0.989197</td>\n",
              "      <td>-0.980177</td>\n",
              "      <td>-0.980066</td>\n",
              "      <td>...</td>\n",
              "      <td>-0.162708</td>\n",
              "      <td>-0.150173</td>\n",
              "      <td>-0.153905</td>\n",
              "      <td>-0.153905</td>\n",
              "      <td>-0.153905</td>\n",
              "      <td>-0.153168</td>\n",
              "      <td>-0.153553</td>\n",
              "      <td>-0.136030</td>\n",
              "      <td>-0.153905</td>\n",
              "      <td>1</td>\n",
              "    </tr>\n",
              "    <tr>\n",
              "      <th>1</th>\n",
              "      <td>-1.011278</td>\n",
              "      <td>-0.991109</td>\n",
              "      <td>-0.992710</td>\n",
              "      <td>-0.996481</td>\n",
              "      <td>-0.996399</td>\n",
              "      <td>-0.996481</td>\n",
              "      <td>-0.994687</td>\n",
              "      <td>-0.996481</td>\n",
              "      <td>-1.001373</td>\n",
              "      <td>-0.996073</td>\n",
              "      <td>...</td>\n",
              "      <td>-0.274277</td>\n",
              "      <td>-0.279629</td>\n",
              "      <td>-0.267087</td>\n",
              "      <td>-0.267087</td>\n",
              "      <td>-0.264412</td>\n",
              "      <td>-0.276891</td>\n",
              "      <td>-0.274603</td>\n",
              "      <td>-0.267087</td>\n",
              "      <td>-0.262145</td>\n",
              "      <td>1</td>\n",
              "    </tr>\n",
              "    <tr>\n",
              "      <th>2</th>\n",
              "      <td>-0.669824</td>\n",
              "      <td>-0.659515</td>\n",
              "      <td>-0.675371</td>\n",
              "      <td>-0.658662</td>\n",
              "      <td>-0.665355</td>\n",
              "      <td>-0.636572</td>\n",
              "      <td>-0.664836</td>\n",
              "      <td>-0.682490</td>\n",
              "      <td>-0.666061</td>\n",
              "      <td>-0.674005</td>\n",
              "      <td>...</td>\n",
              "      <td>-0.005616</td>\n",
              "      <td>-0.107740</td>\n",
              "      <td>-0.168514</td>\n",
              "      <td>-0.158896</td>\n",
              "      <td>-0.085195</td>\n",
              "      <td>-0.089754</td>\n",
              "      <td>0.007673</td>\n",
              "      <td>-0.208945</td>\n",
              "      <td>-0.292335</td>\n",
              "      <td>1</td>\n",
              "    </tr>\n",
              "    <tr>\n",
              "      <th>3</th>\n",
              "      <td>-1.123789</td>\n",
              "      <td>-1.148073</td>\n",
              "      <td>-1.259804</td>\n",
              "      <td>-1.146628</td>\n",
              "      <td>-1.136987</td>\n",
              "      <td>-1.176145</td>\n",
              "      <td>-1.342190</td>\n",
              "      <td>-1.347682</td>\n",
              "      <td>-1.292089</td>\n",
              "      <td>-1.172521</td>\n",
              "      <td>...</td>\n",
              "      <td>-0.155294</td>\n",
              "      <td>-0.155294</td>\n",
              "      <td>-0.193756</td>\n",
              "      <td>-0.024112</td>\n",
              "      <td>-0.155294</td>\n",
              "      <td>0.105874</td>\n",
              "      <td>-0.116823</td>\n",
              "      <td>0.133229</td>\n",
              "      <td>0.179708</td>\n",
              "      <td>1</td>\n",
              "    </tr>\n",
              "    <tr>\n",
              "      <th>4</th>\n",
              "      <td>-2.694310</td>\n",
              "      <td>-3.083820</td>\n",
              "      <td>-0.074319</td>\n",
              "      <td>-2.611436</td>\n",
              "      <td>-0.074319</td>\n",
              "      <td>1.472239</td>\n",
              "      <td>-0.963032</td>\n",
              "      <td>0.085293</td>\n",
              "      <td>0.727374</td>\n",
              "      <td>-0.074319</td>\n",
              "      <td>...</td>\n",
              "      <td>-0.075236</td>\n",
              "      <td>-0.075236</td>\n",
              "      <td>-0.338313</td>\n",
              "      <td>-0.888053</td>\n",
              "      <td>1.456181</td>\n",
              "      <td>3.182192</td>\n",
              "      <td>-0.240147</td>\n",
              "      <td>-0.075236</td>\n",
              "      <td>-0.881459</td>\n",
              "      <td>0</td>\n",
              "    </tr>\n",
              "  </tbody>\n",
              "</table>\n",
              "<p>5 rows × 2307 columns</p>\n",
              "</div>\n",
              "      <button class=\"colab-df-convert\" onclick=\"convertToInteractive('df-95d40b11-a861-4736-9787-bb9ccdd4dc58')\"\n",
              "              title=\"Convert this dataframe to an interactive table.\"\n",
              "              style=\"display:none;\">\n",
              "        \n",
              "  <svg xmlns=\"http://www.w3.org/2000/svg\" height=\"24px\"viewBox=\"0 0 24 24\"\n",
              "       width=\"24px\">\n",
              "    <path d=\"M0 0h24v24H0V0z\" fill=\"none\"/>\n",
              "    <path d=\"M18.56 5.44l.94 2.06.94-2.06 2.06-.94-2.06-.94-.94-2.06-.94 2.06-2.06.94zm-11 1L8.5 8.5l.94-2.06 2.06-.94-2.06-.94L8.5 2.5l-.94 2.06-2.06.94zm10 10l.94 2.06.94-2.06 2.06-.94-2.06-.94-.94-2.06-.94 2.06-2.06.94z\"/><path d=\"M17.41 7.96l-1.37-1.37c-.4-.4-.92-.59-1.43-.59-.52 0-1.04.2-1.43.59L10.3 9.45l-7.72 7.72c-.78.78-.78 2.05 0 2.83L4 21.41c.39.39.9.59 1.41.59.51 0 1.02-.2 1.41-.59l7.78-7.78 2.81-2.81c.8-.78.8-2.07 0-2.86zM5.41 20L4 18.59l7.72-7.72 1.47 1.35L5.41 20z\"/>\n",
              "  </svg>\n",
              "      </button>\n",
              "      \n",
              "  <style>\n",
              "    .colab-df-container {\n",
              "      display:flex;\n",
              "      flex-wrap:wrap;\n",
              "      gap: 12px;\n",
              "    }\n",
              "\n",
              "    .colab-df-convert {\n",
              "      background-color: #E8F0FE;\n",
              "      border: none;\n",
              "      border-radius: 50%;\n",
              "      cursor: pointer;\n",
              "      display: none;\n",
              "      fill: #1967D2;\n",
              "      height: 32px;\n",
              "      padding: 0 0 0 0;\n",
              "      width: 32px;\n",
              "    }\n",
              "\n",
              "    .colab-df-convert:hover {\n",
              "      background-color: #E2EBFA;\n",
              "      box-shadow: 0px 1px 2px rgba(60, 64, 67, 0.3), 0px 1px 3px 1px rgba(60, 64, 67, 0.15);\n",
              "      fill: #174EA6;\n",
              "    }\n",
              "\n",
              "    [theme=dark] .colab-df-convert {\n",
              "      background-color: #3B4455;\n",
              "      fill: #D2E3FC;\n",
              "    }\n",
              "\n",
              "    [theme=dark] .colab-df-convert:hover {\n",
              "      background-color: #434B5C;\n",
              "      box-shadow: 0px 1px 3px 1px rgba(0, 0, 0, 0.15);\n",
              "      filter: drop-shadow(0px 1px 2px rgba(0, 0, 0, 0.3));\n",
              "      fill: #FFFFFF;\n",
              "    }\n",
              "  </style>\n",
              "\n",
              "      <script>\n",
              "        const buttonEl =\n",
              "          document.querySelector('#df-95d40b11-a861-4736-9787-bb9ccdd4dc58 button.colab-df-convert');\n",
              "        buttonEl.style.display =\n",
              "          google.colab.kernel.accessAllowed ? 'block' : 'none';\n",
              "\n",
              "        async function convertToInteractive(key) {\n",
              "          const element = document.querySelector('#df-95d40b11-a861-4736-9787-bb9ccdd4dc58');\n",
              "          const dataTable =\n",
              "            await google.colab.kernel.invokeFunction('convertToInteractive',\n",
              "                                                     [key], {});\n",
              "          if (!dataTable) return;\n",
              "\n",
              "          const docLinkHtml = 'Like what you see? Visit the ' +\n",
              "            '<a target=\"_blank\" href=https://colab.research.google.com/notebooks/data_table.ipynb>data table notebook</a>'\n",
              "            + ' to learn more about interactive tables.';\n",
              "          element.innerHTML = '';\n",
              "          dataTable['output_type'] = 'display_data';\n",
              "          await google.colab.output.renderOutput(dataTable, element);\n",
              "          const docLink = document.createElement('div');\n",
              "          docLink.innerHTML = docLinkHtml;\n",
              "          element.appendChild(docLink);\n",
              "        }\n",
              "      </script>\n",
              "    </div>\n",
              "  </div>\n",
              "  "
            ]
          },
          "metadata": {},
          "execution_count": 13
        }
      ],
      "metadata": {
        "scrolled": true,
        "id": "FBDWmMxvV_Lk",
        "colab": {
          "base_uri": "https://localhost:8080/",
          "height": 299
        },
        "outputId": "68e85d0d-135d-4070-df46-ada6ad821fb5"
      }
    },
    {
      "cell_type": "markdown",
      "source": [
        "## Data Distribution"
      ],
      "metadata": {
        "id": "72Zo275fV_Ll"
      }
    },
    {
      "cell_type": "code",
      "execution_count": 14,
      "source": [
        "data.describe()"
      ],
      "outputs": [
        {
          "output_type": "execute_result",
          "data": {
            "text/plain": [
              "                 0            1            2            3            4  \\\n",
              "count  7383.000000  7383.000000  7383.000000  7383.000000  7383.000000   \n",
              "mean     -0.389091    -0.405812    -0.402879    -0.398782    -0.397109   \n",
              "std       1.151375     0.808138     0.788930     0.798586     0.788185   \n",
              "min     -12.848528    -4.346736    -4.629801    -4.284960    -3.811662   \n",
              "25%      -0.957395    -0.853495    -0.846724    -0.842093    -0.847842   \n",
              "50%      -0.422351    -0.417337    -0.413108    -0.418110    -0.412084   \n",
              "75%       0.000000     0.000000     0.000000     0.000000     0.000000   \n",
              "max      14.730815    11.233335     7.197652     4.527274     5.880007   \n",
              "\n",
              "                 5            6            7            8            9  ...  \\\n",
              "count  7383.000000  7383.000000  7383.000000  7383.000000  7383.000000  ...   \n",
              "mean     -0.396933    -0.409104    -0.405048    -0.402426    -0.392014  ...   \n",
              "std       0.781746     0.787412     0.760790     0.794707     0.777822  ...   \n",
              "min      -4.286027    -4.777842    -3.737894    -4.065542    -4.091684  ...   \n",
              "25%      -0.838511    -0.837972    -0.841203    -0.853588    -0.833063  ...   \n",
              "50%      -0.406319    -0.415789    -0.413095    -0.414273    -0.409326  ...   \n",
              "75%       0.000000     0.000000     0.000000     0.000000     0.000000  ...   \n",
              "max       4.990129     6.511142     3.819117     6.403967     6.207308  ...   \n",
              "\n",
              "              2040         2041         2042         2043         2044  \\\n",
              "count  7383.000000  7383.000000  7383.000000  7383.000000  7383.000000   \n",
              "mean      0.100327     0.105105     0.100499     0.109744     0.107733   \n",
              "std       0.982121     0.966409     0.983155     0.987226     0.997285   \n",
              "min      -3.753075    -3.881458    -3.613081    -3.996032    -4.604283   \n",
              "25%      -0.348002    -0.345632    -0.342891    -0.347026    -0.353204   \n",
              "50%       0.000000     0.000000     0.000000     0.000000    -0.003238   \n",
              "75%       0.504864     0.506730     0.485679     0.497979     0.500594   \n",
              "max       9.490736     9.206869     8.506854     7.951723     9.451998   \n",
              "\n",
              "              2045         2046         2047         2048  disposition  \n",
              "count  7383.000000  7383.000000  7383.000000  7383.000000  7383.000000  \n",
              "mean      0.113651     0.130118     0.120977     0.148056     0.357985  \n",
              "std       1.000907     0.992336     0.999760     1.309139     0.479440  \n",
              "min      -3.992197    -5.171765    -4.180515    -6.138929     0.000000  \n",
              "25%      -0.350778    -0.338269    -0.342672    -0.413380     0.000000  \n",
              "50%       0.000000     0.000000     0.000000     0.000000     0.000000  \n",
              "75%       0.524606     0.534094     0.510447     0.728714     1.000000  \n",
              "max       9.732702    10.667726    10.931708    12.018370     1.000000  \n",
              "\n",
              "[8 rows x 2307 columns]"
            ],
            "text/html": [
              "\n",
              "  <div id=\"df-eaa2a92a-1281-46a8-b625-51204bab35c9\">\n",
              "    <div class=\"colab-df-container\">\n",
              "      <div>\n",
              "<style scoped>\n",
              "    .dataframe tbody tr th:only-of-type {\n",
              "        vertical-align: middle;\n",
              "    }\n",
              "\n",
              "    .dataframe tbody tr th {\n",
              "        vertical-align: top;\n",
              "    }\n",
              "\n",
              "    .dataframe thead th {\n",
              "        text-align: right;\n",
              "    }\n",
              "</style>\n",
              "<table border=\"1\" class=\"dataframe\">\n",
              "  <thead>\n",
              "    <tr style=\"text-align: right;\">\n",
              "      <th></th>\n",
              "      <th>0</th>\n",
              "      <th>1</th>\n",
              "      <th>2</th>\n",
              "      <th>3</th>\n",
              "      <th>4</th>\n",
              "      <th>5</th>\n",
              "      <th>6</th>\n",
              "      <th>7</th>\n",
              "      <th>8</th>\n",
              "      <th>9</th>\n",
              "      <th>...</th>\n",
              "      <th>2040</th>\n",
              "      <th>2041</th>\n",
              "      <th>2042</th>\n",
              "      <th>2043</th>\n",
              "      <th>2044</th>\n",
              "      <th>2045</th>\n",
              "      <th>2046</th>\n",
              "      <th>2047</th>\n",
              "      <th>2048</th>\n",
              "      <th>disposition</th>\n",
              "    </tr>\n",
              "  </thead>\n",
              "  <tbody>\n",
              "    <tr>\n",
              "      <th>count</th>\n",
              "      <td>7383.000000</td>\n",
              "      <td>7383.000000</td>\n",
              "      <td>7383.000000</td>\n",
              "      <td>7383.000000</td>\n",
              "      <td>7383.000000</td>\n",
              "      <td>7383.000000</td>\n",
              "      <td>7383.000000</td>\n",
              "      <td>7383.000000</td>\n",
              "      <td>7383.000000</td>\n",
              "      <td>7383.000000</td>\n",
              "      <td>...</td>\n",
              "      <td>7383.000000</td>\n",
              "      <td>7383.000000</td>\n",
              "      <td>7383.000000</td>\n",
              "      <td>7383.000000</td>\n",
              "      <td>7383.000000</td>\n",
              "      <td>7383.000000</td>\n",
              "      <td>7383.000000</td>\n",
              "      <td>7383.000000</td>\n",
              "      <td>7383.000000</td>\n",
              "      <td>7383.000000</td>\n",
              "    </tr>\n",
              "    <tr>\n",
              "      <th>mean</th>\n",
              "      <td>-0.389091</td>\n",
              "      <td>-0.405812</td>\n",
              "      <td>-0.402879</td>\n",
              "      <td>-0.398782</td>\n",
              "      <td>-0.397109</td>\n",
              "      <td>-0.396933</td>\n",
              "      <td>-0.409104</td>\n",
              "      <td>-0.405048</td>\n",
              "      <td>-0.402426</td>\n",
              "      <td>-0.392014</td>\n",
              "      <td>...</td>\n",
              "      <td>0.100327</td>\n",
              "      <td>0.105105</td>\n",
              "      <td>0.100499</td>\n",
              "      <td>0.109744</td>\n",
              "      <td>0.107733</td>\n",
              "      <td>0.113651</td>\n",
              "      <td>0.130118</td>\n",
              "      <td>0.120977</td>\n",
              "      <td>0.148056</td>\n",
              "      <td>0.357985</td>\n",
              "    </tr>\n",
              "    <tr>\n",
              "      <th>std</th>\n",
              "      <td>1.151375</td>\n",
              "      <td>0.808138</td>\n",
              "      <td>0.788930</td>\n",
              "      <td>0.798586</td>\n",
              "      <td>0.788185</td>\n",
              "      <td>0.781746</td>\n",
              "      <td>0.787412</td>\n",
              "      <td>0.760790</td>\n",
              "      <td>0.794707</td>\n",
              "      <td>0.777822</td>\n",
              "      <td>...</td>\n",
              "      <td>0.982121</td>\n",
              "      <td>0.966409</td>\n",
              "      <td>0.983155</td>\n",
              "      <td>0.987226</td>\n",
              "      <td>0.997285</td>\n",
              "      <td>1.000907</td>\n",
              "      <td>0.992336</td>\n",
              "      <td>0.999760</td>\n",
              "      <td>1.309139</td>\n",
              "      <td>0.479440</td>\n",
              "    </tr>\n",
              "    <tr>\n",
              "      <th>min</th>\n",
              "      <td>-12.848528</td>\n",
              "      <td>-4.346736</td>\n",
              "      <td>-4.629801</td>\n",
              "      <td>-4.284960</td>\n",
              "      <td>-3.811662</td>\n",
              "      <td>-4.286027</td>\n",
              "      <td>-4.777842</td>\n",
              "      <td>-3.737894</td>\n",
              "      <td>-4.065542</td>\n",
              "      <td>-4.091684</td>\n",
              "      <td>...</td>\n",
              "      <td>-3.753075</td>\n",
              "      <td>-3.881458</td>\n",
              "      <td>-3.613081</td>\n",
              "      <td>-3.996032</td>\n",
              "      <td>-4.604283</td>\n",
              "      <td>-3.992197</td>\n",
              "      <td>-5.171765</td>\n",
              "      <td>-4.180515</td>\n",
              "      <td>-6.138929</td>\n",
              "      <td>0.000000</td>\n",
              "    </tr>\n",
              "    <tr>\n",
              "      <th>25%</th>\n",
              "      <td>-0.957395</td>\n",
              "      <td>-0.853495</td>\n",
              "      <td>-0.846724</td>\n",
              "      <td>-0.842093</td>\n",
              "      <td>-0.847842</td>\n",
              "      <td>-0.838511</td>\n",
              "      <td>-0.837972</td>\n",
              "      <td>-0.841203</td>\n",
              "      <td>-0.853588</td>\n",
              "      <td>-0.833063</td>\n",
              "      <td>...</td>\n",
              "      <td>-0.348002</td>\n",
              "      <td>-0.345632</td>\n",
              "      <td>-0.342891</td>\n",
              "      <td>-0.347026</td>\n",
              "      <td>-0.353204</td>\n",
              "      <td>-0.350778</td>\n",
              "      <td>-0.338269</td>\n",
              "      <td>-0.342672</td>\n",
              "      <td>-0.413380</td>\n",
              "      <td>0.000000</td>\n",
              "    </tr>\n",
              "    <tr>\n",
              "      <th>50%</th>\n",
              "      <td>-0.422351</td>\n",
              "      <td>-0.417337</td>\n",
              "      <td>-0.413108</td>\n",
              "      <td>-0.418110</td>\n",
              "      <td>-0.412084</td>\n",
              "      <td>-0.406319</td>\n",
              "      <td>-0.415789</td>\n",
              "      <td>-0.413095</td>\n",
              "      <td>-0.414273</td>\n",
              "      <td>-0.409326</td>\n",
              "      <td>...</td>\n",
              "      <td>0.000000</td>\n",
              "      <td>0.000000</td>\n",
              "      <td>0.000000</td>\n",
              "      <td>0.000000</td>\n",
              "      <td>-0.003238</td>\n",
              "      <td>0.000000</td>\n",
              "      <td>0.000000</td>\n",
              "      <td>0.000000</td>\n",
              "      <td>0.000000</td>\n",
              "      <td>0.000000</td>\n",
              "    </tr>\n",
              "    <tr>\n",
              "      <th>75%</th>\n",
              "      <td>0.000000</td>\n",
              "      <td>0.000000</td>\n",
              "      <td>0.000000</td>\n",
              "      <td>0.000000</td>\n",
              "      <td>0.000000</td>\n",
              "      <td>0.000000</td>\n",
              "      <td>0.000000</td>\n",
              "      <td>0.000000</td>\n",
              "      <td>0.000000</td>\n",
              "      <td>0.000000</td>\n",
              "      <td>...</td>\n",
              "      <td>0.504864</td>\n",
              "      <td>0.506730</td>\n",
              "      <td>0.485679</td>\n",
              "      <td>0.497979</td>\n",
              "      <td>0.500594</td>\n",
              "      <td>0.524606</td>\n",
              "      <td>0.534094</td>\n",
              "      <td>0.510447</td>\n",
              "      <td>0.728714</td>\n",
              "      <td>1.000000</td>\n",
              "    </tr>\n",
              "    <tr>\n",
              "      <th>max</th>\n",
              "      <td>14.730815</td>\n",
              "      <td>11.233335</td>\n",
              "      <td>7.197652</td>\n",
              "      <td>4.527274</td>\n",
              "      <td>5.880007</td>\n",
              "      <td>4.990129</td>\n",
              "      <td>6.511142</td>\n",
              "      <td>3.819117</td>\n",
              "      <td>6.403967</td>\n",
              "      <td>6.207308</td>\n",
              "      <td>...</td>\n",
              "      <td>9.490736</td>\n",
              "      <td>9.206869</td>\n",
              "      <td>8.506854</td>\n",
              "      <td>7.951723</td>\n",
              "      <td>9.451998</td>\n",
              "      <td>9.732702</td>\n",
              "      <td>10.667726</td>\n",
              "      <td>10.931708</td>\n",
              "      <td>12.018370</td>\n",
              "      <td>1.000000</td>\n",
              "    </tr>\n",
              "  </tbody>\n",
              "</table>\n",
              "<p>8 rows × 2307 columns</p>\n",
              "</div>\n",
              "      <button class=\"colab-df-convert\" onclick=\"convertToInteractive('df-eaa2a92a-1281-46a8-b625-51204bab35c9')\"\n",
              "              title=\"Convert this dataframe to an interactive table.\"\n",
              "              style=\"display:none;\">\n",
              "        \n",
              "  <svg xmlns=\"http://www.w3.org/2000/svg\" height=\"24px\"viewBox=\"0 0 24 24\"\n",
              "       width=\"24px\">\n",
              "    <path d=\"M0 0h24v24H0V0z\" fill=\"none\"/>\n",
              "    <path d=\"M18.56 5.44l.94 2.06.94-2.06 2.06-.94-2.06-.94-.94-2.06-.94 2.06-2.06.94zm-11 1L8.5 8.5l.94-2.06 2.06-.94-2.06-.94L8.5 2.5l-.94 2.06-2.06.94zm10 10l.94 2.06.94-2.06 2.06-.94-2.06-.94-.94-2.06-.94 2.06-2.06.94z\"/><path d=\"M17.41 7.96l-1.37-1.37c-.4-.4-.92-.59-1.43-.59-.52 0-1.04.2-1.43.59L10.3 9.45l-7.72 7.72c-.78.78-.78 2.05 0 2.83L4 21.41c.39.39.9.59 1.41.59.51 0 1.02-.2 1.41-.59l7.78-7.78 2.81-2.81c.8-.78.8-2.07 0-2.86zM5.41 20L4 18.59l7.72-7.72 1.47 1.35L5.41 20z\"/>\n",
              "  </svg>\n",
              "      </button>\n",
              "      \n",
              "  <style>\n",
              "    .colab-df-container {\n",
              "      display:flex;\n",
              "      flex-wrap:wrap;\n",
              "      gap: 12px;\n",
              "    }\n",
              "\n",
              "    .colab-df-convert {\n",
              "      background-color: #E8F0FE;\n",
              "      border: none;\n",
              "      border-radius: 50%;\n",
              "      cursor: pointer;\n",
              "      display: none;\n",
              "      fill: #1967D2;\n",
              "      height: 32px;\n",
              "      padding: 0 0 0 0;\n",
              "      width: 32px;\n",
              "    }\n",
              "\n",
              "    .colab-df-convert:hover {\n",
              "      background-color: #E2EBFA;\n",
              "      box-shadow: 0px 1px 2px rgba(60, 64, 67, 0.3), 0px 1px 3px 1px rgba(60, 64, 67, 0.15);\n",
              "      fill: #174EA6;\n",
              "    }\n",
              "\n",
              "    [theme=dark] .colab-df-convert {\n",
              "      background-color: #3B4455;\n",
              "      fill: #D2E3FC;\n",
              "    }\n",
              "\n",
              "    [theme=dark] .colab-df-convert:hover {\n",
              "      background-color: #434B5C;\n",
              "      box-shadow: 0px 1px 3px 1px rgba(0, 0, 0, 0.15);\n",
              "      filter: drop-shadow(0px 1px 2px rgba(0, 0, 0, 0.3));\n",
              "      fill: #FFFFFF;\n",
              "    }\n",
              "  </style>\n",
              "\n",
              "      <script>\n",
              "        const buttonEl =\n",
              "          document.querySelector('#df-eaa2a92a-1281-46a8-b625-51204bab35c9 button.colab-df-convert');\n",
              "        buttonEl.style.display =\n",
              "          google.colab.kernel.accessAllowed ? 'block' : 'none';\n",
              "\n",
              "        async function convertToInteractive(key) {\n",
              "          const element = document.querySelector('#df-eaa2a92a-1281-46a8-b625-51204bab35c9');\n",
              "          const dataTable =\n",
              "            await google.colab.kernel.invokeFunction('convertToInteractive',\n",
              "                                                     [key], {});\n",
              "          if (!dataTable) return;\n",
              "\n",
              "          const docLinkHtml = 'Like what you see? Visit the ' +\n",
              "            '<a target=\"_blank\" href=https://colab.research.google.com/notebooks/data_table.ipynb>data table notebook</a>'\n",
              "            + ' to learn more about interactive tables.';\n",
              "          element.innerHTML = '';\n",
              "          dataTable['output_type'] = 'display_data';\n",
              "          await google.colab.output.renderOutput(dataTable, element);\n",
              "          const docLink = document.createElement('div');\n",
              "          docLink.innerHTML = docLinkHtml;\n",
              "          element.appendChild(docLink);\n",
              "        }\n",
              "      </script>\n",
              "    </div>\n",
              "  </div>\n",
              "  "
            ]
          },
          "metadata": {},
          "execution_count": 14
        }
      ],
      "metadata": {
        "id": "VNJzTIPDV_Ll",
        "colab": {
          "base_uri": "https://localhost:8080/",
          "height": 393
        },
        "outputId": "979240a5-9ada-4143-9f31-4abac676c8fa"
      }
    },
    {
      "cell_type": "markdown",
      "source": [
        "# **2. Data Pocessing**"
      ],
      "metadata": {
        "id": "FgdRawLQTd3C"
      }
    },
    {
      "cell_type": "code",
      "source": [
        "import tensorflow as tf"
      ],
      "metadata": {
        "id": "PVjRXsZtvQhs"
      },
      "execution_count": 15,
      "outputs": []
    },
    {
      "cell_type": "markdown",
      "source": [
        "Now that we have visualized our data, let is work with it. Firs to divide them to imput and output."
      ],
      "metadata": {
        "id": "ixFT9WFtV_Ln"
      }
    },
    {
      "cell_type": "code",
      "execution_count": 16,
      "source": [
        "# Converting the Dataset to a Numpy array\n",
        "M = data.values\n",
        "X0 = M[ : ,:-1] # Matriz M without the last column\n",
        "L = M[ : ,:257] # Matriz M without the last column\n",
        "G = M[ : ,257:-1] # Matriz M without the last column\n",
        "y = M[ : , -1] # The last column of M\n",
        "M.shape"
      ],
      "outputs": [
        {
          "output_type": "execute_result",
          "data": {
            "text/plain": [
              "(7383, 2307)"
            ]
          },
          "metadata": {},
          "execution_count": 16
        }
      ],
      "metadata": {
        "id": "_tCkbcq6V_Ln",
        "colab": {
          "base_uri": "https://localhost:8080/"
        },
        "outputId": "3874e0e9-ef1d-4103-fc11-5a103ab7f0e3"
      }
    },
    {
      "cell_type": "code",
      "source": [
        "G.shape"
      ],
      "metadata": {
        "colab": {
          "base_uri": "https://localhost:8080/"
        },
        "id": "ab3PLoLBILyk",
        "outputId": "6456e93a-aaa4-4a95-a5f6-91e872122917"
      },
      "execution_count": 17,
      "outputs": [
        {
          "output_type": "execute_result",
          "data": {
            "text/plain": [
              "(7383, 2049)"
            ]
          },
          "metadata": {},
          "execution_count": 17
        }
      ]
    },
    {
      "cell_type": "code",
      "source": [
        "L.shape"
      ],
      "metadata": {
        "colab": {
          "base_uri": "https://localhost:8080/"
        },
        "id": "thK54KhcIOcV",
        "outputId": "54bcdf32-e4c5-4e4b-c40f-f49b3a5ad7a0"
      },
      "execution_count": 18,
      "outputs": [
        {
          "output_type": "execute_result",
          "data": {
            "text/plain": [
              "(7383, 257)"
            ]
          },
          "metadata": {},
          "execution_count": 18
        }
      ]
    },
    {
      "cell_type": "markdown",
      "source": [
        "Arrays are created with the indices of the examples that belong to each category. can be used [np.argwhere](https://docs.scipy.org/doc/numpy/reference/generated/numpy.argwhere.html) and [np.flatten](https://numpy.org/doc/stable/reference/generated/numpy.ndarray.flatten.html) "
      ],
      "metadata": {
        "id": "4a96vrXnV_Lo"
      }
    },
    {
      "cell_type": "code",
      "source": [
        "G.shape"
      ],
      "metadata": {
        "colab": {
          "base_uri": "https://localhost:8080/"
        },
        "id": "GDxwREnRwEGl",
        "outputId": "b9f3e122-9520-43d6-c8b3-9bbf24d72e34"
      },
      "execution_count": 19,
      "outputs": [
        {
          "output_type": "execute_result",
          "data": {
            "text/plain": [
              "(7383, 2049)"
            ]
          },
          "metadata": {},
          "execution_count": 19
        }
      ]
    },
    {
      "cell_type": "code",
      "execution_count": 20,
      "source": [
        "C0 = np.argwhere(y == 1).flatten()\n",
        "C1 = np.argwhere(y == 0).flatten()"
      ],
      "outputs": [],
      "metadata": {
        "id": "Ix4-bI7EV_Lo"
      }
    },
    {
      "cell_type": "code",
      "source": [
        "C0"
      ],
      "metadata": {
        "colab": {
          "base_uri": "https://localhost:8080/"
        },
        "id": "qi39lmBvzFe8",
        "outputId": "4074b48c-ae16-4a93-d6c2-00211ed36537"
      },
      "execution_count": 21,
      "outputs": [
        {
          "output_type": "execute_result",
          "data": {
            "text/plain": [
              "array([   0,    1,    2, ..., 6291, 6413, 7077])"
            ]
          },
          "metadata": {},
          "execution_count": 21
        }
      ]
    },
    {
      "cell_type": "code",
      "source": [
        "C1"
      ],
      "metadata": {
        "colab": {
          "base_uri": "https://localhost:8080/"
        },
        "id": "AruVXDKAzHcW",
        "outputId": "7b863f49-d7b8-4050-dddc-169e4cca97fc"
      },
      "execution_count": 22,
      "outputs": [
        {
          "output_type": "execute_result",
          "data": {
            "text/plain": [
              "array([   4,    5,    7, ..., 7380, 7381, 7382])"
            ]
          },
          "metadata": {},
          "execution_count": 22
        }
      ]
    },
    {
      "cell_type": "code",
      "execution_count": 23,
      "source": [
        "# count how many examples we have of each category\n",
        "u = {'C': C0, 'FP': C1}\n",
        "www = []\n",
        "for k in u:\n",
        "    print('Hay {} muestras de la categoría {}'.format(len(u[k]), k))\n",
        "    www.append(len(u[k]))"
      ],
      "outputs": [
        {
          "output_type": "stream",
          "name": "stdout",
          "text": [
            "Hay 2643 muestras de la categoría C\n",
            "Hay 4740 muestras de la categoría FP\n"
          ]
        }
      ],
      "metadata": {
        "scrolled": true,
        "id": "H3yfgDa2V_Lp",
        "colab": {
          "base_uri": "https://localhost:8080/"
        },
        "outputId": "f7b3e671-9ca6-4ab8-f78b-13c1156fc55b"
      }
    },
    {
      "cell_type": "code",
      "source": [
        "www"
      ],
      "metadata": {
        "colab": {
          "base_uri": "https://localhost:8080/"
        },
        "id": "74D1deidXhko",
        "outputId": "a5d0e24f-d0cd-4125-f668-202aa322567d"
      },
      "execution_count": 24,
      "outputs": [
        {
          "output_type": "execute_result",
          "data": {
            "text/plain": [
              "[2643, 4740]"
            ]
          },
          "metadata": {},
          "execution_count": 24
        }
      ]
    },
    {
      "cell_type": "markdown",
      "source": [
        "To better see how many of each type we have, we are going to make a bar graphand a plot [plt.bar](https://matplotlib.org/3.1.1/api/_as_gen/matplotlib.pyplot.bar.html)"
      ],
      "metadata": {
        "id": "Kuysc91TWMVS"
      }
    },
    {
      "cell_type": "code",
      "execution_count": 25,
      "source": [
        "labels = list(u.keys())\n",
        "plt.bar(labels, www)"
      ],
      "outputs": [
        {
          "output_type": "execute_result",
          "data": {
            "text/plain": [
              "<BarContainer object of 2 artists>"
            ]
          },
          "metadata": {},
          "execution_count": 25
        },
        {
          "output_type": "display_data",
          "data": {
            "text/plain": [
              "<Figure size 432x288 with 1 Axes>"
            ],
            "image/png": "[encoded data removed]"
          },
          "metadata": {
            "needs_background": "light"
          }
        }
      ],
      "metadata": {
        "id": "alKD_kC6V_Lq",
        "colab": {
          "base_uri": "https://localhost:8080/",
          "height": 283
        },
        "outputId": "f43c548f-e466-4621-b422-227690a6060a"
      }
    },
    {
      "cell_type": "code",
      "source": [
        "plt.figure(figsize=(15,8))\n",
        "plt.plot(G[C0[20]],label='CONFIRMED')\n",
        "plt.plot(G[C1[40]],label='FALSE POSITIVE')\n",
        "plt.legend()\n",
        "plt.title('Diferent disposition Global')"
      ],
      "metadata": {
        "colab": {
          "base_uri": "https://localhost:8080/",
          "height": 517
        },
        "id": "UkZ8T5Iy-dcw",
        "outputId": "3c98bef8-f4f2-4f25-a01d-7b748a781258"
      },
      "execution_count": 26,
      "outputs": [
        {
          "output_type": "execute_result",
          "data": {
            "text/plain": [
              "Text(0.5, 1.0, 'Diferent disposition Global')"
            ]
          },
          "metadata": {},
          "execution_count": 26
        },
        {
          "output_type": "display_data",
          "data": {
            "text/plain": [
              "<Figure size 1080x576 with 1 Axes>"
            ],
            "image/png": "[encoded data removed]"
          },
          "metadata": {
            "needs_background": "light"
          }
        }
      ]
    },
    {
      "cell_type": "code",
      "source": [
        "plt.figure(figsize=(15,8))\n",
        "plt.plot(L[C0[20]],label='CONFIRMED')\n",
        "plt.plot(L[C1[40]],label='FALSE POSITIVE')\n",
        "plt.legend()\n",
        "plt.title('Diferent disposition Local')"
      ],
      "metadata": {
        "colab": {
          "base_uri": "https://localhost:8080/",
          "height": 517
        },
        "id": "AdSh7THZ4gRj",
        "outputId": "0543ebf2-21cd-41fa-c37e-5e9077de5fae"
      },
      "execution_count": 27,
      "outputs": [
        {
          "output_type": "execute_result",
          "data": {
            "text/plain": [
              "Text(0.5, 1.0, 'Diferent disposition Local')"
            ]
          },
          "metadata": {},
          "execution_count": 27
        },
        {
          "output_type": "display_data",
          "data": {
            "text/plain": [
              "<Figure size 1080x576 with 1 Axes>"
            ],
            "image/png": "[encoded data removed]"
          },
          "metadata": {
            "needs_background": "light"
          }
        }
      ]
    },
    {
      "cell_type": "markdown",
      "source": [
        "We can print an disposition of each type"
      ],
      "metadata": {
        "id": "EbQAOFIdXyVW"
      }
    },
    {
      "cell_type": "markdown",
      "source": [
        "## Data preparation"
      ],
      "metadata": {
        "id": "3NwSmZ--V_Lr"
      }
    },
    {
      "cell_type": "markdown",
      "source": [
        "The best way to deal with categories is to use a OneHotEncoding.\n",
        "\n",
        "For each column in the original Y, five have been created, and that the values of the original and the OneHotEncoding correspond to each other."
      ],
      "metadata": {
        "id": "hY5i0i4VV_Lr"
      }
    },
    {
      "cell_type": "code",
      "execution_count": 293,
      "source": [
        "from keras.utils.np_utils import to_categorical\n",
        "y_Hot = to_categorical(y, num_classes = 2)"
      ],
      "outputs": [],
      "metadata": {
        "id": "TNFxtVMBV_Lr"
      }
    },
    {
      "cell_type": "code",
      "execution_count": 294,
      "source": [
        "print(y.shape)\n",
        "print(y_Hot.shape)\n",
        "print(y[200])\n",
        "print(y_Hot[200])\n",
        "y_Hot"
      ],
      "outputs": [
        {
          "output_type": "stream",
          "name": "stdout",
          "text": [
            "(7383,)\n",
            "(7383, 2)\n",
            "1.0\n",
            "[0. 1.]\n"
          ]
        },
        {
          "output_type": "execute_result",
          "data": {
            "text/plain": [
              "array([[0., 1.],\n",
              "       [0., 1.],\n",
              "       [0., 1.],\n",
              "       ...,\n",
              "       [1., 0.],\n",
              "       [1., 0.],\n",
              "       [1., 0.]], dtype=float32)"
            ]
          },
          "metadata": {},
          "execution_count": 294
        }
      ],
      "metadata": {
        "id": "zsvo-ZKyV_Ls",
        "colab": {
          "base_uri": "https://localhost:8080/"
        },
        "outputId": "919d5fd6-dfb7-4e6b-d150-c08d372b03a7"
      }
    },
    {
      "cell_type": "markdown",
      "source": [
        "We can mix X and Y randomly using [shuffle](https://scikit-learn.org/stable/modules/generated/sklearn.utils.shuffle.html)."
      ],
      "metadata": {
        "id": "cHuvXFVHV_Ls"
      }
    },
    {
      "cell_type": "code",
      "execution_count": 295,
      "source": [
        "import sklearn\n",
        "X_shuffled,y_shuffled = sklearn.utils.shuffle(M, y_Hot)"
      ],
      "outputs": [],
      "metadata": {
        "id": "jIgWe_xrV_Ls"
      }
    },
    {
      "cell_type": "code",
      "execution_count": 296,
      "source": [
        "assert X_shuffled.shape == M.shape\n",
        "assert y_shuffled.shape == y_Hot.shape"
      ],
      "outputs": [],
      "metadata": {
        "id": "RgHgsWZkV_Ls"
      }
    },
    {
      "cell_type": "markdown",
      "source": [
        "To be able to enter the data in the model, we need each information point to be only inside the array (we cannot give an array as a value). Before we had the data structured like this:\n",
        "\n",
        "$ X = [[a_1,a_2,a_3...,a_n],[b_1,b_2,b_3...,b_n]...[z_1,z_2,z_3,z_n] $\n",
        "\n",
        "In order to use them we need to isolate each of these values, without eliminating their grouping for examples. Namely:\n",
        "\n",
        "$ X = [[[a_1],[a_2],[a_3]...,[a_n]],[[b_1],[b_2],[b_3]...,[b_n]]...[[z_1],[z_2],[z_3],[z_n]] $\n",
        "\n",
        "Use [expand_dims](https://docs.scipy.org/doc/numpy/reference/generated/numpy.expand_dims.html) de numpy."
      ],
      "metadata": {
        "id": "sZBDXRfVV_Lt"
      }
    },
    {
      "cell_type": "code",
      "execution_count": 297,
      "source": [
        "X0 = np.expand_dims(X_shuffled, 2)\n",
        "X0"
      ],
      "outputs": [
        {
          "output_type": "execute_result",
          "data": {
            "text/plain": [
              "array([[[-0.45],\n",
              "        [-0.09],\n",
              "        [-0.03],\n",
              "        ...,\n",
              "        [-1.4 ],\n",
              "        [-0.88],\n",
              "        [ 1.  ]],\n",
              "\n",
              "       [[ 0.02],\n",
              "        [ 0.75],\n",
              "        [-0.83],\n",
              "        ...,\n",
              "        [-0.92],\n",
              "        [-0.35],\n",
              "        [ 1.  ]],\n",
              "\n",
              "       [[ 0.  ],\n",
              "        [ 0.  ],\n",
              "        [ 0.  ],\n",
              "        ...,\n",
              "        [ 1.34],\n",
              "        [ 0.05],\n",
              "        [ 0.  ]],\n",
              "\n",
              "       ...,\n",
              "\n",
              "       [[-0.07],\n",
              "        [-0.07],\n",
              "        [-0.19],\n",
              "        ...,\n",
              "        [-0.22],\n",
              "        [ 0.06],\n",
              "        [ 1.  ]],\n",
              "\n",
              "       [[-0.18],\n",
              "        [-2.03],\n",
              "        [-0.99],\n",
              "        ...,\n",
              "        [-0.14],\n",
              "        [ 4.09],\n",
              "        [ 1.  ]],\n",
              "\n",
              "       [[ 0.81],\n",
              "        [ 1.35],\n",
              "        [-0.51],\n",
              "        ...,\n",
              "        [-0.83],\n",
              "        [-0.24],\n",
              "        [ 1.  ]]])"
            ]
          },
          "metadata": {},
          "execution_count": 297
        }
      ],
      "metadata": {
        "id": "JE69BdaSV_Lt",
        "colab": {
          "base_uri": "https://localhost:8080/"
        },
        "outputId": "674035ac-49af-4b62-b983-0705b6bef606"
      }
    },
    {
      "cell_type": "markdown",
      "source": [
        ""
      ],
      "metadata": {
        "id": "3g8bi_OrGFuo"
      }
    },
    {
      "cell_type": "markdown",
      "source": [
        "We do a train_test_split and everything would be ready to implement the model."
      ],
      "metadata": {
        "id": "6zO7Ufj6V_Lu"
      }
    },
    {
      "cell_type": "code",
      "execution_count": 298,
      "source": [
        "from sklearn.model_selection import train_test_split\n",
        "X_train, X_test, y_train, y_test = train_test_split(X0, y_shuffled, test_size=0.2)\n",
        "\n",
        "#dataset=tf.keras.utils.timeseries_dataset_from_array(X,target,sequence_length=2049,batch_size=128,shuffle=True)"
      ],
      "outputs": [],
      "metadata": {
        "id": "WkgScJkzV_Lu"
      }
    },
    {
      "cell_type": "markdown",
      "source": [
        "# **3. AI Model** "
      ],
      "metadata": {
        "id": "aHjkIBI9V_Lu"
      }
    },
    {
      "cell_type": "code",
      "execution_count": 299,
      "source": [
        "from sklearn import model_selection\n",
        "from sklearn.metrics import confusion_matrix\n",
        "\n",
        "import tensorflow as tf\n",
        "import keras\n",
        "from keras.layers import Dense, Dropout, Activation, Flatten, Conv1D, Conv2D, MaxPooling1D, MaxPooling2D, Lambda, MaxPool2D, BatchNormalization\n",
        "from keras.utils import np_utils\n",
        "from keras import models, layers, optimizers\n",
        "from sklearn.model_selection import train_test_split\n",
        "from sklearn.metrics import confusion_matrix, accuracy_score\n",
        "from sklearn.utils import class_weight\n",
        "\n",
        "from tensorflow.keras.optimizers import SGD, RMSprop, Adam, Adagrad, Adadelta, RMSprop\n",
        "from keras.models import Sequential, model_from_json\n",
        "from keras.preprocessing.image import ImageDataGenerator\n",
        "from keras.callbacks import ReduceLROnPlateau, ModelCheckpoint\n",
        "from keras import backend as K\n",
        "from keras.applications.vgg16 import VGG16\n",
        "from keras.models import Model\n",
        "from keras.callbacks import EarlyStopping\n",
        "from sklearn.metrics import accuracy_score, classification_report, confusion_matrix, label_ranking_average_precision_score, label_ranking_loss, coverage_error \n",
        "import itertools"
      ],
      "outputs": [],
      "metadata": {
        "id": "C6KDxZd_V_Lv"
      }
    },
    {
      "cell_type": "markdown",
      "source": [
        "Define:\n",
        "- Input length.\n",
        "- Neurons in the last layer\n",
        "- Batch_size for training with SGD."
      ],
      "metadata": {
        "id": "KHNyScqwV_Lv"
      }
    },
    {
      "cell_type": "markdown",
      "source": [
        "## Model"
      ],
      "metadata": {
        "id": "ovo4ycQrnL3j"
      }
    },
    {
      "cell_type": "code",
      "source": [
        "signal_length = 2307\n",
        "batch_size = 128\n",
        "n_classes = 2"
      ],
      "metadata": {
        "id": "owVAhKelBWvF"
      },
      "execution_count": 300,
      "outputs": []
    },
    {
      "cell_type": "code",
      "execution_count": 301,
      "source": [
        "model = Sequential()\n",
        "\n",
        "model.add(Conv1D(32, kernel_size=(16), input_shape=(signal_length, 1)))\n",
        "model.add(Dropout(0.5))\n",
        "model.add(BatchNormalization())\n",
        "model.add(Activation('relu'))\n",
        "\n",
        "model.add(Conv1D(32, (16)))\n",
        "model.add(Dropout(0.5))\n",
        "model.add(BatchNormalization())\n",
        "model.add(Activation('relu'))\n",
        "\n",
        "model.add(Conv1D(32, (16)))\n",
        "model.add(Dropout(0.5))\n",
        "model.add(BatchNormalization())\n",
        "model.add(Activation('relu'))\n",
        "model.add(MaxPooling1D(pool_size=(2)))\n",
        "\n",
        "model.add(Conv1D(64, (16)))\n",
        "model.add(Dropout(0.5))\n",
        "model.add(BatchNormalization())\n",
        "model.add(Activation('relu'))\n",
        "model.add(MaxPooling1D(pool_size=(2)))\n",
        "\n",
        "model.add(Flatten())\n",
        "\n",
        "model.add(Dense(1024, activation='sigmoid'))\n",
        "model.add(Dropout(0.5))\n",
        "model.add(Dense(1024, activation='sigmoid'))\n",
        "model.add(Dense(128, activation='sigmoid'))\n",
        "model.add(Dense(n_classes, activation='softmax'))\n",
        "\n",
        "model.summary()\n",
        "\n",
        "model.compile(loss=keras.losses.categorical_crossentropy, \n",
        "              optimizer=tf.keras.optimizers.Adadelta(),\n",
        "              metrics=['accuracy'])\n"
      ],
      "outputs": [
        {
          "output_type": "stream",
          "name": "stdout",
          "text": [
            "Model: \"sequential_9\"\n",
            "_________________________________________________________________\n",
            " Layer (type)                Output Shape              Param #   \n",
            "=================================================================\n",
            " conv1d_36 (Conv1D)          (None, 2292, 32)          544       \n",
            "                                                                 \n",
            " dropout_45 (Dropout)        (None, 2292, 32)          0         \n",
            "                                                                 \n",
            " batch_normalization_36 (Bat  (None, 2292, 32)         128       \n",
            " chNormalization)                                                \n",
            "                                                                 \n",
            " activation_36 (Activation)  (None, 2292, 32)          0         \n",
            "                                                                 \n",
            " conv1d_37 (Conv1D)          (None, 2277, 32)          16416     \n",
            "                                                                 \n",
            " dropout_46 (Dropout)        (None, 2277, 32)          0         \n",
            "                                                                 \n",
            " batch_normalization_37 (Bat  (None, 2277, 32)         128       \n",
            " chNormalization)                                                \n",
            "                                                                 \n",
            " activation_37 (Activation)  (None, 2277, 32)          0         \n",
            "                                                                 \n",
            " conv1d_38 (Conv1D)          (None, 2262, 32)          16416     \n",
            "                                                                 \n",
            " dropout_47 (Dropout)        (None, 2262, 32)          0         \n",
            "                                                                 \n",
            " batch_normalization_38 (Bat  (None, 2262, 32)         128       \n",
            " chNormalization)                                                \n",
            "                                                                 \n",
            " activation_38 (Activation)  (None, 2262, 32)          0         \n",
            "                                                                 \n",
            " max_pooling1d_18 (MaxPoolin  (None, 1131, 32)         0         \n",
            " g1D)                                                            \n",
            "                                                                 \n",
            " conv1d_39 (Conv1D)          (None, 1116, 64)          32832     \n",
            "                                                                 \n",
            " dropout_48 (Dropout)        (None, 1116, 64)          0         \n",
            "                                                                 \n",
            " batch_normalization_39 (Bat  (None, 1116, 64)         256       \n",
            " chNormalization)                                                \n",
            "                                                                 \n",
            " activation_39 (Activation)  (None, 1116, 64)          0         \n",
            "                                                                 \n",
            " max_pooling1d_19 (MaxPoolin  (None, 558, 64)          0         \n",
            " g1D)                                                            \n",
            "                                                                 \n",
            " flatten_9 (Flatten)         (None, 35712)             0         \n",
            "                                                                 \n",
            " dense_36 (Dense)            (None, 1024)              36570112  \n",
            "                                                                 \n",
            " dropout_49 (Dropout)        (None, 1024)              0         \n",
            "                                                                 \n",
            " dense_37 (Dense)            (None, 1024)              1049600   \n",
            "                                                                 \n",
            " dense_38 (Dense)            (None, 128)               131200    \n",
            "                                                                 \n",
            " dense_39 (Dense)            (None, 2)                 258       \n",
            "                                                                 \n",
            "=================================================================\n",
            "Total params: 37,818,018\n",
            "Trainable params: 37,817,698\n",
            "Non-trainable params: 320\n",
            "_________________________________________________________________\n"
          ]
        }
      ],
      "metadata": {
        "id": "Suml0sccV_Lw",
        "colab": {
          "base_uri": "https://localhost:8080/"
        },
        "outputId": "1286e777-d7d8-455a-ddb2-b0c2ebe9979a"
      }
    },
    {
      "cell_type": "markdown",
      "source": [
        "## Training"
      ],
      "metadata": {
        "id": "iCRT7pVwpjRI"
      }
    },
    {
      "cell_type": "markdown",
      "source": [
        "To compile the model, .compile() is called. Here we specify which loss function we use, which optimizer and which metrics we want to keep for each epoch"
      ],
      "metadata": {
        "id": "RqE5ra0T6Tey"
      }
    },
    {
      "cell_type": "code",
      "source": [
        "model.compile(loss='categorical_crossentropy', optimizer=Adam(), metrics=['accuracy'])"
      ],
      "metadata": {
        "id": "8_VB51Jd6NyZ"
      },
      "execution_count": 302,
      "outputs": []
    },
    {
      "cell_type": "markdown",
      "source": [
        "We train the model a number of epochs and with a specified batch_size. This returns us a history object with the accuracy of all the training phases."
      ],
      "metadata": {
        "id": "VLMT_7B66V84"
      }
    },
    {
      "cell_type": "code",
      "source": [
        "es=EarlyStopping(monitor='val_loss',mode='min',verbose=2,restore_best_weights=True,patience=10)"
      ],
      "metadata": {
        "id": "mypBdT2kczMa"
      },
      "execution_count": 303,
      "outputs": []
    },
    {
      "cell_type": "code",
      "source": [
        "\n",
        "classes = np.unique(target)\n",
        "            \n",
        "class_weights = class_weight.compute_class_weight('balanced',classes = classes,\n",
        "                                    y = target)\n",
        "\n",
        "weights = {key: val for key, val in zip(classes, class_weights)}\n",
        "weights"
      ],
      "metadata": {
        "colab": {
          "base_uri": "https://localhost:8080/"
        },
        "id": "Dwpl7Kke1C8x",
        "outputId": "85136a1a-95b9-41fd-f1a6-09c37cff08ec"
      },
      "execution_count": 304,
      "outputs": [
        {
          "output_type": "execute_result",
          "data": {
            "text/plain": [
              "{0: 0.7787974683544304, 1: 1.3967082860385924}"
            ]
          },
          "metadata": {},
          "execution_count": 304
        }
      ]
    },
    {
      "cell_type": "code",
      "execution_count": 305,
      "source": [
        "history = model.fit(X_train, y_train,\n",
        "                    epochs=80, \n",
        "                    batch_size=batch_size, \n",
        "                    verbose=1, \n",
        "                    validation_data=(X_test, y_test),callbacks=[es],class_weight = weights)"
      ],
      "outputs": [
        {
          "output_type": "stream",
          "name": "stdout",
          "text": [
            "Epoch 1/80\n",
            "47/47 [==============================] - 6s 99ms/step - loss: 0.7672 - accuracy: 0.5532 - val_loss: 0.6553 - val_accuracy: 0.6351\n",
            "Epoch 2/80\n",
            "47/47 [==============================] - 4s 87ms/step - loss: 0.6080 - accuracy: 0.6273 - val_loss: 0.5792 - val_accuracy: 0.6622\n",
            "Epoch 3/80\n",
            "47/47 [==============================] - 4s 87ms/step - loss: 0.5392 - accuracy: 0.7294 - val_loss: 0.4938 - val_accuracy: 0.7712\n",
            "Epoch 4/80\n",
            "47/47 [==============================] - 4s 88ms/step - loss: 0.5002 - accuracy: 0.7650 - val_loss: 0.4759 - val_accuracy: 0.7773\n",
            "Epoch 5/80\n",
            "47/47 [==============================] - 4s 85ms/step - loss: 0.4741 - accuracy: 0.7926 - val_loss: 0.4964 - val_accuracy: 0.7773\n",
            "Epoch 6/80\n",
            "47/47 [==============================] - 4s 86ms/step - loss: 0.4544 - accuracy: 0.8044 - val_loss: 0.5203 - val_accuracy: 0.7630\n",
            "Epoch 7/80\n",
            "47/47 [==============================] - 4s 86ms/step - loss: 0.4590 - accuracy: 0.8039 - val_loss: 0.5510 - val_accuracy: 0.7630\n",
            "Epoch 8/80\n",
            "47/47 [==============================] - 4s 89ms/step - loss: 0.4328 - accuracy: 0.8141 - val_loss: 0.4427 - val_accuracy: 0.7928\n",
            "Epoch 9/80\n",
            "47/47 [==============================] - 4s 87ms/step - loss: 0.4395 - accuracy: 0.8170 - val_loss: 0.5570 - val_accuracy: 0.7556\n",
            "Epoch 10/80\n",
            "47/47 [==============================] - 4s 87ms/step - loss: 0.4284 - accuracy: 0.8209 - val_loss: 0.4582 - val_accuracy: 0.7921\n",
            "Epoch 11/80\n",
            "47/47 [==============================] - 4s 87ms/step - loss: 0.4162 - accuracy: 0.8280 - val_loss: 0.4570 - val_accuracy: 0.7861\n",
            "Epoch 12/80\n",
            "47/47 [==============================] - 4s 89ms/step - loss: 0.4127 - accuracy: 0.8251 - val_loss: 0.5178 - val_accuracy: 0.7542\n",
            "Epoch 13/80\n",
            "47/47 [==============================] - 4s 88ms/step - loss: 0.4178 - accuracy: 0.8237 - val_loss: 0.4397 - val_accuracy: 0.7989\n",
            "Epoch 14/80\n",
            "47/47 [==============================] - 4s 86ms/step - loss: 0.4032 - accuracy: 0.8286 - val_loss: 0.4494 - val_accuracy: 0.7955\n",
            "Epoch 15/80\n",
            "47/47 [==============================] - 4s 88ms/step - loss: 0.3989 - accuracy: 0.8320 - val_loss: 0.4306 - val_accuracy: 0.8057\n",
            "Epoch 16/80\n",
            "47/47 [==============================] - 4s 86ms/step - loss: 0.3851 - accuracy: 0.8424 - val_loss: 0.4448 - val_accuracy: 0.7996\n",
            "Epoch 17/80\n",
            "47/47 [==============================] - 4s 85ms/step - loss: 0.3862 - accuracy: 0.8395 - val_loss: 0.4363 - val_accuracy: 0.7976\n",
            "Epoch 18/80\n",
            "47/47 [==============================] - 4s 85ms/step - loss: 0.3880 - accuracy: 0.8403 - val_loss: 0.4548 - val_accuracy: 0.7935\n",
            "Epoch 19/80\n",
            "47/47 [==============================] - 4s 85ms/step - loss: 0.3814 - accuracy: 0.8402 - val_loss: 0.4681 - val_accuracy: 0.7813\n",
            "Epoch 20/80\n",
            "47/47 [==============================] - 4s 87ms/step - loss: 0.3854 - accuracy: 0.8388 - val_loss: 0.3849 - val_accuracy: 0.8301\n",
            "Epoch 21/80\n",
            "47/47 [==============================] - 4s 86ms/step - loss: 0.3686 - accuracy: 0.8507 - val_loss: 0.4620 - val_accuracy: 0.7962\n",
            "Epoch 22/80\n",
            "47/47 [==============================] - 4s 85ms/step - loss: 0.3676 - accuracy: 0.8444 - val_loss: 0.3967 - val_accuracy: 0.8301\n",
            "Epoch 23/80\n",
            "47/47 [==============================] - 4s 85ms/step - loss: 0.3561 - accuracy: 0.8524 - val_loss: 0.4236 - val_accuracy: 0.8050\n",
            "Epoch 24/80\n",
            "47/47 [==============================] - 4s 86ms/step - loss: 0.3521 - accuracy: 0.8551 - val_loss: 0.4826 - val_accuracy: 0.7867\n",
            "Epoch 25/80\n",
            "47/47 [==============================] - 4s 85ms/step - loss: 0.3545 - accuracy: 0.8561 - val_loss: 0.4072 - val_accuracy: 0.8213\n",
            "Epoch 26/80\n",
            "47/47 [==============================] - 4s 86ms/step - loss: 0.3391 - accuracy: 0.8634 - val_loss: 0.4036 - val_accuracy: 0.8179\n",
            "Epoch 27/80\n",
            "47/47 [==============================] - 4s 86ms/step - loss: 0.3406 - accuracy: 0.8554 - val_loss: 0.4325 - val_accuracy: 0.8091\n",
            "Epoch 28/80\n",
            "47/47 [==============================] - 4s 86ms/step - loss: 0.3321 - accuracy: 0.8632 - val_loss: 0.5126 - val_accuracy: 0.7779\n",
            "Epoch 29/80\n",
            "47/47 [==============================] - 4s 86ms/step - loss: 0.3369 - accuracy: 0.8591 - val_loss: 0.4507 - val_accuracy: 0.7827\n",
            "Epoch 30/80\n",
            "46/47 [============================>.] - ETA: 0s - loss: 0.3223 - accuracy: 0.8619Restoring model weights from the end of the best epoch: 20.\n",
            "47/47 [==============================] - 4s 87ms/step - loss: 0.3226 - accuracy: 0.8617 - val_loss: 0.4128 - val_accuracy: 0.8125\n",
            "Epoch 30: early stopping\n"
          ]
        }
      ],
      "metadata": {
        "id": "JBuU_kKEV_Lw",
        "colab": {
          "base_uri": "https://localhost:8080/"
        },
        "outputId": "a5a7c5d2-08db-46f6-e59a-b18081f4878d"
      }
    },
    {
      "cell_type": "markdown",
      "source": [
        "Access to the historical accuracy of the model (with the history attribute)"
      ],
      "metadata": {
        "id": "K7CBgIF1V_Lx"
      }
    },
    {
      "cell_type": "code",
      "execution_count": 306,
      "source": [
        "history.history"
      ],
      "outputs": [
        {
          "output_type": "execute_result",
          "data": {
            "text/plain": [
              "{'accuracy': [0.5531662702560425,\n",
              "  0.6273281574249268,\n",
              "  0.729427695274353,\n",
              "  0.7649847865104675,\n",
              "  0.7925838232040405,\n",
              "  0.8044361472129822,\n",
              "  0.8039281964302063,\n",
              "  0.8140873908996582,\n",
              "  0.8169658184051514,\n",
              "  0.8208601474761963,\n",
              "  0.8279715776443481,\n",
              "  0.825093150138855,\n",
              "  0.8237385749816895,\n",
              "  0.8286488056182861,\n",
              "  0.8320352435112,\n",
              "  0.842363715171814,\n",
              "  0.8394852876663208,\n",
              "  0.8403318524360657,\n",
              "  0.8401625752449036,\n",
              "  0.838808000087738,\n",
              "  0.8506603240966797,\n",
              "  0.8443955183029175,\n",
              "  0.8523535132408142,\n",
              "  0.8550626635551453,\n",
              "  0.856078565120697,\n",
              "  0.863359272480011,\n",
              "  0.8554012775421143,\n",
              "  0.8631899952888489,\n",
              "  0.8591263294219971,\n",
              "  0.8616660833358765],\n",
              " 'loss': [0.7671809792518616,\n",
              "  0.608034074306488,\n",
              "  0.5391868352890015,\n",
              "  0.5001682639122009,\n",
              "  0.4740961790084839,\n",
              "  0.4543812870979309,\n",
              "  0.45902353525161743,\n",
              "  0.4327511191368103,\n",
              "  0.4395224153995514,\n",
              "  0.4284239411354065,\n",
              "  0.4162404537200928,\n",
              "  0.4126562774181366,\n",
              "  0.4177599251270294,\n",
              "  0.4031599164009094,\n",
              "  0.39885199069976807,\n",
              "  0.3851398825645447,\n",
              "  0.386199951171875,\n",
              "  0.3880428373813629,\n",
              "  0.3814139664173126,\n",
              "  0.38542065024375916,\n",
              "  0.3686111569404602,\n",
              "  0.3676399290561676,\n",
              "  0.35614529252052307,\n",
              "  0.35211774706840515,\n",
              "  0.3544836640357971,\n",
              "  0.3391249179840088,\n",
              "  0.34063810110092163,\n",
              "  0.33210018277168274,\n",
              "  0.3369201123714447,\n",
              "  0.3226395547389984],\n",
              " 'val_accuracy': [0.6350710988044739,\n",
              "  0.6621530055999756,\n",
              "  0.7711577415466309,\n",
              "  0.7772511839866638,\n",
              "  0.7772511839866638,\n",
              "  0.7630331516265869,\n",
              "  0.7630331516265869,\n",
              "  0.792823314666748,\n",
              "  0.7555856704711914,\n",
              "  0.7921462655067444,\n",
              "  0.7860528230667114,\n",
              "  0.7542315721511841,\n",
              "  0.7989166975021362,\n",
              "  0.7955315113067627,\n",
              "  0.8056871891021729,\n",
              "  0.7995937466621399,\n",
              "  0.7975625991821289,\n",
              "  0.7935003638267517,\n",
              "  0.7813134789466858,\n",
              "  0.8300609588623047,\n",
              "  0.7962085604667664,\n",
              "  0.8300609588623047,\n",
              "  0.8050101399421692,\n",
              "  0.7867298722267151,\n",
              "  0.8212593197822571,\n",
              "  0.8178740739822388,\n",
              "  0.8090724349021912,\n",
              "  0.7779282331466675,\n",
              "  0.7826675772666931,\n",
              "  0.8124576807022095],\n",
              " 'val_loss': [0.6552671790122986,\n",
              "  0.5792030692100525,\n",
              "  0.4938186705112457,\n",
              "  0.47585880756378174,\n",
              "  0.4963805377483368,\n",
              "  0.5202581882476807,\n",
              "  0.5510123372077942,\n",
              "  0.4426780343055725,\n",
              "  0.5570378303527832,\n",
              "  0.4582417905330658,\n",
              "  0.4570273160934448,\n",
              "  0.5177509784698486,\n",
              "  0.4396508038043976,\n",
              "  0.44936975836753845,\n",
              "  0.4306250810623169,\n",
              "  0.44475817680358887,\n",
              "  0.436259925365448,\n",
              "  0.45482319593429565,\n",
              "  0.4681077003479004,\n",
              "  0.38485580682754517,\n",
              "  0.4619515836238861,\n",
              "  0.39673489332199097,\n",
              "  0.4236202538013458,\n",
              "  0.48261019587516785,\n",
              "  0.4072287976741791,\n",
              "  0.40360185503959656,\n",
              "  0.43248066306114197,\n",
              "  0.5126099586486816,\n",
              "  0.450711727142334,\n",
              "  0.4128352999687195]}"
            ]
          },
          "metadata": {},
          "execution_count": 306
        }
      ],
      "metadata": {
        "id": "9Kv6HiLvV_Lx",
        "colab": {
          "base_uri": "https://localhost:8080/"
        },
        "outputId": "4222a401-1283-49c2-fbaa-a3e21701d4a8"
      }
    },
    {
      "cell_type": "markdown",
      "source": [
        "To see if our model is overfitting, a graph is drawn with the accuracy in train and in validation using the data from the history object."
      ],
      "metadata": {
        "id": "FPjqTBljV_Lx"
      }
    },
    {
      "cell_type": "code",
      "execution_count": 307,
      "source": [
        "plt.plot(history.history['accuracy'], label='Accuracy')\n",
        "plt.plot(history.history['val_accuracy'], label='Validation Accuracy')\n",
        "plt.legend()"
      ],
      "outputs": [
        {
          "output_type": "execute_result",
          "data": {
            "text/plain": [
              "<matplotlib.legend.Legend at 0x7f783c63d990>"
            ]
          },
          "metadata": {},
          "execution_count": 307
        },
        {
          "output_type": "display_data",
          "data": {
            "text/plain": [
              "<Figure size 432x288 with 1 Axes>"
            ],
            "image/png": "[encoded data removed]"
          },
          "metadata": {
            "needs_background": "light"
          }
        }
      ],
      "metadata": {
        "id": "q0WqDnYcV_Lx",
        "colab": {
          "base_uri": "https://localhost:8080/",
          "height": 283
        },
        "outputId": "aa5516fc-11a4-4a28-a1a9-73805e163256"
      }
    },
    {
      "cell_type": "markdown",
      "source": [
        "And the Loss"
      ],
      "metadata": {
        "id": "fNMoMNEOV_Lx"
      }
    },
    {
      "cell_type": "code",
      "execution_count": 308,
      "source": [
        "plt.plot(history.history['loss'], label='Loss')\n",
        "plt.plot(history.history['val_loss'], label='Validation Loss' )\n",
        "plt.legend()"
      ],
      "outputs": [
        {
          "output_type": "execute_result",
          "data": {
            "text/plain": [
              "<matplotlib.legend.Legend at 0x7f77e025a5d0>"
            ]
          },
          "metadata": {},
          "execution_count": 308
        },
        {
          "output_type": "display_data",
          "data": {
            "text/plain": [
              "<Figure size 432x288 with 1 Axes>"
            ],
            "image/png": "[encoded data removed]"
          },
          "metadata": {
            "needs_background": "light"
          }
        }
      ],
      "metadata": {
        "id": "g92kOPM1V_Ly",
        "colab": {
          "base_uri": "https://localhost:8080/",
          "height": 283
        },
        "outputId": "772539a9-0ef9-4bff-bfa0-a44f499ab124"
      }
    },
    {
      "cell_type": "markdown",
      "source": [
        "## Model Test\n",
        "\n"
      ],
      "metadata": {
        "id": "v_mxXZoeV_Ly"
      }
    },
    {
      "cell_type": "code",
      "execution_count": 309,
      "source": [
        "y_pred = model.predict(X_test, batch_size=1000)\n",
        "y_pred.shape"
      ],
      "outputs": [
        {
          "output_type": "stream",
          "name": "stdout",
          "text": [
            "WARNING:tensorflow:5 out of the last 11 calls to <function Model.make_predict_function.<locals>.predict_function at 0x7f789eb22440> triggered tf.function retracing. Tracing is expensive and the excessive number of tracings could be due to (1) creating @tf.function repeatedly in a loop, (2) passing tensors with different shapes, (3) passing Python objects instead of tensors. For (1), please define your @tf.function outside of the loop. For (2), @tf.function has experimental_relax_shapes=True option that relaxes argument shapes that can avoid unnecessary retracing. For (3), please refer to https://www.tensorflow.org/guide/function#controlling_retracing and https://www.tensorflow.org/api_docs/python/tf/function for  more details.\n"
          ]
        },
        {
          "output_type": "execute_result",
          "data": {
            "text/plain": [
              "(1477, 2)"
            ]
          },
          "metadata": {},
          "execution_count": 309
        }
      ],
      "metadata": {
        "id": "-DGJQUNEV_Ly",
        "colab": {
          "base_uri": "https://localhost:8080/"
        },
        "outputId": "44996584-c511-4028-d228-4c1ae8139ccd"
      }
    },
    {
      "cell_type": "code",
      "execution_count": 310,
      "source": [
        "print(y_test[299])\n",
        "plt.bar(range(n_classes), height=y_pred[4])"
      ],
      "outputs": [
        {
          "output_type": "stream",
          "name": "stdout",
          "text": [
            "[1. 0.]\n"
          ]
        },
        {
          "output_type": "execute_result",
          "data": {
            "text/plain": [
              "<BarContainer object of 2 artists>"
            ]
          },
          "metadata": {},
          "execution_count": 310
        },
        {
          "output_type": "display_data",
          "data": {
            "text/plain": [
              "<Figure size 432x288 with 1 Axes>"
            ],
            "image/png": "[encoded data removed]"
          },
          "metadata": {
            "needs_background": "light"
          }
        }
      ],
      "metadata": {
        "id": "VHPB9_uHV_Lz",
        "colab": {
          "base_uri": "https://localhost:8080/",
          "height": 302
        },
        "outputId": "895246cb-e00a-45b5-9482-b21b7158aa8a"
      }
    },
    {
      "cell_type": "markdown",
      "source": [
        "This code snippet generates a model report, and the next a confusion matrix."
      ],
      "metadata": {
        "id": "jq61fPz5V_Lz"
      }
    },
    {
      "cell_type": "code",
      "execution_count": 311,
      "source": [
        "print(classification_report(y_test.argmax(axis=1), y_pred.argmax(axis=1)))"
      ],
      "outputs": [
        {
          "output_type": "stream",
          "name": "stdout",
          "text": [
            "              precision    recall  f1-score   support\n",
            "\n",
            "           0       0.87      0.86      0.87       938\n",
            "           1       0.76      0.78      0.77       539\n",
            "\n",
            "    accuracy                           0.83      1477\n",
            "   macro avg       0.82      0.82      0.82      1477\n",
            "weighted avg       0.83      0.83      0.83      1477\n",
            "\n"
          ]
        }
      ],
      "metadata": {
        "id": "AX4r5a9qV_Lz",
        "colab": {
          "base_uri": "https://localhost:8080/"
        },
        "outputId": "8d29057f-7d3e-43e4-aff5-81cec8651dff"
      }
    },
    {
      "cell_type": "code",
      "execution_count": 312,
      "source": [
        "def plot_confusion_matrix(cm, classes,\n",
        "                          normalize=False,\n",
        "                          title='Confusion matrix',\n",
        "                          cmap=plt.cm.Blues):\n",
        "    \"\"\"\n",
        "    This function prints and plots the confusion matrix.\n",
        "    Normalization can be applied by setting `normalize=True`.\n",
        "    \"\"\"\n",
        "    if normalize:\n",
        "        cm = cm.astype('float') / cm.sum(axis=1)[:, np.newaxis]\n",
        "        print(\"Normalized confusion matrix\")\n",
        "    else:\n",
        "        print('Confusion matrix, without normalization')\n",
        "\n",
        "    plt.imshow(cm, interpolation='nearest', cmap=cmap)\n",
        "    plt.title(title)\n",
        "    plt.colorbar()\n",
        "    tick_marks = np.arange(len(classes))\n",
        "    plt.xticks(tick_marks, classes, rotation=45)\n",
        "    plt.yticks(tick_marks, classes)\n",
        "\n",
        "    fmt = '.2f' if normalize else 'd'\n",
        "    thresh = cm.max() / 2.\n",
        "    for i, j in itertools.product(range(cm.shape[0]), range(cm.shape[1])):\n",
        "        plt.text(j, i, format(cm[i, j], fmt),\n",
        "                 horizontalalignment=\"center\",\n",
        "                 color=\"white\" if cm[i, j] > thresh else \"black\")\n",
        "\n",
        "    plt.tight_layout()\n",
        "    plt.ylabel('True label')\n",
        "    plt.xlabel('Predicted label')\n",
        "\n",
        "# Compute confusion matrix\n",
        "cnf_matrix = confusion_matrix(y_test.argmax(axis=1), y_pred.argmax(axis=1))\n",
        "np.set_printoptions(precision=2)\n",
        "\n",
        "# Plot non-normalized confusion matrix\n",
        "plt.figure(figsize=(10, 10))\n",
        "plot_confusion_matrix(cnf_matrix, classes=['FP','C'],\n",
        "                      title='Confusion matrix, with normalization',\n",
        "                      normalize=True)\n",
        "plt.show()"
      ],
      "outputs": [
        {
          "output_type": "stream",
          "name": "stdout",
          "text": [
            "Normalized confusion matrix\n"
          ]
        },
        {
          "output_type": "display_data",
          "data": {
            "text/plain": [
              "<Figure size 720x720 with 2 Axes>"
            ],
            "image/png": "[encoded data removed]"
          },
          "metadata": {
            "needs_background": "light"
          }
        }
      ],
      "metadata": {
        "id": "MyU_etF5V_Lz",
        "colab": {
          "base_uri": "https://localhost:8080/",
          "height": 747
        },
        "outputId": "3195a609-d7a7-4f64-e099-a5bfb076e328"
      }
    }
  ],
  "metadata": {
    "interpreter": {
      "hash": "debd7f09b077943c30761037e822b136a322b4ca98aecc4298d815b1829f859f"
    },
    "kernelspec": {
      "display_name": "Python 3.8.12 64-bit ('AISat': conda)",
      "name": "python3"
    },
    "language_info": {
      "codemirror_mode": {
        "name": "ipython",
        "version": 3
      },
      "file_extension": ".py",
      "mimetype": "text/x-python",
      "name": "python",
      "nbconvert_exporter": "python",
      "pygments_lexer": "ipython3",
      "version": "3.8.12"
    },
    "colab": {
      "name": "notebook_NewsEarths.ipynb",
      "provenance": [],
      "collapsed_sections": [],
      "toc_visible": true
    },
    "accelerator": "GPU"
  },
  "nbformat": 4,
  "nbformat_minor": 0
}