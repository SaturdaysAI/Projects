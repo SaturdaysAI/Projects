{
 "cells": [
  {
   "cell_type": "markdown",
   "metadata": {
    "id": "GeeFUWsNSL3O"
   },
   "source": [
    "### Importación Bibliotecas"
   ]
  },
  {
   "cell_type": "code",
   "execution_count": 1,
   "metadata": {},
   "outputs": [
    {
     "name": "stderr",
     "output_type": "stream",
     "text": [
      "Using TensorFlow backend.\n"
     ]
    }
   ],
   "source": [
    "!pip install imutils --quiet\n",
    "!pip install livelossplot --quiet\n",
    "from imutils import paths\n",
    "from livelossplot.inputs.keras import PlotLossesCallback"
   ]
  },
  {
   "cell_type": "code",
   "execution_count": 2,
   "metadata": {
    "id": "KkV66jQ_SL3S",
    "outputId": "ff958d7d-33aa-4d55-fa3e-a0f1990715e8"
   },
   "outputs": [
    {
     "name": "stdout",
     "output_type": "stream",
     "text": [
      "3.6.13 | packaged by conda-forge | (default, Feb 19 2021, 05:36:01) \n",
      "[GCC 9.3.0]\n",
      "keras 2.3.0\n",
      "tensorflow 2.1.3\n",
      "numpy 1.18.5\n"
     ]
    }
   ],
   "source": [
    "import sys\n",
    "import os\n",
    "import pandas as pd\n",
    "import numpy as np\n",
    "import cv2\n",
    "import matplotlib.pyplot as plt\n",
    "from PIL import Image\n",
    "\n",
    "import keras\n",
    "import tensorflow as tf\n",
    "from keras.models import Model\n",
    "from keras.optimizers import Adam\n",
    "from keras.applications.vgg16 import VGG16, preprocess_input\n",
    "from keras.applications.vgg19 import VGG19, preprocess_input\n",
    "from keras.preprocessing.image import ImageDataGenerator\n",
    "from keras.callbacks import ModelCheckpoint, EarlyStopping\n",
    "from keras.layers import Dense, Dropout, Flatten, MaxPooling2D, Conv2D\n",
    "from pathlib import Path\n",
    "from sklearn.metrics import accuracy_score\n",
    "\n",
    "from functions import get_size, train_valid_generator, plot_heatmap, add_value_labels\n",
    "print(f'{sys.version}')\n",
    "print(f'keras {keras.__version__}')\n",
    "print(f'tensorflow {tf.__version__}')\n",
    "print(f'numpy {np.__version__}')"
   ]
  },
  {
   "cell_type": "code",
   "execution_count": 3,
   "metadata": {
    "colab": {
     "base_uri": "https://localhost:8080/"
    },
    "id": "9mapi6TeSId3",
    "outputId": "01a112e0-eeec-49c5-b57f-6ed877ea7613"
   },
   "outputs": [
    {
     "name": "stdout",
     "output_type": "stream",
     "text": [
      "Num GPUs Available:  1\n",
      "/device:GPU:0\n"
     ]
    }
   ],
   "source": [
    "from tensorflow.python.client import device_lib\n",
    "print(\"Num GPUs Available: \", len(tf.config.list_physical_devices('GPU')))\n",
    "tf.debugging.set_log_device_placement(True)\n",
    "print(tf.test.gpu_device_name())"
   ]
  },
  {
   "cell_type": "markdown",
   "metadata": {
    "id": "GAfO6nvsSL3U"
   },
   "source": [
    "### Importación Imágenes para Entrenamiento"
   ]
  },
  {
   "cell_type": "code",
   "execution_count": 4,
   "metadata": {
    "id": "23cqXxlVSL3U"
   },
   "outputs": [],
   "source": [
    "# Copiar las imágenes destinadas a los entrenamientosa a la instancia de Jupyter desde s3 de AWS. Hace falta hacerlo solamente la primera vez\n",
    "#. !aws s3 sync s3://focusondrivinghenry/img './img' --quiet"
   ]
  },
  {
   "cell_type": "code",
   "execution_count": 5,
   "metadata": {
    "id": "pEArSgDjSL3V",
    "outputId": "dd0f3001-5caf-48c5-b38b-bd99cabfbcdf"
   },
   "outputs": [
    {
     "name": "stdout",
     "output_type": "stream",
     "text": [
      "11851844.964 bytes\n"
     ]
    }
   ],
   "source": [
    "# calcular el espacio utilizado en la máquina\n",
    "print(get_size()/1000, 'bytes')"
   ]
  },
  {
   "cell_type": "markdown",
   "metadata": {
    "id": "WerWku2KSL3V"
   },
   "source": [
    "### Exploratory Data Analysis (Train Data)"
   ]
  },
  {
   "cell_type": "code",
   "execution_count": 6,
   "metadata": {
    "id": "phfFlsVqvfwB"
   },
   "outputs": [],
   "source": [
    "train_data = f'./img/train'\n",
    "test_data = f'./img/test_1000'\n",
    "class_subset = sorted(os.listdir(train_data))\n",
    "ac_labels = {\"c0\": \"safe driving\",\n",
    "             \"c1\": \"texting - right\",\n",
    "             \"c2\": \"talking on the phone - right\",\n",
    "             \"c3\": \"texting - left\",\n",
    "             \"c4\": \"talking on the phone - left\",\n",
    "             \"c5\": \"operating the radio\",\n",
    "             \"c6\": \"drinking\",\n",
    "             \"c7\": \"reaching behind\",\n",
    "             \"c8\": \"hair and makeup\",\n",
    "             \"c9\": \"talking to passenger\"}"
   ]
  },
  {
   "cell_type": "code",
   "execution_count": 7,
   "metadata": {
    "colab": {
     "base_uri": "https://localhost:8080/"
    },
    "id": "AhqJHWIrEvAC",
    "outputId": "2e1acc8c-bc84-44b1-e7b9-3d60d9d017bf"
   },
   "outputs": [
    {
     "name": "stdout",
     "output_type": "stream",
     "text": [
      "train_data ./img/train\n",
      "test_data ./img/test_1000\n",
      "class_subset ['c0', 'c1', 'c2', 'c3', 'c4', 'c5', 'c6', 'c7', 'c8', 'c9']\n"
     ]
    }
   ],
   "source": [
    "print(f'train_data {train_data}')\n",
    "print(f'test_data {test_data}')\n",
    "print(f'class_subset {class_subset}')"
   ]
  },
  {
   "cell_type": "markdown",
   "metadata": {
    "id": "nLUkC6HcSL3X"
   },
   "source": [
    "### Comprobación de que las imágenes destinadas a los entrenamientos tienen las mismas dimensiones"
   ]
  },
  {
   "cell_type": "code",
   "execution_count": 8,
   "metadata": {
    "colab": {
     "base_uri": "https://localhost:8080/"
    },
    "id": "dCdB_O34wOCA",
    "outputId": "6ae6d5ca-c156-42fd-8123-1af7d6e49401"
   },
   "outputs": [
    {
     "name": "stdout",
     "output_type": "stream",
     "text": [
      "directory ./img/train/c7\n",
      "All Elements in List are Equal\n",
      "directory ./img/train/c2\n",
      "All Elements in List are Equal\n",
      "directory ./img/train/c1\n",
      "All Elements in List are Equal\n",
      "directory ./img/train/c9\n",
      "All Elements in List are Equal\n",
      "directory ./img/train/c4\n",
      "All Elements in List are Equal\n",
      "directory ./img/train/c3\n",
      "All Elements in List are Equal\n",
      "directory ./img/train/c8\n",
      "All Elements in List are Equal\n",
      "directory ./img/train/c5\n",
      "All Elements in List are Equal\n",
      "directory ./img/train/c6\n",
      "All Elements in List are Equal\n",
      "directory ./img/train/c0\n",
      "All Elements in List are Equal\n"
     ]
    }
   ],
   "source": [
    "df = pd.DataFrame()\n",
    "df_all_elements = pd.DataFrame()\n",
    "directories = os.listdir(train_data)\n",
    "for directory in directories:\n",
    "    _dir = f'{train_data}/{directory}'\n",
    "    print(f'directory {_dir}')\n",
    "    len_files = len(os.listdir(_dir))\n",
    "    img_list = paths.list_images(_dir)\n",
    "    shape = []\n",
    "    for i, img_path in enumerate(img_list):\n",
    "        shape.append(cv2.imread(img_path).shape)\n",
    "        if i > 5:\n",
    "            break\n",
    "\n",
    "    _directory = [directory] * len(shape)\n",
    "    _label = [ac_labels[directory]] * len(shape)\n",
    "    df_all_elements = df_all_elements.append(pd.DataFrame({'class': _directory,\n",
    "                                                          'shape': shape,\n",
    "                                                          'label': _label}),\n",
    "                                            ignore_index=True)\n",
    "\n",
    "    result = False\n",
    "    listOfStrings = df_all_elements['shape']\n",
    "    if len(listOfStrings) > 0:\n",
    "        result = all(elem == listOfStrings[0] for elem in listOfStrings)\n",
    "    if result:\n",
    "        print(\"All Elements in List are Equal\")\n",
    "    else:\n",
    "        print(\"All Elements in List are Not Equal\")\n",
    "\n",
    "    df = df.append(pd.DataFrame({'class': [directory],\n",
    "                                'len': [len_files],\n",
    "                                'shape': [listOfStrings[0]],\n",
    "                                'label': [ac_labels[directory]]}),\n",
    "                  ignore_index=True)"
   ]
  },
  {
   "cell_type": "markdown",
   "metadata": {
    "id": "bPSe0JB7SL3Y"
   },
   "source": [
    "### Distribución del número de imágenes por categorías"
   ]
  },
  {
   "cell_type": "code",
   "execution_count": 9,
   "metadata": {
    "id": "pcY4hZGRSL3Y",
    "outputId": "5c849590-879e-441d-fb23-710898f728ab"
   },
   "outputs": [
    {
     "data": {
      "image/png": "[encoded data removed]",
      "text/plain": [
       "<Figure size 864x576 with 1 Axes>"
      ]
     },
     "metadata": {
      "needs_background": "light"
     },
     "output_type": "display_data"
    }
   ],
   "source": [
    "frequencies = list(df['len'].values)\n",
    "\n",
    "freq_series = pd.Series(frequencies)\n",
    "\n",
    "x_labels = list(df['class'].values)\n",
    "\n",
    "plt.figure(figsize=(12, 8))\n",
    "ax = freq_series.plot(kind='bar')\n",
    "ax.set_title('Distribución Imágenes por Categoría', size=20)\n",
    "ax.set_xlabel('Categoría', size=15)\n",
    "ax.set_ylabel('Nº Imágenes', size=15)\n",
    "ax.set_xticklabels(x_labels, size=15)\n",
    "\n",
    "# Call the function above. All the magic happens there.\n",
    "add_value_labels(ax)\n",
    "\n",
    "plt.savefig(\"image.png\")"
   ]
  },
  {
   "cell_type": "markdown",
   "metadata": {
    "id": "1B3HM_cCSL3Z"
   },
   "source": [
    "### Preparación Conjunto de Imágenes para Entrenamiento y Test"
   ]
  },
  {
   "cell_type": "code",
   "execution_count": 10,
   "metadata": {},
   "outputs": [
    {
     "name": "stdout",
     "output_type": "stream",
     "text": [
      "generate model (1, 2, 3, 4, 5): 3\n",
      "Found 19065 images belonging to 10 classes.\n",
      "Found 3358 images belonging to 10 classes.\n",
      "Found 1002 images belonging to 10 classes.\n"
     ]
    }
   ],
   "source": [
    "n_model = int(input('generate model (1, 2, 3, 4, 5): '))\n",
    "BATCH_SIZE = 32\n",
    "train_generator, traingen, validgen = train_valid_generator(n_model, train_data, class_subset, BATCH_SIZE)\n",
    "test_generator = ImageDataGenerator(preprocessing_function=preprocess_input) \n",
    "testgen = test_generator.flow_from_directory(test_data,\n",
    "                                             target_size=(224, 224),\n",
    "                                             class_mode=None,\n",
    "                                             classes=class_subset,\n",
    "                                             batch_size=1,\n",
    "                                             shuffle=False,\n",
    "                                             seed=42)"
   ]
  },
  {
   "cell_type": "markdown",
   "metadata": {
    "id": "6kvvuMseSL3b"
   },
   "source": [
    "### Pruebas \"Data Augmentation\""
   ]
  },
  {
   "cell_type": "code",
   "execution_count": 11,
   "metadata": {
    "id": "bkGPPUtGSL3b"
   },
   "outputs": [],
   "source": [
    "from keras.preprocessing.image import array_to_img, img_to_array, load_img\n",
    "img = load_img('./img/train/c0/img_100026.jpg')\n",
    "x = img_to_array(img)\n",
    "x = x.reshape((1, ) + x.shape)\n",
    "i = 0\n",
    "for batch in train_generator.flow(x, batch_size=1,\n",
    "                                 save_to_dir='./img/zoom',\n",
    "                                 save_prefix='zoom4',\n",
    "                                 save_format='jpeg'):\n",
    "    i += 1\n",
    "    if i > 10:\n",
    "        break"
   ]
  },
  {
   "cell_type": "markdown",
   "metadata": {},
   "source": [
    " ### Definición del Modelo"
   ]
  },
  {
   "cell_type": "code",
   "execution_count": 12,
   "metadata": {
    "colab": {
     "base_uri": "https://localhost:8080/"
    },
    "id": "V3Q9mXUyFGxF",
    "outputId": "c6e36bf5-347e-456a-c594-3d52d2f2e4c2"
   },
   "outputs": [
    {
     "name": "stdout",
     "output_type": "stream",
     "text": [
      "Executing op VarHandleOp in device /job:localhost/replica:0/task:0/device:GPU:0\n",
      "Executing op VarIsInitializedOp in device /job:localhost/replica:0/task:0/device:GPU:0\n",
      "Executing op LogicalNot in device /job:localhost/replica:0/task:0/device:GPU:0\n",
      "Executing op Assert in device /job:localhost/replica:0/task:0/device:GPU:0\n",
      "Executing op AssignVariableOp in device /job:localhost/replica:0/task:0/device:GPU:0\n",
      "Executing op VarHandleOp in device /job:localhost/replica:0/task:0/device:GPU:0\n",
      "Executing op AssignVariableOp in device /job:localhost/replica:0/task:0/device:GPU:0\n"
     ]
    }
   ],
   "source": [
    "input_shape = (224, 224, 3)\n",
    "n_classes=len(class_subset)\n",
    "optim = Adam(lr=0.0001)\n",
    "fine_tune=2\n",
    "n_epochs = 25"
   ]
  },
  {
   "cell_type": "code",
   "execution_count": 13,
   "metadata": {},
   "outputs": [],
   "source": [
    "plot_loss_1 = PlotLossesCallback()\n",
    "# EarlyStopping\n",
    "early_stop = EarlyStopping(monitor='val_loss',\n",
    "                        patience=10,\n",
    "                        restore_best_weights=True,\n",
    "                        mode='min')"
   ]
  },
  {
   "cell_type": "code",
   "execution_count": 14,
   "metadata": {},
   "outputs": [],
   "source": [
    "def create_model(input_shape, n_classes, optimizer='rmsprop', fine_tune=0, n_model=1):\n",
    "    print(f'**train model {n_model}')\n",
    "    \"\"\"\n",
    "    Compiles a model integrated with VGG16 pretrained layers\n",
    "    \n",
    "    input_shape: tuple - the shape of input images (width, height, channels)\n",
    "    n_classes: int - number of classes for the output layer\n",
    "    optimizer: string - instantiated optimizer to use for training. Defaults to 'RMSProp'\n",
    "    fine_tune: int - The number of pre-trained layers to unfreeze.\n",
    "                If set to 0, all pretrained layers will freeze during training\n",
    "    \"\"\"\n",
    "    # Pretrained convolutional layers are loaded using the Imagenet weights.\n",
    "    # Include_top is set to False, in order to exclude the model's fully-connected layers.\n",
    "    if n_model == 4:\n",
    "        conv_base = VGG19(include_top=False,\n",
    "                     weights='imagenet', \n",
    "                     input_shape=input_shape)\n",
    "    else:\n",
    "        conv_base = VGG16(include_top=False,\n",
    "                         weights='imagenet', \n",
    "                         input_shape=input_shape)\n",
    "    \n",
    "    # Defines how many layers to freeze during training.\n",
    "    # Layers in the convolutional base are switched from trainable to non-trainable\n",
    "    # depending on the size of the fine-tuning parameter.\n",
    "    if fine_tune > 0:\n",
    "        for layer in conv_base.layers[:-fine_tune]:\n",
    "            layer.trainable = False\n",
    "    else:\n",
    "        for layer in conv_base.layers:\n",
    "            layer.trainable = False\n",
    "\n",
    "    # Create a new 'top' of the model (i.e. fully-connected layers).\n",
    "    # This is 'bootstrapping' a new top_model onto the pretrained layers.\n",
    "    top_model = conv_base.output\n",
    "    if n_model == 1 or n_model == 2:\n",
    "        top_model = Flatten(name=\"flatten\")(top_model)\n",
    "        top_model = Dense(4096, activation='relu')(top_model)\n",
    "        top_model = Dense(1072, activation='relu')(top_model)\n",
    "\n",
    "\n",
    "    elif n_model == 3 or n_model == 4:\n",
    "        top_model = Flatten(name=\"flatten\")(top_model)\n",
    "        top_model = Dense(4096, activation='relu')(top_model)\n",
    "        top_model = Dense(1024, activation='relu')(top_model)\n",
    "        top_model = Dense(256, activation='relu')(top_model)\n",
    "        top_model = Dense(64, activation='relu')(top_model)\n",
    "\n",
    "    elif n_model == 5:\n",
    "        top_model = Flatten(name=\"flatten\")(top_model)\n",
    "        top_model = Dense(4096, activation='relu')(top_model)\n",
    "        top_model = Dense(2048, activation='relu')(top_model)\n",
    "        top_model = Dense(1024, activation='relu')(top_model)\n",
    "        top_model = Dense(512, activation='relu')(top_model)\n",
    "        top_model = Dense(256, activation='relu')(top_model)\n",
    "        top_model = Dense(128, activation='relu')(top_model)\n",
    "        top_model = Dense(64, activation='relu')(top_model)\n",
    "        top_model = Dense(32, activation='relu')(top_model)\n",
    "        \n",
    "    top_model = Dropout(0.2)(top_model)\n",
    "    output_layer = Dense(n_classes, activation='softmax')(top_model)\n",
    "    \n",
    "    # Group the convolutional base and new fully-connected layers into a Model object.\n",
    "    model = Model(inputs=conv_base.input, outputs=output_layer)\n",
    "\n",
    "    # Compiles the model for training.\n",
    "    model.compile(optimizer=optimizer, \n",
    "                  loss='categorical_crossentropy',\n",
    "                  metrics=['accuracy'])\n",
    "    \n",
    "    return model\n"
   ]
  },
  {
   "cell_type": "code",
   "execution_count": 15,
   "metadata": {
    "id": "QqMGmqDpSL3d",
    "outputId": "bfd04b42-dd45-48cd-8d5d-6b625d51fd87",
    "scrolled": true
   },
   "outputs": [
    {
     "data": {
      "image/png": "[encoded data removed]",
      "text/plain": [
       "<Figure size 864x576 with 2 Axes>"
      ]
     },
     "metadata": {
      "needs_background": "light"
     },
     "output_type": "display_data"
    },
    {
     "name": "stdout",
     "output_type": "stream",
     "text": [
      "accuracy\n",
      "\tvalidation       \t (min:    0.961, max:    0.996, cur:    0.987)\n",
      "\ttraining         \t (min:    0.716, max:    0.997, cur:    0.996)\n",
      "Loss\n",
      "\tvalidation       \t (min:    0.000, max:    0.610, cur:    0.000)\n",
      "\ttraining         \t (min:    0.016, max:    0.966, cur:    0.021)\n"
     ]
    }
   ],
   "source": [
    "n_steps = traingen.samples // BATCH_SIZE\n",
    "n_val_steps = validgen.samples // BATCH_SIZE\n",
    "\n",
    "# ModelCheckpoint callback - save best weights\n",
    "tl_checkpoint_1 = ModelCheckpoint(filepath=f'./model/model{n_model}.hdf5',\n",
    "                                save_best_only=True,\n",
    "                                verbose=1)\n",
    "\n",
    "\n",
    "# Ajuste del Modelo con fine-tuning\n",
    "print(f'train model {n_model}')\n",
    "model = create_model(input_shape, n_classes, optim, fine_tune, n_model)\n",
    "model = model.fit(traingen,\n",
    "                  epochs=n_epochs,\n",
    "                  validation_data=validgen,\n",
    "                  steps_per_epoch=n_steps, \n",
    "                  validation_steps=n_val_steps,\n",
    "                  # callbacks=[tl_checkpoint_1, early_stop, PlotLossesCallback()],\n",
    "                  callbacks=[tl_checkpoint_1, PlotLossesCallback()],\n",
    "                  verbose=1)"
   ]
  },
  {
   "cell_type": "markdown",
   "metadata": {
    "id": "zWhn7e5rSL3e"
   },
   "source": [
    "### Comprobación del Accuracy del Modelo"
   ]
  },
  {
   "cell_type": "code",
   "execution_count": 16,
   "metadata": {
    "id": "4yTJa8NrSL3e"
   },
   "outputs": [
    {
     "name": "stdout",
     "output_type": "stream",
     "text": [
      "**train model 3\n",
      "Executing op RandomUniform in device /job:localhost/replica:0/task:0/device:GPU:0\n",
      "Executing op RandomUniform in device /job:localhost/replica:0/task:0/device:GPU:0\n",
      "Executing op RandomUniform in device /job:localhost/replica:0/task:0/device:GPU:0\n",
      "Executing op RandomUniform in device /job:localhost/replica:0/task:0/device:GPU:0\n",
      "Executing op RandomUniform in device /job:localhost/replica:0/task:0/device:GPU:0\n",
      "Executing op RandomUniform in device /job:localhost/replica:0/task:0/device:GPU:0\n",
      "Executing op RandomUniform in device /job:localhost/replica:0/task:0/device:GPU:0\n",
      "Executing op RandomUniform in device /job:localhost/replica:0/task:0/device:GPU:0\n",
      "Executing op RandomUniform in device /job:localhost/replica:0/task:0/device:GPU:0\n",
      "Executing op RandomUniform in device /job:localhost/replica:0/task:0/device:GPU:0\n",
      "Executing op RandomUniform in device /job:localhost/replica:0/task:0/device:GPU:0\n",
      "Executing op RandomUniform in device /job:localhost/replica:0/task:0/device:GPU:0\n",
      "Executing op RandomUniform in device /job:localhost/replica:0/task:0/device:GPU:0\n",
      "Executing op RandomUniform in device /job:localhost/replica:0/task:0/device:GPU:0\n",
      "Executing op RandomUniform in device /job:localhost/replica:0/task:0/device:GPU:0\n",
      "Executing op RandomUniform in device /job:localhost/replica:0/task:0/device:GPU:0\n",
      "Executing op RandomUniform in device /job:localhost/replica:0/task:0/device:GPU:0\n",
      "Executing op RandomUniform in device /job:localhost/replica:0/task:0/device:GPU:0\n",
      "Executing op __inference_keras_scratch_graph_108909 in device /job:localhost/replica:0/task:0/device:GPU:0\n",
      "VGG16 Model 3 Accuracy with Fine-Tuning: 81.04%\n"
     ]
    }
   ],
   "source": [
    "fine_tune = 2\n",
    "true_classes = testgen.classes\n",
    "class_indices = testgen.class_indices\n",
    "class_indices = dict((v,k) for k,v in class_indices.items())\n",
    "\n",
    "model = create_model(input_shape, n_classes, optim, fine_tune, n_model)\n",
    "model.load_weights(f'./model/model{n_model}.hdf5')\n",
    "model_pred = model.predict(testgen)\n",
    "model_pred_classes = np.argmax(model_pred, axis=1)\n",
    "from sklearn.metrics import accuracy_score\n",
    "model_acc_ft = accuracy_score(true_classes, model_pred_classes)\n",
    "print(\"VGG16 Model {} Accuracy with Fine-Tuning: {:.2f}%\".format(n_model, model_acc_ft * 100))"
   ]
  },
  {
   "cell_type": "markdown",
   "metadata": {},
   "source": [
    "### Matriz de confusión del modelo generado"
   ]
  },
  {
   "cell_type": "code",
   "execution_count": 17,
   "metadata": {},
   "outputs": [
    {
     "data": {
      "image/png": "[encoded data removed]",
      "text/plain": [
       "<Figure size 1440x720 with 1 Axes>"
      ]
     },
     "metadata": {
      "needs_background": "light"
     },
     "output_type": "display_data"
    }
   ],
   "source": [
    "import seaborn as sns\n",
    "from sklearn.metrics import confusion_matrix\n",
    "\n",
    "# Get the names of the ten classes\n",
    "class_names = testgen.class_indices.keys()\n",
    "\n",
    "fig, axes = plt.subplots(1, 1, figsize=(20, 10))\n",
    "\n",
    "plot_heatmap(true_classes, model_pred_classes, class_names, axes, title=f\"model{n_model}\")    \n",
    "\n",
    "fig.suptitle(\"Confusion Matrix Model Comparison\", fontsize=24)\n",
    "fig.tight_layout()\n",
    "fig.subplots_adjust(top=1.25)\n",
    "plt.show()"
   ]
  },
  {
   "cell_type": "code",
   "execution_count": 18,
   "metadata": {
    "scrolled": true
   },
   "outputs": [
    {
     "name": "stdout",
     "output_type": "stream",
     "text": [
      "Model: \"model_2\"\n",
      "_________________________________________________________________\n",
      "Layer (type)                 Output Shape              Param #   \n",
      "=================================================================\n",
      "input_2 (InputLayer)         (None, 224, 224, 3)       0         \n",
      "_________________________________________________________________\n",
      "block1_conv1 (Conv2D)        (None, 224, 224, 64)      1792      \n",
      "_________________________________________________________________\n",
      "block1_conv2 (Conv2D)        (None, 224, 224, 64)      36928     \n",
      "_________________________________________________________________\n",
      "block1_pool (MaxPooling2D)   (None, 112, 112, 64)      0         \n",
      "_________________________________________________________________\n",
      "block2_conv1 (Conv2D)        (None, 112, 112, 128)     73856     \n",
      "_________________________________________________________________\n",
      "block2_conv2 (Conv2D)        (None, 112, 112, 128)     147584    \n",
      "_________________________________________________________________\n",
      "block2_pool (MaxPooling2D)   (None, 56, 56, 128)       0         \n",
      "_________________________________________________________________\n",
      "block3_conv1 (Conv2D)        (None, 56, 56, 256)       295168    \n",
      "_________________________________________________________________\n",
      "block3_conv2 (Conv2D)        (None, 56, 56, 256)       590080    \n",
      "_________________________________________________________________\n",
      "block3_conv3 (Conv2D)        (None, 56, 56, 256)       590080    \n",
      "_________________________________________________________________\n",
      "block3_pool (MaxPooling2D)   (None, 28, 28, 256)       0         \n",
      "_________________________________________________________________\n",
      "block4_conv1 (Conv2D)        (None, 28, 28, 512)       1180160   \n",
      "_________________________________________________________________\n",
      "block4_conv2 (Conv2D)        (None, 28, 28, 512)       2359808   \n",
      "_________________________________________________________________\n",
      "block4_conv3 (Conv2D)        (None, 28, 28, 512)       2359808   \n",
      "_________________________________________________________________\n",
      "block4_pool (MaxPooling2D)   (None, 14, 14, 512)       0         \n",
      "_________________________________________________________________\n",
      "block5_conv1 (Conv2D)        (None, 14, 14, 512)       2359808   \n",
      "_________________________________________________________________\n",
      "block5_conv2 (Conv2D)        (None, 14, 14, 512)       2359808   \n",
      "_________________________________________________________________\n",
      "block5_conv3 (Conv2D)        (None, 14, 14, 512)       2359808   \n",
      "_________________________________________________________________\n",
      "block5_pool (MaxPooling2D)   (None, 7, 7, 512)         0         \n",
      "_________________________________________________________________\n",
      "flatten (Flatten)            (None, 25088)             0         \n",
      "_________________________________________________________________\n",
      "dense_6 (Dense)              (None, 4096)              102764544 \n",
      "_________________________________________________________________\n",
      "dense_7 (Dense)              (None, 1024)              4195328   \n",
      "_________________________________________________________________\n",
      "dense_8 (Dense)              (None, 256)               262400    \n",
      "_________________________________________________________________\n",
      "dense_9 (Dense)              (None, 64)                16448     \n",
      "_________________________________________________________________\n",
      "dropout_2 (Dropout)          (None, 64)                0         \n",
      "_________________________________________________________________\n",
      "dense_10 (Dense)             (None, 10)                650       \n",
      "=================================================================\n",
      "Total params: 121,954,058\n",
      "Trainable params: 109,599,178\n",
      "Non-trainable params: 12,354,880\n",
      "_________________________________________________________________\n"
     ]
    }
   ],
   "source": [
    "model.summary()"
   ]
  }
 ],
 "metadata": {
  "accelerator": "GPU",
  "colab": {
   "collapsed_sections": [],
   "name": "FocusOnDriving_definitivo.ipynb",
   "provenance": []
  },
  "kernelspec": {
   "display_name": "conda_tensorflow2_p36",
   "language": "python",
   "name": "conda_tensorflow2_p36"
  },
  "language_info": {
   "codemirror_mode": {
    "name": "ipython",
    "version": 3
   },
   "file_extension": ".py",
   "mimetype": "text/x-python",
   "name": "python",
   "nbconvert_exporter": "python",
   "pygments_lexer": "ipython3",
   "version": "3.6.13"
  }
 },
 "nbformat": 4,
 "nbformat_minor": 1
}
