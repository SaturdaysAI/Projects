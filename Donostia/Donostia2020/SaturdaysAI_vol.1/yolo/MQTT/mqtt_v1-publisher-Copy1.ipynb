{
 "cells": [
  {
   "cell_type": "code",
   "execution_count": 4,
   "metadata": {},
   "outputs": [],
   "source": [
    "import ssl\n",
    "import sys\n",
    "import paho.mqtt.client as mqtt \n",
    "import time\n",
    "import json"
   ]
  },
  {
   "cell_type": "code",
   "execution_count": 5,
   "metadata": {},
   "outputs": [],
   "source": [
    "IP = '127.0.0.1'\n",
    "PORT = 1883\n",
    "ID = 'WATCHDOG'"
   ]
  },
  {
   "cell_type": "code",
   "execution_count": 6,
   "metadata": {},
   "outputs": [
    {
     "ename": "KeyboardInterrupt",
     "evalue": "",
     "output_type": "error",
     "traceback": [
      "\u001b[0;31m---------------------------------------------------------------------------\u001b[0m",
      "\u001b[0;31mKeyboardInterrupt\u001b[0m                         Traceback (most recent call last)",
      "\u001b[0;32m<ipython-input-6-113e9fba798d>\u001b[0m in \u001b[0;36m<module>\u001b[0;34m\u001b[0m\n\u001b[1;32m     42\u001b[0m     \u001b[0mclient\u001b[0m\u001b[0;34m.\u001b[0m\u001b[0mconnect\u001b[0m\u001b[0;34m(\u001b[0m\u001b[0mhost\u001b[0m\u001b[0;34m=\u001b[0m\u001b[0mIP\u001b[0m\u001b[0;34m,\u001b[0m \u001b[0mport\u001b[0m\u001b[0;34m=\u001b[0m\u001b[0mPORT\u001b[0m\u001b[0;34m)\u001b[0m\u001b[0;34m\u001b[0m\u001b[0;34m\u001b[0m\u001b[0m\n\u001b[1;32m     43\u001b[0m     \u001b[0mclient\u001b[0m\u001b[0;34m.\u001b[0m\u001b[0mpublish\u001b[0m\u001b[0;34m(\u001b[0m\u001b[0;34m'DATA'\u001b[0m\u001b[0;34m,\u001b[0m\u001b[0mresult\u001b[0m\u001b[0;34m)\u001b[0m\u001b[0;34m\u001b[0m\u001b[0;34m\u001b[0m\u001b[0m\n\u001b[0;32m---> 44\u001b[0;31m     \u001b[0mtime\u001b[0m\u001b[0;34m.\u001b[0m\u001b[0msleep\u001b[0m\u001b[0;34m(\u001b[0m\u001b[0;36m5\u001b[0m\u001b[0;34m)\u001b[0m\u001b[0;34m\u001b[0m\u001b[0;34m\u001b[0m\u001b[0m\n\u001b[0m\u001b[1;32m     45\u001b[0m \u001b[0;34m\u001b[0m\u001b[0m\n",
      "\u001b[0;31mKeyboardInterrupt\u001b[0m: "
     ]
    }
   ],
   "source": [
    "import ssl\n",
    "import sys\n",
    " \n",
    "import paho.mqtt.client\n",
    " \n",
    "def on_connect(client, userdata, flags, rc):\n",
    "    print(f'connected ID: {client._client_id}')\n",
    "    client.subscribe(topic='dev/img', qos=2)\n",
    "\n",
    "def on_message(client, userdata, message):\n",
    "    print('------------------------------')\n",
    "    print('topic: %s' % message.topic)\n",
    "    print('payload: %s' % message.payload)\n",
    "    print('qos: %d' % message.qos)\n",
    "\n",
    "def on_publish(mosq, userdata, mid):\n",
    "    # Disconnect after our message has been sent.\n",
    "    client.disconnect()\n",
    "    \n",
    "def on_disconnect(client, userdata, rc):\n",
    "    print(\"Client disconnected ok\")\n",
    "\n",
    "\n",
    "# client = mqtt.Client(client_id= ID, clean_session=False)\n",
    "# client.on_connect = on_connect\n",
    "# client.on_message = on_message\n",
    "# client.on_publish = on_publish\n",
    "# client.connect(host=IP, port=PORT)\n",
    "# client.on_disconnect = on_disconnect\n",
    "# \n",
    "\n",
    "client = mqtt.Client(client_id= ID, clean_session=False)\n",
    "client.on_connect = on_connect\n",
    "client.on_message = on_message\n",
    "client.on_publish = on_publish\n",
    "#client.on_disconnect = on_disconnect\n",
    "data = {'index': 1,'img_id': 1, 'time': 4, 'Cx': 3.4,'Cy': 8.8,'Cz': 6.6}\n",
    "\n",
    "result = json.dumps(data) \n",
    "\n",
    "while True:\n",
    "    client.connect(host=IP, port=PORT)\n",
    "    client.publish('DATA',result) \n",
    "    time.sleep(5)\n",
    "\n"
   ]
  },
  {
   "cell_type": "code",
   "execution_count": null,
   "metadata": {},
   "outputs": [],
   "source": []
  }
 ],
 "metadata": {
  "kernelspec": {
   "display_name": "Python 3",
   "language": "python",
   "name": "python3"
  },
  "language_info": {
   "codemirror_mode": {
    "name": "ipython",
    "version": 3
   },
   "file_extension": ".py",
   "mimetype": "text/x-python",
   "name": "python",
   "nbconvert_exporter": "python",
   "pygments_lexer": "ipython3",
   "version": "3.6.12"
  }
 },
 "nbformat": 4,
 "nbformat_minor": 4
}
