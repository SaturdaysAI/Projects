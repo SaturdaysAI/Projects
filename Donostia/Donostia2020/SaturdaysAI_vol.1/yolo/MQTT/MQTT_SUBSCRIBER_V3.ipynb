{
 "cells": [
  {
   "cell_type": "markdown",
   "metadata": {},
   "source": [
    "# MODULES"
   ]
  },
  {
   "cell_type": "code",
   "execution_count": 1,
   "metadata": {},
   "outputs": [],
   "source": [
    "import ssl\n",
    "import sys\n",
    "import paho.mqtt.client as mqtt \n",
    "import time\n",
    "import csv\n",
    "import os\n",
    "import json\n",
    "from datetime import datetime\n",
    "import datetime as dtbug"
   ]
  },
  {
   "cell_type": "markdown",
   "metadata": {},
   "source": [
    "### VARIOUS"
   ]
  },
  {
   "cell_type": "code",
   "execution_count": 2,
   "metadata": {},
   "outputs": [
    {
     "name": "stdout",
     "output_type": "stream",
     "text": [
      "Path exists\n"
     ]
    }
   ],
   "source": [
    "today = dtbug.date.today()\n",
    "file_id = str(today) +'-VIOLATIONS.csv'\n",
    "folder = './violations'\n",
    "fields = ['index','img_id', 'time','temp','Cx','Cy','Cz']  \n",
    "\n",
    "ANALYSIS = {'FILENAME': file_id, 'FOLDER' : folder, \n",
    "            'HEADERS': fields}\n",
    "\n",
    "# work with several extensions\n",
    "csv_file = os.path.join(ANALYSIS['FOLDER'], ANALYSIS['FILENAME'])\n",
    "ANALYSIS['CSV'] = csv_file\n",
    "\n",
    "###########################\n",
    "if not os.path.exists(ANALYSIS['FOLDER']):\n",
    "    os.makedirs(ANALYSIS['FOLDER'])\n",
    "else:\n",
    "    print('Path exists')\n",
    "###########################"
   ]
  },
  {
   "cell_type": "markdown",
   "metadata": {},
   "source": [
    "### DATA ANALYSIS"
   ]
  },
  {
   "cell_type": "code",
   "execution_count": 3,
   "metadata": {},
   "outputs": [],
   "source": [
    "# writing to csv file  \n",
    "with open(ANALYSIS['CSV'], 'w') as csvfile:  \n",
    "    # creating a csv writer object  \n",
    "    csvwriter = csv.writer(csvfile)  \n",
    "        \n",
    "    # writing the fields  \n",
    "    csvwriter.writerow(ANALYSIS['HEADERS'])  "
   ]
  },
  {
   "cell_type": "code",
   "execution_count": 4,
   "metadata": {},
   "outputs": [],
   "source": [
    "def append_dict_as_row(file_name, data, field_names):\n",
    "    # Open file in append mode\n",
    "    with open(file_name, 'a+', newline='') as write_obj:\n",
    "        # Create a writer object from csv module\n",
    "        dict_writer = csv.DictWriter(write_obj, \n",
    "                                     fieldnames=field_names,\n",
    "                                    extrasaction='ignore',\n",
    "                                    restval = 0)\n",
    "        # Add dictionary as word in the csv\n",
    "        dict_writer.writerow(data)"
   ]
  },
  {
   "cell_type": "markdown",
   "metadata": {},
   "source": [
    "### PARAMETERS"
   ]
  },
  {
   "cell_type": "code",
   "execution_count": 5,
   "metadata": {},
   "outputs": [],
   "source": [
    "BROKER_ADDRESS = '127.0.0.1'\n",
    "PORT = 1883\n",
    "ID = 'WATCHlisten'\n",
    "TOPIC_SUBSCRIBE = ['IMG', 'DATA']\n"
   ]
  },
  {
   "cell_type": "code",
   "execution_count": null,
   "metadata": {},
   "outputs": [],
   "source": [
    "topics_vector = [(TOPIC_SUBSCRIBE[0], 0), (TOPIC_SUBSCRIBE[1], 0)]\n",
    "\n",
    "def on_connect(client, userdata, flags, rc):\n",
    "    print(f'connected ID: {client._client_id}')\n",
    "    client.subscribe(topic=topics_vector, qos=2)\n",
    "#     FLAG = True if !FLAG else FLAG = False\n",
    "    \n",
    "def on_message(client, userdata, message):\n",
    "    global ANALYSIS, data\n",
    "    \n",
    "    if(message.topic == 'DATA'):\n",
    "        bytedata=str(message.payload.decode(\"utf-8\",\"ignore\"))\n",
    "        data=json.loads(bytedata)\n",
    "        data['TIME'] = datetime.now().strftime('%H:%M:%S')\n",
    "        data['DATE'] = datetime.now().strftime('%Y-%m-%d')\n",
    "        print(data)\n",
    "        append_dict_as_row(ANALYSIS['CSV'], data, ANALYSIS['HEADERS'])\n",
    "    if(message.topic == 'IMG'):\n",
    "        #Create a file with write byte permission\n",
    "        f = open('./violations/' + data['DATE']+'x'+ str(data['img_id']) + '.jpg', \"wb\") #str(img_id)\n",
    "        f.write(message.payload)\n",
    "        f.close()\n",
    "        print(\"Img Rcv\")\n",
    "\n",
    "def on_publish(client, userdata, mid):\n",
    "    client.disconnect()\n",
    "\n",
    "    \n",
    "FLAG = False   \n",
    "# configuration:\n",
    "client = mqtt.Client(client_id= ID, clean_session=False)\n",
    "client.on_connect = on_connect\n",
    "client.on_message = on_message\n",
    "client.connect(BROKER_ADDRESS, PORT, keepalive=60)\n",
    "\n"
   ]
  },
  {
   "cell_type": "markdown",
   "metadata": {},
   "source": [
    "# MAIN"
   ]
  },
  {
   "cell_type": "code",
   "execution_count": null,
   "metadata": {},
   "outputs": [],
   "source": [
    "while True:\n",
    "    client.loop_forever()"
   ]
  }
 ],
 "metadata": {
  "kernelspec": {
   "display_name": "Python 3",
   "language": "python",
   "name": "python3"
  },
  "language_info": {
   "codemirror_mode": {
    "name": "ipython",
    "version": 3
   },
   "file_extension": ".py",
   "mimetype": "text/x-python",
   "name": "python",
   "nbconvert_exporter": "python",
   "pygments_lexer": "ipython3",
   "version": "3.6.12"
  }
 },
 "nbformat": 4,
 "nbformat_minor": 4
}
