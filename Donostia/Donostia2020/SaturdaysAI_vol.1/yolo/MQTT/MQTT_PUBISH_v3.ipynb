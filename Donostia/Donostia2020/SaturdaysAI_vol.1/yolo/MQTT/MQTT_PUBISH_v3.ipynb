{
 "cells": [
  {
   "cell_type": "code",
   "execution_count": 1,
   "metadata": {},
   "outputs": [],
   "source": [
    "import paho.mqtt.publish as publish\n",
    "import paho.mqtt.client as mqtt\n",
    "\n",
    "import ssl\n",
    "import sys\n",
    "import json\n",
    "import time\n",
    "import pickle"
   ]
  },
  {
   "cell_type": "code",
   "execution_count": 2,
   "metadata": {},
   "outputs": [],
   "source": [
    "BROKER_ADDRESS = '127.0.0.1'\n",
    "PORT = 1883\n",
    "ID = 'WATCHDOG'\n",
    "TOPIC= ['DATA','IMG']\n",
    "#In case TCP is not enought\n",
    "# https://pypi.org/project/paho-mqtt/#subscribe-unsubscribe"
   ]
  },
  {
   "cell_type": "code",
   "execution_count": 3,
   "metadata": {},
   "outputs": [],
   "source": [
    "def on_connect(client, userdata, flags, rc):\n",
    "    print(f'connected ID: {client._client_id}')\n",
    "    client.subscribe(topic=TOPIC_SUSCRIBE)\n"
   ]
  },
  {
   "cell_type": "code",
   "execution_count": 13,
   "metadata": {},
   "outputs": [],
   "source": [
    "    \n",
    "#DATA\n",
    "data = {'index': 1,'img_id': 2, 'time': 3, 'Cx': 4.1,'Cy': 5,'Cz': 5.001, 'temp': 699}\n",
    "bytedata = json.dumps(data) \n",
    "#IMAGE\n",
    "f=open(\"dog.jpg\", \"rb\") #3.7kiB in same folder\n",
    "fileContent = f.read()\n",
    "byteImg = bytearray(fileContent)\n",
    "\n",
    "publish.single(topic = TOPIC[0], payload = bytedata,client_id = ID, hostname=BROKER_ADDRESS, port=PORT)\n",
    "publish.single(topic = TOPIC[1], payload = byteImg,client_id = ID, hostname=BROKER_ADDRESS, port=PORT)\n",
    "\n"
   ]
  }
 ],
 "metadata": {
  "kernelspec": {
   "display_name": "Python 3",
   "language": "python",
   "name": "python3"
  },
  "language_info": {
   "codemirror_mode": {
    "name": "ipython",
    "version": 3
   },
   "file_extension": ".py",
   "mimetype": "text/x-python",
   "name": "python",
   "nbconvert_exporter": "python",
   "pygments_lexer": "ipython3",
   "version": "3.6.12"
  }
 },
 "nbformat": 4,
 "nbformat_minor": 4
}
