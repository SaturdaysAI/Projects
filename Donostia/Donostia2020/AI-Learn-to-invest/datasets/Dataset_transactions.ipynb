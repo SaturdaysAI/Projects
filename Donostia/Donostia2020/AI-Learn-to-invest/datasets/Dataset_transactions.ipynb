{
 "cells": [
  {
   "cell_type": "markdown",
   "metadata": {
    "id": "83Xb7oH8HWwz"
   },
   "source": [
    "# 0.   Packages and Functions"
   ]
  },
  {
   "cell_type": "code",
   "execution_count": 1,
   "metadata": {
    "scrolled": true
   },
   "outputs": [],
   "source": [
    "# !pip install jupyter_nbextensions_configurator"
   ]
  },
  {
   "cell_type": "code",
   "execution_count": 2,
   "metadata": {},
   "outputs": [],
   "source": [
    "# !jupyter nbextensions_configurator enable --user"
   ]
  },
  {
   "cell_type": "code",
   "execution_count": 3,
   "metadata": {},
   "outputs": [
    {
     "name": "stderr",
     "output_type": "stream",
     "text": [
      "Enabling notebook extension nbextensions_configurator/config_menu/main...\n",
      "      - Validating: problems found:\n",
      "        - require?  X nbextensions_configurator/config_menu/main\n"
     ]
    }
   ],
   "source": [
    " !jupyter nbextension enable nbextensions_configurator/config_menu/main"
   ]
  },
  {
   "cell_type": "code",
   "execution_count": 4,
   "metadata": {
    "colab": {
     "base_uri": "https://localhost:8080/"
    },
    "executionInfo": {
     "elapsed": 2951,
     "status": "ok",
     "timestamp": 1609188894652,
     "user": {
      "displayName": "Daniel Dabdub",
      "photoUrl": "https://lh6.googleusercontent.com/-qKoV5H3Fw5M/AAAAAAAAAAI/AAAAAAAAZro/jARb9IjBWek/s64/photo.jpg",
      "userId": "06642504652143825936"
     },
     "user_tz": 360
    },
    "id": "0vFVdOUuHWw9",
    "outputId": "1bbddc3b-1bde-4bbe-f587-111640ff716b"
   },
   "outputs": [
    {
     "name": "stdout",
     "output_type": "stream",
     "text": [
      "Requirement already satisfied: pandas_datareader in c:\\users\\danieldabdub\\anaconda3\\lib\\site-packages (0.9.0)\n",
      "Requirement already satisfied: lxml in c:\\users\\danieldabdub\\anaconda3\\lib\\site-packages (from pandas_datareader) (4.5.2)\n",
      "Requirement already satisfied: requests>=2.19.0 in c:\\users\\danieldabdub\\anaconda3\\lib\\site-packages (from pandas_datareader) (2.24.0)\n",
      "Requirement already satisfied: pandas>=0.23 in c:\\users\\danieldabdub\\anaconda3\\lib\\site-packages (from pandas_datareader) (1.0.5)\n",
      "Requirement already satisfied: idna<3,>=2.5 in c:\\users\\danieldabdub\\anaconda3\\lib\\site-packages (from requests>=2.19.0->pandas_datareader) (2.10)\n",
      "Requirement already satisfied: chardet<4,>=3.0.2 in c:\\users\\danieldabdub\\anaconda3\\lib\\site-packages (from requests>=2.19.0->pandas_datareader) (3.0.4)\n",
      "Requirement already satisfied: urllib3!=1.25.0,!=1.25.1,<1.26,>=1.21.1 in c:\\users\\danieldabdub\\anaconda3\\lib\\site-packages (from requests>=2.19.0->pandas_datareader) (1.25.9)\n",
      "Requirement already satisfied: certifi>=2017.4.17 in c:\\users\\danieldabdub\\anaconda3\\lib\\site-packages (from requests>=2.19.0->pandas_datareader) (2020.6.20)\n",
      "Requirement already satisfied: pytz>=2017.2 in c:\\users\\danieldabdub\\anaconda3\\lib\\site-packages (from pandas>=0.23->pandas_datareader) (2020.1)\n",
      "Requirement already satisfied: python-dateutil>=2.6.1 in c:\\users\\danieldabdub\\anaconda3\\lib\\site-packages (from pandas>=0.23->pandas_datareader) (2.8.1)\n",
      "Requirement already satisfied: numpy>=1.13.3 in c:\\users\\danieldabdub\\anaconda3\\lib\\site-packages (from pandas>=0.23->pandas_datareader) (1.18.5)\n",
      "Requirement already satisfied: six>=1.5 in c:\\users\\danieldabdub\\anaconda3\\lib\\site-packages (from python-dateutil>=2.6.1->pandas>=0.23->pandas_datareader) (1.15.0)\n"
     ]
    }
   ],
   "source": [
    "!pip install pandas_datareader"
   ]
  },
  {
   "cell_type": "code",
   "execution_count": 1,
   "metadata": {
    "executionInfo": {
     "elapsed": 2941,
     "status": "ok",
     "timestamp": 1609188894655,
     "user": {
      "displayName": "Daniel Dabdub",
      "photoUrl": "https://lh6.googleusercontent.com/-qKoV5H3Fw5M/AAAAAAAAAAI/AAAAAAAAZro/jARb9IjBWek/s64/photo.jpg",
      "userId": "06642504652143825936"
     },
     "user_tz": 360
    },
    "id": "XBk9WVJUHWw_"
   },
   "outputs": [],
   "source": [
    "\n",
    "#general\n",
    "import pandas as pd\n",
    "import numpy as np\n",
    "import pickle \n",
    "from decimal import Decimal\n",
    "import re\n",
    "\n",
    "\n",
    "#for dates and times\n",
    "import random\n",
    "import time\n",
    "import datetime\n",
    "from pandas.tseries.holiday import USFederalHolidayCalendar\n",
    "\n",
    "#prices\n",
    "import pandas_datareader as web\n"
   ]
  },
  {
   "cell_type": "code",
   "execution_count": 2,
   "metadata": {
    "executionInfo": {
     "elapsed": 2935,
     "status": "ok",
     "timestamp": 1609188894656,
     "user": {
      "displayName": "Daniel Dabdub",
      "photoUrl": "https://lh6.googleusercontent.com/-qKoV5H3Fw5M/AAAAAAAAAAI/AAAAAAAAZro/jARb9IjBWek/s64/photo.jpg",
      "userId": "06642504652143825936"
     },
     "user_tz": 360
    },
    "id": "Q_FfFBRPHWxA"
   },
   "outputs": [],
   "source": [
    "\n",
    "\n",
    "def str_time_prop(start, end, format, prop):\n",
    "    \"\"\"Get a time at a proportion of a range of two formatted times.\n",
    "\n",
    "    start and end should be strings specifying times formated in the\n",
    "    given format (strftime-style), giving an interval [start, end].\n",
    "    prop specifies how a proportion of the interval to be taken after\n",
    "    start.  The returned time will be in the specified format.\n",
    "    \"\"\"\n",
    "\n",
    "    stime = time.mktime(time.strptime(start, format))\n",
    "    etime = time.mktime(time.strptime(end, format))\n",
    "\n",
    "    ptime = stime + prop * (etime - stime)\n",
    "\n",
    "    return time.strftime(format, time.localtime(ptime))\n",
    "\n",
    "\n",
    "def random_date(start, end, prop):\n",
    "    return str_time_prop(start, end, '%Y-%m-%d', prop)"
   ]
  },
  {
   "cell_type": "code",
   "execution_count": 3,
   "metadata": {
    "code_folding": [],
    "executionInfo": {
     "elapsed": 2931,
     "status": "ok",
     "timestamp": 1609188894656,
     "user": {
      "displayName": "Daniel Dabdub",
      "photoUrl": "https://lh6.googleusercontent.com/-qKoV5H3Fw5M/AAAAAAAAAAI/AAAAAAAAZro/jARb9IjBWek/s64/photo.jpg",
      "userId": "06642504652143825936"
     },
     "user_tz": 360
    },
    "id": "LWzVUjCMuqtA"
   },
   "outputs": [],
   "source": [
    "def weekend2weekday (transactions, col_date, col_day):\n",
    "\n",
    "\n",
    "  dates2_BUY=list()\n",
    "  days2_BUY=list()\n",
    "\n",
    "  for index,row in transactions.iterrows():\n",
    "    buy_date = datetime.datetime.strptime(row[col_date], \"%Y-%m-%d\")\n",
    "    if row[col_day]=='Sat':\n",
    "      buy_date2 = buy_date - datetime.timedelta(1)\n",
    "      dates2_BUY.append(buy_date2)\n",
    "\n",
    "      buy_day2='Fri'\n",
    "      days2_BUY.append(buy_day2)\n",
    "    elif row[col_day]=='Sun':\n",
    "      buy_date = datetime.datetime.strptime(row[col_day], \"%Y-%m-%d\")\n",
    "      buy_date2 = buy_date + datetime.timedelta(1)\n",
    "      dates2_BUY.append(buy_date2)\n",
    "\n",
    "      buy_day2='Mon'\n",
    "      days2_BUY.append(buy_day2)\n",
    "    else:\n",
    "      buy_date2=row[col_date]\n",
    "      dates2_BUY.append(buy_date2)\n",
    "      buy_day2=row[col_day]\n",
    "      days2_BUY.append(buy_day2)\n",
    "\n",
    "    transactions['date_BUY_fix']=dates2_BUY\n",
    "    transactions['day_BUY_fix']=days2_BUY\n",
    "\n",
    "\n",
    "  return transactions"
   ]
  },
  {
   "cell_type": "markdown",
   "metadata": {
    "id": "Pvb9migKHWxB"
   },
   "source": [
    "# 1. Setting investment parameters"
   ]
  },
  {
   "cell_type": "markdown",
   "metadata": {
    "id": "eUVjdqFBHWxC"
   },
   "source": [
    "## Temporal horizons\n",
    " In number of days\n",
    " - 1 day to 2 years"
   ]
  },
  {
   "cell_type": "code",
   "execution_count": 4,
   "metadata": {
    "executionInfo": {
     "elapsed": 2926,
     "status": "ok",
     "timestamp": 1609188894657,
     "user": {
      "displayName": "Daniel Dabdub",
      "photoUrl": "https://lh6.googleusercontent.com/-qKoV5H3Fw5M/AAAAAAAAAAI/AAAAAAAAZro/jARb9IjBWek/s64/photo.jpg",
      "userId": "06642504652143825936"
     },
     "user_tz": 360
    },
    "id": "tq4RiMLqHWxF"
   },
   "outputs": [],
   "source": [
    "horizons=[7,15,30,60,90,120,150,180,210,240,270,300,330,360,420,480,540,600,660,720]\n"
   ]
  },
  {
   "cell_type": "markdown",
   "metadata": {
    "id": "u14ARLWFHWxG"
   },
   "source": [
    "## Amounts in dollars\n",
    " - 50 to 50,000 dollars"
   ]
  },
  {
   "cell_type": "code",
   "execution_count": 5,
   "metadata": {
    "executionInfo": {
     "elapsed": 2920,
     "status": "ok",
     "timestamp": 1609188894657,
     "user": {
      "displayName": "Daniel Dabdub",
      "photoUrl": "https://lh6.googleusercontent.com/-qKoV5H3Fw5M/AAAAAAAAAAI/AAAAAAAAZro/jARb9IjBWek/s64/photo.jpg",
      "userId": "06642504652143825936"
     },
     "user_tz": 360
    },
    "id": "JO64rZAfHWxI"
   },
   "outputs": [],
   "source": [
    "amounts=[50,100,200,300,400,500,1000,1500,2000,3000,4000,5000,10000,15000,20000,25000,50000]"
   ]
  },
  {
   "cell_type": "markdown",
   "metadata": {
    "id": "PRO9Gv5XHWxJ"
   },
   "source": [
    "# 2. Data extraction"
   ]
  },
  {
   "cell_type": "markdown",
   "metadata": {
    "id": "OizEc3VRHWxK"
   },
   "source": [
    "## Companies' stock prices"
   ]
  },
  {
   "cell_type": "code",
   "execution_count": 6,
   "metadata": {
    "executionInfo": {
     "elapsed": 2915,
     "status": "ok",
     "timestamp": 1609188894658,
     "user": {
      "displayName": "Daniel Dabdub",
      "photoUrl": "https://lh6.googleusercontent.com/-qKoV5H3Fw5M/AAAAAAAAAAI/AAAAAAAAZro/jARb9IjBWek/s64/photo.jpg",
      "userId": "06642504652143825936"
     },
     "user_tz": 360
    },
    "id": "BKv-SEm-HWxN"
   },
   "outputs": [],
   "source": [
    "#Selecting a list of companies we are interested in analyzing:\n",
    "companies = ['AAPL',\n",
    "            'AMZN',\n",
    "            'MSFT',\n",
    "            'GOOG',\n",
    "            'FB',\n",
    "            'NVDA',\n",
    "             #automobiles\n",
    "            'F',\n",
    "            'GM',\n",
    "            'HMC',\n",
    "            'TSLA',\n",
    "            'TYO',\n",
    "             'HOG',\n",
    "             #retail\n",
    "             'WMT',\n",
    "             'M',\n",
    "             'TGT',\n",
    "             'KSS',\n",
    "             'COST',\n",
    "             'BBY',\n",
    "             #FastMovingConsumerGoods(FMCG)\n",
    "             'NESN',\n",
    "             'KO',\n",
    "             'PEP',\n",
    "             'ULVR',\n",
    "             'PG',\n",
    "             'OR',\n",
    "            #bank\n",
    "            'AXP',\n",
    "            'VISA',\n",
    "            'SC',\n",
    "            'DB',\n",
    "            'UBS',\n",
    "            'BAC',\n",
    "            'JPM']"
   ]
  },
  {
   "cell_type": "code",
   "execution_count": 7,
   "metadata": {},
   "outputs": [],
   "source": [
    "tech_c=['AAPL','AMZN','MSFT','GOOG','FB','VISA','NVDA']\n",
    "auto_c=['F','GM','HMC','TSLA','TYO','HOG']\n",
    "retail_c=[ 'WMT', 'M','TGT','KSS','COST','BBY']\n",
    "fmcg_c=['NESN','KO','PEP','ULVR','PG', 'OR']\n",
    "bank_c=['AXP','VISA','SC', 'DB', 'UBS','BAC','JPM']"
   ]
  },
  {
   "cell_type": "code",
   "execution_count": 8,
   "metadata": {},
   "outputs": [],
   "source": [
    "#ESG ratios\n",
    "ESG_ratios=[16.5, 27.4, 14.7, 22.8, 31.6, 12.9, 29.7, 30.6, 28.5, 31.1, 30.3, 16.3, 27.3, 14.5, 14.8, 12.9, 22.3, 12.0, 28.3, 25.1, 17.6, 23.4, 25.1, 20.5, 19.8, 17.4, 26.9, 30.0, 24.8, 26.3, 27.9]"
   ]
  },
  {
   "cell_type": "markdown",
   "metadata": {
    "id": "avte3T6hHWxO"
   },
   "source": [
    "We are going to extract info from 10 years from the companies selected"
   ]
  },
  {
   "cell_type": "code",
   "execution_count": 9,
   "metadata": {
    "colab": {
     "base_uri": "https://localhost:8080/"
    },
    "executionInfo": {
     "elapsed": 7984,
     "status": "ok",
     "timestamp": 1609188899736,
     "user": {
      "displayName": "Daniel Dabdub",
      "photoUrl": "https://lh6.googleusercontent.com/-qKoV5H3Fw5M/AAAAAAAAAAI/AAAAAAAAZro/jARb9IjBWek/s64/photo.jpg",
      "userId": "06642504652143825936"
     },
     "user_tz": 360
    },
    "id": "QjIPhDKXHWxO",
    "outputId": "6976a38b-befa-4db3-b589-6df7a493c043"
   },
   "outputs": [
    {
     "output_type": "stream",
     "name": "stdout",
     "text": [
      "AAPL\n",
      "AMZN\n",
      "MSFT\n",
      "GOOG\n",
      "FB\n",
      "NVDA\n",
      "F\n",
      "GM\n",
      "HMC\n",
      "TSLA\n",
      "TYO\n",
      "HOG\n",
      "WMT\n",
      "M\n",
      "TGT\n",
      "KSS\n",
      "COST\n",
      "BBY\n",
      "There were  errors when extracting data of   NESN\n",
      "KO\n",
      "PEP\n",
      "There were  errors when extracting data of   ULVR\n",
      "PG\n",
      "OR\n",
      "AXP\n",
      "There were  errors when extracting data of   VISA\n",
      "SC\n",
      "DB\n",
      "UBS\n",
      "BAC\n",
      "JPM\n"
     ]
    }
   ],
   "source": [
    "#Collecting the data of each company in a list\n",
    "l_companies_prices=list()\n",
    "error_companies=list()\n",
    "error_indexes=list()\n",
    "\n",
    "for company in companies:\n",
    "    try:\n",
    "        prices= web.DataReader(company, data_source='yahoo', start='2010-10-10', end='2020-10-10')\n",
    "        l_companies_prices.append(prices)\n",
    "        print(company)\n",
    "    \n",
    "    except :\n",
    "        print('There were  errors when extracting data of  ', company)\n",
    "        #elimino de la lista esa empresa que no se consiguieron datos.\n",
    "        error_companies.append(company)\n",
    "        \n",
    "        error_company_index=companies.index(company)\n",
    "        error_indexes.append(error_company_index)\n",
    "\n",
    "\n",
    "for c in error_companies:\n",
    "  companies.remove(c)\n",
    "\n",
    "ESG_ratios_fix=list()\n",
    "\n",
    "for index in range(0, len(ESG_ratios)):\n",
    "    if index not in error_indexes:\n",
    "        ESG_ratios_fix.append(ESG_ratios[index])"
   ]
  },
  {
   "cell_type": "code",
   "execution_count": 10,
   "metadata": {
    "colab": {
     "base_uri": "https://localhost:8080/"
    },
    "executionInfo": {
     "elapsed": 7978,
     "status": "ok",
     "timestamp": 1609188899739,
     "user": {
      "displayName": "Daniel Dabdub",
      "photoUrl": "https://lh6.googleusercontent.com/-qKoV5H3Fw5M/AAAAAAAAAAI/AAAAAAAAZro/jARb9IjBWek/s64/photo.jpg",
      "userId": "06642504652143825936"
     },
     "user_tz": 360
    },
    "id": "xFMTSlZWHWxP",
    "outputId": "269f9899-0726-48c4-d4c7-bfdd9aeed622"
   },
   "outputs": [
    {
     "output_type": "execute_result",
     "data": {
      "text/plain": [
       "['AAPL',\n",
       " 'AMZN',\n",
       " 'MSFT',\n",
       " 'GOOG',\n",
       " 'FB',\n",
       " 'NVDA',\n",
       " 'F',\n",
       " 'GM',\n",
       " 'HMC',\n",
       " 'TSLA',\n",
       " 'TYO',\n",
       " 'HOG',\n",
       " 'WMT',\n",
       " 'M',\n",
       " 'TGT',\n",
       " 'KSS',\n",
       " 'COST',\n",
       " 'BBY',\n",
       " 'KO',\n",
       " 'PEP',\n",
       " 'PG',\n",
       " 'OR',\n",
       " 'AXP',\n",
       " 'SC',\n",
       " 'DB',\n",
       " 'UBS',\n",
       " 'BAC',\n",
       " 'JPM']"
      ]
     },
     "metadata": {},
     "execution_count": 10
    }
   ],
   "source": [
    "companies"
   ]
  },
  {
   "cell_type": "code",
   "execution_count": 11,
   "metadata": {
    "colab": {
     "base_uri": "https://localhost:8080/"
    },
    "executionInfo": {
     "elapsed": 7967,
     "status": "ok",
     "timestamp": 1609188899740,
     "user": {
      "displayName": "Daniel Dabdub",
      "photoUrl": "https://lh6.googleusercontent.com/-qKoV5H3Fw5M/AAAAAAAAAAI/AAAAAAAAZro/jARb9IjBWek/s64/photo.jpg",
      "userId": "06642504652143825936"
     },
     "user_tz": 360
    },
    "id": "iUYZrKXLmbF5",
    "outputId": "ae0e562e-ede0-4b88-9cde-8b44ec3036dc"
   },
   "outputs": [
    {
     "output_type": "execute_result",
     "data": {
      "text/plain": [
       "28"
      ]
     },
     "metadata": {},
     "execution_count": 11
    }
   ],
   "source": [
    "len(ESG_ratios_fix)"
   ]
  },
  {
   "cell_type": "code",
   "execution_count": 12,
   "metadata": {
    "colab": {
     "base_uri": "https://localhost:8080/"
    },
    "executionInfo": {
     "elapsed": 7958,
     "status": "ok",
     "timestamp": 1609188899741,
     "user": {
      "displayName": "Daniel Dabdub",
      "photoUrl": "https://lh6.googleusercontent.com/-qKoV5H3Fw5M/AAAAAAAAAAI/AAAAAAAAZro/jARb9IjBWek/s64/photo.jpg",
      "userId": "06642504652143825936"
     },
     "user_tz": 360
    },
    "id": "sbDmjtWSmpmX",
    "outputId": "1de4229f-0e8d-4b5b-ba9d-a8f0ccd77586"
   },
   "outputs": [
    {
     "output_type": "execute_result",
     "data": {
      "text/plain": [
       "28"
      ]
     },
     "metadata": {},
     "execution_count": 12
    }
   ],
   "source": [
    "len(companies)"
   ]
  },
  {
   "cell_type": "code",
   "execution_count": 13,
   "metadata": {
    "colab": {
     "base_uri": "https://localhost:8080/"
    },
    "executionInfo": {
     "elapsed": 7945,
     "status": "ok",
     "timestamp": 1609188899741,
     "user": {
      "displayName": "Daniel Dabdub",
      "photoUrl": "https://lh6.googleusercontent.com/-qKoV5H3Fw5M/AAAAAAAAAAI/AAAAAAAAZro/jARb9IjBWek/s64/photo.jpg",
      "userId": "06642504652143825936"
     },
     "user_tz": 360
    },
    "id": "53lX5l0UHWxR",
    "outputId": "79d68dc5-603e-4741-a4bb-bd617fe8256f"
   },
   "outputs": [
    {
     "output_type": "stream",
     "name": "stdout",
     "text": [
      "AAPL\n"
     ]
    },
    {
     "output_type": "execute_result",
     "data": {
      "text/plain": [
       "Index(['High', 'Low', 'Open', 'Close', 'Volume', 'Adj Close'], dtype='object')"
      ]
     },
     "metadata": {},
     "execution_count": 13
    }
   ],
   "source": [
    "print(companies[0])\n",
    "l_companies_prices[0].columns"
   ]
  },
  {
   "cell_type": "code",
   "execution_count": 14,
   "metadata": {
    "colab": {
     "base_uri": "https://localhost:8080/"
    },
    "executionInfo": {
     "elapsed": 7935,
     "status": "ok",
     "timestamp": 1609188899742,
     "user": {
      "displayName": "Daniel Dabdub",
      "photoUrl": "https://lh6.googleusercontent.com/-qKoV5H3Fw5M/AAAAAAAAAAI/AAAAAAAAZro/jARb9IjBWek/s64/photo.jpg",
      "userId": "06642504652143825936"
     },
     "user_tz": 360
    },
    "id": "oaXmsayOOdmD",
    "outputId": "819b4b7b-52ba-4d3d-f602-d46b112d751f"
   },
   "outputs": [
    {
     "output_type": "execute_result",
     "data": {
      "text/plain": [
       "10.54857063293457"
      ]
     },
     "metadata": {},
     "execution_count": 14
    }
   ],
   "source": [
    "company_pos=companies.index(\"AAPL\")\n",
    "l_companies_prices[company_pos].loc['2010-10-11','Close']"
   ]
  },
  {
   "cell_type": "markdown",
   "metadata": {
    "id": "QXM6dTYrHWxS"
   },
   "source": [
    "# 3. Random transactions"
   ]
  },
  {
   "cell_type": "code",
   "execution_count": 15,
   "metadata": {
    "executionInfo": {
     "elapsed": 7921,
     "status": "ok",
     "timestamp": 1609188899743,
     "user": {
      "displayName": "Daniel Dabdub",
      "photoUrl": "https://lh6.googleusercontent.com/-qKoV5H3Fw5M/AAAAAAAAAAI/AAAAAAAAZro/jARb9IjBWek/s64/photo.jpg",
      "userId": "06642504652143825936"
     },
     "user_tz": 360
    },
    "id": "FbTbstE2HWxS"
   },
   "outputs": [],
   "source": [
    "transactions=pd.DataFrame()\n",
    "#we do 500.000 initial transactions\n",
    "\n",
    "#id\n",
    "transactions['id']=range(1,200001)"
   ]
  },
  {
   "cell_type": "markdown",
   "metadata": {
    "id": "CGxBin49ynt1"
   },
   "source": [
    "## Companies"
   ]
  },
  {
   "cell_type": "code",
   "execution_count": 16,
   "metadata": {
    "executionInfo": {
     "elapsed": 7916,
     "status": "ok",
     "timestamp": 1609188899743,
     "user": {
      "displayName": "Daniel Dabdub",
      "photoUrl": "https://lh6.googleusercontent.com/-qKoV5H3Fw5M/AAAAAAAAAAI/AAAAAAAAZro/jARb9IjBWek/s64/photo.jpg",
      "userId": "06642504652143825936"
     },
     "user_tz": 360
    },
    "id": "gO_r1eihN4N3"
   },
   "outputs": [],
   "source": [
    "#random company\n",
    "transactions[\"company\"]=np.random.choice(companies, size=len(transactions))"
   ]
  },
  {
   "cell_type": "markdown",
   "metadata": {},
   "source": [
    "## Sector"
   ]
  },
  {
   "cell_type": "code",
   "execution_count": 17,
   "metadata": {},
   "outputs": [],
   "source": [
    "#sector of the company\n",
    "\n",
    "random_companies=transactions['company'].tolist()\n",
    "random_sectors=list()\n",
    "for comp in random_companies:\n",
    "    if comp in tech_c:\n",
    "        sector='TECH'\n",
    "    elif comp in auto_c:\n",
    "        sector='AUTO'\n",
    "    elif comp in retail_c:\n",
    "        sector='RETAIL'\n",
    "    elif comp in fmcg_c:\n",
    "        sector='FMCG'\n",
    "    elif comp in bank_c:\n",
    "        sector='BANK'\n",
    "    \n",
    "    random_sectors.append(sector)\n",
    "\n",
    "transactions['sector']=random_sectors\n"
   ]
  },
  {
   "cell_type": "markdown",
   "metadata": {
    "id": "f6D5TbzNyrCA"
   },
   "source": [
    "## Horizons"
   ]
  },
  {
   "cell_type": "code",
   "execution_count": 18,
   "metadata": {
    "executionInfo": {
     "elapsed": 7910,
     "status": "ok",
     "timestamp": 1609188899744,
     "user": {
      "displayName": "Daniel Dabdub",
      "photoUrl": "https://lh6.googleusercontent.com/-qKoV5H3Fw5M/AAAAAAAAAAI/AAAAAAAAZro/jARb9IjBWek/s64/photo.jpg",
      "userId": "06642504652143825936"
     },
     "user_tz": 360
    },
    "id": "3DbTtrTOHWxS"
   },
   "outputs": [],
   "source": [
    "#random horizon\n",
    "transactions[\"horizon (days)\"] = np.random.choice(horizons, size=len(transactions))\n"
   ]
  },
  {
   "cell_type": "markdown",
   "metadata": {
    "id": "7CXrQ57wys5U"
   },
   "source": [
    "## Investment Amounts"
   ]
  },
  {
   "cell_type": "code",
   "execution_count": 19,
   "metadata": {
    "executionInfo": {
     "elapsed": 7905,
     "status": "ok",
     "timestamp": 1609188899744,
     "user": {
      "displayName": "Daniel Dabdub",
      "photoUrl": "https://lh6.googleusercontent.com/-qKoV5H3Fw5M/AAAAAAAAAAI/AAAAAAAAZro/jARb9IjBWek/s64/photo.jpg",
      "userId": "06642504652143825936"
     },
     "user_tz": 360
    },
    "id": "MqIDjNcSHWxT"
   },
   "outputs": [],
   "source": [
    "#random investment amount\n",
    "transactions[\"amount\"] = np.random.choice(amounts, size=len(transactions))\n"
   ]
  },
  {
   "cell_type": "markdown",
   "metadata": {
    "id": "yDG5pNzSywY2"
   },
   "source": [
    "## Dates - BUY"
   ]
  },
  {
   "cell_type": "code",
   "execution_count": 20,
   "metadata": {
    "colab": {
     "base_uri": "https://localhost:8080/"
    },
    "executionInfo": {
     "elapsed": 9142,
     "status": "ok",
     "timestamp": 1609188900988,
     "user": {
      "displayName": "Daniel Dabdub",
      "photoUrl": "https://lh6.googleusercontent.com/-qKoV5H3Fw5M/AAAAAAAAAAI/AAAAAAAAZro/jARb9IjBWek/s64/photo.jpg",
      "userId": "06642504652143825936"
     },
     "user_tz": 360
    },
    "id": "BeY0oDYhHWxU",
    "outputId": "a7ef2eee-0ddd-402a-a699-65a7bc91ae16"
   },
   "outputs": [
    {
     "output_type": "stream",
     "name": "stdout",
     "text": [
      "200000\n"
     ]
    }
   ],
   "source": [
    "#random buy date\n",
    "start='2013-10-10'\n",
    "end='2018-10-10'\n",
    "\n",
    "dates_buy=list()\n",
    "\n",
    "for i in range(0, transactions.shape[0]):\n",
    "    r_date=random_date(start,end,random.random())\n",
    "    dates_buy.append(r_date)\n",
    "\n",
    "\n",
    "print(len(dates_buy))\n",
    "transactions['date_BUY']=dates_buy"
   ]
  },
  {
   "cell_type": "markdown",
   "metadata": {
    "id": "MF9tblAlsNBo"
   },
   "source": [
    "### Fixing dates (BUY)"
   ]
  },
  {
   "cell_type": "code",
   "execution_count": 21,
   "metadata": {
    "executionInfo": {
     "elapsed": 9631,
     "status": "ok",
     "timestamp": 1609188901489,
     "user": {
      "displayName": "Daniel Dabdub",
      "photoUrl": "https://lh6.googleusercontent.com/-qKoV5H3Fw5M/AAAAAAAAAAI/AAAAAAAAZro/jARb9IjBWek/s64/photo.jpg",
      "userId": "06642504652143825936"
     },
     "user_tz": 360
    },
    "id": "MOlu1a8keq2i"
   },
   "outputs": [],
   "source": [
    "day_names=list()\n",
    "\n",
    "for d in dates_buy:\n",
    "\n",
    "  dt = datetime.datetime.strptime(d, '%Y-%m-%d')\n",
    "  weekno=dt.weekday()\n",
    "\n",
    "  if weekno == 0:\n",
    "    dia='Mon'\n",
    "    day_names.append(dia)\n",
    "  elif weekno==1:\n",
    "    dia='Tue'\n",
    "    day_names.append(dia)\n",
    "  elif weekno==2:\n",
    "    dia='Wed'\n",
    "    day_names.append(dia)\n",
    "  elif weekno==3:\n",
    "    dia='Thu'\n",
    "    day_names.append(dia)\n",
    "  elif weekno==4:\n",
    "    dia='Fri'\n",
    "    day_names.append(dia)\n",
    "  elif weekno==5:\n",
    "    dia='Sat'\n",
    "    day_names.append(dia)\n",
    "  elif weekno==6:\n",
    "    dia='Sun'\n",
    "    day_names.append(dia)\n",
    "\n",
    "transactions['day_BUY']=day_names\n"
   ]
  },
  {
   "cell_type": "code",
   "execution_count": 22,
   "metadata": {
    "executionInfo": {
     "elapsed": 14271,
     "status": "ok",
     "timestamp": 1609188906134,
     "user": {
      "displayName": "Daniel Dabdub",
      "photoUrl": "https://lh6.googleusercontent.com/-qKoV5H3Fw5M/AAAAAAAAAAI/AAAAAAAAZro/jARb9IjBWek/s64/photo.jpg",
      "userId": "06642504652143825936"
     },
     "user_tz": 360
    },
    "id": "AHJh4vQagUyg"
   },
   "outputs": [],
   "source": [
    "dates2_BUY=list()\n",
    "days2_BUY=list()\n",
    "\n",
    "#if date is saturday, we are going to push it to friday\n",
    "#if date is sunday, we are going to push it to monday\n",
    "\n",
    "for index,row in transactions.iterrows():\n",
    "  buy_date = datetime.datetime.strptime(row['date_BUY'], \"%Y-%m-%d\")\n",
    "  if row['day_BUY']=='Sat':\n",
    "    buy_date2 = buy_date - datetime.timedelta(1)\n",
    "    dates2_BUY.append(buy_date2)\n",
    "\n",
    "    buy_day2='Fri'\n",
    "    days2_BUY.append(buy_day2)\n",
    "  elif row['day_BUY']=='Sun':\n",
    "    buy_date = datetime.datetime.strptime(row['date_BUY'], \"%Y-%m-%d\")\n",
    "    buy_date2 = buy_date + datetime.timedelta(1)\n",
    "    dates2_BUY.append(buy_date2)\n",
    "\n",
    "    buy_day2='Mon'\n",
    "    days2_BUY.append(buy_day2)\n",
    "  else:\n",
    "    buy_date2=buy_date\n",
    "    dates2_BUY.append(buy_date2)\n",
    "    buy_day2=row['day_BUY']\n",
    "    days2_BUY.append(buy_day2)\n",
    "\n",
    "\n",
    "transactions['date_BUY_fix']=dates2_BUY\n",
    "transactions['day_BUY_fix']=days2_BUY\n"
   ]
  },
  {
   "cell_type": "code",
   "execution_count": 23,
   "metadata": {
    "executionInfo": {
     "elapsed": 14467,
     "status": "ok",
     "timestamp": 1609188906337,
     "user": {
      "displayName": "Daniel Dabdub",
      "photoUrl": "https://lh6.googleusercontent.com/-qKoV5H3Fw5M/AAAAAAAAAAI/AAAAAAAAZro/jARb9IjBWek/s64/photo.jpg",
      "userId": "06642504652143825936"
     },
     "user_tz": 360
    },
    "id": "qHx_n2n2kHjz"
   },
   "outputs": [],
   "source": [
    "#checking for holidays (NYSE is closed)\n",
    "\n",
    "cal = USFederalHolidayCalendar()\n",
    "holidays = cal.holidays(start='2010-10-10', end='2020-10-10').to_pydatetime()\n",
    "# if datetime.datetime(2014,01,01) in holidays:\n",
    "#     print True \n",
    "\n",
    "l_holidays=list()\n",
    "for d in dates2_BUY:\n",
    "  if d in holidays:\n",
    "    holiday='Holiday'\n",
    "    l_holidays.append(holiday)\n",
    "\n",
    "  else:\n",
    "    holiday=''\n",
    "    l_holidays.append(holiday)\n",
    "\n",
    "transactions['holiday_BUY']=l_holidays"
   ]
  },
  {
   "cell_type": "code",
   "execution_count": 24,
   "metadata": {
    "executionInfo": {
     "elapsed": 14463,
     "status": "ok",
     "timestamp": 1609188906338,
     "user": {
      "displayName": "Daniel Dabdub",
      "photoUrl": "https://lh6.googleusercontent.com/-qKoV5H3Fw5M/AAAAAAAAAAI/AAAAAAAAZro/jARb9IjBWek/s64/photo.jpg",
      "userId": "06642504652143825936"
     },
     "user_tz": 360
    },
    "id": "haV7AfcMitbi"
   },
   "outputs": [],
   "source": [
    "transactions_h=transactions[transactions.holiday_BUY=='Holiday']\n",
    "\n",
    "transactions=transactions[transactions.holiday_BUY!='Holiday']"
   ]
  },
  {
   "cell_type": "markdown",
   "metadata": {},
   "source": [
    "## Expected return and volatility"
   ]
  },
  {
   "cell_type": "markdown",
   "metadata": {},
   "source": [
    "### Expected volatilities"
   ]
  },
  {
   "cell_type": "code",
   "execution_count": 25,
   "metadata": {
    "tags": [
     "outputPrepend"
    ]
   },
   "outputs": [
    {
     "output_type": "stream",
     "name": "stdout",
     "text": [
      "2  \n2010-10-14   9213600.0  16.657616  \n2010-10-15   6672800.0  16.754620  \n...                ...        ...  \n2020-10-05  14631000.0   6.060000  \n2020-10-06  22708200.0   5.810000  \n2020-10-07  17965500.0   5.960000  \n2020-10-08  21298800.0   6.290000  \n2020-10-09  19317400.0   6.230000  \n\n[2518 rows x 7 columns],                   High         Low  Volatility        Open       Close  \\\nDate                                                                     \n2010-10-11   55.000000   54.240002         NaN   54.299999   54.849998   \n2010-10-12   54.910000   54.470001         NaN   54.869999   54.740002   \n2010-10-13   55.080002   54.349998         NaN   54.689999   54.419998   \n2010-10-14   54.619999   53.520000         NaN   54.459999   54.070000   \n2010-10-15   54.590000   53.970001         NaN   54.400002   54.330002   \n...                ...         ...         ...         ...         ...   \n2020-10-05  162.309998  159.990005    0.391384  159.990005  161.490005   \n2020-10-06  161.979996  157.610001    0.391750  161.470001  158.410004   \n2020-10-07  161.610001  159.610001    0.391938  160.059998  160.679993   \n2020-10-08  163.320007  161.389999    0.391682  162.600006  161.860001   \n2020-10-09  164.809998  162.100006    0.391806  162.199997  163.710007   \n\n               Volume   Adj Close  \nDate                               \n2010-10-11  4470300.0   41.031727  \n2010-10-12  5787300.0   40.949440  \n2010-10-13  4053900.0   40.710056  \n2010-10-14  5660600.0   40.448231  \n2010-10-15  4208600.0   40.642727  \n...               ...         ...  \n2020-10-05  2268600.0  160.825195  \n2020-10-06  2932600.0  157.757874  \n2020-10-07  2927000.0  160.018524  \n2020-10-08  2189200.0  161.193665  \n2020-10-09  2582700.0  163.036057  \n\n[2518 rows x 7 columns],                  High        Low  Volatility       Open      Close     Volume  \\\nDate                                                                            \n2010-10-11  54.119999  53.320000         NaN  53.860001  53.560001  2392500.0   \n2010-10-12  53.709999  52.959999         NaN  53.599998  53.459999  2589000.0   \n2010-10-13  53.830002  52.939999         NaN  53.730000  53.009998  3001500.0   \n2010-10-14  53.580002  51.869999         NaN  53.029999  52.330002  5694400.0   \n2010-10-15  53.240002  51.970001         NaN  52.810001  53.169998  4613400.0   \n...               ...        ...         ...        ...        ...        ...   \n2020-10-05  20.750000  20.049999    0.924426  20.330000  20.420000  6275500.0   \n2020-10-06  20.750000  19.360001    0.925006  20.750000  19.490000  7438600.0   \n2020-10-07  20.740000  19.830000    0.927001  19.830000  20.639999  6694300.0   \n2020-10-08  21.900000  20.719999    0.928778  20.870001  21.889999  8074000.0   \n2020-10-09  22.240000  21.430000    0.928351  22.000000  21.530001  6681700.0   \n\n            Adj Close  \nDate                   \n2010-10-11  37.662571  \n2010-10-12  37.592255  \n2010-10-13  37.275810  \n2010-10-14  36.797657  \n2010-10-15  37.388332  \n...               ...  \n2020-10-05  20.420000  \n2020-10-06  19.490000  \n2020-10-07  20.639999  \n2020-10-08  21.889999  \n2020-10-09  21.530001  \n\n[2518 rows x 7 columns],                   High         Low  Volatility        Open       Close  \\\nDate                                                                     \n2010-10-11   64.489998   63.279999         NaN   63.389999   64.320000   \n2010-10-12   64.089996   63.310001         NaN   64.029999   63.340000   \n2010-10-13   63.959999   63.000000         NaN   63.200001   63.360001   \n2010-10-14   63.860001   62.910000         NaN   63.119999   63.180000   \n2010-10-15   63.770000   63.209999         NaN   63.459999   63.700001   \n...                ...         ...         ...         ...         ...   \n2020-10-05  358.980011  355.329987    0.277999  355.329987  358.579987   \n2020-10-06  363.000000  357.040009    0.277955  361.899994  358.350006   \n2020-10-07  364.739990  359.660004    0.278155  360.470001  363.019989   \n2020-10-08  365.970001  361.750000    0.277725  364.799988  365.089996   \n2020-10-09  369.750000  365.700012    0.277945  366.000000  369.459991   \n\n               Volume   Adj Close  \nDate                               \n2010-10-11  2584800.0   48.734234  \n2010-10-12  4454400.0   47.991699  \n2010-10-13  5006500.0   48.006851  \n2010-10-14  4214500.0   47.870472  \n2010-10-15  4033400.0   48.264458  \n...               ...         ...  \n2020-10-05  2093500.0  348.756958  \n2020-10-06  2760400.0  348.533295  \n2020-10-07  1959100.0  353.075317  \n2020-10-08  1793100.0  355.088623  \n2020-10-09  1730700.0  359.338928  \n\n[2518 rows x 7 columns],                   High         Low  Volatility        Open       Close  \\\nDate                                                                     \n2010-10-11   41.400002   40.700001         NaN   41.230000   40.860001   \n2010-10-12   40.980000   40.230000         NaN   40.700001   40.730000   \n2010-10-13   41.990002   40.930000         NaN   40.930000   41.029999   \n2010-10-14   41.040001   40.599998         NaN   41.020000   40.980000   \n2010-10-15   42.360001   41.000000         NaN   41.349998   42.150002   \n...                ...         ...         ...         ...         ...   \n2020-10-05  116.739998  112.570000    0.507145  112.570000  116.070000   \n2020-10-06  116.430000  112.250000    0.508266  115.980003  112.449997   \n2020-10-07  115.440002  113.760002    0.507873  114.000000  114.489998   \n2020-10-08  115.650002  113.910004    0.507858  115.129997  114.919998   \n2020-10-09  118.250000  115.110001    0.507829  115.370003  116.589996   \n\n               Volume   Adj Close  \nDate                               \n2010-10-11  3491300.0   30.248907  \n2010-10-12  5350500.0   30.152655  \n2010-10-13  7025400.0   30.374758  \n2010-10-14  5502000.0   30.337744  \n2010-10-15  8742100.0   31.203899  \n...               ...         ...  \n2020-10-05  2006000.0  115.435425  \n2020-10-06  2395400.0  111.835213  \n2020-10-07  1552500.0  113.864059  \n2020-10-08  1523300.0  114.291710  \n2020-10-09  2824100.0  115.952576  \n\n[2518 rows x 7 columns],                  High        Low  Volatility       Open      Close  \\\nDate                                                                 \n2010-10-11  29.809999  29.665001         NaN  29.780001  29.780001   \n2010-10-12  29.900000  29.670000         NaN  29.670000  29.799999   \n2010-10-13  29.985001  29.830000         NaN  29.860001  29.969999   \n2010-10-14  29.990000  29.840000         NaN  29.969999  29.955000   \n2010-10-15  29.990000  29.870001         NaN  29.980000  29.969999   \n...               ...        ...         ...        ...        ...   \n2020-10-05  49.549999  49.119999    0.336592  49.430000  49.380001   \n2020-10-06  49.730000  48.830002    0.336488  49.549999  48.939999   \n2020-10-07  49.759998  48.950001    0.336699  49.020000  49.560001   \n2020-10-08  50.540001  49.540001    0.337161  49.709999  50.459999   \n2020-10-09  51.230000  50.599998    0.337224  50.669998  50.810001   \n\n                Volume  Adj Close  \nDate                               \n2010-10-11  12997000.0  21.677502  \n2010-10-12  16164400.0  21.692070  \n2010-10-13  24011000.0  21.815813  \n2010-10-14  14491600.0  21.804893  \n2010-10-15  19697600.0  21.815813  \n...                ...        ...  \n2020-10-05  10628700.0  48.995831  \n2020-10-06  10077400.0  48.559250  \n2020-10-07  10135600.0  49.174431  \n2020-10-08  12143900.0  50.067425  \n2020-10-09  11407800.0  50.414703  \n\n[2518 rows x 7 columns],                   High         Low  Volatility        Open       Close  \\\nDate                                                                     \n2010-10-11   65.760002   65.300003         NaN   65.739998   65.519997   \n2010-10-12   66.470001   65.000000         NaN   65.290001   66.080002   \n2010-10-13   66.800003   66.199997         NaN   66.309998   66.400002   \n2010-10-14   66.839996   66.449997         NaN   66.449997   66.639999   \n2010-10-15   67.000000   66.459999         NaN   66.889999   66.680000   \n...                ...         ...         ...         ...         ...   \n2020-10-05  138.380005  136.979996    0.363748  138.110001  137.929993   \n2020-10-06  138.820007  135.149994    0.363847  138.000000  135.699997   \n2020-10-07  137.520004  135.759995    0.363888  135.940002  137.009995   \n2020-10-08  138.130005  136.759995    0.363913  137.279999  137.850006   \n2020-10-09  139.259995  137.899994    0.363938  138.699997  138.440002   \n\n               Volume   Adj Close  \nDate                               \n2010-10-11  5283100.0   48.454674  \n2010-10-12  7807800.0   48.868813  \n2010-10-13  5990500.0   49.105465  \n2010-10-14  6162300.0   49.282948  \n2010-10-15  6272100.0   49.312546  \n...               ...         ...  \n2020-10-05  4519800.0  136.954315  \n2020-10-06  5031000.0  134.740097  \n2020-10-07  4347300.0  136.040833  \n2020-10-08  2977400.0  136.874893  \n2020-10-09  3194000.0  137.460724  \n\n[2518 rows x 7 columns],                   High         Low  Volatility        Open       Close  \\\nDate                                                                     \n2010-10-11   62.209999   61.860001         NaN   61.919998   62.139999   \n2010-10-12   62.180000   61.560001         NaN   62.009998   62.020000   \n2010-10-13   62.930000   62.080002         NaN   62.230000   62.630001   \n2010-10-14   62.840000   62.520000         NaN   62.669998   62.799999   \n2010-10-15   63.000000   62.549999         NaN   62.970001   62.759998   \n...                ...         ...         ...         ...         ...   \n2020-10-05  139.649994  138.300003    0.323947  138.720001  139.389999   \n2020-10-06  140.770004  138.809998    0.323797  139.419998  139.610001   \n2020-10-07  141.389999  139.369995    0.323470  140.080002  140.699997   \n2020-10-08  141.929993  140.360001    0.323428  140.559998  141.649994   \n2020-10-09  143.639999  141.699997    0.323533  141.839996  142.919998   \n\n                Volume   Adj Close  \nDate                                \n2010-10-11   7425200.0   45.275635  \n2010-10-12  24975000.0   45.188206  \n2010-10-13   9906000.0   45.632656  \n2010-10-14   8771400.0   45.756523  \n2010-10-15   9943500.0   45.727375  \n...                ...         ...  \n2020-10-05   6333900.0  138.620316  \n2020-10-06   6042900.0  138.839096  \n2020-10-07   4640900.0  139.923080  \n2020-10-08   4569800.0  140.867828  \n2020-10-09   6551700.0  142.130814  \n\n[2518 rows x 7 columns],               High     Low  Volatility    Open   Close     Volume  Adj Close\nDate                                                                        \n2016-07-06  13.650  13.350         NaN  13.350  13.640    75800.0  12.788130\n2016-07-07  13.800  13.270         NaN  13.650  13.296    51500.0  12.465611\n2016-07-08  13.707  12.910         NaN  13.320  13.620    36300.0  12.769378\n2016-07-11  13.650  13.280         NaN  13.650  13.380    55700.0  12.544368\n2016-07-12  13.520  13.000         NaN  13.400  13.040    52000.0  12.225601\n...            ...     ...         ...     ...     ...        ...        ...\n2020-10-05  12.155  11.790    0.600089  11.790  11.930   533000.0  11.891484\n2020-10-06  12.840  12.040    0.599724  12.300  12.050  1364000.0  12.011097\n2020-10-07  12.200  11.765    0.600085  12.150  11.810  1330100.0  11.771872\n2020-10-08  12.015  11.760    0.599881  11.900  11.970   688900.0  11.931355\n2020-10-09  12.550  12.170    0.601643  12.295  12.550  1785500.0  12.509482\n\n[1075 rows x 7 columns],                   High         Low  Volatility        Open       Close  \\\nDate                                                                     \n2010-10-11   38.450001   37.900002         NaN   38.169998   37.939999   \n2010-10-12   38.759998   37.900002         NaN   37.939999   38.540001   \n2010-10-13   39.860001   38.740002         NaN   38.919998   39.259998   \n2010-10-14   39.610001   39.009998         NaN   39.119999   39.439999   \n2010-10-15   39.799999   39.029999         NaN   39.750000   39.090000   \n...                ...         ...         ...         ...         ...   \n2020-10-05  104.080002  102.269997    0.586702  103.330002  103.889999   \n2020-10-06  105.290001  101.320000    0.587021  105.010002  101.760002   \n2020-10-07  104.150002  102.389999    0.587169  102.809998  103.379997   \n2020-10-08  106.139999  104.059998    0.587609  104.330002  106.059998   \n2020-10-09  107.209999  105.239998    0.587533  105.989998  106.339996   \n\n                Volume   Adj Close  \nDate                                \n2010-10-11  10914000.0   32.574116  \n2010-10-12  19989300.0   33.089272  \n2010-10-13  19502400.0   33.707443  \n2010-10-14  14643600.0   33.861980  \n2010-10-15  14884400.0   33.561474  \n...                ...         ...  \n2020-10-05   2863200.0  103.096375  \n2020-10-06   3309200.0  100.982658  \n2020-10-07   3048400.0  102.590271  \n2020-10-08   2922600.0  105.689400  \n2020-10-09   3511300.0  105.968422  \n\n[2518 rows x 7 columns],                  High        Low  Volatility       Open      Close  \\\nDate                                                                 \n2014-01-23  26.500000  25.000000         NaN  25.750000  25.200001   \n2014-01-24  25.280001  24.000000         NaN  25.280001  24.209999   \n2014-01-27  24.990000  24.190001         NaN  24.230000  24.799999   \n2014-01-28  25.730000  24.430000         NaN  24.639999  25.690001   \n2014-01-29  25.799999  25.090000         NaN  25.290001  25.620001   \n...               ...        ...         ...        ...        ...   \n2020-10-05  19.910000  19.420000    0.740363  19.639999  19.809999   \n2020-10-06  20.440001  19.230000    0.740876  20.340000  19.240000   \n2020-10-07  19.910000  19.219999    0.740614  19.490000  19.379999   \n2020-10-08  19.809999  19.440001    0.740724  19.639999  19.719999   \n2020-10-09  20.139999  19.590000    0.740776  19.930000  19.940001   \n\n                Volume  Adj Close  \nDate                               \n2014-01-23  34094000.0  22.321724  \n2014-01-24   8034700.0  21.444796  \n2014-01-27   3540900.0  21.967409  \n2014-01-28   2766700.0  22.755762  \n2014-01-29   2946100.0  22.693752  \n...                ...        ...  \n2020-10-05    650100.0  19.809999  \n2020-10-06    642500.0  19.240000  \n2020-10-07    715000.0  19.379999  \n2020-10-08    702400.0  19.719999  \n2020-10-09   2010600.0  19.940001  \n\n[1692 rows x 7 columns],                  High        Low  Volatility       Open      Close     Volume  \\\nDate                                                                            \n2010-10-11  54.007633  53.492367         NaN  53.826336  53.587788   793860.0   \n2010-10-12  53.635494  52.461830         NaN  52.996181  53.339695  1404634.0   \n2010-10-13  55.820610  54.780533         NaN  55.076336  55.066795  1400338.0   \n2010-10-14  56.030533  54.303436         NaN  55.916031  54.856869  2583425.0   \n2010-10-15  55.190842  53.482822         NaN  55.171757  54.074429  1485226.0   \n...               ...        ...         ...        ...        ...        ...   \n2020-10-05   8.710000   8.550000    0.582111   8.560000   8.700000  5380400.0   \n2020-10-06   9.200000   8.990000    0.582927   9.070000   9.010000  7807200.0   \n2020-10-07   9.270000   9.150000    0.582833   9.180000   9.230000  4203900.0   \n2020-10-08   9.400000   9.290000    0.582972   9.370000   9.360000  4655000.0   \n2020-10-09   9.390000   9.220000    0.582476   9.390000   9.280000  2246400.0   \n\n            Adj Close  \nDate                   \n2010-10-11  45.830193  \n2010-10-12  45.618023  \n2010-10-13  47.095097  \n2010-10-14  46.915558  \n2010-10-15  46.246395  \n...               ...  \n2020-10-05   8.700000  \n2020-10-06   9.010000  \n2020-10-07   9.230000  \n2020-10-08   9.360000  \n2020-10-09   9.280000  \n\n[2518 rows x 7 columns],                  High        Low  Volatility       Open      Close     Volume  \\\nDate                                                                            \n2014-12-02  18.020000  17.879999         NaN  17.959999  18.000000   567400.0   \n2014-12-03  18.190001  18.080000         NaN  18.129999  18.160000   426100.0   \n2014-12-04  18.219999  18.100000         NaN  18.129999  18.170000   698800.0   \n2014-12-05  18.260000  18.090000         NaN  18.170000  18.219999   620400.0   \n2014-12-08  18.129999  17.959999         NaN  18.080000  18.040001   480200.0   \n...               ...        ...         ...        ...        ...        ...   \n2020-10-05  11.600000  11.490000    0.474170  11.530000  11.570000  2400200.0   \n2020-10-06  11.820000  11.570000    0.474144  11.800000  11.580000  3395000.0   \n2020-10-07  11.790000  11.660000    0.474275  11.690000  11.750000  2502700.0   \n2020-10-08  11.820000  11.700000    0.474278  11.810000  11.780000  2430100.0   \n2020-10-09  11.800000  11.596000    0.474022  11.800000  11.670000  2024800.0   \n\n            Adj Close  \nDate                   \n2014-12-02  14.266798  \n2014-12-03  14.393614  \n2014-12-04  14.401540  \n2014-12-05  14.441169  \n2014-12-08  14.298502  \n...               ...  \n2020-10-05  11.279160  \n2020-10-06  11.288909  \n2020-10-07  11.454636  \n2020-10-08  11.483882  \n2020-10-09  11.376647  \n\n[1475 rows x 7 columns],                  High        Low  Volatility       Open      Close  \\\nDate                                                                 \n2010-10-11  13.250000  13.110000         NaN  13.200000  13.150000   \n2010-10-12  13.530000  13.090000         NaN  13.100000  13.520000   \n2010-10-13  13.640000  13.250000         NaN  13.600000  13.290000   \n2010-10-14  13.030000  12.420000         NaN  13.000000  12.600000   \n2010-10-15  12.680000  11.740000         NaN  12.660000  11.980000   \n...               ...        ...         ...        ...        ...   \n2020-10-05  24.709999  24.379999    0.555642  24.520000  24.620001   \n2020-10-06  25.190001  24.280001    0.555724  24.920000  24.370001   \n2020-10-07  25.110001  24.600000    0.555618  24.629999  24.879999   \n2020-10-08  25.299999  24.809999    0.555729  24.950001  25.240000   \n2020-10-09  25.490000  25.040001    0.555381  25.340000  25.360001   \n\n                 Volume  Adj Close  \nDate                                \n2010-10-11  101283500.0  11.532122  \n2010-10-12  136898300.0  11.856599  \n2010-10-13  175054300.0  11.654898  \n2010-10-14  511175200.0  11.049791  \n2010-10-15  600410400.0  10.506070  \n...                 ...        ...  \n2020-10-05   44396800.0  24.467503  \n2020-10-06   67541100.0  24.219051  \n2020-10-07   47648000.0  24.725891  \n2020-10-08   52080600.0  25.083662  \n2020-10-09   44511500.0  25.202919  \n\n[2518 rows x 7 columns],                   High         Low  Volatility        Open       Close  \\\nDate                                                                     \n2010-10-11   39.910000   39.400002         NaN   39.520000   39.730000   \n2010-10-12   40.490002   39.470001         NaN   39.470001   40.400002   \n2010-10-13   40.720001   39.580002         NaN   40.660000   39.840000   \n2010-10-14   39.380001   38.099998         NaN   39.250000   38.720001   \n2010-10-15   38.939999   36.540001         NaN   38.869999   37.150002   \n...                ...         ...         ...         ...         ...   \n2020-10-05   99.250000   97.529999    0.516339   98.320000   99.040001   \n2020-10-06  100.860001   97.510002    0.516429  100.070000   98.019997   \n2020-10-07  100.349998   98.669998    0.516267   98.959999   99.730003   \n2020-10-08  101.919998   99.900002    0.516629  100.510002  101.779999   \n2020-10-09  102.110001  100.110001    0.516456  102.000000  101.199997   \n\n                 Volume   Adj Close  \nDate                                 \n2010-10-11   24601000.0   30.039925  \n2010-10-12   38798100.0   30.546518  \n2010-10-13   69607700.0   30.123104  \n2010-10-14   76504900.0   29.276266  \n2010-10-15  142280400.0   28.089188  \n...                 ...         ...  \n2020-10-05   13871900.0   98.331841  \n2020-10-06   19220400.0   97.319130  \n2020-10-07   16358500.0   99.016914  \n2020-10-08   15659000.0  101.052246  \n2020-10-09   13689100.0  100.476395  \n\n[2518 rows x 7 columns]]\n"
     ]
    }
   ],
   "source": [
    "\n",
    "l_volatilities = []\n",
    "for company in companies:\n",
    "    company_pos=companies.index(company)\n",
    "    df_company_prices = pd.DataFrame(l_companies_prices[company_pos])\n",
    "    log_ret = np.log(df_company_prices['Close'] / df_company_prices['Close'].shift(1))\n",
    "    volatility = log_ret.rolling(window=252).std() * np.sqrt(252)\n",
    "    df_company_prices.insert(2, \"Volatility\", volatility, True)\n",
    "    l_volatilities.append(df_company_prices)\n",
    "\n",
    "print(l_volatilities)"
   ]
  },
  {
   "cell_type": "markdown",
   "metadata": {},
   "source": [
    "### Expected returns"
   ]
  },
  {
   "cell_type": "code",
   "execution_count": 26,
   "metadata": {},
   "outputs": [],
   "source": [
    "l_returns = []\n",
    "for company in companies:\n",
    "    company_pos=companies.index(company)\n",
    "    df_company_prices = pd.DataFrame(l_companies_prices[company_pos])\n",
    "    returns = (df_company_prices['Close'] - df_company_prices['Close'].shift(1)) / df_company_prices['Close'].shift(1)\n",
    "    df_company_prices.insert(2, \"returns\", returns, True)\n",
    "    l_returns.append(df_company_prices)"
   ]
  },
  {
   "cell_type": "code",
   "execution_count": 27,
   "metadata": {},
   "outputs": [
    {
     "output_type": "execute_result",
     "data": {
      "text/plain": [
       "3.240002  51.970001  0.016052         NaN  52.810001  53.169998   \n",
       " ...               ...        ...       ...         ...        ...        ...   \n",
       " 2020-10-05  20.750000  20.049999  0.023046    0.924426  20.330000  20.420000   \n",
       " 2020-10-06  20.750000  19.360001 -0.045544    0.925006  20.750000  19.490000   \n",
       " 2020-10-07  20.740000  19.830000  0.059005    0.927001  19.830000  20.639999   \n",
       " 2020-10-08  21.900000  20.719999  0.060562    0.928778  20.870001  21.889999   \n",
       " 2020-10-09  22.240000  21.430000 -0.016446    0.928351  22.000000  21.530001   \n",
       " \n",
       "                Volume  Adj Close  \n",
       " Date                              \n",
       " 2010-10-11  2392500.0  37.662571  \n",
       " 2010-10-12  2589000.0  37.592255  \n",
       " 2010-10-13  3001500.0  37.275810  \n",
       " 2010-10-14  5694400.0  36.797657  \n",
       " 2010-10-15  4613400.0  37.388332  \n",
       " ...               ...        ...  \n",
       " 2020-10-05  6275500.0  20.420000  \n",
       " 2020-10-06  7438600.0  19.490000  \n",
       " 2020-10-07  6694300.0  20.639999  \n",
       " 2020-10-08  8074000.0  21.889999  \n",
       " 2020-10-09  6681700.0  21.530001  \n",
       " \n",
       " [2518 rows x 8 columns],\n",
       "                   High         Low   returns  Volatility        Open  \\\n",
       " Date                                                                   \n",
       " 2010-10-11   64.489998   63.279999       NaN         NaN   63.389999   \n",
       " 2010-10-12   64.089996   63.310001 -0.015236         NaN   64.029999   \n",
       " 2010-10-13   63.959999   63.000000  0.000316         NaN   63.200001   \n",
       " 2010-10-14   63.860001   62.910000 -0.002841         NaN   63.119999   \n",
       " 2010-10-15   63.770000   63.209999  0.008230         NaN   63.459999   \n",
       " ...                ...         ...       ...         ...         ...   \n",
       " 2020-10-05  358.980011  355.329987  0.010056    0.277999  355.329987   \n",
       " 2020-10-06  363.000000  357.040009 -0.000641    0.277955  361.899994   \n",
       " 2020-10-07  364.739990  359.660004  0.013032    0.278155  360.470001   \n",
       " 2020-10-08  365.970001  361.750000  0.005702    0.277725  364.799988   \n",
       " 2020-10-09  369.750000  365.700012  0.011970    0.277945  366.000000   \n",
       " \n",
       "                  Close     Volume   Adj Close  \n",
       " Date                                           \n",
       " 2010-10-11   64.320000  2584800.0   48.734234  \n",
       " 2010-10-12   63.340000  4454400.0   47.991699  \n",
       " 2010-10-13   63.360001  5006500.0   48.006851  \n",
       " 2010-10-14   63.180000  4214500.0   47.870472  \n",
       " 2010-10-15   63.700001  4033400.0   48.264458  \n",
       " ...                ...        ...         ...  \n",
       " 2020-10-05  358.579987  2093500.0  348.756958  \n",
       " 2020-10-06  358.350006  2760400.0  348.533295  \n",
       " 2020-10-07  363.019989  1959100.0  353.075317  \n",
       " 2020-10-08  365.089996  1793100.0  355.088623  \n",
       " 2020-10-09  369.459991  1730700.0  359.338928  \n",
       " \n",
       " [2518 rows x 8 columns],\n",
       "                   High         Low   returns  Volatility        Open  \\\n",
       " Date                                                                   \n",
       " 2010-10-11   41.400002   40.700001       NaN         NaN   41.230000   \n",
       " 2010-10-12   40.980000   40.230000 -0.003182         NaN   40.700001   \n",
       " 2010-10-13   41.990002   40.930000  0.007366         NaN   40.930000   \n",
       " 2010-10-14   41.040001   40.599998 -0.001219         NaN   41.020000   \n",
       " 2010-10-15   42.360001   41.000000  0.028551         NaN   41.349998   \n",
       " ...                ...         ...       ...         ...         ...   \n",
       " 2020-10-05  116.739998  112.570000  0.032468    0.507145  112.570000   \n",
       " 2020-10-06  116.430000  112.250000 -0.031188    0.508266  115.980003   \n",
       " 2020-10-07  115.440002  113.760002  0.018141    0.507873  114.000000   \n",
       " 2020-10-08  115.650002  113.910004  0.003756    0.507858  115.129997   \n",
       " 2020-10-09  118.250000  115.110001  0.014532    0.507829  115.370003   \n",
       " \n",
       "                  Close     Volume   Adj Close  \n",
       " Date                                           \n",
       " 2010-10-11   40.860001  3491300.0   30.248907  \n",
       " 2010-10-12   40.730000  5350500.0   30.152655  \n",
       " 2010-10-13   41.029999  7025400.0   30.374758  \n",
       " 2010-10-14   40.980000  5502000.0   30.337744  \n",
       " 2010-10-15   42.150002  8742100.0   31.203899  \n",
       " ...                ...        ...         ...  \n",
       " 2020-10-05  116.070000  2006000.0  115.435425  \n",
       " 2020-10-06  112.449997  2395400.0  111.835213  \n",
       " 2020-10-07  114.489998  1552500.0  113.864059  \n",
       " 2020-10-08  114.919998  1523300.0  114.291710  \n",
       " 2020-10-09  116.589996  2824100.0  115.952576  \n",
       " \n",
       " [2518 rows x 8 columns],\n",
       "                  High        Low   returns  Volatility       Open      Close  \\\n",
       " Date                                                                           \n",
       " 2010-10-11  29.809999  29.665001       NaN         NaN  29.780001  29.780001   \n",
       " 2010-10-12  29.900000  29.670000  0.000672         NaN  29.670000  29.799999   \n",
       " 2010-10-13  29.985001  29.830000  0.005705         NaN  29.860001  29.969999   \n",
       " 2010-10-14  29.990000  29.840000 -0.000500         NaN  29.969999  29.955000   \n",
       " 2010-10-15  29.990000  29.870001  0.000501         NaN  29.980000  29.969999   \n",
       " ...               ...        ...       ...         ...        ...        ...   \n",
       " 2020-10-05  49.549999  49.119999  0.000405    0.336592  49.430000  49.380001   \n",
       " 2020-10-06  49.730000  48.830002 -0.008911    0.336488  49.549999  48.939999   \n",
       " 2020-10-07  49.759998  48.950001  0.012669    0.336699  49.020000  49.560001   \n",
       " 2020-10-08  50.540001  49.540001  0.018160    0.337161  49.709999  50.459999   \n",
       " 2020-10-09  51.230000  50.599998  0.006936    0.337224  50.669998  50.810001   \n",
       " \n",
       "                 Volume  Adj Close  \n",
       " Date                               \n",
       " 2010-10-11  12997000.0  21.677502  \n",
       " 2010-10-12  16164400.0  21.692070  \n",
       " 2010-10-13  24011000.0  21.815813  \n",
       " 2010-10-14  14491600.0  21.804893  \n",
       " 2010-10-15  19697600.0  21.815813  \n",
       " ...                ...        ...  \n",
       " 2020-10-05  10628700.0  48.995831  \n",
       " 2020-10-06  10077400.0  48.559250  \n",
       " 2020-10-07  10135600.0  49.174431  \n",
       " 2020-10-08  12143900.0  50.067425  \n",
       " 2020-10-09  11407800.0  50.414703  \n",
       " \n",
       " [2518 rows x 8 columns],\n",
       "                   High         Low   returns  Volatility        Open  \\\n",
       " Date                                                                   \n",
       " 2010-10-11   65.760002   65.300003       NaN         NaN   65.739998   \n",
       " 2010-10-12   66.470001   65.000000  0.008547         NaN   65.290001   \n",
       " 2010-10-13   66.800003   66.199997  0.004843         NaN   66.309998   \n",
       " 2010-10-14   66.839996   66.449997  0.003614         NaN   66.449997   \n",
       " 2010-10-15   67.000000   66.459999  0.000600         NaN   66.889999   \n",
       " ...                ...         ...       ...         ...         ...   \n",
       " 2020-10-05  138.380005  136.979996 -0.000942    0.363748  138.110001   \n",
       " 2020-10-06  138.820007  135.149994 -0.016168    0.363847  138.000000   \n",
       " 2020-10-07  137.520004  135.759995  0.009654    0.363888  135.940002   \n",
       " 2020-10-08  138.130005  136.759995  0.006131    0.363913  137.279999   \n",
       " 2020-10-09  139.259995  137.899994  0.004280    0.363938  138.699997   \n",
       " \n",
       "                  Close     Volume   Adj Close  \n",
       " Date                                           \n",
       " 2010-10-11   65.519997  5283100.0   48.454674  \n",
       " 2010-10-12   66.080002  7807800.0   48.868813  \n",
       " 2010-10-13   66.400002  5990500.0   49.105465  \n",
       " 2010-10-14   66.639999  6162300.0   49.282948  \n",
       " 2010-10-15   66.680000  6272100.0   49.312546  \n",
       " ...                ...        ...         ...  \n",
       " 2020-10-05  137.929993  4519800.0  136.954315  \n",
       " 2020-10-06  135.699997  5031000.0  134.740097  \n",
       " 2020-10-07  137.009995  4347300.0  136.040833  \n",
       " 2020-10-08  137.850006  2977400.0  136.874893  \n",
       " 2020-10-09  138.440002  3194000.0  137.460724  \n",
       " \n",
       " [2518 rows x 8 columns],\n",
       "                   High         Low   returns  Volatility        Open  \\\n",
       " Date                                                                   \n",
       " 2010-10-11   62.209999   61.860001       NaN         NaN   61.919998   \n",
       " 2010-10-12   62.180000   61.560001 -0.001931         NaN   62.009998   \n",
       " 2010-10-13   62.930000   62.080002  0.009836         NaN   62.230000   \n",
       " 2010-10-14   62.840000   62.520000  0.002714         NaN   62.669998   \n",
       " 2010-10-15   63.000000   62.549999 -0.000637         NaN   62.970001   \n",
       " ...                ...         ...       ...         ...         ...   \n",
       " 2020-10-05  139.649994  138.300003  0.009195    0.323947  138.720001   \n",
       " 2020-10-06  140.770004  138.809998  0.001578    0.323797  139.419998   \n",
       " 2020-10-07  141.389999  139.369995  0.007807    0.323470  140.080002   \n",
       " 2020-10-08  141.929993  140.360001  0.006752    0.323428  140.559998   \n",
       " 2020-10-09  143.639999  141.699997  0.008966    0.323533  141.839996   \n",
       " \n",
       "                  Close      Volume   Adj Close  \n",
       " Date                                            \n",
       " 2010-10-11   62.139999   7425200.0   45.275635  \n",
       " 2010-10-12   62.020000  24975000.0   45.188206  \n",
       " 2010-10-13   62.630001   9906000.0   45.632656  \n",
       " 2010-10-14   62.799999   8771400.0   45.756523  \n",
       " 2010-10-15   62.759998   9943500.0   45.727375  \n",
       " ...                ...         ...         ...  \n",
       " 2020-10-05  139.389999   6333900.0  138.620316  \n",
       " 2020-10-06  139.610001   6042900.0  138.839096  \n",
       " 2020-10-07  140.699997   4640900.0  139.923080  \n",
       " 2020-10-08  141.649994   4569800.0  140.867828  \n",
       " 2020-10-09  142.919998   6551700.0  142.130814  \n",
       " \n",
       " [2518 rows x 8 columns],\n",
       "               High     Low   returns  Volatility    Open   Close     Volume  \\\n",
       " Date                                                                          \n",
       " 2016-07-06  13.650  13.350       NaN         NaN  13.350  13.640    75800.0   \n",
       " 2016-07-07  13.800  13.270 -0.025220         NaN  13.650  13.296    51500.0   \n",
       " 2016-07-08  13.707  12.910  0.024368         NaN  13.320  13.620    36300.0   \n",
       " 2016-07-11  13.650  13.280 -0.017621         NaN  13.650  13.380    55700.0   \n",
       " 2016-07-12  13.520  13.000 -0.025411         NaN  13.400  13.040    52000.0   \n",
       " ...            ...     ...       ...         ...     ...     ...        ...   \n",
       " 2020-10-05  12.155  11.790  0.014456    0.600089  11.790  11.930   533000.0   \n",
       " 2020-10-06  12.840  12.040  0.010059    0.599724  12.300  12.050  1364000.0   \n",
       " 2020-10-07  12.200  11.765 -0.019917    0.600085  12.150  11.810  1330100.0   \n",
       " 2020-10-08  12.015  11.760  0.013548    0.599881  11.900  11.970   688900.0   \n",
       " 2020-10-09  12.550  12.170  0.048454    0.601643  12.295  12.550  1785500.0   \n",
       " \n",
       "             Adj Close  \n",
       " Date                   \n",
       " 2016-07-06  12.788130  \n",
       " 2016-07-07  12.465611  \n",
       " 2016-07-08  12.769378  \n",
       " 2016-07-11  12.544368  \n",
       " 2016-07-12  12.225601  \n",
       " ...               ...  \n",
       " 2020-10-05  11.891484  \n",
       " 2020-10-06  12.011097  \n",
       " 2020-10-07  11.771872  \n",
       " 2020-10-08  11.931355  \n",
       " 2020-10-09  12.509482  \n",
       " \n",
       " [1075 rows x 8 columns],\n",
       "                   High         Low   returns  Volatility        Open  \\\n",
       " Date                                                                   \n",
       " 2010-10-11   38.450001   37.900002       NaN         NaN   38.169998   \n",
       " 2010-10-12   38.759998   37.900002  0.015815         NaN   37.939999   \n",
       " 2010-10-13   39.860001   38.740002  0.018682         NaN   38.919998   \n",
       " 2010-10-14   39.610001   39.009998  0.004585         NaN   39.119999   \n",
       " 2010-10-15   39.799999   39.029999 -0.008874         NaN   39.750000   \n",
       " ...                ...         ...       ...         ...         ...   \n",
       " 2020-10-05  104.080002  102.269997  0.022439    0.586702  103.330002   \n",
       " 2020-10-06  105.290001  101.320000 -0.020502    0.587021  105.010002   \n",
       " 2020-10-07  104.150002  102.389999  0.015920    0.587169  102.809998   \n",
       " 2020-10-08  106.139999  104.059998  0.025924    0.587609  104.330002   \n",
       " 2020-10-09  107.209999  105.239998  0.002640    0.587533  105.989998   \n",
       " \n",
       "                  Close      Volume   Adj Close  \n",
       " Date                                            \n",
       " 2010-10-11   37.939999  10914000.0   32.574116  \n",
       " 2010-10-12   38.540001  19989300.0   33.089272  \n",
       " 2010-10-13   39.259998  19502400.0   33.707443  \n",
       " 2010-10-14   39.439999  14643600.0   33.861980  \n",
       " 2010-10-15   39.090000  14884400.0   33.561474  \n",
       " ...                ...         ...         ...  \n",
       " 2020-10-05  103.889999   2863200.0  103.096375  \n",
       " 2020-10-06  101.760002   3309200.0  100.982658  \n",
       " 2020-10-07  103.379997   3048400.0  102.590271  \n",
       " 2020-10-08  106.059998   2922600.0  105.689400  \n",
       " 2020-10-09  106.339996   3511300.0  105.968422  \n",
       " \n",
       " [2518 rows x 8 columns],\n",
       "                  High        Low   returns  Volatility       Open      Close  \\\n",
       " Date                                                                           \n",
       " 2014-01-23  26.500000  25.000000       NaN         NaN  25.750000  25.200001   \n",
       " 2014-01-24  25.280001  24.000000 -0.039286         NaN  25.280001  24.209999   \n",
       " 2014-01-27  24.990000  24.190001  0.024370         NaN  24.230000  24.799999   \n",
       " 2014-01-28  25.730000  24.430000  0.035887         NaN  24.639999  25.690001   \n",
       " 2014-01-29  25.799999  25.090000 -0.002725         NaN  25.290001  25.620001   \n",
       " ...               ...        ...       ...         ...        ...        ...   \n",
       " 2020-10-05  19.910000  19.420000  0.028557    0.740363  19.639999  19.809999   \n",
       " 2020-10-06  20.440001  19.230000 -0.028773    0.740876  20.340000  19.240000   \n",
       " 2020-10-07  19.910000  19.219999  0.007276    0.740614  19.490000  19.379999   \n",
       " 2020-10-08  19.809999  19.440001  0.017544    0.740724  19.639999  19.719999   \n",
       " 2020-10-09  20.139999  19.590000  0.011156    0.740776  19.930000  19.940001   \n",
       " \n",
       "                 Volume  Adj Close  \n",
       " Date                               \n",
       " 2014-01-23  34094000.0  22.321724  \n",
       " 2014-01-24   8034700.0  21.444796  \n",
       " 2014-01-27   3540900.0  21.967409  \n",
       " 2014-01-28   2766700.0  22.755762  \n",
       " 2014-01-29   2946100.0  22.693752  \n",
       " ...                ...        ...  \n",
       " 2020-10-05    650100.0  19.809999  \n",
       " 2020-10-06    642500.0  19.240000  \n",
       " 2020-10-07    715000.0  19.379999  \n",
       " 2020-10-08    702400.0  19.719999  \n",
       " 2020-10-09   2010600.0  19.940001  \n",
       " \n",
       " [1692 rows x 8 columns],\n",
       "                  High        Low   returns  Volatility       Open      Close  \\\n",
       " Date                                                                           \n",
       " 2010-10-11  54.007633  53.492367       NaN         NaN  53.826336  53.587788   \n",
       " 2010-10-12  53.635494  52.461830 -0.004630         NaN  52.996181  53.339695   \n",
       " 2010-10-13  55.820610  54.780533  0.032379         NaN  55.076336  55.066795   \n",
       " 2010-10-14  56.030533  54.303436 -0.003812         NaN  55.916031  54.856869   \n",
       " 2010-10-15  55.190842  53.482822 -0.014263         NaN  55.171757  54.074429   \n",
       " ...               ...        ...       ...         ...        ...        ...   \n",
       " 2020-10-05   8.710000   8.550000  0.023529    0.582111   8.560000   8.700000   \n",
       " 2020-10-06   9.200000   8.990000  0.035632    0.582927   9.070000   9.010000   \n",
       " 2020-10-07   9.270000   9.150000  0.024417    0.582833   9.180000   9.230000   \n",
       " 2020-10-08   9.400000   9.290000  0.014085    0.582972   9.370000   9.360000   \n",
       " 2020-10-09   9.390000   9.220000 -0.008547    0.582476   9.390000   9.280000   \n",
       " \n",
       "                Volume  Adj Close  \n",
       " Date                              \n",
       " 2010-10-11   793860.0  45.830193  \n",
       " 2010-10-12  1404634.0  45.618023  \n",
       " 2010-10-13  1400338.0  47.095097  \n",
       " 2010-10-14  2583425.0  46.915558  \n",
       " 2010-10-15  1485226.0  46.246395  \n",
       " ...               ...        ...  \n",
       " 2020-10-05  5380400.0   8.700000  \n",
       " 2020-10-06  7807200.0   9.010000  \n",
       " 2020-10-07  4203900.0   9.230000  \n",
       " 2020-10-08  4655000.0   9.360000  \n",
       " 2020-10-09  2246400.0   9.280000  \n",
       " \n",
       " [2518 rows x 8 columns],\n",
       "                  High        Low   returns  Volatility       Open      Close  \\\n",
       " Date                                                                           \n",
       " 2014-12-02  18.020000  17.879999       NaN         NaN  17.959999  18.000000   \n",
       " 2014-12-03  18.190001  18.080000  0.008889         NaN  18.129999  18.160000   \n",
       " 2014-12-04  18.219999  18.100000  0.000551         NaN  18.129999  18.170000   \n",
       " 2014-12-05  18.260000  18.090000  0.002752         NaN  18.170000  18.219999   \n",
       " 2014-12-08  18.129999  17.959999 -0.009879         NaN  18.080000  18.040001   \n",
       " ...               ...        ...       ...         ...        ...        ...   \n",
       " 2020-10-05  11.600000  11.490000  0.020282    0.474170  11.530000  11.570000   \n",
       " 2020-10-06  11.820000  11.570000  0.000864    0.474144  11.800000  11.580000   \n",
       " 2020-10-07  11.790000  11.660000  0.014680    0.474275  11.690000  11.750000   \n",
       " 2020-10-08  11.820000  11.700000  0.002553    0.474278  11.810000  11.780000   \n",
       " 2020-10-09  11.800000  11.596000 -0.009338    0.474022  11.800000  11.670000   \n",
       " \n",
       "                Volume  Adj Close  \n",
       " Date                              \n",
       " 2014-12-02   567400.0  14.266798  \n",
       " 2014-12-03   426100.0  14.393614  \n",
       " 2014-12-04   698800.0  14.401540  \n",
       " 2014-12-05   620400.0  14.441169  \n",
       " 2014-12-08   480200.0  14.298502  \n",
       " ...               ...        ...  \n",
       " 2020-10-05  2400200.0  11.279160  \n",
       " 2020-10-06  3395000.0  11.288909  \n",
       " 2020-10-07  2502700.0  11.454636  \n",
       " 2020-10-08  2430100.0  11.483882  \n",
       " 2020-10-09  2024800.0  11.376647  \n",
       " \n",
       " [1475 rows x 8 columns],\n",
       "                  High        Low   returns  Volatility       Open      Close  \\\n",
       " Date                                                                           \n",
       " 2010-10-11  13.250000  13.110000       NaN         NaN  13.200000  13.150000   \n",
       " 2010-10-12  13.530000  13.090000  0.028137         NaN  13.100000  13.520000   \n",
       " 2010-10-13  13.640000  13.250000 -0.017012         NaN  13.600000  13.290000   \n",
       " 2010-10-14  13.030000  12.420000 -0.051919         NaN  13.000000  12.600000   \n",
       " 2010-10-15  12.680000  11.740000 -0.049206         NaN  12.660000  11.980000   \n",
       " ...               ...        ...       ...         ...        ...        ...   \n",
       " 2020-10-05  24.709999  24.379999  0.016935    0.555642  24.520000  24.620001   \n",
       " 2020-10-06  25.190001  24.280001 -0.010154    0.555724  24.920000  24.370001   \n",
       " 2020-10-07  25.110001  24.600000  0.020927    0.555618  24.629999  24.879999   \n",
       " 2020-10-08  25.299999  24.809999  0.014469    0.555729  24.950001  25.240000   \n",
       " 2020-10-09  25.490000  25.040001  0.004754    0.555381  25.340000  25.360001   \n",
       " \n",
       "                  Volume  Adj Close  \n",
       " Date                                \n",
       " 2010-10-11  101283500.0  11.532122  \n",
       " 2010-10-12  136898300.0  11.856599  \n",
       " 2010-10-13  175054300.0  11.654898  \n",
       " 2010-10-14  511175200.0  11.049791  \n",
       " 2010-10-15  600410400.0  10.506070  \n",
       " ...                 ...        ...  \n",
       " 2020-10-05   44396800.0  24.467503  \n",
       " 2020-10-06   67541100.0  24.219051  \n",
       " 2020-10-07   47648000.0  24.725891  \n",
       " 2020-10-08   52080600.0  25.083662  \n",
       " 2020-10-09   44511500.0  25.202919  \n",
       " \n",
       " [2518 rows x 8 columns],\n",
       "                   High         Low   returns  Volatility        Open  \\\n",
       " Date                                                                   \n",
       " 2010-10-11   39.910000   39.400002       NaN         NaN   39.520000   \n",
       " 2010-10-12   40.490002   39.470001  0.016864         NaN   39.470001   \n",
       " 2010-10-13   40.720001   39.580002 -0.013861         NaN   40.660000   \n",
       " 2010-10-14   39.380001   38.099998 -0.028112         NaN   39.250000   \n",
       " 2010-10-15   38.939999   36.540001 -0.040548         NaN   38.869999   \n",
       " ...                ...         ...       ...         ...         ...   \n",
       " 2020-10-05   99.250000   97.529999  0.011748    0.516339   98.320000   \n",
       " 2020-10-06  100.860001   97.510002 -0.010299    0.516429  100.070000   \n",
       " 2020-10-07  100.349998   98.669998  0.017445    0.516267   98.959999   \n",
       " 2020-10-08  101.919998   99.900002  0.020555    0.516629  100.510002   \n",
       " 2020-10-09  102.110001  100.110001 -0.005699    0.516456  102.000000   \n",
       " \n",
       "                  Close       Volume   Adj Close  \n",
       " Date                                             \n",
       " 2010-10-11   39.730000   24601000.0   30.039925  \n",
       " 2010-10-12   40.400002   38798100.0   30.546518  \n",
       " 2010-10-13   39.840000   69607700.0   30.123104  \n",
       " 2010-10-14   38.720001   76504900.0   29.276266  \n",
       " 2010-10-15   37.150002  142280400.0   28.089188  \n",
       " ...                ...          ...         ...  \n",
       " 2020-10-05   99.040001   13871900.0   98.331841  \n",
       " 2020-10-06   98.019997   19220400.0   97.319130  \n",
       " 2020-10-07   99.730003   16358500.0   99.016914  \n",
       " 2020-10-08  101.779999   15659000.0  101.052246  \n",
       " 2020-10-09  101.199997   13689100.0  100.476395  \n",
       " \n",
       " [2518 rows x 8 columns]]"
      ]
     },
     "metadata": {},
     "execution_count": 27
    }
   ],
   "source": [
    "l_returns"
   ]
  },
  {
   "cell_type": "code",
   "execution_count": 28,
   "metadata": {},
   "outputs": [
    {
     "output_type": "stream",
     "name": "stdout",
     "text": [
      "[['AAPL', 0.24576212706845474], ['AMZN', 0.32878772362638664], ['MSFT', 0.21823741952413256], ['GOOG', 0.191378431933231], ['FB', 0.30161872761801845], ['NVDA', 0.4931171561846849], ['F', -0.011976915482311935], ['GM', 0.04088241949150044], ['HMC', -0.009170559827996482], ['TSLA', 0.5157369284319866], ['TYO', -0.10592633571589997], ['HOG', 0.044568829075491104], ['WMT', 0.09703322358290575], ['M', 0.008681139192578402], ['TGT', 0.11412148248236709], ['KSS', 0.006854575724160139], ['COST', 0.1674207351165724], ['BBY', 0.2622984487062406], ['KO', 0.06441514580167561], ['PEP', 0.07940352791222091], ['PG', 0.07725201668740694], ['OR', -0.06175039426047935], ['AXP', 0.14723187952081127], ['SC', 0.011489650389287712], ['DB', -0.14093138981130585], ['UBS', -0.0394967250395171], ['BAC', 0.18910217427914794], ['JPM', 0.15206171805688737]]\n"
     ]
    }
   ],
   "source": [
    "l_yearly_returns = []\n",
    "for company in companies:\n",
    "    company_pos=companies.index(company)\n",
    "    df_company_prices = pd.DataFrame(l_companies_prices[company_pos])\n",
    "    try:\n",
    "        df_yearly = df_company_prices[\"Close\"].resample('Y').first().pct_change()\n",
    "        \n",
    "        yearly_mean = df_yearly.mean()\n",
    "    except:\n",
    "        print( company)\n",
    "        print(df_company_prices)\n",
    "        yearly_mean = 0\n",
    "    l_yearly_returns.append([company,yearly_mean])\n",
    "print(l_yearly_returns)"
   ]
  },
  {
   "cell_type": "markdown",
   "metadata": {
    "id": "9EVjuyTwybFN"
   },
   "source": [
    "## Prices - BUY"
   ]
  },
  {
   "cell_type": "code",
   "execution_count": 29,
   "metadata": {
    "executionInfo": {
     "elapsed": 18975,
     "status": "ok",
     "timestamp": 1609188910857,
     "user": {
      "displayName": "Daniel Dabdub",
      "photoUrl": "https://lh6.googleusercontent.com/-qKoV5H3Fw5M/AAAAAAAAAAI/AAAAAAAAZro/jARb9IjBWek/s64/photo.jpg",
      "userId": "06642504652143825936"
     },
     "user_tz": 360
    },
    "id": "kyz9eVdWOHiz"
   },
   "outputs": [],
   "source": [
    "#price when bought\n",
    "\n",
    "l_buy_prices=list()\n",
    "l_volatility=list()\n",
    "for index,row in transactions.iterrows():\n",
    "    comp=row['company']\n",
    "    buy_date=row['date_BUY_fix']\n",
    "    company_pos=companies.index(comp)\n",
    "    try:\n",
    "        price=l_companies_prices[company_pos].loc[buy_date,'Adj Close']\n",
    "        volatility= l_volatilities[company_pos].loc[buy_date, 'Volatility']\n",
    "    except :\n",
    "        price=np.NaN\n",
    "\n",
    "    l_buy_prices.append(price)\n",
    "\n",
    "transactions['price_BUY']=l_buy_prices\n"
   ]
  },
  {
   "cell_type": "code",
   "execution_count": 30,
   "metadata": {},
   "outputs": [
    {
     "output_type": "stream",
     "name": "stdout",
     "text": [
      "190092\n"
     ]
    }
   ],
   "source": [
    "l_volatility_buy=list()\n",
    "for index,row in transactions.iterrows():\n",
    "    comp=row['company']\n",
    "    buy_date=row['date_BUY_fix']\n",
    "    company_pos=companies.index(comp)\n",
    "    try:\n",
    "        volatility= l_volatilities[company_pos].loc[buy_date, 'Volatility']\n",
    "    except :\n",
    "        volatility=np.NaN\n",
    "    \n",
    "    l_volatility_buy.append(volatility)\n",
    "    \n",
    "print(len(l_volatility_buy))\n",
    "\n",
    "\n",
    "transactions['Volatility_Buy'] = l_volatility_buy"
   ]
  },
  {
   "cell_type": "markdown",
   "metadata": {
    "id": "SN8AKEpjzWON"
   },
   "source": [
    "## Dates - SELL"
   ]
  },
  {
   "cell_type": "code",
   "execution_count": 31,
   "metadata": {
    "executionInfo": {
     "elapsed": 22996,
     "status": "ok",
     "timestamp": 1609188914886,
     "user": {
      "displayName": "Daniel Dabdub",
      "photoUrl": "https://lh6.googleusercontent.com/-qKoV5H3Fw5M/AAAAAAAAAAI/AAAAAAAAZro/jARb9IjBWek/s64/photo.jpg",
      "userId": "06642504652143825936"
     },
     "user_tz": 360
    },
    "id": "q7tjX_-KHWxc"
   },
   "outputs": [],
   "source": [
    "#random sell date\n",
    "dates_SELL=list()\n",
    "expected_return = list()\n",
    "\n",
    "for index,row in transactions.iterrows():\n",
    "    comp=row['company']\n",
    "    company_pos=companies.index(comp)\n",
    "    buy_date = row['date_BUY_fix']\n",
    "    sell_date = buy_date + datetime.timedelta(row['horizon (days)'])\n",
    "    expected_return.append(row['horizon (days)']/365 * l_yearly_returns[company_pos][1])\n",
    "\n",
    "    dates_SELL.append(sell_date)\n",
    "\n",
    "transactions['expected_return (yearly)'] = expected_return\n",
    "transactions['date_SELL']=dates_SELL"
   ]
  },
  {
   "cell_type": "markdown",
   "metadata": {
    "id": "tBEde7euzZOO"
   },
   "source": [
    "### Fixing dates (SELL)"
   ]
  },
  {
   "cell_type": "code",
   "execution_count": 32,
   "metadata": {
    "executionInfo": {
     "elapsed": 22991,
     "status": "ok",
     "timestamp": 1609188914889,
     "user": {
      "displayName": "Daniel Dabdub",
      "photoUrl": "https://lh6.googleusercontent.com/-qKoV5H3Fw5M/AAAAAAAAAAI/AAAAAAAAZro/jARb9IjBWek/s64/photo.jpg",
      "userId": "06642504652143825936"
     },
     "user_tz": 360
    },
    "id": "8xQv21va0AGb"
   },
   "outputs": [],
   "source": [
    "day_names=list()\n",
    "\n",
    "\n",
    "\n",
    "for d in dates_SELL:\n",
    "\n",
    "  # dt = datetime.datetime.strptime(d, '%Y-%m-%d')\n",
    "  weekno=d.weekday()\n",
    "\n",
    "  if weekno == 0:\n",
    "    dia='Mon'\n",
    "    day_names.append(dia)\n",
    "  elif weekno==1:\n",
    "    dia='Tue'\n",
    "    day_names.append(dia)\n",
    "  elif weekno==2:\n",
    "    dia='Wed'\n",
    "    day_names.append(dia)\n",
    "  elif weekno==3:\n",
    "    dia='Thu'\n",
    "    day_names.append(dia)\n",
    "  elif weekno==4:\n",
    "    dia='Fri'\n",
    "    day_names.append(dia)\n",
    "  elif weekno==5:\n",
    "    dia='Sat'\n",
    "    day_names.append(dia)\n",
    "  elif weekno==6:\n",
    "    dia='Sun'\n",
    "    day_names.append(dia)\n",
    "\n",
    "transactions['day_SELL']=day_names\n"
   ]
  },
  {
   "cell_type": "code",
   "execution_count": 33,
   "metadata": {
    "executionInfo": {
     "elapsed": 27213,
     "status": "ok",
     "timestamp": 1609188919119,
     "user": {
      "displayName": "Daniel Dabdub",
      "photoUrl": "https://lh6.googleusercontent.com/-qKoV5H3Fw5M/AAAAAAAAAAI/AAAAAAAAZro/jARb9IjBWek/s64/photo.jpg",
      "userId": "06642504652143825936"
     },
     "user_tz": 360
    },
    "id": "rKB4tani0AGc"
   },
   "outputs": [],
   "source": [
    "dates2_SELL=list()\n",
    "days2_SELL=list()\n",
    "\n",
    "#if date is saturday, we are going to push it to friday\n",
    "#if date is sunday, we are going to push it to monday\n",
    "\n",
    "for index,row in transactions.iterrows():\n",
    "  SELL_date = row['date_SELL']\n",
    "  if row['day_SELL']=='Sat':\n",
    "    SELL_date2 = SELL_date - datetime.timedelta(1)\n",
    "    dates2_SELL.append(SELL_date2)\n",
    "\n",
    "    SELL_day2='Fri'\n",
    "    days2_SELL.append(SELL_day2)\n",
    "  elif row['day_SELL']=='Sun':\n",
    "    SELL_date = row['date_SELL']\n",
    "    SELL_date2 = SELL_date + datetime.timedelta(1)\n",
    "    dates2_SELL.append(SELL_date2)\n",
    "\n",
    "    SELL_day2='Mon'\n",
    "    days2_SELL.append(SELL_day2)\n",
    "  else:\n",
    "    SELL_date2=SELL_date\n",
    "    dates2_SELL.append(SELL_date2)\n",
    "    SELL_day2=row['day_SELL']\n",
    "    days2_SELL.append(SELL_day2)\n",
    "\n",
    "\n",
    "transactions['date_SELL_fix']=dates2_SELL\n",
    "transactions['day_SELL_fix']=days2_SELL\n",
    "\n",
    "# transactions=weekend2weekday(transactions,'date_BUY','day_BUY' )"
   ]
  },
  {
   "cell_type": "markdown",
   "metadata": {},
   "source": [
    "### Sharpe Ratio "
   ]
  },
  {
   "cell_type": "code",
   "execution_count": 34,
   "metadata": {},
   "outputs": [
    {
     "output_type": "stream",
     "name": "stdout",
     "text": [
      "190092\n"
     ]
    }
   ],
   "source": [
    "l_sharpe=list()\n",
    "for index,row in transactions.iterrows():\n",
    "    comp=row['company']\n",
    "    buy_date=row['date_BUY_fix']\n",
    "    company_pos=companies.index(comp)\n",
    "    r = l_returns\n",
    "    try:\n",
    "        df_company_returns = pd.DataFrame(l_returns[company_pos])\n",
    "        r=df_company_returns[\"returns\"]\n",
    "        sr = r.mean()/r.std() * np.sqrt(252)\n",
    "        \n",
    "    except :\n",
    "        sr=np.NaN\n",
    "        \n",
    "    l_sharpe.append(sr)\n",
    "    \n",
    "print(len(l_sharpe))\n",
    "\n",
    "\n",
    "transactions['Sharpe Ratio'] = l_sharpe"
   ]
  },
  {
   "cell_type": "code",
   "execution_count": 35,
   "metadata": {
    "code_folding": [],
    "executionInfo": {
     "elapsed": 29566,
     "status": "ok",
     "timestamp": 1609188921500,
     "user": {
      "displayName": "Daniel Dabdub",
      "photoUrl": "https://lh6.googleusercontent.com/-qKoV5H3Fw5M/AAAAAAAAAAI/AAAAAAAAZro/jARb9IjBWek/s64/photo.jpg",
      "userId": "06642504652143825936"
     },
     "user_tz": 360
    },
    "id": "eeaj5M8p0AGd"
   },
   "outputs": [],
   "source": [
    "#checking for holidays (NYSE, NASDAQ is closed)\n",
    "cal = USFederalHolidayCalendar()\n",
    "holidays = cal.holidays(start='2010-10-10', end='2020-10-10').to_pydatetime()\n",
    "# if datetime.datetime(2014,01,01) in holidays:\n",
    "#     print True \n",
    "\n",
    "l_holidays=list()\n",
    "for d in dates2_SELL:\n",
    "  if d in holidays:\n",
    "    holiday='Holiday'\n",
    "    l_holidays.append(holiday)\n",
    "\n",
    "  else:\n",
    "    holiday=''\n",
    "    l_holidays.append(holiday)\n",
    "\n",
    "transactions['holiday_SELL']=l_holidays"
   ]
  },
  {
   "cell_type": "markdown",
   "metadata": {
    "id": "dPCAZSku2UZv"
   },
   "source": [
    "## Prices - SELL"
   ]
  },
  {
   "cell_type": "code",
   "execution_count": 36,
   "metadata": {
    "code_folding": [],
    "executionInfo": {
     "elapsed": 34374,
     "status": "ok",
     "timestamp": 1609188926315,
     "user": {
      "displayName": "Daniel Dabdub",
      "photoUrl": "https://lh6.googleusercontent.com/-qKoV5H3Fw5M/AAAAAAAAAAI/AAAAAAAAZro/jARb9IjBWek/s64/photo.jpg",
      "userId": "06642504652143825936"
     },
     "user_tz": 360
    },
    "id": "aiHO2dB-2UZy"
   },
   "outputs": [],
   "source": [
    "#price when sold\n",
    "\n",
    "l_sell_prices=list()\n",
    "for index,row in transactions.iterrows():\n",
    "  comp=row['company']\n",
    "  sell_date=row['date_SELL_fix']\n",
    "  company_pos=companies.index(comp)\n",
    "  try:\n",
    "    price=l_companies_prices[company_pos].loc[sell_date,'Adj Close']\n",
    "  except :\n",
    "    price=np.NaN\n",
    "\n",
    "  l_sell_prices.append(price)\n",
    "\n",
    "transactions['price_SELL']=l_sell_prices\n"
   ]
  },
  {
   "cell_type": "code",
   "execution_count": 37,
   "metadata": {},
   "outputs": [],
   "source": [
    "l_volatility_sell=list()\n",
    "for index,row in transactions.iterrows():\n",
    "    comp=row['company']\n",
    "    sell_date=row['date_SELL_fix']\n",
    "    company_pos=companies.index(comp)\n",
    "    try:\n",
    "        volatility=l_volatilities[company_pos].loc[sell_date,'Volatility']\n",
    "    except :\n",
    "        volatility=np.NaN\n",
    "\n",
    "        \n",
    "    l_volatility_sell.append(volatility)\n",
    "\n",
    "transactions['Volatility_sell']=l_volatility_sell"
   ]
  },
  {
   "cell_type": "code",
   "execution_count": 38,
   "metadata": {
    "executionInfo": {
     "elapsed": 34374,
     "status": "ok",
     "timestamp": 1609188926324,
     "user": {
      "displayName": "Daniel Dabdub",
      "photoUrl": "https://lh6.googleusercontent.com/-qKoV5H3Fw5M/AAAAAAAAAAI/AAAAAAAAZro/jARb9IjBWek/s64/photo.jpg",
      "userId": "06642504652143825936"
     },
     "user_tz": 360
    },
    "id": "ris0TnWH0AGf"
   },
   "outputs": [],
   "source": [
    "transactions_h=transactions[transactions.holiday_SELL=='Holiday']\n",
    "transactions=transactions[transactions.holiday_SELL!='Holiday']"
   ]
  },
  {
   "cell_type": "markdown",
   "metadata": {},
   "source": [
    "# Dataset transactions - review missing values"
   ]
  },
  {
   "cell_type": "code",
   "execution_count": 39,
   "metadata": {
    "colab": {
     "base_uri": "https://localhost:8080/",
     "height": 593
    },
    "executionInfo": {
     "elapsed": 34363,
     "status": "ok",
     "timestamp": 1609188926326,
     "user": {
      "displayName": "Daniel Dabdub",
      "photoUrl": "https://lh6.googleusercontent.com/-qKoV5H3Fw5M/AAAAAAAAAAI/AAAAAAAAZro/jARb9IjBWek/s64/photo.jpg",
      "userId": "06642504652143825936"
     },
     "user_tz": 360
    },
    "id": "NGLjROHC1p0r",
    "outputId": "ecaa5c8a-6142-445a-83d2-7647546f4f0a"
   },
   "outputs": [
    {
     "output_type": "execute_result",
     "data": {
      "text/plain": [
       "            id company  sector  horizon (days)  amount    date_BUY day_BUY  \\\n",
       "0            1    TSLA    AUTO               7     500  2017-06-14     Wed   \n",
       "1            2      SC    BANK             600    3000  2018-07-09     Mon   \n",
       "2            3      DB    BANK             330    5000  2014-04-03     Thu   \n",
       "3            4    AMZN    TECH              90   15000  2015-01-10     Sat   \n",
       "5            6     BBY  RETAIL              30      50  2016-06-30     Thu   \n",
       "...        ...     ...     ...             ...     ...         ...     ...   \n",
       "199995  199996     KSS  RETAIL              60      50  2015-05-09     Sat   \n",
       "199996  199997      OR    FMCG               7     500  2014-08-16     Sat   \n",
       "199997  199998    AAPL    TECH              90     100  2016-04-14     Thu   \n",
       "199998  199999      DB    BANK             540    1000  2015-08-10     Mon   \n",
       "199999  200000    TSLA    AUTO             600   15000  2015-06-03     Wed   \n",
       "\n",
       "       date_BUY_fix day_BUY_fix holiday_BUY  ...  Volatility_Buy  \\\n",
       "0        2017-06-14         Wed              ...        0.336212   \n",
       "1        2018-07-09         Mon              ...        0.291036   \n",
       "2        2014-04-03         Thu              ...        0.261244   \n",
       "3        2015-01-09         Fri              ...        0.329601   \n",
       "5        2016-06-30         Thu              ...        0.349990   \n",
       "...             ...         ...         ...  ...             ...   \n",
       "199995   2015-05-08         Fri              ...        0.226325   \n",
       "199996   2014-08-15         Fri              ...             NaN   \n",
       "199997   2016-04-14         Thu              ...        0.275282   \n",
       "199998   2015-08-10         Mon              ...        0.292055   \n",
       "199999   2015-06-03         Wed              ...        0.374240   \n",
       "\n",
       "        expected_return (yearly)  date_SELL day_SELL date_SELL_fix  \\\n",
       "0                       0.009891 2017-06-21      Wed    2017-06-21   \n",
       "1                       0.018887 2020-02-29      Sat    2020-02-28   \n",
       "2                      -0.127417 2015-02-27      Fri    2015-02-27   \n",
       "3                       0.081071 2015-04-09      Thu    2015-04-09   \n",
       "5                       0.021559 2016-07-30      Sat    2016-07-29   \n",
       "...                          ...        ...      ...           ...   \n",
       "199995                  0.001127 2015-07-07      Tue    2015-07-07   \n",
       "199996                 -0.001184 2014-08-22      Fri    2014-08-22   \n",
       "199997                  0.060599 2016-07-13      Wed    2016-07-13   \n",
       "199998                 -0.208501 2017-01-31      Tue    2017-01-31   \n",
       "199999                  0.847787 2017-01-23      Mon    2017-01-23   \n",
       "\n",
       "       day_SELL_fix Sharpe Ratio  holiday_SELL  price_SELL  Volatility_sell  \n",
       "0               Wed     1.115540                 75.279999         0.336167  \n",
       "1               Fri     0.132227                 23.415619         0.247294  \n",
       "2               Fri    -0.210016                 30.680777         0.260936  \n",
       "3               Thu     1.129542                383.540009         0.324660  \n",
       "5               Fri     0.462873                 29.844707         0.348505  \n",
       "...             ...          ...           ...         ...              ...  \n",
       "199995          Tue     0.001703                 51.271896         0.263863  \n",
       "199996          Fri     0.158124                       NaN              NaN  \n",
       "199997          Wed     0.997028                 22.695921         0.281343  \n",
       "199998          Tue    -0.210016                 19.146446         0.517937  \n",
       "199999          Mon     1.115540                 49.784000         0.382662  \n",
       "\n",
       "[181298 rows x 21 columns]"
      ],
      "text/html": "<div>\n<style scoped>\n    .dataframe tbody tr th:only-of-type {\n        vertical-align: middle;\n    }\n\n    .dataframe tbody tr th {\n        vertical-align: top;\n    }\n\n    .dataframe thead th {\n        text-align: right;\n    }\n</style>\n<table border=\"1\" class=\"dataframe\">\n  <thead>\n    <tr style=\"text-align: right;\">\n      <th></th>\n      <th>id</th>\n      <th>company</th>\n      <th>sector</th>\n      <th>horizon (days)</th>\n      <th>amount</th>\n      <th>date_BUY</th>\n      <th>day_BUY</th>\n      <th>date_BUY_fix</th>\n      <th>day_BUY_fix</th>\n      <th>holiday_BUY</th>\n      <th>...</th>\n      <th>Volatility_Buy</th>\n      <th>expected_return (yearly)</th>\n      <th>date_SELL</th>\n      <th>day_SELL</th>\n      <th>date_SELL_fix</th>\n      <th>day_SELL_fix</th>\n      <th>Sharpe Ratio</th>\n      <th>holiday_SELL</th>\n      <th>price_SELL</th>\n      <th>Volatility_sell</th>\n    </tr>\n  </thead>\n  <tbody>\n    <tr>\n      <th>0</th>\n      <td>1</td>\n      <td>TSLA</td>\n      <td>AUTO</td>\n      <td>7</td>\n      <td>500</td>\n      <td>2017-06-14</td>\n      <td>Wed</td>\n      <td>2017-06-14</td>\n      <td>Wed</td>\n      <td></td>\n      <td>...</td>\n      <td>0.336212</td>\n      <td>0.009891</td>\n      <td>2017-06-21</td>\n      <td>Wed</td>\n      <td>2017-06-21</td>\n      <td>Wed</td>\n      <td>1.115540</td>\n      <td></td>\n      <td>75.279999</td>\n      <td>0.336167</td>\n    </tr>\n    <tr>\n      <th>1</th>\n      <td>2</td>\n      <td>SC</td>\n      <td>BANK</td>\n      <td>600</td>\n      <td>3000</td>\n      <td>2018-07-09</td>\n      <td>Mon</td>\n      <td>2018-07-09</td>\n      <td>Mon</td>\n      <td></td>\n      <td>...</td>\n      <td>0.291036</td>\n      <td>0.018887</td>\n      <td>2020-02-29</td>\n      <td>Sat</td>\n      <td>2020-02-28</td>\n      <td>Fri</td>\n      <td>0.132227</td>\n      <td></td>\n      <td>23.415619</td>\n      <td>0.247294</td>\n    </tr>\n    <tr>\n      <th>2</th>\n      <td>3</td>\n      <td>DB</td>\n      <td>BANK</td>\n      <td>330</td>\n      <td>5000</td>\n      <td>2014-04-03</td>\n      <td>Thu</td>\n      <td>2014-04-03</td>\n      <td>Thu</td>\n      <td></td>\n      <td>...</td>\n      <td>0.261244</td>\n      <td>-0.127417</td>\n      <td>2015-02-27</td>\n      <td>Fri</td>\n      <td>2015-02-27</td>\n      <td>Fri</td>\n      <td>-0.210016</td>\n      <td></td>\n      <td>30.680777</td>\n      <td>0.260936</td>\n    </tr>\n    <tr>\n      <th>3</th>\n      <td>4</td>\n      <td>AMZN</td>\n      <td>TECH</td>\n      <td>90</td>\n      <td>15000</td>\n      <td>2015-01-10</td>\n      <td>Sat</td>\n      <td>2015-01-09</td>\n      <td>Fri</td>\n      <td></td>\n      <td>...</td>\n      <td>0.329601</td>\n      <td>0.081071</td>\n      <td>2015-04-09</td>\n      <td>Thu</td>\n      <td>2015-04-09</td>\n      <td>Thu</td>\n      <td>1.129542</td>\n      <td></td>\n      <td>383.540009</td>\n      <td>0.324660</td>\n    </tr>\n    <tr>\n      <th>5</th>\n      <td>6</td>\n      <td>BBY</td>\n      <td>RETAIL</td>\n      <td>30</td>\n      <td>50</td>\n      <td>2016-06-30</td>\n      <td>Thu</td>\n      <td>2016-06-30</td>\n      <td>Thu</td>\n      <td></td>\n      <td>...</td>\n      <td>0.349990</td>\n      <td>0.021559</td>\n      <td>2016-07-30</td>\n      <td>Sat</td>\n      <td>2016-07-29</td>\n      <td>Fri</td>\n      <td>0.462873</td>\n      <td></td>\n      <td>29.844707</td>\n      <td>0.348505</td>\n    </tr>\n    <tr>\n      <th>...</th>\n      <td>...</td>\n      <td>...</td>\n      <td>...</td>\n      <td>...</td>\n      <td>...</td>\n      <td>...</td>\n      <td>...</td>\n      <td>...</td>\n      <td>...</td>\n      <td>...</td>\n      <td>...</td>\n      <td>...</td>\n      <td>...</td>\n      <td>...</td>\n      <td>...</td>\n      <td>...</td>\n      <td>...</td>\n      <td>...</td>\n      <td>...</td>\n      <td>...</td>\n      <td>...</td>\n    </tr>\n    <tr>\n      <th>199995</th>\n      <td>199996</td>\n      <td>KSS</td>\n      <td>RETAIL</td>\n      <td>60</td>\n      <td>50</td>\n      <td>2015-05-09</td>\n      <td>Sat</td>\n      <td>2015-05-08</td>\n      <td>Fri</td>\n      <td></td>\n      <td>...</td>\n      <td>0.226325</td>\n      <td>0.001127</td>\n      <td>2015-07-07</td>\n      <td>Tue</td>\n      <td>2015-07-07</td>\n      <td>Tue</td>\n      <td>0.001703</td>\n      <td></td>\n      <td>51.271896</td>\n      <td>0.263863</td>\n    </tr>\n    <tr>\n      <th>199996</th>\n      <td>199997</td>\n      <td>OR</td>\n      <td>FMCG</td>\n      <td>7</td>\n      <td>500</td>\n      <td>2014-08-16</td>\n      <td>Sat</td>\n      <td>2014-08-15</td>\n      <td>Fri</td>\n      <td></td>\n      <td>...</td>\n      <td>NaN</td>\n      <td>-0.001184</td>\n      <td>2014-08-22</td>\n      <td>Fri</td>\n      <td>2014-08-22</td>\n      <td>Fri</td>\n      <td>0.158124</td>\n      <td></td>\n      <td>NaN</td>\n      <td>NaN</td>\n    </tr>\n    <tr>\n      <th>199997</th>\n      <td>199998</td>\n      <td>AAPL</td>\n      <td>TECH</td>\n      <td>90</td>\n      <td>100</td>\n      <td>2016-04-14</td>\n      <td>Thu</td>\n      <td>2016-04-14</td>\n      <td>Thu</td>\n      <td></td>\n      <td>...</td>\n      <td>0.275282</td>\n      <td>0.060599</td>\n      <td>2016-07-13</td>\n      <td>Wed</td>\n      <td>2016-07-13</td>\n      <td>Wed</td>\n      <td>0.997028</td>\n      <td></td>\n      <td>22.695921</td>\n      <td>0.281343</td>\n    </tr>\n    <tr>\n      <th>199998</th>\n      <td>199999</td>\n      <td>DB</td>\n      <td>BANK</td>\n      <td>540</td>\n      <td>1000</td>\n      <td>2015-08-10</td>\n      <td>Mon</td>\n      <td>2015-08-10</td>\n      <td>Mon</td>\n      <td></td>\n      <td>...</td>\n      <td>0.292055</td>\n      <td>-0.208501</td>\n      <td>2017-01-31</td>\n      <td>Tue</td>\n      <td>2017-01-31</td>\n      <td>Tue</td>\n      <td>-0.210016</td>\n      <td></td>\n      <td>19.146446</td>\n      <td>0.517937</td>\n    </tr>\n    <tr>\n      <th>199999</th>\n      <td>200000</td>\n      <td>TSLA</td>\n      <td>AUTO</td>\n      <td>600</td>\n      <td>15000</td>\n      <td>2015-06-03</td>\n      <td>Wed</td>\n      <td>2015-06-03</td>\n      <td>Wed</td>\n      <td></td>\n      <td>...</td>\n      <td>0.374240</td>\n      <td>0.847787</td>\n      <td>2017-01-23</td>\n      <td>Mon</td>\n      <td>2017-01-23</td>\n      <td>Mon</td>\n      <td>1.115540</td>\n      <td></td>\n      <td>49.784000</td>\n      <td>0.382662</td>\n    </tr>\n  </tbody>\n</table>\n<p>181298 rows × 21 columns</p>\n</div>"
     },
     "metadata": {},
     "execution_count": 39
    }
   ],
   "source": [
    "transactions"
   ]
  },
  {
   "cell_type": "code",
   "execution_count": 40,
   "metadata": {},
   "outputs": [
    {
     "output_type": "stream",
     "name": "stdout",
     "text": [
      "29172\n"
     ]
    },
    {
     "output_type": "execute_result",
     "data": {
      "text/plain": [
       "id                              0\n",
       "company                         0\n",
       "sector                          0\n",
       "horizon (days)                  0\n",
       "amount                          0\n",
       "date_BUY                        0\n",
       "day_BUY                         0\n",
       "date_BUY_fix                    0\n",
       "day_BUY_fix                     0\n",
       "holiday_BUY                     0\n",
       "price_BUY                    6617\n",
       "Volatility_Buy              10489\n",
       "expected_return (yearly)        0\n",
       "date_SELL                       0\n",
       "day_SELL                        0\n",
       "date_SELL_fix                   0\n",
       "day_SELL_fix                    0\n",
       "Sharpe Ratio                    0\n",
       "holiday_SELL                    0\n",
       "price_SELL                   4453\n",
       "Volatility_sell              7613\n",
       "dtype: int64"
      ]
     },
     "metadata": {},
     "execution_count": 40
    }
   ],
   "source": [
    "print(transactions.isnull().values.sum())\n",
    "transactions.isnull().sum()\n"
   ]
  },
  {
   "cell_type": "code",
   "execution_count": 41,
   "metadata": {},
   "outputs": [
    {
     "output_type": "stream",
     "name": "stdout",
     "text": [
      "original    : 181298\nwithout NAN : 169720\nrows with NAN:  11578\n"
     ]
    }
   ],
   "source": [
    "df_review=transactions.copy()\n",
    "print('original    :',df_review.shape[0])\n",
    "print('without NAN :',df_review.dropna().shape[0])\n",
    "print('rows with NAN: ',df_review.shape[0]-df_review.dropna().shape[0])"
   ]
  },
  {
   "cell_type": "code",
   "execution_count": 42,
   "metadata": {},
   "outputs": [],
   "source": [
    "transactions=transactions.dropna()"
   ]
  },
  {
   "cell_type": "code",
   "execution_count": 43,
   "metadata": {},
   "outputs": [
    {
     "output_type": "execute_result",
     "data": {
      "text/plain": [
       "(169720, 21)"
      ]
     },
     "metadata": {},
     "execution_count": 43
    }
   ],
   "source": [
    "transactions.shape"
   ]
  },
  {
   "cell_type": "markdown",
   "metadata": {},
   "source": [
    "Now, getting only relevant columns"
   ]
  },
  {
   "cell_type": "code",
   "execution_count": 44,
   "metadata": {
    "executionInfo": {
     "elapsed": 34353,
     "status": "ok",
     "timestamp": 1609188926328,
     "user": {
      "displayName": "Daniel Dabdub",
      "photoUrl": "https://lh6.googleusercontent.com/-qKoV5H3Fw5M/AAAAAAAAAAI/AAAAAAAAZro/jARb9IjBWek/s64/photo.jpg",
      "userId": "06642504652143825936"
     },
     "user_tz": 360
    },
    "id": "b4g2aZUK1s10"
   },
   "outputs": [],
   "source": [
    "transactions_ready=transactions[['company','sector','horizon (days)','amount','date_BUY_fix','date_SELL_fix','price_BUY','price_SELL','Volatility_Buy','Volatility_sell', 'Sharpe Ratio', 'expected_return (yearly)']]"
   ]
  },
  {
   "cell_type": "code",
   "execution_count": 45,
   "metadata": {
    "colab": {
     "base_uri": "https://localhost:8080/",
     "height": 406
    },
    "executionInfo": {
     "elapsed": 34339,
     "status": "ok",
     "timestamp": 1609188926329,
     "user": {
      "displayName": "Daniel Dabdub",
      "photoUrl": "https://lh6.googleusercontent.com/-qKoV5H3Fw5M/AAAAAAAAAAI/AAAAAAAAZro/jARb9IjBWek/s64/photo.jpg",
      "userId": "06642504652143825936"
     },
     "user_tz": 360
    },
    "id": "SUxoiReY2iyP",
    "outputId": "b5cada1c-a704-48cb-d012-dc7967105e65"
   },
   "outputs": [
    {
     "output_type": "execute_result",
     "data": {
      "text/plain": [
       "       company  sector  horizon (days)  amount date_BUY_fix date_SELL_fix  \\\n",
       "0         TSLA    AUTO               7     500   2017-06-14    2017-06-21   \n",
       "1           SC    BANK             600    3000   2018-07-09    2020-02-28   \n",
       "2           DB    BANK             330    5000   2014-04-03    2015-02-27   \n",
       "3         AMZN    TECH              90   15000   2015-01-09    2015-04-09   \n",
       "5          BBY  RETAIL              30      50   2016-06-30    2016-07-29   \n",
       "...        ...     ...             ...     ...          ...           ...   \n",
       "199994    MSFT    TECH              30    4000   2015-12-10    2016-01-08   \n",
       "199995     KSS  RETAIL              60      50   2015-05-08    2015-07-07   \n",
       "199997    AAPL    TECH              90     100   2016-04-14    2016-07-13   \n",
       "199998      DB    BANK             540    1000   2015-08-10    2017-01-31   \n",
       "199999    TSLA    AUTO             600   15000   2015-06-03    2017-01-23   \n",
       "\n",
       "         price_BUY  price_SELL  Volatility_Buy  Volatility_sell  Sharpe Ratio  \\\n",
       "0        76.132004   75.279999        0.336212         0.336167      1.115540   \n",
       "1        17.611959   23.415619        0.291036         0.247294      0.132227   \n",
       "2        39.276001   30.680777        0.261244         0.260936     -0.210016   \n",
       "3       296.929993  383.540009        0.329601         0.324660      1.129542   \n",
       "5        27.180000   29.844707        0.349990         0.348505      0.462873   \n",
       "...            ...         ...             ...              ...           ...   \n",
       "199994   50.435631   47.752792        0.281871         0.281726      0.977717   \n",
       "199995   58.212013   51.271896        0.226325         0.263863      0.001703   \n",
       "199997   26.105249   22.695921        0.275282         0.281343      0.997028   \n",
       "199998   32.734558   19.146446        0.292055         0.517937     -0.210016   \n",
       "199999   49.798000   49.784000        0.374240         0.382662      1.115540   \n",
       "\n",
       "        expected_return (yearly)  \n",
       "0                       0.009891  \n",
       "1                       0.018887  \n",
       "2                      -0.127417  \n",
       "3                       0.081071  \n",
       "5                       0.021559  \n",
       "...                          ...  \n",
       "199994                  0.017937  \n",
       "199995                  0.001127  \n",
       "199997                  0.060599  \n",
       "199998                 -0.208501  \n",
       "199999                  0.847787  \n",
       "\n",
       "[169720 rows x 12 columns]"
      ],
      "text/html": "<div>\n<style scoped>\n    .dataframe tbody tr th:only-of-type {\n        vertical-align: middle;\n    }\n\n    .dataframe tbody tr th {\n        vertical-align: top;\n    }\n\n    .dataframe thead th {\n        text-align: right;\n    }\n</style>\n<table border=\"1\" class=\"dataframe\">\n  <thead>\n    <tr style=\"text-align: right;\">\n      <th></th>\n      <th>company</th>\n      <th>sector</th>\n      <th>horizon (days)</th>\n      <th>amount</th>\n      <th>date_BUY_fix</th>\n      <th>date_SELL_fix</th>\n      <th>price_BUY</th>\n      <th>price_SELL</th>\n      <th>Volatility_Buy</th>\n      <th>Volatility_sell</th>\n      <th>Sharpe Ratio</th>\n      <th>expected_return (yearly)</th>\n    </tr>\n  </thead>\n  <tbody>\n    <tr>\n      <th>0</th>\n      <td>TSLA</td>\n      <td>AUTO</td>\n      <td>7</td>\n      <td>500</td>\n      <td>2017-06-14</td>\n      <td>2017-06-21</td>\n      <td>76.132004</td>\n      <td>75.279999</td>\n      <td>0.336212</td>\n      <td>0.336167</td>\n      <td>1.115540</td>\n      <td>0.009891</td>\n    </tr>\n    <tr>\n      <th>1</th>\n      <td>SC</td>\n      <td>BANK</td>\n      <td>600</td>\n      <td>3000</td>\n      <td>2018-07-09</td>\n      <td>2020-02-28</td>\n      <td>17.611959</td>\n      <td>23.415619</td>\n      <td>0.291036</td>\n      <td>0.247294</td>\n      <td>0.132227</td>\n      <td>0.018887</td>\n    </tr>\n    <tr>\n      <th>2</th>\n      <td>DB</td>\n      <td>BANK</td>\n      <td>330</td>\n      <td>5000</td>\n      <td>2014-04-03</td>\n      <td>2015-02-27</td>\n      <td>39.276001</td>\n      <td>30.680777</td>\n      <td>0.261244</td>\n      <td>0.260936</td>\n      <td>-0.210016</td>\n      <td>-0.127417</td>\n    </tr>\n    <tr>\n      <th>3</th>\n      <td>AMZN</td>\n      <td>TECH</td>\n      <td>90</td>\n      <td>15000</td>\n      <td>2015-01-09</td>\n      <td>2015-04-09</td>\n      <td>296.929993</td>\n      <td>383.540009</td>\n      <td>0.329601</td>\n      <td>0.324660</td>\n      <td>1.129542</td>\n      <td>0.081071</td>\n    </tr>\n    <tr>\n      <th>5</th>\n      <td>BBY</td>\n      <td>RETAIL</td>\n      <td>30</td>\n      <td>50</td>\n      <td>2016-06-30</td>\n      <td>2016-07-29</td>\n      <td>27.180000</td>\n      <td>29.844707</td>\n      <td>0.349990</td>\n      <td>0.348505</td>\n      <td>0.462873</td>\n      <td>0.021559</td>\n    </tr>\n    <tr>\n      <th>...</th>\n      <td>...</td>\n      <td>...</td>\n      <td>...</td>\n      <td>...</td>\n      <td>...</td>\n      <td>...</td>\n      <td>...</td>\n      <td>...</td>\n      <td>...</td>\n      <td>...</td>\n      <td>...</td>\n      <td>...</td>\n    </tr>\n    <tr>\n      <th>199994</th>\n      <td>MSFT</td>\n      <td>TECH</td>\n      <td>30</td>\n      <td>4000</td>\n      <td>2015-12-10</td>\n      <td>2016-01-08</td>\n      <td>50.435631</td>\n      <td>47.752792</td>\n      <td>0.281871</td>\n      <td>0.281726</td>\n      <td>0.977717</td>\n      <td>0.017937</td>\n    </tr>\n    <tr>\n      <th>199995</th>\n      <td>KSS</td>\n      <td>RETAIL</td>\n      <td>60</td>\n      <td>50</td>\n      <td>2015-05-08</td>\n      <td>2015-07-07</td>\n      <td>58.212013</td>\n      <td>51.271896</td>\n      <td>0.226325</td>\n      <td>0.263863</td>\n      <td>0.001703</td>\n      <td>0.001127</td>\n    </tr>\n    <tr>\n      <th>199997</th>\n      <td>AAPL</td>\n      <td>TECH</td>\n      <td>90</td>\n      <td>100</td>\n      <td>2016-04-14</td>\n      <td>2016-07-13</td>\n      <td>26.105249</td>\n      <td>22.695921</td>\n      <td>0.275282</td>\n      <td>0.281343</td>\n      <td>0.997028</td>\n      <td>0.060599</td>\n    </tr>\n    <tr>\n      <th>199998</th>\n      <td>DB</td>\n      <td>BANK</td>\n      <td>540</td>\n      <td>1000</td>\n      <td>2015-08-10</td>\n      <td>2017-01-31</td>\n      <td>32.734558</td>\n      <td>19.146446</td>\n      <td>0.292055</td>\n      <td>0.517937</td>\n      <td>-0.210016</td>\n      <td>-0.208501</td>\n    </tr>\n    <tr>\n      <th>199999</th>\n      <td>TSLA</td>\n      <td>AUTO</td>\n      <td>600</td>\n      <td>15000</td>\n      <td>2015-06-03</td>\n      <td>2017-01-23</td>\n      <td>49.798000</td>\n      <td>49.784000</td>\n      <td>0.374240</td>\n      <td>0.382662</td>\n      <td>1.115540</td>\n      <td>0.847787</td>\n    </tr>\n  </tbody>\n</table>\n<p>169720 rows × 12 columns</p>\n</div>"
     },
     "metadata": {},
     "execution_count": 45
    }
   ],
   "source": [
    "transactions_ready"
   ]
  },
  {
   "cell_type": "markdown",
   "metadata": {},
   "source": [
    "# Evaluating investment performance "
   ]
  },
  {
   "cell_type": "markdown",
   "metadata": {},
   "source": [
    "## Inflation\n",
    "As investors, we seek to at least beat the rate of inflation. "
   ]
  },
  {
   "cell_type": "code",
   "execution_count": 46,
   "metadata": {},
   "outputs": [],
   "source": [
    "inflation_ratios=pd.read_csv('./../datasets/ratios_inflacion.csv', index_col=False)\n",
    "# inflation_ratios['Year'] = pd.to_datetime(inflation_ratios['Year'], format='%Y')\n",
    "\n",
    "inflation_ratios=inflation_ratios.set_index('Year')\n",
    "\n",
    "# inflation.info()"
   ]
  },
  {
   "cell_type": "code",
   "execution_count": 47,
   "metadata": {},
   "outputs": [
    {
     "output_type": "execute_result",
     "data": {
      "text/plain": [
       "1.96"
      ]
     },
     "metadata": {},
     "execution_count": 47
    }
   ],
   "source": [
    "inflation_ratios.loc[2017,'Tasa_inflacion']"
   ]
  },
  {
   "cell_type": "code",
   "execution_count": 48,
   "metadata": {
    "scrolled": true
   },
   "outputs": [],
   "source": [
    "l_inflation=list()\n",
    "for index,row in transactions_ready.iterrows():\n",
    "    buy_date=row['date_BUY_fix']\n",
    "    buy_date_str=str(buy_date)\n",
    "    year=int(buy_date_str[:4])\n",
    "    try:\n",
    "        inflation=inflation_ratios.loc[year,'Tasa_inflacion']\n",
    "    except :\n",
    "        inflation=np.NaN\n",
    "\n",
    "    l_inflation.append(inflation)\n",
    "\n",
    "transactions_ready['inflation']=l_inflation\n"
   ]
  },
  {
   "cell_type": "code",
   "execution_count": 49,
   "metadata": {},
   "outputs": [
    {
     "output_type": "execute_result",
     "data": {
      "text/plain": [
       "<bound method DataFrame.sum of         company  sector  horizon (days)  amount  date_BUY_fix  date_SELL_fix  \\\n",
       "0         False   False           False   False         False          False   \n",
       "1         False   False           False   False         False          False   \n",
       "2         False   False           False   False         False          False   \n",
       "3         False   False           False   False         False          False   \n",
       "5         False   False           False   False         False          False   \n",
       "...         ...     ...             ...     ...           ...            ...   \n",
       "199994    False   False           False   False         False          False   \n",
       "199995    False   False           False   False         False          False   \n",
       "199997    False   False           False   False         False          False   \n",
       "199998    False   False           False   False         False          False   \n",
       "199999    False   False           False   False         False          False   \n",
       "\n",
       "        price_BUY  price_SELL  Volatility_Buy  Volatility_sell  Sharpe Ratio  \\\n",
       "0           False       False           False            False         False   \n",
       "1           False       False           False            False         False   \n",
       "2           False       False           False            False         False   \n",
       "3           False       False           False            False         False   \n",
       "5           False       False           False            False         False   \n",
       "...           ...         ...             ...              ...           ...   \n",
       "199994      False       False           False            False         False   \n",
       "199995      False       False           False            False         False   \n",
       "199997      False       False           False            False         False   \n",
       "199998      False       False           False            False         False   \n",
       "199999      False       False           False            False         False   \n",
       "\n",
       "        expected_return (yearly)  inflation  \n",
       "0                          False      False  \n",
       "1                          False      False  \n",
       "2                          False      False  \n",
       "3                          False      False  \n",
       "5                          False      False  \n",
       "...                          ...        ...  \n",
       "199994                     False      False  \n",
       "199995                     False      False  \n",
       "199997                     False      False  \n",
       "199998                     False      False  \n",
       "199999                     False      False  \n",
       "\n",
       "[169720 rows x 13 columns]>"
      ]
     },
     "metadata": {},
     "execution_count": 49
    }
   ],
   "source": [
    "transactions_ready.isnull().sum"
   ]
  },
  {
   "cell_type": "code",
   "execution_count": 50,
   "metadata": {},
   "outputs": [
    {
     "output_type": "execute_result",
     "data": {
      "text/plain": [
       "       company  sector  horizon (days)  amount date_BUY_fix date_SELL_fix  \\\n",
       "0         TSLA    AUTO               7     500   2017-06-14    2017-06-21   \n",
       "1           SC    BANK             600    3000   2018-07-09    2020-02-28   \n",
       "2           DB    BANK             330    5000   2014-04-03    2015-02-27   \n",
       "3         AMZN    TECH              90   15000   2015-01-09    2015-04-09   \n",
       "5          BBY  RETAIL              30      50   2016-06-30    2016-07-29   \n",
       "...        ...     ...             ...     ...          ...           ...   \n",
       "199994    MSFT    TECH              30    4000   2015-12-10    2016-01-08   \n",
       "199995     KSS  RETAIL              60      50   2015-05-08    2015-07-07   \n",
       "199997    AAPL    TECH              90     100   2016-04-14    2016-07-13   \n",
       "199998      DB    BANK             540    1000   2015-08-10    2017-01-31   \n",
       "199999    TSLA    AUTO             600   15000   2015-06-03    2017-01-23   \n",
       "\n",
       "         price_BUY  price_SELL  Volatility_Buy  Volatility_sell  Sharpe Ratio  \\\n",
       "0        76.132004   75.279999        0.336212         0.336167      1.115540   \n",
       "1        17.611959   23.415619        0.291036         0.247294      0.132227   \n",
       "2        39.276001   30.680777        0.261244         0.260936     -0.210016   \n",
       "3       296.929993  383.540009        0.329601         0.324660      1.129542   \n",
       "5        27.180000   29.844707        0.349990         0.348505      0.462873   \n",
       "...            ...         ...             ...              ...           ...   \n",
       "199994   50.435631   47.752792        0.281871         0.281726      0.977717   \n",
       "199995   58.212013   51.271896        0.226325         0.263863      0.001703   \n",
       "199997   26.105249   22.695921        0.275282         0.281343      0.997028   \n",
       "199998   32.734558   19.146446        0.292055         0.517937     -0.210016   \n",
       "199999   49.798000   49.784000        0.374240         0.382662      1.115540   \n",
       "\n",
       "        expected_return (yearly)  inflation  \n",
       "0                       0.009891       1.96  \n",
       "1                       0.018887       1.68  \n",
       "2                      -0.127417      -0.15  \n",
       "3                       0.081071      -0.50  \n",
       "5                       0.021559      -0.20  \n",
       "...                          ...        ...  \n",
       "199994                  0.017937      -0.50  \n",
       "199995                  0.001127      -0.50  \n",
       "199997                  0.060599      -0.20  \n",
       "199998                 -0.208501      -0.50  \n",
       "199999                  0.847787      -0.50  \n",
       "\n",
       "[169720 rows x 13 columns]"
      ],
      "text/html": "<div>\n<style scoped>\n    .dataframe tbody tr th:only-of-type {\n        vertical-align: middle;\n    }\n\n    .dataframe tbody tr th {\n        vertical-align: top;\n    }\n\n    .dataframe thead th {\n        text-align: right;\n    }\n</style>\n<table border=\"1\" class=\"dataframe\">\n  <thead>\n    <tr style=\"text-align: right;\">\n      <th></th>\n      <th>company</th>\n      <th>sector</th>\n      <th>horizon (days)</th>\n      <th>amount</th>\n      <th>date_BUY_fix</th>\n      <th>date_SELL_fix</th>\n      <th>price_BUY</th>\n      <th>price_SELL</th>\n      <th>Volatility_Buy</th>\n      <th>Volatility_sell</th>\n      <th>Sharpe Ratio</th>\n      <th>expected_return (yearly)</th>\n      <th>inflation</th>\n    </tr>\n  </thead>\n  <tbody>\n    <tr>\n      <th>0</th>\n      <td>TSLA</td>\n      <td>AUTO</td>\n      <td>7</td>\n      <td>500</td>\n      <td>2017-06-14</td>\n      <td>2017-06-21</td>\n      <td>76.132004</td>\n      <td>75.279999</td>\n      <td>0.336212</td>\n      <td>0.336167</td>\n      <td>1.115540</td>\n      <td>0.009891</td>\n      <td>1.96</td>\n    </tr>\n    <tr>\n      <th>1</th>\n      <td>SC</td>\n      <td>BANK</td>\n      <td>600</td>\n      <td>3000</td>\n      <td>2018-07-09</td>\n      <td>2020-02-28</td>\n      <td>17.611959</td>\n      <td>23.415619</td>\n      <td>0.291036</td>\n      <td>0.247294</td>\n      <td>0.132227</td>\n      <td>0.018887</td>\n      <td>1.68</td>\n    </tr>\n    <tr>\n      <th>2</th>\n      <td>DB</td>\n      <td>BANK</td>\n      <td>330</td>\n      <td>5000</td>\n      <td>2014-04-03</td>\n      <td>2015-02-27</td>\n      <td>39.276001</td>\n      <td>30.680777</td>\n      <td>0.261244</td>\n      <td>0.260936</td>\n      <td>-0.210016</td>\n      <td>-0.127417</td>\n      <td>-0.15</td>\n    </tr>\n    <tr>\n      <th>3</th>\n      <td>AMZN</td>\n      <td>TECH</td>\n      <td>90</td>\n      <td>15000</td>\n      <td>2015-01-09</td>\n      <td>2015-04-09</td>\n      <td>296.929993</td>\n      <td>383.540009</td>\n      <td>0.329601</td>\n      <td>0.324660</td>\n      <td>1.129542</td>\n      <td>0.081071</td>\n      <td>-0.50</td>\n    </tr>\n    <tr>\n      <th>5</th>\n      <td>BBY</td>\n      <td>RETAIL</td>\n      <td>30</td>\n      <td>50</td>\n      <td>2016-06-30</td>\n      <td>2016-07-29</td>\n      <td>27.180000</td>\n      <td>29.844707</td>\n      <td>0.349990</td>\n      <td>0.348505</td>\n      <td>0.462873</td>\n      <td>0.021559</td>\n      <td>-0.20</td>\n    </tr>\n    <tr>\n      <th>...</th>\n      <td>...</td>\n      <td>...</td>\n      <td>...</td>\n      <td>...</td>\n      <td>...</td>\n      <td>...</td>\n      <td>...</td>\n      <td>...</td>\n      <td>...</td>\n      <td>...</td>\n      <td>...</td>\n      <td>...</td>\n      <td>...</td>\n    </tr>\n    <tr>\n      <th>199994</th>\n      <td>MSFT</td>\n      <td>TECH</td>\n      <td>30</td>\n      <td>4000</td>\n      <td>2015-12-10</td>\n      <td>2016-01-08</td>\n      <td>50.435631</td>\n      <td>47.752792</td>\n      <td>0.281871</td>\n      <td>0.281726</td>\n      <td>0.977717</td>\n      <td>0.017937</td>\n      <td>-0.50</td>\n    </tr>\n    <tr>\n      <th>199995</th>\n      <td>KSS</td>\n      <td>RETAIL</td>\n      <td>60</td>\n      <td>50</td>\n      <td>2015-05-08</td>\n      <td>2015-07-07</td>\n      <td>58.212013</td>\n      <td>51.271896</td>\n      <td>0.226325</td>\n      <td>0.263863</td>\n      <td>0.001703</td>\n      <td>0.001127</td>\n      <td>-0.50</td>\n    </tr>\n    <tr>\n      <th>199997</th>\n      <td>AAPL</td>\n      <td>TECH</td>\n      <td>90</td>\n      <td>100</td>\n      <td>2016-04-14</td>\n      <td>2016-07-13</td>\n      <td>26.105249</td>\n      <td>22.695921</td>\n      <td>0.275282</td>\n      <td>0.281343</td>\n      <td>0.997028</td>\n      <td>0.060599</td>\n      <td>-0.20</td>\n    </tr>\n    <tr>\n      <th>199998</th>\n      <td>DB</td>\n      <td>BANK</td>\n      <td>540</td>\n      <td>1000</td>\n      <td>2015-08-10</td>\n      <td>2017-01-31</td>\n      <td>32.734558</td>\n      <td>19.146446</td>\n      <td>0.292055</td>\n      <td>0.517937</td>\n      <td>-0.210016</td>\n      <td>-0.208501</td>\n      <td>-0.50</td>\n    </tr>\n    <tr>\n      <th>199999</th>\n      <td>TSLA</td>\n      <td>AUTO</td>\n      <td>600</td>\n      <td>15000</td>\n      <td>2015-06-03</td>\n      <td>2017-01-23</td>\n      <td>49.798000</td>\n      <td>49.784000</td>\n      <td>0.374240</td>\n      <td>0.382662</td>\n      <td>1.115540</td>\n      <td>0.847787</td>\n      <td>-0.50</td>\n    </tr>\n  </tbody>\n</table>\n<p>169720 rows × 13 columns</p>\n</div>"
     },
     "metadata": {},
     "execution_count": 50
    }
   ],
   "source": [
    "transactions_ready"
   ]
  },
  {
   "cell_type": "markdown",
   "metadata": {
    "id": "TCtM8tNYNmYm"
   },
   "source": [
    "## Real Profit/Loss (Rentabilidad Real)"
   ]
  },
  {
   "cell_type": "code",
   "execution_count": 51,
   "metadata": {
    "executionInfo": {
     "elapsed": 34319,
     "status": "ok",
     "timestamp": 1609188926331,
     "user": {
      "displayName": "Daniel Dabdub",
      "photoUrl": "https://lh6.googleusercontent.com/-qKoV5H3Fw5M/AAAAAAAAAAI/AAAAAAAAZro/jARb9IjBWek/s64/photo.jpg",
      "userId": "06642504652143825936"
     },
     "user_tz": 360
    },
    "id": "pI9ZvEawJOzF"
   },
   "outputs": [],
   "source": [
    "    transactions_ready['nominal_return']=(transactions_ready['price_SELL']-transactions_ready['price_BUY'])/transactions_ready['price_BUY']\n"
   ]
  },
  {
   "cell_type": "code",
   "execution_count": 52,
   "metadata": {
    "colab": {
     "base_uri": "https://localhost:8080/",
     "height": 406
    },
    "executionInfo": {
     "elapsed": 34576,
     "status": "ok",
     "timestamp": 1609188926600,
     "user": {
      "displayName": "Daniel Dabdub",
      "photoUrl": "https://lh6.googleusercontent.com/-qKoV5H3Fw5M/AAAAAAAAAAI/AAAAAAAAZro/jARb9IjBWek/s64/photo.jpg",
      "userId": "06642504652143825936"
     },
     "user_tz": 360
    },
    "id": "HfBIf6V73S-r",
    "outputId": "fd9882ac-b239-4b3f-95c0-d15c8271e882"
   },
   "outputs": [
    {
     "output_type": "execute_result",
     "data": {
      "text/plain": [
       "       company  sector  horizon (days)  amount date_BUY_fix date_SELL_fix  \\\n",
       "0         TSLA    AUTO               7     500   2017-06-14    2017-06-21   \n",
       "1           SC    BANK             600    3000   2018-07-09    2020-02-28   \n",
       "2           DB    BANK             330    5000   2014-04-03    2015-02-27   \n",
       "3         AMZN    TECH              90   15000   2015-01-09    2015-04-09   \n",
       "5          BBY  RETAIL              30      50   2016-06-30    2016-07-29   \n",
       "...        ...     ...             ...     ...          ...           ...   \n",
       "199994    MSFT    TECH              30    4000   2015-12-10    2016-01-08   \n",
       "199995     KSS  RETAIL              60      50   2015-05-08    2015-07-07   \n",
       "199997    AAPL    TECH              90     100   2016-04-14    2016-07-13   \n",
       "199998      DB    BANK             540    1000   2015-08-10    2017-01-31   \n",
       "199999    TSLA    AUTO             600   15000   2015-06-03    2017-01-23   \n",
       "\n",
       "         price_BUY  price_SELL  Volatility_Buy  Volatility_sell  Sharpe Ratio  \\\n",
       "0        76.132004   75.279999        0.336212         0.336167      1.115540   \n",
       "1        17.611959   23.415619        0.291036         0.247294      0.132227   \n",
       "2        39.276001   30.680777        0.261244         0.260936     -0.210016   \n",
       "3       296.929993  383.540009        0.329601         0.324660      1.129542   \n",
       "5        27.180000   29.844707        0.349990         0.348505      0.462873   \n",
       "...            ...         ...             ...              ...           ...   \n",
       "199994   50.435631   47.752792        0.281871         0.281726      0.977717   \n",
       "199995   58.212013   51.271896        0.226325         0.263863      0.001703   \n",
       "199997   26.105249   22.695921        0.275282         0.281343      0.997028   \n",
       "199998   32.734558   19.146446        0.292055         0.517937     -0.210016   \n",
       "199999   49.798000   49.784000        0.374240         0.382662      1.115540   \n",
       "\n",
       "        expected_return (yearly)  inflation  nominal_return  \n",
       "0                       0.009891       1.96       -0.011191  \n",
       "1                       0.018887       1.68        0.329529  \n",
       "2                      -0.127417      -0.15       -0.218842  \n",
       "3                       0.081071      -0.50        0.291685  \n",
       "5                       0.021559      -0.20        0.098039  \n",
       "...                          ...        ...             ...  \n",
       "199994                  0.017937      -0.50       -0.053193  \n",
       "199995                  0.001127      -0.50       -0.119221  \n",
       "199997                  0.060599      -0.20       -0.130599  \n",
       "199998                 -0.208501      -0.50       -0.415100  \n",
       "199999                  0.847787      -0.50       -0.000281  \n",
       "\n",
       "[169720 rows x 14 columns]"
      ],
      "text/html": "<div>\n<style scoped>\n    .dataframe tbody tr th:only-of-type {\n        vertical-align: middle;\n    }\n\n    .dataframe tbody tr th {\n        vertical-align: top;\n    }\n\n    .dataframe thead th {\n        text-align: right;\n    }\n</style>\n<table border=\"1\" class=\"dataframe\">\n  <thead>\n    <tr style=\"text-align: right;\">\n      <th></th>\n      <th>company</th>\n      <th>sector</th>\n      <th>horizon (days)</th>\n      <th>amount</th>\n      <th>date_BUY_fix</th>\n      <th>date_SELL_fix</th>\n      <th>price_BUY</th>\n      <th>price_SELL</th>\n      <th>Volatility_Buy</th>\n      <th>Volatility_sell</th>\n      <th>Sharpe Ratio</th>\n      <th>expected_return (yearly)</th>\n      <th>inflation</th>\n      <th>nominal_return</th>\n    </tr>\n  </thead>\n  <tbody>\n    <tr>\n      <th>0</th>\n      <td>TSLA</td>\n      <td>AUTO</td>\n      <td>7</td>\n      <td>500</td>\n      <td>2017-06-14</td>\n      <td>2017-06-21</td>\n      <td>76.132004</td>\n      <td>75.279999</td>\n      <td>0.336212</td>\n      <td>0.336167</td>\n      <td>1.115540</td>\n      <td>0.009891</td>\n      <td>1.96</td>\n      <td>-0.011191</td>\n    </tr>\n    <tr>\n      <th>1</th>\n      <td>SC</td>\n      <td>BANK</td>\n      <td>600</td>\n      <td>3000</td>\n      <td>2018-07-09</td>\n      <td>2020-02-28</td>\n      <td>17.611959</td>\n      <td>23.415619</td>\n      <td>0.291036</td>\n      <td>0.247294</td>\n      <td>0.132227</td>\n      <td>0.018887</td>\n      <td>1.68</td>\n      <td>0.329529</td>\n    </tr>\n    <tr>\n      <th>2</th>\n      <td>DB</td>\n      <td>BANK</td>\n      <td>330</td>\n      <td>5000</td>\n      <td>2014-04-03</td>\n      <td>2015-02-27</td>\n      <td>39.276001</td>\n      <td>30.680777</td>\n      <td>0.261244</td>\n      <td>0.260936</td>\n      <td>-0.210016</td>\n      <td>-0.127417</td>\n      <td>-0.15</td>\n      <td>-0.218842</td>\n    </tr>\n    <tr>\n      <th>3</th>\n      <td>AMZN</td>\n      <td>TECH</td>\n      <td>90</td>\n      <td>15000</td>\n      <td>2015-01-09</td>\n      <td>2015-04-09</td>\n      <td>296.929993</td>\n      <td>383.540009</td>\n      <td>0.329601</td>\n      <td>0.324660</td>\n      <td>1.129542</td>\n      <td>0.081071</td>\n      <td>-0.50</td>\n      <td>0.291685</td>\n    </tr>\n    <tr>\n      <th>5</th>\n      <td>BBY</td>\n      <td>RETAIL</td>\n      <td>30</td>\n      <td>50</td>\n      <td>2016-06-30</td>\n      <td>2016-07-29</td>\n      <td>27.180000</td>\n      <td>29.844707</td>\n      <td>0.349990</td>\n      <td>0.348505</td>\n      <td>0.462873</td>\n      <td>0.021559</td>\n      <td>-0.20</td>\n      <td>0.098039</td>\n    </tr>\n    <tr>\n      <th>...</th>\n      <td>...</td>\n      <td>...</td>\n      <td>...</td>\n      <td>...</td>\n      <td>...</td>\n      <td>...</td>\n      <td>...</td>\n      <td>...</td>\n      <td>...</td>\n      <td>...</td>\n      <td>...</td>\n      <td>...</td>\n      <td>...</td>\n      <td>...</td>\n    </tr>\n    <tr>\n      <th>199994</th>\n      <td>MSFT</td>\n      <td>TECH</td>\n      <td>30</td>\n      <td>4000</td>\n      <td>2015-12-10</td>\n      <td>2016-01-08</td>\n      <td>50.435631</td>\n      <td>47.752792</td>\n      <td>0.281871</td>\n      <td>0.281726</td>\n      <td>0.977717</td>\n      <td>0.017937</td>\n      <td>-0.50</td>\n      <td>-0.053193</td>\n    </tr>\n    <tr>\n      <th>199995</th>\n      <td>KSS</td>\n      <td>RETAIL</td>\n      <td>60</td>\n      <td>50</td>\n      <td>2015-05-08</td>\n      <td>2015-07-07</td>\n      <td>58.212013</td>\n      <td>51.271896</td>\n      <td>0.226325</td>\n      <td>0.263863</td>\n      <td>0.001703</td>\n      <td>0.001127</td>\n      <td>-0.50</td>\n      <td>-0.119221</td>\n    </tr>\n    <tr>\n      <th>199997</th>\n      <td>AAPL</td>\n      <td>TECH</td>\n      <td>90</td>\n      <td>100</td>\n      <td>2016-04-14</td>\n      <td>2016-07-13</td>\n      <td>26.105249</td>\n      <td>22.695921</td>\n      <td>0.275282</td>\n      <td>0.281343</td>\n      <td>0.997028</td>\n      <td>0.060599</td>\n      <td>-0.20</td>\n      <td>-0.130599</td>\n    </tr>\n    <tr>\n      <th>199998</th>\n      <td>DB</td>\n      <td>BANK</td>\n      <td>540</td>\n      <td>1000</td>\n      <td>2015-08-10</td>\n      <td>2017-01-31</td>\n      <td>32.734558</td>\n      <td>19.146446</td>\n      <td>0.292055</td>\n      <td>0.517937</td>\n      <td>-0.210016</td>\n      <td>-0.208501</td>\n      <td>-0.50</td>\n      <td>-0.415100</td>\n    </tr>\n    <tr>\n      <th>199999</th>\n      <td>TSLA</td>\n      <td>AUTO</td>\n      <td>600</td>\n      <td>15000</td>\n      <td>2015-06-03</td>\n      <td>2017-01-23</td>\n      <td>49.798000</td>\n      <td>49.784000</td>\n      <td>0.374240</td>\n      <td>0.382662</td>\n      <td>1.115540</td>\n      <td>0.847787</td>\n      <td>-0.50</td>\n      <td>-0.000281</td>\n    </tr>\n  </tbody>\n</table>\n<p>169720 rows × 14 columns</p>\n</div>"
     },
     "metadata": {},
     "execution_count": 52
    }
   ],
   "source": [
    "transactions_ready"
   ]
  },
  {
   "cell_type": "code",
   "execution_count": 53,
   "metadata": {},
   "outputs": [
    {
     "output_type": "execute_result",
     "data": {
      "text/plain": [
       "company                     0\n",
       "sector                      0\n",
       "horizon (days)              0\n",
       "amount                      0\n",
       "date_BUY_fix                0\n",
       "date_SELL_fix               0\n",
       "price_BUY                   0\n",
       "price_SELL                  0\n",
       "Volatility_Buy              0\n",
       "Volatility_sell             0\n",
       "Sharpe Ratio                0\n",
       "expected_return (yearly)    0\n",
       "inflation                   0\n",
       "nominal_return              0\n",
       "dtype: int64"
      ]
     },
     "metadata": {},
     "execution_count": 53
    }
   ],
   "source": [
    "transactions_ready.isnull().sum()"
   ]
  },
  {
   "cell_type": "code",
   "execution_count": 54,
   "metadata": {
    "executionInfo": {
     "elapsed": 37970,
     "status": "ok",
     "timestamp": 1609188930005,
     "user": {
      "displayName": "Daniel Dabdub",
      "photoUrl": "https://lh6.googleusercontent.com/-qKoV5H3Fw5M/AAAAAAAAAAI/AAAAAAAAZro/jARb9IjBWek/s64/photo.jpg",
      "userId": "06642504652143825936"
     },
     "user_tz": 360
    },
    "id": "oMPPkBF43WS6"
   },
   "outputs": [],
   "source": [
    "transactions_ready['investment']=''\n",
    "investments=list()\n",
    "for index, row in transactions_ready.iterrows():\n",
    "    inflation=row['inflation']\n",
    "    if inflation <0:\n",
    "        if row['nominal_return']>0:\n",
    "            inv='GOOD'\n",
    "            investments.append(inv)\n",
    "        elif row['nominal_return']<0:\n",
    "            inv='BAD'\n",
    "            investments.append(inv)\n",
    "        else:\n",
    "            inv='BAD'\n",
    "            investments.append(inv)\n",
    "    else:\n",
    "        if row['nominal_return']>inflation:\n",
    "            inv='GOOD'\n",
    "            investments.append(inv)\n",
    "        elif row['nominal_return']<inflation:\n",
    "            inv='BAD'\n",
    "            investments.append(inv)\n",
    "        else:\n",
    "            inv='BAD'\n",
    "            investments.append(inv)\n",
    "        \n",
    "\n",
    "transactions_ready['investment']=investments"
   ]
  },
  {
   "cell_type": "code",
   "execution_count": 55,
   "metadata": {
    "colab": {
     "base_uri": "https://localhost:8080/"
    },
    "executionInfo": {
     "elapsed": 37970,
     "status": "ok",
     "timestamp": 1609188930010,
     "user": {
      "displayName": "Daniel Dabdub",
      "photoUrl": "https://lh6.googleusercontent.com/-qKoV5H3Fw5M/AAAAAAAAAAI/AAAAAAAAZro/jARb9IjBWek/s64/photo.jpg",
      "userId": "06642504652143825936"
     },
     "user_tz": 360
    },
    "id": "HLxLIHoC7hdq",
    "outputId": "12a5a09a-6740-431c-bd45-1102248559df"
   },
   "outputs": [
    {
     "output_type": "execute_result",
     "data": {
      "text/plain": [
       "(169720, 15)"
      ]
     },
     "metadata": {},
     "execution_count": 55
    }
   ],
   "source": [
    "transactions_ready.shape"
   ]
  },
  {
   "cell_type": "code",
   "execution_count": 56,
   "metadata": {
    "colab": {
     "base_uri": "https://localhost:8080/",
     "height": 406
    },
    "executionInfo": {
     "elapsed": 37962,
     "status": "ok",
     "timestamp": 1609188930012,
     "user": {
      "displayName": "Daniel Dabdub",
      "photoUrl": "https://lh6.googleusercontent.com/-qKoV5H3Fw5M/AAAAAAAAAAI/AAAAAAAAZro/jARb9IjBWek/s64/photo.jpg",
      "userId": "06642504652143825936"
     },
     "user_tz": 360
    },
    "id": "KuB-l84A5UBj",
    "outputId": "c10c22e3-1d19-4cfb-f88a-339746337716",
    "scrolled": true
   },
   "outputs": [
    {
     "output_type": "execute_result",
     "data": {
      "text/plain": [
       "       company  sector  horizon (days)  amount date_BUY_fix date_SELL_fix  \\\n",
       "0         TSLA    AUTO               7     500   2017-06-14    2017-06-21   \n",
       "1           SC    BANK             600    3000   2018-07-09    2020-02-28   \n",
       "2           DB    BANK             330    5000   2014-04-03    2015-02-27   \n",
       "3         AMZN    TECH              90   15000   2015-01-09    2015-04-09   \n",
       "5          BBY  RETAIL              30      50   2016-06-30    2016-07-29   \n",
       "...        ...     ...             ...     ...          ...           ...   \n",
       "199994    MSFT    TECH              30    4000   2015-12-10    2016-01-08   \n",
       "199995     KSS  RETAIL              60      50   2015-05-08    2015-07-07   \n",
       "199997    AAPL    TECH              90     100   2016-04-14    2016-07-13   \n",
       "199998      DB    BANK             540    1000   2015-08-10    2017-01-31   \n",
       "199999    TSLA    AUTO             600   15000   2015-06-03    2017-01-23   \n",
       "\n",
       "         price_BUY  price_SELL  Volatility_Buy  Volatility_sell  Sharpe Ratio  \\\n",
       "0        76.132004   75.279999        0.336212         0.336167      1.115540   \n",
       "1        17.611959   23.415619        0.291036         0.247294      0.132227   \n",
       "2        39.276001   30.680777        0.261244         0.260936     -0.210016   \n",
       "3       296.929993  383.540009        0.329601         0.324660      1.129542   \n",
       "5        27.180000   29.844707        0.349990         0.348505      0.462873   \n",
       "...            ...         ...             ...              ...           ...   \n",
       "199994   50.435631   47.752792        0.281871         0.281726      0.977717   \n",
       "199995   58.212013   51.271896        0.226325         0.263863      0.001703   \n",
       "199997   26.105249   22.695921        0.275282         0.281343      0.997028   \n",
       "199998   32.734558   19.146446        0.292055         0.517937     -0.210016   \n",
       "199999   49.798000   49.784000        0.374240         0.382662      1.115540   \n",
       "\n",
       "        expected_return (yearly)  inflation  nominal_return investment  \n",
       "0                       0.009891       1.96       -0.011191        BAD  \n",
       "1                       0.018887       1.68        0.329529        BAD  \n",
       "2                      -0.127417      -0.15       -0.218842        BAD  \n",
       "3                       0.081071      -0.50        0.291685       GOOD  \n",
       "5                       0.021559      -0.20        0.098039       GOOD  \n",
       "...                          ...        ...             ...        ...  \n",
       "199994                  0.017937      -0.50       -0.053193        BAD  \n",
       "199995                  0.001127      -0.50       -0.119221        BAD  \n",
       "199997                  0.060599      -0.20       -0.130599        BAD  \n",
       "199998                 -0.208501      -0.50       -0.415100        BAD  \n",
       "199999                  0.847787      -0.50       -0.000281        BAD  \n",
       "\n",
       "[169720 rows x 15 columns]"
      ],
      "text/html": "<div>\n<style scoped>\n    .dataframe tbody tr th:only-of-type {\n        vertical-align: middle;\n    }\n\n    .dataframe tbody tr th {\n        vertical-align: top;\n    }\n\n    .dataframe thead th {\n        text-align: right;\n    }\n</style>\n<table border=\"1\" class=\"dataframe\">\n  <thead>\n    <tr style=\"text-align: right;\">\n      <th></th>\n      <th>company</th>\n      <th>sector</th>\n      <th>horizon (days)</th>\n      <th>amount</th>\n      <th>date_BUY_fix</th>\n      <th>date_SELL_fix</th>\n      <th>price_BUY</th>\n      <th>price_SELL</th>\n      <th>Volatility_Buy</th>\n      <th>Volatility_sell</th>\n      <th>Sharpe Ratio</th>\n      <th>expected_return (yearly)</th>\n      <th>inflation</th>\n      <th>nominal_return</th>\n      <th>investment</th>\n    </tr>\n  </thead>\n  <tbody>\n    <tr>\n      <th>0</th>\n      <td>TSLA</td>\n      <td>AUTO</td>\n      <td>7</td>\n      <td>500</td>\n      <td>2017-06-14</td>\n      <td>2017-06-21</td>\n      <td>76.132004</td>\n      <td>75.279999</td>\n      <td>0.336212</td>\n      <td>0.336167</td>\n      <td>1.115540</td>\n      <td>0.009891</td>\n      <td>1.96</td>\n      <td>-0.011191</td>\n      <td>BAD</td>\n    </tr>\n    <tr>\n      <th>1</th>\n      <td>SC</td>\n      <td>BANK</td>\n      <td>600</td>\n      <td>3000</td>\n      <td>2018-07-09</td>\n      <td>2020-02-28</td>\n      <td>17.611959</td>\n      <td>23.415619</td>\n      <td>0.291036</td>\n      <td>0.247294</td>\n      <td>0.132227</td>\n      <td>0.018887</td>\n      <td>1.68</td>\n      <td>0.329529</td>\n      <td>BAD</td>\n    </tr>\n    <tr>\n      <th>2</th>\n      <td>DB</td>\n      <td>BANK</td>\n      <td>330</td>\n      <td>5000</td>\n      <td>2014-04-03</td>\n      <td>2015-02-27</td>\n      <td>39.276001</td>\n      <td>30.680777</td>\n      <td>0.261244</td>\n      <td>0.260936</td>\n      <td>-0.210016</td>\n      <td>-0.127417</td>\n      <td>-0.15</td>\n      <td>-0.218842</td>\n      <td>BAD</td>\n    </tr>\n    <tr>\n      <th>3</th>\n      <td>AMZN</td>\n      <td>TECH</td>\n      <td>90</td>\n      <td>15000</td>\n      <td>2015-01-09</td>\n      <td>2015-04-09</td>\n      <td>296.929993</td>\n      <td>383.540009</td>\n      <td>0.329601</td>\n      <td>0.324660</td>\n      <td>1.129542</td>\n      <td>0.081071</td>\n      <td>-0.50</td>\n      <td>0.291685</td>\n      <td>GOOD</td>\n    </tr>\n    <tr>\n      <th>5</th>\n      <td>BBY</td>\n      <td>RETAIL</td>\n      <td>30</td>\n      <td>50</td>\n      <td>2016-06-30</td>\n      <td>2016-07-29</td>\n      <td>27.180000</td>\n      <td>29.844707</td>\n      <td>0.349990</td>\n      <td>0.348505</td>\n      <td>0.462873</td>\n      <td>0.021559</td>\n      <td>-0.20</td>\n      <td>0.098039</td>\n      <td>GOOD</td>\n    </tr>\n    <tr>\n      <th>...</th>\n      <td>...</td>\n      <td>...</td>\n      <td>...</td>\n      <td>...</td>\n      <td>...</td>\n      <td>...</td>\n      <td>...</td>\n      <td>...</td>\n      <td>...</td>\n      <td>...</td>\n      <td>...</td>\n      <td>...</td>\n      <td>...</td>\n      <td>...</td>\n      <td>...</td>\n    </tr>\n    <tr>\n      <th>199994</th>\n      <td>MSFT</td>\n      <td>TECH</td>\n      <td>30</td>\n      <td>4000</td>\n      <td>2015-12-10</td>\n      <td>2016-01-08</td>\n      <td>50.435631</td>\n      <td>47.752792</td>\n      <td>0.281871</td>\n      <td>0.281726</td>\n      <td>0.977717</td>\n      <td>0.017937</td>\n      <td>-0.50</td>\n      <td>-0.053193</td>\n      <td>BAD</td>\n    </tr>\n    <tr>\n      <th>199995</th>\n      <td>KSS</td>\n      <td>RETAIL</td>\n      <td>60</td>\n      <td>50</td>\n      <td>2015-05-08</td>\n      <td>2015-07-07</td>\n      <td>58.212013</td>\n      <td>51.271896</td>\n      <td>0.226325</td>\n      <td>0.263863</td>\n      <td>0.001703</td>\n      <td>0.001127</td>\n      <td>-0.50</td>\n      <td>-0.119221</td>\n      <td>BAD</td>\n    </tr>\n    <tr>\n      <th>199997</th>\n      <td>AAPL</td>\n      <td>TECH</td>\n      <td>90</td>\n      <td>100</td>\n      <td>2016-04-14</td>\n      <td>2016-07-13</td>\n      <td>26.105249</td>\n      <td>22.695921</td>\n      <td>0.275282</td>\n      <td>0.281343</td>\n      <td>0.997028</td>\n      <td>0.060599</td>\n      <td>-0.20</td>\n      <td>-0.130599</td>\n      <td>BAD</td>\n    </tr>\n    <tr>\n      <th>199998</th>\n      <td>DB</td>\n      <td>BANK</td>\n      <td>540</td>\n      <td>1000</td>\n      <td>2015-08-10</td>\n      <td>2017-01-31</td>\n      <td>32.734558</td>\n      <td>19.146446</td>\n      <td>0.292055</td>\n      <td>0.517937</td>\n      <td>-0.210016</td>\n      <td>-0.208501</td>\n      <td>-0.50</td>\n      <td>-0.415100</td>\n      <td>BAD</td>\n    </tr>\n    <tr>\n      <th>199999</th>\n      <td>TSLA</td>\n      <td>AUTO</td>\n      <td>600</td>\n      <td>15000</td>\n      <td>2015-06-03</td>\n      <td>2017-01-23</td>\n      <td>49.798000</td>\n      <td>49.784000</td>\n      <td>0.374240</td>\n      <td>0.382662</td>\n      <td>1.115540</td>\n      <td>0.847787</td>\n      <td>-0.50</td>\n      <td>-0.000281</td>\n      <td>BAD</td>\n    </tr>\n  </tbody>\n</table>\n<p>169720 rows × 15 columns</p>\n</div>"
     },
     "metadata": {},
     "execution_count": 56
    }
   ],
   "source": [
    "transactions_ready"
   ]
  },
  {
   "cell_type": "code",
   "execution_count": 57,
   "metadata": {
    "colab": {
     "base_uri": "https://localhost:8080/"
    },
    "executionInfo": {
     "elapsed": 37954,
     "status": "ok",
     "timestamp": 1609188930014,
     "user": {
      "displayName": "Daniel Dabdub",
      "photoUrl": "https://lh6.googleusercontent.com/-qKoV5H3Fw5M/AAAAAAAAAAI/AAAAAAAAZro/jARb9IjBWek/s64/photo.jpg",
      "userId": "06642504652143825936"
     },
     "user_tz": 360
    },
    "id": "LRm2-G1j5vDK",
    "outputId": "9a0958f9-29a5-425f-937c-f682b59a0b56"
   },
   "outputs": [
    {
     "output_type": "execute_result",
     "data": {
      "text/plain": [
       "BAD     108210\n",
       "GOOD     61510\n",
       "Name: investment, dtype: int64"
      ]
     },
     "metadata": {},
     "execution_count": 57
    }
   ],
   "source": [
    "transactions_ready.investment.value_counts()"
   ]
  },
  {
   "cell_type": "markdown",
   "metadata": {},
   "source": [
    "# Ratios"
   ]
  },
  {
   "cell_type": "markdown",
   "metadata": {},
   "source": [
    "## ESG Ratios"
   ]
  },
  {
   "cell_type": "code",
   "execution_count": 58,
   "metadata": {},
   "outputs": [
    {
     "output_type": "execute_result",
     "data": {
      "text/plain": [
       "28"
      ]
     },
     "metadata": {},
     "execution_count": 58
    }
   ],
   "source": [
    "len(ESG_ratios_fix)"
   ]
  },
  {
   "cell_type": "code",
   "execution_count": 59,
   "metadata": {},
   "outputs": [
    {
     "output_type": "execute_result",
     "data": {
      "text/plain": [
       "'GOOG'"
      ]
     },
     "metadata": {},
     "execution_count": 59
    }
   ],
   "source": [
    "companies[3]"
   ]
  },
  {
   "cell_type": "code",
   "execution_count": 60,
   "metadata": {},
   "outputs": [
    {
     "output_type": "execute_result",
     "data": {
      "text/plain": [
       "[16.5,\n",
       " 27.4,\n",
       " 14.7,\n",
       " 22.8,\n",
       " 31.6,\n",
       " 12.9,\n",
       " 29.7,\n",
       " 30.6,\n",
       " 28.5,\n",
       " 31.1,\n",
       " 30.3,\n",
       " 16.3,\n",
       " 27.3,\n",
       " 14.5,\n",
       " 14.8,\n",
       " 12.9,\n",
       " 22.3,\n",
       " 12.0,\n",
       " 25.1,\n",
       " 17.6,\n",
       " 25.1,\n",
       " 20.5,\n",
       " 19.8,\n",
       " 26.9,\n",
       " 30.0,\n",
       " 24.8,\n",
       " 26.3,\n",
       " 27.9]"
      ]
     },
     "metadata": {},
     "execution_count": 60
    }
   ],
   "source": [
    "ESG_ratios_fix"
   ]
  },
  {
   "cell_type": "code",
   "execution_count": 61,
   "metadata": {},
   "outputs": [],
   "source": [
    "transactions_ready['ESG_ranking']=0\n",
    "\n",
    "for index, row in transactions_ready.iterrows():\n",
    "    company=row['company']\n",
    "    ind_comp=companies.index(company)\n",
    "    ESG_ratio= ESG_ratios_fix[ind_comp]\n",
    "    transactions_ready.loc[index, 'ESG_ranking']=ESG_ratio\n",
    "            "
   ]
  },
  {
   "cell_type": "code",
   "execution_count": 62,
   "metadata": {},
   "outputs": [
    {
     "output_type": "execute_result",
     "data": {
      "text/plain": [
       "       company  sector  horizon (days)  amount date_BUY_fix date_SELL_fix  \\\n",
       "0         TSLA    AUTO               7     500   2017-06-14    2017-06-21   \n",
       "1           SC    BANK             600    3000   2018-07-09    2020-02-28   \n",
       "2           DB    BANK             330    5000   2014-04-03    2015-02-27   \n",
       "3         AMZN    TECH              90   15000   2015-01-09    2015-04-09   \n",
       "5          BBY  RETAIL              30      50   2016-06-30    2016-07-29   \n",
       "...        ...     ...             ...     ...          ...           ...   \n",
       "199994    MSFT    TECH              30    4000   2015-12-10    2016-01-08   \n",
       "199995     KSS  RETAIL              60      50   2015-05-08    2015-07-07   \n",
       "199997    AAPL    TECH              90     100   2016-04-14    2016-07-13   \n",
       "199998      DB    BANK             540    1000   2015-08-10    2017-01-31   \n",
       "199999    TSLA    AUTO             600   15000   2015-06-03    2017-01-23   \n",
       "\n",
       "         price_BUY  price_SELL  Volatility_Buy  Volatility_sell  Sharpe Ratio  \\\n",
       "0        76.132004   75.279999        0.336212         0.336167      1.115540   \n",
       "1        17.611959   23.415619        0.291036         0.247294      0.132227   \n",
       "2        39.276001   30.680777        0.261244         0.260936     -0.210016   \n",
       "3       296.929993  383.540009        0.329601         0.324660      1.129542   \n",
       "5        27.180000   29.844707        0.349990         0.348505      0.462873   \n",
       "...            ...         ...             ...              ...           ...   \n",
       "199994   50.435631   47.752792        0.281871         0.281726      0.977717   \n",
       "199995   58.212013   51.271896        0.226325         0.263863      0.001703   \n",
       "199997   26.105249   22.695921        0.275282         0.281343      0.997028   \n",
       "199998   32.734558   19.146446        0.292055         0.517937     -0.210016   \n",
       "199999   49.798000   49.784000        0.374240         0.382662      1.115540   \n",
       "\n",
       "        expected_return (yearly)  inflation  nominal_return investment  \\\n",
       "0                       0.009891       1.96       -0.011191        BAD   \n",
       "1                       0.018887       1.68        0.329529        BAD   \n",
       "2                      -0.127417      -0.15       -0.218842        BAD   \n",
       "3                       0.081071      -0.50        0.291685       GOOD   \n",
       "5                       0.021559      -0.20        0.098039       GOOD   \n",
       "...                          ...        ...             ...        ...   \n",
       "199994                  0.017937      -0.50       -0.053193        BAD   \n",
       "199995                  0.001127      -0.50       -0.119221        BAD   \n",
       "199997                  0.060599      -0.20       -0.130599        BAD   \n",
       "199998                 -0.208501      -0.50       -0.415100        BAD   \n",
       "199999                  0.847787      -0.50       -0.000281        BAD   \n",
       "\n",
       "        ESG_ranking  \n",
       "0              31.1  \n",
       "1              26.9  \n",
       "2              30.0  \n",
       "3              27.4  \n",
       "5              12.0  \n",
       "...             ...  \n",
       "199994         14.7  \n",
       "199995         12.9  \n",
       "199997         16.5  \n",
       "199998         30.0  \n",
       "199999         31.1  \n",
       "\n",
       "[169720 rows x 16 columns]"
      ],
      "text/html": "<div>\n<style scoped>\n    .dataframe tbody tr th:only-of-type {\n        vertical-align: middle;\n    }\n\n    .dataframe tbody tr th {\n        vertical-align: top;\n    }\n\n    .dataframe thead th {\n        text-align: right;\n    }\n</style>\n<table border=\"1\" class=\"dataframe\">\n  <thead>\n    <tr style=\"text-align: right;\">\n      <th></th>\n      <th>company</th>\n      <th>sector</th>\n      <th>horizon (days)</th>\n      <th>amount</th>\n      <th>date_BUY_fix</th>\n      <th>date_SELL_fix</th>\n      <th>price_BUY</th>\n      <th>price_SELL</th>\n      <th>Volatility_Buy</th>\n      <th>Volatility_sell</th>\n      <th>Sharpe Ratio</th>\n      <th>expected_return (yearly)</th>\n      <th>inflation</th>\n      <th>nominal_return</th>\n      <th>investment</th>\n      <th>ESG_ranking</th>\n    </tr>\n  </thead>\n  <tbody>\n    <tr>\n      <th>0</th>\n      <td>TSLA</td>\n      <td>AUTO</td>\n      <td>7</td>\n      <td>500</td>\n      <td>2017-06-14</td>\n      <td>2017-06-21</td>\n      <td>76.132004</td>\n      <td>75.279999</td>\n      <td>0.336212</td>\n      <td>0.336167</td>\n      <td>1.115540</td>\n      <td>0.009891</td>\n      <td>1.96</td>\n      <td>-0.011191</td>\n      <td>BAD</td>\n      <td>31.1</td>\n    </tr>\n    <tr>\n      <th>1</th>\n      <td>SC</td>\n      <td>BANK</td>\n      <td>600</td>\n      <td>3000</td>\n      <td>2018-07-09</td>\n      <td>2020-02-28</td>\n      <td>17.611959</td>\n      <td>23.415619</td>\n      <td>0.291036</td>\n      <td>0.247294</td>\n      <td>0.132227</td>\n      <td>0.018887</td>\n      <td>1.68</td>\n      <td>0.329529</td>\n      <td>BAD</td>\n      <td>26.9</td>\n    </tr>\n    <tr>\n      <th>2</th>\n      <td>DB</td>\n      <td>BANK</td>\n      <td>330</td>\n      <td>5000</td>\n      <td>2014-04-03</td>\n      <td>2015-02-27</td>\n      <td>39.276001</td>\n      <td>30.680777</td>\n      <td>0.261244</td>\n      <td>0.260936</td>\n      <td>-0.210016</td>\n      <td>-0.127417</td>\n      <td>-0.15</td>\n      <td>-0.218842</td>\n      <td>BAD</td>\n      <td>30.0</td>\n    </tr>\n    <tr>\n      <th>3</th>\n      <td>AMZN</td>\n      <td>TECH</td>\n      <td>90</td>\n      <td>15000</td>\n      <td>2015-01-09</td>\n      <td>2015-04-09</td>\n      <td>296.929993</td>\n      <td>383.540009</td>\n      <td>0.329601</td>\n      <td>0.324660</td>\n      <td>1.129542</td>\n      <td>0.081071</td>\n      <td>-0.50</td>\n      <td>0.291685</td>\n      <td>GOOD</td>\n      <td>27.4</td>\n    </tr>\n    <tr>\n      <th>5</th>\n      <td>BBY</td>\n      <td>RETAIL</td>\n      <td>30</td>\n      <td>50</td>\n      <td>2016-06-30</td>\n      <td>2016-07-29</td>\n      <td>27.180000</td>\n      <td>29.844707</td>\n      <td>0.349990</td>\n      <td>0.348505</td>\n      <td>0.462873</td>\n      <td>0.021559</td>\n      <td>-0.20</td>\n      <td>0.098039</td>\n      <td>GOOD</td>\n      <td>12.0</td>\n    </tr>\n    <tr>\n      <th>...</th>\n      <td>...</td>\n      <td>...</td>\n      <td>...</td>\n      <td>...</td>\n      <td>...</td>\n      <td>...</td>\n      <td>...</td>\n      <td>...</td>\n      <td>...</td>\n      <td>...</td>\n      <td>...</td>\n      <td>...</td>\n      <td>...</td>\n      <td>...</td>\n      <td>...</td>\n      <td>...</td>\n    </tr>\n    <tr>\n      <th>199994</th>\n      <td>MSFT</td>\n      <td>TECH</td>\n      <td>30</td>\n      <td>4000</td>\n      <td>2015-12-10</td>\n      <td>2016-01-08</td>\n      <td>50.435631</td>\n      <td>47.752792</td>\n      <td>0.281871</td>\n      <td>0.281726</td>\n      <td>0.977717</td>\n      <td>0.017937</td>\n      <td>-0.50</td>\n      <td>-0.053193</td>\n      <td>BAD</td>\n      <td>14.7</td>\n    </tr>\n    <tr>\n      <th>199995</th>\n      <td>KSS</td>\n      <td>RETAIL</td>\n      <td>60</td>\n      <td>50</td>\n      <td>2015-05-08</td>\n      <td>2015-07-07</td>\n      <td>58.212013</td>\n      <td>51.271896</td>\n      <td>0.226325</td>\n      <td>0.263863</td>\n      <td>0.001703</td>\n      <td>0.001127</td>\n      <td>-0.50</td>\n      <td>-0.119221</td>\n      <td>BAD</td>\n      <td>12.9</td>\n    </tr>\n    <tr>\n      <th>199997</th>\n      <td>AAPL</td>\n      <td>TECH</td>\n      <td>90</td>\n      <td>100</td>\n      <td>2016-04-14</td>\n      <td>2016-07-13</td>\n      <td>26.105249</td>\n      <td>22.695921</td>\n      <td>0.275282</td>\n      <td>0.281343</td>\n      <td>0.997028</td>\n      <td>0.060599</td>\n      <td>-0.20</td>\n      <td>-0.130599</td>\n      <td>BAD</td>\n      <td>16.5</td>\n    </tr>\n    <tr>\n      <th>199998</th>\n      <td>DB</td>\n      <td>BANK</td>\n      <td>540</td>\n      <td>1000</td>\n      <td>2015-08-10</td>\n      <td>2017-01-31</td>\n      <td>32.734558</td>\n      <td>19.146446</td>\n      <td>0.292055</td>\n      <td>0.517937</td>\n      <td>-0.210016</td>\n      <td>-0.208501</td>\n      <td>-0.50</td>\n      <td>-0.415100</td>\n      <td>BAD</td>\n      <td>30.0</td>\n    </tr>\n    <tr>\n      <th>199999</th>\n      <td>TSLA</td>\n      <td>AUTO</td>\n      <td>600</td>\n      <td>15000</td>\n      <td>2015-06-03</td>\n      <td>2017-01-23</td>\n      <td>49.798000</td>\n      <td>49.784000</td>\n      <td>0.374240</td>\n      <td>0.382662</td>\n      <td>1.115540</td>\n      <td>0.847787</td>\n      <td>-0.50</td>\n      <td>-0.000281</td>\n      <td>BAD</td>\n      <td>31.1</td>\n    </tr>\n  </tbody>\n</table>\n<p>169720 rows × 16 columns</p>\n</div>"
     },
     "metadata": {},
     "execution_count": 62
    }
   ],
   "source": [
    "transactions_ready"
   ]
  },
  {
   "cell_type": "code",
   "execution_count": 65,
   "metadata": {},
   "outputs": [],
   "source": [
    "pe_ratios_collection= pickle.load(open('./../webscrapping/pe_ratios_collection.p', \"rb\" ))"
   ]
  },
  {
   "cell_type": "code",
   "execution_count": 66,
   "metadata": {},
   "outputs": [
    {
     "output_type": "execute_result",
     "data": {
      "text/plain": [
       "35.46"
      ]
     },
     "metadata": {},
     "execution_count": 66
    }
   ],
   "source": [
    "valor=pe_ratios_collection['AAPL'][pe_ratios_collection['AAPL']['Date']=='2020-09'].PE_Ratio.values[0]\n",
    "float(valor)"
   ]
  },
  {
   "cell_type": "code",
   "execution_count": 67,
   "metadata": {},
   "outputs": [],
   "source": [
    "#getting nearest date before investment.\n",
    "def nearest(items, pivot):\n",
    "    return min([i for i in items if i < pivot], key=lambda x: abs(x - pivot))"
   ]
  },
  {
   "cell_type": "code",
   "execution_count": 68,
   "metadata": {},
   "outputs": [],
   "source": [
    "l_PE_ratios=list()\n",
    "for index, row in transactions_ready.iterrows():\n",
    "    year=row['date_BUY_fix']\n",
    "    company=row['company']\n",
    "    \n",
    "    try:\n",
    "        ratios_company=pe_ratios_collection[company]\n",
    "        date=nearest(ratios_company['Date'].dropna(),year)\n",
    "    \n",
    "        try:\n",
    "            PE_ratio_str=pe_ratios_collection[company][pe_ratios_collection[company]['Date']==date].PE_Ratio.values[0]\n",
    "            PE_ratio=float(PE_ratio_str)\n",
    "        except:\n",
    "            #se puede asignar un cero si hace falta.\n",
    "            PE_ratio=np.NaN\n",
    "            \n",
    "    except:\n",
    "        PE_ratio=Decimal('nan')\n",
    "    \n",
    "    l_PE_ratios.append(PE_ratio)"
   ]
  },
  {
   "cell_type": "code",
   "execution_count": 69,
   "metadata": {},
   "outputs": [],
   "source": [
    "transactions_ready['PE_ratio']=l_PE_ratios"
   ]
  },
  {
   "cell_type": "code",
   "execution_count": 70,
   "metadata": {},
   "outputs": [
    {
     "output_type": "execute_result",
     "data": {
      "text/plain": [
       "       company  sector  horizon (days)  amount date_BUY_fix date_SELL_fix  \\\n",
       "0         TSLA    AUTO               7     500   2017-06-14    2017-06-21   \n",
       "1           SC    BANK             600    3000   2018-07-09    2020-02-28   \n",
       "2           DB    BANK             330    5000   2014-04-03    2015-02-27   \n",
       "3         AMZN    TECH              90   15000   2015-01-09    2015-04-09   \n",
       "5          BBY  RETAIL              30      50   2016-06-30    2016-07-29   \n",
       "...        ...     ...             ...     ...          ...           ...   \n",
       "199994    MSFT    TECH              30    4000   2015-12-10    2016-01-08   \n",
       "199995     KSS  RETAIL              60      50   2015-05-08    2015-07-07   \n",
       "199997    AAPL    TECH              90     100   2016-04-14    2016-07-13   \n",
       "199998      DB    BANK             540    1000   2015-08-10    2017-01-31   \n",
       "199999    TSLA    AUTO             600   15000   2015-06-03    2017-01-23   \n",
       "\n",
       "         price_BUY  price_SELL  Volatility_Buy  Volatility_sell  Sharpe Ratio  \\\n",
       "0        76.132004   75.279999        0.336212         0.336167      1.115540   \n",
       "1        17.611959   23.415619        0.291036         0.247294      0.132227   \n",
       "2        39.276001   30.680777        0.261244         0.260936     -0.210016   \n",
       "3       296.929993  383.540009        0.329601         0.324660      1.129542   \n",
       "5        27.180000   29.844707        0.349990         0.348505      0.462873   \n",
       "...            ...         ...             ...              ...           ...   \n",
       "199994   50.435631   47.752792        0.281871         0.281726      0.977717   \n",
       "199995   58.212013   51.271896        0.226325         0.263863      0.001703   \n",
       "199997   26.105249   22.695921        0.275282         0.281343      0.997028   \n",
       "199998   32.734558   19.146446        0.292055         0.517937     -0.210016   \n",
       "199999   49.798000   49.784000        0.374240         0.382662      1.115540   \n",
       "\n",
       "        expected_return (yearly)  inflation  nominal_return investment  \\\n",
       "0                       0.009891       1.96       -0.011191        BAD   \n",
       "1                       0.018887       1.68        0.329529        BAD   \n",
       "2                      -0.127417      -0.15       -0.218842        BAD   \n",
       "3                       0.081071      -0.50        0.291685       GOOD   \n",
       "5                       0.021559      -0.20        0.098039       GOOD   \n",
       "...                          ...        ...             ...        ...   \n",
       "199994                  0.017937      -0.50       -0.053193        BAD   \n",
       "199995                  0.001127      -0.50       -0.119221        BAD   \n",
       "199997                  0.060599      -0.20       -0.130599        BAD   \n",
       "199998                 -0.208501      -0.50       -0.415100        BAD   \n",
       "199999                  0.847787      -0.50       -0.000281        BAD   \n",
       "\n",
       "        ESG_ranking PE_ratio  \n",
       "0              31.1        0  \n",
       "1              26.9     4.65  \n",
       "2              30.0   599.56  \n",
       "3              27.4        0  \n",
       "5              12.0     9.65  \n",
       "...             ...      ...  \n",
       "199994         14.7    36.29  \n",
       "199995         12.9    13.03  \n",
       "199997         16.5    11.29  \n",
       "199998         30.0    26.28  \n",
       "199999         31.1        0  \n",
       "\n",
       "[169720 rows x 17 columns]"
      ],
      "text/html": "<div>\n<style scoped>\n    .dataframe tbody tr th:only-of-type {\n        vertical-align: middle;\n    }\n\n    .dataframe tbody tr th {\n        vertical-align: top;\n    }\n\n    .dataframe thead th {\n        text-align: right;\n    }\n</style>\n<table border=\"1\" class=\"dataframe\">\n  <thead>\n    <tr style=\"text-align: right;\">\n      <th></th>\n      <th>company</th>\n      <th>sector</th>\n      <th>horizon (days)</th>\n      <th>amount</th>\n      <th>date_BUY_fix</th>\n      <th>date_SELL_fix</th>\n      <th>price_BUY</th>\n      <th>price_SELL</th>\n      <th>Volatility_Buy</th>\n      <th>Volatility_sell</th>\n      <th>Sharpe Ratio</th>\n      <th>expected_return (yearly)</th>\n      <th>inflation</th>\n      <th>nominal_return</th>\n      <th>investment</th>\n      <th>ESG_ranking</th>\n      <th>PE_ratio</th>\n    </tr>\n  </thead>\n  <tbody>\n    <tr>\n      <th>0</th>\n      <td>TSLA</td>\n      <td>AUTO</td>\n      <td>7</td>\n      <td>500</td>\n      <td>2017-06-14</td>\n      <td>2017-06-21</td>\n      <td>76.132004</td>\n      <td>75.279999</td>\n      <td>0.336212</td>\n      <td>0.336167</td>\n      <td>1.115540</td>\n      <td>0.009891</td>\n      <td>1.96</td>\n      <td>-0.011191</td>\n      <td>BAD</td>\n      <td>31.1</td>\n      <td>0</td>\n    </tr>\n    <tr>\n      <th>1</th>\n      <td>SC</td>\n      <td>BANK</td>\n      <td>600</td>\n      <td>3000</td>\n      <td>2018-07-09</td>\n      <td>2020-02-28</td>\n      <td>17.611959</td>\n      <td>23.415619</td>\n      <td>0.291036</td>\n      <td>0.247294</td>\n      <td>0.132227</td>\n      <td>0.018887</td>\n      <td>1.68</td>\n      <td>0.329529</td>\n      <td>BAD</td>\n      <td>26.9</td>\n      <td>4.65</td>\n    </tr>\n    <tr>\n      <th>2</th>\n      <td>DB</td>\n      <td>BANK</td>\n      <td>330</td>\n      <td>5000</td>\n      <td>2014-04-03</td>\n      <td>2015-02-27</td>\n      <td>39.276001</td>\n      <td>30.680777</td>\n      <td>0.261244</td>\n      <td>0.260936</td>\n      <td>-0.210016</td>\n      <td>-0.127417</td>\n      <td>-0.15</td>\n      <td>-0.218842</td>\n      <td>BAD</td>\n      <td>30.0</td>\n      <td>599.56</td>\n    </tr>\n    <tr>\n      <th>3</th>\n      <td>AMZN</td>\n      <td>TECH</td>\n      <td>90</td>\n      <td>15000</td>\n      <td>2015-01-09</td>\n      <td>2015-04-09</td>\n      <td>296.929993</td>\n      <td>383.540009</td>\n      <td>0.329601</td>\n      <td>0.324660</td>\n      <td>1.129542</td>\n      <td>0.081071</td>\n      <td>-0.50</td>\n      <td>0.291685</td>\n      <td>GOOD</td>\n      <td>27.4</td>\n      <td>0</td>\n    </tr>\n    <tr>\n      <th>5</th>\n      <td>BBY</td>\n      <td>RETAIL</td>\n      <td>30</td>\n      <td>50</td>\n      <td>2016-06-30</td>\n      <td>2016-07-29</td>\n      <td>27.180000</td>\n      <td>29.844707</td>\n      <td>0.349990</td>\n      <td>0.348505</td>\n      <td>0.462873</td>\n      <td>0.021559</td>\n      <td>-0.20</td>\n      <td>0.098039</td>\n      <td>GOOD</td>\n      <td>12.0</td>\n      <td>9.65</td>\n    </tr>\n    <tr>\n      <th>...</th>\n      <td>...</td>\n      <td>...</td>\n      <td>...</td>\n      <td>...</td>\n      <td>...</td>\n      <td>...</td>\n      <td>...</td>\n      <td>...</td>\n      <td>...</td>\n      <td>...</td>\n      <td>...</td>\n      <td>...</td>\n      <td>...</td>\n      <td>...</td>\n      <td>...</td>\n      <td>...</td>\n      <td>...</td>\n    </tr>\n    <tr>\n      <th>199994</th>\n      <td>MSFT</td>\n      <td>TECH</td>\n      <td>30</td>\n      <td>4000</td>\n      <td>2015-12-10</td>\n      <td>2016-01-08</td>\n      <td>50.435631</td>\n      <td>47.752792</td>\n      <td>0.281871</td>\n      <td>0.281726</td>\n      <td>0.977717</td>\n      <td>0.017937</td>\n      <td>-0.50</td>\n      <td>-0.053193</td>\n      <td>BAD</td>\n      <td>14.7</td>\n      <td>36.29</td>\n    </tr>\n    <tr>\n      <th>199995</th>\n      <td>KSS</td>\n      <td>RETAIL</td>\n      <td>60</td>\n      <td>50</td>\n      <td>2015-05-08</td>\n      <td>2015-07-07</td>\n      <td>58.212013</td>\n      <td>51.271896</td>\n      <td>0.226325</td>\n      <td>0.263863</td>\n      <td>0.001703</td>\n      <td>0.001127</td>\n      <td>-0.50</td>\n      <td>-0.119221</td>\n      <td>BAD</td>\n      <td>12.9</td>\n      <td>13.03</td>\n    </tr>\n    <tr>\n      <th>199997</th>\n      <td>AAPL</td>\n      <td>TECH</td>\n      <td>90</td>\n      <td>100</td>\n      <td>2016-04-14</td>\n      <td>2016-07-13</td>\n      <td>26.105249</td>\n      <td>22.695921</td>\n      <td>0.275282</td>\n      <td>0.281343</td>\n      <td>0.997028</td>\n      <td>0.060599</td>\n      <td>-0.20</td>\n      <td>-0.130599</td>\n      <td>BAD</td>\n      <td>16.5</td>\n      <td>11.29</td>\n    </tr>\n    <tr>\n      <th>199998</th>\n      <td>DB</td>\n      <td>BANK</td>\n      <td>540</td>\n      <td>1000</td>\n      <td>2015-08-10</td>\n      <td>2017-01-31</td>\n      <td>32.734558</td>\n      <td>19.146446</td>\n      <td>0.292055</td>\n      <td>0.517937</td>\n      <td>-0.210016</td>\n      <td>-0.208501</td>\n      <td>-0.50</td>\n      <td>-0.415100</td>\n      <td>BAD</td>\n      <td>30.0</td>\n      <td>26.28</td>\n    </tr>\n    <tr>\n      <th>199999</th>\n      <td>TSLA</td>\n      <td>AUTO</td>\n      <td>600</td>\n      <td>15000</td>\n      <td>2015-06-03</td>\n      <td>2017-01-23</td>\n      <td>49.798000</td>\n      <td>49.784000</td>\n      <td>0.374240</td>\n      <td>0.382662</td>\n      <td>1.115540</td>\n      <td>0.847787</td>\n      <td>-0.50</td>\n      <td>-0.000281</td>\n      <td>BAD</td>\n      <td>31.1</td>\n      <td>0</td>\n    </tr>\n  </tbody>\n</table>\n<p>169720 rows × 17 columns</p>\n</div>"
     },
     "metadata": {},
     "execution_count": 70
    }
   ],
   "source": [
    "transactions_ready"
   ]
  },
  {
   "cell_type": "markdown",
   "metadata": {},
   "source": [
    "## EPS Ratio"
   ]
  },
  {
   "cell_type": "code",
   "execution_count": 88,
   "metadata": {},
   "outputs": [],
   "source": [
    "import re"
   ]
  },
  {
   "cell_type": "code",
   "execution_count": 89,
   "metadata": {},
   "outputs": [],
   "source": [
    "l_EPS_ratios=list()\n",
    "for index, row in transactions_ready.iterrows():\n",
    "    year=row['date_BUY_fix']\n",
    "    company=row['company']\n",
    "\n",
    "    try:\n",
    "        ratios_company=pe_ratios_collection[company]\n",
    "        date=nearest(ratios_company['Date'].dropna(),row['date_BUY_fix'])\n",
    "    \n",
    "        try:\n",
    "            EPS_ratio_str=pe_ratios_collection[company][pe_ratios_collection[company]['Date']==date].TTM_Net_EPS.values[0]\n",
    "            EPS_ratio_str=re.sub('[%$B]', '',EPS_ratio_str)\n",
    "        \n",
    "            EPS_ratio=float(EPS_ratio_str)\n",
    "        except:\n",
    "            #se puede asignar un cero si hace falta.\n",
    "            EPS_ratio=np.NaN\n",
    "            \n",
    "    except:\n",
    "        EPS_ratio=np.NaN\n",
    "    \n",
    "    l_EPS_ratios.append(EPS_ratio)"
   ]
  },
  {
   "cell_type": "code",
   "execution_count": 90,
   "metadata": {},
   "outputs": [],
   "source": [
    "transactions_ready['EPS_ratio']=l_EPS_ratios"
   ]
  },
  {
   "cell_type": "markdown",
   "metadata": {},
   "source": [
    "## PS Ratio"
   ]
  },
  {
   "cell_type": "code",
   "execution_count": 71,
   "metadata": {},
   "outputs": [],
   "source": [
    "ps_ratios_collection= pickle.load(open('./../webscrapping/ps_ratios_collection.p', \"rb\" ))\n"
   ]
  },
  {
   "cell_type": "code",
   "execution_count": 72,
   "metadata": {},
   "outputs": [],
   "source": [
    "l_PS_ratios=list()\n",
    "for index, row in transactions_ready.iterrows():\n",
    "    year=row['date_BUY_fix']\n",
    "    company=row['company']\n",
    "    \n",
    "    try:\n",
    "        ratios_company=ps_ratios_collection[company]\n",
    "        date=nearest(ratios_company['Date'].dropna(),year)\n",
    "    \n",
    "        try:\n",
    "            PS_ratio_str=ps_ratios_collection[company][ps_ratios_collection[company]['Date']==date].Price_to_Sales_Ratio.values[0]\n",
    "            PS_ratio=float(PS_ratio_str)\n",
    "        except:\n",
    "            #se puede asignar un cero si hace falta.\n",
    "            PS_ratio= np.NaN\n",
    "            \n",
    "    except:\n",
    "        PS_ratio=np.NaN\n",
    "    \n",
    "    l_PS_ratios.append(PS_ratio)\n",
    "\n",
    "    \n",
    "transactions_ready['PS_ratio']=l_PS_ratios"
   ]
  },
  {
   "cell_type": "markdown",
   "metadata": {},
   "source": [
    "## PB Ratio"
   ]
  },
  {
   "cell_type": "code",
   "execution_count": 73,
   "metadata": {},
   "outputs": [],
   "source": [
    "pb_ratios_collection= pickle.load(open('./../webscrapping/pb_ratios_collection.p', \"rb\" ))"
   ]
  },
  {
   "cell_type": "code",
   "execution_count": 74,
   "metadata": {},
   "outputs": [],
   "source": [
    "l_PB_ratios=list()\n",
    "for index, row in transactions_ready.iterrows():\n",
    "    year=row['date_BUY_fix']\n",
    "    company=row['company']\n",
    "    \n",
    "    try:\n",
    "        ratios_company=pb_ratios_collection[company]\n",
    "        date=nearest(ratios_company['Date'].dropna(),year)\n",
    "    \n",
    "        try:\n",
    "            PB_ratio_str=pb_ratios_collection[company][pb_ratios_collection[company]['Date']==date].Price_to_Book_Ratio.values[0]\n",
    "            PB_ratio=float(PB_ratio_str)\n",
    "        except:\n",
    "            #se puede asignar un cero si hace falta.\n",
    "            PB_ratio= np.NaN\n",
    "            \n",
    "    except:\n",
    "        PB_ratio=np.NaN\n",
    "    \n",
    "    l_PB_ratios.append(PB_ratio)\n",
    "\n",
    "    \n",
    "transactions_ready['PB_ratio']=l_PB_ratios"
   ]
  },
  {
   "cell_type": "markdown",
   "metadata": {},
   "source": [
    "## NetProfitMargin ratio "
   ]
  },
  {
   "cell_type": "code",
   "execution_count": 75,
   "metadata": {},
   "outputs": [],
   "source": [
    "NetProfitMargin_ratios_collection= pickle.load(open('./../webscrapping/NetProfitMargin_ratios_collection.p', \"rb\" ))"
   ]
  },
  {
   "cell_type": "code",
   "execution_count": 76,
   "metadata": {
    "tags": []
   },
   "outputs": [],
   "source": [
    "l_NetProfitMargin_ratios=list()\n",
    "for index, row in transactions_ready.iterrows():\n",
    "    year=row['date_BUY_fix']\n",
    "    company=row['company']\n",
    "    \n",
    "    try:\n",
    "        ratios_company=NetProfitMargin_ratios_collection[company]\n",
    "        date=nearest(ratios_company['Date'].dropna(),year)\n",
    "        try:                       \n",
    "            NetProfitMargin_ratio_str=NetProfitMargin_ratios_collection[company][NetProfitMargin_ratios_collection[company]['Date']==date].Net_Margin.values[0]\n",
    "            NetProfitMargin_ratio_str=re.sub('[%$B]', '',NetProfitMargin_ratio_str)\n",
    "            NetProfitMargin_ratio=float(NetProfitMargin_ratio_str)\n",
    "        except:\n",
    "            #se puede asignar un cero si hace falta.\n",
    "            NetProfitMargin_ratio= np.NaN        \n",
    "    except:\n",
    "        NetProfitMargin_ratio=np.NaN\n",
    "    \n",
    "    l_NetProfitMargin_ratios.append(NetProfitMargin_ratio)\n",
    "transactions_ready['NetProfitMargin_ratio']=l_NetProfitMargin_ratios"
   ]
  },
  {
   "cell_type": "markdown",
   "metadata": {},
   "source": [
    "## Current Ratio\n"
   ]
  },
  {
   "cell_type": "code",
   "execution_count": 77,
   "metadata": {},
   "outputs": [
    {
     "output_type": "execute_result",
     "data": {
      "text/plain": [
       "        Date Current_Assets Current_Liabilities Current_Ratio\n",
       "0        NaT            NaN                 NaN           NaN\n",
       "1        NaT            NaN                 NaN           NaN\n",
       "2 2020-09-01       $143.71B            $105.39B          1.36\n",
       "3 2020-06-01       $140.07B             $95.32B          1.47\n",
       "4 2020-03-01       $143.75B             $96.09B          1.50"
      ],
      "text/html": "<div>\n<style scoped>\n    .dataframe tbody tr th:only-of-type {\n        vertical-align: middle;\n    }\n\n    .dataframe tbody tr th {\n        vertical-align: top;\n    }\n\n    .dataframe thead th {\n        text-align: right;\n    }\n</style>\n<table border=\"1\" class=\"dataframe\">\n  <thead>\n    <tr style=\"text-align: right;\">\n      <th></th>\n      <th>Date</th>\n      <th>Current_Assets</th>\n      <th>Current_Liabilities</th>\n      <th>Current_Ratio</th>\n    </tr>\n  </thead>\n  <tbody>\n    <tr>\n      <th>0</th>\n      <td>NaT</td>\n      <td>NaN</td>\n      <td>NaN</td>\n      <td>NaN</td>\n    </tr>\n    <tr>\n      <th>1</th>\n      <td>NaT</td>\n      <td>NaN</td>\n      <td>NaN</td>\n      <td>NaN</td>\n    </tr>\n    <tr>\n      <th>2</th>\n      <td>2020-09-01</td>\n      <td>$143.71B</td>\n      <td>$105.39B</td>\n      <td>1.36</td>\n    </tr>\n    <tr>\n      <th>3</th>\n      <td>2020-06-01</td>\n      <td>$140.07B</td>\n      <td>$95.32B</td>\n      <td>1.47</td>\n    </tr>\n    <tr>\n      <th>4</th>\n      <td>2020-03-01</td>\n      <td>$143.75B</td>\n      <td>$96.09B</td>\n      <td>1.50</td>\n    </tr>\n  </tbody>\n</table>\n</div>"
     },
     "metadata": {},
     "execution_count": 77
    }
   ],
   "source": [
    "current_ratios_collection= pickle.load(open('./../webscrapping/current_ratios_collection.p', \"rb\" ))\n",
    "current_ratios_collection['AAPL'].head()"
   ]
  },
  {
   "cell_type": "code",
   "execution_count": 78,
   "metadata": {},
   "outputs": [],
   "source": [
    "l_current_ratios=list()\n",
    "for index, row in transactions_ready.iterrows():\n",
    "    year=row['date_BUY_fix']\n",
    "    company=row['company']\n",
    "    \n",
    "    try:\n",
    "        ratios_company=current_ratios_collection[company]\n",
    "        date=nearest(ratios_company['Date'].dropna(),year)\n",
    "    \n",
    "        try:\n",
    "            current_ratio_str=current_ratios_collection[company][current_ratios_collection[company]['Date']==date].Current_Ratio.values[0]\n",
    "            current_ratio=float(current_ratio_str)\n",
    "        except:\n",
    "            #se puede asignar un cero si hace falta.\n",
    "            current_ratio= np.NaN\n",
    "            \n",
    "    except:\n",
    "        current_ratio=np.NaN\n",
    "    \n",
    "    l_current_ratios.append(current_ratio)\n",
    "\n",
    "    \n",
    "transactions_ready['current_ratio']=l_current_ratios"
   ]
  },
  {
   "cell_type": "markdown",
   "metadata": {},
   "source": [
    "## ROA Ratio"
   ]
  },
  {
   "cell_type": "code",
   "execution_count": 79,
   "metadata": {},
   "outputs": [
    {
     "output_type": "execute_result",
     "data": {
      "text/plain": [
       "        Date TTM_Net_Income Total_Assets Return_on_Assets\n",
       "0        NaT            NaN          NaN              NaN\n",
       "1        NaT            NaN          NaN              NaN\n",
       "2 2020-09-01        $57.41B     $323.89B           17.63%\n",
       "3 2020-06-01        $58.42B     $317.34B           17.75%\n",
       "4 2020-03-01        $57.22B     $320.40B           17.31%"
      ],
      "text/html": "<div>\n<style scoped>\n    .dataframe tbody tr th:only-of-type {\n        vertical-align: middle;\n    }\n\n    .dataframe tbody tr th {\n        vertical-align: top;\n    }\n\n    .dataframe thead th {\n        text-align: right;\n    }\n</style>\n<table border=\"1\" class=\"dataframe\">\n  <thead>\n    <tr style=\"text-align: right;\">\n      <th></th>\n      <th>Date</th>\n      <th>TTM_Net_Income</th>\n      <th>Total_Assets</th>\n      <th>Return_on_Assets</th>\n    </tr>\n  </thead>\n  <tbody>\n    <tr>\n      <th>0</th>\n      <td>NaT</td>\n      <td>NaN</td>\n      <td>NaN</td>\n      <td>NaN</td>\n    </tr>\n    <tr>\n      <th>1</th>\n      <td>NaT</td>\n      <td>NaN</td>\n      <td>NaN</td>\n      <td>NaN</td>\n    </tr>\n    <tr>\n      <th>2</th>\n      <td>2020-09-01</td>\n      <td>$57.41B</td>\n      <td>$323.89B</td>\n      <td>17.63%</td>\n    </tr>\n    <tr>\n      <th>3</th>\n      <td>2020-06-01</td>\n      <td>$58.42B</td>\n      <td>$317.34B</td>\n      <td>17.75%</td>\n    </tr>\n    <tr>\n      <th>4</th>\n      <td>2020-03-01</td>\n      <td>$57.22B</td>\n      <td>$320.40B</td>\n      <td>17.31%</td>\n    </tr>\n  </tbody>\n</table>\n</div>"
     },
     "metadata": {},
     "execution_count": 79
    }
   ],
   "source": [
    "roa_ratios_collection= pickle.load(open('./../webscrapping/roa_ratios_collection.p', \"rb\" ))\n",
    "roa_ratios_collection['AAPL'].head()"
   ]
  },
  {
   "cell_type": "code",
   "execution_count": 80,
   "metadata": {},
   "outputs": [],
   "source": [
    "l_roa_ratios=list()\n",
    "for index, row in transactions_ready.iterrows():\n",
    "    year=row['date_BUY_fix']\n",
    "    company=row['company']\n",
    "    \n",
    "    try:\n",
    "        ratios_company=roa_ratios_collection[company]\n",
    "        date=nearest(ratios_company['Date'].dropna(),year)\n",
    "    \n",
    "        try:\n",
    "            roa_ratio_str=roa_ratios_collection[company][roa_ratios_collection[company]['Date']==date].Return_on_Assets.values[0]\n",
    "            roa_ratio_str=re.sub('[%$B]','',roa_ratio_str)\n",
    "            roa_ratio=float(roa_ratio_str)\n",
    "        except:\n",
    "            #se puede asignar un cero si hace falta.\n",
    "            roa_ratio= np.NaN\n",
    "            \n",
    "    except:\n",
    "        roa_ratio=np.NaN\n",
    "    \n",
    "    l_roa_ratios.append(roa_ratio)\n",
    "\n",
    "    \n",
    "transactions_ready['roa_ratio']=l_roa_ratios"
   ]
  },
  {
   "cell_type": "markdown",
   "metadata": {},
   "source": [
    "## ROE Ratio"
   ]
  },
  {
   "cell_type": "code",
   "execution_count": 81,
   "metadata": {},
   "outputs": [
    {
     "output_type": "execute_result",
     "data": {
      "text/plain": [
       "        Date TTM_Net_Income Shareholder's_Equity Return_on_Equity\n",
       "0        NaT            NaN                  NaN              NaN\n",
       "1        NaT            NaN                  NaN              NaN\n",
       "2 2020-09-01        $57.41B              $65.34B           75.15%\n",
       "3 2020-06-01        $58.42B              $72.28B           70.66%\n",
       "4 2020-03-01        $57.22B              $78.43B           64.49%"
      ],
      "text/html": "<div>\n<style scoped>\n    .dataframe tbody tr th:only-of-type {\n        vertical-align: middle;\n    }\n\n    .dataframe tbody tr th {\n        vertical-align: top;\n    }\n\n    .dataframe thead th {\n        text-align: right;\n    }\n</style>\n<table border=\"1\" class=\"dataframe\">\n  <thead>\n    <tr style=\"text-align: right;\">\n      <th></th>\n      <th>Date</th>\n      <th>TTM_Net_Income</th>\n      <th>Shareholder's_Equity</th>\n      <th>Return_on_Equity</th>\n    </tr>\n  </thead>\n  <tbody>\n    <tr>\n      <th>0</th>\n      <td>NaT</td>\n      <td>NaN</td>\n      <td>NaN</td>\n      <td>NaN</td>\n    </tr>\n    <tr>\n      <th>1</th>\n      <td>NaT</td>\n      <td>NaN</td>\n      <td>NaN</td>\n      <td>NaN</td>\n    </tr>\n    <tr>\n      <th>2</th>\n      <td>2020-09-01</td>\n      <td>$57.41B</td>\n      <td>$65.34B</td>\n      <td>75.15%</td>\n    </tr>\n    <tr>\n      <th>3</th>\n      <td>2020-06-01</td>\n      <td>$58.42B</td>\n      <td>$72.28B</td>\n      <td>70.66%</td>\n    </tr>\n    <tr>\n      <th>4</th>\n      <td>2020-03-01</td>\n      <td>$57.22B</td>\n      <td>$78.43B</td>\n      <td>64.49%</td>\n    </tr>\n  </tbody>\n</table>\n</div>"
     },
     "metadata": {},
     "execution_count": 81
    }
   ],
   "source": [
    "roe_ratios_collection= pickle.load(open('./../webscrapping/roe_ratios_collection.p', \"rb\" ))\n",
    "roe_ratios_collection['AAPL'].head()"
   ]
  },
  {
   "cell_type": "code",
   "execution_count": 82,
   "metadata": {},
   "outputs": [],
   "source": [
    "l_roe_ratios=list()\n",
    "for index, row in transactions_ready.iterrows():\n",
    "    year=row['date_BUY_fix']\n",
    "    company=row['company']\n",
    "    \n",
    "    try:\n",
    "        ratios_company=roe_ratios_collection[company]\n",
    "        date=nearest(ratios_company['Date'].dropna(),year)\n",
    "    \n",
    "        try:\n",
    "            roe_ratio_str=roe_ratios_collection[company][roe_ratios_collection[company]['Date']==date].Return_on_Equity.values[0]\n",
    "            roe_ratio_str=re.sub('[%$B]','',roe_ratio_str)\n",
    "            roe_ratio=float(roe_ratio_str)\n",
    "        except:\n",
    "            #se puede asignar un cero si hace falta.\n",
    "            roe_ratio= np.NaN\n",
    "            \n",
    "    except:\n",
    "        roe_ratio=np.NaN\n",
    "    \n",
    "    l_roe_ratios.append(roe_ratio)\n",
    "\n",
    "    \n",
    "transactions_ready['roe_ratio']=l_roe_ratios"
   ]
  },
  {
   "cell_type": "markdown",
   "metadata": {},
   "source": [
    "# Final dataset review "
   ]
  },
  {
   "cell_type": "code",
   "execution_count": 83,
   "metadata": {},
   "outputs": [
    {
     "output_type": "execute_result",
     "data": {
      "text/plain": [
       "       company  sector  horizon (days)  amount date_BUY_fix date_SELL_fix  \\\n",
       "0         TSLA    AUTO               7     500   2017-06-14    2017-06-21   \n",
       "1           SC    BANK             600    3000   2018-07-09    2020-02-28   \n",
       "2           DB    BANK             330    5000   2014-04-03    2015-02-27   \n",
       "3         AMZN    TECH              90   15000   2015-01-09    2015-04-09   \n",
       "5          BBY  RETAIL              30      50   2016-06-30    2016-07-29   \n",
       "...        ...     ...             ...     ...          ...           ...   \n",
       "199994    MSFT    TECH              30    4000   2015-12-10    2016-01-08   \n",
       "199995     KSS  RETAIL              60      50   2015-05-08    2015-07-07   \n",
       "199997    AAPL    TECH              90     100   2016-04-14    2016-07-13   \n",
       "199998      DB    BANK             540    1000   2015-08-10    2017-01-31   \n",
       "199999    TSLA    AUTO             600   15000   2015-06-03    2017-01-23   \n",
       "\n",
       "         price_BUY  price_SELL  Volatility_Buy  Volatility_sell  ...  \\\n",
       "0        76.132004   75.279999        0.336212         0.336167  ...   \n",
       "1        17.611959   23.415619        0.291036         0.247294  ...   \n",
       "2        39.276001   30.680777        0.261244         0.260936  ...   \n",
       "3       296.929993  383.540009        0.329601         0.324660  ...   \n",
       "5        27.180000   29.844707        0.349990         0.348505  ...   \n",
       "...            ...         ...             ...              ...  ...   \n",
       "199994   50.435631   47.752792        0.281871         0.281726  ...   \n",
       "199995   58.212013   51.271896        0.226325         0.263863  ...   \n",
       "199997   26.105249   22.695921        0.275282         0.281343  ...   \n",
       "199998   32.734558   19.146446        0.292055         0.517937  ...   \n",
       "199999   49.798000   49.784000        0.374240         0.382662  ...   \n",
       "\n",
       "        nominal_return  investment  ESG_ranking  PE_ratio PS_ratio  PB_ratio  \\\n",
       "0            -0.011191         BAD         31.1         0     5.65      9.71   \n",
       "1             0.329529         BAD         26.9      4.65     0.87      0.89   \n",
       "2            -0.218842         BAD         30.0    599.56     0.79      0.56   \n",
       "3             0.291685        GOOD         27.4         0     1.62     13.44   \n",
       "5             0.098039        GOOD         12.0      9.65     0.25      2.06   \n",
       "...                ...         ...          ...       ...      ...       ...   \n",
       "199994       -0.053193         BAD         14.7     36.29     4.70      5.24   \n",
       "199995       -0.119221         BAD         12.9     13.03     0.60      1.88   \n",
       "199997       -0.130599         BAD         16.5     11.29     2.53      4.26   \n",
       "199998       -0.415100         BAD         30.0     26.28     0.74      0.48   \n",
       "199999       -0.000281         BAD         31.1         0     9.09     47.62   \n",
       "\n",
       "       NetProfitMargin_ratio  current_ratio  roa_ratio  roe_ratio  \n",
       "0                      -7.60           0.97      -3.54     -15.13  \n",
       "1                      18.62           0.87       3.38      20.59  \n",
       "2                       0.34           0.73       0.01       0.25  \n",
       "3                      -0.27           1.12      -0.57      -2.29  \n",
       "5                       2.53           1.47       7.23      22.06  \n",
       "...                      ...            ...        ...        ...  \n",
       "199994                 13.29           3.00       6.65      14.44  \n",
       "199995                  4.56           1.91       6.01      14.72  \n",
       "199997                 22.27           1.28      17.44      40.24  \n",
       "199998                  3.49           0.71       0.09       2.09  \n",
       "199999                -14.07           1.10      -8.74     -61.08  \n",
       "\n",
       "[169720 rows x 23 columns]"
      ],
      "text/html": "<div>\n<style scoped>\n    .dataframe tbody tr th:only-of-type {\n        vertical-align: middle;\n    }\n\n    .dataframe tbody tr th {\n        vertical-align: top;\n    }\n\n    .dataframe thead th {\n        text-align: right;\n    }\n</style>\n<table border=\"1\" class=\"dataframe\">\n  <thead>\n    <tr style=\"text-align: right;\">\n      <th></th>\n      <th>company</th>\n      <th>sector</th>\n      <th>horizon (days)</th>\n      <th>amount</th>\n      <th>date_BUY_fix</th>\n      <th>date_SELL_fix</th>\n      <th>price_BUY</th>\n      <th>price_SELL</th>\n      <th>Volatility_Buy</th>\n      <th>Volatility_sell</th>\n      <th>...</th>\n      <th>nominal_return</th>\n      <th>investment</th>\n      <th>ESG_ranking</th>\n      <th>PE_ratio</th>\n      <th>PS_ratio</th>\n      <th>PB_ratio</th>\n      <th>NetProfitMargin_ratio</th>\n      <th>current_ratio</th>\n      <th>roa_ratio</th>\n      <th>roe_ratio</th>\n    </tr>\n  </thead>\n  <tbody>\n    <tr>\n      <th>0</th>\n      <td>TSLA</td>\n      <td>AUTO</td>\n      <td>7</td>\n      <td>500</td>\n      <td>2017-06-14</td>\n      <td>2017-06-21</td>\n      <td>76.132004</td>\n      <td>75.279999</td>\n      <td>0.336212</td>\n      <td>0.336167</td>\n      <td>...</td>\n      <td>-0.011191</td>\n      <td>BAD</td>\n      <td>31.1</td>\n      <td>0</td>\n      <td>5.65</td>\n      <td>9.71</td>\n      <td>-7.60</td>\n      <td>0.97</td>\n      <td>-3.54</td>\n      <td>-15.13</td>\n    </tr>\n    <tr>\n      <th>1</th>\n      <td>SC</td>\n      <td>BANK</td>\n      <td>600</td>\n      <td>3000</td>\n      <td>2018-07-09</td>\n      <td>2020-02-28</td>\n      <td>17.611959</td>\n      <td>23.415619</td>\n      <td>0.291036</td>\n      <td>0.247294</td>\n      <td>...</td>\n      <td>0.329529</td>\n      <td>BAD</td>\n      <td>26.9</td>\n      <td>4.65</td>\n      <td>0.87</td>\n      <td>0.89</td>\n      <td>18.62</td>\n      <td>0.87</td>\n      <td>3.38</td>\n      <td>20.59</td>\n    </tr>\n    <tr>\n      <th>2</th>\n      <td>DB</td>\n      <td>BANK</td>\n      <td>330</td>\n      <td>5000</td>\n      <td>2014-04-03</td>\n      <td>2015-02-27</td>\n      <td>39.276001</td>\n      <td>30.680777</td>\n      <td>0.261244</td>\n      <td>0.260936</td>\n      <td>...</td>\n      <td>-0.218842</td>\n      <td>BAD</td>\n      <td>30.0</td>\n      <td>599.56</td>\n      <td>0.79</td>\n      <td>0.56</td>\n      <td>0.34</td>\n      <td>0.73</td>\n      <td>0.01</td>\n      <td>0.25</td>\n    </tr>\n    <tr>\n      <th>3</th>\n      <td>AMZN</td>\n      <td>TECH</td>\n      <td>90</td>\n      <td>15000</td>\n      <td>2015-01-09</td>\n      <td>2015-04-09</td>\n      <td>296.929993</td>\n      <td>383.540009</td>\n      <td>0.329601</td>\n      <td>0.324660</td>\n      <td>...</td>\n      <td>0.291685</td>\n      <td>GOOD</td>\n      <td>27.4</td>\n      <td>0</td>\n      <td>1.62</td>\n      <td>13.44</td>\n      <td>-0.27</td>\n      <td>1.12</td>\n      <td>-0.57</td>\n      <td>-2.29</td>\n    </tr>\n    <tr>\n      <th>5</th>\n      <td>BBY</td>\n      <td>RETAIL</td>\n      <td>30</td>\n      <td>50</td>\n      <td>2016-06-30</td>\n      <td>2016-07-29</td>\n      <td>27.180000</td>\n      <td>29.844707</td>\n      <td>0.349990</td>\n      <td>0.348505</td>\n      <td>...</td>\n      <td>0.098039</td>\n      <td>GOOD</td>\n      <td>12.0</td>\n      <td>9.65</td>\n      <td>0.25</td>\n      <td>2.06</td>\n      <td>2.53</td>\n      <td>1.47</td>\n      <td>7.23</td>\n      <td>22.06</td>\n    </tr>\n    <tr>\n      <th>...</th>\n      <td>...</td>\n      <td>...</td>\n      <td>...</td>\n      <td>...</td>\n      <td>...</td>\n      <td>...</td>\n      <td>...</td>\n      <td>...</td>\n      <td>...</td>\n      <td>...</td>\n      <td>...</td>\n      <td>...</td>\n      <td>...</td>\n      <td>...</td>\n      <td>...</td>\n      <td>...</td>\n      <td>...</td>\n      <td>...</td>\n      <td>...</td>\n      <td>...</td>\n      <td>...</td>\n    </tr>\n    <tr>\n      <th>199994</th>\n      <td>MSFT</td>\n      <td>TECH</td>\n      <td>30</td>\n      <td>4000</td>\n      <td>2015-12-10</td>\n      <td>2016-01-08</td>\n      <td>50.435631</td>\n      <td>47.752792</td>\n      <td>0.281871</td>\n      <td>0.281726</td>\n      <td>...</td>\n      <td>-0.053193</td>\n      <td>BAD</td>\n      <td>14.7</td>\n      <td>36.29</td>\n      <td>4.70</td>\n      <td>5.24</td>\n      <td>13.29</td>\n      <td>3.00</td>\n      <td>6.65</td>\n      <td>14.44</td>\n    </tr>\n    <tr>\n      <th>199995</th>\n      <td>KSS</td>\n      <td>RETAIL</td>\n      <td>60</td>\n      <td>50</td>\n      <td>2015-05-08</td>\n      <td>2015-07-07</td>\n      <td>58.212013</td>\n      <td>51.271896</td>\n      <td>0.226325</td>\n      <td>0.263863</td>\n      <td>...</td>\n      <td>-0.119221</td>\n      <td>BAD</td>\n      <td>12.9</td>\n      <td>13.03</td>\n      <td>0.60</td>\n      <td>1.88</td>\n      <td>4.56</td>\n      <td>1.91</td>\n      <td>6.01</td>\n      <td>14.72</td>\n    </tr>\n    <tr>\n      <th>199997</th>\n      <td>AAPL</td>\n      <td>TECH</td>\n      <td>90</td>\n      <td>100</td>\n      <td>2016-04-14</td>\n      <td>2016-07-13</td>\n      <td>26.105249</td>\n      <td>22.695921</td>\n      <td>0.275282</td>\n      <td>0.281343</td>\n      <td>...</td>\n      <td>-0.130599</td>\n      <td>BAD</td>\n      <td>16.5</td>\n      <td>11.29</td>\n      <td>2.53</td>\n      <td>4.26</td>\n      <td>22.27</td>\n      <td>1.28</td>\n      <td>17.44</td>\n      <td>40.24</td>\n    </tr>\n    <tr>\n      <th>199998</th>\n      <td>DB</td>\n      <td>BANK</td>\n      <td>540</td>\n      <td>1000</td>\n      <td>2015-08-10</td>\n      <td>2017-01-31</td>\n      <td>32.734558</td>\n      <td>19.146446</td>\n      <td>0.292055</td>\n      <td>0.517937</td>\n      <td>...</td>\n      <td>-0.415100</td>\n      <td>BAD</td>\n      <td>30.0</td>\n      <td>26.28</td>\n      <td>0.74</td>\n      <td>0.48</td>\n      <td>3.49</td>\n      <td>0.71</td>\n      <td>0.09</td>\n      <td>2.09</td>\n    </tr>\n    <tr>\n      <th>199999</th>\n      <td>TSLA</td>\n      <td>AUTO</td>\n      <td>600</td>\n      <td>15000</td>\n      <td>2015-06-03</td>\n      <td>2017-01-23</td>\n      <td>49.798000</td>\n      <td>49.784000</td>\n      <td>0.374240</td>\n      <td>0.382662</td>\n      <td>...</td>\n      <td>-0.000281</td>\n      <td>BAD</td>\n      <td>31.1</td>\n      <td>0</td>\n      <td>9.09</td>\n      <td>47.62</td>\n      <td>-14.07</td>\n      <td>1.10</td>\n      <td>-8.74</td>\n      <td>-61.08</td>\n    </tr>\n  </tbody>\n</table>\n<p>169720 rows × 23 columns</p>\n</div>"
     },
     "metadata": {},
     "execution_count": 83
    }
   ],
   "source": [
    "transactions_ready"
   ]
  },
  {
   "cell_type": "code",
   "execution_count": 92,
   "metadata": {},
   "outputs": [
    {
     "output_type": "stream",
     "name": "stdout",
     "text": [
      "0\n"
     ]
    },
    {
     "output_type": "execute_result",
     "data": {
      "text/plain": [
       "company                     0\n",
       "sector                      0\n",
       "horizon (days)              0\n",
       "amount                      0\n",
       "date_BUY_fix                0\n",
       "date_SELL_fix               0\n",
       "price_BUY                   0\n",
       "price_SELL                  0\n",
       "Volatility_Buy              0\n",
       "Volatility_sell             0\n",
       "Sharpe Ratio                0\n",
       "expected_return (yearly)    0\n",
       "inflation                   0\n",
       "nominal_return              0\n",
       "investment                  0\n",
       "ESG_ranking                 0\n",
       "PE_ratio                    0\n",
       "PS_ratio                    0\n",
       "PB_ratio                    0\n",
       "NetProfitMargin_ratio       0\n",
       "current_ratio               0\n",
       "roa_ratio                   0\n",
       "roe_ratio                   0\n",
       "EPS_ratio                   0\n",
       "dtype: int64"
      ]
     },
     "metadata": {},
     "execution_count": 92
    }
   ],
   "source": [
    "print(transactions_ready.isnull().values.sum())\n",
    "transactions_ready.isnull().sum()\n"
   ]
  },
  {
   "cell_type": "code",
   "execution_count": 93,
   "metadata": {},
   "outputs": [
    {
     "output_type": "stream",
     "name": "stdout",
     "text": [
      "original    : 161898\nwithout NAN : 161898\nrows with NAN:  0\n"
     ]
    }
   ],
   "source": [
    "df_review=transactions_ready.copy()\n",
    "print('original    :',df_review.shape[0])\n",
    "print('without NAN :',df_review.dropna().shape[0])\n",
    "print('rows with NAN: ',df_review.shape[0]-df_review.dropna().shape[0])"
   ]
  },
  {
   "cell_type": "code",
   "execution_count": 94,
   "metadata": {},
   "outputs": [
    {
     "output_type": "execute_result",
     "data": {
      "text/plain": [
       "(161898, 24)"
      ]
     },
     "metadata": {},
     "execution_count": 94
    }
   ],
   "source": [
    "transactions_ready=transactions_ready.dropna()\n",
    "transactions_ready.shape"
   ]
  },
  {
   "cell_type": "code",
   "execution_count": 95,
   "metadata": {},
   "outputs": [],
   "source": [
    "transactions_ready.to_csv('transactions_variables.csv')"
   ]
  },
  {
   "cell_type": "code",
   "execution_count": null,
   "metadata": {},
   "outputs": [],
   "source": []
  }
 ],
 "metadata": {
  "colab": {
   "collapsed_sections": [],
   "name": "Dataset_Transacciones.ipynb",
   "provenance": []
  },
  "kernelspec": {
   "display_name": "Python 3",
   "language": "python",
   "name": "python3"
  },
  "language_info": {
   "codemirror_mode": {
    "name": "ipython",
    "version": 3
   },
   "file_extension": ".py",
   "mimetype": "text/x-python",
   "name": "python",
   "nbconvert_exporter": "python",
   "pygments_lexer": "ipython3",
   "version": "3.8.3-final"
  }
 },
 "nbformat": 4,
 "nbformat_minor": 1
}