{
 "cells": [
  {
   "cell_type": "code",
   "execution_count": 1,
   "metadata": {},
   "outputs": [
    {
     "name": "stdout",
     "output_type": "stream",
     "text": [
      "Requirement already satisfied: beautifulsoup4 in c:\\users\\danieldabdub\\anaconda3\\lib\\site-packages (4.9.1)\n",
      "Requirement already satisfied: soupsieve>1.2 in c:\\users\\danieldabdub\\anaconda3\\lib\\site-packages (from beautifulsoup4) (2.0.1)\n"
     ]
    }
   ],
   "source": [
    "!pip install beautifulsoup4"
   ]
  },
  {
   "cell_type": "code",
   "execution_count": 2,
   "metadata": {},
   "outputs": [],
   "source": [
    "from bs4 import BeautifulSoup\n",
    "import requests\n",
    "import pandas as pd\n",
    "import pickle"
   ]
  },
  {
   "cell_type": "markdown",
   "metadata": {},
   "source": [
    "# Financial ratios extraction"
   ]
  },
  {
   "cell_type": "code",
   "execution_count": 10,
   "metadata": {},
   "outputs": [],
   "source": [
    "companies_tickers = [\n",
    "'AAPL',\n",
    "'AMZN',\n",
    "'MSFT',\n",
    "'GOOG',\n",
    "'FB',\n",
    "'NVDA',\n",
    "#automobiles\n",
    "'F',\n",
    "'GM',\n",
    "'HMC',\n",
    "'TSLA',\n",
    "'TYO',\n",
    "'HOG',\n",
    "#retail\n",
    "'WMT',\n",
    "'M',\n",
    "'TGT',\n",
    "'KSS',\n",
    "'COST',\n",
    "'BBY',\n",
    "#FastMovingConsumerGoods(FMCG)\n",
    "'NESN',\n",
    "'KO',\n",
    "'PEP',\n",
    "'ULVR',\n",
    "'PG',\n",
    "'OR',\n",
    "#bank\n",
    "'AXP',\n",
    "'VISA',\n",
    "'SC',\n",
    "'DB',\n",
    "'UBS',\n",
    "'BAC',\n",
    "'JPM']"
   ]
  },
  {
   "cell_type": "code",
   "execution_count": 11,
   "metadata": {},
   "outputs": [],
   "source": [
    "companies_names=[\n",
    "#tech\n",
    "'apple',\n",
    "'amazon',\n",
    "'microsoft',\n",
    "'google',\n",
    "'facebook',\n",
    "'nvidia',\n",
    "#automobiles\n",
    "'ford',\n",
    "'general-motors',\n",
    "'honda',\n",
    "'tesla',\n",
    "'toyota',\n",
    "'harley-davidson',\n",
    "#retail\n",
    "'walmart',\n",
    "'macys',\n",
    "'target',\n",
    "'kohl',\n",
    "'costco',\n",
    "'best-buy',\n",
    "#FastMovingConsumerGoods(FMCG)\n",
    "'nestle',\n",
    "'cocacola',\n",
    "'pepsi',\n",
    "'unilever',\n",
    "'procter-gamble',\n",
    "'loreal',\n",
    " #bank\n",
    "'american-express',\n",
    "'visa',\n",
    "'santander-consumer-usa-holdings',\n",
    "'deutsche-bank-aktiengesellschaft',\n",
    "'ubs-group-ag',\n",
    "'bank-of-america',\n",
    "'jpmorgan-chase']"
   ]
  },
  {
   "cell_type": "markdown",
   "metadata": {},
   "source": [
    "# PE ratio and EPS ratio"
   ]
  },
  {
   "cell_type": "code",
   "execution_count": 12,
   "metadata": {
    "scrolled": false
   },
   "outputs": [
    {
     "name": "stdout",
     "output_type": "stream",
     "text": [
      "https://www.macrotrends.net/stocks/charts/AAPL/apple/pe-ratio\n"
     ]
    },
    {
     "name": "stderr",
     "output_type": "stream",
     "text": [
      "<ipython-input-12-c1748d7db3d6>:44: DeprecationWarning: The default dtype for empty Series will be 'object' instead of 'float64' in a future version. Specify a dtype explicitly to silence this warning.\n",
      "  df_ratios = df_ratios.append(pd.Series(l_elems), ignore_index=True)\n"
     ]
    },
    {
     "name": "stdout",
     "output_type": "stream",
     "text": [
      "https://www.macrotrends.net/stocks/charts/AMZN/amazon/pe-ratio\n",
      "https://www.macrotrends.net/stocks/charts/MSFT/microsoft/pe-ratio\n",
      "https://www.macrotrends.net/stocks/charts/GOOG/google/pe-ratio\n",
      "https://www.macrotrends.net/stocks/charts/FB/facebook/pe-ratio\n",
      "https://www.macrotrends.net/stocks/charts/NVDA/nvidia/pe-ratio\n",
      "https://www.macrotrends.net/stocks/charts/F/ford/pe-ratio\n",
      "https://www.macrotrends.net/stocks/charts/GM/general-motors/pe-ratio\n",
      "https://www.macrotrends.net/stocks/charts/HMC/honda/pe-ratio\n",
      "https://www.macrotrends.net/stocks/charts/TSLA/tesla/pe-ratio\n",
      "https://www.macrotrends.net/stocks/charts/TYO/toyota/pe-ratio\n",
      "Couldnt retrieve info from   TYO...toyota\n",
      "https://www.macrotrends.net/stocks/charts/HOG/harley-davidson/pe-ratio\n",
      "https://www.macrotrends.net/stocks/charts/WMT/walmart/pe-ratio\n",
      "https://www.macrotrends.net/stocks/charts/M/macys/pe-ratio\n",
      "https://www.macrotrends.net/stocks/charts/TGT/target/pe-ratio\n",
      "https://www.macrotrends.net/stocks/charts/KSS/kohl/pe-ratio\n",
      "https://www.macrotrends.net/stocks/charts/COST/costco/pe-ratio\n",
      "https://www.macrotrends.net/stocks/charts/BBY/best-buy/pe-ratio\n",
      "https://www.macrotrends.net/stocks/charts/NESN/nestle/pe-ratio\n",
      "Couldnt retrieve info from   NESN...nestle\n",
      "https://www.macrotrends.net/stocks/charts/KO/cocacola/pe-ratio\n",
      "https://www.macrotrends.net/stocks/charts/PEP/pepsi/pe-ratio\n",
      "https://www.macrotrends.net/stocks/charts/ULVR/unilever/pe-ratio\n",
      "Couldnt retrieve info from   ULVR...unilever\n",
      "https://www.macrotrends.net/stocks/charts/PG/procter-gamble/pe-ratio\n",
      "https://www.macrotrends.net/stocks/charts/OR/loreal/pe-ratio\n",
      "https://www.macrotrends.net/stocks/charts/AXP/american-express/pe-ratio\n",
      "https://www.macrotrends.net/stocks/charts/VISA/visa/pe-ratio\n",
      "Couldnt retrieve info from   VISA...visa\n",
      "https://www.macrotrends.net/stocks/charts/SC/santander-consumer-usa-holdings/pe-ratio\n",
      "https://www.macrotrends.net/stocks/charts/DB/deutsche-bank-aktiengesellschaft/pe-ratio\n",
      "https://www.macrotrends.net/stocks/charts/UBS/ubs-group-ag/pe-ratio\n",
      "https://www.macrotrends.net/stocks/charts/BAC/bank-of-america/pe-ratio\n",
      "https://www.macrotrends.net/stocks/charts/JPM/jpmorgan-chase/pe-ratio\n"
     ]
    }
   ],
   "source": [
    "pe_ratios_collection = {} \n",
    "\n",
    "for company_ticker, company_name in zip(companies_tickers, companies_names):\n",
    "    url=\"https://www.macrotrends.net/stocks/charts/\" + company_ticker  +\"/\"+ company_name + \"/pe-ratio\"\n",
    "    print(url)\n",
    "    # Make a GET request to fetch the raw HTML content\n",
    "    html_content = requests.get(url).text\n",
    "\n",
    "    # Parse the html content\n",
    "    soup = BeautifulSoup(html_content, \"html\")\n",
    "\n",
    "    try:\n",
    "        #Search for table\n",
    "        ratios_table = soup.find(\"table\", attrs={\"class\": \"table\"})\n",
    "        #Get rows\n",
    "        ratios_table_data = ratios_table.find_all(\"tr\")\n",
    "\n",
    "        # Get all the headings of Lists\n",
    "        headings = []\n",
    "        for th in ratios_table_data[1].find_all(\"th\"):\n",
    "            # remove any newlines and extra spaces from left and right\n",
    "            h=th.text.replace('\\n', ' ').strip()\n",
    "            #replace spaces with underscores\n",
    "            h=h.replace(\" \", \"_\")\n",
    "            headings.append(h)\n",
    "\n",
    "\n",
    "        #Extract and collect elements from table.\n",
    "        l_elems=list()\n",
    "        df_ratios=pd.DataFrame()\n",
    "\n",
    "        for row in ratios_table_data:\n",
    "            l_elems=list()\n",
    "            cont=0\n",
    "            for td in row.find_all(\"td\"):\n",
    "                cont+=1\n",
    "\n",
    "                if cont==1:\n",
    "                    elem=td.text[:7]\n",
    "                else:\n",
    "                    elem=td.text\n",
    "\n",
    "                l_elems.append(elem)\n",
    "            df_ratios = df_ratios.append(pd.Series(l_elems), ignore_index=True)   \n",
    "        cont=0\n",
    "\n",
    "        df_ratios.columns=headings\n",
    "        df_ratios['Date'] = pd.to_datetime(df_ratios['Date'])\n",
    "        pe_ratios_collection[company_ticker] = df_ratios\n",
    "\n",
    "    except:\n",
    "        print(\"Couldnt retrieve info from   \" + company_ticker + \"...\" + company_name)\n"
   ]
  },
  {
   "cell_type": "code",
   "execution_count": 13,
   "metadata": {},
   "outputs": [],
   "source": [
    "pickle.dump(pe_ratios_collection, open('pe_ratios_collection.p', \"wb\" ))\n"
   ]
  },
  {
   "cell_type": "markdown",
   "metadata": {},
   "source": [
    "# PS ratio"
   ]
  },
  {
   "cell_type": "code",
   "execution_count": 14,
   "metadata": {},
   "outputs": [
    {
     "name": "stdout",
     "output_type": "stream",
     "text": [
      "https://www.macrotrends.net/stocks/charts/AAPL/apple/price-sales\n"
     ]
    },
    {
     "name": "stderr",
     "output_type": "stream",
     "text": [
      "<ipython-input-14-f5381557c38e>:44: DeprecationWarning: The default dtype for empty Series will be 'object' instead of 'float64' in a future version. Specify a dtype explicitly to silence this warning.\n",
      "  df_ratios = df_ratios.append(pd.Series(l_elems), ignore_index=True)\n"
     ]
    },
    {
     "name": "stdout",
     "output_type": "stream",
     "text": [
      "https://www.macrotrends.net/stocks/charts/AMZN/amazon/price-sales\n",
      "https://www.macrotrends.net/stocks/charts/MSFT/microsoft/price-sales\n",
      "https://www.macrotrends.net/stocks/charts/GOOG/google/price-sales\n",
      "https://www.macrotrends.net/stocks/charts/FB/facebook/price-sales\n",
      "https://www.macrotrends.net/stocks/charts/NVDA/nvidia/price-sales\n",
      "https://www.macrotrends.net/stocks/charts/F/ford/price-sales\n",
      "https://www.macrotrends.net/stocks/charts/GM/general-motors/price-sales\n",
      "https://www.macrotrends.net/stocks/charts/HMC/honda/price-sales\n",
      "https://www.macrotrends.net/stocks/charts/TSLA/tesla/price-sales\n",
      "https://www.macrotrends.net/stocks/charts/TYO/toyota/price-sales\n",
      "Couldnt retrieve info from   TYO...toyota\n",
      "https://www.macrotrends.net/stocks/charts/HOG/harley-davidson/price-sales\n",
      "https://www.macrotrends.net/stocks/charts/WMT/walmart/price-sales\n",
      "https://www.macrotrends.net/stocks/charts/M/macys/price-sales\n",
      "https://www.macrotrends.net/stocks/charts/TGT/target/price-sales\n",
      "https://www.macrotrends.net/stocks/charts/KSS/kohl/price-sales\n",
      "https://www.macrotrends.net/stocks/charts/COST/costco/price-sales\n",
      "https://www.macrotrends.net/stocks/charts/BBY/best-buy/price-sales\n",
      "https://www.macrotrends.net/stocks/charts/NESN/nestle/price-sales\n",
      "Couldnt retrieve info from   NESN...nestle\n",
      "https://www.macrotrends.net/stocks/charts/KO/cocacola/price-sales\n",
      "https://www.macrotrends.net/stocks/charts/PEP/pepsi/price-sales\n",
      "https://www.macrotrends.net/stocks/charts/ULVR/unilever/price-sales\n",
      "Couldnt retrieve info from   ULVR...unilever\n",
      "https://www.macrotrends.net/stocks/charts/PG/procter-gamble/price-sales\n",
      "https://www.macrotrends.net/stocks/charts/OR/loreal/price-sales\n",
      "https://www.macrotrends.net/stocks/charts/AXP/american-express/price-sales\n",
      "https://www.macrotrends.net/stocks/charts/VISA/visa/price-sales\n",
      "Couldnt retrieve info from   VISA...visa\n",
      "https://www.macrotrends.net/stocks/charts/SC/santander-consumer-usa-holdings/price-sales\n",
      "https://www.macrotrends.net/stocks/charts/DB/deutsche-bank-aktiengesellschaft/price-sales\n",
      "https://www.macrotrends.net/stocks/charts/UBS/ubs-group-ag/price-sales\n",
      "https://www.macrotrends.net/stocks/charts/BAC/bank-of-america/price-sales\n",
      "https://www.macrotrends.net/stocks/charts/JPM/jpmorgan-chase/price-sales\n"
     ]
    }
   ],
   "source": [
    "\n",
    "\n",
    "ps_ratios_collection = {} \n",
    "\n",
    "for company_ticker, company_name in zip(companies_tickers, companies_names):\n",
    "    url=\"https://www.macrotrends.net/stocks/charts/\" + company_ticker  +\"/\"+ company_name + \"/price-sales\"\n",
    "    print(url)\n",
    "    # Make a GET request to fetch the raw HTML content\n",
    "    html_content = requests.get(url).text\n",
    "\n",
    "    # Parse the html content\n",
    "    soup = BeautifulSoup(html_content, \"html\")\n",
    "\n",
    "    try:\n",
    "        #Search for table\n",
    "        ratios_table = soup.find(\"table\", attrs={\"class\": \"table\"})\n",
    "        #Get rows\n",
    "        ratios_table_data = ratios_table.find_all(\"tr\")\n",
    "\n",
    "        # Get all the headings of Lists\n",
    "        headings = []\n",
    "        for th in ratios_table_data[1].find_all(\"th\"):\n",
    "            # remove any newlines and extra spaces from left and right\n",
    "            h=th.text.replace('\\n', ' ').strip()\n",
    "            #replace spaces with underscores\n",
    "            h=h.replace(\" \", \"_\")\n",
    "            headings.append(h)\n",
    "\n",
    "\n",
    "        #Extract and collect elements from table.\n",
    "        l_elems=list()\n",
    "        df_ratios=pd.DataFrame()\n",
    "\n",
    "        for row in ratios_table_data:\n",
    "            l_elems=list()\n",
    "            cont=0\n",
    "            for td in row.find_all(\"td\"):\n",
    "                cont+=1\n",
    "\n",
    "                if cont==1:\n",
    "                    elem=td.text[:7]\n",
    "                else:\n",
    "                    elem=td.text\n",
    "\n",
    "                l_elems.append(elem)\n",
    "            df_ratios = df_ratios.append(pd.Series(l_elems), ignore_index=True)   \n",
    "        cont=0\n",
    "\n",
    "        df_ratios.columns=headings\n",
    "        df_ratios['Date'] = pd.to_datetime(df_ratios['Date'])\n",
    "        ps_ratios_collection[company_ticker] = df_ratios\n",
    "\n",
    "    except:\n",
    "        print(\"Couldnt retrieve info from   \" + company_ticker + \"...\" + company_name)\n"
   ]
  },
  {
   "cell_type": "code",
   "execution_count": 15,
   "metadata": {},
   "outputs": [],
   "source": [
    "pickle.dump(ps_ratios_collection, open('ps_ratios_collection.p', \"wb\" ))"
   ]
  },
  {
   "cell_type": "markdown",
   "metadata": {},
   "source": [
    "## PB Ratio "
   ]
  },
  {
   "cell_type": "code",
   "execution_count": 16,
   "metadata": {},
   "outputs": [
    {
     "name": "stdout",
     "output_type": "stream",
     "text": [
      "https://www.macrotrends.net/stocks/charts/AAPL/apple/price-book\n"
     ]
    },
    {
     "name": "stderr",
     "output_type": "stream",
     "text": [
      "<ipython-input-16-b9c2b15f98b5>:44: DeprecationWarning: The default dtype for empty Series will be 'object' instead of 'float64' in a future version. Specify a dtype explicitly to silence this warning.\n",
      "  df_ratios = df_ratios.append(pd.Series(l_elems), ignore_index=True)\n"
     ]
    },
    {
     "name": "stdout",
     "output_type": "stream",
     "text": [
      "https://www.macrotrends.net/stocks/charts/AMZN/amazon/price-book\n",
      "https://www.macrotrends.net/stocks/charts/MSFT/microsoft/price-book\n",
      "https://www.macrotrends.net/stocks/charts/GOOG/google/price-book\n",
      "https://www.macrotrends.net/stocks/charts/FB/facebook/price-book\n",
      "https://www.macrotrends.net/stocks/charts/NVDA/nvidia/price-book\n",
      "https://www.macrotrends.net/stocks/charts/F/ford/price-book\n",
      "https://www.macrotrends.net/stocks/charts/GM/general-motors/price-book\n",
      "https://www.macrotrends.net/stocks/charts/HMC/honda/price-book\n",
      "https://www.macrotrends.net/stocks/charts/TSLA/tesla/price-book\n",
      "https://www.macrotrends.net/stocks/charts/TYO/toyota/price-book\n",
      "Couldnt retrieve info from   TYO...toyota\n",
      "https://www.macrotrends.net/stocks/charts/HOG/harley-davidson/price-book\n",
      "https://www.macrotrends.net/stocks/charts/WMT/walmart/price-book\n",
      "https://www.macrotrends.net/stocks/charts/M/macys/price-book\n",
      "https://www.macrotrends.net/stocks/charts/TGT/target/price-book\n",
      "https://www.macrotrends.net/stocks/charts/KSS/kohl/price-book\n",
      "https://www.macrotrends.net/stocks/charts/COST/costco/price-book\n",
      "https://www.macrotrends.net/stocks/charts/BBY/best-buy/price-book\n",
      "https://www.macrotrends.net/stocks/charts/NESN/nestle/price-book\n",
      "Couldnt retrieve info from   NESN...nestle\n",
      "https://www.macrotrends.net/stocks/charts/KO/cocacola/price-book\n",
      "https://www.macrotrends.net/stocks/charts/PEP/pepsi/price-book\n",
      "https://www.macrotrends.net/stocks/charts/ULVR/unilever/price-book\n",
      "Couldnt retrieve info from   ULVR...unilever\n",
      "https://www.macrotrends.net/stocks/charts/PG/procter-gamble/price-book\n",
      "https://www.macrotrends.net/stocks/charts/OR/loreal/price-book\n",
      "https://www.macrotrends.net/stocks/charts/AXP/american-express/price-book\n",
      "https://www.macrotrends.net/stocks/charts/VISA/visa/price-book\n",
      "Couldnt retrieve info from   VISA...visa\n",
      "https://www.macrotrends.net/stocks/charts/SC/santander-consumer-usa-holdings/price-book\n",
      "https://www.macrotrends.net/stocks/charts/DB/deutsche-bank-aktiengesellschaft/price-book\n",
      "https://www.macrotrends.net/stocks/charts/UBS/ubs-group-ag/price-book\n",
      "https://www.macrotrends.net/stocks/charts/BAC/bank-of-america/price-book\n",
      "https://www.macrotrends.net/stocks/charts/JPM/jpmorgan-chase/price-book\n"
     ]
    }
   ],
   "source": [
    "\n",
    "pb_ratios_collection = {} \n",
    "\n",
    "for company_ticker, company_name in zip(companies_tickers, companies_names):\n",
    "    url=\"https://www.macrotrends.net/stocks/charts/\" + company_ticker  +\"/\"+ company_name + \"/price-book\"\n",
    "    print(url)\n",
    "    # Make a GET request to fetch the raw HTML content\n",
    "    html_content = requests.get(url).text\n",
    "\n",
    "    # Parse the html content\n",
    "    soup = BeautifulSoup(html_content, \"html\")\n",
    "\n",
    "    try:\n",
    "        #Search for table\n",
    "        ratios_table = soup.find(\"table\", attrs={\"class\": \"table\"})\n",
    "        #Get rows\n",
    "        ratios_table_data = ratios_table.find_all(\"tr\")\n",
    "\n",
    "        # Get all the headings of Lists\n",
    "        headings = []\n",
    "        for th in ratios_table_data[1].find_all(\"th\"):\n",
    "            # remove any newlines and extra spaces from left and right\n",
    "            h=th.text.replace('\\n', ' ').strip()\n",
    "            #replace spaces with underscores\n",
    "            h=h.replace(\" \", \"_\")\n",
    "            headings.append(h)\n",
    "\n",
    "\n",
    "        #Extract and collect elements from table.\n",
    "        l_elems=list()\n",
    "        df_ratios=pd.DataFrame()\n",
    "\n",
    "        for row in ratios_table_data:\n",
    "            l_elems=list()\n",
    "            cont=0\n",
    "            for td in row.find_all(\"td\"):\n",
    "                cont+=1\n",
    "\n",
    "                if cont==1:\n",
    "                    elem=td.text[:7]\n",
    "                else:\n",
    "                    elem=td.text\n",
    "\n",
    "                l_elems.append(elem)\n",
    "            df_ratios = df_ratios.append(pd.Series(l_elems), ignore_index=True)   \n",
    "        cont=0\n",
    "\n",
    "        df_ratios.columns=headings\n",
    "        df_ratios['Date'] = pd.to_datetime(df_ratios['Date'])\n",
    "        pb_ratios_collection[company_ticker] = df_ratios\n",
    "\n",
    "    except:\n",
    "        print(\"Couldnt retrieve info from   \" + company_ticker + \"...\" + company_name)\n",
    "    "
   ]
  },
  {
   "cell_type": "code",
   "execution_count": 17,
   "metadata": {},
   "outputs": [],
   "source": [
    "pickle.dump(pb_ratios_collection, open('pb_ratios_collection.p', \"wb\" ))"
   ]
  },
  {
   "cell_type": "markdown",
   "metadata": {},
   "source": [
    "## Net Profit Margin"
   ]
  },
  {
   "cell_type": "code",
   "execution_count": 18,
   "metadata": {
    "scrolled": true
   },
   "outputs": [
    {
     "name": "stdout",
     "output_type": "stream",
     "text": [
      "https://www.macrotrends.net/stocks/charts/AAPL/apple/net-profit-margin\n"
     ]
    },
    {
     "name": "stderr",
     "output_type": "stream",
     "text": [
      "<ipython-input-18-4cd3051ff344>:44: DeprecationWarning: The default dtype for empty Series will be 'object' instead of 'float64' in a future version. Specify a dtype explicitly to silence this warning.\n",
      "  df_ratios = df_ratios.append(pd.Series(l_elems), ignore_index=True)\n"
     ]
    },
    {
     "name": "stdout",
     "output_type": "stream",
     "text": [
      "https://www.macrotrends.net/stocks/charts/AMZN/amazon/net-profit-margin\n",
      "https://www.macrotrends.net/stocks/charts/MSFT/microsoft/net-profit-margin\n",
      "https://www.macrotrends.net/stocks/charts/GOOG/google/net-profit-margin\n",
      "https://www.macrotrends.net/stocks/charts/FB/facebook/net-profit-margin\n",
      "https://www.macrotrends.net/stocks/charts/NVDA/nvidia/net-profit-margin\n",
      "https://www.macrotrends.net/stocks/charts/F/ford/net-profit-margin\n",
      "https://www.macrotrends.net/stocks/charts/GM/general-motors/net-profit-margin\n",
      "https://www.macrotrends.net/stocks/charts/HMC/honda/net-profit-margin\n",
      "https://www.macrotrends.net/stocks/charts/TSLA/tesla/net-profit-margin\n",
      "https://www.macrotrends.net/stocks/charts/TYO/toyota/net-profit-margin\n",
      "Couldnt retrieve info from   TYO...toyota\n",
      "https://www.macrotrends.net/stocks/charts/HOG/harley-davidson/net-profit-margin\n",
      "https://www.macrotrends.net/stocks/charts/WMT/walmart/net-profit-margin\n",
      "https://www.macrotrends.net/stocks/charts/M/macys/net-profit-margin\n",
      "https://www.macrotrends.net/stocks/charts/TGT/target/net-profit-margin\n",
      "https://www.macrotrends.net/stocks/charts/KSS/kohl/net-profit-margin\n",
      "https://www.macrotrends.net/stocks/charts/COST/costco/net-profit-margin\n",
      "https://www.macrotrends.net/stocks/charts/BBY/best-buy/net-profit-margin\n",
      "https://www.macrotrends.net/stocks/charts/NESN/nestle/net-profit-margin\n",
      "Couldnt retrieve info from   NESN...nestle\n",
      "https://www.macrotrends.net/stocks/charts/KO/cocacola/net-profit-margin\n",
      "https://www.macrotrends.net/stocks/charts/PEP/pepsi/net-profit-margin\n",
      "https://www.macrotrends.net/stocks/charts/ULVR/unilever/net-profit-margin\n",
      "Couldnt retrieve info from   ULVR...unilever\n",
      "https://www.macrotrends.net/stocks/charts/PG/procter-gamble/net-profit-margin\n",
      "https://www.macrotrends.net/stocks/charts/OR/loreal/net-profit-margin\n",
      "https://www.macrotrends.net/stocks/charts/AXP/american-express/net-profit-margin\n",
      "https://www.macrotrends.net/stocks/charts/VISA/visa/net-profit-margin\n",
      "Couldnt retrieve info from   VISA...visa\n",
      "https://www.macrotrends.net/stocks/charts/SC/santander-consumer-usa-holdings/net-profit-margin\n",
      "https://www.macrotrends.net/stocks/charts/DB/deutsche-bank-aktiengesellschaft/net-profit-margin\n",
      "https://www.macrotrends.net/stocks/charts/UBS/ubs-group-ag/net-profit-margin\n",
      "https://www.macrotrends.net/stocks/charts/BAC/bank-of-america/net-profit-margin\n",
      "https://www.macrotrends.net/stocks/charts/JPM/jpmorgan-chase/net-profit-margin\n"
     ]
    }
   ],
   "source": [
    "\n",
    "netProfitMargin_ratios_collection = {} \n",
    "\n",
    "for company_ticker, company_name in zip(companies_tickers, companies_names):\n",
    "    url=\"https://www.macrotrends.net/stocks/charts/\" + company_ticker  +\"/\"+ company_name + \"/net-profit-margin\"\n",
    "    print(url)\n",
    "    # Make a GET request to fetch the raw HTML content\n",
    "    html_content = requests.get(url).text\n",
    "\n",
    "    # Parse the html content\n",
    "    soup = BeautifulSoup(html_content, \"html\")\n",
    "\n",
    "    try:\n",
    "        #Search for table\n",
    "        ratios_table = soup.find(\"table\", attrs={\"class\": \"table\"})\n",
    "        #Get rows\n",
    "        ratios_table_data = ratios_table.find_all(\"tr\")\n",
    "\n",
    "        # Get all the headings of Lists\n",
    "        headings = []\n",
    "        for th in ratios_table_data[1].find_all(\"th\"):\n",
    "            # remove any newlines and extra spaces from left and right\n",
    "            h=th.text.replace('\\n', ' ').strip()\n",
    "            #replace spaces with underscores\n",
    "            h=h.replace(\" \", \"_\")\n",
    "            headings.append(h)\n",
    "\n",
    "\n",
    "        #Extract and collect elements from table.\n",
    "        l_elems=list()\n",
    "        df_ratios=pd.DataFrame()\n",
    "\n",
    "        for row in ratios_table_data:\n",
    "            l_elems=list()\n",
    "            cont=0\n",
    "            for td in row.find_all(\"td\"):\n",
    "                cont+=1\n",
    "\n",
    "                if cont==1:\n",
    "                    elem=td.text[:7]\n",
    "                else:\n",
    "                    elem=td.text\n",
    "\n",
    "                l_elems.append(elem)\n",
    "            df_ratios = df_ratios.append(pd.Series(l_elems), ignore_index=True)   \n",
    "        cont=0\n",
    "\n",
    "        df_ratios.columns=headings\n",
    "        df_ratios['Date'] = pd.to_datetime(df_ratios['Date'])\n",
    "        netProfitMargin_ratios_collection[company_ticker] = df_ratios\n",
    "\n",
    "    except:\n",
    "        print(\"Couldnt retrieve info from   \" + company_ticker + \"...\" + company_name)\n",
    "    "
   ]
  },
  {
   "cell_type": "code",
   "execution_count": 19,
   "metadata": {},
   "outputs": [],
   "source": [
    "pickle.dump(netProfitMargin_ratios_collection, open('netProfitMargin_ratios_collection.p', \"wb\" ))"
   ]
  },
  {
   "cell_type": "markdown",
   "metadata": {},
   "source": [
    "## Current ratio "
   ]
  },
  {
   "cell_type": "code",
   "execution_count": 20,
   "metadata": {
    "scrolled": true
   },
   "outputs": [
    {
     "name": "stdout",
     "output_type": "stream",
     "text": [
      "https://www.macrotrends.net/stocks/charts/AAPL/apple/current-ratio\n"
     ]
    },
    {
     "name": "stderr",
     "output_type": "stream",
     "text": [
      "<ipython-input-20-e43834786621>:44: DeprecationWarning: The default dtype for empty Series will be 'object' instead of 'float64' in a future version. Specify a dtype explicitly to silence this warning.\n",
      "  df_ratios = df_ratios.append(pd.Series(l_elems), ignore_index=True)\n"
     ]
    },
    {
     "name": "stdout",
     "output_type": "stream",
     "text": [
      "https://www.macrotrends.net/stocks/charts/AMZN/amazon/current-ratio\n",
      "https://www.macrotrends.net/stocks/charts/MSFT/microsoft/current-ratio\n",
      "https://www.macrotrends.net/stocks/charts/GOOG/google/current-ratio\n",
      "https://www.macrotrends.net/stocks/charts/FB/facebook/current-ratio\n",
      "https://www.macrotrends.net/stocks/charts/NVDA/nvidia/current-ratio\n",
      "https://www.macrotrends.net/stocks/charts/F/ford/current-ratio\n",
      "https://www.macrotrends.net/stocks/charts/GM/general-motors/current-ratio\n",
      "https://www.macrotrends.net/stocks/charts/HMC/honda/current-ratio\n",
      "https://www.macrotrends.net/stocks/charts/TSLA/tesla/current-ratio\n",
      "https://www.macrotrends.net/stocks/charts/TYO/toyota/current-ratio\n",
      "Couldnt retrieve info from   TYO...toyota\n",
      "https://www.macrotrends.net/stocks/charts/HOG/harley-davidson/current-ratio\n",
      "https://www.macrotrends.net/stocks/charts/WMT/walmart/current-ratio\n",
      "https://www.macrotrends.net/stocks/charts/M/macys/current-ratio\n",
      "https://www.macrotrends.net/stocks/charts/TGT/target/current-ratio\n",
      "https://www.macrotrends.net/stocks/charts/KSS/kohl/current-ratio\n",
      "https://www.macrotrends.net/stocks/charts/COST/costco/current-ratio\n",
      "https://www.macrotrends.net/stocks/charts/BBY/best-buy/current-ratio\n",
      "https://www.macrotrends.net/stocks/charts/NESN/nestle/current-ratio\n",
      "Couldnt retrieve info from   NESN...nestle\n",
      "https://www.macrotrends.net/stocks/charts/KO/cocacola/current-ratio\n",
      "https://www.macrotrends.net/stocks/charts/PEP/pepsi/current-ratio\n",
      "https://www.macrotrends.net/stocks/charts/ULVR/unilever/current-ratio\n",
      "Couldnt retrieve info from   ULVR...unilever\n",
      "https://www.macrotrends.net/stocks/charts/PG/procter-gamble/current-ratio\n",
      "https://www.macrotrends.net/stocks/charts/OR/loreal/current-ratio\n",
      "https://www.macrotrends.net/stocks/charts/AXP/american-express/current-ratio\n",
      "https://www.macrotrends.net/stocks/charts/VISA/visa/current-ratio\n",
      "Couldnt retrieve info from   VISA...visa\n",
      "https://www.macrotrends.net/stocks/charts/SC/santander-consumer-usa-holdings/current-ratio\n",
      "https://www.macrotrends.net/stocks/charts/DB/deutsche-bank-aktiengesellschaft/current-ratio\n",
      "https://www.macrotrends.net/stocks/charts/UBS/ubs-group-ag/current-ratio\n",
      "https://www.macrotrends.net/stocks/charts/BAC/bank-of-america/current-ratio\n",
      "https://www.macrotrends.net/stocks/charts/JPM/jpmorgan-chase/current-ratio\n"
     ]
    }
   ],
   "source": [
    "\n",
    "current_ratios_collection = {} \n",
    "\n",
    "for company_ticker, company_name in zip(companies_tickers, companies_names):\n",
    "    url=\"https://www.macrotrends.net/stocks/charts/\" + company_ticker  +\"/\"+ company_name + \"/current-ratio\"\n",
    "    print(url)\n",
    "    # Make a GET request to fetch the raw HTML content\n",
    "    html_content = requests.get(url).text\n",
    "\n",
    "    # Parse the html content\n",
    "    soup = BeautifulSoup(html_content, \"html\")\n",
    "\n",
    "    try:\n",
    "        #Search for table\n",
    "        ratios_table = soup.find(\"table\", attrs={\"class\": \"table\"})\n",
    "        #Get rows\n",
    "        ratios_table_data = ratios_table.find_all(\"tr\")\n",
    "\n",
    "        # Get all the headings of Lists\n",
    "        headings = []\n",
    "        for th in ratios_table_data[1].find_all(\"th\"):\n",
    "            # remove any newlines and extra spaces from left and right\n",
    "            h=th.text.replace('\\n', ' ').strip()\n",
    "            #replace spaces with underscores\n",
    "            h=h.replace(\" \", \"_\")\n",
    "            headings.append(h)\n",
    "\n",
    "\n",
    "        #Extract and collect elements from table.\n",
    "        l_elems=list()\n",
    "        df_ratios=pd.DataFrame()\n",
    "\n",
    "        for row in ratios_table_data:\n",
    "            l_elems=list()\n",
    "            cont=0\n",
    "            for td in row.find_all(\"td\"):\n",
    "                cont+=1\n",
    "\n",
    "                if cont==1:\n",
    "                    elem=td.text[:7]\n",
    "                else:\n",
    "                    elem=td.text\n",
    "\n",
    "                l_elems.append(elem)\n",
    "            df_ratios = df_ratios.append(pd.Series(l_elems), ignore_index=True)   \n",
    "        cont=0\n",
    "\n",
    "        df_ratios.columns=headings\n",
    "        df_ratios['Date'] = pd.to_datetime(df_ratios['Date'])\n",
    "        current_ratios_collection[company_ticker] = df_ratios\n",
    "\n",
    "    except:\n",
    "        print(\"Couldnt retrieve info from   \" + company_ticker + \"...\" + company_name)\n",
    "    "
   ]
  },
  {
   "cell_type": "code",
   "execution_count": 21,
   "metadata": {},
   "outputs": [],
   "source": [
    "pickle.dump(current_ratios_collection, open('current_ratios_collection.p', \"wb\" ))"
   ]
  },
  {
   "cell_type": "markdown",
   "metadata": {},
   "source": [
    "## ROE ratio "
   ]
  },
  {
   "cell_type": "code",
   "execution_count": 22,
   "metadata": {
    "scrolled": true
   },
   "outputs": [
    {
     "name": "stdout",
     "output_type": "stream",
     "text": [
      "https://www.macrotrends.net/stocks/charts/AAPL/apple/roe\n"
     ]
    },
    {
     "name": "stderr",
     "output_type": "stream",
     "text": [
      "<ipython-input-22-247f0fd52ace>:44: DeprecationWarning: The default dtype for empty Series will be 'object' instead of 'float64' in a future version. Specify a dtype explicitly to silence this warning.\n",
      "  df_ratios = df_ratios.append(pd.Series(l_elems), ignore_index=True)\n"
     ]
    },
    {
     "name": "stdout",
     "output_type": "stream",
     "text": [
      "https://www.macrotrends.net/stocks/charts/AMZN/amazon/roe\n",
      "https://www.macrotrends.net/stocks/charts/MSFT/microsoft/roe\n",
      "https://www.macrotrends.net/stocks/charts/GOOG/google/roe\n",
      "https://www.macrotrends.net/stocks/charts/FB/facebook/roe\n",
      "https://www.macrotrends.net/stocks/charts/NVDA/nvidia/roe\n",
      "https://www.macrotrends.net/stocks/charts/F/ford/roe\n",
      "https://www.macrotrends.net/stocks/charts/GM/general-motors/roe\n",
      "https://www.macrotrends.net/stocks/charts/HMC/honda/roe\n",
      "https://www.macrotrends.net/stocks/charts/TSLA/tesla/roe\n",
      "https://www.macrotrends.net/stocks/charts/TYO/toyota/roe\n",
      "Couldnt retrieve info from   TYO...toyota\n",
      "https://www.macrotrends.net/stocks/charts/HOG/harley-davidson/roe\n",
      "https://www.macrotrends.net/stocks/charts/WMT/walmart/roe\n",
      "https://www.macrotrends.net/stocks/charts/M/macys/roe\n",
      "https://www.macrotrends.net/stocks/charts/TGT/target/roe\n",
      "https://www.macrotrends.net/stocks/charts/KSS/kohl/roe\n",
      "https://www.macrotrends.net/stocks/charts/COST/costco/roe\n",
      "https://www.macrotrends.net/stocks/charts/BBY/best-buy/roe\n",
      "https://www.macrotrends.net/stocks/charts/NESN/nestle/roe\n",
      "Couldnt retrieve info from   NESN...nestle\n",
      "https://www.macrotrends.net/stocks/charts/KO/cocacola/roe\n",
      "https://www.macrotrends.net/stocks/charts/PEP/pepsi/roe\n",
      "https://www.macrotrends.net/stocks/charts/ULVR/unilever/roe\n",
      "Couldnt retrieve info from   ULVR...unilever\n",
      "https://www.macrotrends.net/stocks/charts/PG/procter-gamble/roe\n",
      "https://www.macrotrends.net/stocks/charts/OR/loreal/roe\n",
      "https://www.macrotrends.net/stocks/charts/AXP/american-express/roe\n",
      "https://www.macrotrends.net/stocks/charts/VISA/visa/roe\n",
      "Couldnt retrieve info from   VISA...visa\n",
      "https://www.macrotrends.net/stocks/charts/SC/santander-consumer-usa-holdings/roe\n",
      "https://www.macrotrends.net/stocks/charts/DB/deutsche-bank-aktiengesellschaft/roe\n",
      "https://www.macrotrends.net/stocks/charts/UBS/ubs-group-ag/roe\n",
      "https://www.macrotrends.net/stocks/charts/BAC/bank-of-america/roe\n",
      "https://www.macrotrends.net/stocks/charts/JPM/jpmorgan-chase/roe\n"
     ]
    }
   ],
   "source": [
    "\n",
    "roe_ratios_collection = {} \n",
    "\n",
    "for company_ticker, company_name in zip(companies_tickers, companies_names):\n",
    "    url=\"https://www.macrotrends.net/stocks/charts/\" + company_ticker  +\"/\"+ company_name + \"/roe\"\n",
    "    print(url)\n",
    "    # Make a GET request to fetch the raw HTML content\n",
    "    html_content = requests.get(url).text\n",
    "\n",
    "    # Parse the html content\n",
    "    soup = BeautifulSoup(html_content, \"html\")\n",
    "\n",
    "    try:\n",
    "        #Search for table\n",
    "        ratios_table = soup.find(\"table\", attrs={\"class\": \"table\"})\n",
    "        #Get rows\n",
    "        ratios_table_data = ratios_table.find_all(\"tr\")\n",
    "\n",
    "        # Get all the headings of Lists\n",
    "        headings = []\n",
    "        for th in ratios_table_data[1].find_all(\"th\"):\n",
    "            # remove any newlines and extra spaces from left and right\n",
    "            h=th.text.replace('\\n', ' ').strip()\n",
    "            #replace spaces with underscores\n",
    "            h=h.replace(\" \", \"_\")\n",
    "            headings.append(h)\n",
    "\n",
    "\n",
    "        #Extract and collect elements from table.\n",
    "        l_elems=list()\n",
    "        df_ratios=pd.DataFrame()\n",
    "\n",
    "        for row in ratios_table_data:\n",
    "            l_elems=list()\n",
    "            cont=0\n",
    "            for td in row.find_all(\"td\"):\n",
    "                cont+=1\n",
    "\n",
    "                if cont==1:\n",
    "                    elem=td.text[:7]\n",
    "                else:\n",
    "                    elem=td.text\n",
    "\n",
    "                l_elems.append(elem)\n",
    "            df_ratios = df_ratios.append(pd.Series(l_elems), ignore_index=True)   \n",
    "        cont=0\n",
    "\n",
    "        df_ratios.columns=headings\n",
    "        df_ratios['Date'] = pd.to_datetime(df_ratios['Date'])\n",
    "        roe_ratios_collection[company_ticker] = df_ratios\n",
    "\n",
    "    except:\n",
    "        print(\"Couldnt retrieve info from   \" + company_ticker + \"...\" + company_name)\n",
    "    "
   ]
  },
  {
   "cell_type": "code",
   "execution_count": 23,
   "metadata": {},
   "outputs": [],
   "source": [
    "pickle.dump(roe_ratios_collection, open('roe_ratios_collection.p', \"wb\" ))"
   ]
  },
  {
   "cell_type": "markdown",
   "metadata": {},
   "source": [
    "## ROA ratio "
   ]
  },
  {
   "cell_type": "code",
   "execution_count": 24,
   "metadata": {
    "scrolled": true
   },
   "outputs": [
    {
     "name": "stdout",
     "output_type": "stream",
     "text": [
      "https://www.macrotrends.net/stocks/charts/AAPL/apple/roa\n"
     ]
    },
    {
     "name": "stderr",
     "output_type": "stream",
     "text": [
      "<ipython-input-24-5fed198dac79>:44: DeprecationWarning: The default dtype for empty Series will be 'object' instead of 'float64' in a future version. Specify a dtype explicitly to silence this warning.\n",
      "  df_ratios = df_ratios.append(pd.Series(l_elems), ignore_index=True)\n"
     ]
    },
    {
     "name": "stdout",
     "output_type": "stream",
     "text": [
      "https://www.macrotrends.net/stocks/charts/AMZN/amazon/roa\n",
      "https://www.macrotrends.net/stocks/charts/MSFT/microsoft/roa\n",
      "https://www.macrotrends.net/stocks/charts/GOOG/google/roa\n",
      "https://www.macrotrends.net/stocks/charts/FB/facebook/roa\n",
      "https://www.macrotrends.net/stocks/charts/NVDA/nvidia/roa\n",
      "https://www.macrotrends.net/stocks/charts/F/ford/roa\n",
      "https://www.macrotrends.net/stocks/charts/GM/general-motors/roa\n",
      "https://www.macrotrends.net/stocks/charts/HMC/honda/roa\n",
      "https://www.macrotrends.net/stocks/charts/TSLA/tesla/roa\n",
      "https://www.macrotrends.net/stocks/charts/TYO/toyota/roa\n",
      "Couldnt retrieve info from   TYO...toyota\n",
      "https://www.macrotrends.net/stocks/charts/HOG/harley-davidson/roa\n",
      "https://www.macrotrends.net/stocks/charts/WMT/walmart/roa\n",
      "https://www.macrotrends.net/stocks/charts/M/macys/roa\n",
      "https://www.macrotrends.net/stocks/charts/TGT/target/roa\n",
      "https://www.macrotrends.net/stocks/charts/KSS/kohl/roa\n",
      "https://www.macrotrends.net/stocks/charts/COST/costco/roa\n",
      "https://www.macrotrends.net/stocks/charts/BBY/best-buy/roa\n",
      "https://www.macrotrends.net/stocks/charts/NESN/nestle/roa\n",
      "Couldnt retrieve info from   NESN...nestle\n",
      "https://www.macrotrends.net/stocks/charts/KO/cocacola/roa\n",
      "https://www.macrotrends.net/stocks/charts/PEP/pepsi/roa\n",
      "https://www.macrotrends.net/stocks/charts/ULVR/unilever/roa\n",
      "Couldnt retrieve info from   ULVR...unilever\n",
      "https://www.macrotrends.net/stocks/charts/PG/procter-gamble/roa\n",
      "https://www.macrotrends.net/stocks/charts/OR/loreal/roa\n",
      "https://www.macrotrends.net/stocks/charts/AXP/american-express/roa\n",
      "https://www.macrotrends.net/stocks/charts/VISA/visa/roa\n",
      "Couldnt retrieve info from   VISA...visa\n",
      "https://www.macrotrends.net/stocks/charts/SC/santander-consumer-usa-holdings/roa\n",
      "https://www.macrotrends.net/stocks/charts/DB/deutsche-bank-aktiengesellschaft/roa\n",
      "https://www.macrotrends.net/stocks/charts/UBS/ubs-group-ag/roa\n",
      "https://www.macrotrends.net/stocks/charts/BAC/bank-of-america/roa\n",
      "https://www.macrotrends.net/stocks/charts/JPM/jpmorgan-chase/roa\n"
     ]
    }
   ],
   "source": [
    "\n",
    "roa_ratios_collection = {} \n",
    "\n",
    "for company_ticker, company_name in zip(companies_tickers, companies_names):\n",
    "    url=\"https://www.macrotrends.net/stocks/charts/\" + company_ticker  +\"/\"+ company_name + \"/roa\"\n",
    "    print(url)\n",
    "    # Make a GET request to fetch the raw HTML content\n",
    "    html_content = requests.get(url).text\n",
    "\n",
    "    # Parse the html content\n",
    "    soup = BeautifulSoup(html_content, \"html\")\n",
    "\n",
    "    try:\n",
    "        #Search for table\n",
    "        ratios_table = soup.find(\"table\", attrs={\"class\": \"table\"})\n",
    "        #Get rows\n",
    "        ratios_table_data = ratios_table.find_all(\"tr\")\n",
    "\n",
    "        # Get all the headings of Lists\n",
    "        headings = []\n",
    "        for th in ratios_table_data[1].find_all(\"th\"):\n",
    "            # remove any newlines and extra spaces from left and right\n",
    "            h=th.text.replace('\\n', ' ').strip()\n",
    "            #replace spaces with underscores\n",
    "            h=h.replace(\" \", \"_\")\n",
    "            headings.append(h)\n",
    "\n",
    "\n",
    "        #Extract and collect elements from table.\n",
    "        l_elems=list()\n",
    "        df_ratios=pd.DataFrame()\n",
    "\n",
    "        for row in ratios_table_data:\n",
    "            l_elems=list()\n",
    "            cont=0\n",
    "            for td in row.find_all(\"td\"):\n",
    "                cont+=1\n",
    "\n",
    "                if cont==1:\n",
    "                    elem=td.text[:7]\n",
    "                else:\n",
    "                    elem=td.text\n",
    "\n",
    "                l_elems.append(elem)\n",
    "            df_ratios = df_ratios.append(pd.Series(l_elems), ignore_index=True)   \n",
    "        cont=0\n",
    "\n",
    "        df_ratios.columns=headings\n",
    "        df_ratios['Date'] = pd.to_datetime(df_ratios['Date'])\n",
    "        roa_ratios_collection[company_ticker] = df_ratios\n",
    "\n",
    "    except:\n",
    "        print(\"Couldnt retrieve info from   \" + company_ticker + \"...\" + company_name)\n",
    "    "
   ]
  },
  {
   "cell_type": "code",
   "execution_count": 25,
   "metadata": {},
   "outputs": [],
   "source": [
    "pickle.dump(roa_ratios_collection, open('roa_ratios_collection.p', \"wb\" ))"
   ]
  },
  {
   "cell_type": "code",
   "execution_count": null,
   "metadata": {},
   "outputs": [],
   "source": []
  }
 ],
 "metadata": {
  "kernelspec": {
   "display_name": "Python 3",
   "language": "python",
   "name": "python3"
  },
  "language_info": {
   "codemirror_mode": {
    "name": "ipython",
    "version": 3
   },
   "file_extension": ".py",
   "mimetype": "text/x-python",
   "name": "python",
   "nbconvert_exporter": "python",
   "pygments_lexer": "ipython3",
   "version": "3.8.3"
  }
 },
 "nbformat": 4,
 "nbformat_minor": 4
}
