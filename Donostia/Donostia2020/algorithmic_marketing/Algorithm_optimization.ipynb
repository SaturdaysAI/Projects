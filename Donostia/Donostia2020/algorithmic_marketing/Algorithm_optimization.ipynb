{
 "cells": [
  {
   "cell_type": "code",
   "execution_count": 1,
   "metadata": {},
   "outputs": [
    {
     "data": {
      "text/html": [
       "<style>\n",
       "\n",
       "h3 {\n",
       "\n",
       "    font-size: 20px;\n",
       "\n",
       "    font-weight: 300;\n",
       "\n",
       "    background-color: #00c4cc;\n",
       "\n",
       "    padding: 10px;\n",
       "\n",
       "    border-radius: 5px;\n",
       "\n",
       "}\n",
       "\n",
       "\n",
       "\n",
       "h4 {\n",
       "\n",
       "    font-size: 20px;\n",
       "\n",
       "    font-weight: 300;\n",
       "\n",
       "    background-color: #CCE0EA;\n",
       "\n",
       "    padding: 10px;\n",
       "\n",
       "    border-radius: 5px;\n",
       "\n",
       "}\n",
       "\n",
       "\n",
       "\n",
       "h1 {\n",
       "\n",
       "    color: black;\n",
       "\n",
       "    padding: 20px;\n",
       "\n",
       "    border-radius: 5px;\n",
       "\n",
       "    font-size: 28px;\n",
       "\n",
       "    font-weight: 500;\n",
       "\n",
       "    text-align: center;\n",
       "\n",
       "}\n",
       "\n",
       "\n",
       "\n",
       "h2 {\n",
       "\n",
       "    background-color: #0078d7;\n",
       "\n",
       "    color: black;\n",
       "\n",
       "    padding: 20px;\n",
       "\n",
       "    border-radius: 5px;\n",
       "\n",
       "    font-size: 20px;\n",
       "\n",
       "    font-weight: 300;\n",
       "\n",
       "    text-align: center;\n",
       "\n",
       "}\n",
       "\n",
       "\n",
       "\n",
       "h5 {\n",
       "\n",
       "    font-size: 15px;\n",
       "\n",
       "    font-weight: 200;\n",
       "\n",
       "    background-color: #00c4cc;\n",
       "\n",
       "    padding: 10px;\n",
       "\n",
       "    border-radius: 5px;\n",
       "\n",
       "}\n",
       "\n",
       "\n",
       "\n",
       ".subsection {\n",
       "\n",
       "    font-size: 15px;\n",
       "\n",
       "    font-weight: 200;\n",
       "\n",
       "    background-color: #b3d9ff;\n",
       "\n",
       "    padding: 10px;\n",
       "\n",
       "    border-radius: 5px;\n",
       "\n",
       "}\n",
       "\n",
       "\n",
       "\n",
       "\n",
       "\n",
       "\n",
       "\n",
       "pre.code {\n",
       "\n",
       "  background-color:#efefef;\n",
       "\n",
       "  padding: 20px;\n",
       "\n",
       "  border: 1px solid #dedede;\n",
       "\n",
       "}\n",
       "\n",
       ".row {\n",
       "\n",
       "  display: flex;\n",
       "\n",
       "}\n",
       "\n",
       "\n",
       "\n",
       ".column {\n",
       "\n",
       "  flex: 50%;\n",
       "\n",
       "  padding: 5px;\n",
       "\n",
       "}\n",
       "\n",
       ".alert {\n",
       "\n",
       "  padding: 20px;\n",
       "\n",
       "  background-color: #f44336;\n",
       "\n",
       "  color: white;\n",
       "\n",
       "}\n",
       "\n",
       "\n",
       "\n",
       ".alert_info {\n",
       "\n",
       "  padding: 20px;\n",
       "\n",
       "  background-color: #ffdf00;\n",
       "\n",
       "  color: black;\n",
       "\n",
       "}\n",
       "\n",
       "\n",
       "\n",
       ".closebtn {\n",
       "\n",
       "  margin-left: 15px;\n",
       "\n",
       "  color: white;\n",
       "\n",
       "  font-weight: bold;\n",
       "\n",
       "  float: right;\n",
       "\n",
       "  font-size: 22px;\n",
       "\n",
       "  line-height: 20px;\n",
       "\n",
       "  cursor: pointer;\n",
       "\n",
       "  transition: 0.3s;\n",
       "\n",
       "}\n",
       "\n",
       "\n",
       "\n",
       ".closebtn:hover {\n",
       "\n",
       "  color: black;\n",
       "\n",
       "}\n",
       "\n",
       "\n",
       "\n",
       ".button {\n",
       "\n",
       "  background-color: #0078d7; \n",
       "\n",
       "  border: none;\n",
       "\n",
       "  color: black;\n",
       "\n",
       "  padding: 20px;\n",
       "\n",
       "  text-align: center;\n",
       "\n",
       "  text-decoration: none;\n",
       "\n",
       "  display: inline-block;\n",
       "\n",
       "  font-size: 16px;\n",
       "\n",
       "  margin: 4px 2px;\n",
       "\n",
       "  cursor: pointer;\n",
       "\n",
       "  font-weight: bold;\n",
       "\n",
       "}\n",
       "\n",
       "\n",
       "\n",
       ".button4 {border-radius: 12px;}\n",
       "\n",
       ".wrapper {\n",
       "\n",
       "    text-align: center;\n",
       "\n",
       "}\n",
       "\n",
       "\n",
       "\n",
       ".info {\n",
       "\n",
       "  padding: 20px;\n",
       "\n",
       "  background-color: #e7f3fe;\n",
       "\n",
       "  border-left: 6px solid #2196F3;\n",
       "\n",
       "}\n",
       "\n",
       "\n",
       "\n",
       ".graphs {\n",
       "\n",
       "  padding: 20px;\n",
       "\n",
       "  background-color: #F67BF8;\n",
       "\n",
       "  border-left: 6px solid #8D0A8F;\n",
       "\n",
       "}\n",
       "\n",
       "\n",
       "\n",
       "\n",
       "\n",
       ".images {\n",
       "\n",
       "  padding: 20px;\n",
       "\n",
       "  background-color: #96F99F;\n",
       "\n",
       "  border-left: 6px solid #147B1E;\n",
       "\n",
       "}\n",
       "\n",
       "\n",
       "\n",
       "</style>\n"
      ],
      "text/plain": [
       "<IPython.core.display.HTML object>"
      ]
     },
     "execution_count": 1,
     "metadata": {},
     "output_type": "execute_result"
    }
   ],
   "source": [
    "from IPython.core.display import HTML\n",
    "HTML(\"\\n\".join(open(\"c360_style.css\", 'r').readlines()))"
   ]
  },
  {
   "cell_type": "markdown",
   "metadata": {},
   "source": [
    "## Libs"
   ]
  },
  {
   "cell_type": "code",
   "execution_count": null,
   "metadata": {},
   "outputs": [],
   "source": [
    "import pandas as pd\n",
    "import matplotlib.pyplot as plt \n",
    "import numpy as np\n",
    "from sklearn.utils import resample\n",
    "from sklearn.preprocessing import MinMaxScaler\n",
    "from sklearn.model_selection import train_test_split\n",
    "import keras\n",
    "plt.style.use('ggplot')\n",
    "import plotly.express as px"
   ]
  },
  {
   "cell_type": "code",
   "execution_count": 6,
   "metadata": {
    "colab": {
     "base_uri": "https://localhost:8080/"
    },
    "id": "CryiBo4la0gL",
    "outputId": "084cfa5d-1364-48d8-c6d4-ad3a706fd892"
   },
   "outputs": [],
   "source": [
    "#from google.colab import drive\n",
    "#drive.mount('/content/drive')\n",
    "#from google.colab import drive\n",
    "#drive.mount('/content/drive')\n",
    "#DATA_FILE='drive/My Drive/Proyecto/df_final_c.txt'"
   ]
  },
  {
   "cell_type": "markdown",
   "metadata": {
    "id": "Ac10JHsTbRgm"
   },
   "source": [
    "## Data Load"
   ]
  },
  {
   "cell_type": "code",
   "execution_count": 4,
   "metadata": {
    "colab": {
     "base_uri": "https://localhost:8080/"
    },
    "id": "vYrH0yMfhibk",
    "outputId": "6a75260a-8554-4532-cdf1-6d1f4d1c7609"
   },
   "outputs": [],
   "source": [
    "df7 = pd.read_csv('df_final_c.txt', sep=';')"
   ]
  },
  {
   "cell_type": "code",
   "execution_count": 8,
   "metadata": {
    "id": "M_XLsksGpg3I"
   },
   "outputs": [],
   "source": [
    "def map_one_hot(df, column_names, result_column_name):\n",
    "    mapper = {} \n",
    "    for i, col_name in enumerate(column_names):\n",
    "        for val in df[col_name].unique():\n",
    "            mapper[str(val) + str(i)] = len(mapper)\n",
    "         \n",
    "    df_ext = df.copy()\n",
    "    \n",
    "    def one_hot(values):\n",
    "        v = np.zeros( len(mapper) )\n",
    "        for i, val in enumerate(values): \n",
    "            v[ mapper[str(val) + str(i)] ] = 1\n",
    "        return v    \n",
    "    \n",
    "    df_ext[result_column_name] = df_ext[column_names].values.tolist()\n",
    "    df_ext[result_column_name] = df_ext[result_column_name].map(one_hot)\n",
    "    \n",
    "    return df_ext"
   ]
  },
  {
   "cell_type": "code",
   "execution_count": 9,
   "metadata": {
    "id": "YbXGA3sBpEoS"
   },
   "outputs": [],
   "source": [
    "df8 = map_one_hot(df7, ['cat1', 'cat2', 'cat3', 'cat4', 'cat5', 'cat6', 'cat8'], 'cats')\n",
    "df9 = map_one_hot(df8, ['campaign'], 'campaigns').sort_values(by=['timestamp_norm'])"
   ]
  },
  {
   "cell_type": "markdown",
   "metadata": {},
   "source": [
    "## Optimization"
   ]
  },
  {
   "cell_type": "markdown",
   "metadata": {
    "id": "u5Mv0Sm6ANp_"
   },
   "source": [
    "### Optimization technique - 1"
   ]
  },
  {
   "cell_type": "code",
   "execution_count": 12,
   "metadata": {
    "colab": {
     "base_uri": "https://localhost:8080/",
     "height": 204
    },
    "id": "KIPF38UuAHyg",
    "outputId": "a2e08197-0305-4e3b-e032-53f93165e147"
   },
   "outputs": [
    {
     "data": {
      "text/html": [
       "<div>\n",
       "<style scoped>\n",
       "    .dataframe tbody tr th:only-of-type {\n",
       "        vertical-align: middle;\n",
       "    }\n",
       "\n",
       "    .dataframe tbody tr th {\n",
       "        vertical-align: top;\n",
       "    }\n",
       "\n",
       "    .dataframe thead th {\n",
       "        text-align: right;\n",
       "    }\n",
       "</style>\n",
       "<table border=\"1\" class=\"dataframe\">\n",
       "  <thead>\n",
       "    <tr style=\"text-align: right;\">\n",
       "      <th></th>\n",
       "      <th>campaña</th>\n",
       "      <th>coste</th>\n",
       "      <th>filas</th>\n",
       "      <th>conversiones</th>\n",
       "    </tr>\n",
       "  </thead>\n",
       "  <tbody>\n",
       "    <tr>\n",
       "      <th>47</th>\n",
       "      <td>31772643</td>\n",
       "      <td>7.642684</td>\n",
       "      <td>17435</td>\n",
       "      <td>8443</td>\n",
       "    </tr>\n",
       "    <tr>\n",
       "      <th>13</th>\n",
       "      <td>6886817</td>\n",
       "      <td>4.791087</td>\n",
       "      <td>6105</td>\n",
       "      <td>3144</td>\n",
       "    </tr>\n",
       "    <tr>\n",
       "      <th>7</th>\n",
       "      <td>5544859</td>\n",
       "      <td>1.441321</td>\n",
       "      <td>4747</td>\n",
       "      <td>3839</td>\n",
       "    </tr>\n",
       "    <tr>\n",
       "      <th>12</th>\n",
       "      <td>6686704</td>\n",
       "      <td>4.163911</td>\n",
       "      <td>4056</td>\n",
       "      <td>1883</td>\n",
       "    </tr>\n",
       "    <tr>\n",
       "      <th>36</th>\n",
       "      <td>25419531</td>\n",
       "      <td>0.848049</td>\n",
       "      <td>3312</td>\n",
       "      <td>469</td>\n",
       "    </tr>\n",
       "  </tbody>\n",
       "</table>\n",
       "</div>"
      ],
      "text/plain": [
       "     campaña     coste  filas  conversiones\n",
       "47  31772643  7.642684  17435          8443\n",
       "13   6886817  4.791087   6105          3144\n",
       "7    5544859  1.441321   4747          3839\n",
       "12   6686704  4.163911   4056          1883\n",
       "36  25419531  0.848049   3312           469"
      ]
     },
     "execution_count": 12,
     "metadata": {
      "tags": []
     },
     "output_type": "execute_result"
    }
   ],
   "source": [
    "coste_por_campaña = df9.groupby(['campaign']).agg({'cost':'sum', 'timestamp': 'count', 'conversion':'sum'})\n",
    "coste_por_campaña = coste_por_campaña.reset_index()\n",
    "coste_por_campaña.columns = ['campaña', 'coste', 'filas', 'conversiones']\n",
    "coste_por_campaña = coste_por_campaña.sort_values(by=['filas'], ascending= False)\n",
    "coste_por_campaña.head()"
   ]
  },
  {
   "cell_type": "code",
   "execution_count": 14,
   "metadata": {
    "colab": {
     "base_uri": "https://localhost:8080/",
     "height": 204
    },
    "id": "oh39Rwn7AIjr",
    "outputId": "eed4a695-3183-47e5-a416-f28208d4d37a"
   },
   "outputs": [
    {
     "data": {
      "text/html": [
       "<div>\n",
       "<style scoped>\n",
       "    .dataframe tbody tr th:only-of-type {\n",
       "        vertical-align: middle;\n",
       "    }\n",
       "\n",
       "    .dataframe tbody tr th {\n",
       "        vertical-align: top;\n",
       "    }\n",
       "\n",
       "    .dataframe thead th {\n",
       "        text-align: right;\n",
       "    }\n",
       "</style>\n",
       "<table border=\"1\" class=\"dataframe\">\n",
       "  <thead>\n",
       "    <tr style=\"text-align: right;\">\n",
       "      <th></th>\n",
       "      <th>campaña</th>\n",
       "      <th>coste</th>\n",
       "      <th>filas</th>\n",
       "      <th>conversiones</th>\n",
       "    </tr>\n",
       "  </thead>\n",
       "  <tbody>\n",
       "    <tr>\n",
       "      <th>19</th>\n",
       "      <td>11042365</td>\n",
       "      <td>0.021770</td>\n",
       "      <td>60</td>\n",
       "      <td>18</td>\n",
       "    </tr>\n",
       "    <tr>\n",
       "      <th>46</th>\n",
       "      <td>31748229</td>\n",
       "      <td>0.040551</td>\n",
       "      <td>55</td>\n",
       "      <td>54</td>\n",
       "    </tr>\n",
       "    <tr>\n",
       "      <th>27</th>\n",
       "      <td>18496278</td>\n",
       "      <td>0.003356</td>\n",
       "      <td>49</td>\n",
       "      <td>2</td>\n",
       "    </tr>\n",
       "    <tr>\n",
       "      <th>0</th>\n",
       "      <td>73322</td>\n",
       "      <td>0.012472</td>\n",
       "      <td>47</td>\n",
       "      <td>18</td>\n",
       "    </tr>\n",
       "    <tr>\n",
       "      <th>9</th>\n",
       "      <td>6341185</td>\n",
       "      <td>0.005944</td>\n",
       "      <td>33</td>\n",
       "      <td>2</td>\n",
       "    </tr>\n",
       "  </tbody>\n",
       "</table>\n",
       "</div>"
      ],
      "text/plain": [
       "     campaña     coste  filas  conversiones\n",
       "19  11042365  0.021770     60            18\n",
       "46  31748229  0.040551     55            54\n",
       "27  18496278  0.003356     49             2\n",
       "0      73322  0.012472     47            18\n",
       "9    6341185  0.005944     33             2"
      ]
     },
     "execution_count": 14,
     "metadata": {
      "tags": []
     },
     "output_type": "execute_result"
    }
   ],
   "source": [
    "coste_por_campaña.tail()"
   ]
  },
  {
   "cell_type": "code",
   "execution_count": 15,
   "metadata": {
    "colab": {
     "base_uri": "https://localhost:8080/"
    },
    "id": "i-dDA4JrAIqg",
    "outputId": "de0dc1c2-b51f-4d0d-81e5-eac7cf9db1ef"
   },
   "outputs": [
    {
     "name": "stdout",
     "output_type": "stream",
     "text": [
      "[0.6596177536994219, 0.6442346326075494, 0.4988163379020989, 0.3068592941854149, 0.25210025487467647, 0.4802203585859388, 0.8540772320702672, 0.1306388673838228, 0.8614637507125735, 0.12758055608719587, 0.5854923785664141, 0.5424733189865947, 0.3129093167372048, 0.6269915355369449, 0.6881075010169297, 0.03305716044269502, 0.5336406549904495, 0.3303628384601325, 0.9231261680833995, 0.4706958383321762, 0.9373952995520085, 0.5041466907132417, 0.4711658665910363, 0.5750361951068044, 0.2175043656025082, 0.8994515081867576, 0.3922942702192813, 0.3895811690017581, 0.41203446546569467, 0.14078866364434361, 0.19617789052426815, 0.09109307359904051, 0.46728894859552383, 0.7780575414653867, 0.307125338120386, 0.5004679700359702, 0.1161363918799907, 0.18422651756554842, 0.5866152783855796, 0.7934530852362514, 0.7479456719011068, 0.5382001539692283, 0.812983849318698, 0.1298699437174946, 0.7684523642528802, 0.6046150110196322, 0.9897594612557441, 0.6432638932019472, 0.7311148215085268, 0.5687565335538238]\n",
      "[26.0127609805476, 25.40611046234453, 19.671378003800896, 12.101338130359261, 9.941854409483334, 18.938024842159177, 33.68148715247507, 5.151889276730086, 33.97278274426751, 5.031281363560549, 23.089544230976887, 21.393039690003434, 12.339927509865786, 24.726109719268095, 27.136285905718484, 1.303645950201768, 21.044713745068496, 13.028226583535353, 36.40450886982141, 18.562414774925585, 36.9672279661635, 19.881586405319197, 18.580950862960297, 22.677192987278364, 8.577526973632523, 35.47087228145916, 15.470561591194874, 15.363567422084587, 16.24903818278808, 5.55215779989433, 7.7364936696371, 3.592356841861257, 18.428060282631247, 30.683565961862236, 12.111829869327648, 19.736511957041586, 4.579967998396303, 7.265177962288472, 23.13382703633989, 31.29070638225115, 29.496070838724638, 21.224522666918816, 32.06092382257138, 5.121565915310077, 30.304775097602704, 23.843666545809395, 39.03226702053487, 25.367828272408453, 28.832327502669667, 22.429547537924897]\n"
     ]
    }
   ],
   "source": [
    "import rpy2.robjects as robjects\n",
    "\n",
    "data = robjects.r(\"\"\"\n",
    "pasta = 1000\n",
    "distribucion = runif(50)\n",
    "pasta_por_campaña = pasta*distribucion/sum(distribucion)\n",
    "\"\"\")\n",
    "\n",
    "distribucion = list(robjects.r[\"distribucion\"])\n",
    "pasta_por_campaña = list(robjects.r[\"pasta_por_campaña\"])\n",
    "print(distribucion)\n",
    "print(pasta_por_campaña)"
   ]
  },
  {
   "cell_type": "markdown",
   "metadata": {},
   "source": [
    "#### Simulation"
   ]
  },
  {
   "cell_type": "code",
   "execution_count": 17,
   "metadata": {
    "colab": {
     "base_uri": "https://localhost:8080/"
    },
    "id": "6CY7HHRIAIxq",
    "outputId": "f0a7e116-faa4-4491-84b4-7474bc1a7126"
   },
   "outputs": [
    {
     "name": "stdout",
     "output_type": "stream",
     "text": [
      "Campaña 0 - pasta 26.01276 - conversiones 18\n",
      "Campaña 1 - pasta 25.40611 - conversiones 467\n",
      "Campaña 2 - pasta 19.67138 - conversiones 273\n",
      "Campaña 3 - pasta 12.10134 - conversiones 985\n",
      "Campaña 4 - pasta 9.94185 - conversiones 24\n",
      "Campaña 5 - pasta 18.93802 - conversiones 10\n",
      "Campaña 6 - pasta 33.68149 - conversiones 348\n",
      "Campaña 7 - pasta 5.15189 - conversiones 3839\n",
      "Campaña 8 - pasta 33.97278 - conversiones 88\n",
      "Campaña 9 - pasta 5.03128 - conversiones 2\n"
     ]
    }
   ],
   "source": [
    "conversiones_totales = 0\n",
    "for i in range(0, coste_por_campaña.shape[0]):\n",
    "    filas_para_esta_campaña = df9[df9['campaign'] == coste_por_campaña['campaña'][i]]\n",
    "    filas_para_esta_campaña = filas_para_esta_campaña[['timestamp', 'campaign', 'cost', 'conversion']]\n",
    "    pasta_para_esta_campaña = pasta_por_campaña[i]\n",
    "\n",
    "    filas_para_esta_campaña['coste_acumulado'] = filas_para_esta_campaña['cost'].cumsum()\n",
    "    filas_para_esta_campaña['se_puede_pagar'] = filas_para_esta_campaña['coste_acumulado'] < pasta_para_esta_campaña\n",
    "    filas_para_esta_campaña['cuanto_he_convertido'] = filas_para_esta_campaña['conversion'] * filas_para_esta_campaña['se_puede_pagar']\n",
    "\n",
    "    conversiones = filas_para_esta_campaña['cuanto_he_convertido'].sum()\n",
    "    conversiones_totales = conversiones_totales + conversiones\n",
    "\n",
    "    if(i <10):\n",
    "    print(\"Campaña \"+ str(i) + \" - pasta \"+ str(round(pasta_para_esta_campaña, 5)) + \" - conversiones \" + str(conversiones))\n"
   ]
  },
  {
   "cell_type": "markdown",
   "metadata": {
    "id": "2NoPKS0HA9kd"
   },
   "source": [
    "### Optimization technique - 2"
   ]
  },
  {
   "cell_type": "markdown",
   "metadata": {},
   "source": [
    "#### Data preprocessing for modelling"
   ]
  },
  {
   "cell_type": "code",
   "execution_count": 18,
   "metadata": {
    "id": "cdQR2ZCRAJan"
   },
   "outputs": [],
   "source": [
    "def features_for_modelling(df):\n",
    "\n",
    "    def pairwise_max(series):\n",
    "        return np.max(series.tolist(), axis = 0).tolist()\n",
    "      \n",
    "    def scalar (df):\n",
    "        min_max_scaler = MinMaxScaler()\n",
    "        for cname in ('click', 'cost', 'conversion'):\n",
    "        x = df[cname].values.reshape(-1, 1) \n",
    "        df[cname] = min_max_scaler.fit_transform(x)    \n",
    "        return df\n",
    "    \n",
    "    aggregation = {\n",
    "        'campaigns': pairwise_max,\n",
    "        'cats': pairwise_max,\n",
    "        'click': 'sum',\n",
    "        'cost': 'sum',\n",
    "        'conversion': 'max'\n",
    "    }\n",
    "    \n",
    "    df_agg = df.groupby(['jid']).agg(aggregation)\n",
    "    df_agg = scalar(df_agg)\n",
    "    \n",
    "    df_agg['features'] = df_agg[['campaigns', 'cats', 'click', 'cost']].values.tolist()\n",
    "    \n",
    "    return (\n",
    "        np.stack(df_agg['features'].map(lambda x: np.hstack(x)).values),\n",
    "        df_agg['conversion'].values\n",
    "    )"
   ]
  },
  {
   "cell_type": "code",
   "execution_count": 19,
   "metadata": {
    "colab": {
     "base_uri": "https://localhost:8080/"
    },
    "id": "iiEqnvOjAJhx",
    "outputId": "3b772cdd-4bd8-437f-df4f-551d93dd49e0"
   },
   "outputs": [
    {
     "name": "stdout",
     "output_type": "stream",
     "text": [
      "(16657, 295)\n"
     ]
    }
   ],
   "source": [
    "x, y = features_for_modelling(df9)\n",
    "print(np.shape(x))"
   ]
  },
  {
   "cell_type": "code",
   "execution_count": 20,
   "metadata": {
    "id": "5MxJwPahiGci"
   },
   "outputs": [],
   "source": [
    "from sklearn.model_selection import train_test_split\n",
    "n_campaigns = 50\n",
    "x_train, x_test, y_train, y_test = train_test_split(x, y, test_size = 0.20, random_state = 1)\n",
    "x_train, x_val, y_train, y_val = train_test_split(x_train, y_train, test_size = 0.20, random_state = 1)"
   ]
  },
  {
   "cell_type": "markdown",
   "metadata": {},
   "source": [
    "#### Logistic Regression - Keras"
   ]
  },
  {
   "cell_type": "code",
   "execution_count": 21,
   "metadata": {
    "colab": {
     "base_uri": "https://localhost:8080/"
    },
    "id": "AX3qDh07dgvq",
    "outputId": "4fca512e-5172-4089-c8a5-73654e0a4289"
   },
   "outputs": [
    {
     "name": "stdout",
     "output_type": "stream",
     "text": [
      "Epoch 1/10\n",
      "84/84 [==============================] - 1s 4ms/step - loss: 0.6804 - accuracy: 0.5574 - val_loss: 0.6368 - val_accuracy: 0.6537\n",
      "Epoch 2/10\n",
      "84/84 [==============================] - 0s 2ms/step - loss: 0.6187 - accuracy: 0.6815 - val_loss: 0.5982 - val_accuracy: 0.6919\n",
      "Epoch 3/10\n",
      "84/84 [==============================] - 0s 2ms/step - loss: 0.5844 - accuracy: 0.7149 - val_loss: 0.5726 - val_accuracy: 0.7167\n",
      "Epoch 4/10\n",
      "84/84 [==============================] - 0s 2ms/step - loss: 0.5503 - accuracy: 0.7426 - val_loss: 0.5549 - val_accuracy: 0.7272\n",
      "Epoch 5/10\n",
      "84/84 [==============================] - 0s 2ms/step - loss: 0.5483 - accuracy: 0.7454 - val_loss: 0.5426 - val_accuracy: 0.7366\n",
      "Epoch 6/10\n",
      "84/84 [==============================] - 0s 2ms/step - loss: 0.5281 - accuracy: 0.7563 - val_loss: 0.5338 - val_accuracy: 0.7426\n",
      "Epoch 7/10\n",
      "84/84 [==============================] - 0s 2ms/step - loss: 0.5213 - accuracy: 0.7544 - val_loss: 0.5272 - val_accuracy: 0.7471\n",
      "Epoch 8/10\n",
      "84/84 [==============================] - 0s 2ms/step - loss: 0.5221 - accuracy: 0.7532 - val_loss: 0.5216 - val_accuracy: 0.7490\n",
      "Epoch 9/10\n",
      "84/84 [==============================] - 0s 2ms/step - loss: 0.5146 - accuracy: 0.7603 - val_loss: 0.5171 - val_accuracy: 0.7486\n",
      "Epoch 10/10\n",
      "84/84 [==============================] - 0s 2ms/step - loss: 0.5049 - accuracy: 0.7635 - val_loss: 0.5133 - val_accuracy: 0.7512\n",
      "Test score: 0.5201870799064636\n",
      "Test accuracy: 0.7454981803894043\n"
     ]
    }
   ],
   "source": [
    "from keras.models import Sequential \n",
    "from keras.layers import Dense, Dropout\n",
    "from keras.constraints import NonNeg\n",
    "\n",
    "m = np.shape(x)[1]\n",
    "    \n",
    "model = Sequential()  \n",
    "model.add(Dense(1, input_dim=m, activation='sigmoid', name = 'contributions')) \n",
    "\n",
    "model.compile(optimizer='rmsprop', loss='binary_crossentropy', metrics=['accuracy']) \n",
    "history = model.fit(x_train, y_train, batch_size=128, epochs=10, verbose=1, validation_data=(x_val, y_val)) \n",
    "score = model.evaluate(x_test, y_test, verbose=0) \n",
    "print('Test score:', score[0]) \n",
    "print('Test accuracy:', score[1])"
   ]
  },
  {
   "cell_type": "code",
   "execution_count": 22,
   "metadata": {
    "id": "Eia8lRjXFp0G"
   },
   "outputs": [],
   "source": [
    "from sklearn.utils.extmath import softmax\n",
    "\n",
    "keras_logreg = model.get_layer('contributions').get_weights()[0].flatten()[0:n_campaigns]\n",
    "keras_logreg = softmax([keras_logreg]).flatten()"
   ]
  },
  {
   "cell_type": "markdown",
   "metadata": {},
   "source": [
    "#### Logistic Regression - Scikit Learn"
   ]
  },
  {
   "cell_type": "code",
   "execution_count": 23,
   "metadata": {
    "id": "zZxKAP1ienJR"
   },
   "outputs": [],
   "source": [
    "from sklearn.linear_model import LogisticRegression\n",
    "\n",
    "logisticRegr = LogisticRegression(solver = \"saga\")\n",
    "logisticRegr.fit(x_train, y_train)\n",
    "score = logisticRegr.score(x_test, y_test)"
   ]
  },
  {
   "cell_type": "markdown",
   "metadata": {},
   "source": [
    "#### LTA"
   ]
  },
  {
   "cell_type": "code",
   "execution_count": 24,
   "metadata": {
    "id": "qV8qiqSHEeHW"
   },
   "outputs": [],
   "source": [
    "def last_touch_attribution(df):\n",
    "    \n",
    "    def count_by_campaign(df):\n",
    "        counters = np.zeros(n_campaigns)\n",
    "        for campaign_one_hot in df['campaigns'].values:\n",
    "            campaign_id = np.argmax(campaign_one_hot)\n",
    "            counters[campaign_id] = counters[campaign_id] + 1\n",
    "        return counters\n",
    "        \n",
    "    campaign_impressions = count_by_campaign(df)\n",
    "    \n",
    "    df_converted = df[df['conversion'] == 1]\n",
    "    idx = df_converted.groupby(['jid'])['timestamp_norm'].transform(max) == df_converted['timestamp_norm']\n",
    "    campaign_conversions = count_by_campaign(df_converted[idx])\n",
    "        \n",
    "    return campaign_conversions / campaign_impressions\n",
    "    \n",
    "lta = last_touch_attribution(df9)"
   ]
  },
  {
   "cell_type": "markdown",
   "metadata": {
    "id": "1gXLqkJrFSRv"
   },
   "source": [
    "#### Simulation"
   ]
  },
  {
   "cell_type": "code",
   "execution_count": 25,
   "metadata": {
    "id": "0aw02GS_F8_2"
   },
   "outputs": [],
   "source": [
    "def get_campaign_id(x_journey_step):\n",
    "    return np.argmax(x_journey_step[0:n_campaigns])"
   ]
  },
  {
   "cell_type": "code",
   "execution_count": 30,
   "metadata": {
    "id": "aaBHafBKFXWv"
   },
   "outputs": [],
   "source": [
    "def simulate_budget_roi(df, budget_total, attribution, verbose=False):\n",
    "    budgets = np.ceil(attribution * (budget_total / np.sum(attribution)))\n",
    "    \n",
    "    if(verbose):\n",
    "        print(budgets)\n",
    "    \n",
    "    blacklist = set()\n",
    "    conversions = set()\n",
    "    for i in range(df.shape[0]):\n",
    "        campaign_id = get_campaign_id(df.loc[i]['campaigns']) \n",
    "        jid = df.loc[i]['jid']\n",
    "        if jid not in blacklist:\n",
    "            if budgets[campaign_id] >= 1:\n",
    "                budgets[campaign_id] = budgets[campaign_id] - 1\n",
    "                if(df.loc[i]['conversion'] == 1):\n",
    "                    conversions.add(jid)\n",
    "            else:\n",
    "                blacklist.add(jid)\n",
    "        \n",
    "        if(verbose):\n",
    "            if(i % 10000 == 0):\n",
    "                print('{:.2%} : {:.2%} budget spent'.format(i/df.shape[0], 1.0 - np.sum(budgets)/budget_total ))\n",
    "        \n",
    "        if(np.sum(budgets) < budget_total * 0.02):\n",
    "            break\n",
    "            \n",
    "    return len(conversions.difference(blacklist)), conversions, blacklist"
   ]
  },
  {
   "cell_type": "code",
   "execution_count": 27,
   "metadata": {
    "colab": {
     "base_uri": "https://localhost:8080/"
    },
    "id": "ZOlLYAGP2Bmn",
    "outputId": "e7ccd52d-7116-4cf2-84ce-8fd6d522da28"
   },
   "outputs": [
    {
     "name": "stdout",
     "output_type": "stream",
     "text": [
      "0.1 0 : 460\n"
     ]
    }
   ],
   "source": [
    "pitches = [0.1]\n",
    "attributions = [lta]\n",
    "\n",
    "for i, pitch in enumerate(pitches):\n",
    "    for j, attribution in enumerate(attributions):\n",
    "        reward = simulate_budget_roi(df9, 10000, attribution**pitch)\n",
    "        print('{} {} : {}'.format(pitch, j, reward))"
   ]
  },
  {
   "cell_type": "code",
   "execution_count": 39,
   "metadata": {
    "colab": {
     "base_uri": "https://localhost:8080/"
    },
    "id": "deAXymLr2HOP",
    "outputId": "a2c99475-8358-4857-da02-db027b60ce32"
   },
   "outputs": [
    {
     "name": "stdout",
     "output_type": "stream",
     "text": [
      "0.1 0 : 460\n",
      "0.1 1 : 438\n",
      "0.25 0 : 473\n",
      "0.25 1 : 450\n",
      "0.5 0 : 495\n",
      "0.5 1 : 466\n",
      "1.0 0 : 542\n",
      "1.0 1 : 481\n",
      "1.5 0 : 587\n",
      "1.5 1 : 513\n",
      "2.0 0 : 645\n",
      "2.0 1 : 571\n",
      "2.5 0 : 708\n",
      "2.5 1 : 576\n",
      "3.0 0 : 765\n",
      "3.0 1 : 571\n"
     ]
    }
   ],
   "source": [
    "pitches = [0.1, 0.25, 0.5, 1.0, 1.5, 2.0, 2.5, 3.0]\n",
    "attributions = [lta, keras_logreg]\n",
    "attributions_str = ['lta', 'keras_logreg']\n",
    "conversiones = []\n",
    "blacklists = []\n",
    "rewards = []\n",
    "id_pitch = []\n",
    "id_attributions = []\n",
    "\n",
    "for i, pitch in enumerate(pitches):\n",
    "    for j, attribution in enumerate(attributions):\n",
    "        reward, conv, black = simulate_budget_roi(df9, 10000, attribution**pitch)\n",
    "        id_pitch.append(pitch)\n",
    "        id_attributions.append(attributions_str[j])\n",
    "        rewards.append('reward')\n",
    "        conversiones.append(conv)\n",
    "        blacklists.append(black)\n",
    "        print('{} {} : {}'.format(pitch, j, reward))"
   ]
  },
  {
   "cell_type": "code",
   "execution_count": null,
   "metadata": {
    "id": "AtA21ha8EIB6"
   },
   "outputs": [],
   "source": []
  }
 ],
 "metadata": {
  "colab": {
   "name": "Algorithm_optimization.ipynb",
   "provenance": [],
   "toc_visible": true
  },
  "kernelspec": {
   "display_name": "Python 3",
   "language": "python",
   "name": "python3"
  },
  "language_info": {
   "codemirror_mode": {
    "name": "ipython",
    "version": 3
   },
   "file_extension": ".py",
   "mimetype": "text/x-python",
   "name": "python",
   "nbconvert_exporter": "python",
   "pygments_lexer": "ipython3",
   "version": "3.7.4"
  }
 },
 "nbformat": 4,
 "nbformat_minor": 1
}
