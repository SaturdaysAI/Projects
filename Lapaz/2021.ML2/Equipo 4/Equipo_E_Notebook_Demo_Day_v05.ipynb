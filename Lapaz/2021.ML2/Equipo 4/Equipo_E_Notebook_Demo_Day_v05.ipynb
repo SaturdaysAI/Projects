{
  "nbformat": 4,
  "nbformat_minor": 0,
  "metadata": {
    "colab": {
      "name": "Proyecto_Demo_Day_v05.ipynb",
      "provenance": [],
      "collapsed_sections": [
        "Io-5EOALexl2",
        "g8_F9erD9vu9",
        "y_je_9OgElKz",
        "U26QWaasfHhU",
        "zu4lDCbzquOm",
        "pV9v_iCCJkey",
        "IxmyC8EiKxAq",
        "kBfyLPTXYseh",
        "IR18sW5ioYIR",
        "NdiGwohAoeAr",
        "_gaFVZqooj3J",
        "srtCM99BooGn",
        "GJv-rCg0osCo",
        "XXr6ZdlXqFL4",
        "vDMC1xGAnm8B",
        "6xbYFkvYn3cY",
        "fLov7fa_n807",
        "TItiKPVgqeMH",
        "oJBmYqymoEWg",
        "DCSHuyflqWkA",
        "qCeX_zIU0bUd",
        "o2UNiZXx0eNd",
        "lzIpFhko0Fqe",
        "8XAguSvZ0LVv",
        "NqBhKTaf0N9l",
        "3as1mzlUhoJK",
        "bOdi4sN619RG",
        "6ujW31Z72Ez4",
        "k-dnb5UNRqH3"
      ]
    },
    "kernelspec": {
      "display_name": "Python 3",
      "name": "python3"
    }
  },
  "cells": [
    {
      "cell_type": "markdown",
      "metadata": {
        "id": "uTYemDqt5PxI"
      },
      "source": [
        "#Automatizacion del proceso de toma de decisiones para la aprobación de líneas de crédito\r\n",
        "\r\n",
        "\r\n"
      ]
    },
    {
      "cell_type": "markdown",
      "metadata": {
        "id": "Io-5EOALexl2"
      },
      "source": [
        "##Importacion librerias"
      ]
    },
    {
      "cell_type": "code",
      "metadata": {
        "id": "FPdJRv_W31u5"
      },
      "source": [
        "#Librerias para manipulacion de datos\r\n",
        "import numpy as np\r\n",
        "import pandas as pd\r\n",
        "import matplotlib.pyplot as plt\r\n",
        "import seaborn as sns\r\n",
        "%matplotlib inline\r\n",
        "plt.style.use(\"dark_background\")\r\n",
        "#Librerias para metricas\r\n",
        "from sklearn.metrics import accuracy_score, confusion_matrix,f1_score\r\n",
        "import time\r\n",
        "#Librerras para Preprocesado y holdout\r\n",
        "from sklearn.compose import ColumnTransformer\r\n",
        "from sklearn.preprocessing import OneHotEncoder, StandardScaler\r\n",
        "from sklearn.model_selection import train_test_split, cross_val_score\r\n",
        "#Librerias de los modelos a utilizar\r\n",
        "# from sklearn.neighbors import KNeighborsClassifier\r\n",
        "from sklearn.linear_model import LogisticRegression\r\n",
        "from sklearn.ensemble import  RandomForestClassifier\r\n",
        "from sklearn.svm import SVC\r\n"
      ],
      "execution_count": null,
      "outputs": []
    },
    {
      "cell_type": "markdown",
      "metadata": {
        "id": "g8_F9erD9vu9"
      },
      "source": [
        "##Importacion el Data Set"
      ]
    },
    {
      "cell_type": "code",
      "metadata": {
        "id": "XP6WA0J15OfF"
      },
      "source": [
        "#Se obtiene el Dataset en un pandas.DataFrame almacenado en la variable df.\r\n",
        "df=pd.read_csv(\"https://raw.githubusercontent.com/ragnor-devop/demo_day_data_sets/main/01%20Data_Set_Banco/01%20credit_train_v03.csv\")\r\n",
        "#Se obtiene los datos de prueba\r\n",
        "dftest = pd.read_csv(\"https://raw.githubusercontent.com/ragnor-devop/demo_day_data_sets/main/01%20credit_test.csv\")"
      ],
      "execution_count": null,
      "outputs": []
    },
    {
      "cell_type": "markdown",
      "metadata": {
        "id": "y_je_9OgElKz"
      },
      "source": [
        "##Exploracion de datos"
      ]
    },
    {
      "cell_type": "code",
      "metadata": {
        "colab": {
          "base_uri": "https://localhost:8080/"
        },
        "id": "_La6dkm_f4tH",
        "outputId": "65e1f8a2-38cb-4a2f-d4b5-b73a76577507"
      },
      "source": [
        "# Forma del dataset\r\n",
        "df.shape\r\n"
      ],
      "execution_count": null,
      "outputs": [
        {
          "output_type": "execute_result",
          "data": {
            "text/plain": [
              "(100000, 19)"
            ]
          },
          "metadata": {
            "tags": []
          },
          "execution_count": 6
        }
      ]
    },
    {
      "cell_type": "code",
      "metadata": {
        "colab": {
          "base_uri": "https://localhost:8080/"
        },
        "id": "xZD9Mu1MEwMi",
        "outputId": "ad12b07f-66b2-4306-b904-c326cd0923bc"
      },
      "source": [
        "# Los primeros 4 registros del dataset\r\n",
        "df.head(4)"
      ],
      "execution_count": null,
      "outputs": [
        {
          "output_type": "execute_result",
          "data": {
            "text/html": [
              "<div>\n",
              "<style scoped>\n",
              "    .dataframe tbody tr th:only-of-type {\n",
              "        vertical-align: middle;\n",
              "    }\n",
              "\n",
              "    .dataframe tbody tr th {\n",
              "        vertical-align: top;\n",
              "    }\n",
              "\n",
              "    .dataframe thead th {\n",
              "        text-align: right;\n",
              "    }\n",
              "</style>\n",
              "<table border=\"1\" class=\"dataframe\">\n",
              "  <thead>\n",
              "    <tr style=\"text-align: right;\">\n",
              "      <th></th>\n",
              "      <th>Loan ID</th>\n",
              "      <th>Customer ID</th>\n",
              "      <th>Loan Status</th>\n",
              "      <th>Current Loan Amount</th>\n",
              "      <th>Term</th>\n",
              "      <th>Credit Score</th>\n",
              "      <th>Annual Income</th>\n",
              "      <th>Years in current job</th>\n",
              "      <th>Home Ownership</th>\n",
              "      <th>Purpose</th>\n",
              "      <th>Monthly Debt</th>\n",
              "      <th>Years of Credit History</th>\n",
              "      <th>Months since last delinquent</th>\n",
              "      <th>Number of Open Accounts</th>\n",
              "      <th>Number of Credit Problems</th>\n",
              "      <th>Current Credit Balance</th>\n",
              "      <th>Maximum Open Credit</th>\n",
              "      <th>Bankruptcies</th>\n",
              "      <th>Tax Liens</th>\n",
              "    </tr>\n",
              "  </thead>\n",
              "  <tbody>\n",
              "    <tr>\n",
              "      <th>0</th>\n",
              "      <td>14dd8831-6af5-400b-83ec-68e61888a048</td>\n",
              "      <td>981165ec-3274-42f5-a3b4-d104041a9ca9</td>\n",
              "      <td>Fully Paid</td>\n",
              "      <td>445412.0</td>\n",
              "      <td>Short Term</td>\n",
              "      <td>709.0</td>\n",
              "      <td>1167493.0</td>\n",
              "      <td>8 years</td>\n",
              "      <td>Home Mortgage</td>\n",
              "      <td>Home Improvements</td>\n",
              "      <td>5214.74</td>\n",
              "      <td>17.2</td>\n",
              "      <td>NaN</td>\n",
              "      <td>6.0</td>\n",
              "      <td>1.0</td>\n",
              "      <td>228190.0</td>\n",
              "      <td>416746.0</td>\n",
              "      <td>1.0</td>\n",
              "      <td>0.0</td>\n",
              "    </tr>\n",
              "    <tr>\n",
              "      <th>1</th>\n",
              "      <td>4771cc26-131a-45db-b5aa-537ea4ba5342</td>\n",
              "      <td>2de017a3-2e01-49cb-a581-08169e83be29</td>\n",
              "      <td>Fully Paid</td>\n",
              "      <td>262328.0</td>\n",
              "      <td>Short Term</td>\n",
              "      <td>NaN</td>\n",
              "      <td>NaN</td>\n",
              "      <td>10+ years</td>\n",
              "      <td>Home Mortgage</td>\n",
              "      <td>Debt Consolidation</td>\n",
              "      <td>33295.98</td>\n",
              "      <td>21.1</td>\n",
              "      <td>8.0</td>\n",
              "      <td>35.0</td>\n",
              "      <td>0.0</td>\n",
              "      <td>229976.0</td>\n",
              "      <td>850784.0</td>\n",
              "      <td>0.0</td>\n",
              "      <td>0.0</td>\n",
              "    </tr>\n",
              "    <tr>\n",
              "      <th>2</th>\n",
              "      <td>4eed4e6a-aa2f-4c91-8651-ce984ee8fb26</td>\n",
              "      <td>5efb2b2b-bf11-4dfd-a572-3761a2694725</td>\n",
              "      <td>Fully Paid</td>\n",
              "      <td>99999999.0</td>\n",
              "      <td>Short Term</td>\n",
              "      <td>741.0</td>\n",
              "      <td>2231892.0</td>\n",
              "      <td>8 years</td>\n",
              "      <td>Own Home</td>\n",
              "      <td>Debt Consolidation</td>\n",
              "      <td>29200.53</td>\n",
              "      <td>14.9</td>\n",
              "      <td>29.0</td>\n",
              "      <td>18.0</td>\n",
              "      <td>1.0</td>\n",
              "      <td>297996.0</td>\n",
              "      <td>750090.0</td>\n",
              "      <td>0.0</td>\n",
              "      <td>0.0</td>\n",
              "    </tr>\n",
              "    <tr>\n",
              "      <th>3</th>\n",
              "      <td>77598f7b-32e7-4e3b-a6e5-06ba0d98fe8a</td>\n",
              "      <td>e777faab-98ae-45af-9a86-7ce5b33b1011</td>\n",
              "      <td>Fully Paid</td>\n",
              "      <td>347666.0</td>\n",
              "      <td>Long Term</td>\n",
              "      <td>721.0</td>\n",
              "      <td>806949.0</td>\n",
              "      <td>3 years</td>\n",
              "      <td>Own Home</td>\n",
              "      <td>Debt Consolidation</td>\n",
              "      <td>8741.90</td>\n",
              "      <td>12.0</td>\n",
              "      <td>NaN</td>\n",
              "      <td>9.0</td>\n",
              "      <td>0.0</td>\n",
              "      <td>256329.0</td>\n",
              "      <td>386958.0</td>\n",
              "      <td>0.0</td>\n",
              "      <td>0.0</td>\n",
              "    </tr>\n",
              "  </tbody>\n",
              "</table>\n",
              "</div>"
            ],
            "text/plain": [
              "                                Loan ID  ... Tax Liens\n",
              "0  14dd8831-6af5-400b-83ec-68e61888a048  ...       0.0\n",
              "1  4771cc26-131a-45db-b5aa-537ea4ba5342  ...       0.0\n",
              "2  4eed4e6a-aa2f-4c91-8651-ce984ee8fb26  ...       0.0\n",
              "3  77598f7b-32e7-4e3b-a6e5-06ba0d98fe8a  ...       0.0\n",
              "\n",
              "[4 rows x 19 columns]"
            ]
          },
          "metadata": {
            "tags": []
          },
          "execution_count": 7
        }
      ]
    },
    {
      "cell_type": "code",
      "metadata": {
        "colab": {
          "base_uri": "https://localhost:8080/"
        },
        "id": "otCCqFB4gxqz",
        "outputId": "af4b13d6-6249-4e41-adc1-a2b103cda718"
      },
      "source": [
        "#Resumen del Dataset\r\n",
        "df.describe().T"
      ],
      "execution_count": null,
      "outputs": [
        {
          "output_type": "execute_result",
          "data": {
            "text/html": [
              "<div>\n",
              "<style scoped>\n",
              "    .dataframe tbody tr th:only-of-type {\n",
              "        vertical-align: middle;\n",
              "    }\n",
              "\n",
              "    .dataframe tbody tr th {\n",
              "        vertical-align: top;\n",
              "    }\n",
              "\n",
              "    .dataframe thead th {\n",
              "        text-align: right;\n",
              "    }\n",
              "</style>\n",
              "<table border=\"1\" class=\"dataframe\">\n",
              "  <thead>\n",
              "    <tr style=\"text-align: right;\">\n",
              "      <th></th>\n",
              "      <th>count</th>\n",
              "      <th>mean</th>\n",
              "      <th>std</th>\n",
              "      <th>min</th>\n",
              "      <th>25%</th>\n",
              "      <th>50%</th>\n",
              "      <th>75%</th>\n",
              "      <th>max</th>\n",
              "    </tr>\n",
              "  </thead>\n",
              "  <tbody>\n",
              "    <tr>\n",
              "      <th>Current Loan Amount</th>\n",
              "      <td>99990.0</td>\n",
              "      <td>1.176160e+07</td>\n",
              "      <td>3.178532e+07</td>\n",
              "      <td>10802.0</td>\n",
              "      <td>179652.00</td>\n",
              "      <td>312246.000</td>\n",
              "      <td>524942.00</td>\n",
              "      <td>1.000000e+08</td>\n",
              "    </tr>\n",
              "    <tr>\n",
              "      <th>Credit Score</th>\n",
              "      <td>80838.0</td>\n",
              "      <td>1.076410e+03</td>\n",
              "      <td>1.475301e+03</td>\n",
              "      <td>585.0</td>\n",
              "      <td>705.00</td>\n",
              "      <td>724.000</td>\n",
              "      <td>741.00</td>\n",
              "      <td>7.510000e+03</td>\n",
              "    </tr>\n",
              "    <tr>\n",
              "      <th>Annual Income</th>\n",
              "      <td>80838.0</td>\n",
              "      <td>1.378267e+06</td>\n",
              "      <td>1.081395e+06</td>\n",
              "      <td>76627.0</td>\n",
              "      <td>848844.00</td>\n",
              "      <td>1174076.500</td>\n",
              "      <td>1650691.50</td>\n",
              "      <td>1.655574e+08</td>\n",
              "    </tr>\n",
              "    <tr>\n",
              "      <th>Monthly Debt</th>\n",
              "      <td>99990.0</td>\n",
              "      <td>1.847260e+04</td>\n",
              "      <td>1.217520e+04</td>\n",
              "      <td>0.0</td>\n",
              "      <td>10214.21</td>\n",
              "      <td>16221.155</td>\n",
              "      <td>24012.01</td>\n",
              "      <td>4.358433e+05</td>\n",
              "    </tr>\n",
              "    <tr>\n",
              "      <th>Years of Credit History</th>\n",
              "      <td>99990.0</td>\n",
              "      <td>1.819823e+01</td>\n",
              "      <td>7.014741e+00</td>\n",
              "      <td>3.6</td>\n",
              "      <td>13.50</td>\n",
              "      <td>16.900</td>\n",
              "      <td>21.70</td>\n",
              "      <td>7.050000e+01</td>\n",
              "    </tr>\n",
              "    <tr>\n",
              "      <th>Months since last delinquent</th>\n",
              "      <td>46854.0</td>\n",
              "      <td>3.490065e+01</td>\n",
              "      <td>2.199818e+01</td>\n",
              "      <td>0.0</td>\n",
              "      <td>16.00</td>\n",
              "      <td>32.000</td>\n",
              "      <td>51.00</td>\n",
              "      <td>1.760000e+02</td>\n",
              "    </tr>\n",
              "    <tr>\n",
              "      <th>Number of Open Accounts</th>\n",
              "      <td>99990.0</td>\n",
              "      <td>1.112851e+01</td>\n",
              "      <td>5.009845e+00</td>\n",
              "      <td>0.0</td>\n",
              "      <td>8.00</td>\n",
              "      <td>10.000</td>\n",
              "      <td>14.00</td>\n",
              "      <td>7.600000e+01</td>\n",
              "    </tr>\n",
              "    <tr>\n",
              "      <th>Number of Credit Problems</th>\n",
              "      <td>99990.0</td>\n",
              "      <td>1.683268e-01</td>\n",
              "      <td>4.827262e-01</td>\n",
              "      <td>0.0</td>\n",
              "      <td>0.00</td>\n",
              "      <td>0.000</td>\n",
              "      <td>0.00</td>\n",
              "      <td>1.500000e+01</td>\n",
              "    </tr>\n",
              "    <tr>\n",
              "      <th>Current Credit Balance</th>\n",
              "      <td>99990.0</td>\n",
              "      <td>2.946374e+05</td>\n",
              "      <td>3.761808e+05</td>\n",
              "      <td>0.0</td>\n",
              "      <td>112670.00</td>\n",
              "      <td>209826.500</td>\n",
              "      <td>367949.25</td>\n",
              "      <td>3.287897e+07</td>\n",
              "    </tr>\n",
              "    <tr>\n",
              "      <th>Maximum Open Credit</th>\n",
              "      <td>99988.0</td>\n",
              "      <td>7.608121e+05</td>\n",
              "      <td>8.384921e+06</td>\n",
              "      <td>0.0</td>\n",
              "      <td>273438.00</td>\n",
              "      <td>467885.000</td>\n",
              "      <td>782958.00</td>\n",
              "      <td>1.539738e+09</td>\n",
              "    </tr>\n",
              "    <tr>\n",
              "      <th>Bankruptcies</th>\n",
              "      <td>99786.0</td>\n",
              "      <td>1.177520e-01</td>\n",
              "      <td>3.514395e-01</td>\n",
              "      <td>0.0</td>\n",
              "      <td>0.00</td>\n",
              "      <td>0.000</td>\n",
              "      <td>0.00</td>\n",
              "      <td>7.000000e+00</td>\n",
              "    </tr>\n",
              "    <tr>\n",
              "      <th>Tax Liens</th>\n",
              "      <td>99980.0</td>\n",
              "      <td>2.931586e-02</td>\n",
              "      <td>2.581952e-01</td>\n",
              "      <td>0.0</td>\n",
              "      <td>0.00</td>\n",
              "      <td>0.000</td>\n",
              "      <td>0.00</td>\n",
              "      <td>1.500000e+01</td>\n",
              "    </tr>\n",
              "  </tbody>\n",
              "</table>\n",
              "</div>"
            ],
            "text/plain": [
              "                                count          mean  ...         75%           max\n",
              "Current Loan Amount           99990.0  1.176160e+07  ...   524942.00  1.000000e+08\n",
              "Credit Score                  80838.0  1.076410e+03  ...      741.00  7.510000e+03\n",
              "Annual Income                 80838.0  1.378267e+06  ...  1650691.50  1.655574e+08\n",
              "Monthly Debt                  99990.0  1.847260e+04  ...    24012.01  4.358433e+05\n",
              "Years of Credit History       99990.0  1.819823e+01  ...       21.70  7.050000e+01\n",
              "Months since last delinquent  46854.0  3.490065e+01  ...       51.00  1.760000e+02\n",
              "Number of Open Accounts       99990.0  1.112851e+01  ...       14.00  7.600000e+01\n",
              "Number of Credit Problems     99990.0  1.683268e-01  ...        0.00  1.500000e+01\n",
              "Current Credit Balance        99990.0  2.946374e+05  ...   367949.25  3.287897e+07\n",
              "Maximum Open Credit           99988.0  7.608121e+05  ...   782958.00  1.539738e+09\n",
              "Bankruptcies                  99786.0  1.177520e-01  ...        0.00  7.000000e+00\n",
              "Tax Liens                     99980.0  2.931586e-02  ...        0.00  1.500000e+01\n",
              "\n",
              "[12 rows x 8 columns]"
            ]
          },
          "metadata": {
            "tags": []
          },
          "execution_count": 8
        }
      ]
    },
    {
      "cell_type": "markdown",
      "metadata": {
        "id": "U26QWaasfHhU"
      },
      "source": [
        "##Preprocesado de datos"
      ]
    },
    {
      "cell_type": "code",
      "metadata": {
        "id": "3v8Kqih7an-z"
      },
      "source": [
        "'''\r\n",
        "Se elimina las siguientes columnas:\r\n",
        "Loan ID \r\n",
        "Costumer ID\r\n",
        "Los ids al ser valores unicos no aportan al entrenamiento de los modelos\r\n",
        "'''\r\n",
        "df=df.drop(columns=[\"Loan ID\",\"Customer ID\"])\r\n",
        "\r\n",
        "#Lo mismo para los datos de testeo\r\n",
        "dftest = dftest.drop(columns=[\"Loan ID\",\"Customer ID\"])"
      ],
      "execution_count": null,
      "outputs": []
    },
    {
      "cell_type": "code",
      "metadata": {
        "id": "ZZsdqRtVhbbk"
      },
      "source": [
        "#Eliminacion los registros duplicados \r\n",
        "df=df.drop_duplicates()\r\n",
        "#Lo mismo para los datos de testeo\r\n",
        "dftest=dftest.drop_duplicates()"
      ],
      "execution_count": null,
      "outputs": []
    },
    {
      "cell_type": "code",
      "metadata": {
        "colab": {
          "base_uri": "https://localhost:8080/"
        },
        "id": "iH8ahe6YhgOL",
        "outputId": "c267658e-922c-4700-dda6-5a8c6c139621"
      },
      "source": [
        "#Nueva cantidad de registros\r\n",
        "df.shape"
      ],
      "execution_count": null,
      "outputs": [
        {
          "output_type": "execute_result",
          "data": {
            "text/plain": [
              "(89778, 17)"
            ]
          },
          "metadata": {
            "tags": []
          },
          "execution_count": 11
        }
      ]
    },
    {
      "cell_type": "code",
      "metadata": {
        "id": "MhtD8dVL7FZp"
      },
      "source": [
        "# Datos de testeo se eliminan los valores nulos\r\n",
        "dftest=dftest.dropna()"
      ],
      "execution_count": null,
      "outputs": []
    },
    {
      "cell_type": "code",
      "metadata": {
        "colab": {
          "base_uri": "https://localhost:8080/"
        },
        "id": "bGWDf7DI7Nm3",
        "outputId": "de88ccb3-3da6-44dc-da95-613138bd88e7"
      },
      "source": [
        "#Cuantificacion de los registros con valores nulos para los datos de testeo\r\n",
        "dftest.isna().sum()"
      ],
      "execution_count": null,
      "outputs": [
        {
          "output_type": "execute_result",
          "data": {
            "text/plain": [
              "Current Loan Amount             0\n",
              "Term                            0\n",
              "Credit Score                    0\n",
              "Annual Income                   0\n",
              "Years in current job            0\n",
              "Home Ownership                  0\n",
              "Purpose                         0\n",
              "Monthly Debt                    0\n",
              "Years of Credit History         0\n",
              "Months since last delinquent    0\n",
              "Number of Open Accounts         0\n",
              "Number of Credit Problems       0\n",
              "Current Credit Balance          0\n",
              "Maximum Open Credit             0\n",
              "Bankruptcies                    0\n",
              "Tax Liens                       0\n",
              "dtype: int64"
            ]
          },
          "metadata": {
            "tags": []
          },
          "execution_count": 13
        }
      ]
    },
    {
      "cell_type": "code",
      "metadata": {
        "colab": {
          "base_uri": "https://localhost:8080/"
        },
        "id": "MpwoWVqN74CC",
        "outputId": "93de3ec2-fd37-4a57-9606-fb94c65082aa"
      },
      "source": [
        "# forma del dataset de testeo\r\n",
        "dftest.shape"
      ],
      "execution_count": null,
      "outputs": [
        {
          "output_type": "execute_result",
          "data": {
            "text/plain": [
              "(3573, 16)"
            ]
          },
          "metadata": {
            "tags": []
          },
          "execution_count": 14
        }
      ]
    },
    {
      "cell_type": "code",
      "metadata": {
        "colab": {
          "base_uri": "https://localhost:8080/"
        },
        "id": "TdtHWfY2FOZb",
        "outputId": "5f0411df-9e86-4817-cbcb-1696725e08d1"
      },
      "source": [
        "#Cuantificacion de los registros con valores nulos\r\n",
        "df.isna().sum()\r\n"
      ],
      "execution_count": null,
      "outputs": [
        {
          "output_type": "execute_result",
          "data": {
            "text/plain": [
              "Loan Status                         1\n",
              "Current Loan Amount                 1\n",
              "Term                                1\n",
              "Credit Score                    19153\n",
              "Annual Income                   19153\n",
              "Years in current job             3803\n",
              "Home Ownership                      1\n",
              "Purpose                             1\n",
              "Monthly Debt                        1\n",
              "Years of Credit History             1\n",
              "Months since last delinquent    48334\n",
              "Number of Open Accounts             1\n",
              "Number of Credit Problems           1\n",
              "Current Credit Balance              1\n",
              "Maximum Open Credit                 3\n",
              "Bankruptcies                      191\n",
              "Tax Liens                          10\n",
              "dtype: int64"
            ]
          },
          "metadata": {
            "tags": []
          },
          "execution_count": 15
        }
      ]
    },
    {
      "cell_type": "code",
      "metadata": {
        "id": "Q3QS3eqHT98u"
      },
      "source": [
        "'''\r\n",
        "Se rellena las columnas con valores promedio\r\n",
        "'''\r\n",
        "df=df.fillna(df.mean())\r\n",
        "#Lo mismo para los datos de testeo\r\n",
        "dftest = dftest.fillna(dftest.mean())"
      ],
      "execution_count": null,
      "outputs": []
    },
    {
      "cell_type": "code",
      "metadata": {
        "colab": {
          "base_uri": "https://localhost:8080/"
        },
        "id": "1prD3b3TZ3eD",
        "outputId": "7ba81fe7-4ded-44c8-e0b3-01d3c72c895a"
      },
      "source": [
        "#Cuantificacion los registros con valores nulos\r\n",
        "df.isna().sum()"
      ],
      "execution_count": null,
      "outputs": [
        {
          "output_type": "execute_result",
          "data": {
            "text/plain": [
              "Loan Status                        1\n",
              "Current Loan Amount                0\n",
              "Term                               1\n",
              "Credit Score                       0\n",
              "Annual Income                      0\n",
              "Years in current job            3803\n",
              "Home Ownership                     1\n",
              "Purpose                            1\n",
              "Monthly Debt                       0\n",
              "Years of Credit History            0\n",
              "Months since last delinquent       0\n",
              "Number of Open Accounts            0\n",
              "Number of Credit Problems          0\n",
              "Current Credit Balance             0\n",
              "Maximum Open Credit                0\n",
              "Bankruptcies                       0\n",
              "Tax Liens                          0\n",
              "dtype: int64"
            ]
          },
          "metadata": {
            "tags": []
          },
          "execution_count": 17
        }
      ]
    },
    {
      "cell_type": "code",
      "metadata": {
        "colab": {
          "base_uri": "https://localhost:8080/"
        },
        "id": "0OMuYta9iZpj",
        "outputId": "3c951dbe-7b11-441e-fa80-db4b312cf068"
      },
      "source": [
        "#Analisis de la siguiente columna con registros categoricos\r\n",
        "df.groupby([\"Years in current job\"]).count()"
      ],
      "execution_count": null,
      "outputs": [
        {
          "output_type": "execute_result",
          "data": {
            "text/html": [
              "<div>\n",
              "<style scoped>\n",
              "    .dataframe tbody tr th:only-of-type {\n",
              "        vertical-align: middle;\n",
              "    }\n",
              "\n",
              "    .dataframe tbody tr th {\n",
              "        vertical-align: top;\n",
              "    }\n",
              "\n",
              "    .dataframe thead th {\n",
              "        text-align: right;\n",
              "    }\n",
              "</style>\n",
              "<table border=\"1\" class=\"dataframe\">\n",
              "  <thead>\n",
              "    <tr style=\"text-align: right;\">\n",
              "      <th></th>\n",
              "      <th>Loan Status</th>\n",
              "      <th>Current Loan Amount</th>\n",
              "      <th>Term</th>\n",
              "      <th>Credit Score</th>\n",
              "      <th>Annual Income</th>\n",
              "      <th>Home Ownership</th>\n",
              "      <th>Purpose</th>\n",
              "      <th>Monthly Debt</th>\n",
              "      <th>Years of Credit History</th>\n",
              "      <th>Months since last delinquent</th>\n",
              "      <th>Number of Open Accounts</th>\n",
              "      <th>Number of Credit Problems</th>\n",
              "      <th>Current Credit Balance</th>\n",
              "      <th>Maximum Open Credit</th>\n",
              "      <th>Bankruptcies</th>\n",
              "      <th>Tax Liens</th>\n",
              "    </tr>\n",
              "    <tr>\n",
              "      <th>Years in current job</th>\n",
              "      <th></th>\n",
              "      <th></th>\n",
              "      <th></th>\n",
              "      <th></th>\n",
              "      <th></th>\n",
              "      <th></th>\n",
              "      <th></th>\n",
              "      <th></th>\n",
              "      <th></th>\n",
              "      <th></th>\n",
              "      <th></th>\n",
              "      <th></th>\n",
              "      <th></th>\n",
              "      <th></th>\n",
              "      <th></th>\n",
              "      <th></th>\n",
              "    </tr>\n",
              "  </thead>\n",
              "  <tbody>\n",
              "    <tr>\n",
              "      <th>1 year</th>\n",
              "      <td>5831</td>\n",
              "      <td>5831</td>\n",
              "      <td>5831</td>\n",
              "      <td>5831</td>\n",
              "      <td>5831</td>\n",
              "      <td>5831</td>\n",
              "      <td>5831</td>\n",
              "      <td>5831</td>\n",
              "      <td>5831</td>\n",
              "      <td>5831</td>\n",
              "      <td>5831</td>\n",
              "      <td>5831</td>\n",
              "      <td>5831</td>\n",
              "      <td>5831</td>\n",
              "      <td>5831</td>\n",
              "      <td>5831</td>\n",
              "    </tr>\n",
              "    <tr>\n",
              "      <th>10+ years</th>\n",
              "      <td>27753</td>\n",
              "      <td>27753</td>\n",
              "      <td>27753</td>\n",
              "      <td>27753</td>\n",
              "      <td>27753</td>\n",
              "      <td>27753</td>\n",
              "      <td>27753</td>\n",
              "      <td>27753</td>\n",
              "      <td>27753</td>\n",
              "      <td>27753</td>\n",
              "      <td>27753</td>\n",
              "      <td>27753</td>\n",
              "      <td>27753</td>\n",
              "      <td>27753</td>\n",
              "      <td>27753</td>\n",
              "      <td>27753</td>\n",
              "    </tr>\n",
              "    <tr>\n",
              "      <th>2 years</th>\n",
              "      <td>8254</td>\n",
              "      <td>8254</td>\n",
              "      <td>8254</td>\n",
              "      <td>8254</td>\n",
              "      <td>8254</td>\n",
              "      <td>8254</td>\n",
              "      <td>8254</td>\n",
              "      <td>8254</td>\n",
              "      <td>8254</td>\n",
              "      <td>8254</td>\n",
              "      <td>8254</td>\n",
              "      <td>8254</td>\n",
              "      <td>8254</td>\n",
              "      <td>8254</td>\n",
              "      <td>8254</td>\n",
              "      <td>8254</td>\n",
              "    </tr>\n",
              "    <tr>\n",
              "      <th>3 years</th>\n",
              "      <td>7337</td>\n",
              "      <td>7337</td>\n",
              "      <td>7337</td>\n",
              "      <td>7337</td>\n",
              "      <td>7337</td>\n",
              "      <td>7337</td>\n",
              "      <td>7337</td>\n",
              "      <td>7337</td>\n",
              "      <td>7337</td>\n",
              "      <td>7337</td>\n",
              "      <td>7337</td>\n",
              "      <td>7337</td>\n",
              "      <td>7337</td>\n",
              "      <td>7337</td>\n",
              "      <td>7337</td>\n",
              "      <td>7337</td>\n",
              "    </tr>\n",
              "    <tr>\n",
              "      <th>4 years</th>\n",
              "      <td>5511</td>\n",
              "      <td>5511</td>\n",
              "      <td>5511</td>\n",
              "      <td>5511</td>\n",
              "      <td>5511</td>\n",
              "      <td>5511</td>\n",
              "      <td>5511</td>\n",
              "      <td>5511</td>\n",
              "      <td>5511</td>\n",
              "      <td>5511</td>\n",
              "      <td>5511</td>\n",
              "      <td>5511</td>\n",
              "      <td>5511</td>\n",
              "      <td>5511</td>\n",
              "      <td>5511</td>\n",
              "      <td>5511</td>\n",
              "    </tr>\n",
              "    <tr>\n",
              "      <th>5 years</th>\n",
              "      <td>6135</td>\n",
              "      <td>6135</td>\n",
              "      <td>6135</td>\n",
              "      <td>6135</td>\n",
              "      <td>6135</td>\n",
              "      <td>6135</td>\n",
              "      <td>6135</td>\n",
              "      <td>6135</td>\n",
              "      <td>6135</td>\n",
              "      <td>6135</td>\n",
              "      <td>6135</td>\n",
              "      <td>6135</td>\n",
              "      <td>6135</td>\n",
              "      <td>6135</td>\n",
              "      <td>6135</td>\n",
              "      <td>6135</td>\n",
              "    </tr>\n",
              "    <tr>\n",
              "      <th>6 years</th>\n",
              "      <td>5134</td>\n",
              "      <td>5134</td>\n",
              "      <td>5134</td>\n",
              "      <td>5134</td>\n",
              "      <td>5134</td>\n",
              "      <td>5134</td>\n",
              "      <td>5134</td>\n",
              "      <td>5134</td>\n",
              "      <td>5134</td>\n",
              "      <td>5134</td>\n",
              "      <td>5134</td>\n",
              "      <td>5134</td>\n",
              "      <td>5134</td>\n",
              "      <td>5134</td>\n",
              "      <td>5134</td>\n",
              "      <td>5134</td>\n",
              "    </tr>\n",
              "    <tr>\n",
              "      <th>7 years</th>\n",
              "      <td>4988</td>\n",
              "      <td>4988</td>\n",
              "      <td>4988</td>\n",
              "      <td>4988</td>\n",
              "      <td>4988</td>\n",
              "      <td>4988</td>\n",
              "      <td>4988</td>\n",
              "      <td>4988</td>\n",
              "      <td>4988</td>\n",
              "      <td>4988</td>\n",
              "      <td>4988</td>\n",
              "      <td>4988</td>\n",
              "      <td>4988</td>\n",
              "      <td>4988</td>\n",
              "      <td>4988</td>\n",
              "      <td>4988</td>\n",
              "    </tr>\n",
              "    <tr>\n",
              "      <th>8 years</th>\n",
              "      <td>4121</td>\n",
              "      <td>4121</td>\n",
              "      <td>4121</td>\n",
              "      <td>4121</td>\n",
              "      <td>4121</td>\n",
              "      <td>4121</td>\n",
              "      <td>4121</td>\n",
              "      <td>4121</td>\n",
              "      <td>4121</td>\n",
              "      <td>4121</td>\n",
              "      <td>4121</td>\n",
              "      <td>4121</td>\n",
              "      <td>4121</td>\n",
              "      <td>4121</td>\n",
              "      <td>4121</td>\n",
              "      <td>4121</td>\n",
              "    </tr>\n",
              "    <tr>\n",
              "      <th>9 years</th>\n",
              "      <td>3546</td>\n",
              "      <td>3546</td>\n",
              "      <td>3546</td>\n",
              "      <td>3546</td>\n",
              "      <td>3546</td>\n",
              "      <td>3546</td>\n",
              "      <td>3546</td>\n",
              "      <td>3546</td>\n",
              "      <td>3546</td>\n",
              "      <td>3546</td>\n",
              "      <td>3546</td>\n",
              "      <td>3546</td>\n",
              "      <td>3546</td>\n",
              "      <td>3546</td>\n",
              "      <td>3546</td>\n",
              "      <td>3546</td>\n",
              "    </tr>\n",
              "    <tr>\n",
              "      <th>&lt; 1 year</th>\n",
              "      <td>7365</td>\n",
              "      <td>7365</td>\n",
              "      <td>7365</td>\n",
              "      <td>7365</td>\n",
              "      <td>7365</td>\n",
              "      <td>7365</td>\n",
              "      <td>7365</td>\n",
              "      <td>7365</td>\n",
              "      <td>7365</td>\n",
              "      <td>7365</td>\n",
              "      <td>7365</td>\n",
              "      <td>7365</td>\n",
              "      <td>7365</td>\n",
              "      <td>7365</td>\n",
              "      <td>7365</td>\n",
              "      <td>7365</td>\n",
              "    </tr>\n",
              "  </tbody>\n",
              "</table>\n",
              "</div>"
            ],
            "text/plain": [
              "                      Loan Status  Current Loan Amount  ...  Bankruptcies  Tax Liens\n",
              "Years in current job                                    ...                         \n",
              "1 year                       5831                 5831  ...          5831       5831\n",
              "10+ years                   27753                27753  ...         27753      27753\n",
              "2 years                      8254                 8254  ...          8254       8254\n",
              "3 years                      7337                 7337  ...          7337       7337\n",
              "4 years                      5511                 5511  ...          5511       5511\n",
              "5 years                      6135                 6135  ...          6135       6135\n",
              "6 years                      5134                 5134  ...          5134       5134\n",
              "7 years                      4988                 4988  ...          4988       4988\n",
              "8 years                      4121                 4121  ...          4121       4121\n",
              "9 years                      3546                 3546  ...          3546       3546\n",
              "< 1 year                     7365                 7365  ...          7365       7365\n",
              "\n",
              "[11 rows x 16 columns]"
            ]
          },
          "metadata": {
            "tags": []
          },
          "execution_count": 18
        }
      ]
    },
    {
      "cell_type": "code",
      "metadata": {
        "id": "MS0hVyIpDTn4"
      },
      "source": [
        "#Transformar la columna \"Years in current job\"de object en float al extraer los caracteres no numericos\r\n",
        "df['Years in current job']=df['Years in current job'].str.extract(r\"(\\d+)\")\r\n",
        "df['Years in current job'] =df['Years in current job'].astype(float)\r\n",
        "#Lo mismo para los datos de testeo\r\n",
        "\r\n",
        "dftest['Years in current job'] = dftest['Years in current job'].str.extract(r\"(\\d+)\")\r\n",
        "dftest['Years in current job'] = dftest['Years in current job'].astype(float)"
      ],
      "execution_count": null,
      "outputs": []
    },
    {
      "cell_type": "code",
      "metadata": {
        "id": "zm9Bmf5WCrTO"
      },
      "source": [
        "#Eliminar los registros nulos \r\n",
        "df=df.dropna()"
      ],
      "execution_count": null,
      "outputs": []
    },
    {
      "cell_type": "code",
      "metadata": {
        "colab": {
          "base_uri": "https://localhost:8080/"
        },
        "id": "Vz3r7fqdC3AF",
        "outputId": "d80d5709-dd2e-4b3e-aca2-bba25b6bc10d"
      },
      "source": [
        "#Cuantificar los registros con valores nulos\r\n",
        "df.isna().sum()"
      ],
      "execution_count": null,
      "outputs": [
        {
          "output_type": "execute_result",
          "data": {
            "text/plain": [
              "Loan Status                     0\n",
              "Current Loan Amount             0\n",
              "Term                            0\n",
              "Credit Score                    0\n",
              "Annual Income                   0\n",
              "Years in current job            0\n",
              "Home Ownership                  0\n",
              "Purpose                         0\n",
              "Monthly Debt                    0\n",
              "Years of Credit History         0\n",
              "Months since last delinquent    0\n",
              "Number of Open Accounts         0\n",
              "Number of Credit Problems       0\n",
              "Current Credit Balance          0\n",
              "Maximum Open Credit             0\n",
              "Bankruptcies                    0\n",
              "Tax Liens                       0\n",
              "dtype: int64"
            ]
          },
          "metadata": {
            "tags": []
          },
          "execution_count": 21
        }
      ]
    },
    {
      "cell_type": "code",
      "metadata": {
        "colab": {
          "base_uri": "https://localhost:8080/"
        },
        "id": "WZ6laCGYZ2OC",
        "outputId": "e409a21b-81c5-4c86-b561-89c64922ed5a"
      },
      "source": [
        "#Resumen del Dataset\r\n",
        "df.describe().T"
      ],
      "execution_count": null,
      "outputs": [
        {
          "output_type": "execute_result",
          "data": {
            "text/html": [
              "<div>\n",
              "<style scoped>\n",
              "    .dataframe tbody tr th:only-of-type {\n",
              "        vertical-align: middle;\n",
              "    }\n",
              "\n",
              "    .dataframe tbody tr th {\n",
              "        vertical-align: top;\n",
              "    }\n",
              "\n",
              "    .dataframe thead th {\n",
              "        text-align: right;\n",
              "    }\n",
              "</style>\n",
              "<table border=\"1\" class=\"dataframe\">\n",
              "  <thead>\n",
              "    <tr style=\"text-align: right;\">\n",
              "      <th></th>\n",
              "      <th>count</th>\n",
              "      <th>mean</th>\n",
              "      <th>std</th>\n",
              "      <th>min</th>\n",
              "      <th>25%</th>\n",
              "      <th>50%</th>\n",
              "      <th>75%</th>\n",
              "      <th>max</th>\n",
              "    </tr>\n",
              "  </thead>\n",
              "  <tbody>\n",
              "    <tr>\n",
              "      <th>Current Loan Amount</th>\n",
              "      <td>85975.0</td>\n",
              "      <td>1.313251e+07</td>\n",
              "      <td>3.337096e+07</td>\n",
              "      <td>10802.0</td>\n",
              "      <td>185559.00000</td>\n",
              "      <td>3.201220e+05</td>\n",
              "      <td>5.361400e+05</td>\n",
              "      <td>1.000000e+08</td>\n",
              "    </tr>\n",
              "    <tr>\n",
              "      <th>Credit Score</th>\n",
              "      <td>85975.0</td>\n",
              "      <td>1.126774e+03</td>\n",
              "      <td>1.385249e+03</td>\n",
              "      <td>585.0</td>\n",
              "      <td>715.00000</td>\n",
              "      <td>7.370000e+02</td>\n",
              "      <td>1.130771e+03</td>\n",
              "      <td>7.510000e+03</td>\n",
              "    </tr>\n",
              "    <tr>\n",
              "      <th>Annual Income</th>\n",
              "      <td>85975.0</td>\n",
              "      <td>1.392133e+06</td>\n",
              "      <td>9.926143e+05</td>\n",
              "      <td>76627.0</td>\n",
              "      <td>949905.00000</td>\n",
              "      <td>1.375888e+06</td>\n",
              "      <td>1.512286e+06</td>\n",
              "      <td>1.655574e+08</td>\n",
              "    </tr>\n",
              "    <tr>\n",
              "      <th>Years in current job</th>\n",
              "      <td>85975.0</td>\n",
              "      <td>5.961803e+00</td>\n",
              "      <td>3.500504e+00</td>\n",
              "      <td>1.0</td>\n",
              "      <td>3.00000</td>\n",
              "      <td>6.000000e+00</td>\n",
              "      <td>1.000000e+01</td>\n",
              "      <td>1.000000e+01</td>\n",
              "    </tr>\n",
              "    <tr>\n",
              "      <th>Monthly Debt</th>\n",
              "      <td>85975.0</td>\n",
              "      <td>1.862531e+04</td>\n",
              "      <td>1.220123e+04</td>\n",
              "      <td>0.0</td>\n",
              "      <td>10391.95500</td>\n",
              "      <td>1.634760e+04</td>\n",
              "      <td>2.414587e+04</td>\n",
              "      <td>4.358433e+05</td>\n",
              "    </tr>\n",
              "    <tr>\n",
              "      <th>Years of Credit History</th>\n",
              "      <td>85975.0</td>\n",
              "      <td>1.804291e+01</td>\n",
              "      <td>6.816498e+00</td>\n",
              "      <td>3.6</td>\n",
              "      <td>13.40000</td>\n",
              "      <td>1.690000e+01</td>\n",
              "      <td>2.150000e+01</td>\n",
              "      <td>7.050000e+01</td>\n",
              "    </tr>\n",
              "    <tr>\n",
              "      <th>Months since last delinquent</th>\n",
              "      <td>85975.0</td>\n",
              "      <td>3.493207e+01</td>\n",
              "      <td>1.496074e+01</td>\n",
              "      <td>0.0</td>\n",
              "      <td>34.97522</td>\n",
              "      <td>3.497522e+01</td>\n",
              "      <td>3.497522e+01</td>\n",
              "      <td>1.760000e+02</td>\n",
              "    </tr>\n",
              "    <tr>\n",
              "      <th>Number of Open Accounts</th>\n",
              "      <td>85975.0</td>\n",
              "      <td>1.117688e+01</td>\n",
              "      <td>5.009871e+00</td>\n",
              "      <td>0.0</td>\n",
              "      <td>8.00000</td>\n",
              "      <td>1.000000e+01</td>\n",
              "      <td>1.400000e+01</td>\n",
              "      <td>7.600000e+01</td>\n",
              "    </tr>\n",
              "    <tr>\n",
              "      <th>Number of Credit Problems</th>\n",
              "      <td>85975.0</td>\n",
              "      <td>1.588950e-01</td>\n",
              "      <td>4.691662e-01</td>\n",
              "      <td>0.0</td>\n",
              "      <td>0.00000</td>\n",
              "      <td>0.000000e+00</td>\n",
              "      <td>0.000000e+00</td>\n",
              "      <td>1.500000e+01</td>\n",
              "    </tr>\n",
              "    <tr>\n",
              "      <th>Current Credit Balance</th>\n",
              "      <td>85975.0</td>\n",
              "      <td>2.962465e+05</td>\n",
              "      <td>3.738455e+05</td>\n",
              "      <td>0.0</td>\n",
              "      <td>114484.50000</td>\n",
              "      <td>2.120020e+05</td>\n",
              "      <td>3.706615e+05</td>\n",
              "      <td>3.287897e+07</td>\n",
              "    </tr>\n",
              "    <tr>\n",
              "      <th>Maximum Open Credit</th>\n",
              "      <td>85975.0</td>\n",
              "      <td>7.786639e+05</td>\n",
              "      <td>8.970547e+06</td>\n",
              "      <td>0.0</td>\n",
              "      <td>279378.00000</td>\n",
              "      <td>4.765200e+05</td>\n",
              "      <td>7.950910e+05</td>\n",
              "      <td>1.539738e+09</td>\n",
              "    </tr>\n",
              "    <tr>\n",
              "      <th>Bankruptcies</th>\n",
              "      <td>85975.0</td>\n",
              "      <td>1.108340e-01</td>\n",
              "      <td>3.407997e-01</td>\n",
              "      <td>0.0</td>\n",
              "      <td>0.00000</td>\n",
              "      <td>0.000000e+00</td>\n",
              "      <td>0.000000e+00</td>\n",
              "      <td>7.000000e+00</td>\n",
              "    </tr>\n",
              "    <tr>\n",
              "      <th>Tax Liens</th>\n",
              "      <td>85975.0</td>\n",
              "      <td>2.766220e-02</td>\n",
              "      <td>2.509020e-01</td>\n",
              "      <td>0.0</td>\n",
              "      <td>0.00000</td>\n",
              "      <td>0.000000e+00</td>\n",
              "      <td>0.000000e+00</td>\n",
              "      <td>1.500000e+01</td>\n",
              "    </tr>\n",
              "  </tbody>\n",
              "</table>\n",
              "</div>"
            ],
            "text/plain": [
              "                                count          mean  ...           75%           max\n",
              "Current Loan Amount           85975.0  1.313251e+07  ...  5.361400e+05  1.000000e+08\n",
              "Credit Score                  85975.0  1.126774e+03  ...  1.130771e+03  7.510000e+03\n",
              "Annual Income                 85975.0  1.392133e+06  ...  1.512286e+06  1.655574e+08\n",
              "Years in current job          85975.0  5.961803e+00  ...  1.000000e+01  1.000000e+01\n",
              "Monthly Debt                  85975.0  1.862531e+04  ...  2.414587e+04  4.358433e+05\n",
              "Years of Credit History       85975.0  1.804291e+01  ...  2.150000e+01  7.050000e+01\n",
              "Months since last delinquent  85975.0  3.493207e+01  ...  3.497522e+01  1.760000e+02\n",
              "Number of Open Accounts       85975.0  1.117688e+01  ...  1.400000e+01  7.600000e+01\n",
              "Number of Credit Problems     85975.0  1.588950e-01  ...  0.000000e+00  1.500000e+01\n",
              "Current Credit Balance        85975.0  2.962465e+05  ...  3.706615e+05  3.287897e+07\n",
              "Maximum Open Credit           85975.0  7.786639e+05  ...  7.950910e+05  1.539738e+09\n",
              "Bankruptcies                  85975.0  1.108340e-01  ...  0.000000e+00  7.000000e+00\n",
              "Tax Liens                     85975.0  2.766220e-02  ...  0.000000e+00  1.500000e+01\n",
              "\n",
              "[13 rows x 8 columns]"
            ]
          },
          "metadata": {
            "tags": []
          },
          "execution_count": 22
        }
      ]
    },
    {
      "cell_type": "code",
      "metadata": {
        "colab": {
          "base_uri": "https://localhost:8080/"
        },
        "id": "9IEJ0Awf_5MJ",
        "outputId": "717a94b9-2ccf-4a11-fa93-fb3688ddfa6a"
      },
      "source": [
        "#Mariz de correlacion\r\n",
        "dfc=df.copy()\r\n",
        "dfc=dfc.corr()\r\n",
        "dfc=dfc.round(2)\r\n",
        "sns.heatmap(dfc,annot=True,fmt=\".2g\");"
      ],
      "execution_count": null,
      "outputs": [
        {
          "output_type": "display_data",
          "data": {
            "image/png": "[encoded data removed]",
            "text/plain": [
              "<Figure size 432x288 with 2 Axes>"
            ]
          },
          "metadata": {
            "tags": [],
            "needs_background": "dark"
          }
        }
      ]
    },
    {
      "cell_type": "markdown",
      "metadata": {
        "id": "US9Opi9Lrqwd"
      },
      "source": [
        "##Matriz de Correlacion\r\n"
      ]
    },
    {
      "cell_type": "code",
      "metadata": {
        "colab": {
          "base_uri": "https://localhost:8080/"
        },
        "id": "V7QFlgeQWE7I",
        "outputId": "c2ebeae2-ef91-4ef6-96ef-b854bb039477"
      },
      "source": [
        "sns.heatmap(df.corr());"
      ],
      "execution_count": null,
      "outputs": [
        {
          "output_type": "display_data",
          "data": {
            "image/png": "[encoded data removed]",
            "text/plain": [
              "<Figure size 432x288 with 2 Axes>"
            ]
          },
          "metadata": {
            "tags": [],
            "needs_background": "dark"
          }
        }
      ]
    },
    {
      "cell_type": "markdown",
      "metadata": {
        "id": "zu4lDCbzquOm"
      },
      "source": [
        "##Analisis de Columna\r\n"
      ]
    },
    {
      "cell_type": "markdown",
      "metadata": {
        "id": "uSgzZCfvcvti"
      },
      "source": [
        "Las columnas\" **Term**\",\"**Home Ownership**\", \"**Purpose**\" tienen datos categoricos, asi que se llevan a datos numericos asi tambien el target \"**Loan Status**\" Utilizando las librerias OneHotencoder y ColumnTransfer\r\n"
      ]
    },
    {
      "cell_type": "code",
      "metadata": {
        "colab": {
          "base_uri": "https://localhost:8080/"
        },
        "id": "BvsW246KQGpl",
        "outputId": "d04dc6bd-8185-4e9c-d755-7c093ebe9bef"
      },
      "source": [
        "# Clases para la columna \"Term\"\r\n",
        "df.groupby(\"Term\").count()"
      ],
      "execution_count": null,
      "outputs": [
        {
          "output_type": "execute_result",
          "data": {
            "text/html": [
              "<div>\n",
              "<style scoped>\n",
              "    .dataframe tbody tr th:only-of-type {\n",
              "        vertical-align: middle;\n",
              "    }\n",
              "\n",
              "    .dataframe tbody tr th {\n",
              "        vertical-align: top;\n",
              "    }\n",
              "\n",
              "    .dataframe thead th {\n",
              "        text-align: right;\n",
              "    }\n",
              "</style>\n",
              "<table border=\"1\" class=\"dataframe\">\n",
              "  <thead>\n",
              "    <tr style=\"text-align: right;\">\n",
              "      <th></th>\n",
              "      <th>Loan Status</th>\n",
              "      <th>Current Loan Amount</th>\n",
              "      <th>Credit Score</th>\n",
              "      <th>Annual Income</th>\n",
              "      <th>Years in current job</th>\n",
              "      <th>Home Ownership</th>\n",
              "      <th>Purpose</th>\n",
              "      <th>Monthly Debt</th>\n",
              "      <th>Years of Credit History</th>\n",
              "      <th>Months since last delinquent</th>\n",
              "      <th>Number of Open Accounts</th>\n",
              "      <th>Number of Credit Problems</th>\n",
              "      <th>Current Credit Balance</th>\n",
              "      <th>Maximum Open Credit</th>\n",
              "      <th>Bankruptcies</th>\n",
              "      <th>Tax Liens</th>\n",
              "    </tr>\n",
              "    <tr>\n",
              "      <th>Term</th>\n",
              "      <th></th>\n",
              "      <th></th>\n",
              "      <th></th>\n",
              "      <th></th>\n",
              "      <th></th>\n",
              "      <th></th>\n",
              "      <th></th>\n",
              "      <th></th>\n",
              "      <th></th>\n",
              "      <th></th>\n",
              "      <th></th>\n",
              "      <th></th>\n",
              "      <th></th>\n",
              "      <th></th>\n",
              "      <th></th>\n",
              "      <th></th>\n",
              "    </tr>\n",
              "  </thead>\n",
              "  <tbody>\n",
              "    <tr>\n",
              "      <th>Long Term</th>\n",
              "      <td>23168</td>\n",
              "      <td>23168</td>\n",
              "      <td>23168</td>\n",
              "      <td>23168</td>\n",
              "      <td>23168</td>\n",
              "      <td>23168</td>\n",
              "      <td>23168</td>\n",
              "      <td>23168</td>\n",
              "      <td>23168</td>\n",
              "      <td>23168</td>\n",
              "      <td>23168</td>\n",
              "      <td>23168</td>\n",
              "      <td>23168</td>\n",
              "      <td>23168</td>\n",
              "      <td>23168</td>\n",
              "      <td>23168</td>\n",
              "    </tr>\n",
              "    <tr>\n",
              "      <th>Short Term</th>\n",
              "      <td>62807</td>\n",
              "      <td>62807</td>\n",
              "      <td>62807</td>\n",
              "      <td>62807</td>\n",
              "      <td>62807</td>\n",
              "      <td>62807</td>\n",
              "      <td>62807</td>\n",
              "      <td>62807</td>\n",
              "      <td>62807</td>\n",
              "      <td>62807</td>\n",
              "      <td>62807</td>\n",
              "      <td>62807</td>\n",
              "      <td>62807</td>\n",
              "      <td>62807</td>\n",
              "      <td>62807</td>\n",
              "      <td>62807</td>\n",
              "    </tr>\n",
              "  </tbody>\n",
              "</table>\n",
              "</div>"
            ],
            "text/plain": [
              "            Loan Status  Current Loan Amount  ...  Bankruptcies  Tax Liens\n",
              "Term                                          ...                         \n",
              "Long Term         23168                23168  ...         23168      23168\n",
              "Short Term        62807                62807  ...         62807      62807\n",
              "\n",
              "[2 rows x 16 columns]"
            ]
          },
          "metadata": {
            "tags": []
          },
          "execution_count": 25
        }
      ]
    },
    {
      "cell_type": "code",
      "metadata": {
        "colab": {
          "base_uri": "https://localhost:8080/"
        },
        "id": "52sIzdNnQJ7W",
        "outputId": "9ae2d051-90b2-422f-80b7-9cc44ee26cc7"
      },
      "source": [
        "# Clases para la columna \"Home Ownership\"\r\n",
        "df.groupby(\"Home Ownership\").count()"
      ],
      "execution_count": null,
      "outputs": [
        {
          "output_type": "execute_result",
          "data": {
            "text/html": [
              "<div>\n",
              "<style scoped>\n",
              "    .dataframe tbody tr th:only-of-type {\n",
              "        vertical-align: middle;\n",
              "    }\n",
              "\n",
              "    .dataframe tbody tr th {\n",
              "        vertical-align: top;\n",
              "    }\n",
              "\n",
              "    .dataframe thead th {\n",
              "        text-align: right;\n",
              "    }\n",
              "</style>\n",
              "<table border=\"1\" class=\"dataframe\">\n",
              "  <thead>\n",
              "    <tr style=\"text-align: right;\">\n",
              "      <th></th>\n",
              "      <th>Loan Status</th>\n",
              "      <th>Current Loan Amount</th>\n",
              "      <th>Term</th>\n",
              "      <th>Credit Score</th>\n",
              "      <th>Annual Income</th>\n",
              "      <th>Years in current job</th>\n",
              "      <th>Purpose</th>\n",
              "      <th>Monthly Debt</th>\n",
              "      <th>Years of Credit History</th>\n",
              "      <th>Months since last delinquent</th>\n",
              "      <th>Number of Open Accounts</th>\n",
              "      <th>Number of Credit Problems</th>\n",
              "      <th>Current Credit Balance</th>\n",
              "      <th>Maximum Open Credit</th>\n",
              "      <th>Bankruptcies</th>\n",
              "      <th>Tax Liens</th>\n",
              "    </tr>\n",
              "    <tr>\n",
              "      <th>Home Ownership</th>\n",
              "      <th></th>\n",
              "      <th></th>\n",
              "      <th></th>\n",
              "      <th></th>\n",
              "      <th></th>\n",
              "      <th></th>\n",
              "      <th></th>\n",
              "      <th></th>\n",
              "      <th></th>\n",
              "      <th></th>\n",
              "      <th></th>\n",
              "      <th></th>\n",
              "      <th></th>\n",
              "      <th></th>\n",
              "      <th></th>\n",
              "      <th></th>\n",
              "    </tr>\n",
              "  </thead>\n",
              "  <tbody>\n",
              "    <tr>\n",
              "      <th>HaveMortgage</th>\n",
              "      <td>176</td>\n",
              "      <td>176</td>\n",
              "      <td>176</td>\n",
              "      <td>176</td>\n",
              "      <td>176</td>\n",
              "      <td>176</td>\n",
              "      <td>176</td>\n",
              "      <td>176</td>\n",
              "      <td>176</td>\n",
              "      <td>176</td>\n",
              "      <td>176</td>\n",
              "      <td>176</td>\n",
              "      <td>176</td>\n",
              "      <td>176</td>\n",
              "      <td>176</td>\n",
              "      <td>176</td>\n",
              "    </tr>\n",
              "    <tr>\n",
              "      <th>Home Mortgage</th>\n",
              "      <td>41814</td>\n",
              "      <td>41814</td>\n",
              "      <td>41814</td>\n",
              "      <td>41814</td>\n",
              "      <td>41814</td>\n",
              "      <td>41814</td>\n",
              "      <td>41814</td>\n",
              "      <td>41814</td>\n",
              "      <td>41814</td>\n",
              "      <td>41814</td>\n",
              "      <td>41814</td>\n",
              "      <td>41814</td>\n",
              "      <td>41814</td>\n",
              "      <td>41814</td>\n",
              "      <td>41814</td>\n",
              "      <td>41814</td>\n",
              "    </tr>\n",
              "    <tr>\n",
              "      <th>Own Home</th>\n",
              "      <td>7521</td>\n",
              "      <td>7521</td>\n",
              "      <td>7521</td>\n",
              "      <td>7521</td>\n",
              "      <td>7521</td>\n",
              "      <td>7521</td>\n",
              "      <td>7521</td>\n",
              "      <td>7521</td>\n",
              "      <td>7521</td>\n",
              "      <td>7521</td>\n",
              "      <td>7521</td>\n",
              "      <td>7521</td>\n",
              "      <td>7521</td>\n",
              "      <td>7521</td>\n",
              "      <td>7521</td>\n",
              "      <td>7521</td>\n",
              "    </tr>\n",
              "    <tr>\n",
              "      <th>Rent</th>\n",
              "      <td>36464</td>\n",
              "      <td>36464</td>\n",
              "      <td>36464</td>\n",
              "      <td>36464</td>\n",
              "      <td>36464</td>\n",
              "      <td>36464</td>\n",
              "      <td>36464</td>\n",
              "      <td>36464</td>\n",
              "      <td>36464</td>\n",
              "      <td>36464</td>\n",
              "      <td>36464</td>\n",
              "      <td>36464</td>\n",
              "      <td>36464</td>\n",
              "      <td>36464</td>\n",
              "      <td>36464</td>\n",
              "      <td>36464</td>\n",
              "    </tr>\n",
              "  </tbody>\n",
              "</table>\n",
              "</div>"
            ],
            "text/plain": [
              "                Loan Status  Current Loan Amount  ...  Bankruptcies  Tax Liens\n",
              "Home Ownership                                    ...                         \n",
              "HaveMortgage            176                  176  ...           176        176\n",
              "Home Mortgage         41814                41814  ...         41814      41814\n",
              "Own Home               7521                 7521  ...          7521       7521\n",
              "Rent                  36464                36464  ...         36464      36464\n",
              "\n",
              "[4 rows x 16 columns]"
            ]
          },
          "metadata": {
            "tags": []
          },
          "execution_count": 26
        }
      ]
    },
    {
      "cell_type": "code",
      "metadata": {
        "colab": {
          "base_uri": "https://localhost:8080/"
        },
        "id": "gGGTy61Lb5QR",
        "outputId": "b08e6b01-3d33-49d8-de51-39986395aec1"
      },
      "source": [
        "dftest.groupby(\"Home Ownership\").count()"
      ],
      "execution_count": null,
      "outputs": [
        {
          "output_type": "execute_result",
          "data": {
            "text/html": [
              "<div>\n",
              "<style scoped>\n",
              "    .dataframe tbody tr th:only-of-type {\n",
              "        vertical-align: middle;\n",
              "    }\n",
              "\n",
              "    .dataframe tbody tr th {\n",
              "        vertical-align: top;\n",
              "    }\n",
              "\n",
              "    .dataframe thead th {\n",
              "        text-align: right;\n",
              "    }\n",
              "</style>\n",
              "<table border=\"1\" class=\"dataframe\">\n",
              "  <thead>\n",
              "    <tr style=\"text-align: right;\">\n",
              "      <th></th>\n",
              "      <th>Current Loan Amount</th>\n",
              "      <th>Term</th>\n",
              "      <th>Credit Score</th>\n",
              "      <th>Annual Income</th>\n",
              "      <th>Years in current job</th>\n",
              "      <th>Purpose</th>\n",
              "      <th>Monthly Debt</th>\n",
              "      <th>Years of Credit History</th>\n",
              "      <th>Months since last delinquent</th>\n",
              "      <th>Number of Open Accounts</th>\n",
              "      <th>Number of Credit Problems</th>\n",
              "      <th>Current Credit Balance</th>\n",
              "      <th>Maximum Open Credit</th>\n",
              "      <th>Bankruptcies</th>\n",
              "      <th>Tax Liens</th>\n",
              "    </tr>\n",
              "    <tr>\n",
              "      <th>Home Ownership</th>\n",
              "      <th></th>\n",
              "      <th></th>\n",
              "      <th></th>\n",
              "      <th></th>\n",
              "      <th></th>\n",
              "      <th></th>\n",
              "      <th></th>\n",
              "      <th></th>\n",
              "      <th></th>\n",
              "      <th></th>\n",
              "      <th></th>\n",
              "      <th></th>\n",
              "      <th></th>\n",
              "      <th></th>\n",
              "      <th></th>\n",
              "    </tr>\n",
              "  </thead>\n",
              "  <tbody>\n",
              "    <tr>\n",
              "      <th>HaveMortgage</th>\n",
              "      <td>4</td>\n",
              "      <td>4</td>\n",
              "      <td>4</td>\n",
              "      <td>4</td>\n",
              "      <td>4</td>\n",
              "      <td>4</td>\n",
              "      <td>4</td>\n",
              "      <td>4</td>\n",
              "      <td>4</td>\n",
              "      <td>4</td>\n",
              "      <td>4</td>\n",
              "      <td>4</td>\n",
              "      <td>4</td>\n",
              "      <td>4</td>\n",
              "      <td>4</td>\n",
              "    </tr>\n",
              "    <tr>\n",
              "      <th>Home Mortgage</th>\n",
              "      <td>1853</td>\n",
              "      <td>1853</td>\n",
              "      <td>1853</td>\n",
              "      <td>1853</td>\n",
              "      <td>1853</td>\n",
              "      <td>1853</td>\n",
              "      <td>1853</td>\n",
              "      <td>1853</td>\n",
              "      <td>1853</td>\n",
              "      <td>1853</td>\n",
              "      <td>1853</td>\n",
              "      <td>1853</td>\n",
              "      <td>1853</td>\n",
              "      <td>1853</td>\n",
              "      <td>1853</td>\n",
              "    </tr>\n",
              "    <tr>\n",
              "      <th>Own Home</th>\n",
              "      <td>297</td>\n",
              "      <td>297</td>\n",
              "      <td>297</td>\n",
              "      <td>297</td>\n",
              "      <td>297</td>\n",
              "      <td>297</td>\n",
              "      <td>297</td>\n",
              "      <td>297</td>\n",
              "      <td>297</td>\n",
              "      <td>297</td>\n",
              "      <td>297</td>\n",
              "      <td>297</td>\n",
              "      <td>297</td>\n",
              "      <td>297</td>\n",
              "      <td>297</td>\n",
              "    </tr>\n",
              "    <tr>\n",
              "      <th>Rent</th>\n",
              "      <td>1419</td>\n",
              "      <td>1419</td>\n",
              "      <td>1419</td>\n",
              "      <td>1419</td>\n",
              "      <td>1419</td>\n",
              "      <td>1419</td>\n",
              "      <td>1419</td>\n",
              "      <td>1419</td>\n",
              "      <td>1419</td>\n",
              "      <td>1419</td>\n",
              "      <td>1419</td>\n",
              "      <td>1419</td>\n",
              "      <td>1419</td>\n",
              "      <td>1419</td>\n",
              "      <td>1419</td>\n",
              "    </tr>\n",
              "  </tbody>\n",
              "</table>\n",
              "</div>"
            ],
            "text/plain": [
              "                Current Loan Amount  Term  ...  Bankruptcies  Tax Liens\n",
              "Home Ownership                             ...                         \n",
              "HaveMortgage                      4     4  ...             4          4\n",
              "Home Mortgage                  1853  1853  ...          1853       1853\n",
              "Own Home                        297   297  ...           297        297\n",
              "Rent                           1419  1419  ...          1419       1419\n",
              "\n",
              "[4 rows x 15 columns]"
            ]
          },
          "metadata": {
            "tags": []
          },
          "execution_count": 27
        }
      ]
    },
    {
      "cell_type": "code",
      "metadata": {
        "colab": {
          "base_uri": "https://localhost:8080/"
        },
        "id": "RzKJa5XlQLKW",
        "outputId": "672606d1-7c10-42f0-ada1-bfcd9b50114e"
      },
      "source": [
        "# Clases para la columna \"Purpose\"\r\n",
        "df.groupby(\"Purpose\").count()"
      ],
      "execution_count": null,
      "outputs": [
        {
          "output_type": "execute_result",
          "data": {
            "text/html": [
              "<div>\n",
              "<style scoped>\n",
              "    .dataframe tbody tr th:only-of-type {\n",
              "        vertical-align: middle;\n",
              "    }\n",
              "\n",
              "    .dataframe tbody tr th {\n",
              "        vertical-align: top;\n",
              "    }\n",
              "\n",
              "    .dataframe thead th {\n",
              "        text-align: right;\n",
              "    }\n",
              "</style>\n",
              "<table border=\"1\" class=\"dataframe\">\n",
              "  <thead>\n",
              "    <tr style=\"text-align: right;\">\n",
              "      <th></th>\n",
              "      <th>Loan Status</th>\n",
              "      <th>Current Loan Amount</th>\n",
              "      <th>Term</th>\n",
              "      <th>Credit Score</th>\n",
              "      <th>Annual Income</th>\n",
              "      <th>Years in current job</th>\n",
              "      <th>Home Ownership</th>\n",
              "      <th>Monthly Debt</th>\n",
              "      <th>Years of Credit History</th>\n",
              "      <th>Months since last delinquent</th>\n",
              "      <th>Number of Open Accounts</th>\n",
              "      <th>Number of Credit Problems</th>\n",
              "      <th>Current Credit Balance</th>\n",
              "      <th>Maximum Open Credit</th>\n",
              "      <th>Bankruptcies</th>\n",
              "      <th>Tax Liens</th>\n",
              "    </tr>\n",
              "    <tr>\n",
              "      <th>Purpose</th>\n",
              "      <th></th>\n",
              "      <th></th>\n",
              "      <th></th>\n",
              "      <th></th>\n",
              "      <th></th>\n",
              "      <th></th>\n",
              "      <th></th>\n",
              "      <th></th>\n",
              "      <th></th>\n",
              "      <th></th>\n",
              "      <th></th>\n",
              "      <th></th>\n",
              "      <th></th>\n",
              "      <th></th>\n",
              "      <th></th>\n",
              "      <th></th>\n",
              "    </tr>\n",
              "  </thead>\n",
              "  <tbody>\n",
              "    <tr>\n",
              "      <th>Business Loan</th>\n",
              "      <td>1336</td>\n",
              "      <td>1336</td>\n",
              "      <td>1336</td>\n",
              "      <td>1336</td>\n",
              "      <td>1336</td>\n",
              "      <td>1336</td>\n",
              "      <td>1336</td>\n",
              "      <td>1336</td>\n",
              "      <td>1336</td>\n",
              "      <td>1336</td>\n",
              "      <td>1336</td>\n",
              "      <td>1336</td>\n",
              "      <td>1336</td>\n",
              "      <td>1336</td>\n",
              "      <td>1336</td>\n",
              "      <td>1336</td>\n",
              "    </tr>\n",
              "    <tr>\n",
              "      <th>Buy House</th>\n",
              "      <td>561</td>\n",
              "      <td>561</td>\n",
              "      <td>561</td>\n",
              "      <td>561</td>\n",
              "      <td>561</td>\n",
              "      <td>561</td>\n",
              "      <td>561</td>\n",
              "      <td>561</td>\n",
              "      <td>561</td>\n",
              "      <td>561</td>\n",
              "      <td>561</td>\n",
              "      <td>561</td>\n",
              "      <td>561</td>\n",
              "      <td>561</td>\n",
              "      <td>561</td>\n",
              "      <td>561</td>\n",
              "    </tr>\n",
              "    <tr>\n",
              "      <th>Buy a Car</th>\n",
              "      <td>1116</td>\n",
              "      <td>1116</td>\n",
              "      <td>1116</td>\n",
              "      <td>1116</td>\n",
              "      <td>1116</td>\n",
              "      <td>1116</td>\n",
              "      <td>1116</td>\n",
              "      <td>1116</td>\n",
              "      <td>1116</td>\n",
              "      <td>1116</td>\n",
              "      <td>1116</td>\n",
              "      <td>1116</td>\n",
              "      <td>1116</td>\n",
              "      <td>1116</td>\n",
              "      <td>1116</td>\n",
              "      <td>1116</td>\n",
              "    </tr>\n",
              "    <tr>\n",
              "      <th>Debt Consolidation</th>\n",
              "      <td>67987</td>\n",
              "      <td>67987</td>\n",
              "      <td>67987</td>\n",
              "      <td>67987</td>\n",
              "      <td>67987</td>\n",
              "      <td>67987</td>\n",
              "      <td>67987</td>\n",
              "      <td>67987</td>\n",
              "      <td>67987</td>\n",
              "      <td>67987</td>\n",
              "      <td>67987</td>\n",
              "      <td>67987</td>\n",
              "      <td>67987</td>\n",
              "      <td>67987</td>\n",
              "      <td>67987</td>\n",
              "      <td>67987</td>\n",
              "    </tr>\n",
              "    <tr>\n",
              "      <th>Educational Expenses</th>\n",
              "      <td>87</td>\n",
              "      <td>87</td>\n",
              "      <td>87</td>\n",
              "      <td>87</td>\n",
              "      <td>87</td>\n",
              "      <td>87</td>\n",
              "      <td>87</td>\n",
              "      <td>87</td>\n",
              "      <td>87</td>\n",
              "      <td>87</td>\n",
              "      <td>87</td>\n",
              "      <td>87</td>\n",
              "      <td>87</td>\n",
              "      <td>87</td>\n",
              "      <td>87</td>\n",
              "      <td>87</td>\n",
              "    </tr>\n",
              "    <tr>\n",
              "      <th>Home Improvements</th>\n",
              "      <td>4957</td>\n",
              "      <td>4957</td>\n",
              "      <td>4957</td>\n",
              "      <td>4957</td>\n",
              "      <td>4957</td>\n",
              "      <td>4957</td>\n",
              "      <td>4957</td>\n",
              "      <td>4957</td>\n",
              "      <td>4957</td>\n",
              "      <td>4957</td>\n",
              "      <td>4957</td>\n",
              "      <td>4957</td>\n",
              "      <td>4957</td>\n",
              "      <td>4957</td>\n",
              "      <td>4957</td>\n",
              "      <td>4957</td>\n",
              "    </tr>\n",
              "    <tr>\n",
              "      <th>Medical Bills</th>\n",
              "      <td>906</td>\n",
              "      <td>906</td>\n",
              "      <td>906</td>\n",
              "      <td>906</td>\n",
              "      <td>906</td>\n",
              "      <td>906</td>\n",
              "      <td>906</td>\n",
              "      <td>906</td>\n",
              "      <td>906</td>\n",
              "      <td>906</td>\n",
              "      <td>906</td>\n",
              "      <td>906</td>\n",
              "      <td>906</td>\n",
              "      <td>906</td>\n",
              "      <td>906</td>\n",
              "      <td>906</td>\n",
              "    </tr>\n",
              "    <tr>\n",
              "      <th>Other</th>\n",
              "      <td>2760</td>\n",
              "      <td>2760</td>\n",
              "      <td>2760</td>\n",
              "      <td>2760</td>\n",
              "      <td>2760</td>\n",
              "      <td>2760</td>\n",
              "      <td>2760</td>\n",
              "      <td>2760</td>\n",
              "      <td>2760</td>\n",
              "      <td>2760</td>\n",
              "      <td>2760</td>\n",
              "      <td>2760</td>\n",
              "      <td>2760</td>\n",
              "      <td>2760</td>\n",
              "      <td>2760</td>\n",
              "      <td>2760</td>\n",
              "    </tr>\n",
              "    <tr>\n",
              "      <th>Take a Trip</th>\n",
              "      <td>463</td>\n",
              "      <td>463</td>\n",
              "      <td>463</td>\n",
              "      <td>463</td>\n",
              "      <td>463</td>\n",
              "      <td>463</td>\n",
              "      <td>463</td>\n",
              "      <td>463</td>\n",
              "      <td>463</td>\n",
              "      <td>463</td>\n",
              "      <td>463</td>\n",
              "      <td>463</td>\n",
              "      <td>463</td>\n",
              "      <td>463</td>\n",
              "      <td>463</td>\n",
              "      <td>463</td>\n",
              "    </tr>\n",
              "    <tr>\n",
              "      <th>major_purchase</th>\n",
              "      <td>312</td>\n",
              "      <td>312</td>\n",
              "      <td>312</td>\n",
              "      <td>312</td>\n",
              "      <td>312</td>\n",
              "      <td>312</td>\n",
              "      <td>312</td>\n",
              "      <td>312</td>\n",
              "      <td>312</td>\n",
              "      <td>312</td>\n",
              "      <td>312</td>\n",
              "      <td>312</td>\n",
              "      <td>312</td>\n",
              "      <td>312</td>\n",
              "      <td>312</td>\n",
              "      <td>312</td>\n",
              "    </tr>\n",
              "    <tr>\n",
              "      <th>moving</th>\n",
              "      <td>125</td>\n",
              "      <td>125</td>\n",
              "      <td>125</td>\n",
              "      <td>125</td>\n",
              "      <td>125</td>\n",
              "      <td>125</td>\n",
              "      <td>125</td>\n",
              "      <td>125</td>\n",
              "      <td>125</td>\n",
              "      <td>125</td>\n",
              "      <td>125</td>\n",
              "      <td>125</td>\n",
              "      <td>125</td>\n",
              "      <td>125</td>\n",
              "      <td>125</td>\n",
              "      <td>125</td>\n",
              "    </tr>\n",
              "    <tr>\n",
              "      <th>other</th>\n",
              "      <td>4928</td>\n",
              "      <td>4928</td>\n",
              "      <td>4928</td>\n",
              "      <td>4928</td>\n",
              "      <td>4928</td>\n",
              "      <td>4928</td>\n",
              "      <td>4928</td>\n",
              "      <td>4928</td>\n",
              "      <td>4928</td>\n",
              "      <td>4928</td>\n",
              "      <td>4928</td>\n",
              "      <td>4928</td>\n",
              "      <td>4928</td>\n",
              "      <td>4928</td>\n",
              "      <td>4928</td>\n",
              "      <td>4928</td>\n",
              "    </tr>\n",
              "    <tr>\n",
              "      <th>small_business</th>\n",
              "      <td>250</td>\n",
              "      <td>250</td>\n",
              "      <td>250</td>\n",
              "      <td>250</td>\n",
              "      <td>250</td>\n",
              "      <td>250</td>\n",
              "      <td>250</td>\n",
              "      <td>250</td>\n",
              "      <td>250</td>\n",
              "      <td>250</td>\n",
              "      <td>250</td>\n",
              "      <td>250</td>\n",
              "      <td>250</td>\n",
              "      <td>250</td>\n",
              "      <td>250</td>\n",
              "      <td>250</td>\n",
              "    </tr>\n",
              "    <tr>\n",
              "      <th>vacation</th>\n",
              "      <td>83</td>\n",
              "      <td>83</td>\n",
              "      <td>83</td>\n",
              "      <td>83</td>\n",
              "      <td>83</td>\n",
              "      <td>83</td>\n",
              "      <td>83</td>\n",
              "      <td>83</td>\n",
              "      <td>83</td>\n",
              "      <td>83</td>\n",
              "      <td>83</td>\n",
              "      <td>83</td>\n",
              "      <td>83</td>\n",
              "      <td>83</td>\n",
              "      <td>83</td>\n",
              "      <td>83</td>\n",
              "    </tr>\n",
              "    <tr>\n",
              "      <th>wedding</th>\n",
              "      <td>104</td>\n",
              "      <td>104</td>\n",
              "      <td>104</td>\n",
              "      <td>104</td>\n",
              "      <td>104</td>\n",
              "      <td>104</td>\n",
              "      <td>104</td>\n",
              "      <td>104</td>\n",
              "      <td>104</td>\n",
              "      <td>104</td>\n",
              "      <td>104</td>\n",
              "      <td>104</td>\n",
              "      <td>104</td>\n",
              "      <td>104</td>\n",
              "      <td>104</td>\n",
              "      <td>104</td>\n",
              "    </tr>\n",
              "  </tbody>\n",
              "</table>\n",
              "</div>"
            ],
            "text/plain": [
              "                      Loan Status  Current Loan Amount  ...  Bankruptcies  Tax Liens\n",
              "Purpose                                                 ...                         \n",
              "Business Loan                1336                 1336  ...          1336       1336\n",
              "Buy House                     561                  561  ...           561        561\n",
              "Buy a Car                    1116                 1116  ...          1116       1116\n",
              "Debt Consolidation          67987                67987  ...         67987      67987\n",
              "Educational Expenses           87                   87  ...            87         87\n",
              "Home Improvements            4957                 4957  ...          4957       4957\n",
              "Medical Bills                 906                  906  ...           906        906\n",
              "Other                        2760                 2760  ...          2760       2760\n",
              "Take a Trip                   463                  463  ...           463        463\n",
              "major_purchase                312                  312  ...           312        312\n",
              "moving                        125                  125  ...           125        125\n",
              "other                        4928                 4928  ...          4928       4928\n",
              "small_business                250                  250  ...           250        250\n",
              "vacation                       83                   83  ...            83         83\n",
              "wedding                       104                  104  ...           104        104\n",
              "\n",
              "[15 rows x 16 columns]"
            ]
          },
          "metadata": {
            "tags": []
          },
          "execution_count": 28
        }
      ]
    },
    {
      "cell_type": "code",
      "metadata": {
        "colab": {
          "base_uri": "https://localhost:8080/"
        },
        "id": "NcYDpoI0QMhT",
        "outputId": "5eeca29a-e579-4bb6-8146-b633becc0f47"
      },
      "source": [
        "# Clases para la columna \"Loan Status\"\r\n",
        "df.groupby(\"Loan Status\").count()"
      ],
      "execution_count": null,
      "outputs": [
        {
          "output_type": "execute_result",
          "data": {
            "text/html": [
              "<div>\n",
              "<style scoped>\n",
              "    .dataframe tbody tr th:only-of-type {\n",
              "        vertical-align: middle;\n",
              "    }\n",
              "\n",
              "    .dataframe tbody tr th {\n",
              "        vertical-align: top;\n",
              "    }\n",
              "\n",
              "    .dataframe thead th {\n",
              "        text-align: right;\n",
              "    }\n",
              "</style>\n",
              "<table border=\"1\" class=\"dataframe\">\n",
              "  <thead>\n",
              "    <tr style=\"text-align: right;\">\n",
              "      <th></th>\n",
              "      <th>Current Loan Amount</th>\n",
              "      <th>Term</th>\n",
              "      <th>Credit Score</th>\n",
              "      <th>Annual Income</th>\n",
              "      <th>Years in current job</th>\n",
              "      <th>Home Ownership</th>\n",
              "      <th>Purpose</th>\n",
              "      <th>Monthly Debt</th>\n",
              "      <th>Years of Credit History</th>\n",
              "      <th>Months since last delinquent</th>\n",
              "      <th>Number of Open Accounts</th>\n",
              "      <th>Number of Credit Problems</th>\n",
              "      <th>Current Credit Balance</th>\n",
              "      <th>Maximum Open Credit</th>\n",
              "      <th>Bankruptcies</th>\n",
              "      <th>Tax Liens</th>\n",
              "    </tr>\n",
              "    <tr>\n",
              "      <th>Loan Status</th>\n",
              "      <th></th>\n",
              "      <th></th>\n",
              "      <th></th>\n",
              "      <th></th>\n",
              "      <th></th>\n",
              "      <th></th>\n",
              "      <th></th>\n",
              "      <th></th>\n",
              "      <th></th>\n",
              "      <th></th>\n",
              "      <th></th>\n",
              "      <th></th>\n",
              "      <th></th>\n",
              "      <th></th>\n",
              "      <th></th>\n",
              "      <th></th>\n",
              "    </tr>\n",
              "  </thead>\n",
              "  <tbody>\n",
              "    <tr>\n",
              "      <th>Charged Off</th>\n",
              "      <td>21363</td>\n",
              "      <td>21363</td>\n",
              "      <td>21363</td>\n",
              "      <td>21363</td>\n",
              "      <td>21363</td>\n",
              "      <td>21363</td>\n",
              "      <td>21363</td>\n",
              "      <td>21363</td>\n",
              "      <td>21363</td>\n",
              "      <td>21363</td>\n",
              "      <td>21363</td>\n",
              "      <td>21363</td>\n",
              "      <td>21363</td>\n",
              "      <td>21363</td>\n",
              "      <td>21363</td>\n",
              "      <td>21363</td>\n",
              "    </tr>\n",
              "    <tr>\n",
              "      <th>Fully Paid</th>\n",
              "      <td>64612</td>\n",
              "      <td>64612</td>\n",
              "      <td>64612</td>\n",
              "      <td>64612</td>\n",
              "      <td>64612</td>\n",
              "      <td>64612</td>\n",
              "      <td>64612</td>\n",
              "      <td>64612</td>\n",
              "      <td>64612</td>\n",
              "      <td>64612</td>\n",
              "      <td>64612</td>\n",
              "      <td>64612</td>\n",
              "      <td>64612</td>\n",
              "      <td>64612</td>\n",
              "      <td>64612</td>\n",
              "      <td>64612</td>\n",
              "    </tr>\n",
              "  </tbody>\n",
              "</table>\n",
              "</div>"
            ],
            "text/plain": [
              "             Current Loan Amount   Term  ...  Bankruptcies  Tax Liens\n",
              "Loan Status                              ...                         \n",
              "Charged Off                21363  21363  ...         21363      21363\n",
              "Fully Paid                 64612  64612  ...         64612      64612\n",
              "\n",
              "[2 rows x 16 columns]"
            ]
          },
          "metadata": {
            "tags": []
          },
          "execution_count": 29
        }
      ]
    },
    {
      "cell_type": "code",
      "metadata": {
        "colab": {
          "base_uri": "https://localhost:8080/"
        },
        "id": "JNs4PRnXbTKE",
        "outputId": "552f8cc1-bd1b-479f-b1bc-e4b4f95b694c"
      },
      "source": [
        "sns.countplot(df[\"Loan Status\"])"
      ],
      "execution_count": null,
      "outputs": [
        {
          "output_type": "stream",
          "text": [
            "/usr/local/lib/python3.6/dist-packages/seaborn/_decorators.py:43: FutureWarning: Pass the following variable as a keyword arg: x. From version 0.12, the only valid positional argument will be `data`, and passing other arguments without an explicit keyword will result in an error or misinterpretation.\n",
            "  FutureWarning\n"
          ],
          "name": "stderr"
        },
        {
          "output_type": "execute_result",
          "data": {
            "text/plain": [
              "<matplotlib.axes._subplots.AxesSubplot at 0x7f8c59a9c0f0>"
            ]
          },
          "metadata": {
            "tags": []
          },
          "execution_count": 30
        },
        {
          "output_type": "display_data",
          "data": {
            "image/png": "[encoded data removed]",
            "text/plain": [
              "<Figure size 432x288 with 1 Axes>"
            ]
          },
          "metadata": {
            "tags": [],
            "needs_background": "dark"
          }
        }
      ]
    },
    {
      "cell_type": "code",
      "metadata": {
        "colab": {
          "base_uri": "https://localhost:8080/"
        },
        "id": "_m4ViFqsNsAp",
        "outputId": "0ffd32fc-5ee8-4596-872a-fac9f612433c"
      },
      "source": [
        "# Calculo de la cantidad de columnas nuevas del dataset de entrenamiento que tienen valores categoricos\r\n",
        "cterm=df.groupby(\"Term\").count().shape[0]\r\n",
        "chome=df.groupby(\"Home Ownership\").count().shape[0]\r\n",
        "cPurpose=df.groupby(\"Purpose\").count().shape[0]\r\n",
        "cloan=df.groupby(\"Loan Status\").count().shape[0]\r\n",
        "print(f\"Total de clases para las columnas\"\r\n",
        "      f\" Term = {cterm}\"\r\n",
        "      f\" Home Ownership = {chome}\"\r\n",
        "      f\" Purpose = {cPurpose}|\" \r\n",
        "      f\" Loan Status = {cloan}\\n\"\r\n",
        "      f\"Total columnas = {cterm+chome+cPurpose+cloan} \")"
      ],
      "execution_count": null,
      "outputs": [
        {
          "output_type": "stream",
          "text": [
            "Total de clases para las columnas Term = 2 Home Ownership = 4 Purpose = 15| Loan Status = 2\n",
            "Total columnas = 23 \n"
          ],
          "name": "stdout"
        }
      ]
    },
    {
      "cell_type": "code",
      "metadata": {
        "colab": {
          "base_uri": "https://localhost:8080/"
        },
        "id": "b4hCbgFIGHLA",
        "outputId": "49f14bbe-fdf5-4f30-d96a-3223610dbc69"
      },
      "source": [
        "# Calculo de la cantidad de columnas nuevas del dataset de testeo que tienen valores categoricos\r\n",
        "cterm=dftest.groupby(\"Term\").count().shape[0]\r\n",
        "chome=dftest.groupby(\"Home Ownership\").count().shape[0]\r\n",
        "cPurpose=dftest.groupby(\"Purpose\").count().shape[0]\r\n",
        "print(f\"Total de clases para las columnas\"\r\n",
        "      f\" Term = {cterm}\"\r\n",
        "      f\" Home Ownership = {chome}\"\r\n",
        "      f\" Purpose = {cPurpose}\\n\" \r\n",
        "      f\"Total columnas = {cterm+chome+cPurpose} \")"
      ],
      "execution_count": null,
      "outputs": [
        {
          "output_type": "stream",
          "text": [
            "Total de clases para las columnas Term = 2 Home Ownership = 4 Purpose = 15\n",
            "Total columnas = 21 \n"
          ],
          "name": "stdout"
        }
      ]
    },
    {
      "cell_type": "markdown",
      "metadata": {
        "id": "RbvcMZ73xAuu"
      },
      "source": [
        "##Column Transformer"
      ]
    },
    {
      "cell_type": "code",
      "metadata": {
        "id": "qqQT_58GA2wC"
      },
      "source": [
        "#Transformar valores categoricos a valores numericos\r\n",
        "columnas=df.columns\r\n",
        "\r\n",
        "categoricos = ['Loan Status','Term','Home Ownership','Purpose']\r\n",
        "ct = ColumnTransformer([('transform', OneHotEncoder(), categoricos )],  remainder = 'passthrough')\r\n",
        "t=  np.array(ct.fit_transform(df), dtype = np.float)\r\n",
        "\r\n",
        "#Lo mismo para los datos de testeo\r\n",
        "categoricos = ['Term','Home Ownership','Purpose']\r\n",
        "ct_test = ColumnTransformer([('transform', OneHotEncoder(), categoricos )],  remainder = 'passthrough')\r\n",
        "t_test=  np.array(ct_test.fit_transform(dftest), dtype = np.float)\r\n"
      ],
      "execution_count": null,
      "outputs": []
    },
    {
      "cell_type": "code",
      "metadata": {
        "colab": {
          "base_uri": "https://localhost:8080/"
        },
        "id": "48FylQQigevN",
        "outputId": "fdacc386-1f37-4af6-e5ba-9c736be32fc0"
      },
      "source": [
        "# Nueva forma del dataset\r\n",
        "df=pd.DataFrame(t)\r\n",
        "df.head(7)"
      ],
      "execution_count": null,
      "outputs": [
        {
          "output_type": "execute_result",
          "data": {
            "text/html": [
              "<div>\n",
              "<style scoped>\n",
              "    .dataframe tbody tr th:only-of-type {\n",
              "        vertical-align: middle;\n",
              "    }\n",
              "\n",
              "    .dataframe tbody tr th {\n",
              "        vertical-align: top;\n",
              "    }\n",
              "\n",
              "    .dataframe thead th {\n",
              "        text-align: right;\n",
              "    }\n",
              "</style>\n",
              "<table border=\"1\" class=\"dataframe\">\n",
              "  <thead>\n",
              "    <tr style=\"text-align: right;\">\n",
              "      <th></th>\n",
              "      <th>0</th>\n",
              "      <th>1</th>\n",
              "      <th>2</th>\n",
              "      <th>3</th>\n",
              "      <th>4</th>\n",
              "      <th>5</th>\n",
              "      <th>6</th>\n",
              "      <th>7</th>\n",
              "      <th>8</th>\n",
              "      <th>9</th>\n",
              "      <th>10</th>\n",
              "      <th>11</th>\n",
              "      <th>12</th>\n",
              "      <th>13</th>\n",
              "      <th>14</th>\n",
              "      <th>15</th>\n",
              "      <th>16</th>\n",
              "      <th>17</th>\n",
              "      <th>18</th>\n",
              "      <th>19</th>\n",
              "      <th>20</th>\n",
              "      <th>21</th>\n",
              "      <th>22</th>\n",
              "      <th>23</th>\n",
              "      <th>24</th>\n",
              "      <th>25</th>\n",
              "      <th>26</th>\n",
              "      <th>27</th>\n",
              "      <th>28</th>\n",
              "      <th>29</th>\n",
              "      <th>30</th>\n",
              "      <th>31</th>\n",
              "      <th>32</th>\n",
              "      <th>33</th>\n",
              "      <th>34</th>\n",
              "      <th>35</th>\n",
              "    </tr>\n",
              "  </thead>\n",
              "  <tbody>\n",
              "    <tr>\n",
              "      <th>0</th>\n",
              "      <td>0.0</td>\n",
              "      <td>1.0</td>\n",
              "      <td>0.0</td>\n",
              "      <td>1.0</td>\n",
              "      <td>0.0</td>\n",
              "      <td>1.0</td>\n",
              "      <td>0.0</td>\n",
              "      <td>0.0</td>\n",
              "      <td>0.0</td>\n",
              "      <td>0.0</td>\n",
              "      <td>0.0</td>\n",
              "      <td>0.0</td>\n",
              "      <td>0.0</td>\n",
              "      <td>1.0</td>\n",
              "      <td>0.0</td>\n",
              "      <td>0.0</td>\n",
              "      <td>0.0</td>\n",
              "      <td>0.0</td>\n",
              "      <td>0.0</td>\n",
              "      <td>0.0</td>\n",
              "      <td>0.0</td>\n",
              "      <td>0.0</td>\n",
              "      <td>0.0</td>\n",
              "      <td>445412.0</td>\n",
              "      <td>709.000000</td>\n",
              "      <td>1.167493e+06</td>\n",
              "      <td>8.0</td>\n",
              "      <td>5214.74</td>\n",
              "      <td>17.2</td>\n",
              "      <td>34.97522</td>\n",
              "      <td>6.0</td>\n",
              "      <td>1.0</td>\n",
              "      <td>228190.0</td>\n",
              "      <td>416746.0</td>\n",
              "      <td>1.0</td>\n",
              "      <td>0.0</td>\n",
              "    </tr>\n",
              "    <tr>\n",
              "      <th>1</th>\n",
              "      <td>0.0</td>\n",
              "      <td>1.0</td>\n",
              "      <td>0.0</td>\n",
              "      <td>1.0</td>\n",
              "      <td>0.0</td>\n",
              "      <td>1.0</td>\n",
              "      <td>0.0</td>\n",
              "      <td>0.0</td>\n",
              "      <td>0.0</td>\n",
              "      <td>0.0</td>\n",
              "      <td>0.0</td>\n",
              "      <td>1.0</td>\n",
              "      <td>0.0</td>\n",
              "      <td>0.0</td>\n",
              "      <td>0.0</td>\n",
              "      <td>0.0</td>\n",
              "      <td>0.0</td>\n",
              "      <td>0.0</td>\n",
              "      <td>0.0</td>\n",
              "      <td>0.0</td>\n",
              "      <td>0.0</td>\n",
              "      <td>0.0</td>\n",
              "      <td>0.0</td>\n",
              "      <td>262328.0</td>\n",
              "      <td>1130.770591</td>\n",
              "      <td>1.375888e+06</td>\n",
              "      <td>10.0</td>\n",
              "      <td>33295.98</td>\n",
              "      <td>21.1</td>\n",
              "      <td>8.00000</td>\n",
              "      <td>35.0</td>\n",
              "      <td>0.0</td>\n",
              "      <td>229976.0</td>\n",
              "      <td>850784.0</td>\n",
              "      <td>0.0</td>\n",
              "      <td>0.0</td>\n",
              "    </tr>\n",
              "    <tr>\n",
              "      <th>2</th>\n",
              "      <td>0.0</td>\n",
              "      <td>1.0</td>\n",
              "      <td>0.0</td>\n",
              "      <td>1.0</td>\n",
              "      <td>0.0</td>\n",
              "      <td>0.0</td>\n",
              "      <td>1.0</td>\n",
              "      <td>0.0</td>\n",
              "      <td>0.0</td>\n",
              "      <td>0.0</td>\n",
              "      <td>0.0</td>\n",
              "      <td>1.0</td>\n",
              "      <td>0.0</td>\n",
              "      <td>0.0</td>\n",
              "      <td>0.0</td>\n",
              "      <td>0.0</td>\n",
              "      <td>0.0</td>\n",
              "      <td>0.0</td>\n",
              "      <td>0.0</td>\n",
              "      <td>0.0</td>\n",
              "      <td>0.0</td>\n",
              "      <td>0.0</td>\n",
              "      <td>0.0</td>\n",
              "      <td>99999999.0</td>\n",
              "      <td>741.000000</td>\n",
              "      <td>2.231892e+06</td>\n",
              "      <td>8.0</td>\n",
              "      <td>29200.53</td>\n",
              "      <td>14.9</td>\n",
              "      <td>29.00000</td>\n",
              "      <td>18.0</td>\n",
              "      <td>1.0</td>\n",
              "      <td>297996.0</td>\n",
              "      <td>750090.0</td>\n",
              "      <td>0.0</td>\n",
              "      <td>0.0</td>\n",
              "    </tr>\n",
              "    <tr>\n",
              "      <th>3</th>\n",
              "      <td>0.0</td>\n",
              "      <td>1.0</td>\n",
              "      <td>1.0</td>\n",
              "      <td>0.0</td>\n",
              "      <td>0.0</td>\n",
              "      <td>0.0</td>\n",
              "      <td>1.0</td>\n",
              "      <td>0.0</td>\n",
              "      <td>0.0</td>\n",
              "      <td>0.0</td>\n",
              "      <td>0.0</td>\n",
              "      <td>1.0</td>\n",
              "      <td>0.0</td>\n",
              "      <td>0.0</td>\n",
              "      <td>0.0</td>\n",
              "      <td>0.0</td>\n",
              "      <td>0.0</td>\n",
              "      <td>0.0</td>\n",
              "      <td>0.0</td>\n",
              "      <td>0.0</td>\n",
              "      <td>0.0</td>\n",
              "      <td>0.0</td>\n",
              "      <td>0.0</td>\n",
              "      <td>347666.0</td>\n",
              "      <td>721.000000</td>\n",
              "      <td>8.069490e+05</td>\n",
              "      <td>3.0</td>\n",
              "      <td>8741.90</td>\n",
              "      <td>12.0</td>\n",
              "      <td>34.97522</td>\n",
              "      <td>9.0</td>\n",
              "      <td>0.0</td>\n",
              "      <td>256329.0</td>\n",
              "      <td>386958.0</td>\n",
              "      <td>0.0</td>\n",
              "      <td>0.0</td>\n",
              "    </tr>\n",
              "    <tr>\n",
              "      <th>4</th>\n",
              "      <td>0.0</td>\n",
              "      <td>1.0</td>\n",
              "      <td>0.0</td>\n",
              "      <td>1.0</td>\n",
              "      <td>0.0</td>\n",
              "      <td>0.0</td>\n",
              "      <td>0.0</td>\n",
              "      <td>1.0</td>\n",
              "      <td>0.0</td>\n",
              "      <td>0.0</td>\n",
              "      <td>0.0</td>\n",
              "      <td>1.0</td>\n",
              "      <td>0.0</td>\n",
              "      <td>0.0</td>\n",
              "      <td>0.0</td>\n",
              "      <td>0.0</td>\n",
              "      <td>0.0</td>\n",
              "      <td>0.0</td>\n",
              "      <td>0.0</td>\n",
              "      <td>0.0</td>\n",
              "      <td>0.0</td>\n",
              "      <td>0.0</td>\n",
              "      <td>0.0</td>\n",
              "      <td>176220.0</td>\n",
              "      <td>1130.770591</td>\n",
              "      <td>1.375888e+06</td>\n",
              "      <td>5.0</td>\n",
              "      <td>20639.70</td>\n",
              "      <td>6.1</td>\n",
              "      <td>34.97522</td>\n",
              "      <td>15.0</td>\n",
              "      <td>0.0</td>\n",
              "      <td>253460.0</td>\n",
              "      <td>427174.0</td>\n",
              "      <td>0.0</td>\n",
              "      <td>0.0</td>\n",
              "    </tr>\n",
              "    <tr>\n",
              "      <th>5</th>\n",
              "      <td>1.0</td>\n",
              "      <td>0.0</td>\n",
              "      <td>0.0</td>\n",
              "      <td>1.0</td>\n",
              "      <td>0.0</td>\n",
              "      <td>1.0</td>\n",
              "      <td>0.0</td>\n",
              "      <td>0.0</td>\n",
              "      <td>0.0</td>\n",
              "      <td>0.0</td>\n",
              "      <td>0.0</td>\n",
              "      <td>1.0</td>\n",
              "      <td>0.0</td>\n",
              "      <td>0.0</td>\n",
              "      <td>0.0</td>\n",
              "      <td>0.0</td>\n",
              "      <td>0.0</td>\n",
              "      <td>0.0</td>\n",
              "      <td>0.0</td>\n",
              "      <td>0.0</td>\n",
              "      <td>0.0</td>\n",
              "      <td>0.0</td>\n",
              "      <td>0.0</td>\n",
              "      <td>206602.0</td>\n",
              "      <td>7290.000000</td>\n",
              "      <td>8.968570e+05</td>\n",
              "      <td>10.0</td>\n",
              "      <td>16367.74</td>\n",
              "      <td>17.3</td>\n",
              "      <td>34.97522</td>\n",
              "      <td>6.0</td>\n",
              "      <td>0.0</td>\n",
              "      <td>215308.0</td>\n",
              "      <td>272448.0</td>\n",
              "      <td>0.0</td>\n",
              "      <td>0.0</td>\n",
              "    </tr>\n",
              "    <tr>\n",
              "      <th>6</th>\n",
              "      <td>0.0</td>\n",
              "      <td>1.0</td>\n",
              "      <td>0.0</td>\n",
              "      <td>1.0</td>\n",
              "      <td>0.0</td>\n",
              "      <td>1.0</td>\n",
              "      <td>0.0</td>\n",
              "      <td>0.0</td>\n",
              "      <td>0.0</td>\n",
              "      <td>0.0</td>\n",
              "      <td>0.0</td>\n",
              "      <td>1.0</td>\n",
              "      <td>0.0</td>\n",
              "      <td>0.0</td>\n",
              "      <td>0.0</td>\n",
              "      <td>0.0</td>\n",
              "      <td>0.0</td>\n",
              "      <td>0.0</td>\n",
              "      <td>0.0</td>\n",
              "      <td>0.0</td>\n",
              "      <td>0.0</td>\n",
              "      <td>0.0</td>\n",
              "      <td>0.0</td>\n",
              "      <td>217646.0</td>\n",
              "      <td>730.000000</td>\n",
              "      <td>1.184194e+06</td>\n",
              "      <td>1.0</td>\n",
              "      <td>10855.08</td>\n",
              "      <td>19.6</td>\n",
              "      <td>10.00000</td>\n",
              "      <td>13.0</td>\n",
              "      <td>1.0</td>\n",
              "      <td>122170.0</td>\n",
              "      <td>272052.0</td>\n",
              "      <td>1.0</td>\n",
              "      <td>0.0</td>\n",
              "    </tr>\n",
              "  </tbody>\n",
              "</table>\n",
              "</div>"
            ],
            "text/plain": [
              "    0    1    2    3    4    5   ...    30   31        32        33   34   35\n",
              "0  0.0  1.0  0.0  1.0  0.0  1.0  ...   6.0  1.0  228190.0  416746.0  1.0  0.0\n",
              "1  0.0  1.0  0.0  1.0  0.0  1.0  ...  35.0  0.0  229976.0  850784.0  0.0  0.0\n",
              "2  0.0  1.0  0.0  1.0  0.0  0.0  ...  18.0  1.0  297996.0  750090.0  0.0  0.0\n",
              "3  0.0  1.0  1.0  0.0  0.0  0.0  ...   9.0  0.0  256329.0  386958.0  0.0  0.0\n",
              "4  0.0  1.0  0.0  1.0  0.0  0.0  ...  15.0  0.0  253460.0  427174.0  0.0  0.0\n",
              "5  1.0  0.0  0.0  1.0  0.0  1.0  ...   6.0  0.0  215308.0  272448.0  0.0  0.0\n",
              "6  0.0  1.0  0.0  1.0  0.0  1.0  ...  13.0  1.0  122170.0  272052.0  1.0  0.0\n",
              "\n",
              "[7 rows x 36 columns]"
            ]
          },
          "metadata": {
            "tags": []
          },
          "execution_count": 34
        }
      ]
    },
    {
      "cell_type": "code",
      "metadata": {
        "colab": {
          "base_uri": "https://localhost:8080/"
        },
        "id": "4sxIJejLCKF_",
        "outputId": "c7eef3af-df90-4af0-e3f2-3e6fbbd2ab3e"
      },
      "source": [
        "# Renombrar los nombres de las columnas\r\n",
        "rename={0:'Charged Off',1:'Fully Paid',2:'Long Term',3:'Short Term',4:'Have Mortage',5:'Home Mortgage',6:'Own Home', 7:'Rent'\r\n",
        "        ,8:'Business Loan', 9:'Buy House', 10:'Buy a Car', 11:'Debt Consolidation',12:'Educational Expenses'\r\n",
        "        ,13:'Home Improvements',14:'Medical Bills', 15:'Other',16:'Take a Trip', 17:'major_purchase'\r\n",
        "        ,18:'moving',19:'other', 20:'small_business', 21:'vacation',22:'wedding'\r\n",
        "        ,23:\"Loan Amount\", 24:'credit score',25:'Annaual InCOME',26:'Years in current Job',27:'monthly debt'\r\n",
        "        ,28:'credit history',29:'Months since last delinquent',30:'Open account',31:'credit Problem'\r\n",
        "        ,32:'Current credit balance',33:'Maximum open credit',34:'Bankruptcies',35:'Tax Liens', }\r\n",
        "\r\n",
        "df.rename(columns=rename,inplace=True)\r\n",
        "df.head(7)"
      ],
      "execution_count": null,
      "outputs": [
        {
          "output_type": "execute_result",
          "data": {
            "text/html": [
              "<div>\n",
              "<style scoped>\n",
              "    .dataframe tbody tr th:only-of-type {\n",
              "        vertical-align: middle;\n",
              "    }\n",
              "\n",
              "    .dataframe tbody tr th {\n",
              "        vertical-align: top;\n",
              "    }\n",
              "\n",
              "    .dataframe thead th {\n",
              "        text-align: right;\n",
              "    }\n",
              "</style>\n",
              "<table border=\"1\" class=\"dataframe\">\n",
              "  <thead>\n",
              "    <tr style=\"text-align: right;\">\n",
              "      <th></th>\n",
              "      <th>Charged Off</th>\n",
              "      <th>Fully Paid</th>\n",
              "      <th>Long Term</th>\n",
              "      <th>Short Term</th>\n",
              "      <th>Have Mortage</th>\n",
              "      <th>Home Mortgage</th>\n",
              "      <th>Own Home</th>\n",
              "      <th>Rent</th>\n",
              "      <th>Business Loan</th>\n",
              "      <th>Buy House</th>\n",
              "      <th>Buy a Car</th>\n",
              "      <th>Debt Consolidation</th>\n",
              "      <th>Educational Expenses</th>\n",
              "      <th>Home Improvements</th>\n",
              "      <th>Medical Bills</th>\n",
              "      <th>Other</th>\n",
              "      <th>Take a Trip</th>\n",
              "      <th>major_purchase</th>\n",
              "      <th>moving</th>\n",
              "      <th>other</th>\n",
              "      <th>small_business</th>\n",
              "      <th>vacation</th>\n",
              "      <th>wedding</th>\n",
              "      <th>Loan Amount</th>\n",
              "      <th>credit score</th>\n",
              "      <th>Annaual InCOME</th>\n",
              "      <th>Years in current Job</th>\n",
              "      <th>monthly debt</th>\n",
              "      <th>credit history</th>\n",
              "      <th>Months since last delinquent</th>\n",
              "      <th>Open account</th>\n",
              "      <th>credit Problem</th>\n",
              "      <th>Current credit balance</th>\n",
              "      <th>Maximum open credit</th>\n",
              "      <th>Bankruptcies</th>\n",
              "      <th>Tax Liens</th>\n",
              "    </tr>\n",
              "  </thead>\n",
              "  <tbody>\n",
              "    <tr>\n",
              "      <th>0</th>\n",
              "      <td>0.0</td>\n",
              "      <td>1.0</td>\n",
              "      <td>0.0</td>\n",
              "      <td>1.0</td>\n",
              "      <td>0.0</td>\n",
              "      <td>1.0</td>\n",
              "      <td>0.0</td>\n",
              "      <td>0.0</td>\n",
              "      <td>0.0</td>\n",
              "      <td>0.0</td>\n",
              "      <td>0.0</td>\n",
              "      <td>0.0</td>\n",
              "      <td>0.0</td>\n",
              "      <td>1.0</td>\n",
              "      <td>0.0</td>\n",
              "      <td>0.0</td>\n",
              "      <td>0.0</td>\n",
              "      <td>0.0</td>\n",
              "      <td>0.0</td>\n",
              "      <td>0.0</td>\n",
              "      <td>0.0</td>\n",
              "      <td>0.0</td>\n",
              "      <td>0.0</td>\n",
              "      <td>445412.0</td>\n",
              "      <td>709.000000</td>\n",
              "      <td>1.167493e+06</td>\n",
              "      <td>8.0</td>\n",
              "      <td>5214.74</td>\n",
              "      <td>17.2</td>\n",
              "      <td>34.97522</td>\n",
              "      <td>6.0</td>\n",
              "      <td>1.0</td>\n",
              "      <td>228190.0</td>\n",
              "      <td>416746.0</td>\n",
              "      <td>1.0</td>\n",
              "      <td>0.0</td>\n",
              "    </tr>\n",
              "    <tr>\n",
              "      <th>1</th>\n",
              "      <td>0.0</td>\n",
              "      <td>1.0</td>\n",
              "      <td>0.0</td>\n",
              "      <td>1.0</td>\n",
              "      <td>0.0</td>\n",
              "      <td>1.0</td>\n",
              "      <td>0.0</td>\n",
              "      <td>0.0</td>\n",
              "      <td>0.0</td>\n",
              "      <td>0.0</td>\n",
              "      <td>0.0</td>\n",
              "      <td>1.0</td>\n",
              "      <td>0.0</td>\n",
              "      <td>0.0</td>\n",
              "      <td>0.0</td>\n",
              "      <td>0.0</td>\n",
              "      <td>0.0</td>\n",
              "      <td>0.0</td>\n",
              "      <td>0.0</td>\n",
              "      <td>0.0</td>\n",
              "      <td>0.0</td>\n",
              "      <td>0.0</td>\n",
              "      <td>0.0</td>\n",
              "      <td>262328.0</td>\n",
              "      <td>1130.770591</td>\n",
              "      <td>1.375888e+06</td>\n",
              "      <td>10.0</td>\n",
              "      <td>33295.98</td>\n",
              "      <td>21.1</td>\n",
              "      <td>8.00000</td>\n",
              "      <td>35.0</td>\n",
              "      <td>0.0</td>\n",
              "      <td>229976.0</td>\n",
              "      <td>850784.0</td>\n",
              "      <td>0.0</td>\n",
              "      <td>0.0</td>\n",
              "    </tr>\n",
              "    <tr>\n",
              "      <th>2</th>\n",
              "      <td>0.0</td>\n",
              "      <td>1.0</td>\n",
              "      <td>0.0</td>\n",
              "      <td>1.0</td>\n",
              "      <td>0.0</td>\n",
              "      <td>0.0</td>\n",
              "      <td>1.0</td>\n",
              "      <td>0.0</td>\n",
              "      <td>0.0</td>\n",
              "      <td>0.0</td>\n",
              "      <td>0.0</td>\n",
              "      <td>1.0</td>\n",
              "      <td>0.0</td>\n",
              "      <td>0.0</td>\n",
              "      <td>0.0</td>\n",
              "      <td>0.0</td>\n",
              "      <td>0.0</td>\n",
              "      <td>0.0</td>\n",
              "      <td>0.0</td>\n",
              "      <td>0.0</td>\n",
              "      <td>0.0</td>\n",
              "      <td>0.0</td>\n",
              "      <td>0.0</td>\n",
              "      <td>99999999.0</td>\n",
              "      <td>741.000000</td>\n",
              "      <td>2.231892e+06</td>\n",
              "      <td>8.0</td>\n",
              "      <td>29200.53</td>\n",
              "      <td>14.9</td>\n",
              "      <td>29.00000</td>\n",
              "      <td>18.0</td>\n",
              "      <td>1.0</td>\n",
              "      <td>297996.0</td>\n",
              "      <td>750090.0</td>\n",
              "      <td>0.0</td>\n",
              "      <td>0.0</td>\n",
              "    </tr>\n",
              "    <tr>\n",
              "      <th>3</th>\n",
              "      <td>0.0</td>\n",
              "      <td>1.0</td>\n",
              "      <td>1.0</td>\n",
              "      <td>0.0</td>\n",
              "      <td>0.0</td>\n",
              "      <td>0.0</td>\n",
              "      <td>1.0</td>\n",
              "      <td>0.0</td>\n",
              "      <td>0.0</td>\n",
              "      <td>0.0</td>\n",
              "      <td>0.0</td>\n",
              "      <td>1.0</td>\n",
              "      <td>0.0</td>\n",
              "      <td>0.0</td>\n",
              "      <td>0.0</td>\n",
              "      <td>0.0</td>\n",
              "      <td>0.0</td>\n",
              "      <td>0.0</td>\n",
              "      <td>0.0</td>\n",
              "      <td>0.0</td>\n",
              "      <td>0.0</td>\n",
              "      <td>0.0</td>\n",
              "      <td>0.0</td>\n",
              "      <td>347666.0</td>\n",
              "      <td>721.000000</td>\n",
              "      <td>8.069490e+05</td>\n",
              "      <td>3.0</td>\n",
              "      <td>8741.90</td>\n",
              "      <td>12.0</td>\n",
              "      <td>34.97522</td>\n",
              "      <td>9.0</td>\n",
              "      <td>0.0</td>\n",
              "      <td>256329.0</td>\n",
              "      <td>386958.0</td>\n",
              "      <td>0.0</td>\n",
              "      <td>0.0</td>\n",
              "    </tr>\n",
              "    <tr>\n",
              "      <th>4</th>\n",
              "      <td>0.0</td>\n",
              "      <td>1.0</td>\n",
              "      <td>0.0</td>\n",
              "      <td>1.0</td>\n",
              "      <td>0.0</td>\n",
              "      <td>0.0</td>\n",
              "      <td>0.0</td>\n",
              "      <td>1.0</td>\n",
              "      <td>0.0</td>\n",
              "      <td>0.0</td>\n",
              "      <td>0.0</td>\n",
              "      <td>1.0</td>\n",
              "      <td>0.0</td>\n",
              "      <td>0.0</td>\n",
              "      <td>0.0</td>\n",
              "      <td>0.0</td>\n",
              "      <td>0.0</td>\n",
              "      <td>0.0</td>\n",
              "      <td>0.0</td>\n",
              "      <td>0.0</td>\n",
              "      <td>0.0</td>\n",
              "      <td>0.0</td>\n",
              "      <td>0.0</td>\n",
              "      <td>176220.0</td>\n",
              "      <td>1130.770591</td>\n",
              "      <td>1.375888e+06</td>\n",
              "      <td>5.0</td>\n",
              "      <td>20639.70</td>\n",
              "      <td>6.1</td>\n",
              "      <td>34.97522</td>\n",
              "      <td>15.0</td>\n",
              "      <td>0.0</td>\n",
              "      <td>253460.0</td>\n",
              "      <td>427174.0</td>\n",
              "      <td>0.0</td>\n",
              "      <td>0.0</td>\n",
              "    </tr>\n",
              "    <tr>\n",
              "      <th>5</th>\n",
              "      <td>1.0</td>\n",
              "      <td>0.0</td>\n",
              "      <td>0.0</td>\n",
              "      <td>1.0</td>\n",
              "      <td>0.0</td>\n",
              "      <td>1.0</td>\n",
              "      <td>0.0</td>\n",
              "      <td>0.0</td>\n",
              "      <td>0.0</td>\n",
              "      <td>0.0</td>\n",
              "      <td>0.0</td>\n",
              "      <td>1.0</td>\n",
              "      <td>0.0</td>\n",
              "      <td>0.0</td>\n",
              "      <td>0.0</td>\n",
              "      <td>0.0</td>\n",
              "      <td>0.0</td>\n",
              "      <td>0.0</td>\n",
              "      <td>0.0</td>\n",
              "      <td>0.0</td>\n",
              "      <td>0.0</td>\n",
              "      <td>0.0</td>\n",
              "      <td>0.0</td>\n",
              "      <td>206602.0</td>\n",
              "      <td>7290.000000</td>\n",
              "      <td>8.968570e+05</td>\n",
              "      <td>10.0</td>\n",
              "      <td>16367.74</td>\n",
              "      <td>17.3</td>\n",
              "      <td>34.97522</td>\n",
              "      <td>6.0</td>\n",
              "      <td>0.0</td>\n",
              "      <td>215308.0</td>\n",
              "      <td>272448.0</td>\n",
              "      <td>0.0</td>\n",
              "      <td>0.0</td>\n",
              "    </tr>\n",
              "    <tr>\n",
              "      <th>6</th>\n",
              "      <td>0.0</td>\n",
              "      <td>1.0</td>\n",
              "      <td>0.0</td>\n",
              "      <td>1.0</td>\n",
              "      <td>0.0</td>\n",
              "      <td>1.0</td>\n",
              "      <td>0.0</td>\n",
              "      <td>0.0</td>\n",
              "      <td>0.0</td>\n",
              "      <td>0.0</td>\n",
              "      <td>0.0</td>\n",
              "      <td>1.0</td>\n",
              "      <td>0.0</td>\n",
              "      <td>0.0</td>\n",
              "      <td>0.0</td>\n",
              "      <td>0.0</td>\n",
              "      <td>0.0</td>\n",
              "      <td>0.0</td>\n",
              "      <td>0.0</td>\n",
              "      <td>0.0</td>\n",
              "      <td>0.0</td>\n",
              "      <td>0.0</td>\n",
              "      <td>0.0</td>\n",
              "      <td>217646.0</td>\n",
              "      <td>730.000000</td>\n",
              "      <td>1.184194e+06</td>\n",
              "      <td>1.0</td>\n",
              "      <td>10855.08</td>\n",
              "      <td>19.6</td>\n",
              "      <td>10.00000</td>\n",
              "      <td>13.0</td>\n",
              "      <td>1.0</td>\n",
              "      <td>122170.0</td>\n",
              "      <td>272052.0</td>\n",
              "      <td>1.0</td>\n",
              "      <td>0.0</td>\n",
              "    </tr>\n",
              "  </tbody>\n",
              "</table>\n",
              "</div>"
            ],
            "text/plain": [
              "   Charged Off  Fully Paid  ...  Bankruptcies  Tax Liens\n",
              "0          0.0         1.0  ...           1.0        0.0\n",
              "1          0.0         1.0  ...           0.0        0.0\n",
              "2          0.0         1.0  ...           0.0        0.0\n",
              "3          0.0         1.0  ...           0.0        0.0\n",
              "4          0.0         1.0  ...           0.0        0.0\n",
              "5          1.0         0.0  ...           0.0        0.0\n",
              "6          0.0         1.0  ...           1.0        0.0\n",
              "\n",
              "[7 rows x 36 columns]"
            ]
          },
          "metadata": {
            "tags": []
          },
          "execution_count": 35
        }
      ]
    },
    {
      "cell_type": "code",
      "metadata": {
        "id": "IxzKwR_BCKrA"
      },
      "source": [
        "#Eliminacion de las variables ficticias\r\n",
        "df.drop(columns=['Charged Off', 'Long Term', 'Have Mortage', 'vacation'], axis=1, inplace=True)\r\n"
      ],
      "execution_count": null,
      "outputs": []
    },
    {
      "cell_type": "code",
      "metadata": {
        "colab": {
          "base_uri": "https://localhost:8080/"
        },
        "id": "_tiTedN_-DfU",
        "outputId": "6b5632ae-e09b-4f3a-8e5c-9bf6a0b140f4"
      },
      "source": [
        "#dataset transfomado con el ColumnTransformer y OnehotEncoder\r\n",
        "dftest=pd.DataFrame(t_test)\r\n",
        "dftest.head()"
      ],
      "execution_count": null,
      "outputs": [
        {
          "output_type": "execute_result",
          "data": {
            "text/html": [
              "<div>\n",
              "<style scoped>\n",
              "    .dataframe tbody tr th:only-of-type {\n",
              "        vertical-align: middle;\n",
              "    }\n",
              "\n",
              "    .dataframe tbody tr th {\n",
              "        vertical-align: top;\n",
              "    }\n",
              "\n",
              "    .dataframe thead th {\n",
              "        text-align: right;\n",
              "    }\n",
              "</style>\n",
              "<table border=\"1\" class=\"dataframe\">\n",
              "  <thead>\n",
              "    <tr style=\"text-align: right;\">\n",
              "      <th></th>\n",
              "      <th>0</th>\n",
              "      <th>1</th>\n",
              "      <th>2</th>\n",
              "      <th>3</th>\n",
              "      <th>4</th>\n",
              "      <th>5</th>\n",
              "      <th>6</th>\n",
              "      <th>7</th>\n",
              "      <th>8</th>\n",
              "      <th>9</th>\n",
              "      <th>10</th>\n",
              "      <th>11</th>\n",
              "      <th>12</th>\n",
              "      <th>13</th>\n",
              "      <th>14</th>\n",
              "      <th>15</th>\n",
              "      <th>16</th>\n",
              "      <th>17</th>\n",
              "      <th>18</th>\n",
              "      <th>19</th>\n",
              "      <th>20</th>\n",
              "      <th>21</th>\n",
              "      <th>22</th>\n",
              "      <th>23</th>\n",
              "      <th>24</th>\n",
              "      <th>25</th>\n",
              "      <th>26</th>\n",
              "      <th>27</th>\n",
              "      <th>28</th>\n",
              "      <th>29</th>\n",
              "      <th>30</th>\n",
              "      <th>31</th>\n",
              "      <th>32</th>\n",
              "      <th>33</th>\n",
              "    </tr>\n",
              "  </thead>\n",
              "  <tbody>\n",
              "    <tr>\n",
              "      <th>0</th>\n",
              "      <td>0.0</td>\n",
              "      <td>1.0</td>\n",
              "      <td>0.0</td>\n",
              "      <td>0.0</td>\n",
              "      <td>0.0</td>\n",
              "      <td>1.0</td>\n",
              "      <td>0.0</td>\n",
              "      <td>0.0</td>\n",
              "      <td>0.0</td>\n",
              "      <td>1.0</td>\n",
              "      <td>0.0</td>\n",
              "      <td>0.0</td>\n",
              "      <td>0.0</td>\n",
              "      <td>0.0</td>\n",
              "      <td>0.0</td>\n",
              "      <td>0.0</td>\n",
              "      <td>0.0</td>\n",
              "      <td>0.0</td>\n",
              "      <td>0.0</td>\n",
              "      <td>0.0</td>\n",
              "      <td>0.0</td>\n",
              "      <td>153494.0</td>\n",
              "      <td>709.0</td>\n",
              "      <td>871112.0</td>\n",
              "      <td>2.0</td>\n",
              "      <td>8391.73</td>\n",
              "      <td>12.5</td>\n",
              "      <td>10.0</td>\n",
              "      <td>10.0</td>\n",
              "      <td>0.0</td>\n",
              "      <td>38532.0</td>\n",
              "      <td>388036.0</td>\n",
              "      <td>0.0</td>\n",
              "      <td>0.0</td>\n",
              "    </tr>\n",
              "    <tr>\n",
              "      <th>1</th>\n",
              "      <td>0.0</td>\n",
              "      <td>1.0</td>\n",
              "      <td>0.0</td>\n",
              "      <td>0.0</td>\n",
              "      <td>0.0</td>\n",
              "      <td>1.0</td>\n",
              "      <td>0.0</td>\n",
              "      <td>0.0</td>\n",
              "      <td>0.0</td>\n",
              "      <td>1.0</td>\n",
              "      <td>0.0</td>\n",
              "      <td>0.0</td>\n",
              "      <td>0.0</td>\n",
              "      <td>0.0</td>\n",
              "      <td>0.0</td>\n",
              "      <td>0.0</td>\n",
              "      <td>0.0</td>\n",
              "      <td>0.0</td>\n",
              "      <td>0.0</td>\n",
              "      <td>0.0</td>\n",
              "      <td>0.0</td>\n",
              "      <td>176242.0</td>\n",
              "      <td>727.0</td>\n",
              "      <td>780083.0</td>\n",
              "      <td>10.0</td>\n",
              "      <td>16771.87</td>\n",
              "      <td>16.5</td>\n",
              "      <td>27.0</td>\n",
              "      <td>16.0</td>\n",
              "      <td>1.0</td>\n",
              "      <td>156940.0</td>\n",
              "      <td>531322.0</td>\n",
              "      <td>1.0</td>\n",
              "      <td>0.0</td>\n",
              "    </tr>\n",
              "    <tr>\n",
              "      <th>2</th>\n",
              "      <td>0.0</td>\n",
              "      <td>1.0</td>\n",
              "      <td>0.0</td>\n",
              "      <td>1.0</td>\n",
              "      <td>0.0</td>\n",
              "      <td>0.0</td>\n",
              "      <td>0.0</td>\n",
              "      <td>0.0</td>\n",
              "      <td>0.0</td>\n",
              "      <td>1.0</td>\n",
              "      <td>0.0</td>\n",
              "      <td>0.0</td>\n",
              "      <td>0.0</td>\n",
              "      <td>0.0</td>\n",
              "      <td>0.0</td>\n",
              "      <td>0.0</td>\n",
              "      <td>0.0</td>\n",
              "      <td>0.0</td>\n",
              "      <td>0.0</td>\n",
              "      <td>0.0</td>\n",
              "      <td>0.0</td>\n",
              "      <td>321992.0</td>\n",
              "      <td>744.0</td>\n",
              "      <td>1761148.0</td>\n",
              "      <td>10.0</td>\n",
              "      <td>39478.77</td>\n",
              "      <td>26.0</td>\n",
              "      <td>44.0</td>\n",
              "      <td>14.0</td>\n",
              "      <td>0.0</td>\n",
              "      <td>359765.0</td>\n",
              "      <td>468072.0</td>\n",
              "      <td>0.0</td>\n",
              "      <td>0.0</td>\n",
              "    </tr>\n",
              "    <tr>\n",
              "      <th>3</th>\n",
              "      <td>1.0</td>\n",
              "      <td>0.0</td>\n",
              "      <td>0.0</td>\n",
              "      <td>0.0</td>\n",
              "      <td>0.0</td>\n",
              "      <td>1.0</td>\n",
              "      <td>0.0</td>\n",
              "      <td>0.0</td>\n",
              "      <td>0.0</td>\n",
              "      <td>1.0</td>\n",
              "      <td>0.0</td>\n",
              "      <td>0.0</td>\n",
              "      <td>0.0</td>\n",
              "      <td>0.0</td>\n",
              "      <td>0.0</td>\n",
              "      <td>0.0</td>\n",
              "      <td>0.0</td>\n",
              "      <td>0.0</td>\n",
              "      <td>0.0</td>\n",
              "      <td>0.0</td>\n",
              "      <td>0.0</td>\n",
              "      <td>266288.0</td>\n",
              "      <td>683.0</td>\n",
              "      <td>2031518.0</td>\n",
              "      <td>2.0</td>\n",
              "      <td>12443.10</td>\n",
              "      <td>24.4</td>\n",
              "      <td>56.0</td>\n",
              "      <td>8.0</td>\n",
              "      <td>2.0</td>\n",
              "      <td>31445.0</td>\n",
              "      <td>251130.0</td>\n",
              "      <td>2.0</td>\n",
              "      <td>0.0</td>\n",
              "    </tr>\n",
              "    <tr>\n",
              "      <th>4</th>\n",
              "      <td>0.0</td>\n",
              "      <td>1.0</td>\n",
              "      <td>0.0</td>\n",
              "      <td>0.0</td>\n",
              "      <td>0.0</td>\n",
              "      <td>1.0</td>\n",
              "      <td>0.0</td>\n",
              "      <td>0.0</td>\n",
              "      <td>0.0</td>\n",
              "      <td>1.0</td>\n",
              "      <td>0.0</td>\n",
              "      <td>0.0</td>\n",
              "      <td>0.0</td>\n",
              "      <td>0.0</td>\n",
              "      <td>0.0</td>\n",
              "      <td>0.0</td>\n",
              "      <td>0.0</td>\n",
              "      <td>0.0</td>\n",
              "      <td>0.0</td>\n",
              "      <td>0.0</td>\n",
              "      <td>0.0</td>\n",
              "      <td>258104.0</td>\n",
              "      <td>723.0</td>\n",
              "      <td>1284514.0</td>\n",
              "      <td>7.0</td>\n",
              "      <td>6368.99</td>\n",
              "      <td>14.6</td>\n",
              "      <td>64.0</td>\n",
              "      <td>12.0</td>\n",
              "      <td>0.0</td>\n",
              "      <td>128402.0</td>\n",
              "      <td>266904.0</td>\n",
              "      <td>0.0</td>\n",
              "      <td>0.0</td>\n",
              "    </tr>\n",
              "  </tbody>\n",
              "</table>\n",
              "</div>"
            ],
            "text/plain": [
              "    0    1    2    3    4    5   ...    28   29        30        31   32   33\n",
              "0  0.0  1.0  0.0  0.0  0.0  1.0  ...  10.0  0.0   38532.0  388036.0  0.0  0.0\n",
              "1  0.0  1.0  0.0  0.0  0.0  1.0  ...  16.0  1.0  156940.0  531322.0  1.0  0.0\n",
              "2  0.0  1.0  0.0  1.0  0.0  0.0  ...  14.0  0.0  359765.0  468072.0  0.0  0.0\n",
              "3  1.0  0.0  0.0  0.0  0.0  1.0  ...   8.0  2.0   31445.0  251130.0  2.0  0.0\n",
              "4  0.0  1.0  0.0  0.0  0.0  1.0  ...  12.0  0.0  128402.0  266904.0  0.0  0.0\n",
              "\n",
              "[5 rows x 34 columns]"
            ]
          },
          "metadata": {
            "tags": []
          },
          "execution_count": 37
        }
      ]
    },
    {
      "cell_type": "code",
      "metadata": {
        "colab": {
          "base_uri": "https://localhost:8080/"
        },
        "id": "7_0v9WKG9eFB",
        "outputId": "4b7fb51e-9831-4cfa-8c06-069051cbbf57"
      },
      "source": [
        "#Lo mismo para los datos de testeo renonbrar las columnas.\r\n",
        "rename={0:'Long Term',1:'Short Term',2:'Have Mortage',3:'Home Mortgage',4:'Own Home', 5:'Rent'\r\n",
        "        ,6:'Business Loan', 7:'Buy House', 8:'Buy a Car', 9:'Debt Consolidation',10:'Educational Expenses'\r\n",
        "        ,11:'Home Improvements',12:'Medical Bills', 13:'Other',14:'Take a Trip', 15:'major_purchase'\r\n",
        "        ,16:'moving',17:'other', 18:'small_business', 19:'vacation',20:'wedding'\r\n",
        "        ,21:\"Loan Amount\", 22:'credit score',23:'Annaual InCOME',24:'Years in current Job',25:'monthly debt'\r\n",
        "        ,26:'credit history',27:'Months since last delinquent',28:'Open account',29:'credit Problem'\r\n",
        "        ,30:'Current credit balance',31:'Maximum open credit',32:'Bankruptcies',33:'Tax Liens'}\r\n",
        "dftest = pd.DataFrame(t_test)\r\n",
        "dftest.rename(columns=rename,inplace=True)\r\n",
        "dftest.head()"
      ],
      "execution_count": null,
      "outputs": [
        {
          "output_type": "execute_result",
          "data": {
            "text/html": [
              "<div>\n",
              "<style scoped>\n",
              "    .dataframe tbody tr th:only-of-type {\n",
              "        vertical-align: middle;\n",
              "    }\n",
              "\n",
              "    .dataframe tbody tr th {\n",
              "        vertical-align: top;\n",
              "    }\n",
              "\n",
              "    .dataframe thead th {\n",
              "        text-align: right;\n",
              "    }\n",
              "</style>\n",
              "<table border=\"1\" class=\"dataframe\">\n",
              "  <thead>\n",
              "    <tr style=\"text-align: right;\">\n",
              "      <th></th>\n",
              "      <th>Long Term</th>\n",
              "      <th>Short Term</th>\n",
              "      <th>Have Mortage</th>\n",
              "      <th>Home Mortgage</th>\n",
              "      <th>Own Home</th>\n",
              "      <th>Rent</th>\n",
              "      <th>Business Loan</th>\n",
              "      <th>Buy House</th>\n",
              "      <th>Buy a Car</th>\n",
              "      <th>Debt Consolidation</th>\n",
              "      <th>Educational Expenses</th>\n",
              "      <th>Home Improvements</th>\n",
              "      <th>Medical Bills</th>\n",
              "      <th>Other</th>\n",
              "      <th>Take a Trip</th>\n",
              "      <th>major_purchase</th>\n",
              "      <th>moving</th>\n",
              "      <th>other</th>\n",
              "      <th>small_business</th>\n",
              "      <th>vacation</th>\n",
              "      <th>wedding</th>\n",
              "      <th>Loan Amount</th>\n",
              "      <th>credit score</th>\n",
              "      <th>Annaual InCOME</th>\n",
              "      <th>Years in current Job</th>\n",
              "      <th>monthly debt</th>\n",
              "      <th>credit history</th>\n",
              "      <th>Months since last delinquent</th>\n",
              "      <th>Open account</th>\n",
              "      <th>credit Problem</th>\n",
              "      <th>Current credit balance</th>\n",
              "      <th>Maximum open credit</th>\n",
              "      <th>Bankruptcies</th>\n",
              "      <th>Tax Liens</th>\n",
              "    </tr>\n",
              "  </thead>\n",
              "  <tbody>\n",
              "    <tr>\n",
              "      <th>0</th>\n",
              "      <td>0.0</td>\n",
              "      <td>1.0</td>\n",
              "      <td>0.0</td>\n",
              "      <td>0.0</td>\n",
              "      <td>0.0</td>\n",
              "      <td>1.0</td>\n",
              "      <td>0.0</td>\n",
              "      <td>0.0</td>\n",
              "      <td>0.0</td>\n",
              "      <td>1.0</td>\n",
              "      <td>0.0</td>\n",
              "      <td>0.0</td>\n",
              "      <td>0.0</td>\n",
              "      <td>0.0</td>\n",
              "      <td>0.0</td>\n",
              "      <td>0.0</td>\n",
              "      <td>0.0</td>\n",
              "      <td>0.0</td>\n",
              "      <td>0.0</td>\n",
              "      <td>0.0</td>\n",
              "      <td>0.0</td>\n",
              "      <td>153494.0</td>\n",
              "      <td>709.0</td>\n",
              "      <td>871112.0</td>\n",
              "      <td>2.0</td>\n",
              "      <td>8391.73</td>\n",
              "      <td>12.5</td>\n",
              "      <td>10.0</td>\n",
              "      <td>10.0</td>\n",
              "      <td>0.0</td>\n",
              "      <td>38532.0</td>\n",
              "      <td>388036.0</td>\n",
              "      <td>0.0</td>\n",
              "      <td>0.0</td>\n",
              "    </tr>\n",
              "    <tr>\n",
              "      <th>1</th>\n",
              "      <td>0.0</td>\n",
              "      <td>1.0</td>\n",
              "      <td>0.0</td>\n",
              "      <td>0.0</td>\n",
              "      <td>0.0</td>\n",
              "      <td>1.0</td>\n",
              "      <td>0.0</td>\n",
              "      <td>0.0</td>\n",
              "      <td>0.0</td>\n",
              "      <td>1.0</td>\n",
              "      <td>0.0</td>\n",
              "      <td>0.0</td>\n",
              "      <td>0.0</td>\n",
              "      <td>0.0</td>\n",
              "      <td>0.0</td>\n",
              "      <td>0.0</td>\n",
              "      <td>0.0</td>\n",
              "      <td>0.0</td>\n",
              "      <td>0.0</td>\n",
              "      <td>0.0</td>\n",
              "      <td>0.0</td>\n",
              "      <td>176242.0</td>\n",
              "      <td>727.0</td>\n",
              "      <td>780083.0</td>\n",
              "      <td>10.0</td>\n",
              "      <td>16771.87</td>\n",
              "      <td>16.5</td>\n",
              "      <td>27.0</td>\n",
              "      <td>16.0</td>\n",
              "      <td>1.0</td>\n",
              "      <td>156940.0</td>\n",
              "      <td>531322.0</td>\n",
              "      <td>1.0</td>\n",
              "      <td>0.0</td>\n",
              "    </tr>\n",
              "    <tr>\n",
              "      <th>2</th>\n",
              "      <td>0.0</td>\n",
              "      <td>1.0</td>\n",
              "      <td>0.0</td>\n",
              "      <td>1.0</td>\n",
              "      <td>0.0</td>\n",
              "      <td>0.0</td>\n",
              "      <td>0.0</td>\n",
              "      <td>0.0</td>\n",
              "      <td>0.0</td>\n",
              "      <td>1.0</td>\n",
              "      <td>0.0</td>\n",
              "      <td>0.0</td>\n",
              "      <td>0.0</td>\n",
              "      <td>0.0</td>\n",
              "      <td>0.0</td>\n",
              "      <td>0.0</td>\n",
              "      <td>0.0</td>\n",
              "      <td>0.0</td>\n",
              "      <td>0.0</td>\n",
              "      <td>0.0</td>\n",
              "      <td>0.0</td>\n",
              "      <td>321992.0</td>\n",
              "      <td>744.0</td>\n",
              "      <td>1761148.0</td>\n",
              "      <td>10.0</td>\n",
              "      <td>39478.77</td>\n",
              "      <td>26.0</td>\n",
              "      <td>44.0</td>\n",
              "      <td>14.0</td>\n",
              "      <td>0.0</td>\n",
              "      <td>359765.0</td>\n",
              "      <td>468072.0</td>\n",
              "      <td>0.0</td>\n",
              "      <td>0.0</td>\n",
              "    </tr>\n",
              "    <tr>\n",
              "      <th>3</th>\n",
              "      <td>1.0</td>\n",
              "      <td>0.0</td>\n",
              "      <td>0.0</td>\n",
              "      <td>0.0</td>\n",
              "      <td>0.0</td>\n",
              "      <td>1.0</td>\n",
              "      <td>0.0</td>\n",
              "      <td>0.0</td>\n",
              "      <td>0.0</td>\n",
              "      <td>1.0</td>\n",
              "      <td>0.0</td>\n",
              "      <td>0.0</td>\n",
              "      <td>0.0</td>\n",
              "      <td>0.0</td>\n",
              "      <td>0.0</td>\n",
              "      <td>0.0</td>\n",
              "      <td>0.0</td>\n",
              "      <td>0.0</td>\n",
              "      <td>0.0</td>\n",
              "      <td>0.0</td>\n",
              "      <td>0.0</td>\n",
              "      <td>266288.0</td>\n",
              "      <td>683.0</td>\n",
              "      <td>2031518.0</td>\n",
              "      <td>2.0</td>\n",
              "      <td>12443.10</td>\n",
              "      <td>24.4</td>\n",
              "      <td>56.0</td>\n",
              "      <td>8.0</td>\n",
              "      <td>2.0</td>\n",
              "      <td>31445.0</td>\n",
              "      <td>251130.0</td>\n",
              "      <td>2.0</td>\n",
              "      <td>0.0</td>\n",
              "    </tr>\n",
              "    <tr>\n",
              "      <th>4</th>\n",
              "      <td>0.0</td>\n",
              "      <td>1.0</td>\n",
              "      <td>0.0</td>\n",
              "      <td>0.0</td>\n",
              "      <td>0.0</td>\n",
              "      <td>1.0</td>\n",
              "      <td>0.0</td>\n",
              "      <td>0.0</td>\n",
              "      <td>0.0</td>\n",
              "      <td>1.0</td>\n",
              "      <td>0.0</td>\n",
              "      <td>0.0</td>\n",
              "      <td>0.0</td>\n",
              "      <td>0.0</td>\n",
              "      <td>0.0</td>\n",
              "      <td>0.0</td>\n",
              "      <td>0.0</td>\n",
              "      <td>0.0</td>\n",
              "      <td>0.0</td>\n",
              "      <td>0.0</td>\n",
              "      <td>0.0</td>\n",
              "      <td>258104.0</td>\n",
              "      <td>723.0</td>\n",
              "      <td>1284514.0</td>\n",
              "      <td>7.0</td>\n",
              "      <td>6368.99</td>\n",
              "      <td>14.6</td>\n",
              "      <td>64.0</td>\n",
              "      <td>12.0</td>\n",
              "      <td>0.0</td>\n",
              "      <td>128402.0</td>\n",
              "      <td>266904.0</td>\n",
              "      <td>0.0</td>\n",
              "      <td>0.0</td>\n",
              "    </tr>\n",
              "  </tbody>\n",
              "</table>\n",
              "</div>"
            ],
            "text/plain": [
              "   Long Term  Short Term  ...  Bankruptcies  Tax Liens\n",
              "0        0.0         1.0  ...           0.0        0.0\n",
              "1        0.0         1.0  ...           1.0        0.0\n",
              "2        0.0         1.0  ...           0.0        0.0\n",
              "3        1.0         0.0  ...           2.0        0.0\n",
              "4        0.0         1.0  ...           0.0        0.0\n",
              "\n",
              "[5 rows x 34 columns]"
            ]
          },
          "metadata": {
            "tags": []
          },
          "execution_count": 38
        }
      ]
    },
    {
      "cell_type": "code",
      "metadata": {
        "id": "wZaUBQQf2hUO"
      },
      "source": [
        "#Eliminacion de las variables ficticias en los datos de testeo\r\n",
        "dftest.drop(columns=['Long Term', 'Have Mortage', 'vacation'], axis=1, inplace=True)"
      ],
      "execution_count": null,
      "outputs": []
    },
    {
      "cell_type": "code",
      "metadata": {
        "colab": {
          "base_uri": "https://localhost:8080/"
        },
        "id": "K28jZWwUEBKk",
        "outputId": "53c703af-cc75-4238-ab69-3ce0aa37e178"
      },
      "source": [
        "#Forma final del dataset\r\n",
        "df.shape"
      ],
      "execution_count": null,
      "outputs": [
        {
          "output_type": "execute_result",
          "data": {
            "text/plain": [
              "(85975, 32)"
            ]
          },
          "metadata": {
            "tags": []
          },
          "execution_count": 40
        }
      ]
    },
    {
      "cell_type": "markdown",
      "metadata": {
        "id": "pV9v_iCCJkey"
      },
      "source": [
        "##Holdout del dataset"
      ]
    },
    {
      "cell_type": "code",
      "metadata": {
        "id": "8EFiGH2OJgAB"
      },
      "source": [
        "#Holdout de los datos\r\n",
        "y=df[\"Fully Paid\"]\r\n",
        "X=df.drop(columns=[\"Fully Paid\"])\r\n",
        "\r\n",
        "X_train,X_test,y_train,y_test=train_test_split(X,y,test_size=0.33,random_state=33)"
      ],
      "execution_count": null,
      "outputs": []
    },
    {
      "cell_type": "code",
      "metadata": {
        "colab": {
          "base_uri": "https://localhost:8080/"
        },
        "id": "TT87KDJeE__V",
        "outputId": "8043a974-7aca-4915-fe3b-b42730ff8242"
      },
      "source": [
        "# Forma de los datos de entrenamiento\r\n",
        "X_train.shape"
      ],
      "execution_count": null,
      "outputs": [
        {
          "output_type": "execute_result",
          "data": {
            "text/plain": [
              "(57603, 31)"
            ]
          },
          "metadata": {
            "tags": []
          },
          "execution_count": 42
        }
      ]
    },
    {
      "cell_type": "code",
      "metadata": {
        "colab": {
          "base_uri": "https://localhost:8080/"
        },
        "id": "jWJDN-nRC0cf",
        "outputId": "2dd3670f-5f2c-4776-c437-9ae38ca54547"
      },
      "source": [
        "#Forma de los datos de prueba\r\n",
        "X_test.shape"
      ],
      "execution_count": null,
      "outputs": [
        {
          "output_type": "execute_result",
          "data": {
            "text/plain": [
              "(28372, 31)"
            ]
          },
          "metadata": {
            "tags": []
          },
          "execution_count": 43
        }
      ]
    },
    {
      "cell_type": "markdown",
      "metadata": {
        "id": "IxmyC8EiKxAq"
      },
      "source": [
        "##Normalizacion de los datos\r\n"
      ]
    },
    {
      "cell_type": "code",
      "metadata": {
        "colab": {
          "base_uri": "https://localhost:8080/"
        },
        "id": "ngh83MKhqJWI",
        "outputId": "2ccef9c3-ae70-469b-94e8-7aaca2b85a66"
      },
      "source": [
        "# Forma de los datos de entrenamiento\r\n",
        "X_train.head(7)"
      ],
      "execution_count": null,
      "outputs": [
        {
          "output_type": "execute_result",
          "data": {
            "text/html": [
              "<div>\n",
              "<style scoped>\n",
              "    .dataframe tbody tr th:only-of-type {\n",
              "        vertical-align: middle;\n",
              "    }\n",
              "\n",
              "    .dataframe tbody tr th {\n",
              "        vertical-align: top;\n",
              "    }\n",
              "\n",
              "    .dataframe thead th {\n",
              "        text-align: right;\n",
              "    }\n",
              "</style>\n",
              "<table border=\"1\" class=\"dataframe\">\n",
              "  <thead>\n",
              "    <tr style=\"text-align: right;\">\n",
              "      <th></th>\n",
              "      <th>Short Term</th>\n",
              "      <th>Home Mortgage</th>\n",
              "      <th>Own Home</th>\n",
              "      <th>Rent</th>\n",
              "      <th>Business Loan</th>\n",
              "      <th>Buy House</th>\n",
              "      <th>Buy a Car</th>\n",
              "      <th>Debt Consolidation</th>\n",
              "      <th>Educational Expenses</th>\n",
              "      <th>Home Improvements</th>\n",
              "      <th>Medical Bills</th>\n",
              "      <th>Other</th>\n",
              "      <th>Take a Trip</th>\n",
              "      <th>major_purchase</th>\n",
              "      <th>moving</th>\n",
              "      <th>other</th>\n",
              "      <th>small_business</th>\n",
              "      <th>wedding</th>\n",
              "      <th>Loan Amount</th>\n",
              "      <th>credit score</th>\n",
              "      <th>Annaual InCOME</th>\n",
              "      <th>Years in current Job</th>\n",
              "      <th>monthly debt</th>\n",
              "      <th>credit history</th>\n",
              "      <th>Months since last delinquent</th>\n",
              "      <th>Open account</th>\n",
              "      <th>credit Problem</th>\n",
              "      <th>Current credit balance</th>\n",
              "      <th>Maximum open credit</th>\n",
              "      <th>Bankruptcies</th>\n",
              "      <th>Tax Liens</th>\n",
              "    </tr>\n",
              "  </thead>\n",
              "  <tbody>\n",
              "    <tr>\n",
              "      <th>49717</th>\n",
              "      <td>0.0</td>\n",
              "      <td>0.0</td>\n",
              "      <td>0.0</td>\n",
              "      <td>1.0</td>\n",
              "      <td>0.0</td>\n",
              "      <td>0.0</td>\n",
              "      <td>0.0</td>\n",
              "      <td>1.0</td>\n",
              "      <td>0.0</td>\n",
              "      <td>0.0</td>\n",
              "      <td>0.0</td>\n",
              "      <td>0.0</td>\n",
              "      <td>0.0</td>\n",
              "      <td>0.0</td>\n",
              "      <td>0.0</td>\n",
              "      <td>0.0</td>\n",
              "      <td>0.0</td>\n",
              "      <td>0.0</td>\n",
              "      <td>99999999.0</td>\n",
              "      <td>710.0</td>\n",
              "      <td>1016044.0</td>\n",
              "      <td>6.0</td>\n",
              "      <td>15579.43</td>\n",
              "      <td>23.9</td>\n",
              "      <td>34.97522</td>\n",
              "      <td>18.0</td>\n",
              "      <td>0.0</td>\n",
              "      <td>369987.0</td>\n",
              "      <td>732336.0</td>\n",
              "      <td>0.0</td>\n",
              "      <td>0.0</td>\n",
              "    </tr>\n",
              "    <tr>\n",
              "      <th>32112</th>\n",
              "      <td>1.0</td>\n",
              "      <td>1.0</td>\n",
              "      <td>0.0</td>\n",
              "      <td>0.0</td>\n",
              "      <td>0.0</td>\n",
              "      <td>0.0</td>\n",
              "      <td>0.0</td>\n",
              "      <td>1.0</td>\n",
              "      <td>0.0</td>\n",
              "      <td>0.0</td>\n",
              "      <td>0.0</td>\n",
              "      <td>0.0</td>\n",
              "      <td>0.0</td>\n",
              "      <td>0.0</td>\n",
              "      <td>0.0</td>\n",
              "      <td>0.0</td>\n",
              "      <td>0.0</td>\n",
              "      <td>0.0</td>\n",
              "      <td>355124.0</td>\n",
              "      <td>736.0</td>\n",
              "      <td>1734795.0</td>\n",
              "      <td>3.0</td>\n",
              "      <td>40767.92</td>\n",
              "      <td>34.2</td>\n",
              "      <td>59.00000</td>\n",
              "      <td>14.0</td>\n",
              "      <td>0.0</td>\n",
              "      <td>280649.0</td>\n",
              "      <td>481426.0</td>\n",
              "      <td>0.0</td>\n",
              "      <td>0.0</td>\n",
              "    </tr>\n",
              "    <tr>\n",
              "      <th>62805</th>\n",
              "      <td>1.0</td>\n",
              "      <td>0.0</td>\n",
              "      <td>0.0</td>\n",
              "      <td>1.0</td>\n",
              "      <td>0.0</td>\n",
              "      <td>0.0</td>\n",
              "      <td>0.0</td>\n",
              "      <td>1.0</td>\n",
              "      <td>0.0</td>\n",
              "      <td>0.0</td>\n",
              "      <td>0.0</td>\n",
              "      <td>0.0</td>\n",
              "      <td>0.0</td>\n",
              "      <td>0.0</td>\n",
              "      <td>0.0</td>\n",
              "      <td>0.0</td>\n",
              "      <td>0.0</td>\n",
              "      <td>0.0</td>\n",
              "      <td>323334.0</td>\n",
              "      <td>738.0</td>\n",
              "      <td>1202263.0</td>\n",
              "      <td>10.0</td>\n",
              "      <td>12824.05</td>\n",
              "      <td>17.7</td>\n",
              "      <td>34.97522</td>\n",
              "      <td>8.0</td>\n",
              "      <td>0.0</td>\n",
              "      <td>361798.0</td>\n",
              "      <td>505362.0</td>\n",
              "      <td>0.0</td>\n",
              "      <td>0.0</td>\n",
              "    </tr>\n",
              "    <tr>\n",
              "      <th>44371</th>\n",
              "      <td>1.0</td>\n",
              "      <td>1.0</td>\n",
              "      <td>0.0</td>\n",
              "      <td>0.0</td>\n",
              "      <td>0.0</td>\n",
              "      <td>0.0</td>\n",
              "      <td>0.0</td>\n",
              "      <td>1.0</td>\n",
              "      <td>0.0</td>\n",
              "      <td>0.0</td>\n",
              "      <td>0.0</td>\n",
              "      <td>0.0</td>\n",
              "      <td>0.0</td>\n",
              "      <td>0.0</td>\n",
              "      <td>0.0</td>\n",
              "      <td>0.0</td>\n",
              "      <td>0.0</td>\n",
              "      <td>0.0</td>\n",
              "      <td>266684.0</td>\n",
              "      <td>692.0</td>\n",
              "      <td>998070.0</td>\n",
              "      <td>5.0</td>\n",
              "      <td>24452.81</td>\n",
              "      <td>13.7</td>\n",
              "      <td>34.97522</td>\n",
              "      <td>7.0</td>\n",
              "      <td>0.0</td>\n",
              "      <td>219469.0</td>\n",
              "      <td>284570.0</td>\n",
              "      <td>0.0</td>\n",
              "      <td>0.0</td>\n",
              "    </tr>\n",
              "    <tr>\n",
              "      <th>52798</th>\n",
              "      <td>0.0</td>\n",
              "      <td>1.0</td>\n",
              "      <td>0.0</td>\n",
              "      <td>0.0</td>\n",
              "      <td>0.0</td>\n",
              "      <td>0.0</td>\n",
              "      <td>0.0</td>\n",
              "      <td>1.0</td>\n",
              "      <td>0.0</td>\n",
              "      <td>0.0</td>\n",
              "      <td>0.0</td>\n",
              "      <td>0.0</td>\n",
              "      <td>0.0</td>\n",
              "      <td>0.0</td>\n",
              "      <td>0.0</td>\n",
              "      <td>0.0</td>\n",
              "      <td>0.0</td>\n",
              "      <td>0.0</td>\n",
              "      <td>99999999.0</td>\n",
              "      <td>703.0</td>\n",
              "      <td>1674774.0</td>\n",
              "      <td>6.0</td>\n",
              "      <td>26935.92</td>\n",
              "      <td>22.1</td>\n",
              "      <td>71.00000</td>\n",
              "      <td>16.0</td>\n",
              "      <td>0.0</td>\n",
              "      <td>4049033.0</td>\n",
              "      <td>13589422.0</td>\n",
              "      <td>0.0</td>\n",
              "      <td>0.0</td>\n",
              "    </tr>\n",
              "    <tr>\n",
              "      <th>53384</th>\n",
              "      <td>1.0</td>\n",
              "      <td>0.0</td>\n",
              "      <td>0.0</td>\n",
              "      <td>1.0</td>\n",
              "      <td>0.0</td>\n",
              "      <td>0.0</td>\n",
              "      <td>0.0</td>\n",
              "      <td>1.0</td>\n",
              "      <td>0.0</td>\n",
              "      <td>0.0</td>\n",
              "      <td>0.0</td>\n",
              "      <td>0.0</td>\n",
              "      <td>0.0</td>\n",
              "      <td>0.0</td>\n",
              "      <td>0.0</td>\n",
              "      <td>0.0</td>\n",
              "      <td>0.0</td>\n",
              "      <td>0.0</td>\n",
              "      <td>88814.0</td>\n",
              "      <td>744.0</td>\n",
              "      <td>706629.0</td>\n",
              "      <td>3.0</td>\n",
              "      <td>14544.69</td>\n",
              "      <td>9.7</td>\n",
              "      <td>47.00000</td>\n",
              "      <td>11.0</td>\n",
              "      <td>0.0</td>\n",
              "      <td>26923.0</td>\n",
              "      <td>77550.0</td>\n",
              "      <td>0.0</td>\n",
              "      <td>0.0</td>\n",
              "    </tr>\n",
              "    <tr>\n",
              "      <th>55012</th>\n",
              "      <td>0.0</td>\n",
              "      <td>0.0</td>\n",
              "      <td>1.0</td>\n",
              "      <td>0.0</td>\n",
              "      <td>0.0</td>\n",
              "      <td>0.0</td>\n",
              "      <td>0.0</td>\n",
              "      <td>1.0</td>\n",
              "      <td>0.0</td>\n",
              "      <td>0.0</td>\n",
              "      <td>0.0</td>\n",
              "      <td>0.0</td>\n",
              "      <td>0.0</td>\n",
              "      <td>0.0</td>\n",
              "      <td>0.0</td>\n",
              "      <td>0.0</td>\n",
              "      <td>0.0</td>\n",
              "      <td>0.0</td>\n",
              "      <td>99999999.0</td>\n",
              "      <td>735.0</td>\n",
              "      <td>904609.0</td>\n",
              "      <td>5.0</td>\n",
              "      <td>16192.56</td>\n",
              "      <td>14.5</td>\n",
              "      <td>34.97522</td>\n",
              "      <td>8.0</td>\n",
              "      <td>0.0</td>\n",
              "      <td>391951.0</td>\n",
              "      <td>726110.0</td>\n",
              "      <td>0.0</td>\n",
              "      <td>0.0</td>\n",
              "    </tr>\n",
              "  </tbody>\n",
              "</table>\n",
              "</div>"
            ],
            "text/plain": [
              "       Short Term  Home Mortgage  ...  Bankruptcies  Tax Liens\n",
              "49717         0.0            0.0  ...           0.0        0.0\n",
              "32112         1.0            1.0  ...           0.0        0.0\n",
              "62805         1.0            0.0  ...           0.0        0.0\n",
              "44371         1.0            1.0  ...           0.0        0.0\n",
              "52798         0.0            1.0  ...           0.0        0.0\n",
              "53384         1.0            0.0  ...           0.0        0.0\n",
              "55012         0.0            0.0  ...           0.0        0.0\n",
              "\n",
              "[7 rows x 31 columns]"
            ]
          },
          "metadata": {
            "tags": []
          },
          "execution_count": 44
        }
      ]
    },
    {
      "cell_type": "code",
      "metadata": {
        "id": "MlGJ9F_SqQ-D"
      },
      "source": [
        "# Se recupera en Xcolumns los nombres de las columnas\r\n",
        "Xcolumnas=X_train.columns\r\n"
      ],
      "execution_count": null,
      "outputs": []
    },
    {
      "cell_type": "code",
      "metadata": {
        "id": "y8Xn_OO_K1Cz"
      },
      "source": [
        "# Normalizacion de los datos\r\n",
        "scaler = StandardScaler()\r\n",
        "X_train = scaler.fit_transform(X_train)\r\n",
        "#Lo mismo para los datos de testeo\r\n",
        "X_test = scaler.transform(X_test)\r\n",
        "#lo mismo para los datos de prueba\r\n",
        "X_pruebas=scaler.transform(dftest)\r\n"
      ],
      "execution_count": null,
      "outputs": []
    },
    {
      "cell_type": "code",
      "metadata": {
        "id": "uIMOU6Odqa1r"
      },
      "source": [
        "# Transformar a un pandas.DataFrame los datos de entrenamiento\r\n",
        "X_train=pd.DataFrame(data=X_train,columns=Xcolumnas)\r\n",
        "X_test=pd.DataFrame(data=X_test,columns=Xcolumnas)\r\n",
        "#Lo mismo para los datos de testeo\r\n",
        "X_pruebas=pd.DataFrame(data=dftest.to_numpy(),columns=dftest.columns)\r\n"
      ],
      "execution_count": null,
      "outputs": []
    },
    {
      "cell_type": "markdown",
      "metadata": {
        "id": "O0LhxFoFMi65"
      },
      "source": [
        "##**Implementacion de los modelos**\r\n"
      ]
    },
    {
      "cell_type": "markdown",
      "metadata": {
        "id": "kBfyLPTXYseh"
      },
      "source": [
        "###Funcion grafica Matriz de confusion"
      ]
    },
    {
      "cell_type": "code",
      "metadata": {
        "id": "L7ZOY1IOI3Zl"
      },
      "source": [
        "def make_confusion_matrix(matriz,\r\n",
        "                          grupo_nombres=[\"Verdad Neg\",\"Falso Pos\",\"Falso Neg\",'Verdad Pos'],\r\n",
        "                          categorias='auto',\r\n",
        "                          cantidades=True,\r\n",
        "                          porcentaje=True,\r\n",
        "                          cbar=True,\r\n",
        "                          xyValores=True,\r\n",
        "                          xyEtiquetas=True,\r\n",
        "                          stats=True,\r\n",
        "                          figsize=None,\r\n",
        "                          cmap='Blues',\r\n",
        "                          titulo=None):\r\n",
        "    '''\r\n",
        "    Funcion para graficar la matriz de confusion utilizando la libreria seaborn\r\n",
        "    Arguments\r\n",
        "    ---------\r\n",
        "    matriz:        Matriz de confusion.\r\n",
        "    grupo_nombres:   Lista de cadena que representan las etiquetas de cada fila en cada caja.\r\n",
        "    categorias:    Lista de cadenas que contienen las categorias para mostrar en los ejes x,y. Default=\"auto\"\r\n",
        "    \r\n",
        "    cantidades:         Si es True, muestra un numero que representa la cantidad de cada caja de la matriz de confusion. Default=True\r\n",
        "    porcentaje:    Si es True, muesta las proporciones de cada categoria, Default=True\r\n",
        "    \r\n",
        "    cbar:          Si es True, muesta la barra de color. Los valores se basan en los valores de la matriz de confusion, Default=True\r\n",
        "\r\n",
        "    xyValoress:    Si es True, Muesta los valores en los ejes X,Y Default=True.\r\n",
        "    xyEtiquetas:   Si es True, Muestra la etiqueda \"True\" y \"Predicted\" en la grafica Deful=True.\r\n",
        "    stats:         Si es True, muestra los valores estadisticos debajo la grafica.\r\n",
        "    figsize:       Tupla representa la escala de la grafica (Definido por la libreria matplolib) Default=plt.rcParams.get('figure.figsize')\r\n",
        "    cmap:          Colores de los valores mostrados (Definido por la libreria matplolib)(matplotlib.pyplot.cm.) Default=\"Blues\"\r\n",
        "                   See http://matplotlib.org/examples/color/colormaps_reference.html\r\n",
        "                   \r\n",
        "    titulo:         Titulo para la grafica. Default = None.\r\n",
        "    '''\r\n",
        "\r\n",
        "\r\n",
        "    # CODE TO GENERATE TEXT INSIDE EACH SQUARE\r\n",
        "    blancos = ['' for i in range(matriz.size)]\r\n",
        "\r\n",
        "    if grupo_nombres and len(grupo_nombres)==matriz.size:\r\n",
        "        grupo_etiquetas = [\"{}\\n\".format(value) for value in grupo_nombres]\r\n",
        "    else:\r\n",
        "        grupo_etiquetas = blancos\r\n",
        "\r\n",
        "    if cantidades:\r\n",
        "        grupo_counts = [\"{0:0.0f}\\n\".format(value) for value in matriz.flatten()]\r\n",
        "    else:\r\n",
        "        grupo_counts = blancos\r\n",
        "\r\n",
        "    if porcentaje:\r\n",
        "        grupo_porcentajes = [\"{0:.2%}\".format(value) for value in matriz.flatten()/np.sum(matriz)]\r\n",
        "    else:\r\n",
        "        grupo_percentajes = blancos\r\n",
        "\r\n",
        "    caja_etiquetas = [f\"{v1}{v2}{v3}\".strip() for v1, v2, v3 in zip(grupo_etiquetas,grupo_counts,grupo_porcentajes)]\r\n",
        "    caja_etiquetas = np.asarray(caja_etiquetas).reshape(matriz.shape[0],matriz.shape[1])\r\n",
        "\r\n",
        "\r\n",
        "    # ESTADISTICAS\r\n",
        "    if stats:\r\n",
        "        #Accuarcy es la suma de la diagonal dividido por el total de observaciones\r\n",
        "        \r\n",
        "        accuraccy  = np.trace(matriz) / float(np.sum(matriz))\r\n",
        "        # Si es matriz binaria se su muesta mas estadisticas\r\n",
        "        \r\n",
        "        if len(matriz)==2:\r\n",
        "            #Metrics for Binary Confusion Matrices\r\n",
        "            precision = matriz[1,1] / sum(matriz[:,1])\r\n",
        "            recall    = matriz[1,1] / sum(matriz[1,:])\r\n",
        "            f1_sc  = 2*precision*recall / (precision + recall)\r\n",
        "            # f1_sc=f1_score(y_true,y_pred,average=\"binary\")\r\n",
        "            stats_text = \"\\n\\nAccuracy={:0.3f}\\nPrecision={:0.3f}\\nRecall={:0.3f}\\nF1 Score={:0.3f}\".format(\r\n",
        "                accuraccy,precision,recall,f1_sc)\r\n",
        "        else:\r\n",
        "            stats_text = \"\\n\\nAccuracy={:0.3f}\".format(accuraccy)\r\n",
        "    else:\r\n",
        "        stats_text = \"\"\r\n",
        "\r\n",
        "\r\n",
        "    # SET FIGURE PARAMETERS ACCORDING TO OTHER ARGUMENTS\r\n",
        "    if figsize==None:\r\n",
        "        #Get default figure size if not set\r\n",
        "        figsize = plt.rcParams.get('figure.figsize')\r\n",
        "\r\n",
        "    if xyValores==False:\r\n",
        "        #Do not show categories if xyticks is False\r\n",
        "        categorias=False\r\n",
        "\r\n",
        "\r\n",
        "    # MAKE THE HEATMAP VISUALIZATION\r\n",
        "    plt.figure(figsize=figsize)\r\n",
        "    sns.heatmap(matriz,annot=caja_etiquetas,fmt=\"\",cmap=cmap,cbar=cbar,xticklabels=categorias,yticklabels=categorias)\r\n",
        "\r\n",
        "    if xyEtiquetas:\r\n",
        "        plt.ylabel('True label')\r\n",
        "        plt.xlabel('Predicted label' + stats_text)\r\n",
        "    else:\r\n",
        "        plt.xlabel(stats_text)\r\n",
        "    \r\n",
        "    if titulo:\r\n",
        "        plt.title(titulo)"
      ],
      "execution_count": null,
      "outputs": []
    },
    {
      "cell_type": "markdown",
      "metadata": {
        "id": "gjiQ3FIGQ2EQ"
      },
      "source": [
        "###**Logistic Regression**"
      ]
    },
    {
      "cell_type": "markdown",
      "metadata": {
        "id": "IR18sW5ioYIR"
      },
      "source": [
        "####Entrenamiento Logistic Regression"
      ]
    },
    {
      "cell_type": "code",
      "metadata": {
        "id": "r0V3qx0pQ6l3"
      },
      "source": [
        "#Implementcion del modelo Logistic Regression para la prediccion de los datos\r\n",
        "#utilizar variables: X_train, y_train, X_test, Y_test\r\n",
        "\r\n",
        "logistic_regresion = LogisticRegression(max_iter=10000)\r\n",
        "\r\n"
      ],
      "execution_count": null,
      "outputs": []
    },
    {
      "cell_type": "code",
      "metadata": {
        "colab": {
          "base_uri": "https://localhost:8080/"
        },
        "id": "nWodQbt5hODU",
        "outputId": "28ce8ecd-6289-458a-eca0-dd4e9cc1257e"
      },
      "source": [
        "#Entrenamiento del modelo Logistic Regression\r\n",
        "lr_entrenamiento_tiempo_inicio= time.time()\r\n",
        "logistic_regresion.fit(X_train, y_train)\r\n",
        "lr_entrenamiento_tiempo_fin = time.time()\r\n",
        "logistic_regression_tiempo_entrenamiento = lr_entrenamiento_tiempo_fin - lr_entrenamiento_tiempo_inicio # in seconds\r\n",
        "print(f\"Tiempo de ejecucion para Entrenamiento Logistic Regression: {logistic_regression_tiempo_entrenamiento:,.3f} \")"
      ],
      "execution_count": null,
      "outputs": [
        {
          "output_type": "stream",
          "text": [
            "Tiempo de ejecucion para Entrenamiento Logistic Regression: 1.068 \n"
          ],
          "name": "stdout"
        }
      ]
    },
    {
      "cell_type": "markdown",
      "metadata": {
        "id": "NdiGwohAoeAr"
      },
      "source": [
        "#### Prediccion Logistic Regression"
      ]
    },
    {
      "cell_type": "code",
      "metadata": {
        "colab": {
          "base_uri": "https://localhost:8080/"
        },
        "id": "wq3RZmk8RSL5",
        "outputId": "b9191012-a5a5-4559-fe6f-cc241d39aba5"
      },
      "source": [
        "# prediccion Logistic Regression\r\n",
        "lr_predict_tiempo_inicio= time.time()\r\n",
        "y_pred_regression = logistic_regresion.predict(X_test)\r\n",
        "lr_predict_tiempo_fin = time.time()\r\n",
        "logistic_regression_tiempo_prediccion = lr_predict_tiempo_fin - lr_predict_tiempo_inicio # in seconds\r\n",
        "print(f\"Tiempo de ejecucion para Prediccion Random Forest: {logistic_regression_tiempo_prediccion:,.3f} \")"
      ],
      "execution_count": null,
      "outputs": [
        {
          "output_type": "stream",
          "text": [
            "Tiempo de ejecucion para Prediccion Random Forest: 0.003 \n"
          ],
          "name": "stdout"
        }
      ]
    },
    {
      "cell_type": "markdown",
      "metadata": {
        "id": "_gaFVZqooj3J"
      },
      "source": [
        "####Precision Logistic Regression"
      ]
    },
    {
      "cell_type": "code",
      "metadata": {
        "colab": {
          "base_uri": "https://localhost:8080/"
        },
        "id": "rDdryjzaRV0S",
        "outputId": "af3ad24c-e271-4518-be4a-43204d2a18f4"
      },
      "source": [
        "#Metricas Accuracy Score Logistic Regression\r\n",
        "accuracy_logistic_regression = accuracy_score(y_test, y_pred_regression)\r\n",
        "accuracy_logistic_regression"
      ],
      "execution_count": null,
      "outputs": [
        {
          "output_type": "execute_result",
          "data": {
            "text/plain": [
              "0.8008600028196814"
            ]
          },
          "metadata": {
            "tags": []
          },
          "execution_count": 50
        }
      ]
    },
    {
      "cell_type": "markdown",
      "metadata": {
        "id": "srtCM99BooGn"
      },
      "source": [
        "####Cross Validation Score Logistic Regression"
      ]
    },
    {
      "cell_type": "code",
      "metadata": {
        "id": "u8mzayofordu",
        "colab": {
          "base_uri": "https://localhost:8080/"
        },
        "outputId": "4bcf5495-f908-4096-d4fd-cca949a2f370"
      },
      "source": [
        "#Metricas con Cross Validation Score\r\n",
        "accuracies_crosval_regression = cross_val_score(estimator = logistic_regresion,X = X, y = y,cv=13)\r\n",
        "accuracies_crosval_regression.mean()"
      ],
      "execution_count": null,
      "outputs": [
        {
          "output_type": "execute_result",
          "data": {
            "text/plain": [
              "0.7977435875252717"
            ]
          },
          "metadata": {
            "tags": []
          },
          "execution_count": 319
        }
      ]
    },
    {
      "cell_type": "markdown",
      "metadata": {
        "id": "GJv-rCg0osCo"
      },
      "source": [
        "#### Matriz de Confusion Logistic Regression"
      ]
    },
    {
      "cell_type": "code",
      "metadata": {
        "colab": {
          "base_uri": "https://localhost:8080/"
        },
        "id": "zmuRWDPjRZJA",
        "outputId": "8675920a-a9c7-4402-a7fb-7b11a144879c"
      },
      "source": [
        "#Metricas Matriz de confusion Logistic Regression\r\n",
        "matriz_logistic_regression = confusion_matrix(y_test, y_pred_regression)\r\n",
        "matriz_logistic_regression"
      ],
      "execution_count": null,
      "outputs": [
        {
          "output_type": "execute_result",
          "data": {
            "text/plain": [
              "array([[ 1525,  5584],\n",
              "       [   66, 21197]])"
            ]
          },
          "metadata": {
            "tags": []
          },
          "execution_count": 48
        }
      ]
    },
    {
      "cell_type": "code",
      "metadata": {
        "colab": {
          "base_uri": "https://localhost:8080/"
        },
        "id": "cuD0EEDVVqnw",
        "outputId": "a0d91a8a-25a6-4018-d071-43fca1d54fb1"
      },
      "source": [
        "#Metricas F1 Score\r\n",
        "f1_sc_regression=f1_score(y_test,y_pred_regression,average=\"binary\")\r\n",
        "f1_sc_regression"
      ],
      "execution_count": null,
      "outputs": [
        {
          "output_type": "execute_result",
          "data": {
            "text/plain": [
              "0.8823994671551079"
            ]
          },
          "metadata": {
            "tags": []
          },
          "execution_count": 49
        }
      ]
    },
    {
      "cell_type": "markdown",
      "metadata": {
        "id": "XXr6ZdlXqFL4"
      },
      "source": [
        "####Grafica Matriz Confusion Logistic Regression"
      ]
    },
    {
      "cell_type": "code",
      "metadata": {
        "colab": {
          "base_uri": "https://localhost:8080/",
          "height": 353
        },
        "id": "V7ZDGhqoJkQr",
        "outputId": "0c88496d-179e-47fc-907d-3b6f43b595aa"
      },
      "source": [
        "#Grafica Matriz de Confusion\r\n",
        "make_confusion_matrix(matriz_logistic_regression,titulo=\"Logistic Regression Matriz\")"
      ],
      "execution_count": null,
      "outputs": [
        {
          "output_type": "display_data",
          "data": {
            "image/png": "[encoded data removed]",
            "text/plain": [
              "<Figure size 432x288 with 2 Axes>"
            ]
          },
          "metadata": {
            "tags": []
          }
        }
      ]
    },
    {
      "cell_type": "markdown",
      "metadata": {
        "id": "RNAx0X9e3Y4D"
      },
      "source": [
        "Interpretacion de la matriz\n",
        "\n",
        "- Verdadero Negativo: Donde el 5.38 % de los casos reales los prestamos no son factibles y la predicción coincide.\n",
        "- Verdadero Positivo: Donde el 74.71% de los casos reales de los prestamos son factibles y la predicción coincide.\n",
        "- Falso Positivo: Donde el 19.68% de los casos reales de los prestamos no son factibles y la predicción no coincide.\n",
        "- Falso Negativo: Donde el 0.23% de los casos reales de los prestamos son factibles y la predicción dice lo contrario. "
      ]
    },
    {
      "cell_type": "markdown",
      "metadata": {
        "id": "gAnsOiurQ60w"
      },
      "source": [
        "###**Random Forest**"
      ]
    },
    {
      "cell_type": "markdown",
      "metadata": {
        "id": "vDMC1xGAnm8B"
      },
      "source": [
        "#### Entrenemiento Random Forest"
      ]
    },
    {
      "cell_type": "code",
      "metadata": {
        "id": "gEKS5Tv9Q87A"
      },
      "source": [
        "# Implementcion del modelo Random Forest para la prediccion de los datos\r\n",
        "#utilizar variables: X_train, y_train, X_test, Y_test\r\n",
        "random_forest = RandomForestClassifier(criterion=\"entropy\",class_weight=\"balanced\")"
      ],
      "execution_count": null,
      "outputs": []
    },
    {
      "cell_type": "code",
      "metadata": {
        "colab": {
          "base_uri": "https://localhost:8080/"
        },
        "id": "xDxdQnvWhVd7",
        "outputId": "25a9b81f-cc35-4f81-b59f-d2e8c17fecb0"
      },
      "source": [
        "#Entreamiento modelo Random Forest\r\n",
        "rf_entrenamiento_inicio_tiempo = time.time()\r\n",
        "random_forest.fit(X_train, y_train)\r\n",
        "rf_entrenamiento_fin_tiempo = time.time()\r\n",
        "random_forest_tiempo_entrenamiento = rf_entrenamiento_fin_tiempo-rf_entrenamiento_inicio_tiempo # in seconds\r\n",
        "print(f\"Tiempo de ejecucion para entrenamiento Random Forest: {random_forest_tiempo_entrenamiento:,.3f} \")"
      ],
      "execution_count": null,
      "outputs": [
        {
          "output_type": "stream",
          "text": [
            "Tiempo de ejecucion para entrenamiento Random Forest: 20.697 \n"
          ],
          "name": "stdout"
        }
      ]
    },
    {
      "cell_type": "markdown",
      "metadata": {
        "id": "6xbYFkvYn3cY"
      },
      "source": [
        "#### Prediccion Random Forest"
      ]
    },
    {
      "cell_type": "code",
      "metadata": {
        "colab": {
          "base_uri": "https://localhost:8080/"
        },
        "id": "PDCCoQwJRAbA",
        "outputId": "3b31818d-9c01-4f41-a3b4-f1541401724b"
      },
      "source": [
        "# prediccion Random Forest\r\n",
        "rf_predict_tiempo_inicio = time.time()\r\n",
        "y_pred_random_forest = random_forest.predict(X_test)\r\n",
        "rf_predict_tiempo_fin = time.time()\r\n",
        "random_forest_tiempo_prediccion = rf_predict_tiempo_fin - rf_predict_tiempo_inicio # in seconds\r\n",
        "print(f\"Tiempo de ejecucion para Prediccion Random Forest: {random_forest_tiempo_prediccion:,.3f} \")"
      ],
      "execution_count": null,
      "outputs": [
        {
          "output_type": "stream",
          "text": [
            "Tiempo de ejecucion para Prediccion Random Forest: 0.894 \n"
          ],
          "name": "stdout"
        }
      ]
    },
    {
      "cell_type": "markdown",
      "metadata": {
        "id": "fLov7fa_n807"
      },
      "source": [
        "#### Precision Random Forest"
      ]
    },
    {
      "cell_type": "code",
      "metadata": {
        "colab": {
          "base_uri": "https://localhost:8080/"
        },
        "id": "zSJuwRa6RU5l",
        "outputId": "0f84bf5b-a26c-4a78-a9b9-c44295b51e6c"
      },
      "source": [
        "#Metricas Accuracy Score Random Forest\r\n",
        "accuracy_random_forest = accuracy_score(y_test, y_pred_random_forest)\r\n",
        "print(\"Accuracy \", accuracy_random_forest)"
      ],
      "execution_count": null,
      "outputs": [
        {
          "output_type": "stream",
          "text": [
            "Accuracy  0.8016001691808826\n"
          ],
          "name": "stdout"
        }
      ]
    },
    {
      "cell_type": "markdown",
      "metadata": {
        "id": "TItiKPVgqeMH"
      },
      "source": [
        "####Cross Validation Score Random Forest"
      ]
    },
    {
      "cell_type": "code",
      "metadata": {
        "id": "tE8njJpLqg_v"
      },
      "source": [
        "#Metricas con Cross Validation\r\n",
        "accuracies_crosval_random_forest=cross_val_score(estimator=random_forest,X=X,y=y,cv=13)"
      ],
      "execution_count": null,
      "outputs": []
    },
    {
      "cell_type": "code",
      "metadata": {
        "id": "K-d1FcecqlZW",
        "colab": {
          "base_uri": "https://localhost:8080/"
        },
        "outputId": "5007714f-bc36-480e-9dc7-73707bbd2fcb"
      },
      "source": [
        "accuracies_crosval_random_forest.mean()"
      ],
      "execution_count": null,
      "outputs": [
        {
          "output_type": "execute_result",
          "data": {
            "text/plain": [
              "0.802326348233282"
            ]
          },
          "metadata": {
            "tags": []
          },
          "execution_count": 321
        }
      ]
    },
    {
      "cell_type": "markdown",
      "metadata": {
        "id": "oJBmYqymoEWg"
      },
      "source": [
        "#### Matriz de confusion Random Forest"
      ]
    },
    {
      "cell_type": "code",
      "metadata": {
        "colab": {
          "base_uri": "https://localhost:8080/"
        },
        "id": "ObT2k4k7RZmP",
        "outputId": "1eda9844-6299-4e0a-b43e-cc27b7ad0c9b"
      },
      "source": [
        "#Metricas Matriz de confusion Random Forest\r\n",
        "matriz_random_forest = confusion_matrix(y_test, y_pred_random_forest)\r\n",
        "matriz_random_forest"
      ],
      "execution_count": null,
      "outputs": [
        {
          "output_type": "execute_result",
          "data": {
            "text/plain": [
              "array([[ 1742,  5367],\n",
              "       [  251, 21012]])"
            ]
          },
          "metadata": {
            "tags": []
          },
          "execution_count": 86
        }
      ]
    },
    {
      "cell_type": "code",
      "metadata": {
        "colab": {
          "base_uri": "https://localhost:8080/"
        },
        "id": "lCa7kvKtYBuo",
        "outputId": "90f09296-5d91-4e4d-fe9f-f4721134a544"
      },
      "source": [
        "#Metricas F1 Score\r\n",
        "f1_sc_random_forest=f1_score(y_test,y_pred_random_forest,average=\"binary\")\r\n",
        "f1_sc_random_forest"
      ],
      "execution_count": null,
      "outputs": [
        {
          "output_type": "execute_result",
          "data": {
            "text/plain": [
              "0.882078838000084"
            ]
          },
          "metadata": {
            "tags": []
          },
          "execution_count": 87
        }
      ]
    },
    {
      "cell_type": "markdown",
      "metadata": {
        "id": "DCSHuyflqWkA"
      },
      "source": [
        "####Grafica Matriz de confusion Random Forest"
      ]
    },
    {
      "cell_type": "code",
      "metadata": {
        "colab": {
          "base_uri": "https://localhost:8080/",
          "height": 353
        },
        "id": "h_K73LF4YByQ",
        "outputId": "4f727b84-d73c-413e-f227-a58e368f17dc"
      },
      "source": [
        "#Grafica Matriz de Confusion\r\n",
        "make_confusion_matrix(matriz_random_forest,titulo=\"Random Forest Matriz\")"
      ],
      "execution_count": null,
      "outputs": [
        {
          "output_type": "display_data",
          "data": {
            "image/png": "[encoded data removed]",
            "text/plain": [
              "<Figure size 432x288 with 2 Axes>"
            ]
          },
          "metadata": {
            "tags": []
          }
        }
      ]
    },
    {
      "cell_type": "markdown",
      "metadata": {
        "id": "aYuw82Z2htbI"
      },
      "source": [
        "Interpretacion de la matriz\n",
        "\n",
        "- Verdadero Negativo: Donde el 6.14% de los casos reales los prestamos no son factibles y la prediccion coincide.\n",
        "- Verdadero Positivo: Donde el 73.99% de los casos reales de los prestamos son factibles y la prediccion coincide.\n",
        "- Falso Positivo: Donde el 18.92% de los casos reales de los prestamos no son factibles y la prediccion no coincide.\n",
        "- Falso Negativo: Donde el 0.88% de los casos reales de los prestamos son factibles y la prediccion dice lo contrario."
      ]
    },
    {
      "cell_type": "markdown",
      "metadata": {
        "id": "70_36G08Q9Iw"
      },
      "source": [
        "###**Support Vector Machine**"
      ]
    },
    {
      "cell_type": "markdown",
      "metadata": {
        "id": "qCeX_zIU0bUd"
      },
      "source": [
        "####Entrenamiento SVM"
      ]
    },
    {
      "cell_type": "code",
      "metadata": {
        "id": "zXlseWjcRBr6"
      },
      "source": [
        "# Implementcion del modelo support vector machine para la prediccion de los datos\r\n",
        "#utilizar variables: X_train, y_train, X_test, Y_test\r\n",
        "support_vector_machine = SVC()"
      ],
      "execution_count": null,
      "outputs": []
    },
    {
      "cell_type": "code",
      "metadata": {
        "id": "FlDZhj85hfSd",
        "colab": {
          "base_uri": "https://localhost:8080/"
        },
        "outputId": "5aaaa7db-e63a-4db5-f825-1c75530d2247"
      },
      "source": [
        "# Entrenamiento Support Vector Machine\r\n",
        "svm_entrenamiento_inicio = time.time()\r\n",
        "support_vector_machine.fit(X_train, y_train)\r\n",
        "svm_entrenamiento_fin_tiempo = time.time()\r\n",
        "svm_tiempo_entrenamiento = svm_entrenamiento_fin_tiempo-svm_entrenamiento_inicio # in seconds\r\n",
        "print(f\"Tiempo de ejecucion para entrenamiento Support Vector Machine: {svm_tiempo_entrenamiento:,.3f} \")\r\n"
      ],
      "execution_count": null,
      "outputs": [
        {
          "output_type": "stream",
          "text": [
            "Tiempo de ejecucion para entrenamiento Support Vector Machine: 836.288 \n"
          ],
          "name": "stdout"
        }
      ]
    },
    {
      "cell_type": "markdown",
      "metadata": {
        "id": "o2UNiZXx0eNd"
      },
      "source": [
        "####Prediccion SVM"
      ]
    },
    {
      "cell_type": "code",
      "metadata": {
        "id": "pHpPG2JURB1A"
      },
      "source": [
        "# prediccion support vector machine\r\n",
        "svm_predict_tiempo_inicio = time.time()\r\n",
        "y_pred_support_vector_machine = support_vector_machine.predict(X_test)\r\n",
        "svm_predict_tiempo_fin = time.time()\r\n",
        "svm_tiempo_prediccion = svm_predict_tiempo_fin - svm_predict_tiempo_inicio # in seconds\r\n",
        "print(f\"Tiempo de ejecucion para Prediccion Support Vector Machine: {svm_tiempo_prediccion:,.3f} \")"
      ],
      "execution_count": null,
      "outputs": []
    },
    {
      "cell_type": "code",
      "metadata": {
        "id": "wB7P-VjtRVTC"
      },
      "source": [
        "#Metricas Accuracy Score support vector machine\r\n",
        "accuracy_support_vector_machine = accuracy_score(y_test, y_pred_support_vector_machine)\r\n",
        "print(\"Accuracy \", accuracy_support_vector_machine)"
      ],
      "execution_count": null,
      "outputs": []
    },
    {
      "cell_type": "markdown",
      "metadata": {
        "id": "lzIpFhko0Fqe"
      },
      "source": [
        "####Cross Validation Score SVM"
      ]
    },
    {
      "cell_type": "code",
      "metadata": {
        "id": "L0hYpRzGt3yH"
      },
      "source": [
        "#Metricas con Cross Validation Demora demasiado\r\n",
        "accuracies_crosval_svm=cross_val_score(estimator=support_vector_machine,X=X,y=y,cv=13)\r\n",
        "accuracies_crosval_svm.mean()"
      ],
      "execution_count": null,
      "outputs": []
    },
    {
      "cell_type": "markdown",
      "metadata": {
        "id": "8XAguSvZ0LVv"
      },
      "source": [
        "####Matriz de confusion SVM"
      ]
    },
    {
      "cell_type": "code",
      "metadata": {
        "colab": {
          "base_uri": "https://localhost:8080/"
        },
        "id": "GNuYGv6nRaRy",
        "outputId": "4661e1be-e035-4494-9287-60bc22e8bd95"
      },
      "source": [
        "#Metricas Matriz de confusion support vector machine\r\n",
        "matriz_support_vector_machine = confusion_matrix(y_test, y_pred_support_vector_machine)\r\n",
        "matriz_support_vector_machine"
      ],
      "execution_count": null,
      "outputs": [
        {
          "output_type": "execute_result",
          "data": {
            "text/plain": [
              "array([[ 1459,  5650],\n",
              "       [   12, 21251]])"
            ]
          },
          "metadata": {
            "tags": []
          },
          "execution_count": 56
        }
      ]
    },
    {
      "cell_type": "code",
      "metadata": {
        "colab": {
          "base_uri": "https://localhost:8080/"
        },
        "id": "fFh3Fl-ZYCnZ",
        "outputId": "4ee1b09b-3a57-468b-d19f-914ee6554673"
      },
      "source": [
        "#Metricas F1 Score\r\n",
        "f1_sc_svm=f1_score(y_test,y_pred_support_vector_machine,average=\"binary\")\r\n",
        "f1_sc_svm"
      ],
      "execution_count": null,
      "outputs": [
        {
          "output_type": "execute_result",
          "data": {
            "text/plain": [
              "0.8824433186612407"
            ]
          },
          "metadata": {
            "tags": []
          },
          "execution_count": 57
        }
      ]
    },
    {
      "cell_type": "markdown",
      "metadata": {
        "id": "NqBhKTaf0N9l"
      },
      "source": [
        "####Grafica Matriz de confusion SVM"
      ]
    },
    {
      "cell_type": "code",
      "metadata": {
        "colab": {
          "base_uri": "https://localhost:8080/"
        },
        "id": "LC5WVEN5YCrY",
        "outputId": "67128c15-2c80-4294-c18f-396bc8dadf9f"
      },
      "source": [
        "#Grafica Matriz de Confusion\r\n",
        "make_confusion_matrix(matriz_support_vector_machine,titulo=\"Support Vector Machine Matriz\")"
      ],
      "execution_count": null,
      "outputs": [
        {
          "output_type": "display_data",
          "data": {
            "image/png": "[encoded data removed]",
            "text/plain": [
              "<Figure size 432x288 with 2 Axes>"
            ]
          },
          "metadata": {
            "tags": [],
            "needs_background": "dark"
          }
        }
      ]
    },
    {
      "cell_type": "markdown",
      "metadata": {
        "id": "0WuA_mYaiV3X"
      },
      "source": [
        "Interpretacion de la matriz\n",
        "\n",
        "- Verdadero Negativo: Donde el 5.14% de los casos reales los prestamos no son factibles y la prediccion coincide.\n",
        "- Verdadero Positivo: Donde el 74.90% de los casos reales de los prestamos son factibles y la prediccion coincide.\n",
        "- Falso Positivo: Donde el 19.91% de los casos reales de los prestamos no son factibles y la prediccion no coincide.\n",
        "- Falso Negativo: Donde el 0.04% de los casos reales de los prestamos son factibles y la prediccion dice lo contrario."
      ]
    },
    {
      "cell_type": "markdown",
      "metadata": {
        "id": "3as1mzlUhoJK"
      },
      "source": [
        "###Grafico de comparacion Precision"
      ]
    },
    {
      "cell_type": "code",
      "metadata": {
        "id": "QAirk8y3hmNf"
      },
      "source": [
        "df_resultados = pd.DataFrame({'model': ['Support Vector Machine','Logistic Regression', 'Random Forest'],\r\n",
        "                        'score': [accuracy_support_vector_machine,accuracy_logistic_regression,accuracy_random_forest]})\r\n"
      ],
      "execution_count": null,
      "outputs": []
    },
    {
      "cell_type": "code",
      "metadata": {
        "colab": {
          "base_uri": "https://localhost:8080/"
        },
        "id": "roKrIr3suZ0K",
        "outputId": "2c9dda54-8317-497c-89d1-293a46675df0"
      },
      "source": [
        "df_resultados.plot(x = 'model',y = 'score', kind = 'barh',\r\n",
        "                     color = 'red', edgecolor = 'black');\r\n",
        "for i,rows in df_resultados.iterrows():\r\n",
        "  \r\n",
        "  plt.annotate(f\"{rows['score']:,.4f}\",xy=(rows['score'],i),rotation=0,color=\"white\",size=15);\r\n",
        "\r\n",
        "plt.ylabel('');\r\n",
        "plt.yticks(size = 14); \r\n",
        "plt.xlabel('Accuracy score'); plt.xticks(size = 14);\r\n",
        "plt.title('Grafico de comparacion', size = 20);\r\n"
      ],
      "execution_count": null,
      "outputs": [
        {
          "output_type": "display_data",
          "data": {
            "image/png": "[encoded data removed]",
            "text/plain": [
              "<Figure size 432x288 with 1 Axes>"
            ]
          },
          "metadata": {
            "tags": []
          }
        }
      ]
    },
    {
      "cell_type": "markdown",
      "metadata": {
        "id": "bOdi4sN619RG"
      },
      "source": [
        "###Grafico de comparacion de tiempo Entrenamiento"
      ]
    },
    {
      "cell_type": "code",
      "metadata": {
        "id": "dFzAFU-O2D-9"
      },
      "source": [
        "df_res_entrenamiento = pd.DataFrame({'model': ['Logistic Regression', 'Random Forest', 'Support Vector Machine'],\r\n",
        "                        'tiempo': [logistic_regression_tiempo_entrenamiento, \r\n",
        "                                  random_forest_tiempo_entrenamiento,\r\n",
        "                                  svm_tiempo_entrenamiento]})"
      ],
      "execution_count": null,
      "outputs": []
    },
    {
      "cell_type": "code",
      "metadata": {
        "colab": {
          "base_uri": "https://localhost:8080/"
        },
        "id": "EbAK0MZ82Dq1",
        "outputId": "0f5425c4-fa3d-4056-fed8-f1d1586be52f"
      },
      "source": [
        "df_res_entrenamiento.sort_values('tiempo', ascending = True).plot(x = 'model',y = 'tiempo', kind = 'barh',\r\n",
        "                                                           color = 'green', edgecolor = 'black')\r\n",
        "for i,rows in df_res_entrenamiento.iterrows():\r\n",
        "    plt.annotate(f\"{rows['tiempo']:,.2f}s\",xy=(rows['tiempo'],i),rotation=0,color=\"white\",size=15)\r\n",
        "\r\n",
        "plt.yticks(size = 14); plt.xlabel('Tiempo de ejecucion en segundos'); plt.xticks(size = 14)\r\n",
        "plt.title('Tiempo Total Entrenamiento', size = 20);"
      ],
      "execution_count": null,
      "outputs": [
        {
          "output_type": "display_data",
          "data": {
            "image/png": "[encoded data removed]",
            "text/plain": [
              "<Figure size 432x288 with 1 Axes>"
            ]
          },
          "metadata": {
            "tags": []
          }
        }
      ]
    },
    {
      "cell_type": "code",
      "metadata": {
        "colab": {
          "base_uri": "https://localhost:8080/"
        },
        "id": "sDeJZVSYUX5C",
        "outputId": "bc0d8149-73fd-4e1e-f802-2770b9b5f2de"
      },
      "source": [
        "df_res_entrenamiento = pd.DataFrame({'model': ['Logistic Regression', 'Random Forest'],\r\n",
        "                        'tiempo': [logistic_regression_tiempo_entrenamiento, \r\n",
        "                                  random_forest_tiempo_entrenamiento]})\r\n",
        "df_res_entrenamiento.sort_values('tiempo', ascending = True).plot(x = 'model',y = 'tiempo', kind = 'barh',\r\n",
        "                                                           color = 'green', edgecolor = 'black')\r\n",
        "for i,rows in df_res_entrenamiento.iterrows():\r\n",
        "    plt.annotate(f\"{rows['tiempo']:,.2f}s\",xy=(rows['tiempo'],i),rotation=0,color=\"white\",size=15)\r\n",
        "\r\n",
        "plt.yticks(size = 14); plt.xlabel('Tiempo de ejecucion en segundos'); plt.xticks(size = 14)\r\n",
        "plt.title('Tiempo total Entrenamiento', size = 20);"
      ],
      "execution_count": null,
      "outputs": [
        {
          "output_type": "display_data",
          "data": {
            "image/png": "[encoded data removed]",
            "text/plain": [
              "<Figure size 432x288 with 1 Axes>"
            ]
          },
          "metadata": {
            "tags": []
          }
        }
      ]
    },
    {
      "cell_type": "markdown",
      "metadata": {
        "id": "6ujW31Z72Ez4"
      },
      "source": [
        "###Grafico de comparacion de tiempo Prediccion"
      ]
    },
    {
      "cell_type": "code",
      "metadata": {
        "id": "t4uCm1Kk2oW7"
      },
      "source": [
        "df_res_prediccion = pd.DataFrame({'model': ['Logistic Regression', 'Random Forest', 'Support Vector Machine'],\r\n",
        "                        'tiempo': [logistic_regression_tiempo_prediccion, \r\n",
        "                                  random_forest_tiempo_prediccion,\r\n",
        "                                  svm_tiempo_prediccion]})"
      ],
      "execution_count": null,
      "outputs": []
    },
    {
      "cell_type": "code",
      "metadata": {
        "colab": {
          "base_uri": "https://localhost:8080/"
        },
        "id": "w3XQAS5X2qMa",
        "outputId": "a6f10286-3ddd-40ee-89e0-542270e84754"
      },
      "source": [
        "df_res_prediccion.sort_values('tiempo', ascending = True).plot(x = 'model',y = 'tiempo', kind = 'barh',\r\n",
        "                                                           color = 'blue', edgecolor = 'black')\r\n",
        "for i,rows in df_res_prediccion.iterrows():\r\n",
        "    plt.annotate(f\"{rows['tiempo']:,.2f}s\",xy=(rows['tiempo'],i),rotation=0,color=\"white\",size=15)\r\n",
        "\r\n",
        "plt.yticks(size = 14); plt.xlabel('Tiempo de ejecucion en segundos(s)'); plt.xticks(size = 14)\r\n",
        "plt.title('Tiempo total prediccion', size = 20);"
      ],
      "execution_count": null,
      "outputs": [
        {
          "output_type": "display_data",
          "data": {
            "image/png": "[encoded data removed]",
            "text/plain": [
              "<Figure size 432x288 with 1 Axes>"
            ]
          },
          "metadata": {
            "tags": []
          }
        }
      ]
    },
    {
      "cell_type": "code",
      "metadata": {
        "colab": {
          "base_uri": "https://localhost:8080/"
        },
        "id": "VvXyMQ0QULIa",
        "outputId": "343b0328-64e3-4d58-b2f0-9a8d48637ce0"
      },
      "source": [
        "df_res_prediccion = pd.DataFrame({'model': ['Logistic Regression', 'Random Forest'],\r\n",
        "                        'tiempo': [logistic_regression_tiempo_prediccion, \r\n",
        "                                  random_forest_tiempo_prediccion]})\r\n",
        "df_res_prediccion.sort_values('tiempo', ascending = True).plot(x = 'model',y = 'tiempo', kind = 'barh',\r\n",
        "                                                           color = 'blue', edgecolor = 'black')\r\n",
        "for i,rows in df_res_prediccion.iterrows():\r\n",
        "    plt.annotate(f\"{rows['tiempo']:,.2f}s\",xy=(rows['tiempo'],i),rotation=0,color=\"white\",size=15)\r\n",
        "\r\n",
        "plt.yticks(size = 14); plt.xlabel('Tiempo de ejecucion en segundos(s)'); plt.xticks(size = 14)\r\n",
        "plt.title('Tiempo total prediccion', size = 20);"
      ],
      "execution_count": null,
      "outputs": [
        {
          "output_type": "display_data",
          "data": {
            "image/png": "[encoded data removed]",
            "text/plain": [
              "<Figure size 432x288 with 1 Axes>"
            ]
          },
          "metadata": {
            "tags": []
          }
        }
      ]
    },
    {
      "cell_type": "markdown",
      "metadata": {
        "id": "rVNfAclS0FcZ"
      },
      "source": [
        "##Datos de prueba"
      ]
    },
    {
      "cell_type": "code",
      "metadata": {
        "colab": {
          "base_uri": "https://localhost:8080/"
        },
        "id": "ARM6kLK_SXoh",
        "outputId": "3f87f893-0fb6-460a-fa36-fb7b65f41aa1"
      },
      "source": [
        "# Recuperamos las columnas\r\n",
        "cols=dftest.columns\r\n",
        "cols"
      ],
      "execution_count": null,
      "outputs": [
        {
          "output_type": "execute_result",
          "data": {
            "text/plain": [
              "Index(['Short Term', 'Home Mortgage', 'Own Home', 'Rent', 'Business Loan',\n",
              "       'Buy House', 'Buy a Car', 'Debt Consolidation', 'Educational Expenses',\n",
              "       'Home Improvements', 'Medical Bills', 'Other', 'Take a Trip',\n",
              "       'major_purchase', 'moving', 'other', 'small_business', 'wedding',\n",
              "       'Loan Amount', 'credit score', 'Annaual InCOME', 'Years in current Job',\n",
              "       'monthly debt', 'credit history', 'Months since last delinquent',\n",
              "       'Open account', 'credit Problem', 'Current credit balance',\n",
              "       'Maximum open credit', 'Bankruptcies', 'Tax Liens'],\n",
              "      dtype='object')"
            ]
          },
          "metadata": {
            "tags": []
          },
          "execution_count": 51
        }
      ]
    },
    {
      "cell_type": "code",
      "metadata": {
        "colab": {
          "base_uri": "https://localhost:8080/"
        },
        "id": "B1xDkgwajvCG",
        "outputId": "f4de6f70-96af-48b3-f6d3-cc6303229a07"
      },
      "source": [
        "y_pruebas_predict=logistic_regresion.predict(X_pruebas)\r\n",
        "y_pruebas_predict\r\n"
      ],
      "execution_count": null,
      "outputs": [
        {
          "output_type": "execute_result",
          "data": {
            "text/plain": [
              "array([1., 1., 1., ..., 1., 1., 1.])"
            ]
          },
          "metadata": {
            "tags": []
          },
          "execution_count": 209
        }
      ]
    },
    {
      "cell_type": "code",
      "metadata": {
        "colab": {
          "base_uri": "https://localhost:8080/",
          "height": 78
        },
        "id": "xkYIDKhXV1xB",
        "outputId": "82cf9943-e59c-4a9d-fe25-d4e7e226da9c"
      },
      "source": [
        "# Datos prueba para probar lso modelos\r\n",
        "datos=np.array([[1,#Short Term\r\n",
        "                  1,0,0,#Home Mortgage,Own Home, Rent\r\n",
        "                  0,0,0,1,#Business Loan,Buy House,Buy a Car,Debt Consolidation\r\n",
        "                  0,0,0,0,#Educacional Expenses,Home Improvements,Medical Bills,Other\r\n",
        "                  0,0,0,0,#Take a Trip,Major_Purchase,moving,other,\r\n",
        "                  0,0,#Small_business,wedding\r\n",
        "                  420000,7300,50000,2,2000,#Loan Amount,credit score,Annaual InCOME,Years in current Job,monthly debt\r\n",
        "                  7,34,5,1,#credit history,Months since last delinquent,Open account,credit Problem\r\n",
        "                  78000,420000,1,0]])#Current credit balance,Maximum open credit,Bankruptcies,Tax Liens\r\n",
        "\r\n",
        "dfnuevo=pd.DataFrame(data=datos,columns=cols)       \r\n",
        "X_nuevo=scaler.transform(dfnuevo)\r\n",
        "X_nuevo=pd.DataFrame(data=X_nuevo,columns=cols)       \r\n",
        "y_pruebas_pred=logistic_regresion.predict(X_nuevo)\r\n",
        "y_conceder=pd.DataFrame(y_pruebas_pred,columns=[\"Aprobar\"])\r\n",
        "y_conceder"
      ],
      "execution_count": null,
      "outputs": [
        {
          "output_type": "execute_result",
          "data": {
            "text/html": [
              "<div>\n",
              "<style scoped>\n",
              "    .dataframe tbody tr th:only-of-type {\n",
              "        vertical-align: middle;\n",
              "    }\n",
              "\n",
              "    .dataframe tbody tr th {\n",
              "        vertical-align: top;\n",
              "    }\n",
              "\n",
              "    .dataframe thead th {\n",
              "        text-align: right;\n",
              "    }\n",
              "</style>\n",
              "<table border=\"1\" class=\"dataframe\">\n",
              "  <thead>\n",
              "    <tr style=\"text-align: right;\">\n",
              "      <th></th>\n",
              "      <th>Aprobar</th>\n",
              "    </tr>\n",
              "  </thead>\n",
              "  <tbody>\n",
              "    <tr>\n",
              "      <th>0</th>\n",
              "      <td>0.0</td>\n",
              "    </tr>\n",
              "  </tbody>\n",
              "</table>\n",
              "</div>"
            ],
            "text/plain": [
              "   Aprobar\n",
              "0      0.0"
            ]
          },
          "metadata": {
            "tags": []
          },
          "execution_count": 56
        }
      ]
    },
    {
      "cell_type": "code",
      "metadata": {
        "colab": {
          "base_uri": "https://localhost:8080/",
          "height": 78
        },
        "id": "w86-Bj5jDjqm",
        "outputId": "0e4f8091-05d3-4868-d4e0-0fb32523ad01"
      },
      "source": [
        "# Datos prueba para probar los modelos\r\n",
        "datos=np.array([[1,#Short Term\r\n",
        "                  0,1,0,#Home Mortgage,Own Home, Rent\r\n",
        "                  0,0,0,1,#Business Loan,Buy House,Buy a Car,Debt Consolidation\r\n",
        "                  0,0,0,0,#Educacional Expenses,Home Improvements,Medical Bills,Other\r\n",
        "                  0,0,0,0,#Take a Trip,Major_Purchase,moving,other,\r\n",
        "                  0,0,#Small_business,wedding\r\n",
        "                  320000,700,90000,5,4400,#Loan Amount,credit score,Annaual InCOME,Years in current Job,monthly debt\r\n",
        "                  7,34,5,1,#credit history,Months since last delinquent,Open account,credit Problem\r\n",
        "                  78000,420000,0,0]])#Current credit balance,Maximum open credit,Bankruptcies,Tax Liens\r\n",
        "\r\n",
        "dfnuevo=pd.DataFrame(data=datos,columns=cols)       \r\n",
        "X_nuevo=scaler.transform(dfnuevo)\r\n",
        "X_nuevo=pd.DataFrame(data=X_nuevo,columns=cols)       \r\n",
        "y_pruebas_pred=logistic_regresion.predict(X_nuevo)\r\n",
        "y_conceder=pd.DataFrame(y_pruebas_pred,columns=[\"Aprobar\"])\r\n",
        "y_conceder"
      ],
      "execution_count": null,
      "outputs": [
        {
          "output_type": "execute_result",
          "data": {
            "text/html": [
              "<div>\n",
              "<style scoped>\n",
              "    .dataframe tbody tr th:only-of-type {\n",
              "        vertical-align: middle;\n",
              "    }\n",
              "\n",
              "    .dataframe tbody tr th {\n",
              "        vertical-align: top;\n",
              "    }\n",
              "\n",
              "    .dataframe thead th {\n",
              "        text-align: right;\n",
              "    }\n",
              "</style>\n",
              "<table border=\"1\" class=\"dataframe\">\n",
              "  <thead>\n",
              "    <tr style=\"text-align: right;\">\n",
              "      <th></th>\n",
              "      <th>Aprobar</th>\n",
              "    </tr>\n",
              "  </thead>\n",
              "  <tbody>\n",
              "    <tr>\n",
              "      <th>0</th>\n",
              "      <td>1.0</td>\n",
              "    </tr>\n",
              "  </tbody>\n",
              "</table>\n",
              "</div>"
            ],
            "text/plain": [
              "   Aprobar\n",
              "0      1.0"
            ]
          },
          "metadata": {
            "tags": []
          },
          "execution_count": 57
        }
      ]
    },
    {
      "cell_type": "markdown",
      "metadata": {
        "id": "6F_1rqcNMPB7"
      },
      "source": [
        "En el primer caso se refiere a una persona solicitante de un crédito que no debe ser aprobado, a causa de su historial crediticio, pues esta persona tiene una hipoteca, declara una quiebra y un problema crediticio que representa un escenario negativo para otorgarle el crédito.\r\n",
        "En el segundo caso una persona solicitante tiene un historial crediticio favorable por que declara que tiene casa propia, no tiene quiebras ni problemas crediticios y sus ingresos anuales son elevados respecto al anterior.\r\n",
        "\r\n",
        "\r\n",
        "Se puede verificar que, con estos datos de prueba, los modelos entrenados están obteniendo respuestas correctas.\r\n",
        "\r\n"
      ]
    },
    {
      "cell_type": "markdown",
      "metadata": {
        "id": "k-dnb5UNRqH3"
      },
      "source": [
        "##Conclusiones"
      ]
    },
    {
      "cell_type": "markdown",
      "metadata": {
        "id": "MYqH8BlZRqEX"
      },
      "source": [
        "Con todos los procedimientos realizados, con el fin de lograr los índices de precisión indicados en la sección 5, se evidencia que los 3 modelos descritos en la sección 3 tienen un rendimiento elevado para la predicción.\r\n",
        "\r\n",
        "Por tanto y aunque el modelo Logistic Regression es ínfimamente inferior respecto al modelo Random Forest en cuanto a la precisión, se considera como un factor determinante para la selección de modelo final el factor tiempo, tal y como se puede apreciar en la sección anterior el modelo Logistic Regression tiene un tiempo de ejecución menor según gráfico 6. Esto se debe a que el modelo Random Forest debe evaluar los datos ingresados en sus múltiples árboles para realizar la predicción, en cuanto al modelo Support Vector Machine se verifica que con grandes conjuntos de datos el tiempo de ejecución tanto para el entrenamiento como para la predicción es elevado. \r\n",
        "\r\n",
        "Con todo lo detallado se concluye que para el objetivo del presente proyecto de predecir si aprobar o no un crédito a una persona solicitante, el modelo Logistic Regression es el candidato ideal, ya que el tiempo de ejecución es menor respecto a los otros 2 modelos implementados.\r\n",
        "\r\n",
        "Así este proyecto suma a la filosofía de Machine Learning que una maquina tiene la capacidad de aprender y así predecir futuros eventos o corroborar la toma de decisiones en el área de finanzas tal y como se ha demostrado.\r\n"
      ]
    }
  ]
}