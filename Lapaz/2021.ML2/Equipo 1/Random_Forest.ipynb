{
  "nbformat": 4,
  "nbformat_minor": 0,
  "metadata": {
    "colab": {
      "name": "Random Forest",
      "provenance": []
    },
    "kernelspec": {
      "name": "python3",
      "display_name": "Python 3"
    }
  },
  "cells": [
    {
      "cell_type": "markdown",
      "metadata": {
        "id": "KFqXyzhKlEz7"
      },
      "source": [
        "**Random Forest**"
      ]
    },
    {
      "cell_type": "markdown",
      "metadata": {
        "id": "H4iX7thmlJOj"
      },
      "source": [
        "1. Cómo importar las librerías"
      ]
    },
    {
      "cell_type": "code",
      "metadata": {
        "id": "wrjkJ-DelUL8"
      },
      "source": [
        "import numpy as np\r\n",
        "import matplotlib.pyplot as plt\r\n",
        "import pandas as pd"
      ],
      "execution_count": null,
      "outputs": []
    },
    {
      "cell_type": "markdown",
      "metadata": {
        "id": "6fkcME2zlbt4"
      },
      "source": [
        "2. Importar el Data Set"
      ]
    },
    {
      "cell_type": "code",
      "metadata": {
        "colab": {
          "base_uri": "https://localhost:8080/",
          "height": 892
        },
        "id": "7WNAtWMcljDx",
        "outputId": "1d8b5c0f-4c92-4afd-981a-1d214a977bb0"
      },
      "source": [
        "df = pd.read_csv('https://raw.githubusercontent.com/Alex-Flores-Dev/pets-ML/main/train-ohc2.csv')\r\n",
        "df"
      ],
      "execution_count": null,
      "outputs": [
        {
          "output_type": "execute_result",
          "data": {
            "text/html": [
              "<div>\n",
              "<style scoped>\n",
              "    .dataframe tbody tr th:only-of-type {\n",
              "        vertical-align: middle;\n",
              "    }\n",
              "\n",
              "    .dataframe tbody tr th {\n",
              "        vertical-align: top;\n",
              "    }\n",
              "\n",
              "    .dataframe thead th {\n",
              "        text-align: right;\n",
              "    }\n",
              "</style>\n",
              "<table border=\"1\" class=\"dataframe\">\n",
              "  <thead>\n",
              "    <tr style=\"text-align: right;\">\n",
              "      <th></th>\n",
              "      <th>Type</th>\n",
              "      <th>Name</th>\n",
              "      <th>Age</th>\n",
              "      <th>Breed1</th>\n",
              "      <th>Breed2</th>\n",
              "      <th>Gender 1</th>\n",
              "      <th>Gender 2</th>\n",
              "      <th>Gender 3</th>\n",
              "      <th>Color1</th>\n",
              "      <th>Color2</th>\n",
              "      <th>Color3</th>\n",
              "      <th>MaturitySize</th>\n",
              "      <th>FurLength</th>\n",
              "      <th>Vaccinated 1</th>\n",
              "      <th>Vaccinated 2</th>\n",
              "      <th>Vaccinated 3</th>\n",
              "      <th>Dewormed 1</th>\n",
              "      <th>Dewormed 2</th>\n",
              "      <th>Dewormed 3</th>\n",
              "      <th>Sterilized 1</th>\n",
              "      <th>Sterilized 2</th>\n",
              "      <th>Sterilized 3</th>\n",
              "      <th>Health</th>\n",
              "      <th>Quantity</th>\n",
              "      <th>Fee</th>\n",
              "      <th>State</th>\n",
              "      <th>RescuerID</th>\n",
              "      <th>VideoAmt</th>\n",
              "      <th>Description</th>\n",
              "      <th>PetID</th>\n",
              "      <th>PhotoAmt</th>\n",
              "      <th>AdoptionSpeed</th>\n",
              "    </tr>\n",
              "  </thead>\n",
              "  <tbody>\n",
              "    <tr>\n",
              "      <th>0</th>\n",
              "      <td>2</td>\n",
              "      <td>Nibble</td>\n",
              "      <td>3</td>\n",
              "      <td>299</td>\n",
              "      <td>0</td>\n",
              "      <td>1</td>\n",
              "      <td>0</td>\n",
              "      <td>0</td>\n",
              "      <td>1</td>\n",
              "      <td>7</td>\n",
              "      <td>0</td>\n",
              "      <td>1</td>\n",
              "      <td>1</td>\n",
              "      <td>0</td>\n",
              "      <td>1</td>\n",
              "      <td>0</td>\n",
              "      <td>0</td>\n",
              "      <td>1</td>\n",
              "      <td>0</td>\n",
              "      <td>0</td>\n",
              "      <td>1</td>\n",
              "      <td>0</td>\n",
              "      <td>1</td>\n",
              "      <td>1</td>\n",
              "      <td>100</td>\n",
              "      <td>41326</td>\n",
              "      <td>8480853f516546f6cf33aa88cd76c379</td>\n",
              "      <td>0</td>\n",
              "      <td>Nibble is a 3+ month old ball of cuteness. He ...</td>\n",
              "      <td>86e1089a3</td>\n",
              "      <td>1</td>\n",
              "      <td>2</td>\n",
              "    </tr>\n",
              "    <tr>\n",
              "      <th>1</th>\n",
              "      <td>2</td>\n",
              "      <td>No Name Yet</td>\n",
              "      <td>1</td>\n",
              "      <td>265</td>\n",
              "      <td>0</td>\n",
              "      <td>1</td>\n",
              "      <td>0</td>\n",
              "      <td>0</td>\n",
              "      <td>1</td>\n",
              "      <td>2</td>\n",
              "      <td>0</td>\n",
              "      <td>2</td>\n",
              "      <td>2</td>\n",
              "      <td>0</td>\n",
              "      <td>0</td>\n",
              "      <td>1</td>\n",
              "      <td>0</td>\n",
              "      <td>0</td>\n",
              "      <td>1</td>\n",
              "      <td>0</td>\n",
              "      <td>0</td>\n",
              "      <td>1</td>\n",
              "      <td>1</td>\n",
              "      <td>1</td>\n",
              "      <td>0</td>\n",
              "      <td>41401</td>\n",
              "      <td>3082c7125d8fb66f7dd4bff4192c8b14</td>\n",
              "      <td>0</td>\n",
              "      <td>I just found it alone yesterday near my apartm...</td>\n",
              "      <td>6296e909a</td>\n",
              "      <td>2</td>\n",
              "      <td>0</td>\n",
              "    </tr>\n",
              "    <tr>\n",
              "      <th>2</th>\n",
              "      <td>1</td>\n",
              "      <td>Brisco</td>\n",
              "      <td>1</td>\n",
              "      <td>307</td>\n",
              "      <td>0</td>\n",
              "      <td>1</td>\n",
              "      <td>0</td>\n",
              "      <td>0</td>\n",
              "      <td>2</td>\n",
              "      <td>7</td>\n",
              "      <td>0</td>\n",
              "      <td>2</td>\n",
              "      <td>2</td>\n",
              "      <td>1</td>\n",
              "      <td>0</td>\n",
              "      <td>0</td>\n",
              "      <td>1</td>\n",
              "      <td>0</td>\n",
              "      <td>0</td>\n",
              "      <td>0</td>\n",
              "      <td>1</td>\n",
              "      <td>0</td>\n",
              "      <td>1</td>\n",
              "      <td>1</td>\n",
              "      <td>0</td>\n",
              "      <td>41326</td>\n",
              "      <td>fa90fa5b1ee11c86938398b60abc32cb</td>\n",
              "      <td>0</td>\n",
              "      <td>Their pregnant mother was dumped by her irresp...</td>\n",
              "      <td>3422e4906</td>\n",
              "      <td>7</td>\n",
              "      <td>3</td>\n",
              "    </tr>\n",
              "    <tr>\n",
              "      <th>3</th>\n",
              "      <td>1</td>\n",
              "      <td>Miko</td>\n",
              "      <td>4</td>\n",
              "      <td>307</td>\n",
              "      <td>0</td>\n",
              "      <td>0</td>\n",
              "      <td>1</td>\n",
              "      <td>0</td>\n",
              "      <td>1</td>\n",
              "      <td>2</td>\n",
              "      <td>0</td>\n",
              "      <td>2</td>\n",
              "      <td>1</td>\n",
              "      <td>1</td>\n",
              "      <td>0</td>\n",
              "      <td>0</td>\n",
              "      <td>1</td>\n",
              "      <td>0</td>\n",
              "      <td>0</td>\n",
              "      <td>0</td>\n",
              "      <td>1</td>\n",
              "      <td>0</td>\n",
              "      <td>1</td>\n",
              "      <td>1</td>\n",
              "      <td>150</td>\n",
              "      <td>41401</td>\n",
              "      <td>9238e4f44c71a75282e62f7136c6b240</td>\n",
              "      <td>0</td>\n",
              "      <td>Good guard dog, very alert, active, obedience ...</td>\n",
              "      <td>5842f1ff5</td>\n",
              "      <td>8</td>\n",
              "      <td>2</td>\n",
              "    </tr>\n",
              "    <tr>\n",
              "      <th>4</th>\n",
              "      <td>1</td>\n",
              "      <td>Hunter</td>\n",
              "      <td>1</td>\n",
              "      <td>307</td>\n",
              "      <td>0</td>\n",
              "      <td>1</td>\n",
              "      <td>0</td>\n",
              "      <td>0</td>\n",
              "      <td>1</td>\n",
              "      <td>0</td>\n",
              "      <td>0</td>\n",
              "      <td>2</td>\n",
              "      <td>1</td>\n",
              "      <td>0</td>\n",
              "      <td>1</td>\n",
              "      <td>0</td>\n",
              "      <td>0</td>\n",
              "      <td>1</td>\n",
              "      <td>0</td>\n",
              "      <td>0</td>\n",
              "      <td>1</td>\n",
              "      <td>0</td>\n",
              "      <td>1</td>\n",
              "      <td>1</td>\n",
              "      <td>0</td>\n",
              "      <td>41326</td>\n",
              "      <td>95481e953f8aed9ec3d16fc4509537e8</td>\n",
              "      <td>0</td>\n",
              "      <td>This handsome yet cute boy is up for adoption....</td>\n",
              "      <td>850a43f90</td>\n",
              "      <td>3</td>\n",
              "      <td>2</td>\n",
              "    </tr>\n",
              "    <tr>\n",
              "      <th>...</th>\n",
              "      <td>...</td>\n",
              "      <td>...</td>\n",
              "      <td>...</td>\n",
              "      <td>...</td>\n",
              "      <td>...</td>\n",
              "      <td>...</td>\n",
              "      <td>...</td>\n",
              "      <td>...</td>\n",
              "      <td>...</td>\n",
              "      <td>...</td>\n",
              "      <td>...</td>\n",
              "      <td>...</td>\n",
              "      <td>...</td>\n",
              "      <td>...</td>\n",
              "      <td>...</td>\n",
              "      <td>...</td>\n",
              "      <td>...</td>\n",
              "      <td>...</td>\n",
              "      <td>...</td>\n",
              "      <td>...</td>\n",
              "      <td>...</td>\n",
              "      <td>...</td>\n",
              "      <td>...</td>\n",
              "      <td>...</td>\n",
              "      <td>...</td>\n",
              "      <td>...</td>\n",
              "      <td>...</td>\n",
              "      <td>...</td>\n",
              "      <td>...</td>\n",
              "      <td>...</td>\n",
              "      <td>...</td>\n",
              "      <td>...</td>\n",
              "    </tr>\n",
              "    <tr>\n",
              "      <th>14988</th>\n",
              "      <td>2</td>\n",
              "      <td>NaN</td>\n",
              "      <td>2</td>\n",
              "      <td>266</td>\n",
              "      <td>0</td>\n",
              "      <td>0</td>\n",
              "      <td>0</td>\n",
              "      <td>1</td>\n",
              "      <td>1</td>\n",
              "      <td>0</td>\n",
              "      <td>0</td>\n",
              "      <td>2</td>\n",
              "      <td>2</td>\n",
              "      <td>0</td>\n",
              "      <td>1</td>\n",
              "      <td>0</td>\n",
              "      <td>0</td>\n",
              "      <td>1</td>\n",
              "      <td>0</td>\n",
              "      <td>0</td>\n",
              "      <td>1</td>\n",
              "      <td>0</td>\n",
              "      <td>1</td>\n",
              "      <td>4</td>\n",
              "      <td>0</td>\n",
              "      <td>41326</td>\n",
              "      <td>61c84bd7bcb6fb31d2d480b1bcf9682e</td>\n",
              "      <td>0</td>\n",
              "      <td>I have 4 kittens that need to be adopt urgentl...</td>\n",
              "      <td>dc0935a84</td>\n",
              "      <td>3</td>\n",
              "      <td>2</td>\n",
              "    </tr>\n",
              "    <tr>\n",
              "      <th>14989</th>\n",
              "      <td>2</td>\n",
              "      <td>Serato &amp; Eddie</td>\n",
              "      <td>60</td>\n",
              "      <td>265</td>\n",
              "      <td>264</td>\n",
              "      <td>0</td>\n",
              "      <td>0</td>\n",
              "      <td>1</td>\n",
              "      <td>1</td>\n",
              "      <td>4</td>\n",
              "      <td>7</td>\n",
              "      <td>2</td>\n",
              "      <td>2</td>\n",
              "      <td>1</td>\n",
              "      <td>0</td>\n",
              "      <td>0</td>\n",
              "      <td>1</td>\n",
              "      <td>0</td>\n",
              "      <td>0</td>\n",
              "      <td>1</td>\n",
              "      <td>0</td>\n",
              "      <td>0</td>\n",
              "      <td>1</td>\n",
              "      <td>2</td>\n",
              "      <td>0</td>\n",
              "      <td>41326</td>\n",
              "      <td>1d5096c4a5e159a3b750c5cfcf6ceabf</td>\n",
              "      <td>0</td>\n",
              "      <td>Serato(female cat- 3 color) is 4 years old and...</td>\n",
              "      <td>a01ab5b30</td>\n",
              "      <td>3</td>\n",
              "      <td>4</td>\n",
              "    </tr>\n",
              "    <tr>\n",
              "      <th>14990</th>\n",
              "      <td>2</td>\n",
              "      <td>Monkies</td>\n",
              "      <td>2</td>\n",
              "      <td>265</td>\n",
              "      <td>266</td>\n",
              "      <td>0</td>\n",
              "      <td>0</td>\n",
              "      <td>1</td>\n",
              "      <td>5</td>\n",
              "      <td>6</td>\n",
              "      <td>7</td>\n",
              "      <td>3</td>\n",
              "      <td>2</td>\n",
              "      <td>0</td>\n",
              "      <td>1</td>\n",
              "      <td>0</td>\n",
              "      <td>1</td>\n",
              "      <td>0</td>\n",
              "      <td>0</td>\n",
              "      <td>0</td>\n",
              "      <td>0</td>\n",
              "      <td>1</td>\n",
              "      <td>1</td>\n",
              "      <td>5</td>\n",
              "      <td>30</td>\n",
              "      <td>41326</td>\n",
              "      <td>6f40a7acfad5cc0bb3e44591ea446c05</td>\n",
              "      <td>0</td>\n",
              "      <td>Mix breed, good temperament kittens. Love huma...</td>\n",
              "      <td>d981b6395</td>\n",
              "      <td>5</td>\n",
              "      <td>3</td>\n",
              "    </tr>\n",
              "    <tr>\n",
              "      <th>14991</th>\n",
              "      <td>2</td>\n",
              "      <td>Ms Daym</td>\n",
              "      <td>9</td>\n",
              "      <td>266</td>\n",
              "      <td>0</td>\n",
              "      <td>0</td>\n",
              "      <td>1</td>\n",
              "      <td>0</td>\n",
              "      <td>4</td>\n",
              "      <td>7</td>\n",
              "      <td>0</td>\n",
              "      <td>1</td>\n",
              "      <td>1</td>\n",
              "      <td>1</td>\n",
              "      <td>0</td>\n",
              "      <td>0</td>\n",
              "      <td>1</td>\n",
              "      <td>0</td>\n",
              "      <td>0</td>\n",
              "      <td>1</td>\n",
              "      <td>0</td>\n",
              "      <td>0</td>\n",
              "      <td>1</td>\n",
              "      <td>1</td>\n",
              "      <td>0</td>\n",
              "      <td>41336</td>\n",
              "      <td>c311c0c569245baa147d91fa4e351ae4</td>\n",
              "      <td>0</td>\n",
              "      <td>she is very shy..adventures and independent..s...</td>\n",
              "      <td>e4da1c9e4</td>\n",
              "      <td>3</td>\n",
              "      <td>4</td>\n",
              "    </tr>\n",
              "    <tr>\n",
              "      <th>14992</th>\n",
              "      <td>1</td>\n",
              "      <td>Fili</td>\n",
              "      <td>1</td>\n",
              "      <td>307</td>\n",
              "      <td>307</td>\n",
              "      <td>1</td>\n",
              "      <td>0</td>\n",
              "      <td>0</td>\n",
              "      <td>2</td>\n",
              "      <td>0</td>\n",
              "      <td>0</td>\n",
              "      <td>2</td>\n",
              "      <td>1</td>\n",
              "      <td>0</td>\n",
              "      <td>1</td>\n",
              "      <td>0</td>\n",
              "      <td>0</td>\n",
              "      <td>1</td>\n",
              "      <td>0</td>\n",
              "      <td>0</td>\n",
              "      <td>1</td>\n",
              "      <td>0</td>\n",
              "      <td>1</td>\n",
              "      <td>1</td>\n",
              "      <td>0</td>\n",
              "      <td>41332</td>\n",
              "      <td>9ed1d5493d223eaa5024c1a031dbc9c2</td>\n",
              "      <td>0</td>\n",
              "      <td>Fili just loves laying around and also loves b...</td>\n",
              "      <td>a83d95ead</td>\n",
              "      <td>1</td>\n",
              "      <td>3</td>\n",
              "    </tr>\n",
              "  </tbody>\n",
              "</table>\n",
              "<p>14993 rows × 32 columns</p>\n",
              "</div>"
            ],
            "text/plain": [
              "       Type            Name  Age  ...      PetID  PhotoAmt  AdoptionSpeed\n",
              "0         2          Nibble    3  ...  86e1089a3         1              2\n",
              "1         2     No Name Yet    1  ...  6296e909a         2              0\n",
              "2         1          Brisco    1  ...  3422e4906         7              3\n",
              "3         1            Miko    4  ...  5842f1ff5         8              2\n",
              "4         1          Hunter    1  ...  850a43f90         3              2\n",
              "...     ...             ...  ...  ...        ...       ...            ...\n",
              "14988     2             NaN    2  ...  dc0935a84         3              2\n",
              "14989     2  Serato & Eddie   60  ...  a01ab5b30         3              4\n",
              "14990     2         Monkies    2  ...  d981b6395         5              3\n",
              "14991     2         Ms Daym    9  ...  e4da1c9e4         3              4\n",
              "14992     1            Fili    1  ...  a83d95ead         1              3\n",
              "\n",
              "[14993 rows x 32 columns]"
            ]
          },
          "metadata": {
            "tags": []
          },
          "execution_count": 2
        }
      ]
    },
    {
      "cell_type": "code",
      "metadata": {
        "id": "CPI2362fnkTp"
      },
      "source": [
        "X = df.iloc[:, np.r_[5:7,13:21]].values\r\n",
        "Y = df.iloc[:, 31].values"
      ],
      "execution_count": null,
      "outputs": []
    },
    {
      "cell_type": "code",
      "metadata": {
        "colab": {
          "base_uri": "https://localhost:8080/"
        },
        "id": "-lnvnLbWn4UG",
        "outputId": "c612d301-5774-4e0d-c32c-1fdb31f98073"
      },
      "source": [
        "X"
      ],
      "execution_count": null,
      "outputs": [
        {
          "output_type": "execute_result",
          "data": {
            "text/plain": [
              "array([[1, 0, 0, ..., 0, 0, 1],\n",
              "       [1, 0, 0, ..., 1, 0, 0],\n",
              "       [1, 0, 1, ..., 0, 0, 1],\n",
              "       ...,\n",
              "       [0, 0, 0, ..., 0, 0, 0],\n",
              "       [0, 1, 1, ..., 0, 1, 0],\n",
              "       [1, 0, 0, ..., 0, 0, 1]])"
            ]
          },
          "metadata": {
            "tags": []
          },
          "execution_count": 4
        }
      ]
    },
    {
      "cell_type": "code",
      "metadata": {
        "colab": {
          "base_uri": "https://localhost:8080/"
        },
        "id": "ePr34TvaoORY",
        "outputId": "0fe84c5c-d82c-4111-a082-ada40c84c057"
      },
      "source": [
        "Y"
      ],
      "execution_count": null,
      "outputs": [
        {
          "output_type": "execute_result",
          "data": {
            "text/plain": [
              "array([2, 0, 3, ..., 3, 4, 3])"
            ]
          },
          "metadata": {
            "tags": []
          },
          "execution_count": 5
        }
      ]
    },
    {
      "cell_type": "markdown",
      "metadata": {
        "id": "iZPd1SbaonyH"
      },
      "source": [
        "3. Dividir el data set en conjunto de entrenamiento y conjunto de testing"
      ]
    },
    {
      "cell_type": "code",
      "metadata": {
        "id": "cWIlzcu2otdN"
      },
      "source": [
        "from sklearn.model_selection import train_test_split\r\n",
        "X_train, X_test, Y_train, Y_test = train_test_split(X, Y, test_size = 0.25, random_state = 0)"
      ],
      "execution_count": null,
      "outputs": []
    },
    {
      "cell_type": "markdown",
      "metadata": {
        "id": "kGelOLovo-Mx"
      },
      "source": [
        "4. Escalado de variables"
      ]
    },
    {
      "cell_type": "code",
      "metadata": {
        "id": "q7m5ne65pDY5"
      },
      "source": [
        "from sklearn.preprocessing import StandardScaler\r\n",
        "sc_X = StandardScaler()\r\n",
        "X_train = sc_X.fit_transform(X_train)\r\n",
        "X_test = sc_X.transform(X_test)"
      ],
      "execution_count": null,
      "outputs": []
    },
    {
      "cell_type": "code",
      "metadata": {
        "colab": {
          "base_uri": "https://localhost:8080/"
        },
        "id": "r4AYVMf7pKyc",
        "outputId": "0510423e-5d34-4a15-dec6-79902357dbe8"
      },
      "source": [
        "X_train"
      ],
      "execution_count": null,
      "outputs": [
        {
          "output_type": "execute_result",
          "data": {
            "text/plain": [
              "array([[ 1.31320113, -0.97349243, -0.81428963, ..., -0.36673836,\n",
              "        -0.51333493,  0.70569228],\n",
              "       [-0.76149797,  1.02722935, -0.81428963, ..., -0.36673836,\n",
              "        -0.51333493,  0.70569228],\n",
              "       [ 1.31320113, -0.97349243,  1.22806428, ..., -0.36673836,\n",
              "         1.94804587, -1.41704823],\n",
              "       ...,\n",
              "       [ 1.31320113, -0.97349243, -0.81428963, ..., -0.36673836,\n",
              "        -0.51333493,  0.70569228],\n",
              "       [-0.76149797, -0.97349243, -0.81428963, ..., -0.36673836,\n",
              "        -0.51333493,  0.70569228],\n",
              "       [-0.76149797,  1.02722935,  1.22806428, ..., -0.36673836,\n",
              "         1.94804587, -1.41704823]])"
            ]
          },
          "metadata": {
            "tags": []
          },
          "execution_count": 8
        }
      ]
    },
    {
      "cell_type": "code",
      "metadata": {
        "colab": {
          "base_uri": "https://localhost:8080/"
        },
        "id": "KoFYzkoTpTwV",
        "outputId": "3596a491-768d-438a-cf15-5f9270a2caa2"
      },
      "source": [
        "X_test"
      ],
      "execution_count": null,
      "outputs": [
        {
          "output_type": "execute_result",
          "data": {
            "text/plain": [
              "array([[-0.76149797, -0.97349243, -0.81428963, ..., -0.36673836,\n",
              "        -0.51333493,  0.70569228],\n",
              "       [ 1.31320113, -0.97349243,  1.22806428, ..., -0.36673836,\n",
              "        -0.51333493,  0.70569228],\n",
              "       [-0.76149797,  1.02722935, -0.81428963, ..., -0.36673836,\n",
              "        -0.51333493,  0.70569228],\n",
              "       ...,\n",
              "       [-0.76149797,  1.02722935, -0.81428963, ..., -0.36673836,\n",
              "        -0.51333493,  0.70569228],\n",
              "       [ 1.31320113, -0.97349243, -0.81428963, ..., -0.36673836,\n",
              "        -0.51333493,  0.70569228],\n",
              "       [-0.76149797,  1.02722935,  1.22806428, ..., -0.36673836,\n",
              "        -0.51333493, -1.41704823]])"
            ]
          },
          "metadata": {
            "tags": []
          },
          "execution_count": 9
        }
      ]
    },
    {
      "cell_type": "markdown",
      "metadata": {
        "id": "E6ZfWDNYpdYC"
      },
      "source": [
        "5. Ajustar el clasificador en el Conjunto de Entrenamiento"
      ]
    },
    {
      "cell_type": "code",
      "metadata": {
        "colab": {
          "base_uri": "https://localhost:8080/"
        },
        "id": "LLkZt5WUpcMq",
        "outputId": "f28da99c-022c-4743-c32b-02834989ce0f"
      },
      "source": [
        "from sklearn.ensemble import RandomForestClassifier\r\n",
        "\r\n",
        "classifier = RandomForestClassifier(n_estimators=100, criterion=\"entropy\")\r\n",
        "classifier.fit(X_train, Y_train)"
      ],
      "execution_count": null,
      "outputs": [
        {
          "output_type": "execute_result",
          "data": {
            "text/plain": [
              "RandomForestClassifier(bootstrap=True, ccp_alpha=0.0, class_weight=None,\n",
              "                       criterion='gini', max_depth=None, max_features='auto',\n",
              "                       max_leaf_nodes=None, max_samples=None,\n",
              "                       min_impurity_decrease=0.0, min_impurity_split=None,\n",
              "                       min_samples_leaf=1, min_samples_split=2,\n",
              "                       min_weight_fraction_leaf=0.0, n_estimators=100,\n",
              "                       n_jobs=None, oob_score=False, random_state=0, verbose=0,\n",
              "                       warm_start=False)"
            ]
          },
          "metadata": {
            "tags": []
          },
          "execution_count": 10
        }
      ]
    },
    {
      "cell_type": "markdown",
      "metadata": {
        "id": "tTPdFIf5p6lr"
      },
      "source": [
        "6. Predicción de los resultados con el Conjunto de Testing"
      ]
    },
    {
      "cell_type": "code",
      "metadata": {
        "id": "I8HSLy2kp_g7"
      },
      "source": [
        "Y_pred  = classifier.predict(X_test)"
      ],
      "execution_count": null,
      "outputs": []
    },
    {
      "cell_type": "code",
      "metadata": {
        "colab": {
          "base_uri": "https://localhost:8080/"
        },
        "id": "lesyEipRqITG",
        "outputId": "199767d5-1c0b-404d-93f4-b89c5a938fc9"
      },
      "source": [
        "Y_pred"
      ],
      "execution_count": null,
      "outputs": [
        {
          "output_type": "execute_result",
          "data": {
            "text/plain": [
              "array([2, 2, 2, ..., 2, 2, 4])"
            ]
          },
          "metadata": {
            "tags": []
          },
          "execution_count": 12
        }
      ]
    },
    {
      "cell_type": "markdown",
      "metadata": {
        "id": "NAAejKy1qOJj"
      },
      "source": [
        "7. Elaborar una matriz de confusión"
      ]
    },
    {
      "cell_type": "code",
      "metadata": {
        "id": "Vs2xbkJFqPHE"
      },
      "source": [
        "from sklearn.metrics import confusion_matrix\r\n",
        "cm = confusion_matrix(Y_test, Y_pred)"
      ],
      "execution_count": null,
      "outputs": []
    },
    {
      "cell_type": "code",
      "metadata": {
        "colab": {
          "base_uri": "https://localhost:8080/"
        },
        "id": "7-Hm3mLiqdQ0",
        "outputId": "266a33b9-ecca-473d-ee28-6fe5acc66d3b"
      },
      "source": [
        "cm"
      ],
      "execution_count": null,
      "outputs": [
        {
          "output_type": "execute_result",
          "data": {
            "text/plain": [
              "array([[  0,   9,  58,   3,  24],\n",
              "       [  0, 111, 492,  25, 162],\n",
              "       [  0, 120, 607,  67, 232],\n",
              "       [  0,  65, 455,  60, 228],\n",
              "       [  0,  87, 456,  29, 459]])"
            ]
          },
          "metadata": {
            "tags": []
          },
          "execution_count": 14
        }
      ]
    },
    {
      "cell_type": "markdown",
      "metadata": {
        "id": "flg0AUs4rRTT"
      },
      "source": [
        "8. Accuracy"
      ]
    },
    {
      "cell_type": "code",
      "metadata": {
        "id": "cj2mXxEArUWf"
      },
      "source": [
        "from sklearn import metrics\r\n",
        "k_rango = range(1,100)\r\n",
        "scores = {}\r\n",
        "scores_list = []\r\n",
        "for k in k_rango:\r\n",
        "  scores[k] = metrics.accuracy_score(Y_test,Y_pred)\r\n",
        "  scores_list.append(metrics.accuracy_score(Y_test,Y_pred))"
      ],
      "execution_count": null,
      "outputs": []
    },
    {
      "cell_type": "code",
      "metadata": {
        "id": "QWUnkH5erwL5",
        "colab": {
          "base_uri": "https://localhost:8080/"
        },
        "outputId": "f567db40-2c67-4265-c64d-ec12c6cf9a2a"
      },
      "source": [
        "k_rango,scores_list"
      ],
      "execution_count": null,
      "outputs": [
        {
          "output_type": "execute_result",
          "data": {
            "text/plain": [
              "(range(1, 100),\n",
              " [0.3299546545745532,\n",
              "  0.3299546545745532,\n",
              "  0.3299546545745532,\n",
              "  0.3299546545745532,\n",
              "  0.3299546545745532,\n",
              "  0.3299546545745532,\n",
              "  0.3299546545745532,\n",
              "  0.3299546545745532,\n",
              "  0.3299546545745532,\n",
              "  0.3299546545745532,\n",
              "  0.3299546545745532,\n",
              "  0.3299546545745532,\n",
              "  0.3299546545745532,\n",
              "  0.3299546545745532,\n",
              "  0.3299546545745532,\n",
              "  0.3299546545745532,\n",
              "  0.3299546545745532,\n",
              "  0.3299546545745532,\n",
              "  0.3299546545745532,\n",
              "  0.3299546545745532,\n",
              "  0.3299546545745532,\n",
              "  0.3299546545745532,\n",
              "  0.3299546545745532,\n",
              "  0.3299546545745532,\n",
              "  0.3299546545745532,\n",
              "  0.3299546545745532,\n",
              "  0.3299546545745532,\n",
              "  0.3299546545745532,\n",
              "  0.3299546545745532,\n",
              "  0.3299546545745532,\n",
              "  0.3299546545745532,\n",
              "  0.3299546545745532,\n",
              "  0.3299546545745532,\n",
              "  0.3299546545745532,\n",
              "  0.3299546545745532,\n",
              "  0.3299546545745532,\n",
              "  0.3299546545745532,\n",
              "  0.3299546545745532,\n",
              "  0.3299546545745532,\n",
              "  0.3299546545745532,\n",
              "  0.3299546545745532,\n",
              "  0.3299546545745532,\n",
              "  0.3299546545745532,\n",
              "  0.3299546545745532,\n",
              "  0.3299546545745532,\n",
              "  0.3299546545745532,\n",
              "  0.3299546545745532,\n",
              "  0.3299546545745532,\n",
              "  0.3299546545745532,\n",
              "  0.3299546545745532,\n",
              "  0.3299546545745532,\n",
              "  0.3299546545745532,\n",
              "  0.3299546545745532,\n",
              "  0.3299546545745532,\n",
              "  0.3299546545745532,\n",
              "  0.3299546545745532,\n",
              "  0.3299546545745532,\n",
              "  0.3299546545745532,\n",
              "  0.3299546545745532,\n",
              "  0.3299546545745532,\n",
              "  0.3299546545745532,\n",
              "  0.3299546545745532,\n",
              "  0.3299546545745532,\n",
              "  0.3299546545745532,\n",
              "  0.3299546545745532,\n",
              "  0.3299546545745532,\n",
              "  0.3299546545745532,\n",
              "  0.3299546545745532,\n",
              "  0.3299546545745532,\n",
              "  0.3299546545745532,\n",
              "  0.3299546545745532,\n",
              "  0.3299546545745532,\n",
              "  0.3299546545745532,\n",
              "  0.3299546545745532,\n",
              "  0.3299546545745532,\n",
              "  0.3299546545745532,\n",
              "  0.3299546545745532,\n",
              "  0.3299546545745532,\n",
              "  0.3299546545745532,\n",
              "  0.3299546545745532,\n",
              "  0.3299546545745532,\n",
              "  0.3299546545745532,\n",
              "  0.3299546545745532,\n",
              "  0.3299546545745532,\n",
              "  0.3299546545745532,\n",
              "  0.3299546545745532,\n",
              "  0.3299546545745532,\n",
              "  0.3299546545745532,\n",
              "  0.3299546545745532,\n",
              "  0.3299546545745532,\n",
              "  0.3299546545745532,\n",
              "  0.3299546545745532,\n",
              "  0.3299546545745532,\n",
              "  0.3299546545745532,\n",
              "  0.3299546545745532,\n",
              "  0.3299546545745532,\n",
              "  0.3299546545745532,\n",
              "  0.3299546545745532,\n",
              "  0.3299546545745532])"
            ]
          },
          "metadata": {
            "tags": []
          },
          "execution_count": 16
        }
      ]
    },
    {
      "cell_type": "code",
      "metadata": {
        "id": "lHoeP_Vir1Aa",
        "colab": {
          "base_uri": "https://localhost:8080/",
          "height": 296
        },
        "outputId": "16ff291c-c2a6-4909-b011-52cb165e64d8"
      },
      "source": [
        "plt.plot(k_rango,scores_list)\r\n",
        "plt.xlabel('Valor de K')\r\n",
        "plt.ylabel('ValoR de Accuracy en Test')"
      ],
      "execution_count": null,
      "outputs": [
        {
          "output_type": "execute_result",
          "data": {
            "text/plain": [
              "Text(0, 0.5, 'ValoR de Accuracy en Test')"
            ]
          },
          "metadata": {
            "tags": []
          },
          "execution_count": 17
        },
        {
          "output_type": "display_data",
          "data": {
            "image/png": "[encoded data removed]",
            "text/plain": [
              "<Figure size 432x288 with 1 Axes>"
            ]
          },
          "metadata": {
            "tags": [],
            "needs_background": "light"
          }
        }
      ]
    }
  ]
}