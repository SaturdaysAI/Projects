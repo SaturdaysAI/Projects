{
  "nbformat": 4,
  "nbformat_minor": 0,
  "metadata": {
    "colab": {
      "name": "Recoleccion-Dataset.ipynb",
      "provenance": [],
      "collapsed_sections": [],
      "include_colab_link": true
    },
    "kernelspec": {
      "name": "python3",
      "display_name": "Python 3"
    },
    "language_info": {
      "name": "python"
    }
  },
  "cells": [
    {
      "cell_type": "markdown",
      "metadata": {
        "id": "view-in-github",
        "colab_type": "text"
      },
      "source": [
        "<a href=\"https://colab.research.google.com/github/DanielaCentellas/Coloracion-de-videos-/blob/main/Recoleccion_Dataset.ipynb\" target=\"_parent\"><img src=\"https://colab.research.google.com/assets/colab-badge.svg\" alt=\"Open In Colab\"/></a>"
      ]
    },
    {
      "cell_type": "code",
      "metadata": {
        "id": "0VTa6JQ_QQl-",
        "colab": {
          "base_uri": "https://localhost:8080/"
        },
        "outputId": "81a33ee2-8497-45c3-ac48-e210e8f0b134"
      },
      "source": [
        "from google.colab import drive\n",
        "drive.mount('/content/gdrive')"
      ],
      "execution_count": null,
      "outputs": [
        {
          "output_type": "stream",
          "name": "stdout",
          "text": [
            "Mounted at /content/gdrive\n"
          ]
        }
      ]
    },
    {
      "cell_type": "code",
      "metadata": {
        "id": "IDiFu1NC_-iI",
        "colab": {
          "base_uri": "https://localhost:8080/",
          "height": 35
        },
        "outputId": "61f4070e-c045-4978-d07a-f4155c2376a0"
      },
      "source": [
        "video = '/content/gdrive/MyDrive/Proyecto-AI/La_Paz-Bolivia_1943.mp4'"
      ],
      "execution_count": null,
      "outputs": [
        {
          "output_type": "execute_result",
          "data": {
            "application/vnd.google.colaboratory.intrinsic+json": {
              "type": "string"
            },
            "text/plain": [
              "'https://www.youtube.com/watch?v=V1ey32FuoTc\\nhttps://www.youtube.com/watch?v=rAaxsrrLqdI&t=9s\\nhttps://www.youtube.com/watch?v=M_cXDSifa_M'"
            ]
          },
          "metadata": {},
          "execution_count": 2
        }
      ]
    },
    {
      "cell_type": "code",
      "metadata": {
        "id": "z2ecKey4KPzk",
        "colab": {
          "base_uri": "https://localhost:8080/"
        },
        "outputId": "f1980f69-6aab-4a1e-fe50-ddd1a6beb6db"
      },
      "source": [
        "#color dataset\n",
        "import cv2\n",
        "import time\n",
        "\n",
        "vidcap = cv2.VideoCapture(video)\n",
        "vidcap.set(cv2.CAP_PROP_POS_MSEC, 1000)\n",
        "success,image = vidcap.read()\n",
        "\n",
        "count = 0\n",
        "\n",
        "while success:\n",
        "  start_time = time.time()\n",
        " \n",
        "  cv2.imwrite(\"/images%d.png\" % count, image)     # save frame as JPEG file\n",
        "        \n",
        "  success,image = vidcap.read()\n",
        "  if(count%100 == 0):\n",
        "    ak = cv2.imwrite(\"/content/gdrive/MyDrive/Proyecto-AI/images_video/\"+\"/images%d.png\" % count, image)\n",
        "    print('Read a new frame %d: '% count, success)\n",
        "  count += 1"
      ],
      "execution_count": null,
      "outputs": [
        {
          "output_type": "stream",
          "name": "stdout",
          "text": [
            "Read a new frame 0:  True\n",
            "Read a new frame 100:  True\n",
            "Read a new frame 200:  True\n",
            "Read a new frame 300:  True\n",
            "Read a new frame 400:  True\n",
            "Read a new frame 500:  True\n",
            "Read a new frame 600:  True\n",
            "Read a new frame 700:  True\n",
            "Read a new frame 800:  True\n",
            "Read a new frame 900:  True\n",
            "Read a new frame 1000:  True\n",
            "Read a new frame 1100:  True\n",
            "Read a new frame 1200:  True\n",
            "Read a new frame 1300:  True\n",
            "Read a new frame 1400:  True\n",
            "Read a new frame 1500:  True\n",
            "Read a new frame 1600:  True\n",
            "Read a new frame 1700:  True\n",
            "Read a new frame 1800:  True\n",
            "Read a new frame 1900:  True\n",
            "Read a new frame 2000:  True\n",
            "Read a new frame 2100:  True\n",
            "Read a new frame 2200:  True\n",
            "Read a new frame 2300:  True\n",
            "Read a new frame 2400:  True\n",
            "Read a new frame 2500:  True\n",
            "Read a new frame 2600:  True\n",
            "Read a new frame 2700:  True\n",
            "Read a new frame 2800:  True\n",
            "Read a new frame 2900:  True\n",
            "Read a new frame 3000:  True\n",
            "Read a new frame 3100:  True\n",
            "Read a new frame 3200:  True\n",
            "Read a new frame 3300:  True\n",
            "Read a new frame 3400:  True\n",
            "Read a new frame 3500:  True\n",
            "Read a new frame 3600:  True\n",
            "Read a new frame 3700:  True\n",
            "Read a new frame 3800:  True\n",
            "Read a new frame 3900:  True\n",
            "Read a new frame 4000:  True\n",
            "Read a new frame 4100:  True\n",
            "Read a new frame 4200:  True\n",
            "Read a new frame 4300:  True\n",
            "Read a new frame 4400:  True\n",
            "Read a new frame 4500:  True\n",
            "Read a new frame 4600:  True\n",
            "Read a new frame 4700:  True\n",
            "Read a new frame 4800:  True\n",
            "Read a new frame 4900:  True\n",
            "Read a new frame 5000:  True\n",
            "Read a new frame 5100:  True\n",
            "Read a new frame 5200:  True\n",
            "Read a new frame 5300:  True\n",
            "Read a new frame 5400:  True\n"
          ]
        }
      ]
    },
    {
      "cell_type": "code",
      "metadata": {
        "colab": {
          "base_uri": "https://localhost:8080/"
        },
        "id": "RvqAUb7yk4Ni",
        "outputId": "26685117-998f-4d98-82b7-d18be03b4191"
      },
      "source": [
        "#Gray dataset with count \n",
        "import cv2\n",
        "from skimage.color import rgb2gray\n",
        "import time\n",
        "\n",
        "vidcap = cv2.VideoCapture(video)\n",
        "vidcap.set(cv2.CAP_PROP_POS_MSEC, 2000)\n",
        "success,image = vidcap.read()\n",
        "\n",
        "count = 50000\n",
        "\n",
        "while success:\n",
        "  image_gray = cv2.cvtColor(image, cv2.COLOR_RGB2GRAY)\n",
        "  start_time = time.time()\n",
        " \n",
        "  #cv2.imwrite(\"/gray%d.png\" % count, image_gray)     # save frame as JPEG file\n",
        "        \n",
        "  success,image = vidcap.read()\n",
        "  if(count%500 == 0 and count>43010):\n",
        "    ak = cv2.imwrite(\"/content/gdrive/MyDrive/Proyecto-AI/color_images/\"+\"/color%d.png\" % count, image)\n",
        "    print('Read a new frame %d: '% count, success)\n",
        "  count += 1"
      ],
      "execution_count": null,
      "outputs": [
        {
          "output_type": "stream",
          "name": "stdout",
          "text": [
            "Read a new frame 43500:  True\n",
            "Read a new frame 44000:  True\n",
            "Read a new frame 44500:  True\n",
            "Read a new frame 45000:  True\n",
            "Read a new frame 45500:  True\n",
            "Read a new frame 46000:  True\n",
            "Read a new frame 46500:  True\n",
            "Read a new frame 47000:  True\n",
            "Read a new frame 47500:  True\n",
            "Read a new frame 48000:  True\n",
            "Read a new frame 48500:  True\n",
            "Read a new frame 49000:  True\n",
            "Read a new frame 49500:  True\n",
            "Read a new frame 50000:  True\n"
          ]
        }
      ]
    },
    {
      "cell_type": "code",
      "metadata": {
        "id": "2dVARvrtCT3y",
        "colab": {
          "base_uri": "https://localhost:8080/"
        },
        "outputId": "c04ff88e-4101-4706-ad42-edec8754a1bb"
      },
      "source": [
        "#Gray dataset\n",
        "import cv2\n",
        "from skimage.color import rgb2gray\n",
        "import time\n",
        "\n",
        "vidcap = cv2.VideoCapture(video)\n",
        "vidcap.set(cv2.CAP_PROP_POS_MSEC, 10000)\n",
        "success,image = vidcap.read()\n",
        "\n",
        "count = 59100\n",
        "\n",
        "while success:\n",
        "  image_gray = cv2.cvtColor(image, cv2.COLOR_RGB2GRAY)\n",
        "  start_time = time.time()\n",
        " \n",
        "  cv2.imwrite(\"/gray%d.png\" % count, image_gray)     # save frame as JPEG file\n",
        "        \n",
        "  success,image = vidcap.read()\n",
        "  if(count%100 == 0):\n",
        "    ak = cv2.imwrite(\"/content/gdrive/MyDrive/Proyecto-AI/gray_images/\"+\"/gray%d.png\" % count, image_gray)\n",
        "    print('Read a new frame %d: '% count, success)\n",
        "  count += 1"
      ],
      "execution_count": null,
      "outputs": [
        {
          "output_type": "stream",
          "name": "stdout",
          "text": [
            "Read a new frame 59100:  True\n",
            "Read a new frame 59200:  True\n",
            "Read a new frame 59300:  True\n",
            "Read a new frame 59400:  True\n",
            "Read a new frame 59500:  True\n",
            "Read a new frame 59600:  True\n",
            "Read a new frame 59700:  True\n",
            "Read a new frame 59800:  True\n",
            "Read a new frame 59900:  True\n",
            "Read a new frame 60000:  True\n",
            "Read a new frame 60100:  True\n",
            "Read a new frame 60200:  True\n",
            "Read a new frame 60300:  True\n",
            "Read a new frame 60400:  True\n",
            "Read a new frame 60500:  True\n",
            "Read a new frame 60600:  True\n",
            "Read a new frame 60700:  True\n",
            "Read a new frame 60800:  True\n",
            "Read a new frame 60900:  True\n",
            "Read a new frame 61000:  True\n",
            "Read a new frame 61100:  True\n",
            "Read a new frame 61200:  True\n",
            "Read a new frame 61300:  True\n"
          ]
        }
      ]
    },
    {
      "cell_type": "code",
      "metadata": {
        "id": "bYjMqBVl9rrq"
      },
      "source": [
        ""
      ],
      "execution_count": null,
      "outputs": []
    }
  ]
}